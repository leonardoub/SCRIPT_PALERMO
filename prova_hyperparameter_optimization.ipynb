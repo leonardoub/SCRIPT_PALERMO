{
  "nbformat": 4,
  "nbformat_minor": 0,
  "metadata": {
    "colab": {
      "name": "prova_hyperparameter_optimization.ipynb",
      "provenance": [],
      "collapsed_sections": [],
      "toc_visible": true,
      "include_colab_link": true
    },
    "kernelspec": {
      "name": "python3",
      "display_name": "Python 3"
    }
  },
  "cells": [
    {
      "cell_type": "markdown",
      "metadata": {
        "id": "view-in-github",
        "colab_type": "text"
      },
      "source": [
        "<a href=\"https://colab.research.google.com/github/leonardoub/SCRIPT_PALERMO/blob/master/prova_hyperparameter_optimization.ipynb\" target=\"_parent\"><img src=\"https://colab.research.google.com/assets/colab-badge.svg\" alt=\"Open In Colab\"/></a>"
      ]
    },
    {
      "cell_type": "code",
      "metadata": {
        "id": "pByFt-Wpz0FJ",
        "colab_type": "code",
        "colab": {}
      },
      "source": [
        "#!pip install -U keras-tuner"
      ],
      "execution_count": 0,
      "outputs": []
    },
    {
      "cell_type": "code",
      "metadata": {
        "id": "ck9uZtF_gzU7",
        "colab_type": "code",
        "colab": {}
      },
      "source": [
        "import pandas as pd\n",
        "import numpy as np\n",
        "import matplotlib.pyplot as plt\n",
        "import scipy"
      ],
      "execution_count": 0,
      "outputs": []
    },
    {
      "cell_type": "code",
      "metadata": {
        "id": "XAOLa8v0aVFK",
        "colab_type": "code",
        "colab": {}
      },
      "source": [
        "!rm -r my_dir"
      ],
      "execution_count": 0,
      "outputs": []
    },
    {
      "cell_type": "markdown",
      "metadata": {
        "id": "ln0sTf8q1IrI",
        "colab_type": "text"
      },
      "source": [
        "#Load data"
      ]
    },
    {
      "cell_type": "code",
      "metadata": {
        "id": "lyyNl4gxhEwD",
        "colab_type": "code",
        "outputId": "93aea2af-53d6-4143-cabd-583b45f21575",
        "colab": {
          "base_uri": "https://localhost:8080/",
          "height": 34
        }
      },
      "source": [
        "#load data from Drive\n",
        "from google.colab import drive\n",
        "drive.mount('/gdrive')\n",
        "#%cd /gdrive"
      ],
      "execution_count": 4,
      "outputs": [
        {
          "output_type": "stream",
          "text": [
            "Drive already mounted at /gdrive; to attempt to forcibly remount, call drive.mount(\"/gdrive\", force_remount=True).\n"
          ],
          "name": "stdout"
        }
      ]
    },
    {
      "cell_type": "code",
      "metadata": {
        "id": "UCkUXesZhMzg",
        "colab_type": "code",
        "colab": {}
      },
      "source": [
        "train_dataset_path = '/gdrive/My Drive/AIM_PA/database_training2.csv'\n",
        "test_dataset_path = '/gdrive/My Drive/AIM_PA/database_nostro_without_nan.csv'"
      ],
      "execution_count": 0,
      "outputs": []
    },
    {
      "cell_type": "code",
      "metadata": {
        "id": "TczPxOpEhTXw",
        "colab_type": "code",
        "colab": {}
      },
      "source": [
        "df_train = pd.read_csv(train_dataset_path)\n",
        "df_test = pd.read_csv(test_dataset_path)"
      ],
      "execution_count": 0,
      "outputs": []
    },
    {
      "cell_type": "code",
      "metadata": {
        "id": "Ll-87QSVhqhj",
        "colab_type": "code",
        "colab": {}
      },
      "source": [
        "df_train.rename(columns={'Survival.time (months)':'Surv_time_months'}, inplace=True)"
      ],
      "execution_count": 0,
      "outputs": []
    },
    {
      "cell_type": "code",
      "metadata": {
        "id": "ulSbeCedhuxJ",
        "colab_type": "code",
        "colab": {}
      },
      "source": [
        "df_test.rename(columns={'Survival.time (months)':'Surv_time_months'}, inplace=True)"
      ],
      "execution_count": 0,
      "outputs": []
    },
    {
      "cell_type": "code",
      "metadata": {
        "id": "xbcwLGg3iNSn",
        "colab_type": "code",
        "colab": {}
      },
      "source": [
        "df_train.rename(columns={'Overall.Stage':'Overall_Stage'}, inplace=True)\n",
        "df_test.rename(columns={'Overall.Stage':'Overall_Stage'}, inplace=True)"
      ],
      "execution_count": 0,
      "outputs": []
    },
    {
      "cell_type": "code",
      "metadata": {
        "id": "oKKv4iKghWWn",
        "colab_type": "code",
        "colab": {}
      },
      "source": [
        "train_data = df_train.drop(['Histology', 'Surv_time_months', 'OS', 'deadstatus.event','Overall_Stage'], axis=1)"
      ],
      "execution_count": 0,
      "outputs": []
    },
    {
      "cell_type": "code",
      "metadata": {
        "id": "vQdR4izXiT0f",
        "colab_type": "code",
        "colab": {}
      },
      "source": [
        "test_data = df_test.drop(['Histology', 'Surv_time_months', 'OS', 'deadstatus.event','Overall_Stage'], axis=1)"
      ],
      "execution_count": 0,
      "outputs": []
    },
    {
      "cell_type": "code",
      "metadata": {
        "id": "Lu46pqnPhnCG",
        "colab_type": "code",
        "colab": {}
      },
      "source": [
        "train_labels = df_train.Histology"
      ],
      "execution_count": 0,
      "outputs": []
    },
    {
      "cell_type": "code",
      "metadata": {
        "id": "aS5wIylYmsQf",
        "colab_type": "code",
        "colab": {}
      },
      "source": [
        "test_labels = df_test.Histology"
      ],
      "execution_count": 0,
      "outputs": []
    },
    {
      "cell_type": "markdown",
      "metadata": {
        "id": "dtPx7PMDnXM3",
        "colab_type": "text"
      },
      "source": [
        "##Z score dei dati"
      ]
    },
    {
      "cell_type": "code",
      "metadata": {
        "id": "XK4Qji2EnVV4",
        "colab_type": "code",
        "colab": {}
      },
      "source": [
        "mean = train_data.mean(axis=0)\n",
        "train_data_stand = train_data - mean\n",
        "std = train_data.std(axis=0)\n",
        "train_data_stand /= std"
      ],
      "execution_count": 0,
      "outputs": []
    },
    {
      "cell_type": "code",
      "metadata": {
        "id": "YOVOoNOvm0Yx",
        "colab_type": "code",
        "colab": {}
      },
      "source": [
        "test_data_stand = test_data - mean\n",
        "test_data_stand /= std"
      ],
      "execution_count": 0,
      "outputs": []
    },
    {
      "cell_type": "markdown",
      "metadata": {
        "id": "00VohsAyokpq",
        "colab_type": "text"
      },
      "source": [
        "##Vettorizzare i label"
      ]
    },
    {
      "cell_type": "code",
      "metadata": {
        "id": "8RvS_9ISpxRi",
        "colab_type": "code",
        "colab": {}
      },
      "source": [
        "word_index={'adenocarcinoma':0, 'large cell':1, 'squamous cell carcinoma':2}"
      ],
      "execution_count": 0,
      "outputs": []
    },
    {
      "cell_type": "code",
      "metadata": {
        "id": "uiPW9U0XrWY2",
        "colab_type": "code",
        "colab": {}
      },
      "source": [
        "train_labels_dec = [word_index[label] for label in train_labels]"
      ],
      "execution_count": 0,
      "outputs": []
    },
    {
      "cell_type": "code",
      "metadata": {
        "id": "C4SBiKFQsKFw",
        "colab_type": "code",
        "colab": {}
      },
      "source": [
        "test_labels_dec = [word_index[label] for label in test_labels]"
      ],
      "execution_count": 0,
      "outputs": []
    },
    {
      "cell_type": "code",
      "metadata": {
        "id": "0IMbTYR7okJq",
        "colab_type": "code",
        "colab": {
          "base_uri": "https://localhost:8080/",
          "height": 34
        },
        "outputId": "f5b7733e-2e63-4faf-d674-a4bceaa7635a"
      },
      "source": [
        "from keras.utils.np_utils import to_categorical"
      ],
      "execution_count": 19,
      "outputs": [
        {
          "output_type": "stream",
          "text": [
            "Using TensorFlow backend.\n"
          ],
          "name": "stderr"
        }
      ]
    },
    {
      "cell_type": "code",
      "metadata": {
        "id": "0Frv4FDNn6Qu",
        "colab_type": "code",
        "colab": {}
      },
      "source": [
        "one_hot_train_labels = to_categorical(train_labels_dec)\n",
        "one_hot_test_labels = to_categorical(test_labels_dec)"
      ],
      "execution_count": 0,
      "outputs": []
    },
    {
      "cell_type": "markdown",
      "metadata": {
        "id": "Mn0tkOGc3LKN",
        "colab_type": "text"
      },
      "source": [
        "#PCA"
      ]
    },
    {
      "cell_type": "code",
      "metadata": {
        "id": "oS76u6iu3Seg",
        "colab_type": "code",
        "colab": {}
      },
      "source": [
        "from sklearn.decomposition import PCA"
      ],
      "execution_count": 0,
      "outputs": []
    },
    {
      "cell_type": "code",
      "metadata": {
        "id": "KCjC4zqJ3bui",
        "colab_type": "code",
        "colab": {}
      },
      "source": [
        "pca = PCA(n_components=0.9, svd_solver='full')"
      ],
      "execution_count": 0,
      "outputs": []
    },
    {
      "cell_type": "code",
      "metadata": {
        "id": "dLUCf9qX4p_e",
        "colab_type": "code",
        "outputId": "57233e7c-3abe-435d-b68c-3da7bb6ee283",
        "colab": {
          "base_uri": "https://localhost:8080/",
          "height": 52
        }
      },
      "source": [
        "pca.fit(train_data_stand)"
      ],
      "execution_count": 23,
      "outputs": [
        {
          "output_type": "execute_result",
          "data": {
            "text/plain": [
              "PCA(copy=True, iterated_power='auto', n_components=0.9, random_state=None,\n",
              "    svd_solver='full', tol=0.0, whiten=False)"
            ]
          },
          "metadata": {
            "tags": []
          },
          "execution_count": 23
        }
      ]
    },
    {
      "cell_type": "code",
      "metadata": {
        "id": "QfyaKgNZ44o3",
        "colab_type": "code",
        "colab": {}
      },
      "source": [
        "train_data_stand_pca = pca.transform(train_data_stand)\n",
        "test_data_stand_pca = pca.transform(test_data_stand)"
      ],
      "execution_count": 0,
      "outputs": []
    },
    {
      "cell_type": "code",
      "metadata": {
        "id": "Uz9C4nl05b_g",
        "colab_type": "code",
        "outputId": "5ac10ca9-08cb-4a33-a8f3-5ea4f37af83f",
        "colab": {
          "base_uri": "https://localhost:8080/",
          "height": 34
        }
      },
      "source": [
        "train_data_stand_pca.shape"
      ],
      "execution_count": 25,
      "outputs": [
        {
          "output_type": "execute_result",
          "data": {
            "text/plain": [
              "(131, 9)"
            ]
          },
          "metadata": {
            "tags": []
          },
          "execution_count": 25
        }
      ]
    },
    {
      "cell_type": "markdown",
      "metadata": {
        "id": "8wSKvSu4s5ip",
        "colab_type": "text"
      },
      "source": [
        "#Building Network"
      ]
    },
    {
      "cell_type": "code",
      "metadata": {
        "id": "Osgm8ZvLpZh5",
        "colab_type": "code",
        "colab": {}
      },
      "source": [
        "from tensorflow import keras"
      ],
      "execution_count": 0,
      "outputs": []
    },
    {
      "cell_type": "code",
      "metadata": {
        "id": "sJTbHiq0D-4x",
        "colab_type": "code",
        "colab": {}
      },
      "source": [
        "from tensorflow.keras import layers\n",
        "from tensorflow.keras.preprocessing import sequence"
      ],
      "execution_count": 0,
      "outputs": []
    },
    {
      "cell_type": "code",
      "metadata": {
        "id": "ShwM6YMqsxxJ",
        "colab_type": "code",
        "colab": {}
      },
      "source": [
        "from tensorflow.keras import layers"
      ],
      "execution_count": 0,
      "outputs": []
    },
    {
      "cell_type": "code",
      "metadata": {
        "id": "IAzbu7P1VylY",
        "colab_type": "code",
        "colab": {}
      },
      "source": [
        "from tensorflow.keras import regularizers"
      ],
      "execution_count": 0,
      "outputs": []
    },
    {
      "cell_type": "code",
      "metadata": {
        "id": "dyqbUCK5wOVt",
        "colab_type": "code",
        "colab": {}
      },
      "source": [
        "from tensorflow.keras.optimizers import SGD"
      ],
      "execution_count": 0,
      "outputs": []
    },
    {
      "cell_type": "code",
      "metadata": {
        "id": "j9FrfCYxFHmF",
        "colab_type": "code",
        "colab": {}
      },
      "source": [
        "from tensorflow.keras.optimizers import Adam"
      ],
      "execution_count": 0,
      "outputs": []
    },
    {
      "cell_type": "code",
      "metadata": {
        "id": "KutkQ9Noj5mb",
        "colab_type": "code",
        "colab": {}
      },
      "source": [
        "from kerastuner.tuners import RandomSearch, Hyperband"
      ],
      "execution_count": 0,
      "outputs": []
    },
    {
      "cell_type": "code",
      "metadata": {
        "id": "7OAEgN31tHVV",
        "colab_type": "code",
        "colab": {}
      },
      "source": [
        "def build_model(hp):\n",
        "  model = keras.models.Sequential()\n",
        "  activation = hp.Choice('activation', ['softmax', 'softplus', 'softsign',\n",
        "                              'relu', 'tanh', 'sigmoid', 'hard_sigmoid', 'linear'])\n",
        "  \n",
        "  weight_init = hp.Choice('weight_init', \n",
        "                            ['uniform', 'lecun_uniform', 'normal', 'zero', 'glorot_normal', 'glorot_uniform', 'he_normal', 'he_uniform'])\n",
        "  \n",
        "  drop_rate = hp.Choice('drop_rate', [0.0, 0.1, 0.2, 0.3,\n",
        "                              0.4, 0.5, 0.6, 0.7, 0.8, 0.9])\n",
        "  \n",
        "  model.add(layers.Dense(units=(hp.Int('units', min_value=3, max_value=8, step=1)), \n",
        "                         activation=activation, kernel_initializer=weight_init, input_shape=(9,)))\n",
        "  \n",
        "  model.add(layers.Dropout(rate=drop_rate))\n",
        "\n",
        "  model.add(layers.Dense(3, activation='softmax'))\n",
        "  #sgd_1 = SGD(lr=0.001, decay=1e-6, momentum=0.5, nesterov=True)\n",
        " \n",
        "  #optimizer = hp.Choice('optimizer', ['adam', 'sgd', 'rmsprop'])\n",
        "\n",
        "  lr = hp.Choice('learning_rate', [1e-2, 1e-3, 1e-4])\n",
        "  #momentum = hp.Choice('momentum', [0.0, 0.2, 0.4, 0.6, 0.8, 0.9])\n",
        "  \n",
        "  model.compile(optimizer=keras.optimizers.Adam(lr), \n",
        "                loss='categorical_crossentropy', metrics=['accuracy'])\n",
        "  return model"
      ],
      "execution_count": 0,
      "outputs": []
    },
    {
      "cell_type": "markdown",
      "metadata": {
        "id": "mIxDu50pBeiz",
        "colab_type": "text"
      },
      "source": [
        "#Stratified k-fold"
      ]
    },
    {
      "cell_type": "markdown",
      "metadata": {
        "id": "ZyLcvedUBpxA",
        "colab_type": "text"
      },
      "source": [
        "This cross-validation object is a variation of KFold that returns stratified folds. The folds are made by preserving the percentage of samples for each class."
      ]
    },
    {
      "cell_type": "code",
      "metadata": {
        "id": "fY1apcZ19gFp",
        "colab_type": "code",
        "colab": {}
      },
      "source": [
        "from sklearn.model_selection import StratifiedKFold"
      ],
      "execution_count": 0,
      "outputs": []
    },
    {
      "cell_type": "code",
      "metadata": {
        "id": "oaBDM-PtBx5V",
        "colab_type": "code",
        "outputId": "7c1018da-242c-47eb-8010-d85544453fa7",
        "colab": {
          "base_uri": "https://localhost:8080/",
          "height": 34
        }
      },
      "source": [
        "skf = StratifiedKFold(n_splits=3, shuffle=True, random_state=1)\n",
        "skf.get_n_splits(train_data_stand_pca, train_labels_dec)"
      ],
      "execution_count": 35,
      "outputs": [
        {
          "output_type": "execute_result",
          "data": {
            "text/plain": [
              "3"
            ]
          },
          "metadata": {
            "tags": []
          },
          "execution_count": 35
        }
      ]
    },
    {
      "cell_type": "code",
      "metadata": {
        "id": "Me-XQzPyD1gi",
        "colab_type": "code",
        "outputId": "88106d2e-dd2a-4e96-844c-9aa25a933a2e",
        "colab": {
          "base_uri": "https://localhost:8080/",
          "height": 402
        }
      },
      "source": [
        "for train_index, test_index in skf.split(train_data_stand_pca, train_labels_dec):\n",
        "    print(\"TRAIN:\", train_index, \"TEST:\", test_index)"
      ],
      "execution_count": 36,
      "outputs": [
        {
          "output_type": "stream",
          "text": [
            "TRAIN: [  0   1   4   5   8   9  11  12  14  15  16  17  19  20  22  23  24  25\n",
            "  27  29  30  33  34  36  37  38  39  40  41  42  44  45  46  48  51  52\n",
            "  53  56  57  58  59  60  62  63  65  66  67  69  72  76  77  78  79  80\n",
            "  81  83  84  85  87  88  89  90  92  96  97  98 100 101 102 103 104 105\n",
            " 107 109 110 111 113 115 117 120 121 122 124 125 127 128] TEST: [  2   3   6   7  10  13  18  21  26  28  31  32  35  43  47  49  50  54\n",
            "  55  61  64  68  70  71  73  74  75  82  86  91  93  94  95  99 106 108\n",
            " 112 114 116 118 119 123 126 129 130]\n",
            "TRAIN: [  2   3   5   6   7   8   9  10  11  12  13  18  20  21  25  26  27  28\n",
            "  29  30  31  32  34  35  36  38  39  43  44  45  46  47  48  49  50  53\n",
            "  54  55  57  58  61  63  64  65  66  68  70  71  73  74  75  76  78  82\n",
            "  84  85  86  87  90  91  92  93  94  95  96  99 100 101 102 105 106 108\n",
            " 109 111 112 114 115 116 118 119 122 123 124 125 126 127 129 130] TEST: [  0   1   4  14  15  16  17  19  22  23  24  33  37  40  41  42  51  52\n",
            "  56  59  60  62  67  69  72  77  79  80  81  83  88  89  97  98 103 104\n",
            " 107 110 113 117 120 121 128]\n",
            "TRAIN: [  0   1   2   3   4   6   7  10  13  14  15  16  17  18  19  21  22  23\n",
            "  24  26  28  31  32  33  35  37  40  41  42  43  47  49  50  51  52  54\n",
            "  55  56  59  60  61  62  64  67  68  69  70  71  72  73  74  75  77  79\n",
            "  80  81  82  83  86  88  89  91  93  94  95  97  98  99 103 104 106 107\n",
            " 108 110 112 113 114 116 117 118 119 120 121 123 126 128 129 130] TEST: [  5   8   9  11  12  20  25  27  29  30  34  36  38  39  44  45  46  48\n",
            "  53  57  58  63  65  66  76  78  84  85  87  90  92  96 100 101 102 105\n",
            " 109 111 115 122 124 125 127]\n"
          ],
          "name": "stdout"
        }
      ]
    },
    {
      "cell_type": "code",
      "metadata": {
        "id": "BgdGK-8FK-U_",
        "colab_type": "code",
        "outputId": "47b40c61-6954-4d45-f3db-bc4bdbac9963",
        "colab": {
          "base_uri": "https://localhost:8080/",
          "height": 34
        }
      },
      "source": [
        "train_labels_dec[125]"
      ],
      "execution_count": 37,
      "outputs": [
        {
          "output_type": "execute_result",
          "data": {
            "text/plain": [
              "2"
            ]
          },
          "metadata": {
            "tags": []
          },
          "execution_count": 37
        }
      ]
    },
    {
      "cell_type": "code",
      "metadata": {
        "id": "sBJg0XD4Shhc",
        "colab_type": "code",
        "colab": {}
      },
      "source": [
        "from keras.utils import to_categorical\n"
      ],
      "execution_count": 0,
      "outputs": []
    },
    {
      "cell_type": "code",
      "metadata": {
        "id": "a5Sq8r9GEPx3",
        "colab_type": "code",
        "colab": {}
      },
      "source": [
        "#for train_index, val_index in skf.split(train_data_stand_pca, train_labels_dec):\n",
        " \n",
        "#  partial_train_data = np.array([train_data_stand_pca[i] for i in train_index])\n",
        "#  partial_train_targets = np.array([train_labels_dec[i] for i in train_index])\n",
        "\n",
        "#  val_data = np.array([train_data_stand_pca[i] for i in val_index])\n",
        "#  val_targets = np.array([train_labels_dec[i] for i in val_index])\n",
        "\n",
        "#  one_hot_partial_train_targets = to_categorical(partial_train_targets)\n",
        "#  one_hot_val_targets = to_categorical(val_targets)\n",
        "\n",
        "#  model = build_model()\n",
        "#  model.fit(partial_train_data, one_hot_partial_train_targets, epochs = num_epochs, batch_size=1)\n",
        "\n",
        "#  val_loss, val_accuracy = model.evaluate(val_data, one_hot_val_targets)\n",
        "#  all_scores.append(val_accuracy)\n",
        "#I parametri per la valutazione vengono calcolati una volta per ogni k-fold, per ogni set di validazione, quindi k volte"
      ],
      "execution_count": 0,
      "outputs": []
    },
    {
      "cell_type": "markdown",
      "metadata": {
        "id": "2X5B3lasRcsR",
        "colab_type": "text"
      },
      "source": [
        "C'è un problema: keras.utils.to_categorical produces a one-hot encoded class vector, i.e. the multilabel-indicator mentioned in the error message. StratifiedKFold is not designed to work with such input; i.e. your y must be a 1-D array of your class labels.\n",
        "Essentially, what you have to do is simply to invert the order of the operations: split first (using your intial y_train), and convert to_categorical afterwards."
      ]
    },
    {
      "cell_type": "markdown",
      "metadata": {
        "id": "5yP9-PE1Wjz-",
        "colab_type": "text"
      },
      "source": [
        "###Keras tuner RandomSearch"
      ]
    },
    {
      "cell_type": "code",
      "metadata": {
        "colab_type": "code",
        "outputId": "4bc25cbb-f4c7-47d3-de5e-4b64bff246dd",
        "id": "oHDM8LE39gTU",
        "colab": {
          "base_uri": "https://localhost:8080/",
          "height": 1000
        }
      },
      "source": [
        "num_epochs = 30\n",
        "all_acc_histories = []\n",
        "all_loss_histories = []\n",
        "all_val_acc_histories = []\n",
        "all_val_loss_histories = []\n",
        "\n",
        "for train_index, val_index in skf.split(train_data_stand_pca, train_labels_dec):\n",
        " \n",
        "  partial_train_data = np.array([train_data_stand_pca[i] for i in train_index])\n",
        "  partial_train_targets = np.array([train_labels_dec[i] for i in train_index])\n",
        "  \n",
        "  val_data = np.array([train_data_stand_pca[i] for i in val_index])\n",
        "  val_targets = np.array([train_labels_dec[i] for i in val_index])\n",
        "\n",
        "  one_hot_partial_train_targets = to_categorical(partial_train_targets)\n",
        "  one_hot_val_targets = to_categorical(val_targets)\n",
        "\n",
        " \n",
        "  tuner = RandomSearch(build_model, objective='val_accuracy', max_trials=20, \n",
        "                       executions_per_trial=5, directory='/content/my_dir', project_name='RandomSearch')\n",
        "  \n",
        "  tuner.search_space_summary()\n",
        "\n",
        "  tuner.search(partial_train_data, one_hot_partial_train_targets, validation_data=(val_data, one_hot_val_targets), \n",
        "                      epochs=num_epochs, batch_size=1)\n",
        "  \n",
        "\n",
        "#  acc_history = history.history['acc']\n",
        "#  all_acc_histories.append(acc_history)\n",
        "\n",
        "#  loss_history = history.history['loss']\n",
        "#  all_loss_histories.append(loss_history)\n",
        "\n",
        "#  acc_val_history = history.history['val_acc']\n",
        "#  all_val_acc_histories.append(acc_val_history)\n",
        "\n",
        "#  loss_val_history = history.history['val_loss']\n",
        "#  all_val_loss_histories.append(loss_val_history)\n",
        "  \n",
        "\n",
        "#I parametri per la valutazione vengono calcolati per ogni epoca, quindi num_epochs volte. \n",
        "#Il tutto viene ripetuto un numero di volte pari a n_splits.\n",
        "#Si ottiene una lista con n_splits elementi ciascuno dei quali è una lista lunga num_epochs,\n",
        "#ogni elemento può essere uno fra questi: dict_keys(['val_loss', 'val_acc', 'loss', 'acc']) "
      ],
      "execution_count": 40,
      "outputs": [
        {
          "output_type": "display_data",
          "data": {
            "text/html": [
              "<span style=\"color:#4527A0\"><h1 style=\"font-size:18px\">Search space summary</h1></span>"
            ],
            "text/plain": [
              "<IPython.core.display.HTML object>"
            ]
          },
          "metadata": {
            "tags": []
          }
        },
        {
          "output_type": "display_data",
          "data": {
            "text/html": [
              "<span style=\"color:cyan\"> |-Default search space size: 5</span>"
            ],
            "text/plain": [
              "<IPython.core.display.HTML object>"
            ]
          },
          "metadata": {
            "tags": []
          }
        },
        {
          "output_type": "display_data",
          "data": {
            "text/html": [
              "<span style=\"color:#7E57C2\"><h2 style=\"font-size:16px\">activation (Choice)</h2></span>"
            ],
            "text/plain": [
              "<IPython.core.display.HTML object>"
            ]
          },
          "metadata": {
            "tags": []
          }
        },
        {
          "output_type": "display_data",
          "data": {
            "text/html": [
              "<span style=\"color:cyan\"> |-default: softmax</span>"
            ],
            "text/plain": [
              "<IPython.core.display.HTML object>"
            ]
          },
          "metadata": {
            "tags": []
          }
        },
        {
          "output_type": "display_data",
          "data": {
            "text/html": [
              "<span style=\"color:blue\"> |-ordered: False</span>"
            ],
            "text/plain": [
              "<IPython.core.display.HTML object>"
            ]
          },
          "metadata": {
            "tags": []
          }
        },
        {
          "output_type": "display_data",
          "data": {
            "text/html": [
              "<span style=\"color:cyan\"> |-values: ['softmax', 'softplus', 'softsign', 'relu', 'tanh', 'sigmoid', 'hard_sigmoid', 'linear']</span>"
            ],
            "text/plain": [
              "<IPython.core.display.HTML object>"
            ]
          },
          "metadata": {
            "tags": []
          }
        },
        {
          "output_type": "display_data",
          "data": {
            "text/html": [
              "<span style=\"color:#7E57C2\"><h2 style=\"font-size:16px\">weight_init (Choice)</h2></span>"
            ],
            "text/plain": [
              "<IPython.core.display.HTML object>"
            ]
          },
          "metadata": {
            "tags": []
          }
        },
        {
          "output_type": "display_data",
          "data": {
            "text/html": [
              "<span style=\"color:cyan\"> |-default: uniform</span>"
            ],
            "text/plain": [
              "<IPython.core.display.HTML object>"
            ]
          },
          "metadata": {
            "tags": []
          }
        },
        {
          "output_type": "display_data",
          "data": {
            "text/html": [
              "<span style=\"color:blue\"> |-ordered: False</span>"
            ],
            "text/plain": [
              "<IPython.core.display.HTML object>"
            ]
          },
          "metadata": {
            "tags": []
          }
        },
        {
          "output_type": "display_data",
          "data": {
            "text/html": [
              "<span style=\"color:cyan\"> |-values: ['uniform', 'lecun_uniform', 'normal', 'zero', 'glorot_normal', 'glorot_uniform', 'he_normal', 'he_uniform']</span>"
            ],
            "text/plain": [
              "<IPython.core.display.HTML object>"
            ]
          },
          "metadata": {
            "tags": []
          }
        },
        {
          "output_type": "display_data",
          "data": {
            "text/html": [
              "<span style=\"color:#7E57C2\"><h2 style=\"font-size:16px\">drop_rate (Choice)</h2></span>"
            ],
            "text/plain": [
              "<IPython.core.display.HTML object>"
            ]
          },
          "metadata": {
            "tags": []
          }
        },
        {
          "output_type": "display_data",
          "data": {
            "text/html": [
              "<span style=\"color:cyan\"> |-default: 0.0</span>"
            ],
            "text/plain": [
              "<IPython.core.display.HTML object>"
            ]
          },
          "metadata": {
            "tags": []
          }
        },
        {
          "output_type": "display_data",
          "data": {
            "text/html": [
              "<span style=\"color:blue\"> |-ordered: True</span>"
            ],
            "text/plain": [
              "<IPython.core.display.HTML object>"
            ]
          },
          "metadata": {
            "tags": []
          }
        },
        {
          "output_type": "display_data",
          "data": {
            "text/html": [
              "<span style=\"color:cyan\"> |-values: [0.0, 0.1, 0.2, 0.3, 0.4, 0.5, 0.6, 0.7, 0.8, 0.9]</span>"
            ],
            "text/plain": [
              "<IPython.core.display.HTML object>"
            ]
          },
          "metadata": {
            "tags": []
          }
        },
        {
          "output_type": "display_data",
          "data": {
            "text/html": [
              "<span style=\"color:#7E57C2\"><h2 style=\"font-size:16px\">units (Int)</h2></span>"
            ],
            "text/plain": [
              "<IPython.core.display.HTML object>"
            ]
          },
          "metadata": {
            "tags": []
          }
        },
        {
          "output_type": "display_data",
          "data": {
            "text/html": [
              "<span style=\"color:cyan\"> |-default: None</span>"
            ],
            "text/plain": [
              "<IPython.core.display.HTML object>"
            ]
          },
          "metadata": {
            "tags": []
          }
        },
        {
          "output_type": "display_data",
          "data": {
            "text/html": [
              "<span style=\"color:blue\"> |-max_value: 8</span>"
            ],
            "text/plain": [
              "<IPython.core.display.HTML object>"
            ]
          },
          "metadata": {
            "tags": []
          }
        },
        {
          "output_type": "display_data",
          "data": {
            "text/html": [
              "<span style=\"color:cyan\"> |-min_value: 3</span>"
            ],
            "text/plain": [
              "<IPython.core.display.HTML object>"
            ]
          },
          "metadata": {
            "tags": []
          }
        },
        {
          "output_type": "display_data",
          "data": {
            "text/html": [
              "<span style=\"color:blue\"> |-sampling: None</span>"
            ],
            "text/plain": [
              "<IPython.core.display.HTML object>"
            ]
          },
          "metadata": {
            "tags": []
          }
        },
        {
          "output_type": "display_data",
          "data": {
            "text/html": [
              "<span style=\"color:cyan\"> |-step: 1</span>"
            ],
            "text/plain": [
              "<IPython.core.display.HTML object>"
            ]
          },
          "metadata": {
            "tags": []
          }
        },
        {
          "output_type": "display_data",
          "data": {
            "text/html": [
              "<span style=\"color:#7E57C2\"><h2 style=\"font-size:16px\">learning_rate (Choice)</h2></span>"
            ],
            "text/plain": [
              "<IPython.core.display.HTML object>"
            ]
          },
          "metadata": {
            "tags": []
          }
        },
        {
          "output_type": "display_data",
          "data": {
            "text/html": [
              "<span style=\"color:cyan\"> |-default: 0.01</span>"
            ],
            "text/plain": [
              "<IPython.core.display.HTML object>"
            ]
          },
          "metadata": {
            "tags": []
          }
        },
        {
          "output_type": "display_data",
          "data": {
            "text/html": [
              "<span style=\"color:blue\"> |-ordered: True</span>"
            ],
            "text/plain": [
              "<IPython.core.display.HTML object>"
            ]
          },
          "metadata": {
            "tags": []
          }
        },
        {
          "output_type": "display_data",
          "data": {
            "text/html": [
              "<span style=\"color:cyan\"> |-values: [0.01, 0.001, 0.0001]</span>"
            ],
            "text/plain": [
              "<IPython.core.display.HTML object>"
            ]
          },
          "metadata": {
            "tags": []
          }
        },
        {
          "output_type": "stream",
          "text": [
            "WARNING:tensorflow:Large dropout rate: 0.6 (>0.5). In TensorFlow 2.x, dropout() uses dropout rate instead of keep_prob. Please ensure that this is intended.\n",
            "Train on 86 samples, validate on 45 samples\n",
            "Epoch 1/30\n",
            "WARNING:tensorflow:Large dropout rate: 0.6 (>0.5). In TensorFlow 2.x, dropout() uses dropout rate instead of keep_prob. Please ensure that this is intended.\n",
            "WARNING:tensorflow:Large dropout rate: 0.6 (>0.5). In TensorFlow 2.x, dropout() uses dropout rate instead of keep_prob. Please ensure that this is intended.\n",
            "86/86 [==============================] - 1s 7ms/sample - loss: 1.2082 - accuracy: 0.4070 - val_loss: 0.9957 - val_accuracy: 0.4000\n",
            "Epoch 2/30\n",
            "86/86 [==============================] - 0s 2ms/sample - loss: 1.0585 - accuracy: 0.4419 - val_loss: 1.0270 - val_accuracy: 0.4000\n",
            "Epoch 3/30\n",
            "86/86 [==============================] - 0s 2ms/sample - loss: 1.0116 - accuracy: 0.5581 - val_loss: 0.9919 - val_accuracy: 0.5111\n",
            "Epoch 4/30\n",
            "86/86 [==============================] - 0s 2ms/sample - loss: 0.9163 - accuracy: 0.5233 - val_loss: 0.9782 - val_accuracy: 0.5111\n",
            "Epoch 5/30\n",
            "86/86 [==============================] - 0s 2ms/sample - loss: 0.9067 - accuracy: 0.5814 - val_loss: 0.9954 - val_accuracy: 0.5111\n",
            "Epoch 6/30\n",
            "86/86 [==============================] - 0s 2ms/sample - loss: 0.9573 - accuracy: 0.5581 - val_loss: 1.0072 - val_accuracy: 0.4444\n",
            "Epoch 7/30\n",
            "86/86 [==============================] - 0s 2ms/sample - loss: 1.0063 - accuracy: 0.5233 - val_loss: 0.9998 - val_accuracy: 0.5333\n",
            "Epoch 8/30\n",
            "86/86 [==============================] - 0s 2ms/sample - loss: 0.9580 - accuracy: 0.5116 - val_loss: 0.9843 - val_accuracy: 0.5111\n",
            "Epoch 9/30\n",
            "86/86 [==============================] - 0s 2ms/sample - loss: 0.9182 - accuracy: 0.4884 - val_loss: 0.9773 - val_accuracy: 0.5333\n",
            "Epoch 10/30\n",
            "86/86 [==============================] - 0s 2ms/sample - loss: 0.9384 - accuracy: 0.5581 - val_loss: 1.0115 - val_accuracy: 0.5111\n",
            "Epoch 11/30\n",
            "86/86 [==============================] - 0s 2ms/sample - loss: 0.9543 - accuracy: 0.4767 - val_loss: 1.0007 - val_accuracy: 0.5333\n",
            "Epoch 12/30\n",
            "86/86 [==============================] - 0s 2ms/sample - loss: 0.9211 - accuracy: 0.5698 - val_loss: 1.0224 - val_accuracy: 0.5333\n",
            "Epoch 13/30\n",
            "86/86 [==============================] - 0s 2ms/sample - loss: 1.0681 - accuracy: 0.5581 - val_loss: 0.9886 - val_accuracy: 0.4889\n",
            "Epoch 14/30\n",
            "86/86 [==============================] - 0s 2ms/sample - loss: 0.9571 - accuracy: 0.5465 - val_loss: 1.0064 - val_accuracy: 0.5333\n",
            "Epoch 15/30\n",
            "86/86 [==============================] - 0s 2ms/sample - loss: 0.9640 - accuracy: 0.5116 - val_loss: 1.0076 - val_accuracy: 0.5333\n",
            "Epoch 16/30\n",
            "86/86 [==============================] - 0s 2ms/sample - loss: 0.9258 - accuracy: 0.5349 - val_loss: 0.9996 - val_accuracy: 0.4667\n",
            "Epoch 17/30\n",
            "86/86 [==============================] - 0s 2ms/sample - loss: 0.9081 - accuracy: 0.6047 - val_loss: 1.0355 - val_accuracy: 0.5333\n",
            "Epoch 18/30\n",
            "86/86 [==============================] - 0s 2ms/sample - loss: 0.9410 - accuracy: 0.4767 - val_loss: 1.0006 - val_accuracy: 0.5111\n",
            "Epoch 19/30\n",
            "86/86 [==============================] - 0s 2ms/sample - loss: 0.9520 - accuracy: 0.5349 - val_loss: 1.0467 - val_accuracy: 0.5556\n",
            "Epoch 20/30\n",
            "86/86 [==============================] - 0s 2ms/sample - loss: 0.8675 - accuracy: 0.6395 - val_loss: 1.1825 - val_accuracy: 0.5111\n",
            "Epoch 21/30\n",
            "86/86 [==============================] - 0s 2ms/sample - loss: 0.9378 - accuracy: 0.6047 - val_loss: 1.0483 - val_accuracy: 0.5111\n",
            "Epoch 22/30\n",
            "86/86 [==============================] - 0s 2ms/sample - loss: 1.0893 - accuracy: 0.5116 - val_loss: 1.0294 - val_accuracy: 0.5556\n",
            "Epoch 23/30\n",
            "86/86 [==============================] - 0s 2ms/sample - loss: 0.9631 - accuracy: 0.5930 - val_loss: 1.0106 - val_accuracy: 0.4889\n",
            "Epoch 24/30\n",
            "86/86 [==============================] - 0s 2ms/sample - loss: 0.9082 - accuracy: 0.6163 - val_loss: 1.0697 - val_accuracy: 0.5333\n",
            "Epoch 25/30\n",
            "86/86 [==============================] - 0s 2ms/sample - loss: 0.9097 - accuracy: 0.6163 - val_loss: 1.1092 - val_accuracy: 0.5778\n",
            "Epoch 26/30\n",
            "86/86 [==============================] - 0s 2ms/sample - loss: 0.8810 - accuracy: 0.5930 - val_loss: 1.1666 - val_accuracy: 0.5556\n",
            "Epoch 27/30\n",
            "86/86 [==============================] - 0s 2ms/sample - loss: 0.8847 - accuracy: 0.6163 - val_loss: 1.0885 - val_accuracy: 0.5556\n",
            "Epoch 28/30\n",
            "86/86 [==============================] - 0s 2ms/sample - loss: 0.9950 - accuracy: 0.4535 - val_loss: 1.0557 - val_accuracy: 0.5333\n",
            "Epoch 29/30\n",
            "86/86 [==============================] - 0s 2ms/sample - loss: 0.9320 - accuracy: 0.5930 - val_loss: 1.0852 - val_accuracy: 0.5111\n",
            "Epoch 30/30\n",
            "86/86 [==============================] - 0s 2ms/sample - loss: 0.9320 - accuracy: 0.5814 - val_loss: 1.0141 - val_accuracy: 0.4889\n",
            "WARNING:tensorflow:Large dropout rate: 0.6 (>0.5). In TensorFlow 2.x, dropout() uses dropout rate instead of keep_prob. Please ensure that this is intended.\n",
            "Train on 86 samples, validate on 45 samples\n",
            "Epoch 1/30\n",
            "WARNING:tensorflow:Large dropout rate: 0.6 (>0.5). In TensorFlow 2.x, dropout() uses dropout rate instead of keep_prob. Please ensure that this is intended.\n",
            "86/86 [==============================] - 1s 6ms/sample - loss: 1.1987 - accuracy: 0.3023 - val_loss: 1.0063 - val_accuracy: 0.4000\n",
            "Epoch 2/30\n",
            "86/86 [==============================] - 0s 2ms/sample - loss: 1.1388 - accuracy: 0.5116 - val_loss: 0.9738 - val_accuracy: 0.4444\n",
            "Epoch 3/30\n",
            "86/86 [==============================] - 0s 2ms/sample - loss: 0.9455 - accuracy: 0.4186 - val_loss: 1.0059 - val_accuracy: 0.4222\n",
            "Epoch 4/30\n",
            "86/86 [==============================] - 0s 2ms/sample - loss: 1.1541 - accuracy: 0.4302 - val_loss: 0.9929 - val_accuracy: 0.4444\n",
            "Epoch 5/30\n",
            "86/86 [==============================] - 0s 2ms/sample - loss: 0.9514 - accuracy: 0.4651 - val_loss: 0.9896 - val_accuracy: 0.5333\n",
            "Epoch 6/30\n",
            "86/86 [==============================] - 0s 2ms/sample - loss: 1.0619 - accuracy: 0.4302 - val_loss: 0.9793 - val_accuracy: 0.4444\n",
            "Epoch 7/30\n",
            "86/86 [==============================] - 0s 2ms/sample - loss: 1.0067 - accuracy: 0.4884 - val_loss: 0.9810 - val_accuracy: 0.4889\n",
            "Epoch 8/30\n",
            "86/86 [==============================] - 0s 2ms/sample - loss: 0.9700 - accuracy: 0.4302 - val_loss: 0.9754 - val_accuracy: 0.4667\n",
            "Epoch 9/30\n",
            "86/86 [==============================] - 0s 2ms/sample - loss: 1.0097 - accuracy: 0.4767 - val_loss: 0.9756 - val_accuracy: 0.4889\n",
            "Epoch 10/30\n",
            "86/86 [==============================] - 0s 2ms/sample - loss: 0.9350 - accuracy: 0.5233 - val_loss: 0.9680 - val_accuracy: 0.5556\n",
            "Epoch 11/30\n",
            "86/86 [==============================] - 0s 2ms/sample - loss: 0.9695 - accuracy: 0.5116 - val_loss: 1.0278 - val_accuracy: 0.4889\n",
            "Epoch 12/30\n",
            "86/86 [==============================] - 0s 2ms/sample - loss: 0.9643 - accuracy: 0.4767 - val_loss: 0.9724 - val_accuracy: 0.5333\n",
            "Epoch 13/30\n",
            "86/86 [==============================] - 0s 2ms/sample - loss: 0.9527 - accuracy: 0.5349 - val_loss: 0.9937 - val_accuracy: 0.5333\n",
            "Epoch 14/30\n",
            "86/86 [==============================] - 0s 2ms/sample - loss: 1.0063 - accuracy: 0.4651 - val_loss: 0.9749 - val_accuracy: 0.5333\n",
            "Epoch 15/30\n",
            "86/86 [==============================] - 0s 2ms/sample - loss: 0.9968 - accuracy: 0.5233 - val_loss: 0.9967 - val_accuracy: 0.4222\n",
            "Epoch 16/30\n",
            "86/86 [==============================] - 0s 2ms/sample - loss: 0.8909 - accuracy: 0.5814 - val_loss: 1.0171 - val_accuracy: 0.5556\n",
            "Epoch 17/30\n",
            "86/86 [==============================] - 0s 2ms/sample - loss: 0.9695 - accuracy: 0.5000 - val_loss: 0.9994 - val_accuracy: 0.5111\n",
            "Epoch 18/30\n",
            "86/86 [==============================] - 0s 2ms/sample - loss: 0.9449 - accuracy: 0.5000 - val_loss: 1.0040 - val_accuracy: 0.5111\n",
            "Epoch 19/30\n",
            "86/86 [==============================] - 0s 2ms/sample - loss: 0.9390 - accuracy: 0.5698 - val_loss: 1.0323 - val_accuracy: 0.4889\n",
            "Epoch 20/30\n",
            "86/86 [==============================] - 0s 2ms/sample - loss: 0.9480 - accuracy: 0.5698 - val_loss: 0.9986 - val_accuracy: 0.5333\n",
            "Epoch 21/30\n",
            "86/86 [==============================] - 0s 2ms/sample - loss: 0.9415 - accuracy: 0.5233 - val_loss: 1.0140 - val_accuracy: 0.5333\n",
            "Epoch 22/30\n",
            "86/86 [==============================] - 0s 2ms/sample - loss: 0.9241 - accuracy: 0.5814 - val_loss: 0.9909 - val_accuracy: 0.4667\n",
            "Epoch 23/30\n",
            "86/86 [==============================] - 0s 2ms/sample - loss: 0.9272 - accuracy: 0.5581 - val_loss: 1.0343 - val_accuracy: 0.5111\n",
            "Epoch 24/30\n",
            "86/86 [==============================] - 0s 2ms/sample - loss: 1.0112 - accuracy: 0.5465 - val_loss: 1.0654 - val_accuracy: 0.4889\n",
            "Epoch 25/30\n",
            "86/86 [==============================] - 0s 2ms/sample - loss: 0.9299 - accuracy: 0.5814 - val_loss: 1.0547 - val_accuracy: 0.4889\n",
            "Epoch 26/30\n",
            "86/86 [==============================] - 0s 2ms/sample - loss: 0.9572 - accuracy: 0.5465 - val_loss: 0.9887 - val_accuracy: 0.4889\n",
            "Epoch 27/30\n",
            "86/86 [==============================] - 0s 2ms/sample - loss: 0.9267 - accuracy: 0.5349 - val_loss: 1.0521 - val_accuracy: 0.5556\n",
            "Epoch 28/30\n",
            "86/86 [==============================] - 0s 2ms/sample - loss: 0.9398 - accuracy: 0.5698 - val_loss: 0.9981 - val_accuracy: 0.5111\n",
            "Epoch 29/30\n",
            "86/86 [==============================] - 0s 2ms/sample - loss: 0.9477 - accuracy: 0.5116 - val_loss: 1.0028 - val_accuracy: 0.4667\n",
            "Epoch 30/30\n",
            "86/86 [==============================] - 0s 2ms/sample - loss: 0.9109 - accuracy: 0.5116 - val_loss: 1.0115 - val_accuracy: 0.5111\n",
            "Train on 86 samples, validate on 45 samples\n",
            "Epoch 1/30\n",
            "86/86 [==============================] - 1s 6ms/sample - loss: 1.2363 - accuracy: 0.5581 - val_loss: 1.0140 - val_accuracy: 0.6000\n",
            "Epoch 2/30\n",
            "86/86 [==============================] - 0s 2ms/sample - loss: 1.0924 - accuracy: 0.4419 - val_loss: 0.9831 - val_accuracy: 0.5556\n",
            "Epoch 3/30\n",
            "86/86 [==============================] - 0s 2ms/sample - loss: 1.0427 - accuracy: 0.5000 - val_loss: 0.9820 - val_accuracy: 0.5111\n",
            "Epoch 4/30\n",
            "86/86 [==============================] - 0s 2ms/sample - loss: 0.9482 - accuracy: 0.5116 - val_loss: 0.9727 - val_accuracy: 0.5111\n",
            "Epoch 5/30\n",
            "86/86 [==============================] - 0s 2ms/sample - loss: 0.9993 - accuracy: 0.4419 - val_loss: 0.9661 - val_accuracy: 0.4667\n",
            "Epoch 6/30\n",
            "86/86 [==============================] - 0s 2ms/sample - loss: 1.0393 - accuracy: 0.4302 - val_loss: 0.9876 - val_accuracy: 0.5111\n",
            "Epoch 7/30\n",
            "86/86 [==============================] - 0s 2ms/sample - loss: 1.0147 - accuracy: 0.4884 - val_loss: 0.9897 - val_accuracy: 0.5111\n",
            "Epoch 8/30\n",
            "86/86 [==============================] - 0s 2ms/sample - loss: 0.9927 - accuracy: 0.5000 - val_loss: 0.9853 - val_accuracy: 0.4667\n",
            "Epoch 9/30\n",
            "86/86 [==============================] - 0s 2ms/sample - loss: 1.0093 - accuracy: 0.4535 - val_loss: 0.9854 - val_accuracy: 0.4000\n",
            "Epoch 10/30\n",
            "86/86 [==============================] - 0s 2ms/sample - loss: 0.9922 - accuracy: 0.4186 - val_loss: 0.9731 - val_accuracy: 0.5111\n",
            "Epoch 11/30\n",
            "86/86 [==============================] - 0s 2ms/sample - loss: 1.0007 - accuracy: 0.5000 - val_loss: 0.9886 - val_accuracy: 0.5111\n",
            "Epoch 12/30\n",
            "86/86 [==============================] - 0s 2ms/sample - loss: 0.9963 - accuracy: 0.3953 - val_loss: 0.9828 - val_accuracy: 0.5778\n",
            "Epoch 13/30\n",
            "86/86 [==============================] - 0s 2ms/sample - loss: 0.9117 - accuracy: 0.5465 - val_loss: 0.9709 - val_accuracy: 0.5333\n",
            "Epoch 14/30\n",
            "86/86 [==============================] - 0s 2ms/sample - loss: 1.0544 - accuracy: 0.4884 - val_loss: 0.9669 - val_accuracy: 0.4889\n",
            "Epoch 15/30\n",
            "86/86 [==============================] - 0s 2ms/sample - loss: 0.9626 - accuracy: 0.5349 - val_loss: 0.9764 - val_accuracy: 0.5333\n",
            "Epoch 16/30\n",
            "86/86 [==============================] - 0s 2ms/sample - loss: 0.9506 - accuracy: 0.5000 - val_loss: 1.0010 - val_accuracy: 0.5111\n",
            "Epoch 17/30\n",
            "86/86 [==============================] - 0s 2ms/sample - loss: 0.9020 - accuracy: 0.5465 - val_loss: 1.0211 - val_accuracy: 0.5556\n",
            "Epoch 18/30\n",
            "86/86 [==============================] - 0s 2ms/sample - loss: 0.9214 - accuracy: 0.5814 - val_loss: 1.0012 - val_accuracy: 0.5111\n",
            "Epoch 19/30\n",
            "86/86 [==============================] - 0s 2ms/sample - loss: 1.0149 - accuracy: 0.5349 - val_loss: 1.0169 - val_accuracy: 0.4889\n",
            "Epoch 20/30\n",
            "86/86 [==============================] - 0s 2ms/sample - loss: 0.9378 - accuracy: 0.5116 - val_loss: 1.0167 - val_accuracy: 0.5111\n",
            "Epoch 21/30\n",
            "86/86 [==============================] - 0s 2ms/sample - loss: 0.9879 - accuracy: 0.4302 - val_loss: 0.9957 - val_accuracy: 0.4667\n",
            "Epoch 22/30\n",
            "86/86 [==============================] - 0s 2ms/sample - loss: 0.9416 - accuracy: 0.5349 - val_loss: 0.9944 - val_accuracy: 0.5333\n",
            "Epoch 23/30\n",
            "86/86 [==============================] - 0s 2ms/sample - loss: 0.9482 - accuracy: 0.5116 - val_loss: 1.0043 - val_accuracy: 0.5111\n",
            "Epoch 24/30\n",
            "86/86 [==============================] - 0s 2ms/sample - loss: 0.9648 - accuracy: 0.5000 - val_loss: 1.0058 - val_accuracy: 0.5333\n",
            "Epoch 25/30\n",
            "86/86 [==============================] - 0s 2ms/sample - loss: 0.9731 - accuracy: 0.4535 - val_loss: 0.9966 - val_accuracy: 0.4889\n",
            "Epoch 26/30\n",
            "86/86 [==============================] - 0s 2ms/sample - loss: 0.9512 - accuracy: 0.4651 - val_loss: 0.9964 - val_accuracy: 0.5111\n",
            "Epoch 27/30\n",
            "86/86 [==============================] - 0s 2ms/sample - loss: 0.9614 - accuracy: 0.4651 - val_loss: 0.9901 - val_accuracy: 0.5333\n",
            "Epoch 28/30\n",
            "86/86 [==============================] - 0s 2ms/sample - loss: 0.8736 - accuracy: 0.5465 - val_loss: 1.0468 - val_accuracy: 0.5111\n",
            "Epoch 29/30\n",
            "86/86 [==============================] - 0s 2ms/sample - loss: 0.9652 - accuracy: 0.4535 - val_loss: 1.0006 - val_accuracy: 0.5333\n",
            "Epoch 30/30\n",
            "86/86 [==============================] - 0s 2ms/sample - loss: 0.9676 - accuracy: 0.4535 - val_loss: 1.0286 - val_accuracy: 0.5333\n",
            "Train on 86 samples, validate on 45 samples\n",
            "Epoch 1/30\n",
            "86/86 [==============================] - 1s 6ms/sample - loss: 1.3564 - accuracy: 0.3023 - val_loss: 0.9953 - val_accuracy: 0.5333\n",
            "Epoch 2/30\n",
            "86/86 [==============================] - 0s 2ms/sample - loss: 1.0998 - accuracy: 0.4651 - val_loss: 0.9914 - val_accuracy: 0.5778\n",
            "Epoch 3/30\n",
            "86/86 [==============================] - 0s 2ms/sample - loss: 0.9611 - accuracy: 0.4535 - val_loss: 0.9724 - val_accuracy: 0.6000\n",
            "Epoch 4/30\n",
            "86/86 [==============================] - 0s 2ms/sample - loss: 0.9339 - accuracy: 0.5349 - val_loss: 0.9790 - val_accuracy: 0.5556\n",
            "Epoch 5/30\n",
            "86/86 [==============================] - 0s 2ms/sample - loss: 1.0471 - accuracy: 0.4302 - val_loss: 0.9804 - val_accuracy: 0.4889\n",
            "Epoch 6/30\n",
            "86/86 [==============================] - 0s 2ms/sample - loss: 0.9471 - accuracy: 0.5581 - val_loss: 0.9843 - val_accuracy: 0.5556\n",
            "Epoch 7/30\n",
            "86/86 [==============================] - 0s 2ms/sample - loss: 0.9505 - accuracy: 0.4419 - val_loss: 0.9828 - val_accuracy: 0.5333\n",
            "Epoch 8/30\n",
            "86/86 [==============================] - 0s 2ms/sample - loss: 1.0071 - accuracy: 0.5465 - val_loss: 0.9935 - val_accuracy: 0.5333\n",
            "Epoch 9/30\n",
            "86/86 [==============================] - 0s 2ms/sample - loss: 0.9681 - accuracy: 0.4651 - val_loss: 1.0029 - val_accuracy: 0.5556\n",
            "Epoch 10/30\n",
            "86/86 [==============================] - 0s 2ms/sample - loss: 0.9643 - accuracy: 0.4302 - val_loss: 0.9923 - val_accuracy: 0.4889\n",
            "Epoch 11/30\n",
            "86/86 [==============================] - 0s 2ms/sample - loss: 0.9387 - accuracy: 0.5116 - val_loss: 1.0045 - val_accuracy: 0.5111\n",
            "Epoch 12/30\n",
            "86/86 [==============================] - 0s 2ms/sample - loss: 0.9786 - accuracy: 0.5116 - val_loss: 1.0029 - val_accuracy: 0.5333\n",
            "Epoch 13/30\n",
            "86/86 [==============================] - 0s 2ms/sample - loss: 0.8930 - accuracy: 0.4884 - val_loss: 0.9976 - val_accuracy: 0.5333\n",
            "Epoch 14/30\n",
            "86/86 [==============================] - 0s 2ms/sample - loss: 0.9538 - accuracy: 0.5233 - val_loss: 0.9959 - val_accuracy: 0.5333\n",
            "Epoch 15/30\n",
            "86/86 [==============================] - 0s 2ms/sample - loss: 0.9850 - accuracy: 0.4070 - val_loss: 1.0025 - val_accuracy: 0.4444\n",
            "Epoch 16/30\n",
            "86/86 [==============================] - 0s 2ms/sample - loss: 0.9912 - accuracy: 0.4419 - val_loss: 0.9825 - val_accuracy: 0.5333\n",
            "Epoch 17/30\n",
            "86/86 [==============================] - 0s 2ms/sample - loss: 0.9809 - accuracy: 0.5581 - val_loss: 0.9938 - val_accuracy: 0.5333\n",
            "Epoch 18/30\n",
            "86/86 [==============================] - 0s 2ms/sample - loss: 0.9119 - accuracy: 0.5581 - val_loss: 0.9934 - val_accuracy: 0.5333\n",
            "Epoch 19/30\n",
            "86/86 [==============================] - 0s 2ms/sample - loss: 0.9299 - accuracy: 0.5233 - val_loss: 0.9932 - val_accuracy: 0.5556\n",
            "Epoch 20/30\n",
            "86/86 [==============================] - 0s 2ms/sample - loss: 0.9899 - accuracy: 0.4302 - val_loss: 0.9879 - val_accuracy: 0.4889\n",
            "Epoch 21/30\n",
            "86/86 [==============================] - 0s 2ms/sample - loss: 0.9694 - accuracy: 0.5233 - val_loss: 0.9903 - val_accuracy: 0.4667\n",
            "Epoch 22/30\n",
            "86/86 [==============================] - 0s 2ms/sample - loss: 0.9688 - accuracy: 0.4884 - val_loss: 1.0305 - val_accuracy: 0.4667\n",
            "Epoch 23/30\n",
            "86/86 [==============================] - 0s 2ms/sample - loss: 0.9253 - accuracy: 0.5233 - val_loss: 1.0623 - val_accuracy: 0.5333\n",
            "Epoch 24/30\n",
            "86/86 [==============================] - 0s 2ms/sample - loss: 0.9767 - accuracy: 0.4535 - val_loss: 1.0090 - val_accuracy: 0.5333\n",
            "Epoch 25/30\n",
            "86/86 [==============================] - 0s 2ms/sample - loss: 0.9568 - accuracy: 0.4186 - val_loss: 1.0150 - val_accuracy: 0.5111\n",
            "Epoch 26/30\n",
            "86/86 [==============================] - 0s 2ms/sample - loss: 0.9906 - accuracy: 0.4535 - val_loss: 0.9798 - val_accuracy: 0.4667\n",
            "Epoch 27/30\n",
            "86/86 [==============================] - 0s 2ms/sample - loss: 0.9234 - accuracy: 0.5465 - val_loss: 1.0195 - val_accuracy: 0.5333\n",
            "Epoch 28/30\n",
            "86/86 [==============================] - 0s 2ms/sample - loss: 0.9043 - accuracy: 0.4884 - val_loss: 1.0243 - val_accuracy: 0.5556\n",
            "Epoch 29/30\n",
            "86/86 [==============================] - 0s 2ms/sample - loss: 0.9487 - accuracy: 0.4302 - val_loss: 1.0500 - val_accuracy: 0.5556\n",
            "Epoch 30/30\n",
            "86/86 [==============================] - 0s 2ms/sample - loss: 0.9931 - accuracy: 0.3953 - val_loss: 1.0098 - val_accuracy: 0.5111\n",
            "Train on 86 samples, validate on 45 samples\n",
            "Epoch 1/30\n",
            "86/86 [==============================] - 1s 6ms/sample - loss: 1.2162 - accuracy: 0.4302 - val_loss: 0.9952 - val_accuracy: 0.5333\n",
            "Epoch 2/30\n",
            "86/86 [==============================] - 0s 2ms/sample - loss: 0.9880 - accuracy: 0.5233 - val_loss: 1.0042 - val_accuracy: 0.5333\n",
            "Epoch 3/30\n",
            "86/86 [==============================] - 0s 2ms/sample - loss: 1.0686 - accuracy: 0.5698 - val_loss: 0.9844 - val_accuracy: 0.5778\n",
            "Epoch 4/30\n",
            "86/86 [==============================] - 0s 2ms/sample - loss: 1.0401 - accuracy: 0.4884 - val_loss: 0.9693 - val_accuracy: 0.4889\n",
            "Epoch 5/30\n",
            "86/86 [==============================] - 0s 2ms/sample - loss: 1.0592 - accuracy: 0.5930 - val_loss: 0.9804 - val_accuracy: 0.5333\n",
            "Epoch 6/30\n",
            "86/86 [==============================] - 0s 2ms/sample - loss: 0.9026 - accuracy: 0.5233 - val_loss: 0.9883 - val_accuracy: 0.5333\n",
            "Epoch 7/30\n",
            "86/86 [==============================] - 0s 2ms/sample - loss: 1.0042 - accuracy: 0.5116 - val_loss: 0.9908 - val_accuracy: 0.5111\n",
            "Epoch 8/30\n",
            "86/86 [==============================] - 0s 2ms/sample - loss: 1.0161 - accuracy: 0.5698 - val_loss: 0.9772 - val_accuracy: 0.4667\n",
            "Epoch 9/30\n",
            "86/86 [==============================] - 0s 2ms/sample - loss: 0.9486 - accuracy: 0.5233 - val_loss: 0.9700 - val_accuracy: 0.5111\n",
            "Epoch 10/30\n",
            "86/86 [==============================] - 0s 2ms/sample - loss: 0.9690 - accuracy: 0.4767 - val_loss: 0.9720 - val_accuracy: 0.5556\n",
            "Epoch 11/30\n",
            "86/86 [==============================] - 0s 2ms/sample - loss: 0.9401 - accuracy: 0.5349 - val_loss: 0.9924 - val_accuracy: 0.5111\n",
            "Epoch 12/30\n",
            "86/86 [==============================] - 0s 2ms/sample - loss: 0.9454 - accuracy: 0.4767 - val_loss: 0.9814 - val_accuracy: 0.5333\n",
            "Epoch 13/30\n",
            "86/86 [==============================] - 0s 2ms/sample - loss: 0.9573 - accuracy: 0.5233 - val_loss: 1.0064 - val_accuracy: 0.5111\n",
            "Epoch 14/30\n",
            "86/86 [==============================] - 0s 2ms/sample - loss: 0.9514 - accuracy: 0.5581 - val_loss: 0.9828 - val_accuracy: 0.5111\n",
            "Epoch 15/30\n",
            "86/86 [==============================] - 0s 2ms/sample - loss: 1.0217 - accuracy: 0.4302 - val_loss: 1.0094 - val_accuracy: 0.4889\n",
            "Epoch 16/30\n",
            "86/86 [==============================] - 0s 2ms/sample - loss: 0.9764 - accuracy: 0.5000 - val_loss: 0.9889 - val_accuracy: 0.4667\n",
            "Epoch 17/30\n",
            "86/86 [==============================] - 0s 2ms/sample - loss: 0.9662 - accuracy: 0.5116 - val_loss: 1.0092 - val_accuracy: 0.5556\n",
            "Epoch 18/30\n",
            "86/86 [==============================] - 0s 2ms/sample - loss: 0.9242 - accuracy: 0.5233 - val_loss: 1.0344 - val_accuracy: 0.5556\n",
            "Epoch 19/30\n",
            "86/86 [==============================] - 0s 2ms/sample - loss: 0.9854 - accuracy: 0.4767 - val_loss: 0.9847 - val_accuracy: 0.5556\n",
            "Epoch 20/30\n",
            "86/86 [==============================] - 0s 2ms/sample - loss: 0.9682 - accuracy: 0.5465 - val_loss: 0.9980 - val_accuracy: 0.5333\n",
            "Epoch 21/30\n",
            "86/86 [==============================] - 0s 2ms/sample - loss: 0.8956 - accuracy: 0.6047 - val_loss: 1.0379 - val_accuracy: 0.5556\n",
            "Epoch 22/30\n",
            "86/86 [==============================] - 0s 2ms/sample - loss: 0.9057 - accuracy: 0.5930 - val_loss: 1.0151 - val_accuracy: 0.5556\n",
            "Epoch 23/30\n",
            "86/86 [==============================] - 0s 2ms/sample - loss: 0.8794 - accuracy: 0.5814 - val_loss: 1.0532 - val_accuracy: 0.5556\n",
            "Epoch 24/30\n",
            "86/86 [==============================] - 0s 2ms/sample - loss: 0.9544 - accuracy: 0.5814 - val_loss: 1.1044 - val_accuracy: 0.4667\n",
            "Epoch 25/30\n",
            "86/86 [==============================] - 0s 2ms/sample - loss: 0.9038 - accuracy: 0.5814 - val_loss: 1.0814 - val_accuracy: 0.5556\n",
            "Epoch 26/30\n",
            "86/86 [==============================] - 0s 2ms/sample - loss: 0.9514 - accuracy: 0.6047 - val_loss: 1.0348 - val_accuracy: 0.5111\n",
            "Epoch 27/30\n",
            "86/86 [==============================] - 0s 2ms/sample - loss: 0.9991 - accuracy: 0.5581 - val_loss: 1.0371 - val_accuracy: 0.5333\n",
            "Epoch 28/30\n",
            "86/86 [==============================] - 0s 2ms/sample - loss: 0.9216 - accuracy: 0.5465 - val_loss: 1.0864 - val_accuracy: 0.4889\n",
            "Epoch 29/30\n",
            "86/86 [==============================] - 0s 2ms/sample - loss: 0.9361 - accuracy: 0.5698 - val_loss: 1.0318 - val_accuracy: 0.5556\n",
            "Epoch 30/30\n",
            "86/86 [==============================] - 0s 2ms/sample - loss: 0.8806 - accuracy: 0.5698 - val_loss: 1.1615 - val_accuracy: 0.4889\n"
          ],
          "name": "stdout"
        },
        {
          "output_type": "display_data",
          "data": {
            "text/html": [
              "<span style=\"color:#4527A0\"><h1 style=\"font-size:18px\">Trial complete</h1></span>"
            ],
            "text/plain": [
              "<IPython.core.display.HTML object>"
            ]
          },
          "metadata": {
            "tags": []
          }
        },
        {
          "output_type": "display_data",
          "data": {
            "text/html": [
              "<span style=\"color:#4527A0\"><h1 style=\"font-size:18px\">Trial summary</h1></span>"
            ],
            "text/plain": [
              "<IPython.core.display.HTML object>"
            ]
          },
          "metadata": {
            "tags": []
          }
        },
        {
          "output_type": "display_data",
          "data": {
            "text/html": [
              "<span style=\"color:#7E57C2\"><h2 style=\"font-size:16px\">Hp values:</h2></span>"
            ],
            "text/plain": [
              "<IPython.core.display.HTML object>"
            ]
          },
          "metadata": {
            "tags": []
          }
        },
        {
          "output_type": "display_data",
          "data": {
            "text/html": [
              "<span style=\"color:cyan\"> |-activation: softplus</span>"
            ],
            "text/plain": [
              "<IPython.core.display.HTML object>"
            ]
          },
          "metadata": {
            "tags": []
          }
        },
        {
          "output_type": "display_data",
          "data": {
            "text/html": [
              "<span style=\"color:blue\"> |-drop_rate: 0.6</span>"
            ],
            "text/plain": [
              "<IPython.core.display.HTML object>"
            ]
          },
          "metadata": {
            "tags": []
          }
        },
        {
          "output_type": "display_data",
          "data": {
            "text/html": [
              "<span style=\"color:cyan\"> |-learning_rate: 0.01</span>"
            ],
            "text/plain": [
              "<IPython.core.display.HTML object>"
            ]
          },
          "metadata": {
            "tags": []
          }
        },
        {
          "output_type": "display_data",
          "data": {
            "text/html": [
              "<span style=\"color:blue\"> |-units: 4</span>"
            ],
            "text/plain": [
              "<IPython.core.display.HTML object>"
            ]
          },
          "metadata": {
            "tags": []
          }
        },
        {
          "output_type": "display_data",
          "data": {
            "text/html": [
              "<span style=\"color:cyan\"> |-weight_init: normal</span>"
            ],
            "text/plain": [
              "<IPython.core.display.HTML object>"
            ]
          },
          "metadata": {
            "tags": []
          }
        },
        {
          "output_type": "display_data",
          "data": {
            "text/html": [
              "<span style=\"color:cyan\"> |-Score: 0.5822222828865051</span>"
            ],
            "text/plain": [
              "<IPython.core.display.HTML object>"
            ]
          },
          "metadata": {
            "tags": []
          }
        },
        {
          "output_type": "display_data",
          "data": {
            "text/html": [
              "<span style=\"color:cyan\"> |-Best step: 0</span>"
            ],
            "text/plain": [
              "<IPython.core.display.HTML object>"
            ]
          },
          "metadata": {
            "tags": []
          }
        },
        {
          "output_type": "stream",
          "text": [
            "Train on 86 samples, validate on 45 samples\n",
            "Epoch 1/30\n",
            "86/86 [==============================] - 1s 6ms/sample - loss: 3.3129 - accuracy: 0.2791 - val_loss: 1.1423 - val_accuracy: 0.4889\n",
            "Epoch 2/30\n",
            "86/86 [==============================] - 0s 2ms/sample - loss: 1.5823 - accuracy: 0.4070 - val_loss: 0.9846 - val_accuracy: 0.4444\n",
            "Epoch 3/30\n",
            "86/86 [==============================] - 0s 2ms/sample - loss: 1.1714 - accuracy: 0.5116 - val_loss: 0.9823 - val_accuracy: 0.4222\n",
            "Epoch 4/30\n",
            "86/86 [==============================] - 0s 2ms/sample - loss: 1.0789 - accuracy: 0.4070 - val_loss: 0.9734 - val_accuracy: 0.4889\n",
            "Epoch 5/30\n",
            "86/86 [==============================] - 0s 2ms/sample - loss: 1.0512 - accuracy: 0.4651 - val_loss: 0.9910 - val_accuracy: 0.4889\n",
            "Epoch 6/30\n",
            "86/86 [==============================] - 0s 2ms/sample - loss: 0.9816 - accuracy: 0.4651 - val_loss: 0.9766 - val_accuracy: 0.4889\n",
            "Epoch 7/30\n",
            "86/86 [==============================] - 0s 2ms/sample - loss: 1.0493 - accuracy: 0.4419 - val_loss: 0.9749 - val_accuracy: 0.4444\n",
            "Epoch 8/30\n",
            "86/86 [==============================] - 0s 2ms/sample - loss: 0.9720 - accuracy: 0.5000 - val_loss: 0.9926 - val_accuracy: 0.5111\n",
            "Epoch 9/30\n",
            "86/86 [==============================] - 0s 2ms/sample - loss: 0.9623 - accuracy: 0.5233 - val_loss: 0.9876 - val_accuracy: 0.4667\n",
            "Epoch 10/30\n",
            "86/86 [==============================] - 0s 2ms/sample - loss: 0.9312 - accuracy: 0.6047 - val_loss: 1.0058 - val_accuracy: 0.4889\n",
            "Epoch 11/30\n",
            "86/86 [==============================] - 0s 2ms/sample - loss: 0.9861 - accuracy: 0.5000 - val_loss: 0.9870 - val_accuracy: 0.5556\n",
            "Epoch 12/30\n",
            "86/86 [==============================] - 0s 2ms/sample - loss: 0.9683 - accuracy: 0.4535 - val_loss: 1.0165 - val_accuracy: 0.5556\n",
            "Epoch 13/30\n",
            "86/86 [==============================] - 0s 2ms/sample - loss: 0.9503 - accuracy: 0.5698 - val_loss: 1.0091 - val_accuracy: 0.5556\n",
            "Epoch 14/30\n",
            "86/86 [==============================] - 0s 2ms/sample - loss: 0.9047 - accuracy: 0.5116 - val_loss: 1.0312 - val_accuracy: 0.5778\n",
            "Epoch 15/30\n",
            "86/86 [==============================] - 0s 2ms/sample - loss: 0.9687 - accuracy: 0.5349 - val_loss: 0.9993 - val_accuracy: 0.5556\n",
            "Epoch 16/30\n",
            "86/86 [==============================] - 0s 2ms/sample - loss: 0.9491 - accuracy: 0.5349 - val_loss: 1.0007 - val_accuracy: 0.5556\n",
            "Epoch 17/30\n",
            "86/86 [==============================] - 0s 2ms/sample - loss: 0.9479 - accuracy: 0.5930 - val_loss: 1.0212 - val_accuracy: 0.5556\n",
            "Epoch 18/30\n",
            "86/86 [==============================] - 0s 2ms/sample - loss: 0.9989 - accuracy: 0.6047 - val_loss: 0.9786 - val_accuracy: 0.4889\n",
            "Epoch 19/30\n",
            "86/86 [==============================] - 0s 2ms/sample - loss: 0.9153 - accuracy: 0.6163 - val_loss: 0.9911 - val_accuracy: 0.5111\n",
            "Epoch 20/30\n",
            "86/86 [==============================] - 0s 2ms/sample - loss: 1.0016 - accuracy: 0.5000 - val_loss: 0.9874 - val_accuracy: 0.5333\n",
            "Epoch 21/30\n",
            "86/86 [==============================] - 0s 2ms/sample - loss: 0.9014 - accuracy: 0.5930 - val_loss: 1.0128 - val_accuracy: 0.5333\n",
            "Epoch 22/30\n",
            "86/86 [==============================] - 0s 2ms/sample - loss: 0.9596 - accuracy: 0.5698 - val_loss: 0.9872 - val_accuracy: 0.5333\n",
            "Epoch 23/30\n",
            "86/86 [==============================] - 0s 2ms/sample - loss: 0.9779 - accuracy: 0.5581 - val_loss: 0.9721 - val_accuracy: 0.5556\n",
            "Epoch 24/30\n",
            "86/86 [==============================] - 0s 2ms/sample - loss: 0.9213 - accuracy: 0.5814 - val_loss: 1.0048 - val_accuracy: 0.5111\n",
            "Epoch 25/30\n",
            "86/86 [==============================] - 0s 2ms/sample - loss: 0.9068 - accuracy: 0.5000 - val_loss: 1.0475 - val_accuracy: 0.5111\n",
            "Epoch 26/30\n",
            "86/86 [==============================] - 0s 2ms/sample - loss: 0.9496 - accuracy: 0.5930 - val_loss: 1.0022 - val_accuracy: 0.5333\n",
            "Epoch 27/30\n",
            "86/86 [==============================] - 0s 2ms/sample - loss: 1.0043 - accuracy: 0.5233 - val_loss: 0.9885 - val_accuracy: 0.5556\n",
            "Epoch 28/30\n",
            "86/86 [==============================] - 0s 2ms/sample - loss: 0.9512 - accuracy: 0.5581 - val_loss: 1.0225 - val_accuracy: 0.5556\n",
            "Epoch 29/30\n",
            "86/86 [==============================] - 0s 2ms/sample - loss: 0.9730 - accuracy: 0.5465 - val_loss: 1.0089 - val_accuracy: 0.5111\n",
            "Epoch 30/30\n",
            "86/86 [==============================] - 0s 2ms/sample - loss: 0.9422 - accuracy: 0.5233 - val_loss: 0.9905 - val_accuracy: 0.5333\n",
            "Train on 86 samples, validate on 45 samples\n",
            "Epoch 1/30\n",
            "86/86 [==============================] - 0s 6ms/sample - loss: 2.4269 - accuracy: 0.4070 - val_loss: 1.3953 - val_accuracy: 0.4889\n",
            "Epoch 2/30\n",
            "86/86 [==============================] - 0s 2ms/sample - loss: 1.6197 - accuracy: 0.4651 - val_loss: 1.1587 - val_accuracy: 0.5111\n",
            "Epoch 3/30\n",
            "86/86 [==============================] - 0s 2ms/sample - loss: 1.1959 - accuracy: 0.5116 - val_loss: 1.0106 - val_accuracy: 0.5778\n",
            "Epoch 4/30\n",
            "86/86 [==============================] - 0s 2ms/sample - loss: 0.9634 - accuracy: 0.5233 - val_loss: 1.0237 - val_accuracy: 0.5333\n",
            "Epoch 5/30\n",
            "86/86 [==============================] - 0s 2ms/sample - loss: 0.9184 - accuracy: 0.5000 - val_loss: 1.0361 - val_accuracy: 0.5111\n",
            "Epoch 6/30\n",
            "86/86 [==============================] - 0s 2ms/sample - loss: 1.0716 - accuracy: 0.5000 - val_loss: 0.9824 - val_accuracy: 0.5333\n",
            "Epoch 7/30\n",
            "86/86 [==============================] - 0s 2ms/sample - loss: 0.9532 - accuracy: 0.5116 - val_loss: 0.9852 - val_accuracy: 0.5333\n",
            "Epoch 8/30\n",
            "86/86 [==============================] - 0s 2ms/sample - loss: 0.8943 - accuracy: 0.5233 - val_loss: 0.9927 - val_accuracy: 0.5333\n",
            "Epoch 9/30\n",
            "86/86 [==============================] - 0s 2ms/sample - loss: 0.9802 - accuracy: 0.5349 - val_loss: 0.9891 - val_accuracy: 0.5556\n",
            "Epoch 10/30\n",
            "86/86 [==============================] - 0s 2ms/sample - loss: 0.9947 - accuracy: 0.5581 - val_loss: 0.9745 - val_accuracy: 0.5111\n",
            "Epoch 11/30\n",
            "86/86 [==============================] - 0s 2ms/sample - loss: 0.9690 - accuracy: 0.4651 - val_loss: 0.9877 - val_accuracy: 0.5111\n",
            "Epoch 12/30\n",
            "86/86 [==============================] - 0s 2ms/sample - loss: 0.9783 - accuracy: 0.5465 - val_loss: 0.9870 - val_accuracy: 0.4889\n",
            "Epoch 13/30\n",
            "86/86 [==============================] - 0s 2ms/sample - loss: 0.9428 - accuracy: 0.4767 - val_loss: 0.9908 - val_accuracy: 0.5111\n",
            "Epoch 14/30\n",
            "86/86 [==============================] - 0s 2ms/sample - loss: 0.9671 - accuracy: 0.5581 - val_loss: 1.0017 - val_accuracy: 0.5778\n",
            "Epoch 15/30\n",
            "86/86 [==============================] - 0s 2ms/sample - loss: 0.9048 - accuracy: 0.6395 - val_loss: 1.0007 - val_accuracy: 0.5333\n",
            "Epoch 16/30\n",
            "86/86 [==============================] - 0s 2ms/sample - loss: 0.8943 - accuracy: 0.5698 - val_loss: 1.0058 - val_accuracy: 0.5333\n",
            "Epoch 17/30\n",
            "86/86 [==============================] - 0s 2ms/sample - loss: 1.0360 - accuracy: 0.4419 - val_loss: 0.9965 - val_accuracy: 0.4667\n",
            "Epoch 18/30\n",
            "86/86 [==============================] - 0s 2ms/sample - loss: 0.9444 - accuracy: 0.5581 - val_loss: 0.9765 - val_accuracy: 0.5556\n",
            "Epoch 19/30\n",
            "86/86 [==============================] - 0s 2ms/sample - loss: 0.8771 - accuracy: 0.6163 - val_loss: 1.0315 - val_accuracy: 0.5333\n",
            "Epoch 20/30\n",
            "86/86 [==============================] - 0s 2ms/sample - loss: 0.9826 - accuracy: 0.5581 - val_loss: 0.9896 - val_accuracy: 0.5333\n",
            "Epoch 21/30\n",
            "86/86 [==============================] - 0s 2ms/sample - loss: 0.9499 - accuracy: 0.5349 - val_loss: 0.9892 - val_accuracy: 0.5111\n",
            "Epoch 22/30\n",
            "86/86 [==============================] - 0s 2ms/sample - loss: 0.9572 - accuracy: 0.4651 - val_loss: 0.9828 - val_accuracy: 0.5556\n",
            "Epoch 23/30\n",
            "86/86 [==============================] - 0s 2ms/sample - loss: 0.8714 - accuracy: 0.5465 - val_loss: 1.0164 - val_accuracy: 0.5333\n",
            "Epoch 24/30\n",
            "86/86 [==============================] - 0s 2ms/sample - loss: 1.0264 - accuracy: 0.5233 - val_loss: 0.9890 - val_accuracy: 0.5778\n",
            "Epoch 25/30\n",
            "86/86 [==============================] - 0s 2ms/sample - loss: 0.9619 - accuracy: 0.4651 - val_loss: 0.9761 - val_accuracy: 0.5333\n",
            "Epoch 26/30\n",
            "86/86 [==============================] - 0s 2ms/sample - loss: 0.8945 - accuracy: 0.5698 - val_loss: 1.0076 - val_accuracy: 0.4667\n",
            "Epoch 27/30\n",
            "86/86 [==============================] - 0s 2ms/sample - loss: 0.9259 - accuracy: 0.5233 - val_loss: 1.0040 - val_accuracy: 0.5333\n",
            "Epoch 28/30\n",
            "86/86 [==============================] - 0s 2ms/sample - loss: 0.9466 - accuracy: 0.5814 - val_loss: 0.9888 - val_accuracy: 0.5111\n",
            "Epoch 29/30\n",
            "86/86 [==============================] - 0s 2ms/sample - loss: 1.0010 - accuracy: 0.5116 - val_loss: 0.9957 - val_accuracy: 0.5333\n",
            "Epoch 30/30\n",
            "86/86 [==============================] - 0s 2ms/sample - loss: 0.9320 - accuracy: 0.5698 - val_loss: 0.9993 - val_accuracy: 0.5333\n",
            "Train on 86 samples, validate on 45 samples\n",
            "Epoch 1/30\n",
            "86/86 [==============================] - 0s 6ms/sample - loss: 2.5163 - accuracy: 0.3372 - val_loss: 1.8296 - val_accuracy: 0.4667\n",
            "Epoch 2/30\n",
            "86/86 [==============================] - 0s 2ms/sample - loss: 2.5924 - accuracy: 0.4302 - val_loss: 1.1921 - val_accuracy: 0.5333\n",
            "Epoch 3/30\n",
            "86/86 [==============================] - 0s 2ms/sample - loss: 1.3530 - accuracy: 0.5233 - val_loss: 1.0772 - val_accuracy: 0.5778\n",
            "Epoch 4/30\n",
            "86/86 [==============================] - 0s 2ms/sample - loss: 1.1222 - accuracy: 0.4070 - val_loss: 1.0545 - val_accuracy: 0.5778\n",
            "Epoch 5/30\n",
            "86/86 [==============================] - 0s 2ms/sample - loss: 0.9815 - accuracy: 0.4767 - val_loss: 1.0254 - val_accuracy: 0.5111\n",
            "Epoch 6/30\n",
            "86/86 [==============================] - 0s 2ms/sample - loss: 1.0158 - accuracy: 0.5233 - val_loss: 1.0008 - val_accuracy: 0.5333\n",
            "Epoch 7/30\n",
            "86/86 [==============================] - 0s 2ms/sample - loss: 0.9885 - accuracy: 0.5349 - val_loss: 0.9910 - val_accuracy: 0.5556\n",
            "Epoch 8/30\n",
            "86/86 [==============================] - 0s 2ms/sample - loss: 0.9996 - accuracy: 0.5465 - val_loss: 0.9732 - val_accuracy: 0.5556\n",
            "Epoch 9/30\n",
            "86/86 [==============================] - 0s 2ms/sample - loss: 0.9746 - accuracy: 0.6279 - val_loss: 0.9859 - val_accuracy: 0.5333\n",
            "Epoch 10/30\n",
            "86/86 [==============================] - 0s 2ms/sample - loss: 0.9174 - accuracy: 0.5465 - val_loss: 0.9927 - val_accuracy: 0.5556\n",
            "Epoch 11/30\n",
            "86/86 [==============================] - 0s 2ms/sample - loss: 0.9687 - accuracy: 0.5581 - val_loss: 0.9839 - val_accuracy: 0.5333\n",
            "Epoch 12/30\n",
            "86/86 [==============================] - 0s 2ms/sample - loss: 0.9248 - accuracy: 0.5581 - val_loss: 0.9799 - val_accuracy: 0.5333\n",
            "Epoch 13/30\n",
            "86/86 [==============================] - 0s 2ms/sample - loss: 0.9572 - accuracy: 0.4767 - val_loss: 0.9705 - val_accuracy: 0.5333\n",
            "Epoch 14/30\n",
            "86/86 [==============================] - 0s 2ms/sample - loss: 0.9583 - accuracy: 0.5581 - val_loss: 0.9847 - val_accuracy: 0.5556\n",
            "Epoch 15/30\n",
            "86/86 [==============================] - 0s 2ms/sample - loss: 0.9490 - accuracy: 0.5698 - val_loss: 0.9895 - val_accuracy: 0.5333\n",
            "Epoch 16/30\n",
            "86/86 [==============================] - 0s 2ms/sample - loss: 0.9195 - accuracy: 0.6163 - val_loss: 0.9779 - val_accuracy: 0.5333\n",
            "Epoch 17/30\n",
            "86/86 [==============================] - 0s 2ms/sample - loss: 0.9224 - accuracy: 0.6279 - val_loss: 1.0178 - val_accuracy: 0.5333\n",
            "Epoch 18/30\n",
            "86/86 [==============================] - 0s 2ms/sample - loss: 0.9857 - accuracy: 0.5349 - val_loss: 0.9624 - val_accuracy: 0.5333\n",
            "Epoch 19/30\n",
            "86/86 [==============================] - 0s 2ms/sample - loss: 0.9663 - accuracy: 0.5814 - val_loss: 0.9701 - val_accuracy: 0.5556\n",
            "Epoch 20/30\n",
            "86/86 [==============================] - 0s 2ms/sample - loss: 0.9301 - accuracy: 0.5581 - val_loss: 0.9703 - val_accuracy: 0.5333\n",
            "Epoch 21/30\n",
            "86/86 [==============================] - 0s 2ms/sample - loss: 0.9989 - accuracy: 0.5000 - val_loss: 0.9561 - val_accuracy: 0.5333\n",
            "Epoch 22/30\n",
            "86/86 [==============================] - 0s 2ms/sample - loss: 0.9317 - accuracy: 0.5465 - val_loss: 0.9675 - val_accuracy: 0.5111\n",
            "Epoch 23/30\n",
            "86/86 [==============================] - 0s 2ms/sample - loss: 0.9229 - accuracy: 0.5698 - val_loss: 0.9730 - val_accuracy: 0.5333\n",
            "Epoch 24/30\n",
            "86/86 [==============================] - 0s 2ms/sample - loss: 0.8752 - accuracy: 0.5581 - val_loss: 1.0450 - val_accuracy: 0.5111\n",
            "Epoch 25/30\n",
            "86/86 [==============================] - 0s 2ms/sample - loss: 0.8986 - accuracy: 0.5814 - val_loss: 1.0599 - val_accuracy: 0.5333\n",
            "Epoch 26/30\n",
            "86/86 [==============================] - 0s 2ms/sample - loss: 1.0018 - accuracy: 0.5698 - val_loss: 0.9819 - val_accuracy: 0.5778\n",
            "Epoch 27/30\n",
            "86/86 [==============================] - 0s 2ms/sample - loss: 0.9103 - accuracy: 0.5930 - val_loss: 0.9836 - val_accuracy: 0.5333\n",
            "Epoch 28/30\n",
            "86/86 [==============================] - 0s 2ms/sample - loss: 0.9676 - accuracy: 0.6047 - val_loss: 1.0013 - val_accuracy: 0.5778\n",
            "Epoch 29/30\n",
            "86/86 [==============================] - 0s 2ms/sample - loss: 0.9310 - accuracy: 0.5698 - val_loss: 0.9885 - val_accuracy: 0.5556\n",
            "Epoch 30/30\n",
            "86/86 [==============================] - 0s 2ms/sample - loss: 0.9381 - accuracy: 0.5698 - val_loss: 0.9893 - val_accuracy: 0.5778\n",
            "Train on 86 samples, validate on 45 samples\n",
            "Epoch 1/30\n",
            "86/86 [==============================] - 1s 6ms/sample - loss: 2.2039 - accuracy: 0.4070 - val_loss: 1.3156 - val_accuracy: 0.3333\n",
            "Epoch 2/30\n",
            "86/86 [==============================] - 0s 2ms/sample - loss: 1.2210 - accuracy: 0.4535 - val_loss: 1.1679 - val_accuracy: 0.4222\n",
            "Epoch 3/30\n",
            "86/86 [==============================] - 0s 2ms/sample - loss: 1.2054 - accuracy: 0.4070 - val_loss: 1.0384 - val_accuracy: 0.5111\n",
            "Epoch 4/30\n",
            "86/86 [==============================] - 0s 2ms/sample - loss: 1.0231 - accuracy: 0.4302 - val_loss: 1.0153 - val_accuracy: 0.5333\n",
            "Epoch 5/30\n",
            "86/86 [==============================] - 0s 2ms/sample - loss: 0.9955 - accuracy: 0.4070 - val_loss: 1.0013 - val_accuracy: 0.5778\n",
            "Epoch 6/30\n",
            "86/86 [==============================] - 0s 2ms/sample - loss: 0.9687 - accuracy: 0.4884 - val_loss: 0.9906 - val_accuracy: 0.5556\n",
            "Epoch 7/30\n",
            "86/86 [==============================] - 0s 2ms/sample - loss: 0.9757 - accuracy: 0.5116 - val_loss: 0.9821 - val_accuracy: 0.5556\n",
            "Epoch 8/30\n",
            "86/86 [==============================] - 0s 2ms/sample - loss: 0.9517 - accuracy: 0.4767 - val_loss: 0.9901 - val_accuracy: 0.4889\n",
            "Epoch 9/30\n",
            "86/86 [==============================] - 0s 2ms/sample - loss: 0.9624 - accuracy: 0.5930 - val_loss: 0.9847 - val_accuracy: 0.5111\n",
            "Epoch 10/30\n",
            "86/86 [==============================] - 0s 2ms/sample - loss: 0.9357 - accuracy: 0.5698 - val_loss: 1.0025 - val_accuracy: 0.5556\n",
            "Epoch 11/30\n",
            "86/86 [==============================] - 0s 2ms/sample - loss: 0.9335 - accuracy: 0.5233 - val_loss: 0.9885 - val_accuracy: 0.5333\n",
            "Epoch 12/30\n",
            "86/86 [==============================] - 0s 2ms/sample - loss: 0.9646 - accuracy: 0.4767 - val_loss: 0.9982 - val_accuracy: 0.5333\n",
            "Epoch 13/30\n",
            "86/86 [==============================] - 0s 2ms/sample - loss: 0.9544 - accuracy: 0.4884 - val_loss: 0.9909 - val_accuracy: 0.5556\n",
            "Epoch 14/30\n",
            "86/86 [==============================] - 0s 2ms/sample - loss: 0.9364 - accuracy: 0.5930 - val_loss: 0.9810 - val_accuracy: 0.5778\n",
            "Epoch 15/30\n",
            "86/86 [==============================] - 0s 2ms/sample - loss: 0.9237 - accuracy: 0.5698 - val_loss: 0.9985 - val_accuracy: 0.5556\n",
            "Epoch 16/30\n",
            "86/86 [==============================] - 0s 2ms/sample - loss: 0.9795 - accuracy: 0.5581 - val_loss: 0.9760 - val_accuracy: 0.5556\n",
            "Epoch 17/30\n",
            "86/86 [==============================] - 0s 2ms/sample - loss: 0.9103 - accuracy: 0.5930 - val_loss: 1.0114 - val_accuracy: 0.5556\n",
            "Epoch 18/30\n",
            "86/86 [==============================] - 0s 2ms/sample - loss: 0.9647 - accuracy: 0.5814 - val_loss: 0.9830 - val_accuracy: 0.5556\n",
            "Epoch 19/30\n",
            "86/86 [==============================] - 0s 2ms/sample - loss: 0.9428 - accuracy: 0.5349 - val_loss: 0.9796 - val_accuracy: 0.5333\n",
            "Epoch 20/30\n",
            "86/86 [==============================] - 0s 2ms/sample - loss: 0.9443 - accuracy: 0.5814 - val_loss: 0.9935 - val_accuracy: 0.5333\n",
            "Epoch 21/30\n",
            "86/86 [==============================] - 0s 2ms/sample - loss: 1.0277 - accuracy: 0.5581 - val_loss: 0.9890 - val_accuracy: 0.5333\n",
            "Epoch 22/30\n",
            "86/86 [==============================] - 0s 2ms/sample - loss: 0.9122 - accuracy: 0.5814 - val_loss: 1.0164 - val_accuracy: 0.5333\n",
            "Epoch 23/30\n",
            "86/86 [==============================] - 0s 2ms/sample - loss: 0.9093 - accuracy: 0.5698 - val_loss: 1.0354 - val_accuracy: 0.5111\n",
            "Epoch 24/30\n",
            "86/86 [==============================] - 0s 2ms/sample - loss: 1.0821 - accuracy: 0.4302 - val_loss: 1.0105 - val_accuracy: 0.4222\n",
            "Epoch 25/30\n",
            "86/86 [==============================] - 0s 2ms/sample - loss: 0.9703 - accuracy: 0.4535 - val_loss: 0.9800 - val_accuracy: 0.5111\n",
            "Epoch 26/30\n",
            "86/86 [==============================] - 0s 2ms/sample - loss: 0.9652 - accuracy: 0.5581 - val_loss: 0.9986 - val_accuracy: 0.5556\n",
            "Epoch 27/30\n",
            "86/86 [==============================] - 0s 2ms/sample - loss: 0.9439 - accuracy: 0.5581 - val_loss: 0.9999 - val_accuracy: 0.5333\n",
            "Epoch 28/30\n",
            "86/86 [==============================] - 0s 2ms/sample - loss: 0.9474 - accuracy: 0.5930 - val_loss: 1.0139 - val_accuracy: 0.4889\n",
            "Epoch 29/30\n",
            "86/86 [==============================] - 0s 2ms/sample - loss: 0.9934 - accuracy: 0.5349 - val_loss: 0.9836 - val_accuracy: 0.5778\n",
            "Epoch 30/30\n",
            "86/86 [==============================] - 0s 2ms/sample - loss: 0.9531 - accuracy: 0.6512 - val_loss: 0.9959 - val_accuracy: 0.5556\n",
            "Train on 86 samples, validate on 45 samples\n",
            "Epoch 1/30\n",
            "86/86 [==============================] - 0s 6ms/sample - loss: 3.4732 - accuracy: 0.3953 - val_loss: 1.7241 - val_accuracy: 0.3556\n",
            "Epoch 2/30\n",
            "86/86 [==============================] - 0s 2ms/sample - loss: 2.8288 - accuracy: 0.3953 - val_loss: 1.1963 - val_accuracy: 0.4222\n",
            "Epoch 3/30\n",
            "86/86 [==============================] - 0s 2ms/sample - loss: 1.3798 - accuracy: 0.5000 - val_loss: 1.0421 - val_accuracy: 0.4667\n",
            "Epoch 4/30\n",
            "86/86 [==============================] - 0s 2ms/sample - loss: 1.0083 - accuracy: 0.4535 - val_loss: 1.0506 - val_accuracy: 0.3778\n",
            "Epoch 5/30\n",
            "86/86 [==============================] - 0s 2ms/sample - loss: 1.0259 - accuracy: 0.4651 - val_loss: 1.0166 - val_accuracy: 0.5333\n",
            "Epoch 6/30\n",
            "86/86 [==============================] - 0s 2ms/sample - loss: 0.9860 - accuracy: 0.4419 - val_loss: 1.0116 - val_accuracy: 0.4667\n",
            "Epoch 7/30\n",
            "86/86 [==============================] - 0s 2ms/sample - loss: 0.9355 - accuracy: 0.5465 - val_loss: 1.0255 - val_accuracy: 0.4667\n",
            "Epoch 8/30\n",
            "86/86 [==============================] - 0s 2ms/sample - loss: 0.8762 - accuracy: 0.5116 - val_loss: 1.0543 - val_accuracy: 0.4667\n",
            "Epoch 9/30\n",
            "86/86 [==============================] - 0s 2ms/sample - loss: 0.9638 - accuracy: 0.5233 - val_loss: 1.0125 - val_accuracy: 0.4889\n",
            "Epoch 10/30\n",
            "86/86 [==============================] - 0s 2ms/sample - loss: 0.9475 - accuracy: 0.5349 - val_loss: 1.0150 - val_accuracy: 0.4889\n",
            "Epoch 11/30\n",
            "86/86 [==============================] - 0s 2ms/sample - loss: 0.9786 - accuracy: 0.5233 - val_loss: 1.0072 - val_accuracy: 0.4667\n",
            "Epoch 12/30\n",
            "86/86 [==============================] - 0s 2ms/sample - loss: 0.9953 - accuracy: 0.5000 - val_loss: 0.9937 - val_accuracy: 0.4889\n",
            "Epoch 13/30\n",
            "86/86 [==============================] - 0s 2ms/sample - loss: 0.9365 - accuracy: 0.5581 - val_loss: 1.0146 - val_accuracy: 0.4889\n",
            "Epoch 14/30\n",
            "86/86 [==============================] - 0s 2ms/sample - loss: 0.9886 - accuracy: 0.5233 - val_loss: 0.9941 - val_accuracy: 0.4444\n",
            "Epoch 15/30\n",
            "86/86 [==============================] - 0s 2ms/sample - loss: 0.9736 - accuracy: 0.5233 - val_loss: 0.9861 - val_accuracy: 0.4889\n",
            "Epoch 16/30\n",
            "86/86 [==============================] - 0s 2ms/sample - loss: 0.9663 - accuracy: 0.4419 - val_loss: 0.9918 - val_accuracy: 0.4889\n",
            "Epoch 17/30\n",
            "86/86 [==============================] - 0s 2ms/sample - loss: 0.9653 - accuracy: 0.5116 - val_loss: 0.9853 - val_accuracy: 0.4889\n",
            "Epoch 18/30\n",
            "86/86 [==============================] - 0s 2ms/sample - loss: 0.9659 - accuracy: 0.5116 - val_loss: 0.9866 - val_accuracy: 0.4667\n",
            "Epoch 19/30\n",
            "86/86 [==============================] - 0s 2ms/sample - loss: 0.9475 - accuracy: 0.5698 - val_loss: 0.9890 - val_accuracy: 0.5556\n",
            "Epoch 20/30\n",
            "86/86 [==============================] - 0s 2ms/sample - loss: 0.9611 - accuracy: 0.4651 - val_loss: 0.9825 - val_accuracy: 0.5111\n",
            "Epoch 21/30\n",
            "86/86 [==============================] - 0s 2ms/sample - loss: 0.9280 - accuracy: 0.5698 - val_loss: 0.9951 - val_accuracy: 0.5111\n",
            "Epoch 22/30\n",
            "86/86 [==============================] - 0s 2ms/sample - loss: 0.9905 - accuracy: 0.5698 - val_loss: 0.9795 - val_accuracy: 0.5111\n",
            "Epoch 23/30\n",
            "86/86 [==============================] - 0s 2ms/sample - loss: 0.9575 - accuracy: 0.5814 - val_loss: 1.0157 - val_accuracy: 0.5556\n",
            "Epoch 24/30\n",
            "86/86 [==============================] - 0s 2ms/sample - loss: 0.9928 - accuracy: 0.4767 - val_loss: 0.9895 - val_accuracy: 0.5333\n",
            "Epoch 25/30\n",
            "86/86 [==============================] - 0s 2ms/sample - loss: 0.9454 - accuracy: 0.5698 - val_loss: 1.0176 - val_accuracy: 0.5111\n",
            "Epoch 26/30\n",
            "86/86 [==============================] - 0s 2ms/sample - loss: 0.9730 - accuracy: 0.5581 - val_loss: 0.9843 - val_accuracy: 0.5778\n",
            "Epoch 27/30\n",
            "86/86 [==============================] - 0s 2ms/sample - loss: 0.9478 - accuracy: 0.5581 - val_loss: 0.9939 - val_accuracy: 0.5111\n",
            "Epoch 28/30\n",
            "86/86 [==============================] - 0s 2ms/sample - loss: 0.9352 - accuracy: 0.5116 - val_loss: 1.0008 - val_accuracy: 0.4889\n",
            "Epoch 29/30\n",
            "86/86 [==============================] - 0s 2ms/sample - loss: 0.9187 - accuracy: 0.5349 - val_loss: 1.0184 - val_accuracy: 0.5111\n",
            "Epoch 30/30\n",
            "86/86 [==============================] - 0s 2ms/sample - loss: 0.9321 - accuracy: 0.5000 - val_loss: 1.0439 - val_accuracy: 0.5111\n"
          ],
          "name": "stdout"
        },
        {
          "output_type": "display_data",
          "data": {
            "text/html": [
              "<span style=\"color:#4527A0\"><h1 style=\"font-size:18px\">Trial complete</h1></span>"
            ],
            "text/plain": [
              "<IPython.core.display.HTML object>"
            ]
          },
          "metadata": {
            "tags": []
          }
        },
        {
          "output_type": "display_data",
          "data": {
            "text/html": [
              "<span style=\"color:#4527A0\"><h1 style=\"font-size:18px\">Trial summary</h1></span>"
            ],
            "text/plain": [
              "<IPython.core.display.HTML object>"
            ]
          },
          "metadata": {
            "tags": []
          }
        },
        {
          "output_type": "display_data",
          "data": {
            "text/html": [
              "<span style=\"color:#7E57C2\"><h2 style=\"font-size:16px\">Hp values:</h2></span>"
            ],
            "text/plain": [
              "<IPython.core.display.HTML object>"
            ]
          },
          "metadata": {
            "tags": []
          }
        },
        {
          "output_type": "display_data",
          "data": {
            "text/html": [
              "<span style=\"color:cyan\"> |-activation: linear</span>"
            ],
            "text/plain": [
              "<IPython.core.display.HTML object>"
            ]
          },
          "metadata": {
            "tags": []
          }
        },
        {
          "output_type": "display_data",
          "data": {
            "text/html": [
              "<span style=\"color:blue\"> |-drop_rate: 0.6</span>"
            ],
            "text/plain": [
              "<IPython.core.display.HTML object>"
            ]
          },
          "metadata": {
            "tags": []
          }
        },
        {
          "output_type": "display_data",
          "data": {
            "text/html": [
              "<span style=\"color:cyan\"> |-learning_rate: 0.01</span>"
            ],
            "text/plain": [
              "<IPython.core.display.HTML object>"
            ]
          },
          "metadata": {
            "tags": []
          }
        },
        {
          "output_type": "display_data",
          "data": {
            "text/html": [
              "<span style=\"color:blue\"> |-units: 4</span>"
            ],
            "text/plain": [
              "<IPython.core.display.HTML object>"
            ]
          },
          "metadata": {
            "tags": []
          }
        },
        {
          "output_type": "display_data",
          "data": {
            "text/html": [
              "<span style=\"color:cyan\"> |-weight_init: glorot_uniform</span>"
            ],
            "text/plain": [
              "<IPython.core.display.HTML object>"
            ]
          },
          "metadata": {
            "tags": []
          }
        },
        {
          "output_type": "display_data",
          "data": {
            "text/html": [
              "<span style=\"color:cyan\"> |-Score: 0.5777778029441833</span>"
            ],
            "text/plain": [
              "<IPython.core.display.HTML object>"
            ]
          },
          "metadata": {
            "tags": []
          }
        },
        {
          "output_type": "display_data",
          "data": {
            "text/html": [
              "<span style=\"color:cyan\"> |-Best step: 0</span>"
            ],
            "text/plain": [
              "<IPython.core.display.HTML object>"
            ]
          },
          "metadata": {
            "tags": []
          }
        },
        {
          "output_type": "stream",
          "text": [
            "Train on 86 samples, validate on 45 samples\n",
            "Epoch 1/30\n",
            "86/86 [==============================] - 0s 6ms/sample - loss: 6.0009 - accuracy: 0.2791 - val_loss: 4.1781 - val_accuracy: 0.3333\n",
            "Epoch 2/30\n",
            "86/86 [==============================] - 0s 2ms/sample - loss: 6.8965 - accuracy: 0.2326 - val_loss: 4.0886 - val_accuracy: 0.3333\n",
            "Epoch 3/30\n",
            "86/86 [==============================] - 0s 2ms/sample - loss: 6.0397 - accuracy: 0.2326 - val_loss: 4.0097 - val_accuracy: 0.3333\n",
            "Epoch 4/30\n",
            "86/86 [==============================] - 0s 2ms/sample - loss: 6.5083 - accuracy: 0.2558 - val_loss: 3.9334 - val_accuracy: 0.3333\n",
            "Epoch 5/30\n",
            "86/86 [==============================] - 0s 2ms/sample - loss: 5.7427 - accuracy: 0.2442 - val_loss: 3.8624 - val_accuracy: 0.3333\n",
            "Epoch 6/30\n",
            "86/86 [==============================] - 0s 2ms/sample - loss: 6.1918 - accuracy: 0.2093 - val_loss: 3.7843 - val_accuracy: 0.3333\n",
            "Epoch 7/30\n",
            "86/86 [==============================] - 0s 2ms/sample - loss: 5.8050 - accuracy: 0.2674 - val_loss: 3.7062 - val_accuracy: 0.3333\n",
            "Epoch 8/30\n",
            "86/86 [==============================] - 0s 2ms/sample - loss: 6.3909 - accuracy: 0.2209 - val_loss: 3.6187 - val_accuracy: 0.3333\n",
            "Epoch 9/30\n",
            "86/86 [==============================] - 0s 2ms/sample - loss: 5.7657 - accuracy: 0.3023 - val_loss: 3.5475 - val_accuracy: 0.3333\n",
            "Epoch 10/30\n",
            "86/86 [==============================] - 0s 2ms/sample - loss: 4.6550 - accuracy: 0.2674 - val_loss: 3.4947 - val_accuracy: 0.3333\n",
            "Epoch 11/30\n",
            "86/86 [==============================] - 0s 2ms/sample - loss: 5.2792 - accuracy: 0.2674 - val_loss: 3.4185 - val_accuracy: 0.3333\n",
            "Epoch 12/30\n",
            "86/86 [==============================] - 0s 2ms/sample - loss: 5.4906 - accuracy: 0.2907 - val_loss: 3.3412 - val_accuracy: 0.3333\n",
            "Epoch 13/30\n",
            "86/86 [==============================] - 0s 2ms/sample - loss: 5.0050 - accuracy: 0.2558 - val_loss: 3.2721 - val_accuracy: 0.3333\n",
            "Epoch 14/30\n",
            "86/86 [==============================] - 0s 2ms/sample - loss: 4.8126 - accuracy: 0.2791 - val_loss: 3.2112 - val_accuracy: 0.3333\n",
            "Epoch 15/30\n",
            "86/86 [==============================] - 0s 2ms/sample - loss: 4.5441 - accuracy: 0.2907 - val_loss: 3.1477 - val_accuracy: 0.3333\n",
            "Epoch 16/30\n",
            "86/86 [==============================] - 0s 2ms/sample - loss: 4.9671 - accuracy: 0.2907 - val_loss: 3.0770 - val_accuracy: 0.3333\n",
            "Epoch 17/30\n",
            "86/86 [==============================] - 0s 2ms/sample - loss: 5.0117 - accuracy: 0.2442 - val_loss: 3.0038 - val_accuracy: 0.3333\n",
            "Epoch 18/30\n",
            "86/86 [==============================] - 0s 2ms/sample - loss: 4.7407 - accuracy: 0.2442 - val_loss: 2.9419 - val_accuracy: 0.3333\n",
            "Epoch 19/30\n",
            "86/86 [==============================] - 0s 2ms/sample - loss: 4.0400 - accuracy: 0.3256 - val_loss: 2.8878 - val_accuracy: 0.3333\n",
            "Epoch 20/30\n",
            "86/86 [==============================] - 0s 2ms/sample - loss: 4.6889 - accuracy: 0.2209 - val_loss: 2.8261 - val_accuracy: 0.3333\n",
            "Epoch 21/30\n",
            "86/86 [==============================] - 0s 2ms/sample - loss: 4.1822 - accuracy: 0.2674 - val_loss: 2.7694 - val_accuracy: 0.3333\n",
            "Epoch 22/30\n",
            "86/86 [==============================] - 0s 2ms/sample - loss: 4.4405 - accuracy: 0.2442 - val_loss: 2.6957 - val_accuracy: 0.3333\n",
            "Epoch 23/30\n",
            "86/86 [==============================] - 0s 2ms/sample - loss: 4.5109 - accuracy: 0.2442 - val_loss: 2.6291 - val_accuracy: 0.3333\n",
            "Epoch 24/30\n",
            "86/86 [==============================] - 0s 2ms/sample - loss: 3.4956 - accuracy: 0.2558 - val_loss: 2.5793 - val_accuracy: 0.3333\n",
            "Epoch 25/30\n",
            "86/86 [==============================] - 0s 2ms/sample - loss: 4.3635 - accuracy: 0.2558 - val_loss: 2.5296 - val_accuracy: 0.3333\n",
            "Epoch 26/30\n",
            "86/86 [==============================] - 0s 2ms/sample - loss: 4.0388 - accuracy: 0.2907 - val_loss: 2.4632 - val_accuracy: 0.3333\n",
            "Epoch 27/30\n",
            "86/86 [==============================] - 0s 2ms/sample - loss: 3.5466 - accuracy: 0.3023 - val_loss: 2.4098 - val_accuracy: 0.3333\n",
            "Epoch 28/30\n",
            "86/86 [==============================] - 0s 2ms/sample - loss: 3.6365 - accuracy: 0.2093 - val_loss: 2.3641 - val_accuracy: 0.3333\n",
            "Epoch 29/30\n",
            "86/86 [==============================] - 0s 2ms/sample - loss: 3.9165 - accuracy: 0.2442 - val_loss: 2.3088 - val_accuracy: 0.3333\n",
            "Epoch 30/30\n",
            "86/86 [==============================] - 0s 2ms/sample - loss: 3.5176 - accuracy: 0.2558 - val_loss: 2.2525 - val_accuracy: 0.3333\n",
            "Train on 86 samples, validate on 45 samples\n",
            "Epoch 1/30\n",
            "86/86 [==============================] - 0s 6ms/sample - loss: 6.8218 - accuracy: 0.3256 - val_loss: 5.7946 - val_accuracy: 0.3556\n",
            "Epoch 2/30\n",
            "86/86 [==============================] - 0s 2ms/sample - loss: 5.2360 - accuracy: 0.3605 - val_loss: 5.6963 - val_accuracy: 0.3556\n",
            "Epoch 3/30\n",
            "86/86 [==============================] - 0s 2ms/sample - loss: 5.3396 - accuracy: 0.3953 - val_loss: 5.5996 - val_accuracy: 0.3556\n",
            "Epoch 4/30\n",
            "86/86 [==============================] - 0s 2ms/sample - loss: 4.7189 - accuracy: 0.3605 - val_loss: 5.5042 - val_accuracy: 0.3556\n",
            "Epoch 5/30\n",
            "86/86 [==============================] - 0s 2ms/sample - loss: 5.3975 - accuracy: 0.3837 - val_loss: 5.4213 - val_accuracy: 0.3556\n",
            "Epoch 6/30\n",
            "86/86 [==============================] - 0s 2ms/sample - loss: 5.9842 - accuracy: 0.2907 - val_loss: 5.3138 - val_accuracy: 0.3556\n",
            "Epoch 7/30\n",
            "86/86 [==============================] - 0s 2ms/sample - loss: 6.3971 - accuracy: 0.3721 - val_loss: 5.2353 - val_accuracy: 0.3556\n",
            "Epoch 8/30\n",
            "86/86 [==============================] - 0s 2ms/sample - loss: 5.8875 - accuracy: 0.3605 - val_loss: 5.1453 - val_accuracy: 0.3556\n",
            "Epoch 9/30\n",
            "86/86 [==============================] - 0s 2ms/sample - loss: 5.5406 - accuracy: 0.3488 - val_loss: 5.0634 - val_accuracy: 0.3556\n",
            "Epoch 10/30\n",
            "86/86 [==============================] - 0s 2ms/sample - loss: 4.5855 - accuracy: 0.4186 - val_loss: 4.9817 - val_accuracy: 0.3556\n",
            "Epoch 11/30\n",
            "86/86 [==============================] - 0s 2ms/sample - loss: 5.2187 - accuracy: 0.3372 - val_loss: 4.9055 - val_accuracy: 0.3556\n",
            "Epoch 12/30\n",
            "86/86 [==============================] - 0s 2ms/sample - loss: 6.2389 - accuracy: 0.2907 - val_loss: 4.8361 - val_accuracy: 0.3556\n",
            "Epoch 13/30\n",
            "86/86 [==============================] - 0s 2ms/sample - loss: 4.7337 - accuracy: 0.3953 - val_loss: 4.7562 - val_accuracy: 0.3556\n",
            "Epoch 14/30\n",
            "86/86 [==============================] - 0s 2ms/sample - loss: 6.2424 - accuracy: 0.2907 - val_loss: 4.6753 - val_accuracy: 0.3556\n",
            "Epoch 15/30\n",
            "86/86 [==============================] - 0s 2ms/sample - loss: 5.1580 - accuracy: 0.3488 - val_loss: 4.6006 - val_accuracy: 0.3556\n",
            "Epoch 16/30\n",
            "86/86 [==============================] - 0s 2ms/sample - loss: 5.0705 - accuracy: 0.3488 - val_loss: 4.5131 - val_accuracy: 0.3556\n",
            "Epoch 17/30\n",
            "86/86 [==============================] - 0s 2ms/sample - loss: 4.4608 - accuracy: 0.4186 - val_loss: 4.4372 - val_accuracy: 0.3556\n",
            "Epoch 18/30\n",
            "86/86 [==============================] - 0s 2ms/sample - loss: 4.7867 - accuracy: 0.3721 - val_loss: 4.3815 - val_accuracy: 0.3556\n",
            "Epoch 19/30\n",
            "86/86 [==============================] - 0s 2ms/sample - loss: 3.8496 - accuracy: 0.4419 - val_loss: 4.3033 - val_accuracy: 0.3556\n",
            "Epoch 20/30\n",
            "86/86 [==============================] - 0s 2ms/sample - loss: 5.5680 - accuracy: 0.3605 - val_loss: 4.2276 - val_accuracy: 0.3556\n",
            "Epoch 21/30\n",
            "86/86 [==============================] - 0s 2ms/sample - loss: 3.5799 - accuracy: 0.4070 - val_loss: 4.1599 - val_accuracy: 0.3556\n",
            "Epoch 22/30\n",
            "86/86 [==============================] - 0s 2ms/sample - loss: 5.6471 - accuracy: 0.3372 - val_loss: 4.0935 - val_accuracy: 0.3556\n",
            "Epoch 23/30\n",
            "86/86 [==============================] - 0s 2ms/sample - loss: 4.3859 - accuracy: 0.4070 - val_loss: 4.0352 - val_accuracy: 0.3556\n",
            "Epoch 24/30\n",
            "86/86 [==============================] - 0s 2ms/sample - loss: 4.0517 - accuracy: 0.4419 - val_loss: 3.9847 - val_accuracy: 0.3778\n",
            "Epoch 25/30\n",
            "86/86 [==============================] - 0s 2ms/sample - loss: 3.9922 - accuracy: 0.4419 - val_loss: 3.9390 - val_accuracy: 0.3778\n",
            "Epoch 26/30\n",
            "86/86 [==============================] - 0s 2ms/sample - loss: 4.6662 - accuracy: 0.4070 - val_loss: 3.8690 - val_accuracy: 0.3778\n",
            "Epoch 27/30\n",
            "86/86 [==============================] - 0s 2ms/sample - loss: 4.3453 - accuracy: 0.3256 - val_loss: 3.8064 - val_accuracy: 0.3778\n",
            "Epoch 28/30\n",
            "86/86 [==============================] - 0s 2ms/sample - loss: 4.0402 - accuracy: 0.3605 - val_loss: 3.7506 - val_accuracy: 0.3778\n",
            "Epoch 29/30\n",
            "86/86 [==============================] - 0s 2ms/sample - loss: 3.4589 - accuracy: 0.4535 - val_loss: 3.6876 - val_accuracy: 0.3778\n",
            "Epoch 30/30\n",
            "86/86 [==============================] - 0s 2ms/sample - loss: 3.6762 - accuracy: 0.3488 - val_loss: 3.6409 - val_accuracy: 0.3778\n",
            "Train on 86 samples, validate on 45 samples\n",
            "Epoch 1/30\n",
            "86/86 [==============================] - 0s 6ms/sample - loss: 4.8431 - accuracy: 0.3023 - val_loss: 4.2055 - val_accuracy: 0.2222\n",
            "Epoch 2/30\n",
            "86/86 [==============================] - 0s 2ms/sample - loss: 4.8011 - accuracy: 0.2558 - val_loss: 4.1516 - val_accuracy: 0.2222\n",
            "Epoch 3/30\n",
            "86/86 [==============================] - 0s 2ms/sample - loss: 5.2508 - accuracy: 0.3256 - val_loss: 4.1049 - val_accuracy: 0.2222\n",
            "Epoch 4/30\n",
            "86/86 [==============================] - 0s 2ms/sample - loss: 5.2976 - accuracy: 0.3140 - val_loss: 4.0595 - val_accuracy: 0.2222\n",
            "Epoch 5/30\n",
            "86/86 [==============================] - 0s 2ms/sample - loss: 5.0031 - accuracy: 0.3372 - val_loss: 4.0269 - val_accuracy: 0.2222\n",
            "Epoch 6/30\n",
            "86/86 [==============================] - 0s 2ms/sample - loss: 4.5646 - accuracy: 0.3140 - val_loss: 3.9768 - val_accuracy: 0.2222\n",
            "Epoch 7/30\n",
            "86/86 [==============================] - 0s 2ms/sample - loss: 4.7848 - accuracy: 0.3605 - val_loss: 3.9251 - val_accuracy: 0.2222\n",
            "Epoch 8/30\n",
            "86/86 [==============================] - 0s 2ms/sample - loss: 4.5223 - accuracy: 0.3488 - val_loss: 3.8860 - val_accuracy: 0.2222\n",
            "Epoch 9/30\n",
            "86/86 [==============================] - 0s 2ms/sample - loss: 4.8328 - accuracy: 0.2907 - val_loss: 3.8350 - val_accuracy: 0.2222\n",
            "Epoch 10/30\n",
            "86/86 [==============================] - 0s 2ms/sample - loss: 5.4150 - accuracy: 0.3140 - val_loss: 3.7973 - val_accuracy: 0.2222\n",
            "Epoch 11/30\n",
            "86/86 [==============================] - 0s 2ms/sample - loss: 3.9345 - accuracy: 0.3488 - val_loss: 3.7516 - val_accuracy: 0.2222\n",
            "Epoch 12/30\n",
            "86/86 [==============================] - 0s 2ms/sample - loss: 5.2824 - accuracy: 0.2674 - val_loss: 3.7205 - val_accuracy: 0.2222\n",
            "Epoch 13/30\n",
            "86/86 [==============================] - 0s 2ms/sample - loss: 4.2432 - accuracy: 0.3140 - val_loss: 3.6853 - val_accuracy: 0.2444\n",
            "Epoch 14/30\n",
            "86/86 [==============================] - 0s 2ms/sample - loss: 4.0973 - accuracy: 0.3721 - val_loss: 3.6529 - val_accuracy: 0.2667\n",
            "Epoch 15/30\n",
            "86/86 [==============================] - 0s 2ms/sample - loss: 3.9945 - accuracy: 0.3721 - val_loss: 3.6248 - val_accuracy: 0.2667\n",
            "Epoch 16/30\n",
            "86/86 [==============================] - 0s 2ms/sample - loss: 4.1824 - accuracy: 0.3372 - val_loss: 3.5955 - val_accuracy: 0.2667\n",
            "Epoch 17/30\n",
            "86/86 [==============================] - 0s 2ms/sample - loss: 4.6361 - accuracy: 0.2558 - val_loss: 3.5567 - val_accuracy: 0.2667\n",
            "Epoch 18/30\n",
            "86/86 [==============================] - 0s 2ms/sample - loss: 3.8602 - accuracy: 0.4070 - val_loss: 3.5194 - val_accuracy: 0.2667\n",
            "Epoch 19/30\n",
            "86/86 [==============================] - 0s 2ms/sample - loss: 4.2422 - accuracy: 0.3140 - val_loss: 3.4864 - val_accuracy: 0.2667\n",
            "Epoch 20/30\n",
            "86/86 [==============================] - 0s 2ms/sample - loss: 3.5301 - accuracy: 0.3605 - val_loss: 3.4547 - val_accuracy: 0.2667\n",
            "Epoch 21/30\n",
            "86/86 [==============================] - 0s 2ms/sample - loss: 3.7703 - accuracy: 0.2791 - val_loss: 3.4129 - val_accuracy: 0.2667\n",
            "Epoch 22/30\n",
            "86/86 [==============================] - 0s 2ms/sample - loss: 4.1952 - accuracy: 0.3837 - val_loss: 3.3769 - val_accuracy: 0.2667\n",
            "Epoch 23/30\n",
            "86/86 [==============================] - 0s 2ms/sample - loss: 3.5600 - accuracy: 0.4070 - val_loss: 3.3413 - val_accuracy: 0.2667\n",
            "Epoch 24/30\n",
            "86/86 [==============================] - 0s 2ms/sample - loss: 4.0899 - accuracy: 0.3488 - val_loss: 3.3112 - val_accuracy: 0.2667\n",
            "Epoch 25/30\n",
            "86/86 [==============================] - 0s 2ms/sample - loss: 3.7608 - accuracy: 0.3605 - val_loss: 3.2822 - val_accuracy: 0.2667\n",
            "Epoch 26/30\n",
            "86/86 [==============================] - 0s 2ms/sample - loss: 3.8303 - accuracy: 0.3256 - val_loss: 3.2476 - val_accuracy: 0.2667\n",
            "Epoch 27/30\n",
            "86/86 [==============================] - 0s 2ms/sample - loss: 3.7119 - accuracy: 0.2791 - val_loss: 3.2175 - val_accuracy: 0.2667\n",
            "Epoch 28/30\n",
            "86/86 [==============================] - 0s 2ms/sample - loss: 4.7181 - accuracy: 0.3605 - val_loss: 3.1917 - val_accuracy: 0.2667\n",
            "Epoch 29/30\n",
            "86/86 [==============================] - 0s 2ms/sample - loss: 4.2608 - accuracy: 0.2674 - val_loss: 3.1624 - val_accuracy: 0.2889\n",
            "Epoch 30/30\n",
            "86/86 [==============================] - 0s 2ms/sample - loss: 3.5463 - accuracy: 0.2791 - val_loss: 3.1389 - val_accuracy: 0.2889\n",
            "Train on 86 samples, validate on 45 samples\n",
            "Epoch 1/30\n",
            "86/86 [==============================] - 1s 6ms/sample - loss: 6.5631 - accuracy: 0.2326 - val_loss: 4.6881 - val_accuracy: 0.2000\n",
            "Epoch 2/30\n",
            "86/86 [==============================] - 0s 2ms/sample - loss: 6.9873 - accuracy: 0.3023 - val_loss: 4.5850 - val_accuracy: 0.2000\n",
            "Epoch 3/30\n",
            "86/86 [==============================] - 0s 2ms/sample - loss: 6.5050 - accuracy: 0.3023 - val_loss: 4.4898 - val_accuracy: 0.2000\n",
            "Epoch 4/30\n",
            "86/86 [==============================] - 0s 2ms/sample - loss: 7.3024 - accuracy: 0.2558 - val_loss: 4.3977 - val_accuracy: 0.2000\n",
            "Epoch 5/30\n",
            "86/86 [==============================] - 0s 2ms/sample - loss: 5.4669 - accuracy: 0.3605 - val_loss: 4.3307 - val_accuracy: 0.1778\n",
            "Epoch 6/30\n",
            "86/86 [==============================] - 0s 2ms/sample - loss: 6.4971 - accuracy: 0.1977 - val_loss: 4.2465 - val_accuracy: 0.1778\n",
            "Epoch 7/30\n",
            "86/86 [==============================] - 0s 2ms/sample - loss: 6.0604 - accuracy: 0.2791 - val_loss: 4.1410 - val_accuracy: 0.2000\n",
            "Epoch 8/30\n",
            "86/86 [==============================] - 0s 2ms/sample - loss: 6.3828 - accuracy: 0.2326 - val_loss: 4.0530 - val_accuracy: 0.2000\n",
            "Epoch 9/30\n",
            "86/86 [==============================] - 0s 2ms/sample - loss: 4.8446 - accuracy: 0.2558 - val_loss: 3.9949 - val_accuracy: 0.2000\n",
            "Epoch 10/30\n",
            "86/86 [==============================] - 0s 2ms/sample - loss: 5.0411 - accuracy: 0.2791 - val_loss: 3.9278 - val_accuracy: 0.2000\n",
            "Epoch 11/30\n",
            "86/86 [==============================] - 0s 2ms/sample - loss: 6.2032 - accuracy: 0.1977 - val_loss: 3.8506 - val_accuracy: 0.2000\n",
            "Epoch 12/30\n",
            "86/86 [==============================] - 0s 2ms/sample - loss: 5.2532 - accuracy: 0.3256 - val_loss: 3.7891 - val_accuracy: 0.2000\n",
            "Epoch 13/30\n",
            "86/86 [==============================] - 0s 2ms/sample - loss: 5.3148 - accuracy: 0.2907 - val_loss: 3.7187 - val_accuracy: 0.2000\n",
            "Epoch 14/30\n",
            "86/86 [==============================] - 0s 2ms/sample - loss: 6.2034 - accuracy: 0.2442 - val_loss: 3.6446 - val_accuracy: 0.2000\n",
            "Epoch 15/30\n",
            "86/86 [==============================] - 0s 2ms/sample - loss: 5.0071 - accuracy: 0.2907 - val_loss: 3.5766 - val_accuracy: 0.2000\n",
            "Epoch 16/30\n",
            "86/86 [==============================] - 0s 2ms/sample - loss: 5.6406 - accuracy: 0.3023 - val_loss: 3.5069 - val_accuracy: 0.2000\n",
            "Epoch 17/30\n",
            "86/86 [==============================] - 0s 2ms/sample - loss: 4.6297 - accuracy: 0.3372 - val_loss: 3.4526 - val_accuracy: 0.2000\n",
            "Epoch 18/30\n",
            "86/86 [==============================] - 0s 2ms/sample - loss: 5.1803 - accuracy: 0.2442 - val_loss: 3.3892 - val_accuracy: 0.2000\n",
            "Epoch 19/30\n",
            "86/86 [==============================] - 0s 2ms/sample - loss: 4.3586 - accuracy: 0.3953 - val_loss: 3.3346 - val_accuracy: 0.2000\n",
            "Epoch 20/30\n",
            "86/86 [==============================] - 0s 2ms/sample - loss: 4.2935 - accuracy: 0.3023 - val_loss: 3.2790 - val_accuracy: 0.2000\n",
            "Epoch 21/30\n",
            "86/86 [==============================] - 0s 2ms/sample - loss: 5.0932 - accuracy: 0.2907 - val_loss: 3.2541 - val_accuracy: 0.2000\n",
            "Epoch 22/30\n",
            "86/86 [==============================] - 0s 2ms/sample - loss: 5.0873 - accuracy: 0.3023 - val_loss: 3.1860 - val_accuracy: 0.2000\n",
            "Epoch 23/30\n",
            "86/86 [==============================] - 0s 2ms/sample - loss: 4.2701 - accuracy: 0.3721 - val_loss: 3.1416 - val_accuracy: 0.2000\n",
            "Epoch 24/30\n",
            "86/86 [==============================] - 0s 2ms/sample - loss: 6.6069 - accuracy: 0.2326 - val_loss: 3.0822 - val_accuracy: 0.2000\n",
            "Epoch 25/30\n",
            "86/86 [==============================] - 0s 2ms/sample - loss: 6.0553 - accuracy: 0.2558 - val_loss: 3.0319 - val_accuracy: 0.2222\n",
            "Epoch 26/30\n",
            "86/86 [==============================] - 0s 2ms/sample - loss: 4.9088 - accuracy: 0.2558 - val_loss: 2.9853 - val_accuracy: 0.2222\n",
            "Epoch 27/30\n",
            "86/86 [==============================] - 0s 2ms/sample - loss: 4.7532 - accuracy: 0.3140 - val_loss: 2.9413 - val_accuracy: 0.2222\n",
            "Epoch 28/30\n",
            "86/86 [==============================] - 0s 2ms/sample - loss: 4.7065 - accuracy: 0.2907 - val_loss: 2.9008 - val_accuracy: 0.2222\n",
            "Epoch 29/30\n",
            "86/86 [==============================] - 0s 2ms/sample - loss: 5.0380 - accuracy: 0.2791 - val_loss: 2.8697 - val_accuracy: 0.2444\n",
            "Epoch 30/30\n",
            "86/86 [==============================] - 0s 2ms/sample - loss: 4.8998 - accuracy: 0.3372 - val_loss: 2.8311 - val_accuracy: 0.2444\n",
            "Train on 86 samples, validate on 45 samples\n",
            "Epoch 1/30\n",
            "86/86 [==============================] - 0s 6ms/sample - loss: 6.8766 - accuracy: 0.3605 - val_loss: 3.7924 - val_accuracy: 0.2889\n",
            "Epoch 2/30\n",
            "86/86 [==============================] - 0s 2ms/sample - loss: 6.0686 - accuracy: 0.2674 - val_loss: 3.7449 - val_accuracy: 0.2889\n",
            "Epoch 3/30\n",
            "86/86 [==============================] - 0s 2ms/sample - loss: 6.2028 - accuracy: 0.3605 - val_loss: 3.6949 - val_accuracy: 0.2889\n",
            "Epoch 4/30\n",
            "86/86 [==============================] - 0s 2ms/sample - loss: 5.2382 - accuracy: 0.3605 - val_loss: 3.6431 - val_accuracy: 0.2889\n",
            "Epoch 5/30\n",
            "86/86 [==============================] - 0s 2ms/sample - loss: 5.7153 - accuracy: 0.3837 - val_loss: 3.5978 - val_accuracy: 0.2889\n",
            "Epoch 6/30\n",
            "86/86 [==============================] - 0s 2ms/sample - loss: 5.0889 - accuracy: 0.3372 - val_loss: 3.5543 - val_accuracy: 0.2889\n",
            "Epoch 7/30\n",
            "86/86 [==============================] - 0s 2ms/sample - loss: 5.7781 - accuracy: 0.3605 - val_loss: 3.5037 - val_accuracy: 0.2889\n",
            "Epoch 8/30\n",
            "86/86 [==============================] - 0s 2ms/sample - loss: 5.0502 - accuracy: 0.3023 - val_loss: 3.4606 - val_accuracy: 0.2889\n",
            "Epoch 9/30\n",
            "86/86 [==============================] - 0s 2ms/sample - loss: 6.2485 - accuracy: 0.3721 - val_loss: 3.4121 - val_accuracy: 0.2889\n",
            "Epoch 10/30\n",
            "86/86 [==============================] - 0s 2ms/sample - loss: 5.9900 - accuracy: 0.3372 - val_loss: 3.3628 - val_accuracy: 0.2889\n",
            "Epoch 11/30\n",
            "86/86 [==============================] - 0s 2ms/sample - loss: 5.3222 - accuracy: 0.2907 - val_loss: 3.3204 - val_accuracy: 0.2889\n",
            "Epoch 12/30\n",
            "86/86 [==============================] - 0s 2ms/sample - loss: 5.6702 - accuracy: 0.3256 - val_loss: 3.2751 - val_accuracy: 0.3111\n",
            "Epoch 13/30\n",
            "86/86 [==============================] - 0s 2ms/sample - loss: 4.6137 - accuracy: 0.3721 - val_loss: 3.2360 - val_accuracy: 0.3111\n",
            "Epoch 14/30\n",
            "86/86 [==============================] - 0s 2ms/sample - loss: 4.7653 - accuracy: 0.3605 - val_loss: 3.1986 - val_accuracy: 0.3556\n",
            "Epoch 15/30\n",
            "86/86 [==============================] - 0s 2ms/sample - loss: 4.5948 - accuracy: 0.3953 - val_loss: 3.1574 - val_accuracy: 0.3556\n",
            "Epoch 16/30\n",
            "86/86 [==============================] - 0s 2ms/sample - loss: 4.4229 - accuracy: 0.3721 - val_loss: 3.1191 - val_accuracy: 0.3556\n",
            "Epoch 17/30\n",
            "86/86 [==============================] - 0s 2ms/sample - loss: 4.6435 - accuracy: 0.3488 - val_loss: 3.0824 - val_accuracy: 0.3556\n",
            "Epoch 18/30\n",
            "86/86 [==============================] - 0s 2ms/sample - loss: 5.4543 - accuracy: 0.3605 - val_loss: 3.0413 - val_accuracy: 0.3556\n",
            "Epoch 19/30\n",
            "86/86 [==============================] - 0s 2ms/sample - loss: 4.4981 - accuracy: 0.3372 - val_loss: 3.0083 - val_accuracy: 0.3556\n",
            "Epoch 20/30\n",
            "86/86 [==============================] - 0s 2ms/sample - loss: 5.2534 - accuracy: 0.3256 - val_loss: 2.9755 - val_accuracy: 0.3556\n",
            "Epoch 21/30\n",
            "86/86 [==============================] - 0s 2ms/sample - loss: 4.8530 - accuracy: 0.3605 - val_loss: 2.9370 - val_accuracy: 0.3556\n",
            "Epoch 22/30\n",
            "86/86 [==============================] - 0s 2ms/sample - loss: 5.0002 - accuracy: 0.3256 - val_loss: 2.9058 - val_accuracy: 0.3556\n",
            "Epoch 23/30\n",
            "86/86 [==============================] - 0s 2ms/sample - loss: 4.6491 - accuracy: 0.3721 - val_loss: 2.8734 - val_accuracy: 0.3556\n",
            "Epoch 24/30\n",
            "86/86 [==============================] - 0s 2ms/sample - loss: 4.6428 - accuracy: 0.3605 - val_loss: 2.8438 - val_accuracy: 0.3556\n",
            "Epoch 25/30\n",
            "86/86 [==============================] - 0s 2ms/sample - loss: 4.2620 - accuracy: 0.3605 - val_loss: 2.8145 - val_accuracy: 0.3333\n",
            "Epoch 26/30\n",
            "86/86 [==============================] - 0s 2ms/sample - loss: 5.0383 - accuracy: 0.3605 - val_loss: 2.7821 - val_accuracy: 0.3333\n",
            "Epoch 27/30\n",
            "86/86 [==============================] - 0s 2ms/sample - loss: 4.5702 - accuracy: 0.3023 - val_loss: 2.7512 - val_accuracy: 0.3333\n",
            "Epoch 28/30\n",
            "86/86 [==============================] - 0s 2ms/sample - loss: 4.1920 - accuracy: 0.3721 - val_loss: 2.7220 - val_accuracy: 0.3111\n",
            "Epoch 29/30\n",
            "86/86 [==============================] - 0s 2ms/sample - loss: 4.9092 - accuracy: 0.3372 - val_loss: 2.6906 - val_accuracy: 0.2889\n",
            "Epoch 30/30\n",
            "86/86 [==============================] - 0s 2ms/sample - loss: 4.9287 - accuracy: 0.3372 - val_loss: 2.6653 - val_accuracy: 0.2889\n"
          ],
          "name": "stdout"
        },
        {
          "output_type": "display_data",
          "data": {
            "text/html": [
              "<span style=\"color:#4527A0\"><h1 style=\"font-size:18px\">Trial complete</h1></span>"
            ],
            "text/plain": [
              "<IPython.core.display.HTML object>"
            ]
          },
          "metadata": {
            "tags": []
          }
        },
        {
          "output_type": "display_data",
          "data": {
            "text/html": [
              "<span style=\"color:#4527A0\"><h1 style=\"font-size:18px\">Trial summary</h1></span>"
            ],
            "text/plain": [
              "<IPython.core.display.HTML object>"
            ]
          },
          "metadata": {
            "tags": []
          }
        },
        {
          "output_type": "display_data",
          "data": {
            "text/html": [
              "<span style=\"color:#7E57C2\"><h2 style=\"font-size:16px\">Hp values:</h2></span>"
            ],
            "text/plain": [
              "<IPython.core.display.HTML object>"
            ]
          },
          "metadata": {
            "tags": []
          }
        },
        {
          "output_type": "display_data",
          "data": {
            "text/html": [
              "<span style=\"color:cyan\"> |-activation: linear</span>"
            ],
            "text/plain": [
              "<IPython.core.display.HTML object>"
            ]
          },
          "metadata": {
            "tags": []
          }
        },
        {
          "output_type": "display_data",
          "data": {
            "text/html": [
              "<span style=\"color:blue\"> |-drop_rate: 0.3</span>"
            ],
            "text/plain": [
              "<IPython.core.display.HTML object>"
            ]
          },
          "metadata": {
            "tags": []
          }
        },
        {
          "output_type": "display_data",
          "data": {
            "text/html": [
              "<span style=\"color:cyan\"> |-learning_rate: 0.0001</span>"
            ],
            "text/plain": [
              "<IPython.core.display.HTML object>"
            ]
          },
          "metadata": {
            "tags": []
          }
        },
        {
          "output_type": "display_data",
          "data": {
            "text/html": [
              "<span style=\"color:blue\"> |-units: 7</span>"
            ],
            "text/plain": [
              "<IPython.core.display.HTML object>"
            ]
          },
          "metadata": {
            "tags": []
          }
        },
        {
          "output_type": "display_data",
          "data": {
            "text/html": [
              "<span style=\"color:cyan\"> |-weight_init: he_normal</span>"
            ],
            "text/plain": [
              "<IPython.core.display.HTML object>"
            ]
          },
          "metadata": {
            "tags": []
          }
        },
        {
          "output_type": "display_data",
          "data": {
            "text/html": [
              "<span style=\"color:cyan\"> |-Score: 0.3199999928474426</span>"
            ],
            "text/plain": [
              "<IPython.core.display.HTML object>"
            ]
          },
          "metadata": {
            "tags": []
          }
        },
        {
          "output_type": "display_data",
          "data": {
            "text/html": [
              "<span style=\"color:cyan\"> |-Best step: 0</span>"
            ],
            "text/plain": [
              "<IPython.core.display.HTML object>"
            ]
          },
          "metadata": {
            "tags": []
          }
        },
        {
          "output_type": "stream",
          "text": [
            "Train on 86 samples, validate on 45 samples\n",
            "Epoch 1/30\n",
            "86/86 [==============================] - 1s 6ms/sample - loss: 2.5405 - accuracy: 0.4070 - val_loss: 1.5703 - val_accuracy: 0.4667\n",
            "Epoch 2/30\n",
            "86/86 [==============================] - 0s 2ms/sample - loss: 1.7884 - accuracy: 0.4070 - val_loss: 1.0616 - val_accuracy: 0.4889\n",
            "Epoch 3/30\n",
            "86/86 [==============================] - 0s 2ms/sample - loss: 1.1056 - accuracy: 0.5930 - val_loss: 1.0036 - val_accuracy: 0.5333\n",
            "Epoch 4/30\n",
            "86/86 [==============================] - 0s 2ms/sample - loss: 0.9381 - accuracy: 0.6163 - val_loss: 0.9852 - val_accuracy: 0.5778\n",
            "Epoch 5/30\n",
            "86/86 [==============================] - 0s 2ms/sample - loss: 0.9780 - accuracy: 0.5930 - val_loss: 0.9854 - val_accuracy: 0.5333\n",
            "Epoch 6/30\n",
            "86/86 [==============================] - 0s 2ms/sample - loss: 1.0414 - accuracy: 0.5465 - val_loss: 0.9787 - val_accuracy: 0.5333\n",
            "Epoch 7/30\n",
            "86/86 [==============================] - 0s 2ms/sample - loss: 1.0249 - accuracy: 0.4651 - val_loss: 0.9704 - val_accuracy: 0.5333\n",
            "Epoch 8/30\n",
            "86/86 [==============================] - 0s 2ms/sample - loss: 0.9569 - accuracy: 0.4419 - val_loss: 0.9774 - val_accuracy: 0.5333\n",
            "Epoch 9/30\n",
            "86/86 [==============================] - 0s 2ms/sample - loss: 1.0214 - accuracy: 0.5000 - val_loss: 0.9840 - val_accuracy: 0.4889\n",
            "Epoch 10/30\n",
            "86/86 [==============================] - 0s 2ms/sample - loss: 0.9817 - accuracy: 0.5233 - val_loss: 0.9786 - val_accuracy: 0.5556\n",
            "Epoch 11/30\n",
            "86/86 [==============================] - 0s 2ms/sample - loss: 0.9130 - accuracy: 0.5116 - val_loss: 0.9958 - val_accuracy: 0.5556\n",
            "Epoch 12/30\n",
            "86/86 [==============================] - 0s 2ms/sample - loss: 0.9876 - accuracy: 0.5581 - val_loss: 0.9749 - val_accuracy: 0.4889\n",
            "Epoch 13/30\n",
            "86/86 [==============================] - 0s 2ms/sample - loss: 0.9333 - accuracy: 0.5814 - val_loss: 0.9818 - val_accuracy: 0.5111\n",
            "Epoch 14/30\n",
            "86/86 [==============================] - 0s 2ms/sample - loss: 0.9433 - accuracy: 0.5581 - val_loss: 0.9790 - val_accuracy: 0.5556\n",
            "Epoch 15/30\n",
            "86/86 [==============================] - 0s 2ms/sample - loss: 0.9332 - accuracy: 0.5349 - val_loss: 0.9990 - val_accuracy: 0.5333\n",
            "Epoch 16/30\n",
            "86/86 [==============================] - 0s 2ms/sample - loss: 0.9404 - accuracy: 0.5233 - val_loss: 1.0008 - val_accuracy: 0.5556\n",
            "Epoch 17/30\n",
            "86/86 [==============================] - 0s 2ms/sample - loss: 0.9501 - accuracy: 0.5465 - val_loss: 0.9902 - val_accuracy: 0.5333\n",
            "Epoch 18/30\n",
            "86/86 [==============================] - 0s 2ms/sample - loss: 0.9464 - accuracy: 0.5000 - val_loss: 1.0172 - val_accuracy: 0.5333\n",
            "Epoch 19/30\n",
            "86/86 [==============================] - 0s 2ms/sample - loss: 0.9912 - accuracy: 0.6047 - val_loss: 1.0006 - val_accuracy: 0.5556\n",
            "Epoch 20/30\n",
            "86/86 [==============================] - 0s 2ms/sample - loss: 0.9533 - accuracy: 0.5116 - val_loss: 1.0027 - val_accuracy: 0.5333\n",
            "Epoch 21/30\n",
            "86/86 [==============================] - 0s 2ms/sample - loss: 0.9740 - accuracy: 0.4651 - val_loss: 0.9997 - val_accuracy: 0.5111\n",
            "Epoch 22/30\n",
            "86/86 [==============================] - 0s 2ms/sample - loss: 0.9816 - accuracy: 0.5814 - val_loss: 0.9798 - val_accuracy: 0.5111\n",
            "Epoch 23/30\n",
            "86/86 [==============================] - 0s 2ms/sample - loss: 0.9829 - accuracy: 0.5116 - val_loss: 0.9836 - val_accuracy: 0.5556\n",
            "Epoch 24/30\n",
            "86/86 [==============================] - 0s 2ms/sample - loss: 0.9084 - accuracy: 0.5000 - val_loss: 1.0030 - val_accuracy: 0.5111\n",
            "Epoch 25/30\n",
            "86/86 [==============================] - 0s 2ms/sample - loss: 0.9682 - accuracy: 0.5698 - val_loss: 0.9791 - val_accuracy: 0.6000\n",
            "Epoch 26/30\n",
            "86/86 [==============================] - 0s 2ms/sample - loss: 0.9190 - accuracy: 0.5814 - val_loss: 1.0017 - val_accuracy: 0.5333\n",
            "Epoch 27/30\n",
            "86/86 [==============================] - 0s 2ms/sample - loss: 0.9504 - accuracy: 0.5814 - val_loss: 1.0359 - val_accuracy: 0.5333\n",
            "Epoch 28/30\n",
            "86/86 [==============================] - 0s 2ms/sample - loss: 1.0038 - accuracy: 0.5233 - val_loss: 0.9880 - val_accuracy: 0.5778\n",
            "Epoch 29/30\n",
            "86/86 [==============================] - 0s 2ms/sample - loss: 0.9622 - accuracy: 0.5465 - val_loss: 0.9898 - val_accuracy: 0.5778\n",
            "Epoch 30/30\n",
            "86/86 [==============================] - 0s 2ms/sample - loss: 0.9389 - accuracy: 0.5698 - val_loss: 0.9814 - val_accuracy: 0.5333\n",
            "Train on 86 samples, validate on 45 samples\n",
            "Epoch 1/30\n",
            "86/86 [==============================] - 0s 6ms/sample - loss: 3.2840 - accuracy: 0.3605 - val_loss: 1.4494 - val_accuracy: 0.3778\n",
            "Epoch 2/30\n",
            "86/86 [==============================] - 0s 2ms/sample - loss: 1.5946 - accuracy: 0.5116 - val_loss: 1.1201 - val_accuracy: 0.4222\n",
            "Epoch 3/30\n",
            "86/86 [==============================] - 0s 2ms/sample - loss: 1.3296 - accuracy: 0.5233 - val_loss: 1.0286 - val_accuracy: 0.5111\n",
            "Epoch 4/30\n",
            "86/86 [==============================] - 0s 2ms/sample - loss: 1.0773 - accuracy: 0.4070 - val_loss: 1.0037 - val_accuracy: 0.4889\n",
            "Epoch 5/30\n",
            "86/86 [==============================] - 0s 2ms/sample - loss: 1.0507 - accuracy: 0.4651 - val_loss: 0.9964 - val_accuracy: 0.4889\n",
            "Epoch 6/30\n",
            "86/86 [==============================] - 0s 2ms/sample - loss: 0.9349 - accuracy: 0.5814 - val_loss: 0.9932 - val_accuracy: 0.5111\n",
            "Epoch 7/30\n",
            "86/86 [==============================] - 0s 2ms/sample - loss: 0.9140 - accuracy: 0.5814 - val_loss: 1.0008 - val_accuracy: 0.5556\n",
            "Epoch 8/30\n",
            "86/86 [==============================] - 0s 2ms/sample - loss: 0.9026 - accuracy: 0.6279 - val_loss: 1.0366 - val_accuracy: 0.4444\n",
            "Epoch 9/30\n",
            "86/86 [==============================] - 0s 2ms/sample - loss: 0.9966 - accuracy: 0.4651 - val_loss: 0.9859 - val_accuracy: 0.5556\n",
            "Epoch 10/30\n",
            "86/86 [==============================] - 0s 2ms/sample - loss: 0.9384 - accuracy: 0.5465 - val_loss: 0.9731 - val_accuracy: 0.4889\n",
            "Epoch 11/30\n",
            "86/86 [==============================] - 0s 2ms/sample - loss: 0.9402 - accuracy: 0.5349 - val_loss: 0.9907 - val_accuracy: 0.5778\n",
            "Epoch 12/30\n",
            "86/86 [==============================] - 0s 2ms/sample - loss: 0.9531 - accuracy: 0.4070 - val_loss: 0.9649 - val_accuracy: 0.5556\n",
            "Epoch 13/30\n",
            "86/86 [==============================] - 0s 2ms/sample - loss: 1.0073 - accuracy: 0.5116 - val_loss: 0.9670 - val_accuracy: 0.5111\n",
            "Epoch 14/30\n",
            "86/86 [==============================] - 0s 2ms/sample - loss: 0.9423 - accuracy: 0.5581 - val_loss: 0.9784 - val_accuracy: 0.5556\n",
            "Epoch 15/30\n",
            "86/86 [==============================] - 0s 2ms/sample - loss: 0.9599 - accuracy: 0.5349 - val_loss: 0.9911 - val_accuracy: 0.5778\n",
            "Epoch 16/30\n",
            "86/86 [==============================] - 0s 2ms/sample - loss: 0.9278 - accuracy: 0.6279 - val_loss: 1.0025 - val_accuracy: 0.5778\n",
            "Epoch 17/30\n",
            "86/86 [==============================] - 0s 2ms/sample - loss: 0.8913 - accuracy: 0.6279 - val_loss: 0.9994 - val_accuracy: 0.4889\n",
            "Epoch 18/30\n",
            "86/86 [==============================] - 0s 2ms/sample - loss: 0.9630 - accuracy: 0.5000 - val_loss: 0.9699 - val_accuracy: 0.5333\n",
            "Epoch 19/30\n",
            "86/86 [==============================] - 0s 2ms/sample - loss: 0.8693 - accuracy: 0.5930 - val_loss: 1.0599 - val_accuracy: 0.5333\n",
            "Epoch 20/30\n",
            "86/86 [==============================] - 0s 2ms/sample - loss: 0.9581 - accuracy: 0.6279 - val_loss: 1.0418 - val_accuracy: 0.6000\n",
            "Epoch 21/30\n",
            "86/86 [==============================] - 0s 2ms/sample - loss: 0.8952 - accuracy: 0.5814 - val_loss: 1.0522 - val_accuracy: 0.5111\n",
            "Epoch 22/30\n",
            "86/86 [==============================] - 0s 2ms/sample - loss: 0.9833 - accuracy: 0.5581 - val_loss: 0.9779 - val_accuracy: 0.5778\n",
            "Epoch 23/30\n",
            "86/86 [==============================] - 0s 2ms/sample - loss: 0.8905 - accuracy: 0.5000 - val_loss: 0.9903 - val_accuracy: 0.5333\n",
            "Epoch 24/30\n",
            "86/86 [==============================] - 0s 2ms/sample - loss: 1.0379 - accuracy: 0.5233 - val_loss: 0.9984 - val_accuracy: 0.5111\n",
            "Epoch 25/30\n",
            "86/86 [==============================] - 0s 2ms/sample - loss: 0.9554 - accuracy: 0.5930 - val_loss: 0.9802 - val_accuracy: 0.5333\n",
            "Epoch 26/30\n",
            "86/86 [==============================] - 0s 2ms/sample - loss: 0.9108 - accuracy: 0.5698 - val_loss: 1.0504 - val_accuracy: 0.5111\n",
            "Epoch 27/30\n",
            "86/86 [==============================] - 0s 2ms/sample - loss: 0.9026 - accuracy: 0.6047 - val_loss: 1.0038 - val_accuracy: 0.5778\n",
            "Epoch 28/30\n",
            "86/86 [==============================] - 0s 2ms/sample - loss: 0.9279 - accuracy: 0.6163 - val_loss: 1.0486 - val_accuracy: 0.4889\n",
            "Epoch 29/30\n",
            "86/86 [==============================] - 0s 2ms/sample - loss: 0.9516 - accuracy: 0.5116 - val_loss: 1.0016 - val_accuracy: 0.5333\n",
            "Epoch 30/30\n",
            "86/86 [==============================] - 0s 2ms/sample - loss: 1.0184 - accuracy: 0.5465 - val_loss: 0.9907 - val_accuracy: 0.5333\n",
            "Train on 86 samples, validate on 45 samples\n",
            "Epoch 1/30\n",
            "86/86 [==============================] - 0s 6ms/sample - loss: 3.2485 - accuracy: 0.4651 - val_loss: 1.6144 - val_accuracy: 0.3556\n",
            "Epoch 2/30\n",
            "86/86 [==============================] - 0s 2ms/sample - loss: 1.7349 - accuracy: 0.5116 - val_loss: 1.2095 - val_accuracy: 0.4444\n",
            "Epoch 3/30\n",
            "86/86 [==============================] - 0s 2ms/sample - loss: 1.2205 - accuracy: 0.5233 - val_loss: 1.0196 - val_accuracy: 0.4222\n",
            "Epoch 4/30\n",
            "86/86 [==============================] - 0s 2ms/sample - loss: 1.1588 - accuracy: 0.4535 - val_loss: 1.0455 - val_accuracy: 0.5111\n",
            "Epoch 5/30\n",
            "86/86 [==============================] - 0s 2ms/sample - loss: 1.0262 - accuracy: 0.5116 - val_loss: 1.0299 - val_accuracy: 0.5333\n",
            "Epoch 6/30\n",
            "86/86 [==============================] - 0s 2ms/sample - loss: 0.9460 - accuracy: 0.5698 - val_loss: 1.0593 - val_accuracy: 0.4667\n",
            "Epoch 7/30\n",
            "86/86 [==============================] - 0s 2ms/sample - loss: 0.9754 - accuracy: 0.4884 - val_loss: 0.9986 - val_accuracy: 0.4889\n",
            "Epoch 8/30\n",
            "86/86 [==============================] - 0s 2ms/sample - loss: 0.9233 - accuracy: 0.5814 - val_loss: 0.9830 - val_accuracy: 0.5333\n",
            "Epoch 9/30\n",
            "86/86 [==============================] - 0s 2ms/sample - loss: 1.0249 - accuracy: 0.6047 - val_loss: 0.9792 - val_accuracy: 0.5333\n",
            "Epoch 10/30\n",
            "86/86 [==============================] - 0s 2ms/sample - loss: 0.9811 - accuracy: 0.5000 - val_loss: 0.9867 - val_accuracy: 0.5111\n",
            "Epoch 11/30\n",
            "86/86 [==============================] - 0s 2ms/sample - loss: 0.9713 - accuracy: 0.5349 - val_loss: 0.9702 - val_accuracy: 0.5556\n",
            "Epoch 12/30\n",
            "86/86 [==============================] - 0s 2ms/sample - loss: 0.9222 - accuracy: 0.5930 - val_loss: 1.0036 - val_accuracy: 0.4889\n",
            "Epoch 13/30\n",
            "86/86 [==============================] - 0s 2ms/sample - loss: 0.9983 - accuracy: 0.5698 - val_loss: 0.9849 - val_accuracy: 0.4667\n",
            "Epoch 14/30\n",
            "86/86 [==============================] - 0s 2ms/sample - loss: 0.9451 - accuracy: 0.5116 - val_loss: 0.9903 - val_accuracy: 0.4889\n",
            "Epoch 15/30\n",
            "86/86 [==============================] - 0s 2ms/sample - loss: 0.9966 - accuracy: 0.5233 - val_loss: 0.9909 - val_accuracy: 0.5333\n",
            "Epoch 16/30\n",
            "86/86 [==============================] - 0s 2ms/sample - loss: 0.8914 - accuracy: 0.6512 - val_loss: 1.0395 - val_accuracy: 0.5333\n",
            "Epoch 17/30\n",
            "86/86 [==============================] - 0s 2ms/sample - loss: 0.8884 - accuracy: 0.6279 - val_loss: 1.0363 - val_accuracy: 0.5111\n",
            "Epoch 18/30\n",
            "86/86 [==============================] - 0s 2ms/sample - loss: 0.9961 - accuracy: 0.4884 - val_loss: 0.9996 - val_accuracy: 0.4889\n",
            "Epoch 19/30\n",
            "86/86 [==============================] - 0s 2ms/sample - loss: 0.9886 - accuracy: 0.5581 - val_loss: 0.9896 - val_accuracy: 0.5111\n",
            "Epoch 20/30\n",
            "86/86 [==============================] - 0s 2ms/sample - loss: 0.9911 - accuracy: 0.4651 - val_loss: 0.9881 - val_accuracy: 0.5333\n",
            "Epoch 21/30\n",
            "86/86 [==============================] - 0s 2ms/sample - loss: 0.8845 - accuracy: 0.5930 - val_loss: 1.0142 - val_accuracy: 0.4667\n",
            "Epoch 22/30\n",
            "86/86 [==============================] - 0s 2ms/sample - loss: 0.9296 - accuracy: 0.5581 - val_loss: 0.9874 - val_accuracy: 0.4667\n",
            "Epoch 23/30\n",
            "86/86 [==============================] - 0s 2ms/sample - loss: 0.9642 - accuracy: 0.5930 - val_loss: 0.9799 - val_accuracy: 0.5333\n",
            "Epoch 24/30\n",
            "86/86 [==============================] - 0s 2ms/sample - loss: 0.9502 - accuracy: 0.5930 - val_loss: 1.0020 - val_accuracy: 0.5111\n",
            "Epoch 25/30\n",
            "86/86 [==============================] - 0s 2ms/sample - loss: 0.9508 - accuracy: 0.5698 - val_loss: 1.0022 - val_accuracy: 0.5556\n",
            "Epoch 26/30\n",
            "86/86 [==============================] - 0s 2ms/sample - loss: 0.8886 - accuracy: 0.5930 - val_loss: 1.0397 - val_accuracy: 0.5333\n",
            "Epoch 27/30\n",
            "86/86 [==============================] - 0s 2ms/sample - loss: 1.0252 - accuracy: 0.5930 - val_loss: 0.9881 - val_accuracy: 0.4889\n",
            "Epoch 28/30\n",
            "86/86 [==============================] - 0s 2ms/sample - loss: 0.9405 - accuracy: 0.5814 - val_loss: 0.9769 - val_accuracy: 0.5556\n",
            "Epoch 29/30\n",
            "86/86 [==============================] - 0s 2ms/sample - loss: 1.0288 - accuracy: 0.4302 - val_loss: 0.9795 - val_accuracy: 0.4889\n",
            "Epoch 30/30\n",
            "86/86 [==============================] - 0s 2ms/sample - loss: 0.9672 - accuracy: 0.5233 - val_loss: 0.9732 - val_accuracy: 0.5111\n",
            "Train on 86 samples, validate on 45 samples\n",
            "Epoch 1/30\n",
            "86/86 [==============================] - 0s 6ms/sample - loss: 4.1661 - accuracy: 0.3023 - val_loss: 1.2380 - val_accuracy: 0.3778\n",
            "Epoch 2/30\n",
            "86/86 [==============================] - 0s 2ms/sample - loss: 1.9187 - accuracy: 0.3837 - val_loss: 1.0922 - val_accuracy: 0.5111\n",
            "Epoch 3/30\n",
            "86/86 [==============================] - 0s 2ms/sample - loss: 1.2171 - accuracy: 0.4302 - val_loss: 0.9926 - val_accuracy: 0.4222\n",
            "Epoch 4/30\n",
            "86/86 [==============================] - 0s 2ms/sample - loss: 1.1246 - accuracy: 0.4419 - val_loss: 1.0188 - val_accuracy: 0.4889\n",
            "Epoch 5/30\n",
            "86/86 [==============================] - 0s 2ms/sample - loss: 1.0022 - accuracy: 0.4767 - val_loss: 1.0030 - val_accuracy: 0.5111\n",
            "Epoch 6/30\n",
            "86/86 [==============================] - 0s 2ms/sample - loss: 0.9519 - accuracy: 0.4651 - val_loss: 0.9846 - val_accuracy: 0.4889\n",
            "Epoch 7/30\n",
            "86/86 [==============================] - 0s 2ms/sample - loss: 0.9166 - accuracy: 0.6163 - val_loss: 0.9703 - val_accuracy: 0.5556\n",
            "Epoch 8/30\n",
            "86/86 [==============================] - 0s 2ms/sample - loss: 0.9768 - accuracy: 0.5465 - val_loss: 0.9867 - val_accuracy: 0.4889\n",
            "Epoch 9/30\n",
            "86/86 [==============================] - 0s 2ms/sample - loss: 0.9758 - accuracy: 0.4767 - val_loss: 0.9768 - val_accuracy: 0.4889\n",
            "Epoch 10/30\n",
            "86/86 [==============================] - 0s 2ms/sample - loss: 0.9499 - accuracy: 0.5000 - val_loss: 0.9808 - val_accuracy: 0.4889\n",
            "Epoch 11/30\n",
            "86/86 [==============================] - 0s 2ms/sample - loss: 0.9515 - accuracy: 0.5814 - val_loss: 0.9793 - val_accuracy: 0.4889\n",
            "Epoch 12/30\n",
            "86/86 [==============================] - 0s 2ms/sample - loss: 0.9852 - accuracy: 0.5581 - val_loss: 0.9792 - val_accuracy: 0.5111\n",
            "Epoch 13/30\n",
            "86/86 [==============================] - 0s 2ms/sample - loss: 0.9438 - accuracy: 0.5116 - val_loss: 0.9723 - val_accuracy: 0.4889\n",
            "Epoch 14/30\n",
            "86/86 [==============================] - 0s 2ms/sample - loss: 0.9581 - accuracy: 0.4767 - val_loss: 0.9706 - val_accuracy: 0.5778\n",
            "Epoch 15/30\n",
            "86/86 [==============================] - 0s 2ms/sample - loss: 0.9943 - accuracy: 0.5698 - val_loss: 0.9754 - val_accuracy: 0.4889\n",
            "Epoch 16/30\n",
            "86/86 [==============================] - 0s 2ms/sample - loss: 0.9428 - accuracy: 0.5814 - val_loss: 0.9855 - val_accuracy: 0.4889\n",
            "Epoch 17/30\n",
            "86/86 [==============================] - 0s 2ms/sample - loss: 0.8941 - accuracy: 0.5698 - val_loss: 1.0090 - val_accuracy: 0.5333\n",
            "Epoch 18/30\n",
            "86/86 [==============================] - 0s 2ms/sample - loss: 0.9158 - accuracy: 0.5698 - val_loss: 0.9920 - val_accuracy: 0.5111\n",
            "Epoch 19/30\n",
            "86/86 [==============================] - 0s 2ms/sample - loss: 0.9588 - accuracy: 0.5930 - val_loss: 0.9796 - val_accuracy: 0.5111\n",
            "Epoch 20/30\n",
            "86/86 [==============================] - 0s 2ms/sample - loss: 0.9641 - accuracy: 0.5233 - val_loss: 0.9729 - val_accuracy: 0.5333\n",
            "Epoch 21/30\n",
            "86/86 [==============================] - 0s 2ms/sample - loss: 0.9683 - accuracy: 0.5000 - val_loss: 0.9939 - val_accuracy: 0.4889\n",
            "Epoch 22/30\n",
            "86/86 [==============================] - 0s 2ms/sample - loss: 0.9514 - accuracy: 0.5233 - val_loss: 0.9892 - val_accuracy: 0.5111\n",
            "Epoch 23/30\n",
            "86/86 [==============================] - 0s 2ms/sample - loss: 0.9339 - accuracy: 0.6047 - val_loss: 0.9966 - val_accuracy: 0.5556\n",
            "Epoch 24/30\n",
            "86/86 [==============================] - 0s 2ms/sample - loss: 0.9152 - accuracy: 0.5698 - val_loss: 0.9907 - val_accuracy: 0.5556\n",
            "Epoch 25/30\n",
            "86/86 [==============================] - 0s 2ms/sample - loss: 0.9491 - accuracy: 0.4884 - val_loss: 0.9829 - val_accuracy: 0.5556\n",
            "Epoch 26/30\n",
            "86/86 [==============================] - 0s 2ms/sample - loss: 1.0013 - accuracy: 0.5116 - val_loss: 0.9917 - val_accuracy: 0.5333\n",
            "Epoch 27/30\n",
            "86/86 [==============================] - 0s 2ms/sample - loss: 0.9327 - accuracy: 0.5465 - val_loss: 0.9944 - val_accuracy: 0.5333\n",
            "Epoch 28/30\n",
            "86/86 [==============================] - 0s 2ms/sample - loss: 0.9429 - accuracy: 0.5698 - val_loss: 1.0114 - val_accuracy: 0.5111\n",
            "Epoch 29/30\n",
            "86/86 [==============================] - 0s 2ms/sample - loss: 0.9666 - accuracy: 0.4767 - val_loss: 1.0289 - val_accuracy: 0.5333\n",
            "Epoch 30/30\n",
            "86/86 [==============================] - 0s 2ms/sample - loss: 0.8791 - accuracy: 0.6047 - val_loss: 1.0384 - val_accuracy: 0.5111\n",
            "Train on 86 samples, validate on 45 samples\n",
            "Epoch 1/30\n",
            "86/86 [==============================] - 1s 6ms/sample - loss: 3.5945 - accuracy: 0.2558 - val_loss: 1.7408 - val_accuracy: 0.3778\n",
            "Epoch 2/30\n",
            "86/86 [==============================] - 0s 2ms/sample - loss: 1.6180 - accuracy: 0.4186 - val_loss: 1.3011 - val_accuracy: 0.4000\n",
            "Epoch 3/30\n",
            "86/86 [==============================] - 0s 2ms/sample - loss: 1.2482 - accuracy: 0.4419 - val_loss: 1.0310 - val_accuracy: 0.4889\n",
            "Epoch 4/30\n",
            "86/86 [==============================] - 0s 2ms/sample - loss: 1.1456 - accuracy: 0.5465 - val_loss: 0.9755 - val_accuracy: 0.5111\n",
            "Epoch 5/30\n",
            "86/86 [==============================] - 0s 2ms/sample - loss: 0.9324 - accuracy: 0.4884 - val_loss: 0.9703 - val_accuracy: 0.4889\n",
            "Epoch 6/30\n",
            "86/86 [==============================] - 0s 2ms/sample - loss: 1.1074 - accuracy: 0.5000 - val_loss: 0.9722 - val_accuracy: 0.5111\n",
            "Epoch 7/30\n",
            "86/86 [==============================] - 0s 2ms/sample - loss: 1.0385 - accuracy: 0.5116 - val_loss: 0.9969 - val_accuracy: 0.4889\n",
            "Epoch 8/30\n",
            "86/86 [==============================] - 0s 2ms/sample - loss: 0.9794 - accuracy: 0.5000 - val_loss: 0.9948 - val_accuracy: 0.5111\n",
            "Epoch 9/30\n",
            "86/86 [==============================] - 0s 2ms/sample - loss: 0.9932 - accuracy: 0.3721 - val_loss: 0.9944 - val_accuracy: 0.4444\n",
            "Epoch 10/30\n",
            "86/86 [==============================] - 0s 2ms/sample - loss: 0.9697 - accuracy: 0.5465 - val_loss: 1.0026 - val_accuracy: 0.5111\n",
            "Epoch 11/30\n",
            "86/86 [==============================] - 0s 2ms/sample - loss: 0.9963 - accuracy: 0.4651 - val_loss: 0.9928 - val_accuracy: 0.5111\n",
            "Epoch 12/30\n",
            "86/86 [==============================] - 0s 2ms/sample - loss: 0.9337 - accuracy: 0.5814 - val_loss: 1.0095 - val_accuracy: 0.5111\n",
            "Epoch 13/30\n",
            "86/86 [==============================] - 0s 2ms/sample - loss: 0.9347 - accuracy: 0.5349 - val_loss: 1.0108 - val_accuracy: 0.5111\n",
            "Epoch 14/30\n",
            "86/86 [==============================] - 0s 2ms/sample - loss: 0.9597 - accuracy: 0.5814 - val_loss: 1.0081 - val_accuracy: 0.5111\n",
            "Epoch 15/30\n",
            "86/86 [==============================] - 0s 2ms/sample - loss: 0.9099 - accuracy: 0.6279 - val_loss: 1.0240 - val_accuracy: 0.5333\n",
            "Epoch 16/30\n",
            "86/86 [==============================] - 0s 2ms/sample - loss: 0.8799 - accuracy: 0.6512 - val_loss: 1.0382 - val_accuracy: 0.5333\n",
            "Epoch 17/30\n",
            "86/86 [==============================] - 0s 2ms/sample - loss: 0.9919 - accuracy: 0.5349 - val_loss: 0.9819 - val_accuracy: 0.4667\n",
            "Epoch 18/30\n",
            "86/86 [==============================] - 0s 2ms/sample - loss: 0.8427 - accuracy: 0.5698 - val_loss: 1.0135 - val_accuracy: 0.4889\n",
            "Epoch 19/30\n",
            "86/86 [==============================] - 0s 2ms/sample - loss: 0.9135 - accuracy: 0.5581 - val_loss: 1.0216 - val_accuracy: 0.5111\n",
            "Epoch 20/30\n",
            "86/86 [==============================] - 0s 2ms/sample - loss: 0.9204 - accuracy: 0.6163 - val_loss: 1.0377 - val_accuracy: 0.4889\n",
            "Epoch 21/30\n",
            "86/86 [==============================] - 0s 2ms/sample - loss: 0.9682 - accuracy: 0.5814 - val_loss: 0.9863 - val_accuracy: 0.5333\n",
            "Epoch 22/30\n",
            "86/86 [==============================] - 0s 2ms/sample - loss: 0.9569 - accuracy: 0.5698 - val_loss: 0.9917 - val_accuracy: 0.5333\n",
            "Epoch 23/30\n",
            "86/86 [==============================] - 0s 2ms/sample - loss: 0.9409 - accuracy: 0.5814 - val_loss: 0.9967 - val_accuracy: 0.5333\n",
            "Epoch 24/30\n",
            "86/86 [==============================] - 0s 2ms/sample - loss: 0.9249 - accuracy: 0.5581 - val_loss: 1.0173 - val_accuracy: 0.5556\n",
            "Epoch 25/30\n",
            "86/86 [==============================] - 0s 2ms/sample - loss: 1.0390 - accuracy: 0.5000 - val_loss: 0.9909 - val_accuracy: 0.5333\n",
            "Epoch 26/30\n",
            "86/86 [==============================] - 0s 2ms/sample - loss: 0.9171 - accuracy: 0.5233 - val_loss: 0.9817 - val_accuracy: 0.5778\n",
            "Epoch 27/30\n",
            "86/86 [==============================] - 0s 2ms/sample - loss: 0.9235 - accuracy: 0.5465 - val_loss: 1.0131 - val_accuracy: 0.5111\n",
            "Epoch 28/30\n",
            "86/86 [==============================] - 0s 2ms/sample - loss: 0.9376 - accuracy: 0.6395 - val_loss: 1.0283 - val_accuracy: 0.4889\n",
            "Epoch 29/30\n",
            "86/86 [==============================] - 0s 2ms/sample - loss: 0.9043 - accuracy: 0.5000 - val_loss: 1.0311 - val_accuracy: 0.5556\n",
            "Epoch 30/30\n",
            "86/86 [==============================] - 0s 2ms/sample - loss: 0.9750 - accuracy: 0.5698 - val_loss: 1.0189 - val_accuracy: 0.5111\n"
          ],
          "name": "stdout"
        },
        {
          "output_type": "display_data",
          "data": {
            "text/html": [
              "<span style=\"color:#4527A0\"><h1 style=\"font-size:18px\">Trial complete</h1></span>"
            ],
            "text/plain": [
              "<IPython.core.display.HTML object>"
            ]
          },
          "metadata": {
            "tags": []
          }
        },
        {
          "output_type": "display_data",
          "data": {
            "text/html": [
              "<span style=\"color:#4527A0\"><h1 style=\"font-size:18px\">Trial summary</h1></span>"
            ],
            "text/plain": [
              "<IPython.core.display.HTML object>"
            ]
          },
          "metadata": {
            "tags": []
          }
        },
        {
          "output_type": "display_data",
          "data": {
            "text/html": [
              "<span style=\"color:#7E57C2\"><h2 style=\"font-size:16px\">Hp values:</h2></span>"
            ],
            "text/plain": [
              "<IPython.core.display.HTML object>"
            ]
          },
          "metadata": {
            "tags": []
          }
        },
        {
          "output_type": "display_data",
          "data": {
            "text/html": [
              "<span style=\"color:cyan\"> |-activation: linear</span>"
            ],
            "text/plain": [
              "<IPython.core.display.HTML object>"
            ]
          },
          "metadata": {
            "tags": []
          }
        },
        {
          "output_type": "display_data",
          "data": {
            "text/html": [
              "<span style=\"color:blue\"> |-drop_rate: 0.6</span>"
            ],
            "text/plain": [
              "<IPython.core.display.HTML object>"
            ]
          },
          "metadata": {
            "tags": []
          }
        },
        {
          "output_type": "display_data",
          "data": {
            "text/html": [
              "<span style=\"color:cyan\"> |-learning_rate: 0.01</span>"
            ],
            "text/plain": [
              "<IPython.core.display.HTML object>"
            ]
          },
          "metadata": {
            "tags": []
          }
        },
        {
          "output_type": "display_data",
          "data": {
            "text/html": [
              "<span style=\"color:blue\"> |-units: 4</span>"
            ],
            "text/plain": [
              "<IPython.core.display.HTML object>"
            ]
          },
          "metadata": {
            "tags": []
          }
        },
        {
          "output_type": "display_data",
          "data": {
            "text/html": [
              "<span style=\"color:cyan\"> |-weight_init: glorot_normal</span>"
            ],
            "text/plain": [
              "<IPython.core.display.HTML object>"
            ]
          },
          "metadata": {
            "tags": []
          }
        },
        {
          "output_type": "display_data",
          "data": {
            "text/html": [
              "<span style=\"color:cyan\"> |-Score: 0.5822222828865051</span>"
            ],
            "text/plain": [
              "<IPython.core.display.HTML object>"
            ]
          },
          "metadata": {
            "tags": []
          }
        },
        {
          "output_type": "display_data",
          "data": {
            "text/html": [
              "<span style=\"color:cyan\"> |-Best step: 0</span>"
            ],
            "text/plain": [
              "<IPython.core.display.HTML object>"
            ]
          },
          "metadata": {
            "tags": []
          }
        },
        {
          "output_type": "stream",
          "text": [
            "Train on 86 samples, validate on 45 samples\n",
            "Epoch 1/30\n",
            "86/86 [==============================] - 1s 6ms/sample - loss: 1.2190 - accuracy: 0.3140 - val_loss: 1.1698 - val_accuracy: 0.3556\n",
            "Epoch 2/30\n",
            "86/86 [==============================] - 0s 2ms/sample - loss: 1.2438 - accuracy: 0.3256 - val_loss: 1.1657 - val_accuracy: 0.3778\n",
            "Epoch 3/30\n",
            "86/86 [==============================] - 0s 2ms/sample - loss: 1.1839 - accuracy: 0.3721 - val_loss: 1.1615 - val_accuracy: 0.3778\n",
            "Epoch 4/30\n",
            "86/86 [==============================] - 0s 2ms/sample - loss: 1.2874 - accuracy: 0.3023 - val_loss: 1.1572 - val_accuracy: 0.3556\n",
            "Epoch 5/30\n",
            "86/86 [==============================] - 0s 2ms/sample - loss: 1.2794 - accuracy: 0.3140 - val_loss: 1.1526 - val_accuracy: 0.3778\n",
            "Epoch 6/30\n",
            "86/86 [==============================] - 0s 2ms/sample - loss: 1.2698 - accuracy: 0.3023 - val_loss: 1.1488 - val_accuracy: 0.4000\n",
            "Epoch 7/30\n",
            "86/86 [==============================] - 0s 2ms/sample - loss: 1.1918 - accuracy: 0.3837 - val_loss: 1.1449 - val_accuracy: 0.4000\n",
            "Epoch 8/30\n",
            "86/86 [==============================] - 0s 2ms/sample - loss: 1.2687 - accuracy: 0.3372 - val_loss: 1.1409 - val_accuracy: 0.4000\n",
            "Epoch 9/30\n",
            "86/86 [==============================] - 0s 2ms/sample - loss: 1.1325 - accuracy: 0.4767 - val_loss: 1.1378 - val_accuracy: 0.4222\n",
            "Epoch 10/30\n",
            "86/86 [==============================] - 0s 2ms/sample - loss: 1.2962 - accuracy: 0.3256 - val_loss: 1.1334 - val_accuracy: 0.4222\n",
            "Epoch 11/30\n",
            "86/86 [==============================] - 0s 2ms/sample - loss: 1.2039 - accuracy: 0.3256 - val_loss: 1.1296 - val_accuracy: 0.4222\n",
            "Epoch 12/30\n",
            "86/86 [==============================] - 0s 2ms/sample - loss: 1.2127 - accuracy: 0.3372 - val_loss: 1.1265 - val_accuracy: 0.4222\n",
            "Epoch 13/30\n",
            "86/86 [==============================] - 0s 2ms/sample - loss: 1.1500 - accuracy: 0.4070 - val_loss: 1.1228 - val_accuracy: 0.4222\n",
            "Epoch 14/30\n",
            "86/86 [==============================] - 0s 2ms/sample - loss: 1.2228 - accuracy: 0.3256 - val_loss: 1.1199 - val_accuracy: 0.4222\n",
            "Epoch 15/30\n",
            "86/86 [==============================] - 0s 2ms/sample - loss: 1.1390 - accuracy: 0.4186 - val_loss: 1.1166 - val_accuracy: 0.4222\n",
            "Epoch 16/30\n",
            "86/86 [==============================] - 0s 2ms/sample - loss: 1.2447 - accuracy: 0.3488 - val_loss: 1.1131 - val_accuracy: 0.4444\n",
            "Epoch 17/30\n",
            "86/86 [==============================] - 0s 2ms/sample - loss: 1.1634 - accuracy: 0.4186 - val_loss: 1.1096 - val_accuracy: 0.4222\n",
            "Epoch 18/30\n",
            "86/86 [==============================] - 0s 2ms/sample - loss: 1.1996 - accuracy: 0.3953 - val_loss: 1.1064 - val_accuracy: 0.4222\n",
            "Epoch 19/30\n",
            "86/86 [==============================] - 0s 2ms/sample - loss: 1.1861 - accuracy: 0.4070 - val_loss: 1.1034 - val_accuracy: 0.4000\n",
            "Epoch 20/30\n",
            "86/86 [==============================] - 0s 2ms/sample - loss: 1.2077 - accuracy: 0.3721 - val_loss: 1.1003 - val_accuracy: 0.4000\n",
            "Epoch 21/30\n",
            "86/86 [==============================] - 0s 2ms/sample - loss: 1.1961 - accuracy: 0.3953 - val_loss: 1.0974 - val_accuracy: 0.4000\n",
            "Epoch 22/30\n",
            "86/86 [==============================] - 0s 2ms/sample - loss: 1.1171 - accuracy: 0.4302 - val_loss: 1.0946 - val_accuracy: 0.4000\n",
            "Epoch 23/30\n",
            "86/86 [==============================] - 0s 2ms/sample - loss: 1.2149 - accuracy: 0.2907 - val_loss: 1.0914 - val_accuracy: 0.4000\n",
            "Epoch 24/30\n",
            "86/86 [==============================] - 0s 2ms/sample - loss: 1.2211 - accuracy: 0.3721 - val_loss: 1.0889 - val_accuracy: 0.4000\n",
            "Epoch 25/30\n",
            "86/86 [==============================] - 0s 2ms/sample - loss: 1.2003 - accuracy: 0.3721 - val_loss: 1.0860 - val_accuracy: 0.4222\n",
            "Epoch 26/30\n",
            "86/86 [==============================] - 0s 2ms/sample - loss: 1.2163 - accuracy: 0.3140 - val_loss: 1.0834 - val_accuracy: 0.4222\n",
            "Epoch 27/30\n",
            "86/86 [==============================] - 0s 2ms/sample - loss: 1.1411 - accuracy: 0.3837 - val_loss: 1.0810 - val_accuracy: 0.4222\n",
            "Epoch 28/30\n",
            "86/86 [==============================] - 0s 2ms/sample - loss: 1.1610 - accuracy: 0.3837 - val_loss: 1.0782 - val_accuracy: 0.4222\n",
            "Epoch 29/30\n",
            "86/86 [==============================] - 0s 2ms/sample - loss: 1.1246 - accuracy: 0.4302 - val_loss: 1.0760 - val_accuracy: 0.4222\n",
            "Epoch 30/30\n",
            "86/86 [==============================] - 0s 2ms/sample - loss: 1.1264 - accuracy: 0.3837 - val_loss: 1.0738 - val_accuracy: 0.4000\n",
            "Train on 86 samples, validate on 45 samples\n",
            "Epoch 1/30\n",
            "86/86 [==============================] - 1s 6ms/sample - loss: 1.1488 - accuracy: 0.3837 - val_loss: 1.1265 - val_accuracy: 0.3333\n",
            "Epoch 2/30\n",
            "86/86 [==============================] - 0s 2ms/sample - loss: 1.1908 - accuracy: 0.3372 - val_loss: 1.1231 - val_accuracy: 0.3333\n",
            "Epoch 3/30\n",
            "86/86 [==============================] - 0s 2ms/sample - loss: 1.1563 - accuracy: 0.4302 - val_loss: 1.1192 - val_accuracy: 0.3333\n",
            "Epoch 4/30\n",
            "86/86 [==============================] - 0s 2ms/sample - loss: 1.1348 - accuracy: 0.3953 - val_loss: 1.1159 - val_accuracy: 0.3333\n",
            "Epoch 5/30\n",
            "86/86 [==============================] - 0s 2ms/sample - loss: 1.1543 - accuracy: 0.4070 - val_loss: 1.1127 - val_accuracy: 0.3333\n",
            "Epoch 6/30\n",
            "86/86 [==============================] - 0s 2ms/sample - loss: 1.1280 - accuracy: 0.4302 - val_loss: 1.1097 - val_accuracy: 0.3556\n",
            "Epoch 7/30\n",
            "86/86 [==============================] - 0s 2ms/sample - loss: 1.2121 - accuracy: 0.3605 - val_loss: 1.1066 - val_accuracy: 0.3333\n",
            "Epoch 8/30\n",
            "86/86 [==============================] - 0s 2ms/sample - loss: 1.1600 - accuracy: 0.3372 - val_loss: 1.1032 - val_accuracy: 0.3333\n",
            "Epoch 9/30\n",
            "86/86 [==============================] - 0s 2ms/sample - loss: 1.2008 - accuracy: 0.3488 - val_loss: 1.0998 - val_accuracy: 0.3333\n",
            "Epoch 10/30\n",
            "86/86 [==============================] - 0s 2ms/sample - loss: 1.1783 - accuracy: 0.3837 - val_loss: 1.0967 - val_accuracy: 0.3333\n",
            "Epoch 11/30\n",
            "86/86 [==============================] - 0s 2ms/sample - loss: 1.1709 - accuracy: 0.3372 - val_loss: 1.0937 - val_accuracy: 0.3333\n",
            "Epoch 12/30\n",
            "86/86 [==============================] - 0s 2ms/sample - loss: 1.0687 - accuracy: 0.4535 - val_loss: 1.0910 - val_accuracy: 0.3333\n",
            "Epoch 13/30\n",
            "86/86 [==============================] - 0s 2ms/sample - loss: 1.1272 - accuracy: 0.3953 - val_loss: 1.0883 - val_accuracy: 0.3333\n",
            "Epoch 14/30\n",
            "86/86 [==============================] - 0s 2ms/sample - loss: 1.1400 - accuracy: 0.4186 - val_loss: 1.0856 - val_accuracy: 0.3333\n",
            "Epoch 15/30\n",
            "86/86 [==============================] - 0s 2ms/sample - loss: 1.1006 - accuracy: 0.4302 - val_loss: 1.0827 - val_accuracy: 0.3333\n",
            "Epoch 16/30\n",
            "86/86 [==============================] - 0s 2ms/sample - loss: 1.1000 - accuracy: 0.3023 - val_loss: 1.0802 - val_accuracy: 0.3333\n",
            "Epoch 17/30\n",
            "86/86 [==============================] - 0s 2ms/sample - loss: 1.1049 - accuracy: 0.3953 - val_loss: 1.0776 - val_accuracy: 0.3333\n",
            "Epoch 18/30\n",
            "86/86 [==============================] - 0s 3ms/sample - loss: 1.0458 - accuracy: 0.4535 - val_loss: 1.0754 - val_accuracy: 0.3333\n",
            "Epoch 19/30\n",
            "86/86 [==============================] - 0s 2ms/sample - loss: 1.1408 - accuracy: 0.3721 - val_loss: 1.0729 - val_accuracy: 0.3333\n",
            "Epoch 20/30\n",
            "86/86 [==============================] - 0s 2ms/sample - loss: 1.0681 - accuracy: 0.3953 - val_loss: 1.0708 - val_accuracy: 0.3333\n",
            "Epoch 21/30\n",
            "86/86 [==============================] - 0s 2ms/sample - loss: 1.1549 - accuracy: 0.3721 - val_loss: 1.0684 - val_accuracy: 0.3333\n",
            "Epoch 22/30\n",
            "86/86 [==============================] - 0s 2ms/sample - loss: 1.0749 - accuracy: 0.4070 - val_loss: 1.0664 - val_accuracy: 0.3556\n",
            "Epoch 23/30\n",
            "86/86 [==============================] - 0s 2ms/sample - loss: 1.1301 - accuracy: 0.3140 - val_loss: 1.0636 - val_accuracy: 0.3556\n",
            "Epoch 24/30\n",
            "86/86 [==============================] - 0s 2ms/sample - loss: 1.0714 - accuracy: 0.4302 - val_loss: 1.0615 - val_accuracy: 0.3556\n",
            "Epoch 25/30\n",
            "86/86 [==============================] - 0s 2ms/sample - loss: 1.1173 - accuracy: 0.3721 - val_loss: 1.0600 - val_accuracy: 0.3556\n",
            "Epoch 26/30\n",
            "86/86 [==============================] - 0s 2ms/sample - loss: 1.1224 - accuracy: 0.3488 - val_loss: 1.0576 - val_accuracy: 0.3556\n",
            "Epoch 27/30\n",
            "86/86 [==============================] - 0s 2ms/sample - loss: 1.1715 - accuracy: 0.3372 - val_loss: 1.0557 - val_accuracy: 0.3556\n",
            "Epoch 28/30\n",
            "86/86 [==============================] - 0s 2ms/sample - loss: 1.0328 - accuracy: 0.4070 - val_loss: 1.0538 - val_accuracy: 0.3556\n",
            "Epoch 29/30\n",
            "86/86 [==============================] - 0s 2ms/sample - loss: 1.1234 - accuracy: 0.3372 - val_loss: 1.0520 - val_accuracy: 0.3556\n",
            "Epoch 30/30\n",
            "86/86 [==============================] - 0s 2ms/sample - loss: 1.0615 - accuracy: 0.4186 - val_loss: 1.0505 - val_accuracy: 0.3556\n",
            "Train on 86 samples, validate on 45 samples\n",
            "Epoch 1/30\n",
            "86/86 [==============================] - 1s 6ms/sample - loss: 1.1814 - accuracy: 0.3605 - val_loss: 1.1273 - val_accuracy: 0.3556\n",
            "Epoch 2/30\n",
            "86/86 [==============================] - 0s 2ms/sample - loss: 1.1922 - accuracy: 0.3488 - val_loss: 1.1235 - val_accuracy: 0.3556\n",
            "Epoch 3/30\n",
            "86/86 [==============================] - 0s 2ms/sample - loss: 1.1986 - accuracy: 0.3023 - val_loss: 1.1204 - val_accuracy: 0.3556\n",
            "Epoch 4/30\n",
            "86/86 [==============================] - 0s 2ms/sample - loss: 1.2193 - accuracy: 0.2442 - val_loss: 1.1173 - val_accuracy: 0.3556\n",
            "Epoch 5/30\n",
            "86/86 [==============================] - 0s 2ms/sample - loss: 1.2081 - accuracy: 0.3256 - val_loss: 1.1137 - val_accuracy: 0.3556\n",
            "Epoch 6/30\n",
            "86/86 [==============================] - 0s 2ms/sample - loss: 1.2217 - accuracy: 0.3140 - val_loss: 1.1106 - val_accuracy: 0.3556\n",
            "Epoch 7/30\n",
            "86/86 [==============================] - 0s 2ms/sample - loss: 1.1862 - accuracy: 0.2907 - val_loss: 1.1077 - val_accuracy: 0.3556\n",
            "Epoch 8/30\n",
            "86/86 [==============================] - 0s 2ms/sample - loss: 1.1995 - accuracy: 0.2791 - val_loss: 1.1050 - val_accuracy: 0.4000\n",
            "Epoch 9/30\n",
            "86/86 [==============================] - 0s 2ms/sample - loss: 1.1677 - accuracy: 0.3256 - val_loss: 1.1022 - val_accuracy: 0.4000\n",
            "Epoch 10/30\n",
            "86/86 [==============================] - 0s 2ms/sample - loss: 1.1679 - accuracy: 0.3488 - val_loss: 1.0994 - val_accuracy: 0.3778\n",
            "Epoch 11/30\n",
            "86/86 [==============================] - 0s 2ms/sample - loss: 1.1185 - accuracy: 0.3488 - val_loss: 1.0967 - val_accuracy: 0.3778\n",
            "Epoch 12/30\n",
            "86/86 [==============================] - 0s 2ms/sample - loss: 1.1853 - accuracy: 0.3023 - val_loss: 1.0939 - val_accuracy: 0.3778\n",
            "Epoch 13/30\n",
            "86/86 [==============================] - 0s 2ms/sample - loss: 1.1678 - accuracy: 0.2674 - val_loss: 1.0918 - val_accuracy: 0.3778\n",
            "Epoch 14/30\n",
            "86/86 [==============================] - 0s 2ms/sample - loss: 1.2139 - accuracy: 0.2907 - val_loss: 1.0895 - val_accuracy: 0.3778\n",
            "Epoch 15/30\n",
            "86/86 [==============================] - 0s 2ms/sample - loss: 1.1648 - accuracy: 0.3023 - val_loss: 1.0870 - val_accuracy: 0.3778\n",
            "Epoch 16/30\n",
            "86/86 [==============================] - 0s 2ms/sample - loss: 1.1929 - accuracy: 0.2791 - val_loss: 1.0846 - val_accuracy: 0.3778\n",
            "Epoch 17/30\n",
            "86/86 [==============================] - 0s 2ms/sample - loss: 1.1456 - accuracy: 0.2907 - val_loss: 1.0826 - val_accuracy: 0.3778\n",
            "Epoch 18/30\n",
            "86/86 [==============================] - 0s 2ms/sample - loss: 1.1415 - accuracy: 0.2907 - val_loss: 1.0804 - val_accuracy: 0.3778\n",
            "Epoch 19/30\n",
            "86/86 [==============================] - 0s 2ms/sample - loss: 1.1700 - accuracy: 0.2907 - val_loss: 1.0781 - val_accuracy: 0.3778\n",
            "Epoch 20/30\n",
            "86/86 [==============================] - 0s 2ms/sample - loss: 1.1890 - accuracy: 0.2674 - val_loss: 1.0760 - val_accuracy: 0.3778\n",
            "Epoch 21/30\n",
            "86/86 [==============================] - 0s 2ms/sample - loss: 1.1021 - accuracy: 0.3837 - val_loss: 1.0739 - val_accuracy: 0.3778\n",
            "Epoch 22/30\n",
            "86/86 [==============================] - 0s 2ms/sample - loss: 1.1252 - accuracy: 0.3140 - val_loss: 1.0718 - val_accuracy: 0.3778\n",
            "Epoch 23/30\n",
            "86/86 [==============================] - 0s 2ms/sample - loss: 1.1529 - accuracy: 0.2907 - val_loss: 1.0699 - val_accuracy: 0.3778\n",
            "Epoch 24/30\n",
            "86/86 [==============================] - 0s 2ms/sample - loss: 1.1592 - accuracy: 0.3256 - val_loss: 1.0682 - val_accuracy: 0.4000\n",
            "Epoch 25/30\n",
            "86/86 [==============================] - 0s 2ms/sample - loss: 1.1215 - accuracy: 0.3372 - val_loss: 1.0664 - val_accuracy: 0.4000\n",
            "Epoch 26/30\n",
            "86/86 [==============================] - 0s 2ms/sample - loss: 1.1381 - accuracy: 0.3605 - val_loss: 1.0648 - val_accuracy: 0.4000\n",
            "Epoch 27/30\n",
            "86/86 [==============================] - 0s 2ms/sample - loss: 1.1077 - accuracy: 0.3488 - val_loss: 1.0631 - val_accuracy: 0.4000\n",
            "Epoch 28/30\n",
            "86/86 [==============================] - 0s 2ms/sample - loss: 1.0812 - accuracy: 0.3953 - val_loss: 1.0613 - val_accuracy: 0.4000\n",
            "Epoch 29/30\n",
            "86/86 [==============================] - 0s 2ms/sample - loss: 1.1187 - accuracy: 0.3837 - val_loss: 1.0595 - val_accuracy: 0.4222\n",
            "Epoch 30/30\n",
            "86/86 [==============================] - 0s 2ms/sample - loss: 1.1221 - accuracy: 0.3256 - val_loss: 1.0580 - val_accuracy: 0.4000\n",
            "Train on 86 samples, validate on 45 samples\n",
            "Epoch 1/30\n",
            "86/86 [==============================] - 1s 6ms/sample - loss: 1.2848 - accuracy: 0.2907 - val_loss: 1.2954 - val_accuracy: 0.2222\n",
            "Epoch 2/30\n",
            "86/86 [==============================] - 0s 2ms/sample - loss: 1.3269 - accuracy: 0.2558 - val_loss: 1.2888 - val_accuracy: 0.2444\n",
            "Epoch 3/30\n",
            "86/86 [==============================] - 0s 2ms/sample - loss: 1.3330 - accuracy: 0.2791 - val_loss: 1.2826 - val_accuracy: 0.2667\n",
            "Epoch 4/30\n",
            "86/86 [==============================] - 0s 2ms/sample - loss: 1.3196 - accuracy: 0.2907 - val_loss: 1.2758 - val_accuracy: 0.2667\n",
            "Epoch 5/30\n",
            "86/86 [==============================] - 0s 2ms/sample - loss: 1.3445 - accuracy: 0.2674 - val_loss: 1.2687 - val_accuracy: 0.2667\n",
            "Epoch 6/30\n",
            "86/86 [==============================] - 0s 2ms/sample - loss: 1.2455 - accuracy: 0.3372 - val_loss: 1.2628 - val_accuracy: 0.2667\n",
            "Epoch 7/30\n",
            "86/86 [==============================] - 0s 2ms/sample - loss: 1.3490 - accuracy: 0.2791 - val_loss: 1.2568 - val_accuracy: 0.2667\n",
            "Epoch 8/30\n",
            "86/86 [==============================] - 0s 2ms/sample - loss: 1.3117 - accuracy: 0.2326 - val_loss: 1.2499 - val_accuracy: 0.2667\n",
            "Epoch 9/30\n",
            "86/86 [==============================] - 0s 2ms/sample - loss: 1.2949 - accuracy: 0.2326 - val_loss: 1.2440 - val_accuracy: 0.2667\n",
            "Epoch 10/30\n",
            "86/86 [==============================] - 0s 2ms/sample - loss: 1.2371 - accuracy: 0.3256 - val_loss: 1.2384 - val_accuracy: 0.2667\n",
            "Epoch 11/30\n",
            "86/86 [==============================] - 0s 2ms/sample - loss: 1.2852 - accuracy: 0.2674 - val_loss: 1.2330 - val_accuracy: 0.2667\n",
            "Epoch 12/30\n",
            "86/86 [==============================] - 0s 2ms/sample - loss: 1.3062 - accuracy: 0.2791 - val_loss: 1.2267 - val_accuracy: 0.2667\n",
            "Epoch 13/30\n",
            "86/86 [==============================] - 0s 2ms/sample - loss: 1.2254 - accuracy: 0.3372 - val_loss: 1.2213 - val_accuracy: 0.2667\n",
            "Epoch 14/30\n",
            "86/86 [==============================] - 0s 2ms/sample - loss: 1.2328 - accuracy: 0.2674 - val_loss: 1.2164 - val_accuracy: 0.2667\n",
            "Epoch 15/30\n",
            "86/86 [==============================] - 0s 2ms/sample - loss: 1.1969 - accuracy: 0.3256 - val_loss: 1.2115 - val_accuracy: 0.2667\n",
            "Epoch 16/30\n",
            "86/86 [==============================] - 0s 2ms/sample - loss: 1.2128 - accuracy: 0.2907 - val_loss: 1.2062 - val_accuracy: 0.2667\n",
            "Epoch 17/30\n",
            "86/86 [==============================] - 0s 2ms/sample - loss: 1.2059 - accuracy: 0.2907 - val_loss: 1.2012 - val_accuracy: 0.2667\n",
            "Epoch 18/30\n",
            "86/86 [==============================] - 0s 2ms/sample - loss: 1.2490 - accuracy: 0.3256 - val_loss: 1.1957 - val_accuracy: 0.2889\n",
            "Epoch 19/30\n",
            "86/86 [==============================] - 0s 2ms/sample - loss: 1.1685 - accuracy: 0.3256 - val_loss: 1.1907 - val_accuracy: 0.2889\n",
            "Epoch 20/30\n",
            "86/86 [==============================] - 0s 2ms/sample - loss: 1.1732 - accuracy: 0.3140 - val_loss: 1.1864 - val_accuracy: 0.2889\n",
            "Epoch 21/30\n",
            "86/86 [==============================] - 0s 2ms/sample - loss: 1.1990 - accuracy: 0.3023 - val_loss: 1.1819 - val_accuracy: 0.2889\n",
            "Epoch 22/30\n",
            "86/86 [==============================] - 0s 2ms/sample - loss: 1.1713 - accuracy: 0.3372 - val_loss: 1.1776 - val_accuracy: 0.2889\n",
            "Epoch 23/30\n",
            "86/86 [==============================] - 0s 2ms/sample - loss: 1.1973 - accuracy: 0.3256 - val_loss: 1.1725 - val_accuracy: 0.2889\n",
            "Epoch 24/30\n",
            "86/86 [==============================] - 0s 2ms/sample - loss: 1.1653 - accuracy: 0.3372 - val_loss: 1.1682 - val_accuracy: 0.2889\n",
            "Epoch 25/30\n",
            "86/86 [==============================] - 0s 2ms/sample - loss: 1.1750 - accuracy: 0.3372 - val_loss: 1.1640 - val_accuracy: 0.2889\n",
            "Epoch 26/30\n",
            "86/86 [==============================] - 0s 2ms/sample - loss: 1.1442 - accuracy: 0.3837 - val_loss: 1.1597 - val_accuracy: 0.2889\n",
            "Epoch 27/30\n",
            "86/86 [==============================] - 0s 2ms/sample - loss: 1.1478 - accuracy: 0.3140 - val_loss: 1.1556 - val_accuracy: 0.2889\n",
            "Epoch 28/30\n",
            "86/86 [==============================] - 0s 2ms/sample - loss: 1.1669 - accuracy: 0.3721 - val_loss: 1.1514 - val_accuracy: 0.2889\n",
            "Epoch 29/30\n",
            "86/86 [==============================] - 0s 2ms/sample - loss: 1.1353 - accuracy: 0.3953 - val_loss: 1.1476 - val_accuracy: 0.3111\n",
            "Epoch 30/30\n",
            "86/86 [==============================] - 0s 2ms/sample - loss: 1.0829 - accuracy: 0.4302 - val_loss: 1.1435 - val_accuracy: 0.3333\n",
            "Train on 86 samples, validate on 45 samples\n",
            "Epoch 1/30\n",
            "86/86 [==============================] - 1s 6ms/sample - loss: 1.1296 - accuracy: 0.4419 - val_loss: 1.0809 - val_accuracy: 0.5111\n",
            "Epoch 2/30\n",
            "86/86 [==============================] - 0s 2ms/sample - loss: 1.0836 - accuracy: 0.4767 - val_loss: 1.0789 - val_accuracy: 0.5111\n",
            "Epoch 3/30\n",
            "86/86 [==============================] - 0s 2ms/sample - loss: 1.0943 - accuracy: 0.4651 - val_loss: 1.0767 - val_accuracy: 0.5111\n",
            "Epoch 4/30\n",
            "86/86 [==============================] - 0s 2ms/sample - loss: 1.1377 - accuracy: 0.4651 - val_loss: 1.0745 - val_accuracy: 0.5111\n",
            "Epoch 5/30\n",
            "86/86 [==============================] - 0s 2ms/sample - loss: 1.1163 - accuracy: 0.4535 - val_loss: 1.0721 - val_accuracy: 0.5111\n",
            "Epoch 6/30\n",
            "86/86 [==============================] - 0s 2ms/sample - loss: 1.0411 - accuracy: 0.5233 - val_loss: 1.0702 - val_accuracy: 0.5111\n",
            "Epoch 7/30\n",
            "86/86 [==============================] - 0s 2ms/sample - loss: 1.0596 - accuracy: 0.4767 - val_loss: 1.0680 - val_accuracy: 0.5111\n",
            "Epoch 8/30\n",
            "86/86 [==============================] - 0s 2ms/sample - loss: 1.1039 - accuracy: 0.4535 - val_loss: 1.0659 - val_accuracy: 0.5111\n",
            "Epoch 9/30\n",
            "86/86 [==============================] - 0s 2ms/sample - loss: 1.1037 - accuracy: 0.4302 - val_loss: 1.0639 - val_accuracy: 0.5111\n",
            "Epoch 10/30\n",
            "86/86 [==============================] - 0s 2ms/sample - loss: 1.1273 - accuracy: 0.4884 - val_loss: 1.0613 - val_accuracy: 0.5111\n",
            "Epoch 11/30\n",
            "86/86 [==============================] - 0s 2ms/sample - loss: 1.1654 - accuracy: 0.3837 - val_loss: 1.0593 - val_accuracy: 0.5111\n",
            "Epoch 12/30\n",
            "86/86 [==============================] - 0s 2ms/sample - loss: 1.0825 - accuracy: 0.4535 - val_loss: 1.0572 - val_accuracy: 0.5111\n",
            "Epoch 13/30\n",
            "86/86 [==============================] - 0s 2ms/sample - loss: 1.0965 - accuracy: 0.4767 - val_loss: 1.0553 - val_accuracy: 0.5111\n",
            "Epoch 14/30\n",
            "86/86 [==============================] - 0s 2ms/sample - loss: 1.0826 - accuracy: 0.4070 - val_loss: 1.0535 - val_accuracy: 0.5111\n",
            "Epoch 15/30\n",
            "86/86 [==============================] - 0s 2ms/sample - loss: 1.0622 - accuracy: 0.5116 - val_loss: 1.0512 - val_accuracy: 0.5111\n",
            "Epoch 16/30\n",
            "86/86 [==============================] - 0s 2ms/sample - loss: 1.1314 - accuracy: 0.4070 - val_loss: 1.0495 - val_accuracy: 0.5111\n",
            "Epoch 17/30\n",
            "86/86 [==============================] - 0s 2ms/sample - loss: 1.1200 - accuracy: 0.4535 - val_loss: 1.0477 - val_accuracy: 0.5111\n",
            "Epoch 18/30\n",
            "86/86 [==============================] - 0s 2ms/sample - loss: 1.0619 - accuracy: 0.4651 - val_loss: 1.0463 - val_accuracy: 0.5111\n",
            "Epoch 19/30\n",
            "86/86 [==============================] - 0s 2ms/sample - loss: 1.0820 - accuracy: 0.4535 - val_loss: 1.0445 - val_accuracy: 0.5111\n",
            "Epoch 20/30\n",
            "86/86 [==============================] - 0s 2ms/sample - loss: 1.0773 - accuracy: 0.4186 - val_loss: 1.0423 - val_accuracy: 0.5333\n",
            "Epoch 21/30\n",
            "86/86 [==============================] - 0s 2ms/sample - loss: 1.0644 - accuracy: 0.4535 - val_loss: 1.0408 - val_accuracy: 0.5333\n",
            "Epoch 22/30\n",
            "86/86 [==============================] - 0s 2ms/sample - loss: 1.0649 - accuracy: 0.4767 - val_loss: 1.0392 - val_accuracy: 0.5111\n",
            "Epoch 23/30\n",
            "86/86 [==============================] - 0s 2ms/sample - loss: 1.0703 - accuracy: 0.4419 - val_loss: 1.0375 - val_accuracy: 0.5111\n",
            "Epoch 24/30\n",
            "86/86 [==============================] - 0s 2ms/sample - loss: 1.0384 - accuracy: 0.4767 - val_loss: 1.0360 - val_accuracy: 0.4889\n",
            "Epoch 25/30\n",
            "86/86 [==============================] - 0s 2ms/sample - loss: 1.0450 - accuracy: 0.4767 - val_loss: 1.0347 - val_accuracy: 0.4889\n",
            "Epoch 26/30\n",
            "86/86 [==============================] - 0s 2ms/sample - loss: 1.0658 - accuracy: 0.4767 - val_loss: 1.0333 - val_accuracy: 0.4889\n",
            "Epoch 27/30\n",
            "86/86 [==============================] - 0s 2ms/sample - loss: 1.0509 - accuracy: 0.4767 - val_loss: 1.0319 - val_accuracy: 0.4889\n",
            "Epoch 28/30\n",
            "86/86 [==============================] - 0s 2ms/sample - loss: 1.0869 - accuracy: 0.3837 - val_loss: 1.0302 - val_accuracy: 0.4889\n",
            "Epoch 29/30\n",
            "86/86 [==============================] - 0s 2ms/sample - loss: 1.0610 - accuracy: 0.4419 - val_loss: 1.0288 - val_accuracy: 0.5111\n",
            "Epoch 30/30\n",
            "86/86 [==============================] - 0s 2ms/sample - loss: 1.0552 - accuracy: 0.4535 - val_loss: 1.0273 - val_accuracy: 0.5111\n"
          ],
          "name": "stdout"
        },
        {
          "output_type": "display_data",
          "data": {
            "text/html": [
              "<span style=\"color:#4527A0\"><h1 style=\"font-size:18px\">Trial complete</h1></span>"
            ],
            "text/plain": [
              "<IPython.core.display.HTML object>"
            ]
          },
          "metadata": {
            "tags": []
          }
        },
        {
          "output_type": "display_data",
          "data": {
            "text/html": [
              "<span style=\"color:#4527A0\"><h1 style=\"font-size:18px\">Trial summary</h1></span>"
            ],
            "text/plain": [
              "<IPython.core.display.HTML object>"
            ]
          },
          "metadata": {
            "tags": []
          }
        },
        {
          "output_type": "display_data",
          "data": {
            "text/html": [
              "<span style=\"color:#7E57C2\"><h2 style=\"font-size:16px\">Hp values:</h2></span>"
            ],
            "text/plain": [
              "<IPython.core.display.HTML object>"
            ]
          },
          "metadata": {
            "tags": []
          }
        },
        {
          "output_type": "display_data",
          "data": {
            "text/html": [
              "<span style=\"color:cyan\"> |-activation: hard_sigmoid</span>"
            ],
            "text/plain": [
              "<IPython.core.display.HTML object>"
            ]
          },
          "metadata": {
            "tags": []
          }
        },
        {
          "output_type": "display_data",
          "data": {
            "text/html": [
              "<span style=\"color:blue\"> |-drop_rate: 0.3</span>"
            ],
            "text/plain": [
              "<IPython.core.display.HTML object>"
            ]
          },
          "metadata": {
            "tags": []
          }
        },
        {
          "output_type": "display_data",
          "data": {
            "text/html": [
              "<span style=\"color:cyan\"> |-learning_rate: 0.0001</span>"
            ],
            "text/plain": [
              "<IPython.core.display.HTML object>"
            ]
          },
          "metadata": {
            "tags": []
          }
        },
        {
          "output_type": "display_data",
          "data": {
            "text/html": [
              "<span style=\"color:blue\"> |-units: 4</span>"
            ],
            "text/plain": [
              "<IPython.core.display.HTML object>"
            ]
          },
          "metadata": {
            "tags": []
          }
        },
        {
          "output_type": "display_data",
          "data": {
            "text/html": [
              "<span style=\"color:cyan\"> |-weight_init: lecun_uniform</span>"
            ],
            "text/plain": [
              "<IPython.core.display.HTML object>"
            ]
          },
          "metadata": {
            "tags": []
          }
        },
        {
          "output_type": "display_data",
          "data": {
            "text/html": [
              "<span style=\"color:cyan\"> |-Score: 0.41777777671813965</span>"
            ],
            "text/plain": [
              "<IPython.core.display.HTML object>"
            ]
          },
          "metadata": {
            "tags": []
          }
        },
        {
          "output_type": "display_data",
          "data": {
            "text/html": [
              "<span style=\"color:cyan\"> |-Best step: 0</span>"
            ],
            "text/plain": [
              "<IPython.core.display.HTML object>"
            ]
          },
          "metadata": {
            "tags": []
          }
        },
        {
          "output_type": "stream",
          "text": [
            "Train on 86 samples, validate on 45 samples\n",
            "Epoch 1/30\n",
            "86/86 [==============================] - 0s 6ms/sample - loss: 1.2898 - accuracy: 0.3256 - val_loss: 1.2532 - val_accuracy: 0.2667\n",
            "Epoch 2/30\n",
            "86/86 [==============================] - 0s 2ms/sample - loss: 1.2818 - accuracy: 0.3256 - val_loss: 1.2484 - val_accuracy: 0.3111\n",
            "Epoch 3/30\n",
            "86/86 [==============================] - 0s 2ms/sample - loss: 1.2740 - accuracy: 0.3256 - val_loss: 1.2430 - val_accuracy: 0.3111\n",
            "Epoch 4/30\n",
            "86/86 [==============================] - 0s 2ms/sample - loss: 1.2667 - accuracy: 0.3256 - val_loss: 1.2369 - val_accuracy: 0.3111\n",
            "Epoch 5/30\n",
            "86/86 [==============================] - 0s 2ms/sample - loss: 1.2590 - accuracy: 0.3256 - val_loss: 1.2323 - val_accuracy: 0.3111\n",
            "Epoch 6/30\n",
            "86/86 [==============================] - 0s 2ms/sample - loss: 1.2518 - accuracy: 0.3256 - val_loss: 1.2274 - val_accuracy: 0.3111\n",
            "Epoch 7/30\n",
            "86/86 [==============================] - 0s 2ms/sample - loss: 1.2446 - accuracy: 0.3372 - val_loss: 1.2224 - val_accuracy: 0.3111\n",
            "Epoch 8/30\n",
            "86/86 [==============================] - 0s 2ms/sample - loss: 1.2375 - accuracy: 0.3488 - val_loss: 1.2177 - val_accuracy: 0.3333\n",
            "Epoch 9/30\n",
            "86/86 [==============================] - 0s 2ms/sample - loss: 1.2305 - accuracy: 0.3605 - val_loss: 1.2128 - val_accuracy: 0.3111\n",
            "Epoch 10/30\n",
            "86/86 [==============================] - 0s 2ms/sample - loss: 1.2234 - accuracy: 0.3605 - val_loss: 1.2082 - val_accuracy: 0.3111\n",
            "Epoch 11/30\n",
            "86/86 [==============================] - 0s 2ms/sample - loss: 1.2168 - accuracy: 0.3605 - val_loss: 1.2037 - val_accuracy: 0.3111\n",
            "Epoch 12/30\n",
            "86/86 [==============================] - 0s 2ms/sample - loss: 1.2102 - accuracy: 0.3721 - val_loss: 1.1999 - val_accuracy: 0.3111\n",
            "Epoch 13/30\n",
            "86/86 [==============================] - 0s 2ms/sample - loss: 1.2036 - accuracy: 0.3721 - val_loss: 1.1954 - val_accuracy: 0.3111\n",
            "Epoch 14/30\n",
            "86/86 [==============================] - 0s 2ms/sample - loss: 1.1973 - accuracy: 0.3721 - val_loss: 1.1914 - val_accuracy: 0.3111\n",
            "Epoch 15/30\n",
            "86/86 [==============================] - 0s 2ms/sample - loss: 1.1909 - accuracy: 0.3721 - val_loss: 1.1873 - val_accuracy: 0.3111\n",
            "Epoch 16/30\n",
            "86/86 [==============================] - 0s 2ms/sample - loss: 1.1849 - accuracy: 0.3721 - val_loss: 1.1834 - val_accuracy: 0.3111\n",
            "Epoch 17/30\n",
            "86/86 [==============================] - 0s 2ms/sample - loss: 1.1786 - accuracy: 0.3721 - val_loss: 1.1796 - val_accuracy: 0.3333\n",
            "Epoch 18/30\n",
            "86/86 [==============================] - 0s 2ms/sample - loss: 1.1726 - accuracy: 0.3721 - val_loss: 1.1760 - val_accuracy: 0.3333\n",
            "Epoch 19/30\n",
            "86/86 [==============================] - 0s 2ms/sample - loss: 1.1666 - accuracy: 0.3721 - val_loss: 1.1720 - val_accuracy: 0.3333\n",
            "Epoch 20/30\n",
            "86/86 [==============================] - 0s 2ms/sample - loss: 1.1609 - accuracy: 0.3721 - val_loss: 1.1684 - val_accuracy: 0.3333\n",
            "Epoch 21/30\n",
            "86/86 [==============================] - 0s 2ms/sample - loss: 1.1551 - accuracy: 0.3721 - val_loss: 1.1649 - val_accuracy: 0.3333\n",
            "Epoch 22/30\n",
            "86/86 [==============================] - 0s 2ms/sample - loss: 1.1495 - accuracy: 0.3605 - val_loss: 1.1616 - val_accuracy: 0.3333\n",
            "Epoch 23/30\n",
            "86/86 [==============================] - 0s 2ms/sample - loss: 1.1440 - accuracy: 0.3721 - val_loss: 1.1581 - val_accuracy: 0.3333\n",
            "Epoch 24/30\n",
            "86/86 [==============================] - 0s 2ms/sample - loss: 1.1386 - accuracy: 0.3721 - val_loss: 1.1545 - val_accuracy: 0.3333\n",
            "Epoch 25/30\n",
            "86/86 [==============================] - 0s 2ms/sample - loss: 1.1333 - accuracy: 0.3721 - val_loss: 1.1520 - val_accuracy: 0.3333\n",
            "Epoch 26/30\n",
            "86/86 [==============================] - 0s 2ms/sample - loss: 1.1281 - accuracy: 0.3837 - val_loss: 1.1486 - val_accuracy: 0.3333\n",
            "Epoch 27/30\n",
            "86/86 [==============================] - 0s 2ms/sample - loss: 1.1230 - accuracy: 0.3953 - val_loss: 1.1455 - val_accuracy: 0.3333\n",
            "Epoch 28/30\n",
            "86/86 [==============================] - 0s 2ms/sample - loss: 1.1179 - accuracy: 0.3953 - val_loss: 1.1430 - val_accuracy: 0.3333\n",
            "Epoch 29/30\n",
            "86/86 [==============================] - 0s 3ms/sample - loss: 1.1132 - accuracy: 0.3953 - val_loss: 1.1395 - val_accuracy: 0.3333\n",
            "Epoch 30/30\n",
            "86/86 [==============================] - 0s 2ms/sample - loss: 1.1083 - accuracy: 0.3953 - val_loss: 1.1364 - val_accuracy: 0.3333\n",
            "Train on 86 samples, validate on 45 samples\n",
            "Epoch 1/30\n",
            "86/86 [==============================] - 0s 6ms/sample - loss: 1.2734 - accuracy: 0.3256 - val_loss: 1.3012 - val_accuracy: 0.3778\n",
            "Epoch 2/30\n",
            "86/86 [==============================] - 0s 2ms/sample - loss: 1.2661 - accuracy: 0.3256 - val_loss: 1.2973 - val_accuracy: 0.3778\n",
            "Epoch 3/30\n",
            "86/86 [==============================] - 0s 2ms/sample - loss: 1.2593 - accuracy: 0.3488 - val_loss: 1.2930 - val_accuracy: 0.3778\n",
            "Epoch 4/30\n",
            "86/86 [==============================] - 0s 2ms/sample - loss: 1.2526 - accuracy: 0.3605 - val_loss: 1.2896 - val_accuracy: 0.3778\n",
            "Epoch 5/30\n",
            "86/86 [==============================] - 0s 2ms/sample - loss: 1.2462 - accuracy: 0.3605 - val_loss: 1.2860 - val_accuracy: 0.3778\n",
            "Epoch 6/30\n",
            "86/86 [==============================] - 0s 2ms/sample - loss: 1.2399 - accuracy: 0.3605 - val_loss: 1.2825 - val_accuracy: 0.3778\n",
            "Epoch 7/30\n",
            "86/86 [==============================] - 0s 2ms/sample - loss: 1.2336 - accuracy: 0.3721 - val_loss: 1.2786 - val_accuracy: 0.3778\n",
            "Epoch 8/30\n",
            "86/86 [==============================] - 0s 2ms/sample - loss: 1.2273 - accuracy: 0.3837 - val_loss: 1.2746 - val_accuracy: 0.3778\n",
            "Epoch 9/30\n",
            "86/86 [==============================] - 0s 2ms/sample - loss: 1.2213 - accuracy: 0.3837 - val_loss: 1.2715 - val_accuracy: 0.3778\n",
            "Epoch 10/30\n",
            "86/86 [==============================] - 0s 2ms/sample - loss: 1.2154 - accuracy: 0.3953 - val_loss: 1.2678 - val_accuracy: 0.3556\n",
            "Epoch 11/30\n",
            "86/86 [==============================] - 0s 2ms/sample - loss: 1.2094 - accuracy: 0.3953 - val_loss: 1.2650 - val_accuracy: 0.3556\n",
            "Epoch 12/30\n",
            "86/86 [==============================] - 0s 2ms/sample - loss: 1.2038 - accuracy: 0.3953 - val_loss: 1.2614 - val_accuracy: 0.3333\n",
            "Epoch 13/30\n",
            "86/86 [==============================] - 0s 2ms/sample - loss: 1.1979 - accuracy: 0.3953 - val_loss: 1.2588 - val_accuracy: 0.3333\n",
            "Epoch 14/30\n",
            "86/86 [==============================] - 0s 2ms/sample - loss: 1.1923 - accuracy: 0.3953 - val_loss: 1.2552 - val_accuracy: 0.3333\n",
            "Epoch 15/30\n",
            "86/86 [==============================] - 0s 2ms/sample - loss: 1.1868 - accuracy: 0.4070 - val_loss: 1.2522 - val_accuracy: 0.3333\n",
            "Epoch 16/30\n",
            "86/86 [==============================] - 0s 2ms/sample - loss: 1.1812 - accuracy: 0.4070 - val_loss: 1.2494 - val_accuracy: 0.3333\n",
            "Epoch 17/30\n",
            "86/86 [==============================] - 0s 2ms/sample - loss: 1.1760 - accuracy: 0.4070 - val_loss: 1.2463 - val_accuracy: 0.3111\n",
            "Epoch 18/30\n",
            "86/86 [==============================] - 0s 2ms/sample - loss: 1.1708 - accuracy: 0.4070 - val_loss: 1.2431 - val_accuracy: 0.3111\n",
            "Epoch 19/30\n",
            "86/86 [==============================] - 0s 2ms/sample - loss: 1.1656 - accuracy: 0.4070 - val_loss: 1.2404 - val_accuracy: 0.2889\n",
            "Epoch 20/30\n",
            "86/86 [==============================] - 0s 2ms/sample - loss: 1.1607 - accuracy: 0.4070 - val_loss: 1.2378 - val_accuracy: 0.2889\n",
            "Epoch 21/30\n",
            "86/86 [==============================] - 0s 2ms/sample - loss: 1.1557 - accuracy: 0.4070 - val_loss: 1.2344 - val_accuracy: 0.2889\n",
            "Epoch 22/30\n",
            "86/86 [==============================] - 0s 2ms/sample - loss: 1.1508 - accuracy: 0.4070 - val_loss: 1.2318 - val_accuracy: 0.2667\n",
            "Epoch 23/30\n",
            "86/86 [==============================] - 0s 2ms/sample - loss: 1.1459 - accuracy: 0.4070 - val_loss: 1.2294 - val_accuracy: 0.2667\n",
            "Epoch 24/30\n",
            "86/86 [==============================] - 0s 2ms/sample - loss: 1.1411 - accuracy: 0.4070 - val_loss: 1.2265 - val_accuracy: 0.2667\n",
            "Epoch 25/30\n",
            "86/86 [==============================] - 0s 2ms/sample - loss: 1.1363 - accuracy: 0.4070 - val_loss: 1.2241 - val_accuracy: 0.2667\n",
            "Epoch 26/30\n",
            "86/86 [==============================] - 0s 2ms/sample - loss: 1.1318 - accuracy: 0.4070 - val_loss: 1.2215 - val_accuracy: 0.2667\n",
            "Epoch 27/30\n",
            "86/86 [==============================] - 0s 2ms/sample - loss: 1.1272 - accuracy: 0.4070 - val_loss: 1.2193 - val_accuracy: 0.2667\n",
            "Epoch 28/30\n",
            "86/86 [==============================] - 0s 2ms/sample - loss: 1.1225 - accuracy: 0.4070 - val_loss: 1.2168 - val_accuracy: 0.2667\n",
            "Epoch 29/30\n",
            "86/86 [==============================] - 0s 2ms/sample - loss: 1.1181 - accuracy: 0.4070 - val_loss: 1.2142 - val_accuracy: 0.2667\n",
            "Epoch 30/30\n",
            "86/86 [==============================] - 0s 2ms/sample - loss: 1.1137 - accuracy: 0.4070 - val_loss: 1.2118 - val_accuracy: 0.2667\n",
            "Train on 86 samples, validate on 45 samples\n",
            "Epoch 1/30\n",
            "86/86 [==============================] - 0s 6ms/sample - loss: 1.1819 - accuracy: 0.4419 - val_loss: 1.1872 - val_accuracy: 0.4222\n",
            "Epoch 2/30\n",
            "86/86 [==============================] - 0s 2ms/sample - loss: 1.1775 - accuracy: 0.4419 - val_loss: 1.1847 - val_accuracy: 0.4222\n",
            "Epoch 3/30\n",
            "86/86 [==============================] - 0s 2ms/sample - loss: 1.1733 - accuracy: 0.4535 - val_loss: 1.1815 - val_accuracy: 0.4222\n",
            "Epoch 4/30\n",
            "86/86 [==============================] - 0s 2ms/sample - loss: 1.1693 - accuracy: 0.4535 - val_loss: 1.1790 - val_accuracy: 0.4222\n",
            "Epoch 5/30\n",
            "86/86 [==============================] - 0s 2ms/sample - loss: 1.1652 - accuracy: 0.4535 - val_loss: 1.1763 - val_accuracy: 0.4222\n",
            "Epoch 6/30\n",
            "86/86 [==============================] - 0s 2ms/sample - loss: 1.1614 - accuracy: 0.4651 - val_loss: 1.1736 - val_accuracy: 0.4222\n",
            "Epoch 7/30\n",
            "86/86 [==============================] - 0s 2ms/sample - loss: 1.1575 - accuracy: 0.4651 - val_loss: 1.1713 - val_accuracy: 0.4222\n",
            "Epoch 8/30\n",
            "86/86 [==============================] - 0s 2ms/sample - loss: 1.1539 - accuracy: 0.4651 - val_loss: 1.1691 - val_accuracy: 0.4444\n",
            "Epoch 9/30\n",
            "86/86 [==============================] - 0s 2ms/sample - loss: 1.1500 - accuracy: 0.4651 - val_loss: 1.1663 - val_accuracy: 0.4444\n",
            "Epoch 10/30\n",
            "86/86 [==============================] - 0s 2ms/sample - loss: 1.1463 - accuracy: 0.4651 - val_loss: 1.1642 - val_accuracy: 0.4444\n",
            "Epoch 11/30\n",
            "86/86 [==============================] - 0s 2ms/sample - loss: 1.1429 - accuracy: 0.4767 - val_loss: 1.1615 - val_accuracy: 0.4444\n",
            "Epoch 12/30\n",
            "86/86 [==============================] - 0s 2ms/sample - loss: 1.1393 - accuracy: 0.4767 - val_loss: 1.1592 - val_accuracy: 0.4444\n",
            "Epoch 13/30\n",
            "86/86 [==============================] - 0s 2ms/sample - loss: 1.1360 - accuracy: 0.4767 - val_loss: 1.1574 - val_accuracy: 0.4444\n",
            "Epoch 14/30\n",
            "86/86 [==============================] - 0s 2ms/sample - loss: 1.1325 - accuracy: 0.4767 - val_loss: 1.1548 - val_accuracy: 0.4444\n",
            "Epoch 15/30\n",
            "86/86 [==============================] - 0s 2ms/sample - loss: 1.1292 - accuracy: 0.4767 - val_loss: 1.1526 - val_accuracy: 0.4444\n",
            "Epoch 16/30\n",
            "86/86 [==============================] - 0s 2ms/sample - loss: 1.1260 - accuracy: 0.4767 - val_loss: 1.1504 - val_accuracy: 0.4444\n",
            "Epoch 17/30\n",
            "86/86 [==============================] - 0s 2ms/sample - loss: 1.1226 - accuracy: 0.4767 - val_loss: 1.1484 - val_accuracy: 0.4444\n",
            "Epoch 18/30\n",
            "86/86 [==============================] - 0s 2ms/sample - loss: 1.1194 - accuracy: 0.4767 - val_loss: 1.1461 - val_accuracy: 0.4444\n",
            "Epoch 19/30\n",
            "86/86 [==============================] - 0s 2ms/sample - loss: 1.1162 - accuracy: 0.4767 - val_loss: 1.1444 - val_accuracy: 0.4444\n",
            "Epoch 20/30\n",
            "86/86 [==============================] - 0s 2ms/sample - loss: 1.1132 - accuracy: 0.4884 - val_loss: 1.1420 - val_accuracy: 0.4444\n",
            "Epoch 21/30\n",
            "86/86 [==============================] - 0s 2ms/sample - loss: 1.1100 - accuracy: 0.4884 - val_loss: 1.1403 - val_accuracy: 0.4444\n",
            "Epoch 22/30\n",
            "86/86 [==============================] - 0s 2ms/sample - loss: 1.1070 - accuracy: 0.4884 - val_loss: 1.1384 - val_accuracy: 0.4444\n",
            "Epoch 23/30\n",
            "86/86 [==============================] - 0s 2ms/sample - loss: 1.1042 - accuracy: 0.4884 - val_loss: 1.1364 - val_accuracy: 0.4444\n",
            "Epoch 24/30\n",
            "86/86 [==============================] - 0s 2ms/sample - loss: 1.1013 - accuracy: 0.4884 - val_loss: 1.1344 - val_accuracy: 0.4444\n",
            "Epoch 25/30\n",
            "86/86 [==============================] - 0s 2ms/sample - loss: 1.0984 - accuracy: 0.5000 - val_loss: 1.1327 - val_accuracy: 0.4444\n",
            "Epoch 26/30\n",
            "86/86 [==============================] - 0s 2ms/sample - loss: 1.0957 - accuracy: 0.5000 - val_loss: 1.1306 - val_accuracy: 0.4444\n",
            "Epoch 27/30\n",
            "86/86 [==============================] - 0s 2ms/sample - loss: 1.0929 - accuracy: 0.5000 - val_loss: 1.1288 - val_accuracy: 0.4444\n",
            "Epoch 28/30\n",
            "86/86 [==============================] - 0s 2ms/sample - loss: 1.0903 - accuracy: 0.5000 - val_loss: 1.1272 - val_accuracy: 0.4444\n",
            "Epoch 29/30\n",
            "86/86 [==============================] - 0s 2ms/sample - loss: 1.0875 - accuracy: 0.5116 - val_loss: 1.1252 - val_accuracy: 0.4444\n",
            "Epoch 30/30\n",
            "86/86 [==============================] - 0s 2ms/sample - loss: 1.0850 - accuracy: 0.5116 - val_loss: 1.1233 - val_accuracy: 0.4444\n",
            "Train on 86 samples, validate on 45 samples\n",
            "Epoch 1/30\n",
            "86/86 [==============================] - 0s 6ms/sample - loss: 1.0995 - accuracy: 0.4535 - val_loss: 1.1095 - val_accuracy: 0.4444\n",
            "Epoch 2/30\n",
            "86/86 [==============================] - 0s 2ms/sample - loss: 1.0950 - accuracy: 0.4535 - val_loss: 1.1077 - val_accuracy: 0.4444\n",
            "Epoch 3/30\n",
            "86/86 [==============================] - 0s 2ms/sample - loss: 1.0906 - accuracy: 0.4535 - val_loss: 1.1057 - val_accuracy: 0.4444\n",
            "Epoch 4/30\n",
            "86/86 [==============================] - 0s 2ms/sample - loss: 1.0863 - accuracy: 0.4535 - val_loss: 1.1039 - val_accuracy: 0.4444\n",
            "Epoch 5/30\n",
            "86/86 [==============================] - 0s 2ms/sample - loss: 1.0823 - accuracy: 0.4535 - val_loss: 1.1020 - val_accuracy: 0.4444\n",
            "Epoch 6/30\n",
            "86/86 [==============================] - 0s 2ms/sample - loss: 1.0780 - accuracy: 0.4535 - val_loss: 1.1005 - val_accuracy: 0.4444\n",
            "Epoch 7/30\n",
            "86/86 [==============================] - 0s 2ms/sample - loss: 1.0742 - accuracy: 0.4535 - val_loss: 1.0989 - val_accuracy: 0.4444\n",
            "Epoch 8/30\n",
            "86/86 [==============================] - 0s 2ms/sample - loss: 1.0702 - accuracy: 0.4535 - val_loss: 1.0970 - val_accuracy: 0.4444\n",
            "Epoch 9/30\n",
            "86/86 [==============================] - 0s 2ms/sample - loss: 1.0665 - accuracy: 0.4535 - val_loss: 1.0952 - val_accuracy: 0.4444\n",
            "Epoch 10/30\n",
            "86/86 [==============================] - 0s 2ms/sample - loss: 1.0625 - accuracy: 0.4651 - val_loss: 1.0939 - val_accuracy: 0.4444\n",
            "Epoch 11/30\n",
            "86/86 [==============================] - 0s 2ms/sample - loss: 1.0590 - accuracy: 0.4651 - val_loss: 1.0924 - val_accuracy: 0.4667\n",
            "Epoch 12/30\n",
            "86/86 [==============================] - 0s 2ms/sample - loss: 1.0553 - accuracy: 0.4651 - val_loss: 1.0908 - val_accuracy: 0.4667\n",
            "Epoch 13/30\n",
            "86/86 [==============================] - 0s 2ms/sample - loss: 1.0518 - accuracy: 0.4651 - val_loss: 1.0896 - val_accuracy: 0.4667\n",
            "Epoch 14/30\n",
            "86/86 [==============================] - 0s 2ms/sample - loss: 1.0483 - accuracy: 0.4651 - val_loss: 1.0879 - val_accuracy: 0.4889\n",
            "Epoch 15/30\n",
            "86/86 [==============================] - 0s 2ms/sample - loss: 1.0446 - accuracy: 0.4651 - val_loss: 1.0866 - val_accuracy: 0.4889\n",
            "Epoch 16/30\n",
            "86/86 [==============================] - 0s 2ms/sample - loss: 1.0412 - accuracy: 0.4767 - val_loss: 1.0854 - val_accuracy: 0.4889\n",
            "Epoch 17/30\n",
            "86/86 [==============================] - 0s 2ms/sample - loss: 1.0376 - accuracy: 0.4767 - val_loss: 1.0841 - val_accuracy: 0.5111\n",
            "Epoch 18/30\n",
            "86/86 [==============================] - 0s 2ms/sample - loss: 1.0343 - accuracy: 0.4884 - val_loss: 1.0827 - val_accuracy: 0.5111\n",
            "Epoch 19/30\n",
            "86/86 [==============================] - 0s 2ms/sample - loss: 1.0308 - accuracy: 0.4884 - val_loss: 1.0816 - val_accuracy: 0.5111\n",
            "Epoch 20/30\n",
            "86/86 [==============================] - 0s 2ms/sample - loss: 1.0275 - accuracy: 0.5000 - val_loss: 1.0804 - val_accuracy: 0.5111\n",
            "Epoch 21/30\n",
            "86/86 [==============================] - 0s 2ms/sample - loss: 1.0243 - accuracy: 0.5000 - val_loss: 1.0793 - val_accuracy: 0.5111\n",
            "Epoch 22/30\n",
            "86/86 [==============================] - 0s 2ms/sample - loss: 1.0211 - accuracy: 0.5000 - val_loss: 1.0781 - val_accuracy: 0.4889\n",
            "Epoch 23/30\n",
            "86/86 [==============================] - 0s 2ms/sample - loss: 1.0179 - accuracy: 0.5000 - val_loss: 1.0770 - val_accuracy: 0.5333\n",
            "Epoch 24/30\n",
            "86/86 [==============================] - 0s 2ms/sample - loss: 1.0147 - accuracy: 0.5000 - val_loss: 1.0763 - val_accuracy: 0.5333\n",
            "Epoch 25/30\n",
            "86/86 [==============================] - 0s 2ms/sample - loss: 1.0118 - accuracy: 0.5000 - val_loss: 1.0752 - val_accuracy: 0.5333\n",
            "Epoch 26/30\n",
            "86/86 [==============================] - 0s 2ms/sample - loss: 1.0087 - accuracy: 0.5000 - val_loss: 1.0743 - val_accuracy: 0.5333\n",
            "Epoch 27/30\n",
            "86/86 [==============================] - 0s 2ms/sample - loss: 1.0058 - accuracy: 0.5000 - val_loss: 1.0733 - val_accuracy: 0.5333\n",
            "Epoch 28/30\n",
            "86/86 [==============================] - 0s 2ms/sample - loss: 1.0030 - accuracy: 0.5233 - val_loss: 1.0725 - val_accuracy: 0.5333\n",
            "Epoch 29/30\n",
            "86/86 [==============================] - 0s 2ms/sample - loss: 0.9999 - accuracy: 0.5233 - val_loss: 1.0717 - val_accuracy: 0.5333\n",
            "Epoch 30/30\n",
            "86/86 [==============================] - 0s 2ms/sample - loss: 0.9971 - accuracy: 0.5233 - val_loss: 1.0707 - val_accuracy: 0.5333\n",
            "Train on 86 samples, validate on 45 samples\n",
            "Epoch 1/30\n",
            "86/86 [==============================] - 0s 6ms/sample - loss: 1.3035 - accuracy: 0.3140 - val_loss: 1.1243 - val_accuracy: 0.4000\n",
            "Epoch 2/30\n",
            "86/86 [==============================] - 0s 2ms/sample - loss: 1.2960 - accuracy: 0.3256 - val_loss: 1.1218 - val_accuracy: 0.4000\n",
            "Epoch 3/30\n",
            "86/86 [==============================] - 0s 2ms/sample - loss: 1.2882 - accuracy: 0.3256 - val_loss: 1.1196 - val_accuracy: 0.3778\n",
            "Epoch 4/30\n",
            "86/86 [==============================] - 0s 2ms/sample - loss: 1.2808 - accuracy: 0.3256 - val_loss: 1.1175 - val_accuracy: 0.4000\n",
            "Epoch 5/30\n",
            "86/86 [==============================] - 0s 2ms/sample - loss: 1.2735 - accuracy: 0.3372 - val_loss: 1.1155 - val_accuracy: 0.4000\n",
            "Epoch 6/30\n",
            "86/86 [==============================] - 0s 2ms/sample - loss: 1.2665 - accuracy: 0.3372 - val_loss: 1.1133 - val_accuracy: 0.4000\n",
            "Epoch 7/30\n",
            "86/86 [==============================] - 0s 2ms/sample - loss: 1.2593 - accuracy: 0.3372 - val_loss: 1.1112 - val_accuracy: 0.3778\n",
            "Epoch 8/30\n",
            "86/86 [==============================] - 0s 2ms/sample - loss: 1.2525 - accuracy: 0.3372 - val_loss: 1.1093 - val_accuracy: 0.3778\n",
            "Epoch 9/30\n",
            "86/86 [==============================] - 0s 2ms/sample - loss: 1.2457 - accuracy: 0.3488 - val_loss: 1.1076 - val_accuracy: 0.3556\n",
            "Epoch 10/30\n",
            "86/86 [==============================] - 0s 2ms/sample - loss: 1.2392 - accuracy: 0.3605 - val_loss: 1.1057 - val_accuracy: 0.3556\n",
            "Epoch 11/30\n",
            "86/86 [==============================] - 0s 2ms/sample - loss: 1.2328 - accuracy: 0.3605 - val_loss: 1.1041 - val_accuracy: 0.3556\n",
            "Epoch 12/30\n",
            "86/86 [==============================] - 0s 2ms/sample - loss: 1.2267 - accuracy: 0.3721 - val_loss: 1.1027 - val_accuracy: 0.3556\n",
            "Epoch 13/30\n",
            "86/86 [==============================] - 0s 2ms/sample - loss: 1.2206 - accuracy: 0.3721 - val_loss: 1.1010 - val_accuracy: 0.3556\n",
            "Epoch 14/30\n",
            "86/86 [==============================] - 0s 2ms/sample - loss: 1.2147 - accuracy: 0.3721 - val_loss: 1.0995 - val_accuracy: 0.3556\n",
            "Epoch 15/30\n",
            "86/86 [==============================] - 0s 2ms/sample - loss: 1.2090 - accuracy: 0.3721 - val_loss: 1.0978 - val_accuracy: 0.3556\n",
            "Epoch 16/30\n",
            "86/86 [==============================] - 0s 2ms/sample - loss: 1.2035 - accuracy: 0.3837 - val_loss: 1.0966 - val_accuracy: 0.3111\n",
            "Epoch 17/30\n",
            "86/86 [==============================] - 0s 2ms/sample - loss: 1.1979 - accuracy: 0.3837 - val_loss: 1.0952 - val_accuracy: 0.3111\n",
            "Epoch 18/30\n",
            "86/86 [==============================] - 0s 2ms/sample - loss: 1.1926 - accuracy: 0.3837 - val_loss: 1.0938 - val_accuracy: 0.3111\n",
            "Epoch 19/30\n",
            "86/86 [==============================] - 0s 2ms/sample - loss: 1.1873 - accuracy: 0.3953 - val_loss: 1.0924 - val_accuracy: 0.3111\n",
            "Epoch 20/30\n",
            "86/86 [==============================] - 0s 2ms/sample - loss: 1.1822 - accuracy: 0.3953 - val_loss: 1.0909 - val_accuracy: 0.3111\n",
            "Epoch 21/30\n",
            "86/86 [==============================] - 0s 2ms/sample - loss: 1.1770 - accuracy: 0.3953 - val_loss: 1.0900 - val_accuracy: 0.3111\n",
            "Epoch 22/30\n",
            "86/86 [==============================] - 0s 2ms/sample - loss: 1.1723 - accuracy: 0.3953 - val_loss: 1.0885 - val_accuracy: 0.3111\n",
            "Epoch 23/30\n",
            "86/86 [==============================] - 0s 2ms/sample - loss: 1.1673 - accuracy: 0.3953 - val_loss: 1.0873 - val_accuracy: 0.3111\n",
            "Epoch 24/30\n",
            "86/86 [==============================] - 0s 2ms/sample - loss: 1.1626 - accuracy: 0.3953 - val_loss: 1.0861 - val_accuracy: 0.3111\n",
            "Epoch 25/30\n",
            "86/86 [==============================] - 0s 2ms/sample - loss: 1.1577 - accuracy: 0.3953 - val_loss: 1.0850 - val_accuracy: 0.3333\n",
            "Epoch 26/30\n",
            "86/86 [==============================] - 0s 2ms/sample - loss: 1.1531 - accuracy: 0.3953 - val_loss: 1.0837 - val_accuracy: 0.3333\n",
            "Epoch 27/30\n",
            "86/86 [==============================] - 0s 2ms/sample - loss: 1.1484 - accuracy: 0.4070 - val_loss: 1.0827 - val_accuracy: 0.3333\n",
            "Epoch 28/30\n",
            "86/86 [==============================] - 0s 2ms/sample - loss: 1.1440 - accuracy: 0.4070 - val_loss: 1.0812 - val_accuracy: 0.3333\n",
            "Epoch 29/30\n",
            "86/86 [==============================] - 0s 2ms/sample - loss: 1.1394 - accuracy: 0.4070 - val_loss: 1.0802 - val_accuracy: 0.3333\n",
            "Epoch 30/30\n",
            "86/86 [==============================] - 0s 2ms/sample - loss: 1.1350 - accuracy: 0.4186 - val_loss: 1.0791 - val_accuracy: 0.3111\n"
          ],
          "name": "stdout"
        },
        {
          "output_type": "display_data",
          "data": {
            "text/html": [
              "<span style=\"color:#4527A0\"><h1 style=\"font-size:18px\">Trial complete</h1></span>"
            ],
            "text/plain": [
              "<IPython.core.display.HTML object>"
            ]
          },
          "metadata": {
            "tags": []
          }
        },
        {
          "output_type": "display_data",
          "data": {
            "text/html": [
              "<span style=\"color:#4527A0\"><h1 style=\"font-size:18px\">Trial summary</h1></span>"
            ],
            "text/plain": [
              "<IPython.core.display.HTML object>"
            ]
          },
          "metadata": {
            "tags": []
          }
        },
        {
          "output_type": "display_data",
          "data": {
            "text/html": [
              "<span style=\"color:#7E57C2\"><h2 style=\"font-size:16px\">Hp values:</h2></span>"
            ],
            "text/plain": [
              "<IPython.core.display.HTML object>"
            ]
          },
          "metadata": {
            "tags": []
          }
        },
        {
          "output_type": "display_data",
          "data": {
            "text/html": [
              "<span style=\"color:cyan\"> |-activation: softsign</span>"
            ],
            "text/plain": [
              "<IPython.core.display.HTML object>"
            ]
          },
          "metadata": {
            "tags": []
          }
        },
        {
          "output_type": "display_data",
          "data": {
            "text/html": [
              "<span style=\"color:blue\"> |-drop_rate: 0.0</span>"
            ],
            "text/plain": [
              "<IPython.core.display.HTML object>"
            ]
          },
          "metadata": {
            "tags": []
          }
        },
        {
          "output_type": "display_data",
          "data": {
            "text/html": [
              "<span style=\"color:cyan\"> |-learning_rate: 0.0001</span>"
            ],
            "text/plain": [
              "<IPython.core.display.HTML object>"
            ]
          },
          "metadata": {
            "tags": []
          }
        },
        {
          "output_type": "display_data",
          "data": {
            "text/html": [
              "<span style=\"color:blue\"> |-units: 7</span>"
            ],
            "text/plain": [
              "<IPython.core.display.HTML object>"
            ]
          },
          "metadata": {
            "tags": []
          }
        },
        {
          "output_type": "display_data",
          "data": {
            "text/html": [
              "<span style=\"color:cyan\"> |-weight_init: glorot_normal</span>"
            ],
            "text/plain": [
              "<IPython.core.display.HTML object>"
            ]
          },
          "metadata": {
            "tags": []
          }
        },
        {
          "output_type": "display_data",
          "data": {
            "text/html": [
              "<span style=\"color:cyan\"> |-Score: 0.4177778363227844</span>"
            ],
            "text/plain": [
              "<IPython.core.display.HTML object>"
            ]
          },
          "metadata": {
            "tags": []
          }
        },
        {
          "output_type": "display_data",
          "data": {
            "text/html": [
              "<span style=\"color:cyan\"> |-Best step: 0</span>"
            ],
            "text/plain": [
              "<IPython.core.display.HTML object>"
            ]
          },
          "metadata": {
            "tags": []
          }
        },
        {
          "output_type": "stream",
          "text": [
            "Train on 86 samples, validate on 45 samples\n",
            "Epoch 1/30\n",
            "86/86 [==============================] - 1s 6ms/sample - loss: 2.4023 - accuracy: 0.2326 - val_loss: 1.7221 - val_accuracy: 0.3111\n",
            "Epoch 2/30\n",
            "86/86 [==============================] - 0s 2ms/sample - loss: 2.2141 - accuracy: 0.2326 - val_loss: 1.7121 - val_accuracy: 0.3111\n",
            "Epoch 3/30\n",
            "86/86 [==============================] - 0s 2ms/sample - loss: 2.1281 - accuracy: 0.2558 - val_loss: 1.7017 - val_accuracy: 0.3111\n",
            "Epoch 4/30\n",
            "86/86 [==============================] - 0s 2ms/sample - loss: 2.0535 - accuracy: 0.2791 - val_loss: 1.6906 - val_accuracy: 0.3111\n",
            "Epoch 5/30\n",
            "86/86 [==============================] - 0s 2ms/sample - loss: 2.0650 - accuracy: 0.2558 - val_loss: 1.6805 - val_accuracy: 0.3111\n",
            "Epoch 6/30\n",
            "86/86 [==============================] - 0s 2ms/sample - loss: 2.1374 - accuracy: 0.2209 - val_loss: 1.6691 - val_accuracy: 0.3111\n",
            "Epoch 7/30\n",
            "86/86 [==============================] - 0s 2ms/sample - loss: 1.9729 - accuracy: 0.2558 - val_loss: 1.6580 - val_accuracy: 0.3111\n",
            "Epoch 8/30\n",
            "86/86 [==============================] - 0s 2ms/sample - loss: 2.1127 - accuracy: 0.2674 - val_loss: 1.6474 - val_accuracy: 0.3111\n",
            "Epoch 9/30\n",
            "86/86 [==============================] - 0s 2ms/sample - loss: 2.0445 - accuracy: 0.2326 - val_loss: 1.6378 - val_accuracy: 0.3111\n",
            "Epoch 10/30\n",
            "86/86 [==============================] - 0s 2ms/sample - loss: 1.9941 - accuracy: 0.2442 - val_loss: 1.6285 - val_accuracy: 0.3111\n",
            "Epoch 11/30\n",
            "86/86 [==============================] - 0s 2ms/sample - loss: 2.0406 - accuracy: 0.2674 - val_loss: 1.6188 - val_accuracy: 0.3111\n",
            "Epoch 12/30\n",
            "86/86 [==============================] - 0s 2ms/sample - loss: 2.2362 - accuracy: 0.2442 - val_loss: 1.6076 - val_accuracy: 0.3111\n",
            "Epoch 13/30\n",
            "86/86 [==============================] - 0s 2ms/sample - loss: 2.0195 - accuracy: 0.2209 - val_loss: 1.5979 - val_accuracy: 0.3111\n",
            "Epoch 14/30\n",
            "86/86 [==============================] - 0s 2ms/sample - loss: 1.9999 - accuracy: 0.2907 - val_loss: 1.5869 - val_accuracy: 0.3111\n",
            "Epoch 15/30\n",
            "86/86 [==============================] - 0s 2ms/sample - loss: 2.0990 - accuracy: 0.2558 - val_loss: 1.5782 - val_accuracy: 0.3111\n",
            "Epoch 16/30\n",
            "86/86 [==============================] - 0s 2ms/sample - loss: 1.9870 - accuracy: 0.2674 - val_loss: 1.5687 - val_accuracy: 0.3111\n",
            "Epoch 17/30\n",
            "86/86 [==============================] - 0s 2ms/sample - loss: 1.9278 - accuracy: 0.2674 - val_loss: 1.5597 - val_accuracy: 0.3111\n",
            "Epoch 18/30\n",
            "86/86 [==============================] - 0s 2ms/sample - loss: 1.8940 - accuracy: 0.1977 - val_loss: 1.5502 - val_accuracy: 0.3111\n",
            "Epoch 19/30\n",
            "86/86 [==============================] - 0s 2ms/sample - loss: 2.1662 - accuracy: 0.2558 - val_loss: 1.5401 - val_accuracy: 0.3111\n",
            "Epoch 20/30\n",
            "86/86 [==============================] - 0s 2ms/sample - loss: 1.7754 - accuracy: 0.2442 - val_loss: 1.5304 - val_accuracy: 0.3111\n",
            "Epoch 21/30\n",
            "86/86 [==============================] - 0s 2ms/sample - loss: 1.8413 - accuracy: 0.2791 - val_loss: 1.5221 - val_accuracy: 0.3111\n",
            "Epoch 22/30\n",
            "86/86 [==============================] - 0s 2ms/sample - loss: 1.9535 - accuracy: 0.2907 - val_loss: 1.5131 - val_accuracy: 0.3111\n",
            "Epoch 23/30\n",
            "86/86 [==============================] - 0s 2ms/sample - loss: 1.8448 - accuracy: 0.2558 - val_loss: 1.5031 - val_accuracy: 0.3111\n",
            "Epoch 24/30\n",
            "86/86 [==============================] - 0s 2ms/sample - loss: 1.9034 - accuracy: 0.2326 - val_loss: 1.4949 - val_accuracy: 0.3111\n",
            "Epoch 25/30\n",
            "86/86 [==============================] - 0s 2ms/sample - loss: 2.0191 - accuracy: 0.2442 - val_loss: 1.4864 - val_accuracy: 0.3111\n",
            "Epoch 26/30\n",
            "86/86 [==============================] - 0s 2ms/sample - loss: 1.8222 - accuracy: 0.2674 - val_loss: 1.4776 - val_accuracy: 0.3111\n",
            "Epoch 27/30\n",
            "86/86 [==============================] - 0s 2ms/sample - loss: 1.7082 - accuracy: 0.2907 - val_loss: 1.4697 - val_accuracy: 0.3111\n",
            "Epoch 28/30\n",
            "86/86 [==============================] - 0s 2ms/sample - loss: 1.9066 - accuracy: 0.2674 - val_loss: 1.4613 - val_accuracy: 0.3111\n",
            "Epoch 29/30\n",
            "86/86 [==============================] - 0s 2ms/sample - loss: 2.0476 - accuracy: 0.2209 - val_loss: 1.4524 - val_accuracy: 0.3111\n",
            "Epoch 30/30\n",
            "86/86 [==============================] - 0s 2ms/sample - loss: 1.7548 - accuracy: 0.2558 - val_loss: 1.4440 - val_accuracy: 0.3111\n",
            "Train on 86 samples, validate on 45 samples\n",
            "Epoch 1/30\n",
            "86/86 [==============================] - 1s 6ms/sample - loss: 1.6599 - accuracy: 0.3372 - val_loss: 1.4131 - val_accuracy: 0.3111\n",
            "Epoch 2/30\n",
            "86/86 [==============================] - 0s 2ms/sample - loss: 1.4256 - accuracy: 0.4419 - val_loss: 1.4102 - val_accuracy: 0.3111\n",
            "Epoch 3/30\n",
            "86/86 [==============================] - 0s 2ms/sample - loss: 1.5061 - accuracy: 0.4419 - val_loss: 1.4055 - val_accuracy: 0.3111\n",
            "Epoch 4/30\n",
            "86/86 [==============================] - 0s 2ms/sample - loss: 1.4593 - accuracy: 0.3721 - val_loss: 1.4031 - val_accuracy: 0.3111\n",
            "Epoch 5/30\n",
            "86/86 [==============================] - 0s 2ms/sample - loss: 1.3436 - accuracy: 0.4070 - val_loss: 1.3999 - val_accuracy: 0.3111\n",
            "Epoch 6/30\n",
            "86/86 [==============================] - 0s 2ms/sample - loss: 1.4348 - accuracy: 0.4070 - val_loss: 1.3962 - val_accuracy: 0.3111\n",
            "Epoch 7/30\n",
            "86/86 [==============================] - 0s 2ms/sample - loss: 1.3778 - accuracy: 0.4884 - val_loss: 1.3927 - val_accuracy: 0.3111\n",
            "Epoch 8/30\n",
            "86/86 [==============================] - 0s 2ms/sample - loss: 1.5704 - accuracy: 0.3488 - val_loss: 1.3899 - val_accuracy: 0.3111\n",
            "Epoch 9/30\n",
            "86/86 [==============================] - 0s 2ms/sample - loss: 1.5418 - accuracy: 0.3953 - val_loss: 1.3857 - val_accuracy: 0.3111\n",
            "Epoch 10/30\n",
            "86/86 [==============================] - 0s 2ms/sample - loss: 1.2815 - accuracy: 0.4186 - val_loss: 1.3823 - val_accuracy: 0.3111\n",
            "Epoch 11/30\n",
            "86/86 [==============================] - 0s 2ms/sample - loss: 1.6511 - accuracy: 0.3721 - val_loss: 1.3780 - val_accuracy: 0.3111\n",
            "Epoch 12/30\n",
            "86/86 [==============================] - 0s 2ms/sample - loss: 1.3225 - accuracy: 0.4651 - val_loss: 1.3744 - val_accuracy: 0.3111\n",
            "Epoch 13/30\n",
            "86/86 [==============================] - 0s 2ms/sample - loss: 1.5035 - accuracy: 0.3837 - val_loss: 1.3731 - val_accuracy: 0.3111\n",
            "Epoch 14/30\n",
            "86/86 [==============================] - 0s 2ms/sample - loss: 1.3730 - accuracy: 0.4070 - val_loss: 1.3702 - val_accuracy: 0.3111\n",
            "Epoch 15/30\n",
            "86/86 [==============================] - 0s 2ms/sample - loss: 1.4874 - accuracy: 0.4186 - val_loss: 1.3676 - val_accuracy: 0.3111\n",
            "Epoch 16/30\n",
            "86/86 [==============================] - 0s 2ms/sample - loss: 1.3790 - accuracy: 0.4535 - val_loss: 1.3648 - val_accuracy: 0.3111\n",
            "Epoch 17/30\n",
            "86/86 [==============================] - 0s 2ms/sample - loss: 1.2743 - accuracy: 0.4884 - val_loss: 1.3620 - val_accuracy: 0.3111\n",
            "Epoch 18/30\n",
            "86/86 [==============================] - 0s 2ms/sample - loss: 1.2490 - accuracy: 0.4651 - val_loss: 1.3592 - val_accuracy: 0.3111\n",
            "Epoch 19/30\n",
            "86/86 [==============================] - 0s 2ms/sample - loss: 1.3905 - accuracy: 0.4767 - val_loss: 1.3563 - val_accuracy: 0.3111\n",
            "Epoch 20/30\n",
            "86/86 [==============================] - 0s 2ms/sample - loss: 1.3280 - accuracy: 0.4419 - val_loss: 1.3524 - val_accuracy: 0.3111\n",
            "Epoch 21/30\n",
            "86/86 [==============================] - 0s 2ms/sample - loss: 1.4276 - accuracy: 0.4186 - val_loss: 1.3473 - val_accuracy: 0.3111\n",
            "Epoch 22/30\n",
            "86/86 [==============================] - 0s 2ms/sample - loss: 1.4371 - accuracy: 0.3953 - val_loss: 1.3449 - val_accuracy: 0.3111\n",
            "Epoch 23/30\n",
            "86/86 [==============================] - 0s 2ms/sample - loss: 1.4631 - accuracy: 0.4884 - val_loss: 1.3418 - val_accuracy: 0.3111\n",
            "Epoch 24/30\n",
            "86/86 [==============================] - 0s 2ms/sample - loss: 1.4474 - accuracy: 0.4302 - val_loss: 1.3375 - val_accuracy: 0.3111\n",
            "Epoch 25/30\n",
            "86/86 [==============================] - 0s 2ms/sample - loss: 1.4530 - accuracy: 0.4186 - val_loss: 1.3337 - val_accuracy: 0.3111\n",
            "Epoch 26/30\n",
            "86/86 [==============================] - 0s 2ms/sample - loss: 1.4149 - accuracy: 0.3953 - val_loss: 1.3312 - val_accuracy: 0.3111\n",
            "Epoch 27/30\n",
            "86/86 [==============================] - 0s 2ms/sample - loss: 1.2448 - accuracy: 0.4186 - val_loss: 1.3284 - val_accuracy: 0.3111\n",
            "Epoch 28/30\n",
            "86/86 [==============================] - 0s 2ms/sample - loss: 1.3136 - accuracy: 0.5000 - val_loss: 1.3251 - val_accuracy: 0.3111\n",
            "Epoch 29/30\n",
            "86/86 [==============================] - 0s 2ms/sample - loss: 1.3320 - accuracy: 0.4070 - val_loss: 1.3217 - val_accuracy: 0.3111\n",
            "Epoch 30/30\n",
            "86/86 [==============================] - 0s 2ms/sample - loss: 1.3461 - accuracy: 0.4302 - val_loss: 1.3186 - val_accuracy: 0.3111\n",
            "Train on 86 samples, validate on 45 samples\n",
            "Epoch 1/30\n",
            "86/86 [==============================] - 1s 6ms/sample - loss: 1.6039 - accuracy: 0.2791 - val_loss: 1.4867 - val_accuracy: 0.3333\n",
            "Epoch 2/30\n",
            "86/86 [==============================] - 0s 2ms/sample - loss: 1.7331 - accuracy: 0.3953 - val_loss: 1.4806 - val_accuracy: 0.3333\n",
            "Epoch 3/30\n",
            "86/86 [==============================] - 0s 2ms/sample - loss: 1.4774 - accuracy: 0.4186 - val_loss: 1.4760 - val_accuracy: 0.3333\n",
            "Epoch 4/30\n",
            "86/86 [==============================] - 0s 2ms/sample - loss: 1.6782 - accuracy: 0.3140 - val_loss: 1.4691 - val_accuracy: 0.3333\n",
            "Epoch 5/30\n",
            "86/86 [==============================] - 0s 2ms/sample - loss: 1.4129 - accuracy: 0.3372 - val_loss: 1.4650 - val_accuracy: 0.3333\n",
            "Epoch 6/30\n",
            "86/86 [==============================] - 0s 2ms/sample - loss: 1.6096 - accuracy: 0.3256 - val_loss: 1.4585 - val_accuracy: 0.3333\n",
            "Epoch 7/30\n",
            "86/86 [==============================] - 0s 2ms/sample - loss: 1.6626 - accuracy: 0.3488 - val_loss: 1.4531 - val_accuracy: 0.3556\n",
            "Epoch 8/30\n",
            "86/86 [==============================] - 0s 2ms/sample - loss: 1.7589 - accuracy: 0.2907 - val_loss: 1.4484 - val_accuracy: 0.3556\n",
            "Epoch 9/30\n",
            "86/86 [==============================] - 0s 2ms/sample - loss: 1.5056 - accuracy: 0.3372 - val_loss: 1.4431 - val_accuracy: 0.3333\n",
            "Epoch 10/30\n",
            "86/86 [==============================] - 0s 2ms/sample - loss: 1.4811 - accuracy: 0.3605 - val_loss: 1.4373 - val_accuracy: 0.3333\n",
            "Epoch 11/30\n",
            "86/86 [==============================] - 0s 2ms/sample - loss: 1.6465 - accuracy: 0.3953 - val_loss: 1.4321 - val_accuracy: 0.3333\n",
            "Epoch 12/30\n",
            "86/86 [==============================] - 0s 2ms/sample - loss: 1.4965 - accuracy: 0.3372 - val_loss: 1.4276 - val_accuracy: 0.3333\n",
            "Epoch 13/30\n",
            "86/86 [==============================] - 0s 2ms/sample - loss: 1.6171 - accuracy: 0.3605 - val_loss: 1.4234 - val_accuracy: 0.3333\n",
            "Epoch 14/30\n",
            "86/86 [==============================] - 0s 2ms/sample - loss: 1.4433 - accuracy: 0.3837 - val_loss: 1.4190 - val_accuracy: 0.3333\n",
            "Epoch 15/30\n",
            "86/86 [==============================] - 0s 2ms/sample - loss: 1.5638 - accuracy: 0.3256 - val_loss: 1.4142 - val_accuracy: 0.3111\n",
            "Epoch 16/30\n",
            "86/86 [==============================] - 0s 2ms/sample - loss: 1.4765 - accuracy: 0.3256 - val_loss: 1.4081 - val_accuracy: 0.3111\n",
            "Epoch 17/30\n",
            "86/86 [==============================] - 0s 2ms/sample - loss: 1.5500 - accuracy: 0.3721 - val_loss: 1.4038 - val_accuracy: 0.3111\n",
            "Epoch 18/30\n",
            "86/86 [==============================] - 0s 2ms/sample - loss: 1.5099 - accuracy: 0.3721 - val_loss: 1.3985 - val_accuracy: 0.3111\n",
            "Epoch 19/30\n",
            "86/86 [==============================] - 0s 2ms/sample - loss: 1.5413 - accuracy: 0.4186 - val_loss: 1.3947 - val_accuracy: 0.3111\n",
            "Epoch 20/30\n",
            "86/86 [==============================] - 0s 2ms/sample - loss: 1.6015 - accuracy: 0.3488 - val_loss: 1.3900 - val_accuracy: 0.3111\n",
            "Epoch 21/30\n",
            "86/86 [==============================] - 0s 2ms/sample - loss: 1.5831 - accuracy: 0.3488 - val_loss: 1.3855 - val_accuracy: 0.3111\n",
            "Epoch 22/30\n",
            "86/86 [==============================] - 0s 2ms/sample - loss: 1.2912 - accuracy: 0.4651 - val_loss: 1.3810 - val_accuracy: 0.3111\n",
            "Epoch 23/30\n",
            "86/86 [==============================] - 0s 2ms/sample - loss: 1.4507 - accuracy: 0.3721 - val_loss: 1.3773 - val_accuracy: 0.3111\n",
            "Epoch 24/30\n",
            "86/86 [==============================] - 0s 2ms/sample - loss: 1.4102 - accuracy: 0.3837 - val_loss: 1.3741 - val_accuracy: 0.3111\n",
            "Epoch 25/30\n",
            "86/86 [==============================] - 0s 2ms/sample - loss: 1.3192 - accuracy: 0.4651 - val_loss: 1.3702 - val_accuracy: 0.3111\n",
            "Epoch 26/30\n",
            "86/86 [==============================] - 0s 2ms/sample - loss: 1.5497 - accuracy: 0.3837 - val_loss: 1.3658 - val_accuracy: 0.3111\n",
            "Epoch 27/30\n",
            "86/86 [==============================] - 0s 2ms/sample - loss: 1.4616 - accuracy: 0.3372 - val_loss: 1.3622 - val_accuracy: 0.3111\n",
            "Epoch 28/30\n",
            "86/86 [==============================] - 0s 2ms/sample - loss: 1.3980 - accuracy: 0.3953 - val_loss: 1.3570 - val_accuracy: 0.3111\n",
            "Epoch 29/30\n",
            "86/86 [==============================] - 0s 2ms/sample - loss: 1.4906 - accuracy: 0.3140 - val_loss: 1.3531 - val_accuracy: 0.3111\n",
            "Epoch 30/30\n",
            "86/86 [==============================] - 0s 2ms/sample - loss: 1.4387 - accuracy: 0.3605 - val_loss: 1.3486 - val_accuracy: 0.3111\n",
            "Train on 86 samples, validate on 45 samples\n",
            "Epoch 1/30\n",
            "86/86 [==============================] - 1s 6ms/sample - loss: 1.3978 - accuracy: 0.3953 - val_loss: 1.2530 - val_accuracy: 0.4222\n",
            "Epoch 2/30\n",
            "86/86 [==============================] - 0s 2ms/sample - loss: 1.6281 - accuracy: 0.3140 - val_loss: 1.2484 - val_accuracy: 0.4222\n",
            "Epoch 3/30\n",
            "86/86 [==============================] - 0s 2ms/sample - loss: 1.6274 - accuracy: 0.3140 - val_loss: 1.2416 - val_accuracy: 0.4222\n",
            "Epoch 4/30\n",
            "86/86 [==============================] - 0s 2ms/sample - loss: 1.7405 - accuracy: 0.3256 - val_loss: 1.2344 - val_accuracy: 0.4222\n",
            "Epoch 5/30\n",
            "86/86 [==============================] - 0s 2ms/sample - loss: 1.6741 - accuracy: 0.3605 - val_loss: 1.2281 - val_accuracy: 0.4222\n",
            "Epoch 6/30\n",
            "86/86 [==============================] - 0s 2ms/sample - loss: 1.7497 - accuracy: 0.3488 - val_loss: 1.2223 - val_accuracy: 0.4222\n",
            "Epoch 7/30\n",
            "86/86 [==============================] - 0s 2ms/sample - loss: 1.5347 - accuracy: 0.3837 - val_loss: 1.2175 - val_accuracy: 0.4222\n",
            "Epoch 8/30\n",
            "86/86 [==============================] - 0s 2ms/sample - loss: 1.5149 - accuracy: 0.3372 - val_loss: 1.2107 - val_accuracy: 0.4222\n",
            "Epoch 9/30\n",
            "86/86 [==============================] - 0s 2ms/sample - loss: 1.8327 - accuracy: 0.3372 - val_loss: 1.2066 - val_accuracy: 0.4222\n",
            "Epoch 10/30\n",
            "86/86 [==============================] - 0s 2ms/sample - loss: 1.7325 - accuracy: 0.2791 - val_loss: 1.2014 - val_accuracy: 0.4222\n",
            "Epoch 11/30\n",
            "86/86 [==============================] - 0s 2ms/sample - loss: 1.9336 - accuracy: 0.2791 - val_loss: 1.1968 - val_accuracy: 0.4000\n",
            "Epoch 12/30\n",
            "86/86 [==============================] - 0s 2ms/sample - loss: 1.6834 - accuracy: 0.2558 - val_loss: 1.1924 - val_accuracy: 0.4000\n",
            "Epoch 13/30\n",
            "86/86 [==============================] - 0s 2ms/sample - loss: 1.7232 - accuracy: 0.3140 - val_loss: 1.1879 - val_accuracy: 0.4000\n",
            "Epoch 14/30\n",
            "86/86 [==============================] - 0s 2ms/sample - loss: 1.5634 - accuracy: 0.3488 - val_loss: 1.1837 - val_accuracy: 0.4000\n",
            "Epoch 15/30\n",
            "86/86 [==============================] - 0s 2ms/sample - loss: 1.4492 - accuracy: 0.3953 - val_loss: 1.1796 - val_accuracy: 0.4000\n",
            "Epoch 16/30\n",
            "86/86 [==============================] - 0s 2ms/sample - loss: 1.4932 - accuracy: 0.3256 - val_loss: 1.1755 - val_accuracy: 0.4000\n",
            "Epoch 17/30\n",
            "86/86 [==============================] - 0s 2ms/sample - loss: 1.4073 - accuracy: 0.4070 - val_loss: 1.1715 - val_accuracy: 0.4000\n",
            "Epoch 18/30\n",
            "86/86 [==============================] - 0s 2ms/sample - loss: 1.4143 - accuracy: 0.4186 - val_loss: 1.1671 - val_accuracy: 0.4000\n",
            "Epoch 19/30\n",
            "86/86 [==============================] - 0s 2ms/sample - loss: 1.2991 - accuracy: 0.4767 - val_loss: 1.1635 - val_accuracy: 0.4000\n",
            "Epoch 20/30\n",
            "86/86 [==============================] - 0s 2ms/sample - loss: 1.5966 - accuracy: 0.3372 - val_loss: 1.1595 - val_accuracy: 0.4000\n",
            "Epoch 21/30\n",
            "86/86 [==============================] - 0s 2ms/sample - loss: 1.6578 - accuracy: 0.3488 - val_loss: 1.1552 - val_accuracy: 0.3556\n",
            "Epoch 22/30\n",
            "86/86 [==============================] - 0s 2ms/sample - loss: 1.5920 - accuracy: 0.3023 - val_loss: 1.1514 - val_accuracy: 0.3556\n",
            "Epoch 23/30\n",
            "86/86 [==============================] - 0s 3ms/sample - loss: 1.3674 - accuracy: 0.5000 - val_loss: 1.1494 - val_accuracy: 0.3778\n",
            "Epoch 24/30\n",
            "86/86 [==============================] - 0s 2ms/sample - loss: 1.5056 - accuracy: 0.3721 - val_loss: 1.1465 - val_accuracy: 0.3778\n",
            "Epoch 25/30\n",
            "86/86 [==============================] - 0s 2ms/sample - loss: 1.5569 - accuracy: 0.3372 - val_loss: 1.1446 - val_accuracy: 0.3778\n",
            "Epoch 26/30\n",
            "86/86 [==============================] - 0s 2ms/sample - loss: 1.5276 - accuracy: 0.3837 - val_loss: 1.1421 - val_accuracy: 0.3778\n",
            "Epoch 27/30\n",
            "86/86 [==============================] - 0s 2ms/sample - loss: 1.5033 - accuracy: 0.3837 - val_loss: 1.1405 - val_accuracy: 0.3778\n",
            "Epoch 28/30\n",
            "86/86 [==============================] - 0s 2ms/sample - loss: 1.2735 - accuracy: 0.4535 - val_loss: 1.1375 - val_accuracy: 0.3778\n",
            "Epoch 29/30\n",
            "86/86 [==============================] - 0s 2ms/sample - loss: 1.4745 - accuracy: 0.3023 - val_loss: 1.1334 - val_accuracy: 0.3778\n",
            "Epoch 30/30\n",
            "86/86 [==============================] - 0s 2ms/sample - loss: 1.4064 - accuracy: 0.3837 - val_loss: 1.1298 - val_accuracy: 0.4000\n",
            "Train on 86 samples, validate on 45 samples\n",
            "Epoch 1/30\n",
            "86/86 [==============================] - 0s 6ms/sample - loss: 1.6383 - accuracy: 0.3488 - val_loss: 1.2509 - val_accuracy: 0.3778\n",
            "Epoch 2/30\n",
            "86/86 [==============================] - 0s 2ms/sample - loss: 1.5018 - accuracy: 0.3256 - val_loss: 1.2452 - val_accuracy: 0.3778\n",
            "Epoch 3/30\n",
            "86/86 [==============================] - 0s 2ms/sample - loss: 1.5851 - accuracy: 0.2791 - val_loss: 1.2382 - val_accuracy: 0.3778\n",
            "Epoch 4/30\n",
            "86/86 [==============================] - 0s 2ms/sample - loss: 1.3659 - accuracy: 0.3488 - val_loss: 1.2337 - val_accuracy: 0.3778\n",
            "Epoch 5/30\n",
            "86/86 [==============================] - 0s 2ms/sample - loss: 1.3821 - accuracy: 0.4070 - val_loss: 1.2286 - val_accuracy: 0.3778\n",
            "Epoch 6/30\n",
            "86/86 [==============================] - 0s 2ms/sample - loss: 1.5942 - accuracy: 0.3372 - val_loss: 1.2220 - val_accuracy: 0.3778\n",
            "Epoch 7/30\n",
            "86/86 [==============================] - 0s 2ms/sample - loss: 1.4490 - accuracy: 0.3023 - val_loss: 1.2169 - val_accuracy: 0.3778\n",
            "Epoch 8/30\n",
            "86/86 [==============================] - 0s 2ms/sample - loss: 1.3543 - accuracy: 0.3605 - val_loss: 1.2111 - val_accuracy: 0.3778\n",
            "Epoch 9/30\n",
            "86/86 [==============================] - 0s 2ms/sample - loss: 1.5457 - accuracy: 0.2907 - val_loss: 1.2046 - val_accuracy: 0.3778\n",
            "Epoch 10/30\n",
            "86/86 [==============================] - 0s 2ms/sample - loss: 1.3714 - accuracy: 0.3953 - val_loss: 1.2002 - val_accuracy: 0.3778\n",
            "Epoch 11/30\n",
            "86/86 [==============================] - 0s 2ms/sample - loss: 1.4041 - accuracy: 0.2907 - val_loss: 1.1949 - val_accuracy: 0.3778\n",
            "Epoch 12/30\n",
            "86/86 [==============================] - 0s 2ms/sample - loss: 1.3773 - accuracy: 0.2907 - val_loss: 1.1898 - val_accuracy: 0.3778\n",
            "Epoch 13/30\n",
            "86/86 [==============================] - 0s 2ms/sample - loss: 1.3592 - accuracy: 0.3488 - val_loss: 1.1850 - val_accuracy: 0.3778\n",
            "Epoch 14/30\n",
            "86/86 [==============================] - 0s 2ms/sample - loss: 1.4401 - accuracy: 0.3023 - val_loss: 1.1802 - val_accuracy: 0.3778\n",
            "Epoch 15/30\n",
            "86/86 [==============================] - 0s 2ms/sample - loss: 1.2390 - accuracy: 0.4767 - val_loss: 1.1765 - val_accuracy: 0.3778\n",
            "Epoch 16/30\n",
            "86/86 [==============================] - 0s 2ms/sample - loss: 1.4145 - accuracy: 0.2907 - val_loss: 1.1715 - val_accuracy: 0.3778\n",
            "Epoch 17/30\n",
            "86/86 [==============================] - 0s 2ms/sample - loss: 1.2529 - accuracy: 0.4070 - val_loss: 1.1670 - val_accuracy: 0.3556\n",
            "Epoch 18/30\n",
            "86/86 [==============================] - 0s 2ms/sample - loss: 1.4395 - accuracy: 0.3488 - val_loss: 1.1622 - val_accuracy: 0.3556\n",
            "Epoch 19/30\n",
            "86/86 [==============================] - 0s 2ms/sample - loss: 1.3653 - accuracy: 0.3837 - val_loss: 1.1570 - val_accuracy: 0.3556\n",
            "Epoch 20/30\n",
            "86/86 [==============================] - 0s 2ms/sample - loss: 1.4100 - accuracy: 0.3140 - val_loss: 1.1526 - val_accuracy: 0.3556\n",
            "Epoch 21/30\n",
            "86/86 [==============================] - 0s 2ms/sample - loss: 1.3336 - accuracy: 0.2907 - val_loss: 1.1484 - val_accuracy: 0.3556\n",
            "Epoch 22/30\n",
            "86/86 [==============================] - 0s 2ms/sample - loss: 1.2904 - accuracy: 0.3721 - val_loss: 1.1450 - val_accuracy: 0.3556\n",
            "Epoch 23/30\n",
            "86/86 [==============================] - 0s 2ms/sample - loss: 1.2274 - accuracy: 0.3256 - val_loss: 1.1410 - val_accuracy: 0.3556\n",
            "Epoch 24/30\n",
            "86/86 [==============================] - 0s 2ms/sample - loss: 1.4125 - accuracy: 0.3140 - val_loss: 1.1370 - val_accuracy: 0.3556\n",
            "Epoch 25/30\n",
            "86/86 [==============================] - 0s 2ms/sample - loss: 1.2845 - accuracy: 0.3372 - val_loss: 1.1324 - val_accuracy: 0.3556\n",
            "Epoch 26/30\n",
            "86/86 [==============================] - 0s 2ms/sample - loss: 1.4020 - accuracy: 0.3721 - val_loss: 1.1285 - val_accuracy: 0.3333\n",
            "Epoch 27/30\n",
            "86/86 [==============================] - 0s 2ms/sample - loss: 1.1444 - accuracy: 0.4070 - val_loss: 1.1251 - val_accuracy: 0.3333\n",
            "Epoch 28/30\n",
            "86/86 [==============================] - 0s 2ms/sample - loss: 1.1818 - accuracy: 0.4186 - val_loss: 1.1224 - val_accuracy: 0.3333\n",
            "Epoch 29/30\n",
            "86/86 [==============================] - 0s 2ms/sample - loss: 1.2330 - accuracy: 0.4070 - val_loss: 1.1195 - val_accuracy: 0.3556\n",
            "Epoch 30/30\n",
            "86/86 [==============================] - 0s 2ms/sample - loss: 1.2979 - accuracy: 0.4070 - val_loss: 1.1164 - val_accuracy: 0.3556\n"
          ],
          "name": "stdout"
        },
        {
          "output_type": "display_data",
          "data": {
            "text/html": [
              "<span style=\"color:#4527A0\"><h1 style=\"font-size:18px\">Trial complete</h1></span>"
            ],
            "text/plain": [
              "<IPython.core.display.HTML object>"
            ]
          },
          "metadata": {
            "tags": []
          }
        },
        {
          "output_type": "display_data",
          "data": {
            "text/html": [
              "<span style=\"color:#4527A0\"><h1 style=\"font-size:18px\">Trial summary</h1></span>"
            ],
            "text/plain": [
              "<IPython.core.display.HTML object>"
            ]
          },
          "metadata": {
            "tags": []
          }
        },
        {
          "output_type": "display_data",
          "data": {
            "text/html": [
              "<span style=\"color:#7E57C2\"><h2 style=\"font-size:16px\">Hp values:</h2></span>"
            ],
            "text/plain": [
              "<IPython.core.display.HTML object>"
            ]
          },
          "metadata": {
            "tags": []
          }
        },
        {
          "output_type": "display_data",
          "data": {
            "text/html": [
              "<span style=\"color:cyan\"> |-activation: tanh</span>"
            ],
            "text/plain": [
              "<IPython.core.display.HTML object>"
            ]
          },
          "metadata": {
            "tags": []
          }
        },
        {
          "output_type": "display_data",
          "data": {
            "text/html": [
              "<span style=\"color:blue\"> |-drop_rate: 0.5</span>"
            ],
            "text/plain": [
              "<IPython.core.display.HTML object>"
            ]
          },
          "metadata": {
            "tags": []
          }
        },
        {
          "output_type": "display_data",
          "data": {
            "text/html": [
              "<span style=\"color:cyan\"> |-learning_rate: 0.0001</span>"
            ],
            "text/plain": [
              "<IPython.core.display.HTML object>"
            ]
          },
          "metadata": {
            "tags": []
          }
        },
        {
          "output_type": "display_data",
          "data": {
            "text/html": [
              "<span style=\"color:blue\"> |-units: 7</span>"
            ],
            "text/plain": [
              "<IPython.core.display.HTML object>"
            ]
          },
          "metadata": {
            "tags": []
          }
        },
        {
          "output_type": "display_data",
          "data": {
            "text/html": [
              "<span style=\"color:cyan\"> |-weight_init: he_normal</span>"
            ],
            "text/plain": [
              "<IPython.core.display.HTML object>"
            ]
          },
          "metadata": {
            "tags": []
          }
        },
        {
          "output_type": "display_data",
          "data": {
            "text/html": [
              "<span style=\"color:cyan\"> |-Score: 0.35555559396743774</span>"
            ],
            "text/plain": [
              "<IPython.core.display.HTML object>"
            ]
          },
          "metadata": {
            "tags": []
          }
        },
        {
          "output_type": "display_data",
          "data": {
            "text/html": [
              "<span style=\"color:cyan\"> |-Best step: 0</span>"
            ],
            "text/plain": [
              "<IPython.core.display.HTML object>"
            ]
          },
          "metadata": {
            "tags": []
          }
        },
        {
          "output_type": "stream",
          "text": [
            "Train on 86 samples, validate on 45 samples\n",
            "Epoch 1/30\n",
            "86/86 [==============================] - 1s 6ms/sample - loss: 1.0286 - accuracy: 0.5000 - val_loss: 1.0243 - val_accuracy: 0.4444\n",
            "Epoch 2/30\n",
            "86/86 [==============================] - 0s 2ms/sample - loss: 0.9810 - accuracy: 0.5465 - val_loss: 1.0116 - val_accuracy: 0.4667\n",
            "Epoch 3/30\n",
            "86/86 [==============================] - 0s 2ms/sample - loss: 0.9616 - accuracy: 0.6279 - val_loss: 1.0122 - val_accuracy: 0.4444\n",
            "Epoch 4/30\n",
            "86/86 [==============================] - 0s 2ms/sample - loss: 0.9357 - accuracy: 0.6047 - val_loss: 1.0093 - val_accuracy: 0.4000\n",
            "Epoch 5/30\n",
            "86/86 [==============================] - 0s 2ms/sample - loss: 0.9238 - accuracy: 0.6163 - val_loss: 1.0143 - val_accuracy: 0.4889\n",
            "Epoch 6/30\n",
            "86/86 [==============================] - 0s 2ms/sample - loss: 0.9220 - accuracy: 0.6279 - val_loss: 1.0120 - val_accuracy: 0.4667\n",
            "Epoch 7/30\n",
            "86/86 [==============================] - 0s 2ms/sample - loss: 0.8658 - accuracy: 0.7326 - val_loss: 1.0262 - val_accuracy: 0.5333\n",
            "Epoch 8/30\n",
            "86/86 [==============================] - 0s 2ms/sample - loss: 0.9521 - accuracy: 0.6279 - val_loss: 1.0235 - val_accuracy: 0.4889\n",
            "Epoch 9/30\n",
            "86/86 [==============================] - 0s 2ms/sample - loss: 0.8848 - accuracy: 0.6279 - val_loss: 1.0261 - val_accuracy: 0.4889\n",
            "Epoch 10/30\n",
            "86/86 [==============================] - 0s 2ms/sample - loss: 0.8441 - accuracy: 0.6860 - val_loss: 1.0397 - val_accuracy: 0.4889\n",
            "Epoch 11/30\n",
            "86/86 [==============================] - 0s 2ms/sample - loss: 0.8669 - accuracy: 0.6512 - val_loss: 1.0309 - val_accuracy: 0.4889\n",
            "Epoch 12/30\n",
            "86/86 [==============================] - 0s 2ms/sample - loss: 0.8742 - accuracy: 0.6395 - val_loss: 1.0423 - val_accuracy: 0.4889\n",
            "Epoch 13/30\n",
            "86/86 [==============================] - 0s 2ms/sample - loss: 0.8345 - accuracy: 0.6628 - val_loss: 1.0491 - val_accuracy: 0.4889\n",
            "Epoch 14/30\n",
            "86/86 [==============================] - 0s 2ms/sample - loss: 0.8638 - accuracy: 0.6279 - val_loss: 1.0554 - val_accuracy: 0.4889\n",
            "Epoch 15/30\n",
            "86/86 [==============================] - 0s 2ms/sample - loss: 0.8179 - accuracy: 0.6860 - val_loss: 1.0595 - val_accuracy: 0.4889\n",
            "Epoch 16/30\n",
            "86/86 [==============================] - 0s 2ms/sample - loss: 0.8380 - accuracy: 0.6628 - val_loss: 1.0741 - val_accuracy: 0.5111\n",
            "Epoch 17/30\n",
            "86/86 [==============================] - 0s 2ms/sample - loss: 0.8346 - accuracy: 0.6512 - val_loss: 1.0594 - val_accuracy: 0.4667\n",
            "Epoch 18/30\n",
            "86/86 [==============================] - 0s 2ms/sample - loss: 0.8514 - accuracy: 0.6395 - val_loss: 1.0584 - val_accuracy: 0.4667\n",
            "Epoch 19/30\n",
            "86/86 [==============================] - 0s 2ms/sample - loss: 0.8413 - accuracy: 0.6744 - val_loss: 1.0634 - val_accuracy: 0.4667\n",
            "Epoch 20/30\n",
            "86/86 [==============================] - 0s 2ms/sample - loss: 0.8022 - accuracy: 0.6860 - val_loss: 1.0734 - val_accuracy: 0.4667\n",
            "Epoch 21/30\n",
            "86/86 [==============================] - 0s 2ms/sample - loss: 0.8108 - accuracy: 0.6163 - val_loss: 1.0767 - val_accuracy: 0.4667\n",
            "Epoch 22/30\n",
            "86/86 [==============================] - 0s 2ms/sample - loss: 0.8211 - accuracy: 0.5930 - val_loss: 1.0804 - val_accuracy: 0.4889\n",
            "Epoch 23/30\n",
            "86/86 [==============================] - 0s 2ms/sample - loss: 0.8212 - accuracy: 0.6628 - val_loss: 1.0878 - val_accuracy: 0.4889\n",
            "Epoch 24/30\n",
            "86/86 [==============================] - 0s 2ms/sample - loss: 0.8047 - accuracy: 0.6279 - val_loss: 1.0955 - val_accuracy: 0.4889\n",
            "Epoch 25/30\n",
            "86/86 [==============================] - 0s 2ms/sample - loss: 0.8064 - accuracy: 0.6628 - val_loss: 1.0720 - val_accuracy: 0.5333\n",
            "Epoch 26/30\n",
            "86/86 [==============================] - 0s 2ms/sample - loss: 0.8028 - accuracy: 0.6512 - val_loss: 1.0742 - val_accuracy: 0.5111\n",
            "Epoch 27/30\n",
            "86/86 [==============================] - 0s 2ms/sample - loss: 0.8261 - accuracy: 0.6628 - val_loss: 1.0768 - val_accuracy: 0.5333\n",
            "Epoch 28/30\n",
            "86/86 [==============================] - 0s 2ms/sample - loss: 0.7900 - accuracy: 0.6395 - val_loss: 1.0867 - val_accuracy: 0.5333\n",
            "Epoch 29/30\n",
            "86/86 [==============================] - 0s 2ms/sample - loss: 0.8174 - accuracy: 0.6395 - val_loss: 1.0812 - val_accuracy: 0.5333\n",
            "Epoch 30/30\n",
            "86/86 [==============================] - 0s 2ms/sample - loss: 0.7837 - accuracy: 0.6860 - val_loss: 1.0866 - val_accuracy: 0.5556\n",
            "Train on 86 samples, validate on 45 samples\n",
            "Epoch 1/30\n",
            "86/86 [==============================] - 0s 6ms/sample - loss: 1.1215 - accuracy: 0.3140 - val_loss: 1.0716 - val_accuracy: 0.3778\n",
            "Epoch 2/30\n",
            "86/86 [==============================] - 0s 2ms/sample - loss: 1.0560 - accuracy: 0.4070 - val_loss: 1.0351 - val_accuracy: 0.4889\n",
            "Epoch 3/30\n",
            "86/86 [==============================] - 0s 2ms/sample - loss: 0.9950 - accuracy: 0.5233 - val_loss: 1.0197 - val_accuracy: 0.5333\n",
            "Epoch 4/30\n",
            "86/86 [==============================] - 0s 2ms/sample - loss: 0.9455 - accuracy: 0.6163 - val_loss: 0.9996 - val_accuracy: 0.5111\n",
            "Epoch 5/30\n",
            "86/86 [==============================] - 0s 2ms/sample - loss: 0.9380 - accuracy: 0.5465 - val_loss: 0.9962 - val_accuracy: 0.5333\n",
            "Epoch 6/30\n",
            "86/86 [==============================] - 0s 2ms/sample - loss: 0.9313 - accuracy: 0.5581 - val_loss: 0.9868 - val_accuracy: 0.5778\n",
            "Epoch 7/30\n",
            "86/86 [==============================] - 0s 2ms/sample - loss: 0.9419 - accuracy: 0.5814 - val_loss: 0.9820 - val_accuracy: 0.5778\n",
            "Epoch 8/30\n",
            "86/86 [==============================] - 0s 2ms/sample - loss: 0.9210 - accuracy: 0.5814 - val_loss: 0.9799 - val_accuracy: 0.5556\n",
            "Epoch 9/30\n",
            "86/86 [==============================] - 0s 2ms/sample - loss: 0.9421 - accuracy: 0.5698 - val_loss: 0.9669 - val_accuracy: 0.5111\n",
            "Epoch 10/30\n",
            "86/86 [==============================] - 0s 2ms/sample - loss: 0.9134 - accuracy: 0.6163 - val_loss: 0.9678 - val_accuracy: 0.5556\n",
            "Epoch 11/30\n",
            "86/86 [==============================] - 0s 2ms/sample - loss: 0.8928 - accuracy: 0.6279 - val_loss: 0.9700 - val_accuracy: 0.5333\n",
            "Epoch 12/30\n",
            "86/86 [==============================] - 0s 2ms/sample - loss: 0.8866 - accuracy: 0.6047 - val_loss: 0.9745 - val_accuracy: 0.5556\n",
            "Epoch 13/30\n",
            "86/86 [==============================] - 0s 2ms/sample - loss: 0.8988 - accuracy: 0.6279 - val_loss: 0.9764 - val_accuracy: 0.5556\n",
            "Epoch 14/30\n",
            "86/86 [==============================] - 0s 2ms/sample - loss: 0.8553 - accuracy: 0.6395 - val_loss: 0.9704 - val_accuracy: 0.5556\n",
            "Epoch 15/30\n",
            "86/86 [==============================] - 0s 2ms/sample - loss: 0.8521 - accuracy: 0.6395 - val_loss: 0.9767 - val_accuracy: 0.5333\n",
            "Epoch 16/30\n",
            "86/86 [==============================] - 0s 2ms/sample - loss: 0.8476 - accuracy: 0.6279 - val_loss: 0.9796 - val_accuracy: 0.5111\n",
            "Epoch 17/30\n",
            "86/86 [==============================] - 0s 2ms/sample - loss: 0.8844 - accuracy: 0.6163 - val_loss: 0.9799 - val_accuracy: 0.5111\n",
            "Epoch 18/30\n",
            "86/86 [==============================] - 0s 2ms/sample - loss: 0.8669 - accuracy: 0.6047 - val_loss: 0.9827 - val_accuracy: 0.5111\n",
            "Epoch 19/30\n",
            "86/86 [==============================] - 0s 2ms/sample - loss: 0.8390 - accuracy: 0.6163 - val_loss: 0.9957 - val_accuracy: 0.4889\n",
            "Epoch 20/30\n",
            "86/86 [==============================] - 0s 2ms/sample - loss: 0.8196 - accuracy: 0.6163 - val_loss: 0.9941 - val_accuracy: 0.4667\n",
            "Epoch 21/30\n",
            "86/86 [==============================] - 0s 2ms/sample - loss: 0.8634 - accuracy: 0.6163 - val_loss: 0.9962 - val_accuracy: 0.5111\n",
            "Epoch 22/30\n",
            "86/86 [==============================] - 0s 2ms/sample - loss: 0.8415 - accuracy: 0.6395 - val_loss: 0.9914 - val_accuracy: 0.4889\n",
            "Epoch 23/30\n",
            "86/86 [==============================] - 0s 2ms/sample - loss: 0.8541 - accuracy: 0.6512 - val_loss: 0.9912 - val_accuracy: 0.4667\n",
            "Epoch 24/30\n",
            "86/86 [==============================] - 0s 2ms/sample - loss: 0.8199 - accuracy: 0.6279 - val_loss: 0.9956 - val_accuracy: 0.4667\n",
            "Epoch 25/30\n",
            "86/86 [==============================] - 0s 2ms/sample - loss: 0.8154 - accuracy: 0.6395 - val_loss: 1.0032 - val_accuracy: 0.4667\n",
            "Epoch 26/30\n",
            "86/86 [==============================] - 0s 2ms/sample - loss: 0.8299 - accuracy: 0.6628 - val_loss: 1.0085 - val_accuracy: 0.4889\n",
            "Epoch 27/30\n",
            "86/86 [==============================] - 0s 2ms/sample - loss: 0.7926 - accuracy: 0.6860 - val_loss: 1.0151 - val_accuracy: 0.4889\n",
            "Epoch 28/30\n",
            "86/86 [==============================] - 0s 2ms/sample - loss: 0.7871 - accuracy: 0.6860 - val_loss: 1.0220 - val_accuracy: 0.4889\n",
            "Epoch 29/30\n",
            "86/86 [==============================] - 0s 2ms/sample - loss: 0.7806 - accuracy: 0.6744 - val_loss: 1.0237 - val_accuracy: 0.4889\n",
            "Epoch 30/30\n",
            "86/86 [==============================] - 0s 2ms/sample - loss: 0.7724 - accuracy: 0.6628 - val_loss: 1.0242 - val_accuracy: 0.4889\n",
            "Train on 86 samples, validate on 45 samples\n",
            "Epoch 1/30\n",
            "86/86 [==============================] - 0s 6ms/sample - loss: 1.0850 - accuracy: 0.3837 - val_loss: 1.0461 - val_accuracy: 0.4667\n",
            "Epoch 2/30\n",
            "86/86 [==============================] - 0s 2ms/sample - loss: 0.9718 - accuracy: 0.5698 - val_loss: 1.0106 - val_accuracy: 0.5111\n",
            "Epoch 3/30\n",
            "86/86 [==============================] - 0s 2ms/sample - loss: 0.9488 - accuracy: 0.5581 - val_loss: 0.9891 - val_accuracy: 0.4889\n",
            "Epoch 4/30\n",
            "86/86 [==============================] - 0s 2ms/sample - loss: 0.9625 - accuracy: 0.5349 - val_loss: 0.9758 - val_accuracy: 0.5111\n",
            "Epoch 5/30\n",
            "86/86 [==============================] - 0s 2ms/sample - loss: 0.9375 - accuracy: 0.5814 - val_loss: 0.9687 - val_accuracy: 0.5333\n",
            "Epoch 6/30\n",
            "86/86 [==============================] - 0s 2ms/sample - loss: 0.8797 - accuracy: 0.6395 - val_loss: 0.9644 - val_accuracy: 0.5111\n",
            "Epoch 7/30\n",
            "86/86 [==============================] - 0s 2ms/sample - loss: 0.9051 - accuracy: 0.5814 - val_loss: 0.9592 - val_accuracy: 0.4889\n",
            "Epoch 8/30\n",
            "86/86 [==============================] - 0s 2ms/sample - loss: 0.9053 - accuracy: 0.5930 - val_loss: 0.9582 - val_accuracy: 0.4889\n",
            "Epoch 9/30\n",
            "86/86 [==============================] - 0s 2ms/sample - loss: 0.9111 - accuracy: 0.6047 - val_loss: 0.9586 - val_accuracy: 0.5111\n",
            "Epoch 10/30\n",
            "86/86 [==============================] - 0s 2ms/sample - loss: 0.8784 - accuracy: 0.5698 - val_loss: 0.9582 - val_accuracy: 0.5111\n",
            "Epoch 11/30\n",
            "86/86 [==============================] - 0s 2ms/sample - loss: 0.8861 - accuracy: 0.6047 - val_loss: 0.9602 - val_accuracy: 0.5111\n",
            "Epoch 12/30\n",
            "86/86 [==============================] - 0s 2ms/sample - loss: 0.8971 - accuracy: 0.5814 - val_loss: 0.9577 - val_accuracy: 0.5333\n",
            "Epoch 13/30\n",
            "86/86 [==============================] - 0s 2ms/sample - loss: 0.8657 - accuracy: 0.6047 - val_loss: 0.9513 - val_accuracy: 0.5556\n",
            "Epoch 14/30\n",
            "86/86 [==============================] - 0s 2ms/sample - loss: 0.8178 - accuracy: 0.6395 - val_loss: 0.9587 - val_accuracy: 0.5111\n",
            "Epoch 15/30\n",
            "86/86 [==============================] - 0s 2ms/sample - loss: 0.8276 - accuracy: 0.6512 - val_loss: 0.9653 - val_accuracy: 0.5111\n",
            "Epoch 16/30\n",
            "86/86 [==============================] - 0s 2ms/sample - loss: 0.8462 - accuracy: 0.6512 - val_loss: 0.9657 - val_accuracy: 0.5333\n",
            "Epoch 17/30\n",
            "86/86 [==============================] - 0s 2ms/sample - loss: 0.8019 - accuracy: 0.6163 - val_loss: 0.9776 - val_accuracy: 0.5556\n",
            "Epoch 18/30\n",
            "86/86 [==============================] - 0s 2ms/sample - loss: 0.8422 - accuracy: 0.6279 - val_loss: 0.9740 - val_accuracy: 0.5556\n",
            "Epoch 19/30\n",
            "86/86 [==============================] - 0s 2ms/sample - loss: 0.8332 - accuracy: 0.5930 - val_loss: 0.9752 - val_accuracy: 0.5556\n",
            "Epoch 20/30\n",
            "86/86 [==============================] - 0s 2ms/sample - loss: 0.8160 - accuracy: 0.5930 - val_loss: 0.9768 - val_accuracy: 0.5556\n",
            "Epoch 21/30\n",
            "86/86 [==============================] - 0s 2ms/sample - loss: 0.8318 - accuracy: 0.6279 - val_loss: 0.9763 - val_accuracy: 0.5556\n",
            "Epoch 22/30\n",
            "86/86 [==============================] - 0s 2ms/sample - loss: 0.8384 - accuracy: 0.5930 - val_loss: 0.9791 - val_accuracy: 0.5556\n",
            "Epoch 23/30\n",
            "86/86 [==============================] - 0s 2ms/sample - loss: 0.7871 - accuracy: 0.6628 - val_loss: 0.9804 - val_accuracy: 0.5556\n",
            "Epoch 24/30\n",
            "86/86 [==============================] - 0s 2ms/sample - loss: 0.8036 - accuracy: 0.5930 - val_loss: 0.9894 - val_accuracy: 0.5556\n",
            "Epoch 25/30\n",
            "86/86 [==============================] - 0s 2ms/sample - loss: 0.8192 - accuracy: 0.6395 - val_loss: 0.9922 - val_accuracy: 0.5556\n",
            "Epoch 26/30\n",
            "86/86 [==============================] - 0s 2ms/sample - loss: 0.7967 - accuracy: 0.6163 - val_loss: 0.9899 - val_accuracy: 0.5556\n",
            "Epoch 27/30\n",
            "86/86 [==============================] - 0s 2ms/sample - loss: 0.7975 - accuracy: 0.6163 - val_loss: 1.0021 - val_accuracy: 0.5333\n",
            "Epoch 28/30\n",
            "86/86 [==============================] - 0s 2ms/sample - loss: 0.7887 - accuracy: 0.6395 - val_loss: 1.0035 - val_accuracy: 0.5556\n",
            "Epoch 29/30\n",
            "86/86 [==============================] - 0s 2ms/sample - loss: 0.8032 - accuracy: 0.6628 - val_loss: 1.0128 - val_accuracy: 0.5333\n",
            "Epoch 30/30\n",
            "86/86 [==============================] - 0s 2ms/sample - loss: 0.7892 - accuracy: 0.6395 - val_loss: 1.0138 - val_accuracy: 0.5111\n",
            "Train on 86 samples, validate on 45 samples\n",
            "Epoch 1/30\n",
            "86/86 [==============================] - 1s 6ms/sample - loss: 1.0585 - accuracy: 0.4651 - val_loss: 1.0644 - val_accuracy: 0.4222\n",
            "Epoch 2/30\n",
            "86/86 [==============================] - 0s 2ms/sample - loss: 1.0081 - accuracy: 0.6279 - val_loss: 1.0465 - val_accuracy: 0.4889\n",
            "Epoch 3/30\n",
            "86/86 [==============================] - 0s 2ms/sample - loss: 0.9876 - accuracy: 0.5814 - val_loss: 1.0353 - val_accuracy: 0.4667\n",
            "Epoch 4/30\n",
            "86/86 [==============================] - 0s 2ms/sample - loss: 0.9638 - accuracy: 0.6628 - val_loss: 1.0208 - val_accuracy: 0.4667\n",
            "Epoch 5/30\n",
            "86/86 [==============================] - 0s 2ms/sample - loss: 0.9244 - accuracy: 0.6395 - val_loss: 1.0209 - val_accuracy: 0.4444\n",
            "Epoch 6/30\n",
            "86/86 [==============================] - 0s 2ms/sample - loss: 0.9044 - accuracy: 0.6395 - val_loss: 1.0167 - val_accuracy: 0.4667\n",
            "Epoch 7/30\n",
            "86/86 [==============================] - 0s 2ms/sample - loss: 0.9029 - accuracy: 0.6279 - val_loss: 1.0147 - val_accuracy: 0.4889\n",
            "Epoch 8/30\n",
            "86/86 [==============================] - 0s 2ms/sample - loss: 0.8771 - accuracy: 0.6279 - val_loss: 1.0176 - val_accuracy: 0.5333\n",
            "Epoch 9/30\n",
            "86/86 [==============================] - 0s 2ms/sample - loss: 0.8897 - accuracy: 0.6279 - val_loss: 1.0171 - val_accuracy: 0.5111\n",
            "Epoch 10/30\n",
            "86/86 [==============================] - 0s 2ms/sample - loss: 0.8474 - accuracy: 0.6628 - val_loss: 1.0170 - val_accuracy: 0.4889\n",
            "Epoch 11/30\n",
            "86/86 [==============================] - 0s 2ms/sample - loss: 0.8202 - accuracy: 0.6279 - val_loss: 1.0257 - val_accuracy: 0.5333\n",
            "Epoch 12/30\n",
            "86/86 [==============================] - 0s 2ms/sample - loss: 0.8760 - accuracy: 0.6047 - val_loss: 1.0248 - val_accuracy: 0.5111\n",
            "Epoch 13/30\n",
            "86/86 [==============================] - 0s 2ms/sample - loss: 0.8555 - accuracy: 0.6395 - val_loss: 1.0308 - val_accuracy: 0.5111\n",
            "Epoch 14/30\n",
            "86/86 [==============================] - 0s 2ms/sample - loss: 0.8227 - accuracy: 0.6628 - val_loss: 1.0304 - val_accuracy: 0.5333\n",
            "Epoch 15/30\n",
            "86/86 [==============================] - 0s 2ms/sample - loss: 0.8262 - accuracy: 0.6512 - val_loss: 1.0308 - val_accuracy: 0.5556\n",
            "Epoch 16/30\n",
            "86/86 [==============================] - 0s 2ms/sample - loss: 0.8243 - accuracy: 0.6047 - val_loss: 1.0378 - val_accuracy: 0.5333\n",
            "Epoch 17/30\n",
            "86/86 [==============================] - 0s 2ms/sample - loss: 0.8306 - accuracy: 0.6512 - val_loss: 1.0305 - val_accuracy: 0.5556\n",
            "Epoch 18/30\n",
            "86/86 [==============================] - 0s 2ms/sample - loss: 0.7731 - accuracy: 0.6860 - val_loss: 1.0219 - val_accuracy: 0.5333\n",
            "Epoch 19/30\n",
            "86/86 [==============================] - 0s 2ms/sample - loss: 0.8051 - accuracy: 0.6860 - val_loss: 1.0351 - val_accuracy: 0.5556\n",
            "Epoch 20/30\n",
            "86/86 [==============================] - 0s 2ms/sample - loss: 0.8146 - accuracy: 0.6860 - val_loss: 1.0485 - val_accuracy: 0.5556\n",
            "Epoch 21/30\n",
            "86/86 [==============================] - 0s 2ms/sample - loss: 0.7864 - accuracy: 0.6395 - val_loss: 1.0539 - val_accuracy: 0.5333\n",
            "Epoch 22/30\n",
            "86/86 [==============================] - 0s 2ms/sample - loss: 0.8263 - accuracy: 0.6512 - val_loss: 1.0571 - val_accuracy: 0.5556\n",
            "Epoch 23/30\n",
            "86/86 [==============================] - 0s 2ms/sample - loss: 0.8154 - accuracy: 0.6279 - val_loss: 1.0645 - val_accuracy: 0.5111\n",
            "Epoch 24/30\n",
            "86/86 [==============================] - 0s 2ms/sample - loss: 0.8092 - accuracy: 0.6395 - val_loss: 1.0544 - val_accuracy: 0.5778\n",
            "Epoch 25/30\n",
            "86/86 [==============================] - 0s 2ms/sample - loss: 0.7766 - accuracy: 0.7093 - val_loss: 1.0476 - val_accuracy: 0.5556\n",
            "Epoch 26/30\n",
            "86/86 [==============================] - 0s 2ms/sample - loss: 0.8112 - accuracy: 0.6628 - val_loss: 1.0567 - val_accuracy: 0.5556\n",
            "Epoch 27/30\n",
            "86/86 [==============================] - 0s 2ms/sample - loss: 0.7598 - accuracy: 0.6977 - val_loss: 1.0731 - val_accuracy: 0.5333\n",
            "Epoch 28/30\n",
            "86/86 [==============================] - 0s 2ms/sample - loss: 0.7635 - accuracy: 0.7093 - val_loss: 1.0653 - val_accuracy: 0.5778\n",
            "Epoch 29/30\n",
            "86/86 [==============================] - 0s 2ms/sample - loss: 0.8000 - accuracy: 0.6512 - val_loss: 1.0584 - val_accuracy: 0.5556\n",
            "Epoch 30/30\n",
            "86/86 [==============================] - 0s 2ms/sample - loss: 0.7795 - accuracy: 0.6744 - val_loss: 1.0546 - val_accuracy: 0.5556\n",
            "Train on 86 samples, validate on 45 samples\n",
            "Epoch 1/30\n",
            "86/86 [==============================] - 1s 6ms/sample - loss: 1.1564 - accuracy: 0.3140 - val_loss: 1.0937 - val_accuracy: 0.4889\n",
            "Epoch 2/30\n",
            "86/86 [==============================] - 0s 2ms/sample - loss: 1.0494 - accuracy: 0.4535 - val_loss: 1.0590 - val_accuracy: 0.4889\n",
            "Epoch 3/30\n",
            "86/86 [==============================] - 0s 2ms/sample - loss: 1.0173 - accuracy: 0.5581 - val_loss: 1.0419 - val_accuracy: 0.4889\n",
            "Epoch 4/30\n",
            "86/86 [==============================] - 0s 2ms/sample - loss: 0.9739 - accuracy: 0.5581 - val_loss: 1.0268 - val_accuracy: 0.5111\n",
            "Epoch 5/30\n",
            "86/86 [==============================] - 0s 2ms/sample - loss: 0.9335 - accuracy: 0.5930 - val_loss: 1.0156 - val_accuracy: 0.4889\n",
            "Epoch 6/30\n",
            "86/86 [==============================] - 0s 2ms/sample - loss: 0.9547 - accuracy: 0.6279 - val_loss: 1.0076 - val_accuracy: 0.5333\n",
            "Epoch 7/30\n",
            "86/86 [==============================] - 0s 2ms/sample - loss: 0.8826 - accuracy: 0.6512 - val_loss: 1.0103 - val_accuracy: 0.5333\n",
            "Epoch 8/30\n",
            "86/86 [==============================] - 0s 2ms/sample - loss: 0.8895 - accuracy: 0.6512 - val_loss: 1.0029 - val_accuracy: 0.5333\n",
            "Epoch 9/30\n",
            "86/86 [==============================] - 0s 2ms/sample - loss: 0.8661 - accuracy: 0.6512 - val_loss: 1.0081 - val_accuracy: 0.5333\n",
            "Epoch 10/30\n",
            "86/86 [==============================] - 0s 2ms/sample - loss: 0.8987 - accuracy: 0.5581 - val_loss: 1.0038 - val_accuracy: 0.5333\n",
            "Epoch 11/30\n",
            "86/86 [==============================] - 0s 2ms/sample - loss: 0.8037 - accuracy: 0.6628 - val_loss: 1.0071 - val_accuracy: 0.5333\n",
            "Epoch 12/30\n",
            "86/86 [==============================] - 0s 2ms/sample - loss: 0.8659 - accuracy: 0.6512 - val_loss: 1.0146 - val_accuracy: 0.5333\n",
            "Epoch 13/30\n",
            "86/86 [==============================] - 0s 2ms/sample - loss: 0.8432 - accuracy: 0.7209 - val_loss: 1.0171 - val_accuracy: 0.5333\n",
            "Epoch 14/30\n",
            "86/86 [==============================] - 0s 2ms/sample - loss: 0.8095 - accuracy: 0.6628 - val_loss: 1.0267 - val_accuracy: 0.5333\n",
            "Epoch 15/30\n",
            "86/86 [==============================] - 0s 2ms/sample - loss: 0.8283 - accuracy: 0.6628 - val_loss: 1.0281 - val_accuracy: 0.5333\n",
            "Epoch 16/30\n",
            "86/86 [==============================] - 0s 2ms/sample - loss: 0.7834 - accuracy: 0.6628 - val_loss: 1.0343 - val_accuracy: 0.5333\n",
            "Epoch 17/30\n",
            "86/86 [==============================] - 0s 2ms/sample - loss: 0.7863 - accuracy: 0.6744 - val_loss: 1.0469 - val_accuracy: 0.5556\n",
            "Epoch 18/30\n",
            "86/86 [==============================] - 0s 2ms/sample - loss: 0.7429 - accuracy: 0.6744 - val_loss: 1.0581 - val_accuracy: 0.5333\n",
            "Epoch 19/30\n",
            "86/86 [==============================] - 0s 2ms/sample - loss: 0.7693 - accuracy: 0.6977 - val_loss: 1.0480 - val_accuracy: 0.5333\n",
            "Epoch 20/30\n",
            "86/86 [==============================] - 0s 2ms/sample - loss: 0.8187 - accuracy: 0.6512 - val_loss: 1.0774 - val_accuracy: 0.5333\n",
            "Epoch 21/30\n",
            "86/86 [==============================] - 0s 2ms/sample - loss: 0.7682 - accuracy: 0.7093 - val_loss: 1.0829 - val_accuracy: 0.5333\n",
            "Epoch 22/30\n",
            "86/86 [==============================] - 0s 2ms/sample - loss: 0.7871 - accuracy: 0.7093 - val_loss: 1.1021 - val_accuracy: 0.4889\n",
            "Epoch 23/30\n",
            "86/86 [==============================] - 0s 2ms/sample - loss: 0.7598 - accuracy: 0.7093 - val_loss: 1.1056 - val_accuracy: 0.4889\n",
            "Epoch 24/30\n",
            "86/86 [==============================] - 0s 2ms/sample - loss: 0.7612 - accuracy: 0.6860 - val_loss: 1.0952 - val_accuracy: 0.4889\n",
            "Epoch 25/30\n",
            "86/86 [==============================] - 0s 2ms/sample - loss: 0.7526 - accuracy: 0.7093 - val_loss: 1.1210 - val_accuracy: 0.5111\n",
            "Epoch 26/30\n",
            "86/86 [==============================] - 0s 2ms/sample - loss: 0.7600 - accuracy: 0.7093 - val_loss: 1.1307 - val_accuracy: 0.5111\n",
            "Epoch 27/30\n",
            "86/86 [==============================] - 0s 2ms/sample - loss: 0.7747 - accuracy: 0.6977 - val_loss: 1.1196 - val_accuracy: 0.4889\n",
            "Epoch 28/30\n",
            "86/86 [==============================] - 0s 2ms/sample - loss: 0.7427 - accuracy: 0.6860 - val_loss: 1.1397 - val_accuracy: 0.4889\n",
            "Epoch 29/30\n",
            "86/86 [==============================] - 0s 2ms/sample - loss: 0.8204 - accuracy: 0.7326 - val_loss: 1.1199 - val_accuracy: 0.5111\n",
            "Epoch 30/30\n",
            "86/86 [==============================] - 0s 2ms/sample - loss: 0.7755 - accuracy: 0.6628 - val_loss: 1.1398 - val_accuracy: 0.5556\n"
          ],
          "name": "stdout"
        },
        {
          "output_type": "display_data",
          "data": {
            "text/html": [
              "<span style=\"color:#4527A0\"><h1 style=\"font-size:18px\">Trial complete</h1></span>"
            ],
            "text/plain": [
              "<IPython.core.display.HTML object>"
            ]
          },
          "metadata": {
            "tags": []
          }
        },
        {
          "output_type": "display_data",
          "data": {
            "text/html": [
              "<span style=\"color:#4527A0\"><h1 style=\"font-size:18px\">Trial summary</h1></span>"
            ],
            "text/plain": [
              "<IPython.core.display.HTML object>"
            ]
          },
          "metadata": {
            "tags": []
          }
        },
        {
          "output_type": "display_data",
          "data": {
            "text/html": [
              "<span style=\"color:#7E57C2\"><h2 style=\"font-size:16px\">Hp values:</h2></span>"
            ],
            "text/plain": [
              "<IPython.core.display.HTML object>"
            ]
          },
          "metadata": {
            "tags": []
          }
        },
        {
          "output_type": "display_data",
          "data": {
            "text/html": [
              "<span style=\"color:cyan\"> |-activation: relu</span>"
            ],
            "text/plain": [
              "<IPython.core.display.HTML object>"
            ]
          },
          "metadata": {
            "tags": []
          }
        },
        {
          "output_type": "display_data",
          "data": {
            "text/html": [
              "<span style=\"color:blue\"> |-drop_rate: 0.2</span>"
            ],
            "text/plain": [
              "<IPython.core.display.HTML object>"
            ]
          },
          "metadata": {
            "tags": []
          }
        },
        {
          "output_type": "display_data",
          "data": {
            "text/html": [
              "<span style=\"color:cyan\"> |-learning_rate: 0.001</span>"
            ],
            "text/plain": [
              "<IPython.core.display.HTML object>"
            ]
          },
          "metadata": {
            "tags": []
          }
        },
        {
          "output_type": "display_data",
          "data": {
            "text/html": [
              "<span style=\"color:blue\"> |-units: 8</span>"
            ],
            "text/plain": [
              "<IPython.core.display.HTML object>"
            ]
          },
          "metadata": {
            "tags": []
          }
        },
        {
          "output_type": "display_data",
          "data": {
            "text/html": [
              "<span style=\"color:cyan\"> |-weight_init: normal</span>"
            ],
            "text/plain": [
              "<IPython.core.display.HTML object>"
            ]
          },
          "metadata": {
            "tags": []
          }
        },
        {
          "output_type": "display_data",
          "data": {
            "text/html": [
              "<span style=\"color:cyan\"> |-Score: 0.5644444823265076</span>"
            ],
            "text/plain": [
              "<IPython.core.display.HTML object>"
            ]
          },
          "metadata": {
            "tags": []
          }
        },
        {
          "output_type": "display_data",
          "data": {
            "text/html": [
              "<span style=\"color:cyan\"> |-Best step: 0</span>"
            ],
            "text/plain": [
              "<IPython.core.display.HTML object>"
            ]
          },
          "metadata": {
            "tags": []
          }
        },
        {
          "output_type": "stream",
          "text": [
            "Train on 86 samples, validate on 45 samples\n",
            "Epoch 1/30\n",
            "86/86 [==============================] - 1s 6ms/sample - loss: 1.6512 - accuracy: 0.4186 - val_loss: 1.0617 - val_accuracy: 0.4222\n",
            "Epoch 2/30\n",
            "86/86 [==============================] - 0s 2ms/sample - loss: 1.6519 - accuracy: 0.2791 - val_loss: 1.0469 - val_accuracy: 0.4667\n",
            "Epoch 3/30\n",
            "86/86 [==============================] - 0s 2ms/sample - loss: 1.7686 - accuracy: 0.3372 - val_loss: 1.0314 - val_accuracy: 0.4889\n",
            "Epoch 4/30\n",
            "86/86 [==============================] - 0s 2ms/sample - loss: 1.2258 - accuracy: 0.4651 - val_loss: 1.0224 - val_accuracy: 0.4444\n",
            "Epoch 5/30\n",
            "86/86 [==============================] - 0s 2ms/sample - loss: 1.4017 - accuracy: 0.4884 - val_loss: 1.0179 - val_accuracy: 0.4667\n",
            "Epoch 6/30\n",
            "86/86 [==============================] - 0s 2ms/sample - loss: 1.4475 - accuracy: 0.4302 - val_loss: 1.0091 - val_accuracy: 0.4444\n",
            "Epoch 7/30\n",
            "86/86 [==============================] - 0s 2ms/sample - loss: 1.1983 - accuracy: 0.4186 - val_loss: 1.0068 - val_accuracy: 0.4222\n",
            "Epoch 8/30\n",
            "86/86 [==============================] - 0s 2ms/sample - loss: 1.4862 - accuracy: 0.4186 - val_loss: 1.0035 - val_accuracy: 0.4222\n",
            "Epoch 9/30\n",
            "86/86 [==============================] - 0s 2ms/sample - loss: 1.3087 - accuracy: 0.4186 - val_loss: 0.9997 - val_accuracy: 0.4444\n",
            "Epoch 10/30\n",
            "86/86 [==============================] - 0s 2ms/sample - loss: 1.1992 - accuracy: 0.4419 - val_loss: 0.9940 - val_accuracy: 0.4667\n",
            "Epoch 11/30\n",
            "86/86 [==============================] - 0s 2ms/sample - loss: 1.3193 - accuracy: 0.4070 - val_loss: 0.9887 - val_accuracy: 0.5111\n",
            "Epoch 12/30\n",
            "86/86 [==============================] - 0s 2ms/sample - loss: 1.4556 - accuracy: 0.3953 - val_loss: 0.9851 - val_accuracy: 0.5111\n",
            "Epoch 13/30\n",
            "86/86 [==============================] - 0s 2ms/sample - loss: 1.1793 - accuracy: 0.4884 - val_loss: 0.9822 - val_accuracy: 0.5111\n",
            "Epoch 14/30\n",
            "86/86 [==============================] - 0s 2ms/sample - loss: 1.2505 - accuracy: 0.3605 - val_loss: 0.9807 - val_accuracy: 0.5111\n",
            "Epoch 15/30\n",
            "86/86 [==============================] - 0s 2ms/sample - loss: 1.2134 - accuracy: 0.4651 - val_loss: 0.9791 - val_accuracy: 0.4889\n",
            "Epoch 16/30\n",
            "86/86 [==============================] - 0s 2ms/sample - loss: 1.1276 - accuracy: 0.4302 - val_loss: 0.9779 - val_accuracy: 0.5111\n",
            "Epoch 17/30\n",
            "86/86 [==============================] - 0s 2ms/sample - loss: 1.3303 - accuracy: 0.3372 - val_loss: 0.9768 - val_accuracy: 0.4889\n",
            "Epoch 18/30\n",
            "86/86 [==============================] - 0s 2ms/sample - loss: 1.2290 - accuracy: 0.3605 - val_loss: 0.9754 - val_accuracy: 0.4889\n",
            "Epoch 19/30\n",
            "86/86 [==============================] - 0s 2ms/sample - loss: 1.1117 - accuracy: 0.4302 - val_loss: 0.9743 - val_accuracy: 0.4889\n",
            "Epoch 20/30\n",
            "86/86 [==============================] - 0s 2ms/sample - loss: 1.0908 - accuracy: 0.4070 - val_loss: 0.9743 - val_accuracy: 0.4667\n",
            "Epoch 21/30\n",
            "86/86 [==============================] - 0s 2ms/sample - loss: 1.1118 - accuracy: 0.4767 - val_loss: 0.9745 - val_accuracy: 0.5111\n",
            "Epoch 22/30\n",
            "86/86 [==============================] - 0s 2ms/sample - loss: 1.1654 - accuracy: 0.3605 - val_loss: 0.9743 - val_accuracy: 0.4667\n",
            "Epoch 23/30\n",
            "86/86 [==============================] - 0s 2ms/sample - loss: 1.0618 - accuracy: 0.4302 - val_loss: 0.9733 - val_accuracy: 0.4667\n",
            "Epoch 24/30\n",
            "86/86 [==============================] - 0s 2ms/sample - loss: 1.2110 - accuracy: 0.3837 - val_loss: 0.9758 - val_accuracy: 0.4444\n",
            "Epoch 25/30\n",
            "86/86 [==============================] - 0s 2ms/sample - loss: 1.0978 - accuracy: 0.4884 - val_loss: 0.9740 - val_accuracy: 0.4667\n",
            "Epoch 26/30\n",
            "86/86 [==============================] - 0s 2ms/sample - loss: 1.0189 - accuracy: 0.4535 - val_loss: 0.9742 - val_accuracy: 0.4444\n",
            "Epoch 27/30\n",
            "86/86 [==============================] - 0s 2ms/sample - loss: 0.9410 - accuracy: 0.4419 - val_loss: 0.9754 - val_accuracy: 0.4000\n",
            "Epoch 28/30\n",
            "86/86 [==============================] - 0s 2ms/sample - loss: 1.0563 - accuracy: 0.3953 - val_loss: 0.9756 - val_accuracy: 0.4222\n",
            "Epoch 29/30\n",
            "86/86 [==============================] - 0s 2ms/sample - loss: 1.0274 - accuracy: 0.4767 - val_loss: 0.9736 - val_accuracy: 0.4222\n",
            "Epoch 30/30\n",
            "86/86 [==============================] - 0s 2ms/sample - loss: 1.0430 - accuracy: 0.4419 - val_loss: 0.9757 - val_accuracy: 0.4000\n",
            "Train on 86 samples, validate on 45 samples\n",
            "Epoch 1/30\n",
            "86/86 [==============================] - 1s 6ms/sample - loss: 1.7096 - accuracy: 0.3488 - val_loss: 1.1105 - val_accuracy: 0.4000\n",
            "Epoch 2/30\n",
            "86/86 [==============================] - 0s 2ms/sample - loss: 1.5155 - accuracy: 0.4070 - val_loss: 1.0904 - val_accuracy: 0.4000\n",
            "Epoch 3/30\n",
            "86/86 [==============================] - 0s 2ms/sample - loss: 1.5608 - accuracy: 0.2907 - val_loss: 1.0722 - val_accuracy: 0.3778\n",
            "Epoch 4/30\n",
            "86/86 [==============================] - 0s 2ms/sample - loss: 1.4841 - accuracy: 0.3953 - val_loss: 1.0594 - val_accuracy: 0.3778\n",
            "Epoch 5/30\n",
            "86/86 [==============================] - 0s 2ms/sample - loss: 1.3584 - accuracy: 0.3837 - val_loss: 1.0466 - val_accuracy: 0.3556\n",
            "Epoch 6/30\n",
            "86/86 [==============================] - 0s 2ms/sample - loss: 1.3608 - accuracy: 0.4070 - val_loss: 1.0343 - val_accuracy: 0.4444\n",
            "Epoch 7/30\n",
            "86/86 [==============================] - 0s 2ms/sample - loss: 1.4147 - accuracy: 0.4302 - val_loss: 1.0273 - val_accuracy: 0.4444\n",
            "Epoch 8/30\n",
            "86/86 [==============================] - 0s 2ms/sample - loss: 1.3174 - accuracy: 0.3721 - val_loss: 1.0200 - val_accuracy: 0.4444\n",
            "Epoch 9/30\n",
            "86/86 [==============================] - 0s 2ms/sample - loss: 1.3502 - accuracy: 0.3605 - val_loss: 1.0166 - val_accuracy: 0.4444\n",
            "Epoch 10/30\n",
            "86/86 [==============================] - 0s 2ms/sample - loss: 1.1651 - accuracy: 0.4651 - val_loss: 1.0123 - val_accuracy: 0.4222\n",
            "Epoch 11/30\n",
            "86/86 [==============================] - 0s 2ms/sample - loss: 1.2780 - accuracy: 0.3837 - val_loss: 1.0066 - val_accuracy: 0.4444\n",
            "Epoch 12/30\n",
            "86/86 [==============================] - 0s 2ms/sample - loss: 1.2393 - accuracy: 0.4070 - val_loss: 1.0036 - val_accuracy: 0.4667\n",
            "Epoch 13/30\n",
            "86/86 [==============================] - 0s 2ms/sample - loss: 1.2331 - accuracy: 0.3953 - val_loss: 1.0013 - val_accuracy: 0.4667\n",
            "Epoch 14/30\n",
            "86/86 [==============================] - 0s 2ms/sample - loss: 1.1974 - accuracy: 0.4186 - val_loss: 0.9994 - val_accuracy: 0.4444\n",
            "Epoch 15/30\n",
            "86/86 [==============================] - 0s 2ms/sample - loss: 1.0958 - accuracy: 0.4535 - val_loss: 0.9979 - val_accuracy: 0.4444\n",
            "Epoch 16/30\n",
            "86/86 [==============================] - 0s 2ms/sample - loss: 1.1240 - accuracy: 0.4302 - val_loss: 0.9957 - val_accuracy: 0.4444\n",
            "Epoch 17/30\n",
            "86/86 [==============================] - 0s 2ms/sample - loss: 1.0902 - accuracy: 0.4767 - val_loss: 0.9950 - val_accuracy: 0.4444\n",
            "Epoch 18/30\n",
            "86/86 [==============================] - 0s 2ms/sample - loss: 1.0700 - accuracy: 0.4535 - val_loss: 0.9953 - val_accuracy: 0.4889\n",
            "Epoch 19/30\n",
            "86/86 [==============================] - 0s 2ms/sample - loss: 1.1942 - accuracy: 0.4070 - val_loss: 0.9946 - val_accuracy: 0.4444\n",
            "Epoch 20/30\n",
            "86/86 [==============================] - 0s 2ms/sample - loss: 1.0971 - accuracy: 0.4767 - val_loss: 0.9927 - val_accuracy: 0.4667\n",
            "Epoch 21/30\n",
            "86/86 [==============================] - 0s 2ms/sample - loss: 1.1286 - accuracy: 0.3837 - val_loss: 0.9920 - val_accuracy: 0.4667\n",
            "Epoch 22/30\n",
            "86/86 [==============================] - 0s 2ms/sample - loss: 1.0461 - accuracy: 0.4651 - val_loss: 0.9920 - val_accuracy: 0.4667\n",
            "Epoch 23/30\n",
            "86/86 [==============================] - 0s 2ms/sample - loss: 1.0486 - accuracy: 0.4535 - val_loss: 0.9911 - val_accuracy: 0.5556\n",
            "Epoch 24/30\n",
            "86/86 [==============================] - 0s 2ms/sample - loss: 1.0331 - accuracy: 0.4535 - val_loss: 0.9928 - val_accuracy: 0.5111\n",
            "Epoch 25/30\n",
            "86/86 [==============================] - 0s 2ms/sample - loss: 1.0727 - accuracy: 0.3953 - val_loss: 0.9927 - val_accuracy: 0.5333\n",
            "Epoch 26/30\n",
            "86/86 [==============================] - 0s 2ms/sample - loss: 1.0143 - accuracy: 0.5116 - val_loss: 0.9924 - val_accuracy: 0.5111\n",
            "Epoch 27/30\n",
            "86/86 [==============================] - 0s 2ms/sample - loss: 1.0092 - accuracy: 0.5116 - val_loss: 0.9928 - val_accuracy: 0.5111\n",
            "Epoch 28/30\n",
            "86/86 [==============================] - 0s 2ms/sample - loss: 1.0385 - accuracy: 0.4767 - val_loss: 0.9935 - val_accuracy: 0.5556\n",
            "Epoch 29/30\n",
            "86/86 [==============================] - 0s 2ms/sample - loss: 0.9776 - accuracy: 0.4419 - val_loss: 0.9942 - val_accuracy: 0.5333\n",
            "Epoch 30/30\n",
            "86/86 [==============================] - 0s 2ms/sample - loss: 1.0003 - accuracy: 0.4419 - val_loss: 0.9939 - val_accuracy: 0.5556\n",
            "Train on 86 samples, validate on 45 samples\n",
            "Epoch 1/30\n",
            "86/86 [==============================] - 1s 6ms/sample - loss: 1.5907 - accuracy: 0.3953 - val_loss: 1.3013 - val_accuracy: 0.3778\n",
            "Epoch 2/30\n",
            "86/86 [==============================] - 0s 2ms/sample - loss: 1.8667 - accuracy: 0.3140 - val_loss: 1.2499 - val_accuracy: 0.3778\n",
            "Epoch 3/30\n",
            "86/86 [==============================] - 0s 2ms/sample - loss: 1.5899 - accuracy: 0.4070 - val_loss: 1.2076 - val_accuracy: 0.4000\n",
            "Epoch 4/30\n",
            "86/86 [==============================] - 0s 2ms/sample - loss: 1.3899 - accuracy: 0.4186 - val_loss: 1.1734 - val_accuracy: 0.4444\n",
            "Epoch 5/30\n",
            "86/86 [==============================] - 0s 2ms/sample - loss: 1.5162 - accuracy: 0.3488 - val_loss: 1.1462 - val_accuracy: 0.4444\n",
            "Epoch 6/30\n",
            "86/86 [==============================] - 0s 2ms/sample - loss: 1.4017 - accuracy: 0.4070 - val_loss: 1.1211 - val_accuracy: 0.4444\n",
            "Epoch 7/30\n",
            "86/86 [==============================] - 0s 2ms/sample - loss: 1.5323 - accuracy: 0.3140 - val_loss: 1.1028 - val_accuracy: 0.4667\n",
            "Epoch 8/30\n",
            "86/86 [==============================] - 0s 2ms/sample - loss: 1.3030 - accuracy: 0.3488 - val_loss: 1.0840 - val_accuracy: 0.4444\n",
            "Epoch 9/30\n",
            "86/86 [==============================] - 0s 2ms/sample - loss: 1.5665 - accuracy: 0.3023 - val_loss: 1.0661 - val_accuracy: 0.4444\n",
            "Epoch 10/30\n",
            "86/86 [==============================] - 0s 2ms/sample - loss: 1.4646 - accuracy: 0.4302 - val_loss: 1.0518 - val_accuracy: 0.4444\n",
            "Epoch 11/30\n",
            "86/86 [==============================] - 0s 2ms/sample - loss: 1.3166 - accuracy: 0.3605 - val_loss: 1.0381 - val_accuracy: 0.4000\n",
            "Epoch 12/30\n",
            "86/86 [==============================] - 0s 2ms/sample - loss: 1.2771 - accuracy: 0.3605 - val_loss: 1.0285 - val_accuracy: 0.4222\n",
            "Epoch 13/30\n",
            "86/86 [==============================] - 0s 2ms/sample - loss: 1.3126 - accuracy: 0.3488 - val_loss: 1.0213 - val_accuracy: 0.4000\n",
            "Epoch 14/30\n",
            "86/86 [==============================] - 0s 2ms/sample - loss: 1.1385 - accuracy: 0.3488 - val_loss: 1.0155 - val_accuracy: 0.3111\n",
            "Epoch 15/30\n",
            "86/86 [==============================] - 0s 2ms/sample - loss: 1.0480 - accuracy: 0.4767 - val_loss: 1.0128 - val_accuracy: 0.3111\n",
            "Epoch 16/30\n",
            "86/86 [==============================] - 0s 2ms/sample - loss: 1.1863 - accuracy: 0.4070 - val_loss: 1.0084 - val_accuracy: 0.3556\n",
            "Epoch 17/30\n",
            "86/86 [==============================] - 0s 2ms/sample - loss: 1.1636 - accuracy: 0.4186 - val_loss: 1.0040 - val_accuracy: 0.3333\n",
            "Epoch 18/30\n",
            "86/86 [==============================] - 0s 2ms/sample - loss: 1.1366 - accuracy: 0.3488 - val_loss: 1.0016 - val_accuracy: 0.3556\n",
            "Epoch 19/30\n",
            "86/86 [==============================] - 0s 2ms/sample - loss: 1.0562 - accuracy: 0.3837 - val_loss: 0.9992 - val_accuracy: 0.4000\n",
            "Epoch 20/30\n",
            "86/86 [==============================] - 0s 2ms/sample - loss: 1.0353 - accuracy: 0.4186 - val_loss: 0.9966 - val_accuracy: 0.3778\n",
            "Epoch 21/30\n",
            "86/86 [==============================] - 0s 2ms/sample - loss: 1.0790 - accuracy: 0.3953 - val_loss: 0.9955 - val_accuracy: 0.3556\n",
            "Epoch 22/30\n",
            "86/86 [==============================] - 0s 2ms/sample - loss: 1.0380 - accuracy: 0.4186 - val_loss: 0.9941 - val_accuracy: 0.3556\n",
            "Epoch 23/30\n",
            "86/86 [==============================] - 0s 2ms/sample - loss: 0.9963 - accuracy: 0.3721 - val_loss: 0.9930 - val_accuracy: 0.3778\n",
            "Epoch 24/30\n",
            "86/86 [==============================] - 0s 2ms/sample - loss: 1.0282 - accuracy: 0.4070 - val_loss: 0.9921 - val_accuracy: 0.3333\n",
            "Epoch 25/30\n",
            "86/86 [==============================] - 0s 2ms/sample - loss: 1.0829 - accuracy: 0.4651 - val_loss: 0.9913 - val_accuracy: 0.3778\n",
            "Epoch 26/30\n",
            "86/86 [==============================] - 0s 2ms/sample - loss: 1.0399 - accuracy: 0.4419 - val_loss: 0.9900 - val_accuracy: 0.4222\n",
            "Epoch 27/30\n",
            "86/86 [==============================] - 0s 2ms/sample - loss: 1.0424 - accuracy: 0.3837 - val_loss: 0.9884 - val_accuracy: 0.4444\n",
            "Epoch 28/30\n",
            "86/86 [==============================] - 0s 2ms/sample - loss: 1.0179 - accuracy: 0.4302 - val_loss: 0.9880 - val_accuracy: 0.3778\n",
            "Epoch 29/30\n",
            "86/86 [==============================] - 0s 2ms/sample - loss: 1.0839 - accuracy: 0.3605 - val_loss: 0.9859 - val_accuracy: 0.4000\n",
            "Epoch 30/30\n",
            "86/86 [==============================] - 0s 2ms/sample - loss: 0.9982 - accuracy: 0.4070 - val_loss: 0.9864 - val_accuracy: 0.3778\n",
            "Train on 86 samples, validate on 45 samples\n",
            "Epoch 1/30\n",
            "86/86 [==============================] - 1s 6ms/sample - loss: 1.7091 - accuracy: 0.3721 - val_loss: 1.2862 - val_accuracy: 0.2444\n",
            "Epoch 2/30\n",
            "86/86 [==============================] - 0s 2ms/sample - loss: 1.8548 - accuracy: 0.2907 - val_loss: 1.2349 - val_accuracy: 0.2889\n",
            "Epoch 3/30\n",
            "86/86 [==============================] - 0s 2ms/sample - loss: 1.3068 - accuracy: 0.5116 - val_loss: 1.2044 - val_accuracy: 0.3111\n",
            "Epoch 4/30\n",
            "86/86 [==============================] - 0s 2ms/sample - loss: 1.4586 - accuracy: 0.3837 - val_loss: 1.1746 - val_accuracy: 0.3556\n",
            "Epoch 5/30\n",
            "86/86 [==============================] - 0s 2ms/sample - loss: 1.4428 - accuracy: 0.3721 - val_loss: 1.1444 - val_accuracy: 0.3778\n",
            "Epoch 6/30\n",
            "86/86 [==============================] - 0s 2ms/sample - loss: 1.4128 - accuracy: 0.3605 - val_loss: 1.1156 - val_accuracy: 0.3778\n",
            "Epoch 7/30\n",
            "86/86 [==============================] - 0s 2ms/sample - loss: 1.4242 - accuracy: 0.3837 - val_loss: 1.0958 - val_accuracy: 0.4000\n",
            "Epoch 8/30\n",
            "86/86 [==============================] - 0s 2ms/sample - loss: 1.2297 - accuracy: 0.4302 - val_loss: 1.0814 - val_accuracy: 0.4222\n",
            "Epoch 9/30\n",
            "86/86 [==============================] - 0s 2ms/sample - loss: 1.2538 - accuracy: 0.4535 - val_loss: 1.0656 - val_accuracy: 0.4222\n",
            "Epoch 10/30\n",
            "86/86 [==============================] - 0s 2ms/sample - loss: 1.2118 - accuracy: 0.3953 - val_loss: 1.0519 - val_accuracy: 0.4222\n",
            "Epoch 11/30\n",
            "86/86 [==============================] - 0s 2ms/sample - loss: 1.1519 - accuracy: 0.4767 - val_loss: 1.0439 - val_accuracy: 0.4222\n",
            "Epoch 12/30\n",
            "86/86 [==============================] - 0s 2ms/sample - loss: 1.0795 - accuracy: 0.5116 - val_loss: 1.0360 - val_accuracy: 0.4444\n",
            "Epoch 13/30\n",
            "86/86 [==============================] - 0s 2ms/sample - loss: 1.1277 - accuracy: 0.4535 - val_loss: 1.0322 - val_accuracy: 0.4000\n",
            "Epoch 14/30\n",
            "86/86 [==============================] - 0s 2ms/sample - loss: 1.1405 - accuracy: 0.4070 - val_loss: 1.0239 - val_accuracy: 0.4000\n",
            "Epoch 15/30\n",
            "86/86 [==============================] - 0s 2ms/sample - loss: 1.1353 - accuracy: 0.3837 - val_loss: 1.0183 - val_accuracy: 0.4000\n",
            "Epoch 16/30\n",
            "86/86 [==============================] - 0s 2ms/sample - loss: 1.2216 - accuracy: 0.4070 - val_loss: 1.0099 - val_accuracy: 0.4222\n",
            "Epoch 17/30\n",
            "86/86 [==============================] - 0s 2ms/sample - loss: 0.9988 - accuracy: 0.4767 - val_loss: 1.0082 - val_accuracy: 0.4444\n",
            "Epoch 18/30\n",
            "86/86 [==============================] - 0s 2ms/sample - loss: 1.1278 - accuracy: 0.3837 - val_loss: 1.0058 - val_accuracy: 0.4222\n",
            "Epoch 19/30\n",
            "86/86 [==============================] - 0s 2ms/sample - loss: 1.0562 - accuracy: 0.4070 - val_loss: 1.0037 - val_accuracy: 0.4222\n",
            "Epoch 20/30\n",
            "86/86 [==============================] - 0s 2ms/sample - loss: 0.9883 - accuracy: 0.4767 - val_loss: 1.0028 - val_accuracy: 0.4444\n",
            "Epoch 21/30\n",
            "86/86 [==============================] - 0s 2ms/sample - loss: 0.9854 - accuracy: 0.4535 - val_loss: 1.0006 - val_accuracy: 0.4444\n",
            "Epoch 22/30\n",
            "86/86 [==============================] - 0s 2ms/sample - loss: 1.0564 - accuracy: 0.4767 - val_loss: 0.9990 - val_accuracy: 0.4444\n",
            "Epoch 23/30\n",
            "86/86 [==============================] - 0s 2ms/sample - loss: 1.1077 - accuracy: 0.3721 - val_loss: 0.9977 - val_accuracy: 0.4667\n",
            "Epoch 24/30\n",
            "86/86 [==============================] - 0s 2ms/sample - loss: 1.0355 - accuracy: 0.3953 - val_loss: 0.9976 - val_accuracy: 0.4667\n",
            "Epoch 25/30\n",
            "86/86 [==============================] - 0s 2ms/sample - loss: 0.9666 - accuracy: 0.4767 - val_loss: 0.9951 - val_accuracy: 0.4667\n",
            "Epoch 26/30\n",
            "86/86 [==============================] - 0s 2ms/sample - loss: 1.0151 - accuracy: 0.4651 - val_loss: 0.9938 - val_accuracy: 0.4667\n",
            "Epoch 27/30\n",
            "86/86 [==============================] - 0s 2ms/sample - loss: 0.9633 - accuracy: 0.5116 - val_loss: 0.9923 - val_accuracy: 0.5111\n",
            "Epoch 28/30\n",
            "86/86 [==============================] - 0s 2ms/sample - loss: 1.0006 - accuracy: 0.4651 - val_loss: 0.9918 - val_accuracy: 0.4667\n",
            "Epoch 29/30\n",
            "86/86 [==============================] - 0s 2ms/sample - loss: 1.0016 - accuracy: 0.4302 - val_loss: 0.9908 - val_accuracy: 0.5111\n",
            "Epoch 30/30\n",
            "86/86 [==============================] - 0s 2ms/sample - loss: 1.0052 - accuracy: 0.5000 - val_loss: 0.9911 - val_accuracy: 0.5111\n",
            "Train on 86 samples, validate on 45 samples\n",
            "Epoch 1/30\n",
            "86/86 [==============================] - 1s 6ms/sample - loss: 2.4412 - accuracy: 0.3488 - val_loss: 1.4566 - val_accuracy: 0.3556\n",
            "Epoch 2/30\n",
            "86/86 [==============================] - 0s 2ms/sample - loss: 1.8709 - accuracy: 0.3837 - val_loss: 1.4042 - val_accuracy: 0.4000\n",
            "Epoch 3/30\n",
            "86/86 [==============================] - 0s 2ms/sample - loss: 1.5799 - accuracy: 0.4070 - val_loss: 1.3497 - val_accuracy: 0.4000\n",
            "Epoch 4/30\n",
            "86/86 [==============================] - 0s 2ms/sample - loss: 1.8599 - accuracy: 0.3721 - val_loss: 1.3038 - val_accuracy: 0.4000\n",
            "Epoch 5/30\n",
            "86/86 [==============================] - 0s 2ms/sample - loss: 1.6082 - accuracy: 0.3837 - val_loss: 1.2653 - val_accuracy: 0.4000\n",
            "Epoch 6/30\n",
            "86/86 [==============================] - 0s 2ms/sample - loss: 1.6204 - accuracy: 0.3023 - val_loss: 1.2339 - val_accuracy: 0.3778\n",
            "Epoch 7/30\n",
            "86/86 [==============================] - 0s 2ms/sample - loss: 1.7841 - accuracy: 0.4419 - val_loss: 1.2135 - val_accuracy: 0.3778\n",
            "Epoch 8/30\n",
            "86/86 [==============================] - 0s 2ms/sample - loss: 1.7017 - accuracy: 0.4302 - val_loss: 1.1884 - val_accuracy: 0.4000\n",
            "Epoch 9/30\n",
            "86/86 [==============================] - 0s 2ms/sample - loss: 1.5291 - accuracy: 0.4302 - val_loss: 1.1628 - val_accuracy: 0.4222\n",
            "Epoch 10/30\n",
            "86/86 [==============================] - 0s 2ms/sample - loss: 1.4082 - accuracy: 0.4070 - val_loss: 1.1473 - val_accuracy: 0.4222\n",
            "Epoch 11/30\n",
            "86/86 [==============================] - 0s 2ms/sample - loss: 1.4948 - accuracy: 0.3605 - val_loss: 1.1227 - val_accuracy: 0.4222\n",
            "Epoch 12/30\n",
            "86/86 [==============================] - 0s 2ms/sample - loss: 1.3535 - accuracy: 0.4535 - val_loss: 1.1018 - val_accuracy: 0.4222\n",
            "Epoch 13/30\n",
            "86/86 [==============================] - 0s 2ms/sample - loss: 1.3569 - accuracy: 0.4302 - val_loss: 1.0906 - val_accuracy: 0.4000\n",
            "Epoch 14/30\n",
            "86/86 [==============================] - 0s 2ms/sample - loss: 1.3004 - accuracy: 0.4651 - val_loss: 1.0810 - val_accuracy: 0.4000\n",
            "Epoch 15/30\n",
            "86/86 [==============================] - 0s 2ms/sample - loss: 1.0935 - accuracy: 0.4651 - val_loss: 1.0771 - val_accuracy: 0.4000\n",
            "Epoch 16/30\n",
            "86/86 [==============================] - 0s 2ms/sample - loss: 1.2045 - accuracy: 0.4884 - val_loss: 1.0716 - val_accuracy: 0.4000\n",
            "Epoch 17/30\n",
            "86/86 [==============================] - 0s 2ms/sample - loss: 1.4052 - accuracy: 0.3953 - val_loss: 1.0626 - val_accuracy: 0.3778\n",
            "Epoch 18/30\n",
            "86/86 [==============================] - 0s 2ms/sample - loss: 0.9635 - accuracy: 0.5581 - val_loss: 1.0602 - val_accuracy: 0.4000\n",
            "Epoch 19/30\n",
            "86/86 [==============================] - 0s 2ms/sample - loss: 1.1818 - accuracy: 0.4884 - val_loss: 1.0548 - val_accuracy: 0.4000\n",
            "Epoch 20/30\n",
            "86/86 [==============================] - 0s 2ms/sample - loss: 1.2734 - accuracy: 0.3023 - val_loss: 1.0473 - val_accuracy: 0.4444\n",
            "Epoch 21/30\n",
            "86/86 [==============================] - 0s 2ms/sample - loss: 1.0527 - accuracy: 0.5233 - val_loss: 1.0453 - val_accuracy: 0.4222\n",
            "Epoch 22/30\n",
            "86/86 [==============================] - 0s 2ms/sample - loss: 1.1286 - accuracy: 0.4186 - val_loss: 1.0433 - val_accuracy: 0.4222\n",
            "Epoch 23/30\n",
            "86/86 [==============================] - 0s 2ms/sample - loss: 1.2580 - accuracy: 0.4651 - val_loss: 1.0391 - val_accuracy: 0.4222\n",
            "Epoch 24/30\n",
            "86/86 [==============================] - 0s 2ms/sample - loss: 1.1530 - accuracy: 0.4419 - val_loss: 1.0367 - val_accuracy: 0.4222\n",
            "Epoch 25/30\n",
            "86/86 [==============================] - 0s 2ms/sample - loss: 1.1270 - accuracy: 0.3372 - val_loss: 1.0346 - val_accuracy: 0.4000\n",
            "Epoch 26/30\n",
            "86/86 [==============================] - 0s 2ms/sample - loss: 1.0847 - accuracy: 0.3953 - val_loss: 1.0332 - val_accuracy: 0.4444\n",
            "Epoch 27/30\n",
            "86/86 [==============================] - 0s 2ms/sample - loss: 1.2177 - accuracy: 0.4070 - val_loss: 1.0301 - val_accuracy: 0.4444\n",
            "Epoch 28/30\n",
            "86/86 [==============================] - 0s 2ms/sample - loss: 1.0726 - accuracy: 0.4302 - val_loss: 1.0291 - val_accuracy: 0.4444\n",
            "Epoch 29/30\n",
            "86/86 [==============================] - 0s 2ms/sample - loss: 1.0536 - accuracy: 0.4884 - val_loss: 1.0283 - val_accuracy: 0.4444\n",
            "Epoch 30/30\n",
            "86/86 [==============================] - 0s 2ms/sample - loss: 0.9173 - accuracy: 0.5116 - val_loss: 1.0289 - val_accuracy: 0.4667\n"
          ],
          "name": "stdout"
        },
        {
          "output_type": "display_data",
          "data": {
            "text/html": [
              "<span style=\"color:#4527A0\"><h1 style=\"font-size:18px\">Trial complete</h1></span>"
            ],
            "text/plain": [
              "<IPython.core.display.HTML object>"
            ]
          },
          "metadata": {
            "tags": []
          }
        },
        {
          "output_type": "display_data",
          "data": {
            "text/html": [
              "<span style=\"color:#4527A0\"><h1 style=\"font-size:18px\">Trial summary</h1></span>"
            ],
            "text/plain": [
              "<IPython.core.display.HTML object>"
            ]
          },
          "metadata": {
            "tags": []
          }
        },
        {
          "output_type": "display_data",
          "data": {
            "text/html": [
              "<span style=\"color:#7E57C2\"><h2 style=\"font-size:16px\">Hp values:</h2></span>"
            ],
            "text/plain": [
              "<IPython.core.display.HTML object>"
            ]
          },
          "metadata": {
            "tags": []
          }
        },
        {
          "output_type": "display_data",
          "data": {
            "text/html": [
              "<span style=\"color:cyan\"> |-activation: hard_sigmoid</span>"
            ],
            "text/plain": [
              "<IPython.core.display.HTML object>"
            ]
          },
          "metadata": {
            "tags": []
          }
        },
        {
          "output_type": "display_data",
          "data": {
            "text/html": [
              "<span style=\"color:blue\"> |-drop_rate: 0.8</span>"
            ],
            "text/plain": [
              "<IPython.core.display.HTML object>"
            ]
          },
          "metadata": {
            "tags": []
          }
        },
        {
          "output_type": "display_data",
          "data": {
            "text/html": [
              "<span style=\"color:cyan\"> |-learning_rate: 0.001</span>"
            ],
            "text/plain": [
              "<IPython.core.display.HTML object>"
            ]
          },
          "metadata": {
            "tags": []
          }
        },
        {
          "output_type": "display_data",
          "data": {
            "text/html": [
              "<span style=\"color:blue\"> |-units: 7</span>"
            ],
            "text/plain": [
              "<IPython.core.display.HTML object>"
            ]
          },
          "metadata": {
            "tags": []
          }
        },
        {
          "output_type": "display_data",
          "data": {
            "text/html": [
              "<span style=\"color:cyan\"> |-weight_init: he_uniform</span>"
            ],
            "text/plain": [
              "<IPython.core.display.HTML object>"
            ]
          },
          "metadata": {
            "tags": []
          }
        },
        {
          "output_type": "display_data",
          "data": {
            "text/html": [
              "<span style=\"color:cyan\"> |-Score: 0.5022222399711609</span>"
            ],
            "text/plain": [
              "<IPython.core.display.HTML object>"
            ]
          },
          "metadata": {
            "tags": []
          }
        },
        {
          "output_type": "display_data",
          "data": {
            "text/html": [
              "<span style=\"color:cyan\"> |-Best step: 0</span>"
            ],
            "text/plain": [
              "<IPython.core.display.HTML object>"
            ]
          },
          "metadata": {
            "tags": []
          }
        },
        {
          "output_type": "stream",
          "text": [
            "Train on 86 samples, validate on 45 samples\n",
            "Epoch 1/30\n",
            "86/86 [==============================] - 1s 6ms/sample - loss: 1.0411 - accuracy: 0.4419 - val_loss: 0.9554 - val_accuracy: 0.4667\n",
            "Epoch 2/30\n",
            "86/86 [==============================] - 0s 2ms/sample - loss: 0.9450 - accuracy: 0.5465 - val_loss: 0.9577 - val_accuracy: 0.4667\n",
            "Epoch 3/30\n",
            "86/86 [==============================] - 0s 2ms/sample - loss: 0.9302 - accuracy: 0.6163 - val_loss: 0.9641 - val_accuracy: 0.4667\n",
            "Epoch 4/30\n",
            "86/86 [==============================] - 0s 2ms/sample - loss: 0.8888 - accuracy: 0.6279 - val_loss: 0.9874 - val_accuracy: 0.5111\n",
            "Epoch 5/30\n",
            "86/86 [==============================] - 0s 2ms/sample - loss: 0.9145 - accuracy: 0.6047 - val_loss: 0.9746 - val_accuracy: 0.4889\n",
            "Epoch 6/30\n",
            "86/86 [==============================] - 0s 2ms/sample - loss: 0.8791 - accuracy: 0.6628 - val_loss: 0.9717 - val_accuracy: 0.4667\n",
            "Epoch 7/30\n",
            "86/86 [==============================] - 0s 2ms/sample - loss: 0.8995 - accuracy: 0.5930 - val_loss: 0.9717 - val_accuracy: 0.5333\n",
            "Epoch 8/30\n",
            "86/86 [==============================] - 0s 2ms/sample - loss: 0.9096 - accuracy: 0.6163 - val_loss: 0.9782 - val_accuracy: 0.5111\n",
            "Epoch 9/30\n",
            "86/86 [==============================] - 0s 2ms/sample - loss: 0.8766 - accuracy: 0.6512 - val_loss: 0.9930 - val_accuracy: 0.4889\n",
            "Epoch 10/30\n",
            "86/86 [==============================] - 0s 2ms/sample - loss: 0.8115 - accuracy: 0.6744 - val_loss: 1.0295 - val_accuracy: 0.5333\n",
            "Epoch 11/30\n",
            "86/86 [==============================] - 0s 2ms/sample - loss: 0.8026 - accuracy: 0.6512 - val_loss: 1.0407 - val_accuracy: 0.5111\n",
            "Epoch 12/30\n",
            "86/86 [==============================] - 0s 2ms/sample - loss: 0.8739 - accuracy: 0.6395 - val_loss: 0.9956 - val_accuracy: 0.4889\n",
            "Epoch 13/30\n",
            "86/86 [==============================] - 0s 2ms/sample - loss: 0.7882 - accuracy: 0.7209 - val_loss: 1.0311 - val_accuracy: 0.5333\n",
            "Epoch 14/30\n",
            "86/86 [==============================] - 0s 2ms/sample - loss: 0.7711 - accuracy: 0.6977 - val_loss: 1.0408 - val_accuracy: 0.4889\n",
            "Epoch 15/30\n",
            "86/86 [==============================] - 0s 2ms/sample - loss: 0.7927 - accuracy: 0.7093 - val_loss: 1.0435 - val_accuracy: 0.5111\n",
            "Epoch 16/30\n",
            "86/86 [==============================] - 0s 2ms/sample - loss: 0.8046 - accuracy: 0.6860 - val_loss: 1.0288 - val_accuracy: 0.4889\n",
            "Epoch 17/30\n",
            "86/86 [==============================] - 0s 2ms/sample - loss: 0.7993 - accuracy: 0.6860 - val_loss: 1.0606 - val_accuracy: 0.4889\n",
            "Epoch 18/30\n",
            "86/86 [==============================] - 0s 2ms/sample - loss: 0.7891 - accuracy: 0.6860 - val_loss: 1.0810 - val_accuracy: 0.5111\n",
            "Epoch 19/30\n",
            "86/86 [==============================] - 0s 2ms/sample - loss: 0.7916 - accuracy: 0.6395 - val_loss: 1.0278 - val_accuracy: 0.5111\n",
            "Epoch 20/30\n",
            "86/86 [==============================] - 0s 2ms/sample - loss: 0.7780 - accuracy: 0.6860 - val_loss: 1.0346 - val_accuracy: 0.5111\n",
            "Epoch 21/30\n",
            "86/86 [==============================] - 0s 2ms/sample - loss: 0.7774 - accuracy: 0.6628 - val_loss: 1.0620 - val_accuracy: 0.4667\n",
            "Epoch 22/30\n",
            "86/86 [==============================] - 0s 2ms/sample - loss: 0.7480 - accuracy: 0.6860 - val_loss: 1.0747 - val_accuracy: 0.5111\n",
            "Epoch 23/30\n",
            "86/86 [==============================] - 0s 2ms/sample - loss: 0.7593 - accuracy: 0.7093 - val_loss: 1.0284 - val_accuracy: 0.5333\n",
            "Epoch 24/30\n",
            "86/86 [==============================] - 0s 2ms/sample - loss: 0.7363 - accuracy: 0.6977 - val_loss: 1.0549 - val_accuracy: 0.5111\n",
            "Epoch 25/30\n",
            "86/86 [==============================] - 0s 2ms/sample - loss: 0.7341 - accuracy: 0.7093 - val_loss: 1.0296 - val_accuracy: 0.5111\n",
            "Epoch 26/30\n",
            "86/86 [==============================] - 0s 2ms/sample - loss: 0.7310 - accuracy: 0.7093 - val_loss: 1.0834 - val_accuracy: 0.5111\n",
            "Epoch 27/30\n",
            "86/86 [==============================] - 0s 2ms/sample - loss: 0.7037 - accuracy: 0.7558 - val_loss: 1.0439 - val_accuracy: 0.5111\n",
            "Epoch 28/30\n",
            "86/86 [==============================] - 0s 2ms/sample - loss: 0.6854 - accuracy: 0.6860 - val_loss: 1.0489 - val_accuracy: 0.5111\n",
            "Epoch 29/30\n",
            "86/86 [==============================] - 0s 2ms/sample - loss: 0.7065 - accuracy: 0.6977 - val_loss: 1.0575 - val_accuracy: 0.5333\n",
            "Epoch 30/30\n",
            "86/86 [==============================] - 0s 2ms/sample - loss: 0.7417 - accuracy: 0.7093 - val_loss: 1.0345 - val_accuracy: 0.5111\n",
            "Train on 86 samples, validate on 45 samples\n",
            "Epoch 1/30\n",
            "86/86 [==============================] - 0s 6ms/sample - loss: 1.1133 - accuracy: 0.4419 - val_loss: 1.0063 - val_accuracy: 0.4444\n",
            "Epoch 2/30\n",
            "86/86 [==============================] - 0s 2ms/sample - loss: 0.9963 - accuracy: 0.5000 - val_loss: 0.9652 - val_accuracy: 0.4444\n",
            "Epoch 3/30\n",
            "86/86 [==============================] - 0s 2ms/sample - loss: 0.8951 - accuracy: 0.5814 - val_loss: 1.0036 - val_accuracy: 0.5333\n",
            "Epoch 4/30\n",
            "86/86 [==============================] - 0s 2ms/sample - loss: 0.9210 - accuracy: 0.5814 - val_loss: 0.9921 - val_accuracy: 0.4444\n",
            "Epoch 5/30\n",
            "86/86 [==============================] - 0s 2ms/sample - loss: 0.8648 - accuracy: 0.6395 - val_loss: 1.0174 - val_accuracy: 0.4667\n",
            "Epoch 6/30\n",
            "86/86 [==============================] - 0s 2ms/sample - loss: 0.8886 - accuracy: 0.6279 - val_loss: 0.9986 - val_accuracy: 0.4889\n",
            "Epoch 7/30\n",
            "86/86 [==============================] - 0s 2ms/sample - loss: 0.8444 - accuracy: 0.6163 - val_loss: 1.0021 - val_accuracy: 0.4667\n",
            "Epoch 8/30\n",
            "86/86 [==============================] - 0s 2ms/sample - loss: 0.8497 - accuracy: 0.6628 - val_loss: 1.0371 - val_accuracy: 0.4667\n",
            "Epoch 9/30\n",
            "86/86 [==============================] - 0s 2ms/sample - loss: 0.8889 - accuracy: 0.6395 - val_loss: 1.0083 - val_accuracy: 0.4667\n",
            "Epoch 10/30\n",
            "86/86 [==============================] - 0s 2ms/sample - loss: 0.8305 - accuracy: 0.6512 - val_loss: 1.0170 - val_accuracy: 0.4889\n",
            "Epoch 11/30\n",
            "86/86 [==============================] - 0s 2ms/sample - loss: 0.8733 - accuracy: 0.6395 - val_loss: 0.9962 - val_accuracy: 0.5111\n",
            "Epoch 12/30\n",
            "86/86 [==============================] - 0s 2ms/sample - loss: 0.8255 - accuracy: 0.6279 - val_loss: 0.9921 - val_accuracy: 0.5111\n",
            "Epoch 13/30\n",
            "86/86 [==============================] - 0s 2ms/sample - loss: 0.8200 - accuracy: 0.6628 - val_loss: 0.9955 - val_accuracy: 0.5111\n",
            "Epoch 14/30\n",
            "86/86 [==============================] - 0s 2ms/sample - loss: 0.8191 - accuracy: 0.6628 - val_loss: 1.0114 - val_accuracy: 0.5111\n",
            "Epoch 15/30\n",
            "86/86 [==============================] - 0s 2ms/sample - loss: 0.8009 - accuracy: 0.6977 - val_loss: 1.0248 - val_accuracy: 0.5556\n",
            "Epoch 16/30\n",
            "86/86 [==============================] - 0s 2ms/sample - loss: 0.7721 - accuracy: 0.6860 - val_loss: 1.0190 - val_accuracy: 0.4889\n",
            "Epoch 17/30\n",
            "86/86 [==============================] - 0s 2ms/sample - loss: 0.8084 - accuracy: 0.6860 - val_loss: 1.0147 - val_accuracy: 0.4889\n",
            "Epoch 18/30\n",
            "86/86 [==============================] - 0s 2ms/sample - loss: 0.8068 - accuracy: 0.6512 - val_loss: 1.0078 - val_accuracy: 0.5111\n",
            "Epoch 19/30\n",
            "86/86 [==============================] - 0s 2ms/sample - loss: 0.7618 - accuracy: 0.6512 - val_loss: 1.0435 - val_accuracy: 0.5333\n",
            "Epoch 20/30\n",
            "86/86 [==============================] - 0s 2ms/sample - loss: 0.7792 - accuracy: 0.6744 - val_loss: 1.0162 - val_accuracy: 0.5111\n",
            "Epoch 21/30\n",
            "86/86 [==============================] - 0s 2ms/sample - loss: 0.7530 - accuracy: 0.6860 - val_loss: 1.1106 - val_accuracy: 0.5111\n",
            "Epoch 22/30\n",
            "86/86 [==============================] - 0s 2ms/sample - loss: 0.7429 - accuracy: 0.6744 - val_loss: 1.0345 - val_accuracy: 0.5556\n",
            "Epoch 23/30\n",
            "86/86 [==============================] - 0s 2ms/sample - loss: 0.7748 - accuracy: 0.6628 - val_loss: 1.0121 - val_accuracy: 0.5333\n",
            "Epoch 24/30\n",
            "86/86 [==============================] - 0s 2ms/sample - loss: 0.8037 - accuracy: 0.6395 - val_loss: 1.0152 - val_accuracy: 0.5111\n",
            "Epoch 25/30\n",
            "86/86 [==============================] - 0s 2ms/sample - loss: 0.7618 - accuracy: 0.7093 - val_loss: 1.0544 - val_accuracy: 0.5333\n",
            "Epoch 26/30\n",
            "86/86 [==============================] - 0s 2ms/sample - loss: 0.7391 - accuracy: 0.7093 - val_loss: 1.0331 - val_accuracy: 0.5556\n",
            "Epoch 27/30\n",
            "86/86 [==============================] - 0s 2ms/sample - loss: 0.7831 - accuracy: 0.6628 - val_loss: 1.0495 - val_accuracy: 0.5556\n",
            "Epoch 28/30\n",
            "86/86 [==============================] - 0s 2ms/sample - loss: 0.7217 - accuracy: 0.6860 - val_loss: 1.0511 - val_accuracy: 0.5333\n",
            "Epoch 29/30\n",
            "86/86 [==============================] - 0s 2ms/sample - loss: 0.7246 - accuracy: 0.7558 - val_loss: 1.0542 - val_accuracy: 0.5111\n",
            "Epoch 30/30\n",
            "86/86 [==============================] - 0s 2ms/sample - loss: 0.7456 - accuracy: 0.6279 - val_loss: 1.0384 - val_accuracy: 0.6000\n",
            "Train on 86 samples, validate on 45 samples\n",
            "Epoch 1/30\n",
            "86/86 [==============================] - 0s 6ms/sample - loss: 1.0555 - accuracy: 0.4419 - val_loss: 0.9988 - val_accuracy: 0.5111\n",
            "Epoch 2/30\n",
            "86/86 [==============================] - 0s 2ms/sample - loss: 0.9918 - accuracy: 0.5581 - val_loss: 0.9939 - val_accuracy: 0.5556\n",
            "Epoch 3/30\n",
            "86/86 [==============================] - 0s 2ms/sample - loss: 0.9339 - accuracy: 0.5581 - val_loss: 0.9672 - val_accuracy: 0.5111\n",
            "Epoch 4/30\n",
            "86/86 [==============================] - 0s 2ms/sample - loss: 0.9399 - accuracy: 0.6395 - val_loss: 0.9797 - val_accuracy: 0.4444\n",
            "Epoch 5/30\n",
            "86/86 [==============================] - 0s 2ms/sample - loss: 0.9299 - accuracy: 0.6395 - val_loss: 1.0017 - val_accuracy: 0.5333\n",
            "Epoch 6/30\n",
            "86/86 [==============================] - 0s 2ms/sample - loss: 0.8478 - accuracy: 0.7093 - val_loss: 1.0001 - val_accuracy: 0.4667\n",
            "Epoch 7/30\n",
            "86/86 [==============================] - 0s 2ms/sample - loss: 0.8737 - accuracy: 0.6163 - val_loss: 0.9857 - val_accuracy: 0.4889\n",
            "Epoch 8/30\n",
            "86/86 [==============================] - 0s 2ms/sample - loss: 0.8678 - accuracy: 0.6512 - val_loss: 0.9924 - val_accuracy: 0.4667\n",
            "Epoch 9/30\n",
            "86/86 [==============================] - 0s 2ms/sample - loss: 0.8761 - accuracy: 0.6744 - val_loss: 1.0126 - val_accuracy: 0.5111\n",
            "Epoch 10/30\n",
            "86/86 [==============================] - 0s 2ms/sample - loss: 0.8651 - accuracy: 0.6512 - val_loss: 0.9842 - val_accuracy: 0.4889\n",
            "Epoch 11/30\n",
            "86/86 [==============================] - 0s 2ms/sample - loss: 0.8318 - accuracy: 0.6860 - val_loss: 1.0106 - val_accuracy: 0.5111\n",
            "Epoch 12/30\n",
            "86/86 [==============================] - 0s 2ms/sample - loss: 0.8207 - accuracy: 0.6860 - val_loss: 1.0354 - val_accuracy: 0.4889\n",
            "Epoch 13/30\n",
            "86/86 [==============================] - 0s 2ms/sample - loss: 0.8418 - accuracy: 0.6628 - val_loss: 1.0311 - val_accuracy: 0.4667\n",
            "Epoch 14/30\n",
            "86/86 [==============================] - 0s 2ms/sample - loss: 0.8073 - accuracy: 0.6744 - val_loss: 1.0538 - val_accuracy: 0.4667\n",
            "Epoch 15/30\n",
            "86/86 [==============================] - 0s 2ms/sample - loss: 0.8335 - accuracy: 0.6860 - val_loss: 1.0600 - val_accuracy: 0.4889\n",
            "Epoch 16/30\n",
            "86/86 [==============================] - 0s 2ms/sample - loss: 0.8603 - accuracy: 0.6395 - val_loss: 1.0406 - val_accuracy: 0.4889\n",
            "Epoch 17/30\n",
            "86/86 [==============================] - 0s 2ms/sample - loss: 0.8268 - accuracy: 0.6279 - val_loss: 1.0312 - val_accuracy: 0.4889\n",
            "Epoch 18/30\n",
            "86/86 [==============================] - 0s 2ms/sample - loss: 0.8188 - accuracy: 0.6744 - val_loss: 1.0307 - val_accuracy: 0.4889\n",
            "Epoch 19/30\n",
            "86/86 [==============================] - 0s 2ms/sample - loss: 0.7846 - accuracy: 0.6744 - val_loss: 1.0267 - val_accuracy: 0.5333\n",
            "Epoch 20/30\n",
            "86/86 [==============================] - 0s 2ms/sample - loss: 0.7722 - accuracy: 0.6860 - val_loss: 1.0583 - val_accuracy: 0.4889\n",
            "Epoch 21/30\n",
            "86/86 [==============================] - 0s 2ms/sample - loss: 0.7700 - accuracy: 0.7209 - val_loss: 1.0608 - val_accuracy: 0.4889\n",
            "Epoch 22/30\n",
            "86/86 [==============================] - 0s 2ms/sample - loss: 0.8110 - accuracy: 0.6279 - val_loss: 1.0314 - val_accuracy: 0.5333\n",
            "Epoch 23/30\n",
            "86/86 [==============================] - 0s 2ms/sample - loss: 0.7735 - accuracy: 0.6977 - val_loss: 1.0690 - val_accuracy: 0.4667\n",
            "Epoch 24/30\n",
            "86/86 [==============================] - 0s 2ms/sample - loss: 0.8300 - accuracy: 0.6977 - val_loss: 1.0285 - val_accuracy: 0.5333\n",
            "Epoch 25/30\n",
            "86/86 [==============================] - 0s 2ms/sample - loss: 0.7785 - accuracy: 0.7093 - val_loss: 1.0551 - val_accuracy: 0.5333\n",
            "Epoch 26/30\n",
            "86/86 [==============================] - 0s 2ms/sample - loss: 0.7373 - accuracy: 0.7442 - val_loss: 1.0605 - val_accuracy: 0.4889\n",
            "Epoch 27/30\n",
            "86/86 [==============================] - 0s 2ms/sample - loss: 0.8032 - accuracy: 0.6628 - val_loss: 1.0568 - val_accuracy: 0.5111\n",
            "Epoch 28/30\n",
            "86/86 [==============================] - 0s 2ms/sample - loss: 0.8004 - accuracy: 0.6744 - val_loss: 1.0469 - val_accuracy: 0.4889\n",
            "Epoch 29/30\n",
            "86/86 [==============================] - 0s 2ms/sample - loss: 0.7520 - accuracy: 0.7209 - val_loss: 1.0400 - val_accuracy: 0.5111\n",
            "Epoch 30/30\n",
            "86/86 [==============================] - 0s 2ms/sample - loss: 0.8385 - accuracy: 0.6744 - val_loss: 1.0301 - val_accuracy: 0.5333\n",
            "Train on 86 samples, validate on 45 samples\n",
            "Epoch 1/30\n",
            "86/86 [==============================] - 1s 6ms/sample - loss: 1.3005 - accuracy: 0.3372 - val_loss: 0.9665 - val_accuracy: 0.5778\n",
            "Epoch 2/30\n",
            "86/86 [==============================] - 0s 2ms/sample - loss: 1.0423 - accuracy: 0.4767 - val_loss: 0.9434 - val_accuracy: 0.5556\n",
            "Epoch 3/30\n",
            "86/86 [==============================] - 0s 2ms/sample - loss: 0.9416 - accuracy: 0.6047 - val_loss: 0.9649 - val_accuracy: 0.4889\n",
            "Epoch 4/30\n",
            "86/86 [==============================] - 0s 2ms/sample - loss: 0.9227 - accuracy: 0.5698 - val_loss: 0.9436 - val_accuracy: 0.5556\n",
            "Epoch 5/30\n",
            "86/86 [==============================] - 0s 2ms/sample - loss: 0.8846 - accuracy: 0.6279 - val_loss: 0.9699 - val_accuracy: 0.5111\n",
            "Epoch 6/30\n",
            "86/86 [==============================] - 0s 2ms/sample - loss: 0.8978 - accuracy: 0.6163 - val_loss: 0.9608 - val_accuracy: 0.5556\n",
            "Epoch 7/30\n",
            "86/86 [==============================] - 0s 2ms/sample - loss: 0.8364 - accuracy: 0.6628 - val_loss: 0.9852 - val_accuracy: 0.4667\n",
            "Epoch 8/30\n",
            "86/86 [==============================] - 0s 2ms/sample - loss: 0.8637 - accuracy: 0.6512 - val_loss: 0.9610 - val_accuracy: 0.5333\n",
            "Epoch 9/30\n",
            "86/86 [==============================] - 0s 2ms/sample - loss: 0.8613 - accuracy: 0.6744 - val_loss: 0.9937 - val_accuracy: 0.4889\n",
            "Epoch 10/30\n",
            "86/86 [==============================] - 0s 2ms/sample - loss: 0.8538 - accuracy: 0.6279 - val_loss: 1.0115 - val_accuracy: 0.4889\n",
            "Epoch 11/30\n",
            "86/86 [==============================] - 0s 2ms/sample - loss: 0.8734 - accuracy: 0.5930 - val_loss: 1.0024 - val_accuracy: 0.4667\n",
            "Epoch 12/30\n",
            "86/86 [==============================] - 0s 2ms/sample - loss: 0.8250 - accuracy: 0.6395 - val_loss: 1.0117 - val_accuracy: 0.4667\n",
            "Epoch 13/30\n",
            "86/86 [==============================] - 0s 2ms/sample - loss: 0.7809 - accuracy: 0.6279 - val_loss: 1.0272 - val_accuracy: 0.4667\n",
            "Epoch 14/30\n",
            "86/86 [==============================] - 0s 2ms/sample - loss: 0.8460 - accuracy: 0.6163 - val_loss: 1.0204 - val_accuracy: 0.4444\n",
            "Epoch 15/30\n",
            "86/86 [==============================] - 0s 2ms/sample - loss: 0.8384 - accuracy: 0.6744 - val_loss: 1.0813 - val_accuracy: 0.4889\n",
            "Epoch 16/30\n",
            "86/86 [==============================] - 0s 2ms/sample - loss: 0.8571 - accuracy: 0.6047 - val_loss: 1.0531 - val_accuracy: 0.4889\n",
            "Epoch 17/30\n",
            "86/86 [==============================] - 0s 2ms/sample - loss: 0.8110 - accuracy: 0.6512 - val_loss: 1.0228 - val_accuracy: 0.5111\n",
            "Epoch 18/30\n",
            "86/86 [==============================] - 0s 2ms/sample - loss: 0.8177 - accuracy: 0.6395 - val_loss: 1.0335 - val_accuracy: 0.4667\n",
            "Epoch 19/30\n",
            "86/86 [==============================] - 0s 2ms/sample - loss: 0.7778 - accuracy: 0.6744 - val_loss: 1.0248 - val_accuracy: 0.5111\n",
            "Epoch 20/30\n",
            "86/86 [==============================] - 0s 2ms/sample - loss: 0.8120 - accuracy: 0.6628 - val_loss: 1.0485 - val_accuracy: 0.4889\n",
            "Epoch 21/30\n",
            "86/86 [==============================] - 0s 2ms/sample - loss: 0.8087 - accuracy: 0.6512 - val_loss: 1.0559 - val_accuracy: 0.4889\n",
            "Epoch 22/30\n",
            "86/86 [==============================] - 0s 2ms/sample - loss: 0.7932 - accuracy: 0.6512 - val_loss: 1.0482 - val_accuracy: 0.4889\n",
            "Epoch 23/30\n",
            "86/86 [==============================] - 0s 2ms/sample - loss: 0.7446 - accuracy: 0.7209 - val_loss: 1.0536 - val_accuracy: 0.5111\n",
            "Epoch 24/30\n",
            "86/86 [==============================] - 0s 2ms/sample - loss: 0.7871 - accuracy: 0.6279 - val_loss: 1.0606 - val_accuracy: 0.5333\n",
            "Epoch 25/30\n",
            "86/86 [==============================] - 0s 2ms/sample - loss: 0.8211 - accuracy: 0.6279 - val_loss: 1.0565 - val_accuracy: 0.5111\n",
            "Epoch 26/30\n",
            "86/86 [==============================] - 0s 2ms/sample - loss: 0.7766 - accuracy: 0.7209 - val_loss: 1.0862 - val_accuracy: 0.4444\n",
            "Epoch 27/30\n",
            "86/86 [==============================] - 0s 2ms/sample - loss: 0.7781 - accuracy: 0.6977 - val_loss: 1.0835 - val_accuracy: 0.5333\n",
            "Epoch 28/30\n",
            "86/86 [==============================] - 0s 2ms/sample - loss: 0.7322 - accuracy: 0.6744 - val_loss: 1.1178 - val_accuracy: 0.4667\n",
            "Epoch 29/30\n",
            "86/86 [==============================] - 0s 2ms/sample - loss: 0.7840 - accuracy: 0.6628 - val_loss: 1.1120 - val_accuracy: 0.4889\n",
            "Epoch 30/30\n",
            "86/86 [==============================] - 0s 2ms/sample - loss: 0.6933 - accuracy: 0.6744 - val_loss: 1.1054 - val_accuracy: 0.5111\n",
            "Train on 86 samples, validate on 45 samples\n",
            "Epoch 1/30\n",
            "86/86 [==============================] - 1s 6ms/sample - loss: 1.0674 - accuracy: 0.4535 - val_loss: 1.0592 - val_accuracy: 0.4667\n",
            "Epoch 2/30\n",
            "86/86 [==============================] - 0s 2ms/sample - loss: 0.9449 - accuracy: 0.5698 - val_loss: 1.0338 - val_accuracy: 0.4222\n",
            "Epoch 3/30\n",
            "86/86 [==============================] - 0s 2ms/sample - loss: 0.9325 - accuracy: 0.6512 - val_loss: 1.0059 - val_accuracy: 0.4889\n",
            "Epoch 4/30\n",
            "86/86 [==============================] - 0s 2ms/sample - loss: 0.8831 - accuracy: 0.6512 - val_loss: 1.0051 - val_accuracy: 0.5556\n",
            "Epoch 5/30\n",
            "86/86 [==============================] - 0s 2ms/sample - loss: 0.8566 - accuracy: 0.6628 - val_loss: 1.0529 - val_accuracy: 0.4667\n",
            "Epoch 6/30\n",
            "86/86 [==============================] - 0s 2ms/sample - loss: 0.8434 - accuracy: 0.6628 - val_loss: 1.0345 - val_accuracy: 0.5333\n",
            "Epoch 7/30\n",
            "86/86 [==============================] - 0s 2ms/sample - loss: 0.8633 - accuracy: 0.6744 - val_loss: 1.0207 - val_accuracy: 0.5333\n",
            "Epoch 8/30\n",
            "86/86 [==============================] - 0s 2ms/sample - loss: 0.8287 - accuracy: 0.6512 - val_loss: 1.0173 - val_accuracy: 0.5333\n",
            "Epoch 9/30\n",
            "86/86 [==============================] - 0s 2ms/sample - loss: 0.7670 - accuracy: 0.7093 - val_loss: 1.0481 - val_accuracy: 0.5111\n",
            "Epoch 10/30\n",
            "86/86 [==============================] - 0s 2ms/sample - loss: 0.8801 - accuracy: 0.6163 - val_loss: 1.0241 - val_accuracy: 0.5111\n",
            "Epoch 11/30\n",
            "86/86 [==============================] - 0s 2ms/sample - loss: 0.8481 - accuracy: 0.6395 - val_loss: 1.0234 - val_accuracy: 0.5111\n",
            "Epoch 12/30\n",
            "86/86 [==============================] - 0s 2ms/sample - loss: 0.8048 - accuracy: 0.6047 - val_loss: 1.0471 - val_accuracy: 0.5333\n",
            "Epoch 13/30\n",
            "86/86 [==============================] - 0s 2ms/sample - loss: 0.8020 - accuracy: 0.7093 - val_loss: 1.0255 - val_accuracy: 0.5556\n",
            "Epoch 14/30\n",
            "86/86 [==============================] - 0s 2ms/sample - loss: 0.7711 - accuracy: 0.6512 - val_loss: 1.0519 - val_accuracy: 0.5556\n",
            "Epoch 15/30\n",
            "86/86 [==============================] - 0s 2ms/sample - loss: 0.7983 - accuracy: 0.6279 - val_loss: 1.0260 - val_accuracy: 0.5333\n",
            "Epoch 16/30\n",
            "86/86 [==============================] - 0s 2ms/sample - loss: 0.8352 - accuracy: 0.6628 - val_loss: 1.0854 - val_accuracy: 0.5556\n",
            "Epoch 17/30\n",
            "86/86 [==============================] - 0s 2ms/sample - loss: 0.7607 - accuracy: 0.6163 - val_loss: 1.0386 - val_accuracy: 0.5556\n",
            "Epoch 18/30\n",
            "86/86 [==============================] - 0s 2ms/sample - loss: 0.7909 - accuracy: 0.6395 - val_loss: 1.0351 - val_accuracy: 0.5556\n",
            "Epoch 19/30\n",
            "86/86 [==============================] - 0s 2ms/sample - loss: 0.7808 - accuracy: 0.6744 - val_loss: 1.0965 - val_accuracy: 0.5333\n",
            "Epoch 20/30\n",
            "86/86 [==============================] - 0s 2ms/sample - loss: 0.7461 - accuracy: 0.6977 - val_loss: 1.0670 - val_accuracy: 0.5556\n",
            "Epoch 21/30\n",
            "86/86 [==============================] - 0s 2ms/sample - loss: 0.7755 - accuracy: 0.6860 - val_loss: 1.0475 - val_accuracy: 0.5556\n",
            "Epoch 22/30\n",
            "86/86 [==============================] - 0s 2ms/sample - loss: 0.7532 - accuracy: 0.6977 - val_loss: 1.0396 - val_accuracy: 0.5556\n",
            "Epoch 23/30\n",
            "86/86 [==============================] - 0s 2ms/sample - loss: 0.7523 - accuracy: 0.6977 - val_loss: 1.0431 - val_accuracy: 0.5111\n",
            "Epoch 24/30\n",
            "86/86 [==============================] - 0s 2ms/sample - loss: 0.8188 - accuracy: 0.6512 - val_loss: 1.0694 - val_accuracy: 0.5556\n",
            "Epoch 25/30\n",
            "86/86 [==============================] - 0s 2ms/sample - loss: 0.7493 - accuracy: 0.7209 - val_loss: 1.0931 - val_accuracy: 0.5556\n",
            "Epoch 26/30\n",
            "86/86 [==============================] - 0s 2ms/sample - loss: 0.7069 - accuracy: 0.7326 - val_loss: 1.0875 - val_accuracy: 0.5778\n",
            "Epoch 27/30\n",
            "86/86 [==============================] - 0s 2ms/sample - loss: 0.7826 - accuracy: 0.6395 - val_loss: 1.0612 - val_accuracy: 0.5556\n",
            "Epoch 28/30\n",
            "86/86 [==============================] - 0s 2ms/sample - loss: 0.7801 - accuracy: 0.6744 - val_loss: 1.1075 - val_accuracy: 0.5556\n",
            "Epoch 29/30\n",
            "86/86 [==============================] - 0s 2ms/sample - loss: 0.7800 - accuracy: 0.6628 - val_loss: 1.0815 - val_accuracy: 0.5556\n",
            "Epoch 30/30\n",
            "86/86 [==============================] - 0s 2ms/sample - loss: 0.7044 - accuracy: 0.6977 - val_loss: 1.0994 - val_accuracy: 0.5556\n"
          ],
          "name": "stdout"
        },
        {
          "output_type": "display_data",
          "data": {
            "text/html": [
              "<span style=\"color:#4527A0\"><h1 style=\"font-size:18px\">Trial complete</h1></span>"
            ],
            "text/plain": [
              "<IPython.core.display.HTML object>"
            ]
          },
          "metadata": {
            "tags": []
          }
        },
        {
          "output_type": "display_data",
          "data": {
            "text/html": [
              "<span style=\"color:#4527A0\"><h1 style=\"font-size:18px\">Trial summary</h1></span>"
            ],
            "text/plain": [
              "<IPython.core.display.HTML object>"
            ]
          },
          "metadata": {
            "tags": []
          }
        },
        {
          "output_type": "display_data",
          "data": {
            "text/html": [
              "<span style=\"color:#7E57C2\"><h2 style=\"font-size:16px\">Hp values:</h2></span>"
            ],
            "text/plain": [
              "<IPython.core.display.HTML object>"
            ]
          },
          "metadata": {
            "tags": []
          }
        },
        {
          "output_type": "display_data",
          "data": {
            "text/html": [
              "<span style=\"color:cyan\"> |-activation: sigmoid</span>"
            ],
            "text/plain": [
              "<IPython.core.display.HTML object>"
            ]
          },
          "metadata": {
            "tags": []
          }
        },
        {
          "output_type": "display_data",
          "data": {
            "text/html": [
              "<span style=\"color:blue\"> |-drop_rate: 0.2</span>"
            ],
            "text/plain": [
              "<IPython.core.display.HTML object>"
            ]
          },
          "metadata": {
            "tags": []
          }
        },
        {
          "output_type": "display_data",
          "data": {
            "text/html": [
              "<span style=\"color:cyan\"> |-learning_rate: 0.01</span>"
            ],
            "text/plain": [
              "<IPython.core.display.HTML object>"
            ]
          },
          "metadata": {
            "tags": []
          }
        },
        {
          "output_type": "display_data",
          "data": {
            "text/html": [
              "<span style=\"color:blue\"> |-units: 7</span>"
            ],
            "text/plain": [
              "<IPython.core.display.HTML object>"
            ]
          },
          "metadata": {
            "tags": []
          }
        },
        {
          "output_type": "display_data",
          "data": {
            "text/html": [
              "<span style=\"color:cyan\"> |-weight_init: lecun_uniform</span>"
            ],
            "text/plain": [
              "<IPython.core.display.HTML object>"
            ]
          },
          "metadata": {
            "tags": []
          }
        },
        {
          "output_type": "display_data",
          "data": {
            "text/html": [
              "<span style=\"color:cyan\"> |-Score: 0.5688889622688293</span>"
            ],
            "text/plain": [
              "<IPython.core.display.HTML object>"
            ]
          },
          "metadata": {
            "tags": []
          }
        },
        {
          "output_type": "display_data",
          "data": {
            "text/html": [
              "<span style=\"color:cyan\"> |-Best step: 0</span>"
            ],
            "text/plain": [
              "<IPython.core.display.HTML object>"
            ]
          },
          "metadata": {
            "tags": []
          }
        },
        {
          "output_type": "stream",
          "text": [
            "Train on 86 samples, validate on 45 samples\n",
            "Epoch 1/30\n",
            "86/86 [==============================] - 0s 6ms/sample - loss: 3.5639 - accuracy: 0.2907 - val_loss: 2.5338 - val_accuracy: 0.2667\n",
            "Epoch 2/30\n",
            "86/86 [==============================] - 0s 2ms/sample - loss: 2.8662 - accuracy: 0.2791 - val_loss: 2.1047 - val_accuracy: 0.3111\n",
            "Epoch 3/30\n",
            "86/86 [==============================] - 0s 2ms/sample - loss: 2.3499 - accuracy: 0.2442 - val_loss: 1.8148 - val_accuracy: 0.3556\n",
            "Epoch 4/30\n",
            "86/86 [==============================] - 0s 2ms/sample - loss: 1.9739 - accuracy: 0.3140 - val_loss: 1.6060 - val_accuracy: 0.2889\n",
            "Epoch 5/30\n",
            "86/86 [==============================] - 0s 2ms/sample - loss: 1.6957 - accuracy: 0.3140 - val_loss: 1.4774 - val_accuracy: 0.2222\n",
            "Epoch 6/30\n",
            "86/86 [==============================] - 0s 2ms/sample - loss: 1.5215 - accuracy: 0.3605 - val_loss: 1.3772 - val_accuracy: 0.2667\n",
            "Epoch 7/30\n",
            "86/86 [==============================] - 0s 2ms/sample - loss: 1.3763 - accuracy: 0.3837 - val_loss: 1.3255 - val_accuracy: 0.3111\n",
            "Epoch 8/30\n",
            "86/86 [==============================] - 0s 2ms/sample - loss: 1.2780 - accuracy: 0.4419 - val_loss: 1.2648 - val_accuracy: 0.3778\n",
            "Epoch 9/30\n",
            "86/86 [==============================] - 0s 2ms/sample - loss: 1.1904 - accuracy: 0.4535 - val_loss: 1.2109 - val_accuracy: 0.3778\n",
            "Epoch 10/30\n",
            "86/86 [==============================] - 0s 3ms/sample - loss: 1.1280 - accuracy: 0.5465 - val_loss: 1.1810 - val_accuracy: 0.4222\n",
            "Epoch 11/30\n",
            "86/86 [==============================] - 0s 2ms/sample - loss: 1.0793 - accuracy: 0.5814 - val_loss: 1.1537 - val_accuracy: 0.4222\n",
            "Epoch 12/30\n",
            "86/86 [==============================] - 0s 2ms/sample - loss: 1.0445 - accuracy: 0.5930 - val_loss: 1.1317 - val_accuracy: 0.4000\n",
            "Epoch 13/30\n",
            "86/86 [==============================] - 0s 2ms/sample - loss: 1.0004 - accuracy: 0.6279 - val_loss: 1.1179 - val_accuracy: 0.4222\n",
            "Epoch 14/30\n",
            "86/86 [==============================] - 0s 2ms/sample - loss: 0.9748 - accuracy: 0.6512 - val_loss: 1.1068 - val_accuracy: 0.4444\n",
            "Epoch 15/30\n",
            "86/86 [==============================] - 0s 2ms/sample - loss: 0.9554 - accuracy: 0.6512 - val_loss: 1.0984 - val_accuracy: 0.4667\n",
            "Epoch 16/30\n",
            "86/86 [==============================] - 0s 2ms/sample - loss: 0.9398 - accuracy: 0.6628 - val_loss: 1.0892 - val_accuracy: 0.5111\n",
            "Epoch 17/30\n",
            "86/86 [==============================] - 0s 2ms/sample - loss: 0.9290 - accuracy: 0.6628 - val_loss: 1.0841 - val_accuracy: 0.4667\n",
            "Epoch 18/30\n",
            "86/86 [==============================] - 0s 2ms/sample - loss: 0.9129 - accuracy: 0.6395 - val_loss: 1.0798 - val_accuracy: 0.5333\n",
            "Epoch 19/30\n",
            "86/86 [==============================] - 0s 2ms/sample - loss: 0.9125 - accuracy: 0.6512 - val_loss: 1.0796 - val_accuracy: 0.5333\n",
            "Epoch 20/30\n",
            "86/86 [==============================] - 0s 2ms/sample - loss: 0.8982 - accuracy: 0.6279 - val_loss: 1.0651 - val_accuracy: 0.5333\n",
            "Epoch 21/30\n",
            "86/86 [==============================] - 0s 2ms/sample - loss: 0.8930 - accuracy: 0.6628 - val_loss: 1.0735 - val_accuracy: 0.5333\n",
            "Epoch 22/30\n",
            "86/86 [==============================] - 0s 2ms/sample - loss: 0.8891 - accuracy: 0.6395 - val_loss: 1.0628 - val_accuracy: 0.5333\n",
            "Epoch 23/30\n",
            "86/86 [==============================] - 0s 2ms/sample - loss: 0.8860 - accuracy: 0.6628 - val_loss: 1.0608 - val_accuracy: 0.5333\n",
            "Epoch 24/30\n",
            "86/86 [==============================] - 0s 2ms/sample - loss: 0.8834 - accuracy: 0.6047 - val_loss: 1.0548 - val_accuracy: 0.5333\n",
            "Epoch 25/30\n",
            "86/86 [==============================] - 0s 2ms/sample - loss: 0.8783 - accuracy: 0.6279 - val_loss: 1.0614 - val_accuracy: 0.5333\n",
            "Epoch 26/30\n",
            "86/86 [==============================] - 0s 2ms/sample - loss: 0.8802 - accuracy: 0.6395 - val_loss: 1.0623 - val_accuracy: 0.5556\n",
            "Epoch 27/30\n",
            "86/86 [==============================] - 0s 2ms/sample - loss: 0.8792 - accuracy: 0.6395 - val_loss: 1.0626 - val_accuracy: 0.5778\n",
            "Epoch 28/30\n",
            "86/86 [==============================] - 0s 2ms/sample - loss: 0.8732 - accuracy: 0.6163 - val_loss: 1.0573 - val_accuracy: 0.5556\n",
            "Epoch 29/30\n",
            "86/86 [==============================] - 0s 2ms/sample - loss: 0.8799 - accuracy: 0.6279 - val_loss: 1.0544 - val_accuracy: 0.5556\n",
            "Epoch 30/30\n",
            "86/86 [==============================] - 0s 2ms/sample - loss: 0.8821 - accuracy: 0.6512 - val_loss: 1.0587 - val_accuracy: 0.5778\n",
            "Train on 86 samples, validate on 45 samples\n",
            "Epoch 1/30\n",
            "86/86 [==============================] - 0s 6ms/sample - loss: 3.6674 - accuracy: 0.3605 - val_loss: 2.7413 - val_accuracy: 0.4667\n",
            "Epoch 2/30\n",
            "86/86 [==============================] - 0s 2ms/sample - loss: 2.6377 - accuracy: 0.3837 - val_loss: 2.2109 - val_accuracy: 0.4000\n",
            "Epoch 3/30\n",
            "86/86 [==============================] - 0s 2ms/sample - loss: 1.9913 - accuracy: 0.4070 - val_loss: 1.8275 - val_accuracy: 0.4222\n",
            "Epoch 4/30\n",
            "86/86 [==============================] - 0s 2ms/sample - loss: 1.5900 - accuracy: 0.4651 - val_loss: 1.6242 - val_accuracy: 0.4222\n",
            "Epoch 5/30\n",
            "86/86 [==============================] - 0s 2ms/sample - loss: 1.3862 - accuracy: 0.5233 - val_loss: 1.5114 - val_accuracy: 0.4444\n",
            "Epoch 6/30\n",
            "86/86 [==============================] - 0s 2ms/sample - loss: 1.2676 - accuracy: 0.5465 - val_loss: 1.4109 - val_accuracy: 0.4889\n",
            "Epoch 7/30\n",
            "86/86 [==============================] - 0s 2ms/sample - loss: 1.1717 - accuracy: 0.5930 - val_loss: 1.3333 - val_accuracy: 0.5111\n",
            "Epoch 8/30\n",
            "86/86 [==============================] - 0s 2ms/sample - loss: 1.1016 - accuracy: 0.6047 - val_loss: 1.2810 - val_accuracy: 0.5333\n",
            "Epoch 9/30\n",
            "86/86 [==============================] - 0s 2ms/sample - loss: 1.0416 - accuracy: 0.6047 - val_loss: 1.2279 - val_accuracy: 0.5111\n",
            "Epoch 10/30\n",
            "86/86 [==============================] - 0s 2ms/sample - loss: 1.0007 - accuracy: 0.5930 - val_loss: 1.2020 - val_accuracy: 0.5556\n",
            "Epoch 11/30\n",
            "86/86 [==============================] - 0s 2ms/sample - loss: 0.9692 - accuracy: 0.6279 - val_loss: 1.1726 - val_accuracy: 0.5556\n",
            "Epoch 12/30\n",
            "86/86 [==============================] - 0s 2ms/sample - loss: 0.9470 - accuracy: 0.6395 - val_loss: 1.1537 - val_accuracy: 0.5778\n",
            "Epoch 13/30\n",
            "86/86 [==============================] - 0s 2ms/sample - loss: 0.9294 - accuracy: 0.6395 - val_loss: 1.1277 - val_accuracy: 0.5778\n",
            "Epoch 14/30\n",
            "86/86 [==============================] - 0s 2ms/sample - loss: 0.9147 - accuracy: 0.6279 - val_loss: 1.1105 - val_accuracy: 0.5778\n",
            "Epoch 15/30\n",
            "86/86 [==============================] - 0s 2ms/sample - loss: 0.9074 - accuracy: 0.6279 - val_loss: 1.1185 - val_accuracy: 0.5556\n",
            "Epoch 16/30\n",
            "86/86 [==============================] - 0s 2ms/sample - loss: 0.9035 - accuracy: 0.6047 - val_loss: 1.1089 - val_accuracy: 0.5556\n",
            "Epoch 17/30\n",
            "86/86 [==============================] - 0s 2ms/sample - loss: 0.9019 - accuracy: 0.6279 - val_loss: 1.0973 - val_accuracy: 0.5556\n",
            "Epoch 18/30\n",
            "86/86 [==============================] - 0s 2ms/sample - loss: 0.8961 - accuracy: 0.6395 - val_loss: 1.0680 - val_accuracy: 0.5556\n",
            "Epoch 19/30\n",
            "86/86 [==============================] - 0s 2ms/sample - loss: 0.8867 - accuracy: 0.6047 - val_loss: 1.0698 - val_accuracy: 0.5556\n",
            "Epoch 20/30\n",
            "86/86 [==============================] - 0s 2ms/sample - loss: 0.8931 - accuracy: 0.6628 - val_loss: 1.0564 - val_accuracy: 0.5556\n",
            "Epoch 21/30\n",
            "86/86 [==============================] - 0s 2ms/sample - loss: 0.8843 - accuracy: 0.6279 - val_loss: 1.0471 - val_accuracy: 0.5556\n",
            "Epoch 22/30\n",
            "86/86 [==============================] - 0s 2ms/sample - loss: 0.8904 - accuracy: 0.6279 - val_loss: 1.0564 - val_accuracy: 0.5333\n",
            "Epoch 23/30\n",
            "86/86 [==============================] - 0s 2ms/sample - loss: 0.8808 - accuracy: 0.6163 - val_loss: 1.0819 - val_accuracy: 0.5556\n",
            "Epoch 24/30\n",
            "86/86 [==============================] - 0s 2ms/sample - loss: 0.8787 - accuracy: 0.6163 - val_loss: 1.0614 - val_accuracy: 0.5778\n",
            "Epoch 25/30\n",
            "86/86 [==============================] - 0s 2ms/sample - loss: 0.8853 - accuracy: 0.6628 - val_loss: 1.0542 - val_accuracy: 0.5778\n",
            "Epoch 26/30\n",
            "86/86 [==============================] - 0s 2ms/sample - loss: 0.8741 - accuracy: 0.6279 - val_loss: 1.0434 - val_accuracy: 0.5778\n",
            "Epoch 27/30\n",
            "86/86 [==============================] - 0s 2ms/sample - loss: 0.8776 - accuracy: 0.6163 - val_loss: 1.0458 - val_accuracy: 0.5778\n",
            "Epoch 28/30\n",
            "86/86 [==============================] - 0s 2ms/sample - loss: 0.8752 - accuracy: 0.5930 - val_loss: 1.0431 - val_accuracy: 0.6000\n",
            "Epoch 29/30\n",
            "86/86 [==============================] - 0s 2ms/sample - loss: 0.8767 - accuracy: 0.6279 - val_loss: 1.0476 - val_accuracy: 0.5778\n",
            "Epoch 30/30\n",
            "86/86 [==============================] - 0s 2ms/sample - loss: 0.8818 - accuracy: 0.6744 - val_loss: 1.0394 - val_accuracy: 0.5778\n",
            "Train on 86 samples, validate on 45 samples\n",
            "Epoch 1/30\n",
            "86/86 [==============================] - 0s 6ms/sample - loss: 1.7494 - accuracy: 0.3721 - val_loss: 1.8174 - val_accuracy: 0.3333\n",
            "Epoch 2/30\n",
            "86/86 [==============================] - 0s 2ms/sample - loss: 1.4661 - accuracy: 0.3953 - val_loss: 1.5473 - val_accuracy: 0.3556\n",
            "Epoch 3/30\n",
            "86/86 [==============================] - 0s 2ms/sample - loss: 1.2958 - accuracy: 0.4419 - val_loss: 1.3973 - val_accuracy: 0.3778\n",
            "Epoch 4/30\n",
            "86/86 [==============================] - 0s 2ms/sample - loss: 1.1858 - accuracy: 0.4651 - val_loss: 1.3125 - val_accuracy: 0.4000\n",
            "Epoch 5/30\n",
            "86/86 [==============================] - 0s 2ms/sample - loss: 1.1144 - accuracy: 0.5233 - val_loss: 1.2387 - val_accuracy: 0.4444\n",
            "Epoch 6/30\n",
            "86/86 [==============================] - 0s 2ms/sample - loss: 1.0605 - accuracy: 0.5116 - val_loss: 1.1976 - val_accuracy: 0.4667\n",
            "Epoch 7/30\n",
            "86/86 [==============================] - 0s 2ms/sample - loss: 1.0186 - accuracy: 0.5698 - val_loss: 1.1548 - val_accuracy: 0.4889\n",
            "Epoch 8/30\n",
            "86/86 [==============================] - 0s 2ms/sample - loss: 0.9971 - accuracy: 0.5814 - val_loss: 1.1276 - val_accuracy: 0.4889\n",
            "Epoch 9/30\n",
            "86/86 [==============================] - 0s 2ms/sample - loss: 0.9624 - accuracy: 0.5814 - val_loss: 1.1078 - val_accuracy: 0.5333\n",
            "Epoch 10/30\n",
            "86/86 [==============================] - 0s 2ms/sample - loss: 0.9435 - accuracy: 0.6163 - val_loss: 1.0880 - val_accuracy: 0.5333\n",
            "Epoch 11/30\n",
            "86/86 [==============================] - 0s 2ms/sample - loss: 0.9386 - accuracy: 0.6279 - val_loss: 1.0689 - val_accuracy: 0.5333\n",
            "Epoch 12/30\n",
            "86/86 [==============================] - 0s 2ms/sample - loss: 0.9171 - accuracy: 0.6163 - val_loss: 1.0664 - val_accuracy: 0.5333\n",
            "Epoch 13/30\n",
            "86/86 [==============================] - 0s 2ms/sample - loss: 0.9070 - accuracy: 0.6395 - val_loss: 1.0579 - val_accuracy: 0.5333\n",
            "Epoch 14/30\n",
            "86/86 [==============================] - 0s 2ms/sample - loss: 0.9072 - accuracy: 0.6163 - val_loss: 1.0443 - val_accuracy: 0.5556\n",
            "Epoch 15/30\n",
            "86/86 [==============================] - 0s 2ms/sample - loss: 0.8932 - accuracy: 0.6279 - val_loss: 1.0382 - val_accuracy: 0.5333\n",
            "Epoch 16/30\n",
            "86/86 [==============================] - 0s 2ms/sample - loss: 0.8860 - accuracy: 0.6512 - val_loss: 1.0430 - val_accuracy: 0.5333\n",
            "Epoch 17/30\n",
            "86/86 [==============================] - 0s 2ms/sample - loss: 0.8840 - accuracy: 0.6744 - val_loss: 1.0401 - val_accuracy: 0.5333\n",
            "Epoch 18/30\n",
            "86/86 [==============================] - 0s 2ms/sample - loss: 0.8829 - accuracy: 0.6744 - val_loss: 1.0394 - val_accuracy: 0.5333\n",
            "Epoch 19/30\n",
            "86/86 [==============================] - 0s 2ms/sample - loss: 0.8815 - accuracy: 0.6047 - val_loss: 1.0315 - val_accuracy: 0.5333\n",
            "Epoch 20/30\n",
            "86/86 [==============================] - 0s 2ms/sample - loss: 0.8750 - accuracy: 0.6395 - val_loss: 1.0360 - val_accuracy: 0.5556\n",
            "Epoch 21/30\n",
            "86/86 [==============================] - 0s 2ms/sample - loss: 0.8749 - accuracy: 0.6628 - val_loss: 1.0383 - val_accuracy: 0.5556\n",
            "Epoch 22/30\n",
            "86/86 [==============================] - 0s 2ms/sample - loss: 0.8734 - accuracy: 0.6628 - val_loss: 1.0428 - val_accuracy: 0.5556\n",
            "Epoch 23/30\n",
            "86/86 [==============================] - 0s 2ms/sample - loss: 0.8753 - accuracy: 0.6395 - val_loss: 1.0341 - val_accuracy: 0.5778\n",
            "Epoch 24/30\n",
            "86/86 [==============================] - 0s 3ms/sample - loss: 0.8689 - accuracy: 0.6512 - val_loss: 1.0385 - val_accuracy: 0.5778\n",
            "Epoch 25/30\n",
            "86/86 [==============================] - 0s 2ms/sample - loss: 0.8753 - accuracy: 0.6512 - val_loss: 1.0300 - val_accuracy: 0.5556\n",
            "Epoch 26/30\n",
            "86/86 [==============================] - 0s 2ms/sample - loss: 0.8710 - accuracy: 0.6279 - val_loss: 1.0308 - val_accuracy: 0.5778\n",
            "Epoch 27/30\n",
            "86/86 [==============================] - 0s 2ms/sample - loss: 0.8673 - accuracy: 0.6395 - val_loss: 1.0375 - val_accuracy: 0.6000\n",
            "Epoch 28/30\n",
            "86/86 [==============================] - 0s 2ms/sample - loss: 0.8631 - accuracy: 0.6628 - val_loss: 1.0357 - val_accuracy: 0.5778\n",
            "Epoch 29/30\n",
            "86/86 [==============================] - 0s 2ms/sample - loss: 0.8654 - accuracy: 0.6279 - val_loss: 1.0223 - val_accuracy: 0.5778\n",
            "Epoch 30/30\n",
            "86/86 [==============================] - 0s 2ms/sample - loss: 0.8681 - accuracy: 0.6279 - val_loss: 1.0376 - val_accuracy: 0.5556\n",
            "Train on 86 samples, validate on 45 samples\n",
            "Epoch 1/30\n",
            "86/86 [==============================] - 0s 6ms/sample - loss: 1.9361 - accuracy: 0.4419 - val_loss: 1.9884 - val_accuracy: 0.3556\n",
            "Epoch 2/30\n",
            "86/86 [==============================] - 0s 2ms/sample - loss: 1.6206 - accuracy: 0.4302 - val_loss: 1.7697 - val_accuracy: 0.3778\n",
            "Epoch 3/30\n",
            "86/86 [==============================] - 0s 2ms/sample - loss: 1.3972 - accuracy: 0.4535 - val_loss: 1.5887 - val_accuracy: 0.3333\n",
            "Epoch 4/30\n",
            "86/86 [==============================] - 0s 2ms/sample - loss: 1.2439 - accuracy: 0.4651 - val_loss: 1.4729 - val_accuracy: 0.3556\n",
            "Epoch 5/30\n",
            "86/86 [==============================] - 0s 2ms/sample - loss: 1.1328 - accuracy: 0.5116 - val_loss: 1.3777 - val_accuracy: 0.3778\n",
            "Epoch 6/30\n",
            "86/86 [==============================] - 0s 2ms/sample - loss: 1.0662 - accuracy: 0.5465 - val_loss: 1.2927 - val_accuracy: 0.4222\n",
            "Epoch 7/30\n",
            "86/86 [==============================] - 0s 2ms/sample - loss: 1.0062 - accuracy: 0.5581 - val_loss: 1.2384 - val_accuracy: 0.4667\n",
            "Epoch 8/30\n",
            "86/86 [==============================] - 0s 2ms/sample - loss: 0.9693 - accuracy: 0.5698 - val_loss: 1.2080 - val_accuracy: 0.4889\n",
            "Epoch 9/30\n",
            "86/86 [==============================] - 0s 2ms/sample - loss: 0.9380 - accuracy: 0.5814 - val_loss: 1.1699 - val_accuracy: 0.4889\n",
            "Epoch 10/30\n",
            "86/86 [==============================] - 0s 2ms/sample - loss: 0.9231 - accuracy: 0.5581 - val_loss: 1.1348 - val_accuracy: 0.5111\n",
            "Epoch 11/30\n",
            "86/86 [==============================] - 0s 2ms/sample - loss: 0.9059 - accuracy: 0.5698 - val_loss: 1.1224 - val_accuracy: 0.5111\n",
            "Epoch 12/30\n",
            "86/86 [==============================] - 0s 2ms/sample - loss: 0.8942 - accuracy: 0.6047 - val_loss: 1.1032 - val_accuracy: 0.4889\n",
            "Epoch 13/30\n",
            "86/86 [==============================] - 0s 2ms/sample - loss: 0.8958 - accuracy: 0.6163 - val_loss: 1.0910 - val_accuracy: 0.5333\n",
            "Epoch 14/30\n",
            "86/86 [==============================] - 0s 2ms/sample - loss: 0.8815 - accuracy: 0.6512 - val_loss: 1.0828 - val_accuracy: 0.5333\n",
            "Epoch 15/30\n",
            "86/86 [==============================] - 0s 2ms/sample - loss: 0.8786 - accuracy: 0.6628 - val_loss: 1.0783 - val_accuracy: 0.5556\n",
            "Epoch 16/30\n",
            "86/86 [==============================] - 0s 2ms/sample - loss: 0.8784 - accuracy: 0.6395 - val_loss: 1.0736 - val_accuracy: 0.5556\n",
            "Epoch 17/30\n",
            "86/86 [==============================] - 0s 2ms/sample - loss: 0.8737 - accuracy: 0.6279 - val_loss: 1.0733 - val_accuracy: 0.5556\n",
            "Epoch 18/30\n",
            "86/86 [==============================] - 0s 2ms/sample - loss: 0.8718 - accuracy: 0.6744 - val_loss: 1.0570 - val_accuracy: 0.5556\n",
            "Epoch 19/30\n",
            "86/86 [==============================] - 0s 2ms/sample - loss: 0.8711 - accuracy: 0.6744 - val_loss: 1.0644 - val_accuracy: 0.5556\n",
            "Epoch 20/30\n",
            "86/86 [==============================] - 0s 2ms/sample - loss: 0.8676 - accuracy: 0.6628 - val_loss: 1.0506 - val_accuracy: 0.5556\n",
            "Epoch 21/30\n",
            "86/86 [==============================] - 0s 2ms/sample - loss: 0.8701 - accuracy: 0.6628 - val_loss: 1.0523 - val_accuracy: 0.5556\n",
            "Epoch 22/30\n",
            "86/86 [==============================] - 0s 2ms/sample - loss: 0.8699 - accuracy: 0.6395 - val_loss: 1.0549 - val_accuracy: 0.5556\n",
            "Epoch 23/30\n",
            "86/86 [==============================] - 0s 2ms/sample - loss: 0.8701 - accuracy: 0.6628 - val_loss: 1.0463 - val_accuracy: 0.5778\n",
            "Epoch 24/30\n",
            "86/86 [==============================] - 0s 2ms/sample - loss: 0.8710 - accuracy: 0.6395 - val_loss: 1.0362 - val_accuracy: 0.5778\n",
            "Epoch 25/30\n",
            "86/86 [==============================] - 0s 2ms/sample - loss: 0.8691 - accuracy: 0.6395 - val_loss: 1.0458 - val_accuracy: 0.5556\n",
            "Epoch 26/30\n",
            "86/86 [==============================] - 0s 2ms/sample - loss: 0.8726 - accuracy: 0.6512 - val_loss: 1.0434 - val_accuracy: 0.5778\n",
            "Epoch 27/30\n",
            "86/86 [==============================] - 0s 2ms/sample - loss: 0.8726 - accuracy: 0.6395 - val_loss: 1.0467 - val_accuracy: 0.5556\n",
            "Epoch 28/30\n",
            "86/86 [==============================] - 0s 2ms/sample - loss: 0.8750 - accuracy: 0.6628 - val_loss: 1.0504 - val_accuracy: 0.5778\n",
            "Epoch 29/30\n",
            "86/86 [==============================] - 0s 2ms/sample - loss: 0.8693 - accuracy: 0.6512 - val_loss: 1.0371 - val_accuracy: 0.5556\n",
            "Epoch 30/30\n",
            "86/86 [==============================] - 0s 2ms/sample - loss: 0.8684 - accuracy: 0.6279 - val_loss: 1.0436 - val_accuracy: 0.5778\n",
            "Train on 86 samples, validate on 45 samples\n",
            "Epoch 1/30\n",
            "86/86 [==============================] - 0s 6ms/sample - loss: 2.7254 - accuracy: 0.2558 - val_loss: 2.6489 - val_accuracy: 0.2889\n",
            "Epoch 2/30\n",
            "86/86 [==============================] - 0s 2ms/sample - loss: 2.1320 - accuracy: 0.3023 - val_loss: 2.1031 - val_accuracy: 0.2667\n",
            "Epoch 3/30\n",
            "86/86 [==============================] - 0s 2ms/sample - loss: 1.7483 - accuracy: 0.3256 - val_loss: 1.7544 - val_accuracy: 0.3333\n",
            "Epoch 4/30\n",
            "86/86 [==============================] - 0s 2ms/sample - loss: 1.5060 - accuracy: 0.3605 - val_loss: 1.5265 - val_accuracy: 0.3556\n",
            "Epoch 5/30\n",
            "86/86 [==============================] - 0s 2ms/sample - loss: 1.3471 - accuracy: 0.4302 - val_loss: 1.4105 - val_accuracy: 0.4222\n",
            "Epoch 6/30\n",
            "86/86 [==============================] - 0s 2ms/sample - loss: 1.2607 - accuracy: 0.4651 - val_loss: 1.3137 - val_accuracy: 0.4222\n",
            "Epoch 7/30\n",
            "86/86 [==============================] - 0s 2ms/sample - loss: 1.1817 - accuracy: 0.5000 - val_loss: 1.2746 - val_accuracy: 0.4444\n",
            "Epoch 8/30\n",
            "86/86 [==============================] - 0s 2ms/sample - loss: 1.1324 - accuracy: 0.5116 - val_loss: 1.2194 - val_accuracy: 0.4667\n",
            "Epoch 9/30\n",
            "86/86 [==============================] - 0s 2ms/sample - loss: 1.0953 - accuracy: 0.5116 - val_loss: 1.1765 - val_accuracy: 0.4667\n",
            "Epoch 10/30\n",
            "86/86 [==============================] - 0s 2ms/sample - loss: 1.0432 - accuracy: 0.5349 - val_loss: 1.1591 - val_accuracy: 0.5333\n",
            "Epoch 11/30\n",
            "86/86 [==============================] - 0s 2ms/sample - loss: 1.0180 - accuracy: 0.5233 - val_loss: 1.1216 - val_accuracy: 0.5333\n",
            "Epoch 12/30\n",
            "86/86 [==============================] - 0s 2ms/sample - loss: 0.9966 - accuracy: 0.5465 - val_loss: 1.1064 - val_accuracy: 0.5556\n",
            "Epoch 13/30\n",
            "86/86 [==============================] - 0s 2ms/sample - loss: 0.9662 - accuracy: 0.5581 - val_loss: 1.0897 - val_accuracy: 0.5556\n",
            "Epoch 14/30\n",
            "86/86 [==============================] - 0s 2ms/sample - loss: 0.9521 - accuracy: 0.5233 - val_loss: 1.0986 - val_accuracy: 0.5333\n",
            "Epoch 15/30\n",
            "86/86 [==============================] - 0s 2ms/sample - loss: 0.9385 - accuracy: 0.5930 - val_loss: 1.0762 - val_accuracy: 0.5556\n",
            "Epoch 16/30\n",
            "86/86 [==============================] - 0s 2ms/sample - loss: 0.9214 - accuracy: 0.5814 - val_loss: 1.0527 - val_accuracy: 0.5333\n",
            "Epoch 17/30\n",
            "86/86 [==============================] - 0s 2ms/sample - loss: 0.9116 - accuracy: 0.5930 - val_loss: 1.0461 - val_accuracy: 0.5111\n",
            "Epoch 18/30\n",
            "86/86 [==============================] - 0s 2ms/sample - loss: 0.8955 - accuracy: 0.5814 - val_loss: 1.0394 - val_accuracy: 0.5333\n",
            "Epoch 19/30\n",
            "86/86 [==============================] - 0s 2ms/sample - loss: 0.8938 - accuracy: 0.6279 - val_loss: 1.0366 - val_accuracy: 0.5556\n",
            "Epoch 20/30\n",
            "86/86 [==============================] - 0s 2ms/sample - loss: 0.8878 - accuracy: 0.6163 - val_loss: 1.0392 - val_accuracy: 0.5778\n",
            "Epoch 21/30\n",
            "86/86 [==============================] - 0s 2ms/sample - loss: 0.8805 - accuracy: 0.6512 - val_loss: 1.0371 - val_accuracy: 0.5778\n",
            "Epoch 22/30\n",
            "86/86 [==============================] - 0s 2ms/sample - loss: 0.8863 - accuracy: 0.6279 - val_loss: 1.0267 - val_accuracy: 0.5778\n",
            "Epoch 23/30\n",
            "86/86 [==============================] - 0s 2ms/sample - loss: 0.8760 - accuracy: 0.6047 - val_loss: 1.0351 - val_accuracy: 0.5778\n",
            "Epoch 24/30\n",
            "86/86 [==============================] - 0s 2ms/sample - loss: 0.8829 - accuracy: 0.6163 - val_loss: 1.0306 - val_accuracy: 0.5556\n",
            "Epoch 25/30\n",
            "86/86 [==============================] - 0s 2ms/sample - loss: 0.8753 - accuracy: 0.6628 - val_loss: 1.0220 - val_accuracy: 0.5778\n",
            "Epoch 26/30\n",
            "86/86 [==============================] - 0s 2ms/sample - loss: 0.8770 - accuracy: 0.6279 - val_loss: 1.0338 - val_accuracy: 0.5778\n",
            "Epoch 27/30\n",
            "86/86 [==============================] - 0s 2ms/sample - loss: 0.8734 - accuracy: 0.6163 - val_loss: 1.0226 - val_accuracy: 0.5556\n",
            "Epoch 28/30\n",
            "86/86 [==============================] - 0s 2ms/sample - loss: 0.8744 - accuracy: 0.6047 - val_loss: 1.0224 - val_accuracy: 0.6000\n",
            "Epoch 29/30\n",
            "86/86 [==============================] - 0s 2ms/sample - loss: 0.8855 - accuracy: 0.6395 - val_loss: 1.0244 - val_accuracy: 0.5556\n",
            "Epoch 30/30\n",
            "86/86 [==============================] - 0s 2ms/sample - loss: 0.8780 - accuracy: 0.6395 - val_loss: 1.0273 - val_accuracy: 0.5556\n"
          ],
          "name": "stdout"
        },
        {
          "output_type": "display_data",
          "data": {
            "text/html": [
              "<span style=\"color:#4527A0\"><h1 style=\"font-size:18px\">Trial complete</h1></span>"
            ],
            "text/plain": [
              "<IPython.core.display.HTML object>"
            ]
          },
          "metadata": {
            "tags": []
          }
        },
        {
          "output_type": "display_data",
          "data": {
            "text/html": [
              "<span style=\"color:#4527A0\"><h1 style=\"font-size:18px\">Trial summary</h1></span>"
            ],
            "text/plain": [
              "<IPython.core.display.HTML object>"
            ]
          },
          "metadata": {
            "tags": []
          }
        },
        {
          "output_type": "display_data",
          "data": {
            "text/html": [
              "<span style=\"color:#7E57C2\"><h2 style=\"font-size:16px\">Hp values:</h2></span>"
            ],
            "text/plain": [
              "<IPython.core.display.HTML object>"
            ]
          },
          "metadata": {
            "tags": []
          }
        },
        {
          "output_type": "display_data",
          "data": {
            "text/html": [
              "<span style=\"color:cyan\"> |-activation: linear</span>"
            ],
            "text/plain": [
              "<IPython.core.display.HTML object>"
            ]
          },
          "metadata": {
            "tags": []
          }
        },
        {
          "output_type": "display_data",
          "data": {
            "text/html": [
              "<span style=\"color:blue\"> |-drop_rate: 0.0</span>"
            ],
            "text/plain": [
              "<IPython.core.display.HTML object>"
            ]
          },
          "metadata": {
            "tags": []
          }
        },
        {
          "output_type": "display_data",
          "data": {
            "text/html": [
              "<span style=\"color:cyan\"> |-learning_rate: 0.001</span>"
            ],
            "text/plain": [
              "<IPython.core.display.HTML object>"
            ]
          },
          "metadata": {
            "tags": []
          }
        },
        {
          "output_type": "display_data",
          "data": {
            "text/html": [
              "<span style=\"color:blue\"> |-units: 8</span>"
            ],
            "text/plain": [
              "<IPython.core.display.HTML object>"
            ]
          },
          "metadata": {
            "tags": []
          }
        },
        {
          "output_type": "display_data",
          "data": {
            "text/html": [
              "<span style=\"color:cyan\"> |-weight_init: glorot_uniform</span>"
            ],
            "text/plain": [
              "<IPython.core.display.HTML object>"
            ]
          },
          "metadata": {
            "tags": []
          }
        },
        {
          "output_type": "display_data",
          "data": {
            "text/html": [
              "<span style=\"color:cyan\"> |-Score: 0.5911110639572144</span>"
            ],
            "text/plain": [
              "<IPython.core.display.HTML object>"
            ]
          },
          "metadata": {
            "tags": []
          }
        },
        {
          "output_type": "display_data",
          "data": {
            "text/html": [
              "<span style=\"color:cyan\"> |-Best step: 0</span>"
            ],
            "text/plain": [
              "<IPython.core.display.HTML object>"
            ]
          },
          "metadata": {
            "tags": []
          }
        },
        {
          "output_type": "stream",
          "text": [
            "Train on 86 samples, validate on 45 samples\n",
            "Epoch 1/30\n",
            "86/86 [==============================] - 0s 6ms/sample - loss: 4.9091 - accuracy: 0.5233 - val_loss: 5.0019 - val_accuracy: 0.4222\n",
            "Epoch 2/30\n",
            "86/86 [==============================] - 0s 2ms/sample - loss: 4.8156 - accuracy: 0.5116 - val_loss: 4.9190 - val_accuracy: 0.4222\n",
            "Epoch 3/30\n",
            "86/86 [==============================] - 0s 2ms/sample - loss: 4.7244 - accuracy: 0.5233 - val_loss: 4.8227 - val_accuracy: 0.4222\n",
            "Epoch 4/30\n",
            "86/86 [==============================] - 0s 2ms/sample - loss: 4.6354 - accuracy: 0.5233 - val_loss: 4.7370 - val_accuracy: 0.4222\n",
            "Epoch 5/30\n",
            "86/86 [==============================] - 0s 2ms/sample - loss: 4.5482 - accuracy: 0.5233 - val_loss: 4.6482 - val_accuracy: 0.4222\n",
            "Epoch 6/30\n",
            "86/86 [==============================] - 0s 2ms/sample - loss: 4.4623 - accuracy: 0.5233 - val_loss: 4.5609 - val_accuracy: 0.4222\n",
            "Epoch 7/30\n",
            "86/86 [==============================] - 0s 2ms/sample - loss: 4.3755 - accuracy: 0.5233 - val_loss: 4.4782 - val_accuracy: 0.4222\n",
            "Epoch 8/30\n",
            "86/86 [==============================] - 0s 2ms/sample - loss: 4.2921 - accuracy: 0.5233 - val_loss: 4.4051 - val_accuracy: 0.4222\n",
            "Epoch 9/30\n",
            "86/86 [==============================] - 0s 2ms/sample - loss: 4.2135 - accuracy: 0.5233 - val_loss: 4.3160 - val_accuracy: 0.4222\n",
            "Epoch 10/30\n",
            "86/86 [==============================] - 0s 2ms/sample - loss: 4.1314 - accuracy: 0.5116 - val_loss: 4.2356 - val_accuracy: 0.4222\n",
            "Epoch 11/30\n",
            "86/86 [==============================] - 0s 2ms/sample - loss: 4.0526 - accuracy: 0.5116 - val_loss: 4.1592 - val_accuracy: 0.4222\n",
            "Epoch 12/30\n",
            "86/86 [==============================] - 0s 3ms/sample - loss: 3.9753 - accuracy: 0.5000 - val_loss: 4.0830 - val_accuracy: 0.4222\n",
            "Epoch 13/30\n",
            "86/86 [==============================] - 0s 2ms/sample - loss: 3.9016 - accuracy: 0.5000 - val_loss: 4.0051 - val_accuracy: 0.4222\n",
            "Epoch 14/30\n",
            "86/86 [==============================] - 0s 2ms/sample - loss: 3.8271 - accuracy: 0.5000 - val_loss: 3.9308 - val_accuracy: 0.4222\n",
            "Epoch 15/30\n",
            "86/86 [==============================] - 0s 2ms/sample - loss: 3.7532 - accuracy: 0.5000 - val_loss: 3.8594 - val_accuracy: 0.4000\n",
            "Epoch 16/30\n",
            "86/86 [==============================] - 0s 2ms/sample - loss: 3.6806 - accuracy: 0.5233 - val_loss: 3.7906 - val_accuracy: 0.4000\n",
            "Epoch 17/30\n",
            "86/86 [==============================] - 0s 2ms/sample - loss: 3.6105 - accuracy: 0.5233 - val_loss: 3.7197 - val_accuracy: 0.4000\n",
            "Epoch 18/30\n",
            "86/86 [==============================] - 0s 2ms/sample - loss: 3.5424 - accuracy: 0.5233 - val_loss: 3.6487 - val_accuracy: 0.4000\n",
            "Epoch 19/30\n",
            "86/86 [==============================] - 0s 2ms/sample - loss: 3.4727 - accuracy: 0.5233 - val_loss: 3.5759 - val_accuracy: 0.4000\n",
            "Epoch 20/30\n",
            "86/86 [==============================] - 0s 2ms/sample - loss: 3.4049 - accuracy: 0.5233 - val_loss: 3.5095 - val_accuracy: 0.4000\n",
            "Epoch 21/30\n",
            "86/86 [==============================] - 0s 2ms/sample - loss: 3.3392 - accuracy: 0.5233 - val_loss: 3.4421 - val_accuracy: 0.4000\n",
            "Epoch 22/30\n",
            "86/86 [==============================] - 0s 2ms/sample - loss: 3.2736 - accuracy: 0.5233 - val_loss: 3.3743 - val_accuracy: 0.4000\n",
            "Epoch 23/30\n",
            "86/86 [==============================] - 0s 2ms/sample - loss: 3.2085 - accuracy: 0.5233 - val_loss: 3.3146 - val_accuracy: 0.4000\n",
            "Epoch 24/30\n",
            "86/86 [==============================] - 0s 2ms/sample - loss: 3.1454 - accuracy: 0.5233 - val_loss: 3.2470 - val_accuracy: 0.4000\n",
            "Epoch 25/30\n",
            "86/86 [==============================] - 0s 2ms/sample - loss: 3.0822 - accuracy: 0.5233 - val_loss: 3.1875 - val_accuracy: 0.4000\n",
            "Epoch 26/30\n",
            "86/86 [==============================] - 0s 2ms/sample - loss: 3.0206 - accuracy: 0.5233 - val_loss: 3.1281 - val_accuracy: 0.4000\n",
            "Epoch 27/30\n",
            "86/86 [==============================] - 0s 2ms/sample - loss: 2.9606 - accuracy: 0.5233 - val_loss: 3.0633 - val_accuracy: 0.4000\n",
            "Epoch 28/30\n",
            "86/86 [==============================] - 0s 2ms/sample - loss: 2.9008 - accuracy: 0.5349 - val_loss: 3.0044 - val_accuracy: 0.4000\n",
            "Epoch 29/30\n",
            "86/86 [==============================] - 0s 2ms/sample - loss: 2.8407 - accuracy: 0.5349 - val_loss: 2.9466 - val_accuracy: 0.4000\n",
            "Epoch 30/30\n",
            "86/86 [==============================] - 0s 2ms/sample - loss: 2.7841 - accuracy: 0.5233 - val_loss: 2.8862 - val_accuracy: 0.4000\n",
            "Train on 86 samples, validate on 45 samples\n",
            "Epoch 1/30\n",
            "86/86 [==============================] - 0s 6ms/sample - loss: 2.9155 - accuracy: 0.4070 - val_loss: 2.3655 - val_accuracy: 0.4000\n",
            "Epoch 2/30\n",
            "86/86 [==============================] - 0s 2ms/sample - loss: 2.8391 - accuracy: 0.4070 - val_loss: 2.3153 - val_accuracy: 0.3778\n",
            "Epoch 3/30\n",
            "86/86 [==============================] - 0s 2ms/sample - loss: 2.7640 - accuracy: 0.4070 - val_loss: 2.2688 - val_accuracy: 0.3778\n",
            "Epoch 4/30\n",
            "86/86 [==============================] - 0s 2ms/sample - loss: 2.6919 - accuracy: 0.4186 - val_loss: 2.2230 - val_accuracy: 0.3556\n",
            "Epoch 5/30\n",
            "86/86 [==============================] - 0s 2ms/sample - loss: 2.6229 - accuracy: 0.4186 - val_loss: 2.1785 - val_accuracy: 0.3556\n",
            "Epoch 6/30\n",
            "86/86 [==============================] - 0s 2ms/sample - loss: 2.5574 - accuracy: 0.4186 - val_loss: 2.1354 - val_accuracy: 0.3556\n",
            "Epoch 7/30\n",
            "86/86 [==============================] - 0s 2ms/sample - loss: 2.4940 - accuracy: 0.4186 - val_loss: 2.0952 - val_accuracy: 0.3556\n",
            "Epoch 8/30\n",
            "86/86 [==============================] - 0s 2ms/sample - loss: 2.4340 - accuracy: 0.4302 - val_loss: 2.0564 - val_accuracy: 0.3778\n",
            "Epoch 9/30\n",
            "86/86 [==============================] - 0s 2ms/sample - loss: 2.3765 - accuracy: 0.4419 - val_loss: 2.0195 - val_accuracy: 0.4000\n",
            "Epoch 10/30\n",
            "86/86 [==============================] - 0s 2ms/sample - loss: 2.3230 - accuracy: 0.4419 - val_loss: 1.9845 - val_accuracy: 0.4000\n",
            "Epoch 11/30\n",
            "86/86 [==============================] - 0s 2ms/sample - loss: 2.2724 - accuracy: 0.4302 - val_loss: 1.9508 - val_accuracy: 0.4000\n",
            "Epoch 12/30\n",
            "86/86 [==============================] - 0s 2ms/sample - loss: 2.2231 - accuracy: 0.4419 - val_loss: 1.9195 - val_accuracy: 0.4000\n",
            "Epoch 13/30\n",
            "86/86 [==============================] - 0s 2ms/sample - loss: 2.1762 - accuracy: 0.4419 - val_loss: 1.8897 - val_accuracy: 0.4000\n",
            "Epoch 14/30\n",
            "86/86 [==============================] - 0s 2ms/sample - loss: 2.1317 - accuracy: 0.4535 - val_loss: 1.8622 - val_accuracy: 0.4000\n",
            "Epoch 15/30\n",
            "86/86 [==============================] - 0s 2ms/sample - loss: 2.0900 - accuracy: 0.4419 - val_loss: 1.8349 - val_accuracy: 0.4000\n",
            "Epoch 16/30\n",
            "86/86 [==============================] - 0s 2ms/sample - loss: 2.0497 - accuracy: 0.4419 - val_loss: 1.8086 - val_accuracy: 0.4000\n",
            "Epoch 17/30\n",
            "86/86 [==============================] - 0s 2ms/sample - loss: 2.0127 - accuracy: 0.4419 - val_loss: 1.7852 - val_accuracy: 0.4222\n",
            "Epoch 18/30\n",
            "86/86 [==============================] - 0s 2ms/sample - loss: 1.9770 - accuracy: 0.4419 - val_loss: 1.7615 - val_accuracy: 0.4222\n",
            "Epoch 19/30\n",
            "86/86 [==============================] - 0s 2ms/sample - loss: 1.9456 - accuracy: 0.4419 - val_loss: 1.7386 - val_accuracy: 0.4222\n",
            "Epoch 20/30\n",
            "86/86 [==============================] - 0s 2ms/sample - loss: 1.9131 - accuracy: 0.4419 - val_loss: 1.7194 - val_accuracy: 0.4222\n",
            "Epoch 21/30\n",
            "86/86 [==============================] - 0s 2ms/sample - loss: 1.8811 - accuracy: 0.4535 - val_loss: 1.6999 - val_accuracy: 0.4222\n",
            "Epoch 22/30\n",
            "86/86 [==============================] - 0s 2ms/sample - loss: 1.8538 - accuracy: 0.4535 - val_loss: 1.6815 - val_accuracy: 0.4222\n",
            "Epoch 23/30\n",
            "86/86 [==============================] - 0s 2ms/sample - loss: 1.8249 - accuracy: 0.4535 - val_loss: 1.6637 - val_accuracy: 0.4222\n",
            "Epoch 24/30\n",
            "86/86 [==============================] - 0s 2ms/sample - loss: 1.7980 - accuracy: 0.4767 - val_loss: 1.6471 - val_accuracy: 0.4444\n",
            "Epoch 25/30\n",
            "86/86 [==============================] - 0s 2ms/sample - loss: 1.7720 - accuracy: 0.4884 - val_loss: 1.6314 - val_accuracy: 0.4444\n",
            "Epoch 26/30\n",
            "86/86 [==============================] - 0s 2ms/sample - loss: 1.7477 - accuracy: 0.5000 - val_loss: 1.6160 - val_accuracy: 0.4444\n",
            "Epoch 27/30\n",
            "86/86 [==============================] - 0s 2ms/sample - loss: 1.7240 - accuracy: 0.5000 - val_loss: 1.6007 - val_accuracy: 0.4667\n",
            "Epoch 28/30\n",
            "86/86 [==============================] - 0s 2ms/sample - loss: 1.7005 - accuracy: 0.5116 - val_loss: 1.5860 - val_accuracy: 0.4667\n",
            "Epoch 29/30\n",
            "86/86 [==============================] - 0s 2ms/sample - loss: 1.6790 - accuracy: 0.5116 - val_loss: 1.5722 - val_accuracy: 0.4667\n",
            "Epoch 30/30\n",
            "86/86 [==============================] - 0s 2ms/sample - loss: 1.6567 - accuracy: 0.5116 - val_loss: 1.5595 - val_accuracy: 0.4667\n",
            "Train on 86 samples, validate on 45 samples\n",
            "Epoch 1/30\n",
            "86/86 [==============================] - 0s 6ms/sample - loss: 2.5248 - accuracy: 0.3605 - val_loss: 3.2653 - val_accuracy: 0.2667\n",
            "Epoch 2/30\n",
            "86/86 [==============================] - 0s 2ms/sample - loss: 2.4464 - accuracy: 0.3605 - val_loss: 3.1530 - val_accuracy: 0.2667\n",
            "Epoch 3/30\n",
            "86/86 [==============================] - 0s 2ms/sample - loss: 2.3697 - accuracy: 0.3605 - val_loss: 3.0444 - val_accuracy: 0.2667\n",
            "Epoch 4/30\n",
            "86/86 [==============================] - 0s 2ms/sample - loss: 2.2950 - accuracy: 0.3605 - val_loss: 2.9411 - val_accuracy: 0.2667\n",
            "Epoch 5/30\n",
            "86/86 [==============================] - 0s 2ms/sample - loss: 2.2228 - accuracy: 0.3605 - val_loss: 2.8428 - val_accuracy: 0.2667\n",
            "Epoch 6/30\n",
            "86/86 [==============================] - 0s 2ms/sample - loss: 2.1512 - accuracy: 0.3837 - val_loss: 2.7380 - val_accuracy: 0.2667\n",
            "Epoch 7/30\n",
            "86/86 [==============================] - 0s 2ms/sample - loss: 2.0807 - accuracy: 0.3837 - val_loss: 2.6417 - val_accuracy: 0.2667\n",
            "Epoch 8/30\n",
            "86/86 [==============================] - 0s 2ms/sample - loss: 2.0136 - accuracy: 0.3837 - val_loss: 2.5412 - val_accuracy: 0.2667\n",
            "Epoch 9/30\n",
            "86/86 [==============================] - 0s 2ms/sample - loss: 1.9467 - accuracy: 0.3837 - val_loss: 2.4525 - val_accuracy: 0.2667\n",
            "Epoch 10/30\n",
            "86/86 [==============================] - 0s 2ms/sample - loss: 1.8826 - accuracy: 0.3837 - val_loss: 2.3600 - val_accuracy: 0.2889\n",
            "Epoch 11/30\n",
            "86/86 [==============================] - 0s 2ms/sample - loss: 1.8209 - accuracy: 0.4070 - val_loss: 2.2677 - val_accuracy: 0.2889\n",
            "Epoch 12/30\n",
            "86/86 [==============================] - 0s 2ms/sample - loss: 1.7591 - accuracy: 0.4186 - val_loss: 2.1877 - val_accuracy: 0.2889\n",
            "Epoch 13/30\n",
            "86/86 [==============================] - 0s 2ms/sample - loss: 1.7012 - accuracy: 0.4186 - val_loss: 2.1116 - val_accuracy: 0.2889\n",
            "Epoch 14/30\n",
            "86/86 [==============================] - 0s 2ms/sample - loss: 1.6456 - accuracy: 0.4186 - val_loss: 2.0250 - val_accuracy: 0.2889\n",
            "Epoch 15/30\n",
            "86/86 [==============================] - 0s 2ms/sample - loss: 1.5911 - accuracy: 0.4302 - val_loss: 1.9530 - val_accuracy: 0.2889\n",
            "Epoch 16/30\n",
            "86/86 [==============================] - 0s 2ms/sample - loss: 1.5403 - accuracy: 0.4419 - val_loss: 1.8784 - val_accuracy: 0.2889\n",
            "Epoch 17/30\n",
            "86/86 [==============================] - 0s 2ms/sample - loss: 1.4914 - accuracy: 0.4419 - val_loss: 1.8048 - val_accuracy: 0.2889\n",
            "Epoch 18/30\n",
            "86/86 [==============================] - 0s 2ms/sample - loss: 1.4448 - accuracy: 0.4419 - val_loss: 1.7407 - val_accuracy: 0.2889\n",
            "Epoch 19/30\n",
            "86/86 [==============================] - 0s 2ms/sample - loss: 1.4012 - accuracy: 0.4419 - val_loss: 1.6809 - val_accuracy: 0.2889\n",
            "Epoch 20/30\n",
            "86/86 [==============================] - 0s 2ms/sample - loss: 1.3604 - accuracy: 0.4419 - val_loss: 1.6238 - val_accuracy: 0.2889\n",
            "Epoch 21/30\n",
            "86/86 [==============================] - 0s 2ms/sample - loss: 1.3223 - accuracy: 0.4419 - val_loss: 1.5695 - val_accuracy: 0.2889\n",
            "Epoch 22/30\n",
            "86/86 [==============================] - 0s 2ms/sample - loss: 1.2872 - accuracy: 0.4535 - val_loss: 1.5218 - val_accuracy: 0.2889\n",
            "Epoch 23/30\n",
            "86/86 [==============================] - 0s 2ms/sample - loss: 1.2553 - accuracy: 0.4651 - val_loss: 1.4772 - val_accuracy: 0.3333\n",
            "Epoch 24/30\n",
            "86/86 [==============================] - 0s 2ms/sample - loss: 1.2257 - accuracy: 0.4651 - val_loss: 1.4365 - val_accuracy: 0.3333\n",
            "Epoch 25/30\n",
            "86/86 [==============================] - 0s 2ms/sample - loss: 1.1997 - accuracy: 0.4651 - val_loss: 1.3976 - val_accuracy: 0.3333\n",
            "Epoch 26/30\n",
            "86/86 [==============================] - 0s 2ms/sample - loss: 1.1752 - accuracy: 0.4651 - val_loss: 1.3671 - val_accuracy: 0.3778\n",
            "Epoch 27/30\n",
            "86/86 [==============================] - 0s 2ms/sample - loss: 1.1546 - accuracy: 0.4651 - val_loss: 1.3364 - val_accuracy: 0.3778\n",
            "Epoch 28/30\n",
            "86/86 [==============================] - 0s 2ms/sample - loss: 1.1350 - accuracy: 0.4651 - val_loss: 1.3108 - val_accuracy: 0.3778\n",
            "Epoch 29/30\n",
            "86/86 [==============================] - 0s 2ms/sample - loss: 1.1178 - accuracy: 0.4884 - val_loss: 1.2867 - val_accuracy: 0.4000\n",
            "Epoch 30/30\n",
            "86/86 [==============================] - 0s 2ms/sample - loss: 1.1020 - accuracy: 0.4884 - val_loss: 1.2671 - val_accuracy: 0.4222\n",
            "Train on 86 samples, validate on 45 samples\n",
            "Epoch 1/30\n",
            "86/86 [==============================] - 0s 6ms/sample - loss: 3.0879 - accuracy: 0.3140 - val_loss: 3.8716 - val_accuracy: 0.2889\n",
            "Epoch 2/30\n",
            "86/86 [==============================] - 0s 2ms/sample - loss: 3.0165 - accuracy: 0.3140 - val_loss: 3.7824 - val_accuracy: 0.2889\n",
            "Epoch 3/30\n",
            "86/86 [==============================] - 0s 2ms/sample - loss: 2.9482 - accuracy: 0.3140 - val_loss: 3.6961 - val_accuracy: 0.2889\n",
            "Epoch 4/30\n",
            "86/86 [==============================] - 0s 2ms/sample - loss: 2.8825 - accuracy: 0.3256 - val_loss: 3.6114 - val_accuracy: 0.2889\n",
            "Epoch 5/30\n",
            "86/86 [==============================] - 0s 2ms/sample - loss: 2.8190 - accuracy: 0.3256 - val_loss: 3.5283 - val_accuracy: 0.2889\n",
            "Epoch 6/30\n",
            "86/86 [==============================] - 0s 2ms/sample - loss: 2.7566 - accuracy: 0.3256 - val_loss: 3.4461 - val_accuracy: 0.3111\n",
            "Epoch 7/30\n",
            "86/86 [==============================] - 0s 2ms/sample - loss: 2.6957 - accuracy: 0.3256 - val_loss: 3.3698 - val_accuracy: 0.3111\n",
            "Epoch 8/30\n",
            "86/86 [==============================] - 0s 2ms/sample - loss: 2.6360 - accuracy: 0.3256 - val_loss: 3.2942 - val_accuracy: 0.3111\n",
            "Epoch 9/30\n",
            "86/86 [==============================] - 0s 2ms/sample - loss: 2.5777 - accuracy: 0.3256 - val_loss: 3.2196 - val_accuracy: 0.3111\n",
            "Epoch 10/30\n",
            "86/86 [==============================] - 0s 2ms/sample - loss: 2.5212 - accuracy: 0.3256 - val_loss: 3.1481 - val_accuracy: 0.3111\n",
            "Epoch 11/30\n",
            "86/86 [==============================] - 0s 2ms/sample - loss: 2.4673 - accuracy: 0.3256 - val_loss: 3.0712 - val_accuracy: 0.3111\n",
            "Epoch 12/30\n",
            "86/86 [==============================] - 0s 2ms/sample - loss: 2.4147 - accuracy: 0.3140 - val_loss: 3.0042 - val_accuracy: 0.3111\n",
            "Epoch 13/30\n",
            "86/86 [==============================] - 0s 2ms/sample - loss: 2.3630 - accuracy: 0.3140 - val_loss: 2.9379 - val_accuracy: 0.3111\n",
            "Epoch 14/30\n",
            "86/86 [==============================] - 0s 2ms/sample - loss: 2.3156 - accuracy: 0.3372 - val_loss: 2.8717 - val_accuracy: 0.3111\n",
            "Epoch 15/30\n",
            "86/86 [==============================] - 0s 2ms/sample - loss: 2.2653 - accuracy: 0.3372 - val_loss: 2.8066 - val_accuracy: 0.3111\n",
            "Epoch 16/30\n",
            "86/86 [==============================] - 0s 2ms/sample - loss: 2.2183 - accuracy: 0.3372 - val_loss: 2.7433 - val_accuracy: 0.3111\n",
            "Epoch 17/30\n",
            "86/86 [==============================] - 0s 2ms/sample - loss: 2.1731 - accuracy: 0.3488 - val_loss: 2.6831 - val_accuracy: 0.3111\n",
            "Epoch 18/30\n",
            "86/86 [==============================] - 0s 2ms/sample - loss: 2.1293 - accuracy: 0.3721 - val_loss: 2.6264 - val_accuracy: 0.3111\n",
            "Epoch 19/30\n",
            "86/86 [==============================] - 0s 2ms/sample - loss: 2.0866 - accuracy: 0.3721 - val_loss: 2.5631 - val_accuracy: 0.3111\n",
            "Epoch 20/30\n",
            "86/86 [==============================] - 0s 2ms/sample - loss: 2.0447 - accuracy: 0.3721 - val_loss: 2.5087 - val_accuracy: 0.3111\n",
            "Epoch 21/30\n",
            "86/86 [==============================] - 0s 2ms/sample - loss: 2.0047 - accuracy: 0.3721 - val_loss: 2.4554 - val_accuracy: 0.3111\n",
            "Epoch 22/30\n",
            "86/86 [==============================] - 0s 2ms/sample - loss: 1.9658 - accuracy: 0.3837 - val_loss: 2.4040 - val_accuracy: 0.3111\n",
            "Epoch 23/30\n",
            "86/86 [==============================] - 0s 2ms/sample - loss: 1.9282 - accuracy: 0.3953 - val_loss: 2.3542 - val_accuracy: 0.3111\n",
            "Epoch 24/30\n",
            "86/86 [==============================] - 0s 2ms/sample - loss: 1.8923 - accuracy: 0.4186 - val_loss: 2.3059 - val_accuracy: 0.3111\n",
            "Epoch 25/30\n",
            "86/86 [==============================] - 0s 2ms/sample - loss: 1.8585 - accuracy: 0.4302 - val_loss: 2.2568 - val_accuracy: 0.3111\n",
            "Epoch 26/30\n",
            "86/86 [==============================] - 0s 2ms/sample - loss: 1.8245 - accuracy: 0.4302 - val_loss: 2.2103 - val_accuracy: 0.3111\n",
            "Epoch 27/30\n",
            "86/86 [==============================] - 0s 2ms/sample - loss: 1.7914 - accuracy: 0.4302 - val_loss: 2.1670 - val_accuracy: 0.3111\n",
            "Epoch 28/30\n",
            "86/86 [==============================] - 0s 2ms/sample - loss: 1.7601 - accuracy: 0.4302 - val_loss: 2.1249 - val_accuracy: 0.3111\n",
            "Epoch 29/30\n",
            "86/86 [==============================] - 0s 2ms/sample - loss: 1.7306 - accuracy: 0.4302 - val_loss: 2.0872 - val_accuracy: 0.3111\n",
            "Epoch 30/30\n",
            "86/86 [==============================] - 0s 2ms/sample - loss: 1.7025 - accuracy: 0.4302 - val_loss: 2.0432 - val_accuracy: 0.3111\n",
            "Train on 86 samples, validate on 45 samples\n",
            "Epoch 1/30\n",
            "86/86 [==============================] - 0s 5ms/sample - loss: 3.2579 - accuracy: 0.3023 - val_loss: 2.1126 - val_accuracy: 0.2889\n",
            "Epoch 2/30\n",
            "86/86 [==============================] - 0s 2ms/sample - loss: 3.1800 - accuracy: 0.3023 - val_loss: 2.0677 - val_accuracy: 0.2889\n",
            "Epoch 3/30\n",
            "86/86 [==============================] - 0s 2ms/sample - loss: 3.1057 - accuracy: 0.3023 - val_loss: 2.0266 - val_accuracy: 0.3111\n",
            "Epoch 4/30\n",
            "86/86 [==============================] - 0s 2ms/sample - loss: 3.0343 - accuracy: 0.3023 - val_loss: 1.9880 - val_accuracy: 0.3111\n",
            "Epoch 5/30\n",
            "86/86 [==============================] - 0s 2ms/sample - loss: 2.9644 - accuracy: 0.2907 - val_loss: 1.9484 - val_accuracy: 0.3111\n",
            "Epoch 6/30\n",
            "86/86 [==============================] - 0s 2ms/sample - loss: 2.8941 - accuracy: 0.2907 - val_loss: 1.9088 - val_accuracy: 0.3111\n",
            "Epoch 7/30\n",
            "86/86 [==============================] - 0s 2ms/sample - loss: 2.8271 - accuracy: 0.2907 - val_loss: 1.8731 - val_accuracy: 0.3111\n",
            "Epoch 8/30\n",
            "86/86 [==============================] - 0s 2ms/sample - loss: 2.7616 - accuracy: 0.3023 - val_loss: 1.8428 - val_accuracy: 0.3111\n",
            "Epoch 9/30\n",
            "86/86 [==============================] - 0s 2ms/sample - loss: 2.6978 - accuracy: 0.3023 - val_loss: 1.8065 - val_accuracy: 0.3111\n",
            "Epoch 10/30\n",
            "86/86 [==============================] - 0s 2ms/sample - loss: 2.6342 - accuracy: 0.3023 - val_loss: 1.7740 - val_accuracy: 0.3333\n",
            "Epoch 11/30\n",
            "86/86 [==============================] - 0s 2ms/sample - loss: 2.5753 - accuracy: 0.3023 - val_loss: 1.7441 - val_accuracy: 0.3556\n",
            "Epoch 12/30\n",
            "86/86 [==============================] - 0s 2ms/sample - loss: 2.5156 - accuracy: 0.3023 - val_loss: 1.7137 - val_accuracy: 0.3556\n",
            "Epoch 13/30\n",
            "86/86 [==============================] - 0s 2ms/sample - loss: 2.4582 - accuracy: 0.3140 - val_loss: 1.6876 - val_accuracy: 0.3556\n",
            "Epoch 14/30\n",
            "86/86 [==============================] - 0s 2ms/sample - loss: 2.4058 - accuracy: 0.3256 - val_loss: 1.6577 - val_accuracy: 0.3556\n",
            "Epoch 15/30\n",
            "86/86 [==============================] - 0s 2ms/sample - loss: 2.3515 - accuracy: 0.3256 - val_loss: 1.6340 - val_accuracy: 0.3556\n",
            "Epoch 16/30\n",
            "86/86 [==============================] - 0s 2ms/sample - loss: 2.3002 - accuracy: 0.3256 - val_loss: 1.6090 - val_accuracy: 0.3556\n",
            "Epoch 17/30\n",
            "86/86 [==============================] - 0s 2ms/sample - loss: 2.2501 - accuracy: 0.3140 - val_loss: 1.5844 - val_accuracy: 0.3556\n",
            "Epoch 18/30\n",
            "86/86 [==============================] - 0s 2ms/sample - loss: 2.2012 - accuracy: 0.3140 - val_loss: 1.5630 - val_accuracy: 0.3778\n",
            "Epoch 19/30\n",
            "86/86 [==============================] - 0s 2ms/sample - loss: 2.1550 - accuracy: 0.3140 - val_loss: 1.5417 - val_accuracy: 0.3778\n",
            "Epoch 20/30\n",
            "86/86 [==============================] - 0s 2ms/sample - loss: 2.1116 - accuracy: 0.3372 - val_loss: 1.5210 - val_accuracy: 0.3556\n",
            "Epoch 21/30\n",
            "86/86 [==============================] - 0s 2ms/sample - loss: 2.0658 - accuracy: 0.3372 - val_loss: 1.5018 - val_accuracy: 0.3556\n",
            "Epoch 22/30\n",
            "86/86 [==============================] - 0s 2ms/sample - loss: 2.0239 - accuracy: 0.3488 - val_loss: 1.4841 - val_accuracy: 0.3556\n",
            "Epoch 23/30\n",
            "86/86 [==============================] - 0s 2ms/sample - loss: 1.9849 - accuracy: 0.3488 - val_loss: 1.4666 - val_accuracy: 0.3556\n",
            "Epoch 24/30\n",
            "86/86 [==============================] - 0s 2ms/sample - loss: 1.9435 - accuracy: 0.3488 - val_loss: 1.4506 - val_accuracy: 0.3556\n",
            "Epoch 25/30\n",
            "86/86 [==============================] - 0s 2ms/sample - loss: 1.9070 - accuracy: 0.3372 - val_loss: 1.4349 - val_accuracy: 0.3556\n",
            "Epoch 26/30\n",
            "86/86 [==============================] - 0s 2ms/sample - loss: 1.8690 - accuracy: 0.3605 - val_loss: 1.4196 - val_accuracy: 0.3556\n",
            "Epoch 27/30\n",
            "86/86 [==============================] - 0s 2ms/sample - loss: 1.8334 - accuracy: 0.3837 - val_loss: 1.4072 - val_accuracy: 0.3556\n",
            "Epoch 28/30\n",
            "86/86 [==============================] - 0s 2ms/sample - loss: 1.7993 - accuracy: 0.3837 - val_loss: 1.3936 - val_accuracy: 0.3556\n",
            "Epoch 29/30\n",
            "86/86 [==============================] - 0s 2ms/sample - loss: 1.7655 - accuracy: 0.3837 - val_loss: 1.3823 - val_accuracy: 0.3778\n",
            "Epoch 30/30\n",
            "86/86 [==============================] - 0s 2ms/sample - loss: 1.7338 - accuracy: 0.3721 - val_loss: 1.3700 - val_accuracy: 0.3778\n"
          ],
          "name": "stdout"
        },
        {
          "output_type": "display_data",
          "data": {
            "text/html": [
              "<span style=\"color:#4527A0\"><h1 style=\"font-size:18px\">Trial complete</h1></span>"
            ],
            "text/plain": [
              "<IPython.core.display.HTML object>"
            ]
          },
          "metadata": {
            "tags": []
          }
        },
        {
          "output_type": "display_data",
          "data": {
            "text/html": [
              "<span style=\"color:#4527A0\"><h1 style=\"font-size:18px\">Trial summary</h1></span>"
            ],
            "text/plain": [
              "<IPython.core.display.HTML object>"
            ]
          },
          "metadata": {
            "tags": []
          }
        },
        {
          "output_type": "display_data",
          "data": {
            "text/html": [
              "<span style=\"color:#7E57C2\"><h2 style=\"font-size:16px\">Hp values:</h2></span>"
            ],
            "text/plain": [
              "<IPython.core.display.HTML object>"
            ]
          },
          "metadata": {
            "tags": []
          }
        },
        {
          "output_type": "display_data",
          "data": {
            "text/html": [
              "<span style=\"color:cyan\"> |-activation: linear</span>"
            ],
            "text/plain": [
              "<IPython.core.display.HTML object>"
            ]
          },
          "metadata": {
            "tags": []
          }
        },
        {
          "output_type": "display_data",
          "data": {
            "text/html": [
              "<span style=\"color:blue\"> |-drop_rate: 0.0</span>"
            ],
            "text/plain": [
              "<IPython.core.display.HTML object>"
            ]
          },
          "metadata": {
            "tags": []
          }
        },
        {
          "output_type": "display_data",
          "data": {
            "text/html": [
              "<span style=\"color:cyan\"> |-learning_rate: 0.0001</span>"
            ],
            "text/plain": [
              "<IPython.core.display.HTML object>"
            ]
          },
          "metadata": {
            "tags": []
          }
        },
        {
          "output_type": "display_data",
          "data": {
            "text/html": [
              "<span style=\"color:blue\"> |-units: 7</span>"
            ],
            "text/plain": [
              "<IPython.core.display.HTML object>"
            ]
          },
          "metadata": {
            "tags": []
          }
        },
        {
          "output_type": "display_data",
          "data": {
            "text/html": [
              "<span style=\"color:cyan\"> |-weight_init: lecun_uniform</span>"
            ],
            "text/plain": [
              "<IPython.core.display.HTML object>"
            ]
          },
          "metadata": {
            "tags": []
          }
        },
        {
          "output_type": "display_data",
          "data": {
            "text/html": [
              "<span style=\"color:cyan\"> |-Score: 0.4000000059604645</span>"
            ],
            "text/plain": [
              "<IPython.core.display.HTML object>"
            ]
          },
          "metadata": {
            "tags": []
          }
        },
        {
          "output_type": "display_data",
          "data": {
            "text/html": [
              "<span style=\"color:cyan\"> |-Best step: 0</span>"
            ],
            "text/plain": [
              "<IPython.core.display.HTML object>"
            ]
          },
          "metadata": {
            "tags": []
          }
        },
        {
          "output_type": "stream",
          "text": [
            "Train on 86 samples, validate on 45 samples\n",
            "Epoch 1/30\n",
            "86/86 [==============================] - 1s 6ms/sample - loss: 1.1261 - accuracy: 0.2907 - val_loss: 1.1100 - val_accuracy: 0.4222\n",
            "Epoch 2/30\n",
            "86/86 [==============================] - 0s 2ms/sample - loss: 1.0300 - accuracy: 0.4651 - val_loss: 1.0832 - val_accuracy: 0.4667\n",
            "Epoch 3/30\n",
            "86/86 [==============================] - 0s 2ms/sample - loss: 0.9987 - accuracy: 0.5930 - val_loss: 1.0588 - val_accuracy: 0.4889\n",
            "Epoch 4/30\n",
            "86/86 [==============================] - 0s 2ms/sample - loss: 0.9777 - accuracy: 0.5465 - val_loss: 1.0381 - val_accuracy: 0.5333\n",
            "Epoch 5/30\n",
            "86/86 [==============================] - 0s 2ms/sample - loss: 0.9674 - accuracy: 0.6279 - val_loss: 1.0303 - val_accuracy: 0.5556\n",
            "Epoch 6/30\n",
            "86/86 [==============================] - 0s 2ms/sample - loss: 0.9257 - accuracy: 0.6047 - val_loss: 1.0267 - val_accuracy: 0.5556\n",
            "Epoch 7/30\n",
            "86/86 [==============================] - 0s 2ms/sample - loss: 0.9515 - accuracy: 0.5814 - val_loss: 1.0128 - val_accuracy: 0.5333\n",
            "Epoch 8/30\n",
            "86/86 [==============================] - 0s 2ms/sample - loss: 0.9036 - accuracy: 0.6512 - val_loss: 1.0015 - val_accuracy: 0.5111\n",
            "Epoch 9/30\n",
            "86/86 [==============================] - 0s 2ms/sample - loss: 0.9114 - accuracy: 0.5930 - val_loss: 0.9990 - val_accuracy: 0.4889\n",
            "Epoch 10/30\n",
            "86/86 [==============================] - 0s 2ms/sample - loss: 0.9372 - accuracy: 0.5814 - val_loss: 0.9906 - val_accuracy: 0.5111\n",
            "Epoch 11/30\n",
            "86/86 [==============================] - 0s 2ms/sample - loss: 0.8923 - accuracy: 0.6744 - val_loss: 1.0000 - val_accuracy: 0.5111\n",
            "Epoch 12/30\n",
            "86/86 [==============================] - 0s 2ms/sample - loss: 0.8578 - accuracy: 0.6512 - val_loss: 0.9960 - val_accuracy: 0.5111\n",
            "Epoch 13/30\n",
            "86/86 [==============================] - 0s 2ms/sample - loss: 0.9003 - accuracy: 0.6279 - val_loss: 0.9988 - val_accuracy: 0.5111\n",
            "Epoch 14/30\n",
            "86/86 [==============================] - 0s 2ms/sample - loss: 0.8661 - accuracy: 0.6279 - val_loss: 0.9930 - val_accuracy: 0.5333\n",
            "Epoch 15/30\n",
            "86/86 [==============================] - 0s 2ms/sample - loss: 0.8590 - accuracy: 0.6279 - val_loss: 0.9864 - val_accuracy: 0.5333\n",
            "Epoch 16/30\n",
            "86/86 [==============================] - 0s 2ms/sample - loss: 0.9099 - accuracy: 0.6512 - val_loss: 0.9838 - val_accuracy: 0.5556\n",
            "Epoch 17/30\n",
            "86/86 [==============================] - 0s 2ms/sample - loss: 0.8684 - accuracy: 0.6512 - val_loss: 0.9822 - val_accuracy: 0.5556\n",
            "Epoch 18/30\n",
            "86/86 [==============================] - 0s 2ms/sample - loss: 0.8985 - accuracy: 0.6628 - val_loss: 0.9772 - val_accuracy: 0.5333\n",
            "Epoch 19/30\n",
            "86/86 [==============================] - 0s 2ms/sample - loss: 0.8816 - accuracy: 0.6279 - val_loss: 0.9797 - val_accuracy: 0.5111\n",
            "Epoch 20/30\n",
            "86/86 [==============================] - 0s 2ms/sample - loss: 0.8747 - accuracy: 0.6395 - val_loss: 0.9997 - val_accuracy: 0.4889\n",
            "Epoch 21/30\n",
            "86/86 [==============================] - 0s 2ms/sample - loss: 0.8867 - accuracy: 0.5930 - val_loss: 0.9883 - val_accuracy: 0.4889\n",
            "Epoch 22/30\n",
            "86/86 [==============================] - 0s 2ms/sample - loss: 0.8456 - accuracy: 0.6512 - val_loss: 0.9872 - val_accuracy: 0.5111\n",
            "Epoch 23/30\n",
            "86/86 [==============================] - 0s 2ms/sample - loss: 0.9115 - accuracy: 0.6395 - val_loss: 0.9794 - val_accuracy: 0.5111\n",
            "Epoch 24/30\n",
            "86/86 [==============================] - 0s 2ms/sample - loss: 0.8710 - accuracy: 0.6395 - val_loss: 0.9694 - val_accuracy: 0.5111\n",
            "Epoch 25/30\n",
            "86/86 [==============================] - 0s 2ms/sample - loss: 0.8815 - accuracy: 0.6512 - val_loss: 0.9738 - val_accuracy: 0.5111\n",
            "Epoch 26/30\n",
            "86/86 [==============================] - 0s 2ms/sample - loss: 0.8249 - accuracy: 0.6279 - val_loss: 0.9703 - val_accuracy: 0.5111\n",
            "Epoch 27/30\n",
            "86/86 [==============================] - 0s 2ms/sample - loss: 0.8625 - accuracy: 0.6395 - val_loss: 0.9796 - val_accuracy: 0.5111\n",
            "Epoch 28/30\n",
            "86/86 [==============================] - 0s 2ms/sample - loss: 0.8289 - accuracy: 0.6279 - val_loss: 0.9876 - val_accuracy: 0.4667\n",
            "Epoch 29/30\n",
            "86/86 [==============================] - 0s 2ms/sample - loss: 0.9238 - accuracy: 0.6628 - val_loss: 0.9818 - val_accuracy: 0.4667\n",
            "Epoch 30/30\n",
            "86/86 [==============================] - 0s 2ms/sample - loss: 0.8946 - accuracy: 0.6279 - val_loss: 0.9708 - val_accuracy: 0.4889\n",
            "Train on 86 samples, validate on 45 samples\n",
            "Epoch 1/30\n",
            "86/86 [==============================] - 0s 6ms/sample - loss: 1.1236 - accuracy: 0.3140 - val_loss: 1.1138 - val_accuracy: 0.3778\n",
            "Epoch 2/30\n",
            "86/86 [==============================] - 0s 2ms/sample - loss: 1.0183 - accuracy: 0.5116 - val_loss: 1.0795 - val_accuracy: 0.4667\n",
            "Epoch 3/30\n",
            "86/86 [==============================] - 0s 2ms/sample - loss: 1.0157 - accuracy: 0.5000 - val_loss: 1.0587 - val_accuracy: 0.5333\n",
            "Epoch 4/30\n",
            "86/86 [==============================] - 0s 2ms/sample - loss: 0.9884 - accuracy: 0.5698 - val_loss: 1.0492 - val_accuracy: 0.5111\n",
            "Epoch 5/30\n",
            "86/86 [==============================] - 0s 2ms/sample - loss: 0.9628 - accuracy: 0.5465 - val_loss: 1.0332 - val_accuracy: 0.5111\n",
            "Epoch 6/30\n",
            "86/86 [==============================] - 0s 2ms/sample - loss: 0.9173 - accuracy: 0.6279 - val_loss: 1.0176 - val_accuracy: 0.5333\n",
            "Epoch 7/30\n",
            "86/86 [==============================] - 0s 2ms/sample - loss: 0.9706 - accuracy: 0.5930 - val_loss: 1.0184 - val_accuracy: 0.5556\n",
            "Epoch 8/30\n",
            "86/86 [==============================] - 0s 2ms/sample - loss: 0.9367 - accuracy: 0.6512 - val_loss: 1.0129 - val_accuracy: 0.5556\n",
            "Epoch 9/30\n",
            "86/86 [==============================] - 0s 2ms/sample - loss: 0.9105 - accuracy: 0.5930 - val_loss: 1.0166 - val_accuracy: 0.5556\n",
            "Epoch 10/30\n",
            "86/86 [==============================] - 0s 2ms/sample - loss: 0.9226 - accuracy: 0.6047 - val_loss: 1.0034 - val_accuracy: 0.5556\n",
            "Epoch 11/30\n",
            "86/86 [==============================] - 0s 2ms/sample - loss: 0.9187 - accuracy: 0.5930 - val_loss: 1.0043 - val_accuracy: 0.5556\n",
            "Epoch 12/30\n",
            "86/86 [==============================] - 0s 2ms/sample - loss: 0.8550 - accuracy: 0.6395 - val_loss: 1.0092 - val_accuracy: 0.5556\n",
            "Epoch 13/30\n",
            "86/86 [==============================] - 0s 2ms/sample - loss: 0.8841 - accuracy: 0.6279 - val_loss: 1.0114 - val_accuracy: 0.5333\n",
            "Epoch 14/30\n",
            "86/86 [==============================] - 0s 2ms/sample - loss: 0.9244 - accuracy: 0.6047 - val_loss: 0.9973 - val_accuracy: 0.5333\n",
            "Epoch 15/30\n",
            "86/86 [==============================] - 0s 2ms/sample - loss: 0.8852 - accuracy: 0.6395 - val_loss: 0.9999 - val_accuracy: 0.5333\n",
            "Epoch 16/30\n",
            "86/86 [==============================] - 0s 2ms/sample - loss: 0.8840 - accuracy: 0.6163 - val_loss: 0.9987 - val_accuracy: 0.5111\n",
            "Epoch 17/30\n",
            "86/86 [==============================] - 0s 2ms/sample - loss: 0.8520 - accuracy: 0.6860 - val_loss: 0.9960 - val_accuracy: 0.5111\n",
            "Epoch 18/30\n",
            "86/86 [==============================] - 0s 2ms/sample - loss: 0.8623 - accuracy: 0.6047 - val_loss: 0.9939 - val_accuracy: 0.5333\n",
            "Epoch 19/30\n",
            "86/86 [==============================] - 0s 2ms/sample - loss: 0.8783 - accuracy: 0.6279 - val_loss: 0.9869 - val_accuracy: 0.5111\n",
            "Epoch 20/30\n",
            "86/86 [==============================] - 0s 2ms/sample - loss: 0.9003 - accuracy: 0.6279 - val_loss: 0.9930 - val_accuracy: 0.5556\n",
            "Epoch 21/30\n",
            "86/86 [==============================] - 0s 2ms/sample - loss: 0.8905 - accuracy: 0.6395 - val_loss: 0.9951 - val_accuracy: 0.4667\n",
            "Epoch 22/30\n",
            "86/86 [==============================] - 0s 2ms/sample - loss: 0.8879 - accuracy: 0.6512 - val_loss: 0.9870 - val_accuracy: 0.4667\n",
            "Epoch 23/30\n",
            "86/86 [==============================] - 0s 2ms/sample - loss: 0.8484 - accuracy: 0.6628 - val_loss: 0.9889 - val_accuracy: 0.5111\n",
            "Epoch 24/30\n",
            "86/86 [==============================] - 0s 2ms/sample - loss: 0.9122 - accuracy: 0.6395 - val_loss: 0.9881 - val_accuracy: 0.4889\n",
            "Epoch 25/30\n",
            "86/86 [==============================] - 0s 2ms/sample - loss: 0.8633 - accuracy: 0.6163 - val_loss: 0.9908 - val_accuracy: 0.5111\n",
            "Epoch 26/30\n",
            "86/86 [==============================] - 0s 2ms/sample - loss: 0.9023 - accuracy: 0.6279 - val_loss: 0.9931 - val_accuracy: 0.5333\n",
            "Epoch 27/30\n",
            "86/86 [==============================] - 0s 2ms/sample - loss: 0.8301 - accuracy: 0.6860 - val_loss: 0.9848 - val_accuracy: 0.4889\n",
            "Epoch 28/30\n",
            "86/86 [==============================] - 0s 2ms/sample - loss: 0.8940 - accuracy: 0.6163 - val_loss: 0.9854 - val_accuracy: 0.5111\n",
            "Epoch 29/30\n",
            "86/86 [==============================] - 0s 2ms/sample - loss: 0.8876 - accuracy: 0.6628 - val_loss: 0.9965 - val_accuracy: 0.5111\n",
            "Epoch 30/30\n",
            "86/86 [==============================] - 0s 2ms/sample - loss: 0.8434 - accuracy: 0.6628 - val_loss: 0.9951 - val_accuracy: 0.5111\n",
            "Train on 86 samples, validate on 45 samples\n",
            "Epoch 1/30\n",
            "86/86 [==============================] - 1s 6ms/sample - loss: 1.0873 - accuracy: 0.4302 - val_loss: 1.0809 - val_accuracy: 0.4444\n",
            "Epoch 2/30\n",
            "86/86 [==============================] - 0s 2ms/sample - loss: 1.0621 - accuracy: 0.5000 - val_loss: 1.0632 - val_accuracy: 0.4889\n",
            "Epoch 3/30\n",
            "86/86 [==============================] - 0s 2ms/sample - loss: 0.9988 - accuracy: 0.5465 - val_loss: 1.0528 - val_accuracy: 0.4889\n",
            "Epoch 4/30\n",
            "86/86 [==============================] - 0s 2ms/sample - loss: 0.9878 - accuracy: 0.5814 - val_loss: 1.0392 - val_accuracy: 0.4889\n",
            "Epoch 5/30\n",
            "86/86 [==============================] - 0s 2ms/sample - loss: 0.9422 - accuracy: 0.5814 - val_loss: 1.0292 - val_accuracy: 0.5111\n",
            "Epoch 6/30\n",
            "86/86 [==============================] - 0s 2ms/sample - loss: 0.9508 - accuracy: 0.6279 - val_loss: 1.0168 - val_accuracy: 0.4889\n",
            "Epoch 7/30\n",
            "86/86 [==============================] - 0s 2ms/sample - loss: 0.9711 - accuracy: 0.6395 - val_loss: 1.0101 - val_accuracy: 0.4889\n",
            "Epoch 8/30\n",
            "86/86 [==============================] - 0s 2ms/sample - loss: 0.9212 - accuracy: 0.6047 - val_loss: 1.0063 - val_accuracy: 0.4889\n",
            "Epoch 9/30\n",
            "86/86 [==============================] - 0s 2ms/sample - loss: 0.9226 - accuracy: 0.6163 - val_loss: 0.9999 - val_accuracy: 0.4667\n",
            "Epoch 10/30\n",
            "86/86 [==============================] - 0s 2ms/sample - loss: 0.8972 - accuracy: 0.6395 - val_loss: 0.9914 - val_accuracy: 0.4667\n",
            "Epoch 11/30\n",
            "86/86 [==============================] - 0s 2ms/sample - loss: 0.8875 - accuracy: 0.6744 - val_loss: 0.9921 - val_accuracy: 0.4444\n",
            "Epoch 12/30\n",
            "86/86 [==============================] - 0s 2ms/sample - loss: 0.8721 - accuracy: 0.6395 - val_loss: 0.9885 - val_accuracy: 0.4889\n",
            "Epoch 13/30\n",
            "86/86 [==============================] - 0s 2ms/sample - loss: 0.9251 - accuracy: 0.5930 - val_loss: 0.9887 - val_accuracy: 0.4667\n",
            "Epoch 14/30\n",
            "86/86 [==============================] - 0s 2ms/sample - loss: 0.8923 - accuracy: 0.6163 - val_loss: 0.9888 - val_accuracy: 0.4889\n",
            "Epoch 15/30\n",
            "86/86 [==============================] - 0s 2ms/sample - loss: 0.9400 - accuracy: 0.6047 - val_loss: 0.9878 - val_accuracy: 0.5333\n",
            "Epoch 16/30\n",
            "86/86 [==============================] - 0s 2ms/sample - loss: 0.8813 - accuracy: 0.6744 - val_loss: 0.9886 - val_accuracy: 0.5333\n",
            "Epoch 17/30\n",
            "86/86 [==============================] - 0s 2ms/sample - loss: 0.8635 - accuracy: 0.6512 - val_loss: 0.9887 - val_accuracy: 0.5111\n",
            "Epoch 18/30\n",
            "86/86 [==============================] - 0s 2ms/sample - loss: 0.9307 - accuracy: 0.5930 - val_loss: 0.9831 - val_accuracy: 0.5111\n",
            "Epoch 19/30\n",
            "86/86 [==============================] - 0s 2ms/sample - loss: 0.8780 - accuracy: 0.6395 - val_loss: 0.9787 - val_accuracy: 0.5778\n",
            "Epoch 20/30\n",
            "86/86 [==============================] - 0s 2ms/sample - loss: 0.8987 - accuracy: 0.6628 - val_loss: 0.9790 - val_accuracy: 0.5556\n",
            "Epoch 21/30\n",
            "86/86 [==============================] - 0s 2ms/sample - loss: 0.8733 - accuracy: 0.6512 - val_loss: 0.9774 - val_accuracy: 0.6000\n",
            "Epoch 22/30\n",
            "86/86 [==============================] - 0s 2ms/sample - loss: 0.8756 - accuracy: 0.6279 - val_loss: 0.9787 - val_accuracy: 0.6000\n",
            "Epoch 23/30\n",
            "86/86 [==============================] - 0s 2ms/sample - loss: 0.8610 - accuracy: 0.6628 - val_loss: 0.9825 - val_accuracy: 0.5556\n",
            "Epoch 24/30\n",
            "86/86 [==============================] - 0s 2ms/sample - loss: 0.8765 - accuracy: 0.6512 - val_loss: 0.9805 - val_accuracy: 0.6000\n",
            "Epoch 25/30\n",
            "86/86 [==============================] - 0s 2ms/sample - loss: 0.8519 - accuracy: 0.6628 - val_loss: 0.9836 - val_accuracy: 0.5111\n",
            "Epoch 26/30\n",
            "86/86 [==============================] - 0s 2ms/sample - loss: 0.8172 - accuracy: 0.6628 - val_loss: 0.9858 - val_accuracy: 0.5333\n",
            "Epoch 27/30\n",
            "86/86 [==============================] - 0s 2ms/sample - loss: 0.8089 - accuracy: 0.6395 - val_loss: 0.9903 - val_accuracy: 0.5333\n",
            "Epoch 28/30\n",
            "86/86 [==============================] - 0s 2ms/sample - loss: 0.8741 - accuracy: 0.6395 - val_loss: 0.9917 - val_accuracy: 0.5333\n",
            "Epoch 29/30\n",
            "86/86 [==============================] - 0s 2ms/sample - loss: 0.8459 - accuracy: 0.6512 - val_loss: 0.9872 - val_accuracy: 0.5111\n",
            "Epoch 30/30\n",
            "86/86 [==============================] - 0s 2ms/sample - loss: 0.8900 - accuracy: 0.6047 - val_loss: 0.9860 - val_accuracy: 0.5333\n",
            "Train on 86 samples, validate on 45 samples\n",
            "Epoch 1/30\n",
            "86/86 [==============================] - 1s 6ms/sample - loss: 1.1240 - accuracy: 0.3721 - val_loss: 1.0985 - val_accuracy: 0.4000\n",
            "Epoch 2/30\n",
            "86/86 [==============================] - 0s 2ms/sample - loss: 1.0576 - accuracy: 0.4884 - val_loss: 1.0759 - val_accuracy: 0.4889\n",
            "Epoch 3/30\n",
            "86/86 [==============================] - 0s 2ms/sample - loss: 1.0160 - accuracy: 0.6047 - val_loss: 1.0661 - val_accuracy: 0.4889\n",
            "Epoch 4/30\n",
            "86/86 [==============================] - 0s 2ms/sample - loss: 0.9950 - accuracy: 0.5814 - val_loss: 1.0507 - val_accuracy: 0.5333\n",
            "Epoch 5/30\n",
            "86/86 [==============================] - 0s 2ms/sample - loss: 0.9910 - accuracy: 0.5349 - val_loss: 1.0348 - val_accuracy: 0.5111\n",
            "Epoch 6/30\n",
            "86/86 [==============================] - 0s 2ms/sample - loss: 0.9283 - accuracy: 0.6047 - val_loss: 1.0280 - val_accuracy: 0.5111\n",
            "Epoch 7/30\n",
            "86/86 [==============================] - 0s 2ms/sample - loss: 0.9494 - accuracy: 0.5814 - val_loss: 1.0250 - val_accuracy: 0.5556\n",
            "Epoch 8/30\n",
            "86/86 [==============================] - 0s 2ms/sample - loss: 0.9236 - accuracy: 0.6279 - val_loss: 1.0008 - val_accuracy: 0.5333\n",
            "Epoch 9/30\n",
            "86/86 [==============================] - 0s 2ms/sample - loss: 0.8986 - accuracy: 0.5930 - val_loss: 1.0085 - val_accuracy: 0.5333\n",
            "Epoch 10/30\n",
            "86/86 [==============================] - 0s 2ms/sample - loss: 0.9411 - accuracy: 0.6163 - val_loss: 0.9959 - val_accuracy: 0.5778\n",
            "Epoch 11/30\n",
            "86/86 [==============================] - 0s 2ms/sample - loss: 0.8950 - accuracy: 0.5930 - val_loss: 1.0000 - val_accuracy: 0.5778\n",
            "Epoch 12/30\n",
            "86/86 [==============================] - 0s 2ms/sample - loss: 0.9255 - accuracy: 0.6163 - val_loss: 0.9980 - val_accuracy: 0.5556\n",
            "Epoch 13/30\n",
            "86/86 [==============================] - 0s 2ms/sample - loss: 0.8677 - accuracy: 0.6279 - val_loss: 1.0239 - val_accuracy: 0.5556\n",
            "Epoch 14/30\n",
            "86/86 [==============================] - 0s 2ms/sample - loss: 0.8873 - accuracy: 0.6860 - val_loss: 1.0259 - val_accuracy: 0.5556\n",
            "Epoch 15/30\n",
            "86/86 [==============================] - 0s 2ms/sample - loss: 0.9104 - accuracy: 0.6512 - val_loss: 1.0314 - val_accuracy: 0.5556\n",
            "Epoch 16/30\n",
            "86/86 [==============================] - 0s 2ms/sample - loss: 0.8992 - accuracy: 0.6395 - val_loss: 1.0216 - val_accuracy: 0.5556\n",
            "Epoch 17/30\n",
            "86/86 [==============================] - 0s 2ms/sample - loss: 0.9183 - accuracy: 0.6279 - val_loss: 1.0165 - val_accuracy: 0.5556\n",
            "Epoch 18/30\n",
            "86/86 [==============================] - 0s 2ms/sample - loss: 0.8926 - accuracy: 0.6047 - val_loss: 1.0081 - val_accuracy: 0.5556\n",
            "Epoch 19/30\n",
            "86/86 [==============================] - 0s 2ms/sample - loss: 0.8325 - accuracy: 0.6279 - val_loss: 1.0143 - val_accuracy: 0.5556\n",
            "Epoch 20/30\n",
            "86/86 [==============================] - 0s 2ms/sample - loss: 0.8815 - accuracy: 0.6279 - val_loss: 1.0024 - val_accuracy: 0.5111\n",
            "Epoch 21/30\n",
            "86/86 [==============================] - 0s 2ms/sample - loss: 0.8986 - accuracy: 0.6744 - val_loss: 1.0009 - val_accuracy: 0.5333\n",
            "Epoch 22/30\n",
            "86/86 [==============================] - 0s 2ms/sample - loss: 0.9011 - accuracy: 0.5930 - val_loss: 0.9974 - val_accuracy: 0.5111\n",
            "Epoch 23/30\n",
            "86/86 [==============================] - 0s 2ms/sample - loss: 0.9042 - accuracy: 0.6279 - val_loss: 1.0137 - val_accuracy: 0.4889\n",
            "Epoch 24/30\n",
            "86/86 [==============================] - 0s 2ms/sample - loss: 0.9155 - accuracy: 0.6163 - val_loss: 1.0149 - val_accuracy: 0.5111\n",
            "Epoch 25/30\n",
            "86/86 [==============================] - 0s 2ms/sample - loss: 0.8847 - accuracy: 0.6279 - val_loss: 1.0082 - val_accuracy: 0.5111\n",
            "Epoch 26/30\n",
            "86/86 [==============================] - 0s 2ms/sample - loss: 0.9075 - accuracy: 0.6279 - val_loss: 1.0042 - val_accuracy: 0.4889\n",
            "Epoch 27/30\n",
            "86/86 [==============================] - 0s 2ms/sample - loss: 0.8679 - accuracy: 0.6395 - val_loss: 1.0098 - val_accuracy: 0.5333\n",
            "Epoch 28/30\n",
            "86/86 [==============================] - 0s 2ms/sample - loss: 0.9002 - accuracy: 0.6279 - val_loss: 1.0079 - val_accuracy: 0.5333\n",
            "Epoch 29/30\n",
            "86/86 [==============================] - 0s 2ms/sample - loss: 0.9258 - accuracy: 0.5814 - val_loss: 1.0001 - val_accuracy: 0.5111\n",
            "Epoch 30/30\n",
            "86/86 [==============================] - 0s 2ms/sample - loss: 0.8392 - accuracy: 0.6395 - val_loss: 1.0002 - val_accuracy: 0.5111\n",
            "Train on 86 samples, validate on 45 samples\n",
            "Epoch 1/30\n",
            "86/86 [==============================] - 0s 6ms/sample - loss: 1.1285 - accuracy: 0.2907 - val_loss: 1.0851 - val_accuracy: 0.4000\n",
            "Epoch 2/30\n",
            "86/86 [==============================] - 0s 2ms/sample - loss: 1.0704 - accuracy: 0.4535 - val_loss: 1.0575 - val_accuracy: 0.4667\n",
            "Epoch 3/30\n",
            "86/86 [==============================] - 0s 2ms/sample - loss: 1.0530 - accuracy: 0.5233 - val_loss: 1.0373 - val_accuracy: 0.5333\n",
            "Epoch 4/30\n",
            "86/86 [==============================] - 0s 2ms/sample - loss: 1.0088 - accuracy: 0.5814 - val_loss: 1.0236 - val_accuracy: 0.5778\n",
            "Epoch 5/30\n",
            "86/86 [==============================] - 0s 2ms/sample - loss: 1.0138 - accuracy: 0.5116 - val_loss: 1.0109 - val_accuracy: 0.5778\n",
            "Epoch 6/30\n",
            "86/86 [==============================] - 0s 2ms/sample - loss: 1.0116 - accuracy: 0.5698 - val_loss: 1.0079 - val_accuracy: 0.5556\n",
            "Epoch 7/30\n",
            "86/86 [==============================] - 0s 2ms/sample - loss: 0.9723 - accuracy: 0.6163 - val_loss: 1.0021 - val_accuracy: 0.5778\n",
            "Epoch 8/30\n",
            "86/86 [==============================] - 0s 2ms/sample - loss: 0.9715 - accuracy: 0.6163 - val_loss: 0.9950 - val_accuracy: 0.5333\n",
            "Epoch 9/30\n",
            "86/86 [==============================] - 0s 2ms/sample - loss: 0.9503 - accuracy: 0.5000 - val_loss: 0.9930 - val_accuracy: 0.5111\n",
            "Epoch 10/30\n",
            "86/86 [==============================] - 0s 2ms/sample - loss: 0.9188 - accuracy: 0.5814 - val_loss: 0.9963 - val_accuracy: 0.5111\n",
            "Epoch 11/30\n",
            "86/86 [==============================] - 0s 2ms/sample - loss: 0.8922 - accuracy: 0.6163 - val_loss: 0.9915 - val_accuracy: 0.5111\n",
            "Epoch 12/30\n",
            "86/86 [==============================] - 0s 2ms/sample - loss: 0.9193 - accuracy: 0.5930 - val_loss: 0.9969 - val_accuracy: 0.4444\n",
            "Epoch 13/30\n",
            "86/86 [==============================] - 0s 2ms/sample - loss: 0.9173 - accuracy: 0.5930 - val_loss: 0.9889 - val_accuracy: 0.4667\n",
            "Epoch 14/30\n",
            "86/86 [==============================] - 0s 2ms/sample - loss: 0.9162 - accuracy: 0.5814 - val_loss: 0.9848 - val_accuracy: 0.4889\n",
            "Epoch 15/30\n",
            "86/86 [==============================] - 0s 2ms/sample - loss: 0.8616 - accuracy: 0.5930 - val_loss: 0.9870 - val_accuracy: 0.4889\n",
            "Epoch 16/30\n",
            "86/86 [==============================] - 0s 2ms/sample - loss: 0.9490 - accuracy: 0.5698 - val_loss: 0.9801 - val_accuracy: 0.4889\n",
            "Epoch 17/30\n",
            "86/86 [==============================] - 0s 2ms/sample - loss: 0.8999 - accuracy: 0.5930 - val_loss: 0.9806 - val_accuracy: 0.5111\n",
            "Epoch 18/30\n",
            "86/86 [==============================] - 0s 2ms/sample - loss: 0.9403 - accuracy: 0.5465 - val_loss: 0.9733 - val_accuracy: 0.5111\n",
            "Epoch 19/30\n",
            "86/86 [==============================] - 0s 2ms/sample - loss: 0.9124 - accuracy: 0.5930 - val_loss: 0.9704 - val_accuracy: 0.5111\n",
            "Epoch 20/30\n",
            "86/86 [==============================] - 0s 2ms/sample - loss: 0.8375 - accuracy: 0.6628 - val_loss: 0.9750 - val_accuracy: 0.5111\n",
            "Epoch 21/30\n",
            "86/86 [==============================] - 0s 2ms/sample - loss: 0.8956 - accuracy: 0.5930 - val_loss: 0.9722 - val_accuracy: 0.4889\n",
            "Epoch 22/30\n",
            "86/86 [==============================] - 0s 2ms/sample - loss: 0.8712 - accuracy: 0.6047 - val_loss: 0.9749 - val_accuracy: 0.4889\n",
            "Epoch 23/30\n",
            "86/86 [==============================] - 0s 2ms/sample - loss: 0.9143 - accuracy: 0.5698 - val_loss: 0.9772 - val_accuracy: 0.4889\n",
            "Epoch 24/30\n",
            "86/86 [==============================] - 0s 2ms/sample - loss: 0.8729 - accuracy: 0.6279 - val_loss: 0.9768 - val_accuracy: 0.5111\n",
            "Epoch 25/30\n",
            "86/86 [==============================] - 0s 2ms/sample - loss: 0.8563 - accuracy: 0.6512 - val_loss: 0.9867 - val_accuracy: 0.5111\n",
            "Epoch 26/30\n",
            "86/86 [==============================] - 0s 2ms/sample - loss: 0.8262 - accuracy: 0.6628 - val_loss: 0.9886 - val_accuracy: 0.5111\n",
            "Epoch 27/30\n",
            "86/86 [==============================] - 0s 2ms/sample - loss: 0.8490 - accuracy: 0.6047 - val_loss: 0.9865 - val_accuracy: 0.5111\n",
            "Epoch 28/30\n",
            "86/86 [==============================] - 0s 2ms/sample - loss: 0.8117 - accuracy: 0.6047 - val_loss: 0.9953 - val_accuracy: 0.4889\n",
            "Epoch 29/30\n",
            "86/86 [==============================] - 0s 2ms/sample - loss: 0.8775 - accuracy: 0.6395 - val_loss: 0.9955 - val_accuracy: 0.4444\n",
            "Epoch 30/30\n",
            "86/86 [==============================] - 0s 2ms/sample - loss: 0.8363 - accuracy: 0.7093 - val_loss: 0.9955 - val_accuracy: 0.4667\n"
          ],
          "name": "stdout"
        },
        {
          "output_type": "display_data",
          "data": {
            "text/html": [
              "<span style=\"color:#4527A0\"><h1 style=\"font-size:18px\">Trial complete</h1></span>"
            ],
            "text/plain": [
              "<IPython.core.display.HTML object>"
            ]
          },
          "metadata": {
            "tags": []
          }
        },
        {
          "output_type": "display_data",
          "data": {
            "text/html": [
              "<span style=\"color:#4527A0\"><h1 style=\"font-size:18px\">Trial summary</h1></span>"
            ],
            "text/plain": [
              "<IPython.core.display.HTML object>"
            ]
          },
          "metadata": {
            "tags": []
          }
        },
        {
          "output_type": "display_data",
          "data": {
            "text/html": [
              "<span style=\"color:#7E57C2\"><h2 style=\"font-size:16px\">Hp values:</h2></span>"
            ],
            "text/plain": [
              "<IPython.core.display.HTML object>"
            ]
          },
          "metadata": {
            "tags": []
          }
        },
        {
          "output_type": "display_data",
          "data": {
            "text/html": [
              "<span style=\"color:cyan\"> |-activation: tanh</span>"
            ],
            "text/plain": [
              "<IPython.core.display.HTML object>"
            ]
          },
          "metadata": {
            "tags": []
          }
        },
        {
          "output_type": "display_data",
          "data": {
            "text/html": [
              "<span style=\"color:blue\"> |-drop_rate: 0.4</span>"
            ],
            "text/plain": [
              "<IPython.core.display.HTML object>"
            ]
          },
          "metadata": {
            "tags": []
          }
        },
        {
          "output_type": "display_data",
          "data": {
            "text/html": [
              "<span style=\"color:cyan\"> |-learning_rate: 0.001</span>"
            ],
            "text/plain": [
              "<IPython.core.display.HTML object>"
            ]
          },
          "metadata": {
            "tags": []
          }
        },
        {
          "output_type": "display_data",
          "data": {
            "text/html": [
              "<span style=\"color:blue\"> |-units: 5</span>"
            ],
            "text/plain": [
              "<IPython.core.display.HTML object>"
            ]
          },
          "metadata": {
            "tags": []
          }
        },
        {
          "output_type": "display_data",
          "data": {
            "text/html": [
              "<span style=\"color:cyan\"> |-weight_init: uniform</span>"
            ],
            "text/plain": [
              "<IPython.core.display.HTML object>"
            ]
          },
          "metadata": {
            "tags": []
          }
        },
        {
          "output_type": "display_data",
          "data": {
            "text/html": [
              "<span style=\"color:cyan\"> |-Score: 0.5733333826065063</span>"
            ],
            "text/plain": [
              "<IPython.core.display.HTML object>"
            ]
          },
          "metadata": {
            "tags": []
          }
        },
        {
          "output_type": "display_data",
          "data": {
            "text/html": [
              "<span style=\"color:cyan\"> |-Best step: 0</span>"
            ],
            "text/plain": [
              "<IPython.core.display.HTML object>"
            ]
          },
          "metadata": {
            "tags": []
          }
        },
        {
          "output_type": "stream",
          "text": [
            "Train on 86 samples, validate on 45 samples\n",
            "Epoch 1/30\n",
            "86/86 [==============================] - 1s 6ms/sample - loss: 4.0002 - accuracy: 0.4419 - val_loss: 1.8460 - val_accuracy: 0.4000\n",
            "Epoch 2/30\n",
            "86/86 [==============================] - 0s 2ms/sample - loss: 1.8509 - accuracy: 0.5233 - val_loss: 1.1524 - val_accuracy: 0.5111\n",
            "Epoch 3/30\n",
            "86/86 [==============================] - 0s 2ms/sample - loss: 1.3514 - accuracy: 0.5233 - val_loss: 1.0523 - val_accuracy: 0.4889\n",
            "Epoch 4/30\n",
            "86/86 [==============================] - 0s 2ms/sample - loss: 1.1476 - accuracy: 0.4535 - val_loss: 1.0087 - val_accuracy: 0.4889\n",
            "Epoch 5/30\n",
            "86/86 [==============================] - 0s 2ms/sample - loss: 1.0953 - accuracy: 0.4535 - val_loss: 0.9801 - val_accuracy: 0.4667\n",
            "Epoch 6/30\n",
            "86/86 [==============================] - 0s 2ms/sample - loss: 0.9724 - accuracy: 0.5116 - val_loss: 0.9805 - val_accuracy: 0.4889\n",
            "Epoch 7/30\n",
            "86/86 [==============================] - 0s 2ms/sample - loss: 0.9455 - accuracy: 0.5581 - val_loss: 1.0380 - val_accuracy: 0.5111\n",
            "Epoch 8/30\n",
            "86/86 [==============================] - 0s 2ms/sample - loss: 1.1103 - accuracy: 0.4419 - val_loss: 0.9853 - val_accuracy: 0.5778\n",
            "Epoch 9/30\n",
            "86/86 [==============================] - 0s 2ms/sample - loss: 1.0976 - accuracy: 0.4651 - val_loss: 0.9968 - val_accuracy: 0.4444\n",
            "Epoch 10/30\n",
            "86/86 [==============================] - 0s 2ms/sample - loss: 0.9880 - accuracy: 0.5000 - val_loss: 0.9983 - val_accuracy: 0.5111\n",
            "Epoch 11/30\n",
            "86/86 [==============================] - 0s 2ms/sample - loss: 0.9308 - accuracy: 0.5581 - val_loss: 1.0276 - val_accuracy: 0.4889\n",
            "Epoch 12/30\n",
            "86/86 [==============================] - 0s 2ms/sample - loss: 1.0240 - accuracy: 0.5814 - val_loss: 0.9771 - val_accuracy: 0.5111\n",
            "Epoch 13/30\n",
            "86/86 [==============================] - 0s 2ms/sample - loss: 0.8979 - accuracy: 0.6744 - val_loss: 1.0111 - val_accuracy: 0.4889\n",
            "Epoch 14/30\n",
            "86/86 [==============================] - 0s 2ms/sample - loss: 1.0233 - accuracy: 0.4651 - val_loss: 0.9778 - val_accuracy: 0.5778\n",
            "Epoch 15/30\n",
            "86/86 [==============================] - 0s 2ms/sample - loss: 0.9705 - accuracy: 0.4884 - val_loss: 0.9765 - val_accuracy: 0.5333\n",
            "Epoch 16/30\n",
            "86/86 [==============================] - 0s 2ms/sample - loss: 0.8130 - accuracy: 0.6047 - val_loss: 0.9964 - val_accuracy: 0.5111\n",
            "Epoch 17/30\n",
            "86/86 [==============================] - 0s 2ms/sample - loss: 1.0072 - accuracy: 0.4767 - val_loss: 0.9718 - val_accuracy: 0.5556\n",
            "Epoch 18/30\n",
            "86/86 [==============================] - 0s 2ms/sample - loss: 0.9321 - accuracy: 0.5465 - val_loss: 1.0304 - val_accuracy: 0.4889\n",
            "Epoch 19/30\n",
            "86/86 [==============================] - 0s 2ms/sample - loss: 1.0475 - accuracy: 0.5698 - val_loss: 0.9886 - val_accuracy: 0.4667\n",
            "Epoch 20/30\n",
            "86/86 [==============================] - 0s 2ms/sample - loss: 0.9800 - accuracy: 0.4884 - val_loss: 0.9932 - val_accuracy: 0.5111\n",
            "Epoch 21/30\n",
            "86/86 [==============================] - 0s 2ms/sample - loss: 1.0943 - accuracy: 0.5349 - val_loss: 0.9711 - val_accuracy: 0.5333\n",
            "Epoch 22/30\n",
            "86/86 [==============================] - 0s 2ms/sample - loss: 1.0048 - accuracy: 0.5000 - val_loss: 0.9978 - val_accuracy: 0.4667\n",
            "Epoch 23/30\n",
            "86/86 [==============================] - 0s 2ms/sample - loss: 0.9781 - accuracy: 0.5465 - val_loss: 0.9945 - val_accuracy: 0.5556\n",
            "Epoch 24/30\n",
            "86/86 [==============================] - 0s 2ms/sample - loss: 1.0008 - accuracy: 0.4884 - val_loss: 0.9812 - val_accuracy: 0.5333\n",
            "Epoch 25/30\n",
            "86/86 [==============================] - 0s 2ms/sample - loss: 0.9136 - accuracy: 0.5465 - val_loss: 0.9817 - val_accuracy: 0.5778\n",
            "Epoch 26/30\n",
            "86/86 [==============================] - 0s 2ms/sample - loss: 0.8973 - accuracy: 0.5930 - val_loss: 1.0075 - val_accuracy: 0.5556\n",
            "Epoch 27/30\n",
            "86/86 [==============================] - 0s 2ms/sample - loss: 0.9575 - accuracy: 0.5581 - val_loss: 0.9924 - val_accuracy: 0.5556\n",
            "Epoch 28/30\n",
            "86/86 [==============================] - 0s 2ms/sample - loss: 0.9963 - accuracy: 0.5000 - val_loss: 0.9974 - val_accuracy: 0.4889\n",
            "Epoch 29/30\n",
            "86/86 [==============================] - 0s 2ms/sample - loss: 0.9744 - accuracy: 0.5233 - val_loss: 0.9913 - val_accuracy: 0.5778\n",
            "Epoch 30/30\n",
            "86/86 [==============================] - 0s 2ms/sample - loss: 0.9539 - accuracy: 0.6047 - val_loss: 0.9727 - val_accuracy: 0.5333\n",
            "Train on 86 samples, validate on 45 samples\n",
            "Epoch 1/30\n",
            "86/86 [==============================] - 0s 6ms/sample - loss: 5.2593 - accuracy: 0.3721 - val_loss: 1.5438 - val_accuracy: 0.4000\n",
            "Epoch 2/30\n",
            "86/86 [==============================] - 0s 2ms/sample - loss: 1.7686 - accuracy: 0.4186 - val_loss: 1.3081 - val_accuracy: 0.4889\n",
            "Epoch 3/30\n",
            "86/86 [==============================] - 0s 2ms/sample - loss: 1.7639 - accuracy: 0.5116 - val_loss: 1.0958 - val_accuracy: 0.4889\n",
            "Epoch 4/30\n",
            "86/86 [==============================] - 0s 2ms/sample - loss: 1.2115 - accuracy: 0.4651 - val_loss: 1.0216 - val_accuracy: 0.4889\n",
            "Epoch 5/30\n",
            "86/86 [==============================] - 0s 2ms/sample - loss: 1.0812 - accuracy: 0.5465 - val_loss: 0.9928 - val_accuracy: 0.4667\n",
            "Epoch 6/30\n",
            "86/86 [==============================] - 0s 2ms/sample - loss: 0.9874 - accuracy: 0.4884 - val_loss: 1.0053 - val_accuracy: 0.5111\n",
            "Epoch 7/30\n",
            "86/86 [==============================] - 0s 2ms/sample - loss: 1.0064 - accuracy: 0.5000 - val_loss: 0.9804 - val_accuracy: 0.5333\n",
            "Epoch 8/30\n",
            "86/86 [==============================] - 0s 2ms/sample - loss: 0.9545 - accuracy: 0.5116 - val_loss: 1.0064 - val_accuracy: 0.5556\n",
            "Epoch 9/30\n",
            "86/86 [==============================] - 0s 2ms/sample - loss: 1.0283 - accuracy: 0.5349 - val_loss: 1.0182 - val_accuracy: 0.5333\n",
            "Epoch 10/30\n",
            "86/86 [==============================] - 0s 2ms/sample - loss: 0.9399 - accuracy: 0.5349 - val_loss: 0.9905 - val_accuracy: 0.5333\n",
            "Epoch 11/30\n",
            "86/86 [==============================] - 0s 2ms/sample - loss: 0.9804 - accuracy: 0.5233 - val_loss: 0.9724 - val_accuracy: 0.4889\n",
            "Epoch 12/30\n",
            "86/86 [==============================] - 0s 2ms/sample - loss: 0.9695 - accuracy: 0.5465 - val_loss: 0.9776 - val_accuracy: 0.5333\n",
            "Epoch 13/30\n",
            "86/86 [==============================] - 0s 2ms/sample - loss: 0.9344 - accuracy: 0.5581 - val_loss: 1.0028 - val_accuracy: 0.5111\n",
            "Epoch 14/30\n",
            "86/86 [==============================] - 0s 2ms/sample - loss: 0.9676 - accuracy: 0.6163 - val_loss: 0.9961 - val_accuracy: 0.4889\n",
            "Epoch 15/30\n",
            "86/86 [==============================] - 0s 2ms/sample - loss: 1.0334 - accuracy: 0.5233 - val_loss: 0.9881 - val_accuracy: 0.5111\n",
            "Epoch 16/30\n",
            "86/86 [==============================] - 0s 2ms/sample - loss: 1.0003 - accuracy: 0.5349 - val_loss: 0.9758 - val_accuracy: 0.5556\n",
            "Epoch 17/30\n",
            "86/86 [==============================] - 0s 2ms/sample - loss: 0.9687 - accuracy: 0.5116 - val_loss: 0.9831 - val_accuracy: 0.5556\n",
            "Epoch 18/30\n",
            "86/86 [==============================] - 0s 2ms/sample - loss: 0.8548 - accuracy: 0.6395 - val_loss: 1.0066 - val_accuracy: 0.5111\n",
            "Epoch 19/30\n",
            "86/86 [==============================] - 0s 2ms/sample - loss: 1.0560 - accuracy: 0.5349 - val_loss: 0.9761 - val_accuracy: 0.5778\n",
            "Epoch 20/30\n",
            "86/86 [==============================] - 0s 2ms/sample - loss: 0.9599 - accuracy: 0.4535 - val_loss: 1.0318 - val_accuracy: 0.4222\n",
            "Epoch 21/30\n",
            "86/86 [==============================] - 0s 2ms/sample - loss: 1.0015 - accuracy: 0.4767 - val_loss: 0.9918 - val_accuracy: 0.4889\n",
            "Epoch 22/30\n",
            "86/86 [==============================] - 0s 2ms/sample - loss: 0.9337 - accuracy: 0.5000 - val_loss: 0.9952 - val_accuracy: 0.5778\n",
            "Epoch 23/30\n",
            "86/86 [==============================] - 0s 2ms/sample - loss: 1.0820 - accuracy: 0.3488 - val_loss: 0.9742 - val_accuracy: 0.5333\n",
            "Epoch 24/30\n",
            "86/86 [==============================] - 0s 2ms/sample - loss: 1.0167 - accuracy: 0.4535 - val_loss: 0.9784 - val_accuracy: 0.5333\n",
            "Epoch 25/30\n",
            "86/86 [==============================] - 0s 2ms/sample - loss: 0.9526 - accuracy: 0.5698 - val_loss: 1.0115 - val_accuracy: 0.5111\n",
            "Epoch 26/30\n",
            "86/86 [==============================] - 0s 2ms/sample - loss: 1.0235 - accuracy: 0.4651 - val_loss: 0.9881 - val_accuracy: 0.5111\n",
            "Epoch 27/30\n",
            "86/86 [==============================] - 0s 2ms/sample - loss: 0.9597 - accuracy: 0.5698 - val_loss: 0.9962 - val_accuracy: 0.5333\n",
            "Epoch 28/30\n",
            "86/86 [==============================] - 0s 2ms/sample - loss: 0.9246 - accuracy: 0.5581 - val_loss: 1.0144 - val_accuracy: 0.5333\n",
            "Epoch 29/30\n",
            "86/86 [==============================] - 0s 2ms/sample - loss: 0.9726 - accuracy: 0.5233 - val_loss: 0.9992 - val_accuracy: 0.5556\n",
            "Epoch 30/30\n",
            "86/86 [==============================] - 0s 2ms/sample - loss: 0.9565 - accuracy: 0.6163 - val_loss: 1.0040 - val_accuracy: 0.5111\n",
            "Train on 86 samples, validate on 45 samples\n",
            "Epoch 1/30\n",
            "86/86 [==============================] - 0s 6ms/sample - loss: 6.2061 - accuracy: 0.3605 - val_loss: 1.6156 - val_accuracy: 0.4222\n",
            "Epoch 2/30\n",
            "86/86 [==============================] - 0s 2ms/sample - loss: 2.8640 - accuracy: 0.5000 - val_loss: 1.1844 - val_accuracy: 0.4889\n",
            "Epoch 3/30\n",
            "86/86 [==============================] - 0s 2ms/sample - loss: 1.6979 - accuracy: 0.5116 - val_loss: 1.0402 - val_accuracy: 0.4222\n",
            "Epoch 4/30\n",
            "86/86 [==============================] - 0s 2ms/sample - loss: 1.4448 - accuracy: 0.4302 - val_loss: 1.0070 - val_accuracy: 0.5111\n",
            "Epoch 5/30\n",
            "86/86 [==============================] - 0s 2ms/sample - loss: 1.0092 - accuracy: 0.4419 - val_loss: 0.9983 - val_accuracy: 0.5333\n",
            "Epoch 6/30\n",
            "86/86 [==============================] - 0s 2ms/sample - loss: 1.0998 - accuracy: 0.4767 - val_loss: 0.9941 - val_accuracy: 0.4889\n",
            "Epoch 7/30\n",
            "86/86 [==============================] - 0s 2ms/sample - loss: 1.0550 - accuracy: 0.5349 - val_loss: 0.9923 - val_accuracy: 0.4889\n",
            "Epoch 8/30\n",
            "86/86 [==============================] - 0s 2ms/sample - loss: 0.9680 - accuracy: 0.4767 - val_loss: 0.9878 - val_accuracy: 0.5778\n",
            "Epoch 9/30\n",
            "86/86 [==============================] - 0s 2ms/sample - loss: 0.9869 - accuracy: 0.5349 - val_loss: 0.9855 - val_accuracy: 0.5556\n",
            "Epoch 10/30\n",
            "86/86 [==============================] - 0s 2ms/sample - loss: 0.9931 - accuracy: 0.5116 - val_loss: 0.9766 - val_accuracy: 0.5778\n",
            "Epoch 11/30\n",
            "86/86 [==============================] - 0s 2ms/sample - loss: 1.0173 - accuracy: 0.4884 - val_loss: 0.9876 - val_accuracy: 0.5111\n",
            "Epoch 12/30\n",
            "86/86 [==============================] - 0s 2ms/sample - loss: 0.9288 - accuracy: 0.5233 - val_loss: 0.9842 - val_accuracy: 0.5333\n",
            "Epoch 13/30\n",
            "86/86 [==============================] - 0s 2ms/sample - loss: 0.9012 - accuracy: 0.6279 - val_loss: 0.9942 - val_accuracy: 0.4889\n",
            "Epoch 14/30\n",
            "86/86 [==============================] - 0s 2ms/sample - loss: 1.0550 - accuracy: 0.5000 - val_loss: 1.0186 - val_accuracy: 0.5333\n",
            "Epoch 15/30\n",
            "86/86 [==============================] - 0s 2ms/sample - loss: 0.9474 - accuracy: 0.5814 - val_loss: 0.9994 - val_accuracy: 0.5111\n",
            "Epoch 16/30\n",
            "86/86 [==============================] - 0s 2ms/sample - loss: 0.9697 - accuracy: 0.5698 - val_loss: 0.9827 - val_accuracy: 0.5333\n",
            "Epoch 17/30\n",
            "86/86 [==============================] - 0s 2ms/sample - loss: 0.9887 - accuracy: 0.5000 - val_loss: 0.9745 - val_accuracy: 0.5111\n",
            "Epoch 18/30\n",
            "86/86 [==============================] - 0s 2ms/sample - loss: 0.9420 - accuracy: 0.5349 - val_loss: 1.0091 - val_accuracy: 0.5333\n",
            "Epoch 19/30\n",
            "86/86 [==============================] - 0s 2ms/sample - loss: 0.9650 - accuracy: 0.5349 - val_loss: 1.0537 - val_accuracy: 0.5333\n",
            "Epoch 20/30\n",
            "86/86 [==============================] - 0s 2ms/sample - loss: 0.9412 - accuracy: 0.5698 - val_loss: 1.0346 - val_accuracy: 0.5333\n",
            "Epoch 21/30\n",
            "86/86 [==============================] - 0s 2ms/sample - loss: 0.9173 - accuracy: 0.5465 - val_loss: 1.0227 - val_accuracy: 0.5111\n",
            "Epoch 22/30\n",
            "86/86 [==============================] - 0s 2ms/sample - loss: 1.0291 - accuracy: 0.5581 - val_loss: 0.9877 - val_accuracy: 0.5111\n",
            "Epoch 23/30\n",
            "86/86 [==============================] - 0s 2ms/sample - loss: 1.0184 - accuracy: 0.4651 - val_loss: 0.9716 - val_accuracy: 0.5333\n",
            "Epoch 24/30\n",
            "86/86 [==============================] - 0s 2ms/sample - loss: 0.9072 - accuracy: 0.5814 - val_loss: 0.9925 - val_accuracy: 0.4889\n",
            "Epoch 25/30\n",
            "86/86 [==============================] - 0s 2ms/sample - loss: 0.9977 - accuracy: 0.5465 - val_loss: 0.9970 - val_accuracy: 0.5111\n",
            "Epoch 26/30\n",
            "86/86 [==============================] - 0s 2ms/sample - loss: 0.9006 - accuracy: 0.5349 - val_loss: 1.0277 - val_accuracy: 0.4889\n",
            "Epoch 27/30\n",
            "86/86 [==============================] - 0s 2ms/sample - loss: 0.9438 - accuracy: 0.5465 - val_loss: 0.9961 - val_accuracy: 0.5111\n",
            "Epoch 28/30\n",
            "86/86 [==============================] - 0s 2ms/sample - loss: 0.8543 - accuracy: 0.5814 - val_loss: 1.1425 - val_accuracy: 0.5778\n",
            "Epoch 29/30\n",
            "86/86 [==============================] - 0s 2ms/sample - loss: 1.0518 - accuracy: 0.4767 - val_loss: 0.9757 - val_accuracy: 0.5333\n",
            "Epoch 30/30\n",
            "86/86 [==============================] - 0s 2ms/sample - loss: 0.9300 - accuracy: 0.5930 - val_loss: 0.9932 - val_accuracy: 0.5778\n",
            "Train on 86 samples, validate on 45 samples\n",
            "Epoch 1/30\n",
            "86/86 [==============================] - 0s 6ms/sample - loss: 5.0562 - accuracy: 0.3256 - val_loss: 1.3338 - val_accuracy: 0.3556\n",
            "Epoch 2/30\n",
            "86/86 [==============================] - 0s 2ms/sample - loss: 2.3722 - accuracy: 0.3372 - val_loss: 1.0926 - val_accuracy: 0.4889\n",
            "Epoch 3/30\n",
            "86/86 [==============================] - 0s 2ms/sample - loss: 1.3460 - accuracy: 0.3837 - val_loss: 1.0239 - val_accuracy: 0.4889\n",
            "Epoch 4/30\n",
            "86/86 [==============================] - 0s 2ms/sample - loss: 1.2334 - accuracy: 0.3488 - val_loss: 0.9939 - val_accuracy: 0.5556\n",
            "Epoch 5/30\n",
            "86/86 [==============================] - 0s 2ms/sample - loss: 1.1411 - accuracy: 0.4419 - val_loss: 0.9918 - val_accuracy: 0.5556\n",
            "Epoch 6/30\n",
            "86/86 [==============================] - 0s 2ms/sample - loss: 1.0337 - accuracy: 0.4302 - val_loss: 0.9981 - val_accuracy: 0.4444\n",
            "Epoch 7/30\n",
            "86/86 [==============================] - 0s 2ms/sample - loss: 1.0168 - accuracy: 0.5000 - val_loss: 0.9890 - val_accuracy: 0.4889\n",
            "Epoch 8/30\n",
            "86/86 [==============================] - 0s 2ms/sample - loss: 1.1414 - accuracy: 0.4767 - val_loss: 0.9855 - val_accuracy: 0.5556\n",
            "Epoch 9/30\n",
            "86/86 [==============================] - 0s 2ms/sample - loss: 0.9641 - accuracy: 0.5349 - val_loss: 0.9758 - val_accuracy: 0.5778\n",
            "Epoch 10/30\n",
            "86/86 [==============================] - 0s 2ms/sample - loss: 1.0115 - accuracy: 0.4419 - val_loss: 0.9800 - val_accuracy: 0.6000\n",
            "Epoch 11/30\n",
            "86/86 [==============================] - 0s 2ms/sample - loss: 0.9893 - accuracy: 0.4535 - val_loss: 0.9928 - val_accuracy: 0.5111\n",
            "Epoch 12/30\n",
            "86/86 [==============================] - 0s 2ms/sample - loss: 0.9773 - accuracy: 0.5465 - val_loss: 0.9742 - val_accuracy: 0.5556\n",
            "Epoch 13/30\n",
            "86/86 [==============================] - 0s 2ms/sample - loss: 1.0048 - accuracy: 0.4535 - val_loss: 0.9751 - val_accuracy: 0.4889\n",
            "Epoch 14/30\n",
            "86/86 [==============================] - 0s 2ms/sample - loss: 1.0009 - accuracy: 0.4651 - val_loss: 0.9897 - val_accuracy: 0.5556\n",
            "Epoch 15/30\n",
            "86/86 [==============================] - 0s 2ms/sample - loss: 0.9534 - accuracy: 0.5349 - val_loss: 0.9957 - val_accuracy: 0.4889\n",
            "Epoch 16/30\n",
            "86/86 [==============================] - 0s 2ms/sample - loss: 0.9552 - accuracy: 0.5233 - val_loss: 1.0111 - val_accuracy: 0.5333\n",
            "Epoch 17/30\n",
            "86/86 [==============================] - 0s 2ms/sample - loss: 0.9416 - accuracy: 0.5698 - val_loss: 0.9957 - val_accuracy: 0.5333\n",
            "Epoch 18/30\n",
            "86/86 [==============================] - 0s 2ms/sample - loss: 0.9784 - accuracy: 0.4651 - val_loss: 1.0212 - val_accuracy: 0.5333\n",
            "Epoch 19/30\n",
            "86/86 [==============================] - 0s 2ms/sample - loss: 1.0053 - accuracy: 0.5000 - val_loss: 1.0005 - val_accuracy: 0.5556\n",
            "Epoch 20/30\n",
            "86/86 [==============================] - 0s 2ms/sample - loss: 1.0195 - accuracy: 0.4535 - val_loss: 0.9740 - val_accuracy: 0.6000\n",
            "Epoch 21/30\n",
            "86/86 [==============================] - 0s 2ms/sample - loss: 0.9648 - accuracy: 0.4884 - val_loss: 0.9792 - val_accuracy: 0.5111\n",
            "Epoch 22/30\n",
            "86/86 [==============================] - 0s 2ms/sample - loss: 0.9935 - accuracy: 0.5116 - val_loss: 0.9850 - val_accuracy: 0.5556\n",
            "Epoch 23/30\n",
            "86/86 [==============================] - 0s 2ms/sample - loss: 0.9668 - accuracy: 0.5000 - val_loss: 0.9922 - val_accuracy: 0.5333\n",
            "Epoch 24/30\n",
            "86/86 [==============================] - 0s 2ms/sample - loss: 1.0145 - accuracy: 0.5116 - val_loss: 0.9987 - val_accuracy: 0.4667\n",
            "Epoch 25/30\n",
            "86/86 [==============================] - 0s 2ms/sample - loss: 1.0047 - accuracy: 0.4884 - val_loss: 0.9931 - val_accuracy: 0.5333\n",
            "Epoch 26/30\n",
            "86/86 [==============================] - 0s 2ms/sample - loss: 0.9870 - accuracy: 0.4419 - val_loss: 0.9847 - val_accuracy: 0.5556\n",
            "Epoch 27/30\n",
            "86/86 [==============================] - 0s 2ms/sample - loss: 0.9970 - accuracy: 0.5000 - val_loss: 0.9828 - val_accuracy: 0.5333\n",
            "Epoch 28/30\n",
            "86/86 [==============================] - 0s 2ms/sample - loss: 0.9261 - accuracy: 0.5698 - val_loss: 0.9787 - val_accuracy: 0.5556\n",
            "Epoch 29/30\n",
            "86/86 [==============================] - 0s 2ms/sample - loss: 0.9594 - accuracy: 0.5581 - val_loss: 0.9680 - val_accuracy: 0.6000\n",
            "Epoch 30/30\n",
            "86/86 [==============================] - 0s 2ms/sample - loss: 0.9642 - accuracy: 0.5930 - val_loss: 0.9907 - val_accuracy: 0.5333\n",
            "Train on 86 samples, validate on 45 samples\n",
            "Epoch 1/30\n",
            "86/86 [==============================] - 0s 6ms/sample - loss: 3.4654 - accuracy: 0.3953 - val_loss: 1.8230 - val_accuracy: 0.3111\n",
            "Epoch 2/30\n",
            "86/86 [==============================] - 0s 2ms/sample - loss: 2.1859 - accuracy: 0.4884 - val_loss: 1.4325 - val_accuracy: 0.4222\n",
            "Epoch 3/30\n",
            "86/86 [==============================] - 0s 2ms/sample - loss: 1.5560 - accuracy: 0.5116 - val_loss: 1.0484 - val_accuracy: 0.4667\n",
            "Epoch 4/30\n",
            "86/86 [==============================] - 0s 2ms/sample - loss: 1.0696 - accuracy: 0.4302 - val_loss: 0.9873 - val_accuracy: 0.4667\n",
            "Epoch 5/30\n",
            "86/86 [==============================] - 0s 2ms/sample - loss: 0.9292 - accuracy: 0.6163 - val_loss: 0.9769 - val_accuracy: 0.4667\n",
            "Epoch 6/30\n",
            "86/86 [==============================] - 0s 2ms/sample - loss: 1.0342 - accuracy: 0.4186 - val_loss: 0.9828 - val_accuracy: 0.4444\n",
            "Epoch 7/30\n",
            "86/86 [==============================] - 0s 2ms/sample - loss: 1.0158 - accuracy: 0.4884 - val_loss: 0.9818 - val_accuracy: 0.4667\n",
            "Epoch 8/30\n",
            "86/86 [==============================] - 0s 2ms/sample - loss: 0.9641 - accuracy: 0.5233 - val_loss: 0.9998 - val_accuracy: 0.4667\n",
            "Epoch 9/30\n",
            "86/86 [==============================] - 0s 2ms/sample - loss: 1.0147 - accuracy: 0.4535 - val_loss: 0.9868 - val_accuracy: 0.4889\n",
            "Epoch 10/30\n",
            "86/86 [==============================] - 0s 2ms/sample - loss: 1.1809 - accuracy: 0.3953 - val_loss: 1.0036 - val_accuracy: 0.4667\n",
            "Epoch 11/30\n",
            "86/86 [==============================] - 0s 2ms/sample - loss: 0.9542 - accuracy: 0.5233 - val_loss: 1.0127 - val_accuracy: 0.4889\n",
            "Epoch 12/30\n",
            "86/86 [==============================] - 0s 2ms/sample - loss: 1.0166 - accuracy: 0.5581 - val_loss: 0.9988 - val_accuracy: 0.4667\n",
            "Epoch 13/30\n",
            "86/86 [==============================] - 0s 2ms/sample - loss: 0.9274 - accuracy: 0.5698 - val_loss: 1.0094 - val_accuracy: 0.5111\n",
            "Epoch 14/30\n",
            "86/86 [==============================] - 0s 2ms/sample - loss: 0.9866 - accuracy: 0.5698 - val_loss: 0.9785 - val_accuracy: 0.5333\n",
            "Epoch 15/30\n",
            "86/86 [==============================] - 0s 2ms/sample - loss: 0.9822 - accuracy: 0.5581 - val_loss: 1.0002 - val_accuracy: 0.5333\n",
            "Epoch 16/30\n",
            "86/86 [==============================] - 0s 2ms/sample - loss: 0.9859 - accuracy: 0.5930 - val_loss: 0.9826 - val_accuracy: 0.5556\n",
            "Epoch 17/30\n",
            "86/86 [==============================] - 0s 2ms/sample - loss: 0.9241 - accuracy: 0.5581 - val_loss: 0.9905 - val_accuracy: 0.5333\n",
            "Epoch 18/30\n",
            "86/86 [==============================] - 0s 2ms/sample - loss: 0.9691 - accuracy: 0.5930 - val_loss: 1.0090 - val_accuracy: 0.5556\n",
            "Epoch 19/30\n",
            "86/86 [==============================] - 0s 2ms/sample - loss: 0.9469 - accuracy: 0.5349 - val_loss: 0.9976 - val_accuracy: 0.5333\n",
            "Epoch 20/30\n",
            "86/86 [==============================] - 0s 2ms/sample - loss: 0.9567 - accuracy: 0.5814 - val_loss: 0.9877 - val_accuracy: 0.4889\n",
            "Epoch 21/30\n",
            "86/86 [==============================] - 0s 2ms/sample - loss: 1.0013 - accuracy: 0.5116 - val_loss: 0.9729 - val_accuracy: 0.5111\n",
            "Epoch 22/30\n",
            "86/86 [==============================] - 0s 2ms/sample - loss: 0.9653 - accuracy: 0.5233 - val_loss: 1.0039 - val_accuracy: 0.5111\n",
            "Epoch 23/30\n",
            "86/86 [==============================] - 0s 2ms/sample - loss: 0.9922 - accuracy: 0.5698 - val_loss: 0.9776 - val_accuracy: 0.5333\n",
            "Epoch 24/30\n",
            "86/86 [==============================] - 0s 2ms/sample - loss: 0.9668 - accuracy: 0.5349 - val_loss: 0.9993 - val_accuracy: 0.4667\n",
            "Epoch 25/30\n",
            "86/86 [==============================] - 0s 3ms/sample - loss: 0.9743 - accuracy: 0.5349 - val_loss: 1.0106 - val_accuracy: 0.5333\n",
            "Epoch 26/30\n",
            "86/86 [==============================] - 0s 2ms/sample - loss: 0.8669 - accuracy: 0.5930 - val_loss: 1.0346 - val_accuracy: 0.4444\n",
            "Epoch 27/30\n",
            "86/86 [==============================] - 0s 2ms/sample - loss: 1.0961 - accuracy: 0.4535 - val_loss: 0.9671 - val_accuracy: 0.5111\n",
            "Epoch 28/30\n",
            "86/86 [==============================] - 0s 2ms/sample - loss: 0.9190 - accuracy: 0.5349 - val_loss: 1.0070 - val_accuracy: 0.5333\n",
            "Epoch 29/30\n",
            "86/86 [==============================] - 0s 2ms/sample - loss: 0.9997 - accuracy: 0.5581 - val_loss: 0.9870 - val_accuracy: 0.5333\n",
            "Epoch 30/30\n",
            "86/86 [==============================] - 0s 2ms/sample - loss: 0.9280 - accuracy: 0.5116 - val_loss: 1.0051 - val_accuracy: 0.5556\n"
          ],
          "name": "stdout"
        },
        {
          "output_type": "display_data",
          "data": {
            "text/html": [
              "<span style=\"color:#4527A0\"><h1 style=\"font-size:18px\">Trial complete</h1></span>"
            ],
            "text/plain": [
              "<IPython.core.display.HTML object>"
            ]
          },
          "metadata": {
            "tags": []
          }
        },
        {
          "output_type": "display_data",
          "data": {
            "text/html": [
              "<span style=\"color:#4527A0\"><h1 style=\"font-size:18px\">Trial summary</h1></span>"
            ],
            "text/plain": [
              "<IPython.core.display.HTML object>"
            ]
          },
          "metadata": {
            "tags": []
          }
        },
        {
          "output_type": "display_data",
          "data": {
            "text/html": [
              "<span style=\"color:#7E57C2\"><h2 style=\"font-size:16px\">Hp values:</h2></span>"
            ],
            "text/plain": [
              "<IPython.core.display.HTML object>"
            ]
          },
          "metadata": {
            "tags": []
          }
        },
        {
          "output_type": "display_data",
          "data": {
            "text/html": [
              "<span style=\"color:cyan\"> |-activation: linear</span>"
            ],
            "text/plain": [
              "<IPython.core.display.HTML object>"
            ]
          },
          "metadata": {
            "tags": []
          }
        },
        {
          "output_type": "display_data",
          "data": {
            "text/html": [
              "<span style=\"color:blue\"> |-drop_rate: 0.7</span>"
            ],
            "text/plain": [
              "<IPython.core.display.HTML object>"
            ]
          },
          "metadata": {
            "tags": []
          }
        },
        {
          "output_type": "display_data",
          "data": {
            "text/html": [
              "<span style=\"color:cyan\"> |-learning_rate: 0.01</span>"
            ],
            "text/plain": [
              "<IPython.core.display.HTML object>"
            ]
          },
          "metadata": {
            "tags": []
          }
        },
        {
          "output_type": "display_data",
          "data": {
            "text/html": [
              "<span style=\"color:blue\"> |-units: 6</span>"
            ],
            "text/plain": [
              "<IPython.core.display.HTML object>"
            ]
          },
          "metadata": {
            "tags": []
          }
        },
        {
          "output_type": "display_data",
          "data": {
            "text/html": [
              "<span style=\"color:cyan\"> |-weight_init: glorot_uniform</span>"
            ],
            "text/plain": [
              "<IPython.core.display.HTML object>"
            ]
          },
          "metadata": {
            "tags": []
          }
        },
        {
          "output_type": "display_data",
          "data": {
            "text/html": [
              "<span style=\"color:cyan\"> |-Score: 0.5777778029441833</span>"
            ],
            "text/plain": [
              "<IPython.core.display.HTML object>"
            ]
          },
          "metadata": {
            "tags": []
          }
        },
        {
          "output_type": "display_data",
          "data": {
            "text/html": [
              "<span style=\"color:cyan\"> |-Best step: 0</span>"
            ],
            "text/plain": [
              "<IPython.core.display.HTML object>"
            ]
          },
          "metadata": {
            "tags": []
          }
        },
        {
          "output_type": "stream",
          "text": [
            "Train on 86 samples, validate on 45 samples\n",
            "Epoch 1/30\n",
            "86/86 [==============================] - 1s 6ms/sample - loss: 1.3749 - accuracy: 0.3023 - val_loss: 1.1352 - val_accuracy: 0.2222\n",
            "Epoch 2/30\n",
            "86/86 [==============================] - 0s 2ms/sample - loss: 1.1928 - accuracy: 0.3953 - val_loss: 1.0939 - val_accuracy: 0.2889\n",
            "Epoch 3/30\n",
            "86/86 [==============================] - 0s 2ms/sample - loss: 1.1588 - accuracy: 0.4419 - val_loss: 1.0718 - val_accuracy: 0.4444\n",
            "Epoch 4/30\n",
            "86/86 [==============================] - 0s 2ms/sample - loss: 1.1076 - accuracy: 0.4767 - val_loss: 1.0461 - val_accuracy: 0.5333\n",
            "Epoch 5/30\n",
            "86/86 [==============================] - 0s 2ms/sample - loss: 1.0494 - accuracy: 0.4884 - val_loss: 1.0362 - val_accuracy: 0.5111\n",
            "Epoch 6/30\n",
            "86/86 [==============================] - 0s 2ms/sample - loss: 0.9848 - accuracy: 0.5349 - val_loss: 1.0343 - val_accuracy: 0.5333\n",
            "Epoch 7/30\n",
            "86/86 [==============================] - 0s 2ms/sample - loss: 1.0255 - accuracy: 0.4884 - val_loss: 1.0288 - val_accuracy: 0.5333\n",
            "Epoch 8/30\n",
            "86/86 [==============================] - 0s 2ms/sample - loss: 1.0129 - accuracy: 0.5698 - val_loss: 1.0058 - val_accuracy: 0.5111\n",
            "Epoch 9/30\n",
            "86/86 [==============================] - 0s 2ms/sample - loss: 0.9923 - accuracy: 0.5349 - val_loss: 1.0057 - val_accuracy: 0.5333\n",
            "Epoch 10/30\n",
            "86/86 [==============================] - 0s 2ms/sample - loss: 0.9106 - accuracy: 0.5698 - val_loss: 1.0018 - val_accuracy: 0.5333\n",
            "Epoch 11/30\n",
            "86/86 [==============================] - 0s 2ms/sample - loss: 0.9495 - accuracy: 0.5116 - val_loss: 1.0017 - val_accuracy: 0.5111\n",
            "Epoch 12/30\n",
            "86/86 [==============================] - 0s 2ms/sample - loss: 0.9197 - accuracy: 0.5233 - val_loss: 0.9983 - val_accuracy: 0.5111\n",
            "Epoch 13/30\n",
            "86/86 [==============================] - 0s 2ms/sample - loss: 0.9892 - accuracy: 0.5698 - val_loss: 0.9986 - val_accuracy: 0.5111\n",
            "Epoch 14/30\n",
            "86/86 [==============================] - 0s 2ms/sample - loss: 0.9589 - accuracy: 0.5581 - val_loss: 0.9983 - val_accuracy: 0.5111\n",
            "Epoch 15/30\n",
            "86/86 [==============================] - 0s 2ms/sample - loss: 0.9664 - accuracy: 0.5581 - val_loss: 0.9889 - val_accuracy: 0.5111\n",
            "Epoch 16/30\n",
            "86/86 [==============================] - 0s 2ms/sample - loss: 1.0303 - accuracy: 0.5233 - val_loss: 0.9888 - val_accuracy: 0.5111\n",
            "Epoch 17/30\n",
            "86/86 [==============================] - 0s 3ms/sample - loss: 0.9970 - accuracy: 0.5116 - val_loss: 0.9797 - val_accuracy: 0.5778\n",
            "Epoch 18/30\n",
            "86/86 [==============================] - 0s 2ms/sample - loss: 0.9351 - accuracy: 0.4884 - val_loss: 0.9856 - val_accuracy: 0.5556\n",
            "Epoch 19/30\n",
            "86/86 [==============================] - 0s 2ms/sample - loss: 1.0038 - accuracy: 0.5000 - val_loss: 0.9990 - val_accuracy: 0.5333\n",
            "Epoch 20/30\n",
            "86/86 [==============================] - 0s 2ms/sample - loss: 0.9636 - accuracy: 0.4651 - val_loss: 0.9899 - val_accuracy: 0.5556\n",
            "Epoch 21/30\n",
            "86/86 [==============================] - 0s 2ms/sample - loss: 0.8961 - accuracy: 0.5581 - val_loss: 0.9823 - val_accuracy: 0.5556\n",
            "Epoch 22/30\n",
            "86/86 [==============================] - 0s 2ms/sample - loss: 0.9527 - accuracy: 0.5465 - val_loss: 0.9712 - val_accuracy: 0.5556\n",
            "Epoch 23/30\n",
            "86/86 [==============================] - 0s 2ms/sample - loss: 0.9039 - accuracy: 0.6163 - val_loss: 0.9841 - val_accuracy: 0.5333\n",
            "Epoch 24/30\n",
            "86/86 [==============================] - 0s 2ms/sample - loss: 0.9060 - accuracy: 0.5698 - val_loss: 0.9924 - val_accuracy: 0.5333\n",
            "Epoch 25/30\n",
            "86/86 [==============================] - 0s 2ms/sample - loss: 0.9791 - accuracy: 0.5814 - val_loss: 0.9844 - val_accuracy: 0.5333\n",
            "Epoch 26/30\n",
            "86/86 [==============================] - 0s 2ms/sample - loss: 0.9202 - accuracy: 0.5930 - val_loss: 0.9808 - val_accuracy: 0.5111\n",
            "Epoch 27/30\n",
            "86/86 [==============================] - 0s 2ms/sample - loss: 0.8989 - accuracy: 0.5581 - val_loss: 0.9867 - val_accuracy: 0.5333\n",
            "Epoch 28/30\n",
            "86/86 [==============================] - 0s 2ms/sample - loss: 0.9351 - accuracy: 0.6279 - val_loss: 0.9852 - val_accuracy: 0.5556\n",
            "Epoch 29/30\n",
            "86/86 [==============================] - 0s 2ms/sample - loss: 0.9757 - accuracy: 0.5930 - val_loss: 0.9826 - val_accuracy: 0.5333\n",
            "Epoch 30/30\n",
            "86/86 [==============================] - 0s 2ms/sample - loss: 0.9499 - accuracy: 0.4884 - val_loss: 0.9799 - val_accuracy: 0.5333\n",
            "Train on 86 samples, validate on 45 samples\n",
            "Epoch 1/30\n",
            "86/86 [==============================] - 1s 7ms/sample - loss: 1.2178 - accuracy: 0.3488 - val_loss: 1.0919 - val_accuracy: 0.4000\n",
            "Epoch 2/30\n",
            "86/86 [==============================] - 0s 2ms/sample - loss: 1.0624 - accuracy: 0.4651 - val_loss: 1.0693 - val_accuracy: 0.4667\n",
            "Epoch 3/30\n",
            "86/86 [==============================] - 0s 2ms/sample - loss: 1.0483 - accuracy: 0.4767 - val_loss: 1.0558 - val_accuracy: 0.5333\n",
            "Epoch 4/30\n",
            "86/86 [==============================] - 0s 2ms/sample - loss: 1.0838 - accuracy: 0.4419 - val_loss: 1.0376 - val_accuracy: 0.5333\n",
            "Epoch 5/30\n",
            "86/86 [==============================] - 0s 2ms/sample - loss: 0.9627 - accuracy: 0.4884 - val_loss: 1.0223 - val_accuracy: 0.5111\n",
            "Epoch 6/30\n",
            "86/86 [==============================] - 0s 2ms/sample - loss: 1.0470 - accuracy: 0.5233 - val_loss: 1.0169 - val_accuracy: 0.4889\n",
            "Epoch 7/30\n",
            "86/86 [==============================] - 0s 2ms/sample - loss: 0.9789 - accuracy: 0.4884 - val_loss: 1.0132 - val_accuracy: 0.5111\n",
            "Epoch 8/30\n",
            "86/86 [==============================] - 0s 2ms/sample - loss: 0.9748 - accuracy: 0.5698 - val_loss: 1.0005 - val_accuracy: 0.5333\n",
            "Epoch 9/30\n",
            "86/86 [==============================] - 0s 2ms/sample - loss: 1.0626 - accuracy: 0.4767 - val_loss: 0.9995 - val_accuracy: 0.5333\n",
            "Epoch 10/30\n",
            "86/86 [==============================] - 0s 2ms/sample - loss: 0.9588 - accuracy: 0.5233 - val_loss: 1.0059 - val_accuracy: 0.5333\n",
            "Epoch 11/30\n",
            "86/86 [==============================] - 0s 2ms/sample - loss: 0.9787 - accuracy: 0.5116 - val_loss: 1.0060 - val_accuracy: 0.5333\n",
            "Epoch 12/30\n",
            "86/86 [==============================] - 0s 2ms/sample - loss: 0.9800 - accuracy: 0.5930 - val_loss: 1.0013 - val_accuracy: 0.4889\n",
            "Epoch 13/30\n",
            "86/86 [==============================] - 0s 2ms/sample - loss: 0.9554 - accuracy: 0.5233 - val_loss: 1.0074 - val_accuracy: 0.4889\n",
            "Epoch 14/30\n",
            "86/86 [==============================] - 0s 2ms/sample - loss: 0.9672 - accuracy: 0.5000 - val_loss: 0.9938 - val_accuracy: 0.4889\n",
            "Epoch 15/30\n",
            "86/86 [==============================] - 0s 2ms/sample - loss: 0.9434 - accuracy: 0.4884 - val_loss: 0.9883 - val_accuracy: 0.5333\n",
            "Epoch 16/30\n",
            "86/86 [==============================] - 0s 2ms/sample - loss: 0.9439 - accuracy: 0.5465 - val_loss: 0.9834 - val_accuracy: 0.5333\n",
            "Epoch 17/30\n",
            "86/86 [==============================] - 0s 2ms/sample - loss: 0.9196 - accuracy: 0.5465 - val_loss: 0.9921 - val_accuracy: 0.5333\n",
            "Epoch 18/30\n",
            "86/86 [==============================] - 0s 2ms/sample - loss: 0.9369 - accuracy: 0.5814 - val_loss: 0.9937 - val_accuracy: 0.4889\n",
            "Epoch 19/30\n",
            "86/86 [==============================] - 0s 2ms/sample - loss: 0.9790 - accuracy: 0.5349 - val_loss: 0.9969 - val_accuracy: 0.5111\n",
            "Epoch 20/30\n",
            "86/86 [==============================] - 0s 2ms/sample - loss: 1.0036 - accuracy: 0.4767 - val_loss: 0.9843 - val_accuracy: 0.5111\n",
            "Epoch 21/30\n",
            "86/86 [==============================] - 0s 2ms/sample - loss: 0.9281 - accuracy: 0.5814 - val_loss: 0.9782 - val_accuracy: 0.4889\n",
            "Epoch 22/30\n",
            "86/86 [==============================] - 0s 2ms/sample - loss: 0.8854 - accuracy: 0.5814 - val_loss: 0.9777 - val_accuracy: 0.5333\n",
            "Epoch 23/30\n",
            "86/86 [==============================] - 0s 2ms/sample - loss: 0.9798 - accuracy: 0.5698 - val_loss: 0.9740 - val_accuracy: 0.5556\n",
            "Epoch 24/30\n",
            "86/86 [==============================] - 0s 2ms/sample - loss: 0.9392 - accuracy: 0.5349 - val_loss: 0.9673 - val_accuracy: 0.5556\n",
            "Epoch 25/30\n",
            "86/86 [==============================] - 0s 2ms/sample - loss: 0.9198 - accuracy: 0.5930 - val_loss: 0.9749 - val_accuracy: 0.5556\n",
            "Epoch 26/30\n",
            "86/86 [==============================] - 0s 2ms/sample - loss: 0.9173 - accuracy: 0.5814 - val_loss: 0.9856 - val_accuracy: 0.5333\n",
            "Epoch 27/30\n",
            "86/86 [==============================] - 0s 2ms/sample - loss: 0.9728 - accuracy: 0.4884 - val_loss: 0.9892 - val_accuracy: 0.4667\n",
            "Epoch 28/30\n",
            "86/86 [==============================] - 0s 2ms/sample - loss: 0.9916 - accuracy: 0.5465 - val_loss: 0.9858 - val_accuracy: 0.5111\n",
            "Epoch 29/30\n",
            "86/86 [==============================] - 0s 2ms/sample - loss: 0.8730 - accuracy: 0.5581 - val_loss: 0.9853 - val_accuracy: 0.5556\n",
            "Epoch 30/30\n",
            "86/86 [==============================] - 0s 2ms/sample - loss: 0.9138 - accuracy: 0.6047 - val_loss: 0.9855 - val_accuracy: 0.5333\n",
            "Train on 86 samples, validate on 45 samples\n",
            "Epoch 1/30\n",
            "86/86 [==============================] - 1s 6ms/sample - loss: 1.1480 - accuracy: 0.4535 - val_loss: 1.0980 - val_accuracy: 0.4222\n",
            "Epoch 2/30\n",
            "86/86 [==============================] - 0s 2ms/sample - loss: 1.1068 - accuracy: 0.4767 - val_loss: 1.0778 - val_accuracy: 0.4889\n",
            "Epoch 3/30\n",
            "86/86 [==============================] - 0s 2ms/sample - loss: 1.1575 - accuracy: 0.4186 - val_loss: 1.0685 - val_accuracy: 0.4889\n",
            "Epoch 4/30\n",
            "86/86 [==============================] - 0s 2ms/sample - loss: 1.0376 - accuracy: 0.4884 - val_loss: 1.0595 - val_accuracy: 0.5333\n",
            "Epoch 5/30\n",
            "86/86 [==============================] - 0s 2ms/sample - loss: 0.9987 - accuracy: 0.5116 - val_loss: 1.0491 - val_accuracy: 0.5111\n",
            "Epoch 6/30\n",
            "86/86 [==============================] - 0s 2ms/sample - loss: 1.0012 - accuracy: 0.4651 - val_loss: 1.0399 - val_accuracy: 0.5111\n",
            "Epoch 7/30\n",
            "86/86 [==============================] - 0s 2ms/sample - loss: 0.9829 - accuracy: 0.5581 - val_loss: 1.0163 - val_accuracy: 0.4667\n",
            "Epoch 8/30\n",
            "86/86 [==============================] - 0s 2ms/sample - loss: 0.9976 - accuracy: 0.5349 - val_loss: 1.0066 - val_accuracy: 0.4889\n",
            "Epoch 9/30\n",
            "86/86 [==============================] - 0s 2ms/sample - loss: 1.0392 - accuracy: 0.5000 - val_loss: 1.0114 - val_accuracy: 0.4667\n",
            "Epoch 10/30\n",
            "86/86 [==============================] - 0s 2ms/sample - loss: 0.9723 - accuracy: 0.5349 - val_loss: 1.0111 - val_accuracy: 0.4889\n",
            "Epoch 11/30\n",
            "86/86 [==============================] - 0s 2ms/sample - loss: 1.0818 - accuracy: 0.5000 - val_loss: 1.0115 - val_accuracy: 0.5333\n",
            "Epoch 12/30\n",
            "86/86 [==============================] - 0s 2ms/sample - loss: 1.0278 - accuracy: 0.5000 - val_loss: 1.0064 - val_accuracy: 0.5111\n",
            "Epoch 13/30\n",
            "86/86 [==============================] - 0s 2ms/sample - loss: 0.9114 - accuracy: 0.5465 - val_loss: 1.0230 - val_accuracy: 0.5111\n",
            "Epoch 14/30\n",
            "86/86 [==============================] - 0s 2ms/sample - loss: 0.9643 - accuracy: 0.6047 - val_loss: 1.0119 - val_accuracy: 0.5111\n",
            "Epoch 15/30\n",
            "86/86 [==============================] - 0s 2ms/sample - loss: 0.9108 - accuracy: 0.6047 - val_loss: 1.0134 - val_accuracy: 0.5333\n",
            "Epoch 16/30\n",
            "86/86 [==============================] - 0s 2ms/sample - loss: 1.0045 - accuracy: 0.5116 - val_loss: 1.0200 - val_accuracy: 0.5333\n",
            "Epoch 17/30\n",
            "86/86 [==============================] - 0s 2ms/sample - loss: 0.9863 - accuracy: 0.5930 - val_loss: 1.0125 - val_accuracy: 0.5333\n",
            "Epoch 18/30\n",
            "86/86 [==============================] - 0s 2ms/sample - loss: 0.9597 - accuracy: 0.5930 - val_loss: 1.0075 - val_accuracy: 0.5111\n",
            "Epoch 19/30\n",
            "86/86 [==============================] - 0s 2ms/sample - loss: 1.0732 - accuracy: 0.5000 - val_loss: 0.9914 - val_accuracy: 0.5333\n",
            "Epoch 20/30\n",
            "86/86 [==============================] - 0s 2ms/sample - loss: 0.9591 - accuracy: 0.5233 - val_loss: 0.9899 - val_accuracy: 0.5111\n",
            "Epoch 21/30\n",
            "86/86 [==============================] - 0s 2ms/sample - loss: 0.9680 - accuracy: 0.5116 - val_loss: 0.9900 - val_accuracy: 0.5111\n",
            "Epoch 22/30\n",
            "86/86 [==============================] - 0s 2ms/sample - loss: 0.9090 - accuracy: 0.5116 - val_loss: 0.9882 - val_accuracy: 0.5333\n",
            "Epoch 23/30\n",
            "86/86 [==============================] - 0s 2ms/sample - loss: 0.9620 - accuracy: 0.5000 - val_loss: 0.9888 - val_accuracy: 0.5333\n",
            "Epoch 24/30\n",
            "86/86 [==============================] - 0s 2ms/sample - loss: 0.9537 - accuracy: 0.5233 - val_loss: 0.9982 - val_accuracy: 0.5111\n",
            "Epoch 25/30\n",
            "86/86 [==============================] - 0s 2ms/sample - loss: 0.9436 - accuracy: 0.6163 - val_loss: 0.9790 - val_accuracy: 0.5111\n",
            "Epoch 26/30\n",
            "86/86 [==============================] - 0s 2ms/sample - loss: 0.9917 - accuracy: 0.4767 - val_loss: 0.9740 - val_accuracy: 0.5333\n",
            "Epoch 27/30\n",
            "86/86 [==============================] - 0s 2ms/sample - loss: 0.9198 - accuracy: 0.6047 - val_loss: 0.9747 - val_accuracy: 0.5333\n",
            "Epoch 28/30\n",
            "86/86 [==============================] - 0s 2ms/sample - loss: 0.9252 - accuracy: 0.6047 - val_loss: 0.9912 - val_accuracy: 0.5111\n",
            "Epoch 29/30\n",
            "86/86 [==============================] - 0s 2ms/sample - loss: 0.9681 - accuracy: 0.4884 - val_loss: 0.9868 - val_accuracy: 0.5556\n",
            "Epoch 30/30\n",
            "86/86 [==============================] - 0s 2ms/sample - loss: 0.9203 - accuracy: 0.5233 - val_loss: 0.9886 - val_accuracy: 0.5778\n",
            "Train on 86 samples, validate on 45 samples\n",
            "Epoch 1/30\n",
            "86/86 [==============================] - 0s 6ms/sample - loss: 1.1365 - accuracy: 0.4070 - val_loss: 1.0650 - val_accuracy: 0.4667\n",
            "Epoch 2/30\n",
            "86/86 [==============================] - 0s 2ms/sample - loss: 1.0605 - accuracy: 0.4767 - val_loss: 1.0548 - val_accuracy: 0.5556\n",
            "Epoch 3/30\n",
            "86/86 [==============================] - 0s 2ms/sample - loss: 1.1168 - accuracy: 0.4651 - val_loss: 1.0462 - val_accuracy: 0.5333\n",
            "Epoch 4/30\n",
            "86/86 [==============================] - 0s 2ms/sample - loss: 1.0848 - accuracy: 0.5233 - val_loss: 1.0414 - val_accuracy: 0.5111\n",
            "Epoch 5/30\n",
            "86/86 [==============================] - 0s 2ms/sample - loss: 1.0416 - accuracy: 0.5698 - val_loss: 1.0351 - val_accuracy: 0.4889\n",
            "Epoch 6/30\n",
            "86/86 [==============================] - 0s 2ms/sample - loss: 1.0234 - accuracy: 0.5233 - val_loss: 1.0252 - val_accuracy: 0.5556\n",
            "Epoch 7/30\n",
            "86/86 [==============================] - 0s 2ms/sample - loss: 0.9803 - accuracy: 0.5116 - val_loss: 1.0256 - val_accuracy: 0.5333\n",
            "Epoch 8/30\n",
            "86/86 [==============================] - 0s 2ms/sample - loss: 1.0211 - accuracy: 0.5465 - val_loss: 1.0132 - val_accuracy: 0.5111\n",
            "Epoch 9/30\n",
            "86/86 [==============================] - 0s 2ms/sample - loss: 0.9920 - accuracy: 0.5116 - val_loss: 1.0095 - val_accuracy: 0.5111\n",
            "Epoch 10/30\n",
            "86/86 [==============================] - 0s 2ms/sample - loss: 0.9810 - accuracy: 0.5581 - val_loss: 1.0094 - val_accuracy: 0.4667\n",
            "Epoch 11/30\n",
            "86/86 [==============================] - 0s 2ms/sample - loss: 0.9440 - accuracy: 0.5581 - val_loss: 1.0107 - val_accuracy: 0.4889\n",
            "Epoch 12/30\n",
            "86/86 [==============================] - 0s 2ms/sample - loss: 1.0415 - accuracy: 0.5465 - val_loss: 1.0080 - val_accuracy: 0.5111\n",
            "Epoch 13/30\n",
            "86/86 [==============================] - 0s 2ms/sample - loss: 0.9659 - accuracy: 0.5581 - val_loss: 1.0037 - val_accuracy: 0.5111\n",
            "Epoch 14/30\n",
            "86/86 [==============================] - 0s 2ms/sample - loss: 1.0013 - accuracy: 0.5814 - val_loss: 1.0014 - val_accuracy: 0.5333\n",
            "Epoch 15/30\n",
            "86/86 [==============================] - 0s 2ms/sample - loss: 0.9429 - accuracy: 0.5349 - val_loss: 0.9988 - val_accuracy: 0.5556\n",
            "Epoch 16/30\n",
            "86/86 [==============================] - 0s 2ms/sample - loss: 0.9612 - accuracy: 0.5698 - val_loss: 0.9973 - val_accuracy: 0.5333\n",
            "Epoch 17/30\n",
            "86/86 [==============================] - 0s 2ms/sample - loss: 0.9316 - accuracy: 0.5814 - val_loss: 0.9992 - val_accuracy: 0.4889\n",
            "Epoch 18/30\n",
            "86/86 [==============================] - 0s 2ms/sample - loss: 0.9427 - accuracy: 0.5116 - val_loss: 0.9999 - val_accuracy: 0.4889\n",
            "Epoch 19/30\n",
            "86/86 [==============================] - 0s 2ms/sample - loss: 0.9299 - accuracy: 0.4767 - val_loss: 0.9955 - val_accuracy: 0.5111\n",
            "Epoch 20/30\n",
            "86/86 [==============================] - 0s 2ms/sample - loss: 1.0412 - accuracy: 0.4884 - val_loss: 0.9885 - val_accuracy: 0.5111\n",
            "Epoch 21/30\n",
            "86/86 [==============================] - 0s 2ms/sample - loss: 0.9357 - accuracy: 0.5465 - val_loss: 0.9842 - val_accuracy: 0.5111\n",
            "Epoch 22/30\n",
            "86/86 [==============================] - 0s 2ms/sample - loss: 0.9628 - accuracy: 0.5465 - val_loss: 0.9827 - val_accuracy: 0.5111\n",
            "Epoch 23/30\n",
            "86/86 [==============================] - 0s 2ms/sample - loss: 1.0204 - accuracy: 0.5233 - val_loss: 0.9815 - val_accuracy: 0.5111\n",
            "Epoch 24/30\n",
            "86/86 [==============================] - 0s 2ms/sample - loss: 0.9318 - accuracy: 0.5698 - val_loss: 0.9761 - val_accuracy: 0.4889\n",
            "Epoch 25/30\n",
            "86/86 [==============================] - 0s 2ms/sample - loss: 0.9141 - accuracy: 0.5698 - val_loss: 0.9773 - val_accuracy: 0.4889\n",
            "Epoch 26/30\n",
            "86/86 [==============================] - 0s 2ms/sample - loss: 0.9296 - accuracy: 0.5930 - val_loss: 0.9786 - val_accuracy: 0.5111\n",
            "Epoch 27/30\n",
            "86/86 [==============================] - 0s 2ms/sample - loss: 0.8843 - accuracy: 0.5465 - val_loss: 0.9843 - val_accuracy: 0.5111\n",
            "Epoch 28/30\n",
            "86/86 [==============================] - 0s 2ms/sample - loss: 0.9644 - accuracy: 0.5930 - val_loss: 0.9856 - val_accuracy: 0.5333\n",
            "Epoch 29/30\n",
            "86/86 [==============================] - 0s 2ms/sample - loss: 0.9713 - accuracy: 0.4767 - val_loss: 0.9854 - val_accuracy: 0.5556\n",
            "Epoch 30/30\n",
            "86/86 [==============================] - 0s 2ms/sample - loss: 0.9406 - accuracy: 0.5233 - val_loss: 0.9824 - val_accuracy: 0.5333\n",
            "Train on 86 samples, validate on 45 samples\n",
            "Epoch 1/30\n",
            "86/86 [==============================] - 0s 6ms/sample - loss: 1.1610 - accuracy: 0.3953 - val_loss: 1.0887 - val_accuracy: 0.4444\n",
            "Epoch 2/30\n",
            "86/86 [==============================] - 0s 2ms/sample - loss: 1.1680 - accuracy: 0.4302 - val_loss: 1.0557 - val_accuracy: 0.4667\n",
            "Epoch 3/30\n",
            "86/86 [==============================] - 0s 2ms/sample - loss: 1.1359 - accuracy: 0.4419 - val_loss: 1.0432 - val_accuracy: 0.4889\n",
            "Epoch 4/30\n",
            "86/86 [==============================] - 0s 2ms/sample - loss: 1.0386 - accuracy: 0.4302 - val_loss: 1.0212 - val_accuracy: 0.5111\n",
            "Epoch 5/30\n",
            "86/86 [==============================] - 0s 2ms/sample - loss: 1.0389 - accuracy: 0.5233 - val_loss: 1.0082 - val_accuracy: 0.4889\n",
            "Epoch 6/30\n",
            "86/86 [==============================] - 0s 2ms/sample - loss: 1.0091 - accuracy: 0.5116 - val_loss: 1.0125 - val_accuracy: 0.4889\n",
            "Epoch 7/30\n",
            "86/86 [==============================] - 0s 2ms/sample - loss: 1.0472 - accuracy: 0.5000 - val_loss: 1.0020 - val_accuracy: 0.4889\n",
            "Epoch 8/30\n",
            "86/86 [==============================] - 0s 2ms/sample - loss: 1.0175 - accuracy: 0.4535 - val_loss: 1.0034 - val_accuracy: 0.4667\n",
            "Epoch 9/30\n",
            "86/86 [==============================] - 0s 2ms/sample - loss: 0.9840 - accuracy: 0.5930 - val_loss: 0.9965 - val_accuracy: 0.5111\n",
            "Epoch 10/30\n",
            "86/86 [==============================] - 0s 2ms/sample - loss: 0.9844 - accuracy: 0.5581 - val_loss: 1.0052 - val_accuracy: 0.4889\n",
            "Epoch 11/30\n",
            "86/86 [==============================] - 0s 2ms/sample - loss: 0.9816 - accuracy: 0.6047 - val_loss: 0.9909 - val_accuracy: 0.4889\n",
            "Epoch 12/30\n",
            "86/86 [==============================] - 0s 2ms/sample - loss: 1.0073 - accuracy: 0.5814 - val_loss: 0.9997 - val_accuracy: 0.5111\n",
            "Epoch 13/30\n",
            "86/86 [==============================] - 0s 2ms/sample - loss: 1.0077 - accuracy: 0.5000 - val_loss: 0.9899 - val_accuracy: 0.5333\n",
            "Epoch 14/30\n",
            "86/86 [==============================] - 0s 2ms/sample - loss: 0.9638 - accuracy: 0.4767 - val_loss: 0.9805 - val_accuracy: 0.4889\n",
            "Epoch 15/30\n",
            "86/86 [==============================] - 0s 2ms/sample - loss: 0.9958 - accuracy: 0.5581 - val_loss: 0.9799 - val_accuracy: 0.4889\n",
            "Epoch 16/30\n",
            "86/86 [==============================] - 0s 2ms/sample - loss: 0.9480 - accuracy: 0.4767 - val_loss: 0.9814 - val_accuracy: 0.4889\n",
            "Epoch 17/30\n",
            "86/86 [==============================] - 0s 2ms/sample - loss: 0.9344 - accuracy: 0.5930 - val_loss: 0.9923 - val_accuracy: 0.4889\n",
            "Epoch 18/30\n",
            "86/86 [==============================] - 0s 2ms/sample - loss: 0.9844 - accuracy: 0.5233 - val_loss: 0.9819 - val_accuracy: 0.4667\n",
            "Epoch 19/30\n",
            "86/86 [==============================] - 0s 2ms/sample - loss: 0.9967 - accuracy: 0.5698 - val_loss: 0.9798 - val_accuracy: 0.4667\n",
            "Epoch 20/30\n",
            "86/86 [==============================] - 0s 2ms/sample - loss: 1.0182 - accuracy: 0.5698 - val_loss: 0.9802 - val_accuracy: 0.5111\n",
            "Epoch 21/30\n",
            "86/86 [==============================] - 0s 2ms/sample - loss: 0.9818 - accuracy: 0.5581 - val_loss: 0.9818 - val_accuracy: 0.5111\n",
            "Epoch 22/30\n",
            "86/86 [==============================] - 0s 2ms/sample - loss: 0.9622 - accuracy: 0.5465 - val_loss: 0.9840 - val_accuracy: 0.5111\n",
            "Epoch 23/30\n",
            "86/86 [==============================] - 0s 2ms/sample - loss: 0.9670 - accuracy: 0.5814 - val_loss: 0.9765 - val_accuracy: 0.5333\n",
            "Epoch 24/30\n",
            "86/86 [==============================] - 0s 2ms/sample - loss: 0.9871 - accuracy: 0.5116 - val_loss: 0.9776 - val_accuracy: 0.5333\n",
            "Epoch 25/30\n",
            "86/86 [==============================] - 0s 2ms/sample - loss: 0.9591 - accuracy: 0.5000 - val_loss: 0.9933 - val_accuracy: 0.5333\n",
            "Epoch 26/30\n",
            "86/86 [==============================] - 0s 2ms/sample - loss: 0.8936 - accuracy: 0.6163 - val_loss: 0.9894 - val_accuracy: 0.5111\n",
            "Epoch 27/30\n",
            "86/86 [==============================] - 0s 2ms/sample - loss: 0.9360 - accuracy: 0.5814 - val_loss: 0.9802 - val_accuracy: 0.5333\n",
            "Epoch 28/30\n",
            "86/86 [==============================] - 0s 2ms/sample - loss: 0.9240 - accuracy: 0.6047 - val_loss: 0.9777 - val_accuracy: 0.5333\n",
            "Epoch 29/30\n",
            "86/86 [==============================] - 0s 2ms/sample - loss: 0.9498 - accuracy: 0.5814 - val_loss: 0.9870 - val_accuracy: 0.5333\n",
            "Epoch 30/30\n",
            "86/86 [==============================] - 0s 2ms/sample - loss: 0.8984 - accuracy: 0.6163 - val_loss: 0.9742 - val_accuracy: 0.5333\n"
          ],
          "name": "stdout"
        },
        {
          "output_type": "display_data",
          "data": {
            "text/html": [
              "<span style=\"color:#4527A0\"><h1 style=\"font-size:18px\">Trial complete</h1></span>"
            ],
            "text/plain": [
              "<IPython.core.display.HTML object>"
            ]
          },
          "metadata": {
            "tags": []
          }
        },
        {
          "output_type": "display_data",
          "data": {
            "text/html": [
              "<span style=\"color:#4527A0\"><h1 style=\"font-size:18px\">Trial summary</h1></span>"
            ],
            "text/plain": [
              "<IPython.core.display.HTML object>"
            ]
          },
          "metadata": {
            "tags": []
          }
        },
        {
          "output_type": "display_data",
          "data": {
            "text/html": [
              "<span style=\"color:#7E57C2\"><h2 style=\"font-size:16px\">Hp values:</h2></span>"
            ],
            "text/plain": [
              "<IPython.core.display.HTML object>"
            ]
          },
          "metadata": {
            "tags": []
          }
        },
        {
          "output_type": "display_data",
          "data": {
            "text/html": [
              "<span style=\"color:cyan\"> |-activation: linear</span>"
            ],
            "text/plain": [
              "<IPython.core.display.HTML object>"
            ]
          },
          "metadata": {
            "tags": []
          }
        },
        {
          "output_type": "display_data",
          "data": {
            "text/html": [
              "<span style=\"color:blue\"> |-drop_rate: 0.8</span>"
            ],
            "text/plain": [
              "<IPython.core.display.HTML object>"
            ]
          },
          "metadata": {
            "tags": []
          }
        },
        {
          "output_type": "display_data",
          "data": {
            "text/html": [
              "<span style=\"color:cyan\"> |-learning_rate: 0.001</span>"
            ],
            "text/plain": [
              "<IPython.core.display.HTML object>"
            ]
          },
          "metadata": {
            "tags": []
          }
        },
        {
          "output_type": "display_data",
          "data": {
            "text/html": [
              "<span style=\"color:blue\"> |-units: 6</span>"
            ],
            "text/plain": [
              "<IPython.core.display.HTML object>"
            ]
          },
          "metadata": {
            "tags": []
          }
        },
        {
          "output_type": "display_data",
          "data": {
            "text/html": [
              "<span style=\"color:cyan\"> |-weight_init: uniform</span>"
            ],
            "text/plain": [
              "<IPython.core.display.HTML object>"
            ]
          },
          "metadata": {
            "tags": []
          }
        },
        {
          "output_type": "display_data",
          "data": {
            "text/html": [
              "<span style=\"color:cyan\"> |-Score: 0.5600000619888306</span>"
            ],
            "text/plain": [
              "<IPython.core.display.HTML object>"
            ]
          },
          "metadata": {
            "tags": []
          }
        },
        {
          "output_type": "display_data",
          "data": {
            "text/html": [
              "<span style=\"color:cyan\"> |-Best step: 0</span>"
            ],
            "text/plain": [
              "<IPython.core.display.HTML object>"
            ]
          },
          "metadata": {
            "tags": []
          }
        },
        {
          "output_type": "stream",
          "text": [
            "Train on 86 samples, validate on 45 samples\n",
            "Epoch 1/30\n",
            "86/86 [==============================] - 1s 6ms/sample - loss: 1.1313 - accuracy: 0.4419 - val_loss: 1.0427 - val_accuracy: 0.4222\n",
            "Epoch 2/30\n",
            "86/86 [==============================] - 0s 2ms/sample - loss: 1.1111 - accuracy: 0.4651 - val_loss: 1.0411 - val_accuracy: 0.4444\n",
            "Epoch 3/30\n",
            "86/86 [==============================] - 0s 2ms/sample - loss: 1.0953 - accuracy: 0.4302 - val_loss: 1.0399 - val_accuracy: 0.4444\n",
            "Epoch 4/30\n",
            "86/86 [==============================] - 0s 2ms/sample - loss: 1.1869 - accuracy: 0.4535 - val_loss: 1.0388 - val_accuracy: 0.4444\n",
            "Epoch 5/30\n",
            "86/86 [==============================] - 0s 2ms/sample - loss: 1.0986 - accuracy: 0.4535 - val_loss: 1.0375 - val_accuracy: 0.4889\n",
            "Epoch 6/30\n",
            "86/86 [==============================] - 0s 2ms/sample - loss: 1.1108 - accuracy: 0.4535 - val_loss: 1.0364 - val_accuracy: 0.4889\n",
            "Epoch 7/30\n",
            "86/86 [==============================] - 0s 2ms/sample - loss: 1.1330 - accuracy: 0.3721 - val_loss: 1.0354 - val_accuracy: 0.4889\n",
            "Epoch 8/30\n",
            "86/86 [==============================] - 0s 2ms/sample - loss: 1.1157 - accuracy: 0.4767 - val_loss: 1.0342 - val_accuracy: 0.4889\n",
            "Epoch 9/30\n",
            "86/86 [==============================] - 0s 2ms/sample - loss: 1.2114 - accuracy: 0.3488 - val_loss: 1.0331 - val_accuracy: 0.4889\n",
            "Epoch 10/30\n",
            "86/86 [==============================] - 0s 2ms/sample - loss: 1.1948 - accuracy: 0.3953 - val_loss: 1.0322 - val_accuracy: 0.4889\n",
            "Epoch 11/30\n",
            "86/86 [==============================] - 0s 2ms/sample - loss: 1.0598 - accuracy: 0.5349 - val_loss: 1.0311 - val_accuracy: 0.4889\n",
            "Epoch 12/30\n",
            "86/86 [==============================] - 0s 2ms/sample - loss: 1.1318 - accuracy: 0.5000 - val_loss: 1.0300 - val_accuracy: 0.4889\n",
            "Epoch 13/30\n",
            "86/86 [==============================] - 0s 2ms/sample - loss: 0.9789 - accuracy: 0.5581 - val_loss: 1.0287 - val_accuracy: 0.5111\n",
            "Epoch 14/30\n",
            "86/86 [==============================] - 0s 2ms/sample - loss: 1.1244 - accuracy: 0.4767 - val_loss: 1.0277 - val_accuracy: 0.5111\n",
            "Epoch 15/30\n",
            "86/86 [==============================] - 0s 2ms/sample - loss: 1.1218 - accuracy: 0.5233 - val_loss: 1.0268 - val_accuracy: 0.5111\n",
            "Epoch 16/30\n",
            "86/86 [==============================] - 0s 2ms/sample - loss: 1.0219 - accuracy: 0.5581 - val_loss: 1.0258 - val_accuracy: 0.5111\n",
            "Epoch 17/30\n",
            "86/86 [==============================] - 0s 2ms/sample - loss: 1.1375 - accuracy: 0.4419 - val_loss: 1.0249 - val_accuracy: 0.5111\n",
            "Epoch 18/30\n",
            "86/86 [==============================] - 0s 2ms/sample - loss: 1.0711 - accuracy: 0.4651 - val_loss: 1.0240 - val_accuracy: 0.5333\n",
            "Epoch 19/30\n",
            "86/86 [==============================] - 0s 2ms/sample - loss: 1.1055 - accuracy: 0.4884 - val_loss: 1.0232 - val_accuracy: 0.5333\n",
            "Epoch 20/30\n",
            "86/86 [==============================] - 0s 2ms/sample - loss: 1.1149 - accuracy: 0.4651 - val_loss: 1.0221 - val_accuracy: 0.5333\n",
            "Epoch 21/30\n",
            "86/86 [==============================] - 0s 2ms/sample - loss: 1.1516 - accuracy: 0.4186 - val_loss: 1.0214 - val_accuracy: 0.5111\n",
            "Epoch 22/30\n",
            "86/86 [==============================] - 0s 2ms/sample - loss: 1.1078 - accuracy: 0.4186 - val_loss: 1.0203 - val_accuracy: 0.4889\n",
            "Epoch 23/30\n",
            "86/86 [==============================] - 0s 2ms/sample - loss: 1.1049 - accuracy: 0.4419 - val_loss: 1.0195 - val_accuracy: 0.4667\n",
            "Epoch 24/30\n",
            "86/86 [==============================] - 0s 2ms/sample - loss: 1.0658 - accuracy: 0.5116 - val_loss: 1.0187 - val_accuracy: 0.4667\n",
            "Epoch 25/30\n",
            "86/86 [==============================] - 0s 2ms/sample - loss: 1.0978 - accuracy: 0.4884 - val_loss: 1.0180 - val_accuracy: 0.4667\n",
            "Epoch 26/30\n",
            "86/86 [==============================] - 0s 2ms/sample - loss: 1.0471 - accuracy: 0.5116 - val_loss: 1.0170 - val_accuracy: 0.4444\n",
            "Epoch 27/30\n",
            "86/86 [==============================] - 0s 2ms/sample - loss: 1.1450 - accuracy: 0.4651 - val_loss: 1.0162 - val_accuracy: 0.4444\n",
            "Epoch 28/30\n",
            "86/86 [==============================] - 0s 2ms/sample - loss: 1.0248 - accuracy: 0.5000 - val_loss: 1.0155 - val_accuracy: 0.4444\n",
            "Epoch 29/30\n",
            "86/86 [==============================] - 0s 2ms/sample - loss: 1.0735 - accuracy: 0.4302 - val_loss: 1.0149 - val_accuracy: 0.4444\n",
            "Epoch 30/30\n",
            "86/86 [==============================] - 0s 2ms/sample - loss: 0.9722 - accuracy: 0.5465 - val_loss: 1.0141 - val_accuracy: 0.4444\n",
            "Train on 86 samples, validate on 45 samples\n",
            "Epoch 1/30\n",
            "86/86 [==============================] - 1s 6ms/sample - loss: 1.3477 - accuracy: 0.3023 - val_loss: 1.2576 - val_accuracy: 0.4667\n",
            "Epoch 2/30\n",
            "86/86 [==============================] - 0s 2ms/sample - loss: 1.3970 - accuracy: 0.3953 - val_loss: 1.2515 - val_accuracy: 0.4667\n",
            "Epoch 3/30\n",
            "86/86 [==============================] - 0s 2ms/sample - loss: 1.4577 - accuracy: 0.3140 - val_loss: 1.2468 - val_accuracy: 0.4667\n",
            "Epoch 4/30\n",
            "86/86 [==============================] - 0s 2ms/sample - loss: 1.3329 - accuracy: 0.4186 - val_loss: 1.2421 - val_accuracy: 0.4667\n",
            "Epoch 5/30\n",
            "86/86 [==============================] - 0s 2ms/sample - loss: 1.4222 - accuracy: 0.3953 - val_loss: 1.2374 - val_accuracy: 0.4667\n",
            "Epoch 6/30\n",
            "86/86 [==============================] - 0s 2ms/sample - loss: 1.4250 - accuracy: 0.3372 - val_loss: 1.2322 - val_accuracy: 0.4667\n",
            "Epoch 7/30\n",
            "86/86 [==============================] - 0s 2ms/sample - loss: 1.3128 - accuracy: 0.3488 - val_loss: 1.2280 - val_accuracy: 0.4667\n",
            "Epoch 8/30\n",
            "86/86 [==============================] - 0s 2ms/sample - loss: 1.4572 - accuracy: 0.3256 - val_loss: 1.2234 - val_accuracy: 0.4667\n",
            "Epoch 9/30\n",
            "86/86 [==============================] - 0s 2ms/sample - loss: 1.4101 - accuracy: 0.4302 - val_loss: 1.2193 - val_accuracy: 0.4667\n",
            "Epoch 10/30\n",
            "86/86 [==============================] - 0s 2ms/sample - loss: 1.3486 - accuracy: 0.3837 - val_loss: 1.2142 - val_accuracy: 0.4667\n",
            "Epoch 11/30\n",
            "86/86 [==============================] - 0s 2ms/sample - loss: 1.4495 - accuracy: 0.3256 - val_loss: 1.2095 - val_accuracy: 0.4667\n",
            "Epoch 12/30\n",
            "86/86 [==============================] - 0s 2ms/sample - loss: 1.3336 - accuracy: 0.3605 - val_loss: 1.2051 - val_accuracy: 0.4667\n",
            "Epoch 13/30\n",
            "86/86 [==============================] - 0s 2ms/sample - loss: 1.3968 - accuracy: 0.3837 - val_loss: 1.2003 - val_accuracy: 0.4667\n",
            "Epoch 14/30\n",
            "86/86 [==============================] - 0s 2ms/sample - loss: 1.3508 - accuracy: 0.3488 - val_loss: 1.1965 - val_accuracy: 0.4667\n",
            "Epoch 15/30\n",
            "86/86 [==============================] - 0s 2ms/sample - loss: 1.2828 - accuracy: 0.4651 - val_loss: 1.1925 - val_accuracy: 0.4667\n",
            "Epoch 16/30\n",
            "86/86 [==============================] - 0s 2ms/sample - loss: 1.2933 - accuracy: 0.3372 - val_loss: 1.1888 - val_accuracy: 0.4667\n",
            "Epoch 17/30\n",
            "86/86 [==============================] - 0s 2ms/sample - loss: 1.3528 - accuracy: 0.3837 - val_loss: 1.1847 - val_accuracy: 0.4667\n",
            "Epoch 18/30\n",
            "86/86 [==============================] - 0s 2ms/sample - loss: 1.2862 - accuracy: 0.3837 - val_loss: 1.1805 - val_accuracy: 0.4667\n",
            "Epoch 19/30\n",
            "86/86 [==============================] - 0s 2ms/sample - loss: 1.3440 - accuracy: 0.3140 - val_loss: 1.1770 - val_accuracy: 0.4667\n",
            "Epoch 20/30\n",
            "86/86 [==============================] - 0s 2ms/sample - loss: 1.2203 - accuracy: 0.4535 - val_loss: 1.1731 - val_accuracy: 0.4667\n",
            "Epoch 21/30\n",
            "86/86 [==============================] - 0s 2ms/sample - loss: 1.1787 - accuracy: 0.4419 - val_loss: 1.1701 - val_accuracy: 0.4667\n",
            "Epoch 22/30\n",
            "86/86 [==============================] - 0s 2ms/sample - loss: 1.2612 - accuracy: 0.3721 - val_loss: 1.1666 - val_accuracy: 0.4667\n",
            "Epoch 23/30\n",
            "86/86 [==============================] - 0s 2ms/sample - loss: 1.2279 - accuracy: 0.3721 - val_loss: 1.1634 - val_accuracy: 0.4667\n",
            "Epoch 24/30\n",
            "86/86 [==============================] - 0s 2ms/sample - loss: 1.2714 - accuracy: 0.4651 - val_loss: 1.1606 - val_accuracy: 0.4667\n",
            "Epoch 25/30\n",
            "86/86 [==============================] - 0s 2ms/sample - loss: 1.1946 - accuracy: 0.4070 - val_loss: 1.1572 - val_accuracy: 0.4667\n",
            "Epoch 26/30\n",
            "86/86 [==============================] - 0s 2ms/sample - loss: 1.2296 - accuracy: 0.3721 - val_loss: 1.1538 - val_accuracy: 0.4667\n",
            "Epoch 27/30\n",
            "86/86 [==============================] - 0s 2ms/sample - loss: 1.1786 - accuracy: 0.4419 - val_loss: 1.1506 - val_accuracy: 0.4667\n",
            "Epoch 28/30\n",
            "86/86 [==============================] - 0s 2ms/sample - loss: 1.2813 - accuracy: 0.3256 - val_loss: 1.1472 - val_accuracy: 0.4667\n",
            "Epoch 29/30\n",
            "86/86 [==============================] - 0s 2ms/sample - loss: 1.2564 - accuracy: 0.4419 - val_loss: 1.1438 - val_accuracy: 0.4667\n",
            "Epoch 30/30\n",
            "86/86 [==============================] - 0s 2ms/sample - loss: 1.2390 - accuracy: 0.3953 - val_loss: 1.1403 - val_accuracy: 0.4667\n",
            "Train on 86 samples, validate on 45 samples\n",
            "Epoch 1/30\n",
            "86/86 [==============================] - 0s 6ms/sample - loss: 1.3062 - accuracy: 0.4070 - val_loss: 1.2352 - val_accuracy: 0.2444\n",
            "Epoch 2/30\n",
            "86/86 [==============================] - 0s 2ms/sample - loss: 1.3943 - accuracy: 0.3953 - val_loss: 1.2305 - val_accuracy: 0.2444\n",
            "Epoch 3/30\n",
            "86/86 [==============================] - 0s 2ms/sample - loss: 1.6079 - accuracy: 0.2093 - val_loss: 1.2255 - val_accuracy: 0.2444\n",
            "Epoch 4/30\n",
            "86/86 [==============================] - 0s 2ms/sample - loss: 1.3618 - accuracy: 0.2907 - val_loss: 1.2208 - val_accuracy: 0.2444\n",
            "Epoch 5/30\n",
            "86/86 [==============================] - 0s 2ms/sample - loss: 1.3479 - accuracy: 0.3023 - val_loss: 1.2167 - val_accuracy: 0.2444\n",
            "Epoch 6/30\n",
            "86/86 [==============================] - 0s 2ms/sample - loss: 1.3908 - accuracy: 0.2558 - val_loss: 1.2123 - val_accuracy: 0.2444\n",
            "Epoch 7/30\n",
            "86/86 [==============================] - 0s 2ms/sample - loss: 1.3243 - accuracy: 0.3605 - val_loss: 1.2077 - val_accuracy: 0.2667\n",
            "Epoch 8/30\n",
            "86/86 [==============================] - 0s 2ms/sample - loss: 1.3883 - accuracy: 0.2558 - val_loss: 1.2038 - val_accuracy: 0.2667\n",
            "Epoch 9/30\n",
            "86/86 [==============================] - 0s 2ms/sample - loss: 1.5188 - accuracy: 0.1977 - val_loss: 1.1978 - val_accuracy: 0.2444\n",
            "Epoch 10/30\n",
            "86/86 [==============================] - 0s 2ms/sample - loss: 1.4361 - accuracy: 0.2326 - val_loss: 1.1936 - val_accuracy: 0.2444\n",
            "Epoch 11/30\n",
            "86/86 [==============================] - 0s 2ms/sample - loss: 1.4168 - accuracy: 0.3372 - val_loss: 1.1884 - val_accuracy: 0.2444\n",
            "Epoch 12/30\n",
            "86/86 [==============================] - 0s 2ms/sample - loss: 1.2793 - accuracy: 0.3721 - val_loss: 1.1842 - val_accuracy: 0.2444\n",
            "Epoch 13/30\n",
            "86/86 [==============================] - 0s 2ms/sample - loss: 1.3848 - accuracy: 0.3256 - val_loss: 1.1797 - val_accuracy: 0.2667\n",
            "Epoch 14/30\n",
            "86/86 [==============================] - 0s 2ms/sample - loss: 1.2841 - accuracy: 0.3721 - val_loss: 1.1763 - val_accuracy: 0.2667\n",
            "Epoch 15/30\n",
            "86/86 [==============================] - 0s 2ms/sample - loss: 1.3173 - accuracy: 0.3140 - val_loss: 1.1728 - val_accuracy: 0.2667\n",
            "Epoch 16/30\n",
            "86/86 [==============================] - 0s 2ms/sample - loss: 1.4180 - accuracy: 0.2442 - val_loss: 1.1669 - val_accuracy: 0.3111\n",
            "Epoch 17/30\n",
            "86/86 [==============================] - 0s 2ms/sample - loss: 1.3186 - accuracy: 0.3256 - val_loss: 1.1641 - val_accuracy: 0.3111\n",
            "Epoch 18/30\n",
            "86/86 [==============================] - 0s 2ms/sample - loss: 1.2800 - accuracy: 0.3605 - val_loss: 1.1609 - val_accuracy: 0.3111\n",
            "Epoch 19/30\n",
            "86/86 [==============================] - 0s 2ms/sample - loss: 1.3353 - accuracy: 0.2907 - val_loss: 1.1573 - val_accuracy: 0.3556\n",
            "Epoch 20/30\n",
            "86/86 [==============================] - 0s 2ms/sample - loss: 1.3387 - accuracy: 0.3140 - val_loss: 1.1540 - val_accuracy: 0.3556\n",
            "Epoch 21/30\n",
            "86/86 [==============================] - 0s 2ms/sample - loss: 1.3752 - accuracy: 0.2791 - val_loss: 1.1504 - val_accuracy: 0.3778\n",
            "Epoch 22/30\n",
            "86/86 [==============================] - 0s 2ms/sample - loss: 1.3177 - accuracy: 0.3140 - val_loss: 1.1466 - val_accuracy: 0.3778\n",
            "Epoch 23/30\n",
            "86/86 [==============================] - 0s 2ms/sample - loss: 1.2844 - accuracy: 0.3488 - val_loss: 1.1434 - val_accuracy: 0.3778\n",
            "Epoch 24/30\n",
            "86/86 [==============================] - 0s 2ms/sample - loss: 1.2976 - accuracy: 0.3372 - val_loss: 1.1402 - val_accuracy: 0.3778\n",
            "Epoch 25/30\n",
            "86/86 [==============================] - 0s 2ms/sample - loss: 1.2355 - accuracy: 0.3837 - val_loss: 1.1380 - val_accuracy: 0.3778\n",
            "Epoch 26/30\n",
            "86/86 [==============================] - 0s 2ms/sample - loss: 1.2422 - accuracy: 0.4070 - val_loss: 1.1341 - val_accuracy: 0.3778\n",
            "Epoch 27/30\n",
            "86/86 [==============================] - 0s 2ms/sample - loss: 1.2692 - accuracy: 0.3140 - val_loss: 1.1315 - val_accuracy: 0.3556\n",
            "Epoch 28/30\n",
            "86/86 [==============================] - 0s 2ms/sample - loss: 1.2621 - accuracy: 0.3837 - val_loss: 1.1289 - val_accuracy: 0.3556\n",
            "Epoch 29/30\n",
            "86/86 [==============================] - 0s 2ms/sample - loss: 1.2512 - accuracy: 0.3837 - val_loss: 1.1254 - val_accuracy: 0.4000\n",
            "Epoch 30/30\n",
            "86/86 [==============================] - 0s 2ms/sample - loss: 1.1560 - accuracy: 0.4302 - val_loss: 1.1220 - val_accuracy: 0.4000\n",
            "Train on 86 samples, validate on 45 samples\n",
            "Epoch 1/30\n",
            "86/86 [==============================] - 1s 6ms/sample - loss: 1.3157 - accuracy: 0.3837 - val_loss: 1.2244 - val_accuracy: 0.4000\n",
            "Epoch 2/30\n",
            "86/86 [==============================] - 0s 2ms/sample - loss: 1.3550 - accuracy: 0.3837 - val_loss: 1.2198 - val_accuracy: 0.4000\n",
            "Epoch 3/30\n",
            "86/86 [==============================] - 0s 2ms/sample - loss: 1.3239 - accuracy: 0.3488 - val_loss: 1.2152 - val_accuracy: 0.4000\n",
            "Epoch 4/30\n",
            "86/86 [==============================] - 0s 2ms/sample - loss: 1.2932 - accuracy: 0.4186 - val_loss: 1.2108 - val_accuracy: 0.4000\n",
            "Epoch 5/30\n",
            "86/86 [==============================] - 0s 2ms/sample - loss: 1.2927 - accuracy: 0.3721 - val_loss: 1.2070 - val_accuracy: 0.4000\n",
            "Epoch 6/30\n",
            "86/86 [==============================] - 0s 2ms/sample - loss: 1.2605 - accuracy: 0.3605 - val_loss: 1.2036 - val_accuracy: 0.4000\n",
            "Epoch 7/30\n",
            "86/86 [==============================] - 0s 2ms/sample - loss: 1.3068 - accuracy: 0.3953 - val_loss: 1.1997 - val_accuracy: 0.4000\n",
            "Epoch 8/30\n",
            "86/86 [==============================] - 0s 2ms/sample - loss: 1.2654 - accuracy: 0.3837 - val_loss: 1.1957 - val_accuracy: 0.4000\n",
            "Epoch 9/30\n",
            "86/86 [==============================] - 0s 2ms/sample - loss: 1.4183 - accuracy: 0.2209 - val_loss: 1.1911 - val_accuracy: 0.4000\n",
            "Epoch 10/30\n",
            "86/86 [==============================] - 0s 2ms/sample - loss: 1.2672 - accuracy: 0.3256 - val_loss: 1.1872 - val_accuracy: 0.4000\n",
            "Epoch 11/30\n",
            "86/86 [==============================] - 0s 2ms/sample - loss: 1.1947 - accuracy: 0.3488 - val_loss: 1.1836 - val_accuracy: 0.4000\n",
            "Epoch 12/30\n",
            "86/86 [==============================] - 0s 2ms/sample - loss: 1.3932 - accuracy: 0.2674 - val_loss: 1.1791 - val_accuracy: 0.4000\n",
            "Epoch 13/30\n",
            "86/86 [==============================] - 0s 2ms/sample - loss: 1.2799 - accuracy: 0.3140 - val_loss: 1.1750 - val_accuracy: 0.4000\n",
            "Epoch 14/30\n",
            "86/86 [==============================] - 0s 2ms/sample - loss: 1.2785 - accuracy: 0.2442 - val_loss: 1.1711 - val_accuracy: 0.4000\n",
            "Epoch 15/30\n",
            "86/86 [==============================] - 0s 2ms/sample - loss: 1.2675 - accuracy: 0.3605 - val_loss: 1.1678 - val_accuracy: 0.4000\n",
            "Epoch 16/30\n",
            "86/86 [==============================] - 0s 2ms/sample - loss: 1.2010 - accuracy: 0.3953 - val_loss: 1.1643 - val_accuracy: 0.4000\n",
            "Epoch 17/30\n",
            "86/86 [==============================] - 0s 2ms/sample - loss: 1.2395 - accuracy: 0.3953 - val_loss: 1.1606 - val_accuracy: 0.4000\n",
            "Epoch 18/30\n",
            "86/86 [==============================] - 0s 2ms/sample - loss: 1.2595 - accuracy: 0.3953 - val_loss: 1.1570 - val_accuracy: 0.4000\n",
            "Epoch 19/30\n",
            "86/86 [==============================] - 0s 2ms/sample - loss: 1.2377 - accuracy: 0.3721 - val_loss: 1.1541 - val_accuracy: 0.4000\n",
            "Epoch 20/30\n",
            "86/86 [==============================] - 0s 2ms/sample - loss: 1.2618 - accuracy: 0.4186 - val_loss: 1.1504 - val_accuracy: 0.4000\n",
            "Epoch 21/30\n",
            "86/86 [==============================] - 0s 2ms/sample - loss: 1.1993 - accuracy: 0.4651 - val_loss: 1.1477 - val_accuracy: 0.4000\n",
            "Epoch 22/30\n",
            "86/86 [==============================] - 0s 2ms/sample - loss: 1.2112 - accuracy: 0.3721 - val_loss: 1.1448 - val_accuracy: 0.4000\n",
            "Epoch 23/30\n",
            "86/86 [==============================] - 0s 2ms/sample - loss: 1.1249 - accuracy: 0.4651 - val_loss: 1.1417 - val_accuracy: 0.4000\n",
            "Epoch 24/30\n",
            "86/86 [==============================] - 0s 2ms/sample - loss: 1.2432 - accuracy: 0.4070 - val_loss: 1.1378 - val_accuracy: 0.4000\n",
            "Epoch 25/30\n",
            "86/86 [==============================] - 0s 2ms/sample - loss: 1.1911 - accuracy: 0.4070 - val_loss: 1.1344 - val_accuracy: 0.4000\n",
            "Epoch 26/30\n",
            "86/86 [==============================] - 0s 2ms/sample - loss: 1.1794 - accuracy: 0.3721 - val_loss: 1.1321 - val_accuracy: 0.4000\n",
            "Epoch 27/30\n",
            "86/86 [==============================] - 0s 2ms/sample - loss: 1.2742 - accuracy: 0.3837 - val_loss: 1.1288 - val_accuracy: 0.4000\n",
            "Epoch 28/30\n",
            "86/86 [==============================] - 0s 2ms/sample - loss: 1.1885 - accuracy: 0.3953 - val_loss: 1.1265 - val_accuracy: 0.4000\n",
            "Epoch 29/30\n",
            "86/86 [==============================] - 0s 2ms/sample - loss: 1.1793 - accuracy: 0.3721 - val_loss: 1.1238 - val_accuracy: 0.4000\n",
            "Epoch 30/30\n",
            "86/86 [==============================] - 0s 2ms/sample - loss: 1.1050 - accuracy: 0.4767 - val_loss: 1.1212 - val_accuracy: 0.4000\n",
            "Train on 86 samples, validate on 45 samples\n",
            "Epoch 1/30\n",
            "86/86 [==============================] - 0s 6ms/sample - loss: 1.4597 - accuracy: 0.2326 - val_loss: 1.3290 - val_accuracy: 0.1333\n",
            "Epoch 2/30\n",
            "86/86 [==============================] - 0s 2ms/sample - loss: 1.3366 - accuracy: 0.3256 - val_loss: 1.3222 - val_accuracy: 0.1333\n",
            "Epoch 3/30\n",
            "86/86 [==============================] - 0s 2ms/sample - loss: 1.4496 - accuracy: 0.2442 - val_loss: 1.3135 - val_accuracy: 0.1333\n",
            "Epoch 4/30\n",
            "86/86 [==============================] - 0s 2ms/sample - loss: 1.4351 - accuracy: 0.2442 - val_loss: 1.3065 - val_accuracy: 0.1333\n",
            "Epoch 5/30\n",
            "86/86 [==============================] - 0s 2ms/sample - loss: 1.3384 - accuracy: 0.2442 - val_loss: 1.2988 - val_accuracy: 0.1333\n",
            "Epoch 6/30\n",
            "86/86 [==============================] - 0s 2ms/sample - loss: 1.4235 - accuracy: 0.2326 - val_loss: 1.2908 - val_accuracy: 0.1333\n",
            "Epoch 7/30\n",
            "86/86 [==============================] - 0s 2ms/sample - loss: 1.3885 - accuracy: 0.3023 - val_loss: 1.2831 - val_accuracy: 0.1333\n",
            "Epoch 8/30\n",
            "86/86 [==============================] - 0s 2ms/sample - loss: 1.3746 - accuracy: 0.2674 - val_loss: 1.2759 - val_accuracy: 0.1333\n",
            "Epoch 9/30\n",
            "86/86 [==============================] - 0s 2ms/sample - loss: 1.4079 - accuracy: 0.2326 - val_loss: 1.2686 - val_accuracy: 0.1333\n",
            "Epoch 10/30\n",
            "86/86 [==============================] - 0s 2ms/sample - loss: 1.3400 - accuracy: 0.2907 - val_loss: 1.2623 - val_accuracy: 0.1333\n",
            "Epoch 11/30\n",
            "86/86 [==============================] - 0s 2ms/sample - loss: 1.3716 - accuracy: 0.2326 - val_loss: 1.2559 - val_accuracy: 0.1333\n",
            "Epoch 12/30\n",
            "86/86 [==============================] - 0s 2ms/sample - loss: 1.2883 - accuracy: 0.3023 - val_loss: 1.2496 - val_accuracy: 0.1333\n",
            "Epoch 13/30\n",
            "86/86 [==============================] - 0s 2ms/sample - loss: 1.2832 - accuracy: 0.2093 - val_loss: 1.2433 - val_accuracy: 0.1333\n",
            "Epoch 14/30\n",
            "86/86 [==============================] - 0s 2ms/sample - loss: 1.3279 - accuracy: 0.2791 - val_loss: 1.2373 - val_accuracy: 0.1333\n",
            "Epoch 15/30\n",
            "86/86 [==============================] - 0s 2ms/sample - loss: 1.2852 - accuracy: 0.2442 - val_loss: 1.2321 - val_accuracy: 0.1333\n",
            "Epoch 16/30\n",
            "86/86 [==============================] - 0s 2ms/sample - loss: 1.3312 - accuracy: 0.2907 - val_loss: 1.2255 - val_accuracy: 0.1333\n",
            "Epoch 17/30\n",
            "86/86 [==============================] - 0s 2ms/sample - loss: 1.2985 - accuracy: 0.2442 - val_loss: 1.2190 - val_accuracy: 0.1333\n",
            "Epoch 18/30\n",
            "86/86 [==============================] - 0s 2ms/sample - loss: 1.2375 - accuracy: 0.2558 - val_loss: 1.2136 - val_accuracy: 0.1333\n",
            "Epoch 19/30\n",
            "86/86 [==============================] - 0s 2ms/sample - loss: 1.2948 - accuracy: 0.2442 - val_loss: 1.2081 - val_accuracy: 0.1333\n",
            "Epoch 20/30\n",
            "86/86 [==============================] - 0s 2ms/sample - loss: 1.2600 - accuracy: 0.2209 - val_loss: 1.2038 - val_accuracy: 0.1333\n",
            "Epoch 21/30\n",
            "86/86 [==============================] - 0s 2ms/sample - loss: 1.3042 - accuracy: 0.1977 - val_loss: 1.1980 - val_accuracy: 0.1333\n",
            "Epoch 22/30\n",
            "86/86 [==============================] - 0s 2ms/sample - loss: 1.2309 - accuracy: 0.3140 - val_loss: 1.1934 - val_accuracy: 0.1333\n",
            "Epoch 23/30\n",
            "86/86 [==============================] - 0s 2ms/sample - loss: 1.3010 - accuracy: 0.3256 - val_loss: 1.1883 - val_accuracy: 0.1333\n",
            "Epoch 24/30\n",
            "86/86 [==============================] - 0s 2ms/sample - loss: 1.2284 - accuracy: 0.2674 - val_loss: 1.1833 - val_accuracy: 0.1333\n",
            "Epoch 25/30\n",
            "86/86 [==============================] - 0s 2ms/sample - loss: 1.2286 - accuracy: 0.2442 - val_loss: 1.1785 - val_accuracy: 0.1333\n",
            "Epoch 26/30\n",
            "86/86 [==============================] - 0s 2ms/sample - loss: 1.2745 - accuracy: 0.2791 - val_loss: 1.1735 - val_accuracy: 0.1333\n",
            "Epoch 27/30\n",
            "86/86 [==============================] - 0s 2ms/sample - loss: 1.1889 - accuracy: 0.3140 - val_loss: 1.1696 - val_accuracy: 0.1333\n",
            "Epoch 28/30\n",
            "86/86 [==============================] - 0s 2ms/sample - loss: 1.2251 - accuracy: 0.2674 - val_loss: 1.1656 - val_accuracy: 0.1333\n",
            "Epoch 29/30\n",
            "86/86 [==============================] - 0s 2ms/sample - loss: 1.2255 - accuracy: 0.3023 - val_loss: 1.1612 - val_accuracy: 0.1333\n",
            "Epoch 30/30\n",
            "86/86 [==============================] - 0s 2ms/sample - loss: 1.2562 - accuracy: 0.2558 - val_loss: 1.1564 - val_accuracy: 0.1333\n"
          ],
          "name": "stdout"
        },
        {
          "output_type": "display_data",
          "data": {
            "text/html": [
              "<span style=\"color:#4527A0\"><h1 style=\"font-size:18px\">Trial complete</h1></span>"
            ],
            "text/plain": [
              "<IPython.core.display.HTML object>"
            ]
          },
          "metadata": {
            "tags": []
          }
        },
        {
          "output_type": "display_data",
          "data": {
            "text/html": [
              "<span style=\"color:#4527A0\"><h1 style=\"font-size:18px\">Trial summary</h1></span>"
            ],
            "text/plain": [
              "<IPython.core.display.HTML object>"
            ]
          },
          "metadata": {
            "tags": []
          }
        },
        {
          "output_type": "display_data",
          "data": {
            "text/html": [
              "<span style=\"color:#7E57C2\"><h2 style=\"font-size:16px\">Hp values:</h2></span>"
            ],
            "text/plain": [
              "<IPython.core.display.HTML object>"
            ]
          },
          "metadata": {
            "tags": []
          }
        },
        {
          "output_type": "display_data",
          "data": {
            "text/html": [
              "<span style=\"color:cyan\"> |-activation: sigmoid</span>"
            ],
            "text/plain": [
              "<IPython.core.display.HTML object>"
            ]
          },
          "metadata": {
            "tags": []
          }
        },
        {
          "output_type": "display_data",
          "data": {
            "text/html": [
              "<span style=\"color:blue\"> |-drop_rate: 0.6</span>"
            ],
            "text/plain": [
              "<IPython.core.display.HTML object>"
            ]
          },
          "metadata": {
            "tags": []
          }
        },
        {
          "output_type": "display_data",
          "data": {
            "text/html": [
              "<span style=\"color:cyan\"> |-learning_rate: 0.0001</span>"
            ],
            "text/plain": [
              "<IPython.core.display.HTML object>"
            ]
          },
          "metadata": {
            "tags": []
          }
        },
        {
          "output_type": "display_data",
          "data": {
            "text/html": [
              "<span style=\"color:blue\"> |-units: 3</span>"
            ],
            "text/plain": [
              "<IPython.core.display.HTML object>"
            ]
          },
          "metadata": {
            "tags": []
          }
        },
        {
          "output_type": "display_data",
          "data": {
            "text/html": [
              "<span style=\"color:cyan\"> |-weight_init: normal</span>"
            ],
            "text/plain": [
              "<IPython.core.display.HTML object>"
            ]
          },
          "metadata": {
            "tags": []
          }
        },
        {
          "output_type": "display_data",
          "data": {
            "text/html": [
              "<span style=\"color:cyan\"> |-Score: 0.3866666555404663</span>"
            ],
            "text/plain": [
              "<IPython.core.display.HTML object>"
            ]
          },
          "metadata": {
            "tags": []
          }
        },
        {
          "output_type": "display_data",
          "data": {
            "text/html": [
              "<span style=\"color:cyan\"> |-Best step: 0</span>"
            ],
            "text/plain": [
              "<IPython.core.display.HTML object>"
            ]
          },
          "metadata": {
            "tags": []
          }
        },
        {
          "output_type": "stream",
          "text": [
            "Train on 86 samples, validate on 45 samples\n",
            "Epoch 1/30\n",
            "86/86 [==============================] - 1s 6ms/sample - loss: 1.2483 - accuracy: 0.4419 - val_loss: 1.1470 - val_accuracy: 0.3111\n",
            "Epoch 2/30\n",
            "86/86 [==============================] - 0s 2ms/sample - loss: 1.1713 - accuracy: 0.3837 - val_loss: 1.1448 - val_accuracy: 0.3111\n",
            "Epoch 3/30\n",
            "86/86 [==============================] - 0s 2ms/sample - loss: 1.2266 - accuracy: 0.4302 - val_loss: 1.1433 - val_accuracy: 0.3111\n",
            "Epoch 4/30\n",
            "86/86 [==============================] - 0s 2ms/sample - loss: 1.1561 - accuracy: 0.5000 - val_loss: 1.1415 - val_accuracy: 0.3111\n",
            "Epoch 5/30\n",
            "86/86 [==============================] - 0s 2ms/sample - loss: 1.2300 - accuracy: 0.4651 - val_loss: 1.1396 - val_accuracy: 0.3111\n",
            "Epoch 6/30\n",
            "86/86 [==============================] - 0s 2ms/sample - loss: 1.2596 - accuracy: 0.5116 - val_loss: 1.1377 - val_accuracy: 0.3111\n",
            "Epoch 7/30\n",
            "86/86 [==============================] - 0s 2ms/sample - loss: 1.1483 - accuracy: 0.4884 - val_loss: 1.1365 - val_accuracy: 0.3111\n",
            "Epoch 8/30\n",
            "86/86 [==============================] - 0s 2ms/sample - loss: 1.2420 - accuracy: 0.3605 - val_loss: 1.1351 - val_accuracy: 0.3111\n",
            "Epoch 9/30\n",
            "86/86 [==============================] - 0s 2ms/sample - loss: 1.2695 - accuracy: 0.4419 - val_loss: 1.1337 - val_accuracy: 0.3111\n",
            "Epoch 10/30\n",
            "86/86 [==============================] - 0s 2ms/sample - loss: 1.1714 - accuracy: 0.4302 - val_loss: 1.1323 - val_accuracy: 0.3111\n",
            "Epoch 11/30\n",
            "86/86 [==============================] - 0s 2ms/sample - loss: 1.2046 - accuracy: 0.4419 - val_loss: 1.1309 - val_accuracy: 0.3111\n",
            "Epoch 12/30\n",
            "86/86 [==============================] - 0s 2ms/sample - loss: 1.3383 - accuracy: 0.3837 - val_loss: 1.1286 - val_accuracy: 0.3111\n",
            "Epoch 13/30\n",
            "86/86 [==============================] - 0s 2ms/sample - loss: 1.2306 - accuracy: 0.4419 - val_loss: 1.1267 - val_accuracy: 0.3111\n",
            "Epoch 14/30\n",
            "86/86 [==============================] - 0s 2ms/sample - loss: 1.2897 - accuracy: 0.3372 - val_loss: 1.1245 - val_accuracy: 0.3111\n",
            "Epoch 15/30\n",
            "86/86 [==============================] - 0s 2ms/sample - loss: 1.1655 - accuracy: 0.4419 - val_loss: 1.1230 - val_accuracy: 0.2889\n",
            "Epoch 16/30\n",
            "86/86 [==============================] - 0s 2ms/sample - loss: 1.3425 - accuracy: 0.4419 - val_loss: 1.1210 - val_accuracy: 0.2889\n",
            "Epoch 17/30\n",
            "86/86 [==============================] - 0s 2ms/sample - loss: 1.2355 - accuracy: 0.4535 - val_loss: 1.1193 - val_accuracy: 0.2889\n",
            "Epoch 18/30\n",
            "86/86 [==============================] - 0s 2ms/sample - loss: 1.1037 - accuracy: 0.4651 - val_loss: 1.1180 - val_accuracy: 0.3111\n",
            "Epoch 19/30\n",
            "86/86 [==============================] - 0s 2ms/sample - loss: 1.2054 - accuracy: 0.4767 - val_loss: 1.1165 - val_accuracy: 0.3111\n",
            "Epoch 20/30\n",
            "86/86 [==============================] - 0s 2ms/sample - loss: 1.1739 - accuracy: 0.4651 - val_loss: 1.1150 - val_accuracy: 0.3111\n",
            "Epoch 21/30\n",
            "86/86 [==============================] - 0s 2ms/sample - loss: 1.0979 - accuracy: 0.4186 - val_loss: 1.1138 - val_accuracy: 0.3111\n",
            "Epoch 22/30\n",
            "86/86 [==============================] - 0s 2ms/sample - loss: 1.3243 - accuracy: 0.3837 - val_loss: 1.1122 - val_accuracy: 0.3111\n",
            "Epoch 23/30\n",
            "86/86 [==============================] - 0s 2ms/sample - loss: 1.2183 - accuracy: 0.4186 - val_loss: 1.1107 - val_accuracy: 0.3111\n",
            "Epoch 24/30\n",
            "86/86 [==============================] - 0s 2ms/sample - loss: 1.0940 - accuracy: 0.3721 - val_loss: 1.1095 - val_accuracy: 0.2889\n",
            "Epoch 25/30\n",
            "86/86 [==============================] - 0s 2ms/sample - loss: 1.1015 - accuracy: 0.4651 - val_loss: 1.1083 - val_accuracy: 0.2889\n",
            "Epoch 26/30\n",
            "86/86 [==============================] - 0s 2ms/sample - loss: 1.1897 - accuracy: 0.4767 - val_loss: 1.1068 - val_accuracy: 0.2889\n",
            "Epoch 27/30\n",
            "86/86 [==============================] - 0s 2ms/sample - loss: 1.1980 - accuracy: 0.3953 - val_loss: 1.1056 - val_accuracy: 0.2889\n",
            "Epoch 28/30\n",
            "86/86 [==============================] - 0s 2ms/sample - loss: 1.2390 - accuracy: 0.4767 - val_loss: 1.1040 - val_accuracy: 0.2889\n",
            "Epoch 29/30\n",
            "86/86 [==============================] - 0s 2ms/sample - loss: 1.1485 - accuracy: 0.4302 - val_loss: 1.1031 - val_accuracy: 0.2889\n",
            "Epoch 30/30\n",
            "86/86 [==============================] - 0s 2ms/sample - loss: 1.2449 - accuracy: 0.4302 - val_loss: 1.1017 - val_accuracy: 0.2889\n",
            "Train on 86 samples, validate on 45 samples\n",
            "Epoch 1/30\n",
            "86/86 [==============================] - 1s 6ms/sample - loss: 1.2883 - accuracy: 0.3372 - val_loss: 1.1787 - val_accuracy: 0.1556\n",
            "Epoch 2/30\n",
            "86/86 [==============================] - 0s 2ms/sample - loss: 1.1957 - accuracy: 0.3837 - val_loss: 1.1762 - val_accuracy: 0.1556\n",
            "Epoch 3/30\n",
            "86/86 [==============================] - 0s 2ms/sample - loss: 1.2097 - accuracy: 0.3721 - val_loss: 1.1741 - val_accuracy: 0.1556\n",
            "Epoch 4/30\n",
            "86/86 [==============================] - 0s 2ms/sample - loss: 1.4586 - accuracy: 0.3256 - val_loss: 1.1712 - val_accuracy: 0.1556\n",
            "Epoch 5/30\n",
            "86/86 [==============================] - 0s 2ms/sample - loss: 1.1661 - accuracy: 0.4419 - val_loss: 1.1691 - val_accuracy: 0.2000\n",
            "Epoch 6/30\n",
            "86/86 [==============================] - 0s 2ms/sample - loss: 1.3153 - accuracy: 0.3721 - val_loss: 1.1665 - val_accuracy: 0.1778\n",
            "Epoch 7/30\n",
            "86/86 [==============================] - 0s 2ms/sample - loss: 1.1861 - accuracy: 0.3605 - val_loss: 1.1647 - val_accuracy: 0.1778\n",
            "Epoch 8/30\n",
            "86/86 [==============================] - 0s 2ms/sample - loss: 1.2134 - accuracy: 0.4070 - val_loss: 1.1627 - val_accuracy: 0.1778\n",
            "Epoch 9/30\n",
            "86/86 [==============================] - 0s 2ms/sample - loss: 1.4302 - accuracy: 0.3953 - val_loss: 1.1603 - val_accuracy: 0.2000\n",
            "Epoch 10/30\n",
            "86/86 [==============================] - 0s 2ms/sample - loss: 1.3654 - accuracy: 0.3837 - val_loss: 1.1580 - val_accuracy: 0.2000\n",
            "Epoch 11/30\n",
            "86/86 [==============================] - 0s 2ms/sample - loss: 1.1943 - accuracy: 0.3837 - val_loss: 1.1562 - val_accuracy: 0.2000\n",
            "Epoch 12/30\n",
            "86/86 [==============================] - 0s 2ms/sample - loss: 1.3613 - accuracy: 0.3721 - val_loss: 1.1531 - val_accuracy: 0.2000\n",
            "Epoch 13/30\n",
            "86/86 [==============================] - 0s 2ms/sample - loss: 1.3646 - accuracy: 0.3721 - val_loss: 1.1509 - val_accuracy: 0.2000\n",
            "Epoch 14/30\n",
            "86/86 [==============================] - 0s 2ms/sample - loss: 1.3645 - accuracy: 0.3953 - val_loss: 1.1491 - val_accuracy: 0.2000\n",
            "Epoch 15/30\n",
            "86/86 [==============================] - 0s 2ms/sample - loss: 1.1441 - accuracy: 0.4070 - val_loss: 1.1471 - val_accuracy: 0.2000\n",
            "Epoch 16/30\n",
            "86/86 [==============================] - 0s 2ms/sample - loss: 1.3456 - accuracy: 0.4070 - val_loss: 1.1451 - val_accuracy: 0.2000\n",
            "Epoch 17/30\n",
            "86/86 [==============================] - 0s 2ms/sample - loss: 1.3660 - accuracy: 0.4070 - val_loss: 1.1431 - val_accuracy: 0.2000\n",
            "Epoch 18/30\n",
            "86/86 [==============================] - 0s 2ms/sample - loss: 1.1900 - accuracy: 0.4651 - val_loss: 1.1413 - val_accuracy: 0.2222\n",
            "Epoch 19/30\n",
            "86/86 [==============================] - 0s 2ms/sample - loss: 1.3866 - accuracy: 0.4767 - val_loss: 1.1393 - val_accuracy: 0.2667\n",
            "Epoch 20/30\n",
            "86/86 [==============================] - 0s 2ms/sample - loss: 1.2897 - accuracy: 0.3837 - val_loss: 1.1372 - val_accuracy: 0.2889\n",
            "Epoch 21/30\n",
            "86/86 [==============================] - 0s 2ms/sample - loss: 1.3241 - accuracy: 0.4302 - val_loss: 1.1353 - val_accuracy: 0.2889\n",
            "Epoch 22/30\n",
            "86/86 [==============================] - 0s 2ms/sample - loss: 1.3583 - accuracy: 0.3605 - val_loss: 1.1333 - val_accuracy: 0.2889\n",
            "Epoch 23/30\n",
            "86/86 [==============================] - 0s 2ms/sample - loss: 1.1566 - accuracy: 0.4419 - val_loss: 1.1314 - val_accuracy: 0.2889\n",
            "Epoch 24/30\n",
            "86/86 [==============================] - 0s 2ms/sample - loss: 1.1578 - accuracy: 0.5233 - val_loss: 1.1299 - val_accuracy: 0.2889\n",
            "Epoch 25/30\n",
            "86/86 [==============================] - 0s 2ms/sample - loss: 1.2403 - accuracy: 0.4535 - val_loss: 1.1284 - val_accuracy: 0.2667\n",
            "Epoch 26/30\n",
            "86/86 [==============================] - 0s 2ms/sample - loss: 1.1720 - accuracy: 0.3721 - val_loss: 1.1265 - val_accuracy: 0.2667\n",
            "Epoch 27/30\n",
            "86/86 [==============================] - 0s 2ms/sample - loss: 1.2277 - accuracy: 0.3605 - val_loss: 1.1252 - val_accuracy: 0.2889\n",
            "Epoch 28/30\n",
            "86/86 [==============================] - 0s 2ms/sample - loss: 1.1271 - accuracy: 0.5000 - val_loss: 1.1239 - val_accuracy: 0.2889\n",
            "Epoch 29/30\n",
            "86/86 [==============================] - 0s 2ms/sample - loss: 1.2694 - accuracy: 0.3953 - val_loss: 1.1222 - val_accuracy: 0.3111\n",
            "Epoch 30/30\n",
            "86/86 [==============================] - 0s 2ms/sample - loss: 1.2638 - accuracy: 0.4070 - val_loss: 1.1199 - val_accuracy: 0.3111\n",
            "Train on 86 samples, validate on 45 samples\n",
            "Epoch 1/30\n",
            "86/86 [==============================] - 1s 6ms/sample - loss: 1.3857 - accuracy: 0.2791 - val_loss: 1.1659 - val_accuracy: 0.2889\n",
            "Epoch 2/30\n",
            "86/86 [==============================] - 0s 2ms/sample - loss: 1.2518 - accuracy: 0.2907 - val_loss: 1.1636 - val_accuracy: 0.2889\n",
            "Epoch 3/30\n",
            "86/86 [==============================] - 0s 2ms/sample - loss: 1.2010 - accuracy: 0.3140 - val_loss: 1.1615 - val_accuracy: 0.2889\n",
            "Epoch 4/30\n",
            "86/86 [==============================] - 0s 2ms/sample - loss: 1.2623 - accuracy: 0.4186 - val_loss: 1.1590 - val_accuracy: 0.2889\n",
            "Epoch 5/30\n",
            "86/86 [==============================] - 0s 2ms/sample - loss: 1.2113 - accuracy: 0.3837 - val_loss: 1.1573 - val_accuracy: 0.2889\n",
            "Epoch 6/30\n",
            "86/86 [==============================] - 0s 2ms/sample - loss: 1.3943 - accuracy: 0.3488 - val_loss: 1.1547 - val_accuracy: 0.2889\n",
            "Epoch 7/30\n",
            "86/86 [==============================] - 0s 2ms/sample - loss: 1.2787 - accuracy: 0.3953 - val_loss: 1.1530 - val_accuracy: 0.2889\n",
            "Epoch 8/30\n",
            "86/86 [==============================] - 0s 2ms/sample - loss: 1.2017 - accuracy: 0.3605 - val_loss: 1.1515 - val_accuracy: 0.2889\n",
            "Epoch 9/30\n",
            "86/86 [==============================] - 0s 2ms/sample - loss: 1.2492 - accuracy: 0.3953 - val_loss: 1.1497 - val_accuracy: 0.2889\n",
            "Epoch 10/30\n",
            "86/86 [==============================] - 0s 2ms/sample - loss: 1.2371 - accuracy: 0.3488 - val_loss: 1.1479 - val_accuracy: 0.3111\n",
            "Epoch 11/30\n",
            "86/86 [==============================] - 0s 2ms/sample - loss: 1.2347 - accuracy: 0.4419 - val_loss: 1.1459 - val_accuracy: 0.3111\n",
            "Epoch 12/30\n",
            "86/86 [==============================] - 0s 2ms/sample - loss: 1.2740 - accuracy: 0.3488 - val_loss: 1.1440 - val_accuracy: 0.3111\n",
            "Epoch 13/30\n",
            "86/86 [==============================] - 0s 2ms/sample - loss: 1.0963 - accuracy: 0.4186 - val_loss: 1.1423 - val_accuracy: 0.3111\n",
            "Epoch 14/30\n",
            "86/86 [==============================] - 0s 2ms/sample - loss: 1.2410 - accuracy: 0.4419 - val_loss: 1.1410 - val_accuracy: 0.3111\n",
            "Epoch 15/30\n",
            "86/86 [==============================] - 0s 2ms/sample - loss: 1.1651 - accuracy: 0.4186 - val_loss: 1.1392 - val_accuracy: 0.3111\n",
            "Epoch 16/30\n",
            "86/86 [==============================] - 0s 2ms/sample - loss: 1.1354 - accuracy: 0.4186 - val_loss: 1.1375 - val_accuracy: 0.3111\n",
            "Epoch 17/30\n",
            "86/86 [==============================] - 0s 3ms/sample - loss: 1.1874 - accuracy: 0.4070 - val_loss: 1.1356 - val_accuracy: 0.3111\n",
            "Epoch 18/30\n",
            "86/86 [==============================] - 0s 2ms/sample - loss: 1.2977 - accuracy: 0.4535 - val_loss: 1.1332 - val_accuracy: 0.3333\n",
            "Epoch 19/30\n",
            "86/86 [==============================] - 0s 2ms/sample - loss: 1.0966 - accuracy: 0.3837 - val_loss: 1.1317 - val_accuracy: 0.3333\n",
            "Epoch 20/30\n",
            "86/86 [==============================] - 0s 2ms/sample - loss: 1.2652 - accuracy: 0.4186 - val_loss: 1.1296 - val_accuracy: 0.3333\n",
            "Epoch 21/30\n",
            "86/86 [==============================] - 0s 2ms/sample - loss: 1.2345 - accuracy: 0.3605 - val_loss: 1.1277 - val_accuracy: 0.3333\n",
            "Epoch 22/30\n",
            "86/86 [==============================] - 0s 2ms/sample - loss: 1.2074 - accuracy: 0.4419 - val_loss: 1.1258 - val_accuracy: 0.3333\n",
            "Epoch 23/30\n",
            "86/86 [==============================] - 0s 2ms/sample - loss: 1.3478 - accuracy: 0.3837 - val_loss: 1.1237 - val_accuracy: 0.3111\n",
            "Epoch 24/30\n",
            "86/86 [==============================] - 0s 2ms/sample - loss: 1.1708 - accuracy: 0.4535 - val_loss: 1.1222 - val_accuracy: 0.3111\n",
            "Epoch 25/30\n",
            "86/86 [==============================] - 0s 2ms/sample - loss: 1.3027 - accuracy: 0.4535 - val_loss: 1.1202 - val_accuracy: 0.3111\n",
            "Epoch 26/30\n",
            "86/86 [==============================] - 0s 2ms/sample - loss: 1.0901 - accuracy: 0.5000 - val_loss: 1.1188 - val_accuracy: 0.3111\n",
            "Epoch 27/30\n",
            "86/86 [==============================] - 0s 2ms/sample - loss: 1.0818 - accuracy: 0.4302 - val_loss: 1.1173 - val_accuracy: 0.3333\n",
            "Epoch 28/30\n",
            "86/86 [==============================] - 0s 2ms/sample - loss: 1.2321 - accuracy: 0.4419 - val_loss: 1.1158 - val_accuracy: 0.3333\n",
            "Epoch 29/30\n",
            "86/86 [==============================] - 0s 2ms/sample - loss: 1.1649 - accuracy: 0.4767 - val_loss: 1.1143 - val_accuracy: 0.3333\n",
            "Epoch 30/30\n",
            "86/86 [==============================] - 0s 2ms/sample - loss: 1.1927 - accuracy: 0.4419 - val_loss: 1.1131 - val_accuracy: 0.3333\n",
            "Train on 86 samples, validate on 45 samples\n",
            "Epoch 1/30\n",
            "86/86 [==============================] - 1s 6ms/sample - loss: 1.3523 - accuracy: 0.4767 - val_loss: 1.0854 - val_accuracy: 0.3333\n",
            "Epoch 2/30\n",
            "86/86 [==============================] - 0s 2ms/sample - loss: 1.4123 - accuracy: 0.4070 - val_loss: 1.0841 - val_accuracy: 0.3333\n",
            "Epoch 3/30\n",
            "86/86 [==============================] - 0s 2ms/sample - loss: 1.1150 - accuracy: 0.4419 - val_loss: 1.0822 - val_accuracy: 0.3556\n",
            "Epoch 4/30\n",
            "86/86 [==============================] - 0s 2ms/sample - loss: 1.2736 - accuracy: 0.4419 - val_loss: 1.0802 - val_accuracy: 0.3556\n",
            "Epoch 5/30\n",
            "86/86 [==============================] - 0s 2ms/sample - loss: 1.2442 - accuracy: 0.4302 - val_loss: 1.0781 - val_accuracy: 0.3778\n",
            "Epoch 6/30\n",
            "86/86 [==============================] - 0s 2ms/sample - loss: 1.1944 - accuracy: 0.4884 - val_loss: 1.0765 - val_accuracy: 0.3778\n",
            "Epoch 7/30\n",
            "86/86 [==============================] - 0s 2ms/sample - loss: 1.3096 - accuracy: 0.5233 - val_loss: 1.0752 - val_accuracy: 0.4000\n",
            "Epoch 8/30\n",
            "86/86 [==============================] - 0s 2ms/sample - loss: 1.1702 - accuracy: 0.3953 - val_loss: 1.0738 - val_accuracy: 0.4000\n",
            "Epoch 9/30\n",
            "86/86 [==============================] - 0s 2ms/sample - loss: 1.3346 - accuracy: 0.4419 - val_loss: 1.0716 - val_accuracy: 0.4000\n",
            "Epoch 10/30\n",
            "86/86 [==============================] - 0s 2ms/sample - loss: 1.4616 - accuracy: 0.3837 - val_loss: 1.0702 - val_accuracy: 0.4222\n",
            "Epoch 11/30\n",
            "86/86 [==============================] - 0s 2ms/sample - loss: 1.2770 - accuracy: 0.4302 - val_loss: 1.0683 - val_accuracy: 0.4222\n",
            "Epoch 12/30\n",
            "86/86 [==============================] - 0s 2ms/sample - loss: 1.2509 - accuracy: 0.4419 - val_loss: 1.0669 - val_accuracy: 0.4222\n",
            "Epoch 13/30\n",
            "86/86 [==============================] - 0s 2ms/sample - loss: 1.2135 - accuracy: 0.5116 - val_loss: 1.0647 - val_accuracy: 0.4444\n",
            "Epoch 14/30\n",
            "86/86 [==============================] - 0s 2ms/sample - loss: 1.2795 - accuracy: 0.4070 - val_loss: 1.0634 - val_accuracy: 0.4444\n",
            "Epoch 15/30\n",
            "86/86 [==============================] - 0s 2ms/sample - loss: 1.2969 - accuracy: 0.4186 - val_loss: 1.0622 - val_accuracy: 0.4667\n",
            "Epoch 16/30\n",
            "86/86 [==============================] - 0s 2ms/sample - loss: 1.1426 - accuracy: 0.4884 - val_loss: 1.0609 - val_accuracy: 0.4667\n",
            "Epoch 17/30\n",
            "86/86 [==============================] - 0s 2ms/sample - loss: 1.2095 - accuracy: 0.4302 - val_loss: 1.0596 - val_accuracy: 0.4444\n",
            "Epoch 18/30\n",
            "86/86 [==============================] - 0s 2ms/sample - loss: 1.1205 - accuracy: 0.5000 - val_loss: 1.0581 - val_accuracy: 0.4444\n",
            "Epoch 19/30\n",
            "86/86 [==============================] - 0s 2ms/sample - loss: 1.0766 - accuracy: 0.4419 - val_loss: 1.0570 - val_accuracy: 0.4444\n",
            "Epoch 20/30\n",
            "86/86 [==============================] - 0s 2ms/sample - loss: 1.2244 - accuracy: 0.4767 - val_loss: 1.0557 - val_accuracy: 0.4444\n",
            "Epoch 21/30\n",
            "86/86 [==============================] - 0s 2ms/sample - loss: 1.1227 - accuracy: 0.5581 - val_loss: 1.0545 - val_accuracy: 0.4889\n",
            "Epoch 22/30\n",
            "86/86 [==============================] - 0s 2ms/sample - loss: 1.2829 - accuracy: 0.3953 - val_loss: 1.0533 - val_accuracy: 0.4889\n",
            "Epoch 23/30\n",
            "86/86 [==============================] - 0s 2ms/sample - loss: 1.2011 - accuracy: 0.3837 - val_loss: 1.0520 - val_accuracy: 0.4889\n",
            "Epoch 24/30\n",
            "86/86 [==============================] - 0s 2ms/sample - loss: 1.2471 - accuracy: 0.4070 - val_loss: 1.0507 - val_accuracy: 0.5111\n",
            "Epoch 25/30\n",
            "86/86 [==============================] - 0s 2ms/sample - loss: 1.1981 - accuracy: 0.3953 - val_loss: 1.0497 - val_accuracy: 0.5111\n",
            "Epoch 26/30\n",
            "86/86 [==============================] - 0s 2ms/sample - loss: 1.0359 - accuracy: 0.4884 - val_loss: 1.0485 - val_accuracy: 0.5111\n",
            "Epoch 27/30\n",
            "86/86 [==============================] - 0s 2ms/sample - loss: 1.0723 - accuracy: 0.5233 - val_loss: 1.0477 - val_accuracy: 0.5111\n",
            "Epoch 28/30\n",
            "86/86 [==============================] - 0s 2ms/sample - loss: 1.3089 - accuracy: 0.3837 - val_loss: 1.0462 - val_accuracy: 0.5111\n",
            "Epoch 29/30\n",
            "86/86 [==============================] - 0s 2ms/sample - loss: 1.2957 - accuracy: 0.4070 - val_loss: 1.0449 - val_accuracy: 0.5111\n",
            "Epoch 30/30\n",
            "86/86 [==============================] - 0s 2ms/sample - loss: 1.2016 - accuracy: 0.4186 - val_loss: 1.0434 - val_accuracy: 0.5111\n",
            "Train on 86 samples, validate on 45 samples\n",
            "Epoch 1/30\n",
            "86/86 [==============================] - 1s 6ms/sample - loss: 1.4068 - accuracy: 0.4186 - val_loss: 1.1224 - val_accuracy: 0.4444\n",
            "Epoch 2/30\n",
            "86/86 [==============================] - 0s 2ms/sample - loss: 1.4592 - accuracy: 0.4070 - val_loss: 1.1211 - val_accuracy: 0.4444\n",
            "Epoch 3/30\n",
            "86/86 [==============================] - 0s 2ms/sample - loss: 1.2750 - accuracy: 0.3721 - val_loss: 1.1196 - val_accuracy: 0.4444\n",
            "Epoch 4/30\n",
            "86/86 [==============================] - 0s 2ms/sample - loss: 1.2062 - accuracy: 0.4884 - val_loss: 1.1184 - val_accuracy: 0.4444\n",
            "Epoch 5/30\n",
            "86/86 [==============================] - 0s 2ms/sample - loss: 1.2221 - accuracy: 0.4419 - val_loss: 1.1171 - val_accuracy: 0.4444\n",
            "Epoch 6/30\n",
            "86/86 [==============================] - 0s 2ms/sample - loss: 1.3275 - accuracy: 0.4767 - val_loss: 1.1159 - val_accuracy: 0.4444\n",
            "Epoch 7/30\n",
            "86/86 [==============================] - 0s 2ms/sample - loss: 1.1781 - accuracy: 0.4884 - val_loss: 1.1146 - val_accuracy: 0.4444\n",
            "Epoch 8/30\n",
            "86/86 [==============================] - 0s 2ms/sample - loss: 1.1773 - accuracy: 0.4419 - val_loss: 1.1135 - val_accuracy: 0.4444\n",
            "Epoch 9/30\n",
            "86/86 [==============================] - 0s 2ms/sample - loss: 1.1945 - accuracy: 0.4767 - val_loss: 1.1123 - val_accuracy: 0.4444\n",
            "Epoch 10/30\n",
            "86/86 [==============================] - 0s 2ms/sample - loss: 1.2790 - accuracy: 0.3372 - val_loss: 1.1111 - val_accuracy: 0.4444\n",
            "Epoch 11/30\n",
            "86/86 [==============================] - 0s 2ms/sample - loss: 1.1543 - accuracy: 0.4651 - val_loss: 1.1101 - val_accuracy: 0.4667\n",
            "Epoch 12/30\n",
            "86/86 [==============================] - 0s 2ms/sample - loss: 1.1510 - accuracy: 0.4419 - val_loss: 1.1090 - val_accuracy: 0.4667\n",
            "Epoch 13/30\n",
            "86/86 [==============================] - 0s 2ms/sample - loss: 1.4938 - accuracy: 0.3837 - val_loss: 1.1074 - val_accuracy: 0.4667\n",
            "Epoch 14/30\n",
            "86/86 [==============================] - 0s 2ms/sample - loss: 1.2351 - accuracy: 0.4070 - val_loss: 1.1065 - val_accuracy: 0.4667\n",
            "Epoch 15/30\n",
            "86/86 [==============================] - 0s 2ms/sample - loss: 1.5445 - accuracy: 0.4070 - val_loss: 1.1051 - val_accuracy: 0.4667\n",
            "Epoch 16/30\n",
            "86/86 [==============================] - 0s 2ms/sample - loss: 1.3617 - accuracy: 0.3721 - val_loss: 1.1038 - val_accuracy: 0.4667\n",
            "Epoch 17/30\n",
            "86/86 [==============================] - 0s 2ms/sample - loss: 1.4951 - accuracy: 0.3721 - val_loss: 1.1024 - val_accuracy: 0.4667\n",
            "Epoch 18/30\n",
            "86/86 [==============================] - 0s 2ms/sample - loss: 1.1970 - accuracy: 0.4651 - val_loss: 1.1014 - val_accuracy: 0.4667\n",
            "Epoch 19/30\n",
            "86/86 [==============================] - 0s 2ms/sample - loss: 1.0841 - accuracy: 0.4767 - val_loss: 1.1002 - val_accuracy: 0.4667\n",
            "Epoch 20/30\n",
            "86/86 [==============================] - 0s 2ms/sample - loss: 1.3090 - accuracy: 0.3953 - val_loss: 1.0990 - val_accuracy: 0.4667\n",
            "Epoch 21/30\n",
            "86/86 [==============================] - 0s 2ms/sample - loss: 1.1023 - accuracy: 0.4419 - val_loss: 1.0979 - val_accuracy: 0.4667\n",
            "Epoch 22/30\n",
            "86/86 [==============================] - 0s 2ms/sample - loss: 1.2189 - accuracy: 0.4651 - val_loss: 1.0967 - val_accuracy: 0.4667\n",
            "Epoch 23/30\n",
            "86/86 [==============================] - 0s 2ms/sample - loss: 1.1787 - accuracy: 0.4419 - val_loss: 1.0958 - val_accuracy: 0.4667\n",
            "Epoch 24/30\n",
            "86/86 [==============================] - 0s 2ms/sample - loss: 1.2756 - accuracy: 0.5349 - val_loss: 1.0947 - val_accuracy: 0.4667\n",
            "Epoch 25/30\n",
            "86/86 [==============================] - 0s 2ms/sample - loss: 1.3536 - accuracy: 0.3837 - val_loss: 1.0936 - val_accuracy: 0.4667\n",
            "Epoch 26/30\n",
            "86/86 [==============================] - 0s 2ms/sample - loss: 1.3364 - accuracy: 0.4186 - val_loss: 1.0923 - val_accuracy: 0.4667\n",
            "Epoch 27/30\n",
            "86/86 [==============================] - 0s 2ms/sample - loss: 1.2483 - accuracy: 0.4070 - val_loss: 1.0913 - val_accuracy: 0.4667\n",
            "Epoch 28/30\n",
            "86/86 [==============================] - 0s 2ms/sample - loss: 1.2585 - accuracy: 0.3605 - val_loss: 1.0900 - val_accuracy: 0.4667\n",
            "Epoch 29/30\n",
            "86/86 [==============================] - 0s 2ms/sample - loss: 1.3249 - accuracy: 0.4070 - val_loss: 1.0892 - val_accuracy: 0.4667\n",
            "Epoch 30/30\n",
            "86/86 [==============================] - 0s 2ms/sample - loss: 1.5409 - accuracy: 0.3372 - val_loss: 1.0883 - val_accuracy: 0.4667\n"
          ],
          "name": "stdout"
        },
        {
          "output_type": "display_data",
          "data": {
            "text/html": [
              "<span style=\"color:#4527A0\"><h1 style=\"font-size:18px\">Trial complete</h1></span>"
            ],
            "text/plain": [
              "<IPython.core.display.HTML object>"
            ]
          },
          "metadata": {
            "tags": []
          }
        },
        {
          "output_type": "display_data",
          "data": {
            "text/html": [
              "<span style=\"color:#4527A0\"><h1 style=\"font-size:18px\">Trial summary</h1></span>"
            ],
            "text/plain": [
              "<IPython.core.display.HTML object>"
            ]
          },
          "metadata": {
            "tags": []
          }
        },
        {
          "output_type": "display_data",
          "data": {
            "text/html": [
              "<span style=\"color:#7E57C2\"><h2 style=\"font-size:16px\">Hp values:</h2></span>"
            ],
            "text/plain": [
              "<IPython.core.display.HTML object>"
            ]
          },
          "metadata": {
            "tags": []
          }
        },
        {
          "output_type": "display_data",
          "data": {
            "text/html": [
              "<span style=\"color:cyan\"> |-activation: softmax</span>"
            ],
            "text/plain": [
              "<IPython.core.display.HTML object>"
            ]
          },
          "metadata": {
            "tags": []
          }
        },
        {
          "output_type": "display_data",
          "data": {
            "text/html": [
              "<span style=\"color:blue\"> |-drop_rate: 0.9</span>"
            ],
            "text/plain": [
              "<IPython.core.display.HTML object>"
            ]
          },
          "metadata": {
            "tags": []
          }
        },
        {
          "output_type": "display_data",
          "data": {
            "text/html": [
              "<span style=\"color:cyan\"> |-learning_rate: 0.0001</span>"
            ],
            "text/plain": [
              "<IPython.core.display.HTML object>"
            ]
          },
          "metadata": {
            "tags": []
          }
        },
        {
          "output_type": "display_data",
          "data": {
            "text/html": [
              "<span style=\"color:blue\"> |-units: 8</span>"
            ],
            "text/plain": [
              "<IPython.core.display.HTML object>"
            ]
          },
          "metadata": {
            "tags": []
          }
        },
        {
          "output_type": "display_data",
          "data": {
            "text/html": [
              "<span style=\"color:cyan\"> |-weight_init: glorot_uniform</span>"
            ],
            "text/plain": [
              "<IPython.core.display.HTML object>"
            ]
          },
          "metadata": {
            "tags": []
          }
        },
        {
          "output_type": "display_data",
          "data": {
            "text/html": [
              "<span style=\"color:cyan\"> |-Score: 0.3866666853427887</span>"
            ],
            "text/plain": [
              "<IPython.core.display.HTML object>"
            ]
          },
          "metadata": {
            "tags": []
          }
        },
        {
          "output_type": "display_data",
          "data": {
            "text/html": [
              "<span style=\"color:cyan\"> |-Best step: 0</span>"
            ],
            "text/plain": [
              "<IPython.core.display.HTML object>"
            ]
          },
          "metadata": {
            "tags": []
          }
        },
        {
          "output_type": "stream",
          "text": [
            "Train on 86 samples, validate on 45 samples\n",
            "Epoch 1/30\n",
            "86/86 [==============================] - 1s 6ms/sample - loss: 1.1668 - accuracy: 0.4535 - val_loss: 1.0795 - val_accuracy: 0.4000\n",
            "Epoch 2/30\n",
            "86/86 [==============================] - 0s 2ms/sample - loss: 1.4607 - accuracy: 0.3721 - val_loss: 1.0539 - val_accuracy: 0.4000\n",
            "Epoch 3/30\n",
            "86/86 [==============================] - 0s 2ms/sample - loss: 1.2682 - accuracy: 0.4186 - val_loss: 1.0371 - val_accuracy: 0.4000\n",
            "Epoch 4/30\n",
            "86/86 [==============================] - 0s 2ms/sample - loss: 1.3421 - accuracy: 0.3605 - val_loss: 1.0243 - val_accuracy: 0.4000\n",
            "Epoch 5/30\n",
            "86/86 [==============================] - 0s 2ms/sample - loss: 1.1574 - accuracy: 0.4884 - val_loss: 1.0129 - val_accuracy: 0.4000\n",
            "Epoch 6/30\n",
            "86/86 [==============================] - 0s 2ms/sample - loss: 1.1279 - accuracy: 0.4535 - val_loss: 1.0089 - val_accuracy: 0.4000\n",
            "Epoch 7/30\n",
            "86/86 [==============================] - 0s 2ms/sample - loss: 1.3036 - accuracy: 0.3953 - val_loss: 1.0044 - val_accuracy: 0.4000\n",
            "Epoch 8/30\n",
            "86/86 [==============================] - 0s 2ms/sample - loss: 1.2170 - accuracy: 0.4884 - val_loss: 1.0013 - val_accuracy: 0.4000\n",
            "Epoch 9/30\n",
            "86/86 [==============================] - 0s 2ms/sample - loss: 1.2141 - accuracy: 0.5000 - val_loss: 0.9979 - val_accuracy: 0.4000\n",
            "Epoch 10/30\n",
            "86/86 [==============================] - 0s 2ms/sample - loss: 1.2588 - accuracy: 0.4419 - val_loss: 0.9971 - val_accuracy: 0.4000\n",
            "Epoch 11/30\n",
            "86/86 [==============================] - 0s 2ms/sample - loss: 1.0561 - accuracy: 0.4419 - val_loss: 0.9975 - val_accuracy: 0.4222\n",
            "Epoch 12/30\n",
            "86/86 [==============================] - 0s 2ms/sample - loss: 1.1871 - accuracy: 0.4651 - val_loss: 0.9954 - val_accuracy: 0.4889\n",
            "Epoch 13/30\n",
            "86/86 [==============================] - 0s 2ms/sample - loss: 1.0753 - accuracy: 0.4651 - val_loss: 0.9948 - val_accuracy: 0.4667\n",
            "Epoch 14/30\n",
            "86/86 [==============================] - 0s 2ms/sample - loss: 1.1264 - accuracy: 0.3837 - val_loss: 0.9921 - val_accuracy: 0.4444\n",
            "Epoch 15/30\n",
            "86/86 [==============================] - 0s 2ms/sample - loss: 1.0959 - accuracy: 0.4419 - val_loss: 0.9934 - val_accuracy: 0.4444\n",
            "Epoch 16/30\n",
            "86/86 [==============================] - 0s 2ms/sample - loss: 1.1236 - accuracy: 0.4884 - val_loss: 0.9947 - val_accuracy: 0.5556\n",
            "Epoch 17/30\n",
            "86/86 [==============================] - 0s 2ms/sample - loss: 1.0115 - accuracy: 0.5233 - val_loss: 0.9943 - val_accuracy: 0.4889\n",
            "Epoch 18/30\n",
            "86/86 [==============================] - 0s 2ms/sample - loss: 1.0702 - accuracy: 0.4651 - val_loss: 0.9923 - val_accuracy: 0.4667\n",
            "Epoch 19/30\n",
            "86/86 [==============================] - 0s 2ms/sample - loss: 1.0316 - accuracy: 0.4535 - val_loss: 0.9932 - val_accuracy: 0.4667\n",
            "Epoch 20/30\n",
            "86/86 [==============================] - 0s 2ms/sample - loss: 0.9923 - accuracy: 0.4651 - val_loss: 0.9948 - val_accuracy: 0.4667\n",
            "Epoch 21/30\n",
            "86/86 [==============================] - 0s 2ms/sample - loss: 1.0401 - accuracy: 0.5000 - val_loss: 0.9940 - val_accuracy: 0.4667\n",
            "Epoch 22/30\n",
            "86/86 [==============================] - 0s 2ms/sample - loss: 1.1550 - accuracy: 0.5116 - val_loss: 0.9925 - val_accuracy: 0.4667\n",
            "Epoch 23/30\n",
            "86/86 [==============================] - 0s 2ms/sample - loss: 1.0243 - accuracy: 0.4419 - val_loss: 0.9925 - val_accuracy: 0.4667\n",
            "Epoch 24/30\n",
            "86/86 [==============================] - 0s 2ms/sample - loss: 1.0341 - accuracy: 0.4535 - val_loss: 0.9931 - val_accuracy: 0.4667\n",
            "Epoch 25/30\n",
            "86/86 [==============================] - 0s 2ms/sample - loss: 1.0401 - accuracy: 0.4186 - val_loss: 0.9921 - val_accuracy: 0.4667\n",
            "Epoch 26/30\n",
            "86/86 [==============================] - 0s 2ms/sample - loss: 1.0476 - accuracy: 0.5233 - val_loss: 0.9897 - val_accuracy: 0.4667\n",
            "Epoch 27/30\n",
            "86/86 [==============================] - 0s 2ms/sample - loss: 0.9801 - accuracy: 0.5233 - val_loss: 0.9875 - val_accuracy: 0.4667\n",
            "Epoch 28/30\n",
            "86/86 [==============================] - 0s 2ms/sample - loss: 1.0489 - accuracy: 0.5000 - val_loss: 0.9866 - val_accuracy: 0.4667\n",
            "Epoch 29/30\n",
            "86/86 [==============================] - 0s 2ms/sample - loss: 1.0531 - accuracy: 0.5000 - val_loss: 0.9857 - val_accuracy: 0.4667\n",
            "Epoch 30/30\n",
            "86/86 [==============================] - 0s 2ms/sample - loss: 1.0120 - accuracy: 0.4651 - val_loss: 0.9844 - val_accuracy: 0.4667\n",
            "Train on 86 samples, validate on 45 samples\n",
            "Epoch 1/30\n",
            "86/86 [==============================] - 1s 6ms/sample - loss: 1.9011 - accuracy: 0.4419 - val_loss: 1.0355 - val_accuracy: 0.4222\n",
            "Epoch 2/30\n",
            "86/86 [==============================] - 0s 2ms/sample - loss: 1.9182 - accuracy: 0.4070 - val_loss: 1.0301 - val_accuracy: 0.4222\n",
            "Epoch 3/30\n",
            "86/86 [==============================] - 0s 2ms/sample - loss: 1.6678 - accuracy: 0.4419 - val_loss: 1.0221 - val_accuracy: 0.4222\n",
            "Epoch 4/30\n",
            "86/86 [==============================] - 0s 2ms/sample - loss: 1.5592 - accuracy: 0.4535 - val_loss: 1.0205 - val_accuracy: 0.4222\n",
            "Epoch 5/30\n",
            "86/86 [==============================] - 0s 2ms/sample - loss: 1.5214 - accuracy: 0.4767 - val_loss: 1.0143 - val_accuracy: 0.4444\n",
            "Epoch 6/30\n",
            "86/86 [==============================] - 0s 2ms/sample - loss: 1.7530 - accuracy: 0.3837 - val_loss: 1.0132 - val_accuracy: 0.4889\n",
            "Epoch 7/30\n",
            "86/86 [==============================] - 0s 2ms/sample - loss: 1.8115 - accuracy: 0.4070 - val_loss: 1.0056 - val_accuracy: 0.4889\n",
            "Epoch 8/30\n",
            "86/86 [==============================] - 0s 2ms/sample - loss: 1.5532 - accuracy: 0.4186 - val_loss: 1.0020 - val_accuracy: 0.5556\n",
            "Epoch 9/30\n",
            "86/86 [==============================] - 0s 2ms/sample - loss: 1.2951 - accuracy: 0.4767 - val_loss: 0.9998 - val_accuracy: 0.5333\n",
            "Epoch 10/30\n",
            "86/86 [==============================] - 0s 2ms/sample - loss: 1.4041 - accuracy: 0.4767 - val_loss: 0.9966 - val_accuracy: 0.5556\n",
            "Epoch 11/30\n",
            "86/86 [==============================] - 0s 2ms/sample - loss: 1.5157 - accuracy: 0.4767 - val_loss: 0.9946 - val_accuracy: 0.4889\n",
            "Epoch 12/30\n",
            "86/86 [==============================] - 0s 2ms/sample - loss: 1.3622 - accuracy: 0.4419 - val_loss: 0.9914 - val_accuracy: 0.4889\n",
            "Epoch 13/30\n",
            "86/86 [==============================] - 0s 2ms/sample - loss: 1.1375 - accuracy: 0.4070 - val_loss: 0.9924 - val_accuracy: 0.4889\n",
            "Epoch 14/30\n",
            "86/86 [==============================] - 0s 2ms/sample - loss: 1.4274 - accuracy: 0.3721 - val_loss: 0.9930 - val_accuracy: 0.4444\n",
            "Epoch 15/30\n",
            "86/86 [==============================] - 0s 2ms/sample - loss: 1.2944 - accuracy: 0.4302 - val_loss: 0.9941 - val_accuracy: 0.4444\n",
            "Epoch 16/30\n",
            "86/86 [==============================] - 0s 2ms/sample - loss: 1.2256 - accuracy: 0.4186 - val_loss: 0.9930 - val_accuracy: 0.4444\n",
            "Epoch 17/30\n",
            "86/86 [==============================] - 0s 2ms/sample - loss: 1.0562 - accuracy: 0.5349 - val_loss: 0.9920 - val_accuracy: 0.5333\n",
            "Epoch 18/30\n",
            "86/86 [==============================] - 0s 2ms/sample - loss: 1.2090 - accuracy: 0.5465 - val_loss: 0.9923 - val_accuracy: 0.5333\n",
            "Epoch 19/30\n",
            "86/86 [==============================] - 0s 2ms/sample - loss: 1.2309 - accuracy: 0.4767 - val_loss: 0.9945 - val_accuracy: 0.5333\n",
            "Epoch 20/30\n",
            "86/86 [==============================] - 0s 2ms/sample - loss: 1.0831 - accuracy: 0.4767 - val_loss: 0.9950 - val_accuracy: 0.4889\n",
            "Epoch 21/30\n",
            "86/86 [==============================] - 0s 2ms/sample - loss: 1.0560 - accuracy: 0.5233 - val_loss: 0.9963 - val_accuracy: 0.5333\n",
            "Epoch 22/30\n",
            "86/86 [==============================] - 0s 2ms/sample - loss: 1.1139 - accuracy: 0.4884 - val_loss: 0.9948 - val_accuracy: 0.4889\n",
            "Epoch 23/30\n",
            "86/86 [==============================] - 0s 2ms/sample - loss: 1.2734 - accuracy: 0.4186 - val_loss: 0.9925 - val_accuracy: 0.4889\n",
            "Epoch 24/30\n",
            "86/86 [==============================] - 0s 2ms/sample - loss: 1.0589 - accuracy: 0.4767 - val_loss: 0.9907 - val_accuracy: 0.5111\n",
            "Epoch 25/30\n",
            "86/86 [==============================] - 0s 2ms/sample - loss: 1.3159 - accuracy: 0.4070 - val_loss: 0.9882 - val_accuracy: 0.4889\n",
            "Epoch 26/30\n",
            "86/86 [==============================] - 0s 2ms/sample - loss: 1.1864 - accuracy: 0.4302 - val_loss: 0.9864 - val_accuracy: 0.4889\n",
            "Epoch 27/30\n",
            "86/86 [==============================] - 0s 2ms/sample - loss: 1.2696 - accuracy: 0.5000 - val_loss: 0.9836 - val_accuracy: 0.5111\n",
            "Epoch 28/30\n",
            "86/86 [==============================] - 0s 2ms/sample - loss: 1.0901 - accuracy: 0.4419 - val_loss: 0.9851 - val_accuracy: 0.4889\n",
            "Epoch 29/30\n",
            "86/86 [==============================] - 0s 2ms/sample - loss: 1.0967 - accuracy: 0.5000 - val_loss: 0.9833 - val_accuracy: 0.4889\n",
            "Epoch 30/30\n",
            "86/86 [==============================] - 0s 2ms/sample - loss: 1.2156 - accuracy: 0.4651 - val_loss: 0.9823 - val_accuracy: 0.5111\n",
            "Train on 86 samples, validate on 45 samples\n",
            "Epoch 1/30\n",
            "86/86 [==============================] - 1s 6ms/sample - loss: 1.7317 - accuracy: 0.3140 - val_loss: 1.0920 - val_accuracy: 0.4000\n",
            "Epoch 2/30\n",
            "86/86 [==============================] - 0s 2ms/sample - loss: 1.5979 - accuracy: 0.2791 - val_loss: 1.0660 - val_accuracy: 0.4000\n",
            "Epoch 3/30\n",
            "86/86 [==============================] - 0s 2ms/sample - loss: 1.6766 - accuracy: 0.2791 - val_loss: 1.0507 - val_accuracy: 0.4000\n",
            "Epoch 4/30\n",
            "86/86 [==============================] - 0s 2ms/sample - loss: 1.3910 - accuracy: 0.4186 - val_loss: 1.0386 - val_accuracy: 0.4000\n",
            "Epoch 5/30\n",
            "86/86 [==============================] - 0s 2ms/sample - loss: 1.2614 - accuracy: 0.4535 - val_loss: 1.0321 - val_accuracy: 0.4000\n",
            "Epoch 6/30\n",
            "86/86 [==============================] - 0s 2ms/sample - loss: 1.4467 - accuracy: 0.3488 - val_loss: 1.0213 - val_accuracy: 0.4000\n",
            "Epoch 7/30\n",
            "86/86 [==============================] - 0s 2ms/sample - loss: 1.5228 - accuracy: 0.3023 - val_loss: 1.0170 - val_accuracy: 0.4000\n",
            "Epoch 8/30\n",
            "86/86 [==============================] - 0s 2ms/sample - loss: 1.2089 - accuracy: 0.4070 - val_loss: 1.0093 - val_accuracy: 0.4000\n",
            "Epoch 9/30\n",
            "86/86 [==============================] - 0s 2ms/sample - loss: 1.2196 - accuracy: 0.3605 - val_loss: 1.0027 - val_accuracy: 0.4000\n",
            "Epoch 10/30\n",
            "86/86 [==============================] - 0s 2ms/sample - loss: 1.1281 - accuracy: 0.5349 - val_loss: 1.0036 - val_accuracy: 0.4000\n",
            "Epoch 11/30\n",
            "86/86 [==============================] - 0s 2ms/sample - loss: 1.2131 - accuracy: 0.3023 - val_loss: 0.9960 - val_accuracy: 0.4000\n",
            "Epoch 12/30\n",
            "86/86 [==============================] - 0s 2ms/sample - loss: 1.2273 - accuracy: 0.3837 - val_loss: 0.9936 - val_accuracy: 0.4000\n",
            "Epoch 13/30\n",
            "86/86 [==============================] - 0s 2ms/sample - loss: 1.1136 - accuracy: 0.3488 - val_loss: 0.9932 - val_accuracy: 0.3778\n",
            "Epoch 14/30\n",
            "86/86 [==============================] - 0s 2ms/sample - loss: 1.1777 - accuracy: 0.3488 - val_loss: 0.9921 - val_accuracy: 0.4889\n",
            "Epoch 15/30\n",
            "86/86 [==============================] - 0s 2ms/sample - loss: 1.0313 - accuracy: 0.4651 - val_loss: 0.9933 - val_accuracy: 0.4889\n",
            "Epoch 16/30\n",
            "86/86 [==============================] - 0s 2ms/sample - loss: 1.0564 - accuracy: 0.4535 - val_loss: 0.9931 - val_accuracy: 0.4889\n",
            "Epoch 17/30\n",
            "86/86 [==============================] - 0s 2ms/sample - loss: 1.0770 - accuracy: 0.4651 - val_loss: 0.9924 - val_accuracy: 0.5333\n",
            "Epoch 18/30\n",
            "86/86 [==============================] - 0s 2ms/sample - loss: 0.9610 - accuracy: 0.4884 - val_loss: 0.9920 - val_accuracy: 0.4889\n",
            "Epoch 19/30\n",
            "86/86 [==============================] - 0s 2ms/sample - loss: 1.1772 - accuracy: 0.4070 - val_loss: 0.9909 - val_accuracy: 0.4667\n",
            "Epoch 20/30\n",
            "86/86 [==============================] - 0s 2ms/sample - loss: 1.0278 - accuracy: 0.4767 - val_loss: 0.9913 - val_accuracy: 0.4889\n",
            "Epoch 21/30\n",
            "86/86 [==============================] - 0s 2ms/sample - loss: 1.0234 - accuracy: 0.4070 - val_loss: 0.9900 - val_accuracy: 0.5333\n",
            "Epoch 22/30\n",
            "86/86 [==============================] - 0s 2ms/sample - loss: 1.0467 - accuracy: 0.4186 - val_loss: 0.9903 - val_accuracy: 0.4889\n",
            "Epoch 23/30\n",
            "86/86 [==============================] - 0s 2ms/sample - loss: 1.0719 - accuracy: 0.4419 - val_loss: 0.9904 - val_accuracy: 0.4667\n",
            "Epoch 24/30\n",
            "86/86 [==============================] - 0s 2ms/sample - loss: 1.0303 - accuracy: 0.4302 - val_loss: 0.9894 - val_accuracy: 0.4667\n",
            "Epoch 25/30\n",
            "86/86 [==============================] - 0s 2ms/sample - loss: 0.9884 - accuracy: 0.4070 - val_loss: 0.9898 - val_accuracy: 0.4667\n",
            "Epoch 26/30\n",
            "86/86 [==============================] - 0s 2ms/sample - loss: 1.0567 - accuracy: 0.4302 - val_loss: 0.9910 - val_accuracy: 0.4444\n",
            "Epoch 27/30\n",
            "86/86 [==============================] - 0s 2ms/sample - loss: 1.0131 - accuracy: 0.4186 - val_loss: 0.9904 - val_accuracy: 0.4444\n",
            "Epoch 28/30\n",
            "86/86 [==============================] - 0s 2ms/sample - loss: 0.9767 - accuracy: 0.4070 - val_loss: 0.9903 - val_accuracy: 0.4667\n",
            "Epoch 29/30\n",
            "86/86 [==============================] - 0s 2ms/sample - loss: 0.9879 - accuracy: 0.3837 - val_loss: 0.9909 - val_accuracy: 0.4667\n",
            "Epoch 30/30\n",
            "86/86 [==============================] - 0s 2ms/sample - loss: 1.0196 - accuracy: 0.5116 - val_loss: 0.9893 - val_accuracy: 0.4667\n",
            "Train on 86 samples, validate on 45 samples\n",
            "Epoch 1/30\n",
            "86/86 [==============================] - 1s 6ms/sample - loss: 1.7958 - accuracy: 0.3721 - val_loss: 1.1675 - val_accuracy: 0.2667\n",
            "Epoch 2/30\n",
            "86/86 [==============================] - 0s 2ms/sample - loss: 1.8258 - accuracy: 0.4070 - val_loss: 1.1421 - val_accuracy: 0.3778\n",
            "Epoch 3/30\n",
            "86/86 [==============================] - 0s 2ms/sample - loss: 1.6209 - accuracy: 0.4302 - val_loss: 1.1221 - val_accuracy: 0.4000\n",
            "Epoch 4/30\n",
            "86/86 [==============================] - 0s 2ms/sample - loss: 1.7778 - accuracy: 0.3605 - val_loss: 1.0993 - val_accuracy: 0.4000\n",
            "Epoch 5/30\n",
            "86/86 [==============================] - 0s 2ms/sample - loss: 1.4552 - accuracy: 0.3488 - val_loss: 1.0769 - val_accuracy: 0.4000\n",
            "Epoch 6/30\n",
            "86/86 [==============================] - 0s 2ms/sample - loss: 1.3114 - accuracy: 0.4186 - val_loss: 1.0597 - val_accuracy: 0.4000\n",
            "Epoch 7/30\n",
            "86/86 [==============================] - 0s 2ms/sample - loss: 1.4228 - accuracy: 0.4186 - val_loss: 1.0435 - val_accuracy: 0.4000\n",
            "Epoch 8/30\n",
            "86/86 [==============================] - 0s 2ms/sample - loss: 1.1921 - accuracy: 0.4884 - val_loss: 1.0369 - val_accuracy: 0.4222\n",
            "Epoch 9/30\n",
            "86/86 [==============================] - 0s 2ms/sample - loss: 1.6116 - accuracy: 0.3721 - val_loss: 1.0209 - val_accuracy: 0.4444\n",
            "Epoch 10/30\n",
            "86/86 [==============================] - 0s 2ms/sample - loss: 1.5679 - accuracy: 0.3256 - val_loss: 1.0081 - val_accuracy: 0.4889\n",
            "Epoch 11/30\n",
            "86/86 [==============================] - 0s 2ms/sample - loss: 1.2128 - accuracy: 0.4767 - val_loss: 1.0036 - val_accuracy: 0.4889\n",
            "Epoch 12/30\n",
            "86/86 [==============================] - 0s 2ms/sample - loss: 1.5151 - accuracy: 0.4070 - val_loss: 1.0011 - val_accuracy: 0.4889\n",
            "Epoch 13/30\n",
            "86/86 [==============================] - 0s 2ms/sample - loss: 1.2431 - accuracy: 0.4302 - val_loss: 0.9996 - val_accuracy: 0.4889\n",
            "Epoch 14/30\n",
            "86/86 [==============================] - 0s 2ms/sample - loss: 1.0342 - accuracy: 0.5116 - val_loss: 0.9975 - val_accuracy: 0.5111\n",
            "Epoch 15/30\n",
            "86/86 [==============================] - 0s 2ms/sample - loss: 1.0925 - accuracy: 0.4651 - val_loss: 0.9951 - val_accuracy: 0.5333\n",
            "Epoch 16/30\n",
            "86/86 [==============================] - 0s 2ms/sample - loss: 1.1027 - accuracy: 0.5116 - val_loss: 0.9957 - val_accuracy: 0.4889\n",
            "Epoch 17/30\n",
            "86/86 [==============================] - 0s 2ms/sample - loss: 1.1753 - accuracy: 0.3837 - val_loss: 0.9931 - val_accuracy: 0.5111\n",
            "Epoch 18/30\n",
            "86/86 [==============================] - 0s 2ms/sample - loss: 1.0544 - accuracy: 0.4884 - val_loss: 0.9909 - val_accuracy: 0.4889\n",
            "Epoch 19/30\n",
            "86/86 [==============================] - 0s 2ms/sample - loss: 1.0659 - accuracy: 0.4651 - val_loss: 0.9881 - val_accuracy: 0.4889\n",
            "Epoch 20/30\n",
            "86/86 [==============================] - 0s 2ms/sample - loss: 1.0621 - accuracy: 0.4884 - val_loss: 0.9863 - val_accuracy: 0.5111\n",
            "Epoch 21/30\n",
            "86/86 [==============================] - 0s 2ms/sample - loss: 1.2352 - accuracy: 0.3837 - val_loss: 0.9841 - val_accuracy: 0.4667\n",
            "Epoch 22/30\n",
            "86/86 [==============================] - 0s 2ms/sample - loss: 1.1503 - accuracy: 0.4070 - val_loss: 0.9842 - val_accuracy: 0.4444\n",
            "Epoch 23/30\n",
            "86/86 [==============================] - 0s 2ms/sample - loss: 1.1730 - accuracy: 0.3953 - val_loss: 0.9821 - val_accuracy: 0.5111\n",
            "Epoch 24/30\n",
            "86/86 [==============================] - 0s 2ms/sample - loss: 1.0803 - accuracy: 0.3721 - val_loss: 0.9815 - val_accuracy: 0.5333\n",
            "Epoch 25/30\n",
            "86/86 [==============================] - 0s 2ms/sample - loss: 0.9658 - accuracy: 0.4651 - val_loss: 0.9816 - val_accuracy: 0.5778\n",
            "Epoch 26/30\n",
            "86/86 [==============================] - 0s 2ms/sample - loss: 1.2232 - accuracy: 0.5000 - val_loss: 0.9815 - val_accuracy: 0.5333\n",
            "Epoch 27/30\n",
            "86/86 [==============================] - 0s 2ms/sample - loss: 1.1562 - accuracy: 0.3837 - val_loss: 0.9837 - val_accuracy: 0.5333\n",
            "Epoch 28/30\n",
            "86/86 [==============================] - 0s 2ms/sample - loss: 1.0408 - accuracy: 0.4302 - val_loss: 0.9836 - val_accuracy: 0.5333\n",
            "Epoch 29/30\n",
            "86/86 [==============================] - 0s 2ms/sample - loss: 1.0589 - accuracy: 0.4302 - val_loss: 0.9839 - val_accuracy: 0.5333\n",
            "Epoch 30/30\n",
            "86/86 [==============================] - 0s 2ms/sample - loss: 1.0224 - accuracy: 0.4419 - val_loss: 0.9837 - val_accuracy: 0.5333\n",
            "Train on 86 samples, validate on 45 samples\n",
            "Epoch 1/30\n",
            "86/86 [==============================] - 0s 6ms/sample - loss: 1.9157 - accuracy: 0.3953 - val_loss: 1.2266 - val_accuracy: 0.1556\n",
            "Epoch 2/30\n",
            "86/86 [==============================] - 0s 2ms/sample - loss: 1.7398 - accuracy: 0.3488 - val_loss: 1.1826 - val_accuracy: 0.2222\n",
            "Epoch 3/30\n",
            "86/86 [==============================] - 0s 2ms/sample - loss: 1.8159 - accuracy: 0.3605 - val_loss: 1.1472 - val_accuracy: 0.2667\n",
            "Epoch 4/30\n",
            "86/86 [==============================] - 0s 2ms/sample - loss: 1.6555 - accuracy: 0.3837 - val_loss: 1.1128 - val_accuracy: 0.3778\n",
            "Epoch 5/30\n",
            "86/86 [==============================] - 0s 2ms/sample - loss: 1.5952 - accuracy: 0.4302 - val_loss: 1.0862 - val_accuracy: 0.4444\n",
            "Epoch 6/30\n",
            "86/86 [==============================] - 0s 2ms/sample - loss: 1.7443 - accuracy: 0.3372 - val_loss: 1.0709 - val_accuracy: 0.4444\n",
            "Epoch 7/30\n",
            "86/86 [==============================] - 0s 2ms/sample - loss: 1.4180 - accuracy: 0.3837 - val_loss: 1.0525 - val_accuracy: 0.4667\n",
            "Epoch 8/30\n",
            "86/86 [==============================] - 0s 2ms/sample - loss: 1.3382 - accuracy: 0.4535 - val_loss: 1.0382 - val_accuracy: 0.4667\n",
            "Epoch 9/30\n",
            "86/86 [==============================] - 0s 2ms/sample - loss: 1.2887 - accuracy: 0.3953 - val_loss: 1.0300 - val_accuracy: 0.4667\n",
            "Epoch 10/30\n",
            "86/86 [==============================] - 0s 2ms/sample - loss: 1.2610 - accuracy: 0.4651 - val_loss: 1.0264 - val_accuracy: 0.4444\n",
            "Epoch 11/30\n",
            "86/86 [==============================] - 0s 2ms/sample - loss: 1.1810 - accuracy: 0.4767 - val_loss: 1.0184 - val_accuracy: 0.4889\n",
            "Epoch 12/30\n",
            "86/86 [==============================] - 0s 2ms/sample - loss: 1.1903 - accuracy: 0.4767 - val_loss: 1.0150 - val_accuracy: 0.4667\n",
            "Epoch 13/30\n",
            "86/86 [==============================] - 0s 2ms/sample - loss: 1.0692 - accuracy: 0.4651 - val_loss: 1.0119 - val_accuracy: 0.4667\n",
            "Epoch 14/30\n",
            "86/86 [==============================] - 0s 2ms/sample - loss: 1.3416 - accuracy: 0.4070 - val_loss: 1.0069 - val_accuracy: 0.4667\n",
            "Epoch 15/30\n",
            "86/86 [==============================] - 0s 2ms/sample - loss: 1.2681 - accuracy: 0.4302 - val_loss: 1.0044 - val_accuracy: 0.4889\n",
            "Epoch 16/30\n",
            "86/86 [==============================] - 0s 2ms/sample - loss: 1.2168 - accuracy: 0.4302 - val_loss: 1.0022 - val_accuracy: 0.4889\n",
            "Epoch 17/30\n",
            "86/86 [==============================] - 0s 2ms/sample - loss: 1.2819 - accuracy: 0.3837 - val_loss: 0.9993 - val_accuracy: 0.5111\n",
            "Epoch 18/30\n",
            "86/86 [==============================] - 0s 2ms/sample - loss: 1.1130 - accuracy: 0.4767 - val_loss: 0.9969 - val_accuracy: 0.5111\n",
            "Epoch 19/30\n",
            "86/86 [==============================] - 0s 2ms/sample - loss: 1.1431 - accuracy: 0.4419 - val_loss: 0.9975 - val_accuracy: 0.5333\n",
            "Epoch 20/30\n",
            "86/86 [==============================] - 0s 2ms/sample - loss: 1.0712 - accuracy: 0.4767 - val_loss: 0.9973 - val_accuracy: 0.5778\n",
            "Epoch 21/30\n",
            "86/86 [==============================] - 0s 2ms/sample - loss: 1.0502 - accuracy: 0.4186 - val_loss: 0.9954 - val_accuracy: 0.5111\n",
            "Epoch 22/30\n",
            "86/86 [==============================] - 0s 2ms/sample - loss: 1.1821 - accuracy: 0.4651 - val_loss: 0.9926 - val_accuracy: 0.5111\n",
            "Epoch 23/30\n",
            "86/86 [==============================] - 0s 2ms/sample - loss: 1.1872 - accuracy: 0.4302 - val_loss: 0.9911 - val_accuracy: 0.5111\n",
            "Epoch 24/30\n",
            "86/86 [==============================] - 0s 2ms/sample - loss: 1.1569 - accuracy: 0.4302 - val_loss: 0.9915 - val_accuracy: 0.5333\n",
            "Epoch 25/30\n",
            "86/86 [==============================] - 0s 2ms/sample - loss: 1.0329 - accuracy: 0.4535 - val_loss: 0.9899 - val_accuracy: 0.5111\n",
            "Epoch 26/30\n",
            "86/86 [==============================] - 0s 2ms/sample - loss: 1.0211 - accuracy: 0.5000 - val_loss: 0.9889 - val_accuracy: 0.5333\n",
            "Epoch 27/30\n",
            "86/86 [==============================] - 0s 2ms/sample - loss: 1.0238 - accuracy: 0.4767 - val_loss: 0.9875 - val_accuracy: 0.5333\n",
            "Epoch 28/30\n",
            "86/86 [==============================] - 0s 2ms/sample - loss: 1.0870 - accuracy: 0.4535 - val_loss: 0.9876 - val_accuracy: 0.5111\n",
            "Epoch 29/30\n",
            "86/86 [==============================] - 0s 2ms/sample - loss: 1.0230 - accuracy: 0.4884 - val_loss: 0.9876 - val_accuracy: 0.5333\n",
            "Epoch 30/30\n",
            "86/86 [==============================] - 0s 2ms/sample - loss: 1.0383 - accuracy: 0.3837 - val_loss: 0.9870 - val_accuracy: 0.5333\n"
          ],
          "name": "stdout"
        },
        {
          "output_type": "display_data",
          "data": {
            "text/html": [
              "<span style=\"color:#4527A0\"><h1 style=\"font-size:18px\">Trial complete</h1></span>"
            ],
            "text/plain": [
              "<IPython.core.display.HTML object>"
            ]
          },
          "metadata": {
            "tags": []
          }
        },
        {
          "output_type": "display_data",
          "data": {
            "text/html": [
              "<span style=\"color:#4527A0\"><h1 style=\"font-size:18px\">Trial summary</h1></span>"
            ],
            "text/plain": [
              "<IPython.core.display.HTML object>"
            ]
          },
          "metadata": {
            "tags": []
          }
        },
        {
          "output_type": "display_data",
          "data": {
            "text/html": [
              "<span style=\"color:#7E57C2\"><h2 style=\"font-size:16px\">Hp values:</h2></span>"
            ],
            "text/plain": [
              "<IPython.core.display.HTML object>"
            ]
          },
          "metadata": {
            "tags": []
          }
        },
        {
          "output_type": "display_data",
          "data": {
            "text/html": [
              "<span style=\"color:cyan\"> |-activation: sigmoid</span>"
            ],
            "text/plain": [
              "<IPython.core.display.HTML object>"
            ]
          },
          "metadata": {
            "tags": []
          }
        },
        {
          "output_type": "display_data",
          "data": {
            "text/html": [
              "<span style=\"color:blue\"> |-drop_rate: 0.9</span>"
            ],
            "text/plain": [
              "<IPython.core.display.HTML object>"
            ]
          },
          "metadata": {
            "tags": []
          }
        },
        {
          "output_type": "display_data",
          "data": {
            "text/html": [
              "<span style=\"color:cyan\"> |-learning_rate: 0.001</span>"
            ],
            "text/plain": [
              "<IPython.core.display.HTML object>"
            ]
          },
          "metadata": {
            "tags": []
          }
        },
        {
          "output_type": "display_data",
          "data": {
            "text/html": [
              "<span style=\"color:blue\"> |-units: 6</span>"
            ],
            "text/plain": [
              "<IPython.core.display.HTML object>"
            ]
          },
          "metadata": {
            "tags": []
          }
        },
        {
          "output_type": "display_data",
          "data": {
            "text/html": [
              "<span style=\"color:cyan\"> |-weight_init: normal</span>"
            ],
            "text/plain": [
              "<IPython.core.display.HTML object>"
            ]
          },
          "metadata": {
            "tags": []
          }
        },
        {
          "output_type": "display_data",
          "data": {
            "text/html": [
              "<span style=\"color:cyan\"> |-Score: 0.5600000619888306</span>"
            ],
            "text/plain": [
              "<IPython.core.display.HTML object>"
            ]
          },
          "metadata": {
            "tags": []
          }
        },
        {
          "output_type": "display_data",
          "data": {
            "text/html": [
              "<span style=\"color:cyan\"> |-Best step: 0</span>"
            ],
            "text/plain": [
              "<IPython.core.display.HTML object>"
            ]
          },
          "metadata": {
            "tags": []
          }
        },
        {
          "output_type": "stream",
          "text": [
            "Train on 86 samples, validate on 45 samples\n",
            "Epoch 1/30\n",
            "86/86 [==============================] - 1s 6ms/sample - loss: 1.4130 - accuracy: 0.3140 - val_loss: 1.0499 - val_accuracy: 0.4889\n",
            "Epoch 2/30\n",
            "86/86 [==============================] - 0s 2ms/sample - loss: 1.1556 - accuracy: 0.4884 - val_loss: 1.0110 - val_accuracy: 0.5111\n",
            "Epoch 3/30\n",
            "86/86 [==============================] - 0s 2ms/sample - loss: 0.8972 - accuracy: 0.5814 - val_loss: 1.0069 - val_accuracy: 0.5333\n",
            "Epoch 4/30\n",
            "86/86 [==============================] - 0s 2ms/sample - loss: 0.9572 - accuracy: 0.5698 - val_loss: 1.0116 - val_accuracy: 0.5111\n",
            "Epoch 5/30\n",
            "86/86 [==============================] - 0s 2ms/sample - loss: 0.8838 - accuracy: 0.6163 - val_loss: 1.0010 - val_accuracy: 0.5333\n",
            "Epoch 6/30\n",
            "86/86 [==============================] - 0s 2ms/sample - loss: 0.8481 - accuracy: 0.6744 - val_loss: 1.0141 - val_accuracy: 0.5333\n",
            "Epoch 7/30\n",
            "86/86 [==============================] - 0s 2ms/sample - loss: 0.8391 - accuracy: 0.6860 - val_loss: 1.0777 - val_accuracy: 0.5778\n",
            "Epoch 8/30\n",
            "86/86 [==============================] - 0s 2ms/sample - loss: 0.9055 - accuracy: 0.6279 - val_loss: 1.0558 - val_accuracy: 0.5333\n",
            "Epoch 9/30\n",
            "86/86 [==============================] - 0s 2ms/sample - loss: 0.8026 - accuracy: 0.5930 - val_loss: 1.0448 - val_accuracy: 0.5556\n",
            "Epoch 10/30\n",
            "86/86 [==============================] - 0s 2ms/sample - loss: 0.8771 - accuracy: 0.6047 - val_loss: 1.0016 - val_accuracy: 0.5333\n",
            "Epoch 11/30\n",
            "86/86 [==============================] - 0s 2ms/sample - loss: 0.8262 - accuracy: 0.6628 - val_loss: 1.0289 - val_accuracy: 0.5778\n",
            "Epoch 12/30\n",
            "86/86 [==============================] - 0s 2ms/sample - loss: 0.8780 - accuracy: 0.6163 - val_loss: 1.0761 - val_accuracy: 0.6000\n",
            "Epoch 13/30\n",
            "86/86 [==============================] - 0s 2ms/sample - loss: 0.9168 - accuracy: 0.5698 - val_loss: 1.0859 - val_accuracy: 0.4889\n",
            "Epoch 14/30\n",
            "86/86 [==============================] - 0s 2ms/sample - loss: 0.8964 - accuracy: 0.5814 - val_loss: 1.0780 - val_accuracy: 0.5556\n",
            "Epoch 15/30\n",
            "86/86 [==============================] - 0s 2ms/sample - loss: 0.8754 - accuracy: 0.6628 - val_loss: 1.0315 - val_accuracy: 0.5556\n",
            "Epoch 16/30\n",
            "86/86 [==============================] - 0s 2ms/sample - loss: 0.8829 - accuracy: 0.6512 - val_loss: 0.9784 - val_accuracy: 0.5111\n",
            "Epoch 17/30\n",
            "86/86 [==============================] - 0s 2ms/sample - loss: 0.8607 - accuracy: 0.6395 - val_loss: 1.0018 - val_accuracy: 0.5111\n",
            "Epoch 18/30\n",
            "86/86 [==============================] - 0s 2ms/sample - loss: 0.8890 - accuracy: 0.6047 - val_loss: 0.9868 - val_accuracy: 0.5556\n",
            "Epoch 19/30\n",
            "86/86 [==============================] - 0s 2ms/sample - loss: 0.8809 - accuracy: 0.5698 - val_loss: 1.0002 - val_accuracy: 0.5556\n",
            "Epoch 20/30\n",
            "86/86 [==============================] - 0s 2ms/sample - loss: 0.8039 - accuracy: 0.6628 - val_loss: 1.0415 - val_accuracy: 0.6000\n",
            "Epoch 21/30\n",
            "86/86 [==============================] - 0s 2ms/sample - loss: 0.8397 - accuracy: 0.6395 - val_loss: 0.9968 - val_accuracy: 0.5778\n",
            "Epoch 22/30\n",
            "86/86 [==============================] - 0s 2ms/sample - loss: 0.8076 - accuracy: 0.6279 - val_loss: 1.0320 - val_accuracy: 0.6000\n",
            "Epoch 23/30\n",
            "86/86 [==============================] - 0s 2ms/sample - loss: 0.7918 - accuracy: 0.6163 - val_loss: 1.0565 - val_accuracy: 0.5111\n",
            "Epoch 24/30\n",
            "86/86 [==============================] - 0s 2ms/sample - loss: 0.7636 - accuracy: 0.6512 - val_loss: 1.0579 - val_accuracy: 0.5111\n",
            "Epoch 25/30\n",
            "86/86 [==============================] - 0s 2ms/sample - loss: 0.8325 - accuracy: 0.6512 - val_loss: 1.0281 - val_accuracy: 0.5556\n",
            "Epoch 26/30\n",
            "86/86 [==============================] - 0s 2ms/sample - loss: 0.7588 - accuracy: 0.6860 - val_loss: 0.9980 - val_accuracy: 0.5333\n",
            "Epoch 27/30\n",
            "86/86 [==============================] - 0s 2ms/sample - loss: 0.8490 - accuracy: 0.6279 - val_loss: 1.0315 - val_accuracy: 0.5333\n",
            "Epoch 28/30\n",
            "86/86 [==============================] - 0s 2ms/sample - loss: 0.8267 - accuracy: 0.6395 - val_loss: 1.0058 - val_accuracy: 0.5778\n",
            "Epoch 29/30\n",
            "86/86 [==============================] - 0s 2ms/sample - loss: 0.8420 - accuracy: 0.6163 - val_loss: 1.0076 - val_accuracy: 0.5333\n",
            "Epoch 30/30\n",
            "86/86 [==============================] - 0s 2ms/sample - loss: 0.7658 - accuracy: 0.6395 - val_loss: 1.0423 - val_accuracy: 0.5333\n",
            "Train on 86 samples, validate on 45 samples\n",
            "Epoch 1/30\n",
            "86/86 [==============================] - 0s 6ms/sample - loss: 1.4268 - accuracy: 0.3837 - val_loss: 1.1022 - val_accuracy: 0.4222\n",
            "Epoch 2/30\n",
            "86/86 [==============================] - 0s 2ms/sample - loss: 1.0012 - accuracy: 0.4767 - val_loss: 1.0396 - val_accuracy: 0.5333\n",
            "Epoch 3/30\n",
            "86/86 [==============================] - 0s 2ms/sample - loss: 0.8975 - accuracy: 0.5814 - val_loss: 1.0298 - val_accuracy: 0.5111\n",
            "Epoch 4/30\n",
            "86/86 [==============================] - 0s 2ms/sample - loss: 0.9780 - accuracy: 0.4884 - val_loss: 1.0189 - val_accuracy: 0.4889\n",
            "Epoch 5/30\n",
            "86/86 [==============================] - 0s 2ms/sample - loss: 0.9052 - accuracy: 0.5814 - val_loss: 1.0566 - val_accuracy: 0.4889\n",
            "Epoch 6/30\n",
            "86/86 [==============================] - 0s 2ms/sample - loss: 0.8538 - accuracy: 0.6279 - val_loss: 1.0455 - val_accuracy: 0.4444\n",
            "Epoch 7/30\n",
            "86/86 [==============================] - 0s 2ms/sample - loss: 0.9370 - accuracy: 0.6047 - val_loss: 1.0527 - val_accuracy: 0.4889\n",
            "Epoch 8/30\n",
            "86/86 [==============================] - 0s 2ms/sample - loss: 0.9087 - accuracy: 0.5698 - val_loss: 1.0576 - val_accuracy: 0.4222\n",
            "Epoch 9/30\n",
            "86/86 [==============================] - 0s 2ms/sample - loss: 0.8170 - accuracy: 0.6512 - val_loss: 1.0584 - val_accuracy: 0.4444\n",
            "Epoch 10/30\n",
            "86/86 [==============================] - 0s 2ms/sample - loss: 0.8888 - accuracy: 0.5930 - val_loss: 1.0317 - val_accuracy: 0.4444\n",
            "Epoch 11/30\n",
            "86/86 [==============================] - 0s 2ms/sample - loss: 0.8475 - accuracy: 0.6047 - val_loss: 1.0514 - val_accuracy: 0.4889\n",
            "Epoch 12/30\n",
            "86/86 [==============================] - 0s 2ms/sample - loss: 0.8432 - accuracy: 0.6744 - val_loss: 1.0609 - val_accuracy: 0.4222\n",
            "Epoch 13/30\n",
            "86/86 [==============================] - 0s 2ms/sample - loss: 0.9544 - accuracy: 0.5581 - val_loss: 1.0131 - val_accuracy: 0.4667\n",
            "Epoch 14/30\n",
            "86/86 [==============================] - 0s 2ms/sample - loss: 0.8211 - accuracy: 0.6512 - val_loss: 1.0800 - val_accuracy: 0.4667\n",
            "Epoch 15/30\n",
            "86/86 [==============================] - 0s 2ms/sample - loss: 0.9256 - accuracy: 0.6395 - val_loss: 1.0432 - val_accuracy: 0.4444\n",
            "Epoch 16/30\n",
            "86/86 [==============================] - 0s 2ms/sample - loss: 0.8499 - accuracy: 0.6395 - val_loss: 1.0521 - val_accuracy: 0.4444\n",
            "Epoch 17/30\n",
            "86/86 [==============================] - 0s 2ms/sample - loss: 0.8786 - accuracy: 0.5930 - val_loss: 1.0387 - val_accuracy: 0.4667\n",
            "Epoch 18/30\n",
            "86/86 [==============================] - 0s 2ms/sample - loss: 0.8460 - accuracy: 0.6395 - val_loss: 1.0513 - val_accuracy: 0.4444\n",
            "Epoch 19/30\n",
            "86/86 [==============================] - 0s 2ms/sample - loss: 0.8303 - accuracy: 0.6163 - val_loss: 1.0289 - val_accuracy: 0.4667\n",
            "Epoch 20/30\n",
            "86/86 [==============================] - 0s 2ms/sample - loss: 0.8083 - accuracy: 0.6395 - val_loss: 1.0756 - val_accuracy: 0.4444\n",
            "Epoch 21/30\n",
            "86/86 [==============================] - 0s 2ms/sample - loss: 0.9126 - accuracy: 0.5698 - val_loss: 1.0292 - val_accuracy: 0.4667\n",
            "Epoch 22/30\n",
            "86/86 [==============================] - 0s 2ms/sample - loss: 0.8689 - accuracy: 0.6047 - val_loss: 1.0392 - val_accuracy: 0.4222\n",
            "Epoch 23/30\n",
            "86/86 [==============================] - 0s 2ms/sample - loss: 0.8840 - accuracy: 0.5930 - val_loss: 1.0102 - val_accuracy: 0.4444\n",
            "Epoch 24/30\n",
            "86/86 [==============================] - 0s 2ms/sample - loss: 0.8793 - accuracy: 0.6512 - val_loss: 1.0473 - val_accuracy: 0.4889\n",
            "Epoch 25/30\n",
            "86/86 [==============================] - 0s 2ms/sample - loss: 0.8160 - accuracy: 0.6512 - val_loss: 1.0829 - val_accuracy: 0.4222\n",
            "Epoch 26/30\n",
            "86/86 [==============================] - 0s 2ms/sample - loss: 0.8020 - accuracy: 0.5930 - val_loss: 1.0738 - val_accuracy: 0.4000\n",
            "Epoch 27/30\n",
            "86/86 [==============================] - 0s 2ms/sample - loss: 0.9232 - accuracy: 0.6163 - val_loss: 1.0528 - val_accuracy: 0.4667\n",
            "Epoch 28/30\n",
            "86/86 [==============================] - 0s 2ms/sample - loss: 0.8118 - accuracy: 0.6163 - val_loss: 1.0084 - val_accuracy: 0.4889\n",
            "Epoch 29/30\n",
            "86/86 [==============================] - 0s 2ms/sample - loss: 0.8319 - accuracy: 0.6628 - val_loss: 1.0533 - val_accuracy: 0.4889\n",
            "Epoch 30/30\n",
            "86/86 [==============================] - 0s 2ms/sample - loss: 0.8717 - accuracy: 0.6628 - val_loss: 1.0670 - val_accuracy: 0.4889\n",
            "Train on 86 samples, validate on 45 samples\n",
            "Epoch 1/30\n",
            "86/86 [==============================] - 1s 6ms/sample - loss: 1.4304 - accuracy: 0.3837 - val_loss: 1.1325 - val_accuracy: 0.4444\n",
            "Epoch 2/30\n",
            "86/86 [==============================] - 0s 2ms/sample - loss: 1.1365 - accuracy: 0.5000 - val_loss: 1.0520 - val_accuracy: 0.4000\n",
            "Epoch 3/30\n",
            "86/86 [==============================] - 0s 2ms/sample - loss: 0.9710 - accuracy: 0.5465 - val_loss: 1.0830 - val_accuracy: 0.4444\n",
            "Epoch 4/30\n",
            "86/86 [==============================] - 0s 2ms/sample - loss: 0.9371 - accuracy: 0.5930 - val_loss: 1.0606 - val_accuracy: 0.4000\n",
            "Epoch 5/30\n",
            "86/86 [==============================] - 0s 2ms/sample - loss: 0.9293 - accuracy: 0.5814 - val_loss: 1.0676 - val_accuracy: 0.4222\n",
            "Epoch 6/30\n",
            "86/86 [==============================] - 0s 2ms/sample - loss: 0.8443 - accuracy: 0.6279 - val_loss: 1.0629 - val_accuracy: 0.4444\n",
            "Epoch 7/30\n",
            "86/86 [==============================] - 0s 2ms/sample - loss: 0.9674 - accuracy: 0.5698 - val_loss: 1.0351 - val_accuracy: 0.4667\n",
            "Epoch 8/30\n",
            "86/86 [==============================] - 0s 2ms/sample - loss: 0.9050 - accuracy: 0.6395 - val_loss: 1.0348 - val_accuracy: 0.4889\n",
            "Epoch 9/30\n",
            "86/86 [==============================] - 0s 2ms/sample - loss: 0.8874 - accuracy: 0.5930 - val_loss: 1.0609 - val_accuracy: 0.4667\n",
            "Epoch 10/30\n",
            "86/86 [==============================] - 0s 2ms/sample - loss: 0.8752 - accuracy: 0.6279 - val_loss: 1.0621 - val_accuracy: 0.4444\n",
            "Epoch 11/30\n",
            "86/86 [==============================] - 0s 2ms/sample - loss: 0.9071 - accuracy: 0.6047 - val_loss: 1.0603 - val_accuracy: 0.4000\n",
            "Epoch 12/30\n",
            "86/86 [==============================] - 0s 2ms/sample - loss: 0.9607 - accuracy: 0.6163 - val_loss: 1.0400 - val_accuracy: 0.4889\n",
            "Epoch 13/30\n",
            "86/86 [==============================] - 0s 2ms/sample - loss: 0.8368 - accuracy: 0.6628 - val_loss: 1.0655 - val_accuracy: 0.4889\n",
            "Epoch 14/30\n",
            "86/86 [==============================] - 0s 2ms/sample - loss: 0.8243 - accuracy: 0.6163 - val_loss: 1.1185 - val_accuracy: 0.4889\n",
            "Epoch 15/30\n",
            "86/86 [==============================] - 0s 2ms/sample - loss: 0.9385 - accuracy: 0.5581 - val_loss: 1.0642 - val_accuracy: 0.4667\n",
            "Epoch 16/30\n",
            "86/86 [==============================] - 0s 2ms/sample - loss: 0.8420 - accuracy: 0.6395 - val_loss: 1.1168 - val_accuracy: 0.4667\n",
            "Epoch 17/30\n",
            "86/86 [==============================] - 0s 2ms/sample - loss: 0.8071 - accuracy: 0.6047 - val_loss: 1.1057 - val_accuracy: 0.5111\n",
            "Epoch 18/30\n",
            "86/86 [==============================] - 0s 2ms/sample - loss: 0.8930 - accuracy: 0.6395 - val_loss: 1.0759 - val_accuracy: 0.4889\n",
            "Epoch 19/30\n",
            "86/86 [==============================] - 0s 2ms/sample - loss: 0.7535 - accuracy: 0.6860 - val_loss: 1.1020 - val_accuracy: 0.4889\n",
            "Epoch 20/30\n",
            "86/86 [==============================] - 0s 2ms/sample - loss: 0.8250 - accuracy: 0.6744 - val_loss: 1.1304 - val_accuracy: 0.4222\n",
            "Epoch 21/30\n",
            "86/86 [==============================] - 0s 2ms/sample - loss: 0.8775 - accuracy: 0.5814 - val_loss: 1.0531 - val_accuracy: 0.4444\n",
            "Epoch 22/30\n",
            "86/86 [==============================] - 0s 2ms/sample - loss: 0.8313 - accuracy: 0.6279 - val_loss: 1.0670 - val_accuracy: 0.4667\n",
            "Epoch 23/30\n",
            "86/86 [==============================] - 0s 2ms/sample - loss: 0.7791 - accuracy: 0.6512 - val_loss: 1.0863 - val_accuracy: 0.4667\n",
            "Epoch 24/30\n",
            "86/86 [==============================] - 0s 2ms/sample - loss: 0.8430 - accuracy: 0.6279 - val_loss: 1.1126 - val_accuracy: 0.4222\n",
            "Epoch 25/30\n",
            "86/86 [==============================] - 0s 2ms/sample - loss: 0.7794 - accuracy: 0.6512 - val_loss: 1.0999 - val_accuracy: 0.4222\n",
            "Epoch 26/30\n",
            "86/86 [==============================] - 0s 2ms/sample - loss: 0.8345 - accuracy: 0.6744 - val_loss: 1.1033 - val_accuracy: 0.4667\n",
            "Epoch 27/30\n",
            "86/86 [==============================] - 0s 2ms/sample - loss: 0.8487 - accuracy: 0.6395 - val_loss: 1.0912 - val_accuracy: 0.4889\n",
            "Epoch 28/30\n",
            "86/86 [==============================] - 0s 2ms/sample - loss: 0.7109 - accuracy: 0.7093 - val_loss: 1.1400 - val_accuracy: 0.5111\n",
            "Epoch 29/30\n",
            "86/86 [==============================] - 0s 2ms/sample - loss: 0.7453 - accuracy: 0.7209 - val_loss: 1.1293 - val_accuracy: 0.4889\n",
            "Epoch 30/30\n",
            "86/86 [==============================] - 0s 2ms/sample - loss: 0.8410 - accuracy: 0.6395 - val_loss: 1.0800 - val_accuracy: 0.5333\n",
            "Train on 86 samples, validate on 45 samples\n",
            "Epoch 1/30\n",
            "86/86 [==============================] - 1s 6ms/sample - loss: 1.3370 - accuracy: 0.3605 - val_loss: 1.0975 - val_accuracy: 0.3778\n",
            "Epoch 2/30\n",
            "86/86 [==============================] - 0s 2ms/sample - loss: 1.0417 - accuracy: 0.5000 - val_loss: 1.0370 - val_accuracy: 0.4222\n",
            "Epoch 3/30\n",
            "86/86 [==============================] - 0s 2ms/sample - loss: 0.9874 - accuracy: 0.5116 - val_loss: 1.0331 - val_accuracy: 0.4444\n",
            "Epoch 4/30\n",
            "86/86 [==============================] - 0s 2ms/sample - loss: 0.9535 - accuracy: 0.5349 - val_loss: 1.0353 - val_accuracy: 0.4222\n",
            "Epoch 5/30\n",
            "86/86 [==============================] - 0s 2ms/sample - loss: 0.9447 - accuracy: 0.5698 - val_loss: 1.0036 - val_accuracy: 0.5333\n",
            "Epoch 6/30\n",
            "86/86 [==============================] - 0s 2ms/sample - loss: 0.9337 - accuracy: 0.5698 - val_loss: 1.0260 - val_accuracy: 0.5556\n",
            "Epoch 7/30\n",
            "86/86 [==============================] - 0s 2ms/sample - loss: 0.8954 - accuracy: 0.5581 - val_loss: 1.0337 - val_accuracy: 0.5556\n",
            "Epoch 8/30\n",
            "86/86 [==============================] - 0s 2ms/sample - loss: 0.9542 - accuracy: 0.5698 - val_loss: 0.9800 - val_accuracy: 0.5778\n",
            "Epoch 9/30\n",
            "86/86 [==============================] - 0s 2ms/sample - loss: 0.8546 - accuracy: 0.6279 - val_loss: 0.9784 - val_accuracy: 0.5333\n",
            "Epoch 10/30\n",
            "86/86 [==============================] - 0s 2ms/sample - loss: 0.8865 - accuracy: 0.5698 - val_loss: 1.0225 - val_accuracy: 0.5111\n",
            "Epoch 11/30\n",
            "86/86 [==============================] - 0s 2ms/sample - loss: 0.9078 - accuracy: 0.6047 - val_loss: 1.0217 - val_accuracy: 0.5556\n",
            "Epoch 12/30\n",
            "86/86 [==============================] - 0s 2ms/sample - loss: 0.8617 - accuracy: 0.5930 - val_loss: 1.0159 - val_accuracy: 0.5333\n",
            "Epoch 13/30\n",
            "86/86 [==============================] - 0s 2ms/sample - loss: 0.9630 - accuracy: 0.4767 - val_loss: 1.0072 - val_accuracy: 0.4889\n",
            "Epoch 14/30\n",
            "86/86 [==============================] - 0s 2ms/sample - loss: 0.8855 - accuracy: 0.5814 - val_loss: 1.0156 - val_accuracy: 0.4889\n",
            "Epoch 15/30\n",
            "86/86 [==============================] - 0s 2ms/sample - loss: 0.7779 - accuracy: 0.6512 - val_loss: 1.0379 - val_accuracy: 0.4667\n",
            "Epoch 16/30\n",
            "86/86 [==============================] - 0s 2ms/sample - loss: 0.8634 - accuracy: 0.6279 - val_loss: 1.0252 - val_accuracy: 0.5778\n",
            "Epoch 17/30\n",
            "86/86 [==============================] - 0s 2ms/sample - loss: 0.7921 - accuracy: 0.6977 - val_loss: 1.0552 - val_accuracy: 0.4889\n",
            "Epoch 18/30\n",
            "86/86 [==============================] - 0s 2ms/sample - loss: 0.8917 - accuracy: 0.6860 - val_loss: 1.0340 - val_accuracy: 0.5333\n",
            "Epoch 19/30\n",
            "86/86 [==============================] - 0s 2ms/sample - loss: 0.7850 - accuracy: 0.6512 - val_loss: 1.0419 - val_accuracy: 0.5333\n",
            "Epoch 20/30\n",
            "86/86 [==============================] - 0s 2ms/sample - loss: 0.8521 - accuracy: 0.6628 - val_loss: 1.0425 - val_accuracy: 0.4889\n",
            "Epoch 21/30\n",
            "86/86 [==============================] - 0s 2ms/sample - loss: 0.7846 - accuracy: 0.6628 - val_loss: 1.0780 - val_accuracy: 0.4889\n",
            "Epoch 22/30\n",
            "86/86 [==============================] - 0s 2ms/sample - loss: 0.8496 - accuracy: 0.5930 - val_loss: 1.0093 - val_accuracy: 0.5556\n",
            "Epoch 23/30\n",
            "86/86 [==============================] - 0s 2ms/sample - loss: 0.8377 - accuracy: 0.6279 - val_loss: 1.0350 - val_accuracy: 0.5556\n",
            "Epoch 24/30\n",
            "86/86 [==============================] - 0s 2ms/sample - loss: 0.8673 - accuracy: 0.6395 - val_loss: 0.9901 - val_accuracy: 0.5556\n",
            "Epoch 25/30\n",
            "86/86 [==============================] - 0s 2ms/sample - loss: 0.8344 - accuracy: 0.6395 - val_loss: 0.9864 - val_accuracy: 0.5333\n",
            "Epoch 26/30\n",
            "86/86 [==============================] - 0s 2ms/sample - loss: 0.8243 - accuracy: 0.6744 - val_loss: 0.9927 - val_accuracy: 0.5333\n",
            "Epoch 27/30\n",
            "86/86 [==============================] - 0s 2ms/sample - loss: 0.9022 - accuracy: 0.6047 - val_loss: 0.9983 - val_accuracy: 0.5556\n",
            "Epoch 28/30\n",
            "86/86 [==============================] - 0s 2ms/sample - loss: 0.8859 - accuracy: 0.6395 - val_loss: 1.0282 - val_accuracy: 0.5333\n",
            "Epoch 29/30\n",
            "86/86 [==============================] - 0s 2ms/sample - loss: 0.7626 - accuracy: 0.6628 - val_loss: 1.0562 - val_accuracy: 0.5111\n",
            "Epoch 30/30\n",
            "86/86 [==============================] - 0s 2ms/sample - loss: 0.8049 - accuracy: 0.6047 - val_loss: 1.0627 - val_accuracy: 0.5333\n",
            "Train on 86 samples, validate on 45 samples\n",
            "Epoch 1/30\n",
            "86/86 [==============================] - 1s 6ms/sample - loss: 1.3073 - accuracy: 0.3953 - val_loss: 1.1031 - val_accuracy: 0.4444\n",
            "Epoch 2/30\n",
            "86/86 [==============================] - 0s 2ms/sample - loss: 1.0087 - accuracy: 0.5116 - val_loss: 1.0509 - val_accuracy: 0.4444\n",
            "Epoch 3/30\n",
            "86/86 [==============================] - 0s 2ms/sample - loss: 0.9754 - accuracy: 0.5930 - val_loss: 0.9789 - val_accuracy: 0.4889\n",
            "Epoch 4/30\n",
            "86/86 [==============================] - 0s 2ms/sample - loss: 0.9504 - accuracy: 0.5000 - val_loss: 0.9576 - val_accuracy: 0.5111\n",
            "Epoch 5/30\n",
            "86/86 [==============================] - 0s 2ms/sample - loss: 0.9091 - accuracy: 0.6163 - val_loss: 0.9888 - val_accuracy: 0.5111\n",
            "Epoch 6/30\n",
            "86/86 [==============================] - 0s 2ms/sample - loss: 0.9874 - accuracy: 0.5000 - val_loss: 0.9894 - val_accuracy: 0.4889\n",
            "Epoch 7/30\n",
            "86/86 [==============================] - 0s 2ms/sample - loss: 0.9152 - accuracy: 0.6279 - val_loss: 0.9890 - val_accuracy: 0.4889\n",
            "Epoch 8/30\n",
            "86/86 [==============================] - 0s 2ms/sample - loss: 0.8951 - accuracy: 0.6163 - val_loss: 0.9662 - val_accuracy: 0.4667\n",
            "Epoch 9/30\n",
            "86/86 [==============================] - 0s 2ms/sample - loss: 0.8550 - accuracy: 0.6047 - val_loss: 1.0027 - val_accuracy: 0.4667\n",
            "Epoch 10/30\n",
            "86/86 [==============================] - 0s 2ms/sample - loss: 0.8884 - accuracy: 0.6395 - val_loss: 0.9924 - val_accuracy: 0.4889\n",
            "Epoch 11/30\n",
            "86/86 [==============================] - 0s 2ms/sample - loss: 0.9025 - accuracy: 0.6395 - val_loss: 1.0059 - val_accuracy: 0.4667\n",
            "Epoch 12/30\n",
            "86/86 [==============================] - 0s 2ms/sample - loss: 0.8461 - accuracy: 0.6860 - val_loss: 1.0052 - val_accuracy: 0.5111\n",
            "Epoch 13/30\n",
            "86/86 [==============================] - 0s 2ms/sample - loss: 0.7807 - accuracy: 0.6628 - val_loss: 1.0458 - val_accuracy: 0.5111\n",
            "Epoch 14/30\n",
            "86/86 [==============================] - 0s 2ms/sample - loss: 0.8487 - accuracy: 0.5930 - val_loss: 1.0648 - val_accuracy: 0.5111\n",
            "Epoch 15/30\n",
            "86/86 [==============================] - 0s 2ms/sample - loss: 0.9142 - accuracy: 0.6279 - val_loss: 0.9980 - val_accuracy: 0.5333\n",
            "Epoch 16/30\n",
            "86/86 [==============================] - 0s 2ms/sample - loss: 0.8905 - accuracy: 0.6163 - val_loss: 1.0536 - val_accuracy: 0.4889\n",
            "Epoch 17/30\n",
            "86/86 [==============================] - 0s 2ms/sample - loss: 0.8626 - accuracy: 0.6628 - val_loss: 1.0293 - val_accuracy: 0.4889\n",
            "Epoch 18/30\n",
            "86/86 [==============================] - 0s 2ms/sample - loss: 0.8295 - accuracy: 0.6279 - val_loss: 1.0589 - val_accuracy: 0.4889\n",
            "Epoch 19/30\n",
            "86/86 [==============================] - 0s 2ms/sample - loss: 0.9096 - accuracy: 0.6512 - val_loss: 1.0452 - val_accuracy: 0.4889\n",
            "Epoch 20/30\n",
            "86/86 [==============================] - 0s 2ms/sample - loss: 0.8075 - accuracy: 0.6744 - val_loss: 1.0401 - val_accuracy: 0.5333\n",
            "Epoch 21/30\n",
            "86/86 [==============================] - 0s 2ms/sample - loss: 0.8240 - accuracy: 0.6395 - val_loss: 1.0049 - val_accuracy: 0.5333\n",
            "Epoch 22/30\n",
            "86/86 [==============================] - 0s 2ms/sample - loss: 0.8281 - accuracy: 0.6977 - val_loss: 1.0652 - val_accuracy: 0.4889\n",
            "Epoch 23/30\n",
            "86/86 [==============================] - 0s 2ms/sample - loss: 0.8299 - accuracy: 0.6744 - val_loss: 1.0392 - val_accuracy: 0.4667\n",
            "Epoch 24/30\n",
            "86/86 [==============================] - 0s 2ms/sample - loss: 0.8276 - accuracy: 0.6977 - val_loss: 1.0565 - val_accuracy: 0.4667\n",
            "Epoch 25/30\n",
            "86/86 [==============================] - 0s 2ms/sample - loss: 0.8601 - accuracy: 0.6163 - val_loss: 1.0119 - val_accuracy: 0.4889\n",
            "Epoch 26/30\n",
            "86/86 [==============================] - 0s 2ms/sample - loss: 0.7148 - accuracy: 0.7209 - val_loss: 1.0690 - val_accuracy: 0.4667\n",
            "Epoch 27/30\n",
            "86/86 [==============================] - 0s 2ms/sample - loss: 0.7854 - accuracy: 0.6744 - val_loss: 1.0760 - val_accuracy: 0.4667\n",
            "Epoch 28/30\n",
            "86/86 [==============================] - 0s 2ms/sample - loss: 0.8547 - accuracy: 0.6047 - val_loss: 1.0533 - val_accuracy: 0.4444\n",
            "Epoch 29/30\n",
            "86/86 [==============================] - 0s 2ms/sample - loss: 0.8416 - accuracy: 0.6163 - val_loss: 1.0388 - val_accuracy: 0.4667\n",
            "Epoch 30/30\n",
            "86/86 [==============================] - 0s 2ms/sample - loss: 0.7423 - accuracy: 0.7093 - val_loss: 1.0554 - val_accuracy: 0.4667\n"
          ],
          "name": "stdout"
        },
        {
          "output_type": "display_data",
          "data": {
            "text/html": [
              "<span style=\"color:#4527A0\"><h1 style=\"font-size:18px\">Trial complete</h1></span>"
            ],
            "text/plain": [
              "<IPython.core.display.HTML object>"
            ]
          },
          "metadata": {
            "tags": []
          }
        },
        {
          "output_type": "display_data",
          "data": {
            "text/html": [
              "<span style=\"color:#4527A0\"><h1 style=\"font-size:18px\">Trial summary</h1></span>"
            ],
            "text/plain": [
              "<IPython.core.display.HTML object>"
            ]
          },
          "metadata": {
            "tags": []
          }
        },
        {
          "output_type": "display_data",
          "data": {
            "text/html": [
              "<span style=\"color:#7E57C2\"><h2 style=\"font-size:16px\">Hp values:</h2></span>"
            ],
            "text/plain": [
              "<IPython.core.display.HTML object>"
            ]
          },
          "metadata": {
            "tags": []
          }
        },
        {
          "output_type": "display_data",
          "data": {
            "text/html": [
              "<span style=\"color:cyan\"> |-activation: tanh</span>"
            ],
            "text/plain": [
              "<IPython.core.display.HTML object>"
            ]
          },
          "metadata": {
            "tags": []
          }
        },
        {
          "output_type": "display_data",
          "data": {
            "text/html": [
              "<span style=\"color:blue\"> |-drop_rate: 0.5</span>"
            ],
            "text/plain": [
              "<IPython.core.display.HTML object>"
            ]
          },
          "metadata": {
            "tags": []
          }
        },
        {
          "output_type": "display_data",
          "data": {
            "text/html": [
              "<span style=\"color:cyan\"> |-learning_rate: 0.01</span>"
            ],
            "text/plain": [
              "<IPython.core.display.HTML object>"
            ]
          },
          "metadata": {
            "tags": []
          }
        },
        {
          "output_type": "display_data",
          "data": {
            "text/html": [
              "<span style=\"color:blue\"> |-units: 8</span>"
            ],
            "text/plain": [
              "<IPython.core.display.HTML object>"
            ]
          },
          "metadata": {
            "tags": []
          }
        },
        {
          "output_type": "display_data",
          "data": {
            "text/html": [
              "<span style=\"color:cyan\"> |-weight_init: glorot_normal</span>"
            ],
            "text/plain": [
              "<IPython.core.display.HTML object>"
            ]
          },
          "metadata": {
            "tags": []
          }
        },
        {
          "output_type": "display_data",
          "data": {
            "text/html": [
              "<span style=\"color:cyan\"> |-Score: 0.5555555820465088</span>"
            ],
            "text/plain": [
              "<IPython.core.display.HTML object>"
            ]
          },
          "metadata": {
            "tags": []
          }
        },
        {
          "output_type": "display_data",
          "data": {
            "text/html": [
              "<span style=\"color:cyan\"> |-Best step: 0</span>"
            ],
            "text/plain": [
              "<IPython.core.display.HTML object>"
            ]
          },
          "metadata": {
            "tags": []
          }
        },
        {
          "output_type": "stream",
          "text": [
            "Train on 86 samples, validate on 45 samples\n",
            "Epoch 1/30\n",
            "86/86 [==============================] - 1s 6ms/sample - loss: 1.1223 - accuracy: 0.3488 - val_loss: 1.1092 - val_accuracy: 0.3333\n",
            "Epoch 2/30\n",
            "86/86 [==============================] - 0s 2ms/sample - loss: 1.0829 - accuracy: 0.4419 - val_loss: 1.1074 - val_accuracy: 0.3333\n",
            "Epoch 3/30\n",
            "86/86 [==============================] - 0s 2ms/sample - loss: 1.0866 - accuracy: 0.4419 - val_loss: 1.1054 - val_accuracy: 0.3556\n",
            "Epoch 4/30\n",
            "86/86 [==============================] - 0s 2ms/sample - loss: 1.0975 - accuracy: 0.4302 - val_loss: 1.1038 - val_accuracy: 0.3556\n",
            "Epoch 5/30\n",
            "86/86 [==============================] - 0s 2ms/sample - loss: 1.0514 - accuracy: 0.4302 - val_loss: 1.1020 - val_accuracy: 0.3556\n",
            "Epoch 6/30\n",
            "86/86 [==============================] - 0s 2ms/sample - loss: 1.0662 - accuracy: 0.3372 - val_loss: 1.1005 - val_accuracy: 0.3556\n",
            "Epoch 7/30\n",
            "86/86 [==============================] - 0s 2ms/sample - loss: 1.1172 - accuracy: 0.3953 - val_loss: 1.0987 - val_accuracy: 0.3556\n",
            "Epoch 8/30\n",
            "86/86 [==============================] - 0s 2ms/sample - loss: 1.0266 - accuracy: 0.4302 - val_loss: 1.0970 - val_accuracy: 0.3556\n",
            "Epoch 9/30\n",
            "86/86 [==============================] - 0s 2ms/sample - loss: 1.0585 - accuracy: 0.4186 - val_loss: 1.0954 - val_accuracy: 0.3556\n",
            "Epoch 10/30\n",
            "86/86 [==============================] - 0s 2ms/sample - loss: 1.0807 - accuracy: 0.4070 - val_loss: 1.0933 - val_accuracy: 0.3556\n",
            "Epoch 11/30\n",
            "86/86 [==============================] - 0s 2ms/sample - loss: 1.0461 - accuracy: 0.4070 - val_loss: 1.0917 - val_accuracy: 0.3556\n",
            "Epoch 12/30\n",
            "86/86 [==============================] - 0s 2ms/sample - loss: 1.0440 - accuracy: 0.4535 - val_loss: 1.0902 - val_accuracy: 0.3556\n",
            "Epoch 13/30\n",
            "86/86 [==============================] - 0s 2ms/sample - loss: 1.0758 - accuracy: 0.3953 - val_loss: 1.0886 - val_accuracy: 0.3556\n",
            "Epoch 14/30\n",
            "86/86 [==============================] - 0s 2ms/sample - loss: 1.0707 - accuracy: 0.4535 - val_loss: 1.0871 - val_accuracy: 0.3778\n",
            "Epoch 15/30\n",
            "86/86 [==============================] - 0s 2ms/sample - loss: 1.0670 - accuracy: 0.4070 - val_loss: 1.0858 - val_accuracy: 0.3778\n",
            "Epoch 16/30\n",
            "86/86 [==============================] - 0s 2ms/sample - loss: 1.0190 - accuracy: 0.5000 - val_loss: 1.0841 - val_accuracy: 0.4000\n",
            "Epoch 17/30\n",
            "86/86 [==============================] - 0s 2ms/sample - loss: 1.0171 - accuracy: 0.4535 - val_loss: 1.0829 - val_accuracy: 0.4000\n",
            "Epoch 18/30\n",
            "86/86 [==============================] - 0s 2ms/sample - loss: 1.0489 - accuracy: 0.4302 - val_loss: 1.0814 - val_accuracy: 0.4000\n",
            "Epoch 19/30\n",
            "86/86 [==============================] - 0s 2ms/sample - loss: 1.0146 - accuracy: 0.4302 - val_loss: 1.0798 - val_accuracy: 0.4000\n",
            "Epoch 20/30\n",
            "86/86 [==============================] - 0s 2ms/sample - loss: 1.0019 - accuracy: 0.4884 - val_loss: 1.0786 - val_accuracy: 0.4000\n",
            "Epoch 21/30\n",
            "86/86 [==============================] - 0s 2ms/sample - loss: 1.0015 - accuracy: 0.4419 - val_loss: 1.0772 - val_accuracy: 0.4000\n",
            "Epoch 22/30\n",
            "86/86 [==============================] - 0s 2ms/sample - loss: 1.0671 - accuracy: 0.4535 - val_loss: 1.0758 - val_accuracy: 0.4000\n",
            "Epoch 23/30\n",
            "86/86 [==============================] - 0s 2ms/sample - loss: 1.0265 - accuracy: 0.4535 - val_loss: 1.0745 - val_accuracy: 0.4000\n",
            "Epoch 24/30\n",
            "86/86 [==============================] - 0s 2ms/sample - loss: 1.0651 - accuracy: 0.5116 - val_loss: 1.0729 - val_accuracy: 0.4000\n",
            "Epoch 25/30\n",
            "86/86 [==============================] - 0s 2ms/sample - loss: 0.9941 - accuracy: 0.4884 - val_loss: 1.0714 - val_accuracy: 0.4000\n",
            "Epoch 26/30\n",
            "86/86 [==============================] - 0s 2ms/sample - loss: 1.0513 - accuracy: 0.4651 - val_loss: 1.0702 - val_accuracy: 0.4000\n",
            "Epoch 27/30\n",
            "86/86 [==============================] - 0s 2ms/sample - loss: 1.1017 - accuracy: 0.4070 - val_loss: 1.0688 - val_accuracy: 0.4222\n",
            "Epoch 28/30\n",
            "86/86 [==============================] - 0s 2ms/sample - loss: 1.0019 - accuracy: 0.4651 - val_loss: 1.0676 - val_accuracy: 0.4444\n",
            "Epoch 29/30\n",
            "86/86 [==============================] - 0s 2ms/sample - loss: 1.0310 - accuracy: 0.5465 - val_loss: 1.0665 - val_accuracy: 0.4444\n",
            "Epoch 30/30\n",
            "86/86 [==============================] - 0s 2ms/sample - loss: 1.0703 - accuracy: 0.4302 - val_loss: 1.0654 - val_accuracy: 0.4444\n",
            "Train on 86 samples, validate on 45 samples\n",
            "Epoch 1/30\n",
            "86/86 [==============================] - 1s 6ms/sample - loss: 1.2561 - accuracy: 0.3256 - val_loss: 1.1895 - val_accuracy: 0.3778\n",
            "Epoch 2/30\n",
            "86/86 [==============================] - 0s 2ms/sample - loss: 1.3126 - accuracy: 0.2674 - val_loss: 1.1858 - val_accuracy: 0.3778\n",
            "Epoch 3/30\n",
            "86/86 [==============================] - 0s 2ms/sample - loss: 1.2181 - accuracy: 0.3488 - val_loss: 1.1821 - val_accuracy: 0.3778\n",
            "Epoch 4/30\n",
            "86/86 [==============================] - 0s 2ms/sample - loss: 1.3465 - accuracy: 0.2791 - val_loss: 1.1783 - val_accuracy: 0.3556\n",
            "Epoch 5/30\n",
            "86/86 [==============================] - 0s 2ms/sample - loss: 1.2976 - accuracy: 0.3256 - val_loss: 1.1750 - val_accuracy: 0.3778\n",
            "Epoch 6/30\n",
            "86/86 [==============================] - 0s 2ms/sample - loss: 1.1988 - accuracy: 0.3837 - val_loss: 1.1720 - val_accuracy: 0.3778\n",
            "Epoch 7/30\n",
            "86/86 [==============================] - 0s 2ms/sample - loss: 1.2705 - accuracy: 0.3140 - val_loss: 1.1683 - val_accuracy: 0.3556\n",
            "Epoch 8/30\n",
            "86/86 [==============================] - 0s 2ms/sample - loss: 1.2268 - accuracy: 0.3488 - val_loss: 1.1650 - val_accuracy: 0.3333\n",
            "Epoch 9/30\n",
            "86/86 [==============================] - 0s 2ms/sample - loss: 1.1761 - accuracy: 0.4651 - val_loss: 1.1618 - val_accuracy: 0.3333\n",
            "Epoch 10/30\n",
            "86/86 [==============================] - 0s 2ms/sample - loss: 1.3343 - accuracy: 0.3023 - val_loss: 1.1584 - val_accuracy: 0.3333\n",
            "Epoch 11/30\n",
            "86/86 [==============================] - 0s 2ms/sample - loss: 1.2738 - accuracy: 0.4070 - val_loss: 1.1548 - val_accuracy: 0.3333\n",
            "Epoch 12/30\n",
            "86/86 [==============================] - 0s 2ms/sample - loss: 1.2509 - accuracy: 0.3256 - val_loss: 1.1515 - val_accuracy: 0.3333\n",
            "Epoch 13/30\n",
            "86/86 [==============================] - 0s 2ms/sample - loss: 1.2057 - accuracy: 0.4302 - val_loss: 1.1479 - val_accuracy: 0.3333\n",
            "Epoch 14/30\n",
            "86/86 [==============================] - 0s 2ms/sample - loss: 1.1539 - accuracy: 0.4535 - val_loss: 1.1452 - val_accuracy: 0.3333\n",
            "Epoch 15/30\n",
            "86/86 [==============================] - 0s 2ms/sample - loss: 1.1685 - accuracy: 0.4302 - val_loss: 1.1423 - val_accuracy: 0.3333\n",
            "Epoch 16/30\n",
            "86/86 [==============================] - 0s 2ms/sample - loss: 1.2143 - accuracy: 0.4302 - val_loss: 1.1392 - val_accuracy: 0.3333\n",
            "Epoch 17/30\n",
            "86/86 [==============================] - 0s 2ms/sample - loss: 1.2414 - accuracy: 0.4186 - val_loss: 1.1361 - val_accuracy: 0.3333\n",
            "Epoch 18/30\n",
            "86/86 [==============================] - 0s 2ms/sample - loss: 1.1147 - accuracy: 0.4651 - val_loss: 1.1329 - val_accuracy: 0.3333\n",
            "Epoch 19/30\n",
            "86/86 [==============================] - 0s 2ms/sample - loss: 1.1522 - accuracy: 0.4767 - val_loss: 1.1301 - val_accuracy: 0.3556\n",
            "Epoch 20/30\n",
            "86/86 [==============================] - 0s 2ms/sample - loss: 1.1906 - accuracy: 0.4186 - val_loss: 1.1271 - val_accuracy: 0.3556\n",
            "Epoch 21/30\n",
            "86/86 [==============================] - 0s 2ms/sample - loss: 1.1539 - accuracy: 0.4651 - val_loss: 1.1246 - val_accuracy: 0.3556\n",
            "Epoch 22/30\n",
            "86/86 [==============================] - 0s 2ms/sample - loss: 1.1958 - accuracy: 0.3953 - val_loss: 1.1215 - val_accuracy: 0.3556\n",
            "Epoch 23/30\n",
            "86/86 [==============================] - 0s 2ms/sample - loss: 1.2831 - accuracy: 0.3256 - val_loss: 1.1181 - val_accuracy: 0.3556\n",
            "Epoch 24/30\n",
            "86/86 [==============================] - 0s 2ms/sample - loss: 1.1336 - accuracy: 0.4419 - val_loss: 1.1154 - val_accuracy: 0.3556\n",
            "Epoch 25/30\n",
            "86/86 [==============================] - 0s 2ms/sample - loss: 1.1644 - accuracy: 0.4419 - val_loss: 1.1127 - val_accuracy: 0.3556\n",
            "Epoch 26/30\n",
            "86/86 [==============================] - 0s 2ms/sample - loss: 1.1814 - accuracy: 0.3953 - val_loss: 1.1100 - val_accuracy: 0.3556\n",
            "Epoch 27/30\n",
            "86/86 [==============================] - 0s 2ms/sample - loss: 1.2011 - accuracy: 0.4070 - val_loss: 1.1072 - val_accuracy: 0.3556\n",
            "Epoch 28/30\n",
            "86/86 [==============================] - 0s 2ms/sample - loss: 1.2063 - accuracy: 0.4070 - val_loss: 1.1042 - val_accuracy: 0.3556\n",
            "Epoch 29/30\n",
            "86/86 [==============================] - 0s 2ms/sample - loss: 1.1096 - accuracy: 0.5349 - val_loss: 1.1016 - val_accuracy: 0.3556\n",
            "Epoch 30/30\n",
            "86/86 [==============================] - 0s 2ms/sample - loss: 1.2284 - accuracy: 0.3605 - val_loss: 1.0986 - val_accuracy: 0.3778\n",
            "Train on 86 samples, validate on 45 samples\n",
            "Epoch 1/30\n",
            "86/86 [==============================] - 1s 6ms/sample - loss: 1.0897 - accuracy: 0.3721 - val_loss: 1.0801 - val_accuracy: 0.3333\n",
            "Epoch 2/30\n",
            "86/86 [==============================] - 0s 2ms/sample - loss: 1.0954 - accuracy: 0.3140 - val_loss: 1.0785 - val_accuracy: 0.3333\n",
            "Epoch 3/30\n",
            "86/86 [==============================] - 0s 2ms/sample - loss: 1.0876 - accuracy: 0.3256 - val_loss: 1.0769 - val_accuracy: 0.3333\n",
            "Epoch 4/30\n",
            "86/86 [==============================] - 0s 2ms/sample - loss: 1.0947 - accuracy: 0.2674 - val_loss: 1.0755 - val_accuracy: 0.3333\n",
            "Epoch 5/30\n",
            "86/86 [==============================] - 0s 2ms/sample - loss: 1.0892 - accuracy: 0.2558 - val_loss: 1.0738 - val_accuracy: 0.3333\n",
            "Epoch 6/30\n",
            "86/86 [==============================] - 0s 2ms/sample - loss: 1.0994 - accuracy: 0.3140 - val_loss: 1.0721 - val_accuracy: 0.3333\n",
            "Epoch 7/30\n",
            "86/86 [==============================] - 0s 2ms/sample - loss: 1.0925 - accuracy: 0.2791 - val_loss: 1.0709 - val_accuracy: 0.3333\n",
            "Epoch 8/30\n",
            "86/86 [==============================] - 0s 2ms/sample - loss: 1.0857 - accuracy: 0.3605 - val_loss: 1.0694 - val_accuracy: 0.3333\n",
            "Epoch 9/30\n",
            "86/86 [==============================] - 0s 2ms/sample - loss: 1.0743 - accuracy: 0.2674 - val_loss: 1.0681 - val_accuracy: 0.3556\n",
            "Epoch 10/30\n",
            "86/86 [==============================] - 0s 2ms/sample - loss: 1.0677 - accuracy: 0.4186 - val_loss: 1.0665 - val_accuracy: 0.3556\n",
            "Epoch 11/30\n",
            "86/86 [==============================] - 0s 2ms/sample - loss: 1.0662 - accuracy: 0.3372 - val_loss: 1.0652 - val_accuracy: 0.3556\n",
            "Epoch 12/30\n",
            "86/86 [==============================] - 0s 2ms/sample - loss: 1.0824 - accuracy: 0.3488 - val_loss: 1.0640 - val_accuracy: 0.3556\n",
            "Epoch 13/30\n",
            "86/86 [==============================] - 0s 2ms/sample - loss: 1.0579 - accuracy: 0.3721 - val_loss: 1.0627 - val_accuracy: 0.3556\n",
            "Epoch 14/30\n",
            "86/86 [==============================] - 0s 2ms/sample - loss: 1.0718 - accuracy: 0.3721 - val_loss: 1.0613 - val_accuracy: 0.3556\n",
            "Epoch 15/30\n",
            "86/86 [==============================] - 0s 2ms/sample - loss: 1.0618 - accuracy: 0.3488 - val_loss: 1.0601 - val_accuracy: 0.3556\n",
            "Epoch 16/30\n",
            "86/86 [==============================] - 0s 2ms/sample - loss: 1.0639 - accuracy: 0.3721 - val_loss: 1.0590 - val_accuracy: 0.3556\n",
            "Epoch 17/30\n",
            "86/86 [==============================] - 0s 2ms/sample - loss: 1.0614 - accuracy: 0.4535 - val_loss: 1.0577 - val_accuracy: 0.3333\n",
            "Epoch 18/30\n",
            "86/86 [==============================] - 0s 2ms/sample - loss: 1.0668 - accuracy: 0.3372 - val_loss: 1.0566 - val_accuracy: 0.3333\n",
            "Epoch 19/30\n",
            "86/86 [==============================] - 0s 2ms/sample - loss: 1.0680 - accuracy: 0.4767 - val_loss: 1.0557 - val_accuracy: 0.3333\n",
            "Epoch 20/30\n",
            "86/86 [==============================] - 0s 2ms/sample - loss: 1.0580 - accuracy: 0.3605 - val_loss: 1.0544 - val_accuracy: 0.3333\n",
            "Epoch 21/30\n",
            "86/86 [==============================] - 0s 2ms/sample - loss: 1.0475 - accuracy: 0.3837 - val_loss: 1.0533 - val_accuracy: 0.3556\n",
            "Epoch 22/30\n",
            "86/86 [==============================] - 0s 2ms/sample - loss: 1.0500 - accuracy: 0.4070 - val_loss: 1.0524 - val_accuracy: 0.3556\n",
            "Epoch 23/30\n",
            "86/86 [==============================] - 0s 2ms/sample - loss: 1.0593 - accuracy: 0.3953 - val_loss: 1.0514 - val_accuracy: 0.3778\n",
            "Epoch 24/30\n",
            "86/86 [==============================] - 0s 2ms/sample - loss: 1.0516 - accuracy: 0.4535 - val_loss: 1.0503 - val_accuracy: 0.4000\n",
            "Epoch 25/30\n",
            "86/86 [==============================] - 0s 2ms/sample - loss: 1.0554 - accuracy: 0.4186 - val_loss: 1.0492 - val_accuracy: 0.4000\n",
            "Epoch 26/30\n",
            "86/86 [==============================] - 0s 2ms/sample - loss: 1.0451 - accuracy: 0.3605 - val_loss: 1.0481 - val_accuracy: 0.4444\n",
            "Epoch 27/30\n",
            "86/86 [==============================] - 0s 2ms/sample - loss: 1.0540 - accuracy: 0.3953 - val_loss: 1.0471 - val_accuracy: 0.4444\n",
            "Epoch 28/30\n",
            "86/86 [==============================] - 0s 2ms/sample - loss: 1.0427 - accuracy: 0.3605 - val_loss: 1.0463 - val_accuracy: 0.4444\n",
            "Epoch 29/30\n",
            "86/86 [==============================] - 0s 2ms/sample - loss: 1.0481 - accuracy: 0.4419 - val_loss: 1.0454 - val_accuracy: 0.4444\n",
            "Epoch 30/30\n",
            "86/86 [==============================] - 0s 2ms/sample - loss: 1.0562 - accuracy: 0.3605 - val_loss: 1.0445 - val_accuracy: 0.4222\n",
            "Train on 86 samples, validate on 45 samples\n",
            "Epoch 1/30\n",
            "86/86 [==============================] - 1s 6ms/sample - loss: 1.1619 - accuracy: 0.3372 - val_loss: 1.2232 - val_accuracy: 0.2444\n",
            "Epoch 2/30\n",
            "86/86 [==============================] - 0s 2ms/sample - loss: 1.2144 - accuracy: 0.3023 - val_loss: 1.2194 - val_accuracy: 0.2444\n",
            "Epoch 3/30\n",
            "86/86 [==============================] - 0s 2ms/sample - loss: 1.1769 - accuracy: 0.3372 - val_loss: 1.2156 - val_accuracy: 0.2667\n",
            "Epoch 4/30\n",
            "86/86 [==============================] - 0s 2ms/sample - loss: 1.1934 - accuracy: 0.3256 - val_loss: 1.2122 - val_accuracy: 0.2667\n",
            "Epoch 5/30\n",
            "86/86 [==============================] - 0s 2ms/sample - loss: 1.1435 - accuracy: 0.3488 - val_loss: 1.2089 - val_accuracy: 0.2667\n",
            "Epoch 6/30\n",
            "86/86 [==============================] - 0s 2ms/sample - loss: 1.1643 - accuracy: 0.3140 - val_loss: 1.2058 - val_accuracy: 0.2889\n",
            "Epoch 7/30\n",
            "86/86 [==============================] - 0s 2ms/sample - loss: 1.1139 - accuracy: 0.3605 - val_loss: 1.2029 - val_accuracy: 0.2889\n",
            "Epoch 8/30\n",
            "86/86 [==============================] - 0s 2ms/sample - loss: 1.0921 - accuracy: 0.3953 - val_loss: 1.1996 - val_accuracy: 0.2889\n",
            "Epoch 9/30\n",
            "86/86 [==============================] - 0s 2ms/sample - loss: 1.1564 - accuracy: 0.4070 - val_loss: 1.1963 - val_accuracy: 0.2889\n",
            "Epoch 10/30\n",
            "86/86 [==============================] - 0s 2ms/sample - loss: 1.1613 - accuracy: 0.3953 - val_loss: 1.1930 - val_accuracy: 0.2889\n",
            "Epoch 11/30\n",
            "86/86 [==============================] - 0s 2ms/sample - loss: 1.1288 - accuracy: 0.4186 - val_loss: 1.1900 - val_accuracy: 0.3111\n",
            "Epoch 12/30\n",
            "86/86 [==============================] - 0s 2ms/sample - loss: 1.1139 - accuracy: 0.4302 - val_loss: 1.1875 - val_accuracy: 0.3111\n",
            "Epoch 13/30\n",
            "86/86 [==============================] - 0s 2ms/sample - loss: 1.1624 - accuracy: 0.3721 - val_loss: 1.1839 - val_accuracy: 0.3111\n",
            "Epoch 14/30\n",
            "86/86 [==============================] - 0s 2ms/sample - loss: 1.1836 - accuracy: 0.3372 - val_loss: 1.1807 - val_accuracy: 0.3111\n",
            "Epoch 15/30\n",
            "86/86 [==============================] - 0s 2ms/sample - loss: 1.2075 - accuracy: 0.2907 - val_loss: 1.1772 - val_accuracy: 0.3111\n",
            "Epoch 16/30\n",
            "86/86 [==============================] - 0s 2ms/sample - loss: 1.1772 - accuracy: 0.3721 - val_loss: 1.1745 - val_accuracy: 0.3111\n",
            "Epoch 17/30\n",
            "86/86 [==============================] - 0s 2ms/sample - loss: 1.1346 - accuracy: 0.4186 - val_loss: 1.1715 - val_accuracy: 0.3556\n",
            "Epoch 18/30\n",
            "86/86 [==============================] - 0s 2ms/sample - loss: 1.0808 - accuracy: 0.5116 - val_loss: 1.1689 - val_accuracy: 0.3556\n",
            "Epoch 19/30\n",
            "86/86 [==============================] - 0s 2ms/sample - loss: 1.0802 - accuracy: 0.4070 - val_loss: 1.1665 - val_accuracy: 0.3556\n",
            "Epoch 20/30\n",
            "86/86 [==============================] - 0s 2ms/sample - loss: 1.1347 - accuracy: 0.4070 - val_loss: 1.1639 - val_accuracy: 0.3778\n",
            "Epoch 21/30\n",
            "86/86 [==============================] - 0s 2ms/sample - loss: 1.1524 - accuracy: 0.3372 - val_loss: 1.1606 - val_accuracy: 0.3778\n",
            "Epoch 22/30\n",
            "86/86 [==============================] - 0s 2ms/sample - loss: 1.0830 - accuracy: 0.4651 - val_loss: 1.1578 - val_accuracy: 0.3778\n",
            "Epoch 23/30\n",
            "86/86 [==============================] - 0s 2ms/sample - loss: 1.1298 - accuracy: 0.4535 - val_loss: 1.1549 - val_accuracy: 0.4000\n",
            "Epoch 24/30\n",
            "86/86 [==============================] - 0s 2ms/sample - loss: 1.1182 - accuracy: 0.3953 - val_loss: 1.1526 - val_accuracy: 0.4222\n",
            "Epoch 25/30\n",
            "86/86 [==============================] - 0s 2ms/sample - loss: 1.1424 - accuracy: 0.2791 - val_loss: 1.1498 - val_accuracy: 0.4444\n",
            "Epoch 26/30\n",
            "86/86 [==============================] - 0s 2ms/sample - loss: 1.0851 - accuracy: 0.4302 - val_loss: 1.1476 - val_accuracy: 0.4667\n",
            "Epoch 27/30\n",
            "86/86 [==============================] - 0s 2ms/sample - loss: 1.0758 - accuracy: 0.4302 - val_loss: 1.1451 - val_accuracy: 0.4667\n",
            "Epoch 28/30\n",
            "86/86 [==============================] - 0s 3ms/sample - loss: 1.1037 - accuracy: 0.4070 - val_loss: 1.1423 - val_accuracy: 0.4889\n",
            "Epoch 29/30\n",
            "86/86 [==============================] - 0s 2ms/sample - loss: 1.0674 - accuracy: 0.3953 - val_loss: 1.1397 - val_accuracy: 0.4889\n",
            "Epoch 30/30\n",
            "86/86 [==============================] - 0s 2ms/sample - loss: 1.1229 - accuracy: 0.4070 - val_loss: 1.1373 - val_accuracy: 0.4667\n",
            "Train on 86 samples, validate on 45 samples\n",
            "Epoch 1/30\n",
            "86/86 [==============================] - 1s 6ms/sample - loss: 1.2053 - accuracy: 0.2326 - val_loss: 1.2184 - val_accuracy: 0.2444\n",
            "Epoch 2/30\n",
            "86/86 [==============================] - 0s 2ms/sample - loss: 1.2091 - accuracy: 0.2442 - val_loss: 1.2159 - val_accuracy: 0.2444\n",
            "Epoch 3/30\n",
            "86/86 [==============================] - 0s 2ms/sample - loss: 1.1770 - accuracy: 0.3140 - val_loss: 1.2134 - val_accuracy: 0.2667\n",
            "Epoch 4/30\n",
            "86/86 [==============================] - 0s 2ms/sample - loss: 1.1599 - accuracy: 0.3488 - val_loss: 1.2112 - val_accuracy: 0.2889\n",
            "Epoch 5/30\n",
            "86/86 [==============================] - 0s 2ms/sample - loss: 1.1984 - accuracy: 0.3140 - val_loss: 1.2090 - val_accuracy: 0.2889\n",
            "Epoch 6/30\n",
            "86/86 [==============================] - 0s 2ms/sample - loss: 1.1739 - accuracy: 0.3721 - val_loss: 1.2065 - val_accuracy: 0.2889\n",
            "Epoch 7/30\n",
            "86/86 [==============================] - 0s 2ms/sample - loss: 1.1116 - accuracy: 0.3953 - val_loss: 1.2042 - val_accuracy: 0.2667\n",
            "Epoch 8/30\n",
            "86/86 [==============================] - 0s 2ms/sample - loss: 1.1686 - accuracy: 0.3721 - val_loss: 1.2023 - val_accuracy: 0.2667\n",
            "Epoch 9/30\n",
            "86/86 [==============================] - 0s 2ms/sample - loss: 1.1742 - accuracy: 0.3605 - val_loss: 1.1994 - val_accuracy: 0.2444\n",
            "Epoch 10/30\n",
            "86/86 [==============================] - 0s 2ms/sample - loss: 1.1826 - accuracy: 0.3372 - val_loss: 1.1974 - val_accuracy: 0.2444\n",
            "Epoch 11/30\n",
            "86/86 [==============================] - 0s 2ms/sample - loss: 1.1382 - accuracy: 0.3721 - val_loss: 1.1954 - val_accuracy: 0.2444\n",
            "Epoch 12/30\n",
            "86/86 [==============================] - 0s 2ms/sample - loss: 1.1704 - accuracy: 0.3721 - val_loss: 1.1931 - val_accuracy: 0.2444\n",
            "Epoch 13/30\n",
            "86/86 [==============================] - 0s 2ms/sample - loss: 1.1716 - accuracy: 0.4070 - val_loss: 1.1904 - val_accuracy: 0.2444\n",
            "Epoch 14/30\n",
            "86/86 [==============================] - 0s 2ms/sample - loss: 1.1378 - accuracy: 0.4070 - val_loss: 1.1887 - val_accuracy: 0.2444\n",
            "Epoch 15/30\n",
            "86/86 [==============================] - 0s 2ms/sample - loss: 1.1405 - accuracy: 0.4070 - val_loss: 1.1865 - val_accuracy: 0.2444\n",
            "Epoch 16/30\n",
            "86/86 [==============================] - 0s 2ms/sample - loss: 1.1264 - accuracy: 0.3837 - val_loss: 1.1845 - val_accuracy: 0.2667\n",
            "Epoch 17/30\n",
            "86/86 [==============================] - 0s 2ms/sample - loss: 1.1321 - accuracy: 0.3256 - val_loss: 1.1823 - val_accuracy: 0.2667\n",
            "Epoch 18/30\n",
            "86/86 [==============================] - 0s 2ms/sample - loss: 1.1324 - accuracy: 0.3721 - val_loss: 1.1804 - val_accuracy: 0.2667\n",
            "Epoch 19/30\n",
            "86/86 [==============================] - 0s 2ms/sample - loss: 1.1246 - accuracy: 0.3605 - val_loss: 1.1784 - val_accuracy: 0.2444\n",
            "Epoch 20/30\n",
            "86/86 [==============================] - 0s 2ms/sample - loss: 1.1158 - accuracy: 0.4070 - val_loss: 1.1765 - val_accuracy: 0.2444\n",
            "Epoch 21/30\n",
            "86/86 [==============================] - 0s 2ms/sample - loss: 1.1427 - accuracy: 0.3953 - val_loss: 1.1747 - val_accuracy: 0.2222\n",
            "Epoch 22/30\n",
            "86/86 [==============================] - 0s 2ms/sample - loss: 1.1606 - accuracy: 0.3488 - val_loss: 1.1727 - val_accuracy: 0.2444\n",
            "Epoch 23/30\n",
            "86/86 [==============================] - 0s 2ms/sample - loss: 1.1091 - accuracy: 0.4070 - val_loss: 1.1708 - val_accuracy: 0.2889\n",
            "Epoch 24/30\n",
            "86/86 [==============================] - 0s 2ms/sample - loss: 1.1659 - accuracy: 0.3605 - val_loss: 1.1688 - val_accuracy: 0.2889\n",
            "Epoch 25/30\n",
            "86/86 [==============================] - 0s 2ms/sample - loss: 1.1384 - accuracy: 0.3837 - val_loss: 1.1670 - val_accuracy: 0.2889\n",
            "Epoch 26/30\n",
            "86/86 [==============================] - 0s 2ms/sample - loss: 1.1088 - accuracy: 0.4419 - val_loss: 1.1652 - val_accuracy: 0.2889\n",
            "Epoch 27/30\n",
            "86/86 [==============================] - 0s 2ms/sample - loss: 1.0806 - accuracy: 0.4651 - val_loss: 1.1637 - val_accuracy: 0.2889\n",
            "Epoch 28/30\n",
            "86/86 [==============================] - 0s 2ms/sample - loss: 1.1066 - accuracy: 0.3953 - val_loss: 1.1619 - val_accuracy: 0.2889\n",
            "Epoch 29/30\n",
            "86/86 [==============================] - 0s 2ms/sample - loss: 1.1172 - accuracy: 0.4535 - val_loss: 1.1601 - val_accuracy: 0.3333\n",
            "Epoch 30/30\n",
            "86/86 [==============================] - 0s 2ms/sample - loss: 1.0942 - accuracy: 0.4419 - val_loss: 1.1585 - val_accuracy: 0.3333\n"
          ],
          "name": "stdout"
        },
        {
          "output_type": "display_data",
          "data": {
            "text/html": [
              "<span style=\"color:#4527A0\"><h1 style=\"font-size:18px\">Trial complete</h1></span>"
            ],
            "text/plain": [
              "<IPython.core.display.HTML object>"
            ]
          },
          "metadata": {
            "tags": []
          }
        },
        {
          "output_type": "display_data",
          "data": {
            "text/html": [
              "<span style=\"color:#4527A0\"><h1 style=\"font-size:18px\">Trial summary</h1></span>"
            ],
            "text/plain": [
              "<IPython.core.display.HTML object>"
            ]
          },
          "metadata": {
            "tags": []
          }
        },
        {
          "output_type": "display_data",
          "data": {
            "text/html": [
              "<span style=\"color:#7E57C2\"><h2 style=\"font-size:16px\">Hp values:</h2></span>"
            ],
            "text/plain": [
              "<IPython.core.display.HTML object>"
            ]
          },
          "metadata": {
            "tags": []
          }
        },
        {
          "output_type": "display_data",
          "data": {
            "text/html": [
              "<span style=\"color:cyan\"> |-activation: softmax</span>"
            ],
            "text/plain": [
              "<IPython.core.display.HTML object>"
            ]
          },
          "metadata": {
            "tags": []
          }
        },
        {
          "output_type": "display_data",
          "data": {
            "text/html": [
              "<span style=\"color:blue\"> |-drop_rate: 0.3</span>"
            ],
            "text/plain": [
              "<IPython.core.display.HTML object>"
            ]
          },
          "metadata": {
            "tags": []
          }
        },
        {
          "output_type": "display_data",
          "data": {
            "text/html": [
              "<span style=\"color:cyan\"> |-learning_rate: 0.0001</span>"
            ],
            "text/plain": [
              "<IPython.core.display.HTML object>"
            ]
          },
          "metadata": {
            "tags": []
          }
        },
        {
          "output_type": "display_data",
          "data": {
            "text/html": [
              "<span style=\"color:blue\"> |-units: 4</span>"
            ],
            "text/plain": [
              "<IPython.core.display.HTML object>"
            ]
          },
          "metadata": {
            "tags": []
          }
        },
        {
          "output_type": "display_data",
          "data": {
            "text/html": [
              "<span style=\"color:cyan\"> |-weight_init: he_uniform</span>"
            ],
            "text/plain": [
              "<IPython.core.display.HTML object>"
            ]
          },
          "metadata": {
            "tags": []
          }
        },
        {
          "output_type": "display_data",
          "data": {
            "text/html": [
              "<span style=\"color:cyan\"> |-Score: 0.41777777671813965</span>"
            ],
            "text/plain": [
              "<IPython.core.display.HTML object>"
            ]
          },
          "metadata": {
            "tags": []
          }
        },
        {
          "output_type": "display_data",
          "data": {
            "text/html": [
              "<span style=\"color:cyan\"> |-Best step: 0</span>"
            ],
            "text/plain": [
              "<IPython.core.display.HTML object>"
            ]
          },
          "metadata": {
            "tags": []
          }
        },
        {
          "output_type": "stream",
          "text": [
            "INFO:tensorflow:Oracle triggered exit\n",
            "INFO:tensorflow:Reloading Oracle from /content/my_dir/RandomSearch/oracle.json\n",
            "INFO:tensorflow:Reloading Tuner from /content/my_dir/RandomSearch/tuner0.json\n"
          ],
          "name": "stdout"
        },
        {
          "output_type": "display_data",
          "data": {
            "text/html": [
              "<span style=\"color:#4527A0\"><h1 style=\"font-size:18px\">Search space summary</h1></span>"
            ],
            "text/plain": [
              "<IPython.core.display.HTML object>"
            ]
          },
          "metadata": {
            "tags": []
          }
        },
        {
          "output_type": "display_data",
          "data": {
            "text/html": [
              "<span style=\"color:cyan\"> |-Default search space size: 5</span>"
            ],
            "text/plain": [
              "<IPython.core.display.HTML object>"
            ]
          },
          "metadata": {
            "tags": []
          }
        },
        {
          "output_type": "display_data",
          "data": {
            "text/html": [
              "<span style=\"color:#7E57C2\"><h2 style=\"font-size:16px\">activation (Choice)</h2></span>"
            ],
            "text/plain": [
              "<IPython.core.display.HTML object>"
            ]
          },
          "metadata": {
            "tags": []
          }
        },
        {
          "output_type": "display_data",
          "data": {
            "text/html": [
              "<span style=\"color:cyan\"> |-default: softmax</span>"
            ],
            "text/plain": [
              "<IPython.core.display.HTML object>"
            ]
          },
          "metadata": {
            "tags": []
          }
        },
        {
          "output_type": "display_data",
          "data": {
            "text/html": [
              "<span style=\"color:blue\"> |-ordered: False</span>"
            ],
            "text/plain": [
              "<IPython.core.display.HTML object>"
            ]
          },
          "metadata": {
            "tags": []
          }
        },
        {
          "output_type": "display_data",
          "data": {
            "text/html": [
              "<span style=\"color:cyan\"> |-values: ['softmax', 'softplus', 'softsign', 'relu', 'tanh', 'sigmoid', 'hard_sigmoid', 'linear']</span>"
            ],
            "text/plain": [
              "<IPython.core.display.HTML object>"
            ]
          },
          "metadata": {
            "tags": []
          }
        },
        {
          "output_type": "display_data",
          "data": {
            "text/html": [
              "<span style=\"color:#7E57C2\"><h2 style=\"font-size:16px\">weight_init (Choice)</h2></span>"
            ],
            "text/plain": [
              "<IPython.core.display.HTML object>"
            ]
          },
          "metadata": {
            "tags": []
          }
        },
        {
          "output_type": "display_data",
          "data": {
            "text/html": [
              "<span style=\"color:cyan\"> |-default: uniform</span>"
            ],
            "text/plain": [
              "<IPython.core.display.HTML object>"
            ]
          },
          "metadata": {
            "tags": []
          }
        },
        {
          "output_type": "display_data",
          "data": {
            "text/html": [
              "<span style=\"color:blue\"> |-ordered: False</span>"
            ],
            "text/plain": [
              "<IPython.core.display.HTML object>"
            ]
          },
          "metadata": {
            "tags": []
          }
        },
        {
          "output_type": "display_data",
          "data": {
            "text/html": [
              "<span style=\"color:cyan\"> |-values: ['uniform', 'lecun_uniform', 'normal', 'zero', 'glorot_normal', 'glorot_uniform', 'he_normal', 'he_uniform']</span>"
            ],
            "text/plain": [
              "<IPython.core.display.HTML object>"
            ]
          },
          "metadata": {
            "tags": []
          }
        },
        {
          "output_type": "display_data",
          "data": {
            "text/html": [
              "<span style=\"color:#7E57C2\"><h2 style=\"font-size:16px\">drop_rate (Choice)</h2></span>"
            ],
            "text/plain": [
              "<IPython.core.display.HTML object>"
            ]
          },
          "metadata": {
            "tags": []
          }
        },
        {
          "output_type": "display_data",
          "data": {
            "text/html": [
              "<span style=\"color:cyan\"> |-default: 0.0</span>"
            ],
            "text/plain": [
              "<IPython.core.display.HTML object>"
            ]
          },
          "metadata": {
            "tags": []
          }
        },
        {
          "output_type": "display_data",
          "data": {
            "text/html": [
              "<span style=\"color:blue\"> |-ordered: True</span>"
            ],
            "text/plain": [
              "<IPython.core.display.HTML object>"
            ]
          },
          "metadata": {
            "tags": []
          }
        },
        {
          "output_type": "display_data",
          "data": {
            "text/html": [
              "<span style=\"color:cyan\"> |-values: [0.0, 0.1, 0.2, 0.3, 0.4, 0.5, 0.6, 0.7, 0.8, 0.9]</span>"
            ],
            "text/plain": [
              "<IPython.core.display.HTML object>"
            ]
          },
          "metadata": {
            "tags": []
          }
        },
        {
          "output_type": "display_data",
          "data": {
            "text/html": [
              "<span style=\"color:#7E57C2\"><h2 style=\"font-size:16px\">units (Int)</h2></span>"
            ],
            "text/plain": [
              "<IPython.core.display.HTML object>"
            ]
          },
          "metadata": {
            "tags": []
          }
        },
        {
          "output_type": "display_data",
          "data": {
            "text/html": [
              "<span style=\"color:cyan\"> |-default: None</span>"
            ],
            "text/plain": [
              "<IPython.core.display.HTML object>"
            ]
          },
          "metadata": {
            "tags": []
          }
        },
        {
          "output_type": "display_data",
          "data": {
            "text/html": [
              "<span style=\"color:blue\"> |-max_value: 8</span>"
            ],
            "text/plain": [
              "<IPython.core.display.HTML object>"
            ]
          },
          "metadata": {
            "tags": []
          }
        },
        {
          "output_type": "display_data",
          "data": {
            "text/html": [
              "<span style=\"color:cyan\"> |-min_value: 3</span>"
            ],
            "text/plain": [
              "<IPython.core.display.HTML object>"
            ]
          },
          "metadata": {
            "tags": []
          }
        },
        {
          "output_type": "display_data",
          "data": {
            "text/html": [
              "<span style=\"color:blue\"> |-sampling: None</span>"
            ],
            "text/plain": [
              "<IPython.core.display.HTML object>"
            ]
          },
          "metadata": {
            "tags": []
          }
        },
        {
          "output_type": "display_data",
          "data": {
            "text/html": [
              "<span style=\"color:cyan\"> |-step: 1</span>"
            ],
            "text/plain": [
              "<IPython.core.display.HTML object>"
            ]
          },
          "metadata": {
            "tags": []
          }
        },
        {
          "output_type": "display_data",
          "data": {
            "text/html": [
              "<span style=\"color:#7E57C2\"><h2 style=\"font-size:16px\">learning_rate (Choice)</h2></span>"
            ],
            "text/plain": [
              "<IPython.core.display.HTML object>"
            ]
          },
          "metadata": {
            "tags": []
          }
        },
        {
          "output_type": "display_data",
          "data": {
            "text/html": [
              "<span style=\"color:cyan\"> |-default: 0.01</span>"
            ],
            "text/plain": [
              "<IPython.core.display.HTML object>"
            ]
          },
          "metadata": {
            "tags": []
          }
        },
        {
          "output_type": "display_data",
          "data": {
            "text/html": [
              "<span style=\"color:blue\"> |-ordered: True</span>"
            ],
            "text/plain": [
              "<IPython.core.display.HTML object>"
            ]
          },
          "metadata": {
            "tags": []
          }
        },
        {
          "output_type": "display_data",
          "data": {
            "text/html": [
              "<span style=\"color:cyan\"> |-values: [0.01, 0.001, 0.0001]</span>"
            ],
            "text/plain": [
              "<IPython.core.display.HTML object>"
            ]
          },
          "metadata": {
            "tags": []
          }
        },
        {
          "output_type": "stream",
          "text": [
            "INFO:tensorflow:Oracle triggered exit\n",
            "INFO:tensorflow:Reloading Oracle from /content/my_dir/RandomSearch/oracle.json\n",
            "INFO:tensorflow:Reloading Tuner from /content/my_dir/RandomSearch/tuner0.json\n"
          ],
          "name": "stdout"
        },
        {
          "output_type": "display_data",
          "data": {
            "text/html": [
              "<span style=\"color:#4527A0\"><h1 style=\"font-size:18px\">Search space summary</h1></span>"
            ],
            "text/plain": [
              "<IPython.core.display.HTML object>"
            ]
          },
          "metadata": {
            "tags": []
          }
        },
        {
          "output_type": "display_data",
          "data": {
            "text/html": [
              "<span style=\"color:cyan\"> |-Default search space size: 5</span>"
            ],
            "text/plain": [
              "<IPython.core.display.HTML object>"
            ]
          },
          "metadata": {
            "tags": []
          }
        },
        {
          "output_type": "display_data",
          "data": {
            "text/html": [
              "<span style=\"color:#7E57C2\"><h2 style=\"font-size:16px\">activation (Choice)</h2></span>"
            ],
            "text/plain": [
              "<IPython.core.display.HTML object>"
            ]
          },
          "metadata": {
            "tags": []
          }
        },
        {
          "output_type": "display_data",
          "data": {
            "text/html": [
              "<span style=\"color:cyan\"> |-default: softmax</span>"
            ],
            "text/plain": [
              "<IPython.core.display.HTML object>"
            ]
          },
          "metadata": {
            "tags": []
          }
        },
        {
          "output_type": "display_data",
          "data": {
            "text/html": [
              "<span style=\"color:blue\"> |-ordered: False</span>"
            ],
            "text/plain": [
              "<IPython.core.display.HTML object>"
            ]
          },
          "metadata": {
            "tags": []
          }
        },
        {
          "output_type": "display_data",
          "data": {
            "text/html": [
              "<span style=\"color:cyan\"> |-values: ['softmax', 'softplus', 'softsign', 'relu', 'tanh', 'sigmoid', 'hard_sigmoid', 'linear']</span>"
            ],
            "text/plain": [
              "<IPython.core.display.HTML object>"
            ]
          },
          "metadata": {
            "tags": []
          }
        },
        {
          "output_type": "display_data",
          "data": {
            "text/html": [
              "<span style=\"color:#7E57C2\"><h2 style=\"font-size:16px\">weight_init (Choice)</h2></span>"
            ],
            "text/plain": [
              "<IPython.core.display.HTML object>"
            ]
          },
          "metadata": {
            "tags": []
          }
        },
        {
          "output_type": "display_data",
          "data": {
            "text/html": [
              "<span style=\"color:cyan\"> |-default: uniform</span>"
            ],
            "text/plain": [
              "<IPython.core.display.HTML object>"
            ]
          },
          "metadata": {
            "tags": []
          }
        },
        {
          "output_type": "display_data",
          "data": {
            "text/html": [
              "<span style=\"color:blue\"> |-ordered: False</span>"
            ],
            "text/plain": [
              "<IPython.core.display.HTML object>"
            ]
          },
          "metadata": {
            "tags": []
          }
        },
        {
          "output_type": "display_data",
          "data": {
            "text/html": [
              "<span style=\"color:cyan\"> |-values: ['uniform', 'lecun_uniform', 'normal', 'zero', 'glorot_normal', 'glorot_uniform', 'he_normal', 'he_uniform']</span>"
            ],
            "text/plain": [
              "<IPython.core.display.HTML object>"
            ]
          },
          "metadata": {
            "tags": []
          }
        },
        {
          "output_type": "display_data",
          "data": {
            "text/html": [
              "<span style=\"color:#7E57C2\"><h2 style=\"font-size:16px\">drop_rate (Choice)</h2></span>"
            ],
            "text/plain": [
              "<IPython.core.display.HTML object>"
            ]
          },
          "metadata": {
            "tags": []
          }
        },
        {
          "output_type": "display_data",
          "data": {
            "text/html": [
              "<span style=\"color:cyan\"> |-default: 0.0</span>"
            ],
            "text/plain": [
              "<IPython.core.display.HTML object>"
            ]
          },
          "metadata": {
            "tags": []
          }
        },
        {
          "output_type": "display_data",
          "data": {
            "text/html": [
              "<span style=\"color:blue\"> |-ordered: True</span>"
            ],
            "text/plain": [
              "<IPython.core.display.HTML object>"
            ]
          },
          "metadata": {
            "tags": []
          }
        },
        {
          "output_type": "display_data",
          "data": {
            "text/html": [
              "<span style=\"color:cyan\"> |-values: [0.0, 0.1, 0.2, 0.3, 0.4, 0.5, 0.6, 0.7, 0.8, 0.9]</span>"
            ],
            "text/plain": [
              "<IPython.core.display.HTML object>"
            ]
          },
          "metadata": {
            "tags": []
          }
        },
        {
          "output_type": "display_data",
          "data": {
            "text/html": [
              "<span style=\"color:#7E57C2\"><h2 style=\"font-size:16px\">units (Int)</h2></span>"
            ],
            "text/plain": [
              "<IPython.core.display.HTML object>"
            ]
          },
          "metadata": {
            "tags": []
          }
        },
        {
          "output_type": "display_data",
          "data": {
            "text/html": [
              "<span style=\"color:cyan\"> |-default: None</span>"
            ],
            "text/plain": [
              "<IPython.core.display.HTML object>"
            ]
          },
          "metadata": {
            "tags": []
          }
        },
        {
          "output_type": "display_data",
          "data": {
            "text/html": [
              "<span style=\"color:blue\"> |-max_value: 8</span>"
            ],
            "text/plain": [
              "<IPython.core.display.HTML object>"
            ]
          },
          "metadata": {
            "tags": []
          }
        },
        {
          "output_type": "display_data",
          "data": {
            "text/html": [
              "<span style=\"color:cyan\"> |-min_value: 3</span>"
            ],
            "text/plain": [
              "<IPython.core.display.HTML object>"
            ]
          },
          "metadata": {
            "tags": []
          }
        },
        {
          "output_type": "display_data",
          "data": {
            "text/html": [
              "<span style=\"color:blue\"> |-sampling: None</span>"
            ],
            "text/plain": [
              "<IPython.core.display.HTML object>"
            ]
          },
          "metadata": {
            "tags": []
          }
        },
        {
          "output_type": "display_data",
          "data": {
            "text/html": [
              "<span style=\"color:cyan\"> |-step: 1</span>"
            ],
            "text/plain": [
              "<IPython.core.display.HTML object>"
            ]
          },
          "metadata": {
            "tags": []
          }
        },
        {
          "output_type": "display_data",
          "data": {
            "text/html": [
              "<span style=\"color:#7E57C2\"><h2 style=\"font-size:16px\">learning_rate (Choice)</h2></span>"
            ],
            "text/plain": [
              "<IPython.core.display.HTML object>"
            ]
          },
          "metadata": {
            "tags": []
          }
        },
        {
          "output_type": "display_data",
          "data": {
            "text/html": [
              "<span style=\"color:cyan\"> |-default: 0.01</span>"
            ],
            "text/plain": [
              "<IPython.core.display.HTML object>"
            ]
          },
          "metadata": {
            "tags": []
          }
        },
        {
          "output_type": "display_data",
          "data": {
            "text/html": [
              "<span style=\"color:blue\"> |-ordered: True</span>"
            ],
            "text/plain": [
              "<IPython.core.display.HTML object>"
            ]
          },
          "metadata": {
            "tags": []
          }
        },
        {
          "output_type": "display_data",
          "data": {
            "text/html": [
              "<span style=\"color:cyan\"> |-values: [0.01, 0.001, 0.0001]</span>"
            ],
            "text/plain": [
              "<IPython.core.display.HTML object>"
            ]
          },
          "metadata": {
            "tags": []
          }
        },
        {
          "output_type": "stream",
          "text": [
            "INFO:tensorflow:Oracle triggered exit\n"
          ],
          "name": "stdout"
        }
      ]
    },
    {
      "cell_type": "code",
      "metadata": {
        "id": "23JI0eA1OFOX",
        "colab_type": "code",
        "outputId": "a4a80637-a884-4e1e-c20a-d0a204e5bfa2",
        "colab": {
          "base_uri": "https://localhost:8080/",
          "height": 554
        }
      },
      "source": [
        "tuner.search_space_summary()\n"
      ],
      "execution_count": 41,
      "outputs": [
        {
          "output_type": "display_data",
          "data": {
            "text/html": [
              "<span style=\"color:#4527A0\"><h1 style=\"font-size:18px\">Search space summary</h1></span>"
            ],
            "text/plain": [
              "<IPython.core.display.HTML object>"
            ]
          },
          "metadata": {
            "tags": []
          }
        },
        {
          "output_type": "display_data",
          "data": {
            "text/html": [
              "<span style=\"color:cyan\"> |-Default search space size: 5</span>"
            ],
            "text/plain": [
              "<IPython.core.display.HTML object>"
            ]
          },
          "metadata": {
            "tags": []
          }
        },
        {
          "output_type": "display_data",
          "data": {
            "text/html": [
              "<span style=\"color:#7E57C2\"><h2 style=\"font-size:16px\">activation (Choice)</h2></span>"
            ],
            "text/plain": [
              "<IPython.core.display.HTML object>"
            ]
          },
          "metadata": {
            "tags": []
          }
        },
        {
          "output_type": "display_data",
          "data": {
            "text/html": [
              "<span style=\"color:cyan\"> |-default: softmax</span>"
            ],
            "text/plain": [
              "<IPython.core.display.HTML object>"
            ]
          },
          "metadata": {
            "tags": []
          }
        },
        {
          "output_type": "display_data",
          "data": {
            "text/html": [
              "<span style=\"color:blue\"> |-ordered: False</span>"
            ],
            "text/plain": [
              "<IPython.core.display.HTML object>"
            ]
          },
          "metadata": {
            "tags": []
          }
        },
        {
          "output_type": "display_data",
          "data": {
            "text/html": [
              "<span style=\"color:cyan\"> |-values: ['softmax', 'softplus', 'softsign', 'relu', 'tanh', 'sigmoid', 'hard_sigmoid', 'linear']</span>"
            ],
            "text/plain": [
              "<IPython.core.display.HTML object>"
            ]
          },
          "metadata": {
            "tags": []
          }
        },
        {
          "output_type": "display_data",
          "data": {
            "text/html": [
              "<span style=\"color:#7E57C2\"><h2 style=\"font-size:16px\">weight_init (Choice)</h2></span>"
            ],
            "text/plain": [
              "<IPython.core.display.HTML object>"
            ]
          },
          "metadata": {
            "tags": []
          }
        },
        {
          "output_type": "display_data",
          "data": {
            "text/html": [
              "<span style=\"color:cyan\"> |-default: uniform</span>"
            ],
            "text/plain": [
              "<IPython.core.display.HTML object>"
            ]
          },
          "metadata": {
            "tags": []
          }
        },
        {
          "output_type": "display_data",
          "data": {
            "text/html": [
              "<span style=\"color:blue\"> |-ordered: False</span>"
            ],
            "text/plain": [
              "<IPython.core.display.HTML object>"
            ]
          },
          "metadata": {
            "tags": []
          }
        },
        {
          "output_type": "display_data",
          "data": {
            "text/html": [
              "<span style=\"color:cyan\"> |-values: ['uniform', 'lecun_uniform', 'normal', 'zero', 'glorot_normal', 'glorot_uniform', 'he_normal', 'he_uniform']</span>"
            ],
            "text/plain": [
              "<IPython.core.display.HTML object>"
            ]
          },
          "metadata": {
            "tags": []
          }
        },
        {
          "output_type": "display_data",
          "data": {
            "text/html": [
              "<span style=\"color:#7E57C2\"><h2 style=\"font-size:16px\">drop_rate (Choice)</h2></span>"
            ],
            "text/plain": [
              "<IPython.core.display.HTML object>"
            ]
          },
          "metadata": {
            "tags": []
          }
        },
        {
          "output_type": "display_data",
          "data": {
            "text/html": [
              "<span style=\"color:cyan\"> |-default: 0.0</span>"
            ],
            "text/plain": [
              "<IPython.core.display.HTML object>"
            ]
          },
          "metadata": {
            "tags": []
          }
        },
        {
          "output_type": "display_data",
          "data": {
            "text/html": [
              "<span style=\"color:blue\"> |-ordered: True</span>"
            ],
            "text/plain": [
              "<IPython.core.display.HTML object>"
            ]
          },
          "metadata": {
            "tags": []
          }
        },
        {
          "output_type": "display_data",
          "data": {
            "text/html": [
              "<span style=\"color:cyan\"> |-values: [0.0, 0.1, 0.2, 0.3, 0.4, 0.5, 0.6, 0.7, 0.8, 0.9]</span>"
            ],
            "text/plain": [
              "<IPython.core.display.HTML object>"
            ]
          },
          "metadata": {
            "tags": []
          }
        },
        {
          "output_type": "display_data",
          "data": {
            "text/html": [
              "<span style=\"color:#7E57C2\"><h2 style=\"font-size:16px\">units (Int)</h2></span>"
            ],
            "text/plain": [
              "<IPython.core.display.HTML object>"
            ]
          },
          "metadata": {
            "tags": []
          }
        },
        {
          "output_type": "display_data",
          "data": {
            "text/html": [
              "<span style=\"color:cyan\"> |-default: None</span>"
            ],
            "text/plain": [
              "<IPython.core.display.HTML object>"
            ]
          },
          "metadata": {
            "tags": []
          }
        },
        {
          "output_type": "display_data",
          "data": {
            "text/html": [
              "<span style=\"color:blue\"> |-max_value: 8</span>"
            ],
            "text/plain": [
              "<IPython.core.display.HTML object>"
            ]
          },
          "metadata": {
            "tags": []
          }
        },
        {
          "output_type": "display_data",
          "data": {
            "text/html": [
              "<span style=\"color:cyan\"> |-min_value: 3</span>"
            ],
            "text/plain": [
              "<IPython.core.display.HTML object>"
            ]
          },
          "metadata": {
            "tags": []
          }
        },
        {
          "output_type": "display_data",
          "data": {
            "text/html": [
              "<span style=\"color:blue\"> |-sampling: None</span>"
            ],
            "text/plain": [
              "<IPython.core.display.HTML object>"
            ]
          },
          "metadata": {
            "tags": []
          }
        },
        {
          "output_type": "display_data",
          "data": {
            "text/html": [
              "<span style=\"color:cyan\"> |-step: 1</span>"
            ],
            "text/plain": [
              "<IPython.core.display.HTML object>"
            ]
          },
          "metadata": {
            "tags": []
          }
        },
        {
          "output_type": "display_data",
          "data": {
            "text/html": [
              "<span style=\"color:#7E57C2\"><h2 style=\"font-size:16px\">learning_rate (Choice)</h2></span>"
            ],
            "text/plain": [
              "<IPython.core.display.HTML object>"
            ]
          },
          "metadata": {
            "tags": []
          }
        },
        {
          "output_type": "display_data",
          "data": {
            "text/html": [
              "<span style=\"color:cyan\"> |-default: 0.01</span>"
            ],
            "text/plain": [
              "<IPython.core.display.HTML object>"
            ]
          },
          "metadata": {
            "tags": []
          }
        },
        {
          "output_type": "display_data",
          "data": {
            "text/html": [
              "<span style=\"color:blue\"> |-ordered: True</span>"
            ],
            "text/plain": [
              "<IPython.core.display.HTML object>"
            ]
          },
          "metadata": {
            "tags": []
          }
        },
        {
          "output_type": "display_data",
          "data": {
            "text/html": [
              "<span style=\"color:cyan\"> |-values: [0.01, 0.001, 0.0001]</span>"
            ],
            "text/plain": [
              "<IPython.core.display.HTML object>"
            ]
          },
          "metadata": {
            "tags": []
          }
        }
      ]
    },
    {
      "cell_type": "code",
      "metadata": {
        "id": "NxpvAxjHSaP6",
        "colab_type": "code",
        "outputId": "2e743374-05a2-4edf-a0b0-e3d6130ea3b3",
        "colab": {
          "base_uri": "https://localhost:8080/",
          "height": 264
        }
      },
      "source": [
        "tuner.results_summary()"
      ],
      "execution_count": 42,
      "outputs": [
        {
          "output_type": "display_data",
          "data": {
            "text/html": [
              "<span style=\"color:#4527A0\"><h1 style=\"font-size:18px\">Results summary</h1></span>"
            ],
            "text/plain": [
              "<IPython.core.display.HTML object>"
            ]
          },
          "metadata": {
            "tags": []
          }
        },
        {
          "output_type": "display_data",
          "data": {
            "text/html": [
              "<span style=\"color:cyan\"> |-Results in /content/my_dir/RandomSearch</span>"
            ],
            "text/plain": [
              "<IPython.core.display.HTML object>"
            ]
          },
          "metadata": {
            "tags": []
          }
        },
        {
          "output_type": "display_data",
          "data": {
            "text/html": [
              "<span style=\"color:cyan\"> |-Showing 10 best trials</span>"
            ],
            "text/plain": [
              "<IPython.core.display.HTML object>"
            ]
          },
          "metadata": {
            "tags": []
          }
        },
        {
          "output_type": "display_data",
          "data": {
            "text/html": [
              "<span style=\"color:cyan\"> |-Objective: Objective(name='val_accuracy', direction='max') Score: 0.5911110639572144</span>"
            ],
            "text/plain": [
              "<IPython.core.display.HTML object>"
            ]
          },
          "metadata": {
            "tags": []
          }
        },
        {
          "output_type": "display_data",
          "data": {
            "text/html": [
              "<span style=\"color:cyan\"> |-Objective: Objective(name='val_accuracy', direction='max') Score: 0.5822222828865051</span>"
            ],
            "text/plain": [
              "<IPython.core.display.HTML object>"
            ]
          },
          "metadata": {
            "tags": []
          }
        },
        {
          "output_type": "display_data",
          "data": {
            "text/html": [
              "<span style=\"color:cyan\"> |-Objective: Objective(name='val_accuracy', direction='max') Score: 0.5822222828865051</span>"
            ],
            "text/plain": [
              "<IPython.core.display.HTML object>"
            ]
          },
          "metadata": {
            "tags": []
          }
        },
        {
          "output_type": "display_data",
          "data": {
            "text/html": [
              "<span style=\"color:cyan\"> |-Objective: Objective(name='val_accuracy', direction='max') Score: 0.5777778029441833</span>"
            ],
            "text/plain": [
              "<IPython.core.display.HTML object>"
            ]
          },
          "metadata": {
            "tags": []
          }
        },
        {
          "output_type": "display_data",
          "data": {
            "text/html": [
              "<span style=\"color:cyan\"> |-Objective: Objective(name='val_accuracy', direction='max') Score: 0.5777778029441833</span>"
            ],
            "text/plain": [
              "<IPython.core.display.HTML object>"
            ]
          },
          "metadata": {
            "tags": []
          }
        },
        {
          "output_type": "display_data",
          "data": {
            "text/html": [
              "<span style=\"color:cyan\"> |-Objective: Objective(name='val_accuracy', direction='max') Score: 0.5733333826065063</span>"
            ],
            "text/plain": [
              "<IPython.core.display.HTML object>"
            ]
          },
          "metadata": {
            "tags": []
          }
        },
        {
          "output_type": "display_data",
          "data": {
            "text/html": [
              "<span style=\"color:cyan\"> |-Objective: Objective(name='val_accuracy', direction='max') Score: 0.5688889622688293</span>"
            ],
            "text/plain": [
              "<IPython.core.display.HTML object>"
            ]
          },
          "metadata": {
            "tags": []
          }
        },
        {
          "output_type": "display_data",
          "data": {
            "text/html": [
              "<span style=\"color:cyan\"> |-Objective: Objective(name='val_accuracy', direction='max') Score: 0.5644444823265076</span>"
            ],
            "text/plain": [
              "<IPython.core.display.HTML object>"
            ]
          },
          "metadata": {
            "tags": []
          }
        },
        {
          "output_type": "display_data",
          "data": {
            "text/html": [
              "<span style=\"color:cyan\"> |-Objective: Objective(name='val_accuracy', direction='max') Score: 0.5600000619888306</span>"
            ],
            "text/plain": [
              "<IPython.core.display.HTML object>"
            ]
          },
          "metadata": {
            "tags": []
          }
        },
        {
          "output_type": "display_data",
          "data": {
            "text/html": [
              "<span style=\"color:cyan\"> |-Objective: Objective(name='val_accuracy', direction='max') Score: 0.5600000619888306</span>"
            ],
            "text/plain": [
              "<IPython.core.display.HTML object>"
            ]
          },
          "metadata": {
            "tags": []
          }
        }
      ]
    },
    {
      "cell_type": "code",
      "metadata": {
        "id": "reyZM6rGXHIk",
        "colab_type": "code",
        "outputId": "c18eca95-69e0-4c94-cbb8-1e25672299c6",
        "colab": {
          "base_uri": "https://localhost:8080/",
          "height": 34
        }
      },
      "source": [
        "tuner.get_best_hyperparameters()"
      ],
      "execution_count": 43,
      "outputs": [
        {
          "output_type": "execute_result",
          "data": {
            "text/plain": [
              "[<kerastuner.engine.hyperparameters.HyperParameters at 0x7f82037a1198>]"
            ]
          },
          "metadata": {
            "tags": []
          },
          "execution_count": 43
        }
      ]
    },
    {
      "cell_type": "code",
      "metadata": {
        "id": "0QAOJ7PuXvwK",
        "colab_type": "code",
        "outputId": "87ba2f7c-b42f-42f3-ee2d-a165f87b2225",
        "colab": {
          "base_uri": "https://localhost:8080/",
          "height": 104
        }
      },
      "source": [
        "tuner.oracle.get_best_trials(num_trials=1)[0].hyperparameters.values"
      ],
      "execution_count": 44,
      "outputs": [
        {
          "output_type": "execute_result",
          "data": {
            "text/plain": [
              "{'activation': 'linear',\n",
              " 'drop_rate': 0.0,\n",
              " 'learning_rate': 0.001,\n",
              " 'units': 8,\n",
              " 'weight_init': 'glorot_uniform'}"
            ]
          },
          "metadata": {
            "tags": []
          },
          "execution_count": 44
        }
      ]
    },
    {
      "cell_type": "code",
      "metadata": {
        "id": "QYGZFhmPYZWf",
        "colab_type": "code",
        "colab": {}
      },
      "source": [
        "best_model = tuner.get_best_models()[0]"
      ],
      "execution_count": 0,
      "outputs": []
    },
    {
      "cell_type": "markdown",
      "metadata": {
        "id": "TKY3zDIXWvSD",
        "colab_type": "text"
      },
      "source": [
        "###Keras tuner Hyperband"
      ]
    },
    {
      "cell_type": "code",
      "metadata": {
        "colab_type": "code",
        "outputId": "dda3e7e0-3b3d-4418-a57d-76affb946cd4",
        "id": "DB6WAVx6XBnV",
        "colab": {
          "base_uri": "https://localhost:8080/",
          "height": 1000
        }
      },
      "source": [
        "num_epochs = 50\n",
        "all_acc_histories = []\n",
        "all_loss_histories = []\n",
        "all_val_acc_histories = []\n",
        "all_val_loss_histories = []\n",
        "\n",
        "for train_index, val_index in skf.split(train_data_stand_pca, train_labels_dec):\n",
        " \n",
        "  partial_train_data = np.array([train_data_stand_pca[i] for i in train_index])\n",
        "  partial_train_targets = np.array([train_labels_dec[i] for i in train_index])\n",
        "  \n",
        "  val_data = np.array([train_data_stand_pca[i] for i in val_index])\n",
        "  val_targets = np.array([train_labels_dec[i] for i in val_index])\n",
        "\n",
        "  one_hot_partial_train_targets = to_categorical(partial_train_targets)\n",
        "  one_hot_val_targets = to_categorical(val_targets)\n",
        "\n",
        " \n",
        "  tuner_Hb = Hyperband(build_model, objective='val_accuracy', factor=3, \n",
        "                       max_epochs=10, directory='/content/my_dir', project_name='Hyperband')\n",
        "  \n",
        "  tuner_Hb.search_space_summary()\n",
        "\n",
        "  tuner_Hb.search(partial_train_data, one_hot_partial_train_targets, \n",
        "                  validation_data=(val_data, one_hot_val_targets))\n",
        "  \n",
        "\n",
        "#  acc_history = history.history['acc']\n",
        "#  all_acc_histories.append(acc_history)\n",
        "\n",
        "#  loss_history = history.history['loss']\n",
        "#  all_loss_histories.append(loss_history)\n",
        "\n",
        "#  acc_val_history = history.history['val_acc']\n",
        "#  all_val_acc_histories.append(acc_val_history)\n",
        "\n",
        "#  loss_val_history = history.history['val_loss']\n",
        "#  all_val_loss_histories.append(loss_val_history)\n",
        "  \n",
        "\n",
        "#I parametri per la valutazione vengono calcolati per ogni epoca, quindi num_epochs volte. \n",
        "#Il tutto viene ripetuto un numero di volte pari a n_splits.\n",
        "#Si ottiene una lista con n_splits elementi ciascuno dei quali è una lista lunga num_epochs,\n",
        "#ogni elemento può essere uno fra questi: dict_keys(['val_loss', 'val_acc', 'loss', 'acc']) "
      ],
      "execution_count": 46,
      "outputs": [
        {
          "output_type": "display_data",
          "data": {
            "text/html": [
              "<span style=\"color:#4527A0\"><h1 style=\"font-size:18px\">Search space summary</h1></span>"
            ],
            "text/plain": [
              "<IPython.core.display.HTML object>"
            ]
          },
          "metadata": {
            "tags": []
          }
        },
        {
          "output_type": "display_data",
          "data": {
            "text/html": [
              "<span style=\"color:cyan\"> |-Default search space size: 5</span>"
            ],
            "text/plain": [
              "<IPython.core.display.HTML object>"
            ]
          },
          "metadata": {
            "tags": []
          }
        },
        {
          "output_type": "display_data",
          "data": {
            "text/html": [
              "<span style=\"color:#7E57C2\"><h2 style=\"font-size:16px\">activation (Choice)</h2></span>"
            ],
            "text/plain": [
              "<IPython.core.display.HTML object>"
            ]
          },
          "metadata": {
            "tags": []
          }
        },
        {
          "output_type": "display_data",
          "data": {
            "text/html": [
              "<span style=\"color:cyan\"> |-default: softmax</span>"
            ],
            "text/plain": [
              "<IPython.core.display.HTML object>"
            ]
          },
          "metadata": {
            "tags": []
          }
        },
        {
          "output_type": "display_data",
          "data": {
            "text/html": [
              "<span style=\"color:blue\"> |-ordered: False</span>"
            ],
            "text/plain": [
              "<IPython.core.display.HTML object>"
            ]
          },
          "metadata": {
            "tags": []
          }
        },
        {
          "output_type": "display_data",
          "data": {
            "text/html": [
              "<span style=\"color:cyan\"> |-values: ['softmax', 'softplus', 'softsign', 'relu', 'tanh', 'sigmoid', 'hard_sigmoid', 'linear']</span>"
            ],
            "text/plain": [
              "<IPython.core.display.HTML object>"
            ]
          },
          "metadata": {
            "tags": []
          }
        },
        {
          "output_type": "display_data",
          "data": {
            "text/html": [
              "<span style=\"color:#7E57C2\"><h2 style=\"font-size:16px\">weight_init (Choice)</h2></span>"
            ],
            "text/plain": [
              "<IPython.core.display.HTML object>"
            ]
          },
          "metadata": {
            "tags": []
          }
        },
        {
          "output_type": "display_data",
          "data": {
            "text/html": [
              "<span style=\"color:cyan\"> |-default: uniform</span>"
            ],
            "text/plain": [
              "<IPython.core.display.HTML object>"
            ]
          },
          "metadata": {
            "tags": []
          }
        },
        {
          "output_type": "display_data",
          "data": {
            "text/html": [
              "<span style=\"color:blue\"> |-ordered: False</span>"
            ],
            "text/plain": [
              "<IPython.core.display.HTML object>"
            ]
          },
          "metadata": {
            "tags": []
          }
        },
        {
          "output_type": "display_data",
          "data": {
            "text/html": [
              "<span style=\"color:cyan\"> |-values: ['uniform', 'lecun_uniform', 'normal', 'zero', 'glorot_normal', 'glorot_uniform', 'he_normal', 'he_uniform']</span>"
            ],
            "text/plain": [
              "<IPython.core.display.HTML object>"
            ]
          },
          "metadata": {
            "tags": []
          }
        },
        {
          "output_type": "display_data",
          "data": {
            "text/html": [
              "<span style=\"color:#7E57C2\"><h2 style=\"font-size:16px\">drop_rate (Choice)</h2></span>"
            ],
            "text/plain": [
              "<IPython.core.display.HTML object>"
            ]
          },
          "metadata": {
            "tags": []
          }
        },
        {
          "output_type": "display_data",
          "data": {
            "text/html": [
              "<span style=\"color:cyan\"> |-default: 0.0</span>"
            ],
            "text/plain": [
              "<IPython.core.display.HTML object>"
            ]
          },
          "metadata": {
            "tags": []
          }
        },
        {
          "output_type": "display_data",
          "data": {
            "text/html": [
              "<span style=\"color:blue\"> |-ordered: True</span>"
            ],
            "text/plain": [
              "<IPython.core.display.HTML object>"
            ]
          },
          "metadata": {
            "tags": []
          }
        },
        {
          "output_type": "display_data",
          "data": {
            "text/html": [
              "<span style=\"color:cyan\"> |-values: [0.0, 0.1, 0.2, 0.3, 0.4, 0.5, 0.6, 0.7, 0.8, 0.9]</span>"
            ],
            "text/plain": [
              "<IPython.core.display.HTML object>"
            ]
          },
          "metadata": {
            "tags": []
          }
        },
        {
          "output_type": "display_data",
          "data": {
            "text/html": [
              "<span style=\"color:#7E57C2\"><h2 style=\"font-size:16px\">units (Int)</h2></span>"
            ],
            "text/plain": [
              "<IPython.core.display.HTML object>"
            ]
          },
          "metadata": {
            "tags": []
          }
        },
        {
          "output_type": "display_data",
          "data": {
            "text/html": [
              "<span style=\"color:cyan\"> |-default: None</span>"
            ],
            "text/plain": [
              "<IPython.core.display.HTML object>"
            ]
          },
          "metadata": {
            "tags": []
          }
        },
        {
          "output_type": "display_data",
          "data": {
            "text/html": [
              "<span style=\"color:blue\"> |-max_value: 8</span>"
            ],
            "text/plain": [
              "<IPython.core.display.HTML object>"
            ]
          },
          "metadata": {
            "tags": []
          }
        },
        {
          "output_type": "display_data",
          "data": {
            "text/html": [
              "<span style=\"color:cyan\"> |-min_value: 3</span>"
            ],
            "text/plain": [
              "<IPython.core.display.HTML object>"
            ]
          },
          "metadata": {
            "tags": []
          }
        },
        {
          "output_type": "display_data",
          "data": {
            "text/html": [
              "<span style=\"color:blue\"> |-sampling: None</span>"
            ],
            "text/plain": [
              "<IPython.core.display.HTML object>"
            ]
          },
          "metadata": {
            "tags": []
          }
        },
        {
          "output_type": "display_data",
          "data": {
            "text/html": [
              "<span style=\"color:cyan\"> |-step: 1</span>"
            ],
            "text/plain": [
              "<IPython.core.display.HTML object>"
            ]
          },
          "metadata": {
            "tags": []
          }
        },
        {
          "output_type": "display_data",
          "data": {
            "text/html": [
              "<span style=\"color:#7E57C2\"><h2 style=\"font-size:16px\">learning_rate (Choice)</h2></span>"
            ],
            "text/plain": [
              "<IPython.core.display.HTML object>"
            ]
          },
          "metadata": {
            "tags": []
          }
        },
        {
          "output_type": "display_data",
          "data": {
            "text/html": [
              "<span style=\"color:cyan\"> |-default: 0.01</span>"
            ],
            "text/plain": [
              "<IPython.core.display.HTML object>"
            ]
          },
          "metadata": {
            "tags": []
          }
        },
        {
          "output_type": "display_data",
          "data": {
            "text/html": [
              "<span style=\"color:blue\"> |-ordered: True</span>"
            ],
            "text/plain": [
              "<IPython.core.display.HTML object>"
            ]
          },
          "metadata": {
            "tags": []
          }
        },
        {
          "output_type": "display_data",
          "data": {
            "text/html": [
              "<span style=\"color:cyan\"> |-values: [0.01, 0.001, 0.0001]</span>"
            ],
            "text/plain": [
              "<IPython.core.display.HTML object>"
            ]
          },
          "metadata": {
            "tags": []
          }
        },
        {
          "output_type": "stream",
          "text": [
            "Train on 86 samples, validate on 45 samples\n",
            "Epoch 1/2\n",
            "86/86 [==============================] - 0s 4ms/sample - loss: 2.9509 - accuracy: 0.2907 - val_loss: 2.2734 - val_accuracy: 0.2889\n",
            "Epoch 2/2\n",
            "86/86 [==============================] - 0s 253us/sample - loss: 2.8632 - accuracy: 0.3605 - val_loss: 2.2362 - val_accuracy: 0.2889\n"
          ],
          "name": "stdout"
        },
        {
          "output_type": "display_data",
          "data": {
            "text/html": [
              "<span style=\"color:#4527A0\"><h1 style=\"font-size:18px\">Trial complete</h1></span>"
            ],
            "text/plain": [
              "<IPython.core.display.HTML object>"
            ]
          },
          "metadata": {
            "tags": []
          }
        },
        {
          "output_type": "display_data",
          "data": {
            "text/html": [
              "<span style=\"color:#4527A0\"><h1 style=\"font-size:18px\">Trial summary</h1></span>"
            ],
            "text/plain": [
              "<IPython.core.display.HTML object>"
            ]
          },
          "metadata": {
            "tags": []
          }
        },
        {
          "output_type": "display_data",
          "data": {
            "text/html": [
              "<span style=\"color:#7E57C2\"><h2 style=\"font-size:16px\">Hp values:</h2></span>"
            ],
            "text/plain": [
              "<IPython.core.display.HTML object>"
            ]
          },
          "metadata": {
            "tags": []
          }
        },
        {
          "output_type": "display_data",
          "data": {
            "text/html": [
              "<span style=\"color:cyan\"> |-activation: relu</span>"
            ],
            "text/plain": [
              "<IPython.core.display.HTML object>"
            ]
          },
          "metadata": {
            "tags": []
          }
        },
        {
          "output_type": "display_data",
          "data": {
            "text/html": [
              "<span style=\"color:blue\"> |-drop_rate: 0.3</span>"
            ],
            "text/plain": [
              "<IPython.core.display.HTML object>"
            ]
          },
          "metadata": {
            "tags": []
          }
        },
        {
          "output_type": "display_data",
          "data": {
            "text/html": [
              "<span style=\"color:cyan\"> |-learning_rate: 0.001</span>"
            ],
            "text/plain": [
              "<IPython.core.display.HTML object>"
            ]
          },
          "metadata": {
            "tags": []
          }
        },
        {
          "output_type": "display_data",
          "data": {
            "text/html": [
              "<span style=\"color:blue\"> |-tuner/bracket: 2</span>"
            ],
            "text/plain": [
              "<IPython.core.display.HTML object>"
            ]
          },
          "metadata": {
            "tags": []
          }
        },
        {
          "output_type": "display_data",
          "data": {
            "text/html": [
              "<span style=\"color:cyan\"> |-tuner/epochs: 2</span>"
            ],
            "text/plain": [
              "<IPython.core.display.HTML object>"
            ]
          },
          "metadata": {
            "tags": []
          }
        },
        {
          "output_type": "display_data",
          "data": {
            "text/html": [
              "<span style=\"color:blue\"> |-tuner/initial_epoch: 0</span>"
            ],
            "text/plain": [
              "<IPython.core.display.HTML object>"
            ]
          },
          "metadata": {
            "tags": []
          }
        },
        {
          "output_type": "display_data",
          "data": {
            "text/html": [
              "<span style=\"color:cyan\"> |-tuner/round: 0</span>"
            ],
            "text/plain": [
              "<IPython.core.display.HTML object>"
            ]
          },
          "metadata": {
            "tags": []
          }
        },
        {
          "output_type": "display_data",
          "data": {
            "text/html": [
              "<span style=\"color:blue\"> |-units: 6</span>"
            ],
            "text/plain": [
              "<IPython.core.display.HTML object>"
            ]
          },
          "metadata": {
            "tags": []
          }
        },
        {
          "output_type": "display_data",
          "data": {
            "text/html": [
              "<span style=\"color:cyan\"> |-weight_init: he_uniform</span>"
            ],
            "text/plain": [
              "<IPython.core.display.HTML object>"
            ]
          },
          "metadata": {
            "tags": []
          }
        },
        {
          "output_type": "display_data",
          "data": {
            "text/html": [
              "<span style=\"color:cyan\"> |-Score: 0.2888889014720917</span>"
            ],
            "text/plain": [
              "<IPython.core.display.HTML object>"
            ]
          },
          "metadata": {
            "tags": []
          }
        },
        {
          "output_type": "display_data",
          "data": {
            "text/html": [
              "<span style=\"color:cyan\"> |-Best step: 0</span>"
            ],
            "text/plain": [
              "<IPython.core.display.HTML object>"
            ]
          },
          "metadata": {
            "tags": []
          }
        },
        {
          "output_type": "stream",
          "text": [
            "Train on 86 samples, validate on 45 samples\n",
            "Epoch 1/2\n",
            "86/86 [==============================] - 0s 5ms/sample - loss: 1.4920 - accuracy: 0.1860 - val_loss: 1.2057 - val_accuracy: 0.2889\n",
            "Epoch 2/2\n",
            "86/86 [==============================] - 0s 354us/sample - loss: 1.3468 - accuracy: 0.3023 - val_loss: 1.1773 - val_accuracy: 0.3111\n"
          ],
          "name": "stdout"
        },
        {
          "output_type": "display_data",
          "data": {
            "text/html": [
              "<span style=\"color:#4527A0\"><h1 style=\"font-size:18px\">Trial complete</h1></span>"
            ],
            "text/plain": [
              "<IPython.core.display.HTML object>"
            ]
          },
          "metadata": {
            "tags": []
          }
        },
        {
          "output_type": "display_data",
          "data": {
            "text/html": [
              "<span style=\"color:#4527A0\"><h1 style=\"font-size:18px\">Trial summary</h1></span>"
            ],
            "text/plain": [
              "<IPython.core.display.HTML object>"
            ]
          },
          "metadata": {
            "tags": []
          }
        },
        {
          "output_type": "display_data",
          "data": {
            "text/html": [
              "<span style=\"color:#7E57C2\"><h2 style=\"font-size:16px\">Hp values:</h2></span>"
            ],
            "text/plain": [
              "<IPython.core.display.HTML object>"
            ]
          },
          "metadata": {
            "tags": []
          }
        },
        {
          "output_type": "display_data",
          "data": {
            "text/html": [
              "<span style=\"color:cyan\"> |-activation: softsign</span>"
            ],
            "text/plain": [
              "<IPython.core.display.HTML object>"
            ]
          },
          "metadata": {
            "tags": []
          }
        },
        {
          "output_type": "display_data",
          "data": {
            "text/html": [
              "<span style=\"color:blue\"> |-drop_rate: 0.6</span>"
            ],
            "text/plain": [
              "<IPython.core.display.HTML object>"
            ]
          },
          "metadata": {
            "tags": []
          }
        },
        {
          "output_type": "display_data",
          "data": {
            "text/html": [
              "<span style=\"color:cyan\"> |-learning_rate: 0.01</span>"
            ],
            "text/plain": [
              "<IPython.core.display.HTML object>"
            ]
          },
          "metadata": {
            "tags": []
          }
        },
        {
          "output_type": "display_data",
          "data": {
            "text/html": [
              "<span style=\"color:blue\"> |-tuner/bracket: 2</span>"
            ],
            "text/plain": [
              "<IPython.core.display.HTML object>"
            ]
          },
          "metadata": {
            "tags": []
          }
        },
        {
          "output_type": "display_data",
          "data": {
            "text/html": [
              "<span style=\"color:cyan\"> |-tuner/epochs: 2</span>"
            ],
            "text/plain": [
              "<IPython.core.display.HTML object>"
            ]
          },
          "metadata": {
            "tags": []
          }
        },
        {
          "output_type": "display_data",
          "data": {
            "text/html": [
              "<span style=\"color:blue\"> |-tuner/initial_epoch: 0</span>"
            ],
            "text/plain": [
              "<IPython.core.display.HTML object>"
            ]
          },
          "metadata": {
            "tags": []
          }
        },
        {
          "output_type": "display_data",
          "data": {
            "text/html": [
              "<span style=\"color:cyan\"> |-tuner/round: 0</span>"
            ],
            "text/plain": [
              "<IPython.core.display.HTML object>"
            ]
          },
          "metadata": {
            "tags": []
          }
        },
        {
          "output_type": "display_data",
          "data": {
            "text/html": [
              "<span style=\"color:blue\"> |-units: 5</span>"
            ],
            "text/plain": [
              "<IPython.core.display.HTML object>"
            ]
          },
          "metadata": {
            "tags": []
          }
        },
        {
          "output_type": "display_data",
          "data": {
            "text/html": [
              "<span style=\"color:cyan\"> |-weight_init: glorot_uniform</span>"
            ],
            "text/plain": [
              "<IPython.core.display.HTML object>"
            ]
          },
          "metadata": {
            "tags": []
          }
        },
        {
          "output_type": "display_data",
          "data": {
            "text/html": [
              "<span style=\"color:cyan\"> |-Score: 0.31111112236976624</span>"
            ],
            "text/plain": [
              "<IPython.core.display.HTML object>"
            ]
          },
          "metadata": {
            "tags": []
          }
        },
        {
          "output_type": "display_data",
          "data": {
            "text/html": [
              "<span style=\"color:cyan\"> |-Best step: 0</span>"
            ],
            "text/plain": [
              "<IPython.core.display.HTML object>"
            ]
          },
          "metadata": {
            "tags": []
          }
        },
        {
          "output_type": "stream",
          "text": [
            "Train on 86 samples, validate on 45 samples\n",
            "Epoch 1/2\n",
            "86/86 [==============================] - 0s 4ms/sample - loss: 3.0440 - accuracy: 0.3488 - val_loss: 2.3584 - val_accuracy: 0.3778\n",
            "Epoch 2/2\n",
            "86/86 [==============================] - 0s 243us/sample - loss: 2.9356 - accuracy: 0.3488 - val_loss: 2.3310 - val_accuracy: 0.3778\n"
          ],
          "name": "stdout"
        },
        {
          "output_type": "display_data",
          "data": {
            "text/html": [
              "<span style=\"color:#4527A0\"><h1 style=\"font-size:18px\">Trial complete</h1></span>"
            ],
            "text/plain": [
              "<IPython.core.display.HTML object>"
            ]
          },
          "metadata": {
            "tags": []
          }
        },
        {
          "output_type": "display_data",
          "data": {
            "text/html": [
              "<span style=\"color:#4527A0\"><h1 style=\"font-size:18px\">Trial summary</h1></span>"
            ],
            "text/plain": [
              "<IPython.core.display.HTML object>"
            ]
          },
          "metadata": {
            "tags": []
          }
        },
        {
          "output_type": "display_data",
          "data": {
            "text/html": [
              "<span style=\"color:#7E57C2\"><h2 style=\"font-size:16px\">Hp values:</h2></span>"
            ],
            "text/plain": [
              "<IPython.core.display.HTML object>"
            ]
          },
          "metadata": {
            "tags": []
          }
        },
        {
          "output_type": "display_data",
          "data": {
            "text/html": [
              "<span style=\"color:cyan\"> |-activation: relu</span>"
            ],
            "text/plain": [
              "<IPython.core.display.HTML object>"
            ]
          },
          "metadata": {
            "tags": []
          }
        },
        {
          "output_type": "display_data",
          "data": {
            "text/html": [
              "<span style=\"color:blue\"> |-drop_rate: 0.1</span>"
            ],
            "text/plain": [
              "<IPython.core.display.HTML object>"
            ]
          },
          "metadata": {
            "tags": []
          }
        },
        {
          "output_type": "display_data",
          "data": {
            "text/html": [
              "<span style=\"color:cyan\"> |-learning_rate: 0.001</span>"
            ],
            "text/plain": [
              "<IPython.core.display.HTML object>"
            ]
          },
          "metadata": {
            "tags": []
          }
        },
        {
          "output_type": "display_data",
          "data": {
            "text/html": [
              "<span style=\"color:blue\"> |-tuner/bracket: 2</span>"
            ],
            "text/plain": [
              "<IPython.core.display.HTML object>"
            ]
          },
          "metadata": {
            "tags": []
          }
        },
        {
          "output_type": "display_data",
          "data": {
            "text/html": [
              "<span style=\"color:cyan\"> |-tuner/epochs: 2</span>"
            ],
            "text/plain": [
              "<IPython.core.display.HTML object>"
            ]
          },
          "metadata": {
            "tags": []
          }
        },
        {
          "output_type": "display_data",
          "data": {
            "text/html": [
              "<span style=\"color:blue\"> |-tuner/initial_epoch: 0</span>"
            ],
            "text/plain": [
              "<IPython.core.display.HTML object>"
            ]
          },
          "metadata": {
            "tags": []
          }
        },
        {
          "output_type": "display_data",
          "data": {
            "text/html": [
              "<span style=\"color:cyan\"> |-tuner/round: 0</span>"
            ],
            "text/plain": [
              "<IPython.core.display.HTML object>"
            ]
          },
          "metadata": {
            "tags": []
          }
        },
        {
          "output_type": "display_data",
          "data": {
            "text/html": [
              "<span style=\"color:blue\"> |-units: 5</span>"
            ],
            "text/plain": [
              "<IPython.core.display.HTML object>"
            ]
          },
          "metadata": {
            "tags": []
          }
        },
        {
          "output_type": "display_data",
          "data": {
            "text/html": [
              "<span style=\"color:cyan\"> |-weight_init: glorot_uniform</span>"
            ],
            "text/plain": [
              "<IPython.core.display.HTML object>"
            ]
          },
          "metadata": {
            "tags": []
          }
        },
        {
          "output_type": "display_data",
          "data": {
            "text/html": [
              "<span style=\"color:cyan\"> |-Score: 0.3777777850627899</span>"
            ],
            "text/plain": [
              "<IPython.core.display.HTML object>"
            ]
          },
          "metadata": {
            "tags": []
          }
        },
        {
          "output_type": "display_data",
          "data": {
            "text/html": [
              "<span style=\"color:cyan\"> |-Best step: 0</span>"
            ],
            "text/plain": [
              "<IPython.core.display.HTML object>"
            ]
          },
          "metadata": {
            "tags": []
          }
        },
        {
          "output_type": "stream",
          "text": [
            "Train on 86 samples, validate on 45 samples\n",
            "Epoch 1/2\n",
            "86/86 [==============================] - 0s 4ms/sample - loss: 5.8144 - accuracy: 0.3488 - val_loss: 3.9828 - val_accuracy: 0.3556\n",
            "Epoch 2/2\n",
            "86/86 [==============================] - 0s 297us/sample - loss: 8.2231 - accuracy: 0.3837 - val_loss: 3.9791 - val_accuracy: 0.3556\n"
          ],
          "name": "stdout"
        },
        {
          "output_type": "display_data",
          "data": {
            "text/html": [
              "<span style=\"color:#4527A0\"><h1 style=\"font-size:18px\">Trial complete</h1></span>"
            ],
            "text/plain": [
              "<IPython.core.display.HTML object>"
            ]
          },
          "metadata": {
            "tags": []
          }
        },
        {
          "output_type": "display_data",
          "data": {
            "text/html": [
              "<span style=\"color:#4527A0\"><h1 style=\"font-size:18px\">Trial summary</h1></span>"
            ],
            "text/plain": [
              "<IPython.core.display.HTML object>"
            ]
          },
          "metadata": {
            "tags": []
          }
        },
        {
          "output_type": "display_data",
          "data": {
            "text/html": [
              "<span style=\"color:#7E57C2\"><h2 style=\"font-size:16px\">Hp values:</h2></span>"
            ],
            "text/plain": [
              "<IPython.core.display.HTML object>"
            ]
          },
          "metadata": {
            "tags": []
          }
        },
        {
          "output_type": "display_data",
          "data": {
            "text/html": [
              "<span style=\"color:cyan\"> |-activation: linear</span>"
            ],
            "text/plain": [
              "<IPython.core.display.HTML object>"
            ]
          },
          "metadata": {
            "tags": []
          }
        },
        {
          "output_type": "display_data",
          "data": {
            "text/html": [
              "<span style=\"color:blue\"> |-drop_rate: 0.8</span>"
            ],
            "text/plain": [
              "<IPython.core.display.HTML object>"
            ]
          },
          "metadata": {
            "tags": []
          }
        },
        {
          "output_type": "display_data",
          "data": {
            "text/html": [
              "<span style=\"color:cyan\"> |-learning_rate: 0.0001</span>"
            ],
            "text/plain": [
              "<IPython.core.display.HTML object>"
            ]
          },
          "metadata": {
            "tags": []
          }
        },
        {
          "output_type": "display_data",
          "data": {
            "text/html": [
              "<span style=\"color:blue\"> |-tuner/bracket: 2</span>"
            ],
            "text/plain": [
              "<IPython.core.display.HTML object>"
            ]
          },
          "metadata": {
            "tags": []
          }
        },
        {
          "output_type": "display_data",
          "data": {
            "text/html": [
              "<span style=\"color:cyan\"> |-tuner/epochs: 2</span>"
            ],
            "text/plain": [
              "<IPython.core.display.HTML object>"
            ]
          },
          "metadata": {
            "tags": []
          }
        },
        {
          "output_type": "display_data",
          "data": {
            "text/html": [
              "<span style=\"color:blue\"> |-tuner/initial_epoch: 0</span>"
            ],
            "text/plain": [
              "<IPython.core.display.HTML object>"
            ]
          },
          "metadata": {
            "tags": []
          }
        },
        {
          "output_type": "display_data",
          "data": {
            "text/html": [
              "<span style=\"color:cyan\"> |-tuner/round: 0</span>"
            ],
            "text/plain": [
              "<IPython.core.display.HTML object>"
            ]
          },
          "metadata": {
            "tags": []
          }
        },
        {
          "output_type": "display_data",
          "data": {
            "text/html": [
              "<span style=\"color:blue\"> |-units: 6</span>"
            ],
            "text/plain": [
              "<IPython.core.display.HTML object>"
            ]
          },
          "metadata": {
            "tags": []
          }
        },
        {
          "output_type": "display_data",
          "data": {
            "text/html": [
              "<span style=\"color:cyan\"> |-weight_init: he_normal</span>"
            ],
            "text/plain": [
              "<IPython.core.display.HTML object>"
            ]
          },
          "metadata": {
            "tags": []
          }
        },
        {
          "output_type": "display_data",
          "data": {
            "text/html": [
              "<span style=\"color:cyan\"> |-Score: 0.35555556416511536</span>"
            ],
            "text/plain": [
              "<IPython.core.display.HTML object>"
            ]
          },
          "metadata": {
            "tags": []
          }
        },
        {
          "output_type": "display_data",
          "data": {
            "text/html": [
              "<span style=\"color:cyan\"> |-Best step: 0</span>"
            ],
            "text/plain": [
              "<IPython.core.display.HTML object>"
            ]
          },
          "metadata": {
            "tags": []
          }
        },
        {
          "output_type": "stream",
          "text": [
            "Train on 86 samples, validate on 45 samples\n",
            "Epoch 1/2\n",
            "86/86 [==============================] - 0s 4ms/sample - loss: 2.1534 - accuracy: 0.3023 - val_loss: 1.8396 - val_accuracy: 0.3556\n",
            "Epoch 2/2\n",
            "86/86 [==============================] - 0s 294us/sample - loss: 2.2065 - accuracy: 0.3140 - val_loss: 1.8374 - val_accuracy: 0.3556\n"
          ],
          "name": "stdout"
        },
        {
          "output_type": "display_data",
          "data": {
            "text/html": [
              "<span style=\"color:#4527A0\"><h1 style=\"font-size:18px\">Trial complete</h1></span>"
            ],
            "text/plain": [
              "<IPython.core.display.HTML object>"
            ]
          },
          "metadata": {
            "tags": []
          }
        },
        {
          "output_type": "display_data",
          "data": {
            "text/html": [
              "<span style=\"color:#4527A0\"><h1 style=\"font-size:18px\">Trial summary</h1></span>"
            ],
            "text/plain": [
              "<IPython.core.display.HTML object>"
            ]
          },
          "metadata": {
            "tags": []
          }
        },
        {
          "output_type": "display_data",
          "data": {
            "text/html": [
              "<span style=\"color:#7E57C2\"><h2 style=\"font-size:16px\">Hp values:</h2></span>"
            ],
            "text/plain": [
              "<IPython.core.display.HTML object>"
            ]
          },
          "metadata": {
            "tags": []
          }
        },
        {
          "output_type": "display_data",
          "data": {
            "text/html": [
              "<span style=\"color:cyan\"> |-activation: relu</span>"
            ],
            "text/plain": [
              "<IPython.core.display.HTML object>"
            ]
          },
          "metadata": {
            "tags": []
          }
        },
        {
          "output_type": "display_data",
          "data": {
            "text/html": [
              "<span style=\"color:blue\"> |-drop_rate: 0.1</span>"
            ],
            "text/plain": [
              "<IPython.core.display.HTML object>"
            ]
          },
          "metadata": {
            "tags": []
          }
        },
        {
          "output_type": "display_data",
          "data": {
            "text/html": [
              "<span style=\"color:cyan\"> |-learning_rate: 0.0001</span>"
            ],
            "text/plain": [
              "<IPython.core.display.HTML object>"
            ]
          },
          "metadata": {
            "tags": []
          }
        },
        {
          "output_type": "display_data",
          "data": {
            "text/html": [
              "<span style=\"color:blue\"> |-tuner/bracket: 2</span>"
            ],
            "text/plain": [
              "<IPython.core.display.HTML object>"
            ]
          },
          "metadata": {
            "tags": []
          }
        },
        {
          "output_type": "display_data",
          "data": {
            "text/html": [
              "<span style=\"color:cyan\"> |-tuner/epochs: 2</span>"
            ],
            "text/plain": [
              "<IPython.core.display.HTML object>"
            ]
          },
          "metadata": {
            "tags": []
          }
        },
        {
          "output_type": "display_data",
          "data": {
            "text/html": [
              "<span style=\"color:blue\"> |-tuner/initial_epoch: 0</span>"
            ],
            "text/plain": [
              "<IPython.core.display.HTML object>"
            ]
          },
          "metadata": {
            "tags": []
          }
        },
        {
          "output_type": "display_data",
          "data": {
            "text/html": [
              "<span style=\"color:cyan\"> |-tuner/round: 0</span>"
            ],
            "text/plain": [
              "<IPython.core.display.HTML object>"
            ]
          },
          "metadata": {
            "tags": []
          }
        },
        {
          "output_type": "display_data",
          "data": {
            "text/html": [
              "<span style=\"color:blue\"> |-units: 5</span>"
            ],
            "text/plain": [
              "<IPython.core.display.HTML object>"
            ]
          },
          "metadata": {
            "tags": []
          }
        },
        {
          "output_type": "display_data",
          "data": {
            "text/html": [
              "<span style=\"color:cyan\"> |-weight_init: lecun_uniform</span>"
            ],
            "text/plain": [
              "<IPython.core.display.HTML object>"
            ]
          },
          "metadata": {
            "tags": []
          }
        },
        {
          "output_type": "display_data",
          "data": {
            "text/html": [
              "<span style=\"color:cyan\"> |-Score: 0.35555556416511536</span>"
            ],
            "text/plain": [
              "<IPython.core.display.HTML object>"
            ]
          },
          "metadata": {
            "tags": []
          }
        },
        {
          "output_type": "display_data",
          "data": {
            "text/html": [
              "<span style=\"color:cyan\"> |-Best step: 0</span>"
            ],
            "text/plain": [
              "<IPython.core.display.HTML object>"
            ]
          },
          "metadata": {
            "tags": []
          }
        },
        {
          "output_type": "stream",
          "text": [
            "Train on 86 samples, validate on 45 samples\n",
            "Epoch 1/2\n",
            "86/86 [==============================] - 0s 5ms/sample - loss: 1.2090 - accuracy: 0.3721 - val_loss: 1.1553 - val_accuracy: 0.4000\n",
            "Epoch 2/2\n",
            "86/86 [==============================] - 0s 220us/sample - loss: 1.1048 - accuracy: 0.4884 - val_loss: 1.1495 - val_accuracy: 0.4000\n"
          ],
          "name": "stdout"
        },
        {
          "output_type": "display_data",
          "data": {
            "text/html": [
              "<span style=\"color:#4527A0\"><h1 style=\"font-size:18px\">Trial complete</h1></span>"
            ],
            "text/plain": [
              "<IPython.core.display.HTML object>"
            ]
          },
          "metadata": {
            "tags": []
          }
        },
        {
          "output_type": "display_data",
          "data": {
            "text/html": [
              "<span style=\"color:#4527A0\"><h1 style=\"font-size:18px\">Trial summary</h1></span>"
            ],
            "text/plain": [
              "<IPython.core.display.HTML object>"
            ]
          },
          "metadata": {
            "tags": []
          }
        },
        {
          "output_type": "display_data",
          "data": {
            "text/html": [
              "<span style=\"color:#7E57C2\"><h2 style=\"font-size:16px\">Hp values:</h2></span>"
            ],
            "text/plain": [
              "<IPython.core.display.HTML object>"
            ]
          },
          "metadata": {
            "tags": []
          }
        },
        {
          "output_type": "display_data",
          "data": {
            "text/html": [
              "<span style=\"color:cyan\"> |-activation: hard_sigmoid</span>"
            ],
            "text/plain": [
              "<IPython.core.display.HTML object>"
            ]
          },
          "metadata": {
            "tags": []
          }
        },
        {
          "output_type": "display_data",
          "data": {
            "text/html": [
              "<span style=\"color:blue\"> |-drop_rate: 0.6</span>"
            ],
            "text/plain": [
              "<IPython.core.display.HTML object>"
            ]
          },
          "metadata": {
            "tags": []
          }
        },
        {
          "output_type": "display_data",
          "data": {
            "text/html": [
              "<span style=\"color:cyan\"> |-learning_rate: 0.001</span>"
            ],
            "text/plain": [
              "<IPython.core.display.HTML object>"
            ]
          },
          "metadata": {
            "tags": []
          }
        },
        {
          "output_type": "display_data",
          "data": {
            "text/html": [
              "<span style=\"color:blue\"> |-tuner/bracket: 2</span>"
            ],
            "text/plain": [
              "<IPython.core.display.HTML object>"
            ]
          },
          "metadata": {
            "tags": []
          }
        },
        {
          "output_type": "display_data",
          "data": {
            "text/html": [
              "<span style=\"color:cyan\"> |-tuner/epochs: 2</span>"
            ],
            "text/plain": [
              "<IPython.core.display.HTML object>"
            ]
          },
          "metadata": {
            "tags": []
          }
        },
        {
          "output_type": "display_data",
          "data": {
            "text/html": [
              "<span style=\"color:blue\"> |-tuner/initial_epoch: 0</span>"
            ],
            "text/plain": [
              "<IPython.core.display.HTML object>"
            ]
          },
          "metadata": {
            "tags": []
          }
        },
        {
          "output_type": "display_data",
          "data": {
            "text/html": [
              "<span style=\"color:cyan\"> |-tuner/round: 0</span>"
            ],
            "text/plain": [
              "<IPython.core.display.HTML object>"
            ]
          },
          "metadata": {
            "tags": []
          }
        },
        {
          "output_type": "display_data",
          "data": {
            "text/html": [
              "<span style=\"color:blue\"> |-units: 8</span>"
            ],
            "text/plain": [
              "<IPython.core.display.HTML object>"
            ]
          },
          "metadata": {
            "tags": []
          }
        },
        {
          "output_type": "display_data",
          "data": {
            "text/html": [
              "<span style=\"color:cyan\"> |-weight_init: normal</span>"
            ],
            "text/plain": [
              "<IPython.core.display.HTML object>"
            ]
          },
          "metadata": {
            "tags": []
          }
        },
        {
          "output_type": "display_data",
          "data": {
            "text/html": [
              "<span style=\"color:cyan\"> |-Score: 0.4000000059604645</span>"
            ],
            "text/plain": [
              "<IPython.core.display.HTML object>"
            ]
          },
          "metadata": {
            "tags": []
          }
        },
        {
          "output_type": "display_data",
          "data": {
            "text/html": [
              "<span style=\"color:cyan\"> |-Best step: 0</span>"
            ],
            "text/plain": [
              "<IPython.core.display.HTML object>"
            ]
          },
          "metadata": {
            "tags": []
          }
        },
        {
          "output_type": "stream",
          "text": [
            "Train on 86 samples, validate on 45 samples\n",
            "Epoch 1/2\n",
            "86/86 [==============================] - 0s 5ms/sample - loss: 1.3991 - accuracy: 0.1395 - val_loss: 1.3521 - val_accuracy: 0.1333\n",
            "Epoch 2/2\n",
            "86/86 [==============================] - 0s 316us/sample - loss: 1.3288 - accuracy: 0.1744 - val_loss: 1.2864 - val_accuracy: 0.1333\n"
          ],
          "name": "stdout"
        },
        {
          "output_type": "display_data",
          "data": {
            "text/html": [
              "<span style=\"color:#4527A0\"><h1 style=\"font-size:18px\">Trial complete</h1></span>"
            ],
            "text/plain": [
              "<IPython.core.display.HTML object>"
            ]
          },
          "metadata": {
            "tags": []
          }
        },
        {
          "output_type": "display_data",
          "data": {
            "text/html": [
              "<span style=\"color:#4527A0\"><h1 style=\"font-size:18px\">Trial summary</h1></span>"
            ],
            "text/plain": [
              "<IPython.core.display.HTML object>"
            ]
          },
          "metadata": {
            "tags": []
          }
        },
        {
          "output_type": "display_data",
          "data": {
            "text/html": [
              "<span style=\"color:#7E57C2\"><h2 style=\"font-size:16px\">Hp values:</h2></span>"
            ],
            "text/plain": [
              "<IPython.core.display.HTML object>"
            ]
          },
          "metadata": {
            "tags": []
          }
        },
        {
          "output_type": "display_data",
          "data": {
            "text/html": [
              "<span style=\"color:cyan\"> |-activation: sigmoid</span>"
            ],
            "text/plain": [
              "<IPython.core.display.HTML object>"
            ]
          },
          "metadata": {
            "tags": []
          }
        },
        {
          "output_type": "display_data",
          "data": {
            "text/html": [
              "<span style=\"color:blue\"> |-drop_rate: 0.2</span>"
            ],
            "text/plain": [
              "<IPython.core.display.HTML object>"
            ]
          },
          "metadata": {
            "tags": []
          }
        },
        {
          "output_type": "display_data",
          "data": {
            "text/html": [
              "<span style=\"color:cyan\"> |-learning_rate: 0.01</span>"
            ],
            "text/plain": [
              "<IPython.core.display.HTML object>"
            ]
          },
          "metadata": {
            "tags": []
          }
        },
        {
          "output_type": "display_data",
          "data": {
            "text/html": [
              "<span style=\"color:blue\"> |-tuner/bracket: 2</span>"
            ],
            "text/plain": [
              "<IPython.core.display.HTML object>"
            ]
          },
          "metadata": {
            "tags": []
          }
        },
        {
          "output_type": "display_data",
          "data": {
            "text/html": [
              "<span style=\"color:cyan\"> |-tuner/epochs: 2</span>"
            ],
            "text/plain": [
              "<IPython.core.display.HTML object>"
            ]
          },
          "metadata": {
            "tags": []
          }
        },
        {
          "output_type": "display_data",
          "data": {
            "text/html": [
              "<span style=\"color:blue\"> |-tuner/initial_epoch: 0</span>"
            ],
            "text/plain": [
              "<IPython.core.display.HTML object>"
            ]
          },
          "metadata": {
            "tags": []
          }
        },
        {
          "output_type": "display_data",
          "data": {
            "text/html": [
              "<span style=\"color:cyan\"> |-tuner/round: 0</span>"
            ],
            "text/plain": [
              "<IPython.core.display.HTML object>"
            ]
          },
          "metadata": {
            "tags": []
          }
        },
        {
          "output_type": "display_data",
          "data": {
            "text/html": [
              "<span style=\"color:blue\"> |-units: 4</span>"
            ],
            "text/plain": [
              "<IPython.core.display.HTML object>"
            ]
          },
          "metadata": {
            "tags": []
          }
        },
        {
          "output_type": "display_data",
          "data": {
            "text/html": [
              "<span style=\"color:cyan\"> |-weight_init: zero</span>"
            ],
            "text/plain": [
              "<IPython.core.display.HTML object>"
            ]
          },
          "metadata": {
            "tags": []
          }
        },
        {
          "output_type": "display_data",
          "data": {
            "text/html": [
              "<span style=\"color:cyan\"> |-Score: 0.13333334028720856</span>"
            ],
            "text/plain": [
              "<IPython.core.display.HTML object>"
            ]
          },
          "metadata": {
            "tags": []
          }
        },
        {
          "output_type": "display_data",
          "data": {
            "text/html": [
              "<span style=\"color:cyan\"> |-Best step: 0</span>"
            ],
            "text/plain": [
              "<IPython.core.display.HTML object>"
            ]
          },
          "metadata": {
            "tags": []
          }
        },
        {
          "output_type": "stream",
          "text": [
            "Train on 86 samples, validate on 45 samples\n",
            "Epoch 1/2\n",
            "86/86 [==============================] - 0s 5ms/sample - loss: 1.5203 - accuracy: 0.1860 - val_loss: 1.2461 - val_accuracy: 0.2222\n",
            "Epoch 2/2\n",
            "86/86 [==============================] - 0s 298us/sample - loss: 1.4860 - accuracy: 0.2907 - val_loss: 1.2434 - val_accuracy: 0.2222\n"
          ],
          "name": "stdout"
        },
        {
          "output_type": "display_data",
          "data": {
            "text/html": [
              "<span style=\"color:#4527A0\"><h1 style=\"font-size:18px\">Trial complete</h1></span>"
            ],
            "text/plain": [
              "<IPython.core.display.HTML object>"
            ]
          },
          "metadata": {
            "tags": []
          }
        },
        {
          "output_type": "display_data",
          "data": {
            "text/html": [
              "<span style=\"color:#4527A0\"><h1 style=\"font-size:18px\">Trial summary</h1></span>"
            ],
            "text/plain": [
              "<IPython.core.display.HTML object>"
            ]
          },
          "metadata": {
            "tags": []
          }
        },
        {
          "output_type": "display_data",
          "data": {
            "text/html": [
              "<span style=\"color:#7E57C2\"><h2 style=\"font-size:16px\">Hp values:</h2></span>"
            ],
            "text/plain": [
              "<IPython.core.display.HTML object>"
            ]
          },
          "metadata": {
            "tags": []
          }
        },
        {
          "output_type": "display_data",
          "data": {
            "text/html": [
              "<span style=\"color:cyan\"> |-activation: softsign</span>"
            ],
            "text/plain": [
              "<IPython.core.display.HTML object>"
            ]
          },
          "metadata": {
            "tags": []
          }
        },
        {
          "output_type": "display_data",
          "data": {
            "text/html": [
              "<span style=\"color:blue\"> |-drop_rate: 0.5</span>"
            ],
            "text/plain": [
              "<IPython.core.display.HTML object>"
            ]
          },
          "metadata": {
            "tags": []
          }
        },
        {
          "output_type": "display_data",
          "data": {
            "text/html": [
              "<span style=\"color:cyan\"> |-learning_rate: 0.001</span>"
            ],
            "text/plain": [
              "<IPython.core.display.HTML object>"
            ]
          },
          "metadata": {
            "tags": []
          }
        },
        {
          "output_type": "display_data",
          "data": {
            "text/html": [
              "<span style=\"color:blue\"> |-tuner/bracket: 2</span>"
            ],
            "text/plain": [
              "<IPython.core.display.HTML object>"
            ]
          },
          "metadata": {
            "tags": []
          }
        },
        {
          "output_type": "display_data",
          "data": {
            "text/html": [
              "<span style=\"color:cyan\"> |-tuner/epochs: 2</span>"
            ],
            "text/plain": [
              "<IPython.core.display.HTML object>"
            ]
          },
          "metadata": {
            "tags": []
          }
        },
        {
          "output_type": "display_data",
          "data": {
            "text/html": [
              "<span style=\"color:blue\"> |-tuner/initial_epoch: 0</span>"
            ],
            "text/plain": [
              "<IPython.core.display.HTML object>"
            ]
          },
          "metadata": {
            "tags": []
          }
        },
        {
          "output_type": "display_data",
          "data": {
            "text/html": [
              "<span style=\"color:cyan\"> |-tuner/round: 0</span>"
            ],
            "text/plain": [
              "<IPython.core.display.HTML object>"
            ]
          },
          "metadata": {
            "tags": []
          }
        },
        {
          "output_type": "display_data",
          "data": {
            "text/html": [
              "<span style=\"color:blue\"> |-units: 8</span>"
            ],
            "text/plain": [
              "<IPython.core.display.HTML object>"
            ]
          },
          "metadata": {
            "tags": []
          }
        },
        {
          "output_type": "display_data",
          "data": {
            "text/html": [
              "<span style=\"color:cyan\"> |-weight_init: glorot_normal</span>"
            ],
            "text/plain": [
              "<IPython.core.display.HTML object>"
            ]
          },
          "metadata": {
            "tags": []
          }
        },
        {
          "output_type": "display_data",
          "data": {
            "text/html": [
              "<span style=\"color:cyan\"> |-Score: 0.2222222238779068</span>"
            ],
            "text/plain": [
              "<IPython.core.display.HTML object>"
            ]
          },
          "metadata": {
            "tags": []
          }
        },
        {
          "output_type": "display_data",
          "data": {
            "text/html": [
              "<span style=\"color:cyan\"> |-Best step: 0</span>"
            ],
            "text/plain": [
              "<IPython.core.display.HTML object>"
            ]
          },
          "metadata": {
            "tags": []
          }
        },
        {
          "output_type": "stream",
          "text": [
            "Train on 86 samples, validate on 45 samples\n",
            "Epoch 1/2\n",
            "86/86 [==============================] - 0s 5ms/sample - loss: 1.3143 - accuracy: 0.3256 - val_loss: 1.1489 - val_accuracy: 0.3556\n",
            "Epoch 2/2\n",
            "86/86 [==============================] - 0s 259us/sample - loss: 1.1985 - accuracy: 0.5000 - val_loss: 1.1487 - val_accuracy: 0.3556\n"
          ],
          "name": "stdout"
        },
        {
          "output_type": "display_data",
          "data": {
            "text/html": [
              "<span style=\"color:#4527A0\"><h1 style=\"font-size:18px\">Trial complete</h1></span>"
            ],
            "text/plain": [
              "<IPython.core.display.HTML object>"
            ]
          },
          "metadata": {
            "tags": []
          }
        },
        {
          "output_type": "display_data",
          "data": {
            "text/html": [
              "<span style=\"color:#4527A0\"><h1 style=\"font-size:18px\">Trial summary</h1></span>"
            ],
            "text/plain": [
              "<IPython.core.display.HTML object>"
            ]
          },
          "metadata": {
            "tags": []
          }
        },
        {
          "output_type": "display_data",
          "data": {
            "text/html": [
              "<span style=\"color:#7E57C2\"><h2 style=\"font-size:16px\">Hp values:</h2></span>"
            ],
            "text/plain": [
              "<IPython.core.display.HTML object>"
            ]
          },
          "metadata": {
            "tags": []
          }
        },
        {
          "output_type": "display_data",
          "data": {
            "text/html": [
              "<span style=\"color:cyan\"> |-activation: hard_sigmoid</span>"
            ],
            "text/plain": [
              "<IPython.core.display.HTML object>"
            ]
          },
          "metadata": {
            "tags": []
          }
        },
        {
          "output_type": "display_data",
          "data": {
            "text/html": [
              "<span style=\"color:blue\"> |-drop_rate: 0.7</span>"
            ],
            "text/plain": [
              "<IPython.core.display.HTML object>"
            ]
          },
          "metadata": {
            "tags": []
          }
        },
        {
          "output_type": "display_data",
          "data": {
            "text/html": [
              "<span style=\"color:cyan\"> |-learning_rate: 0.0001</span>"
            ],
            "text/plain": [
              "<IPython.core.display.HTML object>"
            ]
          },
          "metadata": {
            "tags": []
          }
        },
        {
          "output_type": "display_data",
          "data": {
            "text/html": [
              "<span style=\"color:blue\"> |-tuner/bracket: 2</span>"
            ],
            "text/plain": [
              "<IPython.core.display.HTML object>"
            ]
          },
          "metadata": {
            "tags": []
          }
        },
        {
          "output_type": "display_data",
          "data": {
            "text/html": [
              "<span style=\"color:cyan\"> |-tuner/epochs: 2</span>"
            ],
            "text/plain": [
              "<IPython.core.display.HTML object>"
            ]
          },
          "metadata": {
            "tags": []
          }
        },
        {
          "output_type": "display_data",
          "data": {
            "text/html": [
              "<span style=\"color:blue\"> |-tuner/initial_epoch: 0</span>"
            ],
            "text/plain": [
              "<IPython.core.display.HTML object>"
            ]
          },
          "metadata": {
            "tags": []
          }
        },
        {
          "output_type": "display_data",
          "data": {
            "text/html": [
              "<span style=\"color:cyan\"> |-tuner/round: 0</span>"
            ],
            "text/plain": [
              "<IPython.core.display.HTML object>"
            ]
          },
          "metadata": {
            "tags": []
          }
        },
        {
          "output_type": "display_data",
          "data": {
            "text/html": [
              "<span style=\"color:blue\"> |-units: 3</span>"
            ],
            "text/plain": [
              "<IPython.core.display.HTML object>"
            ]
          },
          "metadata": {
            "tags": []
          }
        },
        {
          "output_type": "display_data",
          "data": {
            "text/html": [
              "<span style=\"color:cyan\"> |-weight_init: he_normal</span>"
            ],
            "text/plain": [
              "<IPython.core.display.HTML object>"
            ]
          },
          "metadata": {
            "tags": []
          }
        },
        {
          "output_type": "display_data",
          "data": {
            "text/html": [
              "<span style=\"color:cyan\"> |-Score: 0.35555556416511536</span>"
            ],
            "text/plain": [
              "<IPython.core.display.HTML object>"
            ]
          },
          "metadata": {
            "tags": []
          }
        },
        {
          "output_type": "display_data",
          "data": {
            "text/html": [
              "<span style=\"color:cyan\"> |-Best step: 0</span>"
            ],
            "text/plain": [
              "<IPython.core.display.HTML object>"
            ]
          },
          "metadata": {
            "tags": []
          }
        },
        {
          "output_type": "stream",
          "text": [
            "Train on 86 samples, validate on 45 samples\n",
            "Epoch 1/2\n",
            "86/86 [==============================] - 0s 4ms/sample - loss: 1.5946 - accuracy: 0.2907 - val_loss: 1.3482 - val_accuracy: 0.1333\n",
            "Epoch 2/2\n",
            "86/86 [==============================] - 0s 320us/sample - loss: 1.4959 - accuracy: 0.3837 - val_loss: 1.2767 - val_accuracy: 0.1333\n"
          ],
          "name": "stdout"
        },
        {
          "output_type": "display_data",
          "data": {
            "text/html": [
              "<span style=\"color:#4527A0\"><h1 style=\"font-size:18px\">Trial complete</h1></span>"
            ],
            "text/plain": [
              "<IPython.core.display.HTML object>"
            ]
          },
          "metadata": {
            "tags": []
          }
        },
        {
          "output_type": "display_data",
          "data": {
            "text/html": [
              "<span style=\"color:#4527A0\"><h1 style=\"font-size:18px\">Trial summary</h1></span>"
            ],
            "text/plain": [
              "<IPython.core.display.HTML object>"
            ]
          },
          "metadata": {
            "tags": []
          }
        },
        {
          "output_type": "display_data",
          "data": {
            "text/html": [
              "<span style=\"color:#7E57C2\"><h2 style=\"font-size:16px\">Hp values:</h2></span>"
            ],
            "text/plain": [
              "<IPython.core.display.HTML object>"
            ]
          },
          "metadata": {
            "tags": []
          }
        },
        {
          "output_type": "display_data",
          "data": {
            "text/html": [
              "<span style=\"color:cyan\"> |-activation: softplus</span>"
            ],
            "text/plain": [
              "<IPython.core.display.HTML object>"
            ]
          },
          "metadata": {
            "tags": []
          }
        },
        {
          "output_type": "display_data",
          "data": {
            "text/html": [
              "<span style=\"color:blue\"> |-drop_rate: 0.6</span>"
            ],
            "text/plain": [
              "<IPython.core.display.HTML object>"
            ]
          },
          "metadata": {
            "tags": []
          }
        },
        {
          "output_type": "display_data",
          "data": {
            "text/html": [
              "<span style=\"color:cyan\"> |-learning_rate: 0.01</span>"
            ],
            "text/plain": [
              "<IPython.core.display.HTML object>"
            ]
          },
          "metadata": {
            "tags": []
          }
        },
        {
          "output_type": "display_data",
          "data": {
            "text/html": [
              "<span style=\"color:blue\"> |-tuner/bracket: 2</span>"
            ],
            "text/plain": [
              "<IPython.core.display.HTML object>"
            ]
          },
          "metadata": {
            "tags": []
          }
        },
        {
          "output_type": "display_data",
          "data": {
            "text/html": [
              "<span style=\"color:cyan\"> |-tuner/epochs: 2</span>"
            ],
            "text/plain": [
              "<IPython.core.display.HTML object>"
            ]
          },
          "metadata": {
            "tags": []
          }
        },
        {
          "output_type": "display_data",
          "data": {
            "text/html": [
              "<span style=\"color:blue\"> |-tuner/initial_epoch: 0</span>"
            ],
            "text/plain": [
              "<IPython.core.display.HTML object>"
            ]
          },
          "metadata": {
            "tags": []
          }
        },
        {
          "output_type": "display_data",
          "data": {
            "text/html": [
              "<span style=\"color:cyan\"> |-tuner/round: 0</span>"
            ],
            "text/plain": [
              "<IPython.core.display.HTML object>"
            ]
          },
          "metadata": {
            "tags": []
          }
        },
        {
          "output_type": "display_data",
          "data": {
            "text/html": [
              "<span style=\"color:blue\"> |-units: 3</span>"
            ],
            "text/plain": [
              "<IPython.core.display.HTML object>"
            ]
          },
          "metadata": {
            "tags": []
          }
        },
        {
          "output_type": "display_data",
          "data": {
            "text/html": [
              "<span style=\"color:cyan\"> |-weight_init: normal</span>"
            ],
            "text/plain": [
              "<IPython.core.display.HTML object>"
            ]
          },
          "metadata": {
            "tags": []
          }
        },
        {
          "output_type": "display_data",
          "data": {
            "text/html": [
              "<span style=\"color:cyan\"> |-Score: 0.13333334028720856</span>"
            ],
            "text/plain": [
              "<IPython.core.display.HTML object>"
            ]
          },
          "metadata": {
            "tags": []
          }
        },
        {
          "output_type": "display_data",
          "data": {
            "text/html": [
              "<span style=\"color:cyan\"> |-Best step: 0</span>"
            ],
            "text/plain": [
              "<IPython.core.display.HTML object>"
            ]
          },
          "metadata": {
            "tags": []
          }
        },
        {
          "output_type": "stream",
          "text": [
            "Train on 86 samples, validate on 45 samples\n",
            "Epoch 1/2\n",
            "86/86 [==============================] - 0s 5ms/sample - loss: 7.7469 - accuracy: 0.3372 - val_loss: 3.3256 - val_accuracy: 0.4444\n",
            "Epoch 2/2\n",
            "86/86 [==============================] - 0s 289us/sample - loss: 6.2769 - accuracy: 0.3488 - val_loss: 2.9195 - val_accuracy: 0.4444\n"
          ],
          "name": "stdout"
        },
        {
          "output_type": "display_data",
          "data": {
            "text/html": [
              "<span style=\"color:#4527A0\"><h1 style=\"font-size:18px\">Trial complete</h1></span>"
            ],
            "text/plain": [
              "<IPython.core.display.HTML object>"
            ]
          },
          "metadata": {
            "tags": []
          }
        },
        {
          "output_type": "display_data",
          "data": {
            "text/html": [
              "<span style=\"color:#4527A0\"><h1 style=\"font-size:18px\">Trial summary</h1></span>"
            ],
            "text/plain": [
              "<IPython.core.display.HTML object>"
            ]
          },
          "metadata": {
            "tags": []
          }
        },
        {
          "output_type": "display_data",
          "data": {
            "text/html": [
              "<span style=\"color:#7E57C2\"><h2 style=\"font-size:16px\">Hp values:</h2></span>"
            ],
            "text/plain": [
              "<IPython.core.display.HTML object>"
            ]
          },
          "metadata": {
            "tags": []
          }
        },
        {
          "output_type": "display_data",
          "data": {
            "text/html": [
              "<span style=\"color:cyan\"> |-activation: linear</span>"
            ],
            "text/plain": [
              "<IPython.core.display.HTML object>"
            ]
          },
          "metadata": {
            "tags": []
          }
        },
        {
          "output_type": "display_data",
          "data": {
            "text/html": [
              "<span style=\"color:blue\"> |-drop_rate: 0.6</span>"
            ],
            "text/plain": [
              "<IPython.core.display.HTML object>"
            ]
          },
          "metadata": {
            "tags": []
          }
        },
        {
          "output_type": "display_data",
          "data": {
            "text/html": [
              "<span style=\"color:cyan\"> |-learning_rate: 0.01</span>"
            ],
            "text/plain": [
              "<IPython.core.display.HTML object>"
            ]
          },
          "metadata": {
            "tags": []
          }
        },
        {
          "output_type": "display_data",
          "data": {
            "text/html": [
              "<span style=\"color:blue\"> |-tuner/bracket: 2</span>"
            ],
            "text/plain": [
              "<IPython.core.display.HTML object>"
            ]
          },
          "metadata": {
            "tags": []
          }
        },
        {
          "output_type": "display_data",
          "data": {
            "text/html": [
              "<span style=\"color:cyan\"> |-tuner/epochs: 2</span>"
            ],
            "text/plain": [
              "<IPython.core.display.HTML object>"
            ]
          },
          "metadata": {
            "tags": []
          }
        },
        {
          "output_type": "display_data",
          "data": {
            "text/html": [
              "<span style=\"color:blue\"> |-tuner/initial_epoch: 0</span>"
            ],
            "text/plain": [
              "<IPython.core.display.HTML object>"
            ]
          },
          "metadata": {
            "tags": []
          }
        },
        {
          "output_type": "display_data",
          "data": {
            "text/html": [
              "<span style=\"color:cyan\"> |-tuner/round: 0</span>"
            ],
            "text/plain": [
              "<IPython.core.display.HTML object>"
            ]
          },
          "metadata": {
            "tags": []
          }
        },
        {
          "output_type": "display_data",
          "data": {
            "text/html": [
              "<span style=\"color:blue\"> |-units: 4</span>"
            ],
            "text/plain": [
              "<IPython.core.display.HTML object>"
            ]
          },
          "metadata": {
            "tags": []
          }
        },
        {
          "output_type": "display_data",
          "data": {
            "text/html": [
              "<span style=\"color:cyan\"> |-weight_init: he_uniform</span>"
            ],
            "text/plain": [
              "<IPython.core.display.HTML object>"
            ]
          },
          "metadata": {
            "tags": []
          }
        },
        {
          "output_type": "display_data",
          "data": {
            "text/html": [
              "<span style=\"color:cyan\"> |-Score: 0.4444444477558136</span>"
            ],
            "text/plain": [
              "<IPython.core.display.HTML object>"
            ]
          },
          "metadata": {
            "tags": []
          }
        },
        {
          "output_type": "display_data",
          "data": {
            "text/html": [
              "<span style=\"color:cyan\"> |-Best step: 0</span>"
            ],
            "text/plain": [
              "<IPython.core.display.HTML object>"
            ]
          },
          "metadata": {
            "tags": []
          }
        },
        {
          "output_type": "stream",
          "text": [
            "Train on 86 samples, validate on 45 samples\n",
            "Epoch 1/2\n",
            "86/86 [==============================] - 0s 5ms/sample - loss: 1.1407 - accuracy: 0.3256 - val_loss: 1.1544 - val_accuracy: 0.3556\n",
            "Epoch 2/2\n",
            "86/86 [==============================] - 0s 242us/sample - loss: 1.1618 - accuracy: 0.4302 - val_loss: 1.1541 - val_accuracy: 0.3556\n"
          ],
          "name": "stdout"
        },
        {
          "output_type": "display_data",
          "data": {
            "text/html": [
              "<span style=\"color:#4527A0\"><h1 style=\"font-size:18px\">Trial complete</h1></span>"
            ],
            "text/plain": [
              "<IPython.core.display.HTML object>"
            ]
          },
          "metadata": {
            "tags": []
          }
        },
        {
          "output_type": "display_data",
          "data": {
            "text/html": [
              "<span style=\"color:#4527A0\"><h1 style=\"font-size:18px\">Trial summary</h1></span>"
            ],
            "text/plain": [
              "<IPython.core.display.HTML object>"
            ]
          },
          "metadata": {
            "tags": []
          }
        },
        {
          "output_type": "display_data",
          "data": {
            "text/html": [
              "<span style=\"color:#7E57C2\"><h2 style=\"font-size:16px\">Hp values:</h2></span>"
            ],
            "text/plain": [
              "<IPython.core.display.HTML object>"
            ]
          },
          "metadata": {
            "tags": []
          }
        },
        {
          "output_type": "display_data",
          "data": {
            "text/html": [
              "<span style=\"color:cyan\"> |-activation: softmax</span>"
            ],
            "text/plain": [
              "<IPython.core.display.HTML object>"
            ]
          },
          "metadata": {
            "tags": []
          }
        },
        {
          "output_type": "display_data",
          "data": {
            "text/html": [
              "<span style=\"color:blue\"> |-drop_rate: 0.6</span>"
            ],
            "text/plain": [
              "<IPython.core.display.HTML object>"
            ]
          },
          "metadata": {
            "tags": []
          }
        },
        {
          "output_type": "display_data",
          "data": {
            "text/html": [
              "<span style=\"color:cyan\"> |-learning_rate: 0.0001</span>"
            ],
            "text/plain": [
              "<IPython.core.display.HTML object>"
            ]
          },
          "metadata": {
            "tags": []
          }
        },
        {
          "output_type": "display_data",
          "data": {
            "text/html": [
              "<span style=\"color:blue\"> |-tuner/bracket: 2</span>"
            ],
            "text/plain": [
              "<IPython.core.display.HTML object>"
            ]
          },
          "metadata": {
            "tags": []
          }
        },
        {
          "output_type": "display_data",
          "data": {
            "text/html": [
              "<span style=\"color:cyan\"> |-tuner/epochs: 2</span>"
            ],
            "text/plain": [
              "<IPython.core.display.HTML object>"
            ]
          },
          "metadata": {
            "tags": []
          }
        },
        {
          "output_type": "display_data",
          "data": {
            "text/html": [
              "<span style=\"color:blue\"> |-tuner/initial_epoch: 0</span>"
            ],
            "text/plain": [
              "<IPython.core.display.HTML object>"
            ]
          },
          "metadata": {
            "tags": []
          }
        },
        {
          "output_type": "display_data",
          "data": {
            "text/html": [
              "<span style=\"color:cyan\"> |-tuner/round: 0</span>"
            ],
            "text/plain": [
              "<IPython.core.display.HTML object>"
            ]
          },
          "metadata": {
            "tags": []
          }
        },
        {
          "output_type": "display_data",
          "data": {
            "text/html": [
              "<span style=\"color:blue\"> |-units: 6</span>"
            ],
            "text/plain": [
              "<IPython.core.display.HTML object>"
            ]
          },
          "metadata": {
            "tags": []
          }
        },
        {
          "output_type": "display_data",
          "data": {
            "text/html": [
              "<span style=\"color:cyan\"> |-weight_init: he_normal</span>"
            ],
            "text/plain": [
              "<IPython.core.display.HTML object>"
            ]
          },
          "metadata": {
            "tags": []
          }
        },
        {
          "output_type": "display_data",
          "data": {
            "text/html": [
              "<span style=\"color:cyan\"> |-Score: 0.35555556416511536</span>"
            ],
            "text/plain": [
              "<IPython.core.display.HTML object>"
            ]
          },
          "metadata": {
            "tags": []
          }
        },
        {
          "output_type": "display_data",
          "data": {
            "text/html": [
              "<span style=\"color:cyan\"> |-Best step: 0</span>"
            ],
            "text/plain": [
              "<IPython.core.display.HTML object>"
            ]
          },
          "metadata": {
            "tags": []
          }
        },
        {
          "output_type": "stream",
          "text": [
            "Train on 86 samples, validate on 45 samples\n",
            "Epoch 3/4\n",
            "86/86 [==============================] - 0s 5ms/sample - loss: 4.1435 - accuracy: 0.2907 - val_loss: 2.4705 - val_accuracy: 0.3333\n",
            "Epoch 4/4\n",
            "86/86 [==============================] - 0s 341us/sample - loss: 3.8107 - accuracy: 0.3837 - val_loss: 2.1916 - val_accuracy: 0.3556\n"
          ],
          "name": "stdout"
        },
        {
          "output_type": "display_data",
          "data": {
            "text/html": [
              "<span style=\"color:#4527A0\"><h1 style=\"font-size:18px\">Trial complete</h1></span>"
            ],
            "text/plain": [
              "<IPython.core.display.HTML object>"
            ]
          },
          "metadata": {
            "tags": []
          }
        },
        {
          "output_type": "display_data",
          "data": {
            "text/html": [
              "<span style=\"color:#4527A0\"><h1 style=\"font-size:18px\">Trial summary</h1></span>"
            ],
            "text/plain": [
              "<IPython.core.display.HTML object>"
            ]
          },
          "metadata": {
            "tags": []
          }
        },
        {
          "output_type": "display_data",
          "data": {
            "text/html": [
              "<span style=\"color:#7E57C2\"><h2 style=\"font-size:16px\">Hp values:</h2></span>"
            ],
            "text/plain": [
              "<IPython.core.display.HTML object>"
            ]
          },
          "metadata": {
            "tags": []
          }
        },
        {
          "output_type": "display_data",
          "data": {
            "text/html": [
              "<span style=\"color:cyan\"> |-activation: linear</span>"
            ],
            "text/plain": [
              "<IPython.core.display.HTML object>"
            ]
          },
          "metadata": {
            "tags": []
          }
        },
        {
          "output_type": "display_data",
          "data": {
            "text/html": [
              "<span style=\"color:blue\"> |-drop_rate: 0.6</span>"
            ],
            "text/plain": [
              "<IPython.core.display.HTML object>"
            ]
          },
          "metadata": {
            "tags": []
          }
        },
        {
          "output_type": "display_data",
          "data": {
            "text/html": [
              "<span style=\"color:cyan\"> |-learning_rate: 0.01</span>"
            ],
            "text/plain": [
              "<IPython.core.display.HTML object>"
            ]
          },
          "metadata": {
            "tags": []
          }
        },
        {
          "output_type": "display_data",
          "data": {
            "text/html": [
              "<span style=\"color:blue\"> |-tuner/bracket: 2</span>"
            ],
            "text/plain": [
              "<IPython.core.display.HTML object>"
            ]
          },
          "metadata": {
            "tags": []
          }
        },
        {
          "output_type": "display_data",
          "data": {
            "text/html": [
              "<span style=\"color:cyan\"> |-tuner/epochs: 4</span>"
            ],
            "text/plain": [
              "<IPython.core.display.HTML object>"
            ]
          },
          "metadata": {
            "tags": []
          }
        },
        {
          "output_type": "display_data",
          "data": {
            "text/html": [
              "<span style=\"color:blue\"> |-tuner/initial_epoch: 2</span>"
            ],
            "text/plain": [
              "<IPython.core.display.HTML object>"
            ]
          },
          "metadata": {
            "tags": []
          }
        },
        {
          "output_type": "display_data",
          "data": {
            "text/html": [
              "<span style=\"color:cyan\"> |-tuner/round: 1</span>"
            ],
            "text/plain": [
              "<IPython.core.display.HTML object>"
            ]
          },
          "metadata": {
            "tags": []
          }
        },
        {
          "output_type": "display_data",
          "data": {
            "text/html": [
              "<span style=\"color:blue\"> |-tuner/trial_id: 442ed495b48c1987da35ddd58798cf9a</span>"
            ],
            "text/plain": [
              "<IPython.core.display.HTML object>"
            ]
          },
          "metadata": {
            "tags": []
          }
        },
        {
          "output_type": "display_data",
          "data": {
            "text/html": [
              "<span style=\"color:cyan\"> |-units: 4</span>"
            ],
            "text/plain": [
              "<IPython.core.display.HTML object>"
            ]
          },
          "metadata": {
            "tags": []
          }
        },
        {
          "output_type": "display_data",
          "data": {
            "text/html": [
              "<span style=\"color:blue\"> |-weight_init: he_uniform</span>"
            ],
            "text/plain": [
              "<IPython.core.display.HTML object>"
            ]
          },
          "metadata": {
            "tags": []
          }
        },
        {
          "output_type": "display_data",
          "data": {
            "text/html": [
              "<span style=\"color:cyan\"> |-Score: 0.35555556416511536</span>"
            ],
            "text/plain": [
              "<IPython.core.display.HTML object>"
            ]
          },
          "metadata": {
            "tags": []
          }
        },
        {
          "output_type": "display_data",
          "data": {
            "text/html": [
              "<span style=\"color:cyan\"> |-Best step: 0</span>"
            ],
            "text/plain": [
              "<IPython.core.display.HTML object>"
            ]
          },
          "metadata": {
            "tags": []
          }
        },
        {
          "output_type": "stream",
          "text": [
            "Train on 86 samples, validate on 45 samples\n",
            "Epoch 3/4\n",
            "86/86 [==============================] - 0s 5ms/sample - loss: 1.8579 - accuracy: 0.1628 - val_loss: 1.7247 - val_accuracy: 0.1333\n",
            "Epoch 4/4\n",
            "86/86 [==============================] - 0s 312us/sample - loss: 1.8848 - accuracy: 0.1395 - val_loss: 1.7107 - val_accuracy: 0.1333\n"
          ],
          "name": "stdout"
        },
        {
          "output_type": "display_data",
          "data": {
            "text/html": [
              "<span style=\"color:#4527A0\"><h1 style=\"font-size:18px\">Trial complete</h1></span>"
            ],
            "text/plain": [
              "<IPython.core.display.HTML object>"
            ]
          },
          "metadata": {
            "tags": []
          }
        },
        {
          "output_type": "display_data",
          "data": {
            "text/html": [
              "<span style=\"color:#4527A0\"><h1 style=\"font-size:18px\">Trial summary</h1></span>"
            ],
            "text/plain": [
              "<IPython.core.display.HTML object>"
            ]
          },
          "metadata": {
            "tags": []
          }
        },
        {
          "output_type": "display_data",
          "data": {
            "text/html": [
              "<span style=\"color:#7E57C2\"><h2 style=\"font-size:16px\">Hp values:</h2></span>"
            ],
            "text/plain": [
              "<IPython.core.display.HTML object>"
            ]
          },
          "metadata": {
            "tags": []
          }
        },
        {
          "output_type": "display_data",
          "data": {
            "text/html": [
              "<span style=\"color:cyan\"> |-activation: hard_sigmoid</span>"
            ],
            "text/plain": [
              "<IPython.core.display.HTML object>"
            ]
          },
          "metadata": {
            "tags": []
          }
        },
        {
          "output_type": "display_data",
          "data": {
            "text/html": [
              "<span style=\"color:blue\"> |-drop_rate: 0.6</span>"
            ],
            "text/plain": [
              "<IPython.core.display.HTML object>"
            ]
          },
          "metadata": {
            "tags": []
          }
        },
        {
          "output_type": "display_data",
          "data": {
            "text/html": [
              "<span style=\"color:cyan\"> |-learning_rate: 0.001</span>"
            ],
            "text/plain": [
              "<IPython.core.display.HTML object>"
            ]
          },
          "metadata": {
            "tags": []
          }
        },
        {
          "output_type": "display_data",
          "data": {
            "text/html": [
              "<span style=\"color:blue\"> |-tuner/bracket: 2</span>"
            ],
            "text/plain": [
              "<IPython.core.display.HTML object>"
            ]
          },
          "metadata": {
            "tags": []
          }
        },
        {
          "output_type": "display_data",
          "data": {
            "text/html": [
              "<span style=\"color:cyan\"> |-tuner/epochs: 4</span>"
            ],
            "text/plain": [
              "<IPython.core.display.HTML object>"
            ]
          },
          "metadata": {
            "tags": []
          }
        },
        {
          "output_type": "display_data",
          "data": {
            "text/html": [
              "<span style=\"color:blue\"> |-tuner/initial_epoch: 2</span>"
            ],
            "text/plain": [
              "<IPython.core.display.HTML object>"
            ]
          },
          "metadata": {
            "tags": []
          }
        },
        {
          "output_type": "display_data",
          "data": {
            "text/html": [
              "<span style=\"color:cyan\"> |-tuner/round: 1</span>"
            ],
            "text/plain": [
              "<IPython.core.display.HTML object>"
            ]
          },
          "metadata": {
            "tags": []
          }
        },
        {
          "output_type": "display_data",
          "data": {
            "text/html": [
              "<span style=\"color:blue\"> |-tuner/trial_id: 426f8afa1ff05890341887dd3a911185</span>"
            ],
            "text/plain": [
              "<IPython.core.display.HTML object>"
            ]
          },
          "metadata": {
            "tags": []
          }
        },
        {
          "output_type": "display_data",
          "data": {
            "text/html": [
              "<span style=\"color:cyan\"> |-units: 8</span>"
            ],
            "text/plain": [
              "<IPython.core.display.HTML object>"
            ]
          },
          "metadata": {
            "tags": []
          }
        },
        {
          "output_type": "display_data",
          "data": {
            "text/html": [
              "<span style=\"color:blue\"> |-weight_init: normal</span>"
            ],
            "text/plain": [
              "<IPython.core.display.HTML object>"
            ]
          },
          "metadata": {
            "tags": []
          }
        },
        {
          "output_type": "display_data",
          "data": {
            "text/html": [
              "<span style=\"color:cyan\"> |-Score: 0.13333334028720856</span>"
            ],
            "text/plain": [
              "<IPython.core.display.HTML object>"
            ]
          },
          "metadata": {
            "tags": []
          }
        },
        {
          "output_type": "display_data",
          "data": {
            "text/html": [
              "<span style=\"color:cyan\"> |-Best step: 0</span>"
            ],
            "text/plain": [
              "<IPython.core.display.HTML object>"
            ]
          },
          "metadata": {
            "tags": []
          }
        },
        {
          "output_type": "stream",
          "text": [
            "Train on 86 samples, validate on 45 samples\n",
            "Epoch 3/4\n",
            "86/86 [==============================] - 0s 4ms/sample - loss: 2.7620 - accuracy: 0.2558 - val_loss: 2.1354 - val_accuracy: 0.2667\n",
            "Epoch 4/4\n",
            "86/86 [==============================] - 0s 325us/sample - loss: 2.8928 - accuracy: 0.2558 - val_loss: 2.1049 - val_accuracy: 0.2444\n"
          ],
          "name": "stdout"
        },
        {
          "output_type": "display_data",
          "data": {
            "text/html": [
              "<span style=\"color:#4527A0\"><h1 style=\"font-size:18px\">Trial complete</h1></span>"
            ],
            "text/plain": [
              "<IPython.core.display.HTML object>"
            ]
          },
          "metadata": {
            "tags": []
          }
        },
        {
          "output_type": "display_data",
          "data": {
            "text/html": [
              "<span style=\"color:#4527A0\"><h1 style=\"font-size:18px\">Trial summary</h1></span>"
            ],
            "text/plain": [
              "<IPython.core.display.HTML object>"
            ]
          },
          "metadata": {
            "tags": []
          }
        },
        {
          "output_type": "display_data",
          "data": {
            "text/html": [
              "<span style=\"color:#7E57C2\"><h2 style=\"font-size:16px\">Hp values:</h2></span>"
            ],
            "text/plain": [
              "<IPython.core.display.HTML object>"
            ]
          },
          "metadata": {
            "tags": []
          }
        },
        {
          "output_type": "display_data",
          "data": {
            "text/html": [
              "<span style=\"color:cyan\"> |-activation: relu</span>"
            ],
            "text/plain": [
              "<IPython.core.display.HTML object>"
            ]
          },
          "metadata": {
            "tags": []
          }
        },
        {
          "output_type": "display_data",
          "data": {
            "text/html": [
              "<span style=\"color:blue\"> |-drop_rate: 0.1</span>"
            ],
            "text/plain": [
              "<IPython.core.display.HTML object>"
            ]
          },
          "metadata": {
            "tags": []
          }
        },
        {
          "output_type": "display_data",
          "data": {
            "text/html": [
              "<span style=\"color:cyan\"> |-learning_rate: 0.001</span>"
            ],
            "text/plain": [
              "<IPython.core.display.HTML object>"
            ]
          },
          "metadata": {
            "tags": []
          }
        },
        {
          "output_type": "display_data",
          "data": {
            "text/html": [
              "<span style=\"color:blue\"> |-tuner/bracket: 2</span>"
            ],
            "text/plain": [
              "<IPython.core.display.HTML object>"
            ]
          },
          "metadata": {
            "tags": []
          }
        },
        {
          "output_type": "display_data",
          "data": {
            "text/html": [
              "<span style=\"color:cyan\"> |-tuner/epochs: 4</span>"
            ],
            "text/plain": [
              "<IPython.core.display.HTML object>"
            ]
          },
          "metadata": {
            "tags": []
          }
        },
        {
          "output_type": "display_data",
          "data": {
            "text/html": [
              "<span style=\"color:blue\"> |-tuner/initial_epoch: 2</span>"
            ],
            "text/plain": [
              "<IPython.core.display.HTML object>"
            ]
          },
          "metadata": {
            "tags": []
          }
        },
        {
          "output_type": "display_data",
          "data": {
            "text/html": [
              "<span style=\"color:cyan\"> |-tuner/round: 1</span>"
            ],
            "text/plain": [
              "<IPython.core.display.HTML object>"
            ]
          },
          "metadata": {
            "tags": []
          }
        },
        {
          "output_type": "display_data",
          "data": {
            "text/html": [
              "<span style=\"color:blue\"> |-tuner/trial_id: b9d670fe675c38081f3082a1778cdea5</span>"
            ],
            "text/plain": [
              "<IPython.core.display.HTML object>"
            ]
          },
          "metadata": {
            "tags": []
          }
        },
        {
          "output_type": "display_data",
          "data": {
            "text/html": [
              "<span style=\"color:cyan\"> |-units: 5</span>"
            ],
            "text/plain": [
              "<IPython.core.display.HTML object>"
            ]
          },
          "metadata": {
            "tags": []
          }
        },
        {
          "output_type": "display_data",
          "data": {
            "text/html": [
              "<span style=\"color:blue\"> |-weight_init: glorot_uniform</span>"
            ],
            "text/plain": [
              "<IPython.core.display.HTML object>"
            ]
          },
          "metadata": {
            "tags": []
          }
        },
        {
          "output_type": "display_data",
          "data": {
            "text/html": [
              "<span style=\"color:cyan\"> |-Score: 0.2666666805744171</span>"
            ],
            "text/plain": [
              "<IPython.core.display.HTML object>"
            ]
          },
          "metadata": {
            "tags": []
          }
        },
        {
          "output_type": "display_data",
          "data": {
            "text/html": [
              "<span style=\"color:cyan\"> |-Best step: 0</span>"
            ],
            "text/plain": [
              "<IPython.core.display.HTML object>"
            ]
          },
          "metadata": {
            "tags": []
          }
        },
        {
          "output_type": "stream",
          "text": [
            "Train on 86 samples, validate on 45 samples\n",
            "Epoch 3/4\n",
            "86/86 [==============================] - 0s 4ms/sample - loss: 6.5567 - accuracy: 0.3837 - val_loss: 3.5122 - val_accuracy: 0.3333\n",
            "Epoch 4/4\n",
            "86/86 [==============================] - 0s 277us/sample - loss: 7.8438 - accuracy: 0.4535 - val_loss: 3.5096 - val_accuracy: 0.3333\n"
          ],
          "name": "stdout"
        },
        {
          "output_type": "display_data",
          "data": {
            "text/html": [
              "<span style=\"color:#4527A0\"><h1 style=\"font-size:18px\">Trial complete</h1></span>"
            ],
            "text/plain": [
              "<IPython.core.display.HTML object>"
            ]
          },
          "metadata": {
            "tags": []
          }
        },
        {
          "output_type": "display_data",
          "data": {
            "text/html": [
              "<span style=\"color:#4527A0\"><h1 style=\"font-size:18px\">Trial summary</h1></span>"
            ],
            "text/plain": [
              "<IPython.core.display.HTML object>"
            ]
          },
          "metadata": {
            "tags": []
          }
        },
        {
          "output_type": "display_data",
          "data": {
            "text/html": [
              "<span style=\"color:#7E57C2\"><h2 style=\"font-size:16px\">Hp values:</h2></span>"
            ],
            "text/plain": [
              "<IPython.core.display.HTML object>"
            ]
          },
          "metadata": {
            "tags": []
          }
        },
        {
          "output_type": "display_data",
          "data": {
            "text/html": [
              "<span style=\"color:cyan\"> |-activation: linear</span>"
            ],
            "text/plain": [
              "<IPython.core.display.HTML object>"
            ]
          },
          "metadata": {
            "tags": []
          }
        },
        {
          "output_type": "display_data",
          "data": {
            "text/html": [
              "<span style=\"color:blue\"> |-drop_rate: 0.8</span>"
            ],
            "text/plain": [
              "<IPython.core.display.HTML object>"
            ]
          },
          "metadata": {
            "tags": []
          }
        },
        {
          "output_type": "display_data",
          "data": {
            "text/html": [
              "<span style=\"color:cyan\"> |-learning_rate: 0.0001</span>"
            ],
            "text/plain": [
              "<IPython.core.display.HTML object>"
            ]
          },
          "metadata": {
            "tags": []
          }
        },
        {
          "output_type": "display_data",
          "data": {
            "text/html": [
              "<span style=\"color:blue\"> |-tuner/bracket: 2</span>"
            ],
            "text/plain": [
              "<IPython.core.display.HTML object>"
            ]
          },
          "metadata": {
            "tags": []
          }
        },
        {
          "output_type": "display_data",
          "data": {
            "text/html": [
              "<span style=\"color:cyan\"> |-tuner/epochs: 4</span>"
            ],
            "text/plain": [
              "<IPython.core.display.HTML object>"
            ]
          },
          "metadata": {
            "tags": []
          }
        },
        {
          "output_type": "display_data",
          "data": {
            "text/html": [
              "<span style=\"color:blue\"> |-tuner/initial_epoch: 2</span>"
            ],
            "text/plain": [
              "<IPython.core.display.HTML object>"
            ]
          },
          "metadata": {
            "tags": []
          }
        },
        {
          "output_type": "display_data",
          "data": {
            "text/html": [
              "<span style=\"color:cyan\"> |-tuner/round: 1</span>"
            ],
            "text/plain": [
              "<IPython.core.display.HTML object>"
            ]
          },
          "metadata": {
            "tags": []
          }
        },
        {
          "output_type": "display_data",
          "data": {
            "text/html": [
              "<span style=\"color:blue\"> |-tuner/trial_id: 572c5a70eb5543d266b7c5f54bce744d</span>"
            ],
            "text/plain": [
              "<IPython.core.display.HTML object>"
            ]
          },
          "metadata": {
            "tags": []
          }
        },
        {
          "output_type": "display_data",
          "data": {
            "text/html": [
              "<span style=\"color:cyan\"> |-units: 6</span>"
            ],
            "text/plain": [
              "<IPython.core.display.HTML object>"
            ]
          },
          "metadata": {
            "tags": []
          }
        },
        {
          "output_type": "display_data",
          "data": {
            "text/html": [
              "<span style=\"color:blue\"> |-weight_init: he_normal</span>"
            ],
            "text/plain": [
              "<IPython.core.display.HTML object>"
            ]
          },
          "metadata": {
            "tags": []
          }
        },
        {
          "output_type": "display_data",
          "data": {
            "text/html": [
              "<span style=\"color:cyan\"> |-Score: 0.3333333432674408</span>"
            ],
            "text/plain": [
              "<IPython.core.display.HTML object>"
            ]
          },
          "metadata": {
            "tags": []
          }
        },
        {
          "output_type": "display_data",
          "data": {
            "text/html": [
              "<span style=\"color:cyan\"> |-Best step: 0</span>"
            ],
            "text/plain": [
              "<IPython.core.display.HTML object>"
            ]
          },
          "metadata": {
            "tags": []
          }
        },
        {
          "output_type": "stream",
          "text": [
            "Train on 86 samples, validate on 45 samples\n",
            "Epoch 5/10\n",
            "86/86 [==============================] - 0s 4ms/sample - loss: 3.3924 - accuracy: 0.3023 - val_loss: 1.7705 - val_accuracy: 0.2889\n",
            "Epoch 6/10\n",
            "86/86 [==============================] - 0s 368us/sample - loss: 3.3564 - accuracy: 0.2791 - val_loss: 1.6669 - val_accuracy: 0.3111\n",
            "Epoch 7/10\n",
            "86/86 [==============================] - 0s 353us/sample - loss: 2.6777 - accuracy: 0.3140 - val_loss: 1.5769 - val_accuracy: 0.3333\n",
            "Epoch 8/10\n",
            "86/86 [==============================] - 0s 380us/sample - loss: 2.2595 - accuracy: 0.3140 - val_loss: 1.4880 - val_accuracy: 0.3556\n",
            "Epoch 9/10\n",
            "86/86 [==============================] - 0s 374us/sample - loss: 1.8462 - accuracy: 0.4302 - val_loss: 1.4402 - val_accuracy: 0.4000\n",
            "Epoch 10/10\n",
            "86/86 [==============================] - 0s 273us/sample - loss: 2.2601 - accuracy: 0.4535 - val_loss: 1.3880 - val_accuracy: 0.4000\n"
          ],
          "name": "stdout"
        },
        {
          "output_type": "display_data",
          "data": {
            "text/html": [
              "<span style=\"color:#4527A0\"><h1 style=\"font-size:18px\">Trial complete</h1></span>"
            ],
            "text/plain": [
              "<IPython.core.display.HTML object>"
            ]
          },
          "metadata": {
            "tags": []
          }
        },
        {
          "output_type": "display_data",
          "data": {
            "text/html": [
              "<span style=\"color:#4527A0\"><h1 style=\"font-size:18px\">Trial summary</h1></span>"
            ],
            "text/plain": [
              "<IPython.core.display.HTML object>"
            ]
          },
          "metadata": {
            "tags": []
          }
        },
        {
          "output_type": "display_data",
          "data": {
            "text/html": [
              "<span style=\"color:#7E57C2\"><h2 style=\"font-size:16px\">Hp values:</h2></span>"
            ],
            "text/plain": [
              "<IPython.core.display.HTML object>"
            ]
          },
          "metadata": {
            "tags": []
          }
        },
        {
          "output_type": "display_data",
          "data": {
            "text/html": [
              "<span style=\"color:cyan\"> |-activation: linear</span>"
            ],
            "text/plain": [
              "<IPython.core.display.HTML object>"
            ]
          },
          "metadata": {
            "tags": []
          }
        },
        {
          "output_type": "display_data",
          "data": {
            "text/html": [
              "<span style=\"color:blue\"> |-drop_rate: 0.6</span>"
            ],
            "text/plain": [
              "<IPython.core.display.HTML object>"
            ]
          },
          "metadata": {
            "tags": []
          }
        },
        {
          "output_type": "display_data",
          "data": {
            "text/html": [
              "<span style=\"color:cyan\"> |-learning_rate: 0.01</span>"
            ],
            "text/plain": [
              "<IPython.core.display.HTML object>"
            ]
          },
          "metadata": {
            "tags": []
          }
        },
        {
          "output_type": "display_data",
          "data": {
            "text/html": [
              "<span style=\"color:blue\"> |-tuner/bracket: 2</span>"
            ],
            "text/plain": [
              "<IPython.core.display.HTML object>"
            ]
          },
          "metadata": {
            "tags": []
          }
        },
        {
          "output_type": "display_data",
          "data": {
            "text/html": [
              "<span style=\"color:cyan\"> |-tuner/epochs: 10</span>"
            ],
            "text/plain": [
              "<IPython.core.display.HTML object>"
            ]
          },
          "metadata": {
            "tags": []
          }
        },
        {
          "output_type": "display_data",
          "data": {
            "text/html": [
              "<span style=\"color:blue\"> |-tuner/initial_epoch: 4</span>"
            ],
            "text/plain": [
              "<IPython.core.display.HTML object>"
            ]
          },
          "metadata": {
            "tags": []
          }
        },
        {
          "output_type": "display_data",
          "data": {
            "text/html": [
              "<span style=\"color:cyan\"> |-tuner/round: 2</span>"
            ],
            "text/plain": [
              "<IPython.core.display.HTML object>"
            ]
          },
          "metadata": {
            "tags": []
          }
        },
        {
          "output_type": "display_data",
          "data": {
            "text/html": [
              "<span style=\"color:blue\"> |-tuner/trial_id: a0bb72af65cef09d0d50cbe1f592da0c</span>"
            ],
            "text/plain": [
              "<IPython.core.display.HTML object>"
            ]
          },
          "metadata": {
            "tags": []
          }
        },
        {
          "output_type": "display_data",
          "data": {
            "text/html": [
              "<span style=\"color:cyan\"> |-units: 4</span>"
            ],
            "text/plain": [
              "<IPython.core.display.HTML object>"
            ]
          },
          "metadata": {
            "tags": []
          }
        },
        {
          "output_type": "display_data",
          "data": {
            "text/html": [
              "<span style=\"color:blue\"> |-weight_init: he_uniform</span>"
            ],
            "text/plain": [
              "<IPython.core.display.HTML object>"
            ]
          },
          "metadata": {
            "tags": []
          }
        },
        {
          "output_type": "display_data",
          "data": {
            "text/html": [
              "<span style=\"color:cyan\"> |-Score: 0.4000000059604645</span>"
            ],
            "text/plain": [
              "<IPython.core.display.HTML object>"
            ]
          },
          "metadata": {
            "tags": []
          }
        },
        {
          "output_type": "display_data",
          "data": {
            "text/html": [
              "<span style=\"color:cyan\"> |-Best step: 0</span>"
            ],
            "text/plain": [
              "<IPython.core.display.HTML object>"
            ]
          },
          "metadata": {
            "tags": []
          }
        },
        {
          "output_type": "stream",
          "text": [
            "Train on 86 samples, validate on 45 samples\n",
            "Epoch 5/10\n",
            "86/86 [==============================] - 0s 4ms/sample - loss: 7.0086 - accuracy: 0.3721 - val_loss: 5.0364 - val_accuracy: 0.2889\n",
            "Epoch 6/10\n",
            "86/86 [==============================] - 0s 241us/sample - loss: 6.7778 - accuracy: 0.4419 - val_loss: 5.0303 - val_accuracy: 0.2889\n",
            "Epoch 7/10\n",
            "86/86 [==============================] - 0s 351us/sample - loss: 6.5324 - accuracy: 0.4070 - val_loss: 5.0246 - val_accuracy: 0.2889\n",
            "Epoch 8/10\n",
            "86/86 [==============================] - 0s 230us/sample - loss: 6.3343 - accuracy: 0.4186 - val_loss: 5.0192 - val_accuracy: 0.2889\n",
            "Epoch 9/10\n",
            "86/86 [==============================] - 0s 284us/sample - loss: 5.5756 - accuracy: 0.4302 - val_loss: 5.0144 - val_accuracy: 0.2889\n",
            "Epoch 10/10\n",
            "86/86 [==============================] - 0s 275us/sample - loss: 7.2102 - accuracy: 0.4070 - val_loss: 5.0092 - val_accuracy: 0.2889\n"
          ],
          "name": "stdout"
        },
        {
          "output_type": "display_data",
          "data": {
            "text/html": [
              "<span style=\"color:#4527A0\"><h1 style=\"font-size:18px\">Trial complete</h1></span>"
            ],
            "text/plain": [
              "<IPython.core.display.HTML object>"
            ]
          },
          "metadata": {
            "tags": []
          }
        },
        {
          "output_type": "display_data",
          "data": {
            "text/html": [
              "<span style=\"color:#4527A0\"><h1 style=\"font-size:18px\">Trial summary</h1></span>"
            ],
            "text/plain": [
              "<IPython.core.display.HTML object>"
            ]
          },
          "metadata": {
            "tags": []
          }
        },
        {
          "output_type": "display_data",
          "data": {
            "text/html": [
              "<span style=\"color:#7E57C2\"><h2 style=\"font-size:16px\">Hp values:</h2></span>"
            ],
            "text/plain": [
              "<IPython.core.display.HTML object>"
            ]
          },
          "metadata": {
            "tags": []
          }
        },
        {
          "output_type": "display_data",
          "data": {
            "text/html": [
              "<span style=\"color:cyan\"> |-activation: linear</span>"
            ],
            "text/plain": [
              "<IPython.core.display.HTML object>"
            ]
          },
          "metadata": {
            "tags": []
          }
        },
        {
          "output_type": "display_data",
          "data": {
            "text/html": [
              "<span style=\"color:blue\"> |-drop_rate: 0.8</span>"
            ],
            "text/plain": [
              "<IPython.core.display.HTML object>"
            ]
          },
          "metadata": {
            "tags": []
          }
        },
        {
          "output_type": "display_data",
          "data": {
            "text/html": [
              "<span style=\"color:cyan\"> |-learning_rate: 0.0001</span>"
            ],
            "text/plain": [
              "<IPython.core.display.HTML object>"
            ]
          },
          "metadata": {
            "tags": []
          }
        },
        {
          "output_type": "display_data",
          "data": {
            "text/html": [
              "<span style=\"color:blue\"> |-tuner/bracket: 2</span>"
            ],
            "text/plain": [
              "<IPython.core.display.HTML object>"
            ]
          },
          "metadata": {
            "tags": []
          }
        },
        {
          "output_type": "display_data",
          "data": {
            "text/html": [
              "<span style=\"color:cyan\"> |-tuner/epochs: 10</span>"
            ],
            "text/plain": [
              "<IPython.core.display.HTML object>"
            ]
          },
          "metadata": {
            "tags": []
          }
        },
        {
          "output_type": "display_data",
          "data": {
            "text/html": [
              "<span style=\"color:blue\"> |-tuner/initial_epoch: 4</span>"
            ],
            "text/plain": [
              "<IPython.core.display.HTML object>"
            ]
          },
          "metadata": {
            "tags": []
          }
        },
        {
          "output_type": "display_data",
          "data": {
            "text/html": [
              "<span style=\"color:cyan\"> |-tuner/round: 2</span>"
            ],
            "text/plain": [
              "<IPython.core.display.HTML object>"
            ]
          },
          "metadata": {
            "tags": []
          }
        },
        {
          "output_type": "display_data",
          "data": {
            "text/html": [
              "<span style=\"color:blue\"> |-tuner/trial_id: c44a5ae05f9081c39bc2edb140424154</span>"
            ],
            "text/plain": [
              "<IPython.core.display.HTML object>"
            ]
          },
          "metadata": {
            "tags": []
          }
        },
        {
          "output_type": "display_data",
          "data": {
            "text/html": [
              "<span style=\"color:cyan\"> |-units: 6</span>"
            ],
            "text/plain": [
              "<IPython.core.display.HTML object>"
            ]
          },
          "metadata": {
            "tags": []
          }
        },
        {
          "output_type": "display_data",
          "data": {
            "text/html": [
              "<span style=\"color:blue\"> |-weight_init: he_normal</span>"
            ],
            "text/plain": [
              "<IPython.core.display.HTML object>"
            ]
          },
          "metadata": {
            "tags": []
          }
        },
        {
          "output_type": "display_data",
          "data": {
            "text/html": [
              "<span style=\"color:cyan\"> |-Score: 0.2888889014720917</span>"
            ],
            "text/plain": [
              "<IPython.core.display.HTML object>"
            ]
          },
          "metadata": {
            "tags": []
          }
        },
        {
          "output_type": "display_data",
          "data": {
            "text/html": [
              "<span style=\"color:cyan\"> |-Best step: 0</span>"
            ],
            "text/plain": [
              "<IPython.core.display.HTML object>"
            ]
          },
          "metadata": {
            "tags": []
          }
        },
        {
          "output_type": "stream",
          "text": [
            "Train on 86 samples, validate on 45 samples\n",
            "Epoch 1/4\n",
            "86/86 [==============================] - 0s 5ms/sample - loss: 1.0985 - accuracy: 0.2326 - val_loss: 1.0983 - val_accuracy: 0.3778\n",
            "Epoch 2/4\n",
            "86/86 [==============================] - 0s 349us/sample - loss: 1.0975 - accuracy: 0.4767 - val_loss: 1.0979 - val_accuracy: 0.4222\n",
            "Epoch 3/4\n",
            "86/86 [==============================] - 0s 282us/sample - loss: 1.0964 - accuracy: 0.5000 - val_loss: 1.0976 - val_accuracy: 0.3778\n",
            "Epoch 4/4\n",
            "86/86 [==============================] - 0s 265us/sample - loss: 1.0952 - accuracy: 0.5116 - val_loss: 1.0973 - val_accuracy: 0.4222\n"
          ],
          "name": "stdout"
        },
        {
          "output_type": "display_data",
          "data": {
            "text/html": [
              "<span style=\"color:#4527A0\"><h1 style=\"font-size:18px\">Trial complete</h1></span>"
            ],
            "text/plain": [
              "<IPython.core.display.HTML object>"
            ]
          },
          "metadata": {
            "tags": []
          }
        },
        {
          "output_type": "display_data",
          "data": {
            "text/html": [
              "<span style=\"color:#4527A0\"><h1 style=\"font-size:18px\">Trial summary</h1></span>"
            ],
            "text/plain": [
              "<IPython.core.display.HTML object>"
            ]
          },
          "metadata": {
            "tags": []
          }
        },
        {
          "output_type": "display_data",
          "data": {
            "text/html": [
              "<span style=\"color:#7E57C2\"><h2 style=\"font-size:16px\">Hp values:</h2></span>"
            ],
            "text/plain": [
              "<IPython.core.display.HTML object>"
            ]
          },
          "metadata": {
            "tags": []
          }
        },
        {
          "output_type": "display_data",
          "data": {
            "text/html": [
              "<span style=\"color:cyan\"> |-activation: linear</span>"
            ],
            "text/plain": [
              "<IPython.core.display.HTML object>"
            ]
          },
          "metadata": {
            "tags": []
          }
        },
        {
          "output_type": "display_data",
          "data": {
            "text/html": [
              "<span style=\"color:blue\"> |-drop_rate: 0.3</span>"
            ],
            "text/plain": [
              "<IPython.core.display.HTML object>"
            ]
          },
          "metadata": {
            "tags": []
          }
        },
        {
          "output_type": "display_data",
          "data": {
            "text/html": [
              "<span style=\"color:cyan\"> |-learning_rate: 0.0001</span>"
            ],
            "text/plain": [
              "<IPython.core.display.HTML object>"
            ]
          },
          "metadata": {
            "tags": []
          }
        },
        {
          "output_type": "display_data",
          "data": {
            "text/html": [
              "<span style=\"color:blue\"> |-tuner/bracket: 1</span>"
            ],
            "text/plain": [
              "<IPython.core.display.HTML object>"
            ]
          },
          "metadata": {
            "tags": []
          }
        },
        {
          "output_type": "display_data",
          "data": {
            "text/html": [
              "<span style=\"color:cyan\"> |-tuner/epochs: 4</span>"
            ],
            "text/plain": [
              "<IPython.core.display.HTML object>"
            ]
          },
          "metadata": {
            "tags": []
          }
        },
        {
          "output_type": "display_data",
          "data": {
            "text/html": [
              "<span style=\"color:blue\"> |-tuner/initial_epoch: 0</span>"
            ],
            "text/plain": [
              "<IPython.core.display.HTML object>"
            ]
          },
          "metadata": {
            "tags": []
          }
        },
        {
          "output_type": "display_data",
          "data": {
            "text/html": [
              "<span style=\"color:cyan\"> |-tuner/round: 0</span>"
            ],
            "text/plain": [
              "<IPython.core.display.HTML object>"
            ]
          },
          "metadata": {
            "tags": []
          }
        },
        {
          "output_type": "display_data",
          "data": {
            "text/html": [
              "<span style=\"color:blue\"> |-units: 7</span>"
            ],
            "text/plain": [
              "<IPython.core.display.HTML object>"
            ]
          },
          "metadata": {
            "tags": []
          }
        },
        {
          "output_type": "display_data",
          "data": {
            "text/html": [
              "<span style=\"color:cyan\"> |-weight_init: zero</span>"
            ],
            "text/plain": [
              "<IPython.core.display.HTML object>"
            ]
          },
          "metadata": {
            "tags": []
          }
        },
        {
          "output_type": "display_data",
          "data": {
            "text/html": [
              "<span style=\"color:cyan\"> |-Score: 0.42222222685813904</span>"
            ],
            "text/plain": [
              "<IPython.core.display.HTML object>"
            ]
          },
          "metadata": {
            "tags": []
          }
        },
        {
          "output_type": "display_data",
          "data": {
            "text/html": [
              "<span style=\"color:cyan\"> |-Best step: 0</span>"
            ],
            "text/plain": [
              "<IPython.core.display.HTML object>"
            ]
          },
          "metadata": {
            "tags": []
          }
        },
        {
          "output_type": "stream",
          "text": [
            "Train on 86 samples, validate on 45 samples\n",
            "Epoch 1/4\n",
            "86/86 [==============================] - 0s 5ms/sample - loss: 2.2068 - accuracy: 0.3023 - val_loss: 1.2401 - val_accuracy: 0.3111\n",
            "Epoch 2/4\n",
            "86/86 [==============================] - 0s 274us/sample - loss: 1.8523 - accuracy: 0.3837 - val_loss: 1.2383 - val_accuracy: 0.3111\n",
            "Epoch 3/4\n",
            "86/86 [==============================] - 0s 309us/sample - loss: 1.9018 - accuracy: 0.4186 - val_loss: 1.2364 - val_accuracy: 0.3111\n",
            "Epoch 4/4\n",
            "86/86 [==============================] - 0s 398us/sample - loss: 1.6915 - accuracy: 0.4535 - val_loss: 1.2344 - val_accuracy: 0.3111\n"
          ],
          "name": "stdout"
        },
        {
          "output_type": "display_data",
          "data": {
            "text/html": [
              "<span style=\"color:#4527A0\"><h1 style=\"font-size:18px\">Trial complete</h1></span>"
            ],
            "text/plain": [
              "<IPython.core.display.HTML object>"
            ]
          },
          "metadata": {
            "tags": []
          }
        },
        {
          "output_type": "display_data",
          "data": {
            "text/html": [
              "<span style=\"color:#4527A0\"><h1 style=\"font-size:18px\">Trial summary</h1></span>"
            ],
            "text/plain": [
              "<IPython.core.display.HTML object>"
            ]
          },
          "metadata": {
            "tags": []
          }
        },
        {
          "output_type": "display_data",
          "data": {
            "text/html": [
              "<span style=\"color:#7E57C2\"><h2 style=\"font-size:16px\">Hp values:</h2></span>"
            ],
            "text/plain": [
              "<IPython.core.display.HTML object>"
            ]
          },
          "metadata": {
            "tags": []
          }
        },
        {
          "output_type": "display_data",
          "data": {
            "text/html": [
              "<span style=\"color:cyan\"> |-activation: hard_sigmoid</span>"
            ],
            "text/plain": [
              "<IPython.core.display.HTML object>"
            ]
          },
          "metadata": {
            "tags": []
          }
        },
        {
          "output_type": "display_data",
          "data": {
            "text/html": [
              "<span style=\"color:blue\"> |-drop_rate: 0.9</span>"
            ],
            "text/plain": [
              "<IPython.core.display.HTML object>"
            ]
          },
          "metadata": {
            "tags": []
          }
        },
        {
          "output_type": "display_data",
          "data": {
            "text/html": [
              "<span style=\"color:cyan\"> |-learning_rate: 0.001</span>"
            ],
            "text/plain": [
              "<IPython.core.display.HTML object>"
            ]
          },
          "metadata": {
            "tags": []
          }
        },
        {
          "output_type": "display_data",
          "data": {
            "text/html": [
              "<span style=\"color:blue\"> |-tuner/bracket: 1</span>"
            ],
            "text/plain": [
              "<IPython.core.display.HTML object>"
            ]
          },
          "metadata": {
            "tags": []
          }
        },
        {
          "output_type": "display_data",
          "data": {
            "text/html": [
              "<span style=\"color:cyan\"> |-tuner/epochs: 4</span>"
            ],
            "text/plain": [
              "<IPython.core.display.HTML object>"
            ]
          },
          "metadata": {
            "tags": []
          }
        },
        {
          "output_type": "display_data",
          "data": {
            "text/html": [
              "<span style=\"color:blue\"> |-tuner/initial_epoch: 0</span>"
            ],
            "text/plain": [
              "<IPython.core.display.HTML object>"
            ]
          },
          "metadata": {
            "tags": []
          }
        },
        {
          "output_type": "display_data",
          "data": {
            "text/html": [
              "<span style=\"color:cyan\"> |-tuner/round: 0</span>"
            ],
            "text/plain": [
              "<IPython.core.display.HTML object>"
            ]
          },
          "metadata": {
            "tags": []
          }
        },
        {
          "output_type": "display_data",
          "data": {
            "text/html": [
              "<span style=\"color:blue\"> |-units: 5</span>"
            ],
            "text/plain": [
              "<IPython.core.display.HTML object>"
            ]
          },
          "metadata": {
            "tags": []
          }
        },
        {
          "output_type": "display_data",
          "data": {
            "text/html": [
              "<span style=\"color:cyan\"> |-weight_init: he_normal</span>"
            ],
            "text/plain": [
              "<IPython.core.display.HTML object>"
            ]
          },
          "metadata": {
            "tags": []
          }
        },
        {
          "output_type": "display_data",
          "data": {
            "text/html": [
              "<span style=\"color:cyan\"> |-Score: 0.31111112236976624</span>"
            ],
            "text/plain": [
              "<IPython.core.display.HTML object>"
            ]
          },
          "metadata": {
            "tags": []
          }
        },
        {
          "output_type": "display_data",
          "data": {
            "text/html": [
              "<span style=\"color:cyan\"> |-Best step: 0</span>"
            ],
            "text/plain": [
              "<IPython.core.display.HTML object>"
            ]
          },
          "metadata": {
            "tags": []
          }
        },
        {
          "output_type": "stream",
          "text": [
            "Train on 86 samples, validate on 45 samples\n",
            "Epoch 1/4\n",
            "86/86 [==============================] - 0s 4ms/sample - loss: 1.3700 - accuracy: 0.2209 - val_loss: 1.3250 - val_accuracy: 0.1778\n",
            "Epoch 2/4\n",
            "86/86 [==============================] - 0s 375us/sample - loss: 1.3065 - accuracy: 0.2326 - val_loss: 1.2682 - val_accuracy: 0.2444\n",
            "Epoch 3/4\n",
            "86/86 [==============================] - 0s 418us/sample - loss: 1.2461 - accuracy: 0.2674 - val_loss: 1.2182 - val_accuracy: 0.2889\n",
            "Epoch 4/4\n",
            "86/86 [==============================] - 0s 380us/sample - loss: 1.1950 - accuracy: 0.3605 - val_loss: 1.1743 - val_accuracy: 0.3111\n"
          ],
          "name": "stdout"
        },
        {
          "output_type": "display_data",
          "data": {
            "text/html": [
              "<span style=\"color:#4527A0\"><h1 style=\"font-size:18px\">Trial complete</h1></span>"
            ],
            "text/plain": [
              "<IPython.core.display.HTML object>"
            ]
          },
          "metadata": {
            "tags": []
          }
        },
        {
          "output_type": "display_data",
          "data": {
            "text/html": [
              "<span style=\"color:#4527A0\"><h1 style=\"font-size:18px\">Trial summary</h1></span>"
            ],
            "text/plain": [
              "<IPython.core.display.HTML object>"
            ]
          },
          "metadata": {
            "tags": []
          }
        },
        {
          "output_type": "display_data",
          "data": {
            "text/html": [
              "<span style=\"color:#7E57C2\"><h2 style=\"font-size:16px\">Hp values:</h2></span>"
            ],
            "text/plain": [
              "<IPython.core.display.HTML object>"
            ]
          },
          "metadata": {
            "tags": []
          }
        },
        {
          "output_type": "display_data",
          "data": {
            "text/html": [
              "<span style=\"color:cyan\"> |-activation: hard_sigmoid</span>"
            ],
            "text/plain": [
              "<IPython.core.display.HTML object>"
            ]
          },
          "metadata": {
            "tags": []
          }
        },
        {
          "output_type": "display_data",
          "data": {
            "text/html": [
              "<span style=\"color:blue\"> |-drop_rate: 0.0</span>"
            ],
            "text/plain": [
              "<IPython.core.display.HTML object>"
            ]
          },
          "metadata": {
            "tags": []
          }
        },
        {
          "output_type": "display_data",
          "data": {
            "text/html": [
              "<span style=\"color:cyan\"> |-learning_rate: 0.01</span>"
            ],
            "text/plain": [
              "<IPython.core.display.HTML object>"
            ]
          },
          "metadata": {
            "tags": []
          }
        },
        {
          "output_type": "display_data",
          "data": {
            "text/html": [
              "<span style=\"color:blue\"> |-tuner/bracket: 1</span>"
            ],
            "text/plain": [
              "<IPython.core.display.HTML object>"
            ]
          },
          "metadata": {
            "tags": []
          }
        },
        {
          "output_type": "display_data",
          "data": {
            "text/html": [
              "<span style=\"color:cyan\"> |-tuner/epochs: 4</span>"
            ],
            "text/plain": [
              "<IPython.core.display.HTML object>"
            ]
          },
          "metadata": {
            "tags": []
          }
        },
        {
          "output_type": "display_data",
          "data": {
            "text/html": [
              "<span style=\"color:blue\"> |-tuner/initial_epoch: 0</span>"
            ],
            "text/plain": [
              "<IPython.core.display.HTML object>"
            ]
          },
          "metadata": {
            "tags": []
          }
        },
        {
          "output_type": "display_data",
          "data": {
            "text/html": [
              "<span style=\"color:cyan\"> |-tuner/round: 0</span>"
            ],
            "text/plain": [
              "<IPython.core.display.HTML object>"
            ]
          },
          "metadata": {
            "tags": []
          }
        },
        {
          "output_type": "display_data",
          "data": {
            "text/html": [
              "<span style=\"color:blue\"> |-units: 4</span>"
            ],
            "text/plain": [
              "<IPython.core.display.HTML object>"
            ]
          },
          "metadata": {
            "tags": []
          }
        },
        {
          "output_type": "display_data",
          "data": {
            "text/html": [
              "<span style=\"color:cyan\"> |-weight_init: he_normal</span>"
            ],
            "text/plain": [
              "<IPython.core.display.HTML object>"
            ]
          },
          "metadata": {
            "tags": []
          }
        },
        {
          "output_type": "display_data",
          "data": {
            "text/html": [
              "<span style=\"color:cyan\"> |-Score: 0.31111112236976624</span>"
            ],
            "text/plain": [
              "<IPython.core.display.HTML object>"
            ]
          },
          "metadata": {
            "tags": []
          }
        },
        {
          "output_type": "display_data",
          "data": {
            "text/html": [
              "<span style=\"color:cyan\"> |-Best step: 0</span>"
            ],
            "text/plain": [
              "<IPython.core.display.HTML object>"
            ]
          },
          "metadata": {
            "tags": []
          }
        },
        {
          "output_type": "stream",
          "text": [
            "Train on 86 samples, validate on 45 samples\n",
            "Epoch 1/4\n",
            "86/86 [==============================] - 0s 5ms/sample - loss: 1.5549 - accuracy: 0.3023 - val_loss: 1.1610 - val_accuracy: 0.3556\n",
            "Epoch 2/4\n",
            "86/86 [==============================] - 0s 276us/sample - loss: 1.7255 - accuracy: 0.3372 - val_loss: 1.1402 - val_accuracy: 0.3333\n",
            "Epoch 3/4\n",
            "86/86 [==============================] - 0s 261us/sample - loss: 1.7506 - accuracy: 0.3953 - val_loss: 1.1227 - val_accuracy: 0.3556\n",
            "Epoch 4/4\n",
            "86/86 [==============================] - 0s 328us/sample - loss: 1.2611 - accuracy: 0.4186 - val_loss: 1.1058 - val_accuracy: 0.4000\n"
          ],
          "name": "stdout"
        },
        {
          "output_type": "display_data",
          "data": {
            "text/html": [
              "<span style=\"color:#4527A0\"><h1 style=\"font-size:18px\">Trial complete</h1></span>"
            ],
            "text/plain": [
              "<IPython.core.display.HTML object>"
            ]
          },
          "metadata": {
            "tags": []
          }
        },
        {
          "output_type": "display_data",
          "data": {
            "text/html": [
              "<span style=\"color:#4527A0\"><h1 style=\"font-size:18px\">Trial summary</h1></span>"
            ],
            "text/plain": [
              "<IPython.core.display.HTML object>"
            ]
          },
          "metadata": {
            "tags": []
          }
        },
        {
          "output_type": "display_data",
          "data": {
            "text/html": [
              "<span style=\"color:#7E57C2\"><h2 style=\"font-size:16px\">Hp values:</h2></span>"
            ],
            "text/plain": [
              "<IPython.core.display.HTML object>"
            ]
          },
          "metadata": {
            "tags": []
          }
        },
        {
          "output_type": "display_data",
          "data": {
            "text/html": [
              "<span style=\"color:cyan\"> |-activation: tanh</span>"
            ],
            "text/plain": [
              "<IPython.core.display.HTML object>"
            ]
          },
          "metadata": {
            "tags": []
          }
        },
        {
          "output_type": "display_data",
          "data": {
            "text/html": [
              "<span style=\"color:blue\"> |-drop_rate: 0.9</span>"
            ],
            "text/plain": [
              "<IPython.core.display.HTML object>"
            ]
          },
          "metadata": {
            "tags": []
          }
        },
        {
          "output_type": "display_data",
          "data": {
            "text/html": [
              "<span style=\"color:cyan\"> |-learning_rate: 0.01</span>"
            ],
            "text/plain": [
              "<IPython.core.display.HTML object>"
            ]
          },
          "metadata": {
            "tags": []
          }
        },
        {
          "output_type": "display_data",
          "data": {
            "text/html": [
              "<span style=\"color:blue\"> |-tuner/bracket: 1</span>"
            ],
            "text/plain": [
              "<IPython.core.display.HTML object>"
            ]
          },
          "metadata": {
            "tags": []
          }
        },
        {
          "output_type": "display_data",
          "data": {
            "text/html": [
              "<span style=\"color:cyan\"> |-tuner/epochs: 4</span>"
            ],
            "text/plain": [
              "<IPython.core.display.HTML object>"
            ]
          },
          "metadata": {
            "tags": []
          }
        },
        {
          "output_type": "display_data",
          "data": {
            "text/html": [
              "<span style=\"color:blue\"> |-tuner/initial_epoch: 0</span>"
            ],
            "text/plain": [
              "<IPython.core.display.HTML object>"
            ]
          },
          "metadata": {
            "tags": []
          }
        },
        {
          "output_type": "display_data",
          "data": {
            "text/html": [
              "<span style=\"color:cyan\"> |-tuner/round: 0</span>"
            ],
            "text/plain": [
              "<IPython.core.display.HTML object>"
            ]
          },
          "metadata": {
            "tags": []
          }
        },
        {
          "output_type": "display_data",
          "data": {
            "text/html": [
              "<span style=\"color:blue\"> |-units: 5</span>"
            ],
            "text/plain": [
              "<IPython.core.display.HTML object>"
            ]
          },
          "metadata": {
            "tags": []
          }
        },
        {
          "output_type": "display_data",
          "data": {
            "text/html": [
              "<span style=\"color:cyan\"> |-weight_init: glorot_uniform</span>"
            ],
            "text/plain": [
              "<IPython.core.display.HTML object>"
            ]
          },
          "metadata": {
            "tags": []
          }
        },
        {
          "output_type": "display_data",
          "data": {
            "text/html": [
              "<span style=\"color:cyan\"> |-Score: 0.4000000059604645</span>"
            ],
            "text/plain": [
              "<IPython.core.display.HTML object>"
            ]
          },
          "metadata": {
            "tags": []
          }
        },
        {
          "output_type": "display_data",
          "data": {
            "text/html": [
              "<span style=\"color:cyan\"> |-Best step: 0</span>"
            ],
            "text/plain": [
              "<IPython.core.display.HTML object>"
            ]
          },
          "metadata": {
            "tags": []
          }
        },
        {
          "output_type": "stream",
          "text": [
            "Train on 86 samples, validate on 45 samples\n",
            "Epoch 1/4\n",
            "86/86 [==============================] - 0s 5ms/sample - loss: 1.0960 - accuracy: 0.3140 - val_loss: 1.0764 - val_accuracy: 0.4444\n",
            "Epoch 2/4\n",
            "86/86 [==============================] - 0s 379us/sample - loss: 1.0164 - accuracy: 0.5581 - val_loss: 1.0511 - val_accuracy: 0.4889\n",
            "Epoch 3/4\n",
            "86/86 [==============================] - 0s 285us/sample - loss: 0.9529 - accuracy: 0.5465 - val_loss: 1.0453 - val_accuracy: 0.4889\n",
            "Epoch 4/4\n",
            "86/86 [==============================] - 0s 358us/sample - loss: 0.9426 - accuracy: 0.5698 - val_loss: 1.0335 - val_accuracy: 0.5111\n"
          ],
          "name": "stdout"
        },
        {
          "output_type": "display_data",
          "data": {
            "text/html": [
              "<span style=\"color:#4527A0\"><h1 style=\"font-size:18px\">Trial complete</h1></span>"
            ],
            "text/plain": [
              "<IPython.core.display.HTML object>"
            ]
          },
          "metadata": {
            "tags": []
          }
        },
        {
          "output_type": "display_data",
          "data": {
            "text/html": [
              "<span style=\"color:#4527A0\"><h1 style=\"font-size:18px\">Trial summary</h1></span>"
            ],
            "text/plain": [
              "<IPython.core.display.HTML object>"
            ]
          },
          "metadata": {
            "tags": []
          }
        },
        {
          "output_type": "display_data",
          "data": {
            "text/html": [
              "<span style=\"color:#7E57C2\"><h2 style=\"font-size:16px\">Hp values:</h2></span>"
            ],
            "text/plain": [
              "<IPython.core.display.HTML object>"
            ]
          },
          "metadata": {
            "tags": []
          }
        },
        {
          "output_type": "display_data",
          "data": {
            "text/html": [
              "<span style=\"color:cyan\"> |-activation: softsign</span>"
            ],
            "text/plain": [
              "<IPython.core.display.HTML object>"
            ]
          },
          "metadata": {
            "tags": []
          }
        },
        {
          "output_type": "display_data",
          "data": {
            "text/html": [
              "<span style=\"color:blue\"> |-drop_rate: 0.5</span>"
            ],
            "text/plain": [
              "<IPython.core.display.HTML object>"
            ]
          },
          "metadata": {
            "tags": []
          }
        },
        {
          "output_type": "display_data",
          "data": {
            "text/html": [
              "<span style=\"color:cyan\"> |-learning_rate: 0.01</span>"
            ],
            "text/plain": [
              "<IPython.core.display.HTML object>"
            ]
          },
          "metadata": {
            "tags": []
          }
        },
        {
          "output_type": "display_data",
          "data": {
            "text/html": [
              "<span style=\"color:blue\"> |-tuner/bracket: 1</span>"
            ],
            "text/plain": [
              "<IPython.core.display.HTML object>"
            ]
          },
          "metadata": {
            "tags": []
          }
        },
        {
          "output_type": "display_data",
          "data": {
            "text/html": [
              "<span style=\"color:cyan\"> |-tuner/epochs: 4</span>"
            ],
            "text/plain": [
              "<IPython.core.display.HTML object>"
            ]
          },
          "metadata": {
            "tags": []
          }
        },
        {
          "output_type": "display_data",
          "data": {
            "text/html": [
              "<span style=\"color:blue\"> |-tuner/initial_epoch: 0</span>"
            ],
            "text/plain": [
              "<IPython.core.display.HTML object>"
            ]
          },
          "metadata": {
            "tags": []
          }
        },
        {
          "output_type": "display_data",
          "data": {
            "text/html": [
              "<span style=\"color:cyan\"> |-tuner/round: 0</span>"
            ],
            "text/plain": [
              "<IPython.core.display.HTML object>"
            ]
          },
          "metadata": {
            "tags": []
          }
        },
        {
          "output_type": "display_data",
          "data": {
            "text/html": [
              "<span style=\"color:blue\"> |-units: 5</span>"
            ],
            "text/plain": [
              "<IPython.core.display.HTML object>"
            ]
          },
          "metadata": {
            "tags": []
          }
        },
        {
          "output_type": "display_data",
          "data": {
            "text/html": [
              "<span style=\"color:cyan\"> |-weight_init: zero</span>"
            ],
            "text/plain": [
              "<IPython.core.display.HTML object>"
            ]
          },
          "metadata": {
            "tags": []
          }
        },
        {
          "output_type": "display_data",
          "data": {
            "text/html": [
              "<span style=\"color:cyan\"> |-Score: 0.5111111402511597</span>"
            ],
            "text/plain": [
              "<IPython.core.display.HTML object>"
            ]
          },
          "metadata": {
            "tags": []
          }
        },
        {
          "output_type": "display_data",
          "data": {
            "text/html": [
              "<span style=\"color:cyan\"> |-Best step: 0</span>"
            ],
            "text/plain": [
              "<IPython.core.display.HTML object>"
            ]
          },
          "metadata": {
            "tags": []
          }
        },
        {
          "output_type": "stream",
          "text": [
            "Train on 86 samples, validate on 45 samples\n",
            "Epoch 1/4\n",
            "86/86 [==============================] - 0s 4ms/sample - loss: 4.0277 - accuracy: 0.3023 - val_loss: 3.1426 - val_accuracy: 0.2889\n",
            "Epoch 2/4\n",
            "86/86 [==============================] - 0s 298us/sample - loss: 3.4282 - accuracy: 0.4419 - val_loss: 3.1379 - val_accuracy: 0.2889\n",
            "Epoch 3/4\n",
            "86/86 [==============================] - 0s 276us/sample - loss: 3.9416 - accuracy: 0.2907 - val_loss: 3.1335 - val_accuracy: 0.2889\n",
            "Epoch 4/4\n",
            "86/86 [==============================] - 0s 262us/sample - loss: 4.1688 - accuracy: 0.3488 - val_loss: 3.1289 - val_accuracy: 0.2889\n"
          ],
          "name": "stdout"
        },
        {
          "output_type": "display_data",
          "data": {
            "text/html": [
              "<span style=\"color:#4527A0\"><h1 style=\"font-size:18px\">Trial complete</h1></span>"
            ],
            "text/plain": [
              "<IPython.core.display.HTML object>"
            ]
          },
          "metadata": {
            "tags": []
          }
        },
        {
          "output_type": "display_data",
          "data": {
            "text/html": [
              "<span style=\"color:#4527A0\"><h1 style=\"font-size:18px\">Trial summary</h1></span>"
            ],
            "text/plain": [
              "<IPython.core.display.HTML object>"
            ]
          },
          "metadata": {
            "tags": []
          }
        },
        {
          "output_type": "display_data",
          "data": {
            "text/html": [
              "<span style=\"color:#7E57C2\"><h2 style=\"font-size:16px\">Hp values:</h2></span>"
            ],
            "text/plain": [
              "<IPython.core.display.HTML object>"
            ]
          },
          "metadata": {
            "tags": []
          }
        },
        {
          "output_type": "display_data",
          "data": {
            "text/html": [
              "<span style=\"color:cyan\"> |-activation: softplus</span>"
            ],
            "text/plain": [
              "<IPython.core.display.HTML object>"
            ]
          },
          "metadata": {
            "tags": []
          }
        },
        {
          "output_type": "display_data",
          "data": {
            "text/html": [
              "<span style=\"color:blue\"> |-drop_rate: 0.3</span>"
            ],
            "text/plain": [
              "<IPython.core.display.HTML object>"
            ]
          },
          "metadata": {
            "tags": []
          }
        },
        {
          "output_type": "display_data",
          "data": {
            "text/html": [
              "<span style=\"color:cyan\"> |-learning_rate: 0.0001</span>"
            ],
            "text/plain": [
              "<IPython.core.display.HTML object>"
            ]
          },
          "metadata": {
            "tags": []
          }
        },
        {
          "output_type": "display_data",
          "data": {
            "text/html": [
              "<span style=\"color:blue\"> |-tuner/bracket: 1</span>"
            ],
            "text/plain": [
              "<IPython.core.display.HTML object>"
            ]
          },
          "metadata": {
            "tags": []
          }
        },
        {
          "output_type": "display_data",
          "data": {
            "text/html": [
              "<span style=\"color:cyan\"> |-tuner/epochs: 4</span>"
            ],
            "text/plain": [
              "<IPython.core.display.HTML object>"
            ]
          },
          "metadata": {
            "tags": []
          }
        },
        {
          "output_type": "display_data",
          "data": {
            "text/html": [
              "<span style=\"color:blue\"> |-tuner/initial_epoch: 0</span>"
            ],
            "text/plain": [
              "<IPython.core.display.HTML object>"
            ]
          },
          "metadata": {
            "tags": []
          }
        },
        {
          "output_type": "display_data",
          "data": {
            "text/html": [
              "<span style=\"color:cyan\"> |-tuner/round: 0</span>"
            ],
            "text/plain": [
              "<IPython.core.display.HTML object>"
            ]
          },
          "metadata": {
            "tags": []
          }
        },
        {
          "output_type": "display_data",
          "data": {
            "text/html": [
              "<span style=\"color:blue\"> |-units: 8</span>"
            ],
            "text/plain": [
              "<IPython.core.display.HTML object>"
            ]
          },
          "metadata": {
            "tags": []
          }
        },
        {
          "output_type": "display_data",
          "data": {
            "text/html": [
              "<span style=\"color:cyan\"> |-weight_init: he_uniform</span>"
            ],
            "text/plain": [
              "<IPython.core.display.HTML object>"
            ]
          },
          "metadata": {
            "tags": []
          }
        },
        {
          "output_type": "display_data",
          "data": {
            "text/html": [
              "<span style=\"color:cyan\"> |-Score: 0.2888889014720917</span>"
            ],
            "text/plain": [
              "<IPython.core.display.HTML object>"
            ]
          },
          "metadata": {
            "tags": []
          }
        },
        {
          "output_type": "display_data",
          "data": {
            "text/html": [
              "<span style=\"color:cyan\"> |-Best step: 0</span>"
            ],
            "text/plain": [
              "<IPython.core.display.HTML object>"
            ]
          },
          "metadata": {
            "tags": []
          }
        },
        {
          "output_type": "stream",
          "text": [
            "Train on 86 samples, validate on 45 samples\n",
            "Epoch 5/10\n",
            "86/86 [==============================] - 0s 5ms/sample - loss: 1.1059 - accuracy: 0.2674 - val_loss: 1.1045 - val_accuracy: 0.3778\n",
            "Epoch 6/10\n",
            "86/86 [==============================] - 0s 349us/sample - loss: 1.0599 - accuracy: 0.4186 - val_loss: 1.0803 - val_accuracy: 0.4000\n",
            "Epoch 7/10\n",
            "86/86 [==============================] - 0s 391us/sample - loss: 1.0328 - accuracy: 0.4419 - val_loss: 1.0429 - val_accuracy: 0.4667\n",
            "Epoch 8/10\n",
            "86/86 [==============================] - 0s 428us/sample - loss: 0.9628 - accuracy: 0.5233 - val_loss: 1.0181 - val_accuracy: 0.4889\n",
            "Epoch 9/10\n",
            "86/86 [==============================] - 0s 260us/sample - loss: 0.9422 - accuracy: 0.5930 - val_loss: 1.0066 - val_accuracy: 0.4889\n",
            "Epoch 10/10\n",
            "86/86 [==============================] - 0s 300us/sample - loss: 0.9453 - accuracy: 0.5698 - val_loss: 1.0049 - val_accuracy: 0.4889\n"
          ],
          "name": "stdout"
        },
        {
          "output_type": "display_data",
          "data": {
            "text/html": [
              "<span style=\"color:#4527A0\"><h1 style=\"font-size:18px\">Trial complete</h1></span>"
            ],
            "text/plain": [
              "<IPython.core.display.HTML object>"
            ]
          },
          "metadata": {
            "tags": []
          }
        },
        {
          "output_type": "display_data",
          "data": {
            "text/html": [
              "<span style=\"color:#4527A0\"><h1 style=\"font-size:18px\">Trial summary</h1></span>"
            ],
            "text/plain": [
              "<IPython.core.display.HTML object>"
            ]
          },
          "metadata": {
            "tags": []
          }
        },
        {
          "output_type": "display_data",
          "data": {
            "text/html": [
              "<span style=\"color:#7E57C2\"><h2 style=\"font-size:16px\">Hp values:</h2></span>"
            ],
            "text/plain": [
              "<IPython.core.display.HTML object>"
            ]
          },
          "metadata": {
            "tags": []
          }
        },
        {
          "output_type": "display_data",
          "data": {
            "text/html": [
              "<span style=\"color:cyan\"> |-activation: softsign</span>"
            ],
            "text/plain": [
              "<IPython.core.display.HTML object>"
            ]
          },
          "metadata": {
            "tags": []
          }
        },
        {
          "output_type": "display_data",
          "data": {
            "text/html": [
              "<span style=\"color:blue\"> |-drop_rate: 0.5</span>"
            ],
            "text/plain": [
              "<IPython.core.display.HTML object>"
            ]
          },
          "metadata": {
            "tags": []
          }
        },
        {
          "output_type": "display_data",
          "data": {
            "text/html": [
              "<span style=\"color:cyan\"> |-learning_rate: 0.01</span>"
            ],
            "text/plain": [
              "<IPython.core.display.HTML object>"
            ]
          },
          "metadata": {
            "tags": []
          }
        },
        {
          "output_type": "display_data",
          "data": {
            "text/html": [
              "<span style=\"color:blue\"> |-tuner/bracket: 1</span>"
            ],
            "text/plain": [
              "<IPython.core.display.HTML object>"
            ]
          },
          "metadata": {
            "tags": []
          }
        },
        {
          "output_type": "display_data",
          "data": {
            "text/html": [
              "<span style=\"color:cyan\"> |-tuner/epochs: 10</span>"
            ],
            "text/plain": [
              "<IPython.core.display.HTML object>"
            ]
          },
          "metadata": {
            "tags": []
          }
        },
        {
          "output_type": "display_data",
          "data": {
            "text/html": [
              "<span style=\"color:blue\"> |-tuner/initial_epoch: 4</span>"
            ],
            "text/plain": [
              "<IPython.core.display.HTML object>"
            ]
          },
          "metadata": {
            "tags": []
          }
        },
        {
          "output_type": "display_data",
          "data": {
            "text/html": [
              "<span style=\"color:cyan\"> |-tuner/round: 1</span>"
            ],
            "text/plain": [
              "<IPython.core.display.HTML object>"
            ]
          },
          "metadata": {
            "tags": []
          }
        },
        {
          "output_type": "display_data",
          "data": {
            "text/html": [
              "<span style=\"color:blue\"> |-tuner/trial_id: cb899d870c2e6af3da75313488724971</span>"
            ],
            "text/plain": [
              "<IPython.core.display.HTML object>"
            ]
          },
          "metadata": {
            "tags": []
          }
        },
        {
          "output_type": "display_data",
          "data": {
            "text/html": [
              "<span style=\"color:cyan\"> |-units: 5</span>"
            ],
            "text/plain": [
              "<IPython.core.display.HTML object>"
            ]
          },
          "metadata": {
            "tags": []
          }
        },
        {
          "output_type": "display_data",
          "data": {
            "text/html": [
              "<span style=\"color:blue\"> |-weight_init: zero</span>"
            ],
            "text/plain": [
              "<IPython.core.display.HTML object>"
            ]
          },
          "metadata": {
            "tags": []
          }
        },
        {
          "output_type": "display_data",
          "data": {
            "text/html": [
              "<span style=\"color:cyan\"> |-Score: 0.4888888895511627</span>"
            ],
            "text/plain": [
              "<IPython.core.display.HTML object>"
            ]
          },
          "metadata": {
            "tags": []
          }
        },
        {
          "output_type": "display_data",
          "data": {
            "text/html": [
              "<span style=\"color:cyan\"> |-Best step: 0</span>"
            ],
            "text/plain": [
              "<IPython.core.display.HTML object>"
            ]
          },
          "metadata": {
            "tags": []
          }
        },
        {
          "output_type": "stream",
          "text": [
            "Train on 86 samples, validate on 45 samples\n",
            "Epoch 5/10\n",
            "86/86 [==============================] - 0s 4ms/sample - loss: 1.0984 - accuracy: 0.2558 - val_loss: 1.0972 - val_accuracy: 0.4444\n",
            "Epoch 6/10\n",
            "86/86 [==============================] - 0s 406us/sample - loss: 1.0955 - accuracy: 0.5698 - val_loss: 1.0961 - val_accuracy: 0.4667\n",
            "Epoch 7/10\n",
            "86/86 [==============================] - 0s 232us/sample - loss: 1.0940 - accuracy: 0.5581 - val_loss: 1.0949 - val_accuracy: 0.4444\n",
            "Epoch 8/10\n",
            "86/86 [==============================] - 0s 258us/sample - loss: 1.0925 - accuracy: 0.5581 - val_loss: 1.0939 - val_accuracy: 0.4667\n",
            "Epoch 9/10\n",
            "86/86 [==============================] - 0s 385us/sample - loss: 1.0899 - accuracy: 0.5814 - val_loss: 1.0929 - val_accuracy: 0.4889\n",
            "Epoch 10/10\n",
            "86/86 [==============================] - 0s 376us/sample - loss: 1.0894 - accuracy: 0.5814 - val_loss: 1.0920 - val_accuracy: 0.5111\n"
          ],
          "name": "stdout"
        },
        {
          "output_type": "display_data",
          "data": {
            "text/html": [
              "<span style=\"color:#4527A0\"><h1 style=\"font-size:18px\">Trial complete</h1></span>"
            ],
            "text/plain": [
              "<IPython.core.display.HTML object>"
            ]
          },
          "metadata": {
            "tags": []
          }
        },
        {
          "output_type": "display_data",
          "data": {
            "text/html": [
              "<span style=\"color:#4527A0\"><h1 style=\"font-size:18px\">Trial summary</h1></span>"
            ],
            "text/plain": [
              "<IPython.core.display.HTML object>"
            ]
          },
          "metadata": {
            "tags": []
          }
        },
        {
          "output_type": "display_data",
          "data": {
            "text/html": [
              "<span style=\"color:#7E57C2\"><h2 style=\"font-size:16px\">Hp values:</h2></span>"
            ],
            "text/plain": [
              "<IPython.core.display.HTML object>"
            ]
          },
          "metadata": {
            "tags": []
          }
        },
        {
          "output_type": "display_data",
          "data": {
            "text/html": [
              "<span style=\"color:cyan\"> |-activation: linear</span>"
            ],
            "text/plain": [
              "<IPython.core.display.HTML object>"
            ]
          },
          "metadata": {
            "tags": []
          }
        },
        {
          "output_type": "display_data",
          "data": {
            "text/html": [
              "<span style=\"color:blue\"> |-drop_rate: 0.3</span>"
            ],
            "text/plain": [
              "<IPython.core.display.HTML object>"
            ]
          },
          "metadata": {
            "tags": []
          }
        },
        {
          "output_type": "display_data",
          "data": {
            "text/html": [
              "<span style=\"color:cyan\"> |-learning_rate: 0.0001</span>"
            ],
            "text/plain": [
              "<IPython.core.display.HTML object>"
            ]
          },
          "metadata": {
            "tags": []
          }
        },
        {
          "output_type": "display_data",
          "data": {
            "text/html": [
              "<span style=\"color:blue\"> |-tuner/bracket: 1</span>"
            ],
            "text/plain": [
              "<IPython.core.display.HTML object>"
            ]
          },
          "metadata": {
            "tags": []
          }
        },
        {
          "output_type": "display_data",
          "data": {
            "text/html": [
              "<span style=\"color:cyan\"> |-tuner/epochs: 10</span>"
            ],
            "text/plain": [
              "<IPython.core.display.HTML object>"
            ]
          },
          "metadata": {
            "tags": []
          }
        },
        {
          "output_type": "display_data",
          "data": {
            "text/html": [
              "<span style=\"color:blue\"> |-tuner/initial_epoch: 4</span>"
            ],
            "text/plain": [
              "<IPython.core.display.HTML object>"
            ]
          },
          "metadata": {
            "tags": []
          }
        },
        {
          "output_type": "display_data",
          "data": {
            "text/html": [
              "<span style=\"color:cyan\"> |-tuner/round: 1</span>"
            ],
            "text/plain": [
              "<IPython.core.display.HTML object>"
            ]
          },
          "metadata": {
            "tags": []
          }
        },
        {
          "output_type": "display_data",
          "data": {
            "text/html": [
              "<span style=\"color:blue\"> |-tuner/trial_id: 21fc3fed1d39302cad1185ba838754e7</span>"
            ],
            "text/plain": [
              "<IPython.core.display.HTML object>"
            ]
          },
          "metadata": {
            "tags": []
          }
        },
        {
          "output_type": "display_data",
          "data": {
            "text/html": [
              "<span style=\"color:cyan\"> |-units: 7</span>"
            ],
            "text/plain": [
              "<IPython.core.display.HTML object>"
            ]
          },
          "metadata": {
            "tags": []
          }
        },
        {
          "output_type": "display_data",
          "data": {
            "text/html": [
              "<span style=\"color:blue\"> |-weight_init: zero</span>"
            ],
            "text/plain": [
              "<IPython.core.display.HTML object>"
            ]
          },
          "metadata": {
            "tags": []
          }
        },
        {
          "output_type": "display_data",
          "data": {
            "text/html": [
              "<span style=\"color:cyan\"> |-Score: 0.5111111402511597</span>"
            ],
            "text/plain": [
              "<IPython.core.display.HTML object>"
            ]
          },
          "metadata": {
            "tags": []
          }
        },
        {
          "output_type": "display_data",
          "data": {
            "text/html": [
              "<span style=\"color:cyan\"> |-Best step: 0</span>"
            ],
            "text/plain": [
              "<IPython.core.display.HTML object>"
            ]
          },
          "metadata": {
            "tags": []
          }
        },
        {
          "output_type": "stream",
          "text": [
            "Train on 86 samples, validate on 45 samples\n",
            "Epoch 1/10\n",
            "86/86 [==============================] - 0s 5ms/sample - loss: 1.4051 - accuracy: 0.3372 - val_loss: 1.1449 - val_accuracy: 0.4222\n",
            "Epoch 2/10\n",
            "86/86 [==============================] - 0s 240us/sample - loss: 1.2846 - accuracy: 0.3721 - val_loss: 1.1446 - val_accuracy: 0.4222\n",
            "Epoch 3/10\n",
            "86/86 [==============================] - 0s 296us/sample - loss: 1.3419 - accuracy: 0.3372 - val_loss: 1.1443 - val_accuracy: 0.4222\n",
            "Epoch 4/10\n",
            "86/86 [==============================] - 0s 254us/sample - loss: 1.3509 - accuracy: 0.3372 - val_loss: 1.1440 - val_accuracy: 0.4222\n",
            "Epoch 5/10\n",
            "86/86 [==============================] - 0s 260us/sample - loss: 1.4156 - accuracy: 0.3605 - val_loss: 1.1437 - val_accuracy: 0.4222\n",
            "Epoch 6/10\n",
            "86/86 [==============================] - 0s 300us/sample - loss: 1.3879 - accuracy: 0.3605 - val_loss: 1.1434 - val_accuracy: 0.4222\n",
            "Epoch 7/10\n",
            "86/86 [==============================] - 0s 346us/sample - loss: 1.4643 - accuracy: 0.2791 - val_loss: 1.1431 - val_accuracy: 0.4222\n",
            "Epoch 8/10\n",
            "86/86 [==============================] - 0s 499us/sample - loss: 1.3847 - accuracy: 0.3023 - val_loss: 1.1427 - val_accuracy: 0.4222\n",
            "Epoch 9/10\n",
            "86/86 [==============================] - 0s 264us/sample - loss: 1.4189 - accuracy: 0.3023 - val_loss: 1.1424 - val_accuracy: 0.4222\n",
            "Epoch 10/10\n",
            "86/86 [==============================] - 0s 260us/sample - loss: 1.4012 - accuracy: 0.3488 - val_loss: 1.1421 - val_accuracy: 0.4222\n"
          ],
          "name": "stdout"
        },
        {
          "output_type": "display_data",
          "data": {
            "text/html": [
              "<span style=\"color:#4527A0\"><h1 style=\"font-size:18px\">Trial complete</h1></span>"
            ],
            "text/plain": [
              "<IPython.core.display.HTML object>"
            ]
          },
          "metadata": {
            "tags": []
          }
        },
        {
          "output_type": "display_data",
          "data": {
            "text/html": [
              "<span style=\"color:#4527A0\"><h1 style=\"font-size:18px\">Trial summary</h1></span>"
            ],
            "text/plain": [
              "<IPython.core.display.HTML object>"
            ]
          },
          "metadata": {
            "tags": []
          }
        },
        {
          "output_type": "display_data",
          "data": {
            "text/html": [
              "<span style=\"color:#7E57C2\"><h2 style=\"font-size:16px\">Hp values:</h2></span>"
            ],
            "text/plain": [
              "<IPython.core.display.HTML object>"
            ]
          },
          "metadata": {
            "tags": []
          }
        },
        {
          "output_type": "display_data",
          "data": {
            "text/html": [
              "<span style=\"color:cyan\"> |-activation: hard_sigmoid</span>"
            ],
            "text/plain": [
              "<IPython.core.display.HTML object>"
            ]
          },
          "metadata": {
            "tags": []
          }
        },
        {
          "output_type": "display_data",
          "data": {
            "text/html": [
              "<span style=\"color:blue\"> |-drop_rate: 0.4</span>"
            ],
            "text/plain": [
              "<IPython.core.display.HTML object>"
            ]
          },
          "metadata": {
            "tags": []
          }
        },
        {
          "output_type": "display_data",
          "data": {
            "text/html": [
              "<span style=\"color:cyan\"> |-learning_rate: 0.0001</span>"
            ],
            "text/plain": [
              "<IPython.core.display.HTML object>"
            ]
          },
          "metadata": {
            "tags": []
          }
        },
        {
          "output_type": "display_data",
          "data": {
            "text/html": [
              "<span style=\"color:blue\"> |-tuner/bracket: 0</span>"
            ],
            "text/plain": [
              "<IPython.core.display.HTML object>"
            ]
          },
          "metadata": {
            "tags": []
          }
        },
        {
          "output_type": "display_data",
          "data": {
            "text/html": [
              "<span style=\"color:cyan\"> |-tuner/epochs: 10</span>"
            ],
            "text/plain": [
              "<IPython.core.display.HTML object>"
            ]
          },
          "metadata": {
            "tags": []
          }
        },
        {
          "output_type": "display_data",
          "data": {
            "text/html": [
              "<span style=\"color:blue\"> |-tuner/initial_epoch: 0</span>"
            ],
            "text/plain": [
              "<IPython.core.display.HTML object>"
            ]
          },
          "metadata": {
            "tags": []
          }
        },
        {
          "output_type": "display_data",
          "data": {
            "text/html": [
              "<span style=\"color:cyan\"> |-tuner/round: 0</span>"
            ],
            "text/plain": [
              "<IPython.core.display.HTML object>"
            ]
          },
          "metadata": {
            "tags": []
          }
        },
        {
          "output_type": "display_data",
          "data": {
            "text/html": [
              "<span style=\"color:blue\"> |-units: 7</span>"
            ],
            "text/plain": [
              "<IPython.core.display.HTML object>"
            ]
          },
          "metadata": {
            "tags": []
          }
        },
        {
          "output_type": "display_data",
          "data": {
            "text/html": [
              "<span style=\"color:cyan\"> |-weight_init: he_uniform</span>"
            ],
            "text/plain": [
              "<IPython.core.display.HTML object>"
            ]
          },
          "metadata": {
            "tags": []
          }
        },
        {
          "output_type": "display_data",
          "data": {
            "text/html": [
              "<span style=\"color:cyan\"> |-Score: 0.42222222685813904</span>"
            ],
            "text/plain": [
              "<IPython.core.display.HTML object>"
            ]
          },
          "metadata": {
            "tags": []
          }
        },
        {
          "output_type": "display_data",
          "data": {
            "text/html": [
              "<span style=\"color:cyan\"> |-Best step: 0</span>"
            ],
            "text/plain": [
              "<IPython.core.display.HTML object>"
            ]
          },
          "metadata": {
            "tags": []
          }
        },
        {
          "output_type": "stream",
          "text": [
            "Train on 86 samples, validate on 45 samples\n",
            "Epoch 1/10\n",
            "86/86 [==============================] - 0s 5ms/sample - loss: 1.5744 - accuracy: 0.3256 - val_loss: 1.1285 - val_accuracy: 0.4667\n",
            "Epoch 2/10\n",
            "86/86 [==============================] - 0s 394us/sample - loss: 1.9386 - accuracy: 0.4651 - val_loss: 1.1264 - val_accuracy: 0.5111\n",
            "Epoch 3/10\n",
            "86/86 [==============================] - 0s 286us/sample - loss: 1.5867 - accuracy: 0.3837 - val_loss: 1.1248 - val_accuracy: 0.5111\n",
            "Epoch 4/10\n",
            "86/86 [==============================] - 0s 254us/sample - loss: 1.8478 - accuracy: 0.4302 - val_loss: 1.1232 - val_accuracy: 0.5111\n",
            "Epoch 5/10\n",
            "86/86 [==============================] - 0s 370us/sample - loss: 1.9406 - accuracy: 0.4302 - val_loss: 1.1218 - val_accuracy: 0.5111\n",
            "Epoch 6/10\n",
            "86/86 [==============================] - 0s 279us/sample - loss: 1.9825 - accuracy: 0.3953 - val_loss: 1.1205 - val_accuracy: 0.5111\n",
            "Epoch 7/10\n",
            "86/86 [==============================] - 0s 317us/sample - loss: 1.6701 - accuracy: 0.4186 - val_loss: 1.1195 - val_accuracy: 0.5111\n",
            "Epoch 8/10\n",
            "86/86 [==============================] - 0s 326us/sample - loss: 1.4658 - accuracy: 0.5116 - val_loss: 1.1189 - val_accuracy: 0.5111\n",
            "Epoch 9/10\n",
            "86/86 [==============================] - 0s 275us/sample - loss: 1.6609 - accuracy: 0.4651 - val_loss: 1.1182 - val_accuracy: 0.5111\n",
            "Epoch 10/10\n",
            "86/86 [==============================] - 0s 267us/sample - loss: 1.5823 - accuracy: 0.4535 - val_loss: 1.1174 - val_accuracy: 0.5111\n"
          ],
          "name": "stdout"
        },
        {
          "output_type": "display_data",
          "data": {
            "text/html": [
              "<span style=\"color:#4527A0\"><h1 style=\"font-size:18px\">Trial complete</h1></span>"
            ],
            "text/plain": [
              "<IPython.core.display.HTML object>"
            ]
          },
          "metadata": {
            "tags": []
          }
        },
        {
          "output_type": "display_data",
          "data": {
            "text/html": [
              "<span style=\"color:#4527A0\"><h1 style=\"font-size:18px\">Trial summary</h1></span>"
            ],
            "text/plain": [
              "<IPython.core.display.HTML object>"
            ]
          },
          "metadata": {
            "tags": []
          }
        },
        {
          "output_type": "display_data",
          "data": {
            "text/html": [
              "<span style=\"color:#7E57C2\"><h2 style=\"font-size:16px\">Hp values:</h2></span>"
            ],
            "text/plain": [
              "<IPython.core.display.HTML object>"
            ]
          },
          "metadata": {
            "tags": []
          }
        },
        {
          "output_type": "display_data",
          "data": {
            "text/html": [
              "<span style=\"color:cyan\"> |-activation: softsign</span>"
            ],
            "text/plain": [
              "<IPython.core.display.HTML object>"
            ]
          },
          "metadata": {
            "tags": []
          }
        },
        {
          "output_type": "display_data",
          "data": {
            "text/html": [
              "<span style=\"color:blue\"> |-drop_rate: 0.9</span>"
            ],
            "text/plain": [
              "<IPython.core.display.HTML object>"
            ]
          },
          "metadata": {
            "tags": []
          }
        },
        {
          "output_type": "display_data",
          "data": {
            "text/html": [
              "<span style=\"color:cyan\"> |-learning_rate: 0.001</span>"
            ],
            "text/plain": [
              "<IPython.core.display.HTML object>"
            ]
          },
          "metadata": {
            "tags": []
          }
        },
        {
          "output_type": "display_data",
          "data": {
            "text/html": [
              "<span style=\"color:blue\"> |-tuner/bracket: 0</span>"
            ],
            "text/plain": [
              "<IPython.core.display.HTML object>"
            ]
          },
          "metadata": {
            "tags": []
          }
        },
        {
          "output_type": "display_data",
          "data": {
            "text/html": [
              "<span style=\"color:cyan\"> |-tuner/epochs: 10</span>"
            ],
            "text/plain": [
              "<IPython.core.display.HTML object>"
            ]
          },
          "metadata": {
            "tags": []
          }
        },
        {
          "output_type": "display_data",
          "data": {
            "text/html": [
              "<span style=\"color:blue\"> |-tuner/initial_epoch: 0</span>"
            ],
            "text/plain": [
              "<IPython.core.display.HTML object>"
            ]
          },
          "metadata": {
            "tags": []
          }
        },
        {
          "output_type": "display_data",
          "data": {
            "text/html": [
              "<span style=\"color:cyan\"> |-tuner/round: 0</span>"
            ],
            "text/plain": [
              "<IPython.core.display.HTML object>"
            ]
          },
          "metadata": {
            "tags": []
          }
        },
        {
          "output_type": "display_data",
          "data": {
            "text/html": [
              "<span style=\"color:blue\"> |-units: 4</span>"
            ],
            "text/plain": [
              "<IPython.core.display.HTML object>"
            ]
          },
          "metadata": {
            "tags": []
          }
        },
        {
          "output_type": "display_data",
          "data": {
            "text/html": [
              "<span style=\"color:cyan\"> |-weight_init: glorot_uniform</span>"
            ],
            "text/plain": [
              "<IPython.core.display.HTML object>"
            ]
          },
          "metadata": {
            "tags": []
          }
        },
        {
          "output_type": "display_data",
          "data": {
            "text/html": [
              "<span style=\"color:cyan\"> |-Score: 0.5111111402511597</span>"
            ],
            "text/plain": [
              "<IPython.core.display.HTML object>"
            ]
          },
          "metadata": {
            "tags": []
          }
        },
        {
          "output_type": "display_data",
          "data": {
            "text/html": [
              "<span style=\"color:cyan\"> |-Best step: 0</span>"
            ],
            "text/plain": [
              "<IPython.core.display.HTML object>"
            ]
          },
          "metadata": {
            "tags": []
          }
        },
        {
          "output_type": "stream",
          "text": [
            "Train on 86 samples, validate on 45 samples\n",
            "Epoch 1/10\n",
            "86/86 [==============================] - 0s 5ms/sample - loss: 1.1713 - accuracy: 0.3488 - val_loss: 1.0456 - val_accuracy: 0.4222\n",
            "Epoch 2/10\n",
            "86/86 [==============================] - 0s 369us/sample - loss: 1.0894 - accuracy: 0.3837 - val_loss: 1.0178 - val_accuracy: 0.4667\n",
            "Epoch 3/10\n",
            "86/86 [==============================] - 0s 258us/sample - loss: 0.9898 - accuracy: 0.5000 - val_loss: 1.0010 - val_accuracy: 0.4222\n",
            "Epoch 4/10\n",
            "86/86 [==============================] - 0s 424us/sample - loss: 0.9855 - accuracy: 0.5465 - val_loss: 0.9924 - val_accuracy: 0.5111\n",
            "Epoch 5/10\n",
            "86/86 [==============================] - 0s 287us/sample - loss: 0.9614 - accuracy: 0.5349 - val_loss: 0.9905 - val_accuracy: 0.5111\n",
            "Epoch 6/10\n",
            "86/86 [==============================] - 0s 253us/sample - loss: 1.0008 - accuracy: 0.6163 - val_loss: 0.9886 - val_accuracy: 0.5111\n",
            "Epoch 7/10\n",
            "86/86 [==============================] - 0s 367us/sample - loss: 0.9413 - accuracy: 0.6047 - val_loss: 0.9900 - val_accuracy: 0.5333\n",
            "Epoch 8/10\n",
            "86/86 [==============================] - 0s 294us/sample - loss: 0.9515 - accuracy: 0.5233 - val_loss: 0.9930 - val_accuracy: 0.5111\n",
            "Epoch 9/10\n",
            "86/86 [==============================] - 0s 276us/sample - loss: 0.9499 - accuracy: 0.5930 - val_loss: 0.9961 - val_accuracy: 0.5111\n",
            "Epoch 10/10\n",
            "86/86 [==============================] - 0s 247us/sample - loss: 0.9283 - accuracy: 0.5814 - val_loss: 1.0008 - val_accuracy: 0.5111\n"
          ],
          "name": "stdout"
        },
        {
          "output_type": "display_data",
          "data": {
            "text/html": [
              "<span style=\"color:#4527A0\"><h1 style=\"font-size:18px\">Trial complete</h1></span>"
            ],
            "text/plain": [
              "<IPython.core.display.HTML object>"
            ]
          },
          "metadata": {
            "tags": []
          }
        },
        {
          "output_type": "display_data",
          "data": {
            "text/html": [
              "<span style=\"color:#4527A0\"><h1 style=\"font-size:18px\">Trial summary</h1></span>"
            ],
            "text/plain": [
              "<IPython.core.display.HTML object>"
            ]
          },
          "metadata": {
            "tags": []
          }
        },
        {
          "output_type": "display_data",
          "data": {
            "text/html": [
              "<span style=\"color:#7E57C2\"><h2 style=\"font-size:16px\">Hp values:</h2></span>"
            ],
            "text/plain": [
              "<IPython.core.display.HTML object>"
            ]
          },
          "metadata": {
            "tags": []
          }
        },
        {
          "output_type": "display_data",
          "data": {
            "text/html": [
              "<span style=\"color:cyan\"> |-activation: hard_sigmoid</span>"
            ],
            "text/plain": [
              "<IPython.core.display.HTML object>"
            ]
          },
          "metadata": {
            "tags": []
          }
        },
        {
          "output_type": "display_data",
          "data": {
            "text/html": [
              "<span style=\"color:blue\"> |-drop_rate: 0.3</span>"
            ],
            "text/plain": [
              "<IPython.core.display.HTML object>"
            ]
          },
          "metadata": {
            "tags": []
          }
        },
        {
          "output_type": "display_data",
          "data": {
            "text/html": [
              "<span style=\"color:cyan\"> |-learning_rate: 0.01</span>"
            ],
            "text/plain": [
              "<IPython.core.display.HTML object>"
            ]
          },
          "metadata": {
            "tags": []
          }
        },
        {
          "output_type": "display_data",
          "data": {
            "text/html": [
              "<span style=\"color:blue\"> |-tuner/bracket: 0</span>"
            ],
            "text/plain": [
              "<IPython.core.display.HTML object>"
            ]
          },
          "metadata": {
            "tags": []
          }
        },
        {
          "output_type": "display_data",
          "data": {
            "text/html": [
              "<span style=\"color:cyan\"> |-tuner/epochs: 10</span>"
            ],
            "text/plain": [
              "<IPython.core.display.HTML object>"
            ]
          },
          "metadata": {
            "tags": []
          }
        },
        {
          "output_type": "display_data",
          "data": {
            "text/html": [
              "<span style=\"color:blue\"> |-tuner/initial_epoch: 0</span>"
            ],
            "text/plain": [
              "<IPython.core.display.HTML object>"
            ]
          },
          "metadata": {
            "tags": []
          }
        },
        {
          "output_type": "display_data",
          "data": {
            "text/html": [
              "<span style=\"color:cyan\"> |-tuner/round: 0</span>"
            ],
            "text/plain": [
              "<IPython.core.display.HTML object>"
            ]
          },
          "metadata": {
            "tags": []
          }
        },
        {
          "output_type": "display_data",
          "data": {
            "text/html": [
              "<span style=\"color:blue\"> |-units: 5</span>"
            ],
            "text/plain": [
              "<IPython.core.display.HTML object>"
            ]
          },
          "metadata": {
            "tags": []
          }
        },
        {
          "output_type": "display_data",
          "data": {
            "text/html": [
              "<span style=\"color:cyan\"> |-weight_init: normal</span>"
            ],
            "text/plain": [
              "<IPython.core.display.HTML object>"
            ]
          },
          "metadata": {
            "tags": []
          }
        },
        {
          "output_type": "display_data",
          "data": {
            "text/html": [
              "<span style=\"color:cyan\"> |-Score: 0.5333333611488342</span>"
            ],
            "text/plain": [
              "<IPython.core.display.HTML object>"
            ]
          },
          "metadata": {
            "tags": []
          }
        },
        {
          "output_type": "display_data",
          "data": {
            "text/html": [
              "<span style=\"color:cyan\"> |-Best step: 0</span>"
            ],
            "text/plain": [
              "<IPython.core.display.HTML object>"
            ]
          },
          "metadata": {
            "tags": []
          }
        },
        {
          "output_type": "stream",
          "text": [
            "Train on 86 samples, validate on 45 samples\n",
            "Epoch 1/10\n",
            "86/86 [==============================] - 0s 4ms/sample - loss: 1.0108 - accuracy: 0.4884 - val_loss: 0.9585 - val_accuracy: 0.4667\n",
            "Epoch 2/10\n",
            "86/86 [==============================] - 0s 307us/sample - loss: 1.0105 - accuracy: 0.4767 - val_loss: 0.9584 - val_accuracy: 0.4667\n",
            "Epoch 3/10\n",
            "86/86 [==============================] - 0s 301us/sample - loss: 1.0102 - accuracy: 0.4767 - val_loss: 0.9582 - val_accuracy: 0.4667\n",
            "Epoch 4/10\n",
            "86/86 [==============================] - 0s 399us/sample - loss: 1.0099 - accuracy: 0.4767 - val_loss: 0.9581 - val_accuracy: 0.4889\n",
            "Epoch 5/10\n",
            "86/86 [==============================] - 0s 296us/sample - loss: 1.0097 - accuracy: 0.4767 - val_loss: 0.9580 - val_accuracy: 0.4889\n",
            "Epoch 6/10\n",
            "86/86 [==============================] - 0s 251us/sample - loss: 1.0094 - accuracy: 0.4767 - val_loss: 0.9579 - val_accuracy: 0.4889\n",
            "Epoch 7/10\n",
            "86/86 [==============================] - 0s 276us/sample - loss: 1.0091 - accuracy: 0.4767 - val_loss: 0.9577 - val_accuracy: 0.4889\n",
            "Epoch 8/10\n",
            "86/86 [==============================] - 0s 288us/sample - loss: 1.0089 - accuracy: 0.4767 - val_loss: 0.9576 - val_accuracy: 0.4889\n",
            "Epoch 9/10\n",
            "86/86 [==============================] - 0s 290us/sample - loss: 1.0087 - accuracy: 0.4767 - val_loss: 0.9575 - val_accuracy: 0.4889\n",
            "Epoch 10/10\n",
            "86/86 [==============================] - 0s 266us/sample - loss: 1.0084 - accuracy: 0.4767 - val_loss: 0.9574 - val_accuracy: 0.4889\n"
          ],
          "name": "stdout"
        },
        {
          "output_type": "display_data",
          "data": {
            "text/html": [
              "<span style=\"color:#4527A0\"><h1 style=\"font-size:18px\">Trial complete</h1></span>"
            ],
            "text/plain": [
              "<IPython.core.display.HTML object>"
            ]
          },
          "metadata": {
            "tags": []
          }
        },
        {
          "output_type": "display_data",
          "data": {
            "text/html": [
              "<span style=\"color:#4527A0\"><h1 style=\"font-size:18px\">Trial summary</h1></span>"
            ],
            "text/plain": [
              "<IPython.core.display.HTML object>"
            ]
          },
          "metadata": {
            "tags": []
          }
        },
        {
          "output_type": "display_data",
          "data": {
            "text/html": [
              "<span style=\"color:#7E57C2\"><h2 style=\"font-size:16px\">Hp values:</h2></span>"
            ],
            "text/plain": [
              "<IPython.core.display.HTML object>"
            ]
          },
          "metadata": {
            "tags": []
          }
        },
        {
          "output_type": "display_data",
          "data": {
            "text/html": [
              "<span style=\"color:cyan\"> |-activation: hard_sigmoid</span>"
            ],
            "text/plain": [
              "<IPython.core.display.HTML object>"
            ]
          },
          "metadata": {
            "tags": []
          }
        },
        {
          "output_type": "display_data",
          "data": {
            "text/html": [
              "<span style=\"color:blue\"> |-drop_rate: 0.0</span>"
            ],
            "text/plain": [
              "<IPython.core.display.HTML object>"
            ]
          },
          "metadata": {
            "tags": []
          }
        },
        {
          "output_type": "display_data",
          "data": {
            "text/html": [
              "<span style=\"color:cyan\"> |-learning_rate: 0.0001</span>"
            ],
            "text/plain": [
              "<IPython.core.display.HTML object>"
            ]
          },
          "metadata": {
            "tags": []
          }
        },
        {
          "output_type": "display_data",
          "data": {
            "text/html": [
              "<span style=\"color:blue\"> |-tuner/bracket: 0</span>"
            ],
            "text/plain": [
              "<IPython.core.display.HTML object>"
            ]
          },
          "metadata": {
            "tags": []
          }
        },
        {
          "output_type": "display_data",
          "data": {
            "text/html": [
              "<span style=\"color:cyan\"> |-tuner/epochs: 10</span>"
            ],
            "text/plain": [
              "<IPython.core.display.HTML object>"
            ]
          },
          "metadata": {
            "tags": []
          }
        },
        {
          "output_type": "display_data",
          "data": {
            "text/html": [
              "<span style=\"color:blue\"> |-tuner/initial_epoch: 0</span>"
            ],
            "text/plain": [
              "<IPython.core.display.HTML object>"
            ]
          },
          "metadata": {
            "tags": []
          }
        },
        {
          "output_type": "display_data",
          "data": {
            "text/html": [
              "<span style=\"color:cyan\"> |-tuner/round: 0</span>"
            ],
            "text/plain": [
              "<IPython.core.display.HTML object>"
            ]
          },
          "metadata": {
            "tags": []
          }
        },
        {
          "output_type": "display_data",
          "data": {
            "text/html": [
              "<span style=\"color:blue\"> |-units: 4</span>"
            ],
            "text/plain": [
              "<IPython.core.display.HTML object>"
            ]
          },
          "metadata": {
            "tags": []
          }
        },
        {
          "output_type": "display_data",
          "data": {
            "text/html": [
              "<span style=\"color:cyan\"> |-weight_init: he_normal</span>"
            ],
            "text/plain": [
              "<IPython.core.display.HTML object>"
            ]
          },
          "metadata": {
            "tags": []
          }
        },
        {
          "output_type": "display_data",
          "data": {
            "text/html": [
              "<span style=\"color:cyan\"> |-Score: 0.4888888895511627</span>"
            ],
            "text/plain": [
              "<IPython.core.display.HTML object>"
            ]
          },
          "metadata": {
            "tags": []
          }
        },
        {
          "output_type": "display_data",
          "data": {
            "text/html": [
              "<span style=\"color:cyan\"> |-Best step: 0</span>"
            ],
            "text/plain": [
              "<IPython.core.display.HTML object>"
            ]
          },
          "metadata": {
            "tags": []
          }
        },
        {
          "output_type": "stream",
          "text": [
            "INFO:tensorflow:Oracle triggered exit\n",
            "INFO:tensorflow:Reloading Oracle from /content/my_dir/Hyperband/oracle.json\n",
            "INFO:tensorflow:Reloading Tuner from /content/my_dir/Hyperband/tuner0.json\n"
          ],
          "name": "stdout"
        },
        {
          "output_type": "display_data",
          "data": {
            "text/html": [
              "<span style=\"color:#4527A0\"><h1 style=\"font-size:18px\">Search space summary</h1></span>"
            ],
            "text/plain": [
              "<IPython.core.display.HTML object>"
            ]
          },
          "metadata": {
            "tags": []
          }
        },
        {
          "output_type": "display_data",
          "data": {
            "text/html": [
              "<span style=\"color:cyan\"> |-Default search space size: 5</span>"
            ],
            "text/plain": [
              "<IPython.core.display.HTML object>"
            ]
          },
          "metadata": {
            "tags": []
          }
        },
        {
          "output_type": "display_data",
          "data": {
            "text/html": [
              "<span style=\"color:#7E57C2\"><h2 style=\"font-size:16px\">activation (Choice)</h2></span>"
            ],
            "text/plain": [
              "<IPython.core.display.HTML object>"
            ]
          },
          "metadata": {
            "tags": []
          }
        },
        {
          "output_type": "display_data",
          "data": {
            "text/html": [
              "<span style=\"color:cyan\"> |-default: softmax</span>"
            ],
            "text/plain": [
              "<IPython.core.display.HTML object>"
            ]
          },
          "metadata": {
            "tags": []
          }
        },
        {
          "output_type": "display_data",
          "data": {
            "text/html": [
              "<span style=\"color:blue\"> |-ordered: False</span>"
            ],
            "text/plain": [
              "<IPython.core.display.HTML object>"
            ]
          },
          "metadata": {
            "tags": []
          }
        },
        {
          "output_type": "display_data",
          "data": {
            "text/html": [
              "<span style=\"color:cyan\"> |-values: ['softmax', 'softplus', 'softsign', 'relu', 'tanh', 'sigmoid', 'hard_sigmoid', 'linear']</span>"
            ],
            "text/plain": [
              "<IPython.core.display.HTML object>"
            ]
          },
          "metadata": {
            "tags": []
          }
        },
        {
          "output_type": "display_data",
          "data": {
            "text/html": [
              "<span style=\"color:#7E57C2\"><h2 style=\"font-size:16px\">weight_init (Choice)</h2></span>"
            ],
            "text/plain": [
              "<IPython.core.display.HTML object>"
            ]
          },
          "metadata": {
            "tags": []
          }
        },
        {
          "output_type": "display_data",
          "data": {
            "text/html": [
              "<span style=\"color:cyan\"> |-default: uniform</span>"
            ],
            "text/plain": [
              "<IPython.core.display.HTML object>"
            ]
          },
          "metadata": {
            "tags": []
          }
        },
        {
          "output_type": "display_data",
          "data": {
            "text/html": [
              "<span style=\"color:blue\"> |-ordered: False</span>"
            ],
            "text/plain": [
              "<IPython.core.display.HTML object>"
            ]
          },
          "metadata": {
            "tags": []
          }
        },
        {
          "output_type": "display_data",
          "data": {
            "text/html": [
              "<span style=\"color:cyan\"> |-values: ['uniform', 'lecun_uniform', 'normal', 'zero', 'glorot_normal', 'glorot_uniform', 'he_normal', 'he_uniform']</span>"
            ],
            "text/plain": [
              "<IPython.core.display.HTML object>"
            ]
          },
          "metadata": {
            "tags": []
          }
        },
        {
          "output_type": "display_data",
          "data": {
            "text/html": [
              "<span style=\"color:#7E57C2\"><h2 style=\"font-size:16px\">drop_rate (Choice)</h2></span>"
            ],
            "text/plain": [
              "<IPython.core.display.HTML object>"
            ]
          },
          "metadata": {
            "tags": []
          }
        },
        {
          "output_type": "display_data",
          "data": {
            "text/html": [
              "<span style=\"color:cyan\"> |-default: 0.0</span>"
            ],
            "text/plain": [
              "<IPython.core.display.HTML object>"
            ]
          },
          "metadata": {
            "tags": []
          }
        },
        {
          "output_type": "display_data",
          "data": {
            "text/html": [
              "<span style=\"color:blue\"> |-ordered: True</span>"
            ],
            "text/plain": [
              "<IPython.core.display.HTML object>"
            ]
          },
          "metadata": {
            "tags": []
          }
        },
        {
          "output_type": "display_data",
          "data": {
            "text/html": [
              "<span style=\"color:cyan\"> |-values: [0.0, 0.1, 0.2, 0.3, 0.4, 0.5, 0.6, 0.7, 0.8, 0.9]</span>"
            ],
            "text/plain": [
              "<IPython.core.display.HTML object>"
            ]
          },
          "metadata": {
            "tags": []
          }
        },
        {
          "output_type": "display_data",
          "data": {
            "text/html": [
              "<span style=\"color:#7E57C2\"><h2 style=\"font-size:16px\">units (Int)</h2></span>"
            ],
            "text/plain": [
              "<IPython.core.display.HTML object>"
            ]
          },
          "metadata": {
            "tags": []
          }
        },
        {
          "output_type": "display_data",
          "data": {
            "text/html": [
              "<span style=\"color:cyan\"> |-default: None</span>"
            ],
            "text/plain": [
              "<IPython.core.display.HTML object>"
            ]
          },
          "metadata": {
            "tags": []
          }
        },
        {
          "output_type": "display_data",
          "data": {
            "text/html": [
              "<span style=\"color:blue\"> |-max_value: 8</span>"
            ],
            "text/plain": [
              "<IPython.core.display.HTML object>"
            ]
          },
          "metadata": {
            "tags": []
          }
        },
        {
          "output_type": "display_data",
          "data": {
            "text/html": [
              "<span style=\"color:cyan\"> |-min_value: 3</span>"
            ],
            "text/plain": [
              "<IPython.core.display.HTML object>"
            ]
          },
          "metadata": {
            "tags": []
          }
        },
        {
          "output_type": "display_data",
          "data": {
            "text/html": [
              "<span style=\"color:blue\"> |-sampling: None</span>"
            ],
            "text/plain": [
              "<IPython.core.display.HTML object>"
            ]
          },
          "metadata": {
            "tags": []
          }
        },
        {
          "output_type": "display_data",
          "data": {
            "text/html": [
              "<span style=\"color:cyan\"> |-step: 1</span>"
            ],
            "text/plain": [
              "<IPython.core.display.HTML object>"
            ]
          },
          "metadata": {
            "tags": []
          }
        },
        {
          "output_type": "display_data",
          "data": {
            "text/html": [
              "<span style=\"color:#7E57C2\"><h2 style=\"font-size:16px\">learning_rate (Choice)</h2></span>"
            ],
            "text/plain": [
              "<IPython.core.display.HTML object>"
            ]
          },
          "metadata": {
            "tags": []
          }
        },
        {
          "output_type": "display_data",
          "data": {
            "text/html": [
              "<span style=\"color:cyan\"> |-default: 0.01</span>"
            ],
            "text/plain": [
              "<IPython.core.display.HTML object>"
            ]
          },
          "metadata": {
            "tags": []
          }
        },
        {
          "output_type": "display_data",
          "data": {
            "text/html": [
              "<span style=\"color:blue\"> |-ordered: True</span>"
            ],
            "text/plain": [
              "<IPython.core.display.HTML object>"
            ]
          },
          "metadata": {
            "tags": []
          }
        },
        {
          "output_type": "display_data",
          "data": {
            "text/html": [
              "<span style=\"color:cyan\"> |-values: [0.01, 0.001, 0.0001]</span>"
            ],
            "text/plain": [
              "<IPython.core.display.HTML object>"
            ]
          },
          "metadata": {
            "tags": []
          }
        },
        {
          "output_type": "stream",
          "text": [
            "INFO:tensorflow:Oracle triggered exit\n",
            "INFO:tensorflow:Reloading Oracle from /content/my_dir/Hyperband/oracle.json\n",
            "INFO:tensorflow:Reloading Tuner from /content/my_dir/Hyperband/tuner0.json\n"
          ],
          "name": "stdout"
        },
        {
          "output_type": "display_data",
          "data": {
            "text/html": [
              "<span style=\"color:#4527A0\"><h1 style=\"font-size:18px\">Search space summary</h1></span>"
            ],
            "text/plain": [
              "<IPython.core.display.HTML object>"
            ]
          },
          "metadata": {
            "tags": []
          }
        },
        {
          "output_type": "display_data",
          "data": {
            "text/html": [
              "<span style=\"color:cyan\"> |-Default search space size: 5</span>"
            ],
            "text/plain": [
              "<IPython.core.display.HTML object>"
            ]
          },
          "metadata": {
            "tags": []
          }
        },
        {
          "output_type": "display_data",
          "data": {
            "text/html": [
              "<span style=\"color:#7E57C2\"><h2 style=\"font-size:16px\">activation (Choice)</h2></span>"
            ],
            "text/plain": [
              "<IPython.core.display.HTML object>"
            ]
          },
          "metadata": {
            "tags": []
          }
        },
        {
          "output_type": "display_data",
          "data": {
            "text/html": [
              "<span style=\"color:cyan\"> |-default: softmax</span>"
            ],
            "text/plain": [
              "<IPython.core.display.HTML object>"
            ]
          },
          "metadata": {
            "tags": []
          }
        },
        {
          "output_type": "display_data",
          "data": {
            "text/html": [
              "<span style=\"color:blue\"> |-ordered: False</span>"
            ],
            "text/plain": [
              "<IPython.core.display.HTML object>"
            ]
          },
          "metadata": {
            "tags": []
          }
        },
        {
          "output_type": "display_data",
          "data": {
            "text/html": [
              "<span style=\"color:cyan\"> |-values: ['softmax', 'softplus', 'softsign', 'relu', 'tanh', 'sigmoid', 'hard_sigmoid', 'linear']</span>"
            ],
            "text/plain": [
              "<IPython.core.display.HTML object>"
            ]
          },
          "metadata": {
            "tags": []
          }
        },
        {
          "output_type": "display_data",
          "data": {
            "text/html": [
              "<span style=\"color:#7E57C2\"><h2 style=\"font-size:16px\">weight_init (Choice)</h2></span>"
            ],
            "text/plain": [
              "<IPython.core.display.HTML object>"
            ]
          },
          "metadata": {
            "tags": []
          }
        },
        {
          "output_type": "display_data",
          "data": {
            "text/html": [
              "<span style=\"color:cyan\"> |-default: uniform</span>"
            ],
            "text/plain": [
              "<IPython.core.display.HTML object>"
            ]
          },
          "metadata": {
            "tags": []
          }
        },
        {
          "output_type": "display_data",
          "data": {
            "text/html": [
              "<span style=\"color:blue\"> |-ordered: False</span>"
            ],
            "text/plain": [
              "<IPython.core.display.HTML object>"
            ]
          },
          "metadata": {
            "tags": []
          }
        },
        {
          "output_type": "display_data",
          "data": {
            "text/html": [
              "<span style=\"color:cyan\"> |-values: ['uniform', 'lecun_uniform', 'normal', 'zero', 'glorot_normal', 'glorot_uniform', 'he_normal', 'he_uniform']</span>"
            ],
            "text/plain": [
              "<IPython.core.display.HTML object>"
            ]
          },
          "metadata": {
            "tags": []
          }
        },
        {
          "output_type": "display_data",
          "data": {
            "text/html": [
              "<span style=\"color:#7E57C2\"><h2 style=\"font-size:16px\">drop_rate (Choice)</h2></span>"
            ],
            "text/plain": [
              "<IPython.core.display.HTML object>"
            ]
          },
          "metadata": {
            "tags": []
          }
        },
        {
          "output_type": "display_data",
          "data": {
            "text/html": [
              "<span style=\"color:cyan\"> |-default: 0.0</span>"
            ],
            "text/plain": [
              "<IPython.core.display.HTML object>"
            ]
          },
          "metadata": {
            "tags": []
          }
        },
        {
          "output_type": "display_data",
          "data": {
            "text/html": [
              "<span style=\"color:blue\"> |-ordered: True</span>"
            ],
            "text/plain": [
              "<IPython.core.display.HTML object>"
            ]
          },
          "metadata": {
            "tags": []
          }
        },
        {
          "output_type": "display_data",
          "data": {
            "text/html": [
              "<span style=\"color:cyan\"> |-values: [0.0, 0.1, 0.2, 0.3, 0.4, 0.5, 0.6, 0.7, 0.8, 0.9]</span>"
            ],
            "text/plain": [
              "<IPython.core.display.HTML object>"
            ]
          },
          "metadata": {
            "tags": []
          }
        },
        {
          "output_type": "display_data",
          "data": {
            "text/html": [
              "<span style=\"color:#7E57C2\"><h2 style=\"font-size:16px\">units (Int)</h2></span>"
            ],
            "text/plain": [
              "<IPython.core.display.HTML object>"
            ]
          },
          "metadata": {
            "tags": []
          }
        },
        {
          "output_type": "display_data",
          "data": {
            "text/html": [
              "<span style=\"color:cyan\"> |-default: None</span>"
            ],
            "text/plain": [
              "<IPython.core.display.HTML object>"
            ]
          },
          "metadata": {
            "tags": []
          }
        },
        {
          "output_type": "display_data",
          "data": {
            "text/html": [
              "<span style=\"color:blue\"> |-max_value: 8</span>"
            ],
            "text/plain": [
              "<IPython.core.display.HTML object>"
            ]
          },
          "metadata": {
            "tags": []
          }
        },
        {
          "output_type": "display_data",
          "data": {
            "text/html": [
              "<span style=\"color:cyan\"> |-min_value: 3</span>"
            ],
            "text/plain": [
              "<IPython.core.display.HTML object>"
            ]
          },
          "metadata": {
            "tags": []
          }
        },
        {
          "output_type": "display_data",
          "data": {
            "text/html": [
              "<span style=\"color:blue\"> |-sampling: None</span>"
            ],
            "text/plain": [
              "<IPython.core.display.HTML object>"
            ]
          },
          "metadata": {
            "tags": []
          }
        },
        {
          "output_type": "display_data",
          "data": {
            "text/html": [
              "<span style=\"color:cyan\"> |-step: 1</span>"
            ],
            "text/plain": [
              "<IPython.core.display.HTML object>"
            ]
          },
          "metadata": {
            "tags": []
          }
        },
        {
          "output_type": "display_data",
          "data": {
            "text/html": [
              "<span style=\"color:#7E57C2\"><h2 style=\"font-size:16px\">learning_rate (Choice)</h2></span>"
            ],
            "text/plain": [
              "<IPython.core.display.HTML object>"
            ]
          },
          "metadata": {
            "tags": []
          }
        },
        {
          "output_type": "display_data",
          "data": {
            "text/html": [
              "<span style=\"color:cyan\"> |-default: 0.01</span>"
            ],
            "text/plain": [
              "<IPython.core.display.HTML object>"
            ]
          },
          "metadata": {
            "tags": []
          }
        },
        {
          "output_type": "display_data",
          "data": {
            "text/html": [
              "<span style=\"color:blue\"> |-ordered: True</span>"
            ],
            "text/plain": [
              "<IPython.core.display.HTML object>"
            ]
          },
          "metadata": {
            "tags": []
          }
        },
        {
          "output_type": "display_data",
          "data": {
            "text/html": [
              "<span style=\"color:cyan\"> |-values: [0.01, 0.001, 0.0001]</span>"
            ],
            "text/plain": [
              "<IPython.core.display.HTML object>"
            ]
          },
          "metadata": {
            "tags": []
          }
        },
        {
          "output_type": "stream",
          "text": [
            "INFO:tensorflow:Oracle triggered exit\n"
          ],
          "name": "stdout"
        }
      ]
    },
    {
      "cell_type": "code",
      "metadata": {
        "colab_type": "code",
        "id": "vqjRwy2-XBnp",
        "colab": {
          "base_uri": "https://localhost:8080/",
          "height": 554
        },
        "outputId": "dca4a8ab-5298-46bb-ce10-6f4db9313bc3"
      },
      "source": [
        "tuner_Hb.search_space_summary()\n"
      ],
      "execution_count": 47,
      "outputs": [
        {
          "output_type": "display_data",
          "data": {
            "text/html": [
              "<span style=\"color:#4527A0\"><h1 style=\"font-size:18px\">Search space summary</h1></span>"
            ],
            "text/plain": [
              "<IPython.core.display.HTML object>"
            ]
          },
          "metadata": {
            "tags": []
          }
        },
        {
          "output_type": "display_data",
          "data": {
            "text/html": [
              "<span style=\"color:cyan\"> |-Default search space size: 5</span>"
            ],
            "text/plain": [
              "<IPython.core.display.HTML object>"
            ]
          },
          "metadata": {
            "tags": []
          }
        },
        {
          "output_type": "display_data",
          "data": {
            "text/html": [
              "<span style=\"color:#7E57C2\"><h2 style=\"font-size:16px\">activation (Choice)</h2></span>"
            ],
            "text/plain": [
              "<IPython.core.display.HTML object>"
            ]
          },
          "metadata": {
            "tags": []
          }
        },
        {
          "output_type": "display_data",
          "data": {
            "text/html": [
              "<span style=\"color:cyan\"> |-default: softmax</span>"
            ],
            "text/plain": [
              "<IPython.core.display.HTML object>"
            ]
          },
          "metadata": {
            "tags": []
          }
        },
        {
          "output_type": "display_data",
          "data": {
            "text/html": [
              "<span style=\"color:blue\"> |-ordered: False</span>"
            ],
            "text/plain": [
              "<IPython.core.display.HTML object>"
            ]
          },
          "metadata": {
            "tags": []
          }
        },
        {
          "output_type": "display_data",
          "data": {
            "text/html": [
              "<span style=\"color:cyan\"> |-values: ['softmax', 'softplus', 'softsign', 'relu', 'tanh', 'sigmoid', 'hard_sigmoid', 'linear']</span>"
            ],
            "text/plain": [
              "<IPython.core.display.HTML object>"
            ]
          },
          "metadata": {
            "tags": []
          }
        },
        {
          "output_type": "display_data",
          "data": {
            "text/html": [
              "<span style=\"color:#7E57C2\"><h2 style=\"font-size:16px\">weight_init (Choice)</h2></span>"
            ],
            "text/plain": [
              "<IPython.core.display.HTML object>"
            ]
          },
          "metadata": {
            "tags": []
          }
        },
        {
          "output_type": "display_data",
          "data": {
            "text/html": [
              "<span style=\"color:cyan\"> |-default: uniform</span>"
            ],
            "text/plain": [
              "<IPython.core.display.HTML object>"
            ]
          },
          "metadata": {
            "tags": []
          }
        },
        {
          "output_type": "display_data",
          "data": {
            "text/html": [
              "<span style=\"color:blue\"> |-ordered: False</span>"
            ],
            "text/plain": [
              "<IPython.core.display.HTML object>"
            ]
          },
          "metadata": {
            "tags": []
          }
        },
        {
          "output_type": "display_data",
          "data": {
            "text/html": [
              "<span style=\"color:cyan\"> |-values: ['uniform', 'lecun_uniform', 'normal', 'zero', 'glorot_normal', 'glorot_uniform', 'he_normal', 'he_uniform']</span>"
            ],
            "text/plain": [
              "<IPython.core.display.HTML object>"
            ]
          },
          "metadata": {
            "tags": []
          }
        },
        {
          "output_type": "display_data",
          "data": {
            "text/html": [
              "<span style=\"color:#7E57C2\"><h2 style=\"font-size:16px\">drop_rate (Choice)</h2></span>"
            ],
            "text/plain": [
              "<IPython.core.display.HTML object>"
            ]
          },
          "metadata": {
            "tags": []
          }
        },
        {
          "output_type": "display_data",
          "data": {
            "text/html": [
              "<span style=\"color:cyan\"> |-default: 0.0</span>"
            ],
            "text/plain": [
              "<IPython.core.display.HTML object>"
            ]
          },
          "metadata": {
            "tags": []
          }
        },
        {
          "output_type": "display_data",
          "data": {
            "text/html": [
              "<span style=\"color:blue\"> |-ordered: True</span>"
            ],
            "text/plain": [
              "<IPython.core.display.HTML object>"
            ]
          },
          "metadata": {
            "tags": []
          }
        },
        {
          "output_type": "display_data",
          "data": {
            "text/html": [
              "<span style=\"color:cyan\"> |-values: [0.0, 0.1, 0.2, 0.3, 0.4, 0.5, 0.6, 0.7, 0.8, 0.9]</span>"
            ],
            "text/plain": [
              "<IPython.core.display.HTML object>"
            ]
          },
          "metadata": {
            "tags": []
          }
        },
        {
          "output_type": "display_data",
          "data": {
            "text/html": [
              "<span style=\"color:#7E57C2\"><h2 style=\"font-size:16px\">units (Int)</h2></span>"
            ],
            "text/plain": [
              "<IPython.core.display.HTML object>"
            ]
          },
          "metadata": {
            "tags": []
          }
        },
        {
          "output_type": "display_data",
          "data": {
            "text/html": [
              "<span style=\"color:cyan\"> |-default: None</span>"
            ],
            "text/plain": [
              "<IPython.core.display.HTML object>"
            ]
          },
          "metadata": {
            "tags": []
          }
        },
        {
          "output_type": "display_data",
          "data": {
            "text/html": [
              "<span style=\"color:blue\"> |-max_value: 8</span>"
            ],
            "text/plain": [
              "<IPython.core.display.HTML object>"
            ]
          },
          "metadata": {
            "tags": []
          }
        },
        {
          "output_type": "display_data",
          "data": {
            "text/html": [
              "<span style=\"color:cyan\"> |-min_value: 3</span>"
            ],
            "text/plain": [
              "<IPython.core.display.HTML object>"
            ]
          },
          "metadata": {
            "tags": []
          }
        },
        {
          "output_type": "display_data",
          "data": {
            "text/html": [
              "<span style=\"color:blue\"> |-sampling: None</span>"
            ],
            "text/plain": [
              "<IPython.core.display.HTML object>"
            ]
          },
          "metadata": {
            "tags": []
          }
        },
        {
          "output_type": "display_data",
          "data": {
            "text/html": [
              "<span style=\"color:cyan\"> |-step: 1</span>"
            ],
            "text/plain": [
              "<IPython.core.display.HTML object>"
            ]
          },
          "metadata": {
            "tags": []
          }
        },
        {
          "output_type": "display_data",
          "data": {
            "text/html": [
              "<span style=\"color:#7E57C2\"><h2 style=\"font-size:16px\">learning_rate (Choice)</h2></span>"
            ],
            "text/plain": [
              "<IPython.core.display.HTML object>"
            ]
          },
          "metadata": {
            "tags": []
          }
        },
        {
          "output_type": "display_data",
          "data": {
            "text/html": [
              "<span style=\"color:cyan\"> |-default: 0.01</span>"
            ],
            "text/plain": [
              "<IPython.core.display.HTML object>"
            ]
          },
          "metadata": {
            "tags": []
          }
        },
        {
          "output_type": "display_data",
          "data": {
            "text/html": [
              "<span style=\"color:blue\"> |-ordered: True</span>"
            ],
            "text/plain": [
              "<IPython.core.display.HTML object>"
            ]
          },
          "metadata": {
            "tags": []
          }
        },
        {
          "output_type": "display_data",
          "data": {
            "text/html": [
              "<span style=\"color:cyan\"> |-values: [0.01, 0.001, 0.0001]</span>"
            ],
            "text/plain": [
              "<IPython.core.display.HTML object>"
            ]
          },
          "metadata": {
            "tags": []
          }
        }
      ]
    },
    {
      "cell_type": "code",
      "metadata": {
        "colab_type": "code",
        "id": "_UUX5RtoXBn1",
        "colab": {
          "base_uri": "https://localhost:8080/",
          "height": 264
        },
        "outputId": "bd58211a-f68c-4266-87ed-5bd48f88ea22"
      },
      "source": [
        "tuner_Hb.results_summary()"
      ],
      "execution_count": 48,
      "outputs": [
        {
          "output_type": "display_data",
          "data": {
            "text/html": [
              "<span style=\"color:#4527A0\"><h1 style=\"font-size:18px\">Results summary</h1></span>"
            ],
            "text/plain": [
              "<IPython.core.display.HTML object>"
            ]
          },
          "metadata": {
            "tags": []
          }
        },
        {
          "output_type": "display_data",
          "data": {
            "text/html": [
              "<span style=\"color:cyan\"> |-Results in /content/my_dir/Hyperband</span>"
            ],
            "text/plain": [
              "<IPython.core.display.HTML object>"
            ]
          },
          "metadata": {
            "tags": []
          }
        },
        {
          "output_type": "display_data",
          "data": {
            "text/html": [
              "<span style=\"color:cyan\"> |-Showing 10 best trials</span>"
            ],
            "text/plain": [
              "<IPython.core.display.HTML object>"
            ]
          },
          "metadata": {
            "tags": []
          }
        },
        {
          "output_type": "display_data",
          "data": {
            "text/html": [
              "<span style=\"color:cyan\"> |-Objective: Objective(name='val_accuracy', direction='max') Score: 0.5333333611488342</span>"
            ],
            "text/plain": [
              "<IPython.core.display.HTML object>"
            ]
          },
          "metadata": {
            "tags": []
          }
        },
        {
          "output_type": "display_data",
          "data": {
            "text/html": [
              "<span style=\"color:cyan\"> |-Objective: Objective(name='val_accuracy', direction='max') Score: 0.5111111402511597</span>"
            ],
            "text/plain": [
              "<IPython.core.display.HTML object>"
            ]
          },
          "metadata": {
            "tags": []
          }
        },
        {
          "output_type": "display_data",
          "data": {
            "text/html": [
              "<span style=\"color:cyan\"> |-Objective: Objective(name='val_accuracy', direction='max') Score: 0.5111111402511597</span>"
            ],
            "text/plain": [
              "<IPython.core.display.HTML object>"
            ]
          },
          "metadata": {
            "tags": []
          }
        },
        {
          "output_type": "display_data",
          "data": {
            "text/html": [
              "<span style=\"color:cyan\"> |-Objective: Objective(name='val_accuracy', direction='max') Score: 0.5111111402511597</span>"
            ],
            "text/plain": [
              "<IPython.core.display.HTML object>"
            ]
          },
          "metadata": {
            "tags": []
          }
        },
        {
          "output_type": "display_data",
          "data": {
            "text/html": [
              "<span style=\"color:cyan\"> |-Objective: Objective(name='val_accuracy', direction='max') Score: 0.4888888895511627</span>"
            ],
            "text/plain": [
              "<IPython.core.display.HTML object>"
            ]
          },
          "metadata": {
            "tags": []
          }
        },
        {
          "output_type": "display_data",
          "data": {
            "text/html": [
              "<span style=\"color:cyan\"> |-Objective: Objective(name='val_accuracy', direction='max') Score: 0.4888888895511627</span>"
            ],
            "text/plain": [
              "<IPython.core.display.HTML object>"
            ]
          },
          "metadata": {
            "tags": []
          }
        },
        {
          "output_type": "display_data",
          "data": {
            "text/html": [
              "<span style=\"color:cyan\"> |-Objective: Objective(name='val_accuracy', direction='max') Score: 0.4444444477558136</span>"
            ],
            "text/plain": [
              "<IPython.core.display.HTML object>"
            ]
          },
          "metadata": {
            "tags": []
          }
        },
        {
          "output_type": "display_data",
          "data": {
            "text/html": [
              "<span style=\"color:cyan\"> |-Objective: Objective(name='val_accuracy', direction='max') Score: 0.42222222685813904</span>"
            ],
            "text/plain": [
              "<IPython.core.display.HTML object>"
            ]
          },
          "metadata": {
            "tags": []
          }
        },
        {
          "output_type": "display_data",
          "data": {
            "text/html": [
              "<span style=\"color:cyan\"> |-Objective: Objective(name='val_accuracy', direction='max') Score: 0.42222222685813904</span>"
            ],
            "text/plain": [
              "<IPython.core.display.HTML object>"
            ]
          },
          "metadata": {
            "tags": []
          }
        },
        {
          "output_type": "display_data",
          "data": {
            "text/html": [
              "<span style=\"color:cyan\"> |-Objective: Objective(name='val_accuracy', direction='max') Score: 0.4000000059604645</span>"
            ],
            "text/plain": [
              "<IPython.core.display.HTML object>"
            ]
          },
          "metadata": {
            "tags": []
          }
        }
      ]
    },
    {
      "cell_type": "code",
      "metadata": {
        "colab_type": "code",
        "id": "WRthq92vXBn_",
        "colab": {
          "base_uri": "https://localhost:8080/",
          "height": 34
        },
        "outputId": "ff2d171f-5798-4985-82f5-69e0b4d05ba2"
      },
      "source": [
        "tuner_Hb.get_best_hyperparameters()"
      ],
      "execution_count": 49,
      "outputs": [
        {
          "output_type": "execute_result",
          "data": {
            "text/plain": [
              "[<kerastuner.engine.hyperparameters.HyperParameters at 0x7f81f86d2438>]"
            ]
          },
          "metadata": {
            "tags": []
          },
          "execution_count": 49
        }
      ]
    },
    {
      "cell_type": "code",
      "metadata": {
        "colab_type": "code",
        "id": "ae2rJcH5XBoI",
        "colab": {
          "base_uri": "https://localhost:8080/",
          "height": 173
        },
        "outputId": "56abaa17-2937-4eb1-8aa5-a7f7bfdcae0c"
      },
      "source": [
        "tuner_Hb.oracle.get_best_trials(num_trials=1)[0].hyperparameters.values"
      ],
      "execution_count": 50,
      "outputs": [
        {
          "output_type": "execute_result",
          "data": {
            "text/plain": [
              "{'activation': 'hard_sigmoid',\n",
              " 'drop_rate': 0.3,\n",
              " 'learning_rate': 0.01,\n",
              " 'tuner/bracket': 0,\n",
              " 'tuner/epochs': 10,\n",
              " 'tuner/initial_epoch': 0,\n",
              " 'tuner/round': 0,\n",
              " 'units': 5,\n",
              " 'weight_init': 'normal'}"
            ]
          },
          "metadata": {
            "tags": []
          },
          "execution_count": 50
        }
      ]
    },
    {
      "cell_type": "code",
      "metadata": {
        "colab_type": "code",
        "id": "aadQC3H1XBoP",
        "colab": {}
      },
      "source": [
        "best_model = tuner_Hb.get_best_models()[0]"
      ],
      "execution_count": 0,
      "outputs": []
    },
    {
      "cell_type": "markdown",
      "metadata": {
        "id": "B9UhSxIaHtuO",
        "colab_type": "text"
      },
      "source": [
        "##Plotting training and validation loss"
      ]
    },
    {
      "cell_type": "code",
      "metadata": {
        "id": "vq6zsienD5ct",
        "colab_type": "code",
        "colab": {}
      },
      "source": [
        "import matplotlib.pyplot as plt"
      ],
      "execution_count": 0,
      "outputs": []
    },
    {
      "cell_type": "code",
      "metadata": {
        "id": "XJizyjnaIPhQ",
        "colab_type": "code",
        "colab": {}
      },
      "source": [
        "epochs = range(1, num_epochs+1)"
      ],
      "execution_count": 0,
      "outputs": []
    },
    {
      "cell_type": "code",
      "metadata": {
        "id": "HfEHEYLgIQUQ",
        "colab_type": "code",
        "outputId": "87da003b-41a2-4706-d45e-492dfd726060",
        "colab": {
          "base_uri": "https://localhost:8080/",
          "height": 237
        }
      },
      "source": [
        "plt.plot(epochs, average_loss_history, 'bo', label='training loss')\n",
        "plt.plot(epochs, average_val_loss_history, 'b', label='validation loss')\n",
        "plt.title('Training and validation loss')\n",
        "plt.xlabel('Epochs')\n",
        "plt.ylabel('Loss')\n",
        "plt.legend()"
      ],
      "execution_count": 54,
      "outputs": [
        {
          "output_type": "error",
          "ename": "NameError",
          "evalue": "ignored",
          "traceback": [
            "\u001b[0;31m---------------------------------------------------------------------------\u001b[0m",
            "\u001b[0;31mNameError\u001b[0m                                 Traceback (most recent call last)",
            "\u001b[0;32m<ipython-input-54-7be47833e515>\u001b[0m in \u001b[0;36m<module>\u001b[0;34m()\u001b[0m\n\u001b[0;32m----> 1\u001b[0;31m \u001b[0mplt\u001b[0m\u001b[0;34m.\u001b[0m\u001b[0mplot\u001b[0m\u001b[0;34m(\u001b[0m\u001b[0mepochs\u001b[0m\u001b[0;34m,\u001b[0m \u001b[0maverage_loss_history\u001b[0m\u001b[0;34m,\u001b[0m \u001b[0;34m'bo'\u001b[0m\u001b[0;34m,\u001b[0m \u001b[0mlabel\u001b[0m\u001b[0;34m=\u001b[0m\u001b[0;34m'training loss'\u001b[0m\u001b[0;34m)\u001b[0m\u001b[0;34m\u001b[0m\u001b[0;34m\u001b[0m\u001b[0m\n\u001b[0m\u001b[1;32m      2\u001b[0m \u001b[0mplt\u001b[0m\u001b[0;34m.\u001b[0m\u001b[0mplot\u001b[0m\u001b[0;34m(\u001b[0m\u001b[0mepochs\u001b[0m\u001b[0;34m,\u001b[0m \u001b[0maverage_val_loss_history\u001b[0m\u001b[0;34m,\u001b[0m \u001b[0;34m'b'\u001b[0m\u001b[0;34m,\u001b[0m \u001b[0mlabel\u001b[0m\u001b[0;34m=\u001b[0m\u001b[0;34m'validation loss'\u001b[0m\u001b[0;34m)\u001b[0m\u001b[0;34m\u001b[0m\u001b[0;34m\u001b[0m\u001b[0m\n\u001b[1;32m      3\u001b[0m \u001b[0mplt\u001b[0m\u001b[0;34m.\u001b[0m\u001b[0mtitle\u001b[0m\u001b[0;34m(\u001b[0m\u001b[0;34m'Training and validation loss'\u001b[0m\u001b[0;34m)\u001b[0m\u001b[0;34m\u001b[0m\u001b[0;34m\u001b[0m\u001b[0m\n\u001b[1;32m      4\u001b[0m \u001b[0mplt\u001b[0m\u001b[0;34m.\u001b[0m\u001b[0mxlabel\u001b[0m\u001b[0;34m(\u001b[0m\u001b[0;34m'Epochs'\u001b[0m\u001b[0;34m)\u001b[0m\u001b[0;34m\u001b[0m\u001b[0;34m\u001b[0m\u001b[0m\n\u001b[1;32m      5\u001b[0m \u001b[0mplt\u001b[0m\u001b[0;34m.\u001b[0m\u001b[0mylabel\u001b[0m\u001b[0;34m(\u001b[0m\u001b[0;34m'Loss'\u001b[0m\u001b[0;34m)\u001b[0m\u001b[0;34m\u001b[0m\u001b[0;34m\u001b[0m\u001b[0m\n",
            "\u001b[0;31mNameError\u001b[0m: name 'average_loss_history' is not defined"
          ]
        }
      ]
    },
    {
      "cell_type": "markdown",
      "metadata": {
        "id": "Aoc4wMjfI97j",
        "colab_type": "text"
      },
      "source": [
        "##Plotting train and validation accuracy"
      ]
    },
    {
      "cell_type": "code",
      "metadata": {
        "id": "GZi7VzbFIbtJ",
        "colab_type": "code",
        "colab": {}
      },
      "source": [
        "plt.plot(epochs, average_acc_history, 'bo', label='Training accuracy')\n",
        "plt.plot(epochs, average_val_acc_history, 'b', label='Validation accuracy')\n",
        "plt.title('Training and validation accuracy')\n",
        "plt.xlabel('Epochs')\n",
        "plt.ylabel('Accuracy')\n",
        "plt.legend() "
      ],
      "execution_count": 0,
      "outputs": []
    },
    {
      "cell_type": "code",
      "metadata": {
        "id": "E9RurwColqyw",
        "colab_type": "code",
        "colab": {}
      },
      "source": [
        "!pwd"
      ],
      "execution_count": 0,
      "outputs": []
    },
    {
      "cell_type": "code",
      "metadata": {
        "id": "zkgKUMeNlsg_",
        "colab_type": "code",
        "colab": {}
      },
      "source": [
        "!pip list"
      ],
      "execution_count": 0,
      "outputs": []
    },
    {
      "cell_type": "code",
      "metadata": {
        "id": "BMDZbXRUMocN",
        "colab_type": "code",
        "colab": {}
      },
      "source": [
        ""
      ],
      "execution_count": 0,
      "outputs": []
    }
  ]
}