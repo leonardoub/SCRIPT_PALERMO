{
  "nbformat": 4,
  "nbformat_minor": 0,
  "metadata": {
    "colab": {
      "name": "Network_regression_ST.ipynb",
      "provenance": [],
      "toc_visible": true,
      "include_colab_link": true
    },
    "kernelspec": {
      "name": "python3",
      "display_name": "Python 3"
    }
  },
  "cells": [
    {
      "cell_type": "markdown",
      "metadata": {
        "id": "view-in-github",
        "colab_type": "text"
      },
      "source": [
        "<a href=\"https://colab.research.google.com/github/leonardoub/SCRIPT_PALERMO/blob/master/Network_regression_ST.ipynb\" target=\"_parent\"><img src=\"https://colab.research.google.com/assets/colab-badge.svg\" alt=\"Open In Colab\"/></a>"
      ]
    },
    {
      "cell_type": "code",
      "metadata": {
        "id": "FyIMXJeb7C1z",
        "colab_type": "code",
        "colab": {}
      },
      "source": [
        "import pandas as pd\n",
        "import numpy as np\n",
        "import matplotlib.pyplot as plt\n",
        "import scipy\n",
        "import seaborn as sns"
      ],
      "execution_count": 0,
      "outputs": []
    },
    {
      "cell_type": "markdown",
      "metadata": {
        "id": "_DME-inQ4ke_",
        "colab_type": "text"
      },
      "source": [
        "#Load data"
      ]
    },
    {
      "cell_type": "code",
      "metadata": {
        "id": "7Hq45TSf3WcR",
        "colab_type": "code",
        "outputId": "436dc5c5-8c8e-43b6-c574-36340113e750",
        "colab": {
          "base_uri": "https://localhost:8080/",
          "height": 147
        }
      },
      "source": [
        "#load data from Drive\n",
        "from google.colab import drive\n",
        "drive.mount('/gdrive')\n",
        "%cd /gdrive"
      ],
      "execution_count": 3,
      "outputs": [
        {
          "output_type": "stream",
          "text": [
            "Go to this URL in a browser: https://accounts.google.com/o/oauth2/auth?client_id=947318989803-6bn6qk8qdgf4n4g3pfee6491hc0brc4i.apps.googleusercontent.com&redirect_uri=urn%3aietf%3awg%3aoauth%3a2.0%3aoob&response_type=code&scope=email%20https%3a%2f%2fwww.googleapis.com%2fauth%2fdocs.test%20https%3a%2f%2fwww.googleapis.com%2fauth%2fdrive%20https%3a%2f%2fwww.googleapis.com%2fauth%2fdrive.photos.readonly%20https%3a%2f%2fwww.googleapis.com%2fauth%2fpeopleapi.readonly\n",
            "\n",
            "Enter your authorization code:\n",
            "··········\n",
            "Mounted at /gdrive\n",
            "/gdrive\n"
          ],
          "name": "stdout"
        }
      ]
    },
    {
      "cell_type": "code",
      "metadata": {
        "id": "UCkUXesZhMzg",
        "colab_type": "code",
        "colab": {}
      },
      "source": [
        "train_dataset_path = '/gdrive/My Drive/AIM_PA/database_training2.csv'\n",
        "test_dataset_path = '/gdrive/My Drive/AIM_PA/database_nostro_without_nan.csv'"
      ],
      "execution_count": 0,
      "outputs": []
    },
    {
      "cell_type": "code",
      "metadata": {
        "id": "TczPxOpEhTXw",
        "colab_type": "code",
        "colab": {}
      },
      "source": [
        "df_train = pd.read_csv(train_dataset_path)\n",
        "df_test = pd.read_csv(test_dataset_path)"
      ],
      "execution_count": 0,
      "outputs": []
    },
    {
      "cell_type": "code",
      "metadata": {
        "id": "9I5MNxeW3j2G",
        "colab_type": "code",
        "colab": {}
      },
      "source": [
        "df_train.rename(columns={'Survival.time (months)':'Surv_time_months'}, inplace=True)"
      ],
      "execution_count": 0,
      "outputs": []
    },
    {
      "cell_type": "code",
      "metadata": {
        "id": "TLxDyFPo3sU9",
        "colab_type": "code",
        "colab": {}
      },
      "source": [
        "df_test.rename(columns={'Survival.time (months)':'Surv_time_months'}, inplace=True)"
      ],
      "execution_count": 0,
      "outputs": []
    },
    {
      "cell_type": "code",
      "metadata": {
        "id": "oXU_B2k03uYa",
        "colab_type": "code",
        "colab": {}
      },
      "source": [
        "df_train.rename(columns={'Overall.Stage':'Overall_Stage'}, inplace=True)\n",
        "df_test.rename(columns={'Overall.Stage':'Overall_Stage'}, inplace=True)"
      ],
      "execution_count": 0,
      "outputs": []
    },
    {
      "cell_type": "code",
      "metadata": {
        "id": "T1YCrOMP3_4q",
        "colab_type": "code",
        "colab": {}
      },
      "source": [
        "train_data = df_train.drop(['Histology', 'Surv_time_months', 'OS', 'deadstatus.event','Overall_Stage'], axis=1)"
      ],
      "execution_count": 0,
      "outputs": []
    },
    {
      "cell_type": "code",
      "metadata": {
        "id": "BWj1mwjV4Mzo",
        "colab_type": "code",
        "colab": {}
      },
      "source": [
        "test_data = df_test.drop(['Histology', 'Surv_time_months', 'OS', 'deadstatus.event','Overall_Stage'], axis=1)"
      ],
      "execution_count": 0,
      "outputs": []
    },
    {
      "cell_type": "code",
      "metadata": {
        "id": "dKdS4Low4PHh",
        "colab_type": "code",
        "colab": {}
      },
      "source": [
        "train_targets = df_train.Surv_time_months"
      ],
      "execution_count": 0,
      "outputs": []
    },
    {
      "cell_type": "code",
      "metadata": {
        "id": "K6EsAdEt4RNP",
        "colab_type": "code",
        "colab": {}
      },
      "source": [
        "test_targets = df_test.Surv_time_months"
      ],
      "execution_count": 0,
      "outputs": []
    },
    {
      "cell_type": "markdown",
      "metadata": {
        "id": "dtPx7PMDnXM3",
        "colab_type": "text"
      },
      "source": [
        "#Z score dei dati"
      ]
    },
    {
      "cell_type": "code",
      "metadata": {
        "id": "XK4Qji2EnVV4",
        "colab_type": "code",
        "colab": {}
      },
      "source": [
        "mean = train_data.mean(axis=0)\n",
        "train_data_stand = train_data - mean\n",
        "std = train_data.std(axis=0)\n",
        "train_data_stand /= std"
      ],
      "execution_count": 0,
      "outputs": []
    },
    {
      "cell_type": "code",
      "metadata": {
        "id": "YOVOoNOvm0Yx",
        "colab_type": "code",
        "colab": {}
      },
      "source": [
        "test_data_stand = test_data - mean\n",
        "test_data_stand /= std"
      ],
      "execution_count": 0,
      "outputs": []
    },
    {
      "cell_type": "markdown",
      "metadata": {
        "id": "Mn0tkOGc3LKN",
        "colab_type": "text"
      },
      "source": [
        "#PCA"
      ]
    },
    {
      "cell_type": "code",
      "metadata": {
        "id": "oS76u6iu3Seg",
        "colab_type": "code",
        "colab": {}
      },
      "source": [
        "from sklearn.decomposition import PCA"
      ],
      "execution_count": 0,
      "outputs": []
    },
    {
      "cell_type": "code",
      "metadata": {
        "id": "KCjC4zqJ3bui",
        "colab_type": "code",
        "colab": {}
      },
      "source": [
        "pca = PCA(n_components=0.9, svd_solver='full')"
      ],
      "execution_count": 0,
      "outputs": []
    },
    {
      "cell_type": "code",
      "metadata": {
        "id": "dLUCf9qX4p_e",
        "colab_type": "code",
        "outputId": "040ebf5d-2248-4dc7-e867-a195a58825c5",
        "colab": {
          "base_uri": "https://localhost:8080/",
          "height": 54
        }
      },
      "source": [
        "pca.fit(train_data_stand)"
      ],
      "execution_count": 0,
      "outputs": [
        {
          "output_type": "execute_result",
          "data": {
            "text/plain": [
              "PCA(copy=True, iterated_power='auto', n_components=0.9, random_state=None,\n",
              "    svd_solver='full', tol=0.0, whiten=False)"
            ]
          },
          "metadata": {
            "tags": []
          },
          "execution_count": 16
        }
      ]
    },
    {
      "cell_type": "code",
      "metadata": {
        "id": "QfyaKgNZ44o3",
        "colab_type": "code",
        "colab": {}
      },
      "source": [
        "train_data_stand_pca = pca.transform(train_data_stand)\n",
        "test_data_stand_pca = pca.transform(test_data_stand)"
      ],
      "execution_count": 0,
      "outputs": []
    },
    {
      "cell_type": "code",
      "metadata": {
        "id": "Uz9C4nl05b_g",
        "colab_type": "code",
        "outputId": "fc10223c-7e6c-45be-fa61-c14873297377",
        "colab": {
          "base_uri": "https://localhost:8080/",
          "height": 35
        }
      },
      "source": [
        "train_data_stand_pca.shape"
      ],
      "execution_count": 0,
      "outputs": [
        {
          "output_type": "execute_result",
          "data": {
            "text/plain": [
              "(131, 9)"
            ]
          },
          "metadata": {
            "tags": []
          },
          "execution_count": 18
        }
      ]
    },
    {
      "cell_type": "markdown",
      "metadata": {
        "id": "8wSKvSu4s5ip",
        "colab_type": "text"
      },
      "source": [
        "#Building Network"
      ]
    },
    {
      "cell_type": "code",
      "metadata": {
        "id": "1tX_y6KKs3pM",
        "colab_type": "code",
        "outputId": "4a1563d6-d8b7-47f8-fde0-a1586a278d61",
        "colab": {
          "base_uri": "https://localhost:8080/",
          "height": 83
        }
      },
      "source": [
        "from keras import models"
      ],
      "execution_count": 0,
      "outputs": [
        {
          "output_type": "stream",
          "text": [
            "Using TensorFlow backend.\n"
          ],
          "name": "stderr"
        },
        {
          "output_type": "display_data",
          "data": {
            "text/html": [
              "<p style=\"color: red;\">\n",
              "The default version of TensorFlow in Colab will soon switch to TensorFlow 2.x.<br>\n",
              "We recommend you <a href=\"https://www.tensorflow.org/guide/migrate\" target=\"_blank\">upgrade</a> now \n",
              "or ensure your notebook will continue to use TensorFlow 1.x via the <code>%tensorflow_version 1.x</code> magic:\n",
              "<a href=\"https://colab.research.google.com/notebooks/tensorflow_version.ipynb\" target=\"_blank\">more info</a>.</p>\n"
            ],
            "text/plain": [
              "<IPython.core.display.HTML object>"
            ]
          },
          "metadata": {
            "tags": []
          }
        }
      ]
    },
    {
      "cell_type": "code",
      "metadata": {
        "id": "ShwM6YMqsxxJ",
        "colab_type": "code",
        "colab": {}
      },
      "source": [
        "from keras import layers"
      ],
      "execution_count": 0,
      "outputs": []
    },
    {
      "cell_type": "code",
      "metadata": {
        "id": "7OAEgN31tHVV",
        "colab_type": "code",
        "colab": {}
      },
      "source": [
        "def build_model():\n",
        "  model = models.Sequential()\n",
        "  model.add(layers.Dense(5, activation='relu', input_shape=(9,)))\n",
        "  model.add(layers.Dense(1))\n",
        "  model.compile(optimizer='rmsprop', loss='mse', metrics=['mae'])\n",
        "  return model"
      ],
      "execution_count": 0,
      "outputs": []
    },
    {
      "cell_type": "markdown",
      "metadata": {
        "id": "sA7Ye1SZDUXB",
        "colab_type": "text"
      },
      "source": [
        "Note that you compile the network with the mse loss function—mean squared error,\n",
        "the square of the difference between the predictions and the targets. This is a widely\n",
        "used loss function for regression problems.\n",
        "\n"
      ]
    },
    {
      "cell_type": "markdown",
      "metadata": {
        "id": "jXmq-i3sDXQA",
        "colab_type": "text"
      },
      "source": [
        "You’re also monitoring a new metric during training: mean absolute error (MAE). It’s\n",
        "the absolute value of the difference between the predictions and the targets. For\n",
        "instance, an MAE of 0.5 on this problem would mean your predictions are off by $500\n",
        "on average."
      ]
    },
    {
      "cell_type": "markdown",
      "metadata": {
        "id": "QL7aYuEc_I-q",
        "colab_type": "text"
      },
      "source": [
        "#K-Fold"
      ]
    },
    {
      "cell_type": "code",
      "metadata": {
        "id": "FYsyGVcJ_Ir8",
        "colab_type": "code",
        "colab": {}
      },
      "source": [
        "from sklearn.model_selection import KFold"
      ],
      "execution_count": 0,
      "outputs": []
    },
    {
      "cell_type": "code",
      "metadata": {
        "id": "DXE1vJIW_bbm",
        "colab_type": "code",
        "outputId": "c815070e-7ba0-46d5-8394-27412ecd437c",
        "colab": {
          "base_uri": "https://localhost:8080/",
          "height": 35
        }
      },
      "source": [
        "kf = KFold(n_splits=3, shuffle=True, random_state=1)\n",
        "kf.get_n_splits(train_data_stand_pca, train_targets)"
      ],
      "execution_count": 0,
      "outputs": [
        {
          "output_type": "execute_result",
          "data": {
            "text/plain": [
              "3"
            ]
          },
          "metadata": {
            "tags": []
          },
          "execution_count": 23
        }
      ]
    },
    {
      "cell_type": "code",
      "metadata": {
        "id": "Me-XQzPyD1gi",
        "colab_type": "code",
        "outputId": "2a3e0b37-b2fd-4a81-c3a1-6d6d4f5032a3",
        "colab": {
          "base_uri": "https://localhost:8080/",
          "height": 403
        }
      },
      "source": [
        "for train_index, test_index in kf.split(train_data_stand_pca, train_targets):\n",
        "    print(\"TRAIN:\", train_index, \"TEST:\", test_index)"
      ],
      "execution_count": 0,
      "outputs": [
        {
          "output_type": "stream",
          "text": [
            "TRAIN: [  0   1   3   6   7   8   9  10  11  13  14  15  16  18  19  20  21  22\n",
            "  23  24  25  26  27  28  29  30  32  34  36  37  38  39  41  43  47  49\n",
            "  50  52  57  60  61  63  64  65  67  68  69  70  71  72  74  76  77  78\n",
            "  79  81  83  84  86  87  88  90  92  94  95  96  99 100 101 103 105 106\n",
            " 107 108 109 112 113 115 117 119 120 122 123 125 127 129 130] TEST: [  2   4   5  12  17  31  33  35  40  42  44  45  46  48  51  53  54  55\n",
            "  56  58  59  62  66  73  75  80  82  85  89  91  93  97  98 102 104 110\n",
            " 111 114 116 118 121 124 126 128]\n",
            "TRAIN: [  0   1   2   4   5   6   7   8   9  11  12  13  14  16  17  18  20  22\n",
            "  25  28  29  31  33  35  37  40  42  44  45  46  48  50  51  53  54  55\n",
            "  56  57  58  59  60  61  62  63  64  66  68  71  72  73  75  76  79  80\n",
            "  81  82  84  85  86  87  88  89  91  93  94  96  97  98 101 102 104 105\n",
            " 106 107 109 110 111 114 116 117 118 119 121 124 125 126 128] TEST: [  3  10  15  19  21  23  24  26  27  30  32  34  36  38  39  41  43  47\n",
            "  49  52  65  67  69  70  74  77  78  83  90  92  95  99 100 103 108 112\n",
            " 113 115 120 122 123 127 129 130]\n",
            "TRAIN: [  2   3   4   5  10  12  15  17  19  21  23  24  26  27  30  31  32  33\n",
            "  34  35  36  38  39  40  41  42  43  44  45  46  47  48  49  51  52  53\n",
            "  54  55  56  58  59  62  65  66  67  69  70  73  74  75  77  78  80  82\n",
            "  83  85  89  90  91  92  93  95  97  98  99 100 102 103 104 108 110 111\n",
            " 112 113 114 115 116 118 120 121 122 123 124 126 127 128 129 130] TEST: [  0   1   6   7   8   9  11  13  14  16  18  20  22  25  28  29  37  50\n",
            "  57  60  61  63  64  68  71  72  76  79  81  84  86  87  88  94  96 101\n",
            " 105 106 107 109 117 119 125]\n"
          ],
          "name": "stdout"
        }
      ]
    },
    {
      "cell_type": "markdown",
      "metadata": {
        "id": "zf2aaDwz75lc",
        "colab_type": "text"
      },
      "source": [
        ""
      ]
    },
    {
      "cell_type": "code",
      "metadata": {
        "id": "QNHd1cgxCVmE",
        "colab_type": "code",
        "outputId": "56ea70bc-097e-4a2c-d6a7-7f6cb973cd57",
        "colab": {
          "base_uri": "https://localhost:8080/",
          "height": 1000
        }
      },
      "source": [
        "num_epochs = 100\n",
        "all_mae_histories = []\n",
        "all_mae_val_histories = []\n",
        "all_loss_histories = []\n",
        "all_loss_val_histories = []\n",
        "\n",
        "for train_index, val_index in kf.split(train_data_stand_pca, train_targets):\n",
        "  partial_train_data = np.array([train_data_stand_pca[i] for i in train_index])\n",
        "  partial_train_targets = np.array([train_targets[i] for i in train_index])\n",
        "  \n",
        "  val_data = np.array([train_data_stand_pca[i] for i in val_index])\n",
        "  val_targets = np.array([train_targets[i] for i in val_index])\n",
        "\n",
        "  model = build_model()\n",
        "  history = model.fit(partial_train_data, partial_train_targets, validation_data=(val_data, val_targets), \n",
        "                      epochs= num_epochs, batch_size=1)\n",
        "  \n",
        "  mae_history = history.history['mean_absolute_error']\n",
        "  all_mae_histories.append(mae_history)\n",
        "\n",
        "  mae_val_history = history.history['val_mean_absolute_error']\n",
        "  all_mae_val_histories.append(mae_val_history)\n",
        "\n",
        "  loss_history = history.history['loss']\n",
        "  all_loss_histories.append(loss_history)\n",
        "\n",
        "  loss_val_history = history.history['val_loss']\n",
        "  all_loss_val_histories.append(loss_val_history)\n"
      ],
      "execution_count": 0,
      "outputs": [
        {
          "output_type": "stream",
          "text": [
            "Train on 87 samples, validate on 44 samples\n",
            "Epoch 1/100\n",
            "87/87 [==============================] - 0s 3ms/step - loss: 791.4550 - mean_absolute_error: 22.5015 - val_loss: 588.9983 - val_mean_absolute_error: 18.7071\n",
            "Epoch 2/100\n",
            "87/87 [==============================] - 0s 1ms/step - loss: 777.3159 - mean_absolute_error: 22.1143 - val_loss: 572.3977 - val_mean_absolute_error: 18.2230\n",
            "Epoch 3/100\n",
            "87/87 [==============================] - 0s 1ms/step - loss: 765.1585 - mean_absolute_error: 21.7286 - val_loss: 557.5416 - val_mean_absolute_error: 17.7725\n",
            "Epoch 4/100\n",
            "87/87 [==============================] - 0s 1ms/step - loss: 752.2143 - mean_absolute_error: 21.3920 - val_loss: 542.3866 - val_mean_absolute_error: 17.2955\n",
            "Epoch 5/100\n",
            "87/87 [==============================] - 0s 1ms/step - loss: 740.3229 - mean_absolute_error: 21.1075 - val_loss: 528.4569 - val_mean_absolute_error: 16.8781\n",
            "Epoch 6/100\n",
            "87/87 [==============================] - 0s 1ms/step - loss: 728.6624 - mean_absolute_error: 20.8608 - val_loss: 514.5211 - val_mean_absolute_error: 16.4543\n",
            "Epoch 7/100\n",
            "87/87 [==============================] - 0s 1ms/step - loss: 716.9465 - mean_absolute_error: 20.6985 - val_loss: 501.5623 - val_mean_absolute_error: 16.0848\n",
            "Epoch 8/100\n",
            "87/87 [==============================] - 0s 1ms/step - loss: 706.3434 - mean_absolute_error: 20.5268 - val_loss: 489.2111 - val_mean_absolute_error: 15.7320\n",
            "Epoch 9/100\n",
            "87/87 [==============================] - 0s 1ms/step - loss: 696.4208 - mean_absolute_error: 20.3593 - val_loss: 477.9984 - val_mean_absolute_error: 15.4354\n",
            "Epoch 10/100\n",
            "87/87 [==============================] - 0s 1ms/step - loss: 686.2162 - mean_absolute_error: 20.1949 - val_loss: 466.5587 - val_mean_absolute_error: 15.1852\n",
            "Epoch 11/100\n",
            "87/87 [==============================] - 0s 1ms/step - loss: 677.0952 - mean_absolute_error: 20.0630 - val_loss: 456.3606 - val_mean_absolute_error: 15.0072\n",
            "Epoch 12/100\n",
            "87/87 [==============================] - 0s 1ms/step - loss: 668.0664 - mean_absolute_error: 19.9183 - val_loss: 446.4946 - val_mean_absolute_error: 14.8493\n",
            "Epoch 13/100\n",
            "87/87 [==============================] - 0s 1ms/step - loss: 659.0099 - mean_absolute_error: 19.7789 - val_loss: 436.7111 - val_mean_absolute_error: 14.6872\n",
            "Epoch 14/100\n",
            "87/87 [==============================] - 0s 1ms/step - loss: 649.5656 - mean_absolute_error: 19.6129 - val_loss: 427.3697 - val_mean_absolute_error: 14.5337\n",
            "Epoch 15/100\n",
            "87/87 [==============================] - 0s 1ms/step - loss: 641.0860 - mean_absolute_error: 19.4567 - val_loss: 419.1255 - val_mean_absolute_error: 14.3969\n",
            "Epoch 16/100\n",
            "87/87 [==============================] - 0s 1ms/step - loss: 631.9739 - mean_absolute_error: 19.3091 - val_loss: 410.2711 - val_mean_absolute_error: 14.2389\n",
            "Epoch 17/100\n",
            "87/87 [==============================] - 0s 1ms/step - loss: 623.9330 - mean_absolute_error: 19.1555 - val_loss: 402.4889 - val_mean_absolute_error: 14.0991\n",
            "Epoch 18/100\n",
            "87/87 [==============================] - 0s 1ms/step - loss: 614.8818 - mean_absolute_error: 19.0069 - val_loss: 394.7346 - val_mean_absolute_error: 13.9391\n",
            "Epoch 19/100\n",
            "87/87 [==============================] - 0s 1ms/step - loss: 606.8094 - mean_absolute_error: 18.8427 - val_loss: 387.5304 - val_mean_absolute_error: 13.8154\n",
            "Epoch 20/100\n",
            "87/87 [==============================] - 0s 1ms/step - loss: 598.2119 - mean_absolute_error: 18.6664 - val_loss: 380.6908 - val_mean_absolute_error: 13.6951\n",
            "Epoch 21/100\n",
            "87/87 [==============================] - 0s 1ms/step - loss: 589.8826 - mean_absolute_error: 18.5012 - val_loss: 373.3732 - val_mean_absolute_error: 13.5565\n",
            "Epoch 22/100\n",
            "87/87 [==============================] - 0s 1ms/step - loss: 580.5304 - mean_absolute_error: 18.3513 - val_loss: 366.4462 - val_mean_absolute_error: 13.4216\n",
            "Epoch 23/100\n",
            "87/87 [==============================] - 0s 1ms/step - loss: 571.4397 - mean_absolute_error: 18.1644 - val_loss: 359.7372 - val_mean_absolute_error: 13.3047\n",
            "Epoch 24/100\n",
            "87/87 [==============================] - 0s 1ms/step - loss: 562.4993 - mean_absolute_error: 18.0144 - val_loss: 353.5197 - val_mean_absolute_error: 13.1760\n",
            "Epoch 25/100\n",
            "87/87 [==============================] - 0s 1ms/step - loss: 552.5336 - mean_absolute_error: 17.8287 - val_loss: 347.2252 - val_mean_absolute_error: 13.0571\n",
            "Epoch 26/100\n",
            "87/87 [==============================] - 0s 1ms/step - loss: 542.4575 - mean_absolute_error: 17.6246 - val_loss: 341.4648 - val_mean_absolute_error: 12.9261\n",
            "Epoch 27/100\n",
            "87/87 [==============================] - 0s 1ms/step - loss: 532.4138 - mean_absolute_error: 17.4290 - val_loss: 335.4921 - val_mean_absolute_error: 12.8218\n",
            "Epoch 28/100\n",
            "87/87 [==============================] - 0s 1ms/step - loss: 521.7713 - mean_absolute_error: 17.2066 - val_loss: 329.6335 - val_mean_absolute_error: 12.7185\n",
            "Epoch 29/100\n",
            "87/87 [==============================] - 0s 1ms/step - loss: 510.3804 - mean_absolute_error: 17.0324 - val_loss: 324.3924 - val_mean_absolute_error: 12.6215\n",
            "Epoch 30/100\n",
            "87/87 [==============================] - 0s 1ms/step - loss: 499.7051 - mean_absolute_error: 16.8240 - val_loss: 319.0158 - val_mean_absolute_error: 12.5747\n",
            "Epoch 31/100\n",
            "87/87 [==============================] - 0s 1ms/step - loss: 488.3172 - mean_absolute_error: 16.6320 - val_loss: 313.8709 - val_mean_absolute_error: 12.5326\n",
            "Epoch 32/100\n",
            "87/87 [==============================] - 0s 1ms/step - loss: 477.2538 - mean_absolute_error: 16.4487 - val_loss: 309.6991 - val_mean_absolute_error: 12.4842\n",
            "Epoch 33/100\n",
            "87/87 [==============================] - 0s 1ms/step - loss: 466.5743 - mean_absolute_error: 16.2456 - val_loss: 305.1520 - val_mean_absolute_error: 12.4291\n",
            "Epoch 34/100\n",
            "87/87 [==============================] - 0s 1ms/step - loss: 455.2333 - mean_absolute_error: 16.0454 - val_loss: 300.9427 - val_mean_absolute_error: 12.3715\n",
            "Epoch 35/100\n",
            "87/87 [==============================] - 0s 1ms/step - loss: 444.1972 - mean_absolute_error: 15.8374 - val_loss: 297.1668 - val_mean_absolute_error: 12.2991\n",
            "Epoch 36/100\n",
            "87/87 [==============================] - 0s 1ms/step - loss: 432.2987 - mean_absolute_error: 15.5960 - val_loss: 293.3963 - val_mean_absolute_error: 12.2179\n",
            "Epoch 37/100\n",
            "87/87 [==============================] - 0s 1ms/step - loss: 419.8471 - mean_absolute_error: 15.3755 - val_loss: 289.6795 - val_mean_absolute_error: 12.1297\n",
            "Epoch 38/100\n",
            "87/87 [==============================] - 0s 1ms/step - loss: 405.4249 - mean_absolute_error: 15.1214 - val_loss: 285.8338 - val_mean_absolute_error: 12.0384\n",
            "Epoch 39/100\n",
            "87/87 [==============================] - 0s 1ms/step - loss: 393.1455 - mean_absolute_error: 14.8541 - val_loss: 282.8128 - val_mean_absolute_error: 11.9714\n",
            "Epoch 40/100\n",
            "87/87 [==============================] - 0s 1ms/step - loss: 379.6829 - mean_absolute_error: 14.5870 - val_loss: 279.6640 - val_mean_absolute_error: 11.9107\n",
            "Epoch 41/100\n",
            "87/87 [==============================] - 0s 1ms/step - loss: 368.0465 - mean_absolute_error: 14.3171 - val_loss: 276.6456 - val_mean_absolute_error: 11.8488\n",
            "Epoch 42/100\n",
            "87/87 [==============================] - 0s 1ms/step - loss: 356.9459 - mean_absolute_error: 14.0821 - val_loss: 274.0012 - val_mean_absolute_error: 11.7850\n",
            "Epoch 43/100\n",
            "87/87 [==============================] - 0s 1ms/step - loss: 345.1167 - mean_absolute_error: 13.8599 - val_loss: 271.4685 - val_mean_absolute_error: 11.7176\n",
            "Epoch 44/100\n",
            "87/87 [==============================] - 0s 1ms/step - loss: 335.6478 - mean_absolute_error: 13.6641 - val_loss: 269.3318 - val_mean_absolute_error: 11.6548\n",
            "Epoch 45/100\n",
            "87/87 [==============================] - 0s 1ms/step - loss: 325.8357 - mean_absolute_error: 13.4481 - val_loss: 267.5287 - val_mean_absolute_error: 11.5909\n",
            "Epoch 46/100\n",
            "87/87 [==============================] - 0s 1ms/step - loss: 316.7385 - mean_absolute_error: 13.2639 - val_loss: 266.2241 - val_mean_absolute_error: 11.5697\n",
            "Epoch 47/100\n",
            "87/87 [==============================] - 0s 1ms/step - loss: 307.9962 - mean_absolute_error: 13.0543 - val_loss: 264.9951 - val_mean_absolute_error: 11.5587\n",
            "Epoch 48/100\n",
            "87/87 [==============================] - 0s 1ms/step - loss: 300.5645 - mean_absolute_error: 12.8695 - val_loss: 263.9852 - val_mean_absolute_error: 11.5439\n",
            "Epoch 49/100\n",
            "87/87 [==============================] - 0s 1ms/step - loss: 293.9883 - mean_absolute_error: 12.6826 - val_loss: 263.0880 - val_mean_absolute_error: 11.5324\n",
            "Epoch 50/100\n",
            "87/87 [==============================] - 0s 1ms/step - loss: 287.5651 - mean_absolute_error: 12.5444 - val_loss: 262.5602 - val_mean_absolute_error: 11.5297\n",
            "Epoch 51/100\n",
            "87/87 [==============================] - 0s 1ms/step - loss: 281.9539 - mean_absolute_error: 12.4462 - val_loss: 262.3600 - val_mean_absolute_error: 11.5271\n",
            "Epoch 52/100\n",
            "87/87 [==============================] - 0s 1ms/step - loss: 276.7538 - mean_absolute_error: 12.3796 - val_loss: 262.1544 - val_mean_absolute_error: 11.5444\n",
            "Epoch 53/100\n",
            "87/87 [==============================] - 0s 1ms/step - loss: 271.8972 - mean_absolute_error: 12.2727 - val_loss: 261.9432 - val_mean_absolute_error: 11.5642\n",
            "Epoch 54/100\n",
            "87/87 [==============================] - 0s 1ms/step - loss: 267.2667 - mean_absolute_error: 12.2114 - val_loss: 262.1329 - val_mean_absolute_error: 11.5916\n",
            "Epoch 55/100\n",
            "87/87 [==============================] - 0s 1ms/step - loss: 263.0532 - mean_absolute_error: 12.1556 - val_loss: 262.5353 - val_mean_absolute_error: 11.6376\n",
            "Epoch 56/100\n",
            "87/87 [==============================] - 0s 1ms/step - loss: 260.0641 - mean_absolute_error: 12.0655 - val_loss: 262.8177 - val_mean_absolute_error: 11.6755\n",
            "Epoch 57/100\n",
            "87/87 [==============================] - 0s 1ms/step - loss: 256.8986 - mean_absolute_error: 12.0416 - val_loss: 263.4205 - val_mean_absolute_error: 11.7190\n",
            "Epoch 58/100\n",
            "87/87 [==============================] - 0s 1ms/step - loss: 254.3023 - mean_absolute_error: 12.0124 - val_loss: 263.6899 - val_mean_absolute_error: 11.7442\n",
            "Epoch 59/100\n",
            "87/87 [==============================] - 0s 1ms/step - loss: 252.3038 - mean_absolute_error: 11.9616 - val_loss: 263.8817 - val_mean_absolute_error: 11.7706\n",
            "Epoch 60/100\n",
            "87/87 [==============================] - 0s 1ms/step - loss: 249.9208 - mean_absolute_error: 11.9211 - val_loss: 264.7113 - val_mean_absolute_error: 11.8039\n",
            "Epoch 61/100\n",
            "87/87 [==============================] - 0s 1ms/step - loss: 249.0399 - mean_absolute_error: 11.8912 - val_loss: 265.2031 - val_mean_absolute_error: 11.8268\n",
            "Epoch 62/100\n",
            "87/87 [==============================] - 0s 1ms/step - loss: 247.1725 - mean_absolute_error: 11.8699 - val_loss: 265.5478 - val_mean_absolute_error: 11.8636\n",
            "Epoch 63/100\n",
            "87/87 [==============================] - 0s 1ms/step - loss: 245.7438 - mean_absolute_error: 11.8499 - val_loss: 266.2410 - val_mean_absolute_error: 11.8994\n",
            "Epoch 64/100\n",
            "87/87 [==============================] - 0s 1ms/step - loss: 244.9332 - mean_absolute_error: 11.8156 - val_loss: 266.9792 - val_mean_absolute_error: 11.9427\n",
            "Epoch 65/100\n",
            "87/87 [==============================] - 0s 1ms/step - loss: 243.2515 - mean_absolute_error: 11.7965 - val_loss: 267.6262 - val_mean_absolute_error: 11.9873\n",
            "Epoch 66/100\n",
            "87/87 [==============================] - 0s 1ms/step - loss: 241.9976 - mean_absolute_error: 11.7732 - val_loss: 268.2367 - val_mean_absolute_error: 12.0178\n",
            "Epoch 67/100\n",
            "87/87 [==============================] - 0s 1ms/step - loss: 241.4519 - mean_absolute_error: 11.7453 - val_loss: 268.6598 - val_mean_absolute_error: 12.0452\n",
            "Epoch 68/100\n",
            "87/87 [==============================] - 0s 1ms/step - loss: 239.9662 - mean_absolute_error: 11.7525 - val_loss: 269.2555 - val_mean_absolute_error: 12.0708\n",
            "Epoch 69/100\n",
            "87/87 [==============================] - 0s 1ms/step - loss: 239.4164 - mean_absolute_error: 11.7326 - val_loss: 269.6054 - val_mean_absolute_error: 12.0815\n",
            "Epoch 70/100\n",
            "87/87 [==============================] - 0s 1ms/step - loss: 238.8094 - mean_absolute_error: 11.7192 - val_loss: 270.1110 - val_mean_absolute_error: 12.1095\n",
            "Epoch 71/100\n",
            "87/87 [==============================] - 0s 1ms/step - loss: 237.9580 - mean_absolute_error: 11.6972 - val_loss: 270.8255 - val_mean_absolute_error: 12.1526\n",
            "Epoch 72/100\n",
            "87/87 [==============================] - 0s 1ms/step - loss: 237.2449 - mean_absolute_error: 11.6830 - val_loss: 271.1745 - val_mean_absolute_error: 12.1715\n",
            "Epoch 73/100\n",
            "87/87 [==============================] - 0s 1ms/step - loss: 236.2419 - mean_absolute_error: 11.6644 - val_loss: 271.8015 - val_mean_absolute_error: 12.2061\n",
            "Epoch 74/100\n",
            "87/87 [==============================] - 0s 1ms/step - loss: 235.4064 - mean_absolute_error: 11.6621 - val_loss: 272.2821 - val_mean_absolute_error: 12.2270\n",
            "Epoch 75/100\n",
            "87/87 [==============================] - 0s 1ms/step - loss: 235.1523 - mean_absolute_error: 11.6576 - val_loss: 272.3532 - val_mean_absolute_error: 12.2406\n",
            "Epoch 76/100\n",
            "87/87 [==============================] - 0s 1ms/step - loss: 233.9959 - mean_absolute_error: 11.6311 - val_loss: 273.1019 - val_mean_absolute_error: 12.2607\n",
            "Epoch 77/100\n",
            "87/87 [==============================] - 0s 1ms/step - loss: 233.4822 - mean_absolute_error: 11.6201 - val_loss: 273.6895 - val_mean_absolute_error: 12.2969\n",
            "Epoch 78/100\n",
            "87/87 [==============================] - 0s 1ms/step - loss: 233.2583 - mean_absolute_error: 11.6330 - val_loss: 274.4178 - val_mean_absolute_error: 12.3195\n",
            "Epoch 79/100\n",
            "87/87 [==============================] - 0s 1ms/step - loss: 232.4571 - mean_absolute_error: 11.6235 - val_loss: 274.8189 - val_mean_absolute_error: 12.3335\n",
            "Epoch 80/100\n",
            "87/87 [==============================] - 0s 1ms/step - loss: 232.0906 - mean_absolute_error: 11.5996 - val_loss: 275.3036 - val_mean_absolute_error: 12.3624\n",
            "Epoch 81/100\n",
            "87/87 [==============================] - 0s 1ms/step - loss: 231.3126 - mean_absolute_error: 11.5954 - val_loss: 275.6081 - val_mean_absolute_error: 12.3812\n",
            "Epoch 82/100\n",
            "87/87 [==============================] - 0s 1ms/step - loss: 230.9204 - mean_absolute_error: 11.5930 - val_loss: 276.2711 - val_mean_absolute_error: 12.4110\n",
            "Epoch 83/100\n",
            "87/87 [==============================] - 0s 1ms/step - loss: 230.3245 - mean_absolute_error: 11.5896 - val_loss: 276.5506 - val_mean_absolute_error: 12.4243\n",
            "Epoch 84/100\n",
            "87/87 [==============================] - 0s 1ms/step - loss: 229.8065 - mean_absolute_error: 11.5817 - val_loss: 276.9261 - val_mean_absolute_error: 12.4430\n",
            "Epoch 85/100\n",
            "87/87 [==============================] - 0s 1ms/step - loss: 229.0403 - mean_absolute_error: 11.5709 - val_loss: 276.9774 - val_mean_absolute_error: 12.4491\n",
            "Epoch 86/100\n",
            "87/87 [==============================] - 0s 1ms/step - loss: 228.8472 - mean_absolute_error: 11.5556 - val_loss: 277.1907 - val_mean_absolute_error: 12.4597\n",
            "Epoch 87/100\n",
            "87/87 [==============================] - 0s 1ms/step - loss: 228.0981 - mean_absolute_error: 11.5417 - val_loss: 277.5648 - val_mean_absolute_error: 12.4750\n",
            "Epoch 88/100\n",
            "87/87 [==============================] - 0s 1ms/step - loss: 227.7090 - mean_absolute_error: 11.5549 - val_loss: 277.9031 - val_mean_absolute_error: 12.4919\n",
            "Epoch 89/100\n",
            "87/87 [==============================] - 0s 1ms/step - loss: 227.3860 - mean_absolute_error: 11.5367 - val_loss: 278.1030 - val_mean_absolute_error: 12.4932\n",
            "Epoch 90/100\n",
            "87/87 [==============================] - 0s 1ms/step - loss: 226.6075 - mean_absolute_error: 11.5314 - val_loss: 278.4532 - val_mean_absolute_error: 12.5152\n",
            "Epoch 91/100\n",
            "87/87 [==============================] - 0s 1ms/step - loss: 226.1416 - mean_absolute_error: 11.5182 - val_loss: 278.4164 - val_mean_absolute_error: 12.5148\n",
            "Epoch 92/100\n",
            "87/87 [==============================] - 0s 1ms/step - loss: 225.7367 - mean_absolute_error: 11.5084 - val_loss: 278.5584 - val_mean_absolute_error: 12.5249\n",
            "Epoch 93/100\n",
            "87/87 [==============================] - 0s 1ms/step - loss: 225.1958 - mean_absolute_error: 11.4978 - val_loss: 278.8699 - val_mean_absolute_error: 12.5421\n",
            "Epoch 94/100\n",
            "87/87 [==============================] - 0s 1ms/step - loss: 224.5768 - mean_absolute_error: 11.4972 - val_loss: 279.0300 - val_mean_absolute_error: 12.5490\n",
            "Epoch 95/100\n",
            "87/87 [==============================] - 0s 1ms/step - loss: 224.4393 - mean_absolute_error: 11.4984 - val_loss: 278.7236 - val_mean_absolute_error: 12.5457\n",
            "Epoch 96/100\n",
            "87/87 [==============================] - 0s 1ms/step - loss: 224.0814 - mean_absolute_error: 11.4981 - val_loss: 278.8077 - val_mean_absolute_error: 12.5460\n",
            "Epoch 97/100\n",
            "87/87 [==============================] - 0s 1ms/step - loss: 223.9805 - mean_absolute_error: 11.4624 - val_loss: 278.8976 - val_mean_absolute_error: 12.5535\n",
            "Epoch 98/100\n",
            "87/87 [==============================] - 0s 1ms/step - loss: 223.3453 - mean_absolute_error: 11.4647 - val_loss: 279.0487 - val_mean_absolute_error: 12.5599\n",
            "Epoch 99/100\n",
            "87/87 [==============================] - 0s 1ms/step - loss: 222.5229 - mean_absolute_error: 11.4470 - val_loss: 279.4792 - val_mean_absolute_error: 12.5637\n",
            "Epoch 100/100\n",
            "87/87 [==============================] - 0s 1ms/step - loss: 222.5378 - mean_absolute_error: 11.4406 - val_loss: 279.8129 - val_mean_absolute_error: 12.5751\n",
            "Train on 87 samples, validate on 44 samples\n",
            "Epoch 1/100\n",
            "87/87 [==============================] - 0s 3ms/step - loss: 655.2373 - mean_absolute_error: 20.7254 - val_loss: 1159.4840 - val_mean_absolute_error: 28.2770\n",
            "Epoch 2/100\n",
            "87/87 [==============================] - 0s 1ms/step - loss: 632.0185 - mean_absolute_error: 20.2010 - val_loss: 1130.0677 - val_mean_absolute_error: 27.7773\n",
            "Epoch 3/100\n",
            "87/87 [==============================] - 0s 1ms/step - loss: 613.1921 - mean_absolute_error: 19.7297 - val_loss: 1104.0409 - val_mean_absolute_error: 27.3270\n",
            "Epoch 4/100\n",
            "87/87 [==============================] - 0s 1ms/step - loss: 594.8208 - mean_absolute_error: 19.2925 - val_loss: 1078.0251 - val_mean_absolute_error: 26.8716\n",
            "Epoch 5/100\n",
            "87/87 [==============================] - 0s 1ms/step - loss: 577.5873 - mean_absolute_error: 18.8471 - val_loss: 1052.1284 - val_mean_absolute_error: 26.4100\n",
            "Epoch 6/100\n",
            "87/87 [==============================] - 0s 1ms/step - loss: 560.3854 - mean_absolute_error: 18.3969 - val_loss: 1027.2804 - val_mean_absolute_error: 25.9536\n",
            "Epoch 7/100\n",
            "87/87 [==============================] - 0s 1ms/step - loss: 545.3011 - mean_absolute_error: 17.9834 - val_loss: 1004.4733 - val_mean_absolute_error: 25.5237\n",
            "Epoch 8/100\n",
            "87/87 [==============================] - 0s 1ms/step - loss: 529.5211 - mean_absolute_error: 17.5624 - val_loss: 981.3975 - val_mean_absolute_error: 25.0753\n",
            "Epoch 9/100\n",
            "87/87 [==============================] - 0s 1ms/step - loss: 514.8833 - mean_absolute_error: 17.1682 - val_loss: 960.0805 - val_mean_absolute_error: 24.6489\n",
            "Epoch 10/100\n",
            "87/87 [==============================] - 0s 1ms/step - loss: 499.5040 - mean_absolute_error: 16.7670 - val_loss: 937.9937 - val_mean_absolute_error: 24.1926\n",
            "Epoch 11/100\n",
            "87/87 [==============================] - 0s 1ms/step - loss: 484.8757 - mean_absolute_error: 16.3747 - val_loss: 916.5433 - val_mean_absolute_error: 23.7440\n",
            "Epoch 12/100\n",
            "87/87 [==============================] - 0s 1ms/step - loss: 470.6497 - mean_absolute_error: 16.0066 - val_loss: 896.6272 - val_mean_absolute_error: 23.3298\n",
            "Epoch 13/100\n",
            "87/87 [==============================] - 0s 1ms/step - loss: 457.4911 - mean_absolute_error: 15.6124 - val_loss: 877.8679 - val_mean_absolute_error: 22.9831\n",
            "Epoch 14/100\n",
            "87/87 [==============================] - 0s 1ms/step - loss: 444.4821 - mean_absolute_error: 15.2689 - val_loss: 859.8130 - val_mean_absolute_error: 22.6545\n",
            "Epoch 15/100\n",
            "87/87 [==============================] - 0s 1ms/step - loss: 432.2463 - mean_absolute_error: 14.9292 - val_loss: 842.2709 - val_mean_absolute_error: 22.3583\n",
            "Epoch 16/100\n",
            "87/87 [==============================] - 0s 1ms/step - loss: 419.8729 - mean_absolute_error: 14.6270 - val_loss: 824.8748 - val_mean_absolute_error: 22.0581\n",
            "Epoch 17/100\n",
            "87/87 [==============================] - 0s 1ms/step - loss: 407.9367 - mean_absolute_error: 14.3539 - val_loss: 807.6914 - val_mean_absolute_error: 21.7563\n",
            "Epoch 18/100\n",
            "87/87 [==============================] - 0s 1ms/step - loss: 395.7515 - mean_absolute_error: 14.0632 - val_loss: 791.2861 - val_mean_absolute_error: 21.4580\n",
            "Epoch 19/100\n",
            "87/87 [==============================] - 0s 1ms/step - loss: 384.3344 - mean_absolute_error: 13.7781 - val_loss: 775.0082 - val_mean_absolute_error: 21.1565\n",
            "Epoch 20/100\n",
            "87/87 [==============================] - 0s 1ms/step - loss: 373.3356 - mean_absolute_error: 13.5416 - val_loss: 759.0001 - val_mean_absolute_error: 20.8714\n",
            "Epoch 21/100\n",
            "87/87 [==============================] - 0s 1ms/step - loss: 363.0481 - mean_absolute_error: 13.3003 - val_loss: 744.0903 - val_mean_absolute_error: 20.6295\n",
            "Epoch 22/100\n",
            "87/87 [==============================] - 0s 1ms/step - loss: 352.7557 - mean_absolute_error: 13.0501 - val_loss: 729.1503 - val_mean_absolute_error: 20.3757\n",
            "Epoch 23/100\n",
            "87/87 [==============================] - 0s 1ms/step - loss: 342.6390 - mean_absolute_error: 12.8100 - val_loss: 714.7812 - val_mean_absolute_error: 20.1395\n",
            "Epoch 24/100\n",
            "87/87 [==============================] - 0s 1ms/step - loss: 333.0563 - mean_absolute_error: 12.5855 - val_loss: 700.8912 - val_mean_absolute_error: 19.8975\n",
            "Epoch 25/100\n",
            "87/87 [==============================] - 0s 1ms/step - loss: 324.4189 - mean_absolute_error: 12.3498 - val_loss: 687.9090 - val_mean_absolute_error: 19.6757\n",
            "Epoch 26/100\n",
            "87/87 [==============================] - 0s 1ms/step - loss: 315.9154 - mean_absolute_error: 12.1395 - val_loss: 675.3468 - val_mean_absolute_error: 19.4530\n",
            "Epoch 27/100\n",
            "87/87 [==============================] - 0s 1ms/step - loss: 307.7377 - mean_absolute_error: 11.9562 - val_loss: 662.9033 - val_mean_absolute_error: 19.2371\n",
            "Epoch 28/100\n",
            "87/87 [==============================] - 0s 1ms/step - loss: 300.4725 - mean_absolute_error: 11.7704 - val_loss: 652.1608 - val_mean_absolute_error: 19.0642\n",
            "Epoch 29/100\n",
            "87/87 [==============================] - 0s 1ms/step - loss: 293.1833 - mean_absolute_error: 11.6063 - val_loss: 640.9876 - val_mean_absolute_error: 18.8689\n",
            "Epoch 30/100\n",
            "87/87 [==============================] - 0s 1ms/step - loss: 286.4303 - mean_absolute_error: 11.4331 - val_loss: 629.9146 - val_mean_absolute_error: 18.6800\n",
            "Epoch 31/100\n",
            "87/87 [==============================] - 0s 1ms/step - loss: 280.8399 - mean_absolute_error: 11.3036 - val_loss: 621.6854 - val_mean_absolute_error: 18.5395\n",
            "Epoch 32/100\n",
            "87/87 [==============================] - 0s 1ms/step - loss: 275.2976 - mean_absolute_error: 11.1731 - val_loss: 611.9767 - val_mean_absolute_error: 18.3644\n",
            "Epoch 33/100\n",
            "87/87 [==============================] - 0s 1ms/step - loss: 270.4503 - mean_absolute_error: 11.0666 - val_loss: 603.4288 - val_mean_absolute_error: 18.2145\n",
            "Epoch 34/100\n",
            "87/87 [==============================] - 0s 1ms/step - loss: 265.6303 - mean_absolute_error: 10.9481 - val_loss: 594.8375 - val_mean_absolute_error: 18.0607\n",
            "Epoch 35/100\n",
            "87/87 [==============================] - 0s 1ms/step - loss: 261.4230 - mean_absolute_error: 10.8488 - val_loss: 587.6560 - val_mean_absolute_error: 17.9230\n",
            "Epoch 36/100\n",
            "87/87 [==============================] - 0s 1ms/step - loss: 256.9921 - mean_absolute_error: 10.8011 - val_loss: 579.5808 - val_mean_absolute_error: 17.7691\n",
            "Epoch 37/100\n",
            "87/87 [==============================] - 0s 1ms/step - loss: 253.1371 - mean_absolute_error: 10.7406 - val_loss: 572.3885 - val_mean_absolute_error: 17.6299\n",
            "Epoch 38/100\n",
            "87/87 [==============================] - 0s 1ms/step - loss: 249.7102 - mean_absolute_error: 10.7101 - val_loss: 566.4592 - val_mean_absolute_error: 17.5140\n",
            "Epoch 39/100\n",
            "87/87 [==============================] - 0s 1ms/step - loss: 246.6563 - mean_absolute_error: 10.6643 - val_loss: 560.6368 - val_mean_absolute_error: 17.3978\n",
            "Epoch 40/100\n",
            "87/87 [==============================] - 0s 1ms/step - loss: 243.6423 - mean_absolute_error: 10.6116 - val_loss: 555.2845 - val_mean_absolute_error: 17.2859\n",
            "Epoch 41/100\n",
            "87/87 [==============================] - 0s 1ms/step - loss: 240.8518 - mean_absolute_error: 10.5718 - val_loss: 549.6380 - val_mean_absolute_error: 17.1620\n",
            "Epoch 42/100\n",
            "87/87 [==============================] - 0s 1ms/step - loss: 238.3035 - mean_absolute_error: 10.5316 - val_loss: 544.5189 - val_mean_absolute_error: 17.0518\n",
            "Epoch 43/100\n",
            "87/87 [==============================] - 0s 1ms/step - loss: 235.7293 - mean_absolute_error: 10.5226 - val_loss: 539.9486 - val_mean_absolute_error: 16.9414\n",
            "Epoch 44/100\n",
            "87/87 [==============================] - 0s 1ms/step - loss: 233.6349 - mean_absolute_error: 10.4911 - val_loss: 535.6310 - val_mean_absolute_error: 16.8385\n",
            "Epoch 45/100\n",
            "87/87 [==============================] - 0s 1ms/step - loss: 231.4627 - mean_absolute_error: 10.4649 - val_loss: 531.2078 - val_mean_absolute_error: 16.7358\n",
            "Epoch 46/100\n",
            "87/87 [==============================] - 0s 1ms/step - loss: 229.2530 - mean_absolute_error: 10.4549 - val_loss: 526.7961 - val_mean_absolute_error: 16.6321\n",
            "Epoch 47/100\n",
            "87/87 [==============================] - 0s 1ms/step - loss: 227.2902 - mean_absolute_error: 10.4491 - val_loss: 523.3353 - val_mean_absolute_error: 16.5438\n",
            "Epoch 48/100\n",
            "87/87 [==============================] - 0s 1ms/step - loss: 225.9208 - mean_absolute_error: 10.4351 - val_loss: 520.1947 - val_mean_absolute_error: 16.4722\n",
            "Epoch 49/100\n",
            "87/87 [==============================] - 0s 1ms/step - loss: 224.2503 - mean_absolute_error: 10.4285 - val_loss: 516.5344 - val_mean_absolute_error: 16.3739\n",
            "Epoch 50/100\n",
            "87/87 [==============================] - 0s 1ms/step - loss: 222.6643 - mean_absolute_error: 10.3918 - val_loss: 514.0145 - val_mean_absolute_error: 16.3029\n",
            "Epoch 51/100\n",
            "87/87 [==============================] - 0s 1ms/step - loss: 221.0723 - mean_absolute_error: 10.3938 - val_loss: 510.5317 - val_mean_absolute_error: 16.2073\n",
            "Epoch 52/100\n",
            "87/87 [==============================] - 0s 1ms/step - loss: 219.8960 - mean_absolute_error: 10.3600 - val_loss: 508.1841 - val_mean_absolute_error: 16.1278\n",
            "Epoch 53/100\n",
            "87/87 [==============================] - 0s 1ms/step - loss: 218.8295 - mean_absolute_error: 10.3332 - val_loss: 505.1705 - val_mean_absolute_error: 16.0356\n",
            "Epoch 54/100\n",
            "87/87 [==============================] - 0s 1ms/step - loss: 217.3262 - mean_absolute_error: 10.3308 - val_loss: 502.4909 - val_mean_absolute_error: 15.9681\n",
            "Epoch 55/100\n",
            "87/87 [==============================] - 0s 1ms/step - loss: 216.2161 - mean_absolute_error: 10.3196 - val_loss: 498.7037 - val_mean_absolute_error: 15.8797\n",
            "Epoch 56/100\n",
            "87/87 [==============================] - 0s 1ms/step - loss: 214.8148 - mean_absolute_error: 10.2906 - val_loss: 496.0370 - val_mean_absolute_error: 15.8201\n",
            "Epoch 57/100\n",
            "87/87 [==============================] - 0s 1ms/step - loss: 213.5273 - mean_absolute_error: 10.2772 - val_loss: 493.3713 - val_mean_absolute_error: 15.7635\n",
            "Epoch 58/100\n",
            "87/87 [==============================] - 0s 1ms/step - loss: 212.5291 - mean_absolute_error: 10.2626 - val_loss: 490.9888 - val_mean_absolute_error: 15.7147\n",
            "Epoch 59/100\n",
            "87/87 [==============================] - 0s 1ms/step - loss: 211.5409 - mean_absolute_error: 10.2203 - val_loss: 488.6572 - val_mean_absolute_error: 15.6646\n",
            "Epoch 60/100\n",
            "87/87 [==============================] - 0s 1ms/step - loss: 210.4830 - mean_absolute_error: 10.2197 - val_loss: 486.7796 - val_mean_absolute_error: 15.6191\n",
            "Epoch 61/100\n",
            "87/87 [==============================] - 0s 1ms/step - loss: 209.5279 - mean_absolute_error: 10.1818 - val_loss: 484.4886 - val_mean_absolute_error: 15.5705\n",
            "Epoch 62/100\n",
            "87/87 [==============================] - 0s 1ms/step - loss: 208.4300 - mean_absolute_error: 10.1608 - val_loss: 483.7677 - val_mean_absolute_error: 15.5361\n",
            "Epoch 63/100\n",
            "87/87 [==============================] - 0s 1ms/step - loss: 207.9639 - mean_absolute_error: 10.1368 - val_loss: 482.3432 - val_mean_absolute_error: 15.5010\n",
            "Epoch 64/100\n",
            "87/87 [==============================] - 0s 1ms/step - loss: 207.1469 - mean_absolute_error: 10.0945 - val_loss: 480.6884 - val_mean_absolute_error: 15.4717\n",
            "Epoch 65/100\n",
            "87/87 [==============================] - 0s 1ms/step - loss: 206.0298 - mean_absolute_error: 10.1080 - val_loss: 479.7765 - val_mean_absolute_error: 15.4466\n",
            "Epoch 66/100\n",
            "87/87 [==============================] - 0s 1ms/step - loss: 205.5245 - mean_absolute_error: 10.0749 - val_loss: 478.2054 - val_mean_absolute_error: 15.4061\n",
            "Epoch 67/100\n",
            "87/87 [==============================] - 0s 1ms/step - loss: 204.6985 - mean_absolute_error: 10.0843 - val_loss: 476.6524 - val_mean_absolute_error: 15.3697\n",
            "Epoch 68/100\n",
            "87/87 [==============================] - 0s 1ms/step - loss: 203.9774 - mean_absolute_error: 10.0385 - val_loss: 475.3436 - val_mean_absolute_error: 15.3363\n",
            "Epoch 69/100\n",
            "87/87 [==============================] - 0s 1ms/step - loss: 203.1959 - mean_absolute_error: 10.0331 - val_loss: 473.7464 - val_mean_absolute_error: 15.3027\n",
            "Epoch 70/100\n",
            "87/87 [==============================] - 0s 1ms/step - loss: 202.4514 - mean_absolute_error: 10.0268 - val_loss: 471.9895 - val_mean_absolute_error: 15.2660\n",
            "Epoch 71/100\n",
            "87/87 [==============================] - 0s 1ms/step - loss: 201.6331 - mean_absolute_error: 10.0094 - val_loss: 470.1615 - val_mean_absolute_error: 15.2327\n",
            "Epoch 72/100\n",
            "87/87 [==============================] - 0s 1ms/step - loss: 201.2195 - mean_absolute_error: 9.9953 - val_loss: 469.8315 - val_mean_absolute_error: 15.2148\n",
            "Epoch 73/100\n",
            "87/87 [==============================] - 0s 1ms/step - loss: 200.4451 - mean_absolute_error: 9.9823 - val_loss: 468.7216 - val_mean_absolute_error: 15.1956\n",
            "Epoch 74/100\n",
            "87/87 [==============================] - 0s 1ms/step - loss: 200.0960 - mean_absolute_error: 9.9618 - val_loss: 468.3051 - val_mean_absolute_error: 15.1836\n",
            "Epoch 75/100\n",
            "87/87 [==============================] - 0s 1ms/step - loss: 199.3679 - mean_absolute_error: 9.9620 - val_loss: 467.3079 - val_mean_absolute_error: 15.1601\n",
            "Epoch 76/100\n",
            "87/87 [==============================] - 0s 1ms/step - loss: 199.2169 - mean_absolute_error: 9.9479 - val_loss: 466.3137 - val_mean_absolute_error: 15.1325\n",
            "Epoch 77/100\n",
            "87/87 [==============================] - 0s 1ms/step - loss: 198.6534 - mean_absolute_error: 9.9382 - val_loss: 465.7675 - val_mean_absolute_error: 15.1149\n",
            "Epoch 78/100\n",
            "87/87 [==============================] - 0s 1ms/step - loss: 198.3178 - mean_absolute_error: 9.9217 - val_loss: 465.1633 - val_mean_absolute_error: 15.1056\n",
            "Epoch 79/100\n",
            "87/87 [==============================] - 0s 1ms/step - loss: 197.6144 - mean_absolute_error: 9.9178 - val_loss: 464.9076 - val_mean_absolute_error: 15.0925\n",
            "Epoch 80/100\n",
            "87/87 [==============================] - 0s 1ms/step - loss: 197.3129 - mean_absolute_error: 9.8988 - val_loss: 463.9217 - val_mean_absolute_error: 15.0797\n",
            "Epoch 81/100\n",
            "87/87 [==============================] - 0s 1ms/step - loss: 196.9671 - mean_absolute_error: 9.9007 - val_loss: 463.0059 - val_mean_absolute_error: 15.0651\n",
            "Epoch 82/100\n",
            "87/87 [==============================] - 0s 1ms/step - loss: 196.6540 - mean_absolute_error: 9.8871 - val_loss: 462.4171 - val_mean_absolute_error: 15.0534\n",
            "Epoch 83/100\n",
            "87/87 [==============================] - 0s 1ms/step - loss: 196.2328 - mean_absolute_error: 9.8839 - val_loss: 461.4418 - val_mean_absolute_error: 15.0497\n",
            "Epoch 84/100\n",
            "87/87 [==============================] - 0s 1ms/step - loss: 195.6487 - mean_absolute_error: 9.8753 - val_loss: 461.2317 - val_mean_absolute_error: 15.0573\n",
            "Epoch 85/100\n",
            "87/87 [==============================] - 0s 1ms/step - loss: 195.4685 - mean_absolute_error: 9.8594 - val_loss: 460.6475 - val_mean_absolute_error: 15.0459\n",
            "Epoch 86/100\n",
            "87/87 [==============================] - 0s 1ms/step - loss: 195.1022 - mean_absolute_error: 9.8538 - val_loss: 459.7165 - val_mean_absolute_error: 15.0313\n",
            "Epoch 87/100\n",
            "87/87 [==============================] - 0s 1ms/step - loss: 194.8701 - mean_absolute_error: 9.8317 - val_loss: 458.7053 - val_mean_absolute_error: 15.0231\n",
            "Epoch 88/100\n",
            "87/87 [==============================] - 0s 1ms/step - loss: 194.1692 - mean_absolute_error: 9.8295 - val_loss: 458.9648 - val_mean_absolute_error: 15.0142\n",
            "Epoch 89/100\n",
            "87/87 [==============================] - 0s 1ms/step - loss: 194.2268 - mean_absolute_error: 9.8304 - val_loss: 458.2428 - val_mean_absolute_error: 15.0128\n",
            "Epoch 90/100\n",
            "87/87 [==============================] - 0s 1ms/step - loss: 193.6388 - mean_absolute_error: 9.8196 - val_loss: 457.2751 - val_mean_absolute_error: 14.9993\n",
            "Epoch 91/100\n",
            "87/87 [==============================] - 0s 1ms/step - loss: 193.1827 - mean_absolute_error: 9.8307 - val_loss: 456.4439 - val_mean_absolute_error: 14.9888\n",
            "Epoch 92/100\n",
            "87/87 [==============================] - 0s 1ms/step - loss: 192.8194 - mean_absolute_error: 9.8362 - val_loss: 456.4741 - val_mean_absolute_error: 15.0013\n",
            "Epoch 93/100\n",
            "87/87 [==============================] - 0s 1ms/step - loss: 192.5077 - mean_absolute_error: 9.8120 - val_loss: 455.6494 - val_mean_absolute_error: 14.9862\n",
            "Epoch 94/100\n",
            "87/87 [==============================] - 0s 1ms/step - loss: 192.0120 - mean_absolute_error: 9.8159 - val_loss: 455.2608 - val_mean_absolute_error: 14.9744\n",
            "Epoch 95/100\n",
            "87/87 [==============================] - 0s 1ms/step - loss: 191.6298 - mean_absolute_error: 9.7931 - val_loss: 454.6412 - val_mean_absolute_error: 14.9705\n",
            "Epoch 96/100\n",
            "87/87 [==============================] - 0s 1ms/step - loss: 191.4599 - mean_absolute_error: 9.7624 - val_loss: 454.3423 - val_mean_absolute_error: 14.9693\n",
            "Epoch 97/100\n",
            "87/87 [==============================] - 0s 1ms/step - loss: 190.8144 - mean_absolute_error: 9.7602 - val_loss: 453.5782 - val_mean_absolute_error: 14.9581\n",
            "Epoch 98/100\n",
            "87/87 [==============================] - 0s 1ms/step - loss: 190.1402 - mean_absolute_error: 9.7650 - val_loss: 453.1625 - val_mean_absolute_error: 14.9536\n",
            "Epoch 99/100\n",
            "87/87 [==============================] - 0s 1ms/step - loss: 189.8313 - mean_absolute_error: 9.7424 - val_loss: 453.4817 - val_mean_absolute_error: 14.9628\n",
            "Epoch 100/100\n",
            "87/87 [==============================] - 0s 1ms/step - loss: 189.3953 - mean_absolute_error: 9.7477 - val_loss: 452.9648 - val_mean_absolute_error: 14.9489\n",
            "Train on 88 samples, validate on 43 samples\n",
            "Epoch 1/100\n",
            "88/88 [==============================] - 0s 3ms/step - loss: 759.3460 - mean_absolute_error: 21.4418 - val_loss: 485.9940 - val_mean_absolute_error: 17.0313\n",
            "Epoch 2/100\n",
            "88/88 [==============================] - 0s 1ms/step - loss: 739.8213 - mean_absolute_error: 21.0165 - val_loss: 470.5237 - val_mean_absolute_error: 16.6341\n",
            "Epoch 3/100\n",
            "88/88 [==============================] - 0s 1ms/step - loss: 721.6813 - mean_absolute_error: 20.6159 - val_loss: 456.7124 - val_mean_absolute_error: 16.3099\n",
            "Epoch 4/100\n",
            "88/88 [==============================] - 0s 1ms/step - loss: 703.1040 - mean_absolute_error: 20.2208 - val_loss: 442.9089 - val_mean_absolute_error: 15.9722\n",
            "Epoch 5/100\n",
            "88/88 [==============================] - 0s 1ms/step - loss: 686.8945 - mean_absolute_error: 19.8190 - val_loss: 430.4105 - val_mean_absolute_error: 15.6697\n",
            "Epoch 6/100\n",
            "88/88 [==============================] - 0s 1ms/step - loss: 670.1273 - mean_absolute_error: 19.4313 - val_loss: 417.8830 - val_mean_absolute_error: 15.4116\n",
            "Epoch 7/100\n",
            "88/88 [==============================] - 0s 1ms/step - loss: 653.9833 - mean_absolute_error: 19.0384 - val_loss: 406.9054 - val_mean_absolute_error: 15.1896\n",
            "Epoch 8/100\n",
            "88/88 [==============================] - 0s 1ms/step - loss: 637.2252 - mean_absolute_error: 18.6399 - val_loss: 395.4482 - val_mean_absolute_error: 14.9491\n",
            "Epoch 9/100\n",
            "88/88 [==============================] - 0s 1ms/step - loss: 621.1152 - mean_absolute_error: 18.2374 - val_loss: 384.2460 - val_mean_absolute_error: 14.7029\n",
            "Epoch 10/100\n",
            "88/88 [==============================] - 0s 1ms/step - loss: 604.8506 - mean_absolute_error: 17.8598 - val_loss: 372.5294 - val_mean_absolute_error: 14.4445\n",
            "Epoch 11/100\n",
            "88/88 [==============================] - 0s 1ms/step - loss: 587.1081 - mean_absolute_error: 17.4510 - val_loss: 361.4895 - val_mean_absolute_error: 14.1916\n",
            "Epoch 12/100\n",
            "88/88 [==============================] - 0s 1ms/step - loss: 570.3757 - mean_absolute_error: 17.0531 - val_loss: 350.9307 - val_mean_absolute_error: 13.9364\n",
            "Epoch 13/100\n",
            "88/88 [==============================] - 0s 1ms/step - loss: 552.4201 - mean_absolute_error: 16.7045 - val_loss: 340.1974 - val_mean_absolute_error: 13.7056\n",
            "Epoch 14/100\n",
            "88/88 [==============================] - 0s 1ms/step - loss: 535.4846 - mean_absolute_error: 16.3238 - val_loss: 330.0511 - val_mean_absolute_error: 13.5449\n",
            "Epoch 15/100\n",
            "88/88 [==============================] - 0s 1ms/step - loss: 518.9441 - mean_absolute_error: 15.9818 - val_loss: 320.5232 - val_mean_absolute_error: 13.3789\n",
            "Epoch 16/100\n",
            "88/88 [==============================] - 0s 1ms/step - loss: 502.7119 - mean_absolute_error: 15.6479 - val_loss: 311.2928 - val_mean_absolute_error: 13.2790\n",
            "Epoch 17/100\n",
            "88/88 [==============================] - 0s 1ms/step - loss: 487.6035 - mean_absolute_error: 15.3882 - val_loss: 303.1184 - val_mean_absolute_error: 13.1869\n",
            "Epoch 18/100\n",
            "88/88 [==============================] - 0s 1ms/step - loss: 472.6662 - mean_absolute_error: 15.1260 - val_loss: 295.3042 - val_mean_absolute_error: 13.0854\n",
            "Epoch 19/100\n",
            "88/88 [==============================] - 0s 1ms/step - loss: 458.3734 - mean_absolute_error: 14.8845 - val_loss: 288.4776 - val_mean_absolute_error: 12.9901\n",
            "Epoch 20/100\n",
            "88/88 [==============================] - 0s 1ms/step - loss: 444.3613 - mean_absolute_error: 14.6759 - val_loss: 282.6560 - val_mean_absolute_error: 12.9820\n",
            "Epoch 21/100\n",
            "88/88 [==============================] - 0s 1ms/step - loss: 432.5815 - mean_absolute_error: 14.4873 - val_loss: 277.1024 - val_mean_absolute_error: 12.9872\n",
            "Epoch 22/100\n",
            "88/88 [==============================] - 0s 1ms/step - loss: 420.2398 - mean_absolute_error: 14.2998 - val_loss: 271.9977 - val_mean_absolute_error: 12.9953\n",
            "Epoch 23/100\n",
            "88/88 [==============================] - 0s 1ms/step - loss: 408.7718 - mean_absolute_error: 14.0757 - val_loss: 267.7625 - val_mean_absolute_error: 12.9911\n",
            "Epoch 24/100\n",
            "88/88 [==============================] - 0s 1ms/step - loss: 397.8536 - mean_absolute_error: 13.9792 - val_loss: 263.7176 - val_mean_absolute_error: 12.9729\n",
            "Epoch 25/100\n",
            "88/88 [==============================] - 0s 1ms/step - loss: 388.0477 - mean_absolute_error: 13.8364 - val_loss: 260.5853 - val_mean_absolute_error: 12.9852\n",
            "Epoch 26/100\n",
            "88/88 [==============================] - 0s 1ms/step - loss: 379.1982 - mean_absolute_error: 13.6868 - val_loss: 257.6272 - val_mean_absolute_error: 12.9781\n",
            "Epoch 27/100\n",
            "88/88 [==============================] - 0s 1ms/step - loss: 370.5899 - mean_absolute_error: 13.5785 - val_loss: 254.6104 - val_mean_absolute_error: 12.9527\n",
            "Epoch 28/100\n",
            "88/88 [==============================] - 0s 1ms/step - loss: 362.5629 - mean_absolute_error: 13.4594 - val_loss: 252.2710 - val_mean_absolute_error: 12.9294\n",
            "Epoch 29/100\n",
            "88/88 [==============================] - 0s 1ms/step - loss: 355.4961 - mean_absolute_error: 13.3486 - val_loss: 250.1782 - val_mean_absolute_error: 12.9048\n",
            "Epoch 30/100\n",
            "88/88 [==============================] - 0s 1ms/step - loss: 347.9522 - mean_absolute_error: 13.2764 - val_loss: 248.2230 - val_mean_absolute_error: 12.8782\n",
            "Epoch 31/100\n",
            "88/88 [==============================] - 0s 1ms/step - loss: 341.3424 - mean_absolute_error: 13.1475 - val_loss: 245.6442 - val_mean_absolute_error: 12.8377\n",
            "Epoch 32/100\n",
            "88/88 [==============================] - 0s 1ms/step - loss: 335.6102 - mean_absolute_error: 13.0484 - val_loss: 243.8962 - val_mean_absolute_error: 12.8141\n",
            "Epoch 33/100\n",
            "88/88 [==============================] - 0s 1ms/step - loss: 329.9355 - mean_absolute_error: 12.9964 - val_loss: 241.6386 - val_mean_absolute_error: 12.7644\n",
            "Epoch 34/100\n",
            "88/88 [==============================] - 0s 1ms/step - loss: 324.9938 - mean_absolute_error: 12.9359 - val_loss: 239.9524 - val_mean_absolute_error: 12.7178\n",
            "Epoch 35/100\n",
            "88/88 [==============================] - 0s 1ms/step - loss: 320.2035 - mean_absolute_error: 12.8800 - val_loss: 238.3262 - val_mean_absolute_error: 12.6866\n",
            "Epoch 36/100\n",
            "88/88 [==============================] - 0s 1ms/step - loss: 315.8510 - mean_absolute_error: 12.7908 - val_loss: 236.4667 - val_mean_absolute_error: 12.6479\n",
            "Epoch 37/100\n",
            "88/88 [==============================] - 0s 1ms/step - loss: 311.7682 - mean_absolute_error: 12.7368 - val_loss: 235.6370 - val_mean_absolute_error: 12.6395\n",
            "Epoch 38/100\n",
            "88/88 [==============================] - 0s 1ms/step - loss: 308.0151 - mean_absolute_error: 12.6942 - val_loss: 235.1189 - val_mean_absolute_error: 12.6445\n",
            "Epoch 39/100\n",
            "88/88 [==============================] - 0s 1ms/step - loss: 304.8536 - mean_absolute_error: 12.6417 - val_loss: 234.3239 - val_mean_absolute_error: 12.6514\n",
            "Epoch 40/100\n",
            "88/88 [==============================] - 0s 1ms/step - loss: 302.0275 - mean_absolute_error: 12.6239 - val_loss: 233.3660 - val_mean_absolute_error: 12.6505\n",
            "Epoch 41/100\n",
            "88/88 [==============================] - 0s 1ms/step - loss: 299.0348 - mean_absolute_error: 12.6142 - val_loss: 232.8877 - val_mean_absolute_error: 12.6578\n",
            "Epoch 42/100\n",
            "88/88 [==============================] - 0s 1ms/step - loss: 296.9840 - mean_absolute_error: 12.5871 - val_loss: 232.2740 - val_mean_absolute_error: 12.6805\n",
            "Epoch 43/100\n",
            "88/88 [==============================] - 0s 1ms/step - loss: 295.1141 - mean_absolute_error: 12.5193 - val_loss: 231.7540 - val_mean_absolute_error: 12.6962\n",
            "Epoch 44/100\n",
            "88/88 [==============================] - 0s 1ms/step - loss: 292.8320 - mean_absolute_error: 12.5241 - val_loss: 231.2815 - val_mean_absolute_error: 12.7151\n",
            "Epoch 45/100\n",
            "88/88 [==============================] - 0s 1ms/step - loss: 291.0783 - mean_absolute_error: 12.5179 - val_loss: 230.6111 - val_mean_absolute_error: 12.7210\n",
            "Epoch 46/100\n",
            "88/88 [==============================] - 0s 1ms/step - loss: 289.3554 - mean_absolute_error: 12.4808 - val_loss: 230.2432 - val_mean_absolute_error: 12.7306\n",
            "Epoch 47/100\n",
            "88/88 [==============================] - 0s 1ms/step - loss: 287.8263 - mean_absolute_error: 12.4814 - val_loss: 229.6309 - val_mean_absolute_error: 12.7466\n",
            "Epoch 48/100\n",
            "88/88 [==============================] - 0s 1ms/step - loss: 286.3650 - mean_absolute_error: 12.4751 - val_loss: 229.5828 - val_mean_absolute_error: 12.7613\n",
            "Epoch 49/100\n",
            "88/88 [==============================] - 0s 1ms/step - loss: 284.9309 - mean_absolute_error: 12.4577 - val_loss: 229.4053 - val_mean_absolute_error: 12.7648\n",
            "Epoch 50/100\n",
            "88/88 [==============================] - 0s 1ms/step - loss: 283.3141 - mean_absolute_error: 12.4471 - val_loss: 228.9854 - val_mean_absolute_error: 12.7573\n",
            "Epoch 51/100\n",
            "88/88 [==============================] - 0s 1ms/step - loss: 282.2300 - mean_absolute_error: 12.4624 - val_loss: 228.4294 - val_mean_absolute_error: 12.7557\n",
            "Epoch 52/100\n",
            "88/88 [==============================] - 0s 1ms/step - loss: 281.1532 - mean_absolute_error: 12.4415 - val_loss: 228.1822 - val_mean_absolute_error: 12.7600\n",
            "Epoch 53/100\n",
            "88/88 [==============================] - 0s 1ms/step - loss: 280.1643 - mean_absolute_error: 12.4289 - val_loss: 228.0287 - val_mean_absolute_error: 12.7713\n",
            "Epoch 54/100\n",
            "88/88 [==============================] - 0s 1ms/step - loss: 279.0825 - mean_absolute_error: 12.4134 - val_loss: 228.0107 - val_mean_absolute_error: 12.7816\n",
            "Epoch 55/100\n",
            "88/88 [==============================] - 0s 1ms/step - loss: 278.1382 - mean_absolute_error: 12.4265 - val_loss: 227.2781 - val_mean_absolute_error: 12.7704\n",
            "Epoch 56/100\n",
            "88/88 [==============================] - 0s 1ms/step - loss: 277.3592 - mean_absolute_error: 12.4103 - val_loss: 226.9642 - val_mean_absolute_error: 12.7626\n",
            "Epoch 57/100\n",
            "88/88 [==============================] - 0s 1ms/step - loss: 276.7152 - mean_absolute_error: 12.3967 - val_loss: 226.5855 - val_mean_absolute_error: 12.7549\n",
            "Epoch 58/100\n",
            "88/88 [==============================] - 0s 1ms/step - loss: 275.8996 - mean_absolute_error: 12.3888 - val_loss: 226.0287 - val_mean_absolute_error: 12.7460\n",
            "Epoch 59/100\n",
            "88/88 [==============================] - 0s 1ms/step - loss: 275.0772 - mean_absolute_error: 12.3925 - val_loss: 226.1008 - val_mean_absolute_error: 12.7668\n",
            "Epoch 60/100\n",
            "88/88 [==============================] - 0s 1ms/step - loss: 274.5786 - mean_absolute_error: 12.3672 - val_loss: 225.2187 - val_mean_absolute_error: 12.7543\n",
            "Epoch 61/100\n",
            "88/88 [==============================] - 0s 1ms/step - loss: 273.9022 - mean_absolute_error: 12.3723 - val_loss: 224.8624 - val_mean_absolute_error: 12.7444\n",
            "Epoch 62/100\n",
            "88/88 [==============================] - 0s 1ms/step - loss: 273.3383 - mean_absolute_error: 12.3534 - val_loss: 224.9532 - val_mean_absolute_error: 12.7551\n",
            "Epoch 63/100\n",
            "88/88 [==============================] - 0s 1ms/step - loss: 272.4847 - mean_absolute_error: 12.3631 - val_loss: 224.3291 - val_mean_absolute_error: 12.7419\n",
            "Epoch 64/100\n",
            "88/88 [==============================] - 0s 1ms/step - loss: 271.6967 - mean_absolute_error: 12.3558 - val_loss: 224.1047 - val_mean_absolute_error: 12.7517\n",
            "Epoch 65/100\n",
            "88/88 [==============================] - 0s 1ms/step - loss: 271.6736 - mean_absolute_error: 12.3246 - val_loss: 223.5795 - val_mean_absolute_error: 12.7526\n",
            "Epoch 66/100\n",
            "88/88 [==============================] - 0s 1ms/step - loss: 270.8224 - mean_absolute_error: 12.3163 - val_loss: 223.4231 - val_mean_absolute_error: 12.7656\n",
            "Epoch 67/100\n",
            "88/88 [==============================] - 0s 1ms/step - loss: 270.3563 - mean_absolute_error: 12.3060 - val_loss: 222.9067 - val_mean_absolute_error: 12.7603\n",
            "Epoch 68/100\n",
            "88/88 [==============================] - 0s 1ms/step - loss: 269.9607 - mean_absolute_error: 12.2814 - val_loss: 222.7239 - val_mean_absolute_error: 12.7612\n",
            "Epoch 69/100\n",
            "88/88 [==============================] - 0s 1ms/step - loss: 269.5231 - mean_absolute_error: 12.2821 - val_loss: 222.7401 - val_mean_absolute_error: 12.7658\n",
            "Epoch 70/100\n",
            "88/88 [==============================] - 0s 1ms/step - loss: 268.8693 - mean_absolute_error: 12.2782 - val_loss: 222.2672 - val_mean_absolute_error: 12.7650\n",
            "Epoch 71/100\n",
            "88/88 [==============================] - 0s 1ms/step - loss: 268.2105 - mean_absolute_error: 12.2657 - val_loss: 222.4586 - val_mean_absolute_error: 12.7761\n",
            "Epoch 72/100\n",
            "88/88 [==============================] - 0s 1ms/step - loss: 267.9380 - mean_absolute_error: 12.2597 - val_loss: 222.0714 - val_mean_absolute_error: 12.7664\n",
            "Epoch 73/100\n",
            "88/88 [==============================] - 0s 1ms/step - loss: 267.5898 - mean_absolute_error: 12.2481 - val_loss: 222.2653 - val_mean_absolute_error: 12.7722\n",
            "Epoch 74/100\n",
            "88/88 [==============================] - 0s 1ms/step - loss: 267.2471 - mean_absolute_error: 12.2477 - val_loss: 221.7112 - val_mean_absolute_error: 12.7588\n",
            "Epoch 75/100\n",
            "88/88 [==============================] - 0s 1ms/step - loss: 266.2506 - mean_absolute_error: 12.2203 - val_loss: 221.1432 - val_mean_absolute_error: 12.7475\n",
            "Epoch 76/100\n",
            "88/88 [==============================] - 0s 1ms/step - loss: 266.2872 - mean_absolute_error: 12.2257 - val_loss: 221.0600 - val_mean_absolute_error: 12.7490\n",
            "Epoch 77/100\n",
            "88/88 [==============================] - 0s 1ms/step - loss: 265.4978 - mean_absolute_error: 12.2189 - val_loss: 220.6996 - val_mean_absolute_error: 12.7447\n",
            "Epoch 78/100\n",
            "88/88 [==============================] - 0s 1ms/step - loss: 265.5110 - mean_absolute_error: 12.2074 - val_loss: 220.7581 - val_mean_absolute_error: 12.7583\n",
            "Epoch 79/100\n",
            "88/88 [==============================] - 0s 1ms/step - loss: 265.1106 - mean_absolute_error: 12.1975 - val_loss: 220.4424 - val_mean_absolute_error: 12.7599\n",
            "Epoch 80/100\n",
            "88/88 [==============================] - 0s 1ms/step - loss: 264.7807 - mean_absolute_error: 12.1782 - val_loss: 220.2026 - val_mean_absolute_error: 12.7539\n",
            "Epoch 81/100\n",
            "88/88 [==============================] - 0s 1ms/step - loss: 264.3535 - mean_absolute_error: 12.1763 - val_loss: 219.6072 - val_mean_absolute_error: 12.7445\n",
            "Epoch 82/100\n",
            "88/88 [==============================] - 0s 1ms/step - loss: 264.3211 - mean_absolute_error: 12.1691 - val_loss: 219.5545 - val_mean_absolute_error: 12.7441\n",
            "Epoch 83/100\n",
            "88/88 [==============================] - 0s 1ms/step - loss: 263.7378 - mean_absolute_error: 12.1671 - val_loss: 218.6935 - val_mean_absolute_error: 12.7211\n",
            "Epoch 84/100\n",
            "88/88 [==============================] - 0s 1ms/step - loss: 263.2610 - mean_absolute_error: 12.1576 - val_loss: 218.6238 - val_mean_absolute_error: 12.7227\n",
            "Epoch 85/100\n",
            "88/88 [==============================] - 0s 1ms/step - loss: 262.5671 - mean_absolute_error: 12.1601 - val_loss: 218.6106 - val_mean_absolute_error: 12.7289\n",
            "Epoch 86/100\n",
            "88/88 [==============================] - 0s 1ms/step - loss: 262.6905 - mean_absolute_error: 12.1340 - val_loss: 218.5345 - val_mean_absolute_error: 12.7244\n",
            "Epoch 87/100\n",
            "88/88 [==============================] - 0s 1ms/step - loss: 262.2471 - mean_absolute_error: 12.1603 - val_loss: 218.3196 - val_mean_absolute_error: 12.7244\n",
            "Epoch 88/100\n",
            "88/88 [==============================] - 0s 1ms/step - loss: 261.8803 - mean_absolute_error: 12.1218 - val_loss: 218.2195 - val_mean_absolute_error: 12.7259\n",
            "Epoch 89/100\n",
            "88/88 [==============================] - 0s 1ms/step - loss: 261.3113 - mean_absolute_error: 12.1259 - val_loss: 218.2900 - val_mean_absolute_error: 12.7357\n",
            "Epoch 90/100\n",
            "88/88 [==============================] - 0s 1ms/step - loss: 261.5709 - mean_absolute_error: 12.1179 - val_loss: 217.5347 - val_mean_absolute_error: 12.7087\n",
            "Epoch 91/100\n",
            "88/88 [==============================] - 0s 1ms/step - loss: 260.6832 - mean_absolute_error: 12.0943 - val_loss: 217.1812 - val_mean_absolute_error: 12.6954\n",
            "Epoch 92/100\n",
            "88/88 [==============================] - 0s 1ms/step - loss: 260.8285 - mean_absolute_error: 12.0809 - val_loss: 216.1797 - val_mean_absolute_error: 12.6778\n",
            "Epoch 93/100\n",
            "88/88 [==============================] - 0s 1ms/step - loss: 260.7661 - mean_absolute_error: 12.0620 - val_loss: 215.1764 - val_mean_absolute_error: 12.6462\n",
            "Epoch 94/100\n",
            "88/88 [==============================] - 0s 1ms/step - loss: 260.2691 - mean_absolute_error: 12.0635 - val_loss: 214.9112 - val_mean_absolute_error: 12.6459\n",
            "Epoch 95/100\n",
            "88/88 [==============================] - 0s 1ms/step - loss: 260.0434 - mean_absolute_error: 12.0453 - val_loss: 214.5843 - val_mean_absolute_error: 12.6262\n",
            "Epoch 96/100\n",
            "88/88 [==============================] - 0s 1ms/step - loss: 259.7039 - mean_absolute_error: 12.0476 - val_loss: 214.0177 - val_mean_absolute_error: 12.6115\n",
            "Epoch 97/100\n",
            "88/88 [==============================] - 0s 1ms/step - loss: 259.4283 - mean_absolute_error: 12.0347 - val_loss: 213.1699 - val_mean_absolute_error: 12.5836\n",
            "Epoch 98/100\n",
            "88/88 [==============================] - 0s 1ms/step - loss: 259.1607 - mean_absolute_error: 12.0409 - val_loss: 213.0784 - val_mean_absolute_error: 12.5826\n",
            "Epoch 99/100\n",
            "88/88 [==============================] - 0s 1ms/step - loss: 259.0370 - mean_absolute_error: 12.0296 - val_loss: 212.3977 - val_mean_absolute_error: 12.5610\n",
            "Epoch 100/100\n",
            "88/88 [==============================] - 0s 1ms/step - loss: 258.4598 - mean_absolute_error: 12.0397 - val_loss: 212.4353 - val_mean_absolute_error: 12.5579\n"
          ],
          "name": "stdout"
        }
      ]
    },
    {
      "cell_type": "code",
      "metadata": {
        "id": "94CEJ7oXFbBz",
        "colab_type": "code",
        "colab": {}
      },
      "source": [
        "history_dict = history.history"
      ],
      "execution_count": 0,
      "outputs": []
    },
    {
      "cell_type": "code",
      "metadata": {
        "id": "nHuCip1WFiSL",
        "colab_type": "code",
        "outputId": "290535e1-c8ff-42ef-8538-af73baa8aa46",
        "colab": {
          "base_uri": "https://localhost:8080/",
          "height": 35
        }
      },
      "source": [
        "history_dict.keys()"
      ],
      "execution_count": 0,
      "outputs": [
        {
          "output_type": "execute_result",
          "data": {
            "text/plain": [
              "dict_keys(['val_loss', 'val_mean_absolute_error', 'loss', 'mean_absolute_error'])"
            ]
          },
          "metadata": {
            "tags": []
          },
          "execution_count": 30
        }
      ]
    },
    {
      "cell_type": "code",
      "metadata": {
        "id": "Iyn-f0ZACLwH",
        "colab_type": "code",
        "colab": {}
      },
      "source": [
        "average_mae_val_history = [np.mean([x[i] for x in all_mae_val_histories]) for i in range(num_epochs)]\n",
        "average_mae_history = [np.mean([x[i] for x in all_mae_histories]) for i in range(num_epochs)]\n",
        "average_loss_val_history = [np.mean([x[i] for x in all_loss_val_histories]) for i in range(num_epochs)]\n",
        "average_loss_history = [np.mean([x[i] for x in all_loss_histories]) for i in range(num_epochs)]"
      ],
      "execution_count": 0,
      "outputs": []
    },
    {
      "cell_type": "markdown",
      "metadata": {
        "id": "_JFcHa2LGPXj",
        "colab_type": "text"
      },
      "source": [
        "#Plotting training and validation mae"
      ]
    },
    {
      "cell_type": "code",
      "metadata": {
        "id": "13s5AsNnFQ7F",
        "colab_type": "code",
        "outputId": "9e27603d-8129-4169-9e6c-e0128edf73ef",
        "colab": {
          "base_uri": "https://localhost:8080/",
          "height": 282
        }
      },
      "source": [
        "import matplotlib.pyplot as plt\n",
        "plt.plot(range(1, len(average_mae_val_history) + 1), average_mae_val_history, 'r', label='Validation mae')\n",
        "plt.plot(range(1, len(average_mae_history) + 1), average_mae_history, 'b', label='Training mae')\n",
        "plt.xlabel('Epochs')\n",
        "plt.ylabel('Validation MAE')\n",
        "plt.legend()\n",
        "plt.show()\n"
      ],
      "execution_count": 0,
      "outputs": [
        {
          "output_type": "display_data",
          "data": {
            "image/png": "[encoded data removed]",
            "text/plain": [
              "<Figure size 432x288 with 1 Axes>"
            ]
          },
          "metadata": {
            "tags": []
          }
        }
      ]
    },
    {
      "cell_type": "markdown",
      "metadata": {
        "id": "723BbzxdJtj-",
        "colab_type": "text"
      },
      "source": [
        "#Plotting training and validation loss"
      ]
    },
    {
      "cell_type": "code",
      "metadata": {
        "id": "tezhzHbMGguv",
        "colab_type": "code",
        "outputId": "1834abef-fce4-4612-f2e4-8624d9fc4909",
        "colab": {
          "base_uri": "https://localhost:8080/",
          "height": 279
        }
      },
      "source": [
        "import matplotlib.pyplot as plt\n",
        "plt.plot(range(1, len(average_loss_val_history) + 1), average_loss_val_history, 'r', label='Validation loss')\n",
        "plt.plot(range(1, len(average_loss_history) + 1), average_loss_history, 'b', label='Training loss')\n",
        "plt.xlabel('Epochs')\n",
        "plt.ylabel('Validation LOSS')\n",
        "plt.legend()\n",
        "plt.show()"
      ],
      "execution_count": 0,
      "outputs": [
        {
          "output_type": "display_data",
          "data": {
            "image/png": "[encoded data removed]",
            "text/plain": [
              "<Figure size 432x288 with 1 Axes>"
            ]
          },
          "metadata": {
            "tags": []
          }
        }
      ]
    },
    {
      "cell_type": "markdown",
      "metadata": {
        "id": "3cYo_1gJEMly",
        "colab_type": "text"
      },
      "source": [
        "#Test model\n"
      ]
    },
    {
      "cell_type": "code",
      "metadata": {
        "id": "ZiMorOCCKPF8",
        "colab_type": "code",
        "outputId": "249bfbc0-1a30-431d-939e-6fa659255ab4",
        "colab": {
          "base_uri": "https://localhost:8080/",
          "height": 35
        }
      },
      "source": [
        "model.fit(train_data_stand_pca, train_targets, epochs=80, batch_size=16, verbose=0)\n",
        "test_mse_score, test_mae_score = model.evaluate(test_data_stand_pca, test_targets)"
      ],
      "execution_count": 0,
      "outputs": [
        {
          "output_type": "stream",
          "text": [
            "34/34 [==============================] - 0s 62us/step\n"
          ],
          "name": "stdout"
        }
      ]
    },
    {
      "cell_type": "code",
      "metadata": {
        "id": "TiVCR2H6E1QB",
        "colab_type": "code",
        "outputId": "d82becf0-b48c-4e86-ffba-35d0d7089b9e",
        "colab": {
          "base_uri": "https://localhost:8080/",
          "height": 35
        }
      },
      "source": [
        "test_mae_score"
      ],
      "execution_count": 0,
      "outputs": [
        {
          "output_type": "execute_result",
          "data": {
            "text/plain": [
              "12.64631669661578"
            ]
          },
          "metadata": {
            "tags": []
          },
          "execution_count": 36
        }
      ]
    },
    {
      "cell_type": "markdown",
      "metadata": {
        "id": "ABWJL0L_LWHj",
        "colab_type": "text"
      },
      "source": [
        "#Features correlate con l'aspettativa di vita"
      ]
    },
    {
      "cell_type": "markdown",
      "metadata": {
        "id": "10ZKR-e9PBA-",
        "colab_type": "text"
      },
      "source": [
        "Cerchiamo le features che correlano meglio con l'aspettativa di vita"
      ]
    },
    {
      "cell_type": "code",
      "metadata": {
        "id": "CU5F6eTxLPXQ",
        "colab_type": "code",
        "colab": {}
      },
      "source": [
        "train_data = df_train.drop(['Histology', 'OS', 'deadstatus.event','Overall_Stage'], axis=1)"
      ],
      "execution_count": 0,
      "outputs": []
    },
    {
      "cell_type": "markdown",
      "metadata": {
        "id": "jNLIWm3wPhnC",
        "colab_type": "text"
      },
      "source": [
        "Consideriamo train_data contenente anche 'Surv_time_months'. Calcoliamo la matrice di correlazione."
      ]
    },
    {
      "cell_type": "code",
      "metadata": {
        "id": "OTcb40dOPunT",
        "colab_type": "code",
        "outputId": "fa356410-f281-4ee2-d3b7-112466108615",
        "colab": {
          "base_uri": "https://localhost:8080/",
          "height": 795
        }
      },
      "source": [
        "#Using Pearson Correlation\n",
        "plt.figure(figsize=(12,10))\n",
        "cor = train_data.corr()\n",
        "sns.heatmap(cor, cmap=plt.cm.Reds)\n",
        "plt.show()"
      ],
      "execution_count": 17,
      "outputs": [
        {
          "output_type": "display_data",
          "data": {
            "image/png": "[encoded data removed]",
            "text/plain": [
              "<Figure size 864x720 with 2 Axes>"
            ]
          },
          "metadata": {
            "tags": []
          }
        }
      ]
    },
    {
      "cell_type": "code",
      "metadata": {
        "id": "LLCVrC09QI_E",
        "colab_type": "code",
        "colab": {}
      },
      "source": [
        "#Correlation with output variable\n",
        "cor_target = abs(cor[\"Surv_time_months\"])"
      ],
      "execution_count": 0,
      "outputs": []
    },
    {
      "cell_type": "code",
      "metadata": {
        "id": "iWdhPr0QRQvx",
        "colab_type": "code",
        "outputId": "03edf382-f46a-4bc0-81da-a1e487eb6f6e",
        "colab": {
          "base_uri": "https://localhost:8080/",
          "height": 237
        }
      },
      "source": [
        "cor_target"
      ],
      "execution_count": 19,
      "outputs": [
        {
          "output_type": "execute_result",
          "data": {
            "text/plain": [
              "Surv_time_months     1.000000\n",
              "VoxelVolume          0.318936\n",
              "Maximum3DDiameter    0.334456\n",
              "MeshVolume           0.318857\n",
              "MajorAxisLength      0.319466\n",
              "                       ...   \n",
              "Coarseness           0.236936\n",
              "Complexity           0.071161\n",
              "Strength             0.305331\n",
              "Contrast.1           0.202746\n",
              "Busyness             0.354545\n",
              "Name: Surv_time_months, Length: 108, dtype: float64"
            ]
          },
          "metadata": {
            "tags": []
          },
          "execution_count": 19
        }
      ]
    },
    {
      "cell_type": "code",
      "metadata": {
        "id": "Sk0Cex-KRYDg",
        "colab_type": "code",
        "outputId": "6d924757-7451-422e-ec2b-3cd56dc2c6af",
        "colab": {
          "base_uri": "https://localhost:8080/",
          "height": 403
        }
      },
      "source": [
        "#Selecting highly correlated features\n",
        "relevant_features = cor_target[cor_target>0.3]\n",
        "relevant_features"
      ],
      "execution_count": 20,
      "outputs": [
        {
          "output_type": "execute_result",
          "data": {
            "text/plain": [
              "Surv_time_months            1.000000\n",
              "VoxelVolume                 0.318936\n",
              "Maximum3DDiameter           0.334456\n",
              "MeshVolume                  0.318857\n",
              "MajorAxisLength             0.319466\n",
              "LeastAxisLength             0.332525\n",
              "SurfaceVolumeRatio          0.308066\n",
              "Maximum2DDiameterSlice      0.331666\n",
              "SurfaceArea                 0.346001\n",
              "MinorAxisLength             0.346330\n",
              "Maximum2DDiameterColumn     0.311450\n",
              "Maximum2DDiameterRow        0.371979\n",
              "DependenceNonUniformity     0.318601\n",
              "GrayLevelNonUniformity      0.301370\n",
              "GrayLevelNonUniformity.1    0.300326\n",
              "RunLengthNonUniformity      0.317132\n",
              "SizeZoneNonUniformity       0.319172\n",
              "GrayLevelNonUniformity.2    0.327871\n",
              "Strength                    0.305331\n",
              "Busyness                    0.354545\n",
              "Name: Surv_time_months, dtype: float64"
            ]
          },
          "metadata": {
            "tags": []
          },
          "execution_count": 20
        }
      ]
    },
    {
      "cell_type": "markdown",
      "metadata": {
        "id": "JInzRV9zR4y7",
        "colab_type": "text"
      },
      "source": [
        " However this is not the end of the process. One of the assumptions of linear regression is that the independent variables need to be uncorrelated with each other. If these variables are correlated with each other, then we need to keep only one of them and drop the rest."
      ]
    },
    {
      "cell_type": "code",
      "metadata": {
        "id": "ul4yubdzS56A",
        "colab_type": "code",
        "colab": {}
      },
      "source": [
        "relevant_features_list = list(relevant_features.index)"
      ],
      "execution_count": 0,
      "outputs": []
    },
    {
      "cell_type": "code",
      "metadata": {
        "id": "ZUsAt8XQ1Yxf",
        "colab_type": "code",
        "colab": {
          "base_uri": "https://localhost:8080/",
          "height": 35
        },
        "outputId": "717ac727-d69a-4c56-be35-bc0cc6461a83"
      },
      "source": [
        "len(relevant_features_list)"
      ],
      "execution_count": 39,
      "outputs": [
        {
          "output_type": "execute_result",
          "data": {
            "text/plain": [
              "20"
            ]
          },
          "metadata": {
            "tags": []
          },
          "execution_count": 39
        }
      ]
    },
    {
      "cell_type": "markdown",
      "metadata": {
        "id": "NDJGsF7LTu4X",
        "colab_type": "text"
      },
      "source": [
        "Creaiamo un dataframe contente solo le features correlate con il 'Surv_time_months'\n"
      ]
    },
    {
      "cell_type": "code",
      "metadata": {
        "id": "HXpRv9JFWhME",
        "colab_type": "code",
        "colab": {}
      },
      "source": [
        "train_data_correlated = train_data[train_data.columns.intersection(relevant_features_list)]"
      ],
      "execution_count": 0,
      "outputs": []
    },
    {
      "cell_type": "code",
      "metadata": {
        "id": "4nnRUOMZT6h6",
        "colab_type": "code",
        "outputId": "25ac4565-37ec-4602-92d7-1b72afa5a48e",
        "colab": {
          "base_uri": "https://localhost:8080/",
          "height": 109
        }
      },
      "source": [
        "train_data_correlated.drop('Surv_time_months', axis=1, inplace=True)"
      ],
      "execution_count": 23,
      "outputs": [
        {
          "output_type": "stream",
          "text": [
            "/usr/local/lib/python3.6/dist-packages/pandas/core/frame.py:4117: SettingWithCopyWarning: \n",
            "A value is trying to be set on a copy of a slice from a DataFrame\n",
            "\n",
            "See the caveats in the documentation: http://pandas.pydata.org/pandas-docs/stable/user_guide/indexing.html#returning-a-view-versus-a-copy\n",
            "  errors=errors,\n"
          ],
          "name": "stderr"
        }
      ]
    },
    {
      "cell_type": "code",
      "metadata": {
        "id": "HWAWgyDd1gfq",
        "colab_type": "code",
        "colab": {
          "base_uri": "https://localhost:8080/",
          "height": 35
        },
        "outputId": "a44be562-cd9c-4bc4-f91f-dd25389b5c73"
      },
      "source": [
        "train_data_correlated.shape"
      ],
      "execution_count": 40,
      "outputs": [
        {
          "output_type": "execute_result",
          "data": {
            "text/plain": [
              "(131, 19)"
            ]
          },
          "metadata": {
            "tags": []
          },
          "execution_count": 40
        }
      ]
    },
    {
      "cell_type": "code",
      "metadata": {
        "colab_type": "code",
        "id": "xasGwM6NS40X",
        "colab": {}
      },
      "source": [
        "#create a positive correlation matrix\n",
        "corr_df = train_data_correlated.corr().abs()"
      ],
      "execution_count": 0,
      "outputs": []
    },
    {
      "cell_type": "code",
      "metadata": {
        "id": "-W8ShRUvN63m",
        "colab_type": "code",
        "colab": {}
      },
      "source": [
        "#create and apply mask\n",
        "mask = np.triu(np.ones_like(corr_df, dtype=bool))"
      ],
      "execution_count": 0,
      "outputs": []
    },
    {
      "cell_type": "code",
      "metadata": {
        "id": "9DgfSECpOwPu",
        "colab_type": "code",
        "outputId": "17646be1-3112-4cda-8e47-9cd293aec38a",
        "colab": {
          "base_uri": "https://localhost:8080/",
          "height": 1000
        }
      },
      "source": [
        "mask"
      ],
      "execution_count": 26,
      "outputs": [
        {
          "output_type": "execute_result",
          "data": {
            "text/plain": [
              "array([[ True,  True,  True,  True,  True,  True,  True,  True,  True,\n",
              "         True,  True,  True,  True,  True,  True,  True,  True,  True,\n",
              "         True],\n",
              "       [False,  True,  True,  True,  True,  True,  True,  True,  True,\n",
              "         True,  True,  True,  True,  True,  True,  True,  True,  True,\n",
              "         True],\n",
              "       [False, False,  True,  True,  True,  True,  True,  True,  True,\n",
              "         True,  True,  True,  True,  True,  True,  True,  True,  True,\n",
              "         True],\n",
              "       [False, False, False,  True,  True,  True,  True,  True,  True,\n",
              "         True,  True,  True,  True,  True,  True,  True,  True,  True,\n",
              "         True],\n",
              "       [False, False, False, False,  True,  True,  True,  True,  True,\n",
              "         True,  True,  True,  True,  True,  True,  True,  True,  True,\n",
              "         True],\n",
              "       [False, False, False, False, False,  True,  True,  True,  True,\n",
              "         True,  True,  True,  True,  True,  True,  True,  True,  True,\n",
              "         True],\n",
              "       [False, False, False, False, False, False,  True,  True,  True,\n",
              "         True,  True,  True,  True,  True,  True,  True,  True,  True,\n",
              "         True],\n",
              "       [False, False, False, False, False, False, False,  True,  True,\n",
              "         True,  True,  True,  True,  True,  True,  True,  True,  True,\n",
              "         True],\n",
              "       [False, False, False, False, False, False, False, False,  True,\n",
              "         True,  True,  True,  True,  True,  True,  True,  True,  True,\n",
              "         True],\n",
              "       [False, False, False, False, False, False, False, False, False,\n",
              "         True,  True,  True,  True,  True,  True,  True,  True,  True,\n",
              "         True],\n",
              "       [False, False, False, False, False, False, False, False, False,\n",
              "        False,  True,  True,  True,  True,  True,  True,  True,  True,\n",
              "         True],\n",
              "       [False, False, False, False, False, False, False, False, False,\n",
              "        False, False,  True,  True,  True,  True,  True,  True,  True,\n",
              "         True],\n",
              "       [False, False, False, False, False, False, False, False, False,\n",
              "        False, False, False,  True,  True,  True,  True,  True,  True,\n",
              "         True],\n",
              "       [False, False, False, False, False, False, False, False, False,\n",
              "        False, False, False, False,  True,  True,  True,  True,  True,\n",
              "         True],\n",
              "       [False, False, False, False, False, False, False, False, False,\n",
              "        False, False, False, False, False,  True,  True,  True,  True,\n",
              "         True],\n",
              "       [False, False, False, False, False, False, False, False, False,\n",
              "        False, False, False, False, False, False,  True,  True,  True,\n",
              "         True],\n",
              "       [False, False, False, False, False, False, False, False, False,\n",
              "        False, False, False, False, False, False, False,  True,  True,\n",
              "         True],\n",
              "       [False, False, False, False, False, False, False, False, False,\n",
              "        False, False, False, False, False, False, False, False,  True,\n",
              "         True],\n",
              "       [False, False, False, False, False, False, False, False, False,\n",
              "        False, False, False, False, False, False, False, False, False,\n",
              "         True]])"
            ]
          },
          "metadata": {
            "tags": []
          },
          "execution_count": 26
        }
      ]
    },
    {
      "cell_type": "code",
      "metadata": {
        "id": "U5xQLptVOw6f",
        "colab_type": "code",
        "colab": {}
      },
      "source": [
        "tri_df = corr_df.mask(mask)"
      ],
      "execution_count": 0,
      "outputs": []
    },
    {
      "cell_type": "code",
      "metadata": {
        "id": "TeDvePEPO8mn",
        "colab_type": "code",
        "outputId": "95791987-5cc7-47f6-a373-9af02668fa72",
        "colab": {
          "base_uri": "https://localhost:8080/",
          "height": 665
        }
      },
      "source": [
        "tri_df"
      ],
      "execution_count": 28,
      "outputs": [
        {
          "output_type": "execute_result",
          "data": {
            "text/html": [
              "<div>\n",
              "<style scoped>\n",
              "    .dataframe tbody tr th:only-of-type {\n",
              "        vertical-align: middle;\n",
              "    }\n",
              "\n",
              "    .dataframe tbody tr th {\n",
              "        vertical-align: top;\n",
              "    }\n",
              "\n",
              "    .dataframe thead th {\n",
              "        text-align: right;\n",
              "    }\n",
              "</style>\n",
              "<table border=\"1\" class=\"dataframe\">\n",
              "  <thead>\n",
              "    <tr style=\"text-align: right;\">\n",
              "      <th></th>\n",
              "      <th>VoxelVolume</th>\n",
              "      <th>Maximum3DDiameter</th>\n",
              "      <th>MeshVolume</th>\n",
              "      <th>MajorAxisLength</th>\n",
              "      <th>LeastAxisLength</th>\n",
              "      <th>SurfaceVolumeRatio</th>\n",
              "      <th>Maximum2DDiameterSlice</th>\n",
              "      <th>SurfaceArea</th>\n",
              "      <th>MinorAxisLength</th>\n",
              "      <th>Maximum2DDiameterColumn</th>\n",
              "      <th>Maximum2DDiameterRow</th>\n",
              "      <th>DependenceNonUniformity</th>\n",
              "      <th>GrayLevelNonUniformity</th>\n",
              "      <th>GrayLevelNonUniformity.1</th>\n",
              "      <th>RunLengthNonUniformity</th>\n",
              "      <th>SizeZoneNonUniformity</th>\n",
              "      <th>GrayLevelNonUniformity.2</th>\n",
              "      <th>Strength</th>\n",
              "      <th>Busyness</th>\n",
              "    </tr>\n",
              "  </thead>\n",
              "  <tbody>\n",
              "    <tr>\n",
              "      <th>VoxelVolume</th>\n",
              "      <td>NaN</td>\n",
              "      <td>NaN</td>\n",
              "      <td>NaN</td>\n",
              "      <td>NaN</td>\n",
              "      <td>NaN</td>\n",
              "      <td>NaN</td>\n",
              "      <td>NaN</td>\n",
              "      <td>NaN</td>\n",
              "      <td>NaN</td>\n",
              "      <td>NaN</td>\n",
              "      <td>NaN</td>\n",
              "      <td>NaN</td>\n",
              "      <td>NaN</td>\n",
              "      <td>NaN</td>\n",
              "      <td>NaN</td>\n",
              "      <td>NaN</td>\n",
              "      <td>NaN</td>\n",
              "      <td>NaN</td>\n",
              "      <td>NaN</td>\n",
              "    </tr>\n",
              "    <tr>\n",
              "      <th>Maximum3DDiameter</th>\n",
              "      <td>0.821982</td>\n",
              "      <td>NaN</td>\n",
              "      <td>NaN</td>\n",
              "      <td>NaN</td>\n",
              "      <td>NaN</td>\n",
              "      <td>NaN</td>\n",
              "      <td>NaN</td>\n",
              "      <td>NaN</td>\n",
              "      <td>NaN</td>\n",
              "      <td>NaN</td>\n",
              "      <td>NaN</td>\n",
              "      <td>NaN</td>\n",
              "      <td>NaN</td>\n",
              "      <td>NaN</td>\n",
              "      <td>NaN</td>\n",
              "      <td>NaN</td>\n",
              "      <td>NaN</td>\n",
              "      <td>NaN</td>\n",
              "      <td>NaN</td>\n",
              "    </tr>\n",
              "    <tr>\n",
              "      <th>MeshVolume</th>\n",
              "      <td>0.999999</td>\n",
              "      <td>0.821800</td>\n",
              "      <td>NaN</td>\n",
              "      <td>NaN</td>\n",
              "      <td>NaN</td>\n",
              "      <td>NaN</td>\n",
              "      <td>NaN</td>\n",
              "      <td>NaN</td>\n",
              "      <td>NaN</td>\n",
              "      <td>NaN</td>\n",
              "      <td>NaN</td>\n",
              "      <td>NaN</td>\n",
              "      <td>NaN</td>\n",
              "      <td>NaN</td>\n",
              "      <td>NaN</td>\n",
              "      <td>NaN</td>\n",
              "      <td>NaN</td>\n",
              "      <td>NaN</td>\n",
              "      <td>NaN</td>\n",
              "    </tr>\n",
              "    <tr>\n",
              "      <th>MajorAxisLength</th>\n",
              "      <td>0.785606</td>\n",
              "      <td>0.964760</td>\n",
              "      <td>0.785457</td>\n",
              "      <td>NaN</td>\n",
              "      <td>NaN</td>\n",
              "      <td>NaN</td>\n",
              "      <td>NaN</td>\n",
              "      <td>NaN</td>\n",
              "      <td>NaN</td>\n",
              "      <td>NaN</td>\n",
              "      <td>NaN</td>\n",
              "      <td>NaN</td>\n",
              "      <td>NaN</td>\n",
              "      <td>NaN</td>\n",
              "      <td>NaN</td>\n",
              "      <td>NaN</td>\n",
              "      <td>NaN</td>\n",
              "      <td>NaN</td>\n",
              "      <td>NaN</td>\n",
              "    </tr>\n",
              "    <tr>\n",
              "      <th>LeastAxisLength</th>\n",
              "      <td>0.898913</td>\n",
              "      <td>0.812696</td>\n",
              "      <td>0.898705</td>\n",
              "      <td>0.740991</td>\n",
              "      <td>NaN</td>\n",
              "      <td>NaN</td>\n",
              "      <td>NaN</td>\n",
              "      <td>NaN</td>\n",
              "      <td>NaN</td>\n",
              "      <td>NaN</td>\n",
              "      <td>NaN</td>\n",
              "      <td>NaN</td>\n",
              "      <td>NaN</td>\n",
              "      <td>NaN</td>\n",
              "      <td>NaN</td>\n",
              "      <td>NaN</td>\n",
              "      <td>NaN</td>\n",
              "      <td>NaN</td>\n",
              "      <td>NaN</td>\n",
              "    </tr>\n",
              "    <tr>\n",
              "      <th>SurfaceVolumeRatio</th>\n",
              "      <td>0.679146</td>\n",
              "      <td>0.683336</td>\n",
              "      <td>0.678962</td>\n",
              "      <td>0.609701</td>\n",
              "      <td>0.823132</td>\n",
              "      <td>NaN</td>\n",
              "      <td>NaN</td>\n",
              "      <td>NaN</td>\n",
              "      <td>NaN</td>\n",
              "      <td>NaN</td>\n",
              "      <td>NaN</td>\n",
              "      <td>NaN</td>\n",
              "      <td>NaN</td>\n",
              "      <td>NaN</td>\n",
              "      <td>NaN</td>\n",
              "      <td>NaN</td>\n",
              "      <td>NaN</td>\n",
              "      <td>NaN</td>\n",
              "      <td>NaN</td>\n",
              "    </tr>\n",
              "    <tr>\n",
              "      <th>Maximum2DDiameterSlice</th>\n",
              "      <td>0.832976</td>\n",
              "      <td>0.917765</td>\n",
              "      <td>0.832789</td>\n",
              "      <td>0.865958</td>\n",
              "      <td>0.867676</td>\n",
              "      <td>0.759756</td>\n",
              "      <td>NaN</td>\n",
              "      <td>NaN</td>\n",
              "      <td>NaN</td>\n",
              "      <td>NaN</td>\n",
              "      <td>NaN</td>\n",
              "      <td>NaN</td>\n",
              "      <td>NaN</td>\n",
              "      <td>NaN</td>\n",
              "      <td>NaN</td>\n",
              "      <td>NaN</td>\n",
              "      <td>NaN</td>\n",
              "      <td>NaN</td>\n",
              "      <td>NaN</td>\n",
              "    </tr>\n",
              "    <tr>\n",
              "      <th>SurfaceArea</th>\n",
              "      <td>0.950756</td>\n",
              "      <td>0.911623</td>\n",
              "      <td>0.950769</td>\n",
              "      <td>0.888151</td>\n",
              "      <td>0.893055</td>\n",
              "      <td>0.677085</td>\n",
              "      <td>0.899902</td>\n",
              "      <td>NaN</td>\n",
              "      <td>NaN</td>\n",
              "      <td>NaN</td>\n",
              "      <td>NaN</td>\n",
              "      <td>NaN</td>\n",
              "      <td>NaN</td>\n",
              "      <td>NaN</td>\n",
              "      <td>NaN</td>\n",
              "      <td>NaN</td>\n",
              "      <td>NaN</td>\n",
              "      <td>NaN</td>\n",
              "      <td>NaN</td>\n",
              "    </tr>\n",
              "    <tr>\n",
              "      <th>MinorAxisLength</th>\n",
              "      <td>0.889105</td>\n",
              "      <td>0.901223</td>\n",
              "      <td>0.888978</td>\n",
              "      <td>0.848934</td>\n",
              "      <td>0.914366</td>\n",
              "      <td>0.793887</td>\n",
              "      <td>0.933821</td>\n",
              "      <td>0.933720</td>\n",
              "      <td>NaN</td>\n",
              "      <td>NaN</td>\n",
              "      <td>NaN</td>\n",
              "      <td>NaN</td>\n",
              "      <td>NaN</td>\n",
              "      <td>NaN</td>\n",
              "      <td>NaN</td>\n",
              "      <td>NaN</td>\n",
              "      <td>NaN</td>\n",
              "      <td>NaN</td>\n",
              "      <td>NaN</td>\n",
              "    </tr>\n",
              "    <tr>\n",
              "      <th>Maximum2DDiameterColumn</th>\n",
              "      <td>0.838170</td>\n",
              "      <td>0.940584</td>\n",
              "      <td>0.838067</td>\n",
              "      <td>0.917987</td>\n",
              "      <td>0.840928</td>\n",
              "      <td>0.721090</td>\n",
              "      <td>0.854481</td>\n",
              "      <td>0.911587</td>\n",
              "      <td>0.903020</td>\n",
              "      <td>NaN</td>\n",
              "      <td>NaN</td>\n",
              "      <td>NaN</td>\n",
              "      <td>NaN</td>\n",
              "      <td>NaN</td>\n",
              "      <td>NaN</td>\n",
              "      <td>NaN</td>\n",
              "      <td>NaN</td>\n",
              "      <td>NaN</td>\n",
              "      <td>NaN</td>\n",
              "    </tr>\n",
              "    <tr>\n",
              "      <th>Maximum2DDiameterRow</th>\n",
              "      <td>0.837324</td>\n",
              "      <td>0.958797</td>\n",
              "      <td>0.837236</td>\n",
              "      <td>0.931021</td>\n",
              "      <td>0.824780</td>\n",
              "      <td>0.684041</td>\n",
              "      <td>0.894886</td>\n",
              "      <td>0.923385</td>\n",
              "      <td>0.905934</td>\n",
              "      <td>0.896480</td>\n",
              "      <td>NaN</td>\n",
              "      <td>NaN</td>\n",
              "      <td>NaN</td>\n",
              "      <td>NaN</td>\n",
              "      <td>NaN</td>\n",
              "      <td>NaN</td>\n",
              "      <td>NaN</td>\n",
              "      <td>NaN</td>\n",
              "      <td>NaN</td>\n",
              "    </tr>\n",
              "    <tr>\n",
              "      <th>DependenceNonUniformity</th>\n",
              "      <td>0.939428</td>\n",
              "      <td>0.786661</td>\n",
              "      <td>0.939282</td>\n",
              "      <td>0.757988</td>\n",
              "      <td>0.879470</td>\n",
              "      <td>0.652894</td>\n",
              "      <td>0.817453</td>\n",
              "      <td>0.912199</td>\n",
              "      <td>0.863849</td>\n",
              "      <td>0.807703</td>\n",
              "      <td>0.803411</td>\n",
              "      <td>NaN</td>\n",
              "      <td>NaN</td>\n",
              "      <td>NaN</td>\n",
              "      <td>NaN</td>\n",
              "      <td>NaN</td>\n",
              "      <td>NaN</td>\n",
              "      <td>NaN</td>\n",
              "      <td>NaN</td>\n",
              "    </tr>\n",
              "    <tr>\n",
              "      <th>GrayLevelNonUniformity</th>\n",
              "      <td>0.923283</td>\n",
              "      <td>0.741102</td>\n",
              "      <td>0.923458</td>\n",
              "      <td>0.705773</td>\n",
              "      <td>0.810092</td>\n",
              "      <td>0.609766</td>\n",
              "      <td>0.754980</td>\n",
              "      <td>0.876233</td>\n",
              "      <td>0.795919</td>\n",
              "      <td>0.744232</td>\n",
              "      <td>0.753937</td>\n",
              "      <td>0.781262</td>\n",
              "      <td>NaN</td>\n",
              "      <td>NaN</td>\n",
              "      <td>NaN</td>\n",
              "      <td>NaN</td>\n",
              "      <td>NaN</td>\n",
              "      <td>NaN</td>\n",
              "      <td>NaN</td>\n",
              "    </tr>\n",
              "    <tr>\n",
              "      <th>GrayLevelNonUniformity.1</th>\n",
              "      <td>0.938199</td>\n",
              "      <td>0.755681</td>\n",
              "      <td>0.938334</td>\n",
              "      <td>0.721520</td>\n",
              "      <td>0.835788</td>\n",
              "      <td>0.620703</td>\n",
              "      <td>0.778884</td>\n",
              "      <td>0.896563</td>\n",
              "      <td>0.817454</td>\n",
              "      <td>0.760698</td>\n",
              "      <td>0.767063</td>\n",
              "      <td>0.835083</td>\n",
              "      <td>0.988461</td>\n",
              "      <td>NaN</td>\n",
              "      <td>NaN</td>\n",
              "      <td>NaN</td>\n",
              "      <td>NaN</td>\n",
              "      <td>NaN</td>\n",
              "      <td>NaN</td>\n",
              "    </tr>\n",
              "    <tr>\n",
              "      <th>RunLengthNonUniformity</th>\n",
              "      <td>0.973643</td>\n",
              "      <td>0.812268</td>\n",
              "      <td>0.973528</td>\n",
              "      <td>0.780304</td>\n",
              "      <td>0.904172</td>\n",
              "      <td>0.677712</td>\n",
              "      <td>0.836669</td>\n",
              "      <td>0.938639</td>\n",
              "      <td>0.888059</td>\n",
              "      <td>0.834924</td>\n",
              "      <td>0.826696</td>\n",
              "      <td>0.990004</td>\n",
              "      <td>0.837815</td>\n",
              "      <td>0.881111</td>\n",
              "      <td>NaN</td>\n",
              "      <td>NaN</td>\n",
              "      <td>NaN</td>\n",
              "      <td>NaN</td>\n",
              "      <td>NaN</td>\n",
              "    </tr>\n",
              "    <tr>\n",
              "      <th>SizeZoneNonUniformity</th>\n",
              "      <td>0.899479</td>\n",
              "      <td>0.782626</td>\n",
              "      <td>0.899224</td>\n",
              "      <td>0.749641</td>\n",
              "      <td>0.847088</td>\n",
              "      <td>0.658989</td>\n",
              "      <td>0.795382</td>\n",
              "      <td>0.868533</td>\n",
              "      <td>0.846312</td>\n",
              "      <td>0.800372</td>\n",
              "      <td>0.795291</td>\n",
              "      <td>0.934154</td>\n",
              "      <td>0.700665</td>\n",
              "      <td>0.725067</td>\n",
              "      <td>0.933731</td>\n",
              "      <td>NaN</td>\n",
              "      <td>NaN</td>\n",
              "      <td>NaN</td>\n",
              "      <td>NaN</td>\n",
              "    </tr>\n",
              "    <tr>\n",
              "      <th>GrayLevelNonUniformity.2</th>\n",
              "      <td>0.922172</td>\n",
              "      <td>0.794181</td>\n",
              "      <td>0.922040</td>\n",
              "      <td>0.770526</td>\n",
              "      <td>0.867000</td>\n",
              "      <td>0.658712</td>\n",
              "      <td>0.836217</td>\n",
              "      <td>0.907326</td>\n",
              "      <td>0.862242</td>\n",
              "      <td>0.804944</td>\n",
              "      <td>0.805742</td>\n",
              "      <td>0.970570</td>\n",
              "      <td>0.797852</td>\n",
              "      <td>0.853753</td>\n",
              "      <td>0.965364</td>\n",
              "      <td>0.890715</td>\n",
              "      <td>NaN</td>\n",
              "      <td>NaN</td>\n",
              "      <td>NaN</td>\n",
              "    </tr>\n",
              "    <tr>\n",
              "      <th>Strength</th>\n",
              "      <td>0.510155</td>\n",
              "      <td>0.642559</td>\n",
              "      <td>0.509976</td>\n",
              "      <td>0.607597</td>\n",
              "      <td>0.645544</td>\n",
              "      <td>0.758610</td>\n",
              "      <td>0.670268</td>\n",
              "      <td>0.562243</td>\n",
              "      <td>0.659201</td>\n",
              "      <td>0.624228</td>\n",
              "      <td>0.620794</td>\n",
              "      <td>0.538344</td>\n",
              "      <td>0.425689</td>\n",
              "      <td>0.438144</td>\n",
              "      <td>0.530074</td>\n",
              "      <td>0.567592</td>\n",
              "      <td>0.552634</td>\n",
              "      <td>NaN</td>\n",
              "      <td>NaN</td>\n",
              "    </tr>\n",
              "    <tr>\n",
              "      <th>Busyness</th>\n",
              "      <td>0.937894</td>\n",
              "      <td>0.810919</td>\n",
              "      <td>0.937881</td>\n",
              "      <td>0.773599</td>\n",
              "      <td>0.870370</td>\n",
              "      <td>0.682675</td>\n",
              "      <td>0.843581</td>\n",
              "      <td>0.913619</td>\n",
              "      <td>0.867644</td>\n",
              "      <td>0.805965</td>\n",
              "      <td>0.828142</td>\n",
              "      <td>0.890974</td>\n",
              "      <td>0.884836</td>\n",
              "      <td>0.897903</td>\n",
              "      <td>0.915079</td>\n",
              "      <td>0.858147</td>\n",
              "      <td>0.912460</td>\n",
              "      <td>0.602417</td>\n",
              "      <td>NaN</td>\n",
              "    </tr>\n",
              "  </tbody>\n",
              "</table>\n",
              "</div>"
            ],
            "text/plain": [
              "                          VoxelVolume  Maximum3DDiameter  ...  Strength  Busyness\n",
              "VoxelVolume                       NaN                NaN  ...       NaN       NaN\n",
              "Maximum3DDiameter            0.821982                NaN  ...       NaN       NaN\n",
              "MeshVolume                   0.999999           0.821800  ...       NaN       NaN\n",
              "MajorAxisLength              0.785606           0.964760  ...       NaN       NaN\n",
              "LeastAxisLength              0.898913           0.812696  ...       NaN       NaN\n",
              "SurfaceVolumeRatio           0.679146           0.683336  ...       NaN       NaN\n",
              "Maximum2DDiameterSlice       0.832976           0.917765  ...       NaN       NaN\n",
              "SurfaceArea                  0.950756           0.911623  ...       NaN       NaN\n",
              "MinorAxisLength              0.889105           0.901223  ...       NaN       NaN\n",
              "Maximum2DDiameterColumn      0.838170           0.940584  ...       NaN       NaN\n",
              "Maximum2DDiameterRow         0.837324           0.958797  ...       NaN       NaN\n",
              "DependenceNonUniformity      0.939428           0.786661  ...       NaN       NaN\n",
              "GrayLevelNonUniformity       0.923283           0.741102  ...       NaN       NaN\n",
              "GrayLevelNonUniformity.1     0.938199           0.755681  ...       NaN       NaN\n",
              "RunLengthNonUniformity       0.973643           0.812268  ...       NaN       NaN\n",
              "SizeZoneNonUniformity        0.899479           0.782626  ...       NaN       NaN\n",
              "GrayLevelNonUniformity.2     0.922172           0.794181  ...       NaN       NaN\n",
              "Strength                     0.510155           0.642559  ...       NaN       NaN\n",
              "Busyness                     0.937894           0.810919  ...  0.602417       NaN\n",
              "\n",
              "[19 rows x 19 columns]"
            ]
          },
          "metadata": {
            "tags": []
          },
          "execution_count": 28
        }
      ]
    },
    {
      "cell_type": "code",
      "metadata": {
        "id": "PQ1MkWP2O9hU",
        "colab_type": "code",
        "outputId": "0ab9d72b-5f27-4af2-8398-3dce1d342e50",
        "colab": {
          "base_uri": "https://localhost:8080/",
          "height": 311
        }
      },
      "source": [
        "#Find columns that meet threshold\n",
        "to_drop = [c for c in tri_df.columns if any(tri_df[c]>0.80)]\n",
        "to_drop"
      ],
      "execution_count": 36,
      "outputs": [
        {
          "output_type": "execute_result",
          "data": {
            "text/plain": [
              "['VoxelVolume',\n",
              " 'Maximum3DDiameter',\n",
              " 'MeshVolume',\n",
              " 'MajorAxisLength',\n",
              " 'LeastAxisLength',\n",
              " 'Maximum2DDiameterSlice',\n",
              " 'SurfaceArea',\n",
              " 'MinorAxisLength',\n",
              " 'Maximum2DDiameterColumn',\n",
              " 'Maximum2DDiameterRow',\n",
              " 'DependenceNonUniformity',\n",
              " 'GrayLevelNonUniformity',\n",
              " 'GrayLevelNonUniformity.1',\n",
              " 'RunLengthNonUniformity',\n",
              " 'SizeZoneNonUniformity',\n",
              " 'GrayLevelNonUniformity.2']"
            ]
          },
          "metadata": {
            "tags": []
          },
          "execution_count": 36
        }
      ]
    },
    {
      "cell_type": "markdown",
      "metadata": {
        "id": "GwvKeereQoci",
        "colab_type": "text"
      },
      "source": [
        "The reason we used the mask to set half of the matrox to NA value is that we eant to avoid removing both features when thay have a strong correlation. "
      ]
    },
    {
      "cell_type": "code",
      "metadata": {
        "id": "32R-tG-WPNXR",
        "colab_type": "code",
        "colab": {}
      },
      "source": [
        "#Drop those columns\n",
        "train_data_correlated_reduced = train_data_correlated.drop(to_drop, axis=1)"
      ],
      "execution_count": 0,
      "outputs": []
    },
    {
      "cell_type": "code",
      "metadata": {
        "id": "yn-uuBifRO8G",
        "colab_type": "code",
        "outputId": "39869cbb-5ba5-44e6-d4f0-3d74cd5a182d",
        "colab": {
          "base_uri": "https://localhost:8080/",
          "height": 35
        }
      },
      "source": [
        "train_data_correlated_reduced.shape"
      ],
      "execution_count": 38,
      "outputs": [
        {
          "output_type": "execute_result",
          "data": {
            "text/plain": [
              "(131, 3)"
            ]
          },
          "metadata": {
            "tags": []
          },
          "execution_count": 38
        }
      ]
    },
    {
      "cell_type": "markdown",
      "metadata": {
        "id": "1ljMaQeuSHe1",
        "colab_type": "text"
      },
      "source": [
        "funziona bene, però bisogna stare attenti a basarsi unicamente sul coefficiente di correlazione. Se y = x^2, x e y risulteranno scorrelate secondo il coeffiente di correlazione di Pearson."
      ]
    },
    {
      "cell_type": "code",
      "metadata": {
        "id": "7Lfc6k7CSe3X",
        "colab_type": "code",
        "outputId": "df99ff1d-8fad-418a-854f-6f559dd33cfa",
        "colab": {
          "base_uri": "https://localhost:8080/",
          "height": 424
        }
      },
      "source": [
        "train_data_correlated_reduced"
      ],
      "execution_count": 32,
      "outputs": [
        {
          "output_type": "execute_result",
          "data": {
            "text/html": [
              "<div>\n",
              "<style scoped>\n",
              "    .dataframe tbody tr th:only-of-type {\n",
              "        vertical-align: middle;\n",
              "    }\n",
              "\n",
              "    .dataframe tbody tr th {\n",
              "        vertical-align: top;\n",
              "    }\n",
              "\n",
              "    .dataframe thead th {\n",
              "        text-align: right;\n",
              "    }\n",
              "</style>\n",
              "<table border=\"1\" class=\"dataframe\">\n",
              "  <thead>\n",
              "    <tr style=\"text-align: right;\">\n",
              "      <th></th>\n",
              "      <th>SurfaceVolumeRatio</th>\n",
              "      <th>Strength</th>\n",
              "      <th>Busyness</th>\n",
              "    </tr>\n",
              "  </thead>\n",
              "  <tbody>\n",
              "    <tr>\n",
              "      <th>0</th>\n",
              "      <td>0.199752</td>\n",
              "      <td>1.153806</td>\n",
              "      <td>1.306338</td>\n",
              "    </tr>\n",
              "    <tr>\n",
              "      <th>1</th>\n",
              "      <td>0.356577</td>\n",
              "      <td>2.266070</td>\n",
              "      <td>0.253533</td>\n",
              "    </tr>\n",
              "    <tr>\n",
              "      <th>2</th>\n",
              "      <td>0.242519</td>\n",
              "      <td>1.238883</td>\n",
              "      <td>0.611772</td>\n",
              "    </tr>\n",
              "    <tr>\n",
              "      <th>3</th>\n",
              "      <td>0.234970</td>\n",
              "      <td>1.157976</td>\n",
              "      <td>0.564313</td>\n",
              "    </tr>\n",
              "    <tr>\n",
              "      <th>4</th>\n",
              "      <td>0.159206</td>\n",
              "      <td>0.390430</td>\n",
              "      <td>1.804351</td>\n",
              "    </tr>\n",
              "    <tr>\n",
              "      <th>...</th>\n",
              "      <td>...</td>\n",
              "      <td>...</td>\n",
              "      <td>...</td>\n",
              "    </tr>\n",
              "    <tr>\n",
              "      <th>126</th>\n",
              "      <td>0.214251</td>\n",
              "      <td>1.669748</td>\n",
              "      <td>0.768631</td>\n",
              "    </tr>\n",
              "    <tr>\n",
              "      <th>127</th>\n",
              "      <td>0.255458</td>\n",
              "      <td>0.680747</td>\n",
              "      <td>1.374614</td>\n",
              "    </tr>\n",
              "    <tr>\n",
              "      <th>128</th>\n",
              "      <td>0.143462</td>\n",
              "      <td>0.965192</td>\n",
              "      <td>1.584828</td>\n",
              "    </tr>\n",
              "    <tr>\n",
              "      <th>129</th>\n",
              "      <td>0.432954</td>\n",
              "      <td>2.407473</td>\n",
              "      <td>0.249712</td>\n",
              "    </tr>\n",
              "    <tr>\n",
              "      <th>130</th>\n",
              "      <td>0.334973</td>\n",
              "      <td>3.257996</td>\n",
              "      <td>0.256154</td>\n",
              "    </tr>\n",
              "  </tbody>\n",
              "</table>\n",
              "<p>131 rows × 3 columns</p>\n",
              "</div>"
            ],
            "text/plain": [
              "     SurfaceVolumeRatio  Strength  Busyness\n",
              "0              0.199752  1.153806  1.306338\n",
              "1              0.356577  2.266070  0.253533\n",
              "2              0.242519  1.238883  0.611772\n",
              "3              0.234970  1.157976  0.564313\n",
              "4              0.159206  0.390430  1.804351\n",
              "..                  ...       ...       ...\n",
              "126            0.214251  1.669748  0.768631\n",
              "127            0.255458  0.680747  1.374614\n",
              "128            0.143462  0.965192  1.584828\n",
              "129            0.432954  2.407473  0.249712\n",
              "130            0.334973  3.257996  0.256154\n",
              "\n",
              "[131 rows x 3 columns]"
            ]
          },
          "metadata": {
            "tags": []
          },
          "execution_count": 32
        }
      ]
    },
    {
      "cell_type": "markdown",
      "metadata": {
        "id": "zRc7cM8kYegM",
        "colab_type": "text"
      },
      "source": [
        "Le features che correlano meglio con il 'Surv_time_months' e sono scorrelate tra loro sono: SurfaceVolumeRatio, Strength e\tBusyness. Il numero ovviamente dipende dalle soglie impostate."
      ]
    },
    {
      "cell_type": "markdown",
      "metadata": {
        "id": "J3oTB19E1l1U",
        "colab_type": "text"
      },
      "source": [
        "##Prova con train_data_correlated"
      ]
    },
    {
      "cell_type": "markdown",
      "metadata": {
        "colab_type": "text",
        "id": "lLM9x7oC4Psi"
      },
      "source": [
        "###Z score dei dati"
      ]
    },
    {
      "cell_type": "code",
      "metadata": {
        "colab_type": "code",
        "id": "FF1Ctccc4Psw",
        "colab": {}
      },
      "source": [
        "mean = train_data_correlated.mean(axis=0)\n",
        "train_data_correlated_stand = train_data_correlated - mean\n",
        "std = train_data_correlated.std(axis=0)\n",
        "train_data_correlated_stand /= std"
      ],
      "execution_count": 0,
      "outputs": []
    },
    {
      "cell_type": "code",
      "metadata": {
        "colab_type": "code",
        "id": "T-m6zOGn4PtO",
        "colab": {}
      },
      "source": [
        "#test_data_stand = test_data - mean\n",
        "#test_data_stand /= std"
      ],
      "execution_count": 0,
      "outputs": []
    },
    {
      "cell_type": "markdown",
      "metadata": {
        "colab_type": "text",
        "id": "LUR1f6IS6nHD"
      },
      "source": [
        "#Building Network"
      ]
    },
    {
      "cell_type": "code",
      "metadata": {
        "colab_type": "code",
        "outputId": "083148c6-999d-4f0d-af9d-a2744c68a849",
        "id": "SYGQDYq06nHJ",
        "colab": {
          "base_uri": "https://localhost:8080/",
          "height": 83
        }
      },
      "source": [
        "from keras import models"
      ],
      "execution_count": 51,
      "outputs": [
        {
          "output_type": "stream",
          "text": [
            "Using TensorFlow backend.\n"
          ],
          "name": "stderr"
        },
        {
          "output_type": "display_data",
          "data": {
            "text/html": [
              "<p style=\"color: red;\">\n",
              "The default version of TensorFlow in Colab will soon switch to TensorFlow 2.x.<br>\n",
              "We recommend you <a href=\"https://www.tensorflow.org/guide/migrate\" target=\"_blank\">upgrade</a> now \n",
              "or ensure your notebook will continue to use TensorFlow 1.x via the <code>%tensorflow_version 1.x</code> magic:\n",
              "<a href=\"https://colab.research.google.com/notebooks/tensorflow_version.ipynb\" target=\"_blank\">more info</a>.</p>\n"
            ],
            "text/plain": [
              "<IPython.core.display.HTML object>"
            ]
          },
          "metadata": {
            "tags": []
          }
        }
      ]
    },
    {
      "cell_type": "code",
      "metadata": {
        "colab_type": "code",
        "id": "hQ0yVfwu6nHV",
        "colab": {}
      },
      "source": [
        "from keras import layers"
      ],
      "execution_count": 0,
      "outputs": []
    },
    {
      "cell_type": "code",
      "metadata": {
        "colab_type": "code",
        "id": "jdP4lGct6nHg",
        "colab": {}
      },
      "source": [
        "def build_model():\n",
        "  model = models.Sequential()\n",
        "  model.add(layers.Dense(8, activation='relu', input_shape=(19,)))\n",
        "  model.add(layers.Dense(1))\n",
        "  model.compile(optimizer='rmsprop', loss='mse', metrics=['mae'])\n",
        "  return model"
      ],
      "execution_count": 0,
      "outputs": []
    },
    {
      "cell_type": "markdown",
      "metadata": {
        "colab_type": "text",
        "id": "eTIRtpwA6nHn"
      },
      "source": [
        "Note that you compile the network with the mse loss function—mean squared error,\n",
        "the square of the difference between the predictions and the targets. This is a widely\n",
        "used loss function for regression problems.\n",
        "\n"
      ]
    },
    {
      "cell_type": "markdown",
      "metadata": {
        "colab_type": "text",
        "id": "uHkiKyvw6nHq"
      },
      "source": [
        "You’re also monitoring a new metric during training: mean absolute error (MAE). It’s\n",
        "the absolute value of the difference between the predictions and the targets. For\n",
        "instance, an MAE of 0.5 on this problem would mean your predictions are off by $500\n",
        "on average."
      ]
    },
    {
      "cell_type": "markdown",
      "metadata": {
        "colab_type": "text",
        "id": "fg_UG05R1vzz"
      },
      "source": [
        "###K-Fold"
      ]
    },
    {
      "cell_type": "code",
      "metadata": {
        "colab_type": "code",
        "id": "nSbdp7Gl1vz9",
        "colab": {}
      },
      "source": [
        "from sklearn.model_selection import KFold"
      ],
      "execution_count": 0,
      "outputs": []
    },
    {
      "cell_type": "code",
      "metadata": {
        "colab_type": "code",
        "outputId": "29722fca-1c3d-4866-fbd4-13cf5124ec45",
        "id": "eMWRAKVM1v0L",
        "colab": {
          "base_uri": "https://localhost:8080/",
          "height": 35
        }
      },
      "source": [
        "kf = KFold(n_splits=3, shuffle=True, random_state=1)\n",
        "kf.get_n_splits(train_data_correlated_stand, train_targets)"
      ],
      "execution_count": 55,
      "outputs": [
        {
          "output_type": "execute_result",
          "data": {
            "text/plain": [
              "3"
            ]
          },
          "metadata": {
            "tags": []
          },
          "execution_count": 55
        }
      ]
    },
    {
      "cell_type": "code",
      "metadata": {
        "colab_type": "code",
        "outputId": "8e34c4b0-0486-4e02-a9f2-a58c111e16c8",
        "id": "LNlOcYcJ1v0X",
        "colab": {
          "base_uri": "https://localhost:8080/",
          "height": 403
        }
      },
      "source": [
        "for train_index, test_index in kf.split(train_data_correlated_stand, train_targets):\n",
        "    print(\"TRAIN:\", train_index, \"TEST:\", test_index)"
      ],
      "execution_count": 56,
      "outputs": [
        {
          "output_type": "stream",
          "text": [
            "TRAIN: [  0   1   3   6   7   8   9  10  11  13  14  15  16  18  19  20  21  22\n",
            "  23  24  25  26  27  28  29  30  32  34  36  37  38  39  41  43  47  49\n",
            "  50  52  57  60  61  63  64  65  67  68  69  70  71  72  74  76  77  78\n",
            "  79  81  83  84  86  87  88  90  92  94  95  96  99 100 101 103 105 106\n",
            " 107 108 109 112 113 115 117 119 120 122 123 125 127 129 130] TEST: [  2   4   5  12  17  31  33  35  40  42  44  45  46  48  51  53  54  55\n",
            "  56  58  59  62  66  73  75  80  82  85  89  91  93  97  98 102 104 110\n",
            " 111 114 116 118 121 124 126 128]\n",
            "TRAIN: [  0   1   2   4   5   6   7   8   9  11  12  13  14  16  17  18  20  22\n",
            "  25  28  29  31  33  35  37  40  42  44  45  46  48  50  51  53  54  55\n",
            "  56  57  58  59  60  61  62  63  64  66  68  71  72  73  75  76  79  80\n",
            "  81  82  84  85  86  87  88  89  91  93  94  96  97  98 101 102 104 105\n",
            " 106 107 109 110 111 114 116 117 118 119 121 124 125 126 128] TEST: [  3  10  15  19  21  23  24  26  27  30  32  34  36  38  39  41  43  47\n",
            "  49  52  65  67  69  70  74  77  78  83  90  92  95  99 100 103 108 112\n",
            " 113 115 120 122 123 127 129 130]\n",
            "TRAIN: [  2   3   4   5  10  12  15  17  19  21  23  24  26  27  30  31  32  33\n",
            "  34  35  36  38  39  40  41  42  43  44  45  46  47  48  49  51  52  53\n",
            "  54  55  56  58  59  62  65  66  67  69  70  73  74  75  77  78  80  82\n",
            "  83  85  89  90  91  92  93  95  97  98  99 100 102 103 104 108 110 111\n",
            " 112 113 114 115 116 118 120 121 122 123 124 126 127 128 129 130] TEST: [  0   1   6   7   8   9  11  13  14  16  18  20  22  25  28  29  37  50\n",
            "  57  60  61  63  64  68  71  72  76  79  81  84  86  87  88  94  96 101\n",
            " 105 106 107 109 117 119 125]\n"
          ],
          "name": "stdout"
        }
      ]
    },
    {
      "cell_type": "markdown",
      "metadata": {
        "colab_type": "text",
        "id": "4_vnGV5O1v0g"
      },
      "source": [
        ""
      ]
    },
    {
      "cell_type": "code",
      "metadata": {
        "colab_type": "code",
        "outputId": "22211853-9d32-4faa-c85f-7f64078879e4",
        "id": "1ltxEyGR1v0i",
        "colab": {
          "base_uri": "https://localhost:8080/",
          "height": 1000
        }
      },
      "source": [
        "num_epochs = 100\n",
        "all_mae_histories = []\n",
        "all_mae_val_histories = []\n",
        "all_loss_histories = []\n",
        "all_loss_val_histories = []\n",
        "\n",
        "for train_index, val_index in kf.split(train_data_correlated_stand, train_targets):\n",
        "  partial_train_data = np.array([train_data_correlated_stand[i] for i in train_index])\n",
        "  partial_train_targets = np.array([train_targets[i] for i in train_index])\n",
        "  \n",
        "  val_data = np.array([train_data_correlated_stand[i] for i in val_index])\n",
        "  val_targets = np.array([train_targets[i] for i in val_index])\n",
        "\n",
        "  model = build_model()\n",
        "  history = model.fit(partial_train_data, partial_train_targets, validation_data=(val_data, val_targets), \n",
        "                      epochs= num_epochs, batch_size=1)\n",
        "  \n",
        "  mae_history = history.history['mean_absolute_error']\n",
        "  all_mae_histories.append(mae_history)\n",
        "\n",
        "  mae_val_history = history.history['val_mean_absolute_error']\n",
        "  all_mae_val_histories.append(mae_val_history)\n",
        "\n",
        "  loss_history = history.history['loss']\n",
        "  all_loss_histories.append(loss_history)\n",
        "\n",
        "  loss_val_history = history.history['val_loss']\n",
        "  all_loss_val_histories.append(loss_val_history)\n"
      ],
      "execution_count": 57,
      "outputs": [
        {
          "output_type": "stream",
          "text": [
            "WARNING:tensorflow:From /usr/local/lib/python3.6/dist-packages/keras/backend/tensorflow_backend.py:66: The name tf.get_default_graph is deprecated. Please use tf.compat.v1.get_default_graph instead.\n",
            "\n",
            "WARNING:tensorflow:From /usr/local/lib/python3.6/dist-packages/keras/backend/tensorflow_backend.py:541: The name tf.placeholder is deprecated. Please use tf.compat.v1.placeholder instead.\n",
            "\n",
            "WARNING:tensorflow:From /usr/local/lib/python3.6/dist-packages/keras/backend/tensorflow_backend.py:4432: The name tf.random_uniform is deprecated. Please use tf.random.uniform instead.\n",
            "\n",
            "WARNING:tensorflow:From /usr/local/lib/python3.6/dist-packages/keras/optimizers.py:793: The name tf.train.Optimizer is deprecated. Please use tf.compat.v1.train.Optimizer instead.\n",
            "\n",
            "WARNING:tensorflow:From /usr/local/lib/python3.6/dist-packages/keras/backend/tensorflow_backend.py:1033: The name tf.assign_add is deprecated. Please use tf.compat.v1.assign_add instead.\n",
            "\n",
            "WARNING:tensorflow:From /usr/local/lib/python3.6/dist-packages/keras/backend/tensorflow_backend.py:1020: The name tf.assign is deprecated. Please use tf.compat.v1.assign instead.\n",
            "\n",
            "WARNING:tensorflow:From /usr/local/lib/python3.6/dist-packages/keras/backend/tensorflow_backend.py:3005: The name tf.Session is deprecated. Please use tf.compat.v1.Session instead.\n",
            "\n",
            "Train on 87 samples, validate on 44 samples\n",
            "Epoch 1/100\n",
            "WARNING:tensorflow:From /usr/local/lib/python3.6/dist-packages/keras/backend/tensorflow_backend.py:190: The name tf.get_default_session is deprecated. Please use tf.compat.v1.get_default_session instead.\n",
            "\n",
            "WARNING:tensorflow:From /usr/local/lib/python3.6/dist-packages/keras/backend/tensorflow_backend.py:197: The name tf.ConfigProto is deprecated. Please use tf.compat.v1.ConfigProto instead.\n",
            "\n",
            "WARNING:tensorflow:From /usr/local/lib/python3.6/dist-packages/keras/backend/tensorflow_backend.py:207: The name tf.global_variables is deprecated. Please use tf.compat.v1.global_variables instead.\n",
            "\n",
            "WARNING:tensorflow:From /usr/local/lib/python3.6/dist-packages/keras/backend/tensorflow_backend.py:216: The name tf.is_variable_initialized is deprecated. Please use tf.compat.v1.is_variable_initialized instead.\n",
            "\n",
            "WARNING:tensorflow:From /usr/local/lib/python3.6/dist-packages/keras/backend/tensorflow_backend.py:223: The name tf.variables_initializer is deprecated. Please use tf.compat.v1.variables_initializer instead.\n",
            "\n",
            "87/87 [==============================] - 1s 6ms/step - loss: 751.7221 - mean_absolute_error: 21.4353 - val_loss: 538.6561 - val_mean_absolute_error: 16.9738\n",
            "Epoch 2/100\n",
            "87/87 [==============================] - 0s 1ms/step - loss: 714.7287 - mean_absolute_error: 20.7749 - val_loss: 519.0401 - val_mean_absolute_error: 16.4803\n",
            "Epoch 3/100\n",
            "87/87 [==============================] - 0s 1ms/step - loss: 681.3773 - mean_absolute_error: 20.2094 - val_loss: 497.7883 - val_mean_absolute_error: 15.9996\n",
            "Epoch 4/100\n",
            "87/87 [==============================] - 0s 1ms/step - loss: 647.7272 - mean_absolute_error: 19.5602 - val_loss: 477.3528 - val_mean_absolute_error: 15.5468\n",
            "Epoch 5/100\n",
            "87/87 [==============================] - 0s 1ms/step - loss: 613.1599 - mean_absolute_error: 18.8636 - val_loss: 456.4633 - val_mean_absolute_error: 15.0548\n",
            "Epoch 6/100\n",
            "87/87 [==============================] - 0s 1ms/step - loss: 573.0561 - mean_absolute_error: 18.1614 - val_loss: 435.5268 - val_mean_absolute_error: 14.5893\n",
            "Epoch 7/100\n",
            "87/87 [==============================] - 0s 1ms/step - loss: 534.8779 - mean_absolute_error: 17.2840 - val_loss: 413.2155 - val_mean_absolute_error: 14.0741\n",
            "Epoch 8/100\n",
            "87/87 [==============================] - 0s 1ms/step - loss: 491.8395 - mean_absolute_error: 16.3864 - val_loss: 388.2542 - val_mean_absolute_error: 13.4198\n",
            "Epoch 9/100\n",
            "87/87 [==============================] - 0s 1ms/step - loss: 444.8727 - mean_absolute_error: 15.3171 - val_loss: 365.0924 - val_mean_absolute_error: 12.7965\n",
            "Epoch 10/100\n",
            "87/87 [==============================] - 0s 1ms/step - loss: 404.9004 - mean_absolute_error: 14.6639 - val_loss: 348.0851 - val_mean_absolute_error: 12.3299\n",
            "Epoch 11/100\n",
            "87/87 [==============================] - 0s 1ms/step - loss: 375.4422 - mean_absolute_error: 14.0342 - val_loss: 335.5525 - val_mean_absolute_error: 12.1282\n",
            "Epoch 12/100\n",
            "87/87 [==============================] - 0s 1ms/step - loss: 352.4654 - mean_absolute_error: 13.6020 - val_loss: 324.1813 - val_mean_absolute_error: 11.9863\n",
            "Epoch 13/100\n",
            "87/87 [==============================] - 0s 1ms/step - loss: 334.4533 - mean_absolute_error: 13.3996 - val_loss: 316.7394 - val_mean_absolute_error: 11.9438\n",
            "Epoch 14/100\n",
            "87/87 [==============================] - 0s 1ms/step - loss: 322.8734 - mean_absolute_error: 13.2001 - val_loss: 311.1880 - val_mean_absolute_error: 12.0327\n",
            "Epoch 15/100\n",
            "87/87 [==============================] - 0s 1ms/step - loss: 313.9272 - mean_absolute_error: 13.1647 - val_loss: 307.8603 - val_mean_absolute_error: 12.1735\n",
            "Epoch 16/100\n",
            "87/87 [==============================] - 0s 1ms/step - loss: 309.0144 - mean_absolute_error: 13.1032 - val_loss: 305.3121 - val_mean_absolute_error: 12.2516\n",
            "Epoch 17/100\n",
            "87/87 [==============================] - 0s 1ms/step - loss: 305.5495 - mean_absolute_error: 13.0953 - val_loss: 302.9923 - val_mean_absolute_error: 12.2872\n",
            "Epoch 18/100\n",
            "87/87 [==============================] - 0s 1ms/step - loss: 303.1993 - mean_absolute_error: 12.9771 - val_loss: 301.2375 - val_mean_absolute_error: 12.3367\n",
            "Epoch 19/100\n",
            "87/87 [==============================] - 0s 1ms/step - loss: 300.0179 - mean_absolute_error: 12.9809 - val_loss: 299.1362 - val_mean_absolute_error: 12.3975\n",
            "Epoch 20/100\n",
            "87/87 [==============================] - 0s 1ms/step - loss: 297.0938 - mean_absolute_error: 12.9476 - val_loss: 296.8239 - val_mean_absolute_error: 12.4062\n",
            "Epoch 21/100\n",
            "87/87 [==============================] - 0s 1ms/step - loss: 294.8428 - mean_absolute_error: 12.8860 - val_loss: 295.0565 - val_mean_absolute_error: 12.4115\n",
            "Epoch 22/100\n",
            "87/87 [==============================] - 0s 1ms/step - loss: 292.3359 - mean_absolute_error: 12.8372 - val_loss: 293.7961 - val_mean_absolute_error: 12.4152\n",
            "Epoch 23/100\n",
            "87/87 [==============================] - 0s 1ms/step - loss: 290.4705 - mean_absolute_error: 12.7661 - val_loss: 291.6578 - val_mean_absolute_error: 12.4347\n",
            "Epoch 24/100\n",
            "87/87 [==============================] - 0s 1ms/step - loss: 287.6758 - mean_absolute_error: 12.7209 - val_loss: 289.1165 - val_mean_absolute_error: 12.4003\n",
            "Epoch 25/100\n",
            "87/87 [==============================] - 0s 1ms/step - loss: 285.9532 - mean_absolute_error: 12.6925 - val_loss: 287.6286 - val_mean_absolute_error: 12.3930\n",
            "Epoch 26/100\n",
            "87/87 [==============================] - 0s 1ms/step - loss: 284.0817 - mean_absolute_error: 12.6071 - val_loss: 286.7849 - val_mean_absolute_error: 12.3991\n",
            "Epoch 27/100\n",
            "87/87 [==============================] - 0s 1ms/step - loss: 281.8803 - mean_absolute_error: 12.6116 - val_loss: 285.3631 - val_mean_absolute_error: 12.3957\n",
            "Epoch 28/100\n",
            "87/87 [==============================] - 0s 1ms/step - loss: 279.9195 - mean_absolute_error: 12.5561 - val_loss: 284.2501 - val_mean_absolute_error: 12.4014\n",
            "Epoch 29/100\n",
            "87/87 [==============================] - 0s 1ms/step - loss: 278.1803 - mean_absolute_error: 12.5224 - val_loss: 283.5274 - val_mean_absolute_error: 12.3576\n",
            "Epoch 30/100\n",
            "87/87 [==============================] - 0s 1ms/step - loss: 276.1286 - mean_absolute_error: 12.4400 - val_loss: 281.5720 - val_mean_absolute_error: 12.3811\n",
            "Epoch 31/100\n",
            "87/87 [==============================] - 0s 1ms/step - loss: 274.5185 - mean_absolute_error: 12.4141 - val_loss: 279.8289 - val_mean_absolute_error: 12.3718\n",
            "Epoch 32/100\n",
            "87/87 [==============================] - 0s 1ms/step - loss: 272.5790 - mean_absolute_error: 12.4428 - val_loss: 278.4669 - val_mean_absolute_error: 12.3589\n",
            "Epoch 33/100\n",
            "87/87 [==============================] - 0s 1ms/step - loss: 271.1810 - mean_absolute_error: 12.4051 - val_loss: 277.6336 - val_mean_absolute_error: 12.3660\n",
            "Epoch 34/100\n",
            "87/87 [==============================] - 0s 1ms/step - loss: 269.5184 - mean_absolute_error: 12.3741 - val_loss: 276.3621 - val_mean_absolute_error: 12.3390\n",
            "Epoch 35/100\n",
            "87/87 [==============================] - 0s 1ms/step - loss: 267.8623 - mean_absolute_error: 12.3408 - val_loss: 276.0656 - val_mean_absolute_error: 12.3250\n",
            "Epoch 36/100\n",
            "87/87 [==============================] - 0s 1ms/step - loss: 266.4142 - mean_absolute_error: 12.3173 - val_loss: 274.9636 - val_mean_absolute_error: 12.3185\n",
            "Epoch 37/100\n",
            "87/87 [==============================] - 0s 1ms/step - loss: 264.9201 - mean_absolute_error: 12.2748 - val_loss: 273.9284 - val_mean_absolute_error: 12.3029\n",
            "Epoch 38/100\n",
            "87/87 [==============================] - 0s 1ms/step - loss: 263.6192 - mean_absolute_error: 12.2614 - val_loss: 273.0999 - val_mean_absolute_error: 12.3092\n",
            "Epoch 39/100\n",
            "87/87 [==============================] - 0s 1ms/step - loss: 262.3167 - mean_absolute_error: 12.2700 - val_loss: 273.0791 - val_mean_absolute_error: 12.2887\n",
            "Epoch 40/100\n",
            "87/87 [==============================] - 0s 1ms/step - loss: 260.8402 - mean_absolute_error: 12.2240 - val_loss: 272.3430 - val_mean_absolute_error: 12.2612\n",
            "Epoch 41/100\n",
            "87/87 [==============================] - 0s 1ms/step - loss: 259.9662 - mean_absolute_error: 12.1658 - val_loss: 272.5834 - val_mean_absolute_error: 12.2544\n",
            "Epoch 42/100\n",
            "87/87 [==============================] - 0s 1ms/step - loss: 258.6540 - mean_absolute_error: 12.1410 - val_loss: 271.2752 - val_mean_absolute_error: 12.2470\n",
            "Epoch 43/100\n",
            "87/87 [==============================] - 0s 1ms/step - loss: 257.0261 - mean_absolute_error: 12.1070 - val_loss: 271.1920 - val_mean_absolute_error: 12.2375\n",
            "Epoch 44/100\n",
            "87/87 [==============================] - 0s 1ms/step - loss: 256.0087 - mean_absolute_error: 12.1272 - val_loss: 270.6511 - val_mean_absolute_error: 12.2270\n",
            "Epoch 45/100\n",
            "87/87 [==============================] - 0s 1ms/step - loss: 254.5426 - mean_absolute_error: 12.0117 - val_loss: 270.8870 - val_mean_absolute_error: 12.2907\n",
            "Epoch 46/100\n",
            "87/87 [==============================] - 0s 1ms/step - loss: 253.5348 - mean_absolute_error: 12.0304 - val_loss: 270.5275 - val_mean_absolute_error: 12.2881\n",
            "Epoch 47/100\n",
            "87/87 [==============================] - 0s 1ms/step - loss: 252.1578 - mean_absolute_error: 12.0540 - val_loss: 270.8581 - val_mean_absolute_error: 12.2857\n",
            "Epoch 48/100\n",
            "87/87 [==============================] - 0s 1ms/step - loss: 251.3408 - mean_absolute_error: 12.0293 - val_loss: 270.8687 - val_mean_absolute_error: 12.2754\n",
            "Epoch 49/100\n",
            "87/87 [==============================] - 0s 1ms/step - loss: 250.0134 - mean_absolute_error: 11.9919 - val_loss: 270.4508 - val_mean_absolute_error: 12.2815\n",
            "Epoch 50/100\n",
            "87/87 [==============================] - 0s 1ms/step - loss: 249.0146 - mean_absolute_error: 11.9792 - val_loss: 270.5367 - val_mean_absolute_error: 12.2780\n",
            "Epoch 51/100\n",
            "87/87 [==============================] - 0s 1ms/step - loss: 248.1137 - mean_absolute_error: 11.9488 - val_loss: 270.1266 - val_mean_absolute_error: 12.2869\n",
            "Epoch 52/100\n",
            "87/87 [==============================] - 0s 1ms/step - loss: 247.1252 - mean_absolute_error: 12.0124 - val_loss: 270.2154 - val_mean_absolute_error: 12.2898\n",
            "Epoch 53/100\n",
            "87/87 [==============================] - 0s 1ms/step - loss: 246.6406 - mean_absolute_error: 11.9345 - val_loss: 270.4755 - val_mean_absolute_error: 12.2634\n",
            "Epoch 54/100\n",
            "87/87 [==============================] - 0s 1ms/step - loss: 245.7371 - mean_absolute_error: 11.9134 - val_loss: 270.5132 - val_mean_absolute_error: 12.2489\n",
            "Epoch 55/100\n",
            "87/87 [==============================] - 0s 1ms/step - loss: 244.9821 - mean_absolute_error: 11.9274 - val_loss: 270.7142 - val_mean_absolute_error: 12.2581\n",
            "Epoch 56/100\n",
            "87/87 [==============================] - 0s 1ms/step - loss: 244.1863 - mean_absolute_error: 11.8859 - val_loss: 270.2553 - val_mean_absolute_error: 12.2675\n",
            "Epoch 57/100\n",
            "87/87 [==============================] - 0s 1ms/step - loss: 243.2545 - mean_absolute_error: 11.9069 - val_loss: 269.9276 - val_mean_absolute_error: 12.2961\n",
            "Epoch 58/100\n",
            "87/87 [==============================] - 0s 1ms/step - loss: 242.6812 - mean_absolute_error: 11.8249 - val_loss: 269.2821 - val_mean_absolute_error: 12.3094\n",
            "Epoch 59/100\n",
            "87/87 [==============================] - 0s 1ms/step - loss: 242.6672 - mean_absolute_error: 11.8881 - val_loss: 269.6627 - val_mean_absolute_error: 12.3025\n",
            "Epoch 60/100\n",
            "87/87 [==============================] - 0s 1ms/step - loss: 241.8132 - mean_absolute_error: 11.8424 - val_loss: 269.9349 - val_mean_absolute_error: 12.3027\n",
            "Epoch 61/100\n",
            "87/87 [==============================] - 0s 1ms/step - loss: 240.9872 - mean_absolute_error: 11.8539 - val_loss: 269.3512 - val_mean_absolute_error: 12.3161\n",
            "Epoch 62/100\n",
            "87/87 [==============================] - 0s 1ms/step - loss: 240.6836 - mean_absolute_error: 11.8340 - val_loss: 269.2783 - val_mean_absolute_error: 12.3230\n",
            "Epoch 63/100\n",
            "87/87 [==============================] - 0s 1ms/step - loss: 240.1023 - mean_absolute_error: 11.8391 - val_loss: 269.1090 - val_mean_absolute_error: 12.3151\n",
            "Epoch 64/100\n",
            "87/87 [==============================] - 0s 1ms/step - loss: 239.7483 - mean_absolute_error: 11.8468 - val_loss: 269.9222 - val_mean_absolute_error: 12.3272\n",
            "Epoch 65/100\n",
            "87/87 [==============================] - 0s 1ms/step - loss: 239.1622 - mean_absolute_error: 11.8499 - val_loss: 270.5508 - val_mean_absolute_error: 12.3420\n",
            "Epoch 66/100\n",
            "87/87 [==============================] - 0s 1ms/step - loss: 238.4405 - mean_absolute_error: 11.8613 - val_loss: 271.0812 - val_mean_absolute_error: 12.3402\n",
            "Epoch 67/100\n",
            "87/87 [==============================] - 0s 1ms/step - loss: 238.8110 - mean_absolute_error: 11.7939 - val_loss: 270.9967 - val_mean_absolute_error: 12.3407\n",
            "Epoch 68/100\n",
            "87/87 [==============================] - 0s 1ms/step - loss: 238.2454 - mean_absolute_error: 11.7477 - val_loss: 271.3504 - val_mean_absolute_error: 12.3726\n",
            "Epoch 69/100\n",
            "87/87 [==============================] - 0s 1ms/step - loss: 237.3395 - mean_absolute_error: 11.7925 - val_loss: 271.4405 - val_mean_absolute_error: 12.3875\n",
            "Epoch 70/100\n",
            "87/87 [==============================] - 0s 1ms/step - loss: 236.9976 - mean_absolute_error: 11.7633 - val_loss: 271.1284 - val_mean_absolute_error: 12.4229\n",
            "Epoch 71/100\n",
            "87/87 [==============================] - 0s 1ms/step - loss: 236.4308 - mean_absolute_error: 11.7996 - val_loss: 271.6314 - val_mean_absolute_error: 12.4236\n",
            "Epoch 72/100\n",
            "87/87 [==============================] - 0s 1ms/step - loss: 236.1370 - mean_absolute_error: 11.7246 - val_loss: 271.0916 - val_mean_absolute_error: 12.4634\n",
            "Epoch 73/100\n",
            "87/87 [==============================] - 0s 1ms/step - loss: 235.4917 - mean_absolute_error: 11.8000 - val_loss: 271.4135 - val_mean_absolute_error: 12.4669\n",
            "Epoch 74/100\n",
            "87/87 [==============================] - 0s 1ms/step - loss: 235.5833 - mean_absolute_error: 11.7205 - val_loss: 272.3097 - val_mean_absolute_error: 12.4942\n",
            "Epoch 75/100\n",
            "87/87 [==============================] - 0s 1ms/step - loss: 234.7675 - mean_absolute_error: 11.7262 - val_loss: 271.6343 - val_mean_absolute_error: 12.5107\n",
            "Epoch 76/100\n",
            "87/87 [==============================] - 0s 1ms/step - loss: 234.8723 - mean_absolute_error: 11.7628 - val_loss: 272.2522 - val_mean_absolute_error: 12.5191\n",
            "Epoch 77/100\n",
            "87/87 [==============================] - 0s 1ms/step - loss: 234.4545 - mean_absolute_error: 11.7305 - val_loss: 272.0360 - val_mean_absolute_error: 12.5432\n",
            "Epoch 78/100\n",
            "87/87 [==============================] - 0s 1ms/step - loss: 234.0053 - mean_absolute_error: 11.7043 - val_loss: 272.4813 - val_mean_absolute_error: 12.5718\n",
            "Epoch 79/100\n",
            "87/87 [==============================] - 0s 1ms/step - loss: 233.3419 - mean_absolute_error: 11.7443 - val_loss: 274.4808 - val_mean_absolute_error: 12.5812\n",
            "Epoch 80/100\n",
            "87/87 [==============================] - 0s 1ms/step - loss: 233.3183 - mean_absolute_error: 11.6767 - val_loss: 274.1015 - val_mean_absolute_error: 12.6084\n",
            "Epoch 81/100\n",
            "87/87 [==============================] - 0s 1ms/step - loss: 232.8843 - mean_absolute_error: 11.7175 - val_loss: 274.5789 - val_mean_absolute_error: 12.6292\n",
            "Epoch 82/100\n",
            "87/87 [==============================] - 0s 1ms/step - loss: 232.7461 - mean_absolute_error: 11.6775 - val_loss: 274.1324 - val_mean_absolute_error: 12.6523\n",
            "Epoch 83/100\n",
            "87/87 [==============================] - 0s 1ms/step - loss: 232.4889 - mean_absolute_error: 11.6690 - val_loss: 274.2845 - val_mean_absolute_error: 12.6771\n",
            "Epoch 84/100\n",
            "87/87 [==============================] - 0s 1ms/step - loss: 231.6373 - mean_absolute_error: 11.6548 - val_loss: 274.2838 - val_mean_absolute_error: 12.6952\n",
            "Epoch 85/100\n",
            "87/87 [==============================] - 0s 1ms/step - loss: 231.2429 - mean_absolute_error: 11.7028 - val_loss: 275.3308 - val_mean_absolute_error: 12.7236\n",
            "Epoch 86/100\n",
            "87/87 [==============================] - 0s 1ms/step - loss: 231.1909 - mean_absolute_error: 11.6523 - val_loss: 275.4315 - val_mean_absolute_error: 12.7581\n",
            "Epoch 87/100\n",
            "87/87 [==============================] - 0s 1ms/step - loss: 230.5169 - mean_absolute_error: 11.6465 - val_loss: 274.4984 - val_mean_absolute_error: 12.7862\n",
            "Epoch 88/100\n",
            "87/87 [==============================] - 0s 1ms/step - loss: 230.7063 - mean_absolute_error: 11.7017 - val_loss: 275.7323 - val_mean_absolute_error: 12.7769\n",
            "Epoch 89/100\n",
            "87/87 [==============================] - 0s 1ms/step - loss: 230.4894 - mean_absolute_error: 11.6538 - val_loss: 275.4676 - val_mean_absolute_error: 12.7913\n",
            "Epoch 90/100\n",
            "87/87 [==============================] - 0s 1ms/step - loss: 230.2831 - mean_absolute_error: 11.6700 - val_loss: 276.0922 - val_mean_absolute_error: 12.8050\n",
            "Epoch 91/100\n",
            "87/87 [==============================] - 0s 1ms/step - loss: 230.5544 - mean_absolute_error: 11.6420 - val_loss: 276.7053 - val_mean_absolute_error: 12.8345\n",
            "Epoch 92/100\n",
            "87/87 [==============================] - 0s 1ms/step - loss: 229.8795 - mean_absolute_error: 11.6394 - val_loss: 277.9078 - val_mean_absolute_error: 12.8392\n",
            "Epoch 93/100\n",
            "87/87 [==============================] - 0s 1ms/step - loss: 229.8849 - mean_absolute_error: 11.6294 - val_loss: 277.9031 - val_mean_absolute_error: 12.8452\n",
            "Epoch 94/100\n",
            "87/87 [==============================] - 0s 1ms/step - loss: 229.5578 - mean_absolute_error: 11.6069 - val_loss: 277.6392 - val_mean_absolute_error: 12.8598\n",
            "Epoch 95/100\n",
            "87/87 [==============================] - 0s 1ms/step - loss: 229.4064 - mean_absolute_error: 11.6323 - val_loss: 278.5072 - val_mean_absolute_error: 12.8727\n",
            "Epoch 96/100\n",
            "87/87 [==============================] - 0s 1ms/step - loss: 229.0456 - mean_absolute_error: 11.6684 - val_loss: 278.6047 - val_mean_absolute_error: 12.8723\n",
            "Epoch 97/100\n",
            "87/87 [==============================] - 0s 1ms/step - loss: 228.7710 - mean_absolute_error: 11.6433 - val_loss: 278.4925 - val_mean_absolute_error: 12.8702\n",
            "Epoch 98/100\n",
            "87/87 [==============================] - 0s 1ms/step - loss: 228.8760 - mean_absolute_error: 11.6192 - val_loss: 278.1539 - val_mean_absolute_error: 12.8688\n",
            "Epoch 99/100\n",
            "87/87 [==============================] - 0s 1ms/step - loss: 228.3238 - mean_absolute_error: 11.6201 - val_loss: 278.2665 - val_mean_absolute_error: 12.8482\n",
            "Epoch 100/100\n",
            "87/87 [==============================] - 0s 1ms/step - loss: 228.1405 - mean_absolute_error: 11.5983 - val_loss: 279.2152 - val_mean_absolute_error: 12.8582\n",
            "Train on 87 samples, validate on 44 samples\n",
            "Epoch 1/100\n",
            "87/87 [==============================] - 0s 3ms/step - loss: 536.4067 - mean_absolute_error: 17.9229 - val_loss: 956.9742 - val_mean_absolute_error: 24.7386\n",
            "Epoch 2/100\n",
            "87/87 [==============================] - 0s 1ms/step - loss: 503.9859 - mean_absolute_error: 17.1253 - val_loss: 908.5240 - val_mean_absolute_error: 23.7685\n",
            "Epoch 3/100\n",
            "87/87 [==============================] - 0s 1ms/step - loss: 471.3302 - mean_absolute_error: 16.2238 - val_loss: 860.3050 - val_mean_absolute_error: 22.7982\n",
            "Epoch 4/100\n",
            "87/87 [==============================] - 0s 1ms/step - loss: 436.5213 - mean_absolute_error: 15.2987 - val_loss: 807.7885 - val_mean_absolute_error: 21.8568\n",
            "Epoch 5/100\n",
            "87/87 [==============================] - 0s 1ms/step - loss: 402.6051 - mean_absolute_error: 14.4448 - val_loss: 757.8793 - val_mean_absolute_error: 21.0402\n",
            "Epoch 6/100\n",
            "87/87 [==============================] - 0s 1ms/step - loss: 370.5795 - mean_absolute_error: 13.6878 - val_loss: 709.8840 - val_mean_absolute_error: 20.1897\n",
            "Epoch 7/100\n",
            "87/87 [==============================] - 0s 1ms/step - loss: 344.8098 - mean_absolute_error: 13.0415 - val_loss: 667.6523 - val_mean_absolute_error: 19.4762\n",
            "Epoch 8/100\n",
            "87/87 [==============================] - 0s 1ms/step - loss: 318.2569 - mean_absolute_error: 12.4502 - val_loss: 626.7852 - val_mean_absolute_error: 18.8888\n",
            "Epoch 9/100\n",
            "87/87 [==============================] - 0s 1ms/step - loss: 297.1635 - mean_absolute_error: 11.9337 - val_loss: 592.9123 - val_mean_absolute_error: 18.4011\n",
            "Epoch 10/100\n",
            "87/87 [==============================] - 0s 1ms/step - loss: 280.7876 - mean_absolute_error: 11.5886 - val_loss: 566.9486 - val_mean_absolute_error: 18.0315\n",
            "Epoch 11/100\n",
            "87/87 [==============================] - 0s 1ms/step - loss: 268.1405 - mean_absolute_error: 11.3213 - val_loss: 544.5458 - val_mean_absolute_error: 17.6753\n",
            "Epoch 12/100\n",
            "87/87 [==============================] - 0s 1ms/step - loss: 257.8845 - mean_absolute_error: 11.1856 - val_loss: 526.7595 - val_mean_absolute_error: 17.3578\n",
            "Epoch 13/100\n",
            "87/87 [==============================] - 0s 1ms/step - loss: 250.2325 - mean_absolute_error: 11.1159 - val_loss: 511.6425 - val_mean_absolute_error: 17.0757\n",
            "Epoch 14/100\n",
            "87/87 [==============================] - 0s 1ms/step - loss: 244.3231 - mean_absolute_error: 11.0652 - val_loss: 500.5775 - val_mean_absolute_error: 16.8680\n",
            "Epoch 15/100\n",
            "87/87 [==============================] - 0s 1ms/step - loss: 240.3976 - mean_absolute_error: 11.0652 - val_loss: 491.5374 - val_mean_absolute_error: 16.6954\n",
            "Epoch 16/100\n",
            "87/87 [==============================] - 0s 1ms/step - loss: 236.6835 - mean_absolute_error: 11.1114 - val_loss: 484.8897 - val_mean_absolute_error: 16.5697\n",
            "Epoch 17/100\n",
            "87/87 [==============================] - 0s 1ms/step - loss: 234.0367 - mean_absolute_error: 11.1245 - val_loss: 478.7328 - val_mean_absolute_error: 16.4686\n",
            "Epoch 18/100\n",
            "87/87 [==============================] - 0s 1ms/step - loss: 231.6874 - mean_absolute_error: 11.1540 - val_loss: 473.2616 - val_mean_absolute_error: 16.3769\n",
            "Epoch 19/100\n",
            "87/87 [==============================] - 0s 1ms/step - loss: 229.4291 - mean_absolute_error: 11.1589 - val_loss: 468.1603 - val_mean_absolute_error: 16.2910\n",
            "Epoch 20/100\n",
            "87/87 [==============================] - 0s 1ms/step - loss: 227.5225 - mean_absolute_error: 11.1695 - val_loss: 464.0773 - val_mean_absolute_error: 16.2214\n",
            "Epoch 21/100\n",
            "87/87 [==============================] - 0s 1ms/step - loss: 225.5382 - mean_absolute_error: 11.2033 - val_loss: 461.6917 - val_mean_absolute_error: 16.1761\n",
            "Epoch 22/100\n",
            "87/87 [==============================] - 0s 1ms/step - loss: 224.2122 - mean_absolute_error: 11.1894 - val_loss: 457.7440 - val_mean_absolute_error: 16.1103\n",
            "Epoch 23/100\n",
            "87/87 [==============================] - 0s 1ms/step - loss: 222.5752 - mean_absolute_error: 11.1433 - val_loss: 454.7771 - val_mean_absolute_error: 16.0233\n",
            "Epoch 24/100\n",
            "87/87 [==============================] - 0s 1ms/step - loss: 221.3959 - mean_absolute_error: 11.1590 - val_loss: 451.4154 - val_mean_absolute_error: 15.9823\n",
            "Epoch 25/100\n",
            "87/87 [==============================] - 0s 1ms/step - loss: 220.0997 - mean_absolute_error: 11.1398 - val_loss: 450.0675 - val_mean_absolute_error: 15.9290\n",
            "Epoch 26/100\n",
            "87/87 [==============================] - 0s 1ms/step - loss: 219.3071 - mean_absolute_error: 11.0855 - val_loss: 448.7397 - val_mean_absolute_error: 15.8861\n",
            "Epoch 27/100\n",
            "87/87 [==============================] - 0s 1ms/step - loss: 218.4052 - mean_absolute_error: 11.0369 - val_loss: 446.1989 - val_mean_absolute_error: 15.8409\n",
            "Epoch 28/100\n",
            "87/87 [==============================] - 0s 1ms/step - loss: 216.6970 - mean_absolute_error: 11.0708 - val_loss: 443.8931 - val_mean_absolute_error: 15.7957\n",
            "Epoch 29/100\n",
            "87/87 [==============================] - 0s 1ms/step - loss: 215.7567 - mean_absolute_error: 11.0336 - val_loss: 441.5989 - val_mean_absolute_error: 15.7579\n",
            "Epoch 30/100\n",
            "87/87 [==============================] - 0s 1ms/step - loss: 214.5152 - mean_absolute_error: 11.0032 - val_loss: 437.9075 - val_mean_absolute_error: 15.6976\n",
            "Epoch 31/100\n",
            "87/87 [==============================] - 0s 1ms/step - loss: 212.9229 - mean_absolute_error: 11.0092 - val_loss: 435.4451 - val_mean_absolute_error: 15.6500\n",
            "Epoch 32/100\n",
            "87/87 [==============================] - 0s 1ms/step - loss: 212.2454 - mean_absolute_error: 11.0238 - val_loss: 433.9018 - val_mean_absolute_error: 15.6280\n",
            "Epoch 33/100\n",
            "87/87 [==============================] - 0s 1ms/step - loss: 211.1652 - mean_absolute_error: 10.9893 - val_loss: 431.9153 - val_mean_absolute_error: 15.5919\n",
            "Epoch 34/100\n",
            "87/87 [==============================] - 0s 1ms/step - loss: 209.8833 - mean_absolute_error: 11.0455 - val_loss: 430.7573 - val_mean_absolute_error: 15.5690\n",
            "Epoch 35/100\n",
            "87/87 [==============================] - 0s 1ms/step - loss: 209.7367 - mean_absolute_error: 10.9579 - val_loss: 429.1379 - val_mean_absolute_error: 15.5103\n",
            "Epoch 36/100\n",
            "87/87 [==============================] - 0s 1ms/step - loss: 208.0135 - mean_absolute_error: 10.9737 - val_loss: 427.7284 - val_mean_absolute_error: 15.4426\n",
            "Epoch 37/100\n",
            "87/87 [==============================] - 0s 1ms/step - loss: 208.5467 - mean_absolute_error: 10.8697 - val_loss: 426.3876 - val_mean_absolute_error: 15.4005\n",
            "Epoch 38/100\n",
            "87/87 [==============================] - 0s 1ms/step - loss: 207.2172 - mean_absolute_error: 10.8229 - val_loss: 424.6259 - val_mean_absolute_error: 15.3790\n",
            "Epoch 39/100\n",
            "87/87 [==============================] - 0s 1ms/step - loss: 206.3696 - mean_absolute_error: 10.8167 - val_loss: 422.4124 - val_mean_absolute_error: 15.3406\n",
            "Epoch 40/100\n",
            "87/87 [==============================] - 0s 1ms/step - loss: 206.2118 - mean_absolute_error: 10.8184 - val_loss: 421.1010 - val_mean_absolute_error: 15.2899\n",
            "Epoch 41/100\n",
            "87/87 [==============================] - 0s 1ms/step - loss: 204.8508 - mean_absolute_error: 10.7937 - val_loss: 418.9956 - val_mean_absolute_error: 15.2706\n",
            "Epoch 42/100\n",
            "87/87 [==============================] - 0s 1ms/step - loss: 203.5038 - mean_absolute_error: 10.8378 - val_loss: 417.2136 - val_mean_absolute_error: 15.2499\n",
            "Epoch 43/100\n",
            "87/87 [==============================] - 0s 1ms/step - loss: 202.6537 - mean_absolute_error: 10.7662 - val_loss: 415.3821 - val_mean_absolute_error: 15.2258\n",
            "Epoch 44/100\n",
            "87/87 [==============================] - 0s 1ms/step - loss: 201.5098 - mean_absolute_error: 10.7790 - val_loss: 414.0359 - val_mean_absolute_error: 15.2149\n",
            "Epoch 45/100\n",
            "87/87 [==============================] - 0s 1ms/step - loss: 200.7407 - mean_absolute_error: 10.7906 - val_loss: 412.3690 - val_mean_absolute_error: 15.1686\n",
            "Epoch 46/100\n",
            "87/87 [==============================] - 0s 1ms/step - loss: 199.8943 - mean_absolute_error: 10.7577 - val_loss: 411.0884 - val_mean_absolute_error: 15.1350\n",
            "Epoch 47/100\n",
            "87/87 [==============================] - 0s 1ms/step - loss: 199.8306 - mean_absolute_error: 10.6861 - val_loss: 409.5516 - val_mean_absolute_error: 15.1046\n",
            "Epoch 48/100\n",
            "87/87 [==============================] - 0s 1ms/step - loss: 198.5928 - mean_absolute_error: 10.6937 - val_loss: 408.1783 - val_mean_absolute_error: 15.0920\n",
            "Epoch 49/100\n",
            "87/87 [==============================] - 0s 1ms/step - loss: 198.0404 - mean_absolute_error: 10.6853 - val_loss: 407.5241 - val_mean_absolute_error: 15.0791\n",
            "Epoch 50/100\n",
            "87/87 [==============================] - 0s 1ms/step - loss: 197.4026 - mean_absolute_error: 10.6718 - val_loss: 406.7554 - val_mean_absolute_error: 15.0107\n",
            "Epoch 51/100\n",
            "87/87 [==============================] - 0s 1ms/step - loss: 196.9765 - mean_absolute_error: 10.5972 - val_loss: 405.0771 - val_mean_absolute_error: 14.9950\n",
            "Epoch 52/100\n",
            "87/87 [==============================] - 0s 1ms/step - loss: 195.8767 - mean_absolute_error: 10.6210 - val_loss: 403.9490 - val_mean_absolute_error: 14.9923\n",
            "Epoch 53/100\n",
            "87/87 [==============================] - 0s 1ms/step - loss: 195.2702 - mean_absolute_error: 10.6014 - val_loss: 402.9857 - val_mean_absolute_error: 14.9726\n",
            "Epoch 54/100\n",
            "87/87 [==============================] - 0s 1ms/step - loss: 194.0342 - mean_absolute_error: 10.6760 - val_loss: 402.1957 - val_mean_absolute_error: 14.9622\n",
            "Epoch 55/100\n",
            "87/87 [==============================] - 0s 1ms/step - loss: 193.6930 - mean_absolute_error: 10.6084 - val_loss: 401.9353 - val_mean_absolute_error: 14.9457\n",
            "Epoch 56/100\n",
            "87/87 [==============================] - 0s 1ms/step - loss: 193.7972 - mean_absolute_error: 10.5253 - val_loss: 401.4762 - val_mean_absolute_error: 14.9064\n",
            "Epoch 57/100\n",
            "87/87 [==============================] - 0s 1ms/step - loss: 193.3677 - mean_absolute_error: 10.4715 - val_loss: 400.3078 - val_mean_absolute_error: 14.9115\n",
            "Epoch 58/100\n",
            "87/87 [==============================] - 0s 1ms/step - loss: 191.8502 - mean_absolute_error: 10.5628 - val_loss: 399.8398 - val_mean_absolute_error: 14.9054\n",
            "Epoch 59/100\n",
            "87/87 [==============================] - 0s 1ms/step - loss: 192.3755 - mean_absolute_error: 10.4585 - val_loss: 398.8203 - val_mean_absolute_error: 14.9031\n",
            "Epoch 60/100\n",
            "87/87 [==============================] - 0s 1ms/step - loss: 191.7173 - mean_absolute_error: 10.4534 - val_loss: 397.8542 - val_mean_absolute_error: 14.8876\n",
            "Epoch 61/100\n",
            "87/87 [==============================] - 0s 1ms/step - loss: 191.0884 - mean_absolute_error: 10.4235 - val_loss: 397.0688 - val_mean_absolute_error: 14.8951\n",
            "Epoch 62/100\n",
            "87/87 [==============================] - 0s 1ms/step - loss: 190.2860 - mean_absolute_error: 10.4332 - val_loss: 395.7008 - val_mean_absolute_error: 14.8839\n",
            "Epoch 63/100\n",
            "87/87 [==============================] - 0s 1ms/step - loss: 189.0641 - mean_absolute_error: 10.4662 - val_loss: 396.4939 - val_mean_absolute_error: 14.8452\n",
            "Epoch 64/100\n",
            "87/87 [==============================] - 0s 1ms/step - loss: 189.7404 - mean_absolute_error: 10.4113 - val_loss: 395.1892 - val_mean_absolute_error: 14.8241\n",
            "Epoch 65/100\n",
            "87/87 [==============================] - 0s 1ms/step - loss: 189.3574 - mean_absolute_error: 10.3495 - val_loss: 394.5665 - val_mean_absolute_error: 14.8111\n",
            "Epoch 66/100\n",
            "87/87 [==============================] - 0s 1ms/step - loss: 188.3192 - mean_absolute_error: 10.3361 - val_loss: 394.4542 - val_mean_absolute_error: 14.8317\n",
            "Epoch 67/100\n",
            "87/87 [==============================] - 0s 1ms/step - loss: 187.4949 - mean_absolute_error: 10.3147 - val_loss: 394.4912 - val_mean_absolute_error: 14.7879\n",
            "Epoch 68/100\n",
            "87/87 [==============================] - 0s 1ms/step - loss: 188.4135 - mean_absolute_error: 10.2762 - val_loss: 393.3392 - val_mean_absolute_error: 14.7957\n",
            "Epoch 69/100\n",
            "87/87 [==============================] - 0s 1ms/step - loss: 187.4204 - mean_absolute_error: 10.3201 - val_loss: 392.0407 - val_mean_absolute_error: 14.7796\n",
            "Epoch 70/100\n",
            "87/87 [==============================] - 0s 1ms/step - loss: 186.7608 - mean_absolute_error: 10.3320 - val_loss: 391.5456 - val_mean_absolute_error: 14.7881\n",
            "Epoch 71/100\n",
            "87/87 [==============================] - 0s 1ms/step - loss: 186.5327 - mean_absolute_error: 10.2990 - val_loss: 391.7524 - val_mean_absolute_error: 14.7833\n",
            "Epoch 72/100\n",
            "87/87 [==============================] - 0s 1ms/step - loss: 185.8180 - mean_absolute_error: 10.3023 - val_loss: 391.1382 - val_mean_absolute_error: 14.7981\n",
            "Epoch 73/100\n",
            "87/87 [==============================] - 0s 1ms/step - loss: 185.6986 - mean_absolute_error: 10.2643 - val_loss: 391.0545 - val_mean_absolute_error: 14.7951\n",
            "Epoch 74/100\n",
            "87/87 [==============================] - 0s 1ms/step - loss: 185.6741 - mean_absolute_error: 10.2232 - val_loss: 390.6941 - val_mean_absolute_error: 14.7814\n",
            "Epoch 75/100\n",
            "87/87 [==============================] - 0s 1ms/step - loss: 185.2103 - mean_absolute_error: 10.1925 - val_loss: 389.6206 - val_mean_absolute_error: 14.7676\n",
            "Epoch 76/100\n",
            "87/87 [==============================] - 0s 1ms/step - loss: 184.4744 - mean_absolute_error: 10.1999 - val_loss: 390.1333 - val_mean_absolute_error: 14.7670\n",
            "Epoch 77/100\n",
            "87/87 [==============================] - 0s 1ms/step - loss: 184.9041 - mean_absolute_error: 10.1487 - val_loss: 389.1768 - val_mean_absolute_error: 14.7632\n",
            "Epoch 78/100\n",
            "87/87 [==============================] - 0s 1ms/step - loss: 183.4595 - mean_absolute_error: 10.1769 - val_loss: 387.9050 - val_mean_absolute_error: 14.7292\n",
            "Epoch 79/100\n",
            "87/87 [==============================] - 0s 1ms/step - loss: 183.5702 - mean_absolute_error: 10.1624 - val_loss: 387.0636 - val_mean_absolute_error: 14.7374\n",
            "Epoch 80/100\n",
            "87/87 [==============================] - 0s 1ms/step - loss: 182.9022 - mean_absolute_error: 10.2041 - val_loss: 386.4885 - val_mean_absolute_error: 14.7504\n",
            "Epoch 81/100\n",
            "87/87 [==============================] - 0s 1ms/step - loss: 182.2176 - mean_absolute_error: 10.2285 - val_loss: 386.2323 - val_mean_absolute_error: 14.7589\n",
            "Epoch 82/100\n",
            "87/87 [==============================] - 0s 1ms/step - loss: 182.3134 - mean_absolute_error: 10.1635 - val_loss: 386.3853 - val_mean_absolute_error: 14.7695\n",
            "Epoch 83/100\n",
            "87/87 [==============================] - 0s 1ms/step - loss: 182.3041 - mean_absolute_error: 10.1093 - val_loss: 385.8006 - val_mean_absolute_error: 14.7552\n",
            "Epoch 84/100\n",
            "87/87 [==============================] - 0s 1ms/step - loss: 181.8139 - mean_absolute_error: 10.1481 - val_loss: 386.4048 - val_mean_absolute_error: 14.7823\n",
            "Epoch 85/100\n",
            "87/87 [==============================] - 0s 1ms/step - loss: 181.3775 - mean_absolute_error: 10.1162 - val_loss: 385.4936 - val_mean_absolute_error: 14.7663\n",
            "Epoch 86/100\n",
            "87/87 [==============================] - 0s 1ms/step - loss: 180.4263 - mean_absolute_error: 10.1759 - val_loss: 384.6769 - val_mean_absolute_error: 14.7353\n",
            "Epoch 87/100\n",
            "87/87 [==============================] - 0s 1ms/step - loss: 180.2799 - mean_absolute_error: 10.1240 - val_loss: 385.0922 - val_mean_absolute_error: 14.7264\n",
            "Epoch 88/100\n",
            "87/87 [==============================] - 0s 1ms/step - loss: 180.9022 - mean_absolute_error: 10.0756 - val_loss: 384.5997 - val_mean_absolute_error: 14.7275\n",
            "Epoch 89/100\n",
            "87/87 [==============================] - 0s 1ms/step - loss: 179.7281 - mean_absolute_error: 10.1154 - val_loss: 384.5418 - val_mean_absolute_error: 14.7431\n",
            "Epoch 90/100\n",
            "87/87 [==============================] - 0s 1ms/step - loss: 179.8175 - mean_absolute_error: 10.0959 - val_loss: 384.1638 - val_mean_absolute_error: 14.7795\n",
            "Epoch 91/100\n",
            "87/87 [==============================] - 0s 1ms/step - loss: 178.9763 - mean_absolute_error: 10.1263 - val_loss: 383.4057 - val_mean_absolute_error: 14.7843\n",
            "Epoch 92/100\n",
            "87/87 [==============================] - 0s 1ms/step - loss: 178.8892 - mean_absolute_error: 10.0895 - val_loss: 382.7321 - val_mean_absolute_error: 14.7771\n",
            "Epoch 93/100\n",
            "87/87 [==============================] - 0s 1ms/step - loss: 178.1719 - mean_absolute_error: 10.0922 - val_loss: 383.2517 - val_mean_absolute_error: 14.7810\n",
            "Epoch 94/100\n",
            "87/87 [==============================] - 0s 1ms/step - loss: 178.3491 - mean_absolute_error: 10.0767 - val_loss: 383.1507 - val_mean_absolute_error: 14.7795\n",
            "Epoch 95/100\n",
            "87/87 [==============================] - 0s 1ms/step - loss: 177.8964 - mean_absolute_error: 10.0401 - val_loss: 384.0959 - val_mean_absolute_error: 14.8198\n",
            "Epoch 96/100\n",
            "87/87 [==============================] - 0s 1ms/step - loss: 177.8600 - mean_absolute_error: 10.0492 - val_loss: 384.0356 - val_mean_absolute_error: 14.8235\n",
            "Epoch 97/100\n",
            "87/87 [==============================] - 0s 1ms/step - loss: 177.2842 - mean_absolute_error: 10.0431 - val_loss: 384.0040 - val_mean_absolute_error: 14.8347\n",
            "Epoch 98/100\n",
            "87/87 [==============================] - 0s 1ms/step - loss: 176.9148 - mean_absolute_error: 10.0599 - val_loss: 382.7820 - val_mean_absolute_error: 14.8252\n",
            "Epoch 99/100\n",
            "87/87 [==============================] - 0s 1ms/step - loss: 177.4415 - mean_absolute_error: 9.9947 - val_loss: 382.6158 - val_mean_absolute_error: 14.8098\n",
            "Epoch 100/100\n",
            "87/87 [==============================] - 0s 1ms/step - loss: 176.5633 - mean_absolute_error: 9.9834 - val_loss: 382.3756 - val_mean_absolute_error: 14.8487\n",
            "Train on 88 samples, validate on 43 samples\n",
            "Epoch 1/100\n",
            "88/88 [==============================] - 0s 3ms/step - loss: 805.7515 - mean_absolute_error: 22.3717 - val_loss: 513.2234 - val_mean_absolute_error: 18.2732\n",
            "Epoch 2/100\n",
            "88/88 [==============================] - 0s 1ms/step - loss: 761.5674 - mean_absolute_error: 21.4262 - val_loss: 469.3488 - val_mean_absolute_error: 17.1726\n",
            "Epoch 3/100\n",
            "88/88 [==============================] - 0s 1ms/step - loss: 720.7907 - mean_absolute_error: 20.4942 - val_loss: 428.5202 - val_mean_absolute_error: 16.1350\n",
            "Epoch 4/100\n",
            "88/88 [==============================] - 0s 1ms/step - loss: 681.7785 - mean_absolute_error: 19.5691 - val_loss: 389.6105 - val_mean_absolute_error: 15.1349\n",
            "Epoch 5/100\n",
            "88/88 [==============================] - 0s 1ms/step - loss: 641.4117 - mean_absolute_error: 18.6746 - val_loss: 350.7667 - val_mean_absolute_error: 14.1276\n",
            "Epoch 6/100\n",
            "88/88 [==============================] - 0s 1ms/step - loss: 602.3868 - mean_absolute_error: 17.8102 - val_loss: 313.7948 - val_mean_absolute_error: 13.1676\n",
            "Epoch 7/100\n",
            "88/88 [==============================] - 0s 1ms/step - loss: 567.2420 - mean_absolute_error: 16.9898 - val_loss: 280.0171 - val_mean_absolute_error: 12.2845\n",
            "Epoch 8/100\n",
            "88/88 [==============================] - 0s 1ms/step - loss: 532.6020 - mean_absolute_error: 16.2392 - val_loss: 250.2250 - val_mean_absolute_error: 11.4666\n",
            "Epoch 9/100\n",
            "88/88 [==============================] - 0s 1ms/step - loss: 501.2242 - mean_absolute_error: 15.6082 - val_loss: 224.6462 - val_mean_absolute_error: 10.8918\n",
            "Epoch 10/100\n",
            "88/88 [==============================] - 0s 1ms/step - loss: 472.9754 - mean_absolute_error: 15.1646 - val_loss: 203.1560 - val_mean_absolute_error: 10.3906\n",
            "Epoch 11/100\n",
            "88/88 [==============================] - 0s 1ms/step - loss: 450.7962 - mean_absolute_error: 14.8030 - val_loss: 188.2622 - val_mean_absolute_error: 10.0569\n",
            "Epoch 12/100\n",
            "88/88 [==============================] - 0s 1ms/step - loss: 430.7467 - mean_absolute_error: 14.5664 - val_loss: 176.6497 - val_mean_absolute_error: 9.9445\n",
            "Epoch 13/100\n",
            "88/88 [==============================] - 0s 1ms/step - loss: 415.4521 - mean_absolute_error: 14.3377 - val_loss: 168.8051 - val_mean_absolute_error: 9.9063\n",
            "Epoch 14/100\n",
            "88/88 [==============================] - 0s 1ms/step - loss: 403.8723 - mean_absolute_error: 14.1305 - val_loss: 164.2130 - val_mean_absolute_error: 9.9663\n",
            "Epoch 15/100\n",
            "88/88 [==============================] - 0s 1ms/step - loss: 394.0757 - mean_absolute_error: 14.0935 - val_loss: 160.3196 - val_mean_absolute_error: 10.0393\n",
            "Epoch 16/100\n",
            "88/88 [==============================] - 0s 1ms/step - loss: 385.2728 - mean_absolute_error: 14.0733 - val_loss: 157.8410 - val_mean_absolute_error: 10.1003\n",
            "Epoch 17/100\n",
            "88/88 [==============================] - 0s 1ms/step - loss: 378.6115 - mean_absolute_error: 13.9939 - val_loss: 156.3612 - val_mean_absolute_error: 10.1604\n",
            "Epoch 18/100\n",
            "88/88 [==============================] - 0s 1ms/step - loss: 373.0228 - mean_absolute_error: 13.9977 - val_loss: 155.7061 - val_mean_absolute_error: 10.2193\n",
            "Epoch 19/100\n",
            "88/88 [==============================] - 0s 1ms/step - loss: 367.9286 - mean_absolute_error: 13.9814 - val_loss: 155.2505 - val_mean_absolute_error: 10.2657\n",
            "Epoch 20/100\n",
            "88/88 [==============================] - 0s 1ms/step - loss: 363.4724 - mean_absolute_error: 13.9919 - val_loss: 155.0324 - val_mean_absolute_error: 10.3320\n",
            "Epoch 21/100\n",
            "88/88 [==============================] - 0s 1ms/step - loss: 359.5651 - mean_absolute_error: 13.9234 - val_loss: 154.9006 - val_mean_absolute_error: 10.3862\n",
            "Epoch 22/100\n",
            "88/88 [==============================] - 0s 1ms/step - loss: 356.0005 - mean_absolute_error: 13.8881 - val_loss: 155.0195 - val_mean_absolute_error: 10.4658\n",
            "Epoch 23/100\n",
            "88/88 [==============================] - 0s 1ms/step - loss: 352.4004 - mean_absolute_error: 13.8721 - val_loss: 155.0216 - val_mean_absolute_error: 10.5233\n",
            "Epoch 24/100\n",
            "88/88 [==============================] - 0s 1ms/step - loss: 349.2544 - mean_absolute_error: 13.8451 - val_loss: 154.8034 - val_mean_absolute_error: 10.5569\n",
            "Epoch 25/100\n",
            "88/88 [==============================] - 0s 1ms/step - loss: 346.8238 - mean_absolute_error: 13.7596 - val_loss: 154.7559 - val_mean_absolute_error: 10.5922\n",
            "Epoch 26/100\n",
            "88/88 [==============================] - 0s 1ms/step - loss: 343.7700 - mean_absolute_error: 13.7276 - val_loss: 155.0944 - val_mean_absolute_error: 10.6513\n",
            "Epoch 27/100\n",
            "88/88 [==============================] - 0s 1ms/step - loss: 341.0771 - mean_absolute_error: 13.7216 - val_loss: 155.3930 - val_mean_absolute_error: 10.7141\n",
            "Epoch 28/100\n",
            "88/88 [==============================] - 0s 1ms/step - loss: 338.7214 - mean_absolute_error: 13.7027 - val_loss: 155.5061 - val_mean_absolute_error: 10.7540\n",
            "Epoch 29/100\n",
            "88/88 [==============================] - 0s 1ms/step - loss: 336.3808 - mean_absolute_error: 13.6425 - val_loss: 155.2429 - val_mean_absolute_error: 10.7643\n",
            "Epoch 30/100\n",
            "88/88 [==============================] - 0s 1ms/step - loss: 334.2629 - mean_absolute_error: 13.6347 - val_loss: 155.2545 - val_mean_absolute_error: 10.7982\n",
            "Epoch 31/100\n",
            "88/88 [==============================] - 0s 1ms/step - loss: 332.1927 - mean_absolute_error: 13.5646 - val_loss: 155.3919 - val_mean_absolute_error: 10.8371\n",
            "Epoch 32/100\n",
            "88/88 [==============================] - 0s 1ms/step - loss: 330.0839 - mean_absolute_error: 13.5296 - val_loss: 155.6914 - val_mean_absolute_error: 10.8791\n",
            "Epoch 33/100\n",
            "88/88 [==============================] - 0s 1ms/step - loss: 328.1401 - mean_absolute_error: 13.5193 - val_loss: 156.2100 - val_mean_absolute_error: 10.9373\n",
            "Epoch 34/100\n",
            "88/88 [==============================] - 0s 1ms/step - loss: 326.0146 - mean_absolute_error: 13.4913 - val_loss: 156.3345 - val_mean_absolute_error: 10.9708\n",
            "Epoch 35/100\n",
            "88/88 [==============================] - 0s 1ms/step - loss: 324.5709 - mean_absolute_error: 13.4729 - val_loss: 156.5952 - val_mean_absolute_error: 10.9929\n",
            "Epoch 36/100\n",
            "88/88 [==============================] - 0s 1ms/step - loss: 323.2252 - mean_absolute_error: 13.3781 - val_loss: 156.7647 - val_mean_absolute_error: 11.0211\n",
            "Epoch 37/100\n",
            "88/88 [==============================] - 0s 1ms/step - loss: 321.1034 - mean_absolute_error: 13.3921 - val_loss: 156.9751 - val_mean_absolute_error: 11.0508\n",
            "Epoch 38/100\n",
            "88/88 [==============================] - 0s 1ms/step - loss: 319.8316 - mean_absolute_error: 13.3520 - val_loss: 157.4060 - val_mean_absolute_error: 11.0828\n",
            "Epoch 39/100\n",
            "88/88 [==============================] - 0s 1ms/step - loss: 318.2689 - mean_absolute_error: 13.3020 - val_loss: 157.6190 - val_mean_absolute_error: 11.1003\n",
            "Epoch 40/100\n",
            "88/88 [==============================] - 0s 1ms/step - loss: 316.6904 - mean_absolute_error: 13.3089 - val_loss: 158.4649 - val_mean_absolute_error: 11.1480\n",
            "Epoch 41/100\n",
            "88/88 [==============================] - 0s 1ms/step - loss: 315.5491 - mean_absolute_error: 13.2657 - val_loss: 158.8602 - val_mean_absolute_error: 11.1851\n",
            "Epoch 42/100\n",
            "88/88 [==============================] - 0s 1ms/step - loss: 313.9750 - mean_absolute_error: 13.2143 - val_loss: 159.9962 - val_mean_absolute_error: 11.2531\n",
            "Epoch 43/100\n",
            "88/88 [==============================] - 0s 1ms/step - loss: 312.4343 - mean_absolute_error: 13.2416 - val_loss: 160.0933 - val_mean_absolute_error: 11.2780\n",
            "Epoch 44/100\n",
            "88/88 [==============================] - 0s 1ms/step - loss: 311.7892 - mean_absolute_error: 13.2034 - val_loss: 160.3288 - val_mean_absolute_error: 11.3019\n",
            "Epoch 45/100\n",
            "88/88 [==============================] - 0s 1ms/step - loss: 310.4618 - mean_absolute_error: 13.1950 - val_loss: 160.2308 - val_mean_absolute_error: 11.3029\n",
            "Epoch 46/100\n",
            "88/88 [==============================] - 0s 1ms/step - loss: 309.5345 - mean_absolute_error: 13.1507 - val_loss: 160.4048 - val_mean_absolute_error: 11.3018\n",
            "Epoch 47/100\n",
            "88/88 [==============================] - 0s 1ms/step - loss: 308.6741 - mean_absolute_error: 13.1405 - val_loss: 160.7287 - val_mean_absolute_error: 11.3210\n",
            "Epoch 48/100\n",
            "88/88 [==============================] - 0s 1ms/step - loss: 307.6613 - mean_absolute_error: 13.1013 - val_loss: 160.6832 - val_mean_absolute_error: 11.3158\n",
            "Epoch 49/100\n",
            "88/88 [==============================] - 0s 1ms/step - loss: 306.7534 - mean_absolute_error: 13.0458 - val_loss: 161.4568 - val_mean_absolute_error: 11.3454\n",
            "Epoch 50/100\n",
            "88/88 [==============================] - 0s 1ms/step - loss: 305.5086 - mean_absolute_error: 13.0653 - val_loss: 161.4895 - val_mean_absolute_error: 11.3572\n",
            "Epoch 51/100\n",
            "88/88 [==============================] - 0s 1ms/step - loss: 305.3843 - mean_absolute_error: 13.0183 - val_loss: 161.5130 - val_mean_absolute_error: 11.3558\n",
            "Epoch 52/100\n",
            "88/88 [==============================] - 0s 1ms/step - loss: 304.4842 - mean_absolute_error: 13.0085 - val_loss: 161.9517 - val_mean_absolute_error: 11.3692\n",
            "Epoch 53/100\n",
            "88/88 [==============================] - 0s 1ms/step - loss: 303.6848 - mean_absolute_error: 12.9831 - val_loss: 161.9046 - val_mean_absolute_error: 11.3639\n",
            "Epoch 54/100\n",
            "88/88 [==============================] - 0s 1ms/step - loss: 303.3756 - mean_absolute_error: 12.9186 - val_loss: 161.9779 - val_mean_absolute_error: 11.3585\n",
            "Epoch 55/100\n",
            "88/88 [==============================] - 0s 1ms/step - loss: 303.2962 - mean_absolute_error: 12.8861 - val_loss: 162.1317 - val_mean_absolute_error: 11.3576\n",
            "Epoch 56/100\n",
            "88/88 [==============================] - 0s 1ms/step - loss: 301.8766 - mean_absolute_error: 12.8889 - val_loss: 162.8792 - val_mean_absolute_error: 11.3951\n",
            "Epoch 57/100\n",
            "88/88 [==============================] - 0s 1ms/step - loss: 301.3221 - mean_absolute_error: 12.8973 - val_loss: 163.1064 - val_mean_absolute_error: 11.4022\n",
            "Epoch 58/100\n",
            "88/88 [==============================] - 0s 1ms/step - loss: 300.6767 - mean_absolute_error: 12.8681 - val_loss: 163.6092 - val_mean_absolute_error: 11.4006\n",
            "Epoch 59/100\n",
            "88/88 [==============================] - 0s 1ms/step - loss: 300.3074 - mean_absolute_error: 12.8482 - val_loss: 163.9701 - val_mean_absolute_error: 11.4362\n",
            "Epoch 60/100\n",
            "88/88 [==============================] - 0s 1ms/step - loss: 299.5266 - mean_absolute_error: 12.8480 - val_loss: 164.6484 - val_mean_absolute_error: 11.4585\n",
            "Epoch 61/100\n",
            "88/88 [==============================] - 0s 1ms/step - loss: 298.9644 - mean_absolute_error: 12.8423 - val_loss: 165.4218 - val_mean_absolute_error: 11.4692\n",
            "Epoch 62/100\n",
            "88/88 [==============================] - 0s 1ms/step - loss: 298.1624 - mean_absolute_error: 12.8340 - val_loss: 165.9950 - val_mean_absolute_error: 11.4857\n",
            "Epoch 63/100\n",
            "88/88 [==============================] - 0s 1ms/step - loss: 297.4271 - mean_absolute_error: 12.8335 - val_loss: 166.5449 - val_mean_absolute_error: 11.5356\n",
            "Epoch 64/100\n",
            "88/88 [==============================] - 0s 1ms/step - loss: 297.4723 - mean_absolute_error: 12.7818 - val_loss: 166.6321 - val_mean_absolute_error: 11.5338\n",
            "Epoch 65/100\n",
            "88/88 [==============================] - 0s 1ms/step - loss: 296.8679 - mean_absolute_error: 12.7694 - val_loss: 167.0982 - val_mean_absolute_error: 11.5376\n",
            "Epoch 66/100\n",
            "88/88 [==============================] - 0s 1ms/step - loss: 296.2311 - mean_absolute_error: 12.7772 - val_loss: 167.4375 - val_mean_absolute_error: 11.5587\n",
            "Epoch 67/100\n",
            "88/88 [==============================] - 0s 1ms/step - loss: 295.4241 - mean_absolute_error: 12.7976 - val_loss: 167.9009 - val_mean_absolute_error: 11.5391\n",
            "Epoch 68/100\n",
            "88/88 [==============================] - 0s 1ms/step - loss: 295.0537 - mean_absolute_error: 12.7899 - val_loss: 167.9487 - val_mean_absolute_error: 11.5436\n",
            "Epoch 69/100\n",
            "88/88 [==============================] - 0s 1ms/step - loss: 295.0436 - mean_absolute_error: 12.7407 - val_loss: 168.8534 - val_mean_absolute_error: 11.5714\n",
            "Epoch 70/100\n",
            "88/88 [==============================] - 0s 1ms/step - loss: 294.4229 - mean_absolute_error: 12.7571 - val_loss: 169.3935 - val_mean_absolute_error: 11.5822\n",
            "Epoch 71/100\n",
            "88/88 [==============================] - 0s 1ms/step - loss: 293.9630 - mean_absolute_error: 12.7607 - val_loss: 169.3335 - val_mean_absolute_error: 11.5842\n",
            "Epoch 72/100\n",
            "88/88 [==============================] - 0s 1ms/step - loss: 294.0186 - mean_absolute_error: 12.7077 - val_loss: 169.7328 - val_mean_absolute_error: 11.5973\n",
            "Epoch 73/100\n",
            "88/88 [==============================] - 0s 1ms/step - loss: 293.4869 - mean_absolute_error: 12.7289 - val_loss: 170.1820 - val_mean_absolute_error: 11.6081\n",
            "Epoch 74/100\n",
            "88/88 [==============================] - 0s 1ms/step - loss: 293.3288 - mean_absolute_error: 12.6946 - val_loss: 170.4760 - val_mean_absolute_error: 11.6246\n",
            "Epoch 75/100\n",
            "88/88 [==============================] - 0s 1ms/step - loss: 292.5312 - mean_absolute_error: 12.7392 - val_loss: 170.8950 - val_mean_absolute_error: 11.6372\n",
            "Epoch 76/100\n",
            "88/88 [==============================] - 0s 1ms/step - loss: 292.1022 - mean_absolute_error: 12.7129 - val_loss: 171.1261 - val_mean_absolute_error: 11.6392\n",
            "Epoch 77/100\n",
            "88/88 [==============================] - 0s 1ms/step - loss: 292.3611 - mean_absolute_error: 12.6900 - val_loss: 171.0065 - val_mean_absolute_error: 11.6406\n",
            "Epoch 78/100\n",
            "88/88 [==============================] - 0s 1ms/step - loss: 292.0195 - mean_absolute_error: 12.6833 - val_loss: 171.2826 - val_mean_absolute_error: 11.6515\n",
            "Epoch 79/100\n",
            "88/88 [==============================] - 0s 1ms/step - loss: 291.6003 - mean_absolute_error: 12.7012 - val_loss: 171.8808 - val_mean_absolute_error: 11.6713\n",
            "Epoch 80/100\n",
            "88/88 [==============================] - 0s 1ms/step - loss: 291.4507 - mean_absolute_error: 12.6941 - val_loss: 172.1146 - val_mean_absolute_error: 11.6779\n",
            "Epoch 81/100\n",
            "88/88 [==============================] - 0s 1ms/step - loss: 291.2854 - mean_absolute_error: 12.6781 - val_loss: 172.1892 - val_mean_absolute_error: 11.6758\n",
            "Epoch 82/100\n",
            "88/88 [==============================] - 0s 1ms/step - loss: 290.6560 - mean_absolute_error: 12.6998 - val_loss: 172.4947 - val_mean_absolute_error: 11.6806\n",
            "Epoch 83/100\n",
            "88/88 [==============================] - 0s 1ms/step - loss: 290.5383 - mean_absolute_error: 12.6634 - val_loss: 172.6817 - val_mean_absolute_error: 11.6977\n",
            "Epoch 84/100\n",
            "88/88 [==============================] - 0s 1ms/step - loss: 290.1599 - mean_absolute_error: 12.6950 - val_loss: 173.3676 - val_mean_absolute_error: 11.7214\n",
            "Epoch 85/100\n",
            "88/88 [==============================] - 0s 1ms/step - loss: 290.0215 - mean_absolute_error: 12.7133 - val_loss: 173.2596 - val_mean_absolute_error: 11.7170\n",
            "Epoch 86/100\n",
            "88/88 [==============================] - 0s 1ms/step - loss: 289.5098 - mean_absolute_error: 12.6936 - val_loss: 173.4079 - val_mean_absolute_error: 11.7038\n",
            "Epoch 87/100\n",
            "88/88 [==============================] - 0s 1ms/step - loss: 289.8027 - mean_absolute_error: 12.6751 - val_loss: 173.3382 - val_mean_absolute_error: 11.6944\n",
            "Epoch 88/100\n",
            "88/88 [==============================] - 0s 1ms/step - loss: 289.6812 - mean_absolute_error: 12.6387 - val_loss: 173.8796 - val_mean_absolute_error: 11.7106\n",
            "Epoch 89/100\n",
            "88/88 [==============================] - 0s 1ms/step - loss: 289.3691 - mean_absolute_error: 12.6248 - val_loss: 173.8900 - val_mean_absolute_error: 11.7173\n",
            "Epoch 90/100\n",
            "88/88 [==============================] - 0s 1ms/step - loss: 289.1571 - mean_absolute_error: 12.6597 - val_loss: 173.2939 - val_mean_absolute_error: 11.7051\n",
            "Epoch 91/100\n",
            "88/88 [==============================] - 0s 1ms/step - loss: 288.2528 - mean_absolute_error: 12.7006 - val_loss: 173.7036 - val_mean_absolute_error: 11.7051\n",
            "Epoch 92/100\n",
            "88/88 [==============================] - 0s 1ms/step - loss: 288.8146 - mean_absolute_error: 12.6493 - val_loss: 173.9093 - val_mean_absolute_error: 11.7105\n",
            "Epoch 93/100\n",
            "88/88 [==============================] - 0s 1ms/step - loss: 288.6269 - mean_absolute_error: 12.6043 - val_loss: 173.9452 - val_mean_absolute_error: 11.7183\n",
            "Epoch 94/100\n",
            "88/88 [==============================] - 0s 1ms/step - loss: 288.0153 - mean_absolute_error: 12.6373 - val_loss: 174.3977 - val_mean_absolute_error: 11.7368\n",
            "Epoch 95/100\n",
            "88/88 [==============================] - 0s 1ms/step - loss: 287.9154 - mean_absolute_error: 12.6432 - val_loss: 174.8129 - val_mean_absolute_error: 11.7483\n",
            "Epoch 96/100\n",
            "88/88 [==============================] - 0s 1ms/step - loss: 287.3522 - mean_absolute_error: 12.6552 - val_loss: 175.0176 - val_mean_absolute_error: 11.7507\n",
            "Epoch 97/100\n",
            "88/88 [==============================] - 0s 1ms/step - loss: 287.0807 - mean_absolute_error: 12.6354 - val_loss: 175.4657 - val_mean_absolute_error: 11.7512\n",
            "Epoch 98/100\n",
            "88/88 [==============================] - 0s 1ms/step - loss: 286.3230 - mean_absolute_error: 12.6999 - val_loss: 175.2349 - val_mean_absolute_error: 11.7310\n",
            "Epoch 99/100\n",
            "88/88 [==============================] - 0s 1ms/step - loss: 286.8212 - mean_absolute_error: 12.6461 - val_loss: 175.4712 - val_mean_absolute_error: 11.7396\n",
            "Epoch 100/100\n",
            "88/88 [==============================] - 0s 1ms/step - loss: 286.5470 - mean_absolute_error: 12.6682 - val_loss: 175.5133 - val_mean_absolute_error: 11.7447\n"
          ],
          "name": "stdout"
        }
      ]
    },
    {
      "cell_type": "code",
      "metadata": {
        "colab_type": "code",
        "id": "O47XlVVu1v0p",
        "colab": {}
      },
      "source": [
        "history_dict = history.history"
      ],
      "execution_count": 0,
      "outputs": []
    },
    {
      "cell_type": "code",
      "metadata": {
        "colab_type": "code",
        "outputId": "379b244b-b6f9-4dd8-a728-37a002740059",
        "id": "_yX-614B1v0v",
        "colab": {
          "base_uri": "https://localhost:8080/",
          "height": 35
        }
      },
      "source": [
        "history_dict.keys()"
      ],
      "execution_count": 59,
      "outputs": [
        {
          "output_type": "execute_result",
          "data": {
            "text/plain": [
              "dict_keys(['val_loss', 'val_mean_absolute_error', 'loss', 'mean_absolute_error'])"
            ]
          },
          "metadata": {
            "tags": []
          },
          "execution_count": 59
        }
      ]
    },
    {
      "cell_type": "code",
      "metadata": {
        "colab_type": "code",
        "id": "UfrO4lQt1v01",
        "colab": {}
      },
      "source": [
        "average_mae_val_history = [np.mean([x[i] for x in all_mae_val_histories]) for i in range(num_epochs)]\n",
        "average_mae_history = [np.mean([x[i] for x in all_mae_histories]) for i in range(num_epochs)]\n",
        "average_loss_val_history = [np.mean([x[i] for x in all_loss_val_histories]) for i in range(num_epochs)]\n",
        "average_loss_history = [np.mean([x[i] for x in all_loss_histories]) for i in range(num_epochs)]"
      ],
      "execution_count": 0,
      "outputs": []
    },
    {
      "cell_type": "markdown",
      "metadata": {
        "colab_type": "text",
        "id": "ZjNr6ihN66sE"
      },
      "source": [
        "###Plotting training and validation mae"
      ]
    },
    {
      "cell_type": "code",
      "metadata": {
        "colab_type": "code",
        "outputId": "9339dc90-beea-4475-f607-a0c465fadc83",
        "id": "TYyhlvJ_66sS",
        "colab": {
          "base_uri": "https://localhost:8080/",
          "height": 279
        }
      },
      "source": [
        "import matplotlib.pyplot as plt\n",
        "plt.plot(range(1, len(average_mae_val_history) + 1), average_mae_val_history, 'r', label='Validation mae')\n",
        "plt.plot(range(1, len(average_mae_history) + 1), average_mae_history, 'b', label='Training mae')\n",
        "plt.xlabel('Epochs')\n",
        "plt.ylabel('Validation MAE')\n",
        "plt.legend()\n",
        "plt.show()\n"
      ],
      "execution_count": 61,
      "outputs": [
        {
          "output_type": "display_data",
          "data": {
            "image/png": "[encoded data removed]",
            "text/plain": [
              "<Figure size 432x288 with 1 Axes>"
            ]
          },
          "metadata": {
            "tags": []
          }
        }
      ]
    },
    {
      "cell_type": "markdown",
      "metadata": {
        "colab_type": "text",
        "id": "Bc-6-SbG6_lk"
      },
      "source": [
        "#Plotting training and validation loss"
      ]
    },
    {
      "cell_type": "code",
      "metadata": {
        "colab_type": "code",
        "outputId": "744be2df-b9dc-48f6-edba-2069d6265cc2",
        "id": "b51mcBpA6_lt",
        "colab": {
          "base_uri": "https://localhost:8080/",
          "height": 279
        }
      },
      "source": [
        "import matplotlib.pyplot as plt\n",
        "plt.plot(range(1, len(average_loss_val_history) + 1), average_loss_val_history, 'r', label='Validation loss')\n",
        "plt.plot(range(1, len(average_loss_history) + 1), average_loss_history, 'b', label='Training loss')\n",
        "plt.xlabel('Epochs')\n",
        "plt.ylabel('Validation LOSS')\n",
        "plt.legend()\n",
        "plt.show()"
      ],
      "execution_count": 62,
      "outputs": [
        {
          "output_type": "display_data",
          "data": {
            "image/png": "[encoded data removed]",
            "text/plain": [
              "<Figure size 432x288 with 1 Axes>"
            ]
          },
          "metadata": {
            "tags": []
          }
        }
      ]
    }
  ]
}