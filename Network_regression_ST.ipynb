{
  "nbformat": 4,
  "nbformat_minor": 0,
  "metadata": {
    "colab": {
      "name": "Network_regression_ST.ipynb",
      "provenance": [],
      "include_colab_link": true
    },
    "kernelspec": {
      "name": "python3",
      "display_name": "Python 3"
    }
  },
  "cells": [
    {
      "cell_type": "markdown",
      "metadata": {
        "id": "view-in-github",
        "colab_type": "text"
      },
      "source": [
        "<a href=\"https://colab.research.google.com/github/leonardoub/SCRIPT_PALERMO/blob/master/Network_regression_ST.ipynb\" target=\"_parent\"><img src=\"https://colab.research.google.com/assets/colab-badge.svg\" alt=\"Open In Colab\"/></a>"
      ]
    },
    {
      "cell_type": "code",
      "metadata": {
        "id": "FyIMXJeb7C1z",
        "colab_type": "code",
        "colab": {}
      },
      "source": [
        "import pandas as pd\n",
        "import numpy as np\n",
        "import matplotlib.pyplot as plt\n",
        "import scipy"
      ],
      "execution_count": 0,
      "outputs": []
    },
    {
      "cell_type": "markdown",
      "metadata": {
        "id": "_DME-inQ4ke_",
        "colab_type": "text"
      },
      "source": [
        "#Load data"
      ]
    },
    {
      "cell_type": "code",
      "metadata": {
        "id": "7Hq45TSf3WcR",
        "colab_type": "code",
        "outputId": "b42b4b84-d1b4-4eca-fcf1-c6510f361d90",
        "colab": {
          "base_uri": "https://localhost:8080/",
          "height": 52
        }
      },
      "source": [
        "#load data from Drive\n",
        "from google.colab import drive\n",
        "drive.mount('/gdrive')\n",
        "%cd /gdrive"
      ],
      "execution_count": 0,
      "outputs": [
        {
          "output_type": "stream",
          "text": [
            "Drive already mounted at /gdrive; to attempt to forcibly remount, call drive.mount(\"/gdrive\", force_remount=True).\n",
            "/gdrive\n"
          ],
          "name": "stdout"
        }
      ]
    },
    {
      "cell_type": "code",
      "metadata": {
        "id": "UCkUXesZhMzg",
        "colab_type": "code",
        "colab": {}
      },
      "source": [
        "train_dataset_path = '/gdrive/My Drive/AIM_PA/database_training2.csv'\n",
        "test_dataset_path = '/gdrive/My Drive/AIM_PA/database_nostro_without_nan.csv'"
      ],
      "execution_count": 0,
      "outputs": []
    },
    {
      "cell_type": "code",
      "metadata": {
        "id": "TczPxOpEhTXw",
        "colab_type": "code",
        "colab": {}
      },
      "source": [
        "df_train = pd.read_csv(train_dataset_path)\n",
        "df_test = pd.read_csv(test_dataset_path)"
      ],
      "execution_count": 0,
      "outputs": []
    },
    {
      "cell_type": "code",
      "metadata": {
        "id": "9I5MNxeW3j2G",
        "colab_type": "code",
        "colab": {}
      },
      "source": [
        "df_train.rename(columns={'Survival.time (months)':'Surv_time_months'}, inplace=True)"
      ],
      "execution_count": 0,
      "outputs": []
    },
    {
      "cell_type": "code",
      "metadata": {
        "id": "TLxDyFPo3sU9",
        "colab_type": "code",
        "colab": {}
      },
      "source": [
        "df_test.rename(columns={'Survival.time (months)':'Surv_time_months'}, inplace=True)"
      ],
      "execution_count": 0,
      "outputs": []
    },
    {
      "cell_type": "code",
      "metadata": {
        "id": "oXU_B2k03uYa",
        "colab_type": "code",
        "colab": {}
      },
      "source": [
        "df_train.rename(columns={'Overall.Stage':'Overall_Stage'}, inplace=True)\n",
        "df_test.rename(columns={'Overall.Stage':'Overall_Stage'}, inplace=True)"
      ],
      "execution_count": 0,
      "outputs": []
    },
    {
      "cell_type": "code",
      "metadata": {
        "id": "T1YCrOMP3_4q",
        "colab_type": "code",
        "colab": {}
      },
      "source": [
        "train_data = df_train.drop(['Histology', 'Surv_time_months', 'OS', 'deadstatus.event','Overall_Stage'], axis=1)"
      ],
      "execution_count": 0,
      "outputs": []
    },
    {
      "cell_type": "code",
      "metadata": {
        "id": "BWj1mwjV4Mzo",
        "colab_type": "code",
        "colab": {}
      },
      "source": [
        "test_data = df_test.drop(['Histology', 'Surv_time_months', 'OS', 'deadstatus.event','Overall_Stage'], axis=1)"
      ],
      "execution_count": 0,
      "outputs": []
    },
    {
      "cell_type": "code",
      "metadata": {
        "id": "dKdS4Low4PHh",
        "colab_type": "code",
        "colab": {}
      },
      "source": [
        "train_targets = df_train.Surv_time_months"
      ],
      "execution_count": 0,
      "outputs": []
    },
    {
      "cell_type": "code",
      "metadata": {
        "id": "K6EsAdEt4RNP",
        "colab_type": "code",
        "colab": {}
      },
      "source": [
        "test_targets = df_test.Surv_time_months"
      ],
      "execution_count": 0,
      "outputs": []
    },
    {
      "cell_type": "markdown",
      "metadata": {
        "id": "dtPx7PMDnXM3",
        "colab_type": "text"
      },
      "source": [
        "#Z score dei dati"
      ]
    },
    {
      "cell_type": "code",
      "metadata": {
        "id": "XK4Qji2EnVV4",
        "colab_type": "code",
        "colab": {}
      },
      "source": [
        "mean = train_data.mean(axis=0)\n",
        "train_data_stand = train_data - mean\n",
        "std = train_data.std(axis=0)\n",
        "train_data_stand /= std"
      ],
      "execution_count": 0,
      "outputs": []
    },
    {
      "cell_type": "code",
      "metadata": {
        "id": "YOVOoNOvm0Yx",
        "colab_type": "code",
        "colab": {}
      },
      "source": [
        "test_data_stand = test_data - mean\n",
        "test_data_stand /= std"
      ],
      "execution_count": 0,
      "outputs": []
    },
    {
      "cell_type": "markdown",
      "metadata": {
        "id": "Mn0tkOGc3LKN",
        "colab_type": "text"
      },
      "source": [
        "#PCA"
      ]
    },
    {
      "cell_type": "code",
      "metadata": {
        "id": "oS76u6iu3Seg",
        "colab_type": "code",
        "colab": {}
      },
      "source": [
        "from sklearn.decomposition import PCA"
      ],
      "execution_count": 0,
      "outputs": []
    },
    {
      "cell_type": "code",
      "metadata": {
        "id": "KCjC4zqJ3bui",
        "colab_type": "code",
        "colab": {}
      },
      "source": [
        "pca = PCA(n_components=0.9, svd_solver='full')"
      ],
      "execution_count": 0,
      "outputs": []
    },
    {
      "cell_type": "code",
      "metadata": {
        "id": "dLUCf9qX4p_e",
        "colab_type": "code",
        "outputId": "b3902c91-947d-4b9b-89fe-546ef1d6ac3f",
        "colab": {
          "base_uri": "https://localhost:8080/",
          "height": 52
        }
      },
      "source": [
        "pca.fit(train_data_stand)"
      ],
      "execution_count": 0,
      "outputs": [
        {
          "output_type": "execute_result",
          "data": {
            "text/plain": [
              "PCA(copy=True, iterated_power='auto', n_components=0.9, random_state=None,\n",
              "    svd_solver='full', tol=0.0, whiten=False)"
            ]
          },
          "metadata": {
            "tags": []
          },
          "execution_count": 275
        }
      ]
    },
    {
      "cell_type": "code",
      "metadata": {
        "id": "QfyaKgNZ44o3",
        "colab_type": "code",
        "colab": {}
      },
      "source": [
        "train_data_stand_pca = pca.transform(train_data_stand)\n",
        "test_data_stand_pca = pca.transform(test_data_stand)"
      ],
      "execution_count": 0,
      "outputs": []
    },
    {
      "cell_type": "code",
      "metadata": {
        "id": "Uz9C4nl05b_g",
        "colab_type": "code",
        "outputId": "243cb22a-00a6-44a2-be70-8ca48ad59cbf",
        "colab": {
          "base_uri": "https://localhost:8080/",
          "height": 34
        }
      },
      "source": [
        "train_data_stand_pca.shape"
      ],
      "execution_count": 0,
      "outputs": [
        {
          "output_type": "execute_result",
          "data": {
            "text/plain": [
              "(131, 9)"
            ]
          },
          "metadata": {
            "tags": []
          },
          "execution_count": 277
        }
      ]
    },
    {
      "cell_type": "markdown",
      "metadata": {
        "id": "8wSKvSu4s5ip",
        "colab_type": "text"
      },
      "source": [
        "#Building Network"
      ]
    },
    {
      "cell_type": "code",
      "metadata": {
        "id": "1tX_y6KKs3pM",
        "colab_type": "code",
        "colab": {}
      },
      "source": [
        "from keras import models"
      ],
      "execution_count": 0,
      "outputs": []
    },
    {
      "cell_type": "code",
      "metadata": {
        "id": "ShwM6YMqsxxJ",
        "colab_type": "code",
        "colab": {}
      },
      "source": [
        "from keras import layers"
      ],
      "execution_count": 0,
      "outputs": []
    },
    {
      "cell_type": "code",
      "metadata": {
        "id": "7OAEgN31tHVV",
        "colab_type": "code",
        "colab": {}
      },
      "source": [
        "def build_model():\n",
        "  model = models.Sequential()\n",
        "  model.add(layers.Dense(5, activation='relu', input_shape=(9,)))\n",
        "  model.add(layers.Dense(1))\n",
        "  model.compile(optimizer='rmsprop', loss='mse', metrics=['mae'])\n",
        "  return model"
      ],
      "execution_count": 0,
      "outputs": []
    },
    {
      "cell_type": "markdown",
      "metadata": {
        "id": "QL7aYuEc_I-q",
        "colab_type": "text"
      },
      "source": [
        "#K-Fold"
      ]
    },
    {
      "cell_type": "code",
      "metadata": {
        "id": "FYsyGVcJ_Ir8",
        "colab_type": "code",
        "colab": {}
      },
      "source": [
        "from sklearn.model_selection import KFold"
      ],
      "execution_count": 0,
      "outputs": []
    },
    {
      "cell_type": "code",
      "metadata": {
        "id": "DXE1vJIW_bbm",
        "colab_type": "code",
        "outputId": "23544011-bb47-46b4-8425-d463abe64e4c",
        "colab": {
          "base_uri": "https://localhost:8080/",
          "height": 34
        }
      },
      "source": [
        "kf = KFold(n_splits=3, shuffle=True, random_state=1)\n",
        "kf.get_n_splits(train_data_stand_pca, train_targets)"
      ],
      "execution_count": 0,
      "outputs": [
        {
          "output_type": "execute_result",
          "data": {
            "text/plain": [
              "3"
            ]
          },
          "metadata": {
            "tags": []
          },
          "execution_count": 282
        }
      ]
    },
    {
      "cell_type": "code",
      "metadata": {
        "id": "Me-XQzPyD1gi",
        "colab_type": "code",
        "outputId": "14600ba4-193d-45a0-f2ec-07ebbf0f6041",
        "colab": {
          "base_uri": "https://localhost:8080/",
          "height": 382
        }
      },
      "source": [
        "for train_index, test_index in kf.split(train_data_stand_pca, train_targets):\n",
        "    print(\"TRAIN:\", train_index, \"TEST:\", test_index)"
      ],
      "execution_count": 0,
      "outputs": [
        {
          "output_type": "stream",
          "text": [
            "TRAIN: [  0   1   3   6   7   8   9  10  11  13  14  15  16  18  19  20  21  22\n",
            "  23  24  25  26  27  28  29  30  32  34  36  37  38  39  41  43  47  49\n",
            "  50  52  57  60  61  63  64  65  67  68  69  70  71  72  74  76  77  78\n",
            "  79  81  83  84  86  87  88  90  92  94  95  96  99 100 101 103 105 106\n",
            " 107 108 109 112 113 115 117 119 120 122 123 125 127 129 130] TEST: [  2   4   5  12  17  31  33  35  40  42  44  45  46  48  51  53  54  55\n",
            "  56  58  59  62  66  73  75  80  82  85  89  91  93  97  98 102 104 110\n",
            " 111 114 116 118 121 124 126 128]\n",
            "TRAIN: [  0   1   2   4   5   6   7   8   9  11  12  13  14  16  17  18  20  22\n",
            "  25  28  29  31  33  35  37  40  42  44  45  46  48  50  51  53  54  55\n",
            "  56  57  58  59  60  61  62  63  64  66  68  71  72  73  75  76  79  80\n",
            "  81  82  84  85  86  87  88  89  91  93  94  96  97  98 101 102 104 105\n",
            " 106 107 109 110 111 114 116 117 118 119 121 124 125 126 128] TEST: [  3  10  15  19  21  23  24  26  27  30  32  34  36  38  39  41  43  47\n",
            "  49  52  65  67  69  70  74  77  78  83  90  92  95  99 100 103 108 112\n",
            " 113 115 120 122 123 127 129 130]\n",
            "TRAIN: [  2   3   4   5  10  12  15  17  19  21  23  24  26  27  30  31  32  33\n",
            "  34  35  36  38  39  40  41  42  43  44  45  46  47  48  49  51  52  53\n",
            "  54  55  56  58  59  62  65  66  67  69  70  73  74  75  77  78  80  82\n",
            "  83  85  89  90  91  92  93  95  97  98  99 100 102 103 104 108 110 111\n",
            " 112 113 114 115 116 118 120 121 122 123 124 126 127 128 129 130] TEST: [  0   1   6   7   8   9  11  13  14  16  18  20  22  25  28  29  37  50\n",
            "  57  60  61  63  64  68  71  72  76  79  81  84  86  87  88  94  96 101\n",
            " 105 106 107 109 117 119 125]\n"
          ],
          "name": "stdout"
        }
      ]
    },
    {
      "cell_type": "markdown",
      "metadata": {
        "id": "zf2aaDwz75lc",
        "colab_type": "text"
      },
      "source": [
        ""
      ]
    },
    {
      "cell_type": "code",
      "metadata": {
        "id": "QNHd1cgxCVmE",
        "colab_type": "code",
        "outputId": "fa75f09f-8951-40e2-97da-4ee96da237a8",
        "colab": {
          "base_uri": "https://localhost:8080/",
          "height": 1000
        }
      },
      "source": [
        "num_epochs = 100\n",
        "all_mae_histories = []\n",
        "all_mae_val_histories = []\n",
        "all_loss_histories = []\n",
        "all_loss_val_histories = []\n",
        "\n",
        "for train_index, val_index in kf.split(train_data_stand_pca, train_targets):\n",
        "  partial_train_data = np.array([train_data_stand_pca[i] for i in train_index])\n",
        "  partial_train_targets = np.array([train_targets[i] for i in train_index])\n",
        "  \n",
        "  val_data = np.array([train_data_stand_pca[i] for i in val_index])\n",
        "  val_targets = np.array([train_targets[i] for i in val_index])\n",
        "\n",
        "  model = build_model()\n",
        "  history = model.fit(partial_train_data, partial_train_targets, validation_data=(val_data, val_targets), \n",
        "                      epochs= num_epochs, batch_size=1)\n",
        "  \n",
        "  mae_history = history.history['mean_absolute_error']\n",
        "  all_mae_histories.append(mae_val_history)\n",
        "\n",
        "  mae_val_history = history.history['val_mean_absolute_error']\n",
        "  all_mae_val_histories.append(mae_val_history)\n",
        "\n",
        "  loss_history = history.history['loss']\n",
        "  all_loss_histories.append(loss_history)\n",
        "\n",
        "  loss_val_history = history.history['val_loss']\n",
        "  all_loss_val_histories.append(loss_val_history)\n"
      ],
      "execution_count": 0,
      "outputs": [
        {
          "output_type": "stream",
          "text": [
            "Train on 87 samples, validate on 44 samples\n",
            "Epoch 1/100\n",
            "87/87 [==============================] - 2s 18ms/step - loss: 818.7472 - mean_absolute_error: 22.3612 - val_loss: 535.5238 - val_mean_absolute_error: 17.0611\n",
            "Epoch 2/100\n",
            "87/87 [==============================] - 0s 1ms/step - loss: 782.9275 - mean_absolute_error: 21.7816 - val_loss: 517.1099 - val_mean_absolute_error: 16.6151\n",
            "Epoch 3/100\n",
            "87/87 [==============================] - 0s 2ms/step - loss: 750.2949 - mean_absolute_error: 21.2044 - val_loss: 499.4825 - val_mean_absolute_error: 16.1766\n",
            "Epoch 4/100\n",
            "87/87 [==============================] - 0s 1ms/step - loss: 719.7357 - mean_absolute_error: 20.6690 - val_loss: 482.6389 - val_mean_absolute_error: 15.7378\n",
            "Epoch 5/100\n",
            "87/87 [==============================] - 0s 1ms/step - loss: 688.6146 - mean_absolute_error: 20.1393 - val_loss: 466.6482 - val_mean_absolute_error: 15.3156\n",
            "Epoch 6/100\n",
            "87/87 [==============================] - 0s 1ms/step - loss: 660.9132 - mean_absolute_error: 19.6619 - val_loss: 451.6395 - val_mean_absolute_error: 14.9085\n",
            "Epoch 7/100\n",
            "87/87 [==============================] - 0s 2ms/step - loss: 634.4080 - mean_absolute_error: 19.1814 - val_loss: 437.2529 - val_mean_absolute_error: 14.5266\n",
            "Epoch 8/100\n",
            "87/87 [==============================] - 0s 1ms/step - loss: 608.8963 - mean_absolute_error: 18.7258 - val_loss: 422.8041 - val_mean_absolute_error: 14.1465\n",
            "Epoch 9/100\n",
            "87/87 [==============================] - 0s 1ms/step - loss: 585.9660 - mean_absolute_error: 18.2668 - val_loss: 410.2292 - val_mean_absolute_error: 13.8039\n",
            "Epoch 10/100\n",
            "87/87 [==============================] - 0s 1ms/step - loss: 564.5877 - mean_absolute_error: 17.8559 - val_loss: 398.8281 - val_mean_absolute_error: 13.5183\n",
            "Epoch 11/100\n",
            "87/87 [==============================] - 0s 1ms/step - loss: 545.2748 - mean_absolute_error: 17.4354 - val_loss: 387.8032 - val_mean_absolute_error: 13.2389\n",
            "Epoch 12/100\n",
            "87/87 [==============================] - 0s 2ms/step - loss: 525.9926 - mean_absolute_error: 17.0365 - val_loss: 377.3041 - val_mean_absolute_error: 12.9928\n",
            "Epoch 13/100\n",
            "87/87 [==============================] - 0s 1ms/step - loss: 508.0321 - mean_absolute_error: 16.6927 - val_loss: 367.6373 - val_mean_absolute_error: 12.7564\n",
            "Epoch 14/100\n",
            "87/87 [==============================] - 0s 1ms/step - loss: 488.8236 - mean_absolute_error: 16.3238 - val_loss: 357.7025 - val_mean_absolute_error: 12.5010\n",
            "Epoch 15/100\n",
            "87/87 [==============================] - 0s 1ms/step - loss: 471.6980 - mean_absolute_error: 16.0030 - val_loss: 348.6738 - val_mean_absolute_error: 12.2688\n",
            "Epoch 16/100\n",
            "87/87 [==============================] - 0s 1ms/step - loss: 454.8538 - mean_absolute_error: 15.6292 - val_loss: 340.2976 - val_mean_absolute_error: 12.0480\n",
            "Epoch 17/100\n",
            "87/87 [==============================] - 0s 1ms/step - loss: 438.5389 - mean_absolute_error: 15.3117 - val_loss: 332.3410 - val_mean_absolute_error: 11.8253\n",
            "Epoch 18/100\n",
            "87/87 [==============================] - 0s 2ms/step - loss: 424.1326 - mean_absolute_error: 15.0119 - val_loss: 325.3377 - val_mean_absolute_error: 11.6187\n",
            "Epoch 19/100\n",
            "87/87 [==============================] - 0s 1ms/step - loss: 409.8247 - mean_absolute_error: 14.7192 - val_loss: 318.8818 - val_mean_absolute_error: 11.4371\n",
            "Epoch 20/100\n",
            "87/87 [==============================] - 0s 1ms/step - loss: 396.7638 - mean_absolute_error: 14.4578 - val_loss: 312.9608 - val_mean_absolute_error: 11.2638\n",
            "Epoch 21/100\n",
            "87/87 [==============================] - 0s 2ms/step - loss: 384.3490 - mean_absolute_error: 14.1703 - val_loss: 307.3071 - val_mean_absolute_error: 11.1156\n",
            "Epoch 22/100\n",
            "87/87 [==============================] - 0s 1ms/step - loss: 371.9593 - mean_absolute_error: 13.9268 - val_loss: 302.0933 - val_mean_absolute_error: 10.9842\n",
            "Epoch 23/100\n",
            "87/87 [==============================] - 0s 1ms/step - loss: 360.8900 - mean_absolute_error: 13.6930 - val_loss: 297.6574 - val_mean_absolute_error: 10.8884\n",
            "Epoch 24/100\n",
            "87/87 [==============================] - 0s 1ms/step - loss: 350.0690 - mean_absolute_error: 13.4875 - val_loss: 293.5005 - val_mean_absolute_error: 10.7879\n",
            "Epoch 25/100\n",
            "87/87 [==============================] - 0s 1ms/step - loss: 340.0570 - mean_absolute_error: 13.2926 - val_loss: 289.5970 - val_mean_absolute_error: 10.7001\n",
            "Epoch 26/100\n",
            "87/87 [==============================] - 0s 1ms/step - loss: 331.2803 - mean_absolute_error: 13.1299 - val_loss: 285.7814 - val_mean_absolute_error: 10.6543\n",
            "Epoch 27/100\n",
            "87/87 [==============================] - 0s 1ms/step - loss: 322.8996 - mean_absolute_error: 12.9531 - val_loss: 282.2173 - val_mean_absolute_error: 10.6473\n",
            "Epoch 28/100\n",
            "87/87 [==============================] - 0s 1ms/step - loss: 315.6816 - mean_absolute_error: 12.8246 - val_loss: 278.8806 - val_mean_absolute_error: 10.6465\n",
            "Epoch 29/100\n",
            "87/87 [==============================] - 0s 1ms/step - loss: 308.8070 - mean_absolute_error: 12.7352 - val_loss: 275.9323 - val_mean_absolute_error: 10.6586\n",
            "Epoch 30/100\n",
            "87/87 [==============================] - 0s 1ms/step - loss: 302.6690 - mean_absolute_error: 12.6117 - val_loss: 273.0781 - val_mean_absolute_error: 10.6632\n",
            "Epoch 31/100\n",
            "87/87 [==============================] - 0s 1ms/step - loss: 297.2357 - mean_absolute_error: 12.5369 - val_loss: 270.6560 - val_mean_absolute_error: 10.6659\n",
            "Epoch 32/100\n",
            "87/87 [==============================] - 0s 1ms/step - loss: 291.9421 - mean_absolute_error: 12.5256 - val_loss: 268.7402 - val_mean_absolute_error: 10.6759\n",
            "Epoch 33/100\n",
            "87/87 [==============================] - 0s 1ms/step - loss: 287.2188 - mean_absolute_error: 12.4404 - val_loss: 267.3354 - val_mean_absolute_error: 10.6785\n",
            "Epoch 34/100\n",
            "87/87 [==============================] - 0s 2ms/step - loss: 283.1942 - mean_absolute_error: 12.3949 - val_loss: 265.4321 - val_mean_absolute_error: 10.7115\n",
            "Epoch 35/100\n",
            "87/87 [==============================] - 0s 1ms/step - loss: 280.0243 - mean_absolute_error: 12.3360 - val_loss: 264.2026 - val_mean_absolute_error: 10.7386\n",
            "Epoch 36/100\n",
            "87/87 [==============================] - 0s 1ms/step - loss: 276.8726 - mean_absolute_error: 12.2947 - val_loss: 262.7994 - val_mean_absolute_error: 10.7710\n",
            "Epoch 37/100\n",
            "87/87 [==============================] - 0s 1ms/step - loss: 274.0472 - mean_absolute_error: 12.2758 - val_loss: 261.6872 - val_mean_absolute_error: 10.7996\n",
            "Epoch 38/100\n",
            "87/87 [==============================] - 0s 1ms/step - loss: 271.1381 - mean_absolute_error: 12.2586 - val_loss: 260.7465 - val_mean_absolute_error: 10.8417\n",
            "Epoch 39/100\n",
            "87/87 [==============================] - 0s 1ms/step - loss: 268.4970 - mean_absolute_error: 12.2480 - val_loss: 259.9695 - val_mean_absolute_error: 10.8743\n",
            "Epoch 40/100\n",
            "87/87 [==============================] - 0s 1ms/step - loss: 266.3299 - mean_absolute_error: 12.2283 - val_loss: 259.1349 - val_mean_absolute_error: 10.9207\n",
            "Epoch 41/100\n",
            "87/87 [==============================] - 0s 1ms/step - loss: 264.0636 - mean_absolute_error: 12.2238 - val_loss: 258.2849 - val_mean_absolute_error: 10.9578\n",
            "Epoch 42/100\n",
            "87/87 [==============================] - 0s 1ms/step - loss: 261.7034 - mean_absolute_error: 12.2203 - val_loss: 257.6311 - val_mean_absolute_error: 10.9878\n",
            "Epoch 43/100\n",
            "87/87 [==============================] - 0s 1ms/step - loss: 260.0117 - mean_absolute_error: 12.1677 - val_loss: 257.2625 - val_mean_absolute_error: 11.0280\n",
            "Epoch 44/100\n",
            "87/87 [==============================] - 0s 2ms/step - loss: 257.8344 - mean_absolute_error: 12.1660 - val_loss: 256.7726 - val_mean_absolute_error: 11.0597\n",
            "Epoch 45/100\n",
            "87/87 [==============================] - 0s 1ms/step - loss: 256.2620 - mean_absolute_error: 12.1459 - val_loss: 256.3067 - val_mean_absolute_error: 11.0929\n",
            "Epoch 46/100\n",
            "87/87 [==============================] - 0s 1ms/step - loss: 254.3261 - mean_absolute_error: 12.1408 - val_loss: 255.5154 - val_mean_absolute_error: 11.1105\n",
            "Epoch 47/100\n",
            "87/87 [==============================] - 0s 1ms/step - loss: 252.3281 - mean_absolute_error: 12.1244 - val_loss: 255.2603 - val_mean_absolute_error: 11.1384\n",
            "Epoch 48/100\n",
            "87/87 [==============================] - 0s 1ms/step - loss: 250.7740 - mean_absolute_error: 12.1043 - val_loss: 254.7101 - val_mean_absolute_error: 11.1622\n",
            "Epoch 49/100\n",
            "87/87 [==============================] - 0s 1ms/step - loss: 248.9950 - mean_absolute_error: 12.0839 - val_loss: 254.4034 - val_mean_absolute_error: 11.1813\n",
            "Epoch 50/100\n",
            "87/87 [==============================] - 0s 1ms/step - loss: 247.4975 - mean_absolute_error: 12.0640 - val_loss: 254.0143 - val_mean_absolute_error: 11.2040\n",
            "Epoch 51/100\n",
            "87/87 [==============================] - 0s 1ms/step - loss: 245.9751 - mean_absolute_error: 12.0441 - val_loss: 253.9581 - val_mean_absolute_error: 11.2313\n",
            "Epoch 52/100\n",
            "87/87 [==============================] - 0s 2ms/step - loss: 244.6696 - mean_absolute_error: 12.0305 - val_loss: 253.4637 - val_mean_absolute_error: 11.2382\n",
            "Epoch 53/100\n",
            "87/87 [==============================] - 0s 1ms/step - loss: 242.8025 - mean_absolute_error: 12.0051 - val_loss: 252.9413 - val_mean_absolute_error: 11.2476\n",
            "Epoch 54/100\n",
            "87/87 [==============================] - 0s 1ms/step - loss: 241.6509 - mean_absolute_error: 11.9891 - val_loss: 252.7394 - val_mean_absolute_error: 11.2706\n",
            "Epoch 55/100\n",
            "87/87 [==============================] - 0s 1ms/step - loss: 240.2318 - mean_absolute_error: 11.9656 - val_loss: 252.4616 - val_mean_absolute_error: 11.2891\n",
            "Epoch 56/100\n",
            "87/87 [==============================] - 0s 2ms/step - loss: 238.7851 - mean_absolute_error: 11.9474 - val_loss: 252.2691 - val_mean_absolute_error: 11.3062\n",
            "Epoch 57/100\n",
            "87/87 [==============================] - 0s 1ms/step - loss: 237.5244 - mean_absolute_error: 11.9335 - val_loss: 252.4782 - val_mean_absolute_error: 11.3360\n",
            "Epoch 58/100\n",
            "87/87 [==============================] - 0s 2ms/step - loss: 236.3558 - mean_absolute_error: 11.9291 - val_loss: 252.2382 - val_mean_absolute_error: 11.3476\n",
            "Epoch 59/100\n",
            "87/87 [==============================] - 0s 1ms/step - loss: 235.2086 - mean_absolute_error: 11.9065 - val_loss: 252.2433 - val_mean_absolute_error: 11.3736\n",
            "Epoch 60/100\n",
            "87/87 [==============================] - 0s 2ms/step - loss: 233.7989 - mean_absolute_error: 11.8754 - val_loss: 252.2740 - val_mean_absolute_error: 11.3854\n",
            "Epoch 61/100\n",
            "87/87 [==============================] - 0s 1ms/step - loss: 232.8991 - mean_absolute_error: 11.8575 - val_loss: 252.1725 - val_mean_absolute_error: 11.3977\n",
            "Epoch 62/100\n",
            "87/87 [==============================] - 0s 1ms/step - loss: 231.6529 - mean_absolute_error: 11.8418 - val_loss: 252.3112 - val_mean_absolute_error: 11.4096\n",
            "Epoch 63/100\n",
            "87/87 [==============================] - 0s 1ms/step - loss: 230.8467 - mean_absolute_error: 11.8391 - val_loss: 252.2548 - val_mean_absolute_error: 11.4107\n",
            "Epoch 64/100\n",
            "87/87 [==============================] - 0s 1ms/step - loss: 230.0575 - mean_absolute_error: 11.8159 - val_loss: 252.2181 - val_mean_absolute_error: 11.4175\n",
            "Epoch 65/100\n",
            "87/87 [==============================] - 0s 1ms/step - loss: 229.0119 - mean_absolute_error: 11.7952 - val_loss: 252.2760 - val_mean_absolute_error: 11.4232\n",
            "Epoch 66/100\n",
            "87/87 [==============================] - 0s 1ms/step - loss: 228.0662 - mean_absolute_error: 11.7764 - val_loss: 252.0413 - val_mean_absolute_error: 11.4204\n",
            "Epoch 67/100\n",
            "87/87 [==============================] - 0s 2ms/step - loss: 227.2676 - mean_absolute_error: 11.7572 - val_loss: 252.1233 - val_mean_absolute_error: 11.4298\n",
            "Epoch 68/100\n",
            "87/87 [==============================] - 0s 1ms/step - loss: 226.4287 - mean_absolute_error: 11.7749 - val_loss: 252.1005 - val_mean_absolute_error: 11.4414\n",
            "Epoch 69/100\n",
            "87/87 [==============================] - 0s 1ms/step - loss: 225.5014 - mean_absolute_error: 11.7344 - val_loss: 252.0849 - val_mean_absolute_error: 11.4496\n",
            "Epoch 70/100\n",
            "87/87 [==============================] - 0s 1ms/step - loss: 224.8654 - mean_absolute_error: 11.7280 - val_loss: 251.6913 - val_mean_absolute_error: 11.4414\n",
            "Epoch 71/100\n",
            "87/87 [==============================] - 0s 1ms/step - loss: 223.7951 - mean_absolute_error: 11.7201 - val_loss: 251.7424 - val_mean_absolute_error: 11.4435\n",
            "Epoch 72/100\n",
            "87/87 [==============================] - 0s 1ms/step - loss: 223.6388 - mean_absolute_error: 11.7038 - val_loss: 251.7898 - val_mean_absolute_error: 11.4527\n",
            "Epoch 73/100\n",
            "87/87 [==============================] - 0s 1ms/step - loss: 222.9975 - mean_absolute_error: 11.6866 - val_loss: 252.3166 - val_mean_absolute_error: 11.4784\n",
            "Epoch 74/100\n",
            "87/87 [==============================] - 0s 1ms/step - loss: 222.0703 - mean_absolute_error: 11.6783 - val_loss: 252.7455 - val_mean_absolute_error: 11.4959\n",
            "Epoch 75/100\n",
            "87/87 [==============================] - 0s 1ms/step - loss: 221.3850 - mean_absolute_error: 11.6641 - val_loss: 252.7727 - val_mean_absolute_error: 11.4946\n",
            "Epoch 76/100\n",
            "87/87 [==============================] - 0s 1ms/step - loss: 221.2629 - mean_absolute_error: 11.6386 - val_loss: 253.2748 - val_mean_absolute_error: 11.5119\n",
            "Epoch 77/100\n",
            "87/87 [==============================] - 0s 1ms/step - loss: 220.3902 - mean_absolute_error: 11.6289 - val_loss: 253.3608 - val_mean_absolute_error: 11.5162\n",
            "Epoch 78/100\n",
            "87/87 [==============================] - 0s 1ms/step - loss: 219.5961 - mean_absolute_error: 11.6304 - val_loss: 253.8490 - val_mean_absolute_error: 11.5428\n",
            "Epoch 79/100\n",
            "87/87 [==============================] - 0s 1ms/step - loss: 219.1830 - mean_absolute_error: 11.6028 - val_loss: 253.9346 - val_mean_absolute_error: 11.5562\n",
            "Epoch 80/100\n",
            "87/87 [==============================] - 0s 2ms/step - loss: 218.4741 - mean_absolute_error: 11.5854 - val_loss: 254.0014 - val_mean_absolute_error: 11.5657\n",
            "Epoch 81/100\n",
            "87/87 [==============================] - 0s 1ms/step - loss: 217.5976 - mean_absolute_error: 11.5691 - val_loss: 254.0644 - val_mean_absolute_error: 11.5729\n",
            "Epoch 82/100\n",
            "87/87 [==============================] - 0s 1ms/step - loss: 217.3741 - mean_absolute_error: 11.5411 - val_loss: 254.2512 - val_mean_absolute_error: 11.5737\n",
            "Epoch 83/100\n",
            "87/87 [==============================] - 0s 1ms/step - loss: 216.5729 - mean_absolute_error: 11.5153 - val_loss: 254.3892 - val_mean_absolute_error: 11.5767\n",
            "Epoch 84/100\n",
            "87/87 [==============================] - 0s 1ms/step - loss: 216.0233 - mean_absolute_error: 11.5213 - val_loss: 254.7352 - val_mean_absolute_error: 11.5912\n",
            "Epoch 85/100\n",
            "87/87 [==============================] - 0s 1ms/step - loss: 215.1864 - mean_absolute_error: 11.4999 - val_loss: 255.0357 - val_mean_absolute_error: 11.6086\n",
            "Epoch 86/100\n",
            "87/87 [==============================] - 0s 1ms/step - loss: 214.9800 - mean_absolute_error: 11.4792 - val_loss: 255.0689 - val_mean_absolute_error: 11.6174\n",
            "Epoch 87/100\n",
            "87/87 [==============================] - 0s 2ms/step - loss: 214.0578 - mean_absolute_error: 11.4611 - val_loss: 255.1484 - val_mean_absolute_error: 11.6253\n",
            "Epoch 88/100\n",
            "87/87 [==============================] - 0s 1ms/step - loss: 213.3925 - mean_absolute_error: 11.4678 - val_loss: 255.2803 - val_mean_absolute_error: 11.6331\n",
            "Epoch 89/100\n",
            "87/87 [==============================] - 0s 1ms/step - loss: 213.3958 - mean_absolute_error: 11.4275 - val_loss: 255.2925 - val_mean_absolute_error: 11.6333\n",
            "Epoch 90/100\n",
            "87/87 [==============================] - 0s 1ms/step - loss: 212.7844 - mean_absolute_error: 11.4266 - val_loss: 255.4257 - val_mean_absolute_error: 11.6373\n",
            "Epoch 91/100\n",
            "87/87 [==============================] - 0s 1ms/step - loss: 211.9241 - mean_absolute_error: 11.4173 - val_loss: 255.4417 - val_mean_absolute_error: 11.6369\n",
            "Epoch 92/100\n",
            "87/87 [==============================] - 0s 1ms/step - loss: 211.6751 - mean_absolute_error: 11.3979 - val_loss: 255.8756 - val_mean_absolute_error: 11.6541\n",
            "Epoch 93/100\n",
            "87/87 [==============================] - 0s 1ms/step - loss: 210.9727 - mean_absolute_error: 11.3853 - val_loss: 255.9044 - val_mean_absolute_error: 11.6516\n",
            "Epoch 94/100\n",
            "87/87 [==============================] - 0s 1ms/step - loss: 210.6061 - mean_absolute_error: 11.3559 - val_loss: 256.0343 - val_mean_absolute_error: 11.6601\n",
            "Epoch 95/100\n",
            "87/87 [==============================] - 0s 1ms/step - loss: 210.1545 - mean_absolute_error: 11.3547 - val_loss: 256.3454 - val_mean_absolute_error: 11.6636\n",
            "Epoch 96/100\n",
            "87/87 [==============================] - 0s 1ms/step - loss: 209.5053 - mean_absolute_error: 11.3336 - val_loss: 256.8575 - val_mean_absolute_error: 11.6712\n",
            "Epoch 97/100\n",
            "87/87 [==============================] - 0s 1ms/step - loss: 208.9266 - mean_absolute_error: 11.3257 - val_loss: 257.0221 - val_mean_absolute_error: 11.6780\n",
            "Epoch 98/100\n",
            "87/87 [==============================] - 0s 1ms/step - loss: 208.4857 - mean_absolute_error: 11.3021 - val_loss: 256.5829 - val_mean_absolute_error: 11.6597\n",
            "Epoch 99/100\n",
            "87/87 [==============================] - 0s 1ms/step - loss: 208.1606 - mean_absolute_error: 11.2874 - val_loss: 256.6367 - val_mean_absolute_error: 11.6613\n",
            "Epoch 100/100\n",
            "87/87 [==============================] - 0s 2ms/step - loss: 207.6127 - mean_absolute_error: 11.2733 - val_loss: 256.7221 - val_mean_absolute_error: 11.6717\n",
            "Train on 87 samples, validate on 44 samples\n",
            "Epoch 1/100\n",
            "87/87 [==============================] - 2s 18ms/step - loss: 551.8439 - mean_absolute_error: 18.0437 - val_loss: 1020.8073 - val_mean_absolute_error: 25.6809\n",
            "Epoch 2/100\n",
            "87/87 [==============================] - 0s 1ms/step - loss: 533.6608 - mean_absolute_error: 17.6521 - val_loss: 996.3967 - val_mean_absolute_error: 25.3344\n",
            "Epoch 3/100\n",
            "87/87 [==============================] - 0s 1ms/step - loss: 517.4278 - mean_absolute_error: 17.2822 - val_loss: 974.0925 - val_mean_absolute_error: 25.0250\n",
            "Epoch 4/100\n",
            "87/87 [==============================] - 0s 1ms/step - loss: 501.7646 - mean_absolute_error: 16.9442 - val_loss: 952.4785 - val_mean_absolute_error: 24.7151\n",
            "Epoch 5/100\n",
            "87/87 [==============================] - 0s 1ms/step - loss: 488.0531 - mean_absolute_error: 16.6100 - val_loss: 932.0777 - val_mean_absolute_error: 24.4114\n",
            "Epoch 6/100\n",
            "87/87 [==============================] - 0s 1ms/step - loss: 474.6721 - mean_absolute_error: 16.3162 - val_loss: 913.3579 - val_mean_absolute_error: 24.1247\n",
            "Epoch 7/100\n",
            "87/87 [==============================] - 0s 1ms/step - loss: 462.2887 - mean_absolute_error: 16.0224 - val_loss: 894.5504 - val_mean_absolute_error: 23.8347\n",
            "Epoch 8/100\n",
            "87/87 [==============================] - 0s 1ms/step - loss: 449.7449 - mean_absolute_error: 15.7414 - val_loss: 875.9585 - val_mean_absolute_error: 23.5434\n",
            "Epoch 9/100\n",
            "87/87 [==============================] - 0s 2ms/step - loss: 437.9641 - mean_absolute_error: 15.5069 - val_loss: 858.2763 - val_mean_absolute_error: 23.2719\n",
            "Epoch 10/100\n",
            "87/87 [==============================] - 0s 1ms/step - loss: 427.4107 - mean_absolute_error: 15.2652 - val_loss: 841.3533 - val_mean_absolute_error: 23.0033\n",
            "Epoch 11/100\n",
            "87/87 [==============================] - 0s 1ms/step - loss: 416.3646 - mean_absolute_error: 15.0381 - val_loss: 823.5123 - val_mean_absolute_error: 22.7092\n",
            "Epoch 12/100\n",
            "87/87 [==============================] - 0s 1ms/step - loss: 405.4151 - mean_absolute_error: 14.7991 - val_loss: 805.9043 - val_mean_absolute_error: 22.4255\n",
            "Epoch 13/100\n",
            "87/87 [==============================] - 0s 2ms/step - loss: 395.4347 - mean_absolute_error: 14.5975 - val_loss: 789.3957 - val_mean_absolute_error: 22.1551\n",
            "Epoch 14/100\n",
            "87/87 [==============================] - 0s 2ms/step - loss: 385.7903 - mean_absolute_error: 14.3737 - val_loss: 773.6344 - val_mean_absolute_error: 21.8948\n",
            "Epoch 15/100\n",
            "87/87 [==============================] - 0s 2ms/step - loss: 376.2040 - mean_absolute_error: 14.1514 - val_loss: 757.6529 - val_mean_absolute_error: 21.6167\n",
            "Epoch 16/100\n",
            "87/87 [==============================] - 0s 1ms/step - loss: 367.0710 - mean_absolute_error: 13.9613 - val_loss: 742.1903 - val_mean_absolute_error: 21.3289\n",
            "Epoch 17/100\n",
            "87/87 [==============================] - 0s 1ms/step - loss: 358.3556 - mean_absolute_error: 13.7355 - val_loss: 727.3321 - val_mean_absolute_error: 21.0519\n",
            "Epoch 18/100\n",
            "87/87 [==============================] - 0s 2ms/step - loss: 349.3453 - mean_absolute_error: 13.5361 - val_loss: 713.1552 - val_mean_absolute_error: 20.7808\n",
            "Epoch 19/100\n",
            "87/87 [==============================] - 0s 2ms/step - loss: 341.3191 - mean_absolute_error: 13.3529 - val_loss: 699.1014 - val_mean_absolute_error: 20.5023\n",
            "Epoch 20/100\n",
            "87/87 [==============================] - 0s 2ms/step - loss: 333.1922 - mean_absolute_error: 13.2092 - val_loss: 685.2264 - val_mean_absolute_error: 20.2299\n",
            "Epoch 21/100\n",
            "87/87 [==============================] - 0s 1ms/step - loss: 325.5053 - mean_absolute_error: 13.0881 - val_loss: 671.4659 - val_mean_absolute_error: 19.9630\n",
            "Epoch 22/100\n",
            "87/87 [==============================] - 0s 2ms/step - loss: 317.3994 - mean_absolute_error: 12.9506 - val_loss: 657.1456 - val_mean_absolute_error: 19.6731\n",
            "Epoch 23/100\n",
            "87/87 [==============================] - 0s 1ms/step - loss: 310.2822 - mean_absolute_error: 12.7978 - val_loss: 643.9710 - val_mean_absolute_error: 19.3987\n",
            "Epoch 24/100\n",
            "87/87 [==============================] - 0s 1ms/step - loss: 303.1149 - mean_absolute_error: 12.6263 - val_loss: 631.2535 - val_mean_absolute_error: 19.1589\n",
            "Epoch 25/100\n",
            "87/87 [==============================] - 0s 2ms/step - loss: 296.3823 - mean_absolute_error: 12.5063 - val_loss: 618.9832 - val_mean_absolute_error: 18.9112\n",
            "Epoch 26/100\n",
            "87/87 [==============================] - 0s 1ms/step - loss: 290.1224 - mean_absolute_error: 12.3582 - val_loss: 607.2961 - val_mean_absolute_error: 18.6844\n",
            "Epoch 27/100\n",
            "87/87 [==============================] - 0s 1ms/step - loss: 283.8162 - mean_absolute_error: 12.1985 - val_loss: 595.2789 - val_mean_absolute_error: 18.4418\n",
            "Epoch 28/100\n",
            "87/87 [==============================] - 0s 1ms/step - loss: 278.0779 - mean_absolute_error: 12.0646 - val_loss: 584.1515 - val_mean_absolute_error: 18.2091\n",
            "Epoch 29/100\n",
            "87/87 [==============================] - 0s 1ms/step - loss: 272.6255 - mean_absolute_error: 11.9564 - val_loss: 572.7654 - val_mean_absolute_error: 17.9640\n",
            "Epoch 30/100\n",
            "87/87 [==============================] - 0s 1ms/step - loss: 267.3278 - mean_absolute_error: 11.8581 - val_loss: 562.3569 - val_mean_absolute_error: 17.7383\n",
            "Epoch 31/100\n",
            "87/87 [==============================] - 0s 1ms/step - loss: 262.1639 - mean_absolute_error: 11.7275 - val_loss: 551.2251 - val_mean_absolute_error: 17.5009\n",
            "Epoch 32/100\n",
            "87/87 [==============================] - 0s 1ms/step - loss: 257.3598 - mean_absolute_error: 11.5909 - val_loss: 542.2416 - val_mean_absolute_error: 17.3111\n",
            "Epoch 33/100\n",
            "87/87 [==============================] - 0s 2ms/step - loss: 253.1194 - mean_absolute_error: 11.4867 - val_loss: 533.2677 - val_mean_absolute_error: 17.1167\n",
            "Epoch 34/100\n",
            "87/87 [==============================] - 0s 1ms/step - loss: 248.5139 - mean_absolute_error: 11.3550 - val_loss: 524.3571 - val_mean_absolute_error: 16.9129\n",
            "Epoch 35/100\n",
            "87/87 [==============================] - 0s 1ms/step - loss: 244.2961 - mean_absolute_error: 11.2348 - val_loss: 516.1611 - val_mean_absolute_error: 16.7391\n",
            "Epoch 36/100\n",
            "87/87 [==============================] - 0s 1ms/step - loss: 240.8568 - mean_absolute_error: 11.1520 - val_loss: 509.1476 - val_mean_absolute_error: 16.6046\n",
            "Epoch 37/100\n",
            "87/87 [==============================] - 0s 2ms/step - loss: 237.3123 - mean_absolute_error: 11.0808 - val_loss: 501.4039 - val_mean_absolute_error: 16.4518\n",
            "Epoch 38/100\n",
            "87/87 [==============================] - 0s 1ms/step - loss: 234.2751 - mean_absolute_error: 10.9844 - val_loss: 494.8825 - val_mean_absolute_error: 16.3181\n",
            "Epoch 39/100\n",
            "87/87 [==============================] - 0s 1ms/step - loss: 231.6312 - mean_absolute_error: 10.9092 - val_loss: 488.8118 - val_mean_absolute_error: 16.1936\n",
            "Epoch 40/100\n",
            "87/87 [==============================] - 0s 1ms/step - loss: 228.6624 - mean_absolute_error: 10.8576 - val_loss: 482.6346 - val_mean_absolute_error: 16.0592\n",
            "Epoch 41/100\n",
            "87/87 [==============================] - 0s 1ms/step - loss: 226.6114 - mean_absolute_error: 10.7801 - val_loss: 477.3945 - val_mean_absolute_error: 15.9485\n",
            "Epoch 42/100\n",
            "87/87 [==============================] - 0s 2ms/step - loss: 223.9295 - mean_absolute_error: 10.7710 - val_loss: 473.1630 - val_mean_absolute_error: 15.8558\n",
            "Epoch 43/100\n",
            "87/87 [==============================] - 0s 2ms/step - loss: 222.6024 - mean_absolute_error: 10.7043 - val_loss: 468.7378 - val_mean_absolute_error: 15.7510\n",
            "Epoch 44/100\n",
            "87/87 [==============================] - 0s 1ms/step - loss: 220.8960 - mean_absolute_error: 10.6613 - val_loss: 464.7908 - val_mean_absolute_error: 15.6670\n",
            "Epoch 45/100\n",
            "87/87 [==============================] - 0s 2ms/step - loss: 219.0271 - mean_absolute_error: 10.6441 - val_loss: 460.7642 - val_mean_absolute_error: 15.5884\n",
            "Epoch 46/100\n",
            "87/87 [==============================] - 0s 1ms/step - loss: 217.4118 - mean_absolute_error: 10.6041 - val_loss: 456.8234 - val_mean_absolute_error: 15.5077\n",
            "Epoch 47/100\n",
            "87/87 [==============================] - 0s 1ms/step - loss: 215.6853 - mean_absolute_error: 10.5818 - val_loss: 453.5691 - val_mean_absolute_error: 15.4449\n",
            "Epoch 48/100\n",
            "87/87 [==============================] - 0s 1ms/step - loss: 214.0710 - mean_absolute_error: 10.5579 - val_loss: 450.4977 - val_mean_absolute_error: 15.3782\n",
            "Epoch 49/100\n",
            "87/87 [==============================] - 0s 2ms/step - loss: 212.8264 - mean_absolute_error: 10.5271 - val_loss: 447.3816 - val_mean_absolute_error: 15.3160\n",
            "Epoch 50/100\n",
            "87/87 [==============================] - 0s 2ms/step - loss: 211.4956 - mean_absolute_error: 10.4943 - val_loss: 444.7423 - val_mean_absolute_error: 15.2665\n",
            "Epoch 51/100\n",
            "87/87 [==============================] - 0s 1ms/step - loss: 210.8746 - mean_absolute_error: 10.4463 - val_loss: 442.6227 - val_mean_absolute_error: 15.2313\n",
            "Epoch 52/100\n",
            "87/87 [==============================] - 0s 1ms/step - loss: 209.2973 - mean_absolute_error: 10.4200 - val_loss: 440.0777 - val_mean_absolute_error: 15.1864\n",
            "Epoch 53/100\n",
            "87/87 [==============================] - 0s 1ms/step - loss: 208.4619 - mean_absolute_error: 10.3963 - val_loss: 437.8412 - val_mean_absolute_error: 15.1590\n",
            "Epoch 54/100\n",
            "87/87 [==============================] - 0s 2ms/step - loss: 207.5228 - mean_absolute_error: 10.3793 - val_loss: 435.6355 - val_mean_absolute_error: 15.1319\n",
            "Epoch 55/100\n",
            "87/87 [==============================] - 0s 2ms/step - loss: 206.4306 - mean_absolute_error: 10.3567 - val_loss: 432.9014 - val_mean_absolute_error: 15.0881\n",
            "Epoch 56/100\n",
            "87/87 [==============================] - 0s 2ms/step - loss: 205.4120 - mean_absolute_error: 10.3385 - val_loss: 430.7680 - val_mean_absolute_error: 15.0605\n",
            "Epoch 57/100\n",
            "87/87 [==============================] - 0s 1ms/step - loss: 204.6050 - mean_absolute_error: 10.3104 - val_loss: 428.6962 - val_mean_absolute_error: 15.0343\n",
            "Epoch 58/100\n",
            "87/87 [==============================] - 0s 2ms/step - loss: 203.5864 - mean_absolute_error: 10.2888 - val_loss: 427.0789 - val_mean_absolute_error: 15.0167\n",
            "Epoch 59/100\n",
            "87/87 [==============================] - 0s 2ms/step - loss: 202.9890 - mean_absolute_error: 10.2548 - val_loss: 425.0432 - val_mean_absolute_error: 14.9944\n",
            "Epoch 60/100\n",
            "87/87 [==============================] - 0s 2ms/step - loss: 202.2812 - mean_absolute_error: 10.2687 - val_loss: 423.4458 - val_mean_absolute_error: 14.9776\n",
            "Epoch 61/100\n",
            "87/87 [==============================] - 0s 2ms/step - loss: 201.4662 - mean_absolute_error: 10.2619 - val_loss: 421.3234 - val_mean_absolute_error: 14.9537\n",
            "Epoch 62/100\n",
            "87/87 [==============================] - 0s 2ms/step - loss: 200.8091 - mean_absolute_error: 10.2321 - val_loss: 419.9568 - val_mean_absolute_error: 14.9429\n",
            "Epoch 63/100\n",
            "87/87 [==============================] - 0s 1ms/step - loss: 200.0944 - mean_absolute_error: 10.1987 - val_loss: 418.5492 - val_mean_absolute_error: 14.9324\n",
            "Epoch 64/100\n",
            "87/87 [==============================] - 0s 2ms/step - loss: 199.4137 - mean_absolute_error: 10.1999 - val_loss: 417.4960 - val_mean_absolute_error: 14.9262\n",
            "Epoch 65/100\n",
            "87/87 [==============================] - 0s 2ms/step - loss: 198.7937 - mean_absolute_error: 10.1807 - val_loss: 415.9456 - val_mean_absolute_error: 14.9126\n",
            "Epoch 66/100\n",
            "87/87 [==============================] - 0s 2ms/step - loss: 198.3307 - mean_absolute_error: 10.1573 - val_loss: 414.3117 - val_mean_absolute_error: 14.8948\n",
            "Epoch 67/100\n",
            "87/87 [==============================] - 0s 2ms/step - loss: 197.5576 - mean_absolute_error: 10.1538 - val_loss: 412.4789 - val_mean_absolute_error: 14.8703\n",
            "Epoch 68/100\n",
            "87/87 [==============================] - 0s 2ms/step - loss: 197.0722 - mean_absolute_error: 10.1459 - val_loss: 411.6737 - val_mean_absolute_error: 14.8694\n",
            "Epoch 69/100\n",
            "87/87 [==============================] - 0s 2ms/step - loss: 196.4743 - mean_absolute_error: 10.1377 - val_loss: 409.7606 - val_mean_absolute_error: 14.8347\n",
            "Epoch 70/100\n",
            "87/87 [==============================] - 0s 2ms/step - loss: 196.0200 - mean_absolute_error: 10.1079 - val_loss: 408.1168 - val_mean_absolute_error: 14.8160\n",
            "Epoch 71/100\n",
            "87/87 [==============================] - 0s 2ms/step - loss: 195.4514 - mean_absolute_error: 10.1134 - val_loss: 407.5614 - val_mean_absolute_error: 14.8244\n",
            "Epoch 72/100\n",
            "87/87 [==============================] - 0s 2ms/step - loss: 194.6589 - mean_absolute_error: 10.1048 - val_loss: 406.2728 - val_mean_absolute_error: 14.8088\n",
            "Epoch 73/100\n",
            "87/87 [==============================] - 0s 2ms/step - loss: 194.2228 - mean_absolute_error: 10.1065 - val_loss: 405.0737 - val_mean_absolute_error: 14.8004\n",
            "Epoch 74/100\n",
            "87/87 [==============================] - 0s 2ms/step - loss: 193.9040 - mean_absolute_error: 10.0825 - val_loss: 403.4743 - val_mean_absolute_error: 14.7848\n",
            "Epoch 75/100\n",
            "87/87 [==============================] - 0s 2ms/step - loss: 193.2429 - mean_absolute_error: 10.0604 - val_loss: 402.4205 - val_mean_absolute_error: 14.7758\n",
            "Epoch 76/100\n",
            "87/87 [==============================] - 0s 2ms/step - loss: 192.8909 - mean_absolute_error: 10.0304 - val_loss: 401.8878 - val_mean_absolute_error: 14.7795\n",
            "Epoch 77/100\n",
            "87/87 [==============================] - 0s 1ms/step - loss: 192.2340 - mean_absolute_error: 10.0331 - val_loss: 401.8680 - val_mean_absolute_error: 14.7939\n",
            "Epoch 78/100\n",
            "87/87 [==============================] - 0s 1ms/step - loss: 191.6604 - mean_absolute_error: 10.0329 - val_loss: 401.5334 - val_mean_absolute_error: 14.8106\n",
            "Epoch 79/100\n",
            "87/87 [==============================] - 0s 2ms/step - loss: 191.2609 - mean_absolute_error: 10.0148 - val_loss: 399.9371 - val_mean_absolute_error: 14.7958\n",
            "Epoch 80/100\n",
            "87/87 [==============================] - 0s 2ms/step - loss: 190.8861 - mean_absolute_error: 10.0046 - val_loss: 398.4805 - val_mean_absolute_error: 14.7840\n",
            "Epoch 81/100\n",
            "87/87 [==============================] - 0s 2ms/step - loss: 190.2983 - mean_absolute_error: 9.9854 - val_loss: 397.4899 - val_mean_absolute_error: 14.7835\n",
            "Epoch 82/100\n",
            "87/87 [==============================] - 0s 2ms/step - loss: 189.4777 - mean_absolute_error: 10.0068 - val_loss: 396.0813 - val_mean_absolute_error: 14.7772\n",
            "Epoch 83/100\n",
            "87/87 [==============================] - 0s 2ms/step - loss: 189.2621 - mean_absolute_error: 9.9781 - val_loss: 395.0722 - val_mean_absolute_error: 14.7718\n",
            "Epoch 84/100\n",
            "87/87 [==============================] - 0s 2ms/step - loss: 188.4300 - mean_absolute_error: 9.9782 - val_loss: 393.8942 - val_mean_absolute_error: 14.7541\n",
            "Epoch 85/100\n",
            "87/87 [==============================] - 0s 2ms/step - loss: 188.1389 - mean_absolute_error: 9.9718 - val_loss: 392.8802 - val_mean_absolute_error: 14.7427\n",
            "Epoch 86/100\n",
            "87/87 [==============================] - 0s 2ms/step - loss: 187.8508 - mean_absolute_error: 9.9528 - val_loss: 392.6979 - val_mean_absolute_error: 14.7518\n",
            "Epoch 87/100\n",
            "87/87 [==============================] - 0s 1ms/step - loss: 187.6871 - mean_absolute_error: 9.9375 - val_loss: 392.0433 - val_mean_absolute_error: 14.7513\n",
            "Epoch 88/100\n",
            "87/87 [==============================] - 0s 2ms/step - loss: 187.5994 - mean_absolute_error: 9.9083 - val_loss: 391.7832 - val_mean_absolute_error: 14.7562\n",
            "Epoch 89/100\n",
            "87/87 [==============================] - 0s 2ms/step - loss: 186.7665 - mean_absolute_error: 9.9032 - val_loss: 390.9077 - val_mean_absolute_error: 14.7560\n",
            "Epoch 90/100\n",
            "87/87 [==============================] - 0s 2ms/step - loss: 186.1304 - mean_absolute_error: 9.9131 - val_loss: 389.8225 - val_mean_absolute_error: 14.7410\n",
            "Epoch 91/100\n",
            "87/87 [==============================] - 0s 2ms/step - loss: 185.9292 - mean_absolute_error: 9.8963 - val_loss: 388.6615 - val_mean_absolute_error: 14.7311\n",
            "Epoch 92/100\n",
            "87/87 [==============================] - 0s 1ms/step - loss: 185.5520 - mean_absolute_error: 9.8930 - val_loss: 388.3884 - val_mean_absolute_error: 14.7392\n",
            "Epoch 93/100\n",
            "87/87 [==============================] - 0s 1ms/step - loss: 185.2018 - mean_absolute_error: 9.8692 - val_loss: 387.6492 - val_mean_absolute_error: 14.7303\n",
            "Epoch 94/100\n",
            "87/87 [==============================] - 0s 2ms/step - loss: 184.9311 - mean_absolute_error: 9.8559 - val_loss: 387.7658 - val_mean_absolute_error: 14.7462\n",
            "Epoch 95/100\n",
            "87/87 [==============================] - 0s 1ms/step - loss: 184.8027 - mean_absolute_error: 9.8391 - val_loss: 387.0612 - val_mean_absolute_error: 14.7370\n",
            "Epoch 96/100\n",
            "87/87 [==============================] - 0s 2ms/step - loss: 184.3205 - mean_absolute_error: 9.8564 - val_loss: 386.4476 - val_mean_absolute_error: 14.7399\n",
            "Epoch 97/100\n",
            "87/87 [==============================] - 0s 2ms/step - loss: 183.7408 - mean_absolute_error: 9.8478 - val_loss: 385.2896 - val_mean_absolute_error: 14.7248\n",
            "Epoch 98/100\n",
            "87/87 [==============================] - 0s 2ms/step - loss: 183.4615 - mean_absolute_error: 9.8304 - val_loss: 385.4556 - val_mean_absolute_error: 14.7472\n",
            "Epoch 99/100\n",
            "87/87 [==============================] - 0s 2ms/step - loss: 183.1260 - mean_absolute_error: 9.8216 - val_loss: 385.6246 - val_mean_absolute_error: 14.7664\n",
            "Epoch 100/100\n",
            "87/87 [==============================] - 0s 1ms/step - loss: 182.9085 - mean_absolute_error: 9.8174 - val_loss: 384.9347 - val_mean_absolute_error: 14.7603\n",
            "Train on 88 samples, validate on 43 samples\n",
            "Epoch 1/100\n",
            "88/88 [==============================] - 2s 19ms/step - loss: 746.5590 - mean_absolute_error: 20.7560 - val_loss: 462.0809 - val_mean_absolute_error: 16.7085\n",
            "Epoch 2/100\n",
            "88/88 [==============================] - 0s 2ms/step - loss: 728.0589 - mean_absolute_error: 20.3316 - val_loss: 447.2492 - val_mean_absolute_error: 16.3212\n",
            "Epoch 3/100\n",
            "88/88 [==============================] - 0s 1ms/step - loss: 709.6707 - mean_absolute_error: 19.9434 - val_loss: 432.0411 - val_mean_absolute_error: 15.9221\n",
            "Epoch 4/100\n",
            "88/88 [==============================] - 0s 2ms/step - loss: 690.7346 - mean_absolute_error: 19.5964 - val_loss: 416.7828 - val_mean_absolute_error: 15.5060\n",
            "Epoch 5/100\n",
            "88/88 [==============================] - 0s 2ms/step - loss: 671.5439 - mean_absolute_error: 19.1989 - val_loss: 400.9158 - val_mean_absolute_error: 15.1084\n",
            "Epoch 6/100\n",
            "88/88 [==============================] - 0s 2ms/step - loss: 652.3089 - mean_absolute_error: 18.8152 - val_loss: 385.8540 - val_mean_absolute_error: 14.7331\n",
            "Epoch 7/100\n",
            "88/88 [==============================] - 0s 2ms/step - loss: 632.9198 - mean_absolute_error: 18.4737 - val_loss: 370.5762 - val_mean_absolute_error: 14.3606\n",
            "Epoch 8/100\n",
            "88/88 [==============================] - 0s 2ms/step - loss: 613.6840 - mean_absolute_error: 18.1007 - val_loss: 355.9163 - val_mean_absolute_error: 14.0046\n",
            "Epoch 9/100\n",
            "88/88 [==============================] - 0s 2ms/step - loss: 594.7313 - mean_absolute_error: 17.7470 - val_loss: 341.5503 - val_mean_absolute_error: 13.6806\n",
            "Epoch 10/100\n",
            "88/88 [==============================] - 0s 2ms/step - loss: 576.7733 - mean_absolute_error: 17.3700 - val_loss: 328.0387 - val_mean_absolute_error: 13.3898\n",
            "Epoch 11/100\n",
            "88/88 [==============================] - 0s 2ms/step - loss: 557.1710 - mean_absolute_error: 17.0146 - val_loss: 313.8620 - val_mean_absolute_error: 13.1005\n",
            "Epoch 12/100\n",
            "88/88 [==============================] - 0s 2ms/step - loss: 539.2132 - mean_absolute_error: 16.6724 - val_loss: 300.8133 - val_mean_absolute_error: 12.8728\n",
            "Epoch 13/100\n",
            "88/88 [==============================] - 0s 2ms/step - loss: 520.0800 - mean_absolute_error: 16.2616 - val_loss: 288.2771 - val_mean_absolute_error: 12.6374\n",
            "Epoch 14/100\n",
            "88/88 [==============================] - 0s 2ms/step - loss: 502.6715 - mean_absolute_error: 15.9011 - val_loss: 276.9175 - val_mean_absolute_error: 12.4068\n",
            "Epoch 15/100\n",
            "88/88 [==============================] - 0s 1ms/step - loss: 485.4173 - mean_absolute_error: 15.5749 - val_loss: 265.6993 - val_mean_absolute_error: 12.1584\n",
            "Epoch 16/100\n",
            "88/88 [==============================] - 0s 2ms/step - loss: 469.3746 - mean_absolute_error: 15.2260 - val_loss: 255.6931 - val_mean_absolute_error: 11.9331\n",
            "Epoch 17/100\n",
            "88/88 [==============================] - 0s 2ms/step - loss: 453.5306 - mean_absolute_error: 14.9378 - val_loss: 246.6474 - val_mean_absolute_error: 11.7489\n",
            "Epoch 18/100\n",
            "88/88 [==============================] - 0s 2ms/step - loss: 438.5034 - mean_absolute_error: 14.6468 - val_loss: 238.1630 - val_mean_absolute_error: 11.5748\n",
            "Epoch 19/100\n",
            "88/88 [==============================] - 0s 2ms/step - loss: 424.6884 - mean_absolute_error: 14.4355 - val_loss: 231.0579 - val_mean_absolute_error: 11.4376\n",
            "Epoch 20/100\n",
            "88/88 [==============================] - 0s 1ms/step - loss: 411.3254 - mean_absolute_error: 14.1975 - val_loss: 224.5673 - val_mean_absolute_error: 11.3486\n",
            "Epoch 21/100\n",
            "88/88 [==============================] - 0s 1ms/step - loss: 398.0973 - mean_absolute_error: 13.9689 - val_loss: 218.9698 - val_mean_absolute_error: 11.2678\n",
            "Epoch 22/100\n",
            "88/88 [==============================] - 0s 1ms/step - loss: 386.8030 - mean_absolute_error: 13.7975 - val_loss: 214.3564 - val_mean_absolute_error: 11.1934\n",
            "Epoch 23/100\n",
            "88/88 [==============================] - 0s 1ms/step - loss: 376.0719 - mean_absolute_error: 13.6242 - val_loss: 210.3390 - val_mean_absolute_error: 11.1282\n",
            "Epoch 24/100\n",
            "88/88 [==============================] - 0s 1ms/step - loss: 366.7377 - mean_absolute_error: 13.5190 - val_loss: 207.1928 - val_mean_absolute_error: 11.1213\n",
            "Epoch 25/100\n",
            "88/88 [==============================] - 0s 1ms/step - loss: 358.2560 - mean_absolute_error: 13.3676 - val_loss: 205.0075 - val_mean_absolute_error: 11.1104\n",
            "Epoch 26/100\n",
            "88/88 [==============================] - 0s 1ms/step - loss: 350.9034 - mean_absolute_error: 13.2819 - val_loss: 203.0760 - val_mean_absolute_error: 11.1039\n",
            "Epoch 27/100\n",
            "88/88 [==============================] - 0s 1ms/step - loss: 343.4397 - mean_absolute_error: 13.1718 - val_loss: 201.5688 - val_mean_absolute_error: 11.1565\n",
            "Epoch 28/100\n",
            "88/88 [==============================] - 0s 2ms/step - loss: 336.9654 - mean_absolute_error: 13.0630 - val_loss: 200.5990 - val_mean_absolute_error: 11.1913\n",
            "Epoch 29/100\n",
            "88/88 [==============================] - 0s 1ms/step - loss: 331.5425 - mean_absolute_error: 13.0126 - val_loss: 200.2192 - val_mean_absolute_error: 11.2367\n",
            "Epoch 30/100\n",
            "88/88 [==============================] - 0s 1ms/step - loss: 326.3354 - mean_absolute_error: 12.9751 - val_loss: 199.6862 - val_mean_absolute_error: 11.2643\n",
            "Epoch 31/100\n",
            "88/88 [==============================] - 0s 1ms/step - loss: 322.0526 - mean_absolute_error: 12.8995 - val_loss: 199.4570 - val_mean_absolute_error: 11.3019\n",
            "Epoch 32/100\n",
            "88/88 [==============================] - 0s 1ms/step - loss: 317.4334 - mean_absolute_error: 12.8752 - val_loss: 199.9505 - val_mean_absolute_error: 11.3418\n",
            "Epoch 33/100\n",
            "88/88 [==============================] - 0s 1ms/step - loss: 313.8508 - mean_absolute_error: 12.8261 - val_loss: 200.3423 - val_mean_absolute_error: 11.3752\n",
            "Epoch 34/100\n",
            "88/88 [==============================] - 0s 1ms/step - loss: 309.6224 - mean_absolute_error: 12.8028 - val_loss: 200.7236 - val_mean_absolute_error: 11.4297\n",
            "Epoch 35/100\n",
            "88/88 [==============================] - 0s 1ms/step - loss: 307.1197 - mean_absolute_error: 12.7384 - val_loss: 201.2109 - val_mean_absolute_error: 11.4947\n",
            "Epoch 36/100\n",
            "88/88 [==============================] - 0s 2ms/step - loss: 303.7179 - mean_absolute_error: 12.6884 - val_loss: 201.7249 - val_mean_absolute_error: 11.5616\n",
            "Epoch 37/100\n",
            "88/88 [==============================] - 0s 1ms/step - loss: 300.9036 - mean_absolute_error: 12.6677 - val_loss: 202.0948 - val_mean_absolute_error: 11.6215\n",
            "Epoch 38/100\n",
            "88/88 [==============================] - 0s 1ms/step - loss: 298.1791 - mean_absolute_error: 12.6616 - val_loss: 202.5075 - val_mean_absolute_error: 11.6846\n",
            "Epoch 39/100\n",
            "88/88 [==============================] - 0s 1ms/step - loss: 296.1175 - mean_absolute_error: 12.6152 - val_loss: 202.9501 - val_mean_absolute_error: 11.7419\n",
            "Epoch 40/100\n",
            "88/88 [==============================] - 0s 1ms/step - loss: 293.8915 - mean_absolute_error: 12.5791 - val_loss: 203.3464 - val_mean_absolute_error: 11.7982\n",
            "Epoch 41/100\n",
            "88/88 [==============================] - 0s 2ms/step - loss: 291.6093 - mean_absolute_error: 12.5484 - val_loss: 203.9957 - val_mean_absolute_error: 11.8507\n",
            "Epoch 42/100\n",
            "88/88 [==============================] - 0s 1ms/step - loss: 289.2075 - mean_absolute_error: 12.5262 - val_loss: 204.9042 - val_mean_absolute_error: 11.9097\n",
            "Epoch 43/100\n",
            "88/88 [==============================] - 0s 1ms/step - loss: 287.0610 - mean_absolute_error: 12.5124 - val_loss: 205.4576 - val_mean_absolute_error: 11.9630\n",
            "Epoch 44/100\n",
            "88/88 [==============================] - 0s 2ms/step - loss: 285.1534 - mean_absolute_error: 12.4883 - val_loss: 206.1079 - val_mean_absolute_error: 12.0271\n",
            "Epoch 45/100\n",
            "88/88 [==============================] - 0s 1ms/step - loss: 283.5890 - mean_absolute_error: 12.4758 - val_loss: 206.9296 - val_mean_absolute_error: 12.0926\n",
            "Epoch 46/100\n",
            "88/88 [==============================] - 0s 1ms/step - loss: 281.4827 - mean_absolute_error: 12.4529 - val_loss: 207.6072 - val_mean_absolute_error: 12.1497\n",
            "Epoch 47/100\n",
            "88/88 [==============================] - 0s 1ms/step - loss: 280.1729 - mean_absolute_error: 12.4433 - val_loss: 207.7714 - val_mean_absolute_error: 12.1895\n",
            "Epoch 48/100\n",
            "88/88 [==============================] - 0s 1ms/step - loss: 278.3859 - mean_absolute_error: 12.4095 - val_loss: 208.6712 - val_mean_absolute_error: 12.2503\n",
            "Epoch 49/100\n",
            "88/88 [==============================] - 0s 1ms/step - loss: 276.8925 - mean_absolute_error: 12.3946 - val_loss: 208.8832 - val_mean_absolute_error: 12.2833\n",
            "Epoch 50/100\n",
            "88/88 [==============================] - 0s 1ms/step - loss: 275.2886 - mean_absolute_error: 12.3927 - val_loss: 209.9365 - val_mean_absolute_error: 12.3445\n",
            "Epoch 51/100\n",
            "88/88 [==============================] - 0s 2ms/step - loss: 274.4665 - mean_absolute_error: 12.3527 - val_loss: 210.6132 - val_mean_absolute_error: 12.3935\n",
            "Epoch 52/100\n",
            "88/88 [==============================] - 0s 2ms/step - loss: 273.0750 - mean_absolute_error: 12.3295 - val_loss: 210.6125 - val_mean_absolute_error: 12.4132\n",
            "Epoch 53/100\n",
            "88/88 [==============================] - 0s 1ms/step - loss: 271.9295 - mean_absolute_error: 12.3250 - val_loss: 210.9681 - val_mean_absolute_error: 12.4529\n",
            "Epoch 54/100\n",
            "88/88 [==============================] - 0s 2ms/step - loss: 270.8332 - mean_absolute_error: 12.3170 - val_loss: 211.3913 - val_mean_absolute_error: 12.4822\n",
            "Epoch 55/100\n",
            "88/88 [==============================] - 0s 1ms/step - loss: 269.6286 - mean_absolute_error: 12.2822 - val_loss: 211.7555 - val_mean_absolute_error: 12.5123\n",
            "Epoch 56/100\n",
            "88/88 [==============================] - 0s 2ms/step - loss: 268.8951 - mean_absolute_error: 12.2507 - val_loss: 212.0064 - val_mean_absolute_error: 12.5501\n",
            "Epoch 57/100\n",
            "88/88 [==============================] - 0s 1ms/step - loss: 267.7958 - mean_absolute_error: 12.2591 - val_loss: 211.9943 - val_mean_absolute_error: 12.5632\n",
            "Epoch 58/100\n",
            "88/88 [==============================] - 0s 1ms/step - loss: 266.2255 - mean_absolute_error: 12.2553 - val_loss: 212.0733 - val_mean_absolute_error: 12.5770\n",
            "Epoch 59/100\n",
            "88/88 [==============================] - 0s 2ms/step - loss: 265.8565 - mean_absolute_error: 12.2283 - val_loss: 212.2384 - val_mean_absolute_error: 12.5973\n",
            "Epoch 60/100\n",
            "88/88 [==============================] - 0s 2ms/step - loss: 264.6115 - mean_absolute_error: 12.2102 - val_loss: 212.0849 - val_mean_absolute_error: 12.6041\n",
            "Epoch 61/100\n",
            "88/88 [==============================] - 0s 1ms/step - loss: 264.0557 - mean_absolute_error: 12.1870 - val_loss: 212.3190 - val_mean_absolute_error: 12.6230\n",
            "Epoch 62/100\n",
            "88/88 [==============================] - 0s 1ms/step - loss: 263.2086 - mean_absolute_error: 12.1860 - val_loss: 212.7356 - val_mean_absolute_error: 12.6423\n",
            "Epoch 63/100\n",
            "88/88 [==============================] - 0s 1ms/step - loss: 262.2212 - mean_absolute_error: 12.1730 - val_loss: 212.7999 - val_mean_absolute_error: 12.6488\n",
            "Epoch 64/100\n",
            "88/88 [==============================] - 0s 1ms/step - loss: 261.4347 - mean_absolute_error: 12.1460 - val_loss: 212.4068 - val_mean_absolute_error: 12.6592\n",
            "Epoch 65/100\n",
            "88/88 [==============================] - 0s 1ms/step - loss: 260.2935 - mean_absolute_error: 12.1430 - val_loss: 212.3700 - val_mean_absolute_error: 12.6768\n",
            "Epoch 66/100\n",
            "88/88 [==============================] - 0s 1ms/step - loss: 260.2074 - mean_absolute_error: 12.0951 - val_loss: 212.0607 - val_mean_absolute_error: 12.6840\n",
            "Epoch 67/100\n",
            "88/88 [==============================] - 0s 2ms/step - loss: 259.2142 - mean_absolute_error: 12.0777 - val_loss: 212.5093 - val_mean_absolute_error: 12.7085\n",
            "Epoch 68/100\n",
            "88/88 [==============================] - 0s 2ms/step - loss: 258.4064 - mean_absolute_error: 12.0621 - val_loss: 212.6423 - val_mean_absolute_error: 12.7279\n",
            "Epoch 69/100\n",
            "88/88 [==============================] - 0s 1ms/step - loss: 257.5069 - mean_absolute_error: 12.0587 - val_loss: 212.6773 - val_mean_absolute_error: 12.7353\n",
            "Epoch 70/100\n",
            "88/88 [==============================] - 0s 1ms/step - loss: 257.2274 - mean_absolute_error: 12.0524 - val_loss: 213.2167 - val_mean_absolute_error: 12.7597\n",
            "Epoch 71/100\n",
            "88/88 [==============================] - 0s 2ms/step - loss: 256.6010 - mean_absolute_error: 12.0164 - val_loss: 213.1359 - val_mean_absolute_error: 12.7720\n",
            "Epoch 72/100\n",
            "88/88 [==============================] - 0s 1ms/step - loss: 255.9556 - mean_absolute_error: 12.0190 - val_loss: 213.7707 - val_mean_absolute_error: 12.7991\n",
            "Epoch 73/100\n",
            "88/88 [==============================] - 0s 2ms/step - loss: 255.1664 - mean_absolute_error: 12.0014 - val_loss: 214.3550 - val_mean_absolute_error: 12.8233\n",
            "Epoch 74/100\n",
            "88/88 [==============================] - 0s 2ms/step - loss: 254.5082 - mean_absolute_error: 12.0026 - val_loss: 215.1662 - val_mean_absolute_error: 12.8532\n",
            "Epoch 75/100\n",
            "88/88 [==============================] - 0s 1ms/step - loss: 253.8173 - mean_absolute_error: 11.9861 - val_loss: 215.2214 - val_mean_absolute_error: 12.8525\n",
            "Epoch 76/100\n",
            "88/88 [==============================] - 0s 2ms/step - loss: 253.2535 - mean_absolute_error: 11.9705 - val_loss: 215.3868 - val_mean_absolute_error: 12.8668\n",
            "Epoch 77/100\n",
            "88/88 [==============================] - 0s 1ms/step - loss: 252.5693 - mean_absolute_error: 11.9817 - val_loss: 215.0064 - val_mean_absolute_error: 12.8583\n",
            "Epoch 78/100\n",
            "88/88 [==============================] - 0s 1ms/step - loss: 252.0469 - mean_absolute_error: 11.9726 - val_loss: 215.4617 - val_mean_absolute_error: 12.8759\n",
            "Epoch 79/100\n",
            "88/88 [==============================] - 0s 1ms/step - loss: 251.4230 - mean_absolute_error: 11.9705 - val_loss: 215.8635 - val_mean_absolute_error: 12.8916\n",
            "Epoch 80/100\n",
            "88/88 [==============================] - 0s 1ms/step - loss: 251.4985 - mean_absolute_error: 11.9664 - val_loss: 216.1631 - val_mean_absolute_error: 12.9029\n",
            "Epoch 81/100\n",
            "88/88 [==============================] - 0s 2ms/step - loss: 250.5485 - mean_absolute_error: 11.9668 - val_loss: 216.0392 - val_mean_absolute_error: 12.8903\n",
            "Epoch 82/100\n",
            "88/88 [==============================] - 0s 2ms/step - loss: 250.5037 - mean_absolute_error: 11.9519 - val_loss: 215.8798 - val_mean_absolute_error: 12.8914\n",
            "Epoch 83/100\n",
            "88/88 [==============================] - 0s 2ms/step - loss: 250.0198 - mean_absolute_error: 11.9514 - val_loss: 215.7967 - val_mean_absolute_error: 12.8872\n",
            "Epoch 84/100\n",
            "88/88 [==============================] - 0s 1ms/step - loss: 249.6745 - mean_absolute_error: 11.9363 - val_loss: 215.9970 - val_mean_absolute_error: 12.8973\n",
            "Epoch 85/100\n",
            "88/88 [==============================] - 0s 1ms/step - loss: 249.2249 - mean_absolute_error: 11.9267 - val_loss: 215.0834 - val_mean_absolute_error: 12.8751\n",
            "Epoch 86/100\n",
            "88/88 [==============================] - 0s 2ms/step - loss: 248.6116 - mean_absolute_error: 11.9147 - val_loss: 214.9067 - val_mean_absolute_error: 12.8741\n",
            "Epoch 87/100\n",
            "88/88 [==============================] - 0s 2ms/step - loss: 248.4621 - mean_absolute_error: 11.9232 - val_loss: 215.6401 - val_mean_absolute_error: 12.8961\n",
            "Epoch 88/100\n",
            "88/88 [==============================] - 0s 1ms/step - loss: 247.8640 - mean_absolute_error: 11.9096 - val_loss: 216.2706 - val_mean_absolute_error: 12.9242\n",
            "Epoch 89/100\n",
            "88/88 [==============================] - 0s 1ms/step - loss: 247.9568 - mean_absolute_error: 11.9063 - val_loss: 216.4435 - val_mean_absolute_error: 12.9174\n",
            "Epoch 90/100\n",
            "88/88 [==============================] - 0s 1ms/step - loss: 247.5130 - mean_absolute_error: 11.8810 - val_loss: 216.3272 - val_mean_absolute_error: 12.9123\n",
            "Epoch 91/100\n",
            "88/88 [==============================] - 0s 1ms/step - loss: 247.1678 - mean_absolute_error: 11.8816 - val_loss: 216.5292 - val_mean_absolute_error: 12.9174\n",
            "Epoch 92/100\n",
            "88/88 [==============================] - 0s 2ms/step - loss: 246.7426 - mean_absolute_error: 11.8686 - val_loss: 216.7891 - val_mean_absolute_error: 12.9315\n",
            "Epoch 93/100\n",
            "88/88 [==============================] - 0s 2ms/step - loss: 246.5892 - mean_absolute_error: 11.8886 - val_loss: 217.0310 - val_mean_absolute_error: 12.9407\n",
            "Epoch 94/100\n",
            "88/88 [==============================] - 0s 2ms/step - loss: 246.4744 - mean_absolute_error: 11.8515 - val_loss: 217.2332 - val_mean_absolute_error: 12.9542\n",
            "Epoch 95/100\n",
            "88/88 [==============================] - 0s 2ms/step - loss: 246.1296 - mean_absolute_error: 11.8494 - val_loss: 217.3068 - val_mean_absolute_error: 12.9486\n",
            "Epoch 96/100\n",
            "88/88 [==============================] - 0s 2ms/step - loss: 245.7245 - mean_absolute_error: 11.8438 - val_loss: 217.8107 - val_mean_absolute_error: 12.9611\n",
            "Epoch 97/100\n",
            "88/88 [==============================] - 0s 1ms/step - loss: 245.7543 - mean_absolute_error: 11.8306 - val_loss: 218.2360 - val_mean_absolute_error: 12.9768\n",
            "Epoch 98/100\n",
            "88/88 [==============================] - 0s 1ms/step - loss: 244.9363 - mean_absolute_error: 11.8380 - val_loss: 218.3951 - val_mean_absolute_error: 12.9811\n",
            "Epoch 99/100\n",
            "88/88 [==============================] - 0s 1ms/step - loss: 244.8981 - mean_absolute_error: 11.8384 - val_loss: 218.0182 - val_mean_absolute_error: 12.9658\n",
            "Epoch 100/100\n",
            "88/88 [==============================] - 0s 1ms/step - loss: 244.7946 - mean_absolute_error: 11.8219 - val_loss: 217.6892 - val_mean_absolute_error: 12.9578\n"
          ],
          "name": "stdout"
        }
      ]
    },
    {
      "cell_type": "code",
      "metadata": {
        "id": "94CEJ7oXFbBz",
        "colab_type": "code",
        "colab": {}
      },
      "source": [
        "history_dict = history.history"
      ],
      "execution_count": 0,
      "outputs": []
    },
    {
      "cell_type": "code",
      "metadata": {
        "id": "nHuCip1WFiSL",
        "colab_type": "code",
        "outputId": "d2fd4b47-ad17-48e7-b2ec-4674d628d794",
        "colab": {
          "base_uri": "https://localhost:8080/",
          "height": 34
        }
      },
      "source": [
        "history_dict.keys()"
      ],
      "execution_count": 0,
      "outputs": [
        {
          "output_type": "execute_result",
          "data": {
            "text/plain": [
              "dict_keys(['val_loss', 'val_mean_absolute_error', 'loss', 'mean_absolute_error'])"
            ]
          },
          "metadata": {
            "tags": []
          },
          "execution_count": 286
        }
      ]
    },
    {
      "cell_type": "code",
      "metadata": {
        "id": "Iyn-f0ZACLwH",
        "colab_type": "code",
        "colab": {}
      },
      "source": [
        "average_mae_val_history = [np.mean([x[i] for x in all_mae_val_histories]) for i in range(num_epochs)]\n",
        "average_mae_history = [np.mean([x[i] for x in all_mae_histories]) for i in range(num_epochs)]\n",
        "average_loss_val_history = [np.mean([x[i] for x in all_loss_val_histories]) for i in range(num_epochs)]\n",
        "average_loss_history = [np.mean([x[i] for x in all_loss_histories]) for i in range(num_epochs)]"
      ],
      "execution_count": 0,
      "outputs": []
    },
    {
      "cell_type": "markdown",
      "metadata": {
        "id": "_JFcHa2LGPXj",
        "colab_type": "text"
      },
      "source": [
        "#Plotting training and validation mae"
      ]
    },
    {
      "cell_type": "code",
      "metadata": {
        "id": "13s5AsNnFQ7F",
        "colab_type": "code",
        "outputId": "57775fa6-8e29-4b9d-fe68-61c37feb1ea4",
        "colab": {
          "base_uri": "https://localhost:8080/",
          "height": 279
        }
      },
      "source": [
        "import matplotlib.pyplot as plt\n",
        "plt.plot(range(1, len(average_mae_val_history) + 1), average_mae_val_history, 'r', label='Validation mae')\n",
        "plt.plot(range(1, len(average_mae_history) + 1), average_mae_history, 'b', label='Training mae')\n",
        "plt.xlabel('Epochs')\n",
        "plt.ylabel('Validation MAE')\n",
        "plt.legend()\n",
        "plt.show()\n"
      ],
      "execution_count": 0,
      "outputs": [
        {
          "output_type": "display_data",
          "data": {
            "image/png": "[encoded data removed]",
            "text/plain": [
              "<Figure size 432x288 with 1 Axes>"
            ]
          },
          "metadata": {
            "tags": []
          }
        }
      ]
    },
    {
      "cell_type": "markdown",
      "metadata": {
        "id": "723BbzxdJtj-",
        "colab_type": "text"
      },
      "source": [
        "#Plotting training and validation loss"
      ]
    },
    {
      "cell_type": "code",
      "metadata": {
        "id": "tezhzHbMGguv",
        "colab_type": "code",
        "outputId": "9dbc7c9f-abff-4886-a9ec-ca5266b8978f",
        "colab": {
          "base_uri": "https://localhost:8080/",
          "height": 279
        }
      },
      "source": [
        "import matplotlib.pyplot as plt\n",
        "plt.plot(range(1, len(average_loss_val_history) + 1), average_loss_val_history, 'r', label='Validation loss')\n",
        "plt.plot(range(1, len(average_loss_history) + 1), average_loss_history, 'b', label='Training loss')\n",
        "plt.xlabel('Epochs')\n",
        "plt.ylabel('Validation LOSS')\n",
        "plt.legend()\n",
        "plt.show()"
      ],
      "execution_count": 0,
      "outputs": [
        {
          "output_type": "display_data",
          "data": {
            "image/png": "[encoded data removed]",
            "text/plain": [
              "<Figure size 432x288 with 1 Axes>"
            ]
          },
          "metadata": {
            "tags": []
          }
        }
      ]
    },
    {
      "cell_type": "code",
      "metadata": {
        "id": "ZiMorOCCKPF8",
        "colab_type": "code",
        "colab": {}
      },
      "source": [
        ""
      ],
      "execution_count": 0,
      "outputs": []
    }
  ]
}