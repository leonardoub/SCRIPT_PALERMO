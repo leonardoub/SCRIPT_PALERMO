{
  "nbformat": 4,
  "nbformat_minor": 0,
  "metadata": {
    "colab": {
      "name": "Regression_NO_kfold.ipynb",
      "provenance": [],
      "authorship_tag": "ABX9TyOeNGK2t7BRkZu4euTNY3pB",
      "include_colab_link": true
    },
    "kernelspec": {
      "name": "python3",
      "display_name": "Python 3"
    }
  },
  "cells": [
    {
      "cell_type": "markdown",
      "metadata": {
        "id": "view-in-github",
        "colab_type": "text"
      },
      "source": [
        "<a href=\"https://colab.research.google.com/github/leonardoub/SCRIPT_PALERMO/blob/master/Regression_NO_kfold.ipynb\" target=\"_parent\"><img src=\"https://colab.research.google.com/assets/colab-badge.svg\" alt=\"Open In Colab\"/></a>"
      ]
    },
    {
      "cell_type": "code",
      "metadata": {
        "id": "H4l7OHNfwiiy",
        "colab_type": "code",
        "colab": {}
      },
      "source": [
        "import random\n",
        "import pandas as pd\n",
        "import numpy as np\n",
        "import matplotlib.pyplot as plt\n",
        "import scipy\n",
        "import seaborn as sns\n",
        "random.seed(1)"
      ],
      "execution_count": 0,
      "outputs": []
    },
    {
      "cell_type": "markdown",
      "metadata": {
        "id": "_DME-inQ4ke_",
        "colab_type": "text"
      },
      "source": [
        "#Load data"
      ]
    },
    {
      "cell_type": "code",
      "metadata": {
        "id": "7Hq45TSf3WcR",
        "colab_type": "code",
        "outputId": "7200cd6c-2691-4ff8-8b93-2b09de2a1c33",
        "colab": {
          "base_uri": "https://localhost:8080/",
          "height": 147
        }
      },
      "source": [
        "#load data from Drive\n",
        "from google.colab import drive\n",
        "drive.mount('/gdrive')\n",
        "%cd /gdrive"
      ],
      "execution_count": 2,
      "outputs": [
        {
          "output_type": "stream",
          "text": [
            "Go to this URL in a browser: https://accounts.google.com/o/oauth2/auth?client_id=947318989803-6bn6qk8qdgf4n4g3pfee6491hc0brc4i.apps.googleusercontent.com&redirect_uri=urn%3aietf%3awg%3aoauth%3a2.0%3aoob&response_type=code&scope=email%20https%3a%2f%2fwww.googleapis.com%2fauth%2fdocs.test%20https%3a%2f%2fwww.googleapis.com%2fauth%2fdrive%20https%3a%2f%2fwww.googleapis.com%2fauth%2fdrive.photos.readonly%20https%3a%2f%2fwww.googleapis.com%2fauth%2fpeopleapi.readonly\n",
            "\n",
            "Enter your authorization code:\n",
            "··········\n",
            "Mounted at /gdrive\n",
            "/gdrive\n"
          ],
          "name": "stdout"
        }
      ]
    },
    {
      "cell_type": "code",
      "metadata": {
        "id": "UCkUXesZhMzg",
        "colab_type": "code",
        "colab": {}
      },
      "source": [
        "train_dataset_path = '/gdrive/My Drive/AIM_PA/database_training2.csv'\n",
        "test_dataset_path = '/gdrive/My Drive/AIM_PA/database_nostro_without_nan.csv'"
      ],
      "execution_count": 0,
      "outputs": []
    },
    {
      "cell_type": "code",
      "metadata": {
        "id": "TczPxOpEhTXw",
        "colab_type": "code",
        "colab": {}
      },
      "source": [
        "df_train = pd.read_csv(train_dataset_path)\n",
        "df_test = pd.read_csv(test_dataset_path)"
      ],
      "execution_count": 0,
      "outputs": []
    },
    {
      "cell_type": "code",
      "metadata": {
        "id": "9I5MNxeW3j2G",
        "colab_type": "code",
        "colab": {}
      },
      "source": [
        "df_train.rename(columns={'Survival.time (months)':'Surv_time_months'}, inplace=True)"
      ],
      "execution_count": 0,
      "outputs": []
    },
    {
      "cell_type": "code",
      "metadata": {
        "id": "TLxDyFPo3sU9",
        "colab_type": "code",
        "colab": {}
      },
      "source": [
        "df_test.rename(columns={'Survival.time (months)':'Surv_time_months'}, inplace=True)"
      ],
      "execution_count": 0,
      "outputs": []
    },
    {
      "cell_type": "code",
      "metadata": {
        "id": "oXU_B2k03uYa",
        "colab_type": "code",
        "colab": {}
      },
      "source": [
        "df_train.rename(columns={'Overall.Stage':'Overall_Stage'}, inplace=True)\n",
        "df_test.rename(columns={'Overall.Stage':'Overall_Stage'}, inplace=True)"
      ],
      "execution_count": 0,
      "outputs": []
    },
    {
      "cell_type": "code",
      "metadata": {
        "id": "T1YCrOMP3_4q",
        "colab_type": "code",
        "colab": {}
      },
      "source": [
        "public_data = df_train.drop(['Histology', 'Surv_time_months', 'OS', 'deadstatus.event','Overall_Stage'], axis=1)"
      ],
      "execution_count": 0,
      "outputs": []
    },
    {
      "cell_type": "code",
      "metadata": {
        "id": "BWj1mwjV4Mzo",
        "colab_type": "code",
        "colab": {}
      },
      "source": [
        "PA_data = df_test.drop(['Histology', 'Surv_time_months', 'OS', 'deadstatus.event','Overall_Stage'], axis=1)"
      ],
      "execution_count": 0,
      "outputs": []
    },
    {
      "cell_type": "code",
      "metadata": {
        "id": "dKdS4Low4PHh",
        "colab_type": "code",
        "colab": {}
      },
      "source": [
        "public_targets = df_train.Surv_time_months"
      ],
      "execution_count": 0,
      "outputs": []
    },
    {
      "cell_type": "code",
      "metadata": {
        "id": "K6EsAdEt4RNP",
        "colab_type": "code",
        "colab": {}
      },
      "source": [
        "PA_targets = df_test.Surv_time_months"
      ],
      "execution_count": 0,
      "outputs": []
    },
    {
      "cell_type": "code",
      "metadata": {
        "id": "kBaJT3uHVOZ8",
        "colab_type": "code",
        "outputId": "ccbde8ae-1ac2-4b0a-f989-af25f3e60fde",
        "colab": {
          "base_uri": "https://localhost:8080/",
          "height": 35
        }
      },
      "source": [
        "public_targets.min()"
      ],
      "execution_count": 12,
      "outputs": [
        {
          "output_type": "execute_result",
          "data": {
            "text/plain": [
              "1"
            ]
          },
          "metadata": {
            "tags": []
          },
          "execution_count": 12
        }
      ]
    },
    {
      "cell_type": "code",
      "metadata": {
        "id": "ZmINZOMZVX4G",
        "colab_type": "code",
        "outputId": "7521ad8c-fd8d-48f2-b288-99de75b3b290",
        "colab": {
          "base_uri": "https://localhost:8080/",
          "height": 35
        }
      },
      "source": [
        "public_targets.max()"
      ],
      "execution_count": 13,
      "outputs": [
        {
          "output_type": "execute_result",
          "data": {
            "text/plain": [
              "72"
            ]
          },
          "metadata": {
            "tags": []
          },
          "execution_count": 13
        }
      ]
    },
    {
      "cell_type": "code",
      "metadata": {
        "id": "UdyU7v6SEe4P",
        "colab_type": "code",
        "colab": {}
      },
      "source": [
        "a=list(public_targets)"
      ],
      "execution_count": 0,
      "outputs": []
    },
    {
      "cell_type": "code",
      "metadata": {
        "id": "1iuOkL8LEjXT",
        "colab_type": "code",
        "colab": {}
      },
      "source": [
        "a.sort()"
      ],
      "execution_count": 0,
      "outputs": []
    },
    {
      "cell_type": "code",
      "metadata": {
        "id": "Eh1YPPwSCsYq",
        "colab_type": "code",
        "outputId": "ec8ff04f-2417-49f4-cafd-0ad3c45edb6e",
        "colab": {
          "base_uri": "https://localhost:8080/",
          "height": 55
        }
      },
      "source": [
        "print(a)"
      ],
      "execution_count": 16,
      "outputs": [
        {
          "output_type": "stream",
          "text": [
            "[1, 1, 2, 2, 2, 2, 2, 2, 3, 3, 3, 3, 3, 3, 4, 4, 4, 4, 4, 4, 5, 5, 5, 5, 6, 6, 6, 6, 6, 6, 7, 7, 7, 7, 8, 8, 9, 9, 9, 9, 10, 10, 10, 10, 10, 10, 11, 12, 12, 12, 12, 12, 13, 13, 13, 15, 15, 15, 15, 15, 16, 16, 16, 16, 16, 17, 18, 18, 18, 18, 19, 19, 19, 21, 21, 21, 21, 21, 22, 22, 23, 23, 23, 24, 24, 25, 25, 25, 26, 27, 27, 27, 28, 29, 29, 30, 30, 30, 31, 31, 32, 33, 33, 33, 34, 36, 36, 36, 38, 38, 40, 40, 41, 41, 44, 45, 45, 46, 46, 46, 48, 50, 51, 52, 54, 56, 60, 63, 64, 71, 72]\n"
          ],
          "name": "stdout"
        }
      ]
    },
    {
      "cell_type": "code",
      "metadata": {
        "id": "EZC4UTEXwwb1",
        "colab_type": "code",
        "outputId": "7b70d780-f107-495c-9407-edef267db074",
        "colab": {
          "base_uri": "https://localhost:8080/",
          "height": 320
        }
      },
      "source": [
        "plt.hist(public_targets, 5)"
      ],
      "execution_count": 17,
      "outputs": [
        {
          "output_type": "execute_result",
          "data": {
            "text/plain": [
              "(array([60., 35., 19., 12.,  5.]),\n",
              " array([ 1. , 15.2, 29.4, 43.6, 57.8, 72. ]),\n",
              " <a list of 5 Patch objects>)"
            ]
          },
          "metadata": {
            "tags": []
          },
          "execution_count": 17
        },
        {
          "output_type": "display_data",
          "data": {
            "image/png": "[encoded data removed]",
            "text/plain": [
              "<Figure size 432x288 with 1 Axes>"
            ]
          },
          "metadata": {
            "tags": []
          }
        }
      ]
    },
    {
      "cell_type": "markdown",
      "metadata": {
        "id": "tqDYyNd6_3s4",
        "colab_type": "text"
      },
      "source": [
        "#Train Test Split"
      ]
    },
    {
      "cell_type": "code",
      "metadata": {
        "id": "_7I8R-jd_3Hd",
        "colab_type": "code",
        "colab": {}
      },
      "source": [
        "from sklearn.model_selection import train_test_split"
      ],
      "execution_count": 0,
      "outputs": []
    },
    {
      "cell_type": "code",
      "metadata": {
        "id": "1iGf61ksL0aY",
        "colab_type": "code",
        "colab": {}
      },
      "source": [
        "# Create the bins.  My target variable has\n",
        "# max=72 observations, and I want 5 bins.\n",
        "\n",
        "bins = np.linspace(1, 71, 5)"
      ],
      "execution_count": 0,
      "outputs": []
    },
    {
      "cell_type": "code",
      "metadata": {
        "id": "pD-nPB1iMFTh",
        "colab_type": "code",
        "outputId": "6474b588-2873-4290-fc45-7ed7b4e26709",
        "colab": {
          "base_uri": "https://localhost:8080/",
          "height": 35
        }
      },
      "source": [
        "bins"
      ],
      "execution_count": 20,
      "outputs": [
        {
          "output_type": "execute_result",
          "data": {
            "text/plain": [
              "array([ 1. , 18.5, 36. , 53.5, 71. ])"
            ]
          },
          "metadata": {
            "tags": []
          },
          "execution_count": 20
        }
      ]
    },
    {
      "cell_type": "code",
      "metadata": {
        "id": "NUWXG2pxMr86",
        "colab_type": "code",
        "colab": {}
      },
      "source": [
        "# Save your Y values in a new ndarray,\n",
        "# broken down by the bins created above.\n",
        "\n",
        "y_binned = np.digitize(public_targets, bins)"
      ],
      "execution_count": 0,
      "outputs": []
    },
    {
      "cell_type": "code",
      "metadata": {
        "id": "6W6OigAeMykE",
        "colab_type": "code",
        "outputId": "6b54a2d6-1d34-4693-e8c1-0b4255993b7b",
        "colab": {
          "base_uri": "https://localhost:8080/",
          "height": 127
        }
      },
      "source": [
        "y_binned"
      ],
      "execution_count": 22,
      "outputs": [
        {
          "output_type": "execute_result",
          "data": {
            "text/plain": [
              "array([1, 1, 2, 3, 1, 1, 1, 2, 3, 1, 1, 1, 1, 1, 2, 4, 1, 1, 1, 2, 2, 2,\n",
              "       2, 3, 3, 4, 1, 1, 1, 1, 1, 1, 2, 2, 2, 2, 2, 2, 2, 2, 2, 2, 3, 3,\n",
              "       3, 1, 1, 1, 1, 1, 1, 1, 1, 1, 1, 1, 1, 1, 1, 1, 1, 1, 2, 2, 2, 2,\n",
              "       2, 2, 2, 2, 3, 3, 3, 3, 3, 5, 1, 1, 1, 1, 1, 1, 1, 1, 2, 2, 2, 3,\n",
              "       3, 3, 1, 1, 1, 1, 1, 1, 1, 2, 3, 4, 4, 1, 1, 1, 1, 1, 1, 1, 1, 1,\n",
              "       1, 1, 2, 2, 2, 4, 1, 1, 1, 1, 1, 1, 1, 1, 2, 2, 2, 3, 3, 3, 5])"
            ]
          },
          "metadata": {
            "tags": []
          },
          "execution_count": 22
        }
      ]
    },
    {
      "cell_type": "code",
      "metadata": {
        "id": "_bnO8hgZ__GF",
        "colab_type": "code",
        "colab": {}
      },
      "source": [
        "X_train, X_test, y_train, y_test = train_test_split(public_data, public_targets, test_size=13, stratify=y_binned)"
      ],
      "execution_count": 0,
      "outputs": []
    },
    {
      "cell_type": "code",
      "metadata": {
        "id": "tdNT2GsMOAYv",
        "colab_type": "code",
        "outputId": "8180a85f-6bee-4212-f004-640edfa3859b",
        "colab": {
          "base_uri": "https://localhost:8080/",
          "height": 320
        }
      },
      "source": [
        "plt.hist(y_test, 5)"
      ],
      "execution_count": 24,
      "outputs": [
        {
          "output_type": "execute_result",
          "data": {
            "text/plain": [
              "(array([6., 3., 2., 1., 1.]),\n",
              " array([ 1. , 12.8, 24.6, 36.4, 48.2, 60. ]),\n",
              " <a list of 5 Patch objects>)"
            ]
          },
          "metadata": {
            "tags": []
          },
          "execution_count": 24
        },
        {
          "output_type": "display_data",
          "data": {
            "image/png": "[encoded data removed]",
            "text/plain": [
              "<Figure size 432x288 with 1 Axes>"
            ]
          },
          "metadata": {
            "tags": []
          }
        }
      ]
    },
    {
      "cell_type": "markdown",
      "metadata": {
        "id": "pMuRNXFjVEiK",
        "colab_type": "text"
      },
      "source": [
        "#Train Validation Split"
      ]
    },
    {
      "cell_type": "code",
      "metadata": {
        "colab_type": "code",
        "id": "ovpVx4a7VMkl",
        "colab": {}
      },
      "source": [
        "from sklearn.model_selection import train_test_split"
      ],
      "execution_count": 0,
      "outputs": []
    },
    {
      "cell_type": "code",
      "metadata": {
        "colab_type": "code",
        "id": "ch0dPinGVMk3",
        "colab": {}
      },
      "source": [
        "# Create the bins. My target variable has\n",
        "#  max=72, and I want 5 bins.\n",
        "\n",
        "bins = np.linspace(1, 71, 5)"
      ],
      "execution_count": 0,
      "outputs": []
    },
    {
      "cell_type": "code",
      "metadata": {
        "colab_type": "code",
        "outputId": "03c331dd-0b33-47e4-fbad-3fae50abcb68",
        "id": "o0tcNiSSVMlJ",
        "colab": {
          "base_uri": "https://localhost:8080/",
          "height": 35
        }
      },
      "source": [
        "bins"
      ],
      "execution_count": 27,
      "outputs": [
        {
          "output_type": "execute_result",
          "data": {
            "text/plain": [
              "array([ 1. , 18.5, 36. , 53.5, 71. ])"
            ]
          },
          "metadata": {
            "tags": []
          },
          "execution_count": 27
        }
      ]
    },
    {
      "cell_type": "code",
      "metadata": {
        "colab_type": "code",
        "id": "ZrvunTpXVMla",
        "colab": {}
      },
      "source": [
        "# Save your Y values in a new ndarray,\n",
        "# broken down by the bins created above.\n",
        "\n",
        "y_binned = np.digitize(y_train, bins)"
      ],
      "execution_count": 0,
      "outputs": []
    },
    {
      "cell_type": "code",
      "metadata": {
        "colab_type": "code",
        "outputId": "ae203536-4a2c-4ab7-b987-de056e203062",
        "id": "se_dpuIJVMlm",
        "colab": {
          "base_uri": "https://localhost:8080/",
          "height": 127
        }
      },
      "source": [
        "y_binned"
      ],
      "execution_count": 29,
      "outputs": [
        {
          "output_type": "execute_result",
          "data": {
            "text/plain": [
              "array([1, 2, 1, 2, 2, 1, 2, 2, 1, 1, 1, 1, 1, 1, 1, 1, 1, 3, 3, 2, 1, 1,\n",
              "       1, 3, 1, 1, 1, 3, 2, 3, 2, 3, 1, 3, 1, 2, 1, 1, 1, 2, 1, 2, 3, 1,\n",
              "       1, 1, 2, 3, 1, 1, 3, 2, 3, 1, 1, 2, 1, 1, 1, 1, 1, 2, 2, 1, 1, 4,\n",
              "       2, 2, 1, 3, 2, 5, 2, 1, 2, 3, 5, 2, 1, 3, 1, 1, 1, 2, 2, 2, 1, 2,\n",
              "       1, 1, 2, 3, 1, 1, 3, 1, 2, 2, 1, 1, 2, 1, 1, 1, 1, 1, 3, 4, 1, 4,\n",
              "       2, 1, 1, 1, 2, 1, 4, 1])"
            ]
          },
          "metadata": {
            "tags": []
          },
          "execution_count": 29
        }
      ]
    },
    {
      "cell_type": "code",
      "metadata": {
        "colab_type": "code",
        "id": "S3Tq1lHxVMlu",
        "colab": {}
      },
      "source": [
        "X_train_1, X_val, train_targets, val_targets = train_test_split(X_train, y_train, test_size=13, stratify=y_binned)"
      ],
      "execution_count": 0,
      "outputs": []
    },
    {
      "cell_type": "code",
      "metadata": {
        "colab_type": "code",
        "outputId": "e6b0019e-4307-4ab1-8b99-cd93f844593f",
        "id": "sKiagqNGVMl4",
        "colab": {
          "base_uri": "https://localhost:8080/",
          "height": 320
        }
      },
      "source": [
        "plt.hist(val_targets, 5)"
      ],
      "execution_count": 32,
      "outputs": [
        {
          "output_type": "execute_result",
          "data": {
            "text/plain": [
              "(array([5., 2., 2., 2., 2.]),\n",
              " array([ 2. ,  9.8, 17.6, 25.4, 33.2, 41. ]),\n",
              " <a list of 5 Patch objects>)"
            ]
          },
          "metadata": {
            "tags": []
          },
          "execution_count": 32
        },
        {
          "output_type": "display_data",
          "data": {
            "image/png": "[encoded data removed]",
            "text/plain": [
              "<Figure size 432x288 with 1 Axes>"
            ]
          },
          "metadata": {
            "tags": []
          }
        }
      ]
    },
    {
      "cell_type": "markdown",
      "metadata": {
        "id": "dtPx7PMDnXM3",
        "colab_type": "text"
      },
      "source": [
        "#Z score dei dati"
      ]
    },
    {
      "cell_type": "code",
      "metadata": {
        "id": "XK4Qji2EnVV4",
        "colab_type": "code",
        "colab": {}
      },
      "source": [
        "mean = X_train_1.mean(axis=0)\n",
        "train_data_stand = X_train_1 - mean\n",
        "std = X_train_1.std(axis=0)\n",
        "train_data_stand /= std"
      ],
      "execution_count": 0,
      "outputs": []
    },
    {
      "cell_type": "code",
      "metadata": {
        "id": "jaqeWiaXXGy0",
        "colab_type": "code",
        "colab": {}
      },
      "source": [
        "val_data_stand = X_val - mean\n",
        "val_data_stand /= std"
      ],
      "execution_count": 0,
      "outputs": []
    },
    {
      "cell_type": "code",
      "metadata": {
        "id": "YOVOoNOvm0Yx",
        "colab_type": "code",
        "colab": {}
      },
      "source": [
        "test_data_stand = X_test - mean\n",
        "test_data_stand /= std"
      ],
      "execution_count": 0,
      "outputs": []
    },
    {
      "cell_type": "markdown",
      "metadata": {
        "id": "Mn0tkOGc3LKN",
        "colab_type": "text"
      },
      "source": [
        "#PCA"
      ]
    },
    {
      "cell_type": "code",
      "metadata": {
        "id": "oS76u6iu3Seg",
        "colab_type": "code",
        "colab": {}
      },
      "source": [
        "from sklearn.decomposition import PCA"
      ],
      "execution_count": 0,
      "outputs": []
    },
    {
      "cell_type": "code",
      "metadata": {
        "id": "KCjC4zqJ3bui",
        "colab_type": "code",
        "colab": {}
      },
      "source": [
        "pca = PCA(n_components=0.9, svd_solver='full')"
      ],
      "execution_count": 0,
      "outputs": []
    },
    {
      "cell_type": "code",
      "metadata": {
        "id": "dLUCf9qX4p_e",
        "colab_type": "code",
        "outputId": "ee93d31f-4c2d-466f-a0cc-4b1db765899f",
        "colab": {
          "base_uri": "https://localhost:8080/",
          "height": 54
        }
      },
      "source": [
        "pca.fit(train_data_stand)"
      ],
      "execution_count": 39,
      "outputs": [
        {
          "output_type": "execute_result",
          "data": {
            "text/plain": [
              "PCA(copy=True, iterated_power='auto', n_components=0.9, random_state=None,\n",
              "    svd_solver='full', tol=0.0, whiten=False)"
            ]
          },
          "metadata": {
            "tags": []
          },
          "execution_count": 39
        }
      ]
    },
    {
      "cell_type": "code",
      "metadata": {
        "id": "QfyaKgNZ44o3",
        "colab_type": "code",
        "colab": {}
      },
      "source": [
        "train_data_stand_pca = pca.transform(train_data_stand)\n",
        "val_data_stand_pca = pca.transform(val_data_stand)\n",
        "test_data_stand_pca = pca.transform(test_data_stand)"
      ],
      "execution_count": 0,
      "outputs": []
    },
    {
      "cell_type": "code",
      "metadata": {
        "id": "Uz9C4nl05b_g",
        "colab_type": "code",
        "outputId": "ee0c941c-413f-436e-e08f-b8741ce47153",
        "colab": {
          "base_uri": "https://localhost:8080/",
          "height": 35
        }
      },
      "source": [
        "train_data_stand_pca.shape"
      ],
      "execution_count": 41,
      "outputs": [
        {
          "output_type": "execute_result",
          "data": {
            "text/plain": [
              "(105, 9)"
            ]
          },
          "metadata": {
            "tags": []
          },
          "execution_count": 41
        }
      ]
    },
    {
      "cell_type": "markdown",
      "metadata": {
        "id": "WF5fsvoQwBqR",
        "colab_type": "text"
      },
      "source": [
        "#Z-score dopo PCA"
      ]
    },
    {
      "cell_type": "code",
      "metadata": {
        "id": "Bw8_CwJZwBD1",
        "colab_type": "code",
        "colab": {}
      },
      "source": [
        "mean = train_data_stand_pca.mean(axis=0)\n",
        "std = train_data_stand_pca.std(axis=0)\n",
        "train_data_stand_pca = train_data_stand_pca - mean\n",
        "train_data_stand_pca /= std"
      ],
      "execution_count": 0,
      "outputs": []
    },
    {
      "cell_type": "code",
      "metadata": {
        "id": "3KW2c_RIXpWy",
        "colab_type": "code",
        "colab": {}
      },
      "source": [
        "val_data_stand_pca = val_data_stand_pca - mean\n",
        "val_data_stand_pca /= std"
      ],
      "execution_count": 0,
      "outputs": []
    },
    {
      "cell_type": "code",
      "metadata": {
        "id": "H3wGNwiWXvbo",
        "colab_type": "code",
        "colab": {}
      },
      "source": [
        "test_data_stand_pca = test_data_stand_pca - mean\n",
        "test_data_stand_pca /= std"
      ],
      "execution_count": 0,
      "outputs": []
    },
    {
      "cell_type": "markdown",
      "metadata": {
        "id": "8wSKvSu4s5ip",
        "colab_type": "text"
      },
      "source": [
        "#Building Network"
      ]
    },
    {
      "cell_type": "code",
      "metadata": {
        "id": "1tX_y6KKs3pM",
        "colab_type": "code",
        "outputId": "8d8740aa-0a52-46e2-f98f-d92da2930d13",
        "colab": {
          "base_uri": "https://localhost:8080/",
          "height": 83
        }
      },
      "source": [
        "from keras import models"
      ],
      "execution_count": 45,
      "outputs": [
        {
          "output_type": "stream",
          "text": [
            "Using TensorFlow backend.\n"
          ],
          "name": "stderr"
        },
        {
          "output_type": "display_data",
          "data": {
            "text/html": [
              "<p style=\"color: red;\">\n",
              "The default version of TensorFlow in Colab will soon switch to TensorFlow 2.x.<br>\n",
              "We recommend you <a href=\"https://www.tensorflow.org/guide/migrate\" target=\"_blank\">upgrade</a> now \n",
              "or ensure your notebook will continue to use TensorFlow 1.x via the <code>%tensorflow_version 1.x</code> magic:\n",
              "<a href=\"https://colab.research.google.com/notebooks/tensorflow_version.ipynb\" target=\"_blank\">more info</a>.</p>\n"
            ],
            "text/plain": [
              "<IPython.core.display.HTML object>"
            ]
          },
          "metadata": {
            "tags": []
          }
        }
      ]
    },
    {
      "cell_type": "code",
      "metadata": {
        "id": "ShwM6YMqsxxJ",
        "colab_type": "code",
        "colab": {}
      },
      "source": [
        "from keras import layers"
      ],
      "execution_count": 0,
      "outputs": []
    },
    {
      "cell_type": "code",
      "metadata": {
        "id": "1dpwVvLEiSot",
        "colab_type": "code",
        "colab": {}
      },
      "source": [
        "from keras.optimizers import RMSprop\n",
        "from keras.optimizers import Adagrad\n",
        "from keras.optimizers import Adadelta\n",
        "from keras.optimizers import Adam\n",
        "from keras.optimizers import Adamax\n",
        "from keras.optimizers import Nadam\n",
        "from keras.optimizers import SGD"
      ],
      "execution_count": 0,
      "outputs": []
    },
    {
      "cell_type": "code",
      "metadata": {
        "id": "PfLUIW9Mgjsp",
        "colab_type": "code",
        "colab": {}
      },
      "source": [
        "from keras import regularizers"
      ],
      "execution_count": 0,
      "outputs": []
    },
    {
      "cell_type": "code",
      "metadata": {
        "id": "7OAEgN31tHVV",
        "colab_type": "code",
        "colab": {}
      },
      "source": [
        "def build_model():\n",
        "  model = models.Sequential()\n",
        "  model.add(layers.Dense(14, activation='relu', kernel_regularizer=regularizers.l1_l2(l1=0.001, l2=0.001), \n",
        "                         input_shape=(9,)))\n",
        "  model.add(layers.Dense(14, activation='relu', kernel_regularizer=regularizers.l1_l2(l1=0.001, l2=0.001)))\n",
        "  #model.add(layers.Dense(32, activation='relu', kernel_regularizer=regularizers.l1_l2(l1=0.001, l2=0.001)))\n",
        "\n",
        "  model.add(layers.Dense(1))\n",
        "\n",
        "  rmsp = RMSprop(lr=0.01)\n",
        "  adagrad = Adagrad(lr=0.01)\n",
        "  adadelta = Adadelta(lr=1.0, rho=0.95)\n",
        "  adam = Adam(lr=0.001, beta_1=0.9, beta_2=0.999, amsgrad=False)\n",
        "  adamax = Adamax(lr=0.002, beta_1=0.9, beta_2=0.999)\n",
        "  nadam = Nadam(lr=0.002, beta_1=0.9, beta_2=0.999)\n",
        "#  sgd = SGD(lr=0.01, momentum=0.0, nesterov=False) # NON UTILIZZABILE\n",
        "#  optimizer='rmsprop'\n",
        "\n",
        "  model.compile(optimizer=adam, loss='mse', metrics=['mae'])\n",
        "  return model"
      ],
      "execution_count": 0,
      "outputs": []
    },
    {
      "cell_type": "markdown",
      "metadata": {
        "id": "sA7Ye1SZDUXB",
        "colab_type": "text"
      },
      "source": [
        "Note that you compile the network with the mse loss function—mean squared error,\n",
        "the square of the difference between the predictions and the targets. This is a widely\n",
        "used loss function for regression problems.\n",
        "\n"
      ]
    },
    {
      "cell_type": "markdown",
      "metadata": {
        "id": "jXmq-i3sDXQA",
        "colab_type": "text"
      },
      "source": [
        "You’re also monitoring a new metric during training: mean absolute error (MAE). It’s\n",
        "the absolute value of the difference between the predictions and the targets. For\n",
        "instance, an MAE of 0.5 on this problem would mean your predictions are off by $500\n",
        "on average."
      ]
    },
    {
      "cell_type": "code",
      "metadata": {
        "id": "oGBwn5RnEdHR",
        "colab_type": "code",
        "colab": {}
      },
      "source": [
        "from keras.callbacks import ReduceLROnPlateau\n",
        "red_lr = ReduceLROnPlateau('loss', patience=5, verbose=1, min_lr=0.0001)"
      ],
      "execution_count": 0,
      "outputs": []
    },
    {
      "cell_type": "code",
      "metadata": {
        "id": "35Hc4rG203_u",
        "colab_type": "code",
        "outputId": "856aeeee-e6ff-4599-a5cf-5f4aa2473d2b",
        "colab": {
          "base_uri": "https://localhost:8080/",
          "height": 1000
        }
      },
      "source": [
        "num_epochs = 500\n",
        "\n",
        "model = build_model()\n",
        "history = model.fit(train_data_stand_pca, train_targets, validation_data=(val_data_stand_pca, val_targets), \n",
        "                      epochs= num_epochs, batch_size=1, callbacks=[red_lr])\n",
        "  \n",
        "mae_history = history.history['mean_absolute_error']\n",
        "mae_val_history = history.history['val_mean_absolute_error']\n",
        "loss_history = history.history['loss']\n",
        "loss_val_history = history.history['val_loss']"
      ],
      "execution_count": 88,
      "outputs": [
        {
          "output_type": "stream",
          "text": [
            "Train on 105 samples, validate on 13 samples\n",
            "Epoch 1/500\n",
            "105/105 [==============================] - 2s 15ms/step - loss: 762.5142 - mean_absolute_error: 21.6428 - val_loss: 438.2403 - val_mean_absolute_error: 16.9348\n",
            "Epoch 2/500\n",
            "105/105 [==============================] - 0s 1ms/step - loss: 720.6630 - mean_absolute_error: 20.6452 - val_loss: 389.5893 - val_mean_absolute_error: 15.3588\n",
            "Epoch 3/500\n",
            "105/105 [==============================] - 0s 1ms/step - loss: 644.8061 - mean_absolute_error: 18.9122 - val_loss: 310.0497 - val_mean_absolute_error: 13.2391\n",
            "Epoch 4/500\n",
            "105/105 [==============================] - 0s 2ms/step - loss: 526.0763 - mean_absolute_error: 16.7499 - val_loss: 219.8721 - val_mean_absolute_error: 11.5655\n",
            "Epoch 5/500\n",
            "105/105 [==============================] - 0s 1ms/step - loss: 401.8690 - mean_absolute_error: 14.5885 - val_loss: 176.4927 - val_mean_absolute_error: 11.6141\n",
            "Epoch 6/500\n",
            "105/105 [==============================] - 0s 2ms/step - loss: 319.7914 - mean_absolute_error: 13.4203 - val_loss: 175.4844 - val_mean_absolute_error: 12.0100\n",
            "Epoch 7/500\n",
            "105/105 [==============================] - 0s 2ms/step - loss: 283.2920 - mean_absolute_error: 13.1414 - val_loss: 182.7639 - val_mean_absolute_error: 12.1637\n",
            "Epoch 8/500\n",
            "105/105 [==============================] - 0s 2ms/step - loss: 268.0969 - mean_absolute_error: 13.0866 - val_loss: 185.4577 - val_mean_absolute_error: 12.1716\n",
            "Epoch 9/500\n",
            "105/105 [==============================] - 0s 2ms/step - loss: 259.5237 - mean_absolute_error: 12.9129 - val_loss: 184.0115 - val_mean_absolute_error: 12.0441\n",
            "Epoch 10/500\n",
            "105/105 [==============================] - 0s 2ms/step - loss: 251.4956 - mean_absolute_error: 12.7328 - val_loss: 177.3236 - val_mean_absolute_error: 11.8001\n",
            "Epoch 11/500\n",
            "105/105 [==============================] - 0s 2ms/step - loss: 248.1902 - mean_absolute_error: 12.6263 - val_loss: 174.2815 - val_mean_absolute_error: 11.6419\n",
            "Epoch 12/500\n",
            "105/105 [==============================] - 0s 2ms/step - loss: 244.8079 - mean_absolute_error: 12.5509 - val_loss: 172.8232 - val_mean_absolute_error: 11.5068\n",
            "Epoch 13/500\n",
            "105/105 [==============================] - 0s 1ms/step - loss: 241.5340 - mean_absolute_error: 12.5102 - val_loss: 173.6027 - val_mean_absolute_error: 11.4893\n",
            "Epoch 14/500\n",
            "105/105 [==============================] - 0s 2ms/step - loss: 240.5736 - mean_absolute_error: 12.4499 - val_loss: 170.0129 - val_mean_absolute_error: 11.3021\n",
            "Epoch 15/500\n",
            "105/105 [==============================] - 0s 2ms/step - loss: 238.5341 - mean_absolute_error: 12.4272 - val_loss: 165.6677 - val_mean_absolute_error: 11.1796\n",
            "Epoch 16/500\n",
            "105/105 [==============================] - 0s 2ms/step - loss: 235.3714 - mean_absolute_error: 12.3074 - val_loss: 164.7690 - val_mean_absolute_error: 11.1334\n",
            "Epoch 17/500\n",
            "105/105 [==============================] - 0s 2ms/step - loss: 234.5009 - mean_absolute_error: 12.2887 - val_loss: 166.2721 - val_mean_absolute_error: 11.1220\n",
            "Epoch 18/500\n",
            "105/105 [==============================] - 0s 2ms/step - loss: 232.3622 - mean_absolute_error: 12.2045 - val_loss: 165.7857 - val_mean_absolute_error: 11.0372\n",
            "Epoch 19/500\n",
            "105/105 [==============================] - 0s 2ms/step - loss: 231.2219 - mean_absolute_error: 12.2146 - val_loss: 168.7727 - val_mean_absolute_error: 11.1064\n",
            "Epoch 20/500\n",
            "105/105 [==============================] - 0s 2ms/step - loss: 229.2761 - mean_absolute_error: 12.0674 - val_loss: 163.9887 - val_mean_absolute_error: 10.9520\n",
            "Epoch 21/500\n",
            "105/105 [==============================] - 0s 2ms/step - loss: 228.1263 - mean_absolute_error: 12.0882 - val_loss: 162.6444 - val_mean_absolute_error: 10.8132\n",
            "Epoch 22/500\n",
            "105/105 [==============================] - 0s 2ms/step - loss: 226.6871 - mean_absolute_error: 12.0084 - val_loss: 163.0505 - val_mean_absolute_error: 10.8498\n",
            "Epoch 23/500\n",
            "105/105 [==============================] - 0s 2ms/step - loss: 224.4816 - mean_absolute_error: 11.9553 - val_loss: 165.2859 - val_mean_absolute_error: 10.7915\n",
            "Epoch 24/500\n",
            "105/105 [==============================] - 0s 2ms/step - loss: 223.3574 - mean_absolute_error: 11.8740 - val_loss: 163.3597 - val_mean_absolute_error: 10.8067\n",
            "Epoch 25/500\n",
            "105/105 [==============================] - 0s 2ms/step - loss: 222.8245 - mean_absolute_error: 11.8968 - val_loss: 167.8537 - val_mean_absolute_error: 10.8461\n",
            "Epoch 26/500\n",
            "105/105 [==============================] - 0s 2ms/step - loss: 221.2190 - mean_absolute_error: 11.8120 - val_loss: 162.3314 - val_mean_absolute_error: 10.7383\n",
            "Epoch 27/500\n",
            "105/105 [==============================] - 0s 2ms/step - loss: 219.7218 - mean_absolute_error: 11.7743 - val_loss: 164.8187 - val_mean_absolute_error: 10.7073\n",
            "Epoch 28/500\n",
            "105/105 [==============================] - 0s 1ms/step - loss: 218.6771 - mean_absolute_error: 11.7018 - val_loss: 160.5053 - val_mean_absolute_error: 10.6278\n",
            "Epoch 29/500\n",
            "105/105 [==============================] - 0s 2ms/step - loss: 218.5034 - mean_absolute_error: 11.6973 - val_loss: 161.9153 - val_mean_absolute_error: 10.5707\n",
            "Epoch 30/500\n",
            "105/105 [==============================] - 0s 2ms/step - loss: 216.1187 - mean_absolute_error: 11.6435 - val_loss: 167.1862 - val_mean_absolute_error: 10.7549\n",
            "Epoch 31/500\n",
            "105/105 [==============================] - 0s 2ms/step - loss: 214.8864 - mean_absolute_error: 11.5993 - val_loss: 164.5996 - val_mean_absolute_error: 10.6226\n",
            "Epoch 32/500\n",
            "105/105 [==============================] - 0s 1ms/step - loss: 214.4351 - mean_absolute_error: 11.5961 - val_loss: 169.2285 - val_mean_absolute_error: 10.8145\n",
            "Epoch 33/500\n",
            "105/105 [==============================] - 0s 2ms/step - loss: 212.6657 - mean_absolute_error: 11.5310 - val_loss: 168.5298 - val_mean_absolute_error: 10.7727\n",
            "Epoch 34/500\n",
            "105/105 [==============================] - 0s 2ms/step - loss: 212.0396 - mean_absolute_error: 11.5612 - val_loss: 168.8041 - val_mean_absolute_error: 10.7844\n",
            "Epoch 35/500\n",
            "105/105 [==============================] - 0s 1ms/step - loss: 209.7851 - mean_absolute_error: 11.4483 - val_loss: 170.6694 - val_mean_absolute_error: 10.8042\n",
            "Epoch 36/500\n",
            "105/105 [==============================] - 0s 2ms/step - loss: 209.3667 - mean_absolute_error: 11.3639 - val_loss: 169.3128 - val_mean_absolute_error: 10.7577\n",
            "Epoch 37/500\n",
            "105/105 [==============================] - 0s 2ms/step - loss: 208.0980 - mean_absolute_error: 11.3386 - val_loss: 169.5192 - val_mean_absolute_error: 10.7375\n",
            "Epoch 38/500\n",
            "105/105 [==============================] - 0s 2ms/step - loss: 207.2739 - mean_absolute_error: 11.3235 - val_loss: 171.8460 - val_mean_absolute_error: 10.8574\n",
            "Epoch 39/500\n",
            "105/105 [==============================] - 0s 2ms/step - loss: 205.8958 - mean_absolute_error: 11.2889 - val_loss: 171.6646 - val_mean_absolute_error: 10.8341\n",
            "Epoch 40/500\n",
            "105/105 [==============================] - 0s 2ms/step - loss: 206.0779 - mean_absolute_error: 11.2421 - val_loss: 170.4872 - val_mean_absolute_error: 10.7050\n",
            "Epoch 41/500\n",
            "105/105 [==============================] - 0s 2ms/step - loss: 202.5989 - mean_absolute_error: 11.2120 - val_loss: 172.4562 - val_mean_absolute_error: 10.8221\n",
            "Epoch 42/500\n",
            "105/105 [==============================] - 0s 2ms/step - loss: 201.8409 - mean_absolute_error: 11.1443 - val_loss: 171.6548 - val_mean_absolute_error: 10.7674\n",
            "Epoch 43/500\n",
            "105/105 [==============================] - 0s 1ms/step - loss: 202.1550 - mean_absolute_error: 11.1450 - val_loss: 177.5243 - val_mean_absolute_error: 10.9469\n",
            "Epoch 44/500\n",
            "105/105 [==============================] - 0s 2ms/step - loss: 199.8918 - mean_absolute_error: 11.0854 - val_loss: 174.2671 - val_mean_absolute_error: 10.8260\n",
            "Epoch 45/500\n",
            "105/105 [==============================] - 0s 2ms/step - loss: 198.9387 - mean_absolute_error: 11.0147 - val_loss: 172.7179 - val_mean_absolute_error: 10.7670\n",
            "Epoch 46/500\n",
            "105/105 [==============================] - 0s 2ms/step - loss: 197.7296 - mean_absolute_error: 11.0044 - val_loss: 172.3802 - val_mean_absolute_error: 10.7538\n",
            "Epoch 47/500\n",
            "105/105 [==============================] - 0s 2ms/step - loss: 196.8757 - mean_absolute_error: 10.9903 - val_loss: 174.7404 - val_mean_absolute_error: 10.8373\n",
            "Epoch 48/500\n",
            "105/105 [==============================] - 0s 2ms/step - loss: 195.1909 - mean_absolute_error: 10.9170 - val_loss: 171.9781 - val_mean_absolute_error: 10.7036\n",
            "Epoch 49/500\n",
            "105/105 [==============================] - 0s 2ms/step - loss: 194.9593 - mean_absolute_error: 10.9205 - val_loss: 177.1526 - val_mean_absolute_error: 10.8499\n",
            "Epoch 50/500\n",
            "105/105 [==============================] - 0s 2ms/step - loss: 193.5896 - mean_absolute_error: 10.8851 - val_loss: 175.9824 - val_mean_absolute_error: 10.8186\n",
            "Epoch 51/500\n",
            "105/105 [==============================] - 0s 2ms/step - loss: 191.5659 - mean_absolute_error: 10.8341 - val_loss: 176.7848 - val_mean_absolute_error: 10.8152\n",
            "Epoch 52/500\n",
            "105/105 [==============================] - 0s 2ms/step - loss: 191.0473 - mean_absolute_error: 10.7346 - val_loss: 182.7804 - val_mean_absolute_error: 10.9285\n",
            "Epoch 53/500\n",
            "105/105 [==============================] - 0s 2ms/step - loss: 189.7296 - mean_absolute_error: 10.8331 - val_loss: 177.7358 - val_mean_absolute_error: 10.8060\n",
            "Epoch 54/500\n",
            "105/105 [==============================] - 0s 2ms/step - loss: 189.7221 - mean_absolute_error: 10.8035 - val_loss: 175.3301 - val_mean_absolute_error: 10.7404\n",
            "Epoch 55/500\n",
            "105/105 [==============================] - 0s 2ms/step - loss: 188.5330 - mean_absolute_error: 10.7054 - val_loss: 179.2350 - val_mean_absolute_error: 10.8200\n",
            "Epoch 56/500\n",
            "105/105 [==============================] - 0s 2ms/step - loss: 187.5935 - mean_absolute_error: 10.7032 - val_loss: 177.0620 - val_mean_absolute_error: 10.7177\n",
            "Epoch 57/500\n",
            "105/105 [==============================] - 0s 2ms/step - loss: 187.1557 - mean_absolute_error: 10.6550 - val_loss: 179.4826 - val_mean_absolute_error: 10.7973\n",
            "Epoch 58/500\n",
            "105/105 [==============================] - 0s 1ms/step - loss: 185.4016 - mean_absolute_error: 10.5642 - val_loss: 184.9284 - val_mean_absolute_error: 10.9019\n",
            "Epoch 59/500\n",
            "105/105 [==============================] - 0s 1ms/step - loss: 185.0768 - mean_absolute_error: 10.6544 - val_loss: 188.0117 - val_mean_absolute_error: 10.9523\n",
            "Epoch 60/500\n",
            "105/105 [==============================] - 0s 2ms/step - loss: 184.4312 - mean_absolute_error: 10.6183 - val_loss: 173.7028 - val_mean_absolute_error: 10.5075\n",
            "Epoch 61/500\n",
            "105/105 [==============================] - 0s 2ms/step - loss: 184.9964 - mean_absolute_error: 10.5890 - val_loss: 180.1296 - val_mean_absolute_error: 10.7447\n",
            "Epoch 62/500\n",
            "105/105 [==============================] - 0s 2ms/step - loss: 182.1778 - mean_absolute_error: 10.5287 - val_loss: 184.1849 - val_mean_absolute_error: 10.8688\n",
            "Epoch 63/500\n",
            "105/105 [==============================] - 0s 2ms/step - loss: 182.3816 - mean_absolute_error: 10.5247 - val_loss: 181.0552 - val_mean_absolute_error: 10.7249\n",
            "Epoch 64/500\n",
            "105/105 [==============================] - 0s 2ms/step - loss: 180.4492 - mean_absolute_error: 10.4302 - val_loss: 184.5424 - val_mean_absolute_error: 10.7945\n",
            "Epoch 65/500\n",
            "105/105 [==============================] - 0s 2ms/step - loss: 180.3969 - mean_absolute_error: 10.4729 - val_loss: 188.2373 - val_mean_absolute_error: 10.8778\n",
            "Epoch 66/500\n",
            "105/105 [==============================] - 0s 1ms/step - loss: 179.3612 - mean_absolute_error: 10.4709 - val_loss: 188.3826 - val_mean_absolute_error: 10.8589\n",
            "Epoch 67/500\n",
            "105/105 [==============================] - 0s 2ms/step - loss: 178.4465 - mean_absolute_error: 10.3778 - val_loss: 179.5247 - val_mean_absolute_error: 10.5857\n",
            "Epoch 68/500\n",
            "105/105 [==============================] - 0s 2ms/step - loss: 178.2394 - mean_absolute_error: 10.4310 - val_loss: 189.3876 - val_mean_absolute_error: 10.8659\n",
            "Epoch 69/500\n",
            "105/105 [==============================] - 0s 2ms/step - loss: 175.4750 - mean_absolute_error: 10.3346 - val_loss: 190.3941 - val_mean_absolute_error: 10.8553\n",
            "Epoch 70/500\n",
            "105/105 [==============================] - 0s 2ms/step - loss: 176.7360 - mean_absolute_error: 10.3339 - val_loss: 190.1290 - val_mean_absolute_error: 10.8172\n",
            "Epoch 71/500\n",
            "105/105 [==============================] - 0s 2ms/step - loss: 174.7211 - mean_absolute_error: 10.3132 - val_loss: 186.3346 - val_mean_absolute_error: 10.7364\n",
            "Epoch 72/500\n",
            "105/105 [==============================] - 0s 2ms/step - loss: 174.8586 - mean_absolute_error: 10.2845 - val_loss: 187.7629 - val_mean_absolute_error: 10.7344\n",
            "Epoch 73/500\n",
            "105/105 [==============================] - 0s 2ms/step - loss: 173.3520 - mean_absolute_error: 10.3102 - val_loss: 194.9572 - val_mean_absolute_error: 10.9149\n",
            "Epoch 74/500\n",
            "105/105 [==============================] - 0s 2ms/step - loss: 173.1416 - mean_absolute_error: 10.1936 - val_loss: 193.4439 - val_mean_absolute_error: 10.8689\n",
            "Epoch 75/500\n",
            "105/105 [==============================] - 0s 2ms/step - loss: 173.0102 - mean_absolute_error: 10.1600 - val_loss: 189.4136 - val_mean_absolute_error: 10.8194\n",
            "Epoch 76/500\n",
            "105/105 [==============================] - 0s 2ms/step - loss: 170.9124 - mean_absolute_error: 10.1614 - val_loss: 192.1881 - val_mean_absolute_error: 10.7619\n",
            "Epoch 77/500\n",
            "105/105 [==============================] - 0s 2ms/step - loss: 170.2649 - mean_absolute_error: 10.0941 - val_loss: 197.0360 - val_mean_absolute_error: 10.8273\n",
            "Epoch 78/500\n",
            "105/105 [==============================] - 0s 2ms/step - loss: 170.0715 - mean_absolute_error: 10.1270 - val_loss: 196.5895 - val_mean_absolute_error: 10.8681\n",
            "Epoch 79/500\n",
            "105/105 [==============================] - 0s 1ms/step - loss: 167.9526 - mean_absolute_error: 10.0869 - val_loss: 190.5921 - val_mean_absolute_error: 10.6937\n",
            "Epoch 80/500\n",
            "105/105 [==============================] - 0s 2ms/step - loss: 167.8992 - mean_absolute_error: 9.9962 - val_loss: 191.7861 - val_mean_absolute_error: 10.6992\n",
            "Epoch 81/500\n",
            "105/105 [==============================] - 0s 2ms/step - loss: 167.6502 - mean_absolute_error: 10.0409 - val_loss: 192.6077 - val_mean_absolute_error: 10.6682\n",
            "Epoch 82/500\n",
            "105/105 [==============================] - 0s 2ms/step - loss: 166.3874 - mean_absolute_error: 9.9837 - val_loss: 201.6191 - val_mean_absolute_error: 10.8869\n",
            "Epoch 83/500\n",
            "105/105 [==============================] - 0s 2ms/step - loss: 165.1995 - mean_absolute_error: 9.8885 - val_loss: 189.4850 - val_mean_absolute_error: 10.6154\n",
            "Epoch 84/500\n",
            "105/105 [==============================] - 0s 2ms/step - loss: 164.1286 - mean_absolute_error: 9.8369 - val_loss: 194.2094 - val_mean_absolute_error: 10.6804\n",
            "Epoch 85/500\n",
            "105/105 [==============================] - 0s 2ms/step - loss: 163.9492 - mean_absolute_error: 9.9117 - val_loss: 191.8912 - val_mean_absolute_error: 10.6720\n",
            "Epoch 86/500\n",
            "105/105 [==============================] - 0s 2ms/step - loss: 162.8437 - mean_absolute_error: 9.8365 - val_loss: 190.8076 - val_mean_absolute_error: 10.5891\n",
            "Epoch 87/500\n",
            "105/105 [==============================] - 0s 2ms/step - loss: 161.9339 - mean_absolute_error: 9.7618 - val_loss: 197.9287 - val_mean_absolute_error: 10.7339\n",
            "Epoch 88/500\n",
            "105/105 [==============================] - 0s 2ms/step - loss: 161.5385 - mean_absolute_error: 9.8331 - val_loss: 200.6078 - val_mean_absolute_error: 10.7104\n",
            "Epoch 89/500\n",
            "105/105 [==============================] - 0s 2ms/step - loss: 160.8113 - mean_absolute_error: 9.7642 - val_loss: 199.9412 - val_mean_absolute_error: 10.7489\n",
            "Epoch 90/500\n",
            "105/105 [==============================] - 0s 2ms/step - loss: 160.5652 - mean_absolute_error: 9.7171 - val_loss: 201.9456 - val_mean_absolute_error: 10.7613\n",
            "Epoch 91/500\n",
            "105/105 [==============================] - 0s 2ms/step - loss: 157.9769 - mean_absolute_error: 9.6997 - val_loss: 205.8143 - val_mean_absolute_error: 10.8632\n",
            "Epoch 92/500\n",
            "105/105 [==============================] - 0s 2ms/step - loss: 157.5610 - mean_absolute_error: 9.6518 - val_loss: 201.9550 - val_mean_absolute_error: 10.7843\n",
            "Epoch 93/500\n",
            "105/105 [==============================] - 0s 2ms/step - loss: 156.5273 - mean_absolute_error: 9.5911 - val_loss: 201.6851 - val_mean_absolute_error: 10.8041\n",
            "Epoch 94/500\n",
            "105/105 [==============================] - 0s 2ms/step - loss: 155.8189 - mean_absolute_error: 9.5711 - val_loss: 206.7868 - val_mean_absolute_error: 10.8886\n",
            "Epoch 95/500\n",
            "105/105 [==============================] - 0s 2ms/step - loss: 155.2054 - mean_absolute_error: 9.5000 - val_loss: 203.4177 - val_mean_absolute_error: 10.7276\n",
            "Epoch 96/500\n",
            "105/105 [==============================] - 0s 2ms/step - loss: 154.8958 - mean_absolute_error: 9.5024 - val_loss: 206.9506 - val_mean_absolute_error: 10.8735\n",
            "Epoch 97/500\n",
            "105/105 [==============================] - 0s 2ms/step - loss: 155.1233 - mean_absolute_error: 9.5555 - val_loss: 203.0429 - val_mean_absolute_error: 10.7627\n",
            "Epoch 98/500\n",
            "105/105 [==============================] - 0s 2ms/step - loss: 153.6231 - mean_absolute_error: 9.4973 - val_loss: 209.5993 - val_mean_absolute_error: 10.8348\n",
            "Epoch 99/500\n",
            "105/105 [==============================] - 0s 2ms/step - loss: 152.9242 - mean_absolute_error: 9.4262 - val_loss: 202.8057 - val_mean_absolute_error: 10.7536\n",
            "Epoch 100/500\n",
            "105/105 [==============================] - 0s 2ms/step - loss: 153.1901 - mean_absolute_error: 9.4045 - val_loss: 201.9060 - val_mean_absolute_error: 10.7235\n",
            "Epoch 101/500\n",
            "105/105 [==============================] - 0s 2ms/step - loss: 151.9864 - mean_absolute_error: 9.3920 - val_loss: 201.1120 - val_mean_absolute_error: 10.7205\n",
            "Epoch 102/500\n",
            "105/105 [==============================] - 0s 2ms/step - loss: 149.9085 - mean_absolute_error: 9.2933 - val_loss: 205.8523 - val_mean_absolute_error: 10.7583\n",
            "Epoch 103/500\n",
            "105/105 [==============================] - 0s 2ms/step - loss: 149.3453 - mean_absolute_error: 9.3186 - val_loss: 206.4762 - val_mean_absolute_error: 10.7865\n",
            "Epoch 104/500\n",
            "105/105 [==============================] - 0s 2ms/step - loss: 149.2079 - mean_absolute_error: 9.2954 - val_loss: 212.7602 - val_mean_absolute_error: 10.9193\n",
            "Epoch 105/500\n",
            "105/105 [==============================] - 0s 2ms/step - loss: 147.4993 - mean_absolute_error: 9.2435 - val_loss: 210.6324 - val_mean_absolute_error: 10.8730\n",
            "Epoch 106/500\n",
            "105/105 [==============================] - 0s 2ms/step - loss: 147.7131 - mean_absolute_error: 9.1247 - val_loss: 214.8892 - val_mean_absolute_error: 10.9004\n",
            "Epoch 107/500\n",
            "105/105 [==============================] - 0s 2ms/step - loss: 146.7385 - mean_absolute_error: 9.0889 - val_loss: 206.7389 - val_mean_absolute_error: 10.7458\n",
            "Epoch 108/500\n",
            "105/105 [==============================] - 0s 2ms/step - loss: 145.0934 - mean_absolute_error: 9.1153 - val_loss: 210.7207 - val_mean_absolute_error: 10.8141\n",
            "Epoch 109/500\n",
            "105/105 [==============================] - 0s 2ms/step - loss: 146.9375 - mean_absolute_error: 9.1940 - val_loss: 210.2297 - val_mean_absolute_error: 10.8935\n",
            "Epoch 110/500\n",
            "105/105 [==============================] - 0s 2ms/step - loss: 144.8840 - mean_absolute_error: 9.0902 - val_loss: 215.2859 - val_mean_absolute_error: 10.8200\n",
            "Epoch 111/500\n",
            "105/105 [==============================] - 0s 2ms/step - loss: 144.3910 - mean_absolute_error: 9.0551 - val_loss: 216.7368 - val_mean_absolute_error: 10.8815\n",
            "Epoch 112/500\n",
            "105/105 [==============================] - 0s 2ms/step - loss: 143.0393 - mean_absolute_error: 8.9291 - val_loss: 216.0688 - val_mean_absolute_error: 10.8842\n",
            "Epoch 113/500\n",
            "105/105 [==============================] - 0s 2ms/step - loss: 142.3655 - mean_absolute_error: 9.0082 - val_loss: 213.2235 - val_mean_absolute_error: 10.8246\n",
            "Epoch 114/500\n",
            "105/105 [==============================] - 0s 2ms/step - loss: 141.1405 - mean_absolute_error: 8.9227 - val_loss: 204.1594 - val_mean_absolute_error: 10.6646\n",
            "Epoch 115/500\n",
            "105/105 [==============================] - 0s 1ms/step - loss: 141.3524 - mean_absolute_error: 8.9509 - val_loss: 217.0366 - val_mean_absolute_error: 10.9152\n",
            "Epoch 116/500\n",
            "105/105 [==============================] - 0s 2ms/step - loss: 140.3022 - mean_absolute_error: 8.9656 - val_loss: 207.3682 - val_mean_absolute_error: 10.7325\n",
            "Epoch 117/500\n",
            "105/105 [==============================] - 0s 2ms/step - loss: 139.7023 - mean_absolute_error: 8.8537 - val_loss: 214.8837 - val_mean_absolute_error: 10.8141\n",
            "Epoch 118/500\n",
            "105/105 [==============================] - 0s 2ms/step - loss: 140.0852 - mean_absolute_error: 8.9099 - val_loss: 217.2827 - val_mean_absolute_error: 10.8969\n",
            "Epoch 119/500\n",
            "105/105 [==============================] - 0s 2ms/step - loss: 137.2397 - mean_absolute_error: 8.7997 - val_loss: 211.2789 - val_mean_absolute_error: 10.7587\n",
            "Epoch 120/500\n",
            "105/105 [==============================] - 0s 2ms/step - loss: 137.5980 - mean_absolute_error: 8.8118 - val_loss: 212.3565 - val_mean_absolute_error: 10.8172\n",
            "Epoch 121/500\n",
            "105/105 [==============================] - 0s 2ms/step - loss: 136.6351 - mean_absolute_error: 8.8037 - val_loss: 215.2109 - val_mean_absolute_error: 10.8619\n",
            "Epoch 122/500\n",
            "105/105 [==============================] - 0s 2ms/step - loss: 136.4449 - mean_absolute_error: 8.7326 - val_loss: 209.6110 - val_mean_absolute_error: 10.7874\n",
            "Epoch 123/500\n",
            "105/105 [==============================] - 0s 2ms/step - loss: 135.3760 - mean_absolute_error: 8.6632 - val_loss: 218.0330 - val_mean_absolute_error: 10.8817\n",
            "Epoch 124/500\n",
            "105/105 [==============================] - 0s 2ms/step - loss: 135.4946 - mean_absolute_error: 8.6777 - val_loss: 214.6796 - val_mean_absolute_error: 10.8393\n",
            "Epoch 125/500\n",
            "105/105 [==============================] - 0s 2ms/step - loss: 134.5264 - mean_absolute_error: 8.6526 - val_loss: 218.2135 - val_mean_absolute_error: 10.8594\n",
            "Epoch 126/500\n",
            "105/105 [==============================] - 0s 2ms/step - loss: 134.1341 - mean_absolute_error: 8.5764 - val_loss: 217.8634 - val_mean_absolute_error: 10.9046\n",
            "Epoch 127/500\n",
            "105/105 [==============================] - 0s 2ms/step - loss: 133.6557 - mean_absolute_error: 8.5648 - val_loss: 210.6804 - val_mean_absolute_error: 10.7810\n",
            "Epoch 128/500\n",
            "105/105 [==============================] - 0s 2ms/step - loss: 132.2457 - mean_absolute_error: 8.5060 - val_loss: 210.3290 - val_mean_absolute_error: 10.7832\n",
            "Epoch 129/500\n",
            "105/105 [==============================] - 0s 2ms/step - loss: 131.7250 - mean_absolute_error: 8.4720 - val_loss: 205.9125 - val_mean_absolute_error: 10.7172\n",
            "Epoch 130/500\n",
            "105/105 [==============================] - 0s 2ms/step - loss: 131.0272 - mean_absolute_error: 8.4475 - val_loss: 208.0631 - val_mean_absolute_error: 10.8084\n",
            "Epoch 131/500\n",
            "105/105 [==============================] - 0s 2ms/step - loss: 131.6703 - mean_absolute_error: 8.5542 - val_loss: 197.7456 - val_mean_absolute_error: 10.6721\n",
            "Epoch 132/500\n",
            "105/105 [==============================] - 0s 2ms/step - loss: 129.7485 - mean_absolute_error: 8.3914 - val_loss: 219.0862 - val_mean_absolute_error: 10.9060\n",
            "Epoch 133/500\n",
            "105/105 [==============================] - 0s 2ms/step - loss: 129.1059 - mean_absolute_error: 8.2938 - val_loss: 211.9750 - val_mean_absolute_error: 10.8088\n",
            "Epoch 134/500\n",
            "105/105 [==============================] - 0s 2ms/step - loss: 129.3275 - mean_absolute_error: 8.3473 - val_loss: 209.9497 - val_mean_absolute_error: 10.8217\n",
            "Epoch 135/500\n",
            "105/105 [==============================] - 0s 2ms/step - loss: 127.8123 - mean_absolute_error: 8.3426 - val_loss: 205.5926 - val_mean_absolute_error: 10.7332\n",
            "Epoch 136/500\n",
            "105/105 [==============================] - 0s 2ms/step - loss: 127.7486 - mean_absolute_error: 8.2928 - val_loss: 208.1627 - val_mean_absolute_error: 10.8173\n",
            "Epoch 137/500\n",
            "105/105 [==============================] - 0s 2ms/step - loss: 127.3926 - mean_absolute_error: 8.3031 - val_loss: 211.2216 - val_mean_absolute_error: 10.8792\n",
            "Epoch 138/500\n",
            "105/105 [==============================] - 0s 2ms/step - loss: 127.7898 - mean_absolute_error: 8.3383 - val_loss: 207.4857 - val_mean_absolute_error: 10.8039\n",
            "Epoch 139/500\n",
            "105/105 [==============================] - 0s 2ms/step - loss: 126.4799 - mean_absolute_error: 8.2195 - val_loss: 222.9773 - val_mean_absolute_error: 11.0495\n",
            "Epoch 140/500\n",
            "105/105 [==============================] - 0s 2ms/step - loss: 125.5455 - mean_absolute_error: 8.2891 - val_loss: 204.7858 - val_mean_absolute_error: 10.7946\n",
            "Epoch 141/500\n",
            "105/105 [==============================] - 0s 2ms/step - loss: 125.4812 - mean_absolute_error: 8.2259 - val_loss: 214.5729 - val_mean_absolute_error: 10.9314\n",
            "Epoch 142/500\n",
            "105/105 [==============================] - 0s 2ms/step - loss: 123.8668 - mean_absolute_error: 8.1633 - val_loss: 213.4948 - val_mean_absolute_error: 10.9220\n",
            "Epoch 143/500\n",
            "105/105 [==============================] - 0s 2ms/step - loss: 124.4056 - mean_absolute_error: 8.2057 - val_loss: 214.7029 - val_mean_absolute_error: 10.9722\n",
            "Epoch 144/500\n",
            "105/105 [==============================] - 0s 2ms/step - loss: 123.5451 - mean_absolute_error: 8.1298 - val_loss: 207.4094 - val_mean_absolute_error: 10.8221\n",
            "Epoch 145/500\n",
            "105/105 [==============================] - 0s 2ms/step - loss: 123.1137 - mean_absolute_error: 8.1631 - val_loss: 205.7189 - val_mean_absolute_error: 10.8254\n",
            "Epoch 146/500\n",
            "105/105 [==============================] - 0s 2ms/step - loss: 122.0688 - mean_absolute_error: 8.0903 - val_loss: 208.2293 - val_mean_absolute_error: 10.8939\n",
            "Epoch 147/500\n",
            "105/105 [==============================] - 0s 2ms/step - loss: 121.6904 - mean_absolute_error: 8.0794 - val_loss: 209.9155 - val_mean_absolute_error: 10.8875\n",
            "Epoch 148/500\n",
            "105/105 [==============================] - 0s 2ms/step - loss: 121.9556 - mean_absolute_error: 8.1440 - val_loss: 210.3406 - val_mean_absolute_error: 10.9149\n",
            "Epoch 149/500\n",
            "105/105 [==============================] - 0s 2ms/step - loss: 121.0618 - mean_absolute_error: 8.0706 - val_loss: 215.8150 - val_mean_absolute_error: 11.0110\n",
            "Epoch 150/500\n",
            "105/105 [==============================] - 0s 2ms/step - loss: 119.8670 - mean_absolute_error: 8.0122 - val_loss: 217.0898 - val_mean_absolute_error: 11.0533\n",
            "Epoch 151/500\n",
            "105/105 [==============================] - 0s 2ms/step - loss: 120.4487 - mean_absolute_error: 8.0480 - val_loss: 214.4224 - val_mean_absolute_error: 11.0513\n",
            "Epoch 152/500\n",
            "105/105 [==============================] - 0s 2ms/step - loss: 120.2823 - mean_absolute_error: 8.0073 - val_loss: 221.5706 - val_mean_absolute_error: 11.1831\n",
            "Epoch 153/500\n",
            "105/105 [==============================] - 0s 2ms/step - loss: 119.8696 - mean_absolute_error: 8.0185 - val_loss: 214.5674 - val_mean_absolute_error: 11.0489\n",
            "Epoch 154/500\n",
            "105/105 [==============================] - 0s 2ms/step - loss: 118.4888 - mean_absolute_error: 7.9702 - val_loss: 215.0939 - val_mean_absolute_error: 11.0717\n",
            "Epoch 155/500\n",
            "105/105 [==============================] - 0s 2ms/step - loss: 117.6314 - mean_absolute_error: 7.9280 - val_loss: 207.8765 - val_mean_absolute_error: 10.9500\n",
            "Epoch 156/500\n",
            "105/105 [==============================] - 0s 2ms/step - loss: 118.1232 - mean_absolute_error: 8.0100 - val_loss: 207.4085 - val_mean_absolute_error: 10.9624\n",
            "Epoch 157/500\n",
            "105/105 [==============================] - 0s 2ms/step - loss: 116.2036 - mean_absolute_error: 7.9028 - val_loss: 213.3539 - val_mean_absolute_error: 11.0924\n",
            "Epoch 158/500\n",
            "105/105 [==============================] - 0s 2ms/step - loss: 116.0330 - mean_absolute_error: 7.8592 - val_loss: 207.5315 - val_mean_absolute_error: 10.9914\n",
            "Epoch 159/500\n",
            "105/105 [==============================] - 0s 2ms/step - loss: 115.5808 - mean_absolute_error: 7.9114 - val_loss: 203.6623 - val_mean_absolute_error: 10.9119\n",
            "Epoch 160/500\n",
            "105/105 [==============================] - 0s 2ms/step - loss: 114.7902 - mean_absolute_error: 7.8340 - val_loss: 203.0757 - val_mean_absolute_error: 10.9009\n",
            "Epoch 161/500\n",
            "105/105 [==============================] - 0s 2ms/step - loss: 114.1075 - mean_absolute_error: 7.8233 - val_loss: 208.3150 - val_mean_absolute_error: 11.0389\n",
            "Epoch 162/500\n",
            "105/105 [==============================] - 0s 2ms/step - loss: 113.7035 - mean_absolute_error: 7.7679 - val_loss: 212.3164 - val_mean_absolute_error: 11.1198\n",
            "Epoch 163/500\n",
            "105/105 [==============================] - 0s 2ms/step - loss: 113.3346 - mean_absolute_error: 7.8857 - val_loss: 201.6860 - val_mean_absolute_error: 10.9305\n",
            "Epoch 164/500\n",
            "105/105 [==============================] - 0s 2ms/step - loss: 112.9555 - mean_absolute_error: 7.8145 - val_loss: 209.1980 - val_mean_absolute_error: 11.0511\n",
            "Epoch 165/500\n",
            "105/105 [==============================] - 0s 2ms/step - loss: 112.1394 - mean_absolute_error: 7.8286 - val_loss: 201.3468 - val_mean_absolute_error: 10.9472\n",
            "Epoch 166/500\n",
            "105/105 [==============================] - 0s 2ms/step - loss: 110.8877 - mean_absolute_error: 7.7363 - val_loss: 214.9047 - val_mean_absolute_error: 11.1554\n",
            "Epoch 167/500\n",
            "105/105 [==============================] - 0s 1ms/step - loss: 111.5128 - mean_absolute_error: 7.7153 - val_loss: 215.1610 - val_mean_absolute_error: 11.1961\n",
            "Epoch 168/500\n",
            "105/105 [==============================] - 0s 2ms/step - loss: 110.8267 - mean_absolute_error: 7.7407 - val_loss: 209.9838 - val_mean_absolute_error: 11.0720\n",
            "Epoch 169/500\n",
            "105/105 [==============================] - 0s 2ms/step - loss: 109.8462 - mean_absolute_error: 7.6714 - val_loss: 209.2584 - val_mean_absolute_error: 11.0699\n",
            "Epoch 170/500\n",
            "105/105 [==============================] - 0s 2ms/step - loss: 108.1301 - mean_absolute_error: 7.5761 - val_loss: 206.7159 - val_mean_absolute_error: 11.0727\n",
            "Epoch 171/500\n",
            "105/105 [==============================] - 0s 2ms/step - loss: 108.3132 - mean_absolute_error: 7.6569 - val_loss: 211.7128 - val_mean_absolute_error: 11.1277\n",
            "Epoch 172/500\n",
            "105/105 [==============================] - 0s 2ms/step - loss: 108.3222 - mean_absolute_error: 7.6868 - val_loss: 206.6812 - val_mean_absolute_error: 11.0326\n",
            "Epoch 173/500\n",
            "105/105 [==============================] - 0s 2ms/step - loss: 106.8243 - mean_absolute_error: 7.5473 - val_loss: 212.7982 - val_mean_absolute_error: 11.1532\n",
            "Epoch 174/500\n",
            "105/105 [==============================] - 0s 2ms/step - loss: 107.0043 - mean_absolute_error: 7.6196 - val_loss: 218.6268 - val_mean_absolute_error: 11.2589\n",
            "Epoch 175/500\n",
            "105/105 [==============================] - 0s 2ms/step - loss: 108.6012 - mean_absolute_error: 7.6622 - val_loss: 221.0937 - val_mean_absolute_error: 11.2901\n",
            "Epoch 176/500\n",
            "105/105 [==============================] - 0s 2ms/step - loss: 106.1888 - mean_absolute_error: 7.6174 - val_loss: 208.9025 - val_mean_absolute_error: 11.0909\n",
            "Epoch 177/500\n",
            "105/105 [==============================] - 0s 2ms/step - loss: 104.8660 - mean_absolute_error: 7.4932 - val_loss: 207.9237 - val_mean_absolute_error: 11.0912\n",
            "Epoch 178/500\n",
            "105/105 [==============================] - 0s 2ms/step - loss: 104.1732 - mean_absolute_error: 7.4677 - val_loss: 222.2214 - val_mean_absolute_error: 11.3495\n",
            "Epoch 179/500\n",
            "105/105 [==============================] - 0s 2ms/step - loss: 103.8128 - mean_absolute_error: 7.4817 - val_loss: 226.6378 - val_mean_absolute_error: 11.4378\n",
            "Epoch 180/500\n",
            "105/105 [==============================] - 0s 2ms/step - loss: 104.9917 - mean_absolute_error: 7.5995 - val_loss: 206.8601 - val_mean_absolute_error: 11.0923\n",
            "Epoch 181/500\n",
            "105/105 [==============================] - 0s 2ms/step - loss: 102.2916 - mean_absolute_error: 7.5090 - val_loss: 214.5586 - val_mean_absolute_error: 11.2174\n",
            "Epoch 182/500\n",
            "105/105 [==============================] - 0s 2ms/step - loss: 102.3659 - mean_absolute_error: 7.4916 - val_loss: 213.2684 - val_mean_absolute_error: 11.2129\n",
            "Epoch 183/500\n",
            "105/105 [==============================] - 0s 2ms/step - loss: 101.4186 - mean_absolute_error: 7.4106 - val_loss: 217.2538 - val_mean_absolute_error: 11.2714\n",
            "Epoch 184/500\n",
            "105/105 [==============================] - 0s 2ms/step - loss: 100.9667 - mean_absolute_error: 7.4117 - val_loss: 219.9849 - val_mean_absolute_error: 11.3143\n",
            "Epoch 185/500\n",
            "105/105 [==============================] - 0s 2ms/step - loss: 100.7235 - mean_absolute_error: 7.4137 - val_loss: 221.1641 - val_mean_absolute_error: 11.3216\n",
            "Epoch 186/500\n",
            "105/105 [==============================] - 0s 2ms/step - loss: 100.6458 - mean_absolute_error: 7.4320 - val_loss: 217.5927 - val_mean_absolute_error: 11.2787\n",
            "Epoch 187/500\n",
            "105/105 [==============================] - 0s 2ms/step - loss: 99.5185 - mean_absolute_error: 7.3546 - val_loss: 208.3760 - val_mean_absolute_error: 11.1021\n",
            "Epoch 188/500\n",
            "105/105 [==============================] - 0s 2ms/step - loss: 99.2165 - mean_absolute_error: 7.3546 - val_loss: 213.8536 - val_mean_absolute_error: 11.2277\n",
            "Epoch 189/500\n",
            "105/105 [==============================] - 0s 2ms/step - loss: 98.8958 - mean_absolute_error: 7.3751 - val_loss: 203.5968 - val_mean_absolute_error: 11.0474\n",
            "Epoch 190/500\n",
            "105/105 [==============================] - 0s 2ms/step - loss: 99.4772 - mean_absolute_error: 7.3833 - val_loss: 207.3607 - val_mean_absolute_error: 11.0807\n",
            "Epoch 191/500\n",
            "105/105 [==============================] - 0s 2ms/step - loss: 96.7765 - mean_absolute_error: 7.2222 - val_loss: 218.8629 - val_mean_absolute_error: 11.3047\n",
            "Epoch 192/500\n",
            "105/105 [==============================] - 0s 2ms/step - loss: 96.4520 - mean_absolute_error: 7.3176 - val_loss: 216.2033 - val_mean_absolute_error: 11.2769\n",
            "Epoch 193/500\n",
            "105/105 [==============================] - 0s 2ms/step - loss: 96.7509 - mean_absolute_error: 7.3352 - val_loss: 216.1495 - val_mean_absolute_error: 11.2752\n",
            "Epoch 194/500\n",
            "105/105 [==============================] - 0s 2ms/step - loss: 96.0245 - mean_absolute_error: 7.2385 - val_loss: 220.4714 - val_mean_absolute_error: 11.3446\n",
            "Epoch 195/500\n",
            "105/105 [==============================] - 0s 2ms/step - loss: 94.6473 - mean_absolute_error: 7.2319 - val_loss: 210.4284 - val_mean_absolute_error: 11.2018\n",
            "Epoch 196/500\n",
            "105/105 [==============================] - 0s 2ms/step - loss: 94.9559 - mean_absolute_error: 7.2153 - val_loss: 211.2425 - val_mean_absolute_error: 11.2185\n",
            "Epoch 197/500\n",
            "105/105 [==============================] - 0s 2ms/step - loss: 94.8894 - mean_absolute_error: 7.2337 - val_loss: 219.4828 - val_mean_absolute_error: 11.3852\n",
            "Epoch 198/500\n",
            "105/105 [==============================] - 0s 2ms/step - loss: 93.1490 - mean_absolute_error: 7.1499 - val_loss: 216.5109 - val_mean_absolute_error: 11.3419\n",
            "Epoch 199/500\n",
            "105/105 [==============================] - 0s 2ms/step - loss: 93.0103 - mean_absolute_error: 7.1854 - val_loss: 213.5796 - val_mean_absolute_error: 11.2822\n",
            "Epoch 200/500\n",
            "105/105 [==============================] - 0s 2ms/step - loss: 92.6237 - mean_absolute_error: 7.1670 - val_loss: 224.7579 - val_mean_absolute_error: 11.4526\n",
            "Epoch 201/500\n",
            "105/105 [==============================] - 0s 2ms/step - loss: 92.3740 - mean_absolute_error: 7.1420 - val_loss: 223.0133 - val_mean_absolute_error: 11.4505\n",
            "Epoch 202/500\n",
            "105/105 [==============================] - 0s 2ms/step - loss: 92.3955 - mean_absolute_error: 7.1534 - val_loss: 222.1356 - val_mean_absolute_error: 11.4550\n",
            "Epoch 203/500\n",
            "105/105 [==============================] - 0s 2ms/step - loss: 90.9455 - mean_absolute_error: 7.1483 - val_loss: 210.5034 - val_mean_absolute_error: 11.2512\n",
            "Epoch 204/500\n",
            "105/105 [==============================] - 0s 2ms/step - loss: 90.0674 - mean_absolute_error: 7.1307 - val_loss: 223.5760 - val_mean_absolute_error: 11.4795\n",
            "Epoch 205/500\n",
            "105/105 [==============================] - 0s 2ms/step - loss: 89.6304 - mean_absolute_error: 7.0745 - val_loss: 220.1374 - val_mean_absolute_error: 11.4515\n",
            "Epoch 206/500\n",
            "105/105 [==============================] - 0s 2ms/step - loss: 89.9398 - mean_absolute_error: 7.1588 - val_loss: 204.2166 - val_mean_absolute_error: 11.1986\n",
            "Epoch 207/500\n",
            "105/105 [==============================] - 0s 2ms/step - loss: 89.3291 - mean_absolute_error: 7.0306 - val_loss: 211.8392 - val_mean_absolute_error: 11.2535\n",
            "Epoch 208/500\n",
            "105/105 [==============================] - 0s 2ms/step - loss: 88.7255 - mean_absolute_error: 7.0608 - val_loss: 215.3613 - val_mean_absolute_error: 11.3936\n",
            "Epoch 209/500\n",
            "105/105 [==============================] - 0s 2ms/step - loss: 87.8493 - mean_absolute_error: 6.9854 - val_loss: 223.0585 - val_mean_absolute_error: 11.4941\n",
            "Epoch 210/500\n",
            "105/105 [==============================] - 0s 2ms/step - loss: 85.8987 - mean_absolute_error: 6.9974 - val_loss: 207.7922 - val_mean_absolute_error: 11.3310\n",
            "Epoch 211/500\n",
            "105/105 [==============================] - 0s 2ms/step - loss: 86.7945 - mean_absolute_error: 7.0704 - val_loss: 222.5820 - val_mean_absolute_error: 11.5042\n",
            "Epoch 212/500\n",
            "105/105 [==============================] - 0s 2ms/step - loss: 85.6579 - mean_absolute_error: 6.9840 - val_loss: 232.7672 - val_mean_absolute_error: 11.7215\n",
            "Epoch 213/500\n",
            "105/105 [==============================] - 0s 2ms/step - loss: 84.7456 - mean_absolute_error: 6.8746 - val_loss: 230.3640 - val_mean_absolute_error: 11.6373\n",
            "Epoch 214/500\n",
            "105/105 [==============================] - 0s 2ms/step - loss: 84.9157 - mean_absolute_error: 6.9862 - val_loss: 241.7545 - val_mean_absolute_error: 11.8692\n",
            "Epoch 215/500\n",
            "105/105 [==============================] - 0s 2ms/step - loss: 84.1292 - mean_absolute_error: 6.9820 - val_loss: 227.7816 - val_mean_absolute_error: 11.5981\n",
            "Epoch 216/500\n",
            "105/105 [==============================] - 0s 2ms/step - loss: 83.0334 - mean_absolute_error: 6.8890 - val_loss: 218.5431 - val_mean_absolute_error: 11.5086\n",
            "Epoch 217/500\n",
            "105/105 [==============================] - 0s 2ms/step - loss: 83.5218 - mean_absolute_error: 6.8899 - val_loss: 223.0159 - val_mean_absolute_error: 11.5678\n",
            "Epoch 218/500\n",
            "105/105 [==============================] - 0s 2ms/step - loss: 82.3072 - mean_absolute_error: 6.8557 - val_loss: 234.5134 - val_mean_absolute_error: 11.7631\n",
            "Epoch 219/500\n",
            "105/105 [==============================] - 0s 2ms/step - loss: 81.8479 - mean_absolute_error: 6.8352 - val_loss: 245.3457 - val_mean_absolute_error: 11.9620\n",
            "Epoch 220/500\n",
            "105/105 [==============================] - 0s 2ms/step - loss: 80.8939 - mean_absolute_error: 6.8139 - val_loss: 238.2882 - val_mean_absolute_error: 11.8549\n",
            "Epoch 221/500\n",
            "105/105 [==============================] - 0s 2ms/step - loss: 80.0611 - mean_absolute_error: 6.7070 - val_loss: 229.1701 - val_mean_absolute_error: 11.7365\n",
            "Epoch 222/500\n",
            "105/105 [==============================] - 0s 2ms/step - loss: 80.4031 - mean_absolute_error: 6.8616 - val_loss: 233.8215 - val_mean_absolute_error: 11.9114\n",
            "Epoch 223/500\n",
            "105/105 [==============================] - 0s 2ms/step - loss: 78.3628 - mean_absolute_error: 6.6106 - val_loss: 239.8091 - val_mean_absolute_error: 11.9370\n",
            "Epoch 224/500\n",
            "105/105 [==============================] - 0s 2ms/step - loss: 78.6781 - mean_absolute_error: 6.7079 - val_loss: 246.1917 - val_mean_absolute_error: 12.0333\n",
            "Epoch 225/500\n",
            "105/105 [==============================] - 0s 2ms/step - loss: 77.9643 - mean_absolute_error: 6.6204 - val_loss: 253.0920 - val_mean_absolute_error: 12.1499\n",
            "Epoch 226/500\n",
            "105/105 [==============================] - 0s 2ms/step - loss: 77.0405 - mean_absolute_error: 6.6668 - val_loss: 244.6413 - val_mean_absolute_error: 12.0891\n",
            "Epoch 227/500\n",
            "105/105 [==============================] - 0s 2ms/step - loss: 76.4031 - mean_absolute_error: 6.5575 - val_loss: 253.1896 - val_mean_absolute_error: 12.1610\n",
            "Epoch 228/500\n",
            "105/105 [==============================] - 0s 2ms/step - loss: 75.4790 - mean_absolute_error: 6.5298 - val_loss: 237.3567 - val_mean_absolute_error: 11.9366\n",
            "Epoch 229/500\n",
            "105/105 [==============================] - 0s 1ms/step - loss: 74.9878 - mean_absolute_error: 6.5677 - val_loss: 246.3497 - val_mean_absolute_error: 12.1196\n",
            "Epoch 230/500\n",
            "105/105 [==============================] - 0s 2ms/step - loss: 75.7730 - mean_absolute_error: 6.5501 - val_loss: 250.6365 - val_mean_absolute_error: 12.1249\n",
            "Epoch 231/500\n",
            "105/105 [==============================] - 0s 2ms/step - loss: 74.3483 - mean_absolute_error: 6.5607 - val_loss: 253.7438 - val_mean_absolute_error: 12.2060\n",
            "Epoch 232/500\n",
            "105/105 [==============================] - 0s 2ms/step - loss: 73.1818 - mean_absolute_error: 6.4493 - val_loss: 251.8917 - val_mean_absolute_error: 12.2041\n",
            "Epoch 233/500\n",
            "105/105 [==============================] - 0s 2ms/step - loss: 74.1912 - mean_absolute_error: 6.5802 - val_loss: 255.1380 - val_mean_absolute_error: 12.2472\n",
            "Epoch 234/500\n",
            "105/105 [==============================] - 0s 2ms/step - loss: 72.1959 - mean_absolute_error: 6.4623 - val_loss: 244.9300 - val_mean_absolute_error: 12.0998\n",
            "Epoch 235/500\n",
            "105/105 [==============================] - 0s 2ms/step - loss: 71.5946 - mean_absolute_error: 6.4466 - val_loss: 245.8449 - val_mean_absolute_error: 12.1595\n",
            "Epoch 236/500\n",
            "105/105 [==============================] - 0s 2ms/step - loss: 71.1083 - mean_absolute_error: 6.3961 - val_loss: 255.2902 - val_mean_absolute_error: 12.2856\n",
            "Epoch 237/500\n",
            "105/105 [==============================] - 0s 2ms/step - loss: 70.8611 - mean_absolute_error: 6.3851 - val_loss: 250.8847 - val_mean_absolute_error: 12.1883\n",
            "Epoch 238/500\n",
            "105/105 [==============================] - 0s 2ms/step - loss: 70.5248 - mean_absolute_error: 6.3452 - val_loss: 261.4630 - val_mean_absolute_error: 12.4123\n",
            "Epoch 239/500\n",
            "105/105 [==============================] - 0s 2ms/step - loss: 69.7242 - mean_absolute_error: 6.3459 - val_loss: 250.2131 - val_mean_absolute_error: 12.2405\n",
            "Epoch 240/500\n",
            "105/105 [==============================] - 0s 2ms/step - loss: 70.1909 - mean_absolute_error: 6.3362 - val_loss: 256.6008 - val_mean_absolute_error: 12.3130\n",
            "Epoch 241/500\n",
            "105/105 [==============================] - 0s 2ms/step - loss: 68.5479 - mean_absolute_error: 6.2521 - val_loss: 251.0096 - val_mean_absolute_error: 12.2704\n",
            "Epoch 242/500\n",
            "105/105 [==============================] - 0s 2ms/step - loss: 68.4507 - mean_absolute_error: 6.2485 - val_loss: 255.5765 - val_mean_absolute_error: 12.3899\n",
            "Epoch 243/500\n",
            "105/105 [==============================] - 0s 2ms/step - loss: 66.8536 - mean_absolute_error: 6.1539 - val_loss: 262.4040 - val_mean_absolute_error: 12.5456\n",
            "Epoch 244/500\n",
            "105/105 [==============================] - 0s 2ms/step - loss: 66.3372 - mean_absolute_error: 6.0747 - val_loss: 243.3488 - val_mean_absolute_error: 12.2676\n",
            "Epoch 245/500\n",
            "105/105 [==============================] - 0s 2ms/step - loss: 65.1709 - mean_absolute_error: 6.0980 - val_loss: 255.8833 - val_mean_absolute_error: 12.5060\n",
            "Epoch 246/500\n",
            "105/105 [==============================] - 0s 2ms/step - loss: 66.0986 - mean_absolute_error: 6.0857 - val_loss: 246.0306 - val_mean_absolute_error: 12.2792\n",
            "Epoch 247/500\n",
            "105/105 [==============================] - 0s 2ms/step - loss: 63.5407 - mean_absolute_error: 5.9854 - val_loss: 234.7348 - val_mean_absolute_error: 12.1863\n",
            "Epoch 248/500\n",
            "105/105 [==============================] - 0s 2ms/step - loss: 63.5547 - mean_absolute_error: 6.0381 - val_loss: 239.2745 - val_mean_absolute_error: 12.2522\n",
            "Epoch 249/500\n",
            "105/105 [==============================] - 0s 2ms/step - loss: 63.3230 - mean_absolute_error: 6.0136 - val_loss: 232.3764 - val_mean_absolute_error: 12.1428\n",
            "Epoch 250/500\n",
            "105/105 [==============================] - 0s 2ms/step - loss: 62.5095 - mean_absolute_error: 5.9646 - val_loss: 256.2441 - val_mean_absolute_error: 12.5138\n",
            "Epoch 251/500\n",
            "105/105 [==============================] - 0s 2ms/step - loss: 61.3665 - mean_absolute_error: 5.8523 - val_loss: 255.7439 - val_mean_absolute_error: 12.5531\n",
            "Epoch 252/500\n",
            "105/105 [==============================] - 0s 2ms/step - loss: 60.3912 - mean_absolute_error: 5.8517 - val_loss: 259.6986 - val_mean_absolute_error: 12.6399\n",
            "Epoch 253/500\n",
            "105/105 [==============================] - 0s 2ms/step - loss: 59.1722 - mean_absolute_error: 5.7501 - val_loss: 266.9363 - val_mean_absolute_error: 12.7886\n",
            "Epoch 254/500\n",
            "105/105 [==============================] - 0s 2ms/step - loss: 59.9503 - mean_absolute_error: 5.8420 - val_loss: 252.4568 - val_mean_absolute_error: 12.5565\n",
            "Epoch 255/500\n",
            "105/105 [==============================] - 0s 2ms/step - loss: 58.5860 - mean_absolute_error: 5.7621 - val_loss: 248.8280 - val_mean_absolute_error: 12.5392\n",
            "Epoch 256/500\n",
            "105/105 [==============================] - 0s 2ms/step - loss: 57.8784 - mean_absolute_error: 5.6578 - val_loss: 257.3299 - val_mean_absolute_error: 12.6591\n",
            "Epoch 257/500\n",
            "105/105 [==============================] - 0s 2ms/step - loss: 57.1819 - mean_absolute_error: 5.6475 - val_loss: 255.3768 - val_mean_absolute_error: 12.6149\n",
            "Epoch 258/500\n",
            "105/105 [==============================] - 0s 2ms/step - loss: 56.3014 - mean_absolute_error: 5.5993 - val_loss: 273.2430 - val_mean_absolute_error: 12.9960\n",
            "Epoch 259/500\n",
            "105/105 [==============================] - 0s 2ms/step - loss: 56.0764 - mean_absolute_error: 5.6355 - val_loss: 260.5053 - val_mean_absolute_error: 12.7405\n",
            "Epoch 260/500\n",
            "105/105 [==============================] - 0s 2ms/step - loss: 55.6758 - mean_absolute_error: 5.5364 - val_loss: 252.0096 - val_mean_absolute_error: 12.6435\n",
            "Epoch 261/500\n",
            "105/105 [==============================] - 0s 2ms/step - loss: 54.5057 - mean_absolute_error: 5.4960 - val_loss: 250.9503 - val_mean_absolute_error: 12.5996\n",
            "Epoch 262/500\n",
            "105/105 [==============================] - 0s 2ms/step - loss: 53.8855 - mean_absolute_error: 5.5008 - val_loss: 268.6657 - val_mean_absolute_error: 12.9062\n",
            "Epoch 263/500\n",
            "105/105 [==============================] - 0s 2ms/step - loss: 53.7147 - mean_absolute_error: 5.5032 - val_loss: 267.5559 - val_mean_absolute_error: 12.9134\n",
            "Epoch 264/500\n",
            "105/105 [==============================] - 0s 2ms/step - loss: 53.6122 - mean_absolute_error: 5.5172 - val_loss: 249.5021 - val_mean_absolute_error: 12.5965\n",
            "Epoch 265/500\n",
            "105/105 [==============================] - 0s 2ms/step - loss: 52.2087 - mean_absolute_error: 5.4129 - val_loss: 260.9909 - val_mean_absolute_error: 12.8191\n",
            "Epoch 266/500\n",
            "105/105 [==============================] - 0s 2ms/step - loss: 52.4726 - mean_absolute_error: 5.4105 - val_loss: 256.3692 - val_mean_absolute_error: 12.7630\n",
            "Epoch 267/500\n",
            "105/105 [==============================] - 0s 2ms/step - loss: 51.1859 - mean_absolute_error: 5.3811 - val_loss: 256.1981 - val_mean_absolute_error: 12.7005\n",
            "Epoch 268/500\n",
            "105/105 [==============================] - 0s 2ms/step - loss: 51.5775 - mean_absolute_error: 5.3292 - val_loss: 259.6124 - val_mean_absolute_error: 12.8408\n",
            "Epoch 269/500\n",
            "105/105 [==============================] - 0s 2ms/step - loss: 51.6107 - mean_absolute_error: 5.3998 - val_loss: 257.8451 - val_mean_absolute_error: 12.8256\n",
            "Epoch 270/500\n",
            "105/105 [==============================] - 0s 2ms/step - loss: 50.0428 - mean_absolute_error: 5.2936 - val_loss: 265.2308 - val_mean_absolute_error: 12.9047\n",
            "Epoch 271/500\n",
            "105/105 [==============================] - 0s 2ms/step - loss: 49.3734 - mean_absolute_error: 5.3214 - val_loss: 264.2028 - val_mean_absolute_error: 12.8740\n",
            "Epoch 272/500\n",
            "105/105 [==============================] - 0s 2ms/step - loss: 49.0311 - mean_absolute_error: 5.1807 - val_loss: 275.7538 - val_mean_absolute_error: 13.1444\n",
            "Epoch 273/500\n",
            "105/105 [==============================] - 0s 2ms/step - loss: 49.6197 - mean_absolute_error: 5.3569 - val_loss: 267.8907 - val_mean_absolute_error: 13.0033\n",
            "Epoch 274/500\n",
            "105/105 [==============================] - 0s 2ms/step - loss: 48.8686 - mean_absolute_error: 5.2889 - val_loss: 259.4076 - val_mean_absolute_error: 12.8531\n",
            "Epoch 275/500\n",
            "105/105 [==============================] - 0s 2ms/step - loss: 47.5088 - mean_absolute_error: 5.1201 - val_loss: 252.7575 - val_mean_absolute_error: 12.6935\n",
            "Epoch 276/500\n",
            "105/105 [==============================] - 0s 2ms/step - loss: 47.6139 - mean_absolute_error: 5.1054 - val_loss: 268.1159 - val_mean_absolute_error: 13.0181\n",
            "Epoch 277/500\n",
            "105/105 [==============================] - 0s 2ms/step - loss: 46.9103 - mean_absolute_error: 4.9790 - val_loss: 267.6540 - val_mean_absolute_error: 13.0463\n",
            "Epoch 278/500\n",
            "105/105 [==============================] - 0s 2ms/step - loss: 47.0529 - mean_absolute_error: 5.1839 - val_loss: 261.1907 - val_mean_absolute_error: 12.9432\n",
            "Epoch 279/500\n",
            "105/105 [==============================] - 0s 2ms/step - loss: 46.1002 - mean_absolute_error: 5.0765 - val_loss: 266.4266 - val_mean_absolute_error: 12.9588\n",
            "Epoch 280/500\n",
            "105/105 [==============================] - 0s 2ms/step - loss: 45.8774 - mean_absolute_error: 5.0331 - val_loss: 262.2753 - val_mean_absolute_error: 12.8702\n",
            "Epoch 281/500\n",
            "105/105 [==============================] - 0s 2ms/step - loss: 45.0447 - mean_absolute_error: 4.9877 - val_loss: 274.9125 - val_mean_absolute_error: 13.1437\n",
            "Epoch 282/500\n",
            "105/105 [==============================] - 0s 2ms/step - loss: 44.8877 - mean_absolute_error: 5.0039 - val_loss: 273.5358 - val_mean_absolute_error: 13.1471\n",
            "Epoch 283/500\n",
            "105/105 [==============================] - 0s 2ms/step - loss: 44.3107 - mean_absolute_error: 4.9832 - val_loss: 262.4001 - val_mean_absolute_error: 12.9336\n",
            "Epoch 284/500\n",
            "105/105 [==============================] - 0s 2ms/step - loss: 44.5067 - mean_absolute_error: 4.9778 - val_loss: 275.5626 - val_mean_absolute_error: 13.1294\n",
            "Epoch 285/500\n",
            "105/105 [==============================] - 0s 2ms/step - loss: 43.8451 - mean_absolute_error: 4.8864 - val_loss: 278.6036 - val_mean_absolute_error: 13.2223\n",
            "Epoch 286/500\n",
            "105/105 [==============================] - 0s 2ms/step - loss: 43.9332 - mean_absolute_error: 4.9235 - val_loss: 264.0994 - val_mean_absolute_error: 13.0071\n",
            "Epoch 287/500\n",
            "105/105 [==============================] - 0s 2ms/step - loss: 43.0497 - mean_absolute_error: 4.8572 - val_loss: 261.9416 - val_mean_absolute_error: 12.9466\n",
            "Epoch 288/500\n",
            "105/105 [==============================] - 0s 2ms/step - loss: 42.5955 - mean_absolute_error: 4.8505 - val_loss: 280.7713 - val_mean_absolute_error: 13.2654\n",
            "Epoch 289/500\n",
            "105/105 [==============================] - 0s 2ms/step - loss: 42.3356 - mean_absolute_error: 4.7722 - val_loss: 277.9572 - val_mean_absolute_error: 13.2438\n",
            "Epoch 290/500\n",
            "105/105 [==============================] - 0s 2ms/step - loss: 41.3989 - mean_absolute_error: 4.7315 - val_loss: 277.6480 - val_mean_absolute_error: 13.1747\n",
            "Epoch 291/500\n",
            "105/105 [==============================] - 0s 2ms/step - loss: 41.9531 - mean_absolute_error: 4.8574 - val_loss: 287.5968 - val_mean_absolute_error: 13.4070\n",
            "Epoch 292/500\n",
            "105/105 [==============================] - 0s 2ms/step - loss: 41.5256 - mean_absolute_error: 4.8009 - val_loss: 278.8743 - val_mean_absolute_error: 13.2529\n",
            "Epoch 293/500\n",
            "105/105 [==============================] - 0s 2ms/step - loss: 39.8591 - mean_absolute_error: 4.6036 - val_loss: 287.4149 - val_mean_absolute_error: 13.4015\n",
            "Epoch 294/500\n",
            "105/105 [==============================] - 0s 2ms/step - loss: 40.3756 - mean_absolute_error: 4.7135 - val_loss: 271.0903 - val_mean_absolute_error: 13.0791\n",
            "Epoch 295/500\n",
            "105/105 [==============================] - 0s 2ms/step - loss: 39.8447 - mean_absolute_error: 4.7097 - val_loss: 283.1322 - val_mean_absolute_error: 13.2860\n",
            "Epoch 296/500\n",
            "105/105 [==============================] - 0s 2ms/step - loss: 39.3707 - mean_absolute_error: 4.7066 - val_loss: 271.3648 - val_mean_absolute_error: 13.0808\n",
            "Epoch 297/500\n",
            "105/105 [==============================] - 0s 2ms/step - loss: 40.2053 - mean_absolute_error: 4.6667 - val_loss: 273.7072 - val_mean_absolute_error: 13.0962\n",
            "Epoch 298/500\n",
            "105/105 [==============================] - 0s 2ms/step - loss: 38.8544 - mean_absolute_error: 4.6781 - val_loss: 272.8206 - val_mean_absolute_error: 13.1034\n",
            "Epoch 299/500\n",
            "105/105 [==============================] - 0s 2ms/step - loss: 38.4739 - mean_absolute_error: 4.5641 - val_loss: 287.1614 - val_mean_absolute_error: 13.3554\n",
            "Epoch 300/500\n",
            "105/105 [==============================] - 0s 2ms/step - loss: 38.1610 - mean_absolute_error: 4.5775 - val_loss: 283.6272 - val_mean_absolute_error: 13.3668\n",
            "Epoch 301/500\n",
            "105/105 [==============================] - 0s 2ms/step - loss: 39.0091 - mean_absolute_error: 4.6996 - val_loss: 288.6782 - val_mean_absolute_error: 13.3765\n",
            "Epoch 302/500\n",
            "105/105 [==============================] - 0s 2ms/step - loss: 37.4672 - mean_absolute_error: 4.4803 - val_loss: 288.0894 - val_mean_absolute_error: 13.4165\n",
            "Epoch 303/500\n",
            "105/105 [==============================] - 0s 2ms/step - loss: 37.8982 - mean_absolute_error: 4.5973 - val_loss: 292.7741 - val_mean_absolute_error: 13.4936\n",
            "Epoch 304/500\n",
            "105/105 [==============================] - 0s 2ms/step - loss: 37.2470 - mean_absolute_error: 4.4826 - val_loss: 271.4251 - val_mean_absolute_error: 13.1065\n",
            "Epoch 305/500\n",
            "105/105 [==============================] - 0s 2ms/step - loss: 35.8825 - mean_absolute_error: 4.3606 - val_loss: 273.6282 - val_mean_absolute_error: 13.2170\n",
            "Epoch 306/500\n",
            "105/105 [==============================] - 0s 2ms/step - loss: 36.7608 - mean_absolute_error: 4.5437 - val_loss: 287.2491 - val_mean_absolute_error: 13.4423\n",
            "Epoch 307/500\n",
            "105/105 [==============================] - 0s 2ms/step - loss: 36.0806 - mean_absolute_error: 4.4467 - val_loss: 287.6277 - val_mean_absolute_error: 13.4544\n",
            "Epoch 308/500\n",
            "105/105 [==============================] - 0s 2ms/step - loss: 34.8438 - mean_absolute_error: 4.3772 - val_loss: 291.5990 - val_mean_absolute_error: 13.4868\n",
            "Epoch 309/500\n",
            "105/105 [==============================] - 0s 2ms/step - loss: 34.6055 - mean_absolute_error: 4.2988 - val_loss: 297.5939 - val_mean_absolute_error: 13.6290\n",
            "Epoch 310/500\n",
            "105/105 [==============================] - 0s 2ms/step - loss: 35.0246 - mean_absolute_error: 4.4026 - val_loss: 288.5735 - val_mean_absolute_error: 13.4870\n",
            "Epoch 311/500\n",
            "105/105 [==============================] - 0s 2ms/step - loss: 34.5345 - mean_absolute_error: 4.2983 - val_loss: 287.6310 - val_mean_absolute_error: 13.4212\n",
            "Epoch 312/500\n",
            "105/105 [==============================] - 0s 2ms/step - loss: 33.8555 - mean_absolute_error: 4.3720 - val_loss: 305.8133 - val_mean_absolute_error: 13.8040\n",
            "Epoch 313/500\n",
            "105/105 [==============================] - 0s 2ms/step - loss: 35.1092 - mean_absolute_error: 4.4087 - val_loss: 287.8069 - val_mean_absolute_error: 13.5112\n",
            "Epoch 314/500\n",
            "105/105 [==============================] - 0s 2ms/step - loss: 34.5214 - mean_absolute_error: 4.3128 - val_loss: 291.4464 - val_mean_absolute_error: 13.5406\n",
            "Epoch 315/500\n",
            "105/105 [==============================] - 0s 2ms/step - loss: 33.3806 - mean_absolute_error: 4.2383 - val_loss: 288.5484 - val_mean_absolute_error: 13.4599\n",
            "Epoch 316/500\n",
            "105/105 [==============================] - 0s 2ms/step - loss: 32.6699 - mean_absolute_error: 4.2316 - val_loss: 292.9984 - val_mean_absolute_error: 13.6512\n",
            "Epoch 317/500\n",
            "105/105 [==============================] - 0s 2ms/step - loss: 34.0454 - mean_absolute_error: 4.3335 - val_loss: 294.5166 - val_mean_absolute_error: 13.6448\n",
            "Epoch 318/500\n",
            "105/105 [==============================] - 0s 2ms/step - loss: 32.4905 - mean_absolute_error: 4.2063 - val_loss: 301.5762 - val_mean_absolute_error: 13.7135\n",
            "Epoch 319/500\n",
            "105/105 [==============================] - 0s 2ms/step - loss: 32.1765 - mean_absolute_error: 4.1359 - val_loss: 288.6564 - val_mean_absolute_error: 13.4576\n",
            "Epoch 320/500\n",
            "105/105 [==============================] - 0s 2ms/step - loss: 32.6823 - mean_absolute_error: 4.2143 - val_loss: 291.2843 - val_mean_absolute_error: 13.6081\n",
            "Epoch 321/500\n",
            "105/105 [==============================] - 0s 2ms/step - loss: 31.7580 - mean_absolute_error: 4.1285 - val_loss: 294.6506 - val_mean_absolute_error: 13.6008\n",
            "Epoch 322/500\n",
            "105/105 [==============================] - 0s 2ms/step - loss: 30.7617 - mean_absolute_error: 4.0385 - val_loss: 295.0350 - val_mean_absolute_error: 13.6723\n",
            "Epoch 323/500\n",
            "105/105 [==============================] - 0s 2ms/step - loss: 32.6004 - mean_absolute_error: 4.2021 - val_loss: 275.0230 - val_mean_absolute_error: 13.3982\n",
            "Epoch 324/500\n",
            "105/105 [==============================] - 0s 2ms/step - loss: 31.4450 - mean_absolute_error: 4.1111 - val_loss: 296.8352 - val_mean_absolute_error: 13.6286\n",
            "Epoch 325/500\n",
            "105/105 [==============================] - 0s 2ms/step - loss: 30.9060 - mean_absolute_error: 4.1680 - val_loss: 290.5707 - val_mean_absolute_error: 13.5699\n",
            "Epoch 326/500\n",
            "105/105 [==============================] - 0s 2ms/step - loss: 30.9367 - mean_absolute_error: 4.1356 - val_loss: 291.7717 - val_mean_absolute_error: 13.6474\n",
            "Epoch 327/500\n",
            "105/105 [==============================] - 0s 2ms/step - loss: 30.3285 - mean_absolute_error: 4.0640 - val_loss: 306.6003 - val_mean_absolute_error: 13.8458\n",
            "Epoch 328/500\n",
            "105/105 [==============================] - 0s 2ms/step - loss: 29.2998 - mean_absolute_error: 3.9370 - val_loss: 286.4606 - val_mean_absolute_error: 13.6183\n",
            "Epoch 329/500\n",
            "105/105 [==============================] - 0s 2ms/step - loss: 30.3906 - mean_absolute_error: 4.1679 - val_loss: 294.8888 - val_mean_absolute_error: 13.6675\n",
            "Epoch 330/500\n",
            "105/105 [==============================] - 0s 2ms/step - loss: 29.6195 - mean_absolute_error: 4.1088 - val_loss: 291.8386 - val_mean_absolute_error: 13.6822\n",
            "Epoch 331/500\n",
            "105/105 [==============================] - 0s 2ms/step - loss: 28.7122 - mean_absolute_error: 3.9220 - val_loss: 295.4860 - val_mean_absolute_error: 13.6754\n",
            "Epoch 332/500\n",
            "105/105 [==============================] - 0s 2ms/step - loss: 29.5444 - mean_absolute_error: 4.0507 - val_loss: 295.4469 - val_mean_absolute_error: 13.6887\n",
            "Epoch 333/500\n",
            "105/105 [==============================] - 0s 2ms/step - loss: 28.6282 - mean_absolute_error: 3.9713 - val_loss: 296.8339 - val_mean_absolute_error: 13.7999\n",
            "Epoch 334/500\n",
            "105/105 [==============================] - 0s 2ms/step - loss: 29.1156 - mean_absolute_error: 4.0267 - val_loss: 302.3613 - val_mean_absolute_error: 13.9134\n",
            "Epoch 335/500\n",
            "105/105 [==============================] - 0s 2ms/step - loss: 29.0452 - mean_absolute_error: 3.9133 - val_loss: 296.0050 - val_mean_absolute_error: 13.7447\n",
            "Epoch 336/500\n",
            "105/105 [==============================] - 0s 2ms/step - loss: 28.1230 - mean_absolute_error: 3.9850 - val_loss: 303.4794 - val_mean_absolute_error: 13.8701\n",
            "Epoch 337/500\n",
            "105/105 [==============================] - 0s 2ms/step - loss: 28.0495 - mean_absolute_error: 3.9105 - val_loss: 302.8601 - val_mean_absolute_error: 13.8108\n",
            "Epoch 338/500\n",
            "105/105 [==============================] - 0s 2ms/step - loss: 27.8580 - mean_absolute_error: 3.9635 - val_loss: 314.0089 - val_mean_absolute_error: 14.0231\n",
            "Epoch 339/500\n",
            "105/105 [==============================] - 0s 2ms/step - loss: 28.0984 - mean_absolute_error: 3.9327 - val_loss: 298.6965 - val_mean_absolute_error: 13.8841\n",
            "Epoch 340/500\n",
            "105/105 [==============================] - 0s 2ms/step - loss: 27.5329 - mean_absolute_error: 3.8869 - val_loss: 308.2262 - val_mean_absolute_error: 13.9716\n",
            "Epoch 341/500\n",
            "105/105 [==============================] - 0s 2ms/step - loss: 26.4076 - mean_absolute_error: 3.7493 - val_loss: 308.3248 - val_mean_absolute_error: 14.0149\n",
            "Epoch 342/500\n",
            "105/105 [==============================] - 0s 2ms/step - loss: 27.1287 - mean_absolute_error: 3.8601 - val_loss: 306.0297 - val_mean_absolute_error: 13.9606\n",
            "Epoch 343/500\n",
            "105/105 [==============================] - 0s 2ms/step - loss: 26.6347 - mean_absolute_error: 3.7937 - val_loss: 294.3134 - val_mean_absolute_error: 13.7815\n",
            "Epoch 344/500\n",
            "105/105 [==============================] - 0s 2ms/step - loss: 25.8906 - mean_absolute_error: 3.7665 - val_loss: 302.9963 - val_mean_absolute_error: 13.9360\n",
            "Epoch 345/500\n",
            "105/105 [==============================] - 0s 2ms/step - loss: 26.4706 - mean_absolute_error: 3.8278 - val_loss: 301.6126 - val_mean_absolute_error: 13.9358\n",
            "Epoch 346/500\n",
            "105/105 [==============================] - 0s 2ms/step - loss: 25.3854 - mean_absolute_error: 3.7069 - val_loss: 312.4767 - val_mean_absolute_error: 13.9243\n",
            "Epoch 347/500\n",
            "105/105 [==============================] - 0s 2ms/step - loss: 25.8867 - mean_absolute_error: 3.7922 - val_loss: 311.7384 - val_mean_absolute_error: 14.0954\n",
            "Epoch 348/500\n",
            "105/105 [==============================] - 0s 2ms/step - loss: 26.6966 - mean_absolute_error: 3.7831 - val_loss: 305.0385 - val_mean_absolute_error: 13.9683\n",
            "Epoch 349/500\n",
            "105/105 [==============================] - 0s 2ms/step - loss: 25.5269 - mean_absolute_error: 3.7098 - val_loss: 306.1694 - val_mean_absolute_error: 13.9893\n",
            "Epoch 350/500\n",
            "105/105 [==============================] - 0s 2ms/step - loss: 25.3268 - mean_absolute_error: 3.7539 - val_loss: 311.5705 - val_mean_absolute_error: 13.9229\n",
            "Epoch 351/500\n",
            "105/105 [==============================] - 0s 2ms/step - loss: 25.5995 - mean_absolute_error: 3.8206 - val_loss: 306.2353 - val_mean_absolute_error: 14.0245\n",
            "Epoch 352/500\n",
            "105/105 [==============================] - 0s 2ms/step - loss: 24.5395 - mean_absolute_error: 3.6757 - val_loss: 322.0917 - val_mean_absolute_error: 14.2565\n",
            "Epoch 353/500\n",
            "105/105 [==============================] - 0s 2ms/step - loss: 25.3135 - mean_absolute_error: 3.7797 - val_loss: 308.2118 - val_mean_absolute_error: 14.0225\n",
            "Epoch 354/500\n",
            "105/105 [==============================] - 0s 2ms/step - loss: 24.9494 - mean_absolute_error: 3.6539 - val_loss: 307.9470 - val_mean_absolute_error: 14.0886\n",
            "Epoch 355/500\n",
            "105/105 [==============================] - 0s 2ms/step - loss: 24.7260 - mean_absolute_error: 3.6455 - val_loss: 315.9225 - val_mean_absolute_error: 14.2727\n",
            "Epoch 356/500\n",
            "105/105 [==============================] - 0s 2ms/step - loss: 23.8620 - mean_absolute_error: 3.7092 - val_loss: 328.4670 - val_mean_absolute_error: 14.3869\n",
            "Epoch 357/500\n",
            "105/105 [==============================] - 0s 2ms/step - loss: 23.7664 - mean_absolute_error: 3.5676 - val_loss: 316.3648 - val_mean_absolute_error: 14.2893\n",
            "Epoch 358/500\n",
            "105/105 [==============================] - 0s 2ms/step - loss: 22.8587 - mean_absolute_error: 3.5340 - val_loss: 323.1421 - val_mean_absolute_error: 14.2431\n",
            "Epoch 359/500\n",
            "105/105 [==============================] - 0s 2ms/step - loss: 25.1768 - mean_absolute_error: 3.6701 - val_loss: 300.7497 - val_mean_absolute_error: 14.0053\n",
            "Epoch 360/500\n",
            "105/105 [==============================] - 0s 2ms/step - loss: 22.9158 - mean_absolute_error: 3.5344 - val_loss: 322.0933 - val_mean_absolute_error: 14.2699\n",
            "Epoch 361/500\n",
            "105/105 [==============================] - 0s 2ms/step - loss: 23.5732 - mean_absolute_error: 3.6854 - val_loss: 321.3287 - val_mean_absolute_error: 14.3220\n",
            "Epoch 362/500\n",
            "105/105 [==============================] - 0s 2ms/step - loss: 22.2727 - mean_absolute_error: 3.3882 - val_loss: 308.4188 - val_mean_absolute_error: 14.1676\n",
            "Epoch 363/500\n",
            "105/105 [==============================] - 0s 2ms/step - loss: 22.9632 - mean_absolute_error: 3.5499 - val_loss: 312.8699 - val_mean_absolute_error: 14.2307\n",
            "Epoch 364/500\n",
            "105/105 [==============================] - 0s 2ms/step - loss: 22.5917 - mean_absolute_error: 3.5471 - val_loss: 306.7471 - val_mean_absolute_error: 14.0824\n",
            "Epoch 365/500\n",
            "105/105 [==============================] - 0s 2ms/step - loss: 22.6819 - mean_absolute_error: 3.5863 - val_loss: 317.4936 - val_mean_absolute_error: 14.3174\n",
            "Epoch 366/500\n",
            "105/105 [==============================] - 0s 2ms/step - loss: 22.5698 - mean_absolute_error: 3.5069 - val_loss: 315.5171 - val_mean_absolute_error: 14.1766\n",
            "Epoch 367/500\n",
            "105/105 [==============================] - 0s 2ms/step - loss: 21.7405 - mean_absolute_error: 3.4113 - val_loss: 308.7536 - val_mean_absolute_error: 14.1764\n",
            "Epoch 368/500\n",
            "105/105 [==============================] - 0s 2ms/step - loss: 21.3643 - mean_absolute_error: 3.3662 - val_loss: 326.3744 - val_mean_absolute_error: 14.4360\n",
            "Epoch 369/500\n",
            "105/105 [==============================] - 0s 2ms/step - loss: 21.6957 - mean_absolute_error: 3.3831 - val_loss: 312.4263 - val_mean_absolute_error: 14.2593\n",
            "Epoch 370/500\n",
            "105/105 [==============================] - 0s 2ms/step - loss: 21.8081 - mean_absolute_error: 3.3377 - val_loss: 326.8005 - val_mean_absolute_error: 14.4916\n",
            "Epoch 371/500\n",
            "105/105 [==============================] - 0s 2ms/step - loss: 21.6928 - mean_absolute_error: 3.4579 - val_loss: 326.0272 - val_mean_absolute_error: 14.4373\n",
            "Epoch 372/500\n",
            "105/105 [==============================] - 0s 2ms/step - loss: 21.0148 - mean_absolute_error: 3.3169 - val_loss: 316.2444 - val_mean_absolute_error: 14.3518\n",
            "Epoch 373/500\n",
            "105/105 [==============================] - 0s 2ms/step - loss: 20.9199 - mean_absolute_error: 3.4035 - val_loss: 313.5909 - val_mean_absolute_error: 14.3435\n",
            "Epoch 374/500\n",
            "105/105 [==============================] - 0s 2ms/step - loss: 21.6909 - mean_absolute_error: 3.3941 - val_loss: 319.6862 - val_mean_absolute_error: 14.3856\n",
            "Epoch 375/500\n",
            "105/105 [==============================] - 0s 2ms/step - loss: 21.7955 - mean_absolute_error: 3.4935 - val_loss: 315.0905 - val_mean_absolute_error: 14.3132\n",
            "Epoch 376/500\n",
            "105/105 [==============================] - 0s 2ms/step - loss: 20.4331 - mean_absolute_error: 3.3916 - val_loss: 330.1969 - val_mean_absolute_error: 14.4353\n",
            "Epoch 377/500\n",
            "105/105 [==============================] - 0s 2ms/step - loss: 20.6015 - mean_absolute_error: 3.3774 - val_loss: 315.9001 - val_mean_absolute_error: 14.3505\n",
            "Epoch 378/500\n",
            "105/105 [==============================] - 0s 2ms/step - loss: 19.9114 - mean_absolute_error: 3.2051 - val_loss: 320.3752 - val_mean_absolute_error: 14.3281\n",
            "Epoch 379/500\n",
            "105/105 [==============================] - 0s 2ms/step - loss: 20.9237 - mean_absolute_error: 3.4468 - val_loss: 323.5160 - val_mean_absolute_error: 14.4866\n",
            "Epoch 380/500\n",
            "105/105 [==============================] - 0s 2ms/step - loss: 19.9087 - mean_absolute_error: 3.2563 - val_loss: 311.1638 - val_mean_absolute_error: 14.3505\n",
            "Epoch 381/500\n",
            "105/105 [==============================] - 0s 2ms/step - loss: 19.5708 - mean_absolute_error: 3.2596 - val_loss: 313.6244 - val_mean_absolute_error: 14.2765\n",
            "Epoch 382/500\n",
            "105/105 [==============================] - 0s 2ms/step - loss: 19.1701 - mean_absolute_error: 3.1942 - val_loss: 311.8763 - val_mean_absolute_error: 14.3012\n",
            "Epoch 383/500\n",
            "105/105 [==============================] - 0s 2ms/step - loss: 19.4306 - mean_absolute_error: 3.2149 - val_loss: 318.6984 - val_mean_absolute_error: 14.4170\n",
            "Epoch 384/500\n",
            "105/105 [==============================] - 0s 2ms/step - loss: 18.5477 - mean_absolute_error: 3.2024 - val_loss: 318.3147 - val_mean_absolute_error: 14.4277\n",
            "Epoch 385/500\n",
            "105/105 [==============================] - 0s 2ms/step - loss: 18.5597 - mean_absolute_error: 3.0811 - val_loss: 314.8280 - val_mean_absolute_error: 14.3599\n",
            "Epoch 386/500\n",
            "105/105 [==============================] - 0s 2ms/step - loss: 18.5183 - mean_absolute_error: 3.1409 - val_loss: 311.8821 - val_mean_absolute_error: 14.3649\n",
            "Epoch 387/500\n",
            "105/105 [==============================] - 0s 2ms/step - loss: 19.1408 - mean_absolute_error: 3.2449 - val_loss: 334.5101 - val_mean_absolute_error: 14.5754\n",
            "Epoch 388/500\n",
            "105/105 [==============================] - 0s 2ms/step - loss: 18.4593 - mean_absolute_error: 3.1340 - val_loss: 320.6485 - val_mean_absolute_error: 14.3942\n",
            "Epoch 389/500\n",
            "105/105 [==============================] - 0s 2ms/step - loss: 18.1531 - mean_absolute_error: 3.0648 - val_loss: 322.8350 - val_mean_absolute_error: 14.5096\n",
            "Epoch 390/500\n",
            "105/105 [==============================] - 0s 2ms/step - loss: 17.7149 - mean_absolute_error: 3.0545 - val_loss: 320.0250 - val_mean_absolute_error: 14.4647\n",
            "Epoch 391/500\n",
            "105/105 [==============================] - 0s 2ms/step - loss: 18.1574 - mean_absolute_error: 3.1308 - val_loss: 314.6700 - val_mean_absolute_error: 14.4725\n",
            "Epoch 392/500\n",
            "105/105 [==============================] - 0s 2ms/step - loss: 18.0338 - mean_absolute_error: 3.0403 - val_loss: 317.1808 - val_mean_absolute_error: 14.4693\n",
            "Epoch 393/500\n",
            "105/105 [==============================] - 0s 2ms/step - loss: 17.1747 - mean_absolute_error: 2.9696 - val_loss: 315.3199 - val_mean_absolute_error: 14.4407\n",
            "Epoch 394/500\n",
            "105/105 [==============================] - 0s 2ms/step - loss: 17.0722 - mean_absolute_error: 2.9896 - val_loss: 322.3829 - val_mean_absolute_error: 14.5450\n",
            "Epoch 395/500\n",
            "105/105 [==============================] - 0s 2ms/step - loss: 18.6795 - mean_absolute_error: 3.2190 - val_loss: 317.9860 - val_mean_absolute_error: 14.4696\n",
            "Epoch 396/500\n",
            "105/105 [==============================] - 0s 2ms/step - loss: 17.5559 - mean_absolute_error: 3.0534 - val_loss: 323.1489 - val_mean_absolute_error: 14.5073\n",
            "Epoch 397/500\n",
            "105/105 [==============================] - 0s 2ms/step - loss: 16.6908 - mean_absolute_error: 3.0285 - val_loss: 329.3517 - val_mean_absolute_error: 14.6289\n",
            "Epoch 398/500\n",
            "105/105 [==============================] - 0s 2ms/step - loss: 16.8327 - mean_absolute_error: 2.9754 - val_loss: 328.3892 - val_mean_absolute_error: 14.6454\n",
            "Epoch 399/500\n",
            "105/105 [==============================] - 0s 2ms/step - loss: 16.0138 - mean_absolute_error: 2.8726 - val_loss: 322.0686 - val_mean_absolute_error: 14.5664\n",
            "Epoch 400/500\n",
            "105/105 [==============================] - 0s 2ms/step - loss: 16.3136 - mean_absolute_error: 2.9551 - val_loss: 323.1516 - val_mean_absolute_error: 14.6119\n",
            "Epoch 401/500\n",
            "105/105 [==============================] - 0s 2ms/step - loss: 15.8311 - mean_absolute_error: 2.9016 - val_loss: 323.8703 - val_mean_absolute_error: 14.7249\n",
            "Epoch 402/500\n",
            "105/105 [==============================] - 0s 2ms/step - loss: 16.7598 - mean_absolute_error: 3.0250 - val_loss: 326.8090 - val_mean_absolute_error: 14.6219\n",
            "Epoch 403/500\n",
            "105/105 [==============================] - 0s 2ms/step - loss: 15.8934 - mean_absolute_error: 2.8560 - val_loss: 336.5539 - val_mean_absolute_error: 14.7704\n",
            "Epoch 404/500\n",
            "105/105 [==============================] - 0s 2ms/step - loss: 15.3789 - mean_absolute_error: 2.8554 - val_loss: 336.6354 - val_mean_absolute_error: 14.6992\n",
            "Epoch 405/500\n",
            "105/105 [==============================] - 0s 2ms/step - loss: 15.4577 - mean_absolute_error: 2.8621 - val_loss: 333.3700 - val_mean_absolute_error: 14.8113\n",
            "Epoch 406/500\n",
            "105/105 [==============================] - 0s 2ms/step - loss: 14.9814 - mean_absolute_error: 2.7809 - val_loss: 335.2849 - val_mean_absolute_error: 14.7375\n",
            "Epoch 407/500\n",
            "105/105 [==============================] - 0s 2ms/step - loss: 15.5244 - mean_absolute_error: 2.8323 - val_loss: 341.6124 - val_mean_absolute_error: 14.8655\n",
            "Epoch 408/500\n",
            "105/105 [==============================] - 0s 2ms/step - loss: 14.7091 - mean_absolute_error: 2.7564 - val_loss: 336.2983 - val_mean_absolute_error: 14.7492\n",
            "Epoch 409/500\n",
            "105/105 [==============================] - 0s 2ms/step - loss: 14.8160 - mean_absolute_error: 2.7759 - val_loss: 339.1563 - val_mean_absolute_error: 14.8693\n",
            "Epoch 410/500\n",
            "105/105 [==============================] - 0s 2ms/step - loss: 14.5663 - mean_absolute_error: 2.7232 - val_loss: 335.6657 - val_mean_absolute_error: 14.8623\n",
            "Epoch 411/500\n",
            "105/105 [==============================] - 0s 2ms/step - loss: 13.6845 - mean_absolute_error: 2.6284 - val_loss: 340.0398 - val_mean_absolute_error: 14.7294\n",
            "Epoch 412/500\n",
            "105/105 [==============================] - 0s 2ms/step - loss: 14.4258 - mean_absolute_error: 2.7035 - val_loss: 340.5091 - val_mean_absolute_error: 14.8791\n",
            "Epoch 413/500\n",
            "105/105 [==============================] - 0s 2ms/step - loss: 14.1355 - mean_absolute_error: 2.7159 - val_loss: 328.8423 - val_mean_absolute_error: 14.6762\n",
            "Epoch 414/500\n",
            "105/105 [==============================] - 0s 2ms/step - loss: 13.7324 - mean_absolute_error: 2.7167 - val_loss: 338.8464 - val_mean_absolute_error: 14.8623\n",
            "Epoch 415/500\n",
            "105/105 [==============================] - 0s 2ms/step - loss: 13.9330 - mean_absolute_error: 2.6733 - val_loss: 341.3614 - val_mean_absolute_error: 14.9558\n",
            "Epoch 416/500\n",
            "105/105 [==============================] - 0s 2ms/step - loss: 14.1347 - mean_absolute_error: 2.7256 - val_loss: 329.3300 - val_mean_absolute_error: 14.7189\n",
            "\n",
            "Epoch 00416: ReduceLROnPlateau reducing learning rate to 0.00010000000474974513.\n",
            "Epoch 417/500\n",
            "105/105 [==============================] - 0s 2ms/step - loss: 11.8689 - mean_absolute_error: 2.3936 - val_loss: 330.7077 - val_mean_absolute_error: 14.7250\n",
            "Epoch 418/500\n",
            "105/105 [==============================] - 0s 2ms/step - loss: 11.6470 - mean_absolute_error: 2.3451 - val_loss: 331.0130 - val_mean_absolute_error: 14.7184\n",
            "Epoch 419/500\n",
            "105/105 [==============================] - 0s 2ms/step - loss: 11.6119 - mean_absolute_error: 2.3459 - val_loss: 331.6208 - val_mean_absolute_error: 14.7334\n",
            "Epoch 420/500\n",
            "105/105 [==============================] - 0s 2ms/step - loss: 11.4791 - mean_absolute_error: 2.3241 - val_loss: 331.9865 - val_mean_absolute_error: 14.7372\n",
            "Epoch 421/500\n",
            "105/105 [==============================] - 0s 2ms/step - loss: 11.4258 - mean_absolute_error: 2.2978 - val_loss: 332.9871 - val_mean_absolute_error: 14.7477\n",
            "Epoch 422/500\n",
            "105/105 [==============================] - 0s 2ms/step - loss: 11.3542 - mean_absolute_error: 2.3018 - val_loss: 333.1612 - val_mean_absolute_error: 14.7529\n",
            "Epoch 423/500\n",
            "105/105 [==============================] - 0s 2ms/step - loss: 11.3366 - mean_absolute_error: 2.3003 - val_loss: 333.6923 - val_mean_absolute_error: 14.7583\n",
            "Epoch 424/500\n",
            "105/105 [==============================] - 0s 2ms/step - loss: 11.3180 - mean_absolute_error: 2.2922 - val_loss: 333.2113 - val_mean_absolute_error: 14.7495\n",
            "Epoch 425/500\n",
            "105/105 [==============================] - 0s 2ms/step - loss: 11.2557 - mean_absolute_error: 2.2812 - val_loss: 334.1399 - val_mean_absolute_error: 14.7647\n",
            "Epoch 426/500\n",
            "105/105 [==============================] - 0s 2ms/step - loss: 11.2482 - mean_absolute_error: 2.2791 - val_loss: 334.9386 - val_mean_absolute_error: 14.7760\n",
            "Epoch 427/500\n",
            "105/105 [==============================] - 0s 2ms/step - loss: 11.1886 - mean_absolute_error: 2.2625 - val_loss: 334.3729 - val_mean_absolute_error: 14.7670\n",
            "Epoch 428/500\n",
            "105/105 [==============================] - 0s 2ms/step - loss: 11.2057 - mean_absolute_error: 2.2741 - val_loss: 335.0881 - val_mean_absolute_error: 14.7757\n",
            "Epoch 429/500\n",
            "105/105 [==============================] - 0s 2ms/step - loss: 11.1691 - mean_absolute_error: 2.2688 - val_loss: 335.0101 - val_mean_absolute_error: 14.7800\n",
            "Epoch 430/500\n",
            "105/105 [==============================] - 0s 2ms/step - loss: 11.1550 - mean_absolute_error: 2.2772 - val_loss: 335.0454 - val_mean_absolute_error: 14.7817\n",
            "Epoch 431/500\n",
            "105/105 [==============================] - 0s 2ms/step - loss: 11.0805 - mean_absolute_error: 2.2569 - val_loss: 335.8419 - val_mean_absolute_error: 14.7933\n",
            "Epoch 432/500\n",
            "105/105 [==============================] - 0s 2ms/step - loss: 11.1009 - mean_absolute_error: 2.2564 - val_loss: 335.4371 - val_mean_absolute_error: 14.7884\n",
            "Epoch 433/500\n",
            "105/105 [==============================] - 0s 2ms/step - loss: 11.0183 - mean_absolute_error: 2.2424 - val_loss: 336.8091 - val_mean_absolute_error: 14.8095\n",
            "Epoch 434/500\n",
            "105/105 [==============================] - 0s 2ms/step - loss: 11.0295 - mean_absolute_error: 2.2610 - val_loss: 336.4805 - val_mean_absolute_error: 14.8080\n",
            "Epoch 435/500\n",
            "105/105 [==============================] - 0s 2ms/step - loss: 11.0643 - mean_absolute_error: 2.2483 - val_loss: 336.8186 - val_mean_absolute_error: 14.8157\n",
            "Epoch 436/500\n",
            "105/105 [==============================] - 0s 2ms/step - loss: 11.0957 - mean_absolute_error: 2.2594 - val_loss: 336.8059 - val_mean_absolute_error: 14.8088\n",
            "Epoch 437/500\n",
            "105/105 [==============================] - 0s 2ms/step - loss: 10.9692 - mean_absolute_error: 2.2374 - val_loss: 336.2924 - val_mean_absolute_error: 14.8068\n",
            "Epoch 438/500\n",
            "105/105 [==============================] - 0s 2ms/step - loss: 11.0098 - mean_absolute_error: 2.2404 - val_loss: 337.8046 - val_mean_absolute_error: 14.8204\n",
            "Epoch 439/500\n",
            "105/105 [==============================] - 0s 2ms/step - loss: 10.9567 - mean_absolute_error: 2.2508 - val_loss: 337.3307 - val_mean_absolute_error: 14.8255\n",
            "Epoch 440/500\n",
            "105/105 [==============================] - 0s 2ms/step - loss: 10.9726 - mean_absolute_error: 2.2371 - val_loss: 337.7963 - val_mean_absolute_error: 14.8324\n",
            "Epoch 441/500\n",
            "105/105 [==============================] - 0s 2ms/step - loss: 10.9251 - mean_absolute_error: 2.2404 - val_loss: 337.7156 - val_mean_absolute_error: 14.8342\n",
            "Epoch 442/500\n",
            "105/105 [==============================] - 0s 2ms/step - loss: 10.9126 - mean_absolute_error: 2.2306 - val_loss: 338.1500 - val_mean_absolute_error: 14.8339\n",
            "Epoch 443/500\n",
            "105/105 [==============================] - 0s 2ms/step - loss: 10.9300 - mean_absolute_error: 2.2231 - val_loss: 338.6819 - val_mean_absolute_error: 14.8505\n",
            "Epoch 444/500\n",
            "105/105 [==============================] - 0s 2ms/step - loss: 10.8685 - mean_absolute_error: 2.2356 - val_loss: 338.6981 - val_mean_absolute_error: 14.8505\n",
            "Epoch 445/500\n",
            "105/105 [==============================] - 0s 2ms/step - loss: 10.8605 - mean_absolute_error: 2.2350 - val_loss: 338.8818 - val_mean_absolute_error: 14.8506\n",
            "Epoch 446/500\n",
            "105/105 [==============================] - 0s 2ms/step - loss: 10.8324 - mean_absolute_error: 2.2127 - val_loss: 338.1327 - val_mean_absolute_error: 14.8415\n",
            "Epoch 447/500\n",
            "105/105 [==============================] - 0s 2ms/step - loss: 10.8291 - mean_absolute_error: 2.2215 - val_loss: 338.7899 - val_mean_absolute_error: 14.8494\n",
            "Epoch 448/500\n",
            "105/105 [==============================] - 0s 2ms/step - loss: 10.7837 - mean_absolute_error: 2.2212 - val_loss: 339.3024 - val_mean_absolute_error: 14.8547\n",
            "Epoch 449/500\n",
            "105/105 [==============================] - 0s 1ms/step - loss: 10.7768 - mean_absolute_error: 2.2164 - val_loss: 339.9399 - val_mean_absolute_error: 14.8686\n",
            "Epoch 450/500\n",
            "105/105 [==============================] - 0s 2ms/step - loss: 10.7785 - mean_absolute_error: 2.2162 - val_loss: 339.9216 - val_mean_absolute_error: 14.8586\n",
            "Epoch 451/500\n",
            "105/105 [==============================] - 0s 2ms/step - loss: 10.7646 - mean_absolute_error: 2.2180 - val_loss: 339.7540 - val_mean_absolute_error: 14.8585\n",
            "Epoch 452/500\n",
            "105/105 [==============================] - 0s 2ms/step - loss: 10.7477 - mean_absolute_error: 2.2151 - val_loss: 340.3851 - val_mean_absolute_error: 14.8730\n",
            "Epoch 453/500\n",
            "105/105 [==============================] - 0s 2ms/step - loss: 10.7171 - mean_absolute_error: 2.2120 - val_loss: 340.7259 - val_mean_absolute_error: 14.8762\n",
            "Epoch 454/500\n",
            "105/105 [==============================] - 0s 2ms/step - loss: 10.6941 - mean_absolute_error: 2.2074 - val_loss: 340.5448 - val_mean_absolute_error: 14.8763\n",
            "Epoch 455/500\n",
            "105/105 [==============================] - 0s 2ms/step - loss: 10.7047 - mean_absolute_error: 2.2055 - val_loss: 340.0281 - val_mean_absolute_error: 14.8781\n",
            "Epoch 456/500\n",
            "105/105 [==============================] - 0s 2ms/step - loss: 10.6906 - mean_absolute_error: 2.2077 - val_loss: 340.3982 - val_mean_absolute_error: 14.8771\n",
            "Epoch 457/500\n",
            "105/105 [==============================] - 0s 2ms/step - loss: 10.6556 - mean_absolute_error: 2.2002 - val_loss: 340.3322 - val_mean_absolute_error: 14.8749\n",
            "Epoch 458/500\n",
            "105/105 [==============================] - 0s 2ms/step - loss: 10.6386 - mean_absolute_error: 2.1853 - val_loss: 339.3688 - val_mean_absolute_error: 14.8625\n",
            "Epoch 459/500\n",
            "105/105 [==============================] - 0s 2ms/step - loss: 10.6103 - mean_absolute_error: 2.1867 - val_loss: 340.3711 - val_mean_absolute_error: 14.8763\n",
            "Epoch 460/500\n",
            "105/105 [==============================] - 0s 2ms/step - loss: 10.6001 - mean_absolute_error: 2.1920 - val_loss: 340.5220 - val_mean_absolute_error: 14.8832\n",
            "Epoch 461/500\n",
            "105/105 [==============================] - 0s 2ms/step - loss: 10.5711 - mean_absolute_error: 2.1851 - val_loss: 340.9426 - val_mean_absolute_error: 14.8916\n",
            "Epoch 462/500\n",
            "105/105 [==============================] - 0s 2ms/step - loss: 10.6246 - mean_absolute_error: 2.1878 - val_loss: 340.1061 - val_mean_absolute_error: 14.8714\n",
            "Epoch 463/500\n",
            "105/105 [==============================] - 0s 2ms/step - loss: 10.5510 - mean_absolute_error: 2.1853 - val_loss: 341.4763 - val_mean_absolute_error: 14.9022\n",
            "Epoch 464/500\n",
            "105/105 [==============================] - 0s 2ms/step - loss: 10.5767 - mean_absolute_error: 2.1920 - val_loss: 341.4840 - val_mean_absolute_error: 14.9104\n",
            "Epoch 465/500\n",
            "105/105 [==============================] - 0s 2ms/step - loss: 10.5007 - mean_absolute_error: 2.1802 - val_loss: 341.5312 - val_mean_absolute_error: 14.8959\n",
            "Epoch 466/500\n",
            "105/105 [==============================] - 0s 2ms/step - loss: 10.5121 - mean_absolute_error: 2.1741 - val_loss: 341.5789 - val_mean_absolute_error: 14.8995\n",
            "Epoch 467/500\n",
            "105/105 [==============================] - 0s 2ms/step - loss: 10.4774 - mean_absolute_error: 2.1738 - val_loss: 342.0874 - val_mean_absolute_error: 14.9043\n",
            "Epoch 468/500\n",
            "105/105 [==============================] - 0s 2ms/step - loss: 10.5057 - mean_absolute_error: 2.1784 - val_loss: 342.3561 - val_mean_absolute_error: 14.9203\n",
            "Epoch 469/500\n",
            "105/105 [==============================] - 0s 2ms/step - loss: 10.4475 - mean_absolute_error: 2.1798 - val_loss: 342.5066 - val_mean_absolute_error: 14.9163\n",
            "Epoch 470/500\n",
            "105/105 [==============================] - 0s 2ms/step - loss: 10.4414 - mean_absolute_error: 2.1674 - val_loss: 342.0039 - val_mean_absolute_error: 14.9136\n",
            "Epoch 471/500\n",
            "105/105 [==============================] - 0s 2ms/step - loss: 10.4138 - mean_absolute_error: 2.1649 - val_loss: 341.8941 - val_mean_absolute_error: 14.9089\n",
            "Epoch 472/500\n",
            "105/105 [==============================] - 0s 2ms/step - loss: 10.3817 - mean_absolute_error: 2.1563 - val_loss: 342.4677 - val_mean_absolute_error: 14.9198\n",
            "Epoch 473/500\n",
            "105/105 [==============================] - 0s 2ms/step - loss: 10.4274 - mean_absolute_error: 2.1714 - val_loss: 343.3280 - val_mean_absolute_error: 14.9274\n",
            "Epoch 474/500\n",
            "105/105 [==============================] - 0s 2ms/step - loss: 10.3570 - mean_absolute_error: 2.1549 - val_loss: 342.8539 - val_mean_absolute_error: 14.9207\n",
            "Epoch 475/500\n",
            "105/105 [==============================] - 0s 2ms/step - loss: 10.3203 - mean_absolute_error: 2.1473 - val_loss: 343.4010 - val_mean_absolute_error: 14.9324\n",
            "Epoch 476/500\n",
            "105/105 [==============================] - 0s 2ms/step - loss: 10.4018 - mean_absolute_error: 2.1637 - val_loss: 343.7325 - val_mean_absolute_error: 14.9363\n",
            "Epoch 477/500\n",
            "105/105 [==============================] - 0s 2ms/step - loss: 10.3108 - mean_absolute_error: 2.1427 - val_loss: 343.8649 - val_mean_absolute_error: 14.9403\n",
            "Epoch 478/500\n",
            "105/105 [==============================] - 0s 2ms/step - loss: 10.3201 - mean_absolute_error: 2.1530 - val_loss: 343.1912 - val_mean_absolute_error: 14.9329\n",
            "Epoch 479/500\n",
            "105/105 [==============================] - 0s 2ms/step - loss: 10.3025 - mean_absolute_error: 2.1550 - val_loss: 343.5745 - val_mean_absolute_error: 14.9416\n",
            "Epoch 480/500\n",
            "105/105 [==============================] - 0s 2ms/step - loss: 10.3171 - mean_absolute_error: 2.1593 - val_loss: 344.2364 - val_mean_absolute_error: 14.9606\n",
            "Epoch 481/500\n",
            "105/105 [==============================] - 0s 2ms/step - loss: 10.2758 - mean_absolute_error: 2.1402 - val_loss: 343.7097 - val_mean_absolute_error: 14.9513\n",
            "Epoch 482/500\n",
            "105/105 [==============================] - 0s 2ms/step - loss: 10.2347 - mean_absolute_error: 2.1474 - val_loss: 343.2107 - val_mean_absolute_error: 14.9346\n",
            "Epoch 483/500\n",
            "105/105 [==============================] - 0s 2ms/step - loss: 10.2304 - mean_absolute_error: 2.1424 - val_loss: 344.2690 - val_mean_absolute_error: 14.9551\n",
            "Epoch 484/500\n",
            "105/105 [==============================] - 0s 2ms/step - loss: 10.1688 - mean_absolute_error: 2.1301 - val_loss: 344.8480 - val_mean_absolute_error: 14.9598\n",
            "Epoch 485/500\n",
            "105/105 [==============================] - 0s 2ms/step - loss: 10.2124 - mean_absolute_error: 2.1483 - val_loss: 344.5070 - val_mean_absolute_error: 14.9600\n",
            "Epoch 486/500\n",
            "105/105 [==============================] - 0s 1ms/step - loss: 10.1666 - mean_absolute_error: 2.1215 - val_loss: 345.1674 - val_mean_absolute_error: 14.9697\n",
            "Epoch 487/500\n",
            "105/105 [==============================] - 0s 1ms/step - loss: 10.1781 - mean_absolute_error: 2.1296 - val_loss: 345.0166 - val_mean_absolute_error: 14.9695\n",
            "Epoch 488/500\n",
            "105/105 [==============================] - 0s 1ms/step - loss: 10.1633 - mean_absolute_error: 2.1327 - val_loss: 345.8927 - val_mean_absolute_error: 14.9818\n",
            "Epoch 489/500\n",
            "105/105 [==============================] - 0s 2ms/step - loss: 10.1625 - mean_absolute_error: 2.1350 - val_loss: 345.7719 - val_mean_absolute_error: 14.9745\n",
            "Epoch 490/500\n",
            "105/105 [==============================] - 0s 2ms/step - loss: 10.1102 - mean_absolute_error: 2.1211 - val_loss: 345.2837 - val_mean_absolute_error: 14.9761\n",
            "Epoch 491/500\n",
            "105/105 [==============================] - 0s 2ms/step - loss: 10.1182 - mean_absolute_error: 2.1201 - val_loss: 346.0050 - val_mean_absolute_error: 14.9892\n",
            "Epoch 492/500\n",
            "105/105 [==============================] - 0s 2ms/step - loss: 10.0922 - mean_absolute_error: 2.1238 - val_loss: 346.0740 - val_mean_absolute_error: 14.9837\n",
            "Epoch 493/500\n",
            "105/105 [==============================] - 0s 2ms/step - loss: 10.0982 - mean_absolute_error: 2.1091 - val_loss: 346.0572 - val_mean_absolute_error: 14.9889\n",
            "Epoch 494/500\n",
            "105/105 [==============================] - 0s 2ms/step - loss: 10.0678 - mean_absolute_error: 2.1190 - val_loss: 345.9265 - val_mean_absolute_error: 14.9941\n",
            "Epoch 495/500\n",
            "105/105 [==============================] - 0s 2ms/step - loss: 10.1182 - mean_absolute_error: 2.1295 - val_loss: 345.2008 - val_mean_absolute_error: 14.9803\n",
            "Epoch 496/500\n",
            "105/105 [==============================] - 0s 2ms/step - loss: 10.0187 - mean_absolute_error: 2.1053 - val_loss: 346.8289 - val_mean_absolute_error: 15.0046\n",
            "Epoch 497/500\n",
            "105/105 [==============================] - 0s 2ms/step - loss: 10.0134 - mean_absolute_error: 2.1078 - val_loss: 347.3398 - val_mean_absolute_error: 15.0107\n",
            "Epoch 498/500\n",
            "105/105 [==============================] - 0s 2ms/step - loss: 9.9998 - mean_absolute_error: 2.1065 - val_loss: 346.9088 - val_mean_absolute_error: 14.9994\n",
            "Epoch 499/500\n",
            "105/105 [==============================] - 0s 2ms/step - loss: 9.9730 - mean_absolute_error: 2.1008 - val_loss: 345.9296 - val_mean_absolute_error: 14.9804\n",
            "Epoch 500/500\n",
            "105/105 [==============================] - 0s 2ms/step - loss: 9.9417 - mean_absolute_error: 2.0979 - val_loss: 347.4018 - val_mean_absolute_error: 15.0128\n"
          ],
          "name": "stdout"
        }
      ]
    },
    {
      "cell_type": "code",
      "metadata": {
        "id": "3FfY9mHOZcNR",
        "colab_type": "code",
        "outputId": "89091a3b-1557-4750-805c-3b4616ea2b4c",
        "colab": {
          "base_uri": "https://localhost:8080/",
          "height": 35
        }
      },
      "source": [
        "len(mae_history)"
      ],
      "execution_count": 52,
      "outputs": [
        {
          "output_type": "execute_result",
          "data": {
            "text/plain": [
              "500"
            ]
          },
          "metadata": {
            "tags": []
          },
          "execution_count": 52
        }
      ]
    },
    {
      "cell_type": "markdown",
      "metadata": {
        "id": "_JFcHa2LGPXj",
        "colab_type": "text"
      },
      "source": [
        "#Plotting training and validation mae"
      ]
    },
    {
      "cell_type": "code",
      "metadata": {
        "id": "13s5AsNnFQ7F",
        "colab_type": "code",
        "outputId": "72bf4d95-30e1-452f-b53d-93f32cdc0c32",
        "colab": {
          "base_uri": "https://localhost:8080/",
          "height": 0
        }
      },
      "source": [
        "import matplotlib.pyplot as plt\n",
        "plt.plot(range(1, len(mae_val_history) + 1), mae_val_history, 'r', label='Validation mae')\n",
        "plt.plot(range(1, len(mae_history) + 1), mae_history, 'b', label='Training mae')\n",
        "plt.xlabel('Epochs')\n",
        "plt.ylabel('Validation MAE')\n",
        "plt.legend()\n",
        "plt.show()\n"
      ],
      "execution_count": 53,
      "outputs": [
        {
          "output_type": "display_data",
          "data": {
            "image/png": "[encoded data removed]",
            "text/plain": [
              "<Figure size 432x288 with 1 Axes>"
            ]
          },
          "metadata": {
            "tags": []
          }
        }
      ]
    },
    {
      "cell_type": "markdown",
      "metadata": {
        "id": "723BbzxdJtj-",
        "colab_type": "text"
      },
      "source": [
        "#Plotting training and validation loss"
      ]
    },
    {
      "cell_type": "code",
      "metadata": {
        "id": "tezhzHbMGguv",
        "colab_type": "code",
        "outputId": "ad3c7fd7-73ee-4bb4-d48d-33f81f54d280",
        "colab": {
          "base_uri": "https://localhost:8080/",
          "height": 0
        }
      },
      "source": [
        "import matplotlib.pyplot as plt\n",
        "plt.plot(range(1, len(loss_val_history) + 1), loss_val_history, 'r', label='Validation loss')\n",
        "plt.plot(range(1, len(loss_history) + 1), loss_history, 'b', label='Training loss')\n",
        "plt.xlabel('Epochs')\n",
        "plt.ylabel('Validation LOSS')\n",
        "plt.legend()\n",
        "plt.show()"
      ],
      "execution_count": 54,
      "outputs": [
        {
          "output_type": "display_data",
          "data": {
            "image/png": "[encoded data removed]",
            "text/plain": [
              "<Figure size 432x288 with 1 Axes>"
            ]
          },
          "metadata": {
            "tags": []
          }
        }
      ]
    },
    {
      "cell_type": "markdown",
      "metadata": {
        "id": "3cYo_1gJEMly",
        "colab_type": "text"
      },
      "source": [
        "#Test model\n"
      ]
    },
    {
      "cell_type": "code",
      "metadata": {
        "id": "ZiMorOCCKPF8",
        "colab_type": "code",
        "outputId": "9dcc6bb6-de37-4f7c-d343-69cfc497b6e6",
        "colab": {
          "base_uri": "https://localhost:8080/",
          "height": 0
        }
      },
      "source": [
        "model.fit(train_data_stand_pca, train_targets, epochs=80, batch_size=1, verbose=0)\n",
        "test_mse_score, test_mae_score = model.evaluate(test_data_stand_pca, y_test)"
      ],
      "execution_count": 55,
      "outputs": [
        {
          "output_type": "stream",
          "text": [
            "\r13/13 [==============================] - 0s 402us/step\n"
          ],
          "name": "stdout"
        }
      ]
    },
    {
      "cell_type": "code",
      "metadata": {
        "id": "TiVCR2H6E1QB",
        "colab_type": "code",
        "outputId": "958ea210-23d2-4c23-aed4-d716eb6acdc1",
        "colab": {
          "base_uri": "https://localhost:8080/",
          "height": 0
        }
      },
      "source": [
        "test_mae_score"
      ],
      "execution_count": 56,
      "outputs": [
        {
          "output_type": "execute_result",
          "data": {
            "text/plain": [
              "13.36282730102539"
            ]
          },
          "metadata": {
            "tags": []
          },
          "execution_count": 56
        }
      ]
    }
  ]
}