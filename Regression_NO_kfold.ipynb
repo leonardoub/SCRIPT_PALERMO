{
  "nbformat": 4,
  "nbformat_minor": 0,
  "metadata": {
    "colab": {
      "name": "Regression_NO_kfold.ipynb",
      "provenance": [],
      "authorship_tag": "ABX9TyPcnFNF3CPrQd44XdhMwLzN",
      "include_colab_link": true
    },
    "kernelspec": {
      "name": "python3",
      "display_name": "Python 3"
    }
  },
  "cells": [
    {
      "cell_type": "markdown",
      "metadata": {
        "id": "view-in-github",
        "colab_type": "text"
      },
      "source": [
        "<a href=\"https://colab.research.google.com/github/leonardoub/SCRIPT_PALERMO/blob/master/Regression_NO_kfold.ipynb\" target=\"_parent\"><img src=\"https://colab.research.google.com/assets/colab-badge.svg\" alt=\"Open In Colab\"/></a>"
      ]
    },
    {
      "cell_type": "code",
      "metadata": {
        "id": "H4l7OHNfwiiy",
        "colab_type": "code",
        "colab": {}
      },
      "source": [
        "import random\n",
        "import pandas as pd\n",
        "import numpy as np\n",
        "import matplotlib.pyplot as plt\n",
        "import scipy\n",
        "import seaborn as sns\n",
        "np.random.seed(1234)"
      ],
      "execution_count": 0,
      "outputs": []
    },
    {
      "cell_type": "markdown",
      "metadata": {
        "id": "_DME-inQ4ke_",
        "colab_type": "text"
      },
      "source": [
        "#Load data"
      ]
    },
    {
      "cell_type": "code",
      "metadata": {
        "id": "7Hq45TSf3WcR",
        "colab_type": "code",
        "outputId": "2900c746-e592-445e-ffa2-b849bc9a4e27",
        "colab": {
          "base_uri": "https://localhost:8080/",
          "height": 54
        }
      },
      "source": [
        "#load data from Drive\n",
        "from google.colab import drive\n",
        "drive.mount('/gdrive')\n",
        "%cd /gdrive"
      ],
      "execution_count": 2,
      "outputs": [
        {
          "output_type": "stream",
          "text": [
            "Drive already mounted at /gdrive; to attempt to forcibly remount, call drive.mount(\"/gdrive\", force_remount=True).\n",
            "/gdrive\n"
          ],
          "name": "stdout"
        }
      ]
    },
    {
      "cell_type": "code",
      "metadata": {
        "id": "UCkUXesZhMzg",
        "colab_type": "code",
        "colab": {}
      },
      "source": [
        "train_dataset_path = '/gdrive/My Drive/AIM_PA/database_training2.csv'\n",
        "test_dataset_path = '/gdrive/My Drive/AIM_PA/database_nostro_without_nan.csv'"
      ],
      "execution_count": 0,
      "outputs": []
    },
    {
      "cell_type": "code",
      "metadata": {
        "id": "TczPxOpEhTXw",
        "colab_type": "code",
        "colab": {}
      },
      "source": [
        "df_train = pd.read_csv(train_dataset_path)\n",
        "df_test = pd.read_csv(test_dataset_path)"
      ],
      "execution_count": 0,
      "outputs": []
    },
    {
      "cell_type": "code",
      "metadata": {
        "id": "9I5MNxeW3j2G",
        "colab_type": "code",
        "colab": {}
      },
      "source": [
        "df_train.rename(columns={'Survival.time (months)':'Surv_time_months'}, inplace=True)"
      ],
      "execution_count": 0,
      "outputs": []
    },
    {
      "cell_type": "code",
      "metadata": {
        "id": "TLxDyFPo3sU9",
        "colab_type": "code",
        "colab": {}
      },
      "source": [
        "df_test.rename(columns={'Survival.time (months)':'Surv_time_months'}, inplace=True)"
      ],
      "execution_count": 0,
      "outputs": []
    },
    {
      "cell_type": "code",
      "metadata": {
        "id": "oXU_B2k03uYa",
        "colab_type": "code",
        "colab": {}
      },
      "source": [
        "df_train.rename(columns={'Overall.Stage':'Overall_Stage'}, inplace=True)\n",
        "df_test.rename(columns={'Overall.Stage':'Overall_Stage'}, inplace=True)"
      ],
      "execution_count": 0,
      "outputs": []
    },
    {
      "cell_type": "code",
      "metadata": {
        "id": "T1YCrOMP3_4q",
        "colab_type": "code",
        "colab": {}
      },
      "source": [
        "public_data = df_train.drop(['Histology', 'Surv_time_months', 'OS', 'deadstatus.event','Overall_Stage'], axis=1)"
      ],
      "execution_count": 0,
      "outputs": []
    },
    {
      "cell_type": "code",
      "metadata": {
        "id": "BWj1mwjV4Mzo",
        "colab_type": "code",
        "colab": {}
      },
      "source": [
        "PA_data = df_test.drop(['Histology', 'Surv_time_months', 'OS', 'deadstatus.event','Overall_Stage'], axis=1)"
      ],
      "execution_count": 0,
      "outputs": []
    },
    {
      "cell_type": "code",
      "metadata": {
        "id": "dKdS4Low4PHh",
        "colab_type": "code",
        "colab": {}
      },
      "source": [
        "public_targets = df_train.Surv_time_months"
      ],
      "execution_count": 0,
      "outputs": []
    },
    {
      "cell_type": "code",
      "metadata": {
        "id": "K6EsAdEt4RNP",
        "colab_type": "code",
        "colab": {}
      },
      "source": [
        "PA_targets = df_test.Surv_time_months"
      ],
      "execution_count": 0,
      "outputs": []
    },
    {
      "cell_type": "code",
      "metadata": {
        "id": "kBaJT3uHVOZ8",
        "colab_type": "code",
        "outputId": "d4833cb1-3751-4ffd-ed4d-136c930f98d1",
        "colab": {
          "base_uri": "https://localhost:8080/",
          "height": 35
        }
      },
      "source": [
        "public_targets.min()"
      ],
      "execution_count": 12,
      "outputs": [
        {
          "output_type": "execute_result",
          "data": {
            "text/plain": [
              "1"
            ]
          },
          "metadata": {
            "tags": []
          },
          "execution_count": 12
        }
      ]
    },
    {
      "cell_type": "code",
      "metadata": {
        "id": "ZmINZOMZVX4G",
        "colab_type": "code",
        "outputId": "97b473ce-ba1f-4479-8c44-447fa754ca5a",
        "colab": {
          "base_uri": "https://localhost:8080/",
          "height": 35
        }
      },
      "source": [
        "public_targets.max()"
      ],
      "execution_count": 13,
      "outputs": [
        {
          "output_type": "execute_result",
          "data": {
            "text/plain": [
              "72"
            ]
          },
          "metadata": {
            "tags": []
          },
          "execution_count": 13
        }
      ]
    },
    {
      "cell_type": "code",
      "metadata": {
        "id": "UdyU7v6SEe4P",
        "colab_type": "code",
        "colab": {}
      },
      "source": [
        "a=list(public_targets)"
      ],
      "execution_count": 0,
      "outputs": []
    },
    {
      "cell_type": "code",
      "metadata": {
        "id": "1iuOkL8LEjXT",
        "colab_type": "code",
        "colab": {}
      },
      "source": [
        "a.sort()"
      ],
      "execution_count": 0,
      "outputs": []
    },
    {
      "cell_type": "code",
      "metadata": {
        "id": "Eh1YPPwSCsYq",
        "colab_type": "code",
        "outputId": "8bc9d4b5-b2d4-4830-fe27-6b143f9dbd91",
        "colab": {
          "base_uri": "https://localhost:8080/",
          "height": 55
        }
      },
      "source": [
        "print(a)"
      ],
      "execution_count": 16,
      "outputs": [
        {
          "output_type": "stream",
          "text": [
            "[1, 1, 2, 2, 2, 2, 2, 2, 3, 3, 3, 3, 3, 3, 4, 4, 4, 4, 4, 4, 5, 5, 5, 5, 6, 6, 6, 6, 6, 6, 7, 7, 7, 7, 8, 8, 9, 9, 9, 9, 10, 10, 10, 10, 10, 10, 11, 12, 12, 12, 12, 12, 13, 13, 13, 15, 15, 15, 15, 15, 16, 16, 16, 16, 16, 17, 18, 18, 18, 18, 19, 19, 19, 21, 21, 21, 21, 21, 22, 22, 23, 23, 23, 24, 24, 25, 25, 25, 26, 27, 27, 27, 28, 29, 29, 30, 30, 30, 31, 31, 32, 33, 33, 33, 34, 36, 36, 36, 38, 38, 40, 40, 41, 41, 44, 45, 45, 46, 46, 46, 48, 50, 51, 52, 54, 56, 60, 63, 64, 71, 72]\n"
          ],
          "name": "stdout"
        }
      ]
    },
    {
      "cell_type": "code",
      "metadata": {
        "id": "EZC4UTEXwwb1",
        "colab_type": "code",
        "outputId": "59e2526d-4202-4055-8224-3915a6e5aa03",
        "colab": {
          "base_uri": "https://localhost:8080/",
          "height": 320
        }
      },
      "source": [
        "plt.hist(public_targets, 5)"
      ],
      "execution_count": 17,
      "outputs": [
        {
          "output_type": "execute_result",
          "data": {
            "text/plain": [
              "(array([60., 35., 19., 12.,  5.]),\n",
              " array([ 1. , 15.2, 29.4, 43.6, 57.8, 72. ]),\n",
              " <a list of 5 Patch objects>)"
            ]
          },
          "metadata": {
            "tags": []
          },
          "execution_count": 17
        },
        {
          "output_type": "display_data",
          "data": {
            "image/png": "[encoded data removed]",
            "text/plain": [
              "<Figure size 432x288 with 1 Axes>"
            ]
          },
          "metadata": {
            "tags": []
          }
        }
      ]
    },
    {
      "cell_type": "markdown",
      "metadata": {
        "id": "tqDYyNd6_3s4",
        "colab_type": "text"
      },
      "source": [
        "#Train Test Split"
      ]
    },
    {
      "cell_type": "code",
      "metadata": {
        "id": "_7I8R-jd_3Hd",
        "colab_type": "code",
        "colab": {}
      },
      "source": [
        "from sklearn.model_selection import train_test_split"
      ],
      "execution_count": 0,
      "outputs": []
    },
    {
      "cell_type": "code",
      "metadata": {
        "id": "1iGf61ksL0aY",
        "colab_type": "code",
        "colab": {}
      },
      "source": [
        "# Create the bins.  My target variable has\n",
        "# max=72 observations, and I want 5 bins.\n",
        "\n",
        "bins = np.linspace(1, 71, 5)"
      ],
      "execution_count": 0,
      "outputs": []
    },
    {
      "cell_type": "code",
      "metadata": {
        "id": "pD-nPB1iMFTh",
        "colab_type": "code",
        "outputId": "6542662e-8003-4ac7-af86-f80681b997be",
        "colab": {
          "base_uri": "https://localhost:8080/",
          "height": 35
        }
      },
      "source": [
        "bins"
      ],
      "execution_count": 20,
      "outputs": [
        {
          "output_type": "execute_result",
          "data": {
            "text/plain": [
              "array([ 1. , 18.5, 36. , 53.5, 71. ])"
            ]
          },
          "metadata": {
            "tags": []
          },
          "execution_count": 20
        }
      ]
    },
    {
      "cell_type": "code",
      "metadata": {
        "id": "NUWXG2pxMr86",
        "colab_type": "code",
        "colab": {}
      },
      "source": [
        "# Save your Y values in a new ndarray,\n",
        "# broken down by the bins created above.\n",
        "\n",
        "y_binned = np.digitize(public_targets, bins)"
      ],
      "execution_count": 0,
      "outputs": []
    },
    {
      "cell_type": "code",
      "metadata": {
        "id": "6W6OigAeMykE",
        "colab_type": "code",
        "outputId": "e26d634b-afdd-48c0-c836-5d8ac5a396e7",
        "colab": {
          "base_uri": "https://localhost:8080/",
          "height": 127
        }
      },
      "source": [
        "y_binned"
      ],
      "execution_count": 22,
      "outputs": [
        {
          "output_type": "execute_result",
          "data": {
            "text/plain": [
              "array([1, 1, 2, 3, 1, 1, 1, 2, 3, 1, 1, 1, 1, 1, 2, 4, 1, 1, 1, 2, 2, 2,\n",
              "       2, 3, 3, 4, 1, 1, 1, 1, 1, 1, 2, 2, 2, 2, 2, 2, 2, 2, 2, 2, 3, 3,\n",
              "       3, 1, 1, 1, 1, 1, 1, 1, 1, 1, 1, 1, 1, 1, 1, 1, 1, 1, 2, 2, 2, 2,\n",
              "       2, 2, 2, 2, 3, 3, 3, 3, 3, 5, 1, 1, 1, 1, 1, 1, 1, 1, 2, 2, 2, 3,\n",
              "       3, 3, 1, 1, 1, 1, 1, 1, 1, 2, 3, 4, 4, 1, 1, 1, 1, 1, 1, 1, 1, 1,\n",
              "       1, 1, 2, 2, 2, 4, 1, 1, 1, 1, 1, 1, 1, 1, 2, 2, 2, 3, 3, 3, 5])"
            ]
          },
          "metadata": {
            "tags": []
          },
          "execution_count": 22
        }
      ]
    },
    {
      "cell_type": "code",
      "metadata": {
        "id": "_bnO8hgZ__GF",
        "colab_type": "code",
        "colab": {}
      },
      "source": [
        "X_train, X_test, y_train, y_test = train_test_split(public_data, public_targets, test_size=13, stratify=y_binned, random_state=1)"
      ],
      "execution_count": 0,
      "outputs": []
    },
    {
      "cell_type": "code",
      "metadata": {
        "id": "tdNT2GsMOAYv",
        "colab_type": "code",
        "outputId": "46ba53ad-0fdb-4726-c264-e38078c709c6",
        "colab": {
          "base_uri": "https://localhost:8080/",
          "height": 320
        }
      },
      "source": [
        "plt.hist(y_test, 5)"
      ],
      "execution_count": 24,
      "outputs": [
        {
          "output_type": "execute_result",
          "data": {
            "text/plain": [
              "(array([5., 3., 2., 2., 1.]),\n",
              " array([ 1. , 12.8, 24.6, 36.4, 48.2, 60. ]),\n",
              " <a list of 5 Patch objects>)"
            ]
          },
          "metadata": {
            "tags": []
          },
          "execution_count": 24
        },
        {
          "output_type": "display_data",
          "data": {
            "image/png": "[encoded data removed]",
            "text/plain": [
              "<Figure size 432x288 with 1 Axes>"
            ]
          },
          "metadata": {
            "tags": []
          }
        }
      ]
    },
    {
      "cell_type": "markdown",
      "metadata": {
        "id": "pMuRNXFjVEiK",
        "colab_type": "text"
      },
      "source": [
        "#Train Validation Split"
      ]
    },
    {
      "cell_type": "code",
      "metadata": {
        "colab_type": "code",
        "id": "ovpVx4a7VMkl",
        "colab": {}
      },
      "source": [
        "from sklearn.model_selection import train_test_split"
      ],
      "execution_count": 0,
      "outputs": []
    },
    {
      "cell_type": "code",
      "metadata": {
        "colab_type": "code",
        "id": "ch0dPinGVMk3",
        "colab": {}
      },
      "source": [
        "# Create the bins. My target variable has\n",
        "#  max=72, and I want 5 bins.\n",
        "\n",
        "bins = np.linspace(1, 71, 5)"
      ],
      "execution_count": 0,
      "outputs": []
    },
    {
      "cell_type": "code",
      "metadata": {
        "colab_type": "code",
        "outputId": "1953cf93-1a4d-4b5f-e95b-cf9551099dd7",
        "id": "o0tcNiSSVMlJ",
        "colab": {
          "base_uri": "https://localhost:8080/",
          "height": 35
        }
      },
      "source": [
        "bins"
      ],
      "execution_count": 27,
      "outputs": [
        {
          "output_type": "execute_result",
          "data": {
            "text/plain": [
              "array([ 1. , 18.5, 36. , 53.5, 71. ])"
            ]
          },
          "metadata": {
            "tags": []
          },
          "execution_count": 27
        }
      ]
    },
    {
      "cell_type": "code",
      "metadata": {
        "colab_type": "code",
        "id": "ZrvunTpXVMla",
        "colab": {}
      },
      "source": [
        "# Save your Y values in a new ndarray,\n",
        "# broken down by the bins created above.\n",
        "\n",
        "y_binned = np.digitize(y_train, bins)"
      ],
      "execution_count": 0,
      "outputs": []
    },
    {
      "cell_type": "code",
      "metadata": {
        "colab_type": "code",
        "outputId": "db62b0c3-b6b9-4cc1-e95f-75af535cfd78",
        "id": "se_dpuIJVMlm",
        "colab": {
          "base_uri": "https://localhost:8080/",
          "height": 127
        }
      },
      "source": [
        "y_binned"
      ],
      "execution_count": 29,
      "outputs": [
        {
          "output_type": "execute_result",
          "data": {
            "text/plain": [
              "array([1, 3, 1, 1, 2, 4, 2, 2, 1, 2, 2, 2, 1, 2, 3, 1, 1, 2, 4, 1, 2, 3,\n",
              "       1, 2, 1, 1, 1, 3, 1, 1, 2, 1, 1, 1, 1, 1, 4, 1, 2, 2, 1, 1, 1, 1,\n",
              "       1, 1, 1, 2, 3, 1, 3, 2, 1, 1, 1, 1, 2, 2, 2, 1, 2, 1, 1, 2, 1, 2,\n",
              "       1, 2, 3, 1, 3, 3, 1, 2, 1, 1, 2, 1, 1, 1, 1, 1, 1, 3, 1, 1, 1, 4,\n",
              "       5, 1, 1, 1, 1, 3, 1, 2, 2, 2, 2, 3, 3, 1, 1, 3, 3, 5, 1, 3, 2, 1,\n",
              "       3, 1, 2, 2, 1, 1, 1, 2])"
            ]
          },
          "metadata": {
            "tags": []
          },
          "execution_count": 29
        }
      ]
    },
    {
      "cell_type": "code",
      "metadata": {
        "colab_type": "code",
        "id": "S3Tq1lHxVMlu",
        "colab": {}
      },
      "source": [
        "X_train_1, X_val, train_targets, val_targets = train_test_split(X_train, y_train, test_size=13, stratify=y_binned, random_state=2)                                                         "
      ],
      "execution_count": 0,
      "outputs": []
    },
    {
      "cell_type": "code",
      "metadata": {
        "colab_type": "code",
        "outputId": "ac63daf6-ff7a-4959-9ee7-13f345ce48c4",
        "id": "sKiagqNGVMl4",
        "colab": {
          "base_uri": "https://localhost:8080/",
          "height": 320
        }
      },
      "source": [
        "plt.hist(val_targets, 5)"
      ],
      "execution_count": 31,
      "outputs": [
        {
          "output_type": "execute_result",
          "data": {
            "text/plain": [
              "(array([6., 2., 2., 2., 1.]),\n",
              " array([ 4. , 13.4, 22.8, 32.2, 41.6, 51. ]),\n",
              " <a list of 5 Patch objects>)"
            ]
          },
          "metadata": {
            "tags": []
          },
          "execution_count": 31
        },
        {
          "output_type": "display_data",
          "data": {
            "image/png": "[encoded data removed]",
            "text/plain": [
              "<Figure size 432x288 with 1 Axes>"
            ]
          },
          "metadata": {
            "tags": []
          }
        }
      ]
    },
    {
      "cell_type": "markdown",
      "metadata": {
        "id": "dtPx7PMDnXM3",
        "colab_type": "text"
      },
      "source": [
        "#Z score dei dati"
      ]
    },
    {
      "cell_type": "code",
      "metadata": {
        "id": "XK4Qji2EnVV4",
        "colab_type": "code",
        "colab": {}
      },
      "source": [
        "mean = X_train_1.mean(axis=0)\n",
        "train_data_stand = X_train_1 - mean\n",
        "std = X_train_1.std(axis=0)\n",
        "train_data_stand /= std"
      ],
      "execution_count": 0,
      "outputs": []
    },
    {
      "cell_type": "code",
      "metadata": {
        "id": "jaqeWiaXXGy0",
        "colab_type": "code",
        "colab": {}
      },
      "source": [
        "val_data_stand = X_val - mean\n",
        "val_data_stand /= std"
      ],
      "execution_count": 0,
      "outputs": []
    },
    {
      "cell_type": "code",
      "metadata": {
        "id": "YOVOoNOvm0Yx",
        "colab_type": "code",
        "colab": {}
      },
      "source": [
        "test_data_stand = X_test - mean\n",
        "test_data_stand /= std"
      ],
      "execution_count": 0,
      "outputs": []
    },
    {
      "cell_type": "markdown",
      "metadata": {
        "id": "Mn0tkOGc3LKN",
        "colab_type": "text"
      },
      "source": [
        "#PCA"
      ]
    },
    {
      "cell_type": "code",
      "metadata": {
        "id": "oS76u6iu3Seg",
        "colab_type": "code",
        "colab": {}
      },
      "source": [
        "from sklearn.decomposition import PCA"
      ],
      "execution_count": 0,
      "outputs": []
    },
    {
      "cell_type": "code",
      "metadata": {
        "id": "KCjC4zqJ3bui",
        "colab_type": "code",
        "colab": {}
      },
      "source": [
        "pca = PCA(n_components=0.9, svd_solver='full')"
      ],
      "execution_count": 0,
      "outputs": []
    },
    {
      "cell_type": "code",
      "metadata": {
        "id": "dLUCf9qX4p_e",
        "colab_type": "code",
        "outputId": "78aa05cc-e138-4946-aa22-d3ed8f36348e",
        "colab": {
          "base_uri": "https://localhost:8080/",
          "height": 54
        }
      },
      "source": [
        "pca.fit(train_data_stand)"
      ],
      "execution_count": 37,
      "outputs": [
        {
          "output_type": "execute_result",
          "data": {
            "text/plain": [
              "PCA(copy=True, iterated_power='auto', n_components=0.9, random_state=None,\n",
              "    svd_solver='full', tol=0.0, whiten=False)"
            ]
          },
          "metadata": {
            "tags": []
          },
          "execution_count": 37
        }
      ]
    },
    {
      "cell_type": "code",
      "metadata": {
        "id": "QfyaKgNZ44o3",
        "colab_type": "code",
        "colab": {}
      },
      "source": [
        "train_data_stand_pca = pca.transform(train_data_stand)\n",
        "val_data_stand_pca = pca.transform(val_data_stand)\n",
        "test_data_stand_pca = pca.transform(test_data_stand)"
      ],
      "execution_count": 0,
      "outputs": []
    },
    {
      "cell_type": "code",
      "metadata": {
        "id": "Uz9C4nl05b_g",
        "colab_type": "code",
        "outputId": "f600596c-e830-4e19-8097-da5f0cc7b5b1",
        "colab": {
          "base_uri": "https://localhost:8080/",
          "height": 35
        }
      },
      "source": [
        "train_data_stand_pca.shape"
      ],
      "execution_count": 39,
      "outputs": [
        {
          "output_type": "execute_result",
          "data": {
            "text/plain": [
              "(105, 9)"
            ]
          },
          "metadata": {
            "tags": []
          },
          "execution_count": 39
        }
      ]
    },
    {
      "cell_type": "markdown",
      "metadata": {
        "id": "WF5fsvoQwBqR",
        "colab_type": "text"
      },
      "source": [
        "#Z-score dopo PCA"
      ]
    },
    {
      "cell_type": "code",
      "metadata": {
        "id": "Bw8_CwJZwBD1",
        "colab_type": "code",
        "colab": {}
      },
      "source": [
        "mean = train_data_stand_pca.mean(axis=0)\n",
        "std = train_data_stand_pca.std(axis=0)\n",
        "train_data_stand_pca = train_data_stand_pca - mean\n",
        "train_data_stand_pca /= std"
      ],
      "execution_count": 0,
      "outputs": []
    },
    {
      "cell_type": "code",
      "metadata": {
        "id": "3KW2c_RIXpWy",
        "colab_type": "code",
        "colab": {}
      },
      "source": [
        "val_data_stand_pca = val_data_stand_pca - mean\n",
        "val_data_stand_pca /= std"
      ],
      "execution_count": 0,
      "outputs": []
    },
    {
      "cell_type": "code",
      "metadata": {
        "id": "H3wGNwiWXvbo",
        "colab_type": "code",
        "colab": {}
      },
      "source": [
        "test_data_stand_pca = test_data_stand_pca - mean\n",
        "test_data_stand_pca /= std"
      ],
      "execution_count": 0,
      "outputs": []
    },
    {
      "cell_type": "markdown",
      "metadata": {
        "id": "8wSKvSu4s5ip",
        "colab_type": "text"
      },
      "source": [
        "#Building Network"
      ]
    },
    {
      "cell_type": "code",
      "metadata": {
        "id": "1tX_y6KKs3pM",
        "colab_type": "code",
        "outputId": "a6936374-3bee-4dd3-8404-52da54003732",
        "colab": {
          "base_uri": "https://localhost:8080/",
          "height": 83
        }
      },
      "source": [
        "from keras import models"
      ],
      "execution_count": 43,
      "outputs": [
        {
          "output_type": "stream",
          "text": [
            "Using TensorFlow backend.\n"
          ],
          "name": "stderr"
        },
        {
          "output_type": "display_data",
          "data": {
            "text/html": [
              "<p style=\"color: red;\">\n",
              "The default version of TensorFlow in Colab will soon switch to TensorFlow 2.x.<br>\n",
              "We recommend you <a href=\"https://www.tensorflow.org/guide/migrate\" target=\"_blank\">upgrade</a> now \n",
              "or ensure your notebook will continue to use TensorFlow 1.x via the <code>%tensorflow_version 1.x</code> magic:\n",
              "<a href=\"https://colab.research.google.com/notebooks/tensorflow_version.ipynb\" target=\"_blank\">more info</a>.</p>\n"
            ],
            "text/plain": [
              "<IPython.core.display.HTML object>"
            ]
          },
          "metadata": {
            "tags": []
          }
        }
      ]
    },
    {
      "cell_type": "code",
      "metadata": {
        "id": "ShwM6YMqsxxJ",
        "colab_type": "code",
        "colab": {}
      },
      "source": [
        "from keras import layers"
      ],
      "execution_count": 0,
      "outputs": []
    },
    {
      "cell_type": "code",
      "metadata": {
        "id": "1dpwVvLEiSot",
        "colab_type": "code",
        "colab": {}
      },
      "source": [
        "from keras.optimizers import RMSprop\n",
        "from keras.optimizers import Adagrad\n",
        "from keras.optimizers import Adadelta\n",
        "from keras.optimizers import Adam\n",
        "from keras.optimizers import Adamax\n",
        "from keras.optimizers import Nadam\n",
        "from keras.optimizers import SGD"
      ],
      "execution_count": 0,
      "outputs": []
    },
    {
      "cell_type": "code",
      "metadata": {
        "id": "PfLUIW9Mgjsp",
        "colab_type": "code",
        "colab": {}
      },
      "source": [
        "from keras import regularizers"
      ],
      "execution_count": 0,
      "outputs": []
    },
    {
      "cell_type": "code",
      "metadata": {
        "id": "7OAEgN31tHVV",
        "colab_type": "code",
        "colab": {}
      },
      "source": [
        "def build_model():\n",
        "  model = models.Sequential()\n",
        "  model.add(layers.Dense(14, activation='relu', kernel_regularizer=regularizers.l1_l2(l1=0.001, l2=0.001), \n",
        "                         input_shape=(9,)))\n",
        "  model.add(layers.Dense(14, activation='relu', kernel_regularizer=regularizers.l1_l2(l1=0.001, l2=0.001)))\n",
        "  #model.add(layers.Dense(32, activation='relu', kernel_regularizer=regularizers.l1_l2(l1=0.001, l2=0.001)))\n",
        "\n",
        "  model.add(layers.Dense(1))\n",
        "\n",
        "  rmsp = RMSprop(lr=0.01)\n",
        "  adagrad = Adagrad(lr=0.01)\n",
        "  adadelta = Adadelta(lr=1.0, rho=0.95)\n",
        "  adam = Adam(lr=0.001, beta_1=0.9, beta_2=0.999, amsgrad=False)\n",
        "  adamax = Adamax(lr=0.002, beta_1=0.9, beta_2=0.999)\n",
        "  nadam = Nadam(lr=0.002, beta_1=0.9, beta_2=0.999)\n",
        "#  sgd = SGD(lr=0.01, momentum=0.0, nesterov=False) # NON UTILIZZABILE\n",
        "#  optimizer='rmsprop'\n",
        "\n",
        "  model.compile(optimizer='rmsprop', loss='mse', metrics=['mae'])\n",
        "  return model"
      ],
      "execution_count": 0,
      "outputs": []
    },
    {
      "cell_type": "markdown",
      "metadata": {
        "id": "sA7Ye1SZDUXB",
        "colab_type": "text"
      },
      "source": [
        "Note that you compile the network with the mse loss function—mean squared error,\n",
        "the square of the difference between the predictions and the targets. This is a widely\n",
        "used loss function for regression problems.\n",
        "\n"
      ]
    },
    {
      "cell_type": "markdown",
      "metadata": {
        "id": "jXmq-i3sDXQA",
        "colab_type": "text"
      },
      "source": [
        "You’re also monitoring a new metric during training: mean absolute error (MAE). It’s\n",
        "the absolute value of the difference between the predictions and the targets. For\n",
        "instance, an MAE of 0.5 on this problem would mean your predictions are off by $500\n",
        "on average."
      ]
    },
    {
      "cell_type": "code",
      "metadata": {
        "id": "oGBwn5RnEdHR",
        "colab_type": "code",
        "colab": {}
      },
      "source": [
        "from keras.callbacks import ReduceLROnPlateau\n",
        "red_lr = ReduceLROnPlateau('loss', patience=5, verbose=1, min_lr=0.0001)"
      ],
      "execution_count": 0,
      "outputs": []
    },
    {
      "cell_type": "code",
      "metadata": {
        "id": "35Hc4rG203_u",
        "colab_type": "code",
        "outputId": "4fa4fc21-8549-4990-b352-fe7509aa11c4",
        "colab": {
          "base_uri": "https://localhost:8080/",
          "height": 1000
        }
      },
      "source": [
        "num_epochs = 500\n",
        "\n",
        "model = build_model()\n",
        "history = model.fit(train_data_stand_pca, train_targets, validation_data=(val_data_stand_pca, val_targets), \n",
        "                      epochs= num_epochs, batch_size=1, callbacks=[red_lr])\n",
        "  \n",
        "mae_history = history.history['mean_absolute_error']\n",
        "mae_val_history = history.history['val_mean_absolute_error']\n",
        "loss_history = history.history['loss']\n",
        "loss_val_history = history.history['val_loss']"
      ],
      "execution_count": 49,
      "outputs": [
        {
          "output_type": "stream",
          "text": [
            "WARNING:tensorflow:From /usr/local/lib/python3.6/dist-packages/keras/backend/tensorflow_backend.py:66: The name tf.get_default_graph is deprecated. Please use tf.compat.v1.get_default_graph instead.\n",
            "\n",
            "WARNING:tensorflow:From /usr/local/lib/python3.6/dist-packages/keras/backend/tensorflow_backend.py:541: The name tf.placeholder is deprecated. Please use tf.compat.v1.placeholder instead.\n",
            "\n",
            "WARNING:tensorflow:From /usr/local/lib/python3.6/dist-packages/keras/backend/tensorflow_backend.py:4432: The name tf.random_uniform is deprecated. Please use tf.random.uniform instead.\n",
            "\n",
            "WARNING:tensorflow:From /usr/local/lib/python3.6/dist-packages/keras/optimizers.py:793: The name tf.train.Optimizer is deprecated. Please use tf.compat.v1.train.Optimizer instead.\n",
            "\n",
            "WARNING:tensorflow:From /usr/local/lib/python3.6/dist-packages/keras/backend/tensorflow_backend.py:1033: The name tf.assign_add is deprecated. Please use tf.compat.v1.assign_add instead.\n",
            "\n",
            "WARNING:tensorflow:From /usr/local/lib/python3.6/dist-packages/keras/backend/tensorflow_backend.py:1020: The name tf.assign is deprecated. Please use tf.compat.v1.assign instead.\n",
            "\n",
            "WARNING:tensorflow:From /usr/local/lib/python3.6/dist-packages/keras/backend/tensorflow_backend.py:3005: The name tf.Session is deprecated. Please use tf.compat.v1.Session instead.\n",
            "\n",
            "Train on 105 samples, validate on 13 samples\n",
            "Epoch 1/500\n",
            "WARNING:tensorflow:From /usr/local/lib/python3.6/dist-packages/keras/backend/tensorflow_backend.py:190: The name tf.get_default_session is deprecated. Please use tf.compat.v1.get_default_session instead.\n",
            "\n",
            "WARNING:tensorflow:From /usr/local/lib/python3.6/dist-packages/keras/backend/tensorflow_backend.py:197: The name tf.ConfigProto is deprecated. Please use tf.compat.v1.ConfigProto instead.\n",
            "\n",
            "WARNING:tensorflow:From /usr/local/lib/python3.6/dist-packages/keras/backend/tensorflow_backend.py:207: The name tf.global_variables is deprecated. Please use tf.compat.v1.global_variables instead.\n",
            "\n",
            "WARNING:tensorflow:From /usr/local/lib/python3.6/dist-packages/keras/backend/tensorflow_backend.py:216: The name tf.is_variable_initialized is deprecated. Please use tf.compat.v1.is_variable_initialized instead.\n",
            "\n",
            "WARNING:tensorflow:From /usr/local/lib/python3.6/dist-packages/keras/backend/tensorflow_backend.py:223: The name tf.variables_initializer is deprecated. Please use tf.compat.v1.variables_initializer instead.\n",
            "\n",
            "105/105 [==============================] - 0s 4ms/step - loss: 717.1415 - mean_absolute_error: 20.8126 - val_loss: 519.7564 - val_mean_absolute_error: 18.3672\n",
            "Epoch 2/500\n",
            "105/105 [==============================] - 0s 1ms/step - loss: 678.7096 - mean_absolute_error: 19.8352 - val_loss: 475.2432 - val_mean_absolute_error: 17.1543\n",
            "Epoch 3/500\n",
            "105/105 [==============================] - 0s 1ms/step - loss: 627.2638 - mean_absolute_error: 18.5482 - val_loss: 416.6666 - val_mean_absolute_error: 15.4075\n",
            "Epoch 4/500\n",
            "105/105 [==============================] - 0s 1ms/step - loss: 562.2737 - mean_absolute_error: 17.1187 - val_loss: 347.6007 - val_mean_absolute_error: 13.4367\n",
            "Epoch 5/500\n",
            "105/105 [==============================] - 0s 1ms/step - loss: 487.3821 - mean_absolute_error: 15.5541 - val_loss: 279.9878 - val_mean_absolute_error: 11.6837\n",
            "Epoch 6/500\n",
            "105/105 [==============================] - 0s 1ms/step - loss: 415.9905 - mean_absolute_error: 14.4413 - val_loss: 226.1710 - val_mean_absolute_error: 10.1108\n",
            "Epoch 7/500\n",
            "105/105 [==============================] - 0s 1ms/step - loss: 357.8814 - mean_absolute_error: 13.4742 - val_loss: 190.4608 - val_mean_absolute_error: 9.8162\n",
            "Epoch 8/500\n",
            "105/105 [==============================] - 0s 1ms/step - loss: 317.9750 - mean_absolute_error: 13.0383 - val_loss: 175.8874 - val_mean_absolute_error: 10.3172\n",
            "Epoch 9/500\n",
            "105/105 [==============================] - 0s 1ms/step - loss: 291.8619 - mean_absolute_error: 12.7420 - val_loss: 170.2322 - val_mean_absolute_error: 10.7595\n",
            "Epoch 10/500\n",
            "105/105 [==============================] - 0s 1ms/step - loss: 272.9801 - mean_absolute_error: 12.4920 - val_loss: 171.6977 - val_mean_absolute_error: 11.1746\n",
            "Epoch 11/500\n",
            "105/105 [==============================] - 0s 1ms/step - loss: 261.2103 - mean_absolute_error: 12.4143 - val_loss: 174.2757 - val_mean_absolute_error: 11.3859\n",
            "Epoch 12/500\n",
            "105/105 [==============================] - 0s 1ms/step - loss: 253.8006 - mean_absolute_error: 12.1813 - val_loss: 177.6965 - val_mean_absolute_error: 11.6045\n",
            "Epoch 13/500\n",
            "105/105 [==============================] - 0s 1ms/step - loss: 247.0749 - mean_absolute_error: 12.1266 - val_loss: 181.4557 - val_mean_absolute_error: 11.7828\n",
            "Epoch 14/500\n",
            "105/105 [==============================] - 0s 1ms/step - loss: 241.7351 - mean_absolute_error: 11.9728 - val_loss: 184.1899 - val_mean_absolute_error: 11.9112\n",
            "Epoch 15/500\n",
            "105/105 [==============================] - 0s 1ms/step - loss: 238.3311 - mean_absolute_error: 11.8406 - val_loss: 187.1905 - val_mean_absolute_error: 12.0480\n",
            "Epoch 16/500\n",
            "105/105 [==============================] - 0s 1ms/step - loss: 234.7527 - mean_absolute_error: 11.7342 - val_loss: 191.2839 - val_mean_absolute_error: 12.2055\n",
            "Epoch 17/500\n",
            "105/105 [==============================] - 0s 1ms/step - loss: 230.7719 - mean_absolute_error: 11.6607 - val_loss: 193.0223 - val_mean_absolute_error: 12.2631\n",
            "Epoch 18/500\n",
            "105/105 [==============================] - 0s 1ms/step - loss: 228.4167 - mean_absolute_error: 11.5865 - val_loss: 194.3878 - val_mean_absolute_error: 12.2895\n",
            "Epoch 19/500\n",
            "105/105 [==============================] - 0s 1ms/step - loss: 226.9054 - mean_absolute_error: 11.5119 - val_loss: 196.9606 - val_mean_absolute_error: 12.3986\n",
            "Epoch 20/500\n",
            "105/105 [==============================] - 0s 1ms/step - loss: 225.0725 - mean_absolute_error: 11.4219 - val_loss: 199.4660 - val_mean_absolute_error: 12.4812\n",
            "Epoch 21/500\n",
            "105/105 [==============================] - 0s 1ms/step - loss: 222.3902 - mean_absolute_error: 11.3204 - val_loss: 199.8401 - val_mean_absolute_error: 12.4767\n",
            "Epoch 22/500\n",
            "105/105 [==============================] - 0s 1ms/step - loss: 221.2471 - mean_absolute_error: 11.2794 - val_loss: 201.0095 - val_mean_absolute_error: 12.4925\n",
            "Epoch 23/500\n",
            "105/105 [==============================] - 0s 1ms/step - loss: 220.8373 - mean_absolute_error: 11.1714 - val_loss: 203.6344 - val_mean_absolute_error: 12.5834\n",
            "Epoch 24/500\n",
            "105/105 [==============================] - 0s 1ms/step - loss: 219.1549 - mean_absolute_error: 11.1311 - val_loss: 205.7808 - val_mean_absolute_error: 12.6564\n",
            "Epoch 25/500\n",
            "105/105 [==============================] - 0s 1ms/step - loss: 217.7274 - mean_absolute_error: 11.0635 - val_loss: 208.6917 - val_mean_absolute_error: 12.7630\n",
            "Epoch 26/500\n",
            "105/105 [==============================] - 0s 1ms/step - loss: 216.4565 - mean_absolute_error: 11.0142 - val_loss: 208.1551 - val_mean_absolute_error: 12.7272\n",
            "Epoch 27/500\n",
            "105/105 [==============================] - 0s 1ms/step - loss: 216.2035 - mean_absolute_error: 10.9264 - val_loss: 212.7809 - val_mean_absolute_error: 12.8864\n",
            "Epoch 28/500\n",
            "105/105 [==============================] - 0s 1ms/step - loss: 214.6182 - mean_absolute_error: 10.9421 - val_loss: 212.6887 - val_mean_absolute_error: 12.8755\n",
            "Epoch 29/500\n",
            "105/105 [==============================] - 0s 1ms/step - loss: 212.7985 - mean_absolute_error: 10.9126 - val_loss: 213.8121 - val_mean_absolute_error: 12.9050\n",
            "Epoch 30/500\n",
            "105/105 [==============================] - 0s 1ms/step - loss: 213.0557 - mean_absolute_error: 10.8021 - val_loss: 214.5182 - val_mean_absolute_error: 12.9260\n",
            "Epoch 31/500\n",
            "105/105 [==============================] - 0s 1ms/step - loss: 211.6332 - mean_absolute_error: 10.8139 - val_loss: 217.7635 - val_mean_absolute_error: 13.0283\n",
            "Epoch 32/500\n",
            "105/105 [==============================] - 0s 1ms/step - loss: 211.3184 - mean_absolute_error: 10.8128 - val_loss: 217.3967 - val_mean_absolute_error: 12.9861\n",
            "Epoch 33/500\n",
            "105/105 [==============================] - 0s 1ms/step - loss: 210.4693 - mean_absolute_error: 10.7054 - val_loss: 220.0195 - val_mean_absolute_error: 13.0695\n",
            "Epoch 34/500\n",
            "105/105 [==============================] - 0s 1ms/step - loss: 209.9176 - mean_absolute_error: 10.6918 - val_loss: 220.5190 - val_mean_absolute_error: 13.0736\n",
            "Epoch 35/500\n",
            "105/105 [==============================] - 0s 1ms/step - loss: 208.9611 - mean_absolute_error: 10.6808 - val_loss: 222.8825 - val_mean_absolute_error: 13.1460\n",
            "Epoch 36/500\n",
            "105/105 [==============================] - 0s 1ms/step - loss: 208.1556 - mean_absolute_error: 10.6895 - val_loss: 222.5308 - val_mean_absolute_error: 13.1329\n",
            "Epoch 37/500\n",
            "105/105 [==============================] - 0s 1ms/step - loss: 206.0837 - mean_absolute_error: 10.6576 - val_loss: 218.0083 - val_mean_absolute_error: 12.9261\n",
            "Epoch 38/500\n",
            "105/105 [==============================] - 0s 1ms/step - loss: 206.8425 - mean_absolute_error: 10.6091 - val_loss: 218.7196 - val_mean_absolute_error: 12.9572\n",
            "Epoch 39/500\n",
            "105/105 [==============================] - 0s 1ms/step - loss: 205.7113 - mean_absolute_error: 10.5643 - val_loss: 220.7336 - val_mean_absolute_error: 13.0187\n",
            "Epoch 40/500\n",
            "105/105 [==============================] - 0s 1ms/step - loss: 205.1279 - mean_absolute_error: 10.5290 - val_loss: 220.8841 - val_mean_absolute_error: 13.0002\n",
            "Epoch 41/500\n",
            "105/105 [==============================] - 0s 1ms/step - loss: 204.5396 - mean_absolute_error: 10.4654 - val_loss: 223.9767 - val_mean_absolute_error: 13.1194\n",
            "Epoch 42/500\n",
            "105/105 [==============================] - 0s 1ms/step - loss: 203.7533 - mean_absolute_error: 10.5019 - val_loss: 226.3071 - val_mean_absolute_error: 13.2067\n",
            "Epoch 43/500\n",
            "105/105 [==============================] - 0s 1ms/step - loss: 203.6967 - mean_absolute_error: 10.4779 - val_loss: 225.7080 - val_mean_absolute_error: 13.1485\n",
            "Epoch 44/500\n",
            "105/105 [==============================] - 0s 1ms/step - loss: 202.4892 - mean_absolute_error: 10.4450 - val_loss: 226.6327 - val_mean_absolute_error: 13.1470\n",
            "Epoch 45/500\n",
            "105/105 [==============================] - 0s 1ms/step - loss: 202.5131 - mean_absolute_error: 10.3492 - val_loss: 226.6617 - val_mean_absolute_error: 13.1436\n",
            "Epoch 46/500\n",
            "105/105 [==============================] - 0s 1ms/step - loss: 201.5064 - mean_absolute_error: 10.3281 - val_loss: 229.7441 - val_mean_absolute_error: 13.2496\n",
            "Epoch 47/500\n",
            "105/105 [==============================] - 0s 1ms/step - loss: 200.6312 - mean_absolute_error: 10.3039 - val_loss: 233.7750 - val_mean_absolute_error: 13.3772\n",
            "Epoch 48/500\n",
            "105/105 [==============================] - 0s 1ms/step - loss: 200.4746 - mean_absolute_error: 10.3326 - val_loss: 233.5746 - val_mean_absolute_error: 13.3694\n",
            "Epoch 49/500\n",
            "105/105 [==============================] - 0s 1ms/step - loss: 199.7175 - mean_absolute_error: 10.3272 - val_loss: 233.9369 - val_mean_absolute_error: 13.3730\n",
            "Epoch 50/500\n",
            "105/105 [==============================] - 0s 1ms/step - loss: 199.2685 - mean_absolute_error: 10.2549 - val_loss: 235.3579 - val_mean_absolute_error: 13.4119\n",
            "Epoch 51/500\n",
            "105/105 [==============================] - 0s 1ms/step - loss: 199.0551 - mean_absolute_error: 10.2597 - val_loss: 234.5473 - val_mean_absolute_error: 13.3684\n",
            "Epoch 52/500\n",
            "105/105 [==============================] - 0s 1ms/step - loss: 198.7022 - mean_absolute_error: 10.1914 - val_loss: 235.8281 - val_mean_absolute_error: 13.4095\n",
            "Epoch 53/500\n",
            "105/105 [==============================] - 0s 1ms/step - loss: 196.9037 - mean_absolute_error: 10.2548 - val_loss: 234.8960 - val_mean_absolute_error: 13.3946\n",
            "Epoch 54/500\n",
            "105/105 [==============================] - 0s 1ms/step - loss: 197.7380 - mean_absolute_error: 10.2076 - val_loss: 235.6094 - val_mean_absolute_error: 13.4183\n",
            "Epoch 55/500\n",
            "105/105 [==============================] - 0s 1ms/step - loss: 195.8366 - mean_absolute_error: 10.2074 - val_loss: 234.3790 - val_mean_absolute_error: 13.3514\n",
            "Epoch 56/500\n",
            "105/105 [==============================] - 0s 1ms/step - loss: 196.0580 - mean_absolute_error: 10.1110 - val_loss: 240.0425 - val_mean_absolute_error: 13.4907\n",
            "Epoch 57/500\n",
            "105/105 [==============================] - 0s 1ms/step - loss: 196.7057 - mean_absolute_error: 10.1429 - val_loss: 240.9143 - val_mean_absolute_error: 13.5235\n",
            "Epoch 58/500\n",
            "105/105 [==============================] - 0s 1ms/step - loss: 196.0986 - mean_absolute_error: 10.0776 - val_loss: 241.1382 - val_mean_absolute_error: 13.5317\n",
            "Epoch 59/500\n",
            "105/105 [==============================] - 0s 1ms/step - loss: 194.8182 - mean_absolute_error: 10.0736 - val_loss: 240.3636 - val_mean_absolute_error: 13.4957\n",
            "Epoch 60/500\n",
            "105/105 [==============================] - 0s 1ms/step - loss: 194.2122 - mean_absolute_error: 10.0705 - val_loss: 242.3809 - val_mean_absolute_error: 13.5306\n",
            "Epoch 61/500\n",
            "105/105 [==============================] - 0s 1ms/step - loss: 193.2593 - mean_absolute_error: 10.0282 - val_loss: 240.1293 - val_mean_absolute_error: 13.4850\n",
            "Epoch 62/500\n",
            "105/105 [==============================] - 0s 1ms/step - loss: 192.9229 - mean_absolute_error: 9.9752 - val_loss: 244.5118 - val_mean_absolute_error: 13.6377\n",
            "Epoch 63/500\n",
            "105/105 [==============================] - 0s 1ms/step - loss: 192.8522 - mean_absolute_error: 9.9623 - val_loss: 244.8560 - val_mean_absolute_error: 13.6442\n",
            "Epoch 64/500\n",
            "105/105 [==============================] - 0s 1ms/step - loss: 191.9958 - mean_absolute_error: 9.9755 - val_loss: 247.7025 - val_mean_absolute_error: 13.6961\n",
            "Epoch 65/500\n",
            "105/105 [==============================] - 0s 1ms/step - loss: 191.2162 - mean_absolute_error: 9.9594 - val_loss: 247.8442 - val_mean_absolute_error: 13.6904\n",
            "Epoch 66/500\n",
            "105/105 [==============================] - 0s 1ms/step - loss: 190.6575 - mean_absolute_error: 9.9635 - val_loss: 245.1890 - val_mean_absolute_error: 13.6353\n",
            "Epoch 67/500\n",
            "105/105 [==============================] - 0s 1ms/step - loss: 190.7027 - mean_absolute_error: 9.8856 - val_loss: 246.3133 - val_mean_absolute_error: 13.6653\n",
            "Epoch 68/500\n",
            "105/105 [==============================] - 0s 1ms/step - loss: 189.9991 - mean_absolute_error: 9.8527 - val_loss: 246.9174 - val_mean_absolute_error: 13.6903\n",
            "Epoch 69/500\n",
            "105/105 [==============================] - 0s 1ms/step - loss: 189.8464 - mean_absolute_error: 9.8352 - val_loss: 248.4414 - val_mean_absolute_error: 13.7316\n",
            "Epoch 70/500\n",
            "105/105 [==============================] - 0s 1ms/step - loss: 188.8871 - mean_absolute_error: 9.7942 - val_loss: 248.2327 - val_mean_absolute_error: 13.7287\n",
            "Epoch 71/500\n",
            "105/105 [==============================] - 0s 1ms/step - loss: 190.0383 - mean_absolute_error: 9.8028 - val_loss: 249.4584 - val_mean_absolute_error: 13.7485\n",
            "Epoch 72/500\n",
            "105/105 [==============================] - 0s 1ms/step - loss: 188.1169 - mean_absolute_error: 9.7012 - val_loss: 253.4485 - val_mean_absolute_error: 13.8449\n",
            "Epoch 73/500\n",
            "105/105 [==============================] - 0s 1ms/step - loss: 187.8367 - mean_absolute_error: 9.7728 - val_loss: 252.1913 - val_mean_absolute_error: 13.8050\n",
            "Epoch 74/500\n",
            "105/105 [==============================] - 0s 1ms/step - loss: 187.5472 - mean_absolute_error: 9.7415 - val_loss: 251.7994 - val_mean_absolute_error: 13.8096\n",
            "Epoch 75/500\n",
            "105/105 [==============================] - 0s 1ms/step - loss: 186.5199 - mean_absolute_error: 9.7439 - val_loss: 250.7477 - val_mean_absolute_error: 13.8051\n",
            "Epoch 76/500\n",
            "105/105 [==============================] - 0s 1ms/step - loss: 186.3909 - mean_absolute_error: 9.6932 - val_loss: 253.2422 - val_mean_absolute_error: 13.8876\n",
            "Epoch 77/500\n",
            "105/105 [==============================] - 0s 1ms/step - loss: 186.1032 - mean_absolute_error: 9.6577 - val_loss: 254.0879 - val_mean_absolute_error: 13.8971\n",
            "Epoch 78/500\n",
            "105/105 [==============================] - 0s 1ms/step - loss: 185.0335 - mean_absolute_error: 9.6453 - val_loss: 252.3042 - val_mean_absolute_error: 13.8597\n",
            "Epoch 79/500\n",
            "105/105 [==============================] - 0s 1ms/step - loss: 184.3339 - mean_absolute_error: 9.6738 - val_loss: 256.9109 - val_mean_absolute_error: 13.9831\n",
            "Epoch 80/500\n",
            "105/105 [==============================] - 0s 1ms/step - loss: 184.8092 - mean_absolute_error: 9.6317 - val_loss: 257.0366 - val_mean_absolute_error: 13.9701\n",
            "Epoch 81/500\n",
            "105/105 [==============================] - 0s 1ms/step - loss: 183.9484 - mean_absolute_error: 9.6463 - val_loss: 257.8177 - val_mean_absolute_error: 13.9905\n",
            "Epoch 82/500\n",
            "105/105 [==============================] - 0s 1ms/step - loss: 184.6228 - mean_absolute_error: 9.5749 - val_loss: 260.3420 - val_mean_absolute_error: 14.0661\n",
            "Epoch 83/500\n",
            "105/105 [==============================] - 0s 1ms/step - loss: 183.0790 - mean_absolute_error: 9.5981 - val_loss: 259.5100 - val_mean_absolute_error: 14.0642\n",
            "Epoch 84/500\n",
            "105/105 [==============================] - 0s 1ms/step - loss: 183.1184 - mean_absolute_error: 9.5626 - val_loss: 258.7276 - val_mean_absolute_error: 14.0084\n",
            "Epoch 85/500\n",
            "105/105 [==============================] - 0s 1ms/step - loss: 181.9411 - mean_absolute_error: 9.6101 - val_loss: 259.0923 - val_mean_absolute_error: 14.0573\n",
            "Epoch 86/500\n",
            "105/105 [==============================] - 0s 1ms/step - loss: 182.3874 - mean_absolute_error: 9.5020 - val_loss: 265.8600 - val_mean_absolute_error: 14.2536\n",
            "Epoch 87/500\n",
            "105/105 [==============================] - 0s 1ms/step - loss: 180.1162 - mean_absolute_error: 9.5276 - val_loss: 265.0774 - val_mean_absolute_error: 14.2761\n",
            "Epoch 88/500\n",
            "105/105 [==============================] - 0s 1ms/step - loss: 181.0610 - mean_absolute_error: 9.4776 - val_loss: 268.0255 - val_mean_absolute_error: 14.2828\n",
            "Epoch 89/500\n",
            "105/105 [==============================] - 0s 1ms/step - loss: 180.7658 - mean_absolute_error: 9.4610 - val_loss: 269.0973 - val_mean_absolute_error: 14.3061\n",
            "Epoch 90/500\n",
            "105/105 [==============================] - 0s 1ms/step - loss: 179.9117 - mean_absolute_error: 9.4502 - val_loss: 267.9918 - val_mean_absolute_error: 14.2750\n",
            "Epoch 91/500\n",
            "105/105 [==============================] - 0s 1ms/step - loss: 179.0458 - mean_absolute_error: 9.3727 - val_loss: 271.0496 - val_mean_absolute_error: 14.3950\n",
            "Epoch 92/500\n",
            "105/105 [==============================] - 0s 1ms/step - loss: 179.8171 - mean_absolute_error: 9.4414 - val_loss: 271.2831 - val_mean_absolute_error: 14.3823\n",
            "Epoch 93/500\n",
            "105/105 [==============================] - 0s 1ms/step - loss: 179.4614 - mean_absolute_error: 9.4034 - val_loss: 274.2816 - val_mean_absolute_error: 14.4792\n",
            "Epoch 94/500\n",
            "105/105 [==============================] - 0s 1ms/step - loss: 178.3241 - mean_absolute_error: 9.4355 - val_loss: 271.9308 - val_mean_absolute_error: 14.4023\n",
            "Epoch 95/500\n",
            "105/105 [==============================] - 0s 1ms/step - loss: 178.0621 - mean_absolute_error: 9.3792 - val_loss: 272.9390 - val_mean_absolute_error: 14.4307\n",
            "Epoch 96/500\n",
            "105/105 [==============================] - 0s 1ms/step - loss: 177.8968 - mean_absolute_error: 9.3598 - val_loss: 270.4907 - val_mean_absolute_error: 14.3671\n",
            "Epoch 97/500\n",
            "105/105 [==============================] - 0s 1ms/step - loss: 177.5110 - mean_absolute_error: 9.3187 - val_loss: 273.6135 - val_mean_absolute_error: 14.4610\n",
            "Epoch 98/500\n",
            "105/105 [==============================] - 0s 1ms/step - loss: 176.8835 - mean_absolute_error: 9.3440 - val_loss: 274.3955 - val_mean_absolute_error: 14.4762\n",
            "Epoch 99/500\n",
            "105/105 [==============================] - 0s 1ms/step - loss: 175.8845 - mean_absolute_error: 9.3185 - val_loss: 278.9396 - val_mean_absolute_error: 14.5615\n",
            "Epoch 100/500\n",
            "105/105 [==============================] - 0s 1ms/step - loss: 175.6647 - mean_absolute_error: 9.3047 - val_loss: 278.4346 - val_mean_absolute_error: 14.5410\n",
            "Epoch 101/500\n",
            "105/105 [==============================] - 0s 1ms/step - loss: 174.5799 - mean_absolute_error: 9.3250 - val_loss: 277.4972 - val_mean_absolute_error: 14.5101\n",
            "Epoch 102/500\n",
            "105/105 [==============================] - 0s 1ms/step - loss: 174.1715 - mean_absolute_error: 9.2472 - val_loss: 272.8629 - val_mean_absolute_error: 14.4063\n",
            "Epoch 103/500\n",
            "105/105 [==============================] - 0s 1ms/step - loss: 174.3315 - mean_absolute_error: 9.2378 - val_loss: 274.9300 - val_mean_absolute_error: 14.4648\n",
            "Epoch 104/500\n",
            "105/105 [==============================] - 0s 1ms/step - loss: 173.4230 - mean_absolute_error: 9.2356 - val_loss: 274.1994 - val_mean_absolute_error: 14.4623\n",
            "Epoch 105/500\n",
            "105/105 [==============================] - 0s 1ms/step - loss: 173.0026 - mean_absolute_error: 9.2268 - val_loss: 276.8186 - val_mean_absolute_error: 14.5034\n",
            "Epoch 106/500\n",
            "105/105 [==============================] - 0s 1ms/step - loss: 172.6205 - mean_absolute_error: 9.2831 - val_loss: 276.5229 - val_mean_absolute_error: 14.4920\n",
            "Epoch 107/500\n",
            "105/105 [==============================] - 0s 1ms/step - loss: 173.1963 - mean_absolute_error: 9.2111 - val_loss: 280.0425 - val_mean_absolute_error: 14.5996\n",
            "Epoch 108/500\n",
            "105/105 [==============================] - 0s 1ms/step - loss: 172.2217 - mean_absolute_error: 9.2185 - val_loss: 280.6978 - val_mean_absolute_error: 14.6442\n",
            "Epoch 109/500\n",
            "105/105 [==============================] - 0s 1ms/step - loss: 172.0353 - mean_absolute_error: 9.2377 - val_loss: 279.1600 - val_mean_absolute_error: 14.6109\n",
            "Epoch 110/500\n",
            "105/105 [==============================] - 0s 1ms/step - loss: 171.5736 - mean_absolute_error: 9.1907 - val_loss: 279.2425 - val_mean_absolute_error: 14.6302\n",
            "Epoch 111/500\n",
            "105/105 [==============================] - 0s 1ms/step - loss: 170.9493 - mean_absolute_error: 9.1478 - val_loss: 280.7388 - val_mean_absolute_error: 14.6364\n",
            "Epoch 112/500\n",
            "105/105 [==============================] - 0s 1ms/step - loss: 171.1487 - mean_absolute_error: 9.1526 - val_loss: 278.6300 - val_mean_absolute_error: 14.5597\n",
            "Epoch 113/500\n",
            "105/105 [==============================] - 0s 1ms/step - loss: 170.0062 - mean_absolute_error: 9.1076 - val_loss: 281.5390 - val_mean_absolute_error: 14.6249\n",
            "Epoch 114/500\n",
            "105/105 [==============================] - 0s 1ms/step - loss: 169.6791 - mean_absolute_error: 9.1230 - val_loss: 285.7415 - val_mean_absolute_error: 14.7112\n",
            "Epoch 115/500\n",
            "105/105 [==============================] - 0s 1ms/step - loss: 168.6473 - mean_absolute_error: 9.1417 - val_loss: 281.6108 - val_mean_absolute_error: 14.5961\n",
            "Epoch 116/500\n",
            "105/105 [==============================] - 0s 1ms/step - loss: 169.5388 - mean_absolute_error: 9.0914 - val_loss: 279.1470 - val_mean_absolute_error: 14.5193\n",
            "Epoch 117/500\n",
            "105/105 [==============================] - 0s 1ms/step - loss: 169.0120 - mean_absolute_error: 9.0336 - val_loss: 279.2619 - val_mean_absolute_error: 14.4797\n",
            "Epoch 118/500\n",
            "105/105 [==============================] - 0s 1ms/step - loss: 168.3288 - mean_absolute_error: 9.0804 - val_loss: 281.0355 - val_mean_absolute_error: 14.5545\n",
            "Epoch 119/500\n",
            "105/105 [==============================] - 0s 1ms/step - loss: 168.1809 - mean_absolute_error: 9.0496 - val_loss: 281.2344 - val_mean_absolute_error: 14.5771\n",
            "Epoch 120/500\n",
            "105/105 [==============================] - 0s 1ms/step - loss: 168.6601 - mean_absolute_error: 9.0192 - val_loss: 281.7481 - val_mean_absolute_error: 14.5278\n",
            "Epoch 121/500\n",
            "105/105 [==============================] - 0s 1ms/step - loss: 167.8978 - mean_absolute_error: 9.0167 - val_loss: 281.1669 - val_mean_absolute_error: 14.5047\n",
            "Epoch 122/500\n",
            "105/105 [==============================] - 0s 1ms/step - loss: 167.1185 - mean_absolute_error: 8.9901 - val_loss: 285.9877 - val_mean_absolute_error: 14.5926\n",
            "Epoch 123/500\n",
            "105/105 [==============================] - 0s 1ms/step - loss: 166.1926 - mean_absolute_error: 9.0378 - val_loss: 282.0182 - val_mean_absolute_error: 14.4932\n",
            "Epoch 124/500\n",
            "105/105 [==============================] - 0s 1ms/step - loss: 166.8038 - mean_absolute_error: 9.0186 - val_loss: 284.3215 - val_mean_absolute_error: 14.5432\n",
            "Epoch 125/500\n",
            "105/105 [==============================] - 0s 1ms/step - loss: 166.4042 - mean_absolute_error: 8.9980 - val_loss: 285.1095 - val_mean_absolute_error: 14.5234\n",
            "Epoch 126/500\n",
            "105/105 [==============================] - 0s 1ms/step - loss: 166.1986 - mean_absolute_error: 8.9945 - val_loss: 285.0797 - val_mean_absolute_error: 14.5594\n",
            "Epoch 127/500\n",
            "105/105 [==============================] - 0s 1ms/step - loss: 165.4634 - mean_absolute_error: 8.9895 - val_loss: 281.3706 - val_mean_absolute_error: 14.5602\n",
            "Epoch 128/500\n",
            "105/105 [==============================] - 0s 1ms/step - loss: 164.9152 - mean_absolute_error: 8.9699 - val_loss: 282.5929 - val_mean_absolute_error: 14.5495\n",
            "Epoch 129/500\n",
            "105/105 [==============================] - 0s 1ms/step - loss: 164.2115 - mean_absolute_error: 8.8720 - val_loss: 279.1593 - val_mean_absolute_error: 14.5048\n",
            "Epoch 130/500\n",
            "105/105 [==============================] - 0s 1ms/step - loss: 164.8251 - mean_absolute_error: 8.9712 - val_loss: 283.2321 - val_mean_absolute_error: 14.5984\n",
            "Epoch 131/500\n",
            "105/105 [==============================] - 0s 1ms/step - loss: 165.5204 - mean_absolute_error: 8.9166 - val_loss: 285.8401 - val_mean_absolute_error: 14.5955\n",
            "Epoch 132/500\n",
            "105/105 [==============================] - 0s 1ms/step - loss: 165.0651 - mean_absolute_error: 8.8595 - val_loss: 289.7729 - val_mean_absolute_error: 14.6567\n",
            "Epoch 133/500\n",
            "105/105 [==============================] - 0s 1ms/step - loss: 164.8160 - mean_absolute_error: 8.8864 - val_loss: 293.4282 - val_mean_absolute_error: 14.7403\n",
            "Epoch 134/500\n",
            "105/105 [==============================] - 0s 1ms/step - loss: 162.5188 - mean_absolute_error: 8.7911 - val_loss: 304.0537 - val_mean_absolute_error: 14.9121\n",
            "Epoch 135/500\n",
            "105/105 [==============================] - 0s 1ms/step - loss: 163.5500 - mean_absolute_error: 8.9157 - val_loss: 297.1882 - val_mean_absolute_error: 14.7568\n",
            "Epoch 136/500\n",
            "105/105 [==============================] - 0s 1ms/step - loss: 163.7349 - mean_absolute_error: 8.8363 - val_loss: 296.0158 - val_mean_absolute_error: 14.7780\n",
            "Epoch 137/500\n",
            "105/105 [==============================] - 0s 1ms/step - loss: 162.9630 - mean_absolute_error: 8.8541 - val_loss: 296.1678 - val_mean_absolute_error: 14.7670\n",
            "Epoch 138/500\n",
            "105/105 [==============================] - 0s 1ms/step - loss: 162.8822 - mean_absolute_error: 8.8492 - val_loss: 295.9184 - val_mean_absolute_error: 14.7659\n",
            "Epoch 139/500\n",
            "105/105 [==============================] - 0s 1ms/step - loss: 162.3383 - mean_absolute_error: 8.8816 - val_loss: 293.7216 - val_mean_absolute_error: 14.7573\n",
            "Epoch 140/500\n",
            "105/105 [==============================] - 0s 1ms/step - loss: 161.2245 - mean_absolute_error: 8.8093 - val_loss: 296.1873 - val_mean_absolute_error: 14.8249\n",
            "Epoch 141/500\n",
            "105/105 [==============================] - 0s 1ms/step - loss: 162.3508 - mean_absolute_error: 8.7998 - val_loss: 297.2045 - val_mean_absolute_error: 14.8251\n",
            "Epoch 142/500\n",
            "105/105 [==============================] - 0s 1ms/step - loss: 160.8841 - mean_absolute_error: 8.7869 - val_loss: 297.6930 - val_mean_absolute_error: 14.8233\n",
            "Epoch 143/500\n",
            "105/105 [==============================] - 0s 1ms/step - loss: 161.1195 - mean_absolute_error: 8.7631 - val_loss: 300.3244 - val_mean_absolute_error: 14.8381\n",
            "Epoch 144/500\n",
            "105/105 [==============================] - 0s 1ms/step - loss: 160.1408 - mean_absolute_error: 8.7685 - val_loss: 293.4088 - val_mean_absolute_error: 14.8092\n",
            "Epoch 145/500\n",
            "105/105 [==============================] - 0s 1ms/step - loss: 160.4402 - mean_absolute_error: 8.7424 - val_loss: 294.6916 - val_mean_absolute_error: 14.7612\n",
            "Epoch 146/500\n",
            "105/105 [==============================] - 0s 1ms/step - loss: 159.8105 - mean_absolute_error: 8.7417 - val_loss: 293.8272 - val_mean_absolute_error: 14.7901\n",
            "Epoch 147/500\n",
            "105/105 [==============================] - 0s 1ms/step - loss: 159.6418 - mean_absolute_error: 8.7351 - val_loss: 297.5755 - val_mean_absolute_error: 14.8206\n",
            "Epoch 148/500\n",
            "105/105 [==============================] - 0s 1ms/step - loss: 158.1270 - mean_absolute_error: 8.7151 - val_loss: 291.9935 - val_mean_absolute_error: 14.7728\n",
            "Epoch 149/500\n",
            "105/105 [==============================] - 0s 1ms/step - loss: 158.8613 - mean_absolute_error: 8.7230 - val_loss: 292.2619 - val_mean_absolute_error: 14.8018\n",
            "Epoch 150/500\n",
            "105/105 [==============================] - 0s 1ms/step - loss: 159.3201 - mean_absolute_error: 8.6732 - val_loss: 298.1211 - val_mean_absolute_error: 14.8471\n",
            "Epoch 151/500\n",
            "105/105 [==============================] - 0s 1ms/step - loss: 158.6492 - mean_absolute_error: 8.6665 - val_loss: 300.1082 - val_mean_absolute_error: 14.8373\n",
            "Epoch 152/500\n",
            "105/105 [==============================] - 0s 1ms/step - loss: 157.7138 - mean_absolute_error: 8.6462 - val_loss: 297.7081 - val_mean_absolute_error: 14.8630\n",
            "Epoch 153/500\n",
            "105/105 [==============================] - 0s 1ms/step - loss: 158.1840 - mean_absolute_error: 8.6917 - val_loss: 298.2894 - val_mean_absolute_error: 14.8237\n",
            "Epoch 154/500\n",
            "105/105 [==============================] - 0s 1ms/step - loss: 157.2175 - mean_absolute_error: 8.6070 - val_loss: 297.5868 - val_mean_absolute_error: 14.8136\n",
            "Epoch 155/500\n",
            "105/105 [==============================] - 0s 1ms/step - loss: 157.0363 - mean_absolute_error: 8.6364 - val_loss: 293.6974 - val_mean_absolute_error: 14.7830\n",
            "Epoch 156/500\n",
            "105/105 [==============================] - 0s 1ms/step - loss: 156.1837 - mean_absolute_error: 8.6000 - val_loss: 288.6821 - val_mean_absolute_error: 14.7484\n",
            "Epoch 157/500\n",
            "105/105 [==============================] - 0s 1ms/step - loss: 156.0485 - mean_absolute_error: 8.5793 - val_loss: 295.3974 - val_mean_absolute_error: 14.7872\n",
            "Epoch 158/500\n",
            "105/105 [==============================] - 0s 1ms/step - loss: 155.4085 - mean_absolute_error: 8.6442 - val_loss: 295.6627 - val_mean_absolute_error: 14.8254\n",
            "Epoch 159/500\n",
            "105/105 [==============================] - 0s 1ms/step - loss: 155.6545 - mean_absolute_error: 8.5310 - val_loss: 300.1782 - val_mean_absolute_error: 14.8592\n",
            "Epoch 160/500\n",
            "105/105 [==============================] - 0s 1ms/step - loss: 155.6573 - mean_absolute_error: 8.5594 - val_loss: 301.0820 - val_mean_absolute_error: 14.8766\n",
            "Epoch 161/500\n",
            "105/105 [==============================] - 0s 1ms/step - loss: 154.1885 - mean_absolute_error: 8.5824 - val_loss: 294.4571 - val_mean_absolute_error: 14.7979\n",
            "Epoch 162/500\n",
            "105/105 [==============================] - 0s 1ms/step - loss: 154.4601 - mean_absolute_error: 8.5464 - val_loss: 298.9950 - val_mean_absolute_error: 14.8999\n",
            "Epoch 163/500\n",
            "105/105 [==============================] - 0s 1ms/step - loss: 154.4743 - mean_absolute_error: 8.5300 - val_loss: 298.7965 - val_mean_absolute_error: 14.9012\n",
            "Epoch 164/500\n",
            "105/105 [==============================] - 0s 1ms/step - loss: 153.2350 - mean_absolute_error: 8.5418 - val_loss: 291.6913 - val_mean_absolute_error: 14.7473\n",
            "Epoch 165/500\n",
            "105/105 [==============================] - 0s 1ms/step - loss: 153.0867 - mean_absolute_error: 8.4695 - val_loss: 300.6913 - val_mean_absolute_error: 14.9355\n",
            "Epoch 166/500\n",
            "105/105 [==============================] - 0s 1ms/step - loss: 152.6126 - mean_absolute_error: 8.5022 - val_loss: 297.2793 - val_mean_absolute_error: 14.8639\n",
            "Epoch 167/500\n",
            "105/105 [==============================] - 0s 1ms/step - loss: 152.4134 - mean_absolute_error: 8.4842 - val_loss: 299.0759 - val_mean_absolute_error: 14.8839\n",
            "Epoch 168/500\n",
            "105/105 [==============================] - 0s 1ms/step - loss: 152.1786 - mean_absolute_error: 8.4283 - val_loss: 299.2232 - val_mean_absolute_error: 14.8970\n",
            "Epoch 169/500\n",
            "105/105 [==============================] - 0s 1ms/step - loss: 152.7506 - mean_absolute_error: 8.4525 - val_loss: 299.6880 - val_mean_absolute_error: 14.9236\n",
            "Epoch 170/500\n",
            "105/105 [==============================] - 0s 1ms/step - loss: 150.9798 - mean_absolute_error: 8.4116 - val_loss: 295.9120 - val_mean_absolute_error: 14.8883\n",
            "Epoch 171/500\n",
            "105/105 [==============================] - 0s 1ms/step - loss: 150.6725 - mean_absolute_error: 8.4300 - val_loss: 300.8359 - val_mean_absolute_error: 14.9709\n",
            "Epoch 172/500\n",
            "105/105 [==============================] - 0s 1ms/step - loss: 150.2755 - mean_absolute_error: 8.4094 - val_loss: 301.5865 - val_mean_absolute_error: 15.0001\n",
            "Epoch 173/500\n",
            "105/105 [==============================] - 0s 1ms/step - loss: 150.3372 - mean_absolute_error: 8.4408 - val_loss: 297.8559 - val_mean_absolute_error: 14.9184\n",
            "Epoch 174/500\n",
            "105/105 [==============================] - 0s 1ms/step - loss: 149.3966 - mean_absolute_error: 8.3928 - val_loss: 301.1801 - val_mean_absolute_error: 14.9646\n",
            "Epoch 175/500\n",
            "105/105 [==============================] - 0s 1ms/step - loss: 149.3206 - mean_absolute_error: 8.4139 - val_loss: 303.9400 - val_mean_absolute_error: 15.0414\n",
            "Epoch 176/500\n",
            "105/105 [==============================] - 0s 1ms/step - loss: 148.7076 - mean_absolute_error: 8.2827 - val_loss: 307.3118 - val_mean_absolute_error: 15.0373\n",
            "Epoch 177/500\n",
            "105/105 [==============================] - 0s 1ms/step - loss: 147.7419 - mean_absolute_error: 8.3902 - val_loss: 301.7858 - val_mean_absolute_error: 14.9795\n",
            "Epoch 178/500\n",
            "105/105 [==============================] - 0s 1ms/step - loss: 147.6599 - mean_absolute_error: 8.3489 - val_loss: 299.7465 - val_mean_absolute_error: 14.9595\n",
            "Epoch 179/500\n",
            "105/105 [==============================] - 0s 1ms/step - loss: 148.0912 - mean_absolute_error: 8.2400 - val_loss: 302.4275 - val_mean_absolute_error: 15.0239\n",
            "Epoch 180/500\n",
            "105/105 [==============================] - 0s 1ms/step - loss: 145.4342 - mean_absolute_error: 8.3556 - val_loss: 299.5790 - val_mean_absolute_error: 15.0552\n",
            "Epoch 181/500\n",
            "105/105 [==============================] - 0s 1ms/step - loss: 147.5564 - mean_absolute_error: 8.2619 - val_loss: 305.0866 - val_mean_absolute_error: 15.0844\n",
            "Epoch 182/500\n",
            "105/105 [==============================] - 0s 1ms/step - loss: 145.4875 - mean_absolute_error: 8.2621 - val_loss: 299.1705 - val_mean_absolute_error: 15.0072\n",
            "Epoch 183/500\n",
            "105/105 [==============================] - 0s 1ms/step - loss: 145.6687 - mean_absolute_error: 8.1967 - val_loss: 311.9285 - val_mean_absolute_error: 15.1947\n",
            "Epoch 184/500\n",
            "105/105 [==============================] - 0s 1ms/step - loss: 145.2301 - mean_absolute_error: 8.2151 - val_loss: 307.8306 - val_mean_absolute_error: 15.1252\n",
            "Epoch 185/500\n",
            "105/105 [==============================] - 0s 1ms/step - loss: 145.9123 - mean_absolute_error: 8.1725 - val_loss: 310.2298 - val_mean_absolute_error: 15.1286\n",
            "Epoch 186/500\n",
            "105/105 [==============================] - 0s 1ms/step - loss: 144.7020 - mean_absolute_error: 8.2143 - val_loss: 299.8597 - val_mean_absolute_error: 15.0186\n",
            "Epoch 187/500\n",
            "105/105 [==============================] - 0s 1ms/step - loss: 144.2660 - mean_absolute_error: 8.1701 - val_loss: 297.8751 - val_mean_absolute_error: 15.0028\n",
            "Epoch 188/500\n",
            "105/105 [==============================] - 0s 1ms/step - loss: 143.8038 - mean_absolute_error: 8.2113 - val_loss: 298.9871 - val_mean_absolute_error: 15.0027\n",
            "Epoch 189/500\n",
            "105/105 [==============================] - 0s 1ms/step - loss: 143.8990 - mean_absolute_error: 8.0574 - val_loss: 303.5294 - val_mean_absolute_error: 15.0808\n",
            "Epoch 190/500\n",
            "105/105 [==============================] - 0s 1ms/step - loss: 143.3020 - mean_absolute_error: 8.1474 - val_loss: 301.3266 - val_mean_absolute_error: 15.0625\n",
            "Epoch 191/500\n",
            "105/105 [==============================] - 0s 1ms/step - loss: 143.0331 - mean_absolute_error: 8.1262 - val_loss: 300.3618 - val_mean_absolute_error: 15.0379\n",
            "Epoch 192/500\n",
            "105/105 [==============================] - 0s 1ms/step - loss: 141.5924 - mean_absolute_error: 8.1905 - val_loss: 300.4646 - val_mean_absolute_error: 15.0265\n",
            "Epoch 193/500\n",
            "105/105 [==============================] - 0s 1ms/step - loss: 141.4923 - mean_absolute_error: 7.9829 - val_loss: 311.8939 - val_mean_absolute_error: 15.2416\n",
            "Epoch 194/500\n",
            "105/105 [==============================] - 0s 1ms/step - loss: 141.0700 - mean_absolute_error: 8.0779 - val_loss: 308.5071 - val_mean_absolute_error: 15.1740\n",
            "Epoch 195/500\n",
            "105/105 [==============================] - 0s 1ms/step - loss: 140.3803 - mean_absolute_error: 8.1560 - val_loss: 306.0183 - val_mean_absolute_error: 15.1469\n",
            "Epoch 196/500\n",
            "105/105 [==============================] - 0s 1ms/step - loss: 141.5093 - mean_absolute_error: 8.0408 - val_loss: 304.4212 - val_mean_absolute_error: 15.1277\n",
            "Epoch 197/500\n",
            "105/105 [==============================] - 0s 1ms/step - loss: 140.6232 - mean_absolute_error: 7.9577 - val_loss: 310.5438 - val_mean_absolute_error: 15.2379\n",
            "Epoch 198/500\n",
            "105/105 [==============================] - 0s 1ms/step - loss: 139.4485 - mean_absolute_error: 8.0615 - val_loss: 310.0622 - val_mean_absolute_error: 15.2150\n",
            "Epoch 199/500\n",
            "105/105 [==============================] - 0s 1ms/step - loss: 139.2706 - mean_absolute_error: 8.0309 - val_loss: 307.1420 - val_mean_absolute_error: 15.2043\n",
            "Epoch 200/500\n",
            "105/105 [==============================] - 0s 1ms/step - loss: 140.6104 - mean_absolute_error: 7.8997 - val_loss: 310.0854 - val_mean_absolute_error: 15.1631\n",
            "Epoch 201/500\n",
            "105/105 [==============================] - 0s 1ms/step - loss: 139.4239 - mean_absolute_error: 7.9315 - val_loss: 313.9845 - val_mean_absolute_error: 15.2302\n",
            "Epoch 202/500\n",
            "105/105 [==============================] - 0s 1ms/step - loss: 137.6256 - mean_absolute_error: 8.0148 - val_loss: 308.7134 - val_mean_absolute_error: 15.1481\n",
            "Epoch 203/500\n",
            "105/105 [==============================] - 0s 1ms/step - loss: 137.3646 - mean_absolute_error: 8.0233 - val_loss: 304.9907 - val_mean_absolute_error: 15.0943\n",
            "Epoch 204/500\n",
            "105/105 [==============================] - 0s 1ms/step - loss: 138.4059 - mean_absolute_error: 7.9119 - val_loss: 310.1521 - val_mean_absolute_error: 15.1606\n",
            "Epoch 205/500\n",
            "105/105 [==============================] - 0s 1ms/step - loss: 137.5745 - mean_absolute_error: 7.9137 - val_loss: 309.8167 - val_mean_absolute_error: 15.1665\n",
            "Epoch 206/500\n",
            "105/105 [==============================] - 0s 1ms/step - loss: 137.5623 - mean_absolute_error: 7.8592 - val_loss: 307.0802 - val_mean_absolute_error: 15.1564\n",
            "Epoch 207/500\n",
            "105/105 [==============================] - 0s 1ms/step - loss: 136.9751 - mean_absolute_error: 7.8521 - val_loss: 314.3925 - val_mean_absolute_error: 15.2971\n",
            "Epoch 208/500\n",
            "105/105 [==============================] - 0s 1ms/step - loss: 138.6414 - mean_absolute_error: 7.8546 - val_loss: 309.1054 - val_mean_absolute_error: 15.2055\n",
            "Epoch 209/500\n",
            "105/105 [==============================] - 0s 1ms/step - loss: 136.7718 - mean_absolute_error: 7.9049 - val_loss: 308.1786 - val_mean_absolute_error: 15.1940\n",
            "Epoch 210/500\n",
            "105/105 [==============================] - 0s 1ms/step - loss: 136.2277 - mean_absolute_error: 7.8170 - val_loss: 307.2968 - val_mean_absolute_error: 15.1705\n",
            "Epoch 211/500\n",
            "105/105 [==============================] - 0s 1ms/step - loss: 135.6897 - mean_absolute_error: 7.8197 - val_loss: 310.1583 - val_mean_absolute_error: 15.2515\n",
            "Epoch 212/500\n",
            "105/105 [==============================] - 0s 1ms/step - loss: 134.4793 - mean_absolute_error: 7.8552 - val_loss: 309.3120 - val_mean_absolute_error: 15.2122\n",
            "Epoch 213/500\n",
            "105/105 [==============================] - 0s 1ms/step - loss: 134.8342 - mean_absolute_error: 7.7902 - val_loss: 309.4228 - val_mean_absolute_error: 15.2275\n",
            "Epoch 214/500\n",
            "105/105 [==============================] - 0s 1ms/step - loss: 135.0884 - mean_absolute_error: 7.7651 - val_loss: 311.7728 - val_mean_absolute_error: 15.2851\n",
            "Epoch 215/500\n",
            "105/105 [==============================] - 0s 1ms/step - loss: 134.1933 - mean_absolute_error: 7.7326 - val_loss: 310.0508 - val_mean_absolute_error: 15.2577\n",
            "Epoch 216/500\n",
            "105/105 [==============================] - 0s 1ms/step - loss: 133.5263 - mean_absolute_error: 7.7861 - val_loss: 308.4952 - val_mean_absolute_error: 15.2467\n",
            "Epoch 217/500\n",
            "105/105 [==============================] - 0s 1ms/step - loss: 132.8480 - mean_absolute_error: 7.7960 - val_loss: 305.8380 - val_mean_absolute_error: 15.1710\n",
            "Epoch 218/500\n",
            "105/105 [==============================] - 0s 1ms/step - loss: 132.7726 - mean_absolute_error: 7.7264 - val_loss: 307.8727 - val_mean_absolute_error: 15.2223\n",
            "Epoch 219/500\n",
            "105/105 [==============================] - 0s 1ms/step - loss: 132.2641 - mean_absolute_error: 7.6660 - val_loss: 309.7016 - val_mean_absolute_error: 15.2950\n",
            "Epoch 220/500\n",
            "105/105 [==============================] - 0s 1ms/step - loss: 131.4957 - mean_absolute_error: 7.7575 - val_loss: 305.1595 - val_mean_absolute_error: 15.2244\n",
            "Epoch 221/500\n",
            "105/105 [==============================] - 0s 1ms/step - loss: 131.0469 - mean_absolute_error: 7.6176 - val_loss: 303.1041 - val_mean_absolute_error: 15.1569\n",
            "Epoch 222/500\n",
            "105/105 [==============================] - 0s 1ms/step - loss: 130.9387 - mean_absolute_error: 7.6772 - val_loss: 305.6159 - val_mean_absolute_error: 15.1912\n",
            "Epoch 223/500\n",
            "105/105 [==============================] - 0s 1ms/step - loss: 130.9200 - mean_absolute_error: 7.5911 - val_loss: 307.6071 - val_mean_absolute_error: 15.2706\n",
            "Epoch 224/500\n",
            "105/105 [==============================] - 0s 1ms/step - loss: 130.6086 - mean_absolute_error: 7.6539 - val_loss: 307.7195 - val_mean_absolute_error: 15.2856\n",
            "Epoch 225/500\n",
            "105/105 [==============================] - 0s 1ms/step - loss: 129.9684 - mean_absolute_error: 7.6441 - val_loss: 311.9338 - val_mean_absolute_error: 15.3268\n",
            "Epoch 226/500\n",
            "105/105 [==============================] - 0s 1ms/step - loss: 130.3849 - mean_absolute_error: 7.5161 - val_loss: 314.6345 - val_mean_absolute_error: 15.3661\n",
            "Epoch 227/500\n",
            "105/105 [==============================] - 0s 1ms/step - loss: 128.3633 - mean_absolute_error: 7.5874 - val_loss: 311.1030 - val_mean_absolute_error: 15.3321\n",
            "Epoch 228/500\n",
            "105/105 [==============================] - 0s 1ms/step - loss: 129.4135 - mean_absolute_error: 7.5504 - val_loss: 317.6879 - val_mean_absolute_error: 15.4763\n",
            "Epoch 229/500\n",
            "105/105 [==============================] - 0s 1ms/step - loss: 128.2909 - mean_absolute_error: 7.5904 - val_loss: 318.2383 - val_mean_absolute_error: 15.4394\n",
            "Epoch 230/500\n",
            "105/105 [==============================] - 0s 1ms/step - loss: 128.1342 - mean_absolute_error: 7.5055 - val_loss: 308.4714 - val_mean_absolute_error: 15.2756\n",
            "Epoch 231/500\n",
            "105/105 [==============================] - 0s 1ms/step - loss: 128.1736 - mean_absolute_error: 7.5378 - val_loss: 312.5066 - val_mean_absolute_error: 15.3709\n",
            "Epoch 232/500\n",
            "105/105 [==============================] - 0s 1ms/step - loss: 127.9642 - mean_absolute_error: 7.4468 - val_loss: 310.3919 - val_mean_absolute_error: 15.3640\n",
            "Epoch 233/500\n",
            "105/105 [==============================] - 0s 1ms/step - loss: 127.7296 - mean_absolute_error: 7.4361 - val_loss: 313.1092 - val_mean_absolute_error: 15.4589\n",
            "Epoch 234/500\n",
            "105/105 [==============================] - 0s 1ms/step - loss: 126.5419 - mean_absolute_error: 7.4645 - val_loss: 317.1943 - val_mean_absolute_error: 15.5282\n",
            "Epoch 235/500\n",
            "105/105 [==============================] - 0s 1ms/step - loss: 126.1707 - mean_absolute_error: 7.4571 - val_loss: 320.6657 - val_mean_absolute_error: 15.5381\n",
            "Epoch 236/500\n",
            "105/105 [==============================] - 0s 1ms/step - loss: 125.4733 - mean_absolute_error: 7.4833 - val_loss: 322.9789 - val_mean_absolute_error: 15.6032\n",
            "Epoch 237/500\n",
            "105/105 [==============================] - 0s 1ms/step - loss: 126.3133 - mean_absolute_error: 7.4377 - val_loss: 315.9706 - val_mean_absolute_error: 15.4890\n",
            "Epoch 238/500\n",
            "105/105 [==============================] - 0s 1ms/step - loss: 126.2187 - mean_absolute_error: 7.4309 - val_loss: 318.9552 - val_mean_absolute_error: 15.5420\n",
            "Epoch 239/500\n",
            "105/105 [==============================] - 0s 1ms/step - loss: 125.8384 - mean_absolute_error: 7.4208 - val_loss: 318.7903 - val_mean_absolute_error: 15.5646\n",
            "Epoch 240/500\n",
            "105/105 [==============================] - 0s 1ms/step - loss: 124.4882 - mean_absolute_error: 7.4264 - val_loss: 323.7211 - val_mean_absolute_error: 15.6100\n",
            "Epoch 241/500\n",
            "105/105 [==============================] - 0s 1ms/step - loss: 124.9454 - mean_absolute_error: 7.4011 - val_loss: 317.0890 - val_mean_absolute_error: 15.5366\n",
            "Epoch 242/500\n",
            "105/105 [==============================] - 0s 1ms/step - loss: 123.5964 - mean_absolute_error: 7.3008 - val_loss: 319.5251 - val_mean_absolute_error: 15.6139\n",
            "Epoch 243/500\n",
            "105/105 [==============================] - 0s 1ms/step - loss: 121.0638 - mean_absolute_error: 7.3937 - val_loss: 311.2835 - val_mean_absolute_error: 15.3866\n",
            "Epoch 244/500\n",
            "105/105 [==============================] - 0s 1ms/step - loss: 124.3276 - mean_absolute_error: 7.3727 - val_loss: 321.4178 - val_mean_absolute_error: 15.6680\n",
            "Epoch 245/500\n",
            "105/105 [==============================] - 0s 1ms/step - loss: 122.0130 - mean_absolute_error: 7.3553 - val_loss: 321.9885 - val_mean_absolute_error: 15.6143\n",
            "Epoch 246/500\n",
            "105/105 [==============================] - 0s 1ms/step - loss: 123.3670 - mean_absolute_error: 7.3175 - val_loss: 327.2571 - val_mean_absolute_error: 15.7282\n",
            "Epoch 247/500\n",
            "105/105 [==============================] - 0s 1ms/step - loss: 122.1762 - mean_absolute_error: 7.2906 - val_loss: 320.9153 - val_mean_absolute_error: 15.6062\n",
            "Epoch 248/500\n",
            "105/105 [==============================] - 0s 1ms/step - loss: 123.0018 - mean_absolute_error: 7.2785 - val_loss: 332.1189 - val_mean_absolute_error: 15.7549\n",
            "\n",
            "Epoch 00248: ReduceLROnPlateau reducing learning rate to 0.00010000000474974513.\n",
            "Epoch 249/500\n",
            "105/105 [==============================] - 0s 1ms/step - loss: 117.1922 - mean_absolute_error: 7.0457 - val_loss: 330.9552 - val_mean_absolute_error: 15.7393\n",
            "Epoch 250/500\n",
            "105/105 [==============================] - 0s 1ms/step - loss: 116.8831 - mean_absolute_error: 7.0455 - val_loss: 329.6372 - val_mean_absolute_error: 15.7193\n",
            "Epoch 251/500\n",
            "105/105 [==============================] - 0s 1ms/step - loss: 116.9605 - mean_absolute_error: 7.0350 - val_loss: 329.1378 - val_mean_absolute_error: 15.7119\n",
            "Epoch 252/500\n",
            "105/105 [==============================] - 0s 1ms/step - loss: 116.8876 - mean_absolute_error: 7.0232 - val_loss: 328.9885 - val_mean_absolute_error: 15.7156\n",
            "Epoch 253/500\n",
            "105/105 [==============================] - 0s 1ms/step - loss: 116.8013 - mean_absolute_error: 7.0218 - val_loss: 328.4147 - val_mean_absolute_error: 15.7088\n",
            "Epoch 254/500\n",
            "105/105 [==============================] - 0s 1ms/step - loss: 116.7383 - mean_absolute_error: 7.0122 - val_loss: 328.2946 - val_mean_absolute_error: 15.7119\n",
            "Epoch 255/500\n",
            "105/105 [==============================] - 0s 1ms/step - loss: 116.7331 - mean_absolute_error: 7.0206 - val_loss: 327.7547 - val_mean_absolute_error: 15.7023\n",
            "Epoch 256/500\n",
            "105/105 [==============================] - 0s 1ms/step - loss: 116.6776 - mean_absolute_error: 7.0197 - val_loss: 327.3500 - val_mean_absolute_error: 15.6998\n",
            "Epoch 257/500\n",
            "105/105 [==============================] - 0s 1ms/step - loss: 116.6390 - mean_absolute_error: 7.0070 - val_loss: 327.1629 - val_mean_absolute_error: 15.6951\n",
            "Epoch 258/500\n",
            "105/105 [==============================] - 0s 1ms/step - loss: 116.6199 - mean_absolute_error: 7.0138 - val_loss: 327.0948 - val_mean_absolute_error: 15.6952\n",
            "Epoch 259/500\n",
            "105/105 [==============================] - 0s 1ms/step - loss: 116.6354 - mean_absolute_error: 7.0137 - val_loss: 327.3708 - val_mean_absolute_error: 15.6976\n",
            "Epoch 260/500\n",
            "105/105 [==============================] - 0s 1ms/step - loss: 116.6734 - mean_absolute_error: 7.0106 - val_loss: 327.5123 - val_mean_absolute_error: 15.6986\n",
            "Epoch 261/500\n",
            "105/105 [==============================] - 0s 1ms/step - loss: 116.4216 - mean_absolute_error: 7.0025 - val_loss: 327.4714 - val_mean_absolute_error: 15.7007\n",
            "Epoch 262/500\n",
            "105/105 [==============================] - 0s 1ms/step - loss: 116.4116 - mean_absolute_error: 7.0184 - val_loss: 327.1722 - val_mean_absolute_error: 15.6981\n",
            "Epoch 263/500\n",
            "105/105 [==============================] - 0s 1ms/step - loss: 116.4519 - mean_absolute_error: 7.0116 - val_loss: 327.0911 - val_mean_absolute_error: 15.6980\n",
            "Epoch 264/500\n",
            "105/105 [==============================] - 0s 1ms/step - loss: 116.3393 - mean_absolute_error: 7.0111 - val_loss: 326.9864 - val_mean_absolute_error: 15.6970\n",
            "Epoch 265/500\n",
            "105/105 [==============================] - 0s 1ms/step - loss: 116.2288 - mean_absolute_error: 7.0122 - val_loss: 326.7405 - val_mean_absolute_error: 15.6901\n",
            "Epoch 266/500\n",
            "105/105 [==============================] - 0s 1ms/step - loss: 116.3951 - mean_absolute_error: 7.0108 - val_loss: 326.8655 - val_mean_absolute_error: 15.6934\n",
            "Epoch 267/500\n",
            "105/105 [==============================] - 0s 1ms/step - loss: 116.3436 - mean_absolute_error: 7.0095 - val_loss: 327.1916 - val_mean_absolute_error: 15.7017\n",
            "Epoch 268/500\n",
            "105/105 [==============================] - 0s 1ms/step - loss: 116.1303 - mean_absolute_error: 7.0110 - val_loss: 327.8233 - val_mean_absolute_error: 15.7074\n",
            "Epoch 269/500\n",
            "105/105 [==============================] - 0s 1ms/step - loss: 116.0495 - mean_absolute_error: 7.0071 - val_loss: 327.8219 - val_mean_absolute_error: 15.7047\n",
            "Epoch 270/500\n",
            "105/105 [==============================] - 0s 1ms/step - loss: 116.2248 - mean_absolute_error: 6.9992 - val_loss: 327.8586 - val_mean_absolute_error: 15.7021\n",
            "Epoch 271/500\n",
            "105/105 [==============================] - 0s 1ms/step - loss: 116.1934 - mean_absolute_error: 6.9984 - val_loss: 328.3277 - val_mean_absolute_error: 15.7111\n",
            "Epoch 272/500\n",
            "105/105 [==============================] - 0s 1ms/step - loss: 116.1938 - mean_absolute_error: 6.9882 - val_loss: 328.1358 - val_mean_absolute_error: 15.7126\n",
            "Epoch 273/500\n",
            "105/105 [==============================] - 0s 1ms/step - loss: 116.0579 - mean_absolute_error: 6.9942 - val_loss: 328.4513 - val_mean_absolute_error: 15.7171\n",
            "Epoch 274/500\n",
            "105/105 [==============================] - 0s 1ms/step - loss: 116.0701 - mean_absolute_error: 6.9923 - val_loss: 328.3025 - val_mean_absolute_error: 15.7143\n",
            "\n",
            "Epoch 00274: ReduceLROnPlateau reducing learning rate to 0.0001.\n",
            "Epoch 275/500\n",
            "105/105 [==============================] - 0s 1ms/step - loss: 116.0538 - mean_absolute_error: 7.0011 - val_loss: 328.0780 - val_mean_absolute_error: 15.7131\n",
            "Epoch 276/500\n",
            "105/105 [==============================] - 0s 1ms/step - loss: 115.8688 - mean_absolute_error: 6.9940 - val_loss: 328.0112 - val_mean_absolute_error: 15.7162\n",
            "Epoch 277/500\n",
            "105/105 [==============================] - 0s 1ms/step - loss: 115.9938 - mean_absolute_error: 6.9914 - val_loss: 327.9146 - val_mean_absolute_error: 15.7151\n",
            "Epoch 278/500\n",
            "105/105 [==============================] - 0s 1ms/step - loss: 115.8607 - mean_absolute_error: 6.9968 - val_loss: 328.1480 - val_mean_absolute_error: 15.7198\n",
            "Epoch 279/500\n",
            "105/105 [==============================] - 0s 1ms/step - loss: 115.7390 - mean_absolute_error: 7.0028 - val_loss: 328.0741 - val_mean_absolute_error: 15.7205\n",
            "Epoch 280/500\n",
            "105/105 [==============================] - 0s 1ms/step - loss: 115.9054 - mean_absolute_error: 6.9863 - val_loss: 328.3659 - val_mean_absolute_error: 15.7230\n",
            "Epoch 281/500\n",
            "105/105 [==============================] - 0s 1ms/step - loss: 115.6609 - mean_absolute_error: 6.9932 - val_loss: 327.9710 - val_mean_absolute_error: 15.7174\n",
            "Epoch 282/500\n",
            "105/105 [==============================] - 0s 1ms/step - loss: 115.8347 - mean_absolute_error: 6.9884 - val_loss: 328.2360 - val_mean_absolute_error: 15.7217\n",
            "Epoch 283/500\n",
            "105/105 [==============================] - 0s 1ms/step - loss: 115.8720 - mean_absolute_error: 6.9782 - val_loss: 327.9641 - val_mean_absolute_error: 15.7178\n",
            "Epoch 284/500\n",
            "105/105 [==============================] - 0s 1ms/step - loss: 115.6841 - mean_absolute_error: 6.9829 - val_loss: 328.0081 - val_mean_absolute_error: 15.7204\n",
            "Epoch 285/500\n",
            "105/105 [==============================] - 0s 1ms/step - loss: 115.6081 - mean_absolute_error: 6.9848 - val_loss: 328.1386 - val_mean_absolute_error: 15.7215\n",
            "Epoch 286/500\n",
            "105/105 [==============================] - 0s 1ms/step - loss: 115.6044 - mean_absolute_error: 6.9897 - val_loss: 328.1020 - val_mean_absolute_error: 15.7203\n",
            "Epoch 287/500\n",
            "105/105 [==============================] - 0s 1ms/step - loss: 115.6685 - mean_absolute_error: 6.9840 - val_loss: 328.4323 - val_mean_absolute_error: 15.7251\n",
            "Epoch 288/500\n",
            "105/105 [==============================] - 0s 1ms/step - loss: 115.7313 - mean_absolute_error: 6.9720 - val_loss: 328.7580 - val_mean_absolute_error: 15.7291\n",
            "Epoch 289/500\n",
            "105/105 [==============================] - 0s 1ms/step - loss: 115.7605 - mean_absolute_error: 6.9755 - val_loss: 328.9656 - val_mean_absolute_error: 15.7312\n",
            "Epoch 290/500\n",
            "105/105 [==============================] - 0s 1ms/step - loss: 115.6334 - mean_absolute_error: 6.9667 - val_loss: 329.0494 - val_mean_absolute_error: 15.7370\n",
            "Epoch 291/500\n",
            "105/105 [==============================] - 0s 1ms/step - loss: 115.5303 - mean_absolute_error: 6.9683 - val_loss: 329.0506 - val_mean_absolute_error: 15.7404\n",
            "Epoch 292/500\n",
            "105/105 [==============================] - 0s 1ms/step - loss: 115.5184 - mean_absolute_error: 6.9695 - val_loss: 329.1895 - val_mean_absolute_error: 15.7440\n",
            "Epoch 293/500\n",
            "105/105 [==============================] - 0s 1ms/step - loss: 115.4244 - mean_absolute_error: 6.9747 - val_loss: 329.4010 - val_mean_absolute_error: 15.7486\n",
            "Epoch 294/500\n",
            "105/105 [==============================] - 0s 1ms/step - loss: 115.5374 - mean_absolute_error: 6.9697 - val_loss: 329.2990 - val_mean_absolute_error: 15.7481\n",
            "Epoch 295/500\n",
            "105/105 [==============================] - 0s 1ms/step - loss: 115.4264 - mean_absolute_error: 6.9663 - val_loss: 329.0870 - val_mean_absolute_error: 15.7499\n",
            "Epoch 296/500\n",
            "105/105 [==============================] - 0s 1ms/step - loss: 115.3515 - mean_absolute_error: 6.9683 - val_loss: 329.6419 - val_mean_absolute_error: 15.7616\n",
            "Epoch 297/500\n",
            "105/105 [==============================] - 0s 1ms/step - loss: 115.3088 - mean_absolute_error: 6.9638 - val_loss: 330.3882 - val_mean_absolute_error: 15.7759\n",
            "Epoch 298/500\n",
            "105/105 [==============================] - 0s 1ms/step - loss: 115.2387 - mean_absolute_error: 6.9610 - val_loss: 330.2474 - val_mean_absolute_error: 15.7768\n",
            "Epoch 299/500\n",
            "105/105 [==============================] - 0s 1ms/step - loss: 115.2073 - mean_absolute_error: 6.9699 - val_loss: 330.1105 - val_mean_absolute_error: 15.7757\n",
            "Epoch 300/500\n",
            "105/105 [==============================] - 0s 1ms/step - loss: 115.0993 - mean_absolute_error: 6.9808 - val_loss: 330.1415 - val_mean_absolute_error: 15.7800\n",
            "Epoch 301/500\n",
            "105/105 [==============================] - 0s 1ms/step - loss: 115.1433 - mean_absolute_error: 6.9743 - val_loss: 329.6050 - val_mean_absolute_error: 15.7698\n",
            "Epoch 302/500\n",
            "105/105 [==============================] - 0s 1ms/step - loss: 115.0285 - mean_absolute_error: 6.9716 - val_loss: 329.4739 - val_mean_absolute_error: 15.7655\n",
            "Epoch 303/500\n",
            "105/105 [==============================] - 0s 1ms/step - loss: 115.1158 - mean_absolute_error: 6.9693 - val_loss: 330.3052 - val_mean_absolute_error: 15.7785\n",
            "Epoch 304/500\n",
            "105/105 [==============================] - 0s 1ms/step - loss: 115.0621 - mean_absolute_error: 6.9627 - val_loss: 330.6412 - val_mean_absolute_error: 15.7854\n",
            "Epoch 305/500\n",
            "105/105 [==============================] - 0s 1ms/step - loss: 115.0004 - mean_absolute_error: 6.9715 - val_loss: 330.5714 - val_mean_absolute_error: 15.7835\n",
            "Epoch 306/500\n",
            "105/105 [==============================] - 0s 1ms/step - loss: 114.9124 - mean_absolute_error: 6.9718 - val_loss: 330.5281 - val_mean_absolute_error: 15.7801\n",
            "Epoch 307/500\n",
            "105/105 [==============================] - 0s 1ms/step - loss: 114.9303 - mean_absolute_error: 6.9615 - val_loss: 330.4775 - val_mean_absolute_error: 15.7800\n",
            "Epoch 308/500\n",
            "105/105 [==============================] - 0s 1ms/step - loss: 114.8687 - mean_absolute_error: 6.9596 - val_loss: 330.2598 - val_mean_absolute_error: 15.7804\n",
            "Epoch 309/500\n",
            "105/105 [==============================] - 0s 1ms/step - loss: 114.8381 - mean_absolute_error: 6.9571 - val_loss: 330.4524 - val_mean_absolute_error: 15.7805\n",
            "Epoch 310/500\n",
            "105/105 [==============================] - 0s 1ms/step - loss: 114.8808 - mean_absolute_error: 6.9636 - val_loss: 330.5225 - val_mean_absolute_error: 15.7813\n",
            "Epoch 311/500\n",
            "105/105 [==============================] - 0s 1ms/step - loss: 114.7968 - mean_absolute_error: 6.9675 - val_loss: 330.3346 - val_mean_absolute_error: 15.7803\n",
            "Epoch 312/500\n",
            "105/105 [==============================] - 0s 1ms/step - loss: 114.7803 - mean_absolute_error: 6.9649 - val_loss: 329.9387 - val_mean_absolute_error: 15.7757\n",
            "Epoch 313/500\n",
            "105/105 [==============================] - 0s 1ms/step - loss: 114.7215 - mean_absolute_error: 6.9590 - val_loss: 329.9835 - val_mean_absolute_error: 15.7784\n",
            "Epoch 314/500\n",
            "105/105 [==============================] - 0s 1ms/step - loss: 114.6659 - mean_absolute_error: 6.9643 - val_loss: 330.3681 - val_mean_absolute_error: 15.7828\n",
            "Epoch 315/500\n",
            "105/105 [==============================] - 0s 1ms/step - loss: 114.7794 - mean_absolute_error: 6.9531 - val_loss: 330.0904 - val_mean_absolute_error: 15.7802\n",
            "Epoch 316/500\n",
            "105/105 [==============================] - 0s 1ms/step - loss: 114.6970 - mean_absolute_error: 6.9590 - val_loss: 330.1663 - val_mean_absolute_error: 15.7817\n",
            "Epoch 317/500\n",
            "105/105 [==============================] - 0s 1ms/step - loss: 114.5926 - mean_absolute_error: 6.9661 - val_loss: 330.2509 - val_mean_absolute_error: 15.7829\n",
            "Epoch 318/500\n",
            "105/105 [==============================] - 0s 1ms/step - loss: 114.6400 - mean_absolute_error: 6.9574 - val_loss: 330.2690 - val_mean_absolute_error: 15.7829\n",
            "Epoch 319/500\n",
            "105/105 [==============================] - 0s 1ms/step - loss: 114.4701 - mean_absolute_error: 6.9611 - val_loss: 330.4025 - val_mean_absolute_error: 15.7834\n",
            "Epoch 320/500\n",
            "105/105 [==============================] - 0s 1ms/step - loss: 114.6533 - mean_absolute_error: 6.9444 - val_loss: 330.3584 - val_mean_absolute_error: 15.7821\n",
            "Epoch 321/500\n",
            "105/105 [==============================] - 0s 1ms/step - loss: 114.4909 - mean_absolute_error: 6.9555 - val_loss: 330.3536 - val_mean_absolute_error: 15.7846\n",
            "Epoch 322/500\n",
            "105/105 [==============================] - 0s 1ms/step - loss: 114.3408 - mean_absolute_error: 6.9485 - val_loss: 330.3552 - val_mean_absolute_error: 15.7815\n",
            "Epoch 323/500\n",
            "105/105 [==============================] - 0s 1ms/step - loss: 114.5635 - mean_absolute_error: 6.9433 - val_loss: 330.3860 - val_mean_absolute_error: 15.7844\n",
            "Epoch 324/500\n",
            "105/105 [==============================] - 0s 1ms/step - loss: 114.4355 - mean_absolute_error: 6.9456 - val_loss: 330.9912 - val_mean_absolute_error: 15.7992\n",
            "Epoch 325/500\n",
            "105/105 [==============================] - 0s 1ms/step - loss: 114.4424 - mean_absolute_error: 6.9470 - val_loss: 331.2217 - val_mean_absolute_error: 15.8028\n",
            "Epoch 326/500\n",
            "105/105 [==============================] - 0s 1ms/step - loss: 114.2695 - mean_absolute_error: 6.9487 - val_loss: 331.5856 - val_mean_absolute_error: 15.8093\n",
            "Epoch 327/500\n",
            "105/105 [==============================] - 0s 1ms/step - loss: 114.3086 - mean_absolute_error: 6.9453 - val_loss: 331.5532 - val_mean_absolute_error: 15.8070\n",
            "Epoch 328/500\n",
            "105/105 [==============================] - 0s 1ms/step - loss: 114.3287 - mean_absolute_error: 6.9377 - val_loss: 331.3233 - val_mean_absolute_error: 15.8050\n",
            "Epoch 329/500\n",
            "105/105 [==============================] - 0s 1ms/step - loss: 114.2854 - mean_absolute_error: 6.9462 - val_loss: 331.2990 - val_mean_absolute_error: 15.8012\n",
            "Epoch 330/500\n",
            "105/105 [==============================] - 0s 1ms/step - loss: 114.1986 - mean_absolute_error: 6.9410 - val_loss: 331.2429 - val_mean_absolute_error: 15.8014\n",
            "Epoch 331/500\n",
            "105/105 [==============================] - 0s 1ms/step - loss: 114.1804 - mean_absolute_error: 6.9347 - val_loss: 331.6099 - val_mean_absolute_error: 15.8093\n",
            "Epoch 332/500\n",
            "105/105 [==============================] - 0s 1ms/step - loss: 114.2413 - mean_absolute_error: 6.9376 - val_loss: 331.4767 - val_mean_absolute_error: 15.8095\n",
            "Epoch 333/500\n",
            "105/105 [==============================] - 0s 1ms/step - loss: 114.1883 - mean_absolute_error: 6.9342 - val_loss: 331.5765 - val_mean_absolute_error: 15.8114\n",
            "Epoch 334/500\n",
            "105/105 [==============================] - 0s 1ms/step - loss: 114.1111 - mean_absolute_error: 6.9288 - val_loss: 332.0164 - val_mean_absolute_error: 15.8168\n",
            "Epoch 335/500\n",
            "105/105 [==============================] - 0s 1ms/step - loss: 114.1107 - mean_absolute_error: 6.9318 - val_loss: 332.0256 - val_mean_absolute_error: 15.8134\n",
            "Epoch 336/500\n",
            "105/105 [==============================] - 0s 1ms/step - loss: 114.1243 - mean_absolute_error: 6.9202 - val_loss: 332.2868 - val_mean_absolute_error: 15.8184\n",
            "Epoch 337/500\n",
            "105/105 [==============================] - 0s 1ms/step - loss: 114.0513 - mean_absolute_error: 6.9353 - val_loss: 332.8720 - val_mean_absolute_error: 15.8317\n",
            "Epoch 338/500\n",
            "105/105 [==============================] - 0s 1ms/step - loss: 114.0452 - mean_absolute_error: 6.9257 - val_loss: 332.7829 - val_mean_absolute_error: 15.8317\n",
            "Epoch 339/500\n",
            "105/105 [==============================] - 0s 1ms/step - loss: 113.8705 - mean_absolute_error: 6.9208 - val_loss: 333.6541 - val_mean_absolute_error: 15.8492\n",
            "Epoch 340/500\n",
            "105/105 [==============================] - 0s 1ms/step - loss: 113.7843 - mean_absolute_error: 6.9297 - val_loss: 333.6656 - val_mean_absolute_error: 15.8470\n",
            "Epoch 341/500\n",
            "105/105 [==============================] - 0s 1ms/step - loss: 113.8158 - mean_absolute_error: 6.9327 - val_loss: 333.6025 - val_mean_absolute_error: 15.8449\n",
            "Epoch 342/500\n",
            "105/105 [==============================] - 0s 1ms/step - loss: 113.8317 - mean_absolute_error: 6.9106 - val_loss: 333.8486 - val_mean_absolute_error: 15.8549\n",
            "Epoch 343/500\n",
            "105/105 [==============================] - 0s 1ms/step - loss: 113.8857 - mean_absolute_error: 6.9163 - val_loss: 333.3483 - val_mean_absolute_error: 15.8449\n",
            "Epoch 344/500\n",
            "105/105 [==============================] - 0s 1ms/step - loss: 113.8190 - mean_absolute_error: 6.9174 - val_loss: 333.4860 - val_mean_absolute_error: 15.8505\n",
            "Epoch 345/500\n",
            "105/105 [==============================] - 0s 1ms/step - loss: 113.5832 - mean_absolute_error: 6.9318 - val_loss: 333.2862 - val_mean_absolute_error: 15.8432\n",
            "Epoch 346/500\n",
            "105/105 [==============================] - 0s 1ms/step - loss: 113.7512 - mean_absolute_error: 6.9120 - val_loss: 333.5840 - val_mean_absolute_error: 15.8474\n",
            "Epoch 347/500\n",
            "105/105 [==============================] - 0s 1ms/step - loss: 113.5965 - mean_absolute_error: 6.9121 - val_loss: 333.8279 - val_mean_absolute_error: 15.8558\n",
            "Epoch 348/500\n",
            "105/105 [==============================] - 0s 1ms/step - loss: 113.3813 - mean_absolute_error: 6.9320 - val_loss: 333.7090 - val_mean_absolute_error: 15.8512\n",
            "Epoch 349/500\n",
            "105/105 [==============================] - 0s 1ms/step - loss: 113.5358 - mean_absolute_error: 6.9158 - val_loss: 333.5665 - val_mean_absolute_error: 15.8515\n",
            "Epoch 350/500\n",
            "105/105 [==============================] - 0s 1ms/step - loss: 113.7512 - mean_absolute_error: 6.9084 - val_loss: 333.6879 - val_mean_absolute_error: 15.8506\n",
            "Epoch 351/500\n",
            "105/105 [==============================] - 0s 1ms/step - loss: 113.3707 - mean_absolute_error: 6.9183 - val_loss: 333.5775 - val_mean_absolute_error: 15.8480\n",
            "Epoch 352/500\n",
            "105/105 [==============================] - 0s 1ms/step - loss: 113.3712 - mean_absolute_error: 6.9204 - val_loss: 333.4324 - val_mean_absolute_error: 15.8420\n",
            "Epoch 353/500\n",
            "105/105 [==============================] - 0s 1ms/step - loss: 113.5482 - mean_absolute_error: 6.8959 - val_loss: 333.3106 - val_mean_absolute_error: 15.8406\n",
            "Epoch 354/500\n",
            "105/105 [==============================] - 0s 1ms/step - loss: 113.4481 - mean_absolute_error: 6.9065 - val_loss: 333.4865 - val_mean_absolute_error: 15.8443\n",
            "Epoch 355/500\n",
            "105/105 [==============================] - 0s 1ms/step - loss: 113.4072 - mean_absolute_error: 6.9112 - val_loss: 333.6488 - val_mean_absolute_error: 15.8491\n",
            "Epoch 356/500\n",
            "105/105 [==============================] - 0s 1ms/step - loss: 113.5439 - mean_absolute_error: 6.8971 - val_loss: 333.9490 - val_mean_absolute_error: 15.8500\n",
            "Epoch 357/500\n",
            "105/105 [==============================] - 0s 1ms/step - loss: 113.3790 - mean_absolute_error: 6.9031 - val_loss: 334.2231 - val_mean_absolute_error: 15.8566\n",
            "Epoch 358/500\n",
            "105/105 [==============================] - 0s 1ms/step - loss: 113.3793 - mean_absolute_error: 6.8999 - val_loss: 334.1473 - val_mean_absolute_error: 15.8566\n",
            "Epoch 359/500\n",
            "105/105 [==============================] - 0s 1ms/step - loss: 113.2414 - mean_absolute_error: 6.8982 - val_loss: 334.2253 - val_mean_absolute_error: 15.8592\n",
            "Epoch 360/500\n",
            "105/105 [==============================] - 0s 1ms/step - loss: 113.2517 - mean_absolute_error: 6.9077 - val_loss: 334.3576 - val_mean_absolute_error: 15.8576\n",
            "Epoch 361/500\n",
            "105/105 [==============================] - 0s 1ms/step - loss: 113.3272 - mean_absolute_error: 6.8812 - val_loss: 334.3831 - val_mean_absolute_error: 15.8589\n",
            "Epoch 362/500\n",
            "105/105 [==============================] - 0s 1ms/step - loss: 113.1969 - mean_absolute_error: 6.8875 - val_loss: 335.0781 - val_mean_absolute_error: 15.8725\n",
            "Epoch 363/500\n",
            "105/105 [==============================] - 0s 1ms/step - loss: 113.1260 - mean_absolute_error: 6.9013 - val_loss: 335.1683 - val_mean_absolute_error: 15.8789\n",
            "Epoch 364/500\n",
            "105/105 [==============================] - 0s 1ms/step - loss: 113.0719 - mean_absolute_error: 6.9006 - val_loss: 335.1454 - val_mean_absolute_error: 15.8786\n",
            "Epoch 365/500\n",
            "105/105 [==============================] - 0s 1ms/step - loss: 113.0738 - mean_absolute_error: 6.9067 - val_loss: 335.2455 - val_mean_absolute_error: 15.8856\n",
            "Epoch 366/500\n",
            "105/105 [==============================] - 0s 1ms/step - loss: 112.9857 - mean_absolute_error: 6.9014 - val_loss: 335.4599 - val_mean_absolute_error: 15.8921\n",
            "Epoch 367/500\n",
            "105/105 [==============================] - 0s 1ms/step - loss: 112.9245 - mean_absolute_error: 6.9096 - val_loss: 335.0691 - val_mean_absolute_error: 15.8869\n",
            "Epoch 368/500\n",
            "105/105 [==============================] - 0s 1ms/step - loss: 113.0298 - mean_absolute_error: 6.8956 - val_loss: 334.9390 - val_mean_absolute_error: 15.8820\n",
            "Epoch 369/500\n",
            "105/105 [==============================] - 0s 1ms/step - loss: 112.9306 - mean_absolute_error: 6.8967 - val_loss: 335.0495 - val_mean_absolute_error: 15.8874\n",
            "Epoch 370/500\n",
            "105/105 [==============================] - 0s 1ms/step - loss: 112.8405 - mean_absolute_error: 6.9012 - val_loss: 334.9529 - val_mean_absolute_error: 15.8826\n",
            "Epoch 371/500\n",
            "105/105 [==============================] - 0s 1ms/step - loss: 113.0669 - mean_absolute_error: 6.8860 - val_loss: 334.9362 - val_mean_absolute_error: 15.8796\n",
            "Epoch 372/500\n",
            "105/105 [==============================] - 0s 1ms/step - loss: 112.9056 - mean_absolute_error: 6.8941 - val_loss: 334.5745 - val_mean_absolute_error: 15.8727\n",
            "Epoch 373/500\n",
            "105/105 [==============================] - 0s 1ms/step - loss: 112.9156 - mean_absolute_error: 6.8964 - val_loss: 334.9771 - val_mean_absolute_error: 15.8752\n",
            "Epoch 374/500\n",
            "105/105 [==============================] - 0s 1ms/step - loss: 112.9385 - mean_absolute_error: 6.8951 - val_loss: 335.3918 - val_mean_absolute_error: 15.8823\n",
            "Epoch 375/500\n",
            "105/105 [==============================] - 0s 1ms/step - loss: 112.8235 - mean_absolute_error: 6.8935 - val_loss: 335.1596 - val_mean_absolute_error: 15.8826\n",
            "Epoch 376/500\n",
            "105/105 [==============================] - 0s 1ms/step - loss: 112.7032 - mean_absolute_error: 6.8819 - val_loss: 335.3071 - val_mean_absolute_error: 15.8872\n",
            "Epoch 377/500\n",
            "105/105 [==============================] - 0s 1ms/step - loss: 112.8292 - mean_absolute_error: 6.8929 - val_loss: 334.7405 - val_mean_absolute_error: 15.8733\n",
            "Epoch 378/500\n",
            "105/105 [==============================] - 0s 1ms/step - loss: 112.7125 - mean_absolute_error: 6.8862 - val_loss: 334.6400 - val_mean_absolute_error: 15.8708\n",
            "Epoch 379/500\n",
            "105/105 [==============================] - 0s 1ms/step - loss: 112.7148 - mean_absolute_error: 6.8990 - val_loss: 334.8977 - val_mean_absolute_error: 15.8779\n",
            "Epoch 380/500\n",
            "105/105 [==============================] - 0s 1ms/step - loss: 112.8143 - mean_absolute_error: 6.8941 - val_loss: 335.0653 - val_mean_absolute_error: 15.8807\n",
            "Epoch 381/500\n",
            "105/105 [==============================] - 0s 1ms/step - loss: 112.4986 - mean_absolute_error: 6.8945 - val_loss: 334.6523 - val_mean_absolute_error: 15.8740\n",
            "Epoch 382/500\n",
            "105/105 [==============================] - 0s 1ms/step - loss: 112.4390 - mean_absolute_error: 6.8871 - val_loss: 333.9865 - val_mean_absolute_error: 15.8586\n",
            "Epoch 383/500\n",
            "105/105 [==============================] - 0s 1ms/step - loss: 112.5869 - mean_absolute_error: 6.8758 - val_loss: 334.4201 - val_mean_absolute_error: 15.8682\n",
            "Epoch 384/500\n",
            "105/105 [==============================] - 0s 1ms/step - loss: 112.5306 - mean_absolute_error: 6.8871 - val_loss: 335.0101 - val_mean_absolute_error: 15.8789\n",
            "Epoch 385/500\n",
            "105/105 [==============================] - 0s 1ms/step - loss: 112.4281 - mean_absolute_error: 6.8798 - val_loss: 335.0297 - val_mean_absolute_error: 15.8871\n",
            "Epoch 386/500\n",
            "105/105 [==============================] - 0s 1ms/step - loss: 112.4613 - mean_absolute_error: 6.8867 - val_loss: 335.2986 - val_mean_absolute_error: 15.8941\n",
            "Epoch 387/500\n",
            "105/105 [==============================] - 0s 1ms/step - loss: 112.3003 - mean_absolute_error: 6.8855 - val_loss: 334.7567 - val_mean_absolute_error: 15.8817\n",
            "Epoch 388/500\n",
            "105/105 [==============================] - 0s 1ms/step - loss: 112.5758 - mean_absolute_error: 6.8777 - val_loss: 334.9349 - val_mean_absolute_error: 15.8855\n",
            "Epoch 389/500\n",
            "105/105 [==============================] - 0s 1ms/step - loss: 112.3660 - mean_absolute_error: 6.8694 - val_loss: 335.1232 - val_mean_absolute_error: 15.8879\n",
            "Epoch 390/500\n",
            "105/105 [==============================] - 0s 1ms/step - loss: 112.4172 - mean_absolute_error: 6.8732 - val_loss: 335.1160 - val_mean_absolute_error: 15.8946\n",
            "Epoch 391/500\n",
            "105/105 [==============================] - 0s 1ms/step - loss: 112.3970 - mean_absolute_error: 6.8751 - val_loss: 334.8711 - val_mean_absolute_error: 15.8897\n",
            "Epoch 392/500\n",
            "105/105 [==============================] - 0s 1ms/step - loss: 112.4132 - mean_absolute_error: 6.8713 - val_loss: 335.0153 - val_mean_absolute_error: 15.8976\n",
            "Epoch 393/500\n",
            "105/105 [==============================] - 0s 1ms/step - loss: 112.3520 - mean_absolute_error: 6.8721 - val_loss: 335.5539 - val_mean_absolute_error: 15.9066\n",
            "Epoch 394/500\n",
            "105/105 [==============================] - 0s 1ms/step - loss: 112.3289 - mean_absolute_error: 6.8688 - val_loss: 335.7320 - val_mean_absolute_error: 15.9116\n",
            "Epoch 395/500\n",
            "105/105 [==============================] - 0s 1ms/step - loss: 112.2902 - mean_absolute_error: 6.8770 - val_loss: 336.1582 - val_mean_absolute_error: 15.9163\n",
            "Epoch 396/500\n",
            "105/105 [==============================] - 0s 1ms/step - loss: 112.2671 - mean_absolute_error: 6.8654 - val_loss: 336.0967 - val_mean_absolute_error: 15.9197\n",
            "Epoch 397/500\n",
            "105/105 [==============================] - 0s 1ms/step - loss: 112.2476 - mean_absolute_error: 6.8685 - val_loss: 336.2782 - val_mean_absolute_error: 15.9220\n",
            "Epoch 398/500\n",
            "105/105 [==============================] - 0s 1ms/step - loss: 112.2432 - mean_absolute_error: 6.8675 - val_loss: 336.3277 - val_mean_absolute_error: 15.9243\n",
            "Epoch 399/500\n",
            "105/105 [==============================] - 0s 1ms/step - loss: 112.1529 - mean_absolute_error: 6.8565 - val_loss: 336.6888 - val_mean_absolute_error: 15.9328\n",
            "Epoch 400/500\n",
            "105/105 [==============================] - 0s 1ms/step - loss: 112.1210 - mean_absolute_error: 6.8663 - val_loss: 336.9549 - val_mean_absolute_error: 15.9423\n",
            "Epoch 401/500\n",
            "105/105 [==============================] - 0s 1ms/step - loss: 112.0037 - mean_absolute_error: 6.8697 - val_loss: 337.0592 - val_mean_absolute_error: 15.9470\n",
            "Epoch 402/500\n",
            "105/105 [==============================] - 0s 1ms/step - loss: 112.0521 - mean_absolute_error: 6.8696 - val_loss: 337.1624 - val_mean_absolute_error: 15.9473\n",
            "Epoch 403/500\n",
            "105/105 [==============================] - 0s 1ms/step - loss: 111.9311 - mean_absolute_error: 6.8788 - val_loss: 337.0481 - val_mean_absolute_error: 15.9492\n",
            "Epoch 404/500\n",
            "105/105 [==============================] - 0s 1ms/step - loss: 111.8764 - mean_absolute_error: 6.8732 - val_loss: 337.0208 - val_mean_absolute_error: 15.9513\n",
            "Epoch 405/500\n",
            "105/105 [==============================] - 0s 1ms/step - loss: 111.9858 - mean_absolute_error: 6.8572 - val_loss: 337.1363 - val_mean_absolute_error: 15.9517\n",
            "Epoch 406/500\n",
            "105/105 [==============================] - 0s 1ms/step - loss: 111.9554 - mean_absolute_error: 6.8710 - val_loss: 337.0819 - val_mean_absolute_error: 15.9528\n",
            "Epoch 407/500\n",
            "105/105 [==============================] - 0s 1ms/step - loss: 111.8968 - mean_absolute_error: 6.8543 - val_loss: 337.4684 - val_mean_absolute_error: 15.9621\n",
            "Epoch 408/500\n",
            "105/105 [==============================] - 0s 1ms/step - loss: 111.8848 - mean_absolute_error: 6.8642 - val_loss: 337.2520 - val_mean_absolute_error: 15.9558\n",
            "Epoch 409/500\n",
            "105/105 [==============================] - 0s 1ms/step - loss: 111.7090 - mean_absolute_error: 6.8608 - val_loss: 337.0647 - val_mean_absolute_error: 15.9495\n",
            "Epoch 410/500\n",
            "105/105 [==============================] - 0s 1ms/step - loss: 111.9556 - mean_absolute_error: 6.8534 - val_loss: 337.0285 - val_mean_absolute_error: 15.9507\n",
            "Epoch 411/500\n",
            "105/105 [==============================] - 0s 1ms/step - loss: 111.8320 - mean_absolute_error: 6.8640 - val_loss: 337.3894 - val_mean_absolute_error: 15.9570\n",
            "Epoch 412/500\n",
            "105/105 [==============================] - 0s 1ms/step - loss: 111.8937 - mean_absolute_error: 6.8542 - val_loss: 337.4309 - val_mean_absolute_error: 15.9559\n",
            "Epoch 413/500\n",
            "105/105 [==============================] - 0s 1ms/step - loss: 111.7183 - mean_absolute_error: 6.8541 - val_loss: 337.5082 - val_mean_absolute_error: 15.9595\n",
            "Epoch 414/500\n",
            "105/105 [==============================] - 0s 1ms/step - loss: 111.6827 - mean_absolute_error: 6.8531 - val_loss: 338.0696 - val_mean_absolute_error: 15.9694\n",
            "Epoch 415/500\n",
            "105/105 [==============================] - 0s 1ms/step - loss: 111.7326 - mean_absolute_error: 6.8477 - val_loss: 338.4326 - val_mean_absolute_error: 15.9792\n",
            "Epoch 416/500\n",
            "105/105 [==============================] - 0s 1ms/step - loss: 111.6396 - mean_absolute_error: 6.8600 - val_loss: 338.5922 - val_mean_absolute_error: 15.9836\n",
            "Epoch 417/500\n",
            "105/105 [==============================] - 0s 1ms/step - loss: 111.6004 - mean_absolute_error: 6.8517 - val_loss: 338.7057 - val_mean_absolute_error: 15.9823\n",
            "Epoch 418/500\n",
            "105/105 [==============================] - 0s 1ms/step - loss: 111.7440 - mean_absolute_error: 6.8486 - val_loss: 338.7870 - val_mean_absolute_error: 15.9854\n",
            "Epoch 419/500\n",
            "105/105 [==============================] - 0s 1ms/step - loss: 111.6007 - mean_absolute_error: 6.8494 - val_loss: 338.8150 - val_mean_absolute_error: 15.9837\n",
            "Epoch 420/500\n",
            "105/105 [==============================] - 0s 1ms/step - loss: 111.5689 - mean_absolute_error: 6.8563 - val_loss: 338.7707 - val_mean_absolute_error: 15.9837\n",
            "Epoch 421/500\n",
            "105/105 [==============================] - 0s 1ms/step - loss: 111.4801 - mean_absolute_error: 6.8492 - val_loss: 338.8107 - val_mean_absolute_error: 15.9862\n",
            "Epoch 422/500\n",
            "105/105 [==============================] - 0s 1ms/step - loss: 111.5635 - mean_absolute_error: 6.8467 - val_loss: 339.0329 - val_mean_absolute_error: 15.9939\n",
            "Epoch 423/500\n",
            "105/105 [==============================] - 0s 1ms/step - loss: 111.4336 - mean_absolute_error: 6.8433 - val_loss: 338.6909 - val_mean_absolute_error: 15.9835\n",
            "Epoch 424/500\n",
            "105/105 [==============================] - 0s 1ms/step - loss: 111.5461 - mean_absolute_error: 6.8457 - val_loss: 338.7982 - val_mean_absolute_error: 15.9819\n",
            "Epoch 425/500\n",
            "105/105 [==============================] - 0s 1ms/step - loss: 111.4213 - mean_absolute_error: 6.8377 - val_loss: 338.9091 - val_mean_absolute_error: 15.9831\n",
            "Epoch 426/500\n",
            "105/105 [==============================] - 0s 1ms/step - loss: 111.5017 - mean_absolute_error: 6.8486 - val_loss: 338.8797 - val_mean_absolute_error: 15.9903\n",
            "Epoch 427/500\n",
            "105/105 [==============================] - 0s 1ms/step - loss: 111.3722 - mean_absolute_error: 6.8338 - val_loss: 339.1562 - val_mean_absolute_error: 15.9926\n",
            "Epoch 428/500\n",
            "105/105 [==============================] - 0s 1ms/step - loss: 111.3954 - mean_absolute_error: 6.8392 - val_loss: 339.2742 - val_mean_absolute_error: 15.9968\n",
            "Epoch 429/500\n",
            "105/105 [==============================] - 0s 1ms/step - loss: 111.2785 - mean_absolute_error: 6.8454 - val_loss: 339.3595 - val_mean_absolute_error: 15.9991\n",
            "Epoch 430/500\n",
            "105/105 [==============================] - 0s 1ms/step - loss: 111.3387 - mean_absolute_error: 6.8376 - val_loss: 339.6293 - val_mean_absolute_error: 16.0016\n",
            "Epoch 431/500\n",
            "105/105 [==============================] - 0s 1ms/step - loss: 111.2212 - mean_absolute_error: 6.8429 - val_loss: 339.5039 - val_mean_absolute_error: 15.9988\n",
            "Epoch 432/500\n",
            "105/105 [==============================] - 0s 1ms/step - loss: 111.2098 - mean_absolute_error: 6.8303 - val_loss: 339.5403 - val_mean_absolute_error: 16.0004\n",
            "Epoch 433/500\n",
            "105/105 [==============================] - 0s 1ms/step - loss: 111.2332 - mean_absolute_error: 6.8347 - val_loss: 339.4637 - val_mean_absolute_error: 16.0002\n",
            "Epoch 434/500\n",
            "105/105 [==============================] - 0s 1ms/step - loss: 111.1846 - mean_absolute_error: 6.8319 - val_loss: 340.0105 - val_mean_absolute_error: 16.0137\n",
            "Epoch 435/500\n",
            "105/105 [==============================] - 0s 1ms/step - loss: 111.0590 - mean_absolute_error: 6.8307 - val_loss: 339.6979 - val_mean_absolute_error: 16.0077\n",
            "Epoch 436/500\n",
            "105/105 [==============================] - 0s 1ms/step - loss: 111.1673 - mean_absolute_error: 6.8276 - val_loss: 340.4698 - val_mean_absolute_error: 16.0168\n",
            "Epoch 437/500\n",
            "105/105 [==============================] - 0s 1ms/step - loss: 111.2167 - mean_absolute_error: 6.8275 - val_loss: 340.4129 - val_mean_absolute_error: 16.0122\n",
            "Epoch 438/500\n",
            "105/105 [==============================] - 0s 1ms/step - loss: 111.0734 - mean_absolute_error: 6.8181 - val_loss: 340.7783 - val_mean_absolute_error: 16.0148\n",
            "Epoch 439/500\n",
            "105/105 [==============================] - 0s 1ms/step - loss: 111.1372 - mean_absolute_error: 6.8176 - val_loss: 340.6080 - val_mean_absolute_error: 16.0098\n",
            "Epoch 440/500\n",
            "105/105 [==============================] - 0s 1ms/step - loss: 111.2127 - mean_absolute_error: 6.8166 - val_loss: 341.0446 - val_mean_absolute_error: 16.0202\n",
            "Epoch 441/500\n",
            "105/105 [==============================] - 0s 1ms/step - loss: 111.0073 - mean_absolute_error: 6.8269 - val_loss: 341.2003 - val_mean_absolute_error: 16.0204\n",
            "Epoch 442/500\n",
            "105/105 [==============================] - 0s 1ms/step - loss: 111.1001 - mean_absolute_error: 6.8229 - val_loss: 340.9357 - val_mean_absolute_error: 16.0195\n",
            "Epoch 443/500\n",
            "105/105 [==============================] - 0s 1ms/step - loss: 111.1367 - mean_absolute_error: 6.8211 - val_loss: 340.5999 - val_mean_absolute_error: 16.0127\n",
            "Epoch 444/500\n",
            "105/105 [==============================] - 0s 1ms/step - loss: 110.9350 - mean_absolute_error: 6.8176 - val_loss: 340.1086 - val_mean_absolute_error: 16.0069\n",
            "Epoch 445/500\n",
            "105/105 [==============================] - 0s 1ms/step - loss: 111.0927 - mean_absolute_error: 6.8151 - val_loss: 340.6373 - val_mean_absolute_error: 16.0183\n",
            "Epoch 446/500\n",
            "105/105 [==============================] - 0s 1ms/step - loss: 111.0758 - mean_absolute_error: 6.8146 - val_loss: 341.3243 - val_mean_absolute_error: 16.0303\n",
            "Epoch 447/500\n",
            "105/105 [==============================] - 0s 1ms/step - loss: 110.9617 - mean_absolute_error: 6.8104 - val_loss: 341.7004 - val_mean_absolute_error: 16.0407\n",
            "Epoch 448/500\n",
            "105/105 [==============================] - 0s 1ms/step - loss: 110.8894 - mean_absolute_error: 6.8169 - val_loss: 341.7894 - val_mean_absolute_error: 16.0436\n",
            "Epoch 449/500\n",
            "105/105 [==============================] - 0s 1ms/step - loss: 110.8614 - mean_absolute_error: 6.8178 - val_loss: 341.8508 - val_mean_absolute_error: 16.0441\n",
            "Epoch 450/500\n",
            "105/105 [==============================] - 0s 1ms/step - loss: 110.7689 - mean_absolute_error: 6.8258 - val_loss: 342.0382 - val_mean_absolute_error: 16.0498\n",
            "Epoch 451/500\n",
            "105/105 [==============================] - 0s 1ms/step - loss: 110.6640 - mean_absolute_error: 6.8156 - val_loss: 342.1479 - val_mean_absolute_error: 16.0558\n",
            "Epoch 452/500\n",
            "105/105 [==============================] - 0s 1ms/step - loss: 110.6438 - mean_absolute_error: 6.8194 - val_loss: 341.5737 - val_mean_absolute_error: 16.0434\n",
            "Epoch 453/500\n",
            "105/105 [==============================] - 0s 1ms/step - loss: 110.5816 - mean_absolute_error: 6.8151 - val_loss: 342.0996 - val_mean_absolute_error: 16.0573\n",
            "Epoch 454/500\n",
            "105/105 [==============================] - 0s 1ms/step - loss: 110.6425 - mean_absolute_error: 6.8198 - val_loss: 342.1493 - val_mean_absolute_error: 16.0566\n",
            "Epoch 455/500\n",
            "105/105 [==============================] - 0s 1ms/step - loss: 110.5796 - mean_absolute_error: 6.8095 - val_loss: 341.9298 - val_mean_absolute_error: 16.0534\n",
            "Epoch 456/500\n",
            "105/105 [==============================] - 0s 1ms/step - loss: 110.5313 - mean_absolute_error: 6.8086 - val_loss: 341.6097 - val_mean_absolute_error: 16.0482\n",
            "Epoch 457/500\n",
            "105/105 [==============================] - 0s 1ms/step - loss: 110.5673 - mean_absolute_error: 6.8010 - val_loss: 341.6075 - val_mean_absolute_error: 16.0573\n",
            "Epoch 458/500\n",
            "105/105 [==============================] - 0s 1ms/step - loss: 110.6791 - mean_absolute_error: 6.8044 - val_loss: 341.6351 - val_mean_absolute_error: 16.0601\n",
            "Epoch 459/500\n",
            "105/105 [==============================] - 0s 1ms/step - loss: 110.5364 - mean_absolute_error: 6.8001 - val_loss: 341.8044 - val_mean_absolute_error: 16.0638\n",
            "Epoch 460/500\n",
            "105/105 [==============================] - 0s 1ms/step - loss: 110.6551 - mean_absolute_error: 6.8043 - val_loss: 341.8403 - val_mean_absolute_error: 16.0652\n",
            "Epoch 461/500\n",
            "105/105 [==============================] - 0s 1ms/step - loss: 110.6017 - mean_absolute_error: 6.8058 - val_loss: 341.9015 - val_mean_absolute_error: 16.0623\n",
            "Epoch 462/500\n",
            "105/105 [==============================] - 0s 1ms/step - loss: 110.5440 - mean_absolute_error: 6.8032 - val_loss: 341.9663 - val_mean_absolute_error: 16.0629\n",
            "Epoch 463/500\n",
            "105/105 [==============================] - 0s 1ms/step - loss: 110.4738 - mean_absolute_error: 6.8064 - val_loss: 342.2852 - val_mean_absolute_error: 16.0679\n",
            "Epoch 464/500\n",
            "105/105 [==============================] - 0s 1ms/step - loss: 110.4522 - mean_absolute_error: 6.8022 - val_loss: 342.4799 - val_mean_absolute_error: 16.0707\n",
            "Epoch 465/500\n",
            "105/105 [==============================] - 0s 1ms/step - loss: 110.3937 - mean_absolute_error: 6.8013 - val_loss: 342.6049 - val_mean_absolute_error: 16.0725\n",
            "Epoch 466/500\n",
            "105/105 [==============================] - 0s 1ms/step - loss: 110.4886 - mean_absolute_error: 6.7921 - val_loss: 342.8284 - val_mean_absolute_error: 16.0752\n",
            "Epoch 467/500\n",
            "105/105 [==============================] - 0s 1ms/step - loss: 110.3417 - mean_absolute_error: 6.8003 - val_loss: 343.1844 - val_mean_absolute_error: 16.0824\n",
            "Epoch 468/500\n",
            "105/105 [==============================] - 0s 1ms/step - loss: 110.3292 - mean_absolute_error: 6.8006 - val_loss: 343.1539 - val_mean_absolute_error: 16.0839\n",
            "Epoch 469/500\n",
            "105/105 [==============================] - 0s 1ms/step - loss: 110.2275 - mean_absolute_error: 6.8037 - val_loss: 343.1635 - val_mean_absolute_error: 16.0846\n",
            "Epoch 470/500\n",
            "105/105 [==============================] - 0s 1ms/step - loss: 110.2867 - mean_absolute_error: 6.7930 - val_loss: 342.8880 - val_mean_absolute_error: 16.0816\n",
            "Epoch 471/500\n",
            "105/105 [==============================] - 0s 1ms/step - loss: 110.1817 - mean_absolute_error: 6.7968 - val_loss: 342.8640 - val_mean_absolute_error: 16.0767\n",
            "Epoch 472/500\n",
            "105/105 [==============================] - 0s 1ms/step - loss: 110.2423 - mean_absolute_error: 6.7910 - val_loss: 342.9116 - val_mean_absolute_error: 16.0793\n",
            "Epoch 473/500\n",
            "105/105 [==============================] - 0s 1ms/step - loss: 110.1991 - mean_absolute_error: 6.7858 - val_loss: 343.6263 - val_mean_absolute_error: 16.0893\n",
            "Epoch 474/500\n",
            "105/105 [==============================] - 0s 1ms/step - loss: 110.2921 - mean_absolute_error: 6.7927 - val_loss: 343.6816 - val_mean_absolute_error: 16.0879\n",
            "Epoch 475/500\n",
            "105/105 [==============================] - 0s 1ms/step - loss: 110.0622 - mean_absolute_error: 6.7938 - val_loss: 343.7217 - val_mean_absolute_error: 16.0921\n",
            "Epoch 476/500\n",
            "105/105 [==============================] - 0s 1ms/step - loss: 109.9227 - mean_absolute_error: 6.8037 - val_loss: 343.2329 - val_mean_absolute_error: 16.0812\n",
            "Epoch 477/500\n",
            "105/105 [==============================] - 0s 1ms/step - loss: 109.9669 - mean_absolute_error: 6.7874 - val_loss: 343.1041 - val_mean_absolute_error: 16.0753\n",
            "Epoch 478/500\n",
            "105/105 [==============================] - 0s 1ms/step - loss: 110.0564 - mean_absolute_error: 6.7819 - val_loss: 343.0078 - val_mean_absolute_error: 16.0777\n",
            "Epoch 479/500\n",
            "105/105 [==============================] - 0s 1ms/step - loss: 110.0518 - mean_absolute_error: 6.7820 - val_loss: 343.3701 - val_mean_absolute_error: 16.0842\n",
            "Epoch 480/500\n",
            "105/105 [==============================] - 0s 1ms/step - loss: 110.1012 - mean_absolute_error: 6.7796 - val_loss: 343.6052 - val_mean_absolute_error: 16.0919\n",
            "Epoch 481/500\n",
            "105/105 [==============================] - 0s 1ms/step - loss: 109.9795 - mean_absolute_error: 6.7841 - val_loss: 343.7705 - val_mean_absolute_error: 16.0945\n",
            "Epoch 482/500\n",
            "105/105 [==============================] - 0s 1ms/step - loss: 109.9477 - mean_absolute_error: 6.7814 - val_loss: 343.7582 - val_mean_absolute_error: 16.0982\n",
            "Epoch 483/500\n",
            "105/105 [==============================] - 0s 1ms/step - loss: 109.8440 - mean_absolute_error: 6.7863 - val_loss: 343.5198 - val_mean_absolute_error: 16.0949\n",
            "Epoch 484/500\n",
            "105/105 [==============================] - 0s 1ms/step - loss: 109.8010 - mean_absolute_error: 6.7888 - val_loss: 343.9467 - val_mean_absolute_error: 16.1027\n",
            "Epoch 485/500\n",
            "105/105 [==============================] - 0s 1ms/step - loss: 109.6585 - mean_absolute_error: 6.7892 - val_loss: 343.8517 - val_mean_absolute_error: 16.0963\n",
            "Epoch 486/500\n",
            "105/105 [==============================] - 0s 1ms/step - loss: 109.6865 - mean_absolute_error: 6.7842 - val_loss: 343.8050 - val_mean_absolute_error: 16.0984\n",
            "Epoch 487/500\n",
            "105/105 [==============================] - 0s 1ms/step - loss: 109.8516 - mean_absolute_error: 6.7796 - val_loss: 343.7697 - val_mean_absolute_error: 16.1017\n",
            "Epoch 488/500\n",
            "105/105 [==============================] - 0s 1ms/step - loss: 109.7277 - mean_absolute_error: 6.7827 - val_loss: 344.1291 - val_mean_absolute_error: 16.1072\n",
            "Epoch 489/500\n",
            "105/105 [==============================] - 0s 1ms/step - loss: 109.7329 - mean_absolute_error: 6.7762 - val_loss: 344.4737 - val_mean_absolute_error: 16.1136\n",
            "Epoch 490/500\n",
            "105/105 [==============================] - 0s 1ms/step - loss: 109.7170 - mean_absolute_error: 6.7810 - val_loss: 344.2268 - val_mean_absolute_error: 16.1104\n",
            "Epoch 491/500\n",
            "105/105 [==============================] - 0s 1ms/step - loss: 109.6328 - mean_absolute_error: 6.7737 - val_loss: 344.2232 - val_mean_absolute_error: 16.1113\n",
            "Epoch 492/500\n",
            "105/105 [==============================] - 0s 1ms/step - loss: 109.6080 - mean_absolute_error: 6.7820 - val_loss: 343.8191 - val_mean_absolute_error: 16.1088\n",
            "Epoch 493/500\n",
            "105/105 [==============================] - 0s 1ms/step - loss: 109.6268 - mean_absolute_error: 6.7891 - val_loss: 343.3820 - val_mean_absolute_error: 16.0991\n",
            "Epoch 494/500\n",
            "105/105 [==============================] - 0s 1ms/step - loss: 109.5415 - mean_absolute_error: 6.7820 - val_loss: 343.5375 - val_mean_absolute_error: 16.1030\n",
            "Epoch 495/500\n",
            "105/105 [==============================] - 0s 1ms/step - loss: 109.3584 - mean_absolute_error: 6.7798 - val_loss: 343.6491 - val_mean_absolute_error: 16.1022\n",
            "Epoch 496/500\n",
            "105/105 [==============================] - 0s 1ms/step - loss: 109.5922 - mean_absolute_error: 6.7717 - val_loss: 343.6894 - val_mean_absolute_error: 16.1028\n",
            "Epoch 497/500\n",
            "105/105 [==============================] - 0s 1ms/step - loss: 109.4643 - mean_absolute_error: 6.7837 - val_loss: 343.9950 - val_mean_absolute_error: 16.1095\n",
            "Epoch 498/500\n",
            "105/105 [==============================] - 0s 1ms/step - loss: 109.4743 - mean_absolute_error: 6.7750 - val_loss: 343.7395 - val_mean_absolute_error: 16.1100\n",
            "Epoch 499/500\n",
            "105/105 [==============================] - 0s 1ms/step - loss: 109.3127 - mean_absolute_error: 6.7837 - val_loss: 343.5160 - val_mean_absolute_error: 16.1081\n",
            "Epoch 500/500\n",
            "105/105 [==============================] - 0s 1ms/step - loss: 109.3270 - mean_absolute_error: 6.7819 - val_loss: 343.7445 - val_mean_absolute_error: 16.1109\n"
          ],
          "name": "stdout"
        }
      ]
    },
    {
      "cell_type": "code",
      "metadata": {
        "id": "3FfY9mHOZcNR",
        "colab_type": "code",
        "outputId": "38cff8c3-f6a7-446d-8e19-9908111b7dc9",
        "colab": {
          "base_uri": "https://localhost:8080/",
          "height": 35
        }
      },
      "source": [
        "len(mae_history)"
      ],
      "execution_count": 50,
      "outputs": [
        {
          "output_type": "execute_result",
          "data": {
            "text/plain": [
              "500"
            ]
          },
          "metadata": {
            "tags": []
          },
          "execution_count": 50
        }
      ]
    },
    {
      "cell_type": "markdown",
      "metadata": {
        "id": "_JFcHa2LGPXj",
        "colab_type": "text"
      },
      "source": [
        "#Plotting training and validation mae"
      ]
    },
    {
      "cell_type": "code",
      "metadata": {
        "id": "13s5AsNnFQ7F",
        "colab_type": "code",
        "outputId": "8cb8da9c-2396-480b-eb36-87eb6c3ff2b7",
        "colab": {
          "base_uri": "https://localhost:8080/",
          "height": 0
        }
      },
      "source": [
        "import matplotlib.pyplot as plt\n",
        "plt.plot(range(1, len(mae_val_history) + 1), mae_val_history, 'r', label='Validation mae')\n",
        "plt.plot(range(1, len(mae_history) + 1), mae_history, 'b', label='Training mae')\n",
        "plt.xlabel('Epochs')\n",
        "plt.ylabel('Validation MAE')\n",
        "plt.legend()\n",
        "plt.show()\n"
      ],
      "execution_count": 51,
      "outputs": [
        {
          "output_type": "display_data",
          "data": {
            "image/png": "[encoded data removed]",
            "text/plain": [
              "<Figure size 432x288 with 1 Axes>"
            ]
          },
          "metadata": {
            "tags": []
          }
        }
      ]
    },
    {
      "cell_type": "markdown",
      "metadata": {
        "id": "723BbzxdJtj-",
        "colab_type": "text"
      },
      "source": [
        "#Plotting training and validation loss"
      ]
    },
    {
      "cell_type": "code",
      "metadata": {
        "id": "tezhzHbMGguv",
        "colab_type": "code",
        "outputId": "0132ae14-d458-42c7-c4f2-cc6ddfe35b91",
        "colab": {
          "base_uri": "https://localhost:8080/",
          "height": 0
        }
      },
      "source": [
        "import matplotlib.pyplot as plt\n",
        "plt.plot(range(1, len(loss_val_history) + 1), loss_val_history, 'r', label='Validation loss')\n",
        "plt.plot(range(1, len(loss_history) + 1), loss_history, 'b', label='Training loss')\n",
        "plt.xlabel('Epochs')\n",
        "plt.ylabel('Validation LOSS')\n",
        "plt.legend()\n",
        "plt.show()"
      ],
      "execution_count": 52,
      "outputs": [
        {
          "output_type": "display_data",
          "data": {
            "image/png": "[encoded data removed]",
            "text/plain": [
              "<Figure size 432x288 with 1 Axes>"
            ]
          },
          "metadata": {
            "tags": []
          }
        }
      ]
    },
    {
      "cell_type": "markdown",
      "metadata": {
        "id": "3cYo_1gJEMly",
        "colab_type": "text"
      },
      "source": [
        "#Test model\n"
      ]
    },
    {
      "cell_type": "code",
      "metadata": {
        "id": "ZiMorOCCKPF8",
        "colab_type": "code",
        "outputId": "51e168c0-a8e1-410d-deb5-a2c4cc6fad37",
        "colab": {
          "base_uri": "https://localhost:8080/",
          "height": 0
        }
      },
      "source": [
        "model.fit(train_data_stand_pca, train_targets, epochs=80, batch_size=1, verbose=0)\n",
        "test_mse_score, test_mae_score = model.evaluate(test_data_stand_pca, y_test)"
      ],
      "execution_count": 53,
      "outputs": [
        {
          "output_type": "stream",
          "text": [
            "\r13/13 [==============================] - 0s 46us/step\n"
          ],
          "name": "stdout"
        }
      ]
    },
    {
      "cell_type": "code",
      "metadata": {
        "id": "TiVCR2H6E1QB",
        "colab_type": "code",
        "outputId": "78eed703-0dcb-46df-907d-eefae6d50f41",
        "colab": {
          "base_uri": "https://localhost:8080/",
          "height": 0
        }
      },
      "source": [
        "test_mae_score"
      ],
      "execution_count": 54,
      "outputs": [
        {
          "output_type": "execute_result",
          "data": {
            "text/plain": [
              "17.22702407836914"
            ]
          },
          "metadata": {
            "tags": []
          },
          "execution_count": 54
        }
      ]
    }
  ]
}