{
  "nbformat": 4,
  "nbformat_minor": 0,
  "metadata": {
    "colab": {
      "name": "Regression_NO_kfold.ipynb",
      "provenance": [],
      "authorship_tag": "ABX9TyN6EZWP/XdH+5uXhy0GXtrs",
      "include_colab_link": true
    },
    "kernelspec": {
      "name": "python3",
      "display_name": "Python 3"
    }
  },
  "cells": [
    {
      "cell_type": "markdown",
      "metadata": {
        "id": "view-in-github",
        "colab_type": "text"
      },
      "source": [
        "<a href=\"https://colab.research.google.com/github/leonardoub/SCRIPT_PALERMO/blob/master/Regression_NO_kfold.ipynb\" target=\"_parent\"><img src=\"https://colab.research.google.com/assets/colab-badge.svg\" alt=\"Open In Colab\"/></a>"
      ]
    },
    {
      "cell_type": "code",
      "metadata": {
        "id": "H4l7OHNfwiiy",
        "colab_type": "code",
        "colab": {}
      },
      "source": [
        "import random\n",
        "import pandas as pd\n",
        "import numpy as np\n",
        "import matplotlib.pyplot as plt\n",
        "import scipy\n",
        "import seaborn as sns\n",
        "random.seed(1)"
      ],
      "execution_count": 0,
      "outputs": []
    },
    {
      "cell_type": "markdown",
      "metadata": {
        "id": "_DME-inQ4ke_",
        "colab_type": "text"
      },
      "source": [
        "#Load data"
      ]
    },
    {
      "cell_type": "code",
      "metadata": {
        "id": "7Hq45TSf3WcR",
        "colab_type": "code",
        "outputId": "c920e24b-9a31-4a48-8673-e8893075584d",
        "colab": {
          "base_uri": "https://localhost:8080/",
          "height": 52
        }
      },
      "source": [
        "#load data from Drive\n",
        "from google.colab import drive\n",
        "drive.mount('/gdrive')\n",
        "%cd /gdrive"
      ],
      "execution_count": 2,
      "outputs": [
        {
          "output_type": "stream",
          "text": [
            "Drive already mounted at /gdrive; to attempt to forcibly remount, call drive.mount(\"/gdrive\", force_remount=True).\n",
            "/gdrive\n"
          ],
          "name": "stdout"
        }
      ]
    },
    {
      "cell_type": "code",
      "metadata": {
        "id": "UCkUXesZhMzg",
        "colab_type": "code",
        "colab": {}
      },
      "source": [
        "train_dataset_path = '/gdrive/My Drive/AIM_PA/database_training2.csv'\n",
        "test_dataset_path = '/gdrive/My Drive/AIM_PA/database_nostro_without_nan.csv'"
      ],
      "execution_count": 0,
      "outputs": []
    },
    {
      "cell_type": "code",
      "metadata": {
        "id": "TczPxOpEhTXw",
        "colab_type": "code",
        "colab": {}
      },
      "source": [
        "df_train = pd.read_csv(train_dataset_path)\n",
        "df_test = pd.read_csv(test_dataset_path)"
      ],
      "execution_count": 0,
      "outputs": []
    },
    {
      "cell_type": "code",
      "metadata": {
        "id": "9I5MNxeW3j2G",
        "colab_type": "code",
        "colab": {}
      },
      "source": [
        "df_train.rename(columns={'Survival.time (months)':'Surv_time_months'}, inplace=True)"
      ],
      "execution_count": 0,
      "outputs": []
    },
    {
      "cell_type": "code",
      "metadata": {
        "id": "TLxDyFPo3sU9",
        "colab_type": "code",
        "colab": {}
      },
      "source": [
        "df_test.rename(columns={'Survival.time (months)':'Surv_time_months'}, inplace=True)"
      ],
      "execution_count": 0,
      "outputs": []
    },
    {
      "cell_type": "code",
      "metadata": {
        "id": "oXU_B2k03uYa",
        "colab_type": "code",
        "colab": {}
      },
      "source": [
        "df_train.rename(columns={'Overall.Stage':'Overall_Stage'}, inplace=True)\n",
        "df_test.rename(columns={'Overall.Stage':'Overall_Stage'}, inplace=True)"
      ],
      "execution_count": 0,
      "outputs": []
    },
    {
      "cell_type": "code",
      "metadata": {
        "id": "T1YCrOMP3_4q",
        "colab_type": "code",
        "colab": {}
      },
      "source": [
        "public_data = df_train.drop(['Histology', 'Surv_time_months', 'OS', 'deadstatus.event','Overall_Stage'], axis=1)"
      ],
      "execution_count": 0,
      "outputs": []
    },
    {
      "cell_type": "code",
      "metadata": {
        "id": "BWj1mwjV4Mzo",
        "colab_type": "code",
        "colab": {}
      },
      "source": [
        "PA_data = df_test.drop(['Histology', 'Surv_time_months', 'OS', 'deadstatus.event','Overall_Stage'], axis=1)"
      ],
      "execution_count": 0,
      "outputs": []
    },
    {
      "cell_type": "code",
      "metadata": {
        "id": "dKdS4Low4PHh",
        "colab_type": "code",
        "colab": {}
      },
      "source": [
        "public_targets = df_train.Surv_time_months"
      ],
      "execution_count": 0,
      "outputs": []
    },
    {
      "cell_type": "code",
      "metadata": {
        "id": "K6EsAdEt4RNP",
        "colab_type": "code",
        "colab": {}
      },
      "source": [
        "PA_targets = df_test.Surv_time_months"
      ],
      "execution_count": 0,
      "outputs": []
    },
    {
      "cell_type": "code",
      "metadata": {
        "id": "kBaJT3uHVOZ8",
        "colab_type": "code",
        "outputId": "d0eb02d0-650a-461b-f37f-144df37d8b9f",
        "colab": {
          "base_uri": "https://localhost:8080/",
          "height": 34
        }
      },
      "source": [
        "public_targets.min()"
      ],
      "execution_count": 12,
      "outputs": [
        {
          "output_type": "execute_result",
          "data": {
            "text/plain": [
              "1"
            ]
          },
          "metadata": {
            "tags": []
          },
          "execution_count": 12
        }
      ]
    },
    {
      "cell_type": "code",
      "metadata": {
        "id": "ZmINZOMZVX4G",
        "colab_type": "code",
        "outputId": "8f5153da-7f6b-4f9c-b1b8-6c99169a861b",
        "colab": {
          "base_uri": "https://localhost:8080/",
          "height": 34
        }
      },
      "source": [
        "public_targets.max()"
      ],
      "execution_count": 13,
      "outputs": [
        {
          "output_type": "execute_result",
          "data": {
            "text/plain": [
              "72"
            ]
          },
          "metadata": {
            "tags": []
          },
          "execution_count": 13
        }
      ]
    },
    {
      "cell_type": "code",
      "metadata": {
        "id": "UdyU7v6SEe4P",
        "colab_type": "code",
        "colab": {}
      },
      "source": [
        "a=list(public_targets)"
      ],
      "execution_count": 0,
      "outputs": []
    },
    {
      "cell_type": "code",
      "metadata": {
        "id": "1iuOkL8LEjXT",
        "colab_type": "code",
        "colab": {}
      },
      "source": [
        "a.sort()"
      ],
      "execution_count": 0,
      "outputs": []
    },
    {
      "cell_type": "code",
      "metadata": {
        "id": "Eh1YPPwSCsYq",
        "colab_type": "code",
        "colab": {
          "base_uri": "https://localhost:8080/",
          "height": 54
        },
        "outputId": "312c1fbe-3420-44b1-e6b9-d36164223e34"
      },
      "source": [
        "print(a)"
      ],
      "execution_count": 16,
      "outputs": [
        {
          "output_type": "stream",
          "text": [
            "[1, 1, 2, 2, 2, 2, 2, 2, 3, 3, 3, 3, 3, 3, 4, 4, 4, 4, 4, 4, 5, 5, 5, 5, 6, 6, 6, 6, 6, 6, 7, 7, 7, 7, 8, 8, 9, 9, 9, 9, 10, 10, 10, 10, 10, 10, 11, 12, 12, 12, 12, 12, 13, 13, 13, 15, 15, 15, 15, 15, 16, 16, 16, 16, 16, 17, 18, 18, 18, 18, 19, 19, 19, 21, 21, 21, 21, 21, 22, 22, 23, 23, 23, 24, 24, 25, 25, 25, 26, 27, 27, 27, 28, 29, 29, 30, 30, 30, 31, 31, 32, 33, 33, 33, 34, 36, 36, 36, 38, 38, 40, 40, 41, 41, 44, 45, 45, 46, 46, 46, 48, 50, 51, 52, 54, 56, 60, 63, 64, 71, 72]\n"
          ],
          "name": "stdout"
        }
      ]
    },
    {
      "cell_type": "code",
      "metadata": {
        "id": "EZC4UTEXwwb1",
        "colab_type": "code",
        "outputId": "51226c2c-4780-4156-9cc2-a4889a3eb345",
        "colab": {
          "base_uri": "https://localhost:8080/",
          "height": 317
        }
      },
      "source": [
        "plt.hist(public_targets, 5)"
      ],
      "execution_count": 23,
      "outputs": [
        {
          "output_type": "execute_result",
          "data": {
            "text/plain": [
              "(array([60., 35., 19., 12.,  5.]),\n",
              " array([ 1. , 15.2, 29.4, 43.6, 57.8, 72. ]),\n",
              " <a list of 5 Patch objects>)"
            ]
          },
          "metadata": {
            "tags": []
          },
          "execution_count": 23
        },
        {
          "output_type": "display_data",
          "data": {
            "image/png": "[encoded data removed]",
            "text/plain": [
              "<Figure size 432x288 with 1 Axes>"
            ]
          },
          "metadata": {
            "tags": []
          }
        }
      ]
    },
    {
      "cell_type": "markdown",
      "metadata": {
        "id": "tqDYyNd6_3s4",
        "colab_type": "text"
      },
      "source": [
        "#Train Test Split"
      ]
    },
    {
      "cell_type": "code",
      "metadata": {
        "id": "_7I8R-jd_3Hd",
        "colab_type": "code",
        "colab": {}
      },
      "source": [
        "from sklearn.model_selection import train_test_split"
      ],
      "execution_count": 0,
      "outputs": []
    },
    {
      "cell_type": "code",
      "metadata": {
        "id": "1iGf61ksL0aY",
        "colab_type": "code",
        "colab": {}
      },
      "source": [
        "# Create the bins.  My target variable has\n",
        "# max=72 observations, and I want 5 bins.\n",
        "\n",
        "bins = np.linspace(1, 71, 5)"
      ],
      "execution_count": 0,
      "outputs": []
    },
    {
      "cell_type": "code",
      "metadata": {
        "id": "pD-nPB1iMFTh",
        "colab_type": "code",
        "colab": {
          "base_uri": "https://localhost:8080/",
          "height": 34
        },
        "outputId": "0b251c36-cc44-448b-d468-267db293f731"
      },
      "source": [
        "bins"
      ],
      "execution_count": 122,
      "outputs": [
        {
          "output_type": "execute_result",
          "data": {
            "text/plain": [
              "array([ 1. , 18.5, 36. , 53.5, 71. ])"
            ]
          },
          "metadata": {
            "tags": []
          },
          "execution_count": 122
        }
      ]
    },
    {
      "cell_type": "code",
      "metadata": {
        "id": "NUWXG2pxMr86",
        "colab_type": "code",
        "colab": {}
      },
      "source": [
        "# Save your Y values in a new ndarray,\n",
        "# broken down by the bins created above.\n",
        "\n",
        "y_binned = np.digitize(public_targets, bins)"
      ],
      "execution_count": 0,
      "outputs": []
    },
    {
      "cell_type": "code",
      "metadata": {
        "id": "6W6OigAeMykE",
        "colab_type": "code",
        "colab": {
          "base_uri": "https://localhost:8080/",
          "height": 121
        },
        "outputId": "549f6944-ba7c-42db-c754-54dbda0d40e5"
      },
      "source": [
        "y_binned"
      ],
      "execution_count": 124,
      "outputs": [
        {
          "output_type": "execute_result",
          "data": {
            "text/plain": [
              "array([1, 1, 2, 3, 1, 1, 1, 2, 3, 1, 1, 1, 1, 1, 2, 4, 1, 1, 1, 2, 2, 2,\n",
              "       2, 3, 3, 4, 1, 1, 1, 1, 1, 1, 2, 2, 2, 2, 2, 2, 2, 2, 2, 2, 3, 3,\n",
              "       3, 1, 1, 1, 1, 1, 1, 1, 1, 1, 1, 1, 1, 1, 1, 1, 1, 1, 2, 2, 2, 2,\n",
              "       2, 2, 2, 2, 3, 3, 3, 3, 3, 5, 1, 1, 1, 1, 1, 1, 1, 1, 2, 2, 2, 3,\n",
              "       3, 3, 1, 1, 1, 1, 1, 1, 1, 2, 3, 4, 4, 1, 1, 1, 1, 1, 1, 1, 1, 1,\n",
              "       1, 1, 2, 2, 2, 4, 1, 1, 1, 1, 1, 1, 1, 1, 2, 2, 2, 3, 3, 3, 5])"
            ]
          },
          "metadata": {
            "tags": []
          },
          "execution_count": 124
        }
      ]
    },
    {
      "cell_type": "code",
      "metadata": {
        "id": "_bnO8hgZ__GF",
        "colab_type": "code",
        "colab": {}
      },
      "source": [
        "X_train, X_test, y_train, y_test = train_test_split(public_data, public_targets, test_size=13, stratify=y_binned)"
      ],
      "execution_count": 0,
      "outputs": []
    },
    {
      "cell_type": "code",
      "metadata": {
        "id": "tdNT2GsMOAYv",
        "colab_type": "code",
        "colab": {
          "base_uri": "https://localhost:8080/",
          "height": 317
        },
        "outputId": "9dc69a71-db48-495d-dfc8-fa771971da06"
      },
      "source": [
        "plt.hist(y_test, 5)"
      ],
      "execution_count": 126,
      "outputs": [
        {
          "output_type": "execute_result",
          "data": {
            "text/plain": [
              "(array([7., 3., 1., 1., 1.]),\n",
              " array([ 5. , 16.6, 28.2, 39.8, 51.4, 63. ]),\n",
              " <a list of 5 Patch objects>)"
            ]
          },
          "metadata": {
            "tags": []
          },
          "execution_count": 126
        },
        {
          "output_type": "display_data",
          "data": {
            "image/png": "[encoded data removed]",
            "text/plain": [
              "<Figure size 432x288 with 1 Axes>"
            ]
          },
          "metadata": {
            "tags": []
          }
        }
      ]
    },
    {
      "cell_type": "markdown",
      "metadata": {
        "id": "pMuRNXFjVEiK",
        "colab_type": "text"
      },
      "source": [
        "#Train Validation Split"
      ]
    },
    {
      "cell_type": "code",
      "metadata": {
        "colab_type": "code",
        "id": "ovpVx4a7VMkl",
        "colab": {}
      },
      "source": [
        "from sklearn.model_selection import train_test_split"
      ],
      "execution_count": 0,
      "outputs": []
    },
    {
      "cell_type": "code",
      "metadata": {
        "colab_type": "code",
        "id": "ch0dPinGVMk3",
        "colab": {}
      },
      "source": [
        "# Create the bins. My target variable has\n",
        "#  max=72, and I want 5 bins.\n",
        "\n",
        "bins = np.linspace(1, 71, 5)"
      ],
      "execution_count": 0,
      "outputs": []
    },
    {
      "cell_type": "code",
      "metadata": {
        "colab_type": "code",
        "outputId": "535bbb8b-6dbe-4b6c-abb7-f483fae7a1d8",
        "id": "o0tcNiSSVMlJ",
        "colab": {
          "base_uri": "https://localhost:8080/",
          "height": 34
        }
      },
      "source": [
        "bins"
      ],
      "execution_count": 136,
      "outputs": [
        {
          "output_type": "execute_result",
          "data": {
            "text/plain": [
              "array([ 1. , 18.5, 36. , 53.5, 71. ])"
            ]
          },
          "metadata": {
            "tags": []
          },
          "execution_count": 136
        }
      ]
    },
    {
      "cell_type": "code",
      "metadata": {
        "colab_type": "code",
        "id": "ZrvunTpXVMla",
        "colab": {}
      },
      "source": [
        "# Save your Y values in a new ndarray,\n",
        "# broken down by the bins created above.\n",
        "\n",
        "y_binned = np.digitize(y_train, bins)"
      ],
      "execution_count": 0,
      "outputs": []
    },
    {
      "cell_type": "code",
      "metadata": {
        "colab_type": "code",
        "outputId": "d90a5264-e15b-4a55-ec97-6eaa51eaf10b",
        "id": "se_dpuIJVMlm",
        "colab": {
          "base_uri": "https://localhost:8080/",
          "height": 121
        }
      },
      "source": [
        "y_binned"
      ],
      "execution_count": 139,
      "outputs": [
        {
          "output_type": "execute_result",
          "data": {
            "text/plain": [
              "array([3, 2, 3, 1, 2, 1, 2, 2, 1, 3, 2, 1, 1, 1, 3, 1, 2, 1, 1, 1, 2, 1,\n",
              "       2, 2, 2, 1, 2, 1, 2, 4, 2, 1, 1, 1, 1, 2, 1, 2, 2, 1, 1, 1, 4, 2,\n",
              "       1, 1, 3, 1, 2, 3, 2, 5, 1, 1, 1, 3, 1, 3, 1, 1, 1, 1, 1, 4, 3, 2,\n",
              "       1, 3, 1, 3, 1, 3, 1, 1, 1, 1, 1, 1, 1, 1, 3, 1, 1, 1, 1, 4, 3, 1,\n",
              "       1, 2, 1, 1, 1, 2, 1, 2, 3, 1, 3, 2, 2, 2, 1, 2, 1, 5, 1, 2, 2, 2,\n",
              "       2, 1, 1, 1, 1, 1, 2, 3])"
            ]
          },
          "metadata": {
            "tags": []
          },
          "execution_count": 139
        }
      ]
    },
    {
      "cell_type": "code",
      "metadata": {
        "colab_type": "code",
        "id": "S3Tq1lHxVMlu",
        "colab": {}
      },
      "source": [
        "X_train_1, X_val, train_targets, val_targets = train_test_split(X_train, y_train, test_size=13, stratify=y_binned)"
      ],
      "execution_count": 0,
      "outputs": []
    },
    {
      "cell_type": "code",
      "metadata": {
        "colab_type": "code",
        "outputId": "26bb293b-4533-4c10-911d-026e7690d6b1",
        "id": "sKiagqNGVMl4",
        "colab": {
          "base_uri": "https://localhost:8080/",
          "height": 317
        }
      },
      "source": [
        "plt.hist(y_val, 5)"
      ],
      "execution_count": 141,
      "outputs": [
        {
          "output_type": "execute_result",
          "data": {
            "text/plain": [
              "(array([6., 3., 2., 1., 1.]),\n",
              " array([ 3. , 12.6, 22.2, 31.8, 41.4, 51. ]),\n",
              " <a list of 5 Patch objects>)"
            ]
          },
          "metadata": {
            "tags": []
          },
          "execution_count": 141
        },
        {
          "output_type": "display_data",
          "data": {
            "image/png": "[encoded data removed]",
            "text/plain": [
              "<Figure size 432x288 with 1 Axes>"
            ]
          },
          "metadata": {
            "tags": []
          }
        }
      ]
    },
    {
      "cell_type": "markdown",
      "metadata": {
        "id": "dtPx7PMDnXM3",
        "colab_type": "text"
      },
      "source": [
        "#Z score dei dati"
      ]
    },
    {
      "cell_type": "code",
      "metadata": {
        "id": "XK4Qji2EnVV4",
        "colab_type": "code",
        "colab": {}
      },
      "source": [
        "mean = X_train_1.mean(axis=0)\n",
        "train_data_stand = X_train_1 - mean\n",
        "std = X_train_1.std(axis=0)\n",
        "train_data_stand /= std"
      ],
      "execution_count": 0,
      "outputs": []
    },
    {
      "cell_type": "code",
      "metadata": {
        "id": "jaqeWiaXXGy0",
        "colab_type": "code",
        "colab": {}
      },
      "source": [
        "val_data_stand = X_val - mean\n",
        "val_data_stand /= std"
      ],
      "execution_count": 0,
      "outputs": []
    },
    {
      "cell_type": "code",
      "metadata": {
        "id": "YOVOoNOvm0Yx",
        "colab_type": "code",
        "colab": {}
      },
      "source": [
        "test_data_stand = X_test - mean\n",
        "test_data_stand /= stdSplit"
      ],
      "execution_count": 0,
      "outputs": []
    },
    {
      "cell_type": "markdown",
      "metadata": {
        "id": "Mn0tkOGc3LKN",
        "colab_type": "text"
      },
      "source": [
        "#PCA"
      ]
    },
    {
      "cell_type": "code",
      "metadata": {
        "id": "oS76u6iu3Seg",
        "colab_type": "code",
        "colab": {}
      },
      "source": [
        "from sklearn.decomposition import PCA"
      ],
      "execution_count": 0,
      "outputs": []
    },
    {
      "cell_type": "code",
      "metadata": {
        "id": "KCjC4zqJ3bui",
        "colab_type": "code",
        "colab": {}
      },
      "source": [
        "pca = PCA(n_components=0.9, svd_solver='full')"
      ],
      "execution_count": 0,
      "outputs": []
    },
    {
      "cell_type": "code",
      "metadata": {
        "id": "dLUCf9qX4p_e",
        "colab_type": "code",
        "outputId": "374f97cc-2777-4572-f184-c08097ae29ef",
        "colab": {
          "base_uri": "https://localhost:8080/",
          "height": 52
        }
      },
      "source": [
        "pca.fit(train_data_stand)"
      ],
      "execution_count": 147,
      "outputs": [
        {
          "output_type": "execute_result",
          "data": {
            "text/plain": [
              "PCA(copy=True, iterated_power='auto', n_components=0.9, random_state=None,\n",
              "    svd_solver='full', tol=0.0, whiten=False)"
            ]
          },
          "metadata": {
            "tags": []
          },
          "execution_count": 147
        }
      ]
    },
    {
      "cell_type": "code",
      "metadata": {
        "id": "QfyaKgNZ44o3",
        "colab_type": "code",
        "colab": {}
      },
      "source": [
        "train_data_stand_pca = pca.transform(train_data_stand)\n",
        "val_data_stand_pca = pca.transform(val_data_stand)\n",
        "test_data_stand_pca = pca.transform(test_data_stand)"
      ],
      "execution_count": 0,
      "outputs": []
    },
    {
      "cell_type": "code",
      "metadata": {
        "id": "Uz9C4nl05b_g",
        "colab_type": "code",
        "outputId": "7315d9fb-1568-4b40-8abe-a241d17b866e",
        "colab": {
          "base_uri": "https://localhost:8080/",
          "height": 34
        }
      },
      "source": [
        "train_data_stand_pca.shape"
      ],
      "execution_count": 149,
      "outputs": [
        {
          "output_type": "execute_result",
          "data": {
            "text/plain": [
              "(105, 9)"
            ]
          },
          "metadata": {
            "tags": []
          },
          "execution_count": 149
        }
      ]
    },
    {
      "cell_type": "markdown",
      "metadata": {
        "id": "WF5fsvoQwBqR",
        "colab_type": "text"
      },
      "source": [
        "#Z-score dopo PCA"
      ]
    },
    {
      "cell_type": "code",
      "metadata": {
        "id": "Bw8_CwJZwBD1",
        "colab_type": "code",
        "colab": {}
      },
      "source": [
        "mean = train_data_stand_pca.mean(axis=0)\n",
        "std = train_data_stand_pca.std(axis=0)\n",
        "train_data_stand_pca = train_data_stand_pca - mean\n",
        "train_data_stand_pca /= std"
      ],
      "execution_count": 0,
      "outputs": []
    },
    {
      "cell_type": "code",
      "metadata": {
        "id": "3KW2c_RIXpWy",
        "colab_type": "code",
        "colab": {}
      },
      "source": [
        "val_data_stand_pca = val_data_stand_pca - mean\n",
        "val_data_stand_pca /= std"
      ],
      "execution_count": 0,
      "outputs": []
    },
    {
      "cell_type": "code",
      "metadata": {
        "id": "H3wGNwiWXvbo",
        "colab_type": "code",
        "colab": {}
      },
      "source": [
        "test_data_stand_pca = test_data_stand_pca - mean\n",
        "test_data_stand_pca /= std"
      ],
      "execution_count": 0,
      "outputs": []
    },
    {
      "cell_type": "markdown",
      "metadata": {
        "id": "8wSKvSu4s5ip",
        "colab_type": "text"
      },
      "source": [
        "#Building Network"
      ]
    },
    {
      "cell_type": "code",
      "metadata": {
        "id": "1tX_y6KKs3pM",
        "colab_type": "code",
        "outputId": "7a896641-ffa7-45f3-8223-fb8cd18ad9c9",
        "colab": {
          "base_uri": "https://localhost:8080/",
          "height": 64
        }
      },
      "source": [
        "from keras import models"
      ],
      "execution_count": 153,
      "outputs": [
        {
          "output_type": "display_data",
          "data": {
            "text/html": [
              "<p style=\"color: red;\">\n",
              "The default version of TensorFlow in Colab will soon switch to TensorFlow 2.x.<br>\n",
              "We recommend you <a href=\"https://www.tensorflow.org/guide/migrate\" target=\"_blank\">upgrade</a> now \n",
              "or ensure your notebook will continue to use TensorFlow 1.x via the <code>%tensorflow_version 1.x</code> magic:\n",
              "<a href=\"https://colab.research.google.com/notebooks/tensorflow_version.ipynb\" target=\"_blank\">more info</a>.</p>\n"
            ],
            "text/plain": [
              "<IPython.core.display.HTML object>"
            ]
          },
          "metadata": {
            "tags": []
          }
        }
      ]
    },
    {
      "cell_type": "code",
      "metadata": {
        "id": "ShwM6YMqsxxJ",
        "colab_type": "code",
        "colab": {}
      },
      "source": [
        "from keras import layers"
      ],
      "execution_count": 0,
      "outputs": []
    },
    {
      "cell_type": "code",
      "metadata": {
        "id": "1dpwVvLEiSot",
        "colab_type": "code",
        "colab": {}
      },
      "source": [
        "from keras.optimizers import RMSprop\n",
        "from keras.optimizers import Adagrad\n",
        "from keras.optimizers import Adadelta\n",
        "from keras.optimizers import Adam\n",
        "from keras.optimizers import Adamax\n",
        "from keras.optimizers import Nadam\n",
        "from keras.optimizers import SGD"
      ],
      "execution_count": 0,
      "outputs": []
    },
    {
      "cell_type": "code",
      "metadata": {
        "id": "PfLUIW9Mgjsp",
        "colab_type": "code",
        "colab": {}
      },
      "source": [
        "from keras import regularizers"
      ],
      "execution_count": 0,
      "outputs": []
    },
    {
      "cell_type": "code",
      "metadata": {
        "id": "7OAEgN31tHVV",
        "colab_type": "code",
        "colab": {}
      },
      "source": [
        "def build_model():\n",
        "  model = models.Sequential()\n",
        "  model.add(layers.Dense(32, activation='relu', kernel_regularizer=regularizers.l1_l2(l1=0.001, l2=0.001), \n",
        "                         input_shape=(9,)))\n",
        "  model.add(layers.Dense(32, activation='relu', kernel_regularizer=regularizers.l1_l2(l1=0.001, l2=0.001)))\n",
        "  model.add(layers.Dense(32, activation='relu', kernel_regularizer=regularizers.l1_l2(l1=0.001, l2=0.001)))\n",
        "\n",
        "  model.add(layers.Dense(1))\n",
        "\n",
        "  rmsp = RMSprop(lr=0.01)\n",
        "  adagrad = Adagrad(lr=0.01)\n",
        "  adadelta = Adadelta(lr=1.0, rho=0.95)\n",
        "  adam = Adam(lr=0.001, beta_1=0.9, beta_2=0.999, amsgrad=False)\n",
        "  adamax = Adamax(lr=0.002, beta_1=0.9, beta_2=0.999)\n",
        "  nadam = Nadam(lr=0.002, beta_1=0.9, beta_2=0.999)\n",
        "#  sgd = SGD(lr=0.01, momentum=0.0, nesterov=False) # NON UTILIZZABILE\n",
        "#  optimizer='rmsprop'\n",
        "\n",
        "  model.compile(optimizer=adam, loss='mse', metrics=['mae'])\n",
        "  return model"
      ],
      "execution_count": 0,
      "outputs": []
    },
    {
      "cell_type": "markdown",
      "metadata": {
        "id": "sA7Ye1SZDUXB",
        "colab_type": "text"
      },
      "source": [
        "Note that you compile the network with the mse loss function—mean squared error,\n",
        "the square of the difference between the predictions and the targets. This is a widely\n",
        "used loss function for regression problems.\n",
        "\n"
      ]
    },
    {
      "cell_type": "markdown",
      "metadata": {
        "id": "jXmq-i3sDXQA",
        "colab_type": "text"
      },
      "source": [
        "You’re also monitoring a new metric during training: mean absolute error (MAE). It’s\n",
        "the absolute value of the difference between the predictions and the targets. For\n",
        "instance, an MAE of 0.5 on this problem would mean your predictions are off by $500\n",
        "on average."
      ]
    },
    {
      "cell_type": "code",
      "metadata": {
        "id": "oGBwn5RnEdHR",
        "colab_type": "code",
        "colab": {}
      },
      "source": [
        "from keras.callbacks import ReduceLROnPlateau\n",
        "red_lr = ReduceLROnPlateau('loss', patience=10, verbose=1, min_lr=0.0001)"
      ],
      "execution_count": 0,
      "outputs": []
    },
    {
      "cell_type": "code",
      "metadata": {
        "id": "35Hc4rG203_u",
        "colab_type": "code",
        "colab": {
          "base_uri": "https://localhost:8080/",
          "height": 1000
        },
        "outputId": "47e8cbf6-8713-45fd-819a-36682784bdf2"
      },
      "source": [
        "num_epochs = 500\n",
        "\n",
        "model = build_model()\n",
        "history = model.fit(train_data_stand_pca, train_targets, validation_data=(val_data_stand_pca, val_targets), \n",
        "                      epochs= num_epochs, batch_size=1, callbacks=[red_lr])\n",
        "  \n",
        "mae_history = history.history['mean_absolute_error']\n",
        "mae_val_history = history.history['val_mean_absolute_error']\n",
        "loss_history = history.history['loss']\n",
        "loss_val_history = history.history['val_loss']"
      ],
      "execution_count": 178,
      "outputs": [
        {
          "output_type": "stream",
          "text": [
            "Train on 105 samples, validate on 13 samples\n",
            "Epoch 1/500\n",
            "105/105 [==============================] - 1s 7ms/step - loss: 676.1109 - mean_absolute_error: 19.8090 - val_loss: 403.7119 - val_mean_absolute_error: 14.7008\n",
            "Epoch 2/500\n",
            "105/105 [==============================] - 0s 1ms/step - loss: 373.4899 - mean_absolute_error: 14.3058 - val_loss: 267.0227 - val_mean_absolute_error: 13.1588\n",
            "Epoch 3/500\n",
            "105/105 [==============================] - 0s 1ms/step - loss: 274.6200 - mean_absolute_error: 13.0738 - val_loss: 278.9648 - val_mean_absolute_error: 13.6443\n",
            "Epoch 4/500\n",
            "105/105 [==============================] - 0s 1ms/step - loss: 263.2247 - mean_absolute_error: 13.2564 - val_loss: 280.7432 - val_mean_absolute_error: 13.5371\n",
            "Epoch 5/500\n",
            "105/105 [==============================] - 0s 1ms/step - loss: 257.4181 - mean_absolute_error: 12.6618 - val_loss: 303.8230 - val_mean_absolute_error: 14.5972\n",
            "Epoch 6/500\n",
            "105/105 [==============================] - 0s 1ms/step - loss: 254.2428 - mean_absolute_error: 12.7985 - val_loss: 295.7993 - val_mean_absolute_error: 14.1007\n",
            "Epoch 7/500\n",
            "105/105 [==============================] - 0s 1ms/step - loss: 246.4032 - mean_absolute_error: 12.6691 - val_loss: 305.3804 - val_mean_absolute_error: 14.4979\n",
            "Epoch 8/500\n",
            "105/105 [==============================] - 0s 1ms/step - loss: 244.4177 - mean_absolute_error: 12.6481 - val_loss: 297.2692 - val_mean_absolute_error: 13.9732\n",
            "Epoch 9/500\n",
            "105/105 [==============================] - 0s 1ms/step - loss: 238.2533 - mean_absolute_error: 12.4099 - val_loss: 301.4683 - val_mean_absolute_error: 14.2334\n",
            "Epoch 10/500\n",
            "105/105 [==============================] - 0s 1ms/step - loss: 240.4076 - mean_absolute_error: 12.2953 - val_loss: 309.1060 - val_mean_absolute_error: 14.5064\n",
            "Epoch 11/500\n",
            "105/105 [==============================] - 0s 1ms/step - loss: 237.8262 - mean_absolute_error: 12.3794 - val_loss: 308.9068 - val_mean_absolute_error: 14.5069\n",
            "Epoch 12/500\n",
            "105/105 [==============================] - 0s 1ms/step - loss: 232.6310 - mean_absolute_error: 12.6302 - val_loss: 295.0328 - val_mean_absolute_error: 13.8724\n",
            "Epoch 13/500\n",
            "105/105 [==============================] - 0s 1ms/step - loss: 231.8067 - mean_absolute_error: 12.1736 - val_loss: 304.9443 - val_mean_absolute_error: 14.2618\n",
            "Epoch 14/500\n",
            "105/105 [==============================] - 0s 1ms/step - loss: 229.7875 - mean_absolute_error: 12.3260 - val_loss: 298.8023 - val_mean_absolute_error: 13.8836\n",
            "Epoch 15/500\n",
            "105/105 [==============================] - 0s 1ms/step - loss: 227.1737 - mean_absolute_error: 11.9443 - val_loss: 300.1070 - val_mean_absolute_error: 13.9345\n",
            "Epoch 16/500\n",
            "105/105 [==============================] - 0s 1ms/step - loss: 229.2266 - mean_absolute_error: 12.2229 - val_loss: 300.6284 - val_mean_absolute_error: 13.9104\n",
            "Epoch 17/500\n",
            "105/105 [==============================] - 0s 1ms/step - loss: 218.8948 - mean_absolute_error: 11.7977 - val_loss: 296.7182 - val_mean_absolute_error: 13.8067\n",
            "Epoch 18/500\n",
            "105/105 [==============================] - 0s 1ms/step - loss: 218.3230 - mean_absolute_error: 11.7408 - val_loss: 302.5920 - val_mean_absolute_error: 13.9820\n",
            "Epoch 19/500\n",
            "105/105 [==============================] - 0s 1ms/step - loss: 215.9184 - mean_absolute_error: 11.6806 - val_loss: 306.1266 - val_mean_absolute_error: 14.0901\n",
            "Epoch 20/500\n",
            "105/105 [==============================] - 0s 1ms/step - loss: 216.5858 - mean_absolute_error: 11.6819 - val_loss: 306.7124 - val_mean_absolute_error: 14.0484\n",
            "Epoch 21/500\n",
            "105/105 [==============================] - 0s 1ms/step - loss: 212.7423 - mean_absolute_error: 11.4341 - val_loss: 320.8779 - val_mean_absolute_error: 14.7000\n",
            "Epoch 22/500\n",
            "105/105 [==============================] - 0s 1ms/step - loss: 209.1653 - mean_absolute_error: 11.6272 - val_loss: 316.2660 - val_mean_absolute_error: 14.5028\n",
            "Epoch 23/500\n",
            "105/105 [==============================] - 0s 2ms/step - loss: 205.6618 - mean_absolute_error: 11.2385 - val_loss: 320.2681 - val_mean_absolute_error: 14.3906\n",
            "Epoch 24/500\n",
            "105/105 [==============================] - 0s 1ms/step - loss: 200.1916 - mean_absolute_error: 10.9189 - val_loss: 319.4737 - val_mean_absolute_error: 14.3108\n",
            "Epoch 25/500\n",
            "105/105 [==============================] - 0s 1ms/step - loss: 195.6335 - mean_absolute_error: 11.0873 - val_loss: 309.1921 - val_mean_absolute_error: 14.2964\n",
            "Epoch 26/500\n",
            "105/105 [==============================] - 0s 2ms/step - loss: 196.7070 - mean_absolute_error: 11.1296 - val_loss: 319.9320 - val_mean_absolute_error: 14.7821\n",
            "Epoch 27/500\n",
            "105/105 [==============================] - 0s 1ms/step - loss: 188.6758 - mean_absolute_error: 10.6339 - val_loss: 321.0544 - val_mean_absolute_error: 14.5071\n",
            "Epoch 28/500\n",
            "105/105 [==============================] - 0s 1ms/step - loss: 187.3892 - mean_absolute_error: 10.6383 - val_loss: 323.9797 - val_mean_absolute_error: 14.4836\n",
            "Epoch 29/500\n",
            "105/105 [==============================] - 0s 1ms/step - loss: 182.7566 - mean_absolute_error: 10.3946 - val_loss: 327.2820 - val_mean_absolute_error: 14.7309\n",
            "Epoch 30/500\n",
            "105/105 [==============================] - 0s 1ms/step - loss: 178.4348 - mean_absolute_error: 10.1823 - val_loss: 330.4518 - val_mean_absolute_error: 14.8423\n",
            "Epoch 31/500\n",
            "105/105 [==============================] - 0s 2ms/step - loss: 174.8096 - mean_absolute_error: 10.1184 - val_loss: 337.0620 - val_mean_absolute_error: 14.9036\n",
            "Epoch 32/500\n",
            "105/105 [==============================] - 0s 1ms/step - loss: 168.5902 - mean_absolute_error: 9.6969 - val_loss: 339.0120 - val_mean_absolute_error: 15.1017\n",
            "Epoch 33/500\n",
            "105/105 [==============================] - 0s 1ms/step - loss: 165.3857 - mean_absolute_error: 9.6566 - val_loss: 340.1652 - val_mean_absolute_error: 15.3680\n",
            "Epoch 34/500\n",
            "105/105 [==============================] - 0s 1ms/step - loss: 158.4798 - mean_absolute_error: 9.5868 - val_loss: 342.3239 - val_mean_absolute_error: 15.4274\n",
            "Epoch 35/500\n",
            "105/105 [==============================] - 0s 1ms/step - loss: 164.0113 - mean_absolute_error: 9.8631 - val_loss: 343.4390 - val_mean_absolute_error: 15.3216\n",
            "Epoch 36/500\n",
            "105/105 [==============================] - 0s 1ms/step - loss: 154.3300 - mean_absolute_error: 9.1610 - val_loss: 328.7332 - val_mean_absolute_error: 14.8160\n",
            "Epoch 37/500\n",
            "105/105 [==============================] - 0s 1ms/step - loss: 149.9205 - mean_absolute_error: 9.1272 - val_loss: 337.1381 - val_mean_absolute_error: 15.6116\n",
            "Epoch 38/500\n",
            "105/105 [==============================] - 0s 1ms/step - loss: 148.1170 - mean_absolute_error: 9.4041 - val_loss: 354.7207 - val_mean_absolute_error: 15.6942\n",
            "Epoch 39/500\n",
            "105/105 [==============================] - 0s 1ms/step - loss: 142.3616 - mean_absolute_error: 8.9131 - val_loss: 345.7504 - val_mean_absolute_error: 15.4115\n",
            "Epoch 40/500\n",
            "105/105 [==============================] - 0s 1ms/step - loss: 138.5548 - mean_absolute_error: 8.6226 - val_loss: 350.1703 - val_mean_absolute_error: 15.6253\n",
            "Epoch 41/500\n",
            "105/105 [==============================] - 0s 1ms/step - loss: 132.0122 - mean_absolute_error: 8.3496 - val_loss: 353.4236 - val_mean_absolute_error: 15.9184\n",
            "Epoch 42/500\n",
            "105/105 [==============================] - 0s 1ms/step - loss: 126.4507 - mean_absolute_error: 8.1309 - val_loss: 361.2474 - val_mean_absolute_error: 16.6396\n",
            "Epoch 43/500\n",
            "105/105 [==============================] - 0s 1ms/step - loss: 128.4330 - mean_absolute_error: 8.4338 - val_loss: 348.6091 - val_mean_absolute_error: 15.8608\n",
            "Epoch 44/500\n",
            "105/105 [==============================] - 0s 1ms/step - loss: 124.3892 - mean_absolute_error: 8.1535 - val_loss: 355.1562 - val_mean_absolute_error: 15.9627\n",
            "Epoch 45/500\n",
            "105/105 [==============================] - 0s 1ms/step - loss: 121.4307 - mean_absolute_error: 8.1821 - val_loss: 348.5127 - val_mean_absolute_error: 15.8519\n",
            "Epoch 46/500\n",
            "105/105 [==============================] - 0s 1ms/step - loss: 115.3801 - mean_absolute_error: 7.8465 - val_loss: 338.8955 - val_mean_absolute_error: 15.2087\n",
            "Epoch 47/500\n",
            "105/105 [==============================] - 0s 1ms/step - loss: 115.9409 - mean_absolute_error: 7.9078 - val_loss: 388.1560 - val_mean_absolute_error: 16.7166\n",
            "Epoch 48/500\n",
            "105/105 [==============================] - 0s 1ms/step - loss: 108.6753 - mean_absolute_error: 7.7140 - val_loss: 371.8097 - val_mean_absolute_error: 16.1791\n",
            "Epoch 49/500\n",
            "105/105 [==============================] - 0s 1ms/step - loss: 104.6418 - mean_absolute_error: 7.3066 - val_loss: 362.2860 - val_mean_absolute_error: 16.5554\n",
            "Epoch 50/500\n",
            "105/105 [==============================] - 0s 1ms/step - loss: 104.1715 - mean_absolute_error: 7.4209 - val_loss: 375.1995 - val_mean_absolute_error: 16.2410\n",
            "Epoch 51/500\n",
            "105/105 [==============================] - 0s 1ms/step - loss: 99.2405 - mean_absolute_error: 7.3003 - val_loss: 341.5777 - val_mean_absolute_error: 14.8312\n",
            "Epoch 52/500\n",
            "105/105 [==============================] - 0s 1ms/step - loss: 92.8968 - mean_absolute_error: 6.8447 - val_loss: 374.6541 - val_mean_absolute_error: 16.3004\n",
            "Epoch 53/500\n",
            "105/105 [==============================] - 0s 1ms/step - loss: 92.9413 - mean_absolute_error: 6.7321 - val_loss: 367.0263 - val_mean_absolute_error: 15.8694\n",
            "Epoch 54/500\n",
            "105/105 [==============================] - 0s 1ms/step - loss: 91.6878 - mean_absolute_error: 7.0130 - val_loss: 308.9746 - val_mean_absolute_error: 13.8326\n",
            "Epoch 55/500\n",
            "105/105 [==============================] - 0s 1ms/step - loss: 94.7250 - mean_absolute_error: 7.0425 - val_loss: 400.1818 - val_mean_absolute_error: 16.9186\n",
            "Epoch 56/500\n",
            "105/105 [==============================] - 0s 1ms/step - loss: 84.6425 - mean_absolute_error: 6.7433 - val_loss: 360.6123 - val_mean_absolute_error: 15.8566\n",
            "Epoch 57/500\n",
            "105/105 [==============================] - 0s 1ms/step - loss: 85.1309 - mean_absolute_error: 6.5156 - val_loss: 347.2857 - val_mean_absolute_error: 15.6648\n",
            "Epoch 58/500\n",
            "105/105 [==============================] - 0s 1ms/step - loss: 79.7213 - mean_absolute_error: 6.3466 - val_loss: 387.5181 - val_mean_absolute_error: 16.4836\n",
            "Epoch 59/500\n",
            "105/105 [==============================] - 0s 1ms/step - loss: 74.6527 - mean_absolute_error: 6.2912 - val_loss: 402.3741 - val_mean_absolute_error: 17.0741\n",
            "Epoch 60/500\n",
            "105/105 [==============================] - 0s 1ms/step - loss: 74.6779 - mean_absolute_error: 6.3443 - val_loss: 389.7507 - val_mean_absolute_error: 16.9174\n",
            "Epoch 61/500\n",
            "105/105 [==============================] - 0s 2ms/step - loss: 72.1346 - mean_absolute_error: 6.3227 - val_loss: 325.2923 - val_mean_absolute_error: 14.5162\n",
            "Epoch 62/500\n",
            "105/105 [==============================] - 0s 1ms/step - loss: 71.2277 - mean_absolute_error: 5.8701 - val_loss: 354.6792 - val_mean_absolute_error: 14.5851\n",
            "Epoch 63/500\n",
            "105/105 [==============================] - 0s 1ms/step - loss: 68.3713 - mean_absolute_error: 5.6660 - val_loss: 368.7044 - val_mean_absolute_error: 15.4561\n",
            "Epoch 64/500\n",
            "105/105 [==============================] - 0s 1ms/step - loss: 61.4738 - mean_absolute_error: 5.4372 - val_loss: 401.8403 - val_mean_absolute_error: 16.2737\n",
            "Epoch 65/500\n",
            "105/105 [==============================] - 0s 1ms/step - loss: 61.1945 - mean_absolute_error: 5.5612 - val_loss: 406.8993 - val_mean_absolute_error: 16.4523\n",
            "Epoch 66/500\n",
            "105/105 [==============================] - 0s 1ms/step - loss: 65.7251 - mean_absolute_error: 5.8129 - val_loss: 386.9570 - val_mean_absolute_error: 15.8435\n",
            "Epoch 67/500\n",
            "105/105 [==============================] - 0s 1ms/step - loss: 61.8304 - mean_absolute_error: 5.8389 - val_loss: 436.3769 - val_mean_absolute_error: 17.6429\n",
            "Epoch 68/500\n",
            "105/105 [==============================] - 0s 2ms/step - loss: 59.3861 - mean_absolute_error: 5.5458 - val_loss: 385.9151 - val_mean_absolute_error: 16.2510\n",
            "Epoch 69/500\n",
            "105/105 [==============================] - 0s 1ms/step - loss: 55.4086 - mean_absolute_error: 5.2177 - val_loss: 383.7402 - val_mean_absolute_error: 15.9861\n",
            "Epoch 70/500\n",
            "105/105 [==============================] - 0s 1ms/step - loss: 47.6975 - mean_absolute_error: 4.6584 - val_loss: 401.7887 - val_mean_absolute_error: 16.1092\n",
            "Epoch 71/500\n",
            "105/105 [==============================] - 0s 1ms/step - loss: 50.9534 - mean_absolute_error: 5.2599 - val_loss: 370.2190 - val_mean_absolute_error: 15.8122\n",
            "Epoch 72/500\n",
            "105/105 [==============================] - 0s 1ms/step - loss: 49.1636 - mean_absolute_error: 4.9722 - val_loss: 406.3871 - val_mean_absolute_error: 16.7391\n",
            "Epoch 73/500\n",
            "105/105 [==============================] - 0s 1ms/step - loss: 44.9033 - mean_absolute_error: 4.7419 - val_loss: 383.4410 - val_mean_absolute_error: 15.8135\n",
            "Epoch 74/500\n",
            "105/105 [==============================] - 0s 1ms/step - loss: 48.0300 - mean_absolute_error: 5.1231 - val_loss: 407.9592 - val_mean_absolute_error: 16.9335\n",
            "Epoch 75/500\n",
            "105/105 [==============================] - 0s 1ms/step - loss: 43.8555 - mean_absolute_error: 4.8159 - val_loss: 381.2589 - val_mean_absolute_error: 15.4028\n",
            "Epoch 76/500\n",
            "105/105 [==============================] - 0s 1ms/step - loss: 40.4023 - mean_absolute_error: 4.5951 - val_loss: 386.4797 - val_mean_absolute_error: 16.1092\n",
            "Epoch 77/500\n",
            "105/105 [==============================] - 0s 1ms/step - loss: 40.1937 - mean_absolute_error: 4.4503 - val_loss: 394.2954 - val_mean_absolute_error: 16.6602\n",
            "Epoch 78/500\n",
            "105/105 [==============================] - 0s 1ms/step - loss: 41.4457 - mean_absolute_error: 4.4997 - val_loss: 374.6656 - val_mean_absolute_error: 15.7981\n",
            "Epoch 79/500\n",
            "105/105 [==============================] - 0s 2ms/step - loss: 39.1295 - mean_absolute_error: 4.7149 - val_loss: 396.4045 - val_mean_absolute_error: 16.4050\n",
            "Epoch 80/500\n",
            "105/105 [==============================] - 0s 1ms/step - loss: 37.4928 - mean_absolute_error: 4.2720 - val_loss: 412.9389 - val_mean_absolute_error: 16.3368\n",
            "Epoch 81/500\n",
            "105/105 [==============================] - 0s 2ms/step - loss: 32.5962 - mean_absolute_error: 4.0751 - val_loss: 410.5845 - val_mean_absolute_error: 16.9605\n",
            "Epoch 82/500\n",
            "105/105 [==============================] - 0s 1ms/step - loss: 31.5401 - mean_absolute_error: 4.0210 - val_loss: 445.9320 - val_mean_absolute_error: 16.8456\n",
            "Epoch 83/500\n",
            "105/105 [==============================] - 0s 1ms/step - loss: 31.1514 - mean_absolute_error: 4.0929 - val_loss: 383.3830 - val_mean_absolute_error: 16.0802\n",
            "Epoch 84/500\n",
            "105/105 [==============================] - 0s 2ms/step - loss: 27.5140 - mean_absolute_error: 3.6654 - val_loss: 399.2256 - val_mean_absolute_error: 16.4925\n",
            "Epoch 85/500\n",
            "105/105 [==============================] - 0s 2ms/step - loss: 28.1234 - mean_absolute_error: 3.7503 - val_loss: 360.3403 - val_mean_absolute_error: 15.8384\n",
            "Epoch 86/500\n",
            "105/105 [==============================] - 0s 1ms/step - loss: 27.6996 - mean_absolute_error: 3.7067 - val_loss: 418.7384 - val_mean_absolute_error: 16.7980\n",
            "Epoch 87/500\n",
            "105/105 [==============================] - 0s 1ms/step - loss: 28.5540 - mean_absolute_error: 3.6446 - val_loss: 346.1563 - val_mean_absolute_error: 15.2005\n",
            "Epoch 88/500\n",
            "105/105 [==============================] - 0s 1ms/step - loss: 25.1194 - mean_absolute_error: 3.6000 - val_loss: 383.3143 - val_mean_absolute_error: 16.9769\n",
            "Epoch 89/500\n",
            "105/105 [==============================] - 0s 1ms/step - loss: 23.6987 - mean_absolute_error: 3.4705 - val_loss: 422.2250 - val_mean_absolute_error: 17.1110\n",
            "Epoch 90/500\n",
            "105/105 [==============================] - 0s 1ms/step - loss: 21.1566 - mean_absolute_error: 3.2853 - val_loss: 380.5659 - val_mean_absolute_error: 16.2114\n",
            "Epoch 91/500\n",
            "105/105 [==============================] - 0s 1ms/step - loss: 20.8856 - mean_absolute_error: 3.2836 - val_loss: 418.4584 - val_mean_absolute_error: 17.7357\n",
            "Epoch 92/500\n",
            "105/105 [==============================] - 0s 1ms/step - loss: 24.5923 - mean_absolute_error: 3.6058 - val_loss: 404.3324 - val_mean_absolute_error: 17.4536\n",
            "Epoch 93/500\n",
            "105/105 [==============================] - 0s 2ms/step - loss: 18.6064 - mean_absolute_error: 3.1281 - val_loss: 374.1828 - val_mean_absolute_error: 16.6581\n",
            "Epoch 94/500\n",
            "105/105 [==============================] - 0s 1ms/step - loss: 16.7735 - mean_absolute_error: 2.9493 - val_loss: 448.4046 - val_mean_absolute_error: 18.5340\n",
            "Epoch 95/500\n",
            "105/105 [==============================] - 0s 1ms/step - loss: 16.3160 - mean_absolute_error: 2.6804 - val_loss: 477.4010 - val_mean_absolute_error: 18.8966\n",
            "Epoch 96/500\n",
            "105/105 [==============================] - 0s 1ms/step - loss: 17.6924 - mean_absolute_error: 3.0037 - val_loss: 437.2052 - val_mean_absolute_error: 17.6119\n",
            "Epoch 97/500\n",
            "105/105 [==============================] - 0s 1ms/step - loss: 18.9178 - mean_absolute_error: 3.0587 - val_loss: 482.0913 - val_mean_absolute_error: 19.3019\n",
            "Epoch 98/500\n",
            "105/105 [==============================] - 0s 1ms/step - loss: 16.7649 - mean_absolute_error: 2.9338 - val_loss: 457.3952 - val_mean_absolute_error: 17.8924\n",
            "Epoch 99/500\n",
            "105/105 [==============================] - 0s 1ms/step - loss: 17.7943 - mean_absolute_error: 3.0041 - val_loss: 448.4594 - val_mean_absolute_error: 18.0504\n",
            "Epoch 100/500\n",
            "105/105 [==============================] - 0s 1ms/step - loss: 16.0217 - mean_absolute_error: 2.6907 - val_loss: 406.0225 - val_mean_absolute_error: 17.9771\n",
            "Epoch 101/500\n",
            "105/105 [==============================] - 0s 2ms/step - loss: 15.2220 - mean_absolute_error: 2.7614 - val_loss: 418.9338 - val_mean_absolute_error: 17.7310\n",
            "Epoch 102/500\n",
            "105/105 [==============================] - 0s 2ms/step - loss: 12.8707 - mean_absolute_error: 2.3936 - val_loss: 437.4060 - val_mean_absolute_error: 18.0634\n",
            "Epoch 103/500\n",
            "105/105 [==============================] - 0s 1ms/step - loss: 13.8369 - mean_absolute_error: 2.5458 - val_loss: 395.9993 - val_mean_absolute_error: 17.3152\n",
            "Epoch 104/500\n",
            "105/105 [==============================] - 0s 1ms/step - loss: 13.0757 - mean_absolute_error: 2.5064 - val_loss: 479.9031 - val_mean_absolute_error: 19.0242\n",
            "Epoch 105/500\n",
            "105/105 [==============================] - 0s 1ms/step - loss: 10.7551 - mean_absolute_error: 2.2503 - val_loss: 422.8212 - val_mean_absolute_error: 17.4431\n",
            "Epoch 106/500\n",
            "105/105 [==============================] - 0s 1ms/step - loss: 9.4891 - mean_absolute_error: 2.0264 - val_loss: 449.9921 - val_mean_absolute_error: 17.5157\n",
            "Epoch 107/500\n",
            "105/105 [==============================] - 0s 1ms/step - loss: 12.0231 - mean_absolute_error: 2.5455 - val_loss: 455.3219 - val_mean_absolute_error: 18.4425\n",
            "Epoch 108/500\n",
            "105/105 [==============================] - 0s 1ms/step - loss: 15.0436 - mean_absolute_error: 2.7432 - val_loss: 447.1710 - val_mean_absolute_error: 18.1641\n",
            "Epoch 109/500\n",
            "105/105 [==============================] - 0s 2ms/step - loss: 12.7330 - mean_absolute_error: 2.6314 - val_loss: 410.6281 - val_mean_absolute_error: 17.9530\n",
            "Epoch 110/500\n",
            "105/105 [==============================] - 0s 1ms/step - loss: 11.5613 - mean_absolute_error: 2.4692 - val_loss: 441.9764 - val_mean_absolute_error: 18.1855\n",
            "Epoch 111/500\n",
            "105/105 [==============================] - 0s 1ms/step - loss: 14.4151 - mean_absolute_error: 2.7394 - val_loss: 419.7527 - val_mean_absolute_error: 17.8375\n",
            "Epoch 112/500\n",
            "105/105 [==============================] - 0s 1ms/step - loss: 15.5172 - mean_absolute_error: 2.9098 - val_loss: 467.8702 - val_mean_absolute_error: 17.8671\n",
            "Epoch 113/500\n",
            "105/105 [==============================] - 0s 1ms/step - loss: 15.5047 - mean_absolute_error: 2.7536 - val_loss: 408.8768 - val_mean_absolute_error: 17.8399\n",
            "Epoch 114/500\n",
            "105/105 [==============================] - 0s 1ms/step - loss: 9.7497 - mean_absolute_error: 2.1852 - val_loss: 469.1982 - val_mean_absolute_error: 18.4727\n",
            "Epoch 115/500\n",
            "105/105 [==============================] - 0s 1ms/step - loss: 7.4102 - mean_absolute_error: 1.8220 - val_loss: 454.9655 - val_mean_absolute_error: 18.3419\n",
            "Epoch 116/500\n",
            "105/105 [==============================] - 0s 1ms/step - loss: 5.9165 - mean_absolute_error: 1.6310 - val_loss: 529.1730 - val_mean_absolute_error: 19.3366\n",
            "Epoch 117/500\n",
            "105/105 [==============================] - 0s 1ms/step - loss: 5.3464 - mean_absolute_error: 1.4346 - val_loss: 477.0065 - val_mean_absolute_error: 18.8056\n",
            "Epoch 118/500\n",
            "105/105 [==============================] - 0s 2ms/step - loss: 7.4091 - mean_absolute_error: 1.7666 - val_loss: 442.5158 - val_mean_absolute_error: 18.1151\n",
            "Epoch 119/500\n",
            "105/105 [==============================] - 0s 1ms/step - loss: 13.5515 - mean_absolute_error: 2.5205 - val_loss: 466.5173 - val_mean_absolute_error: 17.9669\n",
            "Epoch 120/500\n",
            "105/105 [==============================] - 0s 1ms/step - loss: 16.9513 - mean_absolute_error: 2.7918 - val_loss: 528.3646 - val_mean_absolute_error: 18.7154\n",
            "Epoch 121/500\n",
            "105/105 [==============================] - 0s 1ms/step - loss: 16.0350 - mean_absolute_error: 2.7786 - val_loss: 427.9888 - val_mean_absolute_error: 18.0530\n",
            "Epoch 122/500\n",
            "105/105 [==============================] - 0s 2ms/step - loss: 8.6390 - mean_absolute_error: 1.9624 - val_loss: 451.7829 - val_mean_absolute_error: 18.1341\n",
            "Epoch 123/500\n",
            "105/105 [==============================] - 0s 1ms/step - loss: 6.2696 - mean_absolute_error: 1.6364 - val_loss: 409.6368 - val_mean_absolute_error: 17.9163\n",
            "Epoch 124/500\n",
            "105/105 [==============================] - 0s 1ms/step - loss: 6.4229 - mean_absolute_error: 1.7209 - val_loss: 482.1453 - val_mean_absolute_error: 18.9721\n",
            "Epoch 125/500\n",
            "105/105 [==============================] - 0s 1ms/step - loss: 5.1035 - mean_absolute_error: 1.5389 - val_loss: 431.1766 - val_mean_absolute_error: 18.0024\n",
            "Epoch 126/500\n",
            "105/105 [==============================] - 0s 1ms/step - loss: 4.7905 - mean_absolute_error: 1.5143 - val_loss: 468.4803 - val_mean_absolute_error: 18.3357\n",
            "Epoch 127/500\n",
            "105/105 [==============================] - 0s 2ms/step - loss: 6.8125 - mean_absolute_error: 1.7533 - val_loss: 421.3200 - val_mean_absolute_error: 17.9880\n",
            "Epoch 128/500\n",
            "105/105 [==============================] - 0s 1ms/step - loss: 8.4549 - mean_absolute_error: 2.0337 - val_loss: 435.7171 - val_mean_absolute_error: 18.1127\n",
            "Epoch 129/500\n",
            "105/105 [==============================] - 0s 1ms/step - loss: 18.4451 - mean_absolute_error: 3.1486 - val_loss: 434.8753 - val_mean_absolute_error: 17.3313\n",
            "Epoch 130/500\n",
            "105/105 [==============================] - 0s 1ms/step - loss: 11.5476 - mean_absolute_error: 2.5127 - val_loss: 432.7720 - val_mean_absolute_error: 17.8653\n",
            "Epoch 131/500\n",
            "105/105 [==============================] - 0s 1ms/step - loss: 11.4456 - mean_absolute_error: 2.4898 - val_loss: 475.4225 - val_mean_absolute_error: 18.6169\n",
            "Epoch 132/500\n",
            "105/105 [==============================] - 0s 1ms/step - loss: 13.2207 - mean_absolute_error: 2.6323 - val_loss: 556.0773 - val_mean_absolute_error: 19.9619\n",
            "Epoch 133/500\n",
            "105/105 [==============================] - 0s 1ms/step - loss: 17.2245 - mean_absolute_error: 3.1079 - val_loss: 491.0098 - val_mean_absolute_error: 19.7514\n",
            "Epoch 134/500\n",
            "105/105 [==============================] - 0s 1ms/step - loss: 12.4191 - mean_absolute_error: 2.5870 - val_loss: 542.3150 - val_mean_absolute_error: 19.3119\n",
            "Epoch 135/500\n",
            "105/105 [==============================] - 0s 1ms/step - loss: 9.2212 - mean_absolute_error: 2.0720 - val_loss: 443.6455 - val_mean_absolute_error: 18.5443\n",
            "Epoch 136/500\n",
            "105/105 [==============================] - 0s 1ms/step - loss: 6.5195 - mean_absolute_error: 1.7302 - val_loss: 482.1927 - val_mean_absolute_error: 18.4853\n",
            "\n",
            "Epoch 00136: ReduceLROnPlateau reducing learning rate to 0.00010000000474974513.\n",
            "Epoch 137/500\n",
            "105/105 [==============================] - 0s 1ms/step - loss: 7.8406 - mean_absolute_error: 1.7112 - val_loss: 468.0574 - val_mean_absolute_error: 18.4825\n",
            "Epoch 138/500\n",
            "105/105 [==============================] - 0s 1ms/step - loss: 4.4035 - mean_absolute_error: 1.2471 - val_loss: 468.9188 - val_mean_absolute_error: 18.6114\n",
            "Epoch 139/500\n",
            "105/105 [==============================] - 0s 1ms/step - loss: 3.1820 - mean_absolute_error: 1.0117 - val_loss: 467.3454 - val_mean_absolute_error: 18.6417\n",
            "Epoch 140/500\n",
            "105/105 [==============================] - 0s 1ms/step - loss: 2.6902 - mean_absolute_error: 0.8906 - val_loss: 465.0587 - val_mean_absolute_error: 18.6378\n",
            "Epoch 141/500\n",
            "105/105 [==============================] - 0s 1ms/step - loss: 2.4681 - mean_absolute_error: 0.8078 - val_loss: 466.6240 - val_mean_absolute_error: 18.6839\n",
            "Epoch 142/500\n",
            "105/105 [==============================] - 0s 1ms/step - loss: 2.3123 - mean_absolute_error: 0.7522 - val_loss: 464.6739 - val_mean_absolute_error: 18.6306\n",
            "Epoch 143/500\n",
            "105/105 [==============================] - 0s 1ms/step - loss: 2.2108 - mean_absolute_error: 0.6983 - val_loss: 466.9313 - val_mean_absolute_error: 18.6883\n",
            "Epoch 144/500\n",
            "105/105 [==============================] - 0s 2ms/step - loss: 2.1467 - mean_absolute_error: 0.6722 - val_loss: 462.3726 - val_mean_absolute_error: 18.6371\n",
            "Epoch 145/500\n",
            "105/105 [==============================] - 0s 1ms/step - loss: 2.0335 - mean_absolute_error: 0.6260 - val_loss: 466.9308 - val_mean_absolute_error: 18.6683\n",
            "Epoch 146/500\n",
            "105/105 [==============================] - 0s 1ms/step - loss: 2.0207 - mean_absolute_error: 0.6009 - val_loss: 469.8547 - val_mean_absolute_error: 18.7028\n",
            "Epoch 147/500\n",
            "105/105 [==============================] - 0s 1ms/step - loss: 1.9718 - mean_absolute_error: 0.5874 - val_loss: 468.5640 - val_mean_absolute_error: 18.6700\n",
            "Epoch 148/500\n",
            "105/105 [==============================] - 0s 1ms/step - loss: 1.9434 - mean_absolute_error: 0.5485 - val_loss: 464.1962 - val_mean_absolute_error: 18.6060\n",
            "Epoch 149/500\n",
            "105/105 [==============================] - 0s 1ms/step - loss: 1.8892 - mean_absolute_error: 0.5357 - val_loss: 461.9679 - val_mean_absolute_error: 18.5773\n",
            "Epoch 150/500\n",
            "105/105 [==============================] - 0s 1ms/step - loss: 1.8701 - mean_absolute_error: 0.5202 - val_loss: 465.4770 - val_mean_absolute_error: 18.6171\n",
            "Epoch 151/500\n",
            "105/105 [==============================] - 0s 1ms/step - loss: 1.8576 - mean_absolute_error: 0.4963 - val_loss: 468.6241 - val_mean_absolute_error: 18.6601\n",
            "Epoch 152/500\n",
            "105/105 [==============================] - 0s 1ms/step - loss: 1.8391 - mean_absolute_error: 0.4893 - val_loss: 461.0900 - val_mean_absolute_error: 18.5280\n",
            "Epoch 153/500\n",
            "105/105 [==============================] - 0s 1ms/step - loss: 1.8170 - mean_absolute_error: 0.4786 - val_loss: 463.4338 - val_mean_absolute_error: 18.5679\n",
            "Epoch 154/500\n",
            "105/105 [==============================] - 0s 1ms/step - loss: 1.7802 - mean_absolute_error: 0.4436 - val_loss: 465.8898 - val_mean_absolute_error: 18.5958\n",
            "Epoch 155/500\n",
            "105/105 [==============================] - 0s 1ms/step - loss: 1.7880 - mean_absolute_error: 0.4626 - val_loss: 462.8136 - val_mean_absolute_error: 18.5475\n",
            "Epoch 156/500\n",
            "105/105 [==============================] - 0s 1ms/step - loss: 1.7809 - mean_absolute_error: 0.4405 - val_loss: 463.1993 - val_mean_absolute_error: 18.5367\n",
            "Epoch 157/500\n",
            "105/105 [==============================] - 0s 1ms/step - loss: 1.7654 - mean_absolute_error: 0.4335 - val_loss: 460.0827 - val_mean_absolute_error: 18.4828\n",
            "Epoch 158/500\n",
            "105/105 [==============================] - 0s 1ms/step - loss: 1.7469 - mean_absolute_error: 0.4193 - val_loss: 460.4173 - val_mean_absolute_error: 18.4965\n",
            "Epoch 159/500\n",
            "105/105 [==============================] - 0s 1ms/step - loss: 1.7038 - mean_absolute_error: 0.3976 - val_loss: 459.3215 - val_mean_absolute_error: 18.4599\n",
            "Epoch 160/500\n",
            "105/105 [==============================] - 0s 1ms/step - loss: 1.7453 - mean_absolute_error: 0.4418 - val_loss: 463.2759 - val_mean_absolute_error: 18.5159\n",
            "Epoch 161/500\n",
            "105/105 [==============================] - 0s 2ms/step - loss: 1.7100 - mean_absolute_error: 0.3773 - val_loss: 462.6771 - val_mean_absolute_error: 18.5297\n",
            "Epoch 162/500\n",
            "105/105 [==============================] - 0s 1ms/step - loss: 1.6686 - mean_absolute_error: 0.3727 - val_loss: 460.1782 - val_mean_absolute_error: 18.4864\n",
            "Epoch 163/500\n",
            "105/105 [==============================] - 0s 1ms/step - loss: 1.7360 - mean_absolute_error: 0.3989 - val_loss: 459.4093 - val_mean_absolute_error: 18.4627\n",
            "Epoch 164/500\n",
            "105/105 [==============================] - 0s 1ms/step - loss: 1.6585 - mean_absolute_error: 0.3882 - val_loss: 462.1377 - val_mean_absolute_error: 18.4834\n",
            "Epoch 165/500\n",
            "105/105 [==============================] - 0s 1ms/step - loss: 1.6751 - mean_absolute_error: 0.3701 - val_loss: 454.0160 - val_mean_absolute_error: 18.3546\n",
            "Epoch 166/500\n",
            "105/105 [==============================] - 0s 1ms/step - loss: 1.6484 - mean_absolute_error: 0.3591 - val_loss: 458.9806 - val_mean_absolute_error: 18.4407\n",
            "Epoch 167/500\n",
            "105/105 [==============================] - 0s 1ms/step - loss: 1.6011 - mean_absolute_error: 0.3360 - val_loss: 461.9843 - val_mean_absolute_error: 18.4837\n",
            "Epoch 168/500\n",
            "105/105 [==============================] - 0s 2ms/step - loss: 1.6261 - mean_absolute_error: 0.3485 - val_loss: 458.8973 - val_mean_absolute_error: 18.4116\n",
            "Epoch 169/500\n",
            "105/105 [==============================] - 0s 1ms/step - loss: 1.6235 - mean_absolute_error: 0.3556 - val_loss: 456.1475 - val_mean_absolute_error: 18.3659\n",
            "Epoch 170/500\n",
            "105/105 [==============================] - 0s 1ms/step - loss: 1.5835 - mean_absolute_error: 0.3545 - val_loss: 458.4811 - val_mean_absolute_error: 18.4694\n",
            "Epoch 171/500\n",
            "105/105 [==============================] - 0s 1ms/step - loss: 1.6126 - mean_absolute_error: 0.3416 - val_loss: 463.3726 - val_mean_absolute_error: 18.4680\n",
            "Epoch 172/500\n",
            "105/105 [==============================] - 0s 1ms/step - loss: 1.5870 - mean_absolute_error: 0.3595 - val_loss: 463.0897 - val_mean_absolute_error: 18.5257\n",
            "Epoch 173/500\n",
            "105/105 [==============================] - 0s 1ms/step - loss: 1.5619 - mean_absolute_error: 0.3357 - val_loss: 465.1741 - val_mean_absolute_error: 18.5127\n",
            "Epoch 174/500\n",
            "105/105 [==============================] - 0s 1ms/step - loss: 1.5365 - mean_absolute_error: 0.3209 - val_loss: 451.7170 - val_mean_absolute_error: 18.2875\n",
            "Epoch 175/500\n",
            "105/105 [==============================] - 0s 2ms/step - loss: 1.5359 - mean_absolute_error: 0.3162 - val_loss: 455.8860 - val_mean_absolute_error: 18.3634\n",
            "Epoch 176/500\n",
            "105/105 [==============================] - 0s 1ms/step - loss: 1.5431 - mean_absolute_error: 0.3078 - val_loss: 452.9889 - val_mean_absolute_error: 18.3025\n",
            "Epoch 177/500\n",
            "105/105 [==============================] - 0s 2ms/step - loss: 1.5314 - mean_absolute_error: 0.3536 - val_loss: 455.9352 - val_mean_absolute_error: 18.3985\n",
            "Epoch 178/500\n",
            "105/105 [==============================] - 0s 1ms/step - loss: 1.5018 - mean_absolute_error: 0.3012 - val_loss: 453.6734 - val_mean_absolute_error: 18.3148\n",
            "Epoch 179/500\n",
            "105/105 [==============================] - 0s 1ms/step - loss: 1.4864 - mean_absolute_error: 0.2969 - val_loss: 458.3017 - val_mean_absolute_error: 18.4153\n",
            "Epoch 180/500\n",
            "105/105 [==============================] - 0s 1ms/step - loss: 1.5162 - mean_absolute_error: 0.3310 - val_loss: 451.5608 - val_mean_absolute_error: 18.2298\n",
            "Epoch 181/500\n",
            "105/105 [==============================] - 0s 1ms/step - loss: 1.4786 - mean_absolute_error: 0.3108 - val_loss: 453.9390 - val_mean_absolute_error: 18.3411\n",
            "Epoch 182/500\n",
            "105/105 [==============================] - 0s 1ms/step - loss: 1.4645 - mean_absolute_error: 0.2857 - val_loss: 455.8705 - val_mean_absolute_error: 18.3446\n",
            "Epoch 183/500\n",
            "105/105 [==============================] - 0s 1ms/step - loss: 1.4457 - mean_absolute_error: 0.2809 - val_loss: 455.9725 - val_mean_absolute_error: 18.3452\n",
            "Epoch 184/500\n",
            "105/105 [==============================] - 0s 1ms/step - loss: 1.4481 - mean_absolute_error: 0.2873 - val_loss: 452.5810 - val_mean_absolute_error: 18.3491\n",
            "Epoch 185/500\n",
            "105/105 [==============================] - 0s 1ms/step - loss: 1.4316 - mean_absolute_error: 0.2890 - val_loss: 452.6424 - val_mean_absolute_error: 18.2825\n",
            "Epoch 186/500\n",
            "105/105 [==============================] - 0s 1ms/step - loss: 1.4225 - mean_absolute_error: 0.2948 - val_loss: 456.5182 - val_mean_absolute_error: 18.3916\n",
            "Epoch 187/500\n",
            "105/105 [==============================] - 0s 1ms/step - loss: 1.4513 - mean_absolute_error: 0.3253 - val_loss: 450.4550 - val_mean_absolute_error: 18.3238\n",
            "Epoch 188/500\n",
            "105/105 [==============================] - 0s 1ms/step - loss: 1.4143 - mean_absolute_error: 0.3030 - val_loss: 449.5457 - val_mean_absolute_error: 18.1697\n",
            "Epoch 189/500\n",
            "105/105 [==============================] - 0s 1ms/step - loss: 1.4317 - mean_absolute_error: 0.3448 - val_loss: 455.3511 - val_mean_absolute_error: 18.3011\n",
            "Epoch 190/500\n",
            "105/105 [==============================] - 0s 1ms/step - loss: 1.4421 - mean_absolute_error: 0.3387 - val_loss: 456.9390 - val_mean_absolute_error: 18.4433\n",
            "Epoch 191/500\n",
            "105/105 [==============================] - 0s 1ms/step - loss: 1.4533 - mean_absolute_error: 0.3638 - val_loss: 452.6697 - val_mean_absolute_error: 18.3581\n",
            "Epoch 192/500\n",
            "105/105 [==============================] - 0s 1ms/step - loss: 1.4614 - mean_absolute_error: 0.3781 - val_loss: 451.7581 - val_mean_absolute_error: 18.3580\n",
            "Epoch 193/500\n",
            "105/105 [==============================] - 0s 2ms/step - loss: 1.3905 - mean_absolute_error: 0.3112 - val_loss: 449.6013 - val_mean_absolute_error: 18.2238\n",
            "Epoch 194/500\n",
            "105/105 [==============================] - 0s 1ms/step - loss: 1.3755 - mean_absolute_error: 0.2976 - val_loss: 450.3076 - val_mean_absolute_error: 18.2830\n",
            "Epoch 195/500\n",
            "105/105 [==============================] - 0s 1ms/step - loss: 1.3255 - mean_absolute_error: 0.2613 - val_loss: 451.1033 - val_mean_absolute_error: 18.3240\n",
            "Epoch 196/500\n",
            "105/105 [==============================] - 0s 1ms/step - loss: 1.3438 - mean_absolute_error: 0.2796 - val_loss: 447.1194 - val_mean_absolute_error: 18.2954\n",
            "Epoch 197/500\n",
            "105/105 [==============================] - 0s 2ms/step - loss: 1.3361 - mean_absolute_error: 0.2822 - val_loss: 449.9462 - val_mean_absolute_error: 18.2794\n",
            "Epoch 198/500\n",
            "105/105 [==============================] - 0s 1ms/step - loss: 1.3579 - mean_absolute_error: 0.2966 - val_loss: 447.9078 - val_mean_absolute_error: 18.2468\n",
            "Epoch 199/500\n",
            "105/105 [==============================] - 0s 2ms/step - loss: 1.3306 - mean_absolute_error: 0.3137 - val_loss: 452.4207 - val_mean_absolute_error: 18.3315\n",
            "Epoch 200/500\n",
            "105/105 [==============================] - 0s 1ms/step - loss: 1.3310 - mean_absolute_error: 0.2946 - val_loss: 449.5283 - val_mean_absolute_error: 18.3147\n",
            "Epoch 201/500\n",
            "105/105 [==============================] - 0s 1ms/step - loss: 1.2863 - mean_absolute_error: 0.2586 - val_loss: 450.9369 - val_mean_absolute_error: 18.3323\n",
            "Epoch 202/500\n",
            "105/105 [==============================] - 0s 1ms/step - loss: 1.3239 - mean_absolute_error: 0.3083 - val_loss: 448.0343 - val_mean_absolute_error: 18.2344\n",
            "Epoch 203/500\n",
            "105/105 [==============================] - 0s 1ms/step - loss: 1.3170 - mean_absolute_error: 0.2969 - val_loss: 454.0420 - val_mean_absolute_error: 18.3938\n",
            "Epoch 204/500\n",
            "105/105 [==============================] - 0s 1ms/step - loss: 1.2727 - mean_absolute_error: 0.2740 - val_loss: 450.0678 - val_mean_absolute_error: 18.2695\n",
            "Epoch 205/500\n",
            "105/105 [==============================] - 0s 1ms/step - loss: 1.2901 - mean_absolute_error: 0.2587 - val_loss: 442.9430 - val_mean_absolute_error: 18.2261\n",
            "Epoch 206/500\n",
            "105/105 [==============================] - 0s 1ms/step - loss: 1.2772 - mean_absolute_error: 0.2844 - val_loss: 446.7813 - val_mean_absolute_error: 18.2407\n",
            "Epoch 207/500\n",
            "105/105 [==============================] - 0s 1ms/step - loss: 1.3116 - mean_absolute_error: 0.3396 - val_loss: 450.4709 - val_mean_absolute_error: 18.3332\n",
            "Epoch 208/500\n",
            "105/105 [==============================] - 0s 1ms/step - loss: 1.2773 - mean_absolute_error: 0.3110 - val_loss: 452.5634 - val_mean_absolute_error: 18.3240\n",
            "Epoch 209/500\n",
            "105/105 [==============================] - 0s 1ms/step - loss: 1.2673 - mean_absolute_error: 0.2868 - val_loss: 449.9272 - val_mean_absolute_error: 18.2862\n",
            "Epoch 210/500\n",
            "105/105 [==============================] - 0s 1ms/step - loss: 1.2822 - mean_absolute_error: 0.3269 - val_loss: 450.0772 - val_mean_absolute_error: 18.2834\n",
            "Epoch 211/500\n",
            "105/105 [==============================] - 0s 1ms/step - loss: 1.2808 - mean_absolute_error: 0.3033 - val_loss: 443.6194 - val_mean_absolute_error: 18.1946\n",
            "Epoch 212/500\n",
            "105/105 [==============================] - 0s 1ms/step - loss: 1.2573 - mean_absolute_error: 0.2998 - val_loss: 448.6387 - val_mean_absolute_error: 18.3422\n",
            "Epoch 213/500\n",
            "105/105 [==============================] - 0s 1ms/step - loss: 1.2640 - mean_absolute_error: 0.3042 - val_loss: 454.8162 - val_mean_absolute_error: 18.3917\n",
            "Epoch 214/500\n",
            "105/105 [==============================] - 0s 1ms/step - loss: 1.2517 - mean_absolute_error: 0.3041 - val_loss: 453.8211 - val_mean_absolute_error: 18.3639\n",
            "Epoch 215/500\n",
            "105/105 [==============================] - 0s 1ms/step - loss: 1.2335 - mean_absolute_error: 0.2697 - val_loss: 454.3890 - val_mean_absolute_error: 18.4083\n",
            "Epoch 216/500\n",
            "105/105 [==============================] - 0s 2ms/step - loss: 1.2149 - mean_absolute_error: 0.2564 - val_loss: 444.1254 - val_mean_absolute_error: 18.1736\n",
            "Epoch 217/500\n",
            "105/105 [==============================] - 0s 1ms/step - loss: 1.2494 - mean_absolute_error: 0.3117 - val_loss: 454.5395 - val_mean_absolute_error: 18.3601\n",
            "Epoch 218/500\n",
            "105/105 [==============================] - 0s 1ms/step - loss: 1.1887 - mean_absolute_error: 0.2419 - val_loss: 452.6086 - val_mean_absolute_error: 18.3968\n",
            "Epoch 219/500\n",
            "105/105 [==============================] - 0s 1ms/step - loss: 1.2317 - mean_absolute_error: 0.3067 - val_loss: 448.6382 - val_mean_absolute_error: 18.3147\n",
            "Epoch 220/500\n",
            "105/105 [==============================] - 0s 1ms/step - loss: 1.2706 - mean_absolute_error: 0.3216 - val_loss: 449.5345 - val_mean_absolute_error: 18.3133\n",
            "Epoch 221/500\n",
            "105/105 [==============================] - 0s 1ms/step - loss: 1.1906 - mean_absolute_error: 0.2583 - val_loss: 445.4388 - val_mean_absolute_error: 18.2638\n",
            "Epoch 222/500\n",
            "105/105 [==============================] - 0s 1ms/step - loss: 1.1778 - mean_absolute_error: 0.2475 - val_loss: 444.8044 - val_mean_absolute_error: 18.2403\n",
            "Epoch 223/500\n",
            "105/105 [==============================] - 0s 1ms/step - loss: 1.1514 - mean_absolute_error: 0.2276 - val_loss: 452.8467 - val_mean_absolute_error: 18.4158\n",
            "Epoch 224/500\n",
            "105/105 [==============================] - 0s 1ms/step - loss: 1.1447 - mean_absolute_error: 0.2070 - val_loss: 453.1493 - val_mean_absolute_error: 18.3431\n",
            "Epoch 225/500\n",
            "105/105 [==============================] - 0s 2ms/step - loss: 1.1771 - mean_absolute_error: 0.2509 - val_loss: 455.5066 - val_mean_absolute_error: 18.3703\n",
            "Epoch 226/500\n",
            "105/105 [==============================] - 0s 1ms/step - loss: 1.1701 - mean_absolute_error: 0.2527 - val_loss: 451.0603 - val_mean_absolute_error: 18.3568\n",
            "Epoch 227/500\n",
            "105/105 [==============================] - 0s 1ms/step - loss: 1.1502 - mean_absolute_error: 0.2360 - val_loss: 456.2005 - val_mean_absolute_error: 18.3888\n",
            "Epoch 228/500\n",
            "105/105 [==============================] - 0s 1ms/step - loss: 1.1443 - mean_absolute_error: 0.2293 - val_loss: 449.6702 - val_mean_absolute_error: 18.3489\n",
            "Epoch 229/500\n",
            "105/105 [==============================] - 0s 1ms/step - loss: 1.1547 - mean_absolute_error: 0.2371 - val_loss: 457.1563 - val_mean_absolute_error: 18.4646\n",
            "Epoch 230/500\n",
            "105/105 [==============================] - 0s 1ms/step - loss: 1.1886 - mean_absolute_error: 0.3022 - val_loss: 449.7850 - val_mean_absolute_error: 18.3013\n",
            "Epoch 231/500\n",
            "105/105 [==============================] - 0s 1ms/step - loss: 1.2225 - mean_absolute_error: 0.3298 - val_loss: 458.2392 - val_mean_absolute_error: 18.5439\n",
            "Epoch 232/500\n",
            "105/105 [==============================] - 0s 1ms/step - loss: 1.2529 - mean_absolute_error: 0.3480 - val_loss: 449.6961 - val_mean_absolute_error: 18.4105\n",
            "Epoch 233/500\n",
            "105/105 [==============================] - 0s 2ms/step - loss: 1.2994 - mean_absolute_error: 0.3924 - val_loss: 456.6022 - val_mean_absolute_error: 18.5816\n",
            "Epoch 234/500\n",
            "105/105 [==============================] - 0s 1ms/step - loss: 1.2220 - mean_absolute_error: 0.3229 - val_loss: 442.0371 - val_mean_absolute_error: 18.2496\n",
            "Epoch 235/500\n",
            "105/105 [==============================] - 0s 1ms/step - loss: 1.1541 - mean_absolute_error: 0.2680 - val_loss: 452.8145 - val_mean_absolute_error: 18.3827\n",
            "Epoch 236/500\n",
            "105/105 [==============================] - 0s 1ms/step - loss: 1.0967 - mean_absolute_error: 0.2116 - val_loss: 454.8686 - val_mean_absolute_error: 18.4008\n",
            "Epoch 237/500\n",
            "105/105 [==============================] - 0s 2ms/step - loss: 1.0801 - mean_absolute_error: 0.1879 - val_loss: 455.1015 - val_mean_absolute_error: 18.4099\n",
            "Epoch 238/500\n",
            "105/105 [==============================] - 0s 2ms/step - loss: 1.0869 - mean_absolute_error: 0.1939 - val_loss: 463.5068 - val_mean_absolute_error: 18.5124\n",
            "Epoch 239/500\n",
            "105/105 [==============================] - 0s 1ms/step - loss: 1.0852 - mean_absolute_error: 0.2125 - val_loss: 453.6827 - val_mean_absolute_error: 18.4308\n",
            "Epoch 240/500\n",
            "105/105 [==============================] - 0s 1ms/step - loss: 1.1011 - mean_absolute_error: 0.2371 - val_loss: 460.0518 - val_mean_absolute_error: 18.5164\n",
            "Epoch 241/500\n",
            "105/105 [==============================] - 0s 1ms/step - loss: 1.0932 - mean_absolute_error: 0.2334 - val_loss: 452.4308 - val_mean_absolute_error: 18.3471\n",
            "Epoch 242/500\n",
            "105/105 [==============================] - 0s 1ms/step - loss: 1.0932 - mean_absolute_error: 0.2239 - val_loss: 461.2190 - val_mean_absolute_error: 18.5264\n",
            "Epoch 243/500\n",
            "105/105 [==============================] - 0s 1ms/step - loss: 1.0794 - mean_absolute_error: 0.2079 - val_loss: 457.1639 - val_mean_absolute_error: 18.4413\n",
            "Epoch 244/500\n",
            "105/105 [==============================] - 0s 1ms/step - loss: 1.0754 - mean_absolute_error: 0.2245 - val_loss: 459.3492 - val_mean_absolute_error: 18.4643\n",
            "Epoch 245/500\n",
            "105/105 [==============================] - 0s 1ms/step - loss: 1.0684 - mean_absolute_error: 0.2137 - val_loss: 456.9478 - val_mean_absolute_error: 18.4180\n",
            "Epoch 246/500\n",
            "105/105 [==============================] - 0s 1ms/step - loss: 1.0806 - mean_absolute_error: 0.2333 - val_loss: 469.6700 - val_mean_absolute_error: 18.6065\n",
            "Epoch 247/500\n",
            "105/105 [==============================] - 0s 1ms/step - loss: 1.1106 - mean_absolute_error: 0.2879 - val_loss: 461.7476 - val_mean_absolute_error: 18.5637\n",
            "Epoch 248/500\n",
            "105/105 [==============================] - 0s 1ms/step - loss: 1.0696 - mean_absolute_error: 0.2284 - val_loss: 469.1436 - val_mean_absolute_error: 18.5600\n",
            "Epoch 249/500\n",
            "105/105 [==============================] - 0s 1ms/step - loss: 1.1363 - mean_absolute_error: 0.3005 - val_loss: 468.8938 - val_mean_absolute_error: 18.6563\n",
            "Epoch 250/500\n",
            "105/105 [==============================] - 0s 1ms/step - loss: 1.1085 - mean_absolute_error: 0.2619 - val_loss: 461.9250 - val_mean_absolute_error: 18.5573\n",
            "Epoch 251/500\n",
            "105/105 [==============================] - 0s 1ms/step - loss: 1.0914 - mean_absolute_error: 0.2523 - val_loss: 462.0571 - val_mean_absolute_error: 18.5449\n",
            "Epoch 252/500\n",
            "105/105 [==============================] - 0s 1ms/step - loss: 1.0922 - mean_absolute_error: 0.2620 - val_loss: 477.7728 - val_mean_absolute_error: 18.6964\n",
            "Epoch 253/500\n",
            "105/105 [==============================] - 0s 1ms/step - loss: 1.0757 - mean_absolute_error: 0.2399 - val_loss: 466.7590 - val_mean_absolute_error: 18.5460\n",
            "Epoch 254/500\n",
            "105/105 [==============================] - 0s 1ms/step - loss: 1.0807 - mean_absolute_error: 0.2504 - val_loss: 472.7209 - val_mean_absolute_error: 18.6111\n",
            "Epoch 255/500\n",
            "105/105 [==============================] - 0s 1ms/step - loss: 1.0775 - mean_absolute_error: 0.2366 - val_loss: 463.8091 - val_mean_absolute_error: 18.5870\n",
            "\n",
            "Epoch 00255: ReduceLROnPlateau reducing learning rate to 0.0001.\n",
            "Epoch 256/500\n",
            "105/105 [==============================] - 0s 1ms/step - loss: 1.0457 - mean_absolute_error: 0.2128 - val_loss: 473.9735 - val_mean_absolute_error: 18.6898\n",
            "Epoch 257/500\n",
            "105/105 [==============================] - 0s 2ms/step - loss: 1.0272 - mean_absolute_error: 0.1763 - val_loss: 475.4109 - val_mean_absolute_error: 18.7073\n",
            "Epoch 258/500\n",
            "105/105 [==============================] - 0s 1ms/step - loss: 1.0285 - mean_absolute_error: 0.1810 - val_loss: 459.4370 - val_mean_absolute_error: 18.4952\n",
            "Epoch 259/500\n",
            "105/105 [==============================] - 0s 1ms/step - loss: 1.0193 - mean_absolute_error: 0.1780 - val_loss: 475.3712 - val_mean_absolute_error: 18.7307\n",
            "Epoch 260/500\n",
            "105/105 [==============================] - 0s 1ms/step - loss: 1.0104 - mean_absolute_error: 0.1650 - val_loss: 462.4328 - val_mean_absolute_error: 18.4700\n",
            "Epoch 261/500\n",
            "105/105 [==============================] - 0s 1ms/step - loss: 1.0223 - mean_absolute_error: 0.1832 - val_loss: 469.6365 - val_mean_absolute_error: 18.6304\n",
            "Epoch 262/500\n",
            "105/105 [==============================] - 0s 1ms/step - loss: 1.0345 - mean_absolute_error: 0.1994 - val_loss: 466.2235 - val_mean_absolute_error: 18.5600\n",
            "Epoch 263/500\n",
            "105/105 [==============================] - 0s 1ms/step - loss: 1.0409 - mean_absolute_error: 0.2115 - val_loss: 469.8012 - val_mean_absolute_error: 18.6753\n",
            "Epoch 264/500\n",
            "105/105 [==============================] - 0s 1ms/step - loss: 1.0699 - mean_absolute_error: 0.2338 - val_loss: 461.2561 - val_mean_absolute_error: 18.5898\n",
            "Epoch 265/500\n",
            "105/105 [==============================] - 0s 2ms/step - loss: 1.0567 - mean_absolute_error: 0.2298 - val_loss: 471.9816 - val_mean_absolute_error: 18.7180\n",
            "Epoch 266/500\n",
            "105/105 [==============================] - 0s 1ms/step - loss: 1.0675 - mean_absolute_error: 0.2475 - val_loss: 468.9800 - val_mean_absolute_error: 18.6166\n",
            "Epoch 267/500\n",
            "105/105 [==============================] - 0s 1ms/step - loss: 1.1103 - mean_absolute_error: 0.2844 - val_loss: 471.3358 - val_mean_absolute_error: 18.5886\n",
            "Epoch 268/500\n",
            "105/105 [==============================] - 0s 1ms/step - loss: 1.1823 - mean_absolute_error: 0.3424 - val_loss: 476.8510 - val_mean_absolute_error: 18.6573\n",
            "Epoch 269/500\n",
            "105/105 [==============================] - 0s 1ms/step - loss: 1.0773 - mean_absolute_error: 0.2476 - val_loss: 462.4714 - val_mean_absolute_error: 18.5995\n",
            "Epoch 270/500\n",
            "105/105 [==============================] - 0s 2ms/step - loss: 1.0143 - mean_absolute_error: 0.1787 - val_loss: 470.3314 - val_mean_absolute_error: 18.6705\n",
            "Epoch 271/500\n",
            "105/105 [==============================] - 0s 1ms/step - loss: 0.9979 - mean_absolute_error: 0.1524 - val_loss: 464.5736 - val_mean_absolute_error: 18.5850\n",
            "Epoch 272/500\n",
            "105/105 [==============================] - 0s 1ms/step - loss: 1.0007 - mean_absolute_error: 0.1624 - val_loss: 465.1515 - val_mean_absolute_error: 18.6133\n",
            "Epoch 273/500\n",
            "105/105 [==============================] - 0s 1ms/step - loss: 0.9986 - mean_absolute_error: 0.1584 - val_loss: 467.2042 - val_mean_absolute_error: 18.6231\n",
            "Epoch 274/500\n",
            "105/105 [==============================] - 0s 2ms/step - loss: 0.9948 - mean_absolute_error: 0.1484 - val_loss: 471.7056 - val_mean_absolute_error: 18.7241\n",
            "Epoch 275/500\n",
            "105/105 [==============================] - 0s 1ms/step - loss: 1.0001 - mean_absolute_error: 0.1591 - val_loss: 466.0120 - val_mean_absolute_error: 18.6023\n",
            "Epoch 276/500\n",
            "105/105 [==============================] - 0s 1ms/step - loss: 1.0253 - mean_absolute_error: 0.2088 - val_loss: 466.7186 - val_mean_absolute_error: 18.6660\n",
            "Epoch 277/500\n",
            "105/105 [==============================] - 0s 1ms/step - loss: 1.0154 - mean_absolute_error: 0.1858 - val_loss: 469.1300 - val_mean_absolute_error: 18.6219\n",
            "Epoch 278/500\n",
            "105/105 [==============================] - 0s 1ms/step - loss: 1.0543 - mean_absolute_error: 0.2545 - val_loss: 469.2591 - val_mean_absolute_error: 18.7677\n",
            "Epoch 279/500\n",
            "105/105 [==============================] - 0s 1ms/step - loss: 1.1077 - mean_absolute_error: 0.2905 - val_loss: 473.2961 - val_mean_absolute_error: 18.7134\n",
            "Epoch 280/500\n",
            "105/105 [==============================] - 0s 1ms/step - loss: 1.1282 - mean_absolute_error: 0.3060 - val_loss: 471.0184 - val_mean_absolute_error: 18.6018\n",
            "Epoch 281/500\n",
            "105/105 [==============================] - 0s 1ms/step - loss: 1.1022 - mean_absolute_error: 0.2863 - val_loss: 475.0303 - val_mean_absolute_error: 18.7502\n",
            "Epoch 282/500\n",
            "105/105 [==============================] - 0s 2ms/step - loss: 1.0528 - mean_absolute_error: 0.2424 - val_loss: 464.8445 - val_mean_absolute_error: 18.6213\n",
            "Epoch 283/500\n",
            "105/105 [==============================] - 0s 1ms/step - loss: 1.0543 - mean_absolute_error: 0.2494 - val_loss: 467.8916 - val_mean_absolute_error: 18.6200\n",
            "Epoch 284/500\n",
            "105/105 [==============================] - 0s 1ms/step - loss: 1.0161 - mean_absolute_error: 0.2019 - val_loss: 470.1307 - val_mean_absolute_error: 18.7644\n",
            "Epoch 285/500\n",
            "105/105 [==============================] - 0s 1ms/step - loss: 1.0127 - mean_absolute_error: 0.1976 - val_loss: 467.9409 - val_mean_absolute_error: 18.6585\n",
            "Epoch 286/500\n",
            "105/105 [==============================] - 0s 1ms/step - loss: 1.0325 - mean_absolute_error: 0.2248 - val_loss: 465.6515 - val_mean_absolute_error: 18.5987\n",
            "Epoch 287/500\n",
            "105/105 [==============================] - 0s 2ms/step - loss: 1.0188 - mean_absolute_error: 0.1919 - val_loss: 453.8489 - val_mean_absolute_error: 18.3966\n",
            "Epoch 288/500\n",
            "105/105 [==============================] - 0s 1ms/step - loss: 1.0213 - mean_absolute_error: 0.1810 - val_loss: 467.7129 - val_mean_absolute_error: 18.7142\n",
            "Epoch 289/500\n",
            "105/105 [==============================] - 0s 1ms/step - loss: 0.9888 - mean_absolute_error: 0.1459 - val_loss: 468.3382 - val_mean_absolute_error: 18.6322\n",
            "Epoch 290/500\n",
            "105/105 [==============================] - 0s 2ms/step - loss: 0.9768 - mean_absolute_error: 0.1341 - val_loss: 469.4510 - val_mean_absolute_error: 18.6395\n",
            "Epoch 291/500\n",
            "105/105 [==============================] - 0s 1ms/step - loss: 1.0087 - mean_absolute_error: 0.1907 - val_loss: 466.5361 - val_mean_absolute_error: 18.6499\n",
            "Epoch 292/500\n",
            "105/105 [==============================] - 0s 1ms/step - loss: 1.0305 - mean_absolute_error: 0.2073 - val_loss: 465.3582 - val_mean_absolute_error: 18.6146\n",
            "Epoch 293/500\n",
            "105/105 [==============================] - 0s 2ms/step - loss: 1.0567 - mean_absolute_error: 0.2415 - val_loss: 468.4168 - val_mean_absolute_error: 18.6591\n",
            "Epoch 294/500\n",
            "105/105 [==============================] - 0s 1ms/step - loss: 1.0580 - mean_absolute_error: 0.2559 - val_loss: 479.5876 - val_mean_absolute_error: 18.8441\n",
            "Epoch 295/500\n",
            "105/105 [==============================] - 0s 1ms/step - loss: 1.1026 - mean_absolute_error: 0.3106 - val_loss: 474.2191 - val_mean_absolute_error: 18.7906\n",
            "Epoch 296/500\n",
            "105/105 [==============================] - 0s 1ms/step - loss: 1.0587 - mean_absolute_error: 0.2520 - val_loss: 471.4263 - val_mean_absolute_error: 18.5849\n",
            "Epoch 297/500\n",
            "105/105 [==============================] - 0s 1ms/step - loss: 1.0504 - mean_absolute_error: 0.2316 - val_loss: 465.6808 - val_mean_absolute_error: 18.6825\n",
            "Epoch 298/500\n",
            "105/105 [==============================] - 0s 1ms/step - loss: 1.0236 - mean_absolute_error: 0.2164 - val_loss: 461.4005 - val_mean_absolute_error: 18.5330\n",
            "Epoch 299/500\n",
            "105/105 [==============================] - 0s 1ms/step - loss: 0.9990 - mean_absolute_error: 0.1718 - val_loss: 468.1198 - val_mean_absolute_error: 18.7153\n",
            "Epoch 300/500\n",
            "105/105 [==============================] - 0s 1ms/step - loss: 1.0324 - mean_absolute_error: 0.2255 - val_loss: 460.6589 - val_mean_absolute_error: 18.4948\n",
            "Epoch 301/500\n",
            "105/105 [==============================] - 0s 1ms/step - loss: 1.0269 - mean_absolute_error: 0.2062 - val_loss: 465.0127 - val_mean_absolute_error: 18.6465\n",
            "Epoch 302/500\n",
            "105/105 [==============================] - 0s 2ms/step - loss: 1.0162 - mean_absolute_error: 0.2004 - val_loss: 465.9873 - val_mean_absolute_error: 18.5630\n",
            "Epoch 303/500\n",
            "105/105 [==============================] - 0s 2ms/step - loss: 1.0121 - mean_absolute_error: 0.1853 - val_loss: 461.6986 - val_mean_absolute_error: 18.6114\n",
            "Epoch 304/500\n",
            "105/105 [==============================] - 0s 2ms/step - loss: 1.0542 - mean_absolute_error: 0.2301 - val_loss: 462.8385 - val_mean_absolute_error: 18.5381\n",
            "Epoch 305/500\n",
            "105/105 [==============================] - 0s 1ms/step - loss: 0.9984 - mean_absolute_error: 0.1689 - val_loss: 462.8649 - val_mean_absolute_error: 18.5545\n",
            "Epoch 306/500\n",
            "105/105 [==============================] - 0s 1ms/step - loss: 0.9954 - mean_absolute_error: 0.1738 - val_loss: 466.9882 - val_mean_absolute_error: 18.6347\n",
            "Epoch 307/500\n",
            "105/105 [==============================] - 0s 1ms/step - loss: 0.9972 - mean_absolute_error: 0.1722 - val_loss: 470.8687 - val_mean_absolute_error: 18.7083\n",
            "Epoch 308/500\n",
            "105/105 [==============================] - 0s 1ms/step - loss: 1.0319 - mean_absolute_error: 0.2162 - val_loss: 465.3845 - val_mean_absolute_error: 18.6679\n",
            "Epoch 309/500\n",
            "105/105 [==============================] - 0s 1ms/step - loss: 1.0561 - mean_absolute_error: 0.2387 - val_loss: 466.7899 - val_mean_absolute_error: 18.6144\n",
            "Epoch 310/500\n",
            "105/105 [==============================] - 0s 1ms/step - loss: 1.0543 - mean_absolute_error: 0.2284 - val_loss: 468.5939 - val_mean_absolute_error: 18.5654\n",
            "Epoch 311/500\n",
            "105/105 [==============================] - 0s 2ms/step - loss: 1.0883 - mean_absolute_error: 0.2548 - val_loss: 474.5823 - val_mean_absolute_error: 18.7818\n",
            "Epoch 312/500\n",
            "105/105 [==============================] - 0s 2ms/step - loss: 1.0776 - mean_absolute_error: 0.2360 - val_loss: 459.3744 - val_mean_absolute_error: 18.4885\n",
            "Epoch 313/500\n",
            "105/105 [==============================] - 0s 1ms/step - loss: 1.0082 - mean_absolute_error: 0.1908 - val_loss: 467.4676 - val_mean_absolute_error: 18.6674\n",
            "Epoch 314/500\n",
            "105/105 [==============================] - 0s 1ms/step - loss: 1.0255 - mean_absolute_error: 0.2177 - val_loss: 474.5793 - val_mean_absolute_error: 18.7458\n",
            "Epoch 315/500\n",
            "105/105 [==============================] - 0s 1ms/step - loss: 0.9938 - mean_absolute_error: 0.1764 - val_loss: 464.3752 - val_mean_absolute_error: 18.6706\n",
            "Epoch 316/500\n",
            "105/105 [==============================] - 0s 1ms/step - loss: 0.9844 - mean_absolute_error: 0.1547 - val_loss: 466.8407 - val_mean_absolute_error: 18.6033\n",
            "Epoch 317/500\n",
            "105/105 [==============================] - 0s 1ms/step - loss: 0.9807 - mean_absolute_error: 0.1441 - val_loss: 465.4022 - val_mean_absolute_error: 18.6039\n",
            "Epoch 318/500\n",
            "105/105 [==============================] - 0s 1ms/step - loss: 0.9808 - mean_absolute_error: 0.1478 - val_loss: 473.1177 - val_mean_absolute_error: 18.7783\n",
            "Epoch 319/500\n",
            "105/105 [==============================] - 0s 1ms/step - loss: 0.9737 - mean_absolute_error: 0.1245 - val_loss: 467.6746 - val_mean_absolute_error: 18.6133\n",
            "Epoch 320/500\n",
            "105/105 [==============================] - 0s 1ms/step - loss: 0.9760 - mean_absolute_error: 0.1330 - val_loss: 471.2006 - val_mean_absolute_error: 18.7073\n",
            "Epoch 321/500\n",
            "105/105 [==============================] - 0s 1ms/step - loss: 0.9726 - mean_absolute_error: 0.1271 - val_loss: 465.8214 - val_mean_absolute_error: 18.6264\n",
            "Epoch 322/500\n",
            "105/105 [==============================] - 0s 1ms/step - loss: 0.9666 - mean_absolute_error: 0.1109 - val_loss: 468.4117 - val_mean_absolute_error: 18.6377\n",
            "Epoch 323/500\n",
            "105/105 [==============================] - 0s 1ms/step - loss: 0.9671 - mean_absolute_error: 0.1147 - val_loss: 464.6903 - val_mean_absolute_error: 18.6499\n",
            "Epoch 324/500\n",
            "105/105 [==============================] - 0s 1ms/step - loss: 0.9882 - mean_absolute_error: 0.1546 - val_loss: 466.1350 - val_mean_absolute_error: 18.6414\n",
            "Epoch 325/500\n",
            "105/105 [==============================] - 0s 2ms/step - loss: 1.0621 - mean_absolute_error: 0.2558 - val_loss: 478.0928 - val_mean_absolute_error: 18.8547\n",
            "Epoch 326/500\n",
            "105/105 [==============================] - 0s 1ms/step - loss: 1.2021 - mean_absolute_error: 0.3616 - val_loss: 487.6181 - val_mean_absolute_error: 18.6780\n",
            "Epoch 327/500\n",
            "105/105 [==============================] - 0s 1ms/step - loss: 1.3084 - mean_absolute_error: 0.4539 - val_loss: 449.8945 - val_mean_absolute_error: 18.4825\n",
            "Epoch 328/500\n",
            "105/105 [==============================] - 0s 1ms/step - loss: 1.1638 - mean_absolute_error: 0.3458 - val_loss: 472.1502 - val_mean_absolute_error: 18.7145\n",
            "Epoch 329/500\n",
            "105/105 [==============================] - 0s 1ms/step - loss: 1.0388 - mean_absolute_error: 0.2262 - val_loss: 462.6826 - val_mean_absolute_error: 18.5428\n",
            "Epoch 330/500\n",
            "105/105 [==============================] - 0s 1ms/step - loss: 1.0292 - mean_absolute_error: 0.2209 - val_loss: 465.1721 - val_mean_absolute_error: 18.6525\n",
            "Epoch 331/500\n",
            "105/105 [==============================] - 0s 1ms/step - loss: 1.0070 - mean_absolute_error: 0.1865 - val_loss: 473.1621 - val_mean_absolute_error: 18.7774\n",
            "Epoch 332/500\n",
            "105/105 [==============================] - 0s 1ms/step - loss: 0.9794 - mean_absolute_error: 0.1475 - val_loss: 463.9752 - val_mean_absolute_error: 18.5807\n",
            "Epoch 333/500\n",
            "105/105 [==============================] - 0s 2ms/step - loss: 1.0018 - mean_absolute_error: 0.1669 - val_loss: 467.4406 - val_mean_absolute_error: 18.6636\n",
            "Epoch 334/500\n",
            "105/105 [==============================] - 0s 1ms/step - loss: 0.9732 - mean_absolute_error: 0.1342 - val_loss: 469.2100 - val_mean_absolute_error: 18.7446\n",
            "Epoch 335/500\n",
            "105/105 [==============================] - 0s 1ms/step - loss: 0.9630 - mean_absolute_error: 0.1051 - val_loss: 466.1309 - val_mean_absolute_error: 18.6310\n",
            "Epoch 336/500\n",
            "105/105 [==============================] - 0s 1ms/step - loss: 0.9558 - mean_absolute_error: 0.0892 - val_loss: 473.3810 - val_mean_absolute_error: 18.7157\n",
            "Epoch 337/500\n",
            "105/105 [==============================] - 0s 1ms/step - loss: 0.9595 - mean_absolute_error: 0.1059 - val_loss: 466.5468 - val_mean_absolute_error: 18.6700\n",
            "Epoch 338/500\n",
            "105/105 [==============================] - 0s 2ms/step - loss: 0.9603 - mean_absolute_error: 0.1083 - val_loss: 464.9939 - val_mean_absolute_error: 18.5611\n",
            "Epoch 339/500\n",
            "105/105 [==============================] - 0s 1ms/step - loss: 0.9794 - mean_absolute_error: 0.1473 - val_loss: 462.2844 - val_mean_absolute_error: 18.5833\n",
            "Epoch 340/500\n",
            "105/105 [==============================] - 0s 1ms/step - loss: 0.9786 - mean_absolute_error: 0.1476 - val_loss: 466.9756 - val_mean_absolute_error: 18.7011\n",
            "Epoch 341/500\n",
            "105/105 [==============================] - 0s 1ms/step - loss: 1.0195 - mean_absolute_error: 0.2148 - val_loss: 466.2717 - val_mean_absolute_error: 18.6625\n",
            "Epoch 342/500\n",
            "105/105 [==============================] - 0s 1ms/step - loss: 1.0322 - mean_absolute_error: 0.2209 - val_loss: 473.4461 - val_mean_absolute_error: 18.6869\n",
            "Epoch 343/500\n",
            "105/105 [==============================] - 0s 2ms/step - loss: 1.0841 - mean_absolute_error: 0.2702 - val_loss: 462.9024 - val_mean_absolute_error: 18.6398\n",
            "Epoch 344/500\n",
            "105/105 [==============================] - 0s 2ms/step - loss: 1.0807 - mean_absolute_error: 0.2882 - val_loss: 469.1020 - val_mean_absolute_error: 18.5718\n",
            "Epoch 345/500\n",
            "105/105 [==============================] - 0s 1ms/step - loss: 1.0694 - mean_absolute_error: 0.2749 - val_loss: 474.4735 - val_mean_absolute_error: 18.8718\n",
            "Epoch 346/500\n",
            "105/105 [==============================] - 0s 1ms/step - loss: 1.0686 - mean_absolute_error: 0.2702 - val_loss: 469.5127 - val_mean_absolute_error: 18.6541\n",
            "Epoch 347/500\n",
            "105/105 [==============================] - 0s 1ms/step - loss: 1.1132 - mean_absolute_error: 0.2941 - val_loss: 470.7925 - val_mean_absolute_error: 18.8510\n",
            "Epoch 348/500\n",
            "105/105 [==============================] - 0s 1ms/step - loss: 1.1414 - mean_absolute_error: 0.3374 - val_loss: 460.5725 - val_mean_absolute_error: 18.6600\n",
            "Epoch 349/500\n",
            "105/105 [==============================] - 0s 1ms/step - loss: 1.0792 - mean_absolute_error: 0.2734 - val_loss: 469.3670 - val_mean_absolute_error: 18.6694\n",
            "Epoch 350/500\n",
            "105/105 [==============================] - 0s 1ms/step - loss: 1.0263 - mean_absolute_error: 0.2185 - val_loss: 466.1545 - val_mean_absolute_error: 18.6338\n",
            "Epoch 351/500\n",
            "105/105 [==============================] - 0s 1ms/step - loss: 0.9889 - mean_absolute_error: 0.1635 - val_loss: 463.4756 - val_mean_absolute_error: 18.5994\n",
            "Epoch 352/500\n",
            "105/105 [==============================] - 0s 1ms/step - loss: 0.9598 - mean_absolute_error: 0.1062 - val_loss: 465.7060 - val_mean_absolute_error: 18.6385\n",
            "Epoch 353/500\n",
            "105/105 [==============================] - 0s 1ms/step - loss: 0.9649 - mean_absolute_error: 0.1203 - val_loss: 467.3503 - val_mean_absolute_error: 18.6481\n",
            "Epoch 354/500\n",
            "105/105 [==============================] - 0s 1ms/step - loss: 0.9605 - mean_absolute_error: 0.1028 - val_loss: 467.4336 - val_mean_absolute_error: 18.6425\n",
            "Epoch 355/500\n",
            "105/105 [==============================] - 0s 1ms/step - loss: 0.9608 - mean_absolute_error: 0.1116 - val_loss: 468.5151 - val_mean_absolute_error: 18.6339\n",
            "Epoch 356/500\n",
            "105/105 [==============================] - 0s 1ms/step - loss: 0.9593 - mean_absolute_error: 0.1059 - val_loss: 466.3845 - val_mean_absolute_error: 18.6317\n",
            "Epoch 357/500\n",
            "105/105 [==============================] - 0s 1ms/step - loss: 0.9662 - mean_absolute_error: 0.1263 - val_loss: 465.4242 - val_mean_absolute_error: 18.6170\n",
            "Epoch 358/500\n",
            "105/105 [==============================] - 0s 1ms/step - loss: 0.9791 - mean_absolute_error: 0.1525 - val_loss: 466.1281 - val_mean_absolute_error: 18.6974\n",
            "Epoch 359/500\n",
            "105/105 [==============================] - 0s 2ms/step - loss: 1.0152 - mean_absolute_error: 0.2061 - val_loss: 462.8412 - val_mean_absolute_error: 18.5313\n",
            "Epoch 360/500\n",
            "105/105 [==============================] - 0s 1ms/step - loss: 1.0502 - mean_absolute_error: 0.2585 - val_loss: 464.4204 - val_mean_absolute_error: 18.6100\n",
            "Epoch 361/500\n",
            "105/105 [==============================] - 0s 1ms/step - loss: 1.1213 - mean_absolute_error: 0.3148 - val_loss: 475.4321 - val_mean_absolute_error: 18.7960\n",
            "Epoch 362/500\n",
            "105/105 [==============================] - 0s 1ms/step - loss: 1.2882 - mean_absolute_error: 0.4033 - val_loss: 453.8134 - val_mean_absolute_error: 18.4903\n",
            "Epoch 363/500\n",
            "105/105 [==============================] - 0s 2ms/step - loss: 1.0961 - mean_absolute_error: 0.2776 - val_loss: 455.4197 - val_mean_absolute_error: 18.4974\n",
            "Epoch 364/500\n",
            "105/105 [==============================] - 0s 1ms/step - loss: 1.0380 - mean_absolute_error: 0.2233 - val_loss: 462.1410 - val_mean_absolute_error: 18.5186\n",
            "Epoch 365/500\n",
            "105/105 [==============================] - 0s 1ms/step - loss: 1.0046 - mean_absolute_error: 0.1957 - val_loss: 465.1252 - val_mean_absolute_error: 18.5406\n",
            "Epoch 366/500\n",
            "105/105 [==============================] - 0s 2ms/step - loss: 0.9749 - mean_absolute_error: 0.1503 - val_loss: 466.5848 - val_mean_absolute_error: 18.6713\n",
            "Epoch 367/500\n",
            "105/105 [==============================] - 0s 1ms/step - loss: 0.9571 - mean_absolute_error: 0.1056 - val_loss: 464.1542 - val_mean_absolute_error: 18.6351\n",
            "Epoch 368/500\n",
            "105/105 [==============================] - 0s 1ms/step - loss: 0.9517 - mean_absolute_error: 0.0874 - val_loss: 464.1305 - val_mean_absolute_error: 18.6162\n",
            "Epoch 369/500\n",
            "105/105 [==============================] - 0s 1ms/step - loss: 0.9488 - mean_absolute_error: 0.0782 - val_loss: 467.4398 - val_mean_absolute_error: 18.6666\n",
            "Epoch 370/500\n",
            "105/105 [==============================] - 0s 2ms/step - loss: 0.9533 - mean_absolute_error: 0.0962 - val_loss: 465.4390 - val_mean_absolute_error: 18.6443\n",
            "Epoch 371/500\n",
            "105/105 [==============================] - 0s 1ms/step - loss: 0.9507 - mean_absolute_error: 0.0834 - val_loss: 466.8587 - val_mean_absolute_error: 18.6356\n",
            "Epoch 372/500\n",
            "105/105 [==============================] - 0s 2ms/step - loss: 0.9542 - mean_absolute_error: 0.0943 - val_loss: 464.7465 - val_mean_absolute_error: 18.6340\n",
            "Epoch 373/500\n",
            "105/105 [==============================] - 0s 1ms/step - loss: 0.9662 - mean_absolute_error: 0.1255 - val_loss: 467.0767 - val_mean_absolute_error: 18.6344\n",
            "Epoch 374/500\n",
            "105/105 [==============================] - 0s 1ms/step - loss: 0.9758 - mean_absolute_error: 0.1505 - val_loss: 465.5102 - val_mean_absolute_error: 18.6497\n",
            "Epoch 375/500\n",
            "105/105 [==============================] - 0s 1ms/step - loss: 1.0389 - mean_absolute_error: 0.2443 - val_loss: 476.7849 - val_mean_absolute_error: 18.8498\n",
            "Epoch 376/500\n",
            "105/105 [==============================] - 0s 1ms/step - loss: 1.1422 - mean_absolute_error: 0.3436 - val_loss: 463.9830 - val_mean_absolute_error: 18.6627\n",
            "Epoch 377/500\n",
            "105/105 [==============================] - 0s 2ms/step - loss: 1.1851 - mean_absolute_error: 0.3498 - val_loss: 475.9927 - val_mean_absolute_error: 18.7957\n",
            "Epoch 378/500\n",
            "105/105 [==============================] - 0s 1ms/step - loss: 1.1550 - mean_absolute_error: 0.3540 - val_loss: 471.3136 - val_mean_absolute_error: 18.7122\n",
            "Epoch 379/500\n",
            "105/105 [==============================] - 0s 1ms/step - loss: 1.1044 - mean_absolute_error: 0.3006 - val_loss: 463.4503 - val_mean_absolute_error: 18.6844\n",
            "Epoch 380/500\n",
            "105/105 [==============================] - 0s 1ms/step - loss: 1.0905 - mean_absolute_error: 0.2955 - val_loss: 465.2277 - val_mean_absolute_error: 18.6016\n",
            "Epoch 381/500\n",
            "105/105 [==============================] - 0s 1ms/step - loss: 0.9984 - mean_absolute_error: 0.1921 - val_loss: 472.9968 - val_mean_absolute_error: 18.6665\n",
            "Epoch 382/500\n",
            "105/105 [==============================] - 0s 1ms/step - loss: 0.9641 - mean_absolute_error: 0.1244 - val_loss: 463.5905 - val_mean_absolute_error: 18.6048\n",
            "Epoch 383/500\n",
            "105/105 [==============================] - 0s 1ms/step - loss: 0.9580 - mean_absolute_error: 0.1066 - val_loss: 467.4358 - val_mean_absolute_error: 18.6750\n",
            "Epoch 384/500\n",
            "105/105 [==============================] - 0s 1ms/step - loss: 0.9552 - mean_absolute_error: 0.0964 - val_loss: 467.1370 - val_mean_absolute_error: 18.6715\n",
            "Epoch 385/500\n",
            "105/105 [==============================] - 0s 1ms/step - loss: 0.9525 - mean_absolute_error: 0.0963 - val_loss: 465.4789 - val_mean_absolute_error: 18.6593\n",
            "Epoch 386/500\n",
            "105/105 [==============================] - 0s 2ms/step - loss: 0.9487 - mean_absolute_error: 0.0813 - val_loss: 467.4987 - val_mean_absolute_error: 18.6323\n",
            "Epoch 387/500\n",
            "105/105 [==============================] - 0s 1ms/step - loss: 0.9515 - mean_absolute_error: 0.0954 - val_loss: 467.6385 - val_mean_absolute_error: 18.6752\n",
            "Epoch 388/500\n",
            "105/105 [==============================] - 0s 1ms/step - loss: 0.9518 - mean_absolute_error: 0.0901 - val_loss: 469.0998 - val_mean_absolute_error: 18.6698\n",
            "Epoch 389/500\n",
            "105/105 [==============================] - 0s 1ms/step - loss: 0.9661 - mean_absolute_error: 0.1228 - val_loss: 467.8457 - val_mean_absolute_error: 18.6149\n",
            "Epoch 390/500\n",
            "105/105 [==============================] - 0s 1ms/step - loss: 1.0054 - mean_absolute_error: 0.1914 - val_loss: 466.7522 - val_mean_absolute_error: 18.6152\n",
            "Epoch 391/500\n",
            "105/105 [==============================] - 0s 1ms/step - loss: 1.1157 - mean_absolute_error: 0.3241 - val_loss: 473.8185 - val_mean_absolute_error: 18.6408\n",
            "Epoch 392/500\n",
            "105/105 [==============================] - 0s 1ms/step - loss: 1.1837 - mean_absolute_error: 0.3836 - val_loss: 461.4907 - val_mean_absolute_error: 18.4328\n",
            "Epoch 393/500\n",
            "105/105 [==============================] - 0s 1ms/step - loss: 1.1391 - mean_absolute_error: 0.3355 - val_loss: 453.5177 - val_mean_absolute_error: 18.4758\n",
            "Epoch 394/500\n",
            "105/105 [==============================] - 0s 2ms/step - loss: 1.0656 - mean_absolute_error: 0.2786 - val_loss: 466.5831 - val_mean_absolute_error: 18.6520\n",
            "Epoch 395/500\n",
            "105/105 [==============================] - 0s 1ms/step - loss: 0.9830 - mean_absolute_error: 0.1635 - val_loss: 466.2829 - val_mean_absolute_error: 18.6286\n",
            "Epoch 396/500\n",
            "105/105 [==============================] - 0s 1ms/step - loss: 0.9651 - mean_absolute_error: 0.1253 - val_loss: 468.7222 - val_mean_absolute_error: 18.7342\n",
            "Epoch 397/500\n",
            "105/105 [==============================] - 0s 1ms/step - loss: 0.9757 - mean_absolute_error: 0.1478 - val_loss: 466.8368 - val_mean_absolute_error: 18.6458\n",
            "Epoch 398/500\n",
            "105/105 [==============================] - 0s 1ms/step - loss: 0.9906 - mean_absolute_error: 0.1744 - val_loss: 467.1968 - val_mean_absolute_error: 18.6818\n",
            "Epoch 399/500\n",
            "105/105 [==============================] - 0s 1ms/step - loss: 0.9647 - mean_absolute_error: 0.1249 - val_loss: 467.6491 - val_mean_absolute_error: 18.6828\n",
            "Epoch 400/500\n",
            "105/105 [==============================] - 0s 1ms/step - loss: 0.9821 - mean_absolute_error: 0.1647 - val_loss: 465.3399 - val_mean_absolute_error: 18.6594\n",
            "Epoch 401/500\n",
            "105/105 [==============================] - 0s 1ms/step - loss: 0.9806 - mean_absolute_error: 0.1544 - val_loss: 467.2983 - val_mean_absolute_error: 18.7317\n",
            "Epoch 402/500\n",
            "105/105 [==============================] - 0s 1ms/step - loss: 0.9744 - mean_absolute_error: 0.1445 - val_loss: 467.8068 - val_mean_absolute_error: 18.6980\n",
            "Epoch 403/500\n",
            "105/105 [==============================] - 0s 2ms/step - loss: 0.9628 - mean_absolute_error: 0.1298 - val_loss: 467.0627 - val_mean_absolute_error: 18.6685\n",
            "Epoch 404/500\n",
            "105/105 [==============================] - 0s 1ms/step - loss: 0.9652 - mean_absolute_error: 0.1338 - val_loss: 464.4756 - val_mean_absolute_error: 18.6839\n",
            "Epoch 405/500\n",
            "105/105 [==============================] - 0s 1ms/step - loss: 0.9759 - mean_absolute_error: 0.1535 - val_loss: 475.8565 - val_mean_absolute_error: 18.7747\n",
            "Epoch 406/500\n",
            "105/105 [==============================] - 0s 1ms/step - loss: 0.9930 - mean_absolute_error: 0.1731 - val_loss: 465.3439 - val_mean_absolute_error: 18.6568\n",
            "Epoch 407/500\n",
            "105/105 [==============================] - 0s 1ms/step - loss: 1.0049 - mean_absolute_error: 0.1912 - val_loss: 470.6657 - val_mean_absolute_error: 18.7227\n",
            "Epoch 408/500\n",
            "105/105 [==============================] - 0s 1ms/step - loss: 0.9830 - mean_absolute_error: 0.1633 - val_loss: 463.7079 - val_mean_absolute_error: 18.7017\n",
            "Epoch 409/500\n",
            "105/105 [==============================] - 0s 1ms/step - loss: 0.9828 - mean_absolute_error: 0.1614 - val_loss: 463.8016 - val_mean_absolute_error: 18.5585\n",
            "Epoch 410/500\n",
            "105/105 [==============================] - 0s 1ms/step - loss: 1.0216 - mean_absolute_error: 0.2204 - val_loss: 466.2242 - val_mean_absolute_error: 18.6815\n",
            "Epoch 411/500\n",
            "105/105 [==============================] - 0s 1ms/step - loss: 1.0515 - mean_absolute_error: 0.2670 - val_loss: 462.8657 - val_mean_absolute_error: 18.5718\n",
            "Epoch 412/500\n",
            "105/105 [==============================] - 0s 1ms/step - loss: 1.0809 - mean_absolute_error: 0.2900 - val_loss: 456.8495 - val_mean_absolute_error: 18.5069\n",
            "Epoch 413/500\n",
            "105/105 [==============================] - 0s 1ms/step - loss: 1.0425 - mean_absolute_error: 0.2406 - val_loss: 462.7036 - val_mean_absolute_error: 18.5116\n",
            "Epoch 414/500\n",
            "105/105 [==============================] - 0s 1ms/step - loss: 1.0170 - mean_absolute_error: 0.2086 - val_loss: 461.2288 - val_mean_absolute_error: 18.5778\n",
            "Epoch 415/500\n",
            "105/105 [==============================] - 0s 1ms/step - loss: 1.0979 - mean_absolute_error: 0.2815 - val_loss: 472.3108 - val_mean_absolute_error: 18.7382\n",
            "Epoch 416/500\n",
            "105/105 [==============================] - 0s 2ms/step - loss: 1.0556 - mean_absolute_error: 0.2662 - val_loss: 469.3618 - val_mean_absolute_error: 18.7233\n",
            "Epoch 417/500\n",
            "105/105 [==============================] - 0s 1ms/step - loss: 1.0391 - mean_absolute_error: 0.2398 - val_loss: 458.6670 - val_mean_absolute_error: 18.4712\n",
            "Epoch 418/500\n",
            "105/105 [==============================] - 0s 2ms/step - loss: 1.0245 - mean_absolute_error: 0.2273 - val_loss: 458.7833 - val_mean_absolute_error: 18.4852\n",
            "Epoch 419/500\n",
            "105/105 [==============================] - 0s 1ms/step - loss: 0.9896 - mean_absolute_error: 0.1869 - val_loss: 465.8923 - val_mean_absolute_error: 18.7093\n",
            "Epoch 420/500\n",
            "105/105 [==============================] - 0s 1ms/step - loss: 0.9809 - mean_absolute_error: 0.1655 - val_loss: 465.3361 - val_mean_absolute_error: 18.5974\n",
            "Epoch 421/500\n",
            "105/105 [==============================] - 0s 2ms/step - loss: 0.9776 - mean_absolute_error: 0.1571 - val_loss: 465.7741 - val_mean_absolute_error: 18.6556\n",
            "Epoch 422/500\n",
            "105/105 [==============================] - 0s 1ms/step - loss: 0.9781 - mean_absolute_error: 0.1619 - val_loss: 467.6346 - val_mean_absolute_error: 18.6849\n",
            "Epoch 423/500\n",
            "105/105 [==============================] - 0s 1ms/step - loss: 0.9707 - mean_absolute_error: 0.1552 - val_loss: 462.7349 - val_mean_absolute_error: 18.4998\n",
            "Epoch 424/500\n",
            "105/105 [==============================] - 0s 1ms/step - loss: 0.9878 - mean_absolute_error: 0.1803 - val_loss: 468.6523 - val_mean_absolute_error: 18.7542\n",
            "Epoch 425/500\n",
            "105/105 [==============================] - 0s 1ms/step - loss: 0.9799 - mean_absolute_error: 0.1758 - val_loss: 463.9875 - val_mean_absolute_error: 18.5806\n",
            "Epoch 426/500\n",
            "105/105 [==============================] - 0s 1ms/step - loss: 0.9748 - mean_absolute_error: 0.1591 - val_loss: 454.9327 - val_mean_absolute_error: 18.4769\n",
            "Epoch 427/500\n",
            "105/105 [==============================] - 0s 1ms/step - loss: 1.0227 - mean_absolute_error: 0.2237 - val_loss: 469.4092 - val_mean_absolute_error: 18.6980\n",
            "Epoch 428/500\n",
            "105/105 [==============================] - 0s 1ms/step - loss: 1.0187 - mean_absolute_error: 0.2359 - val_loss: 460.9418 - val_mean_absolute_error: 18.5821\n",
            "Epoch 429/500\n",
            "105/105 [==============================] - 0s 1ms/step - loss: 1.0265 - mean_absolute_error: 0.2156 - val_loss: 464.3788 - val_mean_absolute_error: 18.6740\n",
            "Epoch 430/500\n",
            "105/105 [==============================] - 0s 2ms/step - loss: 1.0376 - mean_absolute_error: 0.2474 - val_loss: 472.6546 - val_mean_absolute_error: 18.7278\n",
            "Epoch 431/500\n",
            "105/105 [==============================] - 0s 1ms/step - loss: 1.1019 - mean_absolute_error: 0.3115 - val_loss: 480.7815 - val_mean_absolute_error: 18.8358\n",
            "Epoch 432/500\n",
            "105/105 [==============================] - 0s 1ms/step - loss: 1.1130 - mean_absolute_error: 0.3277 - val_loss: 453.5661 - val_mean_absolute_error: 18.3741\n",
            "Epoch 433/500\n",
            "105/105 [==============================] - 0s 1ms/step - loss: 1.0307 - mean_absolute_error: 0.2556 - val_loss: 458.8978 - val_mean_absolute_error: 18.6448\n",
            "Epoch 434/500\n",
            "105/105 [==============================] - 0s 1ms/step - loss: 1.1119 - mean_absolute_error: 0.3103 - val_loss: 466.6909 - val_mean_absolute_error: 18.6692\n",
            "Epoch 435/500\n",
            "105/105 [==============================] - 0s 2ms/step - loss: 0.9821 - mean_absolute_error: 0.1712 - val_loss: 464.4209 - val_mean_absolute_error: 18.5992\n",
            "Epoch 436/500\n",
            "105/105 [==============================] - 0s 1ms/step - loss: 0.9612 - mean_absolute_error: 0.1335 - val_loss: 468.6552 - val_mean_absolute_error: 18.7083\n",
            "Epoch 437/500\n",
            "105/105 [==============================] - 0s 1ms/step - loss: 0.9535 - mean_absolute_error: 0.1146 - val_loss: 459.7005 - val_mean_absolute_error: 18.5429\n",
            "Epoch 438/500\n",
            "105/105 [==============================] - 0s 1ms/step - loss: 0.9758 - mean_absolute_error: 0.1594 - val_loss: 466.9264 - val_mean_absolute_error: 18.6640\n",
            "Epoch 439/500\n",
            "105/105 [==============================] - 0s 1ms/step - loss: 0.9793 - mean_absolute_error: 0.1655 - val_loss: 463.7159 - val_mean_absolute_error: 18.6613\n",
            "Epoch 440/500\n",
            "105/105 [==============================] - 0s 1ms/step - loss: 0.9696 - mean_absolute_error: 0.1535 - val_loss: 467.7452 - val_mean_absolute_error: 18.7188\n",
            "Epoch 441/500\n",
            "105/105 [==============================] - 0s 1ms/step - loss: 0.9617 - mean_absolute_error: 0.1286 - val_loss: 465.7041 - val_mean_absolute_error: 18.5829\n",
            "Epoch 442/500\n",
            "105/105 [==============================] - 0s 1ms/step - loss: 0.9666 - mean_absolute_error: 0.1468 - val_loss: 466.6463 - val_mean_absolute_error: 18.6371\n",
            "Epoch 443/500\n",
            "105/105 [==============================] - 0s 1ms/step - loss: 0.9688 - mean_absolute_error: 0.1435 - val_loss: 460.0584 - val_mean_absolute_error: 18.5724\n",
            "Epoch 444/500\n",
            "105/105 [==============================] - 0s 1ms/step - loss: 0.9671 - mean_absolute_error: 0.1451 - val_loss: 462.9268 - val_mean_absolute_error: 18.5798\n",
            "Epoch 445/500\n",
            "105/105 [==============================] - 0s 2ms/step - loss: 0.9727 - mean_absolute_error: 0.1413 - val_loss: 461.9703 - val_mean_absolute_error: 18.5977\n",
            "Epoch 446/500\n",
            "105/105 [==============================] - 0s 1ms/step - loss: 0.9756 - mean_absolute_error: 0.1675 - val_loss: 464.2527 - val_mean_absolute_error: 18.5681\n",
            "Epoch 447/500\n",
            "105/105 [==============================] - 0s 1ms/step - loss: 0.9936 - mean_absolute_error: 0.2005 - val_loss: 464.1780 - val_mean_absolute_error: 18.5699\n",
            "Epoch 448/500\n",
            "105/105 [==============================] - 0s 1ms/step - loss: 1.0109 - mean_absolute_error: 0.2125 - val_loss: 461.1438 - val_mean_absolute_error: 18.5720\n",
            "Epoch 449/500\n",
            "105/105 [==============================] - 0s 2ms/step - loss: 1.0579 - mean_absolute_error: 0.2770 - val_loss: 450.3569 - val_mean_absolute_error: 18.3591\n",
            "Epoch 450/500\n",
            "105/105 [==============================] - 0s 1ms/step - loss: 1.3252 - mean_absolute_error: 0.4604 - val_loss: 447.4502 - val_mean_absolute_error: 18.4225\n",
            "Epoch 451/500\n",
            "105/105 [==============================] - 0s 1ms/step - loss: 1.2451 - mean_absolute_error: 0.3732 - val_loss: 473.8175 - val_mean_absolute_error: 18.7875\n",
            "Epoch 452/500\n",
            "105/105 [==============================] - 0s 2ms/step - loss: 1.1207 - mean_absolute_error: 0.3115 - val_loss: 465.6468 - val_mean_absolute_error: 18.5647\n",
            "Epoch 453/500\n",
            "105/105 [==============================] - 0s 1ms/step - loss: 1.0242 - mean_absolute_error: 0.2306 - val_loss: 463.4885 - val_mean_absolute_error: 18.5679\n",
            "Epoch 454/500\n",
            "105/105 [==============================] - 0s 1ms/step - loss: 0.9917 - mean_absolute_error: 0.1899 - val_loss: 463.1152 - val_mean_absolute_error: 18.5559\n",
            "Epoch 455/500\n",
            "105/105 [==============================] - 0s 1ms/step - loss: 0.9696 - mean_absolute_error: 0.1532 - val_loss: 466.1096 - val_mean_absolute_error: 18.6872\n",
            "Epoch 456/500\n",
            "105/105 [==============================] - 0s 2ms/step - loss: 0.9526 - mean_absolute_error: 0.1216 - val_loss: 462.3453 - val_mean_absolute_error: 18.4991\n",
            "Epoch 457/500\n",
            "105/105 [==============================] - 0s 1ms/step - loss: 0.9505 - mean_absolute_error: 0.1151 - val_loss: 462.7953 - val_mean_absolute_error: 18.6423\n",
            "Epoch 458/500\n",
            "105/105 [==============================] - 0s 1ms/step - loss: 0.9516 - mean_absolute_error: 0.1041 - val_loss: 461.2703 - val_mean_absolute_error: 18.5618\n",
            "Epoch 459/500\n",
            "105/105 [==============================] - 0s 1ms/step - loss: 0.9403 - mean_absolute_error: 0.0881 - val_loss: 462.4854 - val_mean_absolute_error: 18.5862\n",
            "Epoch 460/500\n",
            "105/105 [==============================] - 0s 1ms/step - loss: 0.9470 - mean_absolute_error: 0.1100 - val_loss: 463.7813 - val_mean_absolute_error: 18.6195\n",
            "Epoch 461/500\n",
            "105/105 [==============================] - 0s 1ms/step - loss: 0.9528 - mean_absolute_error: 0.1192 - val_loss: 467.3523 - val_mean_absolute_error: 18.6736\n",
            "Epoch 462/500\n",
            "105/105 [==============================] - 0s 1ms/step - loss: 0.9650 - mean_absolute_error: 0.1486 - val_loss: 457.8882 - val_mean_absolute_error: 18.5586\n",
            "Epoch 463/500\n",
            "105/105 [==============================] - 0s 1ms/step - loss: 0.9718 - mean_absolute_error: 0.1620 - val_loss: 466.7139 - val_mean_absolute_error: 18.6733\n",
            "Epoch 464/500\n",
            "105/105 [==============================] - 0s 1ms/step - loss: 1.0091 - mean_absolute_error: 0.2161 - val_loss: 461.4429 - val_mean_absolute_error: 18.7120\n",
            "Epoch 465/500\n",
            "105/105 [==============================] - 0s 1ms/step - loss: 1.0411 - mean_absolute_error: 0.2351 - val_loss: 470.9005 - val_mean_absolute_error: 18.6885\n",
            "Epoch 466/500\n",
            "105/105 [==============================] - 0s 1ms/step - loss: 1.0450 - mean_absolute_error: 0.2354 - val_loss: 467.0210 - val_mean_absolute_error: 18.6842\n",
            "Epoch 467/500\n",
            "105/105 [==============================] - 0s 1ms/step - loss: 1.0030 - mean_absolute_error: 0.2070 - val_loss: 454.9850 - val_mean_absolute_error: 18.5373\n",
            "Epoch 468/500\n",
            "105/105 [==============================] - 0s 1ms/step - loss: 1.0062 - mean_absolute_error: 0.2113 - val_loss: 465.7114 - val_mean_absolute_error: 18.5624\n",
            "Epoch 469/500\n",
            "105/105 [==============================] - 0s 1ms/step - loss: 1.0249 - mean_absolute_error: 0.2402 - val_loss: 466.1464 - val_mean_absolute_error: 18.6452\n",
            "Epoch 470/500\n",
            "105/105 [==============================] - 0s 1ms/step - loss: 1.0105 - mean_absolute_error: 0.2156 - val_loss: 469.8651 - val_mean_absolute_error: 18.6873\n",
            "Epoch 471/500\n",
            "105/105 [==============================] - 0s 1ms/step - loss: 0.9868 - mean_absolute_error: 0.1854 - val_loss: 466.7029 - val_mean_absolute_error: 18.7197\n",
            "Epoch 472/500\n",
            "105/105 [==============================] - 0s 1ms/step - loss: 0.9706 - mean_absolute_error: 0.1628 - val_loss: 465.1116 - val_mean_absolute_error: 18.6171\n",
            "Epoch 473/500\n",
            "105/105 [==============================] - 0s 1ms/step - loss: 0.9761 - mean_absolute_error: 0.1718 - val_loss: 461.7729 - val_mean_absolute_error: 18.5824\n",
            "Epoch 474/500\n",
            "105/105 [==============================] - 0s 2ms/step - loss: 0.9898 - mean_absolute_error: 0.1824 - val_loss: 457.1826 - val_mean_absolute_error: 18.4886\n",
            "Epoch 475/500\n",
            "105/105 [==============================] - 0s 2ms/step - loss: 0.9868 - mean_absolute_error: 0.1879 - val_loss: 464.0146 - val_mean_absolute_error: 18.6304\n",
            "Epoch 476/500\n",
            "105/105 [==============================] - 0s 1ms/step - loss: 1.0050 - mean_absolute_error: 0.2138 - val_loss: 468.9747 - val_mean_absolute_error: 18.6682\n",
            "Epoch 477/500\n",
            "105/105 [==============================] - 0s 1ms/step - loss: 1.1084 - mean_absolute_error: 0.3046 - val_loss: 460.6499 - val_mean_absolute_error: 18.4870\n",
            "Epoch 478/500\n",
            "105/105 [==============================] - 0s 1ms/step - loss: 1.1218 - mean_absolute_error: 0.3124 - val_loss: 465.1029 - val_mean_absolute_error: 18.7202\n",
            "Epoch 479/500\n",
            "105/105 [==============================] - 0s 2ms/step - loss: 0.9939 - mean_absolute_error: 0.1849 - val_loss: 473.7303 - val_mean_absolute_error: 18.7325\n",
            "Epoch 480/500\n",
            "105/105 [==============================] - 0s 1ms/step - loss: 1.0436 - mean_absolute_error: 0.2334 - val_loss: 468.7885 - val_mean_absolute_error: 18.6393\n",
            "Epoch 481/500\n",
            "105/105 [==============================] - 0s 1ms/step - loss: 1.0386 - mean_absolute_error: 0.2337 - val_loss: 459.8404 - val_mean_absolute_error: 18.5135\n",
            "Epoch 482/500\n",
            "105/105 [==============================] - 0s 1ms/step - loss: 1.0031 - mean_absolute_error: 0.2067 - val_loss: 461.0746 - val_mean_absolute_error: 18.6082\n",
            "Epoch 483/500\n",
            "105/105 [==============================] - 0s 1ms/step - loss: 0.9923 - mean_absolute_error: 0.1906 - val_loss: 462.7905 - val_mean_absolute_error: 18.6463\n",
            "Epoch 484/500\n",
            "105/105 [==============================] - 0s 1ms/step - loss: 0.9962 - mean_absolute_error: 0.2197 - val_loss: 459.3306 - val_mean_absolute_error: 18.5333\n",
            "Epoch 485/500\n",
            "105/105 [==============================] - 0s 1ms/step - loss: 0.9621 - mean_absolute_error: 0.1474 - val_loss: 466.9578 - val_mean_absolute_error: 18.6588\n",
            "Epoch 486/500\n",
            "105/105 [==============================] - 0s 1ms/step - loss: 0.9519 - mean_absolute_error: 0.1207 - val_loss: 464.5043 - val_mean_absolute_error: 18.6340\n",
            "Epoch 487/500\n",
            "105/105 [==============================] - 0s 1ms/step - loss: 0.9579 - mean_absolute_error: 0.1317 - val_loss: 463.8971 - val_mean_absolute_error: 18.6467\n",
            "Epoch 488/500\n",
            "105/105 [==============================] - 0s 1ms/step - loss: 0.9515 - mean_absolute_error: 0.1150 - val_loss: 461.8207 - val_mean_absolute_error: 18.5826\n",
            "Epoch 489/500\n",
            "105/105 [==============================] - 0s 1ms/step - loss: 0.9535 - mean_absolute_error: 0.1227 - val_loss: 463.6349 - val_mean_absolute_error: 18.6210\n",
            "Epoch 490/500\n",
            "105/105 [==============================] - 0s 1ms/step - loss: 0.9662 - mean_absolute_error: 0.1479 - val_loss: 465.6947 - val_mean_absolute_error: 18.6403\n",
            "Epoch 491/500\n",
            "105/105 [==============================] - 0s 1ms/step - loss: 0.9962 - mean_absolute_error: 0.1954 - val_loss: 477.2671 - val_mean_absolute_error: 18.8238\n",
            "Epoch 492/500\n",
            "105/105 [==============================] - 0s 2ms/step - loss: 1.0517 - mean_absolute_error: 0.2641 - val_loss: 464.4326 - val_mean_absolute_error: 18.5327\n",
            "Epoch 493/500\n",
            "105/105 [==============================] - 0s 2ms/step - loss: 1.0076 - mean_absolute_error: 0.2163 - val_loss: 459.6879 - val_mean_absolute_error: 18.5600\n",
            "Epoch 494/500\n",
            "105/105 [==============================] - 0s 2ms/step - loss: 0.9940 - mean_absolute_error: 0.2008 - val_loss: 466.1391 - val_mean_absolute_error: 18.6611\n",
            "Epoch 495/500\n",
            "105/105 [==============================] - 0s 1ms/step - loss: 0.9664 - mean_absolute_error: 0.1552 - val_loss: 465.2487 - val_mean_absolute_error: 18.6797\n",
            "Epoch 496/500\n",
            "105/105 [==============================] - 0s 1ms/step - loss: 0.9537 - mean_absolute_error: 0.1345 - val_loss: 466.8222 - val_mean_absolute_error: 18.6754\n",
            "Epoch 497/500\n",
            "105/105 [==============================] - 0s 1ms/step - loss: 0.9658 - mean_absolute_error: 0.1585 - val_loss: 463.4872 - val_mean_absolute_error: 18.5845\n",
            "Epoch 498/500\n",
            "105/105 [==============================] - 0s 1ms/step - loss: 0.9689 - mean_absolute_error: 0.1632 - val_loss: 463.0634 - val_mean_absolute_error: 18.5790\n",
            "Epoch 499/500\n",
            "105/105 [==============================] - 0s 1ms/step - loss: 0.9890 - mean_absolute_error: 0.1934 - val_loss: 469.0126 - val_mean_absolute_error: 18.6739\n",
            "Epoch 500/500\n",
            "105/105 [==============================] - 0s 1ms/step - loss: 1.0484 - mean_absolute_error: 0.2764 - val_loss: 460.1243 - val_mean_absolute_error: 18.4757\n"
          ],
          "name": "stdout"
        }
      ]
    },
    {
      "cell_type": "code",
      "metadata": {
        "id": "3FfY9mHOZcNR",
        "colab_type": "code",
        "colab": {
          "base_uri": "https://localhost:8080/",
          "height": 34
        },
        "outputId": "ca4c526c-7c6e-4629-e3ee-b7e1eb9a070a"
      },
      "source": [
        "len(mae_history)"
      ],
      "execution_count": 165,
      "outputs": [
        {
          "output_type": "execute_result",
          "data": {
            "text/plain": [
              "500"
            ]
          },
          "metadata": {
            "tags": []
          },
          "execution_count": 165
        }
      ]
    },
    {
      "cell_type": "markdown",
      "metadata": {
        "id": "_JFcHa2LGPXj",
        "colab_type": "text"
      },
      "source": [
        "#Plotting training and validation mae"
      ]
    },
    {
      "cell_type": "code",
      "metadata": {
        "id": "13s5AsNnFQ7F",
        "colab_type": "code",
        "outputId": "8053eaae-954e-4dce-ad37-6d538021ffe6",
        "colab": {
          "base_uri": "https://localhost:8080/",
          "height": 279
        }
      },
      "source": [
        "import matplotlib.pyplot as plt\n",
        "plt.plot(range(1, len(mae_val_history) + 1), mae_val_history, 'r', label='Validation mae')\n",
        "plt.plot(range(1, len(mae_history) + 1), mae_history, 'b', label='Training mae')\n",
        "plt.xlabel('Epochs')\n",
        "plt.ylabel('Validation MAE')\n",
        "plt.legend()\n",
        "plt.show()\n"
      ],
      "execution_count": 179,
      "outputs": [
        {
          "output_type": "display_data",
          "data": {
            "image/png": "[encoded data removed]",
            "text/plain": [
              "<Figure size 432x288 with 1 Axes>"
            ]
          },
          "metadata": {
            "tags": []
          }
        }
      ]
    },
    {
      "cell_type": "markdown",
      "metadata": {
        "id": "723BbzxdJtj-",
        "colab_type": "text"
      },
      "source": [
        "#Plotting training and validation loss"
      ]
    },
    {
      "cell_type": "code",
      "metadata": {
        "id": "tezhzHbMGguv",
        "colab_type": "code",
        "outputId": "5639ebd6-923e-4ec5-fc5c-a7281f8317ea",
        "colab": {
          "base_uri": "https://localhost:8080/",
          "height": 280
        }
      },
      "source": [
        "import matplotlib.pyplot as plt\n",
        "plt.plot(range(1, len(loss_val_history) + 1), loss_val_history, 'r', label='Validation loss')\n",
        "plt.plot(range(1, len(loss_history) + 1), loss_history, 'b', label='Training loss')\n",
        "plt.xlabel('Epochs')\n",
        "plt.ylabel('Validation LOSS')\n",
        "plt.legend()\n",
        "plt.show()"
      ],
      "execution_count": 180,
      "outputs": [
        {
          "output_type": "display_data",
          "data": {
            "image/png": "[encoded data removed]",
            "text/plain": [
              "<Figure size 432x288 with 1 Axes>"
            ]
          },
          "metadata": {
            "tags": []
          }
        }
      ]
    },
    {
      "cell_type": "markdown",
      "metadata": {
        "id": "3cYo_1gJEMly",
        "colab_type": "text"
      },
      "source": [
        "#Test model\n"
      ]
    },
    {
      "cell_type": "code",
      "metadata": {
        "id": "ZiMorOCCKPF8",
        "colab_type": "code",
        "outputId": "874ceed5-9bb9-42bd-feae-623c05a695ba",
        "colab": {
          "base_uri": "https://localhost:8080/",
          "height": 34
        }
      },
      "source": [
        "model.fit(train_data_stand_pca, train_targets, epochs=80, batch_size=1, verbose=0)\n",
        "test_mse_score, test_mae_score = model.evaluate(test_data_stand_pca, y_test)"
      ],
      "execution_count": 181,
      "outputs": [
        {
          "output_type": "stream",
          "text": [
            "\r13/13 [==============================] - 0s 494us/step\n"
          ],
          "name": "stdout"
        }
      ]
    },
    {
      "cell_type": "code",
      "metadata": {
        "id": "TiVCR2H6E1QB",
        "colab_type": "code",
        "outputId": "d053c63a-ca2b-4510-9a44-b27d84257981",
        "colab": {
          "base_uri": "https://localhost:8080/",
          "height": 34
        }
      },
      "source": [
        "test_mae_score"
      ],
      "execution_count": 182,
      "outputs": [
        {
          "output_type": "execute_result",
          "data": {
            "text/plain": [
              "19.57205581665039"
            ]
          },
          "metadata": {
            "tags": []
          },
          "execution_count": 182
        }
      ]
    }
  ]
}