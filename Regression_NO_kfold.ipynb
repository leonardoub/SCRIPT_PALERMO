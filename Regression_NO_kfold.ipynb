{
  "nbformat": 4,
  "nbformat_minor": 0,
  "metadata": {
    "colab": {
      "name": "Regression_NO_kfold.ipynb",
      "provenance": [],
      "authorship_tag": "ABX9TyOjVHPHj9JxAW1IlcNRW/ab",
      "include_colab_link": true
    },
    "kernelspec": {
      "name": "python3",
      "display_name": "Python 3"
    }
  },
  "cells": [
    {
      "cell_type": "markdown",
      "metadata": {
        "id": "view-in-github",
        "colab_type": "text"
      },
      "source": [
        "<a href=\"https://colab.research.google.com/github/leonardoub/SCRIPT_PALERMO/blob/master/Regression_NO_kfold.ipynb\" target=\"_parent\"><img src=\"https://colab.research.google.com/assets/colab-badge.svg\" alt=\"Open In Colab\"/></a>"
      ]
    },
    {
      "cell_type": "code",
      "metadata": {
        "id": "H4l7OHNfwiiy",
        "colab_type": "code",
        "colab": {}
      },
      "source": [
        "import random\n",
        "import pandas as pd\n",
        "import numpy as np\n",
        "import matplotlib.pyplot as plt\n",
        "import scipy\n",
        "import seaborn as sns"
      ],
      "execution_count": 0,
      "outputs": []
    },
    {
      "cell_type": "code",
      "metadata": {
        "id": "ZoIjmCLRDgb6",
        "colab_type": "code",
        "outputId": "8fe7f05e-f8b9-4ccb-c82a-8919e63707b2",
        "colab": {
          "base_uri": "https://localhost:8080/",
          "height": 83
        }
      },
      "source": [
        "# Seed value\n",
        "# Apparently you may use different seed values at each stage\n",
        "seed_value= 0\n",
        "\n",
        "# 1. Set `PYTHONHASHSEED` environment variable at a fixed value\n",
        "import os\n",
        "os.environ['PYTHONHASHSEED']=str(seed_value)\n",
        "\n",
        "# 2. Set `python` built-in pseudo-random generator at a fixed value\n",
        "import random\n",
        "random.seed(seed_value)\n",
        "\n",
        "# 3. Set `numpy` pseudo-random generator at a fixed value\n",
        "import numpy as np\n",
        "np.random.seed(seed_value)\n",
        "\n",
        "# 4. Set `tensorflow` pseudo-random generator at a fixed value\n",
        "import tensorflow as tf\n",
        "tf.set_random_seed(seed_value)\n",
        "\n",
        "# 5. Configure a new global `tensorflow` session\n",
        "from keras import backend as K\n",
        "session_conf = tf.ConfigProto(intra_op_parallelism_threads=1, inter_op_parallelism_threads=1)\n",
        "sess = tf.Session(graph=tf.get_default_graph(), config=session_conf)\n",
        "K.set_session(sess)"
      ],
      "execution_count": 0,
      "outputs": [
        {
          "output_type": "display_data",
          "data": {
            "text/html": [
              "<p style=\"color: red;\">\n",
              "The default version of TensorFlow in Colab will soon switch to TensorFlow 2.x.<br>\n",
              "We recommend you <a href=\"https://www.tensorflow.org/guide/migrate\" target=\"_blank\">upgrade</a> now \n",
              "or ensure your notebook will continue to use TensorFlow 1.x via the <code>%tensorflow_version 1.x</code> magic:\n",
              "<a href=\"https://colab.research.google.com/notebooks/tensorflow_version.ipynb\" target=\"_blank\">more info</a>.</p>\n"
            ],
            "text/plain": [
              "<IPython.core.display.HTML object>"
            ]
          },
          "metadata": {
            "tags": []
          }
        },
        {
          "output_type": "stream",
          "text": [
            "Using TensorFlow backend.\n"
          ],
          "name": "stderr"
        }
      ]
    },
    {
      "cell_type": "markdown",
      "metadata": {
        "id": "KF3PtYJsE3an",
        "colab_type": "text"
      },
      "source": [
        "con quest'aggunta si ha riproducibilità alta ma non perfetta"
      ]
    },
    {
      "cell_type": "markdown",
      "metadata": {
        "id": "_DME-inQ4ke_",
        "colab_type": "text"
      },
      "source": [
        "#Load data"
      ]
    },
    {
      "cell_type": "code",
      "metadata": {
        "id": "7Hq45TSf3WcR",
        "colab_type": "code",
        "outputId": "77bf961e-916b-4999-db32-2a454f647c13",
        "colab": {
          "base_uri": "https://localhost:8080/",
          "height": 54
        }
      },
      "source": [
        "#load data from Drive\n",
        "from google.colab import drive\n",
        "drive.mount('/gdrive')\n",
        "%cd /gdrive"
      ],
      "execution_count": 0,
      "outputs": [
        {
          "output_type": "stream",
          "text": [
            "Drive already mounted at /gdrive; to attempt to forcibly remount, call drive.mount(\"/gdrive\", force_remount=True).\n",
            "/gdrive\n"
          ],
          "name": "stdout"
        }
      ]
    },
    {
      "cell_type": "code",
      "metadata": {
        "id": "UCkUXesZhMzg",
        "colab_type": "code",
        "colab": {}
      },
      "source": [
        "train_dataset_path = '/gdrive/My Drive/AIM_PA/database_training2.csv'\n",
        "test_dataset_path = '/gdrive/My Drive/AIM_PA/database_nostro_without_nan.csv'"
      ],
      "execution_count": 0,
      "outputs": []
    },
    {
      "cell_type": "code",
      "metadata": {
        "id": "TczPxOpEhTXw",
        "colab_type": "code",
        "colab": {}
      },
      "source": [
        "df_train = pd.read_csv(train_dataset_path)\n",
        "df_test = pd.read_csv(test_dataset_path)"
      ],
      "execution_count": 0,
      "outputs": []
    },
    {
      "cell_type": "code",
      "metadata": {
        "id": "9I5MNxeW3j2G",
        "colab_type": "code",
        "colab": {}
      },
      "source": [
        "df_train.rename(columns={'Survival.time (months)':'Surv_time_months'}, inplace=True)"
      ],
      "execution_count": 0,
      "outputs": []
    },
    {
      "cell_type": "code",
      "metadata": {
        "id": "TLxDyFPo3sU9",
        "colab_type": "code",
        "colab": {}
      },
      "source": [
        "df_test.rename(columns={'Survival.time (months)':'Surv_time_months'}, inplace=True)"
      ],
      "execution_count": 0,
      "outputs": []
    },
    {
      "cell_type": "code",
      "metadata": {
        "id": "oXU_B2k03uYa",
        "colab_type": "code",
        "colab": {}
      },
      "source": [
        "df_train.rename(columns={'Overall.Stage':'Overall_Stage'}, inplace=True)\n",
        "df_test.rename(columns={'Overall.Stage':'Overall_Stage'}, inplace=True)"
      ],
      "execution_count": 0,
      "outputs": []
    },
    {
      "cell_type": "code",
      "metadata": {
        "id": "T1YCrOMP3_4q",
        "colab_type": "code",
        "colab": {}
      },
      "source": [
        "public_data = df_train.drop(['Histology', 'Surv_time_months', 'OS', 'deadstatus.event','Overall_Stage'], axis=1)"
      ],
      "execution_count": 0,
      "outputs": []
    },
    {
      "cell_type": "code",
      "metadata": {
        "id": "BWj1mwjV4Mzo",
        "colab_type": "code",
        "colab": {}
      },
      "source": [
        "PA_data = df_test.drop(['Histology', 'Surv_time_months', 'OS', 'deadstatus.event','Overall_Stage'], axis=1)"
      ],
      "execution_count": 0,
      "outputs": []
    },
    {
      "cell_type": "code",
      "metadata": {
        "id": "dKdS4Low4PHh",
        "colab_type": "code",
        "colab": {}
      },
      "source": [
        "public_targets = df_train.Surv_time_months"
      ],
      "execution_count": 0,
      "outputs": []
    },
    {
      "cell_type": "code",
      "metadata": {
        "id": "K6EsAdEt4RNP",
        "colab_type": "code",
        "colab": {}
      },
      "source": [
        "PA_targets = df_test.Surv_time_months"
      ],
      "execution_count": 0,
      "outputs": []
    },
    {
      "cell_type": "code",
      "metadata": {
        "id": "kBaJT3uHVOZ8",
        "colab_type": "code",
        "outputId": "d083a758-ff55-413b-8440-8ccd7a2296fd",
        "colab": {
          "base_uri": "https://localhost:8080/",
          "height": 35
        }
      },
      "source": [
        "public_targets.min()"
      ],
      "execution_count": 0,
      "outputs": [
        {
          "output_type": "execute_result",
          "data": {
            "text/plain": [
              "1"
            ]
          },
          "metadata": {
            "tags": []
          },
          "execution_count": 13
        }
      ]
    },
    {
      "cell_type": "code",
      "metadata": {
        "id": "ZmINZOMZVX4G",
        "colab_type": "code",
        "outputId": "83876a57-893e-4280-b864-76a7411bfe0a",
        "colab": {
          "base_uri": "https://localhost:8080/",
          "height": 35
        }
      },
      "source": [
        "public_targets.max()"
      ],
      "execution_count": 0,
      "outputs": [
        {
          "output_type": "execute_result",
          "data": {
            "text/plain": [
              "72"
            ]
          },
          "metadata": {
            "tags": []
          },
          "execution_count": 14
        }
      ]
    },
    {
      "cell_type": "code",
      "metadata": {
        "id": "UdyU7v6SEe4P",
        "colab_type": "code",
        "colab": {}
      },
      "source": [
        "a=list(public_targets)"
      ],
      "execution_count": 0,
      "outputs": []
    },
    {
      "cell_type": "code",
      "metadata": {
        "id": "1iuOkL8LEjXT",
        "colab_type": "code",
        "colab": {}
      },
      "source": [
        "a.sort()"
      ],
      "execution_count": 0,
      "outputs": []
    },
    {
      "cell_type": "code",
      "metadata": {
        "id": "Eh1YPPwSCsYq",
        "colab_type": "code",
        "outputId": "2a11464d-d1d1-4e7f-91a4-f3a164d25bdc",
        "colab": {
          "base_uri": "https://localhost:8080/",
          "height": 55
        }
      },
      "source": [
        "print(a)"
      ],
      "execution_count": 0,
      "outputs": [
        {
          "output_type": "stream",
          "text": [
            "[1, 1, 2, 2, 2, 2, 2, 2, 3, 3, 3, 3, 3, 3, 4, 4, 4, 4, 4, 4, 5, 5, 5, 5, 6, 6, 6, 6, 6, 6, 7, 7, 7, 7, 8, 8, 9, 9, 9, 9, 10, 10, 10, 10, 10, 10, 11, 12, 12, 12, 12, 12, 13, 13, 13, 15, 15, 15, 15, 15, 16, 16, 16, 16, 16, 17, 18, 18, 18, 18, 19, 19, 19, 21, 21, 21, 21, 21, 22, 22, 23, 23, 23, 24, 24, 25, 25, 25, 26, 27, 27, 27, 28, 29, 29, 30, 30, 30, 31, 31, 32, 33, 33, 33, 34, 36, 36, 36, 38, 38, 40, 40, 41, 41, 44, 45, 45, 46, 46, 46, 48, 50, 51, 52, 54, 56, 60, 63, 64, 71, 72]\n"
          ],
          "name": "stdout"
        }
      ]
    },
    {
      "cell_type": "code",
      "metadata": {
        "id": "EZC4UTEXwwb1",
        "colab_type": "code",
        "outputId": "5788ee53-d89e-43d4-8a75-7a2bf7170da8",
        "colab": {
          "base_uri": "https://localhost:8080/",
          "height": 320
        }
      },
      "source": [
        "plt.hist(public_targets, 5)"
      ],
      "execution_count": 0,
      "outputs": [
        {
          "output_type": "execute_result",
          "data": {
            "text/plain": [
              "(array([60., 35., 19., 12.,  5.]),\n",
              " array([ 1. , 15.2, 29.4, 43.6, 57.8, 72. ]),\n",
              " <a list of 5 Patch objects>)"
            ]
          },
          "metadata": {
            "tags": []
          },
          "execution_count": 18
        },
        {
          "output_type": "display_data",
          "data": {
            "image/png": "[encoded data removed]",
            "text/plain": [
              "<Figure size 432x288 with 1 Axes>"
            ]
          },
          "metadata": {
            "tags": []
          }
        }
      ]
    },
    {
      "cell_type": "markdown",
      "metadata": {
        "id": "tqDYyNd6_3s4",
        "colab_type": "text"
      },
      "source": [
        "#Train Test Split"
      ]
    },
    {
      "cell_type": "code",
      "metadata": {
        "id": "_7I8R-jd_3Hd",
        "colab_type": "code",
        "colab": {}
      },
      "source": [
        "from sklearn.model_selection import train_test_split"
      ],
      "execution_count": 0,
      "outputs": []
    },
    {
      "cell_type": "code",
      "metadata": {
        "id": "1iGf61ksL0aY",
        "colab_type": "code",
        "colab": {}
      },
      "source": [
        "# Create the bins.  My target variable has\n",
        "# max=72 observations, and I want 5 bins.\n",
        "\n",
        "bins = np.linspace(1, 71, 5)"
      ],
      "execution_count": 0,
      "outputs": []
    },
    {
      "cell_type": "code",
      "metadata": {
        "id": "pD-nPB1iMFTh",
        "colab_type": "code",
        "outputId": "eae57bce-7826-46ac-96d2-f061825d4e95",
        "colab": {
          "base_uri": "https://localhost:8080/",
          "height": 35
        }
      },
      "source": [
        "bins"
      ],
      "execution_count": 0,
      "outputs": [
        {
          "output_type": "execute_result",
          "data": {
            "text/plain": [
              "array([ 1. , 18.5, 36. , 53.5, 71. ])"
            ]
          },
          "metadata": {
            "tags": []
          },
          "execution_count": 21
        }
      ]
    },
    {
      "cell_type": "code",
      "metadata": {
        "id": "NUWXG2pxMr86",
        "colab_type": "code",
        "colab": {}
      },
      "source": [
        "# Save your Y values in a new ndarray,\n",
        "# broken down by the bins created above.\n",
        "\n",
        "y_binned = np.digitize(public_targets, bins)"
      ],
      "execution_count": 0,
      "outputs": []
    },
    {
      "cell_type": "code",
      "metadata": {
        "id": "6W6OigAeMykE",
        "colab_type": "code",
        "outputId": "37896c4d-c232-4f4b-92dd-6b6ffc602798",
        "colab": {
          "base_uri": "https://localhost:8080/",
          "height": 127
        }
      },
      "source": [
        "y_binned"
      ],
      "execution_count": 0,
      "outputs": [
        {
          "output_type": "execute_result",
          "data": {
            "text/plain": [
              "array([1, 1, 2, 3, 1, 1, 1, 2, 3, 1, 1, 1, 1, 1, 2, 4, 1, 1, 1, 2, 2, 2,\n",
              "       2, 3, 3, 4, 1, 1, 1, 1, 1, 1, 2, 2, 2, 2, 2, 2, 2, 2, 2, 2, 3, 3,\n",
              "       3, 1, 1, 1, 1, 1, 1, 1, 1, 1, 1, 1, 1, 1, 1, 1, 1, 1, 2, 2, 2, 2,\n",
              "       2, 2, 2, 2, 3, 3, 3, 3, 3, 5, 1, 1, 1, 1, 1, 1, 1, 1, 2, 2, 2, 3,\n",
              "       3, 3, 1, 1, 1, 1, 1, 1, 1, 2, 3, 4, 4, 1, 1, 1, 1, 1, 1, 1, 1, 1,\n",
              "       1, 1, 2, 2, 2, 4, 1, 1, 1, 1, 1, 1, 1, 1, 2, 2, 2, 3, 3, 3, 5])"
            ]
          },
          "metadata": {
            "tags": []
          },
          "execution_count": 23
        }
      ]
    },
    {
      "cell_type": "code",
      "metadata": {
        "id": "_bnO8hgZ__GF",
        "colab_type": "code",
        "colab": {}
      },
      "source": [
        "X_train, X_test, y_train, y_test = train_test_split(public_data, public_targets, test_size=13, stratify=y_binned, random_state=1)"
      ],
      "execution_count": 0,
      "outputs": []
    },
    {
      "cell_type": "code",
      "metadata": {
        "id": "tdNT2GsMOAYv",
        "colab_type": "code",
        "outputId": "3210de83-846e-4e4a-83c0-615222b5f24a",
        "colab": {
          "base_uri": "https://localhost:8080/",
          "height": 320
        }
      },
      "source": [
        "plt.hist(y_test, 5)"
      ],
      "execution_count": 0,
      "outputs": [
        {
          "output_type": "execute_result",
          "data": {
            "text/plain": [
              "(array([5., 3., 2., 2., 1.]),\n",
              " array([ 1. , 12.8, 24.6, 36.4, 48.2, 60. ]),\n",
              " <a list of 5 Patch objects>)"
            ]
          },
          "metadata": {
            "tags": []
          },
          "execution_count": 25
        },
        {
          "output_type": "display_data",
          "data": {
            "image/png": "[encoded data removed]",
            "text/plain": [
              "<Figure size 432x288 with 1 Axes>"
            ]
          },
          "metadata": {
            "tags": []
          }
        }
      ]
    },
    {
      "cell_type": "markdown",
      "metadata": {
        "id": "pMuRNXFjVEiK",
        "colab_type": "text"
      },
      "source": [
        "#Train Validation Split"
      ]
    },
    {
      "cell_type": "code",
      "metadata": {
        "colab_type": "code",
        "id": "ovpVx4a7VMkl",
        "colab": {}
      },
      "source": [
        "from sklearn.model_selection import train_test_split"
      ],
      "execution_count": 0,
      "outputs": []
    },
    {
      "cell_type": "code",
      "metadata": {
        "colab_type": "code",
        "id": "ch0dPinGVMk3",
        "colab": {}
      },
      "source": [
        "# Create the bins. My target variable has\n",
        "#  max=72, and I want 5 bins.\n",
        "\n",
        "bins = np.linspace(1, 71, 5)"
      ],
      "execution_count": 0,
      "outputs": []
    },
    {
      "cell_type": "code",
      "metadata": {
        "colab_type": "code",
        "outputId": "b9a31a9c-5670-411e-a94e-1ca977294492",
        "id": "o0tcNiSSVMlJ",
        "colab": {
          "base_uri": "https://localhost:8080/",
          "height": 35
        }
      },
      "source": [
        "bins"
      ],
      "execution_count": 0,
      "outputs": [
        {
          "output_type": "execute_result",
          "data": {
            "text/plain": [
              "array([ 1. , 18.5, 36. , 53.5, 71. ])"
            ]
          },
          "metadata": {
            "tags": []
          },
          "execution_count": 28
        }
      ]
    },
    {
      "cell_type": "code",
      "metadata": {
        "colab_type": "code",
        "id": "ZrvunTpXVMla",
        "colab": {}
      },
      "source": [
        "# Save your Y values in a new ndarray,\n",
        "# broken down by the bins created above.\n",
        "\n",
        "y_binned = np.digitize(y_train, bins)"
      ],
      "execution_count": 0,
      "outputs": []
    },
    {
      "cell_type": "code",
      "metadata": {
        "colab_type": "code",
        "outputId": "0bb9cbf3-eb29-4ed2-ebf4-1f18a30e5f2d",
        "id": "se_dpuIJVMlm",
        "colab": {
          "base_uri": "https://localhost:8080/",
          "height": 127
        }
      },
      "source": [
        "y_binned"
      ],
      "execution_count": 0,
      "outputs": [
        {
          "output_type": "execute_result",
          "data": {
            "text/plain": [
              "array([1, 3, 1, 1, 2, 4, 2, 2, 1, 2, 2, 2, 1, 2, 3, 1, 1, 2, 4, 1, 2, 3,\n",
              "       1, 2, 1, 1, 1, 3, 1, 1, 2, 1, 1, 1, 1, 1, 4, 1, 2, 2, 1, 1, 1, 1,\n",
              "       1, 1, 1, 2, 3, 1, 3, 2, 1, 1, 1, 1, 2, 2, 2, 1, 2, 1, 1, 2, 1, 2,\n",
              "       1, 2, 3, 1, 3, 3, 1, 2, 1, 1, 2, 1, 1, 1, 1, 1, 1, 3, 1, 1, 1, 4,\n",
              "       5, 1, 1, 1, 1, 3, 1, 2, 2, 2, 2, 3, 3, 1, 1, 3, 3, 5, 1, 3, 2, 1,\n",
              "       3, 1, 2, 2, 1, 1, 1, 2])"
            ]
          },
          "metadata": {
            "tags": []
          },
          "execution_count": 30
        }
      ]
    },
    {
      "cell_type": "code",
      "metadata": {
        "colab_type": "code",
        "id": "S3Tq1lHxVMlu",
        "colab": {}
      },
      "source": [
        "X_train_1, X_val, train_targets, val_targets = train_test_split(X_train, y_train, test_size=13, stratify=y_binned, random_state=2)                                                         "
      ],
      "execution_count": 0,
      "outputs": []
    },
    {
      "cell_type": "code",
      "metadata": {
        "colab_type": "code",
        "outputId": "5ecd410f-0eba-447c-84c0-ffba4727d50b",
        "id": "sKiagqNGVMl4",
        "colab": {
          "base_uri": "https://localhost:8080/",
          "height": 320
        }
      },
      "source": [
        "plt.hist(val_targets, 5)"
      ],
      "execution_count": 0,
      "outputs": [
        {
          "output_type": "execute_result",
          "data": {
            "text/plain": [
              "(array([6., 2., 2., 2., 1.]),\n",
              " array([ 4. , 13.4, 22.8, 32.2, 41.6, 51. ]),\n",
              " <a list of 5 Patch objects>)"
            ]
          },
          "metadata": {
            "tags": []
          },
          "execution_count": 32
        },
        {
          "output_type": "display_data",
          "data": {
            "image/png": "[encoded data removed]",
            "text/plain": [
              "<Figure size 432x288 with 1 Axes>"
            ]
          },
          "metadata": {
            "tags": []
          }
        }
      ]
    },
    {
      "cell_type": "markdown",
      "metadata": {
        "id": "dtPx7PMDnXM3",
        "colab_type": "text"
      },
      "source": [
        "#Z score dei dati"
      ]
    },
    {
      "cell_type": "code",
      "metadata": {
        "id": "XK4Qji2EnVV4",
        "colab_type": "code",
        "colab": {}
      },
      "source": [
        "mean = X_train_1.mean(axis=0)\n",
        "train_data_stand = X_train_1 - mean\n",
        "std = X_train_1.std(axis=0)\n",
        "train_data_stand /= std"
      ],
      "execution_count": 0,
      "outputs": []
    },
    {
      "cell_type": "code",
      "metadata": {
        "id": "jaqeWiaXXGy0",
        "colab_type": "code",
        "colab": {}
      },
      "source": [
        "val_data_stand = X_val - mean\n",
        "val_data_stand /= std"
      ],
      "execution_count": 0,
      "outputs": []
    },
    {
      "cell_type": "code",
      "metadata": {
        "id": "YOVOoNOvm0Yx",
        "colab_type": "code",
        "colab": {}
      },
      "source": [
        "test_data_stand = X_test - mean\n",
        "test_data_stand /= std"
      ],
      "execution_count": 0,
      "outputs": []
    },
    {
      "cell_type": "markdown",
      "metadata": {
        "id": "Mn0tkOGc3LKN",
        "colab_type": "text"
      },
      "source": [
        "#PCA"
      ]
    },
    {
      "cell_type": "code",
      "metadata": {
        "id": "oS76u6iu3Seg",
        "colab_type": "code",
        "colab": {}
      },
      "source": [
        "from sklearn.decomposition import PCA"
      ],
      "execution_count": 0,
      "outputs": []
    },
    {
      "cell_type": "code",
      "metadata": {
        "id": "KCjC4zqJ3bui",
        "colab_type": "code",
        "colab": {}
      },
      "source": [
        "pca = PCA(n_components=0.9, svd_solver='full')"
      ],
      "execution_count": 0,
      "outputs": []
    },
    {
      "cell_type": "code",
      "metadata": {
        "id": "dLUCf9qX4p_e",
        "colab_type": "code",
        "outputId": "9bb90e88-eb2e-4d53-dbf8-ef189cdf51e8",
        "colab": {
          "base_uri": "https://localhost:8080/"
        }
      },
      "source": [
        "pca.fit(train_data_stand)"
      ],
      "execution_count": 0,
      "outputs": [
        {
          "output_type": "execute_result",
          "data": {
            "text/plain": [
              "PCA(copy=True, iterated_power='auto', n_components=0.9, random_state=None,\n",
              "    svd_solver='full', tol=0.0, whiten=False)"
            ]
          },
          "metadata": {
            "tags": []
          },
          "execution_count": 38
        }
      ]
    },
    {
      "cell_type": "code",
      "metadata": {
        "id": "QfyaKgNZ44o3",
        "colab_type": "code",
        "colab": {}
      },
      "source": [
        "train_data_stand_pca = pca.transform(train_data_stand)\n",
        "val_data_stand_pca = pca.transform(val_data_stand)\n",
        "test_data_stand_pca = pca.transform(test_data_stand)"
      ],
      "execution_count": 0,
      "outputs": []
    },
    {
      "cell_type": "code",
      "metadata": {
        "id": "Uz9C4nl05b_g",
        "colab_type": "code",
        "outputId": "d0d81014-3ba0-41cb-d641-a40e2b2f76a3",
        "colab": {
          "base_uri": "https://localhost:8080/"
        }
      },
      "source": [
        "train_data_stand_pca.shape"
      ],
      "execution_count": 0,
      "outputs": [
        {
          "output_type": "execute_result",
          "data": {
            "text/plain": [
              "(105, 9)"
            ]
          },
          "metadata": {
            "tags": []
          },
          "execution_count": 40
        }
      ]
    },
    {
      "cell_type": "markdown",
      "metadata": {
        "id": "WF5fsvoQwBqR",
        "colab_type": "text"
      },
      "source": [
        "#Z-score dopo PCA"
      ]
    },
    {
      "cell_type": "code",
      "metadata": {
        "id": "Bw8_CwJZwBD1",
        "colab_type": "code",
        "colab": {}
      },
      "source": [
        "mean = train_data_stand_pca.mean(axis=0)\n",
        "std = train_data_stand_pca.std(axis=0)\n",
        "train_data_stand_pca = train_data_stand_pca - mean\n",
        "train_data_stand_pca /= std"
      ],
      "execution_count": 0,
      "outputs": []
    },
    {
      "cell_type": "code",
      "metadata": {
        "id": "3KW2c_RIXpWy",
        "colab_type": "code",
        "colab": {}
      },
      "source": [
        "val_data_stand_pca = val_data_stand_pca - mean\n",
        "val_data_stand_pca /= std"
      ],
      "execution_count": 0,
      "outputs": []
    },
    {
      "cell_type": "code",
      "metadata": {
        "id": "H3wGNwiWXvbo",
        "colab_type": "code",
        "colab": {}
      },
      "source": [
        "test_data_stand_pca = test_data_stand_pca - mean\n",
        "test_data_stand_pca /= std"
      ],
      "execution_count": 0,
      "outputs": []
    },
    {
      "cell_type": "markdown",
      "metadata": {
        "id": "8wSKvSu4s5ip",
        "colab_type": "text"
      },
      "source": [
        "#Building Network"
      ]
    },
    {
      "cell_type": "code",
      "metadata": {
        "id": "1tX_y6KKs3pM",
        "colab_type": "code",
        "colab": {}
      },
      "source": [
        "from keras import models"
      ],
      "execution_count": 0,
      "outputs": []
    },
    {
      "cell_type": "code",
      "metadata": {
        "id": "ShwM6YMqsxxJ",
        "colab_type": "code",
        "colab": {}
      },
      "source": [
        "from keras import layers"
      ],
      "execution_count": 0,
      "outputs": []
    },
    {
      "cell_type": "code",
      "metadata": {
        "id": "1dpwVvLEiSot",
        "colab_type": "code",
        "colab": {}
      },
      "source": [
        "from keras.optimizers import RMSprop\n",
        "from keras.optimizers import Adagrad\n",
        "from keras.optimizers import Adadelta\n",
        "from keras.optimizers import Adam\n",
        "from keras.optimizers import Adamax\n",
        "from keras.optimizers import Nadam\n",
        "from keras.optimizers import SGD"
      ],
      "execution_count": 0,
      "outputs": []
    },
    {
      "cell_type": "code",
      "metadata": {
        "id": "PfLUIW9Mgjsp",
        "colab_type": "code",
        "colab": {}
      },
      "source": [
        "from keras import regularizers"
      ],
      "execution_count": 0,
      "outputs": []
    },
    {
      "cell_type": "code",
      "metadata": {
        "id": "7OAEgN31tHVV",
        "colab_type": "code",
        "colab": {}
      },
      "source": [
        "def build_model():\n",
        "  model = models.Sequential()\n",
        "  model.add(layers.Dense(14, activation='relu', kernel_regularizer=regularizers.l1_l2(l1=0.001, l2=0.001), \n",
        "                         input_shape=(9,)))\n",
        "  model.add(layers.Dense(14, activation='relu', kernel_regularizer=regularizers.l1_l2(l1=0.001, l2=0.001)))\n",
        "  #model.add(layers.Dense(32, activation='relu', kernel_regularizer=regularizers.l1_l2(l1=0.001, l2=0.001)))\n",
        "\n",
        "  model.add(layers.Dense(1))\n",
        "\n",
        "  rmsp = RMSprop(lr=0.01)\n",
        "  adagrad = Adagrad(lr=0.01)\n",
        "  adadelta = Adadelta(lr=1.0, rho=0.95)\n",
        "  adam = Adam(lr=0.001, beta_1=0.9, beta_2=0.999, amsgrad=False)\n",
        "  adamax = Adamax(lr=0.002, beta_1=0.9, beta_2=0.999)\n",
        "  nadam = Nadam(lr=0.002, beta_1=0.9, beta_2=0.999)\n",
        "#  sgd = SGD(lr=0.01, momentum=0.0, nesterov=False) # NON UTILIZZABILE\n",
        "#  optimizer='rmsprop'\n",
        "\n",
        "  model.compile(optimizer=adam, loss='mse', metrics=['mae'])\n",
        "  return model"
      ],
      "execution_count": 0,
      "outputs": []
    },
    {
      "cell_type": "markdown",
      "metadata": {
        "id": "sA7Ye1SZDUXB",
        "colab_type": "text"
      },
      "source": [
        "Note that you compile the network with the mse loss function—mean squared error,\n",
        "the square of the difference between the predictions and the targets. This is a widely\n",
        "used loss function for regression problems.\n",
        "\n"
      ]
    },
    {
      "cell_type": "markdown",
      "metadata": {
        "id": "jXmq-i3sDXQA",
        "colab_type": "text"
      },
      "source": [
        "You’re also monitoring a new metric during training: mean absolute error (MAE). It’s\n",
        "the absolute value of the difference between the predictions and the targets. For\n",
        "instance, an MAE of 0.5 on this problem would mean your predictions are off by $500\n",
        "on average."
      ]
    },
    {
      "cell_type": "code",
      "metadata": {
        "id": "oGBwn5RnEdHR",
        "colab_type": "code",
        "colab": {}
      },
      "source": [
        "from keras.callbacks import ReduceLROnPlateau\n",
        "red_lr = ReduceLROnPlateau('loss', patience=5, verbose=1, min_lr=0.0001)"
      ],
      "execution_count": 0,
      "outputs": []
    },
    {
      "cell_type": "code",
      "metadata": {
        "id": "35Hc4rG203_u",
        "colab_type": "code",
        "outputId": "c08fa6c6-12d1-4eed-fe53-49aa173a695b",
        "colab": {
          "base_uri": "https://localhost:8080/",
          "height": 1000
        }
      },
      "source": [
        "num_epochs = 500\n",
        "\n",
        "model = build_model()\n",
        "history = model.fit(train_data_stand_pca, train_targets, validation_data=(val_data_stand_pca, val_targets), \n",
        "                      epochs= num_epochs, batch_size=1, callbacks=[red_lr])\n",
        "  \n",
        "mae_history = history.history['mean_absolute_error']\n",
        "mae_val_history = history.history['val_mean_absolute_error']\n",
        "loss_history = history.history['loss']\n",
        "loss_val_history = history.history['val_loss']"
      ],
      "execution_count": 0,
      "outputs": [
        {
          "output_type": "stream",
          "text": [
            "WARNING:tensorflow:From /usr/local/lib/python3.6/dist-packages/keras/backend/tensorflow_backend.py:541: The name tf.placeholder is deprecated. Please use tf.compat.v1.placeholder instead.\n",
            "\n",
            "WARNING:tensorflow:From /usr/local/lib/python3.6/dist-packages/keras/backend/tensorflow_backend.py:4432: The name tf.random_uniform is deprecated. Please use tf.random.uniform instead.\n",
            "\n",
            "WARNING:tensorflow:From /usr/local/lib/python3.6/dist-packages/keras/optimizers.py:793: The name tf.train.Optimizer is deprecated. Please use tf.compat.v1.train.Optimizer instead.\n",
            "\n",
            "WARNING:tensorflow:From /usr/local/lib/python3.6/dist-packages/keras/backend/tensorflow_backend.py:1033: The name tf.assign_add is deprecated. Please use tf.compat.v1.assign_add instead.\n",
            "\n",
            "WARNING:tensorflow:From /usr/local/lib/python3.6/dist-packages/keras/backend/tensorflow_backend.py:1020: The name tf.assign is deprecated. Please use tf.compat.v1.assign instead.\n",
            "\n",
            "Train on 105 samples, validate on 13 samples\n",
            "Epoch 1/500\n",
            "WARNING:tensorflow:From /usr/local/lib/python3.6/dist-packages/keras/backend/tensorflow_backend.py:190: The name tf.get_default_session is deprecated. Please use tf.compat.v1.get_default_session instead.\n",
            "\n",
            "WARNING:tensorflow:From /usr/local/lib/python3.6/dist-packages/keras/backend/tensorflow_backend.py:207: The name tf.global_variables is deprecated. Please use tf.compat.v1.global_variables instead.\n",
            "\n",
            "WARNING:tensorflow:From /usr/local/lib/python3.6/dist-packages/keras/backend/tensorflow_backend.py:216: The name tf.is_variable_initialized is deprecated. Please use tf.compat.v1.is_variable_initialized instead.\n",
            "\n",
            "WARNING:tensorflow:From /usr/local/lib/python3.6/dist-packages/keras/backend/tensorflow_backend.py:223: The name tf.variables_initializer is deprecated. Please use tf.compat.v1.variables_initializer instead.\n",
            "\n",
            "105/105 [==============================] - 0s 4ms/step - loss: 717.6294 - mean_absolute_error: 20.8151 - val_loss: 512.3937 - val_mean_absolute_error: 18.0683\n",
            "Epoch 2/500\n",
            "105/105 [==============================] - 0s 1ms/step - loss: 672.0505 - mean_absolute_error: 19.7609 - val_loss: 459.3940 - val_mean_absolute_error: 16.4150\n",
            "Epoch 3/500\n",
            "105/105 [==============================] - 0s 1ms/step - loss: 595.3188 - mean_absolute_error: 17.9075 - val_loss: 369.5470 - val_mean_absolute_error: 14.0914\n",
            "Epoch 4/500\n",
            "105/105 [==============================] - 0s 1ms/step - loss: 478.5860 - mean_absolute_error: 15.6120 - val_loss: 274.3427 - val_mean_absolute_error: 11.9375\n",
            "Epoch 5/500\n",
            "105/105 [==============================] - 0s 1ms/step - loss: 361.8289 - mean_absolute_error: 13.3732 - val_loss: 228.1923 - val_mean_absolute_error: 12.4002\n",
            "Epoch 6/500\n",
            "105/105 [==============================] - 0s 1ms/step - loss: 291.6929 - mean_absolute_error: 12.3678 - val_loss: 224.6204 - val_mean_absolute_error: 13.0222\n",
            "Epoch 7/500\n",
            "105/105 [==============================] - 0s 1ms/step - loss: 259.8444 - mean_absolute_error: 12.0521 - val_loss: 227.0592 - val_mean_absolute_error: 13.3019\n",
            "Epoch 8/500\n",
            "105/105 [==============================] - 0s 1ms/step - loss: 246.8376 - mean_absolute_error: 11.8373 - val_loss: 228.2613 - val_mean_absolute_error: 13.4912\n",
            "Epoch 9/500\n",
            "105/105 [==============================] - 0s 1ms/step - loss: 240.3159 - mean_absolute_error: 11.8140 - val_loss: 229.7865 - val_mean_absolute_error: 13.6584\n",
            "Epoch 10/500\n",
            "105/105 [==============================] - 0s 1ms/step - loss: 234.5825 - mean_absolute_error: 11.7182 - val_loss: 225.6095 - val_mean_absolute_error: 13.5542\n",
            "Epoch 11/500\n",
            "105/105 [==============================] - 0s 1ms/step - loss: 231.5538 - mean_absolute_error: 11.6619 - val_loss: 222.8891 - val_mean_absolute_error: 13.4950\n",
            "Epoch 12/500\n",
            "105/105 [==============================] - 0s 1ms/step - loss: 227.3075 - mean_absolute_error: 11.4866 - val_loss: 218.4934 - val_mean_absolute_error: 13.4000\n",
            "Epoch 13/500\n",
            "105/105 [==============================] - 0s 1ms/step - loss: 224.7200 - mean_absolute_error: 11.5135 - val_loss: 220.9574 - val_mean_absolute_error: 13.4644\n",
            "Epoch 14/500\n",
            "105/105 [==============================] - 0s 1ms/step - loss: 222.1852 - mean_absolute_error: 11.3885 - val_loss: 218.4345 - val_mean_absolute_error: 13.3830\n",
            "Epoch 15/500\n",
            "105/105 [==============================] - 0s 1ms/step - loss: 220.7955 - mean_absolute_error: 11.3332 - val_loss: 218.7071 - val_mean_absolute_error: 13.3564\n",
            "Epoch 16/500\n",
            "105/105 [==============================] - 0s 1ms/step - loss: 217.8247 - mean_absolute_error: 11.2699 - val_loss: 218.6924 - val_mean_absolute_error: 13.3717\n",
            "Epoch 17/500\n",
            "105/105 [==============================] - 0s 1ms/step - loss: 216.5234 - mean_absolute_error: 11.1302 - val_loss: 217.2020 - val_mean_absolute_error: 13.3017\n",
            "Epoch 18/500\n",
            "105/105 [==============================] - 0s 1ms/step - loss: 214.1802 - mean_absolute_error: 11.1363 - val_loss: 220.1360 - val_mean_absolute_error: 13.3881\n",
            "Epoch 19/500\n",
            "105/105 [==============================] - 0s 1ms/step - loss: 213.9526 - mean_absolute_error: 11.1153 - val_loss: 221.4981 - val_mean_absolute_error: 13.4253\n",
            "Epoch 20/500\n",
            "105/105 [==============================] - 0s 1ms/step - loss: 212.6299 - mean_absolute_error: 10.9944 - val_loss: 219.3967 - val_mean_absolute_error: 13.3140\n",
            "Epoch 21/500\n",
            "105/105 [==============================] - 0s 1ms/step - loss: 210.6875 - mean_absolute_error: 11.0582 - val_loss: 220.3866 - val_mean_absolute_error: 13.3191\n",
            "Epoch 22/500\n",
            "105/105 [==============================] - 0s 1ms/step - loss: 210.1462 - mean_absolute_error: 10.9305 - val_loss: 217.9612 - val_mean_absolute_error: 13.2236\n",
            "Epoch 23/500\n",
            "105/105 [==============================] - 0s 1ms/step - loss: 209.7565 - mean_absolute_error: 10.9225 - val_loss: 217.9359 - val_mean_absolute_error: 13.2046\n",
            "Epoch 24/500\n",
            "105/105 [==============================] - 0s 1ms/step - loss: 207.8262 - mean_absolute_error: 10.8932 - val_loss: 220.2339 - val_mean_absolute_error: 13.2813\n",
            "Epoch 25/500\n",
            "105/105 [==============================] - 0s 1ms/step - loss: 207.1635 - mean_absolute_error: 10.8848 - val_loss: 222.7714 - val_mean_absolute_error: 13.3057\n",
            "Epoch 26/500\n",
            "105/105 [==============================] - 0s 1ms/step - loss: 205.3789 - mean_absolute_error: 10.8271 - val_loss: 218.6665 - val_mean_absolute_error: 13.1902\n",
            "Epoch 27/500\n",
            "105/105 [==============================] - 0s 1ms/step - loss: 205.3453 - mean_absolute_error: 10.9014 - val_loss: 218.5170 - val_mean_absolute_error: 13.1498\n",
            "Epoch 28/500\n",
            "105/105 [==============================] - 0s 1ms/step - loss: 203.8382 - mean_absolute_error: 10.7470 - val_loss: 221.3401 - val_mean_absolute_error: 13.2369\n",
            "Epoch 29/500\n",
            "105/105 [==============================] - 0s 1ms/step - loss: 202.8162 - mean_absolute_error: 10.7689 - val_loss: 218.4865 - val_mean_absolute_error: 13.1228\n",
            "Epoch 30/500\n",
            "105/105 [==============================] - 0s 1ms/step - loss: 201.9015 - mean_absolute_error: 10.6757 - val_loss: 218.5739 - val_mean_absolute_error: 13.1100\n",
            "Epoch 31/500\n",
            "105/105 [==============================] - 0s 1ms/step - loss: 201.7302 - mean_absolute_error: 10.7606 - val_loss: 221.0631 - val_mean_absolute_error: 13.1722\n",
            "Epoch 32/500\n",
            "105/105 [==============================] - 0s 1ms/step - loss: 201.3014 - mean_absolute_error: 10.6811 - val_loss: 218.0622 - val_mean_absolute_error: 13.0693\n",
            "Epoch 33/500\n",
            "105/105 [==============================] - 0s 1ms/step - loss: 200.4057 - mean_absolute_error: 10.6301 - val_loss: 221.5964 - val_mean_absolute_error: 13.1415\n",
            "Epoch 34/500\n",
            "105/105 [==============================] - 0s 1ms/step - loss: 198.1972 - mean_absolute_error: 10.5422 - val_loss: 222.7659 - val_mean_absolute_error: 13.1809\n",
            "Epoch 35/500\n",
            "105/105 [==============================] - 0s 1ms/step - loss: 198.0151 - mean_absolute_error: 10.6332 - val_loss: 224.5768 - val_mean_absolute_error: 13.1976\n",
            "Epoch 36/500\n",
            "105/105 [==============================] - 0s 1ms/step - loss: 197.0040 - mean_absolute_error: 10.6187 - val_loss: 225.5190 - val_mean_absolute_error: 13.2102\n",
            "Epoch 37/500\n",
            "105/105 [==============================] - 0s 1ms/step - loss: 196.9955 - mean_absolute_error: 10.5566 - val_loss: 224.8357 - val_mean_absolute_error: 13.1439\n",
            "Epoch 38/500\n",
            "105/105 [==============================] - 0s 1ms/step - loss: 195.2860 - mean_absolute_error: 10.5238 - val_loss: 224.4454 - val_mean_absolute_error: 13.1155\n",
            "Epoch 39/500\n",
            "105/105 [==============================] - 0s 1ms/step - loss: 195.3969 - mean_absolute_error: 10.4262 - val_loss: 223.6208 - val_mean_absolute_error: 13.0889\n",
            "Epoch 40/500\n",
            "105/105 [==============================] - 0s 1ms/step - loss: 194.2435 - mean_absolute_error: 10.4469 - val_loss: 224.4353 - val_mean_absolute_error: 13.0932\n",
            "Epoch 41/500\n",
            "105/105 [==============================] - 0s 1ms/step - loss: 192.5767 - mean_absolute_error: 10.4463 - val_loss: 226.7504 - val_mean_absolute_error: 13.1700\n",
            "Epoch 42/500\n",
            "105/105 [==============================] - 0s 1ms/step - loss: 192.4727 - mean_absolute_error: 10.4342 - val_loss: 227.3687 - val_mean_absolute_error: 13.1513\n",
            "Epoch 43/500\n",
            "105/105 [==============================] - 0s 1ms/step - loss: 192.9981 - mean_absolute_error: 10.3992 - val_loss: 224.8796 - val_mean_absolute_error: 13.0262\n",
            "Epoch 44/500\n",
            "105/105 [==============================] - 0s 1ms/step - loss: 190.6774 - mean_absolute_error: 10.3670 - val_loss: 229.1543 - val_mean_absolute_error: 13.1327\n",
            "Epoch 45/500\n",
            "105/105 [==============================] - 0s 1ms/step - loss: 190.1834 - mean_absolute_error: 10.3474 - val_loss: 228.6721 - val_mean_absolute_error: 13.1207\n",
            "Epoch 46/500\n",
            "105/105 [==============================] - 0s 1ms/step - loss: 190.5041 - mean_absolute_error: 10.3164 - val_loss: 230.0464 - val_mean_absolute_error: 13.1539\n",
            "Epoch 47/500\n",
            "105/105 [==============================] - 0s 1ms/step - loss: 188.2434 - mean_absolute_error: 10.2786 - val_loss: 230.0703 - val_mean_absolute_error: 13.1236\n",
            "Epoch 48/500\n",
            "105/105 [==============================] - 0s 1ms/step - loss: 188.1494 - mean_absolute_error: 10.3078 - val_loss: 230.0317 - val_mean_absolute_error: 13.1044\n",
            "Epoch 49/500\n",
            "105/105 [==============================] - 0s 1ms/step - loss: 188.4148 - mean_absolute_error: 10.2451 - val_loss: 231.1075 - val_mean_absolute_error: 13.1182\n",
            "Epoch 50/500\n",
            "105/105 [==============================] - 0s 1ms/step - loss: 187.0896 - mean_absolute_error: 10.2731 - val_loss: 231.4864 - val_mean_absolute_error: 13.0784\n",
            "Epoch 51/500\n",
            "105/105 [==============================] - 0s 1ms/step - loss: 186.6228 - mean_absolute_error: 10.2270 - val_loss: 235.1779 - val_mean_absolute_error: 13.1662\n",
            "Epoch 52/500\n",
            "105/105 [==============================] - 0s 1ms/step - loss: 185.7328 - mean_absolute_error: 10.2114 - val_loss: 236.9814 - val_mean_absolute_error: 13.2020\n",
            "Epoch 53/500\n",
            "105/105 [==============================] - 0s 1ms/step - loss: 185.2239 - mean_absolute_error: 10.2306 - val_loss: 235.5200 - val_mean_absolute_error: 13.0978\n",
            "Epoch 54/500\n",
            "105/105 [==============================] - 0s 1ms/step - loss: 184.6304 - mean_absolute_error: 10.2098 - val_loss: 233.3180 - val_mean_absolute_error: 13.0531\n",
            "Epoch 55/500\n",
            "105/105 [==============================] - 0s 1ms/step - loss: 185.0778 - mean_absolute_error: 10.1527 - val_loss: 234.7924 - val_mean_absolute_error: 13.0740\n",
            "Epoch 56/500\n",
            "105/105 [==============================] - 0s 1ms/step - loss: 184.1818 - mean_absolute_error: 10.0579 - val_loss: 242.4150 - val_mean_absolute_error: 13.2452\n",
            "Epoch 57/500\n",
            "105/105 [==============================] - 0s 1ms/step - loss: 182.5205 - mean_absolute_error: 10.1542 - val_loss: 238.7305 - val_mean_absolute_error: 13.1860\n",
            "Epoch 58/500\n",
            "105/105 [==============================] - 0s 1ms/step - loss: 183.5196 - mean_absolute_error: 10.1207 - val_loss: 241.6471 - val_mean_absolute_error: 13.2424\n",
            "Epoch 59/500\n",
            "105/105 [==============================] - 0s 1ms/step - loss: 181.6788 - mean_absolute_error: 10.0348 - val_loss: 235.9284 - val_mean_absolute_error: 13.1610\n",
            "Epoch 60/500\n",
            "105/105 [==============================] - 0s 1ms/step - loss: 181.2840 - mean_absolute_error: 10.0995 - val_loss: 239.5583 - val_mean_absolute_error: 13.2468\n",
            "Epoch 61/500\n",
            "105/105 [==============================] - 0s 1ms/step - loss: 181.4313 - mean_absolute_error: 10.0865 - val_loss: 241.3267 - val_mean_absolute_error: 13.3015\n",
            "Epoch 62/500\n",
            "105/105 [==============================] - 0s 1ms/step - loss: 179.2930 - mean_absolute_error: 9.9746 - val_loss: 243.6336 - val_mean_absolute_error: 13.3752\n",
            "Epoch 63/500\n",
            "105/105 [==============================] - 0s 1ms/step - loss: 179.2890 - mean_absolute_error: 9.9480 - val_loss: 243.7851 - val_mean_absolute_error: 13.4298\n",
            "Epoch 64/500\n",
            "105/105 [==============================] - 0s 1ms/step - loss: 178.5083 - mean_absolute_error: 9.9684 - val_loss: 244.0440 - val_mean_absolute_error: 13.4455\n",
            "Epoch 65/500\n",
            "105/105 [==============================] - 0s 1ms/step - loss: 178.3713 - mean_absolute_error: 9.9388 - val_loss: 252.4145 - val_mean_absolute_error: 13.5465\n",
            "Epoch 66/500\n",
            "105/105 [==============================] - 0s 1ms/step - loss: 176.5662 - mean_absolute_error: 9.9201 - val_loss: 250.5274 - val_mean_absolute_error: 13.5533\n",
            "Epoch 67/500\n",
            "105/105 [==============================] - 0s 1ms/step - loss: 176.4487 - mean_absolute_error: 9.8911 - val_loss: 246.2377 - val_mean_absolute_error: 13.5448\n",
            "Epoch 68/500\n",
            "105/105 [==============================] - 0s 1ms/step - loss: 175.7501 - mean_absolute_error: 9.9122 - val_loss: 247.5661 - val_mean_absolute_error: 13.6000\n",
            "Epoch 69/500\n",
            "105/105 [==============================] - 0s 1ms/step - loss: 175.0819 - mean_absolute_error: 9.7127 - val_loss: 255.6303 - val_mean_absolute_error: 13.7346\n",
            "Epoch 70/500\n",
            "105/105 [==============================] - 0s 985us/step - loss: 173.4160 - mean_absolute_error: 9.7582 - val_loss: 252.9050 - val_mean_absolute_error: 13.7218\n",
            "Epoch 71/500\n",
            "105/105 [==============================] - 0s 1ms/step - loss: 172.6855 - mean_absolute_error: 9.8136 - val_loss: 255.9532 - val_mean_absolute_error: 13.8106\n",
            "Epoch 72/500\n",
            "105/105 [==============================] - 0s 953us/step - loss: 173.3046 - mean_absolute_error: 9.7294 - val_loss: 255.6235 - val_mean_absolute_error: 13.7566\n",
            "Epoch 73/500\n",
            "105/105 [==============================] - 0s 985us/step - loss: 170.9798 - mean_absolute_error: 9.6658 - val_loss: 256.5962 - val_mean_absolute_error: 13.8923\n",
            "Epoch 74/500\n",
            "105/105 [==============================] - 0s 952us/step - loss: 169.5345 - mean_absolute_error: 9.5817 - val_loss: 258.3458 - val_mean_absolute_error: 13.9127\n",
            "Epoch 75/500\n",
            "105/105 [==============================] - 0s 993us/step - loss: 170.0529 - mean_absolute_error: 9.7103 - val_loss: 260.4727 - val_mean_absolute_error: 13.9710\n",
            "Epoch 76/500\n",
            "105/105 [==============================] - 0s 989us/step - loss: 168.8523 - mean_absolute_error: 9.5974 - val_loss: 259.2210 - val_mean_absolute_error: 14.0041\n",
            "Epoch 77/500\n",
            "105/105 [==============================] - 0s 964us/step - loss: 168.1356 - mean_absolute_error: 9.5228 - val_loss: 265.4110 - val_mean_absolute_error: 14.1092\n",
            "Epoch 78/500\n",
            "105/105 [==============================] - 0s 954us/step - loss: 166.7485 - mean_absolute_error: 9.4656 - val_loss: 259.0612 - val_mean_absolute_error: 14.0400\n",
            "Epoch 79/500\n",
            "105/105 [==============================] - 0s 975us/step - loss: 165.2867 - mean_absolute_error: 9.4036 - val_loss: 265.4553 - val_mean_absolute_error: 14.1306\n",
            "Epoch 80/500\n",
            "105/105 [==============================] - 0s 1000us/step - loss: 166.0386 - mean_absolute_error: 9.4417 - val_loss: 266.8408 - val_mean_absolute_error: 14.1640\n",
            "Epoch 81/500\n",
            "105/105 [==============================] - 0s 1ms/step - loss: 164.2352 - mean_absolute_error: 9.3845 - val_loss: 270.0023 - val_mean_absolute_error: 14.2127\n",
            "Epoch 82/500\n",
            "105/105 [==============================] - 0s 1ms/step - loss: 163.5893 - mean_absolute_error: 9.4228 - val_loss: 271.0134 - val_mean_absolute_error: 14.2837\n",
            "Epoch 83/500\n",
            "105/105 [==============================] - 0s 973us/step - loss: 162.0138 - mean_absolute_error: 9.3372 - val_loss: 268.9463 - val_mean_absolute_error: 14.2573\n",
            "Epoch 84/500\n",
            "105/105 [==============================] - 0s 1ms/step - loss: 161.6111 - mean_absolute_error: 9.2338 - val_loss: 266.3613 - val_mean_absolute_error: 14.2541\n",
            "Epoch 85/500\n",
            "105/105 [==============================] - 0s 1ms/step - loss: 159.8797 - mean_absolute_error: 9.2519 - val_loss: 276.6668 - val_mean_absolute_error: 14.4332\n",
            "Epoch 86/500\n",
            "105/105 [==============================] - 0s 1ms/step - loss: 159.9070 - mean_absolute_error: 9.2850 - val_loss: 273.2485 - val_mean_absolute_error: 14.4193\n",
            "Epoch 87/500\n",
            "105/105 [==============================] - 0s 1ms/step - loss: 158.7670 - mean_absolute_error: 9.1873 - val_loss: 274.8933 - val_mean_absolute_error: 14.4427\n",
            "Epoch 88/500\n",
            "105/105 [==============================] - 0s 1ms/step - loss: 157.5655 - mean_absolute_error: 9.1512 - val_loss: 277.6278 - val_mean_absolute_error: 14.5560\n",
            "Epoch 89/500\n",
            "105/105 [==============================] - 0s 1ms/step - loss: 157.1909 - mean_absolute_error: 9.0727 - val_loss: 278.4664 - val_mean_absolute_error: 14.5922\n",
            "Epoch 90/500\n",
            "105/105 [==============================] - 0s 1ms/step - loss: 155.6172 - mean_absolute_error: 9.0944 - val_loss: 279.1828 - val_mean_absolute_error: 14.6134\n",
            "Epoch 91/500\n",
            "105/105 [==============================] - 0s 1ms/step - loss: 155.6648 - mean_absolute_error: 9.0702 - val_loss: 280.6926 - val_mean_absolute_error: 14.6400\n",
            "Epoch 92/500\n",
            "105/105 [==============================] - 0s 1ms/step - loss: 153.2036 - mean_absolute_error: 8.9432 - val_loss: 285.0570 - val_mean_absolute_error: 14.7696\n",
            "Epoch 93/500\n",
            "105/105 [==============================] - 0s 1ms/step - loss: 152.4272 - mean_absolute_error: 8.9301 - val_loss: 284.9271 - val_mean_absolute_error: 14.7794\n",
            "Epoch 94/500\n",
            "105/105 [==============================] - 0s 1ms/step - loss: 151.4652 - mean_absolute_error: 8.8857 - val_loss: 291.3447 - val_mean_absolute_error: 14.9498\n",
            "Epoch 95/500\n",
            "105/105 [==============================] - 0s 1ms/step - loss: 150.5988 - mean_absolute_error: 8.8073 - val_loss: 292.2235 - val_mean_absolute_error: 14.9478\n",
            "Epoch 96/500\n",
            "105/105 [==============================] - 0s 1ms/step - loss: 150.1897 - mean_absolute_error: 8.8673 - val_loss: 296.7288 - val_mean_absolute_error: 15.0436\n",
            "Epoch 97/500\n",
            "105/105 [==============================] - 0s 1ms/step - loss: 149.4049 - mean_absolute_error: 8.7526 - val_loss: 292.0704 - val_mean_absolute_error: 14.9481\n",
            "Epoch 98/500\n",
            "105/105 [==============================] - 0s 1ms/step - loss: 147.7689 - mean_absolute_error: 8.7247 - val_loss: 292.4507 - val_mean_absolute_error: 14.9599\n",
            "Epoch 99/500\n",
            "105/105 [==============================] - 0s 1ms/step - loss: 146.1393 - mean_absolute_error: 8.6514 - val_loss: 296.3507 - val_mean_absolute_error: 15.0464\n",
            "Epoch 100/500\n",
            "105/105 [==============================] - 0s 1ms/step - loss: 144.9550 - mean_absolute_error: 8.6044 - val_loss: 299.6984 - val_mean_absolute_error: 15.1095\n",
            "Epoch 101/500\n",
            "105/105 [==============================] - 0s 1ms/step - loss: 144.2351 - mean_absolute_error: 8.6547 - val_loss: 305.9304 - val_mean_absolute_error: 15.2736\n",
            "Epoch 102/500\n",
            "105/105 [==============================] - 0s 1ms/step - loss: 142.8491 - mean_absolute_error: 8.4618 - val_loss: 307.4406 - val_mean_absolute_error: 15.2148\n",
            "Epoch 103/500\n",
            "105/105 [==============================] - 0s 1ms/step - loss: 141.4489 - mean_absolute_error: 8.4962 - val_loss: 308.6658 - val_mean_absolute_error: 15.3073\n",
            "Epoch 104/500\n",
            "105/105 [==============================] - 0s 1ms/step - loss: 140.3036 - mean_absolute_error: 8.3877 - val_loss: 312.9473 - val_mean_absolute_error: 15.3236\n",
            "Epoch 105/500\n",
            "105/105 [==============================] - 0s 1ms/step - loss: 139.2545 - mean_absolute_error: 8.3863 - val_loss: 319.0202 - val_mean_absolute_error: 15.4867\n",
            "Epoch 106/500\n",
            "105/105 [==============================] - 0s 1ms/step - loss: 138.3403 - mean_absolute_error: 8.2665 - val_loss: 327.4707 - val_mean_absolute_error: 15.6123\n",
            "Epoch 107/500\n",
            "105/105 [==============================] - 0s 1ms/step - loss: 137.1898 - mean_absolute_error: 8.3815 - val_loss: 326.2652 - val_mean_absolute_error: 15.6716\n",
            "Epoch 108/500\n",
            "105/105 [==============================] - 0s 1000us/step - loss: 135.3359 - mean_absolute_error: 8.0985 - val_loss: 328.9459 - val_mean_absolute_error: 15.6643\n",
            "Epoch 109/500\n",
            "105/105 [==============================] - 0s 1ms/step - loss: 134.2742 - mean_absolute_error: 8.1936 - val_loss: 326.2824 - val_mean_absolute_error: 15.7142\n",
            "Epoch 110/500\n",
            "105/105 [==============================] - 0s 1ms/step - loss: 133.7046 - mean_absolute_error: 8.1396 - val_loss: 326.1242 - val_mean_absolute_error: 15.6689\n",
            "Epoch 111/500\n",
            "105/105 [==============================] - 0s 1ms/step - loss: 132.3407 - mean_absolute_error: 8.1015 - val_loss: 327.7531 - val_mean_absolute_error: 15.7637\n",
            "Epoch 112/500\n",
            "105/105 [==============================] - 0s 1ms/step - loss: 131.1171 - mean_absolute_error: 7.9814 - val_loss: 332.8630 - val_mean_absolute_error: 15.7819\n",
            "Epoch 113/500\n",
            "105/105 [==============================] - 0s 1ms/step - loss: 130.1321 - mean_absolute_error: 7.9578 - val_loss: 335.2466 - val_mean_absolute_error: 15.8894\n",
            "Epoch 114/500\n",
            "105/105 [==============================] - 0s 1ms/step - loss: 128.3788 - mean_absolute_error: 7.9492 - val_loss: 335.1647 - val_mean_absolute_error: 15.8915\n",
            "Epoch 115/500\n",
            "105/105 [==============================] - 0s 1ms/step - loss: 127.2089 - mean_absolute_error: 7.9091 - val_loss: 336.1430 - val_mean_absolute_error: 15.9361\n",
            "Epoch 116/500\n",
            "105/105 [==============================] - 0s 1ms/step - loss: 126.6509 - mean_absolute_error: 7.7294 - val_loss: 336.2949 - val_mean_absolute_error: 15.9686\n",
            "Epoch 117/500\n",
            "105/105 [==============================] - 0s 1ms/step - loss: 125.5423 - mean_absolute_error: 7.7729 - val_loss: 340.0148 - val_mean_absolute_error: 15.9927\n",
            "Epoch 118/500\n",
            "105/105 [==============================] - 0s 1ms/step - loss: 123.9287 - mean_absolute_error: 7.7243 - val_loss: 344.9770 - val_mean_absolute_error: 16.0506\n",
            "Epoch 119/500\n",
            "105/105 [==============================] - 0s 1ms/step - loss: 122.6489 - mean_absolute_error: 7.6208 - val_loss: 343.0754 - val_mean_absolute_error: 16.0530\n",
            "Epoch 120/500\n",
            "105/105 [==============================] - 0s 1ms/step - loss: 121.9279 - mean_absolute_error: 7.5077 - val_loss: 353.5891 - val_mean_absolute_error: 16.0884\n",
            "Epoch 121/500\n",
            "105/105 [==============================] - 0s 1ms/step - loss: 122.2928 - mean_absolute_error: 7.4940 - val_loss: 342.2059 - val_mean_absolute_error: 16.0234\n",
            "Epoch 122/500\n",
            "105/105 [==============================] - 0s 1ms/step - loss: 119.5460 - mean_absolute_error: 7.4790 - val_loss: 346.2470 - val_mean_absolute_error: 16.1233\n",
            "Epoch 123/500\n",
            "105/105 [==============================] - 0s 1ms/step - loss: 120.1615 - mean_absolute_error: 7.4130 - val_loss: 347.6434 - val_mean_absolute_error: 16.1166\n",
            "Epoch 124/500\n",
            "105/105 [==============================] - 0s 1ms/step - loss: 117.3887 - mean_absolute_error: 7.3391 - val_loss: 344.5604 - val_mean_absolute_error: 16.0748\n",
            "Epoch 125/500\n",
            "105/105 [==============================] - 0s 1ms/step - loss: 116.6391 - mean_absolute_error: 7.2032 - val_loss: 350.3670 - val_mean_absolute_error: 16.1903\n",
            "Epoch 126/500\n",
            "105/105 [==============================] - 0s 1ms/step - loss: 114.6520 - mean_absolute_error: 7.2091 - val_loss: 349.4103 - val_mean_absolute_error: 16.1273\n",
            "Epoch 127/500\n",
            "105/105 [==============================] - 0s 1ms/step - loss: 114.8159 - mean_absolute_error: 7.1344 - val_loss: 356.6344 - val_mean_absolute_error: 16.2240\n",
            "Epoch 128/500\n",
            "105/105 [==============================] - 0s 1ms/step - loss: 114.1783 - mean_absolute_error: 7.0974 - val_loss: 347.2850 - val_mean_absolute_error: 16.1388\n",
            "Epoch 129/500\n",
            "105/105 [==============================] - 0s 1ms/step - loss: 111.8243 - mean_absolute_error: 7.0273 - val_loss: 357.0697 - val_mean_absolute_error: 16.2568\n",
            "Epoch 130/500\n",
            "105/105 [==============================] - 0s 1ms/step - loss: 111.3976 - mean_absolute_error: 7.0913 - val_loss: 359.2777 - val_mean_absolute_error: 16.2923\n",
            "Epoch 131/500\n",
            "105/105 [==============================] - 0s 1ms/step - loss: 110.9709 - mean_absolute_error: 6.9744 - val_loss: 356.6822 - val_mean_absolute_error: 16.2738\n",
            "Epoch 132/500\n",
            "105/105 [==============================] - 0s 1ms/step - loss: 109.9193 - mean_absolute_error: 6.8912 - val_loss: 355.1063 - val_mean_absolute_error: 16.2309\n",
            "Epoch 133/500\n",
            "105/105 [==============================] - 0s 1ms/step - loss: 109.4840 - mean_absolute_error: 6.8931 - val_loss: 357.3356 - val_mean_absolute_error: 16.2822\n",
            "Epoch 134/500\n",
            "105/105 [==============================] - 0s 1ms/step - loss: 107.8687 - mean_absolute_error: 6.8598 - val_loss: 358.6893 - val_mean_absolute_error: 16.4438\n",
            "Epoch 135/500\n",
            "105/105 [==============================] - 0s 1ms/step - loss: 107.8338 - mean_absolute_error: 6.8083 - val_loss: 356.5592 - val_mean_absolute_error: 16.5420\n",
            "Epoch 136/500\n",
            "105/105 [==============================] - 0s 1ms/step - loss: 107.2018 - mean_absolute_error: 6.7873 - val_loss: 357.5296 - val_mean_absolute_error: 16.3509\n",
            "Epoch 137/500\n",
            "105/105 [==============================] - 0s 1ms/step - loss: 104.9876 - mean_absolute_error: 6.7109 - val_loss: 360.7055 - val_mean_absolute_error: 16.4010\n",
            "Epoch 138/500\n",
            "105/105 [==============================] - 0s 1ms/step - loss: 104.2762 - mean_absolute_error: 6.6517 - val_loss: 357.0710 - val_mean_absolute_error: 16.4218\n",
            "Epoch 139/500\n",
            "105/105 [==============================] - 0s 1ms/step - loss: 104.2408 - mean_absolute_error: 6.6660 - val_loss: 365.8420 - val_mean_absolute_error: 16.3902\n",
            "Epoch 140/500\n",
            "105/105 [==============================] - 0s 1ms/step - loss: 103.5209 - mean_absolute_error: 6.6765 - val_loss: 359.4127 - val_mean_absolute_error: 16.6694\n",
            "Epoch 141/500\n",
            "105/105 [==============================] - 0s 1ms/step - loss: 102.3788 - mean_absolute_error: 6.6163 - val_loss: 361.5941 - val_mean_absolute_error: 16.6327\n",
            "Epoch 142/500\n",
            "105/105 [==============================] - 0s 1ms/step - loss: 102.3341 - mean_absolute_error: 6.5726 - val_loss: 365.2356 - val_mean_absolute_error: 16.6509\n",
            "Epoch 143/500\n",
            "105/105 [==============================] - 0s 1ms/step - loss: 100.7320 - mean_absolute_error: 6.4653 - val_loss: 365.7517 - val_mean_absolute_error: 16.7284\n",
            "Epoch 144/500\n",
            "105/105 [==============================] - 0s 1ms/step - loss: 100.4187 - mean_absolute_error: 6.5338 - val_loss: 359.4136 - val_mean_absolute_error: 16.6915\n",
            "Epoch 145/500\n",
            "105/105 [==============================] - 0s 1ms/step - loss: 98.9323 - mean_absolute_error: 6.4507 - val_loss: 367.6931 - val_mean_absolute_error: 16.6000\n",
            "Epoch 146/500\n",
            "105/105 [==============================] - 0s 1ms/step - loss: 98.5719 - mean_absolute_error: 6.4111 - val_loss: 365.4400 - val_mean_absolute_error: 16.8656\n",
            "Epoch 147/500\n",
            "105/105 [==============================] - 0s 1ms/step - loss: 97.9347 - mean_absolute_error: 6.4532 - val_loss: 363.6270 - val_mean_absolute_error: 16.8856\n",
            "Epoch 148/500\n",
            "105/105 [==============================] - 0s 1ms/step - loss: 97.3124 - mean_absolute_error: 6.4119 - val_loss: 367.0810 - val_mean_absolute_error: 16.8791\n",
            "Epoch 149/500\n",
            "105/105 [==============================] - 0s 1ms/step - loss: 97.5147 - mean_absolute_error: 6.3182 - val_loss: 365.2904 - val_mean_absolute_error: 16.8266\n",
            "Epoch 150/500\n",
            "105/105 [==============================] - 0s 1ms/step - loss: 95.9730 - mean_absolute_error: 6.4126 - val_loss: 369.0633 - val_mean_absolute_error: 17.0272\n",
            "Epoch 151/500\n",
            "105/105 [==============================] - 0s 1ms/step - loss: 95.4802 - mean_absolute_error: 6.3553 - val_loss: 380.2453 - val_mean_absolute_error: 17.0716\n",
            "Epoch 152/500\n",
            "105/105 [==============================] - 0s 1ms/step - loss: 94.7281 - mean_absolute_error: 6.3278 - val_loss: 379.3597 - val_mean_absolute_error: 17.0127\n",
            "Epoch 153/500\n",
            "105/105 [==============================] - 0s 1ms/step - loss: 93.8907 - mean_absolute_error: 6.2695 - val_loss: 376.0988 - val_mean_absolute_error: 17.0284\n",
            "Epoch 154/500\n",
            "105/105 [==============================] - 0s 1ms/step - loss: 93.6303 - mean_absolute_error: 6.2764 - val_loss: 371.7853 - val_mean_absolute_error: 17.1051\n",
            "Epoch 155/500\n",
            "105/105 [==============================] - 0s 1ms/step - loss: 92.5335 - mean_absolute_error: 6.2364 - val_loss: 377.5759 - val_mean_absolute_error: 17.1459\n",
            "Epoch 156/500\n",
            "105/105 [==============================] - 0s 1ms/step - loss: 91.7683 - mean_absolute_error: 6.1833 - val_loss: 381.3664 - val_mean_absolute_error: 17.3324\n",
            "Epoch 157/500\n",
            "105/105 [==============================] - 0s 1ms/step - loss: 91.6374 - mean_absolute_error: 6.1281 - val_loss: 378.2097 - val_mean_absolute_error: 17.1571\n",
            "Epoch 158/500\n",
            "105/105 [==============================] - 0s 1ms/step - loss: 91.0545 - mean_absolute_error: 6.1790 - val_loss: 373.7555 - val_mean_absolute_error: 17.1190\n",
            "Epoch 159/500\n",
            "105/105 [==============================] - 0s 1ms/step - loss: 90.1754 - mean_absolute_error: 6.1146 - val_loss: 384.4914 - val_mean_absolute_error: 17.1731\n",
            "Epoch 160/500\n",
            "105/105 [==============================] - 0s 1ms/step - loss: 89.2384 - mean_absolute_error: 6.0324 - val_loss: 388.8274 - val_mean_absolute_error: 17.2062\n",
            "Epoch 161/500\n",
            "105/105 [==============================] - 0s 1ms/step - loss: 88.8152 - mean_absolute_error: 6.0851 - val_loss: 394.4426 - val_mean_absolute_error: 17.4239\n",
            "Epoch 162/500\n",
            "105/105 [==============================] - 0s 1ms/step - loss: 87.5932 - mean_absolute_error: 6.0172 - val_loss: 389.6379 - val_mean_absolute_error: 17.2349\n",
            "Epoch 163/500\n",
            "105/105 [==============================] - 0s 1ms/step - loss: 87.2945 - mean_absolute_error: 6.0372 - val_loss: 383.0028 - val_mean_absolute_error: 17.2653\n",
            "Epoch 164/500\n",
            "105/105 [==============================] - 0s 1ms/step - loss: 86.1470 - mean_absolute_error: 6.0134 - val_loss: 386.3502 - val_mean_absolute_error: 16.9106\n",
            "Epoch 165/500\n",
            "105/105 [==============================] - 0s 1ms/step - loss: 86.4804 - mean_absolute_error: 5.9293 - val_loss: 389.4792 - val_mean_absolute_error: 17.2625\n",
            "Epoch 166/500\n",
            "105/105 [==============================] - 0s 1ms/step - loss: 84.7738 - mean_absolute_error: 5.8439 - val_loss: 378.1594 - val_mean_absolute_error: 16.9915\n",
            "Epoch 167/500\n",
            "105/105 [==============================] - 0s 1ms/step - loss: 85.1240 - mean_absolute_error: 5.9119 - val_loss: 386.7680 - val_mean_absolute_error: 17.2042\n",
            "Epoch 168/500\n",
            "105/105 [==============================] - 0s 1ms/step - loss: 83.6503 - mean_absolute_error: 5.8779 - val_loss: 374.5549 - val_mean_absolute_error: 17.0312\n",
            "Epoch 169/500\n",
            "105/105 [==============================] - 0s 1ms/step - loss: 83.0659 - mean_absolute_error: 5.7520 - val_loss: 389.9159 - val_mean_absolute_error: 17.0283\n",
            "Epoch 170/500\n",
            "105/105 [==============================] - 0s 1ms/step - loss: 82.7522 - mean_absolute_error: 5.8668 - val_loss: 385.4101 - val_mean_absolute_error: 17.3416\n",
            "Epoch 171/500\n",
            "105/105 [==============================] - 0s 1ms/step - loss: 82.5418 - mean_absolute_error: 5.7737 - val_loss: 396.4043 - val_mean_absolute_error: 17.2256\n",
            "Epoch 172/500\n",
            "105/105 [==============================] - 0s 1ms/step - loss: 82.0891 - mean_absolute_error: 5.7808 - val_loss: 387.6577 - val_mean_absolute_error: 17.2215\n",
            "Epoch 173/500\n",
            "105/105 [==============================] - 0s 1ms/step - loss: 81.3346 - mean_absolute_error: 5.6949 - val_loss: 390.0259 - val_mean_absolute_error: 17.2783\n",
            "Epoch 174/500\n",
            "105/105 [==============================] - 0s 1ms/step - loss: 79.4464 - mean_absolute_error: 5.6611 - val_loss: 392.9219 - val_mean_absolute_error: 17.1160\n",
            "Epoch 175/500\n",
            "105/105 [==============================] - 0s 1ms/step - loss: 79.5227 - mean_absolute_error: 5.6426 - val_loss: 397.5080 - val_mean_absolute_error: 17.3864\n",
            "Epoch 176/500\n",
            "105/105 [==============================] - 0s 1ms/step - loss: 79.2173 - mean_absolute_error: 5.6130 - val_loss: 393.4594 - val_mean_absolute_error: 17.3031\n",
            "Epoch 177/500\n",
            "105/105 [==============================] - 0s 1ms/step - loss: 78.0584 - mean_absolute_error: 5.5977 - val_loss: 397.4329 - val_mean_absolute_error: 17.1038\n",
            "Epoch 178/500\n",
            "105/105 [==============================] - 0s 1ms/step - loss: 77.3260 - mean_absolute_error: 5.5381 - val_loss: 399.9853 - val_mean_absolute_error: 17.1068\n",
            "Epoch 179/500\n",
            "105/105 [==============================] - 0s 1ms/step - loss: 76.5403 - mean_absolute_error: 5.6368 - val_loss: 397.8038 - val_mean_absolute_error: 17.2610\n",
            "Epoch 180/500\n",
            "105/105 [==============================] - 0s 1ms/step - loss: 77.0769 - mean_absolute_error: 5.5743 - val_loss: 399.3023 - val_mean_absolute_error: 17.0634\n",
            "Epoch 181/500\n",
            "105/105 [==============================] - 0s 1ms/step - loss: 75.5764 - mean_absolute_error: 5.4952 - val_loss: 404.3324 - val_mean_absolute_error: 17.2062\n",
            "Epoch 182/500\n",
            "105/105 [==============================] - 0s 1ms/step - loss: 75.6154 - mean_absolute_error: 5.5199 - val_loss: 402.2394 - val_mean_absolute_error: 17.2174\n",
            "Epoch 183/500\n",
            "105/105 [==============================] - 0s 1ms/step - loss: 75.1549 - mean_absolute_error: 5.4320 - val_loss: 402.0834 - val_mean_absolute_error: 17.1306\n",
            "Epoch 184/500\n",
            "105/105 [==============================] - 0s 1ms/step - loss: 74.5306 - mean_absolute_error: 5.4246 - val_loss: 404.4868 - val_mean_absolute_error: 17.0584\n",
            "Epoch 185/500\n",
            "105/105 [==============================] - 0s 1ms/step - loss: 73.3340 - mean_absolute_error: 5.3638 - val_loss: 416.6229 - val_mean_absolute_error: 17.3044\n",
            "Epoch 186/500\n",
            "105/105 [==============================] - 0s 1ms/step - loss: 72.6781 - mean_absolute_error: 5.3387 - val_loss: 413.6471 - val_mean_absolute_error: 17.2386\n",
            "Epoch 187/500\n",
            "105/105 [==============================] - 0s 1ms/step - loss: 71.1285 - mean_absolute_error: 5.2690 - val_loss: 414.7363 - val_mean_absolute_error: 17.2997\n",
            "Epoch 188/500\n",
            "105/105 [==============================] - 0s 1ms/step - loss: 70.6108 - mean_absolute_error: 5.2889 - val_loss: 413.8367 - val_mean_absolute_error: 17.2518\n",
            "Epoch 189/500\n",
            "105/105 [==============================] - 0s 1ms/step - loss: 69.4127 - mean_absolute_error: 5.3284 - val_loss: 421.7145 - val_mean_absolute_error: 17.3104\n",
            "Epoch 190/500\n",
            "105/105 [==============================] - 0s 1ms/step - loss: 68.7640 - mean_absolute_error: 5.2555 - val_loss: 423.3687 - val_mean_absolute_error: 17.2641\n",
            "Epoch 191/500\n",
            "105/105 [==============================] - 0s 1ms/step - loss: 67.6135 - mean_absolute_error: 5.1329 - val_loss: 421.9775 - val_mean_absolute_error: 17.3201\n",
            "Epoch 192/500\n",
            "105/105 [==============================] - 0s 1ms/step - loss: 68.0774 - mean_absolute_error: 5.2356 - val_loss: 424.2418 - val_mean_absolute_error: 17.3747\n",
            "Epoch 193/500\n",
            "105/105 [==============================] - 0s 1ms/step - loss: 66.8768 - mean_absolute_error: 5.0711 - val_loss: 436.8906 - val_mean_absolute_error: 17.4944\n",
            "Epoch 194/500\n",
            "105/105 [==============================] - 0s 1ms/step - loss: 66.3655 - mean_absolute_error: 5.1056 - val_loss: 434.4409 - val_mean_absolute_error: 17.4498\n",
            "Epoch 195/500\n",
            "105/105 [==============================] - 0s 1ms/step - loss: 66.1718 - mean_absolute_error: 5.1323 - val_loss: 427.1486 - val_mean_absolute_error: 17.1711\n",
            "Epoch 196/500\n",
            "105/105 [==============================] - 0s 1ms/step - loss: 65.4963 - mean_absolute_error: 5.0905 - val_loss: 447.1404 - val_mean_absolute_error: 17.7126\n",
            "Epoch 197/500\n",
            "105/105 [==============================] - 0s 1ms/step - loss: 65.4235 - mean_absolute_error: 5.0795 - val_loss: 441.2560 - val_mean_absolute_error: 17.6282\n",
            "Epoch 198/500\n",
            "105/105 [==============================] - 0s 1ms/step - loss: 64.0380 - mean_absolute_error: 4.9953 - val_loss: 441.5280 - val_mean_absolute_error: 17.6561\n",
            "Epoch 199/500\n",
            "105/105 [==============================] - 0s 1ms/step - loss: 62.6885 - mean_absolute_error: 4.9567 - val_loss: 450.7612 - val_mean_absolute_error: 17.8005\n",
            "Epoch 200/500\n",
            "105/105 [==============================] - 0s 1ms/step - loss: 62.8476 - mean_absolute_error: 4.8728 - val_loss: 448.9756 - val_mean_absolute_error: 17.6648\n",
            "Epoch 201/500\n",
            "105/105 [==============================] - 0s 1ms/step - loss: 61.9192 - mean_absolute_error: 4.9683 - val_loss: 446.8098 - val_mean_absolute_error: 17.7297\n",
            "Epoch 202/500\n",
            "105/105 [==============================] - 0s 1ms/step - loss: 62.1373 - mean_absolute_error: 4.9821 - val_loss: 463.1683 - val_mean_absolute_error: 17.8950\n",
            "Epoch 203/500\n",
            "105/105 [==============================] - 0s 1ms/step - loss: 60.3516 - mean_absolute_error: 4.8863 - val_loss: 460.2519 - val_mean_absolute_error: 17.7435\n",
            "Epoch 204/500\n",
            "105/105 [==============================] - 0s 1ms/step - loss: 60.5337 - mean_absolute_error: 4.9425 - val_loss: 463.0295 - val_mean_absolute_error: 17.9335\n",
            "Epoch 205/500\n",
            "105/105 [==============================] - 0s 1ms/step - loss: 60.6635 - mean_absolute_error: 4.9230 - val_loss: 462.6713 - val_mean_absolute_error: 18.0197\n",
            "Epoch 206/500\n",
            "105/105 [==============================] - 0s 1ms/step - loss: 59.7992 - mean_absolute_error: 4.9774 - val_loss: 464.2209 - val_mean_absolute_error: 17.9871\n",
            "Epoch 207/500\n",
            "105/105 [==============================] - 0s 1ms/step - loss: 59.0464 - mean_absolute_error: 4.9285 - val_loss: 461.9139 - val_mean_absolute_error: 17.9588\n",
            "Epoch 208/500\n",
            "105/105 [==============================] - 0s 1ms/step - loss: 58.3718 - mean_absolute_error: 4.9015 - val_loss: 457.2211 - val_mean_absolute_error: 17.8526\n",
            "Epoch 209/500\n",
            "105/105 [==============================] - 0s 1ms/step - loss: 57.3984 - mean_absolute_error: 4.8067 - val_loss: 459.3557 - val_mean_absolute_error: 17.9921\n",
            "Epoch 210/500\n",
            "105/105 [==============================] - 0s 1ms/step - loss: 57.1503 - mean_absolute_error: 4.7727 - val_loss: 460.4945 - val_mean_absolute_error: 17.8690\n",
            "Epoch 211/500\n",
            "105/105 [==============================] - 0s 1ms/step - loss: 56.9455 - mean_absolute_error: 4.7956 - val_loss: 466.6074 - val_mean_absolute_error: 18.0598\n",
            "Epoch 212/500\n",
            "105/105 [==============================] - 0s 1ms/step - loss: 56.4530 - mean_absolute_error: 4.9185 - val_loss: 478.2226 - val_mean_absolute_error: 18.2151\n",
            "Epoch 213/500\n",
            "105/105 [==============================] - 0s 1ms/step - loss: 56.2021 - mean_absolute_error: 4.7636 - val_loss: 473.9871 - val_mean_absolute_error: 18.1604\n",
            "Epoch 214/500\n",
            "105/105 [==============================] - 0s 1ms/step - loss: 55.8713 - mean_absolute_error: 4.8707 - val_loss: 477.5013 - val_mean_absolute_error: 18.2137\n",
            "Epoch 215/500\n",
            "105/105 [==============================] - 0s 1ms/step - loss: 54.7206 - mean_absolute_error: 4.7398 - val_loss: 485.3113 - val_mean_absolute_error: 18.4426\n",
            "Epoch 216/500\n",
            "105/105 [==============================] - 0s 1ms/step - loss: 54.9759 - mean_absolute_error: 4.7128 - val_loss: 478.3452 - val_mean_absolute_error: 18.2584\n",
            "Epoch 217/500\n",
            "105/105 [==============================] - 0s 1ms/step - loss: 53.6176 - mean_absolute_error: 4.6764 - val_loss: 487.0343 - val_mean_absolute_error: 18.4307\n",
            "Epoch 218/500\n",
            "105/105 [==============================] - 0s 1ms/step - loss: 53.0751 - mean_absolute_error: 4.6553 - val_loss: 477.4752 - val_mean_absolute_error: 18.2293\n",
            "Epoch 219/500\n",
            "105/105 [==============================] - 0s 1ms/step - loss: 52.7263 - mean_absolute_error: 4.6092 - val_loss: 486.8611 - val_mean_absolute_error: 18.4158\n",
            "Epoch 220/500\n",
            "105/105 [==============================] - 0s 1ms/step - loss: 52.7078 - mean_absolute_error: 4.5843 - val_loss: 489.5951 - val_mean_absolute_error: 18.4672\n",
            "Epoch 221/500\n",
            "105/105 [==============================] - 0s 1ms/step - loss: 51.8040 - mean_absolute_error: 4.5437 - val_loss: 496.1070 - val_mean_absolute_error: 18.5766\n",
            "Epoch 222/500\n",
            "105/105 [==============================] - 0s 1ms/step - loss: 52.2441 - mean_absolute_error: 4.6299 - val_loss: 498.1735 - val_mean_absolute_error: 18.5109\n",
            "Epoch 223/500\n",
            "105/105 [==============================] - 0s 1ms/step - loss: 51.3452 - mean_absolute_error: 4.6326 - val_loss: 482.6909 - val_mean_absolute_error: 18.3197\n",
            "Epoch 224/500\n",
            "105/105 [==============================] - 0s 997us/step - loss: 50.9702 - mean_absolute_error: 4.6215 - val_loss: 503.4812 - val_mean_absolute_error: 18.5670\n",
            "Epoch 225/500\n",
            "105/105 [==============================] - 0s 1ms/step - loss: 49.4682 - mean_absolute_error: 4.4836 - val_loss: 498.0993 - val_mean_absolute_error: 18.4812\n",
            "Epoch 226/500\n",
            "105/105 [==============================] - 0s 1ms/step - loss: 50.7191 - mean_absolute_error: 4.5925 - val_loss: 488.6190 - val_mean_absolute_error: 18.2249\n",
            "Epoch 227/500\n",
            "105/105 [==============================] - 0s 1ms/step - loss: 49.8115 - mean_absolute_error: 4.6009 - val_loss: 506.5928 - val_mean_absolute_error: 18.7257\n",
            "Epoch 228/500\n",
            "105/105 [==============================] - 0s 1ms/step - loss: 48.7612 - mean_absolute_error: 4.4483 - val_loss: 505.7771 - val_mean_absolute_error: 18.6344\n",
            "Epoch 229/500\n",
            "105/105 [==============================] - 0s 1ms/step - loss: 49.1631 - mean_absolute_error: 4.4938 - val_loss: 504.7770 - val_mean_absolute_error: 18.7558\n",
            "Epoch 230/500\n",
            "105/105 [==============================] - 0s 1ms/step - loss: 49.2955 - mean_absolute_error: 4.5029 - val_loss: 510.7802 - val_mean_absolute_error: 18.7842\n",
            "Epoch 231/500\n",
            "105/105 [==============================] - 0s 1ms/step - loss: 48.4951 - mean_absolute_error: 4.4872 - val_loss: 510.6818 - val_mean_absolute_error: 18.7351\n",
            "Epoch 232/500\n",
            "105/105 [==============================] - 0s 1ms/step - loss: 48.5439 - mean_absolute_error: 4.5077 - val_loss: 511.5577 - val_mean_absolute_error: 18.8551\n",
            "Epoch 233/500\n",
            "105/105 [==============================] - 0s 1ms/step - loss: 47.8897 - mean_absolute_error: 4.4748 - val_loss: 514.1499 - val_mean_absolute_error: 18.7356\n",
            "Epoch 234/500\n",
            "105/105 [==============================] - 0s 1ms/step - loss: 48.2417 - mean_absolute_error: 4.5260 - val_loss: 519.1454 - val_mean_absolute_error: 18.8765\n",
            "Epoch 235/500\n",
            "105/105 [==============================] - 0s 1ms/step - loss: 47.0031 - mean_absolute_error: 4.4042 - val_loss: 510.1386 - val_mean_absolute_error: 18.6847\n",
            "Epoch 236/500\n",
            "105/105 [==============================] - 0s 1ms/step - loss: 46.6761 - mean_absolute_error: 4.4472 - val_loss: 511.8684 - val_mean_absolute_error: 18.6965\n",
            "Epoch 237/500\n",
            "105/105 [==============================] - 0s 1ms/step - loss: 46.7529 - mean_absolute_error: 4.4471 - val_loss: 524.0574 - val_mean_absolute_error: 18.9377\n",
            "Epoch 238/500\n",
            "105/105 [==============================] - 0s 1ms/step - loss: 45.4435 - mean_absolute_error: 4.4005 - val_loss: 520.9600 - val_mean_absolute_error: 18.6556\n",
            "Epoch 239/500\n",
            "105/105 [==============================] - 0s 1ms/step - loss: 45.9444 - mean_absolute_error: 4.3848 - val_loss: 529.1637 - val_mean_absolute_error: 18.9632\n",
            "Epoch 240/500\n",
            "105/105 [==============================] - 0s 1ms/step - loss: 45.1576 - mean_absolute_error: 4.3700 - val_loss: 530.3490 - val_mean_absolute_error: 19.0596\n",
            "Epoch 241/500\n",
            "105/105 [==============================] - 0s 1ms/step - loss: 44.3096 - mean_absolute_error: 4.3056 - val_loss: 535.1918 - val_mean_absolute_error: 19.0342\n",
            "Epoch 242/500\n",
            "105/105 [==============================] - 0s 1ms/step - loss: 44.8207 - mean_absolute_error: 4.2917 - val_loss: 533.6601 - val_mean_absolute_error: 18.9636\n",
            "Epoch 243/500\n",
            "105/105 [==============================] - 0s 1ms/step - loss: 43.3235 - mean_absolute_error: 4.2116 - val_loss: 553.2274 - val_mean_absolute_error: 19.3549\n",
            "Epoch 244/500\n",
            "105/105 [==============================] - 0s 1ms/step - loss: 43.3511 - mean_absolute_error: 4.3057 - val_loss: 525.4304 - val_mean_absolute_error: 18.7441\n",
            "Epoch 245/500\n",
            "105/105 [==============================] - 0s 1ms/step - loss: 43.3058 - mean_absolute_error: 4.2661 - val_loss: 540.4651 - val_mean_absolute_error: 19.0544\n",
            "Epoch 246/500\n",
            "105/105 [==============================] - 0s 1ms/step - loss: 42.6273 - mean_absolute_error: 4.2296 - val_loss: 542.3684 - val_mean_absolute_error: 18.8884\n",
            "Epoch 247/500\n",
            "105/105 [==============================] - 0s 1ms/step - loss: 41.7926 - mean_absolute_error: 4.3562 - val_loss: 550.4863 - val_mean_absolute_error: 19.2301\n",
            "Epoch 248/500\n",
            "105/105 [==============================] - 0s 1ms/step - loss: 42.4586 - mean_absolute_error: 4.2738 - val_loss: 555.0923 - val_mean_absolute_error: 19.3467\n",
            "Epoch 249/500\n",
            "105/105 [==============================] - 0s 1ms/step - loss: 41.7846 - mean_absolute_error: 4.2052 - val_loss: 554.1056 - val_mean_absolute_error: 19.1354\n",
            "Epoch 250/500\n",
            "105/105 [==============================] - 0s 1ms/step - loss: 40.9825 - mean_absolute_error: 4.1317 - val_loss: 549.6055 - val_mean_absolute_error: 19.1986\n",
            "Epoch 251/500\n",
            "105/105 [==============================] - 0s 1ms/step - loss: 40.4612 - mean_absolute_error: 4.1622 - val_loss: 565.3986 - val_mean_absolute_error: 19.3867\n",
            "Epoch 252/500\n",
            "105/105 [==============================] - 0s 1ms/step - loss: 40.6511 - mean_absolute_error: 4.0960 - val_loss: 550.0016 - val_mean_absolute_error: 19.0775\n",
            "Epoch 253/500\n",
            "105/105 [==============================] - 0s 1ms/step - loss: 40.6929 - mean_absolute_error: 4.1806 - val_loss: 546.3185 - val_mean_absolute_error: 18.9408\n",
            "Epoch 254/500\n",
            "105/105 [==============================] - 0s 1ms/step - loss: 40.2598 - mean_absolute_error: 4.1209 - val_loss: 557.5850 - val_mean_absolute_error: 19.3105\n",
            "Epoch 255/500\n",
            "105/105 [==============================] - 0s 1ms/step - loss: 39.9451 - mean_absolute_error: 4.0988 - val_loss: 562.5244 - val_mean_absolute_error: 19.1872\n",
            "Epoch 256/500\n",
            "105/105 [==============================] - 0s 1ms/step - loss: 38.8808 - mean_absolute_error: 4.0937 - val_loss: 568.1108 - val_mean_absolute_error: 19.3706\n",
            "Epoch 257/500\n",
            "105/105 [==============================] - 0s 1ms/step - loss: 39.6558 - mean_absolute_error: 4.1891 - val_loss: 554.4930 - val_mean_absolute_error: 19.0844\n",
            "Epoch 258/500\n",
            "105/105 [==============================] - 0s 1ms/step - loss: 38.3449 - mean_absolute_error: 4.1097 - val_loss: 557.1428 - val_mean_absolute_error: 19.1772\n",
            "Epoch 259/500\n",
            "105/105 [==============================] - 0s 1ms/step - loss: 38.1522 - mean_absolute_error: 4.0965 - val_loss: 555.8669 - val_mean_absolute_error: 18.8288\n",
            "Epoch 260/500\n",
            "105/105 [==============================] - 0s 1ms/step - loss: 37.7932 - mean_absolute_error: 4.0832 - val_loss: 576.3894 - val_mean_absolute_error: 19.3507\n",
            "Epoch 261/500\n",
            "105/105 [==============================] - 0s 1ms/step - loss: 37.5523 - mean_absolute_error: 4.0274 - val_loss: 576.1915 - val_mean_absolute_error: 19.5131\n",
            "Epoch 262/500\n",
            "105/105 [==============================] - 0s 1ms/step - loss: 37.9498 - mean_absolute_error: 4.1120 - val_loss: 577.3891 - val_mean_absolute_error: 19.5219\n",
            "Epoch 263/500\n",
            "105/105 [==============================] - 0s 1ms/step - loss: 37.5974 - mean_absolute_error: 4.0628 - val_loss: 585.9337 - val_mean_absolute_error: 19.4784\n",
            "Epoch 264/500\n",
            "105/105 [==============================] - 0s 1ms/step - loss: 37.0325 - mean_absolute_error: 4.0556 - val_loss: 587.4899 - val_mean_absolute_error: 19.9146\n",
            "Epoch 265/500\n",
            "105/105 [==============================] - 0s 1ms/step - loss: 37.3883 - mean_absolute_error: 4.1006 - val_loss: 586.6540 - val_mean_absolute_error: 19.4545\n",
            "Epoch 266/500\n",
            "105/105 [==============================] - 0s 1ms/step - loss: 36.2710 - mean_absolute_error: 4.0059 - val_loss: 583.0383 - val_mean_absolute_error: 19.4776\n",
            "Epoch 267/500\n",
            "105/105 [==============================] - 0s 1ms/step - loss: 35.6683 - mean_absolute_error: 3.9586 - val_loss: 584.7763 - val_mean_absolute_error: 19.4048\n",
            "Epoch 268/500\n",
            "105/105 [==============================] - 0s 1ms/step - loss: 36.8980 - mean_absolute_error: 4.0994 - val_loss: 586.2217 - val_mean_absolute_error: 19.3324\n",
            "Epoch 269/500\n",
            "105/105 [==============================] - 0s 1ms/step - loss: 35.9375 - mean_absolute_error: 4.0474 - val_loss: 584.8355 - val_mean_absolute_error: 19.3226\n",
            "Epoch 270/500\n",
            "105/105 [==============================] - 0s 1ms/step - loss: 35.9289 - mean_absolute_error: 4.0516 - val_loss: 590.9084 - val_mean_absolute_error: 19.3911\n",
            "Epoch 271/500\n",
            "105/105 [==============================] - 0s 1ms/step - loss: 34.9719 - mean_absolute_error: 3.8844 - val_loss: 578.4368 - val_mean_absolute_error: 18.8562\n",
            "Epoch 272/500\n",
            "105/105 [==============================] - 0s 1ms/step - loss: 35.0054 - mean_absolute_error: 3.9377 - val_loss: 590.1731 - val_mean_absolute_error: 19.4990\n",
            "Epoch 273/500\n",
            "105/105 [==============================] - 0s 1ms/step - loss: 34.1123 - mean_absolute_error: 3.7932 - val_loss: 580.5241 - val_mean_absolute_error: 18.8757\n",
            "Epoch 274/500\n",
            "105/105 [==============================] - 0s 1ms/step - loss: 34.2031 - mean_absolute_error: 3.9175 - val_loss: 587.1674 - val_mean_absolute_error: 19.1519\n",
            "Epoch 275/500\n",
            "105/105 [==============================] - 0s 1ms/step - loss: 34.0705 - mean_absolute_error: 3.9250 - val_loss: 588.7774 - val_mean_absolute_error: 19.2547\n",
            "Epoch 276/500\n",
            "105/105 [==============================] - 0s 1ms/step - loss: 33.3357 - mean_absolute_error: 3.8881 - val_loss: 578.7678 - val_mean_absolute_error: 18.9095\n",
            "Epoch 277/500\n",
            "105/105 [==============================] - 0s 1ms/step - loss: 32.9747 - mean_absolute_error: 3.8175 - val_loss: 590.7696 - val_mean_absolute_error: 19.2151\n",
            "Epoch 278/500\n",
            "105/105 [==============================] - 0s 1ms/step - loss: 33.0752 - mean_absolute_error: 3.9278 - val_loss: 594.5964 - val_mean_absolute_error: 19.2966\n",
            "Epoch 279/500\n",
            "105/105 [==============================] - 0s 1ms/step - loss: 31.9960 - mean_absolute_error: 3.7120 - val_loss: 606.3201 - val_mean_absolute_error: 19.5074\n",
            "Epoch 280/500\n",
            "105/105 [==============================] - 0s 1ms/step - loss: 31.7539 - mean_absolute_error: 3.6712 - val_loss: 590.6303 - val_mean_absolute_error: 18.9913\n",
            "Epoch 281/500\n",
            "105/105 [==============================] - 0s 1ms/step - loss: 32.0356 - mean_absolute_error: 3.7922 - val_loss: 597.4706 - val_mean_absolute_error: 19.3318\n",
            "Epoch 282/500\n",
            "105/105 [==============================] - 0s 1ms/step - loss: 31.4155 - mean_absolute_error: 3.6851 - val_loss: 612.5702 - val_mean_absolute_error: 19.4963\n",
            "Epoch 283/500\n",
            "105/105 [==============================] - 0s 1ms/step - loss: 30.7741 - mean_absolute_error: 3.7411 - val_loss: 584.2336 - val_mean_absolute_error: 18.9994\n",
            "Epoch 284/500\n",
            "105/105 [==============================] - 0s 1ms/step - loss: 31.1898 - mean_absolute_error: 3.7880 - val_loss: 609.4596 - val_mean_absolute_error: 19.3219\n",
            "Epoch 285/500\n",
            "105/105 [==============================] - 0s 1ms/step - loss: 30.8336 - mean_absolute_error: 3.7298 - val_loss: 604.4923 - val_mean_absolute_error: 19.2673\n",
            "Epoch 286/500\n",
            "105/105 [==============================] - 0s 1ms/step - loss: 31.0215 - mean_absolute_error: 3.6727 - val_loss: 613.3377 - val_mean_absolute_error: 19.3418\n",
            "Epoch 287/500\n",
            "105/105 [==============================] - 0s 1ms/step - loss: 30.5149 - mean_absolute_error: 3.7420 - val_loss: 608.0212 - val_mean_absolute_error: 19.4891\n",
            "Epoch 288/500\n",
            "105/105 [==============================] - 0s 1ms/step - loss: 29.8282 - mean_absolute_error: 3.6395 - val_loss: 609.8054 - val_mean_absolute_error: 19.4258\n",
            "Epoch 289/500\n",
            "105/105 [==============================] - 0s 1ms/step - loss: 29.2469 - mean_absolute_error: 3.5300 - val_loss: 617.7214 - val_mean_absolute_error: 19.2529\n",
            "Epoch 290/500\n",
            "105/105 [==============================] - 0s 1ms/step - loss: 29.2709 - mean_absolute_error: 3.6807 - val_loss: 624.2539 - val_mean_absolute_error: 19.5133\n",
            "Epoch 291/500\n",
            "105/105 [==============================] - 0s 1ms/step - loss: 29.4945 - mean_absolute_error: 3.6058 - val_loss: 614.0056 - val_mean_absolute_error: 19.1102\n",
            "Epoch 292/500\n",
            "105/105 [==============================] - 0s 1ms/step - loss: 28.7764 - mean_absolute_error: 3.5353 - val_loss: 633.1230 - val_mean_absolute_error: 19.6247\n",
            "Epoch 293/500\n",
            "105/105 [==============================] - 0s 1ms/step - loss: 27.9359 - mean_absolute_error: 3.5280 - val_loss: 622.3133 - val_mean_absolute_error: 19.2161\n",
            "Epoch 294/500\n",
            "105/105 [==============================] - 0s 1ms/step - loss: 28.5263 - mean_absolute_error: 3.5313 - val_loss: 632.6961 - val_mean_absolute_error: 19.6696\n",
            "Epoch 295/500\n",
            "105/105 [==============================] - 0s 1ms/step - loss: 28.0482 - mean_absolute_error: 3.5231 - val_loss: 633.4612 - val_mean_absolute_error: 19.4956\n",
            "Epoch 296/500\n",
            "105/105 [==============================] - 0s 1ms/step - loss: 27.9091 - mean_absolute_error: 3.5223 - val_loss: 629.8650 - val_mean_absolute_error: 19.3323\n",
            "Epoch 297/500\n",
            "105/105 [==============================] - 0s 1ms/step - loss: 27.0089 - mean_absolute_error: 3.5140 - val_loss: 629.7694 - val_mean_absolute_error: 19.3344\n",
            "Epoch 298/500\n",
            "105/105 [==============================] - 0s 1ms/step - loss: 26.9017 - mean_absolute_error: 3.3936 - val_loss: 632.9482 - val_mean_absolute_error: 19.2046\n",
            "Epoch 299/500\n",
            "105/105 [==============================] - 0s 1ms/step - loss: 26.5435 - mean_absolute_error: 3.4707 - val_loss: 644.6090 - val_mean_absolute_error: 19.6492\n",
            "Epoch 300/500\n",
            "105/105 [==============================] - 0s 1ms/step - loss: 26.9485 - mean_absolute_error: 3.4572 - val_loss: 629.0567 - val_mean_absolute_error: 19.2947\n",
            "Epoch 301/500\n",
            "105/105 [==============================] - 0s 1ms/step - loss: 25.9157 - mean_absolute_error: 3.3443 - val_loss: 629.5111 - val_mean_absolute_error: 19.1011\n",
            "Epoch 302/500\n",
            "105/105 [==============================] - 0s 1ms/step - loss: 25.9605 - mean_absolute_error: 3.4049 - val_loss: 627.0378 - val_mean_absolute_error: 18.9585\n",
            "Epoch 303/500\n",
            "105/105 [==============================] - 0s 1ms/step - loss: 25.9745 - mean_absolute_error: 3.4137 - val_loss: 642.2174 - val_mean_absolute_error: 19.1775\n",
            "Epoch 304/500\n",
            "105/105 [==============================] - 0s 1ms/step - loss: 25.3844 - mean_absolute_error: 3.3678 - val_loss: 644.5083 - val_mean_absolute_error: 19.3841\n",
            "Epoch 305/500\n",
            "105/105 [==============================] - 0s 1ms/step - loss: 25.2255 - mean_absolute_error: 3.3544 - val_loss: 648.0472 - val_mean_absolute_error: 19.4746\n",
            "Epoch 306/500\n",
            "105/105 [==============================] - 0s 1ms/step - loss: 25.0957 - mean_absolute_error: 3.3538 - val_loss: 640.5922 - val_mean_absolute_error: 19.0333\n",
            "Epoch 307/500\n",
            "105/105 [==============================] - 0s 1ms/step - loss: 24.4289 - mean_absolute_error: 3.2542 - val_loss: 645.8632 - val_mean_absolute_error: 19.5535\n",
            "Epoch 308/500\n",
            "105/105 [==============================] - 0s 1ms/step - loss: 24.9527 - mean_absolute_error: 3.3828 - val_loss: 642.6211 - val_mean_absolute_error: 18.9538\n",
            "Epoch 309/500\n",
            "105/105 [==============================] - 0s 1ms/step - loss: 23.8701 - mean_absolute_error: 3.2524 - val_loss: 669.6335 - val_mean_absolute_error: 19.4754\n",
            "Epoch 310/500\n",
            "105/105 [==============================] - 0s 1ms/step - loss: 23.9061 - mean_absolute_error: 3.3525 - val_loss: 650.9243 - val_mean_absolute_error: 18.9265\n",
            "Epoch 311/500\n",
            "105/105 [==============================] - 0s 1ms/step - loss: 23.4681 - mean_absolute_error: 3.2903 - val_loss: 676.0438 - val_mean_absolute_error: 19.7109\n",
            "Epoch 312/500\n",
            "105/105 [==============================] - 0s 1ms/step - loss: 22.9566 - mean_absolute_error: 3.1721 - val_loss: 676.5533 - val_mean_absolute_error: 19.7911\n",
            "Epoch 313/500\n",
            "105/105 [==============================] - 0s 1ms/step - loss: 22.4078 - mean_absolute_error: 3.1161 - val_loss: 685.5369 - val_mean_absolute_error: 19.5461\n",
            "Epoch 314/500\n",
            "105/105 [==============================] - 0s 1ms/step - loss: 22.1966 - mean_absolute_error: 3.0825 - val_loss: 686.9245 - val_mean_absolute_error: 19.7453\n",
            "Epoch 315/500\n",
            "105/105 [==============================] - 0s 1ms/step - loss: 21.8032 - mean_absolute_error: 3.1894 - val_loss: 682.6083 - val_mean_absolute_error: 19.3685\n",
            "Epoch 316/500\n",
            "105/105 [==============================] - 0s 1ms/step - loss: 21.8781 - mean_absolute_error: 3.1526 - val_loss: 686.4493 - val_mean_absolute_error: 19.4698\n",
            "Epoch 317/500\n",
            "105/105 [==============================] - 0s 1ms/step - loss: 21.2122 - mean_absolute_error: 3.0964 - val_loss: 679.2214 - val_mean_absolute_error: 19.3875\n",
            "Epoch 318/500\n",
            "105/105 [==============================] - 0s 1ms/step - loss: 21.2242 - mean_absolute_error: 3.1099 - val_loss: 685.0765 - val_mean_absolute_error: 19.3111\n",
            "Epoch 319/500\n",
            "105/105 [==============================] - 0s 1ms/step - loss: 20.7665 - mean_absolute_error: 3.0529 - val_loss: 693.4927 - val_mean_absolute_error: 19.6135\n",
            "Epoch 320/500\n",
            "105/105 [==============================] - 0s 1ms/step - loss: 21.0909 - mean_absolute_error: 3.1176 - val_loss: 690.8421 - val_mean_absolute_error: 19.6211\n",
            "Epoch 321/500\n",
            "105/105 [==============================] - 0s 1ms/step - loss: 20.3136 - mean_absolute_error: 3.0248 - val_loss: 730.6230 - val_mean_absolute_error: 19.9841\n",
            "Epoch 322/500\n",
            "105/105 [==============================] - 0s 1ms/step - loss: 19.9239 - mean_absolute_error: 3.0033 - val_loss: 702.2112 - val_mean_absolute_error: 19.5042\n",
            "Epoch 323/500\n",
            "105/105 [==============================] - 0s 1ms/step - loss: 19.3573 - mean_absolute_error: 2.8844 - val_loss: 714.4426 - val_mean_absolute_error: 19.6854\n",
            "Epoch 324/500\n",
            "105/105 [==============================] - 0s 1ms/step - loss: 19.5132 - mean_absolute_error: 2.9555 - val_loss: 736.3750 - val_mean_absolute_error: 20.2035\n",
            "Epoch 325/500\n",
            "105/105 [==============================] - 0s 1ms/step - loss: 19.0921 - mean_absolute_error: 2.9435 - val_loss: 727.0282 - val_mean_absolute_error: 19.9285\n",
            "Epoch 326/500\n",
            "105/105 [==============================] - 0s 1ms/step - loss: 19.1617 - mean_absolute_error: 2.9517 - val_loss: 732.3675 - val_mean_absolute_error: 19.8447\n",
            "Epoch 327/500\n",
            "105/105 [==============================] - 0s 1ms/step - loss: 18.8041 - mean_absolute_error: 2.9669 - val_loss: 732.9534 - val_mean_absolute_error: 19.8853\n",
            "Epoch 328/500\n",
            "105/105 [==============================] - 0s 1ms/step - loss: 18.2402 - mean_absolute_error: 2.9140 - val_loss: 713.5634 - val_mean_absolute_error: 19.4915\n",
            "Epoch 329/500\n",
            "105/105 [==============================] - 0s 1ms/step - loss: 17.7444 - mean_absolute_error: 2.8466 - val_loss: 732.9603 - val_mean_absolute_error: 19.3657\n",
            "Epoch 330/500\n",
            "105/105 [==============================] - 0s 1ms/step - loss: 18.2578 - mean_absolute_error: 2.8752 - val_loss: 745.1520 - val_mean_absolute_error: 19.9920\n",
            "Epoch 331/500\n",
            "105/105 [==============================] - 0s 1ms/step - loss: 18.0290 - mean_absolute_error: 2.8769 - val_loss: 750.0033 - val_mean_absolute_error: 19.8634\n",
            "Epoch 332/500\n",
            "105/105 [==============================] - 0s 1ms/step - loss: 17.5840 - mean_absolute_error: 2.8709 - val_loss: 742.5413 - val_mean_absolute_error: 19.7914\n",
            "Epoch 333/500\n",
            "105/105 [==============================] - 0s 1ms/step - loss: 16.9317 - mean_absolute_error: 2.8441 - val_loss: 728.7976 - val_mean_absolute_error: 19.3626\n",
            "Epoch 334/500\n",
            "105/105 [==============================] - 0s 1ms/step - loss: 16.5849 - mean_absolute_error: 2.7054 - val_loss: 754.0235 - val_mean_absolute_error: 19.9301\n",
            "Epoch 335/500\n",
            "105/105 [==============================] - 0s 1ms/step - loss: 16.3821 - mean_absolute_error: 2.7261 - val_loss: 763.7684 - val_mean_absolute_error: 20.1008\n",
            "Epoch 336/500\n",
            "105/105 [==============================] - 0s 1ms/step - loss: 16.1268 - mean_absolute_error: 2.8130 - val_loss: 762.4384 - val_mean_absolute_error: 19.8738\n",
            "Epoch 337/500\n",
            "105/105 [==============================] - 0s 1ms/step - loss: 16.3834 - mean_absolute_error: 2.6596 - val_loss: 775.8578 - val_mean_absolute_error: 19.9691\n",
            "Epoch 338/500\n",
            "105/105 [==============================] - 0s 1ms/step - loss: 15.2471 - mean_absolute_error: 2.6327 - val_loss: 778.4939 - val_mean_absolute_error: 20.2429\n",
            "Epoch 339/500\n",
            "105/105 [==============================] - 0s 1ms/step - loss: 15.6439 - mean_absolute_error: 2.7054 - val_loss: 768.3555 - val_mean_absolute_error: 20.0973\n",
            "Epoch 340/500\n",
            "105/105 [==============================] - 0s 1ms/step - loss: 15.7094 - mean_absolute_error: 2.6898 - val_loss: 782.7490 - val_mean_absolute_error: 20.1831\n",
            "Epoch 341/500\n",
            "105/105 [==============================] - 0s 1ms/step - loss: 14.9899 - mean_absolute_error: 2.5835 - val_loss: 768.4731 - val_mean_absolute_error: 20.1187\n",
            "Epoch 342/500\n",
            "105/105 [==============================] - 0s 1ms/step - loss: 15.4445 - mean_absolute_error: 2.6720 - val_loss: 765.7887 - val_mean_absolute_error: 20.2101\n",
            "Epoch 343/500\n",
            "105/105 [==============================] - 0s 1ms/step - loss: 15.5023 - mean_absolute_error: 2.6470 - val_loss: 792.4896 - val_mean_absolute_error: 20.3034\n",
            "Epoch 344/500\n",
            "105/105 [==============================] - 0s 1ms/step - loss: 15.2225 - mean_absolute_error: 2.6410 - val_loss: 775.0204 - val_mean_absolute_error: 19.9733\n",
            "Epoch 345/500\n",
            "105/105 [==============================] - 0s 1ms/step - loss: 17.5201 - mean_absolute_error: 2.7717 - val_loss: 800.0022 - val_mean_absolute_error: 20.3515\n",
            "Epoch 346/500\n",
            "105/105 [==============================] - 0s 1ms/step - loss: 14.0611 - mean_absolute_error: 2.4856 - val_loss: 775.7970 - val_mean_absolute_error: 19.4753\n",
            "Epoch 347/500\n",
            "105/105 [==============================] - 0s 1ms/step - loss: 14.1541 - mean_absolute_error: 2.5294 - val_loss: 782.8447 - val_mean_absolute_error: 20.0172\n",
            "Epoch 348/500\n",
            "105/105 [==============================] - 0s 1ms/step - loss: 13.5734 - mean_absolute_error: 2.5040 - val_loss: 799.3049 - val_mean_absolute_error: 20.3643\n",
            "Epoch 349/500\n",
            "105/105 [==============================] - 0s 1ms/step - loss: 12.9760 - mean_absolute_error: 2.4069 - val_loss: 810.2875 - val_mean_absolute_error: 20.5560\n",
            "Epoch 350/500\n",
            "105/105 [==============================] - 0s 1ms/step - loss: 13.1202 - mean_absolute_error: 2.3979 - val_loss: 815.1107 - val_mean_absolute_error: 20.5796\n",
            "Epoch 351/500\n",
            "105/105 [==============================] - 0s 1ms/step - loss: 13.3133 - mean_absolute_error: 2.5120 - val_loss: 828.6553 - val_mean_absolute_error: 20.6292\n",
            "Epoch 352/500\n",
            "105/105 [==============================] - 0s 1ms/step - loss: 13.1511 - mean_absolute_error: 2.5078 - val_loss: 816.9996 - val_mean_absolute_error: 20.5872\n",
            "Epoch 353/500\n",
            "105/105 [==============================] - 0s 1ms/step - loss: 12.5546 - mean_absolute_error: 2.3759 - val_loss: 794.0025 - val_mean_absolute_error: 20.2249\n",
            "Epoch 354/500\n",
            "105/105 [==============================] - 0s 1ms/step - loss: 12.9253 - mean_absolute_error: 2.4048 - val_loss: 803.6151 - val_mean_absolute_error: 20.2626\n",
            "Epoch 355/500\n",
            "105/105 [==============================] - 0s 1ms/step - loss: 12.3378 - mean_absolute_error: 2.3467 - val_loss: 810.4418 - val_mean_absolute_error: 20.1551\n",
            "Epoch 356/500\n",
            "105/105 [==============================] - 0s 1ms/step - loss: 12.1849 - mean_absolute_error: 2.3204 - val_loss: 810.5965 - val_mean_absolute_error: 20.0380\n",
            "Epoch 357/500\n",
            "105/105 [==============================] - 0s 1ms/step - loss: 11.7028 - mean_absolute_error: 2.3713 - val_loss: 810.0897 - val_mean_absolute_error: 20.0418\n",
            "Epoch 358/500\n",
            "105/105 [==============================] - 0s 1ms/step - loss: 11.1497 - mean_absolute_error: 2.2524 - val_loss: 831.8259 - val_mean_absolute_error: 20.5847\n",
            "Epoch 359/500\n",
            "105/105 [==============================] - 0s 1ms/step - loss: 11.2495 - mean_absolute_error: 2.3006 - val_loss: 797.3919 - val_mean_absolute_error: 20.0431\n",
            "Epoch 360/500\n",
            "105/105 [==============================] - 0s 1ms/step - loss: 10.7661 - mean_absolute_error: 2.2339 - val_loss: 831.3709 - val_mean_absolute_error: 20.5379\n",
            "Epoch 361/500\n",
            "105/105 [==============================] - 0s 1ms/step - loss: 10.7782 - mean_absolute_error: 2.2664 - val_loss: 819.8084 - val_mean_absolute_error: 20.1281\n",
            "Epoch 362/500\n",
            "105/105 [==============================] - 0s 1ms/step - loss: 10.9276 - mean_absolute_error: 2.2790 - val_loss: 822.5105 - val_mean_absolute_error: 20.4332\n",
            "Epoch 363/500\n",
            "105/105 [==============================] - 0s 1ms/step - loss: 10.5061 - mean_absolute_error: 2.2923 - val_loss: 820.8095 - val_mean_absolute_error: 20.4132\n",
            "Epoch 364/500\n",
            "105/105 [==============================] - 0s 1ms/step - loss: 10.0712 - mean_absolute_error: 2.2270 - val_loss: 799.7708 - val_mean_absolute_error: 19.8286\n",
            "Epoch 365/500\n",
            "105/105 [==============================] - 0s 1ms/step - loss: 9.9728 - mean_absolute_error: 2.1841 - val_loss: 828.9377 - val_mean_absolute_error: 20.2184\n",
            "Epoch 366/500\n",
            "105/105 [==============================] - 0s 1ms/step - loss: 9.3081 - mean_absolute_error: 2.0588 - val_loss: 835.1899 - val_mean_absolute_error: 20.1791\n",
            "Epoch 367/500\n",
            "105/105 [==============================] - 0s 1ms/step - loss: 9.7445 - mean_absolute_error: 2.1446 - val_loss: 810.8763 - val_mean_absolute_error: 19.8467\n",
            "Epoch 368/500\n",
            "105/105 [==============================] - 0s 1ms/step - loss: 9.3460 - mean_absolute_error: 2.0483 - val_loss: 803.6384 - val_mean_absolute_error: 19.5573\n",
            "Epoch 369/500\n",
            "105/105 [==============================] - 0s 1ms/step - loss: 10.8731 - mean_absolute_error: 2.2815 - val_loss: 831.1451 - val_mean_absolute_error: 20.0474\n",
            "Epoch 370/500\n",
            "105/105 [==============================] - 0s 1ms/step - loss: 11.6160 - mean_absolute_error: 2.3978 - val_loss: 813.1274 - val_mean_absolute_error: 19.5896\n",
            "Epoch 371/500\n",
            "105/105 [==============================] - 0s 1ms/step - loss: 9.5842 - mean_absolute_error: 2.1632 - val_loss: 837.6397 - val_mean_absolute_error: 20.1893\n",
            "\n",
            "Epoch 00371: ReduceLROnPlateau reducing learning rate to 0.00010000000474974513.\n",
            "Epoch 372/500\n",
            "105/105 [==============================] - 0s 1ms/step - loss: 9.4517 - mean_absolute_error: 2.0684 - val_loss: 831.8480 - val_mean_absolute_error: 20.0468\n",
            "Epoch 373/500\n",
            "105/105 [==============================] - 0s 1ms/step - loss: 8.2672 - mean_absolute_error: 1.9800 - val_loss: 826.4044 - val_mean_absolute_error: 19.9348\n",
            "Epoch 374/500\n",
            "105/105 [==============================] - 0s 1ms/step - loss: 7.7821 - mean_absolute_error: 1.8934 - val_loss: 825.5719 - val_mean_absolute_error: 19.9073\n",
            "Epoch 375/500\n",
            "105/105 [==============================] - 0s 1ms/step - loss: 7.5375 - mean_absolute_error: 1.8403 - val_loss: 823.9819 - val_mean_absolute_error: 19.8579\n",
            "Epoch 376/500\n",
            "105/105 [==============================] - 0s 1ms/step - loss: 7.4325 - mean_absolute_error: 1.8032 - val_loss: 823.6280 - val_mean_absolute_error: 19.8539\n",
            "Epoch 377/500\n",
            "105/105 [==============================] - 0s 1ms/step - loss: 7.3329 - mean_absolute_error: 1.7855 - val_loss: 825.1878 - val_mean_absolute_error: 19.8468\n",
            "Epoch 378/500\n",
            "105/105 [==============================] - 0s 1ms/step - loss: 7.2826 - mean_absolute_error: 1.7714 - val_loss: 826.1444 - val_mean_absolute_error: 19.8659\n",
            "Epoch 379/500\n",
            "105/105 [==============================] - 0s 1ms/step - loss: 7.2307 - mean_absolute_error: 1.7624 - val_loss: 827.6086 - val_mean_absolute_error: 19.8634\n",
            "Epoch 380/500\n",
            "105/105 [==============================] - 0s 1ms/step - loss: 7.1848 - mean_absolute_error: 1.7331 - val_loss: 827.7415 - val_mean_absolute_error: 19.8748\n",
            "Epoch 381/500\n",
            "105/105 [==============================] - 0s 1ms/step - loss: 7.1389 - mean_absolute_error: 1.7315 - val_loss: 828.0901 - val_mean_absolute_error: 19.8719\n",
            "Epoch 382/500\n",
            "105/105 [==============================] - 0s 1ms/step - loss: 7.1176 - mean_absolute_error: 1.7291 - val_loss: 829.2201 - val_mean_absolute_error: 19.8846\n",
            "Epoch 383/500\n",
            "105/105 [==============================] - 0s 1ms/step - loss: 7.1093 - mean_absolute_error: 1.7232 - val_loss: 830.6118 - val_mean_absolute_error: 19.9142\n",
            "Epoch 384/500\n",
            "105/105 [==============================] - 0s 1ms/step - loss: 7.1026 - mean_absolute_error: 1.7220 - val_loss: 830.9656 - val_mean_absolute_error: 19.9140\n",
            "Epoch 385/500\n",
            "105/105 [==============================] - 0s 1ms/step - loss: 7.0636 - mean_absolute_error: 1.7225 - val_loss: 831.0172 - val_mean_absolute_error: 19.9260\n",
            "Epoch 386/500\n",
            "105/105 [==============================] - 0s 996us/step - loss: 7.0612 - mean_absolute_error: 1.7018 - val_loss: 831.1119 - val_mean_absolute_error: 19.9241\n",
            "Epoch 387/500\n",
            "105/105 [==============================] - 0s 1ms/step - loss: 7.0134 - mean_absolute_error: 1.7035 - val_loss: 832.2655 - val_mean_absolute_error: 19.9369\n",
            "Epoch 388/500\n",
            "105/105 [==============================] - 0s 1ms/step - loss: 7.0185 - mean_absolute_error: 1.7049 - val_loss: 831.7366 - val_mean_absolute_error: 19.9337\n",
            "Epoch 389/500\n",
            "105/105 [==============================] - 0s 1ms/step - loss: 6.9804 - mean_absolute_error: 1.7019 - val_loss: 832.0166 - val_mean_absolute_error: 19.9257\n",
            "Epoch 390/500\n",
            "105/105 [==============================] - 0s 1ms/step - loss: 6.9791 - mean_absolute_error: 1.6912 - val_loss: 832.5292 - val_mean_absolute_error: 19.9341\n",
            "Epoch 391/500\n",
            "105/105 [==============================] - 0s 1ms/step - loss: 6.9500 - mean_absolute_error: 1.6839 - val_loss: 832.7811 - val_mean_absolute_error: 19.9453\n",
            "Epoch 392/500\n",
            "105/105 [==============================] - 0s 1ms/step - loss: 6.9381 - mean_absolute_error: 1.6938 - val_loss: 834.2800 - val_mean_absolute_error: 19.9514\n",
            "Epoch 393/500\n",
            "105/105 [==============================] - 0s 1ms/step - loss: 6.9184 - mean_absolute_error: 1.6924 - val_loss: 833.0084 - val_mean_absolute_error: 19.9384\n",
            "Epoch 394/500\n",
            "105/105 [==============================] - 0s 1ms/step - loss: 6.8913 - mean_absolute_error: 1.6892 - val_loss: 834.0426 - val_mean_absolute_error: 19.9496\n",
            "Epoch 395/500\n",
            "105/105 [==============================] - 0s 1ms/step - loss: 6.9408 - mean_absolute_error: 1.7022 - val_loss: 834.7029 - val_mean_absolute_error: 19.9648\n",
            "Epoch 396/500\n",
            "105/105 [==============================] - 0s 1ms/step - loss: 6.8717 - mean_absolute_error: 1.6793 - val_loss: 833.9997 - val_mean_absolute_error: 19.9636\n",
            "Epoch 397/500\n",
            "105/105 [==============================] - 0s 1ms/step - loss: 6.8441 - mean_absolute_error: 1.6799 - val_loss: 834.9111 - val_mean_absolute_error: 19.9673\n",
            "Epoch 398/500\n",
            "105/105 [==============================] - 0s 1ms/step - loss: 6.8554 - mean_absolute_error: 1.6790 - val_loss: 836.0032 - val_mean_absolute_error: 19.9557\n",
            "Epoch 399/500\n",
            "105/105 [==============================] - 0s 1ms/step - loss: 6.8182 - mean_absolute_error: 1.6778 - val_loss: 836.0869 - val_mean_absolute_error: 19.9944\n",
            "Epoch 400/500\n",
            "105/105 [==============================] - 0s 1ms/step - loss: 6.7736 - mean_absolute_error: 1.6696 - val_loss: 836.1441 - val_mean_absolute_error: 19.9672\n",
            "Epoch 401/500\n",
            "105/105 [==============================] - 0s 1ms/step - loss: 6.7621 - mean_absolute_error: 1.6796 - val_loss: 835.9197 - val_mean_absolute_error: 19.9720\n",
            "Epoch 402/500\n",
            "105/105 [==============================] - 0s 1ms/step - loss: 6.7869 - mean_absolute_error: 1.6747 - val_loss: 837.5804 - val_mean_absolute_error: 20.0060\n",
            "Epoch 403/500\n",
            "105/105 [==============================] - 0s 1ms/step - loss: 6.7435 - mean_absolute_error: 1.6695 - val_loss: 835.9894 - val_mean_absolute_error: 19.9676\n",
            "Epoch 404/500\n",
            "105/105 [==============================] - 0s 1ms/step - loss: 6.7283 - mean_absolute_error: 1.6650 - val_loss: 834.5831 - val_mean_absolute_error: 19.9539\n",
            "Epoch 405/500\n",
            "105/105 [==============================] - 0s 1ms/step - loss: 6.7144 - mean_absolute_error: 1.6543 - val_loss: 834.6966 - val_mean_absolute_error: 19.9253\n",
            "Epoch 406/500\n",
            "105/105 [==============================] - 0s 1ms/step - loss: 6.7237 - mean_absolute_error: 1.6680 - val_loss: 836.9680 - val_mean_absolute_error: 19.9669\n",
            "Epoch 407/500\n",
            "105/105 [==============================] - 0s 1ms/step - loss: 6.6730 - mean_absolute_error: 1.6719 - val_loss: 837.4947 - val_mean_absolute_error: 19.9683\n",
            "Epoch 408/500\n",
            "105/105 [==============================] - 0s 1ms/step - loss: 6.6324 - mean_absolute_error: 1.6461 - val_loss: 836.7018 - val_mean_absolute_error: 19.9658\n",
            "Epoch 409/500\n",
            "105/105 [==============================] - 0s 1ms/step - loss: 6.6648 - mean_absolute_error: 1.6586 - val_loss: 837.5548 - val_mean_absolute_error: 19.9472\n",
            "Epoch 410/500\n",
            "105/105 [==============================] - 0s 1ms/step - loss: 6.6320 - mean_absolute_error: 1.6428 - val_loss: 836.6527 - val_mean_absolute_error: 19.9678\n",
            "Epoch 411/500\n",
            "105/105 [==============================] - 0s 1ms/step - loss: 6.6184 - mean_absolute_error: 1.6625 - val_loss: 838.8081 - val_mean_absolute_error: 19.9578\n",
            "Epoch 412/500\n",
            "105/105 [==============================] - 0s 1ms/step - loss: 6.6175 - mean_absolute_error: 1.6505 - val_loss: 838.5982 - val_mean_absolute_error: 19.9813\n",
            "Epoch 413/500\n",
            "105/105 [==============================] - 0s 1ms/step - loss: 6.5927 - mean_absolute_error: 1.6577 - val_loss: 837.9104 - val_mean_absolute_error: 19.9673\n",
            "Epoch 414/500\n",
            "105/105 [==============================] - 0s 1ms/step - loss: 6.5558 - mean_absolute_error: 1.6418 - val_loss: 838.4835 - val_mean_absolute_error: 19.9668\n",
            "Epoch 415/500\n",
            "105/105 [==============================] - 0s 1ms/step - loss: 6.5118 - mean_absolute_error: 1.6357 - val_loss: 838.0107 - val_mean_absolute_error: 19.9472\n",
            "Epoch 416/500\n",
            "105/105 [==============================] - 0s 1ms/step - loss: 6.5198 - mean_absolute_error: 1.6417 - val_loss: 837.2222 - val_mean_absolute_error: 19.9211\n",
            "Epoch 417/500\n",
            "105/105 [==============================] - 0s 1ms/step - loss: 6.5199 - mean_absolute_error: 1.6376 - val_loss: 838.1893 - val_mean_absolute_error: 19.9427\n",
            "Epoch 418/500\n",
            "105/105 [==============================] - 0s 1ms/step - loss: 6.4881 - mean_absolute_error: 1.6329 - val_loss: 837.7336 - val_mean_absolute_error: 19.9609\n",
            "Epoch 419/500\n",
            "105/105 [==============================] - 0s 1ms/step - loss: 6.4854 - mean_absolute_error: 1.6403 - val_loss: 837.9505 - val_mean_absolute_error: 19.9395\n",
            "Epoch 420/500\n",
            "105/105 [==============================] - 0s 1ms/step - loss: 6.4604 - mean_absolute_error: 1.6310 - val_loss: 837.7415 - val_mean_absolute_error: 19.9377\n",
            "Epoch 421/500\n",
            "105/105 [==============================] - 0s 1ms/step - loss: 6.4201 - mean_absolute_error: 1.6295 - val_loss: 837.1511 - val_mean_absolute_error: 19.9033\n",
            "Epoch 422/500\n",
            "105/105 [==============================] - 0s 1ms/step - loss: 6.4179 - mean_absolute_error: 1.6197 - val_loss: 837.9807 - val_mean_absolute_error: 19.9080\n",
            "Epoch 423/500\n",
            "105/105 [==============================] - 0s 1ms/step - loss: 6.3896 - mean_absolute_error: 1.6219 - val_loss: 837.7668 - val_mean_absolute_error: 19.9212\n",
            "Epoch 424/500\n",
            "105/105 [==============================] - 0s 1ms/step - loss: 6.3805 - mean_absolute_error: 1.6074 - val_loss: 838.6919 - val_mean_absolute_error: 19.9195\n",
            "Epoch 425/500\n",
            "105/105 [==============================] - 0s 1ms/step - loss: 6.3536 - mean_absolute_error: 1.6182 - val_loss: 838.1122 - val_mean_absolute_error: 19.9056\n",
            "Epoch 426/500\n",
            "105/105 [==============================] - 0s 1ms/step - loss: 6.3371 - mean_absolute_error: 1.6258 - val_loss: 839.1136 - val_mean_absolute_error: 19.9057\n",
            "Epoch 427/500\n",
            "105/105 [==============================] - 0s 1ms/step - loss: 6.3222 - mean_absolute_error: 1.6125 - val_loss: 836.7037 - val_mean_absolute_error: 19.8667\n",
            "Epoch 428/500\n",
            "105/105 [==============================] - 0s 1ms/step - loss: 6.3255 - mean_absolute_error: 1.6086 - val_loss: 839.3011 - val_mean_absolute_error: 19.9212\n",
            "Epoch 429/500\n",
            "105/105 [==============================] - 0s 974us/step - loss: 6.3262 - mean_absolute_error: 1.6039 - val_loss: 841.0337 - val_mean_absolute_error: 19.9612\n",
            "Epoch 430/500\n",
            "105/105 [==============================] - 0s 1ms/step - loss: 6.2999 - mean_absolute_error: 1.6245 - val_loss: 839.6620 - val_mean_absolute_error: 19.9262\n",
            "Epoch 431/500\n",
            "105/105 [==============================] - 0s 1ms/step - loss: 6.2654 - mean_absolute_error: 1.6103 - val_loss: 837.1154 - val_mean_absolute_error: 19.8797\n",
            "Epoch 432/500\n",
            "105/105 [==============================] - 0s 1ms/step - loss: 6.2351 - mean_absolute_error: 1.5933 - val_loss: 837.5482 - val_mean_absolute_error: 19.8833\n",
            "Epoch 433/500\n",
            "105/105 [==============================] - 0s 1ms/step - loss: 6.2451 - mean_absolute_error: 1.6062 - val_loss: 838.6754 - val_mean_absolute_error: 19.8902\n",
            "Epoch 434/500\n",
            "105/105 [==============================] - 0s 1ms/step - loss: 6.2165 - mean_absolute_error: 1.5986 - val_loss: 838.2515 - val_mean_absolute_error: 19.8834\n",
            "Epoch 435/500\n",
            "105/105 [==============================] - 0s 1ms/step - loss: 6.2109 - mean_absolute_error: 1.6021 - val_loss: 839.0019 - val_mean_absolute_error: 19.9039\n",
            "Epoch 436/500\n",
            "105/105 [==============================] - 0s 1ms/step - loss: 6.1911 - mean_absolute_error: 1.6029 - val_loss: 839.7574 - val_mean_absolute_error: 19.9159\n",
            "Epoch 437/500\n",
            "105/105 [==============================] - 0s 1ms/step - loss: 6.1597 - mean_absolute_error: 1.5881 - val_loss: 838.0567 - val_mean_absolute_error: 19.8801\n",
            "Epoch 438/500\n",
            "105/105 [==============================] - 0s 1ms/step - loss: 6.1762 - mean_absolute_error: 1.5917 - val_loss: 837.4545 - val_mean_absolute_error: 19.8605\n",
            "Epoch 439/500\n",
            "105/105 [==============================] - 0s 1ms/step - loss: 6.1509 - mean_absolute_error: 1.5866 - val_loss: 838.1929 - val_mean_absolute_error: 19.8856\n",
            "Epoch 440/500\n",
            "105/105 [==============================] - 0s 1ms/step - loss: 6.1166 - mean_absolute_error: 1.5805 - val_loss: 838.2437 - val_mean_absolute_error: 19.8634\n",
            "Epoch 441/500\n",
            "105/105 [==============================] - 0s 1ms/step - loss: 6.1245 - mean_absolute_error: 1.5818 - val_loss: 840.4193 - val_mean_absolute_error: 19.9058\n",
            "Epoch 442/500\n",
            "105/105 [==============================] - 0s 1ms/step - loss: 6.0748 - mean_absolute_error: 1.5740 - val_loss: 840.6589 - val_mean_absolute_error: 19.8886\n",
            "Epoch 443/500\n",
            "105/105 [==============================] - 0s 1ms/step - loss: 6.0736 - mean_absolute_error: 1.5724 - val_loss: 838.6684 - val_mean_absolute_error: 19.9026\n",
            "Epoch 444/500\n",
            "105/105 [==============================] - 0s 1ms/step - loss: 6.0610 - mean_absolute_error: 1.5723 - val_loss: 839.4222 - val_mean_absolute_error: 19.8940\n",
            "Epoch 445/500\n",
            "105/105 [==============================] - 0s 1ms/step - loss: 6.0380 - mean_absolute_error: 1.5701 - val_loss: 839.8425 - val_mean_absolute_error: 19.8921\n",
            "Epoch 446/500\n",
            "105/105 [==============================] - 0s 1ms/step - loss: 6.0327 - mean_absolute_error: 1.5652 - val_loss: 839.7372 - val_mean_absolute_error: 19.8790\n",
            "Epoch 447/500\n",
            "105/105 [==============================] - 0s 1ms/step - loss: 6.0192 - mean_absolute_error: 1.5591 - val_loss: 840.9611 - val_mean_absolute_error: 19.8924\n",
            "Epoch 448/500\n",
            "105/105 [==============================] - 0s 1ms/step - loss: 6.0173 - mean_absolute_error: 1.5668 - val_loss: 839.1181 - val_mean_absolute_error: 19.8510\n",
            "Epoch 449/500\n",
            "105/105 [==============================] - 0s 1ms/step - loss: 5.9741 - mean_absolute_error: 1.5646 - val_loss: 839.8780 - val_mean_absolute_error: 19.8413\n",
            "Epoch 450/500\n",
            "105/105 [==============================] - 0s 1ms/step - loss: 5.9762 - mean_absolute_error: 1.5624 - val_loss: 839.6674 - val_mean_absolute_error: 19.8622\n",
            "Epoch 451/500\n",
            "105/105 [==============================] - 0s 1ms/step - loss: 5.9144 - mean_absolute_error: 1.5466 - val_loss: 839.6185 - val_mean_absolute_error: 19.8687\n",
            "Epoch 452/500\n",
            "105/105 [==============================] - 0s 1ms/step - loss: 5.9241 - mean_absolute_error: 1.5432 - val_loss: 839.7233 - val_mean_absolute_error: 19.8667\n",
            "Epoch 453/500\n",
            "105/105 [==============================] - 0s 1ms/step - loss: 5.9035 - mean_absolute_error: 1.5450 - val_loss: 841.7693 - val_mean_absolute_error: 19.8777\n",
            "Epoch 454/500\n",
            "105/105 [==============================] - 0s 1ms/step - loss: 5.8756 - mean_absolute_error: 1.5428 - val_loss: 841.3489 - val_mean_absolute_error: 19.8817\n",
            "Epoch 455/500\n",
            "105/105 [==============================] - 0s 1ms/step - loss: 5.8861 - mean_absolute_error: 1.5396 - val_loss: 841.0316 - val_mean_absolute_error: 19.8721\n",
            "Epoch 456/500\n",
            "105/105 [==============================] - 0s 1ms/step - loss: 5.8882 - mean_absolute_error: 1.5477 - val_loss: 840.8164 - val_mean_absolute_error: 19.8634\n",
            "Epoch 457/500\n",
            "105/105 [==============================] - 0s 1ms/step - loss: 5.8236 - mean_absolute_error: 1.5277 - val_loss: 839.5521 - val_mean_absolute_error: 19.8776\n",
            "Epoch 458/500\n",
            "105/105 [==============================] - 0s 1ms/step - loss: 5.8448 - mean_absolute_error: 1.5506 - val_loss: 840.8974 - val_mean_absolute_error: 19.8419\n",
            "Epoch 459/500\n",
            "105/105 [==============================] - 0s 1ms/step - loss: 5.7959 - mean_absolute_error: 1.5275 - val_loss: 841.2715 - val_mean_absolute_error: 19.9000\n",
            "Epoch 460/500\n",
            "105/105 [==============================] - 0s 1ms/step - loss: 5.7597 - mean_absolute_error: 1.5270 - val_loss: 840.3666 - val_mean_absolute_error: 19.8444\n",
            "Epoch 461/500\n",
            "105/105 [==============================] - 0s 1ms/step - loss: 5.7914 - mean_absolute_error: 1.5318 - val_loss: 840.0637 - val_mean_absolute_error: 19.8621\n",
            "Epoch 462/500\n",
            "105/105 [==============================] - 0s 1ms/step - loss: 5.7426 - mean_absolute_error: 1.5195 - val_loss: 842.3939 - val_mean_absolute_error: 19.8700\n",
            "Epoch 463/500\n",
            "105/105 [==============================] - 0s 1ms/step - loss: 5.7188 - mean_absolute_error: 1.5167 - val_loss: 841.6858 - val_mean_absolute_error: 19.8835\n",
            "Epoch 464/500\n",
            "105/105 [==============================] - 0s 1ms/step - loss: 5.7170 - mean_absolute_error: 1.5193 - val_loss: 842.0998 - val_mean_absolute_error: 19.8780\n",
            "Epoch 465/500\n",
            "105/105 [==============================] - 0s 1ms/step - loss: 5.7008 - mean_absolute_error: 1.5229 - val_loss: 842.1675 - val_mean_absolute_error: 19.8794\n",
            "Epoch 466/500\n",
            "105/105 [==============================] - 0s 1ms/step - loss: 5.6919 - mean_absolute_error: 1.5185 - val_loss: 841.3532 - val_mean_absolute_error: 19.8543\n",
            "Epoch 467/500\n",
            "105/105 [==============================] - 0s 1ms/step - loss: 5.6788 - mean_absolute_error: 1.5150 - val_loss: 840.0526 - val_mean_absolute_error: 19.8201\n",
            "Epoch 468/500\n",
            "105/105 [==============================] - 0s 1ms/step - loss: 5.6544 - mean_absolute_error: 1.5074 - val_loss: 841.1001 - val_mean_absolute_error: 19.8332\n",
            "Epoch 469/500\n",
            "105/105 [==============================] - 0s 1ms/step - loss: 5.6356 - mean_absolute_error: 1.5129 - val_loss: 841.3795 - val_mean_absolute_error: 19.8444\n",
            "Epoch 470/500\n",
            "105/105 [==============================] - 0s 1ms/step - loss: 5.6240 - mean_absolute_error: 1.5105 - val_loss: 842.1089 - val_mean_absolute_error: 19.8600\n",
            "Epoch 471/500\n",
            "105/105 [==============================] - 0s 1ms/step - loss: 5.6026 - mean_absolute_error: 1.5102 - val_loss: 841.0848 - val_mean_absolute_error: 19.8241\n",
            "Epoch 472/500\n",
            "105/105 [==============================] - 0s 1ms/step - loss: 5.6138 - mean_absolute_error: 1.5000 - val_loss: 841.1258 - val_mean_absolute_error: 19.8322\n",
            "Epoch 473/500\n",
            "105/105 [==============================] - 0s 1ms/step - loss: 5.5829 - mean_absolute_error: 1.4988 - val_loss: 842.7857 - val_mean_absolute_error: 19.8788\n",
            "Epoch 474/500\n",
            "105/105 [==============================] - 0s 1ms/step - loss: 5.5530 - mean_absolute_error: 1.4930 - val_loss: 840.8173 - val_mean_absolute_error: 19.8200\n",
            "Epoch 475/500\n",
            "105/105 [==============================] - 0s 1ms/step - loss: 5.5605 - mean_absolute_error: 1.4894 - val_loss: 841.1074 - val_mean_absolute_error: 19.8475\n",
            "Epoch 476/500\n",
            "105/105 [==============================] - 0s 1ms/step - loss: 5.5305 - mean_absolute_error: 1.4861 - val_loss: 841.9577 - val_mean_absolute_error: 19.8396\n",
            "Epoch 477/500\n",
            "105/105 [==============================] - 0s 1ms/step - loss: 5.5385 - mean_absolute_error: 1.5004 - val_loss: 842.0638 - val_mean_absolute_error: 19.8331\n",
            "Epoch 478/500\n",
            "105/105 [==============================] - 0s 1ms/step - loss: 5.4591 - mean_absolute_error: 1.4780 - val_loss: 841.1656 - val_mean_absolute_error: 19.8343\n",
            "Epoch 479/500\n",
            "105/105 [==============================] - 0s 1ms/step - loss: 5.4848 - mean_absolute_error: 1.4888 - val_loss: 841.0985 - val_mean_absolute_error: 19.8100\n",
            "Epoch 480/500\n",
            "105/105 [==============================] - 0s 1ms/step - loss: 5.4790 - mean_absolute_error: 1.4750 - val_loss: 841.8042 - val_mean_absolute_error: 19.8220\n",
            "Epoch 481/500\n",
            "105/105 [==============================] - 0s 1ms/step - loss: 5.4602 - mean_absolute_error: 1.4800 - val_loss: 840.0899 - val_mean_absolute_error: 19.7918\n",
            "Epoch 482/500\n",
            "105/105 [==============================] - 0s 1ms/step - loss: 5.4351 - mean_absolute_error: 1.4726 - val_loss: 841.3965 - val_mean_absolute_error: 19.8130\n",
            "Epoch 483/500\n",
            "105/105 [==============================] - 0s 1ms/step - loss: 5.4038 - mean_absolute_error: 1.4728 - val_loss: 841.2724 - val_mean_absolute_error: 19.7906\n",
            "Epoch 484/500\n",
            "105/105 [==============================] - 0s 1ms/step - loss: 5.3831 - mean_absolute_error: 1.4708 - val_loss: 840.6251 - val_mean_absolute_error: 19.8248\n",
            "Epoch 485/500\n",
            "105/105 [==============================] - 0s 1ms/step - loss: 5.3753 - mean_absolute_error: 1.4593 - val_loss: 842.2983 - val_mean_absolute_error: 19.8185\n",
            "Epoch 486/500\n",
            "105/105 [==============================] - 0s 1ms/step - loss: 5.3723 - mean_absolute_error: 1.4710 - val_loss: 840.7488 - val_mean_absolute_error: 19.8066\n",
            "Epoch 487/500\n",
            "105/105 [==============================] - 0s 1ms/step - loss: 5.3600 - mean_absolute_error: 1.4709 - val_loss: 841.6235 - val_mean_absolute_error: 19.7977\n",
            "Epoch 488/500\n",
            "105/105 [==============================] - 0s 1ms/step - loss: 5.3321 - mean_absolute_error: 1.4584 - val_loss: 841.0525 - val_mean_absolute_error: 19.7863\n",
            "Epoch 489/500\n",
            "105/105 [==============================] - 0s 1ms/step - loss: 5.3082 - mean_absolute_error: 1.4554 - val_loss: 839.9692 - val_mean_absolute_error: 19.7534\n",
            "Epoch 490/500\n",
            "105/105 [==============================] - 0s 1ms/step - loss: 5.3317 - mean_absolute_error: 1.4560 - val_loss: 840.1495 - val_mean_absolute_error: 19.7544\n",
            "Epoch 491/500\n",
            "105/105 [==============================] - 0s 1ms/step - loss: 5.2755 - mean_absolute_error: 1.4497 - val_loss: 841.3116 - val_mean_absolute_error: 19.7698\n",
            "Epoch 492/500\n",
            "105/105 [==============================] - 0s 1ms/step - loss: 5.2648 - mean_absolute_error: 1.4441 - val_loss: 841.9171 - val_mean_absolute_error: 19.7855\n",
            "Epoch 493/500\n",
            "105/105 [==============================] - 0s 1ms/step - loss: 5.2572 - mean_absolute_error: 1.4470 - val_loss: 841.0628 - val_mean_absolute_error: 19.7686\n",
            "Epoch 494/500\n",
            "105/105 [==============================] - 0s 1ms/step - loss: 5.2695 - mean_absolute_error: 1.4572 - val_loss: 842.6077 - val_mean_absolute_error: 19.7816\n",
            "Epoch 495/500\n",
            "105/105 [==============================] - 0s 1ms/step - loss: 5.2350 - mean_absolute_error: 1.4372 - val_loss: 842.1874 - val_mean_absolute_error: 19.7860\n",
            "Epoch 496/500\n",
            "105/105 [==============================] - 0s 1ms/step - loss: 5.2097 - mean_absolute_error: 1.4532 - val_loss: 842.4269 - val_mean_absolute_error: 19.7809\n",
            "Epoch 497/500\n",
            "105/105 [==============================] - 0s 1ms/step - loss: 5.1960 - mean_absolute_error: 1.4275 - val_loss: 839.9810 - val_mean_absolute_error: 19.7316\n",
            "Epoch 498/500\n",
            "105/105 [==============================] - 0s 1ms/step - loss: 5.1994 - mean_absolute_error: 1.4331 - val_loss: 839.6669 - val_mean_absolute_error: 19.7275\n",
            "Epoch 499/500\n",
            "105/105 [==============================] - 0s 1ms/step - loss: 5.1771 - mean_absolute_error: 1.4325 - val_loss: 839.9246 - val_mean_absolute_error: 19.7275\n",
            "Epoch 500/500\n",
            "105/105 [==============================] - 0s 1ms/step - loss: 5.1725 - mean_absolute_error: 1.4386 - val_loss: 840.8806 - val_mean_absolute_error: 19.7420\n"
          ],
          "name": "stdout"
        }
      ]
    },
    {
      "cell_type": "code",
      "metadata": {
        "id": "3FfY9mHOZcNR",
        "colab_type": "code",
        "outputId": "f1e94467-7e5e-48ce-c62c-e831774a0e18",
        "colab": {
          "base_uri": "https://localhost:8080/",
          "height": 35
        }
      },
      "source": [
        "len(mae_history)"
      ],
      "execution_count": 0,
      "outputs": [
        {
          "output_type": "execute_result",
          "data": {
            "text/plain": [
              "500"
            ]
          },
          "metadata": {
            "tags": []
          },
          "execution_count": 51
        }
      ]
    },
    {
      "cell_type": "markdown",
      "metadata": {
        "id": "_JFcHa2LGPXj",
        "colab_type": "text"
      },
      "source": [
        "#Plotting training and validation mae"
      ]
    },
    {
      "cell_type": "code",
      "metadata": {
        "id": "13s5AsNnFQ7F",
        "colab_type": "code",
        "outputId": "6f0837b4-0c2e-4473-966a-b2f85de4cac5",
        "colab": {
          "base_uri": "https://localhost:8080/"
        }
      },
      "source": [
        "import matplotlib.pyplot as plt\n",
        "plt.plot(range(1, len(mae_val_history) + 1), mae_val_history, 'r', label='Validation mae')\n",
        "plt.plot(range(1, len(mae_history) + 1), mae_history, 'b', label='Training mae')\n",
        "plt.xlabel('Epochs')\n",
        "plt.ylabel('Validation MAE')\n",
        "plt.legend()\n",
        "plt.show()\n"
      ],
      "execution_count": 0,
      "outputs": [
        {
          "output_type": "display_data",
          "data": {
            "image/png": "[encoded data removed]",
            "text/plain": [
              "<Figure size 432x288 with 1 Axes>"
            ]
          },
          "metadata": {
            "tags": []
          }
        }
      ]
    },
    {
      "cell_type": "markdown",
      "metadata": {
        "id": "723BbzxdJtj-",
        "colab_type": "text"
      },
      "source": [
        "#Plotting training and validation loss"
      ]
    },
    {
      "cell_type": "code",
      "metadata": {
        "id": "tezhzHbMGguv",
        "colab_type": "code",
        "outputId": "77ec6050-d579-4d58-e4b3-af6c0d2b7438",
        "colab": {
          "base_uri": "https://localhost:8080/"
        }
      },
      "source": [
        "import matplotlib.pyplot as plt\n",
        "plt.plot(range(1, len(loss_val_history) + 1), loss_val_history, 'r', label='Validation loss')\n",
        "plt.plot(range(1, len(loss_history) + 1), loss_history, 'b', label='Training loss')\n",
        "plt.xlabel('Epochs')\n",
        "plt.ylabel('Validation LOSS')\n",
        "plt.legend()\n",
        "plt.show()"
      ],
      "execution_count": 0,
      "outputs": [
        {
          "output_type": "display_data",
          "data": {
            "image/png": "[encoded data removed]",
            "text/plain": [
              "<Figure size 432x288 with 1 Axes>"
            ]
          },
          "metadata": {
            "tags": []
          }
        }
      ]
    },
    {
      "cell_type": "markdown",
      "metadata": {
        "id": "3cYo_1gJEMly",
        "colab_type": "text"
      },
      "source": [
        "#Test model\n"
      ]
    },
    {
      "cell_type": "code",
      "metadata": {
        "id": "ZiMorOCCKPF8",
        "colab_type": "code",
        "outputId": "f67448d2-6b26-4202-f3a3-e9c7af6dae6a",
        "colab": {
          "base_uri": "https://localhost:8080/"
        }
      },
      "source": [
        "model.fit(train_data_stand_pca, train_targets, epochs=80, batch_size=1, verbose=0)\n",
        "test_mse_score, test_mae_score = model.evaluate(test_data_stand_pca, y_test)"
      ],
      "execution_count": 0,
      "outputs": [
        {
          "output_type": "stream",
          "text": [
            "\r13/13 [==============================] - 0s 37us/step\n"
          ],
          "name": "stdout"
        }
      ]
    },
    {
      "cell_type": "code",
      "metadata": {
        "id": "TiVCR2H6E1QB",
        "colab_type": "code",
        "outputId": "6ea0e930-1bf4-459f-d31c-3d2a076f0298",
        "colab": {
          "base_uri": "https://localhost:8080/"
        }
      },
      "source": [
        "test_mae_score"
      ],
      "execution_count": 0,
      "outputs": [
        {
          "output_type": "execute_result",
          "data": {
            "text/plain": [
              "17.643218994140625"
            ]
          },
          "metadata": {
            "tags": []
          },
          "execution_count": 55
        }
      ]
    }
  ]
}