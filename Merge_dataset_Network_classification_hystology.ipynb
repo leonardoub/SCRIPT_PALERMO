{
  "nbformat": 4,
  "nbformat_minor": 0,
  "metadata": {
    "colab": {
      "name": "Merge_dataset_Network_classification_hystology.ipynb",
      "provenance": [],
      "toc_visible": true,
      "include_colab_link": true
    },
    "kernelspec": {
      "name": "python3",
      "display_name": "Python 3"
    }
  },
  "cells": [
    {
      "cell_type": "markdown",
      "metadata": {
        "id": "view-in-github",
        "colab_type": "text"
      },
      "source": [
        "<a href=\"https://colab.research.google.com/github/leonardoub/SCRIPT_PALERMO/blob/master/Merge_dataset_Network_classification_hystology.ipynb\" target=\"_parent\"><img src=\"https://colab.research.google.com/assets/colab-badge.svg\" alt=\"Open In Colab\"/></a>"
      ]
    },
    {
      "cell_type": "markdown",
      "metadata": {
        "id": "FfLmMhRwN_ua",
        "colab_type": "text"
      },
      "source": [
        "Prove mettendo insieme i due dataset. Partendo da un unico dataset e dividendolo usando train_test_split.\n",
        "\n",
        "\n",
        "\n"
      ]
    },
    {
      "cell_type": "code",
      "metadata": {
        "id": "IDYn4tlNNkCA",
        "colab_type": "code",
        "colab": {}
      },
      "source": [
        "import pandas as pd\n",
        "import numpy as np\n",
        "import matplotlib.pyplot as plt\n",
        "import scipy"
      ],
      "execution_count": 0,
      "outputs": []
    },
    {
      "cell_type": "markdown",
      "metadata": {
        "id": "ln0sTf8q1IrI",
        "colab_type": "text"
      },
      "source": [
        "#Load data"
      ]
    },
    {
      "cell_type": "code",
      "metadata": {
        "id": "lyyNl4gxhEwD",
        "colab_type": "code",
        "outputId": "6a97d0ae-819a-44ad-b516-7f41377a50c6",
        "colab": {
          "base_uri": "https://localhost:8080/",
          "height": 35
        }
      },
      "source": [
        "#load data from Drive\n",
        "from google.colab import drive\n",
        "drive.mount('/gdrive')\n",
        "#%cd /gdrive"
      ],
      "execution_count": 2,
      "outputs": [
        {
          "output_type": "stream",
          "text": [
            "Drive already mounted at /gdrive; to attempt to forcibly remount, call drive.mount(\"/gdrive\", force_remount=True).\n"
          ],
          "name": "stdout"
        }
      ]
    },
    {
      "cell_type": "code",
      "metadata": {
        "id": "UCkUXesZhMzg",
        "colab_type": "code",
        "colab": {}
      },
      "source": [
        "train_dataset_path = '/gdrive/My Drive/AIM_PA/database_training2.csv'\n",
        "test_dataset_path = '/gdrive/My Drive/AIM_PA/database_nostro_without_nan.csv'"
      ],
      "execution_count": 0,
      "outputs": []
    },
    {
      "cell_type": "code",
      "metadata": {
        "id": "TczPxOpEhTXw",
        "colab_type": "code",
        "colab": {}
      },
      "source": [
        "df_train = pd.read_csv(train_dataset_path)\n",
        "df_test = pd.read_csv(test_dataset_path)"
      ],
      "execution_count": 0,
      "outputs": []
    },
    {
      "cell_type": "code",
      "metadata": {
        "id": "Ll-87QSVhqhj",
        "colab_type": "code",
        "colab": {}
      },
      "source": [
        "df_train.rename(columns={'Survival.time (months)':'Surv_time_months'}, inplace=True)"
      ],
      "execution_count": 0,
      "outputs": []
    },
    {
      "cell_type": "code",
      "metadata": {
        "id": "ulSbeCedhuxJ",
        "colab_type": "code",
        "colab": {}
      },
      "source": [
        "df_test.rename(columns={'Survival.time (months)':'Surv_time_months'}, inplace=True)"
      ],
      "execution_count": 0,
      "outputs": []
    },
    {
      "cell_type": "code",
      "metadata": {
        "id": "xbcwLGg3iNSn",
        "colab_type": "code",
        "colab": {}
      },
      "source": [
        "df_train.rename(columns={'Overall.Stage':'Overall_Stage'}, inplace=True)\n",
        "df_test.rename(columns={'Overall.Stage':'Overall_Stage'}, inplace=True)"
      ],
      "execution_count": 0,
      "outputs": []
    },
    {
      "cell_type": "code",
      "metadata": {
        "id": "oKKv4iKghWWn",
        "colab_type": "code",
        "colab": {}
      },
      "source": [
        "train_data = df_train.drop(['Histology', 'Surv_time_months', 'OS', 'deadstatus.event','Overall_Stage'], axis=1)"
      ],
      "execution_count": 0,
      "outputs": []
    },
    {
      "cell_type": "code",
      "metadata": {
        "id": "vQdR4izXiT0f",
        "colab_type": "code",
        "colab": {}
      },
      "source": [
        "test_data = df_test.drop(['Histology', 'Surv_time_months', 'OS', 'deadstatus.event','Overall_Stage'], axis=1)"
      ],
      "execution_count": 0,
      "outputs": []
    },
    {
      "cell_type": "code",
      "metadata": {
        "id": "Lu46pqnPhnCG",
        "colab_type": "code",
        "colab": {}
      },
      "source": [
        "train_labels = df_train.Histology"
      ],
      "execution_count": 0,
      "outputs": []
    },
    {
      "cell_type": "code",
      "metadata": {
        "id": "aS5wIylYmsQf",
        "colab_type": "code",
        "colab": {}
      },
      "source": [
        "test_labels = df_test.Histology"
      ],
      "execution_count": 0,
      "outputs": []
    },
    {
      "cell_type": "code",
      "metadata": {
        "id": "21MJpB7HPm8P",
        "colab_type": "code",
        "colab": {}
      },
      "source": [
        "tot_data = pd.concat([train_data, test_data], axis=0)"
      ],
      "execution_count": 0,
      "outputs": []
    },
    {
      "cell_type": "code",
      "metadata": {
        "id": "01IYan5zRsyi",
        "colab_type": "code",
        "outputId": "495135d1-3e5b-4810-f3d2-7e24133c76d3",
        "colab": {
          "base_uri": "https://localhost:8080/",
          "height": 35
        }
      },
      "source": [
        "train_data.shape"
      ],
      "execution_count": 13,
      "outputs": [
        {
          "output_type": "execute_result",
          "data": {
            "text/plain": [
              "(131, 107)"
            ]
          },
          "metadata": {
            "tags": []
          },
          "execution_count": 13
        }
      ]
    },
    {
      "cell_type": "code",
      "metadata": {
        "id": "1H421egATgdD",
        "colab_type": "code",
        "outputId": "10149185-5078-49d7-d362-280ab6978b07",
        "colab": {
          "base_uri": "https://localhost:8080/",
          "height": 35
        }
      },
      "source": [
        "test_data.shape"
      ],
      "execution_count": 14,
      "outputs": [
        {
          "output_type": "execute_result",
          "data": {
            "text/plain": [
              "(34, 107)"
            ]
          },
          "metadata": {
            "tags": []
          },
          "execution_count": 14
        }
      ]
    },
    {
      "cell_type": "code",
      "metadata": {
        "id": "6yLhL0BxTi96",
        "colab_type": "code",
        "outputId": "c602e687-3e0e-4923-9666-85bd6979916a",
        "colab": {
          "base_uri": "https://localhost:8080/",
          "height": 35
        }
      },
      "source": [
        "tot_data.shape"
      ],
      "execution_count": 15,
      "outputs": [
        {
          "output_type": "execute_result",
          "data": {
            "text/plain": [
              "(165, 107)"
            ]
          },
          "metadata": {
            "tags": []
          },
          "execution_count": 15
        }
      ]
    },
    {
      "cell_type": "code",
      "metadata": {
        "id": "cisCrQrHVZfj",
        "colab_type": "code",
        "outputId": "ca7d4bba-717a-4f4f-ad6c-0d0de3050519",
        "colab": {
          "base_uri": "https://localhost:8080/",
          "height": 444
        }
      },
      "source": [
        "tot_data"
      ],
      "execution_count": 16,
      "outputs": [
        {
          "output_type": "execute_result",
          "data": {
            "text/html": [
              "<div>\n",
              "<style scoped>\n",
              "    .dataframe tbody tr th:only-of-type {\n",
              "        vertical-align: middle;\n",
              "    }\n",
              "\n",
              "    .dataframe tbody tr th {\n",
              "        vertical-align: top;\n",
              "    }\n",
              "\n",
              "    .dataframe thead th {\n",
              "        text-align: right;\n",
              "    }\n",
              "</style>\n",
              "<table border=\"1\" class=\"dataframe\">\n",
              "  <thead>\n",
              "    <tr style=\"text-align: right;\">\n",
              "      <th></th>\n",
              "      <th>VoxelVolume</th>\n",
              "      <th>Maximum3DDiameter</th>\n",
              "      <th>MeshVolume</th>\n",
              "      <th>MajorAxisLength</th>\n",
              "      <th>Sphericity</th>\n",
              "      <th>LeastAxisLength</th>\n",
              "      <th>Elongation</th>\n",
              "      <th>SurfaceVolumeRatio</th>\n",
              "      <th>Maximum2DDiameterSlice</th>\n",
              "      <th>Flatness</th>\n",
              "      <th>SurfaceArea</th>\n",
              "      <th>MinorAxisLength</th>\n",
              "      <th>Maximum2DDiameterColumn</th>\n",
              "      <th>Maximum2DDiameterRow</th>\n",
              "      <th>GrayLevelVariance</th>\n",
              "      <th>HighGrayLevelEmphasis</th>\n",
              "      <th>DependenceEntropy</th>\n",
              "      <th>DependenceNonUniformity</th>\n",
              "      <th>GrayLevelNonUniformity</th>\n",
              "      <th>SmallDependenceEmphasis</th>\n",
              "      <th>SmallDependenceHighGrayLevelEmphasis</th>\n",
              "      <th>DependenceNonUniformityNormalized</th>\n",
              "      <th>LargeDependenceEmphasis</th>\n",
              "      <th>LargeDependenceLowGrayLevelEmphasis</th>\n",
              "      <th>DependenceVariance</th>\n",
              "      <th>LargeDependenceHighGrayLevelEmphasis</th>\n",
              "      <th>SmallDependenceLowGrayLevelEmphasis</th>\n",
              "      <th>LowGrayLevelEmphasis</th>\n",
              "      <th>JointAverage</th>\n",
              "      <th>SumAverage</th>\n",
              "      <th>JointEntropy</th>\n",
              "      <th>ClusterShade</th>\n",
              "      <th>MaximumProbability</th>\n",
              "      <th>Idmn</th>\n",
              "      <th>JointEnergy</th>\n",
              "      <th>Contrast</th>\n",
              "      <th>DifferenceEntropy</th>\n",
              "      <th>InverseVariance</th>\n",
              "      <th>DifferenceVariance</th>\n",
              "      <th>Idn</th>\n",
              "      <th>...</th>\n",
              "      <th>10Percentile</th>\n",
              "      <th>Kurtosis</th>\n",
              "      <th>Mean</th>\n",
              "      <th>ShortRunLowGrayLevelEmphasis</th>\n",
              "      <th>GrayLevelVariance.1</th>\n",
              "      <th>LowGrayLevelRunEmphasis</th>\n",
              "      <th>GrayLevelNonUniformityNormalized</th>\n",
              "      <th>RunVariance</th>\n",
              "      <th>GrayLevelNonUniformity.1</th>\n",
              "      <th>LongRunEmphasis</th>\n",
              "      <th>ShortRunHighGrayLevelEmphasis</th>\n",
              "      <th>RunLengthNonUniformity</th>\n",
              "      <th>ShortRunEmphasis</th>\n",
              "      <th>LongRunHighGrayLevelEmphasis</th>\n",
              "      <th>RunPercentage</th>\n",
              "      <th>LongRunLowGrayLevelEmphasis</th>\n",
              "      <th>RunEntropy</th>\n",
              "      <th>HighGrayLevelRunEmphasis</th>\n",
              "      <th>RunLengthNonUniformityNormalized</th>\n",
              "      <th>GrayLevelVariance.2</th>\n",
              "      <th>ZoneVariance</th>\n",
              "      <th>GrayLevelNonUniformityNormalized.1</th>\n",
              "      <th>SizeZoneNonUniformityNormalized</th>\n",
              "      <th>SizeZoneNonUniformity</th>\n",
              "      <th>GrayLevelNonUniformity.2</th>\n",
              "      <th>LargeAreaEmphasis</th>\n",
              "      <th>SmallAreaHighGrayLevelEmphasis</th>\n",
              "      <th>ZonePercentage</th>\n",
              "      <th>LargeAreaLowGrayLevelEmphasis</th>\n",
              "      <th>LargeAreaHighGrayLevelEmphasis</th>\n",
              "      <th>HighGrayLevelZoneEmphasis</th>\n",
              "      <th>SmallAreaEmphasis</th>\n",
              "      <th>LowGrayLevelZoneEmphasis</th>\n",
              "      <th>ZoneEntropy</th>\n",
              "      <th>SmallAreaLowGrayLevelEmphasis</th>\n",
              "      <th>Coarseness</th>\n",
              "      <th>Complexity</th>\n",
              "      <th>Strength</th>\n",
              "      <th>Contrast.1</th>\n",
              "      <th>Busyness</th>\n",
              "    </tr>\n",
              "  </thead>\n",
              "  <tbody>\n",
              "    <tr>\n",
              "      <th>0</th>\n",
              "      <td>51905.377962</td>\n",
              "      <td>66.288317</td>\n",
              "      <td>51847.748274</td>\n",
              "      <td>50.574214</td>\n",
              "      <td>0.649258</td>\n",
              "      <td>37.884620</td>\n",
              "      <td>0.821088</td>\n",
              "      <td>0.199752</td>\n",
              "      <td>63.135672</td>\n",
              "      <td>0.749090</td>\n",
              "      <td>10356.675894</td>\n",
              "      <td>41.525899</td>\n",
              "      <td>65.067279</td>\n",
              "      <td>55.325619</td>\n",
              "      <td>12.481889</td>\n",
              "      <td>1084.854684</td>\n",
              "      <td>5.949646</td>\n",
              "      <td>918.046673</td>\n",
              "      <td>5312.127441</td>\n",
              "      <td>0.122582</td>\n",
              "      <td>97.652454</td>\n",
              "      <td>0.050648</td>\n",
              "      <td>141.807349</td>\n",
              "      <td>0.124010</td>\n",
              "      <td>42.380287</td>\n",
              "      <td>163828.301666</td>\n",
              "      <td>0.000266</td>\n",
              "      <td>0.001208</td>\n",
              "      <td>33.190463</td>\n",
              "      <td>66.380925</td>\n",
              "      <td>4.331076</td>\n",
              "      <td>-475.448161</td>\n",
              "      <td>0.308299</td>\n",
              "      <td>0.994676</td>\n",
              "      <td>0.133643</td>\n",
              "      <td>8.029403</td>\n",
              "      <td>2.169232</td>\n",
              "      <td>0.424312</td>\n",
              "      <td>6.065116</td>\n",
              "      <td>0.967009</td>\n",
              "      <td>...</td>\n",
              "      <td>-75.0</td>\n",
              "      <td>17.777521</td>\n",
              "      <td>5.650502</td>\n",
              "      <td>0.001166</td>\n",
              "      <td>17.478141</td>\n",
              "      <td>0.001372</td>\n",
              "      <td>0.192540</td>\n",
              "      <td>1.399893</td>\n",
              "      <td>2288.112500</td>\n",
              "      <td>3.749302</td>\n",
              "      <td>793.234742</td>\n",
              "      <td>6675.859117</td>\n",
              "      <td>0.776723</td>\n",
              "      <td>4220.221337</td>\n",
              "      <td>0.654950</td>\n",
              "      <td>0.003806</td>\n",
              "      <td>4.209293</td>\n",
              "      <td>1049.544424</td>\n",
              "      <td>0.560736</td>\n",
              "      <td>34.869500</td>\n",
              "      <td>42116.076135</td>\n",
              "      <td>0.060025</td>\n",
              "      <td>0.517739</td>\n",
              "      <td>1145.238698</td>\n",
              "      <td>132.775769</td>\n",
              "      <td>42183.224231</td>\n",
              "      <td>540.316964</td>\n",
              "      <td>0.122035</td>\n",
              "      <td>36.510775</td>\n",
              "      <td>4.877236e+07</td>\n",
              "      <td>751.520796</td>\n",
              "      <td>0.747563</td>\n",
              "      <td>0.002453</td>\n",
              "      <td>5.741322</td>\n",
              "      <td>0.001663</td>\n",
              "      <td>0.000357</td>\n",
              "      <td>928.016789</td>\n",
              "      <td>1.153806</td>\n",
              "      <td>0.020920</td>\n",
              "      <td>1.306338</td>\n",
              "    </tr>\n",
              "    <tr>\n",
              "      <th>1</th>\n",
              "      <td>13432.502747</td>\n",
              "      <td>58.057539</td>\n",
              "      <td>13312.697411</td>\n",
              "      <td>48.354803</td>\n",
              "      <td>0.572236</td>\n",
              "      <td>18.135097</td>\n",
              "      <td>0.546338</td>\n",
              "      <td>0.356577</td>\n",
              "      <td>40.146103</td>\n",
              "      <td>0.375042</td>\n",
              "      <td>4747.006589</td>\n",
              "      <td>26.418066</td>\n",
              "      <td>32.760898</td>\n",
              "      <td>56.652510</td>\n",
              "      <td>60.615944</td>\n",
              "      <td>1076.589137</td>\n",
              "      <td>7.130906</td>\n",
              "      <td>595.667519</td>\n",
              "      <td>351.846858</td>\n",
              "      <td>0.307871</td>\n",
              "      <td>239.202712</td>\n",
              "      <td>0.126873</td>\n",
              "      <td>32.011715</td>\n",
              "      <td>0.031426</td>\n",
              "      <td>12.612334</td>\n",
              "      <td>41890.348882</td>\n",
              "      <td>0.001812</td>\n",
              "      <td>0.003214</td>\n",
              "      <td>33.522040</td>\n",
              "      <td>67.044080</td>\n",
              "      <td>7.487967</td>\n",
              "      <td>-2829.110940</td>\n",
              "      <td>0.055759</td>\n",
              "      <td>0.985695</td>\n",
              "      <td>0.015596</td>\n",
              "      <td>38.337756</td>\n",
              "      <td>3.408960</td>\n",
              "      <td>0.322015</td>\n",
              "      <td>23.246287</td>\n",
              "      <td>0.935189</td>\n",
              "      <td>...</td>\n",
              "      <td>-397.0</td>\n",
              "      <td>5.224099</td>\n",
              "      <td>-91.310969</td>\n",
              "      <td>0.003404</td>\n",
              "      <td>65.432452</td>\n",
              "      <td>0.003524</td>\n",
              "      <td>0.064158</td>\n",
              "      <td>0.230922</td>\n",
              "      <td>262.139314</td>\n",
              "      <td>1.567042</td>\n",
              "      <td>926.829706</td>\n",
              "      <td>3237.676584</td>\n",
              "      <td>0.908183</td>\n",
              "      <td>1777.017297</td>\n",
              "      <td>0.869059</td>\n",
              "      <td>0.004164</td>\n",
              "      <td>5.072184</td>\n",
              "      <td>1044.275778</td>\n",
              "      <td>0.790377</td>\n",
              "      <td>84.615342</td>\n",
              "      <td>598.216508</td>\n",
              "      <td>0.033349</td>\n",
              "      <td>0.543736</td>\n",
              "      <td>843.878866</td>\n",
              "      <td>51.757732</td>\n",
              "      <td>607.367912</td>\n",
              "      <td>543.633876</td>\n",
              "      <td>0.330564</td>\n",
              "      <td>0.465530</td>\n",
              "      <td>8.137725e+05</td>\n",
              "      <td>763.567010</td>\n",
              "      <td>0.764879</td>\n",
              "      <td>0.006307</td>\n",
              "      <td>6.451087</td>\n",
              "      <td>0.004959</td>\n",
              "      <td>0.001680</td>\n",
              "      <td>2944.805484</td>\n",
              "      <td>2.266070</td>\n",
              "      <td>0.146173</td>\n",
              "      <td>0.253533</td>\n",
              "    </tr>\n",
              "    <tr>\n",
              "      <th>2</th>\n",
              "      <td>25843.872675</td>\n",
              "      <td>52.918217</td>\n",
              "      <td>25724.437234</td>\n",
              "      <td>39.406474</td>\n",
              "      <td>0.675497</td>\n",
              "      <td>28.487740</td>\n",
              "      <td>0.891907</td>\n",
              "      <td>0.242519</td>\n",
              "      <td>46.415213</td>\n",
              "      <td>0.722920</td>\n",
              "      <td>6238.658603</td>\n",
              "      <td>35.146929</td>\n",
              "      <td>47.180420</td>\n",
              "      <td>46.322906</td>\n",
              "      <td>55.064124</td>\n",
              "      <td>1131.900166</td>\n",
              "      <td>6.932158</td>\n",
              "      <td>844.783490</td>\n",
              "      <td>1023.136953</td>\n",
              "      <td>0.253452</td>\n",
              "      <td>192.059998</td>\n",
              "      <td>0.093605</td>\n",
              "      <td>57.855402</td>\n",
              "      <td>0.045979</td>\n",
              "      <td>22.286238</td>\n",
              "      <td>79266.271357</td>\n",
              "      <td>0.000812</td>\n",
              "      <td>0.001864</td>\n",
              "      <td>34.046184</td>\n",
              "      <td>68.092368</td>\n",
              "      <td>6.796695</td>\n",
              "      <td>-3133.512010</td>\n",
              "      <td>0.106695</td>\n",
              "      <td>0.984515</td>\n",
              "      <td>0.033042</td>\n",
              "      <td>32.375097</td>\n",
              "      <td>3.182144</td>\n",
              "      <td>0.362633</td>\n",
              "      <td>21.028555</td>\n",
              "      <td>0.936889</td>\n",
              "      <td>...</td>\n",
              "      <td>-363.0</td>\n",
              "      <td>5.387644</td>\n",
              "      <td>-67.724986</td>\n",
              "      <td>0.001973</td>\n",
              "      <td>61.733697</td>\n",
              "      <td>0.002096</td>\n",
              "      <td>0.085594</td>\n",
              "      <td>0.426431</td>\n",
              "      <td>626.125860</td>\n",
              "      <td>1.968083</td>\n",
              "      <td>906.575851</td>\n",
              "      <td>5266.417163</td>\n",
              "      <td>0.870954</td>\n",
              "      <td>2393.005796</td>\n",
              "      <td>0.809077</td>\n",
              "      <td>0.002930</td>\n",
              "      <td>4.968901</td>\n",
              "      <td>1079.567623</td>\n",
              "      <td>0.718481</td>\n",
              "      <td>68.928494</td>\n",
              "      <td>3157.415098</td>\n",
              "      <td>0.036760</td>\n",
              "      <td>0.531612</td>\n",
              "      <td>1319.991542</td>\n",
              "      <td>91.276279</td>\n",
              "      <td>3170.626259</td>\n",
              "      <td>525.709823</td>\n",
              "      <td>0.275125</td>\n",
              "      <td>2.306913</td>\n",
              "      <td>4.377395e+06</td>\n",
              "      <td>732.877970</td>\n",
              "      <td>0.757392</td>\n",
              "      <td>0.003456</td>\n",
              "      <td>6.294554</td>\n",
              "      <td>0.002520</td>\n",
              "      <td>0.000745</td>\n",
              "      <td>2146.780339</td>\n",
              "      <td>1.238883</td>\n",
              "      <td>0.152919</td>\n",
              "      <td>0.611772</td>\n",
              "    </tr>\n",
              "    <tr>\n",
              "      <th>3</th>\n",
              "      <td>22152.709032</td>\n",
              "      <td>46.635312</td>\n",
              "      <td>22099.016776</td>\n",
              "      <td>38.640414</td>\n",
              "      <td>0.733411</td>\n",
              "      <td>28.129382</td>\n",
              "      <td>0.754141</td>\n",
              "      <td>0.234970</td>\n",
              "      <td>39.274914</td>\n",
              "      <td>0.727978</td>\n",
              "      <td>5192.604222</td>\n",
              "      <td>29.140329</td>\n",
              "      <td>41.329017</td>\n",
              "      <td>46.543116</td>\n",
              "      <td>103.453079</td>\n",
              "      <td>1089.937565</td>\n",
              "      <td>7.205471</td>\n",
              "      <td>1087.724664</td>\n",
              "      <td>511.504912</td>\n",
              "      <td>0.336024</td>\n",
              "      <td>249.889273</td>\n",
              "      <td>0.140606</td>\n",
              "      <td>29.391158</td>\n",
              "      <td>0.026374</td>\n",
              "      <td>11.821883</td>\n",
              "      <td>42717.634566</td>\n",
              "      <td>0.001570</td>\n",
              "      <td>0.002693</td>\n",
              "      <td>33.073644</td>\n",
              "      <td>66.147288</td>\n",
              "      <td>8.211500</td>\n",
              "      <td>-5741.187919</td>\n",
              "      <td>0.049759</td>\n",
              "      <td>0.975646</td>\n",
              "      <td>0.012491</td>\n",
              "      <td>58.811721</td>\n",
              "      <td>3.729477</td>\n",
              "      <td>0.290187</td>\n",
              "      <td>33.232290</td>\n",
              "      <td>0.913791</td>\n",
              "      <td>...</td>\n",
              "      <td>-528.5</td>\n",
              "      <td>2.714807</td>\n",
              "      <td>-102.779860</td>\n",
              "      <td>0.002828</td>\n",
              "      <td>107.887272</td>\n",
              "      <td>0.002923</td>\n",
              "      <td>0.054549</td>\n",
              "      <td>0.203221</td>\n",
              "      <td>370.362301</td>\n",
              "      <td>1.505960</td>\n",
              "      <td>924.243802</td>\n",
              "      <td>5447.401203</td>\n",
              "      <td>0.914390</td>\n",
              "      <td>1765.537152</td>\n",
              "      <td>0.877247</td>\n",
              "      <td>0.003439</td>\n",
              "      <td>5.297660</td>\n",
              "      <td>1044.150138</td>\n",
              "      <td>0.801694</td>\n",
              "      <td>100.015880</td>\n",
              "      <td>989.809275</td>\n",
              "      <td>0.028357</td>\n",
              "      <td>0.545916</td>\n",
              "      <td>1549.308668</td>\n",
              "      <td>80.477097</td>\n",
              "      <td>997.239605</td>\n",
              "      <td>527.497142</td>\n",
              "      <td>0.366856</td>\n",
              "      <td>0.671664</td>\n",
              "      <td>1.506307e+06</td>\n",
              "      <td>713.093023</td>\n",
              "      <td>0.767331</td>\n",
              "      <td>0.004730</td>\n",
              "      <td>6.545703</td>\n",
              "      <td>0.003888</td>\n",
              "      <td>0.000896</td>\n",
              "      <td>3136.738970</td>\n",
              "      <td>1.157976</td>\n",
              "      <td>0.351327</td>\n",
              "      <td>0.564313</td>\n",
              "    </tr>\n",
              "    <tr>\n",
              "      <th>4</th>\n",
              "      <td>119385.805617</td>\n",
              "      <td>92.436320</td>\n",
              "      <td>119150.752851</td>\n",
              "      <td>75.629327</td>\n",
              "      <td>0.617296</td>\n",
              "      <td>47.029423</td>\n",
              "      <td>0.722141</td>\n",
              "      <td>0.159206</td>\n",
              "      <td>76.960070</td>\n",
              "      <td>0.621841</td>\n",
              "      <td>18969.476942</td>\n",
              "      <td>54.615019</td>\n",
              "      <td>83.612205</td>\n",
              "      <td>70.719598</td>\n",
              "      <td>67.305748</td>\n",
              "      <td>1445.561800</td>\n",
              "      <td>7.263383</td>\n",
              "      <td>4562.726560</td>\n",
              "      <td>3232.154350</td>\n",
              "      <td>0.241385</td>\n",
              "      <td>264.764085</td>\n",
              "      <td>0.109442</td>\n",
              "      <td>37.885083</td>\n",
              "      <td>0.028865</td>\n",
              "      <td>14.368248</td>\n",
              "      <td>66795.832602</td>\n",
              "      <td>0.000468</td>\n",
              "      <td>0.001482</td>\n",
              "      <td>37.463123</td>\n",
              "      <td>74.926246</td>\n",
              "      <td>7.979356</td>\n",
              "      <td>-5754.693763</td>\n",
              "      <td>0.063232</td>\n",
              "      <td>0.987519</td>\n",
              "      <td>0.014054</td>\n",
              "      <td>41.318562</td>\n",
              "      <td>3.487282</td>\n",
              "      <td>0.313702</td>\n",
              "      <td>24.584485</td>\n",
              "      <td>0.938581</td>\n",
              "      <td>...</td>\n",
              "      <td>-420.0</td>\n",
              "      <td>5.711559</td>\n",
              "      <td>-109.918927</td>\n",
              "      <td>0.001473</td>\n",
              "      <td>71.446292</td>\n",
              "      <td>0.001577</td>\n",
              "      <td>0.065239</td>\n",
              "      <td>0.280825</td>\n",
              "      <td>2318.917381</td>\n",
              "      <td>1.665599</td>\n",
              "      <td>1227.793946</td>\n",
              "      <td>27327.614966</td>\n",
              "      <td>0.897233</td>\n",
              "      <td>2548.311647</td>\n",
              "      <td>0.851946</td>\n",
              "      <td>0.002165</td>\n",
              "      <td>5.115966</td>\n",
              "      <td>1400.205550</td>\n",
              "      <td>0.767543</td>\n",
              "      <td>82.273203</td>\n",
              "      <td>7062.537600</td>\n",
              "      <td>0.034543</td>\n",
              "      <td>0.445967</td>\n",
              "      <td>4857.474477</td>\n",
              "      <td>376.237055</td>\n",
              "      <td>7077.188671</td>\n",
              "      <td>703.114744</td>\n",
              "      <td>0.261255</td>\n",
              "      <td>3.905480</td>\n",
              "      <td>1.289007e+07</td>\n",
              "      <td>1048.831160</td>\n",
              "      <td>0.694399</td>\n",
              "      <td>0.002179</td>\n",
              "      <td>6.849399</td>\n",
              "      <td>0.001365</td>\n",
              "      <td>0.000186</td>\n",
              "      <td>3368.646263</td>\n",
              "      <td>0.390430</td>\n",
              "      <td>0.132602</td>\n",
              "      <td>1.804351</td>\n",
              "    </tr>\n",
              "    <tr>\n",
              "      <th>...</th>\n",
              "      <td>...</td>\n",
              "      <td>...</td>\n",
              "      <td>...</td>\n",
              "      <td>...</td>\n",
              "      <td>...</td>\n",
              "      <td>...</td>\n",
              "      <td>...</td>\n",
              "      <td>...</td>\n",
              "      <td>...</td>\n",
              "      <td>...</td>\n",
              "      <td>...</td>\n",
              "      <td>...</td>\n",
              "      <td>...</td>\n",
              "      <td>...</td>\n",
              "      <td>...</td>\n",
              "      <td>...</td>\n",
              "      <td>...</td>\n",
              "      <td>...</td>\n",
              "      <td>...</td>\n",
              "      <td>...</td>\n",
              "      <td>...</td>\n",
              "      <td>...</td>\n",
              "      <td>...</td>\n",
              "      <td>...</td>\n",
              "      <td>...</td>\n",
              "      <td>...</td>\n",
              "      <td>...</td>\n",
              "      <td>...</td>\n",
              "      <td>...</td>\n",
              "      <td>...</td>\n",
              "      <td>...</td>\n",
              "      <td>...</td>\n",
              "      <td>...</td>\n",
              "      <td>...</td>\n",
              "      <td>...</td>\n",
              "      <td>...</td>\n",
              "      <td>...</td>\n",
              "      <td>...</td>\n",
              "      <td>...</td>\n",
              "      <td>...</td>\n",
              "      <td>...</td>\n",
              "      <td>...</td>\n",
              "      <td>...</td>\n",
              "      <td>...</td>\n",
              "      <td>...</td>\n",
              "      <td>...</td>\n",
              "      <td>...</td>\n",
              "      <td>...</td>\n",
              "      <td>...</td>\n",
              "      <td>...</td>\n",
              "      <td>...</td>\n",
              "      <td>...</td>\n",
              "      <td>...</td>\n",
              "      <td>...</td>\n",
              "      <td>...</td>\n",
              "      <td>...</td>\n",
              "      <td>...</td>\n",
              "      <td>...</td>\n",
              "      <td>...</td>\n",
              "      <td>...</td>\n",
              "      <td>...</td>\n",
              "      <td>...</td>\n",
              "      <td>...</td>\n",
              "      <td>...</td>\n",
              "      <td>...</td>\n",
              "      <td>...</td>\n",
              "      <td>...</td>\n",
              "      <td>...</td>\n",
              "      <td>...</td>\n",
              "      <td>...</td>\n",
              "      <td>...</td>\n",
              "      <td>...</td>\n",
              "      <td>...</td>\n",
              "      <td>...</td>\n",
              "      <td>...</td>\n",
              "      <td>...</td>\n",
              "      <td>...</td>\n",
              "      <td>...</td>\n",
              "      <td>...</td>\n",
              "      <td>...</td>\n",
              "      <td>...</td>\n",
              "    </tr>\n",
              "    <tr>\n",
              "      <th>29</th>\n",
              "      <td>6592.266962</td>\n",
              "      <td>33.622119</td>\n",
              "      <td>6525.211805</td>\n",
              "      <td>26.483717</td>\n",
              "      <td>0.737649</td>\n",
              "      <td>16.326688</td>\n",
              "      <td>0.854215</td>\n",
              "      <td>0.350835</td>\n",
              "      <td>27.010370</td>\n",
              "      <td>0.616480</td>\n",
              "      <td>2289.271748</td>\n",
              "      <td>22.622792</td>\n",
              "      <td>32.335274</td>\n",
              "      <td>29.352647</td>\n",
              "      <td>21.910855</td>\n",
              "      <td>602.049910</td>\n",
              "      <td>6.617736</td>\n",
              "      <td>193.040506</td>\n",
              "      <td>462.455335</td>\n",
              "      <td>0.198303</td>\n",
              "      <td>78.741854</td>\n",
              "      <td>0.069816</td>\n",
              "      <td>94.932731</td>\n",
              "      <td>0.140683</td>\n",
              "      <td>35.081663</td>\n",
              "      <td>67119.461845</td>\n",
              "      <td>0.001239</td>\n",
              "      <td>0.003445</td>\n",
              "      <td>24.859564</td>\n",
              "      <td>49.719128</td>\n",
              "      <td>5.549785</td>\n",
              "      <td>-810.250238</td>\n",
              "      <td>0.148434</td>\n",
              "      <td>0.986138</td>\n",
              "      <td>0.062119</td>\n",
              "      <td>13.257631</td>\n",
              "      <td>2.653226</td>\n",
              "      <td>0.384951</td>\n",
              "      <td>8.884155</td>\n",
              "      <td>0.941150</td>\n",
              "      <td>...</td>\n",
              "      <td>-224.0</td>\n",
              "      <td>7.373263</td>\n",
              "      <td>-38.508861</td>\n",
              "      <td>0.003801</td>\n",
              "      <td>26.164917</td>\n",
              "      <td>0.004100</td>\n",
              "      <td>0.122205</td>\n",
              "      <td>0.816527</td>\n",
              "      <td>252.082403</td>\n",
              "      <td>2.689565</td>\n",
              "      <td>450.205653</td>\n",
              "      <td>1334.853146</td>\n",
              "      <td>0.829559</td>\n",
              "      <td>1752.475726</td>\n",
              "      <td>0.740910</td>\n",
              "      <td>0.006731</td>\n",
              "      <td>4.573485</td>\n",
              "      <td>567.808195</td>\n",
              "      <td>0.646468</td>\n",
              "      <td>30.944145</td>\n",
              "      <td>1838.790622</td>\n",
              "      <td>0.057837</td>\n",
              "      <td>0.487234</td>\n",
              "      <td>295.264026</td>\n",
              "      <td>35.049505</td>\n",
              "      <td>1859.608911</td>\n",
              "      <td>263.012843</td>\n",
              "      <td>0.219168</td>\n",
              "      <td>2.665039</td>\n",
              "      <td>1.307177e+06</td>\n",
              "      <td>385.825083</td>\n",
              "      <td>0.724813</td>\n",
              "      <td>0.007286</td>\n",
              "      <td>5.736757</td>\n",
              "      <td>0.004595</td>\n",
              "      <td>0.002543</td>\n",
              "      <td>645.520499</td>\n",
              "      <td>2.322894</td>\n",
              "      <td>0.085026</td>\n",
              "      <td>0.359230</td>\n",
              "    </tr>\n",
              "    <tr>\n",
              "      <th>30</th>\n",
              "      <td>3010.031479</td>\n",
              "      <td>29.286452</td>\n",
              "      <td>2976.851594</td>\n",
              "      <td>24.737747</td>\n",
              "      <td>0.653423</td>\n",
              "      <td>12.466119</td>\n",
              "      <td>0.668128</td>\n",
              "      <td>0.514483</td>\n",
              "      <td>23.150905</td>\n",
              "      <td>0.503931</td>\n",
              "      <td>1531.539258</td>\n",
              "      <td>16.527972</td>\n",
              "      <td>27.610305</td>\n",
              "      <td>26.839660</td>\n",
              "      <td>62.881425</td>\n",
              "      <td>869.396436</td>\n",
              "      <td>6.867420</td>\n",
              "      <td>345.579802</td>\n",
              "      <td>201.369901</td>\n",
              "      <td>0.339958</td>\n",
              "      <td>195.491748</td>\n",
              "      <td>0.136863</td>\n",
              "      <td>53.888713</td>\n",
              "      <td>0.047515</td>\n",
              "      <td>26.381284</td>\n",
              "      <td>65473.407525</td>\n",
              "      <td>0.001582</td>\n",
              "      <td>0.002506</td>\n",
              "      <td>29.963303</td>\n",
              "      <td>59.926606</td>\n",
              "      <td>7.422073</td>\n",
              "      <td>-2502.214292</td>\n",
              "      <td>0.108583</td>\n",
              "      <td>0.975065</td>\n",
              "      <td>0.024723</td>\n",
              "      <td>38.641415</td>\n",
              "      <td>3.546610</td>\n",
              "      <td>0.281848</td>\n",
              "      <td>21.558304</td>\n",
              "      <td>0.910929</td>\n",
              "      <td>...</td>\n",
              "      <td>-471.6</td>\n",
              "      <td>2.851107</td>\n",
              "      <td>-153.137426</td>\n",
              "      <td>0.002704</td>\n",
              "      <td>64.774609</td>\n",
              "      <td>0.002809</td>\n",
              "      <td>0.056870</td>\n",
              "      <td>0.377849</td>\n",
              "      <td>120.266506</td>\n",
              "      <td>1.809069</td>\n",
              "      <td>689.951676</td>\n",
              "      <td>1625.228381</td>\n",
              "      <td>0.897161</td>\n",
              "      <td>1774.442365</td>\n",
              "      <td>0.836740</td>\n",
              "      <td>0.003555</td>\n",
              "      <td>5.118256</td>\n",
              "      <td>808.826968</td>\n",
              "      <td>0.768649</td>\n",
              "      <td>54.608361</td>\n",
              "      <td>364.145936</td>\n",
              "      <td>0.038857</td>\n",
              "      <td>0.528923</td>\n",
              "      <td>510.939959</td>\n",
              "      <td>37.536232</td>\n",
              "      <td>370.978261</td>\n",
              "      <td>407.183237</td>\n",
              "      <td>0.382574</td>\n",
              "      <td>0.307757</td>\n",
              "      <td>4.555961e+05</td>\n",
              "      <td>570.265010</td>\n",
              "      <td>0.755454</td>\n",
              "      <td>0.004471</td>\n",
              "      <td>6.087835</td>\n",
              "      <td>0.003856</td>\n",
              "      <td>0.002895</td>\n",
              "      <td>1472.717438</td>\n",
              "      <td>2.379395</td>\n",
              "      <td>0.295357</td>\n",
              "      <td>0.263438</td>\n",
              "    </tr>\n",
              "    <tr>\n",
              "      <th>31</th>\n",
              "      <td>8683.195759</td>\n",
              "      <td>49.195074</td>\n",
              "      <td>8611.074213</td>\n",
              "      <td>46.624467</td>\n",
              "      <td>0.641262</td>\n",
              "      <td>14.348828</td>\n",
              "      <td>0.438028</td>\n",
              "      <td>0.367928</td>\n",
              "      <td>31.523446</td>\n",
              "      <td>0.307753</td>\n",
              "      <td>3168.257409</td>\n",
              "      <td>20.422841</td>\n",
              "      <td>34.268292</td>\n",
              "      <td>37.102042</td>\n",
              "      <td>153.099954</td>\n",
              "      <td>738.203185</td>\n",
              "      <td>7.378490</td>\n",
              "      <td>847.045579</td>\n",
              "      <td>105.449204</td>\n",
              "      <td>0.443610</td>\n",
              "      <td>264.767425</td>\n",
              "      <td>0.232577</td>\n",
              "      <td>16.744097</td>\n",
              "      <td>0.124622</td>\n",
              "      <td>8.324220</td>\n",
              "      <td>22337.763317</td>\n",
              "      <td>0.003096</td>\n",
              "      <td>0.009583</td>\n",
              "      <td>25.523890</td>\n",
              "      <td>51.047781</td>\n",
              "      <td>9.676885</td>\n",
              "      <td>-2020.290555</td>\n",
              "      <td>0.026769</td>\n",
              "      <td>0.963103</td>\n",
              "      <td>0.002806</td>\n",
              "      <td>96.669264</td>\n",
              "      <td>4.273414</td>\n",
              "      <td>0.174092</td>\n",
              "      <td>40.625092</td>\n",
              "      <td>0.880158</td>\n",
              "      <td>...</td>\n",
              "      <td>-829.0</td>\n",
              "      <td>1.626201</td>\n",
              "      <td>-408.424767</td>\n",
              "      <td>0.008992</td>\n",
              "      <td>146.665900</td>\n",
              "      <td>0.009519</td>\n",
              "      <td>0.027008</td>\n",
              "      <td>0.124834</td>\n",
              "      <td>91.216703</td>\n",
              "      <td>1.292427</td>\n",
              "      <td>654.187277</td>\n",
              "      <td>2977.335607</td>\n",
              "      <td>0.950812</td>\n",
              "      <td>1057.363734</td>\n",
              "      <td>0.926858</td>\n",
              "      <td>0.012501</td>\n",
              "      <td>5.643852</td>\n",
              "      <td>706.485685</td>\n",
              "      <td>0.880887</td>\n",
              "      <td>108.879134</td>\n",
              "      <td>36.053791</td>\n",
              "      <td>0.026627</td>\n",
              "      <td>0.500224</td>\n",
              "      <td>931.916801</td>\n",
              "      <td>49.605475</td>\n",
              "      <td>39.875470</td>\n",
              "      <td>425.432967</td>\n",
              "      <td>0.511532</td>\n",
              "      <td>0.172971</td>\n",
              "      <td>5.926173e+04</td>\n",
              "      <td>592.454106</td>\n",
              "      <td>0.735138</td>\n",
              "      <td>0.007341</td>\n",
              "      <td>6.687140</td>\n",
              "      <td>0.004549</td>\n",
              "      <td>0.002252</td>\n",
              "      <td>4040.182819</td>\n",
              "      <td>2.076410</td>\n",
              "      <td>0.594629</td>\n",
              "      <td>0.392208</td>\n",
              "    </tr>\n",
              "    <tr>\n",
              "      <th>32</th>\n",
              "      <td>25939.914844</td>\n",
              "      <td>57.067095</td>\n",
              "      <td>25839.679802</td>\n",
              "      <td>51.745408</td>\n",
              "      <td>0.692948</td>\n",
              "      <td>26.633569</td>\n",
              "      <td>0.617498</td>\n",
              "      <td>0.236059</td>\n",
              "      <td>40.700499</td>\n",
              "      <td>0.514704</td>\n",
              "      <td>6099.697734</td>\n",
              "      <td>31.952700</td>\n",
              "      <td>41.839289</td>\n",
              "      <td>56.857818</td>\n",
              "      <td>32.995425</td>\n",
              "      <td>1449.528401</td>\n",
              "      <td>6.634924</td>\n",
              "      <td>576.773713</td>\n",
              "      <td>2560.111765</td>\n",
              "      <td>0.161550</td>\n",
              "      <td>157.459073</td>\n",
              "      <td>0.053012</td>\n",
              "      <td>163.638419</td>\n",
              "      <td>0.102321</td>\n",
              "      <td>53.465611</td>\n",
              "      <td>264022.398805</td>\n",
              "      <td>0.000435</td>\n",
              "      <td>0.001059</td>\n",
              "      <td>38.286575</td>\n",
              "      <td>76.573150</td>\n",
              "      <td>5.054850</td>\n",
              "      <td>-2238.871210</td>\n",
              "      <td>0.270459</td>\n",
              "      <td>0.991175</td>\n",
              "      <td>0.109092</td>\n",
              "      <td>17.532514</td>\n",
              "      <td>2.535238</td>\n",
              "      <td>0.343561</td>\n",
              "      <td>13.345420</td>\n",
              "      <td>0.959707</td>\n",
              "      <td>...</td>\n",
              "      <td>-218.0</td>\n",
              "      <td>11.861095</td>\n",
              "      <td>-47.050460</td>\n",
              "      <td>0.001156</td>\n",
              "      <td>45.643158</td>\n",
              "      <td>0.001308</td>\n",
              "      <td>0.141440</td>\n",
              "      <td>1.736298</td>\n",
              "      <td>985.371574</td>\n",
              "      <td>4.294691</td>\n",
              "      <td>989.771419</td>\n",
              "      <td>3814.874403</td>\n",
              "      <td>0.768468</td>\n",
              "      <td>6660.476094</td>\n",
              "      <td>0.634757</td>\n",
              "      <td>0.003383</td>\n",
              "      <td>4.836890</td>\n",
              "      <td>1358.562247</td>\n",
              "      <td>0.549125</td>\n",
              "      <td>64.574608</td>\n",
              "      <td>13539.270699</td>\n",
              "      <td>0.045526</td>\n",
              "      <td>0.520480</td>\n",
              "      <td>994.636839</td>\n",
              "      <td>87.001047</td>\n",
              "      <td>13571.684982</td>\n",
              "      <td>678.036010</td>\n",
              "      <td>0.175643</td>\n",
              "      <td>8.433580</td>\n",
              "      <td>2.185777e+07</td>\n",
              "      <td>955.398744</td>\n",
              "      <td>0.749551</td>\n",
              "      <td>0.002669</td>\n",
              "      <td>6.114671</td>\n",
              "      <td>0.002276</td>\n",
              "      <td>0.000555</td>\n",
              "      <td>1541.581036</td>\n",
              "      <td>2.194039</td>\n",
              "      <td>0.059377</td>\n",
              "      <td>0.658985</td>\n",
              "    </tr>\n",
              "    <tr>\n",
              "      <th>33</th>\n",
              "      <td>73401.852784</td>\n",
              "      <td>73.105484</td>\n",
              "      <td>73287.411984</td>\n",
              "      <td>64.560114</td>\n",
              "      <td>0.791968</td>\n",
              "      <td>36.748716</td>\n",
              "      <td>0.681059</td>\n",
              "      <td>0.145915</td>\n",
              "      <td>52.860788</td>\n",
              "      <td>0.569217</td>\n",
              "      <td>10693.735802</td>\n",
              "      <td>43.969247</td>\n",
              "      <td>65.591520</td>\n",
              "      <td>72.942237</td>\n",
              "      <td>81.163824</td>\n",
              "      <td>991.869458</td>\n",
              "      <td>7.531933</td>\n",
              "      <td>2211.526781</td>\n",
              "      <td>3370.775879</td>\n",
              "      <td>0.190389</td>\n",
              "      <td>124.723669</td>\n",
              "      <td>0.071833</td>\n",
              "      <td>98.566310</td>\n",
              "      <td>0.094550</td>\n",
              "      <td>39.657307</td>\n",
              "      <td>123234.303667</td>\n",
              "      <td>0.001012</td>\n",
              "      <td>0.002960</td>\n",
              "      <td>30.846682</td>\n",
              "      <td>61.693363</td>\n",
              "      <td>7.183740</td>\n",
              "      <td>-5768.083577</td>\n",
              "      <td>0.140669</td>\n",
              "      <td>0.994400</td>\n",
              "      <td>0.037231</td>\n",
              "      <td>27.783111</td>\n",
              "      <td>3.108671</td>\n",
              "      <td>0.338089</td>\n",
              "      <td>18.042103</td>\n",
              "      <td>0.960845</td>\n",
              "      <td>...</td>\n",
              "      <td>-517.0</td>\n",
              "      <td>4.023106</td>\n",
              "      <td>-108.609186</td>\n",
              "      <td>0.003313</td>\n",
              "      <td>93.372993</td>\n",
              "      <td>0.003554</td>\n",
              "      <td>0.069731</td>\n",
              "      <td>0.936258</td>\n",
              "      <td>1601.793815</td>\n",
              "      <td>2.772571</td>\n",
              "      <td>729.132148</td>\n",
              "      <td>15360.888892</td>\n",
              "      <td>0.842243</td>\n",
              "      <td>3104.316398</td>\n",
              "      <td>0.743261</td>\n",
              "      <td>0.005497</td>\n",
              "      <td>5.455417</td>\n",
              "      <td>914.855419</td>\n",
              "      <td>0.668099</td>\n",
              "      <td>100.361763</td>\n",
              "      <td>13140.774613</td>\n",
              "      <td>0.029868</td>\n",
              "      <td>0.422933</td>\n",
              "      <td>2776.555217</td>\n",
              "      <td>196.083016</td>\n",
              "      <td>13162.766641</td>\n",
              "      <td>412.848389</td>\n",
              "      <td>0.213239</td>\n",
              "      <td>10.418845</td>\n",
              "      <td>1.670978e+07</td>\n",
              "      <td>618.251790</td>\n",
              "      <td>0.675352</td>\n",
              "      <td>0.005772</td>\n",
              "      <td>7.026210</td>\n",
              "      <td>0.003753</td>\n",
              "      <td>0.000326</td>\n",
              "      <td>4240.096417</td>\n",
              "      <td>1.189118</td>\n",
              "      <td>0.064501</td>\n",
              "      <td>0.895047</td>\n",
              "    </tr>\n",
              "  </tbody>\n",
              "</table>\n",
              "<p>165 rows × 107 columns</p>\n",
              "</div>"
            ],
            "text/plain": [
              "      VoxelVolume  Maximum3DDiameter  ...  Contrast.1  Busyness\n",
              "0    51905.377962          66.288317  ...    0.020920  1.306338\n",
              "1    13432.502747          58.057539  ...    0.146173  0.253533\n",
              "2    25843.872675          52.918217  ...    0.152919  0.611772\n",
              "3    22152.709032          46.635312  ...    0.351327  0.564313\n",
              "4   119385.805617          92.436320  ...    0.132602  1.804351\n",
              "..            ...                ...  ...         ...       ...\n",
              "29    6592.266962          33.622119  ...    0.085026  0.359230\n",
              "30    3010.031479          29.286452  ...    0.295357  0.263438\n",
              "31    8683.195759          49.195074  ...    0.594629  0.392208\n",
              "32   25939.914844          57.067095  ...    0.059377  0.658985\n",
              "33   73401.852784          73.105484  ...    0.064501  0.895047\n",
              "\n",
              "[165 rows x 107 columns]"
            ]
          },
          "metadata": {
            "tags": []
          },
          "execution_count": 16
        }
      ]
    },
    {
      "cell_type": "code",
      "metadata": {
        "id": "nNh5eL2PVIhD",
        "colab_type": "code",
        "colab": {}
      },
      "source": [
        "tot_label = pd.concat([train_labels, test_labels], axis=0)"
      ],
      "execution_count": 0,
      "outputs": []
    },
    {
      "cell_type": "code",
      "metadata": {
        "id": "zcydh4qRVV6k",
        "colab_type": "code",
        "outputId": "4853be6d-ecaf-43fc-b3f3-6500b3cb6af3",
        "colab": {
          "base_uri": "https://localhost:8080/",
          "height": 35
        }
      },
      "source": [
        "tot_label.shape"
      ],
      "execution_count": 18,
      "outputs": [
        {
          "output_type": "execute_result",
          "data": {
            "text/plain": [
              "(165,)"
            ]
          },
          "metadata": {
            "tags": []
          },
          "execution_count": 18
        }
      ]
    },
    {
      "cell_type": "markdown",
      "metadata": {
        "id": "Cno5GmYCUynr",
        "colab_type": "text"
      },
      "source": [
        "##Train test split"
      ]
    },
    {
      "cell_type": "code",
      "metadata": {
        "id": "HFVj6DbKUj9s",
        "colab_type": "code",
        "colab": {}
      },
      "source": [
        "from sklearn.model_selection import train_test_split"
      ],
      "execution_count": 0,
      "outputs": []
    },
    {
      "cell_type": "code",
      "metadata": {
        "id": "xFCCTjE6JrQm",
        "colab_type": "code",
        "colab": {}
      },
      "source": [
        "train_data, test_data, train_labels, test_labels = train_test_split(tot_data, tot_label,\n",
        "                                                  stratify=tot_label, test_size=0.25, random_state=1) \n"
      ],
      "execution_count": 0,
      "outputs": []
    },
    {
      "cell_type": "markdown",
      "metadata": {
        "id": "00VohsAyokpq",
        "colab_type": "text"
      },
      "source": [
        "##Vettorizzare i label"
      ]
    },
    {
      "cell_type": "code",
      "metadata": {
        "id": "8RvS_9ISpxRi",
        "colab_type": "code",
        "colab": {}
      },
      "source": [
        "word_index={'adenocarcinoma':0, 'large cell':1, 'squamous cell carcinoma':2}"
      ],
      "execution_count": 0,
      "outputs": []
    },
    {
      "cell_type": "code",
      "metadata": {
        "id": "uiPW9U0XrWY2",
        "colab_type": "code",
        "colab": {}
      },
      "source": [
        "train_labels_dec = [word_index[label] for label in train_labels]"
      ],
      "execution_count": 0,
      "outputs": []
    },
    {
      "cell_type": "code",
      "metadata": {
        "id": "C4SBiKFQsKFw",
        "colab_type": "code",
        "colab": {}
      },
      "source": [
        "test_labels_dec = [word_index[label] for label in test_labels]"
      ],
      "execution_count": 0,
      "outputs": []
    },
    {
      "cell_type": "code",
      "metadata": {
        "id": "0IMbTYR7okJq",
        "colab_type": "code",
        "colab": {
          "base_uri": "https://localhost:8080/",
          "height": 83
        },
        "outputId": "a9ceda76-c250-4bef-d3cb-30f638e76f7b"
      },
      "source": [
        "from keras.utils.np_utils import to_categorical"
      ],
      "execution_count": 24,
      "outputs": [
        {
          "output_type": "stream",
          "text": [
            "Using TensorFlow backend.\n"
          ],
          "name": "stderr"
        },
        {
          "output_type": "display_data",
          "data": {
            "text/html": [
              "<p style=\"color: red;\">\n",
              "The default version of TensorFlow in Colab will soon switch to TensorFlow 2.x.<br>\n",
              "We recommend you <a href=\"https://www.tensorflow.org/guide/migrate\" target=\"_blank\">upgrade</a> now \n",
              "or ensure your notebook will continue to use TensorFlow 1.x via the <code>%tensorflow_version 1.x</code> magic:\n",
              "<a href=\"https://colab.research.google.com/notebooks/tensorflow_version.ipynb\" target=\"_blank\">more info</a>.</p>\n"
            ],
            "text/plain": [
              "<IPython.core.display.HTML object>"
            ]
          },
          "metadata": {
            "tags": []
          }
        }
      ]
    },
    {
      "cell_type": "code",
      "metadata": {
        "id": "0Frv4FDNn6Qu",
        "colab_type": "code",
        "colab": {}
      },
      "source": [
        "one_hot_train_labels = to_categorical(train_labels_dec)\n",
        "one_hot_test_labels = to_categorical(test_labels_dec)"
      ],
      "execution_count": 0,
      "outputs": []
    },
    {
      "cell_type": "markdown",
      "metadata": {
        "id": "dtPx7PMDnXM3",
        "colab_type": "text"
      },
      "source": [
        "##Z score dei dati"
      ]
    },
    {
      "cell_type": "code",
      "metadata": {
        "id": "XK4Qji2EnVV4",
        "colab_type": "code",
        "colab": {}
      },
      "source": [
        "mean = train_data.mean(axis=0)\n",
        "train_data_stand = train_data - mean\n",
        "std = train_data.std(axis=0)\n",
        "train_data_stand /= std"
      ],
      "execution_count": 0,
      "outputs": []
    },
    {
      "cell_type": "code",
      "metadata": {
        "id": "YOVOoNOvm0Yx",
        "colab_type": "code",
        "colab": {}
      },
      "source": [
        "test_data_stand = test_data - mean\n",
        "test_data_stand /= std"
      ],
      "execution_count": 0,
      "outputs": []
    },
    {
      "cell_type": "code",
      "metadata": {
        "id": "TZF8nUPWbrsR",
        "colab_type": "code",
        "outputId": "5a7c740a-7240-45d9-b567-8fdd06fa84e5",
        "colab": {
          "base_uri": "https://localhost:8080/",
          "height": 35
        }
      },
      "source": [
        "test_labels_dec.count(0)"
      ],
      "execution_count": 28,
      "outputs": [
        {
          "output_type": "execute_result",
          "data": {
            "text/plain": [
              "9"
            ]
          },
          "metadata": {
            "tags": []
          },
          "execution_count": 28
        }
      ]
    },
    {
      "cell_type": "markdown",
      "metadata": {
        "id": "Mn0tkOGc3LKN",
        "colab_type": "text"
      },
      "source": [
        "#PCA"
      ]
    },
    {
      "cell_type": "code",
      "metadata": {
        "id": "oS76u6iu3Seg",
        "colab_type": "code",
        "colab": {}
      },
      "source": [
        "from sklearn.decomposition import PCA"
      ],
      "execution_count": 0,
      "outputs": []
    },
    {
      "cell_type": "code",
      "metadata": {
        "id": "KCjC4zqJ3bui",
        "colab_type": "code",
        "colab": {}
      },
      "source": [
        "pca = PCA(n_components=0.9, svd_solver='full')"
      ],
      "execution_count": 0,
      "outputs": []
    },
    {
      "cell_type": "code",
      "metadata": {
        "id": "dLUCf9qX4p_e",
        "colab_type": "code",
        "outputId": "0b41b280-c47f-4835-a036-664c97e2f319",
        "colab": {
          "base_uri": "https://localhost:8080/",
          "height": 54
        }
      },
      "source": [
        "pca.fit(train_data_stand)"
      ],
      "execution_count": 31,
      "outputs": [
        {
          "output_type": "execute_result",
          "data": {
            "text/plain": [
              "PCA(copy=True, iterated_power='auto', n_components=0.9, random_state=None,\n",
              "    svd_solver='full', tol=0.0, whiten=False)"
            ]
          },
          "metadata": {
            "tags": []
          },
          "execution_count": 31
        }
      ]
    },
    {
      "cell_type": "code",
      "metadata": {
        "id": "QfyaKgNZ44o3",
        "colab_type": "code",
        "colab": {}
      },
      "source": [
        "train_data_stand_pca = pca.transform(train_data_stand)\n",
        "test_data_stand_pca = pca.transform(test_data_stand)"
      ],
      "execution_count": 0,
      "outputs": []
    },
    {
      "cell_type": "code",
      "metadata": {
        "id": "Uz9C4nl05b_g",
        "colab_type": "code",
        "outputId": "a4a0dbf8-679d-40ff-e4aa-22356ec81ed5",
        "colab": {
          "base_uri": "https://localhost:8080/",
          "height": 35
        }
      },
      "source": [
        "train_data_stand_pca.shape"
      ],
      "execution_count": 33,
      "outputs": [
        {
          "output_type": "execute_result",
          "data": {
            "text/plain": [
              "(123, 9)"
            ]
          },
          "metadata": {
            "tags": []
          },
          "execution_count": 33
        }
      ]
    },
    {
      "cell_type": "markdown",
      "metadata": {
        "id": "8wSKvSu4s5ip",
        "colab_type": "text"
      },
      "source": [
        "#Building Network"
      ]
    },
    {
      "cell_type": "code",
      "metadata": {
        "id": "sJTbHiq0D-4x",
        "colab_type": "code",
        "colab": {}
      },
      "source": [
        "from keras import layers\n",
        "from keras.preprocessing import sequence"
      ],
      "execution_count": 0,
      "outputs": []
    },
    {
      "cell_type": "code",
      "metadata": {
        "id": "ShwM6YMqsxxJ",
        "colab_type": "code",
        "colab": {}
      },
      "source": [
        "from keras import layers"
      ],
      "execution_count": 0,
      "outputs": []
    },
    {
      "cell_type": "code",
      "metadata": {
        "id": "IAzbu7P1VylY",
        "colab_type": "code",
        "colab": {}
      },
      "source": [
        "from keras import regularizers"
      ],
      "execution_count": 0,
      "outputs": []
    },
    {
      "cell_type": "code",
      "metadata": {
        "id": "dyqbUCK5wOVt",
        "colab_type": "code",
        "colab": {}
      },
      "source": [
        "from keras.optimizers import SGD"
      ],
      "execution_count": 0,
      "outputs": []
    },
    {
      "cell_type": "code",
      "metadata": {
        "id": "7OAEgN31tHVV",
        "colab_type": "code",
        "colab": {}
      },
      "source": [
        "def build_model():\n",
        "  model = keras.models.Sequential()\n",
        "  model.add(layers.Dense(5, activation='relu', input_shape=(9,)))\n",
        "\n",
        "#  model.add(layers.Dropout(rate=0.2))\n",
        "\n",
        "  model.add(layers.Dense(3, activation='softmax'))\n",
        "\n",
        "  sgd = SGD(lr=0.01, momentum=0.4, nesterov=True)\n",
        "  \n",
        "  model.compile(optimizer=sgd, loss='categorical_crossentropy', metrics=['accuracy'])\n",
        "  return model"
      ],
      "execution_count": 0,
      "outputs": []
    },
    {
      "cell_type": "markdown",
      "metadata": {
        "id": "mIxDu50pBeiz",
        "colab_type": "text"
      },
      "source": [
        "#Stratified k-fold"
      ]
    },
    {
      "cell_type": "markdown",
      "metadata": {
        "id": "ZyLcvedUBpxA",
        "colab_type": "text"
      },
      "source": [
        "This cross-validation object is a variation of KFold that returns stratified folds. The folds are made by preserving the percentage of samples for each class."
      ]
    },
    {
      "cell_type": "code",
      "metadata": {
        "id": "fY1apcZ19gFp",
        "colab_type": "code",
        "colab": {}
      },
      "source": [
        "from sklearn.model_selection import StratifiedKFold"
      ],
      "execution_count": 0,
      "outputs": []
    },
    {
      "cell_type": "code",
      "metadata": {
        "id": "oaBDM-PtBx5V",
        "colab_type": "code",
        "outputId": "ab6f2a80-9da3-4c3a-be8c-c5fd174f00f8",
        "colab": {
          "base_uri": "https://localhost:8080/",
          "height": 35
        }
      },
      "source": [
        "skf = StratifiedKFold(n_splits=10, shuffle=True, random_state=1)\n",
        "skf.get_n_splits(train_data_stand_pca, train_labels_dec)"
      ],
      "execution_count": 40,
      "outputs": [
        {
          "output_type": "execute_result",
          "data": {
            "text/plain": [
              "10"
            ]
          },
          "metadata": {
            "tags": []
          },
          "execution_count": 40
        }
      ]
    },
    {
      "cell_type": "code",
      "metadata": {
        "id": "Me-XQzPyD1gi",
        "colab_type": "code",
        "outputId": "bb14d80a-fc55-40d1-aa0c-5669d8a49f54",
        "colab": {
          "base_uri": "https://localhost:8080/",
          "height": 1000
        }
      },
      "source": [
        "for train_index, test_index in skf.split(train_data_stand_pca, train_labels_dec):\n",
        "    print(\"TRAIN:\", train_index, \"TEST:\", test_index)"
      ],
      "execution_count": 41,
      "outputs": [
        {
          "output_type": "stream",
          "text": [
            "TRAIN: [  0   1   2   3   4   5   6   7   8   9  10  11  12  13  14  15  16  17\n",
            "  18  20  21  22  23  24  25  26  27  28  29  30  31  32  33  34  36  38\n",
            "  39  40  42  43  44  45  46  47  48  49  50  51  52  53  54  55  57  58\n",
            "  59  61  62  63  64  65  66  67  69  70  71  72  73  74  76  79  80  81\n",
            "  82  83  84  85  86  87  88  89  90  91  92  93  95  96  97  98  99 100\n",
            " 101 102 103 104 105 106 107 108 109 111 112 113 114 115 116 117 118 120\n",
            " 121 122] TEST: [ 19  35  37  41  56  60  68  75  77  78  94 110 119]\n",
            "TRAIN: [  0   1   2   3   4   5   6   7   8   9  10  12  14  15  16  17  18  19\n",
            "  20  21  22  23  24  25  26  27  28  29  30  31  32  34  35  36  37  38\n",
            "  39  41  43  44  45  46  47  48  49  50  52  53  54  55  56  57  58  59\n",
            "  60  61  62  63  64  65  66  67  68  69  71  72  73  74  75  76  77  78\n",
            "  79  80  81  85  86  87  88  89  90  91  92  93  94  95  96  97  98  99\n",
            " 100 101 102 103 104 106 107 108 109 110 111 112 113 114 115 116 117 118\n",
            " 119 120] TEST: [ 11  13  33  40  42  51  70  82  83  84 105 121 122]\n",
            "TRAIN: [  0   1   2   3   4   5   6   7   8  10  11  12  13  14  15  16  17  18\n",
            "  19  20  21  22  23  24  25  26  27  28  29  30  31  32  33  34  35  37\n",
            "  39  40  41  42  43  45  46  47  48  50  51  52  54  55  56  57  58  59\n",
            "  60  61  62  64  65  67  68  69  70  71  72  73  75  76  77  78  79  80\n",
            "  81  82  83  84  85  87  88  89  90  91  92  93  94  95  96  97  99 100\n",
            " 101 102 103 104 105 106 107 109 110 112 113 114 115 116 117 118 119 120\n",
            " 121 122] TEST: [  9  36  38  44  49  53  63  66  74  86  98 108 111]\n",
            "TRAIN: [  0   2   3   4   5   6   8   9  10  11  12  13  14  15  16  17  18  19\n",
            "  20  22  24  25  26  27  28  29  30  31  32  33  34  35  36  37  38  40\n",
            "  41  42  43  44  45  46  47  48  49  50  51  52  53  54  56  57  58  59\n",
            "  60  61  62  63  66  67  68  69  70  72  73  74  75  76  77  78  79  80\n",
            "  81  82  83  84  85  86  87  88  89  91  92  93  94  95  96  97  98  99\n",
            " 100 101 102 103 105 106 107 108 109 110 111 112 113 114 115 116 117 118\n",
            " 119 121 122] TEST: [  1   7  21  23  39  55  64  65  71  90 104 120]\n",
            "TRAIN: [  0   1   2   4   6   7   8   9  11  12  13  14  15  17  18  19  20  21\n",
            "  22  23  24  25  26  27  28  29  30  31  32  33  34  35  36  37  38  39\n",
            "  40  41  42  43  44  45  48  49  50  51  52  53  54  55  56  57  58  60\n",
            "  61  62  63  64  65  66  67  68  70  71  72  73  74  75  76  77  78  79\n",
            "  80  81  82  83  84  85  86  87  89  90  91  92  93  94  95  96  97  98\n",
            "  99 101 102 103 104 105 106 108 109 110 111 112 113 115 116 117 118 119\n",
            " 120 121 122] TEST: [  3   5  10  16  46  47  59  69  88 100 107 114]\n",
            "TRAIN: [  1   2   3   4   5   6   7   8   9  10  11  12  13  14  15  16  19  20\n",
            "  21  22  23  24  25  26  27  28  30  31  32  33  35  36  37  38  39  40\n",
            "  41  42  43  44  45  46  47  48  49  50  51  52  53  54  55  56  57  58\n",
            "  59  60  61  63  64  65  66  67  68  69  70  71  72  73  74  75  76  77\n",
            "  78  79  80  81  82  83  84  86  87  88  89  90  91  92  94  96  97  98\n",
            "  99 100 101 102 103 104 105 106 107 108 109 110 111 112 114 115 118 119\n",
            " 120 121 122] TEST: [  0  17  18  29  34  62  85  93  95 113 116 117]\n",
            "TRAIN: [  0   1   2   3   4   5   7   8   9  10  11  12  13  14  15  16  17  18\n",
            "  19  20  21  22  23  24  26  28  29  30  33  34  35  36  37  38  39  40\n",
            "  41  42  43  44  45  46  47  49  50  51  52  53  55  56  57  58  59  60\n",
            "  61  62  63  64  65  66  67  68  69  70  71  72  73  74  75  76  77  78\n",
            "  79  81  82  83  84  85  86  87  88  90  92  93  94  95  96  97  98  99\n",
            " 100 101 103 104 105 106 107 108 109 110 111 113 114 115 116 117 118 119\n",
            " 120 121 122] TEST: [  6  25  27  31  32  48  54  80  89  91 102 112]\n",
            "TRAIN: [  0   1   3   4   5   6   7   8   9  10  11  12  13  14  16  17  18  19\n",
            "  21  22  23  25  26  27  28  29  31  32  33  34  35  36  37  38  39  40\n",
            "  41  42  44  45  46  47  48  49  50  51  52  53  54  55  56  58  59  60\n",
            "  61  62  63  64  65  66  68  69  70  71  72  73  74  75  77  78  79  80\n",
            "  81  82  83  84  85  86  87  88  89  90  91  92  93  94  95  96  97  98\n",
            "  99 100 102 103 104 105 106 107 108 110 111 112 113 114 116 117 118 119\n",
            " 120 121 122] TEST: [  2  15  20  24  30  43  57  67  76 101 109 115]\n",
            "TRAIN: [  0   1   2   3   5   6   7   9  10  11  12  13  15  16  17  18  19  20\n",
            "  21  22  23  24  25  26  27  29  30  31  32  33  34  35  36  37  38  39\n",
            "  40  41  42  43  44  45  46  47  48  49  51  52  53  54  55  56  57  58\n",
            "  59  60  62  63  64  65  66  67  68  69  70  71  73  74  75  76  77  78\n",
            "  80  82  83  84  85  86  87  88  89  90  91  93  94  95  96  97  98  99\n",
            " 100 101 102 103 104 105 107 108 109 110 111 112 113 114 115 116 117 119\n",
            " 120 121 122] TEST: [  4   8  14  28  50  61  72  79  81  92 106 118]\n",
            "TRAIN: [  0   1   2   3   4   5   6   7   8   9  10  11  13  14  15  16  17  18\n",
            "  19  20  21  23  24  25  27  28  29  30  31  32  33  34  35  36  37  38\n",
            "  39  40  41  42  43  44  46  47  48  49  50  51  53  54  55  56  57  59\n",
            "  60  61  62  63  64  65  66  67  68  69  70  71  72  74  75  76  77  78\n",
            "  79  80  81  82  83  84  85  86  88  89  90  91  92  93  94  95  98 100\n",
            " 101 102 104 105 106 107 108 109 110 111 112 113 114 115 116 117 118 119\n",
            " 120 121 122] TEST: [ 12  22  26  45  52  58  73  87  96  97  99 103]\n"
          ],
          "name": "stdout"
        }
      ]
    },
    {
      "cell_type": "code",
      "metadata": {
        "id": "sBJg0XD4Shhc",
        "colab_type": "code",
        "colab": {}
      },
      "source": [
        "from keras.utils import to_categorical\n"
      ],
      "execution_count": 0,
      "outputs": []
    },
    {
      "cell_type": "code",
      "metadata": {
        "id": "a5Sq8r9GEPx3",
        "colab_type": "code",
        "colab": {}
      },
      "source": [
        "#for train_index, val_index in skf.split(train_data_stand_pca, train_labels_dec):\n",
        " \n",
        "#  partial_train_data = np.array([train_data_stand_pca[i] for i in train_index])\n",
        "#  partial_train_targets = np.array([train_labels_dec[i] for i in train_index])\n",
        "\n",
        "#  val_data = np.array([train_data_stand_pca[i] for i in val_index])\n",
        "#  val_targets = np.array([train_labels_dec[i] for i in val_index])\n",
        "\n",
        "#  one_hot_partial_train_targets = to_categorical(partial_train_targets)\n",
        "#  one_hot_val_targets = to_categorical(val_targets)\n",
        "\n",
        "#  model = build_model()\n",
        "#  model.fit(partial_train_data, one_hot_partial_train_targets, epochs = num_epochs, batch_size=1)\n",
        "\n",
        "#  val_loss, val_accuracy = model.evaluate(val_data, one_hot_val_targets)\n",
        "#  all_scores.append(val_accuracy)\n",
        "#I parametri per la valutazione vengono calcolati una volta per ogni k-fold, per ogni set di validazione, quindi k volte"
      ],
      "execution_count": 0,
      "outputs": []
    },
    {
      "cell_type": "markdown",
      "metadata": {
        "id": "2X5B3lasRcsR",
        "colab_type": "text"
      },
      "source": [
        "C'è un problema: keras.utils.to_categorical produces a one-hot encoded class vector, i.e. the multilabel-indicator mentioned in the error message. StratifiedKFold is not designed to work with such input; i.e. your y must be a 1-D array of your class labels.\n",
        "Essentially, what you have to do is simply to invert the order of the operations: split first (using your intial y_train), and convert to_categorical afterwards."
      ]
    },
    {
      "cell_type": "code",
      "metadata": {
        "id": "F0Sl23XX-uUu",
        "colab_type": "code",
        "colab": {}
      },
      "source": [
        "import keras"
      ],
      "execution_count": 0,
      "outputs": []
    },
    {
      "cell_type": "code",
      "metadata": {
        "id": "8K8a1I3yU9FS",
        "colab_type": "code",
        "outputId": "1a40be7c-845a-4338-eb70-4f551e3d7046",
        "colab": {
          "base_uri": "https://localhost:8080/",
          "height": 1000
        }
      },
      "source": [
        "num_epochs = 20\n",
        "all_acc_histories = []\n",
        "all_loss_histories = []\n",
        "all_val_acc_histories = []\n",
        "all_val_loss_histories = []\n",
        "\n",
        "for train_index, val_index in skf.split(train_data_stand_pca, train_labels_dec):\n",
        " \n",
        "  partial_train_data = np.array([train_data_stand_pca[i] for i in train_index])\n",
        "  partial_train_targets = np.array([train_labels_dec[i] for i in train_index])\n",
        "  \n",
        "  val_data = np.array([train_data_stand_pca[i] for i in val_index])\n",
        "  val_targets = np.array([train_labels_dec[i] for i in val_index])\n",
        "\n",
        "  one_hot_partial_train_targets = to_categorical(partial_train_targets)\n",
        "  one_hot_val_targets = to_categorical(val_targets)\n",
        "\n",
        " \n",
        "  model = build_model()\n",
        "  history = model.fit(partial_train_data, one_hot_partial_train_targets, validation_data=(val_data, one_hot_val_targets), \n",
        "                      epochs=num_epochs, batch_size=8)\n",
        "  \n",
        "  acc_history = history.history['acc']\n",
        "  all_acc_histories.append(acc_history)\n",
        "\n",
        "  loss_history = history.history['loss']\n",
        "  all_loss_histories.append(loss_history)\n",
        "\n",
        "  acc_val_history = history.history['val_acc']\n",
        "  all_val_acc_histories.append(acc_val_history)\n",
        "\n",
        "  loss_val_history = history.history['val_loss']\n",
        "  all_val_loss_histories.append(loss_val_history)\n",
        "  \n",
        "\n",
        "#I parametri per la valutazione vengono calcolati per ogni epoca, quindi num_epochs volte. \n",
        "#Il tutto viene ripetuto un numero di volte pari a n_splits.\n",
        "#Si ottiene una lista con n_splits elementi ciascuno dei quali è una lista lunga num_epochs,\n",
        "#ogni elemento può essere uno fra questi: dict_keys(['val_loss', 'val_acc', 'loss', 'acc']) "
      ],
      "execution_count": 45,
      "outputs": [
        {
          "output_type": "stream",
          "text": [
            "WARNING:tensorflow:From /usr/local/lib/python3.6/dist-packages/keras/backend/tensorflow_backend.py:66: The name tf.get_default_graph is deprecated. Please use tf.compat.v1.get_default_graph instead.\n",
            "\n",
            "WARNING:tensorflow:From /usr/local/lib/python3.6/dist-packages/keras/backend/tensorflow_backend.py:541: The name tf.placeholder is deprecated. Please use tf.compat.v1.placeholder instead.\n",
            "\n",
            "WARNING:tensorflow:From /usr/local/lib/python3.6/dist-packages/keras/backend/tensorflow_backend.py:4432: The name tf.random_uniform is deprecated. Please use tf.random.uniform instead.\n",
            "\n",
            "WARNING:tensorflow:From /usr/local/lib/python3.6/dist-packages/keras/optimizers.py:793: The name tf.train.Optimizer is deprecated. Please use tf.compat.v1.train.Optimizer instead.\n",
            "\n",
            "WARNING:tensorflow:From /usr/local/lib/python3.6/dist-packages/keras/backend/tensorflow_backend.py:3576: The name tf.log is deprecated. Please use tf.math.log instead.\n",
            "\n",
            "WARNING:tensorflow:From /usr/local/lib/python3.6/dist-packages/tensorflow_core/python/ops/math_grad.py:1424: where (from tensorflow.python.ops.array_ops) is deprecated and will be removed in a future version.\n",
            "Instructions for updating:\n",
            "Use tf.where in 2.0, which has the same broadcast rule as np.where\n",
            "WARNING:tensorflow:From /usr/local/lib/python3.6/dist-packages/keras/backend/tensorflow_backend.py:1033: The name tf.assign_add is deprecated. Please use tf.compat.v1.assign_add instead.\n",
            "\n",
            "WARNING:tensorflow:From /usr/local/lib/python3.6/dist-packages/keras/backend/tensorflow_backend.py:1020: The name tf.assign is deprecated. Please use tf.compat.v1.assign instead.\n",
            "\n",
            "WARNING:tensorflow:From /usr/local/lib/python3.6/dist-packages/keras/backend/tensorflow_backend.py:3005: The name tf.Session is deprecated. Please use tf.compat.v1.Session instead.\n",
            "\n",
            "Train on 110 samples, validate on 13 samples\n",
            "Epoch 1/20\n",
            "WARNING:tensorflow:From /usr/local/lib/python3.6/dist-packages/keras/backend/tensorflow_backend.py:190: The name tf.get_default_session is deprecated. Please use tf.compat.v1.get_default_session instead.\n",
            "\n",
            "WARNING:tensorflow:From /usr/local/lib/python3.6/dist-packages/keras/backend/tensorflow_backend.py:197: The name tf.ConfigProto is deprecated. Please use tf.compat.v1.ConfigProto instead.\n",
            "\n",
            "WARNING:tensorflow:From /usr/local/lib/python3.6/dist-packages/keras/backend/tensorflow_backend.py:207: The name tf.global_variables is deprecated. Please use tf.compat.v1.global_variables instead.\n",
            "\n",
            "WARNING:tensorflow:From /usr/local/lib/python3.6/dist-packages/keras/backend/tensorflow_backend.py:216: The name tf.is_variable_initialized is deprecated. Please use tf.compat.v1.is_variable_initialized instead.\n",
            "\n",
            "WARNING:tensorflow:From /usr/local/lib/python3.6/dist-packages/keras/backend/tensorflow_backend.py:223: The name tf.variables_initializer is deprecated. Please use tf.compat.v1.variables_initializer instead.\n",
            "\n",
            "110/110 [==============================] - 0s 2ms/step - loss: 1.5017 - acc: 0.4000 - val_loss: 1.4330 - val_acc: 0.3077\n",
            "Epoch 2/20\n",
            "110/110 [==============================] - 0s 178us/step - loss: 1.2060 - acc: 0.4182 - val_loss: 1.3452 - val_acc: 0.3846\n",
            "Epoch 3/20\n",
            "110/110 [==============================] - 0s 177us/step - loss: 1.0951 - acc: 0.4182 - val_loss: 1.3219 - val_acc: 0.3077\n",
            "Epoch 4/20\n",
            "110/110 [==============================] - 0s 222us/step - loss: 1.0418 - acc: 0.4182 - val_loss: 1.2875 - val_acc: 0.2308\n",
            "Epoch 5/20\n",
            "110/110 [==============================] - 0s 148us/step - loss: 1.0055 - acc: 0.4000 - val_loss: 1.2787 - val_acc: 0.3077\n",
            "Epoch 6/20\n",
            "110/110 [==============================] - 0s 165us/step - loss: 0.9854 - acc: 0.4182 - val_loss: 1.2906 - val_acc: 0.3077\n",
            "Epoch 7/20\n",
            "110/110 [==============================] - 0s 165us/step - loss: 0.9700 - acc: 0.4273 - val_loss: 1.3012 - val_acc: 0.3846\n",
            "Epoch 8/20\n",
            "110/110 [==============================] - 0s 158us/step - loss: 0.9665 - acc: 0.4273 - val_loss: 1.3079 - val_acc: 0.3846\n",
            "Epoch 9/20\n",
            "110/110 [==============================] - 0s 175us/step - loss: 0.9564 - acc: 0.4273 - val_loss: 1.3222 - val_acc: 0.3846\n",
            "Epoch 10/20\n",
            "110/110 [==============================] - 0s 188us/step - loss: 0.9394 - acc: 0.4636 - val_loss: 1.3256 - val_acc: 0.4615\n",
            "Epoch 11/20\n",
            "110/110 [==============================] - 0s 175us/step - loss: 0.9368 - acc: 0.4545 - val_loss: 1.3215 - val_acc: 0.4615\n",
            "Epoch 12/20\n",
            "110/110 [==============================] - 0s 159us/step - loss: 0.9295 - acc: 0.4818 - val_loss: 1.3112 - val_acc: 0.3846\n",
            "Epoch 13/20\n",
            "110/110 [==============================] - 0s 176us/step - loss: 0.9262 - acc: 0.4909 - val_loss: 1.3081 - val_acc: 0.3846\n",
            "Epoch 14/20\n",
            "110/110 [==============================] - 0s 196us/step - loss: 0.9166 - acc: 0.5000 - val_loss: 1.3194 - val_acc: 0.3846\n",
            "Epoch 15/20\n",
            "110/110 [==============================] - 0s 158us/step - loss: 0.9142 - acc: 0.4818 - val_loss: 1.3193 - val_acc: 0.4615\n",
            "Epoch 16/20\n",
            "110/110 [==============================] - 0s 159us/step - loss: 0.9155 - acc: 0.4909 - val_loss: 1.3274 - val_acc: 0.4615\n",
            "Epoch 17/20\n",
            "110/110 [==============================] - 0s 165us/step - loss: 0.9078 - acc: 0.5273 - val_loss: 1.3210 - val_acc: 0.4615\n",
            "Epoch 18/20\n",
            "110/110 [==============================] - 0s 167us/step - loss: 0.8990 - acc: 0.5182 - val_loss: 1.3297 - val_acc: 0.4615\n",
            "Epoch 19/20\n",
            "110/110 [==============================] - 0s 198us/step - loss: 0.8896 - acc: 0.5364 - val_loss: 1.3407 - val_acc: 0.4615\n",
            "Epoch 20/20\n",
            "110/110 [==============================] - 0s 168us/step - loss: 0.8997 - acc: 0.5273 - val_loss: 1.3254 - val_acc: 0.4615\n",
            "Train on 110 samples, validate on 13 samples\n",
            "Epoch 1/20\n",
            "110/110 [==============================] - 0s 1ms/step - loss: 1.8970 - acc: 0.3091 - val_loss: 1.7591 - val_acc: 0.3846\n",
            "Epoch 2/20\n",
            "110/110 [==============================] - 0s 168us/step - loss: 1.3526 - acc: 0.3727 - val_loss: 1.3447 - val_acc: 0.3846\n",
            "Epoch 3/20\n",
            "110/110 [==============================] - 0s 168us/step - loss: 1.2212 - acc: 0.4000 - val_loss: 1.1788 - val_acc: 0.4615\n",
            "Epoch 4/20\n",
            "110/110 [==============================] - 0s 164us/step - loss: 1.1533 - acc: 0.4273 - val_loss: 1.0757 - val_acc: 0.3846\n",
            "Epoch 5/20\n",
            "110/110 [==============================] - 0s 163us/step - loss: 1.1026 - acc: 0.4273 - val_loss: 1.0144 - val_acc: 0.4615\n",
            "Epoch 6/20\n",
            "110/110 [==============================] - 0s 154us/step - loss: 1.0821 - acc: 0.4273 - val_loss: 0.9409 - val_acc: 0.4615\n",
            "Epoch 7/20\n",
            "110/110 [==============================] - 0s 167us/step - loss: 1.0484 - acc: 0.4455 - val_loss: 0.9142 - val_acc: 0.5385\n",
            "Epoch 8/20\n",
            "110/110 [==============================] - 0s 172us/step - loss: 1.0275 - acc: 0.4455 - val_loss: 0.8896 - val_acc: 0.4615\n",
            "Epoch 9/20\n",
            "110/110 [==============================] - 0s 161us/step - loss: 1.0103 - acc: 0.4636 - val_loss: 0.8973 - val_acc: 0.5385\n",
            "Epoch 10/20\n",
            "110/110 [==============================] - 0s 192us/step - loss: 1.0047 - acc: 0.4818 - val_loss: 0.8627 - val_acc: 0.5385\n",
            "Epoch 11/20\n",
            "110/110 [==============================] - 0s 170us/step - loss: 0.9947 - acc: 0.4545 - val_loss: 0.8593 - val_acc: 0.6154\n",
            "Epoch 12/20\n",
            "110/110 [==============================] - 0s 160us/step - loss: 0.9832 - acc: 0.4727 - val_loss: 0.8410 - val_acc: 0.5385\n",
            "Epoch 13/20\n",
            "110/110 [==============================] - 0s 164us/step - loss: 0.9774 - acc: 0.4727 - val_loss: 0.8326 - val_acc: 0.5385\n",
            "Epoch 14/20\n",
            "110/110 [==============================] - 0s 200us/step - loss: 0.9845 - acc: 0.4909 - val_loss: 0.8242 - val_acc: 0.5385\n",
            "Epoch 15/20\n",
            "110/110 [==============================] - 0s 176us/step - loss: 0.9621 - acc: 0.4727 - val_loss: 0.8102 - val_acc: 0.5385\n",
            "Epoch 16/20\n",
            "110/110 [==============================] - 0s 157us/step - loss: 0.9472 - acc: 0.4909 - val_loss: 0.8396 - val_acc: 0.5385\n",
            "Epoch 17/20\n",
            "110/110 [==============================] - 0s 179us/step - loss: 0.9552 - acc: 0.4727 - val_loss: 0.8174 - val_acc: 0.5385\n",
            "Epoch 18/20\n",
            "110/110 [==============================] - 0s 174us/step - loss: 0.9424 - acc: 0.4727 - val_loss: 0.7948 - val_acc: 0.6923\n",
            "Epoch 19/20\n",
            "110/110 [==============================] - 0s 178us/step - loss: 0.9401 - acc: 0.4727 - val_loss: 0.7983 - val_acc: 0.6154\n",
            "Epoch 20/20\n",
            "110/110 [==============================] - 0s 172us/step - loss: 0.9429 - acc: 0.4818 - val_loss: 0.7924 - val_acc: 0.6154\n",
            "Train on 110 samples, validate on 13 samples\n",
            "Epoch 1/20\n",
            "110/110 [==============================] - 0s 2ms/step - loss: 1.3962 - acc: 0.4000 - val_loss: 1.3858 - val_acc: 0.4615\n",
            "Epoch 2/20\n",
            "110/110 [==============================] - 0s 156us/step - loss: 1.2248 - acc: 0.4182 - val_loss: 1.2372 - val_acc: 0.3846\n",
            "Epoch 3/20\n",
            "110/110 [==============================] - 0s 164us/step - loss: 1.1181 - acc: 0.4727 - val_loss: 1.1566 - val_acc: 0.3846\n",
            "Epoch 4/20\n",
            "110/110 [==============================] - 0s 199us/step - loss: 1.0603 - acc: 0.5000 - val_loss: 1.1087 - val_acc: 0.4615\n",
            "Epoch 5/20\n",
            "110/110 [==============================] - 0s 171us/step - loss: 1.0247 - acc: 0.5091 - val_loss: 1.0712 - val_acc: 0.5385\n",
            "Epoch 6/20\n",
            "110/110 [==============================] - 0s 157us/step - loss: 1.0003 - acc: 0.5273 - val_loss: 1.0737 - val_acc: 0.3846\n",
            "Epoch 7/20\n",
            "110/110 [==============================] - 0s 209us/step - loss: 0.9813 - acc: 0.5273 - val_loss: 1.0515 - val_acc: 0.4615\n",
            "Epoch 8/20\n",
            "110/110 [==============================] - 0s 198us/step - loss: 0.9707 - acc: 0.5455 - val_loss: 1.0623 - val_acc: 0.3846\n",
            "Epoch 9/20\n",
            "110/110 [==============================] - 0s 176us/step - loss: 0.9614 - acc: 0.5455 - val_loss: 1.0481 - val_acc: 0.5385\n",
            "Epoch 10/20\n",
            "110/110 [==============================] - 0s 160us/step - loss: 0.9605 - acc: 0.5455 - val_loss: 1.0444 - val_acc: 0.5385\n",
            "Epoch 11/20\n",
            "110/110 [==============================] - 0s 166us/step - loss: 0.9530 - acc: 0.5455 - val_loss: 1.0240 - val_acc: 0.5385\n",
            "Epoch 12/20\n",
            "110/110 [==============================] - 0s 163us/step - loss: 0.9419 - acc: 0.5636 - val_loss: 1.0087 - val_acc: 0.4615\n",
            "Epoch 13/20\n",
            "110/110 [==============================] - 0s 189us/step - loss: 0.9407 - acc: 0.5636 - val_loss: 1.0047 - val_acc: 0.5385\n",
            "Epoch 14/20\n",
            "110/110 [==============================] - 0s 165us/step - loss: 0.9404 - acc: 0.5545 - val_loss: 1.0011 - val_acc: 0.4615\n",
            "Epoch 15/20\n",
            "110/110 [==============================] - 0s 177us/step - loss: 0.9324 - acc: 0.5818 - val_loss: 1.0109 - val_acc: 0.4615\n",
            "Epoch 16/20\n",
            "110/110 [==============================] - 0s 190us/step - loss: 0.9274 - acc: 0.5818 - val_loss: 1.0076 - val_acc: 0.5385\n",
            "Epoch 17/20\n",
            "110/110 [==============================] - 0s 153us/step - loss: 0.9226 - acc: 0.5909 - val_loss: 0.9974 - val_acc: 0.4615\n",
            "Epoch 18/20\n",
            "110/110 [==============================] - 0s 203us/step - loss: 0.9238 - acc: 0.5636 - val_loss: 1.0095 - val_acc: 0.5385\n",
            "Epoch 19/20\n",
            "110/110 [==============================] - 0s 168us/step - loss: 0.9207 - acc: 0.5727 - val_loss: 1.0038 - val_acc: 0.5385\n",
            "Epoch 20/20\n",
            "110/110 [==============================] - 0s 166us/step - loss: 0.9102 - acc: 0.6000 - val_loss: 0.9875 - val_acc: 0.4615\n",
            "Train on 111 samples, validate on 12 samples\n",
            "Epoch 1/20\n",
            "111/111 [==============================] - 0s 2ms/step - loss: 2.1234 - acc: 0.2973 - val_loss: 1.3088 - val_acc: 0.1667\n",
            "Epoch 2/20\n",
            "111/111 [==============================] - 0s 174us/step - loss: 1.2512 - acc: 0.3243 - val_loss: 1.3402 - val_acc: 0.1667\n",
            "Epoch 3/20\n",
            "111/111 [==============================] - 0s 166us/step - loss: 1.1516 - acc: 0.3964 - val_loss: 1.3198 - val_acc: 0.2500\n",
            "Epoch 4/20\n",
            "111/111 [==============================] - 0s 171us/step - loss: 1.1032 - acc: 0.3784 - val_loss: 1.3265 - val_acc: 0.2500\n",
            "Epoch 5/20\n",
            "111/111 [==============================] - 0s 167us/step - loss: 1.0910 - acc: 0.3964 - val_loss: 1.3308 - val_acc: 0.2500\n",
            "Epoch 6/20\n",
            "111/111 [==============================] - 0s 164us/step - loss: 1.0599 - acc: 0.4324 - val_loss: 1.2583 - val_acc: 0.3333\n",
            "Epoch 7/20\n",
            "111/111 [==============================] - 0s 200us/step - loss: 1.0357 - acc: 0.4234 - val_loss: 1.2165 - val_acc: 0.2500\n",
            "Epoch 8/20\n",
            "111/111 [==============================] - 0s 163us/step - loss: 1.0501 - acc: 0.4685 - val_loss: 1.2125 - val_acc: 0.2500\n",
            "Epoch 9/20\n",
            "111/111 [==============================] - 0s 182us/step - loss: 1.0231 - acc: 0.4414 - val_loss: 1.2535 - val_acc: 0.2500\n",
            "Epoch 10/20\n",
            "111/111 [==============================] - 0s 168us/step - loss: 1.0176 - acc: 0.5045 - val_loss: 1.2431 - val_acc: 0.2500\n",
            "Epoch 11/20\n",
            "111/111 [==============================] - 0s 191us/step - loss: 1.0052 - acc: 0.5135 - val_loss: 1.1986 - val_acc: 0.2500\n",
            "Epoch 12/20\n",
            "111/111 [==============================] - 0s 183us/step - loss: 1.0014 - acc: 0.5045 - val_loss: 1.1924 - val_acc: 0.2500\n",
            "Epoch 13/20\n",
            "111/111 [==============================] - 0s 166us/step - loss: 0.9950 - acc: 0.5135 - val_loss: 1.2218 - val_acc: 0.2500\n",
            "Epoch 14/20\n",
            "111/111 [==============================] - 0s 160us/step - loss: 0.9818 - acc: 0.5225 - val_loss: 1.1856 - val_acc: 0.4167\n",
            "Epoch 15/20\n",
            "111/111 [==============================] - 0s 161us/step - loss: 0.9670 - acc: 0.5315 - val_loss: 1.2390 - val_acc: 0.3333\n",
            "Epoch 16/20\n",
            "111/111 [==============================] - 0s 186us/step - loss: 0.9715 - acc: 0.5315 - val_loss: 1.2353 - val_acc: 0.3333\n",
            "Epoch 17/20\n",
            "111/111 [==============================] - 0s 161us/step - loss: 0.9559 - acc: 0.5225 - val_loss: 1.1887 - val_acc: 0.3333\n",
            "Epoch 18/20\n",
            "111/111 [==============================] - 0s 172us/step - loss: 0.9710 - acc: 0.5135 - val_loss: 1.1838 - val_acc: 0.4167\n",
            "Epoch 19/20\n",
            "111/111 [==============================] - 0s 168us/step - loss: 0.9530 - acc: 0.5495 - val_loss: 1.1756 - val_acc: 0.4167\n",
            "Epoch 20/20\n",
            "111/111 [==============================] - 0s 197us/step - loss: 0.9337 - acc: 0.5225 - val_loss: 1.2521 - val_acc: 0.3333\n",
            "Train on 111 samples, validate on 12 samples\n",
            "Epoch 1/20\n",
            "111/111 [==============================] - 0s 2ms/step - loss: 1.7366 - acc: 0.2252 - val_loss: 1.9298 - val_acc: 0.1667\n",
            "Epoch 2/20\n",
            "111/111 [==============================] - 0s 178us/step - loss: 1.2531 - acc: 0.3784 - val_loss: 1.4414 - val_acc: 0.2500\n",
            "Epoch 3/20\n",
            "111/111 [==============================] - 0s 173us/step - loss: 1.0923 - acc: 0.3964 - val_loss: 1.2146 - val_acc: 0.2500\n",
            "Epoch 4/20\n",
            "111/111 [==============================] - 0s 180us/step - loss: 1.0265 - acc: 0.4144 - val_loss: 1.0940 - val_acc: 0.2500\n",
            "Epoch 5/20\n",
            "111/111 [==============================] - 0s 180us/step - loss: 1.0006 - acc: 0.4685 - val_loss: 1.0232 - val_acc: 0.2500\n",
            "Epoch 6/20\n",
            "111/111 [==============================] - 0s 169us/step - loss: 0.9710 - acc: 0.4685 - val_loss: 0.9687 - val_acc: 0.3333\n",
            "Epoch 7/20\n",
            "111/111 [==============================] - 0s 160us/step - loss: 0.9466 - acc: 0.4955 - val_loss: 0.9438 - val_acc: 0.4167\n",
            "Epoch 8/20\n",
            "111/111 [==============================] - 0s 228us/step - loss: 0.9381 - acc: 0.5225 - val_loss: 0.9102 - val_acc: 0.5000\n",
            "Epoch 9/20\n",
            "111/111 [==============================] - 0s 158us/step - loss: 0.9254 - acc: 0.5586 - val_loss: 0.8921 - val_acc: 0.5833\n",
            "Epoch 10/20\n",
            "111/111 [==============================] - 0s 169us/step - loss: 0.9197 - acc: 0.5405 - val_loss: 0.8837 - val_acc: 0.5000\n",
            "Epoch 11/20\n",
            "111/111 [==============================] - 0s 178us/step - loss: 0.9122 - acc: 0.5495 - val_loss: 0.8792 - val_acc: 0.4167\n",
            "Epoch 12/20\n",
            "111/111 [==============================] - 0s 225us/step - loss: 0.9043 - acc: 0.5495 - val_loss: 0.8601 - val_acc: 0.5000\n",
            "Epoch 13/20\n",
            "111/111 [==============================] - 0s 212us/step - loss: 0.9020 - acc: 0.5495 - val_loss: 0.8536 - val_acc: 0.5833\n",
            "Epoch 14/20\n",
            "111/111 [==============================] - 0s 196us/step - loss: 0.8958 - acc: 0.5405 - val_loss: 0.8383 - val_acc: 0.6667\n",
            "Epoch 15/20\n",
            "111/111 [==============================] - 0s 161us/step - loss: 0.8920 - acc: 0.5766 - val_loss: 0.8417 - val_acc: 0.5833\n",
            "Epoch 16/20\n",
            "111/111 [==============================] - 0s 184us/step - loss: 0.8818 - acc: 0.5676 - val_loss: 0.8487 - val_acc: 0.5000\n",
            "Epoch 17/20\n",
            "111/111 [==============================] - 0s 192us/step - loss: 0.8883 - acc: 0.5495 - val_loss: 0.8445 - val_acc: 0.5000\n",
            "Epoch 18/20\n",
            "111/111 [==============================] - 0s 197us/step - loss: 0.8768 - acc: 0.6036 - val_loss: 0.8470 - val_acc: 0.5833\n",
            "Epoch 19/20\n",
            "111/111 [==============================] - 0s 170us/step - loss: 0.8763 - acc: 0.5676 - val_loss: 0.8256 - val_acc: 0.5833\n",
            "Epoch 20/20\n",
            "111/111 [==============================] - 0s 182us/step - loss: 0.8621 - acc: 0.5676 - val_loss: 0.8204 - val_acc: 0.5833\n",
            "Train on 111 samples, validate on 12 samples\n",
            "Epoch 1/20\n",
            "111/111 [==============================] - 0s 3ms/step - loss: 1.7704 - acc: 0.3784 - val_loss: 1.1015 - val_acc: 0.5833\n",
            "Epoch 2/20\n",
            "111/111 [==============================] - 0s 164us/step - loss: 1.3319 - acc: 0.4414 - val_loss: 0.9197 - val_acc: 0.6667\n",
            "Epoch 3/20\n",
            "111/111 [==============================] - 0s 166us/step - loss: 1.1901 - acc: 0.4595 - val_loss: 0.8469 - val_acc: 0.7500\n",
            "Epoch 4/20\n",
            "111/111 [==============================] - 0s 160us/step - loss: 1.1058 - acc: 0.4595 - val_loss: 0.8043 - val_acc: 0.6667\n",
            "Epoch 5/20\n",
            "111/111 [==============================] - 0s 160us/step - loss: 1.0589 - acc: 0.5135 - val_loss: 0.7877 - val_acc: 0.6667\n",
            "Epoch 6/20\n",
            "111/111 [==============================] - 0s 154us/step - loss: 1.0401 - acc: 0.5315 - val_loss: 0.7931 - val_acc: 0.7500\n",
            "Epoch 7/20\n",
            "111/111 [==============================] - 0s 176us/step - loss: 1.0136 - acc: 0.4955 - val_loss: 0.7737 - val_acc: 0.7500\n",
            "Epoch 8/20\n",
            "111/111 [==============================] - 0s 164us/step - loss: 0.9948 - acc: 0.5586 - val_loss: 0.7763 - val_acc: 0.7500\n",
            "Epoch 9/20\n",
            "111/111 [==============================] - 0s 157us/step - loss: 0.9879 - acc: 0.5586 - val_loss: 0.7746 - val_acc: 0.7500\n",
            "Epoch 10/20\n",
            "111/111 [==============================] - 0s 159us/step - loss: 0.9675 - acc: 0.5946 - val_loss: 0.8131 - val_acc: 0.7500\n",
            "Epoch 11/20\n",
            "111/111 [==============================] - 0s 165us/step - loss: 0.9536 - acc: 0.5856 - val_loss: 0.7965 - val_acc: 0.8333\n",
            "Epoch 12/20\n",
            "111/111 [==============================] - 0s 161us/step - loss: 0.9546 - acc: 0.5856 - val_loss: 0.7938 - val_acc: 0.8333\n",
            "Epoch 13/20\n",
            "111/111 [==============================] - 0s 159us/step - loss: 0.9591 - acc: 0.5586 - val_loss: 0.8116 - val_acc: 0.7500\n",
            "Epoch 14/20\n",
            "111/111 [==============================] - 0s 167us/step - loss: 0.9319 - acc: 0.6036 - val_loss: 0.8240 - val_acc: 0.6667\n",
            "Epoch 15/20\n",
            "111/111 [==============================] - 0s 161us/step - loss: 0.9319 - acc: 0.5766 - val_loss: 0.8260 - val_acc: 0.6667\n",
            "Epoch 16/20\n",
            "111/111 [==============================] - 0s 163us/step - loss: 0.9256 - acc: 0.5856 - val_loss: 0.8402 - val_acc: 0.6667\n",
            "Epoch 17/20\n",
            "111/111 [==============================] - 0s 158us/step - loss: 0.9190 - acc: 0.5856 - val_loss: 0.7861 - val_acc: 0.7500\n",
            "Epoch 18/20\n",
            "111/111 [==============================] - 0s 194us/step - loss: 0.9088 - acc: 0.5946 - val_loss: 0.8091 - val_acc: 0.5833\n",
            "Epoch 19/20\n",
            "111/111 [==============================] - 0s 181us/step - loss: 0.9077 - acc: 0.5946 - val_loss: 0.8041 - val_acc: 0.6667\n",
            "Epoch 20/20\n",
            "111/111 [==============================] - 0s 182us/step - loss: 0.9071 - acc: 0.6126 - val_loss: 0.7816 - val_acc: 0.7500\n",
            "Train on 111 samples, validate on 12 samples\n",
            "Epoch 1/20\n",
            "111/111 [==============================] - 0s 3ms/step - loss: 1.5993 - acc: 0.3874 - val_loss: 0.9036 - val_acc: 0.5833\n",
            "Epoch 2/20\n",
            "111/111 [==============================] - 0s 186us/step - loss: 1.2535 - acc: 0.4685 - val_loss: 0.8743 - val_acc: 0.5833\n",
            "Epoch 3/20\n",
            "111/111 [==============================] - 0s 164us/step - loss: 1.1719 - acc: 0.4775 - val_loss: 0.8825 - val_acc: 0.5000\n",
            "Epoch 4/20\n",
            "111/111 [==============================] - 0s 169us/step - loss: 1.1221 - acc: 0.4505 - val_loss: 0.8973 - val_acc: 0.4167\n",
            "Epoch 5/20\n",
            "111/111 [==============================] - 0s 287us/step - loss: 1.0889 - acc: 0.5315 - val_loss: 0.9045 - val_acc: 0.4167\n",
            "Epoch 6/20\n",
            "111/111 [==============================] - 0s 165us/step - loss: 1.0735 - acc: 0.5135 - val_loss: 0.9107 - val_acc: 0.4167\n",
            "Epoch 7/20\n",
            "111/111 [==============================] - 0s 170us/step - loss: 1.0554 - acc: 0.5225 - val_loss: 0.9117 - val_acc: 0.4167\n",
            "Epoch 8/20\n",
            "111/111 [==============================] - 0s 157us/step - loss: 1.0433 - acc: 0.5405 - val_loss: 0.9136 - val_acc: 0.4167\n",
            "Epoch 9/20\n",
            "111/111 [==============================] - 0s 187us/step - loss: 1.0272 - acc: 0.5676 - val_loss: 0.9162 - val_acc: 0.3333\n",
            "Epoch 10/20\n",
            "111/111 [==============================] - 0s 200us/step - loss: 1.0203 - acc: 0.5495 - val_loss: 0.9169 - val_acc: 0.3333\n",
            "Epoch 11/20\n",
            "111/111 [==============================] - 0s 151us/step - loss: 1.0116 - acc: 0.4955 - val_loss: 0.9187 - val_acc: 0.4167\n",
            "Epoch 12/20\n",
            "111/111 [==============================] - 0s 168us/step - loss: 0.9995 - acc: 0.5676 - val_loss: 0.9086 - val_acc: 0.5000\n",
            "Epoch 13/20\n",
            "111/111 [==============================] - 0s 199us/step - loss: 0.9890 - acc: 0.5766 - val_loss: 0.9001 - val_acc: 0.5833\n",
            "Epoch 14/20\n",
            "111/111 [==============================] - 0s 157us/step - loss: 0.9796 - acc: 0.5766 - val_loss: 0.8948 - val_acc: 0.6667\n",
            "Epoch 15/20\n",
            "111/111 [==============================] - 0s 155us/step - loss: 0.9769 - acc: 0.5495 - val_loss: 0.8901 - val_acc: 0.6667\n",
            "Epoch 16/20\n",
            "111/111 [==============================] - 0s 165us/step - loss: 0.9695 - acc: 0.5946 - val_loss: 0.8856 - val_acc: 0.5833\n",
            "Epoch 17/20\n",
            "111/111 [==============================] - 0s 161us/step - loss: 0.9599 - acc: 0.5946 - val_loss: 0.8825 - val_acc: 0.6667\n",
            "Epoch 18/20\n",
            "111/111 [==============================] - 0s 178us/step - loss: 0.9517 - acc: 0.5856 - val_loss: 0.8839 - val_acc: 0.6667\n",
            "Epoch 19/20\n",
            "111/111 [==============================] - 0s 207us/step - loss: 0.9488 - acc: 0.5856 - val_loss: 0.8748 - val_acc: 0.6667\n",
            "Epoch 20/20\n",
            "111/111 [==============================] - 0s 162us/step - loss: 0.9535 - acc: 0.5586 - val_loss: 0.8818 - val_acc: 0.6667\n",
            "Train on 111 samples, validate on 12 samples\n",
            "Epoch 1/20\n",
            "111/111 [==============================] - 0s 3ms/step - loss: 1.8454 - acc: 0.2523 - val_loss: 1.2962 - val_acc: 0.3333\n",
            "Epoch 2/20\n",
            "111/111 [==============================] - 0s 193us/step - loss: 1.2877 - acc: 0.3874 - val_loss: 1.1702 - val_acc: 0.2500\n",
            "Epoch 3/20\n",
            "111/111 [==============================] - 0s 190us/step - loss: 1.1271 - acc: 0.4324 - val_loss: 1.1884 - val_acc: 0.2500\n",
            "Epoch 4/20\n",
            "111/111 [==============================] - 0s 182us/step - loss: 1.0468 - acc: 0.4775 - val_loss: 1.1943 - val_acc: 0.2500\n",
            "Epoch 5/20\n",
            "111/111 [==============================] - 0s 195us/step - loss: 0.9819 - acc: 0.5315 - val_loss: 1.2254 - val_acc: 0.2500\n",
            "Epoch 6/20\n",
            "111/111 [==============================] - 0s 250us/step - loss: 0.9411 - acc: 0.5856 - val_loss: 1.2619 - val_acc: 0.2500\n",
            "Epoch 7/20\n",
            "111/111 [==============================] - 0s 171us/step - loss: 0.9137 - acc: 0.5766 - val_loss: 1.3098 - val_acc: 0.3333\n",
            "Epoch 8/20\n",
            "111/111 [==============================] - 0s 165us/step - loss: 0.9029 - acc: 0.6126 - val_loss: 1.3511 - val_acc: 0.3333\n",
            "Epoch 9/20\n",
            "111/111 [==============================] - 0s 170us/step - loss: 0.8851 - acc: 0.5946 - val_loss: 1.3695 - val_acc: 0.2500\n",
            "Epoch 10/20\n",
            "111/111 [==============================] - 0s 192us/step - loss: 0.8833 - acc: 0.6306 - val_loss: 1.3891 - val_acc: 0.3333\n",
            "Epoch 11/20\n",
            "111/111 [==============================] - 0s 173us/step - loss: 0.8725 - acc: 0.6216 - val_loss: 1.4222 - val_acc: 0.3333\n",
            "Epoch 12/20\n",
            "111/111 [==============================] - 0s 180us/step - loss: 0.8605 - acc: 0.6306 - val_loss: 1.4387 - val_acc: 0.3333\n",
            "Epoch 13/20\n",
            "111/111 [==============================] - 0s 178us/step - loss: 0.8592 - acc: 0.6036 - val_loss: 1.4384 - val_acc: 0.3333\n",
            "Epoch 14/20\n",
            "111/111 [==============================] - 0s 157us/step - loss: 0.8518 - acc: 0.6396 - val_loss: 1.4499 - val_acc: 0.3333\n",
            "Epoch 15/20\n",
            "111/111 [==============================] - 0s 159us/step - loss: 0.8366 - acc: 0.6396 - val_loss: 1.4680 - val_acc: 0.3333\n",
            "Epoch 16/20\n",
            "111/111 [==============================] - 0s 156us/step - loss: 0.8480 - acc: 0.6757 - val_loss: 1.4712 - val_acc: 0.2500\n",
            "Epoch 17/20\n",
            "111/111 [==============================] - 0s 164us/step - loss: 0.8338 - acc: 0.6486 - val_loss: 1.4863 - val_acc: 0.2500\n",
            "Epoch 18/20\n",
            "111/111 [==============================] - 0s 176us/step - loss: 0.8300 - acc: 0.6667 - val_loss: 1.4869 - val_acc: 0.3333\n",
            "Epoch 19/20\n",
            "111/111 [==============================] - 0s 182us/step - loss: 0.8310 - acc: 0.6126 - val_loss: 1.4884 - val_acc: 0.2500\n",
            "Epoch 20/20\n",
            "111/111 [==============================] - 0s 165us/step - loss: 0.8243 - acc: 0.6757 - val_loss: 1.4970 - val_acc: 0.2500\n",
            "Train on 111 samples, validate on 12 samples\n",
            "Epoch 1/20\n",
            "111/111 [==============================] - 0s 3ms/step - loss: 1.5225 - acc: 0.3153 - val_loss: 1.5583 - val_acc: 0.1667\n",
            "Epoch 2/20\n",
            "111/111 [==============================] - 0s 173us/step - loss: 1.2482 - acc: 0.4054 - val_loss: 1.4185 - val_acc: 0.2500\n",
            "Epoch 3/20\n",
            "111/111 [==============================] - 0s 165us/step - loss: 1.1468 - acc: 0.4054 - val_loss: 1.3013 - val_acc: 0.2500\n",
            "Epoch 4/20\n",
            "111/111 [==============================] - 0s 159us/step - loss: 1.0670 - acc: 0.4955 - val_loss: 1.3235 - val_acc: 0.3333\n",
            "Epoch 5/20\n",
            "111/111 [==============================] - 0s 157us/step - loss: 1.0608 - acc: 0.5045 - val_loss: 1.2065 - val_acc: 0.4167\n",
            "Epoch 6/20\n",
            "111/111 [==============================] - 0s 155us/step - loss: 1.0420 - acc: 0.5045 - val_loss: 1.1801 - val_acc: 0.4167\n",
            "Epoch 7/20\n",
            "111/111 [==============================] - 0s 156us/step - loss: 1.0165 - acc: 0.5225 - val_loss: 1.3046 - val_acc: 0.3333\n",
            "Epoch 8/20\n",
            "111/111 [==============================] - 0s 159us/step - loss: 1.0347 - acc: 0.5495 - val_loss: 1.1764 - val_acc: 0.4167\n",
            "Epoch 9/20\n",
            "111/111 [==============================] - 0s 177us/step - loss: 1.0072 - acc: 0.5766 - val_loss: 1.2011 - val_acc: 0.5000\n",
            "Epoch 10/20\n",
            "111/111 [==============================] - 0s 162us/step - loss: 0.9910 - acc: 0.5676 - val_loss: 1.1813 - val_acc: 0.5000\n",
            "Epoch 11/20\n",
            "111/111 [==============================] - 0s 167us/step - loss: 0.9832 - acc: 0.5946 - val_loss: 1.2103 - val_acc: 0.5000\n",
            "Epoch 12/20\n",
            "111/111 [==============================] - 0s 203us/step - loss: 0.9833 - acc: 0.5856 - val_loss: 1.1916 - val_acc: 0.5000\n",
            "Epoch 13/20\n",
            "111/111 [==============================] - 0s 180us/step - loss: 0.9893 - acc: 0.5676 - val_loss: 1.1559 - val_acc: 0.5000\n",
            "Epoch 14/20\n",
            "111/111 [==============================] - 0s 179us/step - loss: 0.9767 - acc: 0.6126 - val_loss: 1.1436 - val_acc: 0.5000\n",
            "Epoch 15/20\n",
            "111/111 [==============================] - 0s 173us/step - loss: 0.9802 - acc: 0.5766 - val_loss: 1.1409 - val_acc: 0.5000\n",
            "Epoch 16/20\n",
            "111/111 [==============================] - 0s 188us/step - loss: 0.9536 - acc: 0.6126 - val_loss: 1.1520 - val_acc: 0.5000\n",
            "Epoch 17/20\n",
            "111/111 [==============================] - 0s 173us/step - loss: 0.9611 - acc: 0.5856 - val_loss: 1.2402 - val_acc: 0.5000\n",
            "Epoch 18/20\n",
            "111/111 [==============================] - 0s 197us/step - loss: 0.9452 - acc: 0.5766 - val_loss: 1.1307 - val_acc: 0.4167\n",
            "Epoch 19/20\n",
            "111/111 [==============================] - 0s 164us/step - loss: 0.9480 - acc: 0.6216 - val_loss: 1.1511 - val_acc: 0.3333\n",
            "Epoch 20/20\n",
            "111/111 [==============================] - 0s 233us/step - loss: 0.9336 - acc: 0.5766 - val_loss: 1.1442 - val_acc: 0.4167\n",
            "Train on 111 samples, validate on 12 samples\n",
            "Epoch 1/20\n",
            "111/111 [==============================] - 0s 4ms/step - loss: 1.3753 - acc: 0.4234 - val_loss: 1.1580 - val_acc: 0.4167\n",
            "Epoch 2/20\n",
            "111/111 [==============================] - 0s 227us/step - loss: 1.0810 - acc: 0.4775 - val_loss: 1.0730 - val_acc: 0.4167\n",
            "Epoch 3/20\n",
            "111/111 [==============================] - 0s 175us/step - loss: 1.0352 - acc: 0.4955 - val_loss: 1.0293 - val_acc: 0.4167\n",
            "Epoch 4/20\n",
            "111/111 [==============================] - 0s 185us/step - loss: 0.9971 - acc: 0.4955 - val_loss: 1.0022 - val_acc: 0.5000\n",
            "Epoch 5/20\n",
            "111/111 [==============================] - 0s 170us/step - loss: 0.9862 - acc: 0.4505 - val_loss: 0.9871 - val_acc: 0.4167\n",
            "Epoch 6/20\n",
            "111/111 [==============================] - 0s 184us/step - loss: 0.9656 - acc: 0.5135 - val_loss: 0.9925 - val_acc: 0.5000\n",
            "Epoch 7/20\n",
            "111/111 [==============================] - 0s 163us/step - loss: 0.9549 - acc: 0.4865 - val_loss: 0.9899 - val_acc: 0.5000\n",
            "Epoch 8/20\n",
            "111/111 [==============================] - 0s 210us/step - loss: 0.9456 - acc: 0.5135 - val_loss: 0.9897 - val_acc: 0.5000\n",
            "Epoch 9/20\n",
            "111/111 [==============================] - 0s 166us/step - loss: 0.9428 - acc: 0.5045 - val_loss: 0.9964 - val_acc: 0.5000\n",
            "Epoch 10/20\n",
            "111/111 [==============================] - 0s 201us/step - loss: 0.9365 - acc: 0.5495 - val_loss: 1.0024 - val_acc: 0.5000\n",
            "Epoch 11/20\n",
            "111/111 [==============================] - 0s 156us/step - loss: 0.9297 - acc: 0.5225 - val_loss: 1.0006 - val_acc: 0.5000\n",
            "Epoch 12/20\n",
            "111/111 [==============================] - 0s 188us/step - loss: 0.9199 - acc: 0.5586 - val_loss: 1.0030 - val_acc: 0.5000\n",
            "Epoch 13/20\n",
            "111/111 [==============================] - 0s 209us/step - loss: 0.9197 - acc: 0.5315 - val_loss: 1.0049 - val_acc: 0.5000\n",
            "Epoch 14/20\n",
            "111/111 [==============================] - 0s 193us/step - loss: 0.9154 - acc: 0.5225 - val_loss: 1.0046 - val_acc: 0.5000\n",
            "Epoch 15/20\n",
            "111/111 [==============================] - 0s 197us/step - loss: 0.9122 - acc: 0.5405 - val_loss: 1.0056 - val_acc: 0.5000\n",
            "Epoch 16/20\n",
            "111/111 [==============================] - 0s 212us/step - loss: 0.9182 - acc: 0.5225 - val_loss: 1.0131 - val_acc: 0.5000\n",
            "Epoch 17/20\n",
            "111/111 [==============================] - 0s 159us/step - loss: 0.9049 - acc: 0.5405 - val_loss: 1.0067 - val_acc: 0.5000\n",
            "Epoch 18/20\n",
            "111/111 [==============================] - 0s 251us/step - loss: 0.9050 - acc: 0.5405 - val_loss: 1.0047 - val_acc: 0.5000\n",
            "Epoch 19/20\n",
            "111/111 [==============================] - 0s 177us/step - loss: 0.8991 - acc: 0.5315 - val_loss: 0.9998 - val_acc: 0.5000\n",
            "Epoch 20/20\n",
            "111/111 [==============================] - 0s 159us/step - loss: 0.9051 - acc: 0.5856 - val_loss: 1.0114 - val_acc: 0.5000\n"
          ],
          "name": "stdout"
        }
      ]
    },
    {
      "cell_type": "code",
      "metadata": {
        "id": "s2eeOHoYbina",
        "colab_type": "code",
        "colab": {}
      },
      "source": [
        "history_dict = history.history"
      ],
      "execution_count": 0,
      "outputs": []
    },
    {
      "cell_type": "code",
      "metadata": {
        "id": "-zDN2PrRc36l",
        "colab_type": "code",
        "outputId": "c4a5090c-adfc-44eb-aab1-9b94a001240a",
        "colab": {
          "base_uri": "https://localhost:8080/",
          "height": 35
        }
      },
      "source": [
        "history_dict.keys()"
      ],
      "execution_count": 47,
      "outputs": [
        {
          "output_type": "execute_result",
          "data": {
            "text/plain": [
              "dict_keys(['val_loss', 'val_acc', 'loss', 'acc'])"
            ]
          },
          "metadata": {
            "tags": []
          },
          "execution_count": 47
        }
      ]
    },
    {
      "cell_type": "code",
      "metadata": {
        "id": "tss7vRUEgAcz",
        "colab_type": "code",
        "outputId": "a8591201-ec63-4151-a8fd-42789ea99678",
        "colab": {
          "base_uri": "https://localhost:8080/",
          "height": 35
        }
      },
      "source": [
        "len(all_acc_histories[2])"
      ],
      "execution_count": 48,
      "outputs": [
        {
          "output_type": "execute_result",
          "data": {
            "text/plain": [
              "20"
            ]
          },
          "metadata": {
            "tags": []
          },
          "execution_count": 48
        }
      ]
    },
    {
      "cell_type": "code",
      "metadata": {
        "id": "HpKE3iTJBHzO",
        "colab_type": "code",
        "colab": {}
      },
      "source": [
        "average_acc_history = [np.mean([x[i] for x in all_acc_histories]) for i in range(num_epochs)]\n",
        "#media per epoca degli score ottenuti per tutte le k-fold\n",
        "#per ogni k-fold di fanno num_epoch epoche, la media viene fatta prendendo gli score di tutti i k-fold relativi ad una data epoca,\n",
        "#e si fa questo per tutte le epoche\n",
        "average_loss_history = [np.mean([x[i] for x in all_loss_histories]) for i in range(num_epochs)]\n",
        "average_val_acc_history = [np.mean([x[i] for x in all_val_acc_histories]) for i in range(num_epochs)]\n",
        "average_val_loss_history = [np.mean([x[i] for x in all_val_loss_histories]) for i in range(num_epochs)]\n"
      ],
      "execution_count": 0,
      "outputs": []
    },
    {
      "cell_type": "code",
      "metadata": {
        "id": "uQrkCEMUD2RI",
        "colab_type": "code",
        "outputId": "612fd9c5-5fdc-416d-f1eb-7b0d52d34e32",
        "colab": {
          "base_uri": "https://localhost:8080/",
          "height": 35
        }
      },
      "source": [
        "len(average_val_acc_history)"
      ],
      "execution_count": 50,
      "outputs": [
        {
          "output_type": "execute_result",
          "data": {
            "text/plain": [
              "20"
            ]
          },
          "metadata": {
            "tags": []
          },
          "execution_count": 50
        }
      ]
    },
    {
      "cell_type": "markdown",
      "metadata": {
        "id": "B9UhSxIaHtuO",
        "colab_type": "text"
      },
      "source": [
        "##Plotting training and validation loss"
      ]
    },
    {
      "cell_type": "code",
      "metadata": {
        "id": "vq6zsienD5ct",
        "colab_type": "code",
        "colab": {}
      },
      "source": [
        "import matplotlib.pyplot as plt"
      ],
      "execution_count": 0,
      "outputs": []
    },
    {
      "cell_type": "code",
      "metadata": {
        "id": "XJizyjnaIPhQ",
        "colab_type": "code",
        "colab": {}
      },
      "source": [
        "epochs = range(1, num_epochs+1)"
      ],
      "execution_count": 0,
      "outputs": []
    },
    {
      "cell_type": "code",
      "metadata": {
        "id": "HfEHEYLgIQUQ",
        "colab_type": "code",
        "outputId": "c50b1514-5da4-45a6-de2b-de7cf4d64d13",
        "colab": {
          "base_uri": "https://localhost:8080/",
          "height": 313
        }
      },
      "source": [
        "plt.plot(epochs, average_loss_history, 'bo', label='training loss')\n",
        "plt.plot(epochs, average_val_loss_history, 'b', label='validation loss')\n",
        "plt.title('Training and validation loss')\n",
        "plt.xlabel('Epochs')\n",
        "plt.ylabel('Loss')\n",
        "plt.legend()"
      ],
      "execution_count": 53,
      "outputs": [
        {
          "output_type": "execute_result",
          "data": {
            "text/plain": [
              "<matplotlib.legend.Legend at 0x7ff9d4bceb38>"
            ]
          },
          "metadata": {
            "tags": []
          },
          "execution_count": 53
        },
        {
          "output_type": "display_data",
          "data": {
            "image/png": "[encoded data removed]",
            "text/plain": [
              "<Figure size 432x288 with 1 Axes>"
            ]
          },
          "metadata": {
            "tags": []
          }
        }
      ]
    },
    {
      "cell_type": "markdown",
      "metadata": {
        "id": "Aoc4wMjfI97j",
        "colab_type": "text"
      },
      "source": [
        "##Plotting train and validation accuracy"
      ]
    },
    {
      "cell_type": "code",
      "metadata": {
        "id": "GZi7VzbFIbtJ",
        "colab_type": "code",
        "outputId": "2cf37956-b9ba-48b9-ec39-82d03163ee5c",
        "colab": {
          "base_uri": "https://localhost:8080/",
          "height": 313
        }
      },
      "source": [
        "plt.plot(epochs, average_acc_history, 'bo', label='Training accuracy')\n",
        "plt.plot(epochs, average_val_acc_history, 'b', label='Validation accuracy')\n",
        "plt.title('Training and validation accuracy')\n",
        "plt.xlabel('Epochs')\n",
        "plt.ylabel('Accuracy')\n",
        "plt.legend() "
      ],
      "execution_count": 54,
      "outputs": [
        {
          "output_type": "execute_result",
          "data": {
            "text/plain": [
              "<matplotlib.legend.Legend at 0x7ff9d46a8e80>"
            ]
          },
          "metadata": {
            "tags": []
          },
          "execution_count": 54
        },
        {
          "output_type": "display_data",
          "data": {
            "image/png": "[encoded data removed]",
            "text/plain": [
              "<Figure size 432x288 with 1 Axes>"
            ]
          },
          "metadata": {
            "tags": []
          }
        }
      ]
    },
    {
      "cell_type": "markdown",
      "metadata": {
        "id": "bgN-E84SUPUq",
        "colab_type": "text"
      },
      "source": [
        "#Performances on test set"
      ]
    },
    {
      "cell_type": "code",
      "metadata": {
        "id": "VokWFUNPJOsJ",
        "colab_type": "code",
        "outputId": "6bc14d6e-d629-4e90-f882-26821fdd53a0",
        "colab": {
          "base_uri": "https://localhost:8080/",
          "height": 770
        }
      },
      "source": [
        " model = build_model()\n",
        " model.fit(train_data_stand_pca, one_hot_train_labels, epochs= num_epochs, batch_size=8, shuffle=True)\n",
        " test_loss, test_acc = model.evaluate(test_data_stand_pca, one_hot_test_labels)\n",
        "  "
      ],
      "execution_count": 55,
      "outputs": [
        {
          "output_type": "stream",
          "text": [
            "Epoch 1/20\n",
            "123/123 [==============================] - 0s 3ms/step - loss: 2.0964 - acc: 0.2846\n",
            "Epoch 2/20\n",
            "123/123 [==============================] - 0s 179us/step - loss: 1.3584 - acc: 0.3659\n",
            "Epoch 3/20\n",
            "123/123 [==============================] - 0s 165us/step - loss: 1.1604 - acc: 0.4309\n",
            "Epoch 4/20\n",
            "123/123 [==============================] - 0s 166us/step - loss: 1.0775 - acc: 0.4715\n",
            "Epoch 5/20\n",
            "123/123 [==============================] - 0s 179us/step - loss: 1.0320 - acc: 0.5285\n",
            "Epoch 6/20\n",
            "123/123 [==============================] - 0s 152us/step - loss: 0.9960 - acc: 0.5610\n",
            "Epoch 7/20\n",
            "123/123 [==============================] - 0s 185us/step - loss: 0.9668 - acc: 0.5528\n",
            "Epoch 8/20\n",
            "123/123 [==============================] - 0s 149us/step - loss: 0.9531 - acc: 0.5610\n",
            "Epoch 9/20\n",
            "123/123 [==============================] - 0s 160us/step - loss: 0.9326 - acc: 0.6016\n",
            "Epoch 10/20\n",
            "123/123 [==============================] - 0s 161us/step - loss: 0.9265 - acc: 0.5854\n",
            "Epoch 11/20\n",
            "123/123 [==============================] - 0s 153us/step - loss: 0.9163 - acc: 0.6016\n",
            "Epoch 12/20\n",
            "123/123 [==============================] - 0s 185us/step - loss: 0.9063 - acc: 0.6098\n",
            "Epoch 13/20\n",
            "123/123 [==============================] - 0s 172us/step - loss: 0.9034 - acc: 0.5935\n",
            "Epoch 14/20\n",
            "123/123 [==============================] - 0s 164us/step - loss: 0.8955 - acc: 0.5854\n",
            "Epoch 15/20\n",
            "123/123 [==============================] - 0s 148us/step - loss: 0.8933 - acc: 0.6016\n",
            "Epoch 16/20\n",
            "123/123 [==============================] - 0s 163us/step - loss: 0.8848 - acc: 0.6341\n",
            "Epoch 17/20\n",
            "123/123 [==============================] - 0s 154us/step - loss: 0.8835 - acc: 0.6098\n",
            "Epoch 18/20\n",
            "123/123 [==============================] - 0s 201us/step - loss: 0.8749 - acc: 0.6179\n",
            "Epoch 19/20\n",
            "123/123 [==============================] - 0s 167us/step - loss: 0.8756 - acc: 0.6179\n",
            "Epoch 20/20\n",
            "123/123 [==============================] - 0s 197us/step - loss: 0.8750 - acc: 0.6016\n",
            "42/42 [==============================] - 0s 3ms/step\n"
          ],
          "name": "stdout"
        }
      ]
    },
    {
      "cell_type": "code",
      "metadata": {
        "id": "J-tXqN8teV_6",
        "colab_type": "code",
        "outputId": "e27b3bf6-84c2-4dda-be41-1d45d3aec3cf",
        "colab": {
          "base_uri": "https://localhost:8080/",
          "height": 35
        }
      },
      "source": [
        "model.metrics_names"
      ],
      "execution_count": 56,
      "outputs": [
        {
          "output_type": "execute_result",
          "data": {
            "text/plain": [
              "['loss', 'acc']"
            ]
          },
          "metadata": {
            "tags": []
          },
          "execution_count": 56
        }
      ]
    },
    {
      "cell_type": "code",
      "metadata": {
        "id": "uLqboU_IeYu-",
        "colab_type": "code",
        "outputId": "283bd101-38b4-4b7d-8994-3c4c1a11ab80",
        "colab": {
          "base_uri": "https://localhost:8080/",
          "height": 35
        }
      },
      "source": [
        "test_acc\n"
      ],
      "execution_count": 57,
      "outputs": [
        {
          "output_type": "execute_result",
          "data": {
            "text/plain": [
              "0.33333333475249155"
            ]
          },
          "metadata": {
            "tags": []
          },
          "execution_count": 57
        }
      ]
    },
    {
      "cell_type": "markdown",
      "metadata": {
        "id": "UOK9WqumiKV2",
        "colab_type": "text"
      },
      "source": [
        "#Prova con LDA"
      ]
    },
    {
      "cell_type": "markdown",
      "metadata": {
        "id": "5kvXfgKi2uWa",
        "colab_type": "text"
      },
      "source": [
        "##LDA"
      ]
    },
    {
      "cell_type": "code",
      "metadata": {
        "id": "hYTGbSu22w34",
        "colab_type": "code",
        "colab": {}
      },
      "source": [
        "from sklearn.discriminant_analysis import LinearDiscriminantAnalysis"
      ],
      "execution_count": 0,
      "outputs": []
    },
    {
      "cell_type": "code",
      "metadata": {
        "id": "TMCI-ALj23N1",
        "colab_type": "code",
        "colab": {}
      },
      "source": [
        "lda = LinearDiscriminantAnalysis()"
      ],
      "execution_count": 0,
      "outputs": []
    },
    {
      "cell_type": "code",
      "metadata": {
        "id": "EqcJWjWj3rvS",
        "colab_type": "code",
        "colab": {}
      },
      "source": [
        "train_data_stand_lda = lda.fit(train_data_stand, train_labels_dec).transform(train_data_stand)"
      ],
      "execution_count": 0,
      "outputs": []
    },
    {
      "cell_type": "code",
      "metadata": {
        "id": "3opFZvVx45TC",
        "colab_type": "code",
        "outputId": "28b8fe48-0da1-4f3a-dc04-ba5d4fd7b917",
        "colab": {
          "base_uri": "https://localhost:8080/",
          "height": 35
        }
      },
      "source": [
        "train_data_stand_lda.shape"
      ],
      "execution_count": 127,
      "outputs": [
        {
          "output_type": "execute_result",
          "data": {
            "text/plain": [
              "(123, 2)"
            ]
          },
          "metadata": {
            "tags": []
          },
          "execution_count": 127
        }
      ]
    },
    {
      "cell_type": "code",
      "metadata": {
        "id": "cjpMHM6iqbbC",
        "colab_type": "code",
        "colab": {}
      },
      "source": [
        "test_data_stand_lda = lda.transform(test_data_stand)"
      ],
      "execution_count": 0,
      "outputs": []
    },
    {
      "cell_type": "markdown",
      "metadata": {
        "colab_type": "text",
        "id": "5r_lV6xwmmPi"
      },
      "source": [
        "##Building Network"
      ]
    },
    {
      "cell_type": "code",
      "metadata": {
        "colab_type": "code",
        "id": "vOCMUAeUmmP0",
        "colab": {}
      },
      "source": [
        "from keras import layers\n",
        "from keras.preprocessing import sequence"
      ],
      "execution_count": 0,
      "outputs": []
    },
    {
      "cell_type": "code",
      "metadata": {
        "colab_type": "code",
        "id": "OjW-IrxommQE",
        "colab": {}
      },
      "source": [
        "from keras import layers"
      ],
      "execution_count": 0,
      "outputs": []
    },
    {
      "cell_type": "code",
      "metadata": {
        "colab_type": "code",
        "id": "o-AuSahCmmQO",
        "colab": {}
      },
      "source": [
        "from keras import regularizers"
      ],
      "execution_count": 0,
      "outputs": []
    },
    {
      "cell_type": "code",
      "metadata": {
        "colab_type": "code",
        "id": "CUw7ZwNwmmQV",
        "colab": {}
      },
      "source": [
        "from keras.optimizers import SGD"
      ],
      "execution_count": 0,
      "outputs": []
    },
    {
      "cell_type": "code",
      "metadata": {
        "colab_type": "code",
        "id": "PfAdcrAmmmQc",
        "colab": {}
      },
      "source": [
        "def build_model():\n",
        "  model = keras.models.Sequential()\n",
        "  model.add(layers.Dense(5, activation='relu', input_shape=(2,)))\n",
        "  #model.add(layers.Dense(7, activation='relu'))\n",
        "  #model.add(layers.Dropout(rate=0.2))\n",
        "\n",
        "  model.add(layers.Dense(3, activation='softmax'))\n",
        "\n",
        "  sgd = SGD(lr=0.001, momentum=0.5)\n",
        "  \n",
        "  model.compile(optimizer=sgd, loss='categorical_crossentropy', metrics=['accuracy'])\n",
        "  return model"
      ],
      "execution_count": 0,
      "outputs": []
    },
    {
      "cell_type": "code",
      "metadata": {
        "colab_type": "code",
        "id": "dvJzYLTzmiQa",
        "colab": {}
      },
      "source": [
        ""
      ],
      "execution_count": 0,
      "outputs": []
    },
    {
      "cell_type": "markdown",
      "metadata": {
        "colab_type": "text",
        "id": "m_uMkq9TkKEc"
      },
      "source": [
        "##Stratified k-fold"
      ]
    },
    {
      "cell_type": "markdown",
      "metadata": {
        "colab_type": "text",
        "id": "nbGEaTxNkKEo"
      },
      "source": [
        "This cross-validation object is a variation of KFold that returns stratified folds. The folds are made by preserving the percentage of samples for each class."
      ]
    },
    {
      "cell_type": "code",
      "metadata": {
        "colab_type": "code",
        "id": "UZZWkHQXkKEw",
        "colab": {}
      },
      "source": [
        "from sklearn.model_selection import StratifiedKFold"
      ],
      "execution_count": 0,
      "outputs": []
    },
    {
      "cell_type": "code",
      "metadata": {
        "colab_type": "code",
        "outputId": "77799e9f-c1ad-4dfa-ac8e-8894634aae96",
        "id": "79E9JOcukKE9",
        "colab": {
          "base_uri": "https://localhost:8080/",
          "height": 35
        }
      },
      "source": [
        "skf = StratifiedKFold(n_splits=10, shuffle=True, random_state=1)\n",
        "skf.get_n_splits(train_data_stand_lda, train_labels_dec)"
      ],
      "execution_count": 131,
      "outputs": [
        {
          "output_type": "execute_result",
          "data": {
            "text/plain": [
              "10"
            ]
          },
          "metadata": {
            "tags": []
          },
          "execution_count": 131
        }
      ]
    },
    {
      "cell_type": "code",
      "metadata": {
        "colab_type": "code",
        "outputId": "4972bfff-db70-4724-fabb-f0d71322d7a6",
        "id": "RwE734fFkKFF",
        "colab": {
          "base_uri": "https://localhost:8080/",
          "height": 1000
        }
      },
      "source": [
        "for train_index, test_index in skf.split(train_data_stand_lda, train_labels_dec):\n",
        "    print(\"TRAIN:\", train_index, \"TEST:\", test_index)"
      ],
      "execution_count": 132,
      "outputs": [
        {
          "output_type": "stream",
          "text": [
            "TRAIN: [  0   1   2   3   4   5   6   7   8   9  10  11  12  13  14  15  16  17\n",
            "  18  20  21  22  23  24  25  26  27  28  29  30  31  32  33  34  36  38\n",
            "  39  40  42  43  44  45  46  47  48  49  50  51  52  53  54  55  57  58\n",
            "  59  61  62  63  64  65  66  67  69  70  71  72  73  74  76  79  80  81\n",
            "  82  83  84  85  86  87  88  89  90  91  92  93  95  96  97  98  99 100\n",
            " 101 102 103 104 105 106 107 108 109 111 112 113 114 115 116 117 118 120\n",
            " 121 122] TEST: [ 19  35  37  41  56  60  68  75  77  78  94 110 119]\n",
            "TRAIN: [  0   1   2   3   4   5   6   7   8   9  10  12  14  15  16  17  18  19\n",
            "  20  21  22  23  24  25  26  27  28  29  30  31  32  34  35  36  37  38\n",
            "  39  41  43  44  45  46  47  48  49  50  52  53  54  55  56  57  58  59\n",
            "  60  61  62  63  64  65  66  67  68  69  71  72  73  74  75  76  77  78\n",
            "  79  80  81  85  86  87  88  89  90  91  92  93  94  95  96  97  98  99\n",
            " 100 101 102 103 104 106 107 108 109 110 111 112 113 114 115 116 117 118\n",
            " 119 120] TEST: [ 11  13  33  40  42  51  70  82  83  84 105 121 122]\n",
            "TRAIN: [  0   1   2   3   4   5   6   7   8  10  11  12  13  14  15  16  17  18\n",
            "  19  20  21  22  23  24  25  26  27  28  29  30  31  32  33  34  35  37\n",
            "  39  40  41  42  43  45  46  47  48  50  51  52  54  55  56  57  58  59\n",
            "  60  61  62  64  65  67  68  69  70  71  72  73  75  76  77  78  79  80\n",
            "  81  82  83  84  85  87  88  89  90  91  92  93  94  95  96  97  99 100\n",
            " 101 102 103 104 105 106 107 109 110 112 113 114 115 116 117 118 119 120\n",
            " 121 122] TEST: [  9  36  38  44  49  53  63  66  74  86  98 108 111]\n",
            "TRAIN: [  0   2   3   4   5   6   8   9  10  11  12  13  14  15  16  17  18  19\n",
            "  20  22  24  25  26  27  28  29  30  31  32  33  34  35  36  37  38  40\n",
            "  41  42  43  44  45  46  47  48  49  50  51  52  53  54  56  57  58  59\n",
            "  60  61  62  63  66  67  68  69  70  72  73  74  75  76  77  78  79  80\n",
            "  81  82  83  84  85  86  87  88  89  91  92  93  94  95  96  97  98  99\n",
            " 100 101 102 103 105 106 107 108 109 110 111 112 113 114 115 116 117 118\n",
            " 119 121 122] TEST: [  1   7  21  23  39  55  64  65  71  90 104 120]\n",
            "TRAIN: [  0   1   2   4   6   7   8   9  11  12  13  14  15  17  18  19  20  21\n",
            "  22  23  24  25  26  27  28  29  30  31  32  33  34  35  36  37  38  39\n",
            "  40  41  42  43  44  45  48  49  50  51  52  53  54  55  56  57  58  60\n",
            "  61  62  63  64  65  66  67  68  70  71  72  73  74  75  76  77  78  79\n",
            "  80  81  82  83  84  85  86  87  89  90  91  92  93  94  95  96  97  98\n",
            "  99 101 102 103 104 105 106 108 109 110 111 112 113 115 116 117 118 119\n",
            " 120 121 122] TEST: [  3   5  10  16  46  47  59  69  88 100 107 114]\n",
            "TRAIN: [  1   2   3   4   5   6   7   8   9  10  11  12  13  14  15  16  19  20\n",
            "  21  22  23  24  25  26  27  28  30  31  32  33  35  36  37  38  39  40\n",
            "  41  42  43  44  45  46  47  48  49  50  51  52  53  54  55  56  57  58\n",
            "  59  60  61  63  64  65  66  67  68  69  70  71  72  73  74  75  76  77\n",
            "  78  79  80  81  82  83  84  86  87  88  89  90  91  92  94  96  97  98\n",
            "  99 100 101 102 103 104 105 106 107 108 109 110 111 112 114 115 118 119\n",
            " 120 121 122] TEST: [  0  17  18  29  34  62  85  93  95 113 116 117]\n",
            "TRAIN: [  0   1   2   3   4   5   7   8   9  10  11  12  13  14  15  16  17  18\n",
            "  19  20  21  22  23  24  26  28  29  30  33  34  35  36  37  38  39  40\n",
            "  41  42  43  44  45  46  47  49  50  51  52  53  55  56  57  58  59  60\n",
            "  61  62  63  64  65  66  67  68  69  70  71  72  73  74  75  76  77  78\n",
            "  79  81  82  83  84  85  86  87  88  90  92  93  94  95  96  97  98  99\n",
            " 100 101 103 104 105 106 107 108 109 110 111 113 114 115 116 117 118 119\n",
            " 120 121 122] TEST: [  6  25  27  31  32  48  54  80  89  91 102 112]\n",
            "TRAIN: [  0   1   3   4   5   6   7   8   9  10  11  12  13  14  16  17  18  19\n",
            "  21  22  23  25  26  27  28  29  31  32  33  34  35  36  37  38  39  40\n",
            "  41  42  44  45  46  47  48  49  50  51  52  53  54  55  56  58  59  60\n",
            "  61  62  63  64  65  66  68  69  70  71  72  73  74  75  77  78  79  80\n",
            "  81  82  83  84  85  86  87  88  89  90  91  92  93  94  95  96  97  98\n",
            "  99 100 102 103 104 105 106 107 108 110 111 112 113 114 116 117 118 119\n",
            " 120 121 122] TEST: [  2  15  20  24  30  43  57  67  76 101 109 115]\n",
            "TRAIN: [  0   1   2   3   5   6   7   9  10  11  12  13  15  16  17  18  19  20\n",
            "  21  22  23  24  25  26  27  29  30  31  32  33  34  35  36  37  38  39\n",
            "  40  41  42  43  44  45  46  47  48  49  51  52  53  54  55  56  57  58\n",
            "  59  60  62  63  64  65  66  67  68  69  70  71  73  74  75  76  77  78\n",
            "  80  82  83  84  85  86  87  88  89  90  91  93  94  95  96  97  98  99\n",
            " 100 101 102 103 104 105 107 108 109 110 111 112 113 114 115 116 117 119\n",
            " 120 121 122] TEST: [  4   8  14  28  50  61  72  79  81  92 106 118]\n",
            "TRAIN: [  0   1   2   3   4   5   6   7   8   9  10  11  13  14  15  16  17  18\n",
            "  19  20  21  23  24  25  27  28  29  30  31  32  33  34  35  36  37  38\n",
            "  39  40  41  42  43  44  46  47  48  49  50  51  53  54  55  56  57  59\n",
            "  60  61  62  63  64  65  66  67  68  69  70  71  72  74  75  76  77  78\n",
            "  79  80  81  82  83  84  85  86  88  89  90  91  92  93  94  95  98 100\n",
            " 101 102 104 105 106 107 108 109 110 111 112 113 114 115 116 117 118 119\n",
            " 120 121 122] TEST: [ 12  22  26  45  52  58  73  87  96  97  99 103]\n"
          ],
          "name": "stdout"
        }
      ]
    },
    {
      "cell_type": "code",
      "metadata": {
        "colab_type": "code",
        "id": "DjbzRWoekKFN",
        "colab": {}
      },
      "source": [
        "#train_labels_dec[125]"
      ],
      "execution_count": 0,
      "outputs": []
    },
    {
      "cell_type": "code",
      "metadata": {
        "colab_type": "code",
        "id": "TeM5283okKFT",
        "colab": {}
      },
      "source": [
        "from keras.utils import to_categorical\n"
      ],
      "execution_count": 0,
      "outputs": []
    },
    {
      "cell_type": "code",
      "metadata": {
        "colab_type": "code",
        "id": "EqbBo3ogkKFY",
        "colab": {}
      },
      "source": [
        "#for train_index, val_index in skf.split(train_data_stand_pca, train_labels_dec):\n",
        " \n",
        "#  partial_train_data = np.array([train_data_stand_pca[i] for i in train_index])\n",
        "#  partial_train_targets = np.array([train_labels_dec[i] for i in train_index])\n",
        "\n",
        "#  val_data = np.array([train_data_stand_pca[i] for i in val_index])\n",
        "#  val_targets = np.array([train_labels_dec[i] for i in val_index])\n",
        "\n",
        "#  one_hot_partial_train_targets = to_categorical(partial_train_targets)\n",
        "#  one_hot_val_targets = to_categorical(val_targets)\n",
        "\n",
        "#  model = build_model()\n",
        "#  model.fit(partial_train_data, one_hot_partial_train_targets, epochs = num_epochs, batch_size=1)\n",
        "\n",
        "#  val_loss, val_accuracy = model.evaluate(val_data, one_hot_val_targets)\n",
        "#  all_scores.append(val_accuracy)\n",
        "#I parametri per la valutazione vengono calcolati una volta per ogni k-fold, per ogni set di validazione, quindi k volte"
      ],
      "execution_count": 0,
      "outputs": []
    },
    {
      "cell_type": "markdown",
      "metadata": {
        "colab_type": "text",
        "id": "lCSQeyEDkKFe"
      },
      "source": [
        "C'è un problema: keras.utils.to_categorical produces a one-hot encoded class vector, i.e. the multilabel-indicator mentioned in the error message. StratifiedKFold is not designed to work with such input; i.e. your y must be a 1-D array of your class labels.\n",
        "Essentially, what you have to do is simply to invert the order of the operations: split first (using your intial y_train), and convert to_categorical afterwards."
      ]
    },
    {
      "cell_type": "code",
      "metadata": {
        "colab_type": "code",
        "id": "2Vx0gV_BkKFg",
        "colab": {}
      },
      "source": [
        "import keras"
      ],
      "execution_count": 0,
      "outputs": []
    },
    {
      "cell_type": "code",
      "metadata": {
        "colab_type": "code",
        "outputId": "a87a8be2-1209-480e-d927-5cffe1a77bad",
        "id": "I8eztKAtkKFk",
        "colab": {
          "base_uri": "https://localhost:8080/",
          "height": 1000
        }
      },
      "source": [
        "num_epochs = 30\n",
        "all_acc_histories_lda = []\n",
        "all_loss_histories_lda = []\n",
        "all_val_acc_histories_lda = []\n",
        "all_val_loss_histories_lda = []\n",
        "\n",
        "for train_index, val_index in skf.split(train_data_stand_lda, train_labels_dec):\n",
        " \n",
        "  partial_train_data = np.array([train_data_stand_lda[i] for i in train_index])\n",
        "  partial_train_targets = np.array([train_labels_dec[i] for i in train_index])\n",
        "  \n",
        "  val_data = np.array([train_data_stand_lda[i] for i in val_index])\n",
        "  val_targets = np.array([train_labels_dec[i] for i in val_index])\n",
        "\n",
        "  one_hot_partial_train_targets = to_categorical(partial_train_targets)\n",
        "  one_hot_val_targets = to_categorical(val_targets)\n",
        "\n",
        " \n",
        "  model = build_model()\n",
        "  history = model.fit(partial_train_data, one_hot_partial_train_targets, validation_data=(val_data, one_hot_val_targets), \n",
        "                      epochs=num_epochs, batch_size=8)\n",
        "  \n",
        "  acc_history = history.history['acc']\n",
        "  all_acc_histories_lda.append(acc_history)\n",
        "\n",
        "  loss_history = history.history['loss']\n",
        "  all_loss_histories_lda.append(loss_history)\n",
        "\n",
        "  acc_val_history = history.history['val_acc']\n",
        "  all_val_acc_histories_lda.append(acc_val_history)\n",
        "\n",
        "  loss_val_history = history.history['val_loss']\n",
        "  all_val_loss_histories_lda.append(loss_val_history)\n",
        "  \n",
        "\n",
        "#I parametri per la valutazione vengono calcolati per ogni epoca, quindi num_epochs volte. \n",
        "#Il tutto viene ripetuto un numero di volte pari a n_splits.\n",
        "#Si ottiene una lista con n_splits elementi ciascuno dei quali è una lista lunga num_epochs,\n",
        "#ogni elemento può essere uno fra questi: dict_keys(['val_loss', 'val_acc', 'loss', 'acc']) "
      ],
      "execution_count": 139,
      "outputs": [
        {
          "output_type": "stream",
          "text": [
            "Train on 110 samples, validate on 13 samples\n",
            "Epoch 1/30\n",
            "110/110 [==============================] - 3s 27ms/step - loss: 1.3050 - acc: 0.2727 - val_loss: 1.0822 - val_acc: 0.3846\n",
            "Epoch 2/30\n",
            "110/110 [==============================] - 0s 253us/step - loss: 1.0760 - acc: 0.2273 - val_loss: 0.9121 - val_acc: 0.5385\n",
            "Epoch 3/30\n",
            "110/110 [==============================] - 0s 217us/step - loss: 0.9287 - acc: 0.5364 - val_loss: 0.8013 - val_acc: 0.6923\n",
            "Epoch 4/30\n",
            "110/110 [==============================] - 0s 210us/step - loss: 0.8271 - acc: 0.6818 - val_loss: 0.7257 - val_acc: 0.6923\n",
            "Epoch 5/30\n",
            "110/110 [==============================] - 0s 204us/step - loss: 0.7565 - acc: 0.7636 - val_loss: 0.6685 - val_acc: 0.7692\n",
            "Epoch 6/30\n",
            "110/110 [==============================] - 0s 219us/step - loss: 0.7041 - acc: 0.7909 - val_loss: 0.6274 - val_acc: 0.7692\n",
            "Epoch 7/30\n",
            "110/110 [==============================] - 0s 261us/step - loss: 0.6651 - acc: 0.8091 - val_loss: 0.5938 - val_acc: 0.8462\n",
            "Epoch 8/30\n",
            "110/110 [==============================] - 0s 199us/step - loss: 0.6346 - acc: 0.8273 - val_loss: 0.5675 - val_acc: 0.8462\n",
            "Epoch 9/30\n",
            "110/110 [==============================] - 0s 210us/step - loss: 0.6092 - acc: 0.8273 - val_loss: 0.5458 - val_acc: 0.8462\n",
            "Epoch 10/30\n",
            "110/110 [==============================] - 0s 197us/step - loss: 0.5886 - acc: 0.8455 - val_loss: 0.5271 - val_acc: 0.8462\n",
            "Epoch 11/30\n",
            "110/110 [==============================] - 0s 219us/step - loss: 0.5708 - acc: 0.8545 - val_loss: 0.5121 - val_acc: 0.8462\n",
            "Epoch 12/30\n",
            "110/110 [==============================] - 0s 209us/step - loss: 0.5558 - acc: 0.8727 - val_loss: 0.4987 - val_acc: 0.8462\n",
            "Epoch 13/30\n",
            "110/110 [==============================] - 0s 199us/step - loss: 0.5427 - acc: 0.8818 - val_loss: 0.4872 - val_acc: 0.8462\n",
            "Epoch 14/30\n",
            "110/110 [==============================] - 0s 218us/step - loss: 0.5310 - acc: 0.8909 - val_loss: 0.4766 - val_acc: 0.8462\n",
            "Epoch 15/30\n",
            "110/110 [==============================] - 0s 225us/step - loss: 0.5207 - acc: 0.8909 - val_loss: 0.4672 - val_acc: 0.9231\n",
            "Epoch 16/30\n",
            "110/110 [==============================] - 0s 247us/step - loss: 0.5114 - acc: 0.9000 - val_loss: 0.4590 - val_acc: 0.9231\n",
            "Epoch 17/30\n",
            "110/110 [==============================] - 0s 226us/step - loss: 0.5030 - acc: 0.9091 - val_loss: 0.4512 - val_acc: 0.9231\n",
            "Epoch 18/30\n",
            "110/110 [==============================] - 0s 230us/step - loss: 0.4952 - acc: 0.9182 - val_loss: 0.4442 - val_acc: 0.9231\n",
            "Epoch 19/30\n",
            "110/110 [==============================] - 0s 220us/step - loss: 0.4879 - acc: 0.9182 - val_loss: 0.4373 - val_acc: 0.9231\n",
            "Epoch 20/30\n",
            "110/110 [==============================] - 0s 218us/step - loss: 0.4811 - acc: 0.9182 - val_loss: 0.4310 - val_acc: 0.9231\n",
            "Epoch 21/30\n",
            "110/110 [==============================] - 0s 245us/step - loss: 0.4748 - acc: 0.9273 - val_loss: 0.4256 - val_acc: 0.9231\n",
            "Epoch 22/30\n",
            "110/110 [==============================] - 0s 265us/step - loss: 0.4690 - acc: 0.9273 - val_loss: 0.4204 - val_acc: 0.9231\n",
            "Epoch 23/30\n",
            "110/110 [==============================] - 0s 220us/step - loss: 0.4633 - acc: 0.9364 - val_loss: 0.4156 - val_acc: 0.9231\n",
            "Epoch 24/30\n",
            "110/110 [==============================] - 0s 224us/step - loss: 0.4579 - acc: 0.9364 - val_loss: 0.4106 - val_acc: 0.9231\n",
            "Epoch 25/30\n",
            "110/110 [==============================] - 0s 206us/step - loss: 0.4528 - acc: 0.9364 - val_loss: 0.4061 - val_acc: 1.0000\n",
            "Epoch 26/30\n",
            "110/110 [==============================] - 0s 217us/step - loss: 0.4479 - acc: 0.9455 - val_loss: 0.4017 - val_acc: 1.0000\n",
            "Epoch 27/30\n",
            "110/110 [==============================] - 0s 214us/step - loss: 0.4433 - acc: 0.9455 - val_loss: 0.3975 - val_acc: 1.0000\n",
            "Epoch 28/30\n",
            "110/110 [==============================] - 0s 196us/step - loss: 0.4387 - acc: 0.9455 - val_loss: 0.3936 - val_acc: 1.0000\n",
            "Epoch 29/30\n",
            "110/110 [==============================] - 0s 223us/step - loss: 0.4344 - acc: 0.9455 - val_loss: 0.3898 - val_acc: 1.0000\n",
            "Epoch 30/30\n",
            "110/110 [==============================] - 0s 245us/step - loss: 0.4303 - acc: 0.9455 - val_loss: 0.3862 - val_acc: 1.0000\n",
            "Train on 110 samples, validate on 13 samples\n",
            "Epoch 1/30\n",
            "110/110 [==============================] - 3s 26ms/step - loss: 1.5792 - acc: 0.0909 - val_loss: 1.5816 - val_acc: 0.2308\n",
            "Epoch 2/30\n",
            "110/110 [==============================] - 0s 268us/step - loss: 1.3827 - acc: 0.2091 - val_loss: 1.4021 - val_acc: 0.2308\n",
            "Epoch 3/30\n",
            "110/110 [==============================] - 0s 248us/step - loss: 1.2204 - acc: 0.3364 - val_loss: 1.2470 - val_acc: 0.2308\n",
            "Epoch 4/30\n",
            "110/110 [==============================] - 0s 247us/step - loss: 1.0881 - acc: 0.4727 - val_loss: 1.1226 - val_acc: 0.3077\n",
            "Epoch 5/30\n",
            "110/110 [==============================] - 0s 239us/step - loss: 0.9816 - acc: 0.5455 - val_loss: 1.0176 - val_acc: 0.4615\n",
            "Epoch 6/30\n",
            "110/110 [==============================] - 0s 227us/step - loss: 0.8930 - acc: 0.5727 - val_loss: 0.9313 - val_acc: 0.4615\n",
            "Epoch 7/30\n",
            "110/110 [==============================] - 0s 216us/step - loss: 0.8213 - acc: 0.5909 - val_loss: 0.8608 - val_acc: 0.4615\n",
            "Epoch 8/30\n",
            "110/110 [==============================] - 0s 197us/step - loss: 0.7615 - acc: 0.5909 - val_loss: 0.7993 - val_acc: 0.5385\n",
            "Epoch 9/30\n",
            "110/110 [==============================] - 0s 222us/step - loss: 0.7116 - acc: 0.5909 - val_loss: 0.7483 - val_acc: 0.6154\n",
            "Epoch 10/30\n",
            "110/110 [==============================] - 0s 259us/step - loss: 0.6689 - acc: 0.5909 - val_loss: 0.7045 - val_acc: 0.6154\n",
            "Epoch 11/30\n",
            "110/110 [==============================] - 0s 209us/step - loss: 0.6319 - acc: 0.6000 - val_loss: 0.6656 - val_acc: 0.6154\n",
            "Epoch 12/30\n",
            "110/110 [==============================] - 0s 245us/step - loss: 0.5995 - acc: 0.6000 - val_loss: 0.6323 - val_acc: 0.6154\n",
            "Epoch 13/30\n",
            "110/110 [==============================] - 0s 191us/step - loss: 0.5715 - acc: 0.6000 - val_loss: 0.6027 - val_acc: 0.6154\n",
            "Epoch 14/30\n",
            "110/110 [==============================] - 0s 230us/step - loss: 0.5467 - acc: 0.6000 - val_loss: 0.5766 - val_acc: 0.6154\n",
            "Epoch 15/30\n",
            "110/110 [==============================] - 0s 214us/step - loss: 0.5248 - acc: 0.6000 - val_loss: 0.5532 - val_acc: 0.6154\n",
            "Epoch 16/30\n",
            "110/110 [==============================] - 0s 234us/step - loss: 0.5046 - acc: 0.6182 - val_loss: 0.5313 - val_acc: 0.6923\n",
            "Epoch 17/30\n",
            "110/110 [==============================] - 0s 243us/step - loss: 0.4862 - acc: 0.6545 - val_loss: 0.5117 - val_acc: 0.6923\n",
            "Epoch 18/30\n",
            "110/110 [==============================] - 0s 208us/step - loss: 0.4690 - acc: 0.6909 - val_loss: 0.4936 - val_acc: 0.6923\n",
            "Epoch 19/30\n",
            "110/110 [==============================] - 0s 216us/step - loss: 0.4530 - acc: 0.7909 - val_loss: 0.4764 - val_acc: 0.8462\n",
            "Epoch 20/30\n",
            "110/110 [==============================] - 0s 210us/step - loss: 0.4379 - acc: 0.9091 - val_loss: 0.4600 - val_acc: 0.9231\n",
            "Epoch 21/30\n",
            "110/110 [==============================] - 0s 211us/step - loss: 0.4237 - acc: 0.9818 - val_loss: 0.4449 - val_acc: 1.0000\n",
            "Epoch 22/30\n",
            "110/110 [==============================] - 0s 211us/step - loss: 0.4099 - acc: 1.0000 - val_loss: 0.4300 - val_acc: 1.0000\n",
            "Epoch 23/30\n",
            "110/110 [==============================] - 0s 255us/step - loss: 0.3967 - acc: 1.0000 - val_loss: 0.4161 - val_acc: 1.0000\n",
            "Epoch 24/30\n",
            "110/110 [==============================] - 0s 218us/step - loss: 0.3840 - acc: 1.0000 - val_loss: 0.4029 - val_acc: 1.0000\n",
            "Epoch 25/30\n",
            "110/110 [==============================] - 0s 261us/step - loss: 0.3719 - acc: 1.0000 - val_loss: 0.3901 - val_acc: 1.0000\n",
            "Epoch 26/30\n",
            "110/110 [==============================] - 0s 241us/step - loss: 0.3601 - acc: 1.0000 - val_loss: 0.3775 - val_acc: 1.0000\n",
            "Epoch 27/30\n",
            "110/110 [==============================] - 0s 250us/step - loss: 0.3487 - acc: 1.0000 - val_loss: 0.3656 - val_acc: 1.0000\n",
            "Epoch 28/30\n",
            "110/110 [==============================] - 0s 245us/step - loss: 0.3377 - acc: 1.0000 - val_loss: 0.3541 - val_acc: 1.0000\n",
            "Epoch 29/30\n",
            "110/110 [==============================] - 0s 224us/step - loss: 0.3270 - acc: 1.0000 - val_loss: 0.3428 - val_acc: 1.0000\n",
            "Epoch 30/30\n",
            "110/110 [==============================] - 0s 240us/step - loss: 0.3167 - acc: 1.0000 - val_loss: 0.3322 - val_acc: 1.0000\n",
            "Train on 110 samples, validate on 13 samples\n",
            "Epoch 1/30\n",
            "110/110 [==============================] - 3s 26ms/step - loss: 1.6798 - acc: 0.6091 - val_loss: 1.9072 - val_acc: 0.6154\n",
            "Epoch 2/30\n",
            "110/110 [==============================] - 0s 253us/step - loss: 1.5542 - acc: 0.6091 - val_loss: 1.7628 - val_acc: 0.6154\n",
            "Epoch 3/30\n",
            "110/110 [==============================] - 0s 222us/step - loss: 1.4367 - acc: 0.6091 - val_loss: 1.6322 - val_acc: 0.6154\n",
            "Epoch 4/30\n",
            "110/110 [==============================] - 0s 224us/step - loss: 1.3295 - acc: 0.6091 - val_loss: 1.5102 - val_acc: 0.6154\n",
            "Epoch 5/30\n",
            "110/110 [==============================] - 0s 225us/step - loss: 1.2307 - acc: 0.6091 - val_loss: 1.3981 - val_acc: 0.6154\n",
            "Epoch 6/30\n",
            "110/110 [==============================] - 0s 219us/step - loss: 1.1405 - acc: 0.6091 - val_loss: 1.2908 - val_acc: 0.6154\n",
            "Epoch 7/30\n",
            "110/110 [==============================] - 0s 217us/step - loss: 1.0559 - acc: 0.6091 - val_loss: 1.1922 - val_acc: 0.6154\n",
            "Epoch 8/30\n",
            "110/110 [==============================] - 0s 231us/step - loss: 0.9787 - acc: 0.6091 - val_loss: 1.1032 - val_acc: 0.6154\n",
            "Epoch 9/30\n",
            "110/110 [==============================] - 0s 227us/step - loss: 0.9080 - acc: 0.6182 - val_loss: 1.0199 - val_acc: 0.6154\n",
            "Epoch 10/30\n",
            "110/110 [==============================] - 0s 238us/step - loss: 0.8432 - acc: 0.6364 - val_loss: 0.9411 - val_acc: 0.6154\n",
            "Epoch 11/30\n",
            "110/110 [==============================] - 0s 220us/step - loss: 0.7826 - acc: 0.6545 - val_loss: 0.8689 - val_acc: 0.6154\n",
            "Epoch 12/30\n",
            "110/110 [==============================] - 0s 238us/step - loss: 0.7269 - acc: 0.6636 - val_loss: 0.8043 - val_acc: 0.6154\n",
            "Epoch 13/30\n",
            "110/110 [==============================] - 0s 254us/step - loss: 0.6760 - acc: 0.6636 - val_loss: 0.7426 - val_acc: 0.6154\n",
            "Epoch 14/30\n",
            "110/110 [==============================] - 0s 232us/step - loss: 0.6288 - acc: 0.7091 - val_loss: 0.6855 - val_acc: 0.6154\n",
            "Epoch 15/30\n",
            "110/110 [==============================] - 0s 235us/step - loss: 0.5857 - acc: 0.7273 - val_loss: 0.6330 - val_acc: 0.6923\n",
            "Epoch 16/30\n",
            "110/110 [==============================] - 0s 250us/step - loss: 0.5465 - acc: 0.7545 - val_loss: 0.5863 - val_acc: 0.6923\n",
            "Epoch 17/30\n",
            "110/110 [==============================] - 0s 312us/step - loss: 0.5107 - acc: 0.7818 - val_loss: 0.5426 - val_acc: 0.6923\n",
            "Epoch 18/30\n",
            "110/110 [==============================] - 0s 208us/step - loss: 0.4777 - acc: 0.8091 - val_loss: 0.5025 - val_acc: 0.7692\n",
            "Epoch 19/30\n",
            "110/110 [==============================] - 0s 225us/step - loss: 0.4476 - acc: 0.8727 - val_loss: 0.4653 - val_acc: 0.8462\n",
            "Epoch 20/30\n",
            "110/110 [==============================] - 0s 223us/step - loss: 0.4200 - acc: 0.9000 - val_loss: 0.4317 - val_acc: 0.9231\n",
            "Epoch 21/30\n",
            "110/110 [==============================] - 0s 260us/step - loss: 0.3950 - acc: 0.9182 - val_loss: 0.4012 - val_acc: 0.9231\n",
            "Epoch 22/30\n",
            "110/110 [==============================] - 0s 208us/step - loss: 0.3722 - acc: 0.9364 - val_loss: 0.3748 - val_acc: 0.9231\n",
            "Epoch 23/30\n",
            "110/110 [==============================] - 0s 210us/step - loss: 0.3511 - acc: 0.9455 - val_loss: 0.3488 - val_acc: 0.9231\n",
            "Epoch 24/30\n",
            "110/110 [==============================] - 0s 209us/step - loss: 0.3323 - acc: 0.9455 - val_loss: 0.3256 - val_acc: 0.9231\n",
            "Epoch 25/30\n",
            "110/110 [==============================] - 0s 207us/step - loss: 0.3147 - acc: 0.9545 - val_loss: 0.3052 - val_acc: 0.9231\n",
            "Epoch 26/30\n",
            "110/110 [==============================] - 0s 235us/step - loss: 0.2988 - acc: 0.9545 - val_loss: 0.2860 - val_acc: 0.9231\n",
            "Epoch 27/30\n",
            "110/110 [==============================] - 0s 258us/step - loss: 0.2842 - acc: 0.9545 - val_loss: 0.2691 - val_acc: 0.9231\n",
            "Epoch 28/30\n",
            "110/110 [==============================] - 0s 258us/step - loss: 0.2705 - acc: 0.9636 - val_loss: 0.2533 - val_acc: 1.0000\n",
            "Epoch 29/30\n",
            "110/110 [==============================] - 0s 244us/step - loss: 0.2581 - acc: 0.9727 - val_loss: 0.2389 - val_acc: 1.0000\n",
            "Epoch 30/30\n",
            "110/110 [==============================] - 0s 220us/step - loss: 0.2465 - acc: 0.9727 - val_loss: 0.2257 - val_acc: 1.0000\n",
            "Train on 111 samples, validate on 12 samples\n",
            "Epoch 1/30\n",
            "111/111 [==============================] - 3s 27ms/step - loss: 0.5456 - acc: 0.7117 - val_loss: 0.6788 - val_acc: 0.6667\n",
            "Epoch 2/30\n",
            "111/111 [==============================] - 0s 242us/step - loss: 0.5174 - acc: 0.7297 - val_loss: 0.6659 - val_acc: 0.6667\n",
            "Epoch 3/30\n",
            "111/111 [==============================] - 0s 224us/step - loss: 0.4958 - acc: 0.7568 - val_loss: 0.6543 - val_acc: 0.7500\n",
            "Epoch 4/30\n",
            "111/111 [==============================] - 0s 217us/step - loss: 0.4776 - acc: 0.7838 - val_loss: 0.6438 - val_acc: 0.7500\n",
            "Epoch 5/30\n",
            "111/111 [==============================] - 0s 262us/step - loss: 0.4625 - acc: 0.8288 - val_loss: 0.6342 - val_acc: 0.7500\n",
            "Epoch 6/30\n",
            "111/111 [==============================] - 0s 246us/step - loss: 0.4486 - acc: 0.8468 - val_loss: 0.6253 - val_acc: 0.7500\n",
            "Epoch 7/30\n",
            "111/111 [==============================] - 0s 243us/step - loss: 0.4366 - acc: 0.8559 - val_loss: 0.6168 - val_acc: 0.7500\n",
            "Epoch 8/30\n",
            "111/111 [==============================] - 0s 243us/step - loss: 0.4251 - acc: 0.8829 - val_loss: 0.6091 - val_acc: 0.7500\n",
            "Epoch 9/30\n",
            "111/111 [==============================] - 0s 237us/step - loss: 0.4147 - acc: 0.8829 - val_loss: 0.6018 - val_acc: 0.7500\n",
            "Epoch 10/30\n",
            "111/111 [==============================] - 0s 257us/step - loss: 0.4054 - acc: 0.8919 - val_loss: 0.5950 - val_acc: 0.7500\n",
            "Epoch 11/30\n",
            "111/111 [==============================] - 0s 223us/step - loss: 0.3964 - acc: 0.9009 - val_loss: 0.5886 - val_acc: 0.7500\n",
            "Epoch 12/30\n",
            "111/111 [==============================] - 0s 214us/step - loss: 0.3880 - acc: 0.9009 - val_loss: 0.5826 - val_acc: 0.7500\n",
            "Epoch 13/30\n",
            "111/111 [==============================] - 0s 245us/step - loss: 0.3803 - acc: 0.9099 - val_loss: 0.5765 - val_acc: 0.7500\n",
            "Epoch 14/30\n",
            "111/111 [==============================] - 0s 268us/step - loss: 0.3729 - acc: 0.9099 - val_loss: 0.5710 - val_acc: 0.7500\n",
            "Epoch 15/30\n",
            "111/111 [==============================] - 0s 236us/step - loss: 0.3657 - acc: 0.9099 - val_loss: 0.5657 - val_acc: 0.7500\n",
            "Epoch 16/30\n",
            "111/111 [==============================] - 0s 257us/step - loss: 0.3591 - acc: 0.9189 - val_loss: 0.5606 - val_acc: 0.7500\n",
            "Epoch 17/30\n",
            "111/111 [==============================] - 0s 236us/step - loss: 0.3525 - acc: 0.9189 - val_loss: 0.5552 - val_acc: 0.7500\n",
            "Epoch 18/30\n",
            "111/111 [==============================] - 0s 240us/step - loss: 0.3461 - acc: 0.9189 - val_loss: 0.5506 - val_acc: 0.7500\n",
            "Epoch 19/30\n",
            "111/111 [==============================] - 0s 248us/step - loss: 0.3400 - acc: 0.9279 - val_loss: 0.5458 - val_acc: 0.7500\n",
            "Epoch 20/30\n",
            "111/111 [==============================] - 0s 213us/step - loss: 0.3343 - acc: 0.9279 - val_loss: 0.5413 - val_acc: 0.7500\n",
            "Epoch 21/30\n",
            "111/111 [==============================] - 0s 229us/step - loss: 0.3288 - acc: 0.9369 - val_loss: 0.5369 - val_acc: 0.7500\n",
            "Epoch 22/30\n",
            "111/111 [==============================] - 0s 232us/step - loss: 0.3236 - acc: 0.9459 - val_loss: 0.5326 - val_acc: 0.7500\n",
            "Epoch 23/30\n",
            "111/111 [==============================] - 0s 203us/step - loss: 0.3186 - acc: 0.9459 - val_loss: 0.5285 - val_acc: 0.7500\n",
            "Epoch 24/30\n",
            "111/111 [==============================] - 0s 200us/step - loss: 0.3134 - acc: 0.9550 - val_loss: 0.5244 - val_acc: 0.7500\n",
            "Epoch 25/30\n",
            "111/111 [==============================] - 0s 188us/step - loss: 0.3085 - acc: 0.9550 - val_loss: 0.5205 - val_acc: 0.7500\n",
            "Epoch 26/30\n",
            "111/111 [==============================] - 0s 203us/step - loss: 0.3037 - acc: 0.9550 - val_loss: 0.5163 - val_acc: 0.7500\n",
            "Epoch 27/30\n",
            "111/111 [==============================] - 0s 227us/step - loss: 0.2989 - acc: 0.9550 - val_loss: 0.5125 - val_acc: 0.7500\n",
            "Epoch 28/30\n",
            "111/111 [==============================] - 0s 224us/step - loss: 0.2943 - acc: 0.9550 - val_loss: 0.5080 - val_acc: 0.7500\n",
            "Epoch 29/30\n",
            "111/111 [==============================] - 0s 228us/step - loss: 0.2896 - acc: 0.9550 - val_loss: 0.5043 - val_acc: 0.7500\n",
            "Epoch 30/30\n",
            "111/111 [==============================] - 0s 232us/step - loss: 0.2851 - acc: 0.9550 - val_loss: 0.5003 - val_acc: 0.7500\n",
            "Train on 111 samples, validate on 12 samples\n",
            "Epoch 1/30\n",
            "111/111 [==============================] - 3s 27ms/step - loss: 0.9983 - acc: 0.4505 - val_loss: 0.9800 - val_acc: 0.4167\n",
            "Epoch 2/30\n",
            "111/111 [==============================] - 0s 230us/step - loss: 0.9185 - acc: 0.4955 - val_loss: 0.8898 - val_acc: 0.5000\n",
            "Epoch 3/30\n",
            "111/111 [==============================] - 0s 215us/step - loss: 0.8513 - acc: 0.5315 - val_loss: 0.8177 - val_acc: 0.5000\n",
            "Epoch 4/30\n",
            "111/111 [==============================] - 0s 222us/step - loss: 0.7936 - acc: 0.5856 - val_loss: 0.7567 - val_acc: 0.5000\n",
            "Epoch 5/30\n",
            "111/111 [==============================] - 0s 214us/step - loss: 0.7445 - acc: 0.6216 - val_loss: 0.7032 - val_acc: 0.6667\n",
            "Epoch 6/30\n",
            "111/111 [==============================] - 0s 189us/step - loss: 0.7007 - acc: 0.6757 - val_loss: 0.6546 - val_acc: 0.8333\n",
            "Epoch 7/30\n",
            "111/111 [==============================] - 0s 198us/step - loss: 0.6610 - acc: 0.7658 - val_loss: 0.6117 - val_acc: 0.9167\n",
            "Epoch 8/30\n",
            "111/111 [==============================] - 0s 218us/step - loss: 0.6252 - acc: 0.8378 - val_loss: 0.5724 - val_acc: 0.9167\n",
            "Epoch 9/30\n",
            "111/111 [==============================] - 0s 237us/step - loss: 0.5924 - acc: 0.8739 - val_loss: 0.5369 - val_acc: 0.9167\n",
            "Epoch 10/30\n",
            "111/111 [==============================] - 0s 227us/step - loss: 0.5618 - acc: 0.9369 - val_loss: 0.5056 - val_acc: 0.9167\n",
            "Epoch 11/30\n",
            "111/111 [==============================] - 0s 225us/step - loss: 0.5342 - acc: 0.9459 - val_loss: 0.4770 - val_acc: 1.0000\n",
            "Epoch 12/30\n",
            "111/111 [==============================] - 0s 258us/step - loss: 0.5083 - acc: 0.9550 - val_loss: 0.4507 - val_acc: 1.0000\n",
            "Epoch 13/30\n",
            "111/111 [==============================] - 0s 206us/step - loss: 0.4846 - acc: 0.9550 - val_loss: 0.4264 - val_acc: 1.0000\n",
            "Epoch 14/30\n",
            "111/111 [==============================] - 0s 218us/step - loss: 0.4626 - acc: 0.9640 - val_loss: 0.4035 - val_acc: 1.0000\n",
            "Epoch 15/30\n",
            "111/111 [==============================] - 0s 255us/step - loss: 0.4421 - acc: 0.9640 - val_loss: 0.3828 - val_acc: 1.0000\n",
            "Epoch 16/30\n",
            "111/111 [==============================] - 0s 242us/step - loss: 0.4233 - acc: 0.9730 - val_loss: 0.3637 - val_acc: 1.0000\n",
            "Epoch 17/30\n",
            "111/111 [==============================] - 0s 252us/step - loss: 0.4056 - acc: 0.9730 - val_loss: 0.3457 - val_acc: 1.0000\n",
            "Epoch 18/30\n",
            "111/111 [==============================] - 0s 259us/step - loss: 0.3893 - acc: 0.9730 - val_loss: 0.3289 - val_acc: 1.0000\n",
            "Epoch 19/30\n",
            "111/111 [==============================] - 0s 228us/step - loss: 0.3738 - acc: 0.9730 - val_loss: 0.3132 - val_acc: 1.0000\n",
            "Epoch 20/30\n",
            "111/111 [==============================] - 0s 286us/step - loss: 0.3593 - acc: 0.9730 - val_loss: 0.2986 - val_acc: 1.0000\n",
            "Epoch 21/30\n",
            "111/111 [==============================] - 0s 218us/step - loss: 0.3454 - acc: 0.9820 - val_loss: 0.2847 - val_acc: 1.0000\n",
            "Epoch 22/30\n",
            "111/111 [==============================] - 0s 262us/step - loss: 0.3324 - acc: 0.9820 - val_loss: 0.2717 - val_acc: 1.0000\n",
            "Epoch 23/30\n",
            "111/111 [==============================] - 0s 220us/step - loss: 0.3202 - acc: 0.9820 - val_loss: 0.2596 - val_acc: 1.0000\n",
            "Epoch 24/30\n",
            "111/111 [==============================] - 0s 220us/step - loss: 0.3085 - acc: 0.9820 - val_loss: 0.2481 - val_acc: 1.0000\n",
            "Epoch 25/30\n",
            "111/111 [==============================] - 0s 215us/step - loss: 0.2975 - acc: 0.9820 - val_loss: 0.2375 - val_acc: 1.0000\n",
            "Epoch 26/30\n",
            "111/111 [==============================] - 0s 199us/step - loss: 0.2873 - acc: 0.9820 - val_loss: 0.2274 - val_acc: 1.0000\n",
            "Epoch 27/30\n",
            "111/111 [==============================] - 0s 230us/step - loss: 0.2775 - acc: 0.9820 - val_loss: 0.2177 - val_acc: 1.0000\n",
            "Epoch 28/30\n",
            "111/111 [==============================] - 0s 207us/step - loss: 0.2681 - acc: 0.9820 - val_loss: 0.2089 - val_acc: 1.0000\n",
            "Epoch 29/30\n",
            "111/111 [==============================] - 0s 217us/step - loss: 0.2594 - acc: 0.9820 - val_loss: 0.2003 - val_acc: 1.0000\n",
            "Epoch 30/30\n",
            "111/111 [==============================] - 0s 205us/step - loss: 0.2511 - acc: 0.9820 - val_loss: 0.1924 - val_acc: 1.0000\n",
            "Train on 111 samples, validate on 12 samples\n",
            "Epoch 1/30\n",
            "111/111 [==============================] - 3s 27ms/step - loss: 2.4218 - acc: 0.0270 - val_loss: 2.2759 - val_acc: 0.1667\n",
            "Epoch 2/30\n",
            "111/111 [==============================] - 0s 281us/step - loss: 2.0102 - acc: 0.0090 - val_loss: 1.8618 - val_acc: 0.1667\n",
            "Epoch 3/30\n",
            "111/111 [==============================] - 0s 262us/step - loss: 1.6630 - acc: 0.0000e+00 - val_loss: 1.5143 - val_acc: 0.0833\n",
            "Epoch 4/30\n",
            "111/111 [==============================] - 0s 240us/step - loss: 1.3926 - acc: 0.0000e+00 - val_loss: 1.2715 - val_acc: 0.0833\n",
            "Epoch 5/30\n",
            "111/111 [==============================] - 0s 215us/step - loss: 1.2005 - acc: 0.2162 - val_loss: 1.0960 - val_acc: 0.3333\n",
            "Epoch 6/30\n",
            "111/111 [==============================] - 0s 221us/step - loss: 1.0642 - acc: 0.3423 - val_loss: 0.9763 - val_acc: 0.3333\n",
            "Epoch 7/30\n",
            "111/111 [==============================] - 0s 235us/step - loss: 0.9680 - acc: 0.3604 - val_loss: 0.8901 - val_acc: 0.3333\n",
            "Epoch 8/30\n",
            "111/111 [==============================] - 0s 222us/step - loss: 0.8981 - acc: 0.3874 - val_loss: 0.8246 - val_acc: 0.4167\n",
            "Epoch 9/30\n",
            "111/111 [==============================] - 0s 246us/step - loss: 0.8428 - acc: 0.3874 - val_loss: 0.7756 - val_acc: 0.4167\n",
            "Epoch 10/30\n",
            "111/111 [==============================] - 0s 267us/step - loss: 0.7998 - acc: 0.3874 - val_loss: 0.7361 - val_acc: 0.4167\n",
            "Epoch 11/30\n",
            "111/111 [==============================] - 0s 234us/step - loss: 0.7641 - acc: 0.3874 - val_loss: 0.7040 - val_acc: 0.4167\n",
            "Epoch 12/30\n",
            "111/111 [==============================] - 0s 198us/step - loss: 0.7351 - acc: 0.3874 - val_loss: 0.6755 - val_acc: 0.4167\n",
            "Epoch 13/30\n",
            "111/111 [==============================] - 0s 236us/step - loss: 0.7100 - acc: 0.3874 - val_loss: 0.6513 - val_acc: 0.4167\n",
            "Epoch 14/30\n",
            "111/111 [==============================] - 0s 216us/step - loss: 0.6883 - acc: 0.3874 - val_loss: 0.6315 - val_acc: 0.4167\n",
            "Epoch 15/30\n",
            "111/111 [==============================] - 0s 253us/step - loss: 0.6695 - acc: 0.5405 - val_loss: 0.6162 - val_acc: 0.6667\n",
            "Epoch 16/30\n",
            "111/111 [==============================] - 0s 261us/step - loss: 0.6559 - acc: 0.5676 - val_loss: 0.6050 - val_acc: 0.6667\n",
            "Epoch 17/30\n",
            "111/111 [==============================] - 0s 269us/step - loss: 0.6448 - acc: 0.6126 - val_loss: 0.5945 - val_acc: 0.6667\n",
            "Epoch 18/30\n",
            "111/111 [==============================] - 0s 229us/step - loss: 0.6346 - acc: 0.8108 - val_loss: 0.5848 - val_acc: 1.0000\n",
            "Epoch 19/30\n",
            "111/111 [==============================] - 0s 243us/step - loss: 0.6251 - acc: 0.9369 - val_loss: 0.5758 - val_acc: 1.0000\n",
            "Epoch 20/30\n",
            "111/111 [==============================] - 0s 225us/step - loss: 0.6160 - acc: 0.9369 - val_loss: 0.5673 - val_acc: 1.0000\n",
            "Epoch 21/30\n",
            "111/111 [==============================] - 0s 241us/step - loss: 0.6074 - acc: 0.9459 - val_loss: 0.5593 - val_acc: 1.0000\n",
            "Epoch 22/30\n",
            "111/111 [==============================] - 0s 225us/step - loss: 0.5993 - acc: 0.9550 - val_loss: 0.5513 - val_acc: 1.0000\n",
            "Epoch 23/30\n",
            "111/111 [==============================] - 0s 254us/step - loss: 0.5915 - acc: 0.9550 - val_loss: 0.5440 - val_acc: 1.0000\n",
            "Epoch 24/30\n",
            "111/111 [==============================] - 0s 232us/step - loss: 0.5839 - acc: 0.9550 - val_loss: 0.5367 - val_acc: 1.0000\n",
            "Epoch 25/30\n",
            "111/111 [==============================] - 0s 219us/step - loss: 0.5765 - acc: 0.9550 - val_loss: 0.5295 - val_acc: 1.0000\n",
            "Epoch 26/30\n",
            "111/111 [==============================] - 0s 223us/step - loss: 0.5693 - acc: 0.9820 - val_loss: 0.5226 - val_acc: 1.0000\n",
            "Epoch 27/30\n",
            "111/111 [==============================] - 0s 218us/step - loss: 0.5624 - acc: 0.9820 - val_loss: 0.5159 - val_acc: 1.0000\n",
            "Epoch 28/30\n",
            "111/111 [==============================] - 0s 213us/step - loss: 0.5556 - acc: 0.9910 - val_loss: 0.5094 - val_acc: 1.0000\n",
            "Epoch 29/30\n",
            "111/111 [==============================] - 0s 203us/step - loss: 0.5489 - acc: 0.9910 - val_loss: 0.5028 - val_acc: 1.0000\n",
            "Epoch 30/30\n",
            "111/111 [==============================] - 0s 204us/step - loss: 0.5423 - acc: 0.9910 - val_loss: 0.4965 - val_acc: 1.0000\n",
            "Train on 111 samples, validate on 12 samples\n",
            "Epoch 1/30\n",
            "111/111 [==============================] - 3s 28ms/step - loss: 0.5231 - acc: 0.6847 - val_loss: 0.5767 - val_acc: 0.6667\n",
            "Epoch 2/30\n",
            "111/111 [==============================] - 0s 226us/step - loss: 0.3962 - acc: 0.9099 - val_loss: 0.4511 - val_acc: 0.8333\n",
            "Epoch 3/30\n",
            "111/111 [==============================] - 0s 194us/step - loss: 0.3203 - acc: 0.9910 - val_loss: 0.3725 - val_acc: 1.0000\n",
            "Epoch 4/30\n",
            "111/111 [==============================] - 0s 196us/step - loss: 0.2719 - acc: 0.9910 - val_loss: 0.3215 - val_acc: 1.0000\n",
            "Epoch 5/30\n",
            "111/111 [==============================] - 0s 196us/step - loss: 0.2398 - acc: 1.0000 - val_loss: 0.2850 - val_acc: 1.0000\n",
            "Epoch 6/30\n",
            "111/111 [==============================] - 0s 199us/step - loss: 0.2167 - acc: 1.0000 - val_loss: 0.2572 - val_acc: 1.0000\n",
            "Epoch 7/30\n",
            "111/111 [==============================] - 0s 235us/step - loss: 0.1992 - acc: 1.0000 - val_loss: 0.2359 - val_acc: 1.0000\n",
            "Epoch 8/30\n",
            "111/111 [==============================] - 0s 214us/step - loss: 0.1855 - acc: 1.0000 - val_loss: 0.2190 - val_acc: 1.0000\n",
            "Epoch 9/30\n",
            "111/111 [==============================] - 0s 244us/step - loss: 0.1745 - acc: 1.0000 - val_loss: 0.2052 - val_acc: 1.0000\n",
            "Epoch 10/30\n",
            "111/111 [==============================] - 0s 243us/step - loss: 0.1652 - acc: 0.9910 - val_loss: 0.1936 - val_acc: 1.0000\n",
            "Epoch 11/30\n",
            "111/111 [==============================] - 0s 215us/step - loss: 0.1574 - acc: 0.9910 - val_loss: 0.1840 - val_acc: 1.0000\n",
            "Epoch 12/30\n",
            "111/111 [==============================] - 0s 238us/step - loss: 0.1507 - acc: 0.9910 - val_loss: 0.1754 - val_acc: 1.0000\n",
            "Epoch 13/30\n",
            "111/111 [==============================] - 0s 237us/step - loss: 0.1447 - acc: 0.9910 - val_loss: 0.1680 - val_acc: 1.0000\n",
            "Epoch 14/30\n",
            "111/111 [==============================] - 0s 230us/step - loss: 0.1394 - acc: 0.9910 - val_loss: 0.1615 - val_acc: 1.0000\n",
            "Epoch 15/30\n",
            "111/111 [==============================] - 0s 262us/step - loss: 0.1347 - acc: 0.9910 - val_loss: 0.1555 - val_acc: 1.0000\n",
            "Epoch 16/30\n",
            "111/111 [==============================] - 0s 252us/step - loss: 0.1305 - acc: 0.9910 - val_loss: 0.1502 - val_acc: 1.0000\n",
            "Epoch 17/30\n",
            "111/111 [==============================] - 0s 244us/step - loss: 0.1265 - acc: 0.9910 - val_loss: 0.1454 - val_acc: 1.0000\n",
            "Epoch 18/30\n",
            "111/111 [==============================] - 0s 244us/step - loss: 0.1229 - acc: 0.9910 - val_loss: 0.1409 - val_acc: 1.0000\n",
            "Epoch 19/30\n",
            "111/111 [==============================] - 0s 264us/step - loss: 0.1195 - acc: 0.9910 - val_loss: 0.1369 - val_acc: 1.0000\n",
            "Epoch 20/30\n",
            "111/111 [==============================] - 0s 249us/step - loss: 0.1164 - acc: 0.9910 - val_loss: 0.1331 - val_acc: 1.0000\n",
            "Epoch 21/30\n",
            "111/111 [==============================] - 0s 227us/step - loss: 0.1135 - acc: 0.9910 - val_loss: 0.1295 - val_acc: 1.0000\n",
            "Epoch 22/30\n",
            "111/111 [==============================] - 0s 249us/step - loss: 0.1107 - acc: 0.9910 - val_loss: 0.1264 - val_acc: 1.0000\n",
            "Epoch 23/30\n",
            "111/111 [==============================] - 0s 280us/step - loss: 0.1081 - acc: 0.9910 - val_loss: 0.1233 - val_acc: 1.0000\n",
            "Epoch 24/30\n",
            "111/111 [==============================] - 0s 229us/step - loss: 0.1055 - acc: 0.9910 - val_loss: 0.1203 - val_acc: 1.0000\n",
            "Epoch 25/30\n",
            "111/111 [==============================] - 0s 210us/step - loss: 0.1031 - acc: 0.9910 - val_loss: 0.1176 - val_acc: 1.0000\n",
            "Epoch 26/30\n",
            "111/111 [==============================] - 0s 223us/step - loss: 0.1007 - acc: 0.9910 - val_loss: 0.1151 - val_acc: 1.0000\n",
            "Epoch 27/30\n",
            "111/111 [==============================] - 0s 252us/step - loss: 0.0985 - acc: 0.9910 - val_loss: 0.1126 - val_acc: 1.0000\n",
            "Epoch 28/30\n",
            "111/111 [==============================] - 0s 207us/step - loss: 0.0965 - acc: 0.9910 - val_loss: 0.1103 - val_acc: 1.0000\n",
            "Epoch 29/30\n",
            "111/111 [==============================] - 0s 203us/step - loss: 0.0945 - acc: 0.9910 - val_loss: 0.1082 - val_acc: 1.0000\n",
            "Epoch 30/30\n",
            "111/111 [==============================] - 0s 222us/step - loss: 0.0926 - acc: 0.9910 - val_loss: 0.1061 - val_acc: 1.0000\n",
            "Train on 111 samples, validate on 12 samples\n",
            "Epoch 1/30\n",
            "111/111 [==============================] - 3s 28ms/step - loss: 3.3038 - acc: 0.0360 - val_loss: 2.6260 - val_acc: 0.0000e+00\n",
            "Epoch 2/30\n",
            "111/111 [==============================] - 0s 246us/step - loss: 2.9146 - acc: 0.0360 - val_loss: 2.3349 - val_acc: 0.0833\n",
            "Epoch 3/30\n",
            "111/111 [==============================] - 0s 220us/step - loss: 2.5806 - acc: 0.0541 - val_loss: 2.0863 - val_acc: 0.1667\n",
            "Epoch 4/30\n",
            "111/111 [==============================] - 0s 209us/step - loss: 2.2976 - acc: 0.0811 - val_loss: 1.8820 - val_acc: 0.2500\n",
            "Epoch 5/30\n",
            "111/111 [==============================] - 0s 188us/step - loss: 2.0648 - acc: 0.1532 - val_loss: 1.7067 - val_acc: 0.3333\n",
            "Epoch 6/30\n",
            "111/111 [==============================] - 0s 218us/step - loss: 1.8643 - acc: 0.2973 - val_loss: 1.5573 - val_acc: 0.3333\n",
            "Epoch 7/30\n",
            "111/111 [==============================] - 0s 210us/step - loss: 1.6950 - acc: 0.3333 - val_loss: 1.4268 - val_acc: 0.4167\n",
            "Epoch 8/30\n",
            "111/111 [==============================] - 0s 228us/step - loss: 1.5513 - acc: 0.3694 - val_loss: 1.3153 - val_acc: 0.4167\n",
            "Epoch 9/30\n",
            "111/111 [==============================] - 0s 215us/step - loss: 1.4256 - acc: 0.3784 - val_loss: 1.2172 - val_acc: 0.4167\n",
            "Epoch 10/30\n",
            "111/111 [==============================] - 0s 285us/step - loss: 1.3169 - acc: 0.3874 - val_loss: 1.1307 - val_acc: 0.4167\n",
            "Epoch 11/30\n",
            "111/111 [==============================] - 0s 247us/step - loss: 1.2221 - acc: 0.3874 - val_loss: 1.0528 - val_acc: 0.4167\n",
            "Epoch 12/30\n",
            "111/111 [==============================] - 0s 251us/step - loss: 1.1357 - acc: 0.3964 - val_loss: 0.9861 - val_acc: 0.4167\n",
            "Epoch 13/30\n",
            "111/111 [==============================] - 0s 271us/step - loss: 1.0615 - acc: 0.3964 - val_loss: 0.9285 - val_acc: 0.4167\n",
            "Epoch 14/30\n",
            "111/111 [==============================] - 0s 242us/step - loss: 0.9952 - acc: 0.3964 - val_loss: 0.8825 - val_acc: 0.4167\n",
            "Epoch 15/30\n",
            "111/111 [==============================] - 0s 205us/step - loss: 0.9380 - acc: 0.3964 - val_loss: 0.8448 - val_acc: 0.4167\n",
            "Epoch 16/30\n",
            "111/111 [==============================] - 0s 216us/step - loss: 0.8947 - acc: 0.3964 - val_loss: 0.8160 - val_acc: 0.4167\n",
            "Epoch 17/30\n",
            "111/111 [==============================] - 0s 232us/step - loss: 0.8606 - acc: 0.3964 - val_loss: 0.7897 - val_acc: 0.4167\n",
            "Epoch 18/30\n",
            "111/111 [==============================] - 0s 210us/step - loss: 0.8306 - acc: 0.3964 - val_loss: 0.7652 - val_acc: 0.4167\n",
            "Epoch 19/30\n",
            "111/111 [==============================] - 0s 227us/step - loss: 0.8035 - acc: 0.4144 - val_loss: 0.7419 - val_acc: 0.5833\n",
            "Epoch 20/30\n",
            "111/111 [==============================] - 0s 209us/step - loss: 0.7783 - acc: 0.7117 - val_loss: 0.7202 - val_acc: 0.8333\n",
            "Epoch 21/30\n",
            "111/111 [==============================] - 0s 215us/step - loss: 0.7549 - acc: 0.7658 - val_loss: 0.6987 - val_acc: 0.8333\n",
            "Epoch 22/30\n",
            "111/111 [==============================] - 0s 212us/step - loss: 0.7324 - acc: 0.7658 - val_loss: 0.6787 - val_acc: 0.8333\n",
            "Epoch 23/30\n",
            "111/111 [==============================] - 0s 211us/step - loss: 0.7114 - acc: 0.7658 - val_loss: 0.6594 - val_acc: 0.8333\n",
            "Epoch 24/30\n",
            "111/111 [==============================] - 0s 232us/step - loss: 0.6915 - acc: 0.7658 - val_loss: 0.6411 - val_acc: 0.8333\n",
            "Epoch 25/30\n",
            "111/111 [==============================] - 0s 225us/step - loss: 0.6725 - acc: 0.7658 - val_loss: 0.6233 - val_acc: 0.8333\n",
            "Epoch 26/30\n",
            "111/111 [==============================] - 0s 226us/step - loss: 0.6544 - acc: 0.7658 - val_loss: 0.6060 - val_acc: 0.8333\n",
            "Epoch 27/30\n",
            "111/111 [==============================] - 0s 247us/step - loss: 0.6371 - acc: 0.7658 - val_loss: 0.5898 - val_acc: 0.8333\n",
            "Epoch 28/30\n",
            "111/111 [==============================] - 0s 289us/step - loss: 0.6206 - acc: 0.7658 - val_loss: 0.5736 - val_acc: 0.8333\n",
            "Epoch 29/30\n",
            "111/111 [==============================] - 0s 252us/step - loss: 0.6048 - acc: 0.7658 - val_loss: 0.5588 - val_acc: 0.8333\n",
            "Epoch 30/30\n",
            "111/111 [==============================] - 0s 287us/step - loss: 0.5897 - acc: 0.7658 - val_loss: 0.5442 - val_acc: 0.8333\n",
            "Train on 111 samples, validate on 12 samples\n",
            "Epoch 1/30\n",
            "111/111 [==============================] - 3s 28ms/step - loss: 1.8174 - acc: 0.0180 - val_loss: 1.7013 - val_acc: 0.0000e+00\n",
            "Epoch 2/30\n",
            "111/111 [==============================] - 0s 263us/step - loss: 1.5813 - acc: 0.0360 - val_loss: 1.4985 - val_acc: 0.0833\n",
            "Epoch 3/30\n",
            "111/111 [==============================] - 0s 219us/step - loss: 1.3870 - acc: 0.0991 - val_loss: 1.3326 - val_acc: 0.0833\n",
            "Epoch 4/30\n",
            "111/111 [==============================] - 0s 232us/step - loss: 1.2304 - acc: 0.2342 - val_loss: 1.1927 - val_acc: 0.0833\n",
            "Epoch 5/30\n",
            "111/111 [==============================] - 0s 214us/step - loss: 1.1017 - acc: 0.3514 - val_loss: 1.0777 - val_acc: 0.5000\n",
            "Epoch 6/30\n",
            "111/111 [==============================] - 0s 210us/step - loss: 0.9946 - acc: 0.4324 - val_loss: 0.9773 - val_acc: 0.5000\n",
            "Epoch 7/30\n",
            "111/111 [==============================] - 0s 223us/step - loss: 0.9023 - acc: 0.5045 - val_loss: 0.8940 - val_acc: 0.5000\n",
            "Epoch 8/30\n",
            "111/111 [==============================] - 0s 267us/step - loss: 0.8243 - acc: 0.5405 - val_loss: 0.8184 - val_acc: 0.5833\n",
            "Epoch 9/30\n",
            "111/111 [==============================] - 0s 246us/step - loss: 0.7550 - acc: 0.5766 - val_loss: 0.7546 - val_acc: 0.5833\n",
            "Epoch 10/30\n",
            "111/111 [==============================] - 0s 245us/step - loss: 0.6953 - acc: 0.6306 - val_loss: 0.6963 - val_acc: 0.6667\n",
            "Epoch 11/30\n",
            "111/111 [==============================] - 0s 241us/step - loss: 0.6427 - acc: 0.8198 - val_loss: 0.6449 - val_acc: 1.0000\n",
            "Epoch 12/30\n",
            "111/111 [==============================] - 0s 247us/step - loss: 0.5963 - acc: 0.9910 - val_loss: 0.5995 - val_acc: 1.0000\n",
            "Epoch 13/30\n",
            "111/111 [==============================] - 0s 272us/step - loss: 0.5553 - acc: 0.9910 - val_loss: 0.5593 - val_acc: 1.0000\n",
            "Epoch 14/30\n",
            "111/111 [==============================] - 0s 231us/step - loss: 0.5187 - acc: 0.9910 - val_loss: 0.5228 - val_acc: 1.0000\n",
            "Epoch 15/30\n",
            "111/111 [==============================] - 0s 241us/step - loss: 0.4857 - acc: 0.9910 - val_loss: 0.4901 - val_acc: 1.0000\n",
            "Epoch 16/30\n",
            "111/111 [==============================] - 0s 275us/step - loss: 0.4562 - acc: 0.9910 - val_loss: 0.4608 - val_acc: 1.0000\n",
            "Epoch 17/30\n",
            "111/111 [==============================] - 0s 226us/step - loss: 0.4293 - acc: 0.9910 - val_loss: 0.4344 - val_acc: 1.0000\n",
            "Epoch 18/30\n",
            "111/111 [==============================] - 0s 229us/step - loss: 0.4051 - acc: 0.9910 - val_loss: 0.4093 - val_acc: 1.0000\n",
            "Epoch 19/30\n",
            "111/111 [==============================] - 0s 224us/step - loss: 0.3829 - acc: 0.9910 - val_loss: 0.3875 - val_acc: 1.0000\n",
            "Epoch 20/30\n",
            "111/111 [==============================] - 0s 209us/step - loss: 0.3630 - acc: 0.9910 - val_loss: 0.3672 - val_acc: 1.0000\n",
            "Epoch 21/30\n",
            "111/111 [==============================] - 0s 231us/step - loss: 0.3448 - acc: 1.0000 - val_loss: 0.3483 - val_acc: 1.0000\n",
            "Epoch 22/30\n",
            "111/111 [==============================] - 0s 252us/step - loss: 0.3281 - acc: 1.0000 - val_loss: 0.3310 - val_acc: 1.0000\n",
            "Epoch 23/30\n",
            "111/111 [==============================] - 0s 276us/step - loss: 0.3128 - acc: 1.0000 - val_loss: 0.3152 - val_acc: 1.0000\n",
            "Epoch 24/30\n",
            "111/111 [==============================] - 0s 233us/step - loss: 0.2989 - acc: 1.0000 - val_loss: 0.3003 - val_acc: 1.0000\n",
            "Epoch 25/30\n",
            "111/111 [==============================] - 0s 260us/step - loss: 0.2859 - acc: 1.0000 - val_loss: 0.2864 - val_acc: 1.0000\n",
            "Epoch 26/30\n",
            "111/111 [==============================] - 0s 236us/step - loss: 0.2739 - acc: 1.0000 - val_loss: 0.2737 - val_acc: 1.0000\n",
            "Epoch 27/30\n",
            "111/111 [==============================] - 0s 246us/step - loss: 0.2628 - acc: 1.0000 - val_loss: 0.2619 - val_acc: 1.0000\n",
            "Epoch 28/30\n",
            "111/111 [==============================] - 0s 232us/step - loss: 0.2526 - acc: 1.0000 - val_loss: 0.2508 - val_acc: 1.0000\n",
            "Epoch 29/30\n",
            "111/111 [==============================] - 0s 222us/step - loss: 0.2430 - acc: 1.0000 - val_loss: 0.2405 - val_acc: 1.0000\n",
            "Epoch 30/30\n",
            "111/111 [==============================] - 0s 232us/step - loss: 0.2341 - acc: 1.0000 - val_loss: 0.2310 - val_acc: 1.0000\n",
            "Train on 111 samples, validate on 12 samples\n",
            "Epoch 1/30\n",
            "111/111 [==============================] - 3s 29ms/step - loss: 2.3072 - acc: 0.3874 - val_loss: 1.8305 - val_acc: 0.4167\n",
            "Epoch 2/30\n",
            "111/111 [==============================] - 0s 233us/step - loss: 1.9988 - acc: 0.3874 - val_loss: 1.5716 - val_acc: 0.4167\n",
            "Epoch 3/30\n",
            "111/111 [==============================] - 0s 239us/step - loss: 1.7395 - acc: 0.3874 - val_loss: 1.3636 - val_acc: 0.4167\n",
            "Epoch 4/30\n",
            "111/111 [==============================] - 0s 260us/step - loss: 1.5288 - acc: 0.4595 - val_loss: 1.1889 - val_acc: 0.6667\n",
            "Epoch 5/30\n",
            "111/111 [==============================] - 0s 230us/step - loss: 1.3530 - acc: 0.5856 - val_loss: 1.0441 - val_acc: 0.8333\n",
            "Epoch 6/30\n",
            "111/111 [==============================] - 0s 206us/step - loss: 1.2048 - acc: 0.6757 - val_loss: 0.9259 - val_acc: 0.8333\n",
            "Epoch 7/30\n",
            "111/111 [==============================] - 0s 205us/step - loss: 1.0841 - acc: 0.6937 - val_loss: 0.8233 - val_acc: 0.8333\n",
            "Epoch 8/30\n",
            "111/111 [==============================] - 0s 210us/step - loss: 0.9818 - acc: 0.7027 - val_loss: 0.7399 - val_acc: 0.8333\n",
            "Epoch 9/30\n",
            "111/111 [==============================] - 0s 216us/step - loss: 0.8969 - acc: 0.7117 - val_loss: 0.6700 - val_acc: 0.8333\n",
            "Epoch 10/30\n",
            "111/111 [==============================] - 0s 230us/step - loss: 0.8255 - acc: 0.7117 - val_loss: 0.6124 - val_acc: 0.8333\n",
            "Epoch 11/30\n",
            "111/111 [==============================] - 0s 202us/step - loss: 0.7654 - acc: 0.7207 - val_loss: 0.5635 - val_acc: 0.8333\n",
            "Epoch 12/30\n",
            "111/111 [==============================] - 0s 203us/step - loss: 0.7146 - acc: 0.7207 - val_loss: 0.5216 - val_acc: 0.8333\n",
            "Epoch 13/30\n",
            "111/111 [==============================] - 0s 205us/step - loss: 0.6707 - acc: 0.7207 - val_loss: 0.4854 - val_acc: 0.8333\n",
            "Epoch 14/30\n",
            "111/111 [==============================] - 0s 223us/step - loss: 0.6320 - acc: 0.7297 - val_loss: 0.4538 - val_acc: 0.8333\n",
            "Epoch 15/30\n",
            "111/111 [==============================] - 0s 208us/step - loss: 0.5976 - acc: 0.7387 - val_loss: 0.4261 - val_acc: 0.8333\n",
            "Epoch 16/30\n",
            "111/111 [==============================] - 0s 225us/step - loss: 0.5680 - acc: 0.7387 - val_loss: 0.4030 - val_acc: 0.8333\n",
            "Epoch 17/30\n",
            "111/111 [==============================] - 0s 202us/step - loss: 0.5414 - acc: 0.7568 - val_loss: 0.3829 - val_acc: 0.8333\n",
            "Epoch 18/30\n",
            "111/111 [==============================] - 0s 209us/step - loss: 0.5185 - acc: 0.7568 - val_loss: 0.3646 - val_acc: 0.8333\n",
            "Epoch 19/30\n",
            "111/111 [==============================] - 0s 204us/step - loss: 0.4979 - acc: 0.7568 - val_loss: 0.3484 - val_acc: 0.8333\n",
            "Epoch 20/30\n",
            "111/111 [==============================] - 0s 275us/step - loss: 0.4795 - acc: 0.7568 - val_loss: 0.3338 - val_acc: 0.8333\n",
            "Epoch 21/30\n",
            "111/111 [==============================] - 0s 204us/step - loss: 0.4629 - acc: 0.7568 - val_loss: 0.3210 - val_acc: 0.8333\n",
            "Epoch 22/30\n",
            "111/111 [==============================] - 0s 204us/step - loss: 0.4480 - acc: 0.7658 - val_loss: 0.3092 - val_acc: 0.8333\n",
            "Epoch 23/30\n",
            "111/111 [==============================] - 0s 204us/step - loss: 0.4345 - acc: 0.7658 - val_loss: 0.2985 - val_acc: 0.8333\n",
            "Epoch 24/30\n",
            "111/111 [==============================] - 0s 212us/step - loss: 0.4219 - acc: 0.7658 - val_loss: 0.2889 - val_acc: 0.8333\n",
            "Epoch 25/30\n",
            "111/111 [==============================] - 0s 231us/step - loss: 0.4104 - acc: 0.7658 - val_loss: 0.2797 - val_acc: 0.8333\n",
            "Epoch 26/30\n",
            "111/111 [==============================] - 0s 245us/step - loss: 0.3997 - acc: 0.7748 - val_loss: 0.2715 - val_acc: 0.8333\n",
            "Epoch 27/30\n",
            "111/111 [==============================] - 0s 223us/step - loss: 0.3898 - acc: 0.7748 - val_loss: 0.2637 - val_acc: 0.8333\n",
            "Epoch 28/30\n",
            "111/111 [==============================] - 0s 208us/step - loss: 0.3806 - acc: 0.7928 - val_loss: 0.2565 - val_acc: 0.8333\n",
            "Epoch 29/30\n",
            "111/111 [==============================] - 0s 242us/step - loss: 0.3722 - acc: 0.8198 - val_loss: 0.2499 - val_acc: 1.0000\n",
            "Epoch 30/30\n",
            "111/111 [==============================] - 0s 209us/step - loss: 0.3645 - acc: 0.9189 - val_loss: 0.2437 - val_acc: 1.0000\n"
          ],
          "name": "stdout"
        }
      ]
    },
    {
      "cell_type": "code",
      "metadata": {
        "id": "weMNsKxZnVSt",
        "colab_type": "code",
        "outputId": "09d36018-8b98-40cd-a175-9218836f4256",
        "colab": {
          "base_uri": "https://localhost:8080/",
          "height": 237
        }
      },
      "source": [
        "val_data"
      ],
      "execution_count": 76,
      "outputs": [
        {
          "output_type": "execute_result",
          "data": {
            "text/plain": [
              "array([[ 0.94892679, -3.26204263],\n",
              "       [ 3.6902765 ,  1.91193691],\n",
              "       [ 4.33888855,  3.11923441],\n",
              "       [-0.19375808, -1.99141129],\n",
              "       [ 4.92020805,  2.60198864],\n",
              "       [-0.11763691, -3.08731746],\n",
              "       [ 0.27541973, -3.58936325],\n",
              "       [ 4.10074676,  2.79547975],\n",
              "       [ 0.81236067, -4.18441726],\n",
              "       [ 4.62588055,  1.71410556],\n",
              "       [-8.20314863,  2.62258764],\n",
              "       [-7.82534822,  2.32665836]])"
            ]
          },
          "metadata": {
            "tags": []
          },
          "execution_count": 76
        }
      ]
    },
    {
      "cell_type": "code",
      "metadata": {
        "colab_type": "code",
        "id": "60PpnMXrkKFq",
        "colab": {}
      },
      "source": [
        "history_dict = history.history"
      ],
      "execution_count": 0,
      "outputs": []
    },
    {
      "cell_type": "code",
      "metadata": {
        "colab_type": "code",
        "outputId": "5fbb97e8-3af1-4517-8946-0004855df656",
        "id": "nCDzc10dkKFv",
        "colab": {
          "base_uri": "https://localhost:8080/",
          "height": 35
        }
      },
      "source": [
        "history_dict.keys()"
      ],
      "execution_count": 78,
      "outputs": [
        {
          "output_type": "execute_result",
          "data": {
            "text/plain": [
              "dict_keys(['val_loss', 'val_acc', 'loss', 'acc'])"
            ]
          },
          "metadata": {
            "tags": []
          },
          "execution_count": 78
        }
      ]
    },
    {
      "cell_type": "code",
      "metadata": {
        "colab_type": "code",
        "outputId": "546d9754-7288-4177-ae34-0a45f45a9dff",
        "id": "Y8cLzq3AkKF2",
        "colab": {
          "base_uri": "https://localhost:8080/",
          "height": 35
        }
      },
      "source": [
        "len(all_acc_histories[2])"
      ],
      "execution_count": 79,
      "outputs": [
        {
          "output_type": "execute_result",
          "data": {
            "text/plain": [
              "20"
            ]
          },
          "metadata": {
            "tags": []
          },
          "execution_count": 79
        }
      ]
    },
    {
      "cell_type": "code",
      "metadata": {
        "colab_type": "code",
        "id": "q7PBWUP9kKF6",
        "colab": {}
      },
      "source": [
        "average_acc_history_lda = [np.mean([x[i] for x in all_acc_histories_lda]) for i in range(num_epochs)]\n",
        "#media per epoca degli score ottenuti per tutte le k-fold\n",
        "#per ogni k-fold di fanno num_epoch epoche, la media viene fatta prendendo gli score di tutti i k-fold relativi ad una data epoca,\n",
        "#e si fa questo per tutte le epoche\n",
        "average_loss_history_lda = [np.mean([x[i] for x in all_loss_histories_lda]) for i in range(num_epochs)]\n",
        "average_val_acc_history_lda = [np.mean([x[i] for x in all_val_acc_histories_lda]) for i in range(num_epochs)]\n",
        "average_val_loss_history_lda = [np.mean([x[i] for x in all_val_loss_histories_lda]) for i in range(num_epochs)]\n"
      ],
      "execution_count": 0,
      "outputs": []
    },
    {
      "cell_type": "code",
      "metadata": {
        "colab_type": "code",
        "outputId": "0a21a136-7192-4e42-df82-0714898c9091",
        "id": "GXZaeLG7kKF_",
        "colab": {
          "base_uri": "https://localhost:8080/",
          "height": 35
        }
      },
      "source": [
        "len(average_val_acc_history)"
      ],
      "execution_count": 91,
      "outputs": [
        {
          "output_type": "execute_result",
          "data": {
            "text/plain": [
              "20"
            ]
          },
          "metadata": {
            "tags": []
          },
          "execution_count": 91
        }
      ]
    },
    {
      "cell_type": "markdown",
      "metadata": {
        "colab_type": "text",
        "id": "V0-h4UV1kKGD"
      },
      "source": [
        "##Plotting training and validation loss"
      ]
    },
    {
      "cell_type": "code",
      "metadata": {
        "colab_type": "code",
        "id": "Ep2R0tm9kKGF",
        "colab": {}
      },
      "source": [
        "import matplotlib.pyplot as plt"
      ],
      "execution_count": 0,
      "outputs": []
    },
    {
      "cell_type": "code",
      "metadata": {
        "colab_type": "code",
        "id": "dYcufxLHkKGK",
        "colab": {}
      },
      "source": [
        "epochs = range(1, num_epochs+1)"
      ],
      "execution_count": 0,
      "outputs": []
    },
    {
      "cell_type": "code",
      "metadata": {
        "colab_type": "code",
        "outputId": "e13c8276-fa77-4714-ebad-fd5f7ae44893",
        "id": "XLBO05_pkKGQ",
        "colab": {
          "base_uri": "https://localhost:8080/",
          "height": 313
        }
      },
      "source": [
        "plt.plot(epochs, average_loss_history_lda, 'b', label='training loss')\n",
        "plt.plot(epochs, average_val_loss_history_lda, 'r', label='validation loss')\n",
        "plt.title('Training and validation loss lda')\n",
        "plt.xlabel('Epochs')\n",
        "plt.ylabel('Loss')\n",
        "plt.legend()"
      ],
      "execution_count": 142,
      "outputs": [
        {
          "output_type": "execute_result",
          "data": {
            "text/plain": [
              "<matplotlib.legend.Legend at 0x7ff9cc71b780>"
            ]
          },
          "metadata": {
            "tags": []
          },
          "execution_count": 142
        },
        {
          "output_type": "display_data",
          "data": {
            "image/png": "[encoded data removed]",
            "text/plain": [
              "<Figure size 432x288 with 1 Axes>"
            ]
          },
          "metadata": {
            "tags": []
          }
        }
      ]
    },
    {
      "cell_type": "markdown",
      "metadata": {
        "colab_type": "text",
        "id": "XV3hLoOykKGV"
      },
      "source": [
        "##Plotting train and validation accuracy"
      ]
    },
    {
      "cell_type": "code",
      "metadata": {
        "colab_type": "code",
        "outputId": "e5b792c1-6c00-47c2-f8fc-0e4794f0afa5",
        "id": "ttjl5eApkKGV",
        "colab": {
          "base_uri": "https://localhost:8080/",
          "height": 313
        }
      },
      "source": [
        "plt.plot(epochs, average_acc_history_lda, 'b', label='Training accuracy')\n",
        "plt.plot(epochs, average_val_acc_history_lda, 'r', label='Validation accuracy')\n",
        "plt.title('Training and validation accuracy lda')\n",
        "plt.xlabel('Epochs')\n",
        "plt.ylabel('Accuracy')\n",
        "plt.legend() "
      ],
      "execution_count": 143,
      "outputs": [
        {
          "output_type": "execute_result",
          "data": {
            "text/plain": [
              "<matplotlib.legend.Legend at 0x7ff9cc6930b8>"
            ]
          },
          "metadata": {
            "tags": []
          },
          "execution_count": 143
        },
        {
          "output_type": "display_data",
          "data": {
            "image/png": "[encoded data removed]",
            "text/plain": [
              "<Figure size 432x288 with 1 Axes>"
            ]
          },
          "metadata": {
            "tags": []
          }
        }
      ]
    },
    {
      "cell_type": "markdown",
      "metadata": {
        "colab_type": "text",
        "id": "ckvqkyTYqE7B"
      },
      "source": [
        "##Performances on test set"
      ]
    },
    {
      "cell_type": "code",
      "metadata": {
        "colab_type": "code",
        "outputId": "9a964ee1-88c4-4df3-ca10-53ebc6909a24",
        "id": "kmiW5yZ0qE7Q",
        "colab": {
          "base_uri": "https://localhost:8080/",
          "height": 1000
        }
      },
      "source": [
        " model = build_model()\n",
        " model.fit(train_data_stand_lda, one_hot_train_labels, epochs= num_epochs, batch_size=8, shuffle=True)\n",
        " test_loss, test_acc = model.evaluate(test_data_stand_lda, one_hot_test_labels)\n",
        "  "
      ],
      "execution_count": 144,
      "outputs": [
        {
          "output_type": "stream",
          "text": [
            "Epoch 1/30\n",
            "123/123 [==============================] - 3s 22ms/step - loss: 2.8252 - acc: 0.2195\n",
            "Epoch 2/30\n",
            "123/123 [==============================] - 0s 220us/step - loss: 2.3365 - acc: 0.2195\n",
            "Epoch 3/30\n",
            "123/123 [==============================] - 0s 200us/step - loss: 1.9180 - acc: 0.2195\n",
            "Epoch 4/30\n",
            "123/123 [==============================] - 0s 207us/step - loss: 1.5573 - acc: 0.2195\n",
            "Epoch 5/30\n",
            "123/123 [==============================] - 0s 235us/step - loss: 1.2681 - acc: 0.2195\n",
            "Epoch 6/30\n",
            "123/123 [==============================] - 0s 194us/step - loss: 1.0489 - acc: 0.2439\n",
            "Epoch 7/30\n",
            "123/123 [==============================] - 0s 192us/step - loss: 0.8919 - acc: 0.5854\n",
            "Epoch 8/30\n",
            "123/123 [==============================] - 0s 220us/step - loss: 0.7897 - acc: 0.6098\n",
            "Epoch 9/30\n",
            "123/123 [==============================] - 0s 245us/step - loss: 0.7205 - acc: 0.6098\n",
            "Epoch 10/30\n",
            "123/123 [==============================] - 0s 235us/step - loss: 0.6716 - acc: 0.6098\n",
            "Epoch 11/30\n",
            "123/123 [==============================] - 0s 193us/step - loss: 0.6331 - acc: 0.6098\n",
            "Epoch 12/30\n",
            "123/123 [==============================] - 0s 202us/step - loss: 0.6018 - acc: 0.6260\n",
            "Epoch 13/30\n",
            "123/123 [==============================] - 0s 198us/step - loss: 0.5754 - acc: 0.6423\n",
            "Epoch 14/30\n",
            "123/123 [==============================] - 0s 198us/step - loss: 0.5533 - acc: 0.6667\n",
            "Epoch 15/30\n",
            "123/123 [==============================] - 0s 214us/step - loss: 0.5338 - acc: 0.6992\n",
            "Epoch 16/30\n",
            "123/123 [==============================] - 0s 213us/step - loss: 0.5162 - acc: 0.7317\n",
            "Epoch 17/30\n",
            "123/123 [==============================] - 0s 209us/step - loss: 0.5002 - acc: 0.7561\n",
            "Epoch 18/30\n",
            "123/123 [==============================] - 0s 182us/step - loss: 0.4857 - acc: 0.7805\n",
            "Epoch 19/30\n",
            "123/123 [==============================] - 0s 209us/step - loss: 0.4723 - acc: 0.7967\n",
            "Epoch 20/30\n",
            "123/123 [==============================] - 0s 191us/step - loss: 0.4604 - acc: 0.8130\n",
            "Epoch 21/30\n",
            "123/123 [==============================] - 0s 189us/step - loss: 0.4493 - acc: 0.8293\n",
            "Epoch 22/30\n",
            "123/123 [==============================] - 0s 181us/step - loss: 0.4388 - acc: 0.8537\n",
            "Epoch 23/30\n",
            "123/123 [==============================] - 0s 211us/step - loss: 0.4293 - acc: 0.8780\n",
            "Epoch 24/30\n",
            "123/123 [==============================] - 0s 233us/step - loss: 0.4202 - acc: 0.8862\n",
            "Epoch 25/30\n",
            "123/123 [==============================] - 0s 192us/step - loss: 0.4115 - acc: 0.8943\n",
            "Epoch 26/30\n",
            "123/123 [==============================] - 0s 217us/step - loss: 0.4036 - acc: 0.8943\n",
            "Epoch 27/30\n",
            "123/123 [==============================] - 0s 203us/step - loss: 0.3964 - acc: 0.8943\n",
            "Epoch 28/30\n",
            "123/123 [==============================] - 0s 205us/step - loss: 0.3898 - acc: 0.8943\n",
            "Epoch 29/30\n",
            "123/123 [==============================] - 0s 204us/step - loss: 0.3839 - acc: 0.9024\n",
            "Epoch 30/30\n",
            "123/123 [==============================] - 0s 224us/step - loss: 0.3785 - acc: 0.9024\n",
            "42/42 [==============================] - 1s 27ms/step\n"
          ],
          "name": "stdout"
        }
      ]
    },
    {
      "cell_type": "code",
      "metadata": {
        "colab_type": "code",
        "outputId": "1a2456b7-a2b1-4d9b-f35b-3b95a53e4467",
        "id": "lCz1ZOSIqE7i",
        "colab": {
          "base_uri": "https://localhost:8080/",
          "height": 35
        }
      },
      "source": [
        "model.metrics_names"
      ],
      "execution_count": 96,
      "outputs": [
        {
          "output_type": "execute_result",
          "data": {
            "text/plain": [
              "['loss', 'acc']"
            ]
          },
          "metadata": {
            "tags": []
          },
          "execution_count": 96
        }
      ]
    },
    {
      "cell_type": "code",
      "metadata": {
        "colab_type": "code",
        "outputId": "0d1b3b17-b9e1-487d-a7f0-44f00e8d5a26",
        "id": "GbroOBzLqE7v",
        "colab": {
          "base_uri": "https://localhost:8080/",
          "height": 35
        }
      },
      "source": [
        "test_acc\n"
      ],
      "execution_count": 145,
      "outputs": [
        {
          "output_type": "execute_result",
          "data": {
            "text/plain": [
              "0.33333333617164973"
            ]
          },
          "metadata": {
            "tags": []
          },
          "execution_count": 145
        }
      ]
    },
    {
      "cell_type": "code",
      "metadata": {
        "id": "oQV6AwSwrmDr",
        "colab_type": "code",
        "colab": {}
      },
      "source": [
        ""
      ],
      "execution_count": 0,
      "outputs": []
    }
  ]
}