{
  "nbformat": 4,
  "nbformat_minor": 0,
  "metadata": {
    "colab": {
      "name": "Merge_dataset_Network_classification_hystology.ipynb",
      "provenance": [],
      "toc_visible": true,
      "include_colab_link": true
    },
    "kernelspec": {
      "name": "python3",
      "display_name": "Python 3"
    }
  },
  "cells": [
    {
      "cell_type": "markdown",
      "metadata": {
        "id": "view-in-github",
        "colab_type": "text"
      },
      "source": [
        "<a href=\"https://colab.research.google.com/github/leonardoub/SCRIPT_PALERMO/blob/master/Merge_dataset_Network_classification_hystology.ipynb\" target=\"_parent\"><img src=\"https://colab.research.google.com/assets/colab-badge.svg\" alt=\"Open In Colab\"/></a>"
      ]
    },
    {
      "cell_type": "markdown",
      "metadata": {
        "id": "FfLmMhRwN_ua",
        "colab_type": "text"
      },
      "source": [
        "Prove mettendo insieme i due dataset. Partendo da un unico dataset e dividendolo usando train_test_split.\n",
        "\n",
        "\n",
        "\n"
      ]
    },
    {
      "cell_type": "code",
      "metadata": {
        "id": "IDYn4tlNNkCA",
        "colab_type": "code",
        "colab": {}
      },
      "source": [
        "import pandas as pd\n",
        "import numpy as np\n",
        "import matplotlib.pyplot as plt\n",
        "import scipy"
      ],
      "execution_count": 0,
      "outputs": []
    },
    {
      "cell_type": "markdown",
      "metadata": {
        "id": "ln0sTf8q1IrI",
        "colab_type": "text"
      },
      "source": [
        "#Load data"
      ]
    },
    {
      "cell_type": "code",
      "metadata": {
        "id": "lyyNl4gxhEwD",
        "colab_type": "code",
        "outputId": "6c654213-5ba2-46a8-8fbe-216aed76e283",
        "colab": {
          "base_uri": "https://localhost:8080/",
          "height": 129
        }
      },
      "source": [
        "#load data from Drive\n",
        "from google.colab import drive\n",
        "drive.mount('/gdrive')\n",
        "#%cd /gdrive"
      ],
      "execution_count": 2,
      "outputs": [
        {
          "output_type": "stream",
          "text": [
            "Go to this URL in a browser: https://accounts.google.com/o/oauth2/auth?client_id=947318989803-6bn6qk8qdgf4n4g3pfee6491hc0brc4i.apps.googleusercontent.com&redirect_uri=urn%3aietf%3awg%3aoauth%3a2.0%3aoob&response_type=code&scope=email%20https%3a%2f%2fwww.googleapis.com%2fauth%2fdocs.test%20https%3a%2f%2fwww.googleapis.com%2fauth%2fdrive%20https%3a%2f%2fwww.googleapis.com%2fauth%2fdrive.photos.readonly%20https%3a%2f%2fwww.googleapis.com%2fauth%2fpeopleapi.readonly\n",
            "\n",
            "Enter your authorization code:\n",
            "··········\n",
            "Mounted at /gdrive\n"
          ],
          "name": "stdout"
        }
      ]
    },
    {
      "cell_type": "code",
      "metadata": {
        "id": "UCkUXesZhMzg",
        "colab_type": "code",
        "colab": {}
      },
      "source": [
        "train_dataset_path = '/gdrive/My Drive/AIM_PA/database_training2.csv'\n",
        "test_dataset_path = '/gdrive/My Drive/AIM_PA/database_nostro_without_nan.csv'"
      ],
      "execution_count": 0,
      "outputs": []
    },
    {
      "cell_type": "code",
      "metadata": {
        "id": "TczPxOpEhTXw",
        "colab_type": "code",
        "colab": {}
      },
      "source": [
        "df_train = pd.read_csv(train_dataset_path)\n",
        "df_test = pd.read_csv(test_dataset_path)"
      ],
      "execution_count": 0,
      "outputs": []
    },
    {
      "cell_type": "code",
      "metadata": {
        "id": "Ll-87QSVhqhj",
        "colab_type": "code",
        "colab": {}
      },
      "source": [
        "df_train.rename(columns={'Survival.time (months)':'Surv_time_months'}, inplace=True)"
      ],
      "execution_count": 0,
      "outputs": []
    },
    {
      "cell_type": "code",
      "metadata": {
        "id": "ulSbeCedhuxJ",
        "colab_type": "code",
        "colab": {}
      },
      "source": [
        "df_test.rename(columns={'Survival.time (months)':'Surv_time_months'}, inplace=True)"
      ],
      "execution_count": 0,
      "outputs": []
    },
    {
      "cell_type": "code",
      "metadata": {
        "id": "xbcwLGg3iNSn",
        "colab_type": "code",
        "colab": {}
      },
      "source": [
        "df_train.rename(columns={'Overall.Stage':'Overall_Stage'}, inplace=True)\n",
        "df_test.rename(columns={'Overall.Stage':'Overall_Stage'}, inplace=True)"
      ],
      "execution_count": 0,
      "outputs": []
    },
    {
      "cell_type": "code",
      "metadata": {
        "id": "oKKv4iKghWWn",
        "colab_type": "code",
        "colab": {}
      },
      "source": [
        "train_data = df_train.drop(['Histology', 'Surv_time_months', 'OS', 'deadstatus.event','Overall_Stage'], axis=1)"
      ],
      "execution_count": 0,
      "outputs": []
    },
    {
      "cell_type": "code",
      "metadata": {
        "id": "vQdR4izXiT0f",
        "colab_type": "code",
        "colab": {}
      },
      "source": [
        "test_data = df_test.drop(['Histology', 'Surv_time_months', 'OS', 'deadstatus.event','Overall_Stage'], axis=1)"
      ],
      "execution_count": 0,
      "outputs": []
    },
    {
      "cell_type": "code",
      "metadata": {
        "id": "Lu46pqnPhnCG",
        "colab_type": "code",
        "colab": {}
      },
      "source": [
        "train_labels = df_train.Histology"
      ],
      "execution_count": 0,
      "outputs": []
    },
    {
      "cell_type": "code",
      "metadata": {
        "id": "aS5wIylYmsQf",
        "colab_type": "code",
        "colab": {}
      },
      "source": [
        "test_labels = df_test.Histology"
      ],
      "execution_count": 0,
      "outputs": []
    },
    {
      "cell_type": "code",
      "metadata": {
        "id": "21MJpB7HPm8P",
        "colab_type": "code",
        "colab": {}
      },
      "source": [
        "tot_data = pd.concat([train_data, test_data], axis=0)"
      ],
      "execution_count": 0,
      "outputs": []
    },
    {
      "cell_type": "code",
      "metadata": {
        "id": "01IYan5zRsyi",
        "colab_type": "code",
        "outputId": "48b1401e-4ef0-4be7-b834-5f30d12aa752",
        "colab": {
          "base_uri": "https://localhost:8080/",
          "height": 35
        }
      },
      "source": [
        "train_data.shape"
      ],
      "execution_count": 13,
      "outputs": [
        {
          "output_type": "execute_result",
          "data": {
            "text/plain": [
              "(131, 107)"
            ]
          },
          "metadata": {
            "tags": []
          },
          "execution_count": 13
        }
      ]
    },
    {
      "cell_type": "code",
      "metadata": {
        "id": "1H421egATgdD",
        "colab_type": "code",
        "outputId": "331d0996-3e48-43ac-dc11-7ac0a8bf2435",
        "colab": {
          "base_uri": "https://localhost:8080/",
          "height": 35
        }
      },
      "source": [
        "test_data.shape"
      ],
      "execution_count": 14,
      "outputs": [
        {
          "output_type": "execute_result",
          "data": {
            "text/plain": [
              "(34, 107)"
            ]
          },
          "metadata": {
            "tags": []
          },
          "execution_count": 14
        }
      ]
    },
    {
      "cell_type": "code",
      "metadata": {
        "id": "6yLhL0BxTi96",
        "colab_type": "code",
        "outputId": "0f479828-60ad-4277-8dac-712d2c9a7d18",
        "colab": {
          "base_uri": "https://localhost:8080/",
          "height": 35
        }
      },
      "source": [
        "tot_data.shape"
      ],
      "execution_count": 15,
      "outputs": [
        {
          "output_type": "execute_result",
          "data": {
            "text/plain": [
              "(165, 107)"
            ]
          },
          "metadata": {
            "tags": []
          },
          "execution_count": 15
        }
      ]
    },
    {
      "cell_type": "code",
      "metadata": {
        "id": "cisCrQrHVZfj",
        "colab_type": "code",
        "outputId": "0a89dcec-4fff-483b-bf5a-3a02c27d2758",
        "colab": {
          "base_uri": "https://localhost:8080/",
          "height": 444
        }
      },
      "source": [
        "tot_data"
      ],
      "execution_count": 16,
      "outputs": [
        {
          "output_type": "execute_result",
          "data": {
            "text/html": [
              "<div>\n",
              "<style scoped>\n",
              "    .dataframe tbody tr th:only-of-type {\n",
              "        vertical-align: middle;\n",
              "    }\n",
              "\n",
              "    .dataframe tbody tr th {\n",
              "        vertical-align: top;\n",
              "    }\n",
              "\n",
              "    .dataframe thead th {\n",
              "        text-align: right;\n",
              "    }\n",
              "</style>\n",
              "<table border=\"1\" class=\"dataframe\">\n",
              "  <thead>\n",
              "    <tr style=\"text-align: right;\">\n",
              "      <th></th>\n",
              "      <th>VoxelVolume</th>\n",
              "      <th>Maximum3DDiameter</th>\n",
              "      <th>MeshVolume</th>\n",
              "      <th>MajorAxisLength</th>\n",
              "      <th>Sphericity</th>\n",
              "      <th>LeastAxisLength</th>\n",
              "      <th>Elongation</th>\n",
              "      <th>SurfaceVolumeRatio</th>\n",
              "      <th>Maximum2DDiameterSlice</th>\n",
              "      <th>Flatness</th>\n",
              "      <th>SurfaceArea</th>\n",
              "      <th>MinorAxisLength</th>\n",
              "      <th>Maximum2DDiameterColumn</th>\n",
              "      <th>Maximum2DDiameterRow</th>\n",
              "      <th>GrayLevelVariance</th>\n",
              "      <th>HighGrayLevelEmphasis</th>\n",
              "      <th>DependenceEntropy</th>\n",
              "      <th>DependenceNonUniformity</th>\n",
              "      <th>GrayLevelNonUniformity</th>\n",
              "      <th>SmallDependenceEmphasis</th>\n",
              "      <th>SmallDependenceHighGrayLevelEmphasis</th>\n",
              "      <th>DependenceNonUniformityNormalized</th>\n",
              "      <th>LargeDependenceEmphasis</th>\n",
              "      <th>LargeDependenceLowGrayLevelEmphasis</th>\n",
              "      <th>DependenceVariance</th>\n",
              "      <th>LargeDependenceHighGrayLevelEmphasis</th>\n",
              "      <th>SmallDependenceLowGrayLevelEmphasis</th>\n",
              "      <th>LowGrayLevelEmphasis</th>\n",
              "      <th>JointAverage</th>\n",
              "      <th>SumAverage</th>\n",
              "      <th>JointEntropy</th>\n",
              "      <th>ClusterShade</th>\n",
              "      <th>MaximumProbability</th>\n",
              "      <th>Idmn</th>\n",
              "      <th>JointEnergy</th>\n",
              "      <th>Contrast</th>\n",
              "      <th>DifferenceEntropy</th>\n",
              "      <th>InverseVariance</th>\n",
              "      <th>DifferenceVariance</th>\n",
              "      <th>Idn</th>\n",
              "      <th>...</th>\n",
              "      <th>10Percentile</th>\n",
              "      <th>Kurtosis</th>\n",
              "      <th>Mean</th>\n",
              "      <th>ShortRunLowGrayLevelEmphasis</th>\n",
              "      <th>GrayLevelVariance.1</th>\n",
              "      <th>LowGrayLevelRunEmphasis</th>\n",
              "      <th>GrayLevelNonUniformityNormalized</th>\n",
              "      <th>RunVariance</th>\n",
              "      <th>GrayLevelNonUniformity.1</th>\n",
              "      <th>LongRunEmphasis</th>\n",
              "      <th>ShortRunHighGrayLevelEmphasis</th>\n",
              "      <th>RunLengthNonUniformity</th>\n",
              "      <th>ShortRunEmphasis</th>\n",
              "      <th>LongRunHighGrayLevelEmphasis</th>\n",
              "      <th>RunPercentage</th>\n",
              "      <th>LongRunLowGrayLevelEmphasis</th>\n",
              "      <th>RunEntropy</th>\n",
              "      <th>HighGrayLevelRunEmphasis</th>\n",
              "      <th>RunLengthNonUniformityNormalized</th>\n",
              "      <th>GrayLevelVariance.2</th>\n",
              "      <th>ZoneVariance</th>\n",
              "      <th>GrayLevelNonUniformityNormalized.1</th>\n",
              "      <th>SizeZoneNonUniformityNormalized</th>\n",
              "      <th>SizeZoneNonUniformity</th>\n",
              "      <th>GrayLevelNonUniformity.2</th>\n",
              "      <th>LargeAreaEmphasis</th>\n",
              "      <th>SmallAreaHighGrayLevelEmphasis</th>\n",
              "      <th>ZonePercentage</th>\n",
              "      <th>LargeAreaLowGrayLevelEmphasis</th>\n",
              "      <th>LargeAreaHighGrayLevelEmphasis</th>\n",
              "      <th>HighGrayLevelZoneEmphasis</th>\n",
              "      <th>SmallAreaEmphasis</th>\n",
              "      <th>LowGrayLevelZoneEmphasis</th>\n",
              "      <th>ZoneEntropy</th>\n",
              "      <th>SmallAreaLowGrayLevelEmphasis</th>\n",
              "      <th>Coarseness</th>\n",
              "      <th>Complexity</th>\n",
              "      <th>Strength</th>\n",
              "      <th>Contrast.1</th>\n",
              "      <th>Busyness</th>\n",
              "    </tr>\n",
              "  </thead>\n",
              "  <tbody>\n",
              "    <tr>\n",
              "      <th>0</th>\n",
              "      <td>51905.377962</td>\n",
              "      <td>66.288317</td>\n",
              "      <td>51847.748274</td>\n",
              "      <td>50.574214</td>\n",
              "      <td>0.649258</td>\n",
              "      <td>37.884620</td>\n",
              "      <td>0.821088</td>\n",
              "      <td>0.199752</td>\n",
              "      <td>63.135672</td>\n",
              "      <td>0.749090</td>\n",
              "      <td>10356.675894</td>\n",
              "      <td>41.525899</td>\n",
              "      <td>65.067279</td>\n",
              "      <td>55.325619</td>\n",
              "      <td>12.481889</td>\n",
              "      <td>1084.854684</td>\n",
              "      <td>5.949646</td>\n",
              "      <td>918.046673</td>\n",
              "      <td>5312.127441</td>\n",
              "      <td>0.122582</td>\n",
              "      <td>97.652454</td>\n",
              "      <td>0.050648</td>\n",
              "      <td>141.807349</td>\n",
              "      <td>0.124010</td>\n",
              "      <td>42.380287</td>\n",
              "      <td>163828.301666</td>\n",
              "      <td>0.000266</td>\n",
              "      <td>0.001208</td>\n",
              "      <td>33.190463</td>\n",
              "      <td>66.380925</td>\n",
              "      <td>4.331076</td>\n",
              "      <td>-475.448161</td>\n",
              "      <td>0.308299</td>\n",
              "      <td>0.994676</td>\n",
              "      <td>0.133643</td>\n",
              "      <td>8.029403</td>\n",
              "      <td>2.169232</td>\n",
              "      <td>0.424312</td>\n",
              "      <td>6.065116</td>\n",
              "      <td>0.967009</td>\n",
              "      <td>...</td>\n",
              "      <td>-75.0</td>\n",
              "      <td>17.777521</td>\n",
              "      <td>5.650502</td>\n",
              "      <td>0.001166</td>\n",
              "      <td>17.478141</td>\n",
              "      <td>0.001372</td>\n",
              "      <td>0.192540</td>\n",
              "      <td>1.399893</td>\n",
              "      <td>2288.112500</td>\n",
              "      <td>3.749302</td>\n",
              "      <td>793.234742</td>\n",
              "      <td>6675.859117</td>\n",
              "      <td>0.776723</td>\n",
              "      <td>4220.221337</td>\n",
              "      <td>0.654950</td>\n",
              "      <td>0.003806</td>\n",
              "      <td>4.209293</td>\n",
              "      <td>1049.544424</td>\n",
              "      <td>0.560736</td>\n",
              "      <td>34.869500</td>\n",
              "      <td>42116.076135</td>\n",
              "      <td>0.060025</td>\n",
              "      <td>0.517739</td>\n",
              "      <td>1145.238698</td>\n",
              "      <td>132.775769</td>\n",
              "      <td>42183.224231</td>\n",
              "      <td>540.316964</td>\n",
              "      <td>0.122035</td>\n",
              "      <td>36.510775</td>\n",
              "      <td>4.877236e+07</td>\n",
              "      <td>751.520796</td>\n",
              "      <td>0.747563</td>\n",
              "      <td>0.002453</td>\n",
              "      <td>5.741322</td>\n",
              "      <td>0.001663</td>\n",
              "      <td>0.000357</td>\n",
              "      <td>928.016789</td>\n",
              "      <td>1.153806</td>\n",
              "      <td>0.020920</td>\n",
              "      <td>1.306338</td>\n",
              "    </tr>\n",
              "    <tr>\n",
              "      <th>1</th>\n",
              "      <td>13432.502747</td>\n",
              "      <td>58.057539</td>\n",
              "      <td>13312.697411</td>\n",
              "      <td>48.354803</td>\n",
              "      <td>0.572236</td>\n",
              "      <td>18.135097</td>\n",
              "      <td>0.546338</td>\n",
              "      <td>0.356577</td>\n",
              "      <td>40.146103</td>\n",
              "      <td>0.375042</td>\n",
              "      <td>4747.006589</td>\n",
              "      <td>26.418066</td>\n",
              "      <td>32.760898</td>\n",
              "      <td>56.652510</td>\n",
              "      <td>60.615944</td>\n",
              "      <td>1076.589137</td>\n",
              "      <td>7.130906</td>\n",
              "      <td>595.667519</td>\n",
              "      <td>351.846858</td>\n",
              "      <td>0.307871</td>\n",
              "      <td>239.202712</td>\n",
              "      <td>0.126873</td>\n",
              "      <td>32.011715</td>\n",
              "      <td>0.031426</td>\n",
              "      <td>12.612334</td>\n",
              "      <td>41890.348882</td>\n",
              "      <td>0.001812</td>\n",
              "      <td>0.003214</td>\n",
              "      <td>33.522040</td>\n",
              "      <td>67.044080</td>\n",
              "      <td>7.487967</td>\n",
              "      <td>-2829.110940</td>\n",
              "      <td>0.055759</td>\n",
              "      <td>0.985695</td>\n",
              "      <td>0.015596</td>\n",
              "      <td>38.337756</td>\n",
              "      <td>3.408960</td>\n",
              "      <td>0.322015</td>\n",
              "      <td>23.246287</td>\n",
              "      <td>0.935189</td>\n",
              "      <td>...</td>\n",
              "      <td>-397.0</td>\n",
              "      <td>5.224099</td>\n",
              "      <td>-91.310969</td>\n",
              "      <td>0.003404</td>\n",
              "      <td>65.432452</td>\n",
              "      <td>0.003524</td>\n",
              "      <td>0.064158</td>\n",
              "      <td>0.230922</td>\n",
              "      <td>262.139314</td>\n",
              "      <td>1.567042</td>\n",
              "      <td>926.829706</td>\n",
              "      <td>3237.676584</td>\n",
              "      <td>0.908183</td>\n",
              "      <td>1777.017297</td>\n",
              "      <td>0.869059</td>\n",
              "      <td>0.004164</td>\n",
              "      <td>5.072184</td>\n",
              "      <td>1044.275778</td>\n",
              "      <td>0.790377</td>\n",
              "      <td>84.615342</td>\n",
              "      <td>598.216508</td>\n",
              "      <td>0.033349</td>\n",
              "      <td>0.543736</td>\n",
              "      <td>843.878866</td>\n",
              "      <td>51.757732</td>\n",
              "      <td>607.367912</td>\n",
              "      <td>543.633876</td>\n",
              "      <td>0.330564</td>\n",
              "      <td>0.465530</td>\n",
              "      <td>8.137725e+05</td>\n",
              "      <td>763.567010</td>\n",
              "      <td>0.764879</td>\n",
              "      <td>0.006307</td>\n",
              "      <td>6.451087</td>\n",
              "      <td>0.004959</td>\n",
              "      <td>0.001680</td>\n",
              "      <td>2944.805484</td>\n",
              "      <td>2.266070</td>\n",
              "      <td>0.146173</td>\n",
              "      <td>0.253533</td>\n",
              "    </tr>\n",
              "    <tr>\n",
              "      <th>2</th>\n",
              "      <td>25843.872675</td>\n",
              "      <td>52.918217</td>\n",
              "      <td>25724.437234</td>\n",
              "      <td>39.406474</td>\n",
              "      <td>0.675497</td>\n",
              "      <td>28.487740</td>\n",
              "      <td>0.891907</td>\n",
              "      <td>0.242519</td>\n",
              "      <td>46.415213</td>\n",
              "      <td>0.722920</td>\n",
              "      <td>6238.658603</td>\n",
              "      <td>35.146929</td>\n",
              "      <td>47.180420</td>\n",
              "      <td>46.322906</td>\n",
              "      <td>55.064124</td>\n",
              "      <td>1131.900166</td>\n",
              "      <td>6.932158</td>\n",
              "      <td>844.783490</td>\n",
              "      <td>1023.136953</td>\n",
              "      <td>0.253452</td>\n",
              "      <td>192.059998</td>\n",
              "      <td>0.093605</td>\n",
              "      <td>57.855402</td>\n",
              "      <td>0.045979</td>\n",
              "      <td>22.286238</td>\n",
              "      <td>79266.271357</td>\n",
              "      <td>0.000812</td>\n",
              "      <td>0.001864</td>\n",
              "      <td>34.046184</td>\n",
              "      <td>68.092368</td>\n",
              "      <td>6.796695</td>\n",
              "      <td>-3133.512010</td>\n",
              "      <td>0.106695</td>\n",
              "      <td>0.984515</td>\n",
              "      <td>0.033042</td>\n",
              "      <td>32.375097</td>\n",
              "      <td>3.182144</td>\n",
              "      <td>0.362633</td>\n",
              "      <td>21.028555</td>\n",
              "      <td>0.936889</td>\n",
              "      <td>...</td>\n",
              "      <td>-363.0</td>\n",
              "      <td>5.387644</td>\n",
              "      <td>-67.724986</td>\n",
              "      <td>0.001973</td>\n",
              "      <td>61.733697</td>\n",
              "      <td>0.002096</td>\n",
              "      <td>0.085594</td>\n",
              "      <td>0.426431</td>\n",
              "      <td>626.125860</td>\n",
              "      <td>1.968083</td>\n",
              "      <td>906.575851</td>\n",
              "      <td>5266.417163</td>\n",
              "      <td>0.870954</td>\n",
              "      <td>2393.005796</td>\n",
              "      <td>0.809077</td>\n",
              "      <td>0.002930</td>\n",
              "      <td>4.968901</td>\n",
              "      <td>1079.567623</td>\n",
              "      <td>0.718481</td>\n",
              "      <td>68.928494</td>\n",
              "      <td>3157.415098</td>\n",
              "      <td>0.036760</td>\n",
              "      <td>0.531612</td>\n",
              "      <td>1319.991542</td>\n",
              "      <td>91.276279</td>\n",
              "      <td>3170.626259</td>\n",
              "      <td>525.709823</td>\n",
              "      <td>0.275125</td>\n",
              "      <td>2.306913</td>\n",
              "      <td>4.377395e+06</td>\n",
              "      <td>732.877970</td>\n",
              "      <td>0.757392</td>\n",
              "      <td>0.003456</td>\n",
              "      <td>6.294554</td>\n",
              "      <td>0.002520</td>\n",
              "      <td>0.000745</td>\n",
              "      <td>2146.780339</td>\n",
              "      <td>1.238883</td>\n",
              "      <td>0.152919</td>\n",
              "      <td>0.611772</td>\n",
              "    </tr>\n",
              "    <tr>\n",
              "      <th>3</th>\n",
              "      <td>22152.709032</td>\n",
              "      <td>46.635312</td>\n",
              "      <td>22099.016776</td>\n",
              "      <td>38.640414</td>\n",
              "      <td>0.733411</td>\n",
              "      <td>28.129382</td>\n",
              "      <td>0.754141</td>\n",
              "      <td>0.234970</td>\n",
              "      <td>39.274914</td>\n",
              "      <td>0.727978</td>\n",
              "      <td>5192.604222</td>\n",
              "      <td>29.140329</td>\n",
              "      <td>41.329017</td>\n",
              "      <td>46.543116</td>\n",
              "      <td>103.453079</td>\n",
              "      <td>1089.937565</td>\n",
              "      <td>7.205471</td>\n",
              "      <td>1087.724664</td>\n",
              "      <td>511.504912</td>\n",
              "      <td>0.336024</td>\n",
              "      <td>249.889273</td>\n",
              "      <td>0.140606</td>\n",
              "      <td>29.391158</td>\n",
              "      <td>0.026374</td>\n",
              "      <td>11.821883</td>\n",
              "      <td>42717.634566</td>\n",
              "      <td>0.001570</td>\n",
              "      <td>0.002693</td>\n",
              "      <td>33.073644</td>\n",
              "      <td>66.147288</td>\n",
              "      <td>8.211500</td>\n",
              "      <td>-5741.187919</td>\n",
              "      <td>0.049759</td>\n",
              "      <td>0.975646</td>\n",
              "      <td>0.012491</td>\n",
              "      <td>58.811721</td>\n",
              "      <td>3.729477</td>\n",
              "      <td>0.290187</td>\n",
              "      <td>33.232290</td>\n",
              "      <td>0.913791</td>\n",
              "      <td>...</td>\n",
              "      <td>-528.5</td>\n",
              "      <td>2.714807</td>\n",
              "      <td>-102.779860</td>\n",
              "      <td>0.002828</td>\n",
              "      <td>107.887272</td>\n",
              "      <td>0.002923</td>\n",
              "      <td>0.054549</td>\n",
              "      <td>0.203221</td>\n",
              "      <td>370.362301</td>\n",
              "      <td>1.505960</td>\n",
              "      <td>924.243802</td>\n",
              "      <td>5447.401203</td>\n",
              "      <td>0.914390</td>\n",
              "      <td>1765.537152</td>\n",
              "      <td>0.877247</td>\n",
              "      <td>0.003439</td>\n",
              "      <td>5.297660</td>\n",
              "      <td>1044.150138</td>\n",
              "      <td>0.801694</td>\n",
              "      <td>100.015880</td>\n",
              "      <td>989.809275</td>\n",
              "      <td>0.028357</td>\n",
              "      <td>0.545916</td>\n",
              "      <td>1549.308668</td>\n",
              "      <td>80.477097</td>\n",
              "      <td>997.239605</td>\n",
              "      <td>527.497142</td>\n",
              "      <td>0.366856</td>\n",
              "      <td>0.671664</td>\n",
              "      <td>1.506307e+06</td>\n",
              "      <td>713.093023</td>\n",
              "      <td>0.767331</td>\n",
              "      <td>0.004730</td>\n",
              "      <td>6.545703</td>\n",
              "      <td>0.003888</td>\n",
              "      <td>0.000896</td>\n",
              "      <td>3136.738970</td>\n",
              "      <td>1.157976</td>\n",
              "      <td>0.351327</td>\n",
              "      <td>0.564313</td>\n",
              "    </tr>\n",
              "    <tr>\n",
              "      <th>4</th>\n",
              "      <td>119385.805617</td>\n",
              "      <td>92.436320</td>\n",
              "      <td>119150.752851</td>\n",
              "      <td>75.629327</td>\n",
              "      <td>0.617296</td>\n",
              "      <td>47.029423</td>\n",
              "      <td>0.722141</td>\n",
              "      <td>0.159206</td>\n",
              "      <td>76.960070</td>\n",
              "      <td>0.621841</td>\n",
              "      <td>18969.476942</td>\n",
              "      <td>54.615019</td>\n",
              "      <td>83.612205</td>\n",
              "      <td>70.719598</td>\n",
              "      <td>67.305748</td>\n",
              "      <td>1445.561800</td>\n",
              "      <td>7.263383</td>\n",
              "      <td>4562.726560</td>\n",
              "      <td>3232.154350</td>\n",
              "      <td>0.241385</td>\n",
              "      <td>264.764085</td>\n",
              "      <td>0.109442</td>\n",
              "      <td>37.885083</td>\n",
              "      <td>0.028865</td>\n",
              "      <td>14.368248</td>\n",
              "      <td>66795.832602</td>\n",
              "      <td>0.000468</td>\n",
              "      <td>0.001482</td>\n",
              "      <td>37.463123</td>\n",
              "      <td>74.926246</td>\n",
              "      <td>7.979356</td>\n",
              "      <td>-5754.693763</td>\n",
              "      <td>0.063232</td>\n",
              "      <td>0.987519</td>\n",
              "      <td>0.014054</td>\n",
              "      <td>41.318562</td>\n",
              "      <td>3.487282</td>\n",
              "      <td>0.313702</td>\n",
              "      <td>24.584485</td>\n",
              "      <td>0.938581</td>\n",
              "      <td>...</td>\n",
              "      <td>-420.0</td>\n",
              "      <td>5.711559</td>\n",
              "      <td>-109.918927</td>\n",
              "      <td>0.001473</td>\n",
              "      <td>71.446292</td>\n",
              "      <td>0.001577</td>\n",
              "      <td>0.065239</td>\n",
              "      <td>0.280825</td>\n",
              "      <td>2318.917381</td>\n",
              "      <td>1.665599</td>\n",
              "      <td>1227.793946</td>\n",
              "      <td>27327.614966</td>\n",
              "      <td>0.897233</td>\n",
              "      <td>2548.311647</td>\n",
              "      <td>0.851946</td>\n",
              "      <td>0.002165</td>\n",
              "      <td>5.115966</td>\n",
              "      <td>1400.205550</td>\n",
              "      <td>0.767543</td>\n",
              "      <td>82.273203</td>\n",
              "      <td>7062.537600</td>\n",
              "      <td>0.034543</td>\n",
              "      <td>0.445967</td>\n",
              "      <td>4857.474477</td>\n",
              "      <td>376.237055</td>\n",
              "      <td>7077.188671</td>\n",
              "      <td>703.114744</td>\n",
              "      <td>0.261255</td>\n",
              "      <td>3.905480</td>\n",
              "      <td>1.289007e+07</td>\n",
              "      <td>1048.831160</td>\n",
              "      <td>0.694399</td>\n",
              "      <td>0.002179</td>\n",
              "      <td>6.849399</td>\n",
              "      <td>0.001365</td>\n",
              "      <td>0.000186</td>\n",
              "      <td>3368.646263</td>\n",
              "      <td>0.390430</td>\n",
              "      <td>0.132602</td>\n",
              "      <td>1.804351</td>\n",
              "    </tr>\n",
              "    <tr>\n",
              "      <th>...</th>\n",
              "      <td>...</td>\n",
              "      <td>...</td>\n",
              "      <td>...</td>\n",
              "      <td>...</td>\n",
              "      <td>...</td>\n",
              "      <td>...</td>\n",
              "      <td>...</td>\n",
              "      <td>...</td>\n",
              "      <td>...</td>\n",
              "      <td>...</td>\n",
              "      <td>...</td>\n",
              "      <td>...</td>\n",
              "      <td>...</td>\n",
              "      <td>...</td>\n",
              "      <td>...</td>\n",
              "      <td>...</td>\n",
              "      <td>...</td>\n",
              "      <td>...</td>\n",
              "      <td>...</td>\n",
              "      <td>...</td>\n",
              "      <td>...</td>\n",
              "      <td>...</td>\n",
              "      <td>...</td>\n",
              "      <td>...</td>\n",
              "      <td>...</td>\n",
              "      <td>...</td>\n",
              "      <td>...</td>\n",
              "      <td>...</td>\n",
              "      <td>...</td>\n",
              "      <td>...</td>\n",
              "      <td>...</td>\n",
              "      <td>...</td>\n",
              "      <td>...</td>\n",
              "      <td>...</td>\n",
              "      <td>...</td>\n",
              "      <td>...</td>\n",
              "      <td>...</td>\n",
              "      <td>...</td>\n",
              "      <td>...</td>\n",
              "      <td>...</td>\n",
              "      <td>...</td>\n",
              "      <td>...</td>\n",
              "      <td>...</td>\n",
              "      <td>...</td>\n",
              "      <td>...</td>\n",
              "      <td>...</td>\n",
              "      <td>...</td>\n",
              "      <td>...</td>\n",
              "      <td>...</td>\n",
              "      <td>...</td>\n",
              "      <td>...</td>\n",
              "      <td>...</td>\n",
              "      <td>...</td>\n",
              "      <td>...</td>\n",
              "      <td>...</td>\n",
              "      <td>...</td>\n",
              "      <td>...</td>\n",
              "      <td>...</td>\n",
              "      <td>...</td>\n",
              "      <td>...</td>\n",
              "      <td>...</td>\n",
              "      <td>...</td>\n",
              "      <td>...</td>\n",
              "      <td>...</td>\n",
              "      <td>...</td>\n",
              "      <td>...</td>\n",
              "      <td>...</td>\n",
              "      <td>...</td>\n",
              "      <td>...</td>\n",
              "      <td>...</td>\n",
              "      <td>...</td>\n",
              "      <td>...</td>\n",
              "      <td>...</td>\n",
              "      <td>...</td>\n",
              "      <td>...</td>\n",
              "      <td>...</td>\n",
              "      <td>...</td>\n",
              "      <td>...</td>\n",
              "      <td>...</td>\n",
              "      <td>...</td>\n",
              "      <td>...</td>\n",
              "    </tr>\n",
              "    <tr>\n",
              "      <th>29</th>\n",
              "      <td>6592.266962</td>\n",
              "      <td>33.622119</td>\n",
              "      <td>6525.211805</td>\n",
              "      <td>26.483717</td>\n",
              "      <td>0.737649</td>\n",
              "      <td>16.326688</td>\n",
              "      <td>0.854215</td>\n",
              "      <td>0.350835</td>\n",
              "      <td>27.010370</td>\n",
              "      <td>0.616480</td>\n",
              "      <td>2289.271748</td>\n",
              "      <td>22.622792</td>\n",
              "      <td>32.335274</td>\n",
              "      <td>29.352647</td>\n",
              "      <td>21.910855</td>\n",
              "      <td>602.049910</td>\n",
              "      <td>6.617736</td>\n",
              "      <td>193.040506</td>\n",
              "      <td>462.455335</td>\n",
              "      <td>0.198303</td>\n",
              "      <td>78.741854</td>\n",
              "      <td>0.069816</td>\n",
              "      <td>94.932731</td>\n",
              "      <td>0.140683</td>\n",
              "      <td>35.081663</td>\n",
              "      <td>67119.461845</td>\n",
              "      <td>0.001239</td>\n",
              "      <td>0.003445</td>\n",
              "      <td>24.859564</td>\n",
              "      <td>49.719128</td>\n",
              "      <td>5.549785</td>\n",
              "      <td>-810.250238</td>\n",
              "      <td>0.148434</td>\n",
              "      <td>0.986138</td>\n",
              "      <td>0.062119</td>\n",
              "      <td>13.257631</td>\n",
              "      <td>2.653226</td>\n",
              "      <td>0.384951</td>\n",
              "      <td>8.884155</td>\n",
              "      <td>0.941150</td>\n",
              "      <td>...</td>\n",
              "      <td>-224.0</td>\n",
              "      <td>7.373263</td>\n",
              "      <td>-38.508861</td>\n",
              "      <td>0.003801</td>\n",
              "      <td>26.164917</td>\n",
              "      <td>0.004100</td>\n",
              "      <td>0.122205</td>\n",
              "      <td>0.816527</td>\n",
              "      <td>252.082403</td>\n",
              "      <td>2.689565</td>\n",
              "      <td>450.205653</td>\n",
              "      <td>1334.853146</td>\n",
              "      <td>0.829559</td>\n",
              "      <td>1752.475726</td>\n",
              "      <td>0.740910</td>\n",
              "      <td>0.006731</td>\n",
              "      <td>4.573485</td>\n",
              "      <td>567.808195</td>\n",
              "      <td>0.646468</td>\n",
              "      <td>30.944145</td>\n",
              "      <td>1838.790622</td>\n",
              "      <td>0.057837</td>\n",
              "      <td>0.487234</td>\n",
              "      <td>295.264026</td>\n",
              "      <td>35.049505</td>\n",
              "      <td>1859.608911</td>\n",
              "      <td>263.012843</td>\n",
              "      <td>0.219168</td>\n",
              "      <td>2.665039</td>\n",
              "      <td>1.307177e+06</td>\n",
              "      <td>385.825083</td>\n",
              "      <td>0.724813</td>\n",
              "      <td>0.007286</td>\n",
              "      <td>5.736757</td>\n",
              "      <td>0.004595</td>\n",
              "      <td>0.002543</td>\n",
              "      <td>645.520499</td>\n",
              "      <td>2.322894</td>\n",
              "      <td>0.085026</td>\n",
              "      <td>0.359230</td>\n",
              "    </tr>\n",
              "    <tr>\n",
              "      <th>30</th>\n",
              "      <td>3010.031479</td>\n",
              "      <td>29.286452</td>\n",
              "      <td>2976.851594</td>\n",
              "      <td>24.737747</td>\n",
              "      <td>0.653423</td>\n",
              "      <td>12.466119</td>\n",
              "      <td>0.668128</td>\n",
              "      <td>0.514483</td>\n",
              "      <td>23.150905</td>\n",
              "      <td>0.503931</td>\n",
              "      <td>1531.539258</td>\n",
              "      <td>16.527972</td>\n",
              "      <td>27.610305</td>\n",
              "      <td>26.839660</td>\n",
              "      <td>62.881425</td>\n",
              "      <td>869.396436</td>\n",
              "      <td>6.867420</td>\n",
              "      <td>345.579802</td>\n",
              "      <td>201.369901</td>\n",
              "      <td>0.339958</td>\n",
              "      <td>195.491748</td>\n",
              "      <td>0.136863</td>\n",
              "      <td>53.888713</td>\n",
              "      <td>0.047515</td>\n",
              "      <td>26.381284</td>\n",
              "      <td>65473.407525</td>\n",
              "      <td>0.001582</td>\n",
              "      <td>0.002506</td>\n",
              "      <td>29.963303</td>\n",
              "      <td>59.926606</td>\n",
              "      <td>7.422073</td>\n",
              "      <td>-2502.214292</td>\n",
              "      <td>0.108583</td>\n",
              "      <td>0.975065</td>\n",
              "      <td>0.024723</td>\n",
              "      <td>38.641415</td>\n",
              "      <td>3.546610</td>\n",
              "      <td>0.281848</td>\n",
              "      <td>21.558304</td>\n",
              "      <td>0.910929</td>\n",
              "      <td>...</td>\n",
              "      <td>-471.6</td>\n",
              "      <td>2.851107</td>\n",
              "      <td>-153.137426</td>\n",
              "      <td>0.002704</td>\n",
              "      <td>64.774609</td>\n",
              "      <td>0.002809</td>\n",
              "      <td>0.056870</td>\n",
              "      <td>0.377849</td>\n",
              "      <td>120.266506</td>\n",
              "      <td>1.809069</td>\n",
              "      <td>689.951676</td>\n",
              "      <td>1625.228381</td>\n",
              "      <td>0.897161</td>\n",
              "      <td>1774.442365</td>\n",
              "      <td>0.836740</td>\n",
              "      <td>0.003555</td>\n",
              "      <td>5.118256</td>\n",
              "      <td>808.826968</td>\n",
              "      <td>0.768649</td>\n",
              "      <td>54.608361</td>\n",
              "      <td>364.145936</td>\n",
              "      <td>0.038857</td>\n",
              "      <td>0.528923</td>\n",
              "      <td>510.939959</td>\n",
              "      <td>37.536232</td>\n",
              "      <td>370.978261</td>\n",
              "      <td>407.183237</td>\n",
              "      <td>0.382574</td>\n",
              "      <td>0.307757</td>\n",
              "      <td>4.555961e+05</td>\n",
              "      <td>570.265010</td>\n",
              "      <td>0.755454</td>\n",
              "      <td>0.004471</td>\n",
              "      <td>6.087835</td>\n",
              "      <td>0.003856</td>\n",
              "      <td>0.002895</td>\n",
              "      <td>1472.717438</td>\n",
              "      <td>2.379395</td>\n",
              "      <td>0.295357</td>\n",
              "      <td>0.263438</td>\n",
              "    </tr>\n",
              "    <tr>\n",
              "      <th>31</th>\n",
              "      <td>8683.195759</td>\n",
              "      <td>49.195074</td>\n",
              "      <td>8611.074213</td>\n",
              "      <td>46.624467</td>\n",
              "      <td>0.641262</td>\n",
              "      <td>14.348828</td>\n",
              "      <td>0.438028</td>\n",
              "      <td>0.367928</td>\n",
              "      <td>31.523446</td>\n",
              "      <td>0.307753</td>\n",
              "      <td>3168.257409</td>\n",
              "      <td>20.422841</td>\n",
              "      <td>34.268292</td>\n",
              "      <td>37.102042</td>\n",
              "      <td>153.099954</td>\n",
              "      <td>738.203185</td>\n",
              "      <td>7.378490</td>\n",
              "      <td>847.045579</td>\n",
              "      <td>105.449204</td>\n",
              "      <td>0.443610</td>\n",
              "      <td>264.767425</td>\n",
              "      <td>0.232577</td>\n",
              "      <td>16.744097</td>\n",
              "      <td>0.124622</td>\n",
              "      <td>8.324220</td>\n",
              "      <td>22337.763317</td>\n",
              "      <td>0.003096</td>\n",
              "      <td>0.009583</td>\n",
              "      <td>25.523890</td>\n",
              "      <td>51.047781</td>\n",
              "      <td>9.676885</td>\n",
              "      <td>-2020.290555</td>\n",
              "      <td>0.026769</td>\n",
              "      <td>0.963103</td>\n",
              "      <td>0.002806</td>\n",
              "      <td>96.669264</td>\n",
              "      <td>4.273414</td>\n",
              "      <td>0.174092</td>\n",
              "      <td>40.625092</td>\n",
              "      <td>0.880158</td>\n",
              "      <td>...</td>\n",
              "      <td>-829.0</td>\n",
              "      <td>1.626201</td>\n",
              "      <td>-408.424767</td>\n",
              "      <td>0.008992</td>\n",
              "      <td>146.665900</td>\n",
              "      <td>0.009519</td>\n",
              "      <td>0.027008</td>\n",
              "      <td>0.124834</td>\n",
              "      <td>91.216703</td>\n",
              "      <td>1.292427</td>\n",
              "      <td>654.187277</td>\n",
              "      <td>2977.335607</td>\n",
              "      <td>0.950812</td>\n",
              "      <td>1057.363734</td>\n",
              "      <td>0.926858</td>\n",
              "      <td>0.012501</td>\n",
              "      <td>5.643852</td>\n",
              "      <td>706.485685</td>\n",
              "      <td>0.880887</td>\n",
              "      <td>108.879134</td>\n",
              "      <td>36.053791</td>\n",
              "      <td>0.026627</td>\n",
              "      <td>0.500224</td>\n",
              "      <td>931.916801</td>\n",
              "      <td>49.605475</td>\n",
              "      <td>39.875470</td>\n",
              "      <td>425.432967</td>\n",
              "      <td>0.511532</td>\n",
              "      <td>0.172971</td>\n",
              "      <td>5.926173e+04</td>\n",
              "      <td>592.454106</td>\n",
              "      <td>0.735138</td>\n",
              "      <td>0.007341</td>\n",
              "      <td>6.687140</td>\n",
              "      <td>0.004549</td>\n",
              "      <td>0.002252</td>\n",
              "      <td>4040.182819</td>\n",
              "      <td>2.076410</td>\n",
              "      <td>0.594629</td>\n",
              "      <td>0.392208</td>\n",
              "    </tr>\n",
              "    <tr>\n",
              "      <th>32</th>\n",
              "      <td>25939.914844</td>\n",
              "      <td>57.067095</td>\n",
              "      <td>25839.679802</td>\n",
              "      <td>51.745408</td>\n",
              "      <td>0.692948</td>\n",
              "      <td>26.633569</td>\n",
              "      <td>0.617498</td>\n",
              "      <td>0.236059</td>\n",
              "      <td>40.700499</td>\n",
              "      <td>0.514704</td>\n",
              "      <td>6099.697734</td>\n",
              "      <td>31.952700</td>\n",
              "      <td>41.839289</td>\n",
              "      <td>56.857818</td>\n",
              "      <td>32.995425</td>\n",
              "      <td>1449.528401</td>\n",
              "      <td>6.634924</td>\n",
              "      <td>576.773713</td>\n",
              "      <td>2560.111765</td>\n",
              "      <td>0.161550</td>\n",
              "      <td>157.459073</td>\n",
              "      <td>0.053012</td>\n",
              "      <td>163.638419</td>\n",
              "      <td>0.102321</td>\n",
              "      <td>53.465611</td>\n",
              "      <td>264022.398805</td>\n",
              "      <td>0.000435</td>\n",
              "      <td>0.001059</td>\n",
              "      <td>38.286575</td>\n",
              "      <td>76.573150</td>\n",
              "      <td>5.054850</td>\n",
              "      <td>-2238.871210</td>\n",
              "      <td>0.270459</td>\n",
              "      <td>0.991175</td>\n",
              "      <td>0.109092</td>\n",
              "      <td>17.532514</td>\n",
              "      <td>2.535238</td>\n",
              "      <td>0.343561</td>\n",
              "      <td>13.345420</td>\n",
              "      <td>0.959707</td>\n",
              "      <td>...</td>\n",
              "      <td>-218.0</td>\n",
              "      <td>11.861095</td>\n",
              "      <td>-47.050460</td>\n",
              "      <td>0.001156</td>\n",
              "      <td>45.643158</td>\n",
              "      <td>0.001308</td>\n",
              "      <td>0.141440</td>\n",
              "      <td>1.736298</td>\n",
              "      <td>985.371574</td>\n",
              "      <td>4.294691</td>\n",
              "      <td>989.771419</td>\n",
              "      <td>3814.874403</td>\n",
              "      <td>0.768468</td>\n",
              "      <td>6660.476094</td>\n",
              "      <td>0.634757</td>\n",
              "      <td>0.003383</td>\n",
              "      <td>4.836890</td>\n",
              "      <td>1358.562247</td>\n",
              "      <td>0.549125</td>\n",
              "      <td>64.574608</td>\n",
              "      <td>13539.270699</td>\n",
              "      <td>0.045526</td>\n",
              "      <td>0.520480</td>\n",
              "      <td>994.636839</td>\n",
              "      <td>87.001047</td>\n",
              "      <td>13571.684982</td>\n",
              "      <td>678.036010</td>\n",
              "      <td>0.175643</td>\n",
              "      <td>8.433580</td>\n",
              "      <td>2.185777e+07</td>\n",
              "      <td>955.398744</td>\n",
              "      <td>0.749551</td>\n",
              "      <td>0.002669</td>\n",
              "      <td>6.114671</td>\n",
              "      <td>0.002276</td>\n",
              "      <td>0.000555</td>\n",
              "      <td>1541.581036</td>\n",
              "      <td>2.194039</td>\n",
              "      <td>0.059377</td>\n",
              "      <td>0.658985</td>\n",
              "    </tr>\n",
              "    <tr>\n",
              "      <th>33</th>\n",
              "      <td>73401.852784</td>\n",
              "      <td>73.105484</td>\n",
              "      <td>73287.411984</td>\n",
              "      <td>64.560114</td>\n",
              "      <td>0.791968</td>\n",
              "      <td>36.748716</td>\n",
              "      <td>0.681059</td>\n",
              "      <td>0.145915</td>\n",
              "      <td>52.860788</td>\n",
              "      <td>0.569217</td>\n",
              "      <td>10693.735802</td>\n",
              "      <td>43.969247</td>\n",
              "      <td>65.591520</td>\n",
              "      <td>72.942237</td>\n",
              "      <td>81.163824</td>\n",
              "      <td>991.869458</td>\n",
              "      <td>7.531933</td>\n",
              "      <td>2211.526781</td>\n",
              "      <td>3370.775879</td>\n",
              "      <td>0.190389</td>\n",
              "      <td>124.723669</td>\n",
              "      <td>0.071833</td>\n",
              "      <td>98.566310</td>\n",
              "      <td>0.094550</td>\n",
              "      <td>39.657307</td>\n",
              "      <td>123234.303667</td>\n",
              "      <td>0.001012</td>\n",
              "      <td>0.002960</td>\n",
              "      <td>30.846682</td>\n",
              "      <td>61.693363</td>\n",
              "      <td>7.183740</td>\n",
              "      <td>-5768.083577</td>\n",
              "      <td>0.140669</td>\n",
              "      <td>0.994400</td>\n",
              "      <td>0.037231</td>\n",
              "      <td>27.783111</td>\n",
              "      <td>3.108671</td>\n",
              "      <td>0.338089</td>\n",
              "      <td>18.042103</td>\n",
              "      <td>0.960845</td>\n",
              "      <td>...</td>\n",
              "      <td>-517.0</td>\n",
              "      <td>4.023106</td>\n",
              "      <td>-108.609186</td>\n",
              "      <td>0.003313</td>\n",
              "      <td>93.372993</td>\n",
              "      <td>0.003554</td>\n",
              "      <td>0.069731</td>\n",
              "      <td>0.936258</td>\n",
              "      <td>1601.793815</td>\n",
              "      <td>2.772571</td>\n",
              "      <td>729.132148</td>\n",
              "      <td>15360.888892</td>\n",
              "      <td>0.842243</td>\n",
              "      <td>3104.316398</td>\n",
              "      <td>0.743261</td>\n",
              "      <td>0.005497</td>\n",
              "      <td>5.455417</td>\n",
              "      <td>914.855419</td>\n",
              "      <td>0.668099</td>\n",
              "      <td>100.361763</td>\n",
              "      <td>13140.774613</td>\n",
              "      <td>0.029868</td>\n",
              "      <td>0.422933</td>\n",
              "      <td>2776.555217</td>\n",
              "      <td>196.083016</td>\n",
              "      <td>13162.766641</td>\n",
              "      <td>412.848389</td>\n",
              "      <td>0.213239</td>\n",
              "      <td>10.418845</td>\n",
              "      <td>1.670978e+07</td>\n",
              "      <td>618.251790</td>\n",
              "      <td>0.675352</td>\n",
              "      <td>0.005772</td>\n",
              "      <td>7.026210</td>\n",
              "      <td>0.003753</td>\n",
              "      <td>0.000326</td>\n",
              "      <td>4240.096417</td>\n",
              "      <td>1.189118</td>\n",
              "      <td>0.064501</td>\n",
              "      <td>0.895047</td>\n",
              "    </tr>\n",
              "  </tbody>\n",
              "</table>\n",
              "<p>165 rows × 107 columns</p>\n",
              "</div>"
            ],
            "text/plain": [
              "      VoxelVolume  Maximum3DDiameter  ...  Contrast.1  Busyness\n",
              "0    51905.377962          66.288317  ...    0.020920  1.306338\n",
              "1    13432.502747          58.057539  ...    0.146173  0.253533\n",
              "2    25843.872675          52.918217  ...    0.152919  0.611772\n",
              "3    22152.709032          46.635312  ...    0.351327  0.564313\n",
              "4   119385.805617          92.436320  ...    0.132602  1.804351\n",
              "..            ...                ...  ...         ...       ...\n",
              "29    6592.266962          33.622119  ...    0.085026  0.359230\n",
              "30    3010.031479          29.286452  ...    0.295357  0.263438\n",
              "31    8683.195759          49.195074  ...    0.594629  0.392208\n",
              "32   25939.914844          57.067095  ...    0.059377  0.658985\n",
              "33   73401.852784          73.105484  ...    0.064501  0.895047\n",
              "\n",
              "[165 rows x 107 columns]"
            ]
          },
          "metadata": {
            "tags": []
          },
          "execution_count": 16
        }
      ]
    },
    {
      "cell_type": "code",
      "metadata": {
        "id": "nNh5eL2PVIhD",
        "colab_type": "code",
        "colab": {}
      },
      "source": [
        "tot_label = pd.concat([train_labels, test_labels], axis=0)"
      ],
      "execution_count": 0,
      "outputs": []
    },
    {
      "cell_type": "code",
      "metadata": {
        "id": "zcydh4qRVV6k",
        "colab_type": "code",
        "outputId": "af8a58c1-67b4-4d11-d714-a9d836e48b53",
        "colab": {
          "base_uri": "https://localhost:8080/",
          "height": 35
        }
      },
      "source": [
        "tot_label.shape"
      ],
      "execution_count": 18,
      "outputs": [
        {
          "output_type": "execute_result",
          "data": {
            "text/plain": [
              "(165,)"
            ]
          },
          "metadata": {
            "tags": []
          },
          "execution_count": 18
        }
      ]
    },
    {
      "cell_type": "markdown",
      "metadata": {
        "id": "Cno5GmYCUynr",
        "colab_type": "text"
      },
      "source": [
        "##Train test split"
      ]
    },
    {
      "cell_type": "code",
      "metadata": {
        "id": "HFVj6DbKUj9s",
        "colab_type": "code",
        "colab": {}
      },
      "source": [
        "from sklearn.model_selection import train_test_split"
      ],
      "execution_count": 0,
      "outputs": []
    },
    {
      "cell_type": "code",
      "metadata": {
        "id": "xFCCTjE6JrQm",
        "colab_type": "code",
        "colab": {}
      },
      "source": [
        "train_data, test_data, train_labels, test_labels = train_test_split(tot_data, tot_label,\n",
        "                                                  stratify=tot_label, test_size=0.25, random_state=1) \n"
      ],
      "execution_count": 0,
      "outputs": []
    },
    {
      "cell_type": "markdown",
      "metadata": {
        "id": "00VohsAyokpq",
        "colab_type": "text"
      },
      "source": [
        "##Vettorizzare i label"
      ]
    },
    {
      "cell_type": "code",
      "metadata": {
        "id": "8RvS_9ISpxRi",
        "colab_type": "code",
        "colab": {}
      },
      "source": [
        "word_index={'adenocarcinoma':0, 'large cell':1, 'squamous cell carcinoma':2}"
      ],
      "execution_count": 0,
      "outputs": []
    },
    {
      "cell_type": "code",
      "metadata": {
        "id": "uiPW9U0XrWY2",
        "colab_type": "code",
        "colab": {}
      },
      "source": [
        "train_labels_dec = [word_index[label] for label in train_labels]"
      ],
      "execution_count": 0,
      "outputs": []
    },
    {
      "cell_type": "code",
      "metadata": {
        "id": "C4SBiKFQsKFw",
        "colab_type": "code",
        "colab": {}
      },
      "source": [
        "test_labels_dec = [word_index[label] for label in test_labels]"
      ],
      "execution_count": 0,
      "outputs": []
    },
    {
      "cell_type": "code",
      "metadata": {
        "id": "0IMbTYR7okJq",
        "colab_type": "code",
        "outputId": "c3181c82-8095-4703-b029-7804decbb5ef",
        "colab": {
          "base_uri": "https://localhost:8080/",
          "height": 83
        }
      },
      "source": [
        "from keras.utils.np_utils import to_categorical"
      ],
      "execution_count": 24,
      "outputs": [
        {
          "output_type": "stream",
          "text": [
            "Using TensorFlow backend.\n"
          ],
          "name": "stderr"
        },
        {
          "output_type": "display_data",
          "data": {
            "text/html": [
              "<p style=\"color: red;\">\n",
              "The default version of TensorFlow in Colab will soon switch to TensorFlow 2.x.<br>\n",
              "We recommend you <a href=\"https://www.tensorflow.org/guide/migrate\" target=\"_blank\">upgrade</a> now \n",
              "or ensure your notebook will continue to use TensorFlow 1.x via the <code>%tensorflow_version 1.x</code> magic:\n",
              "<a href=\"https://colab.research.google.com/notebooks/tensorflow_version.ipynb\" target=\"_blank\">more info</a>.</p>\n"
            ],
            "text/plain": [
              "<IPython.core.display.HTML object>"
            ]
          },
          "metadata": {
            "tags": []
          }
        }
      ]
    },
    {
      "cell_type": "code",
      "metadata": {
        "id": "0Frv4FDNn6Qu",
        "colab_type": "code",
        "colab": {}
      },
      "source": [
        "one_hot_train_labels = to_categorical(train_labels_dec)\n",
        "one_hot_test_labels = to_categorical(test_labels_dec)"
      ],
      "execution_count": 0,
      "outputs": []
    },
    {
      "cell_type": "markdown",
      "metadata": {
        "id": "dtPx7PMDnXM3",
        "colab_type": "text"
      },
      "source": [
        "##Z score dei dati"
      ]
    },
    {
      "cell_type": "code",
      "metadata": {
        "id": "XK4Qji2EnVV4",
        "colab_type": "code",
        "colab": {}
      },
      "source": [
        "mean = train_data.mean(axis=0)\n",
        "train_data_stand = train_data - mean\n",
        "std = train_data.std(axis=0)\n",
        "train_data_stand /= std"
      ],
      "execution_count": 0,
      "outputs": []
    },
    {
      "cell_type": "code",
      "metadata": {
        "id": "YOVOoNOvm0Yx",
        "colab_type": "code",
        "colab": {}
      },
      "source": [
        "test_data_stand = test_data - mean\n",
        "test_data_stand /= std"
      ],
      "execution_count": 0,
      "outputs": []
    },
    {
      "cell_type": "code",
      "metadata": {
        "id": "TZF8nUPWbrsR",
        "colab_type": "code",
        "outputId": "5b8fac32-111f-4b93-96fb-546f34a6e2a5",
        "colab": {
          "base_uri": "https://localhost:8080/",
          "height": 35
        }
      },
      "source": [
        "test_labels_dec.count(0)"
      ],
      "execution_count": 28,
      "outputs": [
        {
          "output_type": "execute_result",
          "data": {
            "text/plain": [
              "9"
            ]
          },
          "metadata": {
            "tags": []
          },
          "execution_count": 28
        }
      ]
    },
    {
      "cell_type": "markdown",
      "metadata": {
        "id": "Mn0tkOGc3LKN",
        "colab_type": "text"
      },
      "source": [
        "#PCA"
      ]
    },
    {
      "cell_type": "code",
      "metadata": {
        "id": "oS76u6iu3Seg",
        "colab_type": "code",
        "colab": {}
      },
      "source": [
        "from sklearn.decomposition import PCA"
      ],
      "execution_count": 0,
      "outputs": []
    },
    {
      "cell_type": "code",
      "metadata": {
        "id": "KCjC4zqJ3bui",
        "colab_type": "code",
        "colab": {}
      },
      "source": [
        "pca = PCA(n_components=0.9, svd_solver='full')"
      ],
      "execution_count": 0,
      "outputs": []
    },
    {
      "cell_type": "code",
      "metadata": {
        "id": "dLUCf9qX4p_e",
        "colab_type": "code",
        "outputId": "31a035e6-c32c-43d0-936b-3c5ec2722832",
        "colab": {
          "base_uri": "https://localhost:8080/",
          "height": 54
        }
      },
      "source": [
        "pca.fit(train_data_stand)"
      ],
      "execution_count": 31,
      "outputs": [
        {
          "output_type": "execute_result",
          "data": {
            "text/plain": [
              "PCA(copy=True, iterated_power='auto', n_components=0.9, random_state=None,\n",
              "    svd_solver='full', tol=0.0, whiten=False)"
            ]
          },
          "metadata": {
            "tags": []
          },
          "execution_count": 31
        }
      ]
    },
    {
      "cell_type": "code",
      "metadata": {
        "id": "QfyaKgNZ44o3",
        "colab_type": "code",
        "colab": {}
      },
      "source": [
        "train_data_stand_pca = pca.transform(train_data_stand)\n",
        "test_data_stand_pca = pca.transform(test_data_stand)"
      ],
      "execution_count": 0,
      "outputs": []
    },
    {
      "cell_type": "code",
      "metadata": {
        "id": "Uz9C4nl05b_g",
        "colab_type": "code",
        "outputId": "382a3159-5ed1-4e6c-c017-c4f8b1d2601a",
        "colab": {
          "base_uri": "https://localhost:8080/",
          "height": 35
        }
      },
      "source": [
        "train_data_stand_pca.shape"
      ],
      "execution_count": 33,
      "outputs": [
        {
          "output_type": "execute_result",
          "data": {
            "text/plain": [
              "(123, 9)"
            ]
          },
          "metadata": {
            "tags": []
          },
          "execution_count": 33
        }
      ]
    },
    {
      "cell_type": "markdown",
      "metadata": {
        "id": "8wSKvSu4s5ip",
        "colab_type": "text"
      },
      "source": [
        "#Building Network"
      ]
    },
    {
      "cell_type": "code",
      "metadata": {
        "id": "sJTbHiq0D-4x",
        "colab_type": "code",
        "colab": {}
      },
      "source": [
        "from keras import layers\n",
        "from keras.preprocessing import sequence"
      ],
      "execution_count": 0,
      "outputs": []
    },
    {
      "cell_type": "code",
      "metadata": {
        "id": "ShwM6YMqsxxJ",
        "colab_type": "code",
        "colab": {}
      },
      "source": [
        "from keras import layers"
      ],
      "execution_count": 0,
      "outputs": []
    },
    {
      "cell_type": "code",
      "metadata": {
        "id": "IAzbu7P1VylY",
        "colab_type": "code",
        "colab": {}
      },
      "source": [
        "from keras import regularizers"
      ],
      "execution_count": 0,
      "outputs": []
    },
    {
      "cell_type": "code",
      "metadata": {
        "id": "dyqbUCK5wOVt",
        "colab_type": "code",
        "colab": {}
      },
      "source": [
        "from keras.optimizers import SGD"
      ],
      "execution_count": 0,
      "outputs": []
    },
    {
      "cell_type": "code",
      "metadata": {
        "id": "7OAEgN31tHVV",
        "colab_type": "code",
        "colab": {}
      },
      "source": [
        "def build_model():\n",
        "  model = keras.models.Sequential()\n",
        "  model.add(layers.Dense(5, activation='relu', input_shape=(9,)))\n",
        "\n",
        "#  model.add(layers.Dropout(rate=0.2))\n",
        "\n",
        "  model.add(layers.Dense(3, activation='softmax'))\n",
        "\n",
        "  sgd = SGD(lr=0.01, momentum=0.4, nesterov=True)\n",
        "  \n",
        "  model.compile(optimizer=sgd, loss='categorical_crossentropy', metrics=['accuracy'])\n",
        "  return model"
      ],
      "execution_count": 0,
      "outputs": []
    },
    {
      "cell_type": "markdown",
      "metadata": {
        "id": "mIxDu50pBeiz",
        "colab_type": "text"
      },
      "source": [
        "#Stratified k-fold"
      ]
    },
    {
      "cell_type": "markdown",
      "metadata": {
        "id": "ZyLcvedUBpxA",
        "colab_type": "text"
      },
      "source": [
        "This cross-validation object is a variation of KFold that returns stratified folds. The folds are made by preserving the percentage of samples for each class."
      ]
    },
    {
      "cell_type": "code",
      "metadata": {
        "id": "fY1apcZ19gFp",
        "colab_type": "code",
        "colab": {}
      },
      "source": [
        "from sklearn.model_selection import StratifiedKFold"
      ],
      "execution_count": 0,
      "outputs": []
    },
    {
      "cell_type": "code",
      "metadata": {
        "id": "oaBDM-PtBx5V",
        "colab_type": "code",
        "outputId": "b4b0915d-517e-4fa9-e038-c661e3925f30",
        "colab": {
          "base_uri": "https://localhost:8080/",
          "height": 35
        }
      },
      "source": [
        "skf = StratifiedKFold(n_splits=10, shuffle=True, random_state=1)\n",
        "skf.get_n_splits(train_data_stand_pca, train_labels_dec)"
      ],
      "execution_count": 40,
      "outputs": [
        {
          "output_type": "execute_result",
          "data": {
            "text/plain": [
              "10"
            ]
          },
          "metadata": {
            "tags": []
          },
          "execution_count": 40
        }
      ]
    },
    {
      "cell_type": "code",
      "metadata": {
        "id": "Me-XQzPyD1gi",
        "colab_type": "code",
        "outputId": "7e1605ee-f986-479d-e1da-46a61418d56d",
        "colab": {
          "base_uri": "https://localhost:8080/",
          "height": 1000
        }
      },
      "source": [
        "for train_index, test_index in skf.split(train_data_stand_pca, train_labels_dec):\n",
        "    print(\"TRAIN:\", train_index, \"TEST:\", test_index)"
      ],
      "execution_count": 41,
      "outputs": [
        {
          "output_type": "stream",
          "text": [
            "TRAIN: [  0   1   2   3   4   5   6   7   8   9  10  11  12  13  14  15  16  17\n",
            "  18  20  21  22  23  24  25  26  27  28  29  30  31  32  33  34  36  38\n",
            "  39  40  42  43  44  45  46  47  48  49  50  51  52  53  54  55  57  58\n",
            "  59  61  62  63  64  65  66  67  69  70  71  72  73  74  76  79  80  81\n",
            "  82  83  84  85  86  87  88  89  90  91  92  93  95  96  97  98  99 100\n",
            " 101 102 103 104 105 106 107 108 109 111 112 113 114 115 116 117 118 120\n",
            " 121 122] TEST: [ 19  35  37  41  56  60  68  75  77  78  94 110 119]\n",
            "TRAIN: [  0   1   2   3   4   5   6   7   8   9  10  12  14  15  16  17  18  19\n",
            "  20  21  22  23  24  25  26  27  28  29  30  31  32  34  35  36  37  38\n",
            "  39  41  43  44  45  46  47  48  49  50  52  53  54  55  56  57  58  59\n",
            "  60  61  62  63  64  65  66  67  68  69  71  72  73  74  75  76  77  78\n",
            "  79  80  81  85  86  87  88  89  90  91  92  93  94  95  96  97  98  99\n",
            " 100 101 102 103 104 106 107 108 109 110 111 112 113 114 115 116 117 118\n",
            " 119 120] TEST: [ 11  13  33  40  42  51  70  82  83  84 105 121 122]\n",
            "TRAIN: [  0   1   2   3   4   5   6   7   8  10  11  12  13  14  15  16  17  18\n",
            "  19  20  21  22  23  24  25  26  27  28  29  30  31  32  33  34  35  37\n",
            "  39  40  41  42  43  45  46  47  48  50  51  52  54  55  56  57  58  59\n",
            "  60  61  62  64  65  67  68  69  70  71  72  73  75  76  77  78  79  80\n",
            "  81  82  83  84  85  87  88  89  90  91  92  93  94  95  96  97  99 100\n",
            " 101 102 103 104 105 106 107 109 110 112 113 114 115 116 117 118 119 120\n",
            " 121 122] TEST: [  9  36  38  44  49  53  63  66  74  86  98 108 111]\n",
            "TRAIN: [  0   2   3   4   5   6   8   9  10  11  12  13  14  15  16  17  18  19\n",
            "  20  22  24  25  26  27  28  29  30  31  32  33  34  35  36  37  38  40\n",
            "  41  42  43  44  45  46  47  48  49  50  51  52  53  54  56  57  58  59\n",
            "  60  61  62  63  66  67  68  69  70  72  73  74  75  76  77  78  79  80\n",
            "  81  82  83  84  85  86  87  88  89  91  92  93  94  95  96  97  98  99\n",
            " 100 101 102 103 105 106 107 108 109 110 111 112 113 114 115 116 117 118\n",
            " 119 121 122] TEST: [  1   7  21  23  39  55  64  65  71  90 104 120]\n",
            "TRAIN: [  0   1   2   4   6   7   8   9  11  12  13  14  15  17  18  19  20  21\n",
            "  22  23  24  25  26  27  28  29  30  31  32  33  34  35  36  37  38  39\n",
            "  40  41  42  43  44  45  48  49  50  51  52  53  54  55  56  57  58  60\n",
            "  61  62  63  64  65  66  67  68  70  71  72  73  74  75  76  77  78  79\n",
            "  80  81  82  83  84  85  86  87  89  90  91  92  93  94  95  96  97  98\n",
            "  99 101 102 103 104 105 106 108 109 110 111 112 113 115 116 117 118 119\n",
            " 120 121 122] TEST: [  3   5  10  16  46  47  59  69  88 100 107 114]\n",
            "TRAIN: [  1   2   3   4   5   6   7   8   9  10  11  12  13  14  15  16  19  20\n",
            "  21  22  23  24  25  26  27  28  30  31  32  33  35  36  37  38  39  40\n",
            "  41  42  43  44  45  46  47  48  49  50  51  52  53  54  55  56  57  58\n",
            "  59  60  61  63  64  65  66  67  68  69  70  71  72  73  74  75  76  77\n",
            "  78  79  80  81  82  83  84  86  87  88  89  90  91  92  94  96  97  98\n",
            "  99 100 101 102 103 104 105 106 107 108 109 110 111 112 114 115 118 119\n",
            " 120 121 122] TEST: [  0  17  18  29  34  62  85  93  95 113 116 117]\n",
            "TRAIN: [  0   1   2   3   4   5   7   8   9  10  11  12  13  14  15  16  17  18\n",
            "  19  20  21  22  23  24  26  28  29  30  33  34  35  36  37  38  39  40\n",
            "  41  42  43  44  45  46  47  49  50  51  52  53  55  56  57  58  59  60\n",
            "  61  62  63  64  65  66  67  68  69  70  71  72  73  74  75  76  77  78\n",
            "  79  81  82  83  84  85  86  87  88  90  92  93  94  95  96  97  98  99\n",
            " 100 101 103 104 105 106 107 108 109 110 111 113 114 115 116 117 118 119\n",
            " 120 121 122] TEST: [  6  25  27  31  32  48  54  80  89  91 102 112]\n",
            "TRAIN: [  0   1   3   4   5   6   7   8   9  10  11  12  13  14  16  17  18  19\n",
            "  21  22  23  25  26  27  28  29  31  32  33  34  35  36  37  38  39  40\n",
            "  41  42  44  45  46  47  48  49  50  51  52  53  54  55  56  58  59  60\n",
            "  61  62  63  64  65  66  68  69  70  71  72  73  74  75  77  78  79  80\n",
            "  81  82  83  84  85  86  87  88  89  90  91  92  93  94  95  96  97  98\n",
            "  99 100 102 103 104 105 106 107 108 110 111 112 113 114 116 117 118 119\n",
            " 120 121 122] TEST: [  2  15  20  24  30  43  57  67  76 101 109 115]\n",
            "TRAIN: [  0   1   2   3   5   6   7   9  10  11  12  13  15  16  17  18  19  20\n",
            "  21  22  23  24  25  26  27  29  30  31  32  33  34  35  36  37  38  39\n",
            "  40  41  42  43  44  45  46  47  48  49  51  52  53  54  55  56  57  58\n",
            "  59  60  62  63  64  65  66  67  68  69  70  71  73  74  75  76  77  78\n",
            "  80  82  83  84  85  86  87  88  89  90  91  93  94  95  96  97  98  99\n",
            " 100 101 102 103 104 105 107 108 109 110 111 112 113 114 115 116 117 119\n",
            " 120 121 122] TEST: [  4   8  14  28  50  61  72  79  81  92 106 118]\n",
            "TRAIN: [  0   1   2   3   4   5   6   7   8   9  10  11  13  14  15  16  17  18\n",
            "  19  20  21  23  24  25  27  28  29  30  31  32  33  34  35  36  37  38\n",
            "  39  40  41  42  43  44  46  47  48  49  50  51  53  54  55  56  57  59\n",
            "  60  61  62  63  64  65  66  67  68  69  70  71  72  74  75  76  77  78\n",
            "  79  80  81  82  83  84  85  86  88  89  90  91  92  93  94  95  98 100\n",
            " 101 102 104 105 106 107 108 109 110 111 112 113 114 115 116 117 118 119\n",
            " 120 121 122] TEST: [ 12  22  26  45  52  58  73  87  96  97  99 103]\n"
          ],
          "name": "stdout"
        }
      ]
    },
    {
      "cell_type": "code",
      "metadata": {
        "id": "sBJg0XD4Shhc",
        "colab_type": "code",
        "colab": {}
      },
      "source": [
        "from keras.utils import to_categorical\n"
      ],
      "execution_count": 0,
      "outputs": []
    },
    {
      "cell_type": "code",
      "metadata": {
        "id": "a5Sq8r9GEPx3",
        "colab_type": "code",
        "colab": {}
      },
      "source": [
        "#for train_index, val_index in skf.split(train_data_stand_pca, train_labels_dec):\n",
        " \n",
        "#  partial_train_data = np.array([train_data_stand_pca[i] for i in train_index])\n",
        "#  partial_train_targets = np.array([train_labels_dec[i] for i in train_index])\n",
        "\n",
        "#  val_data = np.array([train_data_stand_pca[i] for i in val_index])\n",
        "#  val_targets = np.array([train_labels_dec[i] for i in val_index])\n",
        "\n",
        "#  one_hot_partial_train_targets = to_categorical(partial_train_targets)\n",
        "#  one_hot_val_targets = to_categorical(val_targets)\n",
        "\n",
        "#  model = build_model()\n",
        "#  model.fit(partial_train_data, one_hot_partial_train_targets, epochs = num_epochs, batch_size=1)\n",
        "\n",
        "#  val_loss, val_accuracy = model.evaluate(val_data, one_hot_val_targets)\n",
        "#  all_scores.append(val_accuracy)\n",
        "#I parametri per la valutazione vengono calcolati una volta per ogni k-fold, per ogni set di validazione, quindi k volte"
      ],
      "execution_count": 0,
      "outputs": []
    },
    {
      "cell_type": "markdown",
      "metadata": {
        "id": "2X5B3lasRcsR",
        "colab_type": "text"
      },
      "source": [
        "C'è un problema: keras.utils.to_categorical produces a one-hot encoded class vector, i.e. the multilabel-indicator mentioned in the error message. StratifiedKFold is not designed to work with such input; i.e. your y must be a 1-D array of your class labels.\n",
        "Essentially, what you have to do is simply to invert the order of the operations: split first (using your intial y_train), and convert to_categorical afterwards."
      ]
    },
    {
      "cell_type": "code",
      "metadata": {
        "id": "F0Sl23XX-uUu",
        "colab_type": "code",
        "colab": {}
      },
      "source": [
        "import keras"
      ],
      "execution_count": 0,
      "outputs": []
    },
    {
      "cell_type": "code",
      "metadata": {
        "id": "8K8a1I3yU9FS",
        "colab_type": "code",
        "outputId": "1d172b77-a5c9-40da-ddcb-22ee2a8a5415",
        "colab": {
          "base_uri": "https://localhost:8080/",
          "height": 1000
        }
      },
      "source": [
        "num_epochs = 20\n",
        "all_acc_histories = []\n",
        "all_loss_histories = []\n",
        "all_val_acc_histories = []\n",
        "all_val_loss_histories = []\n",
        "\n",
        "for train_index, val_index in skf.split(train_data_stand_pca, train_labels_dec):\n",
        " \n",
        "  partial_train_data = np.array([train_data_stand_pca[i] for i in train_index])\n",
        "  partial_train_targets = np.array([train_labels_dec[i] for i in train_index])\n",
        "  \n",
        "  val_data = np.array([train_data_stand_pca[i] for i in val_index])\n",
        "  val_targets = np.array([train_labels_dec[i] for i in val_index])\n",
        "\n",
        "  one_hot_partial_train_targets = to_categorical(partial_train_targets)\n",
        "  one_hot_val_targets = to_categorical(val_targets)\n",
        "\n",
        " \n",
        "  model = build_model()\n",
        "  history = model.fit(partial_train_data, one_hot_partial_train_targets, validation_data=(val_data, one_hot_val_targets), \n",
        "                      epochs=num_epochs, batch_size=8)\n",
        "  \n",
        "  acc_history = history.history['acc']\n",
        "  all_acc_histories.append(acc_history)\n",
        "\n",
        "  loss_history = history.history['loss']\n",
        "  all_loss_histories.append(loss_history)\n",
        "\n",
        "  acc_val_history = history.history['val_acc']\n",
        "  all_val_acc_histories.append(acc_val_history)\n",
        "\n",
        "  loss_val_history = history.history['val_loss']\n",
        "  all_val_loss_histories.append(loss_val_history)\n",
        "  \n",
        "\n",
        "#I parametri per la valutazione vengono calcolati per ogni epoca, quindi num_epochs volte. \n",
        "#Il tutto viene ripetuto un numero di volte pari a n_splits.\n",
        "#Si ottiene una lista con n_splits elementi ciascuno dei quali è una lista lunga num_epochs,\n",
        "#ogni elemento può essere uno fra questi: dict_keys(['val_loss', 'val_acc', 'loss', 'acc']) "
      ],
      "execution_count": 58,
      "outputs": [
        {
          "output_type": "stream",
          "text": [
            "Train on 110 samples, validate on 13 samples\n",
            "Epoch 1/20\n",
            "110/110 [==============================] - 1s 5ms/step - loss: 1.4902 - acc: 0.5364 - val_loss: 2.1007 - val_acc: 0.2308\n",
            "Epoch 2/20\n",
            "110/110 [==============================] - 0s 271us/step - loss: 1.2603 - acc: 0.5455 - val_loss: 1.8448 - val_acc: 0.3077\n",
            "Epoch 3/20\n",
            "110/110 [==============================] - 0s 188us/step - loss: 1.1624 - acc: 0.5727 - val_loss: 1.7499 - val_acc: 0.4615\n",
            "Epoch 4/20\n",
            "110/110 [==============================] - 0s 181us/step - loss: 1.1119 - acc: 0.5545 - val_loss: 1.7056 - val_acc: 0.4615\n",
            "Epoch 5/20\n",
            "110/110 [==============================] - 0s 160us/step - loss: 1.0698 - acc: 0.5727 - val_loss: 1.6842 - val_acc: 0.4615\n",
            "Epoch 6/20\n",
            "110/110 [==============================] - 0s 160us/step - loss: 1.0444 - acc: 0.5545 - val_loss: 1.5780 - val_acc: 0.4615\n",
            "Epoch 7/20\n",
            "110/110 [==============================] - 0s 161us/step - loss: 1.0225 - acc: 0.5818 - val_loss: 1.5566 - val_acc: 0.4615\n",
            "Epoch 8/20\n",
            "110/110 [==============================] - 0s 175us/step - loss: 1.0068 - acc: 0.5818 - val_loss: 1.5169 - val_acc: 0.4615\n",
            "Epoch 9/20\n",
            "110/110 [==============================] - 0s 178us/step - loss: 0.9977 - acc: 0.5909 - val_loss: 1.4862 - val_acc: 0.4615\n",
            "Epoch 10/20\n",
            "110/110 [==============================] - 0s 191us/step - loss: 0.9831 - acc: 0.5818 - val_loss: 1.4813 - val_acc: 0.4615\n",
            "Epoch 11/20\n",
            "110/110 [==============================] - 0s 205us/step - loss: 0.9780 - acc: 0.6000 - val_loss: 1.4913 - val_acc: 0.4615\n",
            "Epoch 12/20\n",
            "110/110 [==============================] - 0s 185us/step - loss: 0.9730 - acc: 0.5909 - val_loss: 1.4682 - val_acc: 0.4615\n",
            "Epoch 13/20\n",
            "110/110 [==============================] - 0s 187us/step - loss: 0.9652 - acc: 0.5818 - val_loss: 1.4444 - val_acc: 0.4615\n",
            "Epoch 14/20\n",
            "110/110 [==============================] - 0s 175us/step - loss: 0.9603 - acc: 0.5818 - val_loss: 1.4394 - val_acc: 0.4615\n",
            "Epoch 15/20\n",
            "110/110 [==============================] - 0s 179us/step - loss: 0.9551 - acc: 0.5818 - val_loss: 1.4377 - val_acc: 0.4615\n",
            "Epoch 16/20\n",
            "110/110 [==============================] - 0s 180us/step - loss: 0.9470 - acc: 0.5909 - val_loss: 1.4311 - val_acc: 0.4615\n",
            "Epoch 17/20\n",
            "110/110 [==============================] - 0s 190us/step - loss: 0.9439 - acc: 0.5727 - val_loss: 1.4411 - val_acc: 0.4615\n",
            "Epoch 18/20\n",
            "110/110 [==============================] - 0s 204us/step - loss: 0.9414 - acc: 0.6000 - val_loss: 1.4287 - val_acc: 0.4615\n",
            "Epoch 19/20\n",
            "110/110 [==============================] - 0s 197us/step - loss: 0.9391 - acc: 0.5909 - val_loss: 1.4196 - val_acc: 0.4615\n",
            "Epoch 20/20\n",
            "110/110 [==============================] - 0s 216us/step - loss: 0.9334 - acc: 0.5818 - val_loss: 1.4105 - val_acc: 0.3846\n",
            "Train on 110 samples, validate on 13 samples\n",
            "Epoch 1/20\n",
            "110/110 [==============================] - 1s 5ms/step - loss: 2.8400 - acc: 0.4364 - val_loss: 2.2623 - val_acc: 0.6154\n",
            "Epoch 2/20\n",
            "110/110 [==============================] - 0s 196us/step - loss: 2.2029 - acc: 0.4364 - val_loss: 1.4975 - val_acc: 0.5385\n",
            "Epoch 3/20\n",
            "110/110 [==============================] - 0s 190us/step - loss: 1.5768 - acc: 0.4455 - val_loss: 1.1474 - val_acc: 0.6154\n",
            "Epoch 4/20\n",
            "110/110 [==============================] - 0s 183us/step - loss: 1.2317 - acc: 0.4364 - val_loss: 1.0273 - val_acc: 0.5385\n",
            "Epoch 5/20\n",
            "110/110 [==============================] - 0s 166us/step - loss: 1.0879 - acc: 0.4182 - val_loss: 0.9824 - val_acc: 0.5385\n",
            "Epoch 6/20\n",
            "110/110 [==============================] - 0s 195us/step - loss: 1.0544 - acc: 0.4364 - val_loss: 0.9617 - val_acc: 0.5385\n",
            "Epoch 7/20\n",
            "110/110 [==============================] - 0s 191us/step - loss: 1.0346 - acc: 0.4182 - val_loss: 0.9517 - val_acc: 0.5385\n",
            "Epoch 8/20\n",
            "110/110 [==============================] - 0s 172us/step - loss: 1.0258 - acc: 0.4545 - val_loss: 0.9321 - val_acc: 0.5385\n",
            "Epoch 9/20\n",
            "110/110 [==============================] - 0s 216us/step - loss: 1.0120 - acc: 0.4636 - val_loss: 0.9232 - val_acc: 0.6154\n",
            "Epoch 10/20\n",
            "110/110 [==============================] - 0s 171us/step - loss: 1.0112 - acc: 0.4545 - val_loss: 0.9047 - val_acc: 0.6154\n",
            "Epoch 11/20\n",
            "110/110 [==============================] - 0s 188us/step - loss: 1.0095 - acc: 0.4818 - val_loss: 0.9161 - val_acc: 0.6154\n",
            "Epoch 12/20\n",
            "110/110 [==============================] - 0s 211us/step - loss: 1.0054 - acc: 0.4727 - val_loss: 0.9135 - val_acc: 0.5385\n",
            "Epoch 13/20\n",
            "110/110 [==============================] - 0s 204us/step - loss: 0.9950 - acc: 0.5182 - val_loss: 0.9120 - val_acc: 0.6154\n",
            "Epoch 14/20\n",
            "110/110 [==============================] - 0s 187us/step - loss: 0.9942 - acc: 0.4909 - val_loss: 0.9068 - val_acc: 0.6154\n",
            "Epoch 15/20\n",
            "110/110 [==============================] - 0s 202us/step - loss: 0.9953 - acc: 0.4909 - val_loss: 0.9187 - val_acc: 0.6154\n",
            "Epoch 16/20\n",
            "110/110 [==============================] - 0s 231us/step - loss: 0.9909 - acc: 0.5364 - val_loss: 0.9011 - val_acc: 0.6154\n",
            "Epoch 17/20\n",
            "110/110 [==============================] - 0s 258us/step - loss: 0.9857 - acc: 0.5273 - val_loss: 0.9098 - val_acc: 0.5385\n",
            "Epoch 18/20\n",
            "110/110 [==============================] - 0s 218us/step - loss: 0.9852 - acc: 0.5636 - val_loss: 0.9107 - val_acc: 0.6154\n",
            "Epoch 19/20\n",
            "110/110 [==============================] - 0s 247us/step - loss: 0.9848 - acc: 0.5273 - val_loss: 0.9270 - val_acc: 0.5385\n",
            "Epoch 20/20\n",
            "110/110 [==============================] - 0s 220us/step - loss: 0.9875 - acc: 0.5364 - val_loss: 0.9089 - val_acc: 0.5385\n",
            "Train on 110 samples, validate on 13 samples\n",
            "Epoch 1/20\n",
            "110/110 [==============================] - 1s 6ms/step - loss: 2.0266 - acc: 0.3000 - val_loss: 1.8242 - val_acc: 0.3077\n",
            "Epoch 2/20\n",
            "110/110 [==============================] - 0s 195us/step - loss: 1.2400 - acc: 0.3636 - val_loss: 1.3755 - val_acc: 0.2308\n",
            "Epoch 3/20\n",
            "110/110 [==============================] - 0s 198us/step - loss: 1.1042 - acc: 0.4000 - val_loss: 1.2277 - val_acc: 0.2308\n",
            "Epoch 4/20\n",
            "110/110 [==============================] - 0s 178us/step - loss: 1.0638 - acc: 0.4000 - val_loss: 1.1415 - val_acc: 0.3846\n",
            "Epoch 5/20\n",
            "110/110 [==============================] - 0s 189us/step - loss: 1.0412 - acc: 0.4727 - val_loss: 1.0922 - val_acc: 0.3846\n",
            "Epoch 6/20\n",
            "110/110 [==============================] - 0s 181us/step - loss: 1.0299 - acc: 0.4545 - val_loss: 1.0628 - val_acc: 0.3077\n",
            "Epoch 7/20\n",
            "110/110 [==============================] - 0s 168us/step - loss: 1.0123 - acc: 0.4727 - val_loss: 1.0531 - val_acc: 0.3846\n",
            "Epoch 8/20\n",
            "110/110 [==============================] - 0s 184us/step - loss: 1.0181 - acc: 0.4909 - val_loss: 1.0430 - val_acc: 0.3077\n",
            "Epoch 9/20\n",
            "110/110 [==============================] - 0s 190us/step - loss: 1.0000 - acc: 0.4545 - val_loss: 1.0155 - val_acc: 0.4615\n",
            "Epoch 10/20\n",
            "110/110 [==============================] - 0s 196us/step - loss: 0.9875 - acc: 0.4636 - val_loss: 1.0005 - val_acc: 0.3846\n",
            "Epoch 11/20\n",
            "110/110 [==============================] - 0s 218us/step - loss: 0.9876 - acc: 0.5091 - val_loss: 0.9976 - val_acc: 0.3846\n",
            "Epoch 12/20\n",
            "110/110 [==============================] - 0s 223us/step - loss: 0.9828 - acc: 0.4727 - val_loss: 0.9942 - val_acc: 0.4615\n",
            "Epoch 13/20\n",
            "110/110 [==============================] - 0s 201us/step - loss: 0.9752 - acc: 0.5000 - val_loss: 0.9950 - val_acc: 0.4615\n",
            "Epoch 14/20\n",
            "110/110 [==============================] - 0s 195us/step - loss: 0.9730 - acc: 0.4909 - val_loss: 0.9879 - val_acc: 0.4615\n",
            "Epoch 15/20\n",
            "110/110 [==============================] - 0s 193us/step - loss: 0.9572 - acc: 0.5182 - val_loss: 0.9788 - val_acc: 0.3846\n",
            "Epoch 16/20\n",
            "110/110 [==============================] - 0s 229us/step - loss: 0.9618 - acc: 0.5000 - val_loss: 0.9758 - val_acc: 0.4615\n",
            "Epoch 17/20\n",
            "110/110 [==============================] - 0s 242us/step - loss: 0.9633 - acc: 0.5000 - val_loss: 0.9888 - val_acc: 0.4615\n",
            "Epoch 18/20\n",
            "110/110 [==============================] - 0s 234us/step - loss: 0.9488 - acc: 0.5364 - val_loss: 0.9645 - val_acc: 0.4615\n",
            "Epoch 19/20\n",
            "110/110 [==============================] - 0s 205us/step - loss: 0.9480 - acc: 0.5182 - val_loss: 0.9736 - val_acc: 0.4615\n",
            "Epoch 20/20\n",
            "110/110 [==============================] - 0s 197us/step - loss: 0.9414 - acc: 0.5455 - val_loss: 0.9574 - val_acc: 0.4615\n",
            "Train on 111 samples, validate on 12 samples\n",
            "Epoch 1/20\n",
            "111/111 [==============================] - 1s 6ms/step - loss: 1.3611 - acc: 0.3604 - val_loss: 1.5097 - val_acc: 0.5000\n",
            "Epoch 2/20\n",
            "111/111 [==============================] - 0s 186us/step - loss: 1.1606 - acc: 0.4144 - val_loss: 1.4142 - val_acc: 0.4167\n",
            "Epoch 3/20\n",
            "111/111 [==============================] - 0s 177us/step - loss: 1.0901 - acc: 0.3514 - val_loss: 1.3329 - val_acc: 0.4167\n",
            "Epoch 4/20\n",
            "111/111 [==============================] - 0s 223us/step - loss: 1.0450 - acc: 0.3964 - val_loss: 1.2726 - val_acc: 0.4167\n",
            "Epoch 5/20\n",
            "111/111 [==============================] - 0s 175us/step - loss: 1.0166 - acc: 0.4054 - val_loss: 1.2346 - val_acc: 0.4167\n",
            "Epoch 6/20\n",
            "111/111 [==============================] - 0s 182us/step - loss: 0.9895 - acc: 0.4505 - val_loss: 1.2241 - val_acc: 0.5000\n",
            "Epoch 7/20\n",
            "111/111 [==============================] - 0s 168us/step - loss: 0.9792 - acc: 0.4414 - val_loss: 1.2203 - val_acc: 0.5000\n",
            "Epoch 8/20\n",
            "111/111 [==============================] - 0s 183us/step - loss: 0.9606 - acc: 0.4234 - val_loss: 1.1942 - val_acc: 0.5000\n",
            "Epoch 9/20\n",
            "111/111 [==============================] - 0s 181us/step - loss: 0.9595 - acc: 0.4775 - val_loss: 1.2015 - val_acc: 0.5000\n",
            "Epoch 10/20\n",
            "111/111 [==============================] - 0s 181us/step - loss: 0.9484 - acc: 0.4955 - val_loss: 1.1907 - val_acc: 0.5000\n",
            "Epoch 11/20\n",
            "111/111 [==============================] - 0s 191us/step - loss: 0.9451 - acc: 0.4775 - val_loss: 1.1925 - val_acc: 0.4167\n",
            "Epoch 12/20\n",
            "111/111 [==============================] - 0s 172us/step - loss: 0.9322 - acc: 0.4955 - val_loss: 1.1858 - val_acc: 0.5000\n",
            "Epoch 13/20\n",
            "111/111 [==============================] - 0s 197us/step - loss: 0.9265 - acc: 0.5135 - val_loss: 1.1872 - val_acc: 0.4167\n",
            "Epoch 14/20\n",
            "111/111 [==============================] - 0s 198us/step - loss: 0.9310 - acc: 0.4865 - val_loss: 1.1978 - val_acc: 0.4167\n",
            "Epoch 15/20\n",
            "111/111 [==============================] - 0s 219us/step - loss: 0.9087 - acc: 0.5045 - val_loss: 1.1954 - val_acc: 0.4167\n",
            "Epoch 16/20\n",
            "111/111 [==============================] - 0s 192us/step - loss: 0.9068 - acc: 0.5225 - val_loss: 1.1895 - val_acc: 0.4167\n",
            "Epoch 17/20\n",
            "111/111 [==============================] - 0s 207us/step - loss: 0.9051 - acc: 0.5225 - val_loss: 1.1915 - val_acc: 0.4167\n",
            "Epoch 18/20\n",
            "111/111 [==============================] - 0s 183us/step - loss: 0.9005 - acc: 0.5135 - val_loss: 1.1989 - val_acc: 0.4167\n",
            "Epoch 19/20\n",
            "111/111 [==============================] - 0s 222us/step - loss: 0.8929 - acc: 0.5225 - val_loss: 1.1908 - val_acc: 0.5000\n",
            "Epoch 20/20\n",
            "111/111 [==============================] - 0s 190us/step - loss: 0.8957 - acc: 0.5225 - val_loss: 1.2014 - val_acc: 0.4167\n",
            "Train on 111 samples, validate on 12 samples\n",
            "Epoch 1/20\n",
            "111/111 [==============================] - 1s 6ms/step - loss: 1.5643 - acc: 0.3784 - val_loss: 2.0794 - val_acc: 0.2500\n",
            "Epoch 2/20\n",
            "111/111 [==============================] - 0s 225us/step - loss: 1.3643 - acc: 0.4595 - val_loss: 1.8861 - val_acc: 0.4167\n",
            "Epoch 3/20\n",
            "111/111 [==============================] - 0s 222us/step - loss: 1.2683 - acc: 0.4775 - val_loss: 1.7694 - val_acc: 0.4167\n",
            "Epoch 4/20\n",
            "111/111 [==============================] - 0s 229us/step - loss: 1.1968 - acc: 0.4775 - val_loss: 1.6510 - val_acc: 0.5000\n",
            "Epoch 5/20\n",
            "111/111 [==============================] - 0s 213us/step - loss: 1.1424 - acc: 0.4505 - val_loss: 1.6264 - val_acc: 0.5833\n",
            "Epoch 6/20\n",
            "111/111 [==============================] - 0s 190us/step - loss: 1.1009 - acc: 0.4865 - val_loss: 1.6051 - val_acc: 0.5833\n",
            "Epoch 7/20\n",
            "111/111 [==============================] - 0s 199us/step - loss: 1.0665 - acc: 0.4955 - val_loss: 1.6194 - val_acc: 0.5833\n",
            "Epoch 8/20\n",
            "111/111 [==============================] - 0s 190us/step - loss: 1.0342 - acc: 0.4775 - val_loss: 1.5791 - val_acc: 0.5833\n",
            "Epoch 9/20\n",
            "111/111 [==============================] - 0s 207us/step - loss: 1.0190 - acc: 0.5495 - val_loss: 1.6039 - val_acc: 0.5000\n",
            "Epoch 10/20\n",
            "111/111 [==============================] - 0s 294us/step - loss: 1.0023 - acc: 0.5405 - val_loss: 1.6175 - val_acc: 0.5000\n",
            "Epoch 11/20\n",
            "111/111 [==============================] - 0s 191us/step - loss: 0.9817 - acc: 0.5405 - val_loss: 1.6048 - val_acc: 0.5000\n",
            "Epoch 12/20\n",
            "111/111 [==============================] - 0s 191us/step - loss: 0.9771 - acc: 0.5676 - val_loss: 1.5760 - val_acc: 0.5000\n",
            "Epoch 13/20\n",
            "111/111 [==============================] - 0s 216us/step - loss: 0.9695 - acc: 0.5315 - val_loss: 1.5810 - val_acc: 0.4167\n",
            "Epoch 14/20\n",
            "111/111 [==============================] - 0s 201us/step - loss: 0.9603 - acc: 0.5135 - val_loss: 1.5788 - val_acc: 0.5000\n",
            "Epoch 15/20\n",
            "111/111 [==============================] - 0s 182us/step - loss: 0.9542 - acc: 0.5315 - val_loss: 1.5687 - val_acc: 0.5833\n",
            "Epoch 16/20\n",
            "111/111 [==============================] - 0s 213us/step - loss: 0.9478 - acc: 0.5315 - val_loss: 1.5940 - val_acc: 0.5000\n",
            "Epoch 17/20\n",
            "111/111 [==============================] - 0s 200us/step - loss: 0.9414 - acc: 0.5315 - val_loss: 1.5577 - val_acc: 0.5000\n",
            "Epoch 18/20\n",
            "111/111 [==============================] - 0s 207us/step - loss: 0.9450 - acc: 0.5225 - val_loss: 1.5875 - val_acc: 0.5000\n",
            "Epoch 19/20\n",
            "111/111 [==============================] - 0s 273us/step - loss: 0.9366 - acc: 0.5495 - val_loss: 1.5679 - val_acc: 0.5000\n",
            "Epoch 20/20\n",
            "111/111 [==============================] - 0s 216us/step - loss: 0.9331 - acc: 0.5586 - val_loss: 1.5647 - val_acc: 0.5000\n",
            "Train on 111 samples, validate on 12 samples\n",
            "Epoch 1/20\n",
            "111/111 [==============================] - 1s 7ms/step - loss: 1.6391 - acc: 0.4865 - val_loss: 1.2164 - val_acc: 0.5833\n",
            "Epoch 2/20\n",
            "111/111 [==============================] - 0s 182us/step - loss: 1.3327 - acc: 0.5225 - val_loss: 0.9962 - val_acc: 0.5833\n",
            "Epoch 3/20\n",
            "111/111 [==============================] - 0s 181us/step - loss: 1.2085 - acc: 0.5315 - val_loss: 0.8959 - val_acc: 0.5833\n",
            "Epoch 4/20\n",
            "111/111 [==============================] - 0s 180us/step - loss: 1.1046 - acc: 0.5225 - val_loss: 0.8405 - val_acc: 0.5833\n",
            "Epoch 5/20\n",
            "111/111 [==============================] - 0s 187us/step - loss: 1.0529 - acc: 0.5495 - val_loss: 0.8205 - val_acc: 0.5833\n",
            "Epoch 6/20\n",
            "111/111 [==============================] - 0s 196us/step - loss: 1.0296 - acc: 0.5315 - val_loss: 0.8066 - val_acc: 0.6667\n",
            "Epoch 7/20\n",
            "111/111 [==============================] - 0s 192us/step - loss: 1.0104 - acc: 0.4955 - val_loss: 0.8193 - val_acc: 0.6667\n",
            "Epoch 8/20\n",
            "111/111 [==============================] - 0s 199us/step - loss: 0.9909 - acc: 0.5135 - val_loss: 0.8188 - val_acc: 0.6667\n",
            "Epoch 9/20\n",
            "111/111 [==============================] - 0s 174us/step - loss: 0.9855 - acc: 0.5315 - val_loss: 0.8270 - val_acc: 0.5833\n",
            "Epoch 10/20\n",
            "111/111 [==============================] - 0s 185us/step - loss: 0.9578 - acc: 0.5225 - val_loss: 0.8185 - val_acc: 0.6667\n",
            "Epoch 11/20\n",
            "111/111 [==============================] - 0s 186us/step - loss: 0.9518 - acc: 0.5315 - val_loss: 0.8283 - val_acc: 0.5833\n",
            "Epoch 12/20\n",
            "111/111 [==============================] - 0s 186us/step - loss: 0.9330 - acc: 0.5225 - val_loss: 0.8354 - val_acc: 0.5833\n",
            "Epoch 13/20\n",
            "111/111 [==============================] - 0s 192us/step - loss: 0.9217 - acc: 0.5225 - val_loss: 0.8200 - val_acc: 0.5000\n",
            "Epoch 14/20\n",
            "111/111 [==============================] - 0s 197us/step - loss: 0.9200 - acc: 0.5405 - val_loss: 0.8252 - val_acc: 0.5000\n",
            "Epoch 15/20\n",
            "111/111 [==============================] - 0s 185us/step - loss: 0.9149 - acc: 0.5405 - val_loss: 0.8534 - val_acc: 0.5000\n",
            "Epoch 16/20\n",
            "111/111 [==============================] - 0s 181us/step - loss: 0.9119 - acc: 0.5045 - val_loss: 0.8472 - val_acc: 0.5000\n",
            "Epoch 17/20\n",
            "111/111 [==============================] - 0s 187us/step - loss: 0.9072 - acc: 0.5225 - val_loss: 0.8578 - val_acc: 0.5833\n",
            "Epoch 18/20\n",
            "111/111 [==============================] - 0s 195us/step - loss: 0.9038 - acc: 0.5405 - val_loss: 0.8564 - val_acc: 0.5833\n",
            "Epoch 19/20\n",
            "111/111 [==============================] - 0s 192us/step - loss: 0.8937 - acc: 0.5405 - val_loss: 0.8326 - val_acc: 0.5833\n",
            "Epoch 20/20\n",
            "111/111 [==============================] - 0s 205us/step - loss: 0.9199 - acc: 0.4865 - val_loss: 0.8320 - val_acc: 0.5000\n",
            "Train on 111 samples, validate on 12 samples\n",
            "Epoch 1/20\n",
            "111/111 [==============================] - 1s 7ms/step - loss: 2.0141 - acc: 0.3423 - val_loss: 1.0156 - val_acc: 0.4167\n",
            "Epoch 2/20\n",
            "111/111 [==============================] - 0s 186us/step - loss: 1.3890 - acc: 0.3874 - val_loss: 0.8989 - val_acc: 0.5000\n",
            "Epoch 3/20\n",
            "111/111 [==============================] - 0s 192us/step - loss: 1.1755 - acc: 0.4775 - val_loss: 0.8635 - val_acc: 0.5833\n",
            "Epoch 4/20\n",
            "111/111 [==============================] - 0s 192us/step - loss: 1.1005 - acc: 0.5315 - val_loss: 0.8603 - val_acc: 0.5000\n",
            "Epoch 5/20\n",
            "111/111 [==============================] - 0s 207us/step - loss: 1.0527 - acc: 0.5405 - val_loss: 0.8462 - val_acc: 0.5000\n",
            "Epoch 6/20\n",
            "111/111 [==============================] - 0s 210us/step - loss: 1.0298 - acc: 0.5225 - val_loss: 0.8337 - val_acc: 0.5000\n",
            "Epoch 7/20\n",
            "111/111 [==============================] - 0s 183us/step - loss: 1.0077 - acc: 0.5676 - val_loss: 0.8220 - val_acc: 0.5833\n",
            "Epoch 8/20\n",
            "111/111 [==============================] - 0s 175us/step - loss: 1.0026 - acc: 0.5586 - val_loss: 0.8188 - val_acc: 0.5833\n",
            "Epoch 9/20\n",
            "111/111 [==============================] - 0s 195us/step - loss: 0.9818 - acc: 0.5405 - val_loss: 0.8176 - val_acc: 0.5000\n",
            "Epoch 10/20\n",
            "111/111 [==============================] - 0s 213us/step - loss: 0.9729 - acc: 0.5676 - val_loss: 0.7979 - val_acc: 0.5833\n",
            "Epoch 11/20\n",
            "111/111 [==============================] - 0s 205us/step - loss: 0.9715 - acc: 0.5586 - val_loss: 0.7964 - val_acc: 0.5833\n",
            "Epoch 12/20\n",
            "111/111 [==============================] - 0s 188us/step - loss: 0.9618 - acc: 0.5405 - val_loss: 0.7874 - val_acc: 0.5833\n",
            "Epoch 13/20\n",
            "111/111 [==============================] - 0s 193us/step - loss: 0.9543 - acc: 0.5676 - val_loss: 0.7807 - val_acc: 0.5833\n",
            "Epoch 14/20\n",
            "111/111 [==============================] - 0s 201us/step - loss: 0.9542 - acc: 0.5405 - val_loss: 0.7761 - val_acc: 0.5833\n",
            "Epoch 15/20\n",
            "111/111 [==============================] - 0s 189us/step - loss: 0.9407 - acc: 0.5856 - val_loss: 0.7865 - val_acc: 0.5833\n",
            "Epoch 16/20\n",
            "111/111 [==============================] - 0s 192us/step - loss: 0.9509 - acc: 0.5766 - val_loss: 0.7780 - val_acc: 0.5833\n",
            "Epoch 17/20\n",
            "111/111 [==============================] - 0s 200us/step - loss: 0.9351 - acc: 0.5946 - val_loss: 0.7784 - val_acc: 0.5833\n",
            "Epoch 18/20\n",
            "111/111 [==============================] - 0s 224us/step - loss: 0.9285 - acc: 0.5856 - val_loss: 0.7696 - val_acc: 0.6667\n",
            "Epoch 19/20\n",
            "111/111 [==============================] - 0s 215us/step - loss: 0.9270 - acc: 0.6216 - val_loss: 0.7771 - val_acc: 0.5833\n",
            "Epoch 20/20\n",
            "111/111 [==============================] - 0s 188us/step - loss: 0.9301 - acc: 0.6216 - val_loss: 0.7757 - val_acc: 0.6667\n",
            "Train on 111 samples, validate on 12 samples\n",
            "Epoch 1/20\n",
            "111/111 [==============================] - 1s 7ms/step - loss: 1.8765 - acc: 0.3063 - val_loss: 1.7262 - val_acc: 0.1667\n",
            "Epoch 2/20\n",
            "111/111 [==============================] - 0s 198us/step - loss: 1.3077 - acc: 0.3784 - val_loss: 1.5113 - val_acc: 0.5000\n",
            "Epoch 3/20\n",
            "111/111 [==============================] - 0s 197us/step - loss: 1.1447 - acc: 0.3874 - val_loss: 1.4402 - val_acc: 0.5000\n",
            "Epoch 4/20\n",
            "111/111 [==============================] - 0s 224us/step - loss: 1.0718 - acc: 0.4234 - val_loss: 1.4039 - val_acc: 0.5000\n",
            "Epoch 5/20\n",
            "111/111 [==============================] - 0s 208us/step - loss: 1.0271 - acc: 0.4595 - val_loss: 1.3627 - val_acc: 0.5000\n",
            "Epoch 6/20\n",
            "111/111 [==============================] - 0s 201us/step - loss: 0.9956 - acc: 0.4595 - val_loss: 1.3158 - val_acc: 0.5000\n",
            "Epoch 7/20\n",
            "111/111 [==============================] - 0s 181us/step - loss: 0.9712 - acc: 0.4955 - val_loss: 1.2940 - val_acc: 0.5000\n",
            "Epoch 8/20\n",
            "111/111 [==============================] - 0s 197us/step - loss: 0.9462 - acc: 0.5225 - val_loss: 1.2838 - val_acc: 0.3333\n",
            "Epoch 9/20\n",
            "111/111 [==============================] - 0s 179us/step - loss: 0.9317 - acc: 0.5766 - val_loss: 1.2806 - val_acc: 0.2500\n",
            "Epoch 10/20\n",
            "111/111 [==============================] - 0s 198us/step - loss: 0.9171 - acc: 0.5856 - val_loss: 1.2651 - val_acc: 0.2500\n",
            "Epoch 11/20\n",
            "111/111 [==============================] - 0s 181us/step - loss: 0.9027 - acc: 0.6036 - val_loss: 1.2799 - val_acc: 0.2500\n",
            "Epoch 12/20\n",
            "111/111 [==============================] - 0s 210us/step - loss: 0.8828 - acc: 0.6126 - val_loss: 1.3066 - val_acc: 0.2500\n",
            "Epoch 13/20\n",
            "111/111 [==============================] - 0s 197us/step - loss: 0.8757 - acc: 0.6126 - val_loss: 1.3061 - val_acc: 0.2500\n",
            "Epoch 14/20\n",
            "111/111 [==============================] - 0s 179us/step - loss: 0.8670 - acc: 0.6216 - val_loss: 1.3510 - val_acc: 0.2500\n",
            "Epoch 15/20\n",
            "111/111 [==============================] - 0s 171us/step - loss: 0.8544 - acc: 0.6216 - val_loss: 1.3507 - val_acc: 0.2500\n",
            "Epoch 16/20\n",
            "111/111 [==============================] - 0s 185us/step - loss: 0.8449 - acc: 0.6306 - val_loss: 1.3651 - val_acc: 0.2500\n",
            "Epoch 17/20\n",
            "111/111 [==============================] - 0s 204us/step - loss: 0.8405 - acc: 0.6216 - val_loss: 1.3978 - val_acc: 0.2500\n",
            "Epoch 18/20\n",
            "111/111 [==============================] - 0s 282us/step - loss: 0.8330 - acc: 0.6306 - val_loss: 1.4317 - val_acc: 0.2500\n",
            "Epoch 19/20\n",
            "111/111 [==============================] - 0s 207us/step - loss: 0.8256 - acc: 0.6216 - val_loss: 1.4122 - val_acc: 0.2500\n",
            "Epoch 20/20\n",
            "111/111 [==============================] - 0s 287us/step - loss: 0.8204 - acc: 0.6306 - val_loss: 1.4063 - val_acc: 0.2500\n",
            "Train on 111 samples, validate on 12 samples\n",
            "Epoch 1/20\n",
            "111/111 [==============================] - 1s 8ms/step - loss: 1.8160 - acc: 0.3153 - val_loss: 1.2619 - val_acc: 0.5000\n",
            "Epoch 2/20\n",
            "111/111 [==============================] - 0s 193us/step - loss: 1.2232 - acc: 0.3964 - val_loss: 1.0567 - val_acc: 0.4167\n",
            "Epoch 3/20\n",
            "111/111 [==============================] - 0s 193us/step - loss: 1.0567 - acc: 0.4234 - val_loss: 1.0002 - val_acc: 0.5000\n",
            "Epoch 4/20\n",
            "111/111 [==============================] - 0s 171us/step - loss: 1.0108 - acc: 0.4685 - val_loss: 1.0064 - val_acc: 0.5000\n",
            "Epoch 5/20\n",
            "111/111 [==============================] - 0s 174us/step - loss: 0.9779 - acc: 0.4865 - val_loss: 1.0006 - val_acc: 0.5000\n",
            "Epoch 6/20\n",
            "111/111 [==============================] - 0s 171us/step - loss: 0.9679 - acc: 0.4955 - val_loss: 0.9996 - val_acc: 0.5000\n",
            "Epoch 7/20\n",
            "111/111 [==============================] - 0s 200us/step - loss: 0.9584 - acc: 0.5135 - val_loss: 1.0033 - val_acc: 0.5000\n",
            "Epoch 8/20\n",
            "111/111 [==============================] - 0s 205us/step - loss: 0.9401 - acc: 0.5225 - val_loss: 1.0054 - val_acc: 0.5000\n",
            "Epoch 9/20\n",
            "111/111 [==============================] - 0s 183us/step - loss: 0.9338 - acc: 0.5225 - val_loss: 1.0128 - val_acc: 0.5000\n",
            "Epoch 10/20\n",
            "111/111 [==============================] - 0s 195us/step - loss: 0.9334 - acc: 0.5135 - val_loss: 1.0223 - val_acc: 0.5000\n",
            "Epoch 11/20\n",
            "111/111 [==============================] - 0s 242us/step - loss: 0.9256 - acc: 0.5315 - val_loss: 1.0282 - val_acc: 0.5000\n",
            "Epoch 12/20\n",
            "111/111 [==============================] - 0s 185us/step - loss: 0.9223 - acc: 0.5045 - val_loss: 1.0218 - val_acc: 0.5000\n",
            "Epoch 13/20\n",
            "111/111 [==============================] - 0s 212us/step - loss: 0.9210 - acc: 0.5045 - val_loss: 1.0324 - val_acc: 0.5000\n",
            "Epoch 14/20\n",
            "111/111 [==============================] - 0s 212us/step - loss: 0.9252 - acc: 0.5045 - val_loss: 1.0319 - val_acc: 0.5000\n",
            "Epoch 15/20\n",
            "111/111 [==============================] - 0s 209us/step - loss: 0.9114 - acc: 0.5315 - val_loss: 1.0301 - val_acc: 0.5000\n",
            "Epoch 16/20\n",
            "111/111 [==============================] - 0s 242us/step - loss: 0.9162 - acc: 0.5135 - val_loss: 1.0323 - val_acc: 0.5000\n",
            "Epoch 17/20\n",
            "111/111 [==============================] - 0s 174us/step - loss: 0.9098 - acc: 0.5495 - val_loss: 1.0338 - val_acc: 0.5000\n",
            "Epoch 18/20\n",
            "111/111 [==============================] - 0s 192us/step - loss: 0.9085 - acc: 0.5225 - val_loss: 1.0376 - val_acc: 0.5000\n",
            "Epoch 19/20\n",
            "111/111 [==============================] - 0s 200us/step - loss: 0.9056 - acc: 0.5405 - val_loss: 1.0306 - val_acc: 0.5000\n",
            "Epoch 20/20\n",
            "111/111 [==============================] - 0s 206us/step - loss: 0.9012 - acc: 0.5225 - val_loss: 1.0312 - val_acc: 0.5000\n",
            "Train on 111 samples, validate on 12 samples\n",
            "Epoch 1/20\n",
            "111/111 [==============================] - 1s 8ms/step - loss: 2.0394 - acc: 0.2973 - val_loss: 1.2041 - val_acc: 0.2500\n",
            "Epoch 2/20\n",
            "111/111 [==============================] - 0s 267us/step - loss: 1.2482 - acc: 0.3964 - val_loss: 1.0119 - val_acc: 0.4167\n",
            "Epoch 3/20\n",
            "111/111 [==============================] - 0s 211us/step - loss: 1.1374 - acc: 0.3784 - val_loss: 0.9614 - val_acc: 0.4167\n",
            "Epoch 4/20\n",
            "111/111 [==============================] - 0s 196us/step - loss: 1.0647 - acc: 0.3874 - val_loss: 0.9407 - val_acc: 0.5000\n",
            "Epoch 5/20\n",
            "111/111 [==============================] - 0s 226us/step - loss: 1.0274 - acc: 0.4324 - val_loss: 0.9418 - val_acc: 0.5000\n",
            "Epoch 6/20\n",
            "111/111 [==============================] - 0s 208us/step - loss: 1.0068 - acc: 0.5135 - val_loss: 0.9529 - val_acc: 0.5000\n",
            "Epoch 7/20\n",
            "111/111 [==============================] - 0s 232us/step - loss: 0.9979 - acc: 0.4595 - val_loss: 0.9417 - val_acc: 0.6667\n",
            "Epoch 8/20\n",
            "111/111 [==============================] - 0s 260us/step - loss: 0.9808 - acc: 0.5135 - val_loss: 0.9556 - val_acc: 0.6667\n",
            "Epoch 9/20\n",
            "111/111 [==============================] - 0s 193us/step - loss: 0.9612 - acc: 0.5405 - val_loss: 0.9509 - val_acc: 0.5833\n",
            "Epoch 10/20\n",
            "111/111 [==============================] - 0s 176us/step - loss: 0.9601 - acc: 0.5405 - val_loss: 0.9476 - val_acc: 0.6667\n",
            "Epoch 11/20\n",
            "111/111 [==============================] - 0s 195us/step - loss: 0.9462 - acc: 0.5405 - val_loss: 0.9419 - val_acc: 0.5833\n",
            "Epoch 12/20\n",
            "111/111 [==============================] - 0s 200us/step - loss: 0.9413 - acc: 0.5405 - val_loss: 0.9462 - val_acc: 0.6667\n",
            "Epoch 13/20\n",
            "111/111 [==============================] - 0s 196us/step - loss: 0.9525 - acc: 0.5405 - val_loss: 0.9449 - val_acc: 0.6667\n",
            "Epoch 14/20\n",
            "111/111 [==============================] - 0s 228us/step - loss: 0.9432 - acc: 0.5586 - val_loss: 0.9444 - val_acc: 0.5833\n",
            "Epoch 15/20\n",
            "111/111 [==============================] - 0s 203us/step - loss: 0.9339 - acc: 0.5495 - val_loss: 0.9590 - val_acc: 0.6667\n",
            "Epoch 16/20\n",
            "111/111 [==============================] - 0s 193us/step - loss: 0.9285 - acc: 0.5495 - val_loss: 0.9438 - val_acc: 0.5833\n",
            "Epoch 17/20\n",
            "111/111 [==============================] - 0s 177us/step - loss: 0.9293 - acc: 0.5495 - val_loss: 0.9573 - val_acc: 0.6667\n",
            "Epoch 18/20\n",
            "111/111 [==============================] - 0s 191us/step - loss: 0.9170 - acc: 0.5586 - val_loss: 0.9649 - val_acc: 0.6667\n",
            "Epoch 19/20\n",
            "111/111 [==============================] - 0s 225us/step - loss: 0.9207 - acc: 0.5495 - val_loss: 0.9515 - val_acc: 0.5833\n",
            "Epoch 20/20\n",
            "111/111 [==============================] - 0s 191us/step - loss: 0.9227 - acc: 0.5495 - val_loss: 0.9572 - val_acc: 0.5833\n"
          ],
          "name": "stdout"
        }
      ]
    },
    {
      "cell_type": "code",
      "metadata": {
        "id": "s2eeOHoYbina",
        "colab_type": "code",
        "colab": {}
      },
      "source": [
        "history_dict = history.history"
      ],
      "execution_count": 0,
      "outputs": []
    },
    {
      "cell_type": "code",
      "metadata": {
        "id": "-zDN2PrRc36l",
        "colab_type": "code",
        "outputId": "24ee7c00-e8ab-4219-81d0-5480b01f984c",
        "colab": {
          "base_uri": "https://localhost:8080/",
          "height": 35
        }
      },
      "source": [
        "history_dict.keys()"
      ],
      "execution_count": 60,
      "outputs": [
        {
          "output_type": "execute_result",
          "data": {
            "text/plain": [
              "dict_keys(['val_loss', 'val_acc', 'loss', 'acc'])"
            ]
          },
          "metadata": {
            "tags": []
          },
          "execution_count": 60
        }
      ]
    },
    {
      "cell_type": "code",
      "metadata": {
        "id": "tss7vRUEgAcz",
        "colab_type": "code",
        "outputId": "709cc187-56a4-422a-af45-18461e5f34dd",
        "colab": {
          "base_uri": "https://localhost:8080/",
          "height": 35
        }
      },
      "source": [
        "len(all_acc_histories[2])"
      ],
      "execution_count": 61,
      "outputs": [
        {
          "output_type": "execute_result",
          "data": {
            "text/plain": [
              "20"
            ]
          },
          "metadata": {
            "tags": []
          },
          "execution_count": 61
        }
      ]
    },
    {
      "cell_type": "code",
      "metadata": {
        "id": "HpKE3iTJBHzO",
        "colab_type": "code",
        "colab": {}
      },
      "source": [
        "average_acc_history = [np.mean([x[i] for x in all_acc_histories]) for i in range(num_epochs)]\n",
        "#media per epoca degli score ottenuti per tutte le k-fold\n",
        "#per ogni k-fold di fanno num_epoch epoche, la media viene fatta prendendo gli score di tutti i k-fold relativi ad una data epoca,\n",
        "#e si fa questo per tutte le epoche\n",
        "average_loss_history = [np.mean([x[i] for x in all_loss_histories]) for i in range(num_epochs)]\n",
        "average_val_acc_history = [np.mean([x[i] for x in all_val_acc_histories]) for i in range(num_epochs)]\n",
        "average_val_loss_history = [np.mean([x[i] for x in all_val_loss_histories]) for i in range(num_epochs)]\n"
      ],
      "execution_count": 0,
      "outputs": []
    },
    {
      "cell_type": "code",
      "metadata": {
        "id": "uQrkCEMUD2RI",
        "colab_type": "code",
        "outputId": "fb590efe-a471-41e4-c425-ed4f4d0a28ec",
        "colab": {
          "base_uri": "https://localhost:8080/",
          "height": 35
        }
      },
      "source": [
        "len(average_val_acc_history)"
      ],
      "execution_count": 63,
      "outputs": [
        {
          "output_type": "execute_result",
          "data": {
            "text/plain": [
              "20"
            ]
          },
          "metadata": {
            "tags": []
          },
          "execution_count": 63
        }
      ]
    },
    {
      "cell_type": "markdown",
      "metadata": {
        "id": "B9UhSxIaHtuO",
        "colab_type": "text"
      },
      "source": [
        "##Plotting training and validation loss"
      ]
    },
    {
      "cell_type": "code",
      "metadata": {
        "id": "vq6zsienD5ct",
        "colab_type": "code",
        "colab": {}
      },
      "source": [
        "import matplotlib.pyplot as plt"
      ],
      "execution_count": 0,
      "outputs": []
    },
    {
      "cell_type": "code",
      "metadata": {
        "id": "XJizyjnaIPhQ",
        "colab_type": "code",
        "colab": {}
      },
      "source": [
        "epochs = range(1, num_epochs+1)"
      ],
      "execution_count": 0,
      "outputs": []
    },
    {
      "cell_type": "code",
      "metadata": {
        "id": "HfEHEYLgIQUQ",
        "colab_type": "code",
        "outputId": "0b67e00f-e257-4da8-e368-a29d3583fc40",
        "colab": {
          "base_uri": "https://localhost:8080/",
          "height": 313
        }
      },
      "source": [
        "plt.plot(epochs, average_loss_history, 'b', label='training loss')\n",
        "plt.plot(epochs, average_val_loss_history, 'r', label='validation loss')\n",
        "plt.title('Training and validation loss')\n",
        "plt.xlabel('Epochs')\n",
        "plt.ylabel('Loss')\n",
        "plt.legend()"
      ],
      "execution_count": 66,
      "outputs": [
        {
          "output_type": "execute_result",
          "data": {
            "text/plain": [
              "<matplotlib.legend.Legend at 0x7fa9ca603860>"
            ]
          },
          "metadata": {
            "tags": []
          },
          "execution_count": 66
        },
        {
          "output_type": "display_data",
          "data": {
            "image/png": "[encoded data removed]",
            "text/plain": [
              "<Figure size 432x288 with 1 Axes>"
            ]
          },
          "metadata": {
            "tags": []
          }
        }
      ]
    },
    {
      "cell_type": "markdown",
      "metadata": {
        "id": "Aoc4wMjfI97j",
        "colab_type": "text"
      },
      "source": [
        "##Plotting train and validation accuracy"
      ]
    },
    {
      "cell_type": "code",
      "metadata": {
        "id": "GZi7VzbFIbtJ",
        "colab_type": "code",
        "outputId": "04e0f6ae-0a15-449b-bdc7-f8a4dfd937a4",
        "colab": {
          "base_uri": "https://localhost:8080/",
          "height": 313
        }
      },
      "source": [
        "plt.plot(epochs, average_acc_history, 'b', label='Training accuracy')\n",
        "plt.plot(epochs, average_val_acc_history, 'r', label='Validation accuracy')\n",
        "plt.title('Training and validation accuracy')\n",
        "plt.xlabel('Epochs')\n",
        "plt.ylabel('Accuracy')\n",
        "plt.legend() "
      ],
      "execution_count": 67,
      "outputs": [
        {
          "output_type": "execute_result",
          "data": {
            "text/plain": [
              "<matplotlib.legend.Legend at 0x7fa9ca573ba8>"
            ]
          },
          "metadata": {
            "tags": []
          },
          "execution_count": 67
        },
        {
          "output_type": "display_data",
          "data": {
            "image/png": "[encoded data removed]",
            "text/plain": [
              "<Figure size 432x288 with 1 Axes>"
            ]
          },
          "metadata": {
            "tags": []
          }
        }
      ]
    },
    {
      "cell_type": "markdown",
      "metadata": {
        "id": "bgN-E84SUPUq",
        "colab_type": "text"
      },
      "source": [
        "#Performances on test set"
      ]
    },
    {
      "cell_type": "code",
      "metadata": {
        "id": "VokWFUNPJOsJ",
        "colab_type": "code",
        "outputId": "4c3fb7dd-8a9a-468b-8c10-b432d95464d0",
        "colab": {
          "base_uri": "https://localhost:8080/",
          "height": 770
        }
      },
      "source": [
        " model = build_model()\n",
        " model.fit(train_data_stand_pca, one_hot_train_labels, epochs= num_epochs, batch_size=8, shuffle=True)\n",
        " test_loss, test_acc = model.evaluate(test_data_stand_pca, one_hot_test_labels)\n",
        "  "
      ],
      "execution_count": 68,
      "outputs": [
        {
          "output_type": "stream",
          "text": [
            "Epoch 1/20\n",
            "123/123 [==============================] - 1s 7ms/step - loss: 2.3683 - acc: 0.2358\n",
            "Epoch 2/20\n",
            "123/123 [==============================] - 0s 185us/step - loss: 1.5760 - acc: 0.3984\n",
            "Epoch 3/20\n",
            "123/123 [==============================] - 0s 168us/step - loss: 1.2608 - acc: 0.4878\n",
            "Epoch 4/20\n",
            "123/123 [==============================] - 0s 201us/step - loss: 1.1040 - acc: 0.4959\n",
            "Epoch 5/20\n",
            "123/123 [==============================] - 0s 165us/step - loss: 1.0249 - acc: 0.4878\n",
            "Epoch 6/20\n",
            "123/123 [==============================] - 0s 210us/step - loss: 0.9893 - acc: 0.5366\n",
            "Epoch 7/20\n",
            "123/123 [==============================] - 0s 206us/step - loss: 0.9597 - acc: 0.5610\n",
            "Epoch 8/20\n",
            "123/123 [==============================] - 0s 183us/step - loss: 0.9466 - acc: 0.5285\n",
            "Epoch 9/20\n",
            "123/123 [==============================] - 0s 200us/step - loss: 0.9709 - acc: 0.5366\n",
            "Epoch 10/20\n",
            "123/123 [==============================] - 0s 200us/step - loss: 0.9285 - acc: 0.5366\n",
            "Epoch 11/20\n",
            "123/123 [==============================] - 0s 188us/step - loss: 0.9189 - acc: 0.5447\n",
            "Epoch 12/20\n",
            "123/123 [==============================] - 0s 215us/step - loss: 0.9152 - acc: 0.5285\n",
            "Epoch 13/20\n",
            "123/123 [==============================] - 0s 180us/step - loss: 0.9071 - acc: 0.5447\n",
            "Epoch 14/20\n",
            "123/123 [==============================] - 0s 174us/step - loss: 0.9049 - acc: 0.5285\n",
            "Epoch 15/20\n",
            "123/123 [==============================] - 0s 177us/step - loss: 0.9043 - acc: 0.5285\n",
            "Epoch 16/20\n",
            "123/123 [==============================] - 0s 172us/step - loss: 0.8939 - acc: 0.5772\n",
            "Epoch 17/20\n",
            "123/123 [==============================] - 0s 168us/step - loss: 0.8959 - acc: 0.5528\n",
            "Epoch 18/20\n",
            "123/123 [==============================] - 0s 159us/step - loss: 0.8870 - acc: 0.5528\n",
            "Epoch 19/20\n",
            "123/123 [==============================] - 0s 169us/step - loss: 0.8841 - acc: 0.5528\n",
            "Epoch 20/20\n",
            "123/123 [==============================] - 0s 163us/step - loss: 0.8768 - acc: 0.5528\n",
            "42/42 [==============================] - 0s 7ms/step\n"
          ],
          "name": "stdout"
        }
      ]
    },
    {
      "cell_type": "code",
      "metadata": {
        "id": "J-tXqN8teV_6",
        "colab_type": "code",
        "outputId": "7abd0f3b-cd08-4c98-b41b-7963c6adaa36",
        "colab": {
          "base_uri": "https://localhost:8080/",
          "height": 35
        }
      },
      "source": [
        "model.metrics_names"
      ],
      "execution_count": 69,
      "outputs": [
        {
          "output_type": "execute_result",
          "data": {
            "text/plain": [
              "['loss', 'acc']"
            ]
          },
          "metadata": {
            "tags": []
          },
          "execution_count": 69
        }
      ]
    },
    {
      "cell_type": "code",
      "metadata": {
        "id": "uLqboU_IeYu-",
        "colab_type": "code",
        "outputId": "97569daf-be53-43b2-b08e-0c2ab4254461",
        "colab": {
          "base_uri": "https://localhost:8080/",
          "height": 35
        }
      },
      "source": [
        "test_acc\n"
      ],
      "execution_count": 70,
      "outputs": [
        {
          "output_type": "execute_result",
          "data": {
            "text/plain": [
              "0.4285714299905868"
            ]
          },
          "metadata": {
            "tags": []
          },
          "execution_count": 70
        }
      ]
    },
    {
      "cell_type": "markdown",
      "metadata": {
        "id": "UOK9WqumiKV2",
        "colab_type": "text"
      },
      "source": [
        "#Prova con LDA"
      ]
    },
    {
      "cell_type": "markdown",
      "metadata": {
        "id": "5kvXfgKi2uWa",
        "colab_type": "text"
      },
      "source": [
        "##LDA"
      ]
    },
    {
      "cell_type": "code",
      "metadata": {
        "id": "hYTGbSu22w34",
        "colab_type": "code",
        "colab": {}
      },
      "source": [
        "from sklearn.discriminant_analysis import LinearDiscriminantAnalysis"
      ],
      "execution_count": 0,
      "outputs": []
    },
    {
      "cell_type": "code",
      "metadata": {
        "id": "TMCI-ALj23N1",
        "colab_type": "code",
        "colab": {}
      },
      "source": [
        "lda = LinearDiscriminantAnalysis()"
      ],
      "execution_count": 0,
      "outputs": []
    },
    {
      "cell_type": "code",
      "metadata": {
        "id": "EqcJWjWj3rvS",
        "colab_type": "code",
        "colab": {}
      },
      "source": [
        "train_data_stand_lda = lda.fit(train_data_stand, train_labels_dec).transform(train_data_stand)"
      ],
      "execution_count": 0,
      "outputs": []
    },
    {
      "cell_type": "code",
      "metadata": {
        "id": "3opFZvVx45TC",
        "colab_type": "code",
        "outputId": "a62459c0-554a-4e79-9a2c-3cd87aaf5cbd",
        "colab": {
          "base_uri": "https://localhost:8080/",
          "height": 35
        }
      },
      "source": [
        "train_data_stand_lda.shape"
      ],
      "execution_count": 74,
      "outputs": [
        {
          "output_type": "execute_result",
          "data": {
            "text/plain": [
              "(123, 2)"
            ]
          },
          "metadata": {
            "tags": []
          },
          "execution_count": 74
        }
      ]
    },
    {
      "cell_type": "code",
      "metadata": {
        "id": "cjpMHM6iqbbC",
        "colab_type": "code",
        "colab": {}
      },
      "source": [
        "test_data_stand_lda = lda.transform(test_data_stand)"
      ],
      "execution_count": 0,
      "outputs": []
    },
    {
      "cell_type": "markdown",
      "metadata": {
        "colab_type": "text",
        "id": "5r_lV6xwmmPi"
      },
      "source": [
        "##Building Network"
      ]
    },
    {
      "cell_type": "code",
      "metadata": {
        "colab_type": "code",
        "id": "vOCMUAeUmmP0",
        "colab": {}
      },
      "source": [
        "from keras import layers\n",
        "from keras.preprocessing import sequence"
      ],
      "execution_count": 0,
      "outputs": []
    },
    {
      "cell_type": "code",
      "metadata": {
        "colab_type": "code",
        "id": "OjW-IrxommQE",
        "colab": {}
      },
      "source": [
        "from keras import layers"
      ],
      "execution_count": 0,
      "outputs": []
    },
    {
      "cell_type": "code",
      "metadata": {
        "colab_type": "code",
        "id": "o-AuSahCmmQO",
        "colab": {}
      },
      "source": [
        "from keras import regularizers"
      ],
      "execution_count": 0,
      "outputs": []
    },
    {
      "cell_type": "code",
      "metadata": {
        "colab_type": "code",
        "id": "CUw7ZwNwmmQV",
        "colab": {}
      },
      "source": [
        "from keras.optimizers import SGD"
      ],
      "execution_count": 0,
      "outputs": []
    },
    {
      "cell_type": "code",
      "metadata": {
        "colab_type": "code",
        "id": "PfAdcrAmmmQc",
        "colab": {}
      },
      "source": [
        "def build_model():\n",
        "  model = keras.models.Sequential()\n",
        "  model.add(layers.Dense(5, activation='relu', input_shape=(2,)))\n",
        "  #model.add(layers.Dense(7, activation='relu'))\n",
        "  #model.add(layers.Dropout(rate=0.2))\n",
        "\n",
        "  model.add(layers.Dense(3, activation='softmax'))\n",
        "\n",
        "  sgd = SGD(lr=0.001, momentum=0.5)\n",
        "  \n",
        "  model.compile(optimizer=sgd, loss='categorical_crossentropy', metrics=['accuracy'])\n",
        "  return model"
      ],
      "execution_count": 0,
      "outputs": []
    },
    {
      "cell_type": "code",
      "metadata": {
        "colab_type": "code",
        "id": "dvJzYLTzmiQa",
        "colab": {}
      },
      "source": [
        ""
      ],
      "execution_count": 0,
      "outputs": []
    },
    {
      "cell_type": "markdown",
      "metadata": {
        "colab_type": "text",
        "id": "m_uMkq9TkKEc"
      },
      "source": [
        "##Stratified k-fold"
      ]
    },
    {
      "cell_type": "markdown",
      "metadata": {
        "colab_type": "text",
        "id": "nbGEaTxNkKEo"
      },
      "source": [
        "This cross-validation object is a variation of KFold that returns stratified folds. The folds are made by preserving the percentage of samples for each class."
      ]
    },
    {
      "cell_type": "code",
      "metadata": {
        "colab_type": "code",
        "id": "UZZWkHQXkKEw",
        "colab": {}
      },
      "source": [
        "from sklearn.model_selection import StratifiedKFold"
      ],
      "execution_count": 0,
      "outputs": []
    },
    {
      "cell_type": "code",
      "metadata": {
        "colab_type": "code",
        "outputId": "f72fa26a-db60-4751-bcce-41681cbca977",
        "id": "79E9JOcukKE9",
        "colab": {
          "base_uri": "https://localhost:8080/",
          "height": 35
        }
      },
      "source": [
        "skf = StratifiedKFold(n_splits=10, shuffle=True, random_state=1)\n",
        "skf.get_n_splits(train_data_stand_lda, train_labels_dec)"
      ],
      "execution_count": 83,
      "outputs": [
        {
          "output_type": "execute_result",
          "data": {
            "text/plain": [
              "10"
            ]
          },
          "metadata": {
            "tags": []
          },
          "execution_count": 83
        }
      ]
    },
    {
      "cell_type": "code",
      "metadata": {
        "colab_type": "code",
        "outputId": "d6e9e604-9682-430e-bae3-312944a2388b",
        "id": "RwE734fFkKFF",
        "colab": {
          "base_uri": "https://localhost:8080/",
          "height": 1000
        }
      },
      "source": [
        "for train_index, test_index in skf.split(train_data_stand_lda, train_labels_dec):\n",
        "    print(\"TRAIN:\", train_index, \"TEST:\", test_index)"
      ],
      "execution_count": 84,
      "outputs": [
        {
          "output_type": "stream",
          "text": [
            "TRAIN: [  0   1   2   3   4   5   6   7   8   9  10  11  12  13  14  15  16  17\n",
            "  18  20  21  22  23  24  25  26  27  28  29  30  31  32  33  34  36  38\n",
            "  39  40  42  43  44  45  46  47  48  49  50  51  52  53  54  55  57  58\n",
            "  59  61  62  63  64  65  66  67  69  70  71  72  73  74  76  79  80  81\n",
            "  82  83  84  85  86  87  88  89  90  91  92  93  95  96  97  98  99 100\n",
            " 101 102 103 104 105 106 107 108 109 111 112 113 114 115 116 117 118 120\n",
            " 121 122] TEST: [ 19  35  37  41  56  60  68  75  77  78  94 110 119]\n",
            "TRAIN: [  0   1   2   3   4   5   6   7   8   9  10  12  14  15  16  17  18  19\n",
            "  20  21  22  23  24  25  26  27  28  29  30  31  32  34  35  36  37  38\n",
            "  39  41  43  44  45  46  47  48  49  50  52  53  54  55  56  57  58  59\n",
            "  60  61  62  63  64  65  66  67  68  69  71  72  73  74  75  76  77  78\n",
            "  79  80  81  85  86  87  88  89  90  91  92  93  94  95  96  97  98  99\n",
            " 100 101 102 103 104 106 107 108 109 110 111 112 113 114 115 116 117 118\n",
            " 119 120] TEST: [ 11  13  33  40  42  51  70  82  83  84 105 121 122]\n",
            "TRAIN: [  0   1   2   3   4   5   6   7   8  10  11  12  13  14  15  16  17  18\n",
            "  19  20  21  22  23  24  25  26  27  28  29  30  31  32  33  34  35  37\n",
            "  39  40  41  42  43  45  46  47  48  50  51  52  54  55  56  57  58  59\n",
            "  60  61  62  64  65  67  68  69  70  71  72  73  75  76  77  78  79  80\n",
            "  81  82  83  84  85  87  88  89  90  91  92  93  94  95  96  97  99 100\n",
            " 101 102 103 104 105 106 107 109 110 112 113 114 115 116 117 118 119 120\n",
            " 121 122] TEST: [  9  36  38  44  49  53  63  66  74  86  98 108 111]\n",
            "TRAIN: [  0   2   3   4   5   6   8   9  10  11  12  13  14  15  16  17  18  19\n",
            "  20  22  24  25  26  27  28  29  30  31  32  33  34  35  36  37  38  40\n",
            "  41  42  43  44  45  46  47  48  49  50  51  52  53  54  56  57  58  59\n",
            "  60  61  62  63  66  67  68  69  70  72  73  74  75  76  77  78  79  80\n",
            "  81  82  83  84  85  86  87  88  89  91  92  93  94  95  96  97  98  99\n",
            " 100 101 102 103 105 106 107 108 109 110 111 112 113 114 115 116 117 118\n",
            " 119 121 122] TEST: [  1   7  21  23  39  55  64  65  71  90 104 120]\n",
            "TRAIN: [  0   1   2   4   6   7   8   9  11  12  13  14  15  17  18  19  20  21\n",
            "  22  23  24  25  26  27  28  29  30  31  32  33  34  35  36  37  38  39\n",
            "  40  41  42  43  44  45  48  49  50  51  52  53  54  55  56  57  58  60\n",
            "  61  62  63  64  65  66  67  68  70  71  72  73  74  75  76  77  78  79\n",
            "  80  81  82  83  84  85  86  87  89  90  91  92  93  94  95  96  97  98\n",
            "  99 101 102 103 104 105 106 108 109 110 111 112 113 115 116 117 118 119\n",
            " 120 121 122] TEST: [  3   5  10  16  46  47  59  69  88 100 107 114]\n",
            "TRAIN: [  1   2   3   4   5   6   7   8   9  10  11  12  13  14  15  16  19  20\n",
            "  21  22  23  24  25  26  27  28  30  31  32  33  35  36  37  38  39  40\n",
            "  41  42  43  44  45  46  47  48  49  50  51  52  53  54  55  56  57  58\n",
            "  59  60  61  63  64  65  66  67  68  69  70  71  72  73  74  75  76  77\n",
            "  78  79  80  81  82  83  84  86  87  88  89  90  91  92  94  96  97  98\n",
            "  99 100 101 102 103 104 105 106 107 108 109 110 111 112 114 115 118 119\n",
            " 120 121 122] TEST: [  0  17  18  29  34  62  85  93  95 113 116 117]\n",
            "TRAIN: [  0   1   2   3   4   5   7   8   9  10  11  12  13  14  15  16  17  18\n",
            "  19  20  21  22  23  24  26  28  29  30  33  34  35  36  37  38  39  40\n",
            "  41  42  43  44  45  46  47  49  50  51  52  53  55  56  57  58  59  60\n",
            "  61  62  63  64  65  66  67  68  69  70  71  72  73  74  75  76  77  78\n",
            "  79  81  82  83  84  85  86  87  88  90  92  93  94  95  96  97  98  99\n",
            " 100 101 103 104 105 106 107 108 109 110 111 113 114 115 116 117 118 119\n",
            " 120 121 122] TEST: [  6  25  27  31  32  48  54  80  89  91 102 112]\n",
            "TRAIN: [  0   1   3   4   5   6   7   8   9  10  11  12  13  14  16  17  18  19\n",
            "  21  22  23  25  26  27  28  29  31  32  33  34  35  36  37  38  39  40\n",
            "  41  42  44  45  46  47  48  49  50  51  52  53  54  55  56  58  59  60\n",
            "  61  62  63  64  65  66  68  69  70  71  72  73  74  75  77  78  79  80\n",
            "  81  82  83  84  85  86  87  88  89  90  91  92  93  94  95  96  97  98\n",
            "  99 100 102 103 104 105 106 107 108 110 111 112 113 114 116 117 118 119\n",
            " 120 121 122] TEST: [  2  15  20  24  30  43  57  67  76 101 109 115]\n",
            "TRAIN: [  0   1   2   3   5   6   7   9  10  11  12  13  15  16  17  18  19  20\n",
            "  21  22  23  24  25  26  27  29  30  31  32  33  34  35  36  37  38  39\n",
            "  40  41  42  43  44  45  46  47  48  49  51  52  53  54  55  56  57  58\n",
            "  59  60  62  63  64  65  66  67  68  69  70  71  73  74  75  76  77  78\n",
            "  80  82  83  84  85  86  87  88  89  90  91  93  94  95  96  97  98  99\n",
            " 100 101 102 103 104 105 107 108 109 110 111 112 113 114 115 116 117 119\n",
            " 120 121 122] TEST: [  4   8  14  28  50  61  72  79  81  92 106 118]\n",
            "TRAIN: [  0   1   2   3   4   5   6   7   8   9  10  11  13  14  15  16  17  18\n",
            "  19  20  21  23  24  25  27  28  29  30  31  32  33  34  35  36  37  38\n",
            "  39  40  41  42  43  44  46  47  48  49  50  51  53  54  55  56  57  59\n",
            "  60  61  62  63  64  65  66  67  68  69  70  71  72  74  75  76  77  78\n",
            "  79  80  81  82  83  84  85  86  88  89  90  91  92  93  94  95  98 100\n",
            " 101 102 104 105 106 107 108 109 110 111 112 113 114 115 116 117 118 119\n",
            " 120 121 122] TEST: [ 12  22  26  45  52  58  73  87  96  97  99 103]\n"
          ],
          "name": "stdout"
        }
      ]
    },
    {
      "cell_type": "code",
      "metadata": {
        "colab_type": "code",
        "id": "DjbzRWoekKFN",
        "colab": {}
      },
      "source": [
        "#train_labels_dec[125]"
      ],
      "execution_count": 0,
      "outputs": []
    },
    {
      "cell_type": "code",
      "metadata": {
        "colab_type": "code",
        "id": "TeM5283okKFT",
        "colab": {}
      },
      "source": [
        "from keras.utils import to_categorical\n"
      ],
      "execution_count": 0,
      "outputs": []
    },
    {
      "cell_type": "code",
      "metadata": {
        "colab_type": "code",
        "id": "EqbBo3ogkKFY",
        "colab": {}
      },
      "source": [
        "#for train_index, val_index in skf.split(train_data_stand_pca, train_labels_dec):\n",
        " \n",
        "#  partial_train_data = np.array([train_data_stand_pca[i] for i in train_index])\n",
        "#  partial_train_targets = np.array([train_labels_dec[i] for i in train_index])\n",
        "\n",
        "#  val_data = np.array([train_data_stand_pca[i] for i in val_index])\n",
        "#  val_targets = np.array([train_labels_dec[i] for i in val_index])\n",
        "\n",
        "#  one_hot_partial_train_targets = to_categorical(partial_train_targets)\n",
        "#  one_hot_val_targets = to_categorical(val_targets)\n",
        "\n",
        "#  model = build_model()\n",
        "#  model.fit(partial_train_data, one_hot_partial_train_targets, epochs = num_epochs, batch_size=1)\n",
        "\n",
        "#  val_loss, val_accuracy = model.evaluate(val_data, one_hot_val_targets)\n",
        "#  all_scores.append(val_accuracy)\n",
        "#I parametri per la valutazione vengono calcolati una volta per ogni k-fold, per ogni set di validazione, quindi k volte"
      ],
      "execution_count": 0,
      "outputs": []
    },
    {
      "cell_type": "markdown",
      "metadata": {
        "colab_type": "text",
        "id": "lCSQeyEDkKFe"
      },
      "source": [
        "C'è un problema: keras.utils.to_categorical produces a one-hot encoded class vector, i.e. the multilabel-indicator mentioned in the error message. StratifiedKFold is not designed to work with such input; i.e. your y must be a 1-D array of your class labels.\n",
        "Essentially, what you have to do is simply to invert the order of the operations: split first (using your intial y_train), and convert to_categorical afterwards."
      ]
    },
    {
      "cell_type": "code",
      "metadata": {
        "colab_type": "code",
        "id": "2Vx0gV_BkKFg",
        "colab": {}
      },
      "source": [
        "import keras"
      ],
      "execution_count": 0,
      "outputs": []
    },
    {
      "cell_type": "code",
      "metadata": {
        "colab_type": "code",
        "outputId": "bc49e7fa-6506-4793-9c62-4c7849f13e87",
        "id": "I8eztKAtkKFk",
        "colab": {
          "base_uri": "https://localhost:8080/",
          "height": 1000
        }
      },
      "source": [
        "num_epochs = 30\n",
        "all_acc_histories_lda = []\n",
        "all_loss_histories_lda = []\n",
        "all_val_acc_histories_lda = []\n",
        "all_val_loss_histories_lda = []\n",
        "\n",
        "for train_index, val_index in skf.split(train_data_stand_lda, train_labels_dec):\n",
        " \n",
        "  partial_train_data = np.array([train_data_stand_lda[i] for i in train_index])\n",
        "  partial_train_targets = np.array([train_labels_dec[i] for i in train_index])\n",
        "  \n",
        "  val_data = np.array([train_data_stand_lda[i] for i in val_index])\n",
        "  val_targets = np.array([train_labels_dec[i] for i in val_index])\n",
        "\n",
        "  one_hot_partial_train_targets = to_categorical(partial_train_targets)\n",
        "  one_hot_val_targets = to_categorical(val_targets)\n",
        "\n",
        " \n",
        "  model = build_model()\n",
        "  history = model.fit(partial_train_data, one_hot_partial_train_targets, validation_data=(val_data, one_hot_val_targets), \n",
        "                      epochs=num_epochs, batch_size=8)\n",
        "  \n",
        "  acc_history = history.history['acc']\n",
        "  all_acc_histories_lda.append(acc_history)\n",
        "\n",
        "  loss_history = history.history['loss']\n",
        "  all_loss_histories_lda.append(loss_history)\n",
        "\n",
        "  acc_val_history = history.history['val_acc']\n",
        "  all_val_acc_histories_lda.append(acc_val_history)\n",
        "\n",
        "  loss_val_history = history.history['val_loss']\n",
        "  all_val_loss_histories_lda.append(loss_val_history)\n",
        "  \n",
        "\n",
        "#I parametri per la valutazione vengono calcolati per ogni epoca, quindi num_epochs volte. \n",
        "#Il tutto viene ripetuto un numero di volte pari a n_splits.\n",
        "#Si ottiene una lista con n_splits elementi ciascuno dei quali è una lista lunga num_epochs,\n",
        "#ogni elemento può essere uno fra questi: dict_keys(['val_loss', 'val_acc', 'loss', 'acc']) "
      ],
      "execution_count": 87,
      "outputs": [
        {
          "output_type": "stream",
          "text": [
            "Train on 110 samples, validate on 13 samples\n",
            "Epoch 1/30\n",
            "110/110 [==============================] - 1s 9ms/step - loss: 1.8661 - acc: 0.0091 - val_loss: 1.7615 - val_acc: 0.0000e+00\n",
            "Epoch 2/30\n",
            "110/110 [==============================] - 0s 220us/step - loss: 1.6323 - acc: 0.1727 - val_loss: 1.5451 - val_acc: 0.3846\n",
            "Epoch 3/30\n",
            "110/110 [==============================] - 0s 225us/step - loss: 1.4405 - acc: 0.4000 - val_loss: 1.3639 - val_acc: 0.3846\n",
            "Epoch 4/30\n",
            "110/110 [==============================] - 0s 166us/step - loss: 1.2760 - acc: 0.4000 - val_loss: 1.2086 - val_acc: 0.3846\n",
            "Epoch 5/30\n",
            "110/110 [==============================] - 0s 203us/step - loss: 1.1419 - acc: 0.4000 - val_loss: 1.0806 - val_acc: 0.3846\n",
            "Epoch 6/30\n",
            "110/110 [==============================] - 0s 190us/step - loss: 1.0333 - acc: 0.4000 - val_loss: 0.9857 - val_acc: 0.4615\n",
            "Epoch 7/30\n",
            "110/110 [==============================] - 0s 197us/step - loss: 0.9489 - acc: 0.4364 - val_loss: 0.9105 - val_acc: 0.4615\n",
            "Epoch 8/30\n",
            "110/110 [==============================] - 0s 176us/step - loss: 0.8809 - acc: 0.4727 - val_loss: 0.8492 - val_acc: 0.5385\n",
            "Epoch 9/30\n",
            "110/110 [==============================] - 0s 166us/step - loss: 0.8254 - acc: 0.5818 - val_loss: 0.7997 - val_acc: 0.6154\n",
            "Epoch 10/30\n",
            "110/110 [==============================] - 0s 190us/step - loss: 0.7799 - acc: 0.5909 - val_loss: 0.7580 - val_acc: 0.6154\n",
            "Epoch 11/30\n",
            "110/110 [==============================] - 0s 180us/step - loss: 0.7417 - acc: 0.6000 - val_loss: 0.7232 - val_acc: 0.6154\n",
            "Epoch 12/30\n",
            "110/110 [==============================] - 0s 231us/step - loss: 0.7096 - acc: 0.6091 - val_loss: 0.6927 - val_acc: 0.6154\n",
            "Epoch 13/30\n",
            "110/110 [==============================] - 0s 189us/step - loss: 0.6817 - acc: 0.6273 - val_loss: 0.6673 - val_acc: 0.6154\n",
            "Epoch 14/30\n",
            "110/110 [==============================] - 0s 221us/step - loss: 0.6578 - acc: 0.6364 - val_loss: 0.6449 - val_acc: 0.6154\n",
            "Epoch 15/30\n",
            "110/110 [==============================] - 0s 204us/step - loss: 0.6369 - acc: 0.6364 - val_loss: 0.6243 - val_acc: 0.6154\n",
            "Epoch 16/30\n",
            "110/110 [==============================] - 0s 208us/step - loss: 0.6179 - acc: 0.6364 - val_loss: 0.6069 - val_acc: 0.6154\n",
            "Epoch 17/30\n",
            "110/110 [==============================] - 0s 193us/step - loss: 0.6012 - acc: 0.6364 - val_loss: 0.5907 - val_acc: 0.6154\n",
            "Epoch 18/30\n",
            "110/110 [==============================] - 0s 177us/step - loss: 0.5862 - acc: 0.6455 - val_loss: 0.5758 - val_acc: 0.6154\n",
            "Epoch 19/30\n",
            "110/110 [==============================] - 0s 197us/step - loss: 0.5722 - acc: 0.6455 - val_loss: 0.5628 - val_acc: 0.6923\n",
            "Epoch 20/30\n",
            "110/110 [==============================] - 0s 177us/step - loss: 0.5597 - acc: 0.6455 - val_loss: 0.5505 - val_acc: 0.6923\n",
            "Epoch 21/30\n",
            "110/110 [==============================] - 0s 230us/step - loss: 0.5482 - acc: 0.6455 - val_loss: 0.5392 - val_acc: 0.6923\n",
            "Epoch 22/30\n",
            "110/110 [==============================] - 0s 193us/step - loss: 0.5376 - acc: 0.6545 - val_loss: 0.5288 - val_acc: 0.6923\n",
            "Epoch 23/30\n",
            "110/110 [==============================] - 0s 209us/step - loss: 0.5277 - acc: 0.6545 - val_loss: 0.5190 - val_acc: 0.6923\n",
            "Epoch 24/30\n",
            "110/110 [==============================] - 0s 168us/step - loss: 0.5186 - acc: 0.6727 - val_loss: 0.5101 - val_acc: 0.6923\n",
            "Epoch 25/30\n",
            "110/110 [==============================] - 0s 171us/step - loss: 0.5101 - acc: 0.6818 - val_loss: 0.5019 - val_acc: 0.6923\n",
            "Epoch 26/30\n",
            "110/110 [==============================] - 0s 195us/step - loss: 0.5021 - acc: 0.6818 - val_loss: 0.4940 - val_acc: 0.6923\n",
            "Epoch 27/30\n",
            "110/110 [==============================] - 0s 212us/step - loss: 0.4944 - acc: 0.7091 - val_loss: 0.4864 - val_acc: 0.6923\n",
            "Epoch 28/30\n",
            "110/110 [==============================] - 0s 212us/step - loss: 0.4874 - acc: 0.7182 - val_loss: 0.4795 - val_acc: 0.6923\n",
            "Epoch 29/30\n",
            "110/110 [==============================] - 0s 204us/step - loss: 0.4808 - acc: 0.7182 - val_loss: 0.4732 - val_acc: 0.6923\n",
            "Epoch 30/30\n",
            "110/110 [==============================] - 0s 205us/step - loss: 0.4744 - acc: 0.7273 - val_loss: 0.4667 - val_acc: 0.6923\n",
            "Train on 110 samples, validate on 13 samples\n",
            "Epoch 1/30\n",
            "110/110 [==============================] - 1s 9ms/step - loss: 2.8019 - acc: 0.3455 - val_loss: 2.5791 - val_acc: 0.4615\n",
            "Epoch 2/30\n",
            "110/110 [==============================] - 0s 201us/step - loss: 2.3844 - acc: 0.4000 - val_loss: 2.1842 - val_acc: 0.4615\n",
            "Epoch 3/30\n",
            "110/110 [==============================] - 0s 213us/step - loss: 2.0337 - acc: 0.5636 - val_loss: 1.8744 - val_acc: 0.7692\n",
            "Epoch 4/30\n",
            "110/110 [==============================] - 0s 206us/step - loss: 1.7313 - acc: 0.7545 - val_loss: 1.6018 - val_acc: 0.7692\n",
            "Epoch 5/30\n",
            "110/110 [==============================] - 0s 224us/step - loss: 1.4697 - acc: 0.7636 - val_loss: 1.3572 - val_acc: 0.7692\n",
            "Epoch 6/30\n",
            "110/110 [==============================] - 0s 189us/step - loss: 1.2429 - acc: 0.7636 - val_loss: 1.1336 - val_acc: 0.7692\n",
            "Epoch 7/30\n",
            "110/110 [==============================] - 0s 192us/step - loss: 1.0565 - acc: 0.7727 - val_loss: 0.9560 - val_acc: 0.7692\n",
            "Epoch 8/30\n",
            "110/110 [==============================] - 0s 190us/step - loss: 0.8991 - acc: 0.7727 - val_loss: 0.8044 - val_acc: 0.7692\n",
            "Epoch 9/30\n",
            "110/110 [==============================] - 0s 175us/step - loss: 0.7725 - acc: 0.7818 - val_loss: 0.6990 - val_acc: 0.7692\n",
            "Epoch 10/30\n",
            "110/110 [==============================] - 0s 202us/step - loss: 0.6961 - acc: 0.7818 - val_loss: 0.6417 - val_acc: 0.7692\n",
            "Epoch 11/30\n",
            "110/110 [==============================] - 0s 205us/step - loss: 0.6425 - acc: 0.7818 - val_loss: 0.5925 - val_acc: 0.7692\n",
            "Epoch 12/30\n",
            "110/110 [==============================] - 0s 179us/step - loss: 0.5992 - acc: 0.7909 - val_loss: 0.5540 - val_acc: 0.7692\n",
            "Epoch 13/30\n",
            "110/110 [==============================] - 0s 202us/step - loss: 0.5619 - acc: 0.8000 - val_loss: 0.5217 - val_acc: 0.7692\n",
            "Epoch 14/30\n",
            "110/110 [==============================] - 0s 176us/step - loss: 0.5317 - acc: 0.8091 - val_loss: 0.4951 - val_acc: 0.8462\n",
            "Epoch 15/30\n",
            "110/110 [==============================] - 0s 192us/step - loss: 0.5059 - acc: 0.8182 - val_loss: 0.4726 - val_acc: 0.8462\n",
            "Epoch 16/30\n",
            "110/110 [==============================] - 0s 201us/step - loss: 0.4837 - acc: 0.8182 - val_loss: 0.4549 - val_acc: 0.8462\n",
            "Epoch 17/30\n",
            "110/110 [==============================] - 0s 214us/step - loss: 0.4643 - acc: 0.8455 - val_loss: 0.4398 - val_acc: 0.8462\n",
            "Epoch 18/30\n",
            "110/110 [==============================] - 0s 213us/step - loss: 0.4476 - acc: 0.8455 - val_loss: 0.4261 - val_acc: 0.8462\n",
            "Epoch 19/30\n",
            "110/110 [==============================] - 0s 196us/step - loss: 0.4334 - acc: 0.8636 - val_loss: 0.4137 - val_acc: 0.9231\n",
            "Epoch 20/30\n",
            "110/110 [==============================] - 0s 189us/step - loss: 0.4207 - acc: 0.8727 - val_loss: 0.4030 - val_acc: 0.9231\n",
            "Epoch 21/30\n",
            "110/110 [==============================] - 0s 181us/step - loss: 0.4096 - acc: 0.8818 - val_loss: 0.3934 - val_acc: 0.9231\n",
            "Epoch 22/30\n",
            "110/110 [==============================] - 0s 214us/step - loss: 0.3998 - acc: 0.9000 - val_loss: 0.3850 - val_acc: 0.9231\n",
            "Epoch 23/30\n",
            "110/110 [==============================] - 0s 206us/step - loss: 0.3908 - acc: 0.9182 - val_loss: 0.3781 - val_acc: 0.9231\n",
            "Epoch 24/30\n",
            "110/110 [==============================] - 0s 183us/step - loss: 0.3827 - acc: 0.9545 - val_loss: 0.3713 - val_acc: 0.9231\n",
            "Epoch 25/30\n",
            "110/110 [==============================] - 0s 199us/step - loss: 0.3753 - acc: 0.9727 - val_loss: 0.3651 - val_acc: 0.9231\n",
            "Epoch 26/30\n",
            "110/110 [==============================] - 0s 203us/step - loss: 0.3686 - acc: 0.9727 - val_loss: 0.3595 - val_acc: 1.0000\n",
            "Epoch 27/30\n",
            "110/110 [==============================] - 0s 184us/step - loss: 0.3626 - acc: 0.9727 - val_loss: 0.3542 - val_acc: 1.0000\n",
            "Epoch 28/30\n",
            "110/110 [==============================] - 0s 187us/step - loss: 0.3572 - acc: 0.9727 - val_loss: 0.3494 - val_acc: 1.0000\n",
            "Epoch 29/30\n",
            "110/110 [==============================] - 0s 181us/step - loss: 0.3524 - acc: 0.9727 - val_loss: 0.3448 - val_acc: 1.0000\n",
            "Epoch 30/30\n",
            "110/110 [==============================] - 0s 189us/step - loss: 0.3478 - acc: 0.9727 - val_loss: 0.3405 - val_acc: 1.0000\n",
            "Train on 110 samples, validate on 13 samples\n",
            "Epoch 1/30\n",
            "110/110 [==============================] - 1s 10ms/step - loss: 0.8522 - acc: 0.6000 - val_loss: 0.7122 - val_acc: 1.0000\n",
            "Epoch 2/30\n",
            "110/110 [==============================] - 0s 210us/step - loss: 0.6531 - acc: 0.9636 - val_loss: 0.5937 - val_acc: 1.0000\n",
            "Epoch 3/30\n",
            "110/110 [==============================] - 0s 215us/step - loss: 0.5615 - acc: 0.9909 - val_loss: 0.5347 - val_acc: 1.0000\n",
            "Epoch 4/30\n",
            "110/110 [==============================] - 0s 192us/step - loss: 0.5120 - acc: 0.9909 - val_loss: 0.4979 - val_acc: 1.0000\n",
            "Epoch 5/30\n",
            "110/110 [==============================] - 0s 215us/step - loss: 0.4787 - acc: 0.9909 - val_loss: 0.4704 - val_acc: 1.0000\n",
            "Epoch 6/30\n",
            "110/110 [==============================] - 0s 201us/step - loss: 0.4537 - acc: 0.9909 - val_loss: 0.4483 - val_acc: 1.0000\n",
            "Epoch 7/30\n",
            "110/110 [==============================] - 0s 187us/step - loss: 0.4330 - acc: 0.9909 - val_loss: 0.4290 - val_acc: 1.0000\n",
            "Epoch 8/30\n",
            "110/110 [==============================] - 0s 183us/step - loss: 0.4152 - acc: 0.9909 - val_loss: 0.4121 - val_acc: 1.0000\n",
            "Epoch 9/30\n",
            "110/110 [==============================] - 0s 182us/step - loss: 0.3994 - acc: 0.9909 - val_loss: 0.3967 - val_acc: 1.0000\n",
            "Epoch 10/30\n",
            "110/110 [==============================] - 0s 203us/step - loss: 0.3850 - acc: 0.9909 - val_loss: 0.3825 - val_acc: 1.0000\n",
            "Epoch 11/30\n",
            "110/110 [==============================] - 0s 208us/step - loss: 0.3716 - acc: 0.9909 - val_loss: 0.3692 - val_acc: 1.0000\n",
            "Epoch 12/30\n",
            "110/110 [==============================] - 0s 202us/step - loss: 0.3590 - acc: 0.9909 - val_loss: 0.3568 - val_acc: 1.0000\n",
            "Epoch 13/30\n",
            "110/110 [==============================] - 0s 217us/step - loss: 0.3473 - acc: 0.9909 - val_loss: 0.3450 - val_acc: 1.0000\n",
            "Epoch 14/30\n",
            "110/110 [==============================] - 0s 186us/step - loss: 0.3361 - acc: 0.9909 - val_loss: 0.3337 - val_acc: 1.0000\n",
            "Epoch 15/30\n",
            "110/110 [==============================] - 0s 233us/step - loss: 0.3255 - acc: 0.9909 - val_loss: 0.3228 - val_acc: 1.0000\n",
            "Epoch 16/30\n",
            "110/110 [==============================] - 0s 212us/step - loss: 0.3154 - acc: 0.9909 - val_loss: 0.3123 - val_acc: 1.0000\n",
            "Epoch 17/30\n",
            "110/110 [==============================] - 0s 186us/step - loss: 0.3057 - acc: 0.9909 - val_loss: 0.3024 - val_acc: 1.0000\n",
            "Epoch 18/30\n",
            "110/110 [==============================] - 0s 192us/step - loss: 0.2966 - acc: 0.9909 - val_loss: 0.2928 - val_acc: 1.0000\n",
            "Epoch 19/30\n",
            "110/110 [==============================] - 0s 200us/step - loss: 0.2877 - acc: 0.9909 - val_loss: 0.2838 - val_acc: 1.0000\n",
            "Epoch 20/30\n",
            "110/110 [==============================] - 0s 192us/step - loss: 0.2793 - acc: 1.0000 - val_loss: 0.2751 - val_acc: 1.0000\n",
            "Epoch 21/30\n",
            "110/110 [==============================] - 0s 176us/step - loss: 0.2713 - acc: 1.0000 - val_loss: 0.2665 - val_acc: 1.0000\n",
            "Epoch 22/30\n",
            "110/110 [==============================] - 0s 184us/step - loss: 0.2636 - acc: 1.0000 - val_loss: 0.2584 - val_acc: 1.0000\n",
            "Epoch 23/30\n",
            "110/110 [==============================] - 0s 191us/step - loss: 0.2562 - acc: 1.0000 - val_loss: 0.2505 - val_acc: 1.0000\n",
            "Epoch 24/30\n",
            "110/110 [==============================] - 0s 232us/step - loss: 0.2491 - acc: 1.0000 - val_loss: 0.2431 - val_acc: 1.0000\n",
            "Epoch 25/30\n",
            "110/110 [==============================] - 0s 210us/step - loss: 0.2423 - acc: 1.0000 - val_loss: 0.2358 - val_acc: 1.0000\n",
            "Epoch 26/30\n",
            "110/110 [==============================] - 0s 186us/step - loss: 0.2357 - acc: 1.0000 - val_loss: 0.2287 - val_acc: 1.0000\n",
            "Epoch 27/30\n",
            "110/110 [==============================] - 0s 187us/step - loss: 0.2294 - acc: 1.0000 - val_loss: 0.2221 - val_acc: 1.0000\n",
            "Epoch 28/30\n",
            "110/110 [==============================] - 0s 204us/step - loss: 0.2233 - acc: 1.0000 - val_loss: 0.2156 - val_acc: 1.0000\n",
            "Epoch 29/30\n",
            "110/110 [==============================] - 0s 213us/step - loss: 0.2175 - acc: 1.0000 - val_loss: 0.2092 - val_acc: 1.0000\n",
            "Epoch 30/30\n",
            "110/110 [==============================] - 0s 185us/step - loss: 0.2118 - acc: 1.0000 - val_loss: 0.2032 - val_acc: 1.0000\n",
            "Train on 111 samples, validate on 12 samples\n",
            "Epoch 1/30\n",
            "111/111 [==============================] - 1s 10ms/step - loss: 1.3360 - acc: 0.0360 - val_loss: 1.1830 - val_acc: 0.0000e+00\n",
            "Epoch 2/30\n",
            "111/111 [==============================] - 0s 221us/step - loss: 1.1665 - acc: 0.0721 - val_loss: 1.0555 - val_acc: 0.0833\n",
            "Epoch 3/30\n",
            "111/111 [==============================] - 0s 202us/step - loss: 1.0535 - acc: 0.2432 - val_loss: 0.9809 - val_acc: 0.2500\n",
            "Epoch 4/30\n",
            "111/111 [==============================] - 0s 189us/step - loss: 0.9766 - acc: 0.2523 - val_loss: 0.9251 - val_acc: 0.4167\n",
            "Epoch 5/30\n",
            "111/111 [==============================] - 0s 187us/step - loss: 0.9218 - acc: 0.3423 - val_loss: 0.8827 - val_acc: 0.5833\n",
            "Epoch 6/30\n",
            "111/111 [==============================] - 0s 188us/step - loss: 0.8775 - acc: 0.5495 - val_loss: 0.8472 - val_acc: 0.6667\n",
            "Epoch 7/30\n",
            "111/111 [==============================] - 0s 189us/step - loss: 0.8401 - acc: 0.6757 - val_loss: 0.8186 - val_acc: 0.6667\n",
            "Epoch 8/30\n",
            "111/111 [==============================] - 0s 214us/step - loss: 0.8084 - acc: 0.6847 - val_loss: 0.7929 - val_acc: 0.7500\n",
            "Epoch 9/30\n",
            "111/111 [==============================] - 0s 189us/step - loss: 0.7810 - acc: 0.7117 - val_loss: 0.7706 - val_acc: 0.8333\n",
            "Epoch 10/30\n",
            "111/111 [==============================] - 0s 194us/step - loss: 0.7566 - acc: 0.7207 - val_loss: 0.7509 - val_acc: 0.8333\n",
            "Epoch 11/30\n",
            "111/111 [==============================] - 0s 193us/step - loss: 0.7344 - acc: 0.7568 - val_loss: 0.7329 - val_acc: 0.8333\n",
            "Epoch 12/30\n",
            "111/111 [==============================] - 0s 215us/step - loss: 0.7142 - acc: 0.7568 - val_loss: 0.7168 - val_acc: 0.8333\n",
            "Epoch 13/30\n",
            "111/111 [==============================] - 0s 219us/step - loss: 0.6953 - acc: 0.7658 - val_loss: 0.7018 - val_acc: 1.0000\n",
            "Epoch 14/30\n",
            "111/111 [==============================] - 0s 193us/step - loss: 0.6781 - acc: 0.7838 - val_loss: 0.6879 - val_acc: 1.0000\n",
            "Epoch 15/30\n",
            "111/111 [==============================] - 0s 227us/step - loss: 0.6620 - acc: 0.8108 - val_loss: 0.6754 - val_acc: 1.0000\n",
            "Epoch 16/30\n",
            "111/111 [==============================] - 0s 198us/step - loss: 0.6469 - acc: 0.8378 - val_loss: 0.6636 - val_acc: 1.0000\n",
            "Epoch 17/30\n",
            "111/111 [==============================] - 0s 208us/step - loss: 0.6328 - acc: 0.8559 - val_loss: 0.6524 - val_acc: 1.0000\n",
            "Epoch 18/30\n",
            "111/111 [==============================] - 0s 180us/step - loss: 0.6196 - acc: 0.8829 - val_loss: 0.6418 - val_acc: 1.0000\n",
            "Epoch 19/30\n",
            "111/111 [==============================] - 0s 209us/step - loss: 0.6072 - acc: 0.9009 - val_loss: 0.6320 - val_acc: 1.0000\n",
            "Epoch 20/30\n",
            "111/111 [==============================] - 0s 204us/step - loss: 0.5956 - acc: 0.9009 - val_loss: 0.6226 - val_acc: 1.0000\n",
            "Epoch 21/30\n",
            "111/111 [==============================] - 0s 210us/step - loss: 0.5845 - acc: 0.9009 - val_loss: 0.6138 - val_acc: 1.0000\n",
            "Epoch 22/30\n",
            "111/111 [==============================] - 0s 227us/step - loss: 0.5739 - acc: 0.9009 - val_loss: 0.6054 - val_acc: 1.0000\n",
            "Epoch 23/30\n",
            "111/111 [==============================] - 0s 332us/step - loss: 0.5637 - acc: 0.9279 - val_loss: 0.5974 - val_acc: 1.0000\n",
            "Epoch 24/30\n",
            "111/111 [==============================] - 0s 225us/step - loss: 0.5542 - acc: 0.9279 - val_loss: 0.5898 - val_acc: 1.0000\n",
            "Epoch 25/30\n",
            "111/111 [==============================] - 0s 251us/step - loss: 0.5451 - acc: 0.9459 - val_loss: 0.5826 - val_acc: 1.0000\n",
            "Epoch 26/30\n",
            "111/111 [==============================] - 0s 264us/step - loss: 0.5365 - acc: 0.9550 - val_loss: 0.5756 - val_acc: 1.0000\n",
            "Epoch 27/30\n",
            "111/111 [==============================] - 0s 224us/step - loss: 0.5285 - acc: 0.9550 - val_loss: 0.5691 - val_acc: 1.0000\n",
            "Epoch 28/30\n",
            "111/111 [==============================] - 0s 224us/step - loss: 0.5208 - acc: 0.9730 - val_loss: 0.5627 - val_acc: 1.0000\n",
            "Epoch 29/30\n",
            "111/111 [==============================] - 0s 174us/step - loss: 0.5135 - acc: 0.9730 - val_loss: 0.5566 - val_acc: 1.0000\n",
            "Epoch 30/30\n",
            "111/111 [==============================] - 0s 210us/step - loss: 0.5064 - acc: 0.9730 - val_loss: 0.5508 - val_acc: 1.0000\n",
            "Train on 111 samples, validate on 12 samples\n",
            "Epoch 1/30\n",
            "111/111 [==============================] - 1s 10ms/step - loss: 1.6201 - acc: 0.4685 - val_loss: 1.3881 - val_acc: 0.5000\n",
            "Epoch 2/30\n",
            "111/111 [==============================] - 0s 251us/step - loss: 1.4542 - acc: 0.5045 - val_loss: 1.2456 - val_acc: 0.5833\n",
            "Epoch 3/30\n",
            "111/111 [==============================] - 0s 225us/step - loss: 1.3178 - acc: 0.5135 - val_loss: 1.1189 - val_acc: 0.5833\n",
            "Epoch 4/30\n",
            "111/111 [==============================] - 0s 213us/step - loss: 1.2025 - acc: 0.5405 - val_loss: 1.0194 - val_acc: 0.6667\n",
            "Epoch 5/30\n",
            "111/111 [==============================] - 0s 203us/step - loss: 1.1044 - acc: 0.5495 - val_loss: 0.9306 - val_acc: 0.6667\n",
            "Epoch 6/30\n",
            "111/111 [==============================] - 0s 184us/step - loss: 1.0198 - acc: 0.5766 - val_loss: 0.8533 - val_acc: 0.6667\n",
            "Epoch 7/30\n",
            "111/111 [==============================] - 0s 201us/step - loss: 0.9476 - acc: 0.5856 - val_loss: 0.7900 - val_acc: 0.6667\n",
            "Epoch 8/30\n",
            "111/111 [==============================] - 0s 222us/step - loss: 0.8857 - acc: 0.5856 - val_loss: 0.7344 - val_acc: 0.6667\n",
            "Epoch 9/30\n",
            "111/111 [==============================] - 0s 179us/step - loss: 0.8322 - acc: 0.5856 - val_loss: 0.6877 - val_acc: 0.6667\n",
            "Epoch 10/30\n",
            "111/111 [==============================] - 0s 178us/step - loss: 0.7853 - acc: 0.5856 - val_loss: 0.6461 - val_acc: 0.6667\n",
            "Epoch 11/30\n",
            "111/111 [==============================] - 0s 190us/step - loss: 0.7440 - acc: 0.5856 - val_loss: 0.6101 - val_acc: 0.6667\n",
            "Epoch 12/30\n",
            "111/111 [==============================] - 0s 190us/step - loss: 0.7074 - acc: 0.5856 - val_loss: 0.5783 - val_acc: 0.6667\n",
            "Epoch 13/30\n",
            "111/111 [==============================] - 0s 177us/step - loss: 0.6750 - acc: 0.5856 - val_loss: 0.5498 - val_acc: 0.6667\n",
            "Epoch 14/30\n",
            "111/111 [==============================] - 0s 186us/step - loss: 0.6458 - acc: 0.5946 - val_loss: 0.5251 - val_acc: 0.6667\n",
            "Epoch 15/30\n",
            "111/111 [==============================] - 0s 201us/step - loss: 0.6200 - acc: 0.5946 - val_loss: 0.5021 - val_acc: 0.6667\n",
            "Epoch 16/30\n",
            "111/111 [==============================] - 0s 183us/step - loss: 0.5961 - acc: 0.6036 - val_loss: 0.4814 - val_acc: 0.6667\n",
            "Epoch 17/30\n",
            "111/111 [==============================] - 0s 208us/step - loss: 0.5745 - acc: 0.6126 - val_loss: 0.4632 - val_acc: 0.6667\n",
            "Epoch 18/30\n",
            "111/111 [==============================] - 0s 217us/step - loss: 0.5544 - acc: 0.6216 - val_loss: 0.4462 - val_acc: 0.6667\n",
            "Epoch 19/30\n",
            "111/111 [==============================] - 0s 220us/step - loss: 0.5359 - acc: 0.6486 - val_loss: 0.4306 - val_acc: 0.6667\n",
            "Epoch 20/30\n",
            "111/111 [==============================] - 0s 220us/step - loss: 0.5189 - acc: 0.6577 - val_loss: 0.4162 - val_acc: 0.6667\n",
            "Epoch 21/30\n",
            "111/111 [==============================] - 0s 236us/step - loss: 0.5032 - acc: 0.6757 - val_loss: 0.4026 - val_acc: 0.6667\n",
            "Epoch 22/30\n",
            "111/111 [==============================] - 0s 234us/step - loss: 0.4886 - acc: 0.7387 - val_loss: 0.3902 - val_acc: 0.6667\n",
            "Epoch 23/30\n",
            "111/111 [==============================] - 0s 230us/step - loss: 0.4750 - acc: 0.8108 - val_loss: 0.3783 - val_acc: 0.9167\n",
            "Epoch 24/30\n",
            "111/111 [==============================] - 0s 202us/step - loss: 0.4620 - acc: 0.9099 - val_loss: 0.3669 - val_acc: 1.0000\n",
            "Epoch 25/30\n",
            "111/111 [==============================] - 0s 199us/step - loss: 0.4496 - acc: 0.9640 - val_loss: 0.3561 - val_acc: 1.0000\n",
            "Epoch 26/30\n",
            "111/111 [==============================] - 0s 186us/step - loss: 0.4378 - acc: 0.9730 - val_loss: 0.3459 - val_acc: 1.0000\n",
            "Epoch 27/30\n",
            "111/111 [==============================] - 0s 221us/step - loss: 0.4264 - acc: 0.9730 - val_loss: 0.3360 - val_acc: 1.0000\n",
            "Epoch 28/30\n",
            "111/111 [==============================] - 0s 206us/step - loss: 0.4156 - acc: 0.9820 - val_loss: 0.3260 - val_acc: 1.0000\n",
            "Epoch 29/30\n",
            "111/111 [==============================] - 0s 222us/step - loss: 0.4050 - acc: 0.9820 - val_loss: 0.3169 - val_acc: 1.0000\n",
            "Epoch 30/30\n",
            "111/111 [==============================] - 0s 242us/step - loss: 0.3946 - acc: 0.9820 - val_loss: 0.3079 - val_acc: 1.0000\n",
            "Train on 111 samples, validate on 12 samples\n",
            "Epoch 1/30\n",
            "111/111 [==============================] - 1s 11ms/step - loss: 1.4494 - acc: 0.4144 - val_loss: 1.3050 - val_acc: 0.5833\n",
            "Epoch 2/30\n",
            "111/111 [==============================] - 0s 290us/step - loss: 1.2402 - acc: 0.5586 - val_loss: 1.1551 - val_acc: 0.6667\n",
            "Epoch 3/30\n",
            "111/111 [==============================] - 0s 207us/step - loss: 1.0827 - acc: 0.5946 - val_loss: 1.0387 - val_acc: 0.6667\n",
            "Epoch 4/30\n",
            "111/111 [==============================] - 0s 257us/step - loss: 0.9588 - acc: 0.6036 - val_loss: 0.9463 - val_acc: 0.6667\n",
            "Epoch 5/30\n",
            "111/111 [==============================] - 0s 244us/step - loss: 0.8585 - acc: 0.6036 - val_loss: 0.8719 - val_acc: 0.6667\n",
            "Epoch 6/30\n",
            "111/111 [==============================] - 0s 201us/step - loss: 0.7750 - acc: 0.6036 - val_loss: 0.8072 - val_acc: 0.6667\n",
            "Epoch 7/30\n",
            "111/111 [==============================] - 0s 204us/step - loss: 0.7037 - acc: 0.6036 - val_loss: 0.7534 - val_acc: 0.6667\n",
            "Epoch 8/30\n",
            "111/111 [==============================] - 0s 198us/step - loss: 0.6421 - acc: 0.6216 - val_loss: 0.7042 - val_acc: 0.6667\n",
            "Epoch 9/30\n",
            "111/111 [==============================] - 0s 200us/step - loss: 0.5877 - acc: 0.7117 - val_loss: 0.6629 - val_acc: 0.6667\n",
            "Epoch 10/30\n",
            "111/111 [==============================] - 0s 196us/step - loss: 0.5398 - acc: 0.7568 - val_loss: 0.6241 - val_acc: 0.7500\n",
            "Epoch 11/30\n",
            "111/111 [==============================] - 0s 206us/step - loss: 0.4974 - acc: 0.8288 - val_loss: 0.5898 - val_acc: 0.7500\n",
            "Epoch 12/30\n",
            "111/111 [==============================] - 0s 220us/step - loss: 0.4601 - acc: 0.9009 - val_loss: 0.5591 - val_acc: 0.7500\n",
            "Epoch 13/30\n",
            "111/111 [==============================] - 0s 211us/step - loss: 0.4270 - acc: 0.9279 - val_loss: 0.5316 - val_acc: 0.7500\n",
            "Epoch 14/30\n",
            "111/111 [==============================] - 0s 214us/step - loss: 0.3976 - acc: 0.9640 - val_loss: 0.5065 - val_acc: 0.7500\n",
            "Epoch 15/30\n",
            "111/111 [==============================] - 0s 221us/step - loss: 0.3713 - acc: 0.9640 - val_loss: 0.4839 - val_acc: 0.8333\n",
            "Epoch 16/30\n",
            "111/111 [==============================] - 0s 209us/step - loss: 0.3475 - acc: 0.9640 - val_loss: 0.4629 - val_acc: 0.8333\n",
            "Epoch 17/30\n",
            "111/111 [==============================] - 0s 223us/step - loss: 0.3260 - acc: 0.9640 - val_loss: 0.4435 - val_acc: 0.8333\n",
            "Epoch 18/30\n",
            "111/111 [==============================] - 0s 220us/step - loss: 0.3068 - acc: 0.9730 - val_loss: 0.4256 - val_acc: 0.8333\n",
            "Epoch 19/30\n",
            "111/111 [==============================] - 0s 214us/step - loss: 0.2894 - acc: 0.9820 - val_loss: 0.4085 - val_acc: 0.8333\n",
            "Epoch 20/30\n",
            "111/111 [==============================] - 0s 202us/step - loss: 0.2735 - acc: 0.9910 - val_loss: 0.3927 - val_acc: 0.8333\n",
            "Epoch 21/30\n",
            "111/111 [==============================] - 0s 232us/step - loss: 0.2592 - acc: 0.9910 - val_loss: 0.3784 - val_acc: 0.8333\n",
            "Epoch 22/30\n",
            "111/111 [==============================] - 0s 218us/step - loss: 0.2460 - acc: 1.0000 - val_loss: 0.3647 - val_acc: 0.8333\n",
            "Epoch 23/30\n",
            "111/111 [==============================] - 0s 213us/step - loss: 0.2341 - acc: 1.0000 - val_loss: 0.3521 - val_acc: 0.8333\n",
            "Epoch 24/30\n",
            "111/111 [==============================] - 0s 192us/step - loss: 0.2231 - acc: 1.0000 - val_loss: 0.3408 - val_acc: 0.8333\n",
            "Epoch 25/30\n",
            "111/111 [==============================] - 0s 210us/step - loss: 0.2131 - acc: 1.0000 - val_loss: 0.3296 - val_acc: 0.8333\n",
            "Epoch 26/30\n",
            "111/111 [==============================] - 0s 183us/step - loss: 0.2038 - acc: 1.0000 - val_loss: 0.3194 - val_acc: 0.8333\n",
            "Epoch 27/30\n",
            "111/111 [==============================] - 0s 181us/step - loss: 0.1952 - acc: 1.0000 - val_loss: 0.3101 - val_acc: 0.8333\n",
            "Epoch 28/30\n",
            "111/111 [==============================] - 0s 210us/step - loss: 0.1873 - acc: 1.0000 - val_loss: 0.3014 - val_acc: 0.8333\n",
            "Epoch 29/30\n",
            "111/111 [==============================] - 0s 193us/step - loss: 0.1800 - acc: 1.0000 - val_loss: 0.2928 - val_acc: 0.8333\n",
            "Epoch 30/30\n",
            "111/111 [==============================] - 0s 210us/step - loss: 0.1731 - acc: 1.0000 - val_loss: 0.2850 - val_acc: 0.8333\n",
            "Train on 111 samples, validate on 12 samples\n",
            "Epoch 1/30\n",
            "111/111 [==============================] - 1s 11ms/step - loss: 1.7363 - acc: 0.0270 - val_loss: 1.6500 - val_acc: 0.0000e+00\n",
            "Epoch 2/30\n",
            "111/111 [==============================] - 0s 206us/step - loss: 1.4955 - acc: 0.1171 - val_loss: 1.4153 - val_acc: 0.0000e+00\n",
            "Epoch 3/30\n",
            "111/111 [==============================] - 0s 203us/step - loss: 1.3363 - acc: 0.2072 - val_loss: 1.2602 - val_acc: 0.1667\n",
            "Epoch 4/30\n",
            "111/111 [==============================] - 0s 192us/step - loss: 1.2214 - acc: 0.2432 - val_loss: 1.1485 - val_acc: 0.2500\n",
            "Epoch 5/30\n",
            "111/111 [==============================] - 0s 181us/step - loss: 1.1297 - acc: 0.2523 - val_loss: 1.0618 - val_acc: 0.2500\n",
            "Epoch 6/30\n",
            "111/111 [==============================] - 0s 203us/step - loss: 1.0528 - acc: 0.2523 - val_loss: 0.9896 - val_acc: 0.2500\n",
            "Epoch 7/30\n",
            "111/111 [==============================] - 0s 159us/step - loss: 0.9869 - acc: 0.2703 - val_loss: 0.9307 - val_acc: 0.3333\n",
            "Epoch 8/30\n",
            "111/111 [==============================] - 0s 169us/step - loss: 0.9292 - acc: 0.2973 - val_loss: 0.8786 - val_acc: 0.3333\n",
            "Epoch 9/30\n",
            "111/111 [==============================] - 0s 166us/step - loss: 0.8788 - acc: 0.3333 - val_loss: 0.8344 - val_acc: 0.3333\n",
            "Epoch 10/30\n",
            "111/111 [==============================] - 0s 187us/step - loss: 0.8346 - acc: 0.3874 - val_loss: 0.7955 - val_acc: 0.3333\n",
            "Epoch 11/30\n",
            "111/111 [==============================] - 0s 182us/step - loss: 0.7959 - acc: 0.4865 - val_loss: 0.7612 - val_acc: 0.5000\n",
            "Epoch 12/30\n",
            "111/111 [==============================] - 0s 183us/step - loss: 0.7616 - acc: 0.5495 - val_loss: 0.7318 - val_acc: 0.5833\n",
            "Epoch 13/30\n",
            "111/111 [==============================] - 0s 176us/step - loss: 0.7313 - acc: 0.5676 - val_loss: 0.7041 - val_acc: 0.5833\n",
            "Epoch 14/30\n",
            "111/111 [==============================] - 0s 173us/step - loss: 0.7038 - acc: 0.5856 - val_loss: 0.6798 - val_acc: 0.5833\n",
            "Epoch 15/30\n",
            "111/111 [==============================] - 0s 180us/step - loss: 0.6792 - acc: 0.5946 - val_loss: 0.6590 - val_acc: 0.5833\n",
            "Epoch 16/30\n",
            "111/111 [==============================] - 0s 174us/step - loss: 0.6572 - acc: 0.6036 - val_loss: 0.6388 - val_acc: 0.5833\n",
            "Epoch 17/30\n",
            "111/111 [==============================] - 0s 177us/step - loss: 0.6372 - acc: 0.6036 - val_loss: 0.6205 - val_acc: 0.5833\n",
            "Epoch 18/30\n",
            "111/111 [==============================] - 0s 196us/step - loss: 0.6185 - acc: 0.6757 - val_loss: 0.6040 - val_acc: 0.8333\n",
            "Epoch 19/30\n",
            "111/111 [==============================] - 0s 210us/step - loss: 0.6014 - acc: 0.9730 - val_loss: 0.5884 - val_acc: 1.0000\n",
            "Epoch 20/30\n",
            "111/111 [==============================] - 0s 237us/step - loss: 0.5855 - acc: 0.9910 - val_loss: 0.5740 - val_acc: 1.0000\n",
            "Epoch 21/30\n",
            "111/111 [==============================] - 0s 226us/step - loss: 0.5709 - acc: 0.9910 - val_loss: 0.5604 - val_acc: 1.0000\n",
            "Epoch 22/30\n",
            "111/111 [==============================] - 0s 198us/step - loss: 0.5568 - acc: 0.9910 - val_loss: 0.5474 - val_acc: 1.0000\n",
            "Epoch 23/30\n",
            "111/111 [==============================] - 0s 189us/step - loss: 0.5436 - acc: 0.9910 - val_loss: 0.5350 - val_acc: 1.0000\n",
            "Epoch 24/30\n",
            "111/111 [==============================] - 0s 187us/step - loss: 0.5310 - acc: 0.9910 - val_loss: 0.5233 - val_acc: 1.0000\n",
            "Epoch 25/30\n",
            "111/111 [==============================] - 0s 191us/step - loss: 0.5189 - acc: 0.9910 - val_loss: 0.5117 - val_acc: 1.0000\n",
            "Epoch 26/30\n",
            "111/111 [==============================] - 0s 178us/step - loss: 0.5072 - acc: 0.9910 - val_loss: 0.5007 - val_acc: 1.0000\n",
            "Epoch 27/30\n",
            "111/111 [==============================] - 0s 177us/step - loss: 0.4960 - acc: 0.9910 - val_loss: 0.4901 - val_acc: 1.0000\n",
            "Epoch 28/30\n",
            "111/111 [==============================] - 0s 220us/step - loss: 0.4851 - acc: 0.9910 - val_loss: 0.4795 - val_acc: 1.0000\n",
            "Epoch 29/30\n",
            "111/111 [==============================] - 0s 181us/step - loss: 0.4744 - acc: 0.9910 - val_loss: 0.4691 - val_acc: 1.0000\n",
            "Epoch 30/30\n",
            "111/111 [==============================] - 0s 186us/step - loss: 0.4639 - acc: 0.9910 - val_loss: 0.4590 - val_acc: 1.0000\n",
            "Train on 111 samples, validate on 12 samples\n",
            "Epoch 1/30\n",
            "111/111 [==============================] - 1s 12ms/step - loss: 2.7425 - acc: 0.2252 - val_loss: 2.5327 - val_acc: 0.1667\n",
            "Epoch 2/30\n",
            "111/111 [==============================] - 0s 213us/step - loss: 2.4149 - acc: 0.2252 - val_loss: 2.2149 - val_acc: 0.1667\n",
            "Epoch 3/30\n",
            "111/111 [==============================] - 0s 241us/step - loss: 2.1125 - acc: 0.2252 - val_loss: 1.9342 - val_acc: 0.1667\n",
            "Epoch 4/30\n",
            "111/111 [==============================] - 0s 194us/step - loss: 1.8452 - acc: 0.2252 - val_loss: 1.6875 - val_acc: 0.1667\n",
            "Epoch 5/30\n",
            "111/111 [==============================] - 0s 189us/step - loss: 1.6162 - acc: 0.2252 - val_loss: 1.4708 - val_acc: 0.1667\n",
            "Epoch 6/30\n",
            "111/111 [==============================] - 0s 187us/step - loss: 1.4140 - acc: 0.2252 - val_loss: 1.2861 - val_acc: 0.1667\n",
            "Epoch 7/30\n",
            "111/111 [==============================] - 0s 175us/step - loss: 1.2401 - acc: 0.2432 - val_loss: 1.1295 - val_acc: 0.1667\n",
            "Epoch 8/30\n",
            "111/111 [==============================] - 0s 176us/step - loss: 1.0909 - acc: 0.2703 - val_loss: 0.9973 - val_acc: 0.2500\n",
            "Epoch 9/30\n",
            "111/111 [==============================] - 0s 160us/step - loss: 0.9662 - acc: 0.3063 - val_loss: 0.8874 - val_acc: 0.3333\n",
            "Epoch 10/30\n",
            "111/111 [==============================] - 0s 216us/step - loss: 0.8635 - acc: 0.4685 - val_loss: 0.7943 - val_acc: 0.4167\n",
            "Epoch 11/30\n",
            "111/111 [==============================] - 0s 186us/step - loss: 0.7789 - acc: 0.6126 - val_loss: 0.7190 - val_acc: 0.7500\n",
            "Epoch 12/30\n",
            "111/111 [==============================] - 0s 187us/step - loss: 0.7095 - acc: 0.6847 - val_loss: 0.6532 - val_acc: 0.7500\n",
            "Epoch 13/30\n",
            "111/111 [==============================] - 0s 182us/step - loss: 0.6494 - acc: 0.7838 - val_loss: 0.6001 - val_acc: 0.8333\n",
            "Epoch 14/30\n",
            "111/111 [==============================] - 0s 178us/step - loss: 0.5973 - acc: 0.8378 - val_loss: 0.5542 - val_acc: 0.9167\n",
            "Epoch 15/30\n",
            "111/111 [==============================] - 0s 212us/step - loss: 0.5508 - acc: 0.8739 - val_loss: 0.5126 - val_acc: 0.9167\n",
            "Epoch 16/30\n",
            "111/111 [==============================] - 0s 186us/step - loss: 0.5107 - acc: 0.9009 - val_loss: 0.4763 - val_acc: 1.0000\n",
            "Epoch 17/30\n",
            "111/111 [==============================] - 0s 200us/step - loss: 0.4749 - acc: 0.9189 - val_loss: 0.4441 - val_acc: 1.0000\n",
            "Epoch 18/30\n",
            "111/111 [==============================] - 0s 207us/step - loss: 0.4435 - acc: 0.9279 - val_loss: 0.4154 - val_acc: 1.0000\n",
            "Epoch 19/30\n",
            "111/111 [==============================] - 0s 177us/step - loss: 0.4150 - acc: 0.9369 - val_loss: 0.3897 - val_acc: 1.0000\n",
            "Epoch 20/30\n",
            "111/111 [==============================] - 0s 182us/step - loss: 0.3892 - acc: 0.9459 - val_loss: 0.3668 - val_acc: 1.0000\n",
            "Epoch 21/30\n",
            "111/111 [==============================] - 0s 189us/step - loss: 0.3657 - acc: 0.9640 - val_loss: 0.3455 - val_acc: 1.0000\n",
            "Epoch 22/30\n",
            "111/111 [==============================] - 0s 191us/step - loss: 0.3445 - acc: 0.9640 - val_loss: 0.3267 - val_acc: 1.0000\n",
            "Epoch 23/30\n",
            "111/111 [==============================] - 0s 184us/step - loss: 0.3253 - acc: 0.9730 - val_loss: 0.3095 - val_acc: 1.0000\n",
            "Epoch 24/30\n",
            "111/111 [==============================] - 0s 195us/step - loss: 0.3081 - acc: 0.9820 - val_loss: 0.2944 - val_acc: 1.0000\n",
            "Epoch 25/30\n",
            "111/111 [==============================] - 0s 189us/step - loss: 0.2923 - acc: 0.9820 - val_loss: 0.2804 - val_acc: 1.0000\n",
            "Epoch 26/30\n",
            "111/111 [==============================] - 0s 190us/step - loss: 0.2779 - acc: 0.9820 - val_loss: 0.2680 - val_acc: 1.0000\n",
            "Epoch 27/30\n",
            "111/111 [==============================] - 0s 198us/step - loss: 0.2647 - acc: 0.9820 - val_loss: 0.2566 - val_acc: 1.0000\n",
            "Epoch 28/30\n",
            "111/111 [==============================] - 0s 175us/step - loss: 0.2524 - acc: 0.9820 - val_loss: 0.2459 - val_acc: 1.0000\n",
            "Epoch 29/30\n",
            "111/111 [==============================] - 0s 271us/step - loss: 0.2412 - acc: 0.9820 - val_loss: 0.2360 - val_acc: 1.0000\n",
            "Epoch 30/30\n",
            "111/111 [==============================] - 0s 203us/step - loss: 0.2307 - acc: 0.9820 - val_loss: 0.2268 - val_acc: 1.0000\n",
            "Train on 111 samples, validate on 12 samples\n",
            "Epoch 1/30\n",
            "111/111 [==============================] - 1s 12ms/step - loss: 2.0659 - acc: 0.0000e+00 - val_loss: 1.7958 - val_acc: 0.0000e+00\n",
            "Epoch 2/30\n",
            "111/111 [==============================] - 0s 200us/step - loss: 1.8326 - acc: 0.0000e+00 - val_loss: 1.6137 - val_acc: 0.0000e+00\n",
            "Epoch 3/30\n",
            "111/111 [==============================] - 0s 203us/step - loss: 1.6393 - acc: 0.0000e+00 - val_loss: 1.4616 - val_acc: 0.0000e+00\n",
            "Epoch 4/30\n",
            "111/111 [==============================] - 0s 191us/step - loss: 1.4782 - acc: 0.0000e+00 - val_loss: 1.3328 - val_acc: 0.0000e+00\n",
            "Epoch 5/30\n",
            "111/111 [==============================] - 0s 191us/step - loss: 1.3455 - acc: 0.0270 - val_loss: 1.2262 - val_acc: 0.0833\n",
            "Epoch 6/30\n",
            "111/111 [==============================] - 0s 183us/step - loss: 1.2331 - acc: 0.1441 - val_loss: 1.1335 - val_acc: 0.3333\n",
            "Epoch 7/30\n",
            "111/111 [==============================] - 0s 188us/step - loss: 1.1392 - acc: 0.3514 - val_loss: 1.0549 - val_acc: 0.4167\n",
            "Epoch 8/30\n",
            "111/111 [==============================] - 0s 206us/step - loss: 1.0602 - acc: 0.4144 - val_loss: 0.9880 - val_acc: 0.4167\n",
            "Epoch 9/30\n",
            "111/111 [==============================] - 0s 195us/step - loss: 0.9943 - acc: 0.4324 - val_loss: 0.9302 - val_acc: 0.4167\n",
            "Epoch 10/30\n",
            "111/111 [==============================] - 0s 205us/step - loss: 0.9361 - acc: 0.4955 - val_loss: 0.8785 - val_acc: 0.5000\n",
            "Epoch 11/30\n",
            "111/111 [==============================] - 0s 188us/step - loss: 0.8853 - acc: 0.5586 - val_loss: 0.8304 - val_acc: 0.6667\n",
            "Epoch 12/30\n",
            "111/111 [==============================] - 0s 191us/step - loss: 0.8396 - acc: 0.6396 - val_loss: 0.7874 - val_acc: 0.6667\n",
            "Epoch 13/30\n",
            "111/111 [==============================] - 0s 194us/step - loss: 0.7983 - acc: 0.6486 - val_loss: 0.7490 - val_acc: 0.6667\n",
            "Epoch 14/30\n",
            "111/111 [==============================] - 0s 181us/step - loss: 0.7602 - acc: 0.6577 - val_loss: 0.7136 - val_acc: 0.6667\n",
            "Epoch 15/30\n",
            "111/111 [==============================] - 0s 195us/step - loss: 0.7260 - acc: 0.6667 - val_loss: 0.6815 - val_acc: 0.7500\n",
            "Epoch 16/30\n",
            "111/111 [==============================] - 0s 191us/step - loss: 0.6943 - acc: 0.6757 - val_loss: 0.6522 - val_acc: 0.7500\n",
            "Epoch 17/30\n",
            "111/111 [==============================] - 0s 176us/step - loss: 0.6653 - acc: 0.7748 - val_loss: 0.6253 - val_acc: 0.8333\n",
            "Epoch 18/30\n",
            "111/111 [==============================] - 0s 184us/step - loss: 0.6406 - acc: 0.8739 - val_loss: 0.6019 - val_acc: 1.0000\n",
            "Epoch 19/30\n",
            "111/111 [==============================] - 0s 192us/step - loss: 0.6216 - acc: 0.8829 - val_loss: 0.5821 - val_acc: 1.0000\n",
            "Epoch 20/30\n",
            "111/111 [==============================] - 0s 193us/step - loss: 0.6055 - acc: 0.8829 - val_loss: 0.5641 - val_acc: 1.0000\n",
            "Epoch 21/30\n",
            "111/111 [==============================] - 0s 222us/step - loss: 0.5908 - acc: 0.8919 - val_loss: 0.5484 - val_acc: 1.0000\n",
            "Epoch 22/30\n",
            "111/111 [==============================] - 0s 178us/step - loss: 0.5774 - acc: 0.9189 - val_loss: 0.5346 - val_acc: 1.0000\n",
            "Epoch 23/30\n",
            "111/111 [==============================] - 0s 212us/step - loss: 0.5646 - acc: 0.9009 - val_loss: 0.5218 - val_acc: 1.0000\n",
            "Epoch 24/30\n",
            "111/111 [==============================] - 0s 210us/step - loss: 0.5529 - acc: 0.9099 - val_loss: 0.5097 - val_acc: 1.0000\n",
            "Epoch 25/30\n",
            "111/111 [==============================] - 0s 204us/step - loss: 0.5422 - acc: 0.8919 - val_loss: 0.4984 - val_acc: 1.0000\n",
            "Epoch 26/30\n",
            "111/111 [==============================] - 0s 205us/step - loss: 0.5317 - acc: 0.9189 - val_loss: 0.4877 - val_acc: 1.0000\n",
            "Epoch 27/30\n",
            "111/111 [==============================] - 0s 219us/step - loss: 0.5217 - acc: 0.9279 - val_loss: 0.4773 - val_acc: 1.0000\n",
            "Epoch 28/30\n",
            "111/111 [==============================] - 0s 203us/step - loss: 0.5121 - acc: 0.9459 - val_loss: 0.4675 - val_acc: 1.0000\n",
            "Epoch 29/30\n",
            "111/111 [==============================] - 0s 207us/step - loss: 0.5027 - acc: 0.9459 - val_loss: 0.4580 - val_acc: 1.0000\n",
            "Epoch 30/30\n",
            "111/111 [==============================] - 0s 208us/step - loss: 0.4935 - acc: 0.9459 - val_loss: 0.4489 - val_acc: 1.0000\n",
            "Train on 111 samples, validate on 12 samples\n",
            "Epoch 1/30\n",
            "111/111 [==============================] - 1s 12ms/step - loss: 1.7258 - acc: 0.3784 - val_loss: 1.4105 - val_acc: 0.4167\n",
            "Epoch 2/30\n",
            "111/111 [==============================] - 0s 218us/step - loss: 1.3781 - acc: 0.4054 - val_loss: 1.1445 - val_acc: 0.4167\n",
            "Epoch 3/30\n",
            "111/111 [==============================] - 0s 229us/step - loss: 1.1235 - acc: 0.5405 - val_loss: 0.9873 - val_acc: 0.5833\n",
            "Epoch 4/30\n",
            "111/111 [==============================] - 0s 180us/step - loss: 0.9787 - acc: 0.6667 - val_loss: 0.9092 - val_acc: 0.6667\n",
            "Epoch 5/30\n",
            "111/111 [==============================] - 0s 165us/step - loss: 0.9001 - acc: 0.7387 - val_loss: 0.8603 - val_acc: 0.6667\n",
            "Epoch 6/30\n",
            "111/111 [==============================] - 0s 213us/step - loss: 0.8534 - acc: 0.8198 - val_loss: 0.8276 - val_acc: 0.7500\n",
            "Epoch 7/30\n",
            "111/111 [==============================] - 0s 193us/step - loss: 0.8228 - acc: 0.8829 - val_loss: 0.8040 - val_acc: 0.8333\n",
            "Epoch 8/30\n",
            "111/111 [==============================] - 0s 213us/step - loss: 0.8000 - acc: 0.8919 - val_loss: 0.7845 - val_acc: 0.8333\n",
            "Epoch 9/30\n",
            "111/111 [==============================] - 0s 192us/step - loss: 0.7818 - acc: 0.9009 - val_loss: 0.7675 - val_acc: 0.8333\n",
            "Epoch 10/30\n",
            "111/111 [==============================] - 0s 222us/step - loss: 0.7666 - acc: 0.9189 - val_loss: 0.7526 - val_acc: 0.8333\n",
            "Epoch 11/30\n",
            "111/111 [==============================] - 0s 236us/step - loss: 0.7533 - acc: 0.9279 - val_loss: 0.7391 - val_acc: 0.9167\n",
            "Epoch 12/30\n",
            "111/111 [==============================] - 0s 199us/step - loss: 0.7411 - acc: 0.9369 - val_loss: 0.7280 - val_acc: 0.9167\n",
            "Epoch 13/30\n",
            "111/111 [==============================] - 0s 186us/step - loss: 0.7302 - acc: 0.9369 - val_loss: 0.7180 - val_acc: 0.9167\n",
            "Epoch 14/30\n",
            "111/111 [==============================] - 0s 208us/step - loss: 0.7199 - acc: 0.9369 - val_loss: 0.7077 - val_acc: 1.0000\n",
            "Epoch 15/30\n",
            "111/111 [==============================] - 0s 197us/step - loss: 0.7102 - acc: 0.9459 - val_loss: 0.6994 - val_acc: 1.0000\n",
            "Epoch 16/30\n",
            "111/111 [==============================] - 0s 210us/step - loss: 0.7008 - acc: 0.9459 - val_loss: 0.6914 - val_acc: 1.0000\n",
            "Epoch 17/30\n",
            "111/111 [==============================] - 0s 205us/step - loss: 0.6916 - acc: 0.9459 - val_loss: 0.6837 - val_acc: 1.0000\n",
            "Epoch 18/30\n",
            "111/111 [==============================] - 0s 204us/step - loss: 0.6828 - acc: 0.9459 - val_loss: 0.6761 - val_acc: 1.0000\n",
            "Epoch 19/30\n",
            "111/111 [==============================] - 0s 216us/step - loss: 0.6743 - acc: 0.9459 - val_loss: 0.6685 - val_acc: 1.0000\n",
            "Epoch 20/30\n",
            "111/111 [==============================] - 0s 219us/step - loss: 0.6660 - acc: 0.9459 - val_loss: 0.6612 - val_acc: 1.0000\n",
            "Epoch 21/30\n",
            "111/111 [==============================] - 0s 250us/step - loss: 0.6580 - acc: 0.9459 - val_loss: 0.6540 - val_acc: 1.0000\n",
            "Epoch 22/30\n",
            "111/111 [==============================] - 0s 199us/step - loss: 0.6500 - acc: 0.9459 - val_loss: 0.6467 - val_acc: 1.0000\n",
            "Epoch 23/30\n",
            "111/111 [==============================] - 0s 218us/step - loss: 0.6424 - acc: 0.9459 - val_loss: 0.6396 - val_acc: 1.0000\n",
            "Epoch 24/30\n",
            "111/111 [==============================] - 0s 235us/step - loss: 0.6349 - acc: 0.9459 - val_loss: 0.6327 - val_acc: 1.0000\n",
            "Epoch 25/30\n",
            "111/111 [==============================] - 0s 208us/step - loss: 0.6276 - acc: 0.9459 - val_loss: 0.6257 - val_acc: 1.0000\n",
            "Epoch 26/30\n",
            "111/111 [==============================] - 0s 194us/step - loss: 0.6205 - acc: 0.9550 - val_loss: 0.6189 - val_acc: 1.0000\n",
            "Epoch 27/30\n",
            "111/111 [==============================] - 0s 186us/step - loss: 0.6135 - acc: 0.9550 - val_loss: 0.6124 - val_acc: 1.0000\n",
            "Epoch 28/30\n",
            "111/111 [==============================] - 0s 281us/step - loss: 0.6066 - acc: 0.9550 - val_loss: 0.6058 - val_acc: 1.0000\n",
            "Epoch 29/30\n",
            "111/111 [==============================] - 0s 206us/step - loss: 0.6000 - acc: 0.9550 - val_loss: 0.5992 - val_acc: 1.0000\n",
            "Epoch 30/30\n",
            "111/111 [==============================] - 0s 229us/step - loss: 0.5936 - acc: 0.9550 - val_loss: 0.5928 - val_acc: 1.0000\n"
          ],
          "name": "stdout"
        }
      ]
    },
    {
      "cell_type": "code",
      "metadata": {
        "id": "weMNsKxZnVSt",
        "colab_type": "code",
        "outputId": "03dfe5b0-7e26-494c-db14-93ae1264d38c",
        "colab": {
          "base_uri": "https://localhost:8080/",
          "height": 237
        }
      },
      "source": [
        "val_data"
      ],
      "execution_count": 88,
      "outputs": [
        {
          "output_type": "execute_result",
          "data": {
            "text/plain": [
              "array([[ 0.94892679, -3.26204263],\n",
              "       [ 3.6902765 ,  1.91193691],\n",
              "       [ 4.33888855,  3.11923441],\n",
              "       [-0.19375808, -1.99141129],\n",
              "       [ 4.92020805,  2.60198864],\n",
              "       [-0.11763691, -3.08731746],\n",
              "       [ 0.27541973, -3.58936325],\n",
              "       [ 4.10074676,  2.79547975],\n",
              "       [ 0.81236067, -4.18441726],\n",
              "       [ 4.62588055,  1.71410556],\n",
              "       [-8.20314863,  2.62258764],\n",
              "       [-7.82534822,  2.32665836]])"
            ]
          },
          "metadata": {
            "tags": []
          },
          "execution_count": 88
        }
      ]
    },
    {
      "cell_type": "code",
      "metadata": {
        "colab_type": "code",
        "id": "60PpnMXrkKFq",
        "colab": {}
      },
      "source": [
        "history_dict = history.history"
      ],
      "execution_count": 0,
      "outputs": []
    },
    {
      "cell_type": "code",
      "metadata": {
        "colab_type": "code",
        "outputId": "73712537-8a14-48dd-91ce-df86266fccd8",
        "id": "nCDzc10dkKFv",
        "colab": {
          "base_uri": "https://localhost:8080/",
          "height": 35
        }
      },
      "source": [
        "history_dict.keys()"
      ],
      "execution_count": 90,
      "outputs": [
        {
          "output_type": "execute_result",
          "data": {
            "text/plain": [
              "dict_keys(['val_loss', 'val_acc', 'loss', 'acc'])"
            ]
          },
          "metadata": {
            "tags": []
          },
          "execution_count": 90
        }
      ]
    },
    {
      "cell_type": "code",
      "metadata": {
        "colab_type": "code",
        "outputId": "86283397-87f7-4116-89b9-51aa0c397325",
        "id": "Y8cLzq3AkKF2",
        "colab": {
          "base_uri": "https://localhost:8080/",
          "height": 35
        }
      },
      "source": [
        "len(all_acc_histories[2])"
      ],
      "execution_count": 91,
      "outputs": [
        {
          "output_type": "execute_result",
          "data": {
            "text/plain": [
              "20"
            ]
          },
          "metadata": {
            "tags": []
          },
          "execution_count": 91
        }
      ]
    },
    {
      "cell_type": "code",
      "metadata": {
        "colab_type": "code",
        "id": "q7PBWUP9kKF6",
        "colab": {}
      },
      "source": [
        "average_acc_history_lda = [np.mean([x[i] for x in all_acc_histories_lda]) for i in range(num_epochs)]\n",
        "#media per epoca degli score ottenuti per tutte le k-fold\n",
        "#per ogni k-fold di fanno num_epoch epoche, la media viene fatta prendendo gli score di tutti i k-fold relativi ad una data epoca,\n",
        "#e si fa questo per tutte le epoche\n",
        "average_loss_history_lda = [np.mean([x[i] for x in all_loss_histories_lda]) for i in range(num_epochs)]\n",
        "average_val_acc_history_lda = [np.mean([x[i] for x in all_val_acc_histories_lda]) for i in range(num_epochs)]\n",
        "average_val_loss_history_lda = [np.mean([x[i] for x in all_val_loss_histories_lda]) for i in range(num_epochs)]\n"
      ],
      "execution_count": 0,
      "outputs": []
    },
    {
      "cell_type": "code",
      "metadata": {
        "colab_type": "code",
        "outputId": "57b24971-e3cd-4a41-8340-e7e1cd570fb5",
        "id": "GXZaeLG7kKF_",
        "colab": {
          "base_uri": "https://localhost:8080/",
          "height": 35
        }
      },
      "source": [
        "len(average_val_acc_history)"
      ],
      "execution_count": 93,
      "outputs": [
        {
          "output_type": "execute_result",
          "data": {
            "text/plain": [
              "20"
            ]
          },
          "metadata": {
            "tags": []
          },
          "execution_count": 93
        }
      ]
    },
    {
      "cell_type": "markdown",
      "metadata": {
        "colab_type": "text",
        "id": "V0-h4UV1kKGD"
      },
      "source": [
        "##Plotting training and validation loss"
      ]
    },
    {
      "cell_type": "code",
      "metadata": {
        "colab_type": "code",
        "id": "Ep2R0tm9kKGF",
        "colab": {}
      },
      "source": [
        "import matplotlib.pyplot as plt"
      ],
      "execution_count": 0,
      "outputs": []
    },
    {
      "cell_type": "code",
      "metadata": {
        "colab_type": "code",
        "id": "dYcufxLHkKGK",
        "colab": {}
      },
      "source": [
        "epochs = range(1, num_epochs+1)"
      ],
      "execution_count": 0,
      "outputs": []
    },
    {
      "cell_type": "code",
      "metadata": {
        "colab_type": "code",
        "outputId": "dea44c5e-a466-44ef-f2fd-4beaee7033ff",
        "id": "XLBO05_pkKGQ",
        "colab": {
          "base_uri": "https://localhost:8080/",
          "height": 313
        }
      },
      "source": [
        "plt.plot(epochs, average_loss_history_lda, 'b', label='training loss')\n",
        "plt.plot(epochs, average_val_loss_history_lda, 'r', label='validation loss')\n",
        "plt.title('Training and validation loss lda')\n",
        "plt.xlabel('Epochs')\n",
        "plt.ylabel('Loss')\n",
        "plt.legend()"
      ],
      "execution_count": 96,
      "outputs": [
        {
          "output_type": "execute_result",
          "data": {
            "text/plain": [
              "<matplotlib.legend.Legend at 0x7fa9c9d89da0>"
            ]
          },
          "metadata": {
            "tags": []
          },
          "execution_count": 96
        },
        {
          "output_type": "display_data",
          "data": {
            "image/png": "[encoded data removed]",
            "text/plain": [
              "<Figure size 432x288 with 1 Axes>"
            ]
          },
          "metadata": {
            "tags": []
          }
        }
      ]
    },
    {
      "cell_type": "markdown",
      "metadata": {
        "colab_type": "text",
        "id": "XV3hLoOykKGV"
      },
      "source": [
        "##Plotting train and validation accuracy"
      ]
    },
    {
      "cell_type": "code",
      "metadata": {
        "colab_type": "code",
        "outputId": "eecf2906-e217-4a05-ee8c-e94a417eccd4",
        "id": "ttjl5eApkKGV",
        "colab": {
          "base_uri": "https://localhost:8080/",
          "height": 313
        }
      },
      "source": [
        "plt.plot(epochs, average_acc_history_lda, 'b', label='Training accuracy')\n",
        "plt.plot(epochs, average_val_acc_history_lda, 'r', label='Validation accuracy')\n",
        "plt.title('Training and validation accuracy lda')\n",
        "plt.xlabel('Epochs')\n",
        "plt.ylabel('Accuracy')\n",
        "plt.legend() "
      ],
      "execution_count": 97,
      "outputs": [
        {
          "output_type": "execute_result",
          "data": {
            "text/plain": [
              "<matplotlib.legend.Legend at 0x7fa9c9cfbb38>"
            ]
          },
          "metadata": {
            "tags": []
          },
          "execution_count": 97
        },
        {
          "output_type": "display_data",
          "data": {
            "image/png": "[encoded data removed]",
            "text/plain": [
              "<Figure size 432x288 with 1 Axes>"
            ]
          },
          "metadata": {
            "tags": []
          }
        }
      ]
    },
    {
      "cell_type": "markdown",
      "metadata": {
        "colab_type": "text",
        "id": "ckvqkyTYqE7B"
      },
      "source": [
        "##Performances on test set"
      ]
    },
    {
      "cell_type": "code",
      "metadata": {
        "colab_type": "code",
        "outputId": "cf2a8361-abcf-4226-d972-399266ce23b3",
        "id": "kmiW5yZ0qE7Q",
        "colab": {
          "base_uri": "https://localhost:8080/",
          "height": 1000
        }
      },
      "source": [
        " model = build_model()\n",
        " model.fit(train_data_stand_lda, one_hot_train_labels, epochs= num_epochs, batch_size=8, shuffle=True)\n",
        " test_loss, test_acc = model.evaluate(test_data_stand_lda, one_hot_test_labels)\n",
        "  "
      ],
      "execution_count": 98,
      "outputs": [
        {
          "output_type": "stream",
          "text": [
            "Epoch 1/30\n",
            "123/123 [==============================] - 1s 10ms/step - loss: 2.8781 - acc: 0.0976\n",
            "Epoch 2/30\n",
            "123/123 [==============================] - 0s 204us/step - loss: 2.4768 - acc: 0.1220\n",
            "Epoch 3/30\n",
            "123/123 [==============================] - 0s 179us/step - loss: 2.1509 - acc: 0.4146\n",
            "Epoch 4/30\n",
            "123/123 [==============================] - 0s 188us/step - loss: 1.8451 - acc: 0.6260\n",
            "Epoch 5/30\n",
            "123/123 [==============================] - 0s 174us/step - loss: 1.5793 - acc: 0.6829\n",
            "Epoch 6/30\n",
            "123/123 [==============================] - 0s 178us/step - loss: 1.3439 - acc: 0.7317\n",
            "Epoch 7/30\n",
            "123/123 [==============================] - 0s 188us/step - loss: 1.1264 - acc: 0.7480\n",
            "Epoch 8/30\n",
            "123/123 [==============================] - 0s 218us/step - loss: 0.9525 - acc: 0.7480\n",
            "Epoch 9/30\n",
            "123/123 [==============================] - 0s 252us/step - loss: 0.8298 - acc: 0.8049\n",
            "Epoch 10/30\n",
            "123/123 [==============================] - 0s 180us/step - loss: 0.7405 - acc: 0.9675\n",
            "Epoch 11/30\n",
            "123/123 [==============================] - 0s 188us/step - loss: 0.6783 - acc: 0.9919\n",
            "Epoch 12/30\n",
            "123/123 [==============================] - 0s 168us/step - loss: 0.6332 - acc: 0.9919\n",
            "Epoch 13/30\n",
            "123/123 [==============================] - 0s 192us/step - loss: 0.5981 - acc: 0.9919\n",
            "Epoch 14/30\n",
            "123/123 [==============================] - 0s 205us/step - loss: 0.5680 - acc: 1.0000\n",
            "Epoch 15/30\n",
            "123/123 [==============================] - 0s 177us/step - loss: 0.5420 - acc: 1.0000\n",
            "Epoch 16/30\n",
            "123/123 [==============================] - 0s 247us/step - loss: 0.5181 - acc: 1.0000\n",
            "Epoch 17/30\n",
            "123/123 [==============================] - 0s 208us/step - loss: 0.4965 - acc: 1.0000\n",
            "Epoch 18/30\n",
            "123/123 [==============================] - 0s 189us/step - loss: 0.4764 - acc: 1.0000\n",
            "Epoch 19/30\n",
            "123/123 [==============================] - 0s 169us/step - loss: 0.4575 - acc: 1.0000\n",
            "Epoch 20/30\n",
            "123/123 [==============================] - 0s 165us/step - loss: 0.4394 - acc: 1.0000\n",
            "Epoch 21/30\n",
            "123/123 [==============================] - 0s 222us/step - loss: 0.4224 - acc: 1.0000\n",
            "Epoch 22/30\n",
            "123/123 [==============================] - 0s 193us/step - loss: 0.4062 - acc: 1.0000\n",
            "Epoch 23/30\n",
            "123/123 [==============================] - 0s 158us/step - loss: 0.3909 - acc: 1.0000\n",
            "Epoch 24/30\n",
            "123/123 [==============================] - 0s 165us/step - loss: 0.3762 - acc: 1.0000\n",
            "Epoch 25/30\n",
            "123/123 [==============================] - 0s 174us/step - loss: 0.3621 - acc: 1.0000\n",
            "Epoch 26/30\n",
            "123/123 [==============================] - 0s 167us/step - loss: 0.3488 - acc: 1.0000\n",
            "Epoch 27/30\n",
            "123/123 [==============================] - 0s 168us/step - loss: 0.3359 - acc: 1.0000\n",
            "Epoch 28/30\n",
            "123/123 [==============================] - 0s 191us/step - loss: 0.3237 - acc: 1.0000\n",
            "Epoch 29/30\n",
            "123/123 [==============================] - 0s 193us/step - loss: 0.3120 - acc: 1.0000\n",
            "Epoch 30/30\n",
            "123/123 [==============================] - 0s 180us/step - loss: 0.3008 - acc: 1.0000\n",
            "42/42 [==============================] - 0s 11ms/step\n"
          ],
          "name": "stdout"
        }
      ]
    },
    {
      "cell_type": "code",
      "metadata": {
        "colab_type": "code",
        "outputId": "59d82e7c-1e9e-4a92-b9af-065b2bacdbc5",
        "id": "lCz1ZOSIqE7i",
        "colab": {
          "base_uri": "https://localhost:8080/",
          "height": 35
        }
      },
      "source": [
        "model.metrics_names"
      ],
      "execution_count": 99,
      "outputs": [
        {
          "output_type": "execute_result",
          "data": {
            "text/plain": [
              "['loss', 'acc']"
            ]
          },
          "metadata": {
            "tags": []
          },
          "execution_count": 99
        }
      ]
    },
    {
      "cell_type": "code",
      "metadata": {
        "colab_type": "code",
        "outputId": "e4b2dafe-f962-4667-a30f-f50f44a347a7",
        "id": "GbroOBzLqE7v",
        "colab": {
          "base_uri": "https://localhost:8080/",
          "height": 35
        }
      },
      "source": [
        "test_acc\n"
      ],
      "execution_count": 100,
      "outputs": [
        {
          "output_type": "execute_result",
          "data": {
            "text/plain": [
              "0.38095238237153917"
            ]
          },
          "metadata": {
            "tags": []
          },
          "execution_count": 100
        }
      ]
    },
    {
      "cell_type": "code",
      "metadata": {
        "id": "oQV6AwSwrmDr",
        "colab_type": "code",
        "colab": {}
      },
      "source": [
        ""
      ],
      "execution_count": 0,
      "outputs": []
    }
  ]
}