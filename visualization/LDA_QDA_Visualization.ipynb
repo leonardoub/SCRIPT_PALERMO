{
  "nbformat": 4,
  "nbformat_minor": 0,
  "metadata": {
    "colab": {
      "name": "LDA_QDA_Visualization.ipynb",
      "provenance": [],
      "toc_visible": true,
      "authorship_tag": "ABX9TyOLIuUDhpmtuH+uqWjcEwxf",
      "include_colab_link": true
    },
    "kernelspec": {
      "name": "python3",
      "display_name": "Python 3"
    }
  },
  "cells": [
    {
      "cell_type": "markdown",
      "metadata": {
        "id": "view-in-github",
        "colab_type": "text"
      },
      "source": [
        "<a href=\"https://colab.research.google.com/github/leonardoub/SCRIPT_PALERMO/blob/master/visualization/LDA_QDA_Visualization.ipynb\" target=\"_parent\"><img src=\"https://colab.research.google.com/assets/colab-badge.svg\" alt=\"Open In Colab\"/></a>"
      ]
    },
    {
      "cell_type": "code",
      "metadata": {
        "id": "j5wavkN2Akaz",
        "colab_type": "code",
        "colab": {}
      },
      "source": [
        "import pandas as pd\n",
        "import numpy as np\n",
        "import matplotlib.pyplot as plt\n",
        "import scipy"
      ],
      "execution_count": 0,
      "outputs": []
    },
    {
      "cell_type": "markdown",
      "metadata": {
        "id": "ln0sTf8q1IrI",
        "colab_type": "text"
      },
      "source": [
        "#Load data"
      ]
    },
    {
      "cell_type": "code",
      "metadata": {
        "id": "lyyNl4gxhEwD",
        "colab_type": "code",
        "outputId": "06b096c8-1bf8-4093-cfa6-fa078ebf0981",
        "colab": {
          "base_uri": "https://localhost:8080/",
          "height": 35
        }
      },
      "source": [
        "#load data from Drive\n",
        "from google.colab import drive\n",
        "drive.mount('/gdrive')\n",
        "#%cd /gdrive"
      ],
      "execution_count": 63,
      "outputs": [
        {
          "output_type": "stream",
          "text": [
            "Drive already mounted at /gdrive; to attempt to forcibly remount, call drive.mount(\"/gdrive\", force_remount=True).\n"
          ],
          "name": "stdout"
        }
      ]
    },
    {
      "cell_type": "code",
      "metadata": {
        "id": "UCkUXesZhMzg",
        "colab_type": "code",
        "colab": {}
      },
      "source": [
        "train_dataset_path = '/gdrive/My Drive/AIM_PA/database_training2.csv'\n",
        "test_dataset_path = '/gdrive/My Drive/AIM_PA/database_nostro_without_nan.csv'"
      ],
      "execution_count": 0,
      "outputs": []
    },
    {
      "cell_type": "code",
      "metadata": {
        "id": "TczPxOpEhTXw",
        "colab_type": "code",
        "colab": {}
      },
      "source": [
        "df_train = pd.read_csv(train_dataset_path)\n",
        "df_test = pd.read_csv(test_dataset_path)"
      ],
      "execution_count": 0,
      "outputs": []
    },
    {
      "cell_type": "code",
      "metadata": {
        "id": "Ll-87QSVhqhj",
        "colab_type": "code",
        "colab": {}
      },
      "source": [
        "df_train.rename(columns={'Survival.time (months)':'Surv_time_months'}, inplace=True)"
      ],
      "execution_count": 0,
      "outputs": []
    },
    {
      "cell_type": "code",
      "metadata": {
        "id": "ulSbeCedhuxJ",
        "colab_type": "code",
        "colab": {}
      },
      "source": [
        "df_test.rename(columns={'Survival.time (months)':'Surv_time_months'}, inplace=True)"
      ],
      "execution_count": 0,
      "outputs": []
    },
    {
      "cell_type": "code",
      "metadata": {
        "id": "xbcwLGg3iNSn",
        "colab_type": "code",
        "colab": {}
      },
      "source": [
        "df_train.rename(columns={'Overall.Stage':'Overall_Stage'}, inplace=True)\n",
        "df_test.rename(columns={'Overall.Stage':'Overall_Stage'}, inplace=True)"
      ],
      "execution_count": 0,
      "outputs": []
    },
    {
      "cell_type": "code",
      "metadata": {
        "id": "oKKv4iKghWWn",
        "colab_type": "code",
        "colab": {}
      },
      "source": [
        "train_data = df_train.drop(['Histology', 'Surv_time_months', 'OS', 'deadstatus.event','Overall_Stage'], axis=1)"
      ],
      "execution_count": 0,
      "outputs": []
    },
    {
      "cell_type": "code",
      "metadata": {
        "id": "vQdR4izXiT0f",
        "colab_type": "code",
        "colab": {}
      },
      "source": [
        "test_data = df_test.drop(['Histology', 'Surv_time_months', 'OS', 'deadstatus.event','Overall_Stage'], axis=1)"
      ],
      "execution_count": 0,
      "outputs": []
    },
    {
      "cell_type": "code",
      "metadata": {
        "id": "Lu46pqnPhnCG",
        "colab_type": "code",
        "colab": {}
      },
      "source": [
        "train_labels = df_train.Histology"
      ],
      "execution_count": 0,
      "outputs": []
    },
    {
      "cell_type": "code",
      "metadata": {
        "id": "aS5wIylYmsQf",
        "colab_type": "code",
        "colab": {}
      },
      "source": [
        "test_labels = df_test.Histology"
      ],
      "execution_count": 0,
      "outputs": []
    },
    {
      "cell_type": "markdown",
      "metadata": {
        "id": "dtPx7PMDnXM3",
        "colab_type": "text"
      },
      "source": [
        "##Z score dei dati"
      ]
    },
    {
      "cell_type": "code",
      "metadata": {
        "id": "XK4Qji2EnVV4",
        "colab_type": "code",
        "colab": {}
      },
      "source": [
        "mean = train_data.mean(axis=0)\n",
        "train_data_stand = train_data - mean\n",
        "std = train_data.std(axis=0)\n",
        "train_data_stand /= std"
      ],
      "execution_count": 0,
      "outputs": []
    },
    {
      "cell_type": "code",
      "metadata": {
        "id": "YOVOoNOvm0Yx",
        "colab_type": "code",
        "colab": {}
      },
      "source": [
        "test_data_stand = test_data - mean\n",
        "test_data_stand /= std"
      ],
      "execution_count": 0,
      "outputs": []
    },
    {
      "cell_type": "markdown",
      "metadata": {
        "colab_type": "text",
        "id": "PJdEKAIX_GpO"
      },
      "source": [
        "#Visualize using LDA, data NON STAND"
      ]
    },
    {
      "cell_type": "code",
      "metadata": {
        "colab_type": "code",
        "id": "0A0ubJJp_GpT",
        "colab": {}
      },
      "source": [
        "from sklearn.discriminant_analysis import LinearDiscriminantAnalysis\n",
        "import seaborn as sns"
      ],
      "execution_count": 0,
      "outputs": []
    },
    {
      "cell_type": "markdown",
      "metadata": {
        "id": "nDFyEZuAE0tz",
        "colab_type": "text"
      },
      "source": [
        "##Train data"
      ]
    },
    {
      "cell_type": "code",
      "metadata": {
        "colab_type": "code",
        "id": "glySWGy7_Gp_",
        "colab": {}
      },
      "source": [
        "lda = LinearDiscriminantAnalysis()\n",
        "lda_result = lda.fit(train_data, train_labels)\n",
        "train_data_lda = lda.transform(train_data)"
      ],
      "execution_count": 0,
      "outputs": []
    },
    {
      "cell_type": "code",
      "metadata": {
        "colab_type": "code",
        "id": "hZ5ciB9r_GqF",
        "outputId": "b47be830-6d34-420c-9d2c-35a699374866",
        "colab": {
          "base_uri": "https://localhost:8080/",
          "height": 35
        }
      },
      "source": [
        "train_data_lda.shape"
      ],
      "execution_count": 77,
      "outputs": [
        {
          "output_type": "execute_result",
          "data": {
            "text/plain": [
              "(131, 2)"
            ]
          },
          "metadata": {
            "tags": []
          },
          "execution_count": 77
        }
      ]
    },
    {
      "cell_type": "code",
      "metadata": {
        "colab_type": "code",
        "id": "mby4EAg7_GqM",
        "outputId": "bda6ae7f-680a-405d-93bb-6033eb1c9576",
        "colab": {
          "base_uri": "https://localhost:8080/",
          "height": 35
        }
      },
      "source": [
        "type(lda_result)"
      ],
      "execution_count": 78,
      "outputs": [
        {
          "output_type": "execute_result",
          "data": {
            "text/plain": [
              "sklearn.discriminant_analysis.LinearDiscriminantAnalysis"
            ]
          },
          "metadata": {
            "tags": []
          },
          "execution_count": 78
        }
      ]
    },
    {
      "cell_type": "code",
      "metadata": {
        "colab_type": "code",
        "id": "cnTE_6aK_GqS",
        "colab": {}
      },
      "source": [
        "df = pd.DataFrame(train_data_lda, columns=['lda_one', 'lda_two'])"
      ],
      "execution_count": 0,
      "outputs": []
    },
    {
      "cell_type": "code",
      "metadata": {
        "colab_type": "code",
        "id": "N8TUWH9L_GqX",
        "outputId": "149d98b9-78f4-4451-9a15-979a76fe08d9",
        "colab": {
          "base_uri": "https://localhost:8080/",
          "height": 424
        }
      },
      "source": [
        "df"
      ],
      "execution_count": 80,
      "outputs": [
        {
          "output_type": "execute_result",
          "data": {
            "text/html": [
              "<div>\n",
              "<style scoped>\n",
              "    .dataframe tbody tr th:only-of-type {\n",
              "        vertical-align: middle;\n",
              "    }\n",
              "\n",
              "    .dataframe tbody tr th {\n",
              "        vertical-align: top;\n",
              "    }\n",
              "\n",
              "    .dataframe thead th {\n",
              "        text-align: right;\n",
              "    }\n",
              "</style>\n",
              "<table border=\"1\" class=\"dataframe\">\n",
              "  <thead>\n",
              "    <tr style=\"text-align: right;\">\n",
              "      <th></th>\n",
              "      <th>lda_one</th>\n",
              "      <th>lda_two</th>\n",
              "    </tr>\n",
              "  </thead>\n",
              "  <tbody>\n",
              "    <tr>\n",
              "      <th>0</th>\n",
              "      <td>-3.735330</td>\n",
              "      <td>5.539015</td>\n",
              "    </tr>\n",
              "    <tr>\n",
              "      <th>1</th>\n",
              "      <td>-2.972100</td>\n",
              "      <td>3.896330</td>\n",
              "    </tr>\n",
              "    <tr>\n",
              "      <th>2</th>\n",
              "      <td>-4.492177</td>\n",
              "      <td>4.515088</td>\n",
              "    </tr>\n",
              "    <tr>\n",
              "      <th>3</th>\n",
              "      <td>-3.994613</td>\n",
              "      <td>4.380586</td>\n",
              "    </tr>\n",
              "    <tr>\n",
              "      <th>4</th>\n",
              "      <td>-2.207364</td>\n",
              "      <td>4.471812</td>\n",
              "    </tr>\n",
              "    <tr>\n",
              "      <th>...</th>\n",
              "      <td>...</td>\n",
              "      <td>...</td>\n",
              "    </tr>\n",
              "    <tr>\n",
              "      <th>126</th>\n",
              "      <td>2.270244</td>\n",
              "      <td>0.681552</td>\n",
              "    </tr>\n",
              "    <tr>\n",
              "      <th>127</th>\n",
              "      <td>2.862014</td>\n",
              "      <td>1.671285</td>\n",
              "    </tr>\n",
              "    <tr>\n",
              "      <th>128</th>\n",
              "      <td>4.186723</td>\n",
              "      <td>-2.234604</td>\n",
              "    </tr>\n",
              "    <tr>\n",
              "      <th>129</th>\n",
              "      <td>3.013112</td>\n",
              "      <td>0.917586</td>\n",
              "    </tr>\n",
              "    <tr>\n",
              "      <th>130</th>\n",
              "      <td>3.107027</td>\n",
              "      <td>1.440474</td>\n",
              "    </tr>\n",
              "  </tbody>\n",
              "</table>\n",
              "<p>131 rows × 2 columns</p>\n",
              "</div>"
            ],
            "text/plain": [
              "      lda_one   lda_two\n",
              "0   -3.735330  5.539015\n",
              "1   -2.972100  3.896330\n",
              "2   -4.492177  4.515088\n",
              "3   -3.994613  4.380586\n",
              "4   -2.207364  4.471812\n",
              "..        ...       ...\n",
              "126  2.270244  0.681552\n",
              "127  2.862014  1.671285\n",
              "128  4.186723 -2.234604\n",
              "129  3.013112  0.917586\n",
              "130  3.107027  1.440474\n",
              "\n",
              "[131 rows x 2 columns]"
            ]
          },
          "metadata": {
            "tags": []
          },
          "execution_count": 80
        }
      ]
    },
    {
      "cell_type": "code",
      "metadata": {
        "colab_type": "code",
        "id": "slXOZJdz_Gqd",
        "outputId": "abc25565-34bd-4d9b-c931-c7bdd28b444e",
        "colab": {
          "base_uri": "https://localhost:8080/",
          "height": 35
        }
      },
      "source": [
        "print('Explained variation per principal component: {}'.format(lda.explained_variance_ratio_))"
      ],
      "execution_count": 0,
      "outputs": [
        {
          "output_type": "stream",
          "text": [
            "Explained variation per principal component: [0.6450461 0.3549539]\n"
          ],
          "name": "stdout"
        }
      ]
    },
    {
      "cell_type": "markdown",
      "metadata": {
        "colab_type": "text",
        "id": "Tb76rtVy_Gqi"
      },
      "source": [
        "La prima componente ha il 65% della varianza dell'intero dataset, la seconda il 35%"
      ]
    },
    {
      "cell_type": "markdown",
      "metadata": {
        "colab_type": "text",
        "id": "q0NIGcL2_Gqw"
      },
      "source": [
        "###Scatterplot Train data"
      ]
    },
    {
      "cell_type": "markdown",
      "metadata": {
        "colab_type": "text",
        "id": "IHGmwB3G_Gqx"
      },
      "source": [
        "Creiamo uno scatter plot della prima e della seconda componente principale, usiamo colori diversi per le diverse istologie."
      ]
    },
    {
      "cell_type": "code",
      "metadata": {
        "colab_type": "code",
        "id": "wUcGKdcT_Gqy",
        "outputId": "573e5dfb-680b-412a-d6dc-cadc7d1fd2d6",
        "colab": {
          "base_uri": "https://localhost:8080/",
          "height": 624
        }
      },
      "source": [
        "plt.figure(figsize=(16, 10))\n",
        "sns.scatterplot(x=df.lda_one, y=df.lda_two, hue=train_labels, hue_order=['adenocarcinoma', 'large cell', 'squamous cell carcinoma'],\n",
        "                palette=sns.color_palette('hls', 3), legend='full')"
      ],
      "execution_count": 0,
      "outputs": [
        {
          "output_type": "execute_result",
          "data": {
            "text/plain": [
              "<matplotlib.axes._subplots.AxesSubplot at 0x7f091e5e5a58>"
            ]
          },
          "metadata": {
            "tags": []
          },
          "execution_count": 42
        },
        {
          "output_type": "display_data",
          "data": {
            "image/png": "[encoded data removed]",
            "text/plain": [
              "<Figure size 1152x720 with 1 Axes>"
            ]
          },
          "metadata": {
            "tags": []
          }
        }
      ]
    },
    {
      "cell_type": "code",
      "metadata": {
        "id": "kkv5fl-1Ae-B",
        "colab_type": "code",
        "outputId": "ca8827bb-ff8e-453e-f156-958adcbae91f",
        "colab": {
          "base_uri": "https://localhost:8080/",
          "height": 35
        }
      },
      "source": [
        "107/34"
      ],
      "execution_count": 0,
      "outputs": [
        {
          "output_type": "execute_result",
          "data": {
            "text/plain": [
              "3.1470588235294117"
            ]
          },
          "metadata": {
            "tags": []
          },
          "execution_count": 59
        }
      ]
    },
    {
      "cell_type": "markdown",
      "metadata": {
        "id": "OP3Bi3MLqVOs",
        "colab_type": "text"
      },
      "source": [
        "###LDA coefficient"
      ]
    },
    {
      "cell_type": "code",
      "metadata": {
        "id": "N6ccBOU1qMFc",
        "colab_type": "code",
        "outputId": "9e2ac71b-8ea2-4dca-9655-66375392313d",
        "colab": {
          "base_uri": "https://localhost:8080/",
          "height": 1000
        }
      },
      "source": [
        "lda.coef_"
      ],
      "execution_count": 82,
      "outputs": [
        {
          "output_type": "execute_result",
          "data": {
            "text/plain": [
              "array([[ 1.34745868e-02,  1.89813446e-01, -1.48753823e-02,\n",
              "        -1.36340816e+00,  1.36571553e+02, -1.74359128e-01,\n",
              "        -9.12185367e+01, -5.16017020e+02, -1.27486304e-01,\n",
              "        -3.67266045e+00,  7.16336375e-03,  1.14987108e+00,\n",
              "         5.12962954e-01, -1.03555470e-01,  7.33217115e+01,\n",
              "        -5.41785912e-01, -5.36341819e+01,  6.49371614e-02,\n",
              "         6.46449345e-02, -5.89755837e+03,  2.72239740e-01,\n",
              "         6.83503774e+02,  2.61486409e+00,  2.31728877e+01,\n",
              "        -5.67410103e+00, -4.01035951e-03,  2.60655387e+04,\n",
              "         2.67568566e+04, -1.06353135e+01, -5.31765768e+00,\n",
              "         2.07323085e+02, -4.87308515e-03,  1.04045842e+03,\n",
              "        -4.41255598e+03,  5.58319207e+03, -4.69117561e+00,\n",
              "         5.22489627e+02,  6.55677651e+02, -2.83037191e+00,\n",
              "         3.65052307e+03, -5.21577606e+03,  1.58642830e+02,\n",
              "         1.23980149e+00, -1.19181930e+02, -7.06499086e+01,\n",
              "         4.80957646e-01,  3.86651442e-06, -3.26360832e+02,\n",
              "        -6.68674157e+02,  1.90658619e+02,  1.16877546e+04,\n",
              "         3.25053748e-01, -4.55076011e-01, -3.52554670e+00,\n",
              "        -9.78580283e+03,  2.76041047e-02,  2.19147730e-08,\n",
              "         1.89450177e-01, -1.27531383e+00, -1.46550547e-11,\n",
              "        -7.96071405e-03, -1.76647670e+00,  9.02127161e-01,\n",
              "        -1.68811273e-01, -8.26358878e+02, -1.20034892e-03,\n",
              "        -1.04918912e-01, -2.85364938e-01,  1.74136350e-01,\n",
              "        -9.76062374e-01, -6.98126841e+04, -8.08337420e+00,\n",
              "         2.86489486e+04,  5.59294506e+03, -3.85738712e+01,\n",
              "        -3.98573810e-02, -4.05484669e+02, -1.23298688e+00,\n",
              "        -5.40403496e-03, -1.15614787e+04,  1.51414632e-01,\n",
              "        -5.29939127e+03, -8.04257771e+03,  5.05488046e+02,\n",
              "         3.82148142e-01,  1.27792153e+04,  2.39938593e-01,\n",
              "        -3.91166418e-03,  2.08372287e+03,  1.90688643e+03,\n",
              "        -4.48233842e-02, -3.47797583e-02, -8.44776495e-06,\n",
              "         5.82262358e-02,  3.85343316e+03,  5.50756343e-01,\n",
              "         2.15203189e-11, -3.37871489e-02, -5.83521501e+02,\n",
              "         2.55821733e+04,  8.67266539e+01, -2.78792058e+04,\n",
              "         1.74148776e+04, -1.59342542e-03,  5.72621706e+00,\n",
              "         2.59617501e+02, -1.85573665e+01],\n",
              "       [ 2.11022421e-03, -2.00842339e-02, -2.77045808e-03,\n",
              "        -7.72224328e-01, -2.29690832e+01, -1.97214560e+00,\n",
              "        -7.29279889e+01, -7.01840140e+01,  2.14955111e-01,\n",
              "         7.40730922e+01,  6.39411340e-04,  3.26825972e-01,\n",
              "         3.10340997e-01,  1.79211037e-01, -8.24284495e+00,\n",
              "        -2.40923573e-01, -4.03405799e+01,  7.51366416e-03,\n",
              "         6.61114397e-03, -2.28464782e+01,  2.91297046e-01,\n",
              "         4.67018299e+01,  1.71860472e+00,  4.66784829e+01,\n",
              "        -1.33010065e+01,  1.02160197e-04,  6.79316501e+03,\n",
              "        -3.42829103e+04, -3.23669694e+00, -1.61834852e+00,\n",
              "        -2.77655267e+01,  2.51965597e-03,  1.86668771e+02,\n",
              "        -2.02677638e+03, -1.02226363e+02, -7.47745138e-01,\n",
              "         1.34648648e+02, -7.72389211e+02, -2.33204957e+00,\n",
              "         2.36042493e+03, -2.61139652e+03, -4.91913266e+01,\n",
              "         2.62557769e-01,  9.81346867e+01,  1.36115290e+01,\n",
              "        -1.46131907e-01,  1.51313375e-05,  7.55950829e+01,\n",
              "         3.58575494e+02,  5.90450701e+01,  5.30536485e+03,\n",
              "        -2.07387357e-02,  2.07786241e-01,  5.15987038e+00,\n",
              "        -2.38839761e+03,  1.37592446e-01, -2.07221424e-09,\n",
              "        -1.23684038e+00,  5.92196733e-02, -1.65516098e-12,\n",
              "        -1.04421446e-02, -7.29609462e-02,  1.08043462e-01,\n",
              "         7.57669066e-02, -3.32584821e+02, -1.22912665e-02,\n",
              "         1.60895478e-02, -1.13767782e-01,  9.79434480e-01,\n",
              "        -2.30349696e-01, -3.91423273e+04, -1.04242608e+00,\n",
              "         7.53724327e+04,  1.40610763e+03,  1.69081694e+02,\n",
              "        -1.28342587e-03, -6.14679412e+01, -1.15782412e+00,\n",
              "         2.10310760e-03,  7.82753333e+03, -7.09557398e-02,\n",
              "        -3.47967112e+03, -2.73279563e+03,  2.39318231e+02,\n",
              "         1.22582179e+00, -8.37812419e+02,  8.81791114e-02,\n",
              "        -3.63406744e-04,  1.84025752e+03, -8.41846285e+00,\n",
              "         5.04958465e-03, -1.25619294e-01,  2.33826135e-04,\n",
              "        -1.51007300e-01,  1.76743692e+02,  6.51239641e-02,\n",
              "         2.29100078e-12,  2.03026455e-02, -7.98634878e+01,\n",
              "        -9.47288159e+03,  2.52934653e+01,  2.66010954e+03,\n",
              "         3.08699385e+03, -1.77424425e-03, -5.42939345e-01,\n",
              "         6.12627581e+01,  2.73618652e+00],\n",
              "       [-6.37624195e-03, -3.35532755e-02,  7.53711221e-03,\n",
              "         1.27630027e+00, -1.45190884e+01,  2.27945607e+00,\n",
              "         1.09409332e+02,  2.32175874e+02, -2.05045943e-01,\n",
              "        -8.25869640e+01, -2.84477614e-03, -7.09894845e-01,\n",
              "        -5.02559409e-01, -1.71758995e-01, -1.24135897e+01,\n",
              "         4.32683566e-01,  6.14615238e+01, -2.77282981e-02,\n",
              "        -2.66221988e-02,  1.77323276e+03, -4.09721401e-01,\n",
              "        -2.55275408e+02, -2.71616136e+00, -5.95954382e+01,\n",
              "         1.67064262e+01,  1.07285149e-03, -1.53968830e+04,\n",
              "         3.07990337e+04,  6.80747278e+00,  3.40373671e+00,\n",
              "        -3.00643005e+01, -1.40240096e-03, -5.19150549e+02,\n",
              "         3.59693065e+03, -1.53880120e+03,  2.23465302e+00,\n",
              "        -3.06914844e+02,  6.78238879e+02,  3.47298101e+00,\n",
              "        -3.74804241e+03,  4.49532601e+03,  8.56269696e+00,\n",
              "        -6.63941624e-01, -7.55426852e+01,  5.55731977e+00,\n",
              "         2.25689634e-02, -1.82384411e-05,  1.13050604e+01,\n",
              "        -2.06931826e+02, -1.23190503e+02, -9.45613574e+03,\n",
              "        -7.28851313e-02, -9.98841578e-02, -4.78413604e+00,\n",
              "         5.59750184e+03, -1.63607498e-01, -4.15243148e-09,\n",
              "         1.34103816e+00,  3.10974468e-01,  6.21195732e-12,\n",
              "         1.41544860e-02,  6.05819351e-01, -3.89346032e-01,\n",
              "        -3.55703877e-02,  6.20544743e+02,  1.42402378e-02,\n",
              "         1.29118551e-02,  2.13068032e-01, -1.15799416e+00,\n",
              "         5.49413508e-01,  6.49015724e+04,  3.57262922e+00,\n",
              "        -9.36315106e+04, -3.24554974e+03, -1.79570396e+02,\n",
              "         1.32593903e-02,  1.89579613e+02,  1.67324188e+00,\n",
              "        -7.74537121e-04, -5.41659025e+03,  3.52901115e-02,\n",
              "         5.50092960e+03,  5.47003290e+03, -4.20115201e+02,\n",
              "        -1.49795369e+00, -2.84001643e+03, -1.70702653e-01,\n",
              "         1.56952664e-03, -2.69620879e+03, -5.55493640e+02,\n",
              "         7.57684229e-03,  1.52208390e-01, -2.61633888e-04,\n",
              "         1.53330102e-01, -1.34141288e+03, -2.36753024e-01,\n",
              "        -8.96437315e-12, -1.29234628e-02,  2.63111422e+02,\n",
              "         3.12094453e+03, -5.42690342e+01,  5.25556686e+03,\n",
              "        -8.64712345e+03,  2.47636493e-03, -1.08333654e+00,\n",
              "        -1.46127931e+02,  2.40760160e+00]])"
            ]
          },
          "metadata": {
            "tags": []
          },
          "execution_count": 82
        }
      ]
    },
    {
      "cell_type": "markdown",
      "metadata": {
        "id": "IIC3UqLGFC9-",
        "colab_type": "text"
      },
      "source": [
        "##Test data"
      ]
    },
    {
      "cell_type": "markdown",
      "metadata": {
        "id": "hjStaacpFzCV",
        "colab_type": "text"
      },
      "source": [
        "###Applicando il fit ottenuto per i dati di training per l'LDA"
      ]
    },
    {
      "cell_type": "code",
      "metadata": {
        "colab_type": "code",
        "id": "dFpD8eK_Fkin",
        "colab": {}
      },
      "source": [
        "test_data_lda = lda.transform(test_data)"
      ],
      "execution_count": 0,
      "outputs": []
    },
    {
      "cell_type": "code",
      "metadata": {
        "colab_type": "code",
        "outputId": "94172fbb-cd78-4e47-b075-e7146c4fb271",
        "id": "PLkguCjvFki3",
        "colab": {
          "base_uri": "https://localhost:8080/",
          "height": 34
        }
      },
      "source": [
        "test_data_lda.shape"
      ],
      "execution_count": 0,
      "outputs": [
        {
          "output_type": "execute_result",
          "data": {
            "text/plain": [
              "(34, 2)"
            ]
          },
          "metadata": {
            "tags": []
          },
          "execution_count": 23
        }
      ]
    },
    {
      "cell_type": "code",
      "metadata": {
        "colab_type": "code",
        "outputId": "bc76feee-7cf9-4cc8-92c8-c7812ea9516b",
        "id": "MM08OfRvFkjD",
        "colab": {
          "base_uri": "https://localhost:8080/",
          "height": 34
        }
      },
      "source": [
        "type(lda_result)"
      ],
      "execution_count": 0,
      "outputs": [
        {
          "output_type": "execute_result",
          "data": {
            "text/plain": [
              "sklearn.discriminant_analysis.LinearDiscriminantAnalysis"
            ]
          },
          "metadata": {
            "tags": []
          },
          "execution_count": 24
        }
      ]
    },
    {
      "cell_type": "code",
      "metadata": {
        "colab_type": "code",
        "id": "P-SkXFWhFkjO",
        "colab": {}
      },
      "source": [
        "df = pd.DataFrame(test_data_lda, columns=['lda_one', 'lda_two'])"
      ],
      "execution_count": 0,
      "outputs": []
    },
    {
      "cell_type": "code",
      "metadata": {
        "colab_type": "code",
        "outputId": "14ba8299-3498-4813-d06f-ff91602d7042",
        "id": "To7PcPxFFkjX",
        "colab": {
          "base_uri": "https://localhost:8080/",
          "height": 1000
        }
      },
      "source": [
        "df"
      ],
      "execution_count": 0,
      "outputs": [
        {
          "output_type": "execute_result",
          "data": {
            "text/html": [
              "<div>\n",
              "<style scoped>\n",
              "    .dataframe tbody tr th:only-of-type {\n",
              "        vertical-align: middle;\n",
              "    }\n",
              "\n",
              "    .dataframe tbody tr th {\n",
              "        vertical-align: top;\n",
              "    }\n",
              "\n",
              "    .dataframe thead th {\n",
              "        text-align: right;\n",
              "    }\n",
              "</style>\n",
              "<table border=\"1\" class=\"dataframe\">\n",
              "  <thead>\n",
              "    <tr style=\"text-align: right;\">\n",
              "      <th></th>\n",
              "      <th>lda_one</th>\n",
              "      <th>lda_two</th>\n",
              "    </tr>\n",
              "  </thead>\n",
              "  <tbody>\n",
              "    <tr>\n",
              "      <th>0</th>\n",
              "      <td>-6.617918</td>\n",
              "      <td>-12.356202</td>\n",
              "    </tr>\n",
              "    <tr>\n",
              "      <th>1</th>\n",
              "      <td>-17.481509</td>\n",
              "      <td>-29.636207</td>\n",
              "    </tr>\n",
              "    <tr>\n",
              "      <th>2</th>\n",
              "      <td>5.195725</td>\n",
              "      <td>-11.079193</td>\n",
              "    </tr>\n",
              "    <tr>\n",
              "      <th>3</th>\n",
              "      <td>-7.040704</td>\n",
              "      <td>-3.841594</td>\n",
              "    </tr>\n",
              "    <tr>\n",
              "      <th>4</th>\n",
              "      <td>-8.105453</td>\n",
              "      <td>-1.624225</td>\n",
              "    </tr>\n",
              "    <tr>\n",
              "      <th>5</th>\n",
              "      <td>-6.545605</td>\n",
              "      <td>-41.762890</td>\n",
              "    </tr>\n",
              "    <tr>\n",
              "      <th>6</th>\n",
              "      <td>46.504103</td>\n",
              "      <td>-109.629628</td>\n",
              "    </tr>\n",
              "    <tr>\n",
              "      <th>7</th>\n",
              "      <td>-8.923523</td>\n",
              "      <td>-1.951316</td>\n",
              "    </tr>\n",
              "    <tr>\n",
              "      <th>8</th>\n",
              "      <td>-7.459192</td>\n",
              "      <td>-44.371672</td>\n",
              "    </tr>\n",
              "    <tr>\n",
              "      <th>9</th>\n",
              "      <td>97.797257</td>\n",
              "      <td>-244.922192</td>\n",
              "    </tr>\n",
              "    <tr>\n",
              "      <th>10</th>\n",
              "      <td>17.869365</td>\n",
              "      <td>-49.764691</td>\n",
              "    </tr>\n",
              "    <tr>\n",
              "      <th>11</th>\n",
              "      <td>35.218644</td>\n",
              "      <td>-88.808987</td>\n",
              "    </tr>\n",
              "    <tr>\n",
              "      <th>12</th>\n",
              "      <td>-8.784367</td>\n",
              "      <td>-37.272956</td>\n",
              "    </tr>\n",
              "    <tr>\n",
              "      <th>13</th>\n",
              "      <td>28.956965</td>\n",
              "      <td>-46.674234</td>\n",
              "    </tr>\n",
              "    <tr>\n",
              "      <th>14</th>\n",
              "      <td>29.973184</td>\n",
              "      <td>-84.013236</td>\n",
              "    </tr>\n",
              "    <tr>\n",
              "      <th>15</th>\n",
              "      <td>6.100529</td>\n",
              "      <td>-41.168710</td>\n",
              "    </tr>\n",
              "    <tr>\n",
              "      <th>16</th>\n",
              "      <td>18.571475</td>\n",
              "      <td>-75.866320</td>\n",
              "    </tr>\n",
              "    <tr>\n",
              "      <th>17</th>\n",
              "      <td>53.940924</td>\n",
              "      <td>-130.939533</td>\n",
              "    </tr>\n",
              "    <tr>\n",
              "      <th>18</th>\n",
              "      <td>71.663688</td>\n",
              "      <td>-92.017492</td>\n",
              "    </tr>\n",
              "    <tr>\n",
              "      <th>19</th>\n",
              "      <td>19.481654</td>\n",
              "      <td>-59.151997</td>\n",
              "    </tr>\n",
              "    <tr>\n",
              "      <th>20</th>\n",
              "      <td>21.798469</td>\n",
              "      <td>-80.560183</td>\n",
              "    </tr>\n",
              "    <tr>\n",
              "      <th>21</th>\n",
              "      <td>-12.345963</td>\n",
              "      <td>-25.526802</td>\n",
              "    </tr>\n",
              "    <tr>\n",
              "      <th>22</th>\n",
              "      <td>34.759914</td>\n",
              "      <td>-83.366873</td>\n",
              "    </tr>\n",
              "    <tr>\n",
              "      <th>23</th>\n",
              "      <td>-1.133490</td>\n",
              "      <td>-33.576652</td>\n",
              "    </tr>\n",
              "    <tr>\n",
              "      <th>24</th>\n",
              "      <td>49.081236</td>\n",
              "      <td>-121.664338</td>\n",
              "    </tr>\n",
              "    <tr>\n",
              "      <th>25</th>\n",
              "      <td>38.852404</td>\n",
              "      <td>-92.088211</td>\n",
              "    </tr>\n",
              "    <tr>\n",
              "      <th>26</th>\n",
              "      <td>40.057101</td>\n",
              "      <td>-75.533825</td>\n",
              "    </tr>\n",
              "    <tr>\n",
              "      <th>27</th>\n",
              "      <td>39.928668</td>\n",
              "      <td>-110.507066</td>\n",
              "    </tr>\n",
              "    <tr>\n",
              "      <th>28</th>\n",
              "      <td>0.256565</td>\n",
              "      <td>-47.885311</td>\n",
              "    </tr>\n",
              "    <tr>\n",
              "      <th>29</th>\n",
              "      <td>9.206738</td>\n",
              "      <td>-44.368850</td>\n",
              "    </tr>\n",
              "    <tr>\n",
              "      <th>30</th>\n",
              "      <td>-3.342459</td>\n",
              "      <td>-9.964072</td>\n",
              "    </tr>\n",
              "    <tr>\n",
              "      <th>31</th>\n",
              "      <td>-0.919016</td>\n",
              "      <td>-6.925830</td>\n",
              "    </tr>\n",
              "    <tr>\n",
              "      <th>32</th>\n",
              "      <td>6.930792</td>\n",
              "      <td>-14.208775</td>\n",
              "    </tr>\n",
              "    <tr>\n",
              "      <th>33</th>\n",
              "      <td>-5.163431</td>\n",
              "      <td>1.356545</td>\n",
              "    </tr>\n",
              "  </tbody>\n",
              "</table>\n",
              "</div>"
            ],
            "text/plain": [
              "      lda_one     lda_two\n",
              "0   -6.617918  -12.356202\n",
              "1  -17.481509  -29.636207\n",
              "2    5.195725  -11.079193\n",
              "3   -7.040704   -3.841594\n",
              "4   -8.105453   -1.624225\n",
              "5   -6.545605  -41.762890\n",
              "6   46.504103 -109.629628\n",
              "7   -8.923523   -1.951316\n",
              "8   -7.459192  -44.371672\n",
              "9   97.797257 -244.922192\n",
              "10  17.869365  -49.764691\n",
              "11  35.218644  -88.808987\n",
              "12  -8.784367  -37.272956\n",
              "13  28.956965  -46.674234\n",
              "14  29.973184  -84.013236\n",
              "15   6.100529  -41.168710\n",
              "16  18.571475  -75.866320\n",
              "17  53.940924 -130.939533\n",
              "18  71.663688  -92.017492\n",
              "19  19.481654  -59.151997\n",
              "20  21.798469  -80.560183\n",
              "21 -12.345963  -25.526802\n",
              "22  34.759914  -83.366873\n",
              "23  -1.133490  -33.576652\n",
              "24  49.081236 -121.664338\n",
              "25  38.852404  -92.088211\n",
              "26  40.057101  -75.533825\n",
              "27  39.928668 -110.507066\n",
              "28   0.256565  -47.885311\n",
              "29   9.206738  -44.368850\n",
              "30  -3.342459   -9.964072\n",
              "31  -0.919016   -6.925830\n",
              "32   6.930792  -14.208775\n",
              "33  -5.163431    1.356545"
            ]
          },
          "metadata": {
            "tags": []
          },
          "execution_count": 26
        }
      ]
    },
    {
      "cell_type": "markdown",
      "metadata": {
        "colab_type": "text",
        "id": "dCJ60W1oFkjp"
      },
      "source": [
        "####Scatterplot Test data"
      ]
    },
    {
      "cell_type": "markdown",
      "metadata": {
        "colab_type": "text",
        "id": "npm8eUSuFkjs"
      },
      "source": [
        "Creiamo uno scatter plot della prima e della seconda componente principale, usiamo colori diversi per le diverse istologie."
      ]
    },
    {
      "cell_type": "code",
      "metadata": {
        "colab_type": "code",
        "outputId": "103eb358-f5ce-412e-ced9-3c4fcaba7b4a",
        "id": "8pFvq27SFkju",
        "colab": {
          "base_uri": "https://localhost:8080/",
          "height": 623
        }
      },
      "source": [
        "plt.figure(figsize=(16, 10))\n",
        "sns.scatterplot(x=df.lda_one, y=df.lda_two, hue=test_labels, hue_order=['adenocarcinoma', 'large cell', 'squamous cell carcinoma'],\n",
        "                palette=sns.color_palette('hls', 3), legend='full')"
      ],
      "execution_count": 0,
      "outputs": [
        {
          "output_type": "execute_result",
          "data": {
            "text/plain": [
              "<matplotlib.axes._subplots.AxesSubplot at 0x7efce5298da0>"
            ]
          },
          "metadata": {
            "tags": []
          },
          "execution_count": 27
        },
        {
          "output_type": "display_data",
          "data": {
            "image/png": "[encoded data removed]",
            "text/plain": [
              "<Figure size 1152x720 with 1 Axes>"
            ]
          },
          "metadata": {
            "tags": []
          }
        }
      ]
    },
    {
      "cell_type": "markdown",
      "metadata": {
        "id": "xEM2OzeUHTRk",
        "colab_type": "text"
      },
      "source": [
        "###Facendo un nuovo fit con i dati di test"
      ]
    },
    {
      "cell_type": "code",
      "metadata": {
        "colab_type": "code",
        "id": "WpgKtfL8Hpgf",
        "colab": {}
      },
      "source": [
        "lda = LinearDiscriminantAnalysis()\n",
        "lda_result = lda.fit(test_data, test_labels)\n",
        "test_data_lda = lda.transform(test_data)"
      ],
      "execution_count": 0,
      "outputs": []
    },
    {
      "cell_type": "code",
      "metadata": {
        "colab_type": "code",
        "outputId": "073430db-4610-43d5-da2a-bb0720f483a4",
        "id": "4qGEU5eYHpgw",
        "colab": {
          "base_uri": "https://localhost:8080/",
          "height": 35
        }
      },
      "source": [
        "test_data_lda.shape"
      ],
      "execution_count": 0,
      "outputs": [
        {
          "output_type": "execute_result",
          "data": {
            "text/plain": [
              "(34, 2)"
            ]
          },
          "metadata": {
            "tags": []
          },
          "execution_count": 53
        }
      ]
    },
    {
      "cell_type": "code",
      "metadata": {
        "colab_type": "code",
        "outputId": "37c00c4a-d750-478b-b3ca-7a6f2a42dc7d",
        "id": "Vx-Yh1hZHpg-",
        "colab": {
          "base_uri": "https://localhost:8080/",
          "height": 35
        }
      },
      "source": [
        "type(lda_result)"
      ],
      "execution_count": 0,
      "outputs": [
        {
          "output_type": "execute_result",
          "data": {
            "text/plain": [
              "sklearn.discriminant_analysis.LinearDiscriminantAnalysis"
            ]
          },
          "metadata": {
            "tags": []
          },
          "execution_count": 54
        }
      ]
    },
    {
      "cell_type": "code",
      "metadata": {
        "colab_type": "code",
        "id": "Wz18DiFRHphI",
        "colab": {}
      },
      "source": [
        "df = pd.DataFrame(test_data_lda, columns=['lda_one', 'lda_two'])"
      ],
      "execution_count": 0,
      "outputs": []
    },
    {
      "cell_type": "code",
      "metadata": {
        "colab_type": "code",
        "outputId": "618544ed-e15f-4b17-bd72-8e81735841d0",
        "id": "2E5WPzS6HphS",
        "colab": {
          "base_uri": "https://localhost:8080/",
          "height": 35
        }
      },
      "source": [
        "df.shape"
      ],
      "execution_count": 0,
      "outputs": [
        {
          "output_type": "execute_result",
          "data": {
            "text/plain": [
              "(34, 2)"
            ]
          },
          "metadata": {
            "tags": []
          },
          "execution_count": 56
        }
      ]
    },
    {
      "cell_type": "code",
      "metadata": {
        "colab_type": "code",
        "outputId": "b9ff298f-730b-400a-8d0d-5e02ee39524d",
        "id": "zVCy5cNZHpha",
        "colab": {
          "base_uri": "https://localhost:8080/",
          "height": 35
        }
      },
      "source": [
        "print('Explained variation per principal component: {}'.format(lda.explained_variance_ratio_))"
      ],
      "execution_count": 0,
      "outputs": [
        {
          "output_type": "stream",
          "text": [
            "Explained variation per principal component: [0.78911902 0.21088098]\n"
          ],
          "name": "stdout"
        }
      ]
    },
    {
      "cell_type": "markdown",
      "metadata": {
        "colab_type": "text",
        "id": "h4S6Z3B6Hphj"
      },
      "source": [
        "La prima componente ha il 79% della varianza dell'intero dataset, la seconda il 21%"
      ]
    },
    {
      "cell_type": "markdown",
      "metadata": {
        "colab_type": "text",
        "id": "ygbTkRkiHphl"
      },
      "source": [
        "####Scatterplot Test data"
      ]
    },
    {
      "cell_type": "markdown",
      "metadata": {
        "colab_type": "text",
        "id": "KL6h9iW_Hphn"
      },
      "source": [
        "Creiamo uno scatter plot della prima e della seconda componente principale, usiamo colori diversi per le diverse istologie."
      ]
    },
    {
      "cell_type": "code",
      "metadata": {
        "colab_type": "code",
        "outputId": "8b72f69a-d3b3-41ef-e571-bb75ecb7d5ae",
        "id": "RGuVv6WeHphq",
        "colab": {
          "base_uri": "https://localhost:8080/",
          "height": 624
        }
      },
      "source": [
        "plt.figure(figsize=(16, 10))\n",
        "sns.scatterplot(x=df.lda_one, y=df.lda_two, hue=test_labels, hue_order=['adenocarcinoma', 'large cell', 'squamous cell carcinoma'],\n",
        "                palette=sns.color_palette('hls', 3), legend='full')"
      ],
      "execution_count": 0,
      "outputs": [
        {
          "output_type": "execute_result",
          "data": {
            "text/plain": [
              "<matplotlib.axes._subplots.AxesSubplot at 0x7f091e55f320>"
            ]
          },
          "metadata": {
            "tags": []
          },
          "execution_count": 58
        },
        {
          "output_type": "display_data",
          "data": {
            "image/png": "[encoded data removed]",
            "text/plain": [
              "<Figure size 1152x720 with 1 Axes>"
            ]
          },
          "metadata": {
            "tags": []
          }
        }
      ]
    },
    {
      "cell_type": "code",
      "metadata": {
        "id": "cG6lRWlrVtTX",
        "colab_type": "code",
        "outputId": "d915fdb1-2e5f-42ea-c59f-3399abba35e4",
        "colab": {
          "base_uri": "https://localhost:8080/",
          "height": 34
        }
      },
      "source": [
        "list(df_test.Histology).count('adenocarcinoma')"
      ],
      "execution_count": 0,
      "outputs": [
        {
          "output_type": "execute_result",
          "data": {
            "text/plain": [
              "20"
            ]
          },
          "metadata": {
            "tags": []
          },
          "execution_count": 35
        }
      ]
    },
    {
      "cell_type": "code",
      "metadata": {
        "id": "j7tjTKQAWOJT",
        "colab_type": "code",
        "outputId": "4bbb1a32-71d6-4cfd-942f-63459d6a5a83",
        "colab": {
          "base_uri": "https://localhost:8080/",
          "height": 34
        }
      },
      "source": [
        "list(df_test.Histology).count('large cell')"
      ],
      "execution_count": 0,
      "outputs": [
        {
          "output_type": "execute_result",
          "data": {
            "text/plain": [
              "4"
            ]
          },
          "metadata": {
            "tags": []
          },
          "execution_count": 36
        }
      ]
    },
    {
      "cell_type": "code",
      "metadata": {
        "id": "uPMrsXewWN5Y",
        "colab_type": "code",
        "outputId": "f20959fe-8a60-46a8-cfd2-a7b30637cdf3",
        "colab": {
          "base_uri": "https://localhost:8080/",
          "height": 34
        }
      },
      "source": [
        "list(df_test.Histology).count('squamous cell carcinoma')"
      ],
      "execution_count": 0,
      "outputs": [
        {
          "output_type": "execute_result",
          "data": {
            "text/plain": [
              "10"
            ]
          },
          "metadata": {
            "tags": []
          },
          "execution_count": 37
        }
      ]
    },
    {
      "cell_type": "markdown",
      "metadata": {
        "id": "FVShOWVUWhvu",
        "colab_type": "text"
      },
      "source": [
        "Non separa bene large cell da squamous cell carcinoma"
      ]
    },
    {
      "cell_type": "markdown",
      "metadata": {
        "colab_type": "text",
        "id": "OG2VdE_VKYnu"
      },
      "source": [
        "#Visualize using LDA, data STAND"
      ]
    },
    {
      "cell_type": "markdown",
      "metadata": {
        "colab_type": "text",
        "id": "OEL7dJ7SKYoN"
      },
      "source": [
        "##Train data"
      ]
    },
    {
      "cell_type": "code",
      "metadata": {
        "colab_type": "code",
        "id": "kPOly8dUKYoS",
        "colab": {}
      },
      "source": [
        "lda = LinearDiscriminantAnalysis()\n",
        "lda_result = lda.fit(train_data_stand, train_labels)\n",
        "train_data_lda_stand = lda.transform(train_data_stand)"
      ],
      "execution_count": 0,
      "outputs": []
    },
    {
      "cell_type": "code",
      "metadata": {
        "colab_type": "code",
        "outputId": "8761a1df-c55c-433b-b9b4-b7268b937f0b",
        "id": "2MPkba1DKYoe",
        "colab": {
          "base_uri": "https://localhost:8080/",
          "height": 34
        }
      },
      "source": [
        "train_data_lda_stand.shape"
      ],
      "execution_count": 0,
      "outputs": [
        {
          "output_type": "execute_result",
          "data": {
            "text/plain": [
              "(131, 2)"
            ]
          },
          "metadata": {
            "tags": []
          },
          "execution_count": 39
        }
      ]
    },
    {
      "cell_type": "code",
      "metadata": {
        "colab_type": "code",
        "outputId": "c6b78a25-4e15-4557-fa69-7bdcf3509064",
        "id": "ZSfNWcp3KYon",
        "colab": {
          "base_uri": "https://localhost:8080/",
          "height": 34
        }
      },
      "source": [
        "type(lda_result)"
      ],
      "execution_count": 0,
      "outputs": [
        {
          "output_type": "execute_result",
          "data": {
            "text/plain": [
              "sklearn.discriminant_analysis.LinearDiscriminantAnalysis"
            ]
          },
          "metadata": {
            "tags": []
          },
          "execution_count": 40
        }
      ]
    },
    {
      "cell_type": "code",
      "metadata": {
        "colab_type": "code",
        "id": "ktfVVD02KYox",
        "colab": {}
      },
      "source": [
        "df = pd.DataFrame(train_data_lda_stand, columns=['lda_one', 'lda_two'])"
      ],
      "execution_count": 0,
      "outputs": []
    },
    {
      "cell_type": "code",
      "metadata": {
        "colab_type": "code",
        "outputId": "afa240e8-47cc-4e28-dca0-d8a35f3b69c0",
        "id": "xuplnWM1KYo4",
        "colab": {
          "base_uri": "https://localhost:8080/",
          "height": 424
        }
      },
      "source": [
        "df"
      ],
      "execution_count": 0,
      "outputs": [
        {
          "output_type": "execute_result",
          "data": {
            "text/html": [
              "<div>\n",
              "<style scoped>\n",
              "    .dataframe tbody tr th:only-of-type {\n",
              "        vertical-align: middle;\n",
              "    }\n",
              "\n",
              "    .dataframe tbody tr th {\n",
              "        vertical-align: top;\n",
              "    }\n",
              "\n",
              "    .dataframe thead th {\n",
              "        text-align: right;\n",
              "    }\n",
              "</style>\n",
              "<table border=\"1\" class=\"dataframe\">\n",
              "  <thead>\n",
              "    <tr style=\"text-align: right;\">\n",
              "      <th></th>\n",
              "      <th>lda_one</th>\n",
              "      <th>lda_two</th>\n",
              "    </tr>\n",
              "  </thead>\n",
              "  <tbody>\n",
              "    <tr>\n",
              "      <th>0</th>\n",
              "      <td>-3.735330</td>\n",
              "      <td>5.539015</td>\n",
              "    </tr>\n",
              "    <tr>\n",
              "      <th>1</th>\n",
              "      <td>-2.972100</td>\n",
              "      <td>3.896330</td>\n",
              "    </tr>\n",
              "    <tr>\n",
              "      <th>2</th>\n",
              "      <td>-4.492177</td>\n",
              "      <td>4.515088</td>\n",
              "    </tr>\n",
              "    <tr>\n",
              "      <th>3</th>\n",
              "      <td>-3.994613</td>\n",
              "      <td>4.380586</td>\n",
              "    </tr>\n",
              "    <tr>\n",
              "      <th>4</th>\n",
              "      <td>-2.207364</td>\n",
              "      <td>4.471812</td>\n",
              "    </tr>\n",
              "    <tr>\n",
              "      <th>...</th>\n",
              "      <td>...</td>\n",
              "      <td>...</td>\n",
              "    </tr>\n",
              "    <tr>\n",
              "      <th>126</th>\n",
              "      <td>2.270244</td>\n",
              "      <td>0.681552</td>\n",
              "    </tr>\n",
              "    <tr>\n",
              "      <th>127</th>\n",
              "      <td>2.862014</td>\n",
              "      <td>1.671285</td>\n",
              "    </tr>\n",
              "    <tr>\n",
              "      <th>128</th>\n",
              "      <td>4.186723</td>\n",
              "      <td>-2.234604</td>\n",
              "    </tr>\n",
              "    <tr>\n",
              "      <th>129</th>\n",
              "      <td>3.013112</td>\n",
              "      <td>0.917586</td>\n",
              "    </tr>\n",
              "    <tr>\n",
              "      <th>130</th>\n",
              "      <td>3.107027</td>\n",
              "      <td>1.440474</td>\n",
              "    </tr>\n",
              "  </tbody>\n",
              "</table>\n",
              "<p>131 rows × 2 columns</p>\n",
              "</div>"
            ],
            "text/plain": [
              "      lda_one   lda_two\n",
              "0   -3.735330  5.539015\n",
              "1   -2.972100  3.896330\n",
              "2   -4.492177  4.515088\n",
              "3   -3.994613  4.380586\n",
              "4   -2.207364  4.471812\n",
              "..        ...       ...\n",
              "126  2.270244  0.681552\n",
              "127  2.862014  1.671285\n",
              "128  4.186723 -2.234604\n",
              "129  3.013112  0.917586\n",
              "130  3.107027  1.440474\n",
              "\n",
              "[131 rows x 2 columns]"
            ]
          },
          "metadata": {
            "tags": []
          },
          "execution_count": 42
        }
      ]
    },
    {
      "cell_type": "code",
      "metadata": {
        "colab_type": "code",
        "outputId": "1c31dc34-48ca-40d5-b554-1f1cb668e4aa",
        "id": "zw3vNF9DKYpB",
        "colab": {
          "base_uri": "https://localhost:8080/",
          "height": 34
        }
      },
      "source": [
        "print('Explained variation per principal component: {}'.format(lda.explained_variance_ratio_))"
      ],
      "execution_count": 0,
      "outputs": [
        {
          "output_type": "stream",
          "text": [
            "Explained variation per principal component: [0.6450461 0.3549539]\n"
          ],
          "name": "stdout"
        }
      ]
    },
    {
      "cell_type": "markdown",
      "metadata": {
        "colab_type": "text",
        "id": "RcCW_vPLKYpH"
      },
      "source": [
        "La prima componente ha il 65% della varianza dell'intero dataset, la seconda il 35%"
      ]
    },
    {
      "cell_type": "markdown",
      "metadata": {
        "colab_type": "text",
        "id": "_DotFJRaKYpJ"
      },
      "source": [
        "###Scatterplot Train data"
      ]
    },
    {
      "cell_type": "markdown",
      "metadata": {
        "colab_type": "text",
        "id": "fmeiQ7vrKYpO"
      },
      "source": [
        "Creiamo uno scatter plot della prima e della seconda componente principale, usiamo colori diversi per le diverse istologie."
      ]
    },
    {
      "cell_type": "code",
      "metadata": {
        "colab_type": "code",
        "outputId": "282a7b6f-2e49-407e-cc52-a56f9d26922f",
        "id": "5i0z88f7KYpR",
        "colab": {
          "base_uri": "https://localhost:8080/",
          "height": 623
        }
      },
      "source": [
        "plt.figure(figsize=(16, 10))\n",
        "sns.scatterplot(x=df.lda_one, y=df.lda_two, hue=train_labels, hue_order=['adenocarcinoma', 'large cell', 'squamous cell carcinoma'],\n",
        "                palette=sns.color_palette('hls', 3), legend='full')"
      ],
      "execution_count": 0,
      "outputs": [
        {
          "output_type": "execute_result",
          "data": {
            "text/plain": [
              "<matplotlib.axes._subplots.AxesSubplot at 0x7efce51ae6a0>"
            ]
          },
          "metadata": {
            "tags": []
          },
          "execution_count": 44
        },
        {
          "output_type": "display_data",
          "data": {
            "image/png": "[encoded data removed]",
            "text/plain": [
              "<Figure size 1152x720 with 1 Axes>"
            ]
          },
          "metadata": {
            "tags": []
          }
        }
      ]
    },
    {
      "cell_type": "markdown",
      "metadata": {
        "colab_type": "text",
        "id": "HmsEoHmGKYpZ"
      },
      "source": [
        "##Test data"
      ]
    },
    {
      "cell_type": "markdown",
      "metadata": {
        "colab_type": "text",
        "id": "mVnzOesCKYpb"
      },
      "source": [
        "###Applicando il fit ottenuto per i dati di training per l'LDA"
      ]
    },
    {
      "cell_type": "code",
      "metadata": {
        "colab_type": "code",
        "id": "Tc9i2FoeKYpe",
        "colab": {}
      },
      "source": [
        "test_data_lda_stand = lda.transform(test_data_stand)"
      ],
      "execution_count": 0,
      "outputs": []
    },
    {
      "cell_type": "code",
      "metadata": {
        "colab_type": "code",
        "outputId": "20028a49-4c7e-4469-c417-8cc7f35ecefb",
        "id": "FEmMftS8KYpl",
        "colab": {
          "base_uri": "https://localhost:8080/",
          "height": 34
        }
      },
      "source": [
        "test_data_lda_stand.shape"
      ],
      "execution_count": 0,
      "outputs": [
        {
          "output_type": "execute_result",
          "data": {
            "text/plain": [
              "(34, 2)"
            ]
          },
          "metadata": {
            "tags": []
          },
          "execution_count": 46
        }
      ]
    },
    {
      "cell_type": "code",
      "metadata": {
        "colab_type": "code",
        "outputId": "c217c848-f671-40df-d249-a0f3bb7f1fa7",
        "id": "J1zwMP51KYpt",
        "colab": {
          "base_uri": "https://localhost:8080/",
          "height": 34
        }
      },
      "source": [
        "type(lda_result)"
      ],
      "execution_count": 0,
      "outputs": [
        {
          "output_type": "execute_result",
          "data": {
            "text/plain": [
              "sklearn.discriminant_analysis.LinearDiscriminantAnalysis"
            ]
          },
          "metadata": {
            "tags": []
          },
          "execution_count": 47
        }
      ]
    },
    {
      "cell_type": "code",
      "metadata": {
        "colab_type": "code",
        "id": "EsIi5RVjKYpz",
        "colab": {}
      },
      "source": [
        "df = pd.DataFrame(test_data_lda_stand, columns=['lda_one', 'lda_two'])"
      ],
      "execution_count": 0,
      "outputs": []
    },
    {
      "cell_type": "code",
      "metadata": {
        "colab_type": "code",
        "outputId": "99ac16dc-e998-4802-8109-ec66b5462744",
        "id": "reptmg1sKYp4",
        "colab": {
          "base_uri": "https://localhost:8080/",
          "height": 1000
        }
      },
      "source": [
        "df"
      ],
      "execution_count": 0,
      "outputs": [
        {
          "output_type": "execute_result",
          "data": {
            "text/html": [
              "<div>\n",
              "<style scoped>\n",
              "    .dataframe tbody tr th:only-of-type {\n",
              "        vertical-align: middle;\n",
              "    }\n",
              "\n",
              "    .dataframe tbody tr th {\n",
              "        vertical-align: top;\n",
              "    }\n",
              "\n",
              "    .dataframe thead th {\n",
              "        text-align: right;\n",
              "    }\n",
              "</style>\n",
              "<table border=\"1\" class=\"dataframe\">\n",
              "  <thead>\n",
              "    <tr style=\"text-align: right;\">\n",
              "      <th></th>\n",
              "      <th>lda_one</th>\n",
              "      <th>lda_two</th>\n",
              "    </tr>\n",
              "  </thead>\n",
              "  <tbody>\n",
              "    <tr>\n",
              "      <th>0</th>\n",
              "      <td>-6.617918</td>\n",
              "      <td>-12.356202</td>\n",
              "    </tr>\n",
              "    <tr>\n",
              "      <th>1</th>\n",
              "      <td>-17.481509</td>\n",
              "      <td>-29.636207</td>\n",
              "    </tr>\n",
              "    <tr>\n",
              "      <th>2</th>\n",
              "      <td>5.195725</td>\n",
              "      <td>-11.079193</td>\n",
              "    </tr>\n",
              "    <tr>\n",
              "      <th>3</th>\n",
              "      <td>-7.040704</td>\n",
              "      <td>-3.841594</td>\n",
              "    </tr>\n",
              "    <tr>\n",
              "      <th>4</th>\n",
              "      <td>-8.105453</td>\n",
              "      <td>-1.624225</td>\n",
              "    </tr>\n",
              "    <tr>\n",
              "      <th>5</th>\n",
              "      <td>-6.545605</td>\n",
              "      <td>-41.762890</td>\n",
              "    </tr>\n",
              "    <tr>\n",
              "      <th>6</th>\n",
              "      <td>46.504103</td>\n",
              "      <td>-109.629628</td>\n",
              "    </tr>\n",
              "    <tr>\n",
              "      <th>7</th>\n",
              "      <td>-8.923523</td>\n",
              "      <td>-1.951316</td>\n",
              "    </tr>\n",
              "    <tr>\n",
              "      <th>8</th>\n",
              "      <td>-7.459192</td>\n",
              "      <td>-44.371672</td>\n",
              "    </tr>\n",
              "    <tr>\n",
              "      <th>9</th>\n",
              "      <td>97.797257</td>\n",
              "      <td>-244.922192</td>\n",
              "    </tr>\n",
              "    <tr>\n",
              "      <th>10</th>\n",
              "      <td>17.869365</td>\n",
              "      <td>-49.764691</td>\n",
              "    </tr>\n",
              "    <tr>\n",
              "      <th>11</th>\n",
              "      <td>35.218644</td>\n",
              "      <td>-88.808987</td>\n",
              "    </tr>\n",
              "    <tr>\n",
              "      <th>12</th>\n",
              "      <td>-8.784367</td>\n",
              "      <td>-37.272956</td>\n",
              "    </tr>\n",
              "    <tr>\n",
              "      <th>13</th>\n",
              "      <td>28.956965</td>\n",
              "      <td>-46.674234</td>\n",
              "    </tr>\n",
              "    <tr>\n",
              "      <th>14</th>\n",
              "      <td>29.973184</td>\n",
              "      <td>-84.013236</td>\n",
              "    </tr>\n",
              "    <tr>\n",
              "      <th>15</th>\n",
              "      <td>6.100529</td>\n",
              "      <td>-41.168710</td>\n",
              "    </tr>\n",
              "    <tr>\n",
              "      <th>16</th>\n",
              "      <td>18.571475</td>\n",
              "      <td>-75.866320</td>\n",
              "    </tr>\n",
              "    <tr>\n",
              "      <th>17</th>\n",
              "      <td>53.940924</td>\n",
              "      <td>-130.939533</td>\n",
              "    </tr>\n",
              "    <tr>\n",
              "      <th>18</th>\n",
              "      <td>71.663688</td>\n",
              "      <td>-92.017492</td>\n",
              "    </tr>\n",
              "    <tr>\n",
              "      <th>19</th>\n",
              "      <td>19.481654</td>\n",
              "      <td>-59.151997</td>\n",
              "    </tr>\n",
              "    <tr>\n",
              "      <th>20</th>\n",
              "      <td>21.798469</td>\n",
              "      <td>-80.560183</td>\n",
              "    </tr>\n",
              "    <tr>\n",
              "      <th>21</th>\n",
              "      <td>-12.345963</td>\n",
              "      <td>-25.526802</td>\n",
              "    </tr>\n",
              "    <tr>\n",
              "      <th>22</th>\n",
              "      <td>34.759914</td>\n",
              "      <td>-83.366873</td>\n",
              "    </tr>\n",
              "    <tr>\n",
              "      <th>23</th>\n",
              "      <td>-1.133490</td>\n",
              "      <td>-33.576652</td>\n",
              "    </tr>\n",
              "    <tr>\n",
              "      <th>24</th>\n",
              "      <td>49.081236</td>\n",
              "      <td>-121.664338</td>\n",
              "    </tr>\n",
              "    <tr>\n",
              "      <th>25</th>\n",
              "      <td>38.852404</td>\n",
              "      <td>-92.088211</td>\n",
              "    </tr>\n",
              "    <tr>\n",
              "      <th>26</th>\n",
              "      <td>40.057101</td>\n",
              "      <td>-75.533825</td>\n",
              "    </tr>\n",
              "    <tr>\n",
              "      <th>27</th>\n",
              "      <td>39.928668</td>\n",
              "      <td>-110.507066</td>\n",
              "    </tr>\n",
              "    <tr>\n",
              "      <th>28</th>\n",
              "      <td>0.256565</td>\n",
              "      <td>-47.885311</td>\n",
              "    </tr>\n",
              "    <tr>\n",
              "      <th>29</th>\n",
              "      <td>9.206738</td>\n",
              "      <td>-44.368850</td>\n",
              "    </tr>\n",
              "    <tr>\n",
              "      <th>30</th>\n",
              "      <td>-3.342459</td>\n",
              "      <td>-9.964072</td>\n",
              "    </tr>\n",
              "    <tr>\n",
              "      <th>31</th>\n",
              "      <td>-0.919016</td>\n",
              "      <td>-6.925830</td>\n",
              "    </tr>\n",
              "    <tr>\n",
              "      <th>32</th>\n",
              "      <td>6.930792</td>\n",
              "      <td>-14.208775</td>\n",
              "    </tr>\n",
              "    <tr>\n",
              "      <th>33</th>\n",
              "      <td>-5.163431</td>\n",
              "      <td>1.356545</td>\n",
              "    </tr>\n",
              "  </tbody>\n",
              "</table>\n",
              "</div>"
            ],
            "text/plain": [
              "      lda_one     lda_two\n",
              "0   -6.617918  -12.356202\n",
              "1  -17.481509  -29.636207\n",
              "2    5.195725  -11.079193\n",
              "3   -7.040704   -3.841594\n",
              "4   -8.105453   -1.624225\n",
              "5   -6.545605  -41.762890\n",
              "6   46.504103 -109.629628\n",
              "7   -8.923523   -1.951316\n",
              "8   -7.459192  -44.371672\n",
              "9   97.797257 -244.922192\n",
              "10  17.869365  -49.764691\n",
              "11  35.218644  -88.808987\n",
              "12  -8.784367  -37.272956\n",
              "13  28.956965  -46.674234\n",
              "14  29.973184  -84.013236\n",
              "15   6.100529  -41.168710\n",
              "16  18.571475  -75.866320\n",
              "17  53.940924 -130.939533\n",
              "18  71.663688  -92.017492\n",
              "19  19.481654  -59.151997\n",
              "20  21.798469  -80.560183\n",
              "21 -12.345963  -25.526802\n",
              "22  34.759914  -83.366873\n",
              "23  -1.133490  -33.576652\n",
              "24  49.081236 -121.664338\n",
              "25  38.852404  -92.088211\n",
              "26  40.057101  -75.533825\n",
              "27  39.928668 -110.507066\n",
              "28   0.256565  -47.885311\n",
              "29   9.206738  -44.368850\n",
              "30  -3.342459   -9.964072\n",
              "31  -0.919016   -6.925830\n",
              "32   6.930792  -14.208775\n",
              "33  -5.163431    1.356545"
            ]
          },
          "metadata": {
            "tags": []
          },
          "execution_count": 49
        }
      ]
    },
    {
      "cell_type": "markdown",
      "metadata": {
        "colab_type": "text",
        "id": "p6I0DV6tKYqI"
      },
      "source": [
        "####Scatterplot Test data"
      ]
    },
    {
      "cell_type": "markdown",
      "metadata": {
        "colab_type": "text",
        "id": "aVEOEu5qKYqK"
      },
      "source": [
        "Creiamo uno scatter plot della prima e della seconda componente principale, usiamo colori diversi per le diverse istologie."
      ]
    },
    {
      "cell_type": "code",
      "metadata": {
        "colab_type": "code",
        "outputId": "d9aa4bc1-76e7-45b0-c710-7968a0bc8cb0",
        "id": "VCYPOPJLKYqM",
        "colab": {
          "base_uri": "https://localhost:8080/",
          "height": 623
        }
      },
      "source": [
        "plt.figure(figsize=(16, 10))\n",
        "sns.scatterplot(x=df.lda_one, y=df.lda_two, hue=test_labels, hue_order=['adenocarcinoma', 'large cell', 'squamous cell carcinoma'],\n",
        "                palette=sns.color_palette('hls', 3), legend='full')"
      ],
      "execution_count": 0,
      "outputs": [
        {
          "output_type": "execute_result",
          "data": {
            "text/plain": [
              "<matplotlib.axes._subplots.AxesSubplot at 0x7efce512fcf8>"
            ]
          },
          "metadata": {
            "tags": []
          },
          "execution_count": 50
        },
        {
          "output_type": "display_data",
          "data": {
            "image/png": "[encoded data removed]",
            "text/plain": [
              "<Figure size 1152x720 with 1 Axes>"
            ]
          },
          "metadata": {
            "tags": []
          }
        }
      ]
    },
    {
      "cell_type": "markdown",
      "metadata": {
        "colab_type": "text",
        "id": "14yh9wNzKYqT"
      },
      "source": [
        "###Facendo un nuovo fit con i dati di test"
      ]
    },
    {
      "cell_type": "code",
      "metadata": {
        "colab_type": "code",
        "id": "ap2EmNXsKYqU",
        "colab": {}
      },
      "source": [
        "lda = LinearDiscriminantAnalysis()\n",
        "lda_result = lda.fit(test_data_stand, test_labels)\n",
        "test_data_lda_stand = lda.transform(test_data_stand)"
      ],
      "execution_count": 0,
      "outputs": []
    },
    {
      "cell_type": "code",
      "metadata": {
        "colab_type": "code",
        "outputId": "28e8cea4-388a-48fa-9f80-bdc4a5d049e0",
        "id": "BjT1lkI4KYqb",
        "colab": {
          "base_uri": "https://localhost:8080/",
          "height": 34
        }
      },
      "source": [
        "test_data_lda_stand.shape"
      ],
      "execution_count": 0,
      "outputs": [
        {
          "output_type": "execute_result",
          "data": {
            "text/plain": [
              "(34, 2)"
            ]
          },
          "metadata": {
            "tags": []
          },
          "execution_count": 52
        }
      ]
    },
    {
      "cell_type": "code",
      "metadata": {
        "colab_type": "code",
        "outputId": "d2b2a267-69ae-45f2-844b-2a9ad080347b",
        "id": "OND2Lw_mKYqg",
        "colab": {
          "base_uri": "https://localhost:8080/",
          "height": 34
        }
      },
      "source": [
        "type(lda_result)"
      ],
      "execution_count": 0,
      "outputs": [
        {
          "output_type": "execute_result",
          "data": {
            "text/plain": [
              "sklearn.discriminant_analysis.LinearDiscriminantAnalysis"
            ]
          },
          "metadata": {
            "tags": []
          },
          "execution_count": 53
        }
      ]
    },
    {
      "cell_type": "code",
      "metadata": {
        "colab_type": "code",
        "id": "Aalz0Al4KYql",
        "colab": {}
      },
      "source": [
        "df = pd.DataFrame(test_data_lda_stand, columns=['lda_one', 'lda_two'])"
      ],
      "execution_count": 0,
      "outputs": []
    },
    {
      "cell_type": "code",
      "metadata": {
        "colab_type": "code",
        "outputId": "ab9acc97-1528-4c0e-f642-0e40bf8f00cb",
        "id": "QVdWihaJKYqs",
        "colab": {
          "base_uri": "https://localhost:8080/",
          "height": 1000
        }
      },
      "source": [
        "df"
      ],
      "execution_count": 0,
      "outputs": [
        {
          "output_type": "execute_result",
          "data": {
            "text/html": [
              "<div>\n",
              "<style scoped>\n",
              "    .dataframe tbody tr th:only-of-type {\n",
              "        vertical-align: middle;\n",
              "    }\n",
              "\n",
              "    .dataframe tbody tr th {\n",
              "        vertical-align: top;\n",
              "    }\n",
              "\n",
              "    .dataframe thead th {\n",
              "        text-align: right;\n",
              "    }\n",
              "</style>\n",
              "<table border=\"1\" class=\"dataframe\">\n",
              "  <thead>\n",
              "    <tr style=\"text-align: right;\">\n",
              "      <th></th>\n",
              "      <th>lda_one</th>\n",
              "      <th>lda_two</th>\n",
              "    </tr>\n",
              "  </thead>\n",
              "  <tbody>\n",
              "    <tr>\n",
              "      <th>0</th>\n",
              "      <td>2.511875</td>\n",
              "      <td>2.468140</td>\n",
              "    </tr>\n",
              "    <tr>\n",
              "      <th>1</th>\n",
              "      <td>4.528617</td>\n",
              "      <td>-3.869207</td>\n",
              "    </tr>\n",
              "    <tr>\n",
              "      <th>2</th>\n",
              "      <td>3.821769</td>\n",
              "      <td>-1.819287</td>\n",
              "    </tr>\n",
              "    <tr>\n",
              "      <th>3</th>\n",
              "      <td>-2.055869</td>\n",
              "      <td>0.075532</td>\n",
              "    </tr>\n",
              "    <tr>\n",
              "      <th>4</th>\n",
              "      <td>0.809465</td>\n",
              "      <td>-0.633979</td>\n",
              "    </tr>\n",
              "    <tr>\n",
              "      <th>5</th>\n",
              "      <td>2.622924</td>\n",
              "      <td>0.538986</td>\n",
              "    </tr>\n",
              "    <tr>\n",
              "      <th>6</th>\n",
              "      <td>2.818325</td>\n",
              "      <td>1.071662</td>\n",
              "    </tr>\n",
              "    <tr>\n",
              "      <th>7</th>\n",
              "      <td>-0.522970</td>\n",
              "      <td>-1.570729</td>\n",
              "    </tr>\n",
              "    <tr>\n",
              "      <th>8</th>\n",
              "      <td>-2.079238</td>\n",
              "      <td>-0.328327</td>\n",
              "    </tr>\n",
              "    <tr>\n",
              "      <th>9</th>\n",
              "      <td>-2.676074</td>\n",
              "      <td>-0.258877</td>\n",
              "    </tr>\n",
              "    <tr>\n",
              "      <th>10</th>\n",
              "      <td>1.203811</td>\n",
              "      <td>-0.482896</td>\n",
              "    </tr>\n",
              "    <tr>\n",
              "      <th>11</th>\n",
              "      <td>-0.933417</td>\n",
              "      <td>-1.070849</td>\n",
              "    </tr>\n",
              "    <tr>\n",
              "      <th>12</th>\n",
              "      <td>-2.121696</td>\n",
              "      <td>-0.038311</td>\n",
              "    </tr>\n",
              "    <tr>\n",
              "      <th>13</th>\n",
              "      <td>-1.929134</td>\n",
              "      <td>1.054770</td>\n",
              "    </tr>\n",
              "    <tr>\n",
              "      <th>14</th>\n",
              "      <td>-4.682364</td>\n",
              "      <td>-0.352698</td>\n",
              "    </tr>\n",
              "    <tr>\n",
              "      <th>15</th>\n",
              "      <td>-2.215189</td>\n",
              "      <td>0.018399</td>\n",
              "    </tr>\n",
              "    <tr>\n",
              "      <th>16</th>\n",
              "      <td>-1.789016</td>\n",
              "      <td>-0.153129</td>\n",
              "    </tr>\n",
              "    <tr>\n",
              "      <th>17</th>\n",
              "      <td>2.339219</td>\n",
              "      <td>2.107032</td>\n",
              "    </tr>\n",
              "    <tr>\n",
              "      <th>18</th>\n",
              "      <td>2.675330</td>\n",
              "      <td>1.638717</td>\n",
              "    </tr>\n",
              "    <tr>\n",
              "      <th>19</th>\n",
              "      <td>-1.443670</td>\n",
              "      <td>0.601943</td>\n",
              "    </tr>\n",
              "    <tr>\n",
              "      <th>20</th>\n",
              "      <td>-2.559347</td>\n",
              "      <td>-0.626236</td>\n",
              "    </tr>\n",
              "    <tr>\n",
              "      <th>21</th>\n",
              "      <td>-1.895424</td>\n",
              "      <td>-0.714333</td>\n",
              "    </tr>\n",
              "    <tr>\n",
              "      <th>22</th>\n",
              "      <td>3.556485</td>\n",
              "      <td>-4.158092</td>\n",
              "    </tr>\n",
              "    <tr>\n",
              "      <th>23</th>\n",
              "      <td>2.148159</td>\n",
              "      <td>2.281482</td>\n",
              "    </tr>\n",
              "    <tr>\n",
              "      <th>24</th>\n",
              "      <td>-1.404143</td>\n",
              "      <td>-0.910332</td>\n",
              "    </tr>\n",
              "    <tr>\n",
              "      <th>25</th>\n",
              "      <td>-1.470215</td>\n",
              "      <td>0.751016</td>\n",
              "    </tr>\n",
              "    <tr>\n",
              "      <th>26</th>\n",
              "      <td>1.035512</td>\n",
              "      <td>1.268899</td>\n",
              "    </tr>\n",
              "    <tr>\n",
              "      <th>27</th>\n",
              "      <td>-1.748344</td>\n",
              "      <td>1.333351</td>\n",
              "    </tr>\n",
              "    <tr>\n",
              "      <th>28</th>\n",
              "      <td>-1.551494</td>\n",
              "      <td>-1.174757</td>\n",
              "    </tr>\n",
              "    <tr>\n",
              "      <th>29</th>\n",
              "      <td>1.906445</td>\n",
              "      <td>-0.066768</td>\n",
              "    </tr>\n",
              "    <tr>\n",
              "      <th>30</th>\n",
              "      <td>-1.973788</td>\n",
              "      <td>-0.168839</td>\n",
              "    </tr>\n",
              "    <tr>\n",
              "      <th>31</th>\n",
              "      <td>-2.186709</td>\n",
              "      <td>-0.165024</td>\n",
              "    </tr>\n",
              "    <tr>\n",
              "      <th>32</th>\n",
              "      <td>2.166553</td>\n",
              "      <td>1.583777</td>\n",
              "    </tr>\n",
              "    <tr>\n",
              "      <th>33</th>\n",
              "      <td>3.093612</td>\n",
              "      <td>1.768965</td>\n",
              "    </tr>\n",
              "  </tbody>\n",
              "</table>\n",
              "</div>"
            ],
            "text/plain": [
              "     lda_one   lda_two\n",
              "0   2.511875  2.468140\n",
              "1   4.528617 -3.869207\n",
              "2   3.821769 -1.819287\n",
              "3  -2.055869  0.075532\n",
              "4   0.809465 -0.633979\n",
              "5   2.622924  0.538986\n",
              "6   2.818325  1.071662\n",
              "7  -0.522970 -1.570729\n",
              "8  -2.079238 -0.328327\n",
              "9  -2.676074 -0.258877\n",
              "10  1.203811 -0.482896\n",
              "11 -0.933417 -1.070849\n",
              "12 -2.121696 -0.038311\n",
              "13 -1.929134  1.054770\n",
              "14 -4.682364 -0.352698\n",
              "15 -2.215189  0.018399\n",
              "16 -1.789016 -0.153129\n",
              "17  2.339219  2.107032\n",
              "18  2.675330  1.638717\n",
              "19 -1.443670  0.601943\n",
              "20 -2.559347 -0.626236\n",
              "21 -1.895424 -0.714333\n",
              "22  3.556485 -4.158092\n",
              "23  2.148159  2.281482\n",
              "24 -1.404143 -0.910332\n",
              "25 -1.470215  0.751016\n",
              "26  1.035512  1.268899\n",
              "27 -1.748344  1.333351\n",
              "28 -1.551494 -1.174757\n",
              "29  1.906445 -0.066768\n",
              "30 -1.973788 -0.168839\n",
              "31 -2.186709 -0.165024\n",
              "32  2.166553  1.583777\n",
              "33  3.093612  1.768965"
            ]
          },
          "metadata": {
            "tags": []
          },
          "execution_count": 55
        }
      ]
    },
    {
      "cell_type": "markdown",
      "metadata": {
        "colab_type": "text",
        "id": "0K7IW2dtKYq4"
      },
      "source": [
        "####Scatterplot Test data"
      ]
    },
    {
      "cell_type": "markdown",
      "metadata": {
        "colab_type": "text",
        "id": "d1SDz7FxKYq6"
      },
      "source": [
        "Creiamo uno scatter plot della prima e della seconda componente principale, usiamo colori diversi per le diverse istologie."
      ]
    },
    {
      "cell_type": "code",
      "metadata": {
        "colab_type": "code",
        "outputId": "728baf88-994b-4748-8dd2-d49e9796d4b9",
        "id": "90DteLxDKYq8",
        "colab": {
          "base_uri": "https://localhost:8080/",
          "height": 623
        }
      },
      "source": [
        "plt.figure(figsize=(16, 10))\n",
        "sns.scatterplot(x=df.lda_one, y=df.lda_two, hue=test_labels, hue_order=['adenocarcinoma', 'large cell', 'squamous cell carcinoma'],\n",
        "                palette=sns.color_palette('hls', 3), legend='full')"
      ],
      "execution_count": 0,
      "outputs": [
        {
          "output_type": "execute_result",
          "data": {
            "text/plain": [
              "<matplotlib.axes._subplots.AxesSubplot at 0x7efce50acac8>"
            ]
          },
          "metadata": {
            "tags": []
          },
          "execution_count": 56
        },
        {
          "output_type": "display_data",
          "data": {
            "image/png": "[encoded data removed]",
            "text/plain": [
              "<Figure size 1152x720 with 1 Axes>"
            ]
          },
          "metadata": {
            "tags": []
          }
        }
      ]
    },
    {
      "cell_type": "markdown",
      "metadata": {
        "id": "iFXWrsTNNN2D",
        "colab_type": "text"
      },
      "source": [
        "Standardizzando i dati oppure no non cambia nulla"
      ]
    },
    {
      "cell_type": "markdown",
      "metadata": {
        "id": "i4379nEsNWGv",
        "colab_type": "text"
      },
      "source": [
        "I dati del dataset di Test non si comportano bene come gli altri applicando la LDA,"
      ]
    },
    {
      "cell_type": "markdown",
      "metadata": {
        "id": "8FBgiybPNkrG",
        "colab_type": "text"
      },
      "source": [
        "#Merge dataset LDA"
      ]
    },
    {
      "cell_type": "code",
      "metadata": {
        "id": "21MJpB7HPm8P",
        "colab_type": "code",
        "colab": {}
      },
      "source": [
        "tot_data = pd.concat([train_data, test_data], axis=0, ignore_index=True)"
      ],
      "execution_count": 0,
      "outputs": []
    },
    {
      "cell_type": "code",
      "metadata": {
        "id": "9IzP2WgoNTTy",
        "colab_type": "code",
        "colab": {}
      },
      "source": [
        "tot_label = pd.concat([train_labels, test_labels], axis=0, ignore_index=True)"
      ],
      "execution_count": 0,
      "outputs": []
    },
    {
      "cell_type": "code",
      "metadata": {
        "id": "kDGUU_H7QLWg",
        "colab_type": "code",
        "outputId": "ad16748a-b629-4867-f3f1-f58f3dc4e175",
        "colab": {
          "base_uri": "https://localhost:8080/",
          "height": 34
        }
      },
      "source": [
        "tot_data.shape"
      ],
      "execution_count": 0,
      "outputs": [
        {
          "output_type": "execute_result",
          "data": {
            "text/plain": [
              "(165, 107)"
            ]
          },
          "metadata": {
            "tags": []
          },
          "execution_count": 59
        }
      ]
    },
    {
      "cell_type": "code",
      "metadata": {
        "id": "Ic55ngm-QM7x",
        "colab_type": "code",
        "outputId": "bc8a1ea1-dac0-4995-b84a-0d80e6045092",
        "colab": {
          "base_uri": "https://localhost:8080/",
          "height": 34
        }
      },
      "source": [
        "tot_label.shape"
      ],
      "execution_count": 0,
      "outputs": [
        {
          "output_type": "execute_result",
          "data": {
            "text/plain": [
              "(165,)"
            ]
          },
          "metadata": {
            "tags": []
          },
          "execution_count": 60
        }
      ]
    },
    {
      "cell_type": "code",
      "metadata": {
        "id": "nqvG13erQPbF",
        "colab_type": "code",
        "outputId": "94d310ce-5a13-4e72-c63b-504b62a2b978",
        "colab": {
          "base_uri": "https://localhost:8080/",
          "height": 260
        }
      },
      "source": [
        "tot_data.head"
      ],
      "execution_count": 0,
      "outputs": [
        {
          "output_type": "execute_result",
          "data": {
            "text/plain": [
              "<bound method NDFrame.head of        VoxelVolume  Maximum3DDiameter  ...  Contrast.1  Busyness\n",
              "0     51905.377962          66.288317  ...    0.020920  1.306338\n",
              "1     13432.502747          58.057539  ...    0.146173  0.253533\n",
              "2     25843.872675          52.918217  ...    0.152919  0.611772\n",
              "3     22152.709032          46.635312  ...    0.351327  0.564313\n",
              "4    119385.805617          92.436320  ...    0.132602  1.804351\n",
              "..             ...                ...  ...         ...       ...\n",
              "160    6592.266962          33.622119  ...    0.085026  0.359230\n",
              "161    3010.031479          29.286452  ...    0.295357  0.263438\n",
              "162    8683.195759          49.195074  ...    0.594629  0.392208\n",
              "163   25939.914844          57.067095  ...    0.059377  0.658985\n",
              "164   73401.852784          73.105484  ...    0.064501  0.895047\n",
              "\n",
              "[165 rows x 107 columns]>"
            ]
          },
          "metadata": {
            "tags": []
          },
          "execution_count": 61
        }
      ]
    },
    {
      "cell_type": "code",
      "metadata": {
        "id": "kyDRnO_wQQ5w",
        "colab_type": "code",
        "outputId": "cc4d1582-d9b6-473a-eb50-2edc5e94170c",
        "colab": {
          "base_uri": "https://localhost:8080/",
          "height": 225
        }
      },
      "source": [
        "tot_label.head"
      ],
      "execution_count": 0,
      "outputs": [
        {
          "output_type": "execute_result",
          "data": {
            "text/plain": [
              "<bound method NDFrame.head of 0               adenocarcinoma\n",
              "1               adenocarcinoma\n",
              "2               adenocarcinoma\n",
              "3               adenocarcinoma\n",
              "4               adenocarcinoma\n",
              "                ...           \n",
              "160    squamous cell carcinoma\n",
              "161             adenocarcinoma\n",
              "162             adenocarcinoma\n",
              "163    squamous cell carcinoma\n",
              "164    squamous cell carcinoma\n",
              "Name: Histology, Length: 165, dtype: object>"
            ]
          },
          "metadata": {
            "tags": []
          },
          "execution_count": 62
        }
      ]
    },
    {
      "cell_type": "code",
      "metadata": {
        "colab_type": "code",
        "id": "D1HzRVW2QlaP",
        "colab": {}
      },
      "source": [
        "lda = LinearDiscriminantAnalysis()\n",
        "lda_result = lda.fit(tot_data, tot_label)\n",
        "tot_data_lda = lda.transform(tot_data)"
      ],
      "execution_count": 0,
      "outputs": []
    },
    {
      "cell_type": "code",
      "metadata": {
        "id": "Fj5PJeEbRP6j",
        "colab_type": "code",
        "outputId": "2857aaed-f247-46ec-da2f-0e1d3e959f2b",
        "colab": {
          "base_uri": "https://localhost:8080/",
          "height": 34
        }
      },
      "source": [
        "tot_data_lda.shape"
      ],
      "execution_count": 0,
      "outputs": [
        {
          "output_type": "execute_result",
          "data": {
            "text/plain": [
              "(165, 2)"
            ]
          },
          "metadata": {
            "tags": []
          },
          "execution_count": 64
        }
      ]
    },
    {
      "cell_type": "code",
      "metadata": {
        "id": "PdQ970jVRZyC",
        "colab_type": "code",
        "colab": {}
      },
      "source": [
        "df = pd.DataFrame(tot_data_lda, columns=['lda_one', 'lda_two'])"
      ],
      "execution_count": 0,
      "outputs": []
    },
    {
      "cell_type": "code",
      "metadata": {
        "id": "uOc8kRo_RelT",
        "colab_type": "code",
        "outputId": "8d12b1ed-038f-4a8f-c459-b2006909d810",
        "colab": {
          "base_uri": "https://localhost:8080/",
          "height": 424
        }
      },
      "source": [
        "df"
      ],
      "execution_count": 0,
      "outputs": [
        {
          "output_type": "execute_result",
          "data": {
            "text/html": [
              "<div>\n",
              "<style scoped>\n",
              "    .dataframe tbody tr th:only-of-type {\n",
              "        vertical-align: middle;\n",
              "    }\n",
              "\n",
              "    .dataframe tbody tr th {\n",
              "        vertical-align: top;\n",
              "    }\n",
              "\n",
              "    .dataframe thead th {\n",
              "        text-align: right;\n",
              "    }\n",
              "</style>\n",
              "<table border=\"1\" class=\"dataframe\">\n",
              "  <thead>\n",
              "    <tr style=\"text-align: right;\">\n",
              "      <th></th>\n",
              "      <th>lda_one</th>\n",
              "      <th>lda_two</th>\n",
              "    </tr>\n",
              "  </thead>\n",
              "  <tbody>\n",
              "    <tr>\n",
              "      <th>0</th>\n",
              "      <td>-4.260697</td>\n",
              "      <td>2.389092</td>\n",
              "    </tr>\n",
              "    <tr>\n",
              "      <th>1</th>\n",
              "      <td>-1.137078</td>\n",
              "      <td>-1.051931</td>\n",
              "    </tr>\n",
              "    <tr>\n",
              "      <th>2</th>\n",
              "      <td>-1.763563</td>\n",
              "      <td>-0.177532</td>\n",
              "    </tr>\n",
              "    <tr>\n",
              "      <th>3</th>\n",
              "      <td>-2.974372</td>\n",
              "      <td>0.180177</td>\n",
              "    </tr>\n",
              "    <tr>\n",
              "      <th>4</th>\n",
              "      <td>-1.801073</td>\n",
              "      <td>2.834989</td>\n",
              "    </tr>\n",
              "    <tr>\n",
              "      <th>...</th>\n",
              "      <td>...</td>\n",
              "      <td>...</td>\n",
              "    </tr>\n",
              "    <tr>\n",
              "      <th>160</th>\n",
              "      <td>-0.574320</td>\n",
              "      <td>1.891125</td>\n",
              "    </tr>\n",
              "    <tr>\n",
              "      <th>161</th>\n",
              "      <td>-4.169638</td>\n",
              "      <td>0.751516</td>\n",
              "    </tr>\n",
              "    <tr>\n",
              "      <th>162</th>\n",
              "      <td>-3.549652</td>\n",
              "      <td>0.858156</td>\n",
              "    </tr>\n",
              "    <tr>\n",
              "      <th>163</th>\n",
              "      <td>2.103693</td>\n",
              "      <td>0.863202</td>\n",
              "    </tr>\n",
              "    <tr>\n",
              "      <th>164</th>\n",
              "      <td>1.065895</td>\n",
              "      <td>2.531468</td>\n",
              "    </tr>\n",
              "  </tbody>\n",
              "</table>\n",
              "<p>165 rows × 2 columns</p>\n",
              "</div>"
            ],
            "text/plain": [
              "      lda_one   lda_two\n",
              "0   -4.260697  2.389092\n",
              "1   -1.137078 -1.051931\n",
              "2   -1.763563 -0.177532\n",
              "3   -2.974372  0.180177\n",
              "4   -1.801073  2.834989\n",
              "..        ...       ...\n",
              "160 -0.574320  1.891125\n",
              "161 -4.169638  0.751516\n",
              "162 -3.549652  0.858156\n",
              "163  2.103693  0.863202\n",
              "164  1.065895  2.531468\n",
              "\n",
              "[165 rows x 2 columns]"
            ]
          },
          "metadata": {
            "tags": []
          },
          "execution_count": 66
        }
      ]
    },
    {
      "cell_type": "code",
      "metadata": {
        "id": "H8gds8yhRzU5",
        "colab_type": "code",
        "outputId": "1817ef65-9ff7-4c1c-c9a1-96f8317f80ae",
        "colab": {
          "base_uri": "https://localhost:8080/",
          "height": 34
        }
      },
      "source": [
        "print('Explained variation per principal component: {}'.format(lda.explained_variance_ratio_))"
      ],
      "execution_count": 0,
      "outputs": [
        {
          "output_type": "stream",
          "text": [
            "Explained variation per principal component: [0.57550443 0.42449557]\n"
          ],
          "name": "stdout"
        }
      ]
    },
    {
      "cell_type": "markdown",
      "metadata": {
        "colab_type": "text",
        "id": "PcbFtYRyRrN8"
      },
      "source": [
        "###Scatterplot Tot data"
      ]
    },
    {
      "cell_type": "markdown",
      "metadata": {
        "colab_type": "text",
        "id": "qW7M9I3nRrOJ"
      },
      "source": [
        "Creiamo uno scatter plot della prima e della seconda componente principale, usiamo colori diversi per le diverse istologie."
      ]
    },
    {
      "cell_type": "code",
      "metadata": {
        "colab_type": "code",
        "outputId": "eb4b192d-c6dc-451d-c88b-bbad069087ec",
        "id": "-DvwqWvuRrOR",
        "colab": {
          "base_uri": "https://localhost:8080/",
          "height": 623
        }
      },
      "source": [
        "plt.figure(figsize=(16, 10))\n",
        "sns.scatterplot(x=df.lda_one, y=df.lda_two, hue=tot_label, hue_order=['adenocarcinoma', 'large cell', 'squamous cell carcinoma'],\n",
        "                palette=sns.color_palette('hls', 3), legend='full')"
      ],
      "execution_count": 0,
      "outputs": [
        {
          "output_type": "execute_result",
          "data": {
            "text/plain": [
              "<matplotlib.axes._subplots.AxesSubplot at 0x7efce57ff710>"
            ]
          },
          "metadata": {
            "tags": []
          },
          "execution_count": 68
        },
        {
          "output_type": "display_data",
          "data": {
            "image/png": "[encoded data removed]",
            "text/plain": [
              "<Figure size 1152x720 with 1 Axes>"
            ]
          },
          "metadata": {
            "tags": []
          }
        }
      ]
    },
    {
      "cell_type": "code",
      "metadata": {
        "id": "GD0DQDAJKh2t",
        "colab_type": "code",
        "outputId": "e6e7ccc6-03be-45f8-ed03-e87ba2bc296e",
        "colab": {
          "base_uri": "https://localhost:8080/",
          "height": 225
        }
      },
      "source": [
        "tot_label"
      ],
      "execution_count": 0,
      "outputs": [
        {
          "output_type": "execute_result",
          "data": {
            "text/plain": [
              "0               adenocarcinoma\n",
              "1               adenocarcinoma\n",
              "2               adenocarcinoma\n",
              "3               adenocarcinoma\n",
              "4               adenocarcinoma\n",
              "                ...           \n",
              "160    squamous cell carcinoma\n",
              "161             adenocarcinoma\n",
              "162             adenocarcinoma\n",
              "163    squamous cell carcinoma\n",
              "164    squamous cell carcinoma\n",
              "Name: Histology, Length: 165, dtype: object"
            ]
          },
          "metadata": {
            "tags": []
          },
          "execution_count": 69
        }
      ]
    },
    {
      "cell_type": "code",
      "metadata": {
        "id": "uGYtNEBSR2y_",
        "colab_type": "code",
        "colab": {}
      },
      "source": [
        "n_train_a = list(df_train.Histology).count('adenocarcinoma')\n",
        "n_train_l = list(df_train.Histology).count('large cell')\n",
        "n_train_s = list(df_train.Histology).count('squamous cell carcinoma')\n",
        "n_test_a = list(df_test.Histology).count('adenocarcinoma')\n",
        "n_test_l = list(df_test.Histology).count('large cell')\n",
        "n_test_s = list(df_test.Histology).count('squamous cell carcinoma')"
      ],
      "execution_count": 0,
      "outputs": []
    },
    {
      "cell_type": "code",
      "metadata": {
        "id": "lSs1x0JlXEBd",
        "colab_type": "code",
        "colab": {}
      },
      "source": [
        "n_tot_a = n_train_a + n_test_a\n",
        "n_tot_l = n_train_l + n_test_l\n",
        "n_tot_s = n_train_s + n_test_s"
      ],
      "execution_count": 0,
      "outputs": []
    },
    {
      "cell_type": "code",
      "metadata": {
        "id": "sGm9Xjywcl8l",
        "colab_type": "code",
        "outputId": "ef5dd7a2-e45b-4b2f-9392-4386c8ea3b24",
        "colab": {
          "base_uri": "https://localhost:8080/",
          "height": 34
        }
      },
      "source": [
        "n_tot_a"
      ],
      "execution_count": 0,
      "outputs": [
        {
          "output_type": "execute_result",
          "data": {
            "text/plain": [
              "36"
            ]
          },
          "metadata": {
            "tags": []
          },
          "execution_count": 72
        }
      ]
    },
    {
      "cell_type": "code",
      "metadata": {
        "id": "4_7A8RZhcqft",
        "colab_type": "code",
        "outputId": "752fb709-e1e6-4f6f-b8ce-05fb635f5ae7",
        "colab": {
          "base_uri": "https://localhost:8080/",
          "height": 34
        }
      },
      "source": [
        "n_tot_l"
      ],
      "execution_count": 0,
      "outputs": [
        {
          "output_type": "execute_result",
          "data": {
            "text/plain": [
              "65"
            ]
          },
          "metadata": {
            "tags": []
          },
          "execution_count": 73
        }
      ]
    },
    {
      "cell_type": "code",
      "metadata": {
        "id": "YZtAunPoctV4",
        "colab_type": "code",
        "outputId": "172a228c-717c-4d86-f1a6-bbec1f56c771",
        "colab": {
          "base_uri": "https://localhost:8080/",
          "height": 34
        }
      },
      "source": [
        "n_tot_s"
      ],
      "execution_count": 0,
      "outputs": [
        {
          "output_type": "execute_result",
          "data": {
            "text/plain": [
              "64"
            ]
          },
          "metadata": {
            "tags": []
          },
          "execution_count": 74
        }
      ]
    },
    {
      "cell_type": "code",
      "metadata": {
        "id": "XGdv3NQ7cv6O",
        "colab_type": "code",
        "outputId": "94c68824-9f83-4987-e96b-b68187257cbe",
        "colab": {
          "base_uri": "https://localhost:8080/",
          "height": 34
        }
      },
      "source": [
        "64+65+36"
      ],
      "execution_count": 0,
      "outputs": [
        {
          "output_type": "execute_result",
          "data": {
            "text/plain": [
              "165"
            ]
          },
          "metadata": {
            "tags": []
          },
          "execution_count": 75
        }
      ]
    },
    {
      "cell_type": "code",
      "metadata": {
        "id": "NSQxcEhxcxqt",
        "colab_type": "code",
        "outputId": "43b21e48-cbb1-4e2b-ffce-6cbbf535dd2f",
        "colab": {
          "base_uri": "https://localhost:8080/",
          "height": 34
        }
      },
      "source": [
        "train_data.shape"
      ],
      "execution_count": 0,
      "outputs": [
        {
          "output_type": "execute_result",
          "data": {
            "text/plain": [
              "(131, 107)"
            ]
          },
          "metadata": {
            "tags": []
          },
          "execution_count": 76
        }
      ]
    },
    {
      "cell_type": "code",
      "metadata": {
        "id": "XpLB0JxTc3EP",
        "colab_type": "code",
        "outputId": "b7f46911-ec8d-4914-fc6a-ed79790cf7f0",
        "colab": {
          "base_uri": "https://localhost:8080/",
          "height": 34
        }
      },
      "source": [
        "test_data.shape"
      ],
      "execution_count": 0,
      "outputs": [
        {
          "output_type": "execute_result",
          "data": {
            "text/plain": [
              "(34, 107)"
            ]
          },
          "metadata": {
            "tags": []
          },
          "execution_count": 77
        }
      ]
    },
    {
      "cell_type": "code",
      "metadata": {
        "id": "s1w-bioac5ZP",
        "colab_type": "code",
        "outputId": "069ee9e0-21ff-49a8-844b-0e4515e8ebea",
        "colab": {
          "base_uri": "https://localhost:8080/",
          "height": 34
        }
      },
      "source": [
        "131+34"
      ],
      "execution_count": 0,
      "outputs": [
        {
          "output_type": "execute_result",
          "data": {
            "text/plain": [
              "165"
            ]
          },
          "metadata": {
            "tags": []
          },
          "execution_count": 78
        }
      ]
    },
    {
      "cell_type": "code",
      "metadata": {
        "id": "IxS8JOvec6pt",
        "colab_type": "code",
        "outputId": "e22fabca-9344-45da-a6cd-8528a3555f3d",
        "colab": {
          "base_uri": "https://localhost:8080/",
          "height": 34
        }
      },
      "source": [
        "n_train_a"
      ],
      "execution_count": 0,
      "outputs": [
        {
          "output_type": "execute_result",
          "data": {
            "text/plain": [
              "16"
            ]
          },
          "metadata": {
            "tags": []
          },
          "execution_count": 79
        }
      ]
    },
    {
      "cell_type": "code",
      "metadata": {
        "id": "PaP4pC7vdCjX",
        "colab_type": "code",
        "outputId": "5a2a2ca6-d4e8-4770-8033-557f27005ae3",
        "colab": {
          "base_uri": "https://localhost:8080/",
          "height": 34
        }
      },
      "source": [
        "n_train_l"
      ],
      "execution_count": 0,
      "outputs": [
        {
          "output_type": "execute_result",
          "data": {
            "text/plain": [
              "61"
            ]
          },
          "metadata": {
            "tags": []
          },
          "execution_count": 80
        }
      ]
    },
    {
      "cell_type": "code",
      "metadata": {
        "id": "V-IQCSRGdEiH",
        "colab_type": "code",
        "outputId": "3a5c92ea-39c7-4697-f0fa-0db3d4eb997b",
        "colab": {
          "base_uri": "https://localhost:8080/",
          "height": 34
        }
      },
      "source": [
        "n_train_s"
      ],
      "execution_count": 0,
      "outputs": [
        {
          "output_type": "execute_result",
          "data": {
            "text/plain": [
              "54"
            ]
          },
          "metadata": {
            "tags": []
          },
          "execution_count": 81
        }
      ]
    },
    {
      "cell_type": "code",
      "metadata": {
        "id": "lIakBbmEdGCG",
        "colab_type": "code",
        "outputId": "f828c452-2ac1-4aa8-bbf4-3915dbd49aaf",
        "colab": {
          "base_uri": "https://localhost:8080/",
          "height": 34
        }
      },
      "source": [
        "54+61+16"
      ],
      "execution_count": 0,
      "outputs": [
        {
          "output_type": "execute_result",
          "data": {
            "text/plain": [
              "131"
            ]
          },
          "metadata": {
            "tags": []
          },
          "execution_count": 82
        }
      ]
    },
    {
      "cell_type": "code",
      "metadata": {
        "id": "h_B_ERDgdIQP",
        "colab_type": "code",
        "outputId": "e089f3d7-0d85-4b02-bda5-2882bd6bdfd0",
        "colab": {
          "base_uri": "https://localhost:8080/",
          "height": 34
        }
      },
      "source": [
        "n_test_a"
      ],
      "execution_count": 0,
      "outputs": [
        {
          "output_type": "execute_result",
          "data": {
            "text/plain": [
              "20"
            ]
          },
          "metadata": {
            "tags": []
          },
          "execution_count": 83
        }
      ]
    },
    {
      "cell_type": "code",
      "metadata": {
        "id": "mG0rOKbsdOJw",
        "colab_type": "code",
        "outputId": "a7f40446-a36a-4e62-dffa-dd62b949fe24",
        "colab": {
          "base_uri": "https://localhost:8080/",
          "height": 34
        }
      },
      "source": [
        "n_test_l"
      ],
      "execution_count": 0,
      "outputs": [
        {
          "output_type": "execute_result",
          "data": {
            "text/plain": [
              "4"
            ]
          },
          "metadata": {
            "tags": []
          },
          "execution_count": 84
        }
      ]
    },
    {
      "cell_type": "code",
      "metadata": {
        "id": "wu-aXAsDdYTq",
        "colab_type": "code",
        "outputId": "5c57649a-ad68-421a-87f1-dae63cfde162",
        "colab": {
          "base_uri": "https://localhost:8080/",
          "height": 34
        }
      },
      "source": [
        "n_test_s"
      ],
      "execution_count": 0,
      "outputs": [
        {
          "output_type": "execute_result",
          "data": {
            "text/plain": [
              "10"
            ]
          },
          "metadata": {
            "tags": []
          },
          "execution_count": 85
        }
      ]
    },
    {
      "cell_type": "code",
      "metadata": {
        "id": "CUF7cweTdZ0l",
        "colab_type": "code",
        "colab": {}
      },
      "source": [
        ""
      ],
      "execution_count": 0,
      "outputs": []
    }
  ]
}