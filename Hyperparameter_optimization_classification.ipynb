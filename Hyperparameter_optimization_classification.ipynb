{
  "nbformat": 4,
  "nbformat_minor": 0,
  "metadata": {
    "colab": {
      "name": "Hyperparameter_optimization_classification.ipynb",
      "provenance": [],
      "toc_visible": true,
      "include_colab_link": true
    },
    "kernelspec": {
      "name": "python3",
      "display_name": "Python 3"
    }
  },
  "cells": [
    {
      "cell_type": "markdown",
      "metadata": {
        "id": "view-in-github",
        "colab_type": "text"
      },
      "source": [
        "<a href=\"https://colab.research.google.com/github/leonardoub/SCRIPT_PALERMO/blob/master/Hyperparameter_optimization_classification.ipynb\" target=\"_parent\"><img src=\"https://colab.research.google.com/assets/colab-badge.svg\" alt=\"Open In Colab\"/></a>"
      ]
    },
    {
      "cell_type": "markdown",
      "metadata": {
        "id": "-YN6Hc9lFNNk",
        "colab_type": "text"
      },
      "source": [
        "#Optimization of hyperparameter"
      ]
    },
    {
      "cell_type": "code",
      "metadata": {
        "id": "Py6sopCQLbAy",
        "colab_type": "code",
        "outputId": "0a33dc85-6a41-4895-f0f7-39c9ac0147e9",
        "colab": {
          "base_uri": "https://localhost:8080/",
          "height": 1000
        }
      },
      "source": [
        "!pip install -U keras-tuner"
      ],
      "execution_count": 1,
      "outputs": [
        {
          "output_type": "stream",
          "text": [
            "Collecting keras-tuner\n",
            "\u001b[?25l  Downloading https://files.pythonhosted.org/packages/db/93/5db8ac61f6547ce94b534a1cf614961a6e302559f0cdd1b37248052c9761/keras_tuner-1.0.0-py2.py3-none-any.whl (88kB)\n",
            "\u001b[K     |████████████████████████████████| 92kB 2.4MB/s \n",
            "\u001b[?25hRequirement already satisfied, skipping upgrade: numpy in /usr/local/lib/python3.6/dist-packages (from keras-tuner) (1.17.4)\n",
            "Collecting tensorflow>=2.0.0-beta1\n",
            "\u001b[?25l  Downloading https://files.pythonhosted.org/packages/7b/44/4e8cc8c84cf235628ee919ba97ee029f2d080fa3573e26fe726973d004b4/tensorflow-2.1.0rc2-cp36-cp36m-manylinux2010_x86_64.whl (421.8MB)\n",
            "\u001b[K     |████████████████████████████████| 421.8MB 37kB/s \n",
            "\u001b[?25hRequirement already satisfied, skipping upgrade: requests in /usr/local/lib/python3.6/dist-packages (from keras-tuner) (2.21.0)\n",
            "Requirement already satisfied, skipping upgrade: scipy in /usr/local/lib/python3.6/dist-packages (from keras-tuner) (1.3.3)\n",
            "Requirement already satisfied, skipping upgrade: tqdm in /usr/local/lib/python3.6/dist-packages (from keras-tuner) (4.28.1)\n",
            "Requirement already satisfied, skipping upgrade: scikit-learn in /usr/local/lib/python3.6/dist-packages (from keras-tuner) (0.21.3)\n",
            "Requirement already satisfied, skipping upgrade: psutil in /usr/local/lib/python3.6/dist-packages (from keras-tuner) (5.4.8)\n",
            "Collecting terminaltables\n",
            "  Downloading https://files.pythonhosted.org/packages/9b/c4/4a21174f32f8a7e1104798c445dacdc1d4df86f2f26722767034e4de4bff/terminaltables-3.1.0.tar.gz\n",
            "Requirement already satisfied, skipping upgrade: tabulate in /usr/local/lib/python3.6/dist-packages (from keras-tuner) (0.8.6)\n",
            "Collecting colorama\n",
            "  Downloading https://files.pythonhosted.org/packages/c9/dc/45cdef1b4d119eb96316b3117e6d5708a08029992b2fee2c143c7a0a5cc5/colorama-0.4.3-py2.py3-none-any.whl\n",
            "Requirement already satisfied, skipping upgrade: astor>=0.6.0 in /usr/local/lib/python3.6/dist-packages (from tensorflow>=2.0.0-beta1->keras-tuner) (0.8.1)\n",
            "Requirement already satisfied, skipping upgrade: absl-py>=0.7.0 in /usr/local/lib/python3.6/dist-packages (from tensorflow>=2.0.0-beta1->keras-tuner) (0.8.1)\n",
            "Collecting tensorflow-estimator<2.2.0,>=2.1.0rc0\n",
            "\u001b[?25l  Downloading https://files.pythonhosted.org/packages/18/90/b77c328a1304437ab1310b463e533fa7689f4bfc41549593056d812fab8e/tensorflow_estimator-2.1.0-py2.py3-none-any.whl (448kB)\n",
            "\u001b[K     |████████████████████████████████| 450kB 47.2MB/s \n",
            "\u001b[?25hRequirement already satisfied, skipping upgrade: google-pasta>=0.1.6 in /usr/local/lib/python3.6/dist-packages (from tensorflow>=2.0.0-beta1->keras-tuner) (0.1.8)\n",
            "Requirement already satisfied, skipping upgrade: opt-einsum>=2.3.2 in /usr/local/lib/python3.6/dist-packages (from tensorflow>=2.0.0-beta1->keras-tuner) (3.1.0)\n",
            "Requirement already satisfied, skipping upgrade: protobuf>=3.8.0 in /usr/local/lib/python3.6/dist-packages (from tensorflow>=2.0.0-beta1->keras-tuner) (3.10.0)\n",
            "Requirement already satisfied, skipping upgrade: wrapt>=1.11.1 in /usr/local/lib/python3.6/dist-packages (from tensorflow>=2.0.0-beta1->keras-tuner) (1.11.2)\n",
            "Requirement already satisfied, skipping upgrade: keras-preprocessing>=1.1.0 in /usr/local/lib/python3.6/dist-packages (from tensorflow>=2.0.0-beta1->keras-tuner) (1.1.0)\n",
            "Requirement already satisfied, skipping upgrade: grpcio>=1.8.6 in /usr/local/lib/python3.6/dist-packages (from tensorflow>=2.0.0-beta1->keras-tuner) (1.15.0)\n",
            "Requirement already satisfied, skipping upgrade: six>=1.12.0 in /usr/local/lib/python3.6/dist-packages (from tensorflow>=2.0.0-beta1->keras-tuner) (1.12.0)\n",
            "Requirement already satisfied, skipping upgrade: keras-applications>=1.0.8 in /usr/local/lib/python3.6/dist-packages (from tensorflow>=2.0.0-beta1->keras-tuner) (1.0.8)\n",
            "Requirement already satisfied, skipping upgrade: wheel>=0.26; python_version >= \"3\" in /usr/local/lib/python3.6/dist-packages (from tensorflow>=2.0.0-beta1->keras-tuner) (0.33.6)\n",
            "Requirement already satisfied, skipping upgrade: gast==0.2.2 in /usr/local/lib/python3.6/dist-packages (from tensorflow>=2.0.0-beta1->keras-tuner) (0.2.2)\n",
            "Collecting tensorboard<2.2.0,>=2.1.0\n",
            "\u001b[?25l  Downloading https://files.pythonhosted.org/packages/40/23/53ffe290341cd0855d595b0a2e7485932f473798af173bbe3a584b99bb06/tensorboard-2.1.0-py3-none-any.whl (3.8MB)\n",
            "\u001b[K     |████████████████████████████████| 3.8MB 53.5MB/s \n",
            "\u001b[?25hRequirement already satisfied, skipping upgrade: termcolor>=1.1.0 in /usr/local/lib/python3.6/dist-packages (from tensorflow>=2.0.0-beta1->keras-tuner) (1.1.0)\n",
            "Requirement already satisfied, skipping upgrade: certifi>=2017.4.17 in /usr/local/lib/python3.6/dist-packages (from requests->keras-tuner) (2019.11.28)\n",
            "Requirement already satisfied, skipping upgrade: idna<2.9,>=2.5 in /usr/local/lib/python3.6/dist-packages (from requests->keras-tuner) (2.8)\n",
            "Requirement already satisfied, skipping upgrade: chardet<3.1.0,>=3.0.2 in /usr/local/lib/python3.6/dist-packages (from requests->keras-tuner) (3.0.4)\n",
            "Requirement already satisfied, skipping upgrade: urllib3<1.25,>=1.21.1 in /usr/local/lib/python3.6/dist-packages (from requests->keras-tuner) (1.24.3)\n",
            "Requirement already satisfied, skipping upgrade: joblib>=0.11 in /usr/local/lib/python3.6/dist-packages (from scikit-learn->keras-tuner) (0.14.1)\n",
            "Requirement already satisfied, skipping upgrade: setuptools in /usr/local/lib/python3.6/dist-packages (from protobuf>=3.8.0->tensorflow>=2.0.0-beta1->keras-tuner) (42.0.2)\n",
            "Requirement already satisfied, skipping upgrade: h5py in /usr/local/lib/python3.6/dist-packages (from keras-applications>=1.0.8->tensorflow>=2.0.0-beta1->keras-tuner) (2.8.0)\n",
            "Collecting google-auth<2,>=1.6.3\n",
            "\u001b[?25l  Downloading https://files.pythonhosted.org/packages/36/f8/84b5771faec3eba9fe0c91c8c5896364a8ba08852c0dea5ad2025026dd95/google_auth-1.10.0-py2.py3-none-any.whl (76kB)\n",
            "\u001b[K     |████████████████████████████████| 81kB 9.8MB/s \n",
            "\u001b[?25hRequirement already satisfied, skipping upgrade: markdown>=2.6.8 in /usr/local/lib/python3.6/dist-packages (from tensorboard<2.2.0,>=2.1.0->tensorflow>=2.0.0-beta1->keras-tuner) (3.1.1)\n",
            "Requirement already satisfied, skipping upgrade: werkzeug>=0.11.15 in /usr/local/lib/python3.6/dist-packages (from tensorboard<2.2.0,>=2.1.0->tensorflow>=2.0.0-beta1->keras-tuner) (0.16.0)\n",
            "Requirement already satisfied, skipping upgrade: google-auth-oauthlib<0.5,>=0.4.1 in /usr/local/lib/python3.6/dist-packages (from tensorboard<2.2.0,>=2.1.0->tensorflow>=2.0.0-beta1->keras-tuner) (0.4.1)\n",
            "Requirement already satisfied, skipping upgrade: cachetools<5.0,>=2.0.0 in /usr/local/lib/python3.6/dist-packages (from google-auth<2,>=1.6.3->tensorboard<2.2.0,>=2.1.0->tensorflow>=2.0.0-beta1->keras-tuner) (4.0.0)\n",
            "Requirement already satisfied, skipping upgrade: rsa<4.1,>=3.1.4 in /usr/local/lib/python3.6/dist-packages (from google-auth<2,>=1.6.3->tensorboard<2.2.0,>=2.1.0->tensorflow>=2.0.0-beta1->keras-tuner) (4.0)\n",
            "Requirement already satisfied, skipping upgrade: pyasn1-modules>=0.2.1 in /usr/local/lib/python3.6/dist-packages (from google-auth<2,>=1.6.3->tensorboard<2.2.0,>=2.1.0->tensorflow>=2.0.0-beta1->keras-tuner) (0.2.7)\n",
            "Requirement already satisfied, skipping upgrade: requests-oauthlib>=0.7.0 in /usr/local/lib/python3.6/dist-packages (from google-auth-oauthlib<0.5,>=0.4.1->tensorboard<2.2.0,>=2.1.0->tensorflow>=2.0.0-beta1->keras-tuner) (1.3.0)\n",
            "Requirement already satisfied, skipping upgrade: pyasn1>=0.1.3 in /usr/local/lib/python3.6/dist-packages (from rsa<4.1,>=3.1.4->google-auth<2,>=1.6.3->tensorboard<2.2.0,>=2.1.0->tensorflow>=2.0.0-beta1->keras-tuner) (0.4.8)\n",
            "Requirement already satisfied, skipping upgrade: oauthlib>=3.0.0 in /usr/local/lib/python3.6/dist-packages (from requests-oauthlib>=0.7.0->google-auth-oauthlib<0.5,>=0.4.1->tensorboard<2.2.0,>=2.1.0->tensorflow>=2.0.0-beta1->keras-tuner) (3.1.0)\n",
            "Building wheels for collected packages: terminaltables\n",
            "  Building wheel for terminaltables (setup.py) ... \u001b[?25l\u001b[?25hdone\n",
            "  Created wheel for terminaltables: filename=terminaltables-3.1.0-cp36-none-any.whl size=15354 sha256=2270dc56b756053b7856bd11645c9a63cc8b7517cec52d03a177822678cc7b1d\n",
            "  Stored in directory: /root/.cache/pip/wheels/30/6b/50/6c75775b681fb36cdfac7f19799888ef9d8813aff9e379663e\n",
            "Successfully built terminaltables\n",
            "\u001b[31mERROR: tensorflow 2.1.0rc2 has requirement scipy==1.4.1; python_version >= \"3\", but you'll have scipy 1.3.3 which is incompatible.\u001b[0m\n",
            "\u001b[31mERROR: tensorboard 2.1.0 has requirement grpcio>=1.24.3, but you'll have grpcio 1.15.0 which is incompatible.\u001b[0m\n",
            "\u001b[31mERROR: google-colab 1.0.0 has requirement google-auth~=1.4.0, but you'll have google-auth 1.10.0 which is incompatible.\u001b[0m\n",
            "Installing collected packages: tensorflow-estimator, google-auth, tensorboard, tensorflow, terminaltables, colorama, keras-tuner\n",
            "  Found existing installation: tensorflow-estimator 1.15.1\n",
            "    Uninstalling tensorflow-estimator-1.15.1:\n",
            "      Successfully uninstalled tensorflow-estimator-1.15.1\n",
            "  Found existing installation: google-auth 1.4.2\n",
            "    Uninstalling google-auth-1.4.2:\n",
            "      Successfully uninstalled google-auth-1.4.2\n",
            "  Found existing installation: tensorboard 1.15.0\n",
            "    Uninstalling tensorboard-1.15.0:\n",
            "      Successfully uninstalled tensorboard-1.15.0\n",
            "  Found existing installation: tensorflow 1.15.0\n",
            "    Uninstalling tensorflow-1.15.0:\n",
            "      Successfully uninstalled tensorflow-1.15.0\n",
            "Successfully installed colorama-0.4.3 google-auth-1.10.0 keras-tuner-1.0.0 tensorboard-2.1.0 tensorflow-2.1.0rc2 tensorflow-estimator-2.1.0 terminaltables-3.1.0\n"
          ],
          "name": "stdout"
        },
        {
          "output_type": "display_data",
          "data": {
            "application/vnd.colab-display-data+json": {
              "pip_warning": {
                "packages": [
                  "google"
                ]
              }
            }
          },
          "metadata": {
            "tags": []
          }
        }
      ]
    },
    {
      "cell_type": "code",
      "metadata": {
        "id": "ck9uZtF_gzU7",
        "colab_type": "code",
        "colab": {}
      },
      "source": [
        "import pandas as pd\n",
        "import numpy as np\n",
        "import matplotlib.pyplot as plt\n",
        "import scipy"
      ],
      "execution_count": 0,
      "outputs": []
    },
    {
      "cell_type": "markdown",
      "metadata": {
        "id": "ln0sTf8q1IrI",
        "colab_type": "text"
      },
      "source": [
        "#Load data"
      ]
    },
    {
      "cell_type": "code",
      "metadata": {
        "id": "lyyNl4gxhEwD",
        "colab_type": "code",
        "outputId": "4b8a8de1-e1e3-40db-c18f-e4805a11234f",
        "colab": {
          "base_uri": "https://localhost:8080/",
          "height": 124
        }
      },
      "source": [
        "#load data from Drive\n",
        "from google.colab import drive\n",
        "drive.mount('/gdrive')\n",
        "#%cd /gdrive"
      ],
      "execution_count": 3,
      "outputs": [
        {
          "output_type": "stream",
          "text": [
            "Go to this URL in a browser: https://accounts.google.com/o/oauth2/auth?client_id=947318989803-6bn6qk8qdgf4n4g3pfee6491hc0brc4i.apps.googleusercontent.com&redirect_uri=urn%3aietf%3awg%3aoauth%3a2.0%3aoob&response_type=code&scope=email%20https%3a%2f%2fwww.googleapis.com%2fauth%2fdocs.test%20https%3a%2f%2fwww.googleapis.com%2fauth%2fdrive%20https%3a%2f%2fwww.googleapis.com%2fauth%2fdrive.photos.readonly%20https%3a%2f%2fwww.googleapis.com%2fauth%2fpeopleapi.readonly\n",
            "\n",
            "Enter your authorization code:\n",
            "··········\n",
            "Mounted at /gdrive\n"
          ],
          "name": "stdout"
        }
      ]
    },
    {
      "cell_type": "code",
      "metadata": {
        "id": "UCkUXesZhMzg",
        "colab_type": "code",
        "colab": {}
      },
      "source": [
        "train_dataset_path = '/gdrive/My Drive/AIM_PA/database_training2.csv'\n",
        "test_dataset_path = '/gdrive/My Drive/AIM_PA/database_nostro_without_nan.csv'"
      ],
      "execution_count": 0,
      "outputs": []
    },
    {
      "cell_type": "code",
      "metadata": {
        "id": "TczPxOpEhTXw",
        "colab_type": "code",
        "colab": {}
      },
      "source": [
        "df_train = pd.read_csv(train_dataset_path)\n",
        "df_test = pd.read_csv(test_dataset_path)"
      ],
      "execution_count": 0,
      "outputs": []
    },
    {
      "cell_type": "code",
      "metadata": {
        "id": "Ll-87QSVhqhj",
        "colab_type": "code",
        "colab": {}
      },
      "source": [
        "df_train.rename(columns={'Survival.time (months)':'Surv_time_months'}, inplace=True)"
      ],
      "execution_count": 0,
      "outputs": []
    },
    {
      "cell_type": "code",
      "metadata": {
        "id": "ulSbeCedhuxJ",
        "colab_type": "code",
        "colab": {}
      },
      "source": [
        "df_test.rename(columns={'Survival.time (months)':'Surv_time_months'}, inplace=True)"
      ],
      "execution_count": 0,
      "outputs": []
    },
    {
      "cell_type": "code",
      "metadata": {
        "id": "xbcwLGg3iNSn",
        "colab_type": "code",
        "colab": {}
      },
      "source": [
        "df_train.rename(columns={'Overall.Stage':'Overall_Stage'}, inplace=True)\n",
        "df_test.rename(columns={'Overall.Stage':'Overall_Stage'}, inplace=True)"
      ],
      "execution_count": 0,
      "outputs": []
    },
    {
      "cell_type": "code",
      "metadata": {
        "id": "oKKv4iKghWWn",
        "colab_type": "code",
        "colab": {}
      },
      "source": [
        "train_data = df_train.drop(['Histology', 'Surv_time_months', 'OS', 'deadstatus.event','Overall_Stage'], axis=1)"
      ],
      "execution_count": 0,
      "outputs": []
    },
    {
      "cell_type": "code",
      "metadata": {
        "id": "vQdR4izXiT0f",
        "colab_type": "code",
        "colab": {}
      },
      "source": [
        "test_data = df_test.drop(['Histology', 'Surv_time_months', 'OS', 'deadstatus.event','Overall_Stage'], axis=1)"
      ],
      "execution_count": 0,
      "outputs": []
    },
    {
      "cell_type": "code",
      "metadata": {
        "id": "Lu46pqnPhnCG",
        "colab_type": "code",
        "colab": {}
      },
      "source": [
        "train_labels = df_train.Histology"
      ],
      "execution_count": 0,
      "outputs": []
    },
    {
      "cell_type": "code",
      "metadata": {
        "id": "aS5wIylYmsQf",
        "colab_type": "code",
        "colab": {}
      },
      "source": [
        "test_labels = df_test.Histology"
      ],
      "execution_count": 0,
      "outputs": []
    },
    {
      "cell_type": "markdown",
      "metadata": {
        "id": "dtPx7PMDnXM3",
        "colab_type": "text"
      },
      "source": [
        "##Z score dei dati"
      ]
    },
    {
      "cell_type": "code",
      "metadata": {
        "id": "XK4Qji2EnVV4",
        "colab_type": "code",
        "colab": {}
      },
      "source": [
        "mean = train_data.mean(axis=0)\n",
        "train_data_stand = train_data - mean\n",
        "std = train_data.std(axis=0)\n",
        "train_data_stand /= std"
      ],
      "execution_count": 0,
      "outputs": []
    },
    {
      "cell_type": "code",
      "metadata": {
        "id": "YOVOoNOvm0Yx",
        "colab_type": "code",
        "colab": {}
      },
      "source": [
        "test_data_stand = test_data - mean\n",
        "test_data_stand /= std"
      ],
      "execution_count": 0,
      "outputs": []
    },
    {
      "cell_type": "markdown",
      "metadata": {
        "id": "00VohsAyokpq",
        "colab_type": "text"
      },
      "source": [
        "##Vettorizzare i label"
      ]
    },
    {
      "cell_type": "code",
      "metadata": {
        "id": "8RvS_9ISpxRi",
        "colab_type": "code",
        "colab": {}
      },
      "source": [
        "word_index={'adenocarcinoma':0, 'large cell':1, 'squamous cell carcinoma':2}"
      ],
      "execution_count": 0,
      "outputs": []
    },
    {
      "cell_type": "code",
      "metadata": {
        "id": "uiPW9U0XrWY2",
        "colab_type": "code",
        "colab": {}
      },
      "source": [
        "train_labels_dec = [word_index[label] for label in train_labels]"
      ],
      "execution_count": 0,
      "outputs": []
    },
    {
      "cell_type": "code",
      "metadata": {
        "id": "C4SBiKFQsKFw",
        "colab_type": "code",
        "colab": {}
      },
      "source": [
        "test_labels_dec = [word_index[label] for label in test_labels]"
      ],
      "execution_count": 0,
      "outputs": []
    },
    {
      "cell_type": "code",
      "metadata": {
        "id": "0IMbTYR7okJq",
        "colab_type": "code",
        "outputId": "b30b82df-e1fd-49ff-9edb-177ebb5a8828",
        "colab": {
          "base_uri": "https://localhost:8080/",
          "height": 34
        }
      },
      "source": [
        "from keras.utils.np_utils import to_categorical"
      ],
      "execution_count": 18,
      "outputs": [
        {
          "output_type": "stream",
          "text": [
            "Using TensorFlow backend.\n"
          ],
          "name": "stderr"
        }
      ]
    },
    {
      "cell_type": "code",
      "metadata": {
        "id": "0Frv4FDNn6Qu",
        "colab_type": "code",
        "colab": {}
      },
      "source": [
        "one_hot_train_labels = to_categorical(train_labels_dec)\n",
        "one_hot_test_labels = to_categorical(test_labels_dec)"
      ],
      "execution_count": 0,
      "outputs": []
    },
    {
      "cell_type": "markdown",
      "metadata": {
        "id": "Mn0tkOGc3LKN",
        "colab_type": "text"
      },
      "source": [
        "#PCA"
      ]
    },
    {
      "cell_type": "code",
      "metadata": {
        "id": "oS76u6iu3Seg",
        "colab_type": "code",
        "colab": {}
      },
      "source": [
        "from sklearn.decomposition import PCA"
      ],
      "execution_count": 0,
      "outputs": []
    },
    {
      "cell_type": "code",
      "metadata": {
        "id": "KCjC4zqJ3bui",
        "colab_type": "code",
        "colab": {}
      },
      "source": [
        "pca = PCA(n_components=0.9, svd_solver='full')"
      ],
      "execution_count": 0,
      "outputs": []
    },
    {
      "cell_type": "code",
      "metadata": {
        "id": "dLUCf9qX4p_e",
        "colab_type": "code",
        "outputId": "794f71bf-c5f6-4020-c135-0da04c444fcc",
        "colab": {
          "base_uri": "https://localhost:8080/",
          "height": 0
        }
      },
      "source": [
        "pca.fit(train_data_stand)"
      ],
      "execution_count": 22,
      "outputs": [
        {
          "output_type": "execute_result",
          "data": {
            "text/plain": [
              "PCA(copy=True, iterated_power='auto', n_components=0.9, random_state=None,\n",
              "    svd_solver='full', tol=0.0, whiten=False)"
            ]
          },
          "metadata": {
            "tags": []
          },
          "execution_count": 22
        }
      ]
    },
    {
      "cell_type": "code",
      "metadata": {
        "id": "QfyaKgNZ44o3",
        "colab_type": "code",
        "colab": {}
      },
      "source": [
        "train_data_stand_pca = pca.transform(train_data_stand)\n",
        "test_data_stand_pca = pca.transform(test_data_stand)"
      ],
      "execution_count": 0,
      "outputs": []
    },
    {
      "cell_type": "code",
      "metadata": {
        "id": "Uz9C4nl05b_g",
        "colab_type": "code",
        "outputId": "81003d9d-4fa3-4d9d-dc45-c82bc225dae7",
        "colab": {
          "base_uri": "https://localhost:8080/",
          "height": 0
        }
      },
      "source": [
        "train_data_stand_pca.shape"
      ],
      "execution_count": 24,
      "outputs": [
        {
          "output_type": "execute_result",
          "data": {
            "text/plain": [
              "(131, 9)"
            ]
          },
          "metadata": {
            "tags": []
          },
          "execution_count": 24
        }
      ]
    },
    {
      "cell_type": "markdown",
      "metadata": {
        "id": "8wSKvSu4s5ip",
        "colab_type": "text"
      },
      "source": [
        "#Building Network"
      ]
    },
    {
      "cell_type": "code",
      "metadata": {
        "id": "Osgm8ZvLpZh5",
        "colab_type": "code",
        "colab": {}
      },
      "source": [
        "from tensorflow import keras"
      ],
      "execution_count": 0,
      "outputs": []
    },
    {
      "cell_type": "code",
      "metadata": {
        "id": "sJTbHiq0D-4x",
        "colab_type": "code",
        "colab": {}
      },
      "source": [
        "from tensorflow.keras import layers\n",
        "from tensorflow.keras.preprocessing import sequence"
      ],
      "execution_count": 0,
      "outputs": []
    },
    {
      "cell_type": "code",
      "metadata": {
        "id": "ShwM6YMqsxxJ",
        "colab_type": "code",
        "colab": {}
      },
      "source": [
        "from tensorflow.keras import layers"
      ],
      "execution_count": 0,
      "outputs": []
    },
    {
      "cell_type": "code",
      "metadata": {
        "id": "IAzbu7P1VylY",
        "colab_type": "code",
        "colab": {}
      },
      "source": [
        "from tensorflow.keras import regularizers"
      ],
      "execution_count": 0,
      "outputs": []
    },
    {
      "cell_type": "code",
      "metadata": {
        "id": "dyqbUCK5wOVt",
        "colab_type": "code",
        "colab": {}
      },
      "source": [
        "from tensorflow.keras.optimizers import SGD"
      ],
      "execution_count": 0,
      "outputs": []
    },
    {
      "cell_type": "code",
      "metadata": {
        "id": "KutkQ9Noj5mb",
        "colab_type": "code",
        "colab": {}
      },
      "source": [
        "from kerastuner.tuners import RandomSearch"
      ],
      "execution_count": 0,
      "outputs": []
    },
    {
      "cell_type": "code",
      "metadata": {
        "id": "7OAEgN31tHVV",
        "colab_type": "code",
        "colab": {}
      },
      "source": [
        "def build_model(hp):\n",
        "  model = keras.models.Sequential()\n",
        "\n",
        "#  model.add(layers.Dense(units=(hp.Int('units', min_value=3, max_value=8, step=1)), \n",
        "#                         activation='relu', input_shape=(9,)))\n",
        "\n",
        "  model.add(layers.Dense(6, activation='relu', input_shape=(9,)))\n",
        "  model.add(layers.Dense(3, activation='softmax'))\n",
        "#  sgd = SGD(lr=0.001, decay=1e-6, momentum=0.5, nesterov=True)\n",
        "  lr = hp.Choice('learning_rate', [1e-2, 1e-3, 1e-4])\n",
        "  momentum = hp.Choice('momentum', [0.0, 0.1, 0.2, 0.3, 0.4, 0.5, 0.6, 0.7, 0.8, 0.9])\n",
        "  model.compile(optimizer=SGD(learning_rate=lr, momentum=momentum), \n",
        "                loss='categorical_crossentropy', metrics=['accuracy'])\n",
        "  return model"
      ],
      "execution_count": 0,
      "outputs": []
    },
    {
      "cell_type": "markdown",
      "metadata": {
        "id": "mIxDu50pBeiz",
        "colab_type": "text"
      },
      "source": [
        "#Stratified k-fold"
      ]
    },
    {
      "cell_type": "markdown",
      "metadata": {
        "id": "ZyLcvedUBpxA",
        "colab_type": "text"
      },
      "source": [
        "This cross-validation object is a variation of KFold that returns stratified folds. The folds are made by preserving the percentage of samples for each class."
      ]
    },
    {
      "cell_type": "code",
      "metadata": {
        "id": "fY1apcZ19gFp",
        "colab_type": "code",
        "colab": {}
      },
      "source": [
        "from sklearn.model_selection import StratifiedKFold"
      ],
      "execution_count": 0,
      "outputs": []
    },
    {
      "cell_type": "code",
      "metadata": {
        "id": "oaBDM-PtBx5V",
        "colab_type": "code",
        "outputId": "0aa9c5a6-7764-495e-9118-6ace96dfe0a4",
        "colab": {
          "base_uri": "https://localhost:8080/",
          "height": 34
        }
      },
      "source": [
        "skf = StratifiedKFold(n_splits=10, shuffle=True, random_state=1)\n",
        "skf.get_n_splits(train_data_stand_pca, train_labels_dec)"
      ],
      "execution_count": 33,
      "outputs": [
        {
          "output_type": "execute_result",
          "data": {
            "text/plain": [
              "10"
            ]
          },
          "metadata": {
            "tags": []
          },
          "execution_count": 33
        }
      ]
    },
    {
      "cell_type": "code",
      "metadata": {
        "id": "Me-XQzPyD1gi",
        "colab_type": "code",
        "outputId": "5d189364-c961-4372-c95e-9db26ce8a7e2",
        "colab": {
          "base_uri": "https://localhost:8080/",
          "height": 1000
        }
      },
      "source": [
        "for train_index, test_index in skf.split(train_data_stand_pca, train_labels_dec):\n",
        "    print(\"TRAIN:\", train_index, \"TEST:\", test_index)"
      ],
      "execution_count": 34,
      "outputs": [
        {
          "output_type": "stream",
          "text": [
            "TRAIN: [  0   1   2   4   5   6   7   8   9  10  11  12  14  15  16  17  18  19\n",
            "  20  22  23  24  25  27  28  29  30  31  32  33  34  36  37  38  39  40\n",
            "  41  42  43  44  45  46  47  48  49  51  52  53  55  56  57  58  59  60\n",
            "  61  62  63  64  65  66  67  69  70  71  72  74  75  76  77  78  79  80\n",
            "  81  83  84  85  86  87  88  89  90  92  93  94  95  96  97  98  99 100\n",
            " 101 102 103 104 105 107 108 109 110 111 113 114 115 116 117 119 120 121\n",
            " 122 123 124 125 126 127 128 129] TEST: [  3  13  21  26  35  50  54  68  73  82  91 106 112 118 130]\n",
            "TRAIN: [  0   1   3   4   5   6   8   9  10  11  12  13  14  15  16  17  19  20\n",
            "  21  22  23  24  25  26  27  28  29  30  31  32  33  34  35  36  37  38\n",
            "  39  40  41  42  44  45  46  48  49  50  51  52  53  54  55  56  57  58\n",
            "  59  60  62  63  64  65  66  67  68  69  71  72  73  75  76  77  78  79\n",
            "  80  81  82  83  84  85  86  87  88  89  90  91  92  94  95  96  97  98\n",
            " 100 101 102 103 104 105 106 107 109 110 111 112 113 115 116 117 118 120\n",
            " 121 122 124 125 126 127 128 129 130] TEST: [  2   7  18  43  47  61  70  74  93  99 108 114 119 123]\n",
            "TRAIN: [  0   1   2   3   4   5   7   8   9  11  12  13  14  15  16  17  18  19\n",
            "  20  21  22  23  24  25  26  27  28  29  30  32  33  34  35  36  37  38\n",
            "  39  40  41  42  43  44  45  46  47  48  50  51  52  53  54  56  57  58\n",
            "  59  60  61  62  63  65  66  67  68  69  70  72  73  74  76  77  78  79\n",
            "  80  81  82  83  84  85  87  88  89  90  91  92  93  96  97  98  99 100\n",
            " 101 102 103 104 105 106 107 108 109 110 111 112 113 114 115 117 118 119\n",
            " 120 121 122 123 124 125 127 128 130] TEST: [  6  10  31  49  55  64  71  75  86  94  95 116 126 129]\n",
            "TRAIN: [  0   2   3   5   6   7   8   9  10  11  12  13  14  15  16  17  18  19\n",
            "  20  21  22  23  24  25  26  27  29  30  31  33  34  35  36  37  38  39\n",
            "  40  41  43  44  45  46  47  48  49  50  51  52  53  54  55  56  57  58\n",
            "  59  60  61  62  63  64  65  66  68  70  71  73  74  75  76  77  78  79\n",
            "  80  82  83  84  85  86  87  88  89  90  91  92  93  94  95  96  97  98\n",
            "  99 100 101 102 105 106 107 108 109 111 112 113 114 115 116 117 118 119\n",
            " 120 122 123 124 125 126 127 129 130] TEST: [  1   4  28  32  42  67  69  72  81 103 104 110 121 128]\n",
            "TRAIN: [  1   2   3   4   5   6   7   8   9  10  11  12  13  15  16  17  18  20\n",
            "  21  23  24  25  26  27  28  29  30  31  32  33  34  35  36  38  39  40\n",
            "  42  43  44  45  46  47  48  49  50  51  53  54  55  57  58  59  60  61\n",
            "  62  63  64  65  66  67  68  69  70  71  72  73  74  75  76  77  78  80\n",
            "  81  82  83  84  85  86  87  90  91  92  93  94  95  96  97  98  99 100\n",
            " 101 102 103 104 105 106 108 109 110 111 112 113 114 115 116 117 118 119\n",
            " 121 122 123 124 125 126 127 128 129 130] TEST: [  0  14  19  22  37  41  52  56  79  88  89 107 120]\n",
            "TRAIN: [  0   1   2   3   4   5   6   7   8  10  11  12  13  14  16  17  18  19\n",
            "  20  21  22  23  25  26  27  28  29  30  31  32  34  35  36  37  38  39\n",
            "  41  42  43  44  45  46  47  48  49  50  52  53  54  55  56  57  58  60\n",
            "  61  63  64  65  66  67  68  69  70  71  72  73  74  75  76  77  78  79\n",
            "  80  81  82  84  85  86  87  88  89  90  91  92  93  94  95  96  99 100\n",
            " 101 102 103 104 105 106 107 108 109 110 111 112 114 115 116 118 119 120\n",
            " 121 122 123 124 125 126 127 128 129 130] TEST: [  9  15  24  33  40  51  59  62  83  97  98 113 117]\n",
            "TRAIN: [  0   1   2   3   4   5   6   7   9  10  11  12  13  14  15  18  19  20\n",
            "  21  22  24  26  27  28  29  30  31  32  33  34  35  36  37  38  39  40\n",
            "  41  42  43  44  45  46  47  48  49  50  51  52  53  54  55  56  57  58\n",
            "  59  61  62  64  65  66  67  68  69  70  71  72  73  74  75  76  79  81\n",
            "  82  83  84  85  86  87  88  89  91  92  93  94  95  96  97  98  99 100\n",
            " 101 102 103 104 105 106 107 108 109 110 111 112 113 114 115 116 117 118\n",
            " 119 120 121 123 124 125 126 127 128 129 130] TEST: [  8  16  17  23  25  60  63  77  78  80  90 122]\n",
            "TRAIN: [  0   1   2   3   4   5   6   7   8   9  10  11  13  14  15  16  17  18\n",
            "  19  20  21  22  23  24  25  26  27  28  30  31  32  33  34  35  36  37\n",
            "  39  40  41  42  43  44  45  47  49  50  51  52  53  54  55  56  58  59\n",
            "  60  61  62  63  64  66  67  68  69  70  71  72  73  74  75  76  77  78\n",
            "  79  80  81  82  83  85  86  87  88  89  90  91  92  93  94  95  96  97\n",
            "  98  99 100 102 103 104 106 107 108 109 110 111 112 113 114 115 116 117\n",
            " 118 119 120 121 122 123 124 126 128 129 130] TEST: [ 12  29  38  46  48  57  65  84 101 105 125 127]\n",
            "TRAIN: [  0   1   2   3   4   5   6   7   8   9  10  12  13  14  15  16  17  18\n",
            "  19  21  22  23  24  25  26  27  28  29  31  32  33  34  35  36  37  38\n",
            "  40  41  42  43  46  47  48  49  50  51  52  53  54  55  56  57  58  59\n",
            "  60  61  62  63  64  65  67  68  69  70  71  72  73  74  75  76  77  78\n",
            "  79  80  81  82  83  84  85  86  88  89  90  91  93  94  95  96  97  98\n",
            "  99 101 103 104 105 106 107 108 109 110 111 112 113 114 115 116 117 118\n",
            " 119 120 121 122 123 125 126 127 128 129 130] TEST: [ 11  20  30  39  44  45  66  87  92 100 102 124]\n",
            "TRAIN: [  0   1   2   3   4   6   7   8   9  10  11  12  13  14  15  16  17  18\n",
            "  19  20  21  22  23  24  25  26  28  29  30  31  32  33  35  37  38  39\n",
            "  40  41  42  43  44  45  46  47  48  49  50  51  52  54  55  56  57  59\n",
            "  60  61  62  63  64  65  66  67  68  69  70  71  72  73  74  75  77  78\n",
            "  79  80  81  82  83  84  86  87  88  89  90  91  92  93  94  95  97  98\n",
            "  99 100 101 102 103 104 105 106 107 108 110 112 113 114 116 117 118 119\n",
            " 120 121 122 123 124 125 126 127 128 129 130] TEST: [  5  27  34  36  53  58  76  85  96 109 111 115]\n"
          ],
          "name": "stdout"
        }
      ]
    },
    {
      "cell_type": "code",
      "metadata": {
        "id": "BgdGK-8FK-U_",
        "colab_type": "code",
        "outputId": "8ce1f869-c376-483d-e5e2-3cf83a36c6db",
        "colab": {
          "base_uri": "https://localhost:8080/",
          "height": 34
        }
      },
      "source": [
        "train_labels_dec[125]"
      ],
      "execution_count": 35,
      "outputs": [
        {
          "output_type": "execute_result",
          "data": {
            "text/plain": [
              "2"
            ]
          },
          "metadata": {
            "tags": []
          },
          "execution_count": 35
        }
      ]
    },
    {
      "cell_type": "code",
      "metadata": {
        "id": "sBJg0XD4Shhc",
        "colab_type": "code",
        "colab": {}
      },
      "source": [
        "from keras.utils import to_categorical\n"
      ],
      "execution_count": 0,
      "outputs": []
    },
    {
      "cell_type": "code",
      "metadata": {
        "id": "a5Sq8r9GEPx3",
        "colab_type": "code",
        "colab": {}
      },
      "source": [
        "#for train_index, val_index in skf.split(train_data_stand_pca, train_labels_dec):\n",
        " \n",
        "#  partial_train_data = np.array([train_data_stand_pca[i] for i in train_index])\n",
        "#  partial_train_targets = np.array([train_labels_dec[i] for i in train_index])\n",
        "\n",
        "#  val_data = np.array([train_data_stand_pca[i] for i in val_index])\n",
        "#  val_targets = np.array([train_labels_dec[i] for i in val_index])\n",
        "\n",
        "#  one_hot_partial_train_targets = to_categorical(partial_train_targets)\n",
        "#  one_hot_val_targets = to_categorical(val_targets)\n",
        "\n",
        "#  model = build_model()\n",
        "#  model.fit(partial_train_data, one_hot_partial_train_targets, epochs = num_epochs, batch_size=1)\n",
        "\n",
        "#  val_loss, val_accuracy = model.evaluate(val_data, one_hot_val_targets)\n",
        "#  all_scores.append(val_accuracy)\n",
        "#I parametri per la valutazione vengono calcolati una volta per ogni k-fold, per ogni set di validazione, quindi k volte"
      ],
      "execution_count": 0,
      "outputs": []
    },
    {
      "cell_type": "markdown",
      "metadata": {
        "id": "2X5B3lasRcsR",
        "colab_type": "text"
      },
      "source": [
        "C'è un problema: keras.utils.to_categorical produces a one-hot encoded class vector, i.e. the multilabel-indicator mentioned in the error message. StratifiedKFold is not designed to work with such input; i.e. your y must be a 1-D array of your class labels.\n",
        "Essentially, what you have to do is simply to invert the order of the operations: split first (using your intial y_train), and convert to_categorical afterwards."
      ]
    },
    {
      "cell_type": "markdown",
      "metadata": {
        "id": "5yP9-PE1Wjz-",
        "colab_type": "text"
      },
      "source": [
        "#Keras tuner RandomSearch"
      ]
    },
    {
      "cell_type": "code",
      "metadata": {
        "id": "8K8a1I3yU9FS",
        "colab_type": "code",
        "outputId": "702a005d-1b8e-494e-ce1c-a30c0b7f2176",
        "colab": {
          "base_uri": "https://localhost:8080/",
          "height": 1000
        }
      },
      "source": [
        "num_epochs = 50\n",
        "#all_acc_histories = []\n",
        "#all_loss_histories = []\n",
        "#all_val_acc_histories = []\n",
        "#all_val_loss_histories = []\n",
        "\n",
        "for train_index, val_index in skf.split(train_data_stand_pca, train_labels_dec):\n",
        " \n",
        "  partial_train_data = np.array([train_data_stand_pca[i] for i in train_index])\n",
        "  partial_train_targets = np.array([train_labels_dec[i] for i in train_index])\n",
        "  \n",
        "  val_data = np.array([train_data_stand_pca[i] for i in val_index])\n",
        "  val_targets = np.array([train_labels_dec[i] for i in val_index])\n",
        "\n",
        "  one_hot_partial_train_targets = to_categorical(partial_train_targets)\n",
        "  one_hot_val_targets = to_categorical(val_targets)\n",
        "\n",
        " \n",
        "  tuner = RandomSearch(build_model, objective='val_accuracy', max_trials=10, \n",
        "                       executions_per_trial=3, directory='/content/my_dir', project_name='helloworld')\n",
        "  \n",
        "  tuner.search_space_summary()\n",
        "\n",
        "  tuner.search(partial_train_data, one_hot_partial_train_targets, validation_data=(val_data, one_hot_val_targets), \n",
        "                      epochs=num_epochs, batch_size=10)\n",
        "  \n",
        "\n",
        "#  acc_history = history.history['acc']\n",
        "#  all_acc_histories.append(acc_history)\n",
        "\n",
        "#  loss_history = history.history['loss']\n",
        "#  all_loss_histories.append(loss_history)\n",
        "\n",
        "#  acc_val_history = history.history['val_acc']\n",
        "#  all_val_acc_histories.append(acc_val_history)\n",
        "\n",
        "#  loss_val_history = history.history['val_loss']\n",
        "#  all_val_loss_histories.append(loss_val_history)\n",
        "  \n",
        "\n",
        "#I parametri per la valutazione vengono calcolati per ogni epoca, quindi num_epochs volte. \n",
        "#Il tutto viene ripetuto un numero di volte pari a n_splits.\n",
        "#Si ottiene una lista con n_splits elementi ciascuno dei quali è una lista lunga num_epochs,\n",
        "#ogni elemento può essere uno fra questi: dict_keys(['val_loss', 'val_acc', 'loss', 'acc']) "
      ],
      "execution_count": 38,
      "outputs": [
        {
          "output_type": "display_data",
          "data": {
            "text/html": [
              "<span style=\"color:#4527A0\"><h1 style=\"font-size:18px\">Search space summary</h1></span>"
            ],
            "text/plain": [
              "<IPython.core.display.HTML object>"
            ]
          },
          "metadata": {
            "tags": []
          }
        },
        {
          "output_type": "display_data",
          "data": {
            "text/html": [
              "<span style=\"color:cyan\"> |-Default search space size: 2</span>"
            ],
            "text/plain": [
              "<IPython.core.display.HTML object>"
            ]
          },
          "metadata": {
            "tags": []
          }
        },
        {
          "output_type": "display_data",
          "data": {
            "text/html": [
              "<span style=\"color:#7E57C2\"><h2 style=\"font-size:16px\">learning_rate (Choice)</h2></span>"
            ],
            "text/plain": [
              "<IPython.core.display.HTML object>"
            ]
          },
          "metadata": {
            "tags": []
          }
        },
        {
          "output_type": "display_data",
          "data": {
            "text/html": [
              "<span style=\"color:cyan\"> |-default: 0.01</span>"
            ],
            "text/plain": [
              "<IPython.core.display.HTML object>"
            ]
          },
          "metadata": {
            "tags": []
          }
        },
        {
          "output_type": "display_data",
          "data": {
            "text/html": [
              "<span style=\"color:blue\"> |-ordered: True</span>"
            ],
            "text/plain": [
              "<IPython.core.display.HTML object>"
            ]
          },
          "metadata": {
            "tags": []
          }
        },
        {
          "output_type": "display_data",
          "data": {
            "text/html": [
              "<span style=\"color:cyan\"> |-values: [0.01, 0.001, 0.0001]</span>"
            ],
            "text/plain": [
              "<IPython.core.display.HTML object>"
            ]
          },
          "metadata": {
            "tags": []
          }
        },
        {
          "output_type": "display_data",
          "data": {
            "text/html": [
              "<span style=\"color:#7E57C2\"><h2 style=\"font-size:16px\">momentum (Choice)</h2></span>"
            ],
            "text/plain": [
              "<IPython.core.display.HTML object>"
            ]
          },
          "metadata": {
            "tags": []
          }
        },
        {
          "output_type": "display_data",
          "data": {
            "text/html": [
              "<span style=\"color:cyan\"> |-default: 0.0</span>"
            ],
            "text/plain": [
              "<IPython.core.display.HTML object>"
            ]
          },
          "metadata": {
            "tags": []
          }
        },
        {
          "output_type": "display_data",
          "data": {
            "text/html": [
              "<span style=\"color:blue\"> |-ordered: True</span>"
            ],
            "text/plain": [
              "<IPython.core.display.HTML object>"
            ]
          },
          "metadata": {
            "tags": []
          }
        },
        {
          "output_type": "display_data",
          "data": {
            "text/html": [
              "<span style=\"color:cyan\"> |-values: [0.0, 0.1, 0.2, 0.3, 0.4, 0.5, 0.6, 0.7, 0.8, 0.9]</span>"
            ],
            "text/plain": [
              "<IPython.core.display.HTML object>"
            ]
          },
          "metadata": {
            "tags": []
          }
        },
        {
          "output_type": "stream",
          "text": [
            "Train on 116 samples, validate on 15 samples\n",
            "Epoch 1/50\n",
            "116/116 [==============================] - 0s 3ms/sample - loss: 3.1082 - accuracy: 0.3362 - val_loss: 2.6273 - val_accuracy: 0.2667\n",
            "Epoch 2/50\n",
            "116/116 [==============================] - 0s 448us/sample - loss: 1.9073 - accuracy: 0.3534 - val_loss: 2.0746 - val_accuracy: 0.3333\n",
            "Epoch 3/50\n",
            "116/116 [==============================] - 0s 301us/sample - loss: 1.3860 - accuracy: 0.3362 - val_loss: 1.7900 - val_accuracy: 0.2000\n",
            "Epoch 4/50\n",
            "116/116 [==============================] - 0s 349us/sample - loss: 1.1637 - accuracy: 0.5000 - val_loss: 1.6338 - val_accuracy: 0.3333\n",
            "Epoch 5/50\n",
            "116/116 [==============================] - 0s 284us/sample - loss: 1.0665 - accuracy: 0.5431 - val_loss: 1.6176 - val_accuracy: 0.3333\n",
            "Epoch 6/50\n",
            "116/116 [==============================] - 0s 327us/sample - loss: 1.0330 - accuracy: 0.5517 - val_loss: 1.5898 - val_accuracy: 0.3333\n",
            "Epoch 7/50\n",
            "116/116 [==============================] - 0s 260us/sample - loss: 1.0048 - accuracy: 0.5517 - val_loss: 1.5896 - val_accuracy: 0.3333\n",
            "Epoch 8/50\n",
            "116/116 [==============================] - 0s 387us/sample - loss: 0.9686 - accuracy: 0.5862 - val_loss: 1.5457 - val_accuracy: 0.4000\n",
            "Epoch 9/50\n",
            "116/116 [==============================] - 0s 340us/sample - loss: 0.9554 - accuracy: 0.5948 - val_loss: 1.5402 - val_accuracy: 0.4000\n",
            "Epoch 10/50\n",
            "116/116 [==============================] - 0s 325us/sample - loss: 0.9360 - accuracy: 0.6121 - val_loss: 1.5416 - val_accuracy: 0.4000\n",
            "Epoch 11/50\n",
            "116/116 [==============================] - 0s 334us/sample - loss: 0.9231 - accuracy: 0.5862 - val_loss: 1.5602 - val_accuracy: 0.4667\n",
            "Epoch 12/50\n",
            "116/116 [==============================] - 0s 289us/sample - loss: 0.9058 - accuracy: 0.6121 - val_loss: 1.5518 - val_accuracy: 0.4000\n",
            "Epoch 13/50\n",
            "116/116 [==============================] - 0s 302us/sample - loss: 0.8971 - accuracy: 0.6207 - val_loss: 1.5353 - val_accuracy: 0.4000\n",
            "Epoch 14/50\n",
            "116/116 [==============================] - 0s 333us/sample - loss: 0.8851 - accuracy: 0.6293 - val_loss: 1.5583 - val_accuracy: 0.4000\n",
            "Epoch 15/50\n",
            "116/116 [==============================] - 0s 297us/sample - loss: 0.8695 - accuracy: 0.6466 - val_loss: 1.5594 - val_accuracy: 0.4000\n",
            "Epoch 16/50\n",
            "116/116 [==============================] - 0s 276us/sample - loss: 0.8654 - accuracy: 0.6638 - val_loss: 1.5271 - val_accuracy: 0.4000\n",
            "Epoch 17/50\n",
            "116/116 [==============================] - 0s 317us/sample - loss: 0.8622 - accuracy: 0.6552 - val_loss: 1.5627 - val_accuracy: 0.4000\n",
            "Epoch 18/50\n",
            "116/116 [==============================] - 0s 287us/sample - loss: 0.8538 - accuracy: 0.6466 - val_loss: 1.5910 - val_accuracy: 0.4000\n",
            "Epoch 19/50\n",
            "116/116 [==============================] - 0s 284us/sample - loss: 0.8462 - accuracy: 0.6810 - val_loss: 1.5687 - val_accuracy: 0.4000\n",
            "Epoch 20/50\n",
            "116/116 [==============================] - 0s 278us/sample - loss: 0.8487 - accuracy: 0.6552 - val_loss: 1.5574 - val_accuracy: 0.4000\n",
            "Epoch 21/50\n",
            "116/116 [==============================] - 0s 301us/sample - loss: 0.8423 - accuracy: 0.6466 - val_loss: 1.5065 - val_accuracy: 0.4667\n",
            "Epoch 22/50\n",
            "116/116 [==============================] - 0s 314us/sample - loss: 0.8348 - accuracy: 0.6724 - val_loss: 1.5830 - val_accuracy: 0.4000\n",
            "Epoch 23/50\n",
            "116/116 [==============================] - 0s 318us/sample - loss: 0.8288 - accuracy: 0.6897 - val_loss: 1.5571 - val_accuracy: 0.4000\n",
            "Epoch 24/50\n",
            "116/116 [==============================] - 0s 311us/sample - loss: 0.8237 - accuracy: 0.6810 - val_loss: 1.5382 - val_accuracy: 0.4000\n",
            "Epoch 25/50\n",
            "116/116 [==============================] - 0s 295us/sample - loss: 0.8185 - accuracy: 0.6810 - val_loss: 1.5618 - val_accuracy: 0.4000\n",
            "Epoch 26/50\n",
            "116/116 [==============================] - 0s 376us/sample - loss: 0.8156 - accuracy: 0.6810 - val_loss: 1.5451 - val_accuracy: 0.4000\n",
            "Epoch 27/50\n",
            "116/116 [==============================] - 0s 383us/sample - loss: 0.8172 - accuracy: 0.6810 - val_loss: 1.5491 - val_accuracy: 0.4000\n",
            "Epoch 28/50\n",
            "116/116 [==============================] - 0s 336us/sample - loss: 0.8093 - accuracy: 0.6810 - val_loss: 1.5998 - val_accuracy: 0.4000\n",
            "Epoch 29/50\n",
            "116/116 [==============================] - 0s 365us/sample - loss: 0.8076 - accuracy: 0.6983 - val_loss: 1.6355 - val_accuracy: 0.4000\n",
            "Epoch 30/50\n",
            "116/116 [==============================] - 0s 328us/sample - loss: 0.8015 - accuracy: 0.6897 - val_loss: 1.6311 - val_accuracy: 0.4000\n",
            "Epoch 31/50\n",
            "116/116 [==============================] - 0s 309us/sample - loss: 0.7975 - accuracy: 0.6638 - val_loss: 1.6258 - val_accuracy: 0.4000\n",
            "Epoch 32/50\n",
            "116/116 [==============================] - 0s 307us/sample - loss: 0.7921 - accuracy: 0.6810 - val_loss: 1.6483 - val_accuracy: 0.4000\n",
            "Epoch 33/50\n",
            "116/116 [==============================] - 0s 307us/sample - loss: 0.7917 - accuracy: 0.6810 - val_loss: 1.6808 - val_accuracy: 0.4667\n",
            "Epoch 34/50\n",
            "116/116 [==============================] - 0s 337us/sample - loss: 0.7889 - accuracy: 0.6983 - val_loss: 1.6358 - val_accuracy: 0.4000\n",
            "Epoch 35/50\n",
            "116/116 [==============================] - 0s 328us/sample - loss: 0.7844 - accuracy: 0.6983 - val_loss: 1.6820 - val_accuracy: 0.4667\n",
            "Epoch 36/50\n",
            "116/116 [==============================] - 0s 326us/sample - loss: 0.7819 - accuracy: 0.6897 - val_loss: 1.6304 - val_accuracy: 0.4000\n",
            "Epoch 37/50\n",
            "116/116 [==============================] - 0s 324us/sample - loss: 0.7803 - accuracy: 0.6983 - val_loss: 1.6712 - val_accuracy: 0.4667\n",
            "Epoch 38/50\n",
            "116/116 [==============================] - 0s 318us/sample - loss: 0.7787 - accuracy: 0.6983 - val_loss: 1.6698 - val_accuracy: 0.4667\n",
            "Epoch 39/50\n",
            "116/116 [==============================] - 0s 296us/sample - loss: 0.7757 - accuracy: 0.6983 - val_loss: 1.6870 - val_accuracy: 0.4667\n",
            "Epoch 40/50\n",
            "116/116 [==============================] - 0s 301us/sample - loss: 0.7770 - accuracy: 0.6897 - val_loss: 1.6745 - val_accuracy: 0.4667\n",
            "Epoch 41/50\n",
            "116/116 [==============================] - 0s 297us/sample - loss: 0.7732 - accuracy: 0.6897 - val_loss: 1.7136 - val_accuracy: 0.4667\n",
            "Epoch 42/50\n",
            "116/116 [==============================] - 0s 317us/sample - loss: 0.7706 - accuracy: 0.6983 - val_loss: 1.7073 - val_accuracy: 0.4667\n",
            "Epoch 43/50\n",
            "116/116 [==============================] - 0s 317us/sample - loss: 0.7678 - accuracy: 0.6983 - val_loss: 1.6983 - val_accuracy: 0.4667\n",
            "Epoch 44/50\n",
            "116/116 [==============================] - 0s 321us/sample - loss: 0.7633 - accuracy: 0.6983 - val_loss: 1.7904 - val_accuracy: 0.4667\n",
            "Epoch 45/50\n",
            "116/116 [==============================] - 0s 310us/sample - loss: 0.7640 - accuracy: 0.6983 - val_loss: 1.7512 - val_accuracy: 0.4667\n",
            "Epoch 46/50\n",
            "116/116 [==============================] - 0s 302us/sample - loss: 0.7596 - accuracy: 0.7069 - val_loss: 1.7450 - val_accuracy: 0.4667\n",
            "Epoch 47/50\n",
            "116/116 [==============================] - 0s 327us/sample - loss: 0.7568 - accuracy: 0.7155 - val_loss: 1.7657 - val_accuracy: 0.4667\n",
            "Epoch 48/50\n",
            "116/116 [==============================] - 0s 378us/sample - loss: 0.7575 - accuracy: 0.6983 - val_loss: 1.7799 - val_accuracy: 0.4667\n",
            "Epoch 49/50\n",
            "116/116 [==============================] - 0s 313us/sample - loss: 0.7535 - accuracy: 0.7069 - val_loss: 1.7495 - val_accuracy: 0.4667\n",
            "Epoch 50/50\n",
            "116/116 [==============================] - 0s 345us/sample - loss: 0.7511 - accuracy: 0.6983 - val_loss: 1.7888 - val_accuracy: 0.4667\n",
            "Train on 116 samples, validate on 15 samples\n",
            "Epoch 1/50\n",
            "116/116 [==============================] - 0s 3ms/sample - loss: 2.1915 - accuracy: 0.4655 - val_loss: 1.8212 - val_accuracy: 0.4667\n",
            "Epoch 2/50\n",
            "116/116 [==============================] - 0s 334us/sample - loss: 1.5116 - accuracy: 0.4914 - val_loss: 1.6419 - val_accuracy: 0.4000\n",
            "Epoch 3/50\n",
            "116/116 [==============================] - 0s 312us/sample - loss: 1.2994 - accuracy: 0.5086 - val_loss: 1.5529 - val_accuracy: 0.4000\n",
            "Epoch 4/50\n",
            "116/116 [==============================] - 0s 333us/sample - loss: 1.2274 - accuracy: 0.5172 - val_loss: 1.5017 - val_accuracy: 0.4000\n",
            "Epoch 5/50\n",
            "116/116 [==============================] - 0s 335us/sample - loss: 1.1640 - accuracy: 0.5345 - val_loss: 1.5141 - val_accuracy: 0.4000\n",
            "Epoch 6/50\n",
            "116/116 [==============================] - 0s 342us/sample - loss: 1.1164 - accuracy: 0.5259 - val_loss: 1.4743 - val_accuracy: 0.4667\n",
            "Epoch 7/50\n",
            "116/116 [==============================] - 0s 330us/sample - loss: 1.0830 - accuracy: 0.5172 - val_loss: 1.4446 - val_accuracy: 0.4667\n",
            "Epoch 8/50\n",
            "116/116 [==============================] - 0s 314us/sample - loss: 1.0488 - accuracy: 0.5517 - val_loss: 1.4635 - val_accuracy: 0.4667\n",
            "Epoch 9/50\n",
            "116/116 [==============================] - 0s 325us/sample - loss: 1.0237 - accuracy: 0.5948 - val_loss: 1.4268 - val_accuracy: 0.4667\n",
            "Epoch 10/50\n",
            "116/116 [==============================] - 0s 388us/sample - loss: 1.0067 - accuracy: 0.5776 - val_loss: 1.4445 - val_accuracy: 0.4667\n",
            "Epoch 11/50\n",
            "116/116 [==============================] - 0s 430us/sample - loss: 0.9864 - accuracy: 0.6121 - val_loss: 1.4167 - val_accuracy: 0.5333\n",
            "Epoch 12/50\n",
            "116/116 [==============================] - 0s 415us/sample - loss: 0.9647 - accuracy: 0.6121 - val_loss: 1.4181 - val_accuracy: 0.5333\n",
            "Epoch 13/50\n",
            "116/116 [==============================] - 0s 371us/sample - loss: 0.9611 - accuracy: 0.5776 - val_loss: 1.4113 - val_accuracy: 0.5333\n",
            "Epoch 14/50\n",
            "116/116 [==============================] - 0s 345us/sample - loss: 0.9453 - accuracy: 0.6121 - val_loss: 1.4033 - val_accuracy: 0.5333\n",
            "Epoch 15/50\n",
            "116/116 [==============================] - 0s 313us/sample - loss: 0.9397 - accuracy: 0.6121 - val_loss: 1.3966 - val_accuracy: 0.5333\n",
            "Epoch 16/50\n",
            "116/116 [==============================] - 0s 319us/sample - loss: 0.9294 - accuracy: 0.5862 - val_loss: 1.3861 - val_accuracy: 0.5333\n",
            "Epoch 17/50\n",
            "116/116 [==============================] - 0s 305us/sample - loss: 0.9250 - accuracy: 0.6466 - val_loss: 1.3925 - val_accuracy: 0.5333\n",
            "Epoch 18/50\n",
            "116/116 [==============================] - 0s 368us/sample - loss: 0.9145 - accuracy: 0.6207 - val_loss: 1.3756 - val_accuracy: 0.5333\n",
            "Epoch 19/50\n",
            "116/116 [==============================] - 0s 353us/sample - loss: 0.9081 - accuracy: 0.6121 - val_loss: 1.3669 - val_accuracy: 0.6000\n",
            "Epoch 20/50\n",
            "116/116 [==============================] - 0s 332us/sample - loss: 0.9005 - accuracy: 0.6207 - val_loss: 1.3532 - val_accuracy: 0.6000\n",
            "Epoch 21/50\n",
            "116/116 [==============================] - 0s 311us/sample - loss: 0.8945 - accuracy: 0.6121 - val_loss: 1.3547 - val_accuracy: 0.6000\n",
            "Epoch 22/50\n",
            "116/116 [==============================] - 0s 321us/sample - loss: 0.8916 - accuracy: 0.6466 - val_loss: 1.3341 - val_accuracy: 0.6000\n",
            "Epoch 23/50\n",
            "116/116 [==============================] - 0s 320us/sample - loss: 0.8863 - accuracy: 0.6379 - val_loss: 1.3345 - val_accuracy: 0.6000\n",
            "Epoch 24/50\n",
            "116/116 [==============================] - 0s 316us/sample - loss: 0.8818 - accuracy: 0.6466 - val_loss: 1.3103 - val_accuracy: 0.6000\n",
            "Epoch 25/50\n",
            "116/116 [==============================] - 0s 366us/sample - loss: 0.8797 - accuracy: 0.6379 - val_loss: 1.3121 - val_accuracy: 0.6000\n",
            "Epoch 26/50\n",
            "116/116 [==============================] - 0s 295us/sample - loss: 0.8693 - accuracy: 0.6466 - val_loss: 1.2968 - val_accuracy: 0.6000\n",
            "Epoch 27/50\n",
            "116/116 [==============================] - 0s 297us/sample - loss: 0.8698 - accuracy: 0.6379 - val_loss: 1.3019 - val_accuracy: 0.6000\n",
            "Epoch 28/50\n",
            "116/116 [==============================] - 0s 326us/sample - loss: 0.8635 - accuracy: 0.6466 - val_loss: 1.2918 - val_accuracy: 0.6000\n",
            "Epoch 29/50\n",
            "116/116 [==============================] - 0s 287us/sample - loss: 0.8610 - accuracy: 0.6379 - val_loss: 1.2906 - val_accuracy: 0.6000\n",
            "Epoch 30/50\n",
            "116/116 [==============================] - 0s 310us/sample - loss: 0.8561 - accuracy: 0.6379 - val_loss: 1.2838 - val_accuracy: 0.6000\n",
            "Epoch 31/50\n",
            "116/116 [==============================] - 0s 335us/sample - loss: 0.8538 - accuracy: 0.6552 - val_loss: 1.3051 - val_accuracy: 0.6000\n",
            "Epoch 32/50\n",
            "116/116 [==============================] - 0s 340us/sample - loss: 0.8486 - accuracy: 0.6724 - val_loss: 1.3086 - val_accuracy: 0.6000\n",
            "Epoch 33/50\n",
            "116/116 [==============================] - 0s 326us/sample - loss: 0.8456 - accuracy: 0.6466 - val_loss: 1.3322 - val_accuracy: 0.6000\n",
            "Epoch 34/50\n",
            "116/116 [==============================] - 0s 299us/sample - loss: 0.8404 - accuracy: 0.6379 - val_loss: 1.3150 - val_accuracy: 0.6000\n",
            "Epoch 35/50\n",
            "116/116 [==============================] - 0s 326us/sample - loss: 0.8392 - accuracy: 0.6552 - val_loss: 1.3090 - val_accuracy: 0.6000\n",
            "Epoch 36/50\n",
            "116/116 [==============================] - 0s 330us/sample - loss: 0.8361 - accuracy: 0.6466 - val_loss: 1.3083 - val_accuracy: 0.6000\n",
            "Epoch 37/50\n",
            "116/116 [==============================] - 0s 394us/sample - loss: 0.8338 - accuracy: 0.6638 - val_loss: 1.2897 - val_accuracy: 0.6000\n",
            "Epoch 38/50\n",
            "116/116 [==============================] - 0s 356us/sample - loss: 0.8306 - accuracy: 0.6638 - val_loss: 1.2743 - val_accuracy: 0.6000\n",
            "Epoch 39/50\n",
            "116/116 [==============================] - 0s 372us/sample - loss: 0.8281 - accuracy: 0.6724 - val_loss: 1.2897 - val_accuracy: 0.6000\n",
            "Epoch 40/50\n",
            "116/116 [==============================] - 0s 368us/sample - loss: 0.8278 - accuracy: 0.6724 - val_loss: 1.2858 - val_accuracy: 0.6000\n",
            "Epoch 41/50\n",
            "116/116 [==============================] - 0s 321us/sample - loss: 0.8284 - accuracy: 0.6983 - val_loss: 1.2914 - val_accuracy: 0.6000\n",
            "Epoch 42/50\n",
            "116/116 [==============================] - 0s 359us/sample - loss: 0.8242 - accuracy: 0.6638 - val_loss: 1.2930 - val_accuracy: 0.6000\n",
            "Epoch 43/50\n",
            "116/116 [==============================] - 0s 326us/sample - loss: 0.8171 - accuracy: 0.6810 - val_loss: 1.2914 - val_accuracy: 0.6000\n",
            "Epoch 44/50\n",
            "116/116 [==============================] - 0s 373us/sample - loss: 0.8177 - accuracy: 0.6724 - val_loss: 1.3070 - val_accuracy: 0.6000\n",
            "Epoch 45/50\n",
            "116/116 [==============================] - 0s 338us/sample - loss: 0.8184 - accuracy: 0.6897 - val_loss: 1.3128 - val_accuracy: 0.6000\n",
            "Epoch 46/50\n",
            "116/116 [==============================] - 0s 315us/sample - loss: 0.8167 - accuracy: 0.6638 - val_loss: 1.2985 - val_accuracy: 0.5333\n",
            "Epoch 47/50\n",
            "116/116 [==============================] - 0s 305us/sample - loss: 0.8129 - accuracy: 0.6897 - val_loss: 1.2990 - val_accuracy: 0.5333\n",
            "Epoch 48/50\n",
            "116/116 [==============================] - 0s 316us/sample - loss: 0.8128 - accuracy: 0.6724 - val_loss: 1.3161 - val_accuracy: 0.5333\n",
            "Epoch 49/50\n",
            "116/116 [==============================] - 0s 313us/sample - loss: 0.8120 - accuracy: 0.6983 - val_loss: 1.3270 - val_accuracy: 0.5333\n",
            "Epoch 50/50\n",
            "116/116 [==============================] - 0s 301us/sample - loss: 0.8115 - accuracy: 0.6897 - val_loss: 1.3307 - val_accuracy: 0.5333\n",
            "Train on 116 samples, validate on 15 samples\n",
            "Epoch 1/50\n",
            "116/116 [==============================] - 0s 3ms/sample - loss: 2.5572 - accuracy: 0.2759 - val_loss: 2.4430 - val_accuracy: 0.3333\n",
            "Epoch 2/50\n",
            "116/116 [==============================] - 0s 364us/sample - loss: 1.5439 - accuracy: 0.3707 - val_loss: 2.0371 - val_accuracy: 0.4667\n",
            "Epoch 3/50\n",
            "116/116 [==============================] - 0s 287us/sample - loss: 1.2253 - accuracy: 0.4741 - val_loss: 1.8489 - val_accuracy: 0.4667\n",
            "Epoch 4/50\n",
            "116/116 [==============================] - 0s 284us/sample - loss: 1.0808 - accuracy: 0.5259 - val_loss: 1.7279 - val_accuracy: 0.4667\n",
            "Epoch 5/50\n",
            "116/116 [==============================] - 0s 323us/sample - loss: 1.0101 - accuracy: 0.5345 - val_loss: 1.7044 - val_accuracy: 0.4667\n",
            "Epoch 6/50\n",
            "116/116 [==============================] - 0s 297us/sample - loss: 0.9699 - accuracy: 0.5517 - val_loss: 1.6471 - val_accuracy: 0.4000\n",
            "Epoch 7/50\n",
            "116/116 [==============================] - 0s 302us/sample - loss: 0.9361 - accuracy: 0.5776 - val_loss: 1.6186 - val_accuracy: 0.4000\n",
            "Epoch 8/50\n",
            "116/116 [==============================] - 0s 307us/sample - loss: 0.9272 - accuracy: 0.5862 - val_loss: 1.6003 - val_accuracy: 0.4000\n",
            "Epoch 9/50\n",
            "116/116 [==============================] - 0s 299us/sample - loss: 0.9104 - accuracy: 0.6034 - val_loss: 1.5698 - val_accuracy: 0.4000\n",
            "Epoch 10/50\n",
            "116/116 [==============================] - 0s 323us/sample - loss: 0.9058 - accuracy: 0.5948 - val_loss: 1.5686 - val_accuracy: 0.4000\n",
            "Epoch 11/50\n",
            "116/116 [==============================] - 0s 376us/sample - loss: 0.9017 - accuracy: 0.6034 - val_loss: 1.5557 - val_accuracy: 0.4000\n",
            "Epoch 12/50\n",
            "116/116 [==============================] - 0s 297us/sample - loss: 0.8953 - accuracy: 0.6207 - val_loss: 1.5787 - val_accuracy: 0.4000\n",
            "Epoch 13/50\n",
            "116/116 [==============================] - 0s 320us/sample - loss: 0.8928 - accuracy: 0.6207 - val_loss: 1.5621 - val_accuracy: 0.4000\n",
            "Epoch 14/50\n",
            "116/116 [==============================] - 0s 300us/sample - loss: 0.8835 - accuracy: 0.6293 - val_loss: 1.5615 - val_accuracy: 0.4000\n",
            "Epoch 15/50\n",
            "116/116 [==============================] - 0s 288us/sample - loss: 0.8813 - accuracy: 0.6207 - val_loss: 1.5332 - val_accuracy: 0.4000\n",
            "Epoch 16/50\n",
            "116/116 [==============================] - 0s 297us/sample - loss: 0.8795 - accuracy: 0.6121 - val_loss: 1.5409 - val_accuracy: 0.4000\n",
            "Epoch 17/50\n",
            "116/116 [==============================] - 0s 335us/sample - loss: 0.8741 - accuracy: 0.6293 - val_loss: 1.5424 - val_accuracy: 0.4000\n",
            "Epoch 18/50\n",
            "116/116 [==============================] - 0s 305us/sample - loss: 0.8743 - accuracy: 0.6293 - val_loss: 1.5150 - val_accuracy: 0.4000\n",
            "Epoch 19/50\n",
            "116/116 [==============================] - 0s 303us/sample - loss: 0.8710 - accuracy: 0.6293 - val_loss: 1.5295 - val_accuracy: 0.4000\n",
            "Epoch 20/50\n",
            "116/116 [==============================] - 0s 295us/sample - loss: 0.8693 - accuracy: 0.6293 - val_loss: 1.5116 - val_accuracy: 0.4000\n",
            "Epoch 21/50\n",
            "116/116 [==============================] - 0s 293us/sample - loss: 0.8677 - accuracy: 0.6121 - val_loss: 1.5206 - val_accuracy: 0.4000\n",
            "Epoch 22/50\n",
            "116/116 [==============================] - 0s 296us/sample - loss: 0.8636 - accuracy: 0.6379 - val_loss: 1.5199 - val_accuracy: 0.4000\n",
            "Epoch 23/50\n",
            "116/116 [==============================] - 0s 310us/sample - loss: 0.8584 - accuracy: 0.6293 - val_loss: 1.5160 - val_accuracy: 0.4000\n",
            "Epoch 24/50\n",
            "116/116 [==============================] - 0s 323us/sample - loss: 0.8617 - accuracy: 0.6293 - val_loss: 1.4999 - val_accuracy: 0.4000\n",
            "Epoch 25/50\n",
            "116/116 [==============================] - 0s 280us/sample - loss: 0.8602 - accuracy: 0.6293 - val_loss: 1.5227 - val_accuracy: 0.4000\n",
            "Epoch 26/50\n",
            "116/116 [==============================] - 0s 284us/sample - loss: 0.8554 - accuracy: 0.6121 - val_loss: 1.5102 - val_accuracy: 0.4000\n",
            "Epoch 27/50\n",
            "116/116 [==============================] - 0s 293us/sample - loss: 0.8533 - accuracy: 0.6293 - val_loss: 1.5173 - val_accuracy: 0.4000\n",
            "Epoch 28/50\n",
            "116/116 [==============================] - 0s 391us/sample - loss: 0.8482 - accuracy: 0.6293 - val_loss: 1.5065 - val_accuracy: 0.4000\n",
            "Epoch 29/50\n",
            "116/116 [==============================] - 0s 326us/sample - loss: 0.8479 - accuracy: 0.6293 - val_loss: 1.5137 - val_accuracy: 0.4000\n",
            "Epoch 30/50\n",
            "116/116 [==============================] - 0s 312us/sample - loss: 0.8491 - accuracy: 0.6293 - val_loss: 1.5274 - val_accuracy: 0.4000\n",
            "Epoch 31/50\n",
            "116/116 [==============================] - 0s 251us/sample - loss: 0.8467 - accuracy: 0.6293 - val_loss: 1.5111 - val_accuracy: 0.4000\n",
            "Epoch 32/50\n",
            "116/116 [==============================] - 0s 271us/sample - loss: 0.8458 - accuracy: 0.6293 - val_loss: 1.5167 - val_accuracy: 0.4000\n",
            "Epoch 33/50\n",
            "116/116 [==============================] - 0s 284us/sample - loss: 0.8410 - accuracy: 0.6207 - val_loss: 1.5409 - val_accuracy: 0.4000\n",
            "Epoch 34/50\n",
            "116/116 [==============================] - 0s 311us/sample - loss: 0.8378 - accuracy: 0.6466 - val_loss: 1.5443 - val_accuracy: 0.4000\n",
            "Epoch 35/50\n",
            "116/116 [==============================] - 0s 337us/sample - loss: 0.8399 - accuracy: 0.6379 - val_loss: 1.5321 - val_accuracy: 0.4000\n",
            "Epoch 36/50\n",
            "116/116 [==============================] - 0s 319us/sample - loss: 0.8375 - accuracy: 0.6379 - val_loss: 1.5419 - val_accuracy: 0.4000\n",
            "Epoch 37/50\n",
            "116/116 [==============================] - 0s 301us/sample - loss: 0.8370 - accuracy: 0.6466 - val_loss: 1.5599 - val_accuracy: 0.4000\n",
            "Epoch 38/50\n",
            "116/116 [==============================] - 0s 323us/sample - loss: 0.8365 - accuracy: 0.6293 - val_loss: 1.5564 - val_accuracy: 0.4000\n",
            "Epoch 39/50\n",
            "116/116 [==============================] - 0s 310us/sample - loss: 0.8311 - accuracy: 0.6379 - val_loss: 1.5523 - val_accuracy: 0.4000\n",
            "Epoch 40/50\n",
            "116/116 [==============================] - 0s 311us/sample - loss: 0.8345 - accuracy: 0.6379 - val_loss: 1.5455 - val_accuracy: 0.4000\n",
            "Epoch 41/50\n",
            "116/116 [==============================] - 0s 296us/sample - loss: 0.8315 - accuracy: 0.6379 - val_loss: 1.5445 - val_accuracy: 0.4000\n",
            "Epoch 42/50\n",
            "116/116 [==============================] - 0s 313us/sample - loss: 0.8281 - accuracy: 0.6466 - val_loss: 1.5190 - val_accuracy: 0.4000\n",
            "Epoch 43/50\n",
            "116/116 [==============================] - 0s 308us/sample - loss: 0.8271 - accuracy: 0.6379 - val_loss: 1.5725 - val_accuracy: 0.4000\n",
            "Epoch 44/50\n",
            "116/116 [==============================] - 0s 301us/sample - loss: 0.8268 - accuracy: 0.6379 - val_loss: 1.5928 - val_accuracy: 0.4000\n",
            "Epoch 45/50\n",
            "116/116 [==============================] - 0s 299us/sample - loss: 0.8237 - accuracy: 0.6379 - val_loss: 1.5277 - val_accuracy: 0.4000\n",
            "Epoch 46/50\n",
            "116/116 [==============================] - 0s 263us/sample - loss: 0.8277 - accuracy: 0.6379 - val_loss: 1.5422 - val_accuracy: 0.4000\n",
            "Epoch 47/50\n",
            "116/116 [==============================] - 0s 339us/sample - loss: 0.8232 - accuracy: 0.6466 - val_loss: 1.5622 - val_accuracy: 0.4000\n",
            "Epoch 48/50\n",
            "116/116 [==============================] - 0s 311us/sample - loss: 0.8210 - accuracy: 0.6466 - val_loss: 1.5447 - val_accuracy: 0.4000\n",
            "Epoch 49/50\n",
            "116/116 [==============================] - 0s 290us/sample - loss: 0.8207 - accuracy: 0.6379 - val_loss: 1.5798 - val_accuracy: 0.4000\n",
            "Epoch 50/50\n",
            "116/116 [==============================] - 0s 274us/sample - loss: 0.8229 - accuracy: 0.6466 - val_loss: 1.5663 - val_accuracy: 0.4000\n"
          ],
          "name": "stdout"
        },
        {
          "output_type": "display_data",
          "data": {
            "text/html": [
              "<span style=\"color:#4527A0\"><h1 style=\"font-size:18px\">Trial complete</h1></span>"
            ],
            "text/plain": [
              "<IPython.core.display.HTML object>"
            ]
          },
          "metadata": {
            "tags": []
          }
        },
        {
          "output_type": "display_data",
          "data": {
            "text/html": [
              "<span style=\"color:#4527A0\"><h1 style=\"font-size:18px\">Trial summary</h1></span>"
            ],
            "text/plain": [
              "<IPython.core.display.HTML object>"
            ]
          },
          "metadata": {
            "tags": []
          }
        },
        {
          "output_type": "display_data",
          "data": {
            "text/html": [
              "<span style=\"color:#7E57C2\"><h2 style=\"font-size:16px\">Hp values:</h2></span>"
            ],
            "text/plain": [
              "<IPython.core.display.HTML object>"
            ]
          },
          "metadata": {
            "tags": []
          }
        },
        {
          "output_type": "display_data",
          "data": {
            "text/html": [
              "<span style=\"color:cyan\"> |-learning_rate: 0.01</span>"
            ],
            "text/plain": [
              "<IPython.core.display.HTML object>"
            ]
          },
          "metadata": {
            "tags": []
          }
        },
        {
          "output_type": "display_data",
          "data": {
            "text/html": [
              "<span style=\"color:blue\"> |-momentum: 0.3</span>"
            ],
            "text/plain": [
              "<IPython.core.display.HTML object>"
            ]
          },
          "metadata": {
            "tags": []
          }
        },
        {
          "output_type": "display_data",
          "data": {
            "text/html": [
              "<span style=\"color:cyan\"> |-Score: 0.5111111402511597</span>"
            ],
            "text/plain": [
              "<IPython.core.display.HTML object>"
            ]
          },
          "metadata": {
            "tags": []
          }
        },
        {
          "output_type": "display_data",
          "data": {
            "text/html": [
              "<span style=\"color:cyan\"> |-Best step: 0</span>"
            ],
            "text/plain": [
              "<IPython.core.display.HTML object>"
            ]
          },
          "metadata": {
            "tags": []
          }
        },
        {
          "output_type": "stream",
          "text": [
            "Train on 116 samples, validate on 15 samples\n",
            "Epoch 1/50\n",
            "116/116 [==============================] - 0s 3ms/sample - loss: 1.2536 - accuracy: 0.4828 - val_loss: 1.3014 - val_accuracy: 0.2667\n",
            "Epoch 2/50\n",
            "116/116 [==============================] - 0s 373us/sample - loss: 1.1082 - accuracy: 0.5259 - val_loss: 1.2594 - val_accuracy: 0.5333\n",
            "Epoch 3/50\n",
            "116/116 [==============================] - 0s 293us/sample - loss: 1.0482 - accuracy: 0.5259 - val_loss: 1.2127 - val_accuracy: 0.5333\n",
            "Epoch 4/50\n",
            "116/116 [==============================] - 0s 270us/sample - loss: 1.0203 - accuracy: 0.5259 - val_loss: 1.2120 - val_accuracy: 0.5333\n",
            "Epoch 5/50\n",
            "116/116 [==============================] - 0s 262us/sample - loss: 0.9720 - accuracy: 0.5517 - val_loss: 1.1914 - val_accuracy: 0.5333\n",
            "Epoch 6/50\n",
            "116/116 [==============================] - 0s 338us/sample - loss: 0.9538 - accuracy: 0.5517 - val_loss: 1.1648 - val_accuracy: 0.5333\n",
            "Epoch 7/50\n",
            "116/116 [==============================] - 0s 356us/sample - loss: 0.9513 - accuracy: 0.5603 - val_loss: 1.1454 - val_accuracy: 0.5333\n",
            "Epoch 8/50\n",
            "116/116 [==============================] - 0s 277us/sample - loss: 0.9315 - accuracy: 0.5776 - val_loss: 1.1316 - val_accuracy: 0.5333\n",
            "Epoch 9/50\n",
            "116/116 [==============================] - 0s 284us/sample - loss: 0.9190 - accuracy: 0.5862 - val_loss: 1.1136 - val_accuracy: 0.5333\n",
            "Epoch 10/50\n",
            "116/116 [==============================] - 0s 284us/sample - loss: 0.9130 - accuracy: 0.5776 - val_loss: 1.0747 - val_accuracy: 0.5333\n",
            "Epoch 11/50\n",
            "116/116 [==============================] - 0s 339us/sample - loss: 0.9040 - accuracy: 0.5948 - val_loss: 1.0401 - val_accuracy: 0.6000\n",
            "Epoch 12/50\n",
            "116/116 [==============================] - 0s 311us/sample - loss: 0.9002 - accuracy: 0.5862 - val_loss: 1.0624 - val_accuracy: 0.6000\n",
            "Epoch 13/50\n",
            "116/116 [==============================] - 0s 307us/sample - loss: 0.8914 - accuracy: 0.6207 - val_loss: 1.0744 - val_accuracy: 0.5333\n",
            "Epoch 14/50\n",
            "116/116 [==============================] - 0s 296us/sample - loss: 0.8917 - accuracy: 0.6121 - val_loss: 1.0763 - val_accuracy: 0.5333\n",
            "Epoch 15/50\n",
            "116/116 [==============================] - 0s 277us/sample - loss: 0.8912 - accuracy: 0.5948 - val_loss: 1.0604 - val_accuracy: 0.6000\n",
            "Epoch 16/50\n",
            "116/116 [==============================] - 0s 294us/sample - loss: 0.8923 - accuracy: 0.5948 - val_loss: 1.0442 - val_accuracy: 0.6000\n",
            "Epoch 17/50\n",
            "116/116 [==============================] - 0s 276us/sample - loss: 0.8922 - accuracy: 0.6121 - val_loss: 1.0823 - val_accuracy: 0.6000\n",
            "Epoch 18/50\n",
            "116/116 [==============================] - 0s 295us/sample - loss: 0.8866 - accuracy: 0.5948 - val_loss: 1.0581 - val_accuracy: 0.6000\n",
            "Epoch 19/50\n",
            "116/116 [==============================] - 0s 297us/sample - loss: 0.8873 - accuracy: 0.6034 - val_loss: 1.0860 - val_accuracy: 0.6000\n",
            "Epoch 20/50\n",
            "116/116 [==============================] - 0s 304us/sample - loss: 0.8902 - accuracy: 0.5862 - val_loss: 1.0359 - val_accuracy: 0.6000\n",
            "Epoch 21/50\n",
            "116/116 [==============================] - 0s 293us/sample - loss: 0.8969 - accuracy: 0.6034 - val_loss: 1.0459 - val_accuracy: 0.6000\n",
            "Epoch 22/50\n",
            "116/116 [==============================] - 0s 303us/sample - loss: 0.8842 - accuracy: 0.6034 - val_loss: 1.0471 - val_accuracy: 0.6000\n",
            "Epoch 23/50\n",
            "116/116 [==============================] - 0s 295us/sample - loss: 0.8780 - accuracy: 0.5862 - val_loss: 1.0469 - val_accuracy: 0.6000\n",
            "Epoch 24/50\n",
            "116/116 [==============================] - 0s 400us/sample - loss: 0.8752 - accuracy: 0.6207 - val_loss: 1.0524 - val_accuracy: 0.6000\n",
            "Epoch 25/50\n",
            "116/116 [==============================] - 0s 339us/sample - loss: 0.8757 - accuracy: 0.5862 - val_loss: 1.0416 - val_accuracy: 0.6000\n",
            "Epoch 26/50\n",
            "116/116 [==============================] - 0s 302us/sample - loss: 0.8750 - accuracy: 0.6034 - val_loss: 1.0316 - val_accuracy: 0.6000\n",
            "Epoch 27/50\n",
            "116/116 [==============================] - 0s 293us/sample - loss: 0.8691 - accuracy: 0.6034 - val_loss: 1.0409 - val_accuracy: 0.6000\n",
            "Epoch 28/50\n",
            "116/116 [==============================] - 0s 308us/sample - loss: 0.8771 - accuracy: 0.5948 - val_loss: 1.0137 - val_accuracy: 0.6000\n",
            "Epoch 29/50\n",
            "116/116 [==============================] - 0s 297us/sample - loss: 0.8605 - accuracy: 0.6121 - val_loss: 1.0354 - val_accuracy: 0.6000\n",
            "Epoch 30/50\n",
            "116/116 [==============================] - 0s 376us/sample - loss: 0.8593 - accuracy: 0.6121 - val_loss: 1.0344 - val_accuracy: 0.6000\n",
            "Epoch 31/50\n",
            "116/116 [==============================] - 0s 303us/sample - loss: 0.8545 - accuracy: 0.6207 - val_loss: 1.0608 - val_accuracy: 0.6000\n",
            "Epoch 32/50\n",
            "116/116 [==============================] - 0s 304us/sample - loss: 0.8489 - accuracy: 0.6034 - val_loss: 1.0537 - val_accuracy: 0.6000\n",
            "Epoch 33/50\n",
            "116/116 [==============================] - 0s 275us/sample - loss: 0.8511 - accuracy: 0.6034 - val_loss: 1.0606 - val_accuracy: 0.6000\n",
            "Epoch 34/50\n",
            "116/116 [==============================] - 0s 275us/sample - loss: 0.8501 - accuracy: 0.6293 - val_loss: 1.0554 - val_accuracy: 0.6000\n",
            "Epoch 35/50\n",
            "116/116 [==============================] - 0s 303us/sample - loss: 0.8434 - accuracy: 0.6121 - val_loss: 1.0567 - val_accuracy: 0.6000\n",
            "Epoch 36/50\n",
            "116/116 [==============================] - 0s 305us/sample - loss: 0.8467 - accuracy: 0.6034 - val_loss: 1.0355 - val_accuracy: 0.6000\n",
            "Epoch 37/50\n",
            "116/116 [==============================] - 0s 340us/sample - loss: 0.8511 - accuracy: 0.6121 - val_loss: 1.0517 - val_accuracy: 0.5333\n",
            "Epoch 38/50\n",
            "116/116 [==============================] - 0s 290us/sample - loss: 0.8462 - accuracy: 0.6034 - val_loss: 1.0518 - val_accuracy: 0.5333\n",
            "Epoch 39/50\n",
            "116/116 [==============================] - 0s 318us/sample - loss: 0.8420 - accuracy: 0.6121 - val_loss: 1.0243 - val_accuracy: 0.5333\n",
            "Epoch 40/50\n",
            "116/116 [==============================] - 0s 300us/sample - loss: 0.8385 - accuracy: 0.5948 - val_loss: 1.0264 - val_accuracy: 0.5333\n",
            "Epoch 41/50\n",
            "116/116 [==============================] - 0s 308us/sample - loss: 0.8426 - accuracy: 0.6034 - val_loss: 1.0145 - val_accuracy: 0.5333\n",
            "Epoch 42/50\n",
            "116/116 [==============================] - 0s 325us/sample - loss: 0.8368 - accuracy: 0.6379 - val_loss: 1.0327 - val_accuracy: 0.4667\n",
            "Epoch 43/50\n",
            "116/116 [==============================] - 0s 301us/sample - loss: 0.8305 - accuracy: 0.6034 - val_loss: 1.0224 - val_accuracy: 0.4667\n",
            "Epoch 44/50\n",
            "116/116 [==============================] - 0s 352us/sample - loss: 0.8340 - accuracy: 0.6034 - val_loss: 1.0187 - val_accuracy: 0.4667\n",
            "Epoch 45/50\n",
            "116/116 [==============================] - 0s 288us/sample - loss: 0.8254 - accuracy: 0.6034 - val_loss: 1.0424 - val_accuracy: 0.4667\n",
            "Epoch 46/50\n",
            "116/116 [==============================] - 0s 280us/sample - loss: 0.8262 - accuracy: 0.6121 - val_loss: 1.0270 - val_accuracy: 0.4667\n",
            "Epoch 47/50\n",
            "116/116 [==============================] - 0s 296us/sample - loss: 0.8247 - accuracy: 0.6207 - val_loss: 1.0280 - val_accuracy: 0.4667\n",
            "Epoch 48/50\n",
            "116/116 [==============================] - 0s 299us/sample - loss: 0.8196 - accuracy: 0.6121 - val_loss: 1.0250 - val_accuracy: 0.4667\n",
            "Epoch 49/50\n",
            "116/116 [==============================] - 0s 266us/sample - loss: 0.8214 - accuracy: 0.6207 - val_loss: 1.0289 - val_accuracy: 0.4667\n",
            "Epoch 50/50\n",
            "116/116 [==============================] - 0s 312us/sample - loss: 0.8215 - accuracy: 0.6207 - val_loss: 1.0542 - val_accuracy: 0.4000\n",
            "Train on 116 samples, validate on 15 samples\n",
            "Epoch 1/50\n",
            "116/116 [==============================] - 0s 3ms/sample - loss: 1.4032 - accuracy: 0.3276 - val_loss: 1.2511 - val_accuracy: 0.4000\n",
            "Epoch 2/50\n",
            "116/116 [==============================] - 0s 315us/sample - loss: 1.0398 - accuracy: 0.4741 - val_loss: 1.2451 - val_accuracy: 0.3333\n",
            "Epoch 3/50\n",
            "116/116 [==============================] - 0s 317us/sample - loss: 0.9829 - accuracy: 0.4914 - val_loss: 1.2227 - val_accuracy: 0.3333\n",
            "Epoch 4/50\n",
            "116/116 [==============================] - 0s 315us/sample - loss: 0.9738 - accuracy: 0.4828 - val_loss: 1.1902 - val_accuracy: 0.4000\n",
            "Epoch 5/50\n",
            "116/116 [==============================] - 0s 314us/sample - loss: 0.9486 - accuracy: 0.5086 - val_loss: 1.1893 - val_accuracy: 0.4000\n",
            "Epoch 6/50\n",
            "116/116 [==============================] - 0s 315us/sample - loss: 0.9218 - accuracy: 0.5431 - val_loss: 1.2325 - val_accuracy: 0.4667\n",
            "Epoch 7/50\n",
            "116/116 [==============================] - 0s 294us/sample - loss: 0.9036 - accuracy: 0.5345 - val_loss: 1.2254 - val_accuracy: 0.4667\n",
            "Epoch 8/50\n",
            "116/116 [==============================] - 0s 316us/sample - loss: 0.8939 - accuracy: 0.5603 - val_loss: 1.2210 - val_accuracy: 0.4667\n",
            "Epoch 9/50\n",
            "116/116 [==============================] - 0s 280us/sample - loss: 0.8945 - accuracy: 0.5603 - val_loss: 1.2110 - val_accuracy: 0.4000\n",
            "Epoch 10/50\n",
            "116/116 [==============================] - 0s 363us/sample - loss: 0.8778 - accuracy: 0.5776 - val_loss: 1.2531 - val_accuracy: 0.4667\n",
            "Epoch 11/50\n",
            "116/116 [==============================] - 0s 293us/sample - loss: 0.8723 - accuracy: 0.6121 - val_loss: 1.2254 - val_accuracy: 0.4000\n",
            "Epoch 12/50\n",
            "116/116 [==============================] - 0s 295us/sample - loss: 0.8624 - accuracy: 0.6207 - val_loss: 1.2698 - val_accuracy: 0.4667\n",
            "Epoch 13/50\n",
            "116/116 [==============================] - 0s 280us/sample - loss: 0.8596 - accuracy: 0.6034 - val_loss: 1.2773 - val_accuracy: 0.4667\n",
            "Epoch 14/50\n",
            "116/116 [==============================] - 0s 308us/sample - loss: 0.8512 - accuracy: 0.6121 - val_loss: 1.2974 - val_accuracy: 0.5333\n",
            "Epoch 15/50\n",
            "116/116 [==============================] - 0s 300us/sample - loss: 0.8449 - accuracy: 0.6034 - val_loss: 1.3035 - val_accuracy: 0.5333\n",
            "Epoch 16/50\n",
            "116/116 [==============================] - 0s 286us/sample - loss: 0.8365 - accuracy: 0.6379 - val_loss: 1.2885 - val_accuracy: 0.5333\n",
            "Epoch 17/50\n",
            "116/116 [==============================] - 0s 277us/sample - loss: 0.8352 - accuracy: 0.5948 - val_loss: 1.3149 - val_accuracy: 0.5333\n",
            "Epoch 18/50\n",
            "116/116 [==============================] - 0s 333us/sample - loss: 0.8333 - accuracy: 0.6207 - val_loss: 1.3585 - val_accuracy: 0.5333\n",
            "Epoch 19/50\n",
            "116/116 [==============================] - 0s 321us/sample - loss: 0.8243 - accuracy: 0.6379 - val_loss: 1.3866 - val_accuracy: 0.5333\n",
            "Epoch 20/50\n",
            "116/116 [==============================] - 0s 297us/sample - loss: 0.8253 - accuracy: 0.6121 - val_loss: 1.4128 - val_accuracy: 0.5333\n",
            "Epoch 21/50\n",
            "116/116 [==============================] - 0s 292us/sample - loss: 0.8230 - accuracy: 0.6293 - val_loss: 1.4056 - val_accuracy: 0.5333\n",
            "Epoch 22/50\n",
            "116/116 [==============================] - 0s 283us/sample - loss: 0.8118 - accuracy: 0.6293 - val_loss: 1.4327 - val_accuracy: 0.5333\n",
            "Epoch 23/50\n",
            "116/116 [==============================] - 0s 275us/sample - loss: 0.8164 - accuracy: 0.6379 - val_loss: 1.4016 - val_accuracy: 0.4667\n",
            "Epoch 24/50\n",
            "116/116 [==============================] - 0s 309us/sample - loss: 0.8097 - accuracy: 0.6121 - val_loss: 1.4322 - val_accuracy: 0.5333\n",
            "Epoch 25/50\n",
            "116/116 [==============================] - 0s 302us/sample - loss: 0.8055 - accuracy: 0.6207 - val_loss: 1.4539 - val_accuracy: 0.5333\n",
            "Epoch 26/50\n",
            "116/116 [==============================] - 0s 280us/sample - loss: 0.8009 - accuracy: 0.6379 - val_loss: 1.4545 - val_accuracy: 0.5333\n",
            "Epoch 27/50\n",
            "116/116 [==============================] - 0s 301us/sample - loss: 0.7975 - accuracy: 0.6466 - val_loss: 1.4741 - val_accuracy: 0.5333\n",
            "Epoch 28/50\n",
            "116/116 [==============================] - 0s 293us/sample - loss: 0.7986 - accuracy: 0.6379 - val_loss: 1.5143 - val_accuracy: 0.5333\n",
            "Epoch 29/50\n",
            "116/116 [==============================] - 0s 276us/sample - loss: 0.8064 - accuracy: 0.6293 - val_loss: 1.5109 - val_accuracy: 0.4667\n",
            "Epoch 30/50\n",
            "116/116 [==============================] - 0s 283us/sample - loss: 0.7883 - accuracy: 0.6552 - val_loss: 1.5757 - val_accuracy: 0.5333\n",
            "Epoch 31/50\n",
            "116/116 [==============================] - 0s 359us/sample - loss: 0.7876 - accuracy: 0.6552 - val_loss: 1.5490 - val_accuracy: 0.5333\n",
            "Epoch 32/50\n",
            "116/116 [==============================] - 0s 298us/sample - loss: 0.7868 - accuracy: 0.6724 - val_loss: 1.5664 - val_accuracy: 0.5333\n",
            "Epoch 33/50\n",
            "116/116 [==============================] - 0s 309us/sample - loss: 0.7807 - accuracy: 0.6638 - val_loss: 1.5971 - val_accuracy: 0.5333\n",
            "Epoch 34/50\n",
            "116/116 [==============================] - 0s 286us/sample - loss: 0.7786 - accuracy: 0.6638 - val_loss: 1.6020 - val_accuracy: 0.5333\n",
            "Epoch 35/50\n",
            "116/116 [==============================] - 0s 310us/sample - loss: 0.7771 - accuracy: 0.6379 - val_loss: 1.6535 - val_accuracy: 0.4667\n",
            "Epoch 36/50\n",
            "116/116 [==============================] - 0s 276us/sample - loss: 0.7745 - accuracy: 0.6466 - val_loss: 1.5943 - val_accuracy: 0.4667\n",
            "Epoch 37/50\n",
            "116/116 [==============================] - 0s 301us/sample - loss: 0.7681 - accuracy: 0.6724 - val_loss: 1.6262 - val_accuracy: 0.4667\n",
            "Epoch 38/50\n",
            "116/116 [==============================] - 0s 331us/sample - loss: 0.7740 - accuracy: 0.6552 - val_loss: 1.6613 - val_accuracy: 0.5333\n",
            "Epoch 39/50\n",
            "116/116 [==============================] - 0s 295us/sample - loss: 0.7629 - accuracy: 0.6724 - val_loss: 1.6782 - val_accuracy: 0.4667\n",
            "Epoch 40/50\n",
            "116/116 [==============================] - 0s 286us/sample - loss: 0.7638 - accuracy: 0.6552 - val_loss: 1.6353 - val_accuracy: 0.4667\n",
            "Epoch 41/50\n",
            "116/116 [==============================] - 0s 255us/sample - loss: 0.7686 - accuracy: 0.6466 - val_loss: 1.6324 - val_accuracy: 0.4667\n",
            "Epoch 42/50\n",
            "116/116 [==============================] - 0s 278us/sample - loss: 0.7666 - accuracy: 0.6466 - val_loss: 1.6920 - val_accuracy: 0.4667\n",
            "Epoch 43/50\n",
            "116/116 [==============================] - 0s 259us/sample - loss: 0.7551 - accuracy: 0.6552 - val_loss: 1.7132 - val_accuracy: 0.5333\n",
            "Epoch 44/50\n",
            "116/116 [==============================] - 0s 302us/sample - loss: 0.7527 - accuracy: 0.6638 - val_loss: 1.7413 - val_accuracy: 0.5333\n",
            "Epoch 45/50\n",
            "116/116 [==============================] - 0s 295us/sample - loss: 0.7495 - accuracy: 0.6638 - val_loss: 1.7144 - val_accuracy: 0.5333\n",
            "Epoch 46/50\n",
            "116/116 [==============================] - 0s 311us/sample - loss: 0.7490 - accuracy: 0.6552 - val_loss: 1.7318 - val_accuracy: 0.5333\n",
            "Epoch 47/50\n",
            "116/116 [==============================] - 0s 359us/sample - loss: 0.7488 - accuracy: 0.6724 - val_loss: 1.7843 - val_accuracy: 0.5333\n",
            "Epoch 48/50\n",
            "116/116 [==============================] - 0s 319us/sample - loss: 0.7469 - accuracy: 0.6552 - val_loss: 1.7507 - val_accuracy: 0.5333\n",
            "Epoch 49/50\n",
            "116/116 [==============================] - 0s 325us/sample - loss: 0.7446 - accuracy: 0.6466 - val_loss: 1.7884 - val_accuracy: 0.5333\n",
            "Epoch 50/50\n",
            "116/116 [==============================] - 0s 309us/sample - loss: 0.7398 - accuracy: 0.6638 - val_loss: 1.8354 - val_accuracy: 0.5333\n",
            "Train on 116 samples, validate on 15 samples\n",
            "Epoch 1/50\n",
            "116/116 [==============================] - 0s 3ms/sample - loss: 2.0111 - accuracy: 0.3362 - val_loss: 1.8054 - val_accuracy: 0.2667\n",
            "Epoch 2/50\n",
            "116/116 [==============================] - 0s 369us/sample - loss: 1.2545 - accuracy: 0.4483 - val_loss: 1.3318 - val_accuracy: 0.3333\n",
            "Epoch 3/50\n",
            "116/116 [==============================] - 0s 371us/sample - loss: 1.0969 - accuracy: 0.5431 - val_loss: 1.1435 - val_accuracy: 0.4667\n",
            "Epoch 4/50\n",
            "116/116 [==============================] - 0s 296us/sample - loss: 1.0279 - accuracy: 0.5000 - val_loss: 1.1030 - val_accuracy: 0.4667\n",
            "Epoch 5/50\n",
            "116/116 [==============================] - 0s 314us/sample - loss: 0.9911 - accuracy: 0.5345 - val_loss: 1.0875 - val_accuracy: 0.5333\n",
            "Epoch 6/50\n",
            "116/116 [==============================] - 0s 308us/sample - loss: 0.9670 - accuracy: 0.5431 - val_loss: 1.0568 - val_accuracy: 0.5333\n",
            "Epoch 7/50\n",
            "116/116 [==============================] - 0s 270us/sample - loss: 0.9564 - accuracy: 0.5776 - val_loss: 1.0453 - val_accuracy: 0.5333\n",
            "Epoch 8/50\n",
            "116/116 [==============================] - 0s 274us/sample - loss: 0.9462 - accuracy: 0.5862 - val_loss: 1.0230 - val_accuracy: 0.5333\n",
            "Epoch 9/50\n",
            "116/116 [==============================] - 0s 305us/sample - loss: 0.9419 - accuracy: 0.5517 - val_loss: 1.0445 - val_accuracy: 0.5333\n",
            "Epoch 10/50\n",
            "116/116 [==============================] - 0s 297us/sample - loss: 0.9280 - accuracy: 0.5862 - val_loss: 1.0248 - val_accuracy: 0.5333\n",
            "Epoch 11/50\n",
            "116/116 [==============================] - 0s 365us/sample - loss: 0.9301 - accuracy: 0.5862 - val_loss: 1.0314 - val_accuracy: 0.5333\n",
            "Epoch 12/50\n",
            "116/116 [==============================] - 0s 324us/sample - loss: 0.9132 - accuracy: 0.6034 - val_loss: 1.0389 - val_accuracy: 0.4667\n",
            "Epoch 13/50\n",
            "116/116 [==============================] - 0s 330us/sample - loss: 0.9113 - accuracy: 0.5862 - val_loss: 1.0347 - val_accuracy: 0.6000\n",
            "Epoch 14/50\n",
            "116/116 [==============================] - 0s 330us/sample - loss: 0.9055 - accuracy: 0.5862 - val_loss: 1.0255 - val_accuracy: 0.6000\n",
            "Epoch 15/50\n",
            "116/116 [==============================] - 0s 321us/sample - loss: 0.8978 - accuracy: 0.6034 - val_loss: 1.0099 - val_accuracy: 0.5333\n",
            "Epoch 16/50\n",
            "116/116 [==============================] - 0s 323us/sample - loss: 0.9014 - accuracy: 0.5948 - val_loss: 1.0204 - val_accuracy: 0.5333\n",
            "Epoch 17/50\n",
            "116/116 [==============================] - 0s 348us/sample - loss: 0.8947 - accuracy: 0.5603 - val_loss: 1.0157 - val_accuracy: 0.5333\n",
            "Epoch 18/50\n",
            "116/116 [==============================] - 0s 325us/sample - loss: 0.8940 - accuracy: 0.5776 - val_loss: 0.9958 - val_accuracy: 0.5333\n",
            "Epoch 19/50\n",
            "116/116 [==============================] - 0s 303us/sample - loss: 0.8865 - accuracy: 0.6034 - val_loss: 1.0221 - val_accuracy: 0.5333\n",
            "Epoch 20/50\n",
            "116/116 [==============================] - 0s 293us/sample - loss: 0.8808 - accuracy: 0.6034 - val_loss: 1.0310 - val_accuracy: 0.5333\n",
            "Epoch 21/50\n",
            "116/116 [==============================] - 0s 308us/sample - loss: 0.8781 - accuracy: 0.6121 - val_loss: 1.0340 - val_accuracy: 0.5333\n",
            "Epoch 22/50\n",
            "116/116 [==============================] - 0s 278us/sample - loss: 0.8757 - accuracy: 0.5948 - val_loss: 1.0181 - val_accuracy: 0.5333\n",
            "Epoch 23/50\n",
            "116/116 [==============================] - 0s 310us/sample - loss: 0.8667 - accuracy: 0.6121 - val_loss: 1.0075 - val_accuracy: 0.5333\n",
            "Epoch 24/50\n",
            "116/116 [==============================] - 0s 286us/sample - loss: 0.8626 - accuracy: 0.6293 - val_loss: 1.0158 - val_accuracy: 0.5333\n",
            "Epoch 25/50\n",
            "116/116 [==============================] - 0s 291us/sample - loss: 0.8671 - accuracy: 0.6207 - val_loss: 1.0451 - val_accuracy: 0.4667\n",
            "Epoch 26/50\n",
            "116/116 [==============================] - 0s 279us/sample - loss: 0.8616 - accuracy: 0.5948 - val_loss: 1.0376 - val_accuracy: 0.4667\n",
            "Epoch 27/50\n",
            "116/116 [==============================] - 0s 278us/sample - loss: 0.8566 - accuracy: 0.6034 - val_loss: 1.0266 - val_accuracy: 0.4667\n",
            "Epoch 28/50\n",
            "116/116 [==============================] - 0s 300us/sample - loss: 0.8615 - accuracy: 0.6034 - val_loss: 1.0222 - val_accuracy: 0.4667\n",
            "Epoch 29/50\n",
            "116/116 [==============================] - 0s 270us/sample - loss: 0.8521 - accuracy: 0.6207 - val_loss: 1.0247 - val_accuracy: 0.4667\n",
            "Epoch 30/50\n",
            "116/116 [==============================] - 0s 314us/sample - loss: 0.8540 - accuracy: 0.6293 - val_loss: 1.0512 - val_accuracy: 0.4667\n",
            "Epoch 31/50\n",
            "116/116 [==============================] - 0s 287us/sample - loss: 0.8502 - accuracy: 0.5948 - val_loss: 1.0334 - val_accuracy: 0.4667\n",
            "Epoch 32/50\n",
            "116/116 [==============================] - 0s 300us/sample - loss: 0.8444 - accuracy: 0.6207 - val_loss: 1.0312 - val_accuracy: 0.4667\n",
            "Epoch 33/50\n",
            "116/116 [==============================] - 0s 314us/sample - loss: 0.8443 - accuracy: 0.6207 - val_loss: 1.0588 - val_accuracy: 0.4667\n",
            "Epoch 34/50\n",
            "116/116 [==============================] - 0s 366us/sample - loss: 0.8422 - accuracy: 0.6121 - val_loss: 1.0731 - val_accuracy: 0.4667\n",
            "Epoch 35/50\n",
            "116/116 [==============================] - 0s 292us/sample - loss: 0.8409 - accuracy: 0.6121 - val_loss: 1.0475 - val_accuracy: 0.4667\n",
            "Epoch 36/50\n",
            "116/116 [==============================] - 0s 276us/sample - loss: 0.8381 - accuracy: 0.6121 - val_loss: 1.0457 - val_accuracy: 0.4667\n",
            "Epoch 37/50\n",
            "116/116 [==============================] - 0s 279us/sample - loss: 0.8335 - accuracy: 0.6207 - val_loss: 1.0581 - val_accuracy: 0.4667\n",
            "Epoch 38/50\n",
            "116/116 [==============================] - 0s 283us/sample - loss: 0.8339 - accuracy: 0.5862 - val_loss: 1.0651 - val_accuracy: 0.4667\n",
            "Epoch 39/50\n",
            "116/116 [==============================] - 0s 302us/sample - loss: 0.8298 - accuracy: 0.6034 - val_loss: 1.0668 - val_accuracy: 0.4667\n",
            "Epoch 40/50\n",
            "116/116 [==============================] - 0s 292us/sample - loss: 0.8287 - accuracy: 0.6207 - val_loss: 1.0806 - val_accuracy: 0.4667\n",
            "Epoch 41/50\n",
            "116/116 [==============================] - 0s 291us/sample - loss: 0.8298 - accuracy: 0.6034 - val_loss: 1.0656 - val_accuracy: 0.4667\n",
            "Epoch 42/50\n",
            "116/116 [==============================] - 0s 270us/sample - loss: 0.8270 - accuracy: 0.6121 - val_loss: 1.0753 - val_accuracy: 0.4667\n",
            "Epoch 43/50\n",
            "116/116 [==============================] - 0s 255us/sample - loss: 0.8249 - accuracy: 0.6121 - val_loss: 1.0935 - val_accuracy: 0.4667\n",
            "Epoch 44/50\n",
            "116/116 [==============================] - 0s 306us/sample - loss: 0.8170 - accuracy: 0.6121 - val_loss: 1.0944 - val_accuracy: 0.4667\n",
            "Epoch 45/50\n",
            "116/116 [==============================] - 0s 305us/sample - loss: 0.8182 - accuracy: 0.6207 - val_loss: 1.0960 - val_accuracy: 0.4667\n",
            "Epoch 46/50\n",
            "116/116 [==============================] - 0s 364us/sample - loss: 0.8215 - accuracy: 0.5948 - val_loss: 1.0965 - val_accuracy: 0.5333\n",
            "Epoch 47/50\n",
            "116/116 [==============================] - 0s 329us/sample - loss: 0.8152 - accuracy: 0.6379 - val_loss: 1.1105 - val_accuracy: 0.5333\n",
            "Epoch 48/50\n",
            "116/116 [==============================] - 0s 313us/sample - loss: 0.8204 - accuracy: 0.5948 - val_loss: 1.1215 - val_accuracy: 0.4667\n",
            "Epoch 49/50\n",
            "116/116 [==============================] - 0s 295us/sample - loss: 0.8122 - accuracy: 0.6034 - val_loss: 1.0981 - val_accuracy: 0.5333\n",
            "Epoch 50/50\n",
            "116/116 [==============================] - 0s 299us/sample - loss: 0.8178 - accuracy: 0.5948 - val_loss: 1.0913 - val_accuracy: 0.5333\n"
          ],
          "name": "stdout"
        },
        {
          "output_type": "display_data",
          "data": {
            "text/html": [
              "<span style=\"color:#4527A0\"><h1 style=\"font-size:18px\">Trial complete</h1></span>"
            ],
            "text/plain": [
              "<IPython.core.display.HTML object>"
            ]
          },
          "metadata": {
            "tags": []
          }
        },
        {
          "output_type": "display_data",
          "data": {
            "text/html": [
              "<span style=\"color:#4527A0\"><h1 style=\"font-size:18px\">Trial summary</h1></span>"
            ],
            "text/plain": [
              "<IPython.core.display.HTML object>"
            ]
          },
          "metadata": {
            "tags": []
          }
        },
        {
          "output_type": "display_data",
          "data": {
            "text/html": [
              "<span style=\"color:#7E57C2\"><h2 style=\"font-size:16px\">Hp values:</h2></span>"
            ],
            "text/plain": [
              "<IPython.core.display.HTML object>"
            ]
          },
          "metadata": {
            "tags": []
          }
        },
        {
          "output_type": "display_data",
          "data": {
            "text/html": [
              "<span style=\"color:cyan\"> |-learning_rate: 0.01</span>"
            ],
            "text/plain": [
              "<IPython.core.display.HTML object>"
            ]
          },
          "metadata": {
            "tags": []
          }
        },
        {
          "output_type": "display_data",
          "data": {
            "text/html": [
              "<span style=\"color:blue\"> |-momentum: 0.6</span>"
            ],
            "text/plain": [
              "<IPython.core.display.HTML object>"
            ]
          },
          "metadata": {
            "tags": []
          }
        },
        {
          "output_type": "display_data",
          "data": {
            "text/html": [
              "<span style=\"color:cyan\"> |-Score: 0.5777778029441833</span>"
            ],
            "text/plain": [
              "<IPython.core.display.HTML object>"
            ]
          },
          "metadata": {
            "tags": []
          }
        },
        {
          "output_type": "display_data",
          "data": {
            "text/html": [
              "<span style=\"color:cyan\"> |-Best step: 0</span>"
            ],
            "text/plain": [
              "<IPython.core.display.HTML object>"
            ]
          },
          "metadata": {
            "tags": []
          }
        },
        {
          "output_type": "stream",
          "text": [
            "Train on 116 samples, validate on 15 samples\n",
            "Epoch 1/50\n",
            "116/116 [==============================] - 0s 3ms/sample - loss: 1.9030 - accuracy: 0.3103 - val_loss: 1.9749 - val_accuracy: 0.2667\n",
            "Epoch 2/50\n",
            "116/116 [==============================] - 0s 355us/sample - loss: 1.7212 - accuracy: 0.2931 - val_loss: 1.8019 - val_accuracy: 0.3333\n",
            "Epoch 3/50\n",
            "116/116 [==============================] - 0s 266us/sample - loss: 1.5829 - accuracy: 0.3534 - val_loss: 1.6955 - val_accuracy: 0.3333\n",
            "Epoch 4/50\n",
            "116/116 [==============================] - 0s 305us/sample - loss: 1.4854 - accuracy: 0.3534 - val_loss: 1.6033 - val_accuracy: 0.2667\n",
            "Epoch 5/50\n",
            "116/116 [==============================] - 0s 310us/sample - loss: 1.4167 - accuracy: 0.3276 - val_loss: 1.5414 - val_accuracy: 0.2667\n",
            "Epoch 6/50\n",
            "116/116 [==============================] - 0s 308us/sample - loss: 1.3649 - accuracy: 0.3362 - val_loss: 1.4730 - val_accuracy: 0.2667\n",
            "Epoch 7/50\n",
            "116/116 [==============================] - 0s 313us/sample - loss: 1.3278 - accuracy: 0.3362 - val_loss: 1.4204 - val_accuracy: 0.2667\n",
            "Epoch 8/50\n",
            "116/116 [==============================] - 0s 301us/sample - loss: 1.2927 - accuracy: 0.3448 - val_loss: 1.3893 - val_accuracy: 0.2667\n",
            "Epoch 9/50\n",
            "116/116 [==============================] - 0s 313us/sample - loss: 1.2648 - accuracy: 0.3534 - val_loss: 1.3602 - val_accuracy: 0.2667\n",
            "Epoch 10/50\n",
            "116/116 [==============================] - 0s 290us/sample - loss: 1.2383 - accuracy: 0.3879 - val_loss: 1.3172 - val_accuracy: 0.2667\n",
            "Epoch 11/50\n",
            "116/116 [==============================] - 0s 313us/sample - loss: 1.2129 - accuracy: 0.3966 - val_loss: 1.2858 - val_accuracy: 0.2667\n",
            "Epoch 12/50\n",
            "116/116 [==============================] - 0s 299us/sample - loss: 1.1948 - accuracy: 0.4052 - val_loss: 1.2612 - val_accuracy: 0.3333\n",
            "Epoch 13/50\n",
            "116/116 [==============================] - 0s 274us/sample - loss: 1.1727 - accuracy: 0.4397 - val_loss: 1.2448 - val_accuracy: 0.2667\n",
            "Epoch 14/50\n",
            "116/116 [==============================] - 0s 320us/sample - loss: 1.1562 - accuracy: 0.4310 - val_loss: 1.2297 - val_accuracy: 0.2667\n",
            "Epoch 15/50\n",
            "116/116 [==============================] - 0s 283us/sample - loss: 1.1401 - accuracy: 0.4397 - val_loss: 1.2185 - val_accuracy: 0.2667\n",
            "Epoch 16/50\n",
            "116/116 [==============================] - 0s 274us/sample - loss: 1.1225 - accuracy: 0.4483 - val_loss: 1.1891 - val_accuracy: 0.2667\n",
            "Epoch 17/50\n",
            "116/116 [==============================] - 0s 250us/sample - loss: 1.1101 - accuracy: 0.4569 - val_loss: 1.1762 - val_accuracy: 0.2667\n",
            "Epoch 18/50\n",
            "116/116 [==============================] - 0s 323us/sample - loss: 1.0984 - accuracy: 0.4483 - val_loss: 1.1568 - val_accuracy: 0.2667\n",
            "Epoch 19/50\n",
            "116/116 [==============================] - 0s 271us/sample - loss: 1.0875 - accuracy: 0.4569 - val_loss: 1.1452 - val_accuracy: 0.2667\n",
            "Epoch 20/50\n",
            "116/116 [==============================] - 0s 278us/sample - loss: 1.0773 - accuracy: 0.4397 - val_loss: 1.1350 - val_accuracy: 0.2667\n",
            "Epoch 21/50\n",
            "116/116 [==============================] - 0s 306us/sample - loss: 1.0659 - accuracy: 0.4655 - val_loss: 1.1236 - val_accuracy: 0.2667\n",
            "Epoch 22/50\n",
            "116/116 [==============================] - 0s 402us/sample - loss: 1.0590 - accuracy: 0.4569 - val_loss: 1.1124 - val_accuracy: 0.2667\n",
            "Epoch 23/50\n",
            "116/116 [==============================] - 0s 316us/sample - loss: 1.0489 - accuracy: 0.4569 - val_loss: 1.1055 - val_accuracy: 0.2667\n",
            "Epoch 24/50\n",
            "116/116 [==============================] - 0s 309us/sample - loss: 1.0410 - accuracy: 0.4569 - val_loss: 1.1012 - val_accuracy: 0.2667\n",
            "Epoch 25/50\n",
            "116/116 [==============================] - 0s 327us/sample - loss: 1.0347 - accuracy: 0.4655 - val_loss: 1.0949 - val_accuracy: 0.3333\n",
            "Epoch 26/50\n",
            "116/116 [==============================] - 0s 298us/sample - loss: 1.0286 - accuracy: 0.4569 - val_loss: 1.0851 - val_accuracy: 0.3333\n",
            "Epoch 27/50\n",
            "116/116 [==============================] - 0s 292us/sample - loss: 1.0204 - accuracy: 0.4569 - val_loss: 1.0806 - val_accuracy: 0.3333\n",
            "Epoch 28/50\n",
            "116/116 [==============================] - 0s 300us/sample - loss: 1.0180 - accuracy: 0.4569 - val_loss: 1.0699 - val_accuracy: 0.2667\n",
            "Epoch 29/50\n",
            "116/116 [==============================] - 0s 338us/sample - loss: 1.0085 - accuracy: 0.4741 - val_loss: 1.0741 - val_accuracy: 0.2667\n",
            "Epoch 30/50\n",
            "116/116 [==============================] - 0s 285us/sample - loss: 1.0040 - accuracy: 0.4828 - val_loss: 1.0667 - val_accuracy: 0.2667\n",
            "Epoch 31/50\n",
            "116/116 [==============================] - 0s 293us/sample - loss: 0.9994 - accuracy: 0.4828 - val_loss: 1.0675 - val_accuracy: 0.2667\n",
            "Epoch 32/50\n",
            "116/116 [==============================] - 0s 308us/sample - loss: 0.9940 - accuracy: 0.4914 - val_loss: 1.0582 - val_accuracy: 0.2667\n",
            "Epoch 33/50\n",
            "116/116 [==============================] - 0s 324us/sample - loss: 0.9906 - accuracy: 0.4828 - val_loss: 1.0524 - val_accuracy: 0.2667\n",
            "Epoch 34/50\n",
            "116/116 [==============================] - 0s 335us/sample - loss: 0.9849 - accuracy: 0.5000 - val_loss: 1.0550 - val_accuracy: 0.2667\n",
            "Epoch 35/50\n",
            "116/116 [==============================] - 0s 327us/sample - loss: 0.9813 - accuracy: 0.5259 - val_loss: 1.0532 - val_accuracy: 0.2667\n",
            "Epoch 36/50\n",
            "116/116 [==============================] - 0s 331us/sample - loss: 0.9776 - accuracy: 0.5172 - val_loss: 1.0541 - val_accuracy: 0.2667\n",
            "Epoch 37/50\n",
            "116/116 [==============================] - 0s 310us/sample - loss: 0.9735 - accuracy: 0.5259 - val_loss: 1.0435 - val_accuracy: 0.2667\n",
            "Epoch 38/50\n",
            "116/116 [==============================] - 0s 315us/sample - loss: 0.9701 - accuracy: 0.5172 - val_loss: 1.0446 - val_accuracy: 0.2667\n",
            "Epoch 39/50\n",
            "116/116 [==============================] - 0s 312us/sample - loss: 0.9666 - accuracy: 0.5259 - val_loss: 1.0431 - val_accuracy: 0.3333\n",
            "Epoch 40/50\n",
            "116/116 [==============================] - 0s 385us/sample - loss: 0.9644 - accuracy: 0.5259 - val_loss: 1.0434 - val_accuracy: 0.2667\n",
            "Epoch 41/50\n",
            "116/116 [==============================] - 0s 306us/sample - loss: 0.9615 - accuracy: 0.5172 - val_loss: 1.0387 - val_accuracy: 0.2667\n",
            "Epoch 42/50\n",
            "116/116 [==============================] - 0s 297us/sample - loss: 0.9598 - accuracy: 0.5431 - val_loss: 1.0336 - val_accuracy: 0.2667\n",
            "Epoch 43/50\n",
            "116/116 [==============================] - 0s 307us/sample - loss: 0.9565 - accuracy: 0.5345 - val_loss: 1.0359 - val_accuracy: 0.2667\n",
            "Epoch 44/50\n",
            "116/116 [==============================] - 0s 286us/sample - loss: 0.9548 - accuracy: 0.5431 - val_loss: 1.0362 - val_accuracy: 0.2667\n",
            "Epoch 45/50\n",
            "116/116 [==============================] - 0s 282us/sample - loss: 0.9509 - accuracy: 0.5431 - val_loss: 1.0305 - val_accuracy: 0.2667\n",
            "Epoch 46/50\n",
            "116/116 [==============================] - 0s 299us/sample - loss: 0.9490 - accuracy: 0.5517 - val_loss: 1.0324 - val_accuracy: 0.3333\n",
            "Epoch 47/50\n",
            "116/116 [==============================] - 0s 285us/sample - loss: 0.9462 - accuracy: 0.5431 - val_loss: 1.0319 - val_accuracy: 0.3333\n",
            "Epoch 48/50\n",
            "116/116 [==============================] - 0s 297us/sample - loss: 0.9451 - accuracy: 0.5431 - val_loss: 1.0264 - val_accuracy: 0.3333\n",
            "Epoch 49/50\n",
            "116/116 [==============================] - 0s 286us/sample - loss: 0.9419 - accuracy: 0.5603 - val_loss: 1.0288 - val_accuracy: 0.3333\n",
            "Epoch 50/50\n",
            "116/116 [==============================] - 0s 289us/sample - loss: 0.9406 - accuracy: 0.5345 - val_loss: 1.0293 - val_accuracy: 0.3333\n",
            "Train on 116 samples, validate on 15 samples\n",
            "Epoch 1/50\n",
            "116/116 [==============================] - 0s 3ms/sample - loss: 3.8928 - accuracy: 0.2328 - val_loss: 2.2983 - val_accuracy: 0.4000\n",
            "Epoch 2/50\n",
            "116/116 [==============================] - 0s 327us/sample - loss: 2.8350 - accuracy: 0.2759 - val_loss: 1.9369 - val_accuracy: 0.3333\n",
            "Epoch 3/50\n",
            "116/116 [==============================] - 0s 297us/sample - loss: 2.0253 - accuracy: 0.3276 - val_loss: 1.8394 - val_accuracy: 0.3333\n",
            "Epoch 4/50\n",
            "116/116 [==============================] - 0s 324us/sample - loss: 1.5900 - accuracy: 0.3621 - val_loss: 1.8418 - val_accuracy: 0.3333\n",
            "Epoch 5/50\n",
            "116/116 [==============================] - 0s 319us/sample - loss: 1.3974 - accuracy: 0.3793 - val_loss: 1.8311 - val_accuracy: 0.3333\n",
            "Epoch 6/50\n",
            "116/116 [==============================] - 0s 280us/sample - loss: 1.3163 - accuracy: 0.4310 - val_loss: 1.7866 - val_accuracy: 0.3333\n",
            "Epoch 7/50\n",
            "116/116 [==============================] - 0s 258us/sample - loss: 1.2775 - accuracy: 0.4483 - val_loss: 1.7391 - val_accuracy: 0.2667\n",
            "Epoch 8/50\n",
            "116/116 [==============================] - 0s 274us/sample - loss: 1.2460 - accuracy: 0.4741 - val_loss: 1.7050 - val_accuracy: 0.2667\n",
            "Epoch 9/50\n",
            "116/116 [==============================] - 0s 277us/sample - loss: 1.2252 - accuracy: 0.4828 - val_loss: 1.6916 - val_accuracy: 0.2667\n",
            "Epoch 10/50\n",
            "116/116 [==============================] - 0s 283us/sample - loss: 1.2040 - accuracy: 0.4828 - val_loss: 1.6455 - val_accuracy: 0.3333\n",
            "Epoch 11/50\n",
            "116/116 [==============================] - 0s 298us/sample - loss: 1.1833 - accuracy: 0.4914 - val_loss: 1.6220 - val_accuracy: 0.3333\n",
            "Epoch 12/50\n",
            "116/116 [==============================] - 0s 282us/sample - loss: 1.1696 - accuracy: 0.4914 - val_loss: 1.5942 - val_accuracy: 0.3333\n",
            "Epoch 13/50\n",
            "116/116 [==============================] - 0s 279us/sample - loss: 1.1525 - accuracy: 0.4914 - val_loss: 1.5830 - val_accuracy: 0.3333\n",
            "Epoch 14/50\n",
            "116/116 [==============================] - 0s 274us/sample - loss: 1.1423 - accuracy: 0.4828 - val_loss: 1.5711 - val_accuracy: 0.3333\n",
            "Epoch 15/50\n",
            "116/116 [==============================] - 0s 289us/sample - loss: 1.1309 - accuracy: 0.4741 - val_loss: 1.5674 - val_accuracy: 0.3333\n",
            "Epoch 16/50\n",
            "116/116 [==============================] - 0s 254us/sample - loss: 1.1201 - accuracy: 0.4828 - val_loss: 1.5515 - val_accuracy: 0.3333\n",
            "Epoch 17/50\n",
            "116/116 [==============================] - 0s 252us/sample - loss: 1.1109 - accuracy: 0.4914 - val_loss: 1.5335 - val_accuracy: 0.3333\n",
            "Epoch 18/50\n",
            "116/116 [==============================] - 0s 254us/sample - loss: 1.1027 - accuracy: 0.4914 - val_loss: 1.5114 - val_accuracy: 0.3333\n",
            "Epoch 19/50\n",
            "116/116 [==============================] - 0s 279us/sample - loss: 1.0936 - accuracy: 0.4828 - val_loss: 1.5126 - val_accuracy: 0.3333\n",
            "Epoch 20/50\n",
            "116/116 [==============================] - 0s 295us/sample - loss: 1.0836 - accuracy: 0.4914 - val_loss: 1.4993 - val_accuracy: 0.3333\n",
            "Epoch 21/50\n",
            "116/116 [==============================] - 0s 261us/sample - loss: 1.0767 - accuracy: 0.4741 - val_loss: 1.4898 - val_accuracy: 0.3333\n",
            "Epoch 22/50\n",
            "116/116 [==============================] - 0s 314us/sample - loss: 1.0678 - accuracy: 0.4741 - val_loss: 1.5011 - val_accuracy: 0.3333\n",
            "Epoch 23/50\n",
            "116/116 [==============================] - 0s 315us/sample - loss: 1.0622 - accuracy: 0.4741 - val_loss: 1.4814 - val_accuracy: 0.3333\n",
            "Epoch 24/50\n",
            "116/116 [==============================] - 0s 290us/sample - loss: 1.0537 - accuracy: 0.4828 - val_loss: 1.4754 - val_accuracy: 0.3333\n",
            "Epoch 25/50\n",
            "116/116 [==============================] - 0s 285us/sample - loss: 1.0536 - accuracy: 0.4828 - val_loss: 1.4748 - val_accuracy: 0.4000\n",
            "Epoch 26/50\n",
            "116/116 [==============================] - 0s 299us/sample - loss: 1.0410 - accuracy: 0.4914 - val_loss: 1.4491 - val_accuracy: 0.4000\n",
            "Epoch 27/50\n",
            "116/116 [==============================] - 0s 274us/sample - loss: 1.0342 - accuracy: 0.4828 - val_loss: 1.4405 - val_accuracy: 0.4000\n",
            "Epoch 28/50\n",
            "116/116 [==============================] - 0s 283us/sample - loss: 1.0254 - accuracy: 0.4914 - val_loss: 1.4445 - val_accuracy: 0.4000\n",
            "Epoch 29/50\n",
            "116/116 [==============================] - 0s 296us/sample - loss: 1.0203 - accuracy: 0.5086 - val_loss: 1.4427 - val_accuracy: 0.4000\n",
            "Epoch 30/50\n",
            "116/116 [==============================] - 0s 289us/sample - loss: 1.0168 - accuracy: 0.4914 - val_loss: 1.4422 - val_accuracy: 0.4000\n",
            "Epoch 31/50\n",
            "116/116 [==============================] - 0s 287us/sample - loss: 1.0136 - accuracy: 0.5086 - val_loss: 1.4362 - val_accuracy: 0.4000\n",
            "Epoch 32/50\n",
            "116/116 [==============================] - 0s 272us/sample - loss: 1.0071 - accuracy: 0.5086 - val_loss: 1.4256 - val_accuracy: 0.4000\n",
            "Epoch 33/50\n",
            "116/116 [==============================] - 0s 254us/sample - loss: 1.0011 - accuracy: 0.5259 - val_loss: 1.4237 - val_accuracy: 0.4000\n",
            "Epoch 34/50\n",
            "116/116 [==============================] - 0s 319us/sample - loss: 0.9967 - accuracy: 0.5172 - val_loss: 1.4298 - val_accuracy: 0.4000\n",
            "Epoch 35/50\n",
            "116/116 [==============================] - 0s 336us/sample - loss: 0.9914 - accuracy: 0.5086 - val_loss: 1.4315 - val_accuracy: 0.4000\n",
            "Epoch 36/50\n",
            "116/116 [==============================] - 0s 283us/sample - loss: 0.9871 - accuracy: 0.5086 - val_loss: 1.4283 - val_accuracy: 0.4000\n",
            "Epoch 37/50\n",
            "116/116 [==============================] - 0s 266us/sample - loss: 0.9843 - accuracy: 0.5086 - val_loss: 1.4155 - val_accuracy: 0.4000\n",
            "Epoch 38/50\n",
            "116/116 [==============================] - 0s 269us/sample - loss: 0.9798 - accuracy: 0.5259 - val_loss: 1.4174 - val_accuracy: 0.4000\n",
            "Epoch 39/50\n",
            "116/116 [==============================] - 0s 266us/sample - loss: 0.9780 - accuracy: 0.5172 - val_loss: 1.3998 - val_accuracy: 0.4000\n",
            "Epoch 40/50\n",
            "116/116 [==============================] - 0s 289us/sample - loss: 0.9735 - accuracy: 0.5172 - val_loss: 1.4128 - val_accuracy: 0.4000\n",
            "Epoch 41/50\n",
            "116/116 [==============================] - 0s 298us/sample - loss: 0.9685 - accuracy: 0.5259 - val_loss: 1.4108 - val_accuracy: 0.4000\n",
            "Epoch 42/50\n",
            "116/116 [==============================] - 0s 285us/sample - loss: 0.9649 - accuracy: 0.5431 - val_loss: 1.4050 - val_accuracy: 0.4000\n",
            "Epoch 43/50\n",
            "116/116 [==============================] - 0s 280us/sample - loss: 0.9610 - accuracy: 0.5431 - val_loss: 1.4073 - val_accuracy: 0.4000\n",
            "Epoch 44/50\n",
            "116/116 [==============================] - 0s 270us/sample - loss: 0.9586 - accuracy: 0.5517 - val_loss: 1.4140 - val_accuracy: 0.4000\n",
            "Epoch 45/50\n",
            "116/116 [==============================] - 0s 278us/sample - loss: 0.9556 - accuracy: 0.5431 - val_loss: 1.4038 - val_accuracy: 0.4000\n",
            "Epoch 46/50\n",
            "116/116 [==============================] - 0s 272us/sample - loss: 0.9521 - accuracy: 0.5690 - val_loss: 1.4060 - val_accuracy: 0.4000\n",
            "Epoch 47/50\n",
            "116/116 [==============================] - 0s 265us/sample - loss: 0.9483 - accuracy: 0.5690 - val_loss: 1.4067 - val_accuracy: 0.4000\n",
            "Epoch 48/50\n",
            "116/116 [==============================] - 0s 274us/sample - loss: 0.9465 - accuracy: 0.5690 - val_loss: 1.4048 - val_accuracy: 0.4000\n",
            "Epoch 49/50\n",
            "116/116 [==============================] - 0s 270us/sample - loss: 0.9431 - accuracy: 0.5776 - val_loss: 1.4043 - val_accuracy: 0.4000\n",
            "Epoch 50/50\n",
            "116/116 [==============================] - 0s 338us/sample - loss: 0.9408 - accuracy: 0.5690 - val_loss: 1.3977 - val_accuracy: 0.4000\n",
            "Train on 116 samples, validate on 15 samples\n",
            "Epoch 1/50\n",
            "116/116 [==============================] - 0s 3ms/sample - loss: 1.7679 - accuracy: 0.3190 - val_loss: 1.1784 - val_accuracy: 0.4667\n",
            "Epoch 2/50\n",
            "116/116 [==============================] - 0s 281us/sample - loss: 1.5744 - accuracy: 0.3276 - val_loss: 1.0813 - val_accuracy: 0.4667\n",
            "Epoch 3/50\n",
            "116/116 [==============================] - 0s 273us/sample - loss: 1.4292 - accuracy: 0.3621 - val_loss: 1.0226 - val_accuracy: 0.4667\n",
            "Epoch 4/50\n",
            "116/116 [==============================] - 0s 264us/sample - loss: 1.3264 - accuracy: 0.3534 - val_loss: 0.9869 - val_accuracy: 0.4667\n",
            "Epoch 5/50\n",
            "116/116 [==============================] - 0s 278us/sample - loss: 1.2432 - accuracy: 0.3534 - val_loss: 0.9603 - val_accuracy: 0.4667\n",
            "Epoch 6/50\n",
            "116/116 [==============================] - 0s 271us/sample - loss: 1.1890 - accuracy: 0.3534 - val_loss: 0.9503 - val_accuracy: 0.4000\n",
            "Epoch 7/50\n",
            "116/116 [==============================] - 0s 297us/sample - loss: 1.1484 - accuracy: 0.3707 - val_loss: 0.9459 - val_accuracy: 0.4667\n",
            "Epoch 8/50\n",
            "116/116 [==============================] - 0s 289us/sample - loss: 1.1171 - accuracy: 0.3707 - val_loss: 0.9446 - val_accuracy: 0.4667\n",
            "Epoch 9/50\n",
            "116/116 [==============================] - 0s 282us/sample - loss: 1.0918 - accuracy: 0.3793 - val_loss: 0.9437 - val_accuracy: 0.4667\n",
            "Epoch 10/50\n",
            "116/116 [==============================] - 0s 261us/sample - loss: 1.0715 - accuracy: 0.3621 - val_loss: 0.9475 - val_accuracy: 0.4667\n",
            "Epoch 11/50\n",
            "116/116 [==============================] - 0s 298us/sample - loss: 1.0552 - accuracy: 0.3621 - val_loss: 0.9483 - val_accuracy: 0.4667\n",
            "Epoch 12/50\n",
            "116/116 [==============================] - 0s 261us/sample - loss: 1.0457 - accuracy: 0.3621 - val_loss: 0.9633 - val_accuracy: 0.4667\n",
            "Epoch 13/50\n",
            "116/116 [==============================] - 0s 255us/sample - loss: 1.0335 - accuracy: 0.3621 - val_loss: 0.9554 - val_accuracy: 0.4667\n",
            "Epoch 14/50\n",
            "116/116 [==============================] - 0s 292us/sample - loss: 1.0237 - accuracy: 0.3707 - val_loss: 0.9614 - val_accuracy: 0.4667\n",
            "Epoch 15/50\n",
            "116/116 [==============================] - 0s 293us/sample - loss: 1.0147 - accuracy: 0.3793 - val_loss: 0.9575 - val_accuracy: 0.4667\n",
            "Epoch 16/50\n",
            "116/116 [==============================] - 0s 278us/sample - loss: 1.0082 - accuracy: 0.3793 - val_loss: 0.9579 - val_accuracy: 0.4667\n",
            "Epoch 17/50\n",
            "116/116 [==============================] - 0s 274us/sample - loss: 1.0023 - accuracy: 0.3707 - val_loss: 0.9640 - val_accuracy: 0.4667\n",
            "Epoch 18/50\n",
            "116/116 [==============================] - 0s 304us/sample - loss: 0.9971 - accuracy: 0.3793 - val_loss: 0.9709 - val_accuracy: 0.4667\n",
            "Epoch 19/50\n",
            "116/116 [==============================] - 0s 279us/sample - loss: 0.9915 - accuracy: 0.3534 - val_loss: 0.9696 - val_accuracy: 0.4667\n",
            "Epoch 20/50\n",
            "116/116 [==============================] - 0s 285us/sample - loss: 0.9880 - accuracy: 0.3448 - val_loss: 0.9737 - val_accuracy: 0.4667\n",
            "Epoch 21/50\n",
            "116/116 [==============================] - 0s 326us/sample - loss: 0.9843 - accuracy: 0.3534 - val_loss: 0.9802 - val_accuracy: 0.5333\n",
            "Epoch 22/50\n",
            "116/116 [==============================] - 0s 337us/sample - loss: 0.9814 - accuracy: 0.3793 - val_loss: 0.9719 - val_accuracy: 0.6000\n",
            "Epoch 23/50\n",
            "116/116 [==============================] - 0s 284us/sample - loss: 0.9759 - accuracy: 0.3966 - val_loss: 0.9832 - val_accuracy: 0.6000\n",
            "Epoch 24/50\n",
            "116/116 [==============================] - 0s 277us/sample - loss: 0.9724 - accuracy: 0.4483 - val_loss: 0.9873 - val_accuracy: 0.5333\n",
            "Epoch 25/50\n",
            "116/116 [==============================] - 0s 266us/sample - loss: 0.9694 - accuracy: 0.4483 - val_loss: 0.9878 - val_accuracy: 0.4667\n",
            "Epoch 26/50\n",
            "116/116 [==============================] - 0s 288us/sample - loss: 0.9677 - accuracy: 0.4828 - val_loss: 0.9960 - val_accuracy: 0.4000\n",
            "Epoch 27/50\n",
            "116/116 [==============================] - 0s 307us/sample - loss: 0.9648 - accuracy: 0.4655 - val_loss: 0.9953 - val_accuracy: 0.4000\n",
            "Epoch 28/50\n",
            "116/116 [==============================] - 0s 284us/sample - loss: 0.9616 - accuracy: 0.4741 - val_loss: 0.9951 - val_accuracy: 0.3333\n",
            "Epoch 29/50\n",
            "116/116 [==============================] - 0s 252us/sample - loss: 0.9589 - accuracy: 0.4741 - val_loss: 0.9979 - val_accuracy: 0.3333\n",
            "Epoch 30/50\n",
            "116/116 [==============================] - 0s 282us/sample - loss: 0.9571 - accuracy: 0.4914 - val_loss: 1.0013 - val_accuracy: 0.3333\n",
            "Epoch 31/50\n",
            "116/116 [==============================] - 0s 277us/sample - loss: 0.9542 - accuracy: 0.5000 - val_loss: 1.0007 - val_accuracy: 0.3333\n",
            "Epoch 32/50\n",
            "116/116 [==============================] - 0s 301us/sample - loss: 0.9522 - accuracy: 0.4914 - val_loss: 1.0091 - val_accuracy: 0.3333\n",
            "Epoch 33/50\n",
            "116/116 [==============================] - 0s 310us/sample - loss: 0.9498 - accuracy: 0.4914 - val_loss: 1.0129 - val_accuracy: 0.3333\n",
            "Epoch 34/50\n",
            "116/116 [==============================] - 0s 288us/sample - loss: 0.9476 - accuracy: 0.5000 - val_loss: 1.0153 - val_accuracy: 0.3333\n",
            "Epoch 35/50\n",
            "116/116 [==============================] - 0s 316us/sample - loss: 0.9447 - accuracy: 0.5000 - val_loss: 1.0168 - val_accuracy: 0.3333\n",
            "Epoch 36/50\n",
            "116/116 [==============================] - 0s 303us/sample - loss: 0.9426 - accuracy: 0.4914 - val_loss: 1.0261 - val_accuracy: 0.4000\n",
            "Epoch 37/50\n",
            "116/116 [==============================] - 0s 281us/sample - loss: 0.9405 - accuracy: 0.5000 - val_loss: 1.0327 - val_accuracy: 0.3333\n",
            "Epoch 38/50\n",
            "116/116 [==============================] - 0s 267us/sample - loss: 0.9379 - accuracy: 0.5000 - val_loss: 1.0361 - val_accuracy: 0.3333\n",
            "Epoch 39/50\n",
            "116/116 [==============================] - 0s 301us/sample - loss: 0.9363 - accuracy: 0.5000 - val_loss: 1.0436 - val_accuracy: 0.3333\n",
            "Epoch 40/50\n",
            "116/116 [==============================] - 0s 314us/sample - loss: 0.9358 - accuracy: 0.5086 - val_loss: 1.0461 - val_accuracy: 0.4000\n",
            "Epoch 41/50\n",
            "116/116 [==============================] - 0s 291us/sample - loss: 0.9342 - accuracy: 0.5259 - val_loss: 1.0484 - val_accuracy: 0.3333\n",
            "Epoch 42/50\n",
            "116/116 [==============================] - 0s 277us/sample - loss: 0.9327 - accuracy: 0.5172 - val_loss: 1.0582 - val_accuracy: 0.3333\n",
            "Epoch 43/50\n",
            "116/116 [==============================] - 0s 275us/sample - loss: 0.9304 - accuracy: 0.5172 - val_loss: 1.0567 - val_accuracy: 0.3333\n",
            "Epoch 44/50\n",
            "116/116 [==============================] - 0s 280us/sample - loss: 0.9277 - accuracy: 0.5172 - val_loss: 1.0610 - val_accuracy: 0.3333\n",
            "Epoch 45/50\n",
            "116/116 [==============================] - 0s 283us/sample - loss: 0.9259 - accuracy: 0.5259 - val_loss: 1.0613 - val_accuracy: 0.3333\n",
            "Epoch 46/50\n",
            "116/116 [==============================] - 0s 238us/sample - loss: 0.9245 - accuracy: 0.5259 - val_loss: 1.0632 - val_accuracy: 0.3333\n",
            "Epoch 47/50\n",
            "116/116 [==============================] - 0s 283us/sample - loss: 0.9229 - accuracy: 0.5172 - val_loss: 1.0652 - val_accuracy: 0.3333\n",
            "Epoch 48/50\n",
            "116/116 [==============================] - 0s 261us/sample - loss: 0.9234 - accuracy: 0.5259 - val_loss: 1.0676 - val_accuracy: 0.3333\n",
            "Epoch 49/50\n",
            "116/116 [==============================] - 0s 269us/sample - loss: 0.9214 - accuracy: 0.5172 - val_loss: 1.0722 - val_accuracy: 0.3333\n",
            "Epoch 50/50\n",
            "116/116 [==============================] - 0s 265us/sample - loss: 0.9200 - accuracy: 0.5172 - val_loss: 1.0723 - val_accuracy: 0.3333\n"
          ],
          "name": "stdout"
        },
        {
          "output_type": "display_data",
          "data": {
            "text/html": [
              "<span style=\"color:#4527A0\"><h1 style=\"font-size:18px\">Trial complete</h1></span>"
            ],
            "text/plain": [
              "<IPython.core.display.HTML object>"
            ]
          },
          "metadata": {
            "tags": []
          }
        },
        {
          "output_type": "display_data",
          "data": {
            "text/html": [
              "<span style=\"color:#4527A0\"><h1 style=\"font-size:18px\">Trial summary</h1></span>"
            ],
            "text/plain": [
              "<IPython.core.display.HTML object>"
            ]
          },
          "metadata": {
            "tags": []
          }
        },
        {
          "output_type": "display_data",
          "data": {
            "text/html": [
              "<span style=\"color:#7E57C2\"><h2 style=\"font-size:16px\">Hp values:</h2></span>"
            ],
            "text/plain": [
              "<IPython.core.display.HTML object>"
            ]
          },
          "metadata": {
            "tags": []
          }
        },
        {
          "output_type": "display_data",
          "data": {
            "text/html": [
              "<span style=\"color:cyan\"> |-learning_rate: 0.001</span>"
            ],
            "text/plain": [
              "<IPython.core.display.HTML object>"
            ]
          },
          "metadata": {
            "tags": []
          }
        },
        {
          "output_type": "display_data",
          "data": {
            "text/html": [
              "<span style=\"color:blue\"> |-momentum: 0.8</span>"
            ],
            "text/plain": [
              "<IPython.core.display.HTML object>"
            ]
          },
          "metadata": {
            "tags": []
          }
        },
        {
          "output_type": "display_data",
          "data": {
            "text/html": [
              "<span style=\"color:cyan\"> |-Score: 0.4444444477558136</span>"
            ],
            "text/plain": [
              "<IPython.core.display.HTML object>"
            ]
          },
          "metadata": {
            "tags": []
          }
        },
        {
          "output_type": "display_data",
          "data": {
            "text/html": [
              "<span style=\"color:cyan\"> |-Best step: 0</span>"
            ],
            "text/plain": [
              "<IPython.core.display.HTML object>"
            ]
          },
          "metadata": {
            "tags": []
          }
        },
        {
          "output_type": "stream",
          "text": [
            "Train on 116 samples, validate on 15 samples\n",
            "Epoch 1/50\n",
            "116/116 [==============================] - 0s 3ms/sample - loss: 2.2950 - accuracy: 0.4310 - val_loss: 2.3061 - val_accuracy: 0.3333\n",
            "Epoch 2/50\n",
            "116/116 [==============================] - 0s 393us/sample - loss: 2.2829 - accuracy: 0.4397 - val_loss: 2.2925 - val_accuracy: 0.3333\n",
            "Epoch 3/50\n",
            "116/116 [==============================] - 0s 381us/sample - loss: 2.2702 - accuracy: 0.4397 - val_loss: 2.2793 - val_accuracy: 0.3333\n",
            "Epoch 4/50\n",
            "116/116 [==============================] - 0s 322us/sample - loss: 2.2579 - accuracy: 0.4397 - val_loss: 2.2654 - val_accuracy: 0.3333\n",
            "Epoch 5/50\n",
            "116/116 [==============================] - 0s 290us/sample - loss: 2.2455 - accuracy: 0.4397 - val_loss: 2.2513 - val_accuracy: 0.3333\n",
            "Epoch 6/50\n",
            "116/116 [==============================] - 0s 265us/sample - loss: 2.2335 - accuracy: 0.4397 - val_loss: 2.2370 - val_accuracy: 0.3333\n",
            "Epoch 7/50\n",
            "116/116 [==============================] - 0s 294us/sample - loss: 2.2215 - accuracy: 0.4397 - val_loss: 2.2238 - val_accuracy: 0.3333\n",
            "Epoch 8/50\n",
            "116/116 [==============================] - 0s 315us/sample - loss: 2.2091 - accuracy: 0.4397 - val_loss: 2.2098 - val_accuracy: 0.3333\n",
            "Epoch 9/50\n",
            "116/116 [==============================] - 0s 312us/sample - loss: 2.1971 - accuracy: 0.4310 - val_loss: 2.1952 - val_accuracy: 0.3333\n",
            "Epoch 10/50\n",
            "116/116 [==============================] - 0s 280us/sample - loss: 2.1854 - accuracy: 0.4224 - val_loss: 2.1814 - val_accuracy: 0.3333\n",
            "Epoch 11/50\n",
            "116/116 [==============================] - 0s 284us/sample - loss: 2.1733 - accuracy: 0.4397 - val_loss: 2.1679 - val_accuracy: 0.3333\n",
            "Epoch 12/50\n",
            "116/116 [==============================] - 0s 269us/sample - loss: 2.1616 - accuracy: 0.4483 - val_loss: 2.1538 - val_accuracy: 0.3333\n",
            "Epoch 13/50\n",
            "116/116 [==============================] - 0s 270us/sample - loss: 2.1499 - accuracy: 0.4397 - val_loss: 2.1404 - val_accuracy: 0.3333\n",
            "Epoch 14/50\n",
            "116/116 [==============================] - 0s 296us/sample - loss: 2.1385 - accuracy: 0.4483 - val_loss: 2.1268 - val_accuracy: 0.3333\n",
            "Epoch 15/50\n",
            "116/116 [==============================] - 0s 263us/sample - loss: 2.1268 - accuracy: 0.4655 - val_loss: 2.1131 - val_accuracy: 0.3333\n",
            "Epoch 16/50\n",
            "116/116 [==============================] - 0s 302us/sample - loss: 2.1147 - accuracy: 0.4655 - val_loss: 2.1003 - val_accuracy: 0.3333\n",
            "Epoch 17/50\n",
            "116/116 [==============================] - 0s 323us/sample - loss: 2.1031 - accuracy: 0.4655 - val_loss: 2.0858 - val_accuracy: 0.3333\n",
            "Epoch 18/50\n",
            "116/116 [==============================] - 0s 272us/sample - loss: 2.0914 - accuracy: 0.4655 - val_loss: 2.0722 - val_accuracy: 0.3333\n",
            "Epoch 19/50\n",
            "116/116 [==============================] - 0s 277us/sample - loss: 2.0799 - accuracy: 0.4655 - val_loss: 2.0587 - val_accuracy: 0.3333\n",
            "Epoch 20/50\n",
            "116/116 [==============================] - 0s 303us/sample - loss: 2.0685 - accuracy: 0.4655 - val_loss: 2.0460 - val_accuracy: 0.3333\n",
            "Epoch 21/50\n",
            "116/116 [==============================] - 0s 311us/sample - loss: 2.0567 - accuracy: 0.4655 - val_loss: 2.0319 - val_accuracy: 0.3333\n",
            "Epoch 22/50\n",
            "116/116 [==============================] - 0s 284us/sample - loss: 2.0449 - accuracy: 0.4655 - val_loss: 2.0181 - val_accuracy: 0.3333\n",
            "Epoch 23/50\n",
            "116/116 [==============================] - 0s 289us/sample - loss: 2.0338 - accuracy: 0.4655 - val_loss: 2.0052 - val_accuracy: 0.3333\n",
            "Epoch 24/50\n",
            "116/116 [==============================] - 0s 280us/sample - loss: 2.0231 - accuracy: 0.4655 - val_loss: 1.9918 - val_accuracy: 0.3333\n",
            "Epoch 25/50\n",
            "116/116 [==============================] - 0s 325us/sample - loss: 2.0119 - accuracy: 0.4655 - val_loss: 1.9799 - val_accuracy: 0.3333\n",
            "Epoch 26/50\n",
            "116/116 [==============================] - 0s 318us/sample - loss: 2.0012 - accuracy: 0.4655 - val_loss: 1.9671 - val_accuracy: 0.3333\n",
            "Epoch 27/50\n",
            "116/116 [==============================] - 0s 307us/sample - loss: 1.9901 - accuracy: 0.4655 - val_loss: 1.9547 - val_accuracy: 0.3333\n",
            "Epoch 28/50\n",
            "116/116 [==============================] - 0s 305us/sample - loss: 1.9788 - accuracy: 0.4655 - val_loss: 1.9432 - val_accuracy: 0.3333\n",
            "Epoch 29/50\n",
            "116/116 [==============================] - 0s 305us/sample - loss: 1.9676 - accuracy: 0.4655 - val_loss: 1.9300 - val_accuracy: 0.3333\n",
            "Epoch 30/50\n",
            "116/116 [==============================] - 0s 281us/sample - loss: 1.9571 - accuracy: 0.4655 - val_loss: 1.9184 - val_accuracy: 0.3333\n",
            "Epoch 31/50\n",
            "116/116 [==============================] - 0s 307us/sample - loss: 1.9469 - accuracy: 0.4655 - val_loss: 1.9068 - val_accuracy: 0.3333\n",
            "Epoch 32/50\n",
            "116/116 [==============================] - 0s 305us/sample - loss: 1.9367 - accuracy: 0.4655 - val_loss: 1.8952 - val_accuracy: 0.3333\n",
            "Epoch 33/50\n",
            "116/116 [==============================] - 0s 273us/sample - loss: 1.9268 - accuracy: 0.4655 - val_loss: 1.8836 - val_accuracy: 0.3333\n",
            "Epoch 34/50\n",
            "116/116 [==============================] - 0s 267us/sample - loss: 1.9163 - accuracy: 0.4569 - val_loss: 1.8711 - val_accuracy: 0.3333\n",
            "Epoch 35/50\n",
            "116/116 [==============================] - 0s 282us/sample - loss: 1.9064 - accuracy: 0.4569 - val_loss: 1.8599 - val_accuracy: 0.3333\n",
            "Epoch 36/50\n",
            "116/116 [==============================] - 0s 276us/sample - loss: 1.8966 - accuracy: 0.4569 - val_loss: 1.8490 - val_accuracy: 0.3333\n",
            "Epoch 37/50\n",
            "116/116 [==============================] - 0s 285us/sample - loss: 1.8869 - accuracy: 0.4569 - val_loss: 1.8376 - val_accuracy: 0.3333\n",
            "Epoch 38/50\n",
            "116/116 [==============================] - 0s 284us/sample - loss: 1.8763 - accuracy: 0.4569 - val_loss: 1.8257 - val_accuracy: 0.3333\n",
            "Epoch 39/50\n",
            "116/116 [==============================] - 0s 268us/sample - loss: 1.8667 - accuracy: 0.4569 - val_loss: 1.8147 - val_accuracy: 0.3333\n",
            "Epoch 40/50\n",
            "116/116 [==============================] - 0s 261us/sample - loss: 1.8566 - accuracy: 0.4569 - val_loss: 1.8039 - val_accuracy: 0.3333\n",
            "Epoch 41/50\n",
            "116/116 [==============================] - 0s 282us/sample - loss: 1.8472 - accuracy: 0.4569 - val_loss: 1.7920 - val_accuracy: 0.3333\n",
            "Epoch 42/50\n",
            "116/116 [==============================] - 0s 288us/sample - loss: 1.8376 - accuracy: 0.4569 - val_loss: 1.7818 - val_accuracy: 0.3333\n",
            "Epoch 43/50\n",
            "116/116 [==============================] - 0s 262us/sample - loss: 1.8278 - accuracy: 0.4569 - val_loss: 1.7708 - val_accuracy: 0.3333\n",
            "Epoch 44/50\n",
            "116/116 [==============================] - 0s 271us/sample - loss: 1.8182 - accuracy: 0.4569 - val_loss: 1.7596 - val_accuracy: 0.3333\n",
            "Epoch 45/50\n",
            "116/116 [==============================] - 0s 296us/sample - loss: 1.8088 - accuracy: 0.4569 - val_loss: 1.7491 - val_accuracy: 0.3333\n",
            "Epoch 46/50\n",
            "116/116 [==============================] - 0s 277us/sample - loss: 1.8001 - accuracy: 0.4483 - val_loss: 1.7394 - val_accuracy: 0.3333\n",
            "Epoch 47/50\n",
            "116/116 [==============================] - 0s 271us/sample - loss: 1.7912 - accuracy: 0.4483 - val_loss: 1.7282 - val_accuracy: 0.3333\n",
            "Epoch 48/50\n",
            "116/116 [==============================] - 0s 288us/sample - loss: 1.7802 - accuracy: 0.4483 - val_loss: 1.7163 - val_accuracy: 0.3333\n",
            "Epoch 49/50\n",
            "116/116 [==============================] - 0s 349us/sample - loss: 1.7708 - accuracy: 0.4483 - val_loss: 1.7050 - val_accuracy: 0.3333\n",
            "Epoch 50/50\n",
            "116/116 [==============================] - 0s 295us/sample - loss: 1.7619 - accuracy: 0.4483 - val_loss: 1.6946 - val_accuracy: 0.3333\n",
            "Train on 116 samples, validate on 15 samples\n",
            "Epoch 1/50\n",
            "116/116 [==============================] - 0s 3ms/sample - loss: 2.9228 - accuracy: 0.3276 - val_loss: 1.6947 - val_accuracy: 0.6000\n",
            "Epoch 2/50\n",
            "116/116 [==============================] - 0s 287us/sample - loss: 2.8975 - accuracy: 0.3276 - val_loss: 1.6790 - val_accuracy: 0.6000\n",
            "Epoch 3/50\n",
            "116/116 [==============================] - 0s 320us/sample - loss: 2.8727 - accuracy: 0.3276 - val_loss: 1.6630 - val_accuracy: 0.6667\n",
            "Epoch 4/50\n",
            "116/116 [==============================] - 0s 265us/sample - loss: 2.8475 - accuracy: 0.3276 - val_loss: 1.6489 - val_accuracy: 0.6667\n",
            "Epoch 5/50\n",
            "116/116 [==============================] - 0s 272us/sample - loss: 2.8230 - accuracy: 0.3362 - val_loss: 1.6336 - val_accuracy: 0.6667\n",
            "Epoch 6/50\n",
            "116/116 [==============================] - 0s 297us/sample - loss: 2.7975 - accuracy: 0.3362 - val_loss: 1.6181 - val_accuracy: 0.6667\n",
            "Epoch 7/50\n",
            "116/116 [==============================] - 0s 297us/sample - loss: 2.7728 - accuracy: 0.3276 - val_loss: 1.6030 - val_accuracy: 0.6667\n",
            "Epoch 8/50\n",
            "116/116 [==============================] - 0s 329us/sample - loss: 2.7490 - accuracy: 0.3276 - val_loss: 1.5899 - val_accuracy: 0.6667\n",
            "Epoch 9/50\n",
            "116/116 [==============================] - 0s 314us/sample - loss: 2.7251 - accuracy: 0.3276 - val_loss: 1.5751 - val_accuracy: 0.6667\n",
            "Epoch 10/50\n",
            "116/116 [==============================] - 0s 309us/sample - loss: 2.7022 - accuracy: 0.3276 - val_loss: 1.5617 - val_accuracy: 0.6667\n",
            "Epoch 11/50\n",
            "116/116 [==============================] - 0s 275us/sample - loss: 2.6782 - accuracy: 0.3276 - val_loss: 1.5491 - val_accuracy: 0.6667\n",
            "Epoch 12/50\n",
            "116/116 [==============================] - 0s 267us/sample - loss: 2.6547 - accuracy: 0.3276 - val_loss: 1.5357 - val_accuracy: 0.6667\n",
            "Epoch 13/50\n",
            "116/116 [==============================] - 0s 287us/sample - loss: 2.6312 - accuracy: 0.3276 - val_loss: 1.5211 - val_accuracy: 0.6667\n",
            "Epoch 14/50\n",
            "116/116 [==============================] - 0s 303us/sample - loss: 2.6089 - accuracy: 0.3276 - val_loss: 1.5094 - val_accuracy: 0.6667\n",
            "Epoch 15/50\n",
            "116/116 [==============================] - 0s 318us/sample - loss: 2.5868 - accuracy: 0.3276 - val_loss: 1.4973 - val_accuracy: 0.6667\n",
            "Epoch 16/50\n",
            "116/116 [==============================] - 0s 296us/sample - loss: 2.5645 - accuracy: 0.3362 - val_loss: 1.4846 - val_accuracy: 0.6667\n",
            "Epoch 17/50\n",
            "116/116 [==============================] - 0s 274us/sample - loss: 2.5422 - accuracy: 0.3362 - val_loss: 1.4740 - val_accuracy: 0.6667\n",
            "Epoch 18/50\n",
            "116/116 [==============================] - 0s 298us/sample - loss: 2.5205 - accuracy: 0.3362 - val_loss: 1.4619 - val_accuracy: 0.6667\n",
            "Epoch 19/50\n",
            "116/116 [==============================] - 0s 264us/sample - loss: 2.4978 - accuracy: 0.3362 - val_loss: 1.4498 - val_accuracy: 0.6667\n",
            "Epoch 20/50\n",
            "116/116 [==============================] - 0s 277us/sample - loss: 2.4762 - accuracy: 0.3362 - val_loss: 1.4380 - val_accuracy: 0.6667\n",
            "Epoch 21/50\n",
            "116/116 [==============================] - 0s 245us/sample - loss: 2.4545 - accuracy: 0.3362 - val_loss: 1.4266 - val_accuracy: 0.6667\n",
            "Epoch 22/50\n",
            "116/116 [==============================] - 0s 278us/sample - loss: 2.4336 - accuracy: 0.3448 - val_loss: 1.4158 - val_accuracy: 0.6667\n",
            "Epoch 23/50\n",
            "116/116 [==============================] - 0s 268us/sample - loss: 2.4126 - accuracy: 0.3448 - val_loss: 1.4049 - val_accuracy: 0.6667\n",
            "Epoch 24/50\n",
            "116/116 [==============================] - 0s 282us/sample - loss: 2.3926 - accuracy: 0.3448 - val_loss: 1.3946 - val_accuracy: 0.6667\n",
            "Epoch 25/50\n",
            "116/116 [==============================] - 0s 283us/sample - loss: 2.3710 - accuracy: 0.3448 - val_loss: 1.3833 - val_accuracy: 0.6667\n",
            "Epoch 26/50\n",
            "116/116 [==============================] - 0s 281us/sample - loss: 2.3508 - accuracy: 0.3448 - val_loss: 1.3724 - val_accuracy: 0.6667\n",
            "Epoch 27/50\n",
            "116/116 [==============================] - 0s 330us/sample - loss: 2.3298 - accuracy: 0.3448 - val_loss: 1.3609 - val_accuracy: 0.6667\n",
            "Epoch 28/50\n",
            "116/116 [==============================] - 0s 296us/sample - loss: 2.3092 - accuracy: 0.3448 - val_loss: 1.3503 - val_accuracy: 0.6667\n",
            "Epoch 29/50\n",
            "116/116 [==============================] - 0s 304us/sample - loss: 2.2896 - accuracy: 0.3534 - val_loss: 1.3416 - val_accuracy: 0.6667\n",
            "Epoch 30/50\n",
            "116/116 [==============================] - 0s 299us/sample - loss: 2.2705 - accuracy: 0.3534 - val_loss: 1.3321 - val_accuracy: 0.6667\n",
            "Epoch 31/50\n",
            "116/116 [==============================] - 0s 278us/sample - loss: 2.2519 - accuracy: 0.3621 - val_loss: 1.3227 - val_accuracy: 0.6667\n",
            "Epoch 32/50\n",
            "116/116 [==============================] - 0s 240us/sample - loss: 2.2329 - accuracy: 0.3621 - val_loss: 1.3138 - val_accuracy: 0.6667\n",
            "Epoch 33/50\n",
            "116/116 [==============================] - 0s 249us/sample - loss: 2.2144 - accuracy: 0.3621 - val_loss: 1.3034 - val_accuracy: 0.6667\n",
            "Epoch 34/50\n",
            "116/116 [==============================] - 0s 274us/sample - loss: 2.1961 - accuracy: 0.3621 - val_loss: 1.2943 - val_accuracy: 0.6667\n",
            "Epoch 35/50\n",
            "116/116 [==============================] - 0s 265us/sample - loss: 2.1781 - accuracy: 0.3621 - val_loss: 1.2855 - val_accuracy: 0.6667\n",
            "Epoch 36/50\n",
            "116/116 [==============================] - 0s 272us/sample - loss: 2.1600 - accuracy: 0.3621 - val_loss: 1.2769 - val_accuracy: 0.6667\n",
            "Epoch 37/50\n",
            "116/116 [==============================] - 0s 324us/sample - loss: 2.1432 - accuracy: 0.3621 - val_loss: 1.2693 - val_accuracy: 0.7333\n",
            "Epoch 38/50\n",
            "116/116 [==============================] - 0s 289us/sample - loss: 2.1273 - accuracy: 0.3621 - val_loss: 1.2613 - val_accuracy: 0.7333\n",
            "Epoch 39/50\n",
            "116/116 [==============================] - 0s 284us/sample - loss: 2.1101 - accuracy: 0.3621 - val_loss: 1.2532 - val_accuracy: 0.7333\n",
            "Epoch 40/50\n",
            "116/116 [==============================] - 0s 303us/sample - loss: 2.0940 - accuracy: 0.3621 - val_loss: 1.2450 - val_accuracy: 0.7333\n",
            "Epoch 41/50\n",
            "116/116 [==============================] - 0s 270us/sample - loss: 2.0780 - accuracy: 0.3621 - val_loss: 1.2375 - val_accuracy: 0.7333\n",
            "Epoch 42/50\n",
            "116/116 [==============================] - 0s 261us/sample - loss: 2.0627 - accuracy: 0.3707 - val_loss: 1.2295 - val_accuracy: 0.7333\n",
            "Epoch 43/50\n",
            "116/116 [==============================] - 0s 295us/sample - loss: 2.0463 - accuracy: 0.3793 - val_loss: 1.2234 - val_accuracy: 0.7333\n",
            "Epoch 44/50\n",
            "116/116 [==============================] - 0s 294us/sample - loss: 2.0315 - accuracy: 0.3793 - val_loss: 1.2165 - val_accuracy: 0.7333\n",
            "Epoch 45/50\n",
            "116/116 [==============================] - 0s 280us/sample - loss: 2.0171 - accuracy: 0.3793 - val_loss: 1.2091 - val_accuracy: 0.7333\n",
            "Epoch 46/50\n",
            "116/116 [==============================] - 0s 358us/sample - loss: 2.0024 - accuracy: 0.3793 - val_loss: 1.2024 - val_accuracy: 0.7333\n",
            "Epoch 47/50\n",
            "116/116 [==============================] - 0s 282us/sample - loss: 1.9883 - accuracy: 0.3793 - val_loss: 1.1961 - val_accuracy: 0.7333\n",
            "Epoch 48/50\n",
            "116/116 [==============================] - 0s 293us/sample - loss: 1.9746 - accuracy: 0.3793 - val_loss: 1.1903 - val_accuracy: 0.7333\n",
            "Epoch 49/50\n",
            "116/116 [==============================] - 0s 267us/sample - loss: 1.9609 - accuracy: 0.3879 - val_loss: 1.1842 - val_accuracy: 0.7333\n",
            "Epoch 50/50\n",
            "116/116 [==============================] - 0s 274us/sample - loss: 1.9469 - accuracy: 0.3879 - val_loss: 1.1782 - val_accuracy: 0.7333\n",
            "Train on 116 samples, validate on 15 samples\n",
            "Epoch 1/50\n",
            "116/116 [==============================] - 0s 3ms/sample - loss: 1.7171 - accuracy: 0.3017 - val_loss: 2.2869 - val_accuracy: 0.2000\n",
            "Epoch 2/50\n",
            "116/116 [==============================] - 0s 300us/sample - loss: 1.7092 - accuracy: 0.3017 - val_loss: 2.2735 - val_accuracy: 0.2000\n",
            "Epoch 3/50\n",
            "116/116 [==============================] - 0s 271us/sample - loss: 1.7012 - accuracy: 0.3017 - val_loss: 2.2605 - val_accuracy: 0.2000\n",
            "Epoch 4/50\n",
            "116/116 [==============================] - 0s 278us/sample - loss: 1.6934 - accuracy: 0.3017 - val_loss: 2.2487 - val_accuracy: 0.2000\n",
            "Epoch 5/50\n",
            "116/116 [==============================] - 0s 272us/sample - loss: 1.6856 - accuracy: 0.3017 - val_loss: 2.2363 - val_accuracy: 0.2000\n",
            "Epoch 6/50\n",
            "116/116 [==============================] - 0s 310us/sample - loss: 1.6780 - accuracy: 0.3017 - val_loss: 2.2239 - val_accuracy: 0.2000\n",
            "Epoch 7/50\n",
            "116/116 [==============================] - 0s 263us/sample - loss: 1.6699 - accuracy: 0.3017 - val_loss: 2.2114 - val_accuracy: 0.2000\n",
            "Epoch 8/50\n",
            "116/116 [==============================] - 0s 280us/sample - loss: 1.6625 - accuracy: 0.3103 - val_loss: 2.1985 - val_accuracy: 0.2000\n",
            "Epoch 9/50\n",
            "116/116 [==============================] - 0s 282us/sample - loss: 1.6545 - accuracy: 0.3103 - val_loss: 2.1861 - val_accuracy: 0.2000\n",
            "Epoch 10/50\n",
            "116/116 [==============================] - 0s 308us/sample - loss: 1.6472 - accuracy: 0.3103 - val_loss: 2.1748 - val_accuracy: 0.2000\n",
            "Epoch 11/50\n",
            "116/116 [==============================] - 0s 255us/sample - loss: 1.6401 - accuracy: 0.3190 - val_loss: 2.1626 - val_accuracy: 0.2000\n",
            "Epoch 12/50\n",
            "116/116 [==============================] - 0s 254us/sample - loss: 1.6328 - accuracy: 0.3190 - val_loss: 2.1515 - val_accuracy: 0.2000\n",
            "Epoch 13/50\n",
            "116/116 [==============================] - 0s 285us/sample - loss: 1.6255 - accuracy: 0.3190 - val_loss: 2.1403 - val_accuracy: 0.2000\n",
            "Epoch 14/50\n",
            "116/116 [==============================] - 0s 258us/sample - loss: 1.6185 - accuracy: 0.3190 - val_loss: 2.1290 - val_accuracy: 0.2000\n",
            "Epoch 15/50\n",
            "116/116 [==============================] - 0s 266us/sample - loss: 1.6114 - accuracy: 0.3190 - val_loss: 2.1170 - val_accuracy: 0.2000\n",
            "Epoch 16/50\n",
            "116/116 [==============================] - 0s 324us/sample - loss: 1.6045 - accuracy: 0.3190 - val_loss: 2.1059 - val_accuracy: 0.2000\n",
            "Epoch 17/50\n",
            "116/116 [==============================] - 0s 254us/sample - loss: 1.5972 - accuracy: 0.3276 - val_loss: 2.0945 - val_accuracy: 0.2000\n",
            "Epoch 18/50\n",
            "116/116 [==============================] - 0s 253us/sample - loss: 1.5904 - accuracy: 0.3362 - val_loss: 2.0828 - val_accuracy: 0.2000\n",
            "Epoch 19/50\n",
            "116/116 [==============================] - 0s 260us/sample - loss: 1.5837 - accuracy: 0.3362 - val_loss: 2.0726 - val_accuracy: 0.2000\n",
            "Epoch 20/50\n",
            "116/116 [==============================] - 0s 286us/sample - loss: 1.5770 - accuracy: 0.3362 - val_loss: 2.0612 - val_accuracy: 0.2000\n",
            "Epoch 21/50\n",
            "116/116 [==============================] - 0s 279us/sample - loss: 1.5704 - accuracy: 0.3362 - val_loss: 2.0511 - val_accuracy: 0.2000\n",
            "Epoch 22/50\n",
            "116/116 [==============================] - 0s 299us/sample - loss: 1.5640 - accuracy: 0.3362 - val_loss: 2.0406 - val_accuracy: 0.2000\n",
            "Epoch 23/50\n",
            "116/116 [==============================] - 0s 282us/sample - loss: 1.5576 - accuracy: 0.3362 - val_loss: 2.0295 - val_accuracy: 0.2000\n",
            "Epoch 24/50\n",
            "116/116 [==============================] - 0s 294us/sample - loss: 1.5510 - accuracy: 0.3362 - val_loss: 2.0192 - val_accuracy: 0.2000\n",
            "Epoch 25/50\n",
            "116/116 [==============================] - 0s 289us/sample - loss: 1.5445 - accuracy: 0.3362 - val_loss: 2.0078 - val_accuracy: 0.2000\n",
            "Epoch 26/50\n",
            "116/116 [==============================] - 0s 288us/sample - loss: 1.5381 - accuracy: 0.3362 - val_loss: 1.9978 - val_accuracy: 0.2000\n",
            "Epoch 27/50\n",
            "116/116 [==============================] - 0s 287us/sample - loss: 1.5317 - accuracy: 0.3362 - val_loss: 1.9871 - val_accuracy: 0.2000\n",
            "Epoch 28/50\n",
            "116/116 [==============================] - 0s 268us/sample - loss: 1.5252 - accuracy: 0.3362 - val_loss: 1.9754 - val_accuracy: 0.2000\n",
            "Epoch 29/50\n",
            "116/116 [==============================] - 0s 331us/sample - loss: 1.5191 - accuracy: 0.3362 - val_loss: 1.9656 - val_accuracy: 0.2000\n",
            "Epoch 30/50\n",
            "116/116 [==============================] - 0s 299us/sample - loss: 1.5129 - accuracy: 0.3362 - val_loss: 1.9552 - val_accuracy: 0.2000\n",
            "Epoch 31/50\n",
            "116/116 [==============================] - 0s 306us/sample - loss: 1.5070 - accuracy: 0.3362 - val_loss: 1.9464 - val_accuracy: 0.2000\n",
            "Epoch 32/50\n",
            "116/116 [==============================] - 0s 268us/sample - loss: 1.5011 - accuracy: 0.3362 - val_loss: 1.9360 - val_accuracy: 0.2000\n",
            "Epoch 33/50\n",
            "116/116 [==============================] - 0s 241us/sample - loss: 1.4951 - accuracy: 0.3362 - val_loss: 1.9268 - val_accuracy: 0.2000\n",
            "Epoch 34/50\n",
            "116/116 [==============================] - 0s 281us/sample - loss: 1.4894 - accuracy: 0.3362 - val_loss: 1.9172 - val_accuracy: 0.2000\n",
            "Epoch 35/50\n",
            "116/116 [==============================] - 0s 335us/sample - loss: 1.4835 - accuracy: 0.3362 - val_loss: 1.9072 - val_accuracy: 0.2000\n",
            "Epoch 36/50\n",
            "116/116 [==============================] - 0s 242us/sample - loss: 1.4778 - accuracy: 0.3362 - val_loss: 1.8979 - val_accuracy: 0.2000\n",
            "Epoch 37/50\n",
            "116/116 [==============================] - 0s 266us/sample - loss: 1.4722 - accuracy: 0.3362 - val_loss: 1.8890 - val_accuracy: 0.2667\n",
            "Epoch 38/50\n",
            "116/116 [==============================] - 0s 247us/sample - loss: 1.4667 - accuracy: 0.3448 - val_loss: 1.8785 - val_accuracy: 0.2667\n",
            "Epoch 39/50\n",
            "116/116 [==============================] - 0s 270us/sample - loss: 1.4611 - accuracy: 0.3448 - val_loss: 1.8697 - val_accuracy: 0.2667\n",
            "Epoch 40/50\n",
            "116/116 [==============================] - 0s 260us/sample - loss: 1.4558 - accuracy: 0.3448 - val_loss: 1.8616 - val_accuracy: 0.2667\n",
            "Epoch 41/50\n",
            "116/116 [==============================] - 0s 295us/sample - loss: 1.4503 - accuracy: 0.3448 - val_loss: 1.8515 - val_accuracy: 0.2667\n",
            "Epoch 42/50\n",
            "116/116 [==============================] - 0s 257us/sample - loss: 1.4448 - accuracy: 0.3362 - val_loss: 1.8433 - val_accuracy: 0.2667\n",
            "Epoch 43/50\n",
            "116/116 [==============================] - 0s 267us/sample - loss: 1.4396 - accuracy: 0.3362 - val_loss: 1.8342 - val_accuracy: 0.2667\n",
            "Epoch 44/50\n",
            "116/116 [==============================] - 0s 259us/sample - loss: 1.4346 - accuracy: 0.3362 - val_loss: 1.8256 - val_accuracy: 0.2667\n",
            "Epoch 45/50\n",
            "116/116 [==============================] - 0s 252us/sample - loss: 1.4294 - accuracy: 0.3362 - val_loss: 1.8171 - val_accuracy: 0.2667\n",
            "Epoch 46/50\n",
            "116/116 [==============================] - 0s 287us/sample - loss: 1.4243 - accuracy: 0.3362 - val_loss: 1.8084 - val_accuracy: 0.2667\n",
            "Epoch 47/50\n",
            "116/116 [==============================] - 0s 308us/sample - loss: 1.4192 - accuracy: 0.3362 - val_loss: 1.7999 - val_accuracy: 0.2667\n",
            "Epoch 48/50\n",
            "116/116 [==============================] - 0s 304us/sample - loss: 1.4142 - accuracy: 0.3362 - val_loss: 1.7910 - val_accuracy: 0.2667\n",
            "Epoch 49/50\n",
            "116/116 [==============================] - 0s 269us/sample - loss: 1.4091 - accuracy: 0.3362 - val_loss: 1.7833 - val_accuracy: 0.2667\n",
            "Epoch 50/50\n",
            "116/116 [==============================] - 0s 282us/sample - loss: 1.4043 - accuracy: 0.3362 - val_loss: 1.7750 - val_accuracy: 0.2667\n"
          ],
          "name": "stdout"
        },
        {
          "output_type": "display_data",
          "data": {
            "text/html": [
              "<span style=\"color:#4527A0\"><h1 style=\"font-size:18px\">Trial complete</h1></span>"
            ],
            "text/plain": [
              "<IPython.core.display.HTML object>"
            ]
          },
          "metadata": {
            "tags": []
          }
        },
        {
          "output_type": "display_data",
          "data": {
            "text/html": [
              "<span style=\"color:#4527A0\"><h1 style=\"font-size:18px\">Trial summary</h1></span>"
            ],
            "text/plain": [
              "<IPython.core.display.HTML object>"
            ]
          },
          "metadata": {
            "tags": []
          }
        },
        {
          "output_type": "display_data",
          "data": {
            "text/html": [
              "<span style=\"color:#7E57C2\"><h2 style=\"font-size:16px\">Hp values:</h2></span>"
            ],
            "text/plain": [
              "<IPython.core.display.HTML object>"
            ]
          },
          "metadata": {
            "tags": []
          }
        },
        {
          "output_type": "display_data",
          "data": {
            "text/html": [
              "<span style=\"color:cyan\"> |-learning_rate: 0.0001</span>"
            ],
            "text/plain": [
              "<IPython.core.display.HTML object>"
            ]
          },
          "metadata": {
            "tags": []
          }
        },
        {
          "output_type": "display_data",
          "data": {
            "text/html": [
              "<span style=\"color:blue\"> |-momentum: 0.5</span>"
            ],
            "text/plain": [
              "<IPython.core.display.HTML object>"
            ]
          },
          "metadata": {
            "tags": []
          }
        },
        {
          "output_type": "display_data",
          "data": {
            "text/html": [
              "<span style=\"color:cyan\"> |-Score: 0.4444444477558136</span>"
            ],
            "text/plain": [
              "<IPython.core.display.HTML object>"
            ]
          },
          "metadata": {
            "tags": []
          }
        },
        {
          "output_type": "display_data",
          "data": {
            "text/html": [
              "<span style=\"color:cyan\"> |-Best step: 0</span>"
            ],
            "text/plain": [
              "<IPython.core.display.HTML object>"
            ]
          },
          "metadata": {
            "tags": []
          }
        },
        {
          "output_type": "stream",
          "text": [
            "Train on 116 samples, validate on 15 samples\n",
            "Epoch 1/50\n",
            "116/116 [==============================] - 0s 3ms/sample - loss: 1.8068 - accuracy: 0.5000 - val_loss: 1.8400 - val_accuracy: 0.3333\n",
            "Epoch 2/50\n",
            "116/116 [==============================] - 0s 281us/sample - loss: 1.2754 - accuracy: 0.4828 - val_loss: 1.5696 - val_accuracy: 0.2667\n",
            "Epoch 3/50\n",
            "116/116 [==============================] - 0s 239us/sample - loss: 1.1000 - accuracy: 0.5086 - val_loss: 1.4236 - val_accuracy: 0.2667\n",
            "Epoch 4/50\n",
            "116/116 [==============================] - 0s 262us/sample - loss: 1.0330 - accuracy: 0.5431 - val_loss: 1.3841 - val_accuracy: 0.2667\n",
            "Epoch 5/50\n",
            "116/116 [==============================] - 0s 300us/sample - loss: 0.9907 - accuracy: 0.5603 - val_loss: 1.2818 - val_accuracy: 0.2667\n",
            "Epoch 6/50\n",
            "116/116 [==============================] - 0s 270us/sample - loss: 0.9479 - accuracy: 0.5690 - val_loss: 1.3044 - val_accuracy: 0.2667\n",
            "Epoch 7/50\n",
            "116/116 [==============================] - 0s 275us/sample - loss: 0.9240 - accuracy: 0.5948 - val_loss: 1.2825 - val_accuracy: 0.3333\n",
            "Epoch 8/50\n",
            "116/116 [==============================] - 0s 338us/sample - loss: 0.9042 - accuracy: 0.6121 - val_loss: 1.2800 - val_accuracy: 0.4000\n",
            "Epoch 9/50\n",
            "116/116 [==============================] - 0s 288us/sample - loss: 0.8953 - accuracy: 0.6121 - val_loss: 1.2505 - val_accuracy: 0.4000\n",
            "Epoch 10/50\n",
            "116/116 [==============================] - 0s 239us/sample - loss: 0.8902 - accuracy: 0.6207 - val_loss: 1.3114 - val_accuracy: 0.4000\n",
            "Epoch 11/50\n",
            "116/116 [==============================] - 0s 260us/sample - loss: 0.8845 - accuracy: 0.6207 - val_loss: 1.3416 - val_accuracy: 0.4000\n",
            "Epoch 12/50\n",
            "116/116 [==============================] - 0s 280us/sample - loss: 0.8759 - accuracy: 0.6293 - val_loss: 1.3303 - val_accuracy: 0.4000\n",
            "Epoch 13/50\n",
            "116/116 [==============================] - 0s 363us/sample - loss: 0.8655 - accuracy: 0.6207 - val_loss: 1.3131 - val_accuracy: 0.4000\n",
            "Epoch 14/50\n",
            "116/116 [==============================] - 0s 352us/sample - loss: 0.8585 - accuracy: 0.6552 - val_loss: 1.3538 - val_accuracy: 0.4000\n",
            "Epoch 15/50\n",
            "116/116 [==============================] - 0s 304us/sample - loss: 0.8600 - accuracy: 0.6466 - val_loss: 1.3203 - val_accuracy: 0.4000\n",
            "Epoch 16/50\n",
            "116/116 [==============================] - 0s 302us/sample - loss: 0.8543 - accuracy: 0.6466 - val_loss: 1.3531 - val_accuracy: 0.4000\n",
            "Epoch 17/50\n",
            "116/116 [==============================] - 0s 276us/sample - loss: 0.8558 - accuracy: 0.6379 - val_loss: 1.3254 - val_accuracy: 0.4000\n",
            "Epoch 18/50\n",
            "116/116 [==============================] - 0s 286us/sample - loss: 0.8473 - accuracy: 0.6379 - val_loss: 1.3449 - val_accuracy: 0.4000\n",
            "Epoch 19/50\n",
            "116/116 [==============================] - 0s 337us/sample - loss: 0.8568 - accuracy: 0.6466 - val_loss: 1.3562 - val_accuracy: 0.4000\n",
            "Epoch 20/50\n",
            "116/116 [==============================] - 0s 325us/sample - loss: 0.8486 - accuracy: 0.6552 - val_loss: 1.3743 - val_accuracy: 0.4000\n",
            "Epoch 21/50\n",
            "116/116 [==============================] - 0s 292us/sample - loss: 0.8474 - accuracy: 0.6552 - val_loss: 1.3837 - val_accuracy: 0.4000\n",
            "Epoch 22/50\n",
            "116/116 [==============================] - 0s 278us/sample - loss: 0.8371 - accuracy: 0.6552 - val_loss: 1.3800 - val_accuracy: 0.4000\n",
            "Epoch 23/50\n",
            "116/116 [==============================] - 0s 275us/sample - loss: 0.8358 - accuracy: 0.6552 - val_loss: 1.3638 - val_accuracy: 0.4000\n",
            "Epoch 24/50\n",
            "116/116 [==============================] - 0s 257us/sample - loss: 0.8438 - accuracy: 0.6379 - val_loss: 1.4099 - val_accuracy: 0.4000\n",
            "Epoch 25/50\n",
            "116/116 [==============================] - 0s 327us/sample - loss: 0.8365 - accuracy: 0.6552 - val_loss: 1.4123 - val_accuracy: 0.4667\n",
            "Epoch 26/50\n",
            "116/116 [==============================] - 0s 268us/sample - loss: 0.8367 - accuracy: 0.6379 - val_loss: 1.3582 - val_accuracy: 0.4000\n",
            "Epoch 27/50\n",
            "116/116 [==============================] - 0s 265us/sample - loss: 0.8351 - accuracy: 0.6379 - val_loss: 1.3799 - val_accuracy: 0.4000\n",
            "Epoch 28/50\n",
            "116/116 [==============================] - 0s 246us/sample - loss: 0.8293 - accuracy: 0.6466 - val_loss: 1.3175 - val_accuracy: 0.4667\n",
            "Epoch 29/50\n",
            "116/116 [==============================] - 0s 268us/sample - loss: 0.8345 - accuracy: 0.6466 - val_loss: 1.3699 - val_accuracy: 0.4000\n",
            "Epoch 30/50\n",
            "116/116 [==============================] - 0s 266us/sample - loss: 0.8244 - accuracy: 0.6379 - val_loss: 1.3944 - val_accuracy: 0.4000\n",
            "Epoch 31/50\n",
            "116/116 [==============================] - 0s 259us/sample - loss: 0.8232 - accuracy: 0.6466 - val_loss: 1.4613 - val_accuracy: 0.4667\n",
            "Epoch 32/50\n",
            "116/116 [==============================] - 0s 318us/sample - loss: 0.8307 - accuracy: 0.6552 - val_loss: 1.3821 - val_accuracy: 0.4667\n",
            "Epoch 33/50\n",
            "116/116 [==============================] - 0s 266us/sample - loss: 0.8299 - accuracy: 0.6466 - val_loss: 1.3626 - val_accuracy: 0.4667\n",
            "Epoch 34/50\n",
            "116/116 [==============================] - 0s 264us/sample - loss: 0.8306 - accuracy: 0.6379 - val_loss: 1.3537 - val_accuracy: 0.4667\n",
            "Epoch 35/50\n",
            "116/116 [==============================] - 0s 328us/sample - loss: 0.8225 - accuracy: 0.6466 - val_loss: 1.3977 - val_accuracy: 0.5333\n",
            "Epoch 36/50\n",
            "116/116 [==============================] - 0s 257us/sample - loss: 0.8214 - accuracy: 0.6466 - val_loss: 1.3858 - val_accuracy: 0.5333\n",
            "Epoch 37/50\n",
            "116/116 [==============================] - 0s 266us/sample - loss: 0.8209 - accuracy: 0.6552 - val_loss: 1.3942 - val_accuracy: 0.5333\n",
            "Epoch 38/50\n",
            "116/116 [==============================] - 0s 288us/sample - loss: 0.8245 - accuracy: 0.6379 - val_loss: 1.4421 - val_accuracy: 0.5333\n",
            "Epoch 39/50\n",
            "116/116 [==============================] - 0s 263us/sample - loss: 0.8192 - accuracy: 0.6293 - val_loss: 1.3675 - val_accuracy: 0.5333\n",
            "Epoch 40/50\n",
            "116/116 [==============================] - 0s 266us/sample - loss: 0.8146 - accuracy: 0.6552 - val_loss: 1.3698 - val_accuracy: 0.5333\n",
            "Epoch 41/50\n",
            "116/116 [==============================] - 0s 251us/sample - loss: 0.8133 - accuracy: 0.6466 - val_loss: 1.4200 - val_accuracy: 0.5333\n",
            "Epoch 42/50\n",
            "116/116 [==============================] - 0s 260us/sample - loss: 0.8119 - accuracy: 0.6293 - val_loss: 1.4040 - val_accuracy: 0.5333\n",
            "Epoch 43/50\n",
            "116/116 [==============================] - 0s 277us/sample - loss: 0.8070 - accuracy: 0.6724 - val_loss: 1.3456 - val_accuracy: 0.5333\n",
            "Epoch 44/50\n",
            "116/116 [==============================] - 0s 279us/sample - loss: 0.8088 - accuracy: 0.6552 - val_loss: 1.4040 - val_accuracy: 0.5333\n",
            "Epoch 45/50\n",
            "116/116 [==============================] - 0s 295us/sample - loss: 0.8074 - accuracy: 0.6379 - val_loss: 1.4290 - val_accuracy: 0.5333\n",
            "Epoch 46/50\n",
            "116/116 [==============================] - 0s 281us/sample - loss: 0.8080 - accuracy: 0.6466 - val_loss: 1.4087 - val_accuracy: 0.5333\n",
            "Epoch 47/50\n",
            "116/116 [==============================] - 0s 274us/sample - loss: 0.8033 - accuracy: 0.6810 - val_loss: 1.3728 - val_accuracy: 0.5333\n",
            "Epoch 48/50\n",
            "116/116 [==============================] - 0s 277us/sample - loss: 0.8032 - accuracy: 0.6379 - val_loss: 1.4343 - val_accuracy: 0.5333\n",
            "Epoch 49/50\n",
            "116/116 [==============================] - 0s 281us/sample - loss: 0.8012 - accuracy: 0.6638 - val_loss: 1.3211 - val_accuracy: 0.4667\n",
            "Epoch 50/50\n",
            "116/116 [==============================] - 0s 265us/sample - loss: 0.8036 - accuracy: 0.6552 - val_loss: 1.3304 - val_accuracy: 0.4667\n",
            "Train on 116 samples, validate on 15 samples\n",
            "Epoch 1/50\n",
            "116/116 [==============================] - 0s 3ms/sample - loss: 1.7250 - accuracy: 0.2069 - val_loss: 1.3676 - val_accuracy: 0.2667\n",
            "Epoch 2/50\n",
            "116/116 [==============================] - 0s 277us/sample - loss: 1.2545 - accuracy: 0.4828 - val_loss: 1.1904 - val_accuracy: 0.5333\n",
            "Epoch 3/50\n",
            "116/116 [==============================] - 0s 323us/sample - loss: 1.1118 - accuracy: 0.5690 - val_loss: 1.1234 - val_accuracy: 0.5333\n",
            "Epoch 4/50\n",
            "116/116 [==============================] - 0s 304us/sample - loss: 1.0424 - accuracy: 0.5862 - val_loss: 1.0696 - val_accuracy: 0.5333\n",
            "Epoch 5/50\n",
            "116/116 [==============================] - 0s 392us/sample - loss: 0.9972 - accuracy: 0.5603 - val_loss: 1.0264 - val_accuracy: 0.6000\n",
            "Epoch 6/50\n",
            "116/116 [==============================] - 0s 330us/sample - loss: 0.9738 - accuracy: 0.5862 - val_loss: 1.0142 - val_accuracy: 0.6000\n",
            "Epoch 7/50\n",
            "116/116 [==============================] - 0s 302us/sample - loss: 0.9585 - accuracy: 0.5776 - val_loss: 0.9975 - val_accuracy: 0.6000\n",
            "Epoch 8/50\n",
            "116/116 [==============================] - 0s 303us/sample - loss: 0.9442 - accuracy: 0.5690 - val_loss: 0.9783 - val_accuracy: 0.6000\n",
            "Epoch 9/50\n",
            "116/116 [==============================] - 0s 282us/sample - loss: 0.9363 - accuracy: 0.5948 - val_loss: 0.9810 - val_accuracy: 0.6000\n",
            "Epoch 10/50\n",
            "116/116 [==============================] - 0s 260us/sample - loss: 0.9281 - accuracy: 0.6034 - val_loss: 0.9766 - val_accuracy: 0.6000\n",
            "Epoch 11/50\n",
            "116/116 [==============================] - 0s 269us/sample - loss: 0.9208 - accuracy: 0.5948 - val_loss: 0.9627 - val_accuracy: 0.6000\n",
            "Epoch 12/50\n",
            "116/116 [==============================] - 0s 241us/sample - loss: 0.9153 - accuracy: 0.5862 - val_loss: 0.9663 - val_accuracy: 0.6000\n",
            "Epoch 13/50\n",
            "116/116 [==============================] - 0s 281us/sample - loss: 0.9067 - accuracy: 0.6207 - val_loss: 0.9774 - val_accuracy: 0.6000\n",
            "Epoch 14/50\n",
            "116/116 [==============================] - 0s 297us/sample - loss: 0.8958 - accuracy: 0.6034 - val_loss: 0.9801 - val_accuracy: 0.6000\n",
            "Epoch 15/50\n",
            "116/116 [==============================] - 0s 292us/sample - loss: 0.8920 - accuracy: 0.6121 - val_loss: 0.9752 - val_accuracy: 0.6000\n",
            "Epoch 16/50\n",
            "116/116 [==============================] - 0s 277us/sample - loss: 0.8858 - accuracy: 0.6207 - val_loss: 0.9759 - val_accuracy: 0.6000\n",
            "Epoch 17/50\n",
            "116/116 [==============================] - 0s 275us/sample - loss: 0.8793 - accuracy: 0.6034 - val_loss: 0.9925 - val_accuracy: 0.6000\n",
            "Epoch 18/50\n",
            "116/116 [==============================] - 0s 248us/sample - loss: 0.8757 - accuracy: 0.6293 - val_loss: 0.9990 - val_accuracy: 0.6000\n",
            "Epoch 19/50\n",
            "116/116 [==============================] - 0s 297us/sample - loss: 0.8726 - accuracy: 0.6293 - val_loss: 0.9983 - val_accuracy: 0.6000\n",
            "Epoch 20/50\n",
            "116/116 [==============================] - 0s 247us/sample - loss: 0.8668 - accuracy: 0.6293 - val_loss: 0.9960 - val_accuracy: 0.6000\n",
            "Epoch 21/50\n",
            "116/116 [==============================] - 0s 294us/sample - loss: 0.8633 - accuracy: 0.6207 - val_loss: 0.9912 - val_accuracy: 0.6000\n",
            "Epoch 22/50\n",
            "116/116 [==============================] - 0s 287us/sample - loss: 0.8666 - accuracy: 0.6207 - val_loss: 1.0063 - val_accuracy: 0.6000\n",
            "Epoch 23/50\n",
            "116/116 [==============================] - 0s 273us/sample - loss: 0.8598 - accuracy: 0.6379 - val_loss: 1.0100 - val_accuracy: 0.6000\n",
            "Epoch 24/50\n",
            "116/116 [==============================] - 0s 255us/sample - loss: 0.8571 - accuracy: 0.6293 - val_loss: 1.0108 - val_accuracy: 0.6000\n",
            "Epoch 25/50\n",
            "116/116 [==============================] - 0s 256us/sample - loss: 0.8575 - accuracy: 0.6379 - val_loss: 1.0094 - val_accuracy: 0.6000\n",
            "Epoch 26/50\n",
            "116/116 [==============================] - 0s 318us/sample - loss: 0.8524 - accuracy: 0.6379 - val_loss: 1.0061 - val_accuracy: 0.6000\n",
            "Epoch 27/50\n",
            "116/116 [==============================] - 0s 372us/sample - loss: 0.8514 - accuracy: 0.6379 - val_loss: 1.0094 - val_accuracy: 0.6000\n",
            "Epoch 28/50\n",
            "116/116 [==============================] - 0s 283us/sample - loss: 0.8536 - accuracy: 0.6207 - val_loss: 1.0039 - val_accuracy: 0.6000\n",
            "Epoch 29/50\n",
            "116/116 [==============================] - 0s 300us/sample - loss: 0.8503 - accuracy: 0.6207 - val_loss: 1.0017 - val_accuracy: 0.6000\n",
            "Epoch 30/50\n",
            "116/116 [==============================] - 0s 286us/sample - loss: 0.8444 - accuracy: 0.6379 - val_loss: 1.0048 - val_accuracy: 0.6000\n",
            "Epoch 31/50\n",
            "116/116 [==============================] - 0s 272us/sample - loss: 0.8441 - accuracy: 0.6379 - val_loss: 1.0191 - val_accuracy: 0.6000\n",
            "Epoch 32/50\n",
            "116/116 [==============================] - 0s 260us/sample - loss: 0.8437 - accuracy: 0.6293 - val_loss: 1.0027 - val_accuracy: 0.6000\n",
            "Epoch 33/50\n",
            "116/116 [==============================] - 0s 278us/sample - loss: 0.8412 - accuracy: 0.6121 - val_loss: 1.0042 - val_accuracy: 0.6000\n",
            "Epoch 34/50\n",
            "116/116 [==============================] - 0s 272us/sample - loss: 0.8382 - accuracy: 0.6379 - val_loss: 1.0108 - val_accuracy: 0.6000\n",
            "Epoch 35/50\n",
            "116/116 [==============================] - 0s 305us/sample - loss: 0.8373 - accuracy: 0.6466 - val_loss: 1.0225 - val_accuracy: 0.6000\n",
            "Epoch 36/50\n",
            "116/116 [==============================] - 0s 288us/sample - loss: 0.8336 - accuracy: 0.6379 - val_loss: 1.0351 - val_accuracy: 0.6000\n",
            "Epoch 37/50\n",
            "116/116 [==============================] - 0s 284us/sample - loss: 0.8387 - accuracy: 0.6207 - val_loss: 1.0341 - val_accuracy: 0.6000\n",
            "Epoch 38/50\n",
            "116/116 [==============================] - 0s 288us/sample - loss: 0.8372 - accuracy: 0.6379 - val_loss: 1.0359 - val_accuracy: 0.6000\n",
            "Epoch 39/50\n",
            "116/116 [==============================] - 0s 293us/sample - loss: 0.8345 - accuracy: 0.6293 - val_loss: 1.0435 - val_accuracy: 0.6000\n",
            "Epoch 40/50\n",
            "116/116 [==============================] - 0s 282us/sample - loss: 0.8318 - accuracy: 0.6293 - val_loss: 1.0172 - val_accuracy: 0.5333\n",
            "Epoch 41/50\n",
            "116/116 [==============================] - 0s 290us/sample - loss: 0.8329 - accuracy: 0.6207 - val_loss: 1.0176 - val_accuracy: 0.5333\n",
            "Epoch 42/50\n",
            "116/116 [==============================] - 0s 258us/sample - loss: 0.8248 - accuracy: 0.6293 - val_loss: 1.0093 - val_accuracy: 0.5333\n",
            "Epoch 43/50\n",
            "116/116 [==============================] - 0s 268us/sample - loss: 0.8250 - accuracy: 0.6379 - val_loss: 1.0179 - val_accuracy: 0.5333\n",
            "Epoch 44/50\n",
            "116/116 [==============================] - 0s 268us/sample - loss: 0.8277 - accuracy: 0.6466 - val_loss: 1.0250 - val_accuracy: 0.5333\n",
            "Epoch 45/50\n",
            "116/116 [==============================] - 0s 271us/sample - loss: 0.8236 - accuracy: 0.6293 - val_loss: 1.0252 - val_accuracy: 0.5333\n",
            "Epoch 46/50\n",
            "116/116 [==============================] - 0s 264us/sample - loss: 0.8197 - accuracy: 0.6638 - val_loss: 1.0354 - val_accuracy: 0.5333\n",
            "Epoch 47/50\n",
            "116/116 [==============================] - 0s 279us/sample - loss: 0.8243 - accuracy: 0.6466 - val_loss: 1.0374 - val_accuracy: 0.5333\n",
            "Epoch 48/50\n",
            "116/116 [==============================] - 0s 266us/sample - loss: 0.8197 - accuracy: 0.6379 - val_loss: 1.0402 - val_accuracy: 0.5333\n",
            "Epoch 49/50\n",
            "116/116 [==============================] - 0s 242us/sample - loss: 0.8162 - accuracy: 0.6466 - val_loss: 1.0451 - val_accuracy: 0.5333\n",
            "Epoch 50/50\n",
            "116/116 [==============================] - 0s 276us/sample - loss: 0.8180 - accuracy: 0.6466 - val_loss: 1.0295 - val_accuracy: 0.5333\n",
            "Train on 116 samples, validate on 15 samples\n",
            "Epoch 1/50\n",
            "116/116 [==============================] - 0s 3ms/sample - loss: 2.6072 - accuracy: 0.2586 - val_loss: 1.5364 - val_accuracy: 0.3333\n",
            "Epoch 2/50\n",
            "116/116 [==============================] - 0s 264us/sample - loss: 1.4775 - accuracy: 0.3362 - val_loss: 1.2357 - val_accuracy: 0.4000\n",
            "Epoch 3/50\n",
            "116/116 [==============================] - 0s 311us/sample - loss: 1.2340 - accuracy: 0.3879 - val_loss: 1.1934 - val_accuracy: 0.4000\n",
            "Epoch 4/50\n",
            "116/116 [==============================] - 0s 303us/sample - loss: 1.1142 - accuracy: 0.4741 - val_loss: 1.1282 - val_accuracy: 0.5333\n",
            "Epoch 5/50\n",
            "116/116 [==============================] - 0s 255us/sample - loss: 1.0506 - accuracy: 0.5086 - val_loss: 1.1508 - val_accuracy: 0.6000\n",
            "Epoch 6/50\n",
            "116/116 [==============================] - 0s 269us/sample - loss: 1.0171 - accuracy: 0.5431 - val_loss: 1.1814 - val_accuracy: 0.5333\n",
            "Epoch 7/50\n",
            "116/116 [==============================] - 0s 279us/sample - loss: 0.9735 - accuracy: 0.5776 - val_loss: 1.1171 - val_accuracy: 0.5333\n",
            "Epoch 8/50\n",
            "116/116 [==============================] - 0s 280us/sample - loss: 0.9507 - accuracy: 0.5776 - val_loss: 1.1682 - val_accuracy: 0.5333\n",
            "Epoch 9/50\n",
            "116/116 [==============================] - 0s 303us/sample - loss: 0.9300 - accuracy: 0.5862 - val_loss: 1.1884 - val_accuracy: 0.5333\n",
            "Epoch 10/50\n",
            "116/116 [==============================] - 0s 283us/sample - loss: 0.9106 - accuracy: 0.5517 - val_loss: 1.1350 - val_accuracy: 0.6000\n",
            "Epoch 11/50\n",
            "116/116 [==============================] - 0s 293us/sample - loss: 0.9005 - accuracy: 0.5862 - val_loss: 1.1418 - val_accuracy: 0.6000\n",
            "Epoch 12/50\n",
            "116/116 [==============================] - 0s 293us/sample - loss: 0.8864 - accuracy: 0.6034 - val_loss: 1.1874 - val_accuracy: 0.6000\n",
            "Epoch 13/50\n",
            "116/116 [==============================] - 0s 302us/sample - loss: 0.8828 - accuracy: 0.6207 - val_loss: 1.1712 - val_accuracy: 0.6000\n",
            "Epoch 14/50\n",
            "116/116 [==============================] - 0s 273us/sample - loss: 0.8696 - accuracy: 0.6207 - val_loss: 1.1906 - val_accuracy: 0.6000\n",
            "Epoch 15/50\n",
            "116/116 [==============================] - 0s 269us/sample - loss: 0.8620 - accuracy: 0.6121 - val_loss: 1.1852 - val_accuracy: 0.6000\n",
            "Epoch 16/50\n",
            "116/116 [==============================] - 0s 264us/sample - loss: 0.8557 - accuracy: 0.6121 - val_loss: 1.1920 - val_accuracy: 0.6000\n",
            "Epoch 17/50\n",
            "116/116 [==============================] - 0s 329us/sample - loss: 0.8495 - accuracy: 0.6207 - val_loss: 1.2006 - val_accuracy: 0.6000\n",
            "Epoch 18/50\n",
            "116/116 [==============================] - 0s 293us/sample - loss: 0.8463 - accuracy: 0.6379 - val_loss: 1.1656 - val_accuracy: 0.6000\n",
            "Epoch 19/50\n",
            "116/116 [==============================] - 0s 272us/sample - loss: 0.8420 - accuracy: 0.6207 - val_loss: 1.1654 - val_accuracy: 0.6000\n",
            "Epoch 20/50\n",
            "116/116 [==============================] - 0s 272us/sample - loss: 0.8360 - accuracy: 0.6293 - val_loss: 1.1718 - val_accuracy: 0.6000\n",
            "Epoch 21/50\n",
            "116/116 [==============================] - 0s 266us/sample - loss: 0.8429 - accuracy: 0.6207 - val_loss: 1.2309 - val_accuracy: 0.6000\n",
            "Epoch 22/50\n",
            "116/116 [==============================] - 0s 274us/sample - loss: 0.8292 - accuracy: 0.6379 - val_loss: 1.2003 - val_accuracy: 0.6000\n",
            "Epoch 23/50\n",
            "116/116 [==============================] - 0s 284us/sample - loss: 0.8207 - accuracy: 0.6293 - val_loss: 1.1653 - val_accuracy: 0.6000\n",
            "Epoch 24/50\n",
            "116/116 [==============================] - 0s 325us/sample - loss: 0.8175 - accuracy: 0.6207 - val_loss: 1.2155 - val_accuracy: 0.6000\n",
            "Epoch 25/50\n",
            "116/116 [==============================] - 0s 294us/sample - loss: 0.8178 - accuracy: 0.6379 - val_loss: 1.1995 - val_accuracy: 0.6000\n",
            "Epoch 26/50\n",
            "116/116 [==============================] - 0s 276us/sample - loss: 0.8109 - accuracy: 0.6121 - val_loss: 1.2169 - val_accuracy: 0.6000\n",
            "Epoch 27/50\n",
            "116/116 [==============================] - 0s 280us/sample - loss: 0.8050 - accuracy: 0.6379 - val_loss: 1.1570 - val_accuracy: 0.6000\n",
            "Epoch 28/50\n",
            "116/116 [==============================] - 0s 277us/sample - loss: 0.8110 - accuracy: 0.6379 - val_loss: 1.1629 - val_accuracy: 0.6000\n",
            "Epoch 29/50\n",
            "116/116 [==============================] - 0s 280us/sample - loss: 0.8066 - accuracy: 0.6121 - val_loss: 1.2248 - val_accuracy: 0.6000\n",
            "Epoch 30/50\n",
            "116/116 [==============================] - 0s 299us/sample - loss: 0.8054 - accuracy: 0.6293 - val_loss: 1.1994 - val_accuracy: 0.6000\n",
            "Epoch 31/50\n",
            "116/116 [==============================] - 0s 272us/sample - loss: 0.7985 - accuracy: 0.6293 - val_loss: 1.2363 - val_accuracy: 0.6000\n",
            "Epoch 32/50\n",
            "116/116 [==============================] - 0s 282us/sample - loss: 0.7967 - accuracy: 0.6379 - val_loss: 1.1966 - val_accuracy: 0.6000\n",
            "Epoch 33/50\n",
            "116/116 [==============================] - 0s 300us/sample - loss: 0.7942 - accuracy: 0.6379 - val_loss: 1.2237 - val_accuracy: 0.6000\n",
            "Epoch 34/50\n",
            "116/116 [==============================] - 0s 276us/sample - loss: 0.7929 - accuracy: 0.6121 - val_loss: 1.2512 - val_accuracy: 0.6000\n",
            "Epoch 35/50\n",
            "116/116 [==============================] - 0s 265us/sample - loss: 0.7908 - accuracy: 0.6379 - val_loss: 1.2543 - val_accuracy: 0.6000\n",
            "Epoch 36/50\n",
            "116/116 [==============================] - 0s 272us/sample - loss: 0.7843 - accuracy: 0.6293 - val_loss: 1.2017 - val_accuracy: 0.6000\n",
            "Epoch 37/50\n",
            "116/116 [==============================] - 0s 309us/sample - loss: 0.7853 - accuracy: 0.6293 - val_loss: 1.2429 - val_accuracy: 0.6000\n",
            "Epoch 38/50\n",
            "116/116 [==============================] - 0s 278us/sample - loss: 0.7858 - accuracy: 0.6293 - val_loss: 1.1956 - val_accuracy: 0.6000\n",
            "Epoch 39/50\n",
            "116/116 [==============================] - 0s 278us/sample - loss: 0.7831 - accuracy: 0.6379 - val_loss: 1.2014 - val_accuracy: 0.6000\n",
            "Epoch 40/50\n",
            "116/116 [==============================] - 0s 260us/sample - loss: 0.7793 - accuracy: 0.6293 - val_loss: 1.2254 - val_accuracy: 0.6000\n",
            "Epoch 41/50\n",
            "116/116 [==============================] - 0s 276us/sample - loss: 0.7764 - accuracy: 0.6379 - val_loss: 1.2286 - val_accuracy: 0.6000\n",
            "Epoch 42/50\n",
            "116/116 [==============================] - 0s 269us/sample - loss: 0.7787 - accuracy: 0.6207 - val_loss: 1.2141 - val_accuracy: 0.6000\n",
            "Epoch 43/50\n",
            "116/116 [==============================] - 0s 289us/sample - loss: 0.7729 - accuracy: 0.6293 - val_loss: 1.2567 - val_accuracy: 0.6000\n",
            "Epoch 44/50\n",
            "116/116 [==============================] - 0s 269us/sample - loss: 0.7764 - accuracy: 0.6379 - val_loss: 1.2378 - val_accuracy: 0.6000\n",
            "Epoch 45/50\n",
            "116/116 [==============================] - 0s 264us/sample - loss: 0.7762 - accuracy: 0.6552 - val_loss: 1.1975 - val_accuracy: 0.6000\n",
            "Epoch 46/50\n",
            "116/116 [==============================] - 0s 293us/sample - loss: 0.7717 - accuracy: 0.6552 - val_loss: 1.2437 - val_accuracy: 0.6000\n",
            "Epoch 47/50\n",
            "116/116 [==============================] - 0s 271us/sample - loss: 0.7659 - accuracy: 0.6466 - val_loss: 1.2708 - val_accuracy: 0.6000\n",
            "Epoch 48/50\n",
            "116/116 [==============================] - 0s 259us/sample - loss: 0.7665 - accuracy: 0.6466 - val_loss: 1.2293 - val_accuracy: 0.6000\n",
            "Epoch 49/50\n",
            "116/116 [==============================] - 0s 264us/sample - loss: 0.7731 - accuracy: 0.6379 - val_loss: 1.2681 - val_accuracy: 0.6000\n",
            "Epoch 50/50\n",
            "116/116 [==============================] - 0s 266us/sample - loss: 0.7631 - accuracy: 0.6552 - val_loss: 1.2434 - val_accuracy: 0.6000\n"
          ],
          "name": "stdout"
        },
        {
          "output_type": "display_data",
          "data": {
            "text/html": [
              "<span style=\"color:#4527A0\"><h1 style=\"font-size:18px\">Trial complete</h1></span>"
            ],
            "text/plain": [
              "<IPython.core.display.HTML object>"
            ]
          },
          "metadata": {
            "tags": []
          }
        },
        {
          "output_type": "display_data",
          "data": {
            "text/html": [
              "<span style=\"color:#4527A0\"><h1 style=\"font-size:18px\">Trial summary</h1></span>"
            ],
            "text/plain": [
              "<IPython.core.display.HTML object>"
            ]
          },
          "metadata": {
            "tags": []
          }
        },
        {
          "output_type": "display_data",
          "data": {
            "text/html": [
              "<span style=\"color:#7E57C2\"><h2 style=\"font-size:16px\">Hp values:</h2></span>"
            ],
            "text/plain": [
              "<IPython.core.display.HTML object>"
            ]
          },
          "metadata": {
            "tags": []
          }
        },
        {
          "output_type": "display_data",
          "data": {
            "text/html": [
              "<span style=\"color:cyan\"> |-learning_rate: 0.01</span>"
            ],
            "text/plain": [
              "<IPython.core.display.HTML object>"
            ]
          },
          "metadata": {
            "tags": []
          }
        },
        {
          "output_type": "display_data",
          "data": {
            "text/html": [
              "<span style=\"color:blue\"> |-momentum: 0.5</span>"
            ],
            "text/plain": [
              "<IPython.core.display.HTML object>"
            ]
          },
          "metadata": {
            "tags": []
          }
        },
        {
          "output_type": "display_data",
          "data": {
            "text/html": [
              "<span style=\"color:cyan\"> |-Score: 0.5777778029441833</span>"
            ],
            "text/plain": [
              "<IPython.core.display.HTML object>"
            ]
          },
          "metadata": {
            "tags": []
          }
        },
        {
          "output_type": "display_data",
          "data": {
            "text/html": [
              "<span style=\"color:cyan\"> |-Best step: 0</span>"
            ],
            "text/plain": [
              "<IPython.core.display.HTML object>"
            ]
          },
          "metadata": {
            "tags": []
          }
        },
        {
          "output_type": "stream",
          "text": [
            "Train on 116 samples, validate on 15 samples\n",
            "Epoch 1/50\n",
            "116/116 [==============================] - 0s 3ms/sample - loss: 2.0305 - accuracy: 0.3276 - val_loss: 2.4261 - val_accuracy: 0.0667\n",
            "Epoch 2/50\n",
            "116/116 [==============================] - 0s 378us/sample - loss: 1.9699 - accuracy: 0.3017 - val_loss: 2.3341 - val_accuracy: 0.1333\n",
            "Epoch 3/50\n",
            "116/116 [==============================] - 0s 420us/sample - loss: 1.9133 - accuracy: 0.3103 - val_loss: 2.2495 - val_accuracy: 0.2000\n",
            "Epoch 4/50\n",
            "116/116 [==============================] - 0s 272us/sample - loss: 1.8598 - accuracy: 0.3103 - val_loss: 2.1732 - val_accuracy: 0.2000\n",
            "Epoch 5/50\n",
            "116/116 [==============================] - 0s 280us/sample - loss: 1.8101 - accuracy: 0.3276 - val_loss: 2.0997 - val_accuracy: 0.2000\n",
            "Epoch 6/50\n",
            "116/116 [==============================] - 0s 311us/sample - loss: 1.7619 - accuracy: 0.3362 - val_loss: 2.0308 - val_accuracy: 0.2000\n",
            "Epoch 7/50\n",
            "116/116 [==============================] - 0s 329us/sample - loss: 1.7175 - accuracy: 0.3448 - val_loss: 1.9654 - val_accuracy: 0.2000\n",
            "Epoch 8/50\n",
            "116/116 [==============================] - 0s 328us/sample - loss: 1.6778 - accuracy: 0.3448 - val_loss: 1.9042 - val_accuracy: 0.2000\n",
            "Epoch 9/50\n",
            "116/116 [==============================] - 0s 303us/sample - loss: 1.6382 - accuracy: 0.3621 - val_loss: 1.8465 - val_accuracy: 0.2000\n",
            "Epoch 10/50\n",
            "116/116 [==============================] - 0s 312us/sample - loss: 1.6018 - accuracy: 0.3621 - val_loss: 1.7931 - val_accuracy: 0.2000\n",
            "Epoch 11/50\n",
            "116/116 [==============================] - 0s 304us/sample - loss: 1.5672 - accuracy: 0.3707 - val_loss: 1.7388 - val_accuracy: 0.2000\n",
            "Epoch 12/50\n",
            "116/116 [==============================] - 0s 322us/sample - loss: 1.5334 - accuracy: 0.3707 - val_loss: 1.6876 - val_accuracy: 0.2000\n",
            "Epoch 13/50\n",
            "116/116 [==============================] - 0s 271us/sample - loss: 1.5046 - accuracy: 0.3621 - val_loss: 1.6425 - val_accuracy: 0.2000\n",
            "Epoch 14/50\n",
            "116/116 [==============================] - 0s 362us/sample - loss: 1.4759 - accuracy: 0.3448 - val_loss: 1.6007 - val_accuracy: 0.2667\n",
            "Epoch 15/50\n",
            "116/116 [==============================] - 0s 317us/sample - loss: 1.4493 - accuracy: 0.3448 - val_loss: 1.5584 - val_accuracy: 0.2667\n",
            "Epoch 16/50\n",
            "116/116 [==============================] - 0s 318us/sample - loss: 1.4231 - accuracy: 0.3534 - val_loss: 1.5216 - val_accuracy: 0.2667\n",
            "Epoch 17/50\n",
            "116/116 [==============================] - 0s 317us/sample - loss: 1.4020 - accuracy: 0.3534 - val_loss: 1.4904 - val_accuracy: 0.2667\n",
            "Epoch 18/50\n",
            "116/116 [==============================] - 0s 343us/sample - loss: 1.3796 - accuracy: 0.3534 - val_loss: 1.4592 - val_accuracy: 0.2667\n",
            "Epoch 19/50\n",
            "116/116 [==============================] - 0s 348us/sample - loss: 1.3592 - accuracy: 0.3534 - val_loss: 1.4307 - val_accuracy: 0.2667\n",
            "Epoch 20/50\n",
            "116/116 [==============================] - 0s 383us/sample - loss: 1.3394 - accuracy: 0.3534 - val_loss: 1.4060 - val_accuracy: 0.3333\n",
            "Epoch 21/50\n",
            "116/116 [==============================] - 0s 315us/sample - loss: 1.3222 - accuracy: 0.3621 - val_loss: 1.3836 - val_accuracy: 0.3333\n",
            "Epoch 22/50\n",
            "116/116 [==============================] - 0s 326us/sample - loss: 1.3061 - accuracy: 0.3621 - val_loss: 1.3611 - val_accuracy: 0.3333\n",
            "Epoch 23/50\n",
            "116/116 [==============================] - 0s 383us/sample - loss: 1.2894 - accuracy: 0.3621 - val_loss: 1.3404 - val_accuracy: 0.4000\n",
            "Epoch 24/50\n",
            "116/116 [==============================] - 0s 337us/sample - loss: 1.2760 - accuracy: 0.3793 - val_loss: 1.3240 - val_accuracy: 0.4000\n",
            "Epoch 25/50\n",
            "116/116 [==============================] - 0s 310us/sample - loss: 1.2628 - accuracy: 0.3621 - val_loss: 1.3078 - val_accuracy: 0.4000\n",
            "Epoch 26/50\n",
            "116/116 [==============================] - 0s 272us/sample - loss: 1.2507 - accuracy: 0.3707 - val_loss: 1.2923 - val_accuracy: 0.4000\n",
            "Epoch 27/50\n",
            "116/116 [==============================] - 0s 268us/sample - loss: 1.2404 - accuracy: 0.3793 - val_loss: 1.2797 - val_accuracy: 0.4000\n",
            "Epoch 28/50\n",
            "116/116 [==============================] - 0s 307us/sample - loss: 1.2273 - accuracy: 0.3707 - val_loss: 1.2661 - val_accuracy: 0.4000\n",
            "Epoch 29/50\n",
            "116/116 [==============================] - 0s 293us/sample - loss: 1.2168 - accuracy: 0.3793 - val_loss: 1.2530 - val_accuracy: 0.4000\n",
            "Epoch 30/50\n",
            "116/116 [==============================] - 0s 298us/sample - loss: 1.2057 - accuracy: 0.3793 - val_loss: 1.2418 - val_accuracy: 0.4000\n",
            "Epoch 31/50\n",
            "116/116 [==============================] - 0s 293us/sample - loss: 1.1967 - accuracy: 0.3793 - val_loss: 1.2306 - val_accuracy: 0.4000\n",
            "Epoch 32/50\n",
            "116/116 [==============================] - 0s 295us/sample - loss: 1.1875 - accuracy: 0.3793 - val_loss: 1.2192 - val_accuracy: 0.4000\n",
            "Epoch 33/50\n",
            "116/116 [==============================] - 0s 299us/sample - loss: 1.1781 - accuracy: 0.3879 - val_loss: 1.2093 - val_accuracy: 0.4000\n",
            "Epoch 34/50\n",
            "116/116 [==============================] - 0s 289us/sample - loss: 1.1695 - accuracy: 0.3966 - val_loss: 1.2007 - val_accuracy: 0.4000\n",
            "Epoch 35/50\n",
            "116/116 [==============================] - 0s 260us/sample - loss: 1.1612 - accuracy: 0.4052 - val_loss: 1.1908 - val_accuracy: 0.4000\n",
            "Epoch 36/50\n",
            "116/116 [==============================] - 0s 280us/sample - loss: 1.1553 - accuracy: 0.3793 - val_loss: 1.1819 - val_accuracy: 0.4000\n",
            "Epoch 37/50\n",
            "116/116 [==============================] - 0s 266us/sample - loss: 1.1476 - accuracy: 0.4052 - val_loss: 1.1755 - val_accuracy: 0.4000\n",
            "Epoch 38/50\n",
            "116/116 [==============================] - 0s 331us/sample - loss: 1.1409 - accuracy: 0.3966 - val_loss: 1.1690 - val_accuracy: 0.4000\n",
            "Epoch 39/50\n",
            "116/116 [==============================] - 0s 325us/sample - loss: 1.1354 - accuracy: 0.3966 - val_loss: 1.1630 - val_accuracy: 0.4000\n",
            "Epoch 40/50\n",
            "116/116 [==============================] - 0s 290us/sample - loss: 1.1289 - accuracy: 0.3966 - val_loss: 1.1573 - val_accuracy: 0.4000\n",
            "Epoch 41/50\n",
            "116/116 [==============================] - 0s 319us/sample - loss: 1.1232 - accuracy: 0.4052 - val_loss: 1.1515 - val_accuracy: 0.4000\n",
            "Epoch 42/50\n",
            "116/116 [==============================] - 0s 302us/sample - loss: 1.1175 - accuracy: 0.4052 - val_loss: 1.1453 - val_accuracy: 0.4000\n",
            "Epoch 43/50\n",
            "116/116 [==============================] - 0s 333us/sample - loss: 1.1125 - accuracy: 0.4310 - val_loss: 1.1400 - val_accuracy: 0.4000\n",
            "Epoch 44/50\n",
            "116/116 [==============================] - 0s 330us/sample - loss: 1.1087 - accuracy: 0.4138 - val_loss: 1.1340 - val_accuracy: 0.4000\n",
            "Epoch 45/50\n",
            "116/116 [==============================] - 0s 301us/sample - loss: 1.1036 - accuracy: 0.4310 - val_loss: 1.1285 - val_accuracy: 0.4000\n",
            "Epoch 46/50\n",
            "116/116 [==============================] - 0s 288us/sample - loss: 1.0992 - accuracy: 0.4224 - val_loss: 1.1241 - val_accuracy: 0.4000\n",
            "Epoch 47/50\n",
            "116/116 [==============================] - 0s 290us/sample - loss: 1.0953 - accuracy: 0.4310 - val_loss: 1.1186 - val_accuracy: 0.4000\n",
            "Epoch 48/50\n",
            "116/116 [==============================] - 0s 291us/sample - loss: 1.0917 - accuracy: 0.4483 - val_loss: 1.1104 - val_accuracy: 0.4000\n",
            "Epoch 49/50\n",
            "116/116 [==============================] - 0s 272us/sample - loss: 1.0865 - accuracy: 0.4483 - val_loss: 1.1039 - val_accuracy: 0.4000\n",
            "Epoch 50/50\n",
            "116/116 [==============================] - 0s 287us/sample - loss: 1.0836 - accuracy: 0.4569 - val_loss: 1.0992 - val_accuracy: 0.4000\n",
            "Train on 116 samples, validate on 15 samples\n",
            "Epoch 1/50\n",
            "116/116 [==============================] - 0s 3ms/sample - loss: 2.6998 - accuracy: 0.4741 - val_loss: 2.8069 - val_accuracy: 0.4000\n",
            "Epoch 2/50\n",
            "116/116 [==============================] - 0s 330us/sample - loss: 2.5952 - accuracy: 0.4828 - val_loss: 2.7172 - val_accuracy: 0.4000\n",
            "Epoch 3/50\n",
            "116/116 [==============================] - 0s 310us/sample - loss: 2.4930 - accuracy: 0.4828 - val_loss: 2.6287 - val_accuracy: 0.4000\n",
            "Epoch 4/50\n",
            "116/116 [==============================] - 0s 324us/sample - loss: 2.3994 - accuracy: 0.4914 - val_loss: 2.5458 - val_accuracy: 0.4000\n",
            "Epoch 5/50\n",
            "116/116 [==============================] - 0s 305us/sample - loss: 2.3068 - accuracy: 0.5000 - val_loss: 2.4700 - val_accuracy: 0.4000\n",
            "Epoch 6/50\n",
            "116/116 [==============================] - 0s 351us/sample - loss: 2.2285 - accuracy: 0.5000 - val_loss: 2.3977 - val_accuracy: 0.4000\n",
            "Epoch 7/50\n",
            "116/116 [==============================] - 0s 300us/sample - loss: 2.1538 - accuracy: 0.5000 - val_loss: 2.3302 - val_accuracy: 0.4000\n",
            "Epoch 8/50\n",
            "116/116 [==============================] - 0s 328us/sample - loss: 2.0847 - accuracy: 0.4914 - val_loss: 2.2630 - val_accuracy: 0.4000\n",
            "Epoch 9/50\n",
            "116/116 [==============================] - 0s 325us/sample - loss: 2.0124 - accuracy: 0.4914 - val_loss: 2.1969 - val_accuracy: 0.4000\n",
            "Epoch 10/50\n",
            "116/116 [==============================] - 0s 333us/sample - loss: 1.9477 - accuracy: 0.4914 - val_loss: 2.1401 - val_accuracy: 0.4000\n",
            "Epoch 11/50\n",
            "116/116 [==============================] - 0s 299us/sample - loss: 1.8881 - accuracy: 0.4914 - val_loss: 2.0889 - val_accuracy: 0.3333\n",
            "Epoch 12/50\n",
            "116/116 [==============================] - 0s 292us/sample - loss: 1.8352 - accuracy: 0.4914 - val_loss: 2.0395 - val_accuracy: 0.3333\n",
            "Epoch 13/50\n",
            "116/116 [==============================] - 0s 299us/sample - loss: 1.7805 - accuracy: 0.5000 - val_loss: 1.9916 - val_accuracy: 0.3333\n",
            "Epoch 14/50\n",
            "116/116 [==============================] - 0s 317us/sample - loss: 1.7319 - accuracy: 0.5000 - val_loss: 1.9488 - val_accuracy: 0.3333\n",
            "Epoch 15/50\n",
            "116/116 [==============================] - 0s 295us/sample - loss: 1.6856 - accuracy: 0.5000 - val_loss: 1.9107 - val_accuracy: 0.3333\n",
            "Epoch 16/50\n",
            "116/116 [==============================] - 0s 274us/sample - loss: 1.6425 - accuracy: 0.5086 - val_loss: 1.8735 - val_accuracy: 0.3333\n",
            "Epoch 17/50\n",
            "116/116 [==============================] - 0s 253us/sample - loss: 1.6006 - accuracy: 0.4914 - val_loss: 1.8397 - val_accuracy: 0.3333\n",
            "Epoch 18/50\n",
            "116/116 [==============================] - 0s 267us/sample - loss: 1.5627 - accuracy: 0.5000 - val_loss: 1.8100 - val_accuracy: 0.3333\n",
            "Epoch 19/50\n",
            "116/116 [==============================] - 0s 280us/sample - loss: 1.5279 - accuracy: 0.4828 - val_loss: 1.7832 - val_accuracy: 0.3333\n",
            "Epoch 20/50\n",
            "116/116 [==============================] - 0s 302us/sample - loss: 1.4948 - accuracy: 0.4914 - val_loss: 1.7570 - val_accuracy: 0.3333\n",
            "Epoch 21/50\n",
            "116/116 [==============================] - 0s 295us/sample - loss: 1.4659 - accuracy: 0.5000 - val_loss: 1.7330 - val_accuracy: 0.3333\n",
            "Epoch 22/50\n",
            "116/116 [==============================] - 0s 306us/sample - loss: 1.4373 - accuracy: 0.5000 - val_loss: 1.7117 - val_accuracy: 0.3333\n",
            "Epoch 23/50\n",
            "116/116 [==============================] - 0s 276us/sample - loss: 1.4111 - accuracy: 0.5259 - val_loss: 1.6925 - val_accuracy: 0.3333\n",
            "Epoch 24/50\n",
            "116/116 [==============================] - 0s 307us/sample - loss: 1.3884 - accuracy: 0.5259 - val_loss: 1.6762 - val_accuracy: 0.3333\n",
            "Epoch 25/50\n",
            "116/116 [==============================] - 0s 258us/sample - loss: 1.3677 - accuracy: 0.5259 - val_loss: 1.6618 - val_accuracy: 0.3333\n",
            "Epoch 26/50\n",
            "116/116 [==============================] - 0s 326us/sample - loss: 1.3482 - accuracy: 0.5259 - val_loss: 1.6482 - val_accuracy: 0.3333\n",
            "Epoch 27/50\n",
            "116/116 [==============================] - 0s 318us/sample - loss: 1.3306 - accuracy: 0.5259 - val_loss: 1.6347 - val_accuracy: 0.3333\n",
            "Epoch 28/50\n",
            "116/116 [==============================] - 0s 303us/sample - loss: 1.3135 - accuracy: 0.5259 - val_loss: 1.6229 - val_accuracy: 0.2667\n",
            "Epoch 29/50\n",
            "116/116 [==============================] - 0s 300us/sample - loss: 1.2984 - accuracy: 0.5259 - val_loss: 1.6124 - val_accuracy: 0.2667\n",
            "Epoch 30/50\n",
            "116/116 [==============================] - 0s 271us/sample - loss: 1.2829 - accuracy: 0.5259 - val_loss: 1.6050 - val_accuracy: 0.3333\n",
            "Epoch 31/50\n",
            "116/116 [==============================] - 0s 293us/sample - loss: 1.2708 - accuracy: 0.5259 - val_loss: 1.5986 - val_accuracy: 0.3333\n",
            "Epoch 32/50\n",
            "116/116 [==============================] - 0s 294us/sample - loss: 1.2578 - accuracy: 0.5172 - val_loss: 1.5920 - val_accuracy: 0.3333\n",
            "Epoch 33/50\n",
            "116/116 [==============================] - 0s 280us/sample - loss: 1.2473 - accuracy: 0.5086 - val_loss: 1.5871 - val_accuracy: 0.3333\n",
            "Epoch 34/50\n",
            "116/116 [==============================] - 0s 292us/sample - loss: 1.2369 - accuracy: 0.5172 - val_loss: 1.5832 - val_accuracy: 0.3333\n",
            "Epoch 35/50\n",
            "116/116 [==============================] - 0s 290us/sample - loss: 1.2271 - accuracy: 0.5259 - val_loss: 1.5777 - val_accuracy: 0.3333\n",
            "Epoch 36/50\n",
            "116/116 [==============================] - 0s 293us/sample - loss: 1.2160 - accuracy: 0.5259 - val_loss: 1.5699 - val_accuracy: 0.3333\n",
            "Epoch 37/50\n",
            "116/116 [==============================] - 0s 276us/sample - loss: 1.2071 - accuracy: 0.5172 - val_loss: 1.5640 - val_accuracy: 0.3333\n",
            "Epoch 38/50\n",
            "116/116 [==============================] - 0s 315us/sample - loss: 1.1981 - accuracy: 0.5172 - val_loss: 1.5581 - val_accuracy: 0.3333\n",
            "Epoch 39/50\n",
            "116/116 [==============================] - 0s 306us/sample - loss: 1.1899 - accuracy: 0.5172 - val_loss: 1.5530 - val_accuracy: 0.3333\n",
            "Epoch 40/50\n",
            "116/116 [==============================] - 0s 299us/sample - loss: 1.1820 - accuracy: 0.5259 - val_loss: 1.5491 - val_accuracy: 0.3333\n",
            "Epoch 41/50\n",
            "116/116 [==============================] - 0s 280us/sample - loss: 1.1752 - accuracy: 0.5172 - val_loss: 1.5461 - val_accuracy: 0.3333\n",
            "Epoch 42/50\n",
            "116/116 [==============================] - 0s 293us/sample - loss: 1.1676 - accuracy: 0.5259 - val_loss: 1.5418 - val_accuracy: 0.3333\n",
            "Epoch 43/50\n",
            "116/116 [==============================] - 0s 269us/sample - loss: 1.1604 - accuracy: 0.5345 - val_loss: 1.5369 - val_accuracy: 0.3333\n",
            "Epoch 44/50\n",
            "116/116 [==============================] - 0s 290us/sample - loss: 1.1538 - accuracy: 0.5345 - val_loss: 1.5325 - val_accuracy: 0.3333\n",
            "Epoch 45/50\n",
            "116/116 [==============================] - 0s 306us/sample - loss: 1.1483 - accuracy: 0.5345 - val_loss: 1.5283 - val_accuracy: 0.3333\n",
            "Epoch 46/50\n",
            "116/116 [==============================] - 0s 297us/sample - loss: 1.1419 - accuracy: 0.5345 - val_loss: 1.5244 - val_accuracy: 0.3333\n",
            "Epoch 47/50\n",
            "116/116 [==============================] - 0s 292us/sample - loss: 1.1366 - accuracy: 0.5431 - val_loss: 1.5216 - val_accuracy: 0.2667\n",
            "Epoch 48/50\n",
            "116/116 [==============================] - 0s 291us/sample - loss: 1.1321 - accuracy: 0.5431 - val_loss: 1.5178 - val_accuracy: 0.2667\n",
            "Epoch 49/50\n",
            "116/116 [==============================] - 0s 309us/sample - loss: 1.1260 - accuracy: 0.5517 - val_loss: 1.5140 - val_accuracy: 0.2667\n",
            "Epoch 50/50\n",
            "116/116 [==============================] - 0s 338us/sample - loss: 1.1212 - accuracy: 0.5431 - val_loss: 1.5106 - val_accuracy: 0.2667\n",
            "Train on 116 samples, validate on 15 samples\n",
            "Epoch 1/50\n",
            "116/116 [==============================] - 0s 3ms/sample - loss: 2.0697 - accuracy: 0.3362 - val_loss: 1.5774 - val_accuracy: 0.2667\n",
            "Epoch 2/50\n",
            "116/116 [==============================] - 0s 357us/sample - loss: 1.9827 - accuracy: 0.3448 - val_loss: 1.5444 - val_accuracy: 0.2667\n",
            "Epoch 3/50\n",
            "116/116 [==============================] - 0s 367us/sample - loss: 1.9020 - accuracy: 0.3448 - val_loss: 1.5138 - val_accuracy: 0.2667\n",
            "Epoch 4/50\n",
            "116/116 [==============================] - 0s 275us/sample - loss: 1.8308 - accuracy: 0.3534 - val_loss: 1.4851 - val_accuracy: 0.2667\n",
            "Epoch 5/50\n",
            "116/116 [==============================] - 0s 297us/sample - loss: 1.7639 - accuracy: 0.3448 - val_loss: 1.4564 - val_accuracy: 0.3333\n",
            "Epoch 6/50\n",
            "116/116 [==============================] - 0s 287us/sample - loss: 1.7016 - accuracy: 0.3362 - val_loss: 1.4289 - val_accuracy: 0.3333\n",
            "Epoch 7/50\n",
            "116/116 [==============================] - 0s 323us/sample - loss: 1.6475 - accuracy: 0.3362 - val_loss: 1.4061 - val_accuracy: 0.2667\n",
            "Epoch 8/50\n",
            "116/116 [==============================] - 0s 317us/sample - loss: 1.5988 - accuracy: 0.3534 - val_loss: 1.3865 - val_accuracy: 0.2000\n",
            "Epoch 9/50\n",
            "116/116 [==============================] - 0s 297us/sample - loss: 1.5511 - accuracy: 0.3621 - val_loss: 1.3670 - val_accuracy: 0.2000\n",
            "Epoch 10/50\n",
            "116/116 [==============================] - 0s 307us/sample - loss: 1.5083 - accuracy: 0.3621 - val_loss: 1.3477 - val_accuracy: 0.2000\n",
            "Epoch 11/50\n",
            "116/116 [==============================] - 0s 294us/sample - loss: 1.4717 - accuracy: 0.3707 - val_loss: 1.3304 - val_accuracy: 0.2000\n",
            "Epoch 12/50\n",
            "116/116 [==============================] - 0s 300us/sample - loss: 1.4396 - accuracy: 0.3707 - val_loss: 1.3149 - val_accuracy: 0.2000\n",
            "Epoch 13/50\n",
            "116/116 [==============================] - 0s 318us/sample - loss: 1.4090 - accuracy: 0.3707 - val_loss: 1.3002 - val_accuracy: 0.2000\n",
            "Epoch 14/50\n",
            "116/116 [==============================] - 0s 311us/sample - loss: 1.3828 - accuracy: 0.3793 - val_loss: 1.2884 - val_accuracy: 0.2000\n",
            "Epoch 15/50\n",
            "116/116 [==============================] - 0s 308us/sample - loss: 1.3596 - accuracy: 0.3879 - val_loss: 1.2788 - val_accuracy: 0.2000\n",
            "Epoch 16/50\n",
            "116/116 [==============================] - 0s 308us/sample - loss: 1.3389 - accuracy: 0.3966 - val_loss: 1.2702 - val_accuracy: 0.2000\n",
            "Epoch 17/50\n",
            "116/116 [==============================] - 0s 327us/sample - loss: 1.3198 - accuracy: 0.4224 - val_loss: 1.2621 - val_accuracy: 0.2000\n",
            "Epoch 18/50\n",
            "116/116 [==============================] - 0s 314us/sample - loss: 1.3035 - accuracy: 0.4224 - val_loss: 1.2529 - val_accuracy: 0.2000\n",
            "Epoch 19/50\n",
            "116/116 [==============================] - 0s 315us/sample - loss: 1.2861 - accuracy: 0.4397 - val_loss: 1.2454 - val_accuracy: 0.2000\n",
            "Epoch 20/50\n",
            "116/116 [==============================] - 0s 280us/sample - loss: 1.2720 - accuracy: 0.4483 - val_loss: 1.2382 - val_accuracy: 0.2000\n",
            "Epoch 21/50\n",
            "116/116 [==============================] - 0s 278us/sample - loss: 1.2606 - accuracy: 0.4655 - val_loss: 1.2313 - val_accuracy: 0.2000\n",
            "Epoch 22/50\n",
            "116/116 [==============================] - 0s 275us/sample - loss: 1.2490 - accuracy: 0.4655 - val_loss: 1.2253 - val_accuracy: 0.2000\n",
            "Epoch 23/50\n",
            "116/116 [==============================] - 0s 346us/sample - loss: 1.2376 - accuracy: 0.4655 - val_loss: 1.2196 - val_accuracy: 0.2000\n",
            "Epoch 24/50\n",
            "116/116 [==============================] - 0s 279us/sample - loss: 1.2268 - accuracy: 0.4741 - val_loss: 1.2129 - val_accuracy: 0.2000\n",
            "Epoch 25/50\n",
            "116/116 [==============================] - 0s 287us/sample - loss: 1.2176 - accuracy: 0.4655 - val_loss: 1.2065 - val_accuracy: 0.2000\n",
            "Epoch 26/50\n",
            "116/116 [==============================] - 0s 277us/sample - loss: 1.2083 - accuracy: 0.4741 - val_loss: 1.2011 - val_accuracy: 0.2000\n",
            "Epoch 27/50\n",
            "116/116 [==============================] - 0s 272us/sample - loss: 1.2005 - accuracy: 0.4741 - val_loss: 1.1959 - val_accuracy: 0.1333\n",
            "Epoch 28/50\n",
            "116/116 [==============================] - 0s 294us/sample - loss: 1.1924 - accuracy: 0.4741 - val_loss: 1.1908 - val_accuracy: 0.2000\n",
            "Epoch 29/50\n",
            "116/116 [==============================] - 0s 302us/sample - loss: 1.1854 - accuracy: 0.4741 - val_loss: 1.1876 - val_accuracy: 0.2000\n",
            "Epoch 30/50\n",
            "116/116 [==============================] - 0s 274us/sample - loss: 1.1770 - accuracy: 0.4741 - val_loss: 1.1829 - val_accuracy: 0.2000\n",
            "Epoch 31/50\n",
            "116/116 [==============================] - 0s 278us/sample - loss: 1.1713 - accuracy: 0.4741 - val_loss: 1.1781 - val_accuracy: 0.2667\n",
            "Epoch 32/50\n",
            "116/116 [==============================] - 0s 288us/sample - loss: 1.1651 - accuracy: 0.4741 - val_loss: 1.1745 - val_accuracy: 0.2667\n",
            "Epoch 33/50\n",
            "116/116 [==============================] - 0s 301us/sample - loss: 1.1588 - accuracy: 0.4828 - val_loss: 1.1719 - val_accuracy: 0.2667\n",
            "Epoch 34/50\n",
            "116/116 [==============================] - 0s 297us/sample - loss: 1.1527 - accuracy: 0.4828 - val_loss: 1.1689 - val_accuracy: 0.2667\n",
            "Epoch 35/50\n",
            "116/116 [==============================] - 0s 382us/sample - loss: 1.1471 - accuracy: 0.5086 - val_loss: 1.1651 - val_accuracy: 0.2667\n",
            "Epoch 36/50\n",
            "116/116 [==============================] - 0s 318us/sample - loss: 1.1427 - accuracy: 0.5086 - val_loss: 1.1620 - val_accuracy: 0.2667\n",
            "Epoch 37/50\n",
            "116/116 [==============================] - 0s 317us/sample - loss: 1.1375 - accuracy: 0.5086 - val_loss: 1.1602 - val_accuracy: 0.2667\n",
            "Epoch 38/50\n",
            "116/116 [==============================] - 0s 335us/sample - loss: 1.1334 - accuracy: 0.5086 - val_loss: 1.1580 - val_accuracy: 0.2667\n",
            "Epoch 39/50\n",
            "116/116 [==============================] - 0s 310us/sample - loss: 1.1287 - accuracy: 0.5086 - val_loss: 1.1549 - val_accuracy: 0.2667\n",
            "Epoch 40/50\n",
            "116/116 [==============================] - 0s 323us/sample - loss: 1.1246 - accuracy: 0.5086 - val_loss: 1.1524 - val_accuracy: 0.2667\n",
            "Epoch 41/50\n",
            "116/116 [==============================] - 0s 300us/sample - loss: 1.1197 - accuracy: 0.5172 - val_loss: 1.1491 - val_accuracy: 0.2667\n",
            "Epoch 42/50\n",
            "116/116 [==============================] - 0s 305us/sample - loss: 1.1154 - accuracy: 0.5517 - val_loss: 1.1467 - val_accuracy: 0.2667\n",
            "Epoch 43/50\n",
            "116/116 [==============================] - 0s 304us/sample - loss: 1.1119 - accuracy: 0.5431 - val_loss: 1.1447 - val_accuracy: 0.2667\n",
            "Epoch 44/50\n",
            "116/116 [==============================] - 0s 286us/sample - loss: 1.1075 - accuracy: 0.5517 - val_loss: 1.1431 - val_accuracy: 0.2667\n",
            "Epoch 45/50\n",
            "116/116 [==============================] - 0s 352us/sample - loss: 1.1048 - accuracy: 0.5517 - val_loss: 1.1423 - val_accuracy: 0.3333\n",
            "Epoch 46/50\n",
            "116/116 [==============================] - 0s 312us/sample - loss: 1.1004 - accuracy: 0.5431 - val_loss: 1.1411 - val_accuracy: 0.3333\n",
            "Epoch 47/50\n",
            "116/116 [==============================] - 0s 305us/sample - loss: 1.0966 - accuracy: 0.5431 - val_loss: 1.1394 - val_accuracy: 0.3333\n",
            "Epoch 48/50\n",
            "116/116 [==============================] - 0s 297us/sample - loss: 1.0931 - accuracy: 0.5431 - val_loss: 1.1375 - val_accuracy: 0.3333\n",
            "Epoch 49/50\n",
            "116/116 [==============================] - 0s 267us/sample - loss: 1.0902 - accuracy: 0.5345 - val_loss: 1.1356 - val_accuracy: 0.3333\n",
            "Epoch 50/50\n",
            "116/116 [==============================] - 0s 284us/sample - loss: 1.0868 - accuracy: 0.5345 - val_loss: 1.1342 - val_accuracy: 0.3333\n"
          ],
          "name": "stdout"
        },
        {
          "output_type": "display_data",
          "data": {
            "text/html": [
              "<span style=\"color:#4527A0\"><h1 style=\"font-size:18px\">Trial complete</h1></span>"
            ],
            "text/plain": [
              "<IPython.core.display.HTML object>"
            ]
          },
          "metadata": {
            "tags": []
          }
        },
        {
          "output_type": "display_data",
          "data": {
            "text/html": [
              "<span style=\"color:#4527A0\"><h1 style=\"font-size:18px\">Trial summary</h1></span>"
            ],
            "text/plain": [
              "<IPython.core.display.HTML object>"
            ]
          },
          "metadata": {
            "tags": []
          }
        },
        {
          "output_type": "display_data",
          "data": {
            "text/html": [
              "<span style=\"color:#7E57C2\"><h2 style=\"font-size:16px\">Hp values:</h2></span>"
            ],
            "text/plain": [
              "<IPython.core.display.HTML object>"
            ]
          },
          "metadata": {
            "tags": []
          }
        },
        {
          "output_type": "display_data",
          "data": {
            "text/html": [
              "<span style=\"color:cyan\"> |-learning_rate: 0.001</span>"
            ],
            "text/plain": [
              "<IPython.core.display.HTML object>"
            ]
          },
          "metadata": {
            "tags": []
          }
        },
        {
          "output_type": "display_data",
          "data": {
            "text/html": [
              "<span style=\"color:blue\"> |-momentum: 0.2</span>"
            ],
            "text/plain": [
              "<IPython.core.display.HTML object>"
            ]
          },
          "metadata": {
            "tags": []
          }
        },
        {
          "output_type": "display_data",
          "data": {
            "text/html": [
              "<span style=\"color:cyan\"> |-Score: 0.3777777850627899</span>"
            ],
            "text/plain": [
              "<IPython.core.display.HTML object>"
            ]
          },
          "metadata": {
            "tags": []
          }
        },
        {
          "output_type": "display_data",
          "data": {
            "text/html": [
              "<span style=\"color:cyan\"> |-Best step: 0</span>"
            ],
            "text/plain": [
              "<IPython.core.display.HTML object>"
            ]
          },
          "metadata": {
            "tags": []
          }
        },
        {
          "output_type": "stream",
          "text": [
            "Train on 116 samples, validate on 15 samples\n",
            "Epoch 1/50\n",
            "116/116 [==============================] - 0s 3ms/sample - loss: 1.4655 - accuracy: 0.4138 - val_loss: 1.5566 - val_accuracy: 0.4000\n",
            "Epoch 2/50\n",
            "116/116 [==============================] - 0s 313us/sample - loss: 1.4617 - accuracy: 0.4138 - val_loss: 1.5520 - val_accuracy: 0.4000\n",
            "Epoch 3/50\n",
            "116/116 [==============================] - 0s 294us/sample - loss: 1.4583 - accuracy: 0.4138 - val_loss: 1.5477 - val_accuracy: 0.4000\n",
            "Epoch 4/50\n",
            "116/116 [==============================] - 0s 272us/sample - loss: 1.4550 - accuracy: 0.4138 - val_loss: 1.5435 - val_accuracy: 0.4000\n",
            "Epoch 5/50\n",
            "116/116 [==============================] - 0s 260us/sample - loss: 1.4516 - accuracy: 0.4138 - val_loss: 1.5394 - val_accuracy: 0.4000\n",
            "Epoch 6/50\n",
            "116/116 [==============================] - 0s 298us/sample - loss: 1.4482 - accuracy: 0.4138 - val_loss: 1.5353 - val_accuracy: 0.4000\n",
            "Epoch 7/50\n",
            "116/116 [==============================] - 0s 310us/sample - loss: 1.4450 - accuracy: 0.4138 - val_loss: 1.5312 - val_accuracy: 0.4000\n",
            "Epoch 8/50\n",
            "116/116 [==============================] - 0s 287us/sample - loss: 1.4417 - accuracy: 0.4138 - val_loss: 1.5272 - val_accuracy: 0.4000\n",
            "Epoch 9/50\n",
            "116/116 [==============================] - 0s 281us/sample - loss: 1.4384 - accuracy: 0.4138 - val_loss: 1.5232 - val_accuracy: 0.4000\n",
            "Epoch 10/50\n",
            "116/116 [==============================] - 0s 255us/sample - loss: 1.4351 - accuracy: 0.4224 - val_loss: 1.5192 - val_accuracy: 0.4000\n",
            "Epoch 11/50\n",
            "116/116 [==============================] - 0s 294us/sample - loss: 1.4320 - accuracy: 0.4224 - val_loss: 1.5153 - val_accuracy: 0.4000\n",
            "Epoch 12/50\n",
            "116/116 [==============================] - 0s 281us/sample - loss: 1.4289 - accuracy: 0.4224 - val_loss: 1.5113 - val_accuracy: 0.4000\n",
            "Epoch 13/50\n",
            "116/116 [==============================] - 0s 284us/sample - loss: 1.4256 - accuracy: 0.4224 - val_loss: 1.5072 - val_accuracy: 0.4000\n",
            "Epoch 14/50\n",
            "116/116 [==============================] - 0s 353us/sample - loss: 1.4224 - accuracy: 0.4224 - val_loss: 1.5032 - val_accuracy: 0.4000\n",
            "Epoch 15/50\n",
            "116/116 [==============================] - 0s 315us/sample - loss: 1.4192 - accuracy: 0.4224 - val_loss: 1.4993 - val_accuracy: 0.4000\n",
            "Epoch 16/50\n",
            "116/116 [==============================] - 0s 280us/sample - loss: 1.4163 - accuracy: 0.4224 - val_loss: 1.4955 - val_accuracy: 0.4000\n",
            "Epoch 17/50\n",
            "116/116 [==============================] - 0s 320us/sample - loss: 1.4132 - accuracy: 0.4224 - val_loss: 1.4918 - val_accuracy: 0.4000\n",
            "Epoch 18/50\n",
            "116/116 [==============================] - 0s 303us/sample - loss: 1.4102 - accuracy: 0.4224 - val_loss: 1.4878 - val_accuracy: 0.4000\n",
            "Epoch 19/50\n",
            "116/116 [==============================] - 0s 271us/sample - loss: 1.4070 - accuracy: 0.4138 - val_loss: 1.4838 - val_accuracy: 0.4000\n",
            "Epoch 20/50\n",
            "116/116 [==============================] - 0s 281us/sample - loss: 1.4040 - accuracy: 0.4138 - val_loss: 1.4801 - val_accuracy: 0.4000\n",
            "Epoch 21/50\n",
            "116/116 [==============================] - 0s 280us/sample - loss: 1.4011 - accuracy: 0.4138 - val_loss: 1.4765 - val_accuracy: 0.4000\n",
            "Epoch 22/50\n",
            "116/116 [==============================] - 0s 281us/sample - loss: 1.3982 - accuracy: 0.4138 - val_loss: 1.4729 - val_accuracy: 0.4000\n",
            "Epoch 23/50\n",
            "116/116 [==============================] - 0s 277us/sample - loss: 1.3955 - accuracy: 0.4138 - val_loss: 1.4692 - val_accuracy: 0.4000\n",
            "Epoch 24/50\n",
            "116/116 [==============================] - 0s 313us/sample - loss: 1.3925 - accuracy: 0.4138 - val_loss: 1.4654 - val_accuracy: 0.4000\n",
            "Epoch 25/50\n",
            "116/116 [==============================] - 0s 286us/sample - loss: 1.3897 - accuracy: 0.4138 - val_loss: 1.4619 - val_accuracy: 0.4000\n",
            "Epoch 26/50\n",
            "116/116 [==============================] - 0s 293us/sample - loss: 1.3868 - accuracy: 0.4138 - val_loss: 1.4582 - val_accuracy: 0.4000\n",
            "Epoch 27/50\n",
            "116/116 [==============================] - 0s 279us/sample - loss: 1.3839 - accuracy: 0.4138 - val_loss: 1.4545 - val_accuracy: 0.4000\n",
            "Epoch 28/50\n",
            "116/116 [==============================] - 0s 239us/sample - loss: 1.3809 - accuracy: 0.4138 - val_loss: 1.4509 - val_accuracy: 0.4000\n",
            "Epoch 29/50\n",
            "116/116 [==============================] - 0s 290us/sample - loss: 1.3783 - accuracy: 0.4138 - val_loss: 1.4475 - val_accuracy: 0.4000\n",
            "Epoch 30/50\n",
            "116/116 [==============================] - 0s 304us/sample - loss: 1.3755 - accuracy: 0.4224 - val_loss: 1.4438 - val_accuracy: 0.4000\n",
            "Epoch 31/50\n",
            "116/116 [==============================] - 0s 345us/sample - loss: 1.3727 - accuracy: 0.4310 - val_loss: 1.4401 - val_accuracy: 0.4667\n",
            "Epoch 32/50\n",
            "116/116 [==============================] - 0s 319us/sample - loss: 1.3699 - accuracy: 0.4310 - val_loss: 1.4365 - val_accuracy: 0.4667\n",
            "Epoch 33/50\n",
            "116/116 [==============================] - 0s 282us/sample - loss: 1.3671 - accuracy: 0.4310 - val_loss: 1.4331 - val_accuracy: 0.4667\n",
            "Epoch 34/50\n",
            "116/116 [==============================] - 0s 274us/sample - loss: 1.3645 - accuracy: 0.4310 - val_loss: 1.4299 - val_accuracy: 0.4667\n",
            "Epoch 35/50\n",
            "116/116 [==============================] - 0s 302us/sample - loss: 1.3620 - accuracy: 0.4310 - val_loss: 1.4267 - val_accuracy: 0.4667\n",
            "Epoch 36/50\n",
            "116/116 [==============================] - 0s 321us/sample - loss: 1.3593 - accuracy: 0.4310 - val_loss: 1.4235 - val_accuracy: 0.4667\n",
            "Epoch 37/50\n",
            "116/116 [==============================] - 0s 272us/sample - loss: 1.3568 - accuracy: 0.4310 - val_loss: 1.4202 - val_accuracy: 0.4667\n",
            "Epoch 38/50\n",
            "116/116 [==============================] - 0s 268us/sample - loss: 1.3541 - accuracy: 0.4310 - val_loss: 1.4169 - val_accuracy: 0.4667\n",
            "Epoch 39/50\n",
            "116/116 [==============================] - 0s 323us/sample - loss: 1.3518 - accuracy: 0.4310 - val_loss: 1.4137 - val_accuracy: 0.4667\n",
            "Epoch 40/50\n",
            "116/116 [==============================] - 0s 284us/sample - loss: 1.3490 - accuracy: 0.4310 - val_loss: 1.4105 - val_accuracy: 0.4667\n",
            "Epoch 41/50\n",
            "116/116 [==============================] - 0s 276us/sample - loss: 1.3465 - accuracy: 0.4310 - val_loss: 1.4072 - val_accuracy: 0.4667\n",
            "Epoch 42/50\n",
            "116/116 [==============================] - 0s 274us/sample - loss: 1.3440 - accuracy: 0.4310 - val_loss: 1.4041 - val_accuracy: 0.4667\n",
            "Epoch 43/50\n",
            "116/116 [==============================] - 0s 274us/sample - loss: 1.3415 - accuracy: 0.4310 - val_loss: 1.4013 - val_accuracy: 0.4667\n",
            "Epoch 44/50\n",
            "116/116 [==============================] - 0s 273us/sample - loss: 1.3392 - accuracy: 0.4310 - val_loss: 1.3987 - val_accuracy: 0.4667\n",
            "Epoch 45/50\n",
            "116/116 [==============================] - 0s 287us/sample - loss: 1.3370 - accuracy: 0.4310 - val_loss: 1.3960 - val_accuracy: 0.4667\n",
            "Epoch 46/50\n",
            "116/116 [==============================] - 0s 280us/sample - loss: 1.3345 - accuracy: 0.4310 - val_loss: 1.3931 - val_accuracy: 0.4667\n",
            "Epoch 47/50\n",
            "116/116 [==============================] - 0s 266us/sample - loss: 1.3321 - accuracy: 0.4310 - val_loss: 1.3904 - val_accuracy: 0.4667\n",
            "Epoch 48/50\n",
            "116/116 [==============================] - 0s 270us/sample - loss: 1.3299 - accuracy: 0.4310 - val_loss: 1.3878 - val_accuracy: 0.4667\n",
            "Epoch 49/50\n",
            "116/116 [==============================] - 0s 269us/sample - loss: 1.3276 - accuracy: 0.4310 - val_loss: 1.3850 - val_accuracy: 0.4667\n",
            "Epoch 50/50\n",
            "116/116 [==============================] - 0s 279us/sample - loss: 1.3254 - accuracy: 0.4310 - val_loss: 1.3824 - val_accuracy: 0.4667\n",
            "Train on 116 samples, validate on 15 samples\n",
            "Epoch 1/50\n",
            "116/116 [==============================] - 0s 3ms/sample - loss: 1.6113 - accuracy: 0.3017 - val_loss: 1.1505 - val_accuracy: 0.6667\n",
            "Epoch 2/50\n",
            "116/116 [==============================] - 0s 313us/sample - loss: 1.6057 - accuracy: 0.3103 - val_loss: 1.1500 - val_accuracy: 0.6667\n",
            "Epoch 3/50\n",
            "116/116 [==============================] - 0s 259us/sample - loss: 1.6001 - accuracy: 0.3103 - val_loss: 1.1495 - val_accuracy: 0.6667\n",
            "Epoch 4/50\n",
            "116/116 [==============================] - 0s 277us/sample - loss: 1.5947 - accuracy: 0.3103 - val_loss: 1.1490 - val_accuracy: 0.6667\n",
            "Epoch 5/50\n",
            "116/116 [==============================] - 0s 266us/sample - loss: 1.5891 - accuracy: 0.3103 - val_loss: 1.1485 - val_accuracy: 0.6667\n",
            "Epoch 6/50\n",
            "116/116 [==============================] - 0s 251us/sample - loss: 1.5837 - accuracy: 0.3103 - val_loss: 1.1481 - val_accuracy: 0.6667\n",
            "Epoch 7/50\n",
            "116/116 [==============================] - 0s 278us/sample - loss: 1.5782 - accuracy: 0.3103 - val_loss: 1.1477 - val_accuracy: 0.6667\n",
            "Epoch 8/50\n",
            "116/116 [==============================] - 0s 279us/sample - loss: 1.5727 - accuracy: 0.3103 - val_loss: 1.1473 - val_accuracy: 0.6667\n",
            "Epoch 9/50\n",
            "116/116 [==============================] - 0s 278us/sample - loss: 1.5672 - accuracy: 0.3103 - val_loss: 1.1468 - val_accuracy: 0.6667\n",
            "Epoch 10/50\n",
            "116/116 [==============================] - 0s 261us/sample - loss: 1.5620 - accuracy: 0.3103 - val_loss: 1.1465 - val_accuracy: 0.6667\n",
            "Epoch 11/50\n",
            "116/116 [==============================] - 0s 301us/sample - loss: 1.5568 - accuracy: 0.3103 - val_loss: 1.1461 - val_accuracy: 0.6000\n",
            "Epoch 12/50\n",
            "116/116 [==============================] - 0s 268us/sample - loss: 1.5518 - accuracy: 0.3190 - val_loss: 1.1457 - val_accuracy: 0.6000\n",
            "Epoch 13/50\n",
            "116/116 [==============================] - 0s 272us/sample - loss: 1.5467 - accuracy: 0.3190 - val_loss: 1.1454 - val_accuracy: 0.6000\n",
            "Epoch 14/50\n",
            "116/116 [==============================] - 0s 260us/sample - loss: 1.5416 - accuracy: 0.3190 - val_loss: 1.1450 - val_accuracy: 0.5333\n",
            "Epoch 15/50\n",
            "116/116 [==============================] - 0s 276us/sample - loss: 1.5368 - accuracy: 0.3190 - val_loss: 1.1448 - val_accuracy: 0.5333\n",
            "Epoch 16/50\n",
            "116/116 [==============================] - 0s 266us/sample - loss: 1.5316 - accuracy: 0.3103 - val_loss: 1.1446 - val_accuracy: 0.5333\n",
            "Epoch 17/50\n",
            "116/116 [==============================] - 0s 274us/sample - loss: 1.5267 - accuracy: 0.3190 - val_loss: 1.1443 - val_accuracy: 0.5333\n",
            "Epoch 18/50\n",
            "116/116 [==============================] - 0s 311us/sample - loss: 1.5218 - accuracy: 0.3190 - val_loss: 1.1440 - val_accuracy: 0.5333\n",
            "Epoch 19/50\n",
            "116/116 [==============================] - 0s 286us/sample - loss: 1.5171 - accuracy: 0.3276 - val_loss: 1.1436 - val_accuracy: 0.5333\n",
            "Epoch 20/50\n",
            "116/116 [==============================] - 0s 280us/sample - loss: 1.5123 - accuracy: 0.3276 - val_loss: 1.1431 - val_accuracy: 0.5333\n",
            "Epoch 21/50\n",
            "116/116 [==============================] - 0s 282us/sample - loss: 1.5075 - accuracy: 0.3276 - val_loss: 1.1428 - val_accuracy: 0.5333\n",
            "Epoch 22/50\n",
            "116/116 [==============================] - 0s 287us/sample - loss: 1.5024 - accuracy: 0.3276 - val_loss: 1.1426 - val_accuracy: 0.5333\n",
            "Epoch 23/50\n",
            "116/116 [==============================] - 0s 299us/sample - loss: 1.4978 - accuracy: 0.3276 - val_loss: 1.1425 - val_accuracy: 0.5333\n",
            "Epoch 24/50\n",
            "116/116 [==============================] - 0s 342us/sample - loss: 1.4927 - accuracy: 0.3276 - val_loss: 1.1422 - val_accuracy: 0.5333\n",
            "Epoch 25/50\n",
            "116/116 [==============================] - 0s 276us/sample - loss: 1.4882 - accuracy: 0.3362 - val_loss: 1.1419 - val_accuracy: 0.5333\n",
            "Epoch 26/50\n",
            "116/116 [==============================] - 0s 291us/sample - loss: 1.4835 - accuracy: 0.3362 - val_loss: 1.1416 - val_accuracy: 0.5333\n",
            "Epoch 27/50\n",
            "116/116 [==============================] - 0s 291us/sample - loss: 1.4791 - accuracy: 0.3362 - val_loss: 1.1414 - val_accuracy: 0.5333\n",
            "Epoch 28/50\n",
            "116/116 [==============================] - 0s 310us/sample - loss: 1.4746 - accuracy: 0.3448 - val_loss: 1.1411 - val_accuracy: 0.5333\n",
            "Epoch 29/50\n",
            "116/116 [==============================] - 0s 311us/sample - loss: 1.4702 - accuracy: 0.3448 - val_loss: 1.1408 - val_accuracy: 0.5333\n",
            "Epoch 30/50\n",
            "116/116 [==============================] - 0s 288us/sample - loss: 1.4658 - accuracy: 0.3448 - val_loss: 1.1407 - val_accuracy: 0.5333\n",
            "Epoch 31/50\n",
            "116/116 [==============================] - 0s 309us/sample - loss: 1.4615 - accuracy: 0.3448 - val_loss: 1.1406 - val_accuracy: 0.5333\n",
            "Epoch 32/50\n",
            "116/116 [==============================] - 0s 287us/sample - loss: 1.4570 - accuracy: 0.3448 - val_loss: 1.1405 - val_accuracy: 0.5333\n",
            "Epoch 33/50\n",
            "116/116 [==============================] - 0s 283us/sample - loss: 1.4529 - accuracy: 0.3448 - val_loss: 1.1402 - val_accuracy: 0.5333\n",
            "Epoch 34/50\n",
            "116/116 [==============================] - 0s 305us/sample - loss: 1.4489 - accuracy: 0.3448 - val_loss: 1.1400 - val_accuracy: 0.5333\n",
            "Epoch 35/50\n",
            "116/116 [==============================] - 0s 301us/sample - loss: 1.4446 - accuracy: 0.3448 - val_loss: 1.1397 - val_accuracy: 0.5333\n",
            "Epoch 36/50\n",
            "116/116 [==============================] - 0s 331us/sample - loss: 1.4407 - accuracy: 0.3448 - val_loss: 1.1395 - val_accuracy: 0.5333\n",
            "Epoch 37/50\n",
            "116/116 [==============================] - 0s 293us/sample - loss: 1.4367 - accuracy: 0.3448 - val_loss: 1.1392 - val_accuracy: 0.5333\n",
            "Epoch 38/50\n",
            "116/116 [==============================] - 0s 306us/sample - loss: 1.4327 - accuracy: 0.3448 - val_loss: 1.1388 - val_accuracy: 0.5333\n",
            "Epoch 39/50\n",
            "116/116 [==============================] - 0s 292us/sample - loss: 1.4288 - accuracy: 0.3448 - val_loss: 1.1385 - val_accuracy: 0.5333\n",
            "Epoch 40/50\n",
            "116/116 [==============================] - 0s 280us/sample - loss: 1.4248 - accuracy: 0.3448 - val_loss: 1.1383 - val_accuracy: 0.5333\n",
            "Epoch 41/50\n",
            "116/116 [==============================] - 0s 281us/sample - loss: 1.4209 - accuracy: 0.3448 - val_loss: 1.1381 - val_accuracy: 0.5333\n",
            "Epoch 42/50\n",
            "116/116 [==============================] - 0s 270us/sample - loss: 1.4171 - accuracy: 0.3362 - val_loss: 1.1378 - val_accuracy: 0.5333\n",
            "Epoch 43/50\n",
            "116/116 [==============================] - 0s 325us/sample - loss: 1.4134 - accuracy: 0.3362 - val_loss: 1.1374 - val_accuracy: 0.5333\n",
            "Epoch 44/50\n",
            "116/116 [==============================] - 0s 298us/sample - loss: 1.4098 - accuracy: 0.3362 - val_loss: 1.1371 - val_accuracy: 0.5333\n",
            "Epoch 45/50\n",
            "116/116 [==============================] - 0s 295us/sample - loss: 1.4061 - accuracy: 0.3276 - val_loss: 1.1369 - val_accuracy: 0.5333\n",
            "Epoch 46/50\n",
            "116/116 [==============================] - 0s 297us/sample - loss: 1.4024 - accuracy: 0.3276 - val_loss: 1.1366 - val_accuracy: 0.5333\n",
            "Epoch 47/50\n",
            "116/116 [==============================] - 0s 295us/sample - loss: 1.3989 - accuracy: 0.3276 - val_loss: 1.1363 - val_accuracy: 0.5333\n",
            "Epoch 48/50\n",
            "116/116 [==============================] - 0s 315us/sample - loss: 1.3954 - accuracy: 0.3276 - val_loss: 1.1361 - val_accuracy: 0.5333\n",
            "Epoch 49/50\n",
            "116/116 [==============================] - 0s 272us/sample - loss: 1.3919 - accuracy: 0.3362 - val_loss: 1.1357 - val_accuracy: 0.5333\n",
            "Epoch 50/50\n",
            "116/116 [==============================] - 0s 269us/sample - loss: 1.3884 - accuracy: 0.3362 - val_loss: 1.1355 - val_accuracy: 0.5333\n",
            "Train on 116 samples, validate on 15 samples\n",
            "Epoch 1/50\n",
            "116/116 [==============================] - 0s 3ms/sample - loss: 2.8353 - accuracy: 0.3362 - val_loss: 1.5697 - val_accuracy: 0.4667\n",
            "Epoch 2/50\n",
            "116/116 [==============================] - 0s 303us/sample - loss: 2.8064 - accuracy: 0.3362 - val_loss: 1.5696 - val_accuracy: 0.4667\n",
            "Epoch 3/50\n",
            "116/116 [==============================] - 0s 277us/sample - loss: 2.7774 - accuracy: 0.3362 - val_loss: 1.5695 - val_accuracy: 0.4667\n",
            "Epoch 4/50\n",
            "116/116 [==============================] - 0s 284us/sample - loss: 2.7484 - accuracy: 0.3362 - val_loss: 1.5696 - val_accuracy: 0.4667\n",
            "Epoch 5/50\n",
            "116/116 [==============================] - 0s 311us/sample - loss: 2.7198 - accuracy: 0.3362 - val_loss: 1.5698 - val_accuracy: 0.4667\n",
            "Epoch 6/50\n",
            "116/116 [==============================] - 0s 300us/sample - loss: 2.6912 - accuracy: 0.3362 - val_loss: 1.5702 - val_accuracy: 0.4667\n",
            "Epoch 7/50\n",
            "116/116 [==============================] - 0s 300us/sample - loss: 2.6632 - accuracy: 0.3448 - val_loss: 1.5706 - val_accuracy: 0.4667\n",
            "Epoch 8/50\n",
            "116/116 [==============================] - 0s 303us/sample - loss: 2.6362 - accuracy: 0.3448 - val_loss: 1.5712 - val_accuracy: 0.4667\n",
            "Epoch 9/50\n",
            "116/116 [==============================] - 0s 291us/sample - loss: 2.6086 - accuracy: 0.3448 - val_loss: 1.5718 - val_accuracy: 0.4667\n",
            "Epoch 10/50\n",
            "116/116 [==============================] - 0s 296us/sample - loss: 2.5813 - accuracy: 0.3362 - val_loss: 1.5722 - val_accuracy: 0.4667\n",
            "Epoch 11/50\n",
            "116/116 [==============================] - 0s 316us/sample - loss: 2.5546 - accuracy: 0.3362 - val_loss: 1.5730 - val_accuracy: 0.4667\n",
            "Epoch 12/50\n",
            "116/116 [==============================] - 0s 288us/sample - loss: 2.5287 - accuracy: 0.3362 - val_loss: 1.5739 - val_accuracy: 0.4667\n",
            "Epoch 13/50\n",
            "116/116 [==============================] - 0s 278us/sample - loss: 2.5030 - accuracy: 0.3362 - val_loss: 1.5751 - val_accuracy: 0.4667\n",
            "Epoch 14/50\n",
            "116/116 [==============================] - 0s 254us/sample - loss: 2.4777 - accuracy: 0.3276 - val_loss: 1.5765 - val_accuracy: 0.4667\n",
            "Epoch 15/50\n",
            "116/116 [==============================] - 0s 266us/sample - loss: 2.4531 - accuracy: 0.3276 - val_loss: 1.5779 - val_accuracy: 0.4667\n",
            "Epoch 16/50\n",
            "116/116 [==============================] - 0s 283us/sample - loss: 2.4281 - accuracy: 0.3362 - val_loss: 1.5794 - val_accuracy: 0.4667\n",
            "Epoch 17/50\n",
            "116/116 [==============================] - 0s 323us/sample - loss: 2.4043 - accuracy: 0.3362 - val_loss: 1.5810 - val_accuracy: 0.4667\n",
            "Epoch 18/50\n",
            "116/116 [==============================] - 0s 275us/sample - loss: 2.3807 - accuracy: 0.3362 - val_loss: 1.5827 - val_accuracy: 0.4667\n",
            "Epoch 19/50\n",
            "116/116 [==============================] - 0s 282us/sample - loss: 2.3578 - accuracy: 0.3448 - val_loss: 1.5844 - val_accuracy: 0.4667\n",
            "Epoch 20/50\n",
            "116/116 [==============================] - 0s 277us/sample - loss: 2.3350 - accuracy: 0.3448 - val_loss: 1.5863 - val_accuracy: 0.4667\n",
            "Epoch 21/50\n",
            "116/116 [==============================] - 0s 285us/sample - loss: 2.3121 - accuracy: 0.3448 - val_loss: 1.5884 - val_accuracy: 0.4667\n",
            "Epoch 22/50\n",
            "116/116 [==============================] - 0s 273us/sample - loss: 2.2896 - accuracy: 0.3448 - val_loss: 1.5908 - val_accuracy: 0.4667\n",
            "Epoch 23/50\n",
            "116/116 [==============================] - 0s 296us/sample - loss: 2.2674 - accuracy: 0.3534 - val_loss: 1.5932 - val_accuracy: 0.4667\n",
            "Epoch 24/50\n",
            "116/116 [==============================] - 0s 295us/sample - loss: 2.2459 - accuracy: 0.3621 - val_loss: 1.5957 - val_accuracy: 0.4000\n",
            "Epoch 25/50\n",
            "116/116 [==============================] - 0s 302us/sample - loss: 2.2245 - accuracy: 0.3621 - val_loss: 1.5984 - val_accuracy: 0.4000\n",
            "Epoch 26/50\n",
            "116/116 [==============================] - 0s 259us/sample - loss: 2.2037 - accuracy: 0.3621 - val_loss: 1.6011 - val_accuracy: 0.4000\n",
            "Epoch 27/50\n",
            "116/116 [==============================] - 0s 304us/sample - loss: 2.1829 - accuracy: 0.3621 - val_loss: 1.6039 - val_accuracy: 0.4000\n",
            "Epoch 28/50\n",
            "116/116 [==============================] - 0s 265us/sample - loss: 2.1630 - accuracy: 0.3621 - val_loss: 1.6067 - val_accuracy: 0.4000\n",
            "Epoch 29/50\n",
            "116/116 [==============================] - 0s 258us/sample - loss: 2.1432 - accuracy: 0.3621 - val_loss: 1.6098 - val_accuracy: 0.4000\n",
            "Epoch 30/50\n",
            "116/116 [==============================] - 0s 272us/sample - loss: 2.1240 - accuracy: 0.3621 - val_loss: 1.6128 - val_accuracy: 0.4000\n",
            "Epoch 31/50\n",
            "116/116 [==============================] - 0s 264us/sample - loss: 2.1051 - accuracy: 0.3707 - val_loss: 1.6157 - val_accuracy: 0.4000\n",
            "Epoch 32/50\n",
            "116/116 [==============================] - 0s 279us/sample - loss: 2.0866 - accuracy: 0.3793 - val_loss: 1.6187 - val_accuracy: 0.4000\n",
            "Epoch 33/50\n",
            "116/116 [==============================] - 0s 279us/sample - loss: 2.0679 - accuracy: 0.3793 - val_loss: 1.6218 - val_accuracy: 0.4000\n",
            "Epoch 34/50\n",
            "116/116 [==============================] - 0s 269us/sample - loss: 2.0503 - accuracy: 0.3793 - val_loss: 1.6251 - val_accuracy: 0.4000\n",
            "Epoch 35/50\n",
            "116/116 [==============================] - 0s 275us/sample - loss: 2.0327 - accuracy: 0.3879 - val_loss: 1.6287 - val_accuracy: 0.4000\n",
            "Epoch 36/50\n",
            "116/116 [==============================] - 0s 283us/sample - loss: 2.0144 - accuracy: 0.3879 - val_loss: 1.6322 - val_accuracy: 0.4000\n",
            "Epoch 37/50\n",
            "116/116 [==============================] - 0s 287us/sample - loss: 1.9975 - accuracy: 0.3879 - val_loss: 1.6358 - val_accuracy: 0.4000\n",
            "Epoch 38/50\n",
            "116/116 [==============================] - 0s 282us/sample - loss: 1.9809 - accuracy: 0.3793 - val_loss: 1.6393 - val_accuracy: 0.4000\n",
            "Epoch 39/50\n",
            "116/116 [==============================] - 0s 285us/sample - loss: 1.9649 - accuracy: 0.3793 - val_loss: 1.6429 - val_accuracy: 0.4000\n",
            "Epoch 40/50\n",
            "116/116 [==============================] - 0s 284us/sample - loss: 1.9487 - accuracy: 0.3793 - val_loss: 1.6473 - val_accuracy: 0.4000\n",
            "Epoch 41/50\n",
            "116/116 [==============================] - 0s 293us/sample - loss: 1.9323 - accuracy: 0.3793 - val_loss: 1.6519 - val_accuracy: 0.4000\n",
            "Epoch 42/50\n",
            "116/116 [==============================] - 0s 280us/sample - loss: 1.9170 - accuracy: 0.3793 - val_loss: 1.6563 - val_accuracy: 0.4000\n",
            "Epoch 43/50\n",
            "116/116 [==============================] - 0s 341us/sample - loss: 1.9020 - accuracy: 0.3793 - val_loss: 1.6609 - val_accuracy: 0.4000\n",
            "Epoch 44/50\n",
            "116/116 [==============================] - 0s 322us/sample - loss: 1.8870 - accuracy: 0.3793 - val_loss: 1.6655 - val_accuracy: 0.4000\n",
            "Epoch 45/50\n",
            "116/116 [==============================] - 0s 299us/sample - loss: 1.8728 - accuracy: 0.3879 - val_loss: 1.6697 - val_accuracy: 0.4000\n",
            "Epoch 46/50\n",
            "116/116 [==============================] - 0s 317us/sample - loss: 1.8588 - accuracy: 0.3966 - val_loss: 1.6741 - val_accuracy: 0.4000\n",
            "Epoch 47/50\n",
            "116/116 [==============================] - 0s 294us/sample - loss: 1.8446 - accuracy: 0.3966 - val_loss: 1.6789 - val_accuracy: 0.4000\n",
            "Epoch 48/50\n",
            "116/116 [==============================] - 0s 283us/sample - loss: 1.8308 - accuracy: 0.3966 - val_loss: 1.6839 - val_accuracy: 0.4000\n",
            "Epoch 49/50\n",
            "116/116 [==============================] - 0s 307us/sample - loss: 1.8167 - accuracy: 0.4052 - val_loss: 1.6888 - val_accuracy: 0.4000\n",
            "Epoch 50/50\n",
            "116/116 [==============================] - 0s 283us/sample - loss: 1.8039 - accuracy: 0.4052 - val_loss: 1.6937 - val_accuracy: 0.4000\n"
          ],
          "name": "stdout"
        },
        {
          "output_type": "display_data",
          "data": {
            "text/html": [
              "<span style=\"color:#4527A0\"><h1 style=\"font-size:18px\">Trial complete</h1></span>"
            ],
            "text/plain": [
              "<IPython.core.display.HTML object>"
            ]
          },
          "metadata": {
            "tags": []
          }
        },
        {
          "output_type": "display_data",
          "data": {
            "text/html": [
              "<span style=\"color:#4527A0\"><h1 style=\"font-size:18px\">Trial summary</h1></span>"
            ],
            "text/plain": [
              "<IPython.core.display.HTML object>"
            ]
          },
          "metadata": {
            "tags": []
          }
        },
        {
          "output_type": "display_data",
          "data": {
            "text/html": [
              "<span style=\"color:#7E57C2\"><h2 style=\"font-size:16px\">Hp values:</h2></span>"
            ],
            "text/plain": [
              "<IPython.core.display.HTML object>"
            ]
          },
          "metadata": {
            "tags": []
          }
        },
        {
          "output_type": "display_data",
          "data": {
            "text/html": [
              "<span style=\"color:cyan\"> |-learning_rate: 0.0001</span>"
            ],
            "text/plain": [
              "<IPython.core.display.HTML object>"
            ]
          },
          "metadata": {
            "tags": []
          }
        },
        {
          "output_type": "display_data",
          "data": {
            "text/html": [
              "<span style=\"color:blue\"> |-momentum: 0.2</span>"
            ],
            "text/plain": [
              "<IPython.core.display.HTML object>"
            ]
          },
          "metadata": {
            "tags": []
          }
        },
        {
          "output_type": "display_data",
          "data": {
            "text/html": [
              "<span style=\"color:cyan\"> |-Score: 0.5333333611488342</span>"
            ],
            "text/plain": [
              "<IPython.core.display.HTML object>"
            ]
          },
          "metadata": {
            "tags": []
          }
        },
        {
          "output_type": "display_data",
          "data": {
            "text/html": [
              "<span style=\"color:cyan\"> |-Best step: 0</span>"
            ],
            "text/plain": [
              "<IPython.core.display.HTML object>"
            ]
          },
          "metadata": {
            "tags": []
          }
        },
        {
          "output_type": "stream",
          "text": [
            "Train on 116 samples, validate on 15 samples\n",
            "Epoch 1/50\n",
            "116/116 [==============================] - 0s 3ms/sample - loss: 2.0112 - accuracy: 0.4310 - val_loss: 1.8158 - val_accuracy: 0.2667\n",
            "Epoch 2/50\n",
            "116/116 [==============================] - 0s 275us/sample - loss: 2.0048 - accuracy: 0.4310 - val_loss: 1.8110 - val_accuracy: 0.2667\n",
            "Epoch 3/50\n",
            "116/116 [==============================] - 0s 593us/sample - loss: 1.9986 - accuracy: 0.4310 - val_loss: 1.8061 - val_accuracy: 0.2667\n",
            "Epoch 4/50\n",
            "116/116 [==============================] - 0s 323us/sample - loss: 1.9926 - accuracy: 0.4310 - val_loss: 1.8013 - val_accuracy: 0.2667\n",
            "Epoch 5/50\n",
            "116/116 [==============================] - 0s 275us/sample - loss: 1.9866 - accuracy: 0.4310 - val_loss: 1.7967 - val_accuracy: 0.2667\n",
            "Epoch 6/50\n",
            "116/116 [==============================] - 0s 276us/sample - loss: 1.9807 - accuracy: 0.4310 - val_loss: 1.7919 - val_accuracy: 0.2667\n",
            "Epoch 7/50\n",
            "116/116 [==============================] - 0s 257us/sample - loss: 1.9745 - accuracy: 0.4310 - val_loss: 1.7872 - val_accuracy: 0.2667\n",
            "Epoch 8/50\n",
            "116/116 [==============================] - 0s 251us/sample - loss: 1.9687 - accuracy: 0.4310 - val_loss: 1.7827 - val_accuracy: 0.2667\n",
            "Epoch 9/50\n",
            "116/116 [==============================] - 0s 344us/sample - loss: 1.9629 - accuracy: 0.4310 - val_loss: 1.7782 - val_accuracy: 0.2667\n",
            "Epoch 10/50\n",
            "116/116 [==============================] - 0s 280us/sample - loss: 1.9571 - accuracy: 0.4310 - val_loss: 1.7736 - val_accuracy: 0.2667\n",
            "Epoch 11/50\n",
            "116/116 [==============================] - 0s 284us/sample - loss: 1.9513 - accuracy: 0.4310 - val_loss: 1.7691 - val_accuracy: 0.2667\n",
            "Epoch 12/50\n",
            "116/116 [==============================] - 0s 288us/sample - loss: 1.9455 - accuracy: 0.4310 - val_loss: 1.7647 - val_accuracy: 0.2667\n",
            "Epoch 13/50\n",
            "116/116 [==============================] - 0s 277us/sample - loss: 1.9399 - accuracy: 0.4310 - val_loss: 1.7603 - val_accuracy: 0.2667\n",
            "Epoch 14/50\n",
            "116/116 [==============================] - 0s 271us/sample - loss: 1.9343 - accuracy: 0.4310 - val_loss: 1.7559 - val_accuracy: 0.2667\n",
            "Epoch 15/50\n",
            "116/116 [==============================] - 0s 268us/sample - loss: 1.9286 - accuracy: 0.4310 - val_loss: 1.7516 - val_accuracy: 0.2667\n",
            "Epoch 16/50\n",
            "116/116 [==============================] - 0s 262us/sample - loss: 1.9231 - accuracy: 0.4310 - val_loss: 1.7473 - val_accuracy: 0.2667\n",
            "Epoch 17/50\n",
            "116/116 [==============================] - 0s 278us/sample - loss: 1.9176 - accuracy: 0.4310 - val_loss: 1.7431 - val_accuracy: 0.2667\n",
            "Epoch 18/50\n",
            "116/116 [==============================] - 0s 270us/sample - loss: 1.9123 - accuracy: 0.4310 - val_loss: 1.7389 - val_accuracy: 0.2667\n",
            "Epoch 19/50\n",
            "116/116 [==============================] - 0s 279us/sample - loss: 1.9068 - accuracy: 0.4224 - val_loss: 1.7346 - val_accuracy: 0.2667\n",
            "Epoch 20/50\n",
            "116/116 [==============================] - 0s 272us/sample - loss: 1.9013 - accuracy: 0.4224 - val_loss: 1.7304 - val_accuracy: 0.2667\n",
            "Epoch 21/50\n",
            "116/116 [==============================] - 0s 289us/sample - loss: 1.8958 - accuracy: 0.4224 - val_loss: 1.7262 - val_accuracy: 0.2667\n",
            "Epoch 22/50\n",
            "116/116 [==============================] - 0s 270us/sample - loss: 1.8902 - accuracy: 0.4224 - val_loss: 1.7221 - val_accuracy: 0.2667\n",
            "Epoch 23/50\n",
            "116/116 [==============================] - 0s 358us/sample - loss: 1.8850 - accuracy: 0.4224 - val_loss: 1.7180 - val_accuracy: 0.2667\n",
            "Epoch 24/50\n",
            "116/116 [==============================] - 0s 283us/sample - loss: 1.8796 - accuracy: 0.4224 - val_loss: 1.7139 - val_accuracy: 0.2667\n",
            "Epoch 25/50\n",
            "116/116 [==============================] - 0s 273us/sample - loss: 1.8743 - accuracy: 0.4224 - val_loss: 1.7098 - val_accuracy: 0.2667\n",
            "Epoch 26/50\n",
            "116/116 [==============================] - 0s 275us/sample - loss: 1.8691 - accuracy: 0.4224 - val_loss: 1.7059 - val_accuracy: 0.2667\n",
            "Epoch 27/50\n",
            "116/116 [==============================] - 0s 314us/sample - loss: 1.8638 - accuracy: 0.4224 - val_loss: 1.7019 - val_accuracy: 0.2667\n",
            "Epoch 28/50\n",
            "116/116 [==============================] - 0s 282us/sample - loss: 1.8586 - accuracy: 0.4224 - val_loss: 1.6980 - val_accuracy: 0.2667\n",
            "Epoch 29/50\n",
            "116/116 [==============================] - 0s 266us/sample - loss: 1.8534 - accuracy: 0.4224 - val_loss: 1.6940 - val_accuracy: 0.2667\n",
            "Epoch 30/50\n",
            "116/116 [==============================] - 0s 257us/sample - loss: 1.8483 - accuracy: 0.4224 - val_loss: 1.6902 - val_accuracy: 0.2667\n",
            "Epoch 31/50\n",
            "116/116 [==============================] - 0s 282us/sample - loss: 1.8432 - accuracy: 0.4224 - val_loss: 1.6864 - val_accuracy: 0.2667\n",
            "Epoch 32/50\n",
            "116/116 [==============================] - 0s 257us/sample - loss: 1.8383 - accuracy: 0.4224 - val_loss: 1.6825 - val_accuracy: 0.2667\n",
            "Epoch 33/50\n",
            "116/116 [==============================] - 0s 284us/sample - loss: 1.8332 - accuracy: 0.4224 - val_loss: 1.6788 - val_accuracy: 0.2667\n",
            "Epoch 34/50\n",
            "116/116 [==============================] - 0s 286us/sample - loss: 1.8283 - accuracy: 0.4310 - val_loss: 1.6750 - val_accuracy: 0.2667\n",
            "Epoch 35/50\n",
            "116/116 [==============================] - 0s 271us/sample - loss: 1.8234 - accuracy: 0.4310 - val_loss: 1.6713 - val_accuracy: 0.2667\n",
            "Epoch 36/50\n",
            "116/116 [==============================] - 0s 278us/sample - loss: 1.8184 - accuracy: 0.4310 - val_loss: 1.6676 - val_accuracy: 0.2667\n",
            "Epoch 37/50\n",
            "116/116 [==============================] - 0s 278us/sample - loss: 1.8135 - accuracy: 0.4310 - val_loss: 1.6640 - val_accuracy: 0.2667\n",
            "Epoch 38/50\n",
            "116/116 [==============================] - 0s 306us/sample - loss: 1.8087 - accuracy: 0.4310 - val_loss: 1.6604 - val_accuracy: 0.2667\n",
            "Epoch 39/50\n",
            "116/116 [==============================] - 0s 272us/sample - loss: 1.8039 - accuracy: 0.4310 - val_loss: 1.6566 - val_accuracy: 0.2667\n",
            "Epoch 40/50\n",
            "116/116 [==============================] - 0s 272us/sample - loss: 1.7990 - accuracy: 0.4310 - val_loss: 1.6529 - val_accuracy: 0.2667\n",
            "Epoch 41/50\n",
            "116/116 [==============================] - 0s 284us/sample - loss: 1.7943 - accuracy: 0.4310 - val_loss: 1.6494 - val_accuracy: 0.2667\n",
            "Epoch 42/50\n",
            "116/116 [==============================] - 0s 275us/sample - loss: 1.7897 - accuracy: 0.4310 - val_loss: 1.6458 - val_accuracy: 0.2667\n",
            "Epoch 43/50\n",
            "116/116 [==============================] - 0s 287us/sample - loss: 1.7849 - accuracy: 0.4310 - val_loss: 1.6424 - val_accuracy: 0.2667\n",
            "Epoch 44/50\n",
            "116/116 [==============================] - 0s 280us/sample - loss: 1.7804 - accuracy: 0.4310 - val_loss: 1.6390 - val_accuracy: 0.2667\n",
            "Epoch 45/50\n",
            "116/116 [==============================] - 0s 271us/sample - loss: 1.7759 - accuracy: 0.4310 - val_loss: 1.6355 - val_accuracy: 0.2667\n",
            "Epoch 46/50\n",
            "116/116 [==============================] - 0s 312us/sample - loss: 1.7713 - accuracy: 0.4310 - val_loss: 1.6320 - val_accuracy: 0.2667\n",
            "Epoch 47/50\n",
            "116/116 [==============================] - 0s 273us/sample - loss: 1.7665 - accuracy: 0.4310 - val_loss: 1.6287 - val_accuracy: 0.2667\n",
            "Epoch 48/50\n",
            "116/116 [==============================] - 0s 297us/sample - loss: 1.7622 - accuracy: 0.4310 - val_loss: 1.6255 - val_accuracy: 0.2000\n",
            "Epoch 49/50\n",
            "116/116 [==============================] - 0s 292us/sample - loss: 1.7577 - accuracy: 0.4310 - val_loss: 1.6222 - val_accuracy: 0.2000\n",
            "Epoch 50/50\n",
            "116/116 [==============================] - 0s 286us/sample - loss: 1.7533 - accuracy: 0.4310 - val_loss: 1.6189 - val_accuracy: 0.2000\n",
            "Train on 116 samples, validate on 15 samples\n",
            "Epoch 1/50\n",
            "116/116 [==============================] - 0s 3ms/sample - loss: 1.6847 - accuracy: 0.2845 - val_loss: 1.2038 - val_accuracy: 0.4000\n",
            "Epoch 2/50\n",
            "116/116 [==============================] - 0s 295us/sample - loss: 1.6808 - accuracy: 0.2845 - val_loss: 1.2036 - val_accuracy: 0.4000\n",
            "Epoch 3/50\n",
            "116/116 [==============================] - 0s 305us/sample - loss: 1.6772 - accuracy: 0.2845 - val_loss: 1.2034 - val_accuracy: 0.4000\n",
            "Epoch 4/50\n",
            "116/116 [==============================] - 0s 331us/sample - loss: 1.6736 - accuracy: 0.2845 - val_loss: 1.2032 - val_accuracy: 0.4000\n",
            "Epoch 5/50\n",
            "116/116 [==============================] - 0s 290us/sample - loss: 1.6698 - accuracy: 0.2845 - val_loss: 1.2029 - val_accuracy: 0.4000\n",
            "Epoch 6/50\n",
            "116/116 [==============================] - 0s 260us/sample - loss: 1.6661 - accuracy: 0.2845 - val_loss: 1.2028 - val_accuracy: 0.4000\n",
            "Epoch 7/50\n",
            "116/116 [==============================] - 0s 287us/sample - loss: 1.6624 - accuracy: 0.2759 - val_loss: 1.2027 - val_accuracy: 0.4000\n",
            "Epoch 8/50\n",
            "116/116 [==============================] - 0s 326us/sample - loss: 1.6589 - accuracy: 0.2759 - val_loss: 1.2026 - val_accuracy: 0.4000\n",
            "Epoch 9/50\n",
            "116/116 [==============================] - 0s 303us/sample - loss: 1.6553 - accuracy: 0.2759 - val_loss: 1.2025 - val_accuracy: 0.4000\n",
            "Epoch 10/50\n",
            "116/116 [==============================] - 0s 248us/sample - loss: 1.6517 - accuracy: 0.2759 - val_loss: 1.2023 - val_accuracy: 0.4000\n",
            "Epoch 11/50\n",
            "116/116 [==============================] - 0s 260us/sample - loss: 1.6480 - accuracy: 0.2759 - val_loss: 1.2022 - val_accuracy: 0.4000\n",
            "Epoch 12/50\n",
            "116/116 [==============================] - 0s 281us/sample - loss: 1.6445 - accuracy: 0.2759 - val_loss: 1.2019 - val_accuracy: 0.4000\n",
            "Epoch 13/50\n",
            "116/116 [==============================] - 0s 283us/sample - loss: 1.6410 - accuracy: 0.2759 - val_loss: 1.2018 - val_accuracy: 0.4000\n",
            "Epoch 14/50\n",
            "116/116 [==============================] - 0s 301us/sample - loss: 1.6372 - accuracy: 0.2759 - val_loss: 1.2016 - val_accuracy: 0.4000\n",
            "Epoch 15/50\n",
            "116/116 [==============================] - 0s 276us/sample - loss: 1.6337 - accuracy: 0.2759 - val_loss: 1.2015 - val_accuracy: 0.4000\n",
            "Epoch 16/50\n",
            "116/116 [==============================] - 0s 253us/sample - loss: 1.6302 - accuracy: 0.2759 - val_loss: 1.2014 - val_accuracy: 0.4000\n",
            "Epoch 17/50\n",
            "116/116 [==============================] - 0s 276us/sample - loss: 1.6268 - accuracy: 0.2759 - val_loss: 1.2013 - val_accuracy: 0.4000\n",
            "Epoch 18/50\n",
            "116/116 [==============================] - 0s 266us/sample - loss: 1.6232 - accuracy: 0.2759 - val_loss: 1.2013 - val_accuracy: 0.4000\n",
            "Epoch 19/50\n",
            "116/116 [==============================] - 0s 254us/sample - loss: 1.6199 - accuracy: 0.2759 - val_loss: 1.2012 - val_accuracy: 0.4000\n",
            "Epoch 20/50\n",
            "116/116 [==============================] - 0s 301us/sample - loss: 1.6165 - accuracy: 0.2759 - val_loss: 1.2011 - val_accuracy: 0.4000\n",
            "Epoch 21/50\n",
            "116/116 [==============================] - 0s 288us/sample - loss: 1.6133 - accuracy: 0.2759 - val_loss: 1.2011 - val_accuracy: 0.4000\n",
            "Epoch 22/50\n",
            "116/116 [==============================] - 0s 262us/sample - loss: 1.6099 - accuracy: 0.2759 - val_loss: 1.2010 - val_accuracy: 0.4000\n",
            "Epoch 23/50\n",
            "116/116 [==============================] - 0s 244us/sample - loss: 1.6064 - accuracy: 0.2759 - val_loss: 1.2009 - val_accuracy: 0.4000\n",
            "Epoch 24/50\n",
            "116/116 [==============================] - 0s 249us/sample - loss: 1.6033 - accuracy: 0.2759 - val_loss: 1.2009 - val_accuracy: 0.4000\n",
            "Epoch 25/50\n",
            "116/116 [==============================] - 0s 305us/sample - loss: 1.5999 - accuracy: 0.2759 - val_loss: 1.2009 - val_accuracy: 0.4000\n",
            "Epoch 26/50\n",
            "116/116 [==============================] - 0s 271us/sample - loss: 1.5967 - accuracy: 0.2759 - val_loss: 1.2008 - val_accuracy: 0.4000\n",
            "Epoch 27/50\n",
            "116/116 [==============================] - 0s 258us/sample - loss: 1.5936 - accuracy: 0.2759 - val_loss: 1.2009 - val_accuracy: 0.4000\n",
            "Epoch 28/50\n",
            "116/116 [==============================] - 0s 276us/sample - loss: 1.5904 - accuracy: 0.2759 - val_loss: 1.2009 - val_accuracy: 0.4000\n",
            "Epoch 29/50\n",
            "116/116 [==============================] - 0s 287us/sample - loss: 1.5872 - accuracy: 0.2759 - val_loss: 1.2009 - val_accuracy: 0.4000\n",
            "Epoch 30/50\n",
            "116/116 [==============================] - 0s 263us/sample - loss: 1.5839 - accuracy: 0.2759 - val_loss: 1.2010 - val_accuracy: 0.4000\n",
            "Epoch 31/50\n",
            "116/116 [==============================] - 0s 257us/sample - loss: 1.5809 - accuracy: 0.2845 - val_loss: 1.2010 - val_accuracy: 0.4000\n",
            "Epoch 32/50\n",
            "116/116 [==============================] - 0s 251us/sample - loss: 1.5779 - accuracy: 0.2845 - val_loss: 1.2010 - val_accuracy: 0.4000\n",
            "Epoch 33/50\n",
            "116/116 [==============================] - 0s 283us/sample - loss: 1.5747 - accuracy: 0.2845 - val_loss: 1.2012 - val_accuracy: 0.4000\n",
            "Epoch 34/50\n",
            "116/116 [==============================] - 0s 248us/sample - loss: 1.5718 - accuracy: 0.2845 - val_loss: 1.2013 - val_accuracy: 0.4000\n",
            "Epoch 35/50\n",
            "116/116 [==============================] - 0s 279us/sample - loss: 1.5688 - accuracy: 0.2845 - val_loss: 1.2013 - val_accuracy: 0.4000\n",
            "Epoch 36/50\n",
            "116/116 [==============================] - 0s 258us/sample - loss: 1.5658 - accuracy: 0.2845 - val_loss: 1.2014 - val_accuracy: 0.4000\n",
            "Epoch 37/50\n",
            "116/116 [==============================] - 0s 261us/sample - loss: 1.5629 - accuracy: 0.2845 - val_loss: 1.2013 - val_accuracy: 0.4000\n",
            "Epoch 38/50\n",
            "116/116 [==============================] - 0s 267us/sample - loss: 1.5601 - accuracy: 0.2845 - val_loss: 1.2015 - val_accuracy: 0.4000\n",
            "Epoch 39/50\n",
            "116/116 [==============================] - 0s 283us/sample - loss: 1.5571 - accuracy: 0.2845 - val_loss: 1.2014 - val_accuracy: 0.4000\n",
            "Epoch 40/50\n",
            "116/116 [==============================] - 0s 282us/sample - loss: 1.5543 - accuracy: 0.2845 - val_loss: 1.2016 - val_accuracy: 0.4000\n",
            "Epoch 41/50\n",
            "116/116 [==============================] - 0s 290us/sample - loss: 1.5515 - accuracy: 0.2845 - val_loss: 1.2017 - val_accuracy: 0.4000\n",
            "Epoch 42/50\n",
            "116/116 [==============================] - 0s 267us/sample - loss: 1.5487 - accuracy: 0.2845 - val_loss: 1.2018 - val_accuracy: 0.4000\n",
            "Epoch 43/50\n",
            "116/116 [==============================] - 0s 253us/sample - loss: 1.5458 - accuracy: 0.2845 - val_loss: 1.2019 - val_accuracy: 0.4000\n",
            "Epoch 44/50\n",
            "116/116 [==============================] - 0s 271us/sample - loss: 1.5431 - accuracy: 0.2845 - val_loss: 1.2019 - val_accuracy: 0.4000\n",
            "Epoch 45/50\n",
            "116/116 [==============================] - 0s 300us/sample - loss: 1.5404 - accuracy: 0.2845 - val_loss: 1.2019 - val_accuracy: 0.4000\n",
            "Epoch 46/50\n",
            "116/116 [==============================] - 0s 292us/sample - loss: 1.5376 - accuracy: 0.2845 - val_loss: 1.2021 - val_accuracy: 0.4000\n",
            "Epoch 47/50\n",
            "116/116 [==============================] - 0s 272us/sample - loss: 1.5349 - accuracy: 0.2845 - val_loss: 1.2024 - val_accuracy: 0.4000\n",
            "Epoch 48/50\n",
            "116/116 [==============================] - 0s 271us/sample - loss: 1.5321 - accuracy: 0.2845 - val_loss: 1.2027 - val_accuracy: 0.4000\n",
            "Epoch 49/50\n",
            "116/116 [==============================] - 0s 248us/sample - loss: 1.5293 - accuracy: 0.2845 - val_loss: 1.2028 - val_accuracy: 0.4000\n",
            "Epoch 50/50\n",
            "116/116 [==============================] - 0s 270us/sample - loss: 1.5266 - accuracy: 0.2845 - val_loss: 1.2030 - val_accuracy: 0.4000\n",
            "Train on 116 samples, validate on 15 samples\n",
            "Epoch 1/50\n",
            "116/116 [==============================] - 0s 3ms/sample - loss: 2.6384 - accuracy: 0.4741 - val_loss: 2.0308 - val_accuracy: 0.4000\n",
            "Epoch 2/50\n",
            "116/116 [==============================] - 0s 291us/sample - loss: 2.6297 - accuracy: 0.4741 - val_loss: 2.0259 - val_accuracy: 0.4000\n",
            "Epoch 3/50\n",
            "116/116 [==============================] - 0s 261us/sample - loss: 2.6214 - accuracy: 0.4741 - val_loss: 2.0211 - val_accuracy: 0.4000\n",
            "Epoch 4/50\n",
            "116/116 [==============================] - 0s 281us/sample - loss: 2.6129 - accuracy: 0.4741 - val_loss: 2.0161 - val_accuracy: 0.4000\n",
            "Epoch 5/50\n",
            "116/116 [==============================] - 0s 286us/sample - loss: 2.6044 - accuracy: 0.4741 - val_loss: 2.0115 - val_accuracy: 0.4000\n",
            "Epoch 6/50\n",
            "116/116 [==============================] - 0s 266us/sample - loss: 2.5960 - accuracy: 0.4741 - val_loss: 2.0070 - val_accuracy: 0.4000\n",
            "Epoch 7/50\n",
            "116/116 [==============================] - 0s 281us/sample - loss: 2.5879 - accuracy: 0.4741 - val_loss: 2.0024 - val_accuracy: 0.4000\n",
            "Epoch 8/50\n",
            "116/116 [==============================] - 0s 288us/sample - loss: 2.5795 - accuracy: 0.4741 - val_loss: 1.9980 - val_accuracy: 0.4000\n",
            "Epoch 9/50\n",
            "116/116 [==============================] - 0s 281us/sample - loss: 2.5715 - accuracy: 0.4741 - val_loss: 1.9933 - val_accuracy: 0.4000\n",
            "Epoch 10/50\n",
            "116/116 [==============================] - 0s 279us/sample - loss: 2.5631 - accuracy: 0.4741 - val_loss: 1.9888 - val_accuracy: 0.4000\n",
            "Epoch 11/50\n",
            "116/116 [==============================] - 0s 254us/sample - loss: 2.5551 - accuracy: 0.4741 - val_loss: 1.9841 - val_accuracy: 0.4000\n",
            "Epoch 12/50\n",
            "116/116 [==============================] - 0s 261us/sample - loss: 2.5469 - accuracy: 0.4741 - val_loss: 1.9796 - val_accuracy: 0.4000\n",
            "Epoch 13/50\n",
            "116/116 [==============================] - 0s 263us/sample - loss: 2.5387 - accuracy: 0.4741 - val_loss: 1.9752 - val_accuracy: 0.4000\n",
            "Epoch 14/50\n",
            "116/116 [==============================] - 0s 318us/sample - loss: 2.5306 - accuracy: 0.4741 - val_loss: 1.9710 - val_accuracy: 0.4000\n",
            "Epoch 15/50\n",
            "116/116 [==============================] - 0s 291us/sample - loss: 2.5228 - accuracy: 0.4741 - val_loss: 1.9666 - val_accuracy: 0.4000\n",
            "Epoch 16/50\n",
            "116/116 [==============================] - 0s 298us/sample - loss: 2.5147 - accuracy: 0.4741 - val_loss: 1.9623 - val_accuracy: 0.4000\n",
            "Epoch 17/50\n",
            "116/116 [==============================] - 0s 267us/sample - loss: 2.5067 - accuracy: 0.4828 - val_loss: 1.9580 - val_accuracy: 0.4000\n",
            "Epoch 18/50\n",
            "116/116 [==============================] - 0s 259us/sample - loss: 2.4985 - accuracy: 0.4828 - val_loss: 1.9537 - val_accuracy: 0.4000\n",
            "Epoch 19/50\n",
            "116/116 [==============================] - 0s 268us/sample - loss: 2.4908 - accuracy: 0.4914 - val_loss: 1.9495 - val_accuracy: 0.4000\n",
            "Epoch 20/50\n",
            "116/116 [==============================] - 0s 263us/sample - loss: 2.4830 - accuracy: 0.4914 - val_loss: 1.9454 - val_accuracy: 0.4000\n",
            "Epoch 21/50\n",
            "116/116 [==============================] - 0s 268us/sample - loss: 2.4753 - accuracy: 0.4914 - val_loss: 1.9412 - val_accuracy: 0.4000\n",
            "Epoch 22/50\n",
            "116/116 [==============================] - 0s 263us/sample - loss: 2.4676 - accuracy: 0.4914 - val_loss: 1.9371 - val_accuracy: 0.4000\n",
            "Epoch 23/50\n",
            "116/116 [==============================] - 0s 280us/sample - loss: 2.4599 - accuracy: 0.4914 - val_loss: 1.9331 - val_accuracy: 0.4000\n",
            "Epoch 24/50\n",
            "116/116 [==============================] - 0s 291us/sample - loss: 2.4525 - accuracy: 0.4914 - val_loss: 1.9290 - val_accuracy: 0.4000\n",
            "Epoch 25/50\n",
            "116/116 [==============================] - 0s 278us/sample - loss: 2.4452 - accuracy: 0.4914 - val_loss: 1.9248 - val_accuracy: 0.4000\n",
            "Epoch 26/50\n",
            "116/116 [==============================] - 0s 324us/sample - loss: 2.4374 - accuracy: 0.4914 - val_loss: 1.9209 - val_accuracy: 0.4000\n",
            "Epoch 27/50\n",
            "116/116 [==============================] - 0s 293us/sample - loss: 2.4300 - accuracy: 0.4914 - val_loss: 1.9169 - val_accuracy: 0.4000\n",
            "Epoch 28/50\n",
            "116/116 [==============================] - 0s 278us/sample - loss: 2.4228 - accuracy: 0.4914 - val_loss: 1.9130 - val_accuracy: 0.4000\n",
            "Epoch 29/50\n",
            "116/116 [==============================] - 0s 284us/sample - loss: 2.4153 - accuracy: 0.4914 - val_loss: 1.9091 - val_accuracy: 0.4000\n",
            "Epoch 30/50\n",
            "116/116 [==============================] - 0s 275us/sample - loss: 2.4082 - accuracy: 0.4914 - val_loss: 1.9050 - val_accuracy: 0.4000\n",
            "Epoch 31/50\n",
            "116/116 [==============================] - 0s 260us/sample - loss: 2.4005 - accuracy: 0.4828 - val_loss: 1.9012 - val_accuracy: 0.4000\n",
            "Epoch 32/50\n",
            "116/116 [==============================] - 0s 286us/sample - loss: 2.3935 - accuracy: 0.4828 - val_loss: 1.8973 - val_accuracy: 0.4000\n",
            "Epoch 33/50\n",
            "116/116 [==============================] - 0s 279us/sample - loss: 2.3863 - accuracy: 0.4914 - val_loss: 1.8935 - val_accuracy: 0.4000\n",
            "Epoch 34/50\n",
            "116/116 [==============================] - 0s 306us/sample - loss: 2.3791 - accuracy: 0.4914 - val_loss: 1.8898 - val_accuracy: 0.4000\n",
            "Epoch 35/50\n",
            "116/116 [==============================] - 0s 272us/sample - loss: 2.3723 - accuracy: 0.4914 - val_loss: 1.8862 - val_accuracy: 0.4000\n",
            "Epoch 36/50\n",
            "116/116 [==============================] - 0s 277us/sample - loss: 2.3651 - accuracy: 0.4914 - val_loss: 1.8826 - val_accuracy: 0.4000\n",
            "Epoch 37/50\n",
            "116/116 [==============================] - 0s 276us/sample - loss: 2.3583 - accuracy: 0.4914 - val_loss: 1.8791 - val_accuracy: 0.4000\n",
            "Epoch 38/50\n",
            "116/116 [==============================] - 0s 319us/sample - loss: 2.3513 - accuracy: 0.5000 - val_loss: 1.8754 - val_accuracy: 0.4000\n",
            "Epoch 39/50\n",
            "116/116 [==============================] - 0s 313us/sample - loss: 2.3441 - accuracy: 0.5000 - val_loss: 1.8717 - val_accuracy: 0.4000\n",
            "Epoch 40/50\n",
            "116/116 [==============================] - 0s 263us/sample - loss: 2.3370 - accuracy: 0.5000 - val_loss: 1.8679 - val_accuracy: 0.4000\n",
            "Epoch 41/50\n",
            "116/116 [==============================] - 0s 288us/sample - loss: 2.3301 - accuracy: 0.5000 - val_loss: 1.8643 - val_accuracy: 0.4000\n",
            "Epoch 42/50\n",
            "116/116 [==============================] - 0s 298us/sample - loss: 2.3229 - accuracy: 0.5000 - val_loss: 1.8606 - val_accuracy: 0.4000\n",
            "Epoch 43/50\n",
            "116/116 [==============================] - 0s 285us/sample - loss: 2.3159 - accuracy: 0.5000 - val_loss: 1.8570 - val_accuracy: 0.4000\n",
            "Epoch 44/50\n",
            "116/116 [==============================] - 0s 298us/sample - loss: 2.3090 - accuracy: 0.5000 - val_loss: 1.8536 - val_accuracy: 0.4000\n",
            "Epoch 45/50\n",
            "116/116 [==============================] - 0s 306us/sample - loss: 2.3023 - accuracy: 0.5000 - val_loss: 1.8501 - val_accuracy: 0.4000\n",
            "Epoch 46/50\n",
            "116/116 [==============================] - 0s 323us/sample - loss: 2.2956 - accuracy: 0.5000 - val_loss: 1.8466 - val_accuracy: 0.4000\n",
            "Epoch 47/50\n",
            "116/116 [==============================] - 0s 285us/sample - loss: 2.2888 - accuracy: 0.5000 - val_loss: 1.8433 - val_accuracy: 0.4000\n",
            "Epoch 48/50\n",
            "116/116 [==============================] - 0s 293us/sample - loss: 2.2823 - accuracy: 0.5000 - val_loss: 1.8400 - val_accuracy: 0.4000\n",
            "Epoch 49/50\n",
            "116/116 [==============================] - 0s 276us/sample - loss: 2.2758 - accuracy: 0.5000 - val_loss: 1.8367 - val_accuracy: 0.4000\n",
            "Epoch 50/50\n",
            "116/116 [==============================] - 0s 298us/sample - loss: 2.2693 - accuracy: 0.5000 - val_loss: 1.8334 - val_accuracy: 0.4000\n"
          ],
          "name": "stdout"
        },
        {
          "output_type": "display_data",
          "data": {
            "text/html": [
              "<span style=\"color:#4527A0\"><h1 style=\"font-size:18px\">Trial complete</h1></span>"
            ],
            "text/plain": [
              "<IPython.core.display.HTML object>"
            ]
          },
          "metadata": {
            "tags": []
          }
        },
        {
          "output_type": "display_data",
          "data": {
            "text/html": [
              "<span style=\"color:#4527A0\"><h1 style=\"font-size:18px\">Trial summary</h1></span>"
            ],
            "text/plain": [
              "<IPython.core.display.HTML object>"
            ]
          },
          "metadata": {
            "tags": []
          }
        },
        {
          "output_type": "display_data",
          "data": {
            "text/html": [
              "<span style=\"color:#7E57C2\"><h2 style=\"font-size:16px\">Hp values:</h2></span>"
            ],
            "text/plain": [
              "<IPython.core.display.HTML object>"
            ]
          },
          "metadata": {
            "tags": []
          }
        },
        {
          "output_type": "display_data",
          "data": {
            "text/html": [
              "<span style=\"color:cyan\"> |-learning_rate: 0.0001</span>"
            ],
            "text/plain": [
              "<IPython.core.display.HTML object>"
            ]
          },
          "metadata": {
            "tags": []
          }
        },
        {
          "output_type": "display_data",
          "data": {
            "text/html": [
              "<span style=\"color:blue\"> |-momentum: 0.0</span>"
            ],
            "text/plain": [
              "<IPython.core.display.HTML object>"
            ]
          },
          "metadata": {
            "tags": []
          }
        },
        {
          "output_type": "display_data",
          "data": {
            "text/html": [
              "<span style=\"color:cyan\"> |-Score: 0.35555556416511536</span>"
            ],
            "text/plain": [
              "<IPython.core.display.HTML object>"
            ]
          },
          "metadata": {
            "tags": []
          }
        },
        {
          "output_type": "display_data",
          "data": {
            "text/html": [
              "<span style=\"color:cyan\"> |-Best step: 0</span>"
            ],
            "text/plain": [
              "<IPython.core.display.HTML object>"
            ]
          },
          "metadata": {
            "tags": []
          }
        },
        {
          "output_type": "stream",
          "text": [
            "Train on 116 samples, validate on 15 samples\n",
            "Epoch 1/50\n",
            "116/116 [==============================] - 0s 3ms/sample - loss: 1.3610 - accuracy: 0.3534 - val_loss: 1.2954 - val_accuracy: 0.2000\n",
            "Epoch 2/50\n",
            "116/116 [==============================] - 0s 276us/sample - loss: 1.3521 - accuracy: 0.3534 - val_loss: 1.2961 - val_accuracy: 0.2000\n",
            "Epoch 3/50\n",
            "116/116 [==============================] - 0s 333us/sample - loss: 1.3437 - accuracy: 0.3707 - val_loss: 1.2967 - val_accuracy: 0.2000\n",
            "Epoch 4/50\n",
            "116/116 [==============================] - 0s 290us/sample - loss: 1.3353 - accuracy: 0.3621 - val_loss: 1.2970 - val_accuracy: 0.2000\n",
            "Epoch 5/50\n",
            "116/116 [==============================] - 0s 273us/sample - loss: 1.3276 - accuracy: 0.3793 - val_loss: 1.2975 - val_accuracy: 0.2000\n",
            "Epoch 6/50\n",
            "116/116 [==============================] - 0s 263us/sample - loss: 1.3205 - accuracy: 0.3793 - val_loss: 1.2987 - val_accuracy: 0.1333\n",
            "Epoch 7/50\n",
            "116/116 [==============================] - 0s 277us/sample - loss: 1.3126 - accuracy: 0.3793 - val_loss: 1.2990 - val_accuracy: 0.1333\n",
            "Epoch 8/50\n",
            "116/116 [==============================] - 0s 273us/sample - loss: 1.3059 - accuracy: 0.3793 - val_loss: 1.3010 - val_accuracy: 0.0667\n",
            "Epoch 9/50\n",
            "116/116 [==============================] - 0s 342us/sample - loss: 1.3000 - accuracy: 0.3793 - val_loss: 1.3028 - val_accuracy: 0.1333\n",
            "Epoch 10/50\n",
            "116/116 [==============================] - 0s 252us/sample - loss: 1.2927 - accuracy: 0.3879 - val_loss: 1.3032 - val_accuracy: 0.1333\n",
            "Epoch 11/50\n",
            "116/116 [==============================] - 0s 271us/sample - loss: 1.2868 - accuracy: 0.3879 - val_loss: 1.3046 - val_accuracy: 0.1333\n",
            "Epoch 12/50\n",
            "116/116 [==============================] - 0s 275us/sample - loss: 1.2809 - accuracy: 0.3879 - val_loss: 1.3057 - val_accuracy: 0.1333\n",
            "Epoch 13/50\n",
            "116/116 [==============================] - 0s 275us/sample - loss: 1.2751 - accuracy: 0.3793 - val_loss: 1.3072 - val_accuracy: 0.1333\n",
            "Epoch 14/50\n",
            "116/116 [==============================] - 0s 251us/sample - loss: 1.2695 - accuracy: 0.3793 - val_loss: 1.3088 - val_accuracy: 0.1333\n",
            "Epoch 15/50\n",
            "116/116 [==============================] - 0s 262us/sample - loss: 1.2642 - accuracy: 0.3879 - val_loss: 1.3107 - val_accuracy: 0.1333\n",
            "Epoch 16/50\n",
            "116/116 [==============================] - 0s 290us/sample - loss: 1.2586 - accuracy: 0.3879 - val_loss: 1.3123 - val_accuracy: 0.1333\n",
            "Epoch 17/50\n",
            "116/116 [==============================] - 0s 283us/sample - loss: 1.2530 - accuracy: 0.3966 - val_loss: 1.3140 - val_accuracy: 0.1333\n",
            "Epoch 18/50\n",
            "116/116 [==============================] - 0s 269us/sample - loss: 1.2479 - accuracy: 0.3879 - val_loss: 1.3165 - val_accuracy: 0.1333\n",
            "Epoch 19/50\n",
            "116/116 [==============================] - 0s 297us/sample - loss: 1.2431 - accuracy: 0.3879 - val_loss: 1.3187 - val_accuracy: 0.1333\n",
            "Epoch 20/50\n",
            "116/116 [==============================] - 0s 304us/sample - loss: 1.2382 - accuracy: 0.3966 - val_loss: 1.3196 - val_accuracy: 0.1333\n",
            "Epoch 21/50\n",
            "116/116 [==============================] - 0s 271us/sample - loss: 1.2334 - accuracy: 0.3966 - val_loss: 1.3212 - val_accuracy: 0.1333\n",
            "Epoch 22/50\n",
            "116/116 [==============================] - 0s 291us/sample - loss: 1.2289 - accuracy: 0.3879 - val_loss: 1.3232 - val_accuracy: 0.1333\n",
            "Epoch 23/50\n",
            "116/116 [==============================] - 0s 468us/sample - loss: 1.2253 - accuracy: 0.3966 - val_loss: 1.3256 - val_accuracy: 0.1333\n",
            "Epoch 24/50\n",
            "116/116 [==============================] - 0s 297us/sample - loss: 1.2207 - accuracy: 0.3966 - val_loss: 1.3259 - val_accuracy: 0.1333\n",
            "Epoch 25/50\n",
            "116/116 [==============================] - 0s 282us/sample - loss: 1.2166 - accuracy: 0.3966 - val_loss: 1.3269 - val_accuracy: 0.1333\n",
            "Epoch 26/50\n",
            "116/116 [==============================] - 0s 283us/sample - loss: 1.2126 - accuracy: 0.4052 - val_loss: 1.3278 - val_accuracy: 0.1333\n",
            "Epoch 27/50\n",
            "116/116 [==============================] - 0s 262us/sample - loss: 1.2085 - accuracy: 0.4052 - val_loss: 1.3296 - val_accuracy: 0.1333\n",
            "Epoch 28/50\n",
            "116/116 [==============================] - 0s 259us/sample - loss: 1.2046 - accuracy: 0.4138 - val_loss: 1.3305 - val_accuracy: 0.1333\n",
            "Epoch 29/50\n",
            "116/116 [==============================] - 0s 301us/sample - loss: 1.2006 - accuracy: 0.4138 - val_loss: 1.3323 - val_accuracy: 0.1333\n",
            "Epoch 30/50\n",
            "116/116 [==============================] - 0s 265us/sample - loss: 1.1969 - accuracy: 0.4138 - val_loss: 1.3344 - val_accuracy: 0.1333\n",
            "Epoch 31/50\n",
            "116/116 [==============================] - 0s 280us/sample - loss: 1.1936 - accuracy: 0.4138 - val_loss: 1.3354 - val_accuracy: 0.1333\n",
            "Epoch 32/50\n",
            "116/116 [==============================] - 0s 281us/sample - loss: 1.1895 - accuracy: 0.4138 - val_loss: 1.3367 - val_accuracy: 0.1333\n",
            "Epoch 33/50\n",
            "116/116 [==============================] - 0s 281us/sample - loss: 1.1861 - accuracy: 0.4397 - val_loss: 1.3382 - val_accuracy: 0.1333\n",
            "Epoch 34/50\n",
            "116/116 [==============================] - 0s 286us/sample - loss: 1.1829 - accuracy: 0.4397 - val_loss: 1.3385 - val_accuracy: 0.1333\n",
            "Epoch 35/50\n",
            "116/116 [==============================] - 0s 288us/sample - loss: 1.1793 - accuracy: 0.4397 - val_loss: 1.3412 - val_accuracy: 0.1333\n",
            "Epoch 36/50\n",
            "116/116 [==============================] - 0s 370us/sample - loss: 1.1760 - accuracy: 0.4397 - val_loss: 1.3418 - val_accuracy: 0.1333\n",
            "Epoch 37/50\n",
            "116/116 [==============================] - 0s 293us/sample - loss: 1.1728 - accuracy: 0.4397 - val_loss: 1.3426 - val_accuracy: 0.1333\n",
            "Epoch 38/50\n",
            "116/116 [==============================] - 0s 317us/sample - loss: 1.1698 - accuracy: 0.4397 - val_loss: 1.3434 - val_accuracy: 0.1333\n",
            "Epoch 39/50\n",
            "116/116 [==============================] - 0s 307us/sample - loss: 1.1668 - accuracy: 0.4397 - val_loss: 1.3451 - val_accuracy: 0.1333\n",
            "Epoch 40/50\n",
            "116/116 [==============================] - 0s 300us/sample - loss: 1.1634 - accuracy: 0.4397 - val_loss: 1.3455 - val_accuracy: 0.1333\n",
            "Epoch 41/50\n",
            "116/116 [==============================] - 0s 293us/sample - loss: 1.1604 - accuracy: 0.4397 - val_loss: 1.3455 - val_accuracy: 0.1333\n",
            "Epoch 42/50\n",
            "116/116 [==============================] - 0s 320us/sample - loss: 1.1574 - accuracy: 0.4397 - val_loss: 1.3454 - val_accuracy: 0.1333\n",
            "Epoch 43/50\n",
            "116/116 [==============================] - 0s 310us/sample - loss: 1.1546 - accuracy: 0.4397 - val_loss: 1.3459 - val_accuracy: 0.1333\n",
            "Epoch 44/50\n",
            "116/116 [==============================] - 0s 303us/sample - loss: 1.1517 - accuracy: 0.4397 - val_loss: 1.3456 - val_accuracy: 0.1333\n",
            "Epoch 45/50\n",
            "116/116 [==============================] - 0s 343us/sample - loss: 1.1491 - accuracy: 0.4483 - val_loss: 1.3482 - val_accuracy: 0.1333\n",
            "Epoch 46/50\n",
            "116/116 [==============================] - 0s 297us/sample - loss: 1.1459 - accuracy: 0.4483 - val_loss: 1.3475 - val_accuracy: 0.1333\n",
            "Epoch 47/50\n",
            "116/116 [==============================] - 0s 283us/sample - loss: 1.1432 - accuracy: 0.4483 - val_loss: 1.3490 - val_accuracy: 0.1333\n",
            "Epoch 48/50\n",
            "116/116 [==============================] - 0s 277us/sample - loss: 1.1407 - accuracy: 0.4483 - val_loss: 1.3493 - val_accuracy: 0.1333\n",
            "Epoch 49/50\n",
            "116/116 [==============================] - 0s 295us/sample - loss: 1.1380 - accuracy: 0.4569 - val_loss: 1.3497 - val_accuracy: 0.1333\n",
            "Epoch 50/50\n",
            "116/116 [==============================] - 0s 288us/sample - loss: 1.1356 - accuracy: 0.4569 - val_loss: 1.3511 - val_accuracy: 0.1333\n",
            "Train on 116 samples, validate on 15 samples\n",
            "Epoch 1/50\n",
            "116/116 [==============================] - 0s 3ms/sample - loss: 2.8615 - accuracy: 0.2759 - val_loss: 2.4572 - val_accuracy: 0.1333\n",
            "Epoch 2/50\n",
            "116/116 [==============================] - 0s 248us/sample - loss: 2.8314 - accuracy: 0.2759 - val_loss: 2.4340 - val_accuracy: 0.1333\n",
            "Epoch 3/50\n",
            "116/116 [==============================] - 0s 284us/sample - loss: 2.8017 - accuracy: 0.2845 - val_loss: 2.4108 - val_accuracy: 0.2000\n",
            "Epoch 4/50\n",
            "116/116 [==============================] - 0s 277us/sample - loss: 2.7698 - accuracy: 0.2845 - val_loss: 2.3890 - val_accuracy: 0.2000\n",
            "Epoch 5/50\n",
            "116/116 [==============================] - 0s 283us/sample - loss: 2.7407 - accuracy: 0.2845 - val_loss: 2.3664 - val_accuracy: 0.2000\n",
            "Epoch 6/50\n",
            "116/116 [==============================] - 0s 310us/sample - loss: 2.7126 - accuracy: 0.2845 - val_loss: 2.3455 - val_accuracy: 0.2000\n",
            "Epoch 7/50\n",
            "116/116 [==============================] - 0s 384us/sample - loss: 2.6850 - accuracy: 0.2931 - val_loss: 2.3259 - val_accuracy: 0.2000\n",
            "Epoch 8/50\n",
            "116/116 [==============================] - 0s 301us/sample - loss: 2.6569 - accuracy: 0.3017 - val_loss: 2.3045 - val_accuracy: 0.2000\n",
            "Epoch 9/50\n",
            "116/116 [==============================] - 0s 301us/sample - loss: 2.6306 - accuracy: 0.3017 - val_loss: 2.2850 - val_accuracy: 0.2000\n",
            "Epoch 10/50\n",
            "116/116 [==============================] - 0s 313us/sample - loss: 2.6043 - accuracy: 0.3103 - val_loss: 2.2651 - val_accuracy: 0.2000\n",
            "Epoch 11/50\n",
            "116/116 [==============================] - 0s 271us/sample - loss: 2.5790 - accuracy: 0.3103 - val_loss: 2.2442 - val_accuracy: 0.2000\n",
            "Epoch 12/50\n",
            "116/116 [==============================] - 0s 280us/sample - loss: 2.5541 - accuracy: 0.3103 - val_loss: 2.2251 - val_accuracy: 0.2000\n",
            "Epoch 13/50\n",
            "116/116 [==============================] - 0s 268us/sample - loss: 2.5299 - accuracy: 0.3276 - val_loss: 2.2064 - val_accuracy: 0.2000\n",
            "Epoch 14/50\n",
            "116/116 [==============================] - 0s 262us/sample - loss: 2.5060 - accuracy: 0.3362 - val_loss: 2.1851 - val_accuracy: 0.2000\n",
            "Epoch 15/50\n",
            "116/116 [==============================] - 0s 259us/sample - loss: 2.4828 - accuracy: 0.3362 - val_loss: 2.1681 - val_accuracy: 0.2000\n",
            "Epoch 16/50\n",
            "116/116 [==============================] - 0s 268us/sample - loss: 2.4601 - accuracy: 0.3362 - val_loss: 2.1514 - val_accuracy: 0.2000\n",
            "Epoch 17/50\n",
            "116/116 [==============================] - 0s 295us/sample - loss: 2.4394 - accuracy: 0.3362 - val_loss: 2.1338 - val_accuracy: 0.2000\n",
            "Epoch 18/50\n",
            "116/116 [==============================] - 0s 292us/sample - loss: 2.4187 - accuracy: 0.3448 - val_loss: 2.1156 - val_accuracy: 0.2000\n",
            "Epoch 19/50\n",
            "116/116 [==============================] - 0s 282us/sample - loss: 2.3979 - accuracy: 0.3448 - val_loss: 2.0963 - val_accuracy: 0.2000\n",
            "Epoch 20/50\n",
            "116/116 [==============================] - 0s 280us/sample - loss: 2.3781 - accuracy: 0.3448 - val_loss: 2.0775 - val_accuracy: 0.2000\n",
            "Epoch 21/50\n",
            "116/116 [==============================] - 0s 265us/sample - loss: 2.3588 - accuracy: 0.3448 - val_loss: 2.0621 - val_accuracy: 0.2000\n",
            "Epoch 22/50\n",
            "116/116 [==============================] - 0s 280us/sample - loss: 2.3402 - accuracy: 0.3448 - val_loss: 2.0473 - val_accuracy: 0.2000\n",
            "Epoch 23/50\n",
            "116/116 [==============================] - 0s 249us/sample - loss: 2.3207 - accuracy: 0.3448 - val_loss: 2.0319 - val_accuracy: 0.2000\n",
            "Epoch 24/50\n",
            "116/116 [==============================] - 0s 288us/sample - loss: 2.3025 - accuracy: 0.3448 - val_loss: 2.0139 - val_accuracy: 0.2000\n",
            "Epoch 25/50\n",
            "116/116 [==============================] - 0s 277us/sample - loss: 2.2841 - accuracy: 0.3534 - val_loss: 1.9981 - val_accuracy: 0.2000\n",
            "Epoch 26/50\n",
            "116/116 [==============================] - 0s 307us/sample - loss: 2.2667 - accuracy: 0.3621 - val_loss: 1.9858 - val_accuracy: 0.2000\n",
            "Epoch 27/50\n",
            "116/116 [==============================] - 0s 290us/sample - loss: 2.2486 - accuracy: 0.3621 - val_loss: 1.9668 - val_accuracy: 0.2000\n",
            "Epoch 28/50\n",
            "116/116 [==============================] - 0s 299us/sample - loss: 2.2315 - accuracy: 0.3621 - val_loss: 1.9504 - val_accuracy: 0.2000\n",
            "Epoch 29/50\n",
            "116/116 [==============================] - 0s 308us/sample - loss: 2.2153 - accuracy: 0.3621 - val_loss: 1.9350 - val_accuracy: 0.2000\n",
            "Epoch 30/50\n",
            "116/116 [==============================] - 0s 370us/sample - loss: 2.1978 - accuracy: 0.3707 - val_loss: 1.9206 - val_accuracy: 0.2667\n",
            "Epoch 31/50\n",
            "116/116 [==============================] - 0s 289us/sample - loss: 2.1820 - accuracy: 0.3793 - val_loss: 1.9078 - val_accuracy: 0.2667\n",
            "Epoch 32/50\n",
            "116/116 [==============================] - 0s 267us/sample - loss: 2.1662 - accuracy: 0.3793 - val_loss: 1.8943 - val_accuracy: 0.2667\n",
            "Epoch 33/50\n",
            "116/116 [==============================] - 0s 280us/sample - loss: 2.1508 - accuracy: 0.3793 - val_loss: 1.8788 - val_accuracy: 0.2667\n",
            "Epoch 34/50\n",
            "116/116 [==============================] - 0s 278us/sample - loss: 2.1356 - accuracy: 0.3879 - val_loss: 1.8661 - val_accuracy: 0.2667\n",
            "Epoch 35/50\n",
            "116/116 [==============================] - 0s 255us/sample - loss: 2.1203 - accuracy: 0.3879 - val_loss: 1.8511 - val_accuracy: 0.2667\n",
            "Epoch 36/50\n",
            "116/116 [==============================] - 0s 271us/sample - loss: 2.1059 - accuracy: 0.3793 - val_loss: 1.8397 - val_accuracy: 0.2667\n",
            "Epoch 37/50\n",
            "116/116 [==============================] - 0s 267us/sample - loss: 2.0916 - accuracy: 0.3793 - val_loss: 1.8276 - val_accuracy: 0.2667\n",
            "Epoch 38/50\n",
            "116/116 [==============================] - 0s 273us/sample - loss: 2.0763 - accuracy: 0.3793 - val_loss: 1.8124 - val_accuracy: 0.2667\n",
            "Epoch 39/50\n",
            "116/116 [==============================] - 0s 299us/sample - loss: 2.0626 - accuracy: 0.3707 - val_loss: 1.8003 - val_accuracy: 0.2667\n",
            "Epoch 40/50\n",
            "116/116 [==============================] - 0s 278us/sample - loss: 2.0501 - accuracy: 0.3793 - val_loss: 1.7874 - val_accuracy: 0.2667\n",
            "Epoch 41/50\n",
            "116/116 [==============================] - 0s 290us/sample - loss: 2.0369 - accuracy: 0.3793 - val_loss: 1.7749 - val_accuracy: 0.2667\n",
            "Epoch 42/50\n",
            "116/116 [==============================] - 0s 267us/sample - loss: 2.0239 - accuracy: 0.3793 - val_loss: 1.7625 - val_accuracy: 0.2667\n",
            "Epoch 43/50\n",
            "116/116 [==============================] - 0s 275us/sample - loss: 2.0121 - accuracy: 0.3879 - val_loss: 1.7509 - val_accuracy: 0.2667\n",
            "Epoch 44/50\n",
            "116/116 [==============================] - 0s 288us/sample - loss: 2.0000 - accuracy: 0.3879 - val_loss: 1.7397 - val_accuracy: 0.2667\n",
            "Epoch 45/50\n",
            "116/116 [==============================] - 0s 265us/sample - loss: 1.9880 - accuracy: 0.3879 - val_loss: 1.7312 - val_accuracy: 0.2667\n",
            "Epoch 46/50\n",
            "116/116 [==============================] - 0s 278us/sample - loss: 1.9760 - accuracy: 0.3879 - val_loss: 1.7176 - val_accuracy: 0.2667\n",
            "Epoch 47/50\n",
            "116/116 [==============================] - 0s 271us/sample - loss: 1.9646 - accuracy: 0.3879 - val_loss: 1.7062 - val_accuracy: 0.2667\n",
            "Epoch 48/50\n",
            "116/116 [==============================] - 0s 312us/sample - loss: 1.9531 - accuracy: 0.3879 - val_loss: 1.6953 - val_accuracy: 0.2667\n",
            "Epoch 49/50\n",
            "116/116 [==============================] - 0s 251us/sample - loss: 1.9414 - accuracy: 0.4052 - val_loss: 1.6867 - val_accuracy: 0.2667\n",
            "Epoch 50/50\n",
            "116/116 [==============================] - 0s 265us/sample - loss: 1.9302 - accuracy: 0.4138 - val_loss: 1.6773 - val_accuracy: 0.2667\n",
            "Train on 116 samples, validate on 15 samples\n",
            "Epoch 1/50\n",
            "116/116 [==============================] - 0s 3ms/sample - loss: 4.1498 - accuracy: 0.2586 - val_loss: 4.7595 - val_accuracy: 0.1333\n",
            "Epoch 2/50\n",
            "116/116 [==============================] - 0s 292us/sample - loss: 4.0561 - accuracy: 0.2672 - val_loss: 4.6431 - val_accuracy: 0.1333\n",
            "Epoch 3/50\n",
            "116/116 [==============================] - 0s 275us/sample - loss: 3.9572 - accuracy: 0.2759 - val_loss: 4.5266 - val_accuracy: 0.1333\n",
            "Epoch 4/50\n",
            "116/116 [==============================] - 0s 277us/sample - loss: 3.8623 - accuracy: 0.2759 - val_loss: 4.4124 - val_accuracy: 0.1333\n",
            "Epoch 5/50\n",
            "116/116 [==============================] - 0s 287us/sample - loss: 3.7688 - accuracy: 0.2759 - val_loss: 4.2998 - val_accuracy: 0.1333\n",
            "Epoch 6/50\n",
            "116/116 [==============================] - 0s 267us/sample - loss: 3.6810 - accuracy: 0.2759 - val_loss: 4.1920 - val_accuracy: 0.1333\n",
            "Epoch 7/50\n",
            "116/116 [==============================] - 0s 252us/sample - loss: 3.5938 - accuracy: 0.2759 - val_loss: 4.0965 - val_accuracy: 0.1333\n",
            "Epoch 8/50\n",
            "116/116 [==============================] - 0s 262us/sample - loss: 3.5121 - accuracy: 0.2759 - val_loss: 3.9956 - val_accuracy: 0.1333\n",
            "Epoch 9/50\n",
            "116/116 [==============================] - 0s 266us/sample - loss: 3.4320 - accuracy: 0.2759 - val_loss: 3.8998 - val_accuracy: 0.1333\n",
            "Epoch 10/50\n",
            "116/116 [==============================] - 0s 292us/sample - loss: 3.3523 - accuracy: 0.2759 - val_loss: 3.8048 - val_accuracy: 0.1333\n",
            "Epoch 11/50\n",
            "116/116 [==============================] - 0s 238us/sample - loss: 3.2776 - accuracy: 0.2672 - val_loss: 3.7117 - val_accuracy: 0.1333\n",
            "Epoch 12/50\n",
            "116/116 [==============================] - 0s 288us/sample - loss: 3.2043 - accuracy: 0.2845 - val_loss: 3.6208 - val_accuracy: 0.1333\n",
            "Epoch 13/50\n",
            "116/116 [==============================] - 0s 272us/sample - loss: 3.1315 - accuracy: 0.2931 - val_loss: 3.5372 - val_accuracy: 0.1333\n",
            "Epoch 14/50\n",
            "116/116 [==============================] - 0s 282us/sample - loss: 3.0633 - accuracy: 0.3017 - val_loss: 3.4509 - val_accuracy: 0.1333\n",
            "Epoch 15/50\n",
            "116/116 [==============================] - 0s 268us/sample - loss: 2.9942 - accuracy: 0.3017 - val_loss: 3.3769 - val_accuracy: 0.1333\n",
            "Epoch 16/50\n",
            "116/116 [==============================] - 0s 274us/sample - loss: 2.9327 - accuracy: 0.3017 - val_loss: 3.2986 - val_accuracy: 0.1333\n",
            "Epoch 17/50\n",
            "116/116 [==============================] - 0s 268us/sample - loss: 2.8664 - accuracy: 0.3017 - val_loss: 3.2295 - val_accuracy: 0.1333\n",
            "Epoch 18/50\n",
            "116/116 [==============================] - 0s 307us/sample - loss: 2.8048 - accuracy: 0.2931 - val_loss: 3.1545 - val_accuracy: 0.1333\n",
            "Epoch 19/50\n",
            "116/116 [==============================] - 0s 275us/sample - loss: 2.7433 - accuracy: 0.2931 - val_loss: 3.0864 - val_accuracy: 0.1333\n",
            "Epoch 20/50\n",
            "116/116 [==============================] - 0s 267us/sample - loss: 2.6854 - accuracy: 0.3017 - val_loss: 3.0210 - val_accuracy: 0.1333\n",
            "Epoch 21/50\n",
            "116/116 [==============================] - 0s 277us/sample - loss: 2.6276 - accuracy: 0.3017 - val_loss: 2.9473 - val_accuracy: 0.1333\n",
            "Epoch 22/50\n",
            "116/116 [==============================] - 0s 298us/sample - loss: 2.5714 - accuracy: 0.3190 - val_loss: 2.8826 - val_accuracy: 0.1333\n",
            "Epoch 23/50\n",
            "116/116 [==============================] - 0s 265us/sample - loss: 2.5189 - accuracy: 0.3190 - val_loss: 2.8148 - val_accuracy: 0.1333\n",
            "Epoch 24/50\n",
            "116/116 [==============================] - 0s 270us/sample - loss: 2.4637 - accuracy: 0.3276 - val_loss: 2.7567 - val_accuracy: 0.1333\n",
            "Epoch 25/50\n",
            "116/116 [==============================] - 0s 287us/sample - loss: 2.4141 - accuracy: 0.3190 - val_loss: 2.6905 - val_accuracy: 0.1333\n",
            "Epoch 26/50\n",
            "116/116 [==============================] - 0s 276us/sample - loss: 2.3656 - accuracy: 0.3190 - val_loss: 2.6308 - val_accuracy: 0.1333\n",
            "Epoch 27/50\n",
            "116/116 [==============================] - 0s 261us/sample - loss: 2.3188 - accuracy: 0.3190 - val_loss: 2.5787 - val_accuracy: 0.1333\n",
            "Epoch 28/50\n",
            "116/116 [==============================] - 0s 262us/sample - loss: 2.2761 - accuracy: 0.3190 - val_loss: 2.5218 - val_accuracy: 0.1333\n",
            "Epoch 29/50\n",
            "116/116 [==============================] - 0s 263us/sample - loss: 2.2338 - accuracy: 0.3190 - val_loss: 2.4693 - val_accuracy: 0.1333\n",
            "Epoch 30/50\n",
            "116/116 [==============================] - 0s 254us/sample - loss: 2.1921 - accuracy: 0.3276 - val_loss: 2.4178 - val_accuracy: 0.1333\n",
            "Epoch 31/50\n",
            "116/116 [==============================] - 0s 320us/sample - loss: 2.1537 - accuracy: 0.3276 - val_loss: 2.3636 - val_accuracy: 0.1333\n",
            "Epoch 32/50\n",
            "116/116 [==============================] - 0s 255us/sample - loss: 2.1164 - accuracy: 0.3276 - val_loss: 2.3150 - val_accuracy: 0.1333\n",
            "Epoch 33/50\n",
            "116/116 [==============================] - 0s 328us/sample - loss: 2.0808 - accuracy: 0.3276 - val_loss: 2.2693 - val_accuracy: 0.1333\n",
            "Epoch 34/50\n",
            "116/116 [==============================] - 0s 273us/sample - loss: 2.0470 - accuracy: 0.3362 - val_loss: 2.2288 - val_accuracy: 0.1333\n",
            "Epoch 35/50\n",
            "116/116 [==============================] - 0s 297us/sample - loss: 2.0162 - accuracy: 0.3362 - val_loss: 2.1835 - val_accuracy: 0.1333\n",
            "Epoch 36/50\n",
            "116/116 [==============================] - 0s 263us/sample - loss: 1.9845 - accuracy: 0.3362 - val_loss: 2.1450 - val_accuracy: 0.1333\n",
            "Epoch 37/50\n",
            "116/116 [==============================] - 0s 297us/sample - loss: 1.9564 - accuracy: 0.3362 - val_loss: 2.1042 - val_accuracy: 0.1333\n",
            "Epoch 38/50\n",
            "116/116 [==============================] - 0s 250us/sample - loss: 1.9287 - accuracy: 0.3362 - val_loss: 2.0672 - val_accuracy: 0.1333\n",
            "Epoch 39/50\n",
            "116/116 [==============================] - 0s 272us/sample - loss: 1.9007 - accuracy: 0.3362 - val_loss: 2.0299 - val_accuracy: 0.1333\n",
            "Epoch 40/50\n",
            "116/116 [==============================] - 0s 249us/sample - loss: 1.8744 - accuracy: 0.3362 - val_loss: 1.9984 - val_accuracy: 0.1333\n",
            "Epoch 41/50\n",
            "116/116 [==============================] - 0s 273us/sample - loss: 1.8491 - accuracy: 0.3448 - val_loss: 1.9617 - val_accuracy: 0.1333\n",
            "Epoch 42/50\n",
            "116/116 [==============================] - 0s 298us/sample - loss: 1.8242 - accuracy: 0.3448 - val_loss: 1.9311 - val_accuracy: 0.1333\n",
            "Epoch 43/50\n",
            "116/116 [==============================] - 0s 395us/sample - loss: 1.8014 - accuracy: 0.3448 - val_loss: 1.9017 - val_accuracy: 0.1333\n",
            "Epoch 44/50\n",
            "116/116 [==============================] - 0s 321us/sample - loss: 1.7787 - accuracy: 0.3448 - val_loss: 1.8735 - val_accuracy: 0.1333\n",
            "Epoch 45/50\n",
            "116/116 [==============================] - 0s 280us/sample - loss: 1.7578 - accuracy: 0.3448 - val_loss: 1.8458 - val_accuracy: 0.1333\n",
            "Epoch 46/50\n",
            "116/116 [==============================] - 0s 260us/sample - loss: 1.7367 - accuracy: 0.3448 - val_loss: 1.8217 - val_accuracy: 0.1333\n",
            "Epoch 47/50\n",
            "116/116 [==============================] - 0s 304us/sample - loss: 1.7170 - accuracy: 0.3448 - val_loss: 1.7997 - val_accuracy: 0.1333\n",
            "Epoch 48/50\n",
            "116/116 [==============================] - 0s 302us/sample - loss: 1.6983 - accuracy: 0.3448 - val_loss: 1.7760 - val_accuracy: 0.2000\n",
            "Epoch 49/50\n",
            "116/116 [==============================] - 0s 310us/sample - loss: 1.6797 - accuracy: 0.3448 - val_loss: 1.7559 - val_accuracy: 0.2000\n",
            "Epoch 50/50\n",
            "116/116 [==============================] - 0s 320us/sample - loss: 1.6628 - accuracy: 0.3448 - val_loss: 1.7380 - val_accuracy: 0.2000\n"
          ],
          "name": "stdout"
        },
        {
          "output_type": "display_data",
          "data": {
            "text/html": [
              "<span style=\"color:#4527A0\"><h1 style=\"font-size:18px\">Trial complete</h1></span>"
            ],
            "text/plain": [
              "<IPython.core.display.HTML object>"
            ]
          },
          "metadata": {
            "tags": []
          }
        },
        {
          "output_type": "display_data",
          "data": {
            "text/html": [
              "<span style=\"color:#4527A0\"><h1 style=\"font-size:18px\">Trial summary</h1></span>"
            ],
            "text/plain": [
              "<IPython.core.display.HTML object>"
            ]
          },
          "metadata": {
            "tags": []
          }
        },
        {
          "output_type": "display_data",
          "data": {
            "text/html": [
              "<span style=\"color:#7E57C2\"><h2 style=\"font-size:16px\">Hp values:</h2></span>"
            ],
            "text/plain": [
              "<IPython.core.display.HTML object>"
            ]
          },
          "metadata": {
            "tags": []
          }
        },
        {
          "output_type": "display_data",
          "data": {
            "text/html": [
              "<span style=\"color:cyan\"> |-learning_rate: 0.0001</span>"
            ],
            "text/plain": [
              "<IPython.core.display.HTML object>"
            ]
          },
          "metadata": {
            "tags": []
          }
        },
        {
          "output_type": "display_data",
          "data": {
            "text/html": [
              "<span style=\"color:blue\"> |-momentum: 0.7</span>"
            ],
            "text/plain": [
              "<IPython.core.display.HTML object>"
            ]
          },
          "metadata": {
            "tags": []
          }
        },
        {
          "output_type": "display_data",
          "data": {
            "text/html": [
              "<span style=\"color:cyan\"> |-Score: 0.2222222238779068</span>"
            ],
            "text/plain": [
              "<IPython.core.display.HTML object>"
            ]
          },
          "metadata": {
            "tags": []
          }
        },
        {
          "output_type": "display_data",
          "data": {
            "text/html": [
              "<span style=\"color:cyan\"> |-Best step: 0</span>"
            ],
            "text/plain": [
              "<IPython.core.display.HTML object>"
            ]
          },
          "metadata": {
            "tags": []
          }
        },
        {
          "output_type": "stream",
          "text": [
            "Train on 116 samples, validate on 15 samples\n",
            "Epoch 1/50\n",
            "116/116 [==============================] - 0s 3ms/sample - loss: 1.9994 - accuracy: 0.3534 - val_loss: 1.2610 - val_accuracy: 0.4000\n",
            "Epoch 2/50\n",
            "116/116 [==============================] - 0s 282us/sample - loss: 1.5225 - accuracy: 0.4569 - val_loss: 1.2377 - val_accuracy: 0.2667\n",
            "Epoch 3/50\n",
            "116/116 [==============================] - 0s 309us/sample - loss: 1.2778 - accuracy: 0.5172 - val_loss: 1.1701 - val_accuracy: 0.3333\n",
            "Epoch 4/50\n",
            "116/116 [==============================] - 0s 316us/sample - loss: 1.1303 - accuracy: 0.5517 - val_loss: 1.1549 - val_accuracy: 0.4000\n",
            "Epoch 5/50\n",
            "116/116 [==============================] - 0s 286us/sample - loss: 1.0715 - accuracy: 0.5431 - val_loss: 1.1865 - val_accuracy: 0.3333\n",
            "Epoch 6/50\n",
            "116/116 [==============================] - 0s 292us/sample - loss: 1.0348 - accuracy: 0.5603 - val_loss: 1.2353 - val_accuracy: 0.3333\n",
            "Epoch 7/50\n",
            "116/116 [==============================] - 0s 278us/sample - loss: 1.0217 - accuracy: 0.5345 - val_loss: 1.2242 - val_accuracy: 0.3333\n",
            "Epoch 8/50\n",
            "116/116 [==============================] - 0s 264us/sample - loss: 1.0064 - accuracy: 0.5431 - val_loss: 1.2468 - val_accuracy: 0.3333\n",
            "Epoch 9/50\n",
            "116/116 [==============================] - 0s 256us/sample - loss: 0.9943 - accuracy: 0.5862 - val_loss: 1.2508 - val_accuracy: 0.3333\n",
            "Epoch 10/50\n",
            "116/116 [==============================] - 0s 345us/sample - loss: 0.9869 - accuracy: 0.5776 - val_loss: 1.2569 - val_accuracy: 0.3333\n",
            "Epoch 11/50\n",
            "116/116 [==============================] - 0s 291us/sample - loss: 0.9792 - accuracy: 0.5603 - val_loss: 1.2758 - val_accuracy: 0.3333\n",
            "Epoch 12/50\n",
            "116/116 [==============================] - 0s 310us/sample - loss: 0.9728 - accuracy: 0.5517 - val_loss: 1.2784 - val_accuracy: 0.3333\n",
            "Epoch 13/50\n",
            "116/116 [==============================] - 0s 277us/sample - loss: 0.9660 - accuracy: 0.5690 - val_loss: 1.2641 - val_accuracy: 0.3333\n",
            "Epoch 14/50\n",
            "116/116 [==============================] - 0s 270us/sample - loss: 0.9586 - accuracy: 0.5776 - val_loss: 1.2796 - val_accuracy: 0.3333\n",
            "Epoch 15/50\n",
            "116/116 [==============================] - 0s 276us/sample - loss: 0.9574 - accuracy: 0.5603 - val_loss: 1.2858 - val_accuracy: 0.3333\n",
            "Epoch 16/50\n",
            "116/116 [==============================] - 0s 319us/sample - loss: 0.9494 - accuracy: 0.5862 - val_loss: 1.2568 - val_accuracy: 0.2667\n",
            "Epoch 17/50\n",
            "116/116 [==============================] - 0s 275us/sample - loss: 0.9439 - accuracy: 0.5690 - val_loss: 1.2499 - val_accuracy: 0.2667\n",
            "Epoch 18/50\n",
            "116/116 [==============================] - 0s 301us/sample - loss: 0.9421 - accuracy: 0.5690 - val_loss: 1.2712 - val_accuracy: 0.2667\n",
            "Epoch 19/50\n",
            "116/116 [==============================] - 0s 320us/sample - loss: 0.9392 - accuracy: 0.5603 - val_loss: 1.2773 - val_accuracy: 0.2667\n",
            "Epoch 20/50\n",
            "116/116 [==============================] - 0s 287us/sample - loss: 0.9410 - accuracy: 0.5776 - val_loss: 1.2792 - val_accuracy: 0.2667\n",
            "Epoch 21/50\n",
            "116/116 [==============================] - 0s 363us/sample - loss: 0.9362 - accuracy: 0.5862 - val_loss: 1.2700 - val_accuracy: 0.2667\n",
            "Epoch 22/50\n",
            "116/116 [==============================] - 0s 305us/sample - loss: 0.9290 - accuracy: 0.5690 - val_loss: 1.2881 - val_accuracy: 0.2667\n",
            "Epoch 23/50\n",
            "116/116 [==============================] - 0s 299us/sample - loss: 0.9336 - accuracy: 0.5776 - val_loss: 1.2900 - val_accuracy: 0.2667\n",
            "Epoch 24/50\n",
            "116/116 [==============================] - 0s 306us/sample - loss: 0.9289 - accuracy: 0.6034 - val_loss: 1.2731 - val_accuracy: 0.2667\n",
            "Epoch 25/50\n",
            "116/116 [==============================] - 0s 308us/sample - loss: 0.9240 - accuracy: 0.6034 - val_loss: 1.2683 - val_accuracy: 0.2667\n",
            "Epoch 26/50\n",
            "116/116 [==============================] - 0s 321us/sample - loss: 0.9184 - accuracy: 0.6034 - val_loss: 1.2707 - val_accuracy: 0.2667\n",
            "Epoch 27/50\n",
            "116/116 [==============================] - 0s 272us/sample - loss: 0.9172 - accuracy: 0.6034 - val_loss: 1.2732 - val_accuracy: 0.3333\n",
            "Epoch 28/50\n",
            "116/116 [==============================] - 0s 284us/sample - loss: 0.9150 - accuracy: 0.6121 - val_loss: 1.2926 - val_accuracy: 0.2667\n",
            "Epoch 29/50\n",
            "116/116 [==============================] - 0s 319us/sample - loss: 0.9210 - accuracy: 0.6034 - val_loss: 1.2660 - val_accuracy: 0.3333\n",
            "Epoch 30/50\n",
            "116/116 [==============================] - 0s 336us/sample - loss: 0.9117 - accuracy: 0.6379 - val_loss: 1.2456 - val_accuracy: 0.4000\n",
            "Epoch 31/50\n",
            "116/116 [==============================] - 0s 313us/sample - loss: 0.9099 - accuracy: 0.6207 - val_loss: 1.2475 - val_accuracy: 0.4000\n",
            "Epoch 32/50\n",
            "116/116 [==============================] - 0s 317us/sample - loss: 0.9089 - accuracy: 0.6293 - val_loss: 1.2509 - val_accuracy: 0.4000\n",
            "Epoch 33/50\n",
            "116/116 [==============================] - 0s 314us/sample - loss: 0.9026 - accuracy: 0.6293 - val_loss: 1.2516 - val_accuracy: 0.4000\n",
            "Epoch 34/50\n",
            "116/116 [==============================] - 0s 329us/sample - loss: 0.9041 - accuracy: 0.6207 - val_loss: 1.2695 - val_accuracy: 0.4000\n",
            "Epoch 35/50\n",
            "116/116 [==============================] - 0s 372us/sample - loss: 0.8970 - accuracy: 0.6121 - val_loss: 1.2588 - val_accuracy: 0.4667\n",
            "Epoch 36/50\n",
            "116/116 [==============================] - 0s 287us/sample - loss: 0.8968 - accuracy: 0.6034 - val_loss: 1.2590 - val_accuracy: 0.4667\n",
            "Epoch 37/50\n",
            "116/116 [==============================] - 0s 292us/sample - loss: 0.8967 - accuracy: 0.6121 - val_loss: 1.2700 - val_accuracy: 0.4667\n",
            "Epoch 38/50\n",
            "116/116 [==============================] - 0s 311us/sample - loss: 0.8930 - accuracy: 0.6207 - val_loss: 1.2897 - val_accuracy: 0.4667\n",
            "Epoch 39/50\n",
            "116/116 [==============================] - 0s 285us/sample - loss: 0.8919 - accuracy: 0.6207 - val_loss: 1.2635 - val_accuracy: 0.4667\n",
            "Epoch 40/50\n",
            "116/116 [==============================] - 0s 324us/sample - loss: 0.8928 - accuracy: 0.6466 - val_loss: 1.2859 - val_accuracy: 0.4667\n",
            "Epoch 41/50\n",
            "116/116 [==============================] - 0s 319us/sample - loss: 0.8903 - accuracy: 0.6379 - val_loss: 1.2897 - val_accuracy: 0.4667\n",
            "Epoch 42/50\n",
            "116/116 [==============================] - 0s 295us/sample - loss: 0.8860 - accuracy: 0.6379 - val_loss: 1.2896 - val_accuracy: 0.4667\n",
            "Epoch 43/50\n",
            "116/116 [==============================] - 0s 311us/sample - loss: 0.8838 - accuracy: 0.6293 - val_loss: 1.3053 - val_accuracy: 0.4667\n",
            "Epoch 44/50\n",
            "116/116 [==============================] - 0s 320us/sample - loss: 0.8884 - accuracy: 0.6552 - val_loss: 1.2969 - val_accuracy: 0.4667\n",
            "Epoch 45/50\n",
            "116/116 [==============================] - 0s 344us/sample - loss: 0.8803 - accuracy: 0.6552 - val_loss: 1.2727 - val_accuracy: 0.4667\n",
            "Epoch 46/50\n",
            "116/116 [==============================] - 0s 369us/sample - loss: 0.8811 - accuracy: 0.6466 - val_loss: 1.2491 - val_accuracy: 0.4667\n",
            "Epoch 47/50\n",
            "116/116 [==============================] - 0s 298us/sample - loss: 0.8821 - accuracy: 0.6466 - val_loss: 1.2450 - val_accuracy: 0.4667\n",
            "Epoch 48/50\n",
            "116/116 [==============================] - 0s 305us/sample - loss: 0.8757 - accuracy: 0.6552 - val_loss: 1.2584 - val_accuracy: 0.4667\n",
            "Epoch 49/50\n",
            "116/116 [==============================] - 0s 309us/sample - loss: 0.8792 - accuracy: 0.6379 - val_loss: 1.2777 - val_accuracy: 0.4667\n",
            "Epoch 50/50\n",
            "116/116 [==============================] - 0s 270us/sample - loss: 0.8783 - accuracy: 0.6638 - val_loss: 1.2668 - val_accuracy: 0.4667\n",
            "Train on 116 samples, validate on 15 samples\n",
            "Epoch 1/50\n",
            "116/116 [==============================] - 0s 3ms/sample - loss: 1.6767 - accuracy: 0.4397 - val_loss: 1.3332 - val_accuracy: 0.3333\n",
            "Epoch 2/50\n",
            "116/116 [==============================] - 0s 340us/sample - loss: 1.3826 - accuracy: 0.4483 - val_loss: 1.2053 - val_accuracy: 0.3333\n",
            "Epoch 3/50\n",
            "116/116 [==============================] - 0s 326us/sample - loss: 1.2316 - accuracy: 0.4569 - val_loss: 1.1167 - val_accuracy: 0.3333\n",
            "Epoch 4/50\n",
            "116/116 [==============================] - 0s 310us/sample - loss: 1.1492 - accuracy: 0.4569 - val_loss: 1.0647 - val_accuracy: 0.3333\n",
            "Epoch 5/50\n",
            "116/116 [==============================] - 0s 313us/sample - loss: 1.0872 - accuracy: 0.5000 - val_loss: 1.0158 - val_accuracy: 0.3333\n",
            "Epoch 6/50\n",
            "116/116 [==============================] - 0s 311us/sample - loss: 1.0423 - accuracy: 0.4828 - val_loss: 0.9937 - val_accuracy: 0.4000\n",
            "Epoch 7/50\n",
            "116/116 [==============================] - 0s 302us/sample - loss: 1.0163 - accuracy: 0.5086 - val_loss: 0.9910 - val_accuracy: 0.3333\n",
            "Epoch 8/50\n",
            "116/116 [==============================] - 0s 359us/sample - loss: 0.9976 - accuracy: 0.5172 - val_loss: 0.9843 - val_accuracy: 0.3333\n",
            "Epoch 9/50\n",
            "116/116 [==============================] - 0s 320us/sample - loss: 0.9786 - accuracy: 0.5259 - val_loss: 0.9758 - val_accuracy: 0.4000\n",
            "Epoch 10/50\n",
            "116/116 [==============================] - 0s 330us/sample - loss: 0.9619 - accuracy: 0.5172 - val_loss: 0.9614 - val_accuracy: 0.4000\n",
            "Epoch 11/50\n",
            "116/116 [==============================] - 0s 288us/sample - loss: 0.9531 - accuracy: 0.5431 - val_loss: 0.9748 - val_accuracy: 0.4000\n",
            "Epoch 12/50\n",
            "116/116 [==============================] - 0s 268us/sample - loss: 0.9436 - accuracy: 0.5431 - val_loss: 0.9840 - val_accuracy: 0.4000\n",
            "Epoch 13/50\n",
            "116/116 [==============================] - 0s 265us/sample - loss: 0.9360 - accuracy: 0.5345 - val_loss: 0.9822 - val_accuracy: 0.4667\n",
            "Epoch 14/50\n",
            "116/116 [==============================] - 0s 282us/sample - loss: 0.9321 - accuracy: 0.5345 - val_loss: 0.9823 - val_accuracy: 0.4667\n",
            "Epoch 15/50\n",
            "116/116 [==============================] - 0s 347us/sample - loss: 0.9218 - accuracy: 0.5431 - val_loss: 0.9858 - val_accuracy: 0.4667\n",
            "Epoch 16/50\n",
            "116/116 [==============================] - 0s 282us/sample - loss: 0.9173 - accuracy: 0.5603 - val_loss: 0.9866 - val_accuracy: 0.4667\n",
            "Epoch 17/50\n",
            "116/116 [==============================] - 0s 298us/sample - loss: 0.9101 - accuracy: 0.5776 - val_loss: 0.9877 - val_accuracy: 0.4667\n",
            "Epoch 18/50\n",
            "116/116 [==============================] - 0s 271us/sample - loss: 0.9115 - accuracy: 0.5603 - val_loss: 0.9813 - val_accuracy: 0.4667\n",
            "Epoch 19/50\n",
            "116/116 [==============================] - 0s 280us/sample - loss: 0.9034 - accuracy: 0.5776 - val_loss: 0.9914 - val_accuracy: 0.4667\n",
            "Epoch 20/50\n",
            "116/116 [==============================] - 0s 275us/sample - loss: 0.9101 - accuracy: 0.5776 - val_loss: 0.9983 - val_accuracy: 0.4667\n",
            "Epoch 21/50\n",
            "116/116 [==============================] - 0s 283us/sample - loss: 0.8976 - accuracy: 0.5948 - val_loss: 1.0165 - val_accuracy: 0.4667\n",
            "Epoch 22/50\n",
            "116/116 [==============================] - 0s 288us/sample - loss: 0.9010 - accuracy: 0.5862 - val_loss: 1.0044 - val_accuracy: 0.4667\n",
            "Epoch 23/50\n",
            "116/116 [==============================] - 0s 308us/sample - loss: 0.8898 - accuracy: 0.5948 - val_loss: 1.0070 - val_accuracy: 0.4667\n",
            "Epoch 24/50\n",
            "116/116 [==============================] - 0s 289us/sample - loss: 0.8893 - accuracy: 0.6034 - val_loss: 1.0140 - val_accuracy: 0.4667\n",
            "Epoch 25/50\n",
            "116/116 [==============================] - 0s 341us/sample - loss: 0.8881 - accuracy: 0.6034 - val_loss: 1.0133 - val_accuracy: 0.5333\n",
            "Epoch 26/50\n",
            "116/116 [==============================] - 0s 305us/sample - loss: 0.8849 - accuracy: 0.5948 - val_loss: 1.0121 - val_accuracy: 0.5333\n",
            "Epoch 27/50\n",
            "116/116 [==============================] - 0s 349us/sample - loss: 0.8910 - accuracy: 0.6034 - val_loss: 1.0066 - val_accuracy: 0.6000\n",
            "Epoch 28/50\n",
            "116/116 [==============================] - 0s 334us/sample - loss: 0.8853 - accuracy: 0.6034 - val_loss: 1.0059 - val_accuracy: 0.6000\n",
            "Epoch 29/50\n",
            "116/116 [==============================] - 0s 311us/sample - loss: 0.8858 - accuracy: 0.6121 - val_loss: 1.0168 - val_accuracy: 0.6000\n",
            "Epoch 30/50\n",
            "116/116 [==============================] - 0s 282us/sample - loss: 0.8762 - accuracy: 0.6034 - val_loss: 1.0306 - val_accuracy: 0.6000\n",
            "Epoch 31/50\n",
            "116/116 [==============================] - 0s 305us/sample - loss: 0.8746 - accuracy: 0.6034 - val_loss: 1.0394 - val_accuracy: 0.6000\n",
            "Epoch 32/50\n",
            "116/116 [==============================] - 0s 324us/sample - loss: 0.8743 - accuracy: 0.6121 - val_loss: 1.0425 - val_accuracy: 0.5333\n",
            "Epoch 33/50\n",
            "116/116 [==============================] - 0s 315us/sample - loss: 0.8753 - accuracy: 0.6121 - val_loss: 1.0544 - val_accuracy: 0.5333\n",
            "Epoch 34/50\n",
            "116/116 [==============================] - 0s 302us/sample - loss: 0.8718 - accuracy: 0.6121 - val_loss: 1.0379 - val_accuracy: 0.6000\n",
            "Epoch 35/50\n",
            "116/116 [==============================] - 0s 302us/sample - loss: 0.8720 - accuracy: 0.6207 - val_loss: 1.0571 - val_accuracy: 0.5333\n",
            "Epoch 36/50\n",
            "116/116 [==============================] - 0s 285us/sample - loss: 0.8721 - accuracy: 0.6121 - val_loss: 1.0523 - val_accuracy: 0.5333\n",
            "Epoch 37/50\n",
            "116/116 [==============================] - 0s 300us/sample - loss: 0.8631 - accuracy: 0.6121 - val_loss: 1.0486 - val_accuracy: 0.6000\n",
            "Epoch 38/50\n",
            "116/116 [==============================] - 0s 316us/sample - loss: 0.8642 - accuracy: 0.6121 - val_loss: 1.0621 - val_accuracy: 0.5333\n",
            "Epoch 39/50\n",
            "116/116 [==============================] - 0s 288us/sample - loss: 0.8636 - accuracy: 0.6207 - val_loss: 1.0396 - val_accuracy: 0.6000\n",
            "Epoch 40/50\n",
            "116/116 [==============================] - 0s 279us/sample - loss: 0.8655 - accuracy: 0.6466 - val_loss: 1.0619 - val_accuracy: 0.6000\n",
            "Epoch 41/50\n",
            "116/116 [==============================] - 0s 318us/sample - loss: 0.8636 - accuracy: 0.6207 - val_loss: 1.0824 - val_accuracy: 0.5333\n",
            "Epoch 42/50\n",
            "116/116 [==============================] - 0s 315us/sample - loss: 0.8624 - accuracy: 0.6293 - val_loss: 1.0833 - val_accuracy: 0.5333\n",
            "Epoch 43/50\n",
            "116/116 [==============================] - 0s 310us/sample - loss: 0.8606 - accuracy: 0.6207 - val_loss: 1.0916 - val_accuracy: 0.5333\n",
            "Epoch 44/50\n",
            "116/116 [==============================] - 0s 305us/sample - loss: 0.8615 - accuracy: 0.6121 - val_loss: 1.0852 - val_accuracy: 0.5333\n",
            "Epoch 45/50\n",
            "116/116 [==============================] - 0s 306us/sample - loss: 0.8603 - accuracy: 0.6034 - val_loss: 1.0668 - val_accuracy: 0.5333\n",
            "Epoch 46/50\n",
            "116/116 [==============================] - 0s 299us/sample - loss: 0.8597 - accuracy: 0.6121 - val_loss: 1.0611 - val_accuracy: 0.5333\n",
            "Epoch 47/50\n",
            "116/116 [==============================] - 0s 314us/sample - loss: 0.8575 - accuracy: 0.6293 - val_loss: 1.0857 - val_accuracy: 0.6000\n",
            "Epoch 48/50\n",
            "116/116 [==============================] - 0s 353us/sample - loss: 0.8599 - accuracy: 0.6121 - val_loss: 1.0886 - val_accuracy: 0.5333\n",
            "Epoch 49/50\n",
            "116/116 [==============================] - 0s 316us/sample - loss: 0.8529 - accuracy: 0.6207 - val_loss: 1.0925 - val_accuracy: 0.5333\n",
            "Epoch 50/50\n",
            "116/116 [==============================] - 0s 296us/sample - loss: 0.8544 - accuracy: 0.6207 - val_loss: 1.0930 - val_accuracy: 0.5333\n",
            "Train on 116 samples, validate on 15 samples\n",
            "Epoch 1/50\n",
            "116/116 [==============================] - 0s 3ms/sample - loss: 1.6160 - accuracy: 0.3362 - val_loss: 1.6015 - val_accuracy: 0.2667\n",
            "Epoch 2/50\n",
            "116/116 [==============================] - 0s 320us/sample - loss: 1.3159 - accuracy: 0.4138 - val_loss: 1.4890 - val_accuracy: 0.3333\n",
            "Epoch 3/50\n",
            "116/116 [==============================] - 0s 335us/sample - loss: 1.1837 - accuracy: 0.4655 - val_loss: 1.4764 - val_accuracy: 0.4000\n",
            "Epoch 4/50\n",
            "116/116 [==============================] - 0s 409us/sample - loss: 1.1242 - accuracy: 0.4655 - val_loss: 1.4464 - val_accuracy: 0.4000\n",
            "Epoch 5/50\n",
            "116/116 [==============================] - 0s 351us/sample - loss: 1.0744 - accuracy: 0.4828 - val_loss: 1.4494 - val_accuracy: 0.4000\n",
            "Epoch 6/50\n",
            "116/116 [==============================] - 0s 308us/sample - loss: 1.0499 - accuracy: 0.4828 - val_loss: 1.4064 - val_accuracy: 0.5333\n",
            "Epoch 7/50\n",
            "116/116 [==============================] - 0s 325us/sample - loss: 1.0267 - accuracy: 0.4828 - val_loss: 1.3966 - val_accuracy: 0.4667\n",
            "Epoch 8/50\n",
            "116/116 [==============================] - 0s 307us/sample - loss: 1.0133 - accuracy: 0.4741 - val_loss: 1.3896 - val_accuracy: 0.4667\n",
            "Epoch 9/50\n",
            "116/116 [==============================] - 0s 316us/sample - loss: 0.9847 - accuracy: 0.4828 - val_loss: 1.3801 - val_accuracy: 0.5333\n",
            "Epoch 10/50\n",
            "116/116 [==============================] - 0s 283us/sample - loss: 0.9731 - accuracy: 0.4914 - val_loss: 1.3668 - val_accuracy: 0.5333\n",
            "Epoch 11/50\n",
            "116/116 [==============================] - 0s 285us/sample - loss: 0.9620 - accuracy: 0.4828 - val_loss: 1.3492 - val_accuracy: 0.5333\n",
            "Epoch 12/50\n",
            "116/116 [==============================] - 0s 410us/sample - loss: 0.9489 - accuracy: 0.5086 - val_loss: 1.3512 - val_accuracy: 0.4667\n",
            "Epoch 13/50\n",
            "116/116 [==============================] - 0s 349us/sample - loss: 0.9426 - accuracy: 0.5086 - val_loss: 1.3273 - val_accuracy: 0.4667\n",
            "Epoch 14/50\n",
            "116/116 [==============================] - 0s 318us/sample - loss: 0.9354 - accuracy: 0.5431 - val_loss: 1.2920 - val_accuracy: 0.5333\n",
            "Epoch 15/50\n",
            "116/116 [==============================] - 0s 325us/sample - loss: 0.9257 - accuracy: 0.5517 - val_loss: 1.3129 - val_accuracy: 0.4667\n",
            "Epoch 16/50\n",
            "116/116 [==============================] - 0s 324us/sample - loss: 0.9178 - accuracy: 0.5431 - val_loss: 1.3020 - val_accuracy: 0.4667\n",
            "Epoch 17/50\n",
            "116/116 [==============================] - 0s 305us/sample - loss: 0.9116 - accuracy: 0.5517 - val_loss: 1.2946 - val_accuracy: 0.4667\n",
            "Epoch 18/50\n",
            "116/116 [==============================] - 0s 300us/sample - loss: 0.9051 - accuracy: 0.5431 - val_loss: 1.3098 - val_accuracy: 0.4667\n",
            "Epoch 19/50\n",
            "116/116 [==============================] - 0s 287us/sample - loss: 0.9005 - accuracy: 0.5603 - val_loss: 1.2954 - val_accuracy: 0.4667\n",
            "Epoch 20/50\n",
            "116/116 [==============================] - 0s 331us/sample - loss: 0.8957 - accuracy: 0.5603 - val_loss: 1.2902 - val_accuracy: 0.4667\n",
            "Epoch 21/50\n",
            "116/116 [==============================] - 0s 274us/sample - loss: 0.8866 - accuracy: 0.5603 - val_loss: 1.3121 - val_accuracy: 0.4667\n",
            "Epoch 22/50\n",
            "116/116 [==============================] - 0s 296us/sample - loss: 0.8857 - accuracy: 0.5603 - val_loss: 1.2936 - val_accuracy: 0.4667\n",
            "Epoch 23/50\n",
            "116/116 [==============================] - 0s 292us/sample - loss: 0.8816 - accuracy: 0.5948 - val_loss: 1.2602 - val_accuracy: 0.4667\n",
            "Epoch 24/50\n",
            "116/116 [==============================] - 0s 297us/sample - loss: 0.8778 - accuracy: 0.5776 - val_loss: 1.2821 - val_accuracy: 0.5333\n",
            "Epoch 25/50\n",
            "116/116 [==============================] - 0s 322us/sample - loss: 0.8762 - accuracy: 0.5603 - val_loss: 1.2714 - val_accuracy: 0.5333\n",
            "Epoch 26/50\n",
            "116/116 [==============================] - 0s 286us/sample - loss: 0.8720 - accuracy: 0.5690 - val_loss: 1.2597 - val_accuracy: 0.5333\n",
            "Epoch 27/50\n",
            "116/116 [==============================] - 0s 296us/sample - loss: 0.8695 - accuracy: 0.5862 - val_loss: 1.2622 - val_accuracy: 0.6000\n",
            "Epoch 28/50\n",
            "116/116 [==============================] - 0s 309us/sample - loss: 0.8688 - accuracy: 0.5603 - val_loss: 1.2623 - val_accuracy: 0.6000\n",
            "Epoch 29/50\n",
            "116/116 [==============================] - 0s 316us/sample - loss: 0.8655 - accuracy: 0.5948 - val_loss: 1.2525 - val_accuracy: 0.6000\n",
            "Epoch 30/50\n",
            "116/116 [==============================] - 0s 307us/sample - loss: 0.8634 - accuracy: 0.5862 - val_loss: 1.2509 - val_accuracy: 0.6000\n",
            "Epoch 31/50\n",
            "116/116 [==============================] - 0s 308us/sample - loss: 0.8594 - accuracy: 0.5862 - val_loss: 1.2641 - val_accuracy: 0.6000\n",
            "Epoch 32/50\n",
            "116/116 [==============================] - 0s 326us/sample - loss: 0.8595 - accuracy: 0.5862 - val_loss: 1.2509 - val_accuracy: 0.6000\n",
            "Epoch 33/50\n",
            "116/116 [==============================] - 0s 322us/sample - loss: 0.8610 - accuracy: 0.5776 - val_loss: 1.2761 - val_accuracy: 0.6000\n",
            "Epoch 34/50\n",
            "116/116 [==============================] - 0s 314us/sample - loss: 0.8553 - accuracy: 0.6034 - val_loss: 1.2522 - val_accuracy: 0.6000\n",
            "Epoch 35/50\n",
            "116/116 [==============================] - 0s 317us/sample - loss: 0.8616 - accuracy: 0.6121 - val_loss: 1.2719 - val_accuracy: 0.6000\n",
            "Epoch 36/50\n",
            "116/116 [==============================] - 0s 293us/sample - loss: 0.8522 - accuracy: 0.5948 - val_loss: 1.2613 - val_accuracy: 0.6000\n",
            "Epoch 37/50\n",
            "116/116 [==============================] - 0s 305us/sample - loss: 0.8499 - accuracy: 0.6034 - val_loss: 1.2803 - val_accuracy: 0.6000\n",
            "Epoch 38/50\n",
            "116/116 [==============================] - 0s 293us/sample - loss: 0.8523 - accuracy: 0.6121 - val_loss: 1.3003 - val_accuracy: 0.6000\n",
            "Epoch 39/50\n",
            "116/116 [==============================] - 0s 292us/sample - loss: 0.8472 - accuracy: 0.6121 - val_loss: 1.2961 - val_accuracy: 0.6000\n",
            "Epoch 40/50\n",
            "116/116 [==============================] - 0s 280us/sample - loss: 0.8434 - accuracy: 0.6121 - val_loss: 1.2796 - val_accuracy: 0.6000\n",
            "Epoch 41/50\n",
            "116/116 [==============================] - 0s 297us/sample - loss: 0.8412 - accuracy: 0.5948 - val_loss: 1.2775 - val_accuracy: 0.6000\n",
            "Epoch 42/50\n",
            "116/116 [==============================] - 0s 289us/sample - loss: 0.8387 - accuracy: 0.6121 - val_loss: 1.2911 - val_accuracy: 0.6000\n",
            "Epoch 43/50\n",
            "116/116 [==============================] - 0s 290us/sample - loss: 0.8403 - accuracy: 0.6207 - val_loss: 1.2737 - val_accuracy: 0.6000\n",
            "Epoch 44/50\n",
            "116/116 [==============================] - 0s 293us/sample - loss: 0.8364 - accuracy: 0.5948 - val_loss: 1.2806 - val_accuracy: 0.6000\n",
            "Epoch 45/50\n",
            "116/116 [==============================] - 0s 308us/sample - loss: 0.8386 - accuracy: 0.5948 - val_loss: 1.2650 - val_accuracy: 0.6000\n",
            "Epoch 46/50\n",
            "116/116 [==============================] - 0s 299us/sample - loss: 0.8373 - accuracy: 0.6034 - val_loss: 1.2782 - val_accuracy: 0.6000\n",
            "Epoch 47/50\n",
            "116/116 [==============================] - 0s 284us/sample - loss: 0.8343 - accuracy: 0.6034 - val_loss: 1.2913 - val_accuracy: 0.6000\n",
            "Epoch 48/50\n",
            "116/116 [==============================] - 0s 289us/sample - loss: 0.8342 - accuracy: 0.6121 - val_loss: 1.2836 - val_accuracy: 0.6000\n",
            "Epoch 49/50\n",
            "116/116 [==============================] - 0s 278us/sample - loss: 0.8361 - accuracy: 0.5862 - val_loss: 1.2969 - val_accuracy: 0.6000\n",
            "Epoch 50/50\n",
            "116/116 [==============================] - 0s 272us/sample - loss: 0.8304 - accuracy: 0.6034 - val_loss: 1.2711 - val_accuracy: 0.6000\n"
          ],
          "name": "stdout"
        },
        {
          "output_type": "display_data",
          "data": {
            "text/html": [
              "<span style=\"color:#4527A0\"><h1 style=\"font-size:18px\">Trial complete</h1></span>"
            ],
            "text/plain": [
              "<IPython.core.display.HTML object>"
            ]
          },
          "metadata": {
            "tags": []
          }
        },
        {
          "output_type": "display_data",
          "data": {
            "text/html": [
              "<span style=\"color:#4527A0\"><h1 style=\"font-size:18px\">Trial summary</h1></span>"
            ],
            "text/plain": [
              "<IPython.core.display.HTML object>"
            ]
          },
          "metadata": {
            "tags": []
          }
        },
        {
          "output_type": "display_data",
          "data": {
            "text/html": [
              "<span style=\"color:#7E57C2\"><h2 style=\"font-size:16px\">Hp values:</h2></span>"
            ],
            "text/plain": [
              "<IPython.core.display.HTML object>"
            ]
          },
          "metadata": {
            "tags": []
          }
        },
        {
          "output_type": "display_data",
          "data": {
            "text/html": [
              "<span style=\"color:cyan\"> |-learning_rate: 0.01</span>"
            ],
            "text/plain": [
              "<IPython.core.display.HTML object>"
            ]
          },
          "metadata": {
            "tags": []
          }
        },
        {
          "output_type": "display_data",
          "data": {
            "text/html": [
              "<span style=\"color:blue\"> |-momentum: 0.2</span>"
            ],
            "text/plain": [
              "<IPython.core.display.HTML object>"
            ]
          },
          "metadata": {
            "tags": []
          }
        },
        {
          "output_type": "display_data",
          "data": {
            "text/html": [
              "<span style=\"color:cyan\"> |-Score: 0.5555555820465088</span>"
            ],
            "text/plain": [
              "<IPython.core.display.HTML object>"
            ]
          },
          "metadata": {
            "tags": []
          }
        },
        {
          "output_type": "display_data",
          "data": {
            "text/html": [
              "<span style=\"color:cyan\"> |-Best step: 0</span>"
            ],
            "text/plain": [
              "<IPython.core.display.HTML object>"
            ]
          },
          "metadata": {
            "tags": []
          }
        },
        {
          "output_type": "stream",
          "text": [
            "INFO:tensorflow:Oracle triggered exit\n",
            "INFO:tensorflow:Reloading Oracle from /content/my_dir/helloworld/oracle.json\n",
            "INFO:tensorflow:Reloading Tuner from /content/my_dir/helloworld/tuner0.json\n"
          ],
          "name": "stdout"
        },
        {
          "output_type": "display_data",
          "data": {
            "text/html": [
              "<span style=\"color:#4527A0\"><h1 style=\"font-size:18px\">Search space summary</h1></span>"
            ],
            "text/plain": [
              "<IPython.core.display.HTML object>"
            ]
          },
          "metadata": {
            "tags": []
          }
        },
        {
          "output_type": "display_data",
          "data": {
            "text/html": [
              "<span style=\"color:cyan\"> |-Default search space size: 2</span>"
            ],
            "text/plain": [
              "<IPython.core.display.HTML object>"
            ]
          },
          "metadata": {
            "tags": []
          }
        },
        {
          "output_type": "display_data",
          "data": {
            "text/html": [
              "<span style=\"color:#7E57C2\"><h2 style=\"font-size:16px\">learning_rate (Choice)</h2></span>"
            ],
            "text/plain": [
              "<IPython.core.display.HTML object>"
            ]
          },
          "metadata": {
            "tags": []
          }
        },
        {
          "output_type": "display_data",
          "data": {
            "text/html": [
              "<span style=\"color:cyan\"> |-default: 0.01</span>"
            ],
            "text/plain": [
              "<IPython.core.display.HTML object>"
            ]
          },
          "metadata": {
            "tags": []
          }
        },
        {
          "output_type": "display_data",
          "data": {
            "text/html": [
              "<span style=\"color:blue\"> |-ordered: True</span>"
            ],
            "text/plain": [
              "<IPython.core.display.HTML object>"
            ]
          },
          "metadata": {
            "tags": []
          }
        },
        {
          "output_type": "display_data",
          "data": {
            "text/html": [
              "<span style=\"color:cyan\"> |-values: [0.01, 0.001, 0.0001]</span>"
            ],
            "text/plain": [
              "<IPython.core.display.HTML object>"
            ]
          },
          "metadata": {
            "tags": []
          }
        },
        {
          "output_type": "display_data",
          "data": {
            "text/html": [
              "<span style=\"color:#7E57C2\"><h2 style=\"font-size:16px\">momentum (Choice)</h2></span>"
            ],
            "text/plain": [
              "<IPython.core.display.HTML object>"
            ]
          },
          "metadata": {
            "tags": []
          }
        },
        {
          "output_type": "display_data",
          "data": {
            "text/html": [
              "<span style=\"color:cyan\"> |-default: 0.0</span>"
            ],
            "text/plain": [
              "<IPython.core.display.HTML object>"
            ]
          },
          "metadata": {
            "tags": []
          }
        },
        {
          "output_type": "display_data",
          "data": {
            "text/html": [
              "<span style=\"color:blue\"> |-ordered: True</span>"
            ],
            "text/plain": [
              "<IPython.core.display.HTML object>"
            ]
          },
          "metadata": {
            "tags": []
          }
        },
        {
          "output_type": "display_data",
          "data": {
            "text/html": [
              "<span style=\"color:cyan\"> |-values: [0.0, 0.1, 0.2, 0.3, 0.4, 0.5, 0.6, 0.7, 0.8, 0.9]</span>"
            ],
            "text/plain": [
              "<IPython.core.display.HTML object>"
            ]
          },
          "metadata": {
            "tags": []
          }
        },
        {
          "output_type": "stream",
          "text": [
            "INFO:tensorflow:Oracle triggered exit\n",
            "INFO:tensorflow:Reloading Oracle from /content/my_dir/helloworld/oracle.json\n",
            "INFO:tensorflow:Reloading Tuner from /content/my_dir/helloworld/tuner0.json\n"
          ],
          "name": "stdout"
        },
        {
          "output_type": "display_data",
          "data": {
            "text/html": [
              "<span style=\"color:#4527A0\"><h1 style=\"font-size:18px\">Search space summary</h1></span>"
            ],
            "text/plain": [
              "<IPython.core.display.HTML object>"
            ]
          },
          "metadata": {
            "tags": []
          }
        },
        {
          "output_type": "display_data",
          "data": {
            "text/html": [
              "<span style=\"color:cyan\"> |-Default search space size: 2</span>"
            ],
            "text/plain": [
              "<IPython.core.display.HTML object>"
            ]
          },
          "metadata": {
            "tags": []
          }
        },
        {
          "output_type": "display_data",
          "data": {
            "text/html": [
              "<span style=\"color:#7E57C2\"><h2 style=\"font-size:16px\">learning_rate (Choice)</h2></span>"
            ],
            "text/plain": [
              "<IPython.core.display.HTML object>"
            ]
          },
          "metadata": {
            "tags": []
          }
        },
        {
          "output_type": "display_data",
          "data": {
            "text/html": [
              "<span style=\"color:cyan\"> |-default: 0.01</span>"
            ],
            "text/plain": [
              "<IPython.core.display.HTML object>"
            ]
          },
          "metadata": {
            "tags": []
          }
        },
        {
          "output_type": "display_data",
          "data": {
            "text/html": [
              "<span style=\"color:blue\"> |-ordered: True</span>"
            ],
            "text/plain": [
              "<IPython.core.display.HTML object>"
            ]
          },
          "metadata": {
            "tags": []
          }
        },
        {
          "output_type": "display_data",
          "data": {
            "text/html": [
              "<span style=\"color:cyan\"> |-values: [0.01, 0.001, 0.0001]</span>"
            ],
            "text/plain": [
              "<IPython.core.display.HTML object>"
            ]
          },
          "metadata": {
            "tags": []
          }
        },
        {
          "output_type": "display_data",
          "data": {
            "text/html": [
              "<span style=\"color:#7E57C2\"><h2 style=\"font-size:16px\">momentum (Choice)</h2></span>"
            ],
            "text/plain": [
              "<IPython.core.display.HTML object>"
            ]
          },
          "metadata": {
            "tags": []
          }
        },
        {
          "output_type": "display_data",
          "data": {
            "text/html": [
              "<span style=\"color:cyan\"> |-default: 0.0</span>"
            ],
            "text/plain": [
              "<IPython.core.display.HTML object>"
            ]
          },
          "metadata": {
            "tags": []
          }
        },
        {
          "output_type": "display_data",
          "data": {
            "text/html": [
              "<span style=\"color:blue\"> |-ordered: True</span>"
            ],
            "text/plain": [
              "<IPython.core.display.HTML object>"
            ]
          },
          "metadata": {
            "tags": []
          }
        },
        {
          "output_type": "display_data",
          "data": {
            "text/html": [
              "<span style=\"color:cyan\"> |-values: [0.0, 0.1, 0.2, 0.3, 0.4, 0.5, 0.6, 0.7, 0.8, 0.9]</span>"
            ],
            "text/plain": [
              "<IPython.core.display.HTML object>"
            ]
          },
          "metadata": {
            "tags": []
          }
        },
        {
          "output_type": "stream",
          "text": [
            "INFO:tensorflow:Oracle triggered exit\n",
            "INFO:tensorflow:Reloading Oracle from /content/my_dir/helloworld/oracle.json\n",
            "INFO:tensorflow:Reloading Tuner from /content/my_dir/helloworld/tuner0.json\n"
          ],
          "name": "stdout"
        },
        {
          "output_type": "display_data",
          "data": {
            "text/html": [
              "<span style=\"color:#4527A0\"><h1 style=\"font-size:18px\">Search space summary</h1></span>"
            ],
            "text/plain": [
              "<IPython.core.display.HTML object>"
            ]
          },
          "metadata": {
            "tags": []
          }
        },
        {
          "output_type": "display_data",
          "data": {
            "text/html": [
              "<span style=\"color:cyan\"> |-Default search space size: 2</span>"
            ],
            "text/plain": [
              "<IPython.core.display.HTML object>"
            ]
          },
          "metadata": {
            "tags": []
          }
        },
        {
          "output_type": "display_data",
          "data": {
            "text/html": [
              "<span style=\"color:#7E57C2\"><h2 style=\"font-size:16px\">learning_rate (Choice)</h2></span>"
            ],
            "text/plain": [
              "<IPython.core.display.HTML object>"
            ]
          },
          "metadata": {
            "tags": []
          }
        },
        {
          "output_type": "display_data",
          "data": {
            "text/html": [
              "<span style=\"color:cyan\"> |-default: 0.01</span>"
            ],
            "text/plain": [
              "<IPython.core.display.HTML object>"
            ]
          },
          "metadata": {
            "tags": []
          }
        },
        {
          "output_type": "display_data",
          "data": {
            "text/html": [
              "<span style=\"color:blue\"> |-ordered: True</span>"
            ],
            "text/plain": [
              "<IPython.core.display.HTML object>"
            ]
          },
          "metadata": {
            "tags": []
          }
        },
        {
          "output_type": "display_data",
          "data": {
            "text/html": [
              "<span style=\"color:cyan\"> |-values: [0.01, 0.001, 0.0001]</span>"
            ],
            "text/plain": [
              "<IPython.core.display.HTML object>"
            ]
          },
          "metadata": {
            "tags": []
          }
        },
        {
          "output_type": "display_data",
          "data": {
            "text/html": [
              "<span style=\"color:#7E57C2\"><h2 style=\"font-size:16px\">momentum (Choice)</h2></span>"
            ],
            "text/plain": [
              "<IPython.core.display.HTML object>"
            ]
          },
          "metadata": {
            "tags": []
          }
        },
        {
          "output_type": "display_data",
          "data": {
            "text/html": [
              "<span style=\"color:cyan\"> |-default: 0.0</span>"
            ],
            "text/plain": [
              "<IPython.core.display.HTML object>"
            ]
          },
          "metadata": {
            "tags": []
          }
        },
        {
          "output_type": "display_data",
          "data": {
            "text/html": [
              "<span style=\"color:blue\"> |-ordered: True</span>"
            ],
            "text/plain": [
              "<IPython.core.display.HTML object>"
            ]
          },
          "metadata": {
            "tags": []
          }
        },
        {
          "output_type": "display_data",
          "data": {
            "text/html": [
              "<span style=\"color:cyan\"> |-values: [0.0, 0.1, 0.2, 0.3, 0.4, 0.5, 0.6, 0.7, 0.8, 0.9]</span>"
            ],
            "text/plain": [
              "<IPython.core.display.HTML object>"
            ]
          },
          "metadata": {
            "tags": []
          }
        },
        {
          "output_type": "stream",
          "text": [
            "INFO:tensorflow:Oracle triggered exit\n",
            "INFO:tensorflow:Reloading Oracle from /content/my_dir/helloworld/oracle.json\n",
            "INFO:tensorflow:Reloading Tuner from /content/my_dir/helloworld/tuner0.json\n"
          ],
          "name": "stdout"
        },
        {
          "output_type": "display_data",
          "data": {
            "text/html": [
              "<span style=\"color:#4527A0\"><h1 style=\"font-size:18px\">Search space summary</h1></span>"
            ],
            "text/plain": [
              "<IPython.core.display.HTML object>"
            ]
          },
          "metadata": {
            "tags": []
          }
        },
        {
          "output_type": "display_data",
          "data": {
            "text/html": [
              "<span style=\"color:cyan\"> |-Default search space size: 2</span>"
            ],
            "text/plain": [
              "<IPython.core.display.HTML object>"
            ]
          },
          "metadata": {
            "tags": []
          }
        },
        {
          "output_type": "display_data",
          "data": {
            "text/html": [
              "<span style=\"color:#7E57C2\"><h2 style=\"font-size:16px\">learning_rate (Choice)</h2></span>"
            ],
            "text/plain": [
              "<IPython.core.display.HTML object>"
            ]
          },
          "metadata": {
            "tags": []
          }
        },
        {
          "output_type": "display_data",
          "data": {
            "text/html": [
              "<span style=\"color:cyan\"> |-default: 0.01</span>"
            ],
            "text/plain": [
              "<IPython.core.display.HTML object>"
            ]
          },
          "metadata": {
            "tags": []
          }
        },
        {
          "output_type": "display_data",
          "data": {
            "text/html": [
              "<span style=\"color:blue\"> |-ordered: True</span>"
            ],
            "text/plain": [
              "<IPython.core.display.HTML object>"
            ]
          },
          "metadata": {
            "tags": []
          }
        },
        {
          "output_type": "display_data",
          "data": {
            "text/html": [
              "<span style=\"color:cyan\"> |-values: [0.01, 0.001, 0.0001]</span>"
            ],
            "text/plain": [
              "<IPython.core.display.HTML object>"
            ]
          },
          "metadata": {
            "tags": []
          }
        },
        {
          "output_type": "display_data",
          "data": {
            "text/html": [
              "<span style=\"color:#7E57C2\"><h2 style=\"font-size:16px\">momentum (Choice)</h2></span>"
            ],
            "text/plain": [
              "<IPython.core.display.HTML object>"
            ]
          },
          "metadata": {
            "tags": []
          }
        },
        {
          "output_type": "display_data",
          "data": {
            "text/html": [
              "<span style=\"color:cyan\"> |-default: 0.0</span>"
            ],
            "text/plain": [
              "<IPython.core.display.HTML object>"
            ]
          },
          "metadata": {
            "tags": []
          }
        },
        {
          "output_type": "display_data",
          "data": {
            "text/html": [
              "<span style=\"color:blue\"> |-ordered: True</span>"
            ],
            "text/plain": [
              "<IPython.core.display.HTML object>"
            ]
          },
          "metadata": {
            "tags": []
          }
        },
        {
          "output_type": "display_data",
          "data": {
            "text/html": [
              "<span style=\"color:cyan\"> |-values: [0.0, 0.1, 0.2, 0.3, 0.4, 0.5, 0.6, 0.7, 0.8, 0.9]</span>"
            ],
            "text/plain": [
              "<IPython.core.display.HTML object>"
            ]
          },
          "metadata": {
            "tags": []
          }
        },
        {
          "output_type": "stream",
          "text": [
            "INFO:tensorflow:Oracle triggered exit\n",
            "INFO:tensorflow:Reloading Oracle from /content/my_dir/helloworld/oracle.json\n",
            "INFO:tensorflow:Reloading Tuner from /content/my_dir/helloworld/tuner0.json\n"
          ],
          "name": "stdout"
        },
        {
          "output_type": "display_data",
          "data": {
            "text/html": [
              "<span style=\"color:#4527A0\"><h1 style=\"font-size:18px\">Search space summary</h1></span>"
            ],
            "text/plain": [
              "<IPython.core.display.HTML object>"
            ]
          },
          "metadata": {
            "tags": []
          }
        },
        {
          "output_type": "display_data",
          "data": {
            "text/html": [
              "<span style=\"color:cyan\"> |-Default search space size: 2</span>"
            ],
            "text/plain": [
              "<IPython.core.display.HTML object>"
            ]
          },
          "metadata": {
            "tags": []
          }
        },
        {
          "output_type": "display_data",
          "data": {
            "text/html": [
              "<span style=\"color:#7E57C2\"><h2 style=\"font-size:16px\">learning_rate (Choice)</h2></span>"
            ],
            "text/plain": [
              "<IPython.core.display.HTML object>"
            ]
          },
          "metadata": {
            "tags": []
          }
        },
        {
          "output_type": "display_data",
          "data": {
            "text/html": [
              "<span style=\"color:cyan\"> |-default: 0.01</span>"
            ],
            "text/plain": [
              "<IPython.core.display.HTML object>"
            ]
          },
          "metadata": {
            "tags": []
          }
        },
        {
          "output_type": "display_data",
          "data": {
            "text/html": [
              "<span style=\"color:blue\"> |-ordered: True</span>"
            ],
            "text/plain": [
              "<IPython.core.display.HTML object>"
            ]
          },
          "metadata": {
            "tags": []
          }
        },
        {
          "output_type": "display_data",
          "data": {
            "text/html": [
              "<span style=\"color:cyan\"> |-values: [0.01, 0.001, 0.0001]</span>"
            ],
            "text/plain": [
              "<IPython.core.display.HTML object>"
            ]
          },
          "metadata": {
            "tags": []
          }
        },
        {
          "output_type": "display_data",
          "data": {
            "text/html": [
              "<span style=\"color:#7E57C2\"><h2 style=\"font-size:16px\">momentum (Choice)</h2></span>"
            ],
            "text/plain": [
              "<IPython.core.display.HTML object>"
            ]
          },
          "metadata": {
            "tags": []
          }
        },
        {
          "output_type": "display_data",
          "data": {
            "text/html": [
              "<span style=\"color:cyan\"> |-default: 0.0</span>"
            ],
            "text/plain": [
              "<IPython.core.display.HTML object>"
            ]
          },
          "metadata": {
            "tags": []
          }
        },
        {
          "output_type": "display_data",
          "data": {
            "text/html": [
              "<span style=\"color:blue\"> |-ordered: True</span>"
            ],
            "text/plain": [
              "<IPython.core.display.HTML object>"
            ]
          },
          "metadata": {
            "tags": []
          }
        },
        {
          "output_type": "display_data",
          "data": {
            "text/html": [
              "<span style=\"color:cyan\"> |-values: [0.0, 0.1, 0.2, 0.3, 0.4, 0.5, 0.6, 0.7, 0.8, 0.9]</span>"
            ],
            "text/plain": [
              "<IPython.core.display.HTML object>"
            ]
          },
          "metadata": {
            "tags": []
          }
        },
        {
          "output_type": "stream",
          "text": [
            "INFO:tensorflow:Oracle triggered exit\n",
            "INFO:tensorflow:Reloading Oracle from /content/my_dir/helloworld/oracle.json\n",
            "INFO:tensorflow:Reloading Tuner from /content/my_dir/helloworld/tuner0.json\n"
          ],
          "name": "stdout"
        },
        {
          "output_type": "display_data",
          "data": {
            "text/html": [
              "<span style=\"color:#4527A0\"><h1 style=\"font-size:18px\">Search space summary</h1></span>"
            ],
            "text/plain": [
              "<IPython.core.display.HTML object>"
            ]
          },
          "metadata": {
            "tags": []
          }
        },
        {
          "output_type": "display_data",
          "data": {
            "text/html": [
              "<span style=\"color:cyan\"> |-Default search space size: 2</span>"
            ],
            "text/plain": [
              "<IPython.core.display.HTML object>"
            ]
          },
          "metadata": {
            "tags": []
          }
        },
        {
          "output_type": "display_data",
          "data": {
            "text/html": [
              "<span style=\"color:#7E57C2\"><h2 style=\"font-size:16px\">learning_rate (Choice)</h2></span>"
            ],
            "text/plain": [
              "<IPython.core.display.HTML object>"
            ]
          },
          "metadata": {
            "tags": []
          }
        },
        {
          "output_type": "display_data",
          "data": {
            "text/html": [
              "<span style=\"color:cyan\"> |-default: 0.01</span>"
            ],
            "text/plain": [
              "<IPython.core.display.HTML object>"
            ]
          },
          "metadata": {
            "tags": []
          }
        },
        {
          "output_type": "display_data",
          "data": {
            "text/html": [
              "<span style=\"color:blue\"> |-ordered: True</span>"
            ],
            "text/plain": [
              "<IPython.core.display.HTML object>"
            ]
          },
          "metadata": {
            "tags": []
          }
        },
        {
          "output_type": "display_data",
          "data": {
            "text/html": [
              "<span style=\"color:cyan\"> |-values: [0.01, 0.001, 0.0001]</span>"
            ],
            "text/plain": [
              "<IPython.core.display.HTML object>"
            ]
          },
          "metadata": {
            "tags": []
          }
        },
        {
          "output_type": "display_data",
          "data": {
            "text/html": [
              "<span style=\"color:#7E57C2\"><h2 style=\"font-size:16px\">momentum (Choice)</h2></span>"
            ],
            "text/plain": [
              "<IPython.core.display.HTML object>"
            ]
          },
          "metadata": {
            "tags": []
          }
        },
        {
          "output_type": "display_data",
          "data": {
            "text/html": [
              "<span style=\"color:cyan\"> |-default: 0.0</span>"
            ],
            "text/plain": [
              "<IPython.core.display.HTML object>"
            ]
          },
          "metadata": {
            "tags": []
          }
        },
        {
          "output_type": "display_data",
          "data": {
            "text/html": [
              "<span style=\"color:blue\"> |-ordered: True</span>"
            ],
            "text/plain": [
              "<IPython.core.display.HTML object>"
            ]
          },
          "metadata": {
            "tags": []
          }
        },
        {
          "output_type": "display_data",
          "data": {
            "text/html": [
              "<span style=\"color:cyan\"> |-values: [0.0, 0.1, 0.2, 0.3, 0.4, 0.5, 0.6, 0.7, 0.8, 0.9]</span>"
            ],
            "text/plain": [
              "<IPython.core.display.HTML object>"
            ]
          },
          "metadata": {
            "tags": []
          }
        },
        {
          "output_type": "stream",
          "text": [
            "INFO:tensorflow:Oracle triggered exit\n",
            "INFO:tensorflow:Reloading Oracle from /content/my_dir/helloworld/oracle.json\n",
            "INFO:tensorflow:Reloading Tuner from /content/my_dir/helloworld/tuner0.json\n"
          ],
          "name": "stdout"
        },
        {
          "output_type": "display_data",
          "data": {
            "text/html": [
              "<span style=\"color:#4527A0\"><h1 style=\"font-size:18px\">Search space summary</h1></span>"
            ],
            "text/plain": [
              "<IPython.core.display.HTML object>"
            ]
          },
          "metadata": {
            "tags": []
          }
        },
        {
          "output_type": "display_data",
          "data": {
            "text/html": [
              "<span style=\"color:cyan\"> |-Default search space size: 2</span>"
            ],
            "text/plain": [
              "<IPython.core.display.HTML object>"
            ]
          },
          "metadata": {
            "tags": []
          }
        },
        {
          "output_type": "display_data",
          "data": {
            "text/html": [
              "<span style=\"color:#7E57C2\"><h2 style=\"font-size:16px\">learning_rate (Choice)</h2></span>"
            ],
            "text/plain": [
              "<IPython.core.display.HTML object>"
            ]
          },
          "metadata": {
            "tags": []
          }
        },
        {
          "output_type": "display_data",
          "data": {
            "text/html": [
              "<span style=\"color:cyan\"> |-default: 0.01</span>"
            ],
            "text/plain": [
              "<IPython.core.display.HTML object>"
            ]
          },
          "metadata": {
            "tags": []
          }
        },
        {
          "output_type": "display_data",
          "data": {
            "text/html": [
              "<span style=\"color:blue\"> |-ordered: True</span>"
            ],
            "text/plain": [
              "<IPython.core.display.HTML object>"
            ]
          },
          "metadata": {
            "tags": []
          }
        },
        {
          "output_type": "display_data",
          "data": {
            "text/html": [
              "<span style=\"color:cyan\"> |-values: [0.01, 0.001, 0.0001]</span>"
            ],
            "text/plain": [
              "<IPython.core.display.HTML object>"
            ]
          },
          "metadata": {
            "tags": []
          }
        },
        {
          "output_type": "display_data",
          "data": {
            "text/html": [
              "<span style=\"color:#7E57C2\"><h2 style=\"font-size:16px\">momentum (Choice)</h2></span>"
            ],
            "text/plain": [
              "<IPython.core.display.HTML object>"
            ]
          },
          "metadata": {
            "tags": []
          }
        },
        {
          "output_type": "display_data",
          "data": {
            "text/html": [
              "<span style=\"color:cyan\"> |-default: 0.0</span>"
            ],
            "text/plain": [
              "<IPython.core.display.HTML object>"
            ]
          },
          "metadata": {
            "tags": []
          }
        },
        {
          "output_type": "display_data",
          "data": {
            "text/html": [
              "<span style=\"color:blue\"> |-ordered: True</span>"
            ],
            "text/plain": [
              "<IPython.core.display.HTML object>"
            ]
          },
          "metadata": {
            "tags": []
          }
        },
        {
          "output_type": "display_data",
          "data": {
            "text/html": [
              "<span style=\"color:cyan\"> |-values: [0.0, 0.1, 0.2, 0.3, 0.4, 0.5, 0.6, 0.7, 0.8, 0.9]</span>"
            ],
            "text/plain": [
              "<IPython.core.display.HTML object>"
            ]
          },
          "metadata": {
            "tags": []
          }
        },
        {
          "output_type": "stream",
          "text": [
            "INFO:tensorflow:Oracle triggered exit\n",
            "INFO:tensorflow:Reloading Oracle from /content/my_dir/helloworld/oracle.json\n",
            "INFO:tensorflow:Reloading Tuner from /content/my_dir/helloworld/tuner0.json\n"
          ],
          "name": "stdout"
        },
        {
          "output_type": "display_data",
          "data": {
            "text/html": [
              "<span style=\"color:#4527A0\"><h1 style=\"font-size:18px\">Search space summary</h1></span>"
            ],
            "text/plain": [
              "<IPython.core.display.HTML object>"
            ]
          },
          "metadata": {
            "tags": []
          }
        },
        {
          "output_type": "display_data",
          "data": {
            "text/html": [
              "<span style=\"color:cyan\"> |-Default search space size: 2</span>"
            ],
            "text/plain": [
              "<IPython.core.display.HTML object>"
            ]
          },
          "metadata": {
            "tags": []
          }
        },
        {
          "output_type": "display_data",
          "data": {
            "text/html": [
              "<span style=\"color:#7E57C2\"><h2 style=\"font-size:16px\">learning_rate (Choice)</h2></span>"
            ],
            "text/plain": [
              "<IPython.core.display.HTML object>"
            ]
          },
          "metadata": {
            "tags": []
          }
        },
        {
          "output_type": "display_data",
          "data": {
            "text/html": [
              "<span style=\"color:cyan\"> |-default: 0.01</span>"
            ],
            "text/plain": [
              "<IPython.core.display.HTML object>"
            ]
          },
          "metadata": {
            "tags": []
          }
        },
        {
          "output_type": "display_data",
          "data": {
            "text/html": [
              "<span style=\"color:blue\"> |-ordered: True</span>"
            ],
            "text/plain": [
              "<IPython.core.display.HTML object>"
            ]
          },
          "metadata": {
            "tags": []
          }
        },
        {
          "output_type": "display_data",
          "data": {
            "text/html": [
              "<span style=\"color:cyan\"> |-values: [0.01, 0.001, 0.0001]</span>"
            ],
            "text/plain": [
              "<IPython.core.display.HTML object>"
            ]
          },
          "metadata": {
            "tags": []
          }
        },
        {
          "output_type": "display_data",
          "data": {
            "text/html": [
              "<span style=\"color:#7E57C2\"><h2 style=\"font-size:16px\">momentum (Choice)</h2></span>"
            ],
            "text/plain": [
              "<IPython.core.display.HTML object>"
            ]
          },
          "metadata": {
            "tags": []
          }
        },
        {
          "output_type": "display_data",
          "data": {
            "text/html": [
              "<span style=\"color:cyan\"> |-default: 0.0</span>"
            ],
            "text/plain": [
              "<IPython.core.display.HTML object>"
            ]
          },
          "metadata": {
            "tags": []
          }
        },
        {
          "output_type": "display_data",
          "data": {
            "text/html": [
              "<span style=\"color:blue\"> |-ordered: True</span>"
            ],
            "text/plain": [
              "<IPython.core.display.HTML object>"
            ]
          },
          "metadata": {
            "tags": []
          }
        },
        {
          "output_type": "display_data",
          "data": {
            "text/html": [
              "<span style=\"color:cyan\"> |-values: [0.0, 0.1, 0.2, 0.3, 0.4, 0.5, 0.6, 0.7, 0.8, 0.9]</span>"
            ],
            "text/plain": [
              "<IPython.core.display.HTML object>"
            ]
          },
          "metadata": {
            "tags": []
          }
        },
        {
          "output_type": "stream",
          "text": [
            "INFO:tensorflow:Oracle triggered exit\n",
            "INFO:tensorflow:Reloading Oracle from /content/my_dir/helloworld/oracle.json\n",
            "INFO:tensorflow:Reloading Tuner from /content/my_dir/helloworld/tuner0.json\n"
          ],
          "name": "stdout"
        },
        {
          "output_type": "display_data",
          "data": {
            "text/html": [
              "<span style=\"color:#4527A0\"><h1 style=\"font-size:18px\">Search space summary</h1></span>"
            ],
            "text/plain": [
              "<IPython.core.display.HTML object>"
            ]
          },
          "metadata": {
            "tags": []
          }
        },
        {
          "output_type": "display_data",
          "data": {
            "text/html": [
              "<span style=\"color:cyan\"> |-Default search space size: 2</span>"
            ],
            "text/plain": [
              "<IPython.core.display.HTML object>"
            ]
          },
          "metadata": {
            "tags": []
          }
        },
        {
          "output_type": "display_data",
          "data": {
            "text/html": [
              "<span style=\"color:#7E57C2\"><h2 style=\"font-size:16px\">learning_rate (Choice)</h2></span>"
            ],
            "text/plain": [
              "<IPython.core.display.HTML object>"
            ]
          },
          "metadata": {
            "tags": []
          }
        },
        {
          "output_type": "display_data",
          "data": {
            "text/html": [
              "<span style=\"color:cyan\"> |-default: 0.01</span>"
            ],
            "text/plain": [
              "<IPython.core.display.HTML object>"
            ]
          },
          "metadata": {
            "tags": []
          }
        },
        {
          "output_type": "display_data",
          "data": {
            "text/html": [
              "<span style=\"color:blue\"> |-ordered: True</span>"
            ],
            "text/plain": [
              "<IPython.core.display.HTML object>"
            ]
          },
          "metadata": {
            "tags": []
          }
        },
        {
          "output_type": "display_data",
          "data": {
            "text/html": [
              "<span style=\"color:cyan\"> |-values: [0.01, 0.001, 0.0001]</span>"
            ],
            "text/plain": [
              "<IPython.core.display.HTML object>"
            ]
          },
          "metadata": {
            "tags": []
          }
        },
        {
          "output_type": "display_data",
          "data": {
            "text/html": [
              "<span style=\"color:#7E57C2\"><h2 style=\"font-size:16px\">momentum (Choice)</h2></span>"
            ],
            "text/plain": [
              "<IPython.core.display.HTML object>"
            ]
          },
          "metadata": {
            "tags": []
          }
        },
        {
          "output_type": "display_data",
          "data": {
            "text/html": [
              "<span style=\"color:cyan\"> |-default: 0.0</span>"
            ],
            "text/plain": [
              "<IPython.core.display.HTML object>"
            ]
          },
          "metadata": {
            "tags": []
          }
        },
        {
          "output_type": "display_data",
          "data": {
            "text/html": [
              "<span style=\"color:blue\"> |-ordered: True</span>"
            ],
            "text/plain": [
              "<IPython.core.display.HTML object>"
            ]
          },
          "metadata": {
            "tags": []
          }
        },
        {
          "output_type": "display_data",
          "data": {
            "text/html": [
              "<span style=\"color:cyan\"> |-values: [0.0, 0.1, 0.2, 0.3, 0.4, 0.5, 0.6, 0.7, 0.8, 0.9]</span>"
            ],
            "text/plain": [
              "<IPython.core.display.HTML object>"
            ]
          },
          "metadata": {
            "tags": []
          }
        },
        {
          "output_type": "stream",
          "text": [
            "INFO:tensorflow:Oracle triggered exit\n"
          ],
          "name": "stdout"
        }
      ]
    },
    {
      "cell_type": "code",
      "metadata": {
        "id": "23JI0eA1OFOX",
        "colab_type": "code",
        "outputId": "f9d98785-aaf8-4c7f-9333-7260aba443e3",
        "colab": {
          "base_uri": "https://localhost:8080/",
          "height": 251
        }
      },
      "source": [
        "tuner.search_space_summary()\n"
      ],
      "execution_count": 39,
      "outputs": [
        {
          "output_type": "display_data",
          "data": {
            "text/html": [
              "<span style=\"color:#4527A0\"><h1 style=\"font-size:18px\">Search space summary</h1></span>"
            ],
            "text/plain": [
              "<IPython.core.display.HTML object>"
            ]
          },
          "metadata": {
            "tags": []
          }
        },
        {
          "output_type": "display_data",
          "data": {
            "text/html": [
              "<span style=\"color:cyan\"> |-Default search space size: 2</span>"
            ],
            "text/plain": [
              "<IPython.core.display.HTML object>"
            ]
          },
          "metadata": {
            "tags": []
          }
        },
        {
          "output_type": "display_data",
          "data": {
            "text/html": [
              "<span style=\"color:#7E57C2\"><h2 style=\"font-size:16px\">learning_rate (Choice)</h2></span>"
            ],
            "text/plain": [
              "<IPython.core.display.HTML object>"
            ]
          },
          "metadata": {
            "tags": []
          }
        },
        {
          "output_type": "display_data",
          "data": {
            "text/html": [
              "<span style=\"color:cyan\"> |-default: 0.01</span>"
            ],
            "text/plain": [
              "<IPython.core.display.HTML object>"
            ]
          },
          "metadata": {
            "tags": []
          }
        },
        {
          "output_type": "display_data",
          "data": {
            "text/html": [
              "<span style=\"color:blue\"> |-ordered: True</span>"
            ],
            "text/plain": [
              "<IPython.core.display.HTML object>"
            ]
          },
          "metadata": {
            "tags": []
          }
        },
        {
          "output_type": "display_data",
          "data": {
            "text/html": [
              "<span style=\"color:cyan\"> |-values: [0.01, 0.001, 0.0001]</span>"
            ],
            "text/plain": [
              "<IPython.core.display.HTML object>"
            ]
          },
          "metadata": {
            "tags": []
          }
        },
        {
          "output_type": "display_data",
          "data": {
            "text/html": [
              "<span style=\"color:#7E57C2\"><h2 style=\"font-size:16px\">momentum (Choice)</h2></span>"
            ],
            "text/plain": [
              "<IPython.core.display.HTML object>"
            ]
          },
          "metadata": {
            "tags": []
          }
        },
        {
          "output_type": "display_data",
          "data": {
            "text/html": [
              "<span style=\"color:cyan\"> |-default: 0.0</span>"
            ],
            "text/plain": [
              "<IPython.core.display.HTML object>"
            ]
          },
          "metadata": {
            "tags": []
          }
        },
        {
          "output_type": "display_data",
          "data": {
            "text/html": [
              "<span style=\"color:blue\"> |-ordered: True</span>"
            ],
            "text/plain": [
              "<IPython.core.display.HTML object>"
            ]
          },
          "metadata": {
            "tags": []
          }
        },
        {
          "output_type": "display_data",
          "data": {
            "text/html": [
              "<span style=\"color:cyan\"> |-values: [0.0, 0.1, 0.2, 0.3, 0.4, 0.5, 0.6, 0.7, 0.8, 0.9]</span>"
            ],
            "text/plain": [
              "<IPython.core.display.HTML object>"
            ]
          },
          "metadata": {
            "tags": []
          }
        }
      ]
    },
    {
      "cell_type": "code",
      "metadata": {
        "id": "G2ZP8M6DreMN",
        "colab_type": "code",
        "colab": {
          "base_uri": "https://localhost:8080/",
          "height": 264
        },
        "outputId": "dbd36ebf-7ed7-4bba-b610-90458814deee"
      },
      "source": [
        "tuner.results_summary()"
      ],
      "execution_count": 40,
      "outputs": [
        {
          "output_type": "display_data",
          "data": {
            "text/html": [
              "<span style=\"color:#4527A0\"><h1 style=\"font-size:18px\">Results summary</h1></span>"
            ],
            "text/plain": [
              "<IPython.core.display.HTML object>"
            ]
          },
          "metadata": {
            "tags": []
          }
        },
        {
          "output_type": "display_data",
          "data": {
            "text/html": [
              "<span style=\"color:cyan\"> |-Results in /content/my_dir/helloworld</span>"
            ],
            "text/plain": [
              "<IPython.core.display.HTML object>"
            ]
          },
          "metadata": {
            "tags": []
          }
        },
        {
          "output_type": "display_data",
          "data": {
            "text/html": [
              "<span style=\"color:cyan\"> |-Showing 10 best trials</span>"
            ],
            "text/plain": [
              "<IPython.core.display.HTML object>"
            ]
          },
          "metadata": {
            "tags": []
          }
        },
        {
          "output_type": "display_data",
          "data": {
            "text/html": [
              "<span style=\"color:cyan\"> |-Objective: Objective(name='val_accuracy', direction='max') Score: 0.5777778029441833</span>"
            ],
            "text/plain": [
              "<IPython.core.display.HTML object>"
            ]
          },
          "metadata": {
            "tags": []
          }
        },
        {
          "output_type": "display_data",
          "data": {
            "text/html": [
              "<span style=\"color:cyan\"> |-Objective: Objective(name='val_accuracy', direction='max') Score: 0.5777778029441833</span>"
            ],
            "text/plain": [
              "<IPython.core.display.HTML object>"
            ]
          },
          "metadata": {
            "tags": []
          }
        },
        {
          "output_type": "display_data",
          "data": {
            "text/html": [
              "<span style=\"color:cyan\"> |-Objective: Objective(name='val_accuracy', direction='max') Score: 0.5555555820465088</span>"
            ],
            "text/plain": [
              "<IPython.core.display.HTML object>"
            ]
          },
          "metadata": {
            "tags": []
          }
        },
        {
          "output_type": "display_data",
          "data": {
            "text/html": [
              "<span style=\"color:cyan\"> |-Objective: Objective(name='val_accuracy', direction='max') Score: 0.5333333611488342</span>"
            ],
            "text/plain": [
              "<IPython.core.display.HTML object>"
            ]
          },
          "metadata": {
            "tags": []
          }
        },
        {
          "output_type": "display_data",
          "data": {
            "text/html": [
              "<span style=\"color:cyan\"> |-Objective: Objective(name='val_accuracy', direction='max') Score: 0.5111111402511597</span>"
            ],
            "text/plain": [
              "<IPython.core.display.HTML object>"
            ]
          },
          "metadata": {
            "tags": []
          }
        },
        {
          "output_type": "display_data",
          "data": {
            "text/html": [
              "<span style=\"color:cyan\"> |-Objective: Objective(name='val_accuracy', direction='max') Score: 0.4444444477558136</span>"
            ],
            "text/plain": [
              "<IPython.core.display.HTML object>"
            ]
          },
          "metadata": {
            "tags": []
          }
        },
        {
          "output_type": "display_data",
          "data": {
            "text/html": [
              "<span style=\"color:cyan\"> |-Objective: Objective(name='val_accuracy', direction='max') Score: 0.4444444477558136</span>"
            ],
            "text/plain": [
              "<IPython.core.display.HTML object>"
            ]
          },
          "metadata": {
            "tags": []
          }
        },
        {
          "output_type": "display_data",
          "data": {
            "text/html": [
              "<span style=\"color:cyan\"> |-Objective: Objective(name='val_accuracy', direction='max') Score: 0.3777777850627899</span>"
            ],
            "text/plain": [
              "<IPython.core.display.HTML object>"
            ]
          },
          "metadata": {
            "tags": []
          }
        },
        {
          "output_type": "display_data",
          "data": {
            "text/html": [
              "<span style=\"color:cyan\"> |-Objective: Objective(name='val_accuracy', direction='max') Score: 0.35555556416511536</span>"
            ],
            "text/plain": [
              "<IPython.core.display.HTML object>"
            ]
          },
          "metadata": {
            "tags": []
          }
        },
        {
          "output_type": "display_data",
          "data": {
            "text/html": [
              "<span style=\"color:cyan\"> |-Objective: Objective(name='val_accuracy', direction='max') Score: 0.2222222238779068</span>"
            ],
            "text/plain": [
              "<IPython.core.display.HTML object>"
            ]
          },
          "metadata": {
            "tags": []
          }
        }
      ]
    },
    {
      "cell_type": "code",
      "metadata": {
        "id": "OKoSdUynrlpu",
        "colab_type": "code",
        "colab": {
          "base_uri": "https://localhost:8080/",
          "height": 34
        },
        "outputId": "41122290-083c-4af4-c805-198a6635a776"
      },
      "source": [
        "tuner.oracle.get_best_trials(num_trials=1)[0].hyperparameters.values"
      ],
      "execution_count": 41,
      "outputs": [
        {
          "output_type": "execute_result",
          "data": {
            "text/plain": [
              "{'learning_rate': 0.01, 'momentum': 0.6}"
            ]
          },
          "metadata": {
            "tags": []
          },
          "execution_count": 41
        }
      ]
    },
    {
      "cell_type": "code",
      "metadata": {
        "id": "4SZaHuo_rpgG",
        "colab_type": "code",
        "colab": {}
      },
      "source": [
        "best_model = tuner.get_best_models()[0]"
      ],
      "execution_count": 0,
      "outputs": []
    },
    {
      "cell_type": "markdown",
      "metadata": {
        "id": "VHQqYcPDsGI4",
        "colab_type": "text"
      },
      "source": [
        "##Train the best model RandomSearch"
      ]
    },
    {
      "cell_type": "code",
      "metadata": {
        "colab_type": "code",
        "outputId": "00b20d76-a9de-4563-a80d-82965d5607ed",
        "id": "sH1B0fhOsNSD",
        "colab": {
          "base_uri": "https://localhost:8080/",
          "height": 1000
        }
      },
      "source": [
        "#num_epochs = 50\n",
        "all_acc_histories_RS = []\n",
        "all_loss_histories_RS = []\n",
        "all_val_acc_histories_RS = []\n",
        "all_val_loss_histories_RS = []\n",
        "\n",
        "for train_index, val_index in skf.split(train_data_stand_pca, train_labels_dec):\n",
        " \n",
        "  partial_train_data = np.array([train_data_stand_pca[i] for i in train_index])\n",
        "  partial_train_targets = np.array([train_labels_dec[i] for i in train_index])\n",
        "  \n",
        "  val_data = np.array([train_data_stand_pca[i] for i in val_index])\n",
        "  val_targets = np.array([train_labels_dec[i] for i in val_index])\n",
        "\n",
        "  one_hot_partial_train_targets = to_categorical(partial_train_targets)\n",
        "  one_hot_val_targets = to_categorical(val_targets)\n",
        "\n",
        " \n",
        "  history_RS = best_model.fit(partial_train_data, one_hot_partial_train_targets, validation_data=(val_data, one_hot_val_targets), \n",
        "                      epochs=num_epochs, batch_size=8)\n",
        "  \n",
        "  acc_history_RS = history_RS.history['accuracy']\n",
        "  all_acc_histories_RS.append(acc_history_RS)\n",
        "\n",
        "  loss_history_RS = history_RS.history['loss']\n",
        "  all_loss_histories_RS.append(loss_history_RS)\n",
        "\n",
        "  acc_val_history_RS = history_RS.history['val_accuracy']\n",
        "  all_val_acc_histories_RS.append(acc_val_history_RS)\n",
        "\n",
        "  loss_val_history_RS = history_RS.history['val_loss']\n",
        "  all_val_loss_histories_RS.append(loss_val_history_RS)\n",
        "  \n",
        "\n",
        "#I parametri per la valutazione vengono calcolati per ogni epoca, quindi num_epochs volte. \n",
        "#Il tutto viene ripetuto un numero di volte pari a n_splits.\n",
        "#Si ottiene una lista con n_splits elementi ciascuno dei quali è una lista lunga num_epochs,\n",
        "#ogni elemento può essere uno fra questi: dict_keys(['val_loss', 'val_acc', 'loss', 'acc']) "
      ],
      "execution_count": 44,
      "outputs": [
        {
          "output_type": "stream",
          "text": [
            "Train on 116 samples, validate on 15 samples\n",
            "Epoch 1/50\n",
            "116/116 [==============================] - 0s 3ms/sample - loss: 0.8978 - accuracy: 0.5862 - val_loss: 1.0708 - val_accuracy: 0.6000\n",
            "Epoch 2/50\n",
            "116/116 [==============================] - 0s 313us/sample - loss: 0.9028 - accuracy: 0.6121 - val_loss: 1.1250 - val_accuracy: 0.5333\n",
            "Epoch 3/50\n",
            "116/116 [==============================] - 0s 290us/sample - loss: 0.8955 - accuracy: 0.6034 - val_loss: 1.0634 - val_accuracy: 0.6000\n",
            "Epoch 4/50\n",
            "116/116 [==============================] - 0s 323us/sample - loss: 0.9088 - accuracy: 0.5948 - val_loss: 1.0643 - val_accuracy: 0.6000\n",
            "Epoch 5/50\n",
            "116/116 [==============================] - 0s 320us/sample - loss: 0.8996 - accuracy: 0.5948 - val_loss: 1.0793 - val_accuracy: 0.5333\n",
            "Epoch 6/50\n",
            "116/116 [==============================] - 0s 339us/sample - loss: 0.8949 - accuracy: 0.5948 - val_loss: 1.0412 - val_accuracy: 0.6000\n",
            "Epoch 7/50\n",
            "116/116 [==============================] - 0s 351us/sample - loss: 0.8962 - accuracy: 0.5862 - val_loss: 1.0141 - val_accuracy: 0.6000\n",
            "Epoch 8/50\n",
            "116/116 [==============================] - 0s 364us/sample - loss: 0.8894 - accuracy: 0.5862 - val_loss: 1.0133 - val_accuracy: 0.6000\n",
            "Epoch 9/50\n",
            "116/116 [==============================] - 0s 390us/sample - loss: 0.8936 - accuracy: 0.5603 - val_loss: 1.0160 - val_accuracy: 0.6000\n",
            "Epoch 10/50\n",
            "116/116 [==============================] - 0s 355us/sample - loss: 0.8954 - accuracy: 0.5948 - val_loss: 1.0345 - val_accuracy: 0.6000\n",
            "Epoch 11/50\n",
            "116/116 [==============================] - 0s 335us/sample - loss: 0.8888 - accuracy: 0.5776 - val_loss: 1.0526 - val_accuracy: 0.6000\n",
            "Epoch 12/50\n",
            "116/116 [==============================] - 0s 342us/sample - loss: 0.8858 - accuracy: 0.6034 - val_loss: 1.0614 - val_accuracy: 0.6000\n",
            "Epoch 13/50\n",
            "116/116 [==============================] - 0s 341us/sample - loss: 0.8902 - accuracy: 0.5862 - val_loss: 1.0512 - val_accuracy: 0.6000\n",
            "Epoch 14/50\n",
            "116/116 [==============================] - 0s 335us/sample - loss: 0.8833 - accuracy: 0.5603 - val_loss: 1.0404 - val_accuracy: 0.6000\n",
            "Epoch 15/50\n",
            "116/116 [==============================] - 0s 336us/sample - loss: 0.8759 - accuracy: 0.6034 - val_loss: 1.0257 - val_accuracy: 0.6000\n",
            "Epoch 16/50\n",
            "116/116 [==============================] - 0s 354us/sample - loss: 0.8714 - accuracy: 0.5690 - val_loss: 1.0304 - val_accuracy: 0.6000\n",
            "Epoch 17/50\n",
            "116/116 [==============================] - 0s 329us/sample - loss: 0.8793 - accuracy: 0.6034 - val_loss: 1.0087 - val_accuracy: 0.6000\n",
            "Epoch 18/50\n",
            "116/116 [==============================] - 0s 290us/sample - loss: 0.8678 - accuracy: 0.6034 - val_loss: 1.0170 - val_accuracy: 0.6000\n",
            "Epoch 19/50\n",
            "116/116 [==============================] - 0s 306us/sample - loss: 0.8672 - accuracy: 0.5862 - val_loss: 1.0119 - val_accuracy: 0.6000\n",
            "Epoch 20/50\n",
            "116/116 [==============================] - 0s 307us/sample - loss: 0.8523 - accuracy: 0.5948 - val_loss: 1.0104 - val_accuracy: 0.5333\n",
            "Epoch 21/50\n",
            "116/116 [==============================] - 0s 328us/sample - loss: 0.8577 - accuracy: 0.5862 - val_loss: 1.0183 - val_accuracy: 0.6000\n",
            "Epoch 22/50\n",
            "116/116 [==============================] - 0s 313us/sample - loss: 0.8540 - accuracy: 0.6034 - val_loss: 1.0527 - val_accuracy: 0.6000\n",
            "Epoch 23/50\n",
            "116/116 [==============================] - 0s 325us/sample - loss: 0.8502 - accuracy: 0.6121 - val_loss: 0.9972 - val_accuracy: 0.5333\n",
            "Epoch 24/50\n",
            "116/116 [==============================] - 0s 401us/sample - loss: 0.8537 - accuracy: 0.5862 - val_loss: 1.0110 - val_accuracy: 0.5333\n",
            "Epoch 25/50\n",
            "116/116 [==============================] - 0s 349us/sample - loss: 0.8424 - accuracy: 0.6207 - val_loss: 1.0230 - val_accuracy: 0.5333\n",
            "Epoch 26/50\n",
            "116/116 [==============================] - 0s 340us/sample - loss: 0.8423 - accuracy: 0.6034 - val_loss: 0.9940 - val_accuracy: 0.5333\n",
            "Epoch 27/50\n",
            "116/116 [==============================] - 0s 352us/sample - loss: 0.8436 - accuracy: 0.6207 - val_loss: 1.0059 - val_accuracy: 0.5333\n",
            "Epoch 28/50\n",
            "116/116 [==============================] - 0s 319us/sample - loss: 0.8391 - accuracy: 0.6034 - val_loss: 0.9942 - val_accuracy: 0.5333\n",
            "Epoch 29/50\n",
            "116/116 [==============================] - 0s 331us/sample - loss: 0.8461 - accuracy: 0.6121 - val_loss: 0.9975 - val_accuracy: 0.4667\n",
            "Epoch 30/50\n",
            "116/116 [==============================] - 0s 325us/sample - loss: 0.8346 - accuracy: 0.6293 - val_loss: 1.0127 - val_accuracy: 0.4667\n",
            "Epoch 31/50\n",
            "116/116 [==============================] - 0s 338us/sample - loss: 0.8316 - accuracy: 0.6293 - val_loss: 0.9856 - val_accuracy: 0.4667\n",
            "Epoch 32/50\n",
            "116/116 [==============================] - 0s 333us/sample - loss: 0.8294 - accuracy: 0.6207 - val_loss: 0.9754 - val_accuracy: 0.4667\n",
            "Epoch 33/50\n",
            "116/116 [==============================] - 0s 354us/sample - loss: 0.8286 - accuracy: 0.6207 - val_loss: 0.9638 - val_accuracy: 0.4667\n",
            "Epoch 34/50\n",
            "116/116 [==============================] - 0s 338us/sample - loss: 0.8266 - accuracy: 0.6379 - val_loss: 0.9571 - val_accuracy: 0.4667\n",
            "Epoch 35/50\n",
            "116/116 [==============================] - 0s 324us/sample - loss: 0.8230 - accuracy: 0.6207 - val_loss: 1.0373 - val_accuracy: 0.4000\n",
            "Epoch 36/50\n",
            "116/116 [==============================] - 0s 332us/sample - loss: 0.8185 - accuracy: 0.6293 - val_loss: 1.0474 - val_accuracy: 0.4000\n",
            "Epoch 37/50\n",
            "116/116 [==============================] - 0s 324us/sample - loss: 0.8141 - accuracy: 0.6293 - val_loss: 1.0374 - val_accuracy: 0.4000\n",
            "Epoch 38/50\n",
            "116/116 [==============================] - 0s 319us/sample - loss: 0.8190 - accuracy: 0.6034 - val_loss: 1.0506 - val_accuracy: 0.4000\n",
            "Epoch 39/50\n",
            "116/116 [==============================] - 0s 297us/sample - loss: 0.8090 - accuracy: 0.6207 - val_loss: 1.0377 - val_accuracy: 0.4000\n",
            "Epoch 40/50\n",
            "116/116 [==============================] - 0s 349us/sample - loss: 0.8099 - accuracy: 0.6379 - val_loss: 1.0485 - val_accuracy: 0.4000\n",
            "Epoch 41/50\n",
            "116/116 [==============================] - 0s 318us/sample - loss: 0.8044 - accuracy: 0.6293 - val_loss: 1.0639 - val_accuracy: 0.4000\n",
            "Epoch 42/50\n",
            "116/116 [==============================] - 0s 315us/sample - loss: 0.8080 - accuracy: 0.6293 - val_loss: 1.0310 - val_accuracy: 0.4000\n",
            "Epoch 43/50\n",
            "116/116 [==============================] - 0s 315us/sample - loss: 0.7988 - accuracy: 0.6466 - val_loss: 1.0140 - val_accuracy: 0.4000\n",
            "Epoch 44/50\n",
            "116/116 [==============================] - 0s 333us/sample - loss: 0.8056 - accuracy: 0.6466 - val_loss: 1.0346 - val_accuracy: 0.4000\n",
            "Epoch 45/50\n",
            "116/116 [==============================] - 0s 340us/sample - loss: 0.7954 - accuracy: 0.6293 - val_loss: 1.0609 - val_accuracy: 0.4000\n",
            "Epoch 46/50\n",
            "116/116 [==============================] - 0s 354us/sample - loss: 0.7931 - accuracy: 0.6552 - val_loss: 1.0354 - val_accuracy: 0.4000\n",
            "Epoch 47/50\n",
            "116/116 [==============================] - 0s 310us/sample - loss: 0.7952 - accuracy: 0.6293 - val_loss: 1.0717 - val_accuracy: 0.4667\n",
            "Epoch 48/50\n",
            "116/116 [==============================] - 0s 330us/sample - loss: 0.7946 - accuracy: 0.6466 - val_loss: 1.0401 - val_accuracy: 0.4667\n",
            "Epoch 49/50\n",
            "116/116 [==============================] - 0s 335us/sample - loss: 0.7953 - accuracy: 0.6379 - val_loss: 1.0286 - val_accuracy: 0.4667\n",
            "Epoch 50/50\n",
            "116/116 [==============================] - 0s 319us/sample - loss: 0.8001 - accuracy: 0.6810 - val_loss: 1.0679 - val_accuracy: 0.4667\n",
            "Train on 117 samples, validate on 14 samples\n",
            "Epoch 1/50\n",
            "117/117 [==============================] - 0s 374us/sample - loss: 0.8276 - accuracy: 0.5983 - val_loss: 0.7442 - val_accuracy: 0.5714\n",
            "Epoch 2/50\n",
            "117/117 [==============================] - 0s 325us/sample - loss: 0.8175 - accuracy: 0.6239 - val_loss: 0.7463 - val_accuracy: 0.6429\n",
            "Epoch 3/50\n",
            "117/117 [==============================] - 0s 326us/sample - loss: 0.8108 - accuracy: 0.6325 - val_loss: 0.7597 - val_accuracy: 0.5714\n",
            "Epoch 4/50\n",
            "117/117 [==============================] - 0s 334us/sample - loss: 0.8133 - accuracy: 0.6410 - val_loss: 0.7598 - val_accuracy: 0.6429\n",
            "Epoch 5/50\n",
            "117/117 [==============================] - 0s 302us/sample - loss: 0.7964 - accuracy: 0.6154 - val_loss: 0.7763 - val_accuracy: 0.5714\n",
            "Epoch 6/50\n",
            "117/117 [==============================] - 0s 293us/sample - loss: 0.7999 - accuracy: 0.6239 - val_loss: 0.7740 - val_accuracy: 0.5000\n",
            "Epoch 7/50\n",
            "117/117 [==============================] - 0s 496us/sample - loss: 0.7967 - accuracy: 0.6325 - val_loss: 0.7937 - val_accuracy: 0.5714\n",
            "Epoch 8/50\n",
            "117/117 [==============================] - 0s 351us/sample - loss: 0.7948 - accuracy: 0.6239 - val_loss: 0.7887 - val_accuracy: 0.6429\n",
            "Epoch 9/50\n",
            "117/117 [==============================] - 0s 369us/sample - loss: 0.7975 - accuracy: 0.6581 - val_loss: 0.7918 - val_accuracy: 0.6429\n",
            "Epoch 10/50\n",
            "117/117 [==============================] - 0s 353us/sample - loss: 0.7864 - accuracy: 0.6581 - val_loss: 0.7854 - val_accuracy: 0.6429\n",
            "Epoch 11/50\n",
            "117/117 [==============================] - 0s 342us/sample - loss: 0.7845 - accuracy: 0.6496 - val_loss: 0.7832 - val_accuracy: 0.6429\n",
            "Epoch 12/50\n",
            "117/117 [==============================] - 0s 324us/sample - loss: 0.7841 - accuracy: 0.6410 - val_loss: 0.8183 - val_accuracy: 0.5714\n",
            "Epoch 13/50\n",
            "117/117 [==============================] - 0s 328us/sample - loss: 0.7831 - accuracy: 0.6581 - val_loss: 0.8004 - val_accuracy: 0.5714\n",
            "Epoch 14/50\n",
            "117/117 [==============================] - 0s 317us/sample - loss: 0.7777 - accuracy: 0.6667 - val_loss: 0.8101 - val_accuracy: 0.5714\n",
            "Epoch 15/50\n",
            "117/117 [==============================] - 0s 351us/sample - loss: 0.7863 - accuracy: 0.6325 - val_loss: 0.7891 - val_accuracy: 0.7143\n",
            "Epoch 16/50\n",
            "117/117 [==============================] - 0s 338us/sample - loss: 0.7853 - accuracy: 0.6410 - val_loss: 0.8038 - val_accuracy: 0.5714\n",
            "Epoch 17/50\n",
            "117/117 [==============================] - 0s 371us/sample - loss: 0.7707 - accuracy: 0.6581 - val_loss: 0.7848 - val_accuracy: 0.6429\n",
            "Epoch 18/50\n",
            "117/117 [==============================] - 0s 353us/sample - loss: 0.7767 - accuracy: 0.6410 - val_loss: 0.8090 - val_accuracy: 0.5714\n",
            "Epoch 19/50\n",
            "117/117 [==============================] - 0s 317us/sample - loss: 0.7688 - accuracy: 0.6581 - val_loss: 0.7997 - val_accuracy: 0.6429\n",
            "Epoch 20/50\n",
            "117/117 [==============================] - 0s 320us/sample - loss: 0.7715 - accuracy: 0.6496 - val_loss: 0.8011 - val_accuracy: 0.6429\n",
            "Epoch 21/50\n",
            "117/117 [==============================] - 0s 318us/sample - loss: 0.7664 - accuracy: 0.6410 - val_loss: 0.7883 - val_accuracy: 0.6429\n",
            "Epoch 22/50\n",
            "117/117 [==============================] - 0s 281us/sample - loss: 0.7576 - accuracy: 0.6496 - val_loss: 0.8017 - val_accuracy: 0.5714\n",
            "Epoch 23/50\n",
            "117/117 [==============================] - 0s 342us/sample - loss: 0.7600 - accuracy: 0.6496 - val_loss: 0.7892 - val_accuracy: 0.6429\n",
            "Epoch 24/50\n",
            "117/117 [==============================] - 0s 318us/sample - loss: 0.7632 - accuracy: 0.6581 - val_loss: 0.7932 - val_accuracy: 0.6429\n",
            "Epoch 25/50\n",
            "117/117 [==============================] - 0s 328us/sample - loss: 0.7651 - accuracy: 0.6410 - val_loss: 0.7834 - val_accuracy: 0.6429\n",
            "Epoch 26/50\n",
            "117/117 [==============================] - 0s 337us/sample - loss: 0.7527 - accuracy: 0.6496 - val_loss: 0.8113 - val_accuracy: 0.5714\n",
            "Epoch 27/50\n",
            "117/117 [==============================] - 0s 341us/sample - loss: 0.7529 - accuracy: 0.6581 - val_loss: 0.8040 - val_accuracy: 0.6429\n",
            "Epoch 28/50\n",
            "117/117 [==============================] - 0s 323us/sample - loss: 0.7517 - accuracy: 0.6838 - val_loss: 0.8002 - val_accuracy: 0.5714\n",
            "Epoch 29/50\n",
            "117/117 [==============================] - 0s 347us/sample - loss: 0.7459 - accuracy: 0.6667 - val_loss: 0.8193 - val_accuracy: 0.5714\n",
            "Epoch 30/50\n",
            "117/117 [==============================] - 0s 308us/sample - loss: 0.7490 - accuracy: 0.6667 - val_loss: 0.7956 - val_accuracy: 0.6429\n",
            "Epoch 31/50\n",
            "117/117 [==============================] - 0s 352us/sample - loss: 0.7569 - accuracy: 0.6667 - val_loss: 0.8116 - val_accuracy: 0.5714\n",
            "Epoch 32/50\n",
            "117/117 [==============================] - 0s 327us/sample - loss: 0.7585 - accuracy: 0.6752 - val_loss: 0.8183 - val_accuracy: 0.5714\n",
            "Epoch 33/50\n",
            "117/117 [==============================] - 0s 325us/sample - loss: 0.7478 - accuracy: 0.6752 - val_loss: 0.8181 - val_accuracy: 0.6429\n",
            "Epoch 34/50\n",
            "117/117 [==============================] - 0s 313us/sample - loss: 0.7447 - accuracy: 0.7094 - val_loss: 0.8054 - val_accuracy: 0.6429\n",
            "Epoch 35/50\n",
            "117/117 [==============================] - 0s 340us/sample - loss: 0.7350 - accuracy: 0.6752 - val_loss: 0.8166 - val_accuracy: 0.6429\n",
            "Epoch 36/50\n",
            "117/117 [==============================] - 0s 326us/sample - loss: 0.7412 - accuracy: 0.6581 - val_loss: 0.8458 - val_accuracy: 0.5714\n",
            "Epoch 37/50\n",
            "117/117 [==============================] - 0s 323us/sample - loss: 0.7454 - accuracy: 0.6838 - val_loss: 0.8050 - val_accuracy: 0.6429\n",
            "Epoch 38/50\n",
            "117/117 [==============================] - 0s 318us/sample - loss: 0.7359 - accuracy: 0.6667 - val_loss: 0.8136 - val_accuracy: 0.6429\n",
            "Epoch 39/50\n",
            "117/117 [==============================] - 0s 321us/sample - loss: 0.7391 - accuracy: 0.6923 - val_loss: 0.8265 - val_accuracy: 0.6429\n",
            "Epoch 40/50\n",
            "117/117 [==============================] - 0s 331us/sample - loss: 0.7350 - accuracy: 0.6923 - val_loss: 0.8309 - val_accuracy: 0.5714\n",
            "Epoch 41/50\n",
            "117/117 [==============================] - 0s 368us/sample - loss: 0.7382 - accuracy: 0.7179 - val_loss: 0.8452 - val_accuracy: 0.5714\n",
            "Epoch 42/50\n",
            "117/117 [==============================] - 0s 386us/sample - loss: 0.7416 - accuracy: 0.6667 - val_loss: 0.8156 - val_accuracy: 0.6429\n",
            "Epoch 43/50\n",
            "117/117 [==============================] - 0s 315us/sample - loss: 0.7361 - accuracy: 0.6752 - val_loss: 0.8342 - val_accuracy: 0.5714\n",
            "Epoch 44/50\n",
            "117/117 [==============================] - 0s 317us/sample - loss: 0.7440 - accuracy: 0.6667 - val_loss: 0.8340 - val_accuracy: 0.5714\n",
            "Epoch 45/50\n",
            "117/117 [==============================] - 0s 322us/sample - loss: 0.7404 - accuracy: 0.6667 - val_loss: 0.8307 - val_accuracy: 0.6429\n",
            "Epoch 46/50\n",
            "117/117 [==============================] - 0s 319us/sample - loss: 0.7312 - accuracy: 0.7009 - val_loss: 0.8547 - val_accuracy: 0.5714\n",
            "Epoch 47/50\n",
            "117/117 [==============================] - 0s 354us/sample - loss: 0.7338 - accuracy: 0.6667 - val_loss: 0.8216 - val_accuracy: 0.6429\n",
            "Epoch 48/50\n",
            "117/117 [==============================] - 0s 335us/sample - loss: 0.7283 - accuracy: 0.6752 - val_loss: 0.8543 - val_accuracy: 0.5714\n",
            "Epoch 49/50\n",
            "117/117 [==============================] - 0s 341us/sample - loss: 0.7313 - accuracy: 0.6752 - val_loss: 0.8638 - val_accuracy: 0.5714\n",
            "Epoch 50/50\n",
            "117/117 [==============================] - 0s 326us/sample - loss: 0.7310 - accuracy: 0.6752 - val_loss: 0.8667 - val_accuracy: 0.5714\n",
            "Train on 117 samples, validate on 14 samples\n",
            "Epoch 1/50\n",
            "117/117 [==============================] - 0s 330us/sample - loss: 0.7284 - accuracy: 0.6838 - val_loss: 0.8592 - val_accuracy: 0.5714\n",
            "Epoch 2/50\n",
            "117/117 [==============================] - 0s 367us/sample - loss: 0.7213 - accuracy: 0.6667 - val_loss: 0.8966 - val_accuracy: 0.5714\n",
            "Epoch 3/50\n",
            "117/117 [==============================] - 0s 344us/sample - loss: 0.7179 - accuracy: 0.6923 - val_loss: 0.9236 - val_accuracy: 0.6429\n",
            "Epoch 4/50\n",
            "117/117 [==============================] - 0s 335us/sample - loss: 0.7152 - accuracy: 0.6667 - val_loss: 0.8948 - val_accuracy: 0.6429\n",
            "Epoch 5/50\n",
            "117/117 [==============================] - 0s 376us/sample - loss: 0.7176 - accuracy: 0.6838 - val_loss: 0.9277 - val_accuracy: 0.5714\n",
            "Epoch 6/50\n",
            "117/117 [==============================] - 0s 338us/sample - loss: 0.7147 - accuracy: 0.7009 - val_loss: 0.9286 - val_accuracy: 0.6429\n",
            "Epoch 7/50\n",
            "117/117 [==============================] - 0s 384us/sample - loss: 0.7170 - accuracy: 0.6752 - val_loss: 0.9848 - val_accuracy: 0.5000\n",
            "Epoch 8/50\n",
            "117/117 [==============================] - 0s 340us/sample - loss: 0.7065 - accuracy: 0.6667 - val_loss: 0.9514 - val_accuracy: 0.5714\n",
            "Epoch 9/50\n",
            "117/117 [==============================] - 0s 364us/sample - loss: 0.6891 - accuracy: 0.6923 - val_loss: 0.9974 - val_accuracy: 0.5714\n",
            "Epoch 10/50\n",
            "117/117 [==============================] - 0s 312us/sample - loss: 0.7137 - accuracy: 0.7009 - val_loss: 0.9833 - val_accuracy: 0.5714\n",
            "Epoch 11/50\n",
            "117/117 [==============================] - 0s 352us/sample - loss: 0.6989 - accuracy: 0.6581 - val_loss: 0.9944 - val_accuracy: 0.5714\n",
            "Epoch 12/50\n",
            "117/117 [==============================] - 0s 333us/sample - loss: 0.7071 - accuracy: 0.6838 - val_loss: 1.0677 - val_accuracy: 0.5714\n",
            "Epoch 13/50\n",
            "117/117 [==============================] - 0s 373us/sample - loss: 0.6973 - accuracy: 0.6667 - val_loss: 1.0243 - val_accuracy: 0.5714\n",
            "Epoch 14/50\n",
            "117/117 [==============================] - 0s 339us/sample - loss: 0.6938 - accuracy: 0.7009 - val_loss: 1.0344 - val_accuracy: 0.5000\n",
            "Epoch 15/50\n",
            "117/117 [==============================] - 0s 348us/sample - loss: 0.6846 - accuracy: 0.6752 - val_loss: 1.0151 - val_accuracy: 0.5714\n",
            "Epoch 16/50\n",
            "117/117 [==============================] - 0s 318us/sample - loss: 0.7013 - accuracy: 0.6923 - val_loss: 1.0485 - val_accuracy: 0.5714\n",
            "Epoch 17/50\n",
            "117/117 [==============================] - 0s 317us/sample - loss: 0.6897 - accuracy: 0.6923 - val_loss: 1.0385 - val_accuracy: 0.5000\n",
            "Epoch 18/50\n",
            "117/117 [==============================] - 0s 319us/sample - loss: 0.7015 - accuracy: 0.6838 - val_loss: 1.0621 - val_accuracy: 0.4286\n",
            "Epoch 19/50\n",
            "117/117 [==============================] - 0s 324us/sample - loss: 0.6849 - accuracy: 0.6923 - val_loss: 1.0794 - val_accuracy: 0.5000\n",
            "Epoch 20/50\n",
            "117/117 [==============================] - 0s 335us/sample - loss: 0.6841 - accuracy: 0.6923 - val_loss: 1.0840 - val_accuracy: 0.5000\n",
            "Epoch 21/50\n",
            "117/117 [==============================] - 0s 354us/sample - loss: 0.6799 - accuracy: 0.6923 - val_loss: 1.0895 - val_accuracy: 0.5000\n",
            "Epoch 22/50\n",
            "117/117 [==============================] - 0s 311us/sample - loss: 0.6863 - accuracy: 0.7094 - val_loss: 1.1142 - val_accuracy: 0.5000\n",
            "Epoch 23/50\n",
            "117/117 [==============================] - 0s 300us/sample - loss: 0.6793 - accuracy: 0.7009 - val_loss: 1.1114 - val_accuracy: 0.4286\n",
            "Epoch 24/50\n",
            "117/117 [==============================] - 0s 354us/sample - loss: 0.6871 - accuracy: 0.7009 - val_loss: 1.1325 - val_accuracy: 0.4286\n",
            "Epoch 25/50\n",
            "117/117 [==============================] - 0s 339us/sample - loss: 0.6852 - accuracy: 0.7009 - val_loss: 1.0958 - val_accuracy: 0.5000\n",
            "Epoch 26/50\n",
            "117/117 [==============================] - 0s 347us/sample - loss: 0.6958 - accuracy: 0.7094 - val_loss: 1.1615 - val_accuracy: 0.4286\n",
            "Epoch 27/50\n",
            "117/117 [==============================] - 0s 321us/sample - loss: 0.7038 - accuracy: 0.6752 - val_loss: 1.1454 - val_accuracy: 0.4286\n",
            "Epoch 28/50\n",
            "117/117 [==============================] - 0s 347us/sample - loss: 0.6893 - accuracy: 0.7009 - val_loss: 1.1757 - val_accuracy: 0.4286\n",
            "Epoch 29/50\n",
            "117/117 [==============================] - 0s 325us/sample - loss: 0.6756 - accuracy: 0.7009 - val_loss: 1.1548 - val_accuracy: 0.4286\n",
            "Epoch 30/50\n",
            "117/117 [==============================] - 0s 315us/sample - loss: 0.6678 - accuracy: 0.7265 - val_loss: 1.1698 - val_accuracy: 0.5000\n",
            "Epoch 31/50\n",
            "117/117 [==============================] - 0s 388us/sample - loss: 0.6863 - accuracy: 0.6667 - val_loss: 1.1770 - val_accuracy: 0.5000\n",
            "Epoch 32/50\n",
            "117/117 [==============================] - 0s 316us/sample - loss: 0.6827 - accuracy: 0.6923 - val_loss: 1.2418 - val_accuracy: 0.5000\n",
            "Epoch 33/50\n",
            "117/117 [==============================] - 0s 339us/sample - loss: 0.6688 - accuracy: 0.7009 - val_loss: 1.1521 - val_accuracy: 0.5000\n",
            "Epoch 34/50\n",
            "117/117 [==============================] - 0s 347us/sample - loss: 0.6636 - accuracy: 0.7265 - val_loss: 1.1845 - val_accuracy: 0.4286\n",
            "Epoch 35/50\n",
            "117/117 [==============================] - 0s 352us/sample - loss: 0.6668 - accuracy: 0.7009 - val_loss: 1.1641 - val_accuracy: 0.5000\n",
            "Epoch 36/50\n",
            "117/117 [==============================] - 0s 453us/sample - loss: 0.7114 - accuracy: 0.7094 - val_loss: 1.2125 - val_accuracy: 0.4286\n",
            "Epoch 37/50\n",
            "117/117 [==============================] - 0s 337us/sample - loss: 0.6654 - accuracy: 0.7607 - val_loss: 1.1958 - val_accuracy: 0.4286\n",
            "Epoch 38/50\n",
            "117/117 [==============================] - 0s 329us/sample - loss: 0.6629 - accuracy: 0.7009 - val_loss: 1.2244 - val_accuracy: 0.4286\n",
            "Epoch 39/50\n",
            "117/117 [==============================] - 0s 334us/sample - loss: 0.6709 - accuracy: 0.7265 - val_loss: 1.2114 - val_accuracy: 0.4286\n",
            "Epoch 40/50\n",
            "117/117 [==============================] - 0s 305us/sample - loss: 0.6722 - accuracy: 0.7094 - val_loss: 1.2485 - val_accuracy: 0.5000\n",
            "Epoch 41/50\n",
            "117/117 [==============================] - 0s 305us/sample - loss: 0.6744 - accuracy: 0.7094 - val_loss: 1.2149 - val_accuracy: 0.4286\n",
            "Epoch 42/50\n",
            "117/117 [==============================] - 0s 308us/sample - loss: 0.6664 - accuracy: 0.6838 - val_loss: 1.2240 - val_accuracy: 0.4286\n",
            "Epoch 43/50\n",
            "117/117 [==============================] - 0s 313us/sample - loss: 0.6486 - accuracy: 0.6667 - val_loss: 1.3003 - val_accuracy: 0.4286\n",
            "Epoch 44/50\n",
            "117/117 [==============================] - 0s 319us/sample - loss: 0.6991 - accuracy: 0.6667 - val_loss: 1.2982 - val_accuracy: 0.5000\n",
            "Epoch 45/50\n",
            "117/117 [==============================] - 0s 307us/sample - loss: 0.6593 - accuracy: 0.7179 - val_loss: 1.2298 - val_accuracy: 0.4286\n",
            "Epoch 46/50\n",
            "117/117 [==============================] - 0s 318us/sample - loss: 0.6809 - accuracy: 0.6581 - val_loss: 1.2491 - val_accuracy: 0.4286\n",
            "Epoch 47/50\n",
            "117/117 [==============================] - 0s 342us/sample - loss: 0.6592 - accuracy: 0.6752 - val_loss: 1.3042 - val_accuracy: 0.4286\n",
            "Epoch 48/50\n",
            "117/117 [==============================] - 0s 322us/sample - loss: 0.6590 - accuracy: 0.6923 - val_loss: 1.2929 - val_accuracy: 0.4286\n",
            "Epoch 49/50\n",
            "117/117 [==============================] - 0s 347us/sample - loss: 0.6478 - accuracy: 0.7179 - val_loss: 1.2689 - val_accuracy: 0.4286\n",
            "Epoch 50/50\n",
            "117/117 [==============================] - 0s 363us/sample - loss: 0.6488 - accuracy: 0.7094 - val_loss: 1.3921 - val_accuracy: 0.5000\n",
            "Train on 117 samples, validate on 14 samples\n",
            "Epoch 1/50\n",
            "117/117 [==============================] - 0s 334us/sample - loss: 0.7300 - accuracy: 0.6838 - val_loss: 0.7200 - val_accuracy: 0.6429\n",
            "Epoch 2/50\n",
            "117/117 [==============================] - 0s 457us/sample - loss: 0.7090 - accuracy: 0.6923 - val_loss: 0.7916 - val_accuracy: 0.6429\n",
            "Epoch 3/50\n",
            "117/117 [==============================] - 0s 357us/sample - loss: 0.7006 - accuracy: 0.6838 - val_loss: 0.8216 - val_accuracy: 0.6429\n",
            "Epoch 4/50\n",
            "117/117 [==============================] - 0s 363us/sample - loss: 0.7025 - accuracy: 0.7094 - val_loss: 0.8104 - val_accuracy: 0.5714\n",
            "Epoch 5/50\n",
            "117/117 [==============================] - 0s 312us/sample - loss: 0.6937 - accuracy: 0.6923 - val_loss: 0.8806 - val_accuracy: 0.6429\n",
            "Epoch 6/50\n",
            "117/117 [==============================] - 0s 307us/sample - loss: 0.6933 - accuracy: 0.6838 - val_loss: 0.8574 - val_accuracy: 0.5000\n",
            "Epoch 7/50\n",
            "117/117 [==============================] - 0s 328us/sample - loss: 0.7035 - accuracy: 0.6752 - val_loss: 0.8855 - val_accuracy: 0.6429\n",
            "Epoch 8/50\n",
            "117/117 [==============================] - 0s 351us/sample - loss: 0.7101 - accuracy: 0.6667 - val_loss: 0.8684 - val_accuracy: 0.5000\n",
            "Epoch 9/50\n",
            "117/117 [==============================] - 0s 311us/sample - loss: 0.7107 - accuracy: 0.6838 - val_loss: 0.8581 - val_accuracy: 0.5714\n",
            "Epoch 10/50\n",
            "117/117 [==============================] - 0s 339us/sample - loss: 0.6891 - accuracy: 0.7094 - val_loss: 0.8454 - val_accuracy: 0.6429\n",
            "Epoch 11/50\n",
            "117/117 [==============================] - 0s 311us/sample - loss: 0.6946 - accuracy: 0.7265 - val_loss: 0.8797 - val_accuracy: 0.6429\n",
            "Epoch 12/50\n",
            "117/117 [==============================] - 0s 351us/sample - loss: 0.6807 - accuracy: 0.6923 - val_loss: 0.8856 - val_accuracy: 0.5714\n",
            "Epoch 13/50\n",
            "117/117 [==============================] - 0s 311us/sample - loss: 0.6976 - accuracy: 0.6838 - val_loss: 0.8855 - val_accuracy: 0.6429\n",
            "Epoch 14/50\n",
            "117/117 [==============================] - 0s 283us/sample - loss: 0.6812 - accuracy: 0.6923 - val_loss: 0.9131 - val_accuracy: 0.5714\n",
            "Epoch 15/50\n",
            "117/117 [==============================] - 0s 328us/sample - loss: 0.6858 - accuracy: 0.6923 - val_loss: 0.9215 - val_accuracy: 0.6429\n",
            "Epoch 16/50\n",
            "117/117 [==============================] - 0s 304us/sample - loss: 0.6938 - accuracy: 0.6838 - val_loss: 0.9187 - val_accuracy: 0.5000\n",
            "Epoch 17/50\n",
            "117/117 [==============================] - 0s 331us/sample - loss: 0.6941 - accuracy: 0.6581 - val_loss: 0.9437 - val_accuracy: 0.5000\n",
            "Epoch 18/50\n",
            "117/117 [==============================] - 0s 316us/sample - loss: 0.7113 - accuracy: 0.6838 - val_loss: 0.9173 - val_accuracy: 0.5000\n",
            "Epoch 19/50\n",
            "117/117 [==============================] - 0s 299us/sample - loss: 0.6859 - accuracy: 0.6752 - val_loss: 0.9141 - val_accuracy: 0.6429\n",
            "Epoch 20/50\n",
            "117/117 [==============================] - 0s 349us/sample - loss: 0.6916 - accuracy: 0.6923 - val_loss: 0.9059 - val_accuracy: 0.6429\n",
            "Epoch 21/50\n",
            "117/117 [==============================] - 0s 322us/sample - loss: 0.6965 - accuracy: 0.6923 - val_loss: 0.8980 - val_accuracy: 0.6429\n",
            "Epoch 22/50\n",
            "117/117 [==============================] - 0s 327us/sample - loss: 0.6792 - accuracy: 0.7179 - val_loss: 0.9278 - val_accuracy: 0.6429\n",
            "Epoch 23/50\n",
            "117/117 [==============================] - 0s 327us/sample - loss: 0.6900 - accuracy: 0.6752 - val_loss: 0.9210 - val_accuracy: 0.5714\n",
            "Epoch 24/50\n",
            "117/117 [==============================] - 0s 327us/sample - loss: 0.6948 - accuracy: 0.7265 - val_loss: 0.9175 - val_accuracy: 0.6429\n",
            "Epoch 25/50\n",
            "117/117 [==============================] - 0s 321us/sample - loss: 0.6842 - accuracy: 0.6838 - val_loss: 0.9467 - val_accuracy: 0.6429\n",
            "Epoch 26/50\n",
            "117/117 [==============================] - 0s 342us/sample - loss: 0.6870 - accuracy: 0.6667 - val_loss: 0.9280 - val_accuracy: 0.5714\n",
            "Epoch 27/50\n",
            "117/117 [==============================] - 0s 323us/sample - loss: 0.6869 - accuracy: 0.6923 - val_loss: 0.9387 - val_accuracy: 0.5000\n",
            "Epoch 28/50\n",
            "117/117 [==============================] - 0s 315us/sample - loss: 0.6853 - accuracy: 0.6325 - val_loss: 0.9310 - val_accuracy: 0.5000\n",
            "Epoch 29/50\n",
            "117/117 [==============================] - 0s 300us/sample - loss: 0.6795 - accuracy: 0.6923 - val_loss: 0.9600 - val_accuracy: 0.6429\n",
            "Epoch 30/50\n",
            "117/117 [==============================] - 0s 309us/sample - loss: 0.6788 - accuracy: 0.7094 - val_loss: 0.9812 - val_accuracy: 0.6429\n",
            "Epoch 31/50\n",
            "117/117 [==============================] - 0s 313us/sample - loss: 0.6847 - accuracy: 0.6838 - val_loss: 0.9378 - val_accuracy: 0.5714\n",
            "Epoch 32/50\n",
            "117/117 [==============================] - 0s 312us/sample - loss: 0.6843 - accuracy: 0.7265 - val_loss: 0.9426 - val_accuracy: 0.6429\n",
            "Epoch 33/50\n",
            "117/117 [==============================] - 0s 375us/sample - loss: 0.7018 - accuracy: 0.6667 - val_loss: 0.9912 - val_accuracy: 0.5000\n",
            "Epoch 34/50\n",
            "117/117 [==============================] - 0s 334us/sample - loss: 0.6827 - accuracy: 0.6923 - val_loss: 0.9722 - val_accuracy: 0.6429\n",
            "Epoch 35/50\n",
            "117/117 [==============================] - 0s 336us/sample - loss: 0.6759 - accuracy: 0.6752 - val_loss: 0.9654 - val_accuracy: 0.5000\n",
            "Epoch 36/50\n",
            "117/117 [==============================] - 0s 326us/sample - loss: 0.6767 - accuracy: 0.7094 - val_loss: 0.9949 - val_accuracy: 0.5000\n",
            "Epoch 37/50\n",
            "117/117 [==============================] - 0s 301us/sample - loss: 0.6884 - accuracy: 0.7009 - val_loss: 0.9911 - val_accuracy: 0.6429\n",
            "Epoch 38/50\n",
            "117/117 [==============================] - 0s 343us/sample - loss: 0.6717 - accuracy: 0.6923 - val_loss: 1.0433 - val_accuracy: 0.4286\n",
            "Epoch 39/50\n",
            "117/117 [==============================] - 0s 295us/sample - loss: 0.6764 - accuracy: 0.7179 - val_loss: 0.9818 - val_accuracy: 0.5000\n",
            "Epoch 40/50\n",
            "117/117 [==============================] - 0s 341us/sample - loss: 0.6691 - accuracy: 0.6838 - val_loss: 0.9811 - val_accuracy: 0.6429\n",
            "Epoch 41/50\n",
            "117/117 [==============================] - 0s 351us/sample - loss: 0.6822 - accuracy: 0.6667 - val_loss: 1.0198 - val_accuracy: 0.5714\n",
            "Epoch 42/50\n",
            "117/117 [==============================] - 0s 333us/sample - loss: 0.6808 - accuracy: 0.6581 - val_loss: 0.9886 - val_accuracy: 0.6429\n",
            "Epoch 43/50\n",
            "117/117 [==============================] - 0s 317us/sample - loss: 0.6730 - accuracy: 0.6923 - val_loss: 0.9834 - val_accuracy: 0.6429\n",
            "Epoch 44/50\n",
            "117/117 [==============================] - 0s 319us/sample - loss: 0.6643 - accuracy: 0.7009 - val_loss: 1.0121 - val_accuracy: 0.6429\n",
            "Epoch 45/50\n",
            "117/117 [==============================] - 0s 308us/sample - loss: 0.6827 - accuracy: 0.6581 - val_loss: 0.9880 - val_accuracy: 0.6429\n",
            "Epoch 46/50\n",
            "117/117 [==============================] - 0s 381us/sample - loss: 0.6951 - accuracy: 0.6838 - val_loss: 0.9758 - val_accuracy: 0.6429\n",
            "Epoch 47/50\n",
            "117/117 [==============================] - 0s 352us/sample - loss: 0.6830 - accuracy: 0.6581 - val_loss: 0.9860 - val_accuracy: 0.5714\n",
            "Epoch 48/50\n",
            "117/117 [==============================] - 0s 336us/sample - loss: 0.6927 - accuracy: 0.6581 - val_loss: 1.0029 - val_accuracy: 0.5000\n",
            "Epoch 49/50\n",
            "117/117 [==============================] - 0s 312us/sample - loss: 0.6930 - accuracy: 0.6752 - val_loss: 1.0431 - val_accuracy: 0.5000\n",
            "Epoch 50/50\n",
            "117/117 [==============================] - 0s 301us/sample - loss: 0.6793 - accuracy: 0.7009 - val_loss: 1.0253 - val_accuracy: 0.5714\n",
            "Train on 118 samples, validate on 13 samples\n",
            "Epoch 1/50\n",
            "118/118 [==============================] - 0s 307us/sample - loss: 0.7258 - accuracy: 0.6525 - val_loss: 0.5886 - val_accuracy: 0.6923\n",
            "Epoch 2/50\n",
            "118/118 [==============================] - 0s 348us/sample - loss: 0.6985 - accuracy: 0.6441 - val_loss: 0.7167 - val_accuracy: 0.6923\n",
            "Epoch 3/50\n",
            "118/118 [==============================] - 0s 368us/sample - loss: 0.7264 - accuracy: 0.6610 - val_loss: 0.7215 - val_accuracy: 0.6923\n",
            "Epoch 4/50\n",
            "118/118 [==============================] - 0s 314us/sample - loss: 0.6971 - accuracy: 0.6864 - val_loss: 0.7958 - val_accuracy: 0.6154\n",
            "Epoch 5/50\n",
            "118/118 [==============================] - 0s 411us/sample - loss: 0.7085 - accuracy: 0.6864 - val_loss: 0.7736 - val_accuracy: 0.6154\n",
            "Epoch 6/50\n",
            "118/118 [==============================] - 0s 386us/sample - loss: 0.6981 - accuracy: 0.7034 - val_loss: 0.7817 - val_accuracy: 0.7692\n",
            "Epoch 7/50\n",
            "118/118 [==============================] - 0s 386us/sample - loss: 0.6902 - accuracy: 0.7119 - val_loss: 0.8245 - val_accuracy: 0.6923\n",
            "Epoch 8/50\n",
            "118/118 [==============================] - 0s 327us/sample - loss: 0.6787 - accuracy: 0.6864 - val_loss: 0.8422 - val_accuracy: 0.6923\n",
            "Epoch 9/50\n",
            "118/118 [==============================] - 0s 288us/sample - loss: 0.6912 - accuracy: 0.6780 - val_loss: 0.9570 - val_accuracy: 0.6154\n",
            "Epoch 10/50\n",
            "118/118 [==============================] - 0s 328us/sample - loss: 0.6872 - accuracy: 0.6695 - val_loss: 0.9072 - val_accuracy: 0.6154\n",
            "Epoch 11/50\n",
            "118/118 [==============================] - 0s 325us/sample - loss: 0.6699 - accuracy: 0.7288 - val_loss: 0.9831 - val_accuracy: 0.6154\n",
            "Epoch 12/50\n",
            "118/118 [==============================] - 0s 267us/sample - loss: 0.6794 - accuracy: 0.6695 - val_loss: 1.0503 - val_accuracy: 0.6154\n",
            "Epoch 13/50\n",
            "118/118 [==============================] - 0s 312us/sample - loss: 0.6551 - accuracy: 0.7119 - val_loss: 1.0692 - val_accuracy: 0.6154\n",
            "Epoch 14/50\n",
            "118/118 [==============================] - 0s 379us/sample - loss: 0.6538 - accuracy: 0.7288 - val_loss: 1.0750 - val_accuracy: 0.6154\n",
            "Epoch 15/50\n",
            "118/118 [==============================] - 0s 303us/sample - loss: 0.6621 - accuracy: 0.6949 - val_loss: 1.1122 - val_accuracy: 0.6154\n",
            "Epoch 16/50\n",
            "118/118 [==============================] - 0s 303us/sample - loss: 0.6590 - accuracy: 0.7288 - val_loss: 1.0777 - val_accuracy: 0.6154\n",
            "Epoch 17/50\n",
            "118/118 [==============================] - 0s 315us/sample - loss: 0.6548 - accuracy: 0.6610 - val_loss: 1.0572 - val_accuracy: 0.6154\n",
            "Epoch 18/50\n",
            "118/118 [==============================] - 0s 325us/sample - loss: 0.6518 - accuracy: 0.7203 - val_loss: 1.1754 - val_accuracy: 0.6154\n",
            "Epoch 19/50\n",
            "118/118 [==============================] - 0s 333us/sample - loss: 0.6535 - accuracy: 0.7034 - val_loss: 1.1456 - val_accuracy: 0.6154\n",
            "Epoch 20/50\n",
            "118/118 [==============================] - 0s 295us/sample - loss: 0.6350 - accuracy: 0.7542 - val_loss: 1.2286 - val_accuracy: 0.6923\n",
            "Epoch 21/50\n",
            "118/118 [==============================] - 0s 294us/sample - loss: 0.6704 - accuracy: 0.7119 - val_loss: 1.2794 - val_accuracy: 0.6154\n",
            "Epoch 22/50\n",
            "118/118 [==============================] - 0s 336us/sample - loss: 0.6465 - accuracy: 0.7373 - val_loss: 1.2931 - val_accuracy: 0.6154\n",
            "Epoch 23/50\n",
            "118/118 [==============================] - 0s 299us/sample - loss: 0.6371 - accuracy: 0.7373 - val_loss: 1.2630 - val_accuracy: 0.6154\n",
            "Epoch 24/50\n",
            "118/118 [==============================] - 0s 285us/sample - loss: 0.6574 - accuracy: 0.7034 - val_loss: 1.3636 - val_accuracy: 0.5385\n",
            "Epoch 25/50\n",
            "118/118 [==============================] - 0s 294us/sample - loss: 0.6492 - accuracy: 0.7203 - val_loss: 1.3796 - val_accuracy: 0.5385\n",
            "Epoch 26/50\n",
            "118/118 [==============================] - 0s 324us/sample - loss: 0.6530 - accuracy: 0.6864 - val_loss: 1.2416 - val_accuracy: 0.6154\n",
            "Epoch 27/50\n",
            "118/118 [==============================] - 0s 281us/sample - loss: 0.6622 - accuracy: 0.6949 - val_loss: 1.2922 - val_accuracy: 0.5385\n",
            "Epoch 28/50\n",
            "118/118 [==============================] - 0s 299us/sample - loss: 0.6455 - accuracy: 0.6949 - val_loss: 1.2674 - val_accuracy: 0.6154\n",
            "Epoch 29/50\n",
            "118/118 [==============================] - 0s 365us/sample - loss: 0.6475 - accuracy: 0.7288 - val_loss: 1.3513 - val_accuracy: 0.5385\n",
            "Epoch 30/50\n",
            "118/118 [==============================] - 0s 299us/sample - loss: 0.6544 - accuracy: 0.7034 - val_loss: 1.3048 - val_accuracy: 0.6154\n",
            "Epoch 31/50\n",
            "118/118 [==============================] - 0s 308us/sample - loss: 0.6481 - accuracy: 0.7034 - val_loss: 1.4068 - val_accuracy: 0.5385\n",
            "Epoch 32/50\n",
            "118/118 [==============================] - 0s 294us/sample - loss: 0.6367 - accuracy: 0.7458 - val_loss: 1.3228 - val_accuracy: 0.6154\n",
            "Epoch 33/50\n",
            "118/118 [==============================] - 0s 281us/sample - loss: 0.6359 - accuracy: 0.6949 - val_loss: 1.3998 - val_accuracy: 0.5385\n",
            "Epoch 34/50\n",
            "118/118 [==============================] - 0s 334us/sample - loss: 0.6399 - accuracy: 0.7458 - val_loss: 1.3583 - val_accuracy: 0.5385\n",
            "Epoch 35/50\n",
            "118/118 [==============================] - 0s 303us/sample - loss: 0.6378 - accuracy: 0.7288 - val_loss: 1.3654 - val_accuracy: 0.6154\n",
            "Epoch 36/50\n",
            "118/118 [==============================] - 0s 309us/sample - loss: 0.6294 - accuracy: 0.7203 - val_loss: 1.3842 - val_accuracy: 0.5385\n",
            "Epoch 37/50\n",
            "118/118 [==============================] - 0s 297us/sample - loss: 0.6217 - accuracy: 0.7288 - val_loss: 1.4501 - val_accuracy: 0.5385\n",
            "Epoch 38/50\n",
            "118/118 [==============================] - 0s 338us/sample - loss: 0.6449 - accuracy: 0.7288 - val_loss: 1.3612 - val_accuracy: 0.6154\n",
            "Epoch 39/50\n",
            "118/118 [==============================] - 0s 316us/sample - loss: 0.6479 - accuracy: 0.6949 - val_loss: 1.3577 - val_accuracy: 0.5385\n",
            "Epoch 40/50\n",
            "118/118 [==============================] - 0s 329us/sample - loss: 0.6557 - accuracy: 0.6949 - val_loss: 1.3971 - val_accuracy: 0.6154\n",
            "Epoch 41/50\n",
            "118/118 [==============================] - 0s 314us/sample - loss: 0.6337 - accuracy: 0.7288 - val_loss: 1.3663 - val_accuracy: 0.6154\n",
            "Epoch 42/50\n",
            "118/118 [==============================] - 0s 334us/sample - loss: 0.6224 - accuracy: 0.7542 - val_loss: 1.4301 - val_accuracy: 0.5385\n",
            "Epoch 43/50\n",
            "118/118 [==============================] - 0s 261us/sample - loss: 0.6350 - accuracy: 0.7542 - val_loss: 1.5071 - val_accuracy: 0.5385\n",
            "Epoch 44/50\n",
            "118/118 [==============================] - 0s 284us/sample - loss: 0.6242 - accuracy: 0.7373 - val_loss: 1.4190 - val_accuracy: 0.5385\n",
            "Epoch 45/50\n",
            "118/118 [==============================] - 0s 290us/sample - loss: 0.6281 - accuracy: 0.7119 - val_loss: 1.3952 - val_accuracy: 0.6923\n",
            "Epoch 46/50\n",
            "118/118 [==============================] - 0s 305us/sample - loss: 0.6312 - accuracy: 0.7627 - val_loss: 1.3920 - val_accuracy: 0.6923\n",
            "Epoch 47/50\n",
            "118/118 [==============================] - 0s 289us/sample - loss: 0.6133 - accuracy: 0.7458 - val_loss: 1.4284 - val_accuracy: 0.6154\n",
            "Epoch 48/50\n",
            "118/118 [==============================] - 0s 343us/sample - loss: 0.6295 - accuracy: 0.7288 - val_loss: 1.5246 - val_accuracy: 0.5385\n",
            "Epoch 49/50\n",
            "118/118 [==============================] - 0s 340us/sample - loss: 0.6203 - accuracy: 0.7542 - val_loss: 1.4666 - val_accuracy: 0.5385\n",
            "Epoch 50/50\n",
            "118/118 [==============================] - 0s 320us/sample - loss: 0.6071 - accuracy: 0.7288 - val_loss: 1.5194 - val_accuracy: 0.5385\n",
            "Train on 118 samples, validate on 13 samples\n",
            "Epoch 1/50\n",
            "118/118 [==============================] - 0s 355us/sample - loss: 0.7274 - accuracy: 0.6864 - val_loss: 0.5566 - val_accuracy: 0.7692\n",
            "Epoch 2/50\n",
            "118/118 [==============================] - 0s 314us/sample - loss: 0.6921 - accuracy: 0.7288 - val_loss: 0.6244 - val_accuracy: 0.7692\n",
            "Epoch 3/50\n",
            "118/118 [==============================] - 0s 359us/sample - loss: 0.7213 - accuracy: 0.7119 - val_loss: 0.6738 - val_accuracy: 0.6923\n",
            "Epoch 4/50\n",
            "118/118 [==============================] - 0s 327us/sample - loss: 0.6847 - accuracy: 0.7119 - val_loss: 0.7101 - val_accuracy: 0.6923\n",
            "Epoch 5/50\n",
            "118/118 [==============================] - 0s 314us/sample - loss: 0.6783 - accuracy: 0.7458 - val_loss: 0.7496 - val_accuracy: 0.6923\n",
            "Epoch 6/50\n",
            "118/118 [==============================] - 0s 310us/sample - loss: 0.6836 - accuracy: 0.7034 - val_loss: 0.8211 - val_accuracy: 0.6154\n",
            "Epoch 7/50\n",
            "118/118 [==============================] - 0s 295us/sample - loss: 0.6764 - accuracy: 0.7458 - val_loss: 0.7663 - val_accuracy: 0.6154\n",
            "Epoch 8/50\n",
            "118/118 [==============================] - 0s 304us/sample - loss: 0.6628 - accuracy: 0.7373 - val_loss: 0.8617 - val_accuracy: 0.6154\n",
            "Epoch 9/50\n",
            "118/118 [==============================] - 0s 332us/sample - loss: 0.6613 - accuracy: 0.7458 - val_loss: 0.8697 - val_accuracy: 0.6154\n",
            "Epoch 10/50\n",
            "118/118 [==============================] - 0s 291us/sample - loss: 0.6616 - accuracy: 0.7373 - val_loss: 0.8836 - val_accuracy: 0.6154\n",
            "Epoch 11/50\n",
            "118/118 [==============================] - 0s 303us/sample - loss: 0.6583 - accuracy: 0.7458 - val_loss: 0.9042 - val_accuracy: 0.5385\n",
            "Epoch 12/50\n",
            "118/118 [==============================] - 0s 338us/sample - loss: 0.6588 - accuracy: 0.7542 - val_loss: 0.9282 - val_accuracy: 0.5385\n",
            "Epoch 13/50\n",
            "118/118 [==============================] - 0s 319us/sample - loss: 0.6576 - accuracy: 0.7458 - val_loss: 0.9368 - val_accuracy: 0.6154\n",
            "Epoch 14/50\n",
            "118/118 [==============================] - 0s 299us/sample - loss: 0.6709 - accuracy: 0.7627 - val_loss: 0.9244 - val_accuracy: 0.5385\n",
            "Epoch 15/50\n",
            "118/118 [==============================] - 0s 313us/sample - loss: 0.6732 - accuracy: 0.7542 - val_loss: 1.0607 - val_accuracy: 0.4615\n",
            "Epoch 16/50\n",
            "118/118 [==============================] - 0s 284us/sample - loss: 0.6604 - accuracy: 0.7458 - val_loss: 1.0467 - val_accuracy: 0.5385\n",
            "Epoch 17/50\n",
            "118/118 [==============================] - 0s 287us/sample - loss: 0.6624 - accuracy: 0.7373 - val_loss: 1.0423 - val_accuracy: 0.5385\n",
            "Epoch 18/50\n",
            "118/118 [==============================] - 0s 307us/sample - loss: 0.6337 - accuracy: 0.7542 - val_loss: 1.0786 - val_accuracy: 0.5385\n",
            "Epoch 19/50\n",
            "118/118 [==============================] - 0s 303us/sample - loss: 0.6407 - accuracy: 0.7458 - val_loss: 1.1342 - val_accuracy: 0.5385\n",
            "Epoch 20/50\n",
            "118/118 [==============================] - 0s 298us/sample - loss: 0.6353 - accuracy: 0.7797 - val_loss: 1.1241 - val_accuracy: 0.5385\n",
            "Epoch 21/50\n",
            "118/118 [==============================] - 0s 325us/sample - loss: 0.6842 - accuracy: 0.7288 - val_loss: 1.0364 - val_accuracy: 0.5385\n",
            "Epoch 22/50\n",
            "118/118 [==============================] - 0s 308us/sample - loss: 0.6377 - accuracy: 0.7373 - val_loss: 1.1097 - val_accuracy: 0.5385\n",
            "Epoch 23/50\n",
            "118/118 [==============================] - 0s 319us/sample - loss: 0.6545 - accuracy: 0.7373 - val_loss: 1.1256 - val_accuracy: 0.5385\n",
            "Epoch 24/50\n",
            "118/118 [==============================] - 0s 414us/sample - loss: 0.6486 - accuracy: 0.7203 - val_loss: 1.1228 - val_accuracy: 0.5385\n",
            "Epoch 25/50\n",
            "118/118 [==============================] - 0s 456us/sample - loss: 0.6303 - accuracy: 0.7627 - val_loss: 1.1422 - val_accuracy: 0.4615\n",
            "Epoch 26/50\n",
            "118/118 [==============================] - 0s 328us/sample - loss: 0.6285 - accuracy: 0.7458 - val_loss: 1.2301 - val_accuracy: 0.4615\n",
            "Epoch 27/50\n",
            "118/118 [==============================] - 0s 314us/sample - loss: 0.6423 - accuracy: 0.7373 - val_loss: 1.1523 - val_accuracy: 0.5385\n",
            "Epoch 28/50\n",
            "118/118 [==============================] - 0s 350us/sample - loss: 0.6307 - accuracy: 0.7373 - val_loss: 1.1667 - val_accuracy: 0.5385\n",
            "Epoch 29/50\n",
            "118/118 [==============================] - 0s 338us/sample - loss: 0.6485 - accuracy: 0.7373 - val_loss: 1.1631 - val_accuracy: 0.5385\n",
            "Epoch 30/50\n",
            "118/118 [==============================] - 0s 327us/sample - loss: 0.6470 - accuracy: 0.7373 - val_loss: 1.1421 - val_accuracy: 0.5385\n",
            "Epoch 31/50\n",
            "118/118 [==============================] - 0s 327us/sample - loss: 0.6312 - accuracy: 0.7288 - val_loss: 1.1826 - val_accuracy: 0.5385\n",
            "Epoch 32/50\n",
            "118/118 [==============================] - 0s 348us/sample - loss: 0.6479 - accuracy: 0.7542 - val_loss: 1.2150 - val_accuracy: 0.5385\n",
            "Epoch 33/50\n",
            "118/118 [==============================] - 0s 293us/sample - loss: 0.6225 - accuracy: 0.7373 - val_loss: 1.2681 - val_accuracy: 0.4615\n",
            "Epoch 34/50\n",
            "118/118 [==============================] - 0s 327us/sample - loss: 0.6286 - accuracy: 0.7627 - val_loss: 1.2569 - val_accuracy: 0.4615\n",
            "Epoch 35/50\n",
            "118/118 [==============================] - 0s 309us/sample - loss: 0.6260 - accuracy: 0.7373 - val_loss: 1.3282 - val_accuracy: 0.6154\n",
            "Epoch 36/50\n",
            "118/118 [==============================] - 0s 300us/sample - loss: 0.6360 - accuracy: 0.7542 - val_loss: 1.2270 - val_accuracy: 0.4615\n",
            "Epoch 37/50\n",
            "118/118 [==============================] - 0s 308us/sample - loss: 0.6286 - accuracy: 0.7288 - val_loss: 1.2534 - val_accuracy: 0.5385\n",
            "Epoch 38/50\n",
            "118/118 [==============================] - 0s 301us/sample - loss: 0.6142 - accuracy: 0.7458 - val_loss: 1.2610 - val_accuracy: 0.5385\n",
            "Epoch 39/50\n",
            "118/118 [==============================] - 0s 303us/sample - loss: 0.6462 - accuracy: 0.7373 - val_loss: 1.2478 - val_accuracy: 0.5385\n",
            "Epoch 40/50\n",
            "118/118 [==============================] - 0s 298us/sample - loss: 0.6204 - accuracy: 0.7542 - val_loss: 1.3423 - val_accuracy: 0.4615\n",
            "Epoch 41/50\n",
            "118/118 [==============================] - 0s 303us/sample - loss: 0.6207 - accuracy: 0.7458 - val_loss: 1.2223 - val_accuracy: 0.5385\n",
            "Epoch 42/50\n",
            "118/118 [==============================] - 0s 299us/sample - loss: 0.6446 - accuracy: 0.7288 - val_loss: 1.2554 - val_accuracy: 0.5385\n",
            "Epoch 43/50\n",
            "118/118 [==============================] - 0s 298us/sample - loss: 0.6457 - accuracy: 0.7373 - val_loss: 1.3658 - val_accuracy: 0.5385\n",
            "Epoch 44/50\n",
            "118/118 [==============================] - 0s 313us/sample - loss: 0.6318 - accuracy: 0.7797 - val_loss: 1.3375 - val_accuracy: 0.4615\n",
            "Epoch 45/50\n",
            "118/118 [==============================] - 0s 297us/sample - loss: 0.6343 - accuracy: 0.7458 - val_loss: 1.2694 - val_accuracy: 0.4615\n",
            "Epoch 46/50\n",
            "118/118 [==============================] - 0s 293us/sample - loss: 0.6221 - accuracy: 0.7373 - val_loss: 1.3863 - val_accuracy: 0.4615\n",
            "Epoch 47/50\n",
            "118/118 [==============================] - 0s 305us/sample - loss: 0.6289 - accuracy: 0.7373 - val_loss: 1.2802 - val_accuracy: 0.4615\n",
            "Epoch 48/50\n",
            "118/118 [==============================] - 0s 311us/sample - loss: 0.6126 - accuracy: 0.7458 - val_loss: 1.3216 - val_accuracy: 0.5385\n",
            "Epoch 49/50\n",
            "118/118 [==============================] - 0s 315us/sample - loss: 0.6193 - accuracy: 0.7458 - val_loss: 1.3273 - val_accuracy: 0.5385\n",
            "Epoch 50/50\n",
            "118/118 [==============================] - 0s 312us/sample - loss: 0.6436 - accuracy: 0.7373 - val_loss: 1.3729 - val_accuracy: 0.4615\n",
            "Train on 119 samples, validate on 12 samples\n",
            "Epoch 1/50\n",
            "119/119 [==============================] - 0s 301us/sample - loss: 0.7367 - accuracy: 0.7059 - val_loss: 0.5617 - val_accuracy: 0.8333\n",
            "Epoch 2/50\n",
            "119/119 [==============================] - 0s 276us/sample - loss: 0.6595 - accuracy: 0.7311 - val_loss: 0.6887 - val_accuracy: 0.8333\n",
            "Epoch 3/50\n",
            "119/119 [==============================] - 0s 321us/sample - loss: 0.6650 - accuracy: 0.7479 - val_loss: 0.7060 - val_accuracy: 0.8333\n",
            "Epoch 4/50\n",
            "119/119 [==============================] - 0s 309us/sample - loss: 0.6615 - accuracy: 0.7563 - val_loss: 0.6947 - val_accuracy: 0.8333\n",
            "Epoch 5/50\n",
            "119/119 [==============================] - 0s 350us/sample - loss: 0.6397 - accuracy: 0.7563 - val_loss: 0.8391 - val_accuracy: 0.8333\n",
            "Epoch 6/50\n",
            "119/119 [==============================] - 0s 326us/sample - loss: 0.6524 - accuracy: 0.7311 - val_loss: 0.6512 - val_accuracy: 0.9167\n",
            "Epoch 7/50\n",
            "119/119 [==============================] - 0s 317us/sample - loss: 0.6442 - accuracy: 0.6975 - val_loss: 0.6273 - val_accuracy: 0.8333\n",
            "Epoch 8/50\n",
            "119/119 [==============================] - 0s 286us/sample - loss: 0.6704 - accuracy: 0.6723 - val_loss: 0.8647 - val_accuracy: 0.8333\n",
            "Epoch 9/50\n",
            "119/119 [==============================] - 0s 363us/sample - loss: 0.6332 - accuracy: 0.7563 - val_loss: 0.6601 - val_accuracy: 0.8333\n",
            "Epoch 10/50\n",
            "119/119 [==============================] - 0s 274us/sample - loss: 0.6465 - accuracy: 0.7059 - val_loss: 0.7770 - val_accuracy: 0.8333\n",
            "Epoch 11/50\n",
            "119/119 [==============================] - 0s 300us/sample - loss: 0.6320 - accuracy: 0.7311 - val_loss: 0.8111 - val_accuracy: 0.8333\n",
            "Epoch 12/50\n",
            "119/119 [==============================] - 0s 290us/sample - loss: 0.6243 - accuracy: 0.7479 - val_loss: 0.9030 - val_accuracy: 0.8333\n",
            "Epoch 13/50\n",
            "119/119 [==============================] - 0s 293us/sample - loss: 0.6247 - accuracy: 0.7647 - val_loss: 0.6970 - val_accuracy: 0.8333\n",
            "Epoch 14/50\n",
            "119/119 [==============================] - 0s 300us/sample - loss: 0.6265 - accuracy: 0.7731 - val_loss: 0.7908 - val_accuracy: 0.8333\n",
            "Epoch 15/50\n",
            "119/119 [==============================] - 0s 313us/sample - loss: 0.6337 - accuracy: 0.7479 - val_loss: 0.8366 - val_accuracy: 0.8333\n",
            "Epoch 16/50\n",
            "119/119 [==============================] - 0s 331us/sample - loss: 0.6319 - accuracy: 0.7479 - val_loss: 0.8826 - val_accuracy: 0.8333\n",
            "Epoch 17/50\n",
            "119/119 [==============================] - 0s 308us/sample - loss: 0.6429 - accuracy: 0.7311 - val_loss: 0.7758 - val_accuracy: 0.8333\n",
            "Epoch 18/50\n",
            "119/119 [==============================] - 0s 299us/sample - loss: 0.6246 - accuracy: 0.7479 - val_loss: 0.7719 - val_accuracy: 0.8333\n",
            "Epoch 19/50\n",
            "119/119 [==============================] - 0s 297us/sample - loss: 0.6261 - accuracy: 0.7059 - val_loss: 0.6921 - val_accuracy: 0.8333\n",
            "Epoch 20/50\n",
            "119/119 [==============================] - 0s 310us/sample - loss: 0.6298 - accuracy: 0.7395 - val_loss: 0.9042 - val_accuracy: 0.8333\n",
            "Epoch 21/50\n",
            "119/119 [==============================] - 0s 311us/sample - loss: 0.6201 - accuracy: 0.7395 - val_loss: 0.7392 - val_accuracy: 0.8333\n",
            "Epoch 22/50\n",
            "119/119 [==============================] - 0s 325us/sample - loss: 0.6395 - accuracy: 0.7479 - val_loss: 0.8376 - val_accuracy: 0.8333\n",
            "Epoch 23/50\n",
            "119/119 [==============================] - 0s 356us/sample - loss: 0.5994 - accuracy: 0.7395 - val_loss: 0.7387 - val_accuracy: 0.8333\n",
            "Epoch 24/50\n",
            "119/119 [==============================] - 0s 319us/sample - loss: 0.6239 - accuracy: 0.7311 - val_loss: 0.8172 - val_accuracy: 0.8333\n",
            "Epoch 25/50\n",
            "119/119 [==============================] - 0s 327us/sample - loss: 0.6008 - accuracy: 0.7647 - val_loss: 0.7337 - val_accuracy: 0.9167\n",
            "Epoch 26/50\n",
            "119/119 [==============================] - 0s 320us/sample - loss: 0.6139 - accuracy: 0.7479 - val_loss: 0.7993 - val_accuracy: 0.8333\n",
            "Epoch 27/50\n",
            "119/119 [==============================] - 0s 308us/sample - loss: 0.6068 - accuracy: 0.7563 - val_loss: 0.8296 - val_accuracy: 0.7500\n",
            "Epoch 28/50\n",
            "119/119 [==============================] - 0s 339us/sample - loss: 0.6396 - accuracy: 0.7395 - val_loss: 0.8242 - val_accuracy: 0.8333\n",
            "Epoch 29/50\n",
            "119/119 [==============================] - 0s 363us/sample - loss: 0.6182 - accuracy: 0.7563 - val_loss: 0.7643 - val_accuracy: 0.8333\n",
            "Epoch 30/50\n",
            "119/119 [==============================] - 0s 325us/sample - loss: 0.6076 - accuracy: 0.7395 - val_loss: 0.7619 - val_accuracy: 0.9167\n",
            "Epoch 31/50\n",
            "119/119 [==============================] - 0s 299us/sample - loss: 0.6212 - accuracy: 0.7395 - val_loss: 0.8408 - val_accuracy: 0.8333\n",
            "Epoch 32/50\n",
            "119/119 [==============================] - 0s 359us/sample - loss: 0.6033 - accuracy: 0.7395 - val_loss: 0.9457 - val_accuracy: 0.7500\n",
            "Epoch 33/50\n",
            "119/119 [==============================] - 0s 312us/sample - loss: 0.6250 - accuracy: 0.7395 - val_loss: 0.7974 - val_accuracy: 0.8333\n",
            "Epoch 34/50\n",
            "119/119 [==============================] - 0s 292us/sample - loss: 0.6184 - accuracy: 0.7395 - val_loss: 0.8413 - val_accuracy: 0.8333\n",
            "Epoch 35/50\n",
            "119/119 [==============================] - 0s 325us/sample - loss: 0.6032 - accuracy: 0.7647 - val_loss: 0.8676 - val_accuracy: 0.7500\n",
            "Epoch 36/50\n",
            "119/119 [==============================] - 0s 350us/sample - loss: 0.6121 - accuracy: 0.7143 - val_loss: 0.8372 - val_accuracy: 0.7500\n",
            "Epoch 37/50\n",
            "119/119 [==============================] - 0s 315us/sample - loss: 0.6172 - accuracy: 0.7647 - val_loss: 0.7999 - val_accuracy: 0.7500\n",
            "Epoch 38/50\n",
            "119/119 [==============================] - 0s 315us/sample - loss: 0.6012 - accuracy: 0.7815 - val_loss: 0.8058 - val_accuracy: 0.8333\n",
            "Epoch 39/50\n",
            "119/119 [==============================] - 0s 294us/sample - loss: 0.5925 - accuracy: 0.7647 - val_loss: 0.7880 - val_accuracy: 0.8333\n",
            "Epoch 40/50\n",
            "119/119 [==============================] - 0s 312us/sample - loss: 0.6223 - accuracy: 0.7815 - val_loss: 0.8498 - val_accuracy: 0.8333\n",
            "Epoch 41/50\n",
            "119/119 [==============================] - 0s 318us/sample - loss: 0.6086 - accuracy: 0.7395 - val_loss: 0.9378 - val_accuracy: 0.7500\n",
            "Epoch 42/50\n",
            "119/119 [==============================] - 0s 325us/sample - loss: 0.6158 - accuracy: 0.7479 - val_loss: 0.7590 - val_accuracy: 0.7500\n",
            "Epoch 43/50\n",
            "119/119 [==============================] - 0s 319us/sample - loss: 0.6323 - accuracy: 0.7311 - val_loss: 0.8654 - val_accuracy: 0.7500\n",
            "Epoch 44/50\n",
            "119/119 [==============================] - 0s 326us/sample - loss: 0.6180 - accuracy: 0.7395 - val_loss: 0.9063 - val_accuracy: 0.7500\n",
            "Epoch 45/50\n",
            "119/119 [==============================] - 0s 307us/sample - loss: 0.6413 - accuracy: 0.6975 - val_loss: 0.9428 - val_accuracy: 0.7500\n",
            "Epoch 46/50\n",
            "119/119 [==============================] - 0s 350us/sample - loss: 0.6019 - accuracy: 0.7227 - val_loss: 0.8435 - val_accuracy: 0.7500\n",
            "Epoch 47/50\n",
            "119/119 [==============================] - 0s 326us/sample - loss: 0.6076 - accuracy: 0.7563 - val_loss: 0.7827 - val_accuracy: 0.8333\n",
            "Epoch 48/50\n",
            "119/119 [==============================] - 0s 304us/sample - loss: 0.6074 - accuracy: 0.7395 - val_loss: 0.8502 - val_accuracy: 0.7500\n",
            "Epoch 49/50\n",
            "119/119 [==============================] - 0s 302us/sample - loss: 0.6009 - accuracy: 0.7563 - val_loss: 0.9735 - val_accuracy: 0.7500\n",
            "Epoch 50/50\n",
            "119/119 [==============================] - 0s 306us/sample - loss: 0.6339 - accuracy: 0.7227 - val_loss: 0.9692 - val_accuracy: 0.7500\n",
            "Train on 119 samples, validate on 12 samples\n",
            "Epoch 1/50\n",
            "119/119 [==============================] - 0s 335us/sample - loss: 0.6594 - accuracy: 0.7479 - val_loss: 0.4953 - val_accuracy: 0.7500\n",
            "Epoch 2/50\n",
            "119/119 [==============================] - 0s 331us/sample - loss: 0.6387 - accuracy: 0.7395 - val_loss: 0.4573 - val_accuracy: 0.8333\n",
            "Epoch 3/50\n",
            "119/119 [==============================] - 0s 308us/sample - loss: 0.6363 - accuracy: 0.7395 - val_loss: 0.4912 - val_accuracy: 0.8333\n",
            "Epoch 4/50\n",
            "119/119 [==============================] - 0s 307us/sample - loss: 0.6509 - accuracy: 0.7395 - val_loss: 0.5371 - val_accuracy: 0.9167\n",
            "Epoch 5/50\n",
            "119/119 [==============================] - 0s 334us/sample - loss: 0.6239 - accuracy: 0.7563 - val_loss: 0.4846 - val_accuracy: 0.8333\n",
            "Epoch 6/50\n",
            "119/119 [==============================] - 0s 305us/sample - loss: 0.6538 - accuracy: 0.6975 - val_loss: 0.5487 - val_accuracy: 0.9167\n",
            "Epoch 7/50\n",
            "119/119 [==============================] - 0s 303us/sample - loss: 0.6190 - accuracy: 0.7479 - val_loss: 0.4936 - val_accuracy: 0.8333\n",
            "Epoch 8/50\n",
            "119/119 [==============================] - 0s 292us/sample - loss: 0.6223 - accuracy: 0.7395 - val_loss: 0.5390 - val_accuracy: 0.7500\n",
            "Epoch 9/50\n",
            "119/119 [==============================] - 0s 314us/sample - loss: 0.6081 - accuracy: 0.7395 - val_loss: 0.5745 - val_accuracy: 0.8333\n",
            "Epoch 10/50\n",
            "119/119 [==============================] - 0s 327us/sample - loss: 0.6076 - accuracy: 0.7647 - val_loss: 0.5401 - val_accuracy: 0.7500\n",
            "Epoch 11/50\n",
            "119/119 [==============================] - 0s 318us/sample - loss: 0.6116 - accuracy: 0.7311 - val_loss: 0.5511 - val_accuracy: 0.7500\n",
            "Epoch 12/50\n",
            "119/119 [==============================] - 0s 330us/sample - loss: 0.6038 - accuracy: 0.7311 - val_loss: 0.5585 - val_accuracy: 0.7500\n",
            "Epoch 13/50\n",
            "119/119 [==============================] - 0s 309us/sample - loss: 0.6021 - accuracy: 0.7479 - val_loss: 0.5558 - val_accuracy: 0.7500\n",
            "Epoch 14/50\n",
            "119/119 [==============================] - 0s 316us/sample - loss: 0.6298 - accuracy: 0.7227 - val_loss: 0.5576 - val_accuracy: 0.8333\n",
            "Epoch 15/50\n",
            "119/119 [==============================] - 0s 331us/sample - loss: 0.6376 - accuracy: 0.7479 - val_loss: 0.6587 - val_accuracy: 0.7500\n",
            "Epoch 16/50\n",
            "119/119 [==============================] - 0s 304us/sample - loss: 0.6203 - accuracy: 0.7731 - val_loss: 0.5798 - val_accuracy: 0.7500\n",
            "Epoch 17/50\n",
            "119/119 [==============================] - 0s 339us/sample - loss: 0.6271 - accuracy: 0.7479 - val_loss: 0.6446 - val_accuracy: 0.5833\n",
            "Epoch 18/50\n",
            "119/119 [==============================] - 0s 317us/sample - loss: 0.6057 - accuracy: 0.7479 - val_loss: 0.5802 - val_accuracy: 0.7500\n",
            "Epoch 19/50\n",
            "119/119 [==============================] - 0s 329us/sample - loss: 0.6184 - accuracy: 0.7311 - val_loss: 0.6095 - val_accuracy: 0.6667\n",
            "Epoch 20/50\n",
            "119/119 [==============================] - 0s 300us/sample - loss: 0.6214 - accuracy: 0.7647 - val_loss: 0.5941 - val_accuracy: 0.6667\n",
            "Epoch 21/50\n",
            "119/119 [==============================] - 0s 296us/sample - loss: 0.5940 - accuracy: 0.7647 - val_loss: 0.8051 - val_accuracy: 0.6667\n",
            "Epoch 22/50\n",
            "119/119 [==============================] - 0s 304us/sample - loss: 0.6121 - accuracy: 0.7395 - val_loss: 0.6676 - val_accuracy: 0.7500\n",
            "Epoch 23/50\n",
            "119/119 [==============================] - 0s 374us/sample - loss: 0.6213 - accuracy: 0.7227 - val_loss: 0.6999 - val_accuracy: 0.6667\n",
            "Epoch 24/50\n",
            "119/119 [==============================] - 0s 287us/sample - loss: 0.6024 - accuracy: 0.7815 - val_loss: 0.6716 - val_accuracy: 0.6667\n",
            "Epoch 25/50\n",
            "119/119 [==============================] - 0s 317us/sample - loss: 0.6201 - accuracy: 0.7563 - val_loss: 0.7320 - val_accuracy: 0.5833\n",
            "Epoch 26/50\n",
            "119/119 [==============================] - 0s 295us/sample - loss: 0.6055 - accuracy: 0.7563 - val_loss: 0.6229 - val_accuracy: 0.6667\n",
            "Epoch 27/50\n",
            "119/119 [==============================] - 0s 295us/sample - loss: 0.6082 - accuracy: 0.7059 - val_loss: 0.6780 - val_accuracy: 0.5833\n",
            "Epoch 28/50\n",
            "119/119 [==============================] - 0s 310us/sample - loss: 0.6117 - accuracy: 0.7479 - val_loss: 0.7021 - val_accuracy: 0.5833\n",
            "Epoch 29/50\n",
            "119/119 [==============================] - 0s 311us/sample - loss: 0.5998 - accuracy: 0.7647 - val_loss: 0.6228 - val_accuracy: 0.6667\n",
            "Epoch 30/50\n",
            "119/119 [==============================] - 0s 309us/sample - loss: 0.6080 - accuracy: 0.7227 - val_loss: 0.6369 - val_accuracy: 0.7500\n",
            "Epoch 31/50\n",
            "119/119 [==============================] - 0s 288us/sample - loss: 0.5900 - accuracy: 0.7731 - val_loss: 0.6860 - val_accuracy: 0.8333\n",
            "Epoch 32/50\n",
            "119/119 [==============================] - 0s 308us/sample - loss: 0.5944 - accuracy: 0.7479 - val_loss: 0.7386 - val_accuracy: 0.5000\n",
            "Epoch 33/50\n",
            "119/119 [==============================] - 0s 314us/sample - loss: 0.5984 - accuracy: 0.7899 - val_loss: 0.6514 - val_accuracy: 0.7500\n",
            "Epoch 34/50\n",
            "119/119 [==============================] - 0s 319us/sample - loss: 0.5963 - accuracy: 0.7815 - val_loss: 0.6380 - val_accuracy: 0.7500\n",
            "Epoch 35/50\n",
            "119/119 [==============================] - 0s 341us/sample - loss: 0.5900 - accuracy: 0.7395 - val_loss: 0.6450 - val_accuracy: 0.7500\n",
            "Epoch 36/50\n",
            "119/119 [==============================] - 0s 377us/sample - loss: 0.6019 - accuracy: 0.7731 - val_loss: 0.6835 - val_accuracy: 0.7500\n",
            "Epoch 37/50\n",
            "119/119 [==============================] - 0s 396us/sample - loss: 0.6179 - accuracy: 0.7563 - val_loss: 0.6510 - val_accuracy: 0.6667\n",
            "Epoch 38/50\n",
            "119/119 [==============================] - 0s 331us/sample - loss: 0.6085 - accuracy: 0.7563 - val_loss: 0.7651 - val_accuracy: 0.5833\n",
            "Epoch 39/50\n",
            "119/119 [==============================] - 0s 345us/sample - loss: 0.5939 - accuracy: 0.7311 - val_loss: 0.7297 - val_accuracy: 0.5833\n",
            "Epoch 40/50\n",
            "119/119 [==============================] - 0s 359us/sample - loss: 0.5942 - accuracy: 0.7563 - val_loss: 0.6595 - val_accuracy: 0.8333\n",
            "Epoch 41/50\n",
            "119/119 [==============================] - 0s 358us/sample - loss: 0.5906 - accuracy: 0.7479 - val_loss: 0.6870 - val_accuracy: 0.6667\n",
            "Epoch 42/50\n",
            "119/119 [==============================] - 0s 325us/sample - loss: 0.5874 - accuracy: 0.7815 - val_loss: 0.7727 - val_accuracy: 0.6667\n",
            "Epoch 43/50\n",
            "119/119 [==============================] - 0s 318us/sample - loss: 0.6294 - accuracy: 0.7731 - val_loss: 0.6280 - val_accuracy: 0.7500\n",
            "Epoch 44/50\n",
            "119/119 [==============================] - 0s 328us/sample - loss: 0.6092 - accuracy: 0.7395 - val_loss: 0.6590 - val_accuracy: 0.7500\n",
            "Epoch 45/50\n",
            "119/119 [==============================] - 0s 330us/sample - loss: 0.5839 - accuracy: 0.7983 - val_loss: 0.8128 - val_accuracy: 0.6667\n",
            "Epoch 46/50\n",
            "119/119 [==============================] - 0s 377us/sample - loss: 0.6453 - accuracy: 0.7479 - val_loss: 0.6704 - val_accuracy: 0.7500\n",
            "Epoch 47/50\n",
            "119/119 [==============================] - 0s 337us/sample - loss: 0.6150 - accuracy: 0.7899 - val_loss: 0.6814 - val_accuracy: 0.7500\n",
            "Epoch 48/50\n",
            "119/119 [==============================] - 0s 323us/sample - loss: 0.6242 - accuracy: 0.7563 - val_loss: 0.7411 - val_accuracy: 0.5833\n",
            "Epoch 49/50\n",
            "119/119 [==============================] - 0s 303us/sample - loss: 0.6028 - accuracy: 0.7479 - val_loss: 0.6847 - val_accuracy: 0.6667\n",
            "Epoch 50/50\n",
            "119/119 [==============================] - 0s 295us/sample - loss: 0.5850 - accuracy: 0.7563 - val_loss: 0.7306 - val_accuracy: 0.6667\n",
            "Train on 119 samples, validate on 12 samples\n",
            "Epoch 1/50\n",
            "119/119 [==============================] - 0s 346us/sample - loss: 0.6093 - accuracy: 0.7227 - val_loss: 0.6990 - val_accuracy: 0.7500\n",
            "Epoch 2/50\n",
            "119/119 [==============================] - 0s 385us/sample - loss: 0.5965 - accuracy: 0.7479 - val_loss: 0.6241 - val_accuracy: 0.6667\n",
            "Epoch 3/50\n",
            "119/119 [==============================] - 0s 291us/sample - loss: 0.5875 - accuracy: 0.7479 - val_loss: 0.5972 - val_accuracy: 0.5833\n",
            "Epoch 4/50\n",
            "119/119 [==============================] - 0s 312us/sample - loss: 0.5968 - accuracy: 0.7395 - val_loss: 0.6537 - val_accuracy: 0.5000\n",
            "Epoch 5/50\n",
            "119/119 [==============================] - 0s 303us/sample - loss: 0.5959 - accuracy: 0.7311 - val_loss: 0.6218 - val_accuracy: 0.6667\n",
            "Epoch 6/50\n",
            "119/119 [==============================] - 0s 307us/sample - loss: 0.5882 - accuracy: 0.7647 - val_loss: 0.6500 - val_accuracy: 0.5833\n",
            "Epoch 7/50\n",
            "119/119 [==============================] - 0s 275us/sample - loss: 0.5985 - accuracy: 0.7563 - val_loss: 0.7181 - val_accuracy: 0.6667\n",
            "Epoch 8/50\n",
            "119/119 [==============================] - 0s 322us/sample - loss: 0.5927 - accuracy: 0.7563 - val_loss: 0.6348 - val_accuracy: 0.6667\n",
            "Epoch 9/50\n",
            "119/119 [==============================] - 0s 304us/sample - loss: 0.6046 - accuracy: 0.7563 - val_loss: 0.6341 - val_accuracy: 0.5000\n",
            "Epoch 10/50\n",
            "119/119 [==============================] - 0s 298us/sample - loss: 0.5932 - accuracy: 0.7395 - val_loss: 0.6756 - val_accuracy: 0.5000\n",
            "Epoch 11/50\n",
            "119/119 [==============================] - 0s 285us/sample - loss: 0.6597 - accuracy: 0.7479 - val_loss: 0.7753 - val_accuracy: 0.7500\n",
            "Epoch 12/50\n",
            "119/119 [==============================] - 0s 300us/sample - loss: 0.5845 - accuracy: 0.7899 - val_loss: 0.7280 - val_accuracy: 0.6667\n",
            "Epoch 13/50\n",
            "119/119 [==============================] - 0s 364us/sample - loss: 0.5848 - accuracy: 0.7815 - val_loss: 0.6881 - val_accuracy: 0.5833\n",
            "Epoch 14/50\n",
            "119/119 [==============================] - 0s 295us/sample - loss: 0.5857 - accuracy: 0.7731 - val_loss: 0.6847 - val_accuracy: 0.5000\n",
            "Epoch 15/50\n",
            "119/119 [==============================] - 0s 293us/sample - loss: 0.6046 - accuracy: 0.7311 - val_loss: 0.8233 - val_accuracy: 0.6667\n",
            "Epoch 16/50\n",
            "119/119 [==============================] - 0s 293us/sample - loss: 0.6120 - accuracy: 0.7395 - val_loss: 0.6053 - val_accuracy: 0.6667\n",
            "Epoch 17/50\n",
            "119/119 [==============================] - 0s 307us/sample - loss: 0.5892 - accuracy: 0.7815 - val_loss: 0.6733 - val_accuracy: 0.5833\n",
            "Epoch 18/50\n",
            "119/119 [==============================] - 0s 317us/sample - loss: 0.5827 - accuracy: 0.7731 - val_loss: 0.7608 - val_accuracy: 0.5833\n",
            "Epoch 19/50\n",
            "119/119 [==============================] - 0s 317us/sample - loss: 0.6044 - accuracy: 0.7563 - val_loss: 0.7781 - val_accuracy: 0.6667\n",
            "Epoch 20/50\n",
            "119/119 [==============================] - 0s 312us/sample - loss: 0.5896 - accuracy: 0.7815 - val_loss: 0.7244 - val_accuracy: 0.6667\n",
            "Epoch 21/50\n",
            "119/119 [==============================] - 0s 316us/sample - loss: 0.5809 - accuracy: 0.7899 - val_loss: 0.7082 - val_accuracy: 0.5000\n",
            "Epoch 22/50\n",
            "119/119 [==============================] - 0s 292us/sample - loss: 0.5730 - accuracy: 0.7647 - val_loss: 0.7400 - val_accuracy: 0.5000\n",
            "Epoch 23/50\n",
            "119/119 [==============================] - 0s 300us/sample - loss: 0.6113 - accuracy: 0.7563 - val_loss: 0.7459 - val_accuracy: 0.5000\n",
            "Epoch 24/50\n",
            "119/119 [==============================] - 0s 328us/sample - loss: 0.5860 - accuracy: 0.7731 - val_loss: 0.7720 - val_accuracy: 0.5833\n",
            "Epoch 25/50\n",
            "119/119 [==============================] - 0s 300us/sample - loss: 0.5769 - accuracy: 0.7647 - val_loss: 0.7921 - val_accuracy: 0.6667\n",
            "Epoch 26/50\n",
            "119/119 [==============================] - 0s 306us/sample - loss: 0.5867 - accuracy: 0.7731 - val_loss: 0.7472 - val_accuracy: 0.5000\n",
            "Epoch 27/50\n",
            "119/119 [==============================] - 0s 306us/sample - loss: 0.6016 - accuracy: 0.7479 - val_loss: 0.8897 - val_accuracy: 0.5833\n",
            "Epoch 28/50\n",
            "119/119 [==============================] - 0s 315us/sample - loss: 0.5766 - accuracy: 0.7647 - val_loss: 0.9074 - val_accuracy: 0.6667\n",
            "Epoch 29/50\n",
            "119/119 [==============================] - 0s 323us/sample - loss: 0.5600 - accuracy: 0.7731 - val_loss: 0.9213 - val_accuracy: 0.5833\n",
            "Epoch 30/50\n",
            "119/119 [==============================] - 0s 343us/sample - loss: 0.5995 - accuracy: 0.7647 - val_loss: 0.7508 - val_accuracy: 0.5833\n",
            "Epoch 31/50\n",
            "119/119 [==============================] - 0s 306us/sample - loss: 0.5725 - accuracy: 0.7563 - val_loss: 0.7861 - val_accuracy: 0.5833\n",
            "Epoch 32/50\n",
            "119/119 [==============================] - 0s 358us/sample - loss: 0.6247 - accuracy: 0.7311 - val_loss: 0.6980 - val_accuracy: 0.5000\n",
            "Epoch 33/50\n",
            "119/119 [==============================] - 0s 331us/sample - loss: 0.5694 - accuracy: 0.7731 - val_loss: 0.7924 - val_accuracy: 0.5000\n",
            "Epoch 34/50\n",
            "119/119 [==============================] - 0s 323us/sample - loss: 0.5672 - accuracy: 0.7899 - val_loss: 0.9101 - val_accuracy: 0.5833\n",
            "Epoch 35/50\n",
            "119/119 [==============================] - 0s 313us/sample - loss: 0.5916 - accuracy: 0.7647 - val_loss: 0.7415 - val_accuracy: 0.5833\n",
            "Epoch 36/50\n",
            "119/119 [==============================] - 0s 301us/sample - loss: 0.5709 - accuracy: 0.7899 - val_loss: 0.8614 - val_accuracy: 0.5000\n",
            "Epoch 37/50\n",
            "119/119 [==============================] - 0s 299us/sample - loss: 0.5723 - accuracy: 0.7731 - val_loss: 0.7091 - val_accuracy: 0.5000\n",
            "Epoch 38/50\n",
            "119/119 [==============================] - 0s 351us/sample - loss: 0.5951 - accuracy: 0.7479 - val_loss: 0.8286 - val_accuracy: 0.5000\n",
            "Epoch 39/50\n",
            "119/119 [==============================] - 0s 304us/sample - loss: 0.5969 - accuracy: 0.7311 - val_loss: 0.8480 - val_accuracy: 0.5833\n",
            "Epoch 40/50\n",
            "119/119 [==============================] - 0s 324us/sample - loss: 0.5737 - accuracy: 0.7983 - val_loss: 0.8369 - val_accuracy: 0.5000\n",
            "Epoch 41/50\n",
            "119/119 [==============================] - 0s 353us/sample - loss: 0.5570 - accuracy: 0.7479 - val_loss: 0.7616 - val_accuracy: 0.5000\n",
            "Epoch 42/50\n",
            "119/119 [==============================] - 0s 333us/sample - loss: 0.5633 - accuracy: 0.7815 - val_loss: 0.7153 - val_accuracy: 0.5833\n",
            "Epoch 43/50\n",
            "119/119 [==============================] - 0s 310us/sample - loss: 0.5711 - accuracy: 0.7815 - val_loss: 0.7772 - val_accuracy: 0.6667\n",
            "Epoch 44/50\n",
            "119/119 [==============================] - 0s 291us/sample - loss: 0.5719 - accuracy: 0.7479 - val_loss: 0.7738 - val_accuracy: 0.5000\n",
            "Epoch 45/50\n",
            "119/119 [==============================] - 0s 285us/sample - loss: 0.5568 - accuracy: 0.7983 - val_loss: 0.7943 - val_accuracy: 0.5000\n",
            "Epoch 46/50\n",
            "119/119 [==============================] - 0s 290us/sample - loss: 0.5531 - accuracy: 0.7899 - val_loss: 0.8741 - val_accuracy: 0.5000\n",
            "Epoch 47/50\n",
            "119/119 [==============================] - 0s 303us/sample - loss: 0.5662 - accuracy: 0.7899 - val_loss: 0.8811 - val_accuracy: 0.5000\n",
            "Epoch 48/50\n",
            "119/119 [==============================] - 0s 277us/sample - loss: 0.5532 - accuracy: 0.7815 - val_loss: 0.8171 - val_accuracy: 0.5833\n",
            "Epoch 49/50\n",
            "119/119 [==============================] - 0s 356us/sample - loss: 0.5441 - accuracy: 0.7899 - val_loss: 0.6967 - val_accuracy: 0.5000\n",
            "Epoch 50/50\n",
            "119/119 [==============================] - 0s 284us/sample - loss: 0.5711 - accuracy: 0.7647 - val_loss: 0.6764 - val_accuracy: 0.5833\n",
            "Train on 119 samples, validate on 12 samples\n",
            "Epoch 1/50\n",
            "119/119 [==============================] - 0s 296us/sample - loss: 0.6376 - accuracy: 0.7227 - val_loss: 0.3571 - val_accuracy: 0.8333\n",
            "Epoch 2/50\n",
            "119/119 [==============================] - 0s 348us/sample - loss: 0.6423 - accuracy: 0.7143 - val_loss: 0.4115 - val_accuracy: 0.8333\n",
            "Epoch 3/50\n",
            "119/119 [==============================] - 0s 306us/sample - loss: 0.6144 - accuracy: 0.7311 - val_loss: 0.4263 - val_accuracy: 0.8333\n",
            "Epoch 4/50\n",
            "119/119 [==============================] - 0s 297us/sample - loss: 0.5902 - accuracy: 0.7563 - val_loss: 0.4479 - val_accuracy: 0.8333\n",
            "Epoch 5/50\n",
            "119/119 [==============================] - 0s 291us/sample - loss: 0.6061 - accuracy: 0.7227 - val_loss: 0.4648 - val_accuracy: 0.8333\n",
            "Epoch 6/50\n",
            "119/119 [==============================] - 0s 305us/sample - loss: 0.6033 - accuracy: 0.7395 - val_loss: 0.4580 - val_accuracy: 0.8333\n",
            "Epoch 7/50\n",
            "119/119 [==============================] - 0s 268us/sample - loss: 0.6099 - accuracy: 0.7647 - val_loss: 0.4405 - val_accuracy: 0.7500\n",
            "Epoch 8/50\n",
            "119/119 [==============================] - 0s 334us/sample - loss: 0.5875 - accuracy: 0.7311 - val_loss: 0.5400 - val_accuracy: 0.8333\n",
            "Epoch 9/50\n",
            "119/119 [==============================] - 0s 337us/sample - loss: 0.6181 - accuracy: 0.7479 - val_loss: 0.5269 - val_accuracy: 0.7500\n",
            "Epoch 10/50\n",
            "119/119 [==============================] - 0s 307us/sample - loss: 0.5911 - accuracy: 0.7563 - val_loss: 0.4796 - val_accuracy: 0.7500\n",
            "Epoch 11/50\n",
            "119/119 [==============================] - 0s 300us/sample - loss: 0.6117 - accuracy: 0.7143 - val_loss: 0.5113 - val_accuracy: 0.8333\n",
            "Epoch 12/50\n",
            "119/119 [==============================] - 0s 311us/sample - loss: 0.6424 - accuracy: 0.7227 - val_loss: 0.5274 - val_accuracy: 0.7500\n",
            "Epoch 13/50\n",
            "119/119 [==============================] - 0s 285us/sample - loss: 0.6001 - accuracy: 0.7647 - val_loss: 0.4573 - val_accuracy: 0.8333\n",
            "Epoch 14/50\n",
            "119/119 [==============================] - 0s 315us/sample - loss: 0.5785 - accuracy: 0.7647 - val_loss: 0.5403 - val_accuracy: 0.7500\n",
            "Epoch 15/50\n",
            "119/119 [==============================] - 0s 304us/sample - loss: 0.5867 - accuracy: 0.7563 - val_loss: 0.5332 - val_accuracy: 0.8333\n",
            "Epoch 16/50\n",
            "119/119 [==============================] - 0s 281us/sample - loss: 0.6050 - accuracy: 0.7395 - val_loss: 0.5225 - val_accuracy: 0.7500\n",
            "Epoch 17/50\n",
            "119/119 [==============================] - 0s 283us/sample - loss: 0.5989 - accuracy: 0.7815 - val_loss: 0.4955 - val_accuracy: 0.7500\n",
            "Epoch 18/50\n",
            "119/119 [==============================] - 0s 309us/sample - loss: 0.5816 - accuracy: 0.7479 - val_loss: 0.5064 - val_accuracy: 0.7500\n",
            "Epoch 19/50\n",
            "119/119 [==============================] - 0s 301us/sample - loss: 0.5683 - accuracy: 0.7815 - val_loss: 0.4656 - val_accuracy: 0.8333\n",
            "Epoch 20/50\n",
            "119/119 [==============================] - 0s 307us/sample - loss: 0.6090 - accuracy: 0.7647 - val_loss: 0.5206 - val_accuracy: 0.8333\n",
            "Epoch 21/50\n",
            "119/119 [==============================] - 0s 304us/sample - loss: 0.5974 - accuracy: 0.7647 - val_loss: 0.5626 - val_accuracy: 0.7500\n",
            "Epoch 22/50\n",
            "119/119 [==============================] - 0s 306us/sample - loss: 0.5846 - accuracy: 0.7563 - val_loss: 0.5794 - val_accuracy: 0.7500\n",
            "Epoch 23/50\n",
            "119/119 [==============================] - 0s 336us/sample - loss: 0.6216 - accuracy: 0.7731 - val_loss: 0.5347 - val_accuracy: 0.8333\n",
            "Epoch 24/50\n",
            "119/119 [==============================] - 0s 356us/sample - loss: 0.6154 - accuracy: 0.7479 - val_loss: 0.5633 - val_accuracy: 0.7500\n",
            "Epoch 25/50\n",
            "119/119 [==============================] - 0s 296us/sample - loss: 0.5779 - accuracy: 0.7479 - val_loss: 0.5870 - val_accuracy: 0.8333\n",
            "Epoch 26/50\n",
            "119/119 [==============================] - 0s 312us/sample - loss: 0.6137 - accuracy: 0.7479 - val_loss: 0.4848 - val_accuracy: 0.7500\n",
            "Epoch 27/50\n",
            "119/119 [==============================] - 0s 308us/sample - loss: 0.5816 - accuracy: 0.7815 - val_loss: 0.4752 - val_accuracy: 0.7500\n",
            "Epoch 28/50\n",
            "119/119 [==============================] - 0s 292us/sample - loss: 0.6052 - accuracy: 0.7563 - val_loss: 0.6434 - val_accuracy: 0.7500\n",
            "Epoch 29/50\n",
            "119/119 [==============================] - 0s 293us/sample - loss: 0.6027 - accuracy: 0.7731 - val_loss: 0.5336 - val_accuracy: 0.7500\n",
            "Epoch 30/50\n",
            "119/119 [==============================] - 0s 273us/sample - loss: 0.5797 - accuracy: 0.7395 - val_loss: 0.6153 - val_accuracy: 0.7500\n",
            "Epoch 31/50\n",
            "119/119 [==============================] - 0s 283us/sample - loss: 0.5952 - accuracy: 0.7479 - val_loss: 0.5537 - val_accuracy: 0.7500\n",
            "Epoch 32/50\n",
            "119/119 [==============================] - 0s 294us/sample - loss: 0.5762 - accuracy: 0.7479 - val_loss: 0.5863 - val_accuracy: 0.7500\n",
            "Epoch 33/50\n",
            "119/119 [==============================] - 0s 291us/sample - loss: 0.6016 - accuracy: 0.7563 - val_loss: 0.5442 - val_accuracy: 0.7500\n",
            "Epoch 34/50\n",
            "119/119 [==============================] - 0s 294us/sample - loss: 0.5886 - accuracy: 0.7479 - val_loss: 0.5872 - val_accuracy: 0.7500\n",
            "Epoch 35/50\n",
            "119/119 [==============================] - 0s 381us/sample - loss: 0.5800 - accuracy: 0.7647 - val_loss: 0.6276 - val_accuracy: 0.7500\n",
            "Epoch 36/50\n",
            "119/119 [==============================] - 0s 334us/sample - loss: 0.5707 - accuracy: 0.7479 - val_loss: 0.5679 - val_accuracy: 0.7500\n",
            "Epoch 37/50\n",
            "119/119 [==============================] - 0s 335us/sample - loss: 0.6216 - accuracy: 0.7227 - val_loss: 0.5863 - val_accuracy: 0.7500\n",
            "Epoch 38/50\n",
            "119/119 [==============================] - 0s 349us/sample - loss: 0.5725 - accuracy: 0.7731 - val_loss: 0.6315 - val_accuracy: 0.7500\n",
            "Epoch 39/50\n",
            "119/119 [==============================] - 0s 322us/sample - loss: 0.6012 - accuracy: 0.7395 - val_loss: 0.5815 - val_accuracy: 0.5833\n",
            "Epoch 40/50\n",
            "119/119 [==============================] - 0s 337us/sample - loss: 0.5787 - accuracy: 0.7899 - val_loss: 0.6873 - val_accuracy: 0.7500\n",
            "Epoch 41/50\n",
            "119/119 [==============================] - 0s 328us/sample - loss: 0.5709 - accuracy: 0.7899 - val_loss: 0.6514 - val_accuracy: 0.6667\n",
            "Epoch 42/50\n",
            "119/119 [==============================] - 0s 325us/sample - loss: 0.5882 - accuracy: 0.7563 - val_loss: 0.6074 - val_accuracy: 0.7500\n",
            "Epoch 43/50\n",
            "119/119 [==============================] - 0s 316us/sample - loss: 0.5839 - accuracy: 0.7731 - val_loss: 0.6122 - val_accuracy: 0.7500\n",
            "Epoch 44/50\n",
            "119/119 [==============================] - 0s 323us/sample - loss: 0.5853 - accuracy: 0.7143 - val_loss: 0.6397 - val_accuracy: 0.7500\n",
            "Epoch 45/50\n",
            "119/119 [==============================] - 0s 346us/sample - loss: 0.6001 - accuracy: 0.7227 - val_loss: 0.7460 - val_accuracy: 0.7500\n",
            "Epoch 46/50\n",
            "119/119 [==============================] - 0s 311us/sample - loss: 0.5820 - accuracy: 0.7731 - val_loss: 0.6721 - val_accuracy: 0.7500\n",
            "Epoch 47/50\n",
            "119/119 [==============================] - 0s 328us/sample - loss: 0.5720 - accuracy: 0.7731 - val_loss: 0.6164 - val_accuracy: 0.7500\n",
            "Epoch 48/50\n",
            "119/119 [==============================] - 0s 455us/sample - loss: 0.5842 - accuracy: 0.7311 - val_loss: 0.6808 - val_accuracy: 0.7500\n",
            "Epoch 49/50\n",
            "119/119 [==============================] - 0s 355us/sample - loss: 0.6194 - accuracy: 0.7395 - val_loss: 0.6384 - val_accuracy: 0.6667\n",
            "Epoch 50/50\n",
            "119/119 [==============================] - 0s 348us/sample - loss: 0.5945 - accuracy: 0.7395 - val_loss: 0.5656 - val_accuracy: 0.7500\n"
          ],
          "name": "stdout"
        }
      ]
    },
    {
      "cell_type": "code",
      "metadata": {
        "id": "s2eeOHoYbina",
        "colab_type": "code",
        "colab": {}
      },
      "source": [
        "history_dict = history_RS.history"
      ],
      "execution_count": 0,
      "outputs": []
    },
    {
      "cell_type": "code",
      "metadata": {
        "id": "-zDN2PrRc36l",
        "colab_type": "code",
        "colab": {
          "base_uri": "https://localhost:8080/",
          "height": 34
        },
        "outputId": "fb846197-b74b-473e-c642-f39d4cd2eaad"
      },
      "source": [
        "history_dict.keys()"
      ],
      "execution_count": 46,
      "outputs": [
        {
          "output_type": "execute_result",
          "data": {
            "text/plain": [
              "dict_keys(['loss', 'accuracy', 'val_loss', 'val_accuracy'])"
            ]
          },
          "metadata": {
            "tags": []
          },
          "execution_count": 46
        }
      ]
    },
    {
      "cell_type": "markdown",
      "metadata": {
        "id": "B9UhSxIaHtuO",
        "colab_type": "text"
      },
      "source": [
        "##Plotting training and validation loss RandomSearch\n"
      ]
    },
    {
      "cell_type": "code",
      "metadata": {
        "id": "vq6zsienD5ct",
        "colab_type": "code",
        "colab": {}
      },
      "source": [
        "import matplotlib.pyplot as plt"
      ],
      "execution_count": 0,
      "outputs": []
    },
    {
      "cell_type": "code",
      "metadata": {
        "id": "XJizyjnaIPhQ",
        "colab_type": "code",
        "colab": {}
      },
      "source": [
        "epochs = range(1, num_epochs+1)"
      ],
      "execution_count": 0,
      "outputs": []
    },
    {
      "cell_type": "code",
      "metadata": {
        "colab_type": "code",
        "id": "z_pSVTWwtybS",
        "colab": {}
      },
      "source": [
        "average_acc_history_RS = [np.mean([x[i] for x in all_acc_histories_RS]) for i in range(num_epochs)]\n",
        "average_loss_history_RS = [np.mean([x[i] for x in all_loss_histories_RS]) for i in range(num_epochs)]\n",
        "average_val_acc_history_RS = [np.mean([x[i] for x in all_val_acc_histories_RS]) for i in range(num_epochs)]\n",
        "average_val_loss_history_RS = [np.mean([x[i] for x in all_val_loss_histories_RS]) for i in range(num_epochs)]\n",
        "#media per epoca degli score ottenuti per tutte le k-fold\n",
        "#per ogni k-fold di fanno num_epoch epoche, la media viene fatta prendendo gli score di tutti i k-fold relativi ad una data epoca,\n",
        "#e si fa questo per tutte le epoche"
      ],
      "execution_count": 0,
      "outputs": []
    },
    {
      "cell_type": "code",
      "metadata": {
        "id": "HfEHEYLgIQUQ",
        "colab_type": "code",
        "colab": {
          "base_uri": "https://localhost:8080/",
          "height": 312
        },
        "outputId": "c8895b48-daad-4227-ff10-c26b6e36383e"
      },
      "source": [
        "plt.plot(epochs, average_loss_history_RS, 'bo', label='training loss')\n",
        "plt.plot(epochs, average_val_loss_history_RS, 'b', label='validation loss')\n",
        "plt.title('Training and validation loss')\n",
        "plt.xlabel('Epochs')\n",
        "plt.ylabel('Loss')\n",
        "plt.legend()"
      ],
      "execution_count": 51,
      "outputs": [
        {
          "output_type": "execute_result",
          "data": {
            "text/plain": [
              "<matplotlib.legend.Legend at 0x7fe4b27270b8>"
            ]
          },
          "metadata": {
            "tags": []
          },
          "execution_count": 51
        },
        {
          "output_type": "display_data",
          "data": {
            "image/png": "[encoded data removed]",
            "text/plain": [
              "<Figure size 432x288 with 1 Axes>"
            ]
          },
          "metadata": {
            "tags": []
          }
        }
      ]
    },
    {
      "cell_type": "markdown",
      "metadata": {
        "id": "Aoc4wMjfI97j",
        "colab_type": "text"
      },
      "source": [
        "##Plotting train and validation accuracy RandomSearch"
      ]
    },
    {
      "cell_type": "code",
      "metadata": {
        "id": "GZi7VzbFIbtJ",
        "colab_type": "code",
        "colab": {
          "base_uri": "https://localhost:8080/",
          "height": 312
        },
        "outputId": "562b15ff-802f-4a65-a9e0-faa3d4022f71"
      },
      "source": [
        "plt.plot(epochs, average_acc_history_RS, 'bo', label='Training accuracy')\n",
        "plt.plot(epochs, average_val_acc_history_RS, 'b', label='Validation accuracy')\n",
        "plt.title('Training and validation accuracy')\n",
        "plt.xlabel('Epochs')\n",
        "plt.ylabel('Accuracy')\n",
        "plt.legend() "
      ],
      "execution_count": 52,
      "outputs": [
        {
          "output_type": "execute_result",
          "data": {
            "text/plain": [
              "<matplotlib.legend.Legend at 0x7fe4b15e26a0>"
            ]
          },
          "metadata": {
            "tags": []
          },
          "execution_count": 52
        },
        {
          "output_type": "display_data",
          "data": {
            "image/png": "[encoded data removed]",
            "text/plain": [
              "<Figure size 432x288 with 1 Axes>"
            ]
          },
          "metadata": {
            "tags": []
          }
        }
      ]
    }
  ]
}