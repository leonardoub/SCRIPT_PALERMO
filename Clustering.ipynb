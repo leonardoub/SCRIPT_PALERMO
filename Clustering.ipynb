{
  "nbformat": 4,
  "nbformat_minor": 0,
  "metadata": {
    "colab": {
      "name": "Clustering.ipynb",
      "provenance": [],
      "toc_visible": true,
      "include_colab_link": true
    },
    "kernelspec": {
      "name": "python3",
      "display_name": "Python 3"
    }
  },
  "cells": [
    {
      "cell_type": "markdown",
      "metadata": {
        "id": "view-in-github",
        "colab_type": "text"
      },
      "source": [
        "<a href=\"https://colab.research.google.com/github/leonardoub/SCRIPT_PALERMO/blob/master/Clustering.ipynb\" target=\"_parent\"><img src=\"https://colab.research.google.com/assets/colab-badge.svg\" alt=\"Open In Colab\"/></a>"
      ]
    },
    {
      "cell_type": "code",
      "metadata": {
        "colab_type": "code",
        "outputId": "6076b3f4-76d3-442d-dd7a-6b596ae7e5fa",
        "id": "zzbp4dcSnIvz",
        "colab": {
          "base_uri": "https://localhost:8080/",
          "height": 281
        }
      },
      "source": [
        "from matplotlib.colors import ListedColormap\n",
        "\n",
        "y = label_predicted\n",
        "\n",
        "h = .02  # step size in the mesh\n",
        "\n",
        "# Create color maps\n",
        "cmap_light = ListedColormap(['#FFAAAA', '#AAFFAA', '#AAAAFF'])\n",
        "cmap_bold = ListedColormap(['#FF0000', '#00FF00', '#0000FF'])\n",
        "\n",
        "#Plot the decision boundary. For that, we will assign a color to each\n",
        "# point in the mesh [x_min, x_max]x[y_min, y_max].\n",
        "x_min, x_max = train_data_stand_lda[:, 0].min() - 1, train_data_stand_lda[:, 0].max() + 1\n",
        "y_min, y_max = train_data_stand_lda[:, 1].min() - 1, train_data_stand_lda[:, 1].max() + 1\n",
        "xx, yy = np.meshgrid(np.arange(x_min, x_max, h),\n",
        "                     np.arange(y_min, y_max, h))\n",
        "Z = kmeans.predict(np.c_[xx.ravel(), yy.ravel()])\n",
        "\n",
        "# Put the result into a color plot\n",
        "Z = Z.reshape(xx.shape)\n",
        "plt.figure()\n",
        "plt.pcolormesh(xx, yy, Z, cmap=cmap_light)\n",
        "\n",
        "\n",
        "# Plot the centroids as a white X\n",
        "centroids = kmeans.cluster_centers_\n",
        "plt.scatter(centroids[:, 0], centroids[:, 1],\n",
        "            marker='x', s=169, linewidths=3,\n",
        "            color='k', zorder=10)\n",
        "\n",
        "# Plot also the training points\n",
        "plt.scatter(train_data_stand_lda[:, 0], train_data_stand_lda[:, 1], c=y, cmap=cmap_bold)\n",
        "plt.xlim(xx.min(), xx.max())\n",
        "plt.ylim(yy.min(), yy.max())\n",
        "plt.title(\"3-Class classification\")\n",
        "\n",
        "plt.show()"
      ],
      "execution_count": 0,
      "outputs": [
        {
          "output_type": "display_data",
          "data": {
            "image/png": "[encoded data removed]",
            "text/plain": [
              "<Figure size 432x288 with 1 Axes>"
            ]
          },
          "metadata": {
            "tags": []
          }
        }
      ]
    },
    {
      "cell_type": "code",
      "metadata": {
        "id": "N2XRX3Ti2yYd",
        "colab_type": "code",
        "colab": {}
      },
      "source": [
        "import pandas as pd\n",
        "import numpy as np\n",
        "import matplotlib.pyplot as plt\n",
        "import scipy"
      ],
      "execution_count": 0,
      "outputs": []
    },
    {
      "cell_type": "code",
      "metadata": {
        "id": "-Ow4A2BHL3h6",
        "colab_type": "code",
        "outputId": "695bef93-263b-4202-e6d3-b4f49dd93424",
        "colab": {
          "base_uri": "https://localhost:8080/",
          "height": 54
        }
      },
      "source": [
        "!pip install python-utils"
      ],
      "execution_count": 2,
      "outputs": [
        {
          "output_type": "stream",
          "text": [
            "Requirement already satisfied: python-utils in /usr/local/lib/python3.6/dist-packages (2.3.0)\n",
            "Requirement already satisfied: six in /usr/local/lib/python3.6/dist-packages (from python-utils) (1.12.0)\n"
          ],
          "name": "stdout"
        }
      ]
    },
    {
      "cell_type": "markdown",
      "metadata": {
        "id": "_DME-inQ4ke_",
        "colab_type": "text"
      },
      "source": [
        "#Load data"
      ]
    },
    {
      "cell_type": "code",
      "metadata": {
        "id": "7Hq45TSf3WcR",
        "colab_type": "code",
        "outputId": "4cd3ef83-c65a-43dc-cc0b-211ff1224a3c",
        "colab": {
          "base_uri": "https://localhost:8080/",
          "height": 147
        }
      },
      "source": [
        "#load data from Drive\n",
        "from google.colab import drive\n",
        "drive.mount('/gdrive')\n",
        "%cd /gdrive"
      ],
      "execution_count": 4,
      "outputs": [
        {
          "output_type": "stream",
          "text": [
            "Go to this URL in a browser: https://accounts.google.com/o/oauth2/auth?client_id=947318989803-6bn6qk8qdgf4n4g3pfee6491hc0brc4i.apps.googleusercontent.com&redirect_uri=urn%3aietf%3awg%3aoauth%3a2.0%3aoob&response_type=code&scope=email%20https%3a%2f%2fwww.googleapis.com%2fauth%2fdocs.test%20https%3a%2f%2fwww.googleapis.com%2fauth%2fdrive%20https%3a%2f%2fwww.googleapis.com%2fauth%2fdrive.photos.readonly%20https%3a%2f%2fwww.googleapis.com%2fauth%2fpeopleapi.readonly\n",
            "\n",
            "Enter your authorization code:\n",
            "··········\n",
            "Mounted at /gdrive\n",
            "/gdrive\n"
          ],
          "name": "stdout"
        }
      ]
    },
    {
      "cell_type": "code",
      "metadata": {
        "id": "UCkUXesZhMzg",
        "colab_type": "code",
        "colab": {}
      },
      "source": [
        "train_dataset_path = '/gdrive/My Drive/AIM_PA/database_training2.csv'\n",
        "test_dataset_path = '/gdrive/My Drive/AIM_PA/database_nostro_without_nan.csv'"
      ],
      "execution_count": 0,
      "outputs": []
    },
    {
      "cell_type": "code",
      "metadata": {
        "id": "TczPxOpEhTXw",
        "colab_type": "code",
        "colab": {}
      },
      "source": [
        "df_train = pd.read_csv(train_dataset_path)\n",
        "df_test = pd.read_csv(test_dataset_path)"
      ],
      "execution_count": 0,
      "outputs": []
    },
    {
      "cell_type": "code",
      "metadata": {
        "id": "9I5MNxeW3j2G",
        "colab_type": "code",
        "colab": {}
      },
      "source": [
        "df_train.rename(columns={'Survival.time (months)':'Surv_time_months'}, inplace=True)"
      ],
      "execution_count": 0,
      "outputs": []
    },
    {
      "cell_type": "code",
      "metadata": {
        "id": "TLxDyFPo3sU9",
        "colab_type": "code",
        "colab": {}
      },
      "source": [
        "df_test.rename(columns={'Survival.time (months)':'Surv_time_months'}, inplace=True)"
      ],
      "execution_count": 0,
      "outputs": []
    },
    {
      "cell_type": "code",
      "metadata": {
        "id": "oXU_B2k03uYa",
        "colab_type": "code",
        "colab": {}
      },
      "source": [
        "df_train.rename(columns={'Overall.Stage':'Overall_Stage'}, inplace=True)\n",
        "df_test.rename(columns={'Overall.Stage':'Overall_Stage'}, inplace=True)"
      ],
      "execution_count": 0,
      "outputs": []
    },
    {
      "cell_type": "code",
      "metadata": {
        "id": "T1YCrOMP3_4q",
        "colab_type": "code",
        "colab": {}
      },
      "source": [
        "train_data = df_train.drop(['Histology', 'Surv_time_months', 'OS', 'deadstatus.event','Overall_Stage'], axis=1)"
      ],
      "execution_count": 0,
      "outputs": []
    },
    {
      "cell_type": "code",
      "metadata": {
        "id": "BWj1mwjV4Mzo",
        "colab_type": "code",
        "colab": {}
      },
      "source": [
        "test_data = df_test.drop(['Histology', 'Surv_time_months', 'OS', 'deadstatus.event','Overall_Stage'], axis=1)"
      ],
      "execution_count": 0,
      "outputs": []
    },
    {
      "cell_type": "code",
      "metadata": {
        "id": "dKdS4Low4PHh",
        "colab_type": "code",
        "colab": {}
      },
      "source": [
        "train_labels = df_train.Histology"
      ],
      "execution_count": 0,
      "outputs": []
    },
    {
      "cell_type": "code",
      "metadata": {
        "id": "K6EsAdEt4RNP",
        "colab_type": "code",
        "colab": {}
      },
      "source": [
        "test_labels = df_test.Histology"
      ],
      "execution_count": 0,
      "outputs": []
    },
    {
      "cell_type": "markdown",
      "metadata": {
        "id": "dtPx7PMDnXM3",
        "colab_type": "text"
      },
      "source": [
        "#Z score dei dati"
      ]
    },
    {
      "cell_type": "code",
      "metadata": {
        "id": "XK4Qji2EnVV4",
        "colab_type": "code",
        "colab": {}
      },
      "source": [
        "mean = train_data.mean(axis=0)\n",
        "train_data_stand = train_data - mean\n",
        "std = train_data.std(axis=0)\n",
        "train_data_stand /= std"
      ],
      "execution_count": 0,
      "outputs": []
    },
    {
      "cell_type": "code",
      "metadata": {
        "id": "YOVOoNOvm0Yx",
        "colab_type": "code",
        "colab": {}
      },
      "source": [
        "test_data_stand = test_data - mean\n",
        "test_data_stand /= std"
      ],
      "execution_count": 0,
      "outputs": []
    },
    {
      "cell_type": "markdown",
      "metadata": {
        "id": "00VohsAyokpq",
        "colab_type": "text"
      },
      "source": [
        "##Vettorizzare i label"
      ]
    },
    {
      "cell_type": "code",
      "metadata": {
        "id": "8RvS_9ISpxRi",
        "colab_type": "code",
        "colab": {}
      },
      "source": [
        "word_index={'adenocarcinoma':0, 'large cell':1, 'squamous cell carcinoma':2}"
      ],
      "execution_count": 0,
      "outputs": []
    },
    {
      "cell_type": "code",
      "metadata": {
        "id": "uiPW9U0XrWY2",
        "colab_type": "code",
        "colab": {}
      },
      "source": [
        "train_labels_dec = [word_index[label] for label in train_labels]"
      ],
      "execution_count": 0,
      "outputs": []
    },
    {
      "cell_type": "code",
      "metadata": {
        "id": "C4SBiKFQsKFw",
        "colab_type": "code",
        "colab": {}
      },
      "source": [
        "test_labels_dec = [word_index[label] for label in test_labels]"
      ],
      "execution_count": 0,
      "outputs": []
    },
    {
      "cell_type": "code",
      "metadata": {
        "id": "0IMbTYR7okJq",
        "colab_type": "code",
        "outputId": "521f85a6-709f-40c5-8df5-0dcc3abbcc06",
        "colab": {
          "base_uri": "https://localhost:8080/",
          "height": 0
        }
      },
      "source": [
        "from keras.utils.np_utils import to_categorical"
      ],
      "execution_count": 19,
      "outputs": [
        {
          "output_type": "stream",
          "text": [
            "Using TensorFlow backend.\n"
          ],
          "name": "stderr"
        },
        {
          "output_type": "display_data",
          "data": {
            "text/html": [
              "<p style=\"color: red;\">\n",
              "The default version of TensorFlow in Colab will soon switch to TensorFlow 2.x.<br>\n",
              "We recommend you <a href=\"https://www.tensorflow.org/guide/migrate\" target=\"_blank\">upgrade</a> now \n",
              "or ensure your notebook will continue to use TensorFlow 1.x via the <code>%tensorflow_version 1.x</code> magic:\n",
              "<a href=\"https://colab.research.google.com/notebooks/tensorflow_version.ipynb\" target=\"_blank\">more info</a>.</p>\n"
            ],
            "text/plain": [
              "<IPython.core.display.HTML object>"
            ]
          },
          "metadata": {
            "tags": []
          }
        }
      ]
    },
    {
      "cell_type": "code",
      "metadata": {
        "id": "0Frv4FDNn6Qu",
        "colab_type": "code",
        "colab": {}
      },
      "source": [
        "one_hot_train_labels = to_categorical(train_labels_dec)\n",
        "one_hot_test_labels = to_categorical(test_labels_dec)"
      ],
      "execution_count": 0,
      "outputs": []
    },
    {
      "cell_type": "markdown",
      "metadata": {
        "id": "Mn0tkOGc3LKN",
        "colab_type": "text"
      },
      "source": [
        "#PCA"
      ]
    },
    {
      "cell_type": "code",
      "metadata": {
        "id": "oS76u6iu3Seg",
        "colab_type": "code",
        "colab": {}
      },
      "source": [
        "from sklearn.decomposition import PCA"
      ],
      "execution_count": 0,
      "outputs": []
    },
    {
      "cell_type": "code",
      "metadata": {
        "id": "KCjC4zqJ3bui",
        "colab_type": "code",
        "colab": {}
      },
      "source": [
        "pca = PCA(n_components=0.9, svd_solver='full')"
      ],
      "execution_count": 0,
      "outputs": []
    },
    {
      "cell_type": "code",
      "metadata": {
        "id": "dLUCf9qX4p_e",
        "colab_type": "code",
        "outputId": "e3c68902-40a2-43a4-9dc6-ffef75ff0783",
        "colab": {
          "base_uri": "https://localhost:8080/",
          "height": 0
        }
      },
      "source": [
        "pca.fit(train_data_stand)"
      ],
      "execution_count": 23,
      "outputs": [
        {
          "output_type": "execute_result",
          "data": {
            "text/plain": [
              "PCA(copy=True, iterated_power='auto', n_components=0.9, random_state=None,\n",
              "    svd_solver='full', tol=0.0, whiten=False)"
            ]
          },
          "metadata": {
            "tags": []
          },
          "execution_count": 23
        }
      ]
    },
    {
      "cell_type": "code",
      "metadata": {
        "id": "QfyaKgNZ44o3",
        "colab_type": "code",
        "colab": {}
      },
      "source": [
        "train_data_stand_pca = pca.transform(train_data_stand)\n",
        "test_data_stand_pca = pca.transform(test_data_stand)"
      ],
      "execution_count": 0,
      "outputs": []
    },
    {
      "cell_type": "code",
      "metadata": {
        "id": "Uz9C4nl05b_g",
        "colab_type": "code",
        "outputId": "3bc8f767-e45a-4e0e-e2a7-a98bf55a353e",
        "colab": {
          "base_uri": "https://localhost:8080/",
          "height": 0
        }
      },
      "source": [
        "train_data_stand_pca.shape"
      ],
      "execution_count": 25,
      "outputs": [
        {
          "output_type": "execute_result",
          "data": {
            "text/plain": [
              "(131, 9)"
            ]
          },
          "metadata": {
            "tags": []
          },
          "execution_count": 25
        }
      ]
    },
    {
      "cell_type": "markdown",
      "metadata": {
        "id": "TfMUCKOw5MUd",
        "colab_type": "text"
      },
      "source": [
        "#Build clustering algorithm "
      ]
    },
    {
      "cell_type": "markdown",
      "metadata": {
        "id": "j-2i_aidHdSl",
        "colab_type": "text"
      },
      "source": [
        "Possiamo descrivere\n",
        "l’algoritmo k-means come un semplice problema di ottimizzazione, un\n",
        "approccio iterativo per minimizzare il valore SSE (sum of squared\n",
        "errors, ovvero la somma degli errori quadratici all’interno del cluster),\n",
        "che viene anche chiamata inerzia del cluster.\n"
      ]
    },
    {
      "cell_type": "code",
      "metadata": {
        "id": "l9ahP75v5LPD",
        "colab_type": "code",
        "colab": {}
      },
      "source": [
        "from sklearn.cluster import KMeans"
      ],
      "execution_count": 0,
      "outputs": []
    },
    {
      "cell_type": "code",
      "metadata": {
        "id": "1GY77JYxitwz",
        "colab_type": "code",
        "colab": {}
      },
      "source": [
        "kmeans = KMeans(n_clusters=3, init='k-means++', random_state=0, n_init=100)"
      ],
      "execution_count": 0,
      "outputs": []
    },
    {
      "cell_type": "code",
      "metadata": {
        "id": "tz82Bp2Ti30_",
        "colab_type": "code",
        "outputId": "9150e040-efb7-413a-a85a-a7d76075db0b",
        "colab": {
          "base_uri": "https://localhost:8080/",
          "height": 72
        }
      },
      "source": [
        "kmeans.fit(train_data_stand_pca)"
      ],
      "execution_count": 28,
      "outputs": [
        {
          "output_type": "execute_result",
          "data": {
            "text/plain": [
              "KMeans(algorithm='auto', copy_x=True, init='k-means++', max_iter=300,\n",
              "       n_clusters=3, n_init=100, n_jobs=None, precompute_distances='auto',\n",
              "       random_state=0, tol=0.0001, verbose=0)"
            ]
          },
          "metadata": {
            "tags": []
          },
          "execution_count": 28
        }
      ]
    },
    {
      "cell_type": "code",
      "metadata": {
        "id": "uRiYcQBIjAJO",
        "colab_type": "code",
        "outputId": "c967ce64-2e79-4be3-ffbd-83d7760a7675",
        "colab": {
          "base_uri": "https://localhost:8080/",
          "height": 146
        }
      },
      "source": [
        "kmeans.labels_"
      ],
      "execution_count": 29,
      "outputs": [
        {
          "output_type": "execute_result",
          "data": {
            "text/plain": [
              "array([1, 2, 1, 2, 1, 1, 2, 1, 2, 0, 1, 2, 2, 2, 0, 1, 0, 2, 1, 2, 2, 1,\n",
              "       1, 2, 2, 2, 1, 2, 0, 1, 0, 1, 1, 2, 1, 1, 1, 1, 2, 2, 2, 2, 1, 2,\n",
              "       0, 1, 2, 0, 0, 2, 0, 1, 1, 0, 0, 2, 0, 1, 2, 1, 1, 2, 1, 1, 2, 2,\n",
              "       1, 2, 0, 1, 2, 1, 2, 1, 1, 0, 0, 1, 0, 1, 1, 2, 2, 0, 0, 1, 0, 2,\n",
              "       1, 2, 1, 1, 1, 0, 0, 1, 1, 1, 1, 1, 1, 0, 1, 0, 1, 1, 1, 2, 2, 2,\n",
              "       1, 0, 1, 1, 1, 1, 0, 2, 1, 1, 1, 1, 1, 2, 1, 2, 1, 1, 0, 2, 1],\n",
              "      dtype=int32)"
            ]
          },
          "metadata": {
            "tags": []
          },
          "execution_count": 29
        }
      ]
    },
    {
      "cell_type": "code",
      "metadata": {
        "id": "zFlNkJsnzL_7",
        "colab_type": "code",
        "outputId": "1d4d3639-6fba-4609-9de0-fc4826620d0c",
        "colab": {
          "base_uri": "https://localhost:8080/",
          "height": 35
        }
      },
      "source": [
        "kmeans.labels_.shape"
      ],
      "execution_count": 30,
      "outputs": [
        {
          "output_type": "execute_result",
          "data": {
            "text/plain": [
              "(131,)"
            ]
          },
          "metadata": {
            "tags": []
          },
          "execution_count": 30
        }
      ]
    },
    {
      "cell_type": "code",
      "metadata": {
        "id": "JhX_o1tjkeb4",
        "colab_type": "code",
        "colab": {}
      },
      "source": [
        "label_predicted = kmeans.predict(train_data_stand_pca)"
      ],
      "execution_count": 0,
      "outputs": []
    },
    {
      "cell_type": "code",
      "metadata": {
        "id": "DHwncgnyyFLl",
        "colab_type": "code",
        "outputId": "0c12d9e4-e12a-43f1-bc8c-bf259e0f2a9d",
        "colab": {
          "base_uri": "https://localhost:8080/",
          "height": 146
        }
      },
      "source": [
        "label_predicted"
      ],
      "execution_count": 32,
      "outputs": [
        {
          "output_type": "execute_result",
          "data": {
            "text/plain": [
              "array([1, 2, 1, 2, 1, 1, 2, 1, 2, 0, 1, 2, 2, 2, 0, 1, 0, 2, 1, 2, 2, 1,\n",
              "       1, 2, 2, 2, 1, 2, 0, 1, 0, 1, 1, 2, 1, 1, 1, 1, 2, 2, 2, 2, 1, 2,\n",
              "       0, 1, 2, 0, 0, 2, 0, 1, 1, 0, 0, 2, 0, 1, 2, 1, 1, 2, 1, 1, 2, 2,\n",
              "       1, 2, 0, 1, 2, 1, 2, 1, 1, 0, 0, 1, 0, 1, 1, 2, 2, 0, 0, 1, 0, 2,\n",
              "       1, 2, 1, 1, 1, 0, 0, 1, 1, 1, 1, 1, 1, 0, 1, 0, 1, 1, 1, 2, 2, 2,\n",
              "       1, 0, 1, 1, 1, 1, 0, 2, 1, 1, 1, 1, 1, 2, 1, 2, 1, 1, 0, 2, 1],\n",
              "      dtype=int32)"
            ]
          },
          "metadata": {
            "tags": []
          },
          "execution_count": 32
        }
      ]
    },
    {
      "cell_type": "code",
      "metadata": {
        "id": "ROMCRwXeH624",
        "colab_type": "code",
        "outputId": "162aaefe-eb70-4dbb-9e43-15688772457b",
        "colab": {
          "base_uri": "https://localhost:8080/",
          "height": 35
        }
      },
      "source": [
        "print(f'Distortion: {kmeans.inertia_}')"
      ],
      "execution_count": 33,
      "outputs": [
        {
          "output_type": "stream",
          "text": [
            "Distortion: 6905.72236996527\n"
          ],
          "name": "stdout"
        }
      ]
    },
    {
      "cell_type": "markdown",
      "metadata": {
        "id": "jxUqPwX6-y2M",
        "colab_type": "text"
      },
      "source": [
        "Sum of squared distances of samples to their closest cluster center"
      ]
    },
    {
      "cell_type": "markdown",
      "metadata": {
        "id": "rMYy3SkXGy44",
        "colab_type": "text"
      },
      "source": [
        "#Metolo Elbow per trovare il numero ottimale di clusters"
      ]
    },
    {
      "cell_type": "markdown",
      "metadata": {
        "id": "nev-QL_cHzbr",
        "colab_type": "text"
      },
      "source": [
        "Non abbiamo bisogno di calcolare esplicitamente il valore SSE, in quanto\n",
        "risulta già accessibile tramite l’attributo inertia_"
      ]
    },
    {
      "cell_type": "markdown",
      "metadata": {
        "id": "CdsfJyThIUSN",
        "colab_type": "text"
      },
      "source": [
        "Sulla base del valore SSE, possiamo utilizzare uno strumento grafico,\n",
        "il cosiddetto metodo Elbow per stimare il numero ottimale di cluster k\n",
        "per un determinato compito. Intuitivamente, possiamo dire che\n",
        "aumentando k si riduce la distorsione. Questo perché i campioni saranno\n",
        "più vicini ai centroidi ai quali sono stati assegnati. L’idea su cui si basa\n",
        "il metodo Elbow è quella di identificare il valore di k in cui la\n",
        "distorsione comincia a crescere più rapidamente."
      ]
    },
    {
      "cell_type": "markdown",
      "metadata": {
        "id": "bDP-Zy3dIafJ",
        "colab_type": "text"
      },
      "source": [
        "Si deve tracciare il grafico della distorsione per più valori\n",
        "di k "
      ]
    },
    {
      "cell_type": "markdown",
      "metadata": {
        "id": "DlNdW0xFPZPS",
        "colab_type": "text"
      },
      "source": [
        "##Train data"
      ]
    },
    {
      "cell_type": "code",
      "metadata": {
        "id": "ZTtiW--uHxMZ",
        "colab_type": "code",
        "outputId": "d01d8495-121e-4521-f894-2c80c818ea42",
        "colab": {
          "base_uri": "https://localhost:8080/",
          "height": 279
        }
      },
      "source": [
        "distortions = []\n",
        "for i in range(1, 11):\n",
        "  km = KMeans(n_clusters=i, init='k-means++', random_state=0)\n",
        "  km.fit(train_data_stand_pca)\n",
        "  distortions.append(km.inertia_)\n",
        "plt.plot(range(1, 11), distortions)\n",
        "plt.xlabel('Number of clusters')\n",
        "plt.ylabel('Distortion')\n",
        "plt.show()"
      ],
      "execution_count": 34,
      "outputs": [
        {
          "output_type": "display_data",
          "data": {
            "image/png": "[encoded data removed]",
            "text/plain": [
              "<Figure size 432x288 with 1 Axes>"
            ]
          },
          "metadata": {
            "tags": []
          }
        }
      ]
    },
    {
      "cell_type": "markdown",
      "metadata": {
        "id": "eJ2MhCCvKrQ4",
        "colab_type": "text"
      },
      "source": [
        "il gomito è situato in k=2, quindi k=2 dovrebbe rapprensentare una buona scelta per questo dataset (purtroppo)"
      ]
    },
    {
      "cell_type": "markdown",
      "metadata": {
        "id": "3rxSU5QEPcPi",
        "colab_type": "text"
      },
      "source": [
        "##Test data"
      ]
    },
    {
      "cell_type": "code",
      "metadata": {
        "id": "M_cb0jWKPezz",
        "colab_type": "code",
        "outputId": "df6310e7-379d-47b7-bedd-084390288ff8",
        "colab": {
          "base_uri": "https://localhost:8080/",
          "height": 280
        }
      },
      "source": [
        "distortions = []\n",
        "for i in range(1, 11):\n",
        "  km = KMeans(n_clusters=i, init='k-means++', random_state=0)\n",
        "  km.fit(test_data_stand_pca)\n",
        "  distortions.append(km.inertia_)\n",
        "plt.plot(range(1, 11), distortions)\n",
        "plt.xlabel('Number of clusters')\n",
        "plt.ylabel('Distortion')\n",
        "plt.show()"
      ],
      "execution_count": 35,
      "outputs": [
        {
          "output_type": "display_data",
          "data": {
            "image/png": "[encoded data removed]",
            "text/plain": [
              "<Figure size 432x288 with 1 Axes>"
            ]
          },
          "metadata": {
            "tags": []
          }
        }
      ]
    },
    {
      "cell_type": "markdown",
      "metadata": {
        "id": "vatcBKgdPl3J",
        "colab_type": "text"
      },
      "source": [
        "Forse qui viene bene la divisione in 3 clusters"
      ]
    },
    {
      "cell_type": "markdown",
      "metadata": {
        "id": "bleZ-PlwLhV1",
        "colab_type": "text"
      },
      "source": [
        "#Grafici a Silhouettes\n"
      ]
    },
    {
      "cell_type": "markdown",
      "metadata": {
        "id": "nYOGERmnlEqT",
        "colab_type": "text"
      },
      "source": [
        "Un’altra metrica intrinseca per valutare la qualità di un clustering è\n",
        "l’analisi della silhouet​te, che può essere applicata anche ad algoritmi di\n",
        "clustering diversi da k-means. L’analisi della silhouette può essere utilizzata come strumento grafico per tracciare una misura della qualità con cui i campioni si raggruppano all’interno dei cluster."
      ]
    },
    {
      "cell_type": "markdown",
      "metadata": {
        "id": "6JTrHHmlmq9P",
        "colab_type": "text"
      },
      "source": [
        "Il coefficiente di silhouette è limitato dall’intervallo da -1 a 1, il valore ideale è 1."
      ]
    },
    {
      "cell_type": "markdown",
      "metadata": {
        "id": "JICItEIqmzuD",
        "colab_type": "text"
      },
      "source": [
        "Il coefficiente di silhouette è disponibile come silhouette_samples dal\n",
        "modulo metric di scikit-learn e, opzionalmente, può essere importato\n",
        "silhouette_scores. PAG 446 Raschka."
      ]
    },
    {
      "cell_type": "code",
      "metadata": {
        "id": "DCdqoYAZIkIQ",
        "colab_type": "code",
        "colab": {}
      },
      "source": [
        "from matplotlib import cm\n",
        "from sklearn.metrics import silhouette_samples"
      ],
      "execution_count": 0,
      "outputs": []
    },
    {
      "cell_type": "code",
      "metadata": {
        "id": "MSXvxzHIp2fl",
        "colab_type": "code",
        "colab": {}
      },
      "source": [
        "cluster_labels = np.unique(label_predicted)"
      ],
      "execution_count": 0,
      "outputs": []
    },
    {
      "cell_type": "code",
      "metadata": {
        "id": "TyYyDPBCsF0Y",
        "colab_type": "code",
        "outputId": "05f3b14d-b8eb-4e94-9bfd-cae3bb4cbaba",
        "colab": {
          "base_uri": "https://localhost:8080/",
          "height": 35
        }
      },
      "source": [
        "cluster_labels"
      ],
      "execution_count": 38,
      "outputs": [
        {
          "output_type": "execute_result",
          "data": {
            "text/plain": [
              "array([0, 1, 2], dtype=int32)"
            ]
          },
          "metadata": {
            "tags": []
          },
          "execution_count": 38
        }
      ]
    },
    {
      "cell_type": "code",
      "metadata": {
        "id": "2L6gt67HqPLs",
        "colab_type": "code",
        "colab": {}
      },
      "source": [
        "n_cluster = cluster_labels.shape[0]"
      ],
      "execution_count": 0,
      "outputs": []
    },
    {
      "cell_type": "code",
      "metadata": {
        "id": "iyreH_eWqQEe",
        "colab_type": "code",
        "colab": {}
      },
      "source": [
        "silhouette_vals = silhouette_samples(train_data_stand_pca, label_predicted, metric='euclidean')"
      ],
      "execution_count": 0,
      "outputs": []
    },
    {
      "cell_type": "code",
      "metadata": {
        "id": "hnAHnRztqhKT",
        "colab_type": "code",
        "outputId": "ba476a4b-3e66-4546-d2d7-89b865bfa928",
        "colab": {
          "base_uri": "https://localhost:8080/",
          "height": 35
        }
      },
      "source": [
        "silhouette_vals.shape"
      ],
      "execution_count": 41,
      "outputs": [
        {
          "output_type": "execute_result",
          "data": {
            "text/plain": [
              "(131,)"
            ]
          },
          "metadata": {
            "tags": []
          },
          "execution_count": 41
        }
      ]
    },
    {
      "cell_type": "code",
      "metadata": {
        "id": "ym3EFsxgq8_4",
        "colab_type": "code",
        "colab": {}
      },
      "source": [
        "y_ax_lower, y_ax_upper = 0, 0 "
      ],
      "execution_count": 0,
      "outputs": []
    },
    {
      "cell_type": "code",
      "metadata": {
        "id": "9ALGMlL2rWC6",
        "colab_type": "code",
        "colab": {}
      },
      "source": [
        "yticks = []"
      ],
      "execution_count": 0,
      "outputs": []
    },
    {
      "cell_type": "code",
      "metadata": {
        "id": "aCsLsSGmrZPu",
        "colab_type": "code",
        "outputId": "7d91768c-baeb-4ad3-cecc-91ad1e7540c7",
        "colab": {
          "base_uri": "https://localhost:8080/",
          "height": 279
        }
      },
      "source": [
        "for i, c in enumerate(cluster_labels):\n",
        "  c_silhouette_vals = silhouette_vals[label_predicted == c]\n",
        "  c_silhouette_vals.sort()\n",
        "  y_ax_upper += len(c_silhouette_vals)\n",
        "  color = cm.jet(i/n_cluster)\n",
        "  plt.barh(range(y_ax_lower, y_ax_upper), c_silhouette_vals, height=1.0, \n",
        "           edgecolor='none', color=color)\n",
        "  yticks.append((y_ax_lower + y_ax_upper)/2)\n",
        "  y_ax_lower += len(c_silhouette_vals)\n",
        "\n",
        "silhouette_avg = np.mean(silhouette_vals)\n",
        "plt.axvline(silhouette_avg, color='red', linestyle='--')\n",
        "plt.yticks(yticks, cluster_labels+1)\n",
        "plt.ylabel('Cluster')\n",
        "plt.xlabel('Silhouette coefficient')\n",
        "plt.show()"
      ],
      "execution_count": 44,
      "outputs": [
        {
          "output_type": "display_data",
          "data": {
            "image/png": "[encoded data removed]",
            "text/plain": [
              "<Figure size 432x288 with 1 Axes>"
            ]
          },
          "metadata": {
            "tags": []
          }
        }
      ]
    },
    {
      "cell_type": "markdown",
      "metadata": {
        "id": "pO0vKIrO5-o0",
        "colab_type": "text"
      },
      "source": [
        "Silhouette analysis can be used to study the separation distance between the resulting clusters. The silhouette plot displays a measure of how close each point in one cluster is to points in the neighboring clusters and thus provides a way to assess parameters like number of clusters visually. This measure has a range of [-1, 1]."
      ]
    },
    {
      "cell_type": "markdown",
      "metadata": {
        "id": "qroxMh-M6AXV",
        "colab_type": "text"
      },
      "source": [
        "Silhouette coefficients (as these values are referred to as) near +1 indicate that the sample is far away from the neighboring clusters. A value of 0 indicates that the sample is on or very close to the decision boundary between two neighboring clusters and negative values indicate that those samples might have been assigned to the wrong cluster."
      ]
    },
    {
      "cell_type": "markdown",
      "metadata": {
        "id": "23hSRCAoGhZW",
        "colab_type": "text"
      },
      "source": [
        "#LDA"
      ]
    },
    {
      "cell_type": "code",
      "metadata": {
        "id": "hYTGbSu22w34",
        "colab_type": "code",
        "colab": {}
      },
      "source": [
        "from sklearn.discriminant_analysis import LinearDiscriminantAnalysis"
      ],
      "execution_count": 0,
      "outputs": []
    },
    {
      "cell_type": "code",
      "metadata": {
        "id": "TMCI-ALj23N1",
        "colab_type": "code",
        "colab": {}
      },
      "source": [
        "lda = LinearDiscriminantAnalysis(n_components=3)"
      ],
      "execution_count": 0,
      "outputs": []
    },
    {
      "cell_type": "code",
      "metadata": {
        "id": "EqcJWjWj3rvS",
        "colab_type": "code",
        "outputId": "af95a95d-70cf-4d53-9e87-037acdcf14b3",
        "colab": {
          "base_uri": "https://localhost:8080/",
          "height": 110
        }
      },
      "source": [
        "train_data_stand_lda = lda.fit(train_data_stand, train_labels_dec).transform(train_data_stand)"
      ],
      "execution_count": 47,
      "outputs": [
        {
          "output_type": "stream",
          "text": [
            "/usr/local/lib/python3.6/dist-packages/sklearn/discriminant_analysis.py:463: ChangedBehaviorWarning: n_components cannot be larger than min(n_features, n_classes - 1). Using min(n_features, n_classes - 1) = min(107, 3 - 1) = 2 components.\n",
            "  ChangedBehaviorWarning)\n",
            "/usr/local/lib/python3.6/dist-packages/sklearn/discriminant_analysis.py:469: FutureWarning: In version 0.23, setting n_components > min(n_features, n_classes - 1) will raise a ValueError. You should set n_components to None (default), or a value smaller or equal to min(n_features, n_classes - 1).\n",
            "  warnings.warn(future_msg, FutureWarning)\n"
          ],
          "name": "stderr"
        }
      ]
    },
    {
      "cell_type": "code",
      "metadata": {
        "id": "3opFZvVx45TC",
        "colab_type": "code",
        "outputId": "a9634029-2f2a-46c8-c7b6-0db97bab416d",
        "colab": {
          "base_uri": "https://localhost:8080/",
          "height": 35
        }
      },
      "source": [
        "train_data_stand_lda.shape"
      ],
      "execution_count": 48,
      "outputs": [
        {
          "output_type": "execute_result",
          "data": {
            "text/plain": [
              "(131, 2)"
            ]
          },
          "metadata": {
            "tags": []
          },
          "execution_count": 48
        }
      ]
    },
    {
      "cell_type": "code",
      "metadata": {
        "id": "cjpMHM6iqbbC",
        "colab_type": "code",
        "colab": {}
      },
      "source": [
        "test_data_stand_lda = lda.transform(test_data_stand)"
      ],
      "execution_count": 0,
      "outputs": []
    },
    {
      "cell_type": "markdown",
      "metadata": {
        "colab_type": "text",
        "id": "nu1Yj3AUoMK5"
      },
      "source": [
        "#Build clustering algorithm "
      ]
    },
    {
      "cell_type": "markdown",
      "metadata": {
        "colab_type": "text",
        "id": "3peL0dL5oMK3"
      },
      "source": [
        "Possiamo descrivere\n",
        "l’algoritmo k-means come un semplice problema di ottimizzazione, un\n",
        "approccio iterativo per minimizzare il valore SSE (sum of squared\n",
        "errors, ovvero la somma degli errori quadratici all’interno del cluster),\n",
        "che viene anche chiamata inerzia del cluster.\n"
      ]
    },
    {
      "cell_type": "code",
      "metadata": {
        "colab_type": "code",
        "id": "K_scuri-oMKv",
        "colab": {}
      },
      "source": [
        "from sklearn.cluster import KMeans"
      ],
      "execution_count": 0,
      "outputs": []
    },
    {
      "cell_type": "code",
      "metadata": {
        "colab_type": "code",
        "id": "rEyksIPIoMKn",
        "colab": {}
      },
      "source": [
        "kmeans = KMeans(n_clusters=3, init='k-means++', random_state=0, n_init=100)"
      ],
      "execution_count": 0,
      "outputs": []
    },
    {
      "cell_type": "code",
      "metadata": {
        "colab_type": "code",
        "outputId": "81648dd5-556b-48e6-a038-2bd0c4ab66ce",
        "id": "e9Kwyc4zoMKe",
        "colab": {
          "base_uri": "https://localhost:8080/",
          "height": 72
        }
      },
      "source": [
        "kmeans.fit(train_data_stand_lda)"
      ],
      "execution_count": 81,
      "outputs": [
        {
          "output_type": "execute_result",
          "data": {
            "text/plain": [
              "KMeans(algorithm='auto', copy_x=True, init='k-means++', max_iter=300,\n",
              "       n_clusters=3, n_init=100, n_jobs=None, precompute_distances='auto',\n",
              "       random_state=0, tol=0.0001, verbose=0)"
            ]
          },
          "metadata": {
            "tags": []
          },
          "execution_count": 81
        }
      ]
    },
    {
      "cell_type": "code",
      "metadata": {
        "colab_type": "code",
        "id": "lUU7oLumoMKT",
        "colab": {}
      },
      "source": [
        "label_predicted = kmeans.predict(train_data_stand_lda)"
      ],
      "execution_count": 0,
      "outputs": []
    },
    {
      "cell_type": "code",
      "metadata": {
        "colab_type": "code",
        "outputId": "e1782c93-e89b-4263-d20a-92b312f3c686",
        "id": "5ap6UWj3oMJ-",
        "colab": {
          "base_uri": "https://localhost:8080/",
          "height": 35
        }
      },
      "source": [
        "print(f'Distortion: {kmeans.inertia_}')"
      ],
      "execution_count": 83,
      "outputs": [
        {
          "output_type": "stream",
          "text": [
            "Distortion: 253.8069333171171\n"
          ],
          "name": "stdout"
        }
      ]
    },
    {
      "cell_type": "markdown",
      "metadata": {
        "colab_type": "text",
        "id": "b1YhD8DXoMJn"
      },
      "source": [
        "Sum of squared distances of samples to their closest cluster center"
      ]
    },
    {
      "cell_type": "markdown",
      "metadata": {
        "colab_type": "text",
        "id": "4sx2Rkbqp0P5"
      },
      "source": [
        "#Metolo Elbow per trovare il numero ottimale di clusters"
      ]
    },
    {
      "cell_type": "markdown",
      "metadata": {
        "colab_type": "text",
        "id": "GWzpJFijp0QG"
      },
      "source": [
        "Non abbiamo bisogno di calcolare esplicitamente il valore SSE, in quanto\n",
        "risulta già accessibile tramite l’attributo inertia_"
      ]
    },
    {
      "cell_type": "markdown",
      "metadata": {
        "colab_type": "text",
        "id": "c-RPzTf3p0QR"
      },
      "source": [
        "Sulla base del valore SSE, possiamo utilizzare uno strumento grafico,\n",
        "il cosiddetto metodo Elbow per stimare il numero ottimale di cluster k\n",
        "per un determinato compito. Intuitivamente, possiamo dire che\n",
        "aumentando k si riduce la distorsione. Questo perché i campioni saranno\n",
        "più vicini ai centroidi ai quali sono stati assegnati. L’idea su cui si basa\n",
        "il metodo Elbow è quella di identificare il valore di k in cui la\n",
        "distorsione comincia a crescere più rapidamente."
      ]
    },
    {
      "cell_type": "markdown",
      "metadata": {
        "colab_type": "text",
        "id": "_o7Yxkdkp0QX"
      },
      "source": [
        "Si deve tracciare il grafico della distorsione per più valori\n",
        "di k "
      ]
    },
    {
      "cell_type": "markdown",
      "metadata": {
        "colab_type": "text",
        "id": "D-KAXsO3p0Qb"
      },
      "source": [
        "##Train data"
      ]
    },
    {
      "cell_type": "code",
      "metadata": {
        "colab_type": "code",
        "outputId": "bdc363f3-f3fa-48e2-819f-bf09a4bb213a",
        "id": "BCFqp5uYp0Qg",
        "colab": {
          "base_uri": "https://localhost:8080/",
          "height": 279
        }
      },
      "source": [
        "distortions = []\n",
        "for i in range(1, 11):\n",
        "  km = KMeans(n_clusters=i, init='k-means++', random_state=0, n_init=100)\n",
        "  km.fit(train_data_stand_lda)\n",
        "  distortions.append(km.inertia_)\n",
        "plt.plot(range(1, 11), distortions)\n",
        "plt.xlabel('Number of clusters')\n",
        "plt.ylabel('Distortion')\n",
        "plt.show()"
      ],
      "execution_count": 84,
      "outputs": [
        {
          "output_type": "display_data",
          "data": {
            "image/png": "[encoded data removed]",
            "text/plain": [
              "<Figure size 432x288 with 1 Axes>"
            ]
          },
          "metadata": {
            "tags": []
          }
        }
      ]
    },
    {
      "cell_type": "markdown",
      "metadata": {
        "colab_type": "text",
        "id": "WCQRVQM8p0Qp"
      },
      "source": [
        "il gomito è situato in k=3, quindi k=3 dovrebbe rapprensentare una buona scelta per questo dataset, usando LDA."
      ]
    },
    {
      "cell_type": "markdown",
      "metadata": {
        "colab_type": "text",
        "id": "R0YtbHtAp0Qq"
      },
      "source": [
        "##Test data"
      ]
    },
    {
      "cell_type": "code",
      "metadata": {
        "colab_type": "code",
        "outputId": "6006284e-be6d-4069-f0bb-58977d02dc01",
        "id": "W_l4TU_sp0Qs",
        "colab": {
          "base_uri": "https://localhost:8080/",
          "height": 279
        }
      },
      "source": [
        "distortions = []\n",
        "for i in range(1, 11):\n",
        "  km = KMeans(n_clusters=i, init='k-means++', random_state=0, n_init=100)\n",
        "  km.fit(test_data_stand_lda)\n",
        "  distortions.append(km.inertia_)\n",
        "plt.plot(range(1, 11), distortions)\n",
        "plt.xlabel('Number of clusters')\n",
        "plt.ylabel('Distortion')\n",
        "plt.show()"
      ],
      "execution_count": 85,
      "outputs": [
        {
          "output_type": "display_data",
          "data": {
            "image/png": "[encoded data removed]",
            "text/plain": [
              "<Figure size 432x288 with 1 Axes>"
            ]
          },
          "metadata": {
            "tags": []
          }
        }
      ]
    },
    {
      "cell_type": "markdown",
      "metadata": {
        "colab_type": "text",
        "id": "Tmqv7Ceip0Qy"
      },
      "source": [
        "Forse qui viene bene la divisione in 3 clusters"
      ]
    },
    {
      "cell_type": "markdown",
      "metadata": {
        "colab_type": "text",
        "id": "RqqL0Cfzqa_d"
      },
      "source": [
        "#Grafici a Silhouettes\n"
      ]
    },
    {
      "cell_type": "markdown",
      "metadata": {
        "colab_type": "text",
        "id": "x74YOM3Tqa_r"
      },
      "source": [
        "Un’altra metrica intrinseca per valutare la qualità di un clustering è\n",
        "l’analisi della silhouet​te, che può essere applicata anche ad algoritmi di\n",
        "clustering diversi da k-means. L’analisi della silhouette può essere utilizzata come strumento grafico per tracciare una misura della qualità con cui i campioni si raggruppano all’interno dei cluster."
      ]
    },
    {
      "cell_type": "markdown",
      "metadata": {
        "colab_type": "text",
        "id": "BvMNFLiJqa_y"
      },
      "source": [
        "Il coefficiente di silhouette è limitato dall’intervallo da -1 a 1, il valore ideale è 1."
      ]
    },
    {
      "cell_type": "markdown",
      "metadata": {
        "colab_type": "text",
        "id": "wIdyKjNEqa_1"
      },
      "source": [
        "Il coefficiente di silhouette è disponibile come silhouette_samples dal\n",
        "modulo metric di scikit-learn e, opzionalmente, può essere importato\n",
        "silhouette_scores. PAG 446 Raschka."
      ]
    },
    {
      "cell_type": "code",
      "metadata": {
        "colab_type": "code",
        "id": "7lyvJldiqa_5",
        "colab": {}
      },
      "source": [
        "from matplotlib import cm\n",
        "from sklearn.metrics import silhouette_samples"
      ],
      "execution_count": 0,
      "outputs": []
    },
    {
      "cell_type": "code",
      "metadata": {
        "colab_type": "code",
        "id": "z1C5YAIXqbAF",
        "colab": {}
      },
      "source": [
        "cluster_labels = np.unique(label_predicted)"
      ],
      "execution_count": 0,
      "outputs": []
    },
    {
      "cell_type": "code",
      "metadata": {
        "colab_type": "code",
        "outputId": "0e4a03c6-55dd-4517-a4ec-76d92fbc1ed1",
        "id": "s9eKaM6DqbAM",
        "colab": {
          "base_uri": "https://localhost:8080/",
          "height": 35
        }
      },
      "source": [
        "cluster_labels"
      ],
      "execution_count": 87,
      "outputs": [
        {
          "output_type": "execute_result",
          "data": {
            "text/plain": [
              "array([0, 1, 2], dtype=int32)"
            ]
          },
          "metadata": {
            "tags": []
          },
          "execution_count": 87
        }
      ]
    },
    {
      "cell_type": "code",
      "metadata": {
        "colab_type": "code",
        "id": "ndX3WSxPqbAU",
        "colab": {}
      },
      "source": [
        "n_cluster = cluster_labels.shape[0]"
      ],
      "execution_count": 0,
      "outputs": []
    },
    {
      "cell_type": "code",
      "metadata": {
        "colab_type": "code",
        "id": "HEUcjBxzqbAa",
        "colab": {}
      },
      "source": [
        "silhouette_vals = silhouette_samples(train_data_stand_lda, label_predicted, metric='euclidean')"
      ],
      "execution_count": 0,
      "outputs": []
    },
    {
      "cell_type": "code",
      "metadata": {
        "colab_type": "code",
        "outputId": "d93bc5a5-0fc3-4d6b-f5ab-022b3f24d6d6",
        "id": "2Kd86SO7qbAh",
        "colab": {
          "base_uri": "https://localhost:8080/",
          "height": 35
        }
      },
      "source": [
        "silhouette_vals.shape"
      ],
      "execution_count": 90,
      "outputs": [
        {
          "output_type": "execute_result",
          "data": {
            "text/plain": [
              "(131,)"
            ]
          },
          "metadata": {
            "tags": []
          },
          "execution_count": 90
        }
      ]
    },
    {
      "cell_type": "code",
      "metadata": {
        "colab_type": "code",
        "id": "2hVeFjouqbAl",
        "colab": {}
      },
      "source": [
        "y_ax_lower, y_ax_upper = 0, 0 "
      ],
      "execution_count": 0,
      "outputs": []
    },
    {
      "cell_type": "code",
      "metadata": {
        "colab_type": "code",
        "id": "pBdOi_zoqbAt",
        "colab": {}
      },
      "source": [
        "yticks = []"
      ],
      "execution_count": 0,
      "outputs": []
    },
    {
      "cell_type": "code",
      "metadata": {
        "colab_type": "code",
        "outputId": "08de7ed9-e40b-41f3-8cb7-bcfe227ded47",
        "id": "vUTFiRV7qbAy",
        "colab": {
          "base_uri": "https://localhost:8080/",
          "height": 279
        }
      },
      "source": [
        "for i, c in enumerate(cluster_labels):\n",
        "  c_silhouette_vals = silhouette_vals[label_predicted == c]\n",
        "  c_silhouette_vals.sort()\n",
        "  y_ax_upper += len(c_silhouette_vals)\n",
        "  color = cm.jet(i/n_cluster)\n",
        "  plt.barh(range(y_ax_lower, y_ax_upper), c_silhouette_vals, height=1.0, \n",
        "           edgecolor='none', color=color)\n",
        "  yticks.append((y_ax_lower + y_ax_upper)/2)\n",
        "  y_ax_lower += len(c_silhouette_vals)\n",
        "\n",
        "silhouette_avg = np.mean(silhouette_vals)\n",
        "plt.axvline(silhouette_avg, color='red', linestyle='--')\n",
        "plt.yticks(yticks, cluster_labels+1)\n",
        "plt.ylabel('Cluster')\n",
        "plt.xlabel('Silhouette coefficient')\n",
        "plt.show()"
      ],
      "execution_count": 93,
      "outputs": [
        {
          "output_type": "display_data",
          "data": {
            "image/png": "[encoded data removed]",
            "text/plain": [
              "<Figure size 432x288 with 1 Axes>"
            ]
          },
          "metadata": {
            "tags": []
          }
        }
      ]
    },
    {
      "cell_type": "markdown",
      "metadata": {
        "colab_type": "text",
        "id": "oZltek7rqbA4"
      },
      "source": [
        "Silhouette analysis can be used to study the separation distance between the resulting clusters. The silhouette plot displays a measure of how close each point in one cluster is to points in the neighboring clusters and thus provides a way to assess parameters like number of clusters visually. This measure has a range of [-1, 1]."
      ]
    },
    {
      "cell_type": "markdown",
      "metadata": {
        "colab_type": "text",
        "id": "vWfrNpolqbA6"
      },
      "source": [
        "Silhouette coefficients (as these values are referred to as) near +1 indicate that the sample is far away from the neighboring clusters. A value of 0 indicates that the sample is on or very close to the decision boundary between two neighboring clusters and negative values indicate that those samples might have been assigned to the wrong cluster."
      ]
    },
    {
      "cell_type": "markdown",
      "metadata": {
        "id": "0X3epc3_eY_B",
        "colab_type": "text"
      },
      "source": [
        "#Boundaries Plot"
      ]
    },
    {
      "cell_type": "markdown",
      "metadata": {
        "id": "jgcnJLBPlHxM",
        "colab_type": "text"
      },
      "source": [
        "##Train data"
      ]
    },
    {
      "cell_type": "code",
      "metadata": {
        "id": "EdE5u0k8Sx1x",
        "colab_type": "code",
        "outputId": "d54c0036-eb58-468c-e616-2171f67318b6",
        "colab": {
          "base_uri": "https://localhost:8080/",
          "height": 281
        }
      },
      "source": [
        "from matplotlib.colors import ListedColormap\n",
        "\n",
        "y = train_labels_dec\n",
        "\n",
        "h = .02  # step size in the mesh\n",
        "\n",
        "# Create color maps\n",
        "cmap_light = ListedColormap(['#FFAAAA', '#AAFFAA', '#AAAAFF'])\n",
        "cmap_bold = ListedColormap(['#FF0000', '#00FF00', '#0000FF'])\n",
        "\n",
        "#Plot the decision boundary. For that, we will assign a color to each\n",
        "# point in the mesh [x_min, x_max]x[y_min, y_max].\n",
        "x_min, x_max = train_data_stand_lda[:, 0].min() - 1, train_data_stand_lda[:, 0].max() + 1\n",
        "y_min, y_max = train_data_stand_lda[:, 1].min() - 1, train_data_stand_lda[:, 1].max() + 1\n",
        "xx, yy = np.meshgrid(np.arange(x_min, x_max, h),\n",
        "                     np.arange(y_min, y_max, h))\n",
        "Z = kmeans.predict(np.c_[xx.ravel(), yy.ravel()])\n",
        "\n",
        "# Put the result into a color plot\n",
        "Z = Z.reshape(xx.shape)\n",
        "plt.figure()\n",
        "plt.pcolormesh(xx, yy, Z, cmap=cmap_light)\n",
        "\n",
        "\n",
        "# Plot the centroids as a white X\n",
        "centroids = kmeans.cluster_centers_\n",
        "plt.scatter(centroids[:, 0], centroids[:, 1],\n",
        "            marker='x', s=169, linewidths=3,\n",
        "            color='k', zorder=10)\n",
        "\n",
        "# Plot also the training points\n",
        "plt.scatter(train_data_stand_lda[:, 0], train_data_stand_lda[:, 1], c=y, cmap=cmap_bold)\n",
        "plt.xlim(xx.min(), xx.max())\n",
        "plt.ylim(yy.min(), yy.max())\n",
        "plt.title(\"3-Class classification\")\n",
        "\n",
        "plt.show()"
      ],
      "execution_count": 62,
      "outputs": [
        {
          "output_type": "display_data",
          "data": {
            "image/png": "[encoded data removed]",
            "text/plain": [
              "<Figure size 432x288 with 1 Axes>"
            ]
          },
          "metadata": {
            "tags": []
          }
        }
      ]
    },
    {
      "cell_type": "markdown",
      "metadata": {
        "colab_type": "text",
        "id": "8wQ_SVcWnHX4"
      },
      "source": [
        "##Predicted data"
      ]
    },
    {
      "cell_type": "code",
      "metadata": {
        "colab_type": "code",
        "outputId": "6076b3f4-76d3-442d-dd7a-6b596ae7e5fa",
        "id": "0DjgQxoGnWk7",
        "colab": {
          "base_uri": "https://localhost:8080/",
          "height": 281
        }
      },
      "source": [
        "from matplotlib.colors import ListedColormap\n",
        "\n",
        "y = label_predicted\n",
        "\n",
        "h = .02  # step size in the mesh\n",
        "\n",
        "# Create color maps\n",
        "cmap_light = ListedColormap(['#FFAAAA', '#AAFFAA', '#AAAAFF'])\n",
        "cmap_bold = ListedColormap(['#FF0000', '#00FF00', '#0000FF'])\n",
        "\n",
        "#Plot the decision boundary. For that, we will assign a color to each\n",
        "# point in the mesh [x_min, x_max]x[y_min, y_max].\n",
        "x_min, x_max = train_data_stand_lda[:, 0].min() - 1, train_data_stand_lda[:, 0].max() + 1\n",
        "y_min, y_max = train_data_stand_lda[:, 1].min() - 1, train_data_stand_lda[:, 1].max() + 1\n",
        "xx, yy = np.meshgrid(np.arange(x_min, x_max, h),\n",
        "                     np.arange(y_min, y_max, h))\n",
        "Z = kmeans.predict(np.c_[xx.ravel(), yy.ravel()])\n",
        "\n",
        "# Put the result into a color plot\n",
        "Z = Z.reshape(xx.shape)\n",
        "plt.figure()\n",
        "plt.pcolormesh(xx, yy, Z, cmap=cmap_light)\n",
        "\n",
        "\n",
        "# Plot the centroids as a white X\n",
        "centroids = kmeans.cluster_centers_\n",
        "plt.scatter(centroids[:, 0], centroids[:, 1],\n",
        "            marker='x', s=169, linewidths=3,\n",
        "            color='k', zorder=10)\n",
        "\n",
        "# Plot also the training points\n",
        "plt.scatter(train_data_stand_lda[:, 0], train_data_stand_lda[:, 1], c=y, cmap=cmap_bold)\n",
        "plt.xlim(xx.min(), xx.max())\n",
        "plt.ylim(yy.min(), yy.max())\n",
        "plt.title(\"3-Class classification\")\n",
        "\n",
        "plt.show()"
      ],
      "execution_count": 0,
      "outputs": [
        {
          "output_type": "display_data",
          "data": {
            "image/png": "[encoded data removed]",
            "text/plain": [
              "<Figure size 432x288 with 1 Axes>"
            ]
          },
          "metadata": {
            "tags": []
          }
        }
      ]
    },
    {
      "cell_type": "markdown",
      "metadata": {
        "id": "Blf9vhRooCAM",
        "colab_type": "text"
      },
      "source": [
        "#Build clustering algorithm test data"
      ]
    },
    {
      "cell_type": "markdown",
      "metadata": {
        "colab_type": "text",
        "id": "-2ZsTjlnoREx"
      },
      "source": [
        "Possiamo descrivere\n",
        "l’algoritmo k-means come un semplice problema di ottimizzazione, un\n",
        "approccio iterativo per minimizzare il valore SSE (sum of squared\n",
        "errors, ovvero la somma degli errori quadratici all’interno del cluster),\n",
        "che viene anche chiamata inerzia del cluster.\n"
      ]
    },
    {
      "cell_type": "code",
      "metadata": {
        "colab_type": "code",
        "id": "eXXP3ZnAoRE4",
        "colab": {}
      },
      "source": [
        "from sklearn.cluster import KMeans"
      ],
      "execution_count": 0,
      "outputs": []
    },
    {
      "cell_type": "code",
      "metadata": {
        "colab_type": "code",
        "id": "z-OmllFioRFE",
        "colab": {}
      },
      "source": [
        "kmeans = KMeans(n_clusters=3, init='k-means++', random_state=0, n_init=100)"
      ],
      "execution_count": 0,
      "outputs": []
    },
    {
      "cell_type": "code",
      "metadata": {
        "colab_type": "code",
        "outputId": "97c4c888-6469-459e-d708-6f36bf75e4e4",
        "id": "YbIAlapMoRFK",
        "colab": {
          "base_uri": "https://localhost:8080/",
          "height": 72
        }
      },
      "source": [
        "kmeans.fit(test_data_stand_lda)"
      ],
      "execution_count": 96,
      "outputs": [
        {
          "output_type": "execute_result",
          "data": {
            "text/plain": [
              "KMeans(algorithm='auto', copy_x=True, init='k-means++', max_iter=300,\n",
              "       n_clusters=3, n_init=100, n_jobs=None, precompute_distances='auto',\n",
              "       random_state=0, tol=0.0001, verbose=0)"
            ]
          },
          "metadata": {
            "tags": []
          },
          "execution_count": 96
        }
      ]
    },
    {
      "cell_type": "code",
      "metadata": {
        "colab_type": "code",
        "id": "czCXz3DaoRFS",
        "colab": {}
      },
      "source": [
        "label_predicted = kmeans.predict(test_data_stand_lda)"
      ],
      "execution_count": 0,
      "outputs": []
    },
    {
      "cell_type": "code",
      "metadata": {
        "colab_type": "code",
        "outputId": "4f042a2a-0cf9-481b-dc6b-4d1d38e114dd",
        "id": "r300PZrtoRFZ",
        "colab": {
          "base_uri": "https://localhost:8080/",
          "height": 35
        }
      },
      "source": [
        "print(f'Distortion: {kmeans.inertia_}')"
      ],
      "execution_count": 98,
      "outputs": [
        {
          "output_type": "stream",
          "text": [
            "Distortion: 16121.94995244878\n"
          ],
          "name": "stdout"
        }
      ]
    },
    {
      "cell_type": "markdown",
      "metadata": {
        "colab_type": "text",
        "id": "VkU7vOn2oRFe"
      },
      "source": [
        "Sum of squared distances of samples to their closest cluster center"
      ]
    },
    {
      "cell_type": "markdown",
      "metadata": {
        "colab_type": "text",
        "id": "1yHpSHNSsLMz"
      },
      "source": [
        "##Gafici a Silhouettes test data"
      ]
    },
    {
      "cell_type": "code",
      "metadata": {
        "colab_type": "code",
        "outputId": "e0d91ac2-c30b-44fe-f1fa-d2313b9ea4b5",
        "id": "8q-6yRG8sLNd",
        "colab": {
          "base_uri": "https://localhost:8080/",
          "height": 35
        }
      },
      "source": [
        "cluster_labels"
      ],
      "execution_count": 99,
      "outputs": [
        {
          "output_type": "execute_result",
          "data": {
            "text/plain": [
              "array([0, 1, 2], dtype=int32)"
            ]
          },
          "metadata": {
            "tags": []
          },
          "execution_count": 99
        }
      ]
    },
    {
      "cell_type": "code",
      "metadata": {
        "colab_type": "code",
        "id": "ofHjViB1sLNl",
        "colab": {}
      },
      "source": [
        "n_cluster = cluster_labels.shape[0]"
      ],
      "execution_count": 0,
      "outputs": []
    },
    {
      "cell_type": "code",
      "metadata": {
        "colab_type": "code",
        "id": "NDFkk86RsLNt",
        "colab": {}
      },
      "source": [
        "silhouette_vals = silhouette_samples(test_data_stand_lda, label_predicted, metric='euclidean')"
      ],
      "execution_count": 0,
      "outputs": []
    },
    {
      "cell_type": "code",
      "metadata": {
        "colab_type": "code",
        "outputId": "a8423e26-03ea-4321-af59-9e931601bf6e",
        "id": "aeTjjFcCsLNz",
        "colab": {
          "base_uri": "https://localhost:8080/",
          "height": 35
        }
      },
      "source": [
        "silhouette_vals.shape"
      ],
      "execution_count": 102,
      "outputs": [
        {
          "output_type": "execute_result",
          "data": {
            "text/plain": [
              "(34,)"
            ]
          },
          "metadata": {
            "tags": []
          },
          "execution_count": 102
        }
      ]
    },
    {
      "cell_type": "code",
      "metadata": {
        "colab_type": "code",
        "id": "azYMMp7CsLN6",
        "colab": {}
      },
      "source": [
        "y_ax_lower, y_ax_upper = 0, 0 "
      ],
      "execution_count": 0,
      "outputs": []
    },
    {
      "cell_type": "code",
      "metadata": {
        "colab_type": "code",
        "id": "VI4Rd7zrsLOA",
        "colab": {}
      },
      "source": [
        "yticks = []"
      ],
      "execution_count": 0,
      "outputs": []
    },
    {
      "cell_type": "code",
      "metadata": {
        "colab_type": "code",
        "outputId": "5bb9f934-aa28-4bd5-c1cb-34d31b0e0aab",
        "id": "7FoEJ4gSsLOG",
        "colab": {
          "base_uri": "https://localhost:8080/",
          "height": 279
        }
      },
      "source": [
        "for i, c in enumerate(cluster_labels):\n",
        "  c_silhouette_vals = silhouette_vals[label_predicted == c]\n",
        "  c_silhouette_vals.sort()\n",
        "  y_ax_upper += len(c_silhouette_vals)\n",
        "  color = cm.jet(i/n_cluster)\n",
        "  plt.barh(range(y_ax_lower, y_ax_upper), c_silhouette_vals, height=1.0, \n",
        "           edgecolor='none', color=color)\n",
        "  yticks.append((y_ax_lower + y_ax_upper)/2)\n",
        "  y_ax_lower += len(c_silhouette_vals)\n",
        "\n",
        "silhouette_avg = np.mean(silhouette_vals)\n",
        "plt.axvline(silhouette_avg, color='red', linestyle='--')\n",
        "plt.yticks(yticks, cluster_labels+1)\n",
        "plt.ylabel('Cluster')\n",
        "plt.xlabel('Silhouette coefficient')\n",
        "plt.show()"
      ],
      "execution_count": 105,
      "outputs": [
        {
          "output_type": "display_data",
          "data": {
            "image/png": "[encoded data removed]",
            "text/plain": [
              "<Figure size 432x288 with 1 Axes>"
            ]
          },
          "metadata": {
            "tags": []
          }
        }
      ]
    },
    {
      "cell_type": "markdown",
      "metadata": {
        "colab_type": "text",
        "id": "vbXT9zX8ogSx"
      },
      "source": [
        "##Test data"
      ]
    },
    {
      "cell_type": "code",
      "metadata": {
        "colab_type": "code",
        "outputId": "abf2a7a6-5273-4888-d2bd-3202d7f511f2",
        "id": "ubKvfyqRogS8",
        "colab": {
          "base_uri": "https://localhost:8080/",
          "height": 281
        }
      },
      "source": [
        "from matplotlib.colors import ListedColormap\n",
        "\n",
        "y = test_labels_dec\n",
        "\n",
        "h = .02  # step size in the mesh\n",
        "\n",
        "# Create color maps\n",
        "cmap_light = ListedColormap(['#FFAAAA', '#AAFFAA', '#AAAAFF'])\n",
        "cmap_bold = ListedColormap(['#FF0000', '#00FF00', '#0000FF'])\n",
        "\n",
        "#Plot the decision boundary. For that, we will assign a color to each\n",
        "# point in the mesh [x_min, x_max]x[y_min, y_max].\n",
        "x_min, x_max = test_data_stand_lda[:, 0].min() - 1, test_data_stand_lda[:, 0].max() + 1\n",
        "y_min, y_max = test_data_stand_lda[:, 1].min() - 1, test_data_stand_lda[:, 1].max() + 1\n",
        "xx, yy = np.meshgrid(np.arange(x_min, x_max, h),\n",
        "                     np.arange(y_min, y_max, h))\n",
        "Z = kmeans.predict(np.c_[xx.ravel(), yy.ravel()])\n",
        "\n",
        "# Put the result into a color plot\n",
        "Z = Z.reshape(xx.shape)\n",
        "plt.figure()\n",
        "plt.pcolormesh(xx, yy, Z, cmap=cmap_light)\n",
        "\n",
        "\n",
        "# Plot the centroids as a white X\n",
        "centroids = kmeans.cluster_centers_\n",
        "plt.scatter(centroids[:, 0], centroids[:, 1],\n",
        "            marker='x', s=169, linewidths=3,\n",
        "            color='k', zorder=10)\n",
        "\n",
        "# Plot also the training points\n",
        "plt.scatter(test_data_stand_lda[:, 0], test_data_stand_lda[:, 1], c=y, cmap=cmap_bold)\n",
        "plt.xlim(xx.min(), xx.max())\n",
        "plt.ylim(yy.min(), yy.max())\n",
        "plt.title(\"3-Class classification\")\n",
        "\n",
        "plt.show()"
      ],
      "execution_count": 106,
      "outputs": [
        {
          "output_type": "display_data",
          "data": {
            "image/png": "[encoded data removed]",
            "text/plain": [
              "<Figure size 432x288 with 1 Axes>"
            ]
          },
          "metadata": {
            "tags": []
          }
        }
      ]
    },
    {
      "cell_type": "markdown",
      "metadata": {
        "id": "9oWJi0ksuvZL",
        "colab_type": "text"
      },
      "source": [
        "#DBSCAN "
      ]
    },
    {
      "cell_type": "markdown",
      "metadata": {
        "id": "xGIHhCU2C5r7",
        "colab_type": "text"
      },
      "source": [
        "#t-SNE"
      ]
    },
    {
      "cell_type": "code",
      "metadata": {
        "id": "zSNqkNDc3v7C",
        "colab_type": "code",
        "colab": {}
      },
      "source": [
        "from sklearn.manifold import TSNE\n",
        "import seaborn as sns"
      ],
      "execution_count": 0,
      "outputs": []
    },
    {
      "cell_type": "code",
      "metadata": {
        "id": "GBaOkRrXC9N4",
        "colab_type": "code",
        "colab": {}
      },
      "source": [
        "tsne = TSNE()\n",
        "X_embedded = tsne.fit_transform(train_data_stand_pca)"
      ],
      "execution_count": 0,
      "outputs": []
    },
    {
      "cell_type": "code",
      "metadata": {
        "id": "ajpRC0YTDgBG",
        "colab_type": "code",
        "colab": {
          "base_uri": "https://localhost:8080/",
          "height": 0
        },
        "outputId": "de60ec2f-3b4f-4009-f79f-d4866d799469"
      },
      "source": [
        "X_embedded.shape"
      ],
      "execution_count": 109,
      "outputs": [
        {
          "output_type": "execute_result",
          "data": {
            "text/plain": [
              "(131, 2)"
            ]
          },
          "metadata": {
            "tags": []
          },
          "execution_count": 109
        }
      ]
    },
    {
      "cell_type": "code",
      "metadata": {
        "id": "vCKHiDFdEmbw",
        "colab_type": "code",
        "colab": {}
      },
      "source": [
        "sns.set(rc={'figure.figsize':(11.7,8.27)})\n",
        "palette = sns.color_palette(\"bright\", 3)"
      ],
      "execution_count": 0,
      "outputs": []
    },
    {
      "cell_type": "code",
      "metadata": {
        "id": "tMG7HpvEDhcM",
        "colab_type": "code",
        "colab": {
          "base_uri": "https://localhost:8080/",
          "height": 0
        },
        "outputId": "b060959c-b608-419a-8921-2429b9f5b757"
      },
      "source": [
        "sns.scatterplot(X_embedded[:,0], X_embedded[:,1], hue=train_labels, legend='full', palette=palette)"
      ],
      "execution_count": 111,
      "outputs": [
        {
          "output_type": "execute_result",
          "data": {
            "text/plain": [
              "<matplotlib.axes._subplots.AxesSubplot at 0x7ff6ed0cedd8>"
            ]
          },
          "metadata": {
            "tags": []
          },
          "execution_count": 111
        },
        {
          "output_type": "display_data",
          "data": {
            "image/png": "[encoded data removed]",
            "text/plain": [
              "<Figure size 842.4x595.44 with 1 Axes>"
            ]
          },
          "metadata": {
            "tags": []
          }
        }
      ]
    },
    {
      "cell_type": "code",
      "metadata": {
        "id": "9JY_zD7qDtNW",
        "colab_type": "code",
        "colab": {}
      },
      "source": [
        ""
      ],
      "execution_count": 0,
      "outputs": []
    }
  ]
}