{
  "nbformat": 4,
  "nbformat_minor": 0,
  "metadata": {
    "colab": {
      "name": "Clustering.ipynb",
      "provenance": [],
      "toc_visible": true,
      "include_colab_link": true
    },
    "kernelspec": {
      "name": "python3",
      "display_name": "Python 3"
    }
  },
  "cells": [
    {
      "cell_type": "markdown",
      "metadata": {
        "id": "view-in-github",
        "colab_type": "text"
      },
      "source": [
        "<a href=\"https://colab.research.google.com/github/leonardoub/SCRIPT_PALERMO/blob/master/Clustering.ipynb\" target=\"_parent\"><img src=\"https://colab.research.google.com/assets/colab-badge.svg\" alt=\"Open In Colab\"/></a>"
      ]
    },
    {
      "cell_type": "code",
      "metadata": {
        "id": "N2XRX3Ti2yYd",
        "colab_type": "code",
        "colab": {}
      },
      "source": [
        "import pandas as pd\n",
        "import numpy as np\n",
        "import matplotlib.pyplot as plt\n",
        "import scipy"
      ],
      "execution_count": 0,
      "outputs": []
    },
    {
      "cell_type": "markdown",
      "metadata": {
        "id": "_DME-inQ4ke_",
        "colab_type": "text"
      },
      "source": [
        "#Load data"
      ]
    },
    {
      "cell_type": "code",
      "metadata": {
        "id": "7Hq45TSf3WcR",
        "colab_type": "code",
        "outputId": "50816b56-344d-40ee-9242-5b2327e24439",
        "colab": {
          "base_uri": "https://localhost:8080/",
          "height": 147
        }
      },
      "source": [
        "#load data from Drive\n",
        "from google.colab import drive\n",
        "drive.mount('/gdrive')\n",
        "%cd /gdrive"
      ],
      "execution_count": 2,
      "outputs": [
        {
          "output_type": "stream",
          "text": [
            "Go to this URL in a browser: https://accounts.google.com/o/oauth2/auth?client_id=947318989803-6bn6qk8qdgf4n4g3pfee6491hc0brc4i.apps.googleusercontent.com&redirect_uri=urn%3aietf%3awg%3aoauth%3a2.0%3aoob&response_type=code&scope=email%20https%3a%2f%2fwww.googleapis.com%2fauth%2fdocs.test%20https%3a%2f%2fwww.googleapis.com%2fauth%2fdrive%20https%3a%2f%2fwww.googleapis.com%2fauth%2fdrive.photos.readonly%20https%3a%2f%2fwww.googleapis.com%2fauth%2fpeopleapi.readonly\n",
            "\n",
            "Enter your authorization code:\n",
            "··········\n",
            "Mounted at /gdrive\n",
            "/gdrive\n"
          ],
          "name": "stdout"
        }
      ]
    },
    {
      "cell_type": "code",
      "metadata": {
        "id": "UCkUXesZhMzg",
        "colab_type": "code",
        "colab": {}
      },
      "source": [
        "train_dataset_path = '/gdrive/My Drive/AIM_PA/database_training2.csv'\n",
        "test_dataset_path = '/gdrive/My Drive/AIM_PA/database_nostro_without_nan.csv'"
      ],
      "execution_count": 0,
      "outputs": []
    },
    {
      "cell_type": "code",
      "metadata": {
        "id": "TczPxOpEhTXw",
        "colab_type": "code",
        "colab": {}
      },
      "source": [
        "df_train = pd.read_csv(train_dataset_path)\n",
        "df_test = pd.read_csv(test_dataset_path)"
      ],
      "execution_count": 0,
      "outputs": []
    },
    {
      "cell_type": "code",
      "metadata": {
        "id": "9I5MNxeW3j2G",
        "colab_type": "code",
        "colab": {}
      },
      "source": [
        "df_train.rename(columns={'Survival.time (months)':'Surv_time_months'}, inplace=True)"
      ],
      "execution_count": 0,
      "outputs": []
    },
    {
      "cell_type": "code",
      "metadata": {
        "id": "TLxDyFPo3sU9",
        "colab_type": "code",
        "colab": {}
      },
      "source": [
        "df_test.rename(columns={'Survival.time (months)':'Surv_time_months'}, inplace=True)"
      ],
      "execution_count": 0,
      "outputs": []
    },
    {
      "cell_type": "code",
      "metadata": {
        "id": "oXU_B2k03uYa",
        "colab_type": "code",
        "colab": {}
      },
      "source": [
        "df_train.rename(columns={'Overall.Stage':'Overall_Stage'}, inplace=True)\n",
        "df_test.rename(columns={'Overall.Stage':'Overall_Stage'}, inplace=True)"
      ],
      "execution_count": 0,
      "outputs": []
    },
    {
      "cell_type": "code",
      "metadata": {
        "id": "T1YCrOMP3_4q",
        "colab_type": "code",
        "colab": {}
      },
      "source": [
        "train_data = df_train.drop(['Histology', 'Surv_time_months', 'OS', 'deadstatus.event','Overall_Stage'], axis=1)"
      ],
      "execution_count": 0,
      "outputs": []
    },
    {
      "cell_type": "code",
      "metadata": {
        "id": "BWj1mwjV4Mzo",
        "colab_type": "code",
        "colab": {}
      },
      "source": [
        "test_data = df_test.drop(['Histology', 'Surv_time_months', 'OS', 'deadstatus.event','Overall_Stage'], axis=1)"
      ],
      "execution_count": 0,
      "outputs": []
    },
    {
      "cell_type": "code",
      "metadata": {
        "id": "dKdS4Low4PHh",
        "colab_type": "code",
        "colab": {}
      },
      "source": [
        "train_labels = df_train.Histology"
      ],
      "execution_count": 0,
      "outputs": []
    },
    {
      "cell_type": "code",
      "metadata": {
        "id": "K6EsAdEt4RNP",
        "colab_type": "code",
        "colab": {}
      },
      "source": [
        "test_labels = df_test.Histology"
      ],
      "execution_count": 0,
      "outputs": []
    },
    {
      "cell_type": "markdown",
      "metadata": {
        "id": "dtPx7PMDnXM3",
        "colab_type": "text"
      },
      "source": [
        "#Z score dei dati"
      ]
    },
    {
      "cell_type": "code",
      "metadata": {
        "id": "XK4Qji2EnVV4",
        "colab_type": "code",
        "colab": {}
      },
      "source": [
        "mean = train_data.mean(axis=0)\n",
        "train_data_stand = train_data - mean\n",
        "std = train_data.std(axis=0)\n",
        "train_data_stand /= std"
      ],
      "execution_count": 0,
      "outputs": []
    },
    {
      "cell_type": "code",
      "metadata": {
        "id": "YOVOoNOvm0Yx",
        "colab_type": "code",
        "colab": {}
      },
      "source": [
        "test_data_stand = test_data - mean\n",
        "test_data_stand /= std"
      ],
      "execution_count": 0,
      "outputs": []
    },
    {
      "cell_type": "markdown",
      "metadata": {
        "id": "00VohsAyokpq",
        "colab_type": "text"
      },
      "source": [
        "##Vettorizzare i label"
      ]
    },
    {
      "cell_type": "code",
      "metadata": {
        "id": "8RvS_9ISpxRi",
        "colab_type": "code",
        "colab": {}
      },
      "source": [
        "word_index={'adenocarcinoma':0, 'large cell':1, 'squamous cell carcinoma':2}"
      ],
      "execution_count": 0,
      "outputs": []
    },
    {
      "cell_type": "code",
      "metadata": {
        "id": "uiPW9U0XrWY2",
        "colab_type": "code",
        "colab": {}
      },
      "source": [
        "train_labels_dec = [word_index[label] for label in train_labels]"
      ],
      "execution_count": 0,
      "outputs": []
    },
    {
      "cell_type": "code",
      "metadata": {
        "id": "C4SBiKFQsKFw",
        "colab_type": "code",
        "colab": {}
      },
      "source": [
        "test_labels_dec = [word_index[label] for label in test_labels]"
      ],
      "execution_count": 0,
      "outputs": []
    },
    {
      "cell_type": "code",
      "metadata": {
        "id": "0IMbTYR7okJq",
        "colab_type": "code",
        "outputId": "15ff1dd1-835c-4932-8670-13f33ee48549",
        "colab": {
          "base_uri": "https://localhost:8080/",
          "height": 83
        }
      },
      "source": [
        "from keras.utils.np_utils import to_categorical"
      ],
      "execution_count": 17,
      "outputs": [
        {
          "output_type": "stream",
          "text": [
            "Using TensorFlow backend.\n"
          ],
          "name": "stderr"
        },
        {
          "output_type": "display_data",
          "data": {
            "text/html": [
              "<p style=\"color: red;\">\n",
              "The default version of TensorFlow in Colab will soon switch to TensorFlow 2.x.<br>\n",
              "We recommend you <a href=\"https://www.tensorflow.org/guide/migrate\" target=\"_blank\">upgrade</a> now \n",
              "or ensure your notebook will continue to use TensorFlow 1.x via the <code>%tensorflow_version 1.x</code> magic:\n",
              "<a href=\"https://colab.research.google.com/notebooks/tensorflow_version.ipynb\" target=\"_blank\">more info</a>.</p>\n"
            ],
            "text/plain": [
              "<IPython.core.display.HTML object>"
            ]
          },
          "metadata": {
            "tags": []
          }
        }
      ]
    },
    {
      "cell_type": "code",
      "metadata": {
        "id": "0Frv4FDNn6Qu",
        "colab_type": "code",
        "colab": {}
      },
      "source": [
        "one_hot_train_labels = to_categorical(train_labels_dec)\n",
        "one_hot_test_labels = to_categorical(test_labels_dec)"
      ],
      "execution_count": 0,
      "outputs": []
    },
    {
      "cell_type": "markdown",
      "metadata": {
        "id": "Mn0tkOGc3LKN",
        "colab_type": "text"
      },
      "source": [
        "#PCA"
      ]
    },
    {
      "cell_type": "code",
      "metadata": {
        "id": "oS76u6iu3Seg",
        "colab_type": "code",
        "colab": {}
      },
      "source": [
        "from sklearn.decomposition import PCA"
      ],
      "execution_count": 0,
      "outputs": []
    },
    {
      "cell_type": "code",
      "metadata": {
        "id": "KCjC4zqJ3bui",
        "colab_type": "code",
        "colab": {}
      },
      "source": [
        "pca = PCA(n_components=0.9, svd_solver='full')"
      ],
      "execution_count": 0,
      "outputs": []
    },
    {
      "cell_type": "code",
      "metadata": {
        "id": "dLUCf9qX4p_e",
        "colab_type": "code",
        "outputId": "a631ac7d-400e-4ef6-a961-0de44207f687",
        "colab": {
          "base_uri": "https://localhost:8080/",
          "height": 54
        }
      },
      "source": [
        "pca.fit(train_data_stand)"
      ],
      "execution_count": 24,
      "outputs": [
        {
          "output_type": "execute_result",
          "data": {
            "text/plain": [
              "PCA(copy=True, iterated_power='auto', n_components=0.9, random_state=None,\n",
              "    svd_solver='full', tol=0.0, whiten=False)"
            ]
          },
          "metadata": {
            "tags": []
          },
          "execution_count": 24
        }
      ]
    },
    {
      "cell_type": "code",
      "metadata": {
        "id": "QfyaKgNZ44o3",
        "colab_type": "code",
        "colab": {}
      },
      "source": [
        "train_data_stand_pca = pca.transform(train_data_stand)\n",
        "test_data_stand_pca = pca.transform(test_data_stand)"
      ],
      "execution_count": 0,
      "outputs": []
    },
    {
      "cell_type": "code",
      "metadata": {
        "id": "Uz9C4nl05b_g",
        "colab_type": "code",
        "outputId": "c5bef977-9c3e-455a-d06d-9ad8bb0a4360",
        "colab": {
          "base_uri": "https://localhost:8080/",
          "height": 35
        }
      },
      "source": [
        "train_data_stand_pca.shape"
      ],
      "execution_count": 26,
      "outputs": [
        {
          "output_type": "execute_result",
          "data": {
            "text/plain": [
              "(131, 9)"
            ]
          },
          "metadata": {
            "tags": []
          },
          "execution_count": 26
        }
      ]
    },
    {
      "cell_type": "markdown",
      "metadata": {
        "id": "TfMUCKOw5MUd",
        "colab_type": "text"
      },
      "source": [
        "#Build clustering algorithm "
      ]
    },
    {
      "cell_type": "markdown",
      "metadata": {
        "id": "j-2i_aidHdSl",
        "colab_type": "text"
      },
      "source": [
        "Possiamo descrivere\n",
        "l’algoritmo k-means come un semplice problema di ottimizzazione, un\n",
        "approccio iterativo per minimizzare il valore SSE (sum of squared\n",
        "errors, ovvero la somma degli errori quadratici all’interno del cluster),\n",
        "che viene anche chiamata inerzia del cluster.\n"
      ]
    },
    {
      "cell_type": "code",
      "metadata": {
        "id": "l9ahP75v5LPD",
        "colab_type": "code",
        "colab": {}
      },
      "source": [
        "from sklearn.cluster import KMeans"
      ],
      "execution_count": 0,
      "outputs": []
    },
    {
      "cell_type": "code",
      "metadata": {
        "id": "1GY77JYxitwz",
        "colab_type": "code",
        "colab": {}
      },
      "source": [
        "kmeans = KMeans(n_clusters=3, init='k-means++', random_state=0,)"
      ],
      "execution_count": 0,
      "outputs": []
    },
    {
      "cell_type": "code",
      "metadata": {
        "id": "tz82Bp2Ti30_",
        "colab_type": "code",
        "outputId": "a55dfb89-e556-46bb-c25e-84e8f09a966f",
        "colab": {
          "base_uri": "https://localhost:8080/",
          "height": 72
        }
      },
      "source": [
        "kmeans.fit(train_data_stand_pca)"
      ],
      "execution_count": 29,
      "outputs": [
        {
          "output_type": "execute_result",
          "data": {
            "text/plain": [
              "KMeans(algorithm='auto', copy_x=True, init='k-means++', max_iter=300,\n",
              "       n_clusters=3, n_init=10, n_jobs=None, precompute_distances='auto',\n",
              "       random_state=0, tol=0.0001, verbose=0)"
            ]
          },
          "metadata": {
            "tags": []
          },
          "execution_count": 29
        }
      ]
    },
    {
      "cell_type": "code",
      "metadata": {
        "id": "uRiYcQBIjAJO",
        "colab_type": "code",
        "outputId": "53f84127-0ef3-4e98-fc13-5b31e47f5034",
        "colab": {
          "base_uri": "https://localhost:8080/",
          "height": 146
        }
      },
      "source": [
        "kmeans.labels_"
      ],
      "execution_count": 30,
      "outputs": [
        {
          "output_type": "execute_result",
          "data": {
            "text/plain": [
              "array([2, 0, 2, 0, 2, 2, 0, 2, 0, 1, 2, 0, 0, 0, 1, 2, 1, 0, 2, 0, 0, 2,\n",
              "       0, 0, 0, 0, 2, 0, 1, 2, 1, 2, 2, 0, 2, 2, 2, 2, 0, 0, 0, 0, 2, 0,\n",
              "       1, 2, 0, 1, 1, 0, 1, 2, 2, 1, 1, 0, 1, 2, 0, 2, 2, 0, 2, 2, 0, 0,\n",
              "       2, 0, 1, 2, 0, 2, 0, 2, 2, 1, 1, 2, 1, 2, 2, 0, 0, 1, 1, 2, 1, 0,\n",
              "       2, 0, 2, 2, 2, 1, 1, 2, 2, 2, 2, 2, 2, 1, 2, 1, 2, 2, 2, 0, 0, 0,\n",
              "       2, 1, 2, 2, 2, 2, 1, 0, 2, 2, 2, 2, 2, 0, 2, 0, 2, 2, 1, 0, 2],\n",
              "      dtype=int32)"
            ]
          },
          "metadata": {
            "tags": []
          },
          "execution_count": 30
        }
      ]
    },
    {
      "cell_type": "code",
      "metadata": {
        "id": "zFlNkJsnzL_7",
        "colab_type": "code",
        "outputId": "7743b5b0-c593-4000-8acb-1e4314ba5c1a",
        "colab": {
          "base_uri": "https://localhost:8080/",
          "height": 35
        }
      },
      "source": [
        "kmeans.labels_.shape"
      ],
      "execution_count": 31,
      "outputs": [
        {
          "output_type": "execute_result",
          "data": {
            "text/plain": [
              "(131,)"
            ]
          },
          "metadata": {
            "tags": []
          },
          "execution_count": 31
        }
      ]
    },
    {
      "cell_type": "code",
      "metadata": {
        "id": "JhX_o1tjkeb4",
        "colab_type": "code",
        "colab": {}
      },
      "source": [
        "label_predicted = kmeans.predict(train_data_stand_pca)"
      ],
      "execution_count": 0,
      "outputs": []
    },
    {
      "cell_type": "code",
      "metadata": {
        "id": "DHwncgnyyFLl",
        "colab_type": "code",
        "outputId": "5f57071f-754c-46b7-e878-92320fc80a58",
        "colab": {
          "base_uri": "https://localhost:8080/",
          "height": 146
        }
      },
      "source": [
        "label_predicted"
      ],
      "execution_count": 33,
      "outputs": [
        {
          "output_type": "execute_result",
          "data": {
            "text/plain": [
              "array([2, 0, 2, 0, 2, 2, 0, 2, 0, 1, 2, 0, 0, 0, 1, 2, 1, 0, 2, 0, 0, 2,\n",
              "       0, 0, 0, 0, 2, 0, 1, 2, 1, 2, 2, 0, 2, 2, 2, 2, 0, 0, 0, 0, 2, 0,\n",
              "       1, 2, 0, 1, 1, 0, 1, 2, 2, 1, 1, 0, 1, 2, 0, 2, 2, 0, 2, 2, 0, 0,\n",
              "       2, 0, 1, 2, 0, 2, 0, 2, 2, 1, 1, 2, 1, 2, 2, 0, 0, 1, 1, 2, 1, 0,\n",
              "       2, 0, 2, 2, 2, 1, 1, 2, 2, 2, 2, 2, 2, 1, 2, 1, 2, 2, 2, 0, 0, 0,\n",
              "       2, 1, 2, 2, 2, 2, 1, 0, 2, 2, 2, 2, 2, 0, 2, 0, 2, 2, 1, 0, 2],\n",
              "      dtype=int32)"
            ]
          },
          "metadata": {
            "tags": []
          },
          "execution_count": 33
        }
      ]
    },
    {
      "cell_type": "code",
      "metadata": {
        "id": "ROMCRwXeH624",
        "colab_type": "code",
        "outputId": "c761518f-c70c-4a29-e65e-edf59802319e",
        "colab": {
          "base_uri": "https://localhost:8080/",
          "height": 35
        }
      },
      "source": [
        "print(f'Distortion: {kmeans.inertia_}')"
      ],
      "execution_count": 34,
      "outputs": [
        {
          "output_type": "stream",
          "text": [
            "Distortion: 6905.872804128035\n"
          ],
          "name": "stdout"
        }
      ]
    },
    {
      "cell_type": "markdown",
      "metadata": {
        "id": "jxUqPwX6-y2M",
        "colab_type": "text"
      },
      "source": [
        "Sum of squared distances of samples to their closest cluster center"
      ]
    },
    {
      "cell_type": "markdown",
      "metadata": {
        "id": "rMYy3SkXGy44",
        "colab_type": "text"
      },
      "source": [
        "#Metolo Elbow per trovare il numero ottimale di clusters"
      ]
    },
    {
      "cell_type": "markdown",
      "metadata": {
        "id": "nev-QL_cHzbr",
        "colab_type": "text"
      },
      "source": [
        "Non abbiamo bisogno di calcolare esplicitamente il valore SSE, in quanto\n",
        "risulta già accessibile tramite l’attributo inertia_"
      ]
    },
    {
      "cell_type": "markdown",
      "metadata": {
        "id": "CdsfJyThIUSN",
        "colab_type": "text"
      },
      "source": [
        "Sulla base del valore SSE, possiamo utilizzare uno strumento grafico,\n",
        "il cosiddetto metodo Elbow per stimare il numero ottimale di cluster k\n",
        "per un determinato compito. Intuitivamente, possiamo dire che\n",
        "aumentando k si riduce la distorsione. Questo perché i campioni saranno\n",
        "più vicini ai centroidi ai quali sono stati assegnati. L’idea su cui si basa\n",
        "il metodo Elbow è quella di identificare il valore di k in cui la\n",
        "distorsione comincia a crescere più rapidamente."
      ]
    },
    {
      "cell_type": "markdown",
      "metadata": {
        "id": "bDP-Zy3dIafJ",
        "colab_type": "text"
      },
      "source": [
        "Si deve tracciare il grafico della distorsione per più valori\n",
        "di k "
      ]
    },
    {
      "cell_type": "markdown",
      "metadata": {
        "id": "DlNdW0xFPZPS",
        "colab_type": "text"
      },
      "source": [
        "##Train data"
      ]
    },
    {
      "cell_type": "code",
      "metadata": {
        "id": "ZTtiW--uHxMZ",
        "colab_type": "code",
        "outputId": "5e729603-e811-49ec-aae2-5cf204e30dac",
        "colab": {
          "base_uri": "https://localhost:8080/",
          "height": 279
        }
      },
      "source": [
        "distortions = []\n",
        "for i in range(1, 11):\n",
        "  km = KMeans(n_clusters=i, init='k-means++', random_state=0)\n",
        "  km.fit(train_data_stand_pca)\n",
        "  distortions.append(km.inertia_)\n",
        "plt.plot(range(1, 11), distortions)\n",
        "plt.xlabel('Number of clusters')\n",
        "plt.ylabel('Distortion')\n",
        "plt.show()"
      ],
      "execution_count": 0,
      "outputs": [
        {
          "output_type": "display_data",
          "data": {
            "image/png": "[encoded data removed]",
            "text/plain": [
              "<Figure size 432x288 with 1 Axes>"
            ]
          },
          "metadata": {
            "tags": []
          }
        }
      ]
    },
    {
      "cell_type": "markdown",
      "metadata": {
        "id": "eJ2MhCCvKrQ4",
        "colab_type": "text"
      },
      "source": [
        "il gomito è situato in k=2, quindi k=2 dovrebbe rapprensentare una buona scelta per questo dataset (purtroppo)"
      ]
    },
    {
      "cell_type": "markdown",
      "metadata": {
        "id": "3rxSU5QEPcPi",
        "colab_type": "text"
      },
      "source": [
        "##Test data"
      ]
    },
    {
      "cell_type": "code",
      "metadata": {
        "id": "M_cb0jWKPezz",
        "colab_type": "code",
        "outputId": "5704ed33-e2fb-45a2-f9b9-5791954027cb",
        "colab": {
          "base_uri": "https://localhost:8080/",
          "height": 280
        }
      },
      "source": [
        "distortions = []\n",
        "for i in range(1, 11):\n",
        "  km = KMeans(n_clusters=i, init='k-means++', random_state=0)\n",
        "  km.fit(test_data_stand_pca)\n",
        "  distortions.append(km.inertia_)\n",
        "plt.plot(range(1, 11), distortions)\n",
        "plt.xlabel('Number of clusters')\n",
        "plt.ylabel('Distortion')\n",
        "plt.show()"
      ],
      "execution_count": 0,
      "outputs": [
        {
          "output_type": "display_data",
          "data": {
            "image/png": "[encoded data removed]",
            "text/plain": [
              "<Figure size 432x288 with 1 Axes>"
            ]
          },
          "metadata": {
            "tags": []
          }
        }
      ]
    },
    {
      "cell_type": "markdown",
      "metadata": {
        "id": "vatcBKgdPl3J",
        "colab_type": "text"
      },
      "source": [
        "Forse qui viene bene la divisione in 3 clusters"
      ]
    },
    {
      "cell_type": "markdown",
      "metadata": {
        "id": "bleZ-PlwLhV1",
        "colab_type": "text"
      },
      "source": [
        "#Grafici a Silhouettes\n"
      ]
    },
    {
      "cell_type": "markdown",
      "metadata": {
        "id": "nYOGERmnlEqT",
        "colab_type": "text"
      },
      "source": [
        "Un’altra metrica intrinseca per valutare la qualità di un clustering è\n",
        "l’analisi della silhouet​te, che può essere applicata anche ad algoritmi di\n",
        "clustering diversi da k-means. L’analisi della silhouette può essere utilizzata come strumento grafico per tracciare una misura della qualità con cui i campioni si raggruppano all’interno dei cluster."
      ]
    },
    {
      "cell_type": "markdown",
      "metadata": {
        "id": "6JTrHHmlmq9P",
        "colab_type": "text"
      },
      "source": [
        "Il coefficiente di silhouette è limitato dall’intervallo da -1 a 1, il valore ideale è 1."
      ]
    },
    {
      "cell_type": "markdown",
      "metadata": {
        "id": "JICItEIqmzuD",
        "colab_type": "text"
      },
      "source": [
        "Il coefficiente di silhouette è disponibile come silhouette_samples dal\n",
        "modulo metric di scikit-learn e, opzionalmente, può essere importato\n",
        "silhouette_scores. PAG 446 Raschka."
      ]
    },
    {
      "cell_type": "code",
      "metadata": {
        "id": "DCdqoYAZIkIQ",
        "colab_type": "code",
        "colab": {}
      },
      "source": [
        "from matplotlib import cm\n",
        "from sklearn.metrics import silhouette_samples"
      ],
      "execution_count": 0,
      "outputs": []
    },
    {
      "cell_type": "code",
      "metadata": {
        "id": "MSXvxzHIp2fl",
        "colab_type": "code",
        "colab": {}
      },
      "source": [
        "cluster_labels = np.unique(label_predicted)"
      ],
      "execution_count": 0,
      "outputs": []
    },
    {
      "cell_type": "code",
      "metadata": {
        "id": "TyYyDPBCsF0Y",
        "colab_type": "code",
        "outputId": "3317e2cd-91eb-4488-f417-d9760e189777",
        "colab": {
          "base_uri": "https://localhost:8080/",
          "height": 34
        }
      },
      "source": [
        "cluster_labels"
      ],
      "execution_count": 0,
      "outputs": [
        {
          "output_type": "execute_result",
          "data": {
            "text/plain": [
              "array([0, 1, 2], dtype=int32)"
            ]
          },
          "metadata": {
            "tags": []
          },
          "execution_count": 36
        }
      ]
    },
    {
      "cell_type": "code",
      "metadata": {
        "id": "2L6gt67HqPLs",
        "colab_type": "code",
        "colab": {}
      },
      "source": [
        "n_cluster = cluster_labels.shape[0]"
      ],
      "execution_count": 0,
      "outputs": []
    },
    {
      "cell_type": "code",
      "metadata": {
        "id": "iyreH_eWqQEe",
        "colab_type": "code",
        "colab": {}
      },
      "source": [
        "silhouette_vals = silhouette_samples(train_data_stand_pca, label_predicted, metric='euclidean')"
      ],
      "execution_count": 0,
      "outputs": []
    },
    {
      "cell_type": "code",
      "metadata": {
        "id": "hnAHnRztqhKT",
        "colab_type": "code",
        "outputId": "ed42f732-6325-47e6-a5d4-8a3490ee13df",
        "colab": {
          "base_uri": "https://localhost:8080/",
          "height": 34
        }
      },
      "source": [
        "silhouette_vals.shape"
      ],
      "execution_count": 0,
      "outputs": [
        {
          "output_type": "execute_result",
          "data": {
            "text/plain": [
              "(131,)"
            ]
          },
          "metadata": {
            "tags": []
          },
          "execution_count": 39
        }
      ]
    },
    {
      "cell_type": "code",
      "metadata": {
        "id": "ym3EFsxgq8_4",
        "colab_type": "code",
        "colab": {}
      },
      "source": [
        "y_ax_lower, y_ax_upper = 0, 0 "
      ],
      "execution_count": 0,
      "outputs": []
    },
    {
      "cell_type": "code",
      "metadata": {
        "id": "9ALGMlL2rWC6",
        "colab_type": "code",
        "colab": {}
      },
      "source": [
        "yticks = []"
      ],
      "execution_count": 0,
      "outputs": []
    },
    {
      "cell_type": "code",
      "metadata": {
        "id": "aCsLsSGmrZPu",
        "colab_type": "code",
        "outputId": "5c02d20f-2e7b-4730-a9e6-a3b4bd4d4847",
        "colab": {
          "base_uri": "https://localhost:8080/",
          "height": 279
        }
      },
      "source": [
        "for i, c in enumerate(cluster_labels):\n",
        "  c_silhouette_vals = silhouette_vals[label_predicted == c]\n",
        "  c_silhouette_vals.sort()\n",
        "  y_ax_upper += len(c_silhouette_vals)\n",
        "  color = cm.jet(i/n_cluster)\n",
        "  plt.barh(range(y_ax_lower, y_ax_upper), c_silhouette_vals, height=1.0, \n",
        "           edgecolor='none', color=color)\n",
        "  yticks.append((y_ax_lower + y_ax_upper)/2)\n",
        "  y_ax_lower += len(c_silhouette_vals)\n",
        "\n",
        "silhouette_avg = np.mean(silhouette_vals)\n",
        "plt.axvline(silhouette_avg, color='red', linestyle='--')\n",
        "plt.yticks(yticks, cluster_labels+1)\n",
        "plt.ylabel('Cluster')\n",
        "plt.xlabel('Silhouette coefficient')\n",
        "plt.show()"
      ],
      "execution_count": 0,
      "outputs": [
        {
          "output_type": "display_data",
          "data": {
            "image/png": "[encoded data removed]",
            "text/plain": [
              "<Figure size 432x288 with 1 Axes>"
            ]
          },
          "metadata": {
            "tags": []
          }
        }
      ]
    },
    {
      "cell_type": "markdown",
      "metadata": {
        "id": "pO0vKIrO5-o0",
        "colab_type": "text"
      },
      "source": [
        "Silhouette analysis can be used to study the separation distance between the resulting clusters. The silhouette plot displays a measure of how close each point in one cluster is to points in the neighboring clusters and thus provides a way to assess parameters like number of clusters visually. This measure has a range of [-1, 1]."
      ]
    },
    {
      "cell_type": "markdown",
      "metadata": {
        "id": "qroxMh-M6AXV",
        "colab_type": "text"
      },
      "source": [
        "Silhouette coefficients (as these values are referred to as) near +1 indicate that the sample is far away from the neighboring clusters. A value of 0 indicates that the sample is on or very close to the decision boundary between two neighboring clusters and negative values indicate that those samples might have been assigned to the wrong cluster."
      ]
    },
    {
      "cell_type": "markdown",
      "metadata": {
        "id": "xGIHhCU2C5r7",
        "colab_type": "text"
      },
      "source": [
        "#t-SNE"
      ]
    },
    {
      "cell_type": "code",
      "metadata": {
        "id": "zSNqkNDc3v7C",
        "colab_type": "code",
        "colab": {}
      },
      "source": [
        "from sklearn.manifold import TSNE\n",
        "import seaborn as sns"
      ],
      "execution_count": 0,
      "outputs": []
    },
    {
      "cell_type": "code",
      "metadata": {
        "id": "GBaOkRrXC9N4",
        "colab_type": "code",
        "colab": {}
      },
      "source": [
        "tsne = TSNE()\n",
        "X_embedded = tsne.fit_transform(train_data_stand_pca)"
      ],
      "execution_count": 0,
      "outputs": []
    },
    {
      "cell_type": "code",
      "metadata": {
        "id": "ajpRC0YTDgBG",
        "colab_type": "code",
        "outputId": "78b29d4b-1f0f-4687-d88f-2208bbfd2afc",
        "colab": {
          "base_uri": "https://localhost:8080/",
          "height": 34
        }
      },
      "source": [
        "X_embedded.shape"
      ],
      "execution_count": 0,
      "outputs": [
        {
          "output_type": "execute_result",
          "data": {
            "text/plain": [
              "(131, 2)"
            ]
          },
          "metadata": {
            "tags": []
          },
          "execution_count": 57
        }
      ]
    },
    {
      "cell_type": "code",
      "metadata": {
        "id": "vCKHiDFdEmbw",
        "colab_type": "code",
        "colab": {}
      },
      "source": [
        "sns.set(rc={'figure.figsize':(11.7,8.27)})\n",
        "palette = sns.color_palette(\"bright\", 3)"
      ],
      "execution_count": 0,
      "outputs": []
    },
    {
      "cell_type": "code",
      "metadata": {
        "id": "tMG7HpvEDhcM",
        "colab_type": "code",
        "outputId": "61db4e1c-4440-4ce8-b7b2-d2f825598cc2",
        "colab": {
          "base_uri": "https://localhost:8080/",
          "height": 517
        }
      },
      "source": [
        "sns.scatterplot(X_embedded[:,0], X_embedded[:,1], hue=train_labels, legend='full', palette=palette)"
      ],
      "execution_count": 0,
      "outputs": [
        {
          "output_type": "execute_result",
          "data": {
            "text/plain": [
              "<matplotlib.axes._subplots.AxesSubplot at 0x7fb2e71aff28>"
            ]
          },
          "metadata": {
            "tags": []
          },
          "execution_count": 59
        },
        {
          "output_type": "display_data",
          "data": {
            "image/png": "[encoded data removed]",
            "text/plain": [
              "<Figure size 842.4x595.44 with 1 Axes>"
            ]
          },
          "metadata": {
            "tags": []
          }
        }
      ]
    },
    {
      "cell_type": "code",
      "metadata": {
        "id": "9JY_zD7qDtNW",
        "colab_type": "code",
        "colab": {}
      },
      "source": [
        ""
      ],
      "execution_count": 0,
      "outputs": []
    }
  ]
}