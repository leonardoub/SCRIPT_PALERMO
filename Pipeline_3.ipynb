{
  "nbformat": 4,
  "nbformat_minor": 0,
  "metadata": {
    "colab": {
      "name": "Pipeline_3.ipynb",
      "provenance": [],
      "toc_visible": true,
      "authorship_tag": "ABX9TyOx1IM/UoMXMVf4IPEFl9aE",
      "include_colab_link": true
    },
    "kernelspec": {
      "name": "python3",
      "display_name": "Python 3"
    }
  },
  "cells": [
    {
      "cell_type": "markdown",
      "metadata": {
        "id": "view-in-github",
        "colab_type": "text"
      },
      "source": [
        "<a href=\"https://colab.research.google.com/github/leonardoub/SCRIPT_PALERMO/blob/master/Pipeline_3.ipynb\" target=\"_parent\"><img src=\"https://colab.research.google.com/assets/colab-badge.svg\" alt=\"Open In Colab\"/></a>"
      ]
    },
    {
      "cell_type": "code",
      "metadata": {
        "id": "r5F4kSlWkTCp",
        "colab_type": "code",
        "colab": {}
      },
      "source": [
        "import pandas as pd\n",
        "import numpy as np\n",
        "import matplotlib.pyplot as plt\n",
        "import scipy"
      ],
      "execution_count": 0,
      "outputs": []
    },
    {
      "cell_type": "code",
      "metadata": {
        "id": "5_dbU4ECkZ4T",
        "colab_type": "code",
        "colab": {}
      },
      "source": [
        "from sklearn.decomposition import PCA\n",
        "from sklearn.discriminant_analysis import LinearDiscriminantAnalysis"
      ],
      "execution_count": 0,
      "outputs": []
    },
    {
      "cell_type": "markdown",
      "metadata": {
        "id": "hQWUOicV8k4N",
        "colab_type": "text"
      },
      "source": [
        "#def learning curve"
      ]
    },
    {
      "cell_type": "code",
      "metadata": {
        "id": "orT8tSbs8keb",
        "colab_type": "code",
        "outputId": "6ae0c952-d8a6-4ce3-f75b-99112384a50e",
        "colab": {
          "base_uri": "https://localhost:8080/",
          "height": 34
        }
      },
      "source": [
        "print(__doc__)\n",
        "\n",
        "import numpy as np\n",
        "import matplotlib.pyplot as plt\n",
        "from sklearn.naive_bayes import GaussianNB\n",
        "from sklearn.svm import SVC\n",
        "from sklearn.datasets import load_digits\n",
        "from sklearn.model_selection import learning_curve\n",
        "from sklearn.model_selection import ShuffleSplit\n",
        "\n",
        "\n",
        "def plot_learning_curve(estimator, title, X, y, axes=None, ylim=None, cv=None,\n",
        "                        n_jobs=None, train_sizes=np.linspace(.1, 1.0, 5)):\n",
        "    \"\"\"\n",
        "    Generate 3 plots: the test and training learning curve, the training\n",
        "    samples vs fit times curve, the fit times vs score curve.\n",
        "\n",
        "    Parameters\n",
        "    ----------\n",
        "    estimator : object type that implements the \"fit\" and \"predict\" methods\n",
        "        An object of that type which is cloned for each validation.\n",
        "\n",
        "    title : string\n",
        "        Title for the chart.\n",
        "\n",
        "    X : array-like, shape (n_samples, n_features)\n",
        "        Training vector, where n_samples is the number of samples and\n",
        "        n_features is the number of features.\n",
        "\n",
        "    y : array-like, shape (n_samples) or (n_samples, n_features), optional\n",
        "        Target relative to X for classification or regression;\n",
        "        None for unsupervised learning.\n",
        "\n",
        "    axes : array of 3 axes, optional (default=None)\n",
        "        Axes to use for plotting the curves.\n",
        "\n",
        "    ylim : tuple, shape (ymin, ymax), optional\n",
        "        Defines minimum and maximum yvalues plotted.\n",
        "\n",
        "    cv : int, cross-validation generator or an iterable, optional\n",
        "        Determines the cross-validation splitting strategy.\n",
        "        Possible inputs for cv are:\n",
        "          - None, to use the default 5-fold cross-validation,\n",
        "          - integer, to specify the number of folds.\n",
        "          - :term:`CV splitter`,\n",
        "          - An iterable yielding (train, test) splits as arrays of indices.\n",
        "\n",
        "        For integer/None inputs, if ``y`` is binary or multiclass,\n",
        "        :class:`StratifiedKFold` used. If the estimator is not a classifier\n",
        "        or if ``y`` is neither binary nor multiclass, :class:`KFold` is used.\n",
        "\n",
        "        Refer :ref:`User Guide <cross_validation>` for the various\n",
        "        cross-validators that can be used here.\n",
        "\n",
        "    n_jobs : int or None, optional (default=None)\n",
        "        Number of jobs to run in parallel.\n",
        "        ``None`` means 1 unless in a :obj:`joblib.parallel_backend` context.\n",
        "        ``-1`` means using all processors. See :term:`Glossary <n_jobs>`\n",
        "        for more details.\n",
        "\n",
        "    train_sizes : array-like, shape (n_ticks,), dtype float or int\n",
        "        Relative or absolute numbers of training examples that will be used to\n",
        "        generate the learning curve. If the dtype is float, it is regarded as a\n",
        "        fraction of the maximum size of the training set (that is determined\n",
        "        by the selected validation method), i.e. it has to be within (0, 1].\n",
        "        Otherwise it is interpreted as absolute sizes of the training sets.\n",
        "        Note that for classification the number of samples usually have to\n",
        "        be big enough to contain at least one sample from each class.\n",
        "        (default: np.linspace(0.1, 1.0, 5))\n",
        "    \"\"\"\n",
        "    if axes is None:\n",
        "        _, axes = plt.subplots(1, 3, figsize=(20, 5))\n",
        "\n",
        "    axes[0].set_title(title)\n",
        "    if ylim is not None:\n",
        "        axes[0].set_ylim(*ylim)\n",
        "    axes[0].set_xlabel(\"Training examples\")\n",
        "    axes[0].set_ylabel(\"Score\")\n",
        "\n",
        "    train_sizes, train_scores, test_scores, fit_times, _ = \\\n",
        "        learning_curve(estimator, X, y, cv=cv, n_jobs=n_jobs,\n",
        "                       train_sizes=train_sizes,\n",
        "                       return_times=True)\n",
        "    train_scores_mean = np.mean(train_scores, axis=1)\n",
        "    train_scores_std = np.std(train_scores, axis=1)\n",
        "    test_scores_mean = np.mean(test_scores, axis=1)\n",
        "    test_scores_std = np.std(test_scores, axis=1)\n",
        "    fit_times_mean = np.mean(fit_times, axis=1)\n",
        "    fit_times_std = np.std(fit_times, axis=1)\n",
        "\n",
        "    # Plot learning curve\n",
        "    axes[0].grid()\n",
        "    axes[0].fill_between(train_sizes, train_scores_mean - train_scores_std,\n",
        "                         train_scores_mean + train_scores_std, alpha=0.1,\n",
        "                         color=\"r\")\n",
        "    axes[0].fill_between(train_sizes, test_scores_mean - test_scores_std,\n",
        "                         test_scores_mean + test_scores_std, alpha=0.1,\n",
        "                         color=\"g\")\n",
        "    axes[0].plot(train_sizes, train_scores_mean, 'o-', color=\"r\",\n",
        "                 label=\"Training score\")\n",
        "    axes[0].plot(train_sizes, test_scores_mean, 'o-', color=\"g\",\n",
        "                 label=\"Cross-validation score\")\n",
        "    axes[0].legend(loc=\"best\")\n",
        "\n",
        "    # Plot n_samples vs fit_times\n",
        "    axes[1].grid()\n",
        "    axes[1].plot(train_sizes, fit_times_mean, 'o-')\n",
        "    axes[1].fill_between(train_sizes, fit_times_mean - fit_times_std,\n",
        "                         fit_times_mean + fit_times_std, alpha=0.1)\n",
        "    axes[1].set_xlabel(\"Training examples\")\n",
        "    axes[1].set_ylabel(\"fit_times\")\n",
        "    axes[1].set_title(\"Scalability of the model\")\n",
        "\n",
        "    # Plot fit_time vs score\n",
        "    axes[2].grid()\n",
        "    axes[2].plot(fit_times_mean, test_scores_mean, 'o-')\n",
        "    axes[2].fill_between(fit_times_mean, test_scores_mean - test_scores_std,\n",
        "                         test_scores_mean + test_scores_std, alpha=0.1)\n",
        "    axes[2].set_xlabel(\"fit_times\")\n",
        "    axes[2].set_ylabel(\"Score\")\n",
        "    axes[2].set_title(\"Performance of the model\")\n",
        "\n",
        "    return plt\n"
      ],
      "execution_count": 1,
      "outputs": [
        {
          "output_type": "stream",
          "text": [
            "Automatically created module for IPython interactive environment\n"
          ],
          "name": "stdout"
        }
      ]
    },
    {
      "cell_type": "markdown",
      "metadata": {
        "id": "_DME-inQ4ke_",
        "colab_type": "text"
      },
      "source": [
        "#Load data"
      ]
    },
    {
      "cell_type": "code",
      "metadata": {
        "id": "7Hq45TSf3WcR",
        "colab_type": "code",
        "outputId": "d8713359-1f59-4ac7-ebab-8cc6b4892f73",
        "colab": {
          "base_uri": "https://localhost:8080/",
          "height": 141
        }
      },
      "source": [
        "#load data from Drive\n",
        "from google.colab import drive\n",
        "drive.mount('/gdrive')\n",
        "%cd /gdrive"
      ],
      "execution_count": 4,
      "outputs": [
        {
          "output_type": "stream",
          "text": [
            "Go to this URL in a browser: https://accounts.google.com/o/oauth2/auth?client_id=947318989803-6bn6qk8qdgf4n4g3pfee6491hc0brc4i.apps.googleusercontent.com&redirect_uri=urn%3aietf%3awg%3aoauth%3a2.0%3aoob&response_type=code&scope=email%20https%3a%2f%2fwww.googleapis.com%2fauth%2fdocs.test%20https%3a%2f%2fwww.googleapis.com%2fauth%2fdrive%20https%3a%2f%2fwww.googleapis.com%2fauth%2fdrive.photos.readonly%20https%3a%2f%2fwww.googleapis.com%2fauth%2fpeopleapi.readonly\n",
            "\n",
            "Enter your authorization code:\n",
            "··········\n",
            "Mounted at /gdrive\n",
            "/gdrive\n"
          ],
          "name": "stdout"
        }
      ]
    },
    {
      "cell_type": "code",
      "metadata": {
        "id": "UCkUXesZhMzg",
        "colab_type": "code",
        "colab": {}
      },
      "source": [
        "train_dataset_path = '/gdrive/My Drive/AIM_PA/database_training2.csv'\n",
        "test_dataset_path = '/gdrive/My Drive/AIM_PA/database_nostro_without_nan.csv'"
      ],
      "execution_count": 0,
      "outputs": []
    },
    {
      "cell_type": "code",
      "metadata": {
        "id": "TczPxOpEhTXw",
        "colab_type": "code",
        "colab": {}
      },
      "source": [
        "df_train = pd.read_csv(train_dataset_path)\n",
        "df_test = pd.read_csv(test_dataset_path)"
      ],
      "execution_count": 0,
      "outputs": []
    },
    {
      "cell_type": "code",
      "metadata": {
        "id": "9I5MNxeW3j2G",
        "colab_type": "code",
        "colab": {}
      },
      "source": [
        "df_train.rename(columns={'Survival.time (months)':'Surv_time_months'}, inplace=True)"
      ],
      "execution_count": 0,
      "outputs": []
    },
    {
      "cell_type": "code",
      "metadata": {
        "id": "TLxDyFPo3sU9",
        "colab_type": "code",
        "colab": {}
      },
      "source": [
        "df_test.rename(columns={'Survival.time (months)':'Surv_time_months'}, inplace=True)"
      ],
      "execution_count": 0,
      "outputs": []
    },
    {
      "cell_type": "code",
      "metadata": {
        "id": "oXU_B2k03uYa",
        "colab_type": "code",
        "colab": {}
      },
      "source": [
        "df_train.rename(columns={'Overall.Stage':'Overall_Stage'}, inplace=True)\n",
        "df_test.rename(columns={'Overall.Stage':'Overall_Stage'}, inplace=True)"
      ],
      "execution_count": 0,
      "outputs": []
    },
    {
      "cell_type": "code",
      "metadata": {
        "id": "T1YCrOMP3_4q",
        "colab_type": "code",
        "colab": {}
      },
      "source": [
        "public_data = df_train.drop(['Histology', 'Surv_time_months', 'OS', 'deadstatus.event','Overall_Stage'], axis=1)"
      ],
      "execution_count": 0,
      "outputs": []
    },
    {
      "cell_type": "code",
      "metadata": {
        "id": "BWj1mwjV4Mzo",
        "colab_type": "code",
        "colab": {}
      },
      "source": [
        "PA_data = df_test.drop(['Histology', 'Surv_time_months', 'OS', 'deadstatus.event','Overall_Stage'], axis=1)"
      ],
      "execution_count": 0,
      "outputs": []
    },
    {
      "cell_type": "code",
      "metadata": {
        "id": "dKdS4Low4PHh",
        "colab_type": "code",
        "colab": {}
      },
      "source": [
        "public_labels = df_train.Histology"
      ],
      "execution_count": 0,
      "outputs": []
    },
    {
      "cell_type": "code",
      "metadata": {
        "id": "K6EsAdEt4RNP",
        "colab_type": "code",
        "colab": {}
      },
      "source": [
        "PA_labels = df_test.Histology"
      ],
      "execution_count": 0,
      "outputs": []
    },
    {
      "cell_type": "markdown",
      "metadata": {
        "colab_type": "text",
        "id": "-fc8O_hvkqVI"
      },
      "source": [
        "#Train Test Split"
      ]
    },
    {
      "cell_type": "code",
      "metadata": {
        "id": "_7I8R-jd_3Hd",
        "colab_type": "code",
        "colab": {}
      },
      "source": [
        "from sklearn.model_selection import train_test_split"
      ],
      "execution_count": 0,
      "outputs": []
    },
    {
      "cell_type": "code",
      "metadata": {
        "id": "_bnO8hgZ__GF",
        "colab_type": "code",
        "colab": {}
      },
      "source": [
        "X_train, X_test, y_train, y_test = train_test_split(public_data, public_labels, test_size=0.3, stratify=public_labels, random_state=3)"
      ],
      "execution_count": 0,
      "outputs": []
    },
    {
      "cell_type": "code",
      "metadata": {
        "id": "NZE5rpd8ll-2",
        "colab_type": "code",
        "outputId": "ff4f3e7e-2dd2-43e3-fb2a-e1593fc26643",
        "colab": {
          "base_uri": "https://localhost:8080/",
          "height": 34
        }
      },
      "source": [
        "X_train.shape"
      ],
      "execution_count": 16,
      "outputs": [
        {
          "output_type": "execute_result",
          "data": {
            "text/plain": [
              "(91, 107)"
            ]
          },
          "metadata": {
            "tags": []
          },
          "execution_count": 16
        }
      ]
    },
    {
      "cell_type": "markdown",
      "metadata": {
        "id": "00VohsAyokpq",
        "colab_type": "text"
      },
      "source": [
        "#Vettorizzare i label"
      ]
    },
    {
      "cell_type": "code",
      "metadata": {
        "id": "5rCowEJBjscV",
        "colab_type": "code",
        "colab": {}
      },
      "source": [
        "from sklearn.preprocessing import LabelEncoder\n",
        "encoder = LabelEncoder()\n",
        "train_labels_encoded = encoder.fit_transform(y_train)\n",
        "test_labels_encoded = encoder.transform(y_test)"
      ],
      "execution_count": 0,
      "outputs": []
    },
    {
      "cell_type": "markdown",
      "metadata": {
        "id": "_zHrG0WEvB5Q",
        "colab_type": "text"
      },
      "source": [
        "#Scalers"
      ]
    },
    {
      "cell_type": "code",
      "metadata": {
        "id": "iHHkX4RevNaW",
        "colab_type": "code",
        "colab": {}
      },
      "source": [
        "from sklearn.preprocessing import StandardScaler, RobustScaler, QuantileTransformer"
      ],
      "execution_count": 0,
      "outputs": []
    },
    {
      "cell_type": "code",
      "metadata": {
        "id": "4B09pBvIvGB5",
        "colab_type": "code",
        "colab": {}
      },
      "source": [
        "scalers_to_test = [StandardScaler(), RobustScaler()]"
      ],
      "execution_count": 0,
      "outputs": []
    },
    {
      "cell_type": "markdown",
      "metadata": {
        "id": "cCCuEZXxtn0D",
        "colab_type": "text"
      },
      "source": [
        "#DecisionTreeClassifier "
      ]
    },
    {
      "cell_type": "code",
      "metadata": {
        "id": "SkDEuetr0MMd",
        "colab_type": "code",
        "colab": {}
      },
      "source": [
        "from sklearn.tree import DecisionTreeClassifier "
      ],
      "execution_count": 0,
      "outputs": []
    },
    {
      "cell_type": "code",
      "metadata": {
        "id": "22XKnaNgvlzJ",
        "colab_type": "code",
        "colab": {}
      },
      "source": [
        "steps = [('scaler', StandardScaler()), ('red_dim', LinearDiscriminantAnalysis()), ('clf', DecisionTreeClassifier())]"
      ],
      "execution_count": 0,
      "outputs": []
    },
    {
      "cell_type": "code",
      "metadata": {
        "id": "xlqMwSd-voiX",
        "colab_type": "code",
        "colab": {}
      },
      "source": [
        "from sklearn.pipeline import Pipeline\n",
        "pipeline = Pipeline(steps)"
      ],
      "execution_count": 0,
      "outputs": []
    },
    {
      "cell_type": "code",
      "metadata": {
        "id": "jihc40hBwS5q",
        "colab_type": "code",
        "colab": {}
      },
      "source": [
        "from sklearn.model_selection import GridSearchCV"
      ],
      "execution_count": 0,
      "outputs": []
    },
    {
      "cell_type": "code",
      "metadata": {
        "id": "XAdY0m0mv_oY",
        "colab_type": "code",
        "colab": {}
      },
      "source": [
        "n_features_to_test = np.arange(1, 11)"
      ],
      "execution_count": 0,
      "outputs": []
    },
    {
      "cell_type": "code",
      "metadata": {
        "id": "YiB4kd0Jv0qh",
        "colab_type": "code",
        "colab": {}
      },
      "source": [
        "parameteres = [{'scaler':scalers_to_test, 'red_dim':[LinearDiscriminantAnalysis()], 'red_dim__n_components':[2], 'clf__criterion':['gini', 'entropy']},\n",
        "               {'scaler':scalers_to_test, 'red_dim':[PCA()], 'red_dim__n_components':n_features_to_test, 'clf__criterion':['gini', 'entropy']}]"
      ],
      "execution_count": 0,
      "outputs": []
    },
    {
      "cell_type": "code",
      "metadata": {
        "id": "ncrfAefKwWUf",
        "colab_type": "code",
        "colab": {}
      },
      "source": [
        "grid = GridSearchCV(pipeline, param_grid=parameteres, cv=3, verbose=1)"
      ],
      "execution_count": 0,
      "outputs": []
    },
    {
      "cell_type": "code",
      "metadata": {
        "id": "5wjno_LnwcKg",
        "colab_type": "code",
        "outputId": "afb69ae9-c3f6-4bfc-b9aa-e3f51595be55",
        "colab": {
          "base_uri": "https://localhost:8080/",
          "height": 590
        }
      },
      "source": [
        "grid.fit(X_train, y_train)"
      ],
      "execution_count": 0,
      "outputs": [
        {
          "output_type": "stream",
          "text": [
            "Fitting 3 folds for each of 44 candidates, totalling 132 fits\n"
          ],
          "name": "stdout"
        },
        {
          "output_type": "stream",
          "text": [
            "[Parallel(n_jobs=1)]: Using backend SequentialBackend with 1 concurrent workers.\n",
            "[Parallel(n_jobs=1)]: Done 132 out of 132 | elapsed:    3.3s finished\n"
          ],
          "name": "stderr"
        },
        {
          "output_type": "execute_result",
          "data": {
            "text/plain": [
              "GridSearchCV(cv=3, error_score=nan,\n",
              "             estimator=Pipeline(memory=None,\n",
              "                                steps=[('scaler',\n",
              "                                        StandardScaler(copy=True,\n",
              "                                                       with_mean=True,\n",
              "                                                       with_std=True)),\n",
              "                                       ('red_dim',\n",
              "                                        LinearDiscriminantAnalysis(n_components=None,\n",
              "                                                                   priors=None,\n",
              "                                                                   shrinkage=None,\n",
              "                                                                   solver='svd',\n",
              "                                                                   store_covariance=False,\n",
              "                                                                   tol=0.0001)),\n",
              "                                       ('clf',\n",
              "                                        DecisionTreeClassifier(ccp_alpha=0.0,\n",
              "                                                               class_weight=None,\n",
              "                                                               criterion='gini',\n",
              "                                                               m...\n",
              "                                          n_components=4, random_state=None,\n",
              "                                          svd_solver='auto', tol=0.0,\n",
              "                                          whiten=False)],\n",
              "                          'red_dim__n_components': array([ 1,  2,  3,  4,  5,  6,  7,  8,  9, 10]),\n",
              "                          'scaler': [StandardScaler(copy=True, with_mean=True,\n",
              "                                                    with_std=True),\n",
              "                                     RobustScaler(copy=True,\n",
              "                                                  quantile_range=(25.0, 75.0),\n",
              "                                                  with_centering=True,\n",
              "                                                  with_scaling=True)]}],\n",
              "             pre_dispatch='2*n_jobs', refit=True, return_train_score=False,\n",
              "             scoring=None, verbose=1)"
            ]
          },
          "metadata": {
            "tags": []
          },
          "execution_count": 136
        }
      ]
    },
    {
      "cell_type": "code",
      "metadata": {
        "id": "p0UG1ZjHwePm",
        "colab_type": "code",
        "outputId": "ed5bdb0d-c57f-40d2-a6a1-c0d43f9b220f",
        "colab": {
          "base_uri": "https://localhost:8080/",
          "height": 34
        }
      },
      "source": [
        "print(f'score = {grid.score(X_test, y_test)}')"
      ],
      "execution_count": 0,
      "outputs": [
        {
          "output_type": "stream",
          "text": [
            "score = 0.475\n"
          ],
          "name": "stdout"
        }
      ]
    },
    {
      "cell_type": "code",
      "metadata": {
        "id": "_312fLbpwf7D",
        "colab_type": "code",
        "outputId": "733f723c-3b0f-45db-d42c-4dd91a4b3e73",
        "colab": {
          "base_uri": "https://localhost:8080/",
          "height": 52
        }
      },
      "source": [
        "print(grid.best_params_)"
      ],
      "execution_count": 0,
      "outputs": [
        {
          "output_type": "stream",
          "text": [
            "{'clf__criterion': 'gini', 'red_dim': PCA(copy=True, iterated_power='auto', n_components=4, random_state=None,\n",
            "    svd_solver='auto', tol=0.0, whiten=False), 'red_dim__n_components': 4, 'scaler': StandardScaler(copy=True, with_mean=True, with_std=True)}\n"
          ],
          "name": "stdout"
        }
      ]
    },
    {
      "cell_type": "markdown",
      "metadata": {
        "id": "9XSEFQ6_80px",
        "colab_type": "text"
      },
      "source": [
        "##Learning curve"
      ]
    },
    {
      "cell_type": "code",
      "metadata": {
        "id": "VSmf8vTo8zzD",
        "colab_type": "code",
        "outputId": "bb137593-ce8c-402e-a717-983b88e10c27",
        "colab": {
          "base_uri": "https://localhost:8080/",
          "height": 894
        }
      },
      "source": [
        "fig, axes = plt.subplots(3, 2, figsize=(10, 15))\n",
        "\n",
        "\n",
        "title = \"Learning Curves (RandomForestClassifier)\"\n",
        "\n",
        "estimator = grid.best_estimator_\n",
        "plot_learning_curve(estimator, title, X_train, y_train, axes=axes[:, 0], ylim=(0.0, 1.01), cv=5, n_jobs=4)\n",
        "\n",
        "plt.show()"
      ],
      "execution_count": 0,
      "outputs": [
        {
          "output_type": "display_data",
          "data": {
            "image/png": "[encoded data removed]",
            "text/plain": [
              "<Figure size 720x1080 with 6 Axes>"
            ]
          },
          "metadata": {
            "tags": []
          }
        }
      ]
    },
    {
      "cell_type": "markdown",
      "metadata": {
        "id": "ixOk4quayu5o",
        "colab_type": "text"
      },
      "source": [
        "#SVM linear "
      ]
    },
    {
      "cell_type": "code",
      "metadata": {
        "id": "maygye69yWRP",
        "colab_type": "code",
        "colab": {}
      },
      "source": [
        "from sklearn.svm import SVC\n",
        "from sklearn.model_selection import GridSearchCV \n",
        "from sklearn.model_selection import RandomizedSearchCV"
      ],
      "execution_count": 0,
      "outputs": []
    },
    {
      "cell_type": "code",
      "metadata": {
        "id": "1EOiy8q1z6EA",
        "colab_type": "code",
        "colab": {}
      },
      "source": [
        "steps = [('scaler', StandardScaler()), ('red_dim', PCA()), ('clf', SVC(kernel='linear'))]"
      ],
      "execution_count": 0,
      "outputs": []
    },
    {
      "cell_type": "code",
      "metadata": {
        "id": "fnpY8MIY-MfB",
        "colab_type": "code",
        "colab": {}
      },
      "source": [
        "from sklearn.pipeline import Pipeline\n",
        "pipeline = Pipeline(steps)"
      ],
      "execution_count": 0,
      "outputs": []
    },
    {
      "cell_type": "code",
      "metadata": {
        "id": "w3_PEdpD5bc1",
        "colab_type": "code",
        "colab": {}
      },
      "source": [
        "# Designate distributions to sample hyperparameters from \n",
        "C_range = np.arange(0.2, 5, 0.2)\n",
        "\n",
        "n=np.arange(4,10)\n",
        "\n",
        "# Check that gamma>0 and C>0 \n",
        "C_range[C_range < 0] = 0.0001"
      ],
      "execution_count": 0,
      "outputs": []
    },
    {
      "cell_type": "code",
      "metadata": {
        "id": "qLPMDBgPDCj5",
        "colab_type": "code",
        "colab": {}
      },
      "source": [
        "parameteres = [{'scaler':[RobustScaler()], 'red_dim':[PCA()], 'red_dim__n_components':list(n),'clf__C':list(C_range)}]"
      ],
      "execution_count": 0,
      "outputs": []
    },
    {
      "cell_type": "code",
      "metadata": {
        "id": "7HiS1wbNDXKl",
        "colab_type": "code",
        "colab": {}
      },
      "source": [
        "grid = GridSearchCV(pipeline, param_grid=parameteres, cv=5, verbose=10, n_jobs=-1, scoring='accuracy')\n",
        "#per questo usare parentesi tonde per i kernel"
      ],
      "execution_count": 0,
      "outputs": []
    },
    {
      "cell_type": "code",
      "metadata": {
        "id": "qr_R4zuwERxd",
        "colab_type": "code",
        "outputId": "fca835dd-8296-4c0d-dee7-d6d99c8b6df0",
        "colab": {
          "base_uri": "https://localhost:8080/",
          "height": 1000
        }
      },
      "source": [
        "grid.fit(X_train, y_train)"
      ],
      "execution_count": 0,
      "outputs": [
        {
          "output_type": "stream",
          "text": [
            "Fitting 5 folds for each of 144 candidates, totalling 720 fits\n"
          ],
          "name": "stdout"
        },
        {
          "output_type": "stream",
          "text": [
            "[Parallel(n_jobs=-1)]: Using backend LokyBackend with 2 concurrent workers.\n",
            "[Parallel(n_jobs=-1)]: Done   1 tasks      | elapsed:    2.0s\n",
            "[Parallel(n_jobs=-1)]: Done   4 tasks      | elapsed:    3.5s\n",
            "[Parallel(n_jobs=-1)]: Done   9 tasks      | elapsed:    8.5s\n",
            "[Parallel(n_jobs=-1)]: Done  14 tasks      | elapsed:   12.8s\n",
            "[Parallel(n_jobs=-1)]: Done  21 tasks      | elapsed:   19.9s\n",
            "[Parallel(n_jobs=-1)]: Done  28 tasks      | elapsed:   43.1s\n",
            "[Parallel(n_jobs=-1)]: Done  37 tasks      | elapsed:   56.5s\n",
            "[Parallel(n_jobs=-1)]: Done  46 tasks      | elapsed:  1.1min\n",
            "[Parallel(n_jobs=-1)]: Done  57 tasks      | elapsed:  1.9min\n",
            "[Parallel(n_jobs=-1)]: Done  68 tasks      | elapsed:  2.1min\n",
            "[Parallel(n_jobs=-1)]: Done  81 tasks      | elapsed:  2.7min\n",
            "[Parallel(n_jobs=-1)]: Done  94 tasks      | elapsed:  3.6min\n",
            "[Parallel(n_jobs=-1)]: Done 109 tasks      | elapsed:  4.6min\n",
            "[Parallel(n_jobs=-1)]: Done 124 tasks      | elapsed:  5.8min\n",
            "[Parallel(n_jobs=-1)]: Done 141 tasks      | elapsed:  7.0min\n",
            "[Parallel(n_jobs=-1)]: Done 158 tasks      | elapsed:  8.9min\n",
            "[Parallel(n_jobs=-1)]: Done 177 tasks      | elapsed: 10.9min\n",
            "[Parallel(n_jobs=-1)]: Done 196 tasks      | elapsed: 12.7min\n",
            "[Parallel(n_jobs=-1)]: Done 217 tasks      | elapsed: 15.6min\n",
            "[Parallel(n_jobs=-1)]: Done 238 tasks      | elapsed: 18.5min\n",
            "[Parallel(n_jobs=-1)]: Done 261 tasks      | elapsed: 21.6min\n",
            "[Parallel(n_jobs=-1)]: Done 284 tasks      | elapsed: 25.0min\n",
            "[Parallel(n_jobs=-1)]: Done 309 tasks      | elapsed: 29.1min\n",
            "[Parallel(n_jobs=-1)]: Done 334 tasks      | elapsed: 32.9min\n",
            "[Parallel(n_jobs=-1)]: Done 361 tasks      | elapsed: 37.1min\n",
            "[Parallel(n_jobs=-1)]: Done 388 tasks      | elapsed: 43.8min\n",
            "[Parallel(n_jobs=-1)]: Done 417 tasks      | elapsed: 48.4min\n",
            "[Parallel(n_jobs=-1)]: Done 446 tasks      | elapsed: 53.8min\n",
            "[Parallel(n_jobs=-1)]: Done 477 tasks      | elapsed: 61.0min\n",
            "[Parallel(n_jobs=-1)]: Done 508 tasks      | elapsed: 67.5min\n",
            "[Parallel(n_jobs=-1)]: Done 541 tasks      | elapsed: 75.3min\n",
            "[Parallel(n_jobs=-1)]: Done 574 tasks      | elapsed: 83.1min\n",
            "[Parallel(n_jobs=-1)]: Done 609 tasks      | elapsed: 91.5min\n",
            "[Parallel(n_jobs=-1)]: Done 644 tasks      | elapsed: 99.2min\n",
            "[Parallel(n_jobs=-1)]: Done 681 tasks      | elapsed: 107.4min\n",
            "[Parallel(n_jobs=-1)]: Done 720 out of 720 | elapsed: 115.9min finished\n"
          ],
          "name": "stderr"
        },
        {
          "output_type": "execute_result",
          "data": {
            "text/plain": [
              "GridSearchCV(cv=5, error_score=nan,\n",
              "             estimator=Pipeline(memory=None,\n",
              "                                steps=[('scaler',\n",
              "                                        StandardScaler(copy=True,\n",
              "                                                       with_mean=True,\n",
              "                                                       with_std=True)),\n",
              "                                       ('red_dim',\n",
              "                                        PCA(copy=True, iterated_power='auto',\n",
              "                                            n_components=None,\n",
              "                                            random_state=None,\n",
              "                                            svd_solver='auto', tol=0.0,\n",
              "                                            whiten=False)),\n",
              "                                       ('clf',\n",
              "                                        SVC(C=1.0, break_ties=False,\n",
              "                                            cache_size=200, class_weight=None,\n",
              "                                            coef0=0.0,\n",
              "                                            decision_fu...\n",
              "                          'red_dim': [PCA(copy=True, iterated_power='auto',\n",
              "                                          n_components=7, random_state=None,\n",
              "                                          svd_solver='auto', tol=0.0,\n",
              "                                          whiten=False)],\n",
              "                          'red_dim__n_components': [4, 5, 6, 7, 8, 9],\n",
              "                          'scaler': [RobustScaler(copy=True,\n",
              "                                                  quantile_range=(25.0, 75.0),\n",
              "                                                  with_centering=True,\n",
              "                                                  with_scaling=True)]}],\n",
              "             pre_dispatch='2*n_jobs', refit=True, return_train_score=False,\n",
              "             scoring='accuracy', verbose=10)"
            ]
          },
          "metadata": {
            "tags": []
          },
          "execution_count": 173
        }
      ]
    },
    {
      "cell_type": "code",
      "metadata": {
        "id": "ylBUBYzdFQt6",
        "colab_type": "code",
        "outputId": "0cd750d6-107c-430d-d02e-f3efe8d7a95e",
        "colab": {
          "base_uri": "https://localhost:8080/",
          "height": 34
        }
      },
      "source": [
        "print(f'score = {grid.score(X_test, y_test)}')"
      ],
      "execution_count": 0,
      "outputs": [
        {
          "output_type": "stream",
          "text": [
            "score = 0.6\n"
          ],
          "name": "stdout"
        }
      ]
    },
    {
      "cell_type": "code",
      "metadata": {
        "id": "tx7Hhw0bFV8e",
        "colab_type": "code",
        "outputId": "84b44256-4733-477a-da3e-47608c63ba57",
        "colab": {
          "base_uri": "https://localhost:8080/",
          "height": 89
        }
      },
      "source": [
        "print(grid.best_params_)"
      ],
      "execution_count": 0,
      "outputs": [
        {
          "output_type": "stream",
          "text": [
            "{'clf__C': 0.2, 'red_dim': PCA(copy=True, iterated_power='auto', n_components=7, random_state=None,\n",
            "    svd_solver='auto', tol=0.0, whiten=False), 'red_dim__n_components': 7, 'scaler': RobustScaler(copy=True, quantile_range=(25.0, 75.0), with_centering=True,\n",
            "             with_scaling=True)}\n"
          ],
          "name": "stdout"
        }
      ]
    },
    {
      "cell_type": "markdown",
      "metadata": {
        "colab_type": "text",
        "id": "VM8flQakGR2z"
      },
      "source": [
        "##Learning curve"
      ]
    },
    {
      "cell_type": "code",
      "metadata": {
        "colab_type": "code",
        "outputId": "3cfb423a-617d-49b4-8665-5b60b3a5bafb",
        "id": "Jx8jTnsuGR5M",
        "colab": {
          "base_uri": "https://localhost:8080/",
          "height": 894
        }
      },
      "source": [
        "fig, axes = plt.subplots(3, 2, figsize=(10, 15))\n",
        "\n",
        "\n",
        "title = \"Learning Curves (SVM linear)\"\n",
        "\n",
        "estimator = grid.best_estimator_\n",
        "plot_learning_curve(estimator, title, X_train, y_train, axes=axes[:, 0], ylim=(0.0, 1.01), cv=5, n_jobs=4)\n",
        "\n",
        "plt.show()"
      ],
      "execution_count": 0,
      "outputs": [
        {
          "output_type": "display_data",
          "data": {
            "image/png": "[encoded data removed]",
            "text/plain": [
              "<Figure size 720x1080 with 6 Axes>"
            ]
          },
          "metadata": {
            "tags": []
          }
        }
      ]
    },
    {
      "cell_type": "markdown",
      "metadata": {
        "colab_type": "text",
        "id": "G8GcOFLST2g-"
      },
      "source": [
        "#SVM rbf "
      ]
    },
    {
      "cell_type": "code",
      "metadata": {
        "colab_type": "code",
        "id": "RdhSt-qMT2hJ",
        "colab": {}
      },
      "source": [
        "from sklearn.svm import SVC\n",
        "from sklearn.model_selection import GridSearchCV \n",
        "from sklearn.model_selection import RandomizedSearchCV"
      ],
      "execution_count": 0,
      "outputs": []
    },
    {
      "cell_type": "code",
      "metadata": {
        "colab_type": "code",
        "id": "ITb-ZA_jT2hh",
        "colab": {}
      },
      "source": [
        "steps = [('scaler', StandardScaler()), ('red_dim', PCA()), ('clf', SVC(kernel='rbf', random_state=1))]"
      ],
      "execution_count": 0,
      "outputs": []
    },
    {
      "cell_type": "code",
      "metadata": {
        "colab_type": "code",
        "id": "oFJISbJ0T2ht",
        "colab": {}
      },
      "source": [
        "from sklearn.pipeline import Pipeline\n",
        "pipeline = Pipeline(steps)"
      ],
      "execution_count": 0,
      "outputs": []
    },
    {
      "cell_type": "code",
      "metadata": {
        "colab_type": "code",
        "id": "Is18H7znT2h4",
        "colab": {}
      },
      "source": [
        "# Designate distributions to sample hyperparameters from \n",
        "np.random.seed(123)\n",
        "g_range = np.random.uniform(0.0, 10, 50).astype(float)\n",
        "C_range = np.random.normal(0, 10, 50 ).astype(float)\n",
        "\n",
        "C_r = np.arange(0.2, 5, 0.2)\n",
        "n = np.arange(4, 10)\n",
        "\n",
        "# Check that gamma>0 and C>0 \n",
        "C_range[C_range < 0] = 0.0001"
      ],
      "execution_count": 0,
      "outputs": []
    },
    {
      "cell_type": "code",
      "metadata": {
        "id": "8V9uuJapA4Ck",
        "colab_type": "code",
        "colab": {}
      },
      "source": [
        "#a =  np.arange(-15, 4, 2)\n",
        "#g_range = np.exp2(a)\n",
        "\n",
        "#b = np.arange(-5, 16, 2)\n",
        "#C_range = np.exp2(b)"
      ],
      "execution_count": 0,
      "outputs": []
    },
    {
      "cell_type": "code",
      "metadata": {
        "colab_type": "code",
        "id": "tjnfD5p7T2iF",
        "colab": {}
      },
      "source": [
        "parameteres = [{'scaler':scalers_to_test, 'red_dim':[PCA()], 'red_dim__n_components':list(n),'clf__C':list(C_range), 'clf__gamma':list(g_range)}]"
      ],
      "execution_count": 0,
      "outputs": []
    },
    {
      "cell_type": "code",
      "metadata": {
        "colab_type": "code",
        "id": "LPjjrMosT2iP",
        "colab": {}
      },
      "source": [
        "grid = GridSearchCV(pipeline, param_grid=parameteres, cv=5, verbose=10, n_jobs=-1, scoring='accuracy')\n",
        "#per questo usare parentesi tonde per i kernel"
      ],
      "execution_count": 0,
      "outputs": []
    },
    {
      "cell_type": "code",
      "metadata": {
        "colab_type": "code",
        "outputId": "5131e4a3-c3f3-4c01-e1b6-debf86de2060",
        "id": "lipvPGXNT2ib",
        "colab": {
          "base_uri": "https://localhost:8080/",
          "height": 1000
        }
      },
      "source": [
        "grid.fit(X_train, y_train)"
      ],
      "execution_count": 103,
      "outputs": [
        {
          "output_type": "stream",
          "text": [
            "Fitting 5 folds for each of 30000 candidates, totalling 150000 fits\n"
          ],
          "name": "stdout"
        },
        {
          "output_type": "stream",
          "text": [
            "[Parallel(n_jobs=-1)]: Using backend LokyBackend with 2 concurrent workers.\n",
            "[Parallel(n_jobs=-1)]: Done   1 tasks      | elapsed:    0.0s\n",
            "[Parallel(n_jobs=-1)]: Batch computation too fast (0.0340s.) Setting batch_size=2.\n",
            "[Parallel(n_jobs=-1)]: Done   4 tasks      | elapsed:    0.1s\n",
            "[Parallel(n_jobs=-1)]: Batch computation too fast (0.1012s.) Setting batch_size=4.\n",
            "[Parallel(n_jobs=-1)]: Done  16 tasks      | elapsed:    0.4s\n",
            "[Parallel(n_jobs=-1)]: Done  36 tasks      | elapsed:    0.7s\n",
            "[Parallel(n_jobs=-1)]: Done  64 tasks      | elapsed:    1.2s\n",
            "[Parallel(n_jobs=-1)]: Done  92 tasks      | elapsed:    1.7s\n",
            "[Parallel(n_jobs=-1)]: Done 128 tasks      | elapsed:    2.3s\n",
            "[Parallel(n_jobs=-1)]: Done 164 tasks      | elapsed:    2.9s\n",
            "[Parallel(n_jobs=-1)]: Done 208 tasks      | elapsed:    3.7s\n",
            "[Parallel(n_jobs=-1)]: Done 252 tasks      | elapsed:    4.4s\n",
            "[Parallel(n_jobs=-1)]: Done 304 tasks      | elapsed:    5.3s\n",
            "[Parallel(n_jobs=-1)]: Done 356 tasks      | elapsed:    6.2s\n",
            "[Parallel(n_jobs=-1)]: Done 416 tasks      | elapsed:    7.2s\n",
            "[Parallel(n_jobs=-1)]: Done 476 tasks      | elapsed:    8.2s\n",
            "[Parallel(n_jobs=-1)]: Done 544 tasks      | elapsed:    9.3s\n",
            "[Parallel(n_jobs=-1)]: Done 612 tasks      | elapsed:   10.5s\n",
            "[Parallel(n_jobs=-1)]: Done 688 tasks      | elapsed:   11.8s\n",
            "[Parallel(n_jobs=-1)]: Done 764 tasks      | elapsed:   13.0s\n",
            "[Parallel(n_jobs=-1)]: Done 848 tasks      | elapsed:   14.4s\n",
            "[Parallel(n_jobs=-1)]: Done 932 tasks      | elapsed:   15.8s\n",
            "[Parallel(n_jobs=-1)]: Done 1024 tasks      | elapsed:   17.3s\n",
            "[Parallel(n_jobs=-1)]: Done 1116 tasks      | elapsed:   18.8s\n",
            "[Parallel(n_jobs=-1)]: Done 1216 tasks      | elapsed:   20.5s\n",
            "[Parallel(n_jobs=-1)]: Done 1316 tasks      | elapsed:   22.1s\n",
            "[Parallel(n_jobs=-1)]: Done 1424 tasks      | elapsed:   23.9s\n",
            "[Parallel(n_jobs=-1)]: Done 1532 tasks      | elapsed:   25.7s\n",
            "[Parallel(n_jobs=-1)]: Done 1648 tasks      | elapsed:   27.7s\n",
            "[Parallel(n_jobs=-1)]: Done 1764 tasks      | elapsed:   29.6s\n",
            "[Parallel(n_jobs=-1)]: Done 1888 tasks      | elapsed:   31.7s\n",
            "[Parallel(n_jobs=-1)]: Done 2012 tasks      | elapsed:   33.8s\n",
            "[Parallel(n_jobs=-1)]: Done 2144 tasks      | elapsed:   36.0s\n",
            "[Parallel(n_jobs=-1)]: Done 2276 tasks      | elapsed:   38.3s\n",
            "[Parallel(n_jobs=-1)]: Done 2416 tasks      | elapsed:   40.6s\n",
            "[Parallel(n_jobs=-1)]: Done 2556 tasks      | elapsed:   43.0s\n",
            "[Parallel(n_jobs=-1)]: Done 2704 tasks      | elapsed:   45.4s\n",
            "[Parallel(n_jobs=-1)]: Done 2852 tasks      | elapsed:   48.0s\n",
            "[Parallel(n_jobs=-1)]: Done 3008 tasks      | elapsed:   50.6s\n",
            "[Parallel(n_jobs=-1)]: Done 3164 tasks      | elapsed:   53.1s\n",
            "[Parallel(n_jobs=-1)]: Done 3328 tasks      | elapsed:   55.8s\n",
            "[Parallel(n_jobs=-1)]: Done 3492 tasks      | elapsed:   58.5s\n",
            "[Parallel(n_jobs=-1)]: Done 3664 tasks      | elapsed:  1.0min\n",
            "[Parallel(n_jobs=-1)]: Done 3836 tasks      | elapsed:  1.1min\n",
            "[Parallel(n_jobs=-1)]: Done 4016 tasks      | elapsed:  1.1min\n",
            "[Parallel(n_jobs=-1)]: Done 4196 tasks      | elapsed:  1.2min\n",
            "[Parallel(n_jobs=-1)]: Done 4384 tasks      | elapsed:  1.2min\n",
            "[Parallel(n_jobs=-1)]: Done 4572 tasks      | elapsed:  1.3min\n",
            "[Parallel(n_jobs=-1)]: Done 4768 tasks      | elapsed:  1.3min\n",
            "[Parallel(n_jobs=-1)]: Done 4964 tasks      | elapsed:  1.4min\n",
            "[Parallel(n_jobs=-1)]: Done 5168 tasks      | elapsed:  1.4min\n",
            "[Parallel(n_jobs=-1)]: Done 5372 tasks      | elapsed:  1.5min\n",
            "[Parallel(n_jobs=-1)]: Done 5584 tasks      | elapsed:  1.6min\n",
            "[Parallel(n_jobs=-1)]: Done 5796 tasks      | elapsed:  1.6min\n",
            "[Parallel(n_jobs=-1)]: Done 6016 tasks      | elapsed:  1.7min\n",
            "[Parallel(n_jobs=-1)]: Done 6236 tasks      | elapsed:  1.7min\n",
            "[Parallel(n_jobs=-1)]: Done 6464 tasks      | elapsed:  1.8min\n",
            "[Parallel(n_jobs=-1)]: Done 6692 tasks      | elapsed:  1.9min\n",
            "[Parallel(n_jobs=-1)]: Done 6928 tasks      | elapsed:  1.9min\n",
            "[Parallel(n_jobs=-1)]: Done 7164 tasks      | elapsed:  2.0min\n",
            "[Parallel(n_jobs=-1)]: Done 7408 tasks      | elapsed:  2.1min\n",
            "[Parallel(n_jobs=-1)]: Done 7652 tasks      | elapsed:  2.1min\n",
            "[Parallel(n_jobs=-1)]: Done 7904 tasks      | elapsed:  2.2min\n",
            "[Parallel(n_jobs=-1)]: Done 8156 tasks      | elapsed:  2.3min\n",
            "[Parallel(n_jobs=-1)]: Done 8416 tasks      | elapsed:  2.3min\n",
            "[Parallel(n_jobs=-1)]: Done 8676 tasks      | elapsed:  2.4min\n",
            "[Parallel(n_jobs=-1)]: Done 8944 tasks      | elapsed:  2.5min\n",
            "[Parallel(n_jobs=-1)]: Done 9212 tasks      | elapsed:  2.6min\n",
            "[Parallel(n_jobs=-1)]: Done 9488 tasks      | elapsed:  2.6min\n",
            "[Parallel(n_jobs=-1)]: Done 9764 tasks      | elapsed:  2.7min\n",
            "[Parallel(n_jobs=-1)]: Done 10048 tasks      | elapsed:  2.8min\n",
            "[Parallel(n_jobs=-1)]: Done 10332 tasks      | elapsed:  2.9min\n",
            "[Parallel(n_jobs=-1)]: Done 10624 tasks      | elapsed:  2.9min\n",
            "[Parallel(n_jobs=-1)]: Done 10916 tasks      | elapsed:  3.0min\n",
            "[Parallel(n_jobs=-1)]: Done 11216 tasks      | elapsed:  3.1min\n",
            "[Parallel(n_jobs=-1)]: Done 11516 tasks      | elapsed:  3.2min\n",
            "[Parallel(n_jobs=-1)]: Done 11824 tasks      | elapsed:  3.3min\n",
            "[Parallel(n_jobs=-1)]: Done 12132 tasks      | elapsed:  3.4min\n",
            "[Parallel(n_jobs=-1)]: Done 12448 tasks      | elapsed:  3.5min\n",
            "[Parallel(n_jobs=-1)]: Done 12764 tasks      | elapsed:  3.5min\n",
            "[Parallel(n_jobs=-1)]: Done 13088 tasks      | elapsed:  3.6min\n",
            "[Parallel(n_jobs=-1)]: Done 13412 tasks      | elapsed:  3.7min\n",
            "[Parallel(n_jobs=-1)]: Done 13744 tasks      | elapsed:  3.8min\n",
            "[Parallel(n_jobs=-1)]: Done 14076 tasks      | elapsed:  3.9min\n",
            "[Parallel(n_jobs=-1)]: Done 14416 tasks      | elapsed:  4.0min\n",
            "[Parallel(n_jobs=-1)]: Done 14756 tasks      | elapsed:  4.1min\n",
            "[Parallel(n_jobs=-1)]: Done 15104 tasks      | elapsed:  4.2min\n",
            "[Parallel(n_jobs=-1)]: Done 15452 tasks      | elapsed:  4.3min\n",
            "[Parallel(n_jobs=-1)]: Done 15808 tasks      | elapsed:  4.4min\n",
            "[Parallel(n_jobs=-1)]: Done 16164 tasks      | elapsed:  4.5min\n",
            "[Parallel(n_jobs=-1)]: Done 16528 tasks      | elapsed:  4.6min\n",
            "[Parallel(n_jobs=-1)]: Done 16892 tasks      | elapsed:  4.7min\n",
            "[Parallel(n_jobs=-1)]: Done 17264 tasks      | elapsed:  4.8min\n",
            "[Parallel(n_jobs=-1)]: Done 17636 tasks      | elapsed:  4.9min\n",
            "[Parallel(n_jobs=-1)]: Done 18016 tasks      | elapsed:  5.0min\n",
            "[Parallel(n_jobs=-1)]: Done 18396 tasks      | elapsed:  5.1min\n",
            "[Parallel(n_jobs=-1)]: Done 18784 tasks      | elapsed:  5.2min\n",
            "[Parallel(n_jobs=-1)]: Done 19172 tasks      | elapsed:  5.3min\n",
            "[Parallel(n_jobs=-1)]: Done 19568 tasks      | elapsed:  5.4min\n",
            "[Parallel(n_jobs=-1)]: Done 19964 tasks      | elapsed:  5.5min\n",
            "[Parallel(n_jobs=-1)]: Done 20368 tasks      | elapsed:  5.6min\n",
            "[Parallel(n_jobs=-1)]: Done 20772 tasks      | elapsed:  5.7min\n",
            "[Parallel(n_jobs=-1)]: Done 21184 tasks      | elapsed:  5.9min\n",
            "[Parallel(n_jobs=-1)]: Done 21596 tasks      | elapsed:  6.0min\n",
            "[Parallel(n_jobs=-1)]: Done 22016 tasks      | elapsed:  6.1min\n",
            "[Parallel(n_jobs=-1)]: Done 22436 tasks      | elapsed:  6.2min\n",
            "[Parallel(n_jobs=-1)]: Done 22864 tasks      | elapsed:  6.3min\n",
            "[Parallel(n_jobs=-1)]: Done 23292 tasks      | elapsed:  6.4min\n",
            "[Parallel(n_jobs=-1)]: Done 23728 tasks      | elapsed:  6.6min\n",
            "[Parallel(n_jobs=-1)]: Done 24164 tasks      | elapsed:  6.7min\n",
            "[Parallel(n_jobs=-1)]: Done 24608 tasks      | elapsed:  6.8min\n",
            "[Parallel(n_jobs=-1)]: Done 25052 tasks      | elapsed:  6.9min\n",
            "[Parallel(n_jobs=-1)]: Done 25504 tasks      | elapsed:  7.1min\n",
            "[Parallel(n_jobs=-1)]: Done 25956 tasks      | elapsed:  7.2min\n",
            "[Parallel(n_jobs=-1)]: Done 26416 tasks      | elapsed:  7.3min\n",
            "[Parallel(n_jobs=-1)]: Done 26876 tasks      | elapsed:  7.4min\n",
            "[Parallel(n_jobs=-1)]: Done 27344 tasks      | elapsed:  7.6min\n",
            "[Parallel(n_jobs=-1)]: Done 27812 tasks      | elapsed:  7.7min\n",
            "[Parallel(n_jobs=-1)]: Done 28288 tasks      | elapsed:  7.8min\n",
            "[Parallel(n_jobs=-1)]: Done 28764 tasks      | elapsed:  8.0min\n",
            "[Parallel(n_jobs=-1)]: Done 29248 tasks      | elapsed:  8.1min\n",
            "[Parallel(n_jobs=-1)]: Done 29732 tasks      | elapsed:  8.2min\n",
            "[Parallel(n_jobs=-1)]: Done 30224 tasks      | elapsed:  8.4min\n",
            "[Parallel(n_jobs=-1)]: Done 30716 tasks      | elapsed:  8.5min\n",
            "[Parallel(n_jobs=-1)]: Done 31216 tasks      | elapsed:  8.6min\n",
            "[Parallel(n_jobs=-1)]: Done 31716 tasks      | elapsed:  8.8min\n",
            "[Parallel(n_jobs=-1)]: Done 32224 tasks      | elapsed:  8.9min\n",
            "[Parallel(n_jobs=-1)]: Done 32732 tasks      | elapsed:  9.1min\n",
            "[Parallel(n_jobs=-1)]: Done 33248 tasks      | elapsed:  9.2min\n",
            "[Parallel(n_jobs=-1)]: Done 33764 tasks      | elapsed:  9.3min\n",
            "[Parallel(n_jobs=-1)]: Done 34288 tasks      | elapsed:  9.5min\n",
            "[Parallel(n_jobs=-1)]: Done 34812 tasks      | elapsed:  9.6min\n",
            "[Parallel(n_jobs=-1)]: Done 35344 tasks      | elapsed:  9.8min\n",
            "[Parallel(n_jobs=-1)]: Done 35876 tasks      | elapsed:  9.9min\n",
            "[Parallel(n_jobs=-1)]: Done 36416 tasks      | elapsed: 10.1min\n",
            "[Parallel(n_jobs=-1)]: Done 36956 tasks      | elapsed: 10.2min\n",
            "[Parallel(n_jobs=-1)]: Done 37504 tasks      | elapsed: 10.4min\n",
            "[Parallel(n_jobs=-1)]: Done 38052 tasks      | elapsed: 10.5min\n",
            "[Parallel(n_jobs=-1)]: Done 38608 tasks      | elapsed: 10.7min\n",
            "[Parallel(n_jobs=-1)]: Done 39164 tasks      | elapsed: 10.8min\n",
            "[Parallel(n_jobs=-1)]: Done 39728 tasks      | elapsed: 11.0min\n",
            "[Parallel(n_jobs=-1)]: Done 40292 tasks      | elapsed: 11.1min\n",
            "[Parallel(n_jobs=-1)]: Done 40864 tasks      | elapsed: 11.3min\n",
            "[Parallel(n_jobs=-1)]: Done 41436 tasks      | elapsed: 11.5min\n",
            "[Parallel(n_jobs=-1)]: Done 42016 tasks      | elapsed: 11.6min\n",
            "[Parallel(n_jobs=-1)]: Done 42596 tasks      | elapsed: 11.8min\n",
            "[Parallel(n_jobs=-1)]: Done 43184 tasks      | elapsed: 11.9min\n",
            "[Parallel(n_jobs=-1)]: Done 43772 tasks      | elapsed: 12.1min\n",
            "[Parallel(n_jobs=-1)]: Done 44368 tasks      | elapsed: 12.3min\n",
            "[Parallel(n_jobs=-1)]: Done 44964 tasks      | elapsed: 12.4min\n",
            "[Parallel(n_jobs=-1)]: Done 45568 tasks      | elapsed: 12.6min\n",
            "[Parallel(n_jobs=-1)]: Done 46172 tasks      | elapsed: 12.8min\n",
            "[Parallel(n_jobs=-1)]: Done 46784 tasks      | elapsed: 12.9min\n",
            "[Parallel(n_jobs=-1)]: Done 47396 tasks      | elapsed: 13.1min\n",
            "[Parallel(n_jobs=-1)]: Done 48016 tasks      | elapsed: 13.3min\n",
            "[Parallel(n_jobs=-1)]: Done 48636 tasks      | elapsed: 13.5min\n",
            "[Parallel(n_jobs=-1)]: Done 49264 tasks      | elapsed: 13.6min\n",
            "[Parallel(n_jobs=-1)]: Done 49892 tasks      | elapsed: 13.8min\n",
            "[Parallel(n_jobs=-1)]: Done 50528 tasks      | elapsed: 14.0min\n",
            "[Parallel(n_jobs=-1)]: Done 51164 tasks      | elapsed: 14.2min\n",
            "[Parallel(n_jobs=-1)]: Done 51808 tasks      | elapsed: 14.3min\n",
            "[Parallel(n_jobs=-1)]: Done 52452 tasks      | elapsed: 14.5min\n",
            "[Parallel(n_jobs=-1)]: Done 53104 tasks      | elapsed: 14.7min\n",
            "[Parallel(n_jobs=-1)]: Done 53756 tasks      | elapsed: 14.9min\n",
            "[Parallel(n_jobs=-1)]: Done 54416 tasks      | elapsed: 15.1min\n",
            "[Parallel(n_jobs=-1)]: Done 55076 tasks      | elapsed: 15.3min\n",
            "[Parallel(n_jobs=-1)]: Done 55744 tasks      | elapsed: 15.4min\n",
            "[Parallel(n_jobs=-1)]: Done 56412 tasks      | elapsed: 15.6min\n",
            "[Parallel(n_jobs=-1)]: Done 57088 tasks      | elapsed: 15.8min\n",
            "[Parallel(n_jobs=-1)]: Done 57764 tasks      | elapsed: 16.0min\n",
            "[Parallel(n_jobs=-1)]: Done 58448 tasks      | elapsed: 16.2min\n",
            "[Parallel(n_jobs=-1)]: Done 59132 tasks      | elapsed: 16.4min\n",
            "[Parallel(n_jobs=-1)]: Done 59824 tasks      | elapsed: 16.6min\n",
            "[Parallel(n_jobs=-1)]: Done 60516 tasks      | elapsed: 16.7min\n",
            "[Parallel(n_jobs=-1)]: Done 61216 tasks      | elapsed: 16.9min\n",
            "[Parallel(n_jobs=-1)]: Done 61916 tasks      | elapsed: 17.1min\n",
            "[Parallel(n_jobs=-1)]: Done 62624 tasks      | elapsed: 17.3min\n",
            "[Parallel(n_jobs=-1)]: Done 63332 tasks      | elapsed: 17.5min\n",
            "[Parallel(n_jobs=-1)]: Done 64048 tasks      | elapsed: 17.7min\n",
            "[Parallel(n_jobs=-1)]: Done 64764 tasks      | elapsed: 17.9min\n",
            "[Parallel(n_jobs=-1)]: Done 65488 tasks      | elapsed: 18.1min\n",
            "[Parallel(n_jobs=-1)]: Done 66212 tasks      | elapsed: 18.3min\n",
            "[Parallel(n_jobs=-1)]: Done 66944 tasks      | elapsed: 18.5min\n",
            "[Parallel(n_jobs=-1)]: Done 67676 tasks      | elapsed: 18.7min\n",
            "[Parallel(n_jobs=-1)]: Done 68416 tasks      | elapsed: 18.9min\n",
            "[Parallel(n_jobs=-1)]: Done 69156 tasks      | elapsed: 19.1min\n",
            "[Parallel(n_jobs=-1)]: Done 69904 tasks      | elapsed: 19.3min\n",
            "[Parallel(n_jobs=-1)]: Done 70652 tasks      | elapsed: 19.5min\n",
            "[Parallel(n_jobs=-1)]: Done 71408 tasks      | elapsed: 19.8min\n",
            "[Parallel(n_jobs=-1)]: Done 72164 tasks      | elapsed: 20.0min\n",
            "[Parallel(n_jobs=-1)]: Done 72928 tasks      | elapsed: 20.2min\n",
            "[Parallel(n_jobs=-1)]: Done 73692 tasks      | elapsed: 20.4min\n",
            "[Parallel(n_jobs=-1)]: Done 74464 tasks      | elapsed: 20.6min\n",
            "[Parallel(n_jobs=-1)]: Done 75236 tasks      | elapsed: 20.8min\n",
            "[Parallel(n_jobs=-1)]: Done 76016 tasks      | elapsed: 21.0min\n",
            "[Parallel(n_jobs=-1)]: Done 76796 tasks      | elapsed: 21.2min\n",
            "[Parallel(n_jobs=-1)]: Done 77584 tasks      | elapsed: 21.4min\n",
            "[Parallel(n_jobs=-1)]: Done 78372 tasks      | elapsed: 21.6min\n",
            "[Parallel(n_jobs=-1)]: Done 79168 tasks      | elapsed: 21.9min\n",
            "[Parallel(n_jobs=-1)]: Done 79964 tasks      | elapsed: 22.1min\n",
            "[Parallel(n_jobs=-1)]: Done 80768 tasks      | elapsed: 22.3min\n",
            "[Parallel(n_jobs=-1)]: Done 81572 tasks      | elapsed: 22.5min\n",
            "[Parallel(n_jobs=-1)]: Done 82384 tasks      | elapsed: 22.7min\n",
            "[Parallel(n_jobs=-1)]: Done 83196 tasks      | elapsed: 23.0min\n",
            "[Parallel(n_jobs=-1)]: Done 84016 tasks      | elapsed: 23.2min\n",
            "[Parallel(n_jobs=-1)]: Done 84836 tasks      | elapsed: 23.4min\n",
            "[Parallel(n_jobs=-1)]: Done 85664 tasks      | elapsed: 23.6min\n",
            "[Parallel(n_jobs=-1)]: Done 86492 tasks      | elapsed: 23.9min\n",
            "[Parallel(n_jobs=-1)]: Done 87328 tasks      | elapsed: 24.1min\n",
            "[Parallel(n_jobs=-1)]: Done 88164 tasks      | elapsed: 24.3min\n",
            "[Parallel(n_jobs=-1)]: Done 89008 tasks      | elapsed: 24.5min\n",
            "[Parallel(n_jobs=-1)]: Done 89852 tasks      | elapsed: 24.8min\n",
            "[Parallel(n_jobs=-1)]: Done 90704 tasks      | elapsed: 25.0min\n",
            "[Parallel(n_jobs=-1)]: Done 91556 tasks      | elapsed: 25.2min\n",
            "[Parallel(n_jobs=-1)]: Done 92416 tasks      | elapsed: 25.4min\n",
            "[Parallel(n_jobs=-1)]: Done 93276 tasks      | elapsed: 25.7min\n",
            "[Parallel(n_jobs=-1)]: Done 94144 tasks      | elapsed: 25.9min\n",
            "[Parallel(n_jobs=-1)]: Done 95012 tasks      | elapsed: 26.1min\n",
            "[Parallel(n_jobs=-1)]: Done 95888 tasks      | elapsed: 26.4min\n",
            "[Parallel(n_jobs=-1)]: Done 96764 tasks      | elapsed: 26.6min\n",
            "[Parallel(n_jobs=-1)]: Done 97648 tasks      | elapsed: 26.9min\n",
            "[Parallel(n_jobs=-1)]: Done 98532 tasks      | elapsed: 27.1min\n",
            "[Parallel(n_jobs=-1)]: Done 99424 tasks      | elapsed: 27.3min\n",
            "[Parallel(n_jobs=-1)]: Done 100316 tasks      | elapsed: 27.6min\n",
            "[Parallel(n_jobs=-1)]: Done 101216 tasks      | elapsed: 27.8min\n",
            "[Parallel(n_jobs=-1)]: Done 102116 tasks      | elapsed: 28.1min\n",
            "[Parallel(n_jobs=-1)]: Done 103024 tasks      | elapsed: 28.3min\n",
            "[Parallel(n_jobs=-1)]: Done 103932 tasks      | elapsed: 28.5min\n",
            "[Parallel(n_jobs=-1)]: Done 104848 tasks      | elapsed: 28.8min\n",
            "[Parallel(n_jobs=-1)]: Done 105764 tasks      | elapsed: 29.0min\n",
            "[Parallel(n_jobs=-1)]: Done 106688 tasks      | elapsed: 29.3min\n",
            "[Parallel(n_jobs=-1)]: Done 107612 tasks      | elapsed: 29.6min\n",
            "[Parallel(n_jobs=-1)]: Done 108544 tasks      | elapsed: 29.8min\n",
            "[Parallel(n_jobs=-1)]: Done 109476 tasks      | elapsed: 30.1min\n",
            "[Parallel(n_jobs=-1)]: Done 110416 tasks      | elapsed: 30.3min\n",
            "[Parallel(n_jobs=-1)]: Done 111356 tasks      | elapsed: 30.6min\n",
            "[Parallel(n_jobs=-1)]: Done 112304 tasks      | elapsed: 30.8min\n",
            "[Parallel(n_jobs=-1)]: Done 113252 tasks      | elapsed: 31.1min\n",
            "[Parallel(n_jobs=-1)]: Done 114208 tasks      | elapsed: 31.3min\n",
            "[Parallel(n_jobs=-1)]: Done 115164 tasks      | elapsed: 31.6min\n",
            "[Parallel(n_jobs=-1)]: Done 116128 tasks      | elapsed: 31.9min\n",
            "[Parallel(n_jobs=-1)]: Done 117092 tasks      | elapsed: 32.1min\n",
            "[Parallel(n_jobs=-1)]: Done 118064 tasks      | elapsed: 32.4min\n",
            "[Parallel(n_jobs=-1)]: Done 119036 tasks      | elapsed: 32.6min\n",
            "[Parallel(n_jobs=-1)]: Done 120016 tasks      | elapsed: 32.9min\n",
            "[Parallel(n_jobs=-1)]: Done 120996 tasks      | elapsed: 33.2min\n",
            "[Parallel(n_jobs=-1)]: Done 121984 tasks      | elapsed: 33.4min\n",
            "[Parallel(n_jobs=-1)]: Done 122972 tasks      | elapsed: 33.7min\n",
            "[Parallel(n_jobs=-1)]: Done 123968 tasks      | elapsed: 34.0min\n",
            "[Parallel(n_jobs=-1)]: Done 124964 tasks      | elapsed: 34.3min\n",
            "[Parallel(n_jobs=-1)]: Done 125968 tasks      | elapsed: 34.6min\n",
            "[Parallel(n_jobs=-1)]: Done 126972 tasks      | elapsed: 34.8min\n",
            "[Parallel(n_jobs=-1)]: Done 127984 tasks      | elapsed: 35.1min\n",
            "[Parallel(n_jobs=-1)]: Done 128996 tasks      | elapsed: 35.3min\n",
            "[Parallel(n_jobs=-1)]: Done 130016 tasks      | elapsed: 35.6min\n",
            "[Parallel(n_jobs=-1)]: Done 131036 tasks      | elapsed: 35.9min\n",
            "[Parallel(n_jobs=-1)]: Done 132064 tasks      | elapsed: 36.2min\n",
            "[Parallel(n_jobs=-1)]: Done 133092 tasks      | elapsed: 36.4min\n",
            "[Parallel(n_jobs=-1)]: Done 134128 tasks      | elapsed: 36.7min\n",
            "[Parallel(n_jobs=-1)]: Done 135164 tasks      | elapsed: 37.0min\n",
            "[Parallel(n_jobs=-1)]: Done 136208 tasks      | elapsed: 37.3min\n",
            "[Parallel(n_jobs=-1)]: Done 137252 tasks      | elapsed: 37.5min\n",
            "[Parallel(n_jobs=-1)]: Done 138304 tasks      | elapsed: 37.8min\n",
            "[Parallel(n_jobs=-1)]: Done 139356 tasks      | elapsed: 38.1min\n",
            "[Parallel(n_jobs=-1)]: Done 140416 tasks      | elapsed: 38.4min\n",
            "[Parallel(n_jobs=-1)]: Done 141476 tasks      | elapsed: 38.7min\n",
            "[Parallel(n_jobs=-1)]: Done 142544 tasks      | elapsed: 38.9min\n",
            "[Parallel(n_jobs=-1)]: Done 143612 tasks      | elapsed: 39.2min\n",
            "[Parallel(n_jobs=-1)]: Done 144688 tasks      | elapsed: 39.5min\n",
            "[Parallel(n_jobs=-1)]: Done 145764 tasks      | elapsed: 39.8min\n",
            "[Parallel(n_jobs=-1)]: Done 146848 tasks      | elapsed: 40.1min\n",
            "[Parallel(n_jobs=-1)]: Done 147932 tasks      | elapsed: 40.4min\n",
            "[Parallel(n_jobs=-1)]: Done 149024 tasks      | elapsed: 40.7min\n",
            "[Parallel(n_jobs=-1)]: Done 150000 out of 150000 | elapsed: 40.9min finished\n"
          ],
          "name": "stderr"
        },
        {
          "output_type": "execute_result",
          "data": {
            "text/plain": [
              "GridSearchCV(cv=5, error_score=nan,\n",
              "             estimator=Pipeline(memory=None,\n",
              "                                steps=[('scaler',\n",
              "                                        StandardScaler(copy=True,\n",
              "                                                       with_mean=True,\n",
              "                                                       with_std=True)),\n",
              "                                       ('red_dim',\n",
              "                                        PCA(copy=True, iterated_power='auto',\n",
              "                                            n_components=None,\n",
              "                                            random_state=None,\n",
              "                                            svd_solver='auto', tol=0.0,\n",
              "                                            whiten=False)),\n",
              "                                       ('clf',\n",
              "                                        SVC(C=1.0, break_ties=False,\n",
              "                                            cache_size=200, class_weight=None,\n",
              "                                            coef0=0.0,\n",
              "                                            decision_fu...\n",
              "                                          n_components=4, random_state=None,\n",
              "                                          svd_solver='auto', tol=0.0,\n",
              "                                          whiten=False)],\n",
              "                          'red_dim__n_components': [4, 5, 6, 7, 8, 9],\n",
              "                          'scaler': [StandardScaler(copy=True, with_mean=True,\n",
              "                                                    with_std=True),\n",
              "                                     RobustScaler(copy=True,\n",
              "                                                  quantile_range=(25.0, 75.0),\n",
              "                                                  with_centering=True,\n",
              "                                                  with_scaling=True)]}],\n",
              "             pre_dispatch='2*n_jobs', refit=True, return_train_score=False,\n",
              "             scoring='accuracy', verbose=10)"
            ]
          },
          "metadata": {
            "tags": []
          },
          "execution_count": 103
        }
      ]
    },
    {
      "cell_type": "code",
      "metadata": {
        "colab_type": "code",
        "outputId": "ee12c48d-ae72-4e8f-f371-874520818084",
        "id": "cRQJw7tUT2io",
        "colab": {
          "base_uri": "https://localhost:8080/",
          "height": 34
        }
      },
      "source": [
        "print(f'score = {grid.score(X_test, y_test)}')"
      ],
      "execution_count": 104,
      "outputs": [
        {
          "output_type": "stream",
          "text": [
            "score = 0.425\n"
          ],
          "name": "stdout"
        }
      ]
    },
    {
      "cell_type": "code",
      "metadata": {
        "colab_type": "code",
        "outputId": "05c9e9c9-2216-484f-dcd3-96034cc822c6",
        "id": "Rc8SJfpVT2i1",
        "colab": {
          "base_uri": "https://localhost:8080/",
          "height": 89
        }
      },
      "source": [
        "print(grid.best_params_)"
      ],
      "execution_count": 105,
      "outputs": [
        {
          "output_type": "stream",
          "text": [
            "{'clf__C': 1.8103512959700387, 'clf__gamma': 1.7545175614749253, 'red_dim': PCA(copy=True, iterated_power='auto', n_components=4, random_state=None,\n",
            "    svd_solver='auto', tol=0.0, whiten=False), 'red_dim__n_components': 4, 'scaler': RobustScaler(copy=True, quantile_range=(25.0, 75.0), with_centering=True,\n",
            "             with_scaling=True)}\n"
          ],
          "name": "stdout"
        }
      ]
    },
    {
      "cell_type": "code",
      "metadata": {
        "id": "Njyn05ZV7rHf",
        "colab_type": "code",
        "colab": {
          "base_uri": "https://localhost:8080/",
          "height": 69
        },
        "outputId": "7d0d8b5f-3dd6-41e6-91ea-b90931958767"
      },
      "source": [
        "C_range"
      ],
      "execution_count": 65,
      "outputs": [
        {
          "output_type": "execute_result",
          "data": {
            "text/plain": [
              "array([3.1250e-02, 1.2500e-01, 5.0000e-01, 2.0000e+00, 8.0000e+00,\n",
              "       3.2000e+01, 1.2800e+02, 5.1200e+02, 2.0480e+03, 8.1920e+03,\n",
              "       3.2768e+04])"
            ]
          },
          "metadata": {
            "tags": []
          },
          "execution_count": 65
        }
      ]
    },
    {
      "cell_type": "markdown",
      "metadata": {
        "colab_type": "text",
        "id": "vhLQQqZiT2i_"
      },
      "source": [
        "##Learning curve"
      ]
    },
    {
      "cell_type": "code",
      "metadata": {
        "colab_type": "code",
        "outputId": "fa40c193-6201-4a2d-f76e-0e9851ef2473",
        "id": "MFk_2ES-T2jD",
        "colab": {
          "base_uri": "https://localhost:8080/",
          "height": 894
        }
      },
      "source": [
        "fig, axes = plt.subplots(3, 2, figsize=(10, 15))\n",
        "\n",
        "\n",
        "title = \"Learning Curves (SVM rbf)\"\n",
        "\n",
        "estimator = grid.best_estimator_\n",
        "plot_learning_curve(estimator, title, X_train, y_train, axes=axes[:, 0], ylim=(0.0, 1.01), cv=5, n_jobs=4)\n",
        "\n",
        "plt.show()"
      ],
      "execution_count": 0,
      "outputs": [
        {
          "output_type": "display_data",
          "data": {
            "image/png": "[encoded data removed]",
            "text/plain": [
              "<Figure size 720x1080 with 6 Axes>"
            ]
          },
          "metadata": {
            "tags": []
          }
        }
      ]
    }
  ]
}