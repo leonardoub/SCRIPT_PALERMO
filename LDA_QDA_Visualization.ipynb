{
  "nbformat": 4,
  "nbformat_minor": 0,
  "metadata": {
    "colab": {
      "name": "LDA_QDA_Visualization.ipynb",
      "provenance": [],
      "toc_visible": true,
      "authorship_tag": "ABX9TyMn10mrvbZMNUfnOJF4mAiw",
      "include_colab_link": true
    },
    "kernelspec": {
      "name": "python3",
      "display_name": "Python 3"
    }
  },
  "cells": [
    {
      "cell_type": "markdown",
      "metadata": {
        "id": "view-in-github",
        "colab_type": "text"
      },
      "source": [
        "<a href=\"https://colab.research.google.com/github/leonardoub/SCRIPT_PALERMO/blob/master/LDA_QDA_Visualization.ipynb\" target=\"_parent\"><img src=\"https://colab.research.google.com/assets/colab-badge.svg\" alt=\"Open In Colab\"/></a>"
      ]
    },
    {
      "cell_type": "code",
      "metadata": {
        "id": "j5wavkN2Akaz",
        "colab_type": "code",
        "colab": {}
      },
      "source": [
        "import pandas as pd\n",
        "import numpy as np\n",
        "import matplotlib.pyplot as plt\n",
        "import scipy"
      ],
      "execution_count": 0,
      "outputs": []
    },
    {
      "cell_type": "markdown",
      "metadata": {
        "id": "ln0sTf8q1IrI",
        "colab_type": "text"
      },
      "source": [
        "#Load data"
      ]
    },
    {
      "cell_type": "code",
      "metadata": {
        "id": "lyyNl4gxhEwD",
        "colab_type": "code",
        "outputId": "2d5ce6b4-a5d0-4c14-ffce-ed6e80e6d4e7",
        "colab": {
          "base_uri": "https://localhost:8080/",
          "height": 124
        }
      },
      "source": [
        "#load data from Drive\n",
        "from google.colab import drive\n",
        "drive.mount('/gdrive')\n",
        "#%cd /gdrive"
      ],
      "execution_count": 0,
      "outputs": [
        {
          "output_type": "stream",
          "text": [
            "Go to this URL in a browser: https://accounts.google.com/o/oauth2/auth?client_id=947318989803-6bn6qk8qdgf4n4g3pfee6491hc0brc4i.apps.googleusercontent.com&redirect_uri=urn%3aietf%3awg%3aoauth%3a2.0%3aoob&response_type=code&scope=email%20https%3a%2f%2fwww.googleapis.com%2fauth%2fdocs.test%20https%3a%2f%2fwww.googleapis.com%2fauth%2fdrive%20https%3a%2f%2fwww.googleapis.com%2fauth%2fdrive.photos.readonly%20https%3a%2f%2fwww.googleapis.com%2fauth%2fpeopleapi.readonly\n",
            "\n",
            "Enter your authorization code:\n",
            "··········\n",
            "Mounted at /gdrive\n"
          ],
          "name": "stdout"
        }
      ]
    },
    {
      "cell_type": "code",
      "metadata": {
        "id": "UCkUXesZhMzg",
        "colab_type": "code",
        "colab": {}
      },
      "source": [
        "train_dataset_path = '/gdrive/My Drive/AIM_PA/database_training2.csv'\n",
        "test_dataset_path = '/gdrive/My Drive/AIM_PA/database_nostro_without_nan.csv'"
      ],
      "execution_count": 0,
      "outputs": []
    },
    {
      "cell_type": "code",
      "metadata": {
        "id": "TczPxOpEhTXw",
        "colab_type": "code",
        "colab": {}
      },
      "source": [
        "df_train = pd.read_csv(train_dataset_path)\n",
        "df_test = pd.read_csv(test_dataset_path)"
      ],
      "execution_count": 0,
      "outputs": []
    },
    {
      "cell_type": "code",
      "metadata": {
        "id": "Ll-87QSVhqhj",
        "colab_type": "code",
        "colab": {}
      },
      "source": [
        "df_train.rename(columns={'Survival.time (months)':'Surv_time_months'}, inplace=True)"
      ],
      "execution_count": 0,
      "outputs": []
    },
    {
      "cell_type": "code",
      "metadata": {
        "id": "ulSbeCedhuxJ",
        "colab_type": "code",
        "colab": {}
      },
      "source": [
        "df_test.rename(columns={'Survival.time (months)':'Surv_time_months'}, inplace=True)"
      ],
      "execution_count": 0,
      "outputs": []
    },
    {
      "cell_type": "code",
      "metadata": {
        "id": "xbcwLGg3iNSn",
        "colab_type": "code",
        "colab": {}
      },
      "source": [
        "df_train.rename(columns={'Overall.Stage':'Overall_Stage'}, inplace=True)\n",
        "df_test.rename(columns={'Overall.Stage':'Overall_Stage'}, inplace=True)"
      ],
      "execution_count": 0,
      "outputs": []
    },
    {
      "cell_type": "code",
      "metadata": {
        "id": "oKKv4iKghWWn",
        "colab_type": "code",
        "colab": {}
      },
      "source": [
        "train_data = df_train.drop(['Histology', 'Surv_time_months', 'OS', 'deadstatus.event','Overall_Stage'], axis=1)"
      ],
      "execution_count": 0,
      "outputs": []
    },
    {
      "cell_type": "code",
      "metadata": {
        "id": "vQdR4izXiT0f",
        "colab_type": "code",
        "colab": {}
      },
      "source": [
        "test_data = df_test.drop(['Histology', 'Surv_time_months', 'OS', 'deadstatus.event','Overall_Stage'], axis=1)"
      ],
      "execution_count": 0,
      "outputs": []
    },
    {
      "cell_type": "code",
      "metadata": {
        "id": "Lu46pqnPhnCG",
        "colab_type": "code",
        "colab": {}
      },
      "source": [
        "train_labels = df_train.Histology"
      ],
      "execution_count": 0,
      "outputs": []
    },
    {
      "cell_type": "code",
      "metadata": {
        "id": "aS5wIylYmsQf",
        "colab_type": "code",
        "colab": {}
      },
      "source": [
        "test_labels = df_test.Histology"
      ],
      "execution_count": 0,
      "outputs": []
    },
    {
      "cell_type": "markdown",
      "metadata": {
        "id": "dtPx7PMDnXM3",
        "colab_type": "text"
      },
      "source": [
        "##Z score dei dati"
      ]
    },
    {
      "cell_type": "code",
      "metadata": {
        "id": "XK4Qji2EnVV4",
        "colab_type": "code",
        "colab": {}
      },
      "source": [
        "mean = train_data.mean(axis=0)\n",
        "train_data_stand = train_data - mean\n",
        "std = train_data.std(axis=0)\n",
        "train_data_stand /= std"
      ],
      "execution_count": 0,
      "outputs": []
    },
    {
      "cell_type": "code",
      "metadata": {
        "id": "YOVOoNOvm0Yx",
        "colab_type": "code",
        "colab": {}
      },
      "source": [
        "test_data_stand = test_data - mean\n",
        "test_data_stand /= std"
      ],
      "execution_count": 0,
      "outputs": []
    },
    {
      "cell_type": "markdown",
      "metadata": {
        "colab_type": "text",
        "id": "PJdEKAIX_GpO"
      },
      "source": [
        "#Visualize using LDA, data NON STAND"
      ]
    },
    {
      "cell_type": "code",
      "metadata": {
        "colab_type": "code",
        "id": "0A0ubJJp_GpT",
        "colab": {}
      },
      "source": [
        "from sklearn.discriminant_analysis import LinearDiscriminantAnalysis\n",
        "import seaborn as sns"
      ],
      "execution_count": 0,
      "outputs": []
    },
    {
      "cell_type": "markdown",
      "metadata": {
        "id": "nDFyEZuAE0tz",
        "colab_type": "text"
      },
      "source": [
        "##Train data"
      ]
    },
    {
      "cell_type": "code",
      "metadata": {
        "colab_type": "code",
        "id": "glySWGy7_Gp_",
        "colab": {}
      },
      "source": [
        "lda = LinearDiscriminantAnalysis()\n",
        "lda_result = lda.fit(train_data, train_labels)\n",
        "train_data_lda = lda.transform(train_data)"
      ],
      "execution_count": 0,
      "outputs": []
    },
    {
      "cell_type": "code",
      "metadata": {
        "colab_type": "code",
        "id": "hZ5ciB9r_GqF",
        "outputId": "7a7b51af-79cb-429f-b3ee-a6c43ecbe507",
        "colab": {
          "base_uri": "https://localhost:8080/",
          "height": 34
        }
      },
      "source": [
        "train_data_lda.shape"
      ],
      "execution_count": 0,
      "outputs": [
        {
          "output_type": "execute_result",
          "data": {
            "text/plain": [
              "(131, 2)"
            ]
          },
          "metadata": {
            "tags": []
          },
          "execution_count": 17
        }
      ]
    },
    {
      "cell_type": "code",
      "metadata": {
        "colab_type": "code",
        "id": "mby4EAg7_GqM",
        "outputId": "76a3b3d2-9c83-46eb-ae43-f9d4d94269f2",
        "colab": {
          "base_uri": "https://localhost:8080/",
          "height": 34
        }
      },
      "source": [
        "type(lda_result)"
      ],
      "execution_count": 0,
      "outputs": [
        {
          "output_type": "execute_result",
          "data": {
            "text/plain": [
              "sklearn.discriminant_analysis.LinearDiscriminantAnalysis"
            ]
          },
          "metadata": {
            "tags": []
          },
          "execution_count": 18
        }
      ]
    },
    {
      "cell_type": "code",
      "metadata": {
        "colab_type": "code",
        "id": "cnTE_6aK_GqS",
        "colab": {}
      },
      "source": [
        "df = pd.DataFrame(train_data_lda, columns=['lda_one', 'lda_two'])"
      ],
      "execution_count": 0,
      "outputs": []
    },
    {
      "cell_type": "code",
      "metadata": {
        "colab_type": "code",
        "id": "N8TUWH9L_GqX",
        "outputId": "b0183a69-1eca-4f3c-fe99-d5cdda2566fe",
        "colab": {
          "base_uri": "https://localhost:8080/",
          "height": 424
        }
      },
      "source": [
        "df"
      ],
      "execution_count": 0,
      "outputs": [
        {
          "output_type": "execute_result",
          "data": {
            "text/html": [
              "<div>\n",
              "<style scoped>\n",
              "    .dataframe tbody tr th:only-of-type {\n",
              "        vertical-align: middle;\n",
              "    }\n",
              "\n",
              "    .dataframe tbody tr th {\n",
              "        vertical-align: top;\n",
              "    }\n",
              "\n",
              "    .dataframe thead th {\n",
              "        text-align: right;\n",
              "    }\n",
              "</style>\n",
              "<table border=\"1\" class=\"dataframe\">\n",
              "  <thead>\n",
              "    <tr style=\"text-align: right;\">\n",
              "      <th></th>\n",
              "      <th>lda_one</th>\n",
              "      <th>lda_two</th>\n",
              "    </tr>\n",
              "  </thead>\n",
              "  <tbody>\n",
              "    <tr>\n",
              "      <th>0</th>\n",
              "      <td>-3.735330</td>\n",
              "      <td>5.539015</td>\n",
              "    </tr>\n",
              "    <tr>\n",
              "      <th>1</th>\n",
              "      <td>-2.972100</td>\n",
              "      <td>3.896330</td>\n",
              "    </tr>\n",
              "    <tr>\n",
              "      <th>2</th>\n",
              "      <td>-4.492177</td>\n",
              "      <td>4.515088</td>\n",
              "    </tr>\n",
              "    <tr>\n",
              "      <th>3</th>\n",
              "      <td>-3.994613</td>\n",
              "      <td>4.380586</td>\n",
              "    </tr>\n",
              "    <tr>\n",
              "      <th>4</th>\n",
              "      <td>-2.207364</td>\n",
              "      <td>4.471812</td>\n",
              "    </tr>\n",
              "    <tr>\n",
              "      <th>...</th>\n",
              "      <td>...</td>\n",
              "      <td>...</td>\n",
              "    </tr>\n",
              "    <tr>\n",
              "      <th>126</th>\n",
              "      <td>2.270244</td>\n",
              "      <td>0.681552</td>\n",
              "    </tr>\n",
              "    <tr>\n",
              "      <th>127</th>\n",
              "      <td>2.862014</td>\n",
              "      <td>1.671285</td>\n",
              "    </tr>\n",
              "    <tr>\n",
              "      <th>128</th>\n",
              "      <td>4.186723</td>\n",
              "      <td>-2.234604</td>\n",
              "    </tr>\n",
              "    <tr>\n",
              "      <th>129</th>\n",
              "      <td>3.013112</td>\n",
              "      <td>0.917586</td>\n",
              "    </tr>\n",
              "    <tr>\n",
              "      <th>130</th>\n",
              "      <td>3.107027</td>\n",
              "      <td>1.440474</td>\n",
              "    </tr>\n",
              "  </tbody>\n",
              "</table>\n",
              "<p>131 rows × 2 columns</p>\n",
              "</div>"
            ],
            "text/plain": [
              "      lda_one   lda_two\n",
              "0   -3.735330  5.539015\n",
              "1   -2.972100  3.896330\n",
              "2   -4.492177  4.515088\n",
              "3   -3.994613  4.380586\n",
              "4   -2.207364  4.471812\n",
              "..        ...       ...\n",
              "126  2.270244  0.681552\n",
              "127  2.862014  1.671285\n",
              "128  4.186723 -2.234604\n",
              "129  3.013112  0.917586\n",
              "130  3.107027  1.440474\n",
              "\n",
              "[131 rows x 2 columns]"
            ]
          },
          "metadata": {
            "tags": []
          },
          "execution_count": 20
        }
      ]
    },
    {
      "cell_type": "code",
      "metadata": {
        "colab_type": "code",
        "id": "slXOZJdz_Gqd",
        "outputId": "2781970b-2da2-4602-ee44-7af5d3a5ce31",
        "colab": {
          "base_uri": "https://localhost:8080/",
          "height": 34
        }
      },
      "source": [
        "print('Explained variation per principal component: {}'.format(lda.explained_variance_ratio_))"
      ],
      "execution_count": 0,
      "outputs": [
        {
          "output_type": "stream",
          "text": [
            "Explained variation per principal component: [0.6450461 0.3549539]\n"
          ],
          "name": "stdout"
        }
      ]
    },
    {
      "cell_type": "markdown",
      "metadata": {
        "colab_type": "text",
        "id": "Tb76rtVy_Gqi"
      },
      "source": [
        "La prima componente ha il 65% della varianza dell'intero dataset, la seconda il 35%"
      ]
    },
    {
      "cell_type": "markdown",
      "metadata": {
        "colab_type": "text",
        "id": "q0NIGcL2_Gqw"
      },
      "source": [
        "###Scatterplot Train data"
      ]
    },
    {
      "cell_type": "markdown",
      "metadata": {
        "colab_type": "text",
        "id": "IHGmwB3G_Gqx"
      },
      "source": [
        "Creiamo uno scatter plot della prima e della seconda componente principale, usiamo colori diversi per le diverse istologie."
      ]
    },
    {
      "cell_type": "code",
      "metadata": {
        "colab_type": "code",
        "id": "wUcGKdcT_Gqy",
        "outputId": "cf3cf061-1425-4be3-89f2-f6b82f18db53",
        "colab": {
          "base_uri": "https://localhost:8080/",
          "height": 623
        }
      },
      "source": [
        "plt.figure(figsize=(16, 10))\n",
        "sns.scatterplot(x=df.lda_one, y=df.lda_two, hue=train_labels, \n",
        "                palette=sns.color_palette('hls', 3), legend='full')"
      ],
      "execution_count": 0,
      "outputs": [
        {
          "output_type": "execute_result",
          "data": {
            "text/plain": [
              "<matplotlib.axes._subplots.AxesSubplot at 0x7fcec71b9208>"
            ]
          },
          "metadata": {
            "tags": []
          },
          "execution_count": 22
        },
        {
          "output_type": "display_data",
          "data": {
            "image/png": "[encoded data removed]",
            "text/plain": [
              "<Figure size 1152x720 with 1 Axes>"
            ]
          },
          "metadata": {
            "tags": []
          }
        }
      ]
    },
    {
      "cell_type": "markdown",
      "metadata": {
        "id": "IIC3UqLGFC9-",
        "colab_type": "text"
      },
      "source": [
        "##Test data"
      ]
    },
    {
      "cell_type": "markdown",
      "metadata": {
        "id": "hjStaacpFzCV",
        "colab_type": "text"
      },
      "source": [
        "###Applicando il fit ottenuto per i dati di training per l'LDA"
      ]
    },
    {
      "cell_type": "code",
      "metadata": {
        "colab_type": "code",
        "id": "dFpD8eK_Fkin",
        "colab": {}
      },
      "source": [
        "test_data_lda = lda.transform(test_data)"
      ],
      "execution_count": 0,
      "outputs": []
    },
    {
      "cell_type": "code",
      "metadata": {
        "colab_type": "code",
        "outputId": "3d957ef1-9334-435f-e978-b0022217165d",
        "id": "PLkguCjvFki3",
        "colab": {
          "base_uri": "https://localhost:8080/",
          "height": 34
        }
      },
      "source": [
        "test_data_lda.shape"
      ],
      "execution_count": 0,
      "outputs": [
        {
          "output_type": "execute_result",
          "data": {
            "text/plain": [
              "(34, 2)"
            ]
          },
          "metadata": {
            "tags": []
          },
          "execution_count": 24
        }
      ]
    },
    {
      "cell_type": "code",
      "metadata": {
        "colab_type": "code",
        "outputId": "38458d0c-86a1-4139-a8fa-9e8d62583d8b",
        "id": "MM08OfRvFkjD",
        "colab": {
          "base_uri": "https://localhost:8080/",
          "height": 34
        }
      },
      "source": [
        "type(lda_result)"
      ],
      "execution_count": 0,
      "outputs": [
        {
          "output_type": "execute_result",
          "data": {
            "text/plain": [
              "sklearn.discriminant_analysis.LinearDiscriminantAnalysis"
            ]
          },
          "metadata": {
            "tags": []
          },
          "execution_count": 25
        }
      ]
    },
    {
      "cell_type": "code",
      "metadata": {
        "colab_type": "code",
        "id": "P-SkXFWhFkjO",
        "colab": {}
      },
      "source": [
        "df = pd.DataFrame(test_data_lda, columns=['lda_one', 'lda_two'])"
      ],
      "execution_count": 0,
      "outputs": []
    },
    {
      "cell_type": "code",
      "metadata": {
        "colab_type": "code",
        "outputId": "557831d4-1d3f-41c6-ed0d-40a670ec4667",
        "id": "To7PcPxFFkjX",
        "colab": {
          "base_uri": "https://localhost:8080/",
          "height": 1000
        }
      },
      "source": [
        "df"
      ],
      "execution_count": 0,
      "outputs": [
        {
          "output_type": "execute_result",
          "data": {
            "text/html": [
              "<div>\n",
              "<style scoped>\n",
              "    .dataframe tbody tr th:only-of-type {\n",
              "        vertical-align: middle;\n",
              "    }\n",
              "\n",
              "    .dataframe tbody tr th {\n",
              "        vertical-align: top;\n",
              "    }\n",
              "\n",
              "    .dataframe thead th {\n",
              "        text-align: right;\n",
              "    }\n",
              "</style>\n",
              "<table border=\"1\" class=\"dataframe\">\n",
              "  <thead>\n",
              "    <tr style=\"text-align: right;\">\n",
              "      <th></th>\n",
              "      <th>lda_one</th>\n",
              "      <th>lda_two</th>\n",
              "    </tr>\n",
              "  </thead>\n",
              "  <tbody>\n",
              "    <tr>\n",
              "      <th>0</th>\n",
              "      <td>-6.617918</td>\n",
              "      <td>-12.356202</td>\n",
              "    </tr>\n",
              "    <tr>\n",
              "      <th>1</th>\n",
              "      <td>-17.481509</td>\n",
              "      <td>-29.636207</td>\n",
              "    </tr>\n",
              "    <tr>\n",
              "      <th>2</th>\n",
              "      <td>5.195725</td>\n",
              "      <td>-11.079193</td>\n",
              "    </tr>\n",
              "    <tr>\n",
              "      <th>3</th>\n",
              "      <td>-7.040704</td>\n",
              "      <td>-3.841594</td>\n",
              "    </tr>\n",
              "    <tr>\n",
              "      <th>4</th>\n",
              "      <td>-8.105453</td>\n",
              "      <td>-1.624225</td>\n",
              "    </tr>\n",
              "    <tr>\n",
              "      <th>5</th>\n",
              "      <td>-6.545605</td>\n",
              "      <td>-41.762890</td>\n",
              "    </tr>\n",
              "    <tr>\n",
              "      <th>6</th>\n",
              "      <td>46.504103</td>\n",
              "      <td>-109.629628</td>\n",
              "    </tr>\n",
              "    <tr>\n",
              "      <th>7</th>\n",
              "      <td>-8.923523</td>\n",
              "      <td>-1.951316</td>\n",
              "    </tr>\n",
              "    <tr>\n",
              "      <th>8</th>\n",
              "      <td>-7.459192</td>\n",
              "      <td>-44.371672</td>\n",
              "    </tr>\n",
              "    <tr>\n",
              "      <th>9</th>\n",
              "      <td>97.797257</td>\n",
              "      <td>-244.922192</td>\n",
              "    </tr>\n",
              "    <tr>\n",
              "      <th>10</th>\n",
              "      <td>17.869365</td>\n",
              "      <td>-49.764691</td>\n",
              "    </tr>\n",
              "    <tr>\n",
              "      <th>11</th>\n",
              "      <td>35.218644</td>\n",
              "      <td>-88.808987</td>\n",
              "    </tr>\n",
              "    <tr>\n",
              "      <th>12</th>\n",
              "      <td>-8.784367</td>\n",
              "      <td>-37.272956</td>\n",
              "    </tr>\n",
              "    <tr>\n",
              "      <th>13</th>\n",
              "      <td>28.956965</td>\n",
              "      <td>-46.674234</td>\n",
              "    </tr>\n",
              "    <tr>\n",
              "      <th>14</th>\n",
              "      <td>29.973184</td>\n",
              "      <td>-84.013236</td>\n",
              "    </tr>\n",
              "    <tr>\n",
              "      <th>15</th>\n",
              "      <td>6.100529</td>\n",
              "      <td>-41.168710</td>\n",
              "    </tr>\n",
              "    <tr>\n",
              "      <th>16</th>\n",
              "      <td>18.571475</td>\n",
              "      <td>-75.866320</td>\n",
              "    </tr>\n",
              "    <tr>\n",
              "      <th>17</th>\n",
              "      <td>53.940924</td>\n",
              "      <td>-130.939533</td>\n",
              "    </tr>\n",
              "    <tr>\n",
              "      <th>18</th>\n",
              "      <td>71.663688</td>\n",
              "      <td>-92.017492</td>\n",
              "    </tr>\n",
              "    <tr>\n",
              "      <th>19</th>\n",
              "      <td>19.481654</td>\n",
              "      <td>-59.151997</td>\n",
              "    </tr>\n",
              "    <tr>\n",
              "      <th>20</th>\n",
              "      <td>21.798469</td>\n",
              "      <td>-80.560183</td>\n",
              "    </tr>\n",
              "    <tr>\n",
              "      <th>21</th>\n",
              "      <td>-12.345963</td>\n",
              "      <td>-25.526802</td>\n",
              "    </tr>\n",
              "    <tr>\n",
              "      <th>22</th>\n",
              "      <td>34.759914</td>\n",
              "      <td>-83.366873</td>\n",
              "    </tr>\n",
              "    <tr>\n",
              "      <th>23</th>\n",
              "      <td>-1.133490</td>\n",
              "      <td>-33.576652</td>\n",
              "    </tr>\n",
              "    <tr>\n",
              "      <th>24</th>\n",
              "      <td>49.081236</td>\n",
              "      <td>-121.664338</td>\n",
              "    </tr>\n",
              "    <tr>\n",
              "      <th>25</th>\n",
              "      <td>38.852404</td>\n",
              "      <td>-92.088211</td>\n",
              "    </tr>\n",
              "    <tr>\n",
              "      <th>26</th>\n",
              "      <td>40.057101</td>\n",
              "      <td>-75.533825</td>\n",
              "    </tr>\n",
              "    <tr>\n",
              "      <th>27</th>\n",
              "      <td>39.928668</td>\n",
              "      <td>-110.507066</td>\n",
              "    </tr>\n",
              "    <tr>\n",
              "      <th>28</th>\n",
              "      <td>0.256565</td>\n",
              "      <td>-47.885311</td>\n",
              "    </tr>\n",
              "    <tr>\n",
              "      <th>29</th>\n",
              "      <td>9.206738</td>\n",
              "      <td>-44.368850</td>\n",
              "    </tr>\n",
              "    <tr>\n",
              "      <th>30</th>\n",
              "      <td>-3.342459</td>\n",
              "      <td>-9.964072</td>\n",
              "    </tr>\n",
              "    <tr>\n",
              "      <th>31</th>\n",
              "      <td>-0.919016</td>\n",
              "      <td>-6.925830</td>\n",
              "    </tr>\n",
              "    <tr>\n",
              "      <th>32</th>\n",
              "      <td>6.930792</td>\n",
              "      <td>-14.208775</td>\n",
              "    </tr>\n",
              "    <tr>\n",
              "      <th>33</th>\n",
              "      <td>-5.163431</td>\n",
              "      <td>1.356545</td>\n",
              "    </tr>\n",
              "  </tbody>\n",
              "</table>\n",
              "</div>"
            ],
            "text/plain": [
              "      lda_one     lda_two\n",
              "0   -6.617918  -12.356202\n",
              "1  -17.481509  -29.636207\n",
              "2    5.195725  -11.079193\n",
              "3   -7.040704   -3.841594\n",
              "4   -8.105453   -1.624225\n",
              "5   -6.545605  -41.762890\n",
              "6   46.504103 -109.629628\n",
              "7   -8.923523   -1.951316\n",
              "8   -7.459192  -44.371672\n",
              "9   97.797257 -244.922192\n",
              "10  17.869365  -49.764691\n",
              "11  35.218644  -88.808987\n",
              "12  -8.784367  -37.272956\n",
              "13  28.956965  -46.674234\n",
              "14  29.973184  -84.013236\n",
              "15   6.100529  -41.168710\n",
              "16  18.571475  -75.866320\n",
              "17  53.940924 -130.939533\n",
              "18  71.663688  -92.017492\n",
              "19  19.481654  -59.151997\n",
              "20  21.798469  -80.560183\n",
              "21 -12.345963  -25.526802\n",
              "22  34.759914  -83.366873\n",
              "23  -1.133490  -33.576652\n",
              "24  49.081236 -121.664338\n",
              "25  38.852404  -92.088211\n",
              "26  40.057101  -75.533825\n",
              "27  39.928668 -110.507066\n",
              "28   0.256565  -47.885311\n",
              "29   9.206738  -44.368850\n",
              "30  -3.342459   -9.964072\n",
              "31  -0.919016   -6.925830\n",
              "32   6.930792  -14.208775\n",
              "33  -5.163431    1.356545"
            ]
          },
          "metadata": {
            "tags": []
          },
          "execution_count": 29
        }
      ]
    },
    {
      "cell_type": "code",
      "metadata": {
        "colab_type": "code",
        "outputId": "1368ace3-b5cb-4e08-87ae-4b5eac3363c1",
        "id": "jCX5m8XqFkje",
        "colab": {
          "base_uri": "https://localhost:8080/",
          "height": 34
        }
      },
      "source": [
        "print('Explained variation per principal component: {}'.format(lda.explained_variance_ratio_))"
      ],
      "execution_count": 0,
      "outputs": [
        {
          "output_type": "stream",
          "text": [
            "Explained variation per principal component: [0.6450461 0.3549539]\n"
          ],
          "name": "stdout"
        }
      ]
    },
    {
      "cell_type": "markdown",
      "metadata": {
        "colab_type": "text",
        "id": "a1VuOzUGFkjm"
      },
      "source": [
        "La prima componente ha il 65% della varianza dell'intero dataset, la seconda il 35%"
      ]
    },
    {
      "cell_type": "markdown",
      "metadata": {
        "colab_type": "text",
        "id": "dCJ60W1oFkjp"
      },
      "source": [
        "####Scatterplot Test data"
      ]
    },
    {
      "cell_type": "markdown",
      "metadata": {
        "colab_type": "text",
        "id": "npm8eUSuFkjs"
      },
      "source": [
        "Creiamo uno scatter plot della prima e della seconda componente principale, usiamo colori diversi per le diverse istologie."
      ]
    },
    {
      "cell_type": "code",
      "metadata": {
        "colab_type": "code",
        "outputId": "c53fd2f1-f2dd-40e7-be43-67a17d1f49ef",
        "id": "8pFvq27SFkju",
        "colab": {
          "base_uri": "https://localhost:8080/",
          "height": 623
        }
      },
      "source": [
        "plt.figure(figsize=(16, 10))\n",
        "sns.scatterplot(x=df.lda_one, y=df.lda_two, hue=train_labels, \n",
        "                palette=sns.color_palette('hls', 3), legend='full')"
      ],
      "execution_count": 0,
      "outputs": [
        {
          "output_type": "execute_result",
          "data": {
            "text/plain": [
              "<matplotlib.axes._subplots.AxesSubplot at 0x7fcec6c56c88>"
            ]
          },
          "metadata": {
            "tags": []
          },
          "execution_count": 32
        },
        {
          "output_type": "display_data",
          "data": {
            "image/png": "[encoded data removed]",
            "text/plain": [
              "<Figure size 1152x720 with 1 Axes>"
            ]
          },
          "metadata": {
            "tags": []
          }
        }
      ]
    },
    {
      "cell_type": "markdown",
      "metadata": {
        "id": "xEM2OzeUHTRk",
        "colab_type": "text"
      },
      "source": [
        "###Facendo un nuovo fit con i dati di test"
      ]
    },
    {
      "cell_type": "code",
      "metadata": {
        "colab_type": "code",
        "id": "WpgKtfL8Hpgf",
        "colab": {}
      },
      "source": [
        "lda = LinearDiscriminantAnalysis()\n",
        "lda_result = lda.fit(test_data, test_labels)\n",
        "test_data_lda = lda.transform(test_data)"
      ],
      "execution_count": 0,
      "outputs": []
    },
    {
      "cell_type": "code",
      "metadata": {
        "colab_type": "code",
        "outputId": "b73656e0-61e3-45c9-9a9a-edc4b5ccc888",
        "id": "4qGEU5eYHpgw",
        "colab": {
          "base_uri": "https://localhost:8080/",
          "height": 34
        }
      },
      "source": [
        "test_data_lda.shape"
      ],
      "execution_count": 0,
      "outputs": [
        {
          "output_type": "execute_result",
          "data": {
            "text/plain": [
              "(34, 2)"
            ]
          },
          "metadata": {
            "tags": []
          },
          "execution_count": 44
        }
      ]
    },
    {
      "cell_type": "code",
      "metadata": {
        "colab_type": "code",
        "outputId": "9acf8465-7c6d-4a91-caab-e972e9f0e094",
        "id": "Vx-Yh1hZHpg-",
        "colab": {
          "base_uri": "https://localhost:8080/",
          "height": 34
        }
      },
      "source": [
        "type(lda_result)"
      ],
      "execution_count": 0,
      "outputs": [
        {
          "output_type": "execute_result",
          "data": {
            "text/plain": [
              "sklearn.discriminant_analysis.LinearDiscriminantAnalysis"
            ]
          },
          "metadata": {
            "tags": []
          },
          "execution_count": 35
        }
      ]
    },
    {
      "cell_type": "code",
      "metadata": {
        "colab_type": "code",
        "id": "Wz18DiFRHphI",
        "colab": {}
      },
      "source": [
        "df = pd.DataFrame(test_data_lda, columns=['lda_one', 'lda_two'])"
      ],
      "execution_count": 0,
      "outputs": []
    },
    {
      "cell_type": "code",
      "metadata": {
        "colab_type": "code",
        "outputId": "9e7003a6-5fd3-48b3-eb47-87666ce0a5b0",
        "id": "2E5WPzS6HphS",
        "colab": {
          "base_uri": "https://localhost:8080/",
          "height": 34
        }
      },
      "source": [
        "df.shape"
      ],
      "execution_count": 0,
      "outputs": [
        {
          "output_type": "execute_result",
          "data": {
            "text/plain": [
              "(165, 2)"
            ]
          },
          "metadata": {
            "tags": []
          },
          "execution_count": 99
        }
      ]
    },
    {
      "cell_type": "code",
      "metadata": {
        "colab_type": "code",
        "outputId": "0793df45-ed5d-4a15-98c9-d67abb3270e7",
        "id": "zVCy5cNZHpha",
        "colab": {
          "base_uri": "https://localhost:8080/",
          "height": 34
        }
      },
      "source": [
        "print('Explained variation per principal component: {}'.format(lda.explained_variance_ratio_))"
      ],
      "execution_count": 0,
      "outputs": [
        {
          "output_type": "stream",
          "text": [
            "Explained variation per principal component: [0.78911902 0.21088098]\n"
          ],
          "name": "stdout"
        }
      ]
    },
    {
      "cell_type": "markdown",
      "metadata": {
        "colab_type": "text",
        "id": "h4S6Z3B6Hphj"
      },
      "source": [
        "La prima componente ha il 65% della varianza dell'intero dataset, la seconda il 35%"
      ]
    },
    {
      "cell_type": "markdown",
      "metadata": {
        "colab_type": "text",
        "id": "ygbTkRkiHphl"
      },
      "source": [
        "####Scatterplot Test data"
      ]
    },
    {
      "cell_type": "markdown",
      "metadata": {
        "colab_type": "text",
        "id": "KL6h9iW_Hphn"
      },
      "source": [
        "Creiamo uno scatter plot della prima e della seconda componente principale, usiamo colori diversi per le diverse istologie."
      ]
    },
    {
      "cell_type": "code",
      "metadata": {
        "colab_type": "code",
        "outputId": "f33b11f5-05cc-452e-e824-95e8635d913b",
        "id": "RGuVv6WeHphq",
        "colab": {
          "base_uri": "https://localhost:8080/",
          "height": 623
        }
      },
      "source": [
        "plt.figure(figsize=(16, 10))\n",
        "sns.scatterplot(x=df.lda_one, y=df.lda_two, hue=train_labels, \n",
        "                palette=sns.color_palette('hls', 3), legend='full')"
      ],
      "execution_count": 0,
      "outputs": [
        {
          "output_type": "execute_result",
          "data": {
            "text/plain": [
              "<matplotlib.axes._subplots.AxesSubplot at 0x7fcec68aec50>"
            ]
          },
          "metadata": {
            "tags": []
          },
          "execution_count": 51
        },
        {
          "output_type": "display_data",
          "data": {
            "image/png": "[encoded data removed]",
            "text/plain": [
              "<Figure size 1152x720 with 1 Axes>"
            ]
          },
          "metadata": {
            "tags": []
          }
        }
      ]
    },
    {
      "cell_type": "code",
      "metadata": {
        "id": "cG6lRWlrVtTX",
        "colab_type": "code",
        "outputId": "5738fa88-5dae-4716-9311-b683525e6d98",
        "colab": {
          "base_uri": "https://localhost:8080/",
          "height": 34
        }
      },
      "source": [
        "list(df_test.Histology).count('adenocarcinoma')"
      ],
      "execution_count": 0,
      "outputs": [
        {
          "output_type": "execute_result",
          "data": {
            "text/plain": [
              "20"
            ]
          },
          "metadata": {
            "tags": []
          },
          "execution_count": 100
        }
      ]
    },
    {
      "cell_type": "code",
      "metadata": {
        "id": "j7tjTKQAWOJT",
        "colab_type": "code",
        "outputId": "9e662e00-54f0-476b-8ebf-9940dc4ad2f9",
        "colab": {
          "base_uri": "https://localhost:8080/",
          "height": 34
        }
      },
      "source": [
        "list(df_test.Histology).count('large cell')"
      ],
      "execution_count": 0,
      "outputs": [
        {
          "output_type": "execute_result",
          "data": {
            "text/plain": [
              "4"
            ]
          },
          "metadata": {
            "tags": []
          },
          "execution_count": 102
        }
      ]
    },
    {
      "cell_type": "code",
      "metadata": {
        "id": "uPMrsXewWN5Y",
        "colab_type": "code",
        "outputId": "ebae3471-25fe-4a8b-b126-a1a00724cf80",
        "colab": {
          "base_uri": "https://localhost:8080/",
          "height": 34
        }
      },
      "source": [
        "list(df_test.Histology).count('squamous cell carcinoma')"
      ],
      "execution_count": 0,
      "outputs": [
        {
          "output_type": "execute_result",
          "data": {
            "text/plain": [
              "10"
            ]
          },
          "metadata": {
            "tags": []
          },
          "execution_count": 104
        }
      ]
    },
    {
      "cell_type": "markdown",
      "metadata": {
        "id": "FVShOWVUWhvu",
        "colab_type": "text"
      },
      "source": [
        "Non separa bene large cell da squamous cell carcinoma"
      ]
    },
    {
      "cell_type": "markdown",
      "metadata": {
        "colab_type": "text",
        "id": "OG2VdE_VKYnu"
      },
      "source": [
        "#Visualize using LDA, data STAND"
      ]
    },
    {
      "cell_type": "markdown",
      "metadata": {
        "colab_type": "text",
        "id": "OEL7dJ7SKYoN"
      },
      "source": [
        "##Train data"
      ]
    },
    {
      "cell_type": "code",
      "metadata": {
        "colab_type": "code",
        "id": "kPOly8dUKYoS",
        "colab": {}
      },
      "source": [
        "lda = LinearDiscriminantAnalysis()\n",
        "lda_result = lda.fit(train_data_stand, train_labels)\n",
        "train_data_lda_stand = lda.transform(train_data_stand)"
      ],
      "execution_count": 0,
      "outputs": []
    },
    {
      "cell_type": "code",
      "metadata": {
        "colab_type": "code",
        "outputId": "a9cdd589-030c-46f5-d485-5d225cee224f",
        "id": "2MPkba1DKYoe",
        "colab": {
          "base_uri": "https://localhost:8080/",
          "height": 34
        }
      },
      "source": [
        "train_data_lda_stand.shape"
      ],
      "execution_count": 0,
      "outputs": [
        {
          "output_type": "execute_result",
          "data": {
            "text/plain": [
              "(131, 2)"
            ]
          },
          "metadata": {
            "tags": []
          },
          "execution_count": 54
        }
      ]
    },
    {
      "cell_type": "code",
      "metadata": {
        "colab_type": "code",
        "outputId": "0a58d117-a8c4-49d2-a001-32cd7dc89ffb",
        "id": "ZSfNWcp3KYon",
        "colab": {
          "base_uri": "https://localhost:8080/",
          "height": 34
        }
      },
      "source": [
        "type(lda_result)"
      ],
      "execution_count": 0,
      "outputs": [
        {
          "output_type": "execute_result",
          "data": {
            "text/plain": [
              "sklearn.discriminant_analysis.LinearDiscriminantAnalysis"
            ]
          },
          "metadata": {
            "tags": []
          },
          "execution_count": 55
        }
      ]
    },
    {
      "cell_type": "code",
      "metadata": {
        "colab_type": "code",
        "id": "ktfVVD02KYox",
        "colab": {}
      },
      "source": [
        "df = pd.DataFrame(train_data_lda_stand, columns=['lda_one', 'lda_two'])"
      ],
      "execution_count": 0,
      "outputs": []
    },
    {
      "cell_type": "code",
      "metadata": {
        "colab_type": "code",
        "outputId": "cd81cf42-971a-4f61-c7b8-18f8552ee09c",
        "id": "xuplnWM1KYo4",
        "colab": {
          "base_uri": "https://localhost:8080/",
          "height": 424
        }
      },
      "source": [
        "df"
      ],
      "execution_count": 0,
      "outputs": [
        {
          "output_type": "execute_result",
          "data": {
            "text/html": [
              "<div>\n",
              "<style scoped>\n",
              "    .dataframe tbody tr th:only-of-type {\n",
              "        vertical-align: middle;\n",
              "    }\n",
              "\n",
              "    .dataframe tbody tr th {\n",
              "        vertical-align: top;\n",
              "    }\n",
              "\n",
              "    .dataframe thead th {\n",
              "        text-align: right;\n",
              "    }\n",
              "</style>\n",
              "<table border=\"1\" class=\"dataframe\">\n",
              "  <thead>\n",
              "    <tr style=\"text-align: right;\">\n",
              "      <th></th>\n",
              "      <th>lda_one</th>\n",
              "      <th>lda_two</th>\n",
              "    </tr>\n",
              "  </thead>\n",
              "  <tbody>\n",
              "    <tr>\n",
              "      <th>0</th>\n",
              "      <td>-3.735330</td>\n",
              "      <td>5.539015</td>\n",
              "    </tr>\n",
              "    <tr>\n",
              "      <th>1</th>\n",
              "      <td>-2.972100</td>\n",
              "      <td>3.896330</td>\n",
              "    </tr>\n",
              "    <tr>\n",
              "      <th>2</th>\n",
              "      <td>-4.492177</td>\n",
              "      <td>4.515088</td>\n",
              "    </tr>\n",
              "    <tr>\n",
              "      <th>3</th>\n",
              "      <td>-3.994613</td>\n",
              "      <td>4.380586</td>\n",
              "    </tr>\n",
              "    <tr>\n",
              "      <th>4</th>\n",
              "      <td>-2.207364</td>\n",
              "      <td>4.471812</td>\n",
              "    </tr>\n",
              "    <tr>\n",
              "      <th>...</th>\n",
              "      <td>...</td>\n",
              "      <td>...</td>\n",
              "    </tr>\n",
              "    <tr>\n",
              "      <th>126</th>\n",
              "      <td>2.270244</td>\n",
              "      <td>0.681552</td>\n",
              "    </tr>\n",
              "    <tr>\n",
              "      <th>127</th>\n",
              "      <td>2.862014</td>\n",
              "      <td>1.671285</td>\n",
              "    </tr>\n",
              "    <tr>\n",
              "      <th>128</th>\n",
              "      <td>4.186723</td>\n",
              "      <td>-2.234604</td>\n",
              "    </tr>\n",
              "    <tr>\n",
              "      <th>129</th>\n",
              "      <td>3.013112</td>\n",
              "      <td>0.917586</td>\n",
              "    </tr>\n",
              "    <tr>\n",
              "      <th>130</th>\n",
              "      <td>3.107027</td>\n",
              "      <td>1.440474</td>\n",
              "    </tr>\n",
              "  </tbody>\n",
              "</table>\n",
              "<p>131 rows × 2 columns</p>\n",
              "</div>"
            ],
            "text/plain": [
              "      lda_one   lda_two\n",
              "0   -3.735330  5.539015\n",
              "1   -2.972100  3.896330\n",
              "2   -4.492177  4.515088\n",
              "3   -3.994613  4.380586\n",
              "4   -2.207364  4.471812\n",
              "..        ...       ...\n",
              "126  2.270244  0.681552\n",
              "127  2.862014  1.671285\n",
              "128  4.186723 -2.234604\n",
              "129  3.013112  0.917586\n",
              "130  3.107027  1.440474\n",
              "\n",
              "[131 rows x 2 columns]"
            ]
          },
          "metadata": {
            "tags": []
          },
          "execution_count": 68
        }
      ]
    },
    {
      "cell_type": "code",
      "metadata": {
        "colab_type": "code",
        "outputId": "4337b1e5-69ac-496a-b1d2-bbebc54ec0cf",
        "id": "zw3vNF9DKYpB",
        "colab": {
          "base_uri": "https://localhost:8080/",
          "height": 34
        }
      },
      "source": [
        "print('Explained variation per principal component: {}'.format(lda.explained_variance_ratio_))"
      ],
      "execution_count": 0,
      "outputs": [
        {
          "output_type": "stream",
          "text": [
            "Explained variation per principal component: [0.6450461 0.3549539]\n"
          ],
          "name": "stdout"
        }
      ]
    },
    {
      "cell_type": "markdown",
      "metadata": {
        "colab_type": "text",
        "id": "RcCW_vPLKYpH"
      },
      "source": [
        "La prima componente ha il 65% della varianza dell'intero dataset, la seconda il 35%"
      ]
    },
    {
      "cell_type": "markdown",
      "metadata": {
        "colab_type": "text",
        "id": "_DotFJRaKYpJ"
      },
      "source": [
        "###Scatterplot Train data"
      ]
    },
    {
      "cell_type": "markdown",
      "metadata": {
        "colab_type": "text",
        "id": "fmeiQ7vrKYpO"
      },
      "source": [
        "Creiamo uno scatter plot della prima e della seconda componente principale, usiamo colori diversi per le diverse istologie."
      ]
    },
    {
      "cell_type": "code",
      "metadata": {
        "colab_type": "code",
        "outputId": "d2c24d68-a907-4b94-ca00-9f489068988a",
        "id": "5i0z88f7KYpR",
        "colab": {
          "base_uri": "https://localhost:8080/",
          "height": 623
        }
      },
      "source": [
        "plt.figure(figsize=(16, 10))\n",
        "sns.scatterplot(x=df.lda_one, y=df.lda_two, hue=train_labels, \n",
        "                palette=sns.color_palette('hls', 3), legend='full')"
      ],
      "execution_count": 0,
      "outputs": [
        {
          "output_type": "execute_result",
          "data": {
            "text/plain": [
              "<matplotlib.axes._subplots.AxesSubplot at 0x7fcec68371d0>"
            ]
          },
          "metadata": {
            "tags": []
          },
          "execution_count": 59
        },
        {
          "output_type": "display_data",
          "data": {
            "image/png": "[encoded data removed]",
            "text/plain": [
              "<Figure size 1152x720 with 1 Axes>"
            ]
          },
          "metadata": {
            "tags": []
          }
        }
      ]
    },
    {
      "cell_type": "markdown",
      "metadata": {
        "colab_type": "text",
        "id": "HmsEoHmGKYpZ"
      },
      "source": [
        "##Test data"
      ]
    },
    {
      "cell_type": "markdown",
      "metadata": {
        "colab_type": "text",
        "id": "mVnzOesCKYpb"
      },
      "source": [
        "###Applicando il fit ottenuto per i dati di training per l'LDA"
      ]
    },
    {
      "cell_type": "code",
      "metadata": {
        "colab_type": "code",
        "id": "Tc9i2FoeKYpe",
        "colab": {}
      },
      "source": [
        "test_data_lda_stand = lda.transform(test_data_stand)"
      ],
      "execution_count": 0,
      "outputs": []
    },
    {
      "cell_type": "code",
      "metadata": {
        "colab_type": "code",
        "outputId": "5cb220ee-7192-40d8-a9d7-f10b1d664b31",
        "id": "FEmMftS8KYpl",
        "colab": {
          "base_uri": "https://localhost:8080/",
          "height": 34
        }
      },
      "source": [
        "test_data_lda_stand.shape"
      ],
      "execution_count": 0,
      "outputs": [
        {
          "output_type": "execute_result",
          "data": {
            "text/plain": [
              "(34, 2)"
            ]
          },
          "metadata": {
            "tags": []
          },
          "execution_count": 70
        }
      ]
    },
    {
      "cell_type": "code",
      "metadata": {
        "colab_type": "code",
        "outputId": "3b5a88a1-78b0-4325-e276-44c6951c1d5a",
        "id": "J1zwMP51KYpt",
        "colab": {
          "base_uri": "https://localhost:8080/",
          "height": 34
        }
      },
      "source": [
        "type(lda_result)"
      ],
      "execution_count": 0,
      "outputs": [
        {
          "output_type": "execute_result",
          "data": {
            "text/plain": [
              "sklearn.discriminant_analysis.LinearDiscriminantAnalysis"
            ]
          },
          "metadata": {
            "tags": []
          },
          "execution_count": 71
        }
      ]
    },
    {
      "cell_type": "code",
      "metadata": {
        "colab_type": "code",
        "id": "EsIi5RVjKYpz",
        "colab": {}
      },
      "source": [
        "df = pd.DataFrame(test_data_lda_stand, columns=['lda_one', 'lda_two'])"
      ],
      "execution_count": 0,
      "outputs": []
    },
    {
      "cell_type": "code",
      "metadata": {
        "colab_type": "code",
        "outputId": "9606abc2-fdc0-4066-e2f3-d1a9bda75f25",
        "id": "reptmg1sKYp4",
        "colab": {
          "base_uri": "https://localhost:8080/",
          "height": 1000
        }
      },
      "source": [
        "df"
      ],
      "execution_count": 0,
      "outputs": [
        {
          "output_type": "execute_result",
          "data": {
            "text/html": [
              "<div>\n",
              "<style scoped>\n",
              "    .dataframe tbody tr th:only-of-type {\n",
              "        vertical-align: middle;\n",
              "    }\n",
              "\n",
              "    .dataframe tbody tr th {\n",
              "        vertical-align: top;\n",
              "    }\n",
              "\n",
              "    .dataframe thead th {\n",
              "        text-align: right;\n",
              "    }\n",
              "</style>\n",
              "<table border=\"1\" class=\"dataframe\">\n",
              "  <thead>\n",
              "    <tr style=\"text-align: right;\">\n",
              "      <th></th>\n",
              "      <th>lda_one</th>\n",
              "      <th>lda_two</th>\n",
              "    </tr>\n",
              "  </thead>\n",
              "  <tbody>\n",
              "    <tr>\n",
              "      <th>0</th>\n",
              "      <td>-6.617918</td>\n",
              "      <td>-12.356202</td>\n",
              "    </tr>\n",
              "    <tr>\n",
              "      <th>1</th>\n",
              "      <td>-17.481509</td>\n",
              "      <td>-29.636207</td>\n",
              "    </tr>\n",
              "    <tr>\n",
              "      <th>2</th>\n",
              "      <td>5.195725</td>\n",
              "      <td>-11.079193</td>\n",
              "    </tr>\n",
              "    <tr>\n",
              "      <th>3</th>\n",
              "      <td>-7.040704</td>\n",
              "      <td>-3.841594</td>\n",
              "    </tr>\n",
              "    <tr>\n",
              "      <th>4</th>\n",
              "      <td>-8.105453</td>\n",
              "      <td>-1.624225</td>\n",
              "    </tr>\n",
              "    <tr>\n",
              "      <th>5</th>\n",
              "      <td>-6.545605</td>\n",
              "      <td>-41.762890</td>\n",
              "    </tr>\n",
              "    <tr>\n",
              "      <th>6</th>\n",
              "      <td>46.504103</td>\n",
              "      <td>-109.629628</td>\n",
              "    </tr>\n",
              "    <tr>\n",
              "      <th>7</th>\n",
              "      <td>-8.923523</td>\n",
              "      <td>-1.951316</td>\n",
              "    </tr>\n",
              "    <tr>\n",
              "      <th>8</th>\n",
              "      <td>-7.459192</td>\n",
              "      <td>-44.371672</td>\n",
              "    </tr>\n",
              "    <tr>\n",
              "      <th>9</th>\n",
              "      <td>97.797257</td>\n",
              "      <td>-244.922192</td>\n",
              "    </tr>\n",
              "    <tr>\n",
              "      <th>10</th>\n",
              "      <td>17.869365</td>\n",
              "      <td>-49.764691</td>\n",
              "    </tr>\n",
              "    <tr>\n",
              "      <th>11</th>\n",
              "      <td>35.218644</td>\n",
              "      <td>-88.808987</td>\n",
              "    </tr>\n",
              "    <tr>\n",
              "      <th>12</th>\n",
              "      <td>-8.784367</td>\n",
              "      <td>-37.272956</td>\n",
              "    </tr>\n",
              "    <tr>\n",
              "      <th>13</th>\n",
              "      <td>28.956965</td>\n",
              "      <td>-46.674234</td>\n",
              "    </tr>\n",
              "    <tr>\n",
              "      <th>14</th>\n",
              "      <td>29.973184</td>\n",
              "      <td>-84.013236</td>\n",
              "    </tr>\n",
              "    <tr>\n",
              "      <th>15</th>\n",
              "      <td>6.100529</td>\n",
              "      <td>-41.168710</td>\n",
              "    </tr>\n",
              "    <tr>\n",
              "      <th>16</th>\n",
              "      <td>18.571475</td>\n",
              "      <td>-75.866320</td>\n",
              "    </tr>\n",
              "    <tr>\n",
              "      <th>17</th>\n",
              "      <td>53.940924</td>\n",
              "      <td>-130.939533</td>\n",
              "    </tr>\n",
              "    <tr>\n",
              "      <th>18</th>\n",
              "      <td>71.663688</td>\n",
              "      <td>-92.017492</td>\n",
              "    </tr>\n",
              "    <tr>\n",
              "      <th>19</th>\n",
              "      <td>19.481654</td>\n",
              "      <td>-59.151997</td>\n",
              "    </tr>\n",
              "    <tr>\n",
              "      <th>20</th>\n",
              "      <td>21.798469</td>\n",
              "      <td>-80.560183</td>\n",
              "    </tr>\n",
              "    <tr>\n",
              "      <th>21</th>\n",
              "      <td>-12.345963</td>\n",
              "      <td>-25.526802</td>\n",
              "    </tr>\n",
              "    <tr>\n",
              "      <th>22</th>\n",
              "      <td>34.759914</td>\n",
              "      <td>-83.366873</td>\n",
              "    </tr>\n",
              "    <tr>\n",
              "      <th>23</th>\n",
              "      <td>-1.133490</td>\n",
              "      <td>-33.576652</td>\n",
              "    </tr>\n",
              "    <tr>\n",
              "      <th>24</th>\n",
              "      <td>49.081236</td>\n",
              "      <td>-121.664338</td>\n",
              "    </tr>\n",
              "    <tr>\n",
              "      <th>25</th>\n",
              "      <td>38.852404</td>\n",
              "      <td>-92.088211</td>\n",
              "    </tr>\n",
              "    <tr>\n",
              "      <th>26</th>\n",
              "      <td>40.057101</td>\n",
              "      <td>-75.533825</td>\n",
              "    </tr>\n",
              "    <tr>\n",
              "      <th>27</th>\n",
              "      <td>39.928668</td>\n",
              "      <td>-110.507066</td>\n",
              "    </tr>\n",
              "    <tr>\n",
              "      <th>28</th>\n",
              "      <td>0.256565</td>\n",
              "      <td>-47.885311</td>\n",
              "    </tr>\n",
              "    <tr>\n",
              "      <th>29</th>\n",
              "      <td>9.206738</td>\n",
              "      <td>-44.368850</td>\n",
              "    </tr>\n",
              "    <tr>\n",
              "      <th>30</th>\n",
              "      <td>-3.342459</td>\n",
              "      <td>-9.964072</td>\n",
              "    </tr>\n",
              "    <tr>\n",
              "      <th>31</th>\n",
              "      <td>-0.919016</td>\n",
              "      <td>-6.925830</td>\n",
              "    </tr>\n",
              "    <tr>\n",
              "      <th>32</th>\n",
              "      <td>6.930792</td>\n",
              "      <td>-14.208775</td>\n",
              "    </tr>\n",
              "    <tr>\n",
              "      <th>33</th>\n",
              "      <td>-5.163431</td>\n",
              "      <td>1.356545</td>\n",
              "    </tr>\n",
              "  </tbody>\n",
              "</table>\n",
              "</div>"
            ],
            "text/plain": [
              "      lda_one     lda_two\n",
              "0   -6.617918  -12.356202\n",
              "1  -17.481509  -29.636207\n",
              "2    5.195725  -11.079193\n",
              "3   -7.040704   -3.841594\n",
              "4   -8.105453   -1.624225\n",
              "5   -6.545605  -41.762890\n",
              "6   46.504103 -109.629628\n",
              "7   -8.923523   -1.951316\n",
              "8   -7.459192  -44.371672\n",
              "9   97.797257 -244.922192\n",
              "10  17.869365  -49.764691\n",
              "11  35.218644  -88.808987\n",
              "12  -8.784367  -37.272956\n",
              "13  28.956965  -46.674234\n",
              "14  29.973184  -84.013236\n",
              "15   6.100529  -41.168710\n",
              "16  18.571475  -75.866320\n",
              "17  53.940924 -130.939533\n",
              "18  71.663688  -92.017492\n",
              "19  19.481654  -59.151997\n",
              "20  21.798469  -80.560183\n",
              "21 -12.345963  -25.526802\n",
              "22  34.759914  -83.366873\n",
              "23  -1.133490  -33.576652\n",
              "24  49.081236 -121.664338\n",
              "25  38.852404  -92.088211\n",
              "26  40.057101  -75.533825\n",
              "27  39.928668 -110.507066\n",
              "28   0.256565  -47.885311\n",
              "29   9.206738  -44.368850\n",
              "30  -3.342459   -9.964072\n",
              "31  -0.919016   -6.925830\n",
              "32   6.930792  -14.208775\n",
              "33  -5.163431    1.356545"
            ]
          },
          "metadata": {
            "tags": []
          },
          "execution_count": 73
        }
      ]
    },
    {
      "cell_type": "code",
      "metadata": {
        "colab_type": "code",
        "outputId": "b6005930-8bc7-4f53-a09e-d121117ad3fd",
        "id": "aKocg7f4KYqA",
        "colab": {
          "base_uri": "https://localhost:8080/",
          "height": 34
        }
      },
      "source": [
        "print('Explained variation per principal component: {}'.format(lda.explained_variance_ratio_))"
      ],
      "execution_count": 0,
      "outputs": [
        {
          "output_type": "stream",
          "text": [
            "Explained variation per principal component: [0.6450461 0.3549539]\n"
          ],
          "name": "stdout"
        }
      ]
    },
    {
      "cell_type": "markdown",
      "metadata": {
        "colab_type": "text",
        "id": "yO2j9qv5KYqG"
      },
      "source": [
        "La prima componente ha il 65% della varianza dell'intero dataset, la seconda il 35%"
      ]
    },
    {
      "cell_type": "markdown",
      "metadata": {
        "colab_type": "text",
        "id": "p6I0DV6tKYqI"
      },
      "source": [
        "####Scatterplot Test data"
      ]
    },
    {
      "cell_type": "markdown",
      "metadata": {
        "colab_type": "text",
        "id": "aVEOEu5qKYqK"
      },
      "source": [
        "Creiamo uno scatter plot della prima e della seconda componente principale, usiamo colori diversi per le diverse istologie."
      ]
    },
    {
      "cell_type": "code",
      "metadata": {
        "colab_type": "code",
        "outputId": "0fa0901f-f4f4-4888-acd7-4d5067b46717",
        "id": "VCYPOPJLKYqM",
        "colab": {
          "base_uri": "https://localhost:8080/",
          "height": 623
        }
      },
      "source": [
        "plt.figure(figsize=(16, 10))\n",
        "sns.scatterplot(x=df.lda_one, y=df.lda_two, hue=train_labels, \n",
        "                palette=sns.color_palette('hls', 3), legend='full')"
      ],
      "execution_count": 0,
      "outputs": [
        {
          "output_type": "execute_result",
          "data": {
            "text/plain": [
              "<matplotlib.axes._subplots.AxesSubplot at 0x7fcec67a9438>"
            ]
          },
          "metadata": {
            "tags": []
          },
          "execution_count": 75
        },
        {
          "output_type": "display_data",
          "data": {
            "image/png": "[encoded data removed]",
            "text/plain": [
              "<Figure size 1152x720 with 1 Axes>"
            ]
          },
          "metadata": {
            "tags": []
          }
        }
      ]
    },
    {
      "cell_type": "markdown",
      "metadata": {
        "colab_type": "text",
        "id": "14yh9wNzKYqT"
      },
      "source": [
        "###Facendo un nuovo fit con i dati di test"
      ]
    },
    {
      "cell_type": "code",
      "metadata": {
        "colab_type": "code",
        "id": "ap2EmNXsKYqU",
        "colab": {}
      },
      "source": [
        "lda = LinearDiscriminantAnalysis()\n",
        "lda_result = lda.fit(test_data_stand, test_labels)\n",
        "test_data_lda_stand = lda.transform(test_data_stand)"
      ],
      "execution_count": 0,
      "outputs": []
    },
    {
      "cell_type": "code",
      "metadata": {
        "colab_type": "code",
        "outputId": "86e13cb1-3e91-47f7-bc85-2d6167d6fa20",
        "id": "BjT1lkI4KYqb",
        "colab": {
          "base_uri": "https://localhost:8080/",
          "height": 34
        }
      },
      "source": [
        "test_data_lda_stand.shape"
      ],
      "execution_count": 0,
      "outputs": [
        {
          "output_type": "execute_result",
          "data": {
            "text/plain": [
              "(34, 2)"
            ]
          },
          "metadata": {
            "tags": []
          },
          "execution_count": 79
        }
      ]
    },
    {
      "cell_type": "code",
      "metadata": {
        "colab_type": "code",
        "outputId": "83fe19d2-0cbf-4df8-ce43-318ff21e5369",
        "id": "OND2Lw_mKYqg",
        "colab": {
          "base_uri": "https://localhost:8080/",
          "height": 34
        }
      },
      "source": [
        "type(lda_result)"
      ],
      "execution_count": 0,
      "outputs": [
        {
          "output_type": "execute_result",
          "data": {
            "text/plain": [
              "sklearn.discriminant_analysis.LinearDiscriminantAnalysis"
            ]
          },
          "metadata": {
            "tags": []
          },
          "execution_count": 80
        }
      ]
    },
    {
      "cell_type": "code",
      "metadata": {
        "colab_type": "code",
        "id": "Aalz0Al4KYql",
        "colab": {}
      },
      "source": [
        "df = pd.DataFrame(test_data_lda_stand, columns=['lda_one', 'lda_two'])"
      ],
      "execution_count": 0,
      "outputs": []
    },
    {
      "cell_type": "code",
      "metadata": {
        "colab_type": "code",
        "outputId": "0d68cbda-f6d4-4362-c6ab-f7280531e1d9",
        "id": "QVdWihaJKYqs",
        "colab": {
          "base_uri": "https://localhost:8080/",
          "height": 1000
        }
      },
      "source": [
        "df"
      ],
      "execution_count": 0,
      "outputs": [
        {
          "output_type": "execute_result",
          "data": {
            "text/html": [
              "<div>\n",
              "<style scoped>\n",
              "    .dataframe tbody tr th:only-of-type {\n",
              "        vertical-align: middle;\n",
              "    }\n",
              "\n",
              "    .dataframe tbody tr th {\n",
              "        vertical-align: top;\n",
              "    }\n",
              "\n",
              "    .dataframe thead th {\n",
              "        text-align: right;\n",
              "    }\n",
              "</style>\n",
              "<table border=\"1\" class=\"dataframe\">\n",
              "  <thead>\n",
              "    <tr style=\"text-align: right;\">\n",
              "      <th></th>\n",
              "      <th>lda_one</th>\n",
              "      <th>lda_two</th>\n",
              "    </tr>\n",
              "  </thead>\n",
              "  <tbody>\n",
              "    <tr>\n",
              "      <th>0</th>\n",
              "      <td>2.511875</td>\n",
              "      <td>2.468140</td>\n",
              "    </tr>\n",
              "    <tr>\n",
              "      <th>1</th>\n",
              "      <td>4.528617</td>\n",
              "      <td>-3.869207</td>\n",
              "    </tr>\n",
              "    <tr>\n",
              "      <th>2</th>\n",
              "      <td>3.821769</td>\n",
              "      <td>-1.819287</td>\n",
              "    </tr>\n",
              "    <tr>\n",
              "      <th>3</th>\n",
              "      <td>-2.055869</td>\n",
              "      <td>0.075532</td>\n",
              "    </tr>\n",
              "    <tr>\n",
              "      <th>4</th>\n",
              "      <td>0.809465</td>\n",
              "      <td>-0.633979</td>\n",
              "    </tr>\n",
              "    <tr>\n",
              "      <th>5</th>\n",
              "      <td>2.622924</td>\n",
              "      <td>0.538986</td>\n",
              "    </tr>\n",
              "    <tr>\n",
              "      <th>6</th>\n",
              "      <td>2.818325</td>\n",
              "      <td>1.071662</td>\n",
              "    </tr>\n",
              "    <tr>\n",
              "      <th>7</th>\n",
              "      <td>-0.522970</td>\n",
              "      <td>-1.570729</td>\n",
              "    </tr>\n",
              "    <tr>\n",
              "      <th>8</th>\n",
              "      <td>-2.079238</td>\n",
              "      <td>-0.328327</td>\n",
              "    </tr>\n",
              "    <tr>\n",
              "      <th>9</th>\n",
              "      <td>-2.676074</td>\n",
              "      <td>-0.258877</td>\n",
              "    </tr>\n",
              "    <tr>\n",
              "      <th>10</th>\n",
              "      <td>1.203811</td>\n",
              "      <td>-0.482896</td>\n",
              "    </tr>\n",
              "    <tr>\n",
              "      <th>11</th>\n",
              "      <td>-0.933417</td>\n",
              "      <td>-1.070849</td>\n",
              "    </tr>\n",
              "    <tr>\n",
              "      <th>12</th>\n",
              "      <td>-2.121696</td>\n",
              "      <td>-0.038311</td>\n",
              "    </tr>\n",
              "    <tr>\n",
              "      <th>13</th>\n",
              "      <td>-1.929134</td>\n",
              "      <td>1.054770</td>\n",
              "    </tr>\n",
              "    <tr>\n",
              "      <th>14</th>\n",
              "      <td>-4.682364</td>\n",
              "      <td>-0.352698</td>\n",
              "    </tr>\n",
              "    <tr>\n",
              "      <th>15</th>\n",
              "      <td>-2.215189</td>\n",
              "      <td>0.018399</td>\n",
              "    </tr>\n",
              "    <tr>\n",
              "      <th>16</th>\n",
              "      <td>-1.789016</td>\n",
              "      <td>-0.153129</td>\n",
              "    </tr>\n",
              "    <tr>\n",
              "      <th>17</th>\n",
              "      <td>2.339219</td>\n",
              "      <td>2.107032</td>\n",
              "    </tr>\n",
              "    <tr>\n",
              "      <th>18</th>\n",
              "      <td>2.675330</td>\n",
              "      <td>1.638717</td>\n",
              "    </tr>\n",
              "    <tr>\n",
              "      <th>19</th>\n",
              "      <td>-1.443670</td>\n",
              "      <td>0.601943</td>\n",
              "    </tr>\n",
              "    <tr>\n",
              "      <th>20</th>\n",
              "      <td>-2.559347</td>\n",
              "      <td>-0.626236</td>\n",
              "    </tr>\n",
              "    <tr>\n",
              "      <th>21</th>\n",
              "      <td>-1.895424</td>\n",
              "      <td>-0.714333</td>\n",
              "    </tr>\n",
              "    <tr>\n",
              "      <th>22</th>\n",
              "      <td>3.556485</td>\n",
              "      <td>-4.158092</td>\n",
              "    </tr>\n",
              "    <tr>\n",
              "      <th>23</th>\n",
              "      <td>2.148159</td>\n",
              "      <td>2.281482</td>\n",
              "    </tr>\n",
              "    <tr>\n",
              "      <th>24</th>\n",
              "      <td>-1.404143</td>\n",
              "      <td>-0.910332</td>\n",
              "    </tr>\n",
              "    <tr>\n",
              "      <th>25</th>\n",
              "      <td>-1.470215</td>\n",
              "      <td>0.751016</td>\n",
              "    </tr>\n",
              "    <tr>\n",
              "      <th>26</th>\n",
              "      <td>1.035512</td>\n",
              "      <td>1.268899</td>\n",
              "    </tr>\n",
              "    <tr>\n",
              "      <th>27</th>\n",
              "      <td>-1.748344</td>\n",
              "      <td>1.333351</td>\n",
              "    </tr>\n",
              "    <tr>\n",
              "      <th>28</th>\n",
              "      <td>-1.551494</td>\n",
              "      <td>-1.174757</td>\n",
              "    </tr>\n",
              "    <tr>\n",
              "      <th>29</th>\n",
              "      <td>1.906445</td>\n",
              "      <td>-0.066768</td>\n",
              "    </tr>\n",
              "    <tr>\n",
              "      <th>30</th>\n",
              "      <td>-1.973788</td>\n",
              "      <td>-0.168839</td>\n",
              "    </tr>\n",
              "    <tr>\n",
              "      <th>31</th>\n",
              "      <td>-2.186709</td>\n",
              "      <td>-0.165024</td>\n",
              "    </tr>\n",
              "    <tr>\n",
              "      <th>32</th>\n",
              "      <td>2.166553</td>\n",
              "      <td>1.583777</td>\n",
              "    </tr>\n",
              "    <tr>\n",
              "      <th>33</th>\n",
              "      <td>3.093612</td>\n",
              "      <td>1.768965</td>\n",
              "    </tr>\n",
              "  </tbody>\n",
              "</table>\n",
              "</div>"
            ],
            "text/plain": [
              "     lda_one   lda_two\n",
              "0   2.511875  2.468140\n",
              "1   4.528617 -3.869207\n",
              "2   3.821769 -1.819287\n",
              "3  -2.055869  0.075532\n",
              "4   0.809465 -0.633979\n",
              "5   2.622924  0.538986\n",
              "6   2.818325  1.071662\n",
              "7  -0.522970 -1.570729\n",
              "8  -2.079238 -0.328327\n",
              "9  -2.676074 -0.258877\n",
              "10  1.203811 -0.482896\n",
              "11 -0.933417 -1.070849\n",
              "12 -2.121696 -0.038311\n",
              "13 -1.929134  1.054770\n",
              "14 -4.682364 -0.352698\n",
              "15 -2.215189  0.018399\n",
              "16 -1.789016 -0.153129\n",
              "17  2.339219  2.107032\n",
              "18  2.675330  1.638717\n",
              "19 -1.443670  0.601943\n",
              "20 -2.559347 -0.626236\n",
              "21 -1.895424 -0.714333\n",
              "22  3.556485 -4.158092\n",
              "23  2.148159  2.281482\n",
              "24 -1.404143 -0.910332\n",
              "25 -1.470215  0.751016\n",
              "26  1.035512  1.268899\n",
              "27 -1.748344  1.333351\n",
              "28 -1.551494 -1.174757\n",
              "29  1.906445 -0.066768\n",
              "30 -1.973788 -0.168839\n",
              "31 -2.186709 -0.165024\n",
              "32  2.166553  1.583777\n",
              "33  3.093612  1.768965"
            ]
          },
          "metadata": {
            "tags": []
          },
          "execution_count": 82
        }
      ]
    },
    {
      "cell_type": "code",
      "metadata": {
        "colab_type": "code",
        "outputId": "d60f6622-d8f0-419d-bf4e-33b3883a828e",
        "id": "93DECLm5KYqx",
        "colab": {
          "base_uri": "https://localhost:8080/",
          "height": 34
        }
      },
      "source": [
        "print('Explained variation per principal component: {}'.format(lda.explained_variance_ratio_))"
      ],
      "execution_count": 0,
      "outputs": [
        {
          "output_type": "stream",
          "text": [
            "Explained variation per principal component: [0.78911902 0.21088098]\n"
          ],
          "name": "stdout"
        }
      ]
    },
    {
      "cell_type": "markdown",
      "metadata": {
        "colab_type": "text",
        "id": "7-E7RAlhKYq3"
      },
      "source": [
        "La prima componente ha il 65% della varianza dell'intero dataset, la seconda il 35%"
      ]
    },
    {
      "cell_type": "markdown",
      "metadata": {
        "colab_type": "text",
        "id": "0K7IW2dtKYq4"
      },
      "source": [
        "####Scatterplot Test data"
      ]
    },
    {
      "cell_type": "markdown",
      "metadata": {
        "colab_type": "text",
        "id": "d1SDz7FxKYq6"
      },
      "source": [
        "Creiamo uno scatter plot della prima e della seconda componente principale, usiamo colori diversi per le diverse istologie."
      ]
    },
    {
      "cell_type": "code",
      "metadata": {
        "colab_type": "code",
        "outputId": "f33b11f5-05cc-452e-e824-95e8635d913b",
        "id": "90DteLxDKYq8",
        "colab": {
          "base_uri": "https://localhost:8080/",
          "height": 623
        }
      },
      "source": [
        "plt.figure(figsize=(16, 10))\n",
        "sns.scatterplot(x=df.lda_one, y=df.lda_two, hue=train_labels, \n",
        "                palette=sns.color_palette('hls', 3), legend='full')"
      ],
      "execution_count": 0,
      "outputs": [
        {
          "output_type": "execute_result",
          "data": {
            "text/plain": [
              "<matplotlib.axes._subplots.AxesSubplot at 0x7fcec68aec50>"
            ]
          },
          "metadata": {
            "tags": []
          },
          "execution_count": 51
        },
        {
          "output_type": "display_data",
          "data": {
            "image/png": "[encoded data removed]",
            "text/plain": [
              "<Figure size 1152x720 with 1 Axes>"
            ]
          },
          "metadata": {
            "tags": []
          }
        }
      ]
    },
    {
      "cell_type": "markdown",
      "metadata": {
        "id": "iFXWrsTNNN2D",
        "colab_type": "text"
      },
      "source": [
        "Standardizzando i dati oppure no non cambia nulla"
      ]
    },
    {
      "cell_type": "markdown",
      "metadata": {
        "id": "i4379nEsNWGv",
        "colab_type": "text"
      },
      "source": [
        "I dati del dataset di Test non si comportano bene come gli altri applicando la LDA,"
      ]
    },
    {
      "cell_type": "markdown",
      "metadata": {
        "id": "8FBgiybPNkrG",
        "colab_type": "text"
      },
      "source": [
        "#Merge dataset LDA"
      ]
    },
    {
      "cell_type": "code",
      "metadata": {
        "id": "21MJpB7HPm8P",
        "colab_type": "code",
        "colab": {}
      },
      "source": [
        "tot_data = pd.concat([train_data, test_data], axis=0)"
      ],
      "execution_count": 0,
      "outputs": []
    },
    {
      "cell_type": "code",
      "metadata": {
        "id": "9IzP2WgoNTTy",
        "colab_type": "code",
        "colab": {}
      },
      "source": [
        "tot_label = pd.concat([train_labels, test_labels], axis=0)"
      ],
      "execution_count": 0,
      "outputs": []
    },
    {
      "cell_type": "code",
      "metadata": {
        "id": "kDGUU_H7QLWg",
        "colab_type": "code",
        "outputId": "0af2ce06-e689-4d9d-b9df-80105bfa83f1",
        "colab": {
          "base_uri": "https://localhost:8080/",
          "height": 34
        }
      },
      "source": [
        "tot_data.shape"
      ],
      "execution_count": 0,
      "outputs": [
        {
          "output_type": "execute_result",
          "data": {
            "text/plain": [
              "(165, 107)"
            ]
          },
          "metadata": {
            "tags": []
          },
          "execution_count": 86
        }
      ]
    },
    {
      "cell_type": "code",
      "metadata": {
        "id": "Ic55ngm-QM7x",
        "colab_type": "code",
        "outputId": "ba30ecb7-4137-4148-a239-320ffe6f2654",
        "colab": {
          "base_uri": "https://localhost:8080/",
          "height": 34
        }
      },
      "source": [
        "tot_label.shape"
      ],
      "execution_count": 0,
      "outputs": [
        {
          "output_type": "execute_result",
          "data": {
            "text/plain": [
              "(165,)"
            ]
          },
          "metadata": {
            "tags": []
          },
          "execution_count": 87
        }
      ]
    },
    {
      "cell_type": "code",
      "metadata": {
        "id": "nqvG13erQPbF",
        "colab_type": "code",
        "outputId": "56f9b500-3e6f-491d-9eba-9adb3e918a52",
        "colab": {
          "base_uri": "https://localhost:8080/",
          "height": 260
        }
      },
      "source": [
        "tot_data.head"
      ],
      "execution_count": 0,
      "outputs": [
        {
          "output_type": "execute_result",
          "data": {
            "text/plain": [
              "<bound method NDFrame.head of       VoxelVolume  Maximum3DDiameter  ...  Contrast.1  Busyness\n",
              "0    51905.377962          66.288317  ...    0.020920  1.306338\n",
              "1    13432.502747          58.057539  ...    0.146173  0.253533\n",
              "2    25843.872675          52.918217  ...    0.152919  0.611772\n",
              "3    22152.709032          46.635312  ...    0.351327  0.564313\n",
              "4   119385.805617          92.436320  ...    0.132602  1.804351\n",
              "..            ...                ...  ...         ...       ...\n",
              "29    6592.266962          33.622119  ...    0.085026  0.359230\n",
              "30    3010.031479          29.286452  ...    0.295357  0.263438\n",
              "31    8683.195759          49.195074  ...    0.594629  0.392208\n",
              "32   25939.914844          57.067095  ...    0.059377  0.658985\n",
              "33   73401.852784          73.105484  ...    0.064501  0.895047\n",
              "\n",
              "[165 rows x 107 columns]>"
            ]
          },
          "metadata": {
            "tags": []
          },
          "execution_count": 89
        }
      ]
    },
    {
      "cell_type": "code",
      "metadata": {
        "id": "kyDRnO_wQQ5w",
        "colab_type": "code",
        "outputId": "39fa548c-f134-4543-853d-e559de9be74a",
        "colab": {
          "base_uri": "https://localhost:8080/",
          "height": 225
        }
      },
      "source": [
        "tot_label.head"
      ],
      "execution_count": 0,
      "outputs": [
        {
          "output_type": "execute_result",
          "data": {
            "text/plain": [
              "<bound method NDFrame.head of 0              adenocarcinoma\n",
              "1              adenocarcinoma\n",
              "2              adenocarcinoma\n",
              "3              adenocarcinoma\n",
              "4              adenocarcinoma\n",
              "               ...           \n",
              "29    squamous cell carcinoma\n",
              "30             adenocarcinoma\n",
              "31             adenocarcinoma\n",
              "32    squamous cell carcinoma\n",
              "33    squamous cell carcinoma\n",
              "Name: Histology, Length: 165, dtype: object>"
            ]
          },
          "metadata": {
            "tags": []
          },
          "execution_count": 90
        }
      ]
    },
    {
      "cell_type": "code",
      "metadata": {
        "colab_type": "code",
        "id": "D1HzRVW2QlaP",
        "colab": {}
      },
      "source": [
        "lda = LinearDiscriminantAnalysis()\n",
        "lda_result = lda.fit(tot_data, tot_label)\n",
        "tot_data_lda = lda.transform(tot_data)"
      ],
      "execution_count": 0,
      "outputs": []
    },
    {
      "cell_type": "code",
      "metadata": {
        "id": "Fj5PJeEbRP6j",
        "colab_type": "code",
        "outputId": "0295751b-16c7-41ce-c7b8-c264014b9c31",
        "colab": {
          "base_uri": "https://localhost:8080/",
          "height": 34
        }
      },
      "source": [
        "tot_data_lda.shape"
      ],
      "execution_count": 0,
      "outputs": [
        {
          "output_type": "execute_result",
          "data": {
            "text/plain": [
              "(165, 2)"
            ]
          },
          "metadata": {
            "tags": []
          },
          "execution_count": 93
        }
      ]
    },
    {
      "cell_type": "code",
      "metadata": {
        "id": "PdQ970jVRZyC",
        "colab_type": "code",
        "colab": {}
      },
      "source": [
        "df = pd.DataFrame(tot_data_lda, columns=['lda_one', 'lda_two'])"
      ],
      "execution_count": 0,
      "outputs": []
    },
    {
      "cell_type": "code",
      "metadata": {
        "id": "uOc8kRo_RelT",
        "colab_type": "code",
        "outputId": "0bf38f54-7965-4703-a13c-7e908f68549e",
        "colab": {
          "base_uri": "https://localhost:8080/",
          "height": 424
        }
      },
      "source": [
        "df"
      ],
      "execution_count": 0,
      "outputs": [
        {
          "output_type": "execute_result",
          "data": {
            "text/html": [
              "<div>\n",
              "<style scoped>\n",
              "    .dataframe tbody tr th:only-of-type {\n",
              "        vertical-align: middle;\n",
              "    }\n",
              "\n",
              "    .dataframe tbody tr th {\n",
              "        vertical-align: top;\n",
              "    }\n",
              "\n",
              "    .dataframe thead th {\n",
              "        text-align: right;\n",
              "    }\n",
              "</style>\n",
              "<table border=\"1\" class=\"dataframe\">\n",
              "  <thead>\n",
              "    <tr style=\"text-align: right;\">\n",
              "      <th></th>\n",
              "      <th>lda_one</th>\n",
              "      <th>lda_two</th>\n",
              "    </tr>\n",
              "  </thead>\n",
              "  <tbody>\n",
              "    <tr>\n",
              "      <th>0</th>\n",
              "      <td>-4.260697</td>\n",
              "      <td>2.389092</td>\n",
              "    </tr>\n",
              "    <tr>\n",
              "      <th>1</th>\n",
              "      <td>-1.137078</td>\n",
              "      <td>-1.051931</td>\n",
              "    </tr>\n",
              "    <tr>\n",
              "      <th>2</th>\n",
              "      <td>-1.763563</td>\n",
              "      <td>-0.177532</td>\n",
              "    </tr>\n",
              "    <tr>\n",
              "      <th>3</th>\n",
              "      <td>-2.974372</td>\n",
              "      <td>0.180177</td>\n",
              "    </tr>\n",
              "    <tr>\n",
              "      <th>4</th>\n",
              "      <td>-1.801073</td>\n",
              "      <td>2.834989</td>\n",
              "    </tr>\n",
              "    <tr>\n",
              "      <th>...</th>\n",
              "      <td>...</td>\n",
              "      <td>...</td>\n",
              "    </tr>\n",
              "    <tr>\n",
              "      <th>160</th>\n",
              "      <td>-0.574320</td>\n",
              "      <td>1.891125</td>\n",
              "    </tr>\n",
              "    <tr>\n",
              "      <th>161</th>\n",
              "      <td>-4.169638</td>\n",
              "      <td>0.751516</td>\n",
              "    </tr>\n",
              "    <tr>\n",
              "      <th>162</th>\n",
              "      <td>-3.549652</td>\n",
              "      <td>0.858156</td>\n",
              "    </tr>\n",
              "    <tr>\n",
              "      <th>163</th>\n",
              "      <td>2.103693</td>\n",
              "      <td>0.863202</td>\n",
              "    </tr>\n",
              "    <tr>\n",
              "      <th>164</th>\n",
              "      <td>1.065895</td>\n",
              "      <td>2.531468</td>\n",
              "    </tr>\n",
              "  </tbody>\n",
              "</table>\n",
              "<p>165 rows × 2 columns</p>\n",
              "</div>"
            ],
            "text/plain": [
              "      lda_one   lda_two\n",
              "0   -4.260697  2.389092\n",
              "1   -1.137078 -1.051931\n",
              "2   -1.763563 -0.177532\n",
              "3   -2.974372  0.180177\n",
              "4   -1.801073  2.834989\n",
              "..        ...       ...\n",
              "160 -0.574320  1.891125\n",
              "161 -4.169638  0.751516\n",
              "162 -3.549652  0.858156\n",
              "163  2.103693  0.863202\n",
              "164  1.065895  2.531468\n",
              "\n",
              "[165 rows x 2 columns]"
            ]
          },
          "metadata": {
            "tags": []
          },
          "execution_count": 96
        }
      ]
    },
    {
      "cell_type": "code",
      "metadata": {
        "id": "H8gds8yhRzU5",
        "colab_type": "code",
        "outputId": "82a46306-9f1a-4954-87d5-79757336f0ec",
        "colab": {
          "base_uri": "https://localhost:8080/",
          "height": 34
        }
      },
      "source": [
        "print('Explained variation per principal component: {}'.format(lda.explained_variance_ratio_))"
      ],
      "execution_count": 0,
      "outputs": [
        {
          "output_type": "stream",
          "text": [
            "Explained variation per principal component: [0.57550443 0.42449557]\n"
          ],
          "name": "stdout"
        }
      ]
    },
    {
      "cell_type": "markdown",
      "metadata": {
        "colab_type": "text",
        "id": "PcbFtYRyRrN8"
      },
      "source": [
        "###Scatterplot Tot data"
      ]
    },
    {
      "cell_type": "markdown",
      "metadata": {
        "colab_type": "text",
        "id": "qW7M9I3nRrOJ"
      },
      "source": [
        "Creiamo uno scatter plot della prima e della seconda componente principale, usiamo colori diversi per le diverse istologie."
      ]
    },
    {
      "cell_type": "code",
      "metadata": {
        "colab_type": "code",
        "outputId": "00884845-31a2-496d-f395-12facb2db281",
        "id": "-DvwqWvuRrOR",
        "colab": {
          "base_uri": "https://localhost:8080/",
          "height": 623
        }
      },
      "source": [
        "plt.figure(figsize=(16, 10))\n",
        "sns.scatterplot(x=df.lda_one, y=df.lda_two, hue=train_labels, \n",
        "                palette=sns.color_palette('hls', 3), legend='full')"
      ],
      "execution_count": 0,
      "outputs": [
        {
          "output_type": "execute_result",
          "data": {
            "text/plain": [
              "<matplotlib.axes._subplots.AxesSubplot at 0x7fcec64c2160>"
            ]
          },
          "metadata": {
            "tags": []
          },
          "execution_count": 98
        },
        {
          "output_type": "display_data",
          "data": {
            "image/png": "[encoded data removed]",
            "text/plain": [
              "<Figure size 1152x720 with 1 Axes>"
            ]
          },
          "metadata": {
            "tags": []
          }
        }
      ]
    },
    {
      "cell_type": "code",
      "metadata": {
        "id": "uGYtNEBSR2y_",
        "colab_type": "code",
        "colab": {}
      },
      "source": [
        "n_train_a = list(df_train.Histology).count('adenocarcinoma')\n",
        "n_train_l = list(df_train.Histology).count('large cell')\n",
        "n_train_s = list(df_train.Histology).count('squamous cell carcinoma')\n",
        "n_test_a = list(df_test.Histology).count('adenocarcinoma')\n",
        "n_test_l = list(df_test.Histology).count('large cell')\n",
        "n_test_s = list(df_test.Histology).count('squamous cell carcinoma')"
      ],
      "execution_count": 0,
      "outputs": []
    },
    {
      "cell_type": "code",
      "metadata": {
        "id": "lSs1x0JlXEBd",
        "colab_type": "code",
        "colab": {}
      },
      "source": [
        "n_tot_a = n_train_a + n_test_a\n",
        "n_tot_l = n_train_l + n_test_l\n",
        "n_tot_s = n_train_s + n_test_s"
      ],
      "execution_count": 0,
      "outputs": []
    },
    {
      "cell_type": "code",
      "metadata": {
        "id": "sGm9Xjywcl8l",
        "colab_type": "code",
        "outputId": "2c043d5a-579f-4b64-fa5d-37eafd8edc89",
        "colab": {
          "base_uri": "https://localhost:8080/",
          "height": 34
        }
      },
      "source": [
        "n_tot_a"
      ],
      "execution_count": 0,
      "outputs": [
        {
          "output_type": "execute_result",
          "data": {
            "text/plain": [
              "36"
            ]
          },
          "metadata": {
            "tags": []
          },
          "execution_count": 126
        }
      ]
    },
    {
      "cell_type": "code",
      "metadata": {
        "id": "4_7A8RZhcqft",
        "colab_type": "code",
        "outputId": "fdd48047-3484-4789-cf19-1f85d482a73d",
        "colab": {
          "base_uri": "https://localhost:8080/",
          "height": 34
        }
      },
      "source": [
        "n_tot_l"
      ],
      "execution_count": 0,
      "outputs": [
        {
          "output_type": "execute_result",
          "data": {
            "text/plain": [
              "65"
            ]
          },
          "metadata": {
            "tags": []
          },
          "execution_count": 112
        }
      ]
    },
    {
      "cell_type": "code",
      "metadata": {
        "id": "YZtAunPoctV4",
        "colab_type": "code",
        "outputId": "8d2c6024-4aee-47ca-eeb2-b46ce0ca2db6",
        "colab": {
          "base_uri": "https://localhost:8080/",
          "height": 34
        }
      },
      "source": [
        "n_tot_s"
      ],
      "execution_count": 0,
      "outputs": [
        {
          "output_type": "execute_result",
          "data": {
            "text/plain": [
              "64"
            ]
          },
          "metadata": {
            "tags": []
          },
          "execution_count": 113
        }
      ]
    },
    {
      "cell_type": "code",
      "metadata": {
        "id": "XGdv3NQ7cv6O",
        "colab_type": "code",
        "outputId": "3f891ca8-4545-42f6-fcb4-70a701ee6e66",
        "colab": {
          "base_uri": "https://localhost:8080/",
          "height": 34
        }
      },
      "source": [
        "64+65+36"
      ],
      "execution_count": 0,
      "outputs": [
        {
          "output_type": "execute_result",
          "data": {
            "text/plain": [
              "165"
            ]
          },
          "metadata": {
            "tags": []
          },
          "execution_count": 127
        }
      ]
    },
    {
      "cell_type": "code",
      "metadata": {
        "id": "NSQxcEhxcxqt",
        "colab_type": "code",
        "outputId": "c8720e1c-154e-4d05-a779-93cbd4ab7edf",
        "colab": {
          "base_uri": "https://localhost:8080/",
          "height": 34
        }
      },
      "source": [
        "train_data.shape"
      ],
      "execution_count": 0,
      "outputs": [
        {
          "output_type": "execute_result",
          "data": {
            "text/plain": [
              "(131, 107)"
            ]
          },
          "metadata": {
            "tags": []
          },
          "execution_count": 115
        }
      ]
    },
    {
      "cell_type": "code",
      "metadata": {
        "id": "XpLB0JxTc3EP",
        "colab_type": "code",
        "outputId": "1afa379a-6906-492a-ecba-f3fb6fc0e3f9",
        "colab": {
          "base_uri": "https://localhost:8080/",
          "height": 34
        }
      },
      "source": [
        "test_data.shape"
      ],
      "execution_count": 0,
      "outputs": [
        {
          "output_type": "execute_result",
          "data": {
            "text/plain": [
              "(34, 107)"
            ]
          },
          "metadata": {
            "tags": []
          },
          "execution_count": 116
        }
      ]
    },
    {
      "cell_type": "code",
      "metadata": {
        "id": "s1w-bioac5ZP",
        "colab_type": "code",
        "outputId": "f6c9b68b-7ce2-4d65-d7e9-8505c6ad7631",
        "colab": {
          "base_uri": "https://localhost:8080/",
          "height": 34
        }
      },
      "source": [
        "131+34"
      ],
      "execution_count": 0,
      "outputs": [
        {
          "output_type": "execute_result",
          "data": {
            "text/plain": [
              "165"
            ]
          },
          "metadata": {
            "tags": []
          },
          "execution_count": 117
        }
      ]
    },
    {
      "cell_type": "code",
      "metadata": {
        "id": "IxS8JOvec6pt",
        "colab_type": "code",
        "outputId": "cb829412-0417-478a-ee9b-46201682092f",
        "colab": {
          "base_uri": "https://localhost:8080/",
          "height": 34
        }
      },
      "source": [
        "n_train_a"
      ],
      "execution_count": 0,
      "outputs": [
        {
          "output_type": "execute_result",
          "data": {
            "text/plain": [
              "16"
            ]
          },
          "metadata": {
            "tags": []
          },
          "execution_count": 118
        }
      ]
    },
    {
      "cell_type": "code",
      "metadata": {
        "id": "PaP4pC7vdCjX",
        "colab_type": "code",
        "outputId": "2269c4bd-a4e7-49eb-b7f9-4eb37e603a01",
        "colab": {
          "base_uri": "https://localhost:8080/",
          "height": 34
        }
      },
      "source": [
        "n_train_l"
      ],
      "execution_count": 0,
      "outputs": [
        {
          "output_type": "execute_result",
          "data": {
            "text/plain": [
              "61"
            ]
          },
          "metadata": {
            "tags": []
          },
          "execution_count": 119
        }
      ]
    },
    {
      "cell_type": "code",
      "metadata": {
        "id": "V-IQCSRGdEiH",
        "colab_type": "code",
        "outputId": "dcb0f795-9d2e-4b82-db79-2b6757b9efdf",
        "colab": {
          "base_uri": "https://localhost:8080/",
          "height": 34
        }
      },
      "source": [
        "n_train_s"
      ],
      "execution_count": 0,
      "outputs": [
        {
          "output_type": "execute_result",
          "data": {
            "text/plain": [
              "54"
            ]
          },
          "metadata": {
            "tags": []
          },
          "execution_count": 120
        }
      ]
    },
    {
      "cell_type": "code",
      "metadata": {
        "id": "lIakBbmEdGCG",
        "colab_type": "code",
        "outputId": "17149151-c787-4241-8e5c-bdf59548d40d",
        "colab": {
          "base_uri": "https://localhost:8080/",
          "height": 34
        }
      },
      "source": [
        "54+61+16"
      ],
      "execution_count": 0,
      "outputs": [
        {
          "output_type": "execute_result",
          "data": {
            "text/plain": [
              "131"
            ]
          },
          "metadata": {
            "tags": []
          },
          "execution_count": 121
        }
      ]
    },
    {
      "cell_type": "code",
      "metadata": {
        "id": "h_B_ERDgdIQP",
        "colab_type": "code",
        "outputId": "cce715b6-468a-439f-8990-7a216e669940",
        "colab": {
          "base_uri": "https://localhost:8080/",
          "height": 34
        }
      },
      "source": [
        "n_test_a"
      ],
      "execution_count": 0,
      "outputs": [
        {
          "output_type": "execute_result",
          "data": {
            "text/plain": [
              "20"
            ]
          },
          "metadata": {
            "tags": []
          },
          "execution_count": 123
        }
      ]
    },
    {
      "cell_type": "code",
      "metadata": {
        "id": "mG0rOKbsdOJw",
        "colab_type": "code",
        "outputId": "4393ac2b-c440-49be-f8d3-1ed3f9f2fbe5",
        "colab": {
          "base_uri": "https://localhost:8080/",
          "height": 34
        }
      },
      "source": [
        "n_test_l"
      ],
      "execution_count": 0,
      "outputs": [
        {
          "output_type": "execute_result",
          "data": {
            "text/plain": [
              "4"
            ]
          },
          "metadata": {
            "tags": []
          },
          "execution_count": 124
        }
      ]
    },
    {
      "cell_type": "code",
      "metadata": {
        "id": "wu-aXAsDdYTq",
        "colab_type": "code",
        "outputId": "577316d6-ccb1-4c13-c0a7-4583471a9726",
        "colab": {
          "base_uri": "https://localhost:8080/",
          "height": 34
        }
      },
      "source": [
        "n_test_s"
      ],
      "execution_count": 0,
      "outputs": [
        {
          "output_type": "execute_result",
          "data": {
            "text/plain": [
              "10"
            ]
          },
          "metadata": {
            "tags": []
          },
          "execution_count": 125
        }
      ]
    },
    {
      "cell_type": "code",
      "metadata": {
        "id": "CUF7cweTdZ0l",
        "colab_type": "code",
        "colab": {}
      },
      "source": [
        ""
      ],
      "execution_count": 0,
      "outputs": []
    }
  ]
}