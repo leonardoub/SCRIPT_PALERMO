{
  "nbformat": 4,
  "nbformat_minor": 0,
  "metadata": {
    "kernelspec": {
      "display_name": "Python 3",
      "language": "python",
      "name": "python3"
    },
    "language_info": {
      "codemirror_mode": {
        "name": "ipython",
        "version": 3
      },
      "file_extension": ".py",
      "mimetype": "text/x-python",
      "name": "python",
      "nbconvert_exporter": "python",
      "pygments_lexer": "ipython3",
      "version": "3.7.3"
    },
    "colab": {
      "name": "explore_database_PA.ipynb",
      "provenance": [],
      "toc_visible": true,
      "include_colab_link": true
    }
  },
  "cells": [
    {
      "cell_type": "markdown",
      "metadata": {
        "id": "view-in-github",
        "colab_type": "text"
      },
      "source": [
        "<a href=\"https://colab.research.google.com/github/leonardoub/SCRIPT_PALERMO/blob/master/explore_database_PA.ipynb\" target=\"_parent\"><img src=\"https://colab.research.google.com/assets/colab-badge.svg\" alt=\"Open In Colab\"/></a>"
      ]
    },
    {
      "cell_type": "markdown",
      "metadata": {
        "id": "e7HJ6TSouS_c",
        "colab_type": "text"
      },
      "source": [
        "# Explore database Palermo"
      ]
    },
    {
      "cell_type": "code",
      "metadata": {
        "id": "9xhXxCVYuS_q",
        "colab_type": "code",
        "colab": {}
      },
      "source": [
        "import pandas as pd\n",
        "import numpy as np\n",
        "import matplotlib.pyplot as plt\n",
        "import scipy\n",
        "import seaborn as sns"
      ],
      "execution_count": 0,
      "outputs": []
    },
    {
      "cell_type": "code",
      "metadata": {
        "id": "RfqsYyFruTAK",
        "colab_type": "code",
        "colab": {}
      },
      "source": [
        "#load data from pc\n",
        "#train_dataset_path = '/home/leonardo/Scrivania/TESI_PA/database_training2.csv'\n",
        "#test_dataset_path = '/home/leonardo/Scrivania/TESI_PA/database_nostro.csv'"
      ],
      "execution_count": 0,
      "outputs": []
    },
    {
      "cell_type": "code",
      "metadata": {
        "id": "ICN2feAvyIiH",
        "colab_type": "code",
        "outputId": "570179d7-695d-4e48-80dd-140b31130d76",
        "colab": {
          "base_uri": "https://localhost:8080/",
          "height": 147
        }
      },
      "source": [
        "#load data from Drive\n",
        "from google.colab import drive\n",
        "drive.mount('/gdrive')\n",
        "%cd /gdrive"
      ],
      "execution_count": 4,
      "outputs": [
        {
          "output_type": "stream",
          "text": [
            "Go to this URL in a browser: https://accounts.google.com/o/oauth2/auth?client_id=947318989803-6bn6qk8qdgf4n4g3pfee6491hc0brc4i.apps.googleusercontent.com&redirect_uri=urn%3aietf%3awg%3aoauth%3a2.0%3aoob&response_type=code&scope=email%20https%3a%2f%2fwww.googleapis.com%2fauth%2fdocs.test%20https%3a%2f%2fwww.googleapis.com%2fauth%2fdrive%20https%3a%2f%2fwww.googleapis.com%2fauth%2fdrive.photos.readonly%20https%3a%2f%2fwww.googleapis.com%2fauth%2fpeopleapi.readonly\n",
            "\n",
            "Enter your authorization code:\n",
            "··········\n",
            "Mounted at /gdrive\n",
            "/gdrive\n"
          ],
          "name": "stdout"
        }
      ]
    },
    {
      "cell_type": "code",
      "metadata": {
        "id": "Erq2SYTEzbVV",
        "colab_type": "code",
        "colab": {}
      },
      "source": [
        "train_dataset_path = '/gdrive/My Drive/AIM_PA/database_training2.csv'\n",
        "test_dataset_path = '/gdrive/My Drive/AIM_PA/database_nostro.csv'"
      ],
      "execution_count": 0,
      "outputs": []
    },
    {
      "cell_type": "code",
      "metadata": {
        "id": "BvxLKnLquTAa",
        "colab_type": "code",
        "colab": {}
      },
      "source": [
        "df_train = pd.read_csv(train_dataset_path)\n",
        "df_test = pd.read_csv(test_dataset_path)"
      ],
      "execution_count": 0,
      "outputs": []
    },
    {
      "cell_type": "code",
      "metadata": {
        "id": "18LY2SUruTAk",
        "colab_type": "code",
        "outputId": "eacb705a-ab33-49f9-a69d-57c53cd70c0a",
        "colab": {
          "base_uri": "https://localhost:8080/",
          "height": 164
        }
      },
      "source": [
        "df_train.columns"
      ],
      "execution_count": 7,
      "outputs": [
        {
          "output_type": "execute_result",
          "data": {
            "text/plain": [
              "Index(['Histology', 'Survival.time (months)', 'OS', 'deadstatus.event',\n",
              "       'VoxelVolume', 'Maximum3DDiameter', 'MeshVolume', 'MajorAxisLength',\n",
              "       'Sphericity', 'LeastAxisLength',\n",
              "       ...\n",
              "       'SmallAreaEmphasis', 'LowGrayLevelZoneEmphasis', 'ZoneEntropy',\n",
              "       'SmallAreaLowGrayLevelEmphasis', 'Coarseness', 'Complexity', 'Strength',\n",
              "       'Contrast.1', 'Busyness', 'Overall.Stage'],\n",
              "      dtype='object', length=112)"
            ]
          },
          "metadata": {
            "tags": []
          },
          "execution_count": 7
        }
      ]
    },
    {
      "cell_type": "code",
      "metadata": {
        "id": "yGMuBnt0uTAx",
        "colab_type": "code",
        "colab": {}
      },
      "source": [
        "df_train.rename(columns={'Survival.time (months)':'Surv_time_months'}, inplace=True)"
      ],
      "execution_count": 0,
      "outputs": []
    },
    {
      "cell_type": "code",
      "metadata": {
        "id": "3YWRnd8ouTA8",
        "colab_type": "code",
        "colab": {}
      },
      "source": [
        "df_test.rename(columns={'Survival.time (months)':'Surv_time_months'}, inplace=True)"
      ],
      "execution_count": 0,
      "outputs": []
    },
    {
      "cell_type": "code",
      "metadata": {
        "id": "oXU_B2k03uYa",
        "colab_type": "code",
        "colab": {}
      },
      "source": [
        "df_train.rename(columns={'deadstatus.event':'Deadstatus_event'}, inplace=True)\n",
        "df_test.rename(columns={'deadstatus.event':'Deadstatus_event'}, inplace=True)"
      ],
      "execution_count": 0,
      "outputs": []
    },
    {
      "cell_type": "code",
      "metadata": {
        "id": "A2s4Lb6-5_TD",
        "colab_type": "code",
        "colab": {}
      },
      "source": [
        "df_train.rename(columns={'Overall.Stage':'Overall_Stage'}, inplace=True)\n",
        "df_test.rename(columns={'Overall.Stage':'Overall_Stage'}, inplace=True)"
      ],
      "execution_count": 0,
      "outputs": []
    },
    {
      "cell_type": "code",
      "metadata": {
        "id": "OSLKEIOl2RYI",
        "colab_type": "code",
        "colab": {}
      },
      "source": [
        "df_train.rename(columns={'GrayLevelNonUniformityNormalized.1':'GrayLevelNonUniformityNormalized_1'}, inplace=True)\n",
        "df_test.rename(columns={'GrayLevelNonUniformityNormalized.1':'GrayLevelNonUniformityNormalized_1'}, inplace=True)"
      ],
      "execution_count": 0,
      "outputs": []
    },
    {
      "cell_type": "code",
      "metadata": {
        "id": "Oyquyfh23aXC",
        "colab_type": "code",
        "colab": {}
      },
      "source": [
        "df_train.rename(columns={'Contrast.1':'Contrast_1'}, inplace=True)\n",
        "df_test.rename(columns={'Contrast.1':'Contrast_1'}, inplace=True)"
      ],
      "execution_count": 0,
      "outputs": []
    },
    {
      "cell_type": "code",
      "metadata": {
        "id": "FHyoxEBHuTBD",
        "colab_type": "code",
        "outputId": "eefe3c0c-01fe-45f8-f71c-03b8cceec9f2",
        "colab": {
          "base_uri": "https://localhost:8080/",
          "height": 256
        }
      },
      "source": [
        "df_train.head()"
      ],
      "execution_count": 14,
      "outputs": [
        {
          "output_type": "execute_result",
          "data": {
            "text/html": [
              "<div>\n",
              "<style scoped>\n",
              "    .dataframe tbody tr th:only-of-type {\n",
              "        vertical-align: middle;\n",
              "    }\n",
              "\n",
              "    .dataframe tbody tr th {\n",
              "        vertical-align: top;\n",
              "    }\n",
              "\n",
              "    .dataframe thead th {\n",
              "        text-align: right;\n",
              "    }\n",
              "</style>\n",
              "<table border=\"1\" class=\"dataframe\">\n",
              "  <thead>\n",
              "    <tr style=\"text-align: right;\">\n",
              "      <th></th>\n",
              "      <th>Histology</th>\n",
              "      <th>Surv_time_months</th>\n",
              "      <th>OS</th>\n",
              "      <th>Deadstatus_event</th>\n",
              "      <th>VoxelVolume</th>\n",
              "      <th>Maximum3DDiameter</th>\n",
              "      <th>MeshVolume</th>\n",
              "      <th>MajorAxisLength</th>\n",
              "      <th>Sphericity</th>\n",
              "      <th>LeastAxisLength</th>\n",
              "      <th>Elongation</th>\n",
              "      <th>SurfaceVolumeRatio</th>\n",
              "      <th>Maximum2DDiameterSlice</th>\n",
              "      <th>Flatness</th>\n",
              "      <th>SurfaceArea</th>\n",
              "      <th>MinorAxisLength</th>\n",
              "      <th>Maximum2DDiameterColumn</th>\n",
              "      <th>Maximum2DDiameterRow</th>\n",
              "      <th>GrayLevelVariance</th>\n",
              "      <th>HighGrayLevelEmphasis</th>\n",
              "      <th>DependenceEntropy</th>\n",
              "      <th>DependenceNonUniformity</th>\n",
              "      <th>GrayLevelNonUniformity</th>\n",
              "      <th>SmallDependenceEmphasis</th>\n",
              "      <th>SmallDependenceHighGrayLevelEmphasis</th>\n",
              "      <th>DependenceNonUniformityNormalized</th>\n",
              "      <th>LargeDependenceEmphasis</th>\n",
              "      <th>LargeDependenceLowGrayLevelEmphasis</th>\n",
              "      <th>DependenceVariance</th>\n",
              "      <th>LargeDependenceHighGrayLevelEmphasis</th>\n",
              "      <th>SmallDependenceLowGrayLevelEmphasis</th>\n",
              "      <th>LowGrayLevelEmphasis</th>\n",
              "      <th>JointAverage</th>\n",
              "      <th>SumAverage</th>\n",
              "      <th>JointEntropy</th>\n",
              "      <th>ClusterShade</th>\n",
              "      <th>MaximumProbability</th>\n",
              "      <th>Idmn</th>\n",
              "      <th>JointEnergy</th>\n",
              "      <th>Contrast</th>\n",
              "      <th>...</th>\n",
              "      <th>Kurtosis</th>\n",
              "      <th>Mean</th>\n",
              "      <th>ShortRunLowGrayLevelEmphasis</th>\n",
              "      <th>GrayLevelVariance.1</th>\n",
              "      <th>LowGrayLevelRunEmphasis</th>\n",
              "      <th>GrayLevelNonUniformityNormalized</th>\n",
              "      <th>RunVariance</th>\n",
              "      <th>GrayLevelNonUniformity.1</th>\n",
              "      <th>LongRunEmphasis</th>\n",
              "      <th>ShortRunHighGrayLevelEmphasis</th>\n",
              "      <th>RunLengthNonUniformity</th>\n",
              "      <th>ShortRunEmphasis</th>\n",
              "      <th>LongRunHighGrayLevelEmphasis</th>\n",
              "      <th>RunPercentage</th>\n",
              "      <th>LongRunLowGrayLevelEmphasis</th>\n",
              "      <th>RunEntropy</th>\n",
              "      <th>HighGrayLevelRunEmphasis</th>\n",
              "      <th>RunLengthNonUniformityNormalized</th>\n",
              "      <th>GrayLevelVariance.2</th>\n",
              "      <th>ZoneVariance</th>\n",
              "      <th>GrayLevelNonUniformityNormalized_1</th>\n",
              "      <th>SizeZoneNonUniformityNormalized</th>\n",
              "      <th>SizeZoneNonUniformity</th>\n",
              "      <th>GrayLevelNonUniformity.2</th>\n",
              "      <th>LargeAreaEmphasis</th>\n",
              "      <th>SmallAreaHighGrayLevelEmphasis</th>\n",
              "      <th>ZonePercentage</th>\n",
              "      <th>LargeAreaLowGrayLevelEmphasis</th>\n",
              "      <th>LargeAreaHighGrayLevelEmphasis</th>\n",
              "      <th>HighGrayLevelZoneEmphasis</th>\n",
              "      <th>SmallAreaEmphasis</th>\n",
              "      <th>LowGrayLevelZoneEmphasis</th>\n",
              "      <th>ZoneEntropy</th>\n",
              "      <th>SmallAreaLowGrayLevelEmphasis</th>\n",
              "      <th>Coarseness</th>\n",
              "      <th>Complexity</th>\n",
              "      <th>Strength</th>\n",
              "      <th>Contrast_1</th>\n",
              "      <th>Busyness</th>\n",
              "      <th>Overall_Stage</th>\n",
              "    </tr>\n",
              "  </thead>\n",
              "  <tbody>\n",
              "    <tr>\n",
              "      <th>0</th>\n",
              "      <td>adenocarcinoma</td>\n",
              "      <td>5</td>\n",
              "      <td>1_anno</td>\n",
              "      <td>1</td>\n",
              "      <td>51905.377962</td>\n",
              "      <td>66.288317</td>\n",
              "      <td>51847.748274</td>\n",
              "      <td>50.574214</td>\n",
              "      <td>0.649258</td>\n",
              "      <td>37.884620</td>\n",
              "      <td>0.821088</td>\n",
              "      <td>0.199752</td>\n",
              "      <td>63.135672</td>\n",
              "      <td>0.749090</td>\n",
              "      <td>10356.675894</td>\n",
              "      <td>41.525899</td>\n",
              "      <td>65.067279</td>\n",
              "      <td>55.325619</td>\n",
              "      <td>12.481889</td>\n",
              "      <td>1084.854684</td>\n",
              "      <td>5.949646</td>\n",
              "      <td>918.046673</td>\n",
              "      <td>5312.127441</td>\n",
              "      <td>0.122582</td>\n",
              "      <td>97.652454</td>\n",
              "      <td>0.050648</td>\n",
              "      <td>141.807349</td>\n",
              "      <td>0.124010</td>\n",
              "      <td>42.380287</td>\n",
              "      <td>163828.301666</td>\n",
              "      <td>0.000266</td>\n",
              "      <td>0.001208</td>\n",
              "      <td>33.190463</td>\n",
              "      <td>66.380925</td>\n",
              "      <td>4.331076</td>\n",
              "      <td>-475.448161</td>\n",
              "      <td>0.308299</td>\n",
              "      <td>0.994676</td>\n",
              "      <td>0.133643</td>\n",
              "      <td>8.029403</td>\n",
              "      <td>...</td>\n",
              "      <td>17.777521</td>\n",
              "      <td>5.650502</td>\n",
              "      <td>0.001166</td>\n",
              "      <td>17.478141</td>\n",
              "      <td>0.001372</td>\n",
              "      <td>0.192540</td>\n",
              "      <td>1.399893</td>\n",
              "      <td>2288.112500</td>\n",
              "      <td>3.749302</td>\n",
              "      <td>793.234742</td>\n",
              "      <td>6675.859117</td>\n",
              "      <td>0.776723</td>\n",
              "      <td>4220.221337</td>\n",
              "      <td>0.654950</td>\n",
              "      <td>0.003806</td>\n",
              "      <td>4.209293</td>\n",
              "      <td>1049.544424</td>\n",
              "      <td>0.560736</td>\n",
              "      <td>34.869500</td>\n",
              "      <td>42116.076135</td>\n",
              "      <td>0.060025</td>\n",
              "      <td>0.517739</td>\n",
              "      <td>1145.238698</td>\n",
              "      <td>132.775769</td>\n",
              "      <td>42183.224231</td>\n",
              "      <td>540.316964</td>\n",
              "      <td>0.122035</td>\n",
              "      <td>36.510775</td>\n",
              "      <td>4.877236e+07</td>\n",
              "      <td>751.520796</td>\n",
              "      <td>0.747563</td>\n",
              "      <td>0.002453</td>\n",
              "      <td>5.741322</td>\n",
              "      <td>0.001663</td>\n",
              "      <td>0.000357</td>\n",
              "      <td>928.016789</td>\n",
              "      <td>1.153806</td>\n",
              "      <td>0.020920</td>\n",
              "      <td>1.306338</td>\n",
              "      <td>I</td>\n",
              "    </tr>\n",
              "    <tr>\n",
              "      <th>1</th>\n",
              "      <td>adenocarcinoma</td>\n",
              "      <td>18</td>\n",
              "      <td>2_anni</td>\n",
              "      <td>1</td>\n",
              "      <td>13432.502747</td>\n",
              "      <td>58.057539</td>\n",
              "      <td>13312.697411</td>\n",
              "      <td>48.354803</td>\n",
              "      <td>0.572236</td>\n",
              "      <td>18.135097</td>\n",
              "      <td>0.546338</td>\n",
              "      <td>0.356577</td>\n",
              "      <td>40.146103</td>\n",
              "      <td>0.375042</td>\n",
              "      <td>4747.006589</td>\n",
              "      <td>26.418066</td>\n",
              "      <td>32.760898</td>\n",
              "      <td>56.652510</td>\n",
              "      <td>60.615944</td>\n",
              "      <td>1076.589137</td>\n",
              "      <td>7.130906</td>\n",
              "      <td>595.667519</td>\n",
              "      <td>351.846858</td>\n",
              "      <td>0.307871</td>\n",
              "      <td>239.202712</td>\n",
              "      <td>0.126873</td>\n",
              "      <td>32.011715</td>\n",
              "      <td>0.031426</td>\n",
              "      <td>12.612334</td>\n",
              "      <td>41890.348882</td>\n",
              "      <td>0.001812</td>\n",
              "      <td>0.003214</td>\n",
              "      <td>33.522040</td>\n",
              "      <td>67.044080</td>\n",
              "      <td>7.487967</td>\n",
              "      <td>-2829.110940</td>\n",
              "      <td>0.055759</td>\n",
              "      <td>0.985695</td>\n",
              "      <td>0.015596</td>\n",
              "      <td>38.337756</td>\n",
              "      <td>...</td>\n",
              "      <td>5.224099</td>\n",
              "      <td>-91.310969</td>\n",
              "      <td>0.003404</td>\n",
              "      <td>65.432452</td>\n",
              "      <td>0.003524</td>\n",
              "      <td>0.064158</td>\n",
              "      <td>0.230922</td>\n",
              "      <td>262.139314</td>\n",
              "      <td>1.567042</td>\n",
              "      <td>926.829706</td>\n",
              "      <td>3237.676584</td>\n",
              "      <td>0.908183</td>\n",
              "      <td>1777.017297</td>\n",
              "      <td>0.869059</td>\n",
              "      <td>0.004164</td>\n",
              "      <td>5.072184</td>\n",
              "      <td>1044.275778</td>\n",
              "      <td>0.790377</td>\n",
              "      <td>84.615342</td>\n",
              "      <td>598.216508</td>\n",
              "      <td>0.033349</td>\n",
              "      <td>0.543736</td>\n",
              "      <td>843.878866</td>\n",
              "      <td>51.757732</td>\n",
              "      <td>607.367912</td>\n",
              "      <td>543.633876</td>\n",
              "      <td>0.330564</td>\n",
              "      <td>0.465530</td>\n",
              "      <td>8.137725e+05</td>\n",
              "      <td>763.567010</td>\n",
              "      <td>0.764879</td>\n",
              "      <td>0.006307</td>\n",
              "      <td>6.451087</td>\n",
              "      <td>0.004959</td>\n",
              "      <td>0.001680</td>\n",
              "      <td>2944.805484</td>\n",
              "      <td>2.266070</td>\n",
              "      <td>0.146173</td>\n",
              "      <td>0.253533</td>\n",
              "      <td>I</td>\n",
              "    </tr>\n",
              "    <tr>\n",
              "      <th>2</th>\n",
              "      <td>adenocarcinoma</td>\n",
              "      <td>31</td>\n",
              "      <td>3_anni</td>\n",
              "      <td>0</td>\n",
              "      <td>25843.872675</td>\n",
              "      <td>52.918217</td>\n",
              "      <td>25724.437234</td>\n",
              "      <td>39.406474</td>\n",
              "      <td>0.675497</td>\n",
              "      <td>28.487740</td>\n",
              "      <td>0.891907</td>\n",
              "      <td>0.242519</td>\n",
              "      <td>46.415213</td>\n",
              "      <td>0.722920</td>\n",
              "      <td>6238.658603</td>\n",
              "      <td>35.146929</td>\n",
              "      <td>47.180420</td>\n",
              "      <td>46.322906</td>\n",
              "      <td>55.064124</td>\n",
              "      <td>1131.900166</td>\n",
              "      <td>6.932158</td>\n",
              "      <td>844.783490</td>\n",
              "      <td>1023.136953</td>\n",
              "      <td>0.253452</td>\n",
              "      <td>192.059998</td>\n",
              "      <td>0.093605</td>\n",
              "      <td>57.855402</td>\n",
              "      <td>0.045979</td>\n",
              "      <td>22.286238</td>\n",
              "      <td>79266.271357</td>\n",
              "      <td>0.000812</td>\n",
              "      <td>0.001864</td>\n",
              "      <td>34.046184</td>\n",
              "      <td>68.092368</td>\n",
              "      <td>6.796695</td>\n",
              "      <td>-3133.512010</td>\n",
              "      <td>0.106695</td>\n",
              "      <td>0.984515</td>\n",
              "      <td>0.033042</td>\n",
              "      <td>32.375097</td>\n",
              "      <td>...</td>\n",
              "      <td>5.387644</td>\n",
              "      <td>-67.724986</td>\n",
              "      <td>0.001973</td>\n",
              "      <td>61.733697</td>\n",
              "      <td>0.002096</td>\n",
              "      <td>0.085594</td>\n",
              "      <td>0.426431</td>\n",
              "      <td>626.125860</td>\n",
              "      <td>1.968083</td>\n",
              "      <td>906.575851</td>\n",
              "      <td>5266.417163</td>\n",
              "      <td>0.870954</td>\n",
              "      <td>2393.005796</td>\n",
              "      <td>0.809077</td>\n",
              "      <td>0.002930</td>\n",
              "      <td>4.968901</td>\n",
              "      <td>1079.567623</td>\n",
              "      <td>0.718481</td>\n",
              "      <td>68.928494</td>\n",
              "      <td>3157.415098</td>\n",
              "      <td>0.036760</td>\n",
              "      <td>0.531612</td>\n",
              "      <td>1319.991542</td>\n",
              "      <td>91.276279</td>\n",
              "      <td>3170.626259</td>\n",
              "      <td>525.709823</td>\n",
              "      <td>0.275125</td>\n",
              "      <td>2.306913</td>\n",
              "      <td>4.377395e+06</td>\n",
              "      <td>732.877970</td>\n",
              "      <td>0.757392</td>\n",
              "      <td>0.003456</td>\n",
              "      <td>6.294554</td>\n",
              "      <td>0.002520</td>\n",
              "      <td>0.000745</td>\n",
              "      <td>2146.780339</td>\n",
              "      <td>1.238883</td>\n",
              "      <td>0.152919</td>\n",
              "      <td>0.611772</td>\n",
              "      <td>I</td>\n",
              "    </tr>\n",
              "    <tr>\n",
              "      <th>3</th>\n",
              "      <td>adenocarcinoma</td>\n",
              "      <td>38</td>\n",
              "      <td>4_anni</td>\n",
              "      <td>1</td>\n",
              "      <td>22152.709032</td>\n",
              "      <td>46.635312</td>\n",
              "      <td>22099.016776</td>\n",
              "      <td>38.640414</td>\n",
              "      <td>0.733411</td>\n",
              "      <td>28.129382</td>\n",
              "      <td>0.754141</td>\n",
              "      <td>0.234970</td>\n",
              "      <td>39.274914</td>\n",
              "      <td>0.727978</td>\n",
              "      <td>5192.604222</td>\n",
              "      <td>29.140329</td>\n",
              "      <td>41.329017</td>\n",
              "      <td>46.543116</td>\n",
              "      <td>103.453079</td>\n",
              "      <td>1089.937565</td>\n",
              "      <td>7.205471</td>\n",
              "      <td>1087.724664</td>\n",
              "      <td>511.504912</td>\n",
              "      <td>0.336024</td>\n",
              "      <td>249.889273</td>\n",
              "      <td>0.140606</td>\n",
              "      <td>29.391158</td>\n",
              "      <td>0.026374</td>\n",
              "      <td>11.821883</td>\n",
              "      <td>42717.634566</td>\n",
              "      <td>0.001570</td>\n",
              "      <td>0.002693</td>\n",
              "      <td>33.073644</td>\n",
              "      <td>66.147288</td>\n",
              "      <td>8.211500</td>\n",
              "      <td>-5741.187919</td>\n",
              "      <td>0.049759</td>\n",
              "      <td>0.975646</td>\n",
              "      <td>0.012491</td>\n",
              "      <td>58.811721</td>\n",
              "      <td>...</td>\n",
              "      <td>2.714807</td>\n",
              "      <td>-102.779860</td>\n",
              "      <td>0.002828</td>\n",
              "      <td>107.887272</td>\n",
              "      <td>0.002923</td>\n",
              "      <td>0.054549</td>\n",
              "      <td>0.203221</td>\n",
              "      <td>370.362301</td>\n",
              "      <td>1.505960</td>\n",
              "      <td>924.243802</td>\n",
              "      <td>5447.401203</td>\n",
              "      <td>0.914390</td>\n",
              "      <td>1765.537152</td>\n",
              "      <td>0.877247</td>\n",
              "      <td>0.003439</td>\n",
              "      <td>5.297660</td>\n",
              "      <td>1044.150138</td>\n",
              "      <td>0.801694</td>\n",
              "      <td>100.015880</td>\n",
              "      <td>989.809275</td>\n",
              "      <td>0.028357</td>\n",
              "      <td>0.545916</td>\n",
              "      <td>1549.308668</td>\n",
              "      <td>80.477097</td>\n",
              "      <td>997.239605</td>\n",
              "      <td>527.497142</td>\n",
              "      <td>0.366856</td>\n",
              "      <td>0.671664</td>\n",
              "      <td>1.506307e+06</td>\n",
              "      <td>713.093023</td>\n",
              "      <td>0.767331</td>\n",
              "      <td>0.004730</td>\n",
              "      <td>6.545703</td>\n",
              "      <td>0.003888</td>\n",
              "      <td>0.000896</td>\n",
              "      <td>3136.738970</td>\n",
              "      <td>1.157976</td>\n",
              "      <td>0.351327</td>\n",
              "      <td>0.564313</td>\n",
              "      <td>I</td>\n",
              "    </tr>\n",
              "    <tr>\n",
              "      <th>4</th>\n",
              "      <td>adenocarcinoma</td>\n",
              "      <td>2</td>\n",
              "      <td>1_anno</td>\n",
              "      <td>1</td>\n",
              "      <td>119385.805617</td>\n",
              "      <td>92.436320</td>\n",
              "      <td>119150.752851</td>\n",
              "      <td>75.629327</td>\n",
              "      <td>0.617296</td>\n",
              "      <td>47.029423</td>\n",
              "      <td>0.722141</td>\n",
              "      <td>0.159206</td>\n",
              "      <td>76.960070</td>\n",
              "      <td>0.621841</td>\n",
              "      <td>18969.476942</td>\n",
              "      <td>54.615019</td>\n",
              "      <td>83.612205</td>\n",
              "      <td>70.719598</td>\n",
              "      <td>67.305748</td>\n",
              "      <td>1445.561800</td>\n",
              "      <td>7.263383</td>\n",
              "      <td>4562.726560</td>\n",
              "      <td>3232.154350</td>\n",
              "      <td>0.241385</td>\n",
              "      <td>264.764085</td>\n",
              "      <td>0.109442</td>\n",
              "      <td>37.885083</td>\n",
              "      <td>0.028865</td>\n",
              "      <td>14.368248</td>\n",
              "      <td>66795.832602</td>\n",
              "      <td>0.000468</td>\n",
              "      <td>0.001482</td>\n",
              "      <td>37.463123</td>\n",
              "      <td>74.926246</td>\n",
              "      <td>7.979356</td>\n",
              "      <td>-5754.693763</td>\n",
              "      <td>0.063232</td>\n",
              "      <td>0.987519</td>\n",
              "      <td>0.014054</td>\n",
              "      <td>41.318562</td>\n",
              "      <td>...</td>\n",
              "      <td>5.711559</td>\n",
              "      <td>-109.918927</td>\n",
              "      <td>0.001473</td>\n",
              "      <td>71.446292</td>\n",
              "      <td>0.001577</td>\n",
              "      <td>0.065239</td>\n",
              "      <td>0.280825</td>\n",
              "      <td>2318.917381</td>\n",
              "      <td>1.665599</td>\n",
              "      <td>1227.793946</td>\n",
              "      <td>27327.614966</td>\n",
              "      <td>0.897233</td>\n",
              "      <td>2548.311647</td>\n",
              "      <td>0.851946</td>\n",
              "      <td>0.002165</td>\n",
              "      <td>5.115966</td>\n",
              "      <td>1400.205550</td>\n",
              "      <td>0.767543</td>\n",
              "      <td>82.273203</td>\n",
              "      <td>7062.537600</td>\n",
              "      <td>0.034543</td>\n",
              "      <td>0.445967</td>\n",
              "      <td>4857.474477</td>\n",
              "      <td>376.237055</td>\n",
              "      <td>7077.188671</td>\n",
              "      <td>703.114744</td>\n",
              "      <td>0.261255</td>\n",
              "      <td>3.905480</td>\n",
              "      <td>1.289007e+07</td>\n",
              "      <td>1048.831160</td>\n",
              "      <td>0.694399</td>\n",
              "      <td>0.002179</td>\n",
              "      <td>6.849399</td>\n",
              "      <td>0.001365</td>\n",
              "      <td>0.000186</td>\n",
              "      <td>3368.646263</td>\n",
              "      <td>0.390430</td>\n",
              "      <td>0.132602</td>\n",
              "      <td>1.804351</td>\n",
              "      <td>IIIa</td>\n",
              "    </tr>\n",
              "  </tbody>\n",
              "</table>\n",
              "<p>5 rows × 112 columns</p>\n",
              "</div>"
            ],
            "text/plain": [
              "        Histology  Surv_time_months  ...  Busyness  Overall_Stage\n",
              "0  adenocarcinoma                 5  ...  1.306338              I\n",
              "1  adenocarcinoma                18  ...  0.253533              I\n",
              "2  adenocarcinoma                31  ...  0.611772              I\n",
              "3  adenocarcinoma                38  ...  0.564313              I\n",
              "4  adenocarcinoma                 2  ...  1.804351           IIIa\n",
              "\n",
              "[5 rows x 112 columns]"
            ]
          },
          "metadata": {
            "tags": []
          },
          "execution_count": 14
        }
      ]
    },
    {
      "cell_type": "code",
      "metadata": {
        "id": "7MZS4pNZiuxS",
        "colab_type": "code",
        "colab": {}
      },
      "source": [
        ""
      ],
      "execution_count": 0,
      "outputs": []
    },
    {
      "cell_type": "code",
      "metadata": {
        "id": "rNq1J0HzuTBM",
        "colab_type": "code",
        "outputId": "5bf88e97-1a71-4460-bd91-c1bf5f3ca382",
        "colab": {
          "base_uri": "https://localhost:8080/",
          "height": 164
        }
      },
      "source": [
        "df_train.columns"
      ],
      "execution_count": 15,
      "outputs": [
        {
          "output_type": "execute_result",
          "data": {
            "text/plain": [
              "Index(['Histology', 'Surv_time_months', 'OS', 'Deadstatus_event',\n",
              "       'VoxelVolume', 'Maximum3DDiameter', 'MeshVolume', 'MajorAxisLength',\n",
              "       'Sphericity', 'LeastAxisLength',\n",
              "       ...\n",
              "       'SmallAreaEmphasis', 'LowGrayLevelZoneEmphasis', 'ZoneEntropy',\n",
              "       'SmallAreaLowGrayLevelEmphasis', 'Coarseness', 'Complexity', 'Strength',\n",
              "       'Contrast_1', 'Busyness', 'Overall_Stage'],\n",
              "      dtype='object', length=112)"
            ]
          },
          "metadata": {
            "tags": []
          },
          "execution_count": 15
        }
      ]
    },
    {
      "cell_type": "code",
      "metadata": {
        "id": "SMK3_x1BuTBW",
        "colab_type": "code",
        "outputId": "e3fcf0e4-8f77-4168-cf49-deced0a29e6f",
        "colab": {
          "base_uri": "https://localhost:8080/",
          "height": 54
        }
      },
      "source": [
        "df_train.Histology.unique()\n"
      ],
      "execution_count": 16,
      "outputs": [
        {
          "output_type": "execute_result",
          "data": {
            "text/plain": [
              "array(['adenocarcinoma', 'large cell', 'squamous cell carcinoma'],\n",
              "      dtype=object)"
            ]
          },
          "metadata": {
            "tags": []
          },
          "execution_count": 16
        }
      ]
    },
    {
      "cell_type": "code",
      "metadata": {
        "id": "bBZjhZ7zuTBf",
        "colab_type": "code",
        "outputId": "a69c000f-c3d7-4127-a9ec-17b5b3b2ba84",
        "colab": {
          "base_uri": "https://localhost:8080/",
          "height": 54
        }
      },
      "source": [
        "df_test.Histology.unique()"
      ],
      "execution_count": 17,
      "outputs": [
        {
          "output_type": "execute_result",
          "data": {
            "text/plain": [
              "array([nan, 'squamous cell carcinoma', 'large cell', 'adenocarcinoma'],\n",
              "      dtype=object)"
            ]
          },
          "metadata": {
            "tags": []
          },
          "execution_count": 17
        }
      ]
    },
    {
      "cell_type": "markdown",
      "metadata": {
        "id": "0MD4fJTguTBr",
        "colab_type": "text"
      },
      "source": [
        "## Boxplot survival time grouped by histology"
      ]
    },
    {
      "cell_type": "code",
      "metadata": {
        "id": "KmxKFocNuTBv",
        "colab_type": "code",
        "outputId": "9951e6e2-c6f3-4c75-b2bf-4c3cbdaa3ec0",
        "colab": {
          "base_uri": "https://localhost:8080/",
          "height": 0
        }
      },
      "source": [
        "boxplot = df_train.boxplot(column=['Surv_time_months'], by='Histology', showmeans=True, whis='range')"
      ],
      "execution_count": 18,
      "outputs": [
        {
          "output_type": "display_data",
          "data": {
            "image/png": "[encoded data removed]",
            "text/plain": [
              "<Figure size 432x288 with 1 Axes>"
            ]
          },
          "metadata": {
            "tags": []
          }
        }
      ]
    },
    {
      "cell_type": "markdown",
      "metadata": {
        "id": "h3sDVfYrQtmP",
        "colab_type": "text"
      },
      "source": [
        "Il triangolino verde indica il valore medio"
      ]
    },
    {
      "cell_type": "code",
      "metadata": {
        "id": "MAau3S8wuTB6",
        "colab_type": "code",
        "outputId": "e0876521-7484-4cd0-95b0-b1a2b0cdf1a4",
        "colab": {
          "base_uri": "https://localhost:8080/",
          "height": 0
        }
      },
      "source": [
        "boxplot = df_test.boxplot(column=['Surv_time_months'], by='Histology', showmeans=True, whis='range')"
      ],
      "execution_count": 19,
      "outputs": [
        {
          "output_type": "display_data",
          "data": {
            "image/png": "[encoded data removed]",
            "text/plain": [
              "<Figure size 432x288 with 1 Axes>"
            ]
          },
          "metadata": {
            "tags": []
          }
        }
      ]
    },
    {
      "cell_type": "markdown",
      "metadata": {
        "id": "MxXuomS7uTCH",
        "colab_type": "text"
      },
      "source": [
        "## Boxplot survival time grouped by Overall Stage"
      ]
    },
    {
      "cell_type": "code",
      "metadata": {
        "id": "RS25aUpZuTCR",
        "colab_type": "code",
        "outputId": "73bf8732-7ca2-45dc-9c7e-ba9a6b32b228",
        "colab": {
          "base_uri": "https://localhost:8080/",
          "height": 0
        }
      },
      "source": [
        "df_train.Overall_Stage"
      ],
      "execution_count": 20,
      "outputs": [
        {
          "output_type": "execute_result",
          "data": {
            "text/plain": [
              "0         I\n",
              "1         I\n",
              "2         I\n",
              "3         I\n",
              "4      IIIa\n",
              "       ... \n",
              "126    IIIb\n",
              "127    IIIb\n",
              "128    IIIb\n",
              "129    IIIb\n",
              "130    IIIb\n",
              "Name: Overall_Stage, Length: 131, dtype: object"
            ]
          },
          "metadata": {
            "tags": []
          },
          "execution_count": 20
        }
      ]
    },
    {
      "cell_type": "code",
      "metadata": {
        "id": "m7G7L2z0uTCa",
        "colab_type": "code",
        "outputId": "52d6ae28-cd3a-4b41-fdeb-4f02d15358ce",
        "colab": {
          "base_uri": "https://localhost:8080/",
          "height": 0
        }
      },
      "source": [
        "boxplot = df_train.boxplot(column=['Surv_time_months'], by='Overall_Stage', showmeans=True, whis='range')"
      ],
      "execution_count": 21,
      "outputs": [
        {
          "output_type": "display_data",
          "data": {
            "image/png": "[encoded data removed]",
            "text/plain": [
              "<Figure size 432x288 with 1 Axes>"
            ]
          },
          "metadata": {
            "tags": []
          }
        }
      ]
    },
    {
      "cell_type": "code",
      "metadata": {
        "id": "tqt6nkpduTCg",
        "colab_type": "code",
        "outputId": "7bff4c4f-b5bc-4429-c0cb-2274adf216b3",
        "colab": {
          "base_uri": "https://localhost:8080/",
          "height": 0
        }
      },
      "source": [
        "boxplot = df_test.boxplot(column=['Surv_time_months'], by='Overall_Stage', showmeans=True, whis='range')"
      ],
      "execution_count": 22,
      "outputs": [
        {
          "output_type": "display_data",
          "data": {
            "image/png": "[encoded data removed]",
            "text/plain": [
              "<Figure size 432x288 with 1 Axes>"
            ]
          },
          "metadata": {
            "tags": []
          }
        }
      ]
    },
    {
      "cell_type": "markdown",
      "metadata": {
        "id": "cKVUO5wkuTCp",
        "colab_type": "text"
      },
      "source": [
        "# Correlation"
      ]
    },
    {
      "cell_type": "code",
      "metadata": {
        "id": "mna_iWxGuTCr",
        "colab_type": "code",
        "colab": {}
      },
      "source": [
        "import seaborn as sns"
      ],
      "execution_count": 0,
      "outputs": []
    },
    {
      "cell_type": "markdown",
      "metadata": {
        "id": "Y0h77yLluTCy",
        "colab_type": "text"
      },
      "source": [
        "Calcolo del coefficiente di correlazione di Pearson"
      ]
    },
    {
      "cell_type": "code",
      "metadata": {
        "id": "uNVYzGQ6uTC0",
        "colab_type": "code",
        "colab": {}
      },
      "source": [
        "train_data = df_train.drop(['Histology', 'Surv_time_months', 'OS', 'Deadstatus_event','Overall_Stage'], axis=1)"
      ],
      "execution_count": 0,
      "outputs": []
    },
    {
      "cell_type": "code",
      "metadata": {
        "id": "DVaQY73gI6Fz",
        "colab_type": "code",
        "outputId": "0773cf0b-f69e-47e6-e55b-e71e663a4cf1",
        "colab": {
          "base_uri": "https://localhost:8080/",
          "height": 0
        }
      },
      "source": [
        "train_data.shape"
      ],
      "execution_count": 25,
      "outputs": [
        {
          "output_type": "execute_result",
          "data": {
            "text/plain": [
              "(131, 107)"
            ]
          },
          "metadata": {
            "tags": []
          },
          "execution_count": 25
        }
      ]
    },
    {
      "cell_type": "code",
      "metadata": {
        "id": "xDsxbD5bGnts",
        "colab_type": "code",
        "colab": {}
      },
      "source": [
        "mean = train_data.mean(axis=0)\n",
        "train_data_stand = train_data - mean\n",
        "std = train_data.std(axis=0)\n",
        "train_data_stand /= std"
      ],
      "execution_count": 0,
      "outputs": []
    },
    {
      "cell_type": "code",
      "metadata": {
        "id": "PvDloEy8GpAM",
        "colab_type": "code",
        "outputId": "d43c134e-8340-4e1a-a834-0529d4e6fd09",
        "colab": {
          "base_uri": "https://localhost:8080/",
          "height": 0
        }
      },
      "source": [
        "train_data_stand"
      ],
      "execution_count": 27,
      "outputs": [
        {
          "output_type": "execute_result",
          "data": {
            "text/html": [
              "<div>\n",
              "<style scoped>\n",
              "    .dataframe tbody tr th:only-of-type {\n",
              "        vertical-align: middle;\n",
              "    }\n",
              "\n",
              "    .dataframe tbody tr th {\n",
              "        vertical-align: top;\n",
              "    }\n",
              "\n",
              "    .dataframe thead th {\n",
              "        text-align: right;\n",
              "    }\n",
              "</style>\n",
              "<table border=\"1\" class=\"dataframe\">\n",
              "  <thead>\n",
              "    <tr style=\"text-align: right;\">\n",
              "      <th></th>\n",
              "      <th>VoxelVolume</th>\n",
              "      <th>Maximum3DDiameter</th>\n",
              "      <th>MeshVolume</th>\n",
              "      <th>MajorAxisLength</th>\n",
              "      <th>Sphericity</th>\n",
              "      <th>LeastAxisLength</th>\n",
              "      <th>Elongation</th>\n",
              "      <th>SurfaceVolumeRatio</th>\n",
              "      <th>Maximum2DDiameterSlice</th>\n",
              "      <th>Flatness</th>\n",
              "      <th>SurfaceArea</th>\n",
              "      <th>MinorAxisLength</th>\n",
              "      <th>Maximum2DDiameterColumn</th>\n",
              "      <th>Maximum2DDiameterRow</th>\n",
              "      <th>GrayLevelVariance</th>\n",
              "      <th>HighGrayLevelEmphasis</th>\n",
              "      <th>DependenceEntropy</th>\n",
              "      <th>DependenceNonUniformity</th>\n",
              "      <th>GrayLevelNonUniformity</th>\n",
              "      <th>SmallDependenceEmphasis</th>\n",
              "      <th>SmallDependenceHighGrayLevelEmphasis</th>\n",
              "      <th>DependenceNonUniformityNormalized</th>\n",
              "      <th>LargeDependenceEmphasis</th>\n",
              "      <th>LargeDependenceLowGrayLevelEmphasis</th>\n",
              "      <th>DependenceVariance</th>\n",
              "      <th>LargeDependenceHighGrayLevelEmphasis</th>\n",
              "      <th>SmallDependenceLowGrayLevelEmphasis</th>\n",
              "      <th>LowGrayLevelEmphasis</th>\n",
              "      <th>JointAverage</th>\n",
              "      <th>SumAverage</th>\n",
              "      <th>JointEntropy</th>\n",
              "      <th>ClusterShade</th>\n",
              "      <th>MaximumProbability</th>\n",
              "      <th>Idmn</th>\n",
              "      <th>JointEnergy</th>\n",
              "      <th>Contrast</th>\n",
              "      <th>DifferenceEntropy</th>\n",
              "      <th>InverseVariance</th>\n",
              "      <th>DifferenceVariance</th>\n",
              "      <th>Idn</th>\n",
              "      <th>...</th>\n",
              "      <th>10Percentile</th>\n",
              "      <th>Kurtosis</th>\n",
              "      <th>Mean</th>\n",
              "      <th>ShortRunLowGrayLevelEmphasis</th>\n",
              "      <th>GrayLevelVariance.1</th>\n",
              "      <th>LowGrayLevelRunEmphasis</th>\n",
              "      <th>GrayLevelNonUniformityNormalized</th>\n",
              "      <th>RunVariance</th>\n",
              "      <th>GrayLevelNonUniformity.1</th>\n",
              "      <th>LongRunEmphasis</th>\n",
              "      <th>ShortRunHighGrayLevelEmphasis</th>\n",
              "      <th>RunLengthNonUniformity</th>\n",
              "      <th>ShortRunEmphasis</th>\n",
              "      <th>LongRunHighGrayLevelEmphasis</th>\n",
              "      <th>RunPercentage</th>\n",
              "      <th>LongRunLowGrayLevelEmphasis</th>\n",
              "      <th>RunEntropy</th>\n",
              "      <th>HighGrayLevelRunEmphasis</th>\n",
              "      <th>RunLengthNonUniformityNormalized</th>\n",
              "      <th>GrayLevelVariance.2</th>\n",
              "      <th>ZoneVariance</th>\n",
              "      <th>GrayLevelNonUniformityNormalized_1</th>\n",
              "      <th>SizeZoneNonUniformityNormalized</th>\n",
              "      <th>SizeZoneNonUniformity</th>\n",
              "      <th>GrayLevelNonUniformity.2</th>\n",
              "      <th>LargeAreaEmphasis</th>\n",
              "      <th>SmallAreaHighGrayLevelEmphasis</th>\n",
              "      <th>ZonePercentage</th>\n",
              "      <th>LargeAreaLowGrayLevelEmphasis</th>\n",
              "      <th>LargeAreaHighGrayLevelEmphasis</th>\n",
              "      <th>HighGrayLevelZoneEmphasis</th>\n",
              "      <th>SmallAreaEmphasis</th>\n",
              "      <th>LowGrayLevelZoneEmphasis</th>\n",
              "      <th>ZoneEntropy</th>\n",
              "      <th>SmallAreaLowGrayLevelEmphasis</th>\n",
              "      <th>Coarseness</th>\n",
              "      <th>Complexity</th>\n",
              "      <th>Strength</th>\n",
              "      <th>Contrast_1</th>\n",
              "      <th>Busyness</th>\n",
              "    </tr>\n",
              "  </thead>\n",
              "  <tbody>\n",
              "    <tr>\n",
              "      <th>0</th>\n",
              "      <td>-0.326999</td>\n",
              "      <td>-0.324600</td>\n",
              "      <td>-0.325959</td>\n",
              "      <td>-0.421079</td>\n",
              "      <td>0.561642</td>\n",
              "      <td>0.263757</td>\n",
              "      <td>0.500573</td>\n",
              "      <td>-0.552050</td>\n",
              "      <td>0.037308</td>\n",
              "      <td>1.106313</td>\n",
              "      <td>-0.347948</td>\n",
              "      <td>-0.165769</td>\n",
              "      <td>-0.025317</td>\n",
              "      <td>-0.414145</td>\n",
              "      <td>-1.335743</td>\n",
              "      <td>-0.813071</td>\n",
              "      <td>-2.824541</td>\n",
              "      <td>-0.634351</td>\n",
              "      <td>0.334305</td>\n",
              "      <td>-1.126107</td>\n",
              "      <td>-1.928055</td>\n",
              "      <td>-1.113628</td>\n",
              "      <td>2.934736</td>\n",
              "      <td>-0.120940</td>\n",
              "      <td>2.821184</td>\n",
              "      <td>1.495617</td>\n",
              "      <td>-0.540674</td>\n",
              "      <td>-0.378705</td>\n",
              "      <td>-0.684333</td>\n",
              "      <td>-0.684333</td>\n",
              "      <td>-2.317268</td>\n",
              "      <td>1.007081</td>\n",
              "      <td>4.555993</td>\n",
              "      <td>0.632496</td>\n",
              "      <td>4.589561</td>\n",
              "      <td>-1.113551</td>\n",
              "      <td>-1.678802</td>\n",
              "      <td>0.969446</td>\n",
              "      <td>-1.314485</td>\n",
              "      <td>0.744786</td>\n",
              "      <td>...</td>\n",
              "      <td>1.260758</td>\n",
              "      <td>1.158829</td>\n",
              "      <td>0.991254</td>\n",
              "      <td>-0.477563</td>\n",
              "      <td>-1.395013</td>\n",
              "      <td>-0.417375</td>\n",
              "      <td>2.340442</td>\n",
              "      <td>3.134412</td>\n",
              "      <td>-0.032854</td>\n",
              "      <td>2.945550</td>\n",
              "      <td>-1.255217</td>\n",
              "      <td>-0.560125</td>\n",
              "      <td>-2.008450</td>\n",
              "      <td>1.078044</td>\n",
              "      <td>-2.350651</td>\n",
              "      <td>-0.194420</td>\n",
              "      <td>-1.826327</td>\n",
              "      <td>-0.808912</td>\n",
              "      <td>-1.870073</td>\n",
              "      <td>-1.782876</td>\n",
              "      <td>0.592133</td>\n",
              "      <td>2.517908</td>\n",
              "      <td>0.538394</td>\n",
              "      <td>-0.611232</td>\n",
              "      <td>-0.280137</td>\n",
              "      <td>0.592947</td>\n",
              "      <td>-0.792517</td>\n",
              "      <td>-1.116086</td>\n",
              "      <td>0.324868</td>\n",
              "      <td>-0.330176</td>\n",
              "      <td>-0.872779</td>\n",
              "      <td>0.569674</td>\n",
              "      <td>-0.535195</td>\n",
              "      <td>-2.494285</td>\n",
              "      <td>-0.525241</td>\n",
              "      <td>-0.384378</td>\n",
              "      <td>-1.431675</td>\n",
              "      <td>-0.431619</td>\n",
              "      <td>-0.748803</td>\n",
              "      <td>0.428486</td>\n",
              "    </tr>\n",
              "    <tr>\n",
              "      <th>1</th>\n",
              "      <td>-0.785959</td>\n",
              "      <td>-0.588352</td>\n",
              "      <td>-0.785827</td>\n",
              "      <td>-0.504174</td>\n",
              "      <td>-0.209052</td>\n",
              "      <td>-1.104920</td>\n",
              "      <td>-1.321997</td>\n",
              "      <td>0.832807</td>\n",
              "      <td>-0.898101</td>\n",
              "      <td>-1.305701</td>\n",
              "      <td>-0.834556</td>\n",
              "      <td>-1.014615</td>\n",
              "      <td>-1.143253</td>\n",
              "      <td>-0.369513</td>\n",
              "      <td>-0.203455</td>\n",
              "      <td>-0.838653</td>\n",
              "      <td>0.322728</td>\n",
              "      <td>-0.778917</td>\n",
              "      <td>-0.715397</td>\n",
              "      <td>0.610489</td>\n",
              "      <td>0.145149</td>\n",
              "      <td>0.265639</td>\n",
              "      <td>-0.642557</td>\n",
              "      <td>-0.217092</td>\n",
              "      <td>-0.449308</td>\n",
              "      <td>-0.769577</td>\n",
              "      <td>0.346492</td>\n",
              "      <td>-0.093280</td>\n",
              "      <td>-0.611749</td>\n",
              "      <td>-0.611749</td>\n",
              "      <td>0.344859</td>\n",
              "      <td>0.477566</td>\n",
              "      <td>-0.515063</td>\n",
              "      <td>-0.012260</td>\n",
              "      <td>-0.594141</td>\n",
              "      <td>-0.026171</td>\n",
              "      <td>0.417892</td>\n",
              "      <td>-0.317860</td>\n",
              "      <td>0.063599</td>\n",
              "      <td>-0.218600</td>\n",
              "      <td>...</td>\n",
              "      <td>-0.167729</td>\n",
              "      <td>-0.530368</td>\n",
              "      <td>-0.077012</td>\n",
              "      <td>0.030173</td>\n",
              "      <td>-0.226248</td>\n",
              "      <td>-0.037642</td>\n",
              "      <td>-0.643090</td>\n",
              "      <td>-0.568272</td>\n",
              "      <td>-0.725264</td>\n",
              "      <td>-0.614104</td>\n",
              "      <td>-0.732080</td>\n",
              "      <td>-0.788133</td>\n",
              "      <td>0.680449</td>\n",
              "      <td>-0.803587</td>\n",
              "      <td>0.659974</td>\n",
              "      <td>-0.177157</td>\n",
              "      <td>0.297810</td>\n",
              "      <td>-0.825228</td>\n",
              "      <td>0.657376</td>\n",
              "      <td>-0.387514</td>\n",
              "      <td>-0.571869</td>\n",
              "      <td>-0.235669</td>\n",
              "      <td>1.102310</td>\n",
              "      <td>-0.750339</td>\n",
              "      <td>-0.768952</td>\n",
              "      <td>-0.572074</td>\n",
              "      <td>-0.775330</td>\n",
              "      <td>0.543521</td>\n",
              "      <td>-0.327762</td>\n",
              "      <td>-0.330961</td>\n",
              "      <td>-0.829963</td>\n",
              "      <td>1.090705</td>\n",
              "      <td>0.683129</td>\n",
              "      <td>-0.468298</td>\n",
              "      <td>0.643920</td>\n",
              "      <td>0.167390</td>\n",
              "      <td>-0.254404</td>\n",
              "      <td>0.205362</td>\n",
              "      <td>-0.158492</td>\n",
              "      <td>-0.876045</td>\n",
              "    </tr>\n",
              "    <tr>\n",
              "      <th>2</th>\n",
              "      <td>-0.637898</td>\n",
              "      <td>-0.753039</td>\n",
              "      <td>-0.637708</td>\n",
              "      <td>-0.839201</td>\n",
              "      <td>0.824200</td>\n",
              "      <td>-0.387464</td>\n",
              "      <td>0.970356</td>\n",
              "      <td>-0.174393</td>\n",
              "      <td>-0.643021</td>\n",
              "      <td>0.937562</td>\n",
              "      <td>-0.705164</td>\n",
              "      <td>-0.524177</td>\n",
              "      <td>-0.644277</td>\n",
              "      <td>-0.716966</td>\n",
              "      <td>-0.334054</td>\n",
              "      <td>-0.667465</td>\n",
              "      <td>-0.206805</td>\n",
              "      <td>-0.667205</td>\n",
              "      <td>-0.573338</td>\n",
              "      <td>0.100455</td>\n",
              "      <td>-0.545323</td>\n",
              "      <td>-0.336336</td>\n",
              "      <td>0.199466</td>\n",
              "      <td>-0.201979</td>\n",
              "      <td>0.613527</td>\n",
              "      <td>-0.075259</td>\n",
              "      <td>-0.227705</td>\n",
              "      <td>-0.285335</td>\n",
              "      <td>-0.497012</td>\n",
              "      <td>-0.497012</td>\n",
              "      <td>-0.238073</td>\n",
              "      <td>0.409084</td>\n",
              "      <td>0.507744</td>\n",
              "      <td>-0.097035</td>\n",
              "      <td>0.171963</td>\n",
              "      <td>-0.240094</td>\n",
              "      <td>0.034290</td>\n",
              "      <td>0.193277</td>\n",
              "      <td>-0.114283</td>\n",
              "      <td>-0.167127</td>\n",
              "      <td>...</td>\n",
              "      <td>-0.016895</td>\n",
              "      <td>-0.508361</td>\n",
              "      <td>0.182845</td>\n",
              "      <td>-0.294445</td>\n",
              "      <td>-0.316396</td>\n",
              "      <td>-0.289695</td>\n",
              "      <td>-0.144933</td>\n",
              "      <td>0.051001</td>\n",
              "      <td>-0.600866</td>\n",
              "      <td>0.040065</td>\n",
              "      <td>-0.811391</td>\n",
              "      <td>-0.653594</td>\n",
              "      <td>-0.081030</td>\n",
              "      <td>-0.329184</td>\n",
              "      <td>-0.183435</td>\n",
              "      <td>-0.236599</td>\n",
              "      <td>0.043563</td>\n",
              "      <td>-0.715940</td>\n",
              "      <td>-0.133909</td>\n",
              "      <td>-0.827527</td>\n",
              "      <td>-0.500119</td>\n",
              "      <td>0.116467</td>\n",
              "      <td>0.839308</td>\n",
              "      <td>-0.530567</td>\n",
              "      <td>-0.530520</td>\n",
              "      <td>-0.500248</td>\n",
              "      <td>-0.868207</td>\n",
              "      <td>0.102297</td>\n",
              "      <td>-0.294422</td>\n",
              "      <td>-0.330903</td>\n",
              "      <td>-0.939040</td>\n",
              "      <td>0.865427</td>\n",
              "      <td>-0.218079</td>\n",
              "      <td>-0.915112</td>\n",
              "      <td>-0.221102</td>\n",
              "      <td>-0.222361</td>\n",
              "      <td>-0.720239</td>\n",
              "      <td>-0.382896</td>\n",
              "      <td>-0.126698</td>\n",
              "      <td>-0.432151</td>\n",
              "    </tr>\n",
              "    <tr>\n",
              "      <th>3</th>\n",
              "      <td>-0.681932</td>\n",
              "      <td>-0.954372</td>\n",
              "      <td>-0.680973</td>\n",
              "      <td>-0.867883</td>\n",
              "      <td>1.403699</td>\n",
              "      <td>-0.412298</td>\n",
              "      <td>0.056476</td>\n",
              "      <td>-0.241054</td>\n",
              "      <td>-0.933548</td>\n",
              "      <td>0.970178</td>\n",
              "      <td>-0.795903</td>\n",
              "      <td>-0.861662</td>\n",
              "      <td>-0.846760</td>\n",
              "      <td>-0.709559</td>\n",
              "      <td>0.804230</td>\n",
              "      <td>-0.797340</td>\n",
              "      <td>0.521393</td>\n",
              "      <td>-0.558262</td>\n",
              "      <td>-0.681610</td>\n",
              "      <td>0.874344</td>\n",
              "      <td>0.301669</td>\n",
              "      <td>0.514131</td>\n",
              "      <td>-0.727938</td>\n",
              "      <td>-0.222339</td>\n",
              "      <td>-0.536151</td>\n",
              "      <td>-0.754209</td>\n",
              "      <td>0.207585</td>\n",
              "      <td>-0.167409</td>\n",
              "      <td>-0.709905</td>\n",
              "      <td>-0.709905</td>\n",
              "      <td>0.954997</td>\n",
              "      <td>-0.177577</td>\n",
              "      <td>-0.635551</td>\n",
              "      <td>-0.733761</td>\n",
              "      <td>-0.730467</td>\n",
              "      <td>0.708379</td>\n",
              "      <td>0.959969</td>\n",
              "      <td>-0.718390</td>\n",
              "      <td>0.864566</td>\n",
              "      <td>-0.866461</td>\n",
              "      <td>...</td>\n",
              "      <td>-0.751102</td>\n",
              "      <td>-0.868020</td>\n",
              "      <td>-0.203369</td>\n",
              "      <td>-0.100580</td>\n",
              "      <td>0.808482</td>\n",
              "      <td>-0.143666</td>\n",
              "      <td>-0.866394</td>\n",
              "      <td>-0.656013</td>\n",
              "      <td>-0.688277</td>\n",
              "      <td>-0.713739</td>\n",
              "      <td>-0.742206</td>\n",
              "      <td>-0.641592</td>\n",
              "      <td>0.807406</td>\n",
              "      <td>-0.812428</td>\n",
              "      <td>0.775113</td>\n",
              "      <td>-0.212096</td>\n",
              "      <td>0.852854</td>\n",
              "      <td>-0.825617</td>\n",
              "      <td>0.781936</td>\n",
              "      <td>0.044468</td>\n",
              "      <td>-0.560891</td>\n",
              "      <td>-0.750963</td>\n",
              "      <td>1.149582</td>\n",
              "      <td>-0.424715</td>\n",
              "      <td>-0.595676</td>\n",
              "      <td>-0.561149</td>\n",
              "      <td>-0.858946</td>\n",
              "      <td>0.832353</td>\n",
              "      <td>-0.324030</td>\n",
              "      <td>-0.330950</td>\n",
              "      <td>-1.009360</td>\n",
              "      <td>1.164499</td>\n",
              "      <td>0.184813</td>\n",
              "      <td>-0.198220</td>\n",
              "      <td>0.264074</td>\n",
              "      <td>-0.159621</td>\n",
              "      <td>-0.142365</td>\n",
              "      <td>-0.429230</td>\n",
              "      <td>0.808385</td>\n",
              "      <td>-0.490957</td>\n",
              "    </tr>\n",
              "    <tr>\n",
              "      <th>4</th>\n",
              "      <td>0.478005</td>\n",
              "      <td>0.513301</td>\n",
              "      <td>0.477220</td>\n",
              "      <td>0.516989</td>\n",
              "      <td>0.241827</td>\n",
              "      <td>0.897509</td>\n",
              "      <td>-0.155801</td>\n",
              "      <td>-0.910094</td>\n",
              "      <td>0.599802</td>\n",
              "      <td>0.285761</td>\n",
              "      <td>0.399166</td>\n",
              "      <td>0.569653</td>\n",
              "      <td>0.616415</td>\n",
              "      <td>0.103657</td>\n",
              "      <td>-0.046086</td>\n",
              "      <td>0.303319</td>\n",
              "      <td>0.675691</td>\n",
              "      <td>1.000049</td>\n",
              "      <td>-0.105862</td>\n",
              "      <td>-0.012647</td>\n",
              "      <td>0.519532</td>\n",
              "      <td>-0.049775</td>\n",
              "      <td>-0.451194</td>\n",
              "      <td>-0.219752</td>\n",
              "      <td>-0.256392</td>\n",
              "      <td>-0.306918</td>\n",
              "      <td>-0.424783</td>\n",
              "      <td>-0.339823</td>\n",
              "      <td>0.250967</td>\n",
              "      <td>0.250967</td>\n",
              "      <td>0.759235</td>\n",
              "      <td>-0.180616</td>\n",
              "      <td>-0.365017</td>\n",
              "      <td>0.118659</td>\n",
              "      <td>-0.661849</td>\n",
              "      <td>0.080772</td>\n",
              "      <td>0.550355</td>\n",
              "      <td>-0.422470</td>\n",
              "      <td>0.170934</td>\n",
              "      <td>-0.115921</td>\n",
              "      <td>...</td>\n",
              "      <td>-0.269764</td>\n",
              "      <td>-0.464775</td>\n",
              "      <td>-0.282023</td>\n",
              "      <td>-0.407938</td>\n",
              "      <td>-0.079676</td>\n",
              "      <td>-0.381326</td>\n",
              "      <td>-0.617954</td>\n",
              "      <td>-0.410205</td>\n",
              "      <td>-0.022326</td>\n",
              "      <td>-0.453340</td>\n",
              "      <td>0.446449</td>\n",
              "      <td>0.809427</td>\n",
              "      <td>0.456482</td>\n",
              "      <td>-0.209575</td>\n",
              "      <td>0.419342</td>\n",
              "      <td>-0.273463</td>\n",
              "      <td>0.405587</td>\n",
              "      <td>0.276980</td>\n",
              "      <td>0.406063</td>\n",
              "      <td>-0.453211</td>\n",
              "      <td>-0.390634</td>\n",
              "      <td>-0.112477</td>\n",
              "      <td>-1.018429</td>\n",
              "      <td>1.102324</td>\n",
              "      <td>1.188764</td>\n",
              "      <td>-0.390780</td>\n",
              "      <td>0.051058</td>\n",
              "      <td>-0.008082</td>\n",
              "      <td>-0.265479</td>\n",
              "      <td>-0.330763</td>\n",
              "      <td>0.183933</td>\n",
              "      <td>-1.030084</td>\n",
              "      <td>-0.621709</td>\n",
              "      <td>0.668665</td>\n",
              "      <td>-0.631017</td>\n",
              "      <td>-0.455810</td>\n",
              "      <td>-0.006993</td>\n",
              "      <td>-0.868795</td>\n",
              "      <td>-0.222454</td>\n",
              "      <td>1.045575</td>\n",
              "    </tr>\n",
              "    <tr>\n",
              "      <th>...</th>\n",
              "      <td>...</td>\n",
              "      <td>...</td>\n",
              "      <td>...</td>\n",
              "      <td>...</td>\n",
              "      <td>...</td>\n",
              "      <td>...</td>\n",
              "      <td>...</td>\n",
              "      <td>...</td>\n",
              "      <td>...</td>\n",
              "      <td>...</td>\n",
              "      <td>...</td>\n",
              "      <td>...</td>\n",
              "      <td>...</td>\n",
              "      <td>...</td>\n",
              "      <td>...</td>\n",
              "      <td>...</td>\n",
              "      <td>...</td>\n",
              "      <td>...</td>\n",
              "      <td>...</td>\n",
              "      <td>...</td>\n",
              "      <td>...</td>\n",
              "      <td>...</td>\n",
              "      <td>...</td>\n",
              "      <td>...</td>\n",
              "      <td>...</td>\n",
              "      <td>...</td>\n",
              "      <td>...</td>\n",
              "      <td>...</td>\n",
              "      <td>...</td>\n",
              "      <td>...</td>\n",
              "      <td>...</td>\n",
              "      <td>...</td>\n",
              "      <td>...</td>\n",
              "      <td>...</td>\n",
              "      <td>...</td>\n",
              "      <td>...</td>\n",
              "      <td>...</td>\n",
              "      <td>...</td>\n",
              "      <td>...</td>\n",
              "      <td>...</td>\n",
              "      <td>...</td>\n",
              "      <td>...</td>\n",
              "      <td>...</td>\n",
              "      <td>...</td>\n",
              "      <td>...</td>\n",
              "      <td>...</td>\n",
              "      <td>...</td>\n",
              "      <td>...</td>\n",
              "      <td>...</td>\n",
              "      <td>...</td>\n",
              "      <td>...</td>\n",
              "      <td>...</td>\n",
              "      <td>...</td>\n",
              "      <td>...</td>\n",
              "      <td>...</td>\n",
              "      <td>...</td>\n",
              "      <td>...</td>\n",
              "      <td>...</td>\n",
              "      <td>...</td>\n",
              "      <td>...</td>\n",
              "      <td>...</td>\n",
              "      <td>...</td>\n",
              "      <td>...</td>\n",
              "      <td>...</td>\n",
              "      <td>...</td>\n",
              "      <td>...</td>\n",
              "      <td>...</td>\n",
              "      <td>...</td>\n",
              "      <td>...</td>\n",
              "      <td>...</td>\n",
              "      <td>...</td>\n",
              "      <td>...</td>\n",
              "      <td>...</td>\n",
              "      <td>...</td>\n",
              "      <td>...</td>\n",
              "      <td>...</td>\n",
              "      <td>...</td>\n",
              "      <td>...</td>\n",
              "      <td>...</td>\n",
              "      <td>...</td>\n",
              "      <td>...</td>\n",
              "    </tr>\n",
              "    <tr>\n",
              "      <th>126</th>\n",
              "      <td>-0.099153</td>\n",
              "      <td>0.128211</td>\n",
              "      <td>-0.100766</td>\n",
              "      <td>-0.011421</td>\n",
              "      <td>-0.473343</td>\n",
              "      <td>0.588415</td>\n",
              "      <td>0.056465</td>\n",
              "      <td>-0.424015</td>\n",
              "      <td>0.301873</td>\n",
              "      <td>0.738209</td>\n",
              "      <td>0.067966</td>\n",
              "      <td>0.107612</td>\n",
              "      <td>0.381124</td>\n",
              "      <td>0.094283</td>\n",
              "      <td>-1.243100</td>\n",
              "      <td>1.279682</td>\n",
              "      <td>-0.238307</td>\n",
              "      <td>-0.383682</td>\n",
              "      <td>0.102915</td>\n",
              "      <td>-1.048243</td>\n",
              "      <td>-0.546838</td>\n",
              "      <td>-0.953189</td>\n",
              "      <td>1.267542</td>\n",
              "      <td>-0.196677</td>\n",
              "      <td>1.068583</td>\n",
              "      <td>1.500268</td>\n",
              "      <td>-0.556571</td>\n",
              "      <td>-0.438086</td>\n",
              "      <td>1.259940</td>\n",
              "      <td>1.259940</td>\n",
              "      <td>-1.272923</td>\n",
              "      <td>0.920837</td>\n",
              "      <td>0.708254</td>\n",
              "      <td>0.875813</td>\n",
              "      <td>0.868968</td>\n",
              "      <td>-1.023990</td>\n",
              "      <td>-1.343392</td>\n",
              "      <td>1.139456</td>\n",
              "      <td>-1.184445</td>\n",
              "      <td>1.097871</td>\n",
              "      <td>...</td>\n",
              "      <td>1.469264</td>\n",
              "      <td>2.376209</td>\n",
              "      <td>1.272660</td>\n",
              "      <td>-0.569360</td>\n",
              "      <td>-1.296989</td>\n",
              "      <td>-0.505620</td>\n",
              "      <td>1.140742</td>\n",
              "      <td>1.134512</td>\n",
              "      <td>0.060349</td>\n",
              "      <td>1.232571</td>\n",
              "      <td>1.107677</td>\n",
              "      <td>-0.255405</td>\n",
              "      <td>-1.322437</td>\n",
              "      <td>1.538056</td>\n",
              "      <td>-1.291598</td>\n",
              "      <td>-0.288889</td>\n",
              "      <td>-1.020989</td>\n",
              "      <td>1.332514</td>\n",
              "      <td>-1.271176</td>\n",
              "      <td>-0.915246</td>\n",
              "      <td>0.153411</td>\n",
              "      <td>1.074101</td>\n",
              "      <td>-0.395317</td>\n",
              "      <td>-0.420071</td>\n",
              "      <td>-0.168768</td>\n",
              "      <td>0.154171</td>\n",
              "      <td>1.437326</td>\n",
              "      <td>-1.033882</td>\n",
              "      <td>-0.070840</td>\n",
              "      <td>-0.330187</td>\n",
              "      <td>1.574114</td>\n",
              "      <td>-0.371482</td>\n",
              "      <td>-0.711417</td>\n",
              "      <td>-0.451804</td>\n",
              "      <td>-0.556608</td>\n",
              "      <td>-0.408819</td>\n",
              "      <td>-0.598683</td>\n",
              "      <td>-0.136144</td>\n",
              "      <td>-0.787939</td>\n",
              "      <td>-0.237786</td>\n",
              "    </tr>\n",
              "    <tr>\n",
              "      <th>127</th>\n",
              "      <td>-0.207435</td>\n",
              "      <td>0.545706</td>\n",
              "      <td>-0.208931</td>\n",
              "      <td>0.838313</td>\n",
              "      <td>-1.140051</td>\n",
              "      <td>0.006321</td>\n",
              "      <td>-1.789031</td>\n",
              "      <td>-0.060135</td>\n",
              "      <td>1.070362</td>\n",
              "      <td>-1.107607</td>\n",
              "      <td>0.119897</td>\n",
              "      <td>-0.247057</td>\n",
              "      <td>-0.312904</td>\n",
              "      <td>0.829830</td>\n",
              "      <td>0.654596</td>\n",
              "      <td>0.186568</td>\n",
              "      <td>-0.177314</td>\n",
              "      <td>-0.210944</td>\n",
              "      <td>-0.116935</td>\n",
              "      <td>0.071069</td>\n",
              "      <td>-0.110134</td>\n",
              "      <td>-0.471935</td>\n",
              "      <td>0.958647</td>\n",
              "      <td>-0.191926</td>\n",
              "      <td>1.847380</td>\n",
              "      <td>1.078300</td>\n",
              "      <td>-0.113236</td>\n",
              "      <td>-0.230153</td>\n",
              "      <td>0.225214</td>\n",
              "      <td>0.225214</td>\n",
              "      <td>-0.271660</td>\n",
              "      <td>-0.716297</td>\n",
              "      <td>1.996432</td>\n",
              "      <td>-0.480480</td>\n",
              "      <td>1.097782</td>\n",
              "      <td>0.457588</td>\n",
              "      <td>0.232934</td>\n",
              "      <td>-0.104937</td>\n",
              "      <td>1.061041</td>\n",
              "      <td>-0.297424</td>\n",
              "      <td>...</td>\n",
              "      <td>-0.802120</td>\n",
              "      <td>-0.580952</td>\n",
              "      <td>-0.259267</td>\n",
              "      <td>-0.171328</td>\n",
              "      <td>0.892488</td>\n",
              "      <td>-0.189526</td>\n",
              "      <td>0.084127</td>\n",
              "      <td>0.925475</td>\n",
              "      <td>-0.266530</td>\n",
              "      <td>0.751035</td>\n",
              "      <td>-0.164333</td>\n",
              "      <td>-0.232244</td>\n",
              "      <td>-0.390926</td>\n",
              "      <td>0.710006</td>\n",
              "      <td>-0.690808</td>\n",
              "      <td>-0.196295</td>\n",
              "      <td>0.387522</td>\n",
              "      <td>0.015941</td>\n",
              "      <td>-0.430127</td>\n",
              "      <td>0.437779</td>\n",
              "      <td>-0.310392</td>\n",
              "      <td>-0.717928</td>\n",
              "      <td>1.196877</td>\n",
              "      <td>0.346248</td>\n",
              "      <td>-0.064907</td>\n",
              "      <td>-0.310610</td>\n",
              "      <td>-0.364694</td>\n",
              "      <td>0.074385</td>\n",
              "      <td>-0.233026</td>\n",
              "      <td>-0.330690</td>\n",
              "      <td>-0.513216</td>\n",
              "      <td>1.205627</td>\n",
              "      <td>0.065081</td>\n",
              "      <td>-0.106162</td>\n",
              "      <td>0.026602</td>\n",
              "      <td>-0.419046</td>\n",
              "      <td>-0.458926</td>\n",
              "      <td>-0.702534</td>\n",
              "      <td>0.353733</td>\n",
              "      <td>0.513087</td>\n",
              "    </tr>\n",
              "    <tr>\n",
              "      <th>128</th>\n",
              "      <td>1.285109</td>\n",
              "      <td>0.689458</td>\n",
              "      <td>1.284037</td>\n",
              "      <td>0.665524</td>\n",
              "      <td>-0.034011</td>\n",
              "      <td>1.611761</td>\n",
              "      <td>0.242547</td>\n",
              "      <td>-1.049116</td>\n",
              "      <td>1.187602</td>\n",
              "      <td>0.920861</td>\n",
              "      <td>1.077799</td>\n",
              "      <td>0.999178</td>\n",
              "      <td>0.757048</td>\n",
              "      <td>0.987860</td>\n",
              "      <td>-0.764185</td>\n",
              "      <td>0.818373</td>\n",
              "      <td>-0.759446</td>\n",
              "      <td>1.095996</td>\n",
              "      <td>1.491896</td>\n",
              "      <td>-1.058242</td>\n",
              "      <td>-0.797779</td>\n",
              "      <td>-0.708002</td>\n",
              "      <td>0.321743</td>\n",
              "      <td>-0.211269</td>\n",
              "      <td>-0.134024</td>\n",
              "      <td>0.417754</td>\n",
              "      <td>-0.584318</td>\n",
              "      <td>-0.435174</td>\n",
              "      <td>0.806012</td>\n",
              "      <td>0.806012</td>\n",
              "      <td>-0.943259</td>\n",
              "      <td>0.375418</td>\n",
              "      <td>0.270369</td>\n",
              "      <td>0.879936</td>\n",
              "      <td>0.552978</td>\n",
              "      <td>-0.956972</td>\n",
              "      <td>-1.082081</td>\n",
              "      <td>1.150888</td>\n",
              "      <td>-1.111231</td>\n",
              "      <td>1.064890</td>\n",
              "      <td>...</td>\n",
              "      <td>0.981271</td>\n",
              "      <td>0.434303</td>\n",
              "      <td>0.700253</td>\n",
              "      <td>-0.569182</td>\n",
              "      <td>-0.744367</td>\n",
              "      <td>-0.506821</td>\n",
              "      <td>1.143933</td>\n",
              "      <td>0.129912</td>\n",
              "      <td>1.635392</td>\n",
              "      <td>0.282237</td>\n",
              "      <td>0.767624</td>\n",
              "      <td>1.216608</td>\n",
              "      <td>-0.772164</td>\n",
              "      <td>0.517972</td>\n",
              "      <td>-0.631038</td>\n",
              "      <td>-0.302952</td>\n",
              "      <td>-1.073785</td>\n",
              "      <td>0.851733</td>\n",
              "      <td>-0.812161</td>\n",
              "      <td>0.520684</td>\n",
              "      <td>1.444325</td>\n",
              "      <td>0.162801</td>\n",
              "      <td>-1.244911</td>\n",
              "      <td>0.561710</td>\n",
              "      <td>0.818934</td>\n",
              "      <td>1.444485</td>\n",
              "      <td>0.935312</td>\n",
              "      <td>-1.056939</td>\n",
              "      <td>0.425104</td>\n",
              "      <td>1.723671</td>\n",
              "      <td>0.963458</td>\n",
              "      <td>-1.280854</td>\n",
              "      <td>-0.795992</td>\n",
              "      <td>1.160291</td>\n",
              "      <td>-0.704138</td>\n",
              "      <td>-0.486075</td>\n",
              "      <td>0.333788</td>\n",
              "      <td>-0.539636</td>\n",
              "      <td>-0.769430</td>\n",
              "      <td>0.773563</td>\n",
              "    </tr>\n",
              "    <tr>\n",
              "      <th>129</th>\n",
              "      <td>-0.869715</td>\n",
              "      <td>-1.011114</td>\n",
              "      <td>-0.869237</td>\n",
              "      <td>-0.819790</td>\n",
              "      <td>0.109129</td>\n",
              "      <td>-1.385777</td>\n",
              "      <td>-1.463937</td>\n",
              "      <td>1.507255</td>\n",
              "      <td>-0.861501</td>\n",
              "      <td>-1.449627</td>\n",
              "      <td>-1.008854</td>\n",
              "      <td>-1.321380</td>\n",
              "      <td>-1.122757</td>\n",
              "      <td>-1.225699</td>\n",
              "      <td>0.781916</td>\n",
              "      <td>-1.655850</td>\n",
              "      <td>0.051848</td>\n",
              "      <td>-0.766788</td>\n",
              "      <td>-0.775870</td>\n",
              "      <td>2.441345</td>\n",
              "      <td>1.414121</td>\n",
              "      <td>3.002456</td>\n",
              "      <td>-1.460296</td>\n",
              "      <td>-0.228014</td>\n",
              "      <td>-1.606149</td>\n",
              "      <td>-1.400314</td>\n",
              "      <td>0.768288</td>\n",
              "      <td>0.123419</td>\n",
              "      <td>-1.922145</td>\n",
              "      <td>-1.922145</td>\n",
              "      <td>2.078523</td>\n",
              "      <td>0.682664</td>\n",
              "      <td>-1.451765</td>\n",
              "      <td>-2.034052</td>\n",
              "      <td>-1.197793</td>\n",
              "      <td>2.148561</td>\n",
              "      <td>1.859659</td>\n",
              "      <td>-2.337741</td>\n",
              "      <td>1.175947</td>\n",
              "      <td>-2.239935</td>\n",
              "      <td>...</td>\n",
              "      <td>-1.149925</td>\n",
              "      <td>-0.948248</td>\n",
              "      <td>-1.790143</td>\n",
              "      <td>0.319668</td>\n",
              "      <td>0.654523</td>\n",
              "      <td>0.187656</td>\n",
              "      <td>-1.455728</td>\n",
              "      <td>-1.115882</td>\n",
              "      <td>-0.793546</td>\n",
              "      <td>-1.277473</td>\n",
              "      <td>-1.381336</td>\n",
              "      <td>-0.872895</td>\n",
              "      <td>1.865024</td>\n",
              "      <td>-1.418747</td>\n",
              "      <td>1.853343</td>\n",
              "      <td>-0.120599</td>\n",
              "      <td>1.217194</td>\n",
              "      <td>-1.587874</td>\n",
              "      <td>2.039526</td>\n",
              "      <td>-0.257819</td>\n",
              "      <td>-0.588493</td>\n",
              "      <td>-0.692734</td>\n",
              "      <td>0.895016</td>\n",
              "      <td>-0.822035</td>\n",
              "      <td>-0.856306</td>\n",
              "      <td>-0.588861</td>\n",
              "      <td>-1.192660</td>\n",
              "      <td>2.494486</td>\n",
              "      <td>-0.335814</td>\n",
              "      <td>-0.330974</td>\n",
              "      <td>-1.203988</td>\n",
              "      <td>0.916355</td>\n",
              "      <td>0.363485</td>\n",
              "      <td>-0.447333</td>\n",
              "      <td>0.254260</td>\n",
              "      <td>0.916967</td>\n",
              "      <td>0.132357</td>\n",
              "      <td>0.286342</td>\n",
              "      <td>1.470328</td>\n",
              "      <td>-0.880778</td>\n",
              "    </tr>\n",
              "    <tr>\n",
              "      <th>130</th>\n",
              "      <td>-0.754865</td>\n",
              "      <td>-0.736568</td>\n",
              "      <td>-0.754929</td>\n",
              "      <td>-0.797567</td>\n",
              "      <td>-0.190348</td>\n",
              "      <td>-0.948958</td>\n",
              "      <td>0.347510</td>\n",
              "      <td>0.642031</td>\n",
              "      <td>-0.544748</td>\n",
              "      <td>-0.479815</td>\n",
              "      <td>-0.784271</td>\n",
              "      <td>-0.682205</td>\n",
              "      <td>-0.795617</td>\n",
              "      <td>-0.861830</td>\n",
              "      <td>0.236642</td>\n",
              "      <td>0.794646</td>\n",
              "      <td>0.115394</td>\n",
              "      <td>-0.781489</td>\n",
              "      <td>-0.676557</td>\n",
              "      <td>0.058375</td>\n",
              "      <td>1.165526</td>\n",
              "      <td>-0.124235</td>\n",
              "      <td>-0.556817</td>\n",
              "      <td>0.855924</td>\n",
              "      <td>-0.608643</td>\n",
              "      <td>-0.419435</td>\n",
              "      <td>-0.156533</td>\n",
              "      <td>1.167664</td>\n",
              "      <td>0.766042</td>\n",
              "      <td>0.766042</td>\n",
              "      <td>0.126589</td>\n",
              "      <td>-1.034285</td>\n",
              "      <td>-0.608900</td>\n",
              "      <td>-0.090930</td>\n",
              "      <td>-0.478180</td>\n",
              "      <td>0.228345</td>\n",
              "      <td>0.187823</td>\n",
              "      <td>0.145340</td>\n",
              "      <td>0.718985</td>\n",
              "      <td>-0.075223</td>\n",
              "      <td>...</td>\n",
              "      <td>0.000850</td>\n",
              "      <td>-0.030508</td>\n",
              "      <td>0.249185</td>\n",
              "      <td>0.970938</td>\n",
              "      <td>0.205896</td>\n",
              "      <td>1.108210</td>\n",
              "      <td>-0.161474</td>\n",
              "      <td>-0.528364</td>\n",
              "      <td>-0.676331</td>\n",
              "      <td>-0.509787</td>\n",
              "      <td>1.073882</td>\n",
              "      <td>-0.762065</td>\n",
              "      <td>0.354843</td>\n",
              "      <td>-0.103151</td>\n",
              "      <td>0.421329</td>\n",
              "      <td>0.869981</td>\n",
              "      <td>-0.142824</td>\n",
              "      <td>0.825088</td>\n",
              "      <td>0.300795</td>\n",
              "      <td>0.598693</td>\n",
              "      <td>-0.551501</td>\n",
              "      <td>-0.432264</td>\n",
              "      <td>1.156559</td>\n",
              "      <td>-0.774266</td>\n",
              "      <td>-0.806137</td>\n",
              "      <td>-0.551554</td>\n",
              "      <td>0.949949</td>\n",
              "      <td>-0.026969</td>\n",
              "      <td>-0.289484</td>\n",
              "      <td>-0.330934</td>\n",
              "      <td>0.751277</td>\n",
              "      <td>1.158642</td>\n",
              "      <td>0.144373</td>\n",
              "      <td>-0.315619</td>\n",
              "      <td>-0.270758</td>\n",
              "      <td>-0.007426</td>\n",
              "      <td>-0.126807</td>\n",
              "      <td>0.773426</td>\n",
              "      <td>-0.059339</td>\n",
              "      <td>-0.872797</td>\n",
              "    </tr>\n",
              "  </tbody>\n",
              "</table>\n",
              "<p>131 rows × 107 columns</p>\n",
              "</div>"
            ],
            "text/plain": [
              "     VoxelVolume  Maximum3DDiameter  MeshVolume  ...  Strength  Contrast_1  Busyness\n",
              "0      -0.326999          -0.324600   -0.325959  ... -0.431619   -0.748803  0.428486\n",
              "1      -0.785959          -0.588352   -0.785827  ...  0.205362   -0.158492 -0.876045\n",
              "2      -0.637898          -0.753039   -0.637708  ... -0.382896   -0.126698 -0.432151\n",
              "3      -0.681932          -0.954372   -0.680973  ... -0.429230    0.808385 -0.490957\n",
              "4       0.478005           0.513301    0.477220  ... -0.868795   -0.222454  1.045575\n",
              "..           ...                ...         ...  ...       ...         ...       ...\n",
              "126    -0.099153           0.128211   -0.100766  ... -0.136144   -0.787939 -0.237786\n",
              "127    -0.207435           0.545706   -0.208931  ... -0.702534    0.353733  0.513087\n",
              "128     1.285109           0.689458    1.284037  ... -0.539636   -0.769430  0.773563\n",
              "129    -0.869715          -1.011114   -0.869237  ...  0.286342    1.470328 -0.880778\n",
              "130    -0.754865          -0.736568   -0.754929  ...  0.773426   -0.059339 -0.872797\n",
              "\n",
              "[131 rows x 107 columns]"
            ]
          },
          "metadata": {
            "tags": []
          },
          "execution_count": 27
        }
      ]
    },
    {
      "cell_type": "code",
      "metadata": {
        "id": "JNmuXGmpuTC8",
        "colab_type": "code",
        "outputId": "8545248e-3b11-490a-f467-ec216d217615",
        "colab": {
          "base_uri": "https://localhost:8080/",
          "height": 0
        }
      },
      "source": [
        "train_data_stand.corr()"
      ],
      "execution_count": 28,
      "outputs": [
        {
          "output_type": "execute_result",
          "data": {
            "text/html": [
              "<div>\n",
              "<style scoped>\n",
              "    .dataframe tbody tr th:only-of-type {\n",
              "        vertical-align: middle;\n",
              "    }\n",
              "\n",
              "    .dataframe tbody tr th {\n",
              "        vertical-align: top;\n",
              "    }\n",
              "\n",
              "    .dataframe thead th {\n",
              "        text-align: right;\n",
              "    }\n",
              "</style>\n",
              "<table border=\"1\" class=\"dataframe\">\n",
              "  <thead>\n",
              "    <tr style=\"text-align: right;\">\n",
              "      <th></th>\n",
              "      <th>VoxelVolume</th>\n",
              "      <th>Maximum3DDiameter</th>\n",
              "      <th>MeshVolume</th>\n",
              "      <th>MajorAxisLength</th>\n",
              "      <th>Sphericity</th>\n",
              "      <th>LeastAxisLength</th>\n",
              "      <th>Elongation</th>\n",
              "      <th>SurfaceVolumeRatio</th>\n",
              "      <th>Maximum2DDiameterSlice</th>\n",
              "      <th>Flatness</th>\n",
              "      <th>SurfaceArea</th>\n",
              "      <th>MinorAxisLength</th>\n",
              "      <th>Maximum2DDiameterColumn</th>\n",
              "      <th>Maximum2DDiameterRow</th>\n",
              "      <th>GrayLevelVariance</th>\n",
              "      <th>HighGrayLevelEmphasis</th>\n",
              "      <th>DependenceEntropy</th>\n",
              "      <th>DependenceNonUniformity</th>\n",
              "      <th>GrayLevelNonUniformity</th>\n",
              "      <th>SmallDependenceEmphasis</th>\n",
              "      <th>SmallDependenceHighGrayLevelEmphasis</th>\n",
              "      <th>DependenceNonUniformityNormalized</th>\n",
              "      <th>LargeDependenceEmphasis</th>\n",
              "      <th>LargeDependenceLowGrayLevelEmphasis</th>\n",
              "      <th>DependenceVariance</th>\n",
              "      <th>LargeDependenceHighGrayLevelEmphasis</th>\n",
              "      <th>SmallDependenceLowGrayLevelEmphasis</th>\n",
              "      <th>LowGrayLevelEmphasis</th>\n",
              "      <th>JointAverage</th>\n",
              "      <th>SumAverage</th>\n",
              "      <th>JointEntropy</th>\n",
              "      <th>ClusterShade</th>\n",
              "      <th>MaximumProbability</th>\n",
              "      <th>Idmn</th>\n",
              "      <th>JointEnergy</th>\n",
              "      <th>Contrast</th>\n",
              "      <th>DifferenceEntropy</th>\n",
              "      <th>InverseVariance</th>\n",
              "      <th>DifferenceVariance</th>\n",
              "      <th>Idn</th>\n",
              "      <th>...</th>\n",
              "      <th>10Percentile</th>\n",
              "      <th>Kurtosis</th>\n",
              "      <th>Mean</th>\n",
              "      <th>ShortRunLowGrayLevelEmphasis</th>\n",
              "      <th>GrayLevelVariance.1</th>\n",
              "      <th>LowGrayLevelRunEmphasis</th>\n",
              "      <th>GrayLevelNonUniformityNormalized</th>\n",
              "      <th>RunVariance</th>\n",
              "      <th>GrayLevelNonUniformity.1</th>\n",
              "      <th>LongRunEmphasis</th>\n",
              "      <th>ShortRunHighGrayLevelEmphasis</th>\n",
              "      <th>RunLengthNonUniformity</th>\n",
              "      <th>ShortRunEmphasis</th>\n",
              "      <th>LongRunHighGrayLevelEmphasis</th>\n",
              "      <th>RunPercentage</th>\n",
              "      <th>LongRunLowGrayLevelEmphasis</th>\n",
              "      <th>RunEntropy</th>\n",
              "      <th>HighGrayLevelRunEmphasis</th>\n",
              "      <th>RunLengthNonUniformityNormalized</th>\n",
              "      <th>GrayLevelVariance.2</th>\n",
              "      <th>ZoneVariance</th>\n",
              "      <th>GrayLevelNonUniformityNormalized_1</th>\n",
              "      <th>SizeZoneNonUniformityNormalized</th>\n",
              "      <th>SizeZoneNonUniformity</th>\n",
              "      <th>GrayLevelNonUniformity.2</th>\n",
              "      <th>LargeAreaEmphasis</th>\n",
              "      <th>SmallAreaHighGrayLevelEmphasis</th>\n",
              "      <th>ZonePercentage</th>\n",
              "      <th>LargeAreaLowGrayLevelEmphasis</th>\n",
              "      <th>LargeAreaHighGrayLevelEmphasis</th>\n",
              "      <th>HighGrayLevelZoneEmphasis</th>\n",
              "      <th>SmallAreaEmphasis</th>\n",
              "      <th>LowGrayLevelZoneEmphasis</th>\n",
              "      <th>ZoneEntropy</th>\n",
              "      <th>SmallAreaLowGrayLevelEmphasis</th>\n",
              "      <th>Coarseness</th>\n",
              "      <th>Complexity</th>\n",
              "      <th>Strength</th>\n",
              "      <th>Contrast_1</th>\n",
              "      <th>Busyness</th>\n",
              "    </tr>\n",
              "  </thead>\n",
              "  <tbody>\n",
              "    <tr>\n",
              "      <th>VoxelVolume</th>\n",
              "      <td>1.000000</td>\n",
              "      <td>0.821982</td>\n",
              "      <td>0.999999</td>\n",
              "      <td>0.785606</td>\n",
              "      <td>-0.329751</td>\n",
              "      <td>0.898913</td>\n",
              "      <td>0.020392</td>\n",
              "      <td>-0.679146</td>\n",
              "      <td>0.832976</td>\n",
              "      <td>0.072277</td>\n",
              "      <td>0.950756</td>\n",
              "      <td>0.889105</td>\n",
              "      <td>0.838170</td>\n",
              "      <td>0.837324</td>\n",
              "      <td>-0.176830</td>\n",
              "      <td>0.528070</td>\n",
              "      <td>0.033228</td>\n",
              "      <td>0.939428</td>\n",
              "      <td>0.923283</td>\n",
              "      <td>-0.572156</td>\n",
              "      <td>-0.317799</td>\n",
              "      <td>-0.486348</td>\n",
              "      <td>0.369668</td>\n",
              "      <td>0.144763</td>\n",
              "      <td>0.216950</td>\n",
              "      <td>0.432934</td>\n",
              "      <td>-0.362273</td>\n",
              "      <td>-0.015689</td>\n",
              "      <td>0.493080</td>\n",
              "      <td>0.493080</td>\n",
              "      <td>-0.356995</td>\n",
              "      <td>-0.200703</td>\n",
              "      <td>0.205100</td>\n",
              "      <td>0.524585</td>\n",
              "      <td>0.270697</td>\n",
              "      <td>-0.436992</td>\n",
              "      <td>-0.487864</td>\n",
              "      <td>0.510222</td>\n",
              "      <td>-0.388195</td>\n",
              "      <td>0.577134</td>\n",
              "      <td>...</td>\n",
              "      <td>0.323978</td>\n",
              "      <td>0.328833</td>\n",
              "      <td>0.413992</td>\n",
              "      <td>-0.111564</td>\n",
              "      <td>-0.142230</td>\n",
              "      <td>-0.052167</td>\n",
              "      <td>0.418276</td>\n",
              "      <td>0.298776</td>\n",
              "      <td>0.938199</td>\n",
              "      <td>0.350780</td>\n",
              "      <td>0.469435</td>\n",
              "      <td>0.973643</td>\n",
              "      <td>-0.490008</td>\n",
              "      <td>0.469550</td>\n",
              "      <td>-0.458102</td>\n",
              "      <td>0.118459</td>\n",
              "      <td>-0.254205</td>\n",
              "      <td>0.530056</td>\n",
              "      <td>-0.501210</td>\n",
              "      <td>0.248150</td>\n",
              "      <td>0.799097</td>\n",
              "      <td>0.075534</td>\n",
              "      <td>-0.411886</td>\n",
              "      <td>0.899479</td>\n",
              "      <td>0.922172</td>\n",
              "      <td>0.799043</td>\n",
              "      <td>0.475936</td>\n",
              "      <td>-0.572976</td>\n",
              "      <td>0.523293</td>\n",
              "      <td>0.611567</td>\n",
              "      <td>0.497011</td>\n",
              "      <td>-0.412217</td>\n",
              "      <td>-0.368620</td>\n",
              "      <td>0.506717</td>\n",
              "      <td>-0.381946</td>\n",
              "      <td>-0.401634</td>\n",
              "      <td>0.277302</td>\n",
              "      <td>-0.510155</td>\n",
              "      <td>-0.458069</td>\n",
              "      <td>0.937894</td>\n",
              "    </tr>\n",
              "    <tr>\n",
              "      <th>Maximum3DDiameter</th>\n",
              "      <td>0.821982</td>\n",
              "      <td>1.000000</td>\n",
              "      <td>0.821800</td>\n",
              "      <td>0.964760</td>\n",
              "      <td>-0.678628</td>\n",
              "      <td>0.812696</td>\n",
              "      <td>-0.271438</td>\n",
              "      <td>-0.683336</td>\n",
              "      <td>0.917765</td>\n",
              "      <td>-0.271877</td>\n",
              "      <td>0.911623</td>\n",
              "      <td>0.901223</td>\n",
              "      <td>0.940584</td>\n",
              "      <td>0.958797</td>\n",
              "      <td>-0.220656</td>\n",
              "      <td>0.639461</td>\n",
              "      <td>0.133962</td>\n",
              "      <td>0.786661</td>\n",
              "      <td>0.741102</td>\n",
              "      <td>-0.654213</td>\n",
              "      <td>-0.251020</td>\n",
              "      <td>-0.605156</td>\n",
              "      <td>0.395214</td>\n",
              "      <td>0.129414</td>\n",
              "      <td>0.263112</td>\n",
              "      <td>0.460671</td>\n",
              "      <td>-0.531704</td>\n",
              "      <td>-0.054131</td>\n",
              "      <td>0.608983</td>\n",
              "      <td>0.608983</td>\n",
              "      <td>-0.375524</td>\n",
              "      <td>-0.180379</td>\n",
              "      <td>0.249756</td>\n",
              "      <td>0.670078</td>\n",
              "      <td>0.298131</td>\n",
              "      <td>-0.525327</td>\n",
              "      <td>-0.549153</td>\n",
              "      <td>0.599396</td>\n",
              "      <td>-0.433522</td>\n",
              "      <td>0.695066</td>\n",
              "      <td>...</td>\n",
              "      <td>0.398349</td>\n",
              "      <td>0.371992</td>\n",
              "      <td>0.526980</td>\n",
              "      <td>-0.183269</td>\n",
              "      <td>-0.180156</td>\n",
              "      <td>-0.108437</td>\n",
              "      <td>0.445523</td>\n",
              "      <td>0.317060</td>\n",
              "      <td>0.755681</td>\n",
              "      <td>0.371774</td>\n",
              "      <td>0.594074</td>\n",
              "      <td>0.812268</td>\n",
              "      <td>-0.527681</td>\n",
              "      <td>0.517503</td>\n",
              "      <td>-0.498173</td>\n",
              "      <td>0.073990</td>\n",
              "      <td>-0.270332</td>\n",
              "      <td>0.641334</td>\n",
              "      <td>-0.547216</td>\n",
              "      <td>0.265182</td>\n",
              "      <td>0.621154</td>\n",
              "      <td>0.068929</td>\n",
              "      <td>-0.434710</td>\n",
              "      <td>0.782626</td>\n",
              "      <td>0.794181</td>\n",
              "      <td>0.621175</td>\n",
              "      <td>0.575123</td>\n",
              "      <td>-0.657133</td>\n",
              "      <td>0.372469</td>\n",
              "      <td>0.461945</td>\n",
              "      <td>0.595651</td>\n",
              "      <td>-0.428361</td>\n",
              "      <td>-0.533330</td>\n",
              "      <td>0.573314</td>\n",
              "      <td>-0.555928</td>\n",
              "      <td>-0.586992</td>\n",
              "      <td>0.257297</td>\n",
              "      <td>-0.642559</td>\n",
              "      <td>-0.592542</td>\n",
              "      <td>0.810919</td>\n",
              "    </tr>\n",
              "    <tr>\n",
              "      <th>MeshVolume</th>\n",
              "      <td>0.999999</td>\n",
              "      <td>0.821800</td>\n",
              "      <td>1.000000</td>\n",
              "      <td>0.785457</td>\n",
              "      <td>-0.329524</td>\n",
              "      <td>0.898705</td>\n",
              "      <td>0.020542</td>\n",
              "      <td>-0.678962</td>\n",
              "      <td>0.832789</td>\n",
              "      <td>0.072340</td>\n",
              "      <td>0.950769</td>\n",
              "      <td>0.888978</td>\n",
              "      <td>0.838067</td>\n",
              "      <td>0.837236</td>\n",
              "      <td>-0.176905</td>\n",
              "      <td>0.527940</td>\n",
              "      <td>0.032935</td>\n",
              "      <td>0.939282</td>\n",
              "      <td>0.923458</td>\n",
              "      <td>-0.572020</td>\n",
              "      <td>-0.317906</td>\n",
              "      <td>-0.486162</td>\n",
              "      <td>0.369643</td>\n",
              "      <td>0.144589</td>\n",
              "      <td>0.216857</td>\n",
              "      <td>0.432929</td>\n",
              "      <td>-0.362038</td>\n",
              "      <td>-0.015775</td>\n",
              "      <td>0.492963</td>\n",
              "      <td>0.492963</td>\n",
              "      <td>-0.357052</td>\n",
              "      <td>-0.200464</td>\n",
              "      <td>0.205177</td>\n",
              "      <td>0.524315</td>\n",
              "      <td>0.270745</td>\n",
              "      <td>-0.436857</td>\n",
              "      <td>-0.487829</td>\n",
              "      <td>0.510158</td>\n",
              "      <td>-0.388145</td>\n",
              "      <td>0.576903</td>\n",
              "      <td>...</td>\n",
              "      <td>0.324013</td>\n",
              "      <td>0.328922</td>\n",
              "      <td>0.413856</td>\n",
              "      <td>-0.111583</td>\n",
              "      <td>-0.142320</td>\n",
              "      <td>-0.052227</td>\n",
              "      <td>0.418311</td>\n",
              "      <td>0.298709</td>\n",
              "      <td>0.938334</td>\n",
              "      <td>0.350732</td>\n",
              "      <td>0.469275</td>\n",
              "      <td>0.973528</td>\n",
              "      <td>-0.489990</td>\n",
              "      <td>0.469492</td>\n",
              "      <td>-0.458066</td>\n",
              "      <td>0.118297</td>\n",
              "      <td>-0.254306</td>\n",
              "      <td>0.529929</td>\n",
              "      <td>-0.501173</td>\n",
              "      <td>0.248039</td>\n",
              "      <td>0.799463</td>\n",
              "      <td>0.075682</td>\n",
              "      <td>-0.411663</td>\n",
              "      <td>0.899224</td>\n",
              "      <td>0.922040</td>\n",
              "      <td>0.799408</td>\n",
              "      <td>0.475816</td>\n",
              "      <td>-0.572841</td>\n",
              "      <td>0.523224</td>\n",
              "      <td>0.612063</td>\n",
              "      <td>0.496873</td>\n",
              "      <td>-0.411994</td>\n",
              "      <td>-0.368391</td>\n",
              "      <td>0.506398</td>\n",
              "      <td>-0.381685</td>\n",
              "      <td>-0.401370</td>\n",
              "      <td>0.277025</td>\n",
              "      <td>-0.509976</td>\n",
              "      <td>-0.457835</td>\n",
              "      <td>0.937881</td>\n",
              "    </tr>\n",
              "    <tr>\n",
              "      <th>MajorAxisLength</th>\n",
              "      <td>0.785606</td>\n",
              "      <td>0.964760</td>\n",
              "      <td>0.785457</td>\n",
              "      <td>1.000000</td>\n",
              "      <td>-0.694906</td>\n",
              "      <td>0.740991</td>\n",
              "      <td>-0.405218</td>\n",
              "      <td>-0.609701</td>\n",
              "      <td>0.865958</td>\n",
              "      <td>-0.395222</td>\n",
              "      <td>0.888151</td>\n",
              "      <td>0.848934</td>\n",
              "      <td>0.917987</td>\n",
              "      <td>0.931021</td>\n",
              "      <td>-0.232390</td>\n",
              "      <td>0.588766</td>\n",
              "      <td>0.125325</td>\n",
              "      <td>0.757988</td>\n",
              "      <td>0.705773</td>\n",
              "      <td>-0.598151</td>\n",
              "      <td>-0.224134</td>\n",
              "      <td>-0.548989</td>\n",
              "      <td>0.353815</td>\n",
              "      <td>0.079609</td>\n",
              "      <td>0.229236</td>\n",
              "      <td>0.417691</td>\n",
              "      <td>-0.507206</td>\n",
              "      <td>-0.096051</td>\n",
              "      <td>0.563716</td>\n",
              "      <td>0.563716</td>\n",
              "      <td>-0.337319</td>\n",
              "      <td>-0.131939</td>\n",
              "      <td>0.217247</td>\n",
              "      <td>0.624492</td>\n",
              "      <td>0.263005</td>\n",
              "      <td>-0.496873</td>\n",
              "      <td>-0.505797</td>\n",
              "      <td>0.543634</td>\n",
              "      <td>-0.420450</td>\n",
              "      <td>0.642121</td>\n",
              "      <td>...</td>\n",
              "      <td>0.381489</td>\n",
              "      <td>0.360366</td>\n",
              "      <td>0.495489</td>\n",
              "      <td>-0.212687</td>\n",
              "      <td>-0.197425</td>\n",
              "      <td>-0.145491</td>\n",
              "      <td>0.402152</td>\n",
              "      <td>0.293574</td>\n",
              "      <td>0.721520</td>\n",
              "      <td>0.340531</td>\n",
              "      <td>0.550358</td>\n",
              "      <td>0.780304</td>\n",
              "      <td>-0.474136</td>\n",
              "      <td>0.477829</td>\n",
              "      <td>-0.446575</td>\n",
              "      <td>0.028585</td>\n",
              "      <td>-0.255601</td>\n",
              "      <td>0.590635</td>\n",
              "      <td>-0.491416</td>\n",
              "      <td>0.201948</td>\n",
              "      <td>0.589098</td>\n",
              "      <td>0.086082</td>\n",
              "      <td>-0.417024</td>\n",
              "      <td>0.749641</td>\n",
              "      <td>0.770526</td>\n",
              "      <td>0.589113</td>\n",
              "      <td>0.527953</td>\n",
              "      <td>-0.601804</td>\n",
              "      <td>0.336545</td>\n",
              "      <td>0.429804</td>\n",
              "      <td>0.550846</td>\n",
              "      <td>-0.410538</td>\n",
              "      <td>-0.519397</td>\n",
              "      <td>0.518664</td>\n",
              "      <td>-0.532009</td>\n",
              "      <td>-0.546184</td>\n",
              "      <td>0.229141</td>\n",
              "      <td>-0.607597</td>\n",
              "      <td>-0.555373</td>\n",
              "      <td>0.773599</td>\n",
              "    </tr>\n",
              "    <tr>\n",
              "      <th>Sphericity</th>\n",
              "      <td>-0.329751</td>\n",
              "      <td>-0.678628</td>\n",
              "      <td>-0.329524</td>\n",
              "      <td>-0.694906</td>\n",
              "      <td>1.000000</td>\n",
              "      <td>-0.374185</td>\n",
              "      <td>0.456263</td>\n",
              "      <td>0.142233</td>\n",
              "      <td>-0.592080</td>\n",
              "      <td>0.512793</td>\n",
              "      <td>-0.541765</td>\n",
              "      <td>-0.515124</td>\n",
              "      <td>-0.577215</td>\n",
              "      <td>-0.628313</td>\n",
              "      <td>0.137679</td>\n",
              "      <td>-0.415597</td>\n",
              "      <td>-0.090403</td>\n",
              "      <td>-0.370985</td>\n",
              "      <td>-0.287390</td>\n",
              "      <td>0.321142</td>\n",
              "      <td>-0.064450</td>\n",
              "      <td>0.271354</td>\n",
              "      <td>-0.088529</td>\n",
              "      <td>0.002830</td>\n",
              "      <td>0.015669</td>\n",
              "      <td>-0.145294</td>\n",
              "      <td>0.364815</td>\n",
              "      <td>0.079818</td>\n",
              "      <td>-0.389564</td>\n",
              "      <td>-0.389564</td>\n",
              "      <td>0.148960</td>\n",
              "      <td>0.058774</td>\n",
              "      <td>-0.064106</td>\n",
              "      <td>-0.422106</td>\n",
              "      <td>-0.110848</td>\n",
              "      <td>0.293650</td>\n",
              "      <td>0.296835</td>\n",
              "      <td>-0.322099</td>\n",
              "      <td>0.245097</td>\n",
              "      <td>-0.408272</td>\n",
              "      <td>...</td>\n",
              "      <td>-0.279306</td>\n",
              "      <td>-0.319712</td>\n",
              "      <td>-0.330632</td>\n",
              "      <td>0.149261</td>\n",
              "      <td>0.125022</td>\n",
              "      <td>0.111847</td>\n",
              "      <td>-0.247781</td>\n",
              "      <td>-0.081001</td>\n",
              "      <td>-0.308803</td>\n",
              "      <td>-0.107650</td>\n",
              "      <td>-0.450938</td>\n",
              "      <td>-0.357406</td>\n",
              "      <td>0.187979</td>\n",
              "      <td>-0.239516</td>\n",
              "      <td>0.156552</td>\n",
              "      <td>0.031223</td>\n",
              "      <td>0.203555</td>\n",
              "      <td>-0.429997</td>\n",
              "      <td>0.197224</td>\n",
              "      <td>-0.194547</td>\n",
              "      <td>-0.239277</td>\n",
              "      <td>-0.104316</td>\n",
              "      <td>0.268635</td>\n",
              "      <td>-0.356667</td>\n",
              "      <td>-0.376354</td>\n",
              "      <td>-0.239345</td>\n",
              "      <td>-0.453100</td>\n",
              "      <td>0.328618</td>\n",
              "      <td>-0.100224</td>\n",
              "      <td>-0.168701</td>\n",
              "      <td>-0.471358</td>\n",
              "      <td>0.259480</td>\n",
              "      <td>0.378646</td>\n",
              "      <td>-0.348014</td>\n",
              "      <td>0.392499</td>\n",
              "      <td>0.356708</td>\n",
              "      <td>-0.182615</td>\n",
              "      <td>0.339595</td>\n",
              "      <td>0.380133</td>\n",
              "      <td>-0.339451</td>\n",
              "    </tr>\n",
              "    <tr>\n",
              "      <th>...</th>\n",
              "      <td>...</td>\n",
              "      <td>...</td>\n",
              "      <td>...</td>\n",
              "      <td>...</td>\n",
              "      <td>...</td>\n",
              "      <td>...</td>\n",
              "      <td>...</td>\n",
              "      <td>...</td>\n",
              "      <td>...</td>\n",
              "      <td>...</td>\n",
              "      <td>...</td>\n",
              "      <td>...</td>\n",
              "      <td>...</td>\n",
              "      <td>...</td>\n",
              "      <td>...</td>\n",
              "      <td>...</td>\n",
              "      <td>...</td>\n",
              "      <td>...</td>\n",
              "      <td>...</td>\n",
              "      <td>...</td>\n",
              "      <td>...</td>\n",
              "      <td>...</td>\n",
              "      <td>...</td>\n",
              "      <td>...</td>\n",
              "      <td>...</td>\n",
              "      <td>...</td>\n",
              "      <td>...</td>\n",
              "      <td>...</td>\n",
              "      <td>...</td>\n",
              "      <td>...</td>\n",
              "      <td>...</td>\n",
              "      <td>...</td>\n",
              "      <td>...</td>\n",
              "      <td>...</td>\n",
              "      <td>...</td>\n",
              "      <td>...</td>\n",
              "      <td>...</td>\n",
              "      <td>...</td>\n",
              "      <td>...</td>\n",
              "      <td>...</td>\n",
              "      <td>...</td>\n",
              "      <td>...</td>\n",
              "      <td>...</td>\n",
              "      <td>...</td>\n",
              "      <td>...</td>\n",
              "      <td>...</td>\n",
              "      <td>...</td>\n",
              "      <td>...</td>\n",
              "      <td>...</td>\n",
              "      <td>...</td>\n",
              "      <td>...</td>\n",
              "      <td>...</td>\n",
              "      <td>...</td>\n",
              "      <td>...</td>\n",
              "      <td>...</td>\n",
              "      <td>...</td>\n",
              "      <td>...</td>\n",
              "      <td>...</td>\n",
              "      <td>...</td>\n",
              "      <td>...</td>\n",
              "      <td>...</td>\n",
              "      <td>...</td>\n",
              "      <td>...</td>\n",
              "      <td>...</td>\n",
              "      <td>...</td>\n",
              "      <td>...</td>\n",
              "      <td>...</td>\n",
              "      <td>...</td>\n",
              "      <td>...</td>\n",
              "      <td>...</td>\n",
              "      <td>...</td>\n",
              "      <td>...</td>\n",
              "      <td>...</td>\n",
              "      <td>...</td>\n",
              "      <td>...</td>\n",
              "      <td>...</td>\n",
              "      <td>...</td>\n",
              "      <td>...</td>\n",
              "      <td>...</td>\n",
              "      <td>...</td>\n",
              "      <td>...</td>\n",
              "    </tr>\n",
              "    <tr>\n",
              "      <th>Coarseness</th>\n",
              "      <td>-0.401634</td>\n",
              "      <td>-0.586992</td>\n",
              "      <td>-0.401370</td>\n",
              "      <td>-0.546184</td>\n",
              "      <td>0.356708</td>\n",
              "      <td>-0.569919</td>\n",
              "      <td>0.048602</td>\n",
              "      <td>0.813595</td>\n",
              "      <td>-0.614989</td>\n",
              "      <td>0.094676</td>\n",
              "      <td>-0.471734</td>\n",
              "      <td>-0.598815</td>\n",
              "      <td>-0.567029</td>\n",
              "      <td>-0.554227</td>\n",
              "      <td>0.192052</td>\n",
              "      <td>-0.605729</td>\n",
              "      <td>-0.246122</td>\n",
              "      <td>-0.406714</td>\n",
              "      <td>-0.351606</td>\n",
              "      <td>0.669357</td>\n",
              "      <td>0.183179</td>\n",
              "      <td>0.731964</td>\n",
              "      <td>-0.417524</td>\n",
              "      <td>-0.077465</td>\n",
              "      <td>-0.379163</td>\n",
              "      <td>-0.437111</td>\n",
              "      <td>0.787425</td>\n",
              "      <td>0.182358</td>\n",
              "      <td>-0.624801</td>\n",
              "      <td>-0.624801</td>\n",
              "      <td>0.317491</td>\n",
              "      <td>0.119708</td>\n",
              "      <td>-0.324753</td>\n",
              "      <td>-0.661086</td>\n",
              "      <td>-0.326758</td>\n",
              "      <td>0.468498</td>\n",
              "      <td>0.481677</td>\n",
              "      <td>-0.578282</td>\n",
              "      <td>0.319663</td>\n",
              "      <td>-0.667850</td>\n",
              "      <td>...</td>\n",
              "      <td>-0.350082</td>\n",
              "      <td>-0.292163</td>\n",
              "      <td>-0.539925</td>\n",
              "      <td>0.345026</td>\n",
              "      <td>0.148147</td>\n",
              "      <td>0.251303</td>\n",
              "      <td>-0.399211</td>\n",
              "      <td>-0.336092</td>\n",
              "      <td>-0.360524</td>\n",
              "      <td>-0.381037</td>\n",
              "      <td>-0.556410</td>\n",
              "      <td>-0.412333</td>\n",
              "      <td>0.521415</td>\n",
              "      <td>-0.480184</td>\n",
              "      <td>0.512788</td>\n",
              "      <td>0.008499</td>\n",
              "      <td>0.194296</td>\n",
              "      <td>-0.595126</td>\n",
              "      <td>0.552550</td>\n",
              "      <td>-0.201612</td>\n",
              "      <td>-0.272599</td>\n",
              "      <td>-0.029599</td>\n",
              "      <td>0.374723</td>\n",
              "      <td>-0.426885</td>\n",
              "      <td>-0.417651</td>\n",
              "      <td>-0.272696</td>\n",
              "      <td>-0.501061</td>\n",
              "      <td>0.667822</td>\n",
              "      <td>-0.156196</td>\n",
              "      <td>-0.163082</td>\n",
              "      <td>-0.511486</td>\n",
              "      <td>0.366279</td>\n",
              "      <td>0.704958</td>\n",
              "      <td>-0.523589</td>\n",
              "      <td>0.754391</td>\n",
              "      <td>1.000000</td>\n",
              "      <td>-0.166795</td>\n",
              "      <td>0.746738</td>\n",
              "      <td>0.551508</td>\n",
              "      <td>-0.434561</td>\n",
              "    </tr>\n",
              "    <tr>\n",
              "      <th>Complexity</th>\n",
              "      <td>0.277302</td>\n",
              "      <td>0.257297</td>\n",
              "      <td>0.277025</td>\n",
              "      <td>0.229141</td>\n",
              "      <td>-0.182615</td>\n",
              "      <td>0.268450</td>\n",
              "      <td>0.020326</td>\n",
              "      <td>-0.214902</td>\n",
              "      <td>0.256226</td>\n",
              "      <td>-0.019975</td>\n",
              "      <td>0.283738</td>\n",
              "      <td>0.284716</td>\n",
              "      <td>0.259748</td>\n",
              "      <td>0.265833</td>\n",
              "      <td>0.441669</td>\n",
              "      <td>0.213055</td>\n",
              "      <td>0.423394</td>\n",
              "      <td>0.392267</td>\n",
              "      <td>0.103854</td>\n",
              "      <td>0.068935</td>\n",
              "      <td>0.422629</td>\n",
              "      <td>0.058114</td>\n",
              "      <td>-0.198407</td>\n",
              "      <td>0.214767</td>\n",
              "      <td>-0.177538</td>\n",
              "      <td>-0.125140</td>\n",
              "      <td>0.003472</td>\n",
              "      <td>0.275899</td>\n",
              "      <td>0.148703</td>\n",
              "      <td>0.148703</td>\n",
              "      <td>0.322120</td>\n",
              "      <td>-0.410309</td>\n",
              "      <td>-0.276311</td>\n",
              "      <td>0.079483</td>\n",
              "      <td>-0.275068</td>\n",
              "      <td>0.221594</td>\n",
              "      <td>0.217025</td>\n",
              "      <td>-0.125930</td>\n",
              "      <td>0.298911</td>\n",
              "      <td>0.099449</td>\n",
              "      <td>...</td>\n",
              "      <td>-0.267658</td>\n",
              "      <td>-0.198372</td>\n",
              "      <td>-0.116352</td>\n",
              "      <td>0.255976</td>\n",
              "      <td>0.464523</td>\n",
              "      <td>0.267090</td>\n",
              "      <td>-0.228132</td>\n",
              "      <td>-0.195523</td>\n",
              "      <td>0.139835</td>\n",
              "      <td>-0.198482</td>\n",
              "      <td>0.296969</td>\n",
              "      <td>0.359280</td>\n",
              "      <td>0.166626</td>\n",
              "      <td>-0.054576</td>\n",
              "      <td>0.168824</td>\n",
              "      <td>0.228273</td>\n",
              "      <td>0.355694</td>\n",
              "      <td>0.220089</td>\n",
              "      <td>0.151630</td>\n",
              "      <td>0.687837</td>\n",
              "      <td>-0.011797</td>\n",
              "      <td>-0.469854</td>\n",
              "      <td>-0.036549</td>\n",
              "      <td>0.453017</td>\n",
              "      <td>0.274863</td>\n",
              "      <td>-0.011927</td>\n",
              "      <td>0.351102</td>\n",
              "      <td>0.063147</td>\n",
              "      <td>0.152285</td>\n",
              "      <td>-0.074162</td>\n",
              "      <td>0.313890</td>\n",
              "      <td>-0.037902</td>\n",
              "      <td>-0.048116</td>\n",
              "      <td>0.609656</td>\n",
              "      <td>-0.083326</td>\n",
              "      <td>-0.166795</td>\n",
              "      <td>1.000000</td>\n",
              "      <td>-0.074615</td>\n",
              "      <td>0.030764</td>\n",
              "      <td>0.093528</td>\n",
              "    </tr>\n",
              "    <tr>\n",
              "      <th>Strength</th>\n",
              "      <td>-0.510155</td>\n",
              "      <td>-0.642559</td>\n",
              "      <td>-0.509976</td>\n",
              "      <td>-0.607597</td>\n",
              "      <td>0.339595</td>\n",
              "      <td>-0.645544</td>\n",
              "      <td>0.021965</td>\n",
              "      <td>0.758610</td>\n",
              "      <td>-0.670268</td>\n",
              "      <td>0.005149</td>\n",
              "      <td>-0.562243</td>\n",
              "      <td>-0.659201</td>\n",
              "      <td>-0.624228</td>\n",
              "      <td>-0.620794</td>\n",
              "      <td>0.064819</td>\n",
              "      <td>-0.388883</td>\n",
              "      <td>-0.341710</td>\n",
              "      <td>-0.538344</td>\n",
              "      <td>-0.425689</td>\n",
              "      <td>0.458791</td>\n",
              "      <td>0.226763</td>\n",
              "      <td>0.486770</td>\n",
              "      <td>-0.290047</td>\n",
              "      <td>-0.085559</td>\n",
              "      <td>-0.272032</td>\n",
              "      <td>-0.325476</td>\n",
              "      <td>0.564383</td>\n",
              "      <td>0.104481</td>\n",
              "      <td>-0.387344</td>\n",
              "      <td>-0.387344</td>\n",
              "      <td>0.099738</td>\n",
              "      <td>0.184149</td>\n",
              "      <td>-0.141523</td>\n",
              "      <td>-0.432332</td>\n",
              "      <td>-0.139576</td>\n",
              "      <td>0.296993</td>\n",
              "      <td>0.271914</td>\n",
              "      <td>-0.332061</td>\n",
              "      <td>0.195143</td>\n",
              "      <td>-0.422246</td>\n",
              "      <td>...</td>\n",
              "      <td>-0.126145</td>\n",
              "      <td>-0.021895</td>\n",
              "      <td>-0.283099</td>\n",
              "      <td>0.224183</td>\n",
              "      <td>0.030685</td>\n",
              "      <td>0.155122</td>\n",
              "      <td>-0.160531</td>\n",
              "      <td>-0.240018</td>\n",
              "      <td>-0.438144</td>\n",
              "      <td>-0.264077</td>\n",
              "      <td>-0.333647</td>\n",
              "      <td>-0.530074</td>\n",
              "      <td>0.343866</td>\n",
              "      <td>-0.337177</td>\n",
              "      <td>0.347487</td>\n",
              "      <td>-0.027798</td>\n",
              "      <td>-0.014473</td>\n",
              "      <td>-0.372899</td>\n",
              "      <td>0.365016</td>\n",
              "      <td>-0.083608</td>\n",
              "      <td>-0.329544</td>\n",
              "      <td>0.113899</td>\n",
              "      <td>0.390861</td>\n",
              "      <td>-0.567592</td>\n",
              "      <td>-0.552634</td>\n",
              "      <td>-0.329531</td>\n",
              "      <td>-0.225342</td>\n",
              "      <td>0.451164</td>\n",
              "      <td>-0.206294</td>\n",
              "      <td>-0.221538</td>\n",
              "      <td>-0.253885</td>\n",
              "      <td>0.383804</td>\n",
              "      <td>0.556837</td>\n",
              "      <td>-0.544355</td>\n",
              "      <td>0.611316</td>\n",
              "      <td>0.746738</td>\n",
              "      <td>-0.074615</td>\n",
              "      <td>1.000000</td>\n",
              "      <td>0.374697</td>\n",
              "      <td>-0.602417</td>\n",
              "    </tr>\n",
              "    <tr>\n",
              "      <th>Contrast_1</th>\n",
              "      <td>-0.458069</td>\n",
              "      <td>-0.592542</td>\n",
              "      <td>-0.457835</td>\n",
              "      <td>-0.555373</td>\n",
              "      <td>0.380133</td>\n",
              "      <td>-0.588236</td>\n",
              "      <td>0.022289</td>\n",
              "      <td>0.639843</td>\n",
              "      <td>-0.626229</td>\n",
              "      <td>0.065998</td>\n",
              "      <td>-0.515229</td>\n",
              "      <td>-0.623406</td>\n",
              "      <td>-0.576338</td>\n",
              "      <td>-0.557039</td>\n",
              "      <td>0.699380</td>\n",
              "      <td>-0.654218</td>\n",
              "      <td>0.165224</td>\n",
              "      <td>-0.399133</td>\n",
              "      <td>-0.462206</td>\n",
              "      <td>0.847990</td>\n",
              "      <td>0.404501</td>\n",
              "      <td>0.807251</td>\n",
              "      <td>-0.503620</td>\n",
              "      <td>0.040094</td>\n",
              "      <td>-0.336053</td>\n",
              "      <td>-0.507856</td>\n",
              "      <td>0.811825</td>\n",
              "      <td>0.372830</td>\n",
              "      <td>-0.678354</td>\n",
              "      <td>-0.678354</td>\n",
              "      <td>0.674231</td>\n",
              "      <td>-0.184830</td>\n",
              "      <td>-0.427215</td>\n",
              "      <td>-0.958897</td>\n",
              "      <td>-0.507007</td>\n",
              "      <td>0.941239</td>\n",
              "      <td>0.822280</td>\n",
              "      <td>-0.836388</td>\n",
              "      <td>0.858476</td>\n",
              "      <td>-0.916872</td>\n",
              "      <td>...</td>\n",
              "      <td>-0.777488</td>\n",
              "      <td>-0.592929</td>\n",
              "      <td>-0.882098</td>\n",
              "      <td>0.561351</td>\n",
              "      <td>0.652744</td>\n",
              "      <td>0.457706</td>\n",
              "      <td>-0.693751</td>\n",
              "      <td>-0.404211</td>\n",
              "      <td>-0.473433</td>\n",
              "      <td>-0.477352</td>\n",
              "      <td>-0.601669</td>\n",
              "      <td>-0.442302</td>\n",
              "      <td>0.679507</td>\n",
              "      <td>-0.566054</td>\n",
              "      <td>0.635554</td>\n",
              "      <td>0.154862</td>\n",
              "      <td>0.617903</td>\n",
              "      <td>-0.665488</td>\n",
              "      <td>0.705727</td>\n",
              "      <td>0.010631</td>\n",
              "      <td>-0.390378</td>\n",
              "      <td>-0.398000</td>\n",
              "      <td>0.502327</td>\n",
              "      <td>-0.354174</td>\n",
              "      <td>-0.437122</td>\n",
              "      <td>-0.390572</td>\n",
              "      <td>-0.610009</td>\n",
              "      <td>0.852276</td>\n",
              "      <td>-0.135793</td>\n",
              "      <td>-0.242269</td>\n",
              "      <td>-0.640887</td>\n",
              "      <td>0.494642</td>\n",
              "      <td>0.794082</td>\n",
              "      <td>-0.291511</td>\n",
              "      <td>0.759051</td>\n",
              "      <td>0.551508</td>\n",
              "      <td>0.030764</td>\n",
              "      <td>0.374697</td>\n",
              "      <td>1.000000</td>\n",
              "      <td>-0.418697</td>\n",
              "    </tr>\n",
              "    <tr>\n",
              "      <th>Busyness</th>\n",
              "      <td>0.937894</td>\n",
              "      <td>0.810919</td>\n",
              "      <td>0.937881</td>\n",
              "      <td>0.773599</td>\n",
              "      <td>-0.339451</td>\n",
              "      <td>0.870370</td>\n",
              "      <td>0.010892</td>\n",
              "      <td>-0.682675</td>\n",
              "      <td>0.843581</td>\n",
              "      <td>0.059322</td>\n",
              "      <td>0.913619</td>\n",
              "      <td>0.867644</td>\n",
              "      <td>0.805965</td>\n",
              "      <td>0.828142</td>\n",
              "      <td>-0.176933</td>\n",
              "      <td>0.469093</td>\n",
              "      <td>-0.023465</td>\n",
              "      <td>0.890974</td>\n",
              "      <td>0.884836</td>\n",
              "      <td>-0.556691</td>\n",
              "      <td>-0.356571</td>\n",
              "      <td>-0.485873</td>\n",
              "      <td>0.386115</td>\n",
              "      <td>0.155181</td>\n",
              "      <td>0.253053</td>\n",
              "      <td>0.425932</td>\n",
              "      <td>-0.366938</td>\n",
              "      <td>-0.011316</td>\n",
              "      <td>0.441339</td>\n",
              "      <td>0.441339</td>\n",
              "      <td>-0.364459</td>\n",
              "      <td>-0.187027</td>\n",
              "      <td>0.262478</td>\n",
              "      <td>0.474823</td>\n",
              "      <td>0.313668</td>\n",
              "      <td>-0.411803</td>\n",
              "      <td>-0.469366</td>\n",
              "      <td>0.490211</td>\n",
              "      <td>-0.354087</td>\n",
              "      <td>0.516006</td>\n",
              "      <td>...</td>\n",
              "      <td>0.294360</td>\n",
              "      <td>0.307158</td>\n",
              "      <td>0.382443</td>\n",
              "      <td>-0.108961</td>\n",
              "      <td>-0.147768</td>\n",
              "      <td>-0.048395</td>\n",
              "      <td>0.428333</td>\n",
              "      <td>0.320272</td>\n",
              "      <td>0.897903</td>\n",
              "      <td>0.365808</td>\n",
              "      <td>0.400702</td>\n",
              "      <td>0.915079</td>\n",
              "      <td>-0.486168</td>\n",
              "      <td>0.448260</td>\n",
              "      <td>-0.462777</td>\n",
              "      <td>0.126498</td>\n",
              "      <td>-0.276150</td>\n",
              "      <td>0.466663</td>\n",
              "      <td>-0.497241</td>\n",
              "      <td>0.130804</td>\n",
              "      <td>0.770513</td>\n",
              "      <td>0.135920</td>\n",
              "      <td>-0.372307</td>\n",
              "      <td>0.858147</td>\n",
              "      <td>0.912460</td>\n",
              "      <td>0.770458</td>\n",
              "      <td>0.381146</td>\n",
              "      <td>-0.557089</td>\n",
              "      <td>0.516059</td>\n",
              "      <td>0.592938</td>\n",
              "      <td>0.403923</td>\n",
              "      <td>-0.370737</td>\n",
              "      <td>-0.363137</td>\n",
              "      <td>0.403091</td>\n",
              "      <td>-0.382465</td>\n",
              "      <td>-0.434561</td>\n",
              "      <td>0.093528</td>\n",
              "      <td>-0.602417</td>\n",
              "      <td>-0.418697</td>\n",
              "      <td>1.000000</td>\n",
              "    </tr>\n",
              "  </tbody>\n",
              "</table>\n",
              "<p>107 rows × 107 columns</p>\n",
              "</div>"
            ],
            "text/plain": [
              "                   VoxelVolume  Maximum3DDiameter  ...  Contrast_1  Busyness\n",
              "VoxelVolume           1.000000           0.821982  ...   -0.458069  0.937894\n",
              "Maximum3DDiameter     0.821982           1.000000  ...   -0.592542  0.810919\n",
              "MeshVolume            0.999999           0.821800  ...   -0.457835  0.937881\n",
              "MajorAxisLength       0.785606           0.964760  ...   -0.555373  0.773599\n",
              "Sphericity           -0.329751          -0.678628  ...    0.380133 -0.339451\n",
              "...                        ...                ...  ...         ...       ...\n",
              "Coarseness           -0.401634          -0.586992  ...    0.551508 -0.434561\n",
              "Complexity            0.277302           0.257297  ...    0.030764  0.093528\n",
              "Strength             -0.510155          -0.642559  ...    0.374697 -0.602417\n",
              "Contrast_1           -0.458069          -0.592542  ...    1.000000 -0.418697\n",
              "Busyness              0.937894           0.810919  ...   -0.418697  1.000000\n",
              "\n",
              "[107 rows x 107 columns]"
            ]
          },
          "metadata": {
            "tags": []
          },
          "execution_count": 28
        }
      ]
    },
    {
      "cell_type": "code",
      "metadata": {
        "id": "xEiQQruxBgd0",
        "colab_type": "code",
        "outputId": "9fbfe34b-b048-404d-819c-d9f7bdfa5b40",
        "colab": {
          "base_uri": "https://localhost:8080/",
          "height": 0
        }
      },
      "source": [
        "#Using Pearson Correlation\n",
        "plt.figure(figsize=(12,10))\n",
        "cor = train_data_stand.corr()\n",
        "sns.heatmap(cor, cmap=plt.cm.Reds)\n",
        "plt.show()"
      ],
      "execution_count": 29,
      "outputs": [
        {
          "output_type": "display_data",
          "data": {
            "image/png": "[encoded data removed]",
            "text/plain": [
              "<Figure size 864x720 with 2 Axes>"
            ]
          },
          "metadata": {
            "tags": []
          }
        }
      ]
    },
    {
      "cell_type": "code",
      "metadata": {
        "id": "QIxSg1_x4cRj",
        "colab_type": "code",
        "colab": {}
      },
      "source": [
        "test_data = df_test.drop(['Histology', 'Surv_time_months', 'OS', 'Deadstatus_event','Overall_Stage'], axis=1)"
      ],
      "execution_count": 0,
      "outputs": []
    },
    {
      "cell_type": "code",
      "metadata": {
        "id": "J042-QJMKX-T",
        "colab_type": "code",
        "colab": {}
      },
      "source": [
        "mean = test_data.mean(axis=0)\n",
        "test_data_stand = test_data - mean\n",
        "std = test_data.std(axis=0)\n",
        "test_data_stand /= std"
      ],
      "execution_count": 0,
      "outputs": []
    },
    {
      "cell_type": "code",
      "metadata": {
        "id": "-dv6V_GtOplE",
        "colab_type": "code",
        "outputId": "2762a1bc-09ff-4e88-c4ca-187c781e0fe7",
        "colab": {
          "base_uri": "https://localhost:8080/",
          "height": 0
        }
      },
      "source": [
        "test_data_stand.corr()"
      ],
      "execution_count": 32,
      "outputs": [
        {
          "output_type": "execute_result",
          "data": {
            "text/html": [
              "<div>\n",
              "<style scoped>\n",
              "    .dataframe tbody tr th:only-of-type {\n",
              "        vertical-align: middle;\n",
              "    }\n",
              "\n",
              "    .dataframe tbody tr th {\n",
              "        vertical-align: top;\n",
              "    }\n",
              "\n",
              "    .dataframe thead th {\n",
              "        text-align: right;\n",
              "    }\n",
              "</style>\n",
              "<table border=\"1\" class=\"dataframe\">\n",
              "  <thead>\n",
              "    <tr style=\"text-align: right;\">\n",
              "      <th></th>\n",
              "      <th>VoxelVolume</th>\n",
              "      <th>Maximum3DDiameter</th>\n",
              "      <th>MeshVolume</th>\n",
              "      <th>MajorAxisLength</th>\n",
              "      <th>Sphericity</th>\n",
              "      <th>LeastAxisLength</th>\n",
              "      <th>Elongation</th>\n",
              "      <th>SurfaceVolumeRatio</th>\n",
              "      <th>Maximum2DDiameterSlice</th>\n",
              "      <th>Flatness</th>\n",
              "      <th>SurfaceArea</th>\n",
              "      <th>MinorAxisLength</th>\n",
              "      <th>Maximum2DDiameterColumn</th>\n",
              "      <th>Maximum2DDiameterRow</th>\n",
              "      <th>GrayLevelVariance</th>\n",
              "      <th>HighGrayLevelEmphasis</th>\n",
              "      <th>DependenceEntropy</th>\n",
              "      <th>DependenceNonUniformity</th>\n",
              "      <th>GrayLevelNonUniformity</th>\n",
              "      <th>SmallDependenceEmphasis</th>\n",
              "      <th>SmallDependenceHighGrayLevelEmphasis</th>\n",
              "      <th>DependenceNonUniformityNormalized</th>\n",
              "      <th>LargeDependenceEmphasis</th>\n",
              "      <th>LargeDependenceLowGrayLevelEmphasis</th>\n",
              "      <th>DependenceVariance</th>\n",
              "      <th>LargeDependenceHighGrayLevelEmphasis</th>\n",
              "      <th>SmallDependenceLowGrayLevelEmphasis</th>\n",
              "      <th>LowGrayLevelEmphasis</th>\n",
              "      <th>JointAverage</th>\n",
              "      <th>SumAverage</th>\n",
              "      <th>JointEntropy</th>\n",
              "      <th>ClusterShade</th>\n",
              "      <th>MaximumProbability</th>\n",
              "      <th>Idmn</th>\n",
              "      <th>JointEnergy</th>\n",
              "      <th>Contrast</th>\n",
              "      <th>DifferenceEntropy</th>\n",
              "      <th>InverseVariance</th>\n",
              "      <th>DifferenceVariance</th>\n",
              "      <th>Idn</th>\n",
              "      <th>...</th>\n",
              "      <th>10Percentile</th>\n",
              "      <th>Kurtosis</th>\n",
              "      <th>Mean</th>\n",
              "      <th>ShortRunLowGrayLevelEmphasis</th>\n",
              "      <th>GrayLevelVariance.1</th>\n",
              "      <th>LowGrayLevelRunEmphasis</th>\n",
              "      <th>GrayLevelNonUniformityNormalized</th>\n",
              "      <th>RunVariance</th>\n",
              "      <th>GrayLevelNonUniformity.1</th>\n",
              "      <th>LongRunEmphasis</th>\n",
              "      <th>ShortRunHighGrayLevelEmphasis</th>\n",
              "      <th>RunLengthNonUniformity</th>\n",
              "      <th>ShortRunEmphasis</th>\n",
              "      <th>LongRunHighGrayLevelEmphasis</th>\n",
              "      <th>RunPercentage</th>\n",
              "      <th>LongRunLowGrayLevelEmphasis</th>\n",
              "      <th>RunEntropy</th>\n",
              "      <th>HighGrayLevelRunEmphasis</th>\n",
              "      <th>RunLengthNonUniformityNormalized</th>\n",
              "      <th>GrayLevelVariance.2</th>\n",
              "      <th>ZoneVariance</th>\n",
              "      <th>GrayLevelNonUniformityNormalized_1</th>\n",
              "      <th>SizeZoneNonUniformityNormalized</th>\n",
              "      <th>SizeZoneNonUniformity</th>\n",
              "      <th>GrayLevelNonUniformity.2</th>\n",
              "      <th>LargeAreaEmphasis</th>\n",
              "      <th>SmallAreaHighGrayLevelEmphasis</th>\n",
              "      <th>ZonePercentage</th>\n",
              "      <th>LargeAreaLowGrayLevelEmphasis</th>\n",
              "      <th>LargeAreaHighGrayLevelEmphasis</th>\n",
              "      <th>HighGrayLevelZoneEmphasis</th>\n",
              "      <th>SmallAreaEmphasis</th>\n",
              "      <th>LowGrayLevelZoneEmphasis</th>\n",
              "      <th>ZoneEntropy</th>\n",
              "      <th>SmallAreaLowGrayLevelEmphasis</th>\n",
              "      <th>Coarseness</th>\n",
              "      <th>Complexity</th>\n",
              "      <th>Strength</th>\n",
              "      <th>Contrast_1</th>\n",
              "      <th>Busyness</th>\n",
              "    </tr>\n",
              "  </thead>\n",
              "  <tbody>\n",
              "    <tr>\n",
              "      <th>VoxelVolume</th>\n",
              "      <td>1.000000</td>\n",
              "      <td>0.832150</td>\n",
              "      <td>0.999999</td>\n",
              "      <td>0.772790</td>\n",
              "      <td>-0.026973</td>\n",
              "      <td>0.898585</td>\n",
              "      <td>-0.026232</td>\n",
              "      <td>-0.674293</td>\n",
              "      <td>0.847133</td>\n",
              "      <td>-0.011949</td>\n",
              "      <td>0.956395</td>\n",
              "      <td>0.904609</td>\n",
              "      <td>0.859533</td>\n",
              "      <td>0.845367</td>\n",
              "      <td>0.039323</td>\n",
              "      <td>0.445351</td>\n",
              "      <td>0.471074</td>\n",
              "      <td>0.917174</td>\n",
              "      <td>0.922014</td>\n",
              "      <td>-0.458634</td>\n",
              "      <td>-0.166511</td>\n",
              "      <td>-0.421095</td>\n",
              "      <td>0.444538</td>\n",
              "      <td>0.115145</td>\n",
              "      <td>0.420305</td>\n",
              "      <td>0.596791</td>\n",
              "      <td>-0.387049</td>\n",
              "      <td>-0.360264</td>\n",
              "      <td>0.402535</td>\n",
              "      <td>0.402535</td>\n",
              "      <td>-0.133123</td>\n",
              "      <td>-0.321224</td>\n",
              "      <td>0.259981</td>\n",
              "      <td>0.535395</td>\n",
              "      <td>0.191754</td>\n",
              "      <td>-0.253645</td>\n",
              "      <td>-0.310411</td>\n",
              "      <td>0.354390</td>\n",
              "      <td>-0.183318</td>\n",
              "      <td>0.566465</td>\n",
              "      <td>...</td>\n",
              "      <td>0.099790</td>\n",
              "      <td>0.177698</td>\n",
              "      <td>0.230512</td>\n",
              "      <td>-0.373381</td>\n",
              "      <td>0.116613</td>\n",
              "      <td>-0.367876</td>\n",
              "      <td>0.132198</td>\n",
              "      <td>0.488962</td>\n",
              "      <td>0.932558</td>\n",
              "      <td>0.461190</td>\n",
              "      <td>0.333150</td>\n",
              "      <td>0.974114</td>\n",
              "      <td>-0.406913</td>\n",
              "      <td>0.618176</td>\n",
              "      <td>-0.449488</td>\n",
              "      <td>-0.247236</td>\n",
              "      <td>0.273796</td>\n",
              "      <td>0.438972</td>\n",
              "      <td>-0.415452</td>\n",
              "      <td>0.398528</td>\n",
              "      <td>0.806805</td>\n",
              "      <td>-0.240787</td>\n",
              "      <td>-0.398823</td>\n",
              "      <td>0.836695</td>\n",
              "      <td>0.938663</td>\n",
              "      <td>0.806159</td>\n",
              "      <td>0.329359</td>\n",
              "      <td>-0.449761</td>\n",
              "      <td>0.660406</td>\n",
              "      <td>0.842977</td>\n",
              "      <td>0.393077</td>\n",
              "      <td>-0.391531</td>\n",
              "      <td>-0.389582</td>\n",
              "      <td>0.690677</td>\n",
              "      <td>-0.394299</td>\n",
              "      <td>-0.297500</td>\n",
              "      <td>0.449391</td>\n",
              "      <td>-0.331087</td>\n",
              "      <td>-0.372888</td>\n",
              "      <td>0.742542</td>\n",
              "    </tr>\n",
              "    <tr>\n",
              "      <th>Maximum3DDiameter</th>\n",
              "      <td>0.832150</td>\n",
              "      <td>1.000000</td>\n",
              "      <td>0.831531</td>\n",
              "      <td>0.977372</td>\n",
              "      <td>-0.473582</td>\n",
              "      <td>0.815658</td>\n",
              "      <td>-0.385520</td>\n",
              "      <td>-0.743839</td>\n",
              "      <td>0.920597</td>\n",
              "      <td>-0.410287</td>\n",
              "      <td>0.944157</td>\n",
              "      <td>0.916222</td>\n",
              "      <td>0.960730</td>\n",
              "      <td>0.954900</td>\n",
              "      <td>0.112700</td>\n",
              "      <td>0.513659</td>\n",
              "      <td>0.584957</td>\n",
              "      <td>0.843548</td>\n",
              "      <td>0.757146</td>\n",
              "      <td>-0.419874</td>\n",
              "      <td>-0.047244</td>\n",
              "      <td>-0.425442</td>\n",
              "      <td>0.475724</td>\n",
              "      <td>0.115045</td>\n",
              "      <td>0.512594</td>\n",
              "      <td>0.650602</td>\n",
              "      <td>-0.548812</td>\n",
              "      <td>-0.493851</td>\n",
              "      <td>0.480752</td>\n",
              "      <td>0.480752</td>\n",
              "      <td>-0.059112</td>\n",
              "      <td>-0.314523</td>\n",
              "      <td>0.318873</td>\n",
              "      <td>0.553464</td>\n",
              "      <td>0.215309</td>\n",
              "      <td>-0.175027</td>\n",
              "      <td>-0.254135</td>\n",
              "      <td>0.259224</td>\n",
              "      <td>-0.097237</td>\n",
              "      <td>0.566609</td>\n",
              "      <td>...</td>\n",
              "      <td>0.040821</td>\n",
              "      <td>0.189589</td>\n",
              "      <td>0.154486</td>\n",
              "      <td>-0.512180</td>\n",
              "      <td>0.183673</td>\n",
              "      <td>-0.506017</td>\n",
              "      <td>0.111051</td>\n",
              "      <td>0.506861</td>\n",
              "      <td>0.755496</td>\n",
              "      <td>0.472046</td>\n",
              "      <td>0.402294</td>\n",
              "      <td>0.826855</td>\n",
              "      <td>-0.396298</td>\n",
              "      <td>0.654078</td>\n",
              "      <td>-0.461056</td>\n",
              "      <td>-0.366550</td>\n",
              "      <td>0.356771</td>\n",
              "      <td>0.501048</td>\n",
              "      <td>-0.405869</td>\n",
              "      <td>0.406905</td>\n",
              "      <td>0.634012</td>\n",
              "      <td>-0.270826</td>\n",
              "      <td>-0.300028</td>\n",
              "      <td>0.835065</td>\n",
              "      <td>0.895683</td>\n",
              "      <td>0.633555</td>\n",
              "      <td>0.428969</td>\n",
              "      <td>-0.413642</td>\n",
              "      <td>0.497271</td>\n",
              "      <td>0.683364</td>\n",
              "      <td>0.471586</td>\n",
              "      <td>-0.287506</td>\n",
              "      <td>-0.567967</td>\n",
              "      <td>0.727569</td>\n",
              "      <td>-0.568026</td>\n",
              "      <td>-0.481513</td>\n",
              "      <td>0.459052</td>\n",
              "      <td>-0.521819</td>\n",
              "      <td>-0.362208</td>\n",
              "      <td>0.709268</td>\n",
              "    </tr>\n",
              "    <tr>\n",
              "      <th>MeshVolume</th>\n",
              "      <td>0.999999</td>\n",
              "      <td>0.831531</td>\n",
              "      <td>1.000000</td>\n",
              "      <td>0.772134</td>\n",
              "      <td>-0.026067</td>\n",
              "      <td>0.898391</td>\n",
              "      <td>-0.025678</td>\n",
              "      <td>-0.673887</td>\n",
              "      <td>0.846637</td>\n",
              "      <td>-0.011262</td>\n",
              "      <td>0.956053</td>\n",
              "      <td>0.904203</td>\n",
              "      <td>0.859002</td>\n",
              "      <td>0.844819</td>\n",
              "      <td>0.039263</td>\n",
              "      <td>0.445074</td>\n",
              "      <td>0.470747</td>\n",
              "      <td>0.917052</td>\n",
              "      <td>0.922022</td>\n",
              "      <td>-0.458506</td>\n",
              "      <td>-0.166630</td>\n",
              "      <td>-0.420891</td>\n",
              "      <td>0.444245</td>\n",
              "      <td>0.115074</td>\n",
              "      <td>0.419872</td>\n",
              "      <td>0.596428</td>\n",
              "      <td>-0.386599</td>\n",
              "      <td>-0.359863</td>\n",
              "      <td>0.402237</td>\n",
              "      <td>0.402237</td>\n",
              "      <td>-0.133123</td>\n",
              "      <td>-0.321164</td>\n",
              "      <td>0.259689</td>\n",
              "      <td>0.535136</td>\n",
              "      <td>0.191577</td>\n",
              "      <td>-0.253640</td>\n",
              "      <td>-0.310354</td>\n",
              "      <td>0.354427</td>\n",
              "      <td>-0.183370</td>\n",
              "      <td>0.566221</td>\n",
              "      <td>...</td>\n",
              "      <td>0.099814</td>\n",
              "      <td>0.177587</td>\n",
              "      <td>0.230516</td>\n",
              "      <td>-0.372972</td>\n",
              "      <td>0.116535</td>\n",
              "      <td>-0.367469</td>\n",
              "      <td>0.132160</td>\n",
              "      <td>0.488688</td>\n",
              "      <td>0.932585</td>\n",
              "      <td>0.460943</td>\n",
              "      <td>0.332933</td>\n",
              "      <td>0.974109</td>\n",
              "      <td>-0.406737</td>\n",
              "      <td>0.617859</td>\n",
              "      <td>-0.449241</td>\n",
              "      <td>-0.246923</td>\n",
              "      <td>0.273586</td>\n",
              "      <td>0.438715</td>\n",
              "      <td>-0.415271</td>\n",
              "      <td>0.398483</td>\n",
              "      <td>0.806859</td>\n",
              "      <td>-0.240701</td>\n",
              "      <td>-0.398824</td>\n",
              "      <td>0.836438</td>\n",
              "      <td>0.938411</td>\n",
              "      <td>0.806212</td>\n",
              "      <td>0.329089</td>\n",
              "      <td>-0.449638</td>\n",
              "      <td>0.660461</td>\n",
              "      <td>0.843027</td>\n",
              "      <td>0.392815</td>\n",
              "      <td>-0.391547</td>\n",
              "      <td>-0.389099</td>\n",
              "      <td>0.690421</td>\n",
              "      <td>-0.393813</td>\n",
              "      <td>-0.297088</td>\n",
              "      <td>0.449292</td>\n",
              "      <td>-0.330649</td>\n",
              "      <td>-0.372723</td>\n",
              "      <td>0.742281</td>\n",
              "    </tr>\n",
              "    <tr>\n",
              "      <th>MajorAxisLength</th>\n",
              "      <td>0.772790</td>\n",
              "      <td>0.977372</td>\n",
              "      <td>0.772134</td>\n",
              "      <td>1.000000</td>\n",
              "      <td>-0.503214</td>\n",
              "      <td>0.757266</td>\n",
              "      <td>-0.515706</td>\n",
              "      <td>-0.709578</td>\n",
              "      <td>0.858436</td>\n",
              "      <td>-0.501761</td>\n",
              "      <td>0.894127</td>\n",
              "      <td>0.849731</td>\n",
              "      <td>0.938066</td>\n",
              "      <td>0.933928</td>\n",
              "      <td>0.162216</td>\n",
              "      <td>0.506728</td>\n",
              "      <td>0.606878</td>\n",
              "      <td>0.822145</td>\n",
              "      <td>0.676247</td>\n",
              "      <td>-0.356986</td>\n",
              "      <td>0.008768</td>\n",
              "      <td>-0.368088</td>\n",
              "      <td>0.412783</td>\n",
              "      <td>0.066961</td>\n",
              "      <td>0.453724</td>\n",
              "      <td>0.605244</td>\n",
              "      <td>-0.527844</td>\n",
              "      <td>-0.464910</td>\n",
              "      <td>0.474942</td>\n",
              "      <td>0.474942</td>\n",
              "      <td>0.006940</td>\n",
              "      <td>-0.316147</td>\n",
              "      <td>0.257239</td>\n",
              "      <td>0.516380</td>\n",
              "      <td>0.158081</td>\n",
              "      <td>-0.115110</td>\n",
              "      <td>-0.188426</td>\n",
              "      <td>0.198156</td>\n",
              "      <td>-0.043498</td>\n",
              "      <td>0.517543</td>\n",
              "      <td>...</td>\n",
              "      <td>-0.012564</td>\n",
              "      <td>0.151977</td>\n",
              "      <td>0.093958</td>\n",
              "      <td>-0.486209</td>\n",
              "      <td>0.227571</td>\n",
              "      <td>-0.481276</td>\n",
              "      <td>0.064841</td>\n",
              "      <td>0.438991</td>\n",
              "      <td>0.680257</td>\n",
              "      <td>0.406996</td>\n",
              "      <td>0.410692</td>\n",
              "      <td>0.786991</td>\n",
              "      <td>-0.337877</td>\n",
              "      <td>0.608838</td>\n",
              "      <td>-0.397980</td>\n",
              "      <td>-0.369104</td>\n",
              "      <td>0.389999</td>\n",
              "      <td>0.495330</td>\n",
              "      <td>-0.346760</td>\n",
              "      <td>0.427489</td>\n",
              "      <td>0.551859</td>\n",
              "      <td>-0.301812</td>\n",
              "      <td>-0.260391</td>\n",
              "      <td>0.819484</td>\n",
              "      <td>0.862919</td>\n",
              "      <td>0.551432</td>\n",
              "      <td>0.437384</td>\n",
              "      <td>-0.351421</td>\n",
              "      <td>0.426701</td>\n",
              "      <td>0.597776</td>\n",
              "      <td>0.473258</td>\n",
              "      <td>-0.248298</td>\n",
              "      <td>-0.565884</td>\n",
              "      <td>0.723984</td>\n",
              "      <td>-0.568608</td>\n",
              "      <td>-0.474396</td>\n",
              "      <td>0.478276</td>\n",
              "      <td>-0.514503</td>\n",
              "      <td>-0.318191</td>\n",
              "      <td>0.659369</td>\n",
              "    </tr>\n",
              "    <tr>\n",
              "      <th>Sphericity</th>\n",
              "      <td>-0.026973</td>\n",
              "      <td>-0.473582</td>\n",
              "      <td>-0.026067</td>\n",
              "      <td>-0.503214</td>\n",
              "      <td>1.000000</td>\n",
              "      <td>0.001126</td>\n",
              "      <td>0.571150</td>\n",
              "      <td>0.061198</td>\n",
              "      <td>-0.315315</td>\n",
              "      <td>0.801252</td>\n",
              "      <td>-0.244938</td>\n",
              "      <td>-0.255345</td>\n",
              "      <td>-0.395379</td>\n",
              "      <td>-0.375698</td>\n",
              "      <td>-0.041644</td>\n",
              "      <td>-0.076571</td>\n",
              "      <td>-0.166408</td>\n",
              "      <td>-0.144834</td>\n",
              "      <td>-0.037022</td>\n",
              "      <td>0.009221</td>\n",
              "      <td>-0.096468</td>\n",
              "      <td>0.021318</td>\n",
              "      <td>-0.077766</td>\n",
              "      <td>0.032397</td>\n",
              "      <td>-0.102955</td>\n",
              "      <td>-0.112925</td>\n",
              "      <td>0.265521</td>\n",
              "      <td>0.242983</td>\n",
              "      <td>-0.082032</td>\n",
              "      <td>-0.082032</td>\n",
              "      <td>-0.073518</td>\n",
              "      <td>-0.063340</td>\n",
              "      <td>-0.125819</td>\n",
              "      <td>-0.126112</td>\n",
              "      <td>-0.077472</td>\n",
              "      <td>-0.056325</td>\n",
              "      <td>0.004814</td>\n",
              "      <td>0.069104</td>\n",
              "      <td>-0.023957</td>\n",
              "      <td>-0.097827</td>\n",
              "      <td>...</td>\n",
              "      <td>0.025658</td>\n",
              "      <td>-0.109927</td>\n",
              "      <td>0.081042</td>\n",
              "      <td>0.261057</td>\n",
              "      <td>-0.045296</td>\n",
              "      <td>0.261675</td>\n",
              "      <td>-0.053249</td>\n",
              "      <td>-0.060116</td>\n",
              "      <td>-0.028766</td>\n",
              "      <td>-0.057069</td>\n",
              "      <td>-0.068220</td>\n",
              "      <td>-0.056909</td>\n",
              "      <td>0.035891</td>\n",
              "      <td>-0.089707</td>\n",
              "      <td>0.056947</td>\n",
              "      <td>0.240849</td>\n",
              "      <td>-0.079846</td>\n",
              "      <td>-0.074077</td>\n",
              "      <td>0.027439</td>\n",
              "      <td>-0.072488</td>\n",
              "      <td>-0.008792</td>\n",
              "      <td>0.056244</td>\n",
              "      <td>-0.071933</td>\n",
              "      <td>-0.225347</td>\n",
              "      <td>-0.182402</td>\n",
              "      <td>-0.008876</td>\n",
              "      <td>-0.132795</td>\n",
              "      <td>0.010336</td>\n",
              "      <td>0.001402</td>\n",
              "      <td>-0.017388</td>\n",
              "      <td>-0.106123</td>\n",
              "      <td>-0.083442</td>\n",
              "      <td>0.304647</td>\n",
              "      <td>-0.152195</td>\n",
              "      <td>0.288582</td>\n",
              "      <td>0.274124</td>\n",
              "      <td>-0.162620</td>\n",
              "      <td>0.311507</td>\n",
              "      <td>0.107007</td>\n",
              "      <td>-0.142877</td>\n",
              "    </tr>\n",
              "    <tr>\n",
              "      <th>...</th>\n",
              "      <td>...</td>\n",
              "      <td>...</td>\n",
              "      <td>...</td>\n",
              "      <td>...</td>\n",
              "      <td>...</td>\n",
              "      <td>...</td>\n",
              "      <td>...</td>\n",
              "      <td>...</td>\n",
              "      <td>...</td>\n",
              "      <td>...</td>\n",
              "      <td>...</td>\n",
              "      <td>...</td>\n",
              "      <td>...</td>\n",
              "      <td>...</td>\n",
              "      <td>...</td>\n",
              "      <td>...</td>\n",
              "      <td>...</td>\n",
              "      <td>...</td>\n",
              "      <td>...</td>\n",
              "      <td>...</td>\n",
              "      <td>...</td>\n",
              "      <td>...</td>\n",
              "      <td>...</td>\n",
              "      <td>...</td>\n",
              "      <td>...</td>\n",
              "      <td>...</td>\n",
              "      <td>...</td>\n",
              "      <td>...</td>\n",
              "      <td>...</td>\n",
              "      <td>...</td>\n",
              "      <td>...</td>\n",
              "      <td>...</td>\n",
              "      <td>...</td>\n",
              "      <td>...</td>\n",
              "      <td>...</td>\n",
              "      <td>...</td>\n",
              "      <td>...</td>\n",
              "      <td>...</td>\n",
              "      <td>...</td>\n",
              "      <td>...</td>\n",
              "      <td>...</td>\n",
              "      <td>...</td>\n",
              "      <td>...</td>\n",
              "      <td>...</td>\n",
              "      <td>...</td>\n",
              "      <td>...</td>\n",
              "      <td>...</td>\n",
              "      <td>...</td>\n",
              "      <td>...</td>\n",
              "      <td>...</td>\n",
              "      <td>...</td>\n",
              "      <td>...</td>\n",
              "      <td>...</td>\n",
              "      <td>...</td>\n",
              "      <td>...</td>\n",
              "      <td>...</td>\n",
              "      <td>...</td>\n",
              "      <td>...</td>\n",
              "      <td>...</td>\n",
              "      <td>...</td>\n",
              "      <td>...</td>\n",
              "      <td>...</td>\n",
              "      <td>...</td>\n",
              "      <td>...</td>\n",
              "      <td>...</td>\n",
              "      <td>...</td>\n",
              "      <td>...</td>\n",
              "      <td>...</td>\n",
              "      <td>...</td>\n",
              "      <td>...</td>\n",
              "      <td>...</td>\n",
              "      <td>...</td>\n",
              "      <td>...</td>\n",
              "      <td>...</td>\n",
              "      <td>...</td>\n",
              "      <td>...</td>\n",
              "      <td>...</td>\n",
              "      <td>...</td>\n",
              "      <td>...</td>\n",
              "      <td>...</td>\n",
              "      <td>...</td>\n",
              "    </tr>\n",
              "    <tr>\n",
              "      <th>Coarseness</th>\n",
              "      <td>-0.297500</td>\n",
              "      <td>-0.481513</td>\n",
              "      <td>-0.297088</td>\n",
              "      <td>-0.474396</td>\n",
              "      <td>0.274124</td>\n",
              "      <td>-0.470434</td>\n",
              "      <td>0.105915</td>\n",
              "      <td>0.765662</td>\n",
              "      <td>-0.494754</td>\n",
              "      <td>0.144905</td>\n",
              "      <td>-0.394511</td>\n",
              "      <td>-0.498123</td>\n",
              "      <td>-0.486747</td>\n",
              "      <td>-0.495607</td>\n",
              "      <td>0.083852</td>\n",
              "      <td>-0.372857</td>\n",
              "      <td>-0.508226</td>\n",
              "      <td>-0.330700</td>\n",
              "      <td>-0.277346</td>\n",
              "      <td>0.511632</td>\n",
              "      <td>0.098195</td>\n",
              "      <td>0.644323</td>\n",
              "      <td>-0.452371</td>\n",
              "      <td>-0.218829</td>\n",
              "      <td>-0.514353</td>\n",
              "      <td>-0.438977</td>\n",
              "      <td>0.881743</td>\n",
              "      <td>0.850577</td>\n",
              "      <td>-0.383334</td>\n",
              "      <td>-0.383334</td>\n",
              "      <td>0.113803</td>\n",
              "      <td>0.094859</td>\n",
              "      <td>-0.357313</td>\n",
              "      <td>-0.572828</td>\n",
              "      <td>-0.285829</td>\n",
              "      <td>0.256329</td>\n",
              "      <td>0.291689</td>\n",
              "      <td>-0.426245</td>\n",
              "      <td>0.135594</td>\n",
              "      <td>-0.560045</td>\n",
              "      <td>...</td>\n",
              "      <td>-0.257123</td>\n",
              "      <td>-0.261123</td>\n",
              "      <td>-0.358291</td>\n",
              "      <td>0.834016</td>\n",
              "      <td>0.045203</td>\n",
              "      <td>0.823183</td>\n",
              "      <td>-0.247086</td>\n",
              "      <td>-0.397501</td>\n",
              "      <td>-0.288479</td>\n",
              "      <td>-0.401435</td>\n",
              "      <td>-0.281764</td>\n",
              "      <td>-0.314450</td>\n",
              "      <td>0.458344</td>\n",
              "      <td>-0.414795</td>\n",
              "      <td>0.487299</td>\n",
              "      <td>0.609274</td>\n",
              "      <td>-0.111080</td>\n",
              "      <td>-0.362097</td>\n",
              "      <td>0.493371</td>\n",
              "      <td>-0.039405</td>\n",
              "      <td>-0.229642</td>\n",
              "      <td>-0.050009</td>\n",
              "      <td>0.088374</td>\n",
              "      <td>-0.337769</td>\n",
              "      <td>-0.393864</td>\n",
              "      <td>-0.229891</td>\n",
              "      <td>-0.299168</td>\n",
              "      <td>0.538550</td>\n",
              "      <td>-0.213444</td>\n",
              "      <td>-0.218470</td>\n",
              "      <td>-0.309066</td>\n",
              "      <td>0.070665</td>\n",
              "      <td>0.701724</td>\n",
              "      <td>-0.403723</td>\n",
              "      <td>0.664561</td>\n",
              "      <td>1.000000</td>\n",
              "      <td>-0.122205</td>\n",
              "      <td>0.955095</td>\n",
              "      <td>0.470426</td>\n",
              "      <td>-0.389851</td>\n",
              "    </tr>\n",
              "    <tr>\n",
              "      <th>Complexity</th>\n",
              "      <td>0.449391</td>\n",
              "      <td>0.459052</td>\n",
              "      <td>0.449292</td>\n",
              "      <td>0.478276</td>\n",
              "      <td>-0.162620</td>\n",
              "      <td>0.332959</td>\n",
              "      <td>-0.318080</td>\n",
              "      <td>-0.251966</td>\n",
              "      <td>0.360905</td>\n",
              "      <td>-0.280172</td>\n",
              "      <td>0.450973</td>\n",
              "      <td>0.358197</td>\n",
              "      <td>0.435730</td>\n",
              "      <td>0.393263</td>\n",
              "      <td>0.701277</td>\n",
              "      <td>0.589960</td>\n",
              "      <td>0.671163</td>\n",
              "      <td>0.640092</td>\n",
              "      <td>0.243093</td>\n",
              "      <td>0.343284</td>\n",
              "      <td>0.667491</td>\n",
              "      <td>0.282470</td>\n",
              "      <td>-0.217025</td>\n",
              "      <td>-0.393565</td>\n",
              "      <td>-0.056613</td>\n",
              "      <td>0.244621</td>\n",
              "      <td>-0.073260</td>\n",
              "      <td>-0.044928</td>\n",
              "      <td>0.554675</td>\n",
              "      <td>0.554675</td>\n",
              "      <td>0.584024</td>\n",
              "      <td>-0.576177</td>\n",
              "      <td>-0.330245</td>\n",
              "      <td>-0.068992</td>\n",
              "      <td>-0.418169</td>\n",
              "      <td>0.562619</td>\n",
              "      <td>0.497459</td>\n",
              "      <td>-0.429823</td>\n",
              "      <td>0.618048</td>\n",
              "      <td>-0.077936</td>\n",
              "      <td>...</td>\n",
              "      <td>-0.601121</td>\n",
              "      <td>-0.404828</td>\n",
              "      <td>-0.487404</td>\n",
              "      <td>-0.067876</td>\n",
              "      <td>0.748080</td>\n",
              "      <td>-0.080941</td>\n",
              "      <td>-0.517082</td>\n",
              "      <td>-0.181455</td>\n",
              "      <td>0.229505</td>\n",
              "      <td>-0.229023</td>\n",
              "      <td>0.651429</td>\n",
              "      <td>0.539035</td>\n",
              "      <td>0.319235</td>\n",
              "      <td>0.262977</td>\n",
              "      <td>0.255315</td>\n",
              "      <td>-0.257003</td>\n",
              "      <td>0.779308</td>\n",
              "      <td>0.579733</td>\n",
              "      <td>0.311058</td>\n",
              "      <td>0.891942</td>\n",
              "      <td>0.075004</td>\n",
              "      <td>-0.775899</td>\n",
              "      <td>0.179283</td>\n",
              "      <td>0.699213</td>\n",
              "      <td>0.486603</td>\n",
              "      <td>0.073819</td>\n",
              "      <td>0.649096</td>\n",
              "      <td>0.343419</td>\n",
              "      <td>-0.129544</td>\n",
              "      <td>0.260934</td>\n",
              "      <td>0.617924</td>\n",
              "      <td>0.183038</td>\n",
              "      <td>-0.318786</td>\n",
              "      <td>0.691066</td>\n",
              "      <td>-0.320582</td>\n",
              "      <td>-0.122205</td>\n",
              "      <td>1.000000</td>\n",
              "      <td>-0.068188</td>\n",
              "      <td>0.290955</td>\n",
              "      <td>-0.026602</td>\n",
              "    </tr>\n",
              "    <tr>\n",
              "      <th>Strength</th>\n",
              "      <td>-0.331087</td>\n",
              "      <td>-0.521819</td>\n",
              "      <td>-0.330649</td>\n",
              "      <td>-0.514503</td>\n",
              "      <td>0.311507</td>\n",
              "      <td>-0.501147</td>\n",
              "      <td>0.124159</td>\n",
              "      <td>0.749256</td>\n",
              "      <td>-0.532014</td>\n",
              "      <td>0.150669</td>\n",
              "      <td>-0.433012</td>\n",
              "      <td>-0.531821</td>\n",
              "      <td>-0.529843</td>\n",
              "      <td>-0.530357</td>\n",
              "      <td>0.089368</td>\n",
              "      <td>-0.229351</td>\n",
              "      <td>-0.525796</td>\n",
              "      <td>-0.378968</td>\n",
              "      <td>-0.289899</td>\n",
              "      <td>0.500285</td>\n",
              "      <td>0.195844</td>\n",
              "      <td>0.606724</td>\n",
              "      <td>-0.427891</td>\n",
              "      <td>-0.282672</td>\n",
              "      <td>-0.491643</td>\n",
              "      <td>-0.359614</td>\n",
              "      <td>0.797817</td>\n",
              "      <td>0.757310</td>\n",
              "      <td>-0.227581</td>\n",
              "      <td>-0.227581</td>\n",
              "      <td>0.072307</td>\n",
              "      <td>0.068109</td>\n",
              "      <td>-0.333852</td>\n",
              "      <td>-0.520918</td>\n",
              "      <td>-0.248791</td>\n",
              "      <td>0.262141</td>\n",
              "      <td>0.280384</td>\n",
              "      <td>-0.384292</td>\n",
              "      <td>0.178402</td>\n",
              "      <td>-0.502616</td>\n",
              "      <td>...</td>\n",
              "      <td>-0.232192</td>\n",
              "      <td>-0.204823</td>\n",
              "      <td>-0.308004</td>\n",
              "      <td>0.740606</td>\n",
              "      <td>0.061278</td>\n",
              "      <td>0.727089</td>\n",
              "      <td>-0.202513</td>\n",
              "      <td>-0.389993</td>\n",
              "      <td>-0.307134</td>\n",
              "      <td>-0.385973</td>\n",
              "      <td>-0.135308</td>\n",
              "      <td>-0.356285</td>\n",
              "      <td>0.419545</td>\n",
              "      <td>-0.330237</td>\n",
              "      <td>0.455794</td>\n",
              "      <td>0.493622</td>\n",
              "      <td>-0.122257</td>\n",
              "      <td>-0.213321</td>\n",
              "      <td>0.451301</td>\n",
              "      <td>0.027560</td>\n",
              "      <td>-0.239930</td>\n",
              "      <td>-0.082969</td>\n",
              "      <td>0.174688</td>\n",
              "      <td>-0.372312</td>\n",
              "      <td>-0.449256</td>\n",
              "      <td>-0.240151</td>\n",
              "      <td>-0.142741</td>\n",
              "      <td>0.522710</td>\n",
              "      <td>-0.247345</td>\n",
              "      <td>-0.207030</td>\n",
              "      <td>-0.161665</td>\n",
              "      <td>0.155036</td>\n",
              "      <td>0.599670</td>\n",
              "      <td>-0.414452</td>\n",
              "      <td>0.562130</td>\n",
              "      <td>0.955095</td>\n",
              "      <td>-0.068188</td>\n",
              "      <td>1.000000</td>\n",
              "      <td>0.448833</td>\n",
              "      <td>-0.489377</td>\n",
              "    </tr>\n",
              "    <tr>\n",
              "      <th>Contrast_1</th>\n",
              "      <td>-0.372888</td>\n",
              "      <td>-0.362208</td>\n",
              "      <td>-0.372723</td>\n",
              "      <td>-0.318191</td>\n",
              "      <td>0.107007</td>\n",
              "      <td>-0.504612</td>\n",
              "      <td>-0.152100</td>\n",
              "      <td>0.511443</td>\n",
              "      <td>-0.422093</td>\n",
              "      <td>-0.156462</td>\n",
              "      <td>-0.405469</td>\n",
              "      <td>-0.470557</td>\n",
              "      <td>-0.433031</td>\n",
              "      <td>-0.417297</td>\n",
              "      <td>0.781393</td>\n",
              "      <td>-0.108054</td>\n",
              "      <td>0.110567</td>\n",
              "      <td>-0.164739</td>\n",
              "      <td>-0.477833</td>\n",
              "      <td>0.888281</td>\n",
              "      <td>0.660368</td>\n",
              "      <td>0.865544</td>\n",
              "      <td>-0.686000</td>\n",
              "      <td>-0.457694</td>\n",
              "      <td>-0.548546</td>\n",
              "      <td>-0.443276</td>\n",
              "      <td>0.637378</td>\n",
              "      <td>0.660521</td>\n",
              "      <td>-0.106631</td>\n",
              "      <td>-0.106631</td>\n",
              "      <td>0.719407</td>\n",
              "      <td>-0.321677</td>\n",
              "      <td>-0.656577</td>\n",
              "      <td>-0.912977</td>\n",
              "      <td>-0.640279</td>\n",
              "      <td>0.911192</td>\n",
              "      <td>0.842402</td>\n",
              "      <td>-0.867844</td>\n",
              "      <td>0.850580</td>\n",
              "      <td>-0.886198</td>\n",
              "      <td>...</td>\n",
              "      <td>-0.855051</td>\n",
              "      <td>-0.665476</td>\n",
              "      <td>-0.892983</td>\n",
              "      <td>0.648870</td>\n",
              "      <td>0.729568</td>\n",
              "      <td>0.633217</td>\n",
              "      <td>-0.699360</td>\n",
              "      <td>-0.664111</td>\n",
              "      <td>-0.492733</td>\n",
              "      <td>-0.689643</td>\n",
              "      <td>0.029072</td>\n",
              "      <td>-0.300027</td>\n",
              "      <td>0.769495</td>\n",
              "      <td>-0.457792</td>\n",
              "      <td>0.747102</td>\n",
              "      <td>0.323660</td>\n",
              "      <td>0.539770</td>\n",
              "      <td>-0.128962</td>\n",
              "      <td>0.787875</td>\n",
              "      <td>0.471334</td>\n",
              "      <td>-0.479558</td>\n",
              "      <td>-0.589977</td>\n",
              "      <td>0.456330</td>\n",
              "      <td>-0.116869</td>\n",
              "      <td>-0.336830</td>\n",
              "      <td>-0.480367</td>\n",
              "      <td>0.025938</td>\n",
              "      <td>0.894795</td>\n",
              "      <td>-0.487934</td>\n",
              "      <td>-0.422949</td>\n",
              "      <td>-0.061961</td>\n",
              "      <td>0.446352</td>\n",
              "      <td>0.362956</td>\n",
              "      <td>-0.002072</td>\n",
              "      <td>0.341650</td>\n",
              "      <td>0.470426</td>\n",
              "      <td>0.290955</td>\n",
              "      <td>0.448833</td>\n",
              "      <td>1.000000</td>\n",
              "      <td>-0.392302</td>\n",
              "    </tr>\n",
              "    <tr>\n",
              "      <th>Busyness</th>\n",
              "      <td>0.742542</td>\n",
              "      <td>0.709268</td>\n",
              "      <td>0.742281</td>\n",
              "      <td>0.659369</td>\n",
              "      <td>-0.142877</td>\n",
              "      <td>0.759038</td>\n",
              "      <td>0.029460</td>\n",
              "      <td>-0.664899</td>\n",
              "      <td>0.762617</td>\n",
              "      <td>-0.029429</td>\n",
              "      <td>0.779789</td>\n",
              "      <td>0.816282</td>\n",
              "      <td>0.738994</td>\n",
              "      <td>0.769660</td>\n",
              "      <td>-0.131112</td>\n",
              "      <td>0.125819</td>\n",
              "      <td>0.244080</td>\n",
              "      <td>0.657423</td>\n",
              "      <td>0.762767</td>\n",
              "      <td>-0.575920</td>\n",
              "      <td>-0.407922</td>\n",
              "      <td>-0.533727</td>\n",
              "      <td>0.596498</td>\n",
              "      <td>0.388981</td>\n",
              "      <td>0.538757</td>\n",
              "      <td>0.480500</td>\n",
              "      <td>-0.433749</td>\n",
              "      <td>-0.371310</td>\n",
              "      <td>0.100513</td>\n",
              "      <td>0.100513</td>\n",
              "      <td>-0.337913</td>\n",
              "      <td>-0.079535</td>\n",
              "      <td>0.449978</td>\n",
              "      <td>0.512988</td>\n",
              "      <td>0.423053</td>\n",
              "      <td>-0.372934</td>\n",
              "      <td>-0.483065</td>\n",
              "      <td>0.470820</td>\n",
              "      <td>-0.321836</td>\n",
              "      <td>0.552156</td>\n",
              "      <td>...</td>\n",
              "      <td>0.267154</td>\n",
              "      <td>0.353785</td>\n",
              "      <td>0.323929</td>\n",
              "      <td>-0.372894</td>\n",
              "      <td>-0.089539</td>\n",
              "      <td>-0.356251</td>\n",
              "      <td>0.367095</td>\n",
              "      <td>0.580653</td>\n",
              "      <td>0.791497</td>\n",
              "      <td>0.579833</td>\n",
              "      <td>-0.033767</td>\n",
              "      <td>0.690707</td>\n",
              "      <td>-0.572004</td>\n",
              "      <td>0.441788</td>\n",
              "      <td>-0.600601</td>\n",
              "      <td>-0.107535</td>\n",
              "      <td>0.009043</td>\n",
              "      <td>0.106065</td>\n",
              "      <td>-0.574483</td>\n",
              "      <td>0.013933</td>\n",
              "      <td>0.755007</td>\n",
              "      <td>0.081212</td>\n",
              "      <td>-0.387652</td>\n",
              "      <td>0.565274</td>\n",
              "      <td>0.773786</td>\n",
              "      <td>0.754960</td>\n",
              "      <td>-0.003693</td>\n",
              "      <td>-0.567680</td>\n",
              "      <td>0.796402</td>\n",
              "      <td>0.609714</td>\n",
              "      <td>0.038311</td>\n",
              "      <td>-0.375809</td>\n",
              "      <td>-0.292654</td>\n",
              "      <td>0.398349</td>\n",
              "      <td>-0.297947</td>\n",
              "      <td>-0.389851</td>\n",
              "      <td>-0.026602</td>\n",
              "      <td>-0.489377</td>\n",
              "      <td>-0.392302</td>\n",
              "      <td>1.000000</td>\n",
              "    </tr>\n",
              "  </tbody>\n",
              "</table>\n",
              "<p>107 rows × 107 columns</p>\n",
              "</div>"
            ],
            "text/plain": [
              "                   VoxelVolume  Maximum3DDiameter  ...  Contrast_1  Busyness\n",
              "VoxelVolume           1.000000           0.832150  ...   -0.372888  0.742542\n",
              "Maximum3DDiameter     0.832150           1.000000  ...   -0.362208  0.709268\n",
              "MeshVolume            0.999999           0.831531  ...   -0.372723  0.742281\n",
              "MajorAxisLength       0.772790           0.977372  ...   -0.318191  0.659369\n",
              "Sphericity           -0.026973          -0.473582  ...    0.107007 -0.142877\n",
              "...                        ...                ...  ...         ...       ...\n",
              "Coarseness           -0.297500          -0.481513  ...    0.470426 -0.389851\n",
              "Complexity            0.449391           0.459052  ...    0.290955 -0.026602\n",
              "Strength             -0.331087          -0.521819  ...    0.448833 -0.489377\n",
              "Contrast_1           -0.372888          -0.362208  ...    1.000000 -0.392302\n",
              "Busyness              0.742542           0.709268  ...   -0.392302  1.000000\n",
              "\n",
              "[107 rows x 107 columns]"
            ]
          },
          "metadata": {
            "tags": []
          },
          "execution_count": 32
        }
      ]
    },
    {
      "cell_type": "code",
      "metadata": {
        "id": "V4gdVcgVB0He",
        "colab_type": "code",
        "outputId": "64ad4817-f28e-40e1-cb54-c8da2dd4b9f8",
        "colab": {
          "base_uri": "https://localhost:8080/",
          "height": 0
        }
      },
      "source": [
        "#Using Pearson Correlation\n",
        "plt.figure(figsize=(12,10))\n",
        "cor = test_data_stand.corr()\n",
        "sns.heatmap(cor, cmap=plt.cm.Reds)\n",
        "plt.show()"
      ],
      "execution_count": 33,
      "outputs": [
        {
          "output_type": "display_data",
          "data": {
            "image/png": "[encoded data removed]",
            "text/plain": [
              "<Figure size 864x720 with 2 Axes>"
            ]
          },
          "metadata": {
            "tags": []
          }
        }
      ]
    },
    {
      "cell_type": "code",
      "metadata": {
        "id": "JA4v11NSKB2w",
        "colab_type": "code",
        "outputId": "29d0b564-37c6-4fa9-8d6f-03cd32be2584",
        "colab": {
          "base_uri": "https://localhost:8080/",
          "height": 0
        }
      },
      "source": [
        "type(test_data_stand)"
      ],
      "execution_count": 34,
      "outputs": [
        {
          "output_type": "execute_result",
          "data": {
            "text/plain": [
              "pandas.core.frame.DataFrame"
            ]
          },
          "metadata": {
            "tags": []
          },
          "execution_count": 34
        }
      ]
    },
    {
      "cell_type": "markdown",
      "metadata": {
        "id": "aIUNauSkw26E",
        "colab_type": "text"
      },
      "source": [
        "#Shapiro Test"
      ]
    },
    {
      "cell_type": "markdown",
      "metadata": {
        "id": "V1MYDDPjxAqu",
        "colab_type": "text"
      },
      "source": [
        "Perform the Shapiro-Wilk test for normality: the Shapiro-Wilk test tests the null hypothesis that the data was drawn from a normal distribution."
      ]
    },
    {
      "cell_type": "code",
      "metadata": {
        "id": "UeVU9VLIuTDf",
        "colab_type": "code",
        "colab": {}
      },
      "source": [
        "from scipy.stats import shapiro"
      ],
      "execution_count": 0,
      "outputs": []
    },
    {
      "cell_type": "code",
      "metadata": {
        "id": "9hpj_HUquTDn",
        "colab_type": "code",
        "colab": {}
      },
      "source": [
        "p_value_list_train=[]\n",
        "for column in train_data_stand.columns:\n",
        "  stat, p_value = shapiro(train_data_stand[column])\n",
        "  p_value_list_train.append(p_value)"
      ],
      "execution_count": 0,
      "outputs": []
    },
    {
      "cell_type": "code",
      "metadata": {
        "id": "zvU8BItVuTDs",
        "colab_type": "code",
        "outputId": "5f9a4ace-6d57-48ac-cef7-576e89a91d50",
        "colab": {
          "base_uri": "https://localhost:8080/",
          "height": 0
        }
      },
      "source": [
        "len(p_value_list_train)"
      ],
      "execution_count": 37,
      "outputs": [
        {
          "output_type": "execute_result",
          "data": {
            "text/plain": [
              "107"
            ]
          },
          "metadata": {
            "tags": []
          },
          "execution_count": 37
        }
      ]
    },
    {
      "cell_type": "code",
      "metadata": {
        "id": "pt7cF3nwWFWy",
        "colab_type": "code",
        "outputId": "7c9be412-2cda-4d9b-a954-0931d0c8eb57",
        "colab": {
          "base_uri": "https://localhost:8080/",
          "height": 0
        }
      },
      "source": [
        "min(p_value_list_train)"
      ],
      "execution_count": 38,
      "outputs": [
        {
          "output_type": "execute_result",
          "data": {
            "text/plain": [
              "2.497328837638728e-23"
            ]
          },
          "metadata": {
            "tags": []
          },
          "execution_count": 38
        }
      ]
    },
    {
      "cell_type": "code",
      "metadata": {
        "id": "k4eB503D2C6x",
        "colab_type": "code",
        "colab": {}
      },
      "source": [
        "p_value_list_test=[]\n",
        "for column in test_data_stand.columns:\n",
        "  stat, p_value = shapiro(test_data_stand[column])\n",
        "  p_value_list_test.append(p_value)"
      ],
      "execution_count": 0,
      "outputs": []
    },
    {
      "cell_type": "code",
      "metadata": {
        "id": "zUFUhbTW4iq_",
        "colab_type": "code",
        "outputId": "ff4a04e6-2529-48f5-f943-f14f458b5ff8",
        "colab": {
          "base_uri": "https://localhost:8080/",
          "height": 0
        }
      },
      "source": [
        "min(p_value_list_test)"
      ],
      "execution_count": 40,
      "outputs": [
        {
          "output_type": "execute_result",
          "data": {
            "text/plain": [
              "1.6231808648917156e-12"
            ]
          },
          "metadata": {
            "tags": []
          },
          "execution_count": 40
        }
      ]
    },
    {
      "cell_type": "markdown",
      "metadata": {
        "id": "8Phnq_pr4p8L",
        "colab_type": "text"
      },
      "source": [
        "Siccome p_value > 0.5, si può accettare l'ipotesi nulla del Test di Shapiro che afferma che i dati sono distribuiti normalmente.\n",
        "Le features sono distribuite normalmente.\n",
        "NON È VERO, ALCUNI HANNO p_value < 0.5, QUINDI NON SONO DISTRIBUITE NORMALMENTE QUINDI NON SI PUÒ EFFETTUARE IL T-test."
      ]
    },
    {
      "cell_type": "markdown",
      "metadata": {
        "id": "DdVS-WoR8IIt",
        "colab_type": "text"
      },
      "source": [
        "#T-test"
      ]
    },
    {
      "cell_type": "markdown",
      "metadata": {
        "id": "Qy-A3jueiKdr",
        "colab_type": "text"
      },
      "source": [
        "This is a two-sided test for the null hypothesis that 2 independent samples have identical average (expected) values. This test assumes that the populations have identical variances by default."
      ]
    },
    {
      "cell_type": "markdown",
      "metadata": {
        "id": "UwfzaHG8MIpl",
        "colab_type": "text"
      },
      "source": [
        "Rispetto alla condizione di normalità la distribuzione t è robusta. Con tale termine tecnico si intende affermare  che  rimane  approssimativamente  valida,  anche  quando  le  distribuzioni  di  dati  non  rispettano esattamente la condizione dalla normalità."
      ]
    },
    {
      "cell_type": "code",
      "metadata": {
        "id": "2ou8os9pMYnX",
        "colab_type": "code",
        "colab": {}
      },
      "source": [
        "import scipy"
      ],
      "execution_count": 0,
      "outputs": []
    },
    {
      "cell_type": "markdown",
      "metadata": {
        "id": "pxhwk4bCLlVa",
        "colab_type": "text"
      },
      "source": [
        "###T-test su dati non standardizzati"
      ]
    },
    {
      "cell_type": "code",
      "metadata": {
        "id": "KjsDxO4350sK",
        "colab_type": "code",
        "colab": {}
      },
      "source": [
        "t_test_list=[]\n",
        "for column in train_data.columns:\n",
        "   stat, p_value = scipy.stats.ttest_ind(train_data[column], test_data[column])\n",
        "   t_test_list.append(p_value)"
      ],
      "execution_count": 0,
      "outputs": []
    },
    {
      "cell_type": "code",
      "metadata": {
        "id": "Z8uQmjSEMTkB",
        "colab_type": "code",
        "outputId": "1b99c414-24de-45d8-ba85-3c669f31fdf9",
        "colab": {
          "base_uri": "https://localhost:8080/",
          "height": 35
        }
      },
      "source": [
        "max(t_test_list)"
      ],
      "execution_count": 43,
      "outputs": [
        {
          "output_type": "execute_result",
          "data": {
            "text/plain": [
              "0.9648879165383433"
            ]
          },
          "metadata": {
            "tags": []
          },
          "execution_count": 43
        }
      ]
    },
    {
      "cell_type": "code",
      "metadata": {
        "id": "1Wz1ElglHcrl",
        "colab_type": "code",
        "outputId": "38222800-967c-4c48-98a5-9c87b71aff3c",
        "colab": {
          "base_uri": "https://localhost:8080/",
          "height": 35
        }
      },
      "source": [
        "len(t_test_list)"
      ],
      "execution_count": 44,
      "outputs": [
        {
          "output_type": "execute_result",
          "data": {
            "text/plain": [
              "107"
            ]
          },
          "metadata": {
            "tags": []
          },
          "execution_count": 44
        }
      ]
    },
    {
      "cell_type": "markdown",
      "metadata": {
        "id": "UII6Vyg3IQrp",
        "colab_type": "text"
      },
      "source": [
        "p-value alto   ---->   si accetta l'Hp zero   ---->   la differenza osservata è STATISTICAMENTE NON SIGNIFICATIVA"
      ]
    },
    {
      "cell_type": "markdown",
      "metadata": {
        "id": "xf4sPeRWIqhu",
        "colab_type": "text"
      },
      "source": [
        "p-value basso ----> si rigetta l'Hp zero ----> la differenza osservata è STATISTICAMENTE SIGNIFICATIVA"
      ]
    },
    {
      "cell_type": "markdown",
      "metadata": {
        "id": "jMOpB96xJXUZ",
        "colab_type": "text"
      },
      "source": [
        "Per aclune features si ha p-value alto, per altre p-value basso"
      ]
    },
    {
      "cell_type": "code",
      "metadata": {
        "id": "Q_L93spewh0J",
        "colab_type": "code",
        "outputId": "21826db0-2724-4060-a977-82e41e74f272",
        "colab": {
          "base_uri": "https://localhost:8080/",
          "height": 1000
        }
      },
      "source": [
        "t_test_list"
      ],
      "execution_count": 55,
      "outputs": [
        {
          "output_type": "execute_result",
          "data": {
            "text/plain": [
              "[3.4317351899453307e-07,\n",
              " 8.730036882383007e-13,\n",
              " 3.5142632934517047e-07,\n",
              " 2.0505830772651715e-11,\n",
              " 1.5949733359438712e-12,\n",
              " 1.4475522011387282e-10,\n",
              " 0.4276704875706294,\n",
              " 1.0579516276919862e-07,\n",
              " 4.328483353993349e-13,\n",
              " 0.1430240570120943,\n",
              " 1.3673564406749126e-09,\n",
              " 2.4171064649018946e-12,\n",
              " 3.188176919049056e-11,\n",
              " 9.096802709748628e-12,\n",
              " 0.00029800526863892974,\n",
              " 6.442626913330338e-23,\n",
              " 3.5339258386062758e-06,\n",
              " 5.018038479263669e-08,\n",
              " 0.00010080865924253426,\n",
              " 0.6639706906733716,\n",
              " 3.8117591135317015e-16,\n",
              " 0.5164588392620519,\n",
              " 2.010242423187202e-07,\n",
              " 0.38699015835999784,\n",
              " 4.424569014876734e-14,\n",
              " 0.7608484661449828,\n",
              " 0.0020215770282853342,\n",
              " 0.7889562805569947,\n",
              " 1.6994164721922714e-23,\n",
              " 1.6994164721733706e-23,\n",
              " 0.0002915063210505144,\n",
              " 1.0144675430914247e-05,\n",
              " 9.451667839663786e-11,\n",
              " 0.021050390505699432,\n",
              " 8.892799641815086e-07,\n",
              " 0.016883726166176494,\n",
              " 0.2418175820657989,\n",
              " 0.023746476100822284,\n",
              " 0.0008229741022181018,\n",
              " 0.010570834014073636,\n",
              " 0.028130360926733905,\n",
              " 0.00034464214251252087,\n",
              " 1.6833500113921943e-23,\n",
              " 0.004683975370808196,\n",
              " 0.004202527738891013,\n",
              " 0.0006506123715752586,\n",
              " 1.8718571348307498e-05,\n",
              " 0.6640805419112459,\n",
              " 0.006934928084058018,\n",
              " 0.12973155790670587,\n",
              " 0.024689252227513066,\n",
              " 0.0005614506249680064,\n",
              " 0.9648879165383433,\n",
              " 0.16966494846598493,\n",
              " 0.009565088269817624,\n",
              " 0.04985742916835823,\n",
              " 0.0007190199491167508,\n",
              " 0.8068883197398877,\n",
              " 0.11635817587724212,\n",
              " 0.0002350154075290564,\n",
              " 1.1222618190105357e-05,\n",
              " 0.13604734618190925,\n",
              " 3.024786329800288e-11,\n",
              " 3.127636443943488e-20,\n",
              " 0.011347621558616157,\n",
              " 3.394745971391812e-10,\n",
              " 0.00250952128247175,\n",
              " 0.835837751287571,\n",
              " 0.025463045926924062,\n",
              " 0.14862883589526357,\n",
              " 0.09636975134031366,\n",
              " 6.854143324861269e-05,\n",
              " 0.27181713398874047,\n",
              " 0.4530818076451495,\n",
              " 2.475217575452773e-08,\n",
              " 1.2217532288937e-05,\n",
              " 9.084352303630532e-07,\n",
              " 2.885110786264741e-28,\n",
              " 1.1044773417115326e-07,\n",
              " 0.022724072029192105,\n",
              " 0.004534971790915536,\n",
              " 0.00046710630750614355,\n",
              " 0.797982795472087,\n",
              " 0.06970154716230319,\n",
              " 6.805126269497112e-24,\n",
              " 0.03996326763673342,\n",
              " 9.487636692841306e-16,\n",
              " 0.0037427449663665264,\n",
              " 1.910457662116539e-11,\n",
              " 0.09331007339095067,\n",
              " 2.281851722626771e-08,\n",
              " 8.305280277251748e-07,\n",
              " 0.003758114596328912,\n",
              " 6.142355815952917e-24,\n",
              " 0.4044845231792348,\n",
              " 0.13875477378078752,\n",
              " 0.024774121856601588,\n",
              " 9.070580872563284e-23,\n",
              " 0.05798501279091982,\n",
              " 8.410541855929382e-09,\n",
              " 4.228911134276222e-17,\n",
              " 2.747174497371622e-08,\n",
              " 0.0005331924204063269,\n",
              " 2.1598077839249588e-11,\n",
              " 0.009983484039951142,\n",
              " 0.8129230185464176,\n",
              " 0.00011826232630922992]"
            ]
          },
          "metadata": {
            "tags": []
          },
          "execution_count": 55
        }
      ]
    },
    {
      "cell_type": "code",
      "metadata": {
        "id": "AxLDWfoXjoUZ",
        "colab_type": "code",
        "outputId": "7de7f0c7-86aa-4665-b8c2-bf392dbdd475",
        "colab": {
          "base_uri": "https://localhost:8080/",
          "height": 35
        }
      },
      "source": [
        "np.mean(t_test_list)"
      ],
      "execution_count": 46,
      "outputs": [
        {
          "output_type": "execute_result",
          "data": {
            "text/plain": [
              "0.10705309135062815"
            ]
          },
          "metadata": {
            "tags": []
          },
          "execution_count": 46
        }
      ]
    },
    {
      "cell_type": "markdown",
      "metadata": {
        "id": "KhbvrTZvLT6L",
        "colab_type": "text"
      },
      "source": [
        "###T-test su dati standardizzati"
      ]
    },
    {
      "cell_type": "code",
      "metadata": {
        "id": "uk_CEumpMcaW",
        "colab_type": "code",
        "colab": {}
      },
      "source": [
        "t_test_list_stand=[]\n",
        "for column in train_data_stand.columns:\n",
        "   stat, p_value = scipy.stats.ttest_ind(train_data_stand[column], test_data_stand[column])\n",
        "   t_test_list_stand.append(p_value)"
      ],
      "execution_count": 0,
      "outputs": []
    },
    {
      "cell_type": "code",
      "metadata": {
        "id": "KrqG8Kjhe9E8",
        "colab_type": "code",
        "outputId": "cb11109d-4e21-46f8-e5ae-a6085c2c5c46",
        "colab": {
          "base_uri": "https://localhost:8080/",
          "height": 35
        }
      },
      "source": [
        "min(t_test_list_stand)"
      ],
      "execution_count": 48,
      "outputs": [
        {
          "output_type": "execute_result",
          "data": {
            "text/plain": [
              "0.9999999999999127"
            ]
          },
          "metadata": {
            "tags": []
          },
          "execution_count": 48
        }
      ]
    },
    {
      "cell_type": "code",
      "metadata": {
        "id": "51JruRr2Ls4N",
        "colab_type": "code",
        "outputId": "64b362b7-5c8b-4b66-d4f2-27179d36e394",
        "colab": {
          "base_uri": "https://localhost:8080/",
          "height": 1000
        }
      },
      "source": [
        "t_test_list_stand"
      ],
      "execution_count": 49,
      "outputs": [
        {
          "output_type": "execute_result",
          "data": {
            "text/plain": [
              "[0.9999999999999989,\n",
              " 0.9999999999999974,\n",
              " 0.9999999999999978,\n",
              " 0.9999999999999913,\n",
              " 0.9999999999999948,\n",
              " 0.999999999999994,\n",
              " 0.9999999999999961,\n",
              " 0.9999999999999993,\n",
              " 1.0,\n",
              " 0.9999999999999978,\n",
              " 0.9999999999999988,\n",
              " 0.9999999999999964,\n",
              " 0.999999999999997,\n",
              " 0.9999999999999971,\n",
              " 0.9999999999999987,\n",
              " 0.9999999999999943,\n",
              " 0.9999999999999947,\n",
              " 0.9999999999999968,\n",
              " 0.9999999999999994,\n",
              " 0.9999999999999963,\n",
              " 0.9999999999999992,\n",
              " 0.9999999999999996,\n",
              " 0.9999999999999981,\n",
              " 0.9999999999999997,\n",
              " 0.9999999999999996,\n",
              " 0.9999999999999971,\n",
              " 0.9999999999999969,\n",
              " 0.9999999999999991,\n",
              " 0.9999999999999923,\n",
              " 0.9999999999999923,\n",
              " 0.9999999999999878,\n",
              " 0.9999999999999988,\n",
              " 0.9999999999999962,\n",
              " 0.9999999999999127,\n",
              " 0.9999999999999967,\n",
              " 1.0,\n",
              " 0.9999999999999992,\n",
              " 0.9999999999999876,\n",
              " 0.9999999999999984,\n",
              " 0.9999999999999893,\n",
              " 0.9999999999999969,\n",
              " 0.9999999999999825,\n",
              " 0.99999999999999,\n",
              " 0.9999999999999927,\n",
              " 0.9999999999999886,\n",
              " 0.9999999999999997,\n",
              " 0.999999999999998,\n",
              " 0.9999999999999765,\n",
              " 0.9999999999999876,\n",
              " 0.9999999999999987,\n",
              " 0.999999999999986,\n",
              " 0.9999999999999967,\n",
              " 0.9999999999999996,\n",
              " 0.9999999999999987,\n",
              " 0.9999999999999977,\n",
              " 0.9999999999999999,\n",
              " 0.9999999999999999,\n",
              " 0.9999999999999969,\n",
              " 0.9999999999999971,\n",
              " 0.9999999999999998,\n",
              " 1.0,\n",
              " 0.9999999999999982,\n",
              " 0.9999999999999994,\n",
              " 0.9999999999999984,\n",
              " 0.9999999999999918,\n",
              " 0.9999999999999991,\n",
              " 0.9999999999999978,\n",
              " 0.9999999999999996,\n",
              " 0.999999999999996,\n",
              " 0.9999999999999987,\n",
              " 0.9999999999999984,\n",
              " 0.9999999999999996,\n",
              " 0.9999999999999984,\n",
              " 0.9999999999999916,\n",
              " 0.9999999999999996,\n",
              " 0.9999999999999993,\n",
              " 0.999999999999998,\n",
              " 0.9999999999999993,\n",
              " 0.9999999999999976,\n",
              " 0.9999999999999809,\n",
              " 0.9999999999999984,\n",
              " 0.9999999999999946,\n",
              " 0.9999999999999969,\n",
              " 0.9999999999999779,\n",
              " 0.9999999999999896,\n",
              " 0.9999999999999982,\n",
              " 0.9999999999999978,\n",
              " 0.9999999999999993,\n",
              " 0.9999999999999958,\n",
              " 0.9999999999999993,\n",
              " 0.9999999999999976,\n",
              " 0.9999999999999958,\n",
              " 0.9999999999999993,\n",
              " 0.9999999999999956,\n",
              " 0.9999999999999988,\n",
              " 1.0,\n",
              " 0.9999999999999993,\n",
              " 0.999999999999999,\n",
              " 0.999999999999965,\n",
              " 0.9999999999999982,\n",
              " 0.9999999999999607,\n",
              " 0.999999999999998,\n",
              " 0.9999999999999997,\n",
              " 0.9999999999999982,\n",
              " 1.0,\n",
              " 0.9999999999999967,\n",
              " 0.9999999999999979]"
            ]
          },
          "metadata": {
            "tags": []
          },
          "execution_count": 49
        }
      ]
    },
    {
      "cell_type": "markdown",
      "metadata": {
        "id": "8MvlTciBKzJv",
        "colab_type": "text"
      },
      "source": [
        "Usando dati standardizzati e non il risultato del T-test viene molto diverso."
      ]
    },
    {
      "cell_type": "markdown",
      "metadata": {
        "id": "Sx_7MwX9h87E",
        "colab_type": "text"
      },
      "source": [
        "#Welch’s t-test, which does not assume equal population variance"
      ]
    },
    {
      "cell_type": "markdown",
      "metadata": {
        "colab_type": "text",
        "id": "1MB3QG8fiTa-"
      },
      "source": [
        "###Welch’s t-test su dati non standardizzati"
      ]
    },
    {
      "cell_type": "code",
      "metadata": {
        "colab_type": "code",
        "id": "nZK0aj6ciTbJ",
        "colab": {}
      },
      "source": [
        "Wt_test_list=[]\n",
        "for column in train_data.columns:\n",
        "   stat, p_value = scipy.stats.ttest_ind(train_data[column], test_data[column], equal_var=False)\n",
        "   Wt_test_list.append(p_value)"
      ],
      "execution_count": 0,
      "outputs": []
    },
    {
      "cell_type": "code",
      "metadata": {
        "colab_type": "code",
        "outputId": "36fa9648-aaba-4514-b4bc-934a771880b4",
        "id": "De8wyHRjiTbe",
        "colab": {
          "base_uri": "https://localhost:8080/",
          "height": 35
        }
      },
      "source": [
        "max(Wt_test_list)"
      ],
      "execution_count": 57,
      "outputs": [
        {
          "output_type": "execute_result",
          "data": {
            "text/plain": [
              "0.9614591655135909"
            ]
          },
          "metadata": {
            "tags": []
          },
          "execution_count": 57
        }
      ]
    },
    {
      "cell_type": "code",
      "metadata": {
        "colab_type": "code",
        "outputId": "d5d29411-a005-42f1-9888-cc2db1b6bf83",
        "id": "OOX40CV3iTbq",
        "colab": {
          "base_uri": "https://localhost:8080/",
          "height": 35
        }
      },
      "source": [
        "len(Wt_test_list)"
      ],
      "execution_count": 58,
      "outputs": [
        {
          "output_type": "execute_result",
          "data": {
            "text/plain": [
              "107"
            ]
          },
          "metadata": {
            "tags": []
          },
          "execution_count": 58
        }
      ]
    },
    {
      "cell_type": "markdown",
      "metadata": {
        "colab_type": "text",
        "id": "87PFf1r_iTby"
      },
      "source": [
        "p-value alto   ---->   si accetta l'Hp zero   ---->   la differenza osservata è STATISTICAMENTE NON SIGNIFICATIVA"
      ]
    },
    {
      "cell_type": "markdown",
      "metadata": {
        "colab_type": "text",
        "id": "nsKgkxAFiTb0"
      },
      "source": [
        "p-value basso ----> si rigetta l'Hp zero ----> la differenza osservata è STATISTICAMENTE SIGNIFICATIVA"
      ]
    },
    {
      "cell_type": "markdown",
      "metadata": {
        "colab_type": "text",
        "id": "O6qhMvu0iTb2"
      },
      "source": [
        "Per aclune features si ha p-value alto, per altre p-value basso"
      ]
    },
    {
      "cell_type": "code",
      "metadata": {
        "id": "bXDLJzZTjI7O",
        "colab_type": "code",
        "outputId": "f134bf6b-4a90-4009-9c86-758ecc3a98d2",
        "colab": {
          "base_uri": "https://localhost:8080/",
          "height": 1000
        }
      },
      "source": [
        "Wt_test_list"
      ],
      "execution_count": 60,
      "outputs": [
        {
          "output_type": "execute_result",
          "data": {
            "text/plain": [
              "[2.1126151421715576e-14,\n",
              " 2.8825116150471667e-18,\n",
              " 2.206410599078692e-14,\n",
              " 1.0847361298106966e-16,\n",
              " 2.7668730709733634e-13,\n",
              " 2.261819578451625e-15,\n",
              " 0.3996347743086862,\n",
              " 8.282792687104922e-06,\n",
              " 1.1281207676041908e-18,\n",
              " 0.13003381330031727,\n",
              " 9.92949203346358e-19,\n",
              " 6.080440409351813e-18,\n",
              " 6.122594278821631e-17,\n",
              " 2.669302479151265e-18,\n",
              " 3.525440552730312e-05,\n",
              " 3.693932459176144e-24,\n",
              " 1.4406372403755037e-05,\n",
              " 4.1514003180419344e-16,\n",
              " 6.998121481222529e-09,\n",
              " 0.6568444514989831,\n",
              " 1.688339905842733e-15,\n",
              " 0.5162624339461787,\n",
              " 3.6748834298826416e-05,\n",
              " 0.15362541737470672,\n",
              " 1.2715602446145814e-08,\n",
              " 0.7574119673543738,\n",
              " 0.008603251856405253,\n",
              " 0.710504800145707,\n",
              " 9.622662362067409e-20,\n",
              " 9.622662362205598e-20,\n",
              " 0.0005359047569394376,\n",
              " 6.892097703680861e-10,\n",
              " 7.726451367315197e-07,\n",
              " 0.015890198880179562,\n",
              " 0.0002178149317766705,\n",
              " 0.0053194606067372965,\n",
              " 0.23843387679270084,\n",
              " 0.011465402178618132,\n",
              " 0.00011954268796964916,\n",
              " 0.008376857877831363,\n",
              " 0.041531383440825895,\n",
              " 0.00043122861244515777,\n",
              " 1.548004600415292e-23,\n",
              " 0.005999036512634361,\n",
              " 0.006918335737898217,\n",
              " 5.742999171075354e-05,\n",
              " 7.952212930336531e-10,\n",
              " 0.6619611976228477,\n",
              " 0.02247241193245566,\n",
              " 0.10395911060338339,\n",
              " 0.03650861249701078,\n",
              " 3.86908150793418e-05,\n",
              " 0.9614591655135909,\n",
              " 0.12126355553449535,\n",
              " 0.024950128209588657,\n",
              " 0.06522935847373831,\n",
              " 1.6092043873126397e-07,\n",
              " 0.7858939263068361,\n",
              " 0.08709801667830262,\n",
              " 4.6653536974779455e-09,\n",
              " 2.667761295575715e-08,\n",
              " 0.14028023416017266,\n",
              " 6.053631166728596e-16,\n",
              " 2.224961879392883e-12,\n",
              " 0.014082566334676604,\n",
              " 2.1006522277597195e-13,\n",
              " 0.0006812429071635942,\n",
              " 0.817367329569726,\n",
              " 0.006506667913005002,\n",
              " 0.14067663942595976,\n",
              " 0.05782213811369439,\n",
              " 5.780180298328769e-06,\n",
              " 0.16452752134501933,\n",
              " 0.4849106761463955,\n",
              " 2.7313088696851002e-05,\n",
              " 2.572635071819856e-11,\n",
              " 0.00015148911985628994,\n",
              " 3.039051475463933e-31,\n",
              " 2.1580710003715505e-15,\n",
              " 0.04250905986939194,\n",
              " 0.004217623796375627,\n",
              " 0.0025460712817101596,\n",
              " 0.6807075280323571,\n",
              " 0.060186110285379124,\n",
              " 6.4524495627776245e-27,\n",
              " 0.06036690673124367,\n",
              " 5.044869377480908e-21,\n",
              " 1.1498623234642317e-05,\n",
              " 1.7456555260680983e-08,\n",
              " 0.13745977122913416,\n",
              " 2.864883057260525e-16,\n",
              " 3.0986107366960344e-13,\n",
              " 1.1645980762859162e-05,\n",
              " 4.0812006398239936e-30,\n",
              " 0.3935126465686104,\n",
              " 0.01946181363521151,\n",
              " 0.00023186048535636,\n",
              " 4.9397904338655306e-30,\n",
              " 0.10224296649707215,\n",
              " 1.1019237737653867e-05,\n",
              " 8.648583336278333e-13,\n",
              " 2.5328984529894573e-05,\n",
              " 0.02326930557306662,\n",
              " 1.588335116620109e-15,\n",
              " 0.04388789661817799,\n",
              " 0.7885586622388028,\n",
              " 1.760800130113592e-07]"
            ]
          },
          "metadata": {
            "tags": []
          },
          "execution_count": 60
        }
      ]
    },
    {
      "cell_type": "code",
      "metadata": {
        "colab_type": "code",
        "outputId": "876db5b2-6d67-40e8-9814-70f0a1f9069c",
        "id": "SCg9g03BiTb3",
        "colab": {
          "base_uri": "https://localhost:8080/",
          "height": 35
        }
      },
      "source": [
        "np.mean(Wt_test_list)"
      ],
      "execution_count": 61,
      "outputs": [
        {
          "output_type": "execute_result",
          "data": {
            "text/plain": [
              "0.10023742750496842"
            ]
          },
          "metadata": {
            "tags": []
          },
          "execution_count": 61
        }
      ]
    },
    {
      "cell_type": "markdown",
      "metadata": {
        "colab_type": "text",
        "id": "tvmmGf8tigTS"
      },
      "source": [
        "###Welch’s t-test su dati standardizzati"
      ]
    },
    {
      "cell_type": "code",
      "metadata": {
        "colab_type": "code",
        "id": "Ke9f0BwYigTb",
        "colab": {}
      },
      "source": [
        "Wt_test_list_stand = []\n",
        "for column in train_data_stand.columns:\n",
        "   stat, p_value = scipy.stats.ttest_ind(train_data_stand[column], test_data_stand[column], equal_var=False)\n",
        "   Wt_test_list_stand.append(p_value)"
      ],
      "execution_count": 0,
      "outputs": []
    },
    {
      "cell_type": "code",
      "metadata": {
        "colab_type": "code",
        "id": "KmHHiamNigTo",
        "colab": {}
      },
      "source": [
        "min(Wt_test_list_stand)"
      ],
      "execution_count": 0,
      "outputs": []
    },
    {
      "cell_type": "code",
      "metadata": {
        "colab_type": "code",
        "id": "7sqlNc8sigTy",
        "colab": {}
      },
      "source": [
        "Wt_test_list_stand"
      ],
      "execution_count": 0,
      "outputs": []
    },
    {
      "cell_type": "code",
      "metadata": {
        "id": "g6qLJ2t2jfQl",
        "colab_type": "code",
        "colab": {}
      },
      "source": [
        "np.mean(Wt_test_list_stand)"
      ],
      "execution_count": 0,
      "outputs": []
    },
    {
      "cell_type": "markdown",
      "metadata": {
        "colab_type": "text",
        "id": "w_wGqq6vigT9"
      },
      "source": [
        "Usando dati standardizzati e non il risultato del Welch’s t-test viene molto diverso."
      ]
    },
    {
      "cell_type": "markdown",
      "metadata": {
        "id": "Cwy68AWScls3",
        "colab_type": "text"
      },
      "source": [
        "#Casi per istologia"
      ]
    },
    {
      "cell_type": "markdown",
      "metadata": {
        "id": "WDQPG5jtfus8",
        "colab_type": "text"
      },
      "source": [
        "##Train set"
      ]
    },
    {
      "cell_type": "code",
      "metadata": {
        "id": "NxR_tFaxff8z",
        "colab_type": "code",
        "colab": {}
      },
      "source": [
        "df_train.Histology.unique()"
      ],
      "execution_count": 0,
      "outputs": []
    },
    {
      "cell_type": "code",
      "metadata": {
        "id": "t3ab2hW7cxtD",
        "colab_type": "code",
        "colab": {}
      },
      "source": [
        "list(df_train.Histology).count('adenocarcinoma')"
      ],
      "execution_count": 0,
      "outputs": []
    },
    {
      "cell_type": "code",
      "metadata": {
        "id": "x7TtqOnydkIM",
        "colab_type": "code",
        "colab": {}
      },
      "source": [
        "list(df_train.Histology).count('large cell')"
      ],
      "execution_count": 0,
      "outputs": []
    },
    {
      "cell_type": "code",
      "metadata": {
        "id": "Kh9ImJYFfpEs",
        "colab_type": "code",
        "colab": {}
      },
      "source": [
        "list(df_train.Histology).count('squamous cell carcinoma')"
      ],
      "execution_count": 0,
      "outputs": []
    },
    {
      "cell_type": "markdown",
      "metadata": {
        "id": "rzqO0Q1pf8Tm",
        "colab_type": "text"
      },
      "source": [
        "##Test set"
      ]
    },
    {
      "cell_type": "code",
      "metadata": {
        "id": "dupENa2ff7zN",
        "colab_type": "code",
        "colab": {}
      },
      "source": [
        "df_test.Histology.unique()"
      ],
      "execution_count": 0,
      "outputs": []
    },
    {
      "cell_type": "code",
      "metadata": {
        "id": "Gw0djbadf4lf",
        "colab_type": "code",
        "colab": {}
      },
      "source": [
        "list(df_test.Histology).count('adenocarcinoma')"
      ],
      "execution_count": 0,
      "outputs": []
    },
    {
      "cell_type": "code",
      "metadata": {
        "id": "HQHRah2IgFEx",
        "colab_type": "code",
        "colab": {}
      },
      "source": [
        "list(df_test.Histology).count('large cell')"
      ],
      "execution_count": 0,
      "outputs": []
    },
    {
      "cell_type": "code",
      "metadata": {
        "id": "ZDyrftDCgKws",
        "colab_type": "code",
        "colab": {}
      },
      "source": [
        "list(df_test.Histology).count('squamous cell carcinoma')"
      ],
      "execution_count": 0,
      "outputs": []
    },
    {
      "cell_type": "code",
      "metadata": {
        "id": "jpQOEd_LgPy6",
        "colab_type": "code",
        "colab": {}
      },
      "source": [
        "len(list(df_test.Histology))"
      ],
      "execution_count": 0,
      "outputs": []
    },
    {
      "cell_type": "code",
      "metadata": {
        "id": "jQxq4rGsgVAf",
        "colab_type": "code",
        "colab": {}
      },
      "source": [
        "47-10-20-4"
      ],
      "execution_count": 0,
      "outputs": []
    },
    {
      "cell_type": "markdown",
      "metadata": {
        "id": "ndj_VsWvRyRR",
        "colab_type": "text"
      },
      "source": [
        "#Confronto di medie e stdev per tutte le features tra dataset di train e datset di test "
      ]
    },
    {
      "cell_type": "code",
      "metadata": {
        "id": "hhdygB7VR94u",
        "colab_type": "code",
        "colab": {}
      },
      "source": [
        "df_train"
      ],
      "execution_count": 0,
      "outputs": []
    },
    {
      "cell_type": "code",
      "metadata": {
        "id": "FPbPzI_2SW8r",
        "colab_type": "code",
        "colab": {}
      },
      "source": [
        "train_data_bis = df_train.drop(['Histology', 'Overall_Stage'], axis=1)"
      ],
      "execution_count": 0,
      "outputs": []
    },
    {
      "cell_type": "code",
      "metadata": {
        "id": "ShwO_VvRTFzD",
        "colab_type": "code",
        "colab": {}
      },
      "source": [
        "test_data_bis = df_test.drop(['Histology', 'Overall_Stage'], axis=1)"
      ],
      "execution_count": 0,
      "outputs": []
    },
    {
      "cell_type": "code",
      "metadata": {
        "id": "hH8HIKzrTLaK",
        "colab_type": "code",
        "colab": {}
      },
      "source": [
        "mean_train_data = train_data_bis.mean()"
      ],
      "execution_count": 0,
      "outputs": []
    },
    {
      "cell_type": "code",
      "metadata": {
        "id": "JrcU7jeATtOl",
        "colab_type": "code",
        "colab": {}
      },
      "source": [
        "std_train_data = train_data_bis.std()"
      ],
      "execution_count": 0,
      "outputs": []
    },
    {
      "cell_type": "code",
      "metadata": {
        "id": "iAhgTp2tUOVM",
        "colab_type": "code",
        "colab": {}
      },
      "source": [
        "mean_test_data = test_data_bis.mean()"
      ],
      "execution_count": 0,
      "outputs": []
    },
    {
      "cell_type": "code",
      "metadata": {
        "id": "RARhyNHRV0Tz",
        "colab_type": "code",
        "colab": {}
      },
      "source": [
        "std_test_data = test_data_bis.std()"
      ],
      "execution_count": 0,
      "outputs": []
    },
    {
      "cell_type": "code",
      "metadata": {
        "id": "eIMl-tnrWF_N",
        "colab_type": "code",
        "colab": {}
      },
      "source": [
        "my_dict = {'mean_train_data': mean_train_data , 'std_train_data': std_train_data, \n",
        "           'mean_test_data': mean_test_data, 'std_test_data': std_test_data}"
      ],
      "execution_count": 0,
      "outputs": []
    },
    {
      "cell_type": "code",
      "metadata": {
        "id": "hIVG4zSYXIIp",
        "colab_type": "code",
        "colab": {}
      },
      "source": [
        "result = pd.DataFrame.from_dict(my_dict)"
      ],
      "execution_count": 0,
      "outputs": []
    },
    {
      "cell_type": "code",
      "metadata": {
        "id": "kzJsV27CafsE",
        "colab_type": "code",
        "colab": {}
      },
      "source": [
        "pd.set_option('display.max_rows', 500)\n",
        "pd.set_option('display.max_columns', 500)\n"
      ],
      "execution_count": 0,
      "outputs": []
    },
    {
      "cell_type": "code",
      "metadata": {
        "id": "pGm3qWx5XOzT",
        "colab_type": "code",
        "colab": {}
      },
      "source": [
        "result"
      ],
      "execution_count": 0,
      "outputs": []
    },
    {
      "cell_type": "markdown",
      "metadata": {
        "id": "lxKPKoE-o-dX",
        "colab_type": "text"
      },
      "source": [
        "#Visualize using PCA dati non standardizzati"
      ]
    },
    {
      "cell_type": "code",
      "metadata": {
        "id": "ZIpB-WqIrKH-",
        "colab_type": "code",
        "colab": {}
      },
      "source": [
        "from sklearn.decomposition import PCA\n",
        "import seaborn as sns"
      ],
      "execution_count": 0,
      "outputs": []
    },
    {
      "cell_type": "code",
      "metadata": {
        "id": "T1YCrOMP3_4q",
        "colab_type": "code",
        "colab": {}
      },
      "source": [
        "train_data = df_train.drop(['Histology', 'Surv_time_months', 'OS', 'Deadstatus_event','Overall_Stage'], axis=1)"
      ],
      "execution_count": 0,
      "outputs": []
    },
    {
      "cell_type": "code",
      "metadata": {
        "id": "BWj1mwjV4Mzo",
        "colab_type": "code",
        "colab": {}
      },
      "source": [
        "test_data = df_test.drop(['Histology', 'Surv_time_months', 'OS', 'Deadstatus_event','Overall_Stage'], axis=1)"
      ],
      "execution_count": 0,
      "outputs": []
    },
    {
      "cell_type": "code",
      "metadata": {
        "id": "dKdS4Low4PHh",
        "colab_type": "code",
        "colab": {}
      },
      "source": [
        "train_labels = df_train.Histology"
      ],
      "execution_count": 0,
      "outputs": []
    },
    {
      "cell_type": "code",
      "metadata": {
        "id": "K6EsAdEt4RNP",
        "colab_type": "code",
        "colab": {}
      },
      "source": [
        "test_labels = df_test.Histology"
      ],
      "execution_count": 0,
      "outputs": []
    },
    {
      "cell_type": "code",
      "metadata": {
        "id": "Uh9EMuVCrMnf",
        "colab_type": "code",
        "colab": {}
      },
      "source": [
        "pca = PCA(n_components=3)\n",
        "pca_result = pca.fit(train_data)\n",
        "train_data_pca = pca.transform(train_data)"
      ],
      "execution_count": 0,
      "outputs": []
    },
    {
      "cell_type": "code",
      "metadata": {
        "id": "EHE2G-D1shnz",
        "colab_type": "code",
        "colab": {}
      },
      "source": [
        "train_data_pca.shape"
      ],
      "execution_count": 0,
      "outputs": []
    },
    {
      "cell_type": "code",
      "metadata": {
        "id": "xmdQtUUZs20h",
        "colab_type": "code",
        "colab": {}
      },
      "source": [
        "type(pca_result)"
      ],
      "execution_count": 0,
      "outputs": []
    },
    {
      "cell_type": "code",
      "metadata": {
        "id": "0BlfedC3B8fr",
        "colab_type": "code",
        "colab": {}
      },
      "source": [
        "df = pd.DataFrame(train_data_pca, columns=['pca_one', 'pca_two', 'pca_three'])"
      ],
      "execution_count": 0,
      "outputs": []
    },
    {
      "cell_type": "code",
      "metadata": {
        "id": "NkQdocPwDbDq",
        "colab_type": "code",
        "colab": {}
      },
      "source": [
        "print('Explained variation per principal component: {}'.format(pca.explained_variance_ratio_))"
      ],
      "execution_count": 0,
      "outputs": []
    },
    {
      "cell_type": "markdown",
      "metadata": {
        "id": "uXWXFAHSEikE",
        "colab_type": "text"
      },
      "source": [
        "La prima componente ha il 96% della varianza dell'intero dataset??"
      ]
    },
    {
      "cell_type": "code",
      "metadata": {
        "id": "lSJtkbgIEVx4",
        "colab_type": "code",
        "colab": {}
      },
      "source": [
        "pca_bis=PCA(0.95)\n",
        "pca_result_bis = pca_bis.fit(train_data)\n",
        "train_data_pca_bis =  pca_bis.transform(train_data)"
      ],
      "execution_count": 0,
      "outputs": []
    },
    {
      "cell_type": "code",
      "metadata": {
        "id": "IUbQcOhAFMib",
        "colab_type": "code",
        "colab": {}
      },
      "source": [
        "train_data_pca_bis.shape"
      ],
      "execution_count": 0,
      "outputs": []
    },
    {
      "cell_type": "markdown",
      "metadata": {
        "id": "s6OJWl9qGlXc",
        "colab_type": "text"
      },
      "source": [
        "Qualcosa non torna, nelle prove fatte, imponendo di conservare il 95% della varianza, l'algoritmo selezionava 9 features. Cioè 9 componenti principali erano necessarie per esprimere il 95% della varianza del dataset. Ora solo la prima componente esprime il 96%. L'UNICA DIFFERENZA È CHE IN QUESTO CASO NON È STATO FATTO LO Z-SCORE.\n",
        "DOPO PROVO A FARE LE STESSE COSE CON I DATI STANDARDIZZATI."
      ]
    },
    {
      "cell_type": "markdown",
      "metadata": {
        "id": "MWylHy6cfGi9",
        "colab_type": "text"
      },
      "source": [
        "Una sola feature conserva il 95% della varianza."
      ]
    },
    {
      "cell_type": "markdown",
      "metadata": {
        "id": "lmVaYDX-Ha6V",
        "colab_type": "text"
      },
      "source": [
        "##Scatterplot"
      ]
    },
    {
      "cell_type": "markdown",
      "metadata": {
        "id": "iiRfsfw1Hdjz",
        "colab_type": "text"
      },
      "source": [
        "Creiamo uno scatter plot della prima e della seconda componente principale, usiamo colori diversi per le diverse istologie."
      ]
    },
    {
      "cell_type": "code",
      "metadata": {
        "id": "BsgDih9QFY-p",
        "colab_type": "code",
        "colab": {}
      },
      "source": [
        "plt.figure(figsize=(16, 10))\n",
        "sns.scatterplot(x=df.pca_one, y=df.pca_two, hue=train_labels, \n",
        "                palette=sns.color_palette('hls', 3), legend='full')"
      ],
      "execution_count": 0,
      "outputs": []
    },
    {
      "cell_type": "markdown",
      "metadata": {
        "id": "UBVaSwccNEiK",
        "colab_type": "text"
      },
      "source": [
        "###Scatterplot 3D"
      ]
    },
    {
      "cell_type": "code",
      "metadata": {
        "id": "DnGGcxoMOkFt",
        "colab_type": "code",
        "colab": {}
      },
      "source": [
        "from mpl_toolkits.mplot3d import Axes3D"
      ],
      "execution_count": 0,
      "outputs": []
    },
    {
      "cell_type": "code",
      "metadata": {
        "id": "LvwUr2urOoit",
        "colab_type": "code",
        "colab": {}
      },
      "source": [
        "np.random.seed(42)\n",
        "rndperm = np.random.permutation(df.shape[0])"
      ],
      "execution_count": 0,
      "outputs": []
    },
    {
      "cell_type": "code",
      "metadata": {
        "id": "qkfKvRgONEPh",
        "colab_type": "code",
        "colab": {}
      },
      "source": [
        "ax = plt.figure(figsize=(16,10)).gca(projection='3d')\n",
        "ax.scatter(xs=df.pca_one, ys=df.pca_two, zs=df.pca_three, cmap='tab3')\n",
        "ax.set_xlabel('pca-one')\n",
        "ax.set_ylabel('pca-two')\n",
        "ax.set_zlabel('pca-three')\n",
        "plt.show()"
      ],
      "execution_count": 0,
      "outputs": []
    },
    {
      "cell_type": "markdown",
      "metadata": {
        "colab_type": "text",
        "id": "PJdEKAIX_GpO"
      },
      "source": [
        "#Visualize using LDA dati non standardizzati"
      ]
    },
    {
      "cell_type": "code",
      "metadata": {
        "colab_type": "code",
        "id": "0A0ubJJp_GpT",
        "colab": {}
      },
      "source": [
        "from sklearn.discriminant_analysis import LinearDiscriminantAnalysis\n",
        "import seaborn as sns"
      ],
      "execution_count": 0,
      "outputs": []
    },
    {
      "cell_type": "code",
      "metadata": {
        "colab_type": "code",
        "id": "o1whW6ct_Gpj",
        "colab": {}
      },
      "source": [
        "train_data = df_train.drop(['Histology', 'Surv_time_months', 'OS', 'Deadstatus_event','Overall_Stage'], axis=1)"
      ],
      "execution_count": 0,
      "outputs": []
    },
    {
      "cell_type": "code",
      "metadata": {
        "colab_type": "code",
        "id": "F3vrg3OD_Gpr",
        "colab": {}
      },
      "source": [
        "test_data = df_test.drop(['Histology', 'Surv_time_months', 'OS', 'Deadstatus_event','Overall_Stage'], axis=1)"
      ],
      "execution_count": 0,
      "outputs": []
    },
    {
      "cell_type": "code",
      "metadata": {
        "colab_type": "code",
        "id": "j5y5ucil_Gpy",
        "colab": {}
      },
      "source": [
        "train_labels = df_train.Histology"
      ],
      "execution_count": 0,
      "outputs": []
    },
    {
      "cell_type": "code",
      "metadata": {
        "colab_type": "code",
        "id": "_cdsCdre_Gp6",
        "colab": {}
      },
      "source": [
        "test_labels = df_test.Histology"
      ],
      "execution_count": 0,
      "outputs": []
    },
    {
      "cell_type": "code",
      "metadata": {
        "colab_type": "code",
        "id": "glySWGy7_Gp_",
        "colab": {}
      },
      "source": [
        "lda = LinearDiscriminantAnalysis()\n",
        "lda_result = lda.fit(train_data, train_labels)\n",
        "train_data_lda = lda.transform(train_data)"
      ],
      "execution_count": 0,
      "outputs": []
    },
    {
      "cell_type": "code",
      "metadata": {
        "colab_type": "code",
        "id": "hZ5ciB9r_GqF",
        "colab": {}
      },
      "source": [
        "train_data_lda.shape"
      ],
      "execution_count": 0,
      "outputs": []
    },
    {
      "cell_type": "code",
      "metadata": {
        "colab_type": "code",
        "id": "mby4EAg7_GqM",
        "colab": {}
      },
      "source": [
        "type(lda_result)"
      ],
      "execution_count": 0,
      "outputs": []
    },
    {
      "cell_type": "code",
      "metadata": {
        "colab_type": "code",
        "id": "cnTE_6aK_GqS",
        "colab": {}
      },
      "source": [
        "df = pd.DataFrame(train_data_lda, columns=['lda_one', 'lda_two'])"
      ],
      "execution_count": 0,
      "outputs": []
    },
    {
      "cell_type": "code",
      "metadata": {
        "colab_type": "code",
        "id": "N8TUWH9L_GqX",
        "colab": {}
      },
      "source": [
        "df"
      ],
      "execution_count": 0,
      "outputs": []
    },
    {
      "cell_type": "code",
      "metadata": {
        "colab_type": "code",
        "id": "slXOZJdz_Gqd",
        "colab": {}
      },
      "source": [
        "print('Explained variation per principal component: {}'.format(lda.explained_variance_ratio_))"
      ],
      "execution_count": 0,
      "outputs": []
    },
    {
      "cell_type": "markdown",
      "metadata": {
        "colab_type": "text",
        "id": "Tb76rtVy_Gqi"
      },
      "source": [
        "La prima componente ha il 65% della varianza dell'intero dataset, la seconda il 35%"
      ]
    },
    {
      "cell_type": "markdown",
      "metadata": {
        "colab_type": "text",
        "id": "q0NIGcL2_Gqw"
      },
      "source": [
        "##Scatterplot"
      ]
    },
    {
      "cell_type": "markdown",
      "metadata": {
        "colab_type": "text",
        "id": "IHGmwB3G_Gqx"
      },
      "source": [
        "Creiamo uno scatter plot della prima e della seconda componente principale, usiamo colori diversi per le diverse istologie."
      ]
    },
    {
      "cell_type": "code",
      "metadata": {
        "colab_type": "code",
        "id": "wUcGKdcT_Gqy",
        "colab": {}
      },
      "source": [
        "plt.figure(figsize=(16, 10))\n",
        "sns.scatterplot(x=df.lda_one, y=df.lda_two, hue=train_labels, \n",
        "                palette=sns.color_palette('hls', 3), legend='full')"
      ],
      "execution_count": 0,
      "outputs": []
    },
    {
      "cell_type": "markdown",
      "metadata": {
        "id": "G9XRkmG00DTM",
        "colab_type": "text"
      },
      "source": [
        "#Visualize using QDA (Quadratic Discriminant Analysis) dati non standardizzati"
      ]
    },
    {
      "cell_type": "code",
      "metadata": {
        "colab_type": "code",
        "id": "4wmo-hS60sdM",
        "colab": {}
      },
      "source": [
        "from sklearn.discriminant_analysis import QuadraticDiscriminantAnalysis\n",
        "import seaborn as sns"
      ],
      "execution_count": 0,
      "outputs": []
    },
    {
      "cell_type": "code",
      "metadata": {
        "colab_type": "code",
        "id": "jmNbLZ8g0sdc",
        "colab": {}
      },
      "source": [
        "train_data = df_train.drop(['Histology', 'Surv_time_months', 'OS', 'Deadstatus_event','Overall_Stage'], axis=1)"
      ],
      "execution_count": 0,
      "outputs": []
    },
    {
      "cell_type": "code",
      "metadata": {
        "colab_type": "code",
        "id": "nBXz41-q0sdo",
        "colab": {}
      },
      "source": [
        "test_data = df_test.drop(['Histology', 'Surv_time_months', 'OS', 'Deadstatus_event','Overall_Stage'], axis=1)"
      ],
      "execution_count": 0,
      "outputs": []
    },
    {
      "cell_type": "code",
      "metadata": {
        "colab_type": "code",
        "id": "nOYDUcv_0sdy",
        "colab": {}
      },
      "source": [
        "train_labels = df_train.Histology"
      ],
      "execution_count": 0,
      "outputs": []
    },
    {
      "cell_type": "code",
      "metadata": {
        "colab_type": "code",
        "id": "FJmc1_K-0sd7",
        "colab": {}
      },
      "source": [
        "test_labels = df_test.Histology"
      ],
      "execution_count": 0,
      "outputs": []
    },
    {
      "cell_type": "code",
      "metadata": {
        "colab_type": "code",
        "id": "38cbFHmN0seD",
        "colab": {}
      },
      "source": [
        "qda = QuadraticDiscriminantAnalysis()\n",
        "qda_result = qda.fit(train_data, train_labels)\n",
        "train_data_qda = qda.predict(train_data)"
      ],
      "execution_count": 0,
      "outputs": []
    },
    {
      "cell_type": "code",
      "metadata": {
        "colab_type": "code",
        "id": "m_0kB9Pk0seK",
        "colab": {}
      },
      "source": [
        "train_data_qda.shape"
      ],
      "execution_count": 0,
      "outputs": []
    },
    {
      "cell_type": "code",
      "metadata": {
        "colab_type": "code",
        "id": "yiL-R5wa0seS",
        "colab": {}
      },
      "source": [
        "type(qda_result)"
      ],
      "execution_count": 0,
      "outputs": []
    },
    {
      "cell_type": "code",
      "metadata": {
        "colab_type": "code",
        "id": "Jt0tFSEE0seh",
        "colab": {}
      },
      "source": [
        "df"
      ],
      "execution_count": 0,
      "outputs": []
    },
    {
      "cell_type": "code",
      "metadata": {
        "colab_type": "code",
        "id": "hIoAt02c0seq",
        "colab": {}
      },
      "source": [
        "print('Explained variation per principal component: {}'.format(lda.explained_variance_ratio_))"
      ],
      "execution_count": 0,
      "outputs": []
    },
    {
      "cell_type": "markdown",
      "metadata": {
        "colab_type": "text",
        "id": "ul9cdOFe0sey"
      },
      "source": [
        "La prima componente ha il 65% della varianza dell'intero dataset, la seconda il 35%"
      ]
    },
    {
      "cell_type": "markdown",
      "metadata": {
        "id": "94p7tYQ4PrEj",
        "colab_type": "text"
      },
      "source": [
        "#Visualize using t-SNE dati non standardizzati"
      ]
    },
    {
      "cell_type": "markdown",
      "metadata": {
        "id": "4G3yuG-CP9Pw",
        "colab_type": "text"
      },
      "source": [
        " Contrary to PCA it is not a mathematical technique but a probablistic one"
      ]
    },
    {
      "cell_type": "markdown",
      "metadata": {
        "id": "hNqSGW0IP-P4",
        "colab_type": "text"
      },
      "source": [
        "t-Distributed stochastic neighbor embedding (t-SNE) minimizes the divergence between two distributions: a distribution that measures pairwise similarities of the input objects and a distribution that measures pairwise similarities of the corresponding low-dimensional points in the embedding."
      ]
    },
    {
      "cell_type": "markdown",
      "metadata": {
        "id": "iQFNPWDlRghG",
        "colab_type": "text"
      },
      "source": [
        "In case of very high dimensional data, you may need to apply another dimensionality reduction technique before using t-SNE:\n",
        "**It is highly recommended to use another dimensionality reduction\n",
        "method (e.g. PCA for dense data or TruncatedSVD for sparse data)\n",
        "to reduce the number of dimensions to a reasonable amount (e.g. 50)\n",
        "if the number of features is very high.** "
      ]
    },
    {
      "cell_type": "markdown",
      "metadata": {
        "id": "nLp25x-kWN9E",
        "colab_type": "text"
      },
      "source": [
        "##t-SNE senza applicare prima PCA\n",
        "\n",
        "> Indented block\n",
        "\n"
      ]
    },
    {
      "cell_type": "code",
      "metadata": {
        "id": "4p07ePqLJvha",
        "colab_type": "code",
        "colab": {}
      },
      "source": [
        "from sklearn.manifold import TSNE"
      ],
      "execution_count": 0,
      "outputs": []
    },
    {
      "cell_type": "code",
      "metadata": {
        "id": "3h41-IvjSiNE",
        "colab_type": "code",
        "colab": {}
      },
      "source": [
        "tsne = TSNE(n_components=2, verbose=1, perplexity=30, n_iter=1000)\n",
        "tsne_result = tsne.fit_transform(train_data)"
      ],
      "execution_count": 0,
      "outputs": []
    },
    {
      "cell_type": "code",
      "metadata": {
        "id": "OKGvhIhZUIgV",
        "colab_type": "code",
        "colab": {}
      },
      "source": [
        "tsne_result.shape"
      ],
      "execution_count": 0,
      "outputs": []
    },
    {
      "cell_type": "code",
      "metadata": {
        "id": "jJh6WgHYXXTL",
        "colab_type": "code",
        "colab": {}
      },
      "source": [
        "df_tsne_2D = pd.DataFrame(tsne_result, columns=['tnse_2D_one', 'tnse_2D_two'])"
      ],
      "execution_count": 0,
      "outputs": []
    },
    {
      "cell_type": "code",
      "metadata": {
        "id": "ev4pE5HIUX5Q",
        "colab_type": "code",
        "colab": {}
      },
      "source": [
        "plt.figure(figsize=(16,10))\n",
        "sns.scatterplot(x=df_tsne_2D.tnse_2D_one, y=df_tsne_2D.tnse_2D_two, hue=train_labels,\n",
        "    palette=sns.color_palette(\"bright\", 3), legend=\"full\")"
      ],
      "execution_count": 0,
      "outputs": []
    },
    {
      "cell_type": "markdown",
      "metadata": {
        "id": "a8KHdR28YW6Y",
        "colab_type": "text"
      },
      "source": [
        "##t-SNE applicando prima PCA\n"
      ]
    },
    {
      "cell_type": "code",
      "metadata": {
        "id": "Lslu48RyYV9H",
        "colab_type": "code",
        "colab": {}
      },
      "source": [
        "pca_50 = PCA(n_components=50)\n",
        "pca_result = pca_50.fit(train_data)\n",
        "train_data_pca_50 = pca.transform(train_data)"
      ],
      "execution_count": 0,
      "outputs": []
    },
    {
      "cell_type": "code",
      "metadata": {
        "id": "XUex3gAEUzcn",
        "colab_type": "code",
        "colab": {}
      },
      "source": [
        "print('Cumulative explained variation for 50 principal components: {}'.format(np.sum(pca_50.explained_variance_ratio_)))"
      ],
      "execution_count": 0,
      "outputs": []
    },
    {
      "cell_type": "markdown",
      "metadata": {
        "id": "KCv7OvN3Y-BO",
        "colab_type": "text"
      },
      "source": [
        "Le prime 50 componenti esprimono in pratica il 100% della varianza del dataset. Sappiamo che in realtà ne sono sufficinti molte meno per ottenere quella copertura."
      ]
    },
    {
      "cell_type": "code",
      "metadata": {
        "colab_type": "code",
        "id": "pd1xvvIIZVL3",
        "colab": {}
      },
      "source": [
        "tsne = TSNE(n_components=2, verbose=1, perplexity=30, n_iter=1000)\n",
        "tsne_result = tsne.fit_transform(train_data_pca_50)"
      ],
      "execution_count": 0,
      "outputs": []
    },
    {
      "cell_type": "code",
      "metadata": {
        "id": "A4U490UMYz2A",
        "colab_type": "code",
        "colab": {}
      },
      "source": [
        "df_tsne_2D_pca = pd.DataFrame(tsne_result, columns=['tnse_pca_2D_one', 'tnse_pca_2D_two'])"
      ],
      "execution_count": 0,
      "outputs": []
    },
    {
      "cell_type": "code",
      "metadata": {
        "colab_type": "code",
        "id": "xonFxJ11ZwGw",
        "colab": {}
      },
      "source": [
        "plt.figure(figsize=(16,10))\n",
        "sns.scatterplot(x=df_tsne_2D_pca.tnse_pca_2D_one, y=df_tsne_2D_pca.tnse_pca_2D_two, hue=train_labels,\n",
        "    palette=sns.color_palette(\"bright\", 3), legend=\"full\")"
      ],
      "execution_count": 0,
      "outputs": []
    },
    {
      "cell_type": "markdown",
      "metadata": {
        "id": "KKFEyCtNbass",
        "colab_type": "text"
      },
      "source": [
        "#Visualize standardizzando prima i dati"
      ]
    },
    {
      "cell_type": "markdown",
      "metadata": {
        "id": "dtPx7PMDnXM3",
        "colab_type": "text"
      },
      "source": [
        "##Z score dei dati"
      ]
    },
    {
      "cell_type": "code",
      "metadata": {
        "id": "XK4Qji2EnVV4",
        "colab_type": "code",
        "colab": {}
      },
      "source": [
        "mean = train_data.mean(axis=0)\n",
        "train_data_stand = train_data - mean\n",
        "std = train_data.std(axis=0)\n",
        "train_data_stand /= std"
      ],
      "execution_count": 0,
      "outputs": []
    },
    {
      "cell_type": "code",
      "metadata": {
        "id": "y2qmMZ1lEWjB",
        "colab_type": "code",
        "colab": {}
      },
      "source": [
        "train_data-mean"
      ],
      "execution_count": 0,
      "outputs": []
    },
    {
      "cell_type": "code",
      "metadata": {
        "id": "YOVOoNOvm0Yx",
        "colab_type": "code",
        "colab": {}
      },
      "source": [
        "test_data_stand = test_data - mean\n",
        "test_data_stand /= std"
      ],
      "execution_count": 0,
      "outputs": []
    },
    {
      "cell_type": "code",
      "metadata": {
        "id": "__2Y4w4vb7zr",
        "colab_type": "code",
        "colab": {}
      },
      "source": [
        "train_data_stand.shape"
      ],
      "execution_count": 0,
      "outputs": []
    },
    {
      "cell_type": "code",
      "metadata": {
        "id": "5Ki2M8srFJpt",
        "colab_type": "code",
        "colab": {}
      },
      "source": [
        "test_data_stand"
      ],
      "execution_count": 0,
      "outputs": []
    },
    {
      "cell_type": "markdown",
      "metadata": {
        "colab_type": "text",
        "id": "zCa1LwxecRos"
      },
      "source": [
        "##Visualize using PCA"
      ]
    },
    {
      "cell_type": "code",
      "metadata": {
        "colab_type": "code",
        "id": "KEILqWmlcRp1",
        "colab": {}
      },
      "source": [
        "pca = PCA(n_components=3)\n",
        "pca_result = pca.fit(train_data_stand)\n",
        "train_data_pca_stand = pca.transform(train_data_stand)"
      ],
      "execution_count": 0,
      "outputs": []
    },
    {
      "cell_type": "code",
      "metadata": {
        "colab_type": "code",
        "id": "pGZmVTTKcRp9",
        "colab": {}
      },
      "source": [
        "train_data_pca_stand.shape"
      ],
      "execution_count": 0,
      "outputs": []
    },
    {
      "cell_type": "code",
      "metadata": {
        "colab_type": "code",
        "id": "22VcGsk9cRqH",
        "colab": {}
      },
      "source": [
        "type(pca_result)"
      ],
      "execution_count": 0,
      "outputs": []
    },
    {
      "cell_type": "code",
      "metadata": {
        "colab_type": "code",
        "id": "1rC9Bc3DcRqR",
        "colab": {}
      },
      "source": [
        "df = pd.DataFrame(train_data_pca_stand, columns=['pca_one_stand', 'pca_two_stand', 'pca_three_stand'])"
      ],
      "execution_count": 0,
      "outputs": []
    },
    {
      "cell_type": "code",
      "metadata": {
        "colab_type": "code",
        "id": "707XRaVGcRqc",
        "colab": {}
      },
      "source": [
        "df"
      ],
      "execution_count": 0,
      "outputs": []
    },
    {
      "cell_type": "code",
      "metadata": {
        "colab_type": "code",
        "id": "EI85n4rycRqp",
        "colab": {}
      },
      "source": [
        "print('Explained variation per principal component: {}'.format(pca.explained_variance_ratio_))"
      ],
      "execution_count": 0,
      "outputs": []
    },
    {
      "cell_type": "markdown",
      "metadata": {
        "colab_type": "text",
        "id": "JtF0n5NHcRq8"
      },
      "source": [
        "La prima componente ha il 45% della varianza dell'intero dataset\n",
        "\n"
      ]
    },
    {
      "cell_type": "code",
      "metadata": {
        "colab_type": "code",
        "id": "nbFHKGkacRrA",
        "colab": {}
      },
      "source": [
        "pca_bis=PCA(n_components=0.90, svd_solver='full')\n",
        "pca_result_bis = pca_bis.fit(train_data_stand)\n",
        "train_data_pca_bis_stand =  pca_bis.transform(train_data_stand)"
      ],
      "execution_count": 0,
      "outputs": []
    },
    {
      "cell_type": "code",
      "metadata": {
        "colab_type": "code",
        "id": "i4mRmSFScRrG",
        "colab": {}
      },
      "source": [
        "train_data_pca_bis_stand.shape"
      ],
      "execution_count": 0,
      "outputs": []
    },
    {
      "cell_type": "markdown",
      "metadata": {
        "colab_type": "text",
        "id": "eehXXwu8cRrS"
      },
      "source": [
        "TORNA! Imponendo di conservare il 90% della varianza, l'algoritmo seleziona 9 features. Cioè 9 componenti principali erano necessarie per esprimere il 90% della varianza del dataset. \n",
        "L'UNICA DIFFERENZA È CHE IN QUESTO CASO NON È STATO FATTO LO Z-SCORE.\n",
        "DOPO PROVO A FARE LE STESSE COSE CON I DATI STANDARDIZZATI."
      ]
    },
    {
      "cell_type": "markdown",
      "metadata": {
        "colab_type": "text",
        "id": "tMYB81svB1wp"
      },
      "source": [
        "Creiamo uno scatter plot della prima e della seconda componente principale, usiamo colori diversi per le diverse istologie."
      ]
    },
    {
      "cell_type": "markdown",
      "metadata": {
        "colab_type": "text",
        "id": "tpvI4lDVcRrW"
      },
      "source": [
        "###Scatterplot PCA"
      ]
    },
    {
      "cell_type": "markdown",
      "metadata": {
        "colab_type": "text",
        "id": "EoEMToOlcRra"
      },
      "source": [
        "Creiamo uno scatter plot della prima e della seconda componente principale, usiamo colori diversi per le diverse istologie."
      ]
    },
    {
      "cell_type": "code",
      "metadata": {
        "colab_type": "code",
        "id": "w2_mu0CgcRrf",
        "colab": {}
      },
      "source": [
        "plt.figure(figsize=(16, 10))\n",
        "sns.scatterplot(x=df.pca_one_stand, y=df.pca_two_stand, hue=train_labels, \n",
        "                palette=sns.color_palette('hls', 3), legend='full')"
      ],
      "execution_count": 0,
      "outputs": []
    },
    {
      "cell_type": "markdown",
      "metadata": {
        "colab_type": "text",
        "id": "4fwhUErRcRrm"
      },
      "source": [
        "###Scatterplot 3D PCA"
      ]
    },
    {
      "cell_type": "code",
      "metadata": {
        "colab_type": "code",
        "id": "OJptezlncRro",
        "colab": {}
      },
      "source": [
        "from mpl_toolkits.mplot3d import Axes3D"
      ],
      "execution_count": 0,
      "outputs": []
    },
    {
      "cell_type": "code",
      "metadata": {
        "colab_type": "code",
        "id": "NeHv8OyHcRrt",
        "colab": {}
      },
      "source": [
        "np.random.seed(42)\n",
        "rndperm = np.random.permutation(df.shape[0])"
      ],
      "execution_count": 0,
      "outputs": []
    },
    {
      "cell_type": "code",
      "metadata": {
        "colab_type": "code",
        "id": "FyZgxH6vcRr1",
        "colab": {}
      },
      "source": [
        "ax = plt.figure(figsize=(16,10)).gca(projection='3d')\n",
        "ax.scatter(xs=df.pca_one_stand, ys=df.pca_two_stand, zs=df.pca_three_stand, cmap='tab3')\n",
        "ax.set_xlabel('pca-one')\n",
        "ax.set_ylabel('pca-two')\n",
        "ax.set_zlabel('pca-three')\n",
        "plt.show()"
      ],
      "execution_count": 0,
      "outputs": []
    },
    {
      "cell_type": "markdown",
      "metadata": {
        "colab_type": "text",
        "id": "Uloyumg-B1vN"
      },
      "source": [
        "##Visualize using LDA"
      ]
    },
    {
      "cell_type": "code",
      "metadata": {
        "colab_type": "code",
        "id": "rB0ne0RYB1wE",
        "colab": {}
      },
      "source": [
        "lda_stand = LinearDiscriminantAnalysis()\n",
        "lda_result = lda_stand.fit(train_data_stand, train_labels)\n",
        "train_data_lda_stand = lda_stand.transform(train_data_stand)"
      ],
      "execution_count": 0,
      "outputs": []
    },
    {
      "cell_type": "code",
      "metadata": {
        "colab_type": "code",
        "id": "AGqYTFwsB1wK",
        "colab": {}
      },
      "source": [
        "train_data_lda_stand.shape"
      ],
      "execution_count": 0,
      "outputs": []
    },
    {
      "cell_type": "code",
      "metadata": {
        "colab_type": "code",
        "id": "unHHaGudB1wQ",
        "colab": {}
      },
      "source": [
        "type(lda_result)"
      ],
      "execution_count": 0,
      "outputs": []
    },
    {
      "cell_type": "code",
      "metadata": {
        "colab_type": "code",
        "id": "HlpzDa0rB1wV",
        "colab": {}
      },
      "source": [
        "df_stand = pd.DataFrame(train_data_lda_stand, columns=['lda_one', 'lda_two'])"
      ],
      "execution_count": 0,
      "outputs": []
    },
    {
      "cell_type": "code",
      "metadata": {
        "colab_type": "code",
        "id": "8VNswnYuB1wb",
        "colab": {}
      },
      "source": [
        "df_stand"
      ],
      "execution_count": 0,
      "outputs": []
    },
    {
      "cell_type": "markdown",
      "metadata": {
        "id": "R6wCOH-XzfNW",
        "colab_type": "text"
      },
      "source": [
        "Le componenti lda_one e lda_two non cambiano standardizzando i dati oppure no."
      ]
    },
    {
      "cell_type": "code",
      "metadata": {
        "colab_type": "code",
        "id": "QRUtPD10B1wh",
        "colab": {}
      },
      "source": [
        "print('Explained variation per principal component: {}'.format(lda.explained_variance_ratio_))"
      ],
      "execution_count": 0,
      "outputs": []
    },
    {
      "cell_type": "markdown",
      "metadata": {
        "colab_type": "text",
        "id": "UGrC5BoWB1wm"
      },
      "source": [
        "La prima componente ha il 65% della varianza dell'intero dataset, la seconda il 35%"
      ]
    },
    {
      "cell_type": "markdown",
      "metadata": {
        "colab_type": "text",
        "id": "IU0aLYGcB1wn"
      },
      "source": [
        "###Scatterplot LDA"
      ]
    },
    {
      "cell_type": "code",
      "metadata": {
        "colab_type": "code",
        "id": "EE2xwF7cB1wr",
        "colab": {}
      },
      "source": [
        "plt.figure(figsize=(16, 10))\n",
        "sns.scatterplot(x=df_stand.lda_one, y=df_stand.lda_two, hue=train_labels, \n",
        "                palette=sns.color_palette('hls', 3), legend='full')"
      ],
      "execution_count": 0,
      "outputs": []
    },
    {
      "cell_type": "markdown",
      "metadata": {
        "colab_type": "text",
        "id": "2--VMVJvgy7B"
      },
      "source": [
        "##Visualize using t-SNE"
      ]
    },
    {
      "cell_type": "markdown",
      "metadata": {
        "colab_type": "text",
        "id": "TFKll8Zxgy7f"
      },
      "source": [
        "###t-SNE senza applicare prima PCA su dati standardizzati\n",
        "\n"
      ]
    },
    {
      "cell_type": "code",
      "metadata": {
        "colab_type": "code",
        "id": "6Ki0Nf9Bgy7j",
        "colab": {}
      },
      "source": [
        "from sklearn.manifold import TSNE"
      ],
      "execution_count": 0,
      "outputs": []
    },
    {
      "cell_type": "code",
      "metadata": {
        "colab_type": "code",
        "id": "L_DvVJQSgy7v",
        "colab": {}
      },
      "source": [
        "tsne = TSNE(n_components=2, verbose=1, perplexity=30, n_iter=1000)\n",
        "tsne_result_stand = tsne.fit_transform(train_data_stand)"
      ],
      "execution_count": 0,
      "outputs": []
    },
    {
      "cell_type": "code",
      "metadata": {
        "colab_type": "code",
        "id": "R4T8e9x6gy75",
        "colab": {}
      },
      "source": [
        "tsne_result_stand.shape"
      ],
      "execution_count": 0,
      "outputs": []
    },
    {
      "cell_type": "code",
      "metadata": {
        "colab_type": "code",
        "id": "sbTgR6Imgy8E",
        "colab": {}
      },
      "source": [
        "df_tsne_2D_stand = pd.DataFrame(tsne_result_stand, columns=['tnse_2D_one_stand', 'tnse_2D_two_stand'])"
      ],
      "execution_count": 0,
      "outputs": []
    },
    {
      "cell_type": "code",
      "metadata": {
        "colab_type": "code",
        "id": "6V0YWztfhSGy",
        "colab": {}
      },
      "source": [
        "plt.figure(figsize=(16,10))\n",
        "sns.scatterplot(x=df_tsne_2D_stand.tnse_2D_one_stand, y=df_tsne_2D_stand.tnse_2D_two_stand, hue=train_labels,\n",
        "    palette=sns.color_palette(\"bright\", 3), legend=\"full\")"
      ],
      "execution_count": 0,
      "outputs": []
    },
    {
      "cell_type": "markdown",
      "metadata": {
        "colab_type": "text",
        "id": "aZEwM7ADhSG2"
      },
      "source": [
        "###t-SNE applicando prima PCA ai dati standardizzati\n"
      ]
    },
    {
      "cell_type": "code",
      "metadata": {
        "colab_type": "code",
        "id": "7VVB0ehshSG4",
        "colab": {}
      },
      "source": [
        "pca_50_stand = PCA(n_components=50)\n",
        "pca_result = pca_50_stand.fit(train_data_stand)\n",
        "train_data_pca_50_stand = pca_50_stand.transform(train_data_stand)"
      ],
      "execution_count": 0,
      "outputs": []
    },
    {
      "cell_type": "code",
      "metadata": {
        "colab_type": "code",
        "id": "jk1sQF_PhSG7",
        "colab": {}
      },
      "source": [
        "print('Cumulative explained variation for 50 principal components: {}'.format(np.sum(pca_50.explained_variance_ratio_)))"
      ],
      "execution_count": 0,
      "outputs": []
    },
    {
      "cell_type": "markdown",
      "metadata": {
        "colab_type": "text",
        "id": "sEEUMUO0hSHB"
      },
      "source": [
        "Le prime 50 componenti esprimono in pratica il 100% della varianza del dataset. Sappiamo che in realtà ne sono sufficinti molte meno per ottenere quella copertura."
      ]
    },
    {
      "cell_type": "code",
      "metadata": {
        "colab_type": "code",
        "id": "TAAETjFNhSHF",
        "colab": {}
      },
      "source": [
        "tsne = TSNE(n_components=2, verbose=1, perplexity=30, n_iter=1000)\n",
        "tsne_result = tsne.fit_transform(train_data_pca_50_stand)"
      ],
      "execution_count": 0,
      "outputs": []
    },
    {
      "cell_type": "code",
      "metadata": {
        "colab_type": "code",
        "id": "2hxIe5ZAhSHJ",
        "colab": {}
      },
      "source": [
        "df_tsne_2D_pca_stand = pd.DataFrame(tsne_result, columns=['tnse_pca_2D_one_stand', 'tnse_pca_2D_two_stand'])"
      ],
      "execution_count": 0,
      "outputs": []
    },
    {
      "cell_type": "code",
      "metadata": {
        "colab_type": "code",
        "id": "7-NtpkTwhSHO",
        "colab": {}
      },
      "source": [
        "plt.figure(figsize=(16,10))\n",
        "sns.scatterplot(x=df_tsne_2D_pca_stand.tnse_pca_2D_one_stand, y=df_tsne_2D_pca_stand.tnse_pca_2D_two_stand, hue=train_labels,\n",
        "    palette=sns.color_palette(\"bright\", 3), legend=\"full\")"
      ],
      "execution_count": 0,
      "outputs": []
    },
    {
      "cell_type": "markdown",
      "metadata": {
        "id": "dZQL82NZxhry",
        "colab_type": "text"
      },
      "source": [
        "#Remove correlated features"
      ]
    },
    {
      "cell_type": "markdown",
      "metadata": {
        "id": "IFzRuUd5xt5C",
        "colab_type": "text"
      },
      "source": [
        "Remove correlated features using https://www.kaggle.com/nuclear/remove-correlated-features"
      ]
    },
    {
      "cell_type": "code",
      "metadata": {
        "id": "MhYkPVcY0SVB",
        "colab_type": "code",
        "colab": {}
      },
      "source": [
        "from itertools import chain"
      ],
      "execution_count": 0,
      "outputs": []
    },
    {
      "cell_type": "code",
      "metadata": {
        "id": "8MwtUNatxnw5",
        "colab_type": "code",
        "colab": {}
      },
      "source": [
        "correlation_threshold = 0.50 # can be switched. Default value 0.99\n",
        "\n",
        "cor = train_data.corr().abs()\n",
        "cor.loc[:,:] =  np.tril(cor, k=-1)\n",
        "cor = cor.stack()\n",
        "correlated = cor[cor > correlation_threshold].reset_index().loc[:,['level_0','level_1']]\n",
        "correlated = correlated.query('level_0 not in level_1')\n",
        "correlated_array =  correlated.groupby('level_0').agg(lambda x: set(chain(x.level_0,x.level_1))).values\n",
        "correlated_array"
      ],
      "execution_count": 0,
      "outputs": []
    },
    {
      "cell_type": "code",
      "metadata": {
        "id": "jBdT-W330H6-",
        "colab_type": "code",
        "colab": {}
      },
      "source": [
        "correlated_features = []\n",
        "for sets in correlated_array:\n",
        "    element_list = list(sets[0])\n",
        "    for idx, el in enumerate(element_list):\n",
        "        if idx is not 0:\n",
        "            correlated_features.append(el)\n",
        "#correlated_features.sort(key = lambda x: int(x[1:]) )\n",
        "correlated_features"
      ],
      "execution_count": 0,
      "outputs": []
    },
    {
      "cell_type": "code",
      "metadata": {
        "id": "NTaWZi0h19dH",
        "colab_type": "code",
        "colab": {}
      },
      "source": [
        "len(correlated_features)"
      ],
      "execution_count": 0,
      "outputs": []
    },
    {
      "cell_type": "code",
      "metadata": {
        "id": "FMhADL9b2Mgz",
        "colab_type": "code",
        "colab": {}
      },
      "source": [
        "non_cor_train_df = train_data.drop(correlated_features, axis=1 )\n",
        "non_cor_train_df.shape"
      ],
      "execution_count": 0,
      "outputs": []
    },
    {
      "cell_type": "code",
      "metadata": {
        "id": "T7lqP9hk2SCT",
        "colab_type": "code",
        "colab": {}
      },
      "source": [
        "non_cor_train_df.corr()"
      ],
      "execution_count": 0,
      "outputs": []
    },
    {
      "cell_type": "markdown",
      "metadata": {
        "id": "yzxpDotrHyh1",
        "colab_type": "text"
      },
      "source": [
        "Perchè rimangono features più correlate del valore di treshold?"
      ]
    },
    {
      "cell_type": "markdown",
      "metadata": {
        "id": "vJpp626ZAjgC",
        "colab_type": "text"
      },
      "source": [
        "#Remove correlated features bis"
      ]
    },
    {
      "cell_type": "markdown",
      "metadata": {
        "id": "1n852TP6Gnli",
        "colab_type": "text"
      },
      "source": [
        "https://chrisalbon.com/machine_learning/feature_selection/drop_highly_correlated_features/"
      ]
    },
    {
      "cell_type": "code",
      "metadata": {
        "id": "US6JB5W64zHl",
        "colab_type": "code",
        "colab": {}
      },
      "source": [
        "# Create correlation matrix\n",
        "corr_matrix = train_data.corr().abs()\n",
        "\n",
        "# Select upper triangle of correlation matrix\n",
        "upper = corr_matrix.where(np.triu(np.ones(corr_matrix.shape), k=1).astype(np.bool))\n",
        "\n",
        "# Find index of feature columns with correlation greater than 0.95\n",
        "to_drop = [column for column in upper.columns if any(upper[column] > 0.99)]"
      ],
      "execution_count": 0,
      "outputs": []
    },
    {
      "cell_type": "code",
      "metadata": {
        "id": "SCmLI5MyKyY5",
        "colab_type": "code",
        "colab": {}
      },
      "source": [
        "corr_matrix"
      ],
      "execution_count": 0,
      "outputs": []
    },
    {
      "cell_type": "code",
      "metadata": {
        "id": "63f6jAMsAk5f",
        "colab_type": "code",
        "colab": {}
      },
      "source": [
        "to_drop"
      ],
      "execution_count": 0,
      "outputs": []
    },
    {
      "cell_type": "code",
      "metadata": {
        "id": "OTtJxGhzFa7P",
        "colab_type": "code",
        "colab": {}
      },
      "source": [
        "len(to_drop)"
      ],
      "execution_count": 0,
      "outputs": []
    },
    {
      "cell_type": "code",
      "metadata": {
        "id": "hXEp7EDoFqvB",
        "colab_type": "code",
        "colab": {}
      },
      "source": [
        "# Drop features \n",
        "train_data_reduced = train_data.drop(train_data[to_drop], axis=1)"
      ],
      "execution_count": 0,
      "outputs": []
    },
    {
      "cell_type": "code",
      "metadata": {
        "id": "3qyotRwjFwY0",
        "colab_type": "code",
        "colab": {}
      },
      "source": [
        "train_data_reduced"
      ],
      "execution_count": 0,
      "outputs": []
    },
    {
      "cell_type": "code",
      "metadata": {
        "id": "f7hfpe_8GEqm",
        "colab_type": "code",
        "colab": {}
      },
      "source": [
        "train_data_reduced.corr()"
      ],
      "execution_count": 0,
      "outputs": []
    },
    {
      "cell_type": "markdown",
      "metadata": {
        "id": "QzpL0VjpLNXK",
        "colab_type": "text"
      },
      "source": [
        "Penso elimini troppe features!"
      ]
    },
    {
      "cell_type": "markdown",
      "metadata": {
        "id": "JZN9I7JNNUyS",
        "colab_type": "text"
      },
      "source": [
        "#Remove correlated feature tris"
      ]
    },
    {
      "cell_type": "markdown",
      "metadata": {
        "id": "t-wACff-R4Ib",
        "colab_type": "text"
      },
      "source": [
        "https://campus.datacamp.com/courses/dimensionality-reduction-in-python/feature-selection-i-selecting-for-feature-information?ex=14"
      ]
    },
    {
      "cell_type": "code",
      "metadata": {
        "id": "nNufM8B3NYs2",
        "colab_type": "code",
        "colab": {}
      },
      "source": [
        "#create a positive correlation matrix\n",
        "corr_df = train_data.corr().abs()"
      ],
      "execution_count": 0,
      "outputs": []
    },
    {
      "cell_type": "code",
      "metadata": {
        "id": "-W8ShRUvN63m",
        "colab_type": "code",
        "colab": {}
      },
      "source": [
        "#create and apply mask\n",
        "mask = np.triu(np.ones_like(corr_df, dtype=bool))"
      ],
      "execution_count": 0,
      "outputs": []
    },
    {
      "cell_type": "code",
      "metadata": {
        "id": "9DgfSECpOwPu",
        "colab_type": "code",
        "colab": {}
      },
      "source": [
        "mask"
      ],
      "execution_count": 0,
      "outputs": []
    },
    {
      "cell_type": "code",
      "metadata": {
        "id": "U5xQLptVOw6f",
        "colab_type": "code",
        "colab": {}
      },
      "source": [
        "tri_df = corr_df.mask(mask)"
      ],
      "execution_count": 0,
      "outputs": []
    },
    {
      "cell_type": "code",
      "metadata": {
        "id": "TeDvePEPO8mn",
        "colab_type": "code",
        "colab": {}
      },
      "source": [
        "tri_df"
      ],
      "execution_count": 0,
      "outputs": []
    },
    {
      "cell_type": "code",
      "metadata": {
        "id": "PQ1MkWP2O9hU",
        "colab_type": "code",
        "colab": {}
      },
      "source": [
        "#Find columns that meet threshold\n",
        "to_drop = [c for c in tri_df.columns if any(tri_df[c]>0.50)]\n",
        "to_drop"
      ],
      "execution_count": 0,
      "outputs": []
    },
    {
      "cell_type": "markdown",
      "metadata": {
        "id": "GwvKeereQoci",
        "colab_type": "text"
      },
      "source": [
        "The reason we used the mask to set half of the matrox to NA value is that we eant to avoid removing both features when thay have a strong correlation. "
      ]
    },
    {
      "cell_type": "code",
      "metadata": {
        "id": "32R-tG-WPNXR",
        "colab_type": "code",
        "colab": {}
      },
      "source": [
        "#Drop those columns\n",
        "reduced_df = train_data.drop(to_drop, axis=1)"
      ],
      "execution_count": 0,
      "outputs": []
    },
    {
      "cell_type": "code",
      "metadata": {
        "id": "yn-uuBifRO8G",
        "colab_type": "code",
        "colab": {}
      },
      "source": [
        "reduced_df.shape"
      ],
      "execution_count": 0,
      "outputs": []
    },
    {
      "cell_type": "markdown",
      "metadata": {
        "id": "1ljMaQeuSHe1",
        "colab_type": "text"
      },
      "source": [
        "funziona bene, però bisogna stare attenti a basarsi unicamente sul coefficiente di correlazione. Se y = x^2, x e y risulteranno scorrelate secondo il coeffiente di correlazione di Pearson."
      ]
    },
    {
      "cell_type": "markdown",
      "metadata": {
        "id": "l3irKARY1mLP",
        "colab_type": "text"
      },
      "source": [
        "#Kaplan Meier Curve"
      ]
    },
    {
      "cell_type": "code",
      "metadata": {
        "id": "bRdCGEj82InV",
        "colab_type": "code",
        "colab": {}
      },
      "source": [
        "!pip install lifelines"
      ],
      "execution_count": 0,
      "outputs": []
    },
    {
      "cell_type": "code",
      "metadata": {
        "id": "y4l9y7Cm1wY3",
        "colab_type": "code",
        "colab": {}
      },
      "source": [
        "from lifelines import KaplanMeierFitter"
      ],
      "execution_count": 0,
      "outputs": []
    },
    {
      "cell_type": "code",
      "metadata": {
        "id": "2Qr6gI9Q2BKu",
        "colab_type": "code",
        "colab": {}
      },
      "source": [
        "durations = df_train.Surv_time_months"
      ],
      "execution_count": 0,
      "outputs": []
    },
    {
      "cell_type": "code",
      "metadata": {
        "id": "ptWR7cqt5u8P",
        "colab_type": "code",
        "colab": {}
      },
      "source": [
        "event_observed = df_train.Deadstatus_event"
      ],
      "execution_count": 0,
      "outputs": []
    },
    {
      "cell_type": "code",
      "metadata": {
        "id": "e96c6dPs6VUx",
        "colab_type": "code",
        "colab": {}
      },
      "source": [
        "# create a kmf object\n",
        "kmf = KaplanMeierFitter() \n",
        "\n",
        "# Fit the data into the model\n",
        "kmf.fit(durations, event_observed,label='Kaplan Meier Estimate')"
      ],
      "execution_count": 0,
      "outputs": []
    },
    {
      "cell_type": "code",
      "metadata": {
        "id": "cXYuDIUQ6dR5",
        "colab_type": "code",
        "colab": {}
      },
      "source": [
        "# Create an estimate\n",
        "kmf.plot(ci_show=False) ##ci_show show the confidence intervals. Default=True"
      ],
      "execution_count": 0,
      "outputs": []
    },
    {
      "cell_type": "code",
      "metadata": {
        "id": "eW3gt1pcSOp3",
        "colab_type": "code",
        "colab": {}
      },
      "source": [
        "kmf.plot_survival_function()"
      ],
      "execution_count": 0,
      "outputs": []
    },
    {
      "cell_type": "markdown",
      "metadata": {
        "id": "ZVYdCgmMNhty",
        "colab_type": "text"
      },
      "source": [
        "##by Histology"
      ]
    },
    {
      "cell_type": "code",
      "metadata": {
        "id": "IAXD6rsU71LX",
        "colab_type": "code",
        "colab": {}
      },
      "source": [
        "kmf1 = KaplanMeierFitter() ## instantiate the class to create an object\n",
        "\n",
        "Histology = df_train['Histology']   \n",
        "a = (Histology == 'adenocarcinoma')     \n",
        "l = (Histology == 'large cell')     \n",
        "s = (Histology == 'squamous cell carcinoma')  \n",
        "\n",
        "## fit the model for 1st cohort\n",
        "kmf1.fit(df_train.Surv_time_months[a], df_train.Deadstatus_event[a], label='adenocarcinoma')\n",
        "a1 = kmf1.plot(ci_show=False)\n",
        "\n",
        "## fit the model for 2nd cohort\n",
        "kmf1.fit(df_train.Surv_time_months[l], df_train.Deadstatus_event[l], label='large cell')\n",
        "a2 = kmf1.plot(ci_show=False)\n",
        "\n",
        "## fit the model for 3rd cohort\n",
        "kmf1.fit(df_train.Surv_time_months[s], df_train.Deadstatus_event[s], label='squamous cell carcinoma')\n",
        "a3 = kmf1.plot(ci_show=False)"
      ],
      "execution_count": 0,
      "outputs": []
    },
    {
      "cell_type": "code",
      "metadata": {
        "id": "q5q4Ndq1_F9P",
        "colab_type": "code",
        "colab": {}
      },
      "source": [
        "#Metodo scritto in maniera più stringata\n",
        "kmf = KaplanMeierFitter()\n",
        "\n",
        "for name, grouped_df in df_train.groupby('Histology'):\n",
        "    kmf.fit(grouped_df.Surv_time_months, grouped_df.Deadstatus_event, label=name)\n",
        "    kmf.plot(ci_show=False)"
      ],
      "execution_count": 0,
      "outputs": []
    },
    {
      "cell_type": "markdown",
      "metadata": {
        "id": "1TEyBQk_pK9Y",
        "colab_type": "text"
      },
      "source": [
        "##by Overall_Stage"
      ]
    },
    {
      "cell_type": "code",
      "metadata": {
        "id": "n2WdqaM4pJdP",
        "colab_type": "code",
        "colab": {}
      },
      "source": [
        "kmf = KaplanMeierFitter()\n",
        "\n",
        "for name, grouped_df in df_train.groupby('Overall_Stage'):\n",
        "    kmf.fit(grouped_df.Surv_time_months, grouped_df.Deadstatus_event, label=name)\n",
        "    kmf.plot(ci_show=False)"
      ],
      "execution_count": 0,
      "outputs": []
    },
    {
      "cell_type": "markdown",
      "metadata": {
        "id": "w6G-XTU0ZVgA",
        "colab_type": "text"
      },
      "source": [
        "#Survival regression"
      ]
    },
    {
      "cell_type": "markdown",
      "metadata": {
        "id": "R9Lt5y8iaiHA",
        "colab_type": "text"
      },
      "source": [
        "Prima di fare quest'analisi vanno codificate le variabili categoriche, come l'istologia."
      ]
    },
    {
      "cell_type": "code",
      "metadata": {
        "id": "HBuAMUQ1bCP1",
        "colab_type": "code",
        "colab": {}
      },
      "source": [
        "word_index = {'Histology' : {'adenocarcinoma':0, 'large cell':1, 'squamous cell carcinoma':2}}"
      ],
      "execution_count": 0,
      "outputs": []
    },
    {
      "cell_type": "code",
      "metadata": {
        "id": "AToArCn8cTCh",
        "colab_type": "code",
        "colab": {}
      },
      "source": [
        "df_train_encoded_histology = df_train.replace(word_index)"
      ],
      "execution_count": 0,
      "outputs": []
    },
    {
      "cell_type": "code",
      "metadata": {
        "id": "jTYQFknChUt1",
        "colab_type": "code",
        "colab": {}
      },
      "source": [
        "df_train_encoded_histology"
      ],
      "execution_count": 0,
      "outputs": []
    },
    {
      "cell_type": "code",
      "metadata": {
        "id": "314VGmzyixfL",
        "colab_type": "code",
        "colab": {}
      },
      "source": [
        "df_train_encoded_histology.drop('OS', axis=1, inplace=True)"
      ],
      "execution_count": 0,
      "outputs": []
    },
    {
      "cell_type": "code",
      "metadata": {
        "id": "JsUAcrLfjKDh",
        "colab_type": "code",
        "colab": {}
      },
      "source": [
        "df_train_encoded_histology.drop('Overall_Stage', axis=1, inplace=True)"
      ],
      "execution_count": 0,
      "outputs": []
    },
    {
      "cell_type": "markdown",
      "metadata": {
        "id": "iAxwHZqjbVpb",
        "colab_type": "text"
      },
      "source": [
        "These features have very low variance. This may harm convergence. Try dropping this redundant column before fitting if convergence fails. MESSAGGIO DI ERRORE CHE VENIVA RESTITUITO."
      ]
    },
    {
      "cell_type": "code",
      "metadata": {
        "id": "qdsN7jJmbCeb",
        "colab_type": "code",
        "colab": {}
      },
      "source": [
        "#list_of_features_to_drop = ['SmallDependenceLowGrayLevelEmphasis', 'LowGrayLevelEmphasis', 'ShortRunLowGrayLevelEmphasis', 'LowGrayLevelRunEmphasis', 'GrayLevelNonUniformityNormalized.1', 'LowGrayLevelZoneEmphasis', 'SmallAreaLowGrayLevelEmphasis', 'Coarseness']"
      ],
      "execution_count": 0,
      "outputs": []
    },
    {
      "cell_type": "code",
      "metadata": {
        "id": "Ri5229TEbE7K",
        "colab_type": "code",
        "colab": {}
      },
      "source": [
        "#df_train_encoded_histology.drop(list_of_features_to_drop, axis=1, inplace=True)"
      ],
      "execution_count": 0,
      "outputs": []
    },
    {
      "cell_type": "code",
      "metadata": {
        "id": "4DgTWpNQZVTN",
        "colab_type": "code",
        "colab": {}
      },
      "source": [
        "from lifelines import CoxPHFitter\n",
        "\n",
        "# Using Cox Proportional Hazards model\n",
        "cph = CoxPHFitter(penalizer=0.1)\n",
        "cph.fit(df_train_encoded_histology, duration_col='Surv_time_months', event_col='Deadstatus_event', show_progress=True)\n",
        "cph.print_summary()"
      ],
      "execution_count": 0,
      "outputs": []
    },
    {
      "cell_type": "markdown",
      "metadata": {
        "id": "F5puWL1bxD6I",
        "colab_type": "text"
      },
      "source": [
        "Introducendo penalizzazioni si arriva a qualche risultato, ma non sono stabili: cambiando penalizzazione cambiano di molto "
      ]
    },
    {
      "cell_type": "markdown",
      "metadata": {
        "colab_type": "text",
        "id": "y-0uenkR4uCv"
      },
      "source": [
        "#Remove correlated features"
      ]
    },
    {
      "cell_type": "markdown",
      "metadata": {
        "colab_type": "text",
        "id": "RUh4l8H24uDI"
      },
      "source": [
        "https://campus.datacamp.com/courses/dimensionality-reduction-in-python/feature-selection-i-selecting-for-feature-information?ex=14"
      ]
    },
    {
      "cell_type": "code",
      "metadata": {
        "id": "eDM5kp5w7FHb",
        "colab_type": "code",
        "colab": {}
      },
      "source": [
        "train_data = df_train.drop(['Histology', 'Surv_time_months', 'OS', 'Deadstatus_event','Overall_Stage'], axis=1)"
      ],
      "execution_count": 0,
      "outputs": []
    },
    {
      "cell_type": "code",
      "metadata": {
        "colab_type": "code",
        "id": "po5Nz6nH4uDM",
        "colab": {}
      },
      "source": [
        "#create a positive correlation matrix\n",
        "corr_df = train_data.corr().abs()"
      ],
      "execution_count": 0,
      "outputs": []
    },
    {
      "cell_type": "code",
      "metadata": {
        "colab_type": "code",
        "id": "5HqXGkXv4uDW",
        "colab": {}
      },
      "source": [
        "#create and apply mask\n",
        "mask = np.triu(np.ones_like(corr_df, dtype=bool))"
      ],
      "execution_count": 0,
      "outputs": []
    },
    {
      "cell_type": "code",
      "metadata": {
        "colab_type": "code",
        "id": "C6Q4FEcl4uDf",
        "colab": {}
      },
      "source": [
        "mask"
      ],
      "execution_count": 0,
      "outputs": []
    },
    {
      "cell_type": "code",
      "metadata": {
        "colab_type": "code",
        "id": "TSdvlxWi4uDm",
        "colab": {}
      },
      "source": [
        "tri_df = corr_df.mask(mask)"
      ],
      "execution_count": 0,
      "outputs": []
    },
    {
      "cell_type": "code",
      "metadata": {
        "colab_type": "code",
        "id": "kdhU-i7b4uDt",
        "colab": {}
      },
      "source": [
        "tri_df"
      ],
      "execution_count": 0,
      "outputs": []
    },
    {
      "cell_type": "code",
      "metadata": {
        "colab_type": "code",
        "id": "3FSdrP1o4uDx",
        "colab": {}
      },
      "source": [
        "#Find columns that meet threshold\n",
        "to_drop = [c for c in tri_df.columns if any(tri_df[c]>0.75)]\n",
        "to_drop"
      ],
      "execution_count": 0,
      "outputs": []
    },
    {
      "cell_type": "markdown",
      "metadata": {
        "colab_type": "text",
        "id": "fVZXdki84uD3"
      },
      "source": [
        "The reason we used the mask to set half of the matrox to NA value is that we eant to avoid removing both features when thay have a strong correlation. "
      ]
    },
    {
      "cell_type": "code",
      "metadata": {
        "colab_type": "code",
        "id": "crl_4cyN4uD5",
        "colab": {}
      },
      "source": [
        "#Drop those columns\n",
        "reduced_df = train_data.drop(to_drop, axis=1)"
      ],
      "execution_count": 0,
      "outputs": []
    },
    {
      "cell_type": "code",
      "metadata": {
        "colab_type": "code",
        "id": "QVUCuEAh4uD9",
        "colab": {}
      },
      "source": [
        "reduced_df.shape"
      ],
      "execution_count": 0,
      "outputs": []
    },
    {
      "cell_type": "markdown",
      "metadata": {
        "colab_type": "text",
        "id": "DkP1AZ7t4uEE"
      },
      "source": [
        "Riaggiungiamo le colonne Surv_time_months e Deadstatus_event"
      ]
    },
    {
      "cell_type": "code",
      "metadata": {
        "id": "yjGk-PHxhh8P",
        "colab_type": "code",
        "colab": {}
      },
      "source": [
        "reduced_df['Surv_time_months'] = df_train.Surv_time_months"
      ],
      "execution_count": 0,
      "outputs": []
    },
    {
      "cell_type": "code",
      "metadata": {
        "id": "U7Hav_xtiZc9",
        "colab_type": "code",
        "colab": {}
      },
      "source": [
        "reduced_df['Deadstatus_event'] = df_train.Deadstatus_event"
      ],
      "execution_count": 0,
      "outputs": []
    },
    {
      "cell_type": "code",
      "metadata": {
        "id": "6LWBSv-v77wm",
        "colab_type": "code",
        "colab": {}
      },
      "source": [
        "from lifelines import CoxPHFitter\n",
        "\n",
        "# Using Cox Proportional Hazards model\n",
        "cph = CoxPHFitter()\n",
        "cph.fit(reduced_df, duration_col='Surv_time_months', event_col='Deadstatus_event', show_progress=True)\n",
        "cph.print_summary()"
      ],
      "execution_count": 0,
      "outputs": []
    },
    {
      "cell_type": "code",
      "metadata": {
        "id": "LfA7a_MB7_8l",
        "colab_type": "code",
        "colab": {}
      },
      "source": [
        "cph.plot()"
      ],
      "execution_count": 0,
      "outputs": []
    },
    {
      "cell_type": "code",
      "metadata": {
        "id": "ltN31Pnz1_dX",
        "colab_type": "code",
        "colab": {}
      },
      "source": [
        "from lifelines import CoxPHFitter\n",
        "\n",
        "cph = CoxPHFitter()\n",
        "cph.fit(reduced_df, duration_col='Surv_time_months', event_col='Deadstatus_event')\n",
        "\n",
        "cph.plot_covariate_groups('GrayLevelNonUniformityNormalized_1', \n",
        "                          np.linspace(max(reduced_df.GrayLevelNonUniformityNormalized_1),min(reduced_df.GrayLevelNonUniformityNormalized_1),10),cmap='coolwarm')\n"
      ],
      "execution_count": 0,
      "outputs": []
    },
    {
      "cell_type": "code",
      "metadata": {
        "id": "_iTXz9cXtqTO",
        "colab_type": "code",
        "colab": {}
      },
      "source": [
        "from lifelines import CoxPHFitter\n",
        "\n",
        "cph = CoxPHFitter()\n",
        "cph.fit(reduced_df, duration_col='Surv_time_months', event_col='Deadstatus_event')\n",
        "\n",
        "cph.plot_covariate_groups('Coarseness', np.linspace(max(reduced_df.Coarseness),min(reduced_df.Coarseness),10),cmap='coolwarm')"
      ],
      "execution_count": 0,
      "outputs": []
    },
    {
      "cell_type": "code",
      "metadata": {
        "id": "4tHX9--py8CJ",
        "colab_type": "code",
        "colab": {}
      },
      "source": [
        "min(reduced_df.Coarseness)"
      ],
      "execution_count": 0,
      "outputs": []
    },
    {
      "cell_type": "code",
      "metadata": {
        "colab_type": "code",
        "id": "kA5TlJPH3GzV",
        "colab": {}
      },
      "source": [
        "from lifelines import CoxPHFitter\n",
        "\n",
        "cph = CoxPHFitter()\n",
        "cph.fit(reduced_df, duration_col='Surv_time_months', event_col='Deadstatus_event')\n",
        "\n",
        "cph.plot_covariate_groups('Contrast_1', np.linspace(max(reduced_df.Contrast_1),min(reduced_df.Contrast_1),10),cmap='coolwarm')"
      ],
      "execution_count": 0,
      "outputs": []
    },
    {
      "cell_type": "code",
      "metadata": {
        "id": "Xu2Uf0mW32Lt",
        "colab_type": "code",
        "colab": {}
      },
      "source": [
        ""
      ],
      "execution_count": 0,
      "outputs": []
    }
  ]
}