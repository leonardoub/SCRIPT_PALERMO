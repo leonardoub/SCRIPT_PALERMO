{
  "nbformat": 4,
  "nbformat_minor": 0,
  "metadata": {
    "colab": {
      "name": "img_classification_LDA_L09_prof.ipynb",
      "provenance": [],
      "authorship_tag": "ABX9TyOxd2W0MtJMu9Uvd+NUpGi3",
      "include_colab_link": true
    },
    "kernelspec": {
      "name": "python3",
      "display_name": "Python 3"
    }
  },
  "cells": [
    {
      "cell_type": "markdown",
      "metadata": {
        "id": "view-in-github",
        "colab_type": "text"
      },
      "source": [
        "<a href=\"https://colab.research.google.com/github/leonardoub/SCRIPT_PALERMO/blob/master/img_classification_LDA_L09_prof.ipynb\" target=\"_parent\"><img src=\"https://colab.research.google.com/assets/colab-badge.svg\" alt=\"Open In Colab\"/></a>"
      ]
    },
    {
      "cell_type": "code",
      "metadata": {
        "id": "62Zxk484M64e",
        "colab_type": "code",
        "colab": {}
      },
      "source": [
        "import pandas as pd\n",
        "import numpy as np\n",
        "import matplotlib.pyplot as plt\n",
        "import scipy"
      ],
      "execution_count": 0,
      "outputs": []
    },
    {
      "cell_type": "code",
      "metadata": {
        "id": "42E51lmZN9cD",
        "colab_type": "code",
        "colab": {}
      },
      "source": [
        "from sklearn.decomposition import PCA\n",
        "from sklearn.discriminant_analysis import LinearDiscriminantAnalysis"
      ],
      "execution_count": 0,
      "outputs": []
    },
    {
      "cell_type": "markdown",
      "metadata": {
        "id": "_DME-inQ4ke_",
        "colab_type": "text"
      },
      "source": [
        "#Load data"
      ]
    },
    {
      "cell_type": "code",
      "metadata": {
        "id": "7Hq45TSf3WcR",
        "colab_type": "code",
        "outputId": "3d187603-0708-464b-85d6-186314deb7f4",
        "colab": {
          "base_uri": "https://localhost:8080/",
          "height": 54
        }
      },
      "source": [
        "#load data from Drive\n",
        "from google.colab import drive\n",
        "drive.mount('/gdrive')\n",
        "%cd /gdrive"
      ],
      "execution_count": 5,
      "outputs": [
        {
          "output_type": "stream",
          "text": [
            "Drive already mounted at /gdrive; to attempt to forcibly remount, call drive.mount(\"/gdrive\", force_remount=True).\n",
            "/gdrive\n"
          ],
          "name": "stdout"
        }
      ]
    },
    {
      "cell_type": "code",
      "metadata": {
        "id": "UCkUXesZhMzg",
        "colab_type": "code",
        "colab": {}
      },
      "source": [
        "train_dataset_path = '/gdrive/My Drive/AIM_PA/database_training2.csv'\n",
        "test_dataset_path = '/gdrive/My Drive/AIM_PA/database_nostro_without_nan.csv'"
      ],
      "execution_count": 0,
      "outputs": []
    },
    {
      "cell_type": "code",
      "metadata": {
        "id": "TczPxOpEhTXw",
        "colab_type": "code",
        "colab": {}
      },
      "source": [
        "df_train = pd.read_csv(train_dataset_path)\n",
        "df_test = pd.read_csv(test_dataset_path)"
      ],
      "execution_count": 0,
      "outputs": []
    },
    {
      "cell_type": "code",
      "metadata": {
        "id": "9I5MNxeW3j2G",
        "colab_type": "code",
        "colab": {}
      },
      "source": [
        "df_train.rename(columns={'Survival.time (months)':'Surv_time_months'}, inplace=True)"
      ],
      "execution_count": 0,
      "outputs": []
    },
    {
      "cell_type": "code",
      "metadata": {
        "id": "TLxDyFPo3sU9",
        "colab_type": "code",
        "colab": {}
      },
      "source": [
        "df_test.rename(columns={'Survival.time (months)':'Surv_time_months'}, inplace=True)"
      ],
      "execution_count": 0,
      "outputs": []
    },
    {
      "cell_type": "code",
      "metadata": {
        "id": "oXU_B2k03uYa",
        "colab_type": "code",
        "colab": {}
      },
      "source": [
        "df_train.rename(columns={'Overall.Stage':'Overall_Stage'}, inplace=True)\n",
        "df_test.rename(columns={'Overall.Stage':'Overall_Stage'}, inplace=True)"
      ],
      "execution_count": 0,
      "outputs": []
    },
    {
      "cell_type": "code",
      "metadata": {
        "id": "T1YCrOMP3_4q",
        "colab_type": "code",
        "colab": {}
      },
      "source": [
        "public_data = df_train.drop(['Histology', 'Surv_time_months', 'OS', 'deadstatus.event','Overall_Stage'], axis=1)"
      ],
      "execution_count": 0,
      "outputs": []
    },
    {
      "cell_type": "code",
      "metadata": {
        "id": "BWj1mwjV4Mzo",
        "colab_type": "code",
        "colab": {}
      },
      "source": [
        "PA_data = df_test.drop(['Histology', 'Surv_time_months', 'OS', 'deadstatus.event','Overall_Stage'], axis=1)"
      ],
      "execution_count": 0,
      "outputs": []
    },
    {
      "cell_type": "code",
      "metadata": {
        "id": "78hBqRzV0ww9",
        "colab_type": "code",
        "colab": {}
      },
      "source": [
        "#easy features paper\n",
        "#Energy, Entropy, Kurtosis, Maximum, Mean, Mean Absolute Deviation,\n",
        "#Median, Minimum, Range, RMS Value, Skewness, Standard Deviation, \n",
        "#Uniformity, Variance, Compactness, \n",
        "#Maximum 3D diameter, Spherical Disproportion, Sphericity, \n",
        "#Surface Area, Surface-to-Volume Ratio, and Volume\n",
        "\n",
        "#easy_features_dataset\n",
        "#VoxelVolume, Maximum3DDiameter, MeshVolume, MajorAxisLength,\n",
        "#Sphericity, LeastAxisLength, Elongation, SurfaceVolumeRatio,\n",
        "#Maximum2DDiameterSlice, Flatness, SurfaceArea, MinorAxisLength,\n",
        "#Skewness, Uniformity, Median, Energy, MeanAbsoluteDeviation, \n",
        "#TotalEnergy?, Maximum, Minimum, Entropy, Range, Variance, Kurtosis,\n",
        "#Mean"
      ],
      "execution_count": 0,
      "outputs": []
    },
    {
      "cell_type": "code",
      "metadata": {
        "id": "YTqKoI654eS6",
        "colab_type": "code",
        "colab": {}
      },
      "source": [
        "easy_features_dataset = ['VoxelVolume', 'Maximum3DDiameter', 'MeshVolume', 'MajorAxisLength', 'Sphericity', \n",
        "                         'LeastAxisLength', 'Elongation', 'SurfaceVolumeRatio', 'Maximum2DDiameterSlice', \n",
        "                         'Flatness', 'SurfaceArea', 'MinorAxisLength', 'Skewness', 'Uniformity', 'Median', \n",
        "                         'Energy', 'MeanAbsoluteDeviation', 'TotalEnergy', 'Maximum', 'Minimum', 'Entropy', \n",
        "                         'Range', 'Variance', 'Kurtosis', 'Mean']\n"
      ],
      "execution_count": 0,
      "outputs": []
    },
    {
      "cell_type": "code",
      "metadata": {
        "id": "0AvGc77r5Y8d",
        "colab_type": "code",
        "colab": {}
      },
      "source": [
        "public_data = public_data[easy_features_dataset]"
      ],
      "execution_count": 0,
      "outputs": []
    },
    {
      "cell_type": "code",
      "metadata": {
        "id": "srhWmfxx5YW8",
        "colab_type": "code",
        "colab": {}
      },
      "source": [
        "PA_data = PA_data[easy_features_dataset]"
      ],
      "execution_count": 0,
      "outputs": []
    },
    {
      "cell_type": "code",
      "metadata": {
        "id": "As5Omfrrzqoy",
        "colab_type": "code",
        "outputId": "a9df2e5e-ba37-4548-edfa-5a019baa4d9b",
        "colab": {
          "base_uri": "https://localhost:8080/",
          "height": 146
        }
      },
      "source": [
        "public_data.columns"
      ],
      "execution_count": 17,
      "outputs": [
        {
          "output_type": "execute_result",
          "data": {
            "text/plain": [
              "Index(['VoxelVolume', 'Maximum3DDiameter', 'MeshVolume', 'MajorAxisLength',\n",
              "       'Sphericity', 'LeastAxisLength', 'Elongation', 'SurfaceVolumeRatio',\n",
              "       'Maximum2DDiameterSlice', 'Flatness', 'SurfaceArea', 'MinorAxisLength',\n",
              "       'Skewness', 'Uniformity', 'Median', 'Energy', 'MeanAbsoluteDeviation',\n",
              "       'TotalEnergy', 'Maximum', 'Minimum', 'Entropy', 'Range', 'Variance',\n",
              "       'Kurtosis', 'Mean'],\n",
              "      dtype='object')"
            ]
          },
          "metadata": {
            "tags": []
          },
          "execution_count": 17
        }
      ]
    },
    {
      "cell_type": "code",
      "metadata": {
        "id": "dKdS4Low4PHh",
        "colab_type": "code",
        "colab": {}
      },
      "source": [
        "public_labels = df_train.Histology"
      ],
      "execution_count": 0,
      "outputs": []
    },
    {
      "cell_type": "code",
      "metadata": {
        "id": "K6EsAdEt4RNP",
        "colab_type": "code",
        "colab": {}
      },
      "source": [
        "PA_labels = df_test.Histology"
      ],
      "execution_count": 0,
      "outputs": []
    },
    {
      "cell_type": "markdown",
      "metadata": {
        "id": "tqDYyNd6_3s4",
        "colab_type": "text"
      },
      "source": [
        "#Train Test Split"
      ]
    },
    {
      "cell_type": "code",
      "metadata": {
        "id": "_7I8R-jd_3Hd",
        "colab_type": "code",
        "colab": {}
      },
      "source": [
        "from sklearn.model_selection import train_test_split"
      ],
      "execution_count": 0,
      "outputs": []
    },
    {
      "cell_type": "code",
      "metadata": {
        "id": "_bnO8hgZ__GF",
        "colab_type": "code",
        "colab": {}
      },
      "source": [
        "X_train, X_test, y_train, y_test = train_test_split(public_data, public_labels, test_size=0.3, stratify=public_labels, random_state=1)"
      ],
      "execution_count": 0,
      "outputs": []
    },
    {
      "cell_type": "code",
      "metadata": {
        "id": "NZE5rpd8ll-2",
        "colab_type": "code",
        "outputId": "6c1546d4-8d7f-4e84-a8ef-9d81032b2d1f",
        "colab": {
          "base_uri": "https://localhost:8080/",
          "height": 35
        }
      },
      "source": [
        "X_train.shape"
      ],
      "execution_count": 22,
      "outputs": [
        {
          "output_type": "execute_result",
          "data": {
            "text/plain": [
              "(91, 25)"
            ]
          },
          "metadata": {
            "tags": []
          },
          "execution_count": 22
        }
      ]
    },
    {
      "cell_type": "code",
      "metadata": {
        "id": "gQjBvGlUlyhG",
        "colab_type": "code",
        "outputId": "2047de51-2885-4221-912f-24c3efcb53ce",
        "colab": {
          "base_uri": "https://localhost:8080/",
          "height": 237
        }
      },
      "source": [
        "y_train"
      ],
      "execution_count": 23,
      "outputs": [
        {
          "output_type": "execute_result",
          "data": {
            "text/plain": [
              "59                  large cell\n",
              "60                  large cell\n",
              "23                  large cell\n",
              "121    squamous cell carcinoma\n",
              "69                  large cell\n",
              "                ...           \n",
              "117    squamous cell carcinoma\n",
              "55                  large cell\n",
              "123    squamous cell carcinoma\n",
              "126    squamous cell carcinoma\n",
              "73                  large cell\n",
              "Name: Histology, Length: 91, dtype: object"
            ]
          },
          "metadata": {
            "tags": []
          },
          "execution_count": 23
        }
      ]
    },
    {
      "cell_type": "markdown",
      "metadata": {
        "id": "00VohsAyokpq",
        "colab_type": "text"
      },
      "source": [
        "#Vettorizzare i label"
      ]
    },
    {
      "cell_type": "code",
      "metadata": {
        "id": "5rCowEJBjscV",
        "colab_type": "code",
        "colab": {}
      },
      "source": [
        "from sklearn.preprocessing import LabelEncoder\n",
        "encoder = LabelEncoder()\n",
        "train_labels_encoded = encoder.fit_transform(y_train)\n",
        "test_labels_encoded = encoder.transform(y_test)"
      ],
      "execution_count": 0,
      "outputs": []
    },
    {
      "cell_type": "markdown",
      "metadata": {
        "id": "_zHrG0WEvB5Q",
        "colab_type": "text"
      },
      "source": [
        "#Z score"
      ]
    },
    {
      "cell_type": "code",
      "metadata": {
        "id": "4B09pBvIvGB5",
        "colab_type": "code",
        "colab": {}
      },
      "source": [
        "from sklearn.preprocessing import StandardScaler\n",
        "scaler = StandardScaler()\n",
        "train_data_stand = scaler.fit_transform(X_train)\n",
        "test_data_stand = scaler.transform(X_test)"
      ],
      "execution_count": 0,
      "outputs": []
    },
    {
      "cell_type": "markdown",
      "metadata": {
        "colab_type": "text",
        "id": "7m6A16dKnIGk"
      },
      "source": [
        "#LDA"
      ]
    },
    {
      "cell_type": "code",
      "metadata": {
        "colab_type": "code",
        "id": "ij5mrEZEnIGo",
        "colab": {}
      },
      "source": [
        "from sklearn.discriminant_analysis import LinearDiscriminantAnalysis"
      ],
      "execution_count": 0,
      "outputs": []
    },
    {
      "cell_type": "code",
      "metadata": {
        "colab_type": "code",
        "id": "apn7dADrnIG0",
        "colab": {}
      },
      "source": [
        "lda = LinearDiscriminantAnalysis(n_components=2)\n",
        "train_data_stand_lda = lda.fit_transform(train_data_stand, train_labels_encoded)\n",
        "test_data_stand_lda = lda.transform(test_data_stand)"
      ],
      "execution_count": 0,
      "outputs": []
    },
    {
      "cell_type": "code",
      "metadata": {
        "colab_type": "code",
        "outputId": "d3c269fb-a045-4f9b-e184-e44b679e378a",
        "id": "Y76Qsw7KnIHM",
        "colab": {
          "base_uri": "https://localhost:8080/",
          "height": 35
        }
      },
      "source": [
        "train_data_stand_lda.shape"
      ],
      "execution_count": 29,
      "outputs": [
        {
          "output_type": "execute_result",
          "data": {
            "text/plain": [
              "(91, 2)"
            ]
          },
          "metadata": {
            "tags": []
          },
          "execution_count": 29
        }
      ]
    },
    {
      "cell_type": "markdown",
      "metadata": {
        "colab_type": "text",
        "id": "2MXf8MN5FLNG"
      },
      "source": [
        "#Z score dei dati dopo LDA"
      ]
    },
    {
      "cell_type": "code",
      "metadata": {
        "colab_type": "code",
        "id": "mRGI78FGFLNL",
        "colab": {}
      },
      "source": [
        "from sklearn.preprocessing import StandardScaler\n",
        "scaler_2 = StandardScaler()\n",
        "train_data_stand_lda_stand = scaler_2.fit_transform(train_data_stand_lda)\n",
        "test_data_stand_lda_stand = scaler_2.transform(train_data_stand_lda)"
      ],
      "execution_count": 0,
      "outputs": []
    },
    {
      "cell_type": "markdown",
      "metadata": {
        "id": "RRh17YiJQWo1",
        "colab_type": "text"
      },
      "source": [
        "#Classifier comparison"
      ]
    },
    {
      "cell_type": "code",
      "metadata": {
        "id": "PvbcTfNAQHdc",
        "colab_type": "code",
        "colab": {
          "base_uri": "https://localhost:8080/",
          "height": 646
        },
        "outputId": "1e072575-2ca7-4754-9667-1cb2e371213c"
      },
      "source": [
        "\n",
        "import numpy as np\n",
        "import matplotlib.pyplot as plt\n",
        "from matplotlib.colors import ListedColormap\n",
        "from sklearn.model_selection import train_test_split\n",
        "from sklearn.preprocessing import StandardScaler\n",
        "from sklearn.datasets import make_moons, make_circles, make_classification\n",
        "from sklearn.neural_network import MLPClassifier\n",
        "from sklearn.neighbors import KNeighborsClassifier\n",
        "from sklearn.svm import SVC\n",
        "from sklearn.gaussian_process import GaussianProcessClassifier\n",
        "from sklearn.gaussian_process.kernels import RBF\n",
        "from sklearn.tree import DecisionTreeClassifier\n",
        "from sklearn.ensemble import RandomForestClassifier, AdaBoostClassifier\n",
        "from sklearn.naive_bayes import GaussianNB\n",
        "from sklearn.discriminant_analysis import QuadraticDiscriminantAnalysis\n",
        "\n",
        "h = .02  # step size in the mesh\n",
        "\n",
        "names = [\"Nearest Neighbors\", \"Linear SVM\", \"RBF SVM\", \"Gaussian Process\",\n",
        "         \"Decision Tree\", \"Random Forest\", \"Neural Net\", \"AdaBoost\",\n",
        "         \"Naive Bayes\", \"QDA\"]\n",
        "\n",
        "classifiers = [\n",
        "    KNeighborsClassifier(3),\n",
        "    SVC(kernel=\"linear\", C=0.025),\n",
        "    SVC(gamma=2, C=1),\n",
        "    GaussianProcessClassifier(1.0 * RBF(1.0)),\n",
        "    DecisionTreeClassifier(max_depth=5),\n",
        "    RandomForestClassifier(max_depth=5, n_estimators=10, max_features=1),\n",
        "    MLPClassifier(alpha=1, max_iter=1000),\n",
        "    AdaBoostClassifier(),\n",
        "    GaussianNB(),\n",
        "    QuadraticDiscriminantAnalysis()]\n",
        "\n",
        "\n",
        "figure = plt.figure(figsize=(27, 9))\n",
        "i = 1\n",
        "\n",
        "x_min, x_max = train_data_stand_lda_stand[:, 0].min() - .5, train_data_stand_lda_stand[:, 0].max() + .5\n",
        "y_min, y_max = train_data_stand_lda_stand[:, 1].min() - .5, train_data_stand_lda_stand[:, 1].max() + .5\n",
        "xx, yy = np.meshgrid(np.arange(x_min, x_max, h),\n",
        "                      np.arange(y_min, y_max, h))\n",
        "\n",
        "\n",
        "\n",
        "# just plot the dataset first\n",
        "cm = plt.cm.RdBu\n",
        "cm_bright = ListedColormap(['#FF0000', '#0000FF'])\n",
        "ax = plt.subplot(len(datasets), len(classifiers) + 1, i)\n",
        "\n",
        "ax.set_title(\"Input data\")\n",
        "# Plot the training points\n",
        "ax.scatter(train_data_stand_lda_stand[:, 0], train_data_stand_lda_stand[:, 1], c=train_labels_encoded, cmap=cm_bright,\n",
        "               edgecolors='k')\n",
        "# Plot the testing points\n",
        "ax.scatter(test_data_stand_lda_stand[:, 0], test_data_stand_lda_stand[:, 1], c=test_labels_encoded, cmap=cm_bright, alpha=0.6,\n",
        "               edgecolors='k')\n",
        "ax.set_xlim(xx.min(), xx.max())\n",
        "ax.set_ylim(yy.min(), yy.max())\n",
        "ax.set_xticks(())\n",
        "ax.set_yticks(())\n",
        "i += 1\n",
        "\n",
        "    # iterate over classifiers\n",
        "for name, clf in zip(names, classifiers):\n",
        "    ax = plt.subplot(len(datasets), len(classifiers) + 1, i)\n",
        "    clf.fit(train_data_stand_lda_stand, train_labels_encoded)\n",
        "    score = clf.score(test_data_stand_lda_stand, test_labels_encoded)\n",
        "\n",
        "    # Plot the decision boundary. For that, we will assign a color to each\n",
        "    # point in the mesh [x_min, x_max]x[y_min, y_max].\n",
        "    if hasattr(clf, \"decision_function\"):\n",
        "        Z = clf.decision_function(np.c_[xx.ravel(), yy.ravel()])\n",
        "    else:\n",
        "        Z = clf.predict_proba(np.c_[xx.ravel(), yy.ravel()])[:, 1]\n",
        "\n",
        "    # Put the result into a color plot\n",
        "    Z = Z.reshape(xx.shape)\n",
        "    ax.contourf(xx, yy, Z, cmap=cm, alpha=.8)\n",
        "\n",
        "    # Plot the training points\n",
        "    ax.scatter(train_data_stand_lda_stand[:, 0], train_data_stand_lda_stand[:, 1], c=train_labels_encoded, cmap=cm_bright,\n",
        "                edgecolors='k')\n",
        "    # Plot the testing points\n",
        "    ax.scatter(test_data_stand_lda_stand[:, 0], test_data_stand_lda_stand[:, 1], c=test_labels_encoded, cmap=cm_bright,\n",
        "                edgecolors='k', alpha=0.6)\n",
        "\n",
        "    ax.set_xlim(xx.min(), xx.max())\n",
        "    ax.set_ylim(yy.min(), yy.max())\n",
        "    ax.set_xticks(())\n",
        "    ax.set_yticks(())\n",
        "    if ds_cnt == 0:\n",
        "        ax.set_title(name)\n",
        "    ax.text(xx.max() - .3, yy.min() + .3, ('%.2f' % score).lstrip('0'),\n",
        "            size=15, horizontalalignment='right')\n",
        "    i += 1\n",
        "\n",
        "plt.tight_layout()\n",
        "plt.show()"
      ],
      "execution_count": 44,
      "outputs": [
        {
          "output_type": "error",
          "ename": "ValueError",
          "evalue": "ignored",
          "traceback": [
            "\u001b[0;31m---------------------------------------------------------------------------\u001b[0m",
            "\u001b[0;31mValueError\u001b[0m                                Traceback (most recent call last)",
            "\u001b[0;32m/usr/local/lib/python3.6/dist-packages/matplotlib/axes/_axes.py\u001b[0m in \u001b[0;36m_parse_scatter_color_args\u001b[0;34m(c, edgecolors, kwargs, xshape, yshape, get_next_color_func)\u001b[0m\n\u001b[1;32m   4283\u001b[0m             \u001b[0;32mtry\u001b[0m\u001b[0;34m:\u001b[0m  \u001b[0;31m# Then is 'c' acceptable as PathCollection facecolors?\u001b[0m\u001b[0;34m\u001b[0m\u001b[0;34m\u001b[0m\u001b[0m\n\u001b[0;32m-> 4284\u001b[0;31m                 \u001b[0mcolors\u001b[0m \u001b[0;34m=\u001b[0m \u001b[0mmcolors\u001b[0m\u001b[0;34m.\u001b[0m\u001b[0mto_rgba_array\u001b[0m\u001b[0;34m(\u001b[0m\u001b[0mc\u001b[0m\u001b[0;34m)\u001b[0m\u001b[0;34m\u001b[0m\u001b[0;34m\u001b[0m\u001b[0m\n\u001b[0m\u001b[1;32m   4285\u001b[0m                 \u001b[0mn_elem\u001b[0m \u001b[0;34m=\u001b[0m \u001b[0mcolors\u001b[0m\u001b[0;34m.\u001b[0m\u001b[0mshape\u001b[0m\u001b[0;34m[\u001b[0m\u001b[0;36m0\u001b[0m\u001b[0;34m]\u001b[0m\u001b[0;34m\u001b[0m\u001b[0;34m\u001b[0m\u001b[0m\n",
            "\u001b[0;32m/usr/local/lib/python3.6/dist-packages/matplotlib/colors.py\u001b[0m in \u001b[0;36mto_rgba_array\u001b[0;34m(c, alpha)\u001b[0m\n\u001b[1;32m    293\u001b[0m     \u001b[0;32mfor\u001b[0m \u001b[0mi\u001b[0m\u001b[0;34m,\u001b[0m \u001b[0mcc\u001b[0m \u001b[0;32min\u001b[0m \u001b[0menumerate\u001b[0m\u001b[0;34m(\u001b[0m\u001b[0mc\u001b[0m\u001b[0;34m)\u001b[0m\u001b[0;34m:\u001b[0m\u001b[0;34m\u001b[0m\u001b[0;34m\u001b[0m\u001b[0m\n\u001b[0;32m--> 294\u001b[0;31m         \u001b[0mresult\u001b[0m\u001b[0;34m[\u001b[0m\u001b[0mi\u001b[0m\u001b[0;34m]\u001b[0m \u001b[0;34m=\u001b[0m \u001b[0mto_rgba\u001b[0m\u001b[0;34m(\u001b[0m\u001b[0mcc\u001b[0m\u001b[0;34m,\u001b[0m \u001b[0malpha\u001b[0m\u001b[0;34m)\u001b[0m\u001b[0;34m\u001b[0m\u001b[0;34m\u001b[0m\u001b[0m\n\u001b[0m\u001b[1;32m    295\u001b[0m     \u001b[0;32mreturn\u001b[0m \u001b[0mresult\u001b[0m\u001b[0;34m\u001b[0m\u001b[0;34m\u001b[0m\u001b[0m\n",
            "\u001b[0;32m/usr/local/lib/python3.6/dist-packages/matplotlib/colors.py\u001b[0m in \u001b[0;36mto_rgba\u001b[0;34m(c, alpha)\u001b[0m\n\u001b[1;32m    176\u001b[0m     \u001b[0;32mif\u001b[0m \u001b[0mrgba\u001b[0m \u001b[0;32mis\u001b[0m \u001b[0;32mNone\u001b[0m\u001b[0;34m:\u001b[0m  \u001b[0;31m# Suppress exception chaining of cache lookup failure.\u001b[0m\u001b[0;34m\u001b[0m\u001b[0;34m\u001b[0m\u001b[0m\n\u001b[0;32m--> 177\u001b[0;31m         \u001b[0mrgba\u001b[0m \u001b[0;34m=\u001b[0m \u001b[0m_to_rgba_no_colorcycle\u001b[0m\u001b[0;34m(\u001b[0m\u001b[0mc\u001b[0m\u001b[0;34m,\u001b[0m \u001b[0malpha\u001b[0m\u001b[0;34m)\u001b[0m\u001b[0;34m\u001b[0m\u001b[0;34m\u001b[0m\u001b[0m\n\u001b[0m\u001b[1;32m    178\u001b[0m         \u001b[0;32mtry\u001b[0m\u001b[0;34m:\u001b[0m\u001b[0;34m\u001b[0m\u001b[0;34m\u001b[0m\u001b[0m\n",
            "\u001b[0;32m/usr/local/lib/python3.6/dist-packages/matplotlib/colors.py\u001b[0m in \u001b[0;36m_to_rgba_no_colorcycle\u001b[0;34m(c, alpha)\u001b[0m\n\u001b[1;32m    239\u001b[0m         \u001b[0;31m# Test dimensionality to reject single floats.\u001b[0m\u001b[0;34m\u001b[0m\u001b[0;34m\u001b[0m\u001b[0;34m\u001b[0m\u001b[0m\n\u001b[0;32m--> 240\u001b[0;31m         \u001b[0;32mraise\u001b[0m \u001b[0mValueError\u001b[0m\u001b[0;34m(\u001b[0m\u001b[0;34m\"Invalid RGBA argument: {!r}\"\u001b[0m\u001b[0;34m.\u001b[0m\u001b[0mformat\u001b[0m\u001b[0;34m(\u001b[0m\u001b[0morig_c\u001b[0m\u001b[0;34m)\u001b[0m\u001b[0;34m)\u001b[0m\u001b[0;34m\u001b[0m\u001b[0;34m\u001b[0m\u001b[0m\n\u001b[0m\u001b[1;32m    241\u001b[0m     \u001b[0;31m# Return a tuple to prevent the cached value from being modified.\u001b[0m\u001b[0;34m\u001b[0m\u001b[0;34m\u001b[0m\u001b[0;34m\u001b[0m\u001b[0m\n",
            "\u001b[0;31mValueError\u001b[0m: Invalid RGBA argument: 1",
            "\nDuring handling of the above exception, another exception occurred:\n",
            "\u001b[0;31mValueError\u001b[0m                                Traceback (most recent call last)",
            "\u001b[0;32m<ipython-input-44-d9dcefb72ea7>\u001b[0m in \u001b[0;36m<module>\u001b[0;34m()\u001b[0m\n\u001b[1;32m     56\u001b[0m \u001b[0;31m# Plot the testing points\u001b[0m\u001b[0;34m\u001b[0m\u001b[0;34m\u001b[0m\u001b[0;34m\u001b[0m\u001b[0m\n\u001b[1;32m     57\u001b[0m ax.scatter(test_data_stand_lda_stand[:, 0], test_data_stand_lda_stand[:, 1], c=test_labels_encoded, cmap=cm_bright, alpha=0.6,\n\u001b[0;32m---> 58\u001b[0;31m                edgecolors='k')\n\u001b[0m\u001b[1;32m     59\u001b[0m \u001b[0max\u001b[0m\u001b[0;34m.\u001b[0m\u001b[0mset_xlim\u001b[0m\u001b[0;34m(\u001b[0m\u001b[0mxx\u001b[0m\u001b[0;34m.\u001b[0m\u001b[0mmin\u001b[0m\u001b[0;34m(\u001b[0m\u001b[0;34m)\u001b[0m\u001b[0;34m,\u001b[0m \u001b[0mxx\u001b[0m\u001b[0;34m.\u001b[0m\u001b[0mmax\u001b[0m\u001b[0;34m(\u001b[0m\u001b[0;34m)\u001b[0m\u001b[0;34m)\u001b[0m\u001b[0;34m\u001b[0m\u001b[0;34m\u001b[0m\u001b[0m\n\u001b[1;32m     60\u001b[0m \u001b[0max\u001b[0m\u001b[0;34m.\u001b[0m\u001b[0mset_ylim\u001b[0m\u001b[0;34m(\u001b[0m\u001b[0myy\u001b[0m\u001b[0;34m.\u001b[0m\u001b[0mmin\u001b[0m\u001b[0;34m(\u001b[0m\u001b[0;34m)\u001b[0m\u001b[0;34m,\u001b[0m \u001b[0myy\u001b[0m\u001b[0;34m.\u001b[0m\u001b[0mmax\u001b[0m\u001b[0;34m(\u001b[0m\u001b[0;34m)\u001b[0m\u001b[0;34m)\u001b[0m\u001b[0;34m\u001b[0m\u001b[0;34m\u001b[0m\u001b[0m\n",
            "\u001b[0;32m/usr/local/lib/python3.6/dist-packages/matplotlib/__init__.py\u001b[0m in \u001b[0;36minner\u001b[0;34m(ax, data, *args, **kwargs)\u001b[0m\n\u001b[1;32m   1597\u001b[0m     \u001b[0;32mdef\u001b[0m \u001b[0minner\u001b[0m\u001b[0;34m(\u001b[0m\u001b[0max\u001b[0m\u001b[0;34m,\u001b[0m \u001b[0;34m*\u001b[0m\u001b[0margs\u001b[0m\u001b[0;34m,\u001b[0m \u001b[0mdata\u001b[0m\u001b[0;34m=\u001b[0m\u001b[0;32mNone\u001b[0m\u001b[0;34m,\u001b[0m \u001b[0;34m**\u001b[0m\u001b[0mkwargs\u001b[0m\u001b[0;34m)\u001b[0m\u001b[0;34m:\u001b[0m\u001b[0;34m\u001b[0m\u001b[0;34m\u001b[0m\u001b[0m\n\u001b[1;32m   1598\u001b[0m         \u001b[0;32mif\u001b[0m \u001b[0mdata\u001b[0m \u001b[0;32mis\u001b[0m \u001b[0;32mNone\u001b[0m\u001b[0;34m:\u001b[0m\u001b[0;34m\u001b[0m\u001b[0;34m\u001b[0m\u001b[0m\n\u001b[0;32m-> 1599\u001b[0;31m             \u001b[0;32mreturn\u001b[0m \u001b[0mfunc\u001b[0m\u001b[0;34m(\u001b[0m\u001b[0max\u001b[0m\u001b[0;34m,\u001b[0m \u001b[0;34m*\u001b[0m\u001b[0mmap\u001b[0m\u001b[0;34m(\u001b[0m\u001b[0msanitize_sequence\u001b[0m\u001b[0;34m,\u001b[0m \u001b[0margs\u001b[0m\u001b[0;34m)\u001b[0m\u001b[0;34m,\u001b[0m \u001b[0;34m**\u001b[0m\u001b[0mkwargs\u001b[0m\u001b[0;34m)\u001b[0m\u001b[0;34m\u001b[0m\u001b[0;34m\u001b[0m\u001b[0m\n\u001b[0m\u001b[1;32m   1600\u001b[0m \u001b[0;34m\u001b[0m\u001b[0m\n\u001b[1;32m   1601\u001b[0m         \u001b[0mbound\u001b[0m \u001b[0;34m=\u001b[0m \u001b[0mnew_sig\u001b[0m\u001b[0;34m.\u001b[0m\u001b[0mbind\u001b[0m\u001b[0;34m(\u001b[0m\u001b[0max\u001b[0m\u001b[0;34m,\u001b[0m \u001b[0;34m*\u001b[0m\u001b[0margs\u001b[0m\u001b[0;34m,\u001b[0m \u001b[0;34m**\u001b[0m\u001b[0mkwargs\u001b[0m\u001b[0;34m)\u001b[0m\u001b[0;34m\u001b[0m\u001b[0;34m\u001b[0m\u001b[0m\n",
            "\u001b[0;32m/usr/local/lib/python3.6/dist-packages/matplotlib/axes/_axes.py\u001b[0m in \u001b[0;36mscatter\u001b[0;34m(self, x, y, s, c, marker, cmap, norm, vmin, vmax, alpha, linewidths, verts, edgecolors, plotnonfinite, **kwargs)\u001b[0m\n\u001b[1;32m   4451\u001b[0m             self._parse_scatter_color_args(\n\u001b[1;32m   4452\u001b[0m                 \u001b[0mc\u001b[0m\u001b[0;34m,\u001b[0m \u001b[0medgecolors\u001b[0m\u001b[0;34m,\u001b[0m \u001b[0mkwargs\u001b[0m\u001b[0;34m,\u001b[0m \u001b[0mxshape\u001b[0m\u001b[0;34m,\u001b[0m \u001b[0myshape\u001b[0m\u001b[0;34m,\u001b[0m\u001b[0;34m\u001b[0m\u001b[0;34m\u001b[0m\u001b[0m\n\u001b[0;32m-> 4453\u001b[0;31m                 get_next_color_func=self._get_patches_for_fill.get_next_color)\n\u001b[0m\u001b[1;32m   4454\u001b[0m \u001b[0;34m\u001b[0m\u001b[0m\n\u001b[1;32m   4455\u001b[0m         \u001b[0;32mif\u001b[0m \u001b[0mplotnonfinite\u001b[0m \u001b[0;32mand\u001b[0m \u001b[0mcolors\u001b[0m \u001b[0;32mis\u001b[0m \u001b[0;32mNone\u001b[0m\u001b[0;34m:\u001b[0m\u001b[0;34m\u001b[0m\u001b[0;34m\u001b[0m\u001b[0m\n",
            "\u001b[0;32m/usr/local/lib/python3.6/dist-packages/matplotlib/axes/_axes.py\u001b[0m in \u001b[0;36m_parse_scatter_color_args\u001b[0;34m(c, edgecolors, kwargs, xshape, yshape, get_next_color_func)\u001b[0m\n\u001b[1;32m   4295\u001b[0m                         \u001b[0;34m\"acceptable for use with 'x' with size {xs}, \"\u001b[0m\u001b[0;34m\u001b[0m\u001b[0;34m\u001b[0m\u001b[0m\n\u001b[1;32m   4296\u001b[0m                         \u001b[0;34m\"'y' with size {ys}.\"\u001b[0m\u001b[0;34m\u001b[0m\u001b[0;34m\u001b[0m\u001b[0m\n\u001b[0;32m-> 4297\u001b[0;31m                             \u001b[0;34m.\u001b[0m\u001b[0mformat\u001b[0m\u001b[0;34m(\u001b[0m\u001b[0mnc\u001b[0m\u001b[0;34m=\u001b[0m\u001b[0mn_elem\u001b[0m\u001b[0;34m,\u001b[0m \u001b[0mxs\u001b[0m\u001b[0;34m=\u001b[0m\u001b[0mxsize\u001b[0m\u001b[0;34m,\u001b[0m \u001b[0mys\u001b[0m\u001b[0;34m=\u001b[0m\u001b[0mysize\u001b[0m\u001b[0;34m)\u001b[0m\u001b[0;34m\u001b[0m\u001b[0;34m\u001b[0m\u001b[0m\n\u001b[0m\u001b[1;32m   4298\u001b[0m                     )\n\u001b[1;32m   4299\u001b[0m                 \u001b[0;32melse\u001b[0m\u001b[0;34m:\u001b[0m\u001b[0;34m\u001b[0m\u001b[0;34m\u001b[0m\u001b[0m\n",
            "\u001b[0;31mValueError\u001b[0m: 'c' argument has 40 elements, which is not acceptable for use with 'x' with size 91, 'y' with size 91."
          ]
        },
        {
          "output_type": "display_data",
          "data": {
            "image/png": "[encoded data removed]",
            "text/plain": [
              "<Figure size 1944x648 with 1 Axes>"
            ]
          },
          "metadata": {
            "tags": []
          }
        }
      ]
    },
    {
      "cell_type": "code",
      "metadata": {
        "id": "KbA1WRE8cWFx",
        "colab_type": "code",
        "colab": {
          "base_uri": "https://localhost:8080/",
          "height": 35
        },
        "outputId": "0e4f9d85-337c-41cc-b19d-46a3b6569ead"
      },
      "source": [
        "train_labels_encoded.shape"
      ],
      "execution_count": 46,
      "outputs": [
        {
          "output_type": "execute_result",
          "data": {
            "text/plain": [
              "(91,)"
            ]
          },
          "metadata": {
            "tags": []
          },
          "execution_count": 46
        }
      ]
    },
    {
      "cell_type": "code",
      "metadata": {
        "id": "MEaD2DjHX2h3",
        "colab_type": "code",
        "colab": {}
      },
      "source": [
        "X, y = make_classification(n_features=2, n_redundant=0, n_informative=2,\n",
        "                           random_state=1, n_clusters_per_class=1)\n",
        "rng = np.random.RandomState(2)\n",
        "X += 2 * rng.uniform(size=X.shape)\n",
        "linearly_separable = (X, y)"
      ],
      "execution_count": 0,
      "outputs": []
    },
    {
      "cell_type": "code",
      "metadata": {
        "id": "m6aIQafnX36G",
        "colab_type": "code",
        "colab": {
          "base_uri": "https://localhost:8080/",
          "height": 1000
        },
        "outputId": "5415dcc0-b191-4499-c01e-24e4a5dc94e5"
      },
      "source": [
        "linearly_separable \n"
      ],
      "execution_count": 37,
      "outputs": [
        {
          "output_type": "execute_result",
          "data": {
            "text/plain": [
              "(array([[-0.17749658,  0.93049627],\n",
              "        [ 1.97742406,  1.76615529],\n",
              "        [ 1.80002379,  1.7003428 ],\n",
              "        [-0.77083686,  2.35916348],\n",
              "        [-0.30800901,  1.59406316],\n",
              "        [ 0.61472141,  2.43489824],\n",
              "        [ 1.0909431 ,  2.21663402],\n",
              "        [-0.83488954,  2.35868875],\n",
              "        [ 2.47946499,  1.33418967],\n",
              "        [ 1.19926597,  1.82681392],\n",
              "        [ 2.18506184,  0.8226875 ],\n",
              "        [ 1.68423203,  1.0411311 ],\n",
              "        [ 1.14621135,  2.07048527],\n",
              "        [ 1.35596945,  0.56802498],\n",
              "        [ 1.38520748,  1.82607238],\n",
              "        [ 1.86729217,  1.18692699],\n",
              "        [ 0.31227376,  2.24605353],\n",
              "        [-0.08183484,  1.70065511],\n",
              "        [ 0.90484472,  2.60683016],\n",
              "        [-0.4358609 ,  2.0151414 ],\n",
              "        [ 0.81441196,  2.13546784],\n",
              "        [ 3.10874312,  2.26786504],\n",
              "        [-0.25574217,  1.71281146],\n",
              "        [ 1.88663027,  2.72089513],\n",
              "        [ 2.29503547,  3.89267759],\n",
              "        [-0.11415626,  0.85593357],\n",
              "        [ 1.69703537,  3.47717799],\n",
              "        [ 1.83855775,  0.92667213],\n",
              "        [ 1.60298807,  1.3018436 ],\n",
              "        [ 1.13803215,  2.82955007],\n",
              "        [ 0.57002738,  1.82202469],\n",
              "        [ 0.25130172,  1.32225048],\n",
              "        [-0.39833078,  1.984345  ],\n",
              "        [ 1.6291326 ,  0.88168182],\n",
              "        [ 3.10503585,  1.74000633],\n",
              "        [-0.00566874,  1.12039041],\n",
              "        [ 1.36866557,  2.13964438],\n",
              "        [ 2.69839961,  3.54932382],\n",
              "        [ 2.00170838,  1.09862314],\n",
              "        [ 2.43627708,  1.43769476],\n",
              "        [-0.30996938,  0.91256444],\n",
              "        [ 0.08528148,  1.72286096],\n",
              "        [ 2.06235803,  1.60351529],\n",
              "        [ 1.61026984,  2.06899308],\n",
              "        [ 1.39875914,  0.69295034],\n",
              "        [ 1.68417195,  1.05499076],\n",
              "        [ 0.6032637 ,  2.18625056],\n",
              "        [-0.80090405,  1.89873999],\n",
              "        [ 2.28622906,  2.00485199],\n",
              "        [-1.08107738,  2.77507784],\n",
              "        [ 0.6731465 ,  1.08374453],\n",
              "        [ 2.96970576,  2.12322913],\n",
              "        [ 0.67950668,  2.09864274],\n",
              "        [-0.44781177,  3.18420372],\n",
              "        [-0.50033854,  2.02105531],\n",
              "        [ 1.85307118,  3.66612496],\n",
              "        [ 1.72186424,  1.78055874],\n",
              "        [ 2.25033483,  3.12143112],\n",
              "        [ 0.31356908,  1.35127949],\n",
              "        [-0.28410691,  1.85727304],\n",
              "        [ 2.12915656,  2.58463127],\n",
              "        [ 1.5764227 ,  2.01987282],\n",
              "        [-1.07819549,  1.40147405],\n",
              "        [ 1.19768119,  2.40249075],\n",
              "        [ 1.37690112,  1.14985842],\n",
              "        [-1.66006488,  1.46313474],\n",
              "        [ 1.24390011,  1.46004628],\n",
              "        [ 1.87922305,  1.72262314],\n",
              "        [ 2.90850791,  2.94159145],\n",
              "        [-0.48122613,  1.79143762],\n",
              "        [ 2.4374304 ,  1.34535331],\n",
              "        [ 2.56579874,  0.99334358],\n",
              "        [ 2.44899241,  2.49072727],\n",
              "        [ 0.46034247,  0.68402612],\n",
              "        [-0.39068268,  2.13223301],\n",
              "        [-1.26676594,  1.15606381],\n",
              "        [ 1.41882694,  2.57154527],\n",
              "        [-0.56760436,  0.99010229],\n",
              "        [-1.80173745,  1.23149132],\n",
              "        [ 0.18035906,  1.25587797],\n",
              "        [ 2.85271766,  1.84520561],\n",
              "        [ 1.84588723,  1.15083733],\n",
              "        [ 2.2332857 ,  3.1528139 ],\n",
              "        [-0.55018044,  1.08169147],\n",
              "        [-0.79089021,  1.65085521],\n",
              "        [-0.13199329,  1.94007796],\n",
              "        [ 0.70257257,  1.35701296],\n",
              "        [ 0.27672155,  2.67298668],\n",
              "        [ 0.61021587,  2.1651486 ],\n",
              "        [-0.53000368,  2.01943164],\n",
              "        [ 1.83727888,  2.1110129 ],\n",
              "        [ 0.28416019,  2.64492964],\n",
              "        [ 1.89688379,  2.26044693],\n",
              "        [ 2.06813613,  2.6101669 ],\n",
              "        [-1.72274127,  1.27907652],\n",
              "        [ 2.63238161,  1.27130508],\n",
              "        [-0.04025574,  1.7827081 ],\n",
              "        [-0.78745318,  1.40035688],\n",
              "        [ 2.70244116,  1.58744358],\n",
              "        [ 1.2909693 ,  2.75193673]]),\n",
              " array([1, 0, 0, 1, 1, 1, 0, 1, 0, 1, 0, 0, 0, 0, 0, 0, 1, 1, 1, 1, 1, 0,\n",
              "        1, 0, 0, 1, 0, 0, 0, 1, 1, 1, 1, 0, 0, 1, 0, 0, 0, 0, 1, 1, 0, 0,\n",
              "        1, 0, 1, 1, 0, 1, 1, 0, 1, 1, 1, 0, 0, 0, 1, 1, 0, 0, 1, 0, 0, 1,\n",
              "        0, 0, 0, 1, 0, 0, 0, 1, 1, 1, 0, 1, 1, 1, 0, 0, 0, 1, 1, 1, 0, 1,\n",
              "        1, 1, 0, 1, 0, 0, 1, 0, 1, 1, 0, 1]))"
            ]
          },
          "metadata": {
            "tags": []
          },
          "execution_count": 37
        }
      ]
    },
    {
      "cell_type": "code",
      "metadata": {
        "id": "BP_r06r2Xqik",
        "colab_type": "code",
        "colab": {}
      },
      "source": [
        "from sklearn.datasets import make_moons, make_circles, make_classification\n",
        "\n",
        "\n",
        "datasets = [make_moons(noise=0.3, random_state=0),\n",
        "            make_circles(noise=0.2, factor=0.5, random_state=1),\n",
        "            linearly_separable\n",
        "            ]"
      ],
      "execution_count": 0,
      "outputs": []
    },
    {
      "cell_type": "code",
      "metadata": {
        "id": "5SsDZq5KXuoO",
        "colab_type": "code",
        "colab": {
          "base_uri": "https://localhost:8080/",
          "height": 1000
        },
        "outputId": "a488bab3-c63d-4018-c714-717607fd6a6e"
      },
      "source": [
        "datasets"
      ],
      "execution_count": 39,
      "outputs": [
        {
          "output_type": "execute_result",
          "data": {
            "text/plain": [
              "[(array([[ 0.03159499,  0.98698776],\n",
              "         [ 2.11509784, -0.04624397],\n",
              "         [ 0.88248972, -0.07575606],\n",
              "         [-0.0551441 , -0.03733246],\n",
              "         [ 0.82954503, -0.53932149],\n",
              "         [ 2.11285708,  0.66208353],\n",
              "         [ 0.5696927 ,  0.33744136],\n",
              "         [ 0.95217454, -0.75307471],\n",
              "         [-0.02922115,  0.39287336],\n",
              "         [ 1.71579557,  0.36069454],\n",
              "         [-0.27883014,  0.61420539],\n",
              "         [ 2.00344509, -0.3091496 ],\n",
              "         [ 1.50009616, -0.74636376],\n",
              "         [ 1.22540835,  1.19793017],\n",
              "         [ 0.46730819,  0.54703192],\n",
              "         [-0.36653222,  1.11971633],\n",
              "         [ 0.30124459,  1.23315697],\n",
              "         [ 0.30430746,  0.82373935],\n",
              "         [-0.23712492,  0.77876034],\n",
              "         [ 1.16339832,  0.55290238],\n",
              "         [-0.59702417,  0.6572361 ],\n",
              "         [ 0.46356735, -0.1951543 ],\n",
              "         [ 0.68451111,  0.75287685],\n",
              "         [ 0.70515699, -0.45892444],\n",
              "         [-0.65805008, -0.12944211],\n",
              "         [-0.74662946, -0.3829632 ],\n",
              "         [ 0.60585226,  0.31252842],\n",
              "         [ 2.18137168, -0.02291747],\n",
              "         [ 1.91980633,  0.17247329],\n",
              "         [ 1.4834364 , -0.10517023],\n",
              "         [ 0.47404723, -0.14575067],\n",
              "         [ 1.05614605, -1.03570207],\n",
              "         [ 1.86500732, -0.01107874],\n",
              "         [ 0.4194721 , -0.32478101],\n",
              "         [ 0.06873258,  0.56648467],\n",
              "         [-0.17332432,  1.00215131],\n",
              "         [ 0.12412421,  1.00062892],\n",
              "         [ 0.18121142,  0.24717743],\n",
              "         [-0.25451559,  0.19317272],\n",
              "         [ 1.02580668, -0.62574566],\n",
              "         [ 1.52002143, -0.04515581],\n",
              "         [ 0.64174037, -0.39369468],\n",
              "         [-0.87615589,  0.0465662 ],\n",
              "         [-1.06964997,  0.13666025],\n",
              "         [ 1.02658765,  0.37782458],\n",
              "         [ 0.93131325,  1.38517841],\n",
              "         [ 0.67680544,  1.57189931],\n",
              "         [-0.36885733,  0.72886601],\n",
              "         [-1.02465495,  0.16190215],\n",
              "         [ 0.77455385,  0.15375803],\n",
              "         [ 1.4045116 , -0.00705701],\n",
              "         [-0.38147174, -0.23488747],\n",
              "         [ 0.72155224,  0.44721658],\n",
              "         [-0.51346686,  0.67869095],\n",
              "         [ 0.32118546,  0.28668667],\n",
              "         [ 0.1953628 ,  0.16085107],\n",
              "         [ 0.52824196,  0.98300993],\n",
              "         [-0.2216539 ,  0.25160139],\n",
              "         [ 0.22334676,  1.32217183],\n",
              "         [-0.10704572,  0.56178326],\n",
              "         [ 0.63651685,  0.75444825],\n",
              "         [-0.37227848,  0.99291317],\n",
              "         [ 0.20718083, -0.09767143],\n",
              "         [ 0.12733142, -0.3796549 ],\n",
              "         [ 0.71435231, -0.79994161],\n",
              "         [ 1.09487814, -0.36841845],\n",
              "         [-0.14814362,  0.96158657],\n",
              "         [ 1.586188  , -0.62984517],\n",
              "         [ 0.74444551,  0.57661371],\n",
              "         [ 2.18011028, -0.69977751],\n",
              "         [ 0.24575594,  0.8496383 ],\n",
              "         [-0.95003581,  0.90361699],\n",
              "         [-0.88230758,  0.07249044],\n",
              "         [ 2.02297079,  0.12325148],\n",
              "         [ 2.14577321,  0.46296362],\n",
              "         [ 0.35536468, -0.67847989],\n",
              "         [ 0.34665026,  1.11570676],\n",
              "         [ 1.7392373 ,  0.45900352],\n",
              "         [ 0.63856467, -0.44718443],\n",
              "         [ 1.2876687 , -0.4910366 ],\n",
              "         [-0.13772607,  1.2453262 ],\n",
              "         [-0.56175303,  1.05486051],\n",
              "         [ 1.29003748, -0.20691405],\n",
              "         [-0.87539365,  0.50543423],\n",
              "         [-0.92858249, -0.45631991],\n",
              "         [ 0.02493632,  0.10747958],\n",
              "         [ 0.1972559 , -0.06801668],\n",
              "         [ 0.73346056,  0.28161929],\n",
              "         [ 1.68294434, -0.2020423 ],\n",
              "         [ 0.50764124, -0.11731979],\n",
              "         [ 1.66760217, -0.42485665],\n",
              "         [-0.82172282,  0.63141066],\n",
              "         [ 0.30170903,  0.78603534],\n",
              "         [ 1.37671505, -0.80915107],\n",
              "         [ 1.17037551,  0.59840653],\n",
              "         [ 1.69945309,  0.58771967],\n",
              "         [ 0.21862323, -0.65252119],\n",
              "         [ 0.95291428, -0.41976564],\n",
              "         [-1.31850034,  0.42311235],\n",
              "         [-1.29681764,  0.18414709]]),\n",
              "  array([0, 1, 0, 1, 1, 1, 0, 1, 1, 1, 1, 1, 1, 0, 0, 0, 0, 0, 0, 0, 0, 1,\n",
              "         0, 1, 0, 0, 0, 1, 1, 1, 1, 1, 1, 1, 1, 0, 0, 1, 1, 1, 0, 1, 0, 0,\n",
              "         0, 0, 0, 0, 0, 0, 1, 1, 0, 0, 0, 1, 0, 0, 0, 1, 0, 0, 1, 1, 1, 1,\n",
              "         0, 1, 0, 1, 0, 0, 0, 1, 1, 1, 0, 1, 1, 1, 0, 0, 1, 0, 0, 1, 1, 0,\n",
              "         1, 1, 1, 0, 0, 1, 0, 1, 1, 1, 0, 0])),\n",
              " (array([[-0.38289117, -0.09084004],\n",
              "         [-0.02096229, -0.47787416],\n",
              "         [-0.39611596, -1.28942694],\n",
              "         [-0.61813018, -0.06383715],\n",
              "         [ 0.70347838, -0.18703837],\n",
              "         [-0.45970463,  0.69477465],\n",
              "         [-0.45091682, -0.71570524],\n",
              "         [-0.45562004, -0.13406016],\n",
              "         [-0.26513904,  0.40812871],\n",
              "         [-0.15474648,  0.41406973],\n",
              "         [ 0.231206  , -0.53275899],\n",
              "         [ 0.15623875, -0.8678088 ],\n",
              "         [ 0.51647541,  0.48940995],\n",
              "         [ 0.68707007, -0.02334129],\n",
              "         [ 0.54759869, -0.16482373],\n",
              "         [-0.32179572, -0.80553536],\n",
              "         [-1.07478639, -0.733362  ],\n",
              "         [ 0.76758455, -0.43498783],\n",
              "         [-0.47475234, -0.33813186],\n",
              "         [ 0.15420656,  1.07306032],\n",
              "         [ 0.65916696,  0.20773634],\n",
              "         [-0.77795003,  0.1326555 ],\n",
              "         [ 0.47025454, -0.31228748],\n",
              "         [-0.04246799,  0.26555446],\n",
              "         [-0.72405954,  0.48807185],\n",
              "         [-0.36960005, -1.06514028],\n",
              "         [ 0.17833327, -0.49718972],\n",
              "         [-0.93927864, -0.41951638],\n",
              "         [ 0.50914152, -0.70977467],\n",
              "         [-0.05569852, -0.82162607],\n",
              "         [-0.11214579,  0.72197044],\n",
              "         [ 0.80463921, -0.15221296],\n",
              "         [ 0.08261487, -0.11749021],\n",
              "         [ 0.20349541, -0.37396789],\n",
              "         [ 0.13864693, -0.23905642],\n",
              "         [ 0.32785307, -1.00769037],\n",
              "         [ 0.88944061, -0.39117628],\n",
              "         [-0.05837947,  0.28487039],\n",
              "         [-1.0673653 ,  0.2204006 ],\n",
              "         [-0.60071345, -0.69545189],\n",
              "         [-0.03972324, -0.40936056],\n",
              "         [ 0.39742085,  0.20621162],\n",
              "         [-0.36941154,  0.0129811 ],\n",
              "         [ 0.03573703,  0.46666229],\n",
              "         [-0.56814999, -0.41288419],\n",
              "         [ 0.41047299, -0.73640868],\n",
              "         [ 0.88249707, -0.69004404],\n",
              "         [ 0.06579822, -0.50458395],\n",
              "         [-0.75737223, -0.0724028 ],\n",
              "         [ 0.18316966,  0.08722007],\n",
              "         [ 0.67248314, -0.41892665],\n",
              "         [ 0.25898723,  0.39688645],\n",
              "         [-1.1312983 ,  0.4810614 ],\n",
              "         [ 1.0592844 ,  0.64490287],\n",
              "         [ 0.41019663,  0.38790198],\n",
              "         [ 0.95142029, -0.04089983],\n",
              "         [-0.60492988,  0.43950906],\n",
              "         [ 0.23314762, -0.81785711],\n",
              "         [ 0.91067331,  0.30702075],\n",
              "         [-0.45026472, -0.03724104],\n",
              "         [-0.81396121, -0.64733959],\n",
              "         [-0.23191338,  0.50533992],\n",
              "         [-0.59760983,  0.28023168],\n",
              "         [ 0.73960166, -0.84270281],\n",
              "         [ 0.57294659, -0.31198928],\n",
              "         [ 0.24821133, -0.54784509],\n",
              "         [ 0.52127802,  0.94108005],\n",
              "         [ 0.33973198,  0.10609978],\n",
              "         [ 1.05339036, -0.02197593],\n",
              "         [ 0.01327466, -0.63379502],\n",
              "         [ 0.2422589 ,  0.49032064],\n",
              "         [-0.89266612,  0.6345076 ],\n",
              "         [ 0.1672566 ,  0.23548462],\n",
              "         [-0.05611705,  0.38834099],\n",
              "         [ 0.84695486,  0.81435811],\n",
              "         [ 0.29976195, -0.07943031],\n",
              "         [-0.1404762 ,  0.72486032],\n",
              "         [-0.05482024,  0.18417328],\n",
              "         [-0.24643884, -0.43283337],\n",
              "         [-0.23460645,  0.6409442 ],\n",
              "         [-1.13184893, -0.61964942],\n",
              "         [-0.92413821, -0.45302089],\n",
              "         [ 0.2225745 ,  0.77052597],\n",
              "         [-0.69453765,  0.53014147],\n",
              "         [-1.0362509 ,  0.77339965],\n",
              "         [ 0.51880585,  0.30152232],\n",
              "         [-0.77429541,  0.02553767],\n",
              "         [ 0.71468326,  0.56869015],\n",
              "         [-0.33875274,  0.46826063],\n",
              "         [-0.34749244,  0.13441418],\n",
              "         [ 1.12980796,  0.04281936],\n",
              "         [-0.38308979,  0.79116812],\n",
              "         [-0.07425141,  0.2184625 ],\n",
              "         [-0.44945202, -0.05722266],\n",
              "         [ 0.85783288,  0.63778888],\n",
              "         [-0.47486203, -0.22498112],\n",
              "         [ 0.12627243,  0.86978412],\n",
              "         [-0.64736458, -0.36342437],\n",
              "         [ 0.47440459,  1.01101585],\n",
              "         [-0.38565772, -0.81031183]]),\n",
              "  array([1, 1, 0, 1, 1, 0, 0, 1, 1, 1, 1, 0, 1, 1, 1, 0, 0, 0, 1, 0, 0, 1,\n",
              "         1, 1, 0, 0, 1, 0, 0, 0, 1, 1, 1, 1, 1, 0, 0, 1, 0, 0, 1, 1, 1, 0,\n",
              "         1, 0, 0, 1, 0, 1, 0, 1, 0, 0, 1, 0, 0, 1, 0, 1, 0, 1, 1, 0, 0, 1,\n",
              "         0, 1, 0, 1, 1, 0, 1, 1, 0, 1, 0, 1, 1, 0, 0, 0, 0, 0, 0, 1, 0, 0,\n",
              "         1, 1, 0, 0, 1, 1, 0, 1, 0, 1, 0, 0])),\n",
              " (array([[-0.17749658,  0.93049627],\n",
              "         [ 1.97742406,  1.76615529],\n",
              "         [ 1.80002379,  1.7003428 ],\n",
              "         [-0.77083686,  2.35916348],\n",
              "         [-0.30800901,  1.59406316],\n",
              "         [ 0.61472141,  2.43489824],\n",
              "         [ 1.0909431 ,  2.21663402],\n",
              "         [-0.83488954,  2.35868875],\n",
              "         [ 2.47946499,  1.33418967],\n",
              "         [ 1.19926597,  1.82681392],\n",
              "         [ 2.18506184,  0.8226875 ],\n",
              "         [ 1.68423203,  1.0411311 ],\n",
              "         [ 1.14621135,  2.07048527],\n",
              "         [ 1.35596945,  0.56802498],\n",
              "         [ 1.38520748,  1.82607238],\n",
              "         [ 1.86729217,  1.18692699],\n",
              "         [ 0.31227376,  2.24605353],\n",
              "         [-0.08183484,  1.70065511],\n",
              "         [ 0.90484472,  2.60683016],\n",
              "         [-0.4358609 ,  2.0151414 ],\n",
              "         [ 0.81441196,  2.13546784],\n",
              "         [ 3.10874312,  2.26786504],\n",
              "         [-0.25574217,  1.71281146],\n",
              "         [ 1.88663027,  2.72089513],\n",
              "         [ 2.29503547,  3.89267759],\n",
              "         [-0.11415626,  0.85593357],\n",
              "         [ 1.69703537,  3.47717799],\n",
              "         [ 1.83855775,  0.92667213],\n",
              "         [ 1.60298807,  1.3018436 ],\n",
              "         [ 1.13803215,  2.82955007],\n",
              "         [ 0.57002738,  1.82202469],\n",
              "         [ 0.25130172,  1.32225048],\n",
              "         [-0.39833078,  1.984345  ],\n",
              "         [ 1.6291326 ,  0.88168182],\n",
              "         [ 3.10503585,  1.74000633],\n",
              "         [-0.00566874,  1.12039041],\n",
              "         [ 1.36866557,  2.13964438],\n",
              "         [ 2.69839961,  3.54932382],\n",
              "         [ 2.00170838,  1.09862314],\n",
              "         [ 2.43627708,  1.43769476],\n",
              "         [-0.30996938,  0.91256444],\n",
              "         [ 0.08528148,  1.72286096],\n",
              "         [ 2.06235803,  1.60351529],\n",
              "         [ 1.61026984,  2.06899308],\n",
              "         [ 1.39875914,  0.69295034],\n",
              "         [ 1.68417195,  1.05499076],\n",
              "         [ 0.6032637 ,  2.18625056],\n",
              "         [-0.80090405,  1.89873999],\n",
              "         [ 2.28622906,  2.00485199],\n",
              "         [-1.08107738,  2.77507784],\n",
              "         [ 0.6731465 ,  1.08374453],\n",
              "         [ 2.96970576,  2.12322913],\n",
              "         [ 0.67950668,  2.09864274],\n",
              "         [-0.44781177,  3.18420372],\n",
              "         [-0.50033854,  2.02105531],\n",
              "         [ 1.85307118,  3.66612496],\n",
              "         [ 1.72186424,  1.78055874],\n",
              "         [ 2.25033483,  3.12143112],\n",
              "         [ 0.31356908,  1.35127949],\n",
              "         [-0.28410691,  1.85727304],\n",
              "         [ 2.12915656,  2.58463127],\n",
              "         [ 1.5764227 ,  2.01987282],\n",
              "         [-1.07819549,  1.40147405],\n",
              "         [ 1.19768119,  2.40249075],\n",
              "         [ 1.37690112,  1.14985842],\n",
              "         [-1.66006488,  1.46313474],\n",
              "         [ 1.24390011,  1.46004628],\n",
              "         [ 1.87922305,  1.72262314],\n",
              "         [ 2.90850791,  2.94159145],\n",
              "         [-0.48122613,  1.79143762],\n",
              "         [ 2.4374304 ,  1.34535331],\n",
              "         [ 2.56579874,  0.99334358],\n",
              "         [ 2.44899241,  2.49072727],\n",
              "         [ 0.46034247,  0.68402612],\n",
              "         [-0.39068268,  2.13223301],\n",
              "         [-1.26676594,  1.15606381],\n",
              "         [ 1.41882694,  2.57154527],\n",
              "         [-0.56760436,  0.99010229],\n",
              "         [-1.80173745,  1.23149132],\n",
              "         [ 0.18035906,  1.25587797],\n",
              "         [ 2.85271766,  1.84520561],\n",
              "         [ 1.84588723,  1.15083733],\n",
              "         [ 2.2332857 ,  3.1528139 ],\n",
              "         [-0.55018044,  1.08169147],\n",
              "         [-0.79089021,  1.65085521],\n",
              "         [-0.13199329,  1.94007796],\n",
              "         [ 0.70257257,  1.35701296],\n",
              "         [ 0.27672155,  2.67298668],\n",
              "         [ 0.61021587,  2.1651486 ],\n",
              "         [-0.53000368,  2.01943164],\n",
              "         [ 1.83727888,  2.1110129 ],\n",
              "         [ 0.28416019,  2.64492964],\n",
              "         [ 1.89688379,  2.26044693],\n",
              "         [ 2.06813613,  2.6101669 ],\n",
              "         [-1.72274127,  1.27907652],\n",
              "         [ 2.63238161,  1.27130508],\n",
              "         [-0.04025574,  1.7827081 ],\n",
              "         [-0.78745318,  1.40035688],\n",
              "         [ 2.70244116,  1.58744358],\n",
              "         [ 1.2909693 ,  2.75193673]]),\n",
              "  array([1, 0, 0, 1, 1, 1, 0, 1, 0, 1, 0, 0, 0, 0, 0, 0, 1, 1, 1, 1, 1, 0,\n",
              "         1, 0, 0, 1, 0, 0, 0, 1, 1, 1, 1, 0, 0, 1, 0, 0, 0, 0, 1, 1, 0, 0,\n",
              "         1, 0, 1, 1, 0, 1, 1, 0, 1, 1, 1, 0, 0, 0, 1, 1, 0, 0, 1, 0, 0, 1,\n",
              "         0, 0, 0, 1, 0, 0, 0, 1, 1, 1, 0, 1, 1, 1, 0, 0, 0, 1, 1, 1, 0, 1,\n",
              "         1, 1, 0, 1, 0, 0, 1, 0, 1, 1, 0, 1]))]"
            ]
          },
          "metadata": {
            "tags": []
          },
          "execution_count": 39
        }
      ]
    },
    {
      "cell_type": "code",
      "metadata": {
        "id": "l2EiAmqvYHyY",
        "colab_type": "code",
        "colab": {
          "base_uri": "https://localhost:8080/",
          "height": 1000
        },
        "outputId": "182e3d8c-1086-4560-b17b-842cb869d6c0"
      },
      "source": [
        "for ds_cnt, ds in enumerate(datasets):\n",
        "  print(ds_cnt)\n",
        "  print(ds)"
      ],
      "execution_count": 40,
      "outputs": [
        {
          "output_type": "stream",
          "text": [
            "0\n",
            "(array([[ 0.03159499,  0.98698776],\n",
            "       [ 2.11509784, -0.04624397],\n",
            "       [ 0.88248972, -0.07575606],\n",
            "       [-0.0551441 , -0.03733246],\n",
            "       [ 0.82954503, -0.53932149],\n",
            "       [ 2.11285708,  0.66208353],\n",
            "       [ 0.5696927 ,  0.33744136],\n",
            "       [ 0.95217454, -0.75307471],\n",
            "       [-0.02922115,  0.39287336],\n",
            "       [ 1.71579557,  0.36069454],\n",
            "       [-0.27883014,  0.61420539],\n",
            "       [ 2.00344509, -0.3091496 ],\n",
            "       [ 1.50009616, -0.74636376],\n",
            "       [ 1.22540835,  1.19793017],\n",
            "       [ 0.46730819,  0.54703192],\n",
            "       [-0.36653222,  1.11971633],\n",
            "       [ 0.30124459,  1.23315697],\n",
            "       [ 0.30430746,  0.82373935],\n",
            "       [-0.23712492,  0.77876034],\n",
            "       [ 1.16339832,  0.55290238],\n",
            "       [-0.59702417,  0.6572361 ],\n",
            "       [ 0.46356735, -0.1951543 ],\n",
            "       [ 0.68451111,  0.75287685],\n",
            "       [ 0.70515699, -0.45892444],\n",
            "       [-0.65805008, -0.12944211],\n",
            "       [-0.74662946, -0.3829632 ],\n",
            "       [ 0.60585226,  0.31252842],\n",
            "       [ 2.18137168, -0.02291747],\n",
            "       [ 1.91980633,  0.17247329],\n",
            "       [ 1.4834364 , -0.10517023],\n",
            "       [ 0.47404723, -0.14575067],\n",
            "       [ 1.05614605, -1.03570207],\n",
            "       [ 1.86500732, -0.01107874],\n",
            "       [ 0.4194721 , -0.32478101],\n",
            "       [ 0.06873258,  0.56648467],\n",
            "       [-0.17332432,  1.00215131],\n",
            "       [ 0.12412421,  1.00062892],\n",
            "       [ 0.18121142,  0.24717743],\n",
            "       [-0.25451559,  0.19317272],\n",
            "       [ 1.02580668, -0.62574566],\n",
            "       [ 1.52002143, -0.04515581],\n",
            "       [ 0.64174037, -0.39369468],\n",
            "       [-0.87615589,  0.0465662 ],\n",
            "       [-1.06964997,  0.13666025],\n",
            "       [ 1.02658765,  0.37782458],\n",
            "       [ 0.93131325,  1.38517841],\n",
            "       [ 0.67680544,  1.57189931],\n",
            "       [-0.36885733,  0.72886601],\n",
            "       [-1.02465495,  0.16190215],\n",
            "       [ 0.77455385,  0.15375803],\n",
            "       [ 1.4045116 , -0.00705701],\n",
            "       [-0.38147174, -0.23488747],\n",
            "       [ 0.72155224,  0.44721658],\n",
            "       [-0.51346686,  0.67869095],\n",
            "       [ 0.32118546,  0.28668667],\n",
            "       [ 0.1953628 ,  0.16085107],\n",
            "       [ 0.52824196,  0.98300993],\n",
            "       [-0.2216539 ,  0.25160139],\n",
            "       [ 0.22334676,  1.32217183],\n",
            "       [-0.10704572,  0.56178326],\n",
            "       [ 0.63651685,  0.75444825],\n",
            "       [-0.37227848,  0.99291317],\n",
            "       [ 0.20718083, -0.09767143],\n",
            "       [ 0.12733142, -0.3796549 ],\n",
            "       [ 0.71435231, -0.79994161],\n",
            "       [ 1.09487814, -0.36841845],\n",
            "       [-0.14814362,  0.96158657],\n",
            "       [ 1.586188  , -0.62984517],\n",
            "       [ 0.74444551,  0.57661371],\n",
            "       [ 2.18011028, -0.69977751],\n",
            "       [ 0.24575594,  0.8496383 ],\n",
            "       [-0.95003581,  0.90361699],\n",
            "       [-0.88230758,  0.07249044],\n",
            "       [ 2.02297079,  0.12325148],\n",
            "       [ 2.14577321,  0.46296362],\n",
            "       [ 0.35536468, -0.67847989],\n",
            "       [ 0.34665026,  1.11570676],\n",
            "       [ 1.7392373 ,  0.45900352],\n",
            "       [ 0.63856467, -0.44718443],\n",
            "       [ 1.2876687 , -0.4910366 ],\n",
            "       [-0.13772607,  1.2453262 ],\n",
            "       [-0.56175303,  1.05486051],\n",
            "       [ 1.29003748, -0.20691405],\n",
            "       [-0.87539365,  0.50543423],\n",
            "       [-0.92858249, -0.45631991],\n",
            "       [ 0.02493632,  0.10747958],\n",
            "       [ 0.1972559 , -0.06801668],\n",
            "       [ 0.73346056,  0.28161929],\n",
            "       [ 1.68294434, -0.2020423 ],\n",
            "       [ 0.50764124, -0.11731979],\n",
            "       [ 1.66760217, -0.42485665],\n",
            "       [-0.82172282,  0.63141066],\n",
            "       [ 0.30170903,  0.78603534],\n",
            "       [ 1.37671505, -0.80915107],\n",
            "       [ 1.17037551,  0.59840653],\n",
            "       [ 1.69945309,  0.58771967],\n",
            "       [ 0.21862323, -0.65252119],\n",
            "       [ 0.95291428, -0.41976564],\n",
            "       [-1.31850034,  0.42311235],\n",
            "       [-1.29681764,  0.18414709]]), array([0, 1, 0, 1, 1, 1, 0, 1, 1, 1, 1, 1, 1, 0, 0, 0, 0, 0, 0, 0, 0, 1,\n",
            "       0, 1, 0, 0, 0, 1, 1, 1, 1, 1, 1, 1, 1, 0, 0, 1, 1, 1, 0, 1, 0, 0,\n",
            "       0, 0, 0, 0, 0, 0, 1, 1, 0, 0, 0, 1, 0, 0, 0, 1, 0, 0, 1, 1, 1, 1,\n",
            "       0, 1, 0, 1, 0, 0, 0, 1, 1, 1, 0, 1, 1, 1, 0, 0, 1, 0, 0, 1, 1, 0,\n",
            "       1, 1, 1, 0, 0, 1, 0, 1, 1, 1, 0, 0]))\n",
            "1\n",
            "(array([[-0.38289117, -0.09084004],\n",
            "       [-0.02096229, -0.47787416],\n",
            "       [-0.39611596, -1.28942694],\n",
            "       [-0.61813018, -0.06383715],\n",
            "       [ 0.70347838, -0.18703837],\n",
            "       [-0.45970463,  0.69477465],\n",
            "       [-0.45091682, -0.71570524],\n",
            "       [-0.45562004, -0.13406016],\n",
            "       [-0.26513904,  0.40812871],\n",
            "       [-0.15474648,  0.41406973],\n",
            "       [ 0.231206  , -0.53275899],\n",
            "       [ 0.15623875, -0.8678088 ],\n",
            "       [ 0.51647541,  0.48940995],\n",
            "       [ 0.68707007, -0.02334129],\n",
            "       [ 0.54759869, -0.16482373],\n",
            "       [-0.32179572, -0.80553536],\n",
            "       [-1.07478639, -0.733362  ],\n",
            "       [ 0.76758455, -0.43498783],\n",
            "       [-0.47475234, -0.33813186],\n",
            "       [ 0.15420656,  1.07306032],\n",
            "       [ 0.65916696,  0.20773634],\n",
            "       [-0.77795003,  0.1326555 ],\n",
            "       [ 0.47025454, -0.31228748],\n",
            "       [-0.04246799,  0.26555446],\n",
            "       [-0.72405954,  0.48807185],\n",
            "       [-0.36960005, -1.06514028],\n",
            "       [ 0.17833327, -0.49718972],\n",
            "       [-0.93927864, -0.41951638],\n",
            "       [ 0.50914152, -0.70977467],\n",
            "       [-0.05569852, -0.82162607],\n",
            "       [-0.11214579,  0.72197044],\n",
            "       [ 0.80463921, -0.15221296],\n",
            "       [ 0.08261487, -0.11749021],\n",
            "       [ 0.20349541, -0.37396789],\n",
            "       [ 0.13864693, -0.23905642],\n",
            "       [ 0.32785307, -1.00769037],\n",
            "       [ 0.88944061, -0.39117628],\n",
            "       [-0.05837947,  0.28487039],\n",
            "       [-1.0673653 ,  0.2204006 ],\n",
            "       [-0.60071345, -0.69545189],\n",
            "       [-0.03972324, -0.40936056],\n",
            "       [ 0.39742085,  0.20621162],\n",
            "       [-0.36941154,  0.0129811 ],\n",
            "       [ 0.03573703,  0.46666229],\n",
            "       [-0.56814999, -0.41288419],\n",
            "       [ 0.41047299, -0.73640868],\n",
            "       [ 0.88249707, -0.69004404],\n",
            "       [ 0.06579822, -0.50458395],\n",
            "       [-0.75737223, -0.0724028 ],\n",
            "       [ 0.18316966,  0.08722007],\n",
            "       [ 0.67248314, -0.41892665],\n",
            "       [ 0.25898723,  0.39688645],\n",
            "       [-1.1312983 ,  0.4810614 ],\n",
            "       [ 1.0592844 ,  0.64490287],\n",
            "       [ 0.41019663,  0.38790198],\n",
            "       [ 0.95142029, -0.04089983],\n",
            "       [-0.60492988,  0.43950906],\n",
            "       [ 0.23314762, -0.81785711],\n",
            "       [ 0.91067331,  0.30702075],\n",
            "       [-0.45026472, -0.03724104],\n",
            "       [-0.81396121, -0.64733959],\n",
            "       [-0.23191338,  0.50533992],\n",
            "       [-0.59760983,  0.28023168],\n",
            "       [ 0.73960166, -0.84270281],\n",
            "       [ 0.57294659, -0.31198928],\n",
            "       [ 0.24821133, -0.54784509],\n",
            "       [ 0.52127802,  0.94108005],\n",
            "       [ 0.33973198,  0.10609978],\n",
            "       [ 1.05339036, -0.02197593],\n",
            "       [ 0.01327466, -0.63379502],\n",
            "       [ 0.2422589 ,  0.49032064],\n",
            "       [-0.89266612,  0.6345076 ],\n",
            "       [ 0.1672566 ,  0.23548462],\n",
            "       [-0.05611705,  0.38834099],\n",
            "       [ 0.84695486,  0.81435811],\n",
            "       [ 0.29976195, -0.07943031],\n",
            "       [-0.1404762 ,  0.72486032],\n",
            "       [-0.05482024,  0.18417328],\n",
            "       [-0.24643884, -0.43283337],\n",
            "       [-0.23460645,  0.6409442 ],\n",
            "       [-1.13184893, -0.61964942],\n",
            "       [-0.92413821, -0.45302089],\n",
            "       [ 0.2225745 ,  0.77052597],\n",
            "       [-0.69453765,  0.53014147],\n",
            "       [-1.0362509 ,  0.77339965],\n",
            "       [ 0.51880585,  0.30152232],\n",
            "       [-0.77429541,  0.02553767],\n",
            "       [ 0.71468326,  0.56869015],\n",
            "       [-0.33875274,  0.46826063],\n",
            "       [-0.34749244,  0.13441418],\n",
            "       [ 1.12980796,  0.04281936],\n",
            "       [-0.38308979,  0.79116812],\n",
            "       [-0.07425141,  0.2184625 ],\n",
            "       [-0.44945202, -0.05722266],\n",
            "       [ 0.85783288,  0.63778888],\n",
            "       [-0.47486203, -0.22498112],\n",
            "       [ 0.12627243,  0.86978412],\n",
            "       [-0.64736458, -0.36342437],\n",
            "       [ 0.47440459,  1.01101585],\n",
            "       [-0.38565772, -0.81031183]]), array([1, 1, 0, 1, 1, 0, 0, 1, 1, 1, 1, 0, 1, 1, 1, 0, 0, 0, 1, 0, 0, 1,\n",
            "       1, 1, 0, 0, 1, 0, 0, 0, 1, 1, 1, 1, 1, 0, 0, 1, 0, 0, 1, 1, 1, 0,\n",
            "       1, 0, 0, 1, 0, 1, 0, 1, 0, 0, 1, 0, 0, 1, 0, 1, 0, 1, 1, 0, 0, 1,\n",
            "       0, 1, 0, 1, 1, 0, 1, 1, 0, 1, 0, 1, 1, 0, 0, 0, 0, 0, 0, 1, 0, 0,\n",
            "       1, 1, 0, 0, 1, 1, 0, 1, 0, 1, 0, 0]))\n",
            "2\n",
            "(array([[-0.17749658,  0.93049627],\n",
            "       [ 1.97742406,  1.76615529],\n",
            "       [ 1.80002379,  1.7003428 ],\n",
            "       [-0.77083686,  2.35916348],\n",
            "       [-0.30800901,  1.59406316],\n",
            "       [ 0.61472141,  2.43489824],\n",
            "       [ 1.0909431 ,  2.21663402],\n",
            "       [-0.83488954,  2.35868875],\n",
            "       [ 2.47946499,  1.33418967],\n",
            "       [ 1.19926597,  1.82681392],\n",
            "       [ 2.18506184,  0.8226875 ],\n",
            "       [ 1.68423203,  1.0411311 ],\n",
            "       [ 1.14621135,  2.07048527],\n",
            "       [ 1.35596945,  0.56802498],\n",
            "       [ 1.38520748,  1.82607238],\n",
            "       [ 1.86729217,  1.18692699],\n",
            "       [ 0.31227376,  2.24605353],\n",
            "       [-0.08183484,  1.70065511],\n",
            "       [ 0.90484472,  2.60683016],\n",
            "       [-0.4358609 ,  2.0151414 ],\n",
            "       [ 0.81441196,  2.13546784],\n",
            "       [ 3.10874312,  2.26786504],\n",
            "       [-0.25574217,  1.71281146],\n",
            "       [ 1.88663027,  2.72089513],\n",
            "       [ 2.29503547,  3.89267759],\n",
            "       [-0.11415626,  0.85593357],\n",
            "       [ 1.69703537,  3.47717799],\n",
            "       [ 1.83855775,  0.92667213],\n",
            "       [ 1.60298807,  1.3018436 ],\n",
            "       [ 1.13803215,  2.82955007],\n",
            "       [ 0.57002738,  1.82202469],\n",
            "       [ 0.25130172,  1.32225048],\n",
            "       [-0.39833078,  1.984345  ],\n",
            "       [ 1.6291326 ,  0.88168182],\n",
            "       [ 3.10503585,  1.74000633],\n",
            "       [-0.00566874,  1.12039041],\n",
            "       [ 1.36866557,  2.13964438],\n",
            "       [ 2.69839961,  3.54932382],\n",
            "       [ 2.00170838,  1.09862314],\n",
            "       [ 2.43627708,  1.43769476],\n",
            "       [-0.30996938,  0.91256444],\n",
            "       [ 0.08528148,  1.72286096],\n",
            "       [ 2.06235803,  1.60351529],\n",
            "       [ 1.61026984,  2.06899308],\n",
            "       [ 1.39875914,  0.69295034],\n",
            "       [ 1.68417195,  1.05499076],\n",
            "       [ 0.6032637 ,  2.18625056],\n",
            "       [-0.80090405,  1.89873999],\n",
            "       [ 2.28622906,  2.00485199],\n",
            "       [-1.08107738,  2.77507784],\n",
            "       [ 0.6731465 ,  1.08374453],\n",
            "       [ 2.96970576,  2.12322913],\n",
            "       [ 0.67950668,  2.09864274],\n",
            "       [-0.44781177,  3.18420372],\n",
            "       [-0.50033854,  2.02105531],\n",
            "       [ 1.85307118,  3.66612496],\n",
            "       [ 1.72186424,  1.78055874],\n",
            "       [ 2.25033483,  3.12143112],\n",
            "       [ 0.31356908,  1.35127949],\n",
            "       [-0.28410691,  1.85727304],\n",
            "       [ 2.12915656,  2.58463127],\n",
            "       [ 1.5764227 ,  2.01987282],\n",
            "       [-1.07819549,  1.40147405],\n",
            "       [ 1.19768119,  2.40249075],\n",
            "       [ 1.37690112,  1.14985842],\n",
            "       [-1.66006488,  1.46313474],\n",
            "       [ 1.24390011,  1.46004628],\n",
            "       [ 1.87922305,  1.72262314],\n",
            "       [ 2.90850791,  2.94159145],\n",
            "       [-0.48122613,  1.79143762],\n",
            "       [ 2.4374304 ,  1.34535331],\n",
            "       [ 2.56579874,  0.99334358],\n",
            "       [ 2.44899241,  2.49072727],\n",
            "       [ 0.46034247,  0.68402612],\n",
            "       [-0.39068268,  2.13223301],\n",
            "       [-1.26676594,  1.15606381],\n",
            "       [ 1.41882694,  2.57154527],\n",
            "       [-0.56760436,  0.99010229],\n",
            "       [-1.80173745,  1.23149132],\n",
            "       [ 0.18035906,  1.25587797],\n",
            "       [ 2.85271766,  1.84520561],\n",
            "       [ 1.84588723,  1.15083733],\n",
            "       [ 2.2332857 ,  3.1528139 ],\n",
            "       [-0.55018044,  1.08169147],\n",
            "       [-0.79089021,  1.65085521],\n",
            "       [-0.13199329,  1.94007796],\n",
            "       [ 0.70257257,  1.35701296],\n",
            "       [ 0.27672155,  2.67298668],\n",
            "       [ 0.61021587,  2.1651486 ],\n",
            "       [-0.53000368,  2.01943164],\n",
            "       [ 1.83727888,  2.1110129 ],\n",
            "       [ 0.28416019,  2.64492964],\n",
            "       [ 1.89688379,  2.26044693],\n",
            "       [ 2.06813613,  2.6101669 ],\n",
            "       [-1.72274127,  1.27907652],\n",
            "       [ 2.63238161,  1.27130508],\n",
            "       [-0.04025574,  1.7827081 ],\n",
            "       [-0.78745318,  1.40035688],\n",
            "       [ 2.70244116,  1.58744358],\n",
            "       [ 1.2909693 ,  2.75193673]]), array([1, 0, 0, 1, 1, 1, 0, 1, 0, 1, 0, 0, 0, 0, 0, 0, 1, 1, 1, 1, 1, 0,\n",
            "       1, 0, 0, 1, 0, 0, 0, 1, 1, 1, 1, 0, 0, 1, 0, 0, 0, 0, 1, 1, 0, 0,\n",
            "       1, 0, 1, 1, 0, 1, 1, 0, 1, 1, 1, 0, 0, 0, 1, 1, 0, 0, 1, 0, 0, 1,\n",
            "       0, 0, 0, 1, 0, 0, 0, 1, 1, 1, 0, 1, 1, 1, 0, 0, 0, 1, 1, 1, 0, 1,\n",
            "       1, 1, 0, 1, 0, 0, 1, 0, 1, 1, 0, 1]))\n"
          ],
          "name": "stdout"
        }
      ]
    },
    {
      "cell_type": "code",
      "metadata": {
        "id": "YSaNrEqSYgy5",
        "colab_type": "code",
        "colab": {}
      },
      "source": [
        ""
      ],
      "execution_count": 0,
      "outputs": []
    }
  ]
}