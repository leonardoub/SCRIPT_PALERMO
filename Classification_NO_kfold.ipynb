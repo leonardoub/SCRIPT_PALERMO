{
  "nbformat": 4,
  "nbformat_minor": 0,
  "metadata": {
    "colab": {
      "name": "Classification_NO_kfold.ipynb",
      "provenance": [],
      "authorship_tag": "ABX9TyMJuKtTGmCnf90W9IrOA1kM",
      "include_colab_link": true
    },
    "kernelspec": {
      "name": "python3",
      "display_name": "Python 3"
    }
  },
  "cells": [
    {
      "cell_type": "markdown",
      "metadata": {
        "id": "view-in-github",
        "colab_type": "text"
      },
      "source": [
        "<a href=\"https://colab.research.google.com/github/leonardoub/SCRIPT_PALERMO/blob/master/Classification_NO_kfold.ipynb\" target=\"_parent\"><img src=\"https://colab.research.google.com/assets/colab-badge.svg\" alt=\"Open In Colab\"/></a>"
      ]
    },
    {
      "cell_type": "code",
      "metadata": {
        "id": "3i4O_AtKVzh1",
        "colab_type": "code",
        "colab": {}
      },
      "source": [
        "import random\n",
        "import pandas as pd\n",
        "import numpy as np\n",
        "import matplotlib.pyplot as plt\n",
        "import scipy\n",
        "import seaborn as sns"
      ],
      "execution_count": 0,
      "outputs": []
    },
    {
      "cell_type": "code",
      "metadata": {
        "id": "xcb00g1tWTqw",
        "colab_type": "code",
        "colab": {
          "base_uri": "https://localhost:8080/",
          "height": 81
        },
        "outputId": "9cf0141b-69b3-4893-faec-51d1ce6578ad"
      },
      "source": [
        "# Seed value\n",
        "# Apparently you may use different seed values at each stage\n",
        "seed_value= 0\n",
        "\n",
        "# 1. Set `PYTHONHASHSEED` environment variable at a fixed value\n",
        "import os\n",
        "os.environ['PYTHONHASHSEED']=str(seed_value)\n",
        "\n",
        "# 2. Set `python` built-in pseudo-random generator at a fixed value\n",
        "import random\n",
        "random.seed(seed_value)\n",
        "\n",
        "# 3. Set `numpy` pseudo-random generator at a fixed value\n",
        "import numpy as np\n",
        "np.random.seed(seed_value)\n",
        "\n",
        "# 4. Set `tensorflow` pseudo-random generator at a fixed value\n",
        "import tensorflow as tf\n",
        "tf.set_random_seed(seed_value)\n",
        "\n",
        "# 5. Configure a new global `tensorflow` session\n",
        "from keras import backend as K\n",
        "session_conf = tf.ConfigProto(intra_op_parallelism_threads=1, inter_op_parallelism_threads=1)\n",
        "sess = tf.Session(graph=tf.get_default_graph(), config=session_conf)\n",
        "K.set_session(sess)"
      ],
      "execution_count": 2,
      "outputs": [
        {
          "output_type": "display_data",
          "data": {
            "text/html": [
              "<p style=\"color: red;\">\n",
              "The default version of TensorFlow in Colab will soon switch to TensorFlow 2.x.<br>\n",
              "We recommend you <a href=\"https://www.tensorflow.org/guide/migrate\" target=\"_blank\">upgrade</a> now \n",
              "or ensure your notebook will continue to use TensorFlow 1.x via the <code>%tensorflow_version 1.x</code> magic:\n",
              "<a href=\"https://colab.research.google.com/notebooks/tensorflow_version.ipynb\" target=\"_blank\">more info</a>.</p>\n"
            ],
            "text/plain": [
              "<IPython.core.display.HTML object>"
            ]
          },
          "metadata": {
            "tags": []
          }
        },
        {
          "output_type": "stream",
          "text": [
            "Using TensorFlow backend.\n"
          ],
          "name": "stderr"
        }
      ]
    },
    {
      "cell_type": "markdown",
      "metadata": {
        "id": "_DME-inQ4ke_",
        "colab_type": "text"
      },
      "source": [
        "#Load data"
      ]
    },
    {
      "cell_type": "code",
      "metadata": {
        "id": "7Hq45TSf3WcR",
        "colab_type": "code",
        "outputId": "44293414-7a60-4666-f411-e4d749ea5fc0",
        "colab": {
          "base_uri": "https://localhost:8080/",
          "height": 52
        }
      },
      "source": [
        "#load data from Drive\n",
        "from google.colab import drive\n",
        "drive.mount('/gdrive')\n",
        "%cd /gdrive"
      ],
      "execution_count": 3,
      "outputs": [
        {
          "output_type": "stream",
          "text": [
            "Drive already mounted at /gdrive; to attempt to forcibly remount, call drive.mount(\"/gdrive\", force_remount=True).\n",
            "/gdrive\n"
          ],
          "name": "stdout"
        }
      ]
    },
    {
      "cell_type": "code",
      "metadata": {
        "id": "UCkUXesZhMzg",
        "colab_type": "code",
        "colab": {}
      },
      "source": [
        "train_dataset_path = '/gdrive/My Drive/AIM_PA/database_training2.csv'\n",
        "test_dataset_path = '/gdrive/My Drive/AIM_PA/database_nostro_without_nan.csv'"
      ],
      "execution_count": 0,
      "outputs": []
    },
    {
      "cell_type": "code",
      "metadata": {
        "id": "TczPxOpEhTXw",
        "colab_type": "code",
        "colab": {}
      },
      "source": [
        "df_train = pd.read_csv(train_dataset_path)\n",
        "df_test = pd.read_csv(test_dataset_path)"
      ],
      "execution_count": 0,
      "outputs": []
    },
    {
      "cell_type": "code",
      "metadata": {
        "id": "9I5MNxeW3j2G",
        "colab_type": "code",
        "colab": {}
      },
      "source": [
        "df_train.rename(columns={'Survival.time (months)':'Surv_time_months'}, inplace=True)"
      ],
      "execution_count": 0,
      "outputs": []
    },
    {
      "cell_type": "code",
      "metadata": {
        "id": "TLxDyFPo3sU9",
        "colab_type": "code",
        "colab": {}
      },
      "source": [
        "df_test.rename(columns={'Survival.time (months)':'Surv_time_months'}, inplace=True)"
      ],
      "execution_count": 0,
      "outputs": []
    },
    {
      "cell_type": "code",
      "metadata": {
        "id": "oXU_B2k03uYa",
        "colab_type": "code",
        "colab": {}
      },
      "source": [
        "df_train.rename(columns={'Overall.Stage':'Overall_Stage'}, inplace=True)\n",
        "df_test.rename(columns={'Overall.Stage':'Overall_Stage'}, inplace=True)"
      ],
      "execution_count": 0,
      "outputs": []
    },
    {
      "cell_type": "code",
      "metadata": {
        "id": "T1YCrOMP3_4q",
        "colab_type": "code",
        "colab": {}
      },
      "source": [
        "public_data = df_train.drop(['Histology', 'Surv_time_months', 'OS', 'deadstatus.event','Overall_Stage'], axis=1)"
      ],
      "execution_count": 0,
      "outputs": []
    },
    {
      "cell_type": "code",
      "metadata": {
        "id": "BWj1mwjV4Mzo",
        "colab_type": "code",
        "colab": {}
      },
      "source": [
        "PA_data = df_test.drop(['Histology', 'Surv_time_months', 'OS', 'deadstatus.event','Overall_Stage'], axis=1)"
      ],
      "execution_count": 0,
      "outputs": []
    },
    {
      "cell_type": "code",
      "metadata": {
        "id": "dKdS4Low4PHh",
        "colab_type": "code",
        "colab": {}
      },
      "source": [
        "public_labels = df_train.Histology"
      ],
      "execution_count": 0,
      "outputs": []
    },
    {
      "cell_type": "code",
      "metadata": {
        "id": "K6EsAdEt4RNP",
        "colab_type": "code",
        "colab": {}
      },
      "source": [
        "PA_labels = df_test.Histology"
      ],
      "execution_count": 0,
      "outputs": []
    },
    {
      "cell_type": "markdown",
      "metadata": {
        "id": "tqDYyNd6_3s4",
        "colab_type": "text"
      },
      "source": [
        "#Train Test Split"
      ]
    },
    {
      "cell_type": "code",
      "metadata": {
        "id": "_7I8R-jd_3Hd",
        "colab_type": "code",
        "colab": {}
      },
      "source": [
        "from sklearn.model_selection import train_test_split"
      ],
      "execution_count": 0,
      "outputs": []
    },
    {
      "cell_type": "code",
      "metadata": {
        "id": "_bnO8hgZ__GF",
        "colab_type": "code",
        "colab": {}
      },
      "source": [
        "X_train_big, X_test, y_train_big, y_test = train_test_split(public_data, public_labels, test_size=13, stratify=public_labels, random_state=1)"
      ],
      "execution_count": 0,
      "outputs": []
    },
    {
      "cell_type": "markdown",
      "metadata": {
        "id": "pMuRNXFjVEiK",
        "colab_type": "text"
      },
      "source": [
        "#Train Validation Split"
      ]
    },
    {
      "cell_type": "code",
      "metadata": {
        "colab_type": "code",
        "id": "ovpVx4a7VMkl",
        "colab": {}
      },
      "source": [
        "from sklearn.model_selection import train_test_split"
      ],
      "execution_count": 0,
      "outputs": []
    },
    {
      "cell_type": "code",
      "metadata": {
        "colab_type": "code",
        "id": "S3Tq1lHxVMlu",
        "colab": {}
      },
      "source": [
        "X_train, X_val, y_train, y_val = train_test_split(X_train_big, y_train_big, test_size=13, stratify=y_train_big, random_state=2)                                                         "
      ],
      "execution_count": 0,
      "outputs": []
    },
    {
      "cell_type": "markdown",
      "metadata": {
        "id": "dtPx7PMDnXM3",
        "colab_type": "text"
      },
      "source": [
        "#Z score dei dati"
      ]
    },
    {
      "cell_type": "code",
      "metadata": {
        "id": "XK4Qji2EnVV4",
        "colab_type": "code",
        "colab": {}
      },
      "source": [
        "mean = X_train_1.mean(axis=0)\n",
        "train_data_stand = X_train - mean\n",
        "std = X_train.std(axis=0)\n",
        "train_data_stand /= std"
      ],
      "execution_count": 0,
      "outputs": []
    },
    {
      "cell_type": "code",
      "metadata": {
        "id": "jaqeWiaXXGy0",
        "colab_type": "code",
        "colab": {}
      },
      "source": [
        "val_data_stand = X_val - mean\n",
        "val_data_stand /= std"
      ],
      "execution_count": 0,
      "outputs": []
    },
    {
      "cell_type": "code",
      "metadata": {
        "id": "YOVOoNOvm0Yx",
        "colab_type": "code",
        "colab": {}
      },
      "source": [
        "test_data_stand = X_test - mean\n",
        "test_data_stand /= std"
      ],
      "execution_count": 0,
      "outputs": []
    },
    {
      "cell_type": "markdown",
      "metadata": {
        "id": "5kvXfgKi2uWa",
        "colab_type": "text"
      },
      "source": [
        "##LDA"
      ]
    },
    {
      "cell_type": "code",
      "metadata": {
        "id": "hYTGbSu22w34",
        "colab_type": "code",
        "colab": {}
      },
      "source": [
        "from sklearn.discriminant_analysis import LinearDiscriminantAnalysis"
      ],
      "execution_count": 0,
      "outputs": []
    },
    {
      "cell_type": "code",
      "metadata": {
        "id": "TMCI-ALj23N1",
        "colab_type": "code",
        "colab": {}
      },
      "source": [
        "lda = LinearDiscriminantAnalysis(n_components=3)"
      ],
      "execution_count": 0,
      "outputs": []
    },
    {
      "cell_type": "code",
      "metadata": {
        "id": "EqcJWjWj3rvS",
        "colab_type": "code",
        "outputId": "222a9c5e-ef14-4aba-bf96-820a2bc420a4",
        "colab": {
          "base_uri": "https://localhost:8080/",
          "height": 106
        }
      },
      "source": [
        "train_data_stand_lda = lda.fit(train_data_stand, y_train).transform(train_data_stand)"
      ],
      "execution_count": 37,
      "outputs": [
        {
          "output_type": "stream",
          "text": [
            "/usr/local/lib/python3.6/dist-packages/sklearn/discriminant_analysis.py:463: ChangedBehaviorWarning: n_components cannot be larger than min(n_features, n_classes - 1). Using min(n_features, n_classes - 1) = min(107, 3 - 1) = 2 components.\n",
            "  ChangedBehaviorWarning)\n",
            "/usr/local/lib/python3.6/dist-packages/sklearn/discriminant_analysis.py:469: FutureWarning: In version 0.23, setting n_components > min(n_features, n_classes - 1) will raise a ValueError. You should set n_components to None (default), or a value smaller or equal to min(n_features, n_classes - 1).\n",
            "  warnings.warn(future_msg, FutureWarning)\n"
          ],
          "name": "stderr"
        }
      ]
    },
    {
      "cell_type": "code",
      "metadata": {
        "id": "3opFZvVx45TC",
        "colab_type": "code",
        "outputId": "616a1173-cbb4-4fa7-ac09-7e10729a539c",
        "colab": {
          "base_uri": "https://localhost:8080/",
          "height": 34
        }
      },
      "source": [
        "train_data_stand_lda.shape"
      ],
      "execution_count": 38,
      "outputs": [
        {
          "output_type": "execute_result",
          "data": {
            "text/plain": [
              "(105, 2)"
            ]
          },
          "metadata": {
            "tags": []
          },
          "execution_count": 38
        }
      ]
    },
    {
      "cell_type": "code",
      "metadata": {
        "id": "E0UwBbCjf13g",
        "colab_type": "code",
        "colab": {}
      },
      "source": [
        "val_data_stand_lda = lda.transform(val_data_stand)"
      ],
      "execution_count": 0,
      "outputs": []
    },
    {
      "cell_type": "code",
      "metadata": {
        "id": "cjpMHM6iqbbC",
        "colab_type": "code",
        "colab": {}
      },
      "source": [
        "test_data_stand_lda = lda.transform(test_data_stand)"
      ],
      "execution_count": 0,
      "outputs": []
    },
    {
      "cell_type": "markdown",
      "metadata": {
        "id": "WF5fsvoQwBqR",
        "colab_type": "text"
      },
      "source": [
        "#Z-score dopo LDA"
      ]
    },
    {
      "cell_type": "code",
      "metadata": {
        "id": "Bw8_CwJZwBD1",
        "colab_type": "code",
        "colab": {}
      },
      "source": [
        "mean = train_data_stand_lda.mean(axis=0)\n",
        "std = train_data_stand_lda.std(axis=0)\n",
        "train_data_stand_lda = train_data_stand_lda - mean\n",
        "train_data_stand_lda /= std"
      ],
      "execution_count": 0,
      "outputs": []
    },
    {
      "cell_type": "code",
      "metadata": {
        "id": "3KW2c_RIXpWy",
        "colab_type": "code",
        "colab": {}
      },
      "source": [
        "val_data_stand_lda = val_data_stand_lda - mean\n",
        "val_data_stand_lda /= std"
      ],
      "execution_count": 0,
      "outputs": []
    },
    {
      "cell_type": "code",
      "metadata": {
        "id": "H3wGNwiWXvbo",
        "colab_type": "code",
        "colab": {}
      },
      "source": [
        "test_data_stand_lda = test_data_stand_lda - mean\n",
        "test_data_stand_lda /= std"
      ],
      "execution_count": 0,
      "outputs": []
    },
    {
      "cell_type": "markdown",
      "metadata": {
        "id": "00VohsAyokpq",
        "colab_type": "text"
      },
      "source": [
        "##Vettorizzare i label"
      ]
    },
    {
      "cell_type": "code",
      "metadata": {
        "id": "8RvS_9ISpxRi",
        "colab_type": "code",
        "colab": {}
      },
      "source": [
        "word_index={'adenocarcinoma':0, 'large cell':1, 'squamous cell carcinoma':2}"
      ],
      "execution_count": 0,
      "outputs": []
    },
    {
      "cell_type": "code",
      "metadata": {
        "id": "uiPW9U0XrWY2",
        "colab_type": "code",
        "colab": {}
      },
      "source": [
        "train_labels_dec = [word_index[label] for label in y_train]"
      ],
      "execution_count": 0,
      "outputs": []
    },
    {
      "cell_type": "code",
      "metadata": {
        "id": "wTLYdHX-mYtM",
        "colab_type": "code",
        "colab": {}
      },
      "source": [
        "val_labels_dec = [word_index[label] for label in y_val]"
      ],
      "execution_count": 0,
      "outputs": []
    },
    {
      "cell_type": "code",
      "metadata": {
        "id": "C4SBiKFQsKFw",
        "colab_type": "code",
        "colab": {}
      },
      "source": [
        "test_labels_dec = [word_index[label] for label in y_test]"
      ],
      "execution_count": 0,
      "outputs": []
    },
    {
      "cell_type": "code",
      "metadata": {
        "id": "0IMbTYR7okJq",
        "colab_type": "code",
        "colab": {}
      },
      "source": [
        "from keras.utils.np_utils import to_categorical"
      ],
      "execution_count": 0,
      "outputs": []
    },
    {
      "cell_type": "code",
      "metadata": {
        "id": "0Frv4FDNn6Qu",
        "colab_type": "code",
        "colab": {}
      },
      "source": [
        "one_hot_train_labels = to_categorical(train_labels_dec)\n",
        "one_hot_val_labels = to_categorical(val_labels_dec)\n",
        "one_hot_test_labels = to_categorical(test_labels_dec)"
      ],
      "execution_count": 0,
      "outputs": []
    },
    {
      "cell_type": "markdown",
      "metadata": {
        "colab_type": "text",
        "id": "5r_lV6xwmmPi"
      },
      "source": [
        "#Building Network"
      ]
    },
    {
      "cell_type": "code",
      "metadata": {
        "colab_type": "code",
        "id": "vOCMUAeUmmP0",
        "colab": {}
      },
      "source": [
        "import keras\n",
        "from keras import layers\n",
        "from keras.preprocessing import sequence"
      ],
      "execution_count": 0,
      "outputs": []
    },
    {
      "cell_type": "code",
      "metadata": {
        "colab_type": "code",
        "id": "OjW-IrxommQE",
        "colab": {}
      },
      "source": [
        "from keras import layers"
      ],
      "execution_count": 0,
      "outputs": []
    },
    {
      "cell_type": "code",
      "metadata": {
        "colab_type": "code",
        "id": "o-AuSahCmmQO",
        "colab": {}
      },
      "source": [
        "from keras import regularizers"
      ],
      "execution_count": 0,
      "outputs": []
    },
    {
      "cell_type": "code",
      "metadata": {
        "colab_type": "code",
        "id": "CUw7ZwNwmmQV",
        "colab": {}
      },
      "source": [
        "from keras.optimizers import SGD"
      ],
      "execution_count": 0,
      "outputs": []
    },
    {
      "cell_type": "code",
      "metadata": {
        "colab_type": "code",
        "id": "PfAdcrAmmmQc",
        "colab": {}
      },
      "source": [
        "def build_model():\n",
        "  model = keras.models.Sequential()\n",
        "  model.add(layers.Dense(4, activation='relu', input_shape=(2,)))\n",
        "  #model.add(layers.Dense(7, activation='relu'))\n",
        "  #model.add(layers.Dropout(rate=0.2))\n",
        "\n",
        "  model.add(layers.Dense(3, activation='softmax'))\n",
        "\n",
        "  sgd = SGD(lr=0.001, momentum=0.5)\n",
        "  \n",
        "  model.compile(optimizer=sgd, loss='categorical_crossentropy', metrics=['accuracy'])\n",
        "  return model"
      ],
      "execution_count": 0,
      "outputs": []
    },
    {
      "cell_type": "code",
      "metadata": {
        "id": "CTAd2LU_dEO2",
        "colab_type": "code",
        "colab": {}
      },
      "source": [
        "from keras.callbacks import ReduceLROnPlateau\n",
        "red_lr = ReduceLROnPlateau('loss', patience=10, verbose=1, min_lr=0.0001)"
      ],
      "execution_count": 0,
      "outputs": []
    },
    {
      "cell_type": "code",
      "metadata": {
        "id": "GF_sSb3CnLM2",
        "colab_type": "code",
        "colab": {
          "base_uri": "https://localhost:8080/",
          "height": 34
        },
        "outputId": "9a7379ea-3dd5-4d02-aafe-e5bb8969e992"
      },
      "source": [
        "one_hot_val_labels.shape"
      ],
      "execution_count": 62,
      "outputs": [
        {
          "output_type": "execute_result",
          "data": {
            "text/plain": [
              "(105, 3)"
            ]
          },
          "metadata": {
            "tags": []
          },
          "execution_count": 62
        }
      ]
    },
    {
      "cell_type": "code",
      "metadata": {
        "id": "35Hc4rG203_u",
        "colab_type": "code",
        "outputId": "5c02b472-598b-4927-d038-6f7dfcc469fd",
        "colab": {
          "base_uri": "https://localhost:8080/",
          "height": 1000
        }
      },
      "source": [
        "num_epochs = 180\n",
        "\n",
        "model = build_model()\n",
        "history = model.fit(train_data_stand_lda, one_hot_train_labels, validation_data=(val_data_stand_lda, one_hot_val_labels), \n",
        "                      epochs= num_epochs, batch_size=1)\n",
        "  \n",
        "\n",
        "acc_history = history.history['acc']\n",
        "loss_history = history.history['loss']\n",
        "acc_val_history = history.history['val_acc']\n",
        "loss_val_history = history.history['val_loss']\n"
      ],
      "execution_count": 64,
      "outputs": [
        {
          "output_type": "stream",
          "text": [
            "WARNING:tensorflow:From /usr/local/lib/python3.6/dist-packages/tensorflow_core/python/ops/math_grad.py:1424: where (from tensorflow.python.ops.array_ops) is deprecated and will be removed in a future version.\n",
            "Instructions for updating:\n",
            "Use tf.where in 2.0, which has the same broadcast rule as np.where\n",
            "WARNING:tensorflow:From /usr/local/lib/python3.6/dist-packages/keras/backend/tensorflow_backend.py:1033: The name tf.assign_add is deprecated. Please use tf.compat.v1.assign_add instead.\n",
            "\n",
            "WARNING:tensorflow:From /usr/local/lib/python3.6/dist-packages/keras/backend/tensorflow_backend.py:1020: The name tf.assign is deprecated. Please use tf.compat.v1.assign instead.\n",
            "\n",
            "Train on 105 samples, validate on 13 samples\n",
            "Epoch 1/180\n",
            "WARNING:tensorflow:From /usr/local/lib/python3.6/dist-packages/keras/backend/tensorflow_backend.py:190: The name tf.get_default_session is deprecated. Please use tf.compat.v1.get_default_session instead.\n",
            "\n",
            "WARNING:tensorflow:From /usr/local/lib/python3.6/dist-packages/keras/backend/tensorflow_backend.py:207: The name tf.global_variables is deprecated. Please use tf.compat.v1.global_variables instead.\n",
            "\n",
            "WARNING:tensorflow:From /usr/local/lib/python3.6/dist-packages/keras/backend/tensorflow_backend.py:216: The name tf.is_variable_initialized is deprecated. Please use tf.compat.v1.is_variable_initialized instead.\n",
            "\n",
            "WARNING:tensorflow:From /usr/local/lib/python3.6/dist-packages/keras/backend/tensorflow_backend.py:223: The name tf.variables_initializer is deprecated. Please use tf.compat.v1.variables_initializer instead.\n",
            "\n",
            "105/105 [==============================] - 0s 3ms/step - loss: 0.7584 - acc: 0.9048 - val_loss: 1.5579 - val_acc: 0.2308\n",
            "Epoch 2/180\n",
            "105/105 [==============================] - 0s 1ms/step - loss: 0.6654 - acc: 0.9905 - val_loss: 1.4746 - val_acc: 0.2308\n",
            "Epoch 3/180\n",
            "105/105 [==============================] - 0s 1ms/step - loss: 0.5914 - acc: 1.0000 - val_loss: 1.4319 - val_acc: 0.3077\n",
            "Epoch 4/180\n",
            "105/105 [==============================] - 0s 1ms/step - loss: 0.5283 - acc: 1.0000 - val_loss: 1.4250 - val_acc: 0.3846\n",
            "Epoch 5/180\n",
            "105/105 [==============================] - 0s 965us/step - loss: 0.4720 - acc: 1.0000 - val_loss: 1.4396 - val_acc: 0.4615\n",
            "Epoch 6/180\n",
            "105/105 [==============================] - 0s 974us/step - loss: 0.4212 - acc: 1.0000 - val_loss: 1.4766 - val_acc: 0.4615\n",
            "Epoch 7/180\n",
            "105/105 [==============================] - 0s 988us/step - loss: 0.3757 - acc: 1.0000 - val_loss: 1.5305 - val_acc: 0.4615\n",
            "Epoch 8/180\n",
            "105/105 [==============================] - 0s 1ms/step - loss: 0.3350 - acc: 1.0000 - val_loss: 1.5928 - val_acc: 0.4615\n",
            "Epoch 9/180\n",
            "105/105 [==============================] - 0s 1000us/step - loss: 0.2990 - acc: 1.0000 - val_loss: 1.6625 - val_acc: 0.4615\n",
            "Epoch 10/180\n",
            "105/105 [==============================] - 0s 983us/step - loss: 0.2673 - acc: 1.0000 - val_loss: 1.7363 - val_acc: 0.4615\n",
            "Epoch 11/180\n",
            "105/105 [==============================] - 0s 919us/step - loss: 0.2395 - acc: 1.0000 - val_loss: 1.8116 - val_acc: 0.4615\n",
            "Epoch 12/180\n",
            "105/105 [==============================] - 0s 1ms/step - loss: 0.2151 - acc: 1.0000 - val_loss: 1.8885 - val_acc: 0.4615\n",
            "Epoch 13/180\n",
            "105/105 [==============================] - 0s 1ms/step - loss: 0.1939 - acc: 1.0000 - val_loss: 1.9641 - val_acc: 0.4615\n",
            "Epoch 14/180\n",
            "105/105 [==============================] - 0s 1ms/step - loss: 0.1755 - acc: 1.0000 - val_loss: 2.0395 - val_acc: 0.4615\n",
            "Epoch 15/180\n",
            "105/105 [==============================] - 0s 1ms/step - loss: 0.1593 - acc: 1.0000 - val_loss: 2.1132 - val_acc: 0.4615\n",
            "Epoch 16/180\n",
            "105/105 [==============================] - 0s 1ms/step - loss: 0.1452 - acc: 1.0000 - val_loss: 2.1852 - val_acc: 0.4615\n",
            "Epoch 17/180\n",
            "105/105 [==============================] - 0s 1ms/step - loss: 0.1329 - acc: 1.0000 - val_loss: 2.2551 - val_acc: 0.4615\n",
            "Epoch 18/180\n",
            "105/105 [==============================] - 0s 1ms/step - loss: 0.1220 - acc: 1.0000 - val_loss: 2.3235 - val_acc: 0.4615\n",
            "Epoch 19/180\n",
            "105/105 [==============================] - 0s 1ms/step - loss: 0.1125 - acc: 1.0000 - val_loss: 2.3888 - val_acc: 0.4615\n",
            "Epoch 20/180\n",
            "105/105 [==============================] - 0s 1ms/step - loss: 0.1040 - acc: 1.0000 - val_loss: 2.4533 - val_acc: 0.4615\n",
            "Epoch 21/180\n",
            "105/105 [==============================] - 0s 1ms/step - loss: 0.0965 - acc: 1.0000 - val_loss: 2.5154 - val_acc: 0.4615\n",
            "Epoch 22/180\n",
            "105/105 [==============================] - 0s 1ms/step - loss: 0.0898 - acc: 1.0000 - val_loss: 2.5741 - val_acc: 0.4615\n",
            "Epoch 23/180\n",
            "105/105 [==============================] - 0s 1ms/step - loss: 0.0838 - acc: 1.0000 - val_loss: 2.6303 - val_acc: 0.4615\n",
            "Epoch 24/180\n",
            "105/105 [==============================] - 0s 1ms/step - loss: 0.0785 - acc: 1.0000 - val_loss: 2.6852 - val_acc: 0.4615\n",
            "Epoch 25/180\n",
            "105/105 [==============================] - 0s 1ms/step - loss: 0.0736 - acc: 1.0000 - val_loss: 2.7374 - val_acc: 0.4615\n",
            "Epoch 26/180\n",
            "105/105 [==============================] - 0s 1ms/step - loss: 0.0693 - acc: 1.0000 - val_loss: 2.7881 - val_acc: 0.4615\n",
            "Epoch 27/180\n",
            "105/105 [==============================] - 0s 987us/step - loss: 0.0653 - acc: 1.0000 - val_loss: 2.8371 - val_acc: 0.4615\n",
            "Epoch 28/180\n",
            "105/105 [==============================] - 0s 1ms/step - loss: 0.0617 - acc: 1.0000 - val_loss: 2.8842 - val_acc: 0.4615\n",
            "Epoch 29/180\n",
            "105/105 [==============================] - 0s 1ms/step - loss: 0.0585 - acc: 1.0000 - val_loss: 2.9293 - val_acc: 0.4615\n",
            "Epoch 30/180\n",
            "105/105 [==============================] - 0s 1ms/step - loss: 0.0555 - acc: 1.0000 - val_loss: 2.9742 - val_acc: 0.4615\n",
            "Epoch 31/180\n",
            "105/105 [==============================] - 0s 1ms/step - loss: 0.0527 - acc: 1.0000 - val_loss: 3.0172 - val_acc: 0.4615\n",
            "Epoch 32/180\n",
            "105/105 [==============================] - 0s 1ms/step - loss: 0.0502 - acc: 1.0000 - val_loss: 3.0590 - val_acc: 0.4615\n",
            "Epoch 33/180\n",
            "105/105 [==============================] - 0s 1ms/step - loss: 0.0479 - acc: 1.0000 - val_loss: 3.0996 - val_acc: 0.4615\n",
            "Epoch 34/180\n",
            "105/105 [==============================] - 0s 1ms/step - loss: 0.0457 - acc: 1.0000 - val_loss: 3.1389 - val_acc: 0.4615\n",
            "Epoch 35/180\n",
            "105/105 [==============================] - 0s 1ms/step - loss: 0.0437 - acc: 1.0000 - val_loss: 3.1771 - val_acc: 0.4615\n",
            "Epoch 36/180\n",
            "105/105 [==============================] - 0s 1ms/step - loss: 0.0419 - acc: 1.0000 - val_loss: 3.2137 - val_acc: 0.4615\n",
            "Epoch 37/180\n",
            "105/105 [==============================] - 0s 1ms/step - loss: 0.0401 - acc: 1.0000 - val_loss: 3.2499 - val_acc: 0.4615\n",
            "Epoch 38/180\n",
            "105/105 [==============================] - 0s 1ms/step - loss: 0.0385 - acc: 1.0000 - val_loss: 3.2849 - val_acc: 0.4615\n",
            "Epoch 39/180\n",
            "105/105 [==============================] - 0s 1ms/step - loss: 0.0371 - acc: 1.0000 - val_loss: 3.3188 - val_acc: 0.4615\n",
            "Epoch 40/180\n",
            "105/105 [==============================] - 0s 1ms/step - loss: 0.0357 - acc: 1.0000 - val_loss: 3.3522 - val_acc: 0.4615\n",
            "Epoch 41/180\n",
            "105/105 [==============================] - 0s 1ms/step - loss: 0.0343 - acc: 1.0000 - val_loss: 3.3848 - val_acc: 0.4615\n",
            "Epoch 42/180\n",
            "105/105 [==============================] - 0s 1ms/step - loss: 0.0331 - acc: 1.0000 - val_loss: 3.4164 - val_acc: 0.4615\n",
            "Epoch 43/180\n",
            "105/105 [==============================] - 0s 982us/step - loss: 0.0320 - acc: 1.0000 - val_loss: 3.4471 - val_acc: 0.4615\n",
            "Epoch 44/180\n",
            "105/105 [==============================] - 0s 1ms/step - loss: 0.0309 - acc: 1.0000 - val_loss: 3.4770 - val_acc: 0.4615\n",
            "Epoch 45/180\n",
            "105/105 [==============================] - 0s 1ms/step - loss: 0.0299 - acc: 1.0000 - val_loss: 3.5061 - val_acc: 0.4615\n",
            "Epoch 46/180\n",
            "105/105 [==============================] - 0s 1ms/step - loss: 0.0289 - acc: 1.0000 - val_loss: 3.5354 - val_acc: 0.4615\n",
            "Epoch 47/180\n",
            "105/105 [==============================] - 0s 1ms/step - loss: 0.0280 - acc: 1.0000 - val_loss: 3.5635 - val_acc: 0.4615\n",
            "Epoch 48/180\n",
            "105/105 [==============================] - 0s 1ms/step - loss: 0.0271 - acc: 1.0000 - val_loss: 3.5912 - val_acc: 0.4615\n",
            "Epoch 49/180\n",
            "105/105 [==============================] - 0s 1ms/step - loss: 0.0263 - acc: 1.0000 - val_loss: 3.6182 - val_acc: 0.4615\n",
            "Epoch 50/180\n",
            "105/105 [==============================] - 0s 1ms/step - loss: 0.0255 - acc: 1.0000 - val_loss: 3.6446 - val_acc: 0.4615\n",
            "Epoch 51/180\n",
            "105/105 [==============================] - 0s 1ms/step - loss: 0.0248 - acc: 1.0000 - val_loss: 3.6706 - val_acc: 0.4615\n",
            "Epoch 52/180\n",
            "105/105 [==============================] - 0s 1ms/step - loss: 0.0241 - acc: 1.0000 - val_loss: 3.6960 - val_acc: 0.4615\n",
            "Epoch 53/180\n",
            "105/105 [==============================] - 0s 1ms/step - loss: 0.0234 - acc: 1.0000 - val_loss: 3.7207 - val_acc: 0.4615\n",
            "Epoch 54/180\n",
            "105/105 [==============================] - 0s 1ms/step - loss: 0.0228 - acc: 1.0000 - val_loss: 3.7449 - val_acc: 0.4615\n",
            "Epoch 55/180\n",
            "105/105 [==============================] - 0s 1ms/step - loss: 0.0222 - acc: 1.0000 - val_loss: 3.7689 - val_acc: 0.4615\n",
            "Epoch 56/180\n",
            "105/105 [==============================] - 0s 1ms/step - loss: 0.0216 - acc: 1.0000 - val_loss: 3.7923 - val_acc: 0.4615\n",
            "Epoch 57/180\n",
            "105/105 [==============================] - 0s 969us/step - loss: 0.0211 - acc: 1.0000 - val_loss: 3.8152 - val_acc: 0.4615\n",
            "Epoch 58/180\n",
            "105/105 [==============================] - 0s 970us/step - loss: 0.0205 - acc: 1.0000 - val_loss: 3.8377 - val_acc: 0.4615\n",
            "Epoch 59/180\n",
            "105/105 [==============================] - 0s 1ms/step - loss: 0.0200 - acc: 1.0000 - val_loss: 3.8596 - val_acc: 0.4615\n",
            "Epoch 60/180\n",
            "105/105 [==============================] - 0s 1ms/step - loss: 0.0196 - acc: 1.0000 - val_loss: 3.8815 - val_acc: 0.4615\n",
            "Epoch 61/180\n",
            "105/105 [==============================] - 0s 1ms/step - loss: 0.0191 - acc: 1.0000 - val_loss: 3.9028 - val_acc: 0.4615\n",
            "Epoch 62/180\n",
            "105/105 [==============================] - 0s 1ms/step - loss: 0.0187 - acc: 1.0000 - val_loss: 3.9237 - val_acc: 0.4615\n",
            "Epoch 63/180\n",
            "105/105 [==============================] - 0s 1ms/step - loss: 0.0182 - acc: 1.0000 - val_loss: 3.9441 - val_acc: 0.4615\n",
            "Epoch 64/180\n",
            "105/105 [==============================] - 0s 964us/step - loss: 0.0178 - acc: 1.0000 - val_loss: 3.9645 - val_acc: 0.4615\n",
            "Epoch 65/180\n",
            "105/105 [==============================] - 0s 981us/step - loss: 0.0174 - acc: 1.0000 - val_loss: 3.9842 - val_acc: 0.4615\n",
            "Epoch 66/180\n",
            "105/105 [==============================] - 0s 991us/step - loss: 0.0171 - acc: 1.0000 - val_loss: 4.0039 - val_acc: 0.4615\n",
            "Epoch 67/180\n",
            "105/105 [==============================] - 0s 987us/step - loss: 0.0167 - acc: 1.0000 - val_loss: 4.0229 - val_acc: 0.4615\n",
            "Epoch 68/180\n",
            "105/105 [==============================] - 0s 993us/step - loss: 0.0163 - acc: 1.0000 - val_loss: 4.0419 - val_acc: 0.4615\n",
            "Epoch 69/180\n",
            "105/105 [==============================] - 0s 1ms/step - loss: 0.0160 - acc: 1.0000 - val_loss: 4.0607 - val_acc: 0.4615\n",
            "Epoch 70/180\n",
            "105/105 [==============================] - 0s 1ms/step - loss: 0.0157 - acc: 1.0000 - val_loss: 4.0789 - val_acc: 0.4615\n",
            "Epoch 71/180\n",
            "105/105 [==============================] - 0s 997us/step - loss: 0.0154 - acc: 1.0000 - val_loss: 4.0969 - val_acc: 0.4615\n",
            "Epoch 72/180\n",
            "105/105 [==============================] - 0s 985us/step - loss: 0.0151 - acc: 1.0000 - val_loss: 4.1146 - val_acc: 0.4615\n",
            "Epoch 73/180\n",
            "105/105 [==============================] - 0s 1ms/step - loss: 0.0148 - acc: 1.0000 - val_loss: 4.1322 - val_acc: 0.4615\n",
            "Epoch 74/180\n",
            "105/105 [==============================] - 0s 987us/step - loss: 0.0145 - acc: 1.0000 - val_loss: 4.1492 - val_acc: 0.4615\n",
            "Epoch 75/180\n",
            "105/105 [==============================] - 0s 958us/step - loss: 0.0142 - acc: 1.0000 - val_loss: 4.1663 - val_acc: 0.4615\n",
            "Epoch 76/180\n",
            "105/105 [==============================] - 0s 974us/step - loss: 0.0140 - acc: 1.0000 - val_loss: 4.1831 - val_acc: 0.4615\n",
            "Epoch 77/180\n",
            "105/105 [==============================] - 0s 1ms/step - loss: 0.0137 - acc: 1.0000 - val_loss: 4.1996 - val_acc: 0.4615\n",
            "Epoch 78/180\n",
            "105/105 [==============================] - 0s 955us/step - loss: 0.0135 - acc: 1.0000 - val_loss: 4.2159 - val_acc: 0.4615\n",
            "Epoch 79/180\n",
            "105/105 [==============================] - 0s 991us/step - loss: 0.0132 - acc: 1.0000 - val_loss: 4.2318 - val_acc: 0.4615\n",
            "Epoch 80/180\n",
            "105/105 [==============================] - 0s 981us/step - loss: 0.0130 - acc: 1.0000 - val_loss: 4.2476 - val_acc: 0.4615\n",
            "Epoch 81/180\n",
            "105/105 [==============================] - 0s 997us/step - loss: 0.0128 - acc: 1.0000 - val_loss: 4.2632 - val_acc: 0.4615\n",
            "Epoch 82/180\n",
            "105/105 [==============================] - 0s 1ms/step - loss: 0.0126 - acc: 1.0000 - val_loss: 4.2786 - val_acc: 0.4615\n",
            "Epoch 83/180\n",
            "105/105 [==============================] - 0s 1ms/step - loss: 0.0123 - acc: 1.0000 - val_loss: 4.2936 - val_acc: 0.4615\n",
            "Epoch 84/180\n",
            "105/105 [==============================] - 0s 1ms/step - loss: 0.0121 - acc: 1.0000 - val_loss: 4.3086 - val_acc: 0.4615\n",
            "Epoch 85/180\n",
            "105/105 [==============================] - 0s 1ms/step - loss: 0.0119 - acc: 1.0000 - val_loss: 4.3236 - val_acc: 0.4615\n",
            "Epoch 86/180\n",
            "105/105 [==============================] - 0s 1ms/step - loss: 0.0117 - acc: 1.0000 - val_loss: 4.3382 - val_acc: 0.4615\n",
            "Epoch 87/180\n",
            "105/105 [==============================] - 0s 1ms/step - loss: 0.0116 - acc: 1.0000 - val_loss: 4.3525 - val_acc: 0.4615\n",
            "Epoch 88/180\n",
            "105/105 [==============================] - 0s 1ms/step - loss: 0.0114 - acc: 1.0000 - val_loss: 4.3665 - val_acc: 0.4615\n",
            "Epoch 89/180\n",
            "105/105 [==============================] - 0s 1ms/step - loss: 0.0112 - acc: 1.0000 - val_loss: 4.3807 - val_acc: 0.4615\n",
            "Epoch 90/180\n",
            "105/105 [==============================] - 0s 1ms/step - loss: 0.0110 - acc: 1.0000 - val_loss: 4.3947 - val_acc: 0.4615\n",
            "Epoch 91/180\n",
            "105/105 [==============================] - 0s 1ms/step - loss: 0.0109 - acc: 1.0000 - val_loss: 4.4085 - val_acc: 0.4615\n",
            "Epoch 92/180\n",
            "105/105 [==============================] - 0s 1ms/step - loss: 0.0107 - acc: 1.0000 - val_loss: 4.4217 - val_acc: 0.4615\n",
            "Epoch 93/180\n",
            "105/105 [==============================] - 0s 1ms/step - loss: 0.0105 - acc: 1.0000 - val_loss: 4.4341 - val_acc: 0.4615\n",
            "Epoch 94/180\n",
            "105/105 [==============================] - 0s 1ms/step - loss: 0.0104 - acc: 1.0000 - val_loss: 4.4436 - val_acc: 0.4615\n",
            "Epoch 95/180\n",
            "105/105 [==============================] - 0s 1ms/step - loss: 0.0102 - acc: 1.0000 - val_loss: 4.4531 - val_acc: 0.4615\n",
            "Epoch 96/180\n",
            "105/105 [==============================] - 0s 1ms/step - loss: 0.0101 - acc: 1.0000 - val_loss: 4.4625 - val_acc: 0.4615\n",
            "Epoch 97/180\n",
            "105/105 [==============================] - 0s 1ms/step - loss: 0.0100 - acc: 1.0000 - val_loss: 4.4716 - val_acc: 0.4615\n",
            "Epoch 98/180\n",
            "105/105 [==============================] - 0s 1ms/step - loss: 0.0098 - acc: 1.0000 - val_loss: 4.4808 - val_acc: 0.4615\n",
            "Epoch 99/180\n",
            "105/105 [==============================] - 0s 1ms/step - loss: 0.0097 - acc: 1.0000 - val_loss: 4.4898 - val_acc: 0.4615\n",
            "Epoch 100/180\n",
            "105/105 [==============================] - 0s 1ms/step - loss: 0.0096 - acc: 1.0000 - val_loss: 4.4987 - val_acc: 0.4615\n",
            "Epoch 101/180\n",
            "105/105 [==============================] - 0s 1ms/step - loss: 0.0094 - acc: 1.0000 - val_loss: 4.5076 - val_acc: 0.4615\n",
            "Epoch 102/180\n",
            "105/105 [==============================] - 0s 1ms/step - loss: 0.0093 - acc: 1.0000 - val_loss: 4.5163 - val_acc: 0.4615\n",
            "Epoch 103/180\n",
            "105/105 [==============================] - 0s 985us/step - loss: 0.0092 - acc: 1.0000 - val_loss: 4.5249 - val_acc: 0.4615\n",
            "Epoch 104/180\n",
            "105/105 [==============================] - 0s 979us/step - loss: 0.0091 - acc: 1.0000 - val_loss: 4.5335 - val_acc: 0.4615\n",
            "Epoch 105/180\n",
            "105/105 [==============================] - 0s 1ms/step - loss: 0.0089 - acc: 1.0000 - val_loss: 4.5420 - val_acc: 0.4615\n",
            "Epoch 106/180\n",
            "105/105 [==============================] - 0s 1ms/step - loss: 0.0088 - acc: 1.0000 - val_loss: 4.5503 - val_acc: 0.4615\n",
            "Epoch 107/180\n",
            "105/105 [==============================] - 0s 968us/step - loss: 0.0087 - acc: 1.0000 - val_loss: 4.5585 - val_acc: 0.4615\n",
            "Epoch 108/180\n",
            "105/105 [==============================] - 0s 936us/step - loss: 0.0086 - acc: 1.0000 - val_loss: 4.5668 - val_acc: 0.4615\n",
            "Epoch 109/180\n",
            "105/105 [==============================] - 0s 975us/step - loss: 0.0085 - acc: 1.0000 - val_loss: 4.5749 - val_acc: 0.4615\n",
            "Epoch 110/180\n",
            "105/105 [==============================] - 0s 1ms/step - loss: 0.0084 - acc: 1.0000 - val_loss: 4.5830 - val_acc: 0.4615\n",
            "Epoch 111/180\n",
            "105/105 [==============================] - 0s 1ms/step - loss: 0.0083 - acc: 1.0000 - val_loss: 4.5909 - val_acc: 0.4615\n",
            "Epoch 112/180\n",
            "105/105 [==============================] - 0s 1ms/step - loss: 0.0082 - acc: 1.0000 - val_loss: 4.5989 - val_acc: 0.4615\n",
            "Epoch 113/180\n",
            "105/105 [==============================] - 0s 1ms/step - loss: 0.0081 - acc: 1.0000 - val_loss: 4.6067 - val_acc: 0.4615\n",
            "Epoch 114/180\n",
            "105/105 [==============================] - 0s 1ms/step - loss: 0.0080 - acc: 1.0000 - val_loss: 4.6144 - val_acc: 0.4615\n",
            "Epoch 115/180\n",
            "105/105 [==============================] - 0s 999us/step - loss: 0.0079 - acc: 1.0000 - val_loss: 4.6221 - val_acc: 0.4615\n",
            "Epoch 116/180\n",
            "105/105 [==============================] - 0s 989us/step - loss: 0.0078 - acc: 1.0000 - val_loss: 4.6297 - val_acc: 0.4615\n",
            "Epoch 117/180\n",
            "105/105 [==============================] - 0s 1ms/step - loss: 0.0077 - acc: 1.0000 - val_loss: 4.6371 - val_acc: 0.4615\n",
            "Epoch 118/180\n",
            "105/105 [==============================] - 0s 989us/step - loss: 0.0076 - acc: 1.0000 - val_loss: 4.6447 - val_acc: 0.4615\n",
            "Epoch 119/180\n",
            "105/105 [==============================] - 0s 947us/step - loss: 0.0076 - acc: 1.0000 - val_loss: 4.6521 - val_acc: 0.4615\n",
            "Epoch 120/180\n",
            "105/105 [==============================] - 0s 990us/step - loss: 0.0075 - acc: 1.0000 - val_loss: 4.6594 - val_acc: 0.4615\n",
            "Epoch 121/180\n",
            "105/105 [==============================] - 0s 1ms/step - loss: 0.0074 - acc: 1.0000 - val_loss: 4.6667 - val_acc: 0.4615\n",
            "Epoch 122/180\n",
            "105/105 [==============================] - 0s 1ms/step - loss: 0.0073 - acc: 1.0000 - val_loss: 4.6739 - val_acc: 0.4615\n",
            "Epoch 123/180\n",
            "105/105 [==============================] - 0s 1ms/step - loss: 0.0072 - acc: 1.0000 - val_loss: 4.6810 - val_acc: 0.4615\n",
            "Epoch 124/180\n",
            "105/105 [==============================] - 0s 1ms/step - loss: 0.0071 - acc: 1.0000 - val_loss: 4.6881 - val_acc: 0.4615\n",
            "Epoch 125/180\n",
            "105/105 [==============================] - 0s 1ms/step - loss: 0.0071 - acc: 1.0000 - val_loss: 4.6951 - val_acc: 0.4615\n",
            "Epoch 126/180\n",
            "105/105 [==============================] - 0s 1ms/step - loss: 0.0070 - acc: 1.0000 - val_loss: 4.7020 - val_acc: 0.4615\n",
            "Epoch 127/180\n",
            "105/105 [==============================] - 0s 1ms/step - loss: 0.0069 - acc: 1.0000 - val_loss: 4.7088 - val_acc: 0.4615\n",
            "Epoch 128/180\n",
            "105/105 [==============================] - 0s 1ms/step - loss: 0.0069 - acc: 1.0000 - val_loss: 4.7158 - val_acc: 0.4615\n",
            "Epoch 129/180\n",
            "105/105 [==============================] - 0s 1ms/step - loss: 0.0068 - acc: 1.0000 - val_loss: 4.7226 - val_acc: 0.4615\n",
            "Epoch 130/180\n",
            "105/105 [==============================] - 0s 967us/step - loss: 0.0067 - acc: 1.0000 - val_loss: 4.7292 - val_acc: 0.4615\n",
            "Epoch 131/180\n",
            "105/105 [==============================] - 0s 1ms/step - loss: 0.0066 - acc: 1.0000 - val_loss: 4.7360 - val_acc: 0.4615\n",
            "Epoch 132/180\n",
            "105/105 [==============================] - 0s 1ms/step - loss: 0.0066 - acc: 1.0000 - val_loss: 4.7426 - val_acc: 0.4615\n",
            "Epoch 133/180\n",
            "105/105 [==============================] - 0s 989us/step - loss: 0.0065 - acc: 1.0000 - val_loss: 4.7491 - val_acc: 0.4615\n",
            "Epoch 134/180\n",
            "105/105 [==============================] - 0s 997us/step - loss: 0.0065 - acc: 1.0000 - val_loss: 4.7556 - val_acc: 0.4615\n",
            "Epoch 135/180\n",
            "105/105 [==============================] - 0s 1ms/step - loss: 0.0064 - acc: 1.0000 - val_loss: 4.7619 - val_acc: 0.4615\n",
            "Epoch 136/180\n",
            "105/105 [==============================] - 0s 1ms/step - loss: 0.0063 - acc: 1.0000 - val_loss: 4.7684 - val_acc: 0.4615\n",
            "Epoch 137/180\n",
            "105/105 [==============================] - 0s 1ms/step - loss: 0.0063 - acc: 1.0000 - val_loss: 4.7748 - val_acc: 0.4615\n",
            "Epoch 138/180\n",
            "105/105 [==============================] - 0s 999us/step - loss: 0.0062 - acc: 1.0000 - val_loss: 4.7811 - val_acc: 0.4615\n",
            "Epoch 139/180\n",
            "105/105 [==============================] - 0s 974us/step - loss: 0.0061 - acc: 1.0000 - val_loss: 4.7874 - val_acc: 0.4615\n",
            "Epoch 140/180\n",
            "105/105 [==============================] - 0s 946us/step - loss: 0.0061 - acc: 1.0000 - val_loss: 4.7936 - val_acc: 0.4615\n",
            "Epoch 141/180\n",
            "105/105 [==============================] - 0s 998us/step - loss: 0.0060 - acc: 1.0000 - val_loss: 4.7998 - val_acc: 0.4615\n",
            "Epoch 142/180\n",
            "105/105 [==============================] - 0s 998us/step - loss: 0.0060 - acc: 1.0000 - val_loss: 4.8057 - val_acc: 0.4615\n",
            "Epoch 143/180\n",
            "105/105 [==============================] - 0s 964us/step - loss: 0.0059 - acc: 1.0000 - val_loss: 4.8119 - val_acc: 0.4615\n",
            "Epoch 144/180\n",
            "105/105 [==============================] - 0s 1ms/step - loss: 0.0059 - acc: 1.0000 - val_loss: 4.8179 - val_acc: 0.4615\n",
            "Epoch 145/180\n",
            "105/105 [==============================] - 0s 1ms/step - loss: 0.0058 - acc: 1.0000 - val_loss: 4.8237 - val_acc: 0.4615\n",
            "Epoch 146/180\n",
            "105/105 [==============================] - 0s 996us/step - loss: 0.0058 - acc: 1.0000 - val_loss: 4.8298 - val_acc: 0.4615\n",
            "Epoch 147/180\n",
            "105/105 [==============================] - 0s 1ms/step - loss: 0.0057 - acc: 1.0000 - val_loss: 4.8356 - val_acc: 0.4615\n",
            "Epoch 148/180\n",
            "105/105 [==============================] - 0s 1ms/step - loss: 0.0057 - acc: 1.0000 - val_loss: 4.8414 - val_acc: 0.4615\n",
            "Epoch 149/180\n",
            "105/105 [==============================] - 0s 1ms/step - loss: 0.0056 - acc: 1.0000 - val_loss: 4.8472 - val_acc: 0.4615\n",
            "Epoch 150/180\n",
            "105/105 [==============================] - 0s 1ms/step - loss: 0.0056 - acc: 1.0000 - val_loss: 4.8530 - val_acc: 0.4615\n",
            "Epoch 151/180\n",
            "105/105 [==============================] - 0s 1ms/step - loss: 0.0055 - acc: 1.0000 - val_loss: 4.8586 - val_acc: 0.4615\n",
            "Epoch 152/180\n",
            "105/105 [==============================] - 0s 1ms/step - loss: 0.0055 - acc: 1.0000 - val_loss: 4.8643 - val_acc: 0.4615\n",
            "Epoch 153/180\n",
            "105/105 [==============================] - 0s 1ms/step - loss: 0.0054 - acc: 1.0000 - val_loss: 4.8699 - val_acc: 0.4615\n",
            "Epoch 154/180\n",
            "105/105 [==============================] - 0s 1ms/step - loss: 0.0054 - acc: 1.0000 - val_loss: 4.8755 - val_acc: 0.4615\n",
            "Epoch 155/180\n",
            "105/105 [==============================] - 0s 1ms/step - loss: 0.0053 - acc: 1.0000 - val_loss: 4.8811 - val_acc: 0.4615\n",
            "Epoch 156/180\n",
            "105/105 [==============================] - 0s 966us/step - loss: 0.0053 - acc: 1.0000 - val_loss: 4.8866 - val_acc: 0.4615\n",
            "Epoch 157/180\n",
            "105/105 [==============================] - 0s 1ms/step - loss: 0.0052 - acc: 1.0000 - val_loss: 4.8919 - val_acc: 0.4615\n",
            "Epoch 158/180\n",
            "105/105 [==============================] - 0s 980us/step - loss: 0.0052 - acc: 1.0000 - val_loss: 4.8975 - val_acc: 0.4615\n",
            "Epoch 159/180\n",
            "105/105 [==============================] - 0s 1ms/step - loss: 0.0052 - acc: 1.0000 - val_loss: 4.9028 - val_acc: 0.4615\n",
            "Epoch 160/180\n",
            "105/105 [==============================] - 0s 964us/step - loss: 0.0051 - acc: 1.0000 - val_loss: 4.9081 - val_acc: 0.4615\n",
            "Epoch 161/180\n",
            "105/105 [==============================] - 0s 975us/step - loss: 0.0051 - acc: 1.0000 - val_loss: 4.9135 - val_acc: 0.4615\n",
            "Epoch 162/180\n",
            "105/105 [==============================] - 0s 1ms/step - loss: 0.0050 - acc: 1.0000 - val_loss: 4.9188 - val_acc: 0.4615\n",
            "Epoch 163/180\n",
            "105/105 [==============================] - 0s 1ms/step - loss: 0.0050 - acc: 1.0000 - val_loss: 4.9241 - val_acc: 0.4615\n",
            "Epoch 164/180\n",
            "105/105 [==============================] - 0s 1ms/step - loss: 0.0050 - acc: 1.0000 - val_loss: 4.9293 - val_acc: 0.4615\n",
            "Epoch 165/180\n",
            "105/105 [==============================] - 0s 1ms/step - loss: 0.0049 - acc: 1.0000 - val_loss: 4.9345 - val_acc: 0.4615\n",
            "Epoch 166/180\n",
            "105/105 [==============================] - 0s 963us/step - loss: 0.0049 - acc: 1.0000 - val_loss: 4.9396 - val_acc: 0.4615\n",
            "Epoch 167/180\n",
            "105/105 [==============================] - 0s 1ms/step - loss: 0.0048 - acc: 1.0000 - val_loss: 4.9447 - val_acc: 0.4615\n",
            "Epoch 168/180\n",
            "105/105 [==============================] - 0s 915us/step - loss: 0.0048 - acc: 1.0000 - val_loss: 4.9499 - val_acc: 0.4615\n",
            "Epoch 169/180\n",
            "105/105 [==============================] - 0s 974us/step - loss: 0.0048 - acc: 1.0000 - val_loss: 4.9549 - val_acc: 0.4615\n",
            "Epoch 170/180\n",
            "105/105 [==============================] - 0s 1ms/step - loss: 0.0047 - acc: 1.0000 - val_loss: 4.9600 - val_acc: 0.4615\n",
            "Epoch 171/180\n",
            "105/105 [==============================] - 0s 1ms/step - loss: 0.0047 - acc: 1.0000 - val_loss: 4.9649 - val_acc: 0.4615\n",
            "Epoch 172/180\n",
            "105/105 [==============================] - 0s 939us/step - loss: 0.0047 - acc: 1.0000 - val_loss: 4.9698 - val_acc: 0.4615\n",
            "Epoch 173/180\n",
            "105/105 [==============================] - 0s 957us/step - loss: 0.0046 - acc: 1.0000 - val_loss: 4.9748 - val_acc: 0.4615\n",
            "Epoch 174/180\n",
            "105/105 [==============================] - 0s 1ms/step - loss: 0.0046 - acc: 1.0000 - val_loss: 4.9797 - val_acc: 0.4615\n",
            "Epoch 175/180\n",
            "105/105 [==============================] - 0s 1ms/step - loss: 0.0046 - acc: 1.0000 - val_loss: 4.9846 - val_acc: 0.4615\n",
            "Epoch 176/180\n",
            "105/105 [==============================] - 0s 1ms/step - loss: 0.0045 - acc: 1.0000 - val_loss: 4.9895 - val_acc: 0.4615\n",
            "Epoch 177/180\n",
            "105/105 [==============================] - 0s 969us/step - loss: 0.0045 - acc: 1.0000 - val_loss: 4.9942 - val_acc: 0.4615\n",
            "Epoch 178/180\n",
            "105/105 [==============================] - 0s 935us/step - loss: 0.0045 - acc: 1.0000 - val_loss: 4.9990 - val_acc: 0.4615\n",
            "Epoch 179/180\n",
            "105/105 [==============================] - 0s 998us/step - loss: 0.0044 - acc: 1.0000 - val_loss: 5.0038 - val_acc: 0.4615\n",
            "Epoch 180/180\n",
            "105/105 [==============================] - 0s 962us/step - loss: 0.0044 - acc: 1.0000 - val_loss: 5.0084 - val_acc: 0.4615\n"
          ],
          "name": "stdout"
        }
      ]
    },
    {
      "cell_type": "markdown",
      "metadata": {
        "colab_type": "text",
        "id": "V0-h4UV1kKGD"
      },
      "source": [
        "##Plotting training and validation loss"
      ]
    },
    {
      "cell_type": "code",
      "metadata": {
        "colab_type": "code",
        "id": "Ep2R0tm9kKGF",
        "colab": {}
      },
      "source": [
        "import matplotlib.pyplot as plt"
      ],
      "execution_count": 0,
      "outputs": []
    },
    {
      "cell_type": "code",
      "metadata": {
        "colab_type": "code",
        "id": "dYcufxLHkKGK",
        "colab": {}
      },
      "source": [
        "epochs = range(1, num_epochs+1)"
      ],
      "execution_count": 0,
      "outputs": []
    },
    {
      "cell_type": "code",
      "metadata": {
        "colab_type": "code",
        "outputId": "f38022da-6e44-4f98-bbd5-752c0ce7cf65",
        "id": "XLBO05_pkKGQ",
        "colab": {
          "base_uri": "https://localhost:8080/",
          "height": 312
        }
      },
      "source": [
        "plt.plot(epochs, loss_history, 'b', label='training loss')\n",
        "plt.plot(epochs, loss_val_history, 'r', label='validation loss')\n",
        "plt.title('Training and validation loss lda')\n",
        "plt.xlabel('Epochs')\n",
        "plt.ylabel('Loss')\n",
        "plt.legend()"
      ],
      "execution_count": 67,
      "outputs": [
        {
          "output_type": "execute_result",
          "data": {
            "text/plain": [
              "<matplotlib.legend.Legend at 0x7fd27db4aa90>"
            ]
          },
          "metadata": {
            "tags": []
          },
          "execution_count": 67
        },
        {
          "output_type": "display_data",
          "data": {
            "image/png": "[encoded data removed]",
            "text/plain": [
              "<Figure size 432x288 with 1 Axes>"
            ]
          },
          "metadata": {
            "tags": []
          }
        }
      ]
    },
    {
      "cell_type": "markdown",
      "metadata": {
        "colab_type": "text",
        "id": "XV3hLoOykKGV"
      },
      "source": [
        "##Plotting train and validation accuracy"
      ]
    },
    {
      "cell_type": "code",
      "metadata": {
        "colab_type": "code",
        "outputId": "b9f9d14f-200c-4505-9d77-93565b416e50",
        "id": "ttjl5eApkKGV",
        "colab": {
          "base_uri": "https://localhost:8080/",
          "height": 312
        }
      },
      "source": [
        "plt.plot(epochs, acc_history, 'b', label='Training accuracy')\n",
        "plt.plot(epochs, acc_val_history, 'r', label='Validation accuracy')\n",
        "plt.title('Training and validation accuracy lda')\n",
        "plt.xlabel('Epochs')\n",
        "plt.ylabel('Accuracy')\n",
        "plt.legend() "
      ],
      "execution_count": 68,
      "outputs": [
        {
          "output_type": "execute_result",
          "data": {
            "text/plain": [
              "<matplotlib.legend.Legend at 0x7fd27d68f908>"
            ]
          },
          "metadata": {
            "tags": []
          },
          "execution_count": 68
        },
        {
          "output_type": "display_data",
          "data": {
            "image/png": "[encoded data removed]",
            "text/plain": [
              "<Figure size 432x288 with 1 Axes>"
            ]
          },
          "metadata": {
            "tags": []
          }
        }
      ]
    },
    {
      "cell_type": "markdown",
      "metadata": {
        "colab_type": "text",
        "id": "ckvqkyTYqE7B"
      },
      "source": [
        "##Performances on test set"
      ]
    },
    {
      "cell_type": "code",
      "metadata": {
        "colab_type": "code",
        "outputId": "dbf3be95-3d26-4190-ca35-2cdcb8463887",
        "id": "kmiW5yZ0qE7Q",
        "colab": {
          "base_uri": "https://localhost:8080/",
          "height": 1000
        }
      },
      "source": [
        " model = build_model()\n",
        " model.fit(train_data_stand_lda, one_hot_train_labels, epochs= num_epochs, batch_size=1, shuffle=True)\n",
        " test_loss, test_acc = model.evaluate(test_data_stand_lda, one_hot_test_labels)\n",
        "  "
      ],
      "execution_count": 71,
      "outputs": [
        {
          "output_type": "stream",
          "text": [
            "Epoch 1/180\n",
            "105/105 [==============================] - 0s 3ms/step - loss: 0.9294 - acc: 0.4952\n",
            "Epoch 2/180\n",
            "105/105 [==============================] - 0s 921us/step - loss: 0.8590 - acc: 0.4762\n",
            "Epoch 3/180\n",
            "105/105 [==============================] - 0s 889us/step - loss: 0.8044 - acc: 0.4762\n",
            "Epoch 4/180\n",
            "105/105 [==============================] - 0s 1ms/step - loss: 0.7607 - acc: 0.4952\n",
            "Epoch 5/180\n",
            "105/105 [==============================] - 0s 1ms/step - loss: 0.7243 - acc: 0.5143\n",
            "Epoch 6/180\n",
            "105/105 [==============================] - 0s 961us/step - loss: 0.6932 - acc: 0.5524\n",
            "Epoch 7/180\n",
            "105/105 [==============================] - 0s 952us/step - loss: 0.6658 - acc: 0.6476\n",
            "Epoch 8/180\n",
            "105/105 [==============================] - 0s 920us/step - loss: 0.6414 - acc: 0.7524\n",
            "Epoch 9/180\n",
            "105/105 [==============================] - 0s 990us/step - loss: 0.6194 - acc: 0.7905\n",
            "Epoch 10/180\n",
            "105/105 [==============================] - 0s 951us/step - loss: 0.5993 - acc: 0.8571\n",
            "Epoch 11/180\n",
            "105/105 [==============================] - 0s 962us/step - loss: 0.5806 - acc: 0.8667\n",
            "Epoch 12/180\n",
            "105/105 [==============================] - 0s 940us/step - loss: 0.5633 - acc: 0.8667\n",
            "Epoch 13/180\n",
            "105/105 [==============================] - 0s 1ms/step - loss: 0.5471 - acc: 0.8667\n",
            "Epoch 14/180\n",
            "105/105 [==============================] - 0s 969us/step - loss: 0.5319 - acc: 0.8667\n",
            "Epoch 15/180\n",
            "105/105 [==============================] - 0s 938us/step - loss: 0.5176 - acc: 0.8667\n",
            "Epoch 16/180\n",
            "105/105 [==============================] - 0s 941us/step - loss: 0.5039 - acc: 0.8667\n",
            "Epoch 17/180\n",
            "105/105 [==============================] - 0s 940us/step - loss: 0.4910 - acc: 0.8667\n",
            "Epoch 18/180\n",
            "105/105 [==============================] - 0s 885us/step - loss: 0.4786 - acc: 0.8762\n",
            "Epoch 19/180\n",
            "105/105 [==============================] - 0s 898us/step - loss: 0.4669 - acc: 0.8762\n",
            "Epoch 20/180\n",
            "105/105 [==============================] - 0s 955us/step - loss: 0.4556 - acc: 0.8762\n",
            "Epoch 21/180\n",
            "105/105 [==============================] - 0s 997us/step - loss: 0.4448 - acc: 0.8762\n",
            "Epoch 22/180\n",
            "105/105 [==============================] - 0s 939us/step - loss: 0.4343 - acc: 0.8762\n",
            "Epoch 23/180\n",
            "105/105 [==============================] - 0s 949us/step - loss: 0.4242 - acc: 0.8762\n",
            "Epoch 24/180\n",
            "105/105 [==============================] - 0s 967us/step - loss: 0.4144 - acc: 0.8762\n",
            "Epoch 25/180\n",
            "105/105 [==============================] - 0s 932us/step - loss: 0.4049 - acc: 0.8857\n",
            "Epoch 26/180\n",
            "105/105 [==============================] - 0s 916us/step - loss: 0.3958 - acc: 0.8857\n",
            "Epoch 27/180\n",
            "105/105 [==============================] - 0s 906us/step - loss: 0.3869 - acc: 0.8857\n",
            "Epoch 28/180\n",
            "105/105 [==============================] - 0s 965us/step - loss: 0.3782 - acc: 0.8857\n",
            "Epoch 29/180\n",
            "105/105 [==============================] - 0s 1ms/step - loss: 0.3698 - acc: 0.8857\n",
            "Epoch 30/180\n",
            "105/105 [==============================] - 0s 932us/step - loss: 0.3616 - acc: 0.8857\n",
            "Epoch 31/180\n",
            "105/105 [==============================] - 0s 919us/step - loss: 0.3535 - acc: 0.8857\n",
            "Epoch 32/180\n",
            "105/105 [==============================] - 0s 1ms/step - loss: 0.3457 - acc: 0.8857\n",
            "Epoch 33/180\n",
            "105/105 [==============================] - 0s 947us/step - loss: 0.3381 - acc: 0.8857\n",
            "Epoch 34/180\n",
            "105/105 [==============================] - 0s 949us/step - loss: 0.3306 - acc: 0.8857\n",
            "Epoch 35/180\n",
            "105/105 [==============================] - 0s 959us/step - loss: 0.3233 - acc: 0.8857\n",
            "Epoch 36/180\n",
            "105/105 [==============================] - 0s 1ms/step - loss: 0.3160 - acc: 0.8857\n",
            "Epoch 37/180\n",
            "105/105 [==============================] - 0s 974us/step - loss: 0.3088 - acc: 0.8857\n",
            "Epoch 38/180\n",
            "105/105 [==============================] - 0s 1ms/step - loss: 0.3017 - acc: 0.8857\n",
            "Epoch 39/180\n",
            "105/105 [==============================] - 0s 1ms/step - loss: 0.2948 - acc: 0.8857\n",
            "Epoch 40/180\n",
            "105/105 [==============================] - 0s 1ms/step - loss: 0.2881 - acc: 0.8857\n",
            "Epoch 41/180\n",
            "105/105 [==============================] - 0s 971us/step - loss: 0.2814 - acc: 0.8857\n",
            "Epoch 42/180\n",
            "105/105 [==============================] - 0s 979us/step - loss: 0.2750 - acc: 0.8857\n",
            "Epoch 43/180\n",
            "105/105 [==============================] - 0s 1ms/step - loss: 0.2687 - acc: 0.8857\n",
            "Epoch 44/180\n",
            "105/105 [==============================] - 0s 940us/step - loss: 0.2625 - acc: 0.8857\n",
            "Epoch 45/180\n",
            "105/105 [==============================] - 0s 954us/step - loss: 0.2566 - acc: 0.8857\n",
            "Epoch 46/180\n",
            "105/105 [==============================] - 0s 1ms/step - loss: 0.2507 - acc: 0.8857\n",
            "Epoch 47/180\n",
            "105/105 [==============================] - 0s 1ms/step - loss: 0.2451 - acc: 0.8857\n",
            "Epoch 48/180\n",
            "105/105 [==============================] - 0s 1ms/step - loss: 0.2396 - acc: 0.8857\n",
            "Epoch 49/180\n",
            "105/105 [==============================] - 0s 975us/step - loss: 0.2342 - acc: 0.8857\n",
            "Epoch 50/180\n",
            "105/105 [==============================] - 0s 1ms/step - loss: 0.2290 - acc: 0.8857\n",
            "Epoch 51/180\n",
            "105/105 [==============================] - 0s 992us/step - loss: 0.2239 - acc: 0.8857\n",
            "Epoch 52/180\n",
            "105/105 [==============================] - 0s 1ms/step - loss: 0.2190 - acc: 0.8857\n",
            "Epoch 53/180\n",
            "105/105 [==============================] - 0s 933us/step - loss: 0.2143 - acc: 0.8857\n",
            "Epoch 54/180\n",
            "105/105 [==============================] - 0s 969us/step - loss: 0.2096 - acc: 0.8857\n",
            "Epoch 55/180\n",
            "105/105 [==============================] - 0s 1ms/step - loss: 0.2051 - acc: 0.8857\n",
            "Epoch 56/180\n",
            "105/105 [==============================] - 0s 943us/step - loss: 0.2008 - acc: 0.8857\n",
            "Epoch 57/180\n",
            "105/105 [==============================] - 0s 974us/step - loss: 0.1965 - acc: 0.8857\n",
            "Epoch 58/180\n",
            "105/105 [==============================] - 0s 1ms/step - loss: 0.1925 - acc: 0.8857\n",
            "Epoch 59/180\n",
            "105/105 [==============================] - 0s 929us/step - loss: 0.1885 - acc: 0.8857\n",
            "Epoch 60/180\n",
            "105/105 [==============================] - 0s 904us/step - loss: 0.1846 - acc: 0.8857\n",
            "Epoch 61/180\n",
            "105/105 [==============================] - 0s 925us/step - loss: 0.1808 - acc: 0.8857\n",
            "Epoch 62/180\n",
            "105/105 [==============================] - 0s 1ms/step - loss: 0.1772 - acc: 0.8857\n",
            "Epoch 63/180\n",
            "105/105 [==============================] - 0s 937us/step - loss: 0.1737 - acc: 0.8857\n",
            "Epoch 64/180\n",
            "105/105 [==============================] - 0s 980us/step - loss: 0.1703 - acc: 0.8857\n",
            "Epoch 65/180\n",
            "105/105 [==============================] - 0s 1ms/step - loss: 0.1669 - acc: 0.8857\n",
            "Epoch 66/180\n",
            "105/105 [==============================] - 0s 947us/step - loss: 0.1637 - acc: 0.8857\n",
            "Epoch 67/180\n",
            "105/105 [==============================] - 0s 971us/step - loss: 0.1606 - acc: 0.8857\n",
            "Epoch 68/180\n",
            "105/105 [==============================] - 0s 949us/step - loss: 0.1575 - acc: 0.8857\n",
            "Epoch 69/180\n",
            "105/105 [==============================] - 0s 1ms/step - loss: 0.1546 - acc: 0.8857\n",
            "Epoch 70/180\n",
            "105/105 [==============================] - 0s 975us/step - loss: 0.1517 - acc: 0.8857\n",
            "Epoch 71/180\n",
            "105/105 [==============================] - 0s 957us/step - loss: 0.1489 - acc: 0.8857\n",
            "Epoch 72/180\n",
            "105/105 [==============================] - 0s 981us/step - loss: 0.1462 - acc: 0.8857\n",
            "Epoch 73/180\n",
            "105/105 [==============================] - 0s 1ms/step - loss: 0.1436 - acc: 0.8857\n",
            "Epoch 74/180\n",
            "105/105 [==============================] - 0s 1ms/step - loss: 0.1410 - acc: 0.8857\n",
            "Epoch 75/180\n",
            "105/105 [==============================] - 0s 955us/step - loss: 0.1385 - acc: 0.8857\n",
            "Epoch 76/180\n",
            "105/105 [==============================] - 0s 989us/step - loss: 0.1361 - acc: 0.8857\n",
            "Epoch 77/180\n",
            "105/105 [==============================] - 0s 970us/step - loss: 0.1338 - acc: 0.8857\n",
            "Epoch 78/180\n",
            "105/105 [==============================] - 0s 958us/step - loss: 0.1314 - acc: 0.8857\n",
            "Epoch 79/180\n",
            "105/105 [==============================] - 0s 993us/step - loss: 0.1292 - acc: 0.8857\n",
            "Epoch 80/180\n",
            "105/105 [==============================] - 0s 997us/step - loss: 0.1270 - acc: 0.8857\n",
            "Epoch 81/180\n",
            "105/105 [==============================] - 0s 957us/step - loss: 0.1249 - acc: 0.9429\n",
            "Epoch 82/180\n",
            "105/105 [==============================] - 0s 1ms/step - loss: 0.1228 - acc: 1.0000\n",
            "Epoch 83/180\n",
            "105/105 [==============================] - 0s 1ms/step - loss: 0.1208 - acc: 1.0000\n",
            "Epoch 84/180\n",
            "105/105 [==============================] - 0s 974us/step - loss: 0.1189 - acc: 1.0000\n",
            "Epoch 85/180\n",
            "105/105 [==============================] - 0s 989us/step - loss: 0.1170 - acc: 1.0000\n",
            "Epoch 86/180\n",
            "105/105 [==============================] - 0s 1ms/step - loss: 0.1151 - acc: 1.0000\n",
            "Epoch 87/180\n",
            "105/105 [==============================] - 0s 970us/step - loss: 0.1133 - acc: 1.0000\n",
            "Epoch 88/180\n",
            "105/105 [==============================] - 0s 969us/step - loss: 0.1115 - acc: 1.0000\n",
            "Epoch 89/180\n",
            "105/105 [==============================] - 0s 930us/step - loss: 0.1098 - acc: 1.0000\n",
            "Epoch 90/180\n",
            "105/105 [==============================] - 0s 994us/step - loss: 0.1081 - acc: 1.0000\n",
            "Epoch 91/180\n",
            "105/105 [==============================] - 0s 1ms/step - loss: 0.1064 - acc: 1.0000\n",
            "Epoch 92/180\n",
            "105/105 [==============================] - 0s 944us/step - loss: 0.1048 - acc: 1.0000\n",
            "Epoch 93/180\n",
            "105/105 [==============================] - 0s 979us/step - loss: 0.1032 - acc: 1.0000\n",
            "Epoch 94/180\n",
            "105/105 [==============================] - 0s 1ms/step - loss: 0.1017 - acc: 1.0000\n",
            "Epoch 95/180\n",
            "105/105 [==============================] - 0s 945us/step - loss: 0.1002 - acc: 1.0000\n",
            "Epoch 96/180\n",
            "105/105 [==============================] - 0s 982us/step - loss: 0.0987 - acc: 1.0000\n",
            "Epoch 97/180\n",
            "105/105 [==============================] - 0s 977us/step - loss: 0.0973 - acc: 1.0000\n",
            "Epoch 98/180\n",
            "105/105 [==============================] - 0s 986us/step - loss: 0.0959 - acc: 1.0000\n",
            "Epoch 99/180\n",
            "105/105 [==============================] - 0s 961us/step - loss: 0.0945 - acc: 1.0000\n",
            "Epoch 100/180\n",
            "105/105 [==============================] - 0s 999us/step - loss: 0.0932 - acc: 1.0000\n",
            "Epoch 101/180\n",
            "105/105 [==============================] - 0s 989us/step - loss: 0.0919 - acc: 1.0000\n",
            "Epoch 102/180\n",
            "105/105 [==============================] - 0s 1ms/step - loss: 0.0906 - acc: 1.0000\n",
            "Epoch 103/180\n",
            "105/105 [==============================] - 0s 882us/step - loss: 0.0893 - acc: 1.0000\n",
            "Epoch 104/180\n",
            "105/105 [==============================] - 0s 945us/step - loss: 0.0881 - acc: 1.0000\n",
            "Epoch 105/180\n",
            "105/105 [==============================] - 0s 1ms/step - loss: 0.0869 - acc: 1.0000\n",
            "Epoch 106/180\n",
            "105/105 [==============================] - 0s 1ms/step - loss: 0.0858 - acc: 1.0000\n",
            "Epoch 107/180\n",
            "105/105 [==============================] - 0s 991us/step - loss: 0.0846 - acc: 1.0000\n",
            "Epoch 108/180\n",
            "105/105 [==============================] - 0s 1ms/step - loss: 0.0835 - acc: 1.0000\n",
            "Epoch 109/180\n",
            "105/105 [==============================] - 0s 935us/step - loss: 0.0824 - acc: 1.0000\n",
            "Epoch 110/180\n",
            "105/105 [==============================] - 0s 887us/step - loss: 0.0813 - acc: 1.0000\n",
            "Epoch 111/180\n",
            "105/105 [==============================] - 0s 954us/step - loss: 0.0802 - acc: 1.0000\n",
            "Epoch 112/180\n",
            "105/105 [==============================] - 0s 1ms/step - loss: 0.0792 - acc: 1.0000\n",
            "Epoch 113/180\n",
            "105/105 [==============================] - 0s 932us/step - loss: 0.0782 - acc: 1.0000\n",
            "Epoch 114/180\n",
            "105/105 [==============================] - 0s 954us/step - loss: 0.0772 - acc: 1.0000\n",
            "Epoch 115/180\n",
            "105/105 [==============================] - 0s 993us/step - loss: 0.0762 - acc: 1.0000\n",
            "Epoch 116/180\n",
            "105/105 [==============================] - 0s 1ms/step - loss: 0.0753 - acc: 1.0000\n",
            "Epoch 117/180\n",
            "105/105 [==============================] - 0s 989us/step - loss: 0.0744 - acc: 1.0000\n",
            "Epoch 118/180\n",
            "105/105 [==============================] - 0s 911us/step - loss: 0.0734 - acc: 1.0000\n",
            "Epoch 119/180\n",
            "105/105 [==============================] - 0s 923us/step - loss: 0.0726 - acc: 1.0000\n",
            "Epoch 120/180\n",
            "105/105 [==============================] - 0s 991us/step - loss: 0.0717 - acc: 1.0000\n",
            "Epoch 121/180\n",
            "105/105 [==============================] - 0s 1ms/step - loss: 0.0708 - acc: 1.0000\n",
            "Epoch 122/180\n",
            "105/105 [==============================] - 0s 979us/step - loss: 0.0700 - acc: 1.0000\n",
            "Epoch 123/180\n",
            "105/105 [==============================] - 0s 964us/step - loss: 0.0691 - acc: 1.0000\n",
            "Epoch 124/180\n",
            "105/105 [==============================] - 0s 963us/step - loss: 0.0683 - acc: 1.0000\n",
            "Epoch 125/180\n",
            "105/105 [==============================] - 0s 988us/step - loss: 0.0675 - acc: 1.0000\n",
            "Epoch 126/180\n",
            "105/105 [==============================] - 0s 928us/step - loss: 0.0668 - acc: 1.0000\n",
            "Epoch 127/180\n",
            "105/105 [==============================] - 0s 969us/step - loss: 0.0660 - acc: 1.0000\n",
            "Epoch 128/180\n",
            "105/105 [==============================] - 0s 1ms/step - loss: 0.0652 - acc: 1.0000\n",
            "Epoch 129/180\n",
            "105/105 [==============================] - 0s 961us/step - loss: 0.0645 - acc: 1.0000\n",
            "Epoch 130/180\n",
            "105/105 [==============================] - 0s 936us/step - loss: 0.0638 - acc: 1.0000\n",
            "Epoch 131/180\n",
            "105/105 [==============================] - 0s 936us/step - loss: 0.0631 - acc: 1.0000\n",
            "Epoch 132/180\n",
            "105/105 [==============================] - 0s 1ms/step - loss: 0.0624 - acc: 1.0000\n",
            "Epoch 133/180\n",
            "105/105 [==============================] - 0s 905us/step - loss: 0.0617 - acc: 1.0000\n",
            "Epoch 134/180\n",
            "105/105 [==============================] - 0s 941us/step - loss: 0.0610 - acc: 1.0000\n",
            "Epoch 135/180\n",
            "105/105 [==============================] - 0s 982us/step - loss: 0.0603 - acc: 1.0000\n",
            "Epoch 136/180\n",
            "105/105 [==============================] - 0s 898us/step - loss: 0.0597 - acc: 1.0000\n",
            "Epoch 137/180\n",
            "105/105 [==============================] - 0s 960us/step - loss: 0.0591 - acc: 1.0000\n",
            "Epoch 138/180\n",
            "105/105 [==============================] - 0s 938us/step - loss: 0.0584 - acc: 1.0000\n",
            "Epoch 139/180\n",
            "105/105 [==============================] - 0s 981us/step - loss: 0.0578 - acc: 1.0000\n",
            "Epoch 140/180\n",
            "105/105 [==============================] - 0s 938us/step - loss: 0.0572 - acc: 1.0000\n",
            "Epoch 141/180\n",
            "105/105 [==============================] - 0s 951us/step - loss: 0.0566 - acc: 1.0000\n",
            "Epoch 142/180\n",
            "105/105 [==============================] - 0s 912us/step - loss: 0.0560 - acc: 1.0000\n",
            "Epoch 143/180\n",
            "105/105 [==============================] - 0s 940us/step - loss: 0.0555 - acc: 1.0000\n",
            "Epoch 144/180\n",
            "105/105 [==============================] - 0s 1ms/step - loss: 0.0549 - acc: 1.0000\n",
            "Epoch 145/180\n",
            "105/105 [==============================] - 0s 1ms/step - loss: 0.0543 - acc: 1.0000\n",
            "Epoch 146/180\n",
            "105/105 [==============================] - 0s 1ms/step - loss: 0.0538 - acc: 1.0000\n",
            "Epoch 147/180\n",
            "105/105 [==============================] - 0s 1ms/step - loss: 0.0533 - acc: 1.0000\n",
            "Epoch 148/180\n",
            "105/105 [==============================] - 0s 905us/step - loss: 0.0527 - acc: 1.0000\n",
            "Epoch 149/180\n",
            "105/105 [==============================] - 0s 931us/step - loss: 0.0522 - acc: 1.0000\n",
            "Epoch 150/180\n",
            "105/105 [==============================] - 0s 974us/step - loss: 0.0517 - acc: 1.0000\n",
            "Epoch 151/180\n",
            "105/105 [==============================] - 0s 945us/step - loss: 0.0512 - acc: 1.0000\n",
            "Epoch 152/180\n",
            "105/105 [==============================] - 0s 926us/step - loss: 0.0507 - acc: 1.0000\n",
            "Epoch 153/180\n",
            "105/105 [==============================] - 0s 940us/step - loss: 0.0502 - acc: 1.0000\n",
            "Epoch 154/180\n",
            "105/105 [==============================] - 0s 963us/step - loss: 0.0498 - acc: 1.0000\n",
            "Epoch 155/180\n",
            "105/105 [==============================] - 0s 932us/step - loss: 0.0493 - acc: 1.0000\n",
            "Epoch 156/180\n",
            "105/105 [==============================] - 0s 932us/step - loss: 0.0488 - acc: 1.0000\n",
            "Epoch 157/180\n",
            "105/105 [==============================] - 0s 938us/step - loss: 0.0484 - acc: 1.0000\n",
            "Epoch 158/180\n",
            "105/105 [==============================] - 0s 955us/step - loss: 0.0479 - acc: 1.0000\n",
            "Epoch 159/180\n",
            "105/105 [==============================] - 0s 956us/step - loss: 0.0475 - acc: 1.0000\n",
            "Epoch 160/180\n",
            "105/105 [==============================] - 0s 906us/step - loss: 0.0471 - acc: 1.0000\n",
            "Epoch 161/180\n",
            "105/105 [==============================] - 0s 971us/step - loss: 0.0466 - acc: 1.0000\n",
            "Epoch 162/180\n",
            "105/105 [==============================] - 0s 976us/step - loss: 0.0462 - acc: 1.0000\n",
            "Epoch 163/180\n",
            "105/105 [==============================] - 0s 950us/step - loss: 0.0458 - acc: 1.0000\n",
            "Epoch 164/180\n",
            "105/105 [==============================] - 0s 1ms/step - loss: 0.0454 - acc: 1.0000\n",
            "Epoch 165/180\n",
            "105/105 [==============================] - 0s 1ms/step - loss: 0.0450 - acc: 1.0000\n",
            "Epoch 166/180\n",
            "105/105 [==============================] - 0s 921us/step - loss: 0.0446 - acc: 1.0000\n",
            "Epoch 167/180\n",
            "105/105 [==============================] - 0s 915us/step - loss: 0.0442 - acc: 1.0000\n",
            "Epoch 168/180\n",
            "105/105 [==============================] - 0s 900us/step - loss: 0.0438 - acc: 1.0000\n",
            "Epoch 169/180\n",
            "105/105 [==============================] - 0s 968us/step - loss: 0.0434 - acc: 1.0000\n",
            "Epoch 170/180\n",
            "105/105 [==============================] - 0s 978us/step - loss: 0.0431 - acc: 1.0000\n",
            "Epoch 171/180\n",
            "105/105 [==============================] - 0s 943us/step - loss: 0.0427 - acc: 1.0000\n",
            "Epoch 172/180\n",
            "105/105 [==============================] - 0s 984us/step - loss: 0.0424 - acc: 1.0000\n",
            "Epoch 173/180\n",
            "105/105 [==============================] - 0s 1ms/step - loss: 0.0420 - acc: 1.0000\n",
            "Epoch 174/180\n",
            "105/105 [==============================] - 0s 967us/step - loss: 0.0416 - acc: 1.0000\n",
            "Epoch 175/180\n",
            "105/105 [==============================] - 0s 930us/step - loss: 0.0413 - acc: 1.0000\n",
            "Epoch 176/180\n",
            "105/105 [==============================] - 0s 956us/step - loss: 0.0410 - acc: 1.0000\n",
            "Epoch 177/180\n",
            "105/105 [==============================] - 0s 923us/step - loss: 0.0406 - acc: 1.0000\n",
            "Epoch 178/180\n",
            "105/105 [==============================] - 0s 968us/step - loss: 0.0403 - acc: 1.0000\n",
            "Epoch 179/180\n",
            "105/105 [==============================] - 0s 822us/step - loss: 0.0400 - acc: 1.0000\n",
            "Epoch 180/180\n",
            "105/105 [==============================] - 0s 869us/step - loss: 0.0396 - acc: 1.0000\n",
            "13/13 [==============================] - 0s 4ms/step\n"
          ],
          "name": "stdout"
        }
      ]
    },
    {
      "cell_type": "code",
      "metadata": {
        "colab_type": "code",
        "outputId": "8ce4a441-e681-4e80-c687-ab180852425a",
        "id": "lCz1ZOSIqE7i",
        "colab": {
          "base_uri": "https://localhost:8080/",
          "height": 34
        }
      },
      "source": [
        "model.metrics_names"
      ],
      "execution_count": 72,
      "outputs": [
        {
          "output_type": "execute_result",
          "data": {
            "text/plain": [
              "['loss', 'acc']"
            ]
          },
          "metadata": {
            "tags": []
          },
          "execution_count": 72
        }
      ]
    },
    {
      "cell_type": "code",
      "metadata": {
        "colab_type": "code",
        "outputId": "b4a4f604-cf03-4f29-a20e-a8ff2d90b883",
        "id": "GbroOBzLqE7v",
        "colab": {
          "base_uri": "https://localhost:8080/",
          "height": 34
        }
      },
      "source": [
        "test_acc\n"
      ],
      "execution_count": 73,
      "outputs": [
        {
          "output_type": "execute_result",
          "data": {
            "text/plain": [
              "0.4615384638309479"
            ]
          },
          "metadata": {
            "tags": []
          },
          "execution_count": 73
        }
      ]
    },
    {
      "cell_type": "markdown",
      "metadata": {
        "id": "DX_hXso7rd39",
        "colab_type": "text"
      },
      "source": [
        "Si comporta molto bene in training e in validation ma si comporta male in test"
      ]
    },
    {
      "cell_type": "markdown",
      "metadata": {
        "id": "BlrMqdh1w2bs",
        "colab_type": "text"
      },
      "source": [
        "Remove correlated features manually"
      ]
    }
  ]
}