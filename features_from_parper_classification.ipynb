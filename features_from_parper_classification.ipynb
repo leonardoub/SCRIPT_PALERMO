{
  "nbformat": 4,
  "nbformat_minor": 0,
  "metadata": {
    "colab": {
      "name": "features_from_parper_classification.ipynb",
      "provenance": [],
      "authorship_tag": "ABX9TyOGonRZkJYuH3ZJz5P0b/bV",
      "include_colab_link": true
    },
    "kernelspec": {
      "name": "python3",
      "display_name": "Python 3"
    }
  },
  "cells": [
    {
      "cell_type": "markdown",
      "metadata": {
        "id": "view-in-github",
        "colab_type": "text"
      },
      "source": [
        "<a href=\"https://colab.research.google.com/github/leonardoub/SCRIPT_PALERMO/blob/master/features_from_parper_classification.ipynb\" target=\"_parent\"><img src=\"https://colab.research.google.com/assets/colab-badge.svg\" alt=\"Open In Colab\"/></a>"
      ]
    },
    {
      "cell_type": "markdown",
      "metadata": {
        "id": "knZxcJw4cD9T",
        "colab_type": "text"
      },
      "source": [
        "The resulting radiomic signature consisted of (I) ‘Statistics\n",
        "Energy’ (Supplementary Methods Feature 1) describing the\n",
        "overall density of the tumour volume, (II) ‘Shape Compactness’\n",
        "(Feature 16) quantifying how compact the tumour shape is, (III)\n",
        "‘Grey Level Nonuniformity’ (Feature 48) a measure for\n",
        "intratumour heterogeneity and (IV) wavelet ‘Grey Level Nonuniformity HLH’ (Feature Group 4), also describing\n",
        "intratumour heterogeneity after decomposing the image in mid-\n",
        "frequencies.\n"
      ]
    },
    {
      "cell_type": "code",
      "metadata": {
        "id": "0VawOmy3bdbm",
        "colab_type": "code",
        "colab": {}
      },
      "source": [
        ""
      ],
      "execution_count": 0,
      "outputs": []
    }
  ]
}