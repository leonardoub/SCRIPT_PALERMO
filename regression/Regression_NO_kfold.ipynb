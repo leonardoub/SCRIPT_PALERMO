{
  "nbformat": 4,
  "nbformat_minor": 0,
  "metadata": {
    "colab": {
      "name": "Regression_NO_kfold.ipynb",
      "provenance": [],
      "authorship_tag": "ABX9TyOUUYHhp//ZXCYdxezy3Kdy",
      "include_colab_link": true
    },
    "kernelspec": {
      "name": "python3",
      "display_name": "Python 3"
    }
  },
  "cells": [
    {
      "cell_type": "markdown",
      "metadata": {
        "id": "view-in-github",
        "colab_type": "text"
      },
      "source": [
        "<a href=\"https://colab.research.google.com/github/leonardoub/SCRIPT_PALERMO/blob/master/regression/Regression_NO_kfold.ipynb\" target=\"_parent\"><img src=\"https://colab.research.google.com/assets/colab-badge.svg\" alt=\"Open In Colab\"/></a>"
      ]
    },
    {
      "cell_type": "code",
      "metadata": {
        "id": "H4l7OHNfwiiy",
        "colab_type": "code",
        "colab": {}
      },
      "source": [
        "import random\n",
        "import pandas as pd\n",
        "import numpy as np\n",
        "import matplotlib.pyplot as plt\n",
        "import scipy\n",
        "import seaborn as sns"
      ],
      "execution_count": 0,
      "outputs": []
    },
    {
      "cell_type": "code",
      "metadata": {
        "id": "ZoIjmCLRDgb6",
        "colab_type": "code",
        "outputId": "5dd49a6b-a2c6-4020-ca4b-bd8052136d1a",
        "colab": {
          "base_uri": "https://localhost:8080/",
          "height": 81
        }
      },
      "source": [
        "# Seed value\n",
        "# Apparently you may use different seed values at each stage\n",
        "seed_value= 0\n",
        "\n",
        "# 1. Set `PYTHONHASHSEED` environment variable at a fixed value\n",
        "import os\n",
        "os.environ['PYTHONHASHSEED']=str(seed_value)\n",
        "\n",
        "# 2. Set `python` built-in pseudo-random generator at a fixed value\n",
        "import random\n",
        "random.seed(seed_value)\n",
        "\n",
        "# 3. Set `numpy` pseudo-random generator at a fixed value\n",
        "import numpy as np\n",
        "np.random.seed(seed_value)\n",
        "\n",
        "# 4. Set `tensorflow` pseudo-random generator at a fixed value\n",
        "import tensorflow as tf\n",
        "tf.set_random_seed(seed_value)\n",
        "\n",
        "# 5. Configure a new global `tensorflow` session\n",
        "from keras import backend as K\n",
        "session_conf = tf.ConfigProto(intra_op_parallelism_threads=1, inter_op_parallelism_threads=1)\n",
        "sess = tf.Session(graph=tf.get_default_graph(), config=session_conf)\n",
        "K.set_session(sess)"
      ],
      "execution_count": 0,
      "outputs": [
        {
          "output_type": "display_data",
          "data": {
            "text/html": [
              "<p style=\"color: red;\">\n",
              "The default version of TensorFlow in Colab will soon switch to TensorFlow 2.x.<br>\n",
              "We recommend you <a href=\"https://www.tensorflow.org/guide/migrate\" target=\"_blank\">upgrade</a> now \n",
              "or ensure your notebook will continue to use TensorFlow 1.x via the <code>%tensorflow_version 1.x</code> magic:\n",
              "<a href=\"https://colab.research.google.com/notebooks/tensorflow_version.ipynb\" target=\"_blank\">more info</a>.</p>\n"
            ],
            "text/plain": [
              "<IPython.core.display.HTML object>"
            ]
          },
          "metadata": {
            "tags": []
          }
        },
        {
          "output_type": "stream",
          "text": [
            "Using TensorFlow backend.\n"
          ],
          "name": "stderr"
        }
      ]
    },
    {
      "cell_type": "markdown",
      "metadata": {
        "id": "KF3PtYJsE3an",
        "colab_type": "text"
      },
      "source": [
        "con quest'aggunta si ha riproducibilità alta ma non perfetta"
      ]
    },
    {
      "cell_type": "markdown",
      "metadata": {
        "id": "_DME-inQ4ke_",
        "colab_type": "text"
      },
      "source": [
        "#Load data"
      ]
    },
    {
      "cell_type": "code",
      "metadata": {
        "id": "7Hq45TSf3WcR",
        "colab_type": "code",
        "outputId": "c5f674f5-b724-4e57-848b-07930ce0e17b",
        "colab": {
          "base_uri": "https://localhost:8080/",
          "height": 141
        }
      },
      "source": [
        "#load data from Drive\n",
        "from google.colab import drive\n",
        "drive.mount('/gdrive')\n",
        "%cd /gdrive"
      ],
      "execution_count": 0,
      "outputs": [
        {
          "output_type": "stream",
          "text": [
            "Go to this URL in a browser: https://accounts.google.com/o/oauth2/auth?client_id=947318989803-6bn6qk8qdgf4n4g3pfee6491hc0brc4i.apps.googleusercontent.com&redirect_uri=urn%3aietf%3awg%3aoauth%3a2.0%3aoob&response_type=code&scope=email%20https%3a%2f%2fwww.googleapis.com%2fauth%2fdocs.test%20https%3a%2f%2fwww.googleapis.com%2fauth%2fdrive%20https%3a%2f%2fwww.googleapis.com%2fauth%2fdrive.photos.readonly%20https%3a%2f%2fwww.googleapis.com%2fauth%2fpeopleapi.readonly\n",
            "\n",
            "Enter your authorization code:\n",
            "··········\n",
            "Mounted at /gdrive\n",
            "/gdrive\n"
          ],
          "name": "stdout"
        }
      ]
    },
    {
      "cell_type": "code",
      "metadata": {
        "id": "UCkUXesZhMzg",
        "colab_type": "code",
        "colab": {}
      },
      "source": [
        "train_dataset_path = '/gdrive/My Drive/AIM_PA/database_training2.csv'\n",
        "test_dataset_path = '/gdrive/My Drive/AIM_PA/database_nostro_without_nan.csv'"
      ],
      "execution_count": 0,
      "outputs": []
    },
    {
      "cell_type": "code",
      "metadata": {
        "id": "TczPxOpEhTXw",
        "colab_type": "code",
        "colab": {}
      },
      "source": [
        "df_train = pd.read_csv(train_dataset_path)\n",
        "df_test = pd.read_csv(test_dataset_path)"
      ],
      "execution_count": 0,
      "outputs": []
    },
    {
      "cell_type": "code",
      "metadata": {
        "id": "9I5MNxeW3j2G",
        "colab_type": "code",
        "colab": {}
      },
      "source": [
        "df_train.rename(columns={'Survival.time (months)':'Surv_time_months'}, inplace=True)"
      ],
      "execution_count": 0,
      "outputs": []
    },
    {
      "cell_type": "code",
      "metadata": {
        "id": "TLxDyFPo3sU9",
        "colab_type": "code",
        "colab": {}
      },
      "source": [
        "df_test.rename(columns={'Survival.time (months)':'Surv_time_months'}, inplace=True)"
      ],
      "execution_count": 0,
      "outputs": []
    },
    {
      "cell_type": "code",
      "metadata": {
        "id": "oXU_B2k03uYa",
        "colab_type": "code",
        "colab": {}
      },
      "source": [
        "df_train.rename(columns={'Overall.Stage':'Overall_Stage'}, inplace=True)\n",
        "df_test.rename(columns={'Overall.Stage':'Overall_Stage'}, inplace=True)"
      ],
      "execution_count": 0,
      "outputs": []
    },
    {
      "cell_type": "code",
      "metadata": {
        "id": "T1YCrOMP3_4q",
        "colab_type": "code",
        "colab": {}
      },
      "source": [
        "public_data = df_train.drop(['Histology', 'Surv_time_months', 'OS', 'deadstatus.event','Overall_Stage'], axis=1)"
      ],
      "execution_count": 0,
      "outputs": []
    },
    {
      "cell_type": "code",
      "metadata": {
        "id": "BWj1mwjV4Mzo",
        "colab_type": "code",
        "colab": {}
      },
      "source": [
        "PA_data = df_test.drop(['Histology', 'Surv_time_months', 'OS', 'deadstatus.event','Overall_Stage'], axis=1)"
      ],
      "execution_count": 0,
      "outputs": []
    },
    {
      "cell_type": "code",
      "metadata": {
        "id": "dKdS4Low4PHh",
        "colab_type": "code",
        "colab": {}
      },
      "source": [
        "public_targets = df_train.Surv_time_months"
      ],
      "execution_count": 0,
      "outputs": []
    },
    {
      "cell_type": "code",
      "metadata": {
        "id": "K6EsAdEt4RNP",
        "colab_type": "code",
        "colab": {}
      },
      "source": [
        "PA_targets = df_test.Surv_time_months"
      ],
      "execution_count": 0,
      "outputs": []
    },
    {
      "cell_type": "code",
      "metadata": {
        "id": "kBaJT3uHVOZ8",
        "colab_type": "code",
        "outputId": "dd71bd1a-19d6-43b9-8401-0ad2a742ddf3",
        "colab": {
          "base_uri": "https://localhost:8080/",
          "height": 34
        }
      },
      "source": [
        "public_targets.min()"
      ],
      "execution_count": 0,
      "outputs": [
        {
          "output_type": "execute_result",
          "data": {
            "text/plain": [
              "1"
            ]
          },
          "metadata": {
            "tags": []
          },
          "execution_count": 14
        }
      ]
    },
    {
      "cell_type": "code",
      "metadata": {
        "id": "ZmINZOMZVX4G",
        "colab_type": "code",
        "outputId": "65616c32-8ce6-4f44-d688-b64dc37cb964",
        "colab": {
          "base_uri": "https://localhost:8080/",
          "height": 34
        }
      },
      "source": [
        "public_targets.max()"
      ],
      "execution_count": 0,
      "outputs": [
        {
          "output_type": "execute_result",
          "data": {
            "text/plain": [
              "72"
            ]
          },
          "metadata": {
            "tags": []
          },
          "execution_count": 15
        }
      ]
    },
    {
      "cell_type": "code",
      "metadata": {
        "id": "UdyU7v6SEe4P",
        "colab_type": "code",
        "colab": {}
      },
      "source": [
        "a=list(public_targets)"
      ],
      "execution_count": 0,
      "outputs": []
    },
    {
      "cell_type": "code",
      "metadata": {
        "id": "1iuOkL8LEjXT",
        "colab_type": "code",
        "colab": {}
      },
      "source": [
        "a.sort()"
      ],
      "execution_count": 0,
      "outputs": []
    },
    {
      "cell_type": "code",
      "metadata": {
        "id": "Eh1YPPwSCsYq",
        "colab_type": "code",
        "outputId": "7e3d3a0f-b8dc-403a-d000-1ec00d83e008",
        "colab": {
          "base_uri": "https://localhost:8080/",
          "height": 54
        }
      },
      "source": [
        "print(a)"
      ],
      "execution_count": 0,
      "outputs": [
        {
          "output_type": "stream",
          "text": [
            "[1, 1, 2, 2, 2, 2, 2, 2, 3, 3, 3, 3, 3, 3, 4, 4, 4, 4, 4, 4, 5, 5, 5, 5, 6, 6, 6, 6, 6, 6, 7, 7, 7, 7, 8, 8, 9, 9, 9, 9, 10, 10, 10, 10, 10, 10, 11, 12, 12, 12, 12, 12, 13, 13, 13, 15, 15, 15, 15, 15, 16, 16, 16, 16, 16, 17, 18, 18, 18, 18, 19, 19, 19, 21, 21, 21, 21, 21, 22, 22, 23, 23, 23, 24, 24, 25, 25, 25, 26, 27, 27, 27, 28, 29, 29, 30, 30, 30, 31, 31, 32, 33, 33, 33, 34, 36, 36, 36, 38, 38, 40, 40, 41, 41, 44, 45, 45, 46, 46, 46, 48, 50, 51, 52, 54, 56, 60, 63, 64, 71, 72]\n"
          ],
          "name": "stdout"
        }
      ]
    },
    {
      "cell_type": "code",
      "metadata": {
        "id": "EZC4UTEXwwb1",
        "colab_type": "code",
        "outputId": "ab778b8c-c8ef-4c62-9663-29b54d3a75d7",
        "colab": {
          "base_uri": "https://localhost:8080/",
          "height": 317
        }
      },
      "source": [
        "plt.hist(public_targets, 5)"
      ],
      "execution_count": 0,
      "outputs": [
        {
          "output_type": "execute_result",
          "data": {
            "text/plain": [
              "(array([60., 35., 19., 12.,  5.]),\n",
              " array([ 1. , 15.2, 29.4, 43.6, 57.8, 72. ]),\n",
              " <a list of 5 Patch objects>)"
            ]
          },
          "metadata": {
            "tags": []
          },
          "execution_count": 19
        },
        {
          "output_type": "display_data",
          "data": {
            "image/png": "[encoded data removed]",
            "text/plain": [
              "<Figure size 432x288 with 1 Axes>"
            ]
          },
          "metadata": {
            "tags": []
          }
        }
      ]
    },
    {
      "cell_type": "markdown",
      "metadata": {
        "id": "tqDYyNd6_3s4",
        "colab_type": "text"
      },
      "source": [
        "#Train Test Split"
      ]
    },
    {
      "cell_type": "code",
      "metadata": {
        "id": "_7I8R-jd_3Hd",
        "colab_type": "code",
        "colab": {}
      },
      "source": [
        "from sklearn.model_selection import train_test_split"
      ],
      "execution_count": 0,
      "outputs": []
    },
    {
      "cell_type": "code",
      "metadata": {
        "id": "1iGf61ksL0aY",
        "colab_type": "code",
        "colab": {}
      },
      "source": [
        "# Create the bins.  My target variable has\n",
        "# max=72 observations, and I want 5 bins.\n",
        "\n",
        "bins = np.linspace(1, 71, 5)"
      ],
      "execution_count": 0,
      "outputs": []
    },
    {
      "cell_type": "code",
      "metadata": {
        "id": "pD-nPB1iMFTh",
        "colab_type": "code",
        "outputId": "bf9eeb96-635e-42ca-989c-1e43228c30c9",
        "colab": {
          "base_uri": "https://localhost:8080/",
          "height": 34
        }
      },
      "source": [
        "bins"
      ],
      "execution_count": 0,
      "outputs": [
        {
          "output_type": "execute_result",
          "data": {
            "text/plain": [
              "array([ 1. , 18.5, 36. , 53.5, 71. ])"
            ]
          },
          "metadata": {
            "tags": []
          },
          "execution_count": 22
        }
      ]
    },
    {
      "cell_type": "code",
      "metadata": {
        "id": "NUWXG2pxMr86",
        "colab_type": "code",
        "colab": {}
      },
      "source": [
        "# Save your Y values in a new ndarray,\n",
        "# broken down by the bins created above.\n",
        "\n",
        "y_binned = np.digitize(public_targets, bins)"
      ],
      "execution_count": 0,
      "outputs": []
    },
    {
      "cell_type": "code",
      "metadata": {
        "id": "6W6OigAeMykE",
        "colab_type": "code",
        "outputId": "06508691-d3da-444f-dcb8-33af1c4317ee",
        "colab": {
          "base_uri": "https://localhost:8080/",
          "height": 121
        }
      },
      "source": [
        "y_binned"
      ],
      "execution_count": 0,
      "outputs": [
        {
          "output_type": "execute_result",
          "data": {
            "text/plain": [
              "array([1, 1, 2, 3, 1, 1, 1, 2, 3, 1, 1, 1, 1, 1, 2, 4, 1, 1, 1, 2, 2, 2,\n",
              "       2, 3, 3, 4, 1, 1, 1, 1, 1, 1, 2, 2, 2, 2, 2, 2, 2, 2, 2, 2, 3, 3,\n",
              "       3, 1, 1, 1, 1, 1, 1, 1, 1, 1, 1, 1, 1, 1, 1, 1, 1, 1, 2, 2, 2, 2,\n",
              "       2, 2, 2, 2, 3, 3, 3, 3, 3, 5, 1, 1, 1, 1, 1, 1, 1, 1, 2, 2, 2, 3,\n",
              "       3, 3, 1, 1, 1, 1, 1, 1, 1, 2, 3, 4, 4, 1, 1, 1, 1, 1, 1, 1, 1, 1,\n",
              "       1, 1, 2, 2, 2, 4, 1, 1, 1, 1, 1, 1, 1, 1, 2, 2, 2, 3, 3, 3, 5])"
            ]
          },
          "metadata": {
            "tags": []
          },
          "execution_count": 24
        }
      ]
    },
    {
      "cell_type": "code",
      "metadata": {
        "id": "_bnO8hgZ__GF",
        "colab_type": "code",
        "colab": {}
      },
      "source": [
        "X_train_big, X_test, y_train_big, y_test = train_test_split(public_data, public_targets, test_size=13, stratify=y_binned, random_state=1)"
      ],
      "execution_count": 0,
      "outputs": []
    },
    {
      "cell_type": "code",
      "metadata": {
        "id": "tdNT2GsMOAYv",
        "colab_type": "code",
        "outputId": "eb7d5cec-3239-4e94-b989-ddfd63830f63",
        "colab": {
          "base_uri": "https://localhost:8080/",
          "height": 317
        }
      },
      "source": [
        "plt.hist(y_test, 5)"
      ],
      "execution_count": 0,
      "outputs": [
        {
          "output_type": "execute_result",
          "data": {
            "text/plain": [
              "(array([5., 3., 2., 2., 1.]),\n",
              " array([ 1. , 12.8, 24.6, 36.4, 48.2, 60. ]),\n",
              " <a list of 5 Patch objects>)"
            ]
          },
          "metadata": {
            "tags": []
          },
          "execution_count": 26
        },
        {
          "output_type": "display_data",
          "data": {
            "image/png": "[encoded data removed]",
            "text/plain": [
              "<Figure size 432x288 with 1 Axes>"
            ]
          },
          "metadata": {
            "tags": []
          }
        }
      ]
    },
    {
      "cell_type": "markdown",
      "metadata": {
        "id": "pMuRNXFjVEiK",
        "colab_type": "text"
      },
      "source": [
        "#Train Validation Split"
      ]
    },
    {
      "cell_type": "code",
      "metadata": {
        "colab_type": "code",
        "id": "ovpVx4a7VMkl",
        "colab": {}
      },
      "source": [
        "from sklearn.model_selection import train_test_split"
      ],
      "execution_count": 0,
      "outputs": []
    },
    {
      "cell_type": "code",
      "metadata": {
        "colab_type": "code",
        "id": "ch0dPinGVMk3",
        "colab": {}
      },
      "source": [
        "# Create the bins. My target variable has\n",
        "#  max=72, and I want 5 bins.\n",
        "\n",
        "bins = np.linspace(1, 71, 5)"
      ],
      "execution_count": 0,
      "outputs": []
    },
    {
      "cell_type": "code",
      "metadata": {
        "colab_type": "code",
        "outputId": "e47344f3-7a33-43b5-f50f-76d0a3c65724",
        "id": "o0tcNiSSVMlJ",
        "colab": {
          "base_uri": "https://localhost:8080/",
          "height": 34
        }
      },
      "source": [
        "bins"
      ],
      "execution_count": 0,
      "outputs": [
        {
          "output_type": "execute_result",
          "data": {
            "text/plain": [
              "array([ 1. , 18.5, 36. , 53.5, 71. ])"
            ]
          },
          "metadata": {
            "tags": []
          },
          "execution_count": 29
        }
      ]
    },
    {
      "cell_type": "code",
      "metadata": {
        "colab_type": "code",
        "id": "ZrvunTpXVMla",
        "colab": {}
      },
      "source": [
        "# Save your Y values in a new ndarray,\n",
        "# broken down by the bins created above.\n",
        "\n",
        "y_binned = np.digitize(y_train_big, bins)"
      ],
      "execution_count": 0,
      "outputs": []
    },
    {
      "cell_type": "code",
      "metadata": {
        "colab_type": "code",
        "outputId": "256c33d8-cff6-4409-dfa6-656aec3601c7",
        "id": "se_dpuIJVMlm",
        "colab": {
          "base_uri": "https://localhost:8080/",
          "height": 121
        }
      },
      "source": [
        "y_binned"
      ],
      "execution_count": 0,
      "outputs": [
        {
          "output_type": "execute_result",
          "data": {
            "text/plain": [
              "array([1, 3, 1, 1, 2, 4, 2, 2, 1, 2, 2, 2, 1, 2, 3, 1, 1, 2, 4, 1, 2, 3,\n",
              "       1, 2, 1, 1, 1, 3, 1, 1, 2, 1, 1, 1, 1, 1, 4, 1, 2, 2, 1, 1, 1, 1,\n",
              "       1, 1, 1, 2, 3, 1, 3, 2, 1, 1, 1, 1, 2, 2, 2, 1, 2, 1, 1, 2, 1, 2,\n",
              "       1, 2, 3, 1, 3, 3, 1, 2, 1, 1, 2, 1, 1, 1, 1, 1, 1, 3, 1, 1, 1, 4,\n",
              "       5, 1, 1, 1, 1, 3, 1, 2, 2, 2, 2, 3, 3, 1, 1, 3, 3, 5, 1, 3, 2, 1,\n",
              "       3, 1, 2, 2, 1, 1, 1, 2])"
            ]
          },
          "metadata": {
            "tags": []
          },
          "execution_count": 31
        }
      ]
    },
    {
      "cell_type": "code",
      "metadata": {
        "colab_type": "code",
        "id": "S3Tq1lHxVMlu",
        "colab": {}
      },
      "source": [
        "X_train, X_val, y_train, y_val = train_test_split(X_train_big, y_train_big, test_size=13, stratify=y_binned, random_state=2)                                                                                                               "
      ],
      "execution_count": 0,
      "outputs": []
    },
    {
      "cell_type": "code",
      "metadata": {
        "colab_type": "code",
        "outputId": "01553d2a-9561-47db-f4d2-03439b85e75d",
        "id": "sKiagqNGVMl4",
        "colab": {
          "base_uri": "https://localhost:8080/",
          "height": 317
        }
      },
      "source": [
        "plt.hist(y_val, 5)"
      ],
      "execution_count": 0,
      "outputs": [
        {
          "output_type": "execute_result",
          "data": {
            "text/plain": [
              "(array([6., 2., 2., 2., 1.]),\n",
              " array([ 4. , 13.4, 22.8, 32.2, 41.6, 51. ]),\n",
              " <a list of 5 Patch objects>)"
            ]
          },
          "metadata": {
            "tags": []
          },
          "execution_count": 34
        },
        {
          "output_type": "display_data",
          "data": {
            "image/png": "[encoded data removed]",
            "text/plain": [
              "<Figure size 432x288 with 1 Axes>"
            ]
          },
          "metadata": {
            "tags": []
          }
        }
      ]
    },
    {
      "cell_type": "markdown",
      "metadata": {
        "id": "dtPx7PMDnXM3",
        "colab_type": "text"
      },
      "source": [
        "#Z score dei dati"
      ]
    },
    {
      "cell_type": "code",
      "metadata": {
        "id": "XK4Qji2EnVV4",
        "colab_type": "code",
        "colab": {}
      },
      "source": [
        "from sklearn.preprocessing import StandardScaler\n",
        "scaler = StandardScaler()\n",
        "train_data_stand = scaler.fit_transform(X_train)\n",
        "val_data_stand = scaler.transform(X_val)\n",
        "test_data_stand = scaler.transform(X_test)"
      ],
      "execution_count": 0,
      "outputs": []
    },
    {
      "cell_type": "markdown",
      "metadata": {
        "id": "Mn0tkOGc3LKN",
        "colab_type": "text"
      },
      "source": [
        "#PCA"
      ]
    },
    {
      "cell_type": "code",
      "metadata": {
        "id": "oS76u6iu3Seg",
        "colab_type": "code",
        "colab": {}
      },
      "source": [
        "from sklearn.decomposition import PCA"
      ],
      "execution_count": 0,
      "outputs": []
    },
    {
      "cell_type": "code",
      "metadata": {
        "id": "KCjC4zqJ3bui",
        "colab_type": "code",
        "colab": {}
      },
      "source": [
        "pca = PCA(n_components=0.9, svd_solver='full')"
      ],
      "execution_count": 0,
      "outputs": []
    },
    {
      "cell_type": "code",
      "metadata": {
        "id": "dLUCf9qX4p_e",
        "colab_type": "code",
        "outputId": "9e1e0f7c-c97c-4b4b-ff53-a746a94b5640",
        "colab": {
          "base_uri": "https://localhost:8080/",
          "height": 52
        }
      },
      "source": [
        "pca.fit(train_data_stand)"
      ],
      "execution_count": 0,
      "outputs": [
        {
          "output_type": "execute_result",
          "data": {
            "text/plain": [
              "PCA(copy=True, iterated_power='auto', n_components=0.9, random_state=None,\n",
              "    svd_solver='full', tol=0.0, whiten=False)"
            ]
          },
          "metadata": {
            "tags": []
          },
          "execution_count": 39
        }
      ]
    },
    {
      "cell_type": "code",
      "metadata": {
        "id": "QfyaKgNZ44o3",
        "colab_type": "code",
        "colab": {}
      },
      "source": [
        "train_data_stand_pca = pca.transform(train_data_stand)\n",
        "val_data_stand_pca = pca.transform(val_data_stand)\n",
        "test_data_stand_pca = pca.transform(test_data_stand)"
      ],
      "execution_count": 0,
      "outputs": []
    },
    {
      "cell_type": "code",
      "metadata": {
        "id": "Uz9C4nl05b_g",
        "colab_type": "code",
        "outputId": "985150bf-4f02-40cb-a969-034777f88bc2",
        "colab": {
          "base_uri": "https://localhost:8080/",
          "height": 34
        }
      },
      "source": [
        "train_data_stand_pca.shape"
      ],
      "execution_count": 0,
      "outputs": [
        {
          "output_type": "execute_result",
          "data": {
            "text/plain": [
              "(105, 9)"
            ]
          },
          "metadata": {
            "tags": []
          },
          "execution_count": 41
        }
      ]
    },
    {
      "cell_type": "markdown",
      "metadata": {
        "id": "WF5fsvoQwBqR",
        "colab_type": "text"
      },
      "source": [
        "#Z-score dopo PCA"
      ]
    },
    {
      "cell_type": "code",
      "metadata": {
        "id": "V3jcN22FDF-M",
        "colab_type": "code",
        "colab": {}
      },
      "source": [
        "from sklearn.preprocessing import StandardScaler\n",
        "scaler_2 = StandardScaler()\n",
        "train_data_stand_pca = scaler_2.fit_transform(train_data_stand_pca)\n",
        "val_data_stand_pca = scaler_2.transform(val_data_stand_pca)\n",
        "test_data_stand_pca = scaler_2.transform(test_data_stand_pca)"
      ],
      "execution_count": 0,
      "outputs": []
    },
    {
      "cell_type": "markdown",
      "metadata": {
        "id": "xPUODmZpDpgC",
        "colab_type": "text"
      },
      "source": [
        "#Scaling target features"
      ]
    },
    {
      "cell_type": "code",
      "metadata": {
        "id": "3lAA9j9bDo6E",
        "colab_type": "code",
        "colab": {}
      },
      "source": [
        "#scalare il survival times tra 0 e 1\n"
      ],
      "execution_count": 0,
      "outputs": []
    },
    {
      "cell_type": "markdown",
      "metadata": {
        "id": "8wSKvSu4s5ip",
        "colab_type": "text"
      },
      "source": [
        "#Building Network"
      ]
    },
    {
      "cell_type": "code",
      "metadata": {
        "id": "1tX_y6KKs3pM",
        "colab_type": "code",
        "colab": {}
      },
      "source": [
        "from keras import models"
      ],
      "execution_count": 0,
      "outputs": []
    },
    {
      "cell_type": "code",
      "metadata": {
        "id": "ShwM6YMqsxxJ",
        "colab_type": "code",
        "colab": {}
      },
      "source": [
        "from keras import layers"
      ],
      "execution_count": 0,
      "outputs": []
    },
    {
      "cell_type": "code",
      "metadata": {
        "id": "1dpwVvLEiSot",
        "colab_type": "code",
        "colab": {}
      },
      "source": [
        "from keras.optimizers import RMSprop\n",
        "from keras.optimizers import Adagrad\n",
        "from keras.optimizers import Adadelta\n",
        "from keras.optimizers import Adam\n",
        "from keras.optimizers import Adamax\n",
        "from keras.optimizers import Nadam\n",
        "from keras.optimizers import SGD"
      ],
      "execution_count": 0,
      "outputs": []
    },
    {
      "cell_type": "code",
      "metadata": {
        "id": "PfLUIW9Mgjsp",
        "colab_type": "code",
        "colab": {}
      },
      "source": [
        "from keras import regularizers"
      ],
      "execution_count": 0,
      "outputs": []
    },
    {
      "cell_type": "code",
      "metadata": {
        "id": "7OAEgN31tHVV",
        "colab_type": "code",
        "colab": {}
      },
      "source": [
        "def build_model():\n",
        "  model = models.Sequential()\n",
        "  model.add(layers.Dense(14, activation='relu', kernel_regularizer=regularizers.l1_l2(l1=0.001, l2=0.001), \n",
        "                         input_shape=(9,)))\n",
        "  model.add(layers.Dense(14, activation='relu', kernel_regularizer=regularizers.l1_l2(l1=0.001, l2=0.001)))\n",
        "  #model.add(layers.Dense(32, activation='relu', kernel_regularizer=regularizers.l1_l2(l1=0.001, l2=0.001)))\n",
        "\n",
        "  model.add(layers.Dense(1))\n",
        "\n",
        "  rmsp = RMSprop(lr=0.01)\n",
        "  adagrad = Adagrad(lr=0.01)\n",
        "  adadelta = Adadelta(lr=1.0, rho=0.95)\n",
        "  adam = Adam(lr=0.001, beta_1=0.9, beta_2=0.999, amsgrad=False)\n",
        "  adamax = Adamax(lr=0.002, beta_1=0.9, beta_2=0.999)\n",
        "  nadam = Nadam(lr=0.002, beta_1=0.9, beta_2=0.999)\n",
        "#  sgd = SGD(lr=0.01, momentum=0.0, nesterov=False) # NON UTILIZZABILE\n",
        "#  optimizer='rmsprop'\n",
        "\n",
        "  model.compile(optimizer=adam, loss='mse', metrics=['mae'])\n",
        "  return model"
      ],
      "execution_count": 0,
      "outputs": []
    },
    {
      "cell_type": "markdown",
      "metadata": {
        "id": "sA7Ye1SZDUXB",
        "colab_type": "text"
      },
      "source": [
        "Note that you compile the network with the mse loss function—mean squared error,\n",
        "the square of the difference between the predictions and the targets. This is a widely\n",
        "used loss function for regression problems.\n",
        "\n"
      ]
    },
    {
      "cell_type": "markdown",
      "metadata": {
        "id": "jXmq-i3sDXQA",
        "colab_type": "text"
      },
      "source": [
        "You’re also monitoring a new metric during training: mean absolute error (MAE). It’s\n",
        "the absolute value of the difference between the predictions and the targets. For\n",
        "instance, an MAE of 0.5 on this problem would mean your predictions are off by $500\n",
        "on average."
      ]
    },
    {
      "cell_type": "code",
      "metadata": {
        "id": "oGBwn5RnEdHR",
        "colab_type": "code",
        "colab": {}
      },
      "source": [
        "from keras.callbacks import ReduceLROnPlateau\n",
        "red_lr = ReduceLROnPlateau('loss', patience=5, verbose=1, min_lr=0.0001)"
      ],
      "execution_count": 0,
      "outputs": []
    },
    {
      "cell_type": "code",
      "metadata": {
        "id": "35Hc4rG203_u",
        "colab_type": "code",
        "outputId": "801e9730-9d3f-4d42-d537-6f0ef58fae5c",
        "colab": {
          "base_uri": "https://localhost:8080/",
          "height": 1000
        }
      },
      "source": [
        "num_epochs = 500\n",
        "\n",
        "model = build_model()\n",
        "history = model.fit(train_data_stand_pca, train_targets, validation_data=(val_data_stand_pca, val_targets), \n",
        "                      epochs= num_epochs, batch_size=1, callbacks=[red_lr])\n",
        "  \n",
        "mae_history = history.history['mean_absolute_error']\n",
        "mae_val_history = history.history['val_mean_absolute_error']\n",
        "loss_history = history.history['loss']\n",
        "loss_val_history = history.history['val_loss']"
      ],
      "execution_count": 0,
      "outputs": [
        {
          "output_type": "stream",
          "text": [
            "Train on 105 samples, validate on 13 samples\n",
            "Epoch 1/500\n",
            "105/105 [==============================] - 1s 7ms/step - loss: 676.4061 - mean_absolute_error: 19.8731 - val_loss: 482.6320 - val_mean_absolute_error: 16.9357\n",
            "Epoch 2/500\n",
            "105/105 [==============================] - 0s 1ms/step - loss: 602.4251 - mean_absolute_error: 18.2672 - val_loss: 412.7170 - val_mean_absolute_error: 14.7921\n",
            "Epoch 3/500\n",
            "105/105 [==============================] - 0s 1ms/step - loss: 494.6916 - mean_absolute_error: 16.1238 - val_loss: 330.7838 - val_mean_absolute_error: 13.3495\n",
            "Epoch 4/500\n",
            "105/105 [==============================] - 0s 1ms/step - loss: 376.0040 - mean_absolute_error: 14.0081 - val_loss: 262.8115 - val_mean_absolute_error: 13.2600\n",
            "Epoch 5/500\n",
            "105/105 [==============================] - 0s 1ms/step - loss: 290.4670 - mean_absolute_error: 12.3872 - val_loss: 243.0419 - val_mean_absolute_error: 14.1681\n",
            "Epoch 6/500\n",
            "105/105 [==============================] - 0s 1ms/step - loss: 253.6559 - mean_absolute_error: 11.8522 - val_loss: 244.3080 - val_mean_absolute_error: 14.5154\n",
            "Epoch 7/500\n",
            "105/105 [==============================] - 0s 1ms/step - loss: 239.7078 - mean_absolute_error: 11.8103 - val_loss: 243.8500 - val_mean_absolute_error: 14.5593\n",
            "Epoch 8/500\n",
            "105/105 [==============================] - 0s 1ms/step - loss: 237.9082 - mean_absolute_error: 11.8009 - val_loss: 237.1150 - val_mean_absolute_error: 14.3518\n",
            "Epoch 9/500\n",
            "105/105 [==============================] - 0s 1ms/step - loss: 230.5728 - mean_absolute_error: 11.6402 - val_loss: 230.8446 - val_mean_absolute_error: 14.1641\n",
            "Epoch 10/500\n",
            "105/105 [==============================] - 0s 1ms/step - loss: 226.4253 - mean_absolute_error: 11.5936 - val_loss: 234.1557 - val_mean_absolute_error: 14.3447\n",
            "Epoch 11/500\n",
            "105/105 [==============================] - 0s 1ms/step - loss: 224.4256 - mean_absolute_error: 11.5206 - val_loss: 227.4946 - val_mean_absolute_error: 14.0651\n",
            "Epoch 12/500\n",
            "105/105 [==============================] - 0s 1ms/step - loss: 221.9524 - mean_absolute_error: 11.4286 - val_loss: 228.0071 - val_mean_absolute_error: 14.1351\n",
            "Epoch 13/500\n",
            "105/105 [==============================] - 0s 1ms/step - loss: 219.9812 - mean_absolute_error: 11.3429 - val_loss: 226.6288 - val_mean_absolute_error: 14.0978\n",
            "Epoch 14/500\n",
            "105/105 [==============================] - 0s 1ms/step - loss: 217.2384 - mean_absolute_error: 11.3183 - val_loss: 225.8036 - val_mean_absolute_error: 14.0456\n",
            "Epoch 15/500\n",
            "105/105 [==============================] - 0s 1ms/step - loss: 216.6594 - mean_absolute_error: 11.3572 - val_loss: 221.9164 - val_mean_absolute_error: 13.8848\n",
            "Epoch 16/500\n",
            "105/105 [==============================] - 0s 1ms/step - loss: 214.4745 - mean_absolute_error: 11.1888 - val_loss: 221.2135 - val_mean_absolute_error: 13.8615\n",
            "Epoch 17/500\n",
            "105/105 [==============================] - 0s 1ms/step - loss: 213.9976 - mean_absolute_error: 11.2222 - val_loss: 224.1795 - val_mean_absolute_error: 13.9529\n",
            "Epoch 18/500\n",
            "105/105 [==============================] - 0s 1ms/step - loss: 211.3320 - mean_absolute_error: 11.1023 - val_loss: 218.2834 - val_mean_absolute_error: 13.6987\n",
            "Epoch 19/500\n",
            "105/105 [==============================] - 0s 1ms/step - loss: 212.2745 - mean_absolute_error: 11.1087 - val_loss: 219.3865 - val_mean_absolute_error: 13.7227\n",
            "Epoch 20/500\n",
            "105/105 [==============================] - 0s 1ms/step - loss: 210.1238 - mean_absolute_error: 11.0351 - val_loss: 224.0978 - val_mean_absolute_error: 13.9149\n",
            "Epoch 21/500\n",
            "105/105 [==============================] - 0s 1ms/step - loss: 209.2161 - mean_absolute_error: 11.0276 - val_loss: 223.8067 - val_mean_absolute_error: 13.8935\n",
            "Epoch 22/500\n",
            "105/105 [==============================] - 0s 1ms/step - loss: 207.5794 - mean_absolute_error: 11.0297 - val_loss: 220.2688 - val_mean_absolute_error: 13.7502\n",
            "Epoch 23/500\n",
            "105/105 [==============================] - 0s 1ms/step - loss: 207.1844 - mean_absolute_error: 10.8748 - val_loss: 226.2813 - val_mean_absolute_error: 13.9443\n",
            "Epoch 24/500\n",
            "105/105 [==============================] - 0s 1ms/step - loss: 206.7225 - mean_absolute_error: 11.0310 - val_loss: 218.7805 - val_mean_absolute_error: 13.6530\n",
            "Epoch 25/500\n",
            "105/105 [==============================] - 0s 1ms/step - loss: 205.2570 - mean_absolute_error: 10.9250 - val_loss: 218.8229 - val_mean_absolute_error: 13.6197\n",
            "Epoch 26/500\n",
            "105/105 [==============================] - 0s 1ms/step - loss: 205.3315 - mean_absolute_error: 10.9083 - val_loss: 221.6941 - val_mean_absolute_error: 13.7248\n",
            "Epoch 27/500\n",
            "105/105 [==============================] - 0s 1ms/step - loss: 204.6707 - mean_absolute_error: 10.8243 - val_loss: 221.7950 - val_mean_absolute_error: 13.7049\n",
            "Epoch 28/500\n",
            "105/105 [==============================] - 0s 1ms/step - loss: 203.8877 - mean_absolute_error: 10.8528 - val_loss: 223.8176 - val_mean_absolute_error: 13.7724\n",
            "Epoch 29/500\n",
            "105/105 [==============================] - 0s 1ms/step - loss: 201.6891 - mean_absolute_error: 10.8111 - val_loss: 220.7554 - val_mean_absolute_error: 13.6224\n",
            "Epoch 30/500\n",
            "105/105 [==============================] - 0s 1ms/step - loss: 201.4467 - mean_absolute_error: 10.7887 - val_loss: 219.5807 - val_mean_absolute_error: 13.5680\n",
            "Epoch 31/500\n",
            "105/105 [==============================] - 0s 1ms/step - loss: 201.5164 - mean_absolute_error: 10.7518 - val_loss: 217.6183 - val_mean_absolute_error: 13.4439\n",
            "Epoch 32/500\n",
            "105/105 [==============================] - 0s 1ms/step - loss: 200.0733 - mean_absolute_error: 10.6441 - val_loss: 222.7143 - val_mean_absolute_error: 13.6377\n",
            "Epoch 33/500\n",
            "105/105 [==============================] - 0s 1ms/step - loss: 200.7536 - mean_absolute_error: 10.6228 - val_loss: 225.9018 - val_mean_absolute_error: 13.7518\n",
            "Epoch 34/500\n",
            "105/105 [==============================] - 0s 1ms/step - loss: 199.6042 - mean_absolute_error: 10.6897 - val_loss: 226.4142 - val_mean_absolute_error: 13.7392\n",
            "Epoch 35/500\n",
            "105/105 [==============================] - 0s 1ms/step - loss: 198.7403 - mean_absolute_error: 10.6465 - val_loss: 224.9909 - val_mean_absolute_error: 13.6528\n",
            "Epoch 36/500\n",
            "105/105 [==============================] - 0s 1ms/step - loss: 198.2457 - mean_absolute_error: 10.6467 - val_loss: 221.2153 - val_mean_absolute_error: 13.5206\n",
            "Epoch 37/500\n",
            "105/105 [==============================] - 0s 1ms/step - loss: 198.3454 - mean_absolute_error: 10.6120 - val_loss: 226.3541 - val_mean_absolute_error: 13.7013\n",
            "Epoch 38/500\n",
            "105/105 [==============================] - 0s 1ms/step - loss: 197.5839 - mean_absolute_error: 10.5944 - val_loss: 227.5157 - val_mean_absolute_error: 13.7505\n",
            "Epoch 39/500\n",
            "105/105 [==============================] - 0s 1ms/step - loss: 196.3254 - mean_absolute_error: 10.5248 - val_loss: 226.3061 - val_mean_absolute_error: 13.6727\n",
            "Epoch 40/500\n",
            "105/105 [==============================] - 0s 1ms/step - loss: 195.5652 - mean_absolute_error: 10.5155 - val_loss: 227.7163 - val_mean_absolute_error: 13.7103\n",
            "Epoch 41/500\n",
            "105/105 [==============================] - 0s 1ms/step - loss: 194.9155 - mean_absolute_error: 10.5199 - val_loss: 229.0269 - val_mean_absolute_error: 13.7327\n",
            "Epoch 42/500\n",
            "105/105 [==============================] - 0s 1ms/step - loss: 195.6742 - mean_absolute_error: 10.4648 - val_loss: 226.4443 - val_mean_absolute_error: 13.6351\n",
            "Epoch 43/500\n",
            "105/105 [==============================] - 0s 1ms/step - loss: 194.2176 - mean_absolute_error: 10.4798 - val_loss: 228.3435 - val_mean_absolute_error: 13.6943\n",
            "Epoch 44/500\n",
            "105/105 [==============================] - 0s 1ms/step - loss: 193.8708 - mean_absolute_error: 10.4546 - val_loss: 230.0107 - val_mean_absolute_error: 13.7397\n",
            "Epoch 45/500\n",
            "105/105 [==============================] - 0s 1ms/step - loss: 193.9616 - mean_absolute_error: 10.4659 - val_loss: 229.4711 - val_mean_absolute_error: 13.6937\n",
            "Epoch 46/500\n",
            "105/105 [==============================] - 0s 1ms/step - loss: 193.7523 - mean_absolute_error: 10.4365 - val_loss: 229.7371 - val_mean_absolute_error: 13.6686\n",
            "Epoch 47/500\n",
            "105/105 [==============================] - 0s 1ms/step - loss: 192.2564 - mean_absolute_error: 10.3854 - val_loss: 226.5601 - val_mean_absolute_error: 13.5597\n",
            "Epoch 48/500\n",
            "105/105 [==============================] - 0s 1ms/step - loss: 192.3181 - mean_absolute_error: 10.3342 - val_loss: 231.0392 - val_mean_absolute_error: 13.6556\n",
            "Epoch 49/500\n",
            "105/105 [==============================] - 0s 1ms/step - loss: 192.1043 - mean_absolute_error: 10.4255 - val_loss: 230.5663 - val_mean_absolute_error: 13.6653\n",
            "Epoch 50/500\n",
            "105/105 [==============================] - 0s 1ms/step - loss: 191.1502 - mean_absolute_error: 10.3383 - val_loss: 228.7357 - val_mean_absolute_error: 13.6226\n",
            "Epoch 51/500\n",
            "105/105 [==============================] - 0s 1ms/step - loss: 191.5625 - mean_absolute_error: 10.3202 - val_loss: 232.3368 - val_mean_absolute_error: 13.7359\n",
            "Epoch 52/500\n",
            "105/105 [==============================] - 0s 1ms/step - loss: 190.7178 - mean_absolute_error: 10.3479 - val_loss: 231.5934 - val_mean_absolute_error: 13.6863\n",
            "Epoch 53/500\n",
            "105/105 [==============================] - 0s 1ms/step - loss: 190.8600 - mean_absolute_error: 10.3368 - val_loss: 232.1795 - val_mean_absolute_error: 13.6574\n",
            "Epoch 54/500\n",
            "105/105 [==============================] - 0s 1ms/step - loss: 188.7917 - mean_absolute_error: 10.2522 - val_loss: 232.5348 - val_mean_absolute_error: 13.7140\n",
            "Epoch 55/500\n",
            "105/105 [==============================] - 0s 1ms/step - loss: 189.5649 - mean_absolute_error: 10.2812 - val_loss: 234.8364 - val_mean_absolute_error: 13.7919\n",
            "Epoch 56/500\n",
            "105/105 [==============================] - 0s 1ms/step - loss: 188.6856 - mean_absolute_error: 10.2876 - val_loss: 233.1767 - val_mean_absolute_error: 13.7296\n",
            "Epoch 57/500\n",
            "105/105 [==============================] - 0s 1ms/step - loss: 187.8465 - mean_absolute_error: 10.2174 - val_loss: 231.2310 - val_mean_absolute_error: 13.6491\n",
            "Epoch 58/500\n",
            "105/105 [==============================] - 0s 1ms/step - loss: 187.4477 - mean_absolute_error: 10.2491 - val_loss: 231.0887 - val_mean_absolute_error: 13.6275\n",
            "Epoch 59/500\n",
            "105/105 [==============================] - 0s 1ms/step - loss: 189.1974 - mean_absolute_error: 10.2072 - val_loss: 232.8871 - val_mean_absolute_error: 13.7122\n",
            "Epoch 60/500\n",
            "105/105 [==============================] - 0s 1ms/step - loss: 186.4886 - mean_absolute_error: 10.1908 - val_loss: 232.3990 - val_mean_absolute_error: 13.6302\n",
            "Epoch 61/500\n",
            "105/105 [==============================] - 0s 1ms/step - loss: 187.3526 - mean_absolute_error: 10.2687 - val_loss: 232.8878 - val_mean_absolute_error: 13.6280\n",
            "Epoch 62/500\n",
            "105/105 [==============================] - 0s 1ms/step - loss: 187.3792 - mean_absolute_error: 10.2328 - val_loss: 228.9945 - val_mean_absolute_error: 13.4869\n",
            "Epoch 63/500\n",
            "105/105 [==============================] - 0s 1ms/step - loss: 186.6217 - mean_absolute_error: 10.1992 - val_loss: 230.3732 - val_mean_absolute_error: 13.5304\n",
            "Epoch 64/500\n",
            "105/105 [==============================] - 0s 1ms/step - loss: 185.3154 - mean_absolute_error: 10.0650 - val_loss: 230.4746 - val_mean_absolute_error: 13.5630\n",
            "Epoch 65/500\n",
            "105/105 [==============================] - 0s 1ms/step - loss: 185.0144 - mean_absolute_error: 10.1183 - val_loss: 233.3855 - val_mean_absolute_error: 13.6669\n",
            "Epoch 66/500\n",
            "105/105 [==============================] - 0s 1ms/step - loss: 184.4994 - mean_absolute_error: 10.0937 - val_loss: 233.5738 - val_mean_absolute_error: 13.6836\n",
            "Epoch 67/500\n",
            "105/105 [==============================] - 0s 1ms/step - loss: 184.1152 - mean_absolute_error: 10.0659 - val_loss: 233.9117 - val_mean_absolute_error: 13.6840\n",
            "Epoch 68/500\n",
            "105/105 [==============================] - 0s 1ms/step - loss: 183.5112 - mean_absolute_error: 10.1029 - val_loss: 234.5176 - val_mean_absolute_error: 13.7009\n",
            "Epoch 69/500\n",
            "105/105 [==============================] - 0s 1ms/step - loss: 183.3321 - mean_absolute_error: 10.1157 - val_loss: 234.6964 - val_mean_absolute_error: 13.6942\n",
            "Epoch 70/500\n",
            "105/105 [==============================] - 0s 1ms/step - loss: 183.1176 - mean_absolute_error: 10.0389 - val_loss: 232.4514 - val_mean_absolute_error: 13.5772\n",
            "Epoch 71/500\n",
            "105/105 [==============================] - 0s 1ms/step - loss: 183.4972 - mean_absolute_error: 10.0618 - val_loss: 231.8239 - val_mean_absolute_error: 13.5724\n",
            "Epoch 72/500\n",
            "105/105 [==============================] - 0s 1ms/step - loss: 182.2691 - mean_absolute_error: 10.0757 - val_loss: 232.1561 - val_mean_absolute_error: 13.5773\n",
            "Epoch 73/500\n",
            "105/105 [==============================] - 0s 1ms/step - loss: 181.1447 - mean_absolute_error: 9.9731 - val_loss: 233.7396 - val_mean_absolute_error: 13.6152\n",
            "Epoch 74/500\n",
            "105/105 [==============================] - 0s 1ms/step - loss: 181.0196 - mean_absolute_error: 9.9787 - val_loss: 236.6387 - val_mean_absolute_error: 13.7350\n",
            "Epoch 75/500\n",
            "105/105 [==============================] - 0s 1ms/step - loss: 180.6572 - mean_absolute_error: 10.0025 - val_loss: 236.8975 - val_mean_absolute_error: 13.7351\n",
            "Epoch 76/500\n",
            "105/105 [==============================] - 0s 1ms/step - loss: 179.3360 - mean_absolute_error: 9.9825 - val_loss: 232.8264 - val_mean_absolute_error: 13.5673\n",
            "Epoch 77/500\n",
            "105/105 [==============================] - 0s 1ms/step - loss: 180.2298 - mean_absolute_error: 10.0167 - val_loss: 234.0102 - val_mean_absolute_error: 13.5816\n",
            "Epoch 78/500\n",
            "105/105 [==============================] - 0s 1ms/step - loss: 179.3872 - mean_absolute_error: 9.8574 - val_loss: 235.6928 - val_mean_absolute_error: 13.6455\n",
            "Epoch 79/500\n",
            "105/105 [==============================] - 0s 1ms/step - loss: 179.4465 - mean_absolute_error: 9.9807 - val_loss: 235.6865 - val_mean_absolute_error: 13.6768\n",
            "Epoch 80/500\n",
            "105/105 [==============================] - 0s 1ms/step - loss: 178.9052 - mean_absolute_error: 9.9470 - val_loss: 231.9883 - val_mean_absolute_error: 13.5345\n",
            "Epoch 81/500\n",
            "105/105 [==============================] - 0s 1ms/step - loss: 178.2870 - mean_absolute_error: 9.9185 - val_loss: 234.9327 - val_mean_absolute_error: 13.6195\n",
            "Epoch 82/500\n",
            "105/105 [==============================] - 0s 1ms/step - loss: 177.6126 - mean_absolute_error: 9.8995 - val_loss: 231.6424 - val_mean_absolute_error: 13.5147\n",
            "Epoch 83/500\n",
            "105/105 [==============================] - 0s 1ms/step - loss: 176.9022 - mean_absolute_error: 9.8293 - val_loss: 234.0963 - val_mean_absolute_error: 13.5493\n",
            "Epoch 84/500\n",
            "105/105 [==============================] - 0s 1ms/step - loss: 176.0308 - mean_absolute_error: 9.8394 - val_loss: 234.2903 - val_mean_absolute_error: 13.6002\n",
            "Epoch 85/500\n",
            "105/105 [==============================] - 0s 1ms/step - loss: 175.1961 - mean_absolute_error: 9.8034 - val_loss: 235.2962 - val_mean_absolute_error: 13.6262\n",
            "Epoch 86/500\n",
            "105/105 [==============================] - 0s 1ms/step - loss: 174.9309 - mean_absolute_error: 9.8804 - val_loss: 231.6581 - val_mean_absolute_error: 13.4262\n",
            "Epoch 87/500\n",
            "105/105 [==============================] - 0s 1ms/step - loss: 174.1667 - mean_absolute_error: 9.7966 - val_loss: 234.1850 - val_mean_absolute_error: 13.5193\n",
            "Epoch 88/500\n",
            "105/105 [==============================] - 0s 1ms/step - loss: 173.2625 - mean_absolute_error: 9.7465 - val_loss: 236.1733 - val_mean_absolute_error: 13.5945\n",
            "Epoch 89/500\n",
            "105/105 [==============================] - 0s 1ms/step - loss: 172.4124 - mean_absolute_error: 9.7161 - val_loss: 234.0302 - val_mean_absolute_error: 13.5191\n",
            "Epoch 90/500\n",
            "105/105 [==============================] - 0s 1ms/step - loss: 172.8973 - mean_absolute_error: 9.7486 - val_loss: 234.9328 - val_mean_absolute_error: 13.5389\n",
            "Epoch 91/500\n",
            "105/105 [==============================] - 0s 1ms/step - loss: 172.3903 - mean_absolute_error: 9.7576 - val_loss: 234.5236 - val_mean_absolute_error: 13.5165\n",
            "Epoch 92/500\n",
            "105/105 [==============================] - 0s 1ms/step - loss: 171.3690 - mean_absolute_error: 9.6592 - val_loss: 233.2886 - val_mean_absolute_error: 13.4874\n",
            "Epoch 93/500\n",
            "105/105 [==============================] - 0s 1ms/step - loss: 170.2771 - mean_absolute_error: 9.6654 - val_loss: 231.8896 - val_mean_absolute_error: 13.4262\n",
            "Epoch 94/500\n",
            "105/105 [==============================] - 0s 1ms/step - loss: 170.6059 - mean_absolute_error: 9.6303 - val_loss: 230.3227 - val_mean_absolute_error: 13.3872\n",
            "Epoch 95/500\n",
            "105/105 [==============================] - 0s 1ms/step - loss: 170.0851 - mean_absolute_error: 9.6528 - val_loss: 229.8362 - val_mean_absolute_error: 13.2825\n",
            "Epoch 96/500\n",
            "105/105 [==============================] - 0s 1ms/step - loss: 169.2468 - mean_absolute_error: 9.6144 - val_loss: 232.0402 - val_mean_absolute_error: 13.3760\n",
            "Epoch 97/500\n",
            "105/105 [==============================] - 0s 1ms/step - loss: 168.7880 - mean_absolute_error: 9.6209 - val_loss: 231.2885 - val_mean_absolute_error: 13.3342\n",
            "Epoch 98/500\n",
            "105/105 [==============================] - 0s 1ms/step - loss: 167.9728 - mean_absolute_error: 9.5819 - val_loss: 232.0697 - val_mean_absolute_error: 13.3623\n",
            "Epoch 99/500\n",
            "105/105 [==============================] - 0s 1ms/step - loss: 167.7097 - mean_absolute_error: 9.5378 - val_loss: 231.6725 - val_mean_absolute_error: 13.3504\n",
            "Epoch 100/500\n",
            "105/105 [==============================] - 0s 1ms/step - loss: 167.0158 - mean_absolute_error: 9.5916 - val_loss: 232.5130 - val_mean_absolute_error: 13.3077\n",
            "Epoch 101/500\n",
            "105/105 [==============================] - 0s 1ms/step - loss: 166.8629 - mean_absolute_error: 9.5035 - val_loss: 229.2311 - val_mean_absolute_error: 13.2110\n",
            "Epoch 102/500\n",
            "105/105 [==============================] - 0s 1ms/step - loss: 166.3366 - mean_absolute_error: 9.4836 - val_loss: 229.5374 - val_mean_absolute_error: 13.2259\n",
            "Epoch 103/500\n",
            "105/105 [==============================] - 0s 1ms/step - loss: 165.0551 - mean_absolute_error: 9.4940 - val_loss: 229.3324 - val_mean_absolute_error: 13.1651\n",
            "Epoch 104/500\n",
            "105/105 [==============================] - 0s 1ms/step - loss: 164.2682 - mean_absolute_error: 9.4568 - val_loss: 227.4465 - val_mean_absolute_error: 12.9838\n",
            "Epoch 105/500\n",
            "105/105 [==============================] - 0s 1ms/step - loss: 163.7983 - mean_absolute_error: 9.4267 - val_loss: 229.6158 - val_mean_absolute_error: 13.1258\n",
            "Epoch 106/500\n",
            "105/105 [==============================] - 0s 1ms/step - loss: 162.3946 - mean_absolute_error: 9.3994 - val_loss: 227.9076 - val_mean_absolute_error: 12.9548\n",
            "Epoch 107/500\n",
            "105/105 [==============================] - 0s 1ms/step - loss: 160.3702 - mean_absolute_error: 9.3457 - val_loss: 226.5538 - val_mean_absolute_error: 12.8744\n",
            "Epoch 108/500\n",
            "105/105 [==============================] - 0s 1ms/step - loss: 160.3658 - mean_absolute_error: 9.3158 - val_loss: 224.2383 - val_mean_absolute_error: 12.7010\n",
            "Epoch 109/500\n",
            "105/105 [==============================] - 0s 1ms/step - loss: 159.5194 - mean_absolute_error: 9.2193 - val_loss: 229.5978 - val_mean_absolute_error: 12.9971\n",
            "Epoch 110/500\n",
            "105/105 [==============================] - 0s 1ms/step - loss: 158.6886 - mean_absolute_error: 9.1831 - val_loss: 227.6762 - val_mean_absolute_error: 12.8237\n",
            "Epoch 111/500\n",
            "105/105 [==============================] - 0s 1ms/step - loss: 157.1952 - mean_absolute_error: 9.2241 - val_loss: 229.1497 - val_mean_absolute_error: 12.8674\n",
            "Epoch 112/500\n",
            "105/105 [==============================] - 0s 1ms/step - loss: 157.4279 - mean_absolute_error: 9.2633 - val_loss: 228.2273 - val_mean_absolute_error: 12.8178\n",
            "Epoch 113/500\n",
            "105/105 [==============================] - 0s 1ms/step - loss: 154.5354 - mean_absolute_error: 9.1374 - val_loss: 228.2112 - val_mean_absolute_error: 12.7898\n",
            "Epoch 114/500\n",
            "105/105 [==============================] - 0s 1ms/step - loss: 156.1338 - mean_absolute_error: 9.1862 - val_loss: 228.7984 - val_mean_absolute_error: 12.7636\n",
            "Epoch 115/500\n",
            "105/105 [==============================] - 0s 1ms/step - loss: 153.7370 - mean_absolute_error: 9.0255 - val_loss: 226.8342 - val_mean_absolute_error: 12.6873\n",
            "Epoch 116/500\n",
            "105/105 [==============================] - 0s 1ms/step - loss: 153.0965 - mean_absolute_error: 9.0548 - val_loss: 225.5038 - val_mean_absolute_error: 12.6005\n",
            "Epoch 117/500\n",
            "105/105 [==============================] - 0s 1ms/step - loss: 153.8967 - mean_absolute_error: 9.0578 - val_loss: 226.8574 - val_mean_absolute_error: 12.6054\n",
            "Epoch 118/500\n",
            "105/105 [==============================] - 0s 1ms/step - loss: 151.5003 - mean_absolute_error: 8.9585 - val_loss: 225.5435 - val_mean_absolute_error: 12.4800\n",
            "Epoch 119/500\n",
            "105/105 [==============================] - 0s 1ms/step - loss: 151.0552 - mean_absolute_error: 8.9251 - val_loss: 225.3559 - val_mean_absolute_error: 12.4796\n",
            "Epoch 120/500\n",
            "105/105 [==============================] - 0s 1ms/step - loss: 150.4516 - mean_absolute_error: 8.8701 - val_loss: 227.6929 - val_mean_absolute_error: 12.6044\n",
            "Epoch 121/500\n",
            "105/105 [==============================] - 0s 1ms/step - loss: 149.6357 - mean_absolute_error: 8.9714 - val_loss: 227.0626 - val_mean_absolute_error: 12.5097\n",
            "Epoch 122/500\n",
            "105/105 [==============================] - 0s 1ms/step - loss: 149.7006 - mean_absolute_error: 8.7990 - val_loss: 228.0051 - val_mean_absolute_error: 12.6243\n",
            "Epoch 123/500\n",
            "105/105 [==============================] - 0s 1ms/step - loss: 147.8421 - mean_absolute_error: 8.8710 - val_loss: 226.8009 - val_mean_absolute_error: 12.5400\n",
            "Epoch 124/500\n",
            "105/105 [==============================] - 0s 1ms/step - loss: 146.8114 - mean_absolute_error: 8.8428 - val_loss: 227.6168 - val_mean_absolute_error: 12.5799\n",
            "Epoch 125/500\n",
            "105/105 [==============================] - 0s 1ms/step - loss: 146.7510 - mean_absolute_error: 8.8811 - val_loss: 223.0049 - val_mean_absolute_error: 12.5028\n",
            "Epoch 126/500\n",
            "105/105 [==============================] - 0s 1ms/step - loss: 146.2778 - mean_absolute_error: 8.7181 - val_loss: 224.7426 - val_mean_absolute_error: 12.5303\n",
            "Epoch 127/500\n",
            "105/105 [==============================] - 0s 1ms/step - loss: 144.9648 - mean_absolute_error: 8.6979 - val_loss: 227.8673 - val_mean_absolute_error: 12.6320\n",
            "Epoch 128/500\n",
            "105/105 [==============================] - 0s 1ms/step - loss: 144.5555 - mean_absolute_error: 8.8366 - val_loss: 222.8490 - val_mean_absolute_error: 12.5522\n",
            "Epoch 129/500\n",
            "105/105 [==============================] - 0s 1ms/step - loss: 143.5623 - mean_absolute_error: 8.6090 - val_loss: 227.6093 - val_mean_absolute_error: 12.6610\n",
            "Epoch 130/500\n",
            "105/105 [==============================] - 0s 1ms/step - loss: 143.3919 - mean_absolute_error: 8.5607 - val_loss: 227.5324 - val_mean_absolute_error: 12.6337\n",
            "Epoch 131/500\n",
            "105/105 [==============================] - 0s 1ms/step - loss: 141.3391 - mean_absolute_error: 8.5968 - val_loss: 228.3732 - val_mean_absolute_error: 12.6754\n",
            "Epoch 132/500\n",
            "105/105 [==============================] - 0s 1ms/step - loss: 141.2778 - mean_absolute_error: 8.5850 - val_loss: 225.5441 - val_mean_absolute_error: 12.6769\n",
            "Epoch 133/500\n",
            "105/105 [==============================] - 0s 1ms/step - loss: 140.7698 - mean_absolute_error: 8.5337 - val_loss: 226.4202 - val_mean_absolute_error: 12.6813\n",
            "Epoch 134/500\n",
            "105/105 [==============================] - 0s 1ms/step - loss: 139.1407 - mean_absolute_error: 8.4668 - val_loss: 228.1060 - val_mean_absolute_error: 12.7265\n",
            "Epoch 135/500\n",
            "105/105 [==============================] - 0s 1ms/step - loss: 138.7264 - mean_absolute_error: 8.4861 - val_loss: 226.0201 - val_mean_absolute_error: 12.6139\n",
            "Epoch 136/500\n",
            "105/105 [==============================] - 0s 1ms/step - loss: 138.2933 - mean_absolute_error: 8.3986 - val_loss: 228.7821 - val_mean_absolute_error: 12.6623\n",
            "Epoch 137/500\n",
            "105/105 [==============================] - 0s 1ms/step - loss: 137.2648 - mean_absolute_error: 8.4567 - val_loss: 229.8490 - val_mean_absolute_error: 12.7266\n",
            "Epoch 138/500\n",
            "105/105 [==============================] - 0s 1ms/step - loss: 137.0439 - mean_absolute_error: 8.3032 - val_loss: 229.9588 - val_mean_absolute_error: 12.7576\n",
            "Epoch 139/500\n",
            "105/105 [==============================] - 0s 1ms/step - loss: 136.2572 - mean_absolute_error: 8.3745 - val_loss: 229.1620 - val_mean_absolute_error: 12.7614\n",
            "Epoch 140/500\n",
            "105/105 [==============================] - 0s 1ms/step - loss: 135.2125 - mean_absolute_error: 8.3780 - val_loss: 227.8013 - val_mean_absolute_error: 12.7215\n",
            "Epoch 141/500\n",
            "105/105 [==============================] - 0s 1ms/step - loss: 134.4313 - mean_absolute_error: 8.2800 - val_loss: 227.9582 - val_mean_absolute_error: 12.7177\n",
            "Epoch 142/500\n",
            "105/105 [==============================] - 0s 1ms/step - loss: 134.1711 - mean_absolute_error: 8.3615 - val_loss: 230.3465 - val_mean_absolute_error: 12.7616\n",
            "Epoch 143/500\n",
            "105/105 [==============================] - 0s 1ms/step - loss: 132.9364 - mean_absolute_error: 8.3160 - val_loss: 229.3446 - val_mean_absolute_error: 12.7844\n",
            "Epoch 144/500\n",
            "105/105 [==============================] - 0s 1ms/step - loss: 132.3859 - mean_absolute_error: 8.1504 - val_loss: 229.8287 - val_mean_absolute_error: 12.7972\n",
            "Epoch 145/500\n",
            "105/105 [==============================] - 0s 1ms/step - loss: 131.2716 - mean_absolute_error: 8.2415 - val_loss: 234.0157 - val_mean_absolute_error: 13.0389\n",
            "Epoch 146/500\n",
            "105/105 [==============================] - 0s 1ms/step - loss: 131.0604 - mean_absolute_error: 8.3793 - val_loss: 231.4372 - val_mean_absolute_error: 12.8623\n",
            "Epoch 147/500\n",
            "105/105 [==============================] - 0s 1ms/step - loss: 130.4818 - mean_absolute_error: 8.2052 - val_loss: 231.9695 - val_mean_absolute_error: 12.9668\n",
            "Epoch 148/500\n",
            "105/105 [==============================] - 0s 1ms/step - loss: 129.8178 - mean_absolute_error: 8.0751 - val_loss: 234.9825 - val_mean_absolute_error: 12.9355\n",
            "Epoch 149/500\n",
            "105/105 [==============================] - 0s 1ms/step - loss: 128.5600 - mean_absolute_error: 8.1644 - val_loss: 234.9483 - val_mean_absolute_error: 12.9952\n",
            "Epoch 150/500\n",
            "105/105 [==============================] - 0s 1ms/step - loss: 128.3450 - mean_absolute_error: 8.0967 - val_loss: 232.2211 - val_mean_absolute_error: 12.9805\n",
            "Epoch 151/500\n",
            "105/105 [==============================] - 0s 1ms/step - loss: 127.9583 - mean_absolute_error: 8.0303 - val_loss: 236.1122 - val_mean_absolute_error: 13.0571\n",
            "Epoch 152/500\n",
            "105/105 [==============================] - 0s 1ms/step - loss: 126.1857 - mean_absolute_error: 8.0914 - val_loss: 239.0046 - val_mean_absolute_error: 13.1303\n",
            "Epoch 153/500\n",
            "105/105 [==============================] - 0s 1ms/step - loss: 125.7211 - mean_absolute_error: 7.9841 - val_loss: 236.1082 - val_mean_absolute_error: 13.1701\n",
            "Epoch 154/500\n",
            "105/105 [==============================] - 0s 1ms/step - loss: 125.2993 - mean_absolute_error: 7.9949 - val_loss: 235.7703 - val_mean_absolute_error: 13.0711\n",
            "Epoch 155/500\n",
            "105/105 [==============================] - 0s 1ms/step - loss: 127.0683 - mean_absolute_error: 7.9856 - val_loss: 239.4149 - val_mean_absolute_error: 13.1915\n",
            "Epoch 156/500\n",
            "105/105 [==============================] - 0s 1ms/step - loss: 123.8815 - mean_absolute_error: 7.9978 - val_loss: 243.3864 - val_mean_absolute_error: 13.3001\n",
            "Epoch 157/500\n",
            "105/105 [==============================] - 0s 1ms/step - loss: 123.2550 - mean_absolute_error: 8.0015 - val_loss: 239.9160 - val_mean_absolute_error: 13.2250\n",
            "Epoch 158/500\n",
            "105/105 [==============================] - 0s 1ms/step - loss: 122.7465 - mean_absolute_error: 7.8904 - val_loss: 242.4772 - val_mean_absolute_error: 13.3714\n",
            "Epoch 159/500\n",
            "105/105 [==============================] - 0s 1ms/step - loss: 121.4624 - mean_absolute_error: 7.8538 - val_loss: 243.0256 - val_mean_absolute_error: 13.3123\n",
            "Epoch 160/500\n",
            "105/105 [==============================] - 0s 1ms/step - loss: 120.8705 - mean_absolute_error: 7.9148 - val_loss: 244.7925 - val_mean_absolute_error: 13.4438\n",
            "Epoch 161/500\n",
            "105/105 [==============================] - 0s 1ms/step - loss: 120.0869 - mean_absolute_error: 7.9340 - val_loss: 245.8280 - val_mean_absolute_error: 13.5347\n",
            "Epoch 162/500\n",
            "105/105 [==============================] - 0s 1ms/step - loss: 118.9627 - mean_absolute_error: 7.8138 - val_loss: 245.5484 - val_mean_absolute_error: 13.5795\n",
            "Epoch 163/500\n",
            "105/105 [==============================] - 0s 1ms/step - loss: 118.9307 - mean_absolute_error: 7.7098 - val_loss: 244.6722 - val_mean_absolute_error: 13.5945\n",
            "Epoch 164/500\n",
            "105/105 [==============================] - 0s 1ms/step - loss: 120.4895 - mean_absolute_error: 7.9147 - val_loss: 244.3181 - val_mean_absolute_error: 13.6042\n",
            "Epoch 165/500\n",
            "105/105 [==============================] - 0s 1ms/step - loss: 118.8792 - mean_absolute_error: 7.7888 - val_loss: 250.9056 - val_mean_absolute_error: 13.7520\n",
            "Epoch 166/500\n",
            "105/105 [==============================] - 0s 1ms/step - loss: 117.3275 - mean_absolute_error: 7.8058 - val_loss: 246.0156 - val_mean_absolute_error: 13.6824\n",
            "Epoch 167/500\n",
            "105/105 [==============================] - 0s 1ms/step - loss: 117.2533 - mean_absolute_error: 7.7522 - val_loss: 250.2919 - val_mean_absolute_error: 13.7698\n",
            "Epoch 168/500\n",
            "105/105 [==============================] - 0s 1ms/step - loss: 115.8532 - mean_absolute_error: 7.6396 - val_loss: 253.2270 - val_mean_absolute_error: 13.8836\n",
            "Epoch 169/500\n",
            "105/105 [==============================] - 0s 1ms/step - loss: 116.2293 - mean_absolute_error: 7.7489 - val_loss: 251.3576 - val_mean_absolute_error: 13.8260\n",
            "Epoch 170/500\n",
            "105/105 [==============================] - 0s 1ms/step - loss: 114.5406 - mean_absolute_error: 7.6262 - val_loss: 252.7619 - val_mean_absolute_error: 13.9046\n",
            "Epoch 171/500\n",
            "105/105 [==============================] - 0s 1ms/step - loss: 114.0863 - mean_absolute_error: 7.5773 - val_loss: 253.1034 - val_mean_absolute_error: 13.9228\n",
            "Epoch 172/500\n",
            "105/105 [==============================] - 0s 1ms/step - loss: 114.4277 - mean_absolute_error: 7.6295 - val_loss: 255.4843 - val_mean_absolute_error: 13.9690\n",
            "Epoch 173/500\n",
            "105/105 [==============================] - 0s 1ms/step - loss: 112.8644 - mean_absolute_error: 7.5471 - val_loss: 257.6543 - val_mean_absolute_error: 14.0484\n",
            "Epoch 174/500\n",
            "105/105 [==============================] - 0s 1ms/step - loss: 112.5269 - mean_absolute_error: 7.6253 - val_loss: 255.3536 - val_mean_absolute_error: 13.9934\n",
            "Epoch 175/500\n",
            "105/105 [==============================] - 0s 1ms/step - loss: 112.1038 - mean_absolute_error: 7.4787 - val_loss: 256.3732 - val_mean_absolute_error: 13.9803\n",
            "Epoch 176/500\n",
            "105/105 [==============================] - 0s 1ms/step - loss: 110.9741 - mean_absolute_error: 7.5553 - val_loss: 259.9628 - val_mean_absolute_error: 14.1275\n",
            "Epoch 177/500\n",
            "105/105 [==============================] - 0s 1ms/step - loss: 109.7272 - mean_absolute_error: 7.4458 - val_loss: 262.6388 - val_mean_absolute_error: 14.2641\n",
            "Epoch 178/500\n",
            "105/105 [==============================] - 0s 1ms/step - loss: 109.3140 - mean_absolute_error: 7.4317 - val_loss: 262.3783 - val_mean_absolute_error: 14.2523\n",
            "Epoch 179/500\n",
            "105/105 [==============================] - 0s 1ms/step - loss: 110.3090 - mean_absolute_error: 7.4907 - val_loss: 259.7074 - val_mean_absolute_error: 14.1727\n",
            "Epoch 180/500\n",
            "105/105 [==============================] - 0s 1ms/step - loss: 110.0741 - mean_absolute_error: 7.4813 - val_loss: 264.1412 - val_mean_absolute_error: 14.2950\n",
            "Epoch 181/500\n",
            "105/105 [==============================] - 0s 1ms/step - loss: 108.2846 - mean_absolute_error: 7.4153 - val_loss: 264.0944 - val_mean_absolute_error: 14.3195\n",
            "Epoch 182/500\n",
            "105/105 [==============================] - 0s 1ms/step - loss: 107.7221 - mean_absolute_error: 7.3761 - val_loss: 260.8280 - val_mean_absolute_error: 14.1631\n",
            "Epoch 183/500\n",
            "105/105 [==============================] - 0s 1ms/step - loss: 108.2158 - mean_absolute_error: 7.4195 - val_loss: 266.6339 - val_mean_absolute_error: 14.3980\n",
            "Epoch 184/500\n",
            "105/105 [==============================] - 0s 1ms/step - loss: 107.3304 - mean_absolute_error: 7.3528 - val_loss: 273.6672 - val_mean_absolute_error: 14.6546\n",
            "Epoch 185/500\n",
            "105/105 [==============================] - 0s 1ms/step - loss: 106.9617 - mean_absolute_error: 7.3940 - val_loss: 272.4933 - val_mean_absolute_error: 14.6023\n",
            "Epoch 186/500\n",
            "105/105 [==============================] - 0s 1ms/step - loss: 107.9521 - mean_absolute_error: 7.3629 - val_loss: 270.4593 - val_mean_absolute_error: 14.5076\n",
            "Epoch 187/500\n",
            "105/105 [==============================] - 0s 1ms/step - loss: 105.1947 - mean_absolute_error: 7.2288 - val_loss: 274.1638 - val_mean_absolute_error: 14.6608\n",
            "Epoch 188/500\n",
            "105/105 [==============================] - 0s 1ms/step - loss: 104.8674 - mean_absolute_error: 7.1804 - val_loss: 274.6970 - val_mean_absolute_error: 14.5542\n",
            "Epoch 189/500\n",
            "105/105 [==============================] - 0s 1ms/step - loss: 104.6272 - mean_absolute_error: 7.2407 - val_loss: 273.2559 - val_mean_absolute_error: 14.5630\n",
            "Epoch 190/500\n",
            "105/105 [==============================] - 0s 1ms/step - loss: 103.6959 - mean_absolute_error: 7.2575 - val_loss: 276.1808 - val_mean_absolute_error: 14.6523\n",
            "Epoch 191/500\n",
            "105/105 [==============================] - 0s 1ms/step - loss: 103.9701 - mean_absolute_error: 7.2333 - val_loss: 281.7722 - val_mean_absolute_error: 14.7794\n",
            "Epoch 192/500\n",
            "105/105 [==============================] - 0s 1ms/step - loss: 103.4032 - mean_absolute_error: 7.2860 - val_loss: 278.3813 - val_mean_absolute_error: 14.7432\n",
            "Epoch 193/500\n",
            "105/105 [==============================] - 0s 1ms/step - loss: 102.1630 - mean_absolute_error: 7.1369 - val_loss: 283.1519 - val_mean_absolute_error: 14.8104\n",
            "Epoch 194/500\n",
            "105/105 [==============================] - 0s 1ms/step - loss: 101.8762 - mean_absolute_error: 7.1566 - val_loss: 284.2065 - val_mean_absolute_error: 14.8292\n",
            "Epoch 195/500\n",
            "105/105 [==============================] - 0s 1ms/step - loss: 100.9763 - mean_absolute_error: 7.1854 - val_loss: 286.2222 - val_mean_absolute_error: 14.9057\n",
            "Epoch 196/500\n",
            "105/105 [==============================] - 0s 1ms/step - loss: 101.9466 - mean_absolute_error: 7.0855 - val_loss: 284.6380 - val_mean_absolute_error: 14.8280\n",
            "Epoch 197/500\n",
            "105/105 [==============================] - 0s 1ms/step - loss: 101.2750 - mean_absolute_error: 7.0797 - val_loss: 287.2054 - val_mean_absolute_error: 14.9308\n",
            "Epoch 198/500\n",
            "105/105 [==============================] - 0s 1ms/step - loss: 100.9703 - mean_absolute_error: 7.1042 - val_loss: 294.1416 - val_mean_absolute_error: 15.1739\n",
            "Epoch 199/500\n",
            "105/105 [==============================] - 0s 1ms/step - loss: 100.2872 - mean_absolute_error: 7.0760 - val_loss: 285.6926 - val_mean_absolute_error: 14.8744\n",
            "Epoch 200/500\n",
            "105/105 [==============================] - 0s 1ms/step - loss: 99.7544 - mean_absolute_error: 7.2025 - val_loss: 285.6181 - val_mean_absolute_error: 14.8738\n",
            "Epoch 201/500\n",
            "105/105 [==============================] - 0s 1ms/step - loss: 98.2316 - mean_absolute_error: 6.9842 - val_loss: 288.9922 - val_mean_absolute_error: 14.9554\n",
            "Epoch 202/500\n",
            "105/105 [==============================] - 0s 1ms/step - loss: 99.3113 - mean_absolute_error: 7.0525 - val_loss: 292.6864 - val_mean_absolute_error: 15.0981\n",
            "Epoch 203/500\n",
            "105/105 [==============================] - 0s 1ms/step - loss: 98.7327 - mean_absolute_error: 6.9949 - val_loss: 287.2370 - val_mean_absolute_error: 14.8713\n",
            "Epoch 204/500\n",
            "105/105 [==============================] - 0s 1ms/step - loss: 98.7604 - mean_absolute_error: 7.0710 - val_loss: 291.2342 - val_mean_absolute_error: 14.9558\n",
            "Epoch 205/500\n",
            "105/105 [==============================] - 0s 1ms/step - loss: 99.5448 - mean_absolute_error: 7.0572 - val_loss: 292.9482 - val_mean_absolute_error: 15.0367\n",
            "Epoch 206/500\n",
            "105/105 [==============================] - 0s 1ms/step - loss: 97.6580 - mean_absolute_error: 6.9443 - val_loss: 296.2642 - val_mean_absolute_error: 15.1302\n",
            "Epoch 207/500\n",
            "105/105 [==============================] - 0s 1ms/step - loss: 96.9124 - mean_absolute_error: 7.0060 - val_loss: 305.0405 - val_mean_absolute_error: 15.3170\n",
            "Epoch 208/500\n",
            "105/105 [==============================] - 0s 1ms/step - loss: 96.4481 - mean_absolute_error: 6.9073 - val_loss: 307.3099 - val_mean_absolute_error: 15.5566\n",
            "Epoch 209/500\n",
            "105/105 [==============================] - 0s 1ms/step - loss: 96.0716 - mean_absolute_error: 6.9961 - val_loss: 300.6029 - val_mean_absolute_error: 15.2538\n",
            "Epoch 210/500\n",
            "105/105 [==============================] - 0s 1ms/step - loss: 96.3722 - mean_absolute_error: 6.9681 - val_loss: 308.9663 - val_mean_absolute_error: 15.5237\n",
            "Epoch 211/500\n",
            "105/105 [==============================] - 0s 1ms/step - loss: 94.1935 - mean_absolute_error: 6.8026 - val_loss: 304.3988 - val_mean_absolute_error: 15.2474\n",
            "Epoch 212/500\n",
            "105/105 [==============================] - 0s 1ms/step - loss: 94.6108 - mean_absolute_error: 6.8034 - val_loss: 305.2142 - val_mean_absolute_error: 15.3330\n",
            "Epoch 213/500\n",
            "105/105 [==============================] - 0s 1ms/step - loss: 94.6945 - mean_absolute_error: 6.9231 - val_loss: 312.3981 - val_mean_absolute_error: 15.4430\n",
            "Epoch 214/500\n",
            "105/105 [==============================] - 0s 1ms/step - loss: 93.8374 - mean_absolute_error: 6.7515 - val_loss: 308.4468 - val_mean_absolute_error: 15.4318\n",
            "Epoch 215/500\n",
            "105/105 [==============================] - 0s 1ms/step - loss: 93.4053 - mean_absolute_error: 6.8449 - val_loss: 314.9882 - val_mean_absolute_error: 15.5425\n",
            "Epoch 216/500\n",
            "105/105 [==============================] - 0s 1ms/step - loss: 92.5220 - mean_absolute_error: 6.8462 - val_loss: 320.3899 - val_mean_absolute_error: 15.6746\n",
            "Epoch 217/500\n",
            "105/105 [==============================] - 0s 1ms/step - loss: 92.4311 - mean_absolute_error: 6.7390 - val_loss: 320.3098 - val_mean_absolute_error: 15.7192\n",
            "Epoch 218/500\n",
            "105/105 [==============================] - 0s 1ms/step - loss: 91.4403 - mean_absolute_error: 6.7400 - val_loss: 319.2585 - val_mean_absolute_error: 15.6599\n",
            "Epoch 219/500\n",
            "105/105 [==============================] - 0s 1ms/step - loss: 92.1227 - mean_absolute_error: 6.7165 - val_loss: 317.6547 - val_mean_absolute_error: 15.5115\n",
            "Epoch 220/500\n",
            "105/105 [==============================] - 0s 1ms/step - loss: 91.0195 - mean_absolute_error: 6.6492 - val_loss: 318.2195 - val_mean_absolute_error: 15.7262\n",
            "Epoch 221/500\n",
            "105/105 [==============================] - 0s 1ms/step - loss: 90.0458 - mean_absolute_error: 6.6583 - val_loss: 320.4114 - val_mean_absolute_error: 15.7747\n",
            "Epoch 222/500\n",
            "105/105 [==============================] - 0s 1ms/step - loss: 91.1923 - mean_absolute_error: 6.6768 - val_loss: 320.0337 - val_mean_absolute_error: 15.7426\n",
            "Epoch 223/500\n",
            "105/105 [==============================] - 0s 1ms/step - loss: 88.1754 - mean_absolute_error: 6.7055 - val_loss: 320.5514 - val_mean_absolute_error: 15.6453\n",
            "Epoch 224/500\n",
            "105/105 [==============================] - 0s 1ms/step - loss: 92.0748 - mean_absolute_error: 6.7321 - val_loss: 322.4538 - val_mean_absolute_error: 15.7213\n",
            "Epoch 225/500\n",
            "105/105 [==============================] - 0s 1ms/step - loss: 90.4368 - mean_absolute_error: 6.5537 - val_loss: 322.5308 - val_mean_absolute_error: 15.8130\n",
            "Epoch 226/500\n",
            "105/105 [==============================] - 0s 1ms/step - loss: 90.5441 - mean_absolute_error: 6.6211 - val_loss: 328.2900 - val_mean_absolute_error: 15.7886\n",
            "Epoch 227/500\n",
            "105/105 [==============================] - 0s 1ms/step - loss: 88.9409 - mean_absolute_error: 6.4914 - val_loss: 325.0647 - val_mean_absolute_error: 15.8443\n",
            "Epoch 228/500\n",
            "105/105 [==============================] - 0s 1ms/step - loss: 89.0897 - mean_absolute_error: 6.7237 - val_loss: 333.8431 - val_mean_absolute_error: 15.9239\n",
            "\n",
            "Epoch 00228: ReduceLROnPlateau reducing learning rate to 0.00010000000474974513.\n",
            "Epoch 229/500\n",
            "105/105 [==============================] - 0s 1ms/step - loss: 85.0570 - mean_absolute_error: 6.3125 - val_loss: 332.4123 - val_mean_absolute_error: 15.9194\n",
            "Epoch 230/500\n",
            "105/105 [==============================] - 0s 1ms/step - loss: 84.4425 - mean_absolute_error: 6.3196 - val_loss: 332.7911 - val_mean_absolute_error: 15.9350\n",
            "Epoch 231/500\n",
            "105/105 [==============================] - 0s 1ms/step - loss: 84.2613 - mean_absolute_error: 6.3314 - val_loss: 332.8853 - val_mean_absolute_error: 15.9397\n",
            "Epoch 232/500\n",
            "105/105 [==============================] - 0s 1ms/step - loss: 84.2453 - mean_absolute_error: 6.2946 - val_loss: 333.1876 - val_mean_absolute_error: 15.9571\n",
            "Epoch 233/500\n",
            "105/105 [==============================] - 0s 1ms/step - loss: 84.1608 - mean_absolute_error: 6.3209 - val_loss: 332.8133 - val_mean_absolute_error: 15.9542\n",
            "Epoch 234/500\n",
            "105/105 [==============================] - 0s 1ms/step - loss: 83.9976 - mean_absolute_error: 6.3283 - val_loss: 333.5381 - val_mean_absolute_error: 15.9691\n",
            "Epoch 235/500\n",
            "105/105 [==============================] - 0s 1ms/step - loss: 83.9661 - mean_absolute_error: 6.3113 - val_loss: 332.8525 - val_mean_absolute_error: 15.9617\n",
            "Epoch 236/500\n",
            "105/105 [==============================] - 0s 1ms/step - loss: 83.8805 - mean_absolute_error: 6.3188 - val_loss: 333.7630 - val_mean_absolute_error: 15.9876\n",
            "Epoch 237/500\n",
            "105/105 [==============================] - 0s 1ms/step - loss: 83.9029 - mean_absolute_error: 6.3040 - val_loss: 333.9796 - val_mean_absolute_error: 15.9957\n",
            "Epoch 238/500\n",
            "105/105 [==============================] - 0s 1ms/step - loss: 83.7739 - mean_absolute_error: 6.3305 - val_loss: 335.4321 - val_mean_absolute_error: 16.0199\n",
            "Epoch 239/500\n",
            "105/105 [==============================] - 0s 1ms/step - loss: 83.7120 - mean_absolute_error: 6.3185 - val_loss: 334.5929 - val_mean_absolute_error: 15.9981\n",
            "Epoch 240/500\n",
            "105/105 [==============================] - 0s 1ms/step - loss: 83.6530 - mean_absolute_error: 6.3037 - val_loss: 335.9228 - val_mean_absolute_error: 16.0292\n",
            "Epoch 241/500\n",
            "105/105 [==============================] - 0s 1ms/step - loss: 83.6699 - mean_absolute_error: 6.3185 - val_loss: 335.8323 - val_mean_absolute_error: 16.0295\n",
            "Epoch 242/500\n",
            "105/105 [==============================] - 0s 1ms/step - loss: 83.5028 - mean_absolute_error: 6.2853 - val_loss: 335.9775 - val_mean_absolute_error: 16.0308\n",
            "Epoch 243/500\n",
            "105/105 [==============================] - 0s 1ms/step - loss: 83.5291 - mean_absolute_error: 6.3261 - val_loss: 336.2317 - val_mean_absolute_error: 16.0345\n",
            "Epoch 244/500\n",
            "105/105 [==============================] - 0s 1ms/step - loss: 83.4618 - mean_absolute_error: 6.3004 - val_loss: 336.4204 - val_mean_absolute_error: 16.0369\n",
            "Epoch 245/500\n",
            "105/105 [==============================] - 0s 1ms/step - loss: 83.4800 - mean_absolute_error: 6.3200 - val_loss: 336.9506 - val_mean_absolute_error: 16.0446\n",
            "Epoch 246/500\n",
            "105/105 [==============================] - 0s 1ms/step - loss: 83.3556 - mean_absolute_error: 6.2902 - val_loss: 336.8987 - val_mean_absolute_error: 16.0410\n",
            "Epoch 247/500\n",
            "105/105 [==============================] - 0s 1ms/step - loss: 83.3356 - mean_absolute_error: 6.2827 - val_loss: 336.8853 - val_mean_absolute_error: 16.0550\n",
            "Epoch 248/500\n",
            "105/105 [==============================] - 0s 1ms/step - loss: 83.2517 - mean_absolute_error: 6.3027 - val_loss: 337.2954 - val_mean_absolute_error: 16.0473\n",
            "Epoch 249/500\n",
            "105/105 [==============================] - 0s 1ms/step - loss: 83.2560 - mean_absolute_error: 6.2696 - val_loss: 336.8047 - val_mean_absolute_error: 16.0506\n",
            "Epoch 250/500\n",
            "105/105 [==============================] - 0s 1ms/step - loss: 83.2591 - mean_absolute_error: 6.2799 - val_loss: 337.3526 - val_mean_absolute_error: 16.0544\n",
            "Epoch 251/500\n",
            "105/105 [==============================] - 0s 1ms/step - loss: 83.0977 - mean_absolute_error: 6.2813 - val_loss: 337.5710 - val_mean_absolute_error: 16.0603\n",
            "Epoch 252/500\n",
            "105/105 [==============================] - 0s 1ms/step - loss: 82.9741 - mean_absolute_error: 6.2790 - val_loss: 337.6493 - val_mean_absolute_error: 16.0715\n",
            "Epoch 253/500\n",
            "105/105 [==============================] - 0s 1ms/step - loss: 83.0492 - mean_absolute_error: 6.2662 - val_loss: 337.3982 - val_mean_absolute_error: 16.0604\n",
            "Epoch 254/500\n",
            "105/105 [==============================] - 0s 1ms/step - loss: 82.9459 - mean_absolute_error: 6.2847 - val_loss: 337.5063 - val_mean_absolute_error: 16.0566\n",
            "Epoch 255/500\n",
            "105/105 [==============================] - 0s 1ms/step - loss: 82.9185 - mean_absolute_error: 6.2777 - val_loss: 337.6722 - val_mean_absolute_error: 16.0696\n",
            "Epoch 256/500\n",
            "105/105 [==============================] - 0s 1ms/step - loss: 82.9885 - mean_absolute_error: 6.2657 - val_loss: 338.2021 - val_mean_absolute_error: 16.0776\n",
            "Epoch 257/500\n",
            "105/105 [==============================] - 0s 1ms/step - loss: 82.8424 - mean_absolute_error: 6.2808 - val_loss: 338.2361 - val_mean_absolute_error: 16.0714\n",
            "Epoch 258/500\n",
            "105/105 [==============================] - 0s 1ms/step - loss: 82.8395 - mean_absolute_error: 6.2650 - val_loss: 338.1542 - val_mean_absolute_error: 16.0693\n",
            "Epoch 259/500\n",
            "105/105 [==============================] - 0s 1ms/step - loss: 82.6214 - mean_absolute_error: 6.2691 - val_loss: 338.9797 - val_mean_absolute_error: 16.0947\n",
            "Epoch 260/500\n",
            "105/105 [==============================] - 0s 1ms/step - loss: 82.7990 - mean_absolute_error: 6.2482 - val_loss: 339.2186 - val_mean_absolute_error: 16.1064\n",
            "Epoch 261/500\n",
            "105/105 [==============================] - 0s 1ms/step - loss: 82.7296 - mean_absolute_error: 6.2922 - val_loss: 339.4641 - val_mean_absolute_error: 16.1084\n",
            "Epoch 262/500\n",
            "105/105 [==============================] - 0s 1ms/step - loss: 82.6865 - mean_absolute_error: 6.2690 - val_loss: 339.1046 - val_mean_absolute_error: 16.0943\n",
            "Epoch 263/500\n",
            "105/105 [==============================] - 0s 1ms/step - loss: 82.7187 - mean_absolute_error: 6.2695 - val_loss: 338.8785 - val_mean_absolute_error: 16.0999\n",
            "Epoch 264/500\n",
            "105/105 [==============================] - 0s 1ms/step - loss: 82.7233 - mean_absolute_error: 6.2441 - val_loss: 339.5201 - val_mean_absolute_error: 16.1026\n",
            "\n",
            "Epoch 00264: ReduceLROnPlateau reducing learning rate to 0.0001.\n",
            "Epoch 265/500\n",
            "105/105 [==============================] - 0s 1ms/step - loss: 82.5544 - mean_absolute_error: 6.2751 - val_loss: 339.9961 - val_mean_absolute_error: 16.1182\n",
            "Epoch 266/500\n",
            "105/105 [==============================] - 0s 1ms/step - loss: 82.4086 - mean_absolute_error: 6.2551 - val_loss: 339.7998 - val_mean_absolute_error: 16.1052\n",
            "Epoch 267/500\n",
            "105/105 [==============================] - 0s 1ms/step - loss: 82.4193 - mean_absolute_error: 6.2415 - val_loss: 340.4753 - val_mean_absolute_error: 16.1229\n",
            "Epoch 268/500\n",
            "105/105 [==============================] - 0s 1ms/step - loss: 82.3550 - mean_absolute_error: 6.2401 - val_loss: 340.7277 - val_mean_absolute_error: 16.1260\n",
            "Epoch 269/500\n",
            "105/105 [==============================] - 0s 1ms/step - loss: 82.2787 - mean_absolute_error: 6.2531 - val_loss: 340.9739 - val_mean_absolute_error: 16.1316\n",
            "Epoch 270/500\n",
            "105/105 [==============================] - 0s 1ms/step - loss: 82.4394 - mean_absolute_error: 6.2629 - val_loss: 340.3703 - val_mean_absolute_error: 16.1225\n",
            "Epoch 271/500\n",
            "105/105 [==============================] - 0s 1ms/step - loss: 82.2648 - mean_absolute_error: 6.2433 - val_loss: 340.7691 - val_mean_absolute_error: 16.1273\n",
            "Epoch 272/500\n",
            "105/105 [==============================] - 0s 1ms/step - loss: 82.1916 - mean_absolute_error: 6.2390 - val_loss: 340.4830 - val_mean_absolute_error: 16.1208\n",
            "Epoch 273/500\n",
            "105/105 [==============================] - 0s 1ms/step - loss: 82.1608 - mean_absolute_error: 6.2336 - val_loss: 341.0622 - val_mean_absolute_error: 16.1436\n",
            "Epoch 274/500\n",
            "105/105 [==============================] - 0s 1ms/step - loss: 82.1757 - mean_absolute_error: 6.2455 - val_loss: 340.8050 - val_mean_absolute_error: 16.1265\n",
            "Epoch 275/500\n",
            "105/105 [==============================] - 0s 1ms/step - loss: 82.2297 - mean_absolute_error: 6.2270 - val_loss: 340.9623 - val_mean_absolute_error: 16.1290\n",
            "Epoch 276/500\n",
            "105/105 [==============================] - 0s 1ms/step - loss: 82.0570 - mean_absolute_error: 6.2342 - val_loss: 341.7237 - val_mean_absolute_error: 16.1438\n",
            "Epoch 277/500\n",
            "105/105 [==============================] - 0s 1ms/step - loss: 82.1290 - mean_absolute_error: 6.2268 - val_loss: 341.7249 - val_mean_absolute_error: 16.1477\n",
            "Epoch 278/500\n",
            "105/105 [==============================] - 0s 1ms/step - loss: 82.0621 - mean_absolute_error: 6.2520 - val_loss: 341.4923 - val_mean_absolute_error: 16.1455\n",
            "Epoch 279/500\n",
            "105/105 [==============================] - 0s 1ms/step - loss: 82.0827 - mean_absolute_error: 6.2044 - val_loss: 341.9260 - val_mean_absolute_error: 16.1588\n",
            "Epoch 280/500\n",
            "105/105 [==============================] - 0s 1ms/step - loss: 81.9160 - mean_absolute_error: 6.2387 - val_loss: 341.4434 - val_mean_absolute_error: 16.1458\n",
            "Epoch 281/500\n",
            "105/105 [==============================] - 0s 1ms/step - loss: 81.9191 - mean_absolute_error: 6.2337 - val_loss: 342.0492 - val_mean_absolute_error: 16.1616\n",
            "Epoch 282/500\n",
            "105/105 [==============================] - 0s 1ms/step - loss: 81.8411 - mean_absolute_error: 6.2160 - val_loss: 341.2794 - val_mean_absolute_error: 16.1342\n",
            "Epoch 283/500\n",
            "105/105 [==============================] - 0s 1ms/step - loss: 81.8839 - mean_absolute_error: 6.2272 - val_loss: 341.7158 - val_mean_absolute_error: 16.1427\n",
            "Epoch 284/500\n",
            "105/105 [==============================] - 0s 1ms/step - loss: 81.6958 - mean_absolute_error: 6.2206 - val_loss: 342.3234 - val_mean_absolute_error: 16.1604\n",
            "Epoch 285/500\n",
            "105/105 [==============================] - 0s 1ms/step - loss: 81.8374 - mean_absolute_error: 6.2426 - val_loss: 342.8612 - val_mean_absolute_error: 16.1603\n",
            "Epoch 286/500\n",
            "105/105 [==============================] - 0s 1ms/step - loss: 81.6985 - mean_absolute_error: 6.2057 - val_loss: 342.5745 - val_mean_absolute_error: 16.1607\n",
            "Epoch 287/500\n",
            "105/105 [==============================] - 0s 1ms/step - loss: 81.7093 - mean_absolute_error: 6.2264 - val_loss: 343.0858 - val_mean_absolute_error: 16.1742\n",
            "Epoch 288/500\n",
            "105/105 [==============================] - 0s 1ms/step - loss: 81.5626 - mean_absolute_error: 6.2326 - val_loss: 342.9845 - val_mean_absolute_error: 16.1617\n",
            "Epoch 289/500\n",
            "105/105 [==============================] - 0s 1ms/step - loss: 81.5270 - mean_absolute_error: 6.2105 - val_loss: 343.7620 - val_mean_absolute_error: 16.1817\n",
            "Epoch 290/500\n",
            "105/105 [==============================] - 0s 1ms/step - loss: 81.5053 - mean_absolute_error: 6.2028 - val_loss: 343.2889 - val_mean_absolute_error: 16.1828\n",
            "Epoch 291/500\n",
            "105/105 [==============================] - 0s 1ms/step - loss: 81.5585 - mean_absolute_error: 6.2031 - val_loss: 343.1141 - val_mean_absolute_error: 16.1734\n",
            "Epoch 292/500\n",
            "105/105 [==============================] - 0s 1ms/step - loss: 81.4089 - mean_absolute_error: 6.2090 - val_loss: 343.7564 - val_mean_absolute_error: 16.1781\n",
            "Epoch 293/500\n",
            "105/105 [==============================] - 0s 1ms/step - loss: 81.4159 - mean_absolute_error: 6.1944 - val_loss: 343.4212 - val_mean_absolute_error: 16.1730\n",
            "Epoch 294/500\n",
            "105/105 [==============================] - 0s 1ms/step - loss: 81.4100 - mean_absolute_error: 6.2135 - val_loss: 344.2966 - val_mean_absolute_error: 16.1941\n",
            "Epoch 295/500\n",
            "105/105 [==============================] - 0s 1ms/step - loss: 81.2866 - mean_absolute_error: 6.2017 - val_loss: 344.4432 - val_mean_absolute_error: 16.2025\n",
            "Epoch 296/500\n",
            "105/105 [==============================] - 0s 1ms/step - loss: 81.2696 - mean_absolute_error: 6.2129 - val_loss: 343.9936 - val_mean_absolute_error: 16.1888\n",
            "Epoch 297/500\n",
            "105/105 [==============================] - 0s 1ms/step - loss: 81.2853 - mean_absolute_error: 6.1732 - val_loss: 344.2418 - val_mean_absolute_error: 16.1946\n",
            "Epoch 298/500\n",
            "105/105 [==============================] - 0s 1ms/step - loss: 81.2120 - mean_absolute_error: 6.2019 - val_loss: 345.1500 - val_mean_absolute_error: 16.2060\n",
            "Epoch 299/500\n",
            "105/105 [==============================] - 0s 1ms/step - loss: 81.1148 - mean_absolute_error: 6.1922 - val_loss: 346.1103 - val_mean_absolute_error: 16.2368\n",
            "Epoch 300/500\n",
            "105/105 [==============================] - 0s 1ms/step - loss: 81.1007 - mean_absolute_error: 6.1678 - val_loss: 344.7043 - val_mean_absolute_error: 16.2143\n",
            "Epoch 301/500\n",
            "105/105 [==============================] - 0s 1ms/step - loss: 81.0634 - mean_absolute_error: 6.1781 - val_loss: 344.1903 - val_mean_absolute_error: 16.1942\n",
            "Epoch 302/500\n",
            "105/105 [==============================] - 0s 1ms/step - loss: 81.0189 - mean_absolute_error: 6.1932 - val_loss: 345.0178 - val_mean_absolute_error: 16.2080\n",
            "Epoch 303/500\n",
            "105/105 [==============================] - 0s 1ms/step - loss: 81.1306 - mean_absolute_error: 6.1838 - val_loss: 345.4343 - val_mean_absolute_error: 16.2221\n",
            "Epoch 304/500\n",
            "105/105 [==============================] - 0s 1ms/step - loss: 80.9997 - mean_absolute_error: 6.2052 - val_loss: 345.4854 - val_mean_absolute_error: 16.2290\n",
            "Epoch 305/500\n",
            "105/105 [==============================] - 0s 1ms/step - loss: 80.8718 - mean_absolute_error: 6.1860 - val_loss: 346.0525 - val_mean_absolute_error: 16.2301\n",
            "Epoch 306/500\n",
            "105/105 [==============================] - 0s 1ms/step - loss: 80.8218 - mean_absolute_error: 6.1665 - val_loss: 346.1138 - val_mean_absolute_error: 16.2247\n",
            "Epoch 307/500\n",
            "105/105 [==============================] - 0s 1ms/step - loss: 80.8740 - mean_absolute_error: 6.1723 - val_loss: 345.6307 - val_mean_absolute_error: 16.2272\n",
            "Epoch 308/500\n",
            "105/105 [==============================] - 0s 1ms/step - loss: 80.7970 - mean_absolute_error: 6.1840 - val_loss: 345.4296 - val_mean_absolute_error: 16.2199\n",
            "Epoch 309/500\n",
            "105/105 [==============================] - 0s 1ms/step - loss: 80.8136 - mean_absolute_error: 6.1738 - val_loss: 345.7228 - val_mean_absolute_error: 16.2259\n",
            "Epoch 310/500\n",
            "105/105 [==============================] - 0s 1ms/step - loss: 80.7090 - mean_absolute_error: 6.1884 - val_loss: 346.4438 - val_mean_absolute_error: 16.2474\n",
            "Epoch 311/500\n",
            "105/105 [==============================] - 0s 1ms/step - loss: 80.7680 - mean_absolute_error: 6.1794 - val_loss: 346.6918 - val_mean_absolute_error: 16.2432\n",
            "Epoch 312/500\n",
            "105/105 [==============================] - 0s 1ms/step - loss: 80.7285 - mean_absolute_error: 6.1517 - val_loss: 346.3747 - val_mean_absolute_error: 16.2321\n",
            "Epoch 313/500\n",
            "105/105 [==============================] - 0s 1ms/step - loss: 80.6013 - mean_absolute_error: 6.1676 - val_loss: 346.6383 - val_mean_absolute_error: 16.2402\n",
            "Epoch 314/500\n",
            "105/105 [==============================] - 0s 1ms/step - loss: 80.5446 - mean_absolute_error: 6.1710 - val_loss: 346.4776 - val_mean_absolute_error: 16.2401\n",
            "Epoch 315/500\n",
            "105/105 [==============================] - 0s 1ms/step - loss: 80.5171 - mean_absolute_error: 6.1473 - val_loss: 346.8138 - val_mean_absolute_error: 16.2379\n",
            "Epoch 316/500\n",
            "105/105 [==============================] - 0s 1ms/step - loss: 80.5148 - mean_absolute_error: 6.1595 - val_loss: 346.7737 - val_mean_absolute_error: 16.2357\n",
            "Epoch 317/500\n",
            "105/105 [==============================] - 0s 1ms/step - loss: 80.4726 - mean_absolute_error: 6.1566 - val_loss: 347.0911 - val_mean_absolute_error: 16.2484\n",
            "Epoch 318/500\n",
            "105/105 [==============================] - 0s 1ms/step - loss: 80.4352 - mean_absolute_error: 6.1365 - val_loss: 346.6029 - val_mean_absolute_error: 16.2330\n",
            "Epoch 319/500\n",
            "105/105 [==============================] - 0s 1ms/step - loss: 80.4524 - mean_absolute_error: 6.1339 - val_loss: 346.8613 - val_mean_absolute_error: 16.2511\n",
            "Epoch 320/500\n",
            "105/105 [==============================] - 0s 1ms/step - loss: 80.3376 - mean_absolute_error: 6.1768 - val_loss: 347.3928 - val_mean_absolute_error: 16.2476\n",
            "Epoch 321/500\n",
            "105/105 [==============================] - 0s 1ms/step - loss: 80.3647 - mean_absolute_error: 6.1483 - val_loss: 347.2747 - val_mean_absolute_error: 16.2583\n",
            "Epoch 322/500\n",
            "105/105 [==============================] - 0s 1ms/step - loss: 80.2353 - mean_absolute_error: 6.1476 - val_loss: 348.2474 - val_mean_absolute_error: 16.2738\n",
            "Epoch 323/500\n",
            "105/105 [==============================] - 0s 1ms/step - loss: 80.2276 - mean_absolute_error: 6.1497 - val_loss: 348.1782 - val_mean_absolute_error: 16.2735\n",
            "Epoch 324/500\n",
            "105/105 [==============================] - 0s 1ms/step - loss: 80.1981 - mean_absolute_error: 6.1225 - val_loss: 348.6256 - val_mean_absolute_error: 16.2673\n",
            "Epoch 325/500\n",
            "105/105 [==============================] - 0s 1ms/step - loss: 80.2215 - mean_absolute_error: 6.1466 - val_loss: 347.9628 - val_mean_absolute_error: 16.2731\n",
            "Epoch 326/500\n",
            "105/105 [==============================] - 0s 1ms/step - loss: 80.1301 - mean_absolute_error: 6.1285 - val_loss: 348.2100 - val_mean_absolute_error: 16.2639\n",
            "Epoch 327/500\n",
            "105/105 [==============================] - 0s 1ms/step - loss: 80.0257 - mean_absolute_error: 6.1279 - val_loss: 348.1099 - val_mean_absolute_error: 16.2731\n",
            "Epoch 328/500\n",
            "105/105 [==============================] - 0s 1ms/step - loss: 80.1701 - mean_absolute_error: 6.1589 - val_loss: 349.1101 - val_mean_absolute_error: 16.2897\n",
            "Epoch 329/500\n",
            "105/105 [==============================] - 0s 1ms/step - loss: 80.0751 - mean_absolute_error: 6.1381 - val_loss: 349.0928 - val_mean_absolute_error: 16.2971\n",
            "Epoch 330/500\n",
            "105/105 [==============================] - 0s 1ms/step - loss: 79.9208 - mean_absolute_error: 6.1086 - val_loss: 348.9936 - val_mean_absolute_error: 16.2870\n",
            "Epoch 331/500\n",
            "105/105 [==============================] - 0s 1ms/step - loss: 79.8798 - mean_absolute_error: 6.1361 - val_loss: 349.3985 - val_mean_absolute_error: 16.2910\n",
            "Epoch 332/500\n",
            "105/105 [==============================] - 0s 1ms/step - loss: 79.9502 - mean_absolute_error: 6.1400 - val_loss: 348.9086 - val_mean_absolute_error: 16.2789\n",
            "Epoch 333/500\n",
            "105/105 [==============================] - 0s 1ms/step - loss: 79.9612 - mean_absolute_error: 6.1528 - val_loss: 349.9382 - val_mean_absolute_error: 16.3119\n",
            "Epoch 334/500\n",
            "105/105 [==============================] - 0s 1ms/step - loss: 79.8850 - mean_absolute_error: 6.1104 - val_loss: 350.5062 - val_mean_absolute_error: 16.3101\n",
            "Epoch 335/500\n",
            "105/105 [==============================] - 0s 1ms/step - loss: 79.7853 - mean_absolute_error: 6.1213 - val_loss: 350.6873 - val_mean_absolute_error: 16.3162\n",
            "Epoch 336/500\n",
            "105/105 [==============================] - 0s 1ms/step - loss: 79.7429 - mean_absolute_error: 6.1046 - val_loss: 349.7209 - val_mean_absolute_error: 16.3051\n",
            "Epoch 337/500\n",
            "105/105 [==============================] - 0s 1ms/step - loss: 79.6789 - mean_absolute_error: 6.1168 - val_loss: 350.2181 - val_mean_absolute_error: 16.3206\n",
            "Epoch 338/500\n",
            "105/105 [==============================] - 0s 1ms/step - loss: 79.6800 - mean_absolute_error: 6.1278 - val_loss: 349.8330 - val_mean_absolute_error: 16.3068\n",
            "Epoch 339/500\n",
            "105/105 [==============================] - 0s 1ms/step - loss: 79.6541 - mean_absolute_error: 6.1125 - val_loss: 350.4765 - val_mean_absolute_error: 16.3166\n",
            "Epoch 340/500\n",
            "105/105 [==============================] - 0s 1ms/step - loss: 79.5143 - mean_absolute_error: 6.1016 - val_loss: 350.0733 - val_mean_absolute_error: 16.3117\n",
            "Epoch 341/500\n",
            "105/105 [==============================] - 0s 1ms/step - loss: 79.5821 - mean_absolute_error: 6.0822 - val_loss: 350.5396 - val_mean_absolute_error: 16.3203\n",
            "Epoch 342/500\n",
            "105/105 [==============================] - 0s 1ms/step - loss: 79.5181 - mean_absolute_error: 6.1191 - val_loss: 350.8311 - val_mean_absolute_error: 16.3249\n",
            "Epoch 343/500\n",
            "105/105 [==============================] - 0s 1ms/step - loss: 79.4150 - mean_absolute_error: 6.1004 - val_loss: 350.0361 - val_mean_absolute_error: 16.3101\n",
            "Epoch 344/500\n",
            "105/105 [==============================] - 0s 1ms/step - loss: 79.4915 - mean_absolute_error: 6.1108 - val_loss: 350.8926 - val_mean_absolute_error: 16.3388\n",
            "Epoch 345/500\n",
            "105/105 [==============================] - 0s 1ms/step - loss: 79.4211 - mean_absolute_error: 6.0948 - val_loss: 350.9214 - val_mean_absolute_error: 16.3272\n",
            "Epoch 346/500\n",
            "105/105 [==============================] - 0s 1ms/step - loss: 79.3425 - mean_absolute_error: 6.0952 - val_loss: 351.2535 - val_mean_absolute_error: 16.3376\n",
            "Epoch 347/500\n",
            "105/105 [==============================] - 0s 1ms/step - loss: 79.3452 - mean_absolute_error: 6.0885 - val_loss: 351.7530 - val_mean_absolute_error: 16.3507\n",
            "Epoch 348/500\n",
            "105/105 [==============================] - 0s 1ms/step - loss: 79.2185 - mean_absolute_error: 6.0960 - val_loss: 351.6844 - val_mean_absolute_error: 16.3408\n",
            "Epoch 349/500\n",
            "105/105 [==============================] - 0s 1ms/step - loss: 79.2566 - mean_absolute_error: 6.0787 - val_loss: 352.1685 - val_mean_absolute_error: 16.3477\n",
            "Epoch 350/500\n",
            "105/105 [==============================] - 0s 1ms/step - loss: 79.1345 - mean_absolute_error: 6.0919 - val_loss: 351.7837 - val_mean_absolute_error: 16.3458\n",
            "Epoch 351/500\n",
            "105/105 [==============================] - 0s 1ms/step - loss: 79.2617 - mean_absolute_error: 6.0815 - val_loss: 352.1487 - val_mean_absolute_error: 16.3505\n",
            "Epoch 352/500\n",
            "105/105 [==============================] - 0s 1ms/step - loss: 79.1280 - mean_absolute_error: 6.0763 - val_loss: 352.2856 - val_mean_absolute_error: 16.3569\n",
            "Epoch 353/500\n",
            "105/105 [==============================] - 0s 1ms/step - loss: 79.1031 - mean_absolute_error: 6.0901 - val_loss: 351.3331 - val_mean_absolute_error: 16.3345\n",
            "Epoch 354/500\n",
            "105/105 [==============================] - 0s 1ms/step - loss: 79.1147 - mean_absolute_error: 6.0830 - val_loss: 352.4104 - val_mean_absolute_error: 16.3537\n",
            "Epoch 355/500\n",
            "105/105 [==============================] - 0s 1ms/step - loss: 78.9890 - mean_absolute_error: 6.0875 - val_loss: 352.6709 - val_mean_absolute_error: 16.3603\n",
            "Epoch 356/500\n",
            "105/105 [==============================] - 0s 1ms/step - loss: 79.0457 - mean_absolute_error: 6.0844 - val_loss: 353.1096 - val_mean_absolute_error: 16.3681\n",
            "Epoch 357/500\n",
            "105/105 [==============================] - 0s 1ms/step - loss: 79.0544 - mean_absolute_error: 6.0729 - val_loss: 353.4518 - val_mean_absolute_error: 16.3746\n",
            "Epoch 358/500\n",
            "105/105 [==============================] - 0s 1ms/step - loss: 78.8817 - mean_absolute_error: 6.0829 - val_loss: 353.1738 - val_mean_absolute_error: 16.3691\n",
            "Epoch 359/500\n",
            "105/105 [==============================] - 0s 1ms/step - loss: 78.9353 - mean_absolute_error: 6.0626 - val_loss: 353.7799 - val_mean_absolute_error: 16.3761\n",
            "Epoch 360/500\n",
            "105/105 [==============================] - 0s 1ms/step - loss: 78.8441 - mean_absolute_error: 6.0693 - val_loss: 354.1427 - val_mean_absolute_error: 16.3855\n",
            "Epoch 361/500\n",
            "105/105 [==============================] - 0s 1ms/step - loss: 78.8613 - mean_absolute_error: 6.0628 - val_loss: 354.2253 - val_mean_absolute_error: 16.3827\n",
            "Epoch 362/500\n",
            "105/105 [==============================] - 0s 1ms/step - loss: 78.8730 - mean_absolute_error: 6.0751 - val_loss: 353.9363 - val_mean_absolute_error: 16.3765\n",
            "Epoch 363/500\n",
            "105/105 [==============================] - 0s 1ms/step - loss: 78.8110 - mean_absolute_error: 6.0620 - val_loss: 355.0034 - val_mean_absolute_error: 16.4124\n",
            "Epoch 364/500\n",
            "105/105 [==============================] - 0s 1ms/step - loss: 78.7094 - mean_absolute_error: 6.0946 - val_loss: 354.9618 - val_mean_absolute_error: 16.3953\n",
            "Epoch 365/500\n",
            "105/105 [==============================] - 0s 1ms/step - loss: 78.7137 - mean_absolute_error: 6.0754 - val_loss: 354.9233 - val_mean_absolute_error: 16.3972\n",
            "Epoch 366/500\n",
            "105/105 [==============================] - 0s 1ms/step - loss: 78.6929 - mean_absolute_error: 6.0526 - val_loss: 355.0487 - val_mean_absolute_error: 16.3857\n",
            "Epoch 367/500\n",
            "105/105 [==============================] - 0s 1ms/step - loss: 78.6507 - mean_absolute_error: 6.0763 - val_loss: 355.6050 - val_mean_absolute_error: 16.4070\n",
            "Epoch 368/500\n",
            "105/105 [==============================] - 0s 1ms/step - loss: 78.5968 - mean_absolute_error: 6.0632 - val_loss: 356.0857 - val_mean_absolute_error: 16.4126\n",
            "Epoch 369/500\n",
            "105/105 [==============================] - 0s 1ms/step - loss: 78.5544 - mean_absolute_error: 6.0582 - val_loss: 355.5412 - val_mean_absolute_error: 16.4064\n",
            "Epoch 370/500\n",
            "105/105 [==============================] - 0s 1ms/step - loss: 78.4844 - mean_absolute_error: 6.0340 - val_loss: 355.9744 - val_mean_absolute_error: 16.4147\n",
            "Epoch 371/500\n",
            "105/105 [==============================] - 0s 1ms/step - loss: 78.5159 - mean_absolute_error: 6.0400 - val_loss: 355.8730 - val_mean_absolute_error: 16.4084\n",
            "Epoch 372/500\n",
            "105/105 [==============================] - 0s 1ms/step - loss: 78.3844 - mean_absolute_error: 6.0619 - val_loss: 355.7656 - val_mean_absolute_error: 16.4032\n",
            "Epoch 373/500\n",
            "105/105 [==============================] - 0s 1ms/step - loss: 78.5227 - mean_absolute_error: 6.0370 - val_loss: 356.2337 - val_mean_absolute_error: 16.4183\n",
            "Epoch 374/500\n",
            "105/105 [==============================] - 0s 1ms/step - loss: 78.3987 - mean_absolute_error: 6.0415 - val_loss: 356.5085 - val_mean_absolute_error: 16.4200\n",
            "Epoch 375/500\n",
            "105/105 [==============================] - 0s 1ms/step - loss: 78.3914 - mean_absolute_error: 6.0387 - val_loss: 356.7936 - val_mean_absolute_error: 16.4223\n",
            "Epoch 376/500\n",
            "105/105 [==============================] - 0s 1ms/step - loss: 78.2945 - mean_absolute_error: 6.0547 - val_loss: 356.9685 - val_mean_absolute_error: 16.4275\n",
            "Epoch 377/500\n",
            "105/105 [==============================] - 0s 1ms/step - loss: 78.2716 - mean_absolute_error: 6.0410 - val_loss: 356.5807 - val_mean_absolute_error: 16.4205\n",
            "Epoch 378/500\n",
            "105/105 [==============================] - 0s 1ms/step - loss: 78.2167 - mean_absolute_error: 6.0506 - val_loss: 356.9003 - val_mean_absolute_error: 16.4280\n",
            "Epoch 379/500\n",
            "105/105 [==============================] - 0s 1ms/step - loss: 78.2030 - mean_absolute_error: 6.0162 - val_loss: 356.1366 - val_mean_absolute_error: 16.4097\n",
            "Epoch 380/500\n",
            "105/105 [==============================] - 0s 1ms/step - loss: 78.1299 - mean_absolute_error: 6.0498 - val_loss: 356.8155 - val_mean_absolute_error: 16.4222\n",
            "Epoch 381/500\n",
            "105/105 [==============================] - 0s 1ms/step - loss: 78.2474 - mean_absolute_error: 6.0517 - val_loss: 357.9801 - val_mean_absolute_error: 16.4398\n",
            "Epoch 382/500\n",
            "105/105 [==============================] - 0s 1ms/step - loss: 78.0759 - mean_absolute_error: 6.0047 - val_loss: 357.1340 - val_mean_absolute_error: 16.4237\n",
            "Epoch 383/500\n",
            "105/105 [==============================] - 0s 1ms/step - loss: 78.1069 - mean_absolute_error: 6.0525 - val_loss: 357.8607 - val_mean_absolute_error: 16.4297\n",
            "Epoch 384/500\n",
            "105/105 [==============================] - 0s 1ms/step - loss: 78.0213 - mean_absolute_error: 6.0186 - val_loss: 357.9496 - val_mean_absolute_error: 16.4375\n",
            "Epoch 385/500\n",
            "105/105 [==============================] - 0s 1ms/step - loss: 78.0559 - mean_absolute_error: 6.0329 - val_loss: 357.7254 - val_mean_absolute_error: 16.4394\n",
            "Epoch 386/500\n",
            "105/105 [==============================] - 0s 1ms/step - loss: 77.9654 - mean_absolute_error: 6.0091 - val_loss: 357.4363 - val_mean_absolute_error: 16.4319\n",
            "Epoch 387/500\n",
            "105/105 [==============================] - 0s 1ms/step - loss: 77.9143 - mean_absolute_error: 6.0220 - val_loss: 358.4011 - val_mean_absolute_error: 16.4454\n",
            "Epoch 388/500\n",
            "105/105 [==============================] - 0s 1ms/step - loss: 77.9061 - mean_absolute_error: 6.0292 - val_loss: 358.3313 - val_mean_absolute_error: 16.4572\n",
            "Epoch 389/500\n",
            "105/105 [==============================] - 0s 1ms/step - loss: 77.8766 - mean_absolute_error: 6.0164 - val_loss: 358.1947 - val_mean_absolute_error: 16.4486\n",
            "Epoch 390/500\n",
            "105/105 [==============================] - 0s 1ms/step - loss: 77.9234 - mean_absolute_error: 5.9999 - val_loss: 359.4443 - val_mean_absolute_error: 16.4795\n",
            "Epoch 391/500\n",
            "105/105 [==============================] - 0s 1ms/step - loss: 77.7863 - mean_absolute_error: 6.0267 - val_loss: 359.7615 - val_mean_absolute_error: 16.4743\n",
            "Epoch 392/500\n",
            "105/105 [==============================] - 0s 1ms/step - loss: 77.7626 - mean_absolute_error: 6.0191 - val_loss: 360.3030 - val_mean_absolute_error: 16.4735\n",
            "Epoch 393/500\n",
            "105/105 [==============================] - 0s 1ms/step - loss: 77.7764 - mean_absolute_error: 6.0301 - val_loss: 359.8066 - val_mean_absolute_error: 16.4804\n",
            "Epoch 394/500\n",
            "105/105 [==============================] - 0s 1ms/step - loss: 77.6952 - mean_absolute_error: 6.0137 - val_loss: 358.5540 - val_mean_absolute_error: 16.4452\n",
            "Epoch 395/500\n",
            "105/105 [==============================] - 0s 1ms/step - loss: 77.7526 - mean_absolute_error: 6.0235 - val_loss: 360.3023 - val_mean_absolute_error: 16.4674\n",
            "Epoch 396/500\n",
            "105/105 [==============================] - 0s 1ms/step - loss: 77.6669 - mean_absolute_error: 5.9937 - val_loss: 359.3328 - val_mean_absolute_error: 16.4593\n",
            "Epoch 397/500\n",
            "105/105 [==============================] - 0s 1ms/step - loss: 77.7649 - mean_absolute_error: 6.0155 - val_loss: 359.8187 - val_mean_absolute_error: 16.4697\n",
            "Epoch 398/500\n",
            "105/105 [==============================] - 0s 1ms/step - loss: 77.5638 - mean_absolute_error: 6.0056 - val_loss: 360.2423 - val_mean_absolute_error: 16.4691\n",
            "Epoch 399/500\n",
            "105/105 [==============================] - 0s 1ms/step - loss: 77.5850 - mean_absolute_error: 5.9984 - val_loss: 360.1604 - val_mean_absolute_error: 16.4767\n",
            "Epoch 400/500\n",
            "105/105 [==============================] - 0s 1ms/step - loss: 77.4168 - mean_absolute_error: 5.9968 - val_loss: 360.8473 - val_mean_absolute_error: 16.4868\n",
            "Epoch 401/500\n",
            "105/105 [==============================] - 0s 1ms/step - loss: 77.6431 - mean_absolute_error: 6.0349 - val_loss: 361.9225 - val_mean_absolute_error: 16.4957\n",
            "Epoch 402/500\n",
            "105/105 [==============================] - 0s 1ms/step - loss: 77.4291 - mean_absolute_error: 5.9942 - val_loss: 361.4844 - val_mean_absolute_error: 16.4996\n",
            "Epoch 403/500\n",
            "105/105 [==============================] - 0s 1ms/step - loss: 77.3624 - mean_absolute_error: 5.9799 - val_loss: 360.8862 - val_mean_absolute_error: 16.4829\n",
            "Epoch 404/500\n",
            "105/105 [==============================] - 0s 1ms/step - loss: 77.3920 - mean_absolute_error: 5.9743 - val_loss: 361.1085 - val_mean_absolute_error: 16.4962\n",
            "Epoch 405/500\n",
            "105/105 [==============================] - 0s 1ms/step - loss: 77.3884 - mean_absolute_error: 5.9992 - val_loss: 360.9200 - val_mean_absolute_error: 16.4879\n",
            "Epoch 406/500\n",
            "105/105 [==============================] - 0s 1ms/step - loss: 77.3695 - mean_absolute_error: 5.9811 - val_loss: 361.9897 - val_mean_absolute_error: 16.5034\n",
            "Epoch 407/500\n",
            "105/105 [==============================] - 0s 1ms/step - loss: 77.3100 - mean_absolute_error: 5.9974 - val_loss: 361.6095 - val_mean_absolute_error: 16.4961\n",
            "Epoch 408/500\n",
            "105/105 [==============================] - 0s 1ms/step - loss: 77.3034 - mean_absolute_error: 5.9973 - val_loss: 362.3040 - val_mean_absolute_error: 16.5036\n",
            "Epoch 409/500\n",
            "105/105 [==============================] - 0s 1ms/step - loss: 77.2435 - mean_absolute_error: 5.9770 - val_loss: 362.1699 - val_mean_absolute_error: 16.5052\n",
            "Epoch 410/500\n",
            "105/105 [==============================] - 0s 1ms/step - loss: 77.1907 - mean_absolute_error: 5.9790 - val_loss: 362.9313 - val_mean_absolute_error: 16.5219\n",
            "Epoch 411/500\n",
            "105/105 [==============================] - 0s 1ms/step - loss: 77.1849 - mean_absolute_error: 5.9801 - val_loss: 361.9689 - val_mean_absolute_error: 16.4965\n",
            "Epoch 412/500\n",
            "105/105 [==============================] - 0s 1ms/step - loss: 77.1156 - mean_absolute_error: 5.9687 - val_loss: 362.6993 - val_mean_absolute_error: 16.5195\n",
            "Epoch 413/500\n",
            "105/105 [==============================] - 0s 1ms/step - loss: 77.1740 - mean_absolute_error: 5.9832 - val_loss: 361.5690 - val_mean_absolute_error: 16.4969\n",
            "Epoch 414/500\n",
            "105/105 [==============================] - 0s 1ms/step - loss: 76.9824 - mean_absolute_error: 5.9884 - val_loss: 362.8684 - val_mean_absolute_error: 16.5179\n",
            "Epoch 415/500\n",
            "105/105 [==============================] - 0s 1ms/step - loss: 76.9802 - mean_absolute_error: 5.9702 - val_loss: 363.5983 - val_mean_absolute_error: 16.5193\n",
            "Epoch 416/500\n",
            "105/105 [==============================] - 0s 1ms/step - loss: 77.0265 - mean_absolute_error: 5.9566 - val_loss: 363.6394 - val_mean_absolute_error: 16.5287\n",
            "Epoch 417/500\n",
            "105/105 [==============================] - 0s 1ms/step - loss: 76.9097 - mean_absolute_error: 5.9737 - val_loss: 364.6160 - val_mean_absolute_error: 16.5442\n",
            "Epoch 418/500\n",
            "105/105 [==============================] - 0s 1ms/step - loss: 76.9041 - mean_absolute_error: 5.9806 - val_loss: 364.5621 - val_mean_absolute_error: 16.5331\n",
            "Epoch 419/500\n",
            "105/105 [==============================] - 0s 1ms/step - loss: 76.9029 - mean_absolute_error: 5.9487 - val_loss: 363.2547 - val_mean_absolute_error: 16.5146\n",
            "Epoch 420/500\n",
            "105/105 [==============================] - 0s 1ms/step - loss: 76.8385 - mean_absolute_error: 5.9654 - val_loss: 363.4424 - val_mean_absolute_error: 16.5291\n",
            "Epoch 421/500\n",
            "105/105 [==============================] - 0s 1ms/step - loss: 76.8273 - mean_absolute_error: 5.9502 - val_loss: 363.2998 - val_mean_absolute_error: 16.5188\n",
            "Epoch 422/500\n",
            "105/105 [==============================] - 0s 1ms/step - loss: 76.8323 - mean_absolute_error: 5.9706 - val_loss: 363.6339 - val_mean_absolute_error: 16.5224\n",
            "Epoch 423/500\n",
            "105/105 [==============================] - 0s 1ms/step - loss: 76.7477 - mean_absolute_error: 5.9650 - val_loss: 364.8752 - val_mean_absolute_error: 16.5368\n",
            "Epoch 424/500\n",
            "105/105 [==============================] - 0s 1ms/step - loss: 76.7890 - mean_absolute_error: 5.9649 - val_loss: 365.3878 - val_mean_absolute_error: 16.5556\n",
            "Epoch 425/500\n",
            "105/105 [==============================] - 0s 1ms/step - loss: 76.6509 - mean_absolute_error: 5.9446 - val_loss: 365.8312 - val_mean_absolute_error: 16.5565\n",
            "Epoch 426/500\n",
            "105/105 [==============================] - 0s 1ms/step - loss: 76.5962 - mean_absolute_error: 5.9387 - val_loss: 364.9796 - val_mean_absolute_error: 16.5454\n",
            "Epoch 427/500\n",
            "105/105 [==============================] - 0s 1ms/step - loss: 76.6151 - mean_absolute_error: 5.9549 - val_loss: 364.9169 - val_mean_absolute_error: 16.5411\n",
            "Epoch 428/500\n",
            "105/105 [==============================] - 0s 1ms/step - loss: 76.6557 - mean_absolute_error: 5.9641 - val_loss: 365.4640 - val_mean_absolute_error: 16.5517\n",
            "Epoch 429/500\n",
            "105/105 [==============================] - 0s 1ms/step - loss: 76.4657 - mean_absolute_error: 5.9471 - val_loss: 366.0553 - val_mean_absolute_error: 16.5682\n",
            "Epoch 430/500\n",
            "105/105 [==============================] - 0s 1ms/step - loss: 76.4156 - mean_absolute_error: 5.9572 - val_loss: 366.5904 - val_mean_absolute_error: 16.5619\n",
            "Epoch 431/500\n",
            "105/105 [==============================] - 0s 1ms/step - loss: 76.4940 - mean_absolute_error: 5.9257 - val_loss: 366.4157 - val_mean_absolute_error: 16.5665\n",
            "Epoch 432/500\n",
            "105/105 [==============================] - 0s 1ms/step - loss: 76.5931 - mean_absolute_error: 5.9273 - val_loss: 365.8062 - val_mean_absolute_error: 16.5559\n",
            "Epoch 433/500\n",
            "105/105 [==============================] - 0s 1ms/step - loss: 76.4043 - mean_absolute_error: 5.9520 - val_loss: 366.4328 - val_mean_absolute_error: 16.5624\n",
            "Epoch 434/500\n",
            "105/105 [==============================] - 0s 1ms/step - loss: 76.3819 - mean_absolute_error: 5.9319 - val_loss: 366.8203 - val_mean_absolute_error: 16.5598\n",
            "Epoch 435/500\n",
            "105/105 [==============================] - 0s 1ms/step - loss: 76.2704 - mean_absolute_error: 5.9326 - val_loss: 367.5313 - val_mean_absolute_error: 16.5924\n",
            "Epoch 436/500\n",
            "105/105 [==============================] - 0s 1ms/step - loss: 76.4187 - mean_absolute_error: 5.9428 - val_loss: 367.8671 - val_mean_absolute_error: 16.5921\n",
            "Epoch 437/500\n",
            "105/105 [==============================] - 0s 1ms/step - loss: 76.2737 - mean_absolute_error: 5.9427 - val_loss: 366.9323 - val_mean_absolute_error: 16.5814\n",
            "Epoch 438/500\n",
            "105/105 [==============================] - 0s 1ms/step - loss: 76.3521 - mean_absolute_error: 5.9141 - val_loss: 367.0156 - val_mean_absolute_error: 16.5783\n",
            "Epoch 439/500\n",
            "105/105 [==============================] - 0s 1ms/step - loss: 76.2608 - mean_absolute_error: 5.9477 - val_loss: 367.9044 - val_mean_absolute_error: 16.5932\n",
            "Epoch 440/500\n",
            "105/105 [==============================] - 0s 1ms/step - loss: 76.1420 - mean_absolute_error: 5.9321 - val_loss: 368.0346 - val_mean_absolute_error: 16.5927\n",
            "Epoch 441/500\n",
            "105/105 [==============================] - 0s 1ms/step - loss: 76.1256 - mean_absolute_error: 5.9326 - val_loss: 368.0592 - val_mean_absolute_error: 16.5908\n",
            "Epoch 442/500\n",
            "105/105 [==============================] - 0s 1ms/step - loss: 76.1099 - mean_absolute_error: 5.9056 - val_loss: 367.7648 - val_mean_absolute_error: 16.5835\n",
            "Epoch 443/500\n",
            "105/105 [==============================] - 0s 1ms/step - loss: 76.0786 - mean_absolute_error: 5.9221 - val_loss: 367.8388 - val_mean_absolute_error: 16.5916\n",
            "Epoch 444/500\n",
            "105/105 [==============================] - 0s 1ms/step - loss: 76.0872 - mean_absolute_error: 5.9344 - val_loss: 368.4139 - val_mean_absolute_error: 16.6000\n",
            "Epoch 445/500\n",
            "105/105 [==============================] - 0s 1ms/step - loss: 76.0013 - mean_absolute_error: 5.9340 - val_loss: 367.9562 - val_mean_absolute_error: 16.5839\n",
            "Epoch 446/500\n",
            "105/105 [==============================] - 0s 1ms/step - loss: 75.9664 - mean_absolute_error: 5.9230 - val_loss: 368.5261 - val_mean_absolute_error: 16.5959\n",
            "Epoch 447/500\n",
            "105/105 [==============================] - 0s 1ms/step - loss: 75.9720 - mean_absolute_error: 5.9074 - val_loss: 369.6220 - val_mean_absolute_error: 16.6103\n",
            "Epoch 448/500\n",
            "105/105 [==============================] - 0s 1ms/step - loss: 75.8677 - mean_absolute_error: 5.9071 - val_loss: 369.1120 - val_mean_absolute_error: 16.6138\n",
            "Epoch 449/500\n",
            "105/105 [==============================] - 0s 1ms/step - loss: 75.8252 - mean_absolute_error: 5.9053 - val_loss: 369.3550 - val_mean_absolute_error: 16.6103\n",
            "Epoch 450/500\n",
            "105/105 [==============================] - 0s 1ms/step - loss: 75.8084 - mean_absolute_error: 5.8945 - val_loss: 369.4269 - val_mean_absolute_error: 16.6138\n",
            "Epoch 451/500\n",
            "105/105 [==============================] - 0s 1ms/step - loss: 75.8027 - mean_absolute_error: 5.9392 - val_loss: 370.1129 - val_mean_absolute_error: 16.6223\n",
            "Epoch 452/500\n",
            "105/105 [==============================] - 0s 1ms/step - loss: 75.9178 - mean_absolute_error: 5.8970 - val_loss: 369.7282 - val_mean_absolute_error: 16.6143\n",
            "Epoch 453/500\n",
            "105/105 [==============================] - 0s 1ms/step - loss: 75.7668 - mean_absolute_error: 5.9088 - val_loss: 370.6112 - val_mean_absolute_error: 16.6328\n",
            "Epoch 454/500\n",
            "105/105 [==============================] - 0s 1ms/step - loss: 75.6215 - mean_absolute_error: 5.9070 - val_loss: 370.7305 - val_mean_absolute_error: 16.6241\n",
            "Epoch 455/500\n",
            "105/105 [==============================] - 0s 1ms/step - loss: 75.6441 - mean_absolute_error: 5.8996 - val_loss: 370.8402 - val_mean_absolute_error: 16.6427\n",
            "Epoch 456/500\n",
            "105/105 [==============================] - 0s 1ms/step - loss: 75.6988 - mean_absolute_error: 5.8987 - val_loss: 370.1481 - val_mean_absolute_error: 16.6233\n",
            "Epoch 457/500\n",
            "105/105 [==============================] - 0s 1ms/step - loss: 75.6522 - mean_absolute_error: 5.8941 - val_loss: 371.6495 - val_mean_absolute_error: 16.6399\n",
            "Epoch 458/500\n",
            "105/105 [==============================] - 0s 1ms/step - loss: 75.5209 - mean_absolute_error: 5.8903 - val_loss: 371.5952 - val_mean_absolute_error: 16.6393\n",
            "Epoch 459/500\n",
            "105/105 [==============================] - 0s 1ms/step - loss: 75.5027 - mean_absolute_error: 5.9053 - val_loss: 371.5121 - val_mean_absolute_error: 16.6452\n",
            "Epoch 460/500\n",
            "105/105 [==============================] - 0s 1ms/step - loss: 75.6336 - mean_absolute_error: 5.8905 - val_loss: 372.4524 - val_mean_absolute_error: 16.6538\n",
            "Epoch 461/500\n",
            "105/105 [==============================] - 0s 1ms/step - loss: 75.5250 - mean_absolute_error: 5.9098 - val_loss: 371.9731 - val_mean_absolute_error: 16.6574\n",
            "Epoch 462/500\n",
            "105/105 [==============================] - 0s 1ms/step - loss: 75.4513 - mean_absolute_error: 5.8884 - val_loss: 371.9324 - val_mean_absolute_error: 16.6527\n",
            "Epoch 463/500\n",
            "105/105 [==============================] - 0s 1ms/step - loss: 75.3816 - mean_absolute_error: 5.8889 - val_loss: 372.9728 - val_mean_absolute_error: 16.6625\n",
            "Epoch 464/500\n",
            "105/105 [==============================] - 0s 1ms/step - loss: 75.3756 - mean_absolute_error: 5.8973 - val_loss: 373.5304 - val_mean_absolute_error: 16.6632\n",
            "Epoch 465/500\n",
            "105/105 [==============================] - 0s 1ms/step - loss: 75.4346 - mean_absolute_error: 5.8844 - val_loss: 372.5989 - val_mean_absolute_error: 16.6562\n",
            "Epoch 466/500\n",
            "105/105 [==============================] - 0s 1ms/step - loss: 75.4818 - mean_absolute_error: 5.9203 - val_loss: 373.6227 - val_mean_absolute_error: 16.6723\n",
            "Epoch 467/500\n",
            "105/105 [==============================] - 0s 1ms/step - loss: 75.2353 - mean_absolute_error: 5.8826 - val_loss: 373.6795 - val_mean_absolute_error: 16.6598\n",
            "Epoch 468/500\n",
            "105/105 [==============================] - 0s 1ms/step - loss: 75.2085 - mean_absolute_error: 5.8820 - val_loss: 373.5772 - val_mean_absolute_error: 16.6641\n",
            "Epoch 469/500\n",
            "105/105 [==============================] - 0s 1ms/step - loss: 75.2298 - mean_absolute_error: 5.8729 - val_loss: 374.2003 - val_mean_absolute_error: 16.6743\n",
            "Epoch 470/500\n",
            "105/105 [==============================] - 0s 1ms/step - loss: 75.2035 - mean_absolute_error: 5.8559 - val_loss: 373.8148 - val_mean_absolute_error: 16.6679\n",
            "Epoch 471/500\n",
            "105/105 [==============================] - 0s 1ms/step - loss: 75.2329 - mean_absolute_error: 5.8853 - val_loss: 373.9914 - val_mean_absolute_error: 16.6804\n",
            "Epoch 472/500\n",
            "105/105 [==============================] - 0s 1ms/step - loss: 75.2039 - mean_absolute_error: 5.8768 - val_loss: 373.0885 - val_mean_absolute_error: 16.6671\n",
            "Epoch 473/500\n",
            "105/105 [==============================] - 0s 1ms/step - loss: 75.1501 - mean_absolute_error: 5.8742 - val_loss: 374.1170 - val_mean_absolute_error: 16.6814\n",
            "Epoch 474/500\n",
            "105/105 [==============================] - 0s 1ms/step - loss: 74.9968 - mean_absolute_error: 5.8632 - val_loss: 374.6746 - val_mean_absolute_error: 16.6832\n",
            "Epoch 475/500\n",
            "105/105 [==============================] - 0s 1ms/step - loss: 74.9858 - mean_absolute_error: 5.8609 - val_loss: 375.6654 - val_mean_absolute_error: 16.6974\n",
            "Epoch 476/500\n",
            "105/105 [==============================] - 0s 1ms/step - loss: 74.9475 - mean_absolute_error: 5.8492 - val_loss: 374.6654 - val_mean_absolute_error: 16.6790\n",
            "Epoch 477/500\n",
            "105/105 [==============================] - 0s 1ms/step - loss: 74.9399 - mean_absolute_error: 5.8521 - val_loss: 375.6172 - val_mean_absolute_error: 16.7039\n",
            "Epoch 478/500\n",
            "105/105 [==============================] - 0s 1ms/step - loss: 74.9859 - mean_absolute_error: 5.8654 - val_loss: 375.8952 - val_mean_absolute_error: 16.6902\n",
            "Epoch 479/500\n",
            "105/105 [==============================] - 0s 1ms/step - loss: 74.9543 - mean_absolute_error: 5.8779 - val_loss: 375.8352 - val_mean_absolute_error: 16.7004\n",
            "Epoch 480/500\n",
            "105/105 [==============================] - 0s 1ms/step - loss: 74.8108 - mean_absolute_error: 5.8412 - val_loss: 375.6377 - val_mean_absolute_error: 16.7010\n",
            "Epoch 481/500\n",
            "105/105 [==============================] - 0s 1ms/step - loss: 74.9081 - mean_absolute_error: 5.8793 - val_loss: 376.1588 - val_mean_absolute_error: 16.7007\n",
            "Epoch 482/500\n",
            "105/105 [==============================] - 0s 1ms/step - loss: 74.7942 - mean_absolute_error: 5.8524 - val_loss: 376.8293 - val_mean_absolute_error: 16.6995\n",
            "Epoch 483/500\n",
            "105/105 [==============================] - 0s 1ms/step - loss: 74.7729 - mean_absolute_error: 5.8436 - val_loss: 376.5975 - val_mean_absolute_error: 16.7026\n",
            "Epoch 484/500\n",
            "105/105 [==============================] - 0s 1ms/step - loss: 74.6721 - mean_absolute_error: 5.8444 - val_loss: 376.7318 - val_mean_absolute_error: 16.7170\n",
            "Epoch 485/500\n",
            "105/105 [==============================] - 0s 1ms/step - loss: 74.7300 - mean_absolute_error: 5.8534 - val_loss: 377.9288 - val_mean_absolute_error: 16.7312\n",
            "Epoch 486/500\n",
            "105/105 [==============================] - 0s 1ms/step - loss: 74.7241 - mean_absolute_error: 5.8414 - val_loss: 378.0230 - val_mean_absolute_error: 16.7395\n",
            "Epoch 487/500\n",
            "105/105 [==============================] - 0s 1ms/step - loss: 74.7391 - mean_absolute_error: 5.8693 - val_loss: 377.7736 - val_mean_absolute_error: 16.7296\n",
            "Epoch 488/500\n",
            "105/105 [==============================] - 0s 1ms/step - loss: 74.5964 - mean_absolute_error: 5.8248 - val_loss: 378.2803 - val_mean_absolute_error: 16.7322\n",
            "Epoch 489/500\n",
            "105/105 [==============================] - 0s 1ms/step - loss: 74.5275 - mean_absolute_error: 5.8435 - val_loss: 377.7471 - val_mean_absolute_error: 16.7291\n",
            "Epoch 490/500\n",
            "105/105 [==============================] - 0s 1ms/step - loss: 74.5675 - mean_absolute_error: 5.8452 - val_loss: 376.6398 - val_mean_absolute_error: 16.7030\n",
            "Epoch 491/500\n",
            "105/105 [==============================] - 0s 1ms/step - loss: 74.5036 - mean_absolute_error: 5.8372 - val_loss: 377.8782 - val_mean_absolute_error: 16.7290\n",
            "Epoch 492/500\n",
            "105/105 [==============================] - 0s 1ms/step - loss: 74.5011 - mean_absolute_error: 5.8287 - val_loss: 376.8626 - val_mean_absolute_error: 16.7173\n",
            "Epoch 493/500\n",
            "105/105 [==============================] - 0s 1ms/step - loss: 74.4791 - mean_absolute_error: 5.8653 - val_loss: 378.5932 - val_mean_absolute_error: 16.7352\n",
            "Epoch 494/500\n",
            "105/105 [==============================] - 0s 1ms/step - loss: 74.5477 - mean_absolute_error: 5.8255 - val_loss: 377.9986 - val_mean_absolute_error: 16.7294\n",
            "Epoch 495/500\n",
            "105/105 [==============================] - 0s 1ms/step - loss: 74.4985 - mean_absolute_error: 5.8336 - val_loss: 378.7437 - val_mean_absolute_error: 16.7372\n",
            "Epoch 496/500\n",
            "105/105 [==============================] - 0s 1ms/step - loss: 74.3107 - mean_absolute_error: 5.8352 - val_loss: 378.2919 - val_mean_absolute_error: 16.7330\n",
            "Epoch 497/500\n",
            "105/105 [==============================] - 0s 1ms/step - loss: 74.3224 - mean_absolute_error: 5.8374 - val_loss: 379.2818 - val_mean_absolute_error: 16.7581\n",
            "Epoch 498/500\n",
            "105/105 [==============================] - 0s 1ms/step - loss: 74.3400 - mean_absolute_error: 5.8242 - val_loss: 379.2750 - val_mean_absolute_error: 16.7474\n",
            "Epoch 499/500\n",
            "105/105 [==============================] - 0s 1ms/step - loss: 74.3224 - mean_absolute_error: 5.8110 - val_loss: 378.1563 - val_mean_absolute_error: 16.7417\n",
            "Epoch 500/500\n",
            "105/105 [==============================] - 0s 1ms/step - loss: 74.3437 - mean_absolute_error: 5.8566 - val_loss: 379.9528 - val_mean_absolute_error: 16.7605\n"
          ],
          "name": "stdout"
        }
      ]
    },
    {
      "cell_type": "code",
      "metadata": {
        "id": "3FfY9mHOZcNR",
        "colab_type": "code",
        "outputId": "04437648-96fb-4322-a16a-bee63e4ec6d1",
        "colab": {
          "base_uri": "https://localhost:8080/",
          "height": 35
        }
      },
      "source": [
        "len(mae_history)"
      ],
      "execution_count": 0,
      "outputs": [
        {
          "output_type": "execute_result",
          "data": {
            "text/plain": [
              "500"
            ]
          },
          "metadata": {
            "tags": []
          },
          "execution_count": 52
        }
      ]
    },
    {
      "cell_type": "markdown",
      "metadata": {
        "id": "_JFcHa2LGPXj",
        "colab_type": "text"
      },
      "source": [
        "#Plotting training and validation mae"
      ]
    },
    {
      "cell_type": "code",
      "metadata": {
        "id": "13s5AsNnFQ7F",
        "colab_type": "code",
        "outputId": "a6539dc8-ceaf-4589-f6cd-95f42582b950",
        "colab": {
          "base_uri": "https://localhost:8080/",
          "height": 279
        }
      },
      "source": [
        "import matplotlib.pyplot as plt\n",
        "plt.plot(range(1, len(mae_val_history) + 1), mae_val_history, 'r', label='Validation mae')\n",
        "plt.plot(range(1, len(mae_history) + 1), mae_history, 'b', label='Training mae')\n",
        "plt.xlabel('Epochs')\n",
        "plt.ylabel('Validation MAE')\n",
        "plt.legend()\n",
        "plt.show()\n"
      ],
      "execution_count": 0,
      "outputs": [
        {
          "output_type": "display_data",
          "data": {
            "image/png": "[encoded data removed]",
            "text/plain": [
              "<Figure size 432x288 with 1 Axes>"
            ]
          },
          "metadata": {
            "tags": []
          }
        }
      ]
    },
    {
      "cell_type": "markdown",
      "metadata": {
        "id": "723BbzxdJtj-",
        "colab_type": "text"
      },
      "source": [
        "#Plotting training and validation loss"
      ]
    },
    {
      "cell_type": "code",
      "metadata": {
        "id": "tezhzHbMGguv",
        "colab_type": "code",
        "outputId": "fb3b20ec-d893-410a-fc36-b510e8fa22a7",
        "colab": {
          "base_uri": "https://localhost:8080/",
          "height": 279
        }
      },
      "source": [
        "import matplotlib.pyplot as plt\n",
        "plt.plot(range(1, len(loss_val_history) + 1), loss_val_history, 'r', label='Validation loss')\n",
        "plt.plot(range(1, len(loss_history) + 1), loss_history, 'b', label='Training loss')\n",
        "plt.xlabel('Epochs')\n",
        "plt.ylabel('Validation LOSS')\n",
        "plt.legend()\n",
        "plt.show()"
      ],
      "execution_count": 0,
      "outputs": [
        {
          "output_type": "display_data",
          "data": {
            "image/png": "[encoded data removed]",
            "text/plain": [
              "<Figure size 432x288 with 1 Axes>"
            ]
          },
          "metadata": {
            "tags": []
          }
        }
      ]
    },
    {
      "cell_type": "markdown",
      "metadata": {
        "id": "3cYo_1gJEMly",
        "colab_type": "text"
      },
      "source": [
        "#Test model\n"
      ]
    },
    {
      "cell_type": "code",
      "metadata": {
        "id": "ZiMorOCCKPF8",
        "colab_type": "code",
        "outputId": "f67448d2-6b26-4202-f3a3-e9c7af6dae6a",
        "colab": {
          "base_uri": "https://localhost:8080/"
        }
      },
      "source": [
        "model.fit(train_data_stand_pca, train_targets, epochs=80, batch_size=1, verbose=0)\n",
        "test_mse_score, test_mae_score = model.evaluate(test_data_stand_pca, y_test)"
      ],
      "execution_count": 0,
      "outputs": [
        {
          "output_type": "stream",
          "text": [
            "\r13/13 [==============================] - 0s 37us/step\n"
          ],
          "name": "stdout"
        }
      ]
    },
    {
      "cell_type": "code",
      "metadata": {
        "id": "TiVCR2H6E1QB",
        "colab_type": "code",
        "outputId": "6ea0e930-1bf4-459f-d31c-3d2a076f0298",
        "colab": {
          "base_uri": "https://localhost:8080/"
        }
      },
      "source": [
        "test_mae_score"
      ],
      "execution_count": 0,
      "outputs": [
        {
          "output_type": "execute_result",
          "data": {
            "text/plain": [
              "17.643218994140625"
            ]
          },
          "metadata": {
            "tags": []
          },
          "execution_count": 55
        }
      ]
    }
  ]
}