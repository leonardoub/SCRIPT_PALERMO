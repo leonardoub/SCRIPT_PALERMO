{
  "nbformat": 4,
  "nbformat_minor": 0,
  "metadata": {
    "colab": {
      "name": "Network_regression_ST.ipynb",
      "provenance": [],
      "toc_visible": true,
      "include_colab_link": true
    },
    "kernelspec": {
      "name": "python3",
      "display_name": "Python 3"
    }
  },
  "cells": [
    {
      "cell_type": "markdown",
      "metadata": {
        "id": "view-in-github",
        "colab_type": "text"
      },
      "source": [
        "<a href=\"https://colab.research.google.com/github/leonardoub/SCRIPT_PALERMO/blob/master/Network_regression_ST.ipynb\" target=\"_parent\"><img src=\"https://colab.research.google.com/assets/colab-badge.svg\" alt=\"Open In Colab\"/></a>"
      ]
    },
    {
      "cell_type": "code",
      "metadata": {
        "id": "FyIMXJeb7C1z",
        "colab_type": "code",
        "colab": {}
      },
      "source": [
        "import pandas as pd\n",
        "import numpy as np\n",
        "import matplotlib.pyplot as plt\n",
        "import scipy\n",
        "import seaborn as sns"
      ],
      "execution_count": 0,
      "outputs": []
    },
    {
      "cell_type": "markdown",
      "metadata": {
        "id": "_DME-inQ4ke_",
        "colab_type": "text"
      },
      "source": [
        "#Load data"
      ]
    },
    {
      "cell_type": "code",
      "metadata": {
        "id": "7Hq45TSf3WcR",
        "colab_type": "code",
        "outputId": "6bd3b93a-70cb-4038-82dc-82289655f59a",
        "colab": {
          "base_uri": "https://localhost:8080/",
          "height": 54
        }
      },
      "source": [
        "#load data from Drive\n",
        "from google.colab import drive\n",
        "drive.mount('/gdrive')\n",
        "%cd /gdrive"
      ],
      "execution_count": 0,
      "outputs": [
        {
          "output_type": "stream",
          "text": [
            "Drive already mounted at /gdrive; to attempt to forcibly remount, call drive.mount(\"/gdrive\", force_remount=True).\n",
            "/gdrive\n"
          ],
          "name": "stdout"
        }
      ]
    },
    {
      "cell_type": "code",
      "metadata": {
        "id": "UCkUXesZhMzg",
        "colab_type": "code",
        "colab": {}
      },
      "source": [
        "train_dataset_path = '/gdrive/My Drive/AIM_PA/database_training2.csv'\n",
        "test_dataset_path = '/gdrive/My Drive/AIM_PA/database_nostro_without_nan.csv'"
      ],
      "execution_count": 0,
      "outputs": []
    },
    {
      "cell_type": "code",
      "metadata": {
        "id": "TczPxOpEhTXw",
        "colab_type": "code",
        "colab": {}
      },
      "source": [
        "df_train = pd.read_csv(train_dataset_path)\n",
        "df_test = pd.read_csv(test_dataset_path)"
      ],
      "execution_count": 0,
      "outputs": []
    },
    {
      "cell_type": "code",
      "metadata": {
        "id": "9I5MNxeW3j2G",
        "colab_type": "code",
        "colab": {}
      },
      "source": [
        "df_train.rename(columns={'Survival.time (months)':'Surv_time_months'}, inplace=True)"
      ],
      "execution_count": 0,
      "outputs": []
    },
    {
      "cell_type": "code",
      "metadata": {
        "id": "TLxDyFPo3sU9",
        "colab_type": "code",
        "colab": {}
      },
      "source": [
        "df_test.rename(columns={'Survival.time (months)':'Surv_time_months'}, inplace=True)"
      ],
      "execution_count": 0,
      "outputs": []
    },
    {
      "cell_type": "code",
      "metadata": {
        "id": "oXU_B2k03uYa",
        "colab_type": "code",
        "colab": {}
      },
      "source": [
        "df_train.rename(columns={'Overall.Stage':'Overall_Stage'}, inplace=True)\n",
        "df_test.rename(columns={'Overall.Stage':'Overall_Stage'}, inplace=True)"
      ],
      "execution_count": 0,
      "outputs": []
    },
    {
      "cell_type": "code",
      "metadata": {
        "id": "T1YCrOMP3_4q",
        "colab_type": "code",
        "colab": {}
      },
      "source": [
        "train_data = df_train.drop(['Histology', 'Surv_time_months', 'OS', 'deadstatus.event','Overall_Stage'], axis=1)"
      ],
      "execution_count": 0,
      "outputs": []
    },
    {
      "cell_type": "code",
      "metadata": {
        "id": "BWj1mwjV4Mzo",
        "colab_type": "code",
        "colab": {}
      },
      "source": [
        "test_data = df_test.drop(['Histology', 'Surv_time_months', 'OS', 'deadstatus.event','Overall_Stage'], axis=1)"
      ],
      "execution_count": 0,
      "outputs": []
    },
    {
      "cell_type": "code",
      "metadata": {
        "id": "dKdS4Low4PHh",
        "colab_type": "code",
        "colab": {}
      },
      "source": [
        "train_targets = df_train.Surv_time_months"
      ],
      "execution_count": 0,
      "outputs": []
    },
    {
      "cell_type": "code",
      "metadata": {
        "id": "K6EsAdEt4RNP",
        "colab_type": "code",
        "colab": {}
      },
      "source": [
        "test_targets = df_test.Surv_time_months"
      ],
      "execution_count": 0,
      "outputs": []
    },
    {
      "cell_type": "markdown",
      "metadata": {
        "id": "dtPx7PMDnXM3",
        "colab_type": "text"
      },
      "source": [
        "#Z score dei dati"
      ]
    },
    {
      "cell_type": "code",
      "metadata": {
        "id": "XK4Qji2EnVV4",
        "colab_type": "code",
        "colab": {}
      },
      "source": [
        "mean = train_data.mean(axis=0)\n",
        "train_data_stand = train_data - mean\n",
        "std = train_data.std(axis=0)\n",
        "train_data_stand /= std"
      ],
      "execution_count": 0,
      "outputs": []
    },
    {
      "cell_type": "code",
      "metadata": {
        "id": "YOVOoNOvm0Yx",
        "colab_type": "code",
        "colab": {}
      },
      "source": [
        "test_data_stand = test_data - mean\n",
        "test_data_stand /= std"
      ],
      "execution_count": 0,
      "outputs": []
    },
    {
      "cell_type": "markdown",
      "metadata": {
        "id": "Mn0tkOGc3LKN",
        "colab_type": "text"
      },
      "source": [
        "#PCA"
      ]
    },
    {
      "cell_type": "code",
      "metadata": {
        "id": "oS76u6iu3Seg",
        "colab_type": "code",
        "colab": {}
      },
      "source": [
        "from sklearn.decomposition import PCA"
      ],
      "execution_count": 0,
      "outputs": []
    },
    {
      "cell_type": "code",
      "metadata": {
        "id": "KCjC4zqJ3bui",
        "colab_type": "code",
        "colab": {}
      },
      "source": [
        "pca = PCA(n_components=0.9, svd_solver='full')"
      ],
      "execution_count": 0,
      "outputs": []
    },
    {
      "cell_type": "code",
      "metadata": {
        "id": "dLUCf9qX4p_e",
        "colab_type": "code",
        "outputId": "81b05689-4b31-437e-d344-b7458f5275ed",
        "colab": {
          "base_uri": "https://localhost:8080/",
          "height": 54
        }
      },
      "source": [
        "pca.fit(train_data_stand)"
      ],
      "execution_count": 0,
      "outputs": [
        {
          "output_type": "execute_result",
          "data": {
            "text/plain": [
              "PCA(copy=True, iterated_power='auto', n_components=0.9, random_state=None,\n",
              "    svd_solver='full', tol=0.0, whiten=False)"
            ]
          },
          "metadata": {
            "tags": []
          },
          "execution_count": 119
        }
      ]
    },
    {
      "cell_type": "code",
      "metadata": {
        "id": "QfyaKgNZ44o3",
        "colab_type": "code",
        "colab": {}
      },
      "source": [
        "train_data_stand_pca = pca.transform(train_data_stand)\n",
        "test_data_stand_pca = pca.transform(test_data_stand)"
      ],
      "execution_count": 0,
      "outputs": []
    },
    {
      "cell_type": "code",
      "metadata": {
        "id": "Uz9C4nl05b_g",
        "colab_type": "code",
        "outputId": "7408bddc-6de5-4e4d-e37c-2df0eb5c5fa7",
        "colab": {
          "base_uri": "https://localhost:8080/",
          "height": 35
        }
      },
      "source": [
        "train_data_stand_pca.shape"
      ],
      "execution_count": 0,
      "outputs": [
        {
          "output_type": "execute_result",
          "data": {
            "text/plain": [
              "(131, 9)"
            ]
          },
          "metadata": {
            "tags": []
          },
          "execution_count": 121
        }
      ]
    },
    {
      "cell_type": "markdown",
      "metadata": {
        "id": "8wSKvSu4s5ip",
        "colab_type": "text"
      },
      "source": [
        "#Building Network"
      ]
    },
    {
      "cell_type": "code",
      "metadata": {
        "id": "1tX_y6KKs3pM",
        "colab_type": "code",
        "colab": {}
      },
      "source": [
        "from keras import models"
      ],
      "execution_count": 0,
      "outputs": []
    },
    {
      "cell_type": "code",
      "metadata": {
        "id": "ShwM6YMqsxxJ",
        "colab_type": "code",
        "colab": {}
      },
      "source": [
        "from keras import layers"
      ],
      "execution_count": 0,
      "outputs": []
    },
    {
      "cell_type": "code",
      "metadata": {
        "id": "7OAEgN31tHVV",
        "colab_type": "code",
        "colab": {}
      },
      "source": [
        "def build_model():\n",
        "  model = models.Sequential()\n",
        "  model.add(layers.Dense(5, activation='relu', input_shape=(9,)))\n",
        "  model.add(layers.Dense(1))\n",
        "  model.compile(optimizer='rmsprop', loss='mse', metrics=['mae'])\n",
        "  return model"
      ],
      "execution_count": 0,
      "outputs": []
    },
    {
      "cell_type": "markdown",
      "metadata": {
        "id": "sA7Ye1SZDUXB",
        "colab_type": "text"
      },
      "source": [
        "Note that you compile the network with the mse loss function—mean squared error,\n",
        "the square of the difference between the predictions and the targets. This is a widely\n",
        "used loss function for regression problems.\n",
        "\n"
      ]
    },
    {
      "cell_type": "markdown",
      "metadata": {
        "id": "jXmq-i3sDXQA",
        "colab_type": "text"
      },
      "source": [
        "You’re also monitoring a new metric during training: mean absolute error (MAE). It’s\n",
        "the absolute value of the difference between the predictions and the targets. For\n",
        "instance, an MAE of 0.5 on this problem would mean your predictions are off by $500\n",
        "on average."
      ]
    },
    {
      "cell_type": "markdown",
      "metadata": {
        "id": "QL7aYuEc_I-q",
        "colab_type": "text"
      },
      "source": [
        "#K-Fold"
      ]
    },
    {
      "cell_type": "code",
      "metadata": {
        "id": "FYsyGVcJ_Ir8",
        "colab_type": "code",
        "colab": {}
      },
      "source": [
        "from sklearn.model_selection import KFold"
      ],
      "execution_count": 0,
      "outputs": []
    },
    {
      "cell_type": "code",
      "metadata": {
        "id": "DXE1vJIW_bbm",
        "colab_type": "code",
        "outputId": "f86e18f9-95f3-4897-90f0-e9478ad8c2f6",
        "colab": {
          "base_uri": "https://localhost:8080/",
          "height": 35
        }
      },
      "source": [
        "kf = KFold(n_splits=3, shuffle=True, random_state=1)\n",
        "kf.get_n_splits(train_data_stand_pca, train_targets)"
      ],
      "execution_count": 0,
      "outputs": [
        {
          "output_type": "execute_result",
          "data": {
            "text/plain": [
              "3"
            ]
          },
          "metadata": {
            "tags": []
          },
          "execution_count": 126
        }
      ]
    },
    {
      "cell_type": "code",
      "metadata": {
        "id": "E6nlpLXDXmPK",
        "colab_type": "code",
        "outputId": "1185201a-a4fd-4edf-da2a-2d08a23b1044",
        "colab": {
          "base_uri": "https://localhost:8080/",
          "height": 35
        }
      },
      "source": [
        "type(train_data_stand_pca)"
      ],
      "execution_count": 0,
      "outputs": [
        {
          "output_type": "execute_result",
          "data": {
            "text/plain": [
              "numpy.ndarray"
            ]
          },
          "metadata": {
            "tags": []
          },
          "execution_count": 164
        }
      ]
    },
    {
      "cell_type": "code",
      "metadata": {
        "id": "Me-XQzPyD1gi",
        "colab_type": "code",
        "outputId": "099f1e04-878a-49fe-ca3f-8a425cafde47",
        "colab": {
          "base_uri": "https://localhost:8080/",
          "height": 403
        }
      },
      "source": [
        "for train_index, test_index in kf.split(train_data_stand_pca, train_targets):\n",
        "    print(\"TRAIN:\", train_index, \"TEST:\", test_index)"
      ],
      "execution_count": 0,
      "outputs": [
        {
          "output_type": "stream",
          "text": [
            "TRAIN: [  0   1   3   6   7   8   9  10  11  13  14  15  16  18  19  20  21  22\n",
            "  23  24  25  26  27  28  29  30  32  34  36  37  38  39  41  43  47  49\n",
            "  50  52  57  60  61  63  64  65  67  68  69  70  71  72  74  76  77  78\n",
            "  79  81  83  84  86  87  88  90  92  94  95  96  99 100 101 103 105 106\n",
            " 107 108 109 112 113 115 117 119 120 122 123 125 127 129 130] TEST: [  2   4   5  12  17  31  33  35  40  42  44  45  46  48  51  53  54  55\n",
            "  56  58  59  62  66  73  75  80  82  85  89  91  93  97  98 102 104 110\n",
            " 111 114 116 118 121 124 126 128]\n",
            "TRAIN: [  0   1   2   4   5   6   7   8   9  11  12  13  14  16  17  18  20  22\n",
            "  25  28  29  31  33  35  37  40  42  44  45  46  48  50  51  53  54  55\n",
            "  56  57  58  59  60  61  62  63  64  66  68  71  72  73  75  76  79  80\n",
            "  81  82  84  85  86  87  88  89  91  93  94  96  97  98 101 102 104 105\n",
            " 106 107 109 110 111 114 116 117 118 119 121 124 125 126 128] TEST: [  3  10  15  19  21  23  24  26  27  30  32  34  36  38  39  41  43  47\n",
            "  49  52  65  67  69  70  74  77  78  83  90  92  95  99 100 103 108 112\n",
            " 113 115 120 122 123 127 129 130]\n",
            "TRAIN: [  2   3   4   5  10  12  15  17  19  21  23  24  26  27  30  31  32  33\n",
            "  34  35  36  38  39  40  41  42  43  44  45  46  47  48  49  51  52  53\n",
            "  54  55  56  58  59  62  65  66  67  69  70  73  74  75  77  78  80  82\n",
            "  83  85  89  90  91  92  93  95  97  98  99 100 102 103 104 108 110 111\n",
            " 112 113 114 115 116 118 120 121 122 123 124 126 127 128 129 130] TEST: [  0   1   6   7   8   9  11  13  14  16  18  20  22  25  28  29  37  50\n",
            "  57  60  61  63  64  68  71  72  76  79  81  84  86  87  88  94  96 101\n",
            " 105 106 107 109 117 119 125]\n"
          ],
          "name": "stdout"
        }
      ]
    },
    {
      "cell_type": "markdown",
      "metadata": {
        "id": "zf2aaDwz75lc",
        "colab_type": "text"
      },
      "source": [
        ""
      ]
    },
    {
      "cell_type": "code",
      "metadata": {
        "id": "QNHd1cgxCVmE",
        "colab_type": "code",
        "outputId": "309ad33f-2b30-4c7a-e188-88cc07754031",
        "colab": {
          "base_uri": "https://localhost:8080/",
          "height": 1000
        }
      },
      "source": [
        "num_epochs = 100\n",
        "all_mae_histories = []\n",
        "all_mae_val_histories = []\n",
        "all_loss_histories = []\n",
        "all_loss_val_histories = []\n",
        "\n",
        "for train_index, val_index in kf.split(train_data_stand_pca, train_targets):\n",
        "  partial_train_data = np.array([train_data_stand_pca[i] for i in train_index])\n",
        "  partial_train_targets = np.array([train_targets[i] for i in train_index])\n",
        "  \n",
        "  val_data = np.array([train_data_stand_pca[i] for i in val_index])\n",
        "  val_targets = np.array([train_targets[i] for i in val_index])\n",
        "\n",
        "  model = build_model()\n",
        "  history = model.fit(partial_train_data, partial_train_targets, validation_data=(val_data, val_targets), \n",
        "                      epochs= num_epochs, batch_size=1)\n",
        "  \n",
        "  mae_history = history.history['mean_absolute_error']\n",
        "  all_mae_histories.append(mae_history)\n",
        "\n",
        "  mae_val_history = history.history['val_mean_absolute_error']\n",
        "  all_mae_val_histories.append(mae_val_history)\n",
        "\n",
        "  loss_history = history.history['loss']\n",
        "  all_loss_histories.append(loss_history)\n",
        "\n",
        "  loss_val_history = history.history['val_loss']\n",
        "  all_loss_val_histories.append(loss_val_history)\n"
      ],
      "execution_count": 0,
      "outputs": [
        {
          "output_type": "stream",
          "text": [
            "Train on 87 samples, validate on 44 samples\n",
            "Epoch 1/100\n",
            "87/87 [==============================] - 0s 5ms/step - loss: 778.8023 - mean_absolute_error: 21.9181 - val_loss: 588.0235 - val_mean_absolute_error: 18.0472\n",
            "Epoch 2/100\n",
            "87/87 [==============================] - 0s 1ms/step - loss: 756.5478 - mean_absolute_error: 21.4543 - val_loss: 574.9058 - val_mean_absolute_error: 17.7200\n",
            "Epoch 3/100\n",
            "87/87 [==============================] - 0s 1ms/step - loss: 733.4874 - mean_absolute_error: 21.0366 - val_loss: 560.8612 - val_mean_absolute_error: 17.3663\n",
            "Epoch 4/100\n",
            "87/87 [==============================] - 0s 1ms/step - loss: 713.1848 - mean_absolute_error: 20.5888 - val_loss: 548.7207 - val_mean_absolute_error: 17.0428\n",
            "Epoch 5/100\n",
            "87/87 [==============================] - 0s 1ms/step - loss: 693.7571 - mean_absolute_error: 20.2201 - val_loss: 537.2123 - val_mean_absolute_error: 16.7782\n",
            "Epoch 6/100\n",
            "87/87 [==============================] - 0s 1ms/step - loss: 674.2430 - mean_absolute_error: 19.8217 - val_loss: 524.7251 - val_mean_absolute_error: 16.4932\n",
            "Epoch 7/100\n",
            "87/87 [==============================] - 0s 2ms/step - loss: 655.2895 - mean_absolute_error: 19.4777 - val_loss: 512.7397 - val_mean_absolute_error: 16.2372\n",
            "Epoch 8/100\n",
            "87/87 [==============================] - 0s 1ms/step - loss: 638.0362 - mean_absolute_error: 19.1492 - val_loss: 502.0672 - val_mean_absolute_error: 16.0292\n",
            "Epoch 9/100\n",
            "87/87 [==============================] - 0s 1ms/step - loss: 622.2676 - mean_absolute_error: 18.8389 - val_loss: 492.7399 - val_mean_absolute_error: 15.8572\n",
            "Epoch 10/100\n",
            "87/87 [==============================] - 0s 1ms/step - loss: 604.8440 - mean_absolute_error: 18.4938 - val_loss: 483.2729 - val_mean_absolute_error: 15.6806\n",
            "Epoch 11/100\n",
            "87/87 [==============================] - 0s 1ms/step - loss: 589.8610 - mean_absolute_error: 18.2261 - val_loss: 474.8539 - val_mean_absolute_error: 15.5258\n",
            "Epoch 12/100\n",
            "87/87 [==============================] - 0s 1ms/step - loss: 575.1056 - mean_absolute_error: 17.9647 - val_loss: 466.5602 - val_mean_absolute_error: 15.3566\n",
            "Epoch 13/100\n",
            "87/87 [==============================] - 0s 1ms/step - loss: 561.0822 - mean_absolute_error: 17.6733 - val_loss: 458.3653 - val_mean_absolute_error: 15.1937\n",
            "Epoch 14/100\n",
            "87/87 [==============================] - 0s 1ms/step - loss: 548.6622 - mean_absolute_error: 17.3920 - val_loss: 450.2278 - val_mean_absolute_error: 15.0414\n",
            "Epoch 15/100\n",
            "87/87 [==============================] - 0s 1ms/step - loss: 535.2717 - mean_absolute_error: 17.1439 - val_loss: 442.5302 - val_mean_absolute_error: 14.8785\n",
            "Epoch 16/100\n",
            "87/87 [==============================] - 0s 1ms/step - loss: 522.3094 - mean_absolute_error: 16.8679 - val_loss: 435.1458 - val_mean_absolute_error: 14.7151\n",
            "Epoch 17/100\n",
            "87/87 [==============================] - 0s 1ms/step - loss: 509.3776 - mean_absolute_error: 16.6270 - val_loss: 427.0960 - val_mean_absolute_error: 14.5433\n",
            "Epoch 18/100\n",
            "87/87 [==============================] - 0s 1ms/step - loss: 497.6685 - mean_absolute_error: 16.4095 - val_loss: 420.7843 - val_mean_absolute_error: 14.3858\n",
            "Epoch 19/100\n",
            "87/87 [==============================] - 0s 1ms/step - loss: 486.2877 - mean_absolute_error: 16.1993 - val_loss: 414.8261 - val_mean_absolute_error: 14.2265\n",
            "Epoch 20/100\n",
            "87/87 [==============================] - 0s 1ms/step - loss: 476.0509 - mean_absolute_error: 16.0203 - val_loss: 409.0623 - val_mean_absolute_error: 14.0768\n",
            "Epoch 21/100\n",
            "87/87 [==============================] - 0s 1ms/step - loss: 465.9988 - mean_absolute_error: 15.8596 - val_loss: 403.7238 - val_mean_absolute_error: 13.9667\n",
            "Epoch 22/100\n",
            "87/87 [==============================] - 0s 1ms/step - loss: 456.4959 - mean_absolute_error: 15.7243 - val_loss: 398.5286 - val_mean_absolute_error: 13.9041\n",
            "Epoch 23/100\n",
            "87/87 [==============================] - 0s 1ms/step - loss: 446.6480 - mean_absolute_error: 15.5373 - val_loss: 392.7149 - val_mean_absolute_error: 13.8258\n",
            "Epoch 24/100\n",
            "87/87 [==============================] - 0s 1ms/step - loss: 437.4582 - mean_absolute_error: 15.3896 - val_loss: 387.7703 - val_mean_absolute_error: 13.7608\n",
            "Epoch 25/100\n",
            "87/87 [==============================] - 0s 1ms/step - loss: 429.2919 - mean_absolute_error: 15.2125 - val_loss: 383.0199 - val_mean_absolute_error: 13.6969\n",
            "Epoch 26/100\n",
            "87/87 [==============================] - 0s 1ms/step - loss: 421.2418 - mean_absolute_error: 15.0735 - val_loss: 377.9925 - val_mean_absolute_error: 13.6397\n",
            "Epoch 27/100\n",
            "87/87 [==============================] - 0s 1ms/step - loss: 413.9244 - mean_absolute_error: 14.9318 - val_loss: 374.0064 - val_mean_absolute_error: 13.5727\n",
            "Epoch 28/100\n",
            "87/87 [==============================] - 0s 1ms/step - loss: 406.6160 - mean_absolute_error: 14.7828 - val_loss: 369.7466 - val_mean_absolute_error: 13.5009\n",
            "Epoch 29/100\n",
            "87/87 [==============================] - 0s 1ms/step - loss: 399.4688 - mean_absolute_error: 14.6413 - val_loss: 365.4230 - val_mean_absolute_error: 13.4226\n",
            "Epoch 30/100\n",
            "87/87 [==============================] - 0s 1ms/step - loss: 392.7793 - mean_absolute_error: 14.4882 - val_loss: 361.4996 - val_mean_absolute_error: 13.3572\n",
            "Epoch 31/100\n",
            "87/87 [==============================] - 0s 1ms/step - loss: 386.1746 - mean_absolute_error: 14.3586 - val_loss: 357.3931 - val_mean_absolute_error: 13.2990\n",
            "Epoch 32/100\n",
            "87/87 [==============================] - 0s 1ms/step - loss: 380.1178 - mean_absolute_error: 14.2580 - val_loss: 354.3113 - val_mean_absolute_error: 13.2679\n",
            "Epoch 33/100\n",
            "87/87 [==============================] - 0s 1ms/step - loss: 374.6823 - mean_absolute_error: 14.1557 - val_loss: 351.0979 - val_mean_absolute_error: 13.2288\n",
            "Epoch 34/100\n",
            "87/87 [==============================] - 0s 1ms/step - loss: 369.4705 - mean_absolute_error: 14.0619 - val_loss: 347.9121 - val_mean_absolute_error: 13.1917\n",
            "Epoch 35/100\n",
            "87/87 [==============================] - 0s 1ms/step - loss: 364.1749 - mean_absolute_error: 13.9367 - val_loss: 344.9663 - val_mean_absolute_error: 13.1719\n",
            "Epoch 36/100\n",
            "87/87 [==============================] - 0s 1ms/step - loss: 359.0317 - mean_absolute_error: 13.8469 - val_loss: 342.1209 - val_mean_absolute_error: 13.1306\n",
            "Epoch 37/100\n",
            "87/87 [==============================] - 0s 1ms/step - loss: 354.1446 - mean_absolute_error: 13.7568 - val_loss: 339.3396 - val_mean_absolute_error: 13.0906\n",
            "Epoch 38/100\n",
            "87/87 [==============================] - 0s 1ms/step - loss: 349.0174 - mean_absolute_error: 13.6649 - val_loss: 336.6402 - val_mean_absolute_error: 13.0536\n",
            "Epoch 39/100\n",
            "87/87 [==============================] - 0s 1ms/step - loss: 344.5932 - mean_absolute_error: 13.5651 - val_loss: 333.9193 - val_mean_absolute_error: 13.0112\n",
            "Epoch 40/100\n",
            "87/87 [==============================] - 0s 1ms/step - loss: 340.1417 - mean_absolute_error: 13.5013 - val_loss: 331.2414 - val_mean_absolute_error: 12.9749\n",
            "Epoch 41/100\n",
            "87/87 [==============================] - 0s 1ms/step - loss: 335.7322 - mean_absolute_error: 13.4618 - val_loss: 328.3186 - val_mean_absolute_error: 12.9355\n",
            "Epoch 42/100\n",
            "87/87 [==============================] - 0s 1ms/step - loss: 331.6066 - mean_absolute_error: 13.3657 - val_loss: 325.9310 - val_mean_absolute_error: 12.8921\n",
            "Epoch 43/100\n",
            "87/87 [==============================] - 0s 1ms/step - loss: 327.4034 - mean_absolute_error: 13.3500 - val_loss: 323.5724 - val_mean_absolute_error: 12.8486\n",
            "Epoch 44/100\n",
            "87/87 [==============================] - 0s 1ms/step - loss: 323.5339 - mean_absolute_error: 13.2808 - val_loss: 321.3300 - val_mean_absolute_error: 12.8185\n",
            "Epoch 45/100\n",
            "87/87 [==============================] - 0s 1ms/step - loss: 319.9385 - mean_absolute_error: 13.2261 - val_loss: 319.3276 - val_mean_absolute_error: 12.7852\n",
            "Epoch 46/100\n",
            "87/87 [==============================] - 0s 1ms/step - loss: 316.0327 - mean_absolute_error: 13.1771 - val_loss: 317.5513 - val_mean_absolute_error: 12.7630\n",
            "Epoch 47/100\n",
            "87/87 [==============================] - 0s 1ms/step - loss: 312.5116 - mean_absolute_error: 13.1083 - val_loss: 315.3736 - val_mean_absolute_error: 12.7486\n",
            "Epoch 48/100\n",
            "87/87 [==============================] - 0s 1ms/step - loss: 309.0319 - mean_absolute_error: 13.0542 - val_loss: 314.0921 - val_mean_absolute_error: 12.7392\n",
            "Epoch 49/100\n",
            "87/87 [==============================] - 0s 1ms/step - loss: 306.0333 - mean_absolute_error: 13.0144 - val_loss: 312.5254 - val_mean_absolute_error: 12.7175\n",
            "Epoch 50/100\n",
            "87/87 [==============================] - 0s 1ms/step - loss: 302.5248 - mean_absolute_error: 12.9455 - val_loss: 310.9832 - val_mean_absolute_error: 12.6866\n",
            "Epoch 51/100\n",
            "87/87 [==============================] - 0s 1ms/step - loss: 299.1157 - mean_absolute_error: 12.8898 - val_loss: 309.3567 - val_mean_absolute_error: 12.6704\n",
            "Epoch 52/100\n",
            "87/87 [==============================] - 0s 1ms/step - loss: 295.9653 - mean_absolute_error: 12.8605 - val_loss: 307.2801 - val_mean_absolute_error: 12.6687\n",
            "Epoch 53/100\n",
            "87/87 [==============================] - 0s 1ms/step - loss: 292.6204 - mean_absolute_error: 12.8323 - val_loss: 305.5127 - val_mean_absolute_error: 12.6723\n",
            "Epoch 54/100\n",
            "87/87 [==============================] - 0s 1ms/step - loss: 289.8873 - mean_absolute_error: 12.7506 - val_loss: 304.0177 - val_mean_absolute_error: 12.6752\n",
            "Epoch 55/100\n",
            "87/87 [==============================] - 0s 1ms/step - loss: 286.8649 - mean_absolute_error: 12.7072 - val_loss: 302.4305 - val_mean_absolute_error: 12.6728\n",
            "Epoch 56/100\n",
            "87/87 [==============================] - 0s 1ms/step - loss: 284.1589 - mean_absolute_error: 12.6565 - val_loss: 301.3751 - val_mean_absolute_error: 12.6832\n",
            "Epoch 57/100\n",
            "87/87 [==============================] - 0s 1ms/step - loss: 281.3815 - mean_absolute_error: 12.6084 - val_loss: 300.4916 - val_mean_absolute_error: 12.7016\n",
            "Epoch 58/100\n",
            "87/87 [==============================] - 0s 1ms/step - loss: 278.9361 - mean_absolute_error: 12.5598 - val_loss: 299.2407 - val_mean_absolute_error: 12.7143\n",
            "Epoch 59/100\n",
            "87/87 [==============================] - 0s 1ms/step - loss: 276.4408 - mean_absolute_error: 12.5013 - val_loss: 299.0382 - val_mean_absolute_error: 12.7416\n",
            "Epoch 60/100\n",
            "87/87 [==============================] - 0s 1ms/step - loss: 274.1019 - mean_absolute_error: 12.4562 - val_loss: 298.0062 - val_mean_absolute_error: 12.7553\n",
            "Epoch 61/100\n",
            "87/87 [==============================] - 0s 1ms/step - loss: 271.9112 - mean_absolute_error: 12.4039 - val_loss: 297.4846 - val_mean_absolute_error: 12.7809\n",
            "Epoch 62/100\n",
            "87/87 [==============================] - 0s 1ms/step - loss: 269.7555 - mean_absolute_error: 12.3703 - val_loss: 296.9989 - val_mean_absolute_error: 12.8048\n",
            "Epoch 63/100\n",
            "87/87 [==============================] - 0s 1ms/step - loss: 267.6083 - mean_absolute_error: 12.3193 - val_loss: 296.1301 - val_mean_absolute_error: 12.8255\n",
            "Epoch 64/100\n",
            "87/87 [==============================] - 0s 1ms/step - loss: 265.5199 - mean_absolute_error: 12.2894 - val_loss: 295.8845 - val_mean_absolute_error: 12.8591\n",
            "Epoch 65/100\n",
            "87/87 [==============================] - 0s 1ms/step - loss: 263.9525 - mean_absolute_error: 12.2578 - val_loss: 294.7991 - val_mean_absolute_error: 12.8739\n",
            "Epoch 66/100\n",
            "87/87 [==============================] - 0s 1ms/step - loss: 262.4711 - mean_absolute_error: 12.2164 - val_loss: 293.8649 - val_mean_absolute_error: 12.8931\n",
            "Epoch 67/100\n",
            "87/87 [==============================] - 0s 1ms/step - loss: 260.6697 - mean_absolute_error: 12.1852 - val_loss: 293.4849 - val_mean_absolute_error: 12.9221\n",
            "Epoch 68/100\n",
            "87/87 [==============================] - 0s 1ms/step - loss: 258.9895 - mean_absolute_error: 12.1487 - val_loss: 292.7772 - val_mean_absolute_error: 12.9394\n",
            "Epoch 69/100\n",
            "87/87 [==============================] - 0s 1ms/step - loss: 257.6841 - mean_absolute_error: 12.1195 - val_loss: 293.0081 - val_mean_absolute_error: 12.9869\n",
            "Epoch 70/100\n",
            "87/87 [==============================] - 0s 1ms/step - loss: 256.1005 - mean_absolute_error: 12.0929 - val_loss: 292.7771 - val_mean_absolute_error: 13.0207\n",
            "Epoch 71/100\n",
            "87/87 [==============================] - 0s 1ms/step - loss: 254.6162 - mean_absolute_error: 12.0624 - val_loss: 292.0390 - val_mean_absolute_error: 13.0271\n",
            "Epoch 72/100\n",
            "87/87 [==============================] - 0s 1ms/step - loss: 253.6352 - mean_absolute_error: 12.0309 - val_loss: 291.8395 - val_mean_absolute_error: 13.0485\n",
            "Epoch 73/100\n",
            "87/87 [==============================] - 0s 1ms/step - loss: 252.5458 - mean_absolute_error: 12.0264 - val_loss: 290.8550 - val_mean_absolute_error: 13.0526\n",
            "Epoch 74/100\n",
            "87/87 [==============================] - 0s 1ms/step - loss: 251.1675 - mean_absolute_error: 11.9922 - val_loss: 290.3932 - val_mean_absolute_error: 13.0629\n",
            "Epoch 75/100\n",
            "87/87 [==============================] - 0s 1ms/step - loss: 250.0918 - mean_absolute_error: 11.9766 - val_loss: 290.1920 - val_mean_absolute_error: 13.0825\n",
            "Epoch 76/100\n",
            "87/87 [==============================] - 0s 1ms/step - loss: 249.0815 - mean_absolute_error: 11.9336 - val_loss: 290.2299 - val_mean_absolute_error: 13.1075\n",
            "Epoch 77/100\n",
            "87/87 [==============================] - 0s 1ms/step - loss: 247.7984 - mean_absolute_error: 11.9028 - val_loss: 290.2832 - val_mean_absolute_error: 13.1324\n",
            "Epoch 78/100\n",
            "87/87 [==============================] - 0s 1ms/step - loss: 246.8934 - mean_absolute_error: 11.9002 - val_loss: 289.8369 - val_mean_absolute_error: 13.1442\n",
            "Epoch 79/100\n",
            "87/87 [==============================] - 0s 1ms/step - loss: 245.7970 - mean_absolute_error: 11.8774 - val_loss: 289.0619 - val_mean_absolute_error: 13.1383\n",
            "Epoch 80/100\n",
            "87/87 [==============================] - 0s 1ms/step - loss: 244.8637 - mean_absolute_error: 11.8449 - val_loss: 288.8824 - val_mean_absolute_error: 13.1571\n",
            "Epoch 81/100\n",
            "87/87 [==============================] - 0s 1ms/step - loss: 243.6169 - mean_absolute_error: 11.8122 - val_loss: 288.8935 - val_mean_absolute_error: 13.1718\n",
            "Epoch 82/100\n",
            "87/87 [==============================] - 0s 1ms/step - loss: 242.6946 - mean_absolute_error: 11.8066 - val_loss: 289.0692 - val_mean_absolute_error: 13.1866\n",
            "Epoch 83/100\n",
            "87/87 [==============================] - 0s 1ms/step - loss: 241.5712 - mean_absolute_error: 11.7883 - val_loss: 288.9964 - val_mean_absolute_error: 13.1989\n",
            "Epoch 84/100\n",
            "87/87 [==============================] - 0s 1ms/step - loss: 240.9806 - mean_absolute_error: 11.7632 - val_loss: 288.8174 - val_mean_absolute_error: 13.2003\n",
            "Epoch 85/100\n",
            "87/87 [==============================] - 0s 1ms/step - loss: 240.1500 - mean_absolute_error: 11.7412 - val_loss: 288.6231 - val_mean_absolute_error: 13.2047\n",
            "Epoch 86/100\n",
            "87/87 [==============================] - 0s 1ms/step - loss: 238.9765 - mean_absolute_error: 11.7219 - val_loss: 288.0008 - val_mean_absolute_error: 13.1887\n",
            "Epoch 87/100\n",
            "87/87 [==============================] - 0s 1ms/step - loss: 238.5950 - mean_absolute_error: 11.6981 - val_loss: 288.3900 - val_mean_absolute_error: 13.2069\n",
            "Epoch 88/100\n",
            "87/87 [==============================] - 0s 1ms/step - loss: 237.6405 - mean_absolute_error: 11.6904 - val_loss: 288.7221 - val_mean_absolute_error: 13.2176\n",
            "Epoch 89/100\n",
            "87/87 [==============================] - 0s 1ms/step - loss: 237.1041 - mean_absolute_error: 11.6487 - val_loss: 288.3978 - val_mean_absolute_error: 13.2203\n",
            "Epoch 90/100\n",
            "87/87 [==============================] - 0s 1ms/step - loss: 236.3406 - mean_absolute_error: 11.6502 - val_loss: 288.1842 - val_mean_absolute_error: 13.2213\n",
            "Epoch 91/100\n",
            "87/87 [==============================] - 0s 1ms/step - loss: 235.4207 - mean_absolute_error: 11.6223 - val_loss: 288.4439 - val_mean_absolute_error: 13.2370\n",
            "Epoch 92/100\n",
            "87/87 [==============================] - 0s 1ms/step - loss: 234.6207 - mean_absolute_error: 11.6074 - val_loss: 288.5022 - val_mean_absolute_error: 13.2484\n",
            "Epoch 93/100\n",
            "87/87 [==============================] - 0s 1ms/step - loss: 233.6898 - mean_absolute_error: 11.5986 - val_loss: 288.2803 - val_mean_absolute_error: 13.2410\n",
            "Epoch 94/100\n",
            "87/87 [==============================] - 0s 1ms/step - loss: 233.3976 - mean_absolute_error: 11.5672 - val_loss: 287.7137 - val_mean_absolute_error: 13.2306\n",
            "Epoch 95/100\n",
            "87/87 [==============================] - 0s 1ms/step - loss: 232.4686 - mean_absolute_error: 11.5615 - val_loss: 287.4485 - val_mean_absolute_error: 13.2314\n",
            "Epoch 96/100\n",
            "87/87 [==============================] - 0s 1ms/step - loss: 232.0984 - mean_absolute_error: 11.5648 - val_loss: 287.1798 - val_mean_absolute_error: 13.2323\n",
            "Epoch 97/100\n",
            "87/87 [==============================] - 0s 1ms/step - loss: 231.6453 - mean_absolute_error: 11.5378 - val_loss: 287.5815 - val_mean_absolute_error: 13.2426\n",
            "Epoch 98/100\n",
            "87/87 [==============================] - 0s 1ms/step - loss: 231.0611 - mean_absolute_error: 11.5352 - val_loss: 288.0105 - val_mean_absolute_error: 13.2548\n",
            "Epoch 99/100\n",
            "87/87 [==============================] - 0s 1ms/step - loss: 230.2598 - mean_absolute_error: 11.5085 - val_loss: 287.9793 - val_mean_absolute_error: 13.2604\n",
            "Epoch 100/100\n",
            "87/87 [==============================] - 0s 1ms/step - loss: 229.8851 - mean_absolute_error: 11.5014 - val_loss: 287.6801 - val_mean_absolute_error: 13.2577\n",
            "Train on 87 samples, validate on 44 samples\n",
            "Epoch 1/100\n",
            "87/87 [==============================] - 0s 6ms/step - loss: 609.3737 - mean_absolute_error: 20.0568 - val_loss: 1056.7226 - val_mean_absolute_error: 26.9300\n",
            "Epoch 2/100\n",
            "87/87 [==============================] - 0s 1ms/step - loss: 583.6769 - mean_absolute_error: 19.3532 - val_loss: 1035.7657 - val_mean_absolute_error: 26.4728\n",
            "Epoch 3/100\n",
            "87/87 [==============================] - 0s 1ms/step - loss: 558.7577 - mean_absolute_error: 18.7250 - val_loss: 1013.9921 - val_mean_absolute_error: 26.0091\n",
            "Epoch 4/100\n",
            "87/87 [==============================] - 0s 1ms/step - loss: 537.7040 - mean_absolute_error: 18.0738 - val_loss: 996.4823 - val_mean_absolute_error: 25.6199\n",
            "Epoch 5/100\n",
            "87/87 [==============================] - 0s 1ms/step - loss: 516.6850 - mean_absolute_error: 17.4443 - val_loss: 978.4586 - val_mean_absolute_error: 25.2308\n",
            "Epoch 6/100\n",
            "87/87 [==============================] - 0s 1ms/step - loss: 498.4081 - mean_absolute_error: 16.9133 - val_loss: 961.7317 - val_mean_absolute_error: 24.8947\n",
            "Epoch 7/100\n",
            "87/87 [==============================] - 0s 1ms/step - loss: 482.6720 - mean_absolute_error: 16.4313 - val_loss: 947.3059 - val_mean_absolute_error: 24.5920\n",
            "Epoch 8/100\n",
            "87/87 [==============================] - 0s 1ms/step - loss: 467.7713 - mean_absolute_error: 16.0392 - val_loss: 933.4975 - val_mean_absolute_error: 24.2891\n",
            "Epoch 9/100\n",
            "87/87 [==============================] - 0s 1ms/step - loss: 454.5438 - mean_absolute_error: 15.7376 - val_loss: 920.3909 - val_mean_absolute_error: 24.0190\n",
            "Epoch 10/100\n",
            "87/87 [==============================] - 0s 1ms/step - loss: 442.4270 - mean_absolute_error: 15.4498 - val_loss: 907.8299 - val_mean_absolute_error: 23.7878\n",
            "Epoch 11/100\n",
            "87/87 [==============================] - 0s 1ms/step - loss: 430.9301 - mean_absolute_error: 15.1795 - val_loss: 894.8151 - val_mean_absolute_error: 23.5738\n",
            "Epoch 12/100\n",
            "87/87 [==============================] - 0s 1ms/step - loss: 419.2869 - mean_absolute_error: 14.9577 - val_loss: 882.4099 - val_mean_absolute_error: 23.3728\n",
            "Epoch 13/100\n",
            "87/87 [==============================] - 0s 1ms/step - loss: 409.3509 - mean_absolute_error: 14.7540 - val_loss: 870.5102 - val_mean_absolute_error: 23.1878\n",
            "Epoch 14/100\n",
            "87/87 [==============================] - 0s 1ms/step - loss: 400.2647 - mean_absolute_error: 14.5649 - val_loss: 859.3211 - val_mean_absolute_error: 23.0129\n",
            "Epoch 15/100\n",
            "87/87 [==============================] - 0s 1ms/step - loss: 391.7524 - mean_absolute_error: 14.4130 - val_loss: 848.2406 - val_mean_absolute_error: 22.8347\n",
            "Epoch 16/100\n",
            "87/87 [==============================] - 0s 1ms/step - loss: 383.3220 - mean_absolute_error: 14.2614 - val_loss: 837.1803 - val_mean_absolute_error: 22.6677\n",
            "Epoch 17/100\n",
            "87/87 [==============================] - 0s 1ms/step - loss: 375.5275 - mean_absolute_error: 14.1131 - val_loss: 825.5958 - val_mean_absolute_error: 22.5104\n",
            "Epoch 18/100\n",
            "87/87 [==============================] - 0s 1ms/step - loss: 368.1324 - mean_absolute_error: 13.9535 - val_loss: 814.6808 - val_mean_absolute_error: 22.3790\n",
            "Epoch 19/100\n",
            "87/87 [==============================] - 0s 1ms/step - loss: 361.2439 - mean_absolute_error: 13.8241 - val_loss: 804.3831 - val_mean_absolute_error: 22.2444\n",
            "Epoch 20/100\n",
            "87/87 [==============================] - 0s 1ms/step - loss: 355.0611 - mean_absolute_error: 13.6913 - val_loss: 794.1896 - val_mean_absolute_error: 22.1025\n",
            "Epoch 21/100\n",
            "87/87 [==============================] - 0s 1ms/step - loss: 348.2443 - mean_absolute_error: 13.5744 - val_loss: 783.0182 - val_mean_absolute_error: 21.9397\n",
            "Epoch 22/100\n",
            "87/87 [==============================] - 0s 1ms/step - loss: 341.6975 - mean_absolute_error: 13.4499 - val_loss: 772.2372 - val_mean_absolute_error: 21.7712\n",
            "Epoch 23/100\n",
            "87/87 [==============================] - 0s 1ms/step - loss: 335.6850 - mean_absolute_error: 13.3176 - val_loss: 761.6049 - val_mean_absolute_error: 21.6060\n",
            "Epoch 24/100\n",
            "87/87 [==============================] - 0s 1ms/step - loss: 330.2765 - mean_absolute_error: 13.2247 - val_loss: 751.8854 - val_mean_absolute_error: 21.4553\n",
            "Epoch 25/100\n",
            "87/87 [==============================] - 0s 1ms/step - loss: 324.6762 - mean_absolute_error: 13.1068 - val_loss: 741.5376 - val_mean_absolute_error: 21.2864\n",
            "Epoch 26/100\n",
            "87/87 [==============================] - 0s 1ms/step - loss: 319.2861 - mean_absolute_error: 13.0022 - val_loss: 731.0690 - val_mean_absolute_error: 21.1117\n",
            "Epoch 27/100\n",
            "87/87 [==============================] - 0s 1ms/step - loss: 313.6736 - mean_absolute_error: 12.8994 - val_loss: 720.7147 - val_mean_absolute_error: 20.9294\n",
            "Epoch 28/100\n",
            "87/87 [==============================] - 0s 1ms/step - loss: 309.0208 - mean_absolute_error: 12.7973 - val_loss: 710.8107 - val_mean_absolute_error: 20.7502\n",
            "Epoch 29/100\n",
            "87/87 [==============================] - 0s 1ms/step - loss: 304.1820 - mean_absolute_error: 12.7010 - val_loss: 700.8261 - val_mean_absolute_error: 20.5614\n",
            "Epoch 30/100\n",
            "87/87 [==============================] - 0s 1ms/step - loss: 298.8201 - mean_absolute_error: 12.5966 - val_loss: 689.5087 - val_mean_absolute_error: 20.3482\n",
            "Epoch 31/100\n",
            "87/87 [==============================] - 0s 1ms/step - loss: 294.6997 - mean_absolute_error: 12.5016 - val_loss: 680.3210 - val_mean_absolute_error: 20.1871\n",
            "Epoch 32/100\n",
            "87/87 [==============================] - 0s 1ms/step - loss: 290.6485 - mean_absolute_error: 12.4004 - val_loss: 671.1526 - val_mean_absolute_error: 20.0159\n",
            "Epoch 33/100\n",
            "87/87 [==============================] - 0s 1ms/step - loss: 286.1204 - mean_absolute_error: 12.2928 - val_loss: 661.0190 - val_mean_absolute_error: 19.8513\n",
            "Epoch 34/100\n",
            "87/87 [==============================] - 0s 1ms/step - loss: 282.1697 - mean_absolute_error: 12.1951 - val_loss: 652.2530 - val_mean_absolute_error: 19.7173\n",
            "Epoch 35/100\n",
            "87/87 [==============================] - 0s 1ms/step - loss: 278.1856 - mean_absolute_error: 12.0869 - val_loss: 642.8908 - val_mean_absolute_error: 19.5758\n",
            "Epoch 36/100\n",
            "87/87 [==============================] - 0s 1ms/step - loss: 274.1456 - mean_absolute_error: 11.9750 - val_loss: 633.3696 - val_mean_absolute_error: 19.4368\n",
            "Epoch 37/100\n",
            "87/87 [==============================] - 0s 1ms/step - loss: 270.2741 - mean_absolute_error: 11.8765 - val_loss: 624.6225 - val_mean_absolute_error: 19.2965\n",
            "Epoch 38/100\n",
            "87/87 [==============================] - 0s 1ms/step - loss: 266.5743 - mean_absolute_error: 11.7912 - val_loss: 615.4731 - val_mean_absolute_error: 19.1577\n",
            "Epoch 39/100\n",
            "87/87 [==============================] - 0s 1ms/step - loss: 263.1418 - mean_absolute_error: 11.7051 - val_loss: 607.6646 - val_mean_absolute_error: 19.0312\n",
            "Epoch 40/100\n",
            "87/87 [==============================] - 0s 1ms/step - loss: 259.9060 - mean_absolute_error: 11.6291 - val_loss: 599.0863 - val_mean_absolute_error: 18.8887\n",
            "Epoch 41/100\n",
            "87/87 [==============================] - 0s 1ms/step - loss: 256.3352 - mean_absolute_error: 11.5315 - val_loss: 590.9474 - val_mean_absolute_error: 18.7467\n",
            "Epoch 42/100\n",
            "87/87 [==============================] - 0s 1ms/step - loss: 252.6853 - mean_absolute_error: 11.4333 - val_loss: 582.3368 - val_mean_absolute_error: 18.5968\n",
            "Epoch 43/100\n",
            "87/87 [==============================] - 0s 1ms/step - loss: 249.3406 - mean_absolute_error: 11.3525 - val_loss: 574.2441 - val_mean_absolute_error: 18.4487\n",
            "Epoch 44/100\n",
            "87/87 [==============================] - 0s 1ms/step - loss: 246.0309 - mean_absolute_error: 11.2670 - val_loss: 566.9360 - val_mean_absolute_error: 18.3120\n",
            "Epoch 45/100\n",
            "87/87 [==============================] - 0s 1ms/step - loss: 243.0538 - mean_absolute_error: 11.1895 - val_loss: 559.2367 - val_mean_absolute_error: 18.1620\n",
            "Epoch 46/100\n",
            "87/87 [==============================] - 0s 1ms/step - loss: 239.9661 - mean_absolute_error: 11.1253 - val_loss: 552.1806 - val_mean_absolute_error: 18.0235\n",
            "Epoch 47/100\n",
            "87/87 [==============================] - 0s 1ms/step - loss: 237.0738 - mean_absolute_error: 11.0383 - val_loss: 544.6161 - val_mean_absolute_error: 17.8720\n",
            "Epoch 48/100\n",
            "87/87 [==============================] - 0s 1ms/step - loss: 234.3794 - mean_absolute_error: 10.9707 - val_loss: 537.6699 - val_mean_absolute_error: 17.7267\n",
            "Epoch 49/100\n",
            "87/87 [==============================] - 0s 1ms/step - loss: 231.5731 - mean_absolute_error: 10.8896 - val_loss: 531.2563 - val_mean_absolute_error: 17.5864\n",
            "Epoch 50/100\n",
            "87/87 [==============================] - 0s 1ms/step - loss: 228.8189 - mean_absolute_error: 10.8036 - val_loss: 524.4910 - val_mean_absolute_error: 17.4462\n",
            "Epoch 51/100\n",
            "87/87 [==============================] - 0s 1ms/step - loss: 226.4443 - mean_absolute_error: 10.7173 - val_loss: 519.4145 - val_mean_absolute_error: 17.3438\n",
            "Epoch 52/100\n",
            "87/87 [==============================] - 0s 1ms/step - loss: 224.1809 - mean_absolute_error: 10.6666 - val_loss: 513.0803 - val_mean_absolute_error: 17.2511\n",
            "Epoch 53/100\n",
            "87/87 [==============================] - 0s 1ms/step - loss: 221.6250 - mean_absolute_error: 10.5738 - val_loss: 507.2218 - val_mean_absolute_error: 17.1594\n",
            "Epoch 54/100\n",
            "87/87 [==============================] - 0s 1ms/step - loss: 219.2985 - mean_absolute_error: 10.5026 - val_loss: 501.5448 - val_mean_absolute_error: 17.0661\n",
            "Epoch 55/100\n",
            "87/87 [==============================] - 0s 1ms/step - loss: 217.3913 - mean_absolute_error: 10.4518 - val_loss: 495.8283 - val_mean_absolute_error: 16.9704\n",
            "Epoch 56/100\n",
            "87/87 [==============================] - 0s 1ms/step - loss: 214.8629 - mean_absolute_error: 10.3883 - val_loss: 490.5279 - val_mean_absolute_error: 16.8789\n",
            "Epoch 57/100\n",
            "87/87 [==============================] - 0s 1ms/step - loss: 212.9921 - mean_absolute_error: 10.3234 - val_loss: 485.2740 - val_mean_absolute_error: 16.7844\n",
            "Epoch 58/100\n",
            "87/87 [==============================] - 0s 1ms/step - loss: 211.1034 - mean_absolute_error: 10.2662 - val_loss: 481.0339 - val_mean_absolute_error: 16.7080\n",
            "Epoch 59/100\n",
            "87/87 [==============================] - 0s 1ms/step - loss: 209.1253 - mean_absolute_error: 10.2154 - val_loss: 475.5460 - val_mean_absolute_error: 16.6113\n",
            "Epoch 60/100\n",
            "87/87 [==============================] - 0s 1ms/step - loss: 207.2467 - mean_absolute_error: 10.1829 - val_loss: 471.7508 - val_mean_absolute_error: 16.5397\n",
            "Epoch 61/100\n",
            "87/87 [==============================] - 0s 1ms/step - loss: 205.2626 - mean_absolute_error: 10.1370 - val_loss: 467.1497 - val_mean_absolute_error: 16.4599\n",
            "Epoch 62/100\n",
            "87/87 [==============================] - 0s 1ms/step - loss: 203.8450 - mean_absolute_error: 10.0957 - val_loss: 463.1492 - val_mean_absolute_error: 16.3844\n",
            "Epoch 63/100\n",
            "87/87 [==============================] - 0s 1ms/step - loss: 201.9002 - mean_absolute_error: 10.0474 - val_loss: 459.6750 - val_mean_absolute_error: 16.3101\n",
            "Epoch 64/100\n",
            "87/87 [==============================] - 0s 1ms/step - loss: 200.5616 - mean_absolute_error: 10.0017 - val_loss: 456.3976 - val_mean_absolute_error: 16.2450\n",
            "Epoch 65/100\n",
            "87/87 [==============================] - 0s 1ms/step - loss: 199.3496 - mean_absolute_error: 9.9927 - val_loss: 452.5833 - val_mean_absolute_error: 16.1665\n",
            "Epoch 66/100\n",
            "87/87 [==============================] - 0s 1ms/step - loss: 197.7315 - mean_absolute_error: 9.9509 - val_loss: 449.0103 - val_mean_absolute_error: 16.0849\n",
            "Epoch 67/100\n",
            "87/87 [==============================] - 0s 1ms/step - loss: 196.3421 - mean_absolute_error: 9.9163 - val_loss: 445.6846 - val_mean_absolute_error: 16.0135\n",
            "Epoch 68/100\n",
            "87/87 [==============================] - 0s 1ms/step - loss: 195.3125 - mean_absolute_error: 9.9024 - val_loss: 442.4592 - val_mean_absolute_error: 15.9451\n",
            "Epoch 69/100\n",
            "87/87 [==============================] - 0s 1ms/step - loss: 193.8150 - mean_absolute_error: 9.8886 - val_loss: 439.1515 - val_mean_absolute_error: 15.8724\n",
            "Epoch 70/100\n",
            "87/87 [==============================] - 0s 1ms/step - loss: 192.3711 - mean_absolute_error: 9.8610 - val_loss: 436.4707 - val_mean_absolute_error: 15.8128\n",
            "Epoch 71/100\n",
            "87/87 [==============================] - 0s 1ms/step - loss: 191.2411 - mean_absolute_error: 9.8395 - val_loss: 433.9497 - val_mean_absolute_error: 15.7546\n",
            "Epoch 72/100\n",
            "87/87 [==============================] - 0s 1ms/step - loss: 190.3075 - mean_absolute_error: 9.8273 - val_loss: 431.9598 - val_mean_absolute_error: 15.7004\n",
            "Epoch 73/100\n",
            "87/87 [==============================] - 0s 1ms/step - loss: 189.4979 - mean_absolute_error: 9.8287 - val_loss: 429.1705 - val_mean_absolute_error: 15.6408\n",
            "Epoch 74/100\n",
            "87/87 [==============================] - 0s 1ms/step - loss: 188.3593 - mean_absolute_error: 9.8003 - val_loss: 426.8549 - val_mean_absolute_error: 15.5823\n",
            "Epoch 75/100\n",
            "87/87 [==============================] - 0s 1ms/step - loss: 187.4689 - mean_absolute_error: 9.7932 - val_loss: 424.9748 - val_mean_absolute_error: 15.5299\n",
            "Epoch 76/100\n",
            "87/87 [==============================] - 0s 1ms/step - loss: 186.4302 - mean_absolute_error: 9.7752 - val_loss: 422.6315 - val_mean_absolute_error: 15.4727\n",
            "Epoch 77/100\n",
            "87/87 [==============================] - 0s 1ms/step - loss: 185.5235 - mean_absolute_error: 9.7636 - val_loss: 420.6371 - val_mean_absolute_error: 15.4209\n",
            "Epoch 78/100\n",
            "87/87 [==============================] - 0s 1ms/step - loss: 184.5236 - mean_absolute_error: 9.7522 - val_loss: 418.6428 - val_mean_absolute_error: 15.3735\n",
            "Epoch 79/100\n",
            "87/87 [==============================] - 0s 1ms/step - loss: 183.6344 - mean_absolute_error: 9.7175 - val_loss: 416.5331 - val_mean_absolute_error: 15.3149\n",
            "Epoch 80/100\n",
            "87/87 [==============================] - 0s 1ms/step - loss: 182.7899 - mean_absolute_error: 9.6951 - val_loss: 415.0735 - val_mean_absolute_error: 15.2769\n",
            "Epoch 81/100\n",
            "87/87 [==============================] - 0s 1ms/step - loss: 182.5490 - mean_absolute_error: 9.6846 - val_loss: 414.3379 - val_mean_absolute_error: 15.2638\n",
            "Epoch 82/100\n",
            "87/87 [==============================] - 0s 1ms/step - loss: 181.3824 - mean_absolute_error: 9.7004 - val_loss: 413.0710 - val_mean_absolute_error: 15.2373\n",
            "Epoch 83/100\n",
            "87/87 [==============================] - 0s 1ms/step - loss: 180.9054 - mean_absolute_error: 9.6958 - val_loss: 411.9936 - val_mean_absolute_error: 15.2221\n",
            "Epoch 84/100\n",
            "87/87 [==============================] - 0s 1ms/step - loss: 180.2604 - mean_absolute_error: 9.6552 - val_loss: 410.8179 - val_mean_absolute_error: 15.2140\n",
            "Epoch 85/100\n",
            "87/87 [==============================] - 0s 1ms/step - loss: 179.5775 - mean_absolute_error: 9.6467 - val_loss: 409.6784 - val_mean_absolute_error: 15.2051\n",
            "Epoch 86/100\n",
            "87/87 [==============================] - 0s 1ms/step - loss: 178.9150 - mean_absolute_error: 9.6613 - val_loss: 408.3685 - val_mean_absolute_error: 15.1918\n",
            "Epoch 87/100\n",
            "87/87 [==============================] - 0s 1ms/step - loss: 178.4124 - mean_absolute_error: 9.6513 - val_loss: 406.9331 - val_mean_absolute_error: 15.1772\n",
            "Epoch 88/100\n",
            "87/87 [==============================] - 0s 1ms/step - loss: 177.6874 - mean_absolute_error: 9.6087 - val_loss: 405.6305 - val_mean_absolute_error: 15.1642\n",
            "Epoch 89/100\n",
            "87/87 [==============================] - 0s 1ms/step - loss: 176.9583 - mean_absolute_error: 9.6121 - val_loss: 403.9650 - val_mean_absolute_error: 15.1434\n",
            "Epoch 90/100\n",
            "87/87 [==============================] - 0s 1ms/step - loss: 176.3446 - mean_absolute_error: 9.6255 - val_loss: 403.1616 - val_mean_absolute_error: 15.1356\n",
            "Epoch 91/100\n",
            "87/87 [==============================] - 0s 1ms/step - loss: 176.1137 - mean_absolute_error: 9.5996 - val_loss: 402.3986 - val_mean_absolute_error: 15.1256\n",
            "Epoch 92/100\n",
            "87/87 [==============================] - 0s 1ms/step - loss: 175.1735 - mean_absolute_error: 9.6032 - val_loss: 400.8669 - val_mean_absolute_error: 15.1069\n",
            "Epoch 93/100\n",
            "87/87 [==============================] - 0s 1ms/step - loss: 174.7699 - mean_absolute_error: 9.5954 - val_loss: 400.4588 - val_mean_absolute_error: 15.1055\n",
            "Epoch 94/100\n",
            "87/87 [==============================] - 0s 1ms/step - loss: 174.0600 - mean_absolute_error: 9.5687 - val_loss: 399.5985 - val_mean_absolute_error: 15.0960\n",
            "Epoch 95/100\n",
            "87/87 [==============================] - 0s 1ms/step - loss: 173.5151 - mean_absolute_error: 9.5685 - val_loss: 399.0504 - val_mean_absolute_error: 15.1056\n",
            "Epoch 96/100\n",
            "87/87 [==============================] - 0s 1ms/step - loss: 173.0131 - mean_absolute_error: 9.5414 - val_loss: 398.5230 - val_mean_absolute_error: 15.1168\n",
            "Epoch 97/100\n",
            "87/87 [==============================] - 0s 1ms/step - loss: 172.4677 - mean_absolute_error: 9.5185 - val_loss: 397.4603 - val_mean_absolute_error: 15.1186\n",
            "Epoch 98/100\n",
            "87/87 [==============================] - 0s 1ms/step - loss: 171.6891 - mean_absolute_error: 9.5094 - val_loss: 396.8617 - val_mean_absolute_error: 15.1248\n",
            "Epoch 99/100\n",
            "87/87 [==============================] - 0s 1ms/step - loss: 171.2478 - mean_absolute_error: 9.4843 - val_loss: 396.1397 - val_mean_absolute_error: 15.1280\n",
            "Epoch 100/100\n",
            "87/87 [==============================] - 0s 1ms/step - loss: 170.6775 - mean_absolute_error: 9.4901 - val_loss: 396.0457 - val_mean_absolute_error: 15.1463\n",
            "Train on 88 samples, validate on 43 samples\n",
            "Epoch 1/100\n",
            "88/88 [==============================] - 1s 6ms/step - loss: 721.7057 - mean_absolute_error: 20.6509 - val_loss: 448.6249 - val_mean_absolute_error: 16.3354\n",
            "Epoch 2/100\n",
            "88/88 [==============================] - 0s 1ms/step - loss: 704.1643 - mean_absolute_error: 20.2720 - val_loss: 433.3719 - val_mean_absolute_error: 15.9674\n",
            "Epoch 3/100\n",
            "88/88 [==============================] - 0s 1ms/step - loss: 686.1310 - mean_absolute_error: 19.8993 - val_loss: 418.3592 - val_mean_absolute_error: 15.6054\n",
            "Epoch 4/100\n",
            "88/88 [==============================] - 0s 1ms/step - loss: 666.0800 - mean_absolute_error: 19.5317 - val_loss: 401.7882 - val_mean_absolute_error: 15.2197\n",
            "Epoch 5/100\n",
            "88/88 [==============================] - 0s 1ms/step - loss: 647.2016 - mean_absolute_error: 19.1642 - val_loss: 386.5696 - val_mean_absolute_error: 14.9189\n",
            "Epoch 6/100\n",
            "88/88 [==============================] - 0s 1ms/step - loss: 628.6913 - mean_absolute_error: 18.7660 - val_loss: 372.1254 - val_mean_absolute_error: 14.6117\n",
            "Epoch 7/100\n",
            "88/88 [==============================] - 0s 1ms/step - loss: 609.1184 - mean_absolute_error: 18.3179 - val_loss: 357.0762 - val_mean_absolute_error: 14.2839\n",
            "Epoch 8/100\n",
            "88/88 [==============================] - 0s 1ms/step - loss: 590.5276 - mean_absolute_error: 17.9150 - val_loss: 343.8308 - val_mean_absolute_error: 13.9917\n",
            "Epoch 9/100\n",
            "88/88 [==============================] - 0s 1ms/step - loss: 572.8678 - mean_absolute_error: 17.5497 - val_loss: 331.5208 - val_mean_absolute_error: 13.6922\n",
            "Epoch 10/100\n",
            "88/88 [==============================] - 0s 1ms/step - loss: 554.3872 - mean_absolute_error: 17.1650 - val_loss: 319.4936 - val_mean_absolute_error: 13.3669\n",
            "Epoch 11/100\n",
            "88/88 [==============================] - 0s 1ms/step - loss: 536.8111 - mean_absolute_error: 16.7685 - val_loss: 308.8718 - val_mean_absolute_error: 13.1798\n",
            "Epoch 12/100\n",
            "88/88 [==============================] - 0s 1ms/step - loss: 520.0612 - mean_absolute_error: 16.3753 - val_loss: 299.3417 - val_mean_absolute_error: 13.0099\n",
            "Epoch 13/100\n",
            "88/88 [==============================] - 0s 1ms/step - loss: 504.2464 - mean_absolute_error: 16.0215 - val_loss: 290.6354 - val_mean_absolute_error: 12.8383\n",
            "Epoch 14/100\n",
            "88/88 [==============================] - 0s 1ms/step - loss: 488.7969 - mean_absolute_error: 15.7060 - val_loss: 282.7420 - val_mean_absolute_error: 12.6920\n",
            "Epoch 15/100\n",
            "88/88 [==============================] - 0s 1ms/step - loss: 475.2065 - mean_absolute_error: 15.3554 - val_loss: 275.6486 - val_mean_absolute_error: 12.5607\n",
            "Epoch 16/100\n",
            "88/88 [==============================] - 0s 1ms/step - loss: 461.9813 - mean_absolute_error: 15.0919 - val_loss: 269.9043 - val_mean_absolute_error: 12.4517\n",
            "Epoch 17/100\n",
            "88/88 [==============================] - 0s 1ms/step - loss: 449.2134 - mean_absolute_error: 14.8196 - val_loss: 264.7707 - val_mean_absolute_error: 12.3865\n",
            "Epoch 18/100\n",
            "88/88 [==============================] - 0s 1ms/step - loss: 437.9429 - mean_absolute_error: 14.6223 - val_loss: 260.3871 - val_mean_absolute_error: 12.3333\n",
            "Epoch 19/100\n",
            "88/88 [==============================] - 0s 1ms/step - loss: 427.0864 - mean_absolute_error: 14.4317 - val_loss: 256.5671 - val_mean_absolute_error: 12.2697\n",
            "Epoch 20/100\n",
            "88/88 [==============================] - 0s 1ms/step - loss: 417.1168 - mean_absolute_error: 14.2602 - val_loss: 252.9323 - val_mean_absolute_error: 12.2262\n",
            "Epoch 21/100\n",
            "88/88 [==============================] - 0s 1ms/step - loss: 407.2669 - mean_absolute_error: 14.1209 - val_loss: 249.2247 - val_mean_absolute_error: 12.1628\n",
            "Epoch 22/100\n",
            "88/88 [==============================] - 0s 1ms/step - loss: 398.6730 - mean_absolute_error: 13.9984 - val_loss: 245.8012 - val_mean_absolute_error: 12.0981\n",
            "Epoch 23/100\n",
            "88/88 [==============================] - 0s 1ms/step - loss: 389.8734 - mean_absolute_error: 13.8900 - val_loss: 242.5379 - val_mean_absolute_error: 12.0662\n",
            "Epoch 24/100\n",
            "88/88 [==============================] - 0s 1ms/step - loss: 381.6058 - mean_absolute_error: 13.7519 - val_loss: 239.8296 - val_mean_absolute_error: 12.0627\n",
            "Epoch 25/100\n",
            "88/88 [==============================] - 0s 1ms/step - loss: 374.4398 - mean_absolute_error: 13.6988 - val_loss: 237.4439 - val_mean_absolute_error: 12.0646\n",
            "Epoch 26/100\n",
            "88/88 [==============================] - 0s 1ms/step - loss: 367.1933 - mean_absolute_error: 13.6349 - val_loss: 235.4103 - val_mean_absolute_error: 12.0569\n",
            "Epoch 27/100\n",
            "88/88 [==============================] - 0s 1ms/step - loss: 360.9302 - mean_absolute_error: 13.5812 - val_loss: 232.7127 - val_mean_absolute_error: 12.0211\n",
            "Epoch 28/100\n",
            "88/88 [==============================] - 0s 1ms/step - loss: 355.2822 - mean_absolute_error: 13.5132 - val_loss: 229.8513 - val_mean_absolute_error: 11.9957\n",
            "Epoch 29/100\n",
            "88/88 [==============================] - 0s 1ms/step - loss: 349.8628 - mean_absolute_error: 13.4388 - val_loss: 227.9380 - val_mean_absolute_error: 11.9891\n",
            "Epoch 30/100\n",
            "88/88 [==============================] - 0s 1ms/step - loss: 344.6497 - mean_absolute_error: 13.4105 - val_loss: 226.1646 - val_mean_absolute_error: 11.9848\n",
            "Epoch 31/100\n",
            "88/88 [==============================] - 0s 1ms/step - loss: 339.7540 - mean_absolute_error: 13.3639 - val_loss: 224.5172 - val_mean_absolute_error: 11.9920\n",
            "Epoch 32/100\n",
            "88/88 [==============================] - 0s 1ms/step - loss: 335.3303 - mean_absolute_error: 13.3227 - val_loss: 223.2183 - val_mean_absolute_error: 11.9992\n",
            "Epoch 33/100\n",
            "88/88 [==============================] - 0s 1ms/step - loss: 330.9847 - mean_absolute_error: 13.2635 - val_loss: 222.2815 - val_mean_absolute_error: 12.0191\n",
            "Epoch 34/100\n",
            "88/88 [==============================] - 0s 1ms/step - loss: 327.0727 - mean_absolute_error: 13.2489 - val_loss: 220.9970 - val_mean_absolute_error: 12.0330\n",
            "Epoch 35/100\n",
            "88/88 [==============================] - 0s 1ms/step - loss: 322.9977 - mean_absolute_error: 13.2059 - val_loss: 220.0667 - val_mean_absolute_error: 12.0526\n",
            "Epoch 36/100\n",
            "88/88 [==============================] - 0s 1ms/step - loss: 319.4169 - mean_absolute_error: 13.1441 - val_loss: 218.5544 - val_mean_absolute_error: 12.0496\n",
            "Epoch 37/100\n",
            "88/88 [==============================] - 0s 1ms/step - loss: 316.0637 - mean_absolute_error: 13.1294 - val_loss: 217.8066 - val_mean_absolute_error: 12.0676\n",
            "Epoch 38/100\n",
            "88/88 [==============================] - 0s 1ms/step - loss: 312.3671 - mean_absolute_error: 13.1005 - val_loss: 216.6785 - val_mean_absolute_error: 12.0757\n",
            "Epoch 39/100\n",
            "88/88 [==============================] - 0s 1ms/step - loss: 309.4427 - mean_absolute_error: 13.0963 - val_loss: 215.6407 - val_mean_absolute_error: 12.0754\n",
            "Epoch 40/100\n",
            "88/88 [==============================] - 0s 1ms/step - loss: 307.0231 - mean_absolute_error: 13.0276 - val_loss: 214.7618 - val_mean_absolute_error: 12.0724\n",
            "Epoch 41/100\n",
            "88/88 [==============================] - 0s 1ms/step - loss: 304.3701 - mean_absolute_error: 13.0134 - val_loss: 213.9314 - val_mean_absolute_error: 12.0686\n",
            "Epoch 42/100\n",
            "88/88 [==============================] - 0s 1ms/step - loss: 301.4539 - mean_absolute_error: 12.9811 - val_loss: 213.2482 - val_mean_absolute_error: 12.0772\n",
            "Epoch 43/100\n",
            "88/88 [==============================] - 0s 1ms/step - loss: 298.9494 - mean_absolute_error: 12.9280 - val_loss: 212.3119 - val_mean_absolute_error: 12.0744\n",
            "Epoch 44/100\n",
            "88/88 [==============================] - 0s 1ms/step - loss: 296.3577 - mean_absolute_error: 12.8849 - val_loss: 210.5044 - val_mean_absolute_error: 12.0359\n",
            "Epoch 45/100\n",
            "88/88 [==============================] - 0s 1ms/step - loss: 293.6188 - mean_absolute_error: 12.8490 - val_loss: 210.0351 - val_mean_absolute_error: 12.0420\n",
            "Epoch 46/100\n",
            "88/88 [==============================] - 0s 1ms/step - loss: 291.2070 - mean_absolute_error: 12.8172 - val_loss: 209.7170 - val_mean_absolute_error: 12.0494\n",
            "Epoch 47/100\n",
            "88/88 [==============================] - 0s 1ms/step - loss: 289.5502 - mean_absolute_error: 12.8202 - val_loss: 209.2363 - val_mean_absolute_error: 12.0572\n",
            "Epoch 48/100\n",
            "88/88 [==============================] - 0s 1ms/step - loss: 287.4408 - mean_absolute_error: 12.7997 - val_loss: 208.6563 - val_mean_absolute_error: 12.0476\n",
            "Epoch 49/100\n",
            "88/88 [==============================] - 0s 1ms/step - loss: 285.3666 - mean_absolute_error: 12.7615 - val_loss: 207.7575 - val_mean_absolute_error: 12.0374\n",
            "Epoch 50/100\n",
            "88/88 [==============================] - 0s 1ms/step - loss: 283.4833 - mean_absolute_error: 12.7335 - val_loss: 206.9988 - val_mean_absolute_error: 12.0282\n",
            "Epoch 51/100\n",
            "88/88 [==============================] - 0s 1ms/step - loss: 281.6498 - mean_absolute_error: 12.7100 - val_loss: 206.3957 - val_mean_absolute_error: 12.0173\n",
            "Epoch 52/100\n",
            "88/88 [==============================] - 0s 1ms/step - loss: 280.0630 - mean_absolute_error: 12.6798 - val_loss: 205.8520 - val_mean_absolute_error: 12.0088\n",
            "Epoch 53/100\n",
            "88/88 [==============================] - 0s 1ms/step - loss: 278.0222 - mean_absolute_error: 12.6578 - val_loss: 205.3734 - val_mean_absolute_error: 12.0085\n",
            "Epoch 54/100\n",
            "88/88 [==============================] - 0s 1ms/step - loss: 276.6654 - mean_absolute_error: 12.6527 - val_loss: 204.6315 - val_mean_absolute_error: 11.9845\n",
            "Epoch 55/100\n",
            "88/88 [==============================] - 0s 1ms/step - loss: 275.0019 - mean_absolute_error: 12.5994 - val_loss: 204.0479 - val_mean_absolute_error: 11.9705\n",
            "Epoch 56/100\n",
            "88/88 [==============================] - 0s 1ms/step - loss: 273.1970 - mean_absolute_error: 12.5858 - val_loss: 203.6593 - val_mean_absolute_error: 11.9686\n",
            "Epoch 57/100\n",
            "88/88 [==============================] - 0s 1ms/step - loss: 271.8787 - mean_absolute_error: 12.5524 - val_loss: 203.4361 - val_mean_absolute_error: 11.9690\n",
            "Epoch 58/100\n",
            "88/88 [==============================] - 0s 1ms/step - loss: 270.3051 - mean_absolute_error: 12.5332 - val_loss: 202.8347 - val_mean_absolute_error: 11.9538\n",
            "Epoch 59/100\n",
            "88/88 [==============================] - 0s 1ms/step - loss: 269.3838 - mean_absolute_error: 12.5039 - val_loss: 202.6988 - val_mean_absolute_error: 11.9486\n",
            "Epoch 60/100\n",
            "88/88 [==============================] - 0s 1ms/step - loss: 268.3448 - mean_absolute_error: 12.4775 - val_loss: 202.1778 - val_mean_absolute_error: 11.9392\n",
            "Epoch 61/100\n",
            "88/88 [==============================] - 0s 1ms/step - loss: 267.2615 - mean_absolute_error: 12.4556 - val_loss: 201.9390 - val_mean_absolute_error: 11.9283\n",
            "Epoch 62/100\n",
            "88/88 [==============================] - 0s 1ms/step - loss: 266.3956 - mean_absolute_error: 12.4391 - val_loss: 201.1395 - val_mean_absolute_error: 11.9049\n",
            "Epoch 63/100\n",
            "88/88 [==============================] - 0s 1ms/step - loss: 264.9525 - mean_absolute_error: 12.4236 - val_loss: 201.0723 - val_mean_absolute_error: 11.8962\n",
            "Epoch 64/100\n",
            "88/88 [==============================] - 0s 1ms/step - loss: 264.3648 - mean_absolute_error: 12.3969 - val_loss: 200.6155 - val_mean_absolute_error: 11.8789\n",
            "Epoch 65/100\n",
            "88/88 [==============================] - 0s 1ms/step - loss: 263.5051 - mean_absolute_error: 12.3877 - val_loss: 200.1794 - val_mean_absolute_error: 11.8691\n",
            "Epoch 66/100\n",
            "88/88 [==============================] - 0s 1ms/step - loss: 262.4978 - mean_absolute_error: 12.3742 - val_loss: 199.9723 - val_mean_absolute_error: 11.8642\n",
            "Epoch 67/100\n",
            "88/88 [==============================] - 0s 1ms/step - loss: 261.6079 - mean_absolute_error: 12.3594 - val_loss: 199.8197 - val_mean_absolute_error: 11.8587\n",
            "Epoch 68/100\n",
            "88/88 [==============================] - 0s 1ms/step - loss: 260.8546 - mean_absolute_error: 12.3303 - val_loss: 199.5479 - val_mean_absolute_error: 11.8527\n",
            "Epoch 69/100\n",
            "88/88 [==============================] - 0s 1ms/step - loss: 260.0079 - mean_absolute_error: 12.3098 - val_loss: 199.2282 - val_mean_absolute_error: 11.8417\n",
            "Epoch 70/100\n",
            "88/88 [==============================] - 0s 1ms/step - loss: 259.1338 - mean_absolute_error: 12.2846 - val_loss: 199.1455 - val_mean_absolute_error: 11.8504\n",
            "Epoch 71/100\n",
            "88/88 [==============================] - 0s 1ms/step - loss: 258.5225 - mean_absolute_error: 12.2669 - val_loss: 198.8309 - val_mean_absolute_error: 11.8486\n",
            "Epoch 72/100\n",
            "88/88 [==============================] - 0s 1ms/step - loss: 258.0122 - mean_absolute_error: 12.2393 - val_loss: 198.9173 - val_mean_absolute_error: 11.8668\n",
            "Epoch 73/100\n",
            "88/88 [==============================] - 0s 1ms/step - loss: 257.2665 - mean_absolute_error: 12.2349 - val_loss: 198.4308 - val_mean_absolute_error: 11.8650\n",
            "Epoch 74/100\n",
            "88/88 [==============================] - 0s 1ms/step - loss: 256.3802 - mean_absolute_error: 12.2209 - val_loss: 198.2899 - val_mean_absolute_error: 11.8591\n",
            "Epoch 75/100\n",
            "88/88 [==============================] - 0s 1ms/step - loss: 255.8987 - mean_absolute_error: 12.1956 - val_loss: 198.3034 - val_mean_absolute_error: 11.8705\n",
            "Epoch 76/100\n",
            "88/88 [==============================] - 0s 1ms/step - loss: 255.1733 - mean_absolute_error: 12.1871 - val_loss: 198.5862 - val_mean_absolute_error: 11.8878\n",
            "Epoch 77/100\n",
            "88/88 [==============================] - 0s 1ms/step - loss: 254.6260 - mean_absolute_error: 12.1695 - val_loss: 198.7205 - val_mean_absolute_error: 11.8853\n",
            "Epoch 78/100\n",
            "88/88 [==============================] - 0s 1ms/step - loss: 254.3699 - mean_absolute_error: 12.1502 - val_loss: 198.6331 - val_mean_absolute_error: 11.9073\n",
            "Epoch 79/100\n",
            "88/88 [==============================] - 0s 1ms/step - loss: 253.6116 - mean_absolute_error: 12.1385 - val_loss: 198.0316 - val_mean_absolute_error: 11.8996\n",
            "Epoch 80/100\n",
            "88/88 [==============================] - 0s 1ms/step - loss: 252.9060 - mean_absolute_error: 12.1164 - val_loss: 197.8277 - val_mean_absolute_error: 11.8801\n",
            "Epoch 81/100\n",
            "88/88 [==============================] - 0s 1ms/step - loss: 252.6282 - mean_absolute_error: 12.1075 - val_loss: 197.7340 - val_mean_absolute_error: 11.8729\n",
            "Epoch 82/100\n",
            "88/88 [==============================] - 0s 1ms/step - loss: 252.1595 - mean_absolute_error: 12.0875 - val_loss: 198.1017 - val_mean_absolute_error: 11.8909\n",
            "Epoch 83/100\n",
            "88/88 [==============================] - 0s 1ms/step - loss: 251.4911 - mean_absolute_error: 12.0638 - val_loss: 198.3059 - val_mean_absolute_error: 11.8872\n",
            "Epoch 84/100\n",
            "88/88 [==============================] - 0s 1ms/step - loss: 251.1880 - mean_absolute_error: 12.0744 - val_loss: 198.2384 - val_mean_absolute_error: 11.8937\n",
            "Epoch 85/100\n",
            "88/88 [==============================] - 0s 1ms/step - loss: 250.8085 - mean_absolute_error: 12.0391 - val_loss: 197.9427 - val_mean_absolute_error: 11.8887\n",
            "Epoch 86/100\n",
            "88/88 [==============================] - 0s 1ms/step - loss: 250.1014 - mean_absolute_error: 12.0358 - val_loss: 197.9904 - val_mean_absolute_error: 11.8961\n",
            "Epoch 87/100\n",
            "88/88 [==============================] - 0s 1ms/step - loss: 249.7499 - mean_absolute_error: 12.0343 - val_loss: 198.3900 - val_mean_absolute_error: 11.9183\n",
            "Epoch 88/100\n",
            "88/88 [==============================] - 0s 1ms/step - loss: 249.3823 - mean_absolute_error: 12.0100 - val_loss: 198.5002 - val_mean_absolute_error: 11.9274\n",
            "Epoch 89/100\n",
            "88/88 [==============================] - 0s 1ms/step - loss: 248.9478 - mean_absolute_error: 11.9997 - val_loss: 198.7078 - val_mean_absolute_error: 11.9451\n",
            "Epoch 90/100\n",
            "88/88 [==============================] - 0s 1ms/step - loss: 248.4110 - mean_absolute_error: 12.0079 - val_loss: 198.9358 - val_mean_absolute_error: 11.9439\n",
            "Epoch 91/100\n",
            "88/88 [==============================] - 0s 1ms/step - loss: 248.1356 - mean_absolute_error: 11.9981 - val_loss: 199.0170 - val_mean_absolute_error: 11.9371\n",
            "Epoch 92/100\n",
            "88/88 [==============================] - 0s 1ms/step - loss: 247.7650 - mean_absolute_error: 11.9754 - val_loss: 199.3076 - val_mean_absolute_error: 11.9636\n",
            "Epoch 93/100\n",
            "88/88 [==============================] - 0s 1ms/step - loss: 247.6866 - mean_absolute_error: 11.9626 - val_loss: 199.4078 - val_mean_absolute_error: 11.9759\n",
            "Epoch 94/100\n",
            "88/88 [==============================] - 0s 1ms/step - loss: 247.0635 - mean_absolute_error: 11.9665 - val_loss: 199.0200 - val_mean_absolute_error: 11.9695\n",
            "Epoch 95/100\n",
            "88/88 [==============================] - 0s 1ms/step - loss: 247.0044 - mean_absolute_error: 11.9375 - val_loss: 198.7916 - val_mean_absolute_error: 11.9742\n",
            "Epoch 96/100\n",
            "88/88 [==============================] - 0s 1ms/step - loss: 246.7055 - mean_absolute_error: 11.9361 - val_loss: 198.7554 - val_mean_absolute_error: 11.9679\n",
            "Epoch 97/100\n",
            "88/88 [==============================] - 0s 1ms/step - loss: 246.7238 - mean_absolute_error: 11.9000 - val_loss: 199.0347 - val_mean_absolute_error: 11.9736\n",
            "Epoch 98/100\n",
            "88/88 [==============================] - 0s 1ms/step - loss: 246.0601 - mean_absolute_error: 11.9213 - val_loss: 199.4631 - val_mean_absolute_error: 11.9779\n",
            "Epoch 99/100\n",
            "88/88 [==============================] - 0s 1ms/step - loss: 245.6575 - mean_absolute_error: 11.9212 - val_loss: 199.9791 - val_mean_absolute_error: 11.9916\n",
            "Epoch 100/100\n",
            "88/88 [==============================] - 0s 1ms/step - loss: 245.3770 - mean_absolute_error: 11.9018 - val_loss: 200.4681 - val_mean_absolute_error: 12.0103\n"
          ],
          "name": "stdout"
        }
      ]
    },
    {
      "cell_type": "code",
      "metadata": {
        "id": "94CEJ7oXFbBz",
        "colab_type": "code",
        "colab": {}
      },
      "source": [
        "history_dict = history.history"
      ],
      "execution_count": 0,
      "outputs": []
    },
    {
      "cell_type": "code",
      "metadata": {
        "id": "nHuCip1WFiSL",
        "colab_type": "code",
        "outputId": "4650e125-f7f5-4864-b90e-45b8731603b4",
        "colab": {
          "base_uri": "https://localhost:8080/",
          "height": 35
        }
      },
      "source": [
        "history_dict.keys()"
      ],
      "execution_count": 0,
      "outputs": [
        {
          "output_type": "execute_result",
          "data": {
            "text/plain": [
              "dict_keys(['val_loss', 'val_mean_absolute_error', 'loss', 'mean_absolute_error'])"
            ]
          },
          "metadata": {
            "tags": []
          },
          "execution_count": 130
        }
      ]
    },
    {
      "cell_type": "code",
      "metadata": {
        "id": "Iyn-f0ZACLwH",
        "colab_type": "code",
        "colab": {}
      },
      "source": [
        "average_mae_val_history = [np.mean([x[i] for x in all_mae_val_histories]) for i in range(num_epochs)]\n",
        "average_mae_history = [np.mean([x[i] for x in all_mae_histories]) for i in range(num_epochs)]\n",
        "average_loss_val_history = [np.mean([x[i] for x in all_loss_val_histories]) for i in range(num_epochs)]\n",
        "average_loss_history = [np.mean([x[i] for x in all_loss_histories]) for i in range(num_epochs)]"
      ],
      "execution_count": 0,
      "outputs": []
    },
    {
      "cell_type": "markdown",
      "metadata": {
        "id": "_JFcHa2LGPXj",
        "colab_type": "text"
      },
      "source": [
        "#Plotting training and validation mae"
      ]
    },
    {
      "cell_type": "code",
      "metadata": {
        "id": "13s5AsNnFQ7F",
        "colab_type": "code",
        "outputId": "ebaa855b-884d-44a1-a38c-fe96a7297c7b",
        "colab": {
          "base_uri": "https://localhost:8080/",
          "height": 279
        }
      },
      "source": [
        "import matplotlib.pyplot as plt\n",
        "plt.plot(range(1, len(average_mae_val_history) + 1), average_mae_val_history, 'r', label='Validation mae')\n",
        "plt.plot(range(1, len(average_mae_history) + 1), average_mae_history, 'b', label='Training mae')\n",
        "plt.xlabel('Epochs')\n",
        "plt.ylabel('Validation MAE')\n",
        "plt.legend()\n",
        "plt.show()\n"
      ],
      "execution_count": 0,
      "outputs": [
        {
          "output_type": "display_data",
          "data": {
            "image/png": "[encoded data removed]",
            "text/plain": [
              "<Figure size 432x288 with 1 Axes>"
            ]
          },
          "metadata": {
            "tags": []
          }
        }
      ]
    },
    {
      "cell_type": "markdown",
      "metadata": {
        "id": "723BbzxdJtj-",
        "colab_type": "text"
      },
      "source": [
        "#Plotting training and validation loss"
      ]
    },
    {
      "cell_type": "code",
      "metadata": {
        "id": "tezhzHbMGguv",
        "colab_type": "code",
        "outputId": "b0a6ed79-4479-4c66-eda5-5df134e6fe61",
        "colab": {
          "base_uri": "https://localhost:8080/",
          "height": 279
        }
      },
      "source": [
        "import matplotlib.pyplot as plt\n",
        "plt.plot(range(1, len(average_loss_val_history) + 1), average_loss_val_history, 'r', label='Validation loss')\n",
        "plt.plot(range(1, len(average_loss_history) + 1), average_loss_history, 'b', label='Training loss')\n",
        "plt.xlabel('Epochs')\n",
        "plt.ylabel('Validation LOSS')\n",
        "plt.legend()\n",
        "plt.show()"
      ],
      "execution_count": 0,
      "outputs": [
        {
          "output_type": "display_data",
          "data": {
            "image/png": "[encoded data removed]",
            "text/plain": [
              "<Figure size 432x288 with 1 Axes>"
            ]
          },
          "metadata": {
            "tags": []
          }
        }
      ]
    },
    {
      "cell_type": "markdown",
      "metadata": {
        "id": "3cYo_1gJEMly",
        "colab_type": "text"
      },
      "source": [
        "#Test model\n"
      ]
    },
    {
      "cell_type": "code",
      "metadata": {
        "id": "ZiMorOCCKPF8",
        "colab_type": "code",
        "outputId": "30f5e7d5-183d-4f83-cd39-42425d4c30ae",
        "colab": {
          "base_uri": "https://localhost:8080/",
          "height": 35
        }
      },
      "source": [
        "model.fit(train_data_stand_pca, train_targets, epochs=80, batch_size=16, verbose=0)\n",
        "test_mse_score, test_mae_score = model.evaluate(test_data_stand_pca, test_targets)"
      ],
      "execution_count": 0,
      "outputs": [
        {
          "output_type": "stream",
          "text": [
            "34/34 [==============================] - 0s 154us/step\n"
          ],
          "name": "stdout"
        }
      ]
    },
    {
      "cell_type": "code",
      "metadata": {
        "id": "TiVCR2H6E1QB",
        "colab_type": "code",
        "outputId": "a92ca0db-d493-41ca-e90f-6898973049f7",
        "colab": {
          "base_uri": "https://localhost:8080/",
          "height": 35
        }
      },
      "source": [
        "test_mae_score"
      ],
      "execution_count": 0,
      "outputs": [
        {
          "output_type": "execute_result",
          "data": {
            "text/plain": [
              "13.401376051061293"
            ]
          },
          "metadata": {
            "tags": []
          },
          "execution_count": 135
        }
      ]
    },
    {
      "cell_type": "markdown",
      "metadata": {
        "id": "ABWJL0L_LWHj",
        "colab_type": "text"
      },
      "source": [
        "#Features correlate con l'aspettativa di vita"
      ]
    },
    {
      "cell_type": "markdown",
      "metadata": {
        "id": "10ZKR-e9PBA-",
        "colab_type": "text"
      },
      "source": [
        "Cerchiamo le features che correlano meglio con l'aspettativa di vita"
      ]
    },
    {
      "cell_type": "code",
      "metadata": {
        "id": "CU5F6eTxLPXQ",
        "colab_type": "code",
        "colab": {}
      },
      "source": [
        "train_data = df_train.drop(['Histology', 'OS', 'deadstatus.event','Overall_Stage'], axis=1)"
      ],
      "execution_count": 0,
      "outputs": []
    },
    {
      "cell_type": "markdown",
      "metadata": {
        "id": "jNLIWm3wPhnC",
        "colab_type": "text"
      },
      "source": [
        "Consideriamo train_data contenente anche 'Surv_time_months'. Calcoliamo la matrice di correlazione."
      ]
    },
    {
      "cell_type": "code",
      "metadata": {
        "id": "OTcb40dOPunT",
        "colab_type": "code",
        "outputId": "3a28fc9c-0851-4804-d467-6b484546404e",
        "colab": {
          "base_uri": "https://localhost:8080/",
          "height": 795
        }
      },
      "source": [
        "#Using Pearson Correlation\n",
        "plt.figure(figsize=(12,10))\n",
        "cor = train_data.corr()\n",
        "sns.heatmap(cor, cmap=plt.cm.Reds)\n",
        "plt.show()"
      ],
      "execution_count": 0,
      "outputs": [
        {
          "output_type": "display_data",
          "data": {
            "image/png": "[encoded data removed]",
            "text/plain": [
              "<Figure size 864x720 with 2 Axes>"
            ]
          },
          "metadata": {
            "tags": []
          }
        }
      ]
    },
    {
      "cell_type": "code",
      "metadata": {
        "id": "LLCVrC09QI_E",
        "colab_type": "code",
        "colab": {}
      },
      "source": [
        "#Correlation with output variable\n",
        "cor_target = abs(cor[\"Surv_time_months\"])"
      ],
      "execution_count": 0,
      "outputs": []
    },
    {
      "cell_type": "code",
      "metadata": {
        "id": "iWdhPr0QRQvx",
        "colab_type": "code",
        "outputId": "7b1670ee-e2d2-4439-fe4c-c081b92fdd16",
        "colab": {
          "base_uri": "https://localhost:8080/",
          "height": 237
        }
      },
      "source": [
        "cor_target"
      ],
      "execution_count": 0,
      "outputs": [
        {
          "output_type": "execute_result",
          "data": {
            "text/plain": [
              "Surv_time_months     1.000000\n",
              "VoxelVolume          0.318936\n",
              "Maximum3DDiameter    0.334456\n",
              "MeshVolume           0.318857\n",
              "MajorAxisLength      0.319466\n",
              "                       ...   \n",
              "Coarseness           0.236936\n",
              "Complexity           0.071161\n",
              "Strength             0.305331\n",
              "Contrast.1           0.202746\n",
              "Busyness             0.354545\n",
              "Name: Surv_time_months, Length: 108, dtype: float64"
            ]
          },
          "metadata": {
            "tags": []
          },
          "execution_count": 139
        }
      ]
    },
    {
      "cell_type": "code",
      "metadata": {
        "id": "Sk0Cex-KRYDg",
        "colab_type": "code",
        "outputId": "484a8c6c-36bb-483d-815e-a89ce2b5229f",
        "colab": {
          "base_uri": "https://localhost:8080/",
          "height": 403
        }
      },
      "source": [
        "#Selecting highly correlated features\n",
        "relevant_features = cor_target[cor_target>0.3]\n",
        "relevant_features"
      ],
      "execution_count": 0,
      "outputs": [
        {
          "output_type": "execute_result",
          "data": {
            "text/plain": [
              "Surv_time_months            1.000000\n",
              "VoxelVolume                 0.318936\n",
              "Maximum3DDiameter           0.334456\n",
              "MeshVolume                  0.318857\n",
              "MajorAxisLength             0.319466\n",
              "LeastAxisLength             0.332525\n",
              "SurfaceVolumeRatio          0.308066\n",
              "Maximum2DDiameterSlice      0.331666\n",
              "SurfaceArea                 0.346001\n",
              "MinorAxisLength             0.346330\n",
              "Maximum2DDiameterColumn     0.311450\n",
              "Maximum2DDiameterRow        0.371979\n",
              "DependenceNonUniformity     0.318601\n",
              "GrayLevelNonUniformity      0.301370\n",
              "GrayLevelNonUniformity.1    0.300326\n",
              "RunLengthNonUniformity      0.317132\n",
              "SizeZoneNonUniformity       0.319172\n",
              "GrayLevelNonUniformity.2    0.327871\n",
              "Strength                    0.305331\n",
              "Busyness                    0.354545\n",
              "Name: Surv_time_months, dtype: float64"
            ]
          },
          "metadata": {
            "tags": []
          },
          "execution_count": 140
        }
      ]
    },
    {
      "cell_type": "markdown",
      "metadata": {
        "id": "JInzRV9zR4y7",
        "colab_type": "text"
      },
      "source": [
        " However this is not the end of the process. One of the assumptions of linear regression is that the independent variables need to be uncorrelated with each other. If these variables are correlated with each other, then we need to keep only one of them and drop the rest."
      ]
    },
    {
      "cell_type": "code",
      "metadata": {
        "id": "ul4yubdzS56A",
        "colab_type": "code",
        "colab": {}
      },
      "source": [
        "relevant_features_list = list(relevant_features.index)"
      ],
      "execution_count": 0,
      "outputs": []
    },
    {
      "cell_type": "code",
      "metadata": {
        "id": "ZUsAt8XQ1Yxf",
        "colab_type": "code",
        "outputId": "469a3d6d-c5ee-42a3-85d0-ee2b7742b290",
        "colab": {
          "base_uri": "https://localhost:8080/",
          "height": 35
        }
      },
      "source": [
        "len(relevant_features_list)"
      ],
      "execution_count": 0,
      "outputs": [
        {
          "output_type": "execute_result",
          "data": {
            "text/plain": [
              "20"
            ]
          },
          "metadata": {
            "tags": []
          },
          "execution_count": 142
        }
      ]
    },
    {
      "cell_type": "markdown",
      "metadata": {
        "id": "NDJGsF7LTu4X",
        "colab_type": "text"
      },
      "source": [
        "Creaiamo un dataframe contente solo le features correlate con il 'Surv_time_months'\n"
      ]
    },
    {
      "cell_type": "code",
      "metadata": {
        "id": "HXpRv9JFWhME",
        "colab_type": "code",
        "colab": {}
      },
      "source": [
        "train_data_correlated = train_data[train_data.columns.intersection(relevant_features_list)]"
      ],
      "execution_count": 0,
      "outputs": []
    },
    {
      "cell_type": "code",
      "metadata": {
        "id": "4nnRUOMZT6h6",
        "colab_type": "code",
        "outputId": "5af66114-002e-46c5-beac-9e1a8859f1c5",
        "colab": {
          "base_uri": "https://localhost:8080/",
          "height": 109
        }
      },
      "source": [
        "train_data_correlated.drop('Surv_time_months', axis=1, inplace=True)"
      ],
      "execution_count": 0,
      "outputs": [
        {
          "output_type": "stream",
          "text": [
            "/usr/local/lib/python3.6/dist-packages/pandas/core/frame.py:4117: SettingWithCopyWarning: \n",
            "A value is trying to be set on a copy of a slice from a DataFrame\n",
            "\n",
            "See the caveats in the documentation: http://pandas.pydata.org/pandas-docs/stable/user_guide/indexing.html#returning-a-view-versus-a-copy\n",
            "  errors=errors,\n"
          ],
          "name": "stderr"
        }
      ]
    },
    {
      "cell_type": "code",
      "metadata": {
        "id": "HWAWgyDd1gfq",
        "colab_type": "code",
        "outputId": "b36d4c88-6cc6-4344-fe45-76180d635f39",
        "colab": {
          "base_uri": "https://localhost:8080/",
          "height": 35
        }
      },
      "source": [
        "train_data_correlated.shape"
      ],
      "execution_count": 0,
      "outputs": [
        {
          "output_type": "execute_result",
          "data": {
            "text/plain": [
              "(131, 19)"
            ]
          },
          "metadata": {
            "tags": []
          },
          "execution_count": 145
        }
      ]
    },
    {
      "cell_type": "code",
      "metadata": {
        "colab_type": "code",
        "id": "xasGwM6NS40X",
        "colab": {}
      },
      "source": [
        "#create a positive correlation matrix\n",
        "corr_df = train_data_correlated.corr().abs()"
      ],
      "execution_count": 0,
      "outputs": []
    },
    {
      "cell_type": "code",
      "metadata": {
        "id": "-W8ShRUvN63m",
        "colab_type": "code",
        "colab": {}
      },
      "source": [
        "#create and apply mask\n",
        "mask = np.triu(np.ones_like(corr_df, dtype=bool))"
      ],
      "execution_count": 0,
      "outputs": []
    },
    {
      "cell_type": "code",
      "metadata": {
        "id": "9DgfSECpOwPu",
        "colab_type": "code",
        "outputId": "424d172a-628a-41ef-b67f-06cfcd6f93f8",
        "colab": {
          "base_uri": "https://localhost:8080/",
          "height": 1000
        }
      },
      "source": [
        "mask"
      ],
      "execution_count": 0,
      "outputs": [
        {
          "output_type": "execute_result",
          "data": {
            "text/plain": [
              "array([[ True,  True,  True,  True,  True,  True,  True,  True,  True,\n",
              "         True,  True,  True,  True,  True,  True,  True,  True,  True,\n",
              "         True],\n",
              "       [False,  True,  True,  True,  True,  True,  True,  True,  True,\n",
              "         True,  True,  True,  True,  True,  True,  True,  True,  True,\n",
              "         True],\n",
              "       [False, False,  True,  True,  True,  True,  True,  True,  True,\n",
              "         True,  True,  True,  True,  True,  True,  True,  True,  True,\n",
              "         True],\n",
              "       [False, False, False,  True,  True,  True,  True,  True,  True,\n",
              "         True,  True,  True,  True,  True,  True,  True,  True,  True,\n",
              "         True],\n",
              "       [False, False, False, False,  True,  True,  True,  True,  True,\n",
              "         True,  True,  True,  True,  True,  True,  True,  True,  True,\n",
              "         True],\n",
              "       [False, False, False, False, False,  True,  True,  True,  True,\n",
              "         True,  True,  True,  True,  True,  True,  True,  True,  True,\n",
              "         True],\n",
              "       [False, False, False, False, False, False,  True,  True,  True,\n",
              "         True,  True,  True,  True,  True,  True,  True,  True,  True,\n",
              "         True],\n",
              "       [False, False, False, False, False, False, False,  True,  True,\n",
              "         True,  True,  True,  True,  True,  True,  True,  True,  True,\n",
              "         True],\n",
              "       [False, False, False, False, False, False, False, False,  True,\n",
              "         True,  True,  True,  True,  True,  True,  True,  True,  True,\n",
              "         True],\n",
              "       [False, False, False, False, False, False, False, False, False,\n",
              "         True,  True,  True,  True,  True,  True,  True,  True,  True,\n",
              "         True],\n",
              "       [False, False, False, False, False, False, False, False, False,\n",
              "        False,  True,  True,  True,  True,  True,  True,  True,  True,\n",
              "         True],\n",
              "       [False, False, False, False, False, False, False, False, False,\n",
              "        False, False,  True,  True,  True,  True,  True,  True,  True,\n",
              "         True],\n",
              "       [False, False, False, False, False, False, False, False, False,\n",
              "        False, False, False,  True,  True,  True,  True,  True,  True,\n",
              "         True],\n",
              "       [False, False, False, False, False, False, False, False, False,\n",
              "        False, False, False, False,  True,  True,  True,  True,  True,\n",
              "         True],\n",
              "       [False, False, False, False, False, False, False, False, False,\n",
              "        False, False, False, False, False,  True,  True,  True,  True,\n",
              "         True],\n",
              "       [False, False, False, False, False, False, False, False, False,\n",
              "        False, False, False, False, False, False,  True,  True,  True,\n",
              "         True],\n",
              "       [False, False, False, False, False, False, False, False, False,\n",
              "        False, False, False, False, False, False, False,  True,  True,\n",
              "         True],\n",
              "       [False, False, False, False, False, False, False, False, False,\n",
              "        False, False, False, False, False, False, False, False,  True,\n",
              "         True],\n",
              "       [False, False, False, False, False, False, False, False, False,\n",
              "        False, False, False, False, False, False, False, False, False,\n",
              "         True]])"
            ]
          },
          "metadata": {
            "tags": []
          },
          "execution_count": 148
        }
      ]
    },
    {
      "cell_type": "code",
      "metadata": {
        "id": "U5xQLptVOw6f",
        "colab_type": "code",
        "colab": {}
      },
      "source": [
        "tri_df = corr_df.mask(mask)"
      ],
      "execution_count": 0,
      "outputs": []
    },
    {
      "cell_type": "code",
      "metadata": {
        "id": "TeDvePEPO8mn",
        "colab_type": "code",
        "outputId": "556959fc-4979-486c-c965-3695a1c596bb",
        "colab": {
          "base_uri": "https://localhost:8080/",
          "height": 665
        }
      },
      "source": [
        "tri_df"
      ],
      "execution_count": 0,
      "outputs": [
        {
          "output_type": "execute_result",
          "data": {
            "text/html": [
              "<div>\n",
              "<style scoped>\n",
              "    .dataframe tbody tr th:only-of-type {\n",
              "        vertical-align: middle;\n",
              "    }\n",
              "\n",
              "    .dataframe tbody tr th {\n",
              "        vertical-align: top;\n",
              "    }\n",
              "\n",
              "    .dataframe thead th {\n",
              "        text-align: right;\n",
              "    }\n",
              "</style>\n",
              "<table border=\"1\" class=\"dataframe\">\n",
              "  <thead>\n",
              "    <tr style=\"text-align: right;\">\n",
              "      <th></th>\n",
              "      <th>VoxelVolume</th>\n",
              "      <th>Maximum3DDiameter</th>\n",
              "      <th>MeshVolume</th>\n",
              "      <th>MajorAxisLength</th>\n",
              "      <th>LeastAxisLength</th>\n",
              "      <th>SurfaceVolumeRatio</th>\n",
              "      <th>Maximum2DDiameterSlice</th>\n",
              "      <th>SurfaceArea</th>\n",
              "      <th>MinorAxisLength</th>\n",
              "      <th>Maximum2DDiameterColumn</th>\n",
              "      <th>Maximum2DDiameterRow</th>\n",
              "      <th>DependenceNonUniformity</th>\n",
              "      <th>GrayLevelNonUniformity</th>\n",
              "      <th>GrayLevelNonUniformity.1</th>\n",
              "      <th>RunLengthNonUniformity</th>\n",
              "      <th>SizeZoneNonUniformity</th>\n",
              "      <th>GrayLevelNonUniformity.2</th>\n",
              "      <th>Strength</th>\n",
              "      <th>Busyness</th>\n",
              "    </tr>\n",
              "  </thead>\n",
              "  <tbody>\n",
              "    <tr>\n",
              "      <th>VoxelVolume</th>\n",
              "      <td>NaN</td>\n",
              "      <td>NaN</td>\n",
              "      <td>NaN</td>\n",
              "      <td>NaN</td>\n",
              "      <td>NaN</td>\n",
              "      <td>NaN</td>\n",
              "      <td>NaN</td>\n",
              "      <td>NaN</td>\n",
              "      <td>NaN</td>\n",
              "      <td>NaN</td>\n",
              "      <td>NaN</td>\n",
              "      <td>NaN</td>\n",
              "      <td>NaN</td>\n",
              "      <td>NaN</td>\n",
              "      <td>NaN</td>\n",
              "      <td>NaN</td>\n",
              "      <td>NaN</td>\n",
              "      <td>NaN</td>\n",
              "      <td>NaN</td>\n",
              "    </tr>\n",
              "    <tr>\n",
              "      <th>Maximum3DDiameter</th>\n",
              "      <td>0.821982</td>\n",
              "      <td>NaN</td>\n",
              "      <td>NaN</td>\n",
              "      <td>NaN</td>\n",
              "      <td>NaN</td>\n",
              "      <td>NaN</td>\n",
              "      <td>NaN</td>\n",
              "      <td>NaN</td>\n",
              "      <td>NaN</td>\n",
              "      <td>NaN</td>\n",
              "      <td>NaN</td>\n",
              "      <td>NaN</td>\n",
              "      <td>NaN</td>\n",
              "      <td>NaN</td>\n",
              "      <td>NaN</td>\n",
              "      <td>NaN</td>\n",
              "      <td>NaN</td>\n",
              "      <td>NaN</td>\n",
              "      <td>NaN</td>\n",
              "    </tr>\n",
              "    <tr>\n",
              "      <th>MeshVolume</th>\n",
              "      <td>0.999999</td>\n",
              "      <td>0.821800</td>\n",
              "      <td>NaN</td>\n",
              "      <td>NaN</td>\n",
              "      <td>NaN</td>\n",
              "      <td>NaN</td>\n",
              "      <td>NaN</td>\n",
              "      <td>NaN</td>\n",
              "      <td>NaN</td>\n",
              "      <td>NaN</td>\n",
              "      <td>NaN</td>\n",
              "      <td>NaN</td>\n",
              "      <td>NaN</td>\n",
              "      <td>NaN</td>\n",
              "      <td>NaN</td>\n",
              "      <td>NaN</td>\n",
              "      <td>NaN</td>\n",
              "      <td>NaN</td>\n",
              "      <td>NaN</td>\n",
              "    </tr>\n",
              "    <tr>\n",
              "      <th>MajorAxisLength</th>\n",
              "      <td>0.785606</td>\n",
              "      <td>0.964760</td>\n",
              "      <td>0.785457</td>\n",
              "      <td>NaN</td>\n",
              "      <td>NaN</td>\n",
              "      <td>NaN</td>\n",
              "      <td>NaN</td>\n",
              "      <td>NaN</td>\n",
              "      <td>NaN</td>\n",
              "      <td>NaN</td>\n",
              "      <td>NaN</td>\n",
              "      <td>NaN</td>\n",
              "      <td>NaN</td>\n",
              "      <td>NaN</td>\n",
              "      <td>NaN</td>\n",
              "      <td>NaN</td>\n",
              "      <td>NaN</td>\n",
              "      <td>NaN</td>\n",
              "      <td>NaN</td>\n",
              "    </tr>\n",
              "    <tr>\n",
              "      <th>LeastAxisLength</th>\n",
              "      <td>0.898913</td>\n",
              "      <td>0.812696</td>\n",
              "      <td>0.898705</td>\n",
              "      <td>0.740991</td>\n",
              "      <td>NaN</td>\n",
              "      <td>NaN</td>\n",
              "      <td>NaN</td>\n",
              "      <td>NaN</td>\n",
              "      <td>NaN</td>\n",
              "      <td>NaN</td>\n",
              "      <td>NaN</td>\n",
              "      <td>NaN</td>\n",
              "      <td>NaN</td>\n",
              "      <td>NaN</td>\n",
              "      <td>NaN</td>\n",
              "      <td>NaN</td>\n",
              "      <td>NaN</td>\n",
              "      <td>NaN</td>\n",
              "      <td>NaN</td>\n",
              "    </tr>\n",
              "    <tr>\n",
              "      <th>SurfaceVolumeRatio</th>\n",
              "      <td>0.679146</td>\n",
              "      <td>0.683336</td>\n",
              "      <td>0.678962</td>\n",
              "      <td>0.609701</td>\n",
              "      <td>0.823132</td>\n",
              "      <td>NaN</td>\n",
              "      <td>NaN</td>\n",
              "      <td>NaN</td>\n",
              "      <td>NaN</td>\n",
              "      <td>NaN</td>\n",
              "      <td>NaN</td>\n",
              "      <td>NaN</td>\n",
              "      <td>NaN</td>\n",
              "      <td>NaN</td>\n",
              "      <td>NaN</td>\n",
              "      <td>NaN</td>\n",
              "      <td>NaN</td>\n",
              "      <td>NaN</td>\n",
              "      <td>NaN</td>\n",
              "    </tr>\n",
              "    <tr>\n",
              "      <th>Maximum2DDiameterSlice</th>\n",
              "      <td>0.832976</td>\n",
              "      <td>0.917765</td>\n",
              "      <td>0.832789</td>\n",
              "      <td>0.865958</td>\n",
              "      <td>0.867676</td>\n",
              "      <td>0.759756</td>\n",
              "      <td>NaN</td>\n",
              "      <td>NaN</td>\n",
              "      <td>NaN</td>\n",
              "      <td>NaN</td>\n",
              "      <td>NaN</td>\n",
              "      <td>NaN</td>\n",
              "      <td>NaN</td>\n",
              "      <td>NaN</td>\n",
              "      <td>NaN</td>\n",
              "      <td>NaN</td>\n",
              "      <td>NaN</td>\n",
              "      <td>NaN</td>\n",
              "      <td>NaN</td>\n",
              "    </tr>\n",
              "    <tr>\n",
              "      <th>SurfaceArea</th>\n",
              "      <td>0.950756</td>\n",
              "      <td>0.911623</td>\n",
              "      <td>0.950769</td>\n",
              "      <td>0.888151</td>\n",
              "      <td>0.893055</td>\n",
              "      <td>0.677085</td>\n",
              "      <td>0.899902</td>\n",
              "      <td>NaN</td>\n",
              "      <td>NaN</td>\n",
              "      <td>NaN</td>\n",
              "      <td>NaN</td>\n",
              "      <td>NaN</td>\n",
              "      <td>NaN</td>\n",
              "      <td>NaN</td>\n",
              "      <td>NaN</td>\n",
              "      <td>NaN</td>\n",
              "      <td>NaN</td>\n",
              "      <td>NaN</td>\n",
              "      <td>NaN</td>\n",
              "    </tr>\n",
              "    <tr>\n",
              "      <th>MinorAxisLength</th>\n",
              "      <td>0.889105</td>\n",
              "      <td>0.901223</td>\n",
              "      <td>0.888978</td>\n",
              "      <td>0.848934</td>\n",
              "      <td>0.914366</td>\n",
              "      <td>0.793887</td>\n",
              "      <td>0.933821</td>\n",
              "      <td>0.933720</td>\n",
              "      <td>NaN</td>\n",
              "      <td>NaN</td>\n",
              "      <td>NaN</td>\n",
              "      <td>NaN</td>\n",
              "      <td>NaN</td>\n",
              "      <td>NaN</td>\n",
              "      <td>NaN</td>\n",
              "      <td>NaN</td>\n",
              "      <td>NaN</td>\n",
              "      <td>NaN</td>\n",
              "      <td>NaN</td>\n",
              "    </tr>\n",
              "    <tr>\n",
              "      <th>Maximum2DDiameterColumn</th>\n",
              "      <td>0.838170</td>\n",
              "      <td>0.940584</td>\n",
              "      <td>0.838067</td>\n",
              "      <td>0.917987</td>\n",
              "      <td>0.840928</td>\n",
              "      <td>0.721090</td>\n",
              "      <td>0.854481</td>\n",
              "      <td>0.911587</td>\n",
              "      <td>0.903020</td>\n",
              "      <td>NaN</td>\n",
              "      <td>NaN</td>\n",
              "      <td>NaN</td>\n",
              "      <td>NaN</td>\n",
              "      <td>NaN</td>\n",
              "      <td>NaN</td>\n",
              "      <td>NaN</td>\n",
              "      <td>NaN</td>\n",
              "      <td>NaN</td>\n",
              "      <td>NaN</td>\n",
              "    </tr>\n",
              "    <tr>\n",
              "      <th>Maximum2DDiameterRow</th>\n",
              "      <td>0.837324</td>\n",
              "      <td>0.958797</td>\n",
              "      <td>0.837236</td>\n",
              "      <td>0.931021</td>\n",
              "      <td>0.824780</td>\n",
              "      <td>0.684041</td>\n",
              "      <td>0.894886</td>\n",
              "      <td>0.923385</td>\n",
              "      <td>0.905934</td>\n",
              "      <td>0.896480</td>\n",
              "      <td>NaN</td>\n",
              "      <td>NaN</td>\n",
              "      <td>NaN</td>\n",
              "      <td>NaN</td>\n",
              "      <td>NaN</td>\n",
              "      <td>NaN</td>\n",
              "      <td>NaN</td>\n",
              "      <td>NaN</td>\n",
              "      <td>NaN</td>\n",
              "    </tr>\n",
              "    <tr>\n",
              "      <th>DependenceNonUniformity</th>\n",
              "      <td>0.939428</td>\n",
              "      <td>0.786661</td>\n",
              "      <td>0.939282</td>\n",
              "      <td>0.757988</td>\n",
              "      <td>0.879470</td>\n",
              "      <td>0.652894</td>\n",
              "      <td>0.817453</td>\n",
              "      <td>0.912199</td>\n",
              "      <td>0.863849</td>\n",
              "      <td>0.807703</td>\n",
              "      <td>0.803411</td>\n",
              "      <td>NaN</td>\n",
              "      <td>NaN</td>\n",
              "      <td>NaN</td>\n",
              "      <td>NaN</td>\n",
              "      <td>NaN</td>\n",
              "      <td>NaN</td>\n",
              "      <td>NaN</td>\n",
              "      <td>NaN</td>\n",
              "    </tr>\n",
              "    <tr>\n",
              "      <th>GrayLevelNonUniformity</th>\n",
              "      <td>0.923283</td>\n",
              "      <td>0.741102</td>\n",
              "      <td>0.923458</td>\n",
              "      <td>0.705773</td>\n",
              "      <td>0.810092</td>\n",
              "      <td>0.609766</td>\n",
              "      <td>0.754980</td>\n",
              "      <td>0.876233</td>\n",
              "      <td>0.795919</td>\n",
              "      <td>0.744232</td>\n",
              "      <td>0.753937</td>\n",
              "      <td>0.781262</td>\n",
              "      <td>NaN</td>\n",
              "      <td>NaN</td>\n",
              "      <td>NaN</td>\n",
              "      <td>NaN</td>\n",
              "      <td>NaN</td>\n",
              "      <td>NaN</td>\n",
              "      <td>NaN</td>\n",
              "    </tr>\n",
              "    <tr>\n",
              "      <th>GrayLevelNonUniformity.1</th>\n",
              "      <td>0.938199</td>\n",
              "      <td>0.755681</td>\n",
              "      <td>0.938334</td>\n",
              "      <td>0.721520</td>\n",
              "      <td>0.835788</td>\n",
              "      <td>0.620703</td>\n",
              "      <td>0.778884</td>\n",
              "      <td>0.896563</td>\n",
              "      <td>0.817454</td>\n",
              "      <td>0.760698</td>\n",
              "      <td>0.767063</td>\n",
              "      <td>0.835083</td>\n",
              "      <td>0.988461</td>\n",
              "      <td>NaN</td>\n",
              "      <td>NaN</td>\n",
              "      <td>NaN</td>\n",
              "      <td>NaN</td>\n",
              "      <td>NaN</td>\n",
              "      <td>NaN</td>\n",
              "    </tr>\n",
              "    <tr>\n",
              "      <th>RunLengthNonUniformity</th>\n",
              "      <td>0.973643</td>\n",
              "      <td>0.812268</td>\n",
              "      <td>0.973528</td>\n",
              "      <td>0.780304</td>\n",
              "      <td>0.904172</td>\n",
              "      <td>0.677712</td>\n",
              "      <td>0.836669</td>\n",
              "      <td>0.938639</td>\n",
              "      <td>0.888059</td>\n",
              "      <td>0.834924</td>\n",
              "      <td>0.826696</td>\n",
              "      <td>0.990004</td>\n",
              "      <td>0.837815</td>\n",
              "      <td>0.881111</td>\n",
              "      <td>NaN</td>\n",
              "      <td>NaN</td>\n",
              "      <td>NaN</td>\n",
              "      <td>NaN</td>\n",
              "      <td>NaN</td>\n",
              "    </tr>\n",
              "    <tr>\n",
              "      <th>SizeZoneNonUniformity</th>\n",
              "      <td>0.899479</td>\n",
              "      <td>0.782626</td>\n",
              "      <td>0.899224</td>\n",
              "      <td>0.749641</td>\n",
              "      <td>0.847088</td>\n",
              "      <td>0.658989</td>\n",
              "      <td>0.795382</td>\n",
              "      <td>0.868533</td>\n",
              "      <td>0.846312</td>\n",
              "      <td>0.800372</td>\n",
              "      <td>0.795291</td>\n",
              "      <td>0.934154</td>\n",
              "      <td>0.700665</td>\n",
              "      <td>0.725067</td>\n",
              "      <td>0.933731</td>\n",
              "      <td>NaN</td>\n",
              "      <td>NaN</td>\n",
              "      <td>NaN</td>\n",
              "      <td>NaN</td>\n",
              "    </tr>\n",
              "    <tr>\n",
              "      <th>GrayLevelNonUniformity.2</th>\n",
              "      <td>0.922172</td>\n",
              "      <td>0.794181</td>\n",
              "      <td>0.922040</td>\n",
              "      <td>0.770526</td>\n",
              "      <td>0.867000</td>\n",
              "      <td>0.658712</td>\n",
              "      <td>0.836217</td>\n",
              "      <td>0.907326</td>\n",
              "      <td>0.862242</td>\n",
              "      <td>0.804944</td>\n",
              "      <td>0.805742</td>\n",
              "      <td>0.970570</td>\n",
              "      <td>0.797852</td>\n",
              "      <td>0.853753</td>\n",
              "      <td>0.965364</td>\n",
              "      <td>0.890715</td>\n",
              "      <td>NaN</td>\n",
              "      <td>NaN</td>\n",
              "      <td>NaN</td>\n",
              "    </tr>\n",
              "    <tr>\n",
              "      <th>Strength</th>\n",
              "      <td>0.510155</td>\n",
              "      <td>0.642559</td>\n",
              "      <td>0.509976</td>\n",
              "      <td>0.607597</td>\n",
              "      <td>0.645544</td>\n",
              "      <td>0.758610</td>\n",
              "      <td>0.670268</td>\n",
              "      <td>0.562243</td>\n",
              "      <td>0.659201</td>\n",
              "      <td>0.624228</td>\n",
              "      <td>0.620794</td>\n",
              "      <td>0.538344</td>\n",
              "      <td>0.425689</td>\n",
              "      <td>0.438144</td>\n",
              "      <td>0.530074</td>\n",
              "      <td>0.567592</td>\n",
              "      <td>0.552634</td>\n",
              "      <td>NaN</td>\n",
              "      <td>NaN</td>\n",
              "    </tr>\n",
              "    <tr>\n",
              "      <th>Busyness</th>\n",
              "      <td>0.937894</td>\n",
              "      <td>0.810919</td>\n",
              "      <td>0.937881</td>\n",
              "      <td>0.773599</td>\n",
              "      <td>0.870370</td>\n",
              "      <td>0.682675</td>\n",
              "      <td>0.843581</td>\n",
              "      <td>0.913619</td>\n",
              "      <td>0.867644</td>\n",
              "      <td>0.805965</td>\n",
              "      <td>0.828142</td>\n",
              "      <td>0.890974</td>\n",
              "      <td>0.884836</td>\n",
              "      <td>0.897903</td>\n",
              "      <td>0.915079</td>\n",
              "      <td>0.858147</td>\n",
              "      <td>0.912460</td>\n",
              "      <td>0.602417</td>\n",
              "      <td>NaN</td>\n",
              "    </tr>\n",
              "  </tbody>\n",
              "</table>\n",
              "</div>"
            ],
            "text/plain": [
              "                          VoxelVolume  Maximum3DDiameter  ...  Strength  Busyness\n",
              "VoxelVolume                       NaN                NaN  ...       NaN       NaN\n",
              "Maximum3DDiameter            0.821982                NaN  ...       NaN       NaN\n",
              "MeshVolume                   0.999999           0.821800  ...       NaN       NaN\n",
              "MajorAxisLength              0.785606           0.964760  ...       NaN       NaN\n",
              "LeastAxisLength              0.898913           0.812696  ...       NaN       NaN\n",
              "SurfaceVolumeRatio           0.679146           0.683336  ...       NaN       NaN\n",
              "Maximum2DDiameterSlice       0.832976           0.917765  ...       NaN       NaN\n",
              "SurfaceArea                  0.950756           0.911623  ...       NaN       NaN\n",
              "MinorAxisLength              0.889105           0.901223  ...       NaN       NaN\n",
              "Maximum2DDiameterColumn      0.838170           0.940584  ...       NaN       NaN\n",
              "Maximum2DDiameterRow         0.837324           0.958797  ...       NaN       NaN\n",
              "DependenceNonUniformity      0.939428           0.786661  ...       NaN       NaN\n",
              "GrayLevelNonUniformity       0.923283           0.741102  ...       NaN       NaN\n",
              "GrayLevelNonUniformity.1     0.938199           0.755681  ...       NaN       NaN\n",
              "RunLengthNonUniformity       0.973643           0.812268  ...       NaN       NaN\n",
              "SizeZoneNonUniformity        0.899479           0.782626  ...       NaN       NaN\n",
              "GrayLevelNonUniformity.2     0.922172           0.794181  ...       NaN       NaN\n",
              "Strength                     0.510155           0.642559  ...       NaN       NaN\n",
              "Busyness                     0.937894           0.810919  ...  0.602417       NaN\n",
              "\n",
              "[19 rows x 19 columns]"
            ]
          },
          "metadata": {
            "tags": []
          },
          "execution_count": 150
        }
      ]
    },
    {
      "cell_type": "code",
      "metadata": {
        "id": "PQ1MkWP2O9hU",
        "colab_type": "code",
        "outputId": "5b162ce7-a463-4a1a-f1d1-d56f405a2a53",
        "colab": {
          "base_uri": "https://localhost:8080/",
          "height": 237
        }
      },
      "source": [
        "#Find columns that meet threshold\n",
        "to_drop = [c for c in tri_df.columns if any(tri_df[c]>0.90)]\n",
        "to_drop"
      ],
      "execution_count": 0,
      "outputs": [
        {
          "output_type": "execute_result",
          "data": {
            "text/plain": [
              "['VoxelVolume',\n",
              " 'Maximum3DDiameter',\n",
              " 'MeshVolume',\n",
              " 'MajorAxisLength',\n",
              " 'LeastAxisLength',\n",
              " 'Maximum2DDiameterSlice',\n",
              " 'SurfaceArea',\n",
              " 'MinorAxisLength',\n",
              " 'DependenceNonUniformity',\n",
              " 'GrayLevelNonUniformity',\n",
              " 'RunLengthNonUniformity',\n",
              " 'GrayLevelNonUniformity.2']"
            ]
          },
          "metadata": {
            "tags": []
          },
          "execution_count": 151
        }
      ]
    },
    {
      "cell_type": "markdown",
      "metadata": {
        "id": "GwvKeereQoci",
        "colab_type": "text"
      },
      "source": [
        "The reason we used the mask to set half of the matrox to NA value is that we eant to avoid removing both features when thay have a strong correlation. "
      ]
    },
    {
      "cell_type": "code",
      "metadata": {
        "id": "32R-tG-WPNXR",
        "colab_type": "code",
        "colab": {}
      },
      "source": [
        "#Drop those columns\n",
        "train_data_correlated_reduced = train_data_correlated.drop(to_drop, axis=1)"
      ],
      "execution_count": 0,
      "outputs": []
    },
    {
      "cell_type": "code",
      "metadata": {
        "id": "yn-uuBifRO8G",
        "colab_type": "code",
        "outputId": "efaeb663-b08f-429b-f363-f45dbd4d20d9",
        "colab": {
          "base_uri": "https://localhost:8080/",
          "height": 35
        }
      },
      "source": [
        "train_data_correlated_reduced.shape"
      ],
      "execution_count": 0,
      "outputs": [
        {
          "output_type": "execute_result",
          "data": {
            "text/plain": [
              "(131, 7)"
            ]
          },
          "metadata": {
            "tags": []
          },
          "execution_count": 153
        }
      ]
    },
    {
      "cell_type": "markdown",
      "metadata": {
        "id": "1ljMaQeuSHe1",
        "colab_type": "text"
      },
      "source": [
        "funziona bene, però bisogna stare attenti a basarsi unicamente sul coefficiente di correlazione. Se y = x^2, x e y risulteranno scorrelate secondo il coeffiente di correlazione di Pearson."
      ]
    },
    {
      "cell_type": "code",
      "metadata": {
        "id": "7Lfc6k7CSe3X",
        "colab_type": "code",
        "outputId": "eff30ed0-3e27-4389-d3a5-8d0b9ff11f3c",
        "colab": {
          "base_uri": "https://localhost:8080/",
          "height": 424
        }
      },
      "source": [
        "train_data_correlated_reduced"
      ],
      "execution_count": 0,
      "outputs": [
        {
          "output_type": "execute_result",
          "data": {
            "text/html": [
              "<div>\n",
              "<style scoped>\n",
              "    .dataframe tbody tr th:only-of-type {\n",
              "        vertical-align: middle;\n",
              "    }\n",
              "\n",
              "    .dataframe tbody tr th {\n",
              "        vertical-align: top;\n",
              "    }\n",
              "\n",
              "    .dataframe thead th {\n",
              "        text-align: right;\n",
              "    }\n",
              "</style>\n",
              "<table border=\"1\" class=\"dataframe\">\n",
              "  <thead>\n",
              "    <tr style=\"text-align: right;\">\n",
              "      <th></th>\n",
              "      <th>SurfaceVolumeRatio</th>\n",
              "      <th>Maximum2DDiameterColumn</th>\n",
              "      <th>Maximum2DDiameterRow</th>\n",
              "      <th>GrayLevelNonUniformity.1</th>\n",
              "      <th>SizeZoneNonUniformity</th>\n",
              "      <th>Strength</th>\n",
              "      <th>Busyness</th>\n",
              "    </tr>\n",
              "  </thead>\n",
              "  <tbody>\n",
              "    <tr>\n",
              "      <th>0</th>\n",
              "      <td>0.199752</td>\n",
              "      <td>65.067279</td>\n",
              "      <td>55.325619</td>\n",
              "      <td>2288.112500</td>\n",
              "      <td>1145.238698</td>\n",
              "      <td>1.153806</td>\n",
              "      <td>1.306338</td>\n",
              "    </tr>\n",
              "    <tr>\n",
              "      <th>1</th>\n",
              "      <td>0.356577</td>\n",
              "      <td>32.760898</td>\n",
              "      <td>56.652510</td>\n",
              "      <td>262.139314</td>\n",
              "      <td>843.878866</td>\n",
              "      <td>2.266070</td>\n",
              "      <td>0.253533</td>\n",
              "    </tr>\n",
              "    <tr>\n",
              "      <th>2</th>\n",
              "      <td>0.242519</td>\n",
              "      <td>47.180420</td>\n",
              "      <td>46.322906</td>\n",
              "      <td>626.125860</td>\n",
              "      <td>1319.991542</td>\n",
              "      <td>1.238883</td>\n",
              "      <td>0.611772</td>\n",
              "    </tr>\n",
              "    <tr>\n",
              "      <th>3</th>\n",
              "      <td>0.234970</td>\n",
              "      <td>41.329017</td>\n",
              "      <td>46.543116</td>\n",
              "      <td>370.362301</td>\n",
              "      <td>1549.308668</td>\n",
              "      <td>1.157976</td>\n",
              "      <td>0.564313</td>\n",
              "    </tr>\n",
              "    <tr>\n",
              "      <th>4</th>\n",
              "      <td>0.159206</td>\n",
              "      <td>83.612205</td>\n",
              "      <td>70.719598</td>\n",
              "      <td>2318.917381</td>\n",
              "      <td>4857.474477</td>\n",
              "      <td>0.390430</td>\n",
              "      <td>1.804351</td>\n",
              "    </tr>\n",
              "    <tr>\n",
              "      <th>...</th>\n",
              "      <td>...</td>\n",
              "      <td>...</td>\n",
              "      <td>...</td>\n",
              "      <td>...</td>\n",
              "      <td>...</td>\n",
              "      <td>...</td>\n",
              "      <td>...</td>\n",
              "    </tr>\n",
              "    <tr>\n",
              "      <th>126</th>\n",
              "      <td>0.214251</td>\n",
              "      <td>76.812697</td>\n",
              "      <td>70.440926</td>\n",
              "      <td>2560.821913</td>\n",
              "      <td>1559.368341</td>\n",
              "      <td>1.669748</td>\n",
              "      <td>0.768631</td>\n",
              "    </tr>\n",
              "    <tr>\n",
              "      <th>127</th>\n",
              "      <td>0.255458</td>\n",
              "      <td>56.756518</td>\n",
              "      <td>92.308342</td>\n",
              "      <td>1604.384232</td>\n",
              "      <td>3219.516173</td>\n",
              "      <td>0.680747</td>\n",
              "      <td>1.374614</td>\n",
              "    </tr>\n",
              "    <tr>\n",
              "      <th>128</th>\n",
              "      <td>0.143462</td>\n",
              "      <td>87.676260</td>\n",
              "      <td>97.006463</td>\n",
              "      <td>7169.355208</td>\n",
              "      <td>3686.292297</td>\n",
              "      <td>0.965192</td>\n",
              "      <td>1.584828</td>\n",
              "    </tr>\n",
              "    <tr>\n",
              "      <th>129</th>\n",
              "      <td>0.432954</td>\n",
              "      <td>33.353194</td>\n",
              "      <td>31.198569</td>\n",
              "      <td>62.347996</td>\n",
              "      <td>688.557797</td>\n",
              "      <td>2.407473</td>\n",
              "      <td>0.249712</td>\n",
              "    </tr>\n",
              "    <tr>\n",
              "      <th>130</th>\n",
              "      <td>0.334973</td>\n",
              "      <td>42.806956</td>\n",
              "      <td>42.016181</td>\n",
              "      <td>405.315866</td>\n",
              "      <td>792.044138</td>\n",
              "      <td>3.257996</td>\n",
              "      <td>0.256154</td>\n",
              "    </tr>\n",
              "  </tbody>\n",
              "</table>\n",
              "<p>131 rows × 7 columns</p>\n",
              "</div>"
            ],
            "text/plain": [
              "     SurfaceVolumeRatio  Maximum2DDiameterColumn  ...  Strength  Busyness\n",
              "0              0.199752                65.067279  ...  1.153806  1.306338\n",
              "1              0.356577                32.760898  ...  2.266070  0.253533\n",
              "2              0.242519                47.180420  ...  1.238883  0.611772\n",
              "3              0.234970                41.329017  ...  1.157976  0.564313\n",
              "4              0.159206                83.612205  ...  0.390430  1.804351\n",
              "..                  ...                      ...  ...       ...       ...\n",
              "126            0.214251                76.812697  ...  1.669748  0.768631\n",
              "127            0.255458                56.756518  ...  0.680747  1.374614\n",
              "128            0.143462                87.676260  ...  0.965192  1.584828\n",
              "129            0.432954                33.353194  ...  2.407473  0.249712\n",
              "130            0.334973                42.806956  ...  3.257996  0.256154\n",
              "\n",
              "[131 rows x 7 columns]"
            ]
          },
          "metadata": {
            "tags": []
          },
          "execution_count": 154
        }
      ]
    },
    {
      "cell_type": "markdown",
      "metadata": {
        "id": "zRc7cM8kYegM",
        "colab_type": "text"
      },
      "source": [
        "Le features che correlano meglio con il 'Surv_time_months' e sono scorrelate tra loro sono: SurfaceVolumeRatio, Strength e\tBusyness. Il numero ovviamente dipende dalle soglie impostate."
      ]
    },
    {
      "cell_type": "markdown",
      "metadata": {
        "id": "J3oTB19E1l1U",
        "colab_type": "text"
      },
      "source": [
        "##Prova con train_data_correlated"
      ]
    },
    {
      "cell_type": "markdown",
      "metadata": {
        "colab_type": "text",
        "id": "lLM9x7oC4Psi"
      },
      "source": [
        "###Z score dei dati"
      ]
    },
    {
      "cell_type": "code",
      "metadata": {
        "colab_type": "code",
        "id": "FF1Ctccc4Psw",
        "colab": {}
      },
      "source": [
        "mean = train_data_correlated_reduced.mean(axis=0)\n",
        "train_data_correlated_reduced_stand = train_data_correlated_reduced - mean\n",
        "std = train_data_correlated_reduced.std(axis=0)\n",
        "train_data_correlated_reduced_stand /= std"
      ],
      "execution_count": 0,
      "outputs": []
    },
    {
      "cell_type": "code",
      "metadata": {
        "colab_type": "code",
        "id": "T-m6zOGn4PtO",
        "colab": {}
      },
      "source": [
        "#test_data_stand = test_data - mean\n",
        "#test_data_stand /= std"
      ],
      "execution_count": 0,
      "outputs": []
    },
    {
      "cell_type": "markdown",
      "metadata": {
        "colab_type": "text",
        "id": "LUR1f6IS6nHD"
      },
      "source": [
        "#Building Network"
      ]
    },
    {
      "cell_type": "code",
      "metadata": {
        "colab_type": "code",
        "id": "SYGQDYq06nHJ",
        "colab": {}
      },
      "source": [
        "from keras import models"
      ],
      "execution_count": 0,
      "outputs": []
    },
    {
      "cell_type": "code",
      "metadata": {
        "colab_type": "code",
        "id": "hQ0yVfwu6nHV",
        "colab": {}
      },
      "source": [
        "from keras import layers"
      ],
      "execution_count": 0,
      "outputs": []
    },
    {
      "cell_type": "code",
      "metadata": {
        "colab_type": "code",
        "id": "jdP4lGct6nHg",
        "colab": {}
      },
      "source": [
        "def build_model():\n",
        "  model = models.Sequential()\n",
        "  model.add(layers.Dense(4, activation='relu', input_shape=(7,)))\n",
        "  model.add(layers.Dense(1))\n",
        "  model.compile(optimizer='rmsprop', loss='mse', metrics=['mae'])\n",
        "  return model"
      ],
      "execution_count": 0,
      "outputs": []
    },
    {
      "cell_type": "markdown",
      "metadata": {
        "colab_type": "text",
        "id": "eTIRtpwA6nHn"
      },
      "source": [
        "Note that you compile the network with the mse loss function—mean squared error,\n",
        "the square of the difference between the predictions and the targets. This is a widely\n",
        "used loss function for regression problems.\n",
        "\n"
      ]
    },
    {
      "cell_type": "markdown",
      "metadata": {
        "colab_type": "text",
        "id": "uHkiKyvw6nHq"
      },
      "source": [
        "You’re also monitoring a new metric during training: mean absolute error (MAE). It’s\n",
        "the absolute value of the difference between the predictions and the targets. "
      ]
    },
    {
      "cell_type": "markdown",
      "metadata": {
        "colab_type": "text",
        "id": "fg_UG05R1vzz"
      },
      "source": [
        "###K-Fold"
      ]
    },
    {
      "cell_type": "code",
      "metadata": {
        "colab_type": "code",
        "id": "nSbdp7Gl1vz9",
        "colab": {}
      },
      "source": [
        "from sklearn.model_selection import KFold"
      ],
      "execution_count": 0,
      "outputs": []
    },
    {
      "cell_type": "code",
      "metadata": {
        "colab_type": "code",
        "outputId": "a9d4c1c0-a100-4f55-e60a-acbc56573573",
        "id": "eMWRAKVM1v0L",
        "colab": {
          "base_uri": "https://localhost:8080/",
          "height": 35
        }
      },
      "source": [
        "kf = KFold(n_splits=3, shuffle=True, random_state=1)\n",
        "kf.get_n_splits(train_data_correlated_reduced, train_targets)"
      ],
      "execution_count": 0,
      "outputs": [
        {
          "output_type": "execute_result",
          "data": {
            "text/plain": [
              "3"
            ]
          },
          "metadata": {
            "tags": []
          },
          "execution_count": 161
        }
      ]
    },
    {
      "cell_type": "code",
      "metadata": {
        "id": "X3-TjCQpXwa6",
        "colab_type": "code",
        "outputId": "46301df2-0ede-42a6-f14a-514a06807eda",
        "colab": {
          "base_uri": "https://localhost:8080/",
          "height": 35
        }
      },
      "source": [
        "type(train_data_correlated_reduced)"
      ],
      "execution_count": 0,
      "outputs": [
        {
          "output_type": "execute_result",
          "data": {
            "text/plain": [
              "numpy.ndarray"
            ]
          },
          "metadata": {
            "tags": []
          },
          "execution_count": 171
        }
      ]
    },
    {
      "cell_type": "code",
      "metadata": {
        "id": "0HZ_lOcQbU8e",
        "colab_type": "code",
        "colab": {}
      },
      "source": [
        "train_data_correlated_reduced = train_data_correlated_reduced.to_numpy()"
      ],
      "execution_count": 0,
      "outputs": []
    },
    {
      "cell_type": "code",
      "metadata": {
        "colab_type": "code",
        "outputId": "378a6bf9-2bc7-4e44-effe-ab14ff96cae0",
        "id": "LNlOcYcJ1v0X",
        "colab": {
          "base_uri": "https://localhost:8080/",
          "height": 403
        }
      },
      "source": [
        "for train_index, test_index in kf.split(train_data_correlated_reduced, train_targets):\n",
        "    print(\"TRAIN:\", train_index, \"TEST:\", test_index)"
      ],
      "execution_count": 0,
      "outputs": [
        {
          "output_type": "stream",
          "text": [
            "TRAIN: [  0   1   3   6   7   8   9  10  11  13  14  15  16  18  19  20  21  22\n",
            "  23  24  25  26  27  28  29  30  32  34  36  37  38  39  41  43  47  49\n",
            "  50  52  57  60  61  63  64  65  67  68  69  70  71  72  74  76  77  78\n",
            "  79  81  83  84  86  87  88  90  92  94  95  96  99 100 101 103 105 106\n",
            " 107 108 109 112 113 115 117 119 120 122 123 125 127 129 130] TEST: [  2   4   5  12  17  31  33  35  40  42  44  45  46  48  51  53  54  55\n",
            "  56  58  59  62  66  73  75  80  82  85  89  91  93  97  98 102 104 110\n",
            " 111 114 116 118 121 124 126 128]\n",
            "TRAIN: [  0   1   2   4   5   6   7   8   9  11  12  13  14  16  17  18  20  22\n",
            "  25  28  29  31  33  35  37  40  42  44  45  46  48  50  51  53  54  55\n",
            "  56  57  58  59  60  61  62  63  64  66  68  71  72  73  75  76  79  80\n",
            "  81  82  84  85  86  87  88  89  91  93  94  96  97  98 101 102 104 105\n",
            " 106 107 109 110 111 114 116 117 118 119 121 124 125 126 128] TEST: [  3  10  15  19  21  23  24  26  27  30  32  34  36  38  39  41  43  47\n",
            "  49  52  65  67  69  70  74  77  78  83  90  92  95  99 100 103 108 112\n",
            " 113 115 120 122 123 127 129 130]\n",
            "TRAIN: [  2   3   4   5  10  12  15  17  19  21  23  24  26  27  30  31  32  33\n",
            "  34  35  36  38  39  40  41  42  43  44  45  46  47  48  49  51  52  53\n",
            "  54  55  56  58  59  62  65  66  67  69  70  73  74  75  77  78  80  82\n",
            "  83  85  89  90  91  92  93  95  97  98  99 100 102 103 104 108 110 111\n",
            " 112 113 114 115 116 118 120 121 122 123 124 126 127 128 129 130] TEST: [  0   1   6   7   8   9  11  13  14  16  18  20  22  25  28  29  37  50\n",
            "  57  60  61  63  64  68  71  72  76  79  81  84  86  87  88  94  96 101\n",
            " 105 106 107 109 117 119 125]\n"
          ],
          "name": "stdout"
        }
      ]
    },
    {
      "cell_type": "code",
      "metadata": {
        "colab_type": "code",
        "outputId": "4a93d135-dc6c-4b1b-c619-96f6cebf7754",
        "id": "1ltxEyGR1v0i",
        "colab": {
          "base_uri": "https://localhost:8080/",
          "height": 1000
        }
      },
      "source": [
        "num_epochs = 100\n",
        "all_mae_histories = []\n",
        "all_mae_val_histories = []\n",
        "all_loss_histories = []\n",
        "all_loss_val_histories = []\n",
        "\n",
        "for train_index, val_index in kf.split(train_data_correlated_reduced, train_targets):\n",
        "  partial_train_data = np.array([train_data_correlated_reduced[i] for i in train_index])\n",
        "  partial_train_targets = np.array([train_targets[i] for i in train_index])\n",
        "  \n",
        "  val_data = np.array([train_data_correlated_reduced[i] for i in val_index])\n",
        "  val_targets = np.array([train_targets[i] for i in val_index])\n",
        "\n",
        "  model = build_model()\n",
        "  history = model.fit(partial_train_data, partial_train_targets, validation_data=(val_data, val_targets), \n",
        "                      epochs= num_epochs, batch_size=1)\n",
        "  \n",
        "  mae_history = history.history['mean_absolute_error']\n",
        "  all_mae_histories.append(mae_history)\n",
        "\n",
        "  mae_val_history = history.history['val_mean_absolute_error']\n",
        "  all_mae_val_histories.append(mae_val_history)\n",
        "\n",
        "  loss_history = history.history['loss']\n",
        "  all_loss_histories.append(loss_history)\n",
        "\n",
        "  loss_val_history = history.history['val_loss']\n",
        "  all_loss_val_histories.append(loss_val_history)\n"
      ],
      "execution_count": 0,
      "outputs": [
        {
          "output_type": "stream",
          "text": [
            "Train on 87 samples, validate on 44 samples\n",
            "Epoch 1/100\n",
            "87/87 [==============================] - 1s 7ms/step - loss: 1021405.2218 - mean_absolute_error: 584.4665 - val_loss: 1474657.8873 - val_mean_absolute_error: 706.1024\n",
            "Epoch 2/100\n",
            "87/87 [==============================] - 0s 1ms/step - loss: 689871.2374 - mean_absolute_error: 458.9558 - val_loss: 1039510.2873 - val_mean_absolute_error: 563.0625\n",
            "Epoch 3/100\n",
            "87/87 [==============================] - 0s 1ms/step - loss: 449668.6497 - mean_absolute_error: 352.7266 - val_loss: 686084.7013 - val_mean_absolute_error: 429.5309\n",
            "Epoch 4/100\n",
            "87/87 [==============================] - 0s 1ms/step - loss: 285258.5958 - mean_absolute_error: 265.2059 - val_loss: 454877.1600 - val_mean_absolute_error: 327.0246\n",
            "Epoch 5/100\n",
            "87/87 [==============================] - 0s 1ms/step - loss: 152666.7156 - mean_absolute_error: 191.1433 - val_loss: 277871.4415 - val_mean_absolute_error: 236.4369\n",
            "Epoch 6/100\n",
            "87/87 [==============================] - 0s 1ms/step - loss: 96453.0176 - mean_absolute_error: 138.2010 - val_loss: 187249.0736 - val_mean_absolute_error: 188.4957\n",
            "Epoch 7/100\n",
            "87/87 [==============================] - 0s 1ms/step - loss: 50852.2434 - mean_absolute_error: 96.0879 - val_loss: 114571.9087 - val_mean_absolute_error: 143.5829\n",
            "Epoch 8/100\n",
            "87/87 [==============================] - 0s 1ms/step - loss: 29505.7602 - mean_absolute_error: 69.0916 - val_loss: 72018.5353 - val_mean_absolute_error: 115.6045\n",
            "Epoch 9/100\n",
            "87/87 [==============================] - 0s 1ms/step - loss: 16777.6064 - mean_absolute_error: 48.8133 - val_loss: 45288.5810 - val_mean_absolute_error: 92.5447\n",
            "Epoch 10/100\n",
            "87/87 [==============================] - 0s 1ms/step - loss: 11468.7559 - mean_absolute_error: 40.2905 - val_loss: 30975.7623 - val_mean_absolute_error: 80.0081\n",
            "Epoch 11/100\n",
            "87/87 [==============================] - 0s 1ms/step - loss: 7344.8868 - mean_absolute_error: 33.7725 - val_loss: 20183.4783 - val_mean_absolute_error: 70.2054\n",
            "Epoch 12/100\n",
            "87/87 [==============================] - 0s 1ms/step - loss: 4426.8607 - mean_absolute_error: 29.0284 - val_loss: 11325.6010 - val_mean_absolute_error: 52.0839\n",
            "Epoch 13/100\n",
            "87/87 [==============================] - 0s 1ms/step - loss: 2278.9850 - mean_absolute_error: 23.5788 - val_loss: 6578.3337 - val_mean_absolute_error: 40.8806\n",
            "Epoch 14/100\n",
            "87/87 [==============================] - 0s 1ms/step - loss: 1043.0036 - mean_absolute_error: 19.9283 - val_loss: 3280.0676 - val_mean_absolute_error: 33.9174\n",
            "Epoch 15/100\n",
            "87/87 [==============================] - 0s 1ms/step - loss: 636.6044 - mean_absolute_error: 17.4967 - val_loss: 1608.6429 - val_mean_absolute_error: 24.9482\n",
            "Epoch 16/100\n",
            "87/87 [==============================] - 0s 1ms/step - loss: 487.2892 - mean_absolute_error: 16.2334 - val_loss: 1152.1336 - val_mean_absolute_error: 21.9508\n",
            "Epoch 17/100\n",
            "87/87 [==============================] - 0s 1ms/step - loss: 406.0355 - mean_absolute_error: 15.4169 - val_loss: 1229.6203 - val_mean_absolute_error: 25.1214\n",
            "Epoch 18/100\n",
            "87/87 [==============================] - 0s 1ms/step - loss: 372.0643 - mean_absolute_error: 15.1786 - val_loss: 739.9761 - val_mean_absolute_error: 19.0261\n",
            "Epoch 19/100\n",
            "87/87 [==============================] - 0s 1ms/step - loss: 390.8804 - mean_absolute_error: 15.0252 - val_loss: 686.7974 - val_mean_absolute_error: 18.5832\n",
            "Epoch 20/100\n",
            "87/87 [==============================] - 0s 1ms/step - loss: 369.5192 - mean_absolute_error: 14.5791 - val_loss: 929.6758 - val_mean_absolute_error: 22.3510\n",
            "Epoch 21/100\n",
            "87/87 [==============================] - 0s 1ms/step - loss: 366.9082 - mean_absolute_error: 15.1436 - val_loss: 947.8348 - val_mean_absolute_error: 22.8330\n",
            "Epoch 22/100\n",
            "87/87 [==============================] - 0s 1ms/step - loss: 362.7877 - mean_absolute_error: 14.9860 - val_loss: 750.6505 - val_mean_absolute_error: 19.3013\n",
            "Epoch 23/100\n",
            "87/87 [==============================] - 0s 1ms/step - loss: 354.0452 - mean_absolute_error: 14.4976 - val_loss: 905.4400 - val_mean_absolute_error: 22.5360\n",
            "Epoch 24/100\n",
            "87/87 [==============================] - 0s 1ms/step - loss: 351.1793 - mean_absolute_error: 14.1796 - val_loss: 846.3199 - val_mean_absolute_error: 19.3615\n",
            "Epoch 25/100\n",
            "87/87 [==============================] - 0s 1ms/step - loss: 360.5632 - mean_absolute_error: 14.6647 - val_loss: 843.6923 - val_mean_absolute_error: 20.3613\n",
            "Epoch 26/100\n",
            "87/87 [==============================] - 0s 1ms/step - loss: 362.9169 - mean_absolute_error: 14.7938 - val_loss: 762.5238 - val_mean_absolute_error: 19.4203\n",
            "Epoch 27/100\n",
            "87/87 [==============================] - 0s 1ms/step - loss: 355.5204 - mean_absolute_error: 14.4100 - val_loss: 832.6837 - val_mean_absolute_error: 20.6143\n",
            "Epoch 28/100\n",
            "87/87 [==============================] - 0s 1ms/step - loss: 339.7051 - mean_absolute_error: 14.5954 - val_loss: 739.3367 - val_mean_absolute_error: 19.2202\n",
            "Epoch 29/100\n",
            "87/87 [==============================] - 0s 1ms/step - loss: 349.6255 - mean_absolute_error: 14.7718 - val_loss: 723.7664 - val_mean_absolute_error: 19.2031\n",
            "Epoch 30/100\n",
            "87/87 [==============================] - 0s 1ms/step - loss: 352.6474 - mean_absolute_error: 14.1372 - val_loss: 893.6654 - val_mean_absolute_error: 22.0970\n",
            "Epoch 31/100\n",
            "87/87 [==============================] - 0s 1ms/step - loss: 335.5860 - mean_absolute_error: 14.4336 - val_loss: 678.0014 - val_mean_absolute_error: 18.3092\n",
            "Epoch 32/100\n",
            "87/87 [==============================] - 0s 1ms/step - loss: 332.2782 - mean_absolute_error: 14.1841 - val_loss: 954.9715 - val_mean_absolute_error: 23.2673\n",
            "Epoch 33/100\n",
            "87/87 [==============================] - 0s 1ms/step - loss: 338.2045 - mean_absolute_error: 14.4179 - val_loss: 879.3299 - val_mean_absolute_error: 22.1781\n",
            "Epoch 34/100\n",
            "87/87 [==============================] - 0s 1ms/step - loss: 338.3991 - mean_absolute_error: 14.1446 - val_loss: 712.6063 - val_mean_absolute_error: 19.7007\n",
            "Epoch 35/100\n",
            "87/87 [==============================] - 0s 2ms/step - loss: 331.0152 - mean_absolute_error: 14.2464 - val_loss: 759.9623 - val_mean_absolute_error: 20.6575\n",
            "Epoch 36/100\n",
            "87/87 [==============================] - 0s 1ms/step - loss: 326.9593 - mean_absolute_error: 14.2234 - val_loss: 704.8128 - val_mean_absolute_error: 18.5988\n",
            "Epoch 37/100\n",
            "87/87 [==============================] - 0s 1ms/step - loss: 339.6951 - mean_absolute_error: 14.1158 - val_loss: 772.5476 - val_mean_absolute_error: 20.1991\n",
            "Epoch 38/100\n",
            "87/87 [==============================] - 0s 1ms/step - loss: 331.2844 - mean_absolute_error: 14.1334 - val_loss: 807.9850 - val_mean_absolute_error: 20.5671\n",
            "Epoch 39/100\n",
            "87/87 [==============================] - 0s 1ms/step - loss: 327.7007 - mean_absolute_error: 14.1875 - val_loss: 695.4347 - val_mean_absolute_error: 18.3379\n",
            "Epoch 40/100\n",
            "87/87 [==============================] - 0s 1ms/step - loss: 341.8218 - mean_absolute_error: 14.0787 - val_loss: 817.1555 - val_mean_absolute_error: 20.9896\n",
            "Epoch 41/100\n",
            "87/87 [==============================] - 0s 1ms/step - loss: 332.1865 - mean_absolute_error: 13.8598 - val_loss: 738.4882 - val_mean_absolute_error: 19.8760\n",
            "Epoch 42/100\n",
            "87/87 [==============================] - 0s 1ms/step - loss: 316.5974 - mean_absolute_error: 13.8961 - val_loss: 681.5758 - val_mean_absolute_error: 17.9850\n",
            "Epoch 43/100\n",
            "87/87 [==============================] - 0s 1ms/step - loss: 331.8582 - mean_absolute_error: 13.9183 - val_loss: 798.7948 - val_mean_absolute_error: 20.4463\n",
            "Epoch 44/100\n",
            "87/87 [==============================] - 0s 1ms/step - loss: 340.5575 - mean_absolute_error: 14.1285 - val_loss: 750.0151 - val_mean_absolute_error: 19.5427\n",
            "Epoch 45/100\n",
            "87/87 [==============================] - 0s 1ms/step - loss: 331.9474 - mean_absolute_error: 14.0768 - val_loss: 751.1794 - val_mean_absolute_error: 19.6828\n",
            "Epoch 46/100\n",
            "87/87 [==============================] - 0s 1ms/step - loss: 313.5880 - mean_absolute_error: 13.8095 - val_loss: 786.7783 - val_mean_absolute_error: 20.3042\n",
            "Epoch 47/100\n",
            "87/87 [==============================] - 0s 1ms/step - loss: 327.1980 - mean_absolute_error: 13.9096 - val_loss: 754.4509 - val_mean_absolute_error: 19.7742\n",
            "Epoch 48/100\n",
            "87/87 [==============================] - 0s 1ms/step - loss: 315.0522 - mean_absolute_error: 13.8548 - val_loss: 691.3010 - val_mean_absolute_error: 18.5998\n",
            "Epoch 49/100\n",
            "87/87 [==============================] - 0s 1ms/step - loss: 312.9666 - mean_absolute_error: 13.7055 - val_loss: 667.3359 - val_mean_absolute_error: 18.0617\n",
            "Epoch 50/100\n",
            "87/87 [==============================] - 0s 1ms/step - loss: 312.3956 - mean_absolute_error: 13.8700 - val_loss: 638.3522 - val_mean_absolute_error: 17.2669\n",
            "Epoch 51/100\n",
            "87/87 [==============================] - 0s 1ms/step - loss: 319.1290 - mean_absolute_error: 14.0089 - val_loss: 770.0454 - val_mean_absolute_error: 19.9596\n",
            "Epoch 52/100\n",
            "87/87 [==============================] - 0s 1ms/step - loss: 342.5489 - mean_absolute_error: 14.1527 - val_loss: 716.1081 - val_mean_absolute_error: 19.0925\n",
            "Epoch 53/100\n",
            "87/87 [==============================] - 0s 1ms/step - loss: 324.2419 - mean_absolute_error: 13.7722 - val_loss: 1260.9769 - val_mean_absolute_error: 28.5747\n",
            "Epoch 54/100\n",
            "87/87 [==============================] - 0s 1ms/step - loss: 332.1508 - mean_absolute_error: 13.9301 - val_loss: 731.1698 - val_mean_absolute_error: 19.3320\n",
            "Epoch 55/100\n",
            "87/87 [==============================] - 0s 1ms/step - loss: 312.7932 - mean_absolute_error: 13.8171 - val_loss: 780.9287 - val_mean_absolute_error: 20.1165\n",
            "Epoch 56/100\n",
            "87/87 [==============================] - 0s 1ms/step - loss: 323.6693 - mean_absolute_error: 13.9600 - val_loss: 880.4750 - val_mean_absolute_error: 21.6386\n",
            "Epoch 57/100\n",
            "87/87 [==============================] - 0s 1ms/step - loss: 311.9292 - mean_absolute_error: 13.7058 - val_loss: 702.2389 - val_mean_absolute_error: 18.5472\n",
            "Epoch 58/100\n",
            "87/87 [==============================] - 0s 1ms/step - loss: 314.5004 - mean_absolute_error: 13.6688 - val_loss: 817.9655 - val_mean_absolute_error: 20.5660\n",
            "Epoch 59/100\n",
            "87/87 [==============================] - 0s 1ms/step - loss: 328.0309 - mean_absolute_error: 13.4488 - val_loss: 624.8061 - val_mean_absolute_error: 17.4351\n",
            "Epoch 60/100\n",
            "87/87 [==============================] - 0s 1ms/step - loss: 309.6487 - mean_absolute_error: 13.5512 - val_loss: 754.9200 - val_mean_absolute_error: 19.9178\n",
            "Epoch 61/100\n",
            "87/87 [==============================] - 0s 1ms/step - loss: 309.7396 - mean_absolute_error: 13.4883 - val_loss: 627.2677 - val_mean_absolute_error: 17.0259\n",
            "Epoch 62/100\n",
            "87/87 [==============================] - 0s 1ms/step - loss: 314.9631 - mean_absolute_error: 13.6795 - val_loss: 643.0632 - val_mean_absolute_error: 17.5937\n",
            "Epoch 63/100\n",
            "87/87 [==============================] - 0s 1ms/step - loss: 314.2975 - mean_absolute_error: 13.4860 - val_loss: 745.1171 - val_mean_absolute_error: 19.6293\n",
            "Epoch 64/100\n",
            "87/87 [==============================] - 0s 1ms/step - loss: 315.1180 - mean_absolute_error: 13.8476 - val_loss: 667.7580 - val_mean_absolute_error: 18.1488\n",
            "Epoch 65/100\n",
            "87/87 [==============================] - 0s 1ms/step - loss: 301.7661 - mean_absolute_error: 13.3503 - val_loss: 781.9116 - val_mean_absolute_error: 20.2814\n",
            "Epoch 66/100\n",
            "87/87 [==============================] - 0s 1ms/step - loss: 301.4370 - mean_absolute_error: 13.6116 - val_loss: 609.1017 - val_mean_absolute_error: 16.7670\n",
            "Epoch 67/100\n",
            "87/87 [==============================] - 0s 1ms/step - loss: 318.5115 - mean_absolute_error: 13.8793 - val_loss: 676.0817 - val_mean_absolute_error: 18.5754\n",
            "Epoch 68/100\n",
            "87/87 [==============================] - 0s 1ms/step - loss: 304.9625 - mean_absolute_error: 13.4064 - val_loss: 836.4514 - val_mean_absolute_error: 20.9906\n",
            "Epoch 69/100\n",
            "87/87 [==============================] - 0s 1ms/step - loss: 312.8998 - mean_absolute_error: 13.6040 - val_loss: 777.1404 - val_mean_absolute_error: 20.3260\n",
            "Epoch 70/100\n",
            "87/87 [==============================] - 0s 1ms/step - loss: 314.2802 - mean_absolute_error: 13.3761 - val_loss: 608.4828 - val_mean_absolute_error: 16.9856\n",
            "Epoch 71/100\n",
            "87/87 [==============================] - 0s 1ms/step - loss: 300.3927 - mean_absolute_error: 13.1656 - val_loss: 586.5410 - val_mean_absolute_error: 16.5827\n",
            "Epoch 72/100\n",
            "87/87 [==============================] - 0s 1ms/step - loss: 330.8801 - mean_absolute_error: 13.9043 - val_loss: 648.7549 - val_mean_absolute_error: 17.8812\n",
            "Epoch 73/100\n",
            "87/87 [==============================] - 0s 1ms/step - loss: 307.5525 - mean_absolute_error: 13.7102 - val_loss: 632.7862 - val_mean_absolute_error: 17.5436\n",
            "Epoch 74/100\n",
            "87/87 [==============================] - 0s 1ms/step - loss: 302.9773 - mean_absolute_error: 13.6140 - val_loss: 676.6423 - val_mean_absolute_error: 18.4646\n",
            "Epoch 75/100\n",
            "87/87 [==============================] - 0s 1ms/step - loss: 311.5614 - mean_absolute_error: 13.7137 - val_loss: 642.4896 - val_mean_absolute_error: 17.7782\n",
            "Epoch 76/100\n",
            "87/87 [==============================] - 0s 1ms/step - loss: 307.4238 - mean_absolute_error: 13.8382 - val_loss: 650.1754 - val_mean_absolute_error: 17.9325\n",
            "Epoch 77/100\n",
            "87/87 [==============================] - 0s 1ms/step - loss: 304.0265 - mean_absolute_error: 13.3725 - val_loss: 601.9479 - val_mean_absolute_error: 16.6839\n",
            "Epoch 78/100\n",
            "87/87 [==============================] - 0s 1ms/step - loss: 308.4480 - mean_absolute_error: 13.6394 - val_loss: 673.7473 - val_mean_absolute_error: 18.6535\n",
            "Epoch 79/100\n",
            "87/87 [==============================] - 0s 1ms/step - loss: 312.0255 - mean_absolute_error: 13.6658 - val_loss: 749.8656 - val_mean_absolute_error: 19.8740\n",
            "Epoch 80/100\n",
            "87/87 [==============================] - 0s 1ms/step - loss: 303.8296 - mean_absolute_error: 13.2800 - val_loss: 695.5316 - val_mean_absolute_error: 19.0104\n",
            "Epoch 81/100\n",
            "87/87 [==============================] - 0s 1ms/step - loss: 301.1598 - mean_absolute_error: 13.5380 - val_loss: 636.4452 - val_mean_absolute_error: 17.9222\n",
            "Epoch 82/100\n",
            "87/87 [==============================] - 0s 1ms/step - loss: 298.9773 - mean_absolute_error: 13.5155 - val_loss: 656.3181 - val_mean_absolute_error: 18.3617\n",
            "Epoch 83/100\n",
            "87/87 [==============================] - 0s 1ms/step - loss: 309.3561 - mean_absolute_error: 13.5382 - val_loss: 648.5973 - val_mean_absolute_error: 18.2345\n",
            "Epoch 84/100\n",
            "87/87 [==============================] - 0s 1ms/step - loss: 300.5108 - mean_absolute_error: 13.2587 - val_loss: 629.7967 - val_mean_absolute_error: 17.7468\n",
            "Epoch 85/100\n",
            "87/87 [==============================] - 0s 1ms/step - loss: 299.6223 - mean_absolute_error: 13.5937 - val_loss: 637.6162 - val_mean_absolute_error: 17.9925\n",
            "Epoch 86/100\n",
            "87/87 [==============================] - 0s 1ms/step - loss: 303.7957 - mean_absolute_error: 13.4576 - val_loss: 623.2431 - val_mean_absolute_error: 17.2082\n",
            "Epoch 87/100\n",
            "87/87 [==============================] - 0s 1ms/step - loss: 309.1028 - mean_absolute_error: 13.3086 - val_loss: 822.5360 - val_mean_absolute_error: 20.7197\n",
            "Epoch 88/100\n",
            "87/87 [==============================] - 0s 1ms/step - loss: 309.8690 - mean_absolute_error: 13.0914 - val_loss: 769.9300 - val_mean_absolute_error: 19.9983\n",
            "Epoch 89/100\n",
            "87/87 [==============================] - 0s 1ms/step - loss: 304.2174 - mean_absolute_error: 13.6039 - val_loss: 697.0632 - val_mean_absolute_error: 18.8747\n",
            "Epoch 90/100\n",
            "87/87 [==============================] - 0s 1ms/step - loss: 298.0304 - mean_absolute_error: 13.4307 - val_loss: 682.3903 - val_mean_absolute_error: 18.4299\n",
            "Epoch 91/100\n",
            "87/87 [==============================] - 0s 1ms/step - loss: 299.3099 - mean_absolute_error: 13.4430 - val_loss: 682.0129 - val_mean_absolute_error: 18.5795\n",
            "Epoch 92/100\n",
            "87/87 [==============================] - 0s 1ms/step - loss: 306.6413 - mean_absolute_error: 13.1673 - val_loss: 714.0014 - val_mean_absolute_error: 19.0565\n",
            "Epoch 93/100\n",
            "87/87 [==============================] - 0s 1ms/step - loss: 302.5187 - mean_absolute_error: 13.4462 - val_loss: 670.2805 - val_mean_absolute_error: 18.4538\n",
            "Epoch 94/100\n",
            "87/87 [==============================] - 0s 1ms/step - loss: 304.1449 - mean_absolute_error: 13.4448 - val_loss: 705.3487 - val_mean_absolute_error: 18.7092\n",
            "Epoch 95/100\n",
            "87/87 [==============================] - 0s 1ms/step - loss: 298.1479 - mean_absolute_error: 13.1121 - val_loss: 620.2160 - val_mean_absolute_error: 16.6841\n",
            "Epoch 96/100\n",
            "87/87 [==============================] - 0s 1ms/step - loss: 300.7775 - mean_absolute_error: 13.2818 - val_loss: 781.3966 - val_mean_absolute_error: 19.8061\n",
            "Epoch 97/100\n",
            "87/87 [==============================] - 0s 1ms/step - loss: 295.2569 - mean_absolute_error: 13.3805 - val_loss: 654.1387 - val_mean_absolute_error: 17.9745\n",
            "Epoch 98/100\n",
            "87/87 [==============================] - 0s 1ms/step - loss: 302.3702 - mean_absolute_error: 12.9473 - val_loss: 652.5493 - val_mean_absolute_error: 17.8136\n",
            "Epoch 99/100\n",
            "87/87 [==============================] - 0s 1ms/step - loss: 312.6494 - mean_absolute_error: 13.5362 - val_loss: 655.2304 - val_mean_absolute_error: 17.9688\n",
            "Epoch 100/100\n",
            "87/87 [==============================] - 0s 1ms/step - loss: 309.8319 - mean_absolute_error: 13.2337 - val_loss: 707.6352 - val_mean_absolute_error: 18.9084\n",
            "Train on 87 samples, validate on 44 samples\n",
            "Epoch 1/100\n",
            "87/87 [==============================] - 1s 7ms/step - loss: 5490383.8488 - mean_absolute_error: 1727.4232 - val_loss: 3186678.3093 - val_mean_absolute_error: 1171.2789\n",
            "Epoch 2/100\n",
            "87/87 [==============================] - 0s 1ms/step - loss: 3779993.4291 - mean_absolute_error: 1437.9929 - val_loss: 2192645.3835 - val_mean_absolute_error: 965.3367\n",
            "Epoch 3/100\n",
            "87/87 [==============================] - 0s 1ms/step - loss: 2596808.1230 - mean_absolute_error: 1177.9985 - val_loss: 1430591.1958 - val_mean_absolute_error: 772.9819\n",
            "Epoch 4/100\n",
            "87/87 [==============================] - 0s 1ms/step - loss: 1649985.5482 - mean_absolute_error: 933.5294 - val_loss: 888259.1146 - val_mean_absolute_error: 601.4465\n",
            "Epoch 5/100\n",
            "87/87 [==============================] - 0s 1ms/step - loss: 948381.8842 - mean_absolute_error: 708.6396 - val_loss: 493582.9926 - val_mean_absolute_error: 439.3651\n",
            "Epoch 6/100\n",
            "87/87 [==============================] - 0s 1ms/step - loss: 517413.8988 - mean_absolute_error: 512.5028 - val_loss: 238912.3854 - val_mean_absolute_error: 295.4702\n",
            "Epoch 7/100\n",
            "87/87 [==============================] - 0s 1ms/step - loss: 216509.9801 - mean_absolute_error: 327.4993 - val_loss: 88436.5039 - val_mean_absolute_error: 172.8468\n",
            "Epoch 8/100\n",
            "87/87 [==============================] - 0s 1ms/step - loss: 69999.7823 - mean_absolute_error: 174.7809 - val_loss: 21781.2824 - val_mean_absolute_error: 83.3402\n",
            "Epoch 9/100\n",
            "87/87 [==============================] - 0s 1ms/step - loss: 9450.4821 - mean_absolute_error: 58.0384 - val_loss: 2373.6364 - val_mean_absolute_error: 36.3780\n",
            "Epoch 10/100\n",
            "87/87 [==============================] - 0s 1ms/step - loss: 1032.0630 - mean_absolute_error: 23.5485 - val_loss: 1137.9706 - val_mean_absolute_error: 28.1799\n",
            "Epoch 11/100\n",
            "87/87 [==============================] - 0s 1ms/step - loss: 593.6963 - mean_absolute_error: 19.2979 - val_loss: 1055.3498 - val_mean_absolute_error: 26.5188\n",
            "Epoch 12/100\n",
            "87/87 [==============================] - 0s 1ms/step - loss: 583.5919 - mean_absolute_error: 18.9905 - val_loss: 1051.8266 - val_mean_absolute_error: 26.4523\n",
            "Epoch 13/100\n",
            "87/87 [==============================] - 0s 1ms/step - loss: 581.2365 - mean_absolute_error: 18.9731 - val_loss: 1048.2278 - val_mean_absolute_error: 26.3842\n",
            "Epoch 14/100\n",
            "87/87 [==============================] - 0s 1ms/step - loss: 578.8085 - mean_absolute_error: 18.9056 - val_loss: 1044.7000 - val_mean_absolute_error: 26.3173\n",
            "Epoch 15/100\n",
            "87/87 [==============================] - 0s 1ms/step - loss: 576.1620 - mean_absolute_error: 18.8366 - val_loss: 1041.1136 - val_mean_absolute_error: 26.2491\n",
            "Epoch 16/100\n",
            "87/87 [==============================] - 0s 1ms/step - loss: 573.6554 - mean_absolute_error: 18.7682 - val_loss: 1037.6099 - val_mean_absolute_error: 26.1822\n",
            "Epoch 17/100\n",
            "87/87 [==============================] - 0s 1ms/step - loss: 571.0836 - mean_absolute_error: 18.7020 - val_loss: 1034.0546 - val_mean_absolute_error: 26.1142\n",
            "Epoch 18/100\n",
            "87/87 [==============================] - 0s 1ms/step - loss: 568.6083 - mean_absolute_error: 18.6350 - val_loss: 1030.4954 - val_mean_absolute_error: 26.0460\n",
            "Epoch 19/100\n",
            "87/87 [==============================] - 0s 1ms/step - loss: 566.0973 - mean_absolute_error: 18.5670 - val_loss: 1027.1046 - val_mean_absolute_error: 25.9808\n",
            "Epoch 20/100\n",
            "87/87 [==============================] - 0s 1ms/step - loss: 563.6668 - mean_absolute_error: 18.4994 - val_loss: 1023.6718 - val_mean_absolute_error: 25.9147\n",
            "Epoch 21/100\n",
            "87/87 [==============================] - 0s 1ms/step - loss: 561.0966 - mean_absolute_error: 18.4327 - val_loss: 1020.1233 - val_mean_absolute_error: 25.8461\n",
            "Epoch 22/100\n",
            "87/87 [==============================] - 0s 1ms/step - loss: 558.5333 - mean_absolute_error: 18.3642 - val_loss: 1016.5852 - val_mean_absolute_error: 25.7776\n",
            "Epoch 23/100\n",
            "87/87 [==============================] - 0s 1ms/step - loss: 556.0963 - mean_absolute_error: 18.2978 - val_loss: 1013.0972 - val_mean_absolute_error: 25.7099\n",
            "Epoch 24/100\n",
            "87/87 [==============================] - 0s 1ms/step - loss: 553.8053 - mean_absolute_error: 18.2310 - val_loss: 1009.7795 - val_mean_absolute_error: 25.6452\n",
            "Epoch 25/100\n",
            "87/87 [==============================] - 0s 1ms/step - loss: 551.3585 - mean_absolute_error: 18.1650 - val_loss: 1006.3853 - val_mean_absolute_error: 25.5790\n",
            "Epoch 26/100\n",
            "87/87 [==============================] - 0s 1ms/step - loss: 549.0349 - mean_absolute_error: 18.0995 - val_loss: 1003.0734 - val_mean_absolute_error: 25.5142\n",
            "Epoch 27/100\n",
            "87/87 [==============================] - 0s 1ms/step - loss: 546.6405 - mean_absolute_error: 18.0338 - val_loss: 999.7318 - val_mean_absolute_error: 25.4486\n",
            "Epoch 28/100\n",
            "87/87 [==============================] - 0s 1ms/step - loss: 544.3076 - mean_absolute_error: 17.9677 - val_loss: 996.3594 - val_mean_absolute_error: 25.3823\n",
            "Epoch 29/100\n",
            "87/87 [==============================] - 0s 1ms/step - loss: 541.9047 - mean_absolute_error: 17.9017 - val_loss: 992.9912 - val_mean_absolute_error: 25.3158\n",
            "Epoch 30/100\n",
            "87/87 [==============================] - 0s 1ms/step - loss: 539.4114 - mean_absolute_error: 17.8354 - val_loss: 989.6039 - val_mean_absolute_error: 25.2488\n",
            "Epoch 31/100\n",
            "87/87 [==============================] - 0s 1ms/step - loss: 537.1366 - mean_absolute_error: 17.7701 - val_loss: 986.3251 - val_mean_absolute_error: 25.1838\n",
            "Epoch 32/100\n",
            "87/87 [==============================] - 0s 1ms/step - loss: 534.8098 - mean_absolute_error: 17.7041 - val_loss: 983.0315 - val_mean_absolute_error: 25.1183\n",
            "Epoch 33/100\n",
            "87/87 [==============================] - 0s 1ms/step - loss: 532.4472 - mean_absolute_error: 17.6400 - val_loss: 979.6483 - val_mean_absolute_error: 25.0509\n",
            "Epoch 34/100\n",
            "87/87 [==============================] - 0s 1ms/step - loss: 530.1576 - mean_absolute_error: 17.5774 - val_loss: 976.5294 - val_mean_absolute_error: 24.9886\n",
            "Epoch 35/100\n",
            "87/87 [==============================] - 0s 1ms/step - loss: 527.9357 - mean_absolute_error: 17.5149 - val_loss: 973.2611 - val_mean_absolute_error: 24.9231\n",
            "Epoch 36/100\n",
            "87/87 [==============================] - 0s 1ms/step - loss: 525.5914 - mean_absolute_error: 17.4525 - val_loss: 969.9304 - val_mean_absolute_error: 24.8562\n",
            "Epoch 37/100\n",
            "87/87 [==============================] - 0s 1ms/step - loss: 523.3920 - mean_absolute_error: 17.3893 - val_loss: 966.7069 - val_mean_absolute_error: 24.7913\n",
            "Epoch 38/100\n",
            "87/87 [==============================] - 0s 1ms/step - loss: 521.0830 - mean_absolute_error: 17.3297 - val_loss: 963.4998 - val_mean_absolute_error: 24.7265\n",
            "Epoch 39/100\n",
            "87/87 [==============================] - 0s 1ms/step - loss: 518.8611 - mean_absolute_error: 17.2666 - val_loss: 960.3492 - val_mean_absolute_error: 24.6627\n",
            "Epoch 40/100\n",
            "87/87 [==============================] - 0s 1ms/step - loss: 516.5654 - mean_absolute_error: 17.2046 - val_loss: 957.1064 - val_mean_absolute_error: 24.5969\n",
            "Epoch 41/100\n",
            "87/87 [==============================] - 0s 1ms/step - loss: 514.3963 - mean_absolute_error: 17.1413 - val_loss: 953.9565 - val_mean_absolute_error: 24.5327\n",
            "Epoch 42/100\n",
            "87/87 [==============================] - 0s 1ms/step - loss: 512.2675 - mean_absolute_error: 17.0806 - val_loss: 950.7992 - val_mean_absolute_error: 24.4683\n",
            "Epoch 43/100\n",
            "87/87 [==============================] - 0s 1ms/step - loss: 510.0814 - mean_absolute_error: 17.0184 - val_loss: 947.6282 - val_mean_absolute_error: 24.4034\n",
            "Epoch 44/100\n",
            "87/87 [==============================] - 0s 1ms/step - loss: 507.7312 - mean_absolute_error: 16.9574 - val_loss: 944.3889 - val_mean_absolute_error: 24.3370\n",
            "Epoch 45/100\n",
            "87/87 [==============================] - 0s 1ms/step - loss: 505.5254 - mean_absolute_error: 16.8956 - val_loss: 941.2306 - val_mean_absolute_error: 24.2720\n",
            "Epoch 46/100\n",
            "87/87 [==============================] - 0s 1ms/step - loss: 503.4667 - mean_absolute_error: 16.8338 - val_loss: 938.2690 - val_mean_absolute_error: 24.2109\n",
            "Epoch 47/100\n",
            "87/87 [==============================] - 0s 1ms/step - loss: 501.2900 - mean_absolute_error: 16.7744 - val_loss: 935.1440 - val_mean_absolute_error: 24.1463\n",
            "Epoch 48/100\n",
            "87/87 [==============================] - 0s 1ms/step - loss: 499.2081 - mean_absolute_error: 16.7153 - val_loss: 932.1058 - val_mean_absolute_error: 24.0861\n",
            "Epoch 49/100\n",
            "87/87 [==============================] - 0s 1ms/step - loss: 497.0072 - mean_absolute_error: 16.6591 - val_loss: 928.8750 - val_mean_absolute_error: 24.0250\n",
            "Epoch 50/100\n",
            "87/87 [==============================] - 0s 1ms/step - loss: 494.9158 - mean_absolute_error: 16.6040 - val_loss: 925.9244 - val_mean_absolute_error: 23.9691\n",
            "Epoch 51/100\n",
            "87/87 [==============================] - 0s 1ms/step - loss: 492.8356 - mean_absolute_error: 16.5498 - val_loss: 922.9037 - val_mean_absolute_error: 23.9117\n",
            "Epoch 52/100\n",
            "87/87 [==============================] - 0s 1ms/step - loss: 490.6964 - mean_absolute_error: 16.4947 - val_loss: 919.8639 - val_mean_absolute_error: 23.8538\n",
            "Epoch 53/100\n",
            "87/87 [==============================] - 0s 1ms/step - loss: 488.6533 - mean_absolute_error: 16.4405 - val_loss: 916.8808 - val_mean_absolute_error: 23.7968\n",
            "Epoch 54/100\n",
            "87/87 [==============================] - 0s 1ms/step - loss: 486.6269 - mean_absolute_error: 16.3839 - val_loss: 913.8613 - val_mean_absolute_error: 23.7390\n",
            "Epoch 55/100\n",
            "87/87 [==============================] - 0s 1ms/step - loss: 484.6278 - mean_absolute_error: 16.3319 - val_loss: 910.9828 - val_mean_absolute_error: 23.6837\n",
            "Epoch 56/100\n",
            "87/87 [==============================] - 0s 1ms/step - loss: 482.5768 - mean_absolute_error: 16.2773 - val_loss: 907.9610 - val_mean_absolute_error: 23.6255\n",
            "Epoch 57/100\n",
            "87/87 [==============================] - 0s 1ms/step - loss: 480.5448 - mean_absolute_error: 16.2229 - val_loss: 905.0066 - val_mean_absolute_error: 23.5685\n",
            "Epoch 58/100\n",
            "87/87 [==============================] - 0s 1ms/step - loss: 478.5457 - mean_absolute_error: 16.1704 - val_loss: 902.1559 - val_mean_absolute_error: 23.5133\n",
            "Epoch 59/100\n",
            "87/87 [==============================] - 0s 1ms/step - loss: 476.4866 - mean_absolute_error: 16.1149 - val_loss: 899.1616 - val_mean_absolute_error: 23.4552\n",
            "Epoch 60/100\n",
            "87/87 [==============================] - 0s 1ms/step - loss: 474.5360 - mean_absolute_error: 16.0608 - val_loss: 896.2869 - val_mean_absolute_error: 23.3992\n",
            "Epoch 61/100\n",
            "87/87 [==============================] - 0s 1ms/step - loss: 472.4935 - mean_absolute_error: 16.0083 - val_loss: 893.3146 - val_mean_absolute_error: 23.3412\n",
            "Epoch 62/100\n",
            "87/87 [==============================] - 0s 1ms/step - loss: 470.5178 - mean_absolute_error: 15.9543 - val_loss: 890.4490 - val_mean_absolute_error: 23.2852\n",
            "Epoch 63/100\n",
            "87/87 [==============================] - 0s 1ms/step - loss: 468.6209 - mean_absolute_error: 15.9012 - val_loss: 887.5958 - val_mean_absolute_error: 23.2292\n",
            "Epoch 64/100\n",
            "87/87 [==============================] - 0s 1ms/step - loss: 466.7161 - mean_absolute_error: 15.8479 - val_loss: 884.7777 - val_mean_absolute_error: 23.1769\n",
            "Epoch 65/100\n",
            "87/87 [==============================] - 0s 1ms/step - loss: 464.8671 - mean_absolute_error: 15.8014 - val_loss: 882.0139 - val_mean_absolute_error: 23.1278\n",
            "Epoch 66/100\n",
            "87/87 [==============================] - 0s 1ms/step - loss: 462.8531 - mean_absolute_error: 15.7529 - val_loss: 878.9984 - val_mean_absolute_error: 23.0741\n",
            "Epoch 67/100\n",
            "87/87 [==============================] - 0s 1ms/step - loss: 460.9498 - mean_absolute_error: 15.7071 - val_loss: 876.3010 - val_mean_absolute_error: 23.0260\n",
            "Epoch 68/100\n",
            "87/87 [==============================] - 0s 1ms/step - loss: 459.0426 - mean_absolute_error: 15.6605 - val_loss: 873.4588 - val_mean_absolute_error: 22.9752\n",
            "Epoch 69/100\n",
            "87/87 [==============================] - 0s 1ms/step - loss: 457.2373 - mean_absolute_error: 15.6123 - val_loss: 870.7244 - val_mean_absolute_error: 22.9261\n",
            "Epoch 70/100\n",
            "87/87 [==============================] - 0s 1ms/step - loss: 455.3513 - mean_absolute_error: 15.5650 - val_loss: 867.9561 - val_mean_absolute_error: 22.8763\n",
            "Epoch 71/100\n",
            "87/87 [==============================] - 0s 1ms/step - loss: 453.3985 - mean_absolute_error: 15.5169 - val_loss: 865.1752 - val_mean_absolute_error: 22.8261\n",
            "Epoch 72/100\n",
            "87/87 [==============================] - 0s 1ms/step - loss: 451.6191 - mean_absolute_error: 15.4712 - val_loss: 862.4567 - val_mean_absolute_error: 22.7770\n",
            "Epoch 73/100\n",
            "87/87 [==============================] - 0s 1ms/step - loss: 449.6921 - mean_absolute_error: 15.4264 - val_loss: 859.6300 - val_mean_absolute_error: 22.7257\n",
            "Epoch 74/100\n",
            "87/87 [==============================] - 0s 1ms/step - loss: 447.9286 - mean_absolute_error: 15.3764 - val_loss: 857.0119 - val_mean_absolute_error: 22.6781\n",
            "Epoch 75/100\n",
            "87/87 [==============================] - 0s 1ms/step - loss: 446.1130 - mean_absolute_error: 15.3299 - val_loss: 854.2703 - val_mean_absolute_error: 22.6281\n",
            "Epoch 76/100\n",
            "87/87 [==============================] - 0s 1ms/step - loss: 444.2577 - mean_absolute_error: 15.2873 - val_loss: 851.4603 - val_mean_absolute_error: 22.5768\n",
            "Epoch 77/100\n",
            "87/87 [==============================] - 0s 1ms/step - loss: 442.4980 - mean_absolute_error: 15.2360 - val_loss: 848.8178 - val_mean_absolute_error: 22.5283\n",
            "Epoch 78/100\n",
            "87/87 [==============================] - 0s 1ms/step - loss: 440.6981 - mean_absolute_error: 15.1928 - val_loss: 846.1386 - val_mean_absolute_error: 22.4791\n",
            "Epoch 79/100\n",
            "87/87 [==============================] - 0s 1ms/step - loss: 438.9610 - mean_absolute_error: 15.1457 - val_loss: 843.5634 - val_mean_absolute_error: 22.4316\n",
            "Epoch 80/100\n",
            "87/87 [==============================] - 0s 1ms/step - loss: 437.3088 - mean_absolute_error: 15.1008 - val_loss: 840.9919 - val_mean_absolute_error: 22.3844\n",
            "Epoch 81/100\n",
            "87/87 [==============================] - 0s 1ms/step - loss: 435.4316 - mean_absolute_error: 15.0575 - val_loss: 838.2298 - val_mean_absolute_error: 22.3389\n",
            "Epoch 82/100\n",
            "87/87 [==============================] - 0s 1ms/step - loss: 433.5662 - mean_absolute_error: 15.0164 - val_loss: 835.5252 - val_mean_absolute_error: 22.2942\n",
            "Epoch 83/100\n",
            "87/87 [==============================] - 0s 1ms/step - loss: 431.9185 - mean_absolute_error: 14.9750 - val_loss: 832.9714 - val_mean_absolute_error: 22.2519\n",
            "Epoch 84/100\n",
            "87/87 [==============================] - 0s 1ms/step - loss: 430.2628 - mean_absolute_error: 14.9333 - val_loss: 830.3725 - val_mean_absolute_error: 22.2088\n",
            "Epoch 85/100\n",
            "87/87 [==============================] - 0s 1ms/step - loss: 428.5260 - mean_absolute_error: 14.8962 - val_loss: 827.7866 - val_mean_absolute_error: 22.1657\n",
            "Epoch 86/100\n",
            "87/87 [==============================] - 0s 1ms/step - loss: 426.8310 - mean_absolute_error: 14.8547 - val_loss: 825.2760 - val_mean_absolute_error: 22.1238\n",
            "Epoch 87/100\n",
            "87/87 [==============================] - 0s 1ms/step - loss: 425.1440 - mean_absolute_error: 14.8159 - val_loss: 822.7302 - val_mean_absolute_error: 22.0812\n",
            "Epoch 88/100\n",
            "87/87 [==============================] - 0s 1ms/step - loss: 423.5424 - mean_absolute_error: 14.7750 - val_loss: 820.2133 - val_mean_absolute_error: 22.0389\n",
            "Epoch 89/100\n",
            "87/87 [==============================] - 0s 1ms/step - loss: 421.7975 - mean_absolute_error: 14.7375 - val_loss: 817.6525 - val_mean_absolute_error: 21.9958\n",
            "Epoch 90/100\n",
            "87/87 [==============================] - 0s 1ms/step - loss: 420.1729 - mean_absolute_error: 14.6955 - val_loss: 815.1348 - val_mean_absolute_error: 21.9533\n",
            "Epoch 91/100\n",
            "87/87 [==============================] - 0s 1ms/step - loss: 418.5428 - mean_absolute_error: 14.6576 - val_loss: 812.6985 - val_mean_absolute_error: 21.9121\n",
            "Epoch 92/100\n",
            "87/87 [==============================] - 0s 1ms/step - loss: 416.9359 - mean_absolute_error: 14.6187 - val_loss: 810.1861 - val_mean_absolute_error: 21.8695\n",
            "Epoch 93/100\n",
            "87/87 [==============================] - 0s 1ms/step - loss: 415.2975 - mean_absolute_error: 14.5774 - val_loss: 807.7139 - val_mean_absolute_error: 21.8274\n",
            "Epoch 94/100\n",
            "87/87 [==============================] - 0s 1ms/step - loss: 413.6870 - mean_absolute_error: 14.5378 - val_loss: 805.1874 - val_mean_absolute_error: 21.7843\n",
            "Epoch 95/100\n",
            "87/87 [==============================] - 0s 1ms/step - loss: 412.1040 - mean_absolute_error: 14.4999 - val_loss: 802.7556 - val_mean_absolute_error: 21.7427\n",
            "Epoch 96/100\n",
            "87/87 [==============================] - 0s 1ms/step - loss: 410.5015 - mean_absolute_error: 14.4594 - val_loss: 800.3156 - val_mean_absolute_error: 21.7009\n",
            "Epoch 97/100\n",
            "87/87 [==============================] - 0s 1ms/step - loss: 408.9441 - mean_absolute_error: 14.4220 - val_loss: 797.9450 - val_mean_absolute_error: 21.6601\n",
            "Epoch 98/100\n",
            "87/87 [==============================] - 0s 1ms/step - loss: 407.3739 - mean_absolute_error: 14.3839 - val_loss: 795.5280 - val_mean_absolute_error: 21.6210\n",
            "Epoch 99/100\n",
            "87/87 [==============================] - 0s 1ms/step - loss: 405.7848 - mean_absolute_error: 14.3497 - val_loss: 793.0620 - val_mean_absolute_error: 21.5810\n",
            "Epoch 100/100\n",
            "87/87 [==============================] - 0s 1ms/step - loss: 404.2509 - mean_absolute_error: 14.3140 - val_loss: 790.6789 - val_mean_absolute_error: 21.5422\n",
            "Train on 88 samples, validate on 43 samples\n",
            "Epoch 1/100\n",
            "88/88 [==============================] - 1s 8ms/step - loss: 11909526.4464 - mean_absolute_error: 2500.0083 - val_loss: 11220367.3831 - val_mean_absolute_error: 2457.9532\n",
            "Epoch 2/100\n",
            "88/88 [==============================] - 0s 1ms/step - loss: 8077856.1582 - mean_absolute_error: 2049.7016 - val_loss: 7559926.8045 - val_mean_absolute_error: 2005.9515\n",
            "Epoch 3/100\n",
            "88/88 [==============================] - 0s 1ms/step - loss: 4952991.5230 - mean_absolute_error: 1622.6061 - val_loss: 4623910.2051 - val_mean_absolute_error: 1556.9365\n",
            "Epoch 4/100\n",
            "88/88 [==============================] - 0s 1ms/step - loss: 2867002.6186 - mean_absolute_error: 1227.0687 - val_loss: 2406578.3658 - val_mean_absolute_error: 1116.0422\n",
            "Epoch 5/100\n",
            "88/88 [==============================] - 0s 1ms/step - loss: 1098999.6223 - mean_absolute_error: 791.6845 - val_loss: 940948.4304 - val_mean_absolute_error: 677.1035\n",
            "Epoch 6/100\n",
            "88/88 [==============================] - 0s 1ms/step - loss: 318955.7280 - mean_absolute_error: 441.7872 - val_loss: 334255.5188 - val_mean_absolute_error: 363.7310\n",
            "Epoch 7/100\n",
            "88/88 [==============================] - 0s 1ms/step - loss: 161277.8470 - mean_absolute_error: 311.3209 - val_loss: 212231.0007 - val_mean_absolute_error: 272.3655\n",
            "Epoch 8/100\n",
            "88/88 [==============================] - 0s 1ms/step - loss: 133667.9382 - mean_absolute_error: 276.4871 - val_loss: 170540.4881 - val_mean_absolute_error: 243.2194\n",
            "Epoch 9/100\n",
            "88/88 [==============================] - 0s 1ms/step - loss: 108996.3420 - mean_absolute_error: 247.1585 - val_loss: 148044.0387 - val_mean_absolute_error: 227.4429\n",
            "Epoch 10/100\n",
            "88/88 [==============================] - 0s 1ms/step - loss: 86623.8933 - mean_absolute_error: 220.2547 - val_loss: 111839.2406 - val_mean_absolute_error: 197.5067\n",
            "Epoch 11/100\n",
            "88/88 [==============================] - 0s 1ms/step - loss: 67584.7214 - mean_absolute_error: 194.8477 - val_loss: 90838.8347 - val_mean_absolute_error: 173.9037\n",
            "Epoch 12/100\n",
            "88/88 [==============================] - 0s 1ms/step - loss: 51623.1223 - mean_absolute_error: 170.0257 - val_loss: 78170.6485 - val_mean_absolute_error: 159.5492\n",
            "Epoch 13/100\n",
            "88/88 [==============================] - 0s 1ms/step - loss: 38563.4564 - mean_absolute_error: 149.7852 - val_loss: 56176.0391 - val_mean_absolute_error: 134.6505\n",
            "Epoch 14/100\n",
            "88/88 [==============================] - 0s 1ms/step - loss: 25852.8983 - mean_absolute_error: 121.4597 - val_loss: 46431.3525 - val_mean_absolute_error: 118.4547\n",
            "Epoch 15/100\n",
            "88/88 [==============================] - 0s 1ms/step - loss: 17263.1186 - mean_absolute_error: 98.6568 - val_loss: 24673.8152 - val_mean_absolute_error: 92.0578\n",
            "Epoch 16/100\n",
            "88/88 [==============================] - 0s 1ms/step - loss: 9790.3705 - mean_absolute_error: 73.3494 - val_loss: 14905.9062 - val_mean_absolute_error: 67.2085\n",
            "Epoch 17/100\n",
            "88/88 [==============================] - 0s 1ms/step - loss: 4869.6752 - mean_absolute_error: 53.9961 - val_loss: 6768.8750 - val_mean_absolute_error: 48.6431\n",
            "Epoch 18/100\n",
            "88/88 [==============================] - 0s 1ms/step - loss: 2916.8530 - mean_absolute_error: 43.0694 - val_loss: 2914.3937 - val_mean_absolute_error: 37.6526\n",
            "Epoch 19/100\n",
            "88/88 [==============================] - 0s 1ms/step - loss: 1923.8957 - mean_absolute_error: 38.2392 - val_loss: 1307.1454 - val_mean_absolute_error: 29.4098\n",
            "Epoch 20/100\n",
            "88/88 [==============================] - 0s 1ms/step - loss: 1753.0885 - mean_absolute_error: 33.6770 - val_loss: 1545.0944 - val_mean_absolute_error: 30.3564\n",
            "Epoch 21/100\n",
            "88/88 [==============================] - 0s 1ms/step - loss: 1414.8749 - mean_absolute_error: 31.0652 - val_loss: 2585.1328 - val_mean_absolute_error: 43.1381\n",
            "Epoch 22/100\n",
            "88/88 [==============================] - 0s 1ms/step - loss: 1382.3546 - mean_absolute_error: 30.6178 - val_loss: 1115.4708 - val_mean_absolute_error: 26.3681\n",
            "Epoch 23/100\n",
            "88/88 [==============================] - 0s 1ms/step - loss: 1099.9229 - mean_absolute_error: 27.4114 - val_loss: 1061.6339 - val_mean_absolute_error: 26.0296\n",
            "Epoch 24/100\n",
            "88/88 [==============================] - 0s 1ms/step - loss: 1177.8856 - mean_absolute_error: 26.9117 - val_loss: 1408.6645 - val_mean_absolute_error: 26.7126\n",
            "Epoch 25/100\n",
            "88/88 [==============================] - 0s 1ms/step - loss: 1181.0603 - mean_absolute_error: 27.6317 - val_loss: 1220.6825 - val_mean_absolute_error: 25.1733\n",
            "Epoch 26/100\n",
            "88/88 [==============================] - 0s 1ms/step - loss: 1170.2654 - mean_absolute_error: 26.4132 - val_loss: 993.9385 - val_mean_absolute_error: 25.8906\n",
            "Epoch 27/100\n",
            "88/88 [==============================] - 0s 1ms/step - loss: 1033.1726 - mean_absolute_error: 25.9739 - val_loss: 818.3983 - val_mean_absolute_error: 24.3898\n",
            "Epoch 28/100\n",
            "88/88 [==============================] - 0s 1ms/step - loss: 1002.7644 - mean_absolute_error: 25.6979 - val_loss: 1054.1943 - val_mean_absolute_error: 27.8956\n",
            "Epoch 29/100\n",
            "88/88 [==============================] - 0s 1ms/step - loss: 906.0888 - mean_absolute_error: 24.9203 - val_loss: 1005.1112 - val_mean_absolute_error: 27.2457\n",
            "Epoch 30/100\n",
            "88/88 [==============================] - 0s 1ms/step - loss: 955.0605 - mean_absolute_error: 23.7401 - val_loss: 635.5795 - val_mean_absolute_error: 20.9709\n",
            "Epoch 31/100\n",
            "88/88 [==============================] - 0s 1ms/step - loss: 852.1818 - mean_absolute_error: 23.7621 - val_loss: 580.9166 - val_mean_absolute_error: 19.8371\n",
            "Epoch 32/100\n",
            "88/88 [==============================] - 0s 1ms/step - loss: 863.4826 - mean_absolute_error: 24.0094 - val_loss: 800.0057 - val_mean_absolute_error: 21.4983\n",
            "Epoch 33/100\n",
            "88/88 [==============================] - 0s 1ms/step - loss: 908.0136 - mean_absolute_error: 22.8744 - val_loss: 619.0682 - val_mean_absolute_error: 20.5590\n",
            "Epoch 34/100\n",
            "88/88 [==============================] - 0s 1ms/step - loss: 824.8512 - mean_absolute_error: 22.6126 - val_loss: 639.2768 - val_mean_absolute_error: 19.9345\n",
            "Epoch 35/100\n",
            "88/88 [==============================] - 0s 1ms/step - loss: 874.7415 - mean_absolute_error: 23.7280 - val_loss: 643.7276 - val_mean_absolute_error: 21.0225\n",
            "Epoch 36/100\n",
            "88/88 [==============================] - 0s 1ms/step - loss: 728.7865 - mean_absolute_error: 21.8963 - val_loss: 543.4966 - val_mean_absolute_error: 19.1132\n",
            "Epoch 37/100\n",
            "88/88 [==============================] - 0s 1ms/step - loss: 728.8269 - mean_absolute_error: 21.6070 - val_loss: 2746.8878 - val_mean_absolute_error: 43.7130\n",
            "Epoch 38/100\n",
            "88/88 [==============================] - 0s 1ms/step - loss: 954.7589 - mean_absolute_error: 23.0239 - val_loss: 784.3069 - val_mean_absolute_error: 21.1299\n",
            "Epoch 39/100\n",
            "88/88 [==============================] - 0s 1ms/step - loss: 739.5396 - mean_absolute_error: 21.7312 - val_loss: 494.5550 - val_mean_absolute_error: 18.0092\n",
            "Epoch 40/100\n",
            "88/88 [==============================] - 0s 1ms/step - loss: 746.8569 - mean_absolute_error: 21.5245 - val_loss: 611.6765 - val_mean_absolute_error: 20.4514\n",
            "Epoch 41/100\n",
            "88/88 [==============================] - 0s 1ms/step - loss: 852.3968 - mean_absolute_error: 22.3361 - val_loss: 538.1078 - val_mean_absolute_error: 18.2805\n",
            "Epoch 42/100\n",
            "88/88 [==============================] - 0s 1ms/step - loss: 734.2954 - mean_absolute_error: 20.8869 - val_loss: 465.1503 - val_mean_absolute_error: 17.4012\n",
            "Epoch 43/100\n",
            "88/88 [==============================] - 0s 1ms/step - loss: 736.1480 - mean_absolute_error: 20.9950 - val_loss: 904.8115 - val_mean_absolute_error: 25.5381\n",
            "Epoch 44/100\n",
            "88/88 [==============================] - 0s 1ms/step - loss: 802.8841 - mean_absolute_error: 21.4163 - val_loss: 552.8187 - val_mean_absolute_error: 19.1130\n",
            "Epoch 45/100\n",
            "88/88 [==============================] - 0s 1ms/step - loss: 764.6725 - mean_absolute_error: 21.6920 - val_loss: 431.7982 - val_mean_absolute_error: 16.4755\n",
            "Epoch 46/100\n",
            "88/88 [==============================] - 0s 1ms/step - loss: 629.8753 - mean_absolute_error: 19.6800 - val_loss: 482.5865 - val_mean_absolute_error: 18.0639\n",
            "Epoch 47/100\n",
            "88/88 [==============================] - 0s 1ms/step - loss: 794.0468 - mean_absolute_error: 22.1900 - val_loss: 463.7147 - val_mean_absolute_error: 16.8843\n",
            "Epoch 48/100\n",
            "88/88 [==============================] - 0s 1ms/step - loss: 755.7427 - mean_absolute_error: 21.8987 - val_loss: 719.3509 - val_mean_absolute_error: 22.6082\n",
            "Epoch 49/100\n",
            "88/88 [==============================] - 0s 1ms/step - loss: 782.1319 - mean_absolute_error: 22.8292 - val_loss: 597.1544 - val_mean_absolute_error: 20.2204\n",
            "Epoch 50/100\n",
            "88/88 [==============================] - 0s 1ms/step - loss: 691.1783 - mean_absolute_error: 21.2399 - val_loss: 1071.2929 - val_mean_absolute_error: 27.7441\n",
            "Epoch 51/100\n",
            "88/88 [==============================] - 0s 1ms/step - loss: 735.5217 - mean_absolute_error: 21.4245 - val_loss: 444.3330 - val_mean_absolute_error: 16.8877\n",
            "Epoch 52/100\n",
            "88/88 [==============================] - 0s 1ms/step - loss: 792.4030 - mean_absolute_error: 21.3105 - val_loss: 1441.1601 - val_mean_absolute_error: 32.1991\n",
            "Epoch 53/100\n",
            "88/88 [==============================] - 0s 1ms/step - loss: 783.4539 - mean_absolute_error: 22.3244 - val_loss: 643.0835 - val_mean_absolute_error: 19.5774\n",
            "Epoch 54/100\n",
            "88/88 [==============================] - 0s 1ms/step - loss: 715.6971 - mean_absolute_error: 21.5441 - val_loss: 506.2866 - val_mean_absolute_error: 18.2998\n",
            "Epoch 55/100\n",
            "88/88 [==============================] - 0s 1ms/step - loss: 844.2136 - mean_absolute_error: 22.0394 - val_loss: 447.5389 - val_mean_absolute_error: 16.6091\n",
            "Epoch 56/100\n",
            "88/88 [==============================] - 0s 1ms/step - loss: 718.4417 - mean_absolute_error: 20.6178 - val_loss: 413.1291 - val_mean_absolute_error: 16.4049\n",
            "Epoch 57/100\n",
            "88/88 [==============================] - 0s 1ms/step - loss: 796.7231 - mean_absolute_error: 21.6331 - val_loss: 501.0599 - val_mean_absolute_error: 17.9518\n",
            "Epoch 58/100\n",
            "88/88 [==============================] - 0s 1ms/step - loss: 723.5495 - mean_absolute_error: 21.2656 - val_loss: 594.3201 - val_mean_absolute_error: 19.6797\n",
            "Epoch 59/100\n",
            "88/88 [==============================] - 0s 1ms/step - loss: 692.4266 - mean_absolute_error: 20.9838 - val_loss: 516.3742 - val_mean_absolute_error: 18.4855\n",
            "Epoch 60/100\n",
            "88/88 [==============================] - 0s 1ms/step - loss: 771.4131 - mean_absolute_error: 21.3986 - val_loss: 404.3714 - val_mean_absolute_error: 16.0761\n",
            "Epoch 61/100\n",
            "88/88 [==============================] - 0s 1ms/step - loss: 629.0043 - mean_absolute_error: 19.4837 - val_loss: 645.2082 - val_mean_absolute_error: 20.3445\n",
            "Epoch 62/100\n",
            "88/88 [==============================] - 0s 1ms/step - loss: 698.8764 - mean_absolute_error: 20.6698 - val_loss: 647.4128 - val_mean_absolute_error: 21.3935\n",
            "Epoch 63/100\n",
            "88/88 [==============================] - 0s 1ms/step - loss: 685.2438 - mean_absolute_error: 20.3600 - val_loss: 1071.6620 - val_mean_absolute_error: 27.8380\n",
            "Epoch 64/100\n",
            "88/88 [==============================] - 0s 1ms/step - loss: 662.4740 - mean_absolute_error: 19.5294 - val_loss: 704.7754 - val_mean_absolute_error: 22.3192\n",
            "Epoch 65/100\n",
            "88/88 [==============================] - 0s 1ms/step - loss: 805.8502 - mean_absolute_error: 21.5541 - val_loss: 551.2157 - val_mean_absolute_error: 19.2924\n",
            "Epoch 66/100\n",
            "88/88 [==============================] - 0s 1ms/step - loss: 707.4507 - mean_absolute_error: 20.6763 - val_loss: 482.8701 - val_mean_absolute_error: 17.7402\n",
            "Epoch 67/100\n",
            "88/88 [==============================] - 0s 1ms/step - loss: 651.9052 - mean_absolute_error: 19.8847 - val_loss: 1017.4801 - val_mean_absolute_error: 27.2264\n",
            "Epoch 68/100\n",
            "88/88 [==============================] - 0s 1ms/step - loss: 821.9848 - mean_absolute_error: 22.1857 - val_loss: 644.2398 - val_mean_absolute_error: 20.3000\n",
            "Epoch 69/100\n",
            "88/88 [==============================] - 0s 1ms/step - loss: 668.2116 - mean_absolute_error: 19.9333 - val_loss: 1047.7993 - val_mean_absolute_error: 25.6491\n",
            "Epoch 70/100\n",
            "88/88 [==============================] - 0s 1ms/step - loss: 685.5497 - mean_absolute_error: 20.5477 - val_loss: 386.0131 - val_mean_absolute_error: 15.1379\n",
            "Epoch 71/100\n",
            "88/88 [==============================] - 0s 1ms/step - loss: 690.8194 - mean_absolute_error: 20.0458 - val_loss: 475.9703 - val_mean_absolute_error: 17.6286\n",
            "Epoch 72/100\n",
            "88/88 [==============================] - 0s 1ms/step - loss: 691.7135 - mean_absolute_error: 21.0507 - val_loss: 527.8169 - val_mean_absolute_error: 17.8266\n",
            "Epoch 73/100\n",
            "88/88 [==============================] - 0s 1ms/step - loss: 732.7857 - mean_absolute_error: 20.4744 - val_loss: 405.1527 - val_mean_absolute_error: 15.7220\n",
            "Epoch 74/100\n",
            "88/88 [==============================] - 0s 1ms/step - loss: 703.6884 - mean_absolute_error: 19.7422 - val_loss: 830.4839 - val_mean_absolute_error: 24.4048\n",
            "Epoch 75/100\n",
            "88/88 [==============================] - 0s 1ms/step - loss: 717.2841 - mean_absolute_error: 21.0818 - val_loss: 433.2961 - val_mean_absolute_error: 16.8098\n",
            "Epoch 76/100\n",
            "88/88 [==============================] - 0s 1ms/step - loss: 758.1051 - mean_absolute_error: 20.5006 - val_loss: 476.0386 - val_mean_absolute_error: 17.8244\n",
            "Epoch 77/100\n",
            "88/88 [==============================] - 0s 1ms/step - loss: 748.1764 - mean_absolute_error: 20.4668 - val_loss: 724.0772 - val_mean_absolute_error: 22.8398\n",
            "Epoch 78/100\n",
            "88/88 [==============================] - 0s 1ms/step - loss: 802.0142 - mean_absolute_error: 21.3844 - val_loss: 620.9157 - val_mean_absolute_error: 19.7215\n",
            "Epoch 79/100\n",
            "88/88 [==============================] - 0s 1ms/step - loss: 598.9797 - mean_absolute_error: 19.8860 - val_loss: 491.2853 - val_mean_absolute_error: 17.7719\n",
            "Epoch 80/100\n",
            "88/88 [==============================] - 0s 1ms/step - loss: 699.6693 - mean_absolute_error: 20.0466 - val_loss: 1797.0077 - val_mean_absolute_error: 34.2449\n",
            "Epoch 81/100\n",
            "88/88 [==============================] - 0s 1ms/step - loss: 805.1407 - mean_absolute_error: 21.5919 - val_loss: 458.9062 - val_mean_absolute_error: 17.4161\n",
            "Epoch 82/100\n",
            "88/88 [==============================] - 0s 1ms/step - loss: 784.5151 - mean_absolute_error: 20.0497 - val_loss: 447.4096 - val_mean_absolute_error: 16.7284\n",
            "Epoch 83/100\n",
            "88/88 [==============================] - 0s 1ms/step - loss: 678.0804 - mean_absolute_error: 20.9264 - val_loss: 397.4600 - val_mean_absolute_error: 15.3493\n",
            "Epoch 84/100\n",
            "88/88 [==============================] - 0s 1ms/step - loss: 646.8586 - mean_absolute_error: 20.2225 - val_loss: 580.5020 - val_mean_absolute_error: 19.3164\n",
            "Epoch 85/100\n",
            "88/88 [==============================] - 0s 1ms/step - loss: 751.7476 - mean_absolute_error: 21.3620 - val_loss: 423.9992 - val_mean_absolute_error: 16.4479\n",
            "Epoch 86/100\n",
            "88/88 [==============================] - 0s 1ms/step - loss: 711.5484 - mean_absolute_error: 21.3356 - val_loss: 745.9059 - val_mean_absolute_error: 22.9364\n",
            "Epoch 87/100\n",
            "88/88 [==============================] - 0s 1ms/step - loss: 788.2091 - mean_absolute_error: 20.6067 - val_loss: 392.8972 - val_mean_absolute_error: 15.9049\n",
            "Epoch 88/100\n",
            "88/88 [==============================] - 0s 1ms/step - loss: 780.1801 - mean_absolute_error: 21.5951 - val_loss: 380.6810 - val_mean_absolute_error: 15.5154\n",
            "Epoch 89/100\n",
            "88/88 [==============================] - 0s 1ms/step - loss: 760.0335 - mean_absolute_error: 20.5973 - val_loss: 784.2817 - val_mean_absolute_error: 23.8176\n",
            "Epoch 90/100\n",
            "88/88 [==============================] - 0s 1ms/step - loss: 665.8079 - mean_absolute_error: 19.7433 - val_loss: 721.6921 - val_mean_absolute_error: 22.7183\n",
            "Epoch 91/100\n",
            "88/88 [==============================] - 0s 1ms/step - loss: 652.0678 - mean_absolute_error: 20.6620 - val_loss: 936.7272 - val_mean_absolute_error: 24.3738\n",
            "Epoch 92/100\n",
            "88/88 [==============================] - 0s 1ms/step - loss: 686.8615 - mean_absolute_error: 20.4173 - val_loss: 1470.5261 - val_mean_absolute_error: 31.3095\n",
            "Epoch 93/100\n",
            "88/88 [==============================] - 0s 1ms/step - loss: 713.4043 - mean_absolute_error: 19.8236 - val_loss: 386.0165 - val_mean_absolute_error: 15.0796\n",
            "Epoch 94/100\n",
            "88/88 [==============================] - 0s 1ms/step - loss: 676.8568 - mean_absolute_error: 20.2283 - val_loss: 386.3766 - val_mean_absolute_error: 15.3024\n",
            "Epoch 95/100\n",
            "88/88 [==============================] - 0s 1ms/step - loss: 726.2083 - mean_absolute_error: 20.8845 - val_loss: 385.4578 - val_mean_absolute_error: 15.6977\n",
            "Epoch 96/100\n",
            "88/88 [==============================] - 0s 1ms/step - loss: 722.3332 - mean_absolute_error: 21.3791 - val_loss: 546.5295 - val_mean_absolute_error: 18.7369\n",
            "Epoch 97/100\n",
            "88/88 [==============================] - 0s 1ms/step - loss: 639.7163 - mean_absolute_error: 20.0857 - val_loss: 437.4231 - val_mean_absolute_error: 16.8572\n",
            "Epoch 98/100\n",
            "88/88 [==============================] - 0s 1ms/step - loss: 629.1341 - mean_absolute_error: 20.0558 - val_loss: 366.8197 - val_mean_absolute_error: 14.7161\n",
            "Epoch 99/100\n",
            "88/88 [==============================] - 0s 1ms/step - loss: 702.6359 - mean_absolute_error: 20.9138 - val_loss: 449.2734 - val_mean_absolute_error: 16.9703\n",
            "Epoch 100/100\n",
            "88/88 [==============================] - 0s 1ms/step - loss: 673.8703 - mean_absolute_error: 20.7500 - val_loss: 433.0516 - val_mean_absolute_error: 16.2667\n"
          ],
          "name": "stdout"
        }
      ]
    },
    {
      "cell_type": "code",
      "metadata": {
        "id": "6j3ZTtLC_n3m",
        "colab_type": "code",
        "outputId": "8fee7f05-11ec-4233-8023-ec1002b93491",
        "colab": {
          "base_uri": "https://localhost:8080/",
          "height": 35
        }
      },
      "source": [
        "len(all_mae_val_histories)"
      ],
      "execution_count": 0,
      "outputs": [
        {
          "output_type": "execute_result",
          "data": {
            "text/plain": [
              "3"
            ]
          },
          "metadata": {
            "tags": []
          },
          "execution_count": 182
        }
      ]
    },
    {
      "cell_type": "code",
      "metadata": {
        "colab_type": "code",
        "id": "O47XlVVu1v0p",
        "colab": {}
      },
      "source": [
        "history_dict = history.history"
      ],
      "execution_count": 0,
      "outputs": []
    },
    {
      "cell_type": "code",
      "metadata": {
        "colab_type": "code",
        "id": "_yX-614B1v0v",
        "outputId": "0722e8b3-431e-4ef5-e276-dec32f325cb7",
        "colab": {
          "base_uri": "https://localhost:8080/",
          "height": 35
        }
      },
      "source": [
        "history_dict.keys()"
      ],
      "execution_count": 0,
      "outputs": [
        {
          "output_type": "execute_result",
          "data": {
            "text/plain": [
              "dict_keys(['val_loss', 'val_mean_absolute_error', 'loss', 'mean_absolute_error'])"
            ]
          },
          "metadata": {
            "tags": []
          },
          "execution_count": 176
        }
      ]
    },
    {
      "cell_type": "code",
      "metadata": {
        "colab_type": "code",
        "id": "UfrO4lQt1v01",
        "colab": {}
      },
      "source": [
        "average_mae_val_history = [np.mean([x[i] for x in all_mae_val_histories]) for i in range(num_epochs)]\n",
        "average_mae_history = [np.mean([x[i] for x in all_mae_histories]) for i in range(num_epochs)]\n",
        "average_loss_val_history = [np.mean([x[i] for x in all_loss_val_histories]) for i in range(num_epochs)]\n",
        "average_loss_history = [np.mean([x[i] for x in all_loss_histories]) for i in range(num_epochs)]\n",
        "#media per epoca degli score ottenuti per tutte le k-fold\n",
        "#per ogni k-fold di fanno num_epoch epoche, la media viene fatta prendendo gli score di tutti i k-fold relativi ad una data epoca,\n",
        "#e si fa questo per tutte le epoche"
      ],
      "execution_count": 0,
      "outputs": []
    },
    {
      "cell_type": "markdown",
      "metadata": {
        "colab_type": "text",
        "id": "ZjNr6ihN66sE"
      },
      "source": [
        "###Plotting training and validation mae"
      ]
    },
    {
      "cell_type": "code",
      "metadata": {
        "colab_type": "code",
        "id": "TYyhlvJ_66sS",
        "outputId": "a9853203-5835-48d3-9d9c-b69126e86c97",
        "colab": {
          "base_uri": "https://localhost:8080/",
          "height": 279
        }
      },
      "source": [
        "import matplotlib.pyplot as plt\n",
        "plt.plot(range(1, len(average_mae_val_history) + 1), average_mae_val_history, 'r', label='Validation mae')\n",
        "plt.plot(range(1, len(average_mae_history) + 1), average_mae_history, 'b', label='Training mae')\n",
        "plt.xlabel('Epochs')\n",
        "plt.ylabel('Validation MAE')\n",
        "plt.legend()\n",
        "plt.show()\n"
      ],
      "execution_count": 0,
      "outputs": [
        {
          "output_type": "display_data",
          "data": {
            "image/png": "[encoded data removed]",
            "text/plain": [
              "<Figure size 432x288 with 1 Axes>"
            ]
          },
          "metadata": {
            "tags": []
          }
        }
      ]
    },
    {
      "cell_type": "code",
      "metadata": {
        "id": "DDt2-xqKdh8W",
        "colab_type": "code",
        "outputId": "22230d70-cfd5-4227-a604-1c664f29aa5a",
        "colab": {
          "base_uri": "https://localhost:8080/",
          "height": 35
        }
      },
      "source": [
        "min(average_mae_history)"
      ],
      "execution_count": 0,
      "outputs": [
        {
          "output_type": "execute_result",
          "data": {
            "text/plain": [
              "15.795675097650369"
            ]
          },
          "metadata": {
            "tags": []
          },
          "execution_count": 184
        }
      ]
    },
    {
      "cell_type": "code",
      "metadata": {
        "id": "lhQR4Bz5ddF6",
        "colab_type": "code",
        "outputId": "bf7ba156-bbf5-4e49-9265-b1ddbf4c284e",
        "colab": {
          "base_uri": "https://localhost:8080/",
          "height": 35
        }
      },
      "source": [
        "min(average_mae_val_history)"
      ],
      "execution_count": 0,
      "outputs": [
        {
          "output_type": "execute_result",
          "data": {
            "text/plain": [
              "18.041534406690214"
            ]
          },
          "metadata": {
            "tags": []
          },
          "execution_count": 183
        }
      ]
    },
    {
      "cell_type": "markdown",
      "metadata": {
        "colab_type": "text",
        "id": "Bc-6-SbG6_lk"
      },
      "source": [
        "##Plotting training and validation loss"
      ]
    },
    {
      "cell_type": "code",
      "metadata": {
        "colab_type": "code",
        "id": "b51mcBpA6_lt",
        "outputId": "5c6b9765-7cf6-4501-e91a-4d64d16a3e6d",
        "colab": {
          "base_uri": "https://localhost:8080/",
          "height": 279
        }
      },
      "source": [
        "import matplotlib.pyplot as plt\n",
        "plt.plot(range(1, len(average_loss_val_history) + 1), average_loss_val_history, 'r', label='Validation loss')\n",
        "plt.plot(range(1, len(average_loss_history) + 1), average_loss_history, 'b', label='Training loss')\n",
        "plt.xlabel('Epochs')\n",
        "plt.ylabel('Validation LOSS')\n",
        "plt.legend()\n",
        "plt.show()"
      ],
      "execution_count": 0,
      "outputs": [
        {
          "output_type": "display_data",
          "data": {
            "image/png": "[encoded data removed]",
            "text/plain": [
              "<Figure size 432x288 with 1 Axes>"
            ]
          },
          "metadata": {
            "tags": []
          }
        }
      ]
    },
    {
      "cell_type": "code",
      "metadata": {
        "id": "qSTdntrldnSC",
        "colab_type": "code",
        "outputId": "8b08e42b-2c0b-4f14-8fde-d3da7c504c46",
        "colab": {
          "base_uri": "https://localhost:8080/",
          "height": 35
        }
      },
      "source": [
        "min(average_loss_history)"
      ],
      "execution_count": 0,
      "outputs": [
        {
          "output_type": "execute_result",
          "data": {
            "text/plain": [
              "446.2927374575983"
            ]
          },
          "metadata": {
            "tags": []
          },
          "execution_count": 185
        }
      ]
    },
    {
      "cell_type": "code",
      "metadata": {
        "id": "CWMiIzApdptv",
        "colab_type": "code",
        "outputId": "bfdd0388-5d1f-48f8-953d-afcdc31817b7",
        "colab": {
          "base_uri": "https://localhost:8080/",
          "height": 35
        }
      },
      "source": [
        "min(average_loss_val_history)"
      ],
      "execution_count": 0,
      "outputs": [
        {
          "output_type": "execute_result",
          "data": {
            "text/plain": [
              "602.8098359270294"
            ]
          },
          "metadata": {
            "tags": []
          },
          "execution_count": 186
        }
      ]
    },
    {
      "cell_type": "markdown",
      "metadata": {
        "colab_type": "text",
        "id": "ypxtOZe3d8T3"
      },
      "source": [
        "#Test model\n"
      ]
    },
    {
      "cell_type": "code",
      "metadata": {
        "colab_type": "code",
        "outputId": "30f5e7d5-183d-4f83-cd39-42425d4c30ae",
        "id": "MrPjxYTxd8UE",
        "colab": {
          "base_uri": "https://localhost:8080/",
          "height": 35
        }
      },
      "source": [
        "model.fit(train_data_stand_pca, train_targets, epochs=80, batch_size=16, verbose=0)\n",
        "test_mse_score, test_mae_score = model.evaluate(test_data_stand_pca, test_targets)"
      ],
      "execution_count": 0,
      "outputs": [
        {
          "output_type": "stream",
          "text": [
            "34/34 [==============================] - 0s 154us/step\n"
          ],
          "name": "stdout"
        }
      ]
    },
    {
      "cell_type": "code",
      "metadata": {
        "colab_type": "code",
        "outputId": "a92ca0db-d493-41ca-e90f-6898973049f7",
        "id": "NGFxLQU9d8UW",
        "colab": {
          "base_uri": "https://localhost:8080/",
          "height": 35
        }
      },
      "source": [
        "test_mae_score"
      ],
      "execution_count": 0,
      "outputs": [
        {
          "output_type": "execute_result",
          "data": {
            "text/plain": [
              "13.401376051061293"
            ]
          },
          "metadata": {
            "tags": []
          },
          "execution_count": 135
        }
      ]
    }
  ]
}