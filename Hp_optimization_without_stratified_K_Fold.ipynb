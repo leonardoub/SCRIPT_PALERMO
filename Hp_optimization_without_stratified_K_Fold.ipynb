{
  "nbformat": 4,
  "nbformat_minor": 0,
  "metadata": {
    "colab": {
      "name": "Hp_optimization_without_stratified_K_Fold",
      "provenance": [],
      "include_colab_link": true
    },
    "kernelspec": {
      "name": "python3",
      "display_name": "Python 3"
    }
  },
  "cells": [
    {
      "cell_type": "markdown",
      "metadata": {
        "id": "view-in-github",
        "colab_type": "text"
      },
      "source": [
        "<a href=\"https://colab.research.google.com/github/leonardoub/SCRIPT_PALERMO/blob/master/Hp_optimization_without_stratified_K_Fold.ipynb\" target=\"_parent\"><img src=\"https://colab.research.google.com/assets/colab-badge.svg\" alt=\"Open In Colab\"/></a>"
      ]
    },
    {
      "cell_type": "code",
      "metadata": {
        "id": "cZpyLcr_wktZ",
        "colab_type": "code",
        "colab": {
          "base_uri": "https://localhost:8080/",
          "height": 278
        },
        "outputId": "0cb55675-d9b0-4fa1-9992-02a9461448ff"
      },
      "source": [
        "!pip install -U keras-tuner"
      ],
      "execution_count": 260,
      "outputs": [
        {
          "output_type": "stream",
          "text": [
            "Requirement already up-to-date: keras-tuner in /usr/local/lib/python3.6/dist-packages (1.0.1)\n",
            "Requirement already satisfied, skipping upgrade: terminaltables in /usr/local/lib/python3.6/dist-packages (from keras-tuner) (3.1.0)\n",
            "Requirement already satisfied, skipping upgrade: future in /usr/local/lib/python3.6/dist-packages (from keras-tuner) (0.16.0)\n",
            "Requirement already satisfied, skipping upgrade: numpy in /usr/local/lib/python3.6/dist-packages (from keras-tuner) (1.17.4)\n",
            "Requirement already satisfied, skipping upgrade: tqdm in /usr/local/lib/python3.6/dist-packages (from keras-tuner) (4.28.1)\n",
            "Requirement already satisfied, skipping upgrade: tabulate in /usr/local/lib/python3.6/dist-packages (from keras-tuner) (0.8.6)\n",
            "Requirement already satisfied, skipping upgrade: scipy in /usr/local/lib/python3.6/dist-packages (from keras-tuner) (1.3.3)\n",
            "Requirement already satisfied, skipping upgrade: requests in /usr/local/lib/python3.6/dist-packages (from keras-tuner) (2.21.0)\n",
            "Requirement already satisfied, skipping upgrade: colorama in /usr/local/lib/python3.6/dist-packages (from keras-tuner) (0.4.3)\n",
            "Requirement already satisfied, skipping upgrade: scikit-learn in /usr/local/lib/python3.6/dist-packages (from keras-tuner) (0.21.3)\n",
            "Requirement already satisfied, skipping upgrade: certifi>=2017.4.17 in /usr/local/lib/python3.6/dist-packages (from requests->keras-tuner) (2019.11.28)\n",
            "Requirement already satisfied, skipping upgrade: idna<2.9,>=2.5 in /usr/local/lib/python3.6/dist-packages (from requests->keras-tuner) (2.8)\n",
            "Requirement already satisfied, skipping upgrade: urllib3<1.25,>=1.21.1 in /usr/local/lib/python3.6/dist-packages (from requests->keras-tuner) (1.24.3)\n",
            "Requirement already satisfied, skipping upgrade: chardet<3.1.0,>=3.0.2 in /usr/local/lib/python3.6/dist-packages (from requests->keras-tuner) (3.0.4)\n",
            "Requirement already satisfied, skipping upgrade: joblib>=0.11 in /usr/local/lib/python3.6/dist-packages (from scikit-learn->keras-tuner) (0.14.1)\n"
          ],
          "name": "stdout"
        }
      ]
    },
    {
      "cell_type": "code",
      "metadata": {
        "id": "11sCznT-2mmF",
        "colab_type": "code",
        "colab": {}
      },
      "source": [
        "import pandas as pd\n",
        "import numpy as np\n",
        "import matplotlib.pyplot as plt\n",
        "import scipy"
      ],
      "execution_count": 0,
      "outputs": []
    },
    {
      "cell_type": "markdown",
      "metadata": {
        "id": "ln0sTf8q1IrI",
        "colab_type": "text"
      },
      "source": [
        "#Load data"
      ]
    },
    {
      "cell_type": "code",
      "metadata": {
        "id": "lyyNl4gxhEwD",
        "colab_type": "code",
        "outputId": "b3dcd1c6-11da-4d4f-b717-eae5b73ba1ed",
        "colab": {
          "base_uri": "https://localhost:8080/",
          "height": 34
        }
      },
      "source": [
        "#load data from Drive\n",
        "from google.colab import drive\n",
        "drive.mount('/gdrive')\n",
        "#%cd /gdrive"
      ],
      "execution_count": 262,
      "outputs": [
        {
          "output_type": "stream",
          "text": [
            "Drive already mounted at /gdrive; to attempt to forcibly remount, call drive.mount(\"/gdrive\", force_remount=True).\n"
          ],
          "name": "stdout"
        }
      ]
    },
    {
      "cell_type": "code",
      "metadata": {
        "id": "UCkUXesZhMzg",
        "colab_type": "code",
        "colab": {}
      },
      "source": [
        "train_dataset_path = '/gdrive/My Drive/AIM_PA/database_training2.csv'\n",
        "test_dataset_path = '/gdrive/My Drive/AIM_PA/database_nostro_without_nan.csv'"
      ],
      "execution_count": 0,
      "outputs": []
    },
    {
      "cell_type": "code",
      "metadata": {
        "id": "TczPxOpEhTXw",
        "colab_type": "code",
        "colab": {}
      },
      "source": [
        "df_train = pd.read_csv(train_dataset_path)\n",
        "df_test = pd.read_csv(test_dataset_path)"
      ],
      "execution_count": 0,
      "outputs": []
    },
    {
      "cell_type": "code",
      "metadata": {
        "id": "Ll-87QSVhqhj",
        "colab_type": "code",
        "colab": {}
      },
      "source": [
        "df_train.rename(columns={'Survival.time (months)':'Surv_time_months'}, inplace=True)"
      ],
      "execution_count": 0,
      "outputs": []
    },
    {
      "cell_type": "code",
      "metadata": {
        "id": "ulSbeCedhuxJ",
        "colab_type": "code",
        "colab": {}
      },
      "source": [
        "df_test.rename(columns={'Survival.time (months)':'Surv_time_months'}, inplace=True)"
      ],
      "execution_count": 0,
      "outputs": []
    },
    {
      "cell_type": "code",
      "metadata": {
        "id": "xbcwLGg3iNSn",
        "colab_type": "code",
        "colab": {}
      },
      "source": [
        "df_train.rename(columns={'Overall.Stage':'Overall_Stage'}, inplace=True)\n",
        "df_test.rename(columns={'Overall.Stage':'Overall_Stage'}, inplace=True)"
      ],
      "execution_count": 0,
      "outputs": []
    },
    {
      "cell_type": "code",
      "metadata": {
        "id": "oKKv4iKghWWn",
        "colab_type": "code",
        "colab": {}
      },
      "source": [
        "train_data = df_train.drop(['Histology', 'Surv_time_months', 'OS', 'deadstatus.event','Overall_Stage'], axis=1)"
      ],
      "execution_count": 0,
      "outputs": []
    },
    {
      "cell_type": "code",
      "metadata": {
        "id": "vQdR4izXiT0f",
        "colab_type": "code",
        "colab": {}
      },
      "source": [
        "test_data = df_test.drop(['Histology', 'Surv_time_months', 'OS', 'deadstatus.event','Overall_Stage'], axis=1)"
      ],
      "execution_count": 0,
      "outputs": []
    },
    {
      "cell_type": "code",
      "metadata": {
        "id": "Lu46pqnPhnCG",
        "colab_type": "code",
        "colab": {}
      },
      "source": [
        "train_labels = df_train.Histology"
      ],
      "execution_count": 0,
      "outputs": []
    },
    {
      "cell_type": "code",
      "metadata": {
        "id": "aS5wIylYmsQf",
        "colab_type": "code",
        "colab": {}
      },
      "source": [
        "test_labels = df_test.Histology"
      ],
      "execution_count": 0,
      "outputs": []
    },
    {
      "cell_type": "markdown",
      "metadata": {
        "id": "dtPx7PMDnXM3",
        "colab_type": "text"
      },
      "source": [
        "##Z score dei dati"
      ]
    },
    {
      "cell_type": "code",
      "metadata": {
        "id": "XK4Qji2EnVV4",
        "colab_type": "code",
        "colab": {}
      },
      "source": [
        "mean = train_data.mean(axis=0)\n",
        "train_data_stand = train_data - mean\n",
        "std = train_data.std(axis=0)\n",
        "train_data_stand /= std"
      ],
      "execution_count": 0,
      "outputs": []
    },
    {
      "cell_type": "code",
      "metadata": {
        "id": "YOVOoNOvm0Yx",
        "colab_type": "code",
        "colab": {}
      },
      "source": [
        "test_data_stand = test_data - mean\n",
        "test_data_stand /= std"
      ],
      "execution_count": 0,
      "outputs": []
    },
    {
      "cell_type": "markdown",
      "metadata": {
        "id": "00VohsAyokpq",
        "colab_type": "text"
      },
      "source": [
        "##Vettorizzare i label"
      ]
    },
    {
      "cell_type": "code",
      "metadata": {
        "id": "8RvS_9ISpxRi",
        "colab_type": "code",
        "colab": {}
      },
      "source": [
        "word_index={'adenocarcinoma':0, 'large cell':1, 'squamous cell carcinoma':2}"
      ],
      "execution_count": 0,
      "outputs": []
    },
    {
      "cell_type": "code",
      "metadata": {
        "id": "uiPW9U0XrWY2",
        "colab_type": "code",
        "colab": {}
      },
      "source": [
        "train_labels_dec = [word_index[label] for label in train_labels]"
      ],
      "execution_count": 0,
      "outputs": []
    },
    {
      "cell_type": "code",
      "metadata": {
        "id": "C4SBiKFQsKFw",
        "colab_type": "code",
        "colab": {}
      },
      "source": [
        "test_labels_dec = [word_index[label] for label in test_labels]"
      ],
      "execution_count": 0,
      "outputs": []
    },
    {
      "cell_type": "code",
      "metadata": {
        "id": "0IMbTYR7okJq",
        "colab_type": "code",
        "colab": {}
      },
      "source": [
        "from keras.utils.np_utils import to_categorical"
      ],
      "execution_count": 0,
      "outputs": []
    },
    {
      "cell_type": "code",
      "metadata": {
        "id": "0Frv4FDNn6Qu",
        "colab_type": "code",
        "colab": {}
      },
      "source": [
        "one_hot_train_labels = to_categorical(train_labels_dec)\n",
        "one_hot_test_labels = to_categorical(test_labels_dec)"
      ],
      "execution_count": 0,
      "outputs": []
    },
    {
      "cell_type": "markdown",
      "metadata": {
        "id": "Mn0tkOGc3LKN",
        "colab_type": "text"
      },
      "source": [
        "#PCA"
      ]
    },
    {
      "cell_type": "code",
      "metadata": {
        "id": "oS76u6iu3Seg",
        "colab_type": "code",
        "colab": {}
      },
      "source": [
        "from sklearn.decomposition import PCA"
      ],
      "execution_count": 0,
      "outputs": []
    },
    {
      "cell_type": "code",
      "metadata": {
        "id": "KCjC4zqJ3bui",
        "colab_type": "code",
        "colab": {}
      },
      "source": [
        "pca = PCA(n_components=0.9, svd_solver='full')"
      ],
      "execution_count": 0,
      "outputs": []
    },
    {
      "cell_type": "code",
      "metadata": {
        "id": "dLUCf9qX4p_e",
        "colab_type": "code",
        "outputId": "500c2f7b-ebce-41c6-cf42-b893d0673f9a",
        "colab": {
          "base_uri": "https://localhost:8080/",
          "height": 52
        }
      },
      "source": [
        "pca.fit(train_data_stand)"
      ],
      "execution_count": 281,
      "outputs": [
        {
          "output_type": "execute_result",
          "data": {
            "text/plain": [
              "PCA(copy=True, iterated_power='auto', n_components=0.9, random_state=None,\n",
              "    svd_solver='full', tol=0.0, whiten=False)"
            ]
          },
          "metadata": {
            "tags": []
          },
          "execution_count": 281
        }
      ]
    },
    {
      "cell_type": "code",
      "metadata": {
        "id": "QfyaKgNZ44o3",
        "colab_type": "code",
        "colab": {}
      },
      "source": [
        "train_data_stand_pca = pca.transform(train_data_stand)\n",
        "test_data_stand_pca = pca.transform(test_data_stand)"
      ],
      "execution_count": 0,
      "outputs": []
    },
    {
      "cell_type": "code",
      "metadata": {
        "id": "Uz9C4nl05b_g",
        "colab_type": "code",
        "outputId": "c78f1812-a6e0-46d7-e933-784e6787ae50",
        "colab": {
          "base_uri": "https://localhost:8080/",
          "height": 34
        }
      },
      "source": [
        "train_data_stand_pca.shape"
      ],
      "execution_count": 283,
      "outputs": [
        {
          "output_type": "execute_result",
          "data": {
            "text/plain": [
              "(131, 9)"
            ]
          },
          "metadata": {
            "tags": []
          },
          "execution_count": 283
        }
      ]
    },
    {
      "cell_type": "markdown",
      "metadata": {
        "id": "8wSKvSu4s5ip",
        "colab_type": "text"
      },
      "source": [
        "#Building Network"
      ]
    },
    {
      "cell_type": "code",
      "metadata": {
        "id": "Osgm8ZvLpZh5",
        "colab_type": "code",
        "colab": {}
      },
      "source": [
        "from tensorflow import keras"
      ],
      "execution_count": 0,
      "outputs": []
    },
    {
      "cell_type": "code",
      "metadata": {
        "id": "sJTbHiq0D-4x",
        "colab_type": "code",
        "colab": {}
      },
      "source": [
        "from tensorflow.keras import layers\n",
        "from tensorflow.keras.preprocessing import sequence"
      ],
      "execution_count": 0,
      "outputs": []
    },
    {
      "cell_type": "code",
      "metadata": {
        "id": "ShwM6YMqsxxJ",
        "colab_type": "code",
        "colab": {}
      },
      "source": [
        "from tensorflow.keras import layers"
      ],
      "execution_count": 0,
      "outputs": []
    },
    {
      "cell_type": "code",
      "metadata": {
        "id": "IAzbu7P1VylY",
        "colab_type": "code",
        "colab": {}
      },
      "source": [
        "from tensorflow.keras import regularizers"
      ],
      "execution_count": 0,
      "outputs": []
    },
    {
      "cell_type": "code",
      "metadata": {
        "id": "dyqbUCK5wOVt",
        "colab_type": "code",
        "colab": {}
      },
      "source": [
        "from tensorflow.keras.optimizers import SGD"
      ],
      "execution_count": 0,
      "outputs": []
    },
    {
      "cell_type": "code",
      "metadata": {
        "id": "KutkQ9Noj5mb",
        "colab_type": "code",
        "colab": {}
      },
      "source": [
        "from kerastuner.tuners import RandomSearch"
      ],
      "execution_count": 0,
      "outputs": []
    },
    {
      "cell_type": "code",
      "metadata": {
        "id": "7OAEgN31tHVV",
        "colab_type": "code",
        "colab": {}
      },
      "source": [
        "def build_model(hp):\n",
        "  model = keras.models.Sequential()\n",
        "\n",
        "#  model.add(layers.Dense(units=(hp.Int('units', min_value=3, max_value=8, step=1)), \n",
        "#                         activation='relu', input_shape=(9,)))\n",
        "\n",
        "  model.add(layers.Dense(6, activation='relu', input_shape=(9,)))\n",
        "  model.add(layers.Dense(3, activation='softmax'))\n",
        "#  sgd = SGD(lr=0.001, decay=1e-6, momentum=0.5, nesterov=True)\n",
        "  lr = hp.Choice('learning_rate', [1e-2, 1e-3, 1e-4])\n",
        "  momentum = hp.Choice('momentum', [0.0, 0.1, 0.2, 0.3, 0.4, 0.5, 0.6, 0.7])\n",
        "  model.compile(optimizer=SGD(learning_rate=lr, momentum=momentum), \n",
        "                loss='categorical_crossentropy', metrics=['accuracy'])\n",
        "  return model"
      ],
      "execution_count": 0,
      "outputs": []
    },
    {
      "cell_type": "markdown",
      "metadata": {
        "id": "Z1ZG40_dJtke",
        "colab_type": "text"
      },
      "source": [
        "##Prova Train Test Split"
      ]
    },
    {
      "cell_type": "code",
      "metadata": {
        "id": "ABYrxmZxJdlv",
        "colab_type": "code",
        "colab": {}
      },
      "source": [
        "from sklearn.model_selection import train_test_split\n"
      ],
      "execution_count": 0,
      "outputs": []
    },
    {
      "cell_type": "code",
      "metadata": {
        "id": "xFCCTjE6JrQm",
        "colab_type": "code",
        "colab": {}
      },
      "source": [
        "X_train, X_val, y_train, y_val = train_test_split(train_data_stand_pca, train_labels_dec,\n",
        "                                                    stratify=train_labels_dec,\n",
        "                                                    test_size=0.20,\n",
        "                                                    random_state=30)\n"
      ],
      "execution_count": 0,
      "outputs": []
    },
    {
      "cell_type": "code",
      "metadata": {
        "id": "9Pus4JhTKWWB",
        "colab_type": "code",
        "colab": {
          "base_uri": "https://localhost:8080/",
          "height": 34
        },
        "outputId": "673cec37-d33a-417d-a7e1-6cf845fd479e"
      },
      "source": [
        "y_train.count(2)"
      ],
      "execution_count": 293,
      "outputs": [
        {
          "output_type": "execute_result",
          "data": {
            "text/plain": [
              "43"
            ]
          },
          "metadata": {
            "tags": []
          },
          "execution_count": 293
        }
      ]
    },
    {
      "cell_type": "markdown",
      "metadata": {
        "id": "5yP9-PE1Wjz-",
        "colab_type": "text"
      },
      "source": [
        "#Keras tuner RandomSearch"
      ]
    },
    {
      "cell_type": "code",
      "metadata": {
        "colab_type": "code",
        "outputId": "117ec58e-37f3-425e-8b5c-6b8486b8ab09",
        "id": "oHDM8LE39gTU",
        "colab": {
          "base_uri": "https://localhost:8080/",
          "height": 480
        }
      },
      "source": [
        "num_epochs = 20\n",
        "  \n",
        "one_hot_partial_train_targets = to_categorical(y_train)\n",
        "one_hot_val_targets = to_categorical(y_val)\n",
        "\n",
        "tuner = RandomSearch(build_model, objective='val_acc', max_trials=40, \n",
        "                       executions_per_trial=5, directory='/content/my_dir', project_name='RandomSearch')\n",
        "  \n",
        "tuner.search_space_summary()\n",
        "\n",
        "tuner.search(X_train, one_hot_partial_train_targets, validation_data=(X_val, one_hot_val_targets), \n",
        "                      epochs=num_epochs, batch_size=8)\n",
        "  \n"
      ],
      "execution_count": 294,
      "outputs": [
        {
          "output_type": "stream",
          "text": [
            "INFO:tensorflow:Reloading Oracle from existing project /content/my_dir/RandomSearch/oracle.json\n",
            "WARNING:tensorflow:Unresolved object in checkpoint: (root).optimizer.iter\n",
            "WARNING:tensorflow:Unresolved object in checkpoint: (root).optimizer.decay\n",
            "WARNING:tensorflow:Unresolved object in checkpoint: (root).optimizer.learning_rate\n",
            "WARNING:tensorflow:Unresolved object in checkpoint: (root).optimizer.momentum\n",
            "WARNING:tensorflow:Unresolved object in checkpoint: (root).optimizer's state 'momentum' for (root).layer_with_weights-0.kernel\n",
            "WARNING:tensorflow:Unresolved object in checkpoint: (root).optimizer's state 'momentum' for (root).layer_with_weights-0.bias\n",
            "WARNING:tensorflow:Unresolved object in checkpoint: (root).optimizer's state 'momentum' for (root).layer_with_weights-1.kernel\n",
            "WARNING:tensorflow:Unresolved object in checkpoint: (root).optimizer's state 'momentum' for (root).layer_with_weights-1.bias\n",
            "WARNING:tensorflow:A checkpoint was restored (e.g. tf.train.Checkpoint.restore or tf.keras.Model.load_weights) but not all checkpointed values were used. See above for specific issues. Use expect_partial() on the load status object, e.g. tf.train.Checkpoint.restore(...).expect_partial(), to silence these warnings, or use assert_consumed() to make the check explicit. See https://www.tensorflow.org/alpha/guide/checkpoints#loading_mechanics for details.\n",
            "INFO:tensorflow:Reloading Tuner from /content/my_dir/RandomSearch/tuner0.json\n"
          ],
          "name": "stdout"
        },
        {
          "output_type": "display_data",
          "data": {
            "text/html": [
              "<span style=\"color:#4527A0\"><h1 style=\"font-size:18px\">Search space summary</h1></span>"
            ],
            "text/plain": [
              "<IPython.core.display.HTML object>"
            ]
          },
          "metadata": {
            "tags": []
          }
        },
        {
          "output_type": "display_data",
          "data": {
            "text/html": [
              "<span style=\"color:cyan\"> |-Default search space size: 2</span>"
            ],
            "text/plain": [
              "<IPython.core.display.HTML object>"
            ]
          },
          "metadata": {
            "tags": []
          }
        },
        {
          "output_type": "display_data",
          "data": {
            "text/html": [
              "<span style=\"color:#7E57C2\"><h2 style=\"font-size:16px\">learning_rate (Choice)</h2></span>"
            ],
            "text/plain": [
              "<IPython.core.display.HTML object>"
            ]
          },
          "metadata": {
            "tags": []
          }
        },
        {
          "output_type": "display_data",
          "data": {
            "text/html": [
              "<span style=\"color:cyan\"> |-default: 0.01</span>"
            ],
            "text/plain": [
              "<IPython.core.display.HTML object>"
            ]
          },
          "metadata": {
            "tags": []
          }
        },
        {
          "output_type": "display_data",
          "data": {
            "text/html": [
              "<span style=\"color:blue\"> |-ordered: True</span>"
            ],
            "text/plain": [
              "<IPython.core.display.HTML object>"
            ]
          },
          "metadata": {
            "tags": []
          }
        },
        {
          "output_type": "display_data",
          "data": {
            "text/html": [
              "<span style=\"color:cyan\"> |-values: [0.01, 0.001, 0.0001]</span>"
            ],
            "text/plain": [
              "<IPython.core.display.HTML object>"
            ]
          },
          "metadata": {
            "tags": []
          }
        },
        {
          "output_type": "display_data",
          "data": {
            "text/html": [
              "<span style=\"color:#7E57C2\"><h2 style=\"font-size:16px\">momentum (Choice)</h2></span>"
            ],
            "text/plain": [
              "<IPython.core.display.HTML object>"
            ]
          },
          "metadata": {
            "tags": []
          }
        },
        {
          "output_type": "display_data",
          "data": {
            "text/html": [
              "<span style=\"color:cyan\"> |-default: 0.0</span>"
            ],
            "text/plain": [
              "<IPython.core.display.HTML object>"
            ]
          },
          "metadata": {
            "tags": []
          }
        },
        {
          "output_type": "display_data",
          "data": {
            "text/html": [
              "<span style=\"color:blue\"> |-ordered: True</span>"
            ],
            "text/plain": [
              "<IPython.core.display.HTML object>"
            ]
          },
          "metadata": {
            "tags": []
          }
        },
        {
          "output_type": "display_data",
          "data": {
            "text/html": [
              "<span style=\"color:cyan\"> |-values: [0.0, 0.1, 0.2, 0.3, 0.4, 0.5, 0.6, 0.7]</span>"
            ],
            "text/plain": [
              "<IPython.core.display.HTML object>"
            ]
          },
          "metadata": {
            "tags": []
          }
        },
        {
          "output_type": "stream",
          "text": [
            "INFO:tensorflow:Oracle triggered exit\n"
          ],
          "name": "stdout"
        }
      ]
    },
    {
      "cell_type": "code",
      "metadata": {
        "id": "23JI0eA1OFOX",
        "colab_type": "code",
        "outputId": "4347cf8d-f7b7-4fc4-895f-18c1f6185650",
        "colab": {
          "base_uri": "https://localhost:8080/",
          "height": 251
        }
      },
      "source": [
        "tuner.search_space_summary()\n"
      ],
      "execution_count": 295,
      "outputs": [
        {
          "output_type": "display_data",
          "data": {
            "text/html": [
              "<span style=\"color:#4527A0\"><h1 style=\"font-size:18px\">Search space summary</h1></span>"
            ],
            "text/plain": [
              "<IPython.core.display.HTML object>"
            ]
          },
          "metadata": {
            "tags": []
          }
        },
        {
          "output_type": "display_data",
          "data": {
            "text/html": [
              "<span style=\"color:cyan\"> |-Default search space size: 2</span>"
            ],
            "text/plain": [
              "<IPython.core.display.HTML object>"
            ]
          },
          "metadata": {
            "tags": []
          }
        },
        {
          "output_type": "display_data",
          "data": {
            "text/html": [
              "<span style=\"color:#7E57C2\"><h2 style=\"font-size:16px\">learning_rate (Choice)</h2></span>"
            ],
            "text/plain": [
              "<IPython.core.display.HTML object>"
            ]
          },
          "metadata": {
            "tags": []
          }
        },
        {
          "output_type": "display_data",
          "data": {
            "text/html": [
              "<span style=\"color:cyan\"> |-default: 0.01</span>"
            ],
            "text/plain": [
              "<IPython.core.display.HTML object>"
            ]
          },
          "metadata": {
            "tags": []
          }
        },
        {
          "output_type": "display_data",
          "data": {
            "text/html": [
              "<span style=\"color:blue\"> |-ordered: True</span>"
            ],
            "text/plain": [
              "<IPython.core.display.HTML object>"
            ]
          },
          "metadata": {
            "tags": []
          }
        },
        {
          "output_type": "display_data",
          "data": {
            "text/html": [
              "<span style=\"color:cyan\"> |-values: [0.01, 0.001, 0.0001]</span>"
            ],
            "text/plain": [
              "<IPython.core.display.HTML object>"
            ]
          },
          "metadata": {
            "tags": []
          }
        },
        {
          "output_type": "display_data",
          "data": {
            "text/html": [
              "<span style=\"color:#7E57C2\"><h2 style=\"font-size:16px\">momentum (Choice)</h2></span>"
            ],
            "text/plain": [
              "<IPython.core.display.HTML object>"
            ]
          },
          "metadata": {
            "tags": []
          }
        },
        {
          "output_type": "display_data",
          "data": {
            "text/html": [
              "<span style=\"color:cyan\"> |-default: 0.0</span>"
            ],
            "text/plain": [
              "<IPython.core.display.HTML object>"
            ]
          },
          "metadata": {
            "tags": []
          }
        },
        {
          "output_type": "display_data",
          "data": {
            "text/html": [
              "<span style=\"color:blue\"> |-ordered: True</span>"
            ],
            "text/plain": [
              "<IPython.core.display.HTML object>"
            ]
          },
          "metadata": {
            "tags": []
          }
        },
        {
          "output_type": "display_data",
          "data": {
            "text/html": [
              "<span style=\"color:cyan\"> |-values: [0.0, 0.1, 0.2, 0.3, 0.4, 0.5, 0.6, 0.7]</span>"
            ],
            "text/plain": [
              "<IPython.core.display.HTML object>"
            ]
          },
          "metadata": {
            "tags": []
          }
        }
      ]
    },
    {
      "cell_type": "code",
      "metadata": {
        "id": "NxpvAxjHSaP6",
        "colab_type": "code",
        "outputId": "b5c2893f-7d57-4bdc-ae65-6d9790c5fc46",
        "colab": {
          "base_uri": "https://localhost:8080/",
          "height": 1000
        }
      },
      "source": [
        "tuner.results_summary()"
      ],
      "execution_count": 296,
      "outputs": [
        {
          "output_type": "display_data",
          "data": {
            "text/html": [
              "<span style=\"color:#4527A0\"><h1 style=\"font-size:18px\">Results summary</h1></span>"
            ],
            "text/plain": [
              "<IPython.core.display.HTML object>"
            ]
          },
          "metadata": {
            "tags": []
          }
        },
        {
          "output_type": "display_data",
          "data": {
            "text/html": [
              "<span style=\"color:cyan\"> |-Results in /content/my_dir/RandomSearch</span>"
            ],
            "text/plain": [
              "<IPython.core.display.HTML object>"
            ]
          },
          "metadata": {
            "tags": []
          }
        },
        {
          "output_type": "display_data",
          "data": {
            "text/html": [
              "<span style=\"color:cyan\"> |-Showing 10 best trials</span>"
            ],
            "text/plain": [
              "<IPython.core.display.HTML object>"
            ]
          },
          "metadata": {
            "tags": []
          }
        },
        {
          "output_type": "display_data",
          "data": {
            "text/html": [
              "<span style=\"color:cyan\"> |-Objective(name='val_acc', direction='max')</span>"
            ],
            "text/plain": [
              "<IPython.core.display.HTML object>"
            ]
          },
          "metadata": {
            "tags": []
          }
        },
        {
          "output_type": "display_data",
          "data": {
            "text/html": [
              "<span style=\"color:#4527A0\"><h1 style=\"font-size:18px\">Trial summary</h1></span>"
            ],
            "text/plain": [
              "<IPython.core.display.HTML object>"
            ]
          },
          "metadata": {
            "tags": []
          }
        },
        {
          "output_type": "display_data",
          "data": {
            "text/html": [
              "<span style=\"color:cyan\"> |-Trial ID: 9dc734b48ef55ec14dba96a17043ed66</span>"
            ],
            "text/plain": [
              "<IPython.core.display.HTML object>"
            ]
          },
          "metadata": {
            "tags": []
          }
        },
        {
          "output_type": "display_data",
          "data": {
            "text/html": [
              "<span style=\"color:cyan\"> |-Score: 0.585185170173645</span>"
            ],
            "text/plain": [
              "<IPython.core.display.HTML object>"
            ]
          },
          "metadata": {
            "tags": []
          }
        },
        {
          "output_type": "display_data",
          "data": {
            "text/html": [
              "<span style=\"color:cyan\"> |-Best step: 0</span>"
            ],
            "text/plain": [
              "<IPython.core.display.HTML object>"
            ]
          },
          "metadata": {
            "tags": []
          }
        },
        {
          "output_type": "display_data",
          "data": {
            "text/html": [
              "<span style=\"color:#7E57C2\"><h2 style=\"font-size:16px\">Hyperparameters:</h2></span>"
            ],
            "text/plain": [
              "<IPython.core.display.HTML object>"
            ]
          },
          "metadata": {
            "tags": []
          }
        },
        {
          "output_type": "display_data",
          "data": {
            "text/html": [
              "<span style=\"color:cyan\"> |-learning_rate: 0.01</span>"
            ],
            "text/plain": [
              "<IPython.core.display.HTML object>"
            ]
          },
          "metadata": {
            "tags": []
          }
        },
        {
          "output_type": "display_data",
          "data": {
            "text/html": [
              "<span style=\"color:blue\"> |-momentum: 0.2</span>"
            ],
            "text/plain": [
              "<IPython.core.display.HTML object>"
            ]
          },
          "metadata": {
            "tags": []
          }
        },
        {
          "output_type": "display_data",
          "data": {
            "text/html": [
              "<span style=\"color:#4527A0\"><h1 style=\"font-size:18px\">Trial summary</h1></span>"
            ],
            "text/plain": [
              "<IPython.core.display.HTML object>"
            ]
          },
          "metadata": {
            "tags": []
          }
        },
        {
          "output_type": "display_data",
          "data": {
            "text/html": [
              "<span style=\"color:cyan\"> |-Trial ID: d509bc71b531dc422fb66298ce67b278</span>"
            ],
            "text/plain": [
              "<IPython.core.display.HTML object>"
            ]
          },
          "metadata": {
            "tags": []
          }
        },
        {
          "output_type": "display_data",
          "data": {
            "text/html": [
              "<span style=\"color:cyan\"> |-Score: 0.585185170173645</span>"
            ],
            "text/plain": [
              "<IPython.core.display.HTML object>"
            ]
          },
          "metadata": {
            "tags": []
          }
        },
        {
          "output_type": "display_data",
          "data": {
            "text/html": [
              "<span style=\"color:cyan\"> |-Best step: 0</span>"
            ],
            "text/plain": [
              "<IPython.core.display.HTML object>"
            ]
          },
          "metadata": {
            "tags": []
          }
        },
        {
          "output_type": "display_data",
          "data": {
            "text/html": [
              "<span style=\"color:#7E57C2\"><h2 style=\"font-size:16px\">Hyperparameters:</h2></span>"
            ],
            "text/plain": [
              "<IPython.core.display.HTML object>"
            ]
          },
          "metadata": {
            "tags": []
          }
        },
        {
          "output_type": "display_data",
          "data": {
            "text/html": [
              "<span style=\"color:cyan\"> |-learning_rate: 0.01</span>"
            ],
            "text/plain": [
              "<IPython.core.display.HTML object>"
            ]
          },
          "metadata": {
            "tags": []
          }
        },
        {
          "output_type": "display_data",
          "data": {
            "text/html": [
              "<span style=\"color:blue\"> |-momentum: 0.4</span>"
            ],
            "text/plain": [
              "<IPython.core.display.HTML object>"
            ]
          },
          "metadata": {
            "tags": []
          }
        },
        {
          "output_type": "display_data",
          "data": {
            "text/html": [
              "<span style=\"color:#4527A0\"><h1 style=\"font-size:18px\">Trial summary</h1></span>"
            ],
            "text/plain": [
              "<IPython.core.display.HTML object>"
            ]
          },
          "metadata": {
            "tags": []
          }
        },
        {
          "output_type": "display_data",
          "data": {
            "text/html": [
              "<span style=\"color:cyan\"> |-Trial ID: a0c95926e25dc9f2fa9ccc78cb8a0aaa</span>"
            ],
            "text/plain": [
              "<IPython.core.display.HTML object>"
            ]
          },
          "metadata": {
            "tags": []
          }
        },
        {
          "output_type": "display_data",
          "data": {
            "text/html": [
              "<span style=\"color:cyan\"> |-Score: 0.5629630088806152</span>"
            ],
            "text/plain": [
              "<IPython.core.display.HTML object>"
            ]
          },
          "metadata": {
            "tags": []
          }
        },
        {
          "output_type": "display_data",
          "data": {
            "text/html": [
              "<span style=\"color:cyan\"> |-Best step: 0</span>"
            ],
            "text/plain": [
              "<IPython.core.display.HTML object>"
            ]
          },
          "metadata": {
            "tags": []
          }
        },
        {
          "output_type": "display_data",
          "data": {
            "text/html": [
              "<span style=\"color:#7E57C2\"><h2 style=\"font-size:16px\">Hyperparameters:</h2></span>"
            ],
            "text/plain": [
              "<IPython.core.display.HTML object>"
            ]
          },
          "metadata": {
            "tags": []
          }
        },
        {
          "output_type": "display_data",
          "data": {
            "text/html": [
              "<span style=\"color:cyan\"> |-learning_rate: 0.01</span>"
            ],
            "text/plain": [
              "<IPython.core.display.HTML object>"
            ]
          },
          "metadata": {
            "tags": []
          }
        },
        {
          "output_type": "display_data",
          "data": {
            "text/html": [
              "<span style=\"color:blue\"> |-momentum: 0.3</span>"
            ],
            "text/plain": [
              "<IPython.core.display.HTML object>"
            ]
          },
          "metadata": {
            "tags": []
          }
        },
        {
          "output_type": "display_data",
          "data": {
            "text/html": [
              "<span style=\"color:#4527A0\"><h1 style=\"font-size:18px\">Trial summary</h1></span>"
            ],
            "text/plain": [
              "<IPython.core.display.HTML object>"
            ]
          },
          "metadata": {
            "tags": []
          }
        },
        {
          "output_type": "display_data",
          "data": {
            "text/html": [
              "<span style=\"color:cyan\"> |-Trial ID: ea575a2424b1f437c9112bf94f75e9b3</span>"
            ],
            "text/plain": [
              "<IPython.core.display.HTML object>"
            ]
          },
          "metadata": {
            "tags": []
          }
        },
        {
          "output_type": "display_data",
          "data": {
            "text/html": [
              "<span style=\"color:cyan\"> |-Score: 0.5629629492759705</span>"
            ],
            "text/plain": [
              "<IPython.core.display.HTML object>"
            ]
          },
          "metadata": {
            "tags": []
          }
        },
        {
          "output_type": "display_data",
          "data": {
            "text/html": [
              "<span style=\"color:cyan\"> |-Best step: 0</span>"
            ],
            "text/plain": [
              "<IPython.core.display.HTML object>"
            ]
          },
          "metadata": {
            "tags": []
          }
        },
        {
          "output_type": "display_data",
          "data": {
            "text/html": [
              "<span style=\"color:#7E57C2\"><h2 style=\"font-size:16px\">Hyperparameters:</h2></span>"
            ],
            "text/plain": [
              "<IPython.core.display.HTML object>"
            ]
          },
          "metadata": {
            "tags": []
          }
        },
        {
          "output_type": "display_data",
          "data": {
            "text/html": [
              "<span style=\"color:cyan\"> |-learning_rate: 0.01</span>"
            ],
            "text/plain": [
              "<IPython.core.display.HTML object>"
            ]
          },
          "metadata": {
            "tags": []
          }
        },
        {
          "output_type": "display_data",
          "data": {
            "text/html": [
              "<span style=\"color:blue\"> |-momentum: 0.6</span>"
            ],
            "text/plain": [
              "<IPython.core.display.HTML object>"
            ]
          },
          "metadata": {
            "tags": []
          }
        },
        {
          "output_type": "display_data",
          "data": {
            "text/html": [
              "<span style=\"color:#4527A0\"><h1 style=\"font-size:18px\">Trial summary</h1></span>"
            ],
            "text/plain": [
              "<IPython.core.display.HTML object>"
            ]
          },
          "metadata": {
            "tags": []
          }
        },
        {
          "output_type": "display_data",
          "data": {
            "text/html": [
              "<span style=\"color:cyan\"> |-Trial ID: 6e2a48cc1477b7f11038357b0a87400d</span>"
            ],
            "text/plain": [
              "<IPython.core.display.HTML object>"
            ]
          },
          "metadata": {
            "tags": []
          }
        },
        {
          "output_type": "display_data",
          "data": {
            "text/html": [
              "<span style=\"color:cyan\"> |-Score: 0.5629628896713257</span>"
            ],
            "text/plain": [
              "<IPython.core.display.HTML object>"
            ]
          },
          "metadata": {
            "tags": []
          }
        },
        {
          "output_type": "display_data",
          "data": {
            "text/html": [
              "<span style=\"color:cyan\"> |-Best step: 0</span>"
            ],
            "text/plain": [
              "<IPython.core.display.HTML object>"
            ]
          },
          "metadata": {
            "tags": []
          }
        },
        {
          "output_type": "display_data",
          "data": {
            "text/html": [
              "<span style=\"color:#7E57C2\"><h2 style=\"font-size:16px\">Hyperparameters:</h2></span>"
            ],
            "text/plain": [
              "<IPython.core.display.HTML object>"
            ]
          },
          "metadata": {
            "tags": []
          }
        },
        {
          "output_type": "display_data",
          "data": {
            "text/html": [
              "<span style=\"color:cyan\"> |-learning_rate: 0.01</span>"
            ],
            "text/plain": [
              "<IPython.core.display.HTML object>"
            ]
          },
          "metadata": {
            "tags": []
          }
        },
        {
          "output_type": "display_data",
          "data": {
            "text/html": [
              "<span style=\"color:blue\"> |-momentum: 0.7</span>"
            ],
            "text/plain": [
              "<IPython.core.display.HTML object>"
            ]
          },
          "metadata": {
            "tags": []
          }
        },
        {
          "output_type": "display_data",
          "data": {
            "text/html": [
              "<span style=\"color:#4527A0\"><h1 style=\"font-size:18px\">Trial summary</h1></span>"
            ],
            "text/plain": [
              "<IPython.core.display.HTML object>"
            ]
          },
          "metadata": {
            "tags": []
          }
        },
        {
          "output_type": "display_data",
          "data": {
            "text/html": [
              "<span style=\"color:cyan\"> |-Trial ID: 01b3e2211839a9d3a88f1847e19bb2db</span>"
            ],
            "text/plain": [
              "<IPython.core.display.HTML object>"
            ]
          },
          "metadata": {
            "tags": []
          }
        },
        {
          "output_type": "display_data",
          "data": {
            "text/html": [
              "<span style=\"color:cyan\"> |-Score: 0.555555522441864</span>"
            ],
            "text/plain": [
              "<IPython.core.display.HTML object>"
            ]
          },
          "metadata": {
            "tags": []
          }
        },
        {
          "output_type": "display_data",
          "data": {
            "text/html": [
              "<span style=\"color:cyan\"> |-Best step: 0</span>"
            ],
            "text/plain": [
              "<IPython.core.display.HTML object>"
            ]
          },
          "metadata": {
            "tags": []
          }
        },
        {
          "output_type": "display_data",
          "data": {
            "text/html": [
              "<span style=\"color:#7E57C2\"><h2 style=\"font-size:16px\">Hyperparameters:</h2></span>"
            ],
            "text/plain": [
              "<IPython.core.display.HTML object>"
            ]
          },
          "metadata": {
            "tags": []
          }
        },
        {
          "output_type": "display_data",
          "data": {
            "text/html": [
              "<span style=\"color:cyan\"> |-learning_rate: 0.001</span>"
            ],
            "text/plain": [
              "<IPython.core.display.HTML object>"
            ]
          },
          "metadata": {
            "tags": []
          }
        },
        {
          "output_type": "display_data",
          "data": {
            "text/html": [
              "<span style=\"color:blue\"> |-momentum: 0.7</span>"
            ],
            "text/plain": [
              "<IPython.core.display.HTML object>"
            ]
          },
          "metadata": {
            "tags": []
          }
        },
        {
          "output_type": "display_data",
          "data": {
            "text/html": [
              "<span style=\"color:#4527A0\"><h1 style=\"font-size:18px\">Trial summary</h1></span>"
            ],
            "text/plain": [
              "<IPython.core.display.HTML object>"
            ]
          },
          "metadata": {
            "tags": []
          }
        },
        {
          "output_type": "display_data",
          "data": {
            "text/html": [
              "<span style=\"color:cyan\"> |-Trial ID: 012ec2049a189fdf30bd6104479c048c</span>"
            ],
            "text/plain": [
              "<IPython.core.display.HTML object>"
            ]
          },
          "metadata": {
            "tags": []
          }
        },
        {
          "output_type": "display_data",
          "data": {
            "text/html": [
              "<span style=\"color:cyan\"> |-Score: 0.5407407283782959</span>"
            ],
            "text/plain": [
              "<IPython.core.display.HTML object>"
            ]
          },
          "metadata": {
            "tags": []
          }
        },
        {
          "output_type": "display_data",
          "data": {
            "text/html": [
              "<span style=\"color:cyan\"> |-Best step: 0</span>"
            ],
            "text/plain": [
              "<IPython.core.display.HTML object>"
            ]
          },
          "metadata": {
            "tags": []
          }
        },
        {
          "output_type": "display_data",
          "data": {
            "text/html": [
              "<span style=\"color:#7E57C2\"><h2 style=\"font-size:16px\">Hyperparameters:</h2></span>"
            ],
            "text/plain": [
              "<IPython.core.display.HTML object>"
            ]
          },
          "metadata": {
            "tags": []
          }
        },
        {
          "output_type": "display_data",
          "data": {
            "text/html": [
              "<span style=\"color:cyan\"> |-learning_rate: 0.01</span>"
            ],
            "text/plain": [
              "<IPython.core.display.HTML object>"
            ]
          },
          "metadata": {
            "tags": []
          }
        },
        {
          "output_type": "display_data",
          "data": {
            "text/html": [
              "<span style=\"color:blue\"> |-momentum: 0.0</span>"
            ],
            "text/plain": [
              "<IPython.core.display.HTML object>"
            ]
          },
          "metadata": {
            "tags": []
          }
        },
        {
          "output_type": "display_data",
          "data": {
            "text/html": [
              "<span style=\"color:#4527A0\"><h1 style=\"font-size:18px\">Trial summary</h1></span>"
            ],
            "text/plain": [
              "<IPython.core.display.HTML object>"
            ]
          },
          "metadata": {
            "tags": []
          }
        },
        {
          "output_type": "display_data",
          "data": {
            "text/html": [
              "<span style=\"color:cyan\"> |-Trial ID: 89a709a1dbfd7a693894534ec69d01d4</span>"
            ],
            "text/plain": [
              "<IPython.core.display.HTML object>"
            ]
          },
          "metadata": {
            "tags": []
          }
        },
        {
          "output_type": "display_data",
          "data": {
            "text/html": [
              "<span style=\"color:cyan\"> |-Score: 0.4814814627170563</span>"
            ],
            "text/plain": [
              "<IPython.core.display.HTML object>"
            ]
          },
          "metadata": {
            "tags": []
          }
        },
        {
          "output_type": "display_data",
          "data": {
            "text/html": [
              "<span style=\"color:cyan\"> |-Best step: 0</span>"
            ],
            "text/plain": [
              "<IPython.core.display.HTML object>"
            ]
          },
          "metadata": {
            "tags": []
          }
        },
        {
          "output_type": "display_data",
          "data": {
            "text/html": [
              "<span style=\"color:#7E57C2\"><h2 style=\"font-size:16px\">Hyperparameters:</h2></span>"
            ],
            "text/plain": [
              "<IPython.core.display.HTML object>"
            ]
          },
          "metadata": {
            "tags": []
          }
        },
        {
          "output_type": "display_data",
          "data": {
            "text/html": [
              "<span style=\"color:cyan\"> |-learning_rate: 0.01</span>"
            ],
            "text/plain": [
              "<IPython.core.display.HTML object>"
            ]
          },
          "metadata": {
            "tags": []
          }
        },
        {
          "output_type": "display_data",
          "data": {
            "text/html": [
              "<span style=\"color:blue\"> |-momentum: 0.5</span>"
            ],
            "text/plain": [
              "<IPython.core.display.HTML object>"
            ]
          },
          "metadata": {
            "tags": []
          }
        },
        {
          "output_type": "display_data",
          "data": {
            "text/html": [
              "<span style=\"color:#4527A0\"><h1 style=\"font-size:18px\">Trial summary</h1></span>"
            ],
            "text/plain": [
              "<IPython.core.display.HTML object>"
            ]
          },
          "metadata": {
            "tags": []
          }
        },
        {
          "output_type": "display_data",
          "data": {
            "text/html": [
              "<span style=\"color:cyan\"> |-Trial ID: 1fc6bfd292aeb97615f492aec0055534</span>"
            ],
            "text/plain": [
              "<IPython.core.display.HTML object>"
            ]
          },
          "metadata": {
            "tags": []
          }
        },
        {
          "output_type": "display_data",
          "data": {
            "text/html": [
              "<span style=\"color:cyan\"> |-Score: 0.46666669845581055</span>"
            ],
            "text/plain": [
              "<IPython.core.display.HTML object>"
            ]
          },
          "metadata": {
            "tags": []
          }
        },
        {
          "output_type": "display_data",
          "data": {
            "text/html": [
              "<span style=\"color:cyan\"> |-Best step: 0</span>"
            ],
            "text/plain": [
              "<IPython.core.display.HTML object>"
            ]
          },
          "metadata": {
            "tags": []
          }
        },
        {
          "output_type": "display_data",
          "data": {
            "text/html": [
              "<span style=\"color:#7E57C2\"><h2 style=\"font-size:16px\">Hyperparameters:</h2></span>"
            ],
            "text/plain": [
              "<IPython.core.display.HTML object>"
            ]
          },
          "metadata": {
            "tags": []
          }
        },
        {
          "output_type": "display_data",
          "data": {
            "text/html": [
              "<span style=\"color:cyan\"> |-learning_rate: 0.001</span>"
            ],
            "text/plain": [
              "<IPython.core.display.HTML object>"
            ]
          },
          "metadata": {
            "tags": []
          }
        },
        {
          "output_type": "display_data",
          "data": {
            "text/html": [
              "<span style=\"color:blue\"> |-momentum: 0.6</span>"
            ],
            "text/plain": [
              "<IPython.core.display.HTML object>"
            ]
          },
          "metadata": {
            "tags": []
          }
        },
        {
          "output_type": "display_data",
          "data": {
            "text/html": [
              "<span style=\"color:#4527A0\"><h1 style=\"font-size:18px\">Trial summary</h1></span>"
            ],
            "text/plain": [
              "<IPython.core.display.HTML object>"
            ]
          },
          "metadata": {
            "tags": []
          }
        },
        {
          "output_type": "display_data",
          "data": {
            "text/html": [
              "<span style=\"color:cyan\"> |-Trial ID: 4e922de4b610437d8bd22540698e632b</span>"
            ],
            "text/plain": [
              "<IPython.core.display.HTML object>"
            ]
          },
          "metadata": {
            "tags": []
          }
        },
        {
          "output_type": "display_data",
          "data": {
            "text/html": [
              "<span style=\"color:cyan\"> |-Score: 0.46666663885116577</span>"
            ],
            "text/plain": [
              "<IPython.core.display.HTML object>"
            ]
          },
          "metadata": {
            "tags": []
          }
        },
        {
          "output_type": "display_data",
          "data": {
            "text/html": [
              "<span style=\"color:cyan\"> |-Best step: 0</span>"
            ],
            "text/plain": [
              "<IPython.core.display.HTML object>"
            ]
          },
          "metadata": {
            "tags": []
          }
        },
        {
          "output_type": "display_data",
          "data": {
            "text/html": [
              "<span style=\"color:#7E57C2\"><h2 style=\"font-size:16px\">Hyperparameters:</h2></span>"
            ],
            "text/plain": [
              "<IPython.core.display.HTML object>"
            ]
          },
          "metadata": {
            "tags": []
          }
        },
        {
          "output_type": "display_data",
          "data": {
            "text/html": [
              "<span style=\"color:cyan\"> |-learning_rate: 0.001</span>"
            ],
            "text/plain": [
              "<IPython.core.display.HTML object>"
            ]
          },
          "metadata": {
            "tags": []
          }
        },
        {
          "output_type": "display_data",
          "data": {
            "text/html": [
              "<span style=\"color:blue\"> |-momentum: 0.4</span>"
            ],
            "text/plain": [
              "<IPython.core.display.HTML object>"
            ]
          },
          "metadata": {
            "tags": []
          }
        }
      ]
    },
    {
      "cell_type": "code",
      "metadata": {
        "id": "reyZM6rGXHIk",
        "colab_type": "code",
        "colab": {}
      },
      "source": [
        "random_params=tuner.get_best_hyperparameters()[0]"
      ],
      "execution_count": 0,
      "outputs": []
    },
    {
      "cell_type": "code",
      "metadata": {
        "id": "dJpBGIEvVkpO",
        "colab_type": "code",
        "colab": {}
      },
      "source": [
        "random_model = tuner.hypermodel.build(random_params)"
      ],
      "execution_count": 0,
      "outputs": []
    },
    {
      "cell_type": "code",
      "metadata": {
        "id": "0QAOJ7PuXvwK",
        "colab_type": "code",
        "outputId": "8c54116a-7ef5-4bc1-c3c0-87b9c5b93804",
        "colab": {
          "base_uri": "https://localhost:8080/",
          "height": 34
        }
      },
      "source": [
        "tuner.oracle.get_best_trials(num_trials=1)[0].hyperparameters.values"
      ],
      "execution_count": 299,
      "outputs": [
        {
          "output_type": "execute_result",
          "data": {
            "text/plain": [
              "{'learning_rate': 0.01, 'momentum': 0.2}"
            ]
          },
          "metadata": {
            "tags": []
          },
          "execution_count": 299
        }
      ]
    },
    {
      "cell_type": "code",
      "metadata": {
        "id": "QYGZFhmPYZWf",
        "colab_type": "code",
        "colab": {}
      },
      "source": [
        "best_model = tuner.get_best_models()[0]"
      ],
      "execution_count": 0,
      "outputs": []
    },
    {
      "cell_type": "markdown",
      "metadata": {
        "id": "5wJxr25jOew_",
        "colab_type": "text"
      },
      "source": [
        "##Train the best model RandomSearch"
      ]
    },
    {
      "cell_type": "markdown",
      "metadata": {
        "id": "W8w96YVEB_IW",
        "colab_type": "text"
      },
      "source": [
        "Per la valutazione del modello ottimizzato sul validation set uso la Stratified K-Fold"
      ]
    },
    {
      "cell_type": "code",
      "metadata": {
        "id": "fY1apcZ19gFp",
        "colab_type": "code",
        "colab": {}
      },
      "source": [
        "from sklearn.model_selection import StratifiedKFold"
      ],
      "execution_count": 0,
      "outputs": []
    },
    {
      "cell_type": "code",
      "metadata": {
        "id": "oaBDM-PtBx5V",
        "colab_type": "code",
        "outputId": "4762e8d3-1173-4dc8-84e1-21b0f1b800ad",
        "colab": {
          "base_uri": "https://localhost:8080/",
          "height": 34
        }
      },
      "source": [
        "skf = StratifiedKFold(n_splits=5, shuffle=True, random_state=1)\n",
        "skf.get_n_splits(train_data_stand_pca, train_labels_dec)"
      ],
      "execution_count": 302,
      "outputs": [
        {
          "output_type": "execute_result",
          "data": {
            "text/plain": [
              "5"
            ]
          },
          "metadata": {
            "tags": []
          },
          "execution_count": 302
        }
      ]
    },
    {
      "cell_type": "code",
      "metadata": {
        "id": "Me-XQzPyD1gi",
        "colab_type": "code",
        "outputId": "be2aca23-2874-405a-9839-bbc22f9b91ac",
        "colab": {
          "base_uri": "https://localhost:8080/",
          "height": 625
        }
      },
      "source": [
        "for train_index, test_index in skf.split(train_data_stand_pca, train_labels_dec):\n",
        "    print(\"TRAIN:\", train_index, \"TEST:\", test_index)"
      ],
      "execution_count": 303,
      "outputs": [
        {
          "output_type": "stream",
          "text": [
            "TRAIN: [  0   1   4   5   6   8   9  10  11  12  14  15  16  17  19  20  22  23\n",
            "  24  25  27  28  29  30  31  32  33  34  36  37  38  39  40  41  42  44\n",
            "  45  46  48  49  51  52  53  55  56  57  58  59  60  62  63  64  65  66\n",
            "  67  69  71  72  75  76  77  78  79  80  81  83  84  85  86  87  88  89\n",
            "  90  92  94  95  96  97  98 100 101 102 103 104 105 107 109 110 111 113\n",
            " 115 116 117 119 120 121 122 124 125 126 127 128 129] TEST: [  2   3   7  13  18  21  26  35  43  47  50  54  61  68  70  73  74  82\n",
            "  91  93  99 106 108 112 114 118 123 130]\n",
            "TRAIN: [  0   1   2   3   5   7   8   9  11  12  13  14  15  16  17  18  19  20\n",
            "  21  22  23  24  25  26  27  29  30  33  34  35  36  37  38  39  40  41\n",
            "  43  44  45  46  47  48  50  51  52  53  54  56  57  58  59  60  61  62\n",
            "  63  65  66  68  70  73  74  76  77  78  79  80  82  83  84  85  87  88\n",
            "  89  90  91  92  93  96  97  98  99 100 101 102 105 106 107 108 109 110\n",
            " 111 112 113 114 115 117 118 120 122 123 124 125 127 128 130] TEST: [  4   6  10  28  31  32  42  49  55  64  67  69  71  72  75  81  86  94\n",
            "  95 103 104 116 119 121 126 129]\n",
            "TRAIN: [  2   3   4   5   6   7   8   9  10  11  12  13  15  16  17  18  20  21\n",
            "  23  25  26  27  28  29  30  31  32  34  35  36  38  39  42  43  44  45\n",
            "  46  47  48  49  50  53  54  55  57  58  60  61  63  64  65  66  67  68\n",
            "  69  70  71  72  73  74  75  76  77  78  80  81  82  84  85  86  87  90\n",
            "  91  92  93  94  95  96  99 100 101 102 103 104 105 106 108 109 111 112\n",
            " 113 114 115 116 118 119 121 122 123 124 125 126 127 129 130] TEST: [  0   1  14  19  22  24  33  37  40  41  51  52  56  59  62  79  83  88\n",
            "  89  97  98 107 110 117 120 128]\n",
            "TRAIN: [  0   1   2   3   4   5   6   7  10  11  12  13  14  18  19  20  21  22\n",
            "  24  26  27  28  30  31  32  33  34  35  36  37  39  40  41  42  43  44\n",
            "  45  47  49  50  51  52  53  54  55  56  58  59  61  62  64  66  67  68\n",
            "  69  70  71  72  73  74  75  76  79  81  82  83  85  86  87  88  89  91\n",
            "  92  93  94  95  96  97  98  99 100 102 103 104 106 107 108 109 110 111\n",
            " 112 114 115 116 117 118 119 120 121 123 124 126 128 129 130] TEST: [  8   9  15  16  17  23  25  29  38  46  48  57  60  63  65  77  78  80\n",
            "  84  90 101 105 113 122 125 127]\n",
            "TRAIN: [  0   1   2   3   4   6   7   8   9  10  13  14  15  16  17  18  19  21\n",
            "  22  23  24  25  26  28  29  31  32  33  35  37  38  40  41  42  43  46\n",
            "  47  48  49  50  51  52  54  55  56  57  59  60  61  62  63  64  65  67\n",
            "  68  69  70  71  72  73  74  75  77  78  79  80  81  82  83  84  86  88\n",
            "  89  90  91  93  94  95  97  98  99 101 103 104 105 106 107 108 110 112\n",
            " 113 114 116 117 118 119 120 121 122 123 125 126 127 128 129 130] TEST: [  5  11  12  20  27  30  34  36  39  44  45  53  58  66  76  85  87  92\n",
            "  96 100 102 109 111 115 124]\n"
          ],
          "name": "stdout"
        }
      ]
    },
    {
      "cell_type": "code",
      "metadata": {
        "id": "8K8a1I3yU9FS",
        "colab_type": "code",
        "outputId": "2d228e20-6bd1-4b18-fe79-1260fcfe933c",
        "colab": {
          "base_uri": "https://localhost:8080/",
          "height": 1000
        }
      },
      "source": [
        "#num_epochs = 50\n",
        "all_acc_histories_RS = []\n",
        "all_loss_histories_RS = []\n",
        "all_val_acc_histories_RS = []\n",
        "all_val_loss_histories_RS = []\n",
        "\n",
        "for train_index, val_index in skf.split(train_data_stand_pca, train_labels_dec):\n",
        " \n",
        "  partial_train_data = np.array([train_data_stand_pca[i] for i in train_index])\n",
        "  partial_train_targets = np.array([train_labels_dec[i] for i in train_index])\n",
        "  \n",
        "  val_data = np.array([train_data_stand_pca[i] for i in val_index])\n",
        "  val_targets = np.array([train_labels_dec[i] for i in val_index])\n",
        "\n",
        "  one_hot_partial_train_targets = to_categorical(partial_train_targets)\n",
        "  one_hot_val_targets = to_categorical(val_targets)\n",
        "\n",
        " \n",
        "  history_RS = best_model.fit(partial_train_data, one_hot_partial_train_targets, validation_data=(val_data, one_hot_val_targets), \n",
        "                      epochs=num_epochs, batch_size=8)\n",
        "  \n",
        "  acc_history_RS = history_RS.history['acc']\n",
        "  all_acc_histories_RS.append(acc_history_RS)\n",
        "\n",
        "  loss_history_RS = history_RS.history['loss']\n",
        "  all_loss_histories_RS.append(loss_history_RS)\n",
        "\n",
        "  acc_val_history_RS = history_RS.history['val_acc']\n",
        "  all_val_acc_histories_RS.append(acc_val_history_RS)\n",
        "\n",
        "  loss_val_history_RS = history_RS.history['val_loss']\n",
        "  all_val_loss_histories_RS.append(loss_val_history_RS)\n",
        "  \n",
        "\n",
        "#I parametri per la valutazione vengono calcolati per ogni epoca, quindi num_epochs volte. \n",
        "#Il tutto viene ripetuto un numero di volte pari a n_splits.\n",
        "#Si ottiene una lista con n_splits elementi ciascuno dei quali è una lista lunga num_epochs,\n",
        "#ogni elemento può essere uno fra questi: dict_keys(['val_loss', 'val_acc', 'loss', 'acc']) "
      ],
      "execution_count": 304,
      "outputs": [
        {
          "output_type": "stream",
          "text": [
            "Train on 103 samples, validate on 28 samples\n",
            "Epoch 1/20\n",
            "103/103 [==============================] - 0s 882us/sample - loss: 0.9143 - acc: 0.5728 - val_loss: 1.0933 - val_acc: 0.5357\n",
            "Epoch 2/20\n",
            "103/103 [==============================] - 0s 285us/sample - loss: 0.8900 - acc: 0.5825 - val_loss: 1.1154 - val_acc: 0.5357\n",
            "Epoch 3/20\n",
            "103/103 [==============================] - 0s 253us/sample - loss: 0.8939 - acc: 0.5631 - val_loss: 1.1076 - val_acc: 0.5357\n",
            "Epoch 4/20\n",
            "103/103 [==============================] - 0s 346us/sample - loss: 0.8703 - acc: 0.5728 - val_loss: 1.1134 - val_acc: 0.5714\n",
            "Epoch 5/20\n",
            "103/103 [==============================] - 0s 285us/sample - loss: 0.8929 - acc: 0.5243 - val_loss: 1.1361 - val_acc: 0.5357\n",
            "Epoch 6/20\n",
            "103/103 [==============================] - 0s 279us/sample - loss: 0.8657 - acc: 0.5825 - val_loss: 1.1328 - val_acc: 0.5000\n",
            "Epoch 7/20\n",
            "103/103 [==============================] - 0s 255us/sample - loss: 0.8585 - acc: 0.5631 - val_loss: 1.1376 - val_acc: 0.5000\n",
            "Epoch 8/20\n",
            "103/103 [==============================] - 0s 263us/sample - loss: 0.8448 - acc: 0.5922 - val_loss: 1.1465 - val_acc: 0.5000\n",
            "Epoch 9/20\n",
            "103/103 [==============================] - 0s 291us/sample - loss: 0.8507 - acc: 0.5825 - val_loss: 1.1708 - val_acc: 0.5000\n",
            "Epoch 10/20\n",
            "103/103 [==============================] - 0s 270us/sample - loss: 0.8336 - acc: 0.5825 - val_loss: 1.1663 - val_acc: 0.4643\n",
            "Epoch 11/20\n",
            "103/103 [==============================] - 0s 263us/sample - loss: 0.8378 - acc: 0.6117 - val_loss: 1.1720 - val_acc: 0.4643\n",
            "Epoch 12/20\n",
            "103/103 [==============================] - 0s 238us/sample - loss: 0.8344 - acc: 0.6019 - val_loss: 1.1926 - val_acc: 0.4286\n",
            "Epoch 13/20\n",
            "103/103 [==============================] - 0s 272us/sample - loss: 0.8272 - acc: 0.5825 - val_loss: 1.1981 - val_acc: 0.4643\n",
            "Epoch 14/20\n",
            "103/103 [==============================] - 0s 288us/sample - loss: 0.8256 - acc: 0.5825 - val_loss: 1.1994 - val_acc: 0.4286\n",
            "Epoch 15/20\n",
            "103/103 [==============================] - 0s 279us/sample - loss: 0.8269 - acc: 0.6019 - val_loss: 1.2228 - val_acc: 0.4643\n",
            "Epoch 16/20\n",
            "103/103 [==============================] - 0s 288us/sample - loss: 0.8049 - acc: 0.6117 - val_loss: 1.2369 - val_acc: 0.4286\n",
            "Epoch 17/20\n",
            "103/103 [==============================] - 0s 332us/sample - loss: 0.8099 - acc: 0.6019 - val_loss: 1.2279 - val_acc: 0.4643\n",
            "Epoch 18/20\n",
            "103/103 [==============================] - 0s 280us/sample - loss: 0.8039 - acc: 0.6311 - val_loss: 1.2465 - val_acc: 0.4643\n",
            "Epoch 19/20\n",
            "103/103 [==============================] - 0s 303us/sample - loss: 0.8041 - acc: 0.5922 - val_loss: 1.2493 - val_acc: 0.4643\n",
            "Epoch 20/20\n",
            "103/103 [==============================] - 0s 344us/sample - loss: 0.7998 - acc: 0.6311 - val_loss: 1.2523 - val_acc: 0.4643\n",
            "Train on 105 samples, validate on 26 samples\n",
            "Epoch 1/20\n",
            "105/105 [==============================] - 0s 383us/sample - loss: 0.9365 - acc: 0.5524 - val_loss: 0.7089 - val_acc: 0.7692\n",
            "Epoch 2/20\n",
            "105/105 [==============================] - 0s 288us/sample - loss: 0.9287 - acc: 0.5238 - val_loss: 0.7593 - val_acc: 0.6538\n",
            "Epoch 3/20\n",
            "105/105 [==============================] - 0s 273us/sample - loss: 0.9296 - acc: 0.5619 - val_loss: 0.7296 - val_acc: 0.6923\n",
            "Epoch 4/20\n",
            "105/105 [==============================] - 0s 277us/sample - loss: 0.9164 - acc: 0.5905 - val_loss: 0.7328 - val_acc: 0.7308\n",
            "Epoch 5/20\n",
            "105/105 [==============================] - 0s 277us/sample - loss: 0.9166 - acc: 0.5619 - val_loss: 0.7454 - val_acc: 0.7692\n",
            "Epoch 6/20\n",
            "105/105 [==============================] - 0s 275us/sample - loss: 0.9119 - acc: 0.5619 - val_loss: 0.7571 - val_acc: 0.7308\n",
            "Epoch 7/20\n",
            "105/105 [==============================] - 0s 299us/sample - loss: 0.8938 - acc: 0.6000 - val_loss: 0.8477 - val_acc: 0.6923\n",
            "Epoch 8/20\n",
            "105/105 [==============================] - 0s 268us/sample - loss: 0.9231 - acc: 0.5524 - val_loss: 0.7934 - val_acc: 0.7308\n",
            "Epoch 9/20\n",
            "105/105 [==============================] - 0s 263us/sample - loss: 0.9015 - acc: 0.5524 - val_loss: 0.8749 - val_acc: 0.6154\n",
            "Epoch 10/20\n",
            "105/105 [==============================] - 0s 281us/sample - loss: 0.9249 - acc: 0.5238 - val_loss: 0.8061 - val_acc: 0.5769\n",
            "Epoch 11/20\n",
            "105/105 [==============================] - 0s 317us/sample - loss: 0.8891 - acc: 0.5905 - val_loss: 0.7899 - val_acc: 0.6154\n",
            "Epoch 12/20\n",
            "105/105 [==============================] - 0s 280us/sample - loss: 0.8877 - acc: 0.6095 - val_loss: 0.8110 - val_acc: 0.6154\n",
            "Epoch 13/20\n",
            "105/105 [==============================] - 0s 263us/sample - loss: 0.8869 - acc: 0.6095 - val_loss: 0.8037 - val_acc: 0.6154\n",
            "Epoch 14/20\n",
            "105/105 [==============================] - 0s 280us/sample - loss: 0.8778 - acc: 0.6190 - val_loss: 0.8183 - val_acc: 0.6154\n",
            "Epoch 15/20\n",
            "105/105 [==============================] - 0s 249us/sample - loss: 0.8767 - acc: 0.5810 - val_loss: 0.8097 - val_acc: 0.6154\n",
            "Epoch 16/20\n",
            "105/105 [==============================] - 0s 276us/sample - loss: 0.8757 - acc: 0.6095 - val_loss: 0.8127 - val_acc: 0.6154\n",
            "Epoch 17/20\n",
            "105/105 [==============================] - 0s 284us/sample - loss: 0.8704 - acc: 0.6095 - val_loss: 0.8020 - val_acc: 0.6154\n",
            "Epoch 18/20\n",
            "105/105 [==============================] - 0s 382us/sample - loss: 0.8693 - acc: 0.6095 - val_loss: 0.8676 - val_acc: 0.5000\n",
            "Epoch 19/20\n",
            "105/105 [==============================] - 0s 327us/sample - loss: 0.9139 - acc: 0.6190 - val_loss: 0.8190 - val_acc: 0.6154\n",
            "Epoch 20/20\n",
            "105/105 [==============================] - 0s 311us/sample - loss: 0.8738 - acc: 0.6000 - val_loss: 0.8395 - val_acc: 0.5769\n",
            "Train on 105 samples, validate on 26 samples\n",
            "Epoch 1/20\n",
            "105/105 [==============================] - 0s 283us/sample - loss: 0.8838 - acc: 0.5905 - val_loss: 0.7904 - val_acc: 0.5000\n",
            "Epoch 2/20\n",
            "105/105 [==============================] - 0s 271us/sample - loss: 0.8751 - acc: 0.6095 - val_loss: 0.8221 - val_acc: 0.5769\n",
            "Epoch 3/20\n",
            "105/105 [==============================] - 0s 269us/sample - loss: 0.8554 - acc: 0.5714 - val_loss: 0.8607 - val_acc: 0.5769\n",
            "Epoch 4/20\n",
            "105/105 [==============================] - 0s 277us/sample - loss: 0.8556 - acc: 0.5810 - val_loss: 0.8963 - val_acc: 0.5385\n",
            "Epoch 5/20\n",
            "105/105 [==============================] - 0s 269us/sample - loss: 0.8428 - acc: 0.5810 - val_loss: 0.9036 - val_acc: 0.5385\n",
            "Epoch 6/20\n",
            "105/105 [==============================] - 0s 262us/sample - loss: 0.8358 - acc: 0.6095 - val_loss: 0.9274 - val_acc: 0.5000\n",
            "Epoch 7/20\n",
            "105/105 [==============================] - 0s 262us/sample - loss: 0.8294 - acc: 0.6000 - val_loss: 0.9613 - val_acc: 0.5000\n",
            "Epoch 8/20\n",
            "105/105 [==============================] - 0s 274us/sample - loss: 0.8228 - acc: 0.6286 - val_loss: 1.0345 - val_acc: 0.5385\n",
            "Epoch 9/20\n",
            "105/105 [==============================] - 0s 276us/sample - loss: 0.8466 - acc: 0.5619 - val_loss: 1.0018 - val_acc: 0.5769\n",
            "Epoch 10/20\n",
            "105/105 [==============================] - 0s 291us/sample - loss: 0.8211 - acc: 0.6000 - val_loss: 1.1231 - val_acc: 0.5385\n",
            "Epoch 11/20\n",
            "105/105 [==============================] - 0s 309us/sample - loss: 0.8476 - acc: 0.6095 - val_loss: 1.0166 - val_acc: 0.5769\n",
            "Epoch 12/20\n",
            "105/105 [==============================] - 0s 265us/sample - loss: 0.8029 - acc: 0.6095 - val_loss: 1.0362 - val_acc: 0.6154\n",
            "Epoch 13/20\n",
            "105/105 [==============================] - 0s 278us/sample - loss: 0.7997 - acc: 0.6095 - val_loss: 1.0489 - val_acc: 0.5769\n",
            "Epoch 14/20\n",
            "105/105 [==============================] - 0s 251us/sample - loss: 0.7995 - acc: 0.6381 - val_loss: 1.1091 - val_acc: 0.5000\n",
            "Epoch 15/20\n",
            "105/105 [==============================] - 0s 266us/sample - loss: 0.8986 - acc: 0.5810 - val_loss: 1.0765 - val_acc: 0.5769\n",
            "Epoch 16/20\n",
            "105/105 [==============================] - 0s 284us/sample - loss: 0.8021 - acc: 0.6095 - val_loss: 1.0684 - val_acc: 0.5385\n",
            "Epoch 17/20\n",
            "105/105 [==============================] - 0s 292us/sample - loss: 0.7953 - acc: 0.6190 - val_loss: 1.0742 - val_acc: 0.5385\n",
            "Epoch 18/20\n",
            "105/105 [==============================] - 0s 266us/sample - loss: 0.7874 - acc: 0.6381 - val_loss: 1.0676 - val_acc: 0.5385\n",
            "Epoch 19/20\n",
            "105/105 [==============================] - 0s 268us/sample - loss: 0.7907 - acc: 0.6190 - val_loss: 1.0827 - val_acc: 0.6154\n",
            "Epoch 20/20\n",
            "105/105 [==============================] - 0s 261us/sample - loss: 0.7835 - acc: 0.6286 - val_loss: 1.0896 - val_acc: 0.5000\n",
            "Train on 105 samples, validate on 26 samples\n",
            "Epoch 1/20\n",
            "105/105 [==============================] - 0s 285us/sample - loss: 0.8783 - acc: 0.5810 - val_loss: 0.7406 - val_acc: 0.6154\n",
            "Epoch 2/20\n",
            "105/105 [==============================] - 0s 277us/sample - loss: 0.8573 - acc: 0.6095 - val_loss: 0.7668 - val_acc: 0.6538\n",
            "Epoch 3/20\n",
            "105/105 [==============================] - 0s 280us/sample - loss: 0.8523 - acc: 0.6190 - val_loss: 0.7852 - val_acc: 0.6154\n",
            "Epoch 4/20\n",
            "105/105 [==============================] - 0s 269us/sample - loss: 0.8257 - acc: 0.6095 - val_loss: 0.8101 - val_acc: 0.5769\n",
            "Epoch 5/20\n",
            "105/105 [==============================] - 0s 266us/sample - loss: 0.8212 - acc: 0.6381 - val_loss: 0.8374 - val_acc: 0.5000\n",
            "Epoch 6/20\n",
            "105/105 [==============================] - 0s 288us/sample - loss: 0.8135 - acc: 0.6667 - val_loss: 0.8571 - val_acc: 0.5000\n",
            "Epoch 7/20\n",
            "105/105 [==============================] - 0s 284us/sample - loss: 0.8169 - acc: 0.6476 - val_loss: 0.8851 - val_acc: 0.5000\n",
            "Epoch 8/20\n",
            "105/105 [==============================] - 0s 282us/sample - loss: 0.8053 - acc: 0.6476 - val_loss: 0.9347 - val_acc: 0.5000\n",
            "Epoch 9/20\n",
            "105/105 [==============================] - 0s 283us/sample - loss: 0.7973 - acc: 0.6762 - val_loss: 0.9806 - val_acc: 0.5000\n",
            "Epoch 10/20\n",
            "105/105 [==============================] - 0s 312us/sample - loss: 0.7960 - acc: 0.6857 - val_loss: 1.0148 - val_acc: 0.5000\n",
            "Epoch 11/20\n",
            "105/105 [==============================] - 0s 277us/sample - loss: 0.7931 - acc: 0.6476 - val_loss: 1.0596 - val_acc: 0.5769\n",
            "Epoch 12/20\n",
            "105/105 [==============================] - 0s 276us/sample - loss: 0.8320 - acc: 0.6476 - val_loss: 1.0402 - val_acc: 0.5000\n",
            "Epoch 13/20\n",
            "105/105 [==============================] - 0s 292us/sample - loss: 0.7894 - acc: 0.6571 - val_loss: 1.0368 - val_acc: 0.5000\n",
            "Epoch 14/20\n",
            "105/105 [==============================] - 0s 287us/sample - loss: 0.7846 - acc: 0.6667 - val_loss: 1.0399 - val_acc: 0.4615\n",
            "Epoch 15/20\n",
            "105/105 [==============================] - 0s 277us/sample - loss: 0.7811 - acc: 0.6667 - val_loss: 1.0464 - val_acc: 0.5000\n",
            "Epoch 16/20\n",
            "105/105 [==============================] - 0s 267us/sample - loss: 0.7815 - acc: 0.6476 - val_loss: 1.0674 - val_acc: 0.5000\n",
            "Epoch 17/20\n",
            "105/105 [==============================] - 0s 260us/sample - loss: 0.7704 - acc: 0.6476 - val_loss: 1.0672 - val_acc: 0.5000\n",
            "Epoch 18/20\n",
            "105/105 [==============================] - 0s 288us/sample - loss: 0.7689 - acc: 0.6762 - val_loss: 1.0699 - val_acc: 0.5000\n",
            "Epoch 19/20\n",
            "105/105 [==============================] - 0s 323us/sample - loss: 0.7688 - acc: 0.6571 - val_loss: 1.0705 - val_acc: 0.4615\n",
            "Epoch 20/20\n",
            "105/105 [==============================] - 0s 317us/sample - loss: 0.7742 - acc: 0.6667 - val_loss: 1.0854 - val_acc: 0.5385\n",
            "Train on 106 samples, validate on 25 samples\n",
            "Epoch 1/20\n",
            "106/106 [==============================] - 0s 278us/sample - loss: 0.8762 - acc: 0.6226 - val_loss: 0.6539 - val_acc: 0.6800\n",
            "Epoch 2/20\n",
            "106/106 [==============================] - 0s 295us/sample - loss: 0.8738 - acc: 0.6132 - val_loss: 0.6699 - val_acc: 0.7200\n",
            "Epoch 3/20\n",
            "106/106 [==============================] - 0s 263us/sample - loss: 0.8435 - acc: 0.5943 - val_loss: 0.6726 - val_acc: 0.7600\n",
            "Epoch 4/20\n",
            "106/106 [==============================] - 0s 290us/sample - loss: 0.8473 - acc: 0.6132 - val_loss: 0.6800 - val_acc: 0.7200\n",
            "Epoch 5/20\n",
            "106/106 [==============================] - 0s 268us/sample - loss: 0.8281 - acc: 0.6132 - val_loss: 0.7034 - val_acc: 0.7200\n",
            "Epoch 6/20\n",
            "106/106 [==============================] - 0s 273us/sample - loss: 0.8404 - acc: 0.5943 - val_loss: 0.7152 - val_acc: 0.6000\n",
            "Epoch 7/20\n",
            "106/106 [==============================] - 0s 258us/sample - loss: 0.8257 - acc: 0.6038 - val_loss: 0.6870 - val_acc: 0.6800\n",
            "Epoch 8/20\n",
            "106/106 [==============================] - 0s 265us/sample - loss: 0.8143 - acc: 0.6226 - val_loss: 0.7268 - val_acc: 0.6400\n",
            "Epoch 9/20\n",
            "106/106 [==============================] - 0s 264us/sample - loss: 0.8368 - acc: 0.5849 - val_loss: 0.6972 - val_acc: 0.6400\n",
            "Epoch 10/20\n",
            "106/106 [==============================] - 0s 272us/sample - loss: 0.8112 - acc: 0.5943 - val_loss: 0.7034 - val_acc: 0.6800\n",
            "Epoch 11/20\n",
            "106/106 [==============================] - 0s 275us/sample - loss: 0.8134 - acc: 0.5943 - val_loss: 0.7051 - val_acc: 0.6400\n",
            "Epoch 12/20\n",
            "106/106 [==============================] - 0s 269us/sample - loss: 0.8137 - acc: 0.6132 - val_loss: 0.7151 - val_acc: 0.6400\n",
            "Epoch 13/20\n",
            "106/106 [==============================] - 0s 311us/sample - loss: 0.8089 - acc: 0.5943 - val_loss: 0.7128 - val_acc: 0.6400\n",
            "Epoch 14/20\n",
            "106/106 [==============================] - 0s 265us/sample - loss: 0.8188 - acc: 0.5755 - val_loss: 0.7129 - val_acc: 0.6400\n",
            "Epoch 15/20\n",
            "106/106 [==============================] - 0s 374us/sample - loss: 0.8051 - acc: 0.6226 - val_loss: 0.7172 - val_acc: 0.6400\n",
            "Epoch 16/20\n",
            "106/106 [==============================] - 0s 251us/sample - loss: 0.7953 - acc: 0.6132 - val_loss: 0.7360 - val_acc: 0.6400\n",
            "Epoch 17/20\n",
            "106/106 [==============================] - 0s 258us/sample - loss: 0.8066 - acc: 0.6226 - val_loss: 0.7305 - val_acc: 0.6400\n",
            "Epoch 18/20\n",
            "106/106 [==============================] - 0s 265us/sample - loss: 0.7993 - acc: 0.6226 - val_loss: 0.7271 - val_acc: 0.6400\n",
            "Epoch 19/20\n",
            "106/106 [==============================] - 0s 258us/sample - loss: 0.8025 - acc: 0.6132 - val_loss: 0.7361 - val_acc: 0.6400\n",
            "Epoch 20/20\n",
            "106/106 [==============================] - 0s 304us/sample - loss: 0.7927 - acc: 0.6132 - val_loss: 0.7303 - val_acc: 0.6400\n"
          ],
          "name": "stdout"
        }
      ]
    },
    {
      "cell_type": "code",
      "metadata": {
        "id": "gkjHWfuvSRXF",
        "colab_type": "code",
        "colab": {}
      },
      "source": [
        "history_dict = history_RS.history"
      ],
      "execution_count": 0,
      "outputs": []
    },
    {
      "cell_type": "code",
      "metadata": {
        "id": "o5o_DnOySStG",
        "colab_type": "code",
        "outputId": "356f70ab-1725-4592-d0c9-cf1e5be7f2ee",
        "colab": {
          "base_uri": "https://localhost:8080/",
          "height": 34
        }
      },
      "source": [
        "history_dict.keys()"
      ],
      "execution_count": 306,
      "outputs": [
        {
          "output_type": "execute_result",
          "data": {
            "text/plain": [
              "dict_keys(['loss', 'acc', 'val_loss', 'val_acc'])"
            ]
          },
          "metadata": {
            "tags": []
          },
          "execution_count": 306
        }
      ]
    },
    {
      "cell_type": "markdown",
      "metadata": {
        "id": "B9UhSxIaHtuO",
        "colab_type": "text"
      },
      "source": [
        "##Plotting training and validation loss RandomSearch\n"
      ]
    },
    {
      "cell_type": "code",
      "metadata": {
        "id": "vq6zsienD5ct",
        "colab_type": "code",
        "colab": {}
      },
      "source": [
        "import matplotlib.pyplot as plt"
      ],
      "execution_count": 0,
      "outputs": []
    },
    {
      "cell_type": "code",
      "metadata": {
        "id": "XJizyjnaIPhQ",
        "colab_type": "code",
        "colab": {}
      },
      "source": [
        "epochs = range(1, num_epochs+1)"
      ],
      "execution_count": 0,
      "outputs": []
    },
    {
      "cell_type": "code",
      "metadata": {
        "colab_type": "code",
        "id": "z_pSVTWwtybS",
        "colab": {}
      },
      "source": [
        "average_acc_history_RS = [np.mean([x[i] for x in all_acc_histories_RS]) for i in range(num_epochs)]\n",
        "average_loss_history_RS = [np.mean([x[i] for x in all_loss_histories_RS]) for i in range(num_epochs)]\n",
        "average_val_acc_history_RS = [np.mean([x[i] for x in all_val_acc_histories_RS]) for i in range(num_epochs)]\n",
        "average_val_loss_history_RS = [np.mean([x[i] for x in all_val_loss_histories_RS]) for i in range(num_epochs)]\n",
        "#media per epoca degli score ottenuti per tutte le k-fold\n",
        "#per ogni k-fold di fanno num_epoch epoche, la media viene fatta prendendo gli score di tutti i k-fold relativi ad una data epoca,\n",
        "#e si fa questo per tutte le epoche"
      ],
      "execution_count": 0,
      "outputs": []
    },
    {
      "cell_type": "code",
      "metadata": {
        "id": "HfEHEYLgIQUQ",
        "colab_type": "code",
        "outputId": "f3f3de83-8bfe-4490-ea94-c83806f8b63a",
        "colab": {
          "base_uri": "https://localhost:8080/",
          "height": 312
        }
      },
      "source": [
        "plt.plot(epochs, average_loss_history_RS, 'bo', label='training loss')\n",
        "plt.plot(epochs, average_val_loss_history_RS, 'b', label='validation loss')\n",
        "plt.title('Training and validation loss')\n",
        "plt.xlabel('Epochs')\n",
        "plt.ylabel('Loss')\n",
        "plt.legend()"
      ],
      "execution_count": 310,
      "outputs": [
        {
          "output_type": "execute_result",
          "data": {
            "text/plain": [
              "<matplotlib.legend.Legend at 0x7f942548cf28>"
            ]
          },
          "metadata": {
            "tags": []
          },
          "execution_count": 310
        },
        {
          "output_type": "display_data",
          "data": {
            "image/png": "[encoded data removed]",
            "text/plain": [
              "<Figure size 432x288 with 1 Axes>"
            ]
          },
          "metadata": {
            "tags": []
          }
        }
      ]
    },
    {
      "cell_type": "markdown",
      "metadata": {
        "id": "Aoc4wMjfI97j",
        "colab_type": "text"
      },
      "source": [
        "##Plotting train and validation accuracy RandomSearch"
      ]
    },
    {
      "cell_type": "code",
      "metadata": {
        "id": "GZi7VzbFIbtJ",
        "colab_type": "code",
        "outputId": "5faeac80-abad-473e-9fa5-1256ea2105c3",
        "colab": {
          "base_uri": "https://localhost:8080/",
          "height": 312
        }
      },
      "source": [
        "plt.plot(epochs, average_acc_history_RS, 'bo', label='Training accuracy')\n",
        "plt.plot(epochs, average_val_acc_history_RS, 'b', label='Validation accuracy')\n",
        "plt.title('Training and validation accuracy')\n",
        "plt.xlabel('Epochs')\n",
        "plt.ylabel('Accuracy')\n",
        "plt.legend() "
      ],
      "execution_count": 311,
      "outputs": [
        {
          "output_type": "execute_result",
          "data": {
            "text/plain": [
              "<matplotlib.legend.Legend at 0x7f9424f88a20>"
            ]
          },
          "metadata": {
            "tags": []
          },
          "execution_count": 311
        },
        {
          "output_type": "display_data",
          "data": {
            "image/png": "[encoded data removed]",
            "text/plain": [
              "<Figure size 432x288 with 1 Axes>"
            ]
          },
          "metadata": {
            "tags": []
          }
        }
      ]
    }
  ]
}