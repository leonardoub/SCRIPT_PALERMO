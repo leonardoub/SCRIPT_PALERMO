{
  "nbformat": 4,
  "nbformat_minor": 0,
  "metadata": {
    "colab": {
      "name": "ANOVA_test.ipynb",
      "provenance": [],
      "authorship_tag": "ABX9TyOkDuXRrgN6MisNQRRTfjP3",
      "include_colab_link": true
    },
    "kernelspec": {
      "name": "python3",
      "display_name": "Python 3"
    }
  },
  "cells": [
    {
      "cell_type": "markdown",
      "metadata": {
        "id": "view-in-github",
        "colab_type": "text"
      },
      "source": [
        "<a href=\"https://colab.research.google.com/github/leonardoub/SCRIPT_PALERMO/blob/master/ANOVA_test.ipynb\" target=\"_parent\"><img src=\"https://colab.research.google.com/assets/colab-badge.svg\" alt=\"Open In Colab\"/></a>"
      ]
    },
    {
      "cell_type": "code",
      "metadata": {
        "id": "zvVurn6MhWfh",
        "colab_type": "code",
        "colab": {}
      },
      "source": [
        "import pandas as pd\n",
        "import numpy as np\n",
        "import matplotlib.pyplot as plt\n",
        "import scipy"
      ],
      "execution_count": 0,
      "outputs": []
    },
    {
      "cell_type": "markdown",
      "metadata": {
        "id": "_DME-inQ4ke_",
        "colab_type": "text"
      },
      "source": [
        "#Load data"
      ]
    },
    {
      "cell_type": "code",
      "metadata": {
        "id": "7Hq45TSf3WcR",
        "colab_type": "code",
        "outputId": "3ef136d3-3030-4eb2-967f-a20a08ea4c8e",
        "colab": {
          "base_uri": "https://localhost:8080/",
          "height": 141
        }
      },
      "source": [
        "#load data from Drive\n",
        "from google.colab import drive\n",
        "drive.mount('/gdrive')\n",
        "%cd /gdrive"
      ],
      "execution_count": 2,
      "outputs": [
        {
          "output_type": "stream",
          "text": [
            "Go to this URL in a browser: https://accounts.google.com/o/oauth2/auth?client_id=947318989803-6bn6qk8qdgf4n4g3pfee6491hc0brc4i.apps.googleusercontent.com&redirect_uri=urn%3aietf%3awg%3aoauth%3a2.0%3aoob&response_type=code&scope=email%20https%3a%2f%2fwww.googleapis.com%2fauth%2fdocs.test%20https%3a%2f%2fwww.googleapis.com%2fauth%2fdrive%20https%3a%2f%2fwww.googleapis.com%2fauth%2fdrive.photos.readonly%20https%3a%2f%2fwww.googleapis.com%2fauth%2fpeopleapi.readonly\n",
            "\n",
            "Enter your authorization code:\n",
            "··········\n",
            "Mounted at /gdrive\n",
            "/gdrive\n"
          ],
          "name": "stdout"
        }
      ]
    },
    {
      "cell_type": "code",
      "metadata": {
        "id": "UCkUXesZhMzg",
        "colab_type": "code",
        "colab": {}
      },
      "source": [
        "train_dataset_path = '/gdrive/My Drive/AIM_PA/database_training2.csv'\n",
        "test_dataset_path = '/gdrive/My Drive/AIM_PA/database_nostro_without_nan.csv'"
      ],
      "execution_count": 0,
      "outputs": []
    },
    {
      "cell_type": "code",
      "metadata": {
        "id": "TczPxOpEhTXw",
        "colab_type": "code",
        "colab": {}
      },
      "source": [
        "df_train = pd.read_csv(train_dataset_path)\n",
        "df_test = pd.read_csv(test_dataset_path)"
      ],
      "execution_count": 0,
      "outputs": []
    },
    {
      "cell_type": "code",
      "metadata": {
        "id": "9I5MNxeW3j2G",
        "colab_type": "code",
        "colab": {}
      },
      "source": [
        "df_train.rename(columns={'Survival.time (months)':'Surv_time_months'}, inplace=True)"
      ],
      "execution_count": 0,
      "outputs": []
    },
    {
      "cell_type": "code",
      "metadata": {
        "id": "TLxDyFPo3sU9",
        "colab_type": "code",
        "colab": {}
      },
      "source": [
        "df_test.rename(columns={'Survival.time (months)':'Surv_time_months'}, inplace=True)"
      ],
      "execution_count": 0,
      "outputs": []
    },
    {
      "cell_type": "code",
      "metadata": {
        "id": "oXU_B2k03uYa",
        "colab_type": "code",
        "colab": {}
      },
      "source": [
        "df_train.rename(columns={'Overall.Stage':'Overall_Stage'}, inplace=True)\n",
        "df_test.rename(columns={'Overall.Stage':'Overall_Stage'}, inplace=True)"
      ],
      "execution_count": 0,
      "outputs": []
    },
    {
      "cell_type": "code",
      "metadata": {
        "id": "VCAziOcqj_6y",
        "colab_type": "code",
        "colab": {}
      },
      "source": [
        "#df_train_A = df_train[df_train['Histology'] == 'adenocarcinoma']\n",
        "#df_test_A = df_test[df_test['Histology'] == 'adenocarcinoma']\n",
        "\n",
        "#df_train_L = df_train[df_train['Histology'] == 'large cell']\n",
        "#df_test_L = df_test[df_test['Histology'] == 'large cell']\n",
        "\n",
        "#df_train_S = df_train[df_train['Histology'] == 'squamous cell carcinoma']\n",
        "#df_test_S = df_test[df_test['Histology'] == 'squamous cell carcinoma']"
      ],
      "execution_count": 0,
      "outputs": []
    },
    {
      "cell_type": "code",
      "metadata": {
        "id": "T1YCrOMP3_4q",
        "colab_type": "code",
        "colab": {}
      },
      "source": [
        "#public_data_A = df_train_A.drop(['Histology','Surv_time_months', 'OS', 'deadstatus.event','Overall_Stage'], axis=1)\n",
        "#public_data_L = df_train_L.drop(['Histology','Surv_time_months', 'OS', 'deadstatus.event','Overall_Stage'], axis=1)\n",
        "#public_data_S = df_train_S.drop(['Histology','Surv_time_months', 'OS', 'deadstatus.event','Overall_Stage'], axis=1)"
      ],
      "execution_count": 0,
      "outputs": []
    },
    {
      "cell_type": "code",
      "metadata": {
        "id": "BWj1mwjV4Mzo",
        "colab_type": "code",
        "colab": {}
      },
      "source": [
        "#PA_data_A = df_test_A.drop(['Histology', 'Surv_time_months', 'OS', 'deadstatus.event','Overall_Stage'], axis=1)\n",
        "#PA_data_L = df_test_L.drop(['Histology', 'Surv_time_months', 'OS', 'deadstatus.event','Overall_Stage'], axis=1)\n",
        "#PA_data_S = df_test_S.drop(['Histology', 'Surv_time_months', 'OS', 'deadstatus.event','Overall_Stage'], axis=1)"
      ],
      "execution_count": 0,
      "outputs": []
    },
    {
      "cell_type": "code",
      "metadata": {
        "id": "aJdAObm4l1eU",
        "colab_type": "code",
        "colab": {}
      },
      "source": [
        "public_data = df_train.drop(['Surv_time_months', 'OS', 'deadstatus.event','Overall_Stage'], axis=1)\n",
        "PA_data = df_test.drop(['Histology', 'Surv_time_months', 'OS', 'deadstatus.event','Overall_Stage'], axis=1)"
      ],
      "execution_count": 0,
      "outputs": []
    },
    {
      "cell_type": "code",
      "metadata": {
        "id": "21wbjNUYn9ft",
        "colab_type": "code",
        "colab": {}
      },
      "source": [
        "public_data_1 = df_train.drop(['Histology', 'Surv_time_months', 'OS', 'deadstatus.event','Overall_Stage'], axis=1)"
      ],
      "execution_count": 0,
      "outputs": []
    },
    {
      "cell_type": "code",
      "metadata": {
        "id": "dKdS4Low4PHh",
        "colab_type": "code",
        "colab": {}
      },
      "source": [
        "public_labels = df_train.Histology"
      ],
      "execution_count": 0,
      "outputs": []
    },
    {
      "cell_type": "code",
      "metadata": {
        "id": "K6EsAdEt4RNP",
        "colab_type": "code",
        "colab": {}
      },
      "source": [
        "PA_labels = df_test.Histology"
      ],
      "execution_count": 0,
      "outputs": []
    },
    {
      "cell_type": "code",
      "metadata": {
        "id": "dYHpnr0MipUU",
        "colab_type": "code",
        "colab": {}
      },
      "source": [
        "feat_A = public_data['Maximum'][public_data.Histology == 'adenocarcinoma']"
      ],
      "execution_count": 0,
      "outputs": []
    },
    {
      "cell_type": "code",
      "metadata": {
        "id": "Mt_cFA79mUK9",
        "colab_type": "code",
        "colab": {}
      },
      "source": [
        "feat_L = public_data['Maximum'][public_data.Histology == 'large cell']"
      ],
      "execution_count": 0,
      "outputs": []
    },
    {
      "cell_type": "code",
      "metadata": {
        "id": "UCv0mGsUjjbV",
        "colab_type": "code",
        "colab": {}
      },
      "source": [
        "feat_S = public_data['Maximum'][public_data.Histology == 'squamous cell carcinoma']"
      ],
      "execution_count": 0,
      "outputs": []
    },
    {
      "cell_type": "code",
      "metadata": {
        "id": "3BRm_UbhkWpJ",
        "colab_type": "code",
        "colab": {
          "base_uri": "https://localhost:8080/",
          "height": 34
        },
        "outputId": "c4f1891c-be6b-42aa-9279-16e32a1b41b7"
      },
      "source": [
        "# load packages\n",
        "import scipy.stats as stats\n",
        "# stats f_oneway functions takes the groups as input and returns F and P-value\n",
        "fvalue, pvalue = stats.f_oneway(feat_A, feat_L, feat_S)\n",
        "print(fvalue, pvalue)"
      ],
      "execution_count": 38,
      "outputs": [
        {
          "output_type": "stream",
          "text": [
            "4.7184035638853965 0.010540043241126989\n"
          ],
          "name": "stdout"
        }
      ]
    },
    {
      "cell_type": "code",
      "metadata": {
        "id": "HTITDJufmzNj",
        "colab_type": "code",
        "colab": {
          "base_uri": "https://localhost:8080/",
          "height": 156
        },
        "outputId": "3cab1464-47c8-440f-bc51-6670f218f648"
      },
      "source": [
        "for column in public_data_1.columns:\n",
        "\n",
        "  feat_A = public_data[column][public_data.Histology == 'adenocarcinoma']\n",
        "  feat_L = public_data[column][public_data.Histology == 'large cell']\n",
        "  feat_S = public_data[column][public_data.Histology == 'squamous cell carcinoma']\n",
        "\n",
        "  fvalue, pvalue = stats.f_oneway(feat_A, feat_L, feat_S)\n",
        "\n",
        "  if pvalue <= 0.05:\n",
        "    print(fvalue, pvalue, column)\n"
      ],
      "execution_count": 42,
      "outputs": [
        {
          "output_type": "stream",
          "text": [
            "3.260231291649289 0.0415894832636264 HighGrayLevelEmphasis\n",
            "4.7184035638853965 0.010540043241126989 Maximum\n",
            "5.359338541197532 0.005818378887600915 Range\n",
            "3.635718433558213 0.029123760736867767 LongRunHighGrayLevelEmphasis\n",
            "3.187154836462757 0.04458597869558036 HighGrayLevelRunEmphasis\n",
            "4.652836901674387 0.011204051595582876 GrayLevelVariance.2\n",
            "3.1553089945578137 0.04595955606831947 SmallAreaHighGrayLevelEmphasis\n",
            "4.845308726734106 0.009366122195029402 ZoneEntropy\n"
          ],
          "name": "stdout"
        }
      ]
    },
    {
      "cell_type": "markdown",
      "metadata": {
        "id": "cRVdrewCrQ3x",
        "colab_type": "text"
      },
      "source": [
        "Null hypotheses: Groups means are equal (no variation in means of groups)\n",
        "\n",
        "\n",
        "Alternative hypotheses: At least, one group mean is different from other groups"
      ]
    },
    {
      "cell_type": "markdown",
      "metadata": {
        "id": "W7L3ZAMqsd7E",
        "colab_type": "text"
      },
      "source": [
        "Soglia che si considera in genere: 0.05"
      ]
    },
    {
      "cell_type": "markdown",
      "metadata": {
        "id": "1dJnaLDDsujf",
        "colab_type": "text"
      },
      "source": [
        "se pvalue <= 0.5 si rigetta l'Hp zero\n"
      ]
    },
    {
      "cell_type": "markdown",
      "metadata": {
        "id": "fd1pIEj2urOZ",
        "colab_type": "text"
      },
      "source": [
        "##Compute the Kruskal-Wallis H-test for independent samples.\n",
        "\n",
        "The Kruskal-Wallis H-test tests the null hypothesis that the population median of all of the groups are equal. It is a non-parametric version of ANOVA"
      ]
    },
    {
      "cell_type": "code",
      "metadata": {
        "id": "f8dfzuScsjwD",
        "colab_type": "code",
        "colab": {
          "base_uri": "https://localhost:8080/",
          "height": 260
        },
        "outputId": "68166b8b-6a38-4e7f-cfc3-9fb5ed504890"
      },
      "source": [
        "for column in public_data_1.columns:\n",
        "\n",
        "  feat_A = public_data[column][public_data.Histology == 'adenocarcinoma']\n",
        "  feat_L = public_data[column][public_data.Histology == 'large cell']\n",
        "  feat_S = public_data[column][public_data.Histology == 'squamous cell carcinoma']\n",
        "\n",
        "  fvalue, pvalue = stats.kruskal(feat_A, feat_L, feat_S)\n",
        "\n",
        "  if pvalue <= 0.05:\n",
        "    print(fvalue, pvalue, column)\n"
      ],
      "execution_count": 44,
      "outputs": [
        {
          "output_type": "stream",
          "text": [
            "6.147661147655405 0.04624367533780151 Maximum2DDiameterRow\n",
            "7.327260213194336 0.02563927030450879 HighGrayLevelEmphasis\n",
            "6.621721927698957 0.03648474817830056 Idn\n",
            "6.620504649169675 0.036506960987710696 Autocorrelation\n",
            "6.444153541861307 0.0398721668601435 Median\n",
            "6.809322290739744 0.033218074273387084 Maximum\n",
            "7.715868105731206 0.021111569887821632 90Percentile\n",
            "8.575330349975955 0.013736961284395596 Range\n",
            "6.975503981330917 0.03056951554313273 LongRunHighGrayLevelEmphasis\n",
            "6.768094930660595 0.03390992734838747 HighGrayLevelRunEmphasis\n",
            "11.13192988155447 0.0038258870091253303 GrayLevelVariance.2\n",
            "7.892243014763665 0.019329526002898275 SmallAreaHighGrayLevelEmphasis\n",
            "7.1864424655768175 0.0275095728076037 HighGrayLevelZoneEmphasis\n",
            "10.247500028441095 0.005953654690921986 ZoneEntropy\n"
          ],
          "name": "stdout"
        }
      ]
    },
    {
      "cell_type": "code",
      "metadata": {
        "id": "4obAYwozojh6",
        "colab_type": "code",
        "colab": {
          "base_uri": "https://localhost:8080/",
          "height": 156
        },
        "outputId": "47f7caa7-abb6-4252-a300-c890cb19b171"
      },
      "source": [
        "for column in public_data_1.columns:\n",
        "\n",
        "  feat_A = public_data[column][public_data.Histology == 'adenocarcinoma']\n",
        "  feat_L = public_data[column][public_data.Histology == 'large cell']\n",
        "  feat_S = public_data[column][public_data.Histology == 'squamous cell carcinoma']\n",
        "\n",
        "  fvalue_1, pvalue_1 = stats.f_oneway(feat_A, feat_L, feat_S)\n",
        "  fvalue_2, pvalue_2 = stats.kruskal(feat_A, feat_L, feat_S)\n",
        "\n",
        "\n",
        "  if (pvalue_1 <= 0.05) & (pvalue_2 <= 0.5):\n",
        "    print(column)"
      ],
      "execution_count": 47,
      "outputs": [
        {
          "output_type": "stream",
          "text": [
            "HighGrayLevelEmphasis\n",
            "Maximum\n",
            "Range\n",
            "LongRunHighGrayLevelEmphasis\n",
            "HighGrayLevelRunEmphasis\n",
            "GrayLevelVariance.2\n",
            "SmallAreaHighGrayLevelEmphasis\n",
            "ZoneEntropy\n"
          ],
          "name": "stdout"
        }
      ]
    },
    {
      "cell_type": "code",
      "metadata": {
        "id": "0Oa-1j39vQXd",
        "colab_type": "code",
        "colab": {}
      },
      "source": [
        ""
      ],
      "execution_count": 0,
      "outputs": []
    }
  ]
}