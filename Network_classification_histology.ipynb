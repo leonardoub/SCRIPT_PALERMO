{
  "nbformat": 4,
  "nbformat_minor": 0,
  "metadata": {
    "colab": {
      "name": "Network_classification_histology.ipynb",
      "provenance": [],
      "include_colab_link": true
    },
    "kernelspec": {
      "name": "python3",
      "display_name": "Python 3"
    }
  },
  "cells": [
    {
      "cell_type": "markdown",
      "metadata": {
        "id": "view-in-github",
        "colab_type": "text"
      },
      "source": [
        "<a href=\"https://colab.research.google.com/github/leonardoub/SCRIPT_PALERMO/blob/master/Network_classification_histology.ipynb\" target=\"_parent\"><img src=\"https://colab.research.google.com/assets/colab-badge.svg\" alt=\"Open In Colab\"/></a>"
      ]
    },
    {
      "cell_type": "code",
      "metadata": {
        "id": "ck9uZtF_gzU7",
        "colab_type": "code",
        "colab": {}
      },
      "source": [
        "import pandas as pd\n",
        "import numpy as np\n",
        "import matplotlib.pyplot as plt\n",
        "import scipy"
      ],
      "execution_count": 0,
      "outputs": []
    },
    {
      "cell_type": "code",
      "metadata": {
        "id": "lyyNl4gxhEwD",
        "colab_type": "code",
        "outputId": "8907d02e-51f3-40fb-b35a-534dad43447b",
        "colab": {
          "base_uri": "https://localhost:8080/",
          "height": 52
        }
      },
      "source": [
        "#load data from Drive\n",
        "from google.colab import drive\n",
        "drive.mount('/gdrive')\n",
        "%cd /gdrive"
      ],
      "execution_count": 1249,
      "outputs": [
        {
          "output_type": "stream",
          "text": [
            "Drive already mounted at /gdrive; to attempt to forcibly remount, call drive.mount(\"/gdrive\", force_remount=True).\n",
            "/gdrive\n"
          ],
          "name": "stdout"
        }
      ]
    },
    {
      "cell_type": "code",
      "metadata": {
        "id": "UCkUXesZhMzg",
        "colab_type": "code",
        "colab": {}
      },
      "source": [
        "train_dataset_path = '/gdrive/My Drive/AIM_PA/database_training2.csv'\n",
        "test_dataset_path = '/gdrive/My Drive/AIM_PA/database_nostro_without_nan.csv'"
      ],
      "execution_count": 0,
      "outputs": []
    },
    {
      "cell_type": "code",
      "metadata": {
        "id": "TczPxOpEhTXw",
        "colab_type": "code",
        "colab": {}
      },
      "source": [
        "df_train = pd.read_csv(train_dataset_path)\n",
        "df_test = pd.read_csv(test_dataset_path)"
      ],
      "execution_count": 0,
      "outputs": []
    },
    {
      "cell_type": "code",
      "metadata": {
        "id": "Ll-87QSVhqhj",
        "colab_type": "code",
        "colab": {}
      },
      "source": [
        "df_train.rename(columns={'Survival.time (months)':'Surv_time_months'}, inplace=True)"
      ],
      "execution_count": 0,
      "outputs": []
    },
    {
      "cell_type": "code",
      "metadata": {
        "id": "ulSbeCedhuxJ",
        "colab_type": "code",
        "colab": {}
      },
      "source": [
        "df_test.rename(columns={'Survival.time (months)':'Surv_time_months'}, inplace=True)"
      ],
      "execution_count": 0,
      "outputs": []
    },
    {
      "cell_type": "code",
      "metadata": {
        "id": "xbcwLGg3iNSn",
        "colab_type": "code",
        "colab": {}
      },
      "source": [
        "df_train.rename(columns={'Overall.Stage':'Overall_Stage'}, inplace=True)\n",
        "df_test.rename(columns={'Overall.Stage':'Overall_Stage'}, inplace=True)"
      ],
      "execution_count": 0,
      "outputs": []
    },
    {
      "cell_type": "code",
      "metadata": {
        "id": "oKKv4iKghWWn",
        "colab_type": "code",
        "colab": {}
      },
      "source": [
        "train_data = df_train.drop(['Histology', 'Surv_time_months', 'OS', 'deadstatus.event','Overall_Stage'], axis=1)"
      ],
      "execution_count": 0,
      "outputs": []
    },
    {
      "cell_type": "code",
      "metadata": {
        "id": "vQdR4izXiT0f",
        "colab_type": "code",
        "colab": {}
      },
      "source": [
        "test_data = df_test.drop(['Histology', 'Surv_time_months', 'OS', 'deadstatus.event','Overall_Stage'], axis=1)"
      ],
      "execution_count": 0,
      "outputs": []
    },
    {
      "cell_type": "code",
      "metadata": {
        "id": "Lu46pqnPhnCG",
        "colab_type": "code",
        "colab": {}
      },
      "source": [
        "train_labels = df_train.Histology"
      ],
      "execution_count": 0,
      "outputs": []
    },
    {
      "cell_type": "code",
      "metadata": {
        "id": "aS5wIylYmsQf",
        "colab_type": "code",
        "colab": {}
      },
      "source": [
        "test_labels = df_test.Histology"
      ],
      "execution_count": 0,
      "outputs": []
    },
    {
      "cell_type": "markdown",
      "metadata": {
        "id": "dtPx7PMDnXM3",
        "colab_type": "text"
      },
      "source": [
        "##Z score dei dati"
      ]
    },
    {
      "cell_type": "code",
      "metadata": {
        "id": "XK4Qji2EnVV4",
        "colab_type": "code",
        "colab": {}
      },
      "source": [
        "mean = train_data.mean(axis=0)\n",
        "train_data_stand = train_data - mean\n",
        "std = train_data.std(axis=0)\n",
        "train_data_stand /= std"
      ],
      "execution_count": 0,
      "outputs": []
    },
    {
      "cell_type": "code",
      "metadata": {
        "id": "YOVOoNOvm0Yx",
        "colab_type": "code",
        "colab": {}
      },
      "source": [
        "test_data_stand = test_data - mean\n",
        "test_data_stand /= std"
      ],
      "execution_count": 0,
      "outputs": []
    },
    {
      "cell_type": "markdown",
      "metadata": {
        "id": "00VohsAyokpq",
        "colab_type": "text"
      },
      "source": [
        "##Vettorizzare i label"
      ]
    },
    {
      "cell_type": "code",
      "metadata": {
        "id": "8RvS_9ISpxRi",
        "colab_type": "code",
        "colab": {}
      },
      "source": [
        "word_index={'adenocarcinoma':0, 'large cell':1, 'squamous cell carcinoma':2}"
      ],
      "execution_count": 0,
      "outputs": []
    },
    {
      "cell_type": "code",
      "metadata": {
        "id": "uiPW9U0XrWY2",
        "colab_type": "code",
        "colab": {}
      },
      "source": [
        "train_labels_dec = [word_index[label] for label in train_labels]"
      ],
      "execution_count": 0,
      "outputs": []
    },
    {
      "cell_type": "code",
      "metadata": {
        "id": "C4SBiKFQsKFw",
        "colab_type": "code",
        "colab": {}
      },
      "source": [
        "test_labels_dec = [word_index[label] for label in test_labels]"
      ],
      "execution_count": 0,
      "outputs": []
    },
    {
      "cell_type": "code",
      "metadata": {
        "id": "0IMbTYR7okJq",
        "colab_type": "code",
        "colab": {}
      },
      "source": [
        "from keras.utils.np_utils import to_categorical"
      ],
      "execution_count": 0,
      "outputs": []
    },
    {
      "cell_type": "code",
      "metadata": {
        "id": "0Frv4FDNn6Qu",
        "colab_type": "code",
        "colab": {}
      },
      "source": [
        "one_hot_train_labels = to_categorical(train_labels_dec)\n",
        "one_hot_test_labels = to_categorical(test_labels_dec)"
      ],
      "execution_count": 0,
      "outputs": []
    },
    {
      "cell_type": "markdown",
      "metadata": {
        "id": "Mn0tkOGc3LKN",
        "colab_type": "text"
      },
      "source": [
        "#PCA"
      ]
    },
    {
      "cell_type": "code",
      "metadata": {
        "id": "oS76u6iu3Seg",
        "colab_type": "code",
        "colab": {}
      },
      "source": [
        "from sklearn.decomposition import PCA"
      ],
      "execution_count": 0,
      "outputs": []
    },
    {
      "cell_type": "code",
      "metadata": {
        "id": "KCjC4zqJ3bui",
        "colab_type": "code",
        "colab": {}
      },
      "source": [
        "pca = PCA(n_components=0.9, svd_solver='full')"
      ],
      "execution_count": 0,
      "outputs": []
    },
    {
      "cell_type": "code",
      "metadata": {
        "id": "dLUCf9qX4p_e",
        "colab_type": "code",
        "colab": {
          "base_uri": "https://localhost:8080/",
          "height": 52
        },
        "outputId": "2395253c-8e48-41e2-b4bc-b5096ea75c40"
      },
      "source": [
        "pca.fit(train_data_stand)"
      ],
      "execution_count": 1268,
      "outputs": [
        {
          "output_type": "execute_result",
          "data": {
            "text/plain": [
              "PCA(copy=True, iterated_power='auto', n_components=0.9, random_state=None,\n",
              "    svd_solver='full', tol=0.0, whiten=False)"
            ]
          },
          "metadata": {
            "tags": []
          },
          "execution_count": 1268
        }
      ]
    },
    {
      "cell_type": "code",
      "metadata": {
        "id": "QfyaKgNZ44o3",
        "colab_type": "code",
        "colab": {}
      },
      "source": [
        "train_data_stand_pca = pca.transform(train_data_stand)\n",
        "test_data_stand_pca = pca.transform(test_data_stand)"
      ],
      "execution_count": 0,
      "outputs": []
    },
    {
      "cell_type": "code",
      "metadata": {
        "id": "Uz9C4nl05b_g",
        "colab_type": "code",
        "colab": {
          "base_uri": "https://localhost:8080/",
          "height": 34
        },
        "outputId": "4a1fb23d-3f6a-4e4b-ef57-00e3d3680040"
      },
      "source": [
        "train_data_stand_pca.shape"
      ],
      "execution_count": 1270,
      "outputs": [
        {
          "output_type": "execute_result",
          "data": {
            "text/plain": [
              "(131, 9)"
            ]
          },
          "metadata": {
            "tags": []
          },
          "execution_count": 1270
        }
      ]
    },
    {
      "cell_type": "markdown",
      "metadata": {
        "id": "8wSKvSu4s5ip",
        "colab_type": "text"
      },
      "source": [
        "#Building Network"
      ]
    },
    {
      "cell_type": "code",
      "metadata": {
        "id": "1tX_y6KKs3pM",
        "colab_type": "code",
        "colab": {}
      },
      "source": [
        "from keras import models"
      ],
      "execution_count": 0,
      "outputs": []
    },
    {
      "cell_type": "code",
      "metadata": {
        "id": "ShwM6YMqsxxJ",
        "colab_type": "code",
        "colab": {}
      },
      "source": [
        "from keras import layers"
      ],
      "execution_count": 0,
      "outputs": []
    },
    {
      "cell_type": "code",
      "metadata": {
        "id": "IAzbu7P1VylY",
        "colab_type": "code",
        "colab": {}
      },
      "source": [
        "from keras import regularizers"
      ],
      "execution_count": 0,
      "outputs": []
    },
    {
      "cell_type": "code",
      "metadata": {
        "id": "dyqbUCK5wOVt",
        "colab_type": "code",
        "colab": {}
      },
      "source": [
        "from keras.optimizers import SGD"
      ],
      "execution_count": 0,
      "outputs": []
    },
    {
      "cell_type": "code",
      "metadata": {
        "id": "7OAEgN31tHVV",
        "colab_type": "code",
        "colab": {}
      },
      "source": [
        "def build_model():\n",
        "  model = models.Sequential()\n",
        "  model.add(layers.Dense(6, activation='relu', input_shape=(9,)))\n",
        "  model.add(layers.Dense(3, activation='softmax'))\n",
        "  sgd = SGD(lr=0.001, decay=1e-6, momentum=0.5, nesterov=True)\n",
        "  model.compile(optimizer=sgd, loss='categorical_crossentropy', metrics=['accuracy'])\n",
        "  return model"
      ],
      "execution_count": 0,
      "outputs": []
    },
    {
      "cell_type": "markdown",
      "metadata": {
        "id": "mIxDu50pBeiz",
        "colab_type": "text"
      },
      "source": [
        "#Stratified k-fold"
      ]
    },
    {
      "cell_type": "markdown",
      "metadata": {
        "id": "ZyLcvedUBpxA",
        "colab_type": "text"
      },
      "source": [
        "This cross-validation object is a variation of KFold that returns stratified folds. The folds are made by preserving the percentage of samples for each class."
      ]
    },
    {
      "cell_type": "code",
      "metadata": {
        "id": "fY1apcZ19gFp",
        "colab_type": "code",
        "colab": {}
      },
      "source": [
        "from sklearn.model_selection import StratifiedKFold"
      ],
      "execution_count": 0,
      "outputs": []
    },
    {
      "cell_type": "code",
      "metadata": {
        "id": "oaBDM-PtBx5V",
        "colab_type": "code",
        "colab": {
          "base_uri": "https://localhost:8080/",
          "height": 34
        },
        "outputId": "a2a5fe58-22ed-4469-e3f8-c77e04a786ee"
      },
      "source": [
        "skf = StratifiedKFold(n_splits=3, shuffle=True, random_state=1)\n",
        "skf.get_n_splits(train_data_stand_pca, train_labels_dec)"
      ],
      "execution_count": 1277,
      "outputs": [
        {
          "output_type": "execute_result",
          "data": {
            "text/plain": [
              "3"
            ]
          },
          "metadata": {
            "tags": []
          },
          "execution_count": 1277
        }
      ]
    },
    {
      "cell_type": "code",
      "metadata": {
        "id": "Me-XQzPyD1gi",
        "colab_type": "code",
        "colab": {
          "base_uri": "https://localhost:8080/",
          "height": 382
        },
        "outputId": "e237d1c8-01cb-4e16-e41c-0b8bd1c5911f"
      },
      "source": [
        "for train_index, test_index in skf.split(train_data_stand_pca, train_labels_dec):\n",
        "    print(\"TRAIN:\", train_index, \"TEST:\", test_index)"
      ],
      "execution_count": 1278,
      "outputs": [
        {
          "output_type": "stream",
          "text": [
            "TRAIN: [  0   1   4   5   8   9  11  12  14  15  16  17  19  20  22  23  24  25\n",
            "  27  29  30  33  34  36  37  38  39  40  41  42  44  45  46  48  51  52\n",
            "  53  56  57  58  59  60  62  63  65  66  67  69  72  76  77  78  79  80\n",
            "  81  83  84  85  87  88  89  90  92  96  97  98 100 101 102 103 104 105\n",
            " 107 109 110 111 113 115 117 120 121 122 124 125 127 128] TEST: [  2   3   6   7  10  13  18  21  26  28  31  32  35  43  47  49  50  54\n",
            "  55  61  64  68  70  71  73  74  75  82  86  91  93  94  95  99 106 108\n",
            " 112 114 116 118 119 123 126 129 130]\n",
            "TRAIN: [  2   3   5   6   7   8   9  10  11  12  13  18  20  21  25  26  27  28\n",
            "  29  30  31  32  34  35  36  38  39  43  44  45  46  47  48  49  50  53\n",
            "  54  55  57  58  61  63  64  65  66  68  70  71  73  74  75  76  78  82\n",
            "  84  85  86  87  90  91  92  93  94  95  96  99 100 101 102 105 106 108\n",
            " 109 111 112 114 115 116 118 119 122 123 124 125 126 127 129 130] TEST: [  0   1   4  14  15  16  17  19  22  23  24  33  37  40  41  42  51  52\n",
            "  56  59  60  62  67  69  72  77  79  80  81  83  88  89  97  98 103 104\n",
            " 107 110 113 117 120 121 128]\n",
            "TRAIN: [  0   1   2   3   4   6   7  10  13  14  15  16  17  18  19  21  22  23\n",
            "  24  26  28  31  32  33  35  37  40  41  42  43  47  49  50  51  52  54\n",
            "  55  56  59  60  61  62  64  67  68  69  70  71  72  73  74  75  77  79\n",
            "  80  81  82  83  86  88  89  91  93  94  95  97  98  99 103 104 106 107\n",
            " 108 110 112 113 114 116 117 118 119 120 121 123 126 128 129 130] TEST: [  5   8   9  11  12  20  25  27  29  30  34  36  38  39  44  45  46  48\n",
            "  53  57  58  63  65  66  76  78  84  85  87  90  92  96 100 101 102 105\n",
            " 109 111 115 122 124 125 127]\n"
          ],
          "name": "stdout"
        }
      ]
    },
    {
      "cell_type": "code",
      "metadata": {
        "id": "BgdGK-8FK-U_",
        "colab_type": "code",
        "colab": {
          "base_uri": "https://localhost:8080/",
          "height": 34
        },
        "outputId": "681f9e48-669d-4939-ad7f-ea0685917e92"
      },
      "source": [
        "train_labels_dec[125]"
      ],
      "execution_count": 1279,
      "outputs": [
        {
          "output_type": "execute_result",
          "data": {
            "text/plain": [
              "2"
            ]
          },
          "metadata": {
            "tags": []
          },
          "execution_count": 1279
        }
      ]
    },
    {
      "cell_type": "code",
      "metadata": {
        "id": "a81MOfNlJCY8",
        "colab_type": "code",
        "colab": {}
      },
      "source": [
        "#num_epochs = 20\n",
        "#all_scores = []"
      ],
      "execution_count": 0,
      "outputs": []
    },
    {
      "cell_type": "code",
      "metadata": {
        "id": "sBJg0XD4Shhc",
        "colab_type": "code",
        "colab": {}
      },
      "source": [
        "from keras.utils.np_utils import to_categorical"
      ],
      "execution_count": 0,
      "outputs": []
    },
    {
      "cell_type": "code",
      "metadata": {
        "id": "a5Sq8r9GEPx3",
        "colab_type": "code",
        "colab": {}
      },
      "source": [
        "#for train_index, val_index in skf.split(train_data_stand_pca, train_labels_dec):\n",
        " \n",
        "#  partial_train_data = np.array([train_data_stand_pca[i] for i in train_index])\n",
        "#  partial_train_targets = np.array([train_labels_dec[i] for i in train_index])\n",
        "\n",
        "#  val_data = np.array([train_data_stand_pca[i] for i in val_index])\n",
        "#  val_targets = np.array([train_labels_dec[i] for i in val_index])\n",
        "\n",
        "#  one_hot_partial_train_targets = to_categorical(partial_train_targets)\n",
        "#  one_hot_val_targets = to_categorical(val_targets)\n",
        "\n",
        "#  model = build_model()\n",
        "#  model.fit(partial_train_data, one_hot_partial_train_targets, epochs = num_epochs, batch_size=1)\n",
        "\n",
        "#  val_loss, val_accuracy = model.evaluate(val_data, one_hot_val_targets)\n",
        "#  all_scores.append(val_accuracy)\n",
        "#I parametri per la valutazione vengono calcolati una volta per ogni k-fold, per ogni set di validazione, quindi k volte"
      ],
      "execution_count": 0,
      "outputs": []
    },
    {
      "cell_type": "markdown",
      "metadata": {
        "id": "2X5B3lasRcsR",
        "colab_type": "text"
      },
      "source": [
        "C'è un problema: keras.utils.to_categorical produces a one-hot encoded class vector, i.e. the multilabel-indicator mentioned in the error message. StratifiedKFold is not designed to work with such input; i.e. your y must be a 1-D array of your class labels.\n",
        "Essentially, what you have to do is simply to invert the order of the operations: split first (using your intial y_train), and convert to_categorical afterwards."
      ]
    },
    {
      "cell_type": "code",
      "metadata": {
        "id": "8K8a1I3yU9FS",
        "colab_type": "code",
        "colab": {
          "base_uri": "https://localhost:8080/",
          "height": 1000
        },
        "outputId": "1d73842c-8132-469d-93d3-ae0ef355cfbd"
      },
      "source": [
        "num_epochs = 30\n",
        "all_acc_histories = []\n",
        "all_loss_histories = []\n",
        "all_val_acc_histories = []\n",
        "all_val_loss_histories = []\n",
        "\n",
        "for train_index, val_index in skf.split(train_data_stand_pca, train_labels_dec):\n",
        " \n",
        "  partial_train_data = np.array([train_data_stand_pca[i] for i in train_index])\n",
        "  partial_train_targets = np.array([train_labels_dec[i] for i in train_index])\n",
        "  \n",
        "  val_data = np.array([train_data_stand_pca[i] for i in val_index])\n",
        "  val_targets = np.array([train_labels_dec[i] for i in val_index])\n",
        "\n",
        "  one_hot_partial_train_targets = to_categorical(partial_train_targets)\n",
        "  one_hot_val_targets = to_categorical(val_targets)\n",
        "\n",
        "  model = build_model()\n",
        "  history = model.fit(partial_train_data, one_hot_partial_train_targets, validation_data=(val_data, one_hot_val_targets), \n",
        "                      epochs= num_epochs, batch_size=10)\n",
        "  \n",
        "  acc_history = history.history['acc']\n",
        "  all_acc_histories.append(acc_history)\n",
        "\n",
        "  loss_history = history.history['loss']\n",
        "  all_loss_histories.append(loss_history)\n",
        "\n",
        "  acc_val_history = history.history['val_acc']\n",
        "  all_val_acc_histories.append(acc_val_history)\n",
        "\n",
        "  loss_val_history = history.history['val_loss']\n",
        "  all_val_loss_histories.append(loss_val_history)\n",
        "  \n",
        "\n",
        "#I parametri per la valutazione vengono calcolati per ogni epoca, quindi num_epochs volte. \n",
        "#Il tutto viene ripetuto un numero di volte pari a n_splits.\n",
        "#Si ottiene una lista con n_splits elementi ciascuno dei quali è una lista lunga num_epochs,\n",
        "#ogni elemento può essere uno fra questi: dict_keys(['val_loss', 'val_acc', 'loss', 'acc']) "
      ],
      "execution_count": 1283,
      "outputs": [
        {
          "output_type": "stream",
          "text": [
            "Train on 86 samples, validate on 45 samples\n",
            "Epoch 1/30\n",
            "86/86 [==============================] - 5s 58ms/step - loss: 3.5214 - acc: 0.4070 - val_loss: 2.2028 - val_acc: 0.3333\n",
            "Epoch 2/30\n",
            "86/86 [==============================] - 0s 323us/step - loss: 3.1837 - acc: 0.4070 - val_loss: 2.0838 - val_acc: 0.3111\n",
            "Epoch 3/30\n",
            "86/86 [==============================] - 0s 287us/step - loss: 2.8825 - acc: 0.4070 - val_loss: 1.9985 - val_acc: 0.3111\n",
            "Epoch 4/30\n",
            "86/86 [==============================] - 0s 246us/step - loss: 2.6719 - acc: 0.4419 - val_loss: 1.9435 - val_acc: 0.3333\n",
            "Epoch 5/30\n",
            "86/86 [==============================] - 0s 287us/step - loss: 2.5126 - acc: 0.4302 - val_loss: 1.9091 - val_acc: 0.3556\n",
            "Epoch 6/30\n",
            "86/86 [==============================] - 0s 290us/step - loss: 2.3800 - acc: 0.4302 - val_loss: 1.8870 - val_acc: 0.3556\n",
            "Epoch 7/30\n",
            "86/86 [==============================] - 0s 288us/step - loss: 2.2733 - acc: 0.4535 - val_loss: 1.8721 - val_acc: 0.3556\n",
            "Epoch 8/30\n",
            "86/86 [==============================] - 0s 268us/step - loss: 2.1818 - acc: 0.4535 - val_loss: 1.8635 - val_acc: 0.3778\n",
            "Epoch 9/30\n",
            "86/86 [==============================] - 0s 293us/step - loss: 2.1078 - acc: 0.4651 - val_loss: 1.8607 - val_acc: 0.3778\n",
            "Epoch 10/30\n",
            "86/86 [==============================] - 0s 277us/step - loss: 2.0282 - acc: 0.4651 - val_loss: 1.8629 - val_acc: 0.3778\n",
            "Epoch 11/30\n",
            "86/86 [==============================] - 0s 271us/step - loss: 1.9285 - acc: 0.4651 - val_loss: 1.8642 - val_acc: 0.4222\n",
            "Epoch 12/30\n",
            "86/86 [==============================] - 0s 286us/step - loss: 1.8348 - acc: 0.4884 - val_loss: 1.8574 - val_acc: 0.4222\n",
            "Epoch 13/30\n",
            "86/86 [==============================] - 0s 304us/step - loss: 1.7724 - acc: 0.5000 - val_loss: 1.8387 - val_acc: 0.4222\n",
            "Epoch 14/30\n",
            "86/86 [==============================] - 0s 283us/step - loss: 1.7212 - acc: 0.5116 - val_loss: 1.8148 - val_acc: 0.4222\n",
            "Epoch 15/30\n",
            "86/86 [==============================] - 0s 275us/step - loss: 1.6728 - acc: 0.5000 - val_loss: 1.7961 - val_acc: 0.4222\n",
            "Epoch 16/30\n",
            "86/86 [==============================] - 0s 329us/step - loss: 1.6292 - acc: 0.5233 - val_loss: 1.7788 - val_acc: 0.4222\n",
            "Epoch 17/30\n",
            "86/86 [==============================] - 0s 301us/step - loss: 1.5893 - acc: 0.5116 - val_loss: 1.7587 - val_acc: 0.4222\n",
            "Epoch 18/30\n",
            "86/86 [==============================] - 0s 277us/step - loss: 1.5550 - acc: 0.5116 - val_loss: 1.7432 - val_acc: 0.4222\n",
            "Epoch 19/30\n",
            "86/86 [==============================] - 0s 262us/step - loss: 1.5172 - acc: 0.5116 - val_loss: 1.7260 - val_acc: 0.4000\n",
            "Epoch 20/30\n",
            "86/86 [==============================] - 0s 272us/step - loss: 1.4812 - acc: 0.5116 - val_loss: 1.7065 - val_acc: 0.4000\n",
            "Epoch 21/30\n",
            "86/86 [==============================] - 0s 279us/step - loss: 1.4463 - acc: 0.5233 - val_loss: 1.6885 - val_acc: 0.4000\n",
            "Epoch 22/30\n",
            "86/86 [==============================] - 0s 281us/step - loss: 1.4138 - acc: 0.5233 - val_loss: 1.6763 - val_acc: 0.4000\n",
            "Epoch 23/30\n",
            "86/86 [==============================] - 0s 301us/step - loss: 1.3824 - acc: 0.5116 - val_loss: 1.6641 - val_acc: 0.4000\n",
            "Epoch 24/30\n",
            "86/86 [==============================] - 0s 280us/step - loss: 1.3559 - acc: 0.5233 - val_loss: 1.6544 - val_acc: 0.4000\n",
            "Epoch 25/30\n",
            "86/86 [==============================] - 0s 273us/step - loss: 1.3342 - acc: 0.5233 - val_loss: 1.6456 - val_acc: 0.4000\n",
            "Epoch 26/30\n",
            "86/86 [==============================] - 0s 275us/step - loss: 1.3153 - acc: 0.5233 - val_loss: 1.6371 - val_acc: 0.4000\n",
            "Epoch 27/30\n",
            "86/86 [==============================] - 0s 274us/step - loss: 1.2940 - acc: 0.5233 - val_loss: 1.6307 - val_acc: 0.4000\n",
            "Epoch 28/30\n",
            "86/86 [==============================] - 0s 274us/step - loss: 1.2805 - acc: 0.5233 - val_loss: 1.6238 - val_acc: 0.4000\n",
            "Epoch 29/30\n",
            "86/86 [==============================] - 0s 317us/step - loss: 1.2639 - acc: 0.5233 - val_loss: 1.6153 - val_acc: 0.4000\n",
            "Epoch 30/30\n",
            "86/86 [==============================] - 0s 288us/step - loss: 1.2497 - acc: 0.5233 - val_loss: 1.6082 - val_acc: 0.4000\n",
            "Train on 88 samples, validate on 43 samples\n",
            "Epoch 1/30\n",
            "88/88 [==============================] - 5s 57ms/step - loss: 2.7223 - acc: 0.4432 - val_loss: 2.5817 - val_acc: 0.4186\n",
            "Epoch 2/30\n",
            "88/88 [==============================] - 0s 340us/step - loss: 2.6216 - acc: 0.4432 - val_loss: 2.4982 - val_acc: 0.4186\n",
            "Epoch 3/30\n",
            "88/88 [==============================] - 0s 296us/step - loss: 2.5309 - acc: 0.4432 - val_loss: 2.4178 - val_acc: 0.4186\n",
            "Epoch 4/30\n",
            "88/88 [==============================] - 0s 267us/step - loss: 2.4422 - acc: 0.4545 - val_loss: 2.3456 - val_acc: 0.4186\n",
            "Epoch 5/30\n",
            "88/88 [==============================] - 0s 277us/step - loss: 2.3628 - acc: 0.4545 - val_loss: 2.2800 - val_acc: 0.4186\n",
            "Epoch 6/30\n",
            "88/88 [==============================] - 0s 309us/step - loss: 2.2880 - acc: 0.4545 - val_loss: 2.2185 - val_acc: 0.4186\n",
            "Epoch 7/30\n",
            "88/88 [==============================] - 0s 285us/step - loss: 2.2172 - acc: 0.4545 - val_loss: 2.1626 - val_acc: 0.4186\n",
            "Epoch 8/30\n",
            "88/88 [==============================] - 0s 271us/step - loss: 2.1580 - acc: 0.4432 - val_loss: 2.1122 - val_acc: 0.4186\n",
            "Epoch 9/30\n",
            "88/88 [==============================] - 0s 269us/step - loss: 2.0974 - acc: 0.4432 - val_loss: 2.0659 - val_acc: 0.4186\n",
            "Epoch 10/30\n",
            "88/88 [==============================] - 0s 291us/step - loss: 2.0428 - acc: 0.4432 - val_loss: 2.0205 - val_acc: 0.4186\n",
            "Epoch 11/30\n",
            "88/88 [==============================] - 0s 292us/step - loss: 1.9864 - acc: 0.4432 - val_loss: 1.9789 - val_acc: 0.3953\n",
            "Epoch 12/30\n",
            "88/88 [==============================] - 0s 280us/step - loss: 1.9366 - acc: 0.4432 - val_loss: 1.9409 - val_acc: 0.4186\n",
            "Epoch 13/30\n",
            "88/88 [==============================] - 0s 302us/step - loss: 1.8881 - acc: 0.4545 - val_loss: 1.9056 - val_acc: 0.4186\n",
            "Epoch 14/30\n",
            "88/88 [==============================] - 0s 308us/step - loss: 1.8399 - acc: 0.4545 - val_loss: 1.8729 - val_acc: 0.4651\n",
            "Epoch 15/30\n",
            "88/88 [==============================] - 0s 287us/step - loss: 1.7881 - acc: 0.4432 - val_loss: 1.8418 - val_acc: 0.4651\n",
            "Epoch 16/30\n",
            "88/88 [==============================] - 0s 298us/step - loss: 1.7415 - acc: 0.4545 - val_loss: 1.8134 - val_acc: 0.4651\n",
            "Epoch 17/30\n",
            "88/88 [==============================] - 0s 288us/step - loss: 1.6957 - acc: 0.4545 - val_loss: 1.7889 - val_acc: 0.4651\n",
            "Epoch 18/30\n",
            "88/88 [==============================] - 0s 306us/step - loss: 1.6557 - acc: 0.4545 - val_loss: 1.7663 - val_acc: 0.4651\n",
            "Epoch 19/30\n",
            "88/88 [==============================] - 0s 301us/step - loss: 1.6193 - acc: 0.4545 - val_loss: 1.7483 - val_acc: 0.4884\n",
            "Epoch 20/30\n",
            "88/88 [==============================] - 0s 281us/step - loss: 1.5861 - acc: 0.4545 - val_loss: 1.7320 - val_acc: 0.4884\n",
            "Epoch 21/30\n",
            "88/88 [==============================] - 0s 284us/step - loss: 1.5550 - acc: 0.4432 - val_loss: 1.7166 - val_acc: 0.4651\n",
            "Epoch 22/30\n",
            "88/88 [==============================] - 0s 295us/step - loss: 1.5246 - acc: 0.4432 - val_loss: 1.7015 - val_acc: 0.4651\n",
            "Epoch 23/30\n",
            "88/88 [==============================] - 0s 280us/step - loss: 1.4964 - acc: 0.4432 - val_loss: 1.6870 - val_acc: 0.4651\n",
            "Epoch 24/30\n",
            "88/88 [==============================] - 0s 279us/step - loss: 1.4693 - acc: 0.4432 - val_loss: 1.6661 - val_acc: 0.4419\n",
            "Epoch 25/30\n",
            "88/88 [==============================] - 0s 281us/step - loss: 1.4475 - acc: 0.4318 - val_loss: 1.6461 - val_acc: 0.4419\n",
            "Epoch 26/30\n",
            "88/88 [==============================] - 0s 266us/step - loss: 1.4221 - acc: 0.4318 - val_loss: 1.6265 - val_acc: 0.4419\n",
            "Epoch 27/30\n",
            "88/88 [==============================] - 0s 274us/step - loss: 1.4004 - acc: 0.4318 - val_loss: 1.6094 - val_acc: 0.4186\n",
            "Epoch 28/30\n",
            "88/88 [==============================] - 0s 287us/step - loss: 1.3802 - acc: 0.4205 - val_loss: 1.5934 - val_acc: 0.3953\n",
            "Epoch 29/30\n",
            "88/88 [==============================] - 0s 307us/step - loss: 1.3629 - acc: 0.4205 - val_loss: 1.5781 - val_acc: 0.3953\n",
            "Epoch 30/30\n",
            "88/88 [==============================] - 0s 336us/step - loss: 1.3452 - acc: 0.4205 - val_loss: 1.5633 - val_acc: 0.3953\n",
            "Train on 88 samples, validate on 43 samples\n",
            "Epoch 1/30\n",
            "88/88 [==============================] - 5s 58ms/step - loss: 2.3248 - acc: 0.2841 - val_loss: 2.9658 - val_acc: 0.2558\n",
            "Epoch 2/30\n",
            "88/88 [==============================] - 0s 348us/step - loss: 2.1692 - acc: 0.2955 - val_loss: 2.8460 - val_acc: 0.3256\n",
            "Epoch 3/30\n",
            "88/88 [==============================] - 0s 316us/step - loss: 2.0410 - acc: 0.3068 - val_loss: 2.7481 - val_acc: 0.3488\n",
            "Epoch 4/30\n",
            "88/88 [==============================] - 0s 296us/step - loss: 1.9342 - acc: 0.3068 - val_loss: 2.6634 - val_acc: 0.3721\n",
            "Epoch 5/30\n",
            "88/88 [==============================] - 0s 300us/step - loss: 1.8438 - acc: 0.3295 - val_loss: 2.5892 - val_acc: 0.3721\n",
            "Epoch 6/30\n",
            "88/88 [==============================] - 0s 292us/step - loss: 1.7654 - acc: 0.3409 - val_loss: 2.5261 - val_acc: 0.3953\n",
            "Epoch 7/30\n",
            "88/88 [==============================] - 0s 286us/step - loss: 1.6991 - acc: 0.3523 - val_loss: 2.4709 - val_acc: 0.4186\n",
            "Epoch 8/30\n",
            "88/88 [==============================] - 0s 281us/step - loss: 1.6407 - acc: 0.3636 - val_loss: 2.4238 - val_acc: 0.4419\n",
            "Epoch 9/30\n",
            "88/88 [==============================] - 0s 322us/step - loss: 1.5897 - acc: 0.3750 - val_loss: 2.3799 - val_acc: 0.4419\n",
            "Epoch 10/30\n",
            "88/88 [==============================] - 0s 283us/step - loss: 1.5447 - acc: 0.3977 - val_loss: 2.3426 - val_acc: 0.4884\n",
            "Epoch 11/30\n",
            "88/88 [==============================] - 0s 298us/step - loss: 1.5056 - acc: 0.3977 - val_loss: 2.3081 - val_acc: 0.4884\n",
            "Epoch 12/30\n",
            "88/88 [==============================] - 0s 280us/step - loss: 1.4721 - acc: 0.4091 - val_loss: 2.2760 - val_acc: 0.4884\n",
            "Epoch 13/30\n",
            "88/88 [==============================] - 0s 348us/step - loss: 1.4414 - acc: 0.3977 - val_loss: 2.2479 - val_acc: 0.4651\n",
            "Epoch 14/30\n",
            "88/88 [==============================] - 0s 291us/step - loss: 1.4097 - acc: 0.3864 - val_loss: 2.2214 - val_acc: 0.4884\n",
            "Epoch 15/30\n",
            "88/88 [==============================] - 0s 319us/step - loss: 1.3830 - acc: 0.3977 - val_loss: 2.1970 - val_acc: 0.4884\n",
            "Epoch 16/30\n",
            "88/88 [==============================] - 0s 302us/step - loss: 1.3599 - acc: 0.4091 - val_loss: 2.1741 - val_acc: 0.4884\n",
            "Epoch 17/30\n",
            "88/88 [==============================] - 0s 314us/step - loss: 1.3367 - acc: 0.4205 - val_loss: 2.1539 - val_acc: 0.4884\n",
            "Epoch 18/30\n",
            "88/88 [==============================] - 0s 314us/step - loss: 1.3150 - acc: 0.4318 - val_loss: 2.1349 - val_acc: 0.4884\n",
            "Epoch 19/30\n",
            "88/88 [==============================] - 0s 303us/step - loss: 1.2964 - acc: 0.4091 - val_loss: 2.1131 - val_acc: 0.4884\n",
            "Epoch 20/30\n",
            "88/88 [==============================] - 0s 291us/step - loss: 1.2817 - acc: 0.4318 - val_loss: 2.0829 - val_acc: 0.4884\n",
            "Epoch 21/30\n",
            "88/88 [==============================] - 0s 279us/step - loss: 1.2645 - acc: 0.4205 - val_loss: 2.0521 - val_acc: 0.4884\n",
            "Epoch 22/30\n",
            "88/88 [==============================] - 0s 335us/step - loss: 1.2517 - acc: 0.4205 - val_loss: 2.0250 - val_acc: 0.4884\n",
            "Epoch 23/30\n",
            "88/88 [==============================] - 0s 261us/step - loss: 1.2373 - acc: 0.4205 - val_loss: 2.0004 - val_acc: 0.4884\n",
            "Epoch 24/30\n",
            "88/88 [==============================] - 0s 311us/step - loss: 1.2278 - acc: 0.4318 - val_loss: 1.9763 - val_acc: 0.4884\n",
            "Epoch 25/30\n",
            "88/88 [==============================] - 0s 285us/step - loss: 1.2165 - acc: 0.4432 - val_loss: 1.9530 - val_acc: 0.4884\n",
            "Epoch 26/30\n",
            "88/88 [==============================] - 0s 300us/step - loss: 1.2045 - acc: 0.4545 - val_loss: 1.9333 - val_acc: 0.4884\n",
            "Epoch 27/30\n",
            "88/88 [==============================] - 0s 338us/step - loss: 1.1953 - acc: 0.4659 - val_loss: 1.9134 - val_acc: 0.4884\n",
            "Epoch 28/30\n",
            "88/88 [==============================] - 0s 327us/step - loss: 1.1865 - acc: 0.4773 - val_loss: 1.8933 - val_acc: 0.4884\n",
            "Epoch 29/30\n",
            "88/88 [==============================] - 0s 306us/step - loss: 1.1775 - acc: 0.4773 - val_loss: 1.8747 - val_acc: 0.4884\n",
            "Epoch 30/30\n",
            "88/88 [==============================] - 0s 304us/step - loss: 1.1704 - acc: 0.4545 - val_loss: 1.8582 - val_acc: 0.4884\n"
          ],
          "name": "stdout"
        }
      ]
    },
    {
      "cell_type": "code",
      "metadata": {
        "id": "s2eeOHoYbina",
        "colab_type": "code",
        "colab": {}
      },
      "source": [
        "history_dict = history.history"
      ],
      "execution_count": 0,
      "outputs": []
    },
    {
      "cell_type": "code",
      "metadata": {
        "id": "-zDN2PrRc36l",
        "colab_type": "code",
        "colab": {
          "base_uri": "https://localhost:8080/",
          "height": 34
        },
        "outputId": "aa7c4596-2f55-46eb-ec56-682e51ae5e94"
      },
      "source": [
        "history_dict.keys()"
      ],
      "execution_count": 1285,
      "outputs": [
        {
          "output_type": "execute_result",
          "data": {
            "text/plain": [
              "dict_keys(['val_loss', 'val_acc', 'loss', 'acc'])"
            ]
          },
          "metadata": {
            "tags": []
          },
          "execution_count": 1285
        }
      ]
    },
    {
      "cell_type": "code",
      "metadata": {
        "id": "tss7vRUEgAcz",
        "colab_type": "code",
        "colab": {
          "base_uri": "https://localhost:8080/",
          "height": 34
        },
        "outputId": "17a66490-0916-4a3f-99c9-eaa631432bf6"
      },
      "source": [
        "len(all_acc_histories[2])"
      ],
      "execution_count": 1286,
      "outputs": [
        {
          "output_type": "execute_result",
          "data": {
            "text/plain": [
              "30"
            ]
          },
          "metadata": {
            "tags": []
          },
          "execution_count": 1286
        }
      ]
    },
    {
      "cell_type": "code",
      "metadata": {
        "id": "HpKE3iTJBHzO",
        "colab_type": "code",
        "colab": {}
      },
      "source": [
        "average_acc_history = [np.mean([x[i] for x in all_acc_histories]) for i in range(num_epochs)]\n",
        "#media per epoca degli score ottenuti per tutte le k-fold\n",
        "#per ogni k-fold di fanno num_epoch epoche, la media viene fatta prendendo gli score di tutti i k-fold relativi ad una data epoca,\n",
        "#e si fa questo per tutte le epoche\n",
        "average_loss_history = [np.mean([x[i] for x in all_loss_histories]) for i in range(num_epochs)]\n",
        "average_val_acc_history = [np.mean([x[i] for x in all_val_acc_histories]) for i in range(num_epochs)]\n",
        "average_val_loss_history = [np.mean([x[i] for x in all_val_loss_histories]) for i in range(num_epochs)]\n"
      ],
      "execution_count": 0,
      "outputs": []
    },
    {
      "cell_type": "code",
      "metadata": {
        "id": "uQrkCEMUD2RI",
        "colab_type": "code",
        "colab": {
          "base_uri": "https://localhost:8080/",
          "height": 34
        },
        "outputId": "df5ed146-1ca9-4455-9957-0d088015e3f5"
      },
      "source": [
        "len(average_val_acc_history)"
      ],
      "execution_count": 1288,
      "outputs": [
        {
          "output_type": "execute_result",
          "data": {
            "text/plain": [
              "30"
            ]
          },
          "metadata": {
            "tags": []
          },
          "execution_count": 1288
        }
      ]
    },
    {
      "cell_type": "markdown",
      "metadata": {
        "id": "B9UhSxIaHtuO",
        "colab_type": "text"
      },
      "source": [
        "##Plotting training and validation loss"
      ]
    },
    {
      "cell_type": "code",
      "metadata": {
        "id": "vq6zsienD5ct",
        "colab_type": "code",
        "colab": {}
      },
      "source": [
        "import matplotlib.pyplot as plt"
      ],
      "execution_count": 0,
      "outputs": []
    },
    {
      "cell_type": "code",
      "metadata": {
        "id": "XJizyjnaIPhQ",
        "colab_type": "code",
        "colab": {}
      },
      "source": [
        "epochs = range(1, num_epochs+1)"
      ],
      "execution_count": 0,
      "outputs": []
    },
    {
      "cell_type": "code",
      "metadata": {
        "id": "HfEHEYLgIQUQ",
        "colab_type": "code",
        "colab": {
          "base_uri": "https://localhost:8080/",
          "height": 312
        },
        "outputId": "08438541-be1c-40f5-f800-0185c27e3fe4"
      },
      "source": [
        "plt.plot(epochs, average_loss_history, 'bo', label='training loss')\n",
        "plt.plot(epochs, average_val_loss_history, 'b', label='validation loss')\n",
        "plt.title('Training and validation loss')\n",
        "plt.xlabel('Epochs')\n",
        "plt.ylabel('Loss')\n",
        "plt.legend()"
      ],
      "execution_count": 1291,
      "outputs": [
        {
          "output_type": "execute_result",
          "data": {
            "text/plain": [
              "<matplotlib.legend.Legend at 0x7f79b56beda0>"
            ]
          },
          "metadata": {
            "tags": []
          },
          "execution_count": 1291
        },
        {
          "output_type": "display_data",
          "data": {
            "image/png": "[encoded data removed]",
            "text/plain": [
              "<Figure size 432x288 with 1 Axes>"
            ]
          },
          "metadata": {
            "tags": []
          }
        }
      ]
    },
    {
      "cell_type": "markdown",
      "metadata": {
        "id": "Aoc4wMjfI97j",
        "colab_type": "text"
      },
      "source": [
        "##Plotting train and validation accuracy"
      ]
    },
    {
      "cell_type": "code",
      "metadata": {
        "id": "GZi7VzbFIbtJ",
        "colab_type": "code",
        "colab": {
          "base_uri": "https://localhost:8080/",
          "height": 312
        },
        "outputId": "769a48cb-844c-4a50-cd35-25e5e1a47284"
      },
      "source": [
        "plt.plot(epochs, average_acc_history, 'bo', label='Training accuracy')\n",
        "plt.plot(epochs, average_val_acc_history, 'b', label='Validation accuracy')\n",
        "plt.title('Training and validation accuracy')\n",
        "plt.xlabel('Epochs')\n",
        "plt.ylabel('Accuracy')\n",
        "plt.legend() "
      ],
      "execution_count": 1292,
      "outputs": [
        {
          "output_type": "execute_result",
          "data": {
            "text/plain": [
              "<matplotlib.legend.Legend at 0x7f79b568e0f0>"
            ]
          },
          "metadata": {
            "tags": []
          },
          "execution_count": 1292
        },
        {
          "output_type": "display_data",
          "data": {
            "image/png": "[encoded data removed]",
            "text/plain": [
              "<Figure size 432x288 with 1 Axes>"
            ]
          },
          "metadata": {
            "tags": []
          }
        }
      ]
    },
    {
      "cell_type": "markdown",
      "metadata": {
        "id": "bgN-E84SUPUq",
        "colab_type": "text"
      },
      "source": [
        "#Performances on test set"
      ]
    },
    {
      "cell_type": "code",
      "metadata": {
        "id": "VokWFUNPJOsJ",
        "colab_type": "code",
        "colab": {
          "base_uri": "https://localhost:8080/",
          "height": 1000
        },
        "outputId": "d6d049db-634d-4357-a2ab-4300fd12540d"
      },
      "source": [
        " model = build_model()\n",
        " model.fit(train_data_stand_pca, one_hot_train_labels, epochs= num_epochs, batch_size=10, shuffle=True)\n",
        " test_loss, test_acc = model.evaluate(test_data_stand_pca, one_hot_test_labels)\n",
        "  "
      ],
      "execution_count": 1293,
      "outputs": [
        {
          "output_type": "stream",
          "text": [
            "Epoch 1/30\n",
            "131/131 [==============================] - 4s 34ms/step - loss: 2.6411 - acc: 0.3053\n",
            "Epoch 2/30\n",
            "131/131 [==============================] - 0s 217us/step - loss: 2.4075 - acc: 0.3053\n",
            "Epoch 3/30\n",
            "131/131 [==============================] - 0s 219us/step - loss: 2.1610 - acc: 0.3053\n",
            "Epoch 4/30\n",
            "131/131 [==============================] - 0s 204us/step - loss: 1.9602 - acc: 0.3130\n",
            "Epoch 5/30\n",
            "131/131 [==============================] - 0s 244us/step - loss: 1.7821 - acc: 0.3282\n",
            "Epoch 6/30\n",
            "131/131 [==============================] - 0s 228us/step - loss: 1.6727 - acc: 0.3206\n",
            "Epoch 7/30\n",
            "131/131 [==============================] - 0s 219us/step - loss: 1.5762 - acc: 0.3130\n",
            "Epoch 8/30\n",
            "131/131 [==============================] - 0s 214us/step - loss: 1.5018 - acc: 0.3359\n",
            "Epoch 9/30\n",
            "131/131 [==============================] - 0s 217us/step - loss: 1.4346 - acc: 0.3282\n",
            "Epoch 10/30\n",
            "131/131 [==============================] - 0s 202us/step - loss: 1.3831 - acc: 0.3359\n",
            "Epoch 11/30\n",
            "131/131 [==============================] - 0s 214us/step - loss: 1.3364 - acc: 0.3588\n",
            "Epoch 12/30\n",
            "131/131 [==============================] - 0s 198us/step - loss: 1.3024 - acc: 0.3740\n",
            "Epoch 13/30\n",
            "131/131 [==============================] - 0s 219us/step - loss: 1.2733 - acc: 0.4046\n",
            "Epoch 14/30\n",
            "131/131 [==============================] - 0s 215us/step - loss: 1.2457 - acc: 0.4198\n",
            "Epoch 15/30\n",
            "131/131 [==============================] - 0s 212us/step - loss: 1.2217 - acc: 0.4351\n",
            "Epoch 16/30\n",
            "131/131 [==============================] - 0s 207us/step - loss: 1.2015 - acc: 0.4504\n",
            "Epoch 17/30\n",
            "131/131 [==============================] - 0s 212us/step - loss: 1.1863 - acc: 0.4427\n",
            "Epoch 18/30\n",
            "131/131 [==============================] - 0s 206us/step - loss: 1.1694 - acc: 0.4504\n",
            "Epoch 19/30\n",
            "131/131 [==============================] - 0s 215us/step - loss: 1.1553 - acc: 0.4733\n",
            "Epoch 20/30\n",
            "131/131 [==============================] - 0s 213us/step - loss: 1.1438 - acc: 0.4962\n",
            "Epoch 21/30\n",
            "131/131 [==============================] - 0s 218us/step - loss: 1.1325 - acc: 0.4962\n",
            "Epoch 22/30\n",
            "131/131 [==============================] - 0s 209us/step - loss: 1.1196 - acc: 0.4962\n",
            "Epoch 23/30\n",
            "131/131 [==============================] - 0s 199us/step - loss: 1.1110 - acc: 0.4885\n",
            "Epoch 24/30\n",
            "131/131 [==============================] - 0s 194us/step - loss: 1.1034 - acc: 0.4885\n",
            "Epoch 25/30\n",
            "131/131 [==============================] - 0s 208us/step - loss: 1.0955 - acc: 0.4809\n",
            "Epoch 26/30\n",
            "131/131 [==============================] - 0s 216us/step - loss: 1.0874 - acc: 0.4962\n",
            "Epoch 27/30\n",
            "131/131 [==============================] - 0s 197us/step - loss: 1.0803 - acc: 0.5038\n",
            "Epoch 28/30\n",
            "131/131 [==============================] - 0s 201us/step - loss: 1.0742 - acc: 0.5191\n",
            "Epoch 29/30\n",
            "131/131 [==============================] - 0s 226us/step - loss: 1.0681 - acc: 0.5344\n",
            "Epoch 30/30\n",
            "131/131 [==============================] - 0s 197us/step - loss: 1.0625 - acc: 0.5344\n",
            "34/34 [==============================] - 2s 53ms/step\n"
          ],
          "name": "stdout"
        }
      ]
    },
    {
      "cell_type": "code",
      "metadata": {
        "id": "J-tXqN8teV_6",
        "colab_type": "code",
        "colab": {
          "base_uri": "https://localhost:8080/",
          "height": 34
        },
        "outputId": "5c81d518-5b52-4116-ef8a-2bbc182a6c43"
      },
      "source": [
        "model.metrics_names"
      ],
      "execution_count": 1294,
      "outputs": [
        {
          "output_type": "execute_result",
          "data": {
            "text/plain": [
              "['loss', 'acc']"
            ]
          },
          "metadata": {
            "tags": []
          },
          "execution_count": 1294
        }
      ]
    },
    {
      "cell_type": "code",
      "metadata": {
        "id": "uLqboU_IeYu-",
        "colab_type": "code",
        "colab": {
          "base_uri": "https://localhost:8080/",
          "height": 34
        },
        "outputId": "f8e819c7-d297-494b-9cbd-86da63385265"
      },
      "source": [
        "test_acc\n"
      ],
      "execution_count": 1295,
      "outputs": [
        {
          "output_type": "execute_result",
          "data": {
            "text/plain": [
              "0.17647058823529413"
            ]
          },
          "metadata": {
            "tags": []
          },
          "execution_count": 1295
        }
      ]
    },
    {
      "cell_type": "code",
      "metadata": {
        "id": "RpouJxJrfHYf",
        "colab_type": "code",
        "colab": {}
      },
      "source": [
        ""
      ],
      "execution_count": 0,
      "outputs": []
    },
    {
      "cell_type": "code",
      "metadata": {
        "id": "b6vvp8uohTYg",
        "colab_type": "code",
        "colab": {
          "base_uri": "https://localhost:8080/",
          "height": 34
        },
        "outputId": "3397c040-2df4-4fec-deda-3c802a712e87"
      },
      "source": [
        "14*8+8*8+8*3+19"
      ],
      "execution_count": 1296,
      "outputs": [
        {
          "output_type": "execute_result",
          "data": {
            "text/plain": [
              "219"
            ]
          },
          "metadata": {
            "tags": []
          },
          "execution_count": 1296
        }
      ]
    },
    {
      "cell_type": "code",
      "metadata": {
        "id": "G8rJQZmahXMe",
        "colab_type": "code",
        "colab": {
          "base_uri": "https://localhost:8080/",
          "height": 34
        },
        "outputId": "54eb2c84-3e5c-4378-8412-ed3443230473"
      },
      "source": [
        "14*8"
      ],
      "execution_count": 1297,
      "outputs": [
        {
          "output_type": "execute_result",
          "data": {
            "text/plain": [
              "112"
            ]
          },
          "metadata": {
            "tags": []
          },
          "execution_count": 1297
        }
      ]
    },
    {
      "cell_type": "code",
      "metadata": {
        "id": "Kxm3zpcahZBc",
        "colab_type": "code",
        "colab": {
          "base_uri": "https://localhost:8080/",
          "height": 34
        },
        "outputId": "f1d47f90-7462-47f1-ecdf-5fa54dd335ca"
      },
      "source": [
        "112+25+24"
      ],
      "execution_count": 1298,
      "outputs": [
        {
          "output_type": "execute_result",
          "data": {
            "text/plain": [
              "161"
            ]
          },
          "metadata": {
            "tags": []
          },
          "execution_count": 1298
        }
      ]
    },
    {
      "cell_type": "code",
      "metadata": {
        "id": "6uhxnKishcW-",
        "colab_type": "code",
        "colab": {}
      },
      "source": [
        ""
      ],
      "execution_count": 0,
      "outputs": []
    }
  ]
}