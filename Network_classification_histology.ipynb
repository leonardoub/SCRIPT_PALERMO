{
  "nbformat": 4,
  "nbformat_minor": 0,
  "metadata": {
    "colab": {
      "name": "Network_classification_histology.ipynb",
      "provenance": [],
      "include_colab_link": true
    },
    "kernelspec": {
      "name": "python3",
      "display_name": "Python 3"
    }
  },
  "cells": [
    {
      "cell_type": "markdown",
      "metadata": {
        "id": "view-in-github",
        "colab_type": "text"
      },
      "source": [
        "<a href=\"https://colab.research.google.com/github/leonardoub/SCRIPT_PALERMO/blob/master/Network_classification_histology.ipynb\" target=\"_parent\"><img src=\"https://colab.research.google.com/assets/colab-badge.svg\" alt=\"Open In Colab\"/></a>"
      ]
    },
    {
      "cell_type": "code",
      "metadata": {
        "id": "ck9uZtF_gzU7",
        "colab_type": "code",
        "colab": {}
      },
      "source": [
        "import pandas as pd\n",
        "import numpy as np\n",
        "import matplotlib.pyplot as plt\n",
        "import scipy"
      ],
      "execution_count": 0,
      "outputs": []
    },
    {
      "cell_type": "code",
      "metadata": {
        "id": "lyyNl4gxhEwD",
        "colab_type": "code",
        "outputId": "2e1d797c-d215-43bc-ad7a-89579f3d012f",
        "colab": {
          "base_uri": "https://localhost:8080/",
          "height": 52
        }
      },
      "source": [
        "#load data from Drive\n",
        "from google.colab import drive\n",
        "drive.mount('/gdrive')\n",
        "%cd /gdrive"
      ],
      "execution_count": 734,
      "outputs": [
        {
          "output_type": "stream",
          "text": [
            "Drive already mounted at /gdrive; to attempt to forcibly remount, call drive.mount(\"/gdrive\", force_remount=True).\n",
            "/gdrive\n"
          ],
          "name": "stdout"
        }
      ]
    },
    {
      "cell_type": "code",
      "metadata": {
        "id": "UCkUXesZhMzg",
        "colab_type": "code",
        "colab": {}
      },
      "source": [
        "train_dataset_path = '/gdrive/My Drive/AIM_PA/database_training2.csv'\n",
        "test_dataset_path = '/gdrive/My Drive/AIM_PA/database_nostro_without_nan.csv'"
      ],
      "execution_count": 0,
      "outputs": []
    },
    {
      "cell_type": "code",
      "metadata": {
        "id": "TczPxOpEhTXw",
        "colab_type": "code",
        "colab": {}
      },
      "source": [
        "df_train = pd.read_csv(train_dataset_path)\n",
        "df_test = pd.read_csv(test_dataset_path)"
      ],
      "execution_count": 0,
      "outputs": []
    },
    {
      "cell_type": "code",
      "metadata": {
        "id": "Ll-87QSVhqhj",
        "colab_type": "code",
        "colab": {}
      },
      "source": [
        "df_train.rename(columns={'Survival.time (months)':'Surv_time_months'}, inplace=True)"
      ],
      "execution_count": 0,
      "outputs": []
    },
    {
      "cell_type": "code",
      "metadata": {
        "id": "ulSbeCedhuxJ",
        "colab_type": "code",
        "colab": {}
      },
      "source": [
        "df_test.rename(columns={'Survival.time (months)':'Surv_time_months'}, inplace=True)"
      ],
      "execution_count": 0,
      "outputs": []
    },
    {
      "cell_type": "code",
      "metadata": {
        "id": "xbcwLGg3iNSn",
        "colab_type": "code",
        "colab": {}
      },
      "source": [
        "df_train.rename(columns={'Overall.Stage':'Overall_Stage'}, inplace=True)\n",
        "df_test.rename(columns={'Overall.Stage':'Overall_Stage'}, inplace=True)"
      ],
      "execution_count": 0,
      "outputs": []
    },
    {
      "cell_type": "code",
      "metadata": {
        "id": "oKKv4iKghWWn",
        "colab_type": "code",
        "colab": {}
      },
      "source": [
        "train_data = df_train.drop(['Histology', 'Surv_time_months', 'OS', 'deadstatus.event','Overall_Stage'], axis=1)"
      ],
      "execution_count": 0,
      "outputs": []
    },
    {
      "cell_type": "code",
      "metadata": {
        "id": "vQdR4izXiT0f",
        "colab_type": "code",
        "colab": {}
      },
      "source": [
        "test_data = df_test.drop(['Histology', 'Surv_time_months', 'OS', 'deadstatus.event','Overall_Stage'], axis=1)"
      ],
      "execution_count": 0,
      "outputs": []
    },
    {
      "cell_type": "code",
      "metadata": {
        "id": "Lu46pqnPhnCG",
        "colab_type": "code",
        "colab": {}
      },
      "source": [
        "train_labels = df_train.Histology"
      ],
      "execution_count": 0,
      "outputs": []
    },
    {
      "cell_type": "code",
      "metadata": {
        "id": "aS5wIylYmsQf",
        "colab_type": "code",
        "colab": {}
      },
      "source": [
        "test_labels = df_test.Histology"
      ],
      "execution_count": 0,
      "outputs": []
    },
    {
      "cell_type": "markdown",
      "metadata": {
        "id": "dtPx7PMDnXM3",
        "colab_type": "text"
      },
      "source": [
        "##Z score dei dati"
      ]
    },
    {
      "cell_type": "code",
      "metadata": {
        "id": "XK4Qji2EnVV4",
        "colab_type": "code",
        "colab": {}
      },
      "source": [
        "mean = train_data.mean(axis=0)\n",
        "train_data_stand = train_data - mean\n",
        "std = train_data.std(axis=0)\n",
        "train_data_stand /= std"
      ],
      "execution_count": 0,
      "outputs": []
    },
    {
      "cell_type": "code",
      "metadata": {
        "id": "YOVOoNOvm0Yx",
        "colab_type": "code",
        "colab": {}
      },
      "source": [
        "test_data_stand = test_data - mean\n",
        "test_data_stand /= std"
      ],
      "execution_count": 0,
      "outputs": []
    },
    {
      "cell_type": "markdown",
      "metadata": {
        "id": "00VohsAyokpq",
        "colab_type": "text"
      },
      "source": [
        "##Vettorizzare i label"
      ]
    },
    {
      "cell_type": "code",
      "metadata": {
        "id": "8RvS_9ISpxRi",
        "colab_type": "code",
        "colab": {}
      },
      "source": [
        "word_index={'adenocarcinoma':0, 'large cell':1, 'squamous cell carcinoma':2}"
      ],
      "execution_count": 0,
      "outputs": []
    },
    {
      "cell_type": "code",
      "metadata": {
        "id": "uiPW9U0XrWY2",
        "colab_type": "code",
        "colab": {}
      },
      "source": [
        "train_labels_dec = [word_index[label] for label in train_labels]"
      ],
      "execution_count": 0,
      "outputs": []
    },
    {
      "cell_type": "code",
      "metadata": {
        "id": "C4SBiKFQsKFw",
        "colab_type": "code",
        "colab": {}
      },
      "source": [
        "test_labels_dec = [word_index[label] for label in test_labels]"
      ],
      "execution_count": 0,
      "outputs": []
    },
    {
      "cell_type": "code",
      "metadata": {
        "id": "0IMbTYR7okJq",
        "colab_type": "code",
        "colab": {}
      },
      "source": [
        "from keras.utils.np_utils import to_categorical"
      ],
      "execution_count": 0,
      "outputs": []
    },
    {
      "cell_type": "code",
      "metadata": {
        "id": "0Frv4FDNn6Qu",
        "colab_type": "code",
        "colab": {}
      },
      "source": [
        "one_hot_train_labels = to_categorical(train_labels_dec)\n",
        "one_hot_test_labels = to_categorical(test_labels_dec)"
      ],
      "execution_count": 0,
      "outputs": []
    },
    {
      "cell_type": "markdown",
      "metadata": {
        "id": "Mn0tkOGc3LKN",
        "colab_type": "text"
      },
      "source": [
        "#PCA"
      ]
    },
    {
      "cell_type": "code",
      "metadata": {
        "id": "oS76u6iu3Seg",
        "colab_type": "code",
        "colab": {}
      },
      "source": [
        "from sklearn.decomposition import PCA"
      ],
      "execution_count": 0,
      "outputs": []
    },
    {
      "cell_type": "code",
      "metadata": {
        "id": "KCjC4zqJ3bui",
        "colab_type": "code",
        "colab": {}
      },
      "source": [
        "pca = PCA(n_components=0.95, svd_solver='full')"
      ],
      "execution_count": 0,
      "outputs": []
    },
    {
      "cell_type": "code",
      "metadata": {
        "id": "dLUCf9qX4p_e",
        "colab_type": "code",
        "colab": {
          "base_uri": "https://localhost:8080/",
          "height": 0
        },
        "outputId": "c30a537e-3626-41a7-ec2b-a05818f28bfb"
      },
      "source": [
        "pca.fit(train_data_stand)"
      ],
      "execution_count": 753,
      "outputs": [
        {
          "output_type": "execute_result",
          "data": {
            "text/plain": [
              "PCA(copy=True, iterated_power='auto', n_components=0.95, random_state=None,\n",
              "    svd_solver='full', tol=0.0, whiten=False)"
            ]
          },
          "metadata": {
            "tags": []
          },
          "execution_count": 753
        }
      ]
    },
    {
      "cell_type": "code",
      "metadata": {
        "id": "QfyaKgNZ44o3",
        "colab_type": "code",
        "colab": {}
      },
      "source": [
        "train_data_stand_pca = pca.transform(train_data_stand)\n",
        "test_data_stand_pca = pca.transform(test_data_stand)"
      ],
      "execution_count": 0,
      "outputs": []
    },
    {
      "cell_type": "code",
      "metadata": {
        "id": "Uz9C4nl05b_g",
        "colab_type": "code",
        "colab": {
          "base_uri": "https://localhost:8080/",
          "height": 0
        },
        "outputId": "d34ad149-805a-4773-dad9-b1ba92f39527"
      },
      "source": [
        "type(train_data_stand_pca)"
      ],
      "execution_count": 755,
      "outputs": [
        {
          "output_type": "execute_result",
          "data": {
            "text/plain": [
              "numpy.ndarray"
            ]
          },
          "metadata": {
            "tags": []
          },
          "execution_count": 755
        }
      ]
    },
    {
      "cell_type": "markdown",
      "metadata": {
        "id": "8wSKvSu4s5ip",
        "colab_type": "text"
      },
      "source": [
        "#Building Network"
      ]
    },
    {
      "cell_type": "code",
      "metadata": {
        "id": "1tX_y6KKs3pM",
        "colab_type": "code",
        "colab": {}
      },
      "source": [
        "from keras import models"
      ],
      "execution_count": 0,
      "outputs": []
    },
    {
      "cell_type": "code",
      "metadata": {
        "id": "ShwM6YMqsxxJ",
        "colab_type": "code",
        "colab": {}
      },
      "source": [
        "from keras import layers"
      ],
      "execution_count": 0,
      "outputs": []
    },
    {
      "cell_type": "code",
      "metadata": {
        "id": "IAzbu7P1VylY",
        "colab_type": "code",
        "colab": {}
      },
      "source": [
        "from keras import regularizers"
      ],
      "execution_count": 0,
      "outputs": []
    },
    {
      "cell_type": "code",
      "metadata": {
        "id": "7OAEgN31tHVV",
        "colab_type": "code",
        "colab": {}
      },
      "source": [
        "def build_model():\n",
        "  model = models.Sequential()\n",
        "  model.add(layers.Dense(8, activation='relu', input_shape=(14,)))\n",
        "  model.add(layers.Dense(8, activation='relu'))\n",
        "  model.add(layers.Dense(3, activation='softmax'))\n",
        "  model.compile(optimizer='rmsprop', loss='categorical_crossentropy', metrics=['accuracy'])\n",
        "  return model"
      ],
      "execution_count": 0,
      "outputs": []
    },
    {
      "cell_type": "markdown",
      "metadata": {
        "id": "mIxDu50pBeiz",
        "colab_type": "text"
      },
      "source": [
        "#Stratified k-fold"
      ]
    },
    {
      "cell_type": "markdown",
      "metadata": {
        "id": "ZyLcvedUBpxA",
        "colab_type": "text"
      },
      "source": [
        "This cross-validation object is a variation of KFold that returns stratified folds. The folds are made by preserving the percentage of samples for each class."
      ]
    },
    {
      "cell_type": "code",
      "metadata": {
        "id": "fY1apcZ19gFp",
        "colab_type": "code",
        "colab": {}
      },
      "source": [
        "from sklearn.model_selection import StratifiedKFold"
      ],
      "execution_count": 0,
      "outputs": []
    },
    {
      "cell_type": "code",
      "metadata": {
        "id": "oaBDM-PtBx5V",
        "colab_type": "code",
        "colab": {
          "base_uri": "https://localhost:8080/",
          "height": 34
        },
        "outputId": "98d72753-f0cf-4522-e483-5d96968b0352"
      },
      "source": [
        "skf = StratifiedKFold(n_splits=3, shuffle=True, random_state=1)\n",
        "skf.get_n_splits(train_data_stand_pca, train_labels_dec)"
      ],
      "execution_count": 761,
      "outputs": [
        {
          "output_type": "execute_result",
          "data": {
            "text/plain": [
              "3"
            ]
          },
          "metadata": {
            "tags": []
          },
          "execution_count": 761
        }
      ]
    },
    {
      "cell_type": "code",
      "metadata": {
        "id": "Me-XQzPyD1gi",
        "colab_type": "code",
        "colab": {
          "base_uri": "https://localhost:8080/",
          "height": 382
        },
        "outputId": "1e6d4a69-7ca2-4678-c9c4-dd382f4ffe56"
      },
      "source": [
        "for train_index, test_index in skf.split(train_data_stand_pca, train_labels_dec):\n",
        "    print(\"TRAIN:\", train_index, \"TEST:\", test_index)"
      ],
      "execution_count": 762,
      "outputs": [
        {
          "output_type": "stream",
          "text": [
            "TRAIN: [  0   1   4   5   8   9  11  12  14  15  16  17  19  20  22  23  24  25\n",
            "  27  29  30  33  34  36  37  38  39  40  41  42  44  45  46  48  51  52\n",
            "  53  56  57  58  59  60  62  63  65  66  67  69  72  76  77  78  79  80\n",
            "  81  83  84  85  87  88  89  90  92  96  97  98 100 101 102 103 104 105\n",
            " 107 109 110 111 113 115 117 120 121 122 124 125 127 128] TEST: [  2   3   6   7  10  13  18  21  26  28  31  32  35  43  47  49  50  54\n",
            "  55  61  64  68  70  71  73  74  75  82  86  91  93  94  95  99 106 108\n",
            " 112 114 116 118 119 123 126 129 130]\n",
            "TRAIN: [  2   3   5   6   7   8   9  10  11  12  13  18  20  21  25  26  27  28\n",
            "  29  30  31  32  34  35  36  38  39  43  44  45  46  47  48  49  50  53\n",
            "  54  55  57  58  61  63  64  65  66  68  70  71  73  74  75  76  78  82\n",
            "  84  85  86  87  90  91  92  93  94  95  96  99 100 101 102 105 106 108\n",
            " 109 111 112 114 115 116 118 119 122 123 124 125 126 127 129 130] TEST: [  0   1   4  14  15  16  17  19  22  23  24  33  37  40  41  42  51  52\n",
            "  56  59  60  62  67  69  72  77  79  80  81  83  88  89  97  98 103 104\n",
            " 107 110 113 117 120 121 128]\n",
            "TRAIN: [  0   1   2   3   4   6   7  10  13  14  15  16  17  18  19  21  22  23\n",
            "  24  26  28  31  32  33  35  37  40  41  42  43  47  49  50  51  52  54\n",
            "  55  56  59  60  61  62  64  67  68  69  70  71  72  73  74  75  77  79\n",
            "  80  81  82  83  86  88  89  91  93  94  95  97  98  99 103 104 106 107\n",
            " 108 110 112 113 114 116 117 118 119 120 121 123 126 128 129 130] TEST: [  5   8   9  11  12  20  25  27  29  30  34  36  38  39  44  45  46  48\n",
            "  53  57  58  63  65  66  76  78  84  85  87  90  92  96 100 101 102 105\n",
            " 109 111 115 122 124 125 127]\n"
          ],
          "name": "stdout"
        }
      ]
    },
    {
      "cell_type": "code",
      "metadata": {
        "id": "BgdGK-8FK-U_",
        "colab_type": "code",
        "colab": {
          "base_uri": "https://localhost:8080/",
          "height": 34
        },
        "outputId": "89a998e6-e136-4bf1-c2ea-88275fca5a5f"
      },
      "source": [
        "train_labels_dec[125]"
      ],
      "execution_count": 763,
      "outputs": [
        {
          "output_type": "execute_result",
          "data": {
            "text/plain": [
              "2"
            ]
          },
          "metadata": {
            "tags": []
          },
          "execution_count": 763
        }
      ]
    },
    {
      "cell_type": "code",
      "metadata": {
        "id": "a81MOfNlJCY8",
        "colab_type": "code",
        "colab": {}
      },
      "source": [
        "#num_epochs = 20\n",
        "#all_scores = []"
      ],
      "execution_count": 0,
      "outputs": []
    },
    {
      "cell_type": "code",
      "metadata": {
        "id": "sBJg0XD4Shhc",
        "colab_type": "code",
        "colab": {}
      },
      "source": [
        "from keras.utils.np_utils import to_categorical"
      ],
      "execution_count": 0,
      "outputs": []
    },
    {
      "cell_type": "code",
      "metadata": {
        "id": "a5Sq8r9GEPx3",
        "colab_type": "code",
        "colab": {}
      },
      "source": [
        "#for train_index, val_index in skf.split(train_data_stand_pca, train_labels_dec):\n",
        " \n",
        "#  partial_train_data = np.array([train_data_stand_pca[i] for i in train_index])\n",
        "#  partial_train_targets = np.array([train_labels_dec[i] for i in train_index])\n",
        "\n",
        "#  val_data = np.array([train_data_stand_pca[i] for i in val_index])\n",
        "#  val_targets = np.array([train_labels_dec[i] for i in val_index])\n",
        "\n",
        "#  one_hot_partial_train_targets = to_categorical(partial_train_targets)\n",
        "#  one_hot_val_targets = to_categorical(val_targets)\n",
        "\n",
        "#  model = build_model()\n",
        "#  model.fit(partial_train_data, one_hot_partial_train_targets, epochs = num_epochs, batch_size=1)\n",
        "\n",
        "#  val_loss, val_accuracy = model.evaluate(val_data, one_hot_val_targets)\n",
        "#  all_scores.append(val_accuracy)\n",
        "#I parametri per la valutazione vengono calcolati una volta per ogni k-fold, per ogni set di validazione, quindi k volte"
      ],
      "execution_count": 0,
      "outputs": []
    },
    {
      "cell_type": "markdown",
      "metadata": {
        "id": "2X5B3lasRcsR",
        "colab_type": "text"
      },
      "source": [
        "C'è un problema: keras.utils.to_categorical produces a one-hot encoded class vector, i.e. the multilabel-indicator mentioned in the error message. StratifiedKFold is not designed to work with such input; i.e. your y must be a 1-D array of your class labels.\n",
        "Essentially, what you have to do is simply to invert the order of the operations: split first (using your intial y_train), and convert to_categorical afterwards."
      ]
    },
    {
      "cell_type": "code",
      "metadata": {
        "id": "8K8a1I3yU9FS",
        "colab_type": "code",
        "colab": {
          "base_uri": "https://localhost:8080/",
          "height": 1000
        },
        "outputId": "06eea1fe-9154-46b8-a7c6-4804104aa7a5"
      },
      "source": [
        "num_epochs = 30\n",
        "all_acc_histories = []\n",
        "all_loss_histories = []\n",
        "all_val_acc_histories = []\n",
        "all_val_loss_histories = []\n",
        "\n",
        "for train_index, val_index in skf.split(train_data_stand_pca, train_labels_dec):\n",
        " \n",
        "  partial_train_data = np.array([train_data_stand_pca[i] for i in train_index])\n",
        "  partial_train_targets = np.array([train_labels_dec[i] for i in train_index])\n",
        "  \n",
        "  val_data = np.array([train_data_stand_pca[i] for i in val_index])\n",
        "  val_targets = np.array([train_labels_dec[i] for i in val_index])\n",
        "\n",
        "  one_hot_partial_train_targets = to_categorical(partial_train_targets)\n",
        "  one_hot_val_targets = to_categorical(val_targets)\n",
        "\n",
        "  model = build_model()\n",
        "  history = model.fit(partial_train_data, one_hot_partial_train_targets, validation_data=(val_data, one_hot_val_targets), \n",
        "                      epochs= num_epochs, batch_size=1)\n",
        "  \n",
        "  acc_history = history.history['acc']\n",
        "  all_acc_histories.append(acc_history)\n",
        "\n",
        "  loss_history = history.history['loss']\n",
        "  all_loss_histories.append(loss_history)\n",
        "\n",
        "  acc_val_history = history.history['val_acc']\n",
        "  all_val_acc_histories.append(acc_val_history)\n",
        "\n",
        "  loss_val_history = history.history['val_loss']\n",
        "  all_val_loss_histories.append(loss_val_history)\n",
        "  \n",
        "\n",
        "#I parametri per la valutazione vengono calcolati per ogni epoca, quindi num_epochs volte. \n",
        "#Il tutto viene ripetuto un numero di volte pari a n_splits.\n",
        "#Si ottiene una lista con n_splits elementi ciascuno dei quali è una lista lunga num_epochs,\n",
        "#ogni elemento può essere uno fra questi: dict_keys(['val_loss', 'val_acc', 'loss', 'acc']) "
      ],
      "execution_count": 767,
      "outputs": [
        {
          "output_type": "stream",
          "text": [
            "Train on 86 samples, validate on 45 samples\n",
            "Epoch 1/30\n",
            "86/86 [==============================] - 3s 35ms/step - loss: 1.3785 - acc: 0.2326 - val_loss: 1.2367 - val_acc: 0.3111\n",
            "Epoch 2/30\n",
            "86/86 [==============================] - 0s 2ms/step - loss: 1.2330 - acc: 0.3372 - val_loss: 1.1591 - val_acc: 0.3556\n",
            "Epoch 3/30\n",
            "86/86 [==============================] - 0s 2ms/step - loss: 1.1466 - acc: 0.3953 - val_loss: 1.1175 - val_acc: 0.4000\n",
            "Epoch 4/30\n",
            "86/86 [==============================] - 0s 2ms/step - loss: 1.0891 - acc: 0.4419 - val_loss: 1.0862 - val_acc: 0.4444\n",
            "Epoch 5/30\n",
            "86/86 [==============================] - 0s 2ms/step - loss: 1.0485 - acc: 0.4884 - val_loss: 1.0689 - val_acc: 0.5111\n",
            "Epoch 6/30\n",
            "86/86 [==============================] - 0s 2ms/step - loss: 1.0188 - acc: 0.5116 - val_loss: 1.0509 - val_acc: 0.5556\n",
            "Epoch 7/30\n",
            "86/86 [==============================] - 0s 2ms/step - loss: 0.9949 - acc: 0.5233 - val_loss: 1.0409 - val_acc: 0.5556\n",
            "Epoch 8/30\n",
            "86/86 [==============================] - 0s 2ms/step - loss: 0.9764 - acc: 0.5465 - val_loss: 1.0332 - val_acc: 0.5556\n",
            "Epoch 9/30\n",
            "86/86 [==============================] - 0s 2ms/step - loss: 0.9589 - acc: 0.5814 - val_loss: 1.0308 - val_acc: 0.5556\n",
            "Epoch 10/30\n",
            "86/86 [==============================] - 0s 2ms/step - loss: 0.9430 - acc: 0.5581 - val_loss: 1.0322 - val_acc: 0.5556\n",
            "Epoch 11/30\n",
            "86/86 [==============================] - 0s 2ms/step - loss: 0.9265 - acc: 0.5581 - val_loss: 1.0359 - val_acc: 0.5556\n",
            "Epoch 12/30\n",
            "86/86 [==============================] - 0s 2ms/step - loss: 0.9142 - acc: 0.5698 - val_loss: 1.0375 - val_acc: 0.5333\n",
            "Epoch 13/30\n",
            "86/86 [==============================] - 0s 2ms/step - loss: 0.8989 - acc: 0.5698 - val_loss: 1.0420 - val_acc: 0.4889\n",
            "Epoch 14/30\n",
            "86/86 [==============================] - 0s 2ms/step - loss: 0.8875 - acc: 0.6163 - val_loss: 1.0514 - val_acc: 0.5111\n",
            "Epoch 15/30\n",
            "86/86 [==============================] - 0s 2ms/step - loss: 0.8768 - acc: 0.6047 - val_loss: 1.0645 - val_acc: 0.5111\n",
            "Epoch 16/30\n",
            "86/86 [==============================] - 0s 2ms/step - loss: 0.8637 - acc: 0.6163 - val_loss: 1.0775 - val_acc: 0.5111\n",
            "Epoch 17/30\n",
            "86/86 [==============================] - 0s 2ms/step - loss: 0.8507 - acc: 0.6279 - val_loss: 1.0895 - val_acc: 0.4889\n",
            "Epoch 18/30\n",
            "86/86 [==============================] - 0s 2ms/step - loss: 0.8392 - acc: 0.6279 - val_loss: 1.0988 - val_acc: 0.4889\n",
            "Epoch 19/30\n",
            "86/86 [==============================] - 0s 2ms/step - loss: 0.8377 - acc: 0.6395 - val_loss: 1.1066 - val_acc: 0.4889\n",
            "Epoch 20/30\n",
            "86/86 [==============================] - 0s 2ms/step - loss: 0.8208 - acc: 0.6395 - val_loss: 1.1225 - val_acc: 0.5111\n",
            "Epoch 21/30\n",
            "86/86 [==============================] - 0s 2ms/step - loss: 0.8126 - acc: 0.6512 - val_loss: 1.1230 - val_acc: 0.4889\n",
            "Epoch 22/30\n",
            "86/86 [==============================] - 0s 2ms/step - loss: 0.8078 - acc: 0.6395 - val_loss: 1.1452 - val_acc: 0.5111\n",
            "Epoch 23/30\n",
            "86/86 [==============================] - 0s 2ms/step - loss: 0.8031 - acc: 0.6512 - val_loss: 1.1609 - val_acc: 0.5111\n",
            "Epoch 24/30\n",
            "86/86 [==============================] - 0s 2ms/step - loss: 0.8007 - acc: 0.6395 - val_loss: 1.1698 - val_acc: 0.5111\n",
            "Epoch 25/30\n",
            "86/86 [==============================] - 0s 2ms/step - loss: 0.7871 - acc: 0.6395 - val_loss: 1.1655 - val_acc: 0.4889\n",
            "Epoch 26/30\n",
            "86/86 [==============================] - 0s 2ms/step - loss: 0.7812 - acc: 0.6628 - val_loss: 1.1743 - val_acc: 0.5111\n",
            "Epoch 27/30\n",
            "86/86 [==============================] - 0s 2ms/step - loss: 0.7785 - acc: 0.6744 - val_loss: 1.1838 - val_acc: 0.5111\n",
            "Epoch 28/30\n",
            "86/86 [==============================] - 0s 2ms/step - loss: 0.7723 - acc: 0.6977 - val_loss: 1.1895 - val_acc: 0.4889\n",
            "Epoch 29/30\n",
            "86/86 [==============================] - 0s 2ms/step - loss: 0.7671 - acc: 0.7209 - val_loss: 1.1917 - val_acc: 0.4889\n",
            "Epoch 30/30\n",
            "86/86 [==============================] - 0s 2ms/step - loss: 0.7651 - acc: 0.7209 - val_loss: 1.2022 - val_acc: 0.4889\n",
            "Train on 88 samples, validate on 43 samples\n",
            "Epoch 1/30\n",
            "88/88 [==============================] - 3s 35ms/step - loss: 1.2827 - acc: 0.2727 - val_loss: 1.1870 - val_acc: 0.3488\n",
            "Epoch 2/30\n",
            "88/88 [==============================] - 0s 2ms/step - loss: 1.1891 - acc: 0.2614 - val_loss: 1.1553 - val_acc: 0.3721\n",
            "Epoch 3/30\n",
            "88/88 [==============================] - 0s 2ms/step - loss: 1.1246 - acc: 0.3864 - val_loss: 1.1380 - val_acc: 0.4186\n",
            "Epoch 4/30\n",
            "88/88 [==============================] - 0s 2ms/step - loss: 1.0803 - acc: 0.4659 - val_loss: 1.1306 - val_acc: 0.4419\n",
            "Epoch 5/30\n",
            "88/88 [==============================] - 0s 2ms/step - loss: 1.0483 - acc: 0.4773 - val_loss: 1.1234 - val_acc: 0.4419\n",
            "Epoch 6/30\n",
            "88/88 [==============================] - 0s 2ms/step - loss: 1.0206 - acc: 0.5227 - val_loss: 1.1238 - val_acc: 0.4419\n",
            "Epoch 7/30\n",
            "88/88 [==============================] - 0s 2ms/step - loss: 0.9975 - acc: 0.5568 - val_loss: 1.1281 - val_acc: 0.4419\n",
            "Epoch 8/30\n",
            "88/88 [==============================] - 0s 2ms/step - loss: 0.9772 - acc: 0.5568 - val_loss: 1.1328 - val_acc: 0.4419\n",
            "Epoch 9/30\n",
            "88/88 [==============================] - 0s 2ms/step - loss: 0.9595 - acc: 0.5682 - val_loss: 1.1322 - val_acc: 0.4651\n",
            "Epoch 10/30\n",
            "88/88 [==============================] - 0s 2ms/step - loss: 0.9419 - acc: 0.6023 - val_loss: 1.1426 - val_acc: 0.4186\n",
            "Epoch 11/30\n",
            "88/88 [==============================] - 0s 2ms/step - loss: 0.9218 - acc: 0.6136 - val_loss: 1.1506 - val_acc: 0.4419\n",
            "Epoch 12/30\n",
            "88/88 [==============================] - 0s 2ms/step - loss: 0.9088 - acc: 0.5909 - val_loss: 1.1509 - val_acc: 0.4186\n",
            "Epoch 13/30\n",
            "88/88 [==============================] - 0s 2ms/step - loss: 0.8931 - acc: 0.6250 - val_loss: 1.1636 - val_acc: 0.4186\n",
            "Epoch 14/30\n",
            "88/88 [==============================] - 0s 2ms/step - loss: 0.8924 - acc: 0.6591 - val_loss: 1.1632 - val_acc: 0.3721\n",
            "Epoch 15/30\n",
            "88/88 [==============================] - 0s 2ms/step - loss: 0.8753 - acc: 0.6705 - val_loss: 1.1845 - val_acc: 0.3721\n",
            "Epoch 16/30\n",
            "88/88 [==============================] - 0s 2ms/step - loss: 0.8773 - acc: 0.6477 - val_loss: 1.1890 - val_acc: 0.3488\n",
            "Epoch 17/30\n",
            "88/88 [==============================] - 0s 2ms/step - loss: 0.8615 - acc: 0.6705 - val_loss: 1.1950 - val_acc: 0.3488\n",
            "Epoch 18/30\n",
            "88/88 [==============================] - 0s 2ms/step - loss: 0.8547 - acc: 0.6591 - val_loss: 1.2013 - val_acc: 0.3721\n",
            "Epoch 19/30\n",
            "88/88 [==============================] - 0s 2ms/step - loss: 0.8484 - acc: 0.6705 - val_loss: 1.2244 - val_acc: 0.3721\n",
            "Epoch 20/30\n",
            "88/88 [==============================] - 0s 2ms/step - loss: 0.8344 - acc: 0.6705 - val_loss: 1.2287 - val_acc: 0.3721\n",
            "Epoch 21/30\n",
            "88/88 [==============================] - 0s 2ms/step - loss: 0.8324 - acc: 0.6705 - val_loss: 1.2342 - val_acc: 0.3953\n",
            "Epoch 22/30\n",
            "88/88 [==============================] - 0s 2ms/step - loss: 0.8190 - acc: 0.6705 - val_loss: 1.2518 - val_acc: 0.4186\n",
            "Epoch 23/30\n",
            "88/88 [==============================] - 0s 2ms/step - loss: 0.8182 - acc: 0.6591 - val_loss: 1.2593 - val_acc: 0.3953\n",
            "Epoch 24/30\n",
            "88/88 [==============================] - 0s 2ms/step - loss: 0.8147 - acc: 0.6591 - val_loss: 1.2633 - val_acc: 0.3953\n",
            "Epoch 25/30\n",
            "88/88 [==============================] - 0s 2ms/step - loss: 0.8006 - acc: 0.6705 - val_loss: 1.2742 - val_acc: 0.3721\n",
            "Epoch 26/30\n",
            "88/88 [==============================] - 0s 2ms/step - loss: 0.8009 - acc: 0.6591 - val_loss: 1.2737 - val_acc: 0.4186\n",
            "Epoch 27/30\n",
            "88/88 [==============================] - 0s 2ms/step - loss: 0.7898 - acc: 0.6705 - val_loss: 1.2841 - val_acc: 0.3953\n",
            "Epoch 28/30\n",
            "88/88 [==============================] - 0s 2ms/step - loss: 0.7902 - acc: 0.6705 - val_loss: 1.3024 - val_acc: 0.4419\n",
            "Epoch 29/30\n",
            "88/88 [==============================] - 0s 2ms/step - loss: 0.7809 - acc: 0.6591 - val_loss: 1.3187 - val_acc: 0.4186\n",
            "Epoch 30/30\n",
            "88/88 [==============================] - 0s 2ms/step - loss: 0.7734 - acc: 0.6591 - val_loss: 1.3311 - val_acc: 0.3953\n",
            "Train on 88 samples, validate on 43 samples\n",
            "Epoch 1/30\n",
            "88/88 [==============================] - 3s 35ms/step - loss: 1.0970 - acc: 0.4318 - val_loss: 1.5361 - val_acc: 0.5116\n",
            "Epoch 2/30\n",
            "88/88 [==============================] - 0s 2ms/step - loss: 1.0461 - acc: 0.4659 - val_loss: 1.5098 - val_acc: 0.5116\n",
            "Epoch 3/30\n",
            "88/88 [==============================] - 0s 2ms/step - loss: 1.0005 - acc: 0.4773 - val_loss: 1.5107 - val_acc: 0.5581\n",
            "Epoch 4/30\n",
            "88/88 [==============================] - 0s 2ms/step - loss: 0.9846 - acc: 0.5227 - val_loss: 1.4912 - val_acc: 0.4884\n",
            "Epoch 5/30\n",
            "88/88 [==============================] - 0s 2ms/step - loss: 0.9558 - acc: 0.5227 - val_loss: 1.4704 - val_acc: 0.5116\n",
            "Epoch 6/30\n",
            "88/88 [==============================] - 0s 2ms/step - loss: 0.9394 - acc: 0.5455 - val_loss: 1.4572 - val_acc: 0.5116\n",
            "Epoch 7/30\n",
            "88/88 [==============================] - 0s 2ms/step - loss: 0.9162 - acc: 0.5455 - val_loss: 1.4472 - val_acc: 0.5116\n",
            "Epoch 8/30\n",
            "88/88 [==============================] - 0s 2ms/step - loss: 0.8874 - acc: 0.5568 - val_loss: 1.4516 - val_acc: 0.4884\n",
            "Epoch 9/30\n",
            "88/88 [==============================] - 0s 2ms/step - loss: 0.8918 - acc: 0.5682 - val_loss: 1.4372 - val_acc: 0.4884\n",
            "Epoch 10/30\n",
            "88/88 [==============================] - 0s 2ms/step - loss: 0.8751 - acc: 0.5795 - val_loss: 1.4264 - val_acc: 0.4884\n",
            "Epoch 11/30\n",
            "88/88 [==============================] - 0s 2ms/step - loss: 0.8563 - acc: 0.5795 - val_loss: 1.4016 - val_acc: 0.4884\n",
            "Epoch 12/30\n",
            "88/88 [==============================] - 0s 2ms/step - loss: 0.8487 - acc: 0.5909 - val_loss: 1.3967 - val_acc: 0.4884\n",
            "Epoch 13/30\n",
            "88/88 [==============================] - 0s 2ms/step - loss: 0.8326 - acc: 0.5682 - val_loss: 1.3936 - val_acc: 0.4884\n",
            "Epoch 14/30\n",
            "88/88 [==============================] - 0s 2ms/step - loss: 0.8198 - acc: 0.5909 - val_loss: 1.3943 - val_acc: 0.4884\n",
            "Epoch 15/30\n",
            "88/88 [==============================] - 0s 2ms/step - loss: 0.8212 - acc: 0.5909 - val_loss: 1.3968 - val_acc: 0.4884\n",
            "Epoch 16/30\n",
            "88/88 [==============================] - 0s 2ms/step - loss: 0.8140 - acc: 0.5795 - val_loss: 1.3898 - val_acc: 0.4884\n",
            "Epoch 17/30\n",
            "88/88 [==============================] - 0s 2ms/step - loss: 0.7999 - acc: 0.5795 - val_loss: 1.3981 - val_acc: 0.4884\n",
            "Epoch 18/30\n",
            "88/88 [==============================] - 0s 2ms/step - loss: 0.7956 - acc: 0.5795 - val_loss: 1.4077 - val_acc: 0.5116\n",
            "Epoch 19/30\n",
            "88/88 [==============================] - 0s 2ms/step - loss: 0.8013 - acc: 0.5909 - val_loss: 1.4091 - val_acc: 0.5116\n",
            "Epoch 20/30\n",
            "88/88 [==============================] - 0s 2ms/step - loss: 0.8087 - acc: 0.5795 - val_loss: 1.4208 - val_acc: 0.5116\n",
            "Epoch 21/30\n",
            "88/88 [==============================] - 0s 2ms/step - loss: 0.7786 - acc: 0.6250 - val_loss: 1.4265 - val_acc: 0.5116\n",
            "Epoch 22/30\n",
            "88/88 [==============================] - 0s 2ms/step - loss: 0.7698 - acc: 0.6136 - val_loss: 1.4168 - val_acc: 0.5116\n",
            "Epoch 23/30\n",
            "88/88 [==============================] - 0s 2ms/step - loss: 0.7599 - acc: 0.6136 - val_loss: 1.4271 - val_acc: 0.5349\n",
            "Epoch 24/30\n",
            "88/88 [==============================] - 0s 2ms/step - loss: 0.7653 - acc: 0.6477 - val_loss: 1.4022 - val_acc: 0.5349\n",
            "Epoch 25/30\n",
            "88/88 [==============================] - 0s 2ms/step - loss: 0.7661 - acc: 0.6364 - val_loss: 1.4105 - val_acc: 0.5349\n",
            "Epoch 26/30\n",
            "88/88 [==============================] - 0s 2ms/step - loss: 0.7409 - acc: 0.6591 - val_loss: 1.4066 - val_acc: 0.5349\n",
            "Epoch 27/30\n",
            "88/88 [==============================] - 0s 2ms/step - loss: 0.7373 - acc: 0.6591 - val_loss: 1.4414 - val_acc: 0.5349\n",
            "Epoch 28/30\n",
            "88/88 [==============================] - 0s 2ms/step - loss: 0.7319 - acc: 0.6591 - val_loss: 1.4269 - val_acc: 0.5349\n",
            "Epoch 29/30\n",
            "88/88 [==============================] - 0s 2ms/step - loss: 0.7154 - acc: 0.6591 - val_loss: 1.4290 - val_acc: 0.5349\n",
            "Epoch 30/30\n",
            "88/88 [==============================] - 0s 2ms/step - loss: 0.7236 - acc: 0.6477 - val_loss: 1.4459 - val_acc: 0.5349\n"
          ],
          "name": "stdout"
        }
      ]
    },
    {
      "cell_type": "code",
      "metadata": {
        "id": "s2eeOHoYbina",
        "colab_type": "code",
        "colab": {}
      },
      "source": [
        "history_dict = history.history"
      ],
      "execution_count": 0,
      "outputs": []
    },
    {
      "cell_type": "code",
      "metadata": {
        "id": "-zDN2PrRc36l",
        "colab_type": "code",
        "colab": {
          "base_uri": "https://localhost:8080/",
          "height": 34
        },
        "outputId": "82e68066-63a1-4da0-b3c5-59182609b18a"
      },
      "source": [
        "history_dict.keys()"
      ],
      "execution_count": 769,
      "outputs": [
        {
          "output_type": "execute_result",
          "data": {
            "text/plain": [
              "dict_keys(['val_loss', 'val_acc', 'loss', 'acc'])"
            ]
          },
          "metadata": {
            "tags": []
          },
          "execution_count": 769
        }
      ]
    },
    {
      "cell_type": "code",
      "metadata": {
        "id": "tss7vRUEgAcz",
        "colab_type": "code",
        "colab": {
          "base_uri": "https://localhost:8080/",
          "height": 34
        },
        "outputId": "15ee0bdc-ed7a-47d1-e602-74992ca78a8d"
      },
      "source": [
        "len(all_acc_histories[2])"
      ],
      "execution_count": 770,
      "outputs": [
        {
          "output_type": "execute_result",
          "data": {
            "text/plain": [
              "30"
            ]
          },
          "metadata": {
            "tags": []
          },
          "execution_count": 770
        }
      ]
    },
    {
      "cell_type": "code",
      "metadata": {
        "id": "HpKE3iTJBHzO",
        "colab_type": "code",
        "colab": {}
      },
      "source": [
        "average_acc_history = [np.mean([x[i] for x in all_acc_histories]) for i in range(num_epochs)]\n",
        "#media per epoca degli score ottenuti per tutte le k-fold\n",
        "#per ogni k-fold di fanno num_epoch epoche, la media viene fatta prendendo gli score di tutti i k-fold relativi ad una data epoca,\n",
        "#e si fa questo per tutte le epoche\n",
        "average_loss_history = [np.mean([x[i] for x in all_loss_histories]) for i in range(num_epochs)]\n",
        "average_val_acc_history = [np.mean([x[i] for x in all_val_acc_histories]) for i in range(num_epochs)]\n",
        "average_val_loss_history = [np.mean([x[i] for x in all_val_loss_histories]) for i in range(num_epochs)]\n"
      ],
      "execution_count": 0,
      "outputs": []
    },
    {
      "cell_type": "code",
      "metadata": {
        "id": "uQrkCEMUD2RI",
        "colab_type": "code",
        "colab": {
          "base_uri": "https://localhost:8080/",
          "height": 34
        },
        "outputId": "6a2b464a-500f-4ed5-f8ea-04fed5aacaad"
      },
      "source": [
        "len(average_val_acc_history)"
      ],
      "execution_count": 772,
      "outputs": [
        {
          "output_type": "execute_result",
          "data": {
            "text/plain": [
              "30"
            ]
          },
          "metadata": {
            "tags": []
          },
          "execution_count": 772
        }
      ]
    },
    {
      "cell_type": "markdown",
      "metadata": {
        "id": "B9UhSxIaHtuO",
        "colab_type": "text"
      },
      "source": [
        "##Plotting training and validation loss"
      ]
    },
    {
      "cell_type": "code",
      "metadata": {
        "id": "vq6zsienD5ct",
        "colab_type": "code",
        "colab": {}
      },
      "source": [
        "import matplotlib.pyplot as plt"
      ],
      "execution_count": 0,
      "outputs": []
    },
    {
      "cell_type": "code",
      "metadata": {
        "id": "XJizyjnaIPhQ",
        "colab_type": "code",
        "colab": {}
      },
      "source": [
        "epochs = range(1, num_epochs+1)"
      ],
      "execution_count": 0,
      "outputs": []
    },
    {
      "cell_type": "code",
      "metadata": {
        "id": "HfEHEYLgIQUQ",
        "colab_type": "code",
        "colab": {
          "base_uri": "https://localhost:8080/",
          "height": 312
        },
        "outputId": "9bf6b622-bb7c-4684-cf59-36917fd7c3a3"
      },
      "source": [
        "plt.plot(epochs, average_loss_history, 'bo', label='training loss')\n",
        "plt.plot(epochs, average_val_loss_history, 'b', label='validation loss')\n",
        "plt.title('Training and validation loss')\n",
        "plt.xlabel('Epochs')\n",
        "plt.ylabel('Loss')\n",
        "plt.legend()"
      ],
      "execution_count": 775,
      "outputs": [
        {
          "output_type": "execute_result",
          "data": {
            "text/plain": [
              "<matplotlib.legend.Legend at 0x7f79b8185a20>"
            ]
          },
          "metadata": {
            "tags": []
          },
          "execution_count": 775
        },
        {
          "output_type": "display_data",
          "data": {
            "image/png": "[encoded data removed]",
            "text/plain": [
              "<Figure size 432x288 with 1 Axes>"
            ]
          },
          "metadata": {
            "tags": []
          }
        }
      ]
    },
    {
      "cell_type": "markdown",
      "metadata": {
        "id": "Aoc4wMjfI97j",
        "colab_type": "text"
      },
      "source": [
        "##Plotting train and validation accuracy"
      ]
    },
    {
      "cell_type": "code",
      "metadata": {
        "id": "GZi7VzbFIbtJ",
        "colab_type": "code",
        "colab": {
          "base_uri": "https://localhost:8080/",
          "height": 312
        },
        "outputId": "38175a64-184e-4b50-bfb1-34d399919cf0"
      },
      "source": [
        "plt.plot(epochs, average_acc_history, 'bo', label='Training accuracy')\n",
        "plt.plot(epochs, average_val_acc_history, 'b', label='Validation accuracy')\n",
        "plt.title('Training and validation accuracy')\n",
        "plt.xlabel('Epochs')\n",
        "plt.ylabel('Accuracy')\n",
        "plt.legend() "
      ],
      "execution_count": 776,
      "outputs": [
        {
          "output_type": "execute_result",
          "data": {
            "text/plain": [
              "<matplotlib.legend.Legend at 0x7f79b80eb160>"
            ]
          },
          "metadata": {
            "tags": []
          },
          "execution_count": 776
        },
        {
          "output_type": "display_data",
          "data": {
            "image/png": "[encoded data removed]",
            "text/plain": [
              "<Figure size 432x288 with 1 Axes>"
            ]
          },
          "metadata": {
            "tags": []
          }
        }
      ]
    },
    {
      "cell_type": "markdown",
      "metadata": {
        "id": "bgN-E84SUPUq",
        "colab_type": "text"
      },
      "source": [
        "#Performances on test set"
      ]
    },
    {
      "cell_type": "code",
      "metadata": {
        "id": "VokWFUNPJOsJ",
        "colab_type": "code",
        "colab": {
          "base_uri": "https://localhost:8080/",
          "height": 1000
        },
        "outputId": "edfdc9fa-a91e-4730-e6a0-8b3e678b3ea9"
      },
      "source": [
        " model = build_model()\n",
        " model.fit(train_data_stand_pca, one_hot_train_labels, epochs= num_epochs, batch_size=10, shuffle=True)\n",
        " test_loss, test_acc = model.evaluate(test_data_stand_pca, one_hot_test_labels)\n",
        "  "
      ],
      "execution_count": 784,
      "outputs": [
        {
          "output_type": "stream",
          "text": [
            "Epoch 1/30\n",
            "131/131 [==============================] - 3s 21ms/step - loss: 1.5327 - acc: 0.3588\n",
            "Epoch 2/30\n",
            "131/131 [==============================] - 0s 209us/step - loss: 1.3913 - acc: 0.4046\n",
            "Epoch 3/30\n",
            "131/131 [==============================] - 0s 192us/step - loss: 1.2999 - acc: 0.4122\n",
            "Epoch 4/30\n",
            "131/131 [==============================] - 0s 194us/step - loss: 1.2367 - acc: 0.4351\n",
            "Epoch 5/30\n",
            "131/131 [==============================] - 0s 187us/step - loss: 1.1838 - acc: 0.4580\n",
            "Epoch 6/30\n",
            "131/131 [==============================] - 0s 192us/step - loss: 1.1362 - acc: 0.4733\n",
            "Epoch 7/30\n",
            "131/131 [==============================] - 0s 198us/step - loss: 1.1060 - acc: 0.4885\n",
            "Epoch 8/30\n",
            "131/131 [==============================] - 0s 193us/step - loss: 1.0784 - acc: 0.4656\n",
            "Epoch 9/30\n",
            "131/131 [==============================] - 0s 199us/step - loss: 1.0534 - acc: 0.4962\n",
            "Epoch 10/30\n",
            "131/131 [==============================] - 0s 184us/step - loss: 1.0326 - acc: 0.5115\n",
            "Epoch 11/30\n",
            "131/131 [==============================] - 0s 247us/step - loss: 1.0132 - acc: 0.5115\n",
            "Epoch 12/30\n",
            "131/131 [==============================] - 0s 224us/step - loss: 0.9997 - acc: 0.5267\n",
            "Epoch 13/30\n",
            "131/131 [==============================] - 0s 242us/step - loss: 0.9871 - acc: 0.5344\n",
            "Epoch 14/30\n",
            "131/131 [==============================] - 0s 233us/step - loss: 0.9740 - acc: 0.5115\n",
            "Epoch 15/30\n",
            "131/131 [==============================] - 0s 177us/step - loss: 0.9669 - acc: 0.5191\n",
            "Epoch 16/30\n",
            "131/131 [==============================] - 0s 191us/step - loss: 0.9567 - acc: 0.5344\n",
            "Epoch 17/30\n",
            "131/131 [==============================] - 0s 192us/step - loss: 0.9487 - acc: 0.5496\n",
            "Epoch 18/30\n",
            "131/131 [==============================] - 0s 181us/step - loss: 0.9425 - acc: 0.5344\n",
            "Epoch 19/30\n",
            "131/131 [==============================] - 0s 208us/step - loss: 0.9338 - acc: 0.5649\n",
            "Epoch 20/30\n",
            "131/131 [==============================] - 0s 239us/step - loss: 0.9289 - acc: 0.5802\n",
            "Epoch 21/30\n",
            "131/131 [==============================] - 0s 208us/step - loss: 0.9240 - acc: 0.5725\n",
            "Epoch 22/30\n",
            "131/131 [==============================] - 0s 213us/step - loss: 0.9184 - acc: 0.5954\n",
            "Epoch 23/30\n",
            "131/131 [==============================] - 0s 192us/step - loss: 0.9132 - acc: 0.5802\n",
            "Epoch 24/30\n",
            "131/131 [==============================] - 0s 204us/step - loss: 0.9072 - acc: 0.5802\n",
            "Epoch 25/30\n",
            "131/131 [==============================] - 0s 208us/step - loss: 0.9010 - acc: 0.5954\n",
            "Epoch 26/30\n",
            "131/131 [==============================] - 0s 206us/step - loss: 0.8967 - acc: 0.6107\n",
            "Epoch 27/30\n",
            "131/131 [==============================] - 0s 233us/step - loss: 0.8912 - acc: 0.6183\n",
            "Epoch 28/30\n",
            "131/131 [==============================] - 0s 188us/step - loss: 0.8881 - acc: 0.6107\n",
            "Epoch 29/30\n",
            "131/131 [==============================] - 0s 189us/step - loss: 0.8840 - acc: 0.6107\n",
            "Epoch 30/30\n",
            "131/131 [==============================] - 0s 220us/step - loss: 0.8822 - acc: 0.6107\n",
            "34/34 [==============================] - 1s 32ms/step\n"
          ],
          "name": "stdout"
        }
      ]
    },
    {
      "cell_type": "code",
      "metadata": {
        "id": "J-tXqN8teV_6",
        "colab_type": "code",
        "colab": {
          "base_uri": "https://localhost:8080/",
          "height": 34
        },
        "outputId": "5d2efeb4-ce0a-4da8-aff7-e03873bb6530"
      },
      "source": [
        "model.metrics_names"
      ],
      "execution_count": 777,
      "outputs": [
        {
          "output_type": "execute_result",
          "data": {
            "text/plain": [
              "['loss', 'acc']"
            ]
          },
          "metadata": {
            "tags": []
          },
          "execution_count": 777
        }
      ]
    },
    {
      "cell_type": "code",
      "metadata": {
        "id": "uLqboU_IeYu-",
        "colab_type": "code",
        "colab": {
          "base_uri": "https://localhost:8080/",
          "height": 34
        },
        "outputId": "15eb8c4c-8137-4cfd-cf97-0618944d7533"
      },
      "source": [
        "test_acc\n"
      ],
      "execution_count": 785,
      "outputs": [
        {
          "output_type": "execute_result",
          "data": {
            "text/plain": [
              "0.14705882352941177"
            ]
          },
          "metadata": {
            "tags": []
          },
          "execution_count": 785
        }
      ]
    },
    {
      "cell_type": "code",
      "metadata": {
        "id": "RpouJxJrfHYf",
        "colab_type": "code",
        "colab": {}
      },
      "source": [
        ""
      ],
      "execution_count": 0,
      "outputs": []
    }
  ]
}