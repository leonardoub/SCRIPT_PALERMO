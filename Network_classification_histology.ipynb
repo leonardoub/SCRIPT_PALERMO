{
  "nbformat": 4,
  "nbformat_minor": 0,
  "metadata": {
    "colab": {
      "name": "Network_classification_histology.ipynb",
      "provenance": [],
      "include_colab_link": true
    },
    "kernelspec": {
      "name": "python3",
      "display_name": "Python 3"
    }
  },
  "cells": [
    {
      "cell_type": "markdown",
      "metadata": {
        "id": "view-in-github",
        "colab_type": "text"
      },
      "source": [
        "<a href=\"https://colab.research.google.com/github/leonardoub/SCRIPT_PALERMO/blob/master/Network_classification_histology.ipynb\" target=\"_parent\"><img src=\"https://colab.research.google.com/assets/colab-badge.svg\" alt=\"Open In Colab\"/></a>"
      ]
    },
    {
      "cell_type": "code",
      "metadata": {
        "id": "ck9uZtF_gzU7",
        "colab_type": "code",
        "colab": {}
      },
      "source": [
        "import pandas as pd\n",
        "import numpy as np\n",
        "import matplotlib.pyplot as plt\n",
        "import scipy"
      ],
      "execution_count": 0,
      "outputs": []
    },
    {
      "cell_type": "code",
      "metadata": {
        "id": "lyyNl4gxhEwD",
        "colab_type": "code",
        "outputId": "96e10162-07ab-4919-af20-283c7edb2207",
        "colab": {
          "base_uri": "https://localhost:8080/",
          "height": 141
        }
      },
      "source": [
        "#load data from Drive\n",
        "from google.colab import drive\n",
        "drive.mount('/gdrive', force_remount=True)\n",
        "%cd /gdrive"
      ],
      "execution_count": 2,
      "outputs": [
        {
          "output_type": "stream",
          "text": [
            "Go to this URL in a browser: https://accounts.google.com/o/oauth2/auth?client_id=947318989803-6bn6qk8qdgf4n4g3pfee6491hc0brc4i.apps.googleusercontent.com&redirect_uri=urn%3aietf%3awg%3aoauth%3a2.0%3aoob&response_type=code&scope=email%20https%3a%2f%2fwww.googleapis.com%2fauth%2fdocs.test%20https%3a%2f%2fwww.googleapis.com%2fauth%2fdrive%20https%3a%2f%2fwww.googleapis.com%2fauth%2fdrive.photos.readonly%20https%3a%2f%2fwww.googleapis.com%2fauth%2fpeopleapi.readonly\n",
            "\n",
            "Enter your authorization code:\n",
            "··········\n",
            "Mounted at /gdrive\n",
            "/gdrive\n"
          ],
          "name": "stdout"
        }
      ]
    },
    {
      "cell_type": "code",
      "metadata": {
        "id": "UCkUXesZhMzg",
        "colab_type": "code",
        "colab": {}
      },
      "source": [
        "train_dataset_path = '/gdrive/My Drive/AIM_PA/database_training2.csv'\n",
        "test_dataset_path = '/gdrive/My Drive/AIM_PA/database_nostro_without_nan.csv'"
      ],
      "execution_count": 0,
      "outputs": []
    },
    {
      "cell_type": "code",
      "metadata": {
        "id": "TczPxOpEhTXw",
        "colab_type": "code",
        "colab": {}
      },
      "source": [
        "df_train = pd.read_csv(train_dataset_path)\n",
        "df_test = pd.read_csv(test_dataset_path)"
      ],
      "execution_count": 0,
      "outputs": []
    },
    {
      "cell_type": "code",
      "metadata": {
        "id": "Ll-87QSVhqhj",
        "colab_type": "code",
        "colab": {}
      },
      "source": [
        "df_train.rename(columns={'Survival.time (months)':'Surv_time_months'}, inplace=True)"
      ],
      "execution_count": 0,
      "outputs": []
    },
    {
      "cell_type": "code",
      "metadata": {
        "id": "ulSbeCedhuxJ",
        "colab_type": "code",
        "colab": {}
      },
      "source": [
        "df_test.rename(columns={'Survival.time (months)':'Surv_time_months'}, inplace=True)"
      ],
      "execution_count": 0,
      "outputs": []
    },
    {
      "cell_type": "code",
      "metadata": {
        "id": "xbcwLGg3iNSn",
        "colab_type": "code",
        "colab": {}
      },
      "source": [
        "df_train.rename(columns={'Overall.Stage':'Overall_Stage'}, inplace=True)\n",
        "df_test.rename(columns={'Overall.Stage':'Overall_Stage'}, inplace=True)"
      ],
      "execution_count": 0,
      "outputs": []
    },
    {
      "cell_type": "code",
      "metadata": {
        "id": "oKKv4iKghWWn",
        "colab_type": "code",
        "colab": {}
      },
      "source": [
        "train_data = df_train.drop(['Histology', 'Surv_time_months', 'OS', 'deadstatus.event','Overall_Stage'], axis=1)"
      ],
      "execution_count": 0,
      "outputs": []
    },
    {
      "cell_type": "code",
      "metadata": {
        "id": "vQdR4izXiT0f",
        "colab_type": "code",
        "colab": {}
      },
      "source": [
        "test_data = df_test.drop(['Histology', 'Surv_time_months', 'OS', 'deadstatus.event','Overall_Stage'], axis=1)"
      ],
      "execution_count": 0,
      "outputs": []
    },
    {
      "cell_type": "code",
      "metadata": {
        "id": "Lu46pqnPhnCG",
        "colab_type": "code",
        "colab": {}
      },
      "source": [
        "train_labels = df_train.Histology"
      ],
      "execution_count": 0,
      "outputs": []
    },
    {
      "cell_type": "code",
      "metadata": {
        "id": "aS5wIylYmsQf",
        "colab_type": "code",
        "colab": {}
      },
      "source": [
        "test_labels = df_test.Histology"
      ],
      "execution_count": 0,
      "outputs": []
    },
    {
      "cell_type": "markdown",
      "metadata": {
        "id": "dtPx7PMDnXM3",
        "colab_type": "text"
      },
      "source": [
        "##Z score dei dati"
      ]
    },
    {
      "cell_type": "code",
      "metadata": {
        "id": "XK4Qji2EnVV4",
        "colab_type": "code",
        "colab": {}
      },
      "source": [
        "mean = train_data.mean(axis=0)\n",
        "train_data_stand = train_data - mean\n",
        "std = train_data.std(axis=0)\n",
        "train_data_stand /= std"
      ],
      "execution_count": 0,
      "outputs": []
    },
    {
      "cell_type": "code",
      "metadata": {
        "id": "YOVOoNOvm0Yx",
        "colab_type": "code",
        "colab": {}
      },
      "source": [
        "test_data_stand = test_data - mean\n",
        "test_data_stand /= std"
      ],
      "execution_count": 0,
      "outputs": []
    },
    {
      "cell_type": "markdown",
      "metadata": {
        "id": "00VohsAyokpq",
        "colab_type": "text"
      },
      "source": [
        "##Vettorizzare i label"
      ]
    },
    {
      "cell_type": "code",
      "metadata": {
        "id": "8RvS_9ISpxRi",
        "colab_type": "code",
        "colab": {}
      },
      "source": [
        "word_index={'adenocarcinoma':0, 'large cell':1, 'squamous cell carcinoma':2}"
      ],
      "execution_count": 0,
      "outputs": []
    },
    {
      "cell_type": "code",
      "metadata": {
        "id": "uiPW9U0XrWY2",
        "colab_type": "code",
        "colab": {}
      },
      "source": [
        "train_labels_dec = [word_index[label] for label in train_labels]"
      ],
      "execution_count": 0,
      "outputs": []
    },
    {
      "cell_type": "code",
      "metadata": {
        "id": "C4SBiKFQsKFw",
        "colab_type": "code",
        "colab": {}
      },
      "source": [
        "test_labels_dec = [word_index[label] for label in test_labels]"
      ],
      "execution_count": 0,
      "outputs": []
    },
    {
      "cell_type": "code",
      "metadata": {
        "id": "0IMbTYR7okJq",
        "colab_type": "code",
        "colab": {
          "base_uri": "https://localhost:8080/",
          "height": 81
        },
        "outputId": "39e1fe6e-54f6-4228-8c8b-729223c2e096"
      },
      "source": [
        "from keras.utils.np_utils import to_categorical"
      ],
      "execution_count": 17,
      "outputs": [
        {
          "output_type": "stream",
          "text": [
            "Using TensorFlow backend.\n"
          ],
          "name": "stderr"
        },
        {
          "output_type": "display_data",
          "data": {
            "text/html": [
              "<p style=\"color: red;\">\n",
              "The default version of TensorFlow in Colab will soon switch to TensorFlow 2.x.<br>\n",
              "We recommend you <a href=\"https://www.tensorflow.org/guide/migrate\" target=\"_blank\">upgrade</a> now \n",
              "or ensure your notebook will continue to use TensorFlow 1.x via the <code>%tensorflow_version 1.x</code> magic:\n",
              "<a href=\"https://colab.research.google.com/notebooks/tensorflow_version.ipynb\" target=\"_blank\">more info</a>.</p>\n"
            ],
            "text/plain": [
              "<IPython.core.display.HTML object>"
            ]
          },
          "metadata": {
            "tags": []
          }
        }
      ]
    },
    {
      "cell_type": "code",
      "metadata": {
        "id": "0Frv4FDNn6Qu",
        "colab_type": "code",
        "colab": {}
      },
      "source": [
        "one_hot_train_labels = to_categorical(train_labels_dec)\n",
        "one_hot_test_labels = to_categorical(test_labels_dec)"
      ],
      "execution_count": 0,
      "outputs": []
    },
    {
      "cell_type": "markdown",
      "metadata": {
        "id": "Mn0tkOGc3LKN",
        "colab_type": "text"
      },
      "source": [
        "#PCA"
      ]
    },
    {
      "cell_type": "code",
      "metadata": {
        "id": "oS76u6iu3Seg",
        "colab_type": "code",
        "colab": {}
      },
      "source": [
        "from sklearn.decomposition import PCA"
      ],
      "execution_count": 0,
      "outputs": []
    },
    {
      "cell_type": "code",
      "metadata": {
        "id": "KCjC4zqJ3bui",
        "colab_type": "code",
        "colab": {}
      },
      "source": [
        "pca = PCA(n_components=0.95, svd_solver='full')"
      ],
      "execution_count": 0,
      "outputs": []
    },
    {
      "cell_type": "code",
      "metadata": {
        "id": "dLUCf9qX4p_e",
        "colab_type": "code",
        "colab": {
          "base_uri": "https://localhost:8080/",
          "height": 52
        },
        "outputId": "b7dc1b68-664e-422d-840b-4bce3a892b86"
      },
      "source": [
        "pca.fit(train_data_stand)"
      ],
      "execution_count": 27,
      "outputs": [
        {
          "output_type": "execute_result",
          "data": {
            "text/plain": [
              "PCA(copy=True, iterated_power='auto', n_components=0.95, random_state=None,\n",
              "    svd_solver='full', tol=0.0, whiten=False)"
            ]
          },
          "metadata": {
            "tags": []
          },
          "execution_count": 27
        }
      ]
    },
    {
      "cell_type": "code",
      "metadata": {
        "id": "QfyaKgNZ44o3",
        "colab_type": "code",
        "colab": {}
      },
      "source": [
        "train_data_stand_pca = pca.transform(train_data_stand)\n",
        "test_data_stand_pca = pca.transform(test_data_stand)"
      ],
      "execution_count": 0,
      "outputs": []
    },
    {
      "cell_type": "code",
      "metadata": {
        "id": "Uz9C4nl05b_g",
        "colab_type": "code",
        "colab": {
          "base_uri": "https://localhost:8080/",
          "height": 34
        },
        "outputId": "fe0999ac-5d5d-4eb7-f8f3-92a8c30c9af3"
      },
      "source": [
        "type(train_data_stand_pca)"
      ],
      "execution_count": 59,
      "outputs": [
        {
          "output_type": "execute_result",
          "data": {
            "text/plain": [
              "numpy.ndarray"
            ]
          },
          "metadata": {
            "tags": []
          },
          "execution_count": 59
        }
      ]
    },
    {
      "cell_type": "markdown",
      "metadata": {
        "id": "8wSKvSu4s5ip",
        "colab_type": "text"
      },
      "source": [
        "#Building Network"
      ]
    },
    {
      "cell_type": "code",
      "metadata": {
        "id": "1tX_y6KKs3pM",
        "colab_type": "code",
        "colab": {}
      },
      "source": [
        "from keras import models"
      ],
      "execution_count": 0,
      "outputs": []
    },
    {
      "cell_type": "code",
      "metadata": {
        "id": "ShwM6YMqsxxJ",
        "colab_type": "code",
        "colab": {}
      },
      "source": [
        "from keras import layers"
      ],
      "execution_count": 0,
      "outputs": []
    },
    {
      "cell_type": "code",
      "metadata": {
        "id": "7OAEgN31tHVV",
        "colab_type": "code",
        "colab": {}
      },
      "source": [
        "def build_model():\n",
        "  model = models.Sequential()\n",
        "  model.add(layers.Dense(8, activation='relu', input_shape=(14,)))\n",
        "  model.add(layers.Dense(6, activation='relu'))\n",
        "  model.add(layers.Dense(3, activation='softmax'))\n",
        "  model.compile(optimizer='rmsprop', loss='categorical_crossentropy', metrics=['accuracy'])\n",
        "  return model"
      ],
      "execution_count": 0,
      "outputs": []
    },
    {
      "cell_type": "markdown",
      "metadata": {
        "id": "mIxDu50pBeiz",
        "colab_type": "text"
      },
      "source": [
        "#Stratified k-fold"
      ]
    },
    {
      "cell_type": "markdown",
      "metadata": {
        "id": "ZyLcvedUBpxA",
        "colab_type": "text"
      },
      "source": [
        "This cross-validation object is a variation of KFold that returns stratified folds. The folds are made by preserving the percentage of samples for each class."
      ]
    },
    {
      "cell_type": "code",
      "metadata": {
        "id": "fY1apcZ19gFp",
        "colab_type": "code",
        "colab": {}
      },
      "source": [
        "from sklearn.model_selection import StratifiedKFold"
      ],
      "execution_count": 0,
      "outputs": []
    },
    {
      "cell_type": "code",
      "metadata": {
        "id": "oaBDM-PtBx5V",
        "colab_type": "code",
        "colab": {
          "base_uri": "https://localhost:8080/",
          "height": 34
        },
        "outputId": "9bd6d658-f8d8-48d2-cf07-a7ef02e9e16c"
      },
      "source": [
        "skf = StratifiedKFold(n_splits=3, shuffle=True, random_state=1)\n",
        "skf.get_n_splits(train_data_stand_pca, train_labels_dec)"
      ],
      "execution_count": 111,
      "outputs": [
        {
          "output_type": "execute_result",
          "data": {
            "text/plain": [
              "3"
            ]
          },
          "metadata": {
            "tags": []
          },
          "execution_count": 111
        }
      ]
    },
    {
      "cell_type": "code",
      "metadata": {
        "id": "Me-XQzPyD1gi",
        "colab_type": "code",
        "colab": {
          "base_uri": "https://localhost:8080/",
          "height": 382
        },
        "outputId": "17bbc8d9-6b21-4eee-ce62-e69c94492a29"
      },
      "source": [
        "for train_index, test_index in skf.split(train_data_stand_pca, train_labels_dec):\n",
        "    print(\"TRAIN:\", train_index, \"TEST:\", test_index)"
      ],
      "execution_count": 112,
      "outputs": [
        {
          "output_type": "stream",
          "text": [
            "TRAIN: [  0   1   4   5   8   9  11  12  14  15  16  17  19  20  22  23  24  25\n",
            "  27  29  30  33  34  36  37  38  39  40  41  42  44  45  46  48  51  52\n",
            "  53  56  57  58  59  60  62  63  65  66  67  69  72  76  77  78  79  80\n",
            "  81  83  84  85  87  88  89  90  92  96  97  98 100 101 102 103 104 105\n",
            " 107 109 110 111 113 115 117 120 121 122 124 125 127 128] TEST: [  2   3   6   7  10  13  18  21  26  28  31  32  35  43  47  49  50  54\n",
            "  55  61  64  68  70  71  73  74  75  82  86  91  93  94  95  99 106 108\n",
            " 112 114 116 118 119 123 126 129 130]\n",
            "TRAIN: [  2   3   5   6   7   8   9  10  11  12  13  18  20  21  25  26  27  28\n",
            "  29  30  31  32  34  35  36  38  39  43  44  45  46  47  48  49  50  53\n",
            "  54  55  57  58  61  63  64  65  66  68  70  71  73  74  75  76  78  82\n",
            "  84  85  86  87  90  91  92  93  94  95  96  99 100 101 102 105 106 108\n",
            " 109 111 112 114 115 116 118 119 122 123 124 125 126 127 129 130] TEST: [  0   1   4  14  15  16  17  19  22  23  24  33  37  40  41  42  51  52\n",
            "  56  59  60  62  67  69  72  77  79  80  81  83  88  89  97  98 103 104\n",
            " 107 110 113 117 120 121 128]\n",
            "TRAIN: [  0   1   2   3   4   6   7  10  13  14  15  16  17  18  19  21  22  23\n",
            "  24  26  28  31  32  33  35  37  40  41  42  43  47  49  50  51  52  54\n",
            "  55  56  59  60  61  62  64  67  68  69  70  71  72  73  74  75  77  79\n",
            "  80  81  82  83  86  88  89  91  93  94  95  97  98  99 103 104 106 107\n",
            " 108 110 112 113 114 116 117 118 119 120 121 123 126 128 129 130] TEST: [  5   8   9  11  12  20  25  27  29  30  34  36  38  39  44  45  46  48\n",
            "  53  57  58  63  65  66  76  78  84  85  87  90  92  96 100 101 102 105\n",
            " 109 111 115 122 124 125 127]\n"
          ],
          "name": "stdout"
        }
      ]
    },
    {
      "cell_type": "code",
      "metadata": {
        "id": "BgdGK-8FK-U_",
        "colab_type": "code",
        "colab": {
          "base_uri": "https://localhost:8080/",
          "height": 34
        },
        "outputId": "ab70c819-9b6e-4af5-c368-500a8780848b"
      },
      "source": [
        "train_labels_dec[125]"
      ],
      "execution_count": 113,
      "outputs": [
        {
          "output_type": "execute_result",
          "data": {
            "text/plain": [
              "2"
            ]
          },
          "metadata": {
            "tags": []
          },
          "execution_count": 113
        }
      ]
    },
    {
      "cell_type": "code",
      "metadata": {
        "id": "a81MOfNlJCY8",
        "colab_type": "code",
        "colab": {}
      },
      "source": [
        "num_epochs = 20\n",
        "all_scores = []"
      ],
      "execution_count": 0,
      "outputs": []
    },
    {
      "cell_type": "code",
      "metadata": {
        "id": "sBJg0XD4Shhc",
        "colab_type": "code",
        "colab": {}
      },
      "source": [
        "from keras.utils.np_utils import to_categorical"
      ],
      "execution_count": 0,
      "outputs": []
    },
    {
      "cell_type": "code",
      "metadata": {
        "id": "a5Sq8r9GEPx3",
        "colab_type": "code",
        "colab": {
          "base_uri": "https://localhost:8080/",
          "height": 1000
        },
        "outputId": "9f8186f0-3a7e-4ed1-c2cd-0b11960e6e5d"
      },
      "source": [
        "for train_index, val_index in skf.split(train_data_stand_pca, train_labels_dec):\n",
        " \n",
        "  partial_train_data = np.array([train_data_stand_pca[i] for i in train_index])\n",
        "  partial_train_targets = np.array([train_labels_dec[i] for i in train_index])\n",
        "  \n",
        "  val_data = np.array([train_data_stand_pca[i] for i in val_index])\n",
        "  val_targets = np.array([train_labels_dec[i] for i in val_index])\n",
        "\n",
        "  one_hot_partial_train_targets = to_categorical(partial_train_targets)\n",
        "  one_hot_val_targets = to_categorical(val_targets)\n",
        "\n",
        "  model = build_model()\n",
        "  model.fit(partial_train_data, one_hot_partial_train_targets, epochs = num_epochs, batch_size=1)\n",
        "\n",
        "  val_loss, val_accuracy = model.evaluate(val_data, one_hot_val_targets)\n",
        "  all_scores.append(val_accuracy)\n"
      ],
      "execution_count": 127,
      "outputs": [
        {
          "output_type": "stream",
          "text": [
            "Epoch 1/20\n",
            "86/86 [==============================] - 2s 26ms/step - loss: 1.9407 - acc: 0.3953\n",
            "Epoch 2/20\n",
            "86/86 [==============================] - 0s 1ms/step - loss: 1.6031 - acc: 0.4070\n",
            "Epoch 3/20\n",
            "86/86 [==============================] - 0s 1ms/step - loss: 1.3895 - acc: 0.3721\n",
            "Epoch 4/20\n",
            "86/86 [==============================] - 0s 1ms/step - loss: 1.2570 - acc: 0.4302\n",
            "Epoch 5/20\n",
            "86/86 [==============================] - 0s 1ms/step - loss: 1.1663 - acc: 0.5000\n",
            "Epoch 6/20\n",
            "86/86 [==============================] - 0s 1ms/step - loss: 1.1149 - acc: 0.5233\n",
            "Epoch 7/20\n",
            "86/86 [==============================] - 0s 1ms/step - loss: 1.0783 - acc: 0.5581\n",
            "Epoch 8/20\n",
            "86/86 [==============================] - 0s 2ms/step - loss: 1.0488 - acc: 0.5698\n",
            "Epoch 9/20\n",
            "86/86 [==============================] - 0s 1ms/step - loss: 1.0192 - acc: 0.6047\n",
            "Epoch 10/20\n",
            "86/86 [==============================] - 0s 1ms/step - loss: 0.9985 - acc: 0.5930\n",
            "Epoch 11/20\n",
            "86/86 [==============================] - 0s 1ms/step - loss: 0.9754 - acc: 0.5930\n",
            "Epoch 12/20\n",
            "86/86 [==============================] - 0s 1ms/step - loss: 0.9630 - acc: 0.6047\n",
            "Epoch 13/20\n",
            "86/86 [==============================] - 0s 1ms/step - loss: 0.9431 - acc: 0.6279\n",
            "Epoch 14/20\n",
            "86/86 [==============================] - 0s 1ms/step - loss: 0.9324 - acc: 0.6395\n",
            "Epoch 15/20\n",
            "86/86 [==============================] - 0s 1ms/step - loss: 0.9099 - acc: 0.6512\n",
            "Epoch 16/20\n",
            "86/86 [==============================] - 0s 1ms/step - loss: 0.8991 - acc: 0.6628\n",
            "Epoch 17/20\n",
            "86/86 [==============================] - 0s 1ms/step - loss: 0.8914 - acc: 0.6628\n",
            "Epoch 18/20\n",
            "86/86 [==============================] - 0s 1ms/step - loss: 0.8791 - acc: 0.6512\n",
            "Epoch 19/20\n",
            "86/86 [==============================] - 0s 1ms/step - loss: 0.8739 - acc: 0.6512\n",
            "Epoch 20/20\n",
            "86/86 [==============================] - 0s 1ms/step - loss: 0.8569 - acc: 0.6744\n",
            "45/45 [==============================] - 1s 19ms/step\n",
            "Epoch 1/20\n",
            "88/88 [==============================] - 2s 25ms/step - loss: 1.8902 - acc: 0.3409\n",
            "Epoch 2/20\n",
            "88/88 [==============================] - 0s 1ms/step - loss: 1.5677 - acc: 0.3409\n",
            "Epoch 3/20\n",
            "88/88 [==============================] - 0s 1ms/step - loss: 1.3375 - acc: 0.3864\n",
            "Epoch 4/20\n",
            "88/88 [==============================] - 0s 1ms/step - loss: 1.1939 - acc: 0.4091\n",
            "Epoch 5/20\n",
            "88/88 [==============================] - 0s 1ms/step - loss: 1.1021 - acc: 0.4432\n",
            "Epoch 6/20\n",
            "88/88 [==============================] - 0s 1ms/step - loss: 1.0357 - acc: 0.4659\n",
            "Epoch 7/20\n",
            "88/88 [==============================] - 0s 1ms/step - loss: 0.9928 - acc: 0.5682\n",
            "Epoch 8/20\n",
            "88/88 [==============================] - 0s 1ms/step - loss: 0.9616 - acc: 0.5909\n",
            "Epoch 9/20\n",
            "88/88 [==============================] - 0s 1ms/step - loss: 0.9407 - acc: 0.5909\n",
            "Epoch 10/20\n",
            "88/88 [==============================] - 0s 1ms/step - loss: 0.9219 - acc: 0.6023\n",
            "Epoch 11/20\n",
            "88/88 [==============================] - 0s 1ms/step - loss: 0.9102 - acc: 0.6023\n",
            "Epoch 12/20\n",
            "88/88 [==============================] - 0s 1ms/step - loss: 0.9005 - acc: 0.6250\n",
            "Epoch 13/20\n",
            "88/88 [==============================] - 0s 1ms/step - loss: 0.8854 - acc: 0.6250\n",
            "Epoch 14/20\n",
            "88/88 [==============================] - 0s 1ms/step - loss: 0.8753 - acc: 0.6364\n",
            "Epoch 15/20\n",
            "88/88 [==============================] - 0s 1ms/step - loss: 0.8608 - acc: 0.6250\n",
            "Epoch 16/20\n",
            "88/88 [==============================] - 0s 1ms/step - loss: 0.8506 - acc: 0.6364\n",
            "Epoch 17/20\n",
            "88/88 [==============================] - 0s 1ms/step - loss: 0.8286 - acc: 0.6705\n",
            "Epoch 18/20\n",
            "88/88 [==============================] - 0s 1ms/step - loss: 0.8240 - acc: 0.6591\n",
            "Epoch 19/20\n",
            "88/88 [==============================] - 0s 1ms/step - loss: 0.8099 - acc: 0.6705\n",
            "Epoch 20/20\n",
            "88/88 [==============================] - 0s 1ms/step - loss: 0.7990 - acc: 0.6818\n",
            "43/43 [==============================] - 1s 20ms/step\n",
            "Epoch 1/20\n",
            "88/88 [==============================] - 2s 27ms/step - loss: 1.3083 - acc: 0.4091\n",
            "Epoch 2/20\n",
            "88/88 [==============================] - 0s 1ms/step - loss: 1.1156 - acc: 0.4545\n",
            "Epoch 3/20\n",
            "88/88 [==============================] - 0s 1ms/step - loss: 1.0387 - acc: 0.4773\n",
            "Epoch 4/20\n",
            "88/88 [==============================] - 0s 1ms/step - loss: 1.0126 - acc: 0.5114\n",
            "Epoch 5/20\n",
            "88/88 [==============================] - 0s 1ms/step - loss: 0.9856 - acc: 0.4886\n",
            "Epoch 6/20\n",
            "88/88 [==============================] - 0s 1ms/step - loss: 0.9724 - acc: 0.5682\n",
            "Epoch 7/20\n",
            "88/88 [==============================] - 0s 1ms/step - loss: 0.9593 - acc: 0.5909\n",
            "Epoch 8/20\n",
            "88/88 [==============================] - 0s 1ms/step - loss: 0.9406 - acc: 0.6023\n",
            "Epoch 9/20\n",
            "88/88 [==============================] - 0s 2ms/step - loss: 0.9248 - acc: 0.5795\n",
            "Epoch 10/20\n",
            "88/88 [==============================] - 0s 1ms/step - loss: 0.9142 - acc: 0.6136\n",
            "Epoch 11/20\n",
            "88/88 [==============================] - 0s 1ms/step - loss: 0.8985 - acc: 0.6250\n",
            "Epoch 12/20\n",
            "88/88 [==============================] - 0s 1ms/step - loss: 0.8935 - acc: 0.6250\n",
            "Epoch 13/20\n",
            "88/88 [==============================] - 0s 1ms/step - loss: 0.8798 - acc: 0.6705\n",
            "Epoch 14/20\n",
            "88/88 [==============================] - 0s 1ms/step - loss: 0.8713 - acc: 0.6364\n",
            "Epoch 15/20\n",
            "88/88 [==============================] - 0s 1ms/step - loss: 0.8566 - acc: 0.6591\n",
            "Epoch 16/20\n",
            "88/88 [==============================] - 0s 1ms/step - loss: 0.8442 - acc: 0.6818\n",
            "Epoch 17/20\n",
            "88/88 [==============================] - 0s 1ms/step - loss: 0.8281 - acc: 0.6705\n",
            "Epoch 18/20\n",
            "88/88 [==============================] - 0s 1ms/step - loss: 0.8279 - acc: 0.6705\n",
            "Epoch 19/20\n",
            "88/88 [==============================] - 0s 1ms/step - loss: 0.8237 - acc: 0.6477\n",
            "Epoch 20/20\n",
            "88/88 [==============================] - 0s 1ms/step - loss: 0.8109 - acc: 0.6932\n",
            "43/43 [==============================] - 1s 20ms/step\n"
          ],
          "name": "stdout"
        }
      ]
    },
    {
      "cell_type": "markdown",
      "metadata": {
        "id": "2X5B3lasRcsR",
        "colab_type": "text"
      },
      "source": [
        "C'è un problema: keras.utils.to_categorical produces a one-hot encoded class vector, i.e. the multilabel-indicator mentioned in the error message. StratifiedKFold is not designed to work with such input; i.e. your y must be a 1-D array of your class labels.\n",
        "Essentially, what you have to do is simply to invert the order of the operations: split first (using your intial y_train), and convert to_categorical afterwards."
      ]
    },
    {
      "cell_type": "code",
      "metadata": {
        "id": "UrLjY-KhRcDO",
        "colab_type": "code",
        "colab": {
          "base_uri": "https://localhost:8080/",
          "height": 121
        },
        "outputId": "404142ad-08de-4ee9-9d83-765c6c996e86"
      },
      "source": [
        "all_scores"
      ],
      "execution_count": 128,
      "outputs": [
        {
          "output_type": "execute_result",
          "data": {
            "text/plain": [
              "[0.46666667196485734,\n",
              " 0.5348837230094644,\n",
              " 0.5116279111352078,\n",
              " 0.48888889418707954,\n",
              " 0.5813953543818274,\n",
              " 0.48837209648864216]"
            ]
          },
          "metadata": {
            "tags": []
          },
          "execution_count": 128
        }
      ]
    },
    {
      "cell_type": "code",
      "metadata": {
        "id": "8K8a1I3yU9FS",
        "colab_type": "code",
        "colab": {
          "base_uri": "https://localhost:8080/",
          "height": 1000
        },
        "outputId": "9bc0b360-c1a4-4a33-a0f9-c3e7e22f2d8f"
      },
      "source": [
        "num_epochs = 30\n",
        "all_accuracy_histories = []\n",
        "\n",
        "for train_index, val_index in skf.split(train_data_stand_pca, train_labels_dec):\n",
        " \n",
        "  partial_train_data = np.array([train_data_stand_pca[i] for i in train_index])\n",
        "  partial_train_targets = np.array([train_labels_dec[i] for i in train_index])\n",
        "  \n",
        "  val_data = np.array([train_data_stand_pca[i] for i in val_index])\n",
        "  val_targets = np.array([train_labels_dec[i] for i in val_index])\n",
        "\n",
        "  one_hot_partial_train_targets = to_categorical(partial_train_targets)\n",
        "  one_hot_val_targets = to_categorical(val_targets)\n",
        "\n",
        "  model = build_model()\n",
        "  history = model.fit(partial_train_data, one_hot_partial_train_targets, validation_data=(val_data, one_hot_val_targets), \n",
        "                      epochs= num_epochs, batch_size=1)\n",
        "  \n",
        "  accuracy_history = history.history\n",
        "  all_accuracy_histories.append(accuracy_history)"
      ],
      "execution_count": 132,
      "outputs": [
        {
          "output_type": "stream",
          "text": [
            "Train on 86 samples, validate on 45 samples\n",
            "Epoch 1/30\n",
            "86/86 [==============================] - 3s 33ms/step - loss: 1.9002 - acc: 0.4070 - val_loss: 1.2925 - val_acc: 0.4222\n",
            "Epoch 2/30\n",
            "86/86 [==============================] - 0s 2ms/step - loss: 1.4549 - acc: 0.4186 - val_loss: 1.1442 - val_acc: 0.3778\n",
            "Epoch 3/30\n",
            "86/86 [==============================] - 0s 2ms/step - loss: 1.2224 - acc: 0.4419 - val_loss: 1.0904 - val_acc: 0.3778\n",
            "Epoch 4/30\n",
            "86/86 [==============================] - 0s 2ms/step - loss: 1.0745 - acc: 0.5349 - val_loss: 1.0658 - val_acc: 0.3556\n",
            "Epoch 5/30\n",
            "86/86 [==============================] - 0s 2ms/step - loss: 0.9930 - acc: 0.5814 - val_loss: 1.0755 - val_acc: 0.4444\n",
            "Epoch 6/30\n",
            "86/86 [==============================] - 0s 2ms/step - loss: 0.9479 - acc: 0.6395 - val_loss: 1.0949 - val_acc: 0.5111\n",
            "Epoch 7/30\n",
            "86/86 [==============================] - 0s 2ms/step - loss: 0.9192 - acc: 0.6628 - val_loss: 1.1144 - val_acc: 0.4667\n",
            "Epoch 8/30\n",
            "86/86 [==============================] - 0s 2ms/step - loss: 0.8979 - acc: 0.6628 - val_loss: 1.1221 - val_acc: 0.4667\n",
            "Epoch 9/30\n",
            "86/86 [==============================] - 0s 2ms/step - loss: 0.8872 - acc: 0.6512 - val_loss: 1.1315 - val_acc: 0.4222\n",
            "Epoch 10/30\n",
            "86/86 [==============================] - 0s 2ms/step - loss: 0.8720 - acc: 0.6512 - val_loss: 1.1448 - val_acc: 0.4222\n",
            "Epoch 11/30\n",
            "86/86 [==============================] - 0s 2ms/step - loss: 0.8618 - acc: 0.6512 - val_loss: 1.1476 - val_acc: 0.4222\n",
            "Epoch 12/30\n",
            "86/86 [==============================] - 0s 2ms/step - loss: 0.8543 - acc: 0.6279 - val_loss: 1.1636 - val_acc: 0.4000\n",
            "Epoch 13/30\n",
            "86/86 [==============================] - 0s 2ms/step - loss: 0.8407 - acc: 0.6279 - val_loss: 1.1785 - val_acc: 0.4222\n",
            "Epoch 14/30\n",
            "86/86 [==============================] - 0s 2ms/step - loss: 0.8307 - acc: 0.6279 - val_loss: 1.1775 - val_acc: 0.4222\n",
            "Epoch 15/30\n",
            "86/86 [==============================] - 0s 2ms/step - loss: 0.8207 - acc: 0.6395 - val_loss: 1.1849 - val_acc: 0.4222\n",
            "Epoch 16/30\n",
            "86/86 [==============================] - 0s 2ms/step - loss: 0.8140 - acc: 0.6395 - val_loss: 1.1884 - val_acc: 0.4222\n",
            "Epoch 17/30\n",
            "86/86 [==============================] - 0s 2ms/step - loss: 0.8025 - acc: 0.6395 - val_loss: 1.1978 - val_acc: 0.4222\n",
            "Epoch 18/30\n",
            "86/86 [==============================] - 0s 2ms/step - loss: 0.7963 - acc: 0.6395 - val_loss: 1.2024 - val_acc: 0.4222\n",
            "Epoch 19/30\n",
            "86/86 [==============================] - 0s 2ms/step - loss: 0.7794 - acc: 0.6512 - val_loss: 1.2051 - val_acc: 0.4222\n",
            "Epoch 20/30\n",
            "86/86 [==============================] - 0s 2ms/step - loss: 0.7778 - acc: 0.6395 - val_loss: 1.2072 - val_acc: 0.4222\n",
            "Epoch 21/30\n",
            "86/86 [==============================] - 0s 2ms/step - loss: 0.7693 - acc: 0.6512 - val_loss: 1.2075 - val_acc: 0.4222\n",
            "Epoch 22/30\n",
            "86/86 [==============================] - 0s 2ms/step - loss: 0.7579 - acc: 0.6395 - val_loss: 1.2146 - val_acc: 0.4444\n",
            "Epoch 23/30\n",
            "86/86 [==============================] - 0s 2ms/step - loss: 0.7579 - acc: 0.6512 - val_loss: 1.2146 - val_acc: 0.4444\n",
            "Epoch 24/30\n",
            "86/86 [==============================] - 0s 2ms/step - loss: 0.7500 - acc: 0.6628 - val_loss: 1.2222 - val_acc: 0.4444\n",
            "Epoch 25/30\n",
            "86/86 [==============================] - 0s 2ms/step - loss: 0.7401 - acc: 0.6860 - val_loss: 1.2200 - val_acc: 0.4444\n",
            "Epoch 26/30\n",
            "86/86 [==============================] - 0s 2ms/step - loss: 0.7255 - acc: 0.6744 - val_loss: 1.2259 - val_acc: 0.4444\n",
            "Epoch 27/30\n",
            "86/86 [==============================] - 0s 2ms/step - loss: 0.7202 - acc: 0.6977 - val_loss: 1.2339 - val_acc: 0.4444\n",
            "Epoch 28/30\n",
            "86/86 [==============================] - 0s 2ms/step - loss: 0.7158 - acc: 0.6744 - val_loss: 1.2441 - val_acc: 0.4444\n",
            "Epoch 29/30\n",
            "86/86 [==============================] - 0s 2ms/step - loss: 0.7126 - acc: 0.6860 - val_loss: 1.2485 - val_acc: 0.4444\n",
            "Epoch 30/30\n",
            "86/86 [==============================] - 0s 2ms/step - loss: 0.7094 - acc: 0.6744 - val_loss: 1.2582 - val_acc: 0.4444\n",
            "Train on 88 samples, validate on 43 samples\n",
            "Epoch 1/30\n",
            "88/88 [==============================] - 3s 33ms/step - loss: 1.2750 - acc: 0.4318 - val_loss: 1.4169 - val_acc: 0.4186\n",
            "Epoch 2/30\n",
            "88/88 [==============================] - 0s 2ms/step - loss: 1.1495 - acc: 0.3750 - val_loss: 1.3083 - val_acc: 0.4419\n",
            "Epoch 3/30\n",
            "88/88 [==============================] - 0s 2ms/step - loss: 1.0804 - acc: 0.4318 - val_loss: 1.2425 - val_acc: 0.4651\n",
            "Epoch 4/30\n",
            "88/88 [==============================] - 0s 2ms/step - loss: 1.0323 - acc: 0.4432 - val_loss: 1.2009 - val_acc: 0.4419\n",
            "Epoch 5/30\n",
            "88/88 [==============================] - 0s 2ms/step - loss: 1.0028 - acc: 0.4545 - val_loss: 1.1805 - val_acc: 0.4884\n",
            "Epoch 6/30\n",
            "88/88 [==============================] - 0s 2ms/step - loss: 0.9879 - acc: 0.4773 - val_loss: 1.1669 - val_acc: 0.4884\n",
            "Epoch 7/30\n",
            "88/88 [==============================] - 0s 2ms/step - loss: 0.9756 - acc: 0.4659 - val_loss: 1.1660 - val_acc: 0.4419\n",
            "Epoch 8/30\n",
            "88/88 [==============================] - 0s 2ms/step - loss: 0.9628 - acc: 0.4886 - val_loss: 1.1688 - val_acc: 0.4419\n",
            "Epoch 9/30\n",
            "88/88 [==============================] - 0s 2ms/step - loss: 0.9517 - acc: 0.4659 - val_loss: 1.1699 - val_acc: 0.4186\n",
            "Epoch 10/30\n",
            "88/88 [==============================] - 0s 2ms/step - loss: 0.9411 - acc: 0.4773 - val_loss: 1.1709 - val_acc: 0.3953\n",
            "Epoch 11/30\n",
            "88/88 [==============================] - 0s 2ms/step - loss: 0.9388 - acc: 0.5000 - val_loss: 1.1713 - val_acc: 0.4186\n",
            "Epoch 12/30\n",
            "88/88 [==============================] - 0s 2ms/step - loss: 0.9266 - acc: 0.5000 - val_loss: 1.1720 - val_acc: 0.4186\n",
            "Epoch 13/30\n",
            "88/88 [==============================] - 0s 2ms/step - loss: 0.9189 - acc: 0.4773 - val_loss: 1.1656 - val_acc: 0.4186\n",
            "Epoch 14/30\n",
            "88/88 [==============================] - 0s 2ms/step - loss: 0.9132 - acc: 0.5114 - val_loss: 1.1725 - val_acc: 0.4186\n",
            "Epoch 15/30\n",
            "88/88 [==============================] - 0s 2ms/step - loss: 0.8993 - acc: 0.5000 - val_loss: 1.1712 - val_acc: 0.4186\n",
            "Epoch 16/30\n",
            "88/88 [==============================] - 0s 2ms/step - loss: 0.8921 - acc: 0.5341 - val_loss: 1.1659 - val_acc: 0.4651\n",
            "Epoch 17/30\n",
            "88/88 [==============================] - 0s 2ms/step - loss: 0.8845 - acc: 0.5114 - val_loss: 1.1719 - val_acc: 0.4651\n",
            "Epoch 18/30\n",
            "88/88 [==============================] - 0s 2ms/step - loss: 0.8764 - acc: 0.5000 - val_loss: 1.1786 - val_acc: 0.4651\n",
            "Epoch 19/30\n",
            "88/88 [==============================] - 0s 2ms/step - loss: 0.8674 - acc: 0.5568 - val_loss: 1.1866 - val_acc: 0.4651\n",
            "Epoch 20/30\n",
            "88/88 [==============================] - 0s 2ms/step - loss: 0.8605 - acc: 0.5227 - val_loss: 1.1916 - val_acc: 0.4651\n",
            "Epoch 21/30\n",
            "88/88 [==============================] - 0s 2ms/step - loss: 0.8523 - acc: 0.5341 - val_loss: 1.2029 - val_acc: 0.4419\n",
            "Epoch 22/30\n",
            "88/88 [==============================] - 0s 2ms/step - loss: 0.8412 - acc: 0.5341 - val_loss: 1.2104 - val_acc: 0.4884\n",
            "Epoch 23/30\n",
            "88/88 [==============================] - 0s 2ms/step - loss: 0.8333 - acc: 0.5682 - val_loss: 1.2115 - val_acc: 0.4651\n",
            "Epoch 24/30\n",
            "88/88 [==============================] - 0s 2ms/step - loss: 0.8250 - acc: 0.5795 - val_loss: 1.2052 - val_acc: 0.4884\n",
            "Epoch 25/30\n",
            "88/88 [==============================] - 0s 2ms/step - loss: 0.8191 - acc: 0.5682 - val_loss: 1.2177 - val_acc: 0.4651\n",
            "Epoch 26/30\n",
            "88/88 [==============================] - 0s 2ms/step - loss: 0.8140 - acc: 0.6023 - val_loss: 1.2277 - val_acc: 0.4884\n",
            "Epoch 27/30\n",
            "88/88 [==============================] - 0s 2ms/step - loss: 0.8075 - acc: 0.6136 - val_loss: 1.2427 - val_acc: 0.4186\n",
            "Epoch 28/30\n",
            "88/88 [==============================] - 0s 2ms/step - loss: 0.7972 - acc: 0.6023 - val_loss: 1.2454 - val_acc: 0.4884\n",
            "Epoch 29/30\n",
            "88/88 [==============================] - 0s 2ms/step - loss: 0.7895 - acc: 0.5909 - val_loss: 1.2534 - val_acc: 0.4884\n",
            "Epoch 30/30\n",
            "88/88 [==============================] - 0s 2ms/step - loss: 0.7815 - acc: 0.6250 - val_loss: 1.2765 - val_acc: 0.4651\n",
            "Train on 88 samples, validate on 43 samples\n",
            "Epoch 1/30\n",
            "88/88 [==============================] - 3s 34ms/step - loss: 1.3770 - acc: 0.3409 - val_loss: 1.2256 - val_acc: 0.3488\n",
            "Epoch 2/30\n",
            "88/88 [==============================] - 0s 2ms/step - loss: 1.2447 - acc: 0.3182 - val_loss: 1.1818 - val_acc: 0.3721\n",
            "Epoch 3/30\n",
            "88/88 [==============================] - 0s 2ms/step - loss: 1.1756 - acc: 0.3636 - val_loss: 1.1491 - val_acc: 0.3953\n",
            "Epoch 4/30\n",
            "88/88 [==============================] - 0s 2ms/step - loss: 1.1134 - acc: 0.4205 - val_loss: 1.1252 - val_acc: 0.4651\n",
            "Epoch 5/30\n",
            "88/88 [==============================] - 0s 2ms/step - loss: 1.0666 - acc: 0.4545 - val_loss: 1.1110 - val_acc: 0.4419\n",
            "Epoch 6/30\n",
            "88/88 [==============================] - 0s 2ms/step - loss: 1.0329 - acc: 0.4886 - val_loss: 1.0922 - val_acc: 0.4419\n",
            "Epoch 7/30\n",
            "88/88 [==============================] - 0s 2ms/step - loss: 1.0020 - acc: 0.5114 - val_loss: 1.0732 - val_acc: 0.4419\n",
            "Epoch 8/30\n",
            "88/88 [==============================] - 0s 2ms/step - loss: 0.9722 - acc: 0.4886 - val_loss: 1.0624 - val_acc: 0.4651\n",
            "Epoch 9/30\n",
            "88/88 [==============================] - 0s 2ms/step - loss: 0.9543 - acc: 0.5455 - val_loss: 1.0532 - val_acc: 0.4419\n",
            "Epoch 10/30\n",
            "88/88 [==============================] - 0s 2ms/step - loss: 0.9430 - acc: 0.5909 - val_loss: 1.0565 - val_acc: 0.4884\n",
            "Epoch 11/30\n",
            "88/88 [==============================] - 0s 2ms/step - loss: 0.9264 - acc: 0.5795 - val_loss: 1.0517 - val_acc: 0.4884\n",
            "Epoch 12/30\n",
            "88/88 [==============================] - 0s 2ms/step - loss: 0.9084 - acc: 0.6023 - val_loss: 1.0460 - val_acc: 0.4419\n",
            "Epoch 13/30\n",
            "88/88 [==============================] - 0s 2ms/step - loss: 0.8916 - acc: 0.5909 - val_loss: 1.0512 - val_acc: 0.4186\n",
            "Epoch 14/30\n",
            "88/88 [==============================] - 0s 2ms/step - loss: 0.8788 - acc: 0.6023 - val_loss: 1.0548 - val_acc: 0.4419\n",
            "Epoch 15/30\n",
            "88/88 [==============================] - 0s 2ms/step - loss: 0.8657 - acc: 0.5795 - val_loss: 1.0569 - val_acc: 0.4419\n",
            "Epoch 16/30\n",
            "88/88 [==============================] - 0s 2ms/step - loss: 0.8550 - acc: 0.6364 - val_loss: 1.0623 - val_acc: 0.4651\n",
            "Epoch 17/30\n",
            "88/88 [==============================] - 0s 2ms/step - loss: 0.8455 - acc: 0.6250 - val_loss: 1.0670 - val_acc: 0.4651\n",
            "Epoch 18/30\n",
            "88/88 [==============================] - 0s 2ms/step - loss: 0.8371 - acc: 0.6136 - val_loss: 1.0697 - val_acc: 0.4651\n",
            "Epoch 19/30\n",
            "88/88 [==============================] - 0s 2ms/step - loss: 0.8266 - acc: 0.6136 - val_loss: 1.0690 - val_acc: 0.4419\n",
            "Epoch 20/30\n",
            "88/88 [==============================] - 0s 2ms/step - loss: 0.8224 - acc: 0.6477 - val_loss: 1.0747 - val_acc: 0.4651\n",
            "Epoch 21/30\n",
            "88/88 [==============================] - 0s 2ms/step - loss: 0.8136 - acc: 0.6477 - val_loss: 1.0806 - val_acc: 0.4419\n",
            "Epoch 22/30\n",
            "88/88 [==============================] - 0s 2ms/step - loss: 0.8064 - acc: 0.6136 - val_loss: 1.0840 - val_acc: 0.4419\n",
            "Epoch 23/30\n",
            "88/88 [==============================] - 0s 2ms/step - loss: 0.7940 - acc: 0.6250 - val_loss: 1.0882 - val_acc: 0.4186\n",
            "Epoch 24/30\n",
            "88/88 [==============================] - 0s 2ms/step - loss: 0.7834 - acc: 0.6364 - val_loss: 1.0996 - val_acc: 0.4186\n",
            "Epoch 25/30\n",
            "88/88 [==============================] - 0s 2ms/step - loss: 0.7811 - acc: 0.6591 - val_loss: 1.1055 - val_acc: 0.4419\n",
            "Epoch 26/30\n",
            "88/88 [==============================] - 0s 2ms/step - loss: 0.7672 - acc: 0.6591 - val_loss: 1.1158 - val_acc: 0.4419\n",
            "Epoch 27/30\n",
            "88/88 [==============================] - 0s 2ms/step - loss: 0.7696 - acc: 0.6818 - val_loss: 1.1170 - val_acc: 0.4419\n",
            "Epoch 28/30\n",
            "88/88 [==============================] - 0s 2ms/step - loss: 0.7592 - acc: 0.6932 - val_loss: 1.1180 - val_acc: 0.4186\n",
            "Epoch 29/30\n",
            "88/88 [==============================] - 0s 2ms/step - loss: 0.7503 - acc: 0.7273 - val_loss: 1.1277 - val_acc: 0.4651\n",
            "Epoch 30/30\n",
            "88/88 [==============================] - 0s 2ms/step - loss: 0.7495 - acc: 0.6932 - val_loss: 1.1367 - val_acc: 0.4419\n"
          ],
          "name": "stdout"
        }
      ]
    },
    {
      "cell_type": "code",
      "metadata": {
        "id": "s2eeOHoYbina",
        "colab_type": "code",
        "colab": {}
      },
      "source": [
        "history_dict=history.history"
      ],
      "execution_count": 0,
      "outputs": []
    },
    {
      "cell_type": "code",
      "metadata": {
        "id": "-zDN2PrRc36l",
        "colab_type": "code",
        "colab": {
          "base_uri": "https://localhost:8080/",
          "height": 34
        },
        "outputId": "8f661232-ed49-4fda-cd8c-afde96a70def"
      },
      "source": [
        "history_dict.keys()"
      ],
      "execution_count": 135,
      "outputs": [
        {
          "output_type": "execute_result",
          "data": {
            "text/plain": [
              "dict_keys(['val_loss', 'val_acc', 'loss', 'acc'])"
            ]
          },
          "metadata": {
            "tags": []
          },
          "execution_count": 135
        }
      ]
    },
    {
      "cell_type": "code",
      "metadata": {
        "id": "tss7vRUEgAcz",
        "colab_type": "code",
        "colab": {}
      },
      "source": [
        ""
      ],
      "execution_count": 0,
      "outputs": []
    }
  ]
}