{
  "nbformat": 4,
  "nbformat_minor": 0,
  "metadata": {
    "colab": {
      "name": "Network_classification_histology.ipynb",
      "provenance": [],
      "toc_visible": true,
      "include_colab_link": true
    },
    "kernelspec": {
      "name": "python3",
      "display_name": "Python 3"
    }
  },
  "cells": [
    {
      "cell_type": "markdown",
      "metadata": {
        "id": "view-in-github",
        "colab_type": "text"
      },
      "source": [
        "<a href=\"https://colab.research.google.com/github/leonardoub/SCRIPT_PALERMO/blob/master/Network_classification_histology.ipynb\" target=\"_parent\"><img src=\"https://colab.research.google.com/assets/colab-badge.svg\" alt=\"Open In Colab\"/></a>"
      ]
    },
    {
      "cell_type": "code",
      "metadata": {
        "id": "ck9uZtF_gzU7",
        "colab_type": "code",
        "colab": {}
      },
      "source": [
        "import pandas as pd\n",
        "import numpy as np\n",
        "import matplotlib.pyplot as plt\n",
        "import scipy"
      ],
      "execution_count": 0,
      "outputs": []
    },
    {
      "cell_type": "markdown",
      "metadata": {
        "id": "ln0sTf8q1IrI",
        "colab_type": "text"
      },
      "source": [
        "#Load data"
      ]
    },
    {
      "cell_type": "code",
      "metadata": {
        "id": "lyyNl4gxhEwD",
        "colab_type": "code",
        "outputId": "5eb9494b-4439-4482-f79c-57c95ae78db9",
        "colab": {
          "base_uri": "https://localhost:8080/",
          "height": 34
        }
      },
      "source": [
        "#load data from Drive\n",
        "from google.colab import drive\n",
        "drive.mount('/gdrive')\n",
        "#%cd /gdrive"
      ],
      "execution_count": 2,
      "outputs": [
        {
          "output_type": "stream",
          "text": [
            "Drive already mounted at /gdrive; to attempt to forcibly remount, call drive.mount(\"/gdrive\", force_remount=True).\n"
          ],
          "name": "stdout"
        }
      ]
    },
    {
      "cell_type": "code",
      "metadata": {
        "id": "UCkUXesZhMzg",
        "colab_type": "code",
        "colab": {}
      },
      "source": [
        "train_dataset_path = '/gdrive/My Drive/AIM_PA/database_training2.csv'\n",
        "test_dataset_path = '/gdrive/My Drive/AIM_PA/database_nostro_without_nan.csv'"
      ],
      "execution_count": 0,
      "outputs": []
    },
    {
      "cell_type": "code",
      "metadata": {
        "id": "TczPxOpEhTXw",
        "colab_type": "code",
        "colab": {}
      },
      "source": [
        "df_train = pd.read_csv(train_dataset_path)\n",
        "df_test = pd.read_csv(test_dataset_path)"
      ],
      "execution_count": 0,
      "outputs": []
    },
    {
      "cell_type": "code",
      "metadata": {
        "id": "Ll-87QSVhqhj",
        "colab_type": "code",
        "colab": {}
      },
      "source": [
        "df_train.rename(columns={'Survival.time (months)':'Surv_time_months'}, inplace=True)"
      ],
      "execution_count": 0,
      "outputs": []
    },
    {
      "cell_type": "code",
      "metadata": {
        "id": "ulSbeCedhuxJ",
        "colab_type": "code",
        "colab": {}
      },
      "source": [
        "df_test.rename(columns={'Survival.time (months)':'Surv_time_months'}, inplace=True)"
      ],
      "execution_count": 0,
      "outputs": []
    },
    {
      "cell_type": "code",
      "metadata": {
        "id": "xbcwLGg3iNSn",
        "colab_type": "code",
        "colab": {}
      },
      "source": [
        "df_train.rename(columns={'Overall.Stage':'Overall_Stage'}, inplace=True)\n",
        "df_test.rename(columns={'Overall.Stage':'Overall_Stage'}, inplace=True)"
      ],
      "execution_count": 0,
      "outputs": []
    },
    {
      "cell_type": "code",
      "metadata": {
        "id": "oKKv4iKghWWn",
        "colab_type": "code",
        "colab": {}
      },
      "source": [
        "train_data = df_train.drop(['Histology', 'Surv_time_months', 'OS', 'deadstatus.event','Overall_Stage'], axis=1)"
      ],
      "execution_count": 0,
      "outputs": []
    },
    {
      "cell_type": "code",
      "metadata": {
        "id": "vQdR4izXiT0f",
        "colab_type": "code",
        "colab": {}
      },
      "source": [
        "test_data = df_test.drop(['Histology', 'Surv_time_months', 'OS', 'deadstatus.event','Overall_Stage'], axis=1)"
      ],
      "execution_count": 0,
      "outputs": []
    },
    {
      "cell_type": "code",
      "metadata": {
        "id": "Lu46pqnPhnCG",
        "colab_type": "code",
        "colab": {}
      },
      "source": [
        "train_labels = df_train.Histology"
      ],
      "execution_count": 0,
      "outputs": []
    },
    {
      "cell_type": "code",
      "metadata": {
        "id": "aS5wIylYmsQf",
        "colab_type": "code",
        "colab": {}
      },
      "source": [
        "test_labels = df_test.Histology"
      ],
      "execution_count": 0,
      "outputs": []
    },
    {
      "cell_type": "markdown",
      "metadata": {
        "id": "dtPx7PMDnXM3",
        "colab_type": "text"
      },
      "source": [
        "##Z score dei dati"
      ]
    },
    {
      "cell_type": "code",
      "metadata": {
        "id": "XK4Qji2EnVV4",
        "colab_type": "code",
        "colab": {}
      },
      "source": [
        "mean = train_data.mean(axis=0)\n",
        "train_data_stand = train_data - mean\n",
        "std = train_data.std(axis=0)\n",
        "train_data_stand /= std"
      ],
      "execution_count": 0,
      "outputs": []
    },
    {
      "cell_type": "code",
      "metadata": {
        "id": "YOVOoNOvm0Yx",
        "colab_type": "code",
        "colab": {}
      },
      "source": [
        "test_data_stand = test_data - mean\n",
        "test_data_stand /= std"
      ],
      "execution_count": 0,
      "outputs": []
    },
    {
      "cell_type": "markdown",
      "metadata": {
        "id": "00VohsAyokpq",
        "colab_type": "text"
      },
      "source": [
        "##Vettorizzare i label"
      ]
    },
    {
      "cell_type": "code",
      "metadata": {
        "id": "8RvS_9ISpxRi",
        "colab_type": "code",
        "colab": {}
      },
      "source": [
        "word_index={'adenocarcinoma':0, 'large cell':1, 'squamous cell carcinoma':2}"
      ],
      "execution_count": 0,
      "outputs": []
    },
    {
      "cell_type": "code",
      "metadata": {
        "id": "uiPW9U0XrWY2",
        "colab_type": "code",
        "colab": {}
      },
      "source": [
        "train_labels_dec = [word_index[label] for label in train_labels]"
      ],
      "execution_count": 0,
      "outputs": []
    },
    {
      "cell_type": "code",
      "metadata": {
        "id": "C4SBiKFQsKFw",
        "colab_type": "code",
        "colab": {}
      },
      "source": [
        "test_labels_dec = [word_index[label] for label in test_labels]"
      ],
      "execution_count": 0,
      "outputs": []
    },
    {
      "cell_type": "code",
      "metadata": {
        "id": "0IMbTYR7okJq",
        "colab_type": "code",
        "colab": {
          "base_uri": "https://localhost:8080/",
          "height": 81
        },
        "outputId": "0f44379c-de90-4b5c-fcc0-fce272298c44"
      },
      "source": [
        "from keras.utils.np_utils import to_categorical"
      ],
      "execution_count": 17,
      "outputs": [
        {
          "output_type": "stream",
          "text": [
            "Using TensorFlow backend.\n"
          ],
          "name": "stderr"
        },
        {
          "output_type": "display_data",
          "data": {
            "text/html": [
              "<p style=\"color: red;\">\n",
              "The default version of TensorFlow in Colab will soon switch to TensorFlow 2.x.<br>\n",
              "We recommend you <a href=\"https://www.tensorflow.org/guide/migrate\" target=\"_blank\">upgrade</a> now \n",
              "or ensure your notebook will continue to use TensorFlow 1.x via the <code>%tensorflow_version 1.x</code> magic:\n",
              "<a href=\"https://colab.research.google.com/notebooks/tensorflow_version.ipynb\" target=\"_blank\">more info</a>.</p>\n"
            ],
            "text/plain": [
              "<IPython.core.display.HTML object>"
            ]
          },
          "metadata": {
            "tags": []
          }
        }
      ]
    },
    {
      "cell_type": "code",
      "metadata": {
        "id": "0Frv4FDNn6Qu",
        "colab_type": "code",
        "colab": {}
      },
      "source": [
        "one_hot_train_labels = to_categorical(train_labels_dec)\n",
        "one_hot_test_labels = to_categorical(test_labels_dec)"
      ],
      "execution_count": 0,
      "outputs": []
    },
    {
      "cell_type": "markdown",
      "metadata": {
        "id": "Mn0tkOGc3LKN",
        "colab_type": "text"
      },
      "source": [
        "#PCA"
      ]
    },
    {
      "cell_type": "code",
      "metadata": {
        "id": "oS76u6iu3Seg",
        "colab_type": "code",
        "colab": {}
      },
      "source": [
        "from sklearn.decomposition import PCA"
      ],
      "execution_count": 0,
      "outputs": []
    },
    {
      "cell_type": "code",
      "metadata": {
        "id": "KCjC4zqJ3bui",
        "colab_type": "code",
        "colab": {}
      },
      "source": [
        "pca = PCA(n_components=0.9, svd_solver='full')"
      ],
      "execution_count": 0,
      "outputs": []
    },
    {
      "cell_type": "code",
      "metadata": {
        "id": "dLUCf9qX4p_e",
        "colab_type": "code",
        "outputId": "ed5cb33d-a6ea-444d-e7f3-4d62d562fb28",
        "colab": {
          "base_uri": "https://localhost:8080/",
          "height": 52
        }
      },
      "source": [
        "pca.fit(train_data_stand)"
      ],
      "execution_count": 21,
      "outputs": [
        {
          "output_type": "execute_result",
          "data": {
            "text/plain": [
              "PCA(copy=True, iterated_power='auto', n_components=0.9, random_state=None,\n",
              "    svd_solver='full', tol=0.0, whiten=False)"
            ]
          },
          "metadata": {
            "tags": []
          },
          "execution_count": 21
        }
      ]
    },
    {
      "cell_type": "code",
      "metadata": {
        "id": "QfyaKgNZ44o3",
        "colab_type": "code",
        "colab": {}
      },
      "source": [
        "train_data_stand_pca = pca.transform(train_data_stand)\n",
        "test_data_stand_pca = pca.transform(test_data_stand)"
      ],
      "execution_count": 0,
      "outputs": []
    },
    {
      "cell_type": "code",
      "metadata": {
        "id": "Uz9C4nl05b_g",
        "colab_type": "code",
        "outputId": "4e678be4-d57f-4cc0-f302-13aeb9f70ed8",
        "colab": {
          "base_uri": "https://localhost:8080/",
          "height": 34
        }
      },
      "source": [
        "train_data_stand_pca.shape"
      ],
      "execution_count": 23,
      "outputs": [
        {
          "output_type": "execute_result",
          "data": {
            "text/plain": [
              "(131, 9)"
            ]
          },
          "metadata": {
            "tags": []
          },
          "execution_count": 23
        }
      ]
    },
    {
      "cell_type": "markdown",
      "metadata": {
        "id": "8wSKvSu4s5ip",
        "colab_type": "text"
      },
      "source": [
        "#Building Network"
      ]
    },
    {
      "cell_type": "code",
      "metadata": {
        "id": "sJTbHiq0D-4x",
        "colab_type": "code",
        "colab": {}
      },
      "source": [
        "from keras import layers\n",
        "from keras.preprocessing import sequence"
      ],
      "execution_count": 0,
      "outputs": []
    },
    {
      "cell_type": "code",
      "metadata": {
        "id": "ShwM6YMqsxxJ",
        "colab_type": "code",
        "colab": {}
      },
      "source": [
        "from keras import layers"
      ],
      "execution_count": 0,
      "outputs": []
    },
    {
      "cell_type": "code",
      "metadata": {
        "id": "IAzbu7P1VylY",
        "colab_type": "code",
        "colab": {}
      },
      "source": [
        "from keras import regularizers"
      ],
      "execution_count": 0,
      "outputs": []
    },
    {
      "cell_type": "code",
      "metadata": {
        "id": "dyqbUCK5wOVt",
        "colab_type": "code",
        "colab": {}
      },
      "source": [
        "from keras.optimizers import SGD"
      ],
      "execution_count": 0,
      "outputs": []
    },
    {
      "cell_type": "code",
      "metadata": {
        "id": "7OAEgN31tHVV",
        "colab_type": "code",
        "colab": {}
      },
      "source": [
        "def build_model():\n",
        "  model = keras.models.Sequential()\n",
        "  model.add(layers.Dense(6, activation='relu', input_shape=(9,)))\n",
        "  model.add(layers.Dense(3, activation='softmax'))\n",
        "  sgd = SGD(lr=0.001, decay=1e-6, momentum=0.5, nesterov=True)\n",
        "  model.compile(optimizer=sgd, loss='categorical_crossentropy', metrics=['accuracy'])\n",
        "  return model"
      ],
      "execution_count": 0,
      "outputs": []
    },
    {
      "cell_type": "markdown",
      "metadata": {
        "id": "mIxDu50pBeiz",
        "colab_type": "text"
      },
      "source": [
        "#Stratified k-fold"
      ]
    },
    {
      "cell_type": "markdown",
      "metadata": {
        "id": "ZyLcvedUBpxA",
        "colab_type": "text"
      },
      "source": [
        "This cross-validation object is a variation of KFold that returns stratified folds. The folds are made by preserving the percentage of samples for each class."
      ]
    },
    {
      "cell_type": "code",
      "metadata": {
        "id": "fY1apcZ19gFp",
        "colab_type": "code",
        "colab": {}
      },
      "source": [
        "from sklearn.model_selection import StratifiedKFold"
      ],
      "execution_count": 0,
      "outputs": []
    },
    {
      "cell_type": "code",
      "metadata": {
        "id": "oaBDM-PtBx5V",
        "colab_type": "code",
        "outputId": "ac82af55-e422-4012-a768-4bbaee113bb3",
        "colab": {
          "base_uri": "https://localhost:8080/",
          "height": 34
        }
      },
      "source": [
        "skf = StratifiedKFold(n_splits=3, shuffle=True, random_state=1)\n",
        "skf.get_n_splits(train_data_stand_pca, train_labels_dec)"
      ],
      "execution_count": 30,
      "outputs": [
        {
          "output_type": "execute_result",
          "data": {
            "text/plain": [
              "3"
            ]
          },
          "metadata": {
            "tags": []
          },
          "execution_count": 30
        }
      ]
    },
    {
      "cell_type": "code",
      "metadata": {
        "id": "Me-XQzPyD1gi",
        "colab_type": "code",
        "outputId": "e9214b64-57aa-4271-e0f6-8ec39bb9c574",
        "colab": {
          "base_uri": "https://localhost:8080/",
          "height": 402
        }
      },
      "source": [
        "for train_index, test_index in skf.split(train_data_stand_pca, train_labels_dec):\n",
        "    print(\"TRAIN:\", train_index, \"TEST:\", test_index)"
      ],
      "execution_count": 31,
      "outputs": [
        {
          "output_type": "stream",
          "text": [
            "TRAIN: [  0   1   4   5   8   9  11  12  14  15  16  17  19  20  22  23  24  25\n",
            "  27  29  30  33  34  36  37  38  39  40  41  42  44  45  46  48  51  52\n",
            "  53  56  57  58  59  60  62  63  65  66  67  69  72  76  77  78  79  80\n",
            "  81  83  84  85  87  88  89  90  92  96  97  98 100 101 102 103 104 105\n",
            " 107 109 110 111 113 115 117 120 121 122 124 125 127 128] TEST: [  2   3   6   7  10  13  18  21  26  28  31  32  35  43  47  49  50  54\n",
            "  55  61  64  68  70  71  73  74  75  82  86  91  93  94  95  99 106 108\n",
            " 112 114 116 118 119 123 126 129 130]\n",
            "TRAIN: [  2   3   5   6   7   8   9  10  11  12  13  18  20  21  25  26  27  28\n",
            "  29  30  31  32  34  35  36  38  39  43  44  45  46  47  48  49  50  53\n",
            "  54  55  57  58  61  63  64  65  66  68  70  71  73  74  75  76  78  82\n",
            "  84  85  86  87  90  91  92  93  94  95  96  99 100 101 102 105 106 108\n",
            " 109 111 112 114 115 116 118 119 122 123 124 125 126 127 129 130] TEST: [  0   1   4  14  15  16  17  19  22  23  24  33  37  40  41  42  51  52\n",
            "  56  59  60  62  67  69  72  77  79  80  81  83  88  89  97  98 103 104\n",
            " 107 110 113 117 120 121 128]\n",
            "TRAIN: [  0   1   2   3   4   6   7  10  13  14  15  16  17  18  19  21  22  23\n",
            "  24  26  28  31  32  33  35  37  40  41  42  43  47  49  50  51  52  54\n",
            "  55  56  59  60  61  62  64  67  68  69  70  71  72  73  74  75  77  79\n",
            "  80  81  82  83  86  88  89  91  93  94  95  97  98  99 103 104 106 107\n",
            " 108 110 112 113 114 116 117 118 119 120 121 123 126 128 129 130] TEST: [  5   8   9  11  12  20  25  27  29  30  34  36  38  39  44  45  46  48\n",
            "  53  57  58  63  65  66  76  78  84  85  87  90  92  96 100 101 102 105\n",
            " 109 111 115 122 124 125 127]\n"
          ],
          "name": "stdout"
        }
      ]
    },
    {
      "cell_type": "code",
      "metadata": {
        "id": "BgdGK-8FK-U_",
        "colab_type": "code",
        "outputId": "73f1d81b-9f73-4162-d965-3d1f8b11a2e3",
        "colab": {
          "base_uri": "https://localhost:8080/",
          "height": 34
        }
      },
      "source": [
        "train_labels_dec[125]"
      ],
      "execution_count": 32,
      "outputs": [
        {
          "output_type": "execute_result",
          "data": {
            "text/plain": [
              "2"
            ]
          },
          "metadata": {
            "tags": []
          },
          "execution_count": 32
        }
      ]
    },
    {
      "cell_type": "code",
      "metadata": {
        "id": "sBJg0XD4Shhc",
        "colab_type": "code",
        "colab": {}
      },
      "source": [
        "from keras.utils import to_categorical\n"
      ],
      "execution_count": 0,
      "outputs": []
    },
    {
      "cell_type": "code",
      "metadata": {
        "id": "a5Sq8r9GEPx3",
        "colab_type": "code",
        "colab": {}
      },
      "source": [
        "#for train_index, val_index in skf.split(train_data_stand_pca, train_labels_dec):\n",
        " \n",
        "#  partial_train_data = np.array([train_data_stand_pca[i] for i in train_index])\n",
        "#  partial_train_targets = np.array([train_labels_dec[i] for i in train_index])\n",
        "\n",
        "#  val_data = np.array([train_data_stand_pca[i] for i in val_index])\n",
        "#  val_targets = np.array([train_labels_dec[i] for i in val_index])\n",
        "\n",
        "#  one_hot_partial_train_targets = to_categorical(partial_train_targets)\n",
        "#  one_hot_val_targets = to_categorical(val_targets)\n",
        "\n",
        "#  model = build_model()\n",
        "#  model.fit(partial_train_data, one_hot_partial_train_targets, epochs = num_epochs, batch_size=1)\n",
        "\n",
        "#  val_loss, val_accuracy = model.evaluate(val_data, one_hot_val_targets)\n",
        "#  all_scores.append(val_accuracy)\n",
        "#I parametri per la valutazione vengono calcolati una volta per ogni k-fold, per ogni set di validazione, quindi k volte"
      ],
      "execution_count": 0,
      "outputs": []
    },
    {
      "cell_type": "markdown",
      "metadata": {
        "id": "2X5B3lasRcsR",
        "colab_type": "text"
      },
      "source": [
        "C'è un problema: keras.utils.to_categorical produces a one-hot encoded class vector, i.e. the multilabel-indicator mentioned in the error message. StratifiedKFold is not designed to work with such input; i.e. your y must be a 1-D array of your class labels.\n",
        "Essentially, what you have to do is simply to invert the order of the operations: split first (using your intial y_train), and convert to_categorical afterwards."
      ]
    },
    {
      "cell_type": "code",
      "metadata": {
        "id": "F0Sl23XX-uUu",
        "colab_type": "code",
        "colab": {}
      },
      "source": [
        "import keras"
      ],
      "execution_count": 0,
      "outputs": []
    },
    {
      "cell_type": "code",
      "metadata": {
        "id": "8K8a1I3yU9FS",
        "colab_type": "code",
        "outputId": "dc121b35-fb8d-4eec-91bc-0b8c7bd45faa",
        "colab": {
          "base_uri": "https://localhost:8080/",
          "height": 1000
        }
      },
      "source": [
        "num_epochs = 30\n",
        "all_acc_histories = []\n",
        "all_loss_histories = []\n",
        "all_val_acc_histories = []\n",
        "all_val_loss_histories = []\n",
        "\n",
        "for train_index, val_index in skf.split(train_data_stand_pca, train_labels_dec):\n",
        " \n",
        "  partial_train_data = np.array([train_data_stand_pca[i] for i in train_index])\n",
        "  partial_train_targets = np.array([train_labels_dec[i] for i in train_index])\n",
        "  \n",
        "  val_data = np.array([train_data_stand_pca[i] for i in val_index])\n",
        "  val_targets = np.array([train_labels_dec[i] for i in val_index])\n",
        "\n",
        "  one_hot_partial_train_targets = to_categorical(partial_train_targets)\n",
        "  one_hot_val_targets = to_categorical(val_targets)\n",
        "\n",
        " \n",
        "  model = build_model()\n",
        "  history = model.fit(partial_train_data, one_hot_partial_train_targets, validation_data=(val_data, one_hot_val_targets), \n",
        "                      epochs=num_epochs, batch_size=10)\n",
        "  \n",
        "  acc_history = history.history['acc']\n",
        "  all_acc_histories.append(acc_history)\n",
        "\n",
        "  loss_history = history.history['loss']\n",
        "  all_loss_histories.append(loss_history)\n",
        "\n",
        "  acc_val_history = history.history['val_acc']\n",
        "  all_val_acc_histories.append(acc_val_history)\n",
        "\n",
        "  loss_val_history = history.history['val_loss']\n",
        "  all_val_loss_histories.append(loss_val_history)\n",
        "  \n",
        "\n",
        "#I parametri per la valutazione vengono calcolati per ogni epoca, quindi num_epochs volte. \n",
        "#Il tutto viene ripetuto un numero di volte pari a n_splits.\n",
        "#Si ottiene una lista con n_splits elementi ciascuno dei quali è una lista lunga num_epochs,\n",
        "#ogni elemento può essere uno fra questi: dict_keys(['val_loss', 'val_acc', 'loss', 'acc']) "
      ],
      "execution_count": 36,
      "outputs": [
        {
          "output_type": "stream",
          "text": [
            "WARNING:tensorflow:From /usr/local/lib/python3.6/dist-packages/keras/backend/tensorflow_backend.py:66: The name tf.get_default_graph is deprecated. Please use tf.compat.v1.get_default_graph instead.\n",
            "\n",
            "WARNING:tensorflow:From /usr/local/lib/python3.6/dist-packages/keras/backend/tensorflow_backend.py:541: The name tf.placeholder is deprecated. Please use tf.compat.v1.placeholder instead.\n",
            "\n",
            "WARNING:tensorflow:From /usr/local/lib/python3.6/dist-packages/keras/backend/tensorflow_backend.py:4432: The name tf.random_uniform is deprecated. Please use tf.random.uniform instead.\n",
            "\n",
            "WARNING:tensorflow:From /usr/local/lib/python3.6/dist-packages/keras/optimizers.py:793: The name tf.train.Optimizer is deprecated. Please use tf.compat.v1.train.Optimizer instead.\n",
            "\n",
            "WARNING:tensorflow:From /usr/local/lib/python3.6/dist-packages/keras/backend/tensorflow_backend.py:3576: The name tf.log is deprecated. Please use tf.math.log instead.\n",
            "\n",
            "WARNING:tensorflow:From /usr/local/lib/python3.6/dist-packages/tensorflow_core/python/ops/math_grad.py:1424: where (from tensorflow.python.ops.array_ops) is deprecated and will be removed in a future version.\n",
            "Instructions for updating:\n",
            "Use tf.where in 2.0, which has the same broadcast rule as np.where\n",
            "WARNING:tensorflow:From /usr/local/lib/python3.6/dist-packages/keras/backend/tensorflow_backend.py:1033: The name tf.assign_add is deprecated. Please use tf.compat.v1.assign_add instead.\n",
            "\n",
            "WARNING:tensorflow:From /usr/local/lib/python3.6/dist-packages/keras/backend/tensorflow_backend.py:1020: The name tf.assign is deprecated. Please use tf.compat.v1.assign instead.\n",
            "\n",
            "WARNING:tensorflow:From /usr/local/lib/python3.6/dist-packages/keras/backend/tensorflow_backend.py:3005: The name tf.Session is deprecated. Please use tf.compat.v1.Session instead.\n",
            "\n",
            "Train on 86 samples, validate on 45 samples\n",
            "Epoch 1/30\n",
            "WARNING:tensorflow:From /usr/local/lib/python3.6/dist-packages/keras/backend/tensorflow_backend.py:190: The name tf.get_default_session is deprecated. Please use tf.compat.v1.get_default_session instead.\n",
            "\n",
            "WARNING:tensorflow:From /usr/local/lib/python3.6/dist-packages/keras/backend/tensorflow_backend.py:197: The name tf.ConfigProto is deprecated. Please use tf.compat.v1.ConfigProto instead.\n",
            "\n",
            "WARNING:tensorflow:From /usr/local/lib/python3.6/dist-packages/keras/backend/tensorflow_backend.py:207: The name tf.global_variables is deprecated. Please use tf.compat.v1.global_variables instead.\n",
            "\n",
            "WARNING:tensorflow:From /usr/local/lib/python3.6/dist-packages/keras/backend/tensorflow_backend.py:216: The name tf.is_variable_initialized is deprecated. Please use tf.compat.v1.is_variable_initialized instead.\n",
            "\n",
            "WARNING:tensorflow:From /usr/local/lib/python3.6/dist-packages/keras/backend/tensorflow_backend.py:223: The name tf.variables_initializer is deprecated. Please use tf.compat.v1.variables_initializer instead.\n",
            "\n",
            "86/86 [==============================] - 0s 2ms/step - loss: 2.2864 - acc: 0.2907 - val_loss: 1.8389 - val_acc: 0.3111\n",
            "Epoch 2/30\n",
            "86/86 [==============================] - 0s 195us/step - loss: 2.1418 - acc: 0.2791 - val_loss: 1.7568 - val_acc: 0.2889\n",
            "Epoch 3/30\n",
            "86/86 [==============================] - 0s 226us/step - loss: 2.0167 - acc: 0.2791 - val_loss: 1.6867 - val_acc: 0.2889\n",
            "Epoch 4/30\n",
            "86/86 [==============================] - 0s 195us/step - loss: 1.9047 - acc: 0.2791 - val_loss: 1.6250 - val_acc: 0.3111\n",
            "Epoch 5/30\n",
            "86/86 [==============================] - 0s 171us/step - loss: 1.8119 - acc: 0.2907 - val_loss: 1.5705 - val_acc: 0.3111\n",
            "Epoch 6/30\n",
            "86/86 [==============================] - 0s 222us/step - loss: 1.7305 - acc: 0.3023 - val_loss: 1.5220 - val_acc: 0.3111\n",
            "Epoch 7/30\n",
            "86/86 [==============================] - 0s 167us/step - loss: 1.6563 - acc: 0.3023 - val_loss: 1.4778 - val_acc: 0.3111\n",
            "Epoch 8/30\n",
            "86/86 [==============================] - 0s 213us/step - loss: 1.5918 - acc: 0.3023 - val_loss: 1.4394 - val_acc: 0.3111\n",
            "Epoch 9/30\n",
            "86/86 [==============================] - 0s 210us/step - loss: 1.5391 - acc: 0.3023 - val_loss: 1.4044 - val_acc: 0.3111\n",
            "Epoch 10/30\n",
            "86/86 [==============================] - 0s 179us/step - loss: 1.4912 - acc: 0.3023 - val_loss: 1.3726 - val_acc: 0.3111\n",
            "Epoch 11/30\n",
            "86/86 [==============================] - 0s 190us/step - loss: 1.4468 - acc: 0.3140 - val_loss: 1.3421 - val_acc: 0.3556\n",
            "Epoch 12/30\n",
            "86/86 [==============================] - 0s 192us/step - loss: 1.4057 - acc: 0.3140 - val_loss: 1.3146 - val_acc: 0.3556\n",
            "Epoch 13/30\n",
            "86/86 [==============================] - 0s 225us/step - loss: 1.3671 - acc: 0.3256 - val_loss: 1.2894 - val_acc: 0.3556\n",
            "Epoch 14/30\n",
            "86/86 [==============================] - 0s 155us/step - loss: 1.3302 - acc: 0.3372 - val_loss: 1.2662 - val_acc: 0.3556\n",
            "Epoch 15/30\n",
            "86/86 [==============================] - 0s 165us/step - loss: 1.2984 - acc: 0.3372 - val_loss: 1.2467 - val_acc: 0.3111\n",
            "Epoch 16/30\n",
            "86/86 [==============================] - 0s 205us/step - loss: 1.2691 - acc: 0.3488 - val_loss: 1.2275 - val_acc: 0.3333\n",
            "Epoch 17/30\n",
            "86/86 [==============================] - 0s 215us/step - loss: 1.2434 - acc: 0.3837 - val_loss: 1.2099 - val_acc: 0.3556\n",
            "Epoch 18/30\n",
            "86/86 [==============================] - 0s 182us/step - loss: 1.2200 - acc: 0.3837 - val_loss: 1.1933 - val_acc: 0.3556\n",
            "Epoch 19/30\n",
            "86/86 [==============================] - 0s 171us/step - loss: 1.1982 - acc: 0.3953 - val_loss: 1.1793 - val_acc: 0.3556\n",
            "Epoch 20/30\n",
            "86/86 [==============================] - 0s 184us/step - loss: 1.1812 - acc: 0.4070 - val_loss: 1.1669 - val_acc: 0.3556\n",
            "Epoch 21/30\n",
            "86/86 [==============================] - 0s 189us/step - loss: 1.1657 - acc: 0.4070 - val_loss: 1.1562 - val_acc: 0.3556\n",
            "Epoch 22/30\n",
            "86/86 [==============================] - 0s 173us/step - loss: 1.1524 - acc: 0.4186 - val_loss: 1.1465 - val_acc: 0.3556\n",
            "Epoch 23/30\n",
            "86/86 [==============================] - 0s 179us/step - loss: 1.1379 - acc: 0.4070 - val_loss: 1.1371 - val_acc: 0.3556\n",
            "Epoch 24/30\n",
            "86/86 [==============================] - 0s 191us/step - loss: 1.1263 - acc: 0.4302 - val_loss: 1.1291 - val_acc: 0.3778\n",
            "Epoch 25/30\n",
            "86/86 [==============================] - 0s 209us/step - loss: 1.1141 - acc: 0.4419 - val_loss: 1.1203 - val_acc: 0.3778\n",
            "Epoch 26/30\n",
            "86/86 [==============================] - 0s 197us/step - loss: 1.1042 - acc: 0.4535 - val_loss: 1.1122 - val_acc: 0.3778\n",
            "Epoch 27/30\n",
            "86/86 [==============================] - 0s 202us/step - loss: 1.0950 - acc: 0.4767 - val_loss: 1.1047 - val_acc: 0.4667\n",
            "Epoch 28/30\n",
            "86/86 [==============================] - 0s 201us/step - loss: 1.0862 - acc: 0.4884 - val_loss: 1.0980 - val_acc: 0.4667\n",
            "Epoch 29/30\n",
            "86/86 [==============================] - 0s 176us/step - loss: 1.0785 - acc: 0.4767 - val_loss: 1.0918 - val_acc: 0.4667\n",
            "Epoch 30/30\n",
            "86/86 [==============================] - 0s 213us/step - loss: 1.0708 - acc: 0.4767 - val_loss: 1.0859 - val_acc: 0.4667\n",
            "Train on 88 samples, validate on 43 samples\n",
            "Epoch 1/30\n",
            "88/88 [==============================] - 0s 2ms/step - loss: 1.8615 - acc: 0.5227 - val_loss: 1.3644 - val_acc: 0.5116\n",
            "Epoch 2/30\n",
            "88/88 [==============================] - 0s 195us/step - loss: 1.8305 - acc: 0.5227 - val_loss: 1.3567 - val_acc: 0.5116\n",
            "Epoch 3/30\n",
            "88/88 [==============================] - 0s 182us/step - loss: 1.8023 - acc: 0.5455 - val_loss: 1.3492 - val_acc: 0.5116\n",
            "Epoch 4/30\n",
            "88/88 [==============================] - 0s 171us/step - loss: 1.7769 - acc: 0.5341 - val_loss: 1.3420 - val_acc: 0.5116\n",
            "Epoch 5/30\n",
            "88/88 [==============================] - 0s 176us/step - loss: 1.7547 - acc: 0.5455 - val_loss: 1.3355 - val_acc: 0.5116\n",
            "Epoch 6/30\n",
            "88/88 [==============================] - 0s 176us/step - loss: 1.7339 - acc: 0.5455 - val_loss: 1.3289 - val_acc: 0.5116\n",
            "Epoch 7/30\n",
            "88/88 [==============================] - 0s 187us/step - loss: 1.7165 - acc: 0.5568 - val_loss: 1.3216 - val_acc: 0.4884\n",
            "Epoch 8/30\n",
            "88/88 [==============================] - 0s 170us/step - loss: 1.6992 - acc: 0.5568 - val_loss: 1.3135 - val_acc: 0.4884\n",
            "Epoch 9/30\n",
            "88/88 [==============================] - 0s 169us/step - loss: 1.6844 - acc: 0.5568 - val_loss: 1.3060 - val_acc: 0.4884\n",
            "Epoch 10/30\n",
            "88/88 [==============================] - 0s 172us/step - loss: 1.6692 - acc: 0.5568 - val_loss: 1.2997 - val_acc: 0.4884\n",
            "Epoch 11/30\n",
            "88/88 [==============================] - 0s 166us/step - loss: 1.6564 - acc: 0.5568 - val_loss: 1.2950 - val_acc: 0.4884\n",
            "Epoch 12/30\n",
            "88/88 [==============================] - 0s 180us/step - loss: 1.6433 - acc: 0.5682 - val_loss: 1.2886 - val_acc: 0.5116\n",
            "Epoch 13/30\n",
            "88/88 [==============================] - 0s 179us/step - loss: 1.6319 - acc: 0.5795 - val_loss: 1.2837 - val_acc: 0.5116\n",
            "Epoch 14/30\n",
            "88/88 [==============================] - 0s 190us/step - loss: 1.6195 - acc: 0.5909 - val_loss: 1.2788 - val_acc: 0.5116\n",
            "Epoch 15/30\n",
            "88/88 [==============================] - 0s 172us/step - loss: 1.6092 - acc: 0.5909 - val_loss: 1.2747 - val_acc: 0.5116\n",
            "Epoch 16/30\n",
            "88/88 [==============================] - 0s 204us/step - loss: 1.5990 - acc: 0.5909 - val_loss: 1.2705 - val_acc: 0.5116\n",
            "Epoch 17/30\n",
            "88/88 [==============================] - 0s 181us/step - loss: 1.5887 - acc: 0.5909 - val_loss: 1.2670 - val_acc: 0.5116\n",
            "Epoch 18/30\n",
            "88/88 [==============================] - 0s 168us/step - loss: 1.5793 - acc: 0.5909 - val_loss: 1.2621 - val_acc: 0.5116\n",
            "Epoch 19/30\n",
            "88/88 [==============================] - 0s 173us/step - loss: 1.5692 - acc: 0.5909 - val_loss: 1.2579 - val_acc: 0.5116\n",
            "Epoch 20/30\n",
            "88/88 [==============================] - 0s 171us/step - loss: 1.5601 - acc: 0.5909 - val_loss: 1.2527 - val_acc: 0.5116\n",
            "Epoch 21/30\n",
            "88/88 [==============================] - 0s 179us/step - loss: 1.5518 - acc: 0.5909 - val_loss: 1.2488 - val_acc: 0.5116\n",
            "Epoch 22/30\n",
            "88/88 [==============================] - 0s 171us/step - loss: 1.5439 - acc: 0.5909 - val_loss: 1.2441 - val_acc: 0.5116\n",
            "Epoch 23/30\n",
            "88/88 [==============================] - 0s 219us/step - loss: 1.5354 - acc: 0.5909 - val_loss: 1.2394 - val_acc: 0.5116\n",
            "Epoch 24/30\n",
            "88/88 [==============================] - 0s 200us/step - loss: 1.5281 - acc: 0.5909 - val_loss: 1.2350 - val_acc: 0.5116\n",
            "Epoch 25/30\n",
            "88/88 [==============================] - 0s 202us/step - loss: 1.5211 - acc: 0.5909 - val_loss: 1.2318 - val_acc: 0.5116\n",
            "Epoch 26/30\n",
            "88/88 [==============================] - 0s 179us/step - loss: 1.5138 - acc: 0.5909 - val_loss: 1.2266 - val_acc: 0.5116\n",
            "Epoch 27/30\n",
            "88/88 [==============================] - 0s 165us/step - loss: 1.5066 - acc: 0.5909 - val_loss: 1.2230 - val_acc: 0.5116\n",
            "Epoch 28/30\n",
            "88/88 [==============================] - 0s 191us/step - loss: 1.5005 - acc: 0.5909 - val_loss: 1.2202 - val_acc: 0.5116\n",
            "Epoch 29/30\n",
            "88/88 [==============================] - 0s 181us/step - loss: 1.4927 - acc: 0.5909 - val_loss: 1.2160 - val_acc: 0.5116\n",
            "Epoch 30/30\n",
            "88/88 [==============================] - 0s 177us/step - loss: 1.4868 - acc: 0.5909 - val_loss: 1.2133 - val_acc: 0.5116\n",
            "Train on 88 samples, validate on 43 samples\n",
            "Epoch 1/30\n",
            "88/88 [==============================] - 0s 2ms/step - loss: 1.9836 - acc: 0.4432 - val_loss: 1.4806 - val_acc: 0.5116\n",
            "Epoch 2/30\n",
            "88/88 [==============================] - 0s 195us/step - loss: 1.8872 - acc: 0.4432 - val_loss: 1.4241 - val_acc: 0.5349\n",
            "Epoch 3/30\n",
            "88/88 [==============================] - 0s 212us/step - loss: 1.7916 - acc: 0.4545 - val_loss: 1.3739 - val_acc: 0.5349\n",
            "Epoch 4/30\n",
            "88/88 [==============================] - 0s 162us/step - loss: 1.7119 - acc: 0.4318 - val_loss: 1.3322 - val_acc: 0.5581\n",
            "Epoch 5/30\n",
            "88/88 [==============================] - 0s 163us/step - loss: 1.6396 - acc: 0.4205 - val_loss: 1.2975 - val_acc: 0.5349\n",
            "Epoch 6/30\n",
            "88/88 [==============================] - 0s 176us/step - loss: 1.5716 - acc: 0.4205 - val_loss: 1.2686 - val_acc: 0.5349\n",
            "Epoch 7/30\n",
            "88/88 [==============================] - 0s 188us/step - loss: 1.5097 - acc: 0.4091 - val_loss: 1.2431 - val_acc: 0.5581\n",
            "Epoch 8/30\n",
            "88/88 [==============================] - 0s 213us/step - loss: 1.4570 - acc: 0.4091 - val_loss: 1.2210 - val_acc: 0.5581\n",
            "Epoch 9/30\n",
            "88/88 [==============================] - 0s 212us/step - loss: 1.4048 - acc: 0.3977 - val_loss: 1.2035 - val_acc: 0.5581\n",
            "Epoch 10/30\n",
            "88/88 [==============================] - 0s 197us/step - loss: 1.3613 - acc: 0.3977 - val_loss: 1.1898 - val_acc: 0.5581\n",
            "Epoch 11/30\n",
            "88/88 [==============================] - 0s 199us/step - loss: 1.3225 - acc: 0.3750 - val_loss: 1.1785 - val_acc: 0.5581\n",
            "Epoch 12/30\n",
            "88/88 [==============================] - 0s 236us/step - loss: 1.2899 - acc: 0.3750 - val_loss: 1.1696 - val_acc: 0.5349\n",
            "Epoch 13/30\n",
            "88/88 [==============================] - 0s 201us/step - loss: 1.2608 - acc: 0.3864 - val_loss: 1.1612 - val_acc: 0.5116\n",
            "Epoch 14/30\n",
            "88/88 [==============================] - 0s 213us/step - loss: 1.2344 - acc: 0.3977 - val_loss: 1.1547 - val_acc: 0.5116\n",
            "Epoch 15/30\n",
            "88/88 [==============================] - 0s 260us/step - loss: 1.2125 - acc: 0.3977 - val_loss: 1.1490 - val_acc: 0.5116\n",
            "Epoch 16/30\n",
            "88/88 [==============================] - 0s 208us/step - loss: 1.1912 - acc: 0.4205 - val_loss: 1.1442 - val_acc: 0.5116\n",
            "Epoch 17/30\n",
            "88/88 [==============================] - 0s 178us/step - loss: 1.1743 - acc: 0.4318 - val_loss: 1.1399 - val_acc: 0.5116\n",
            "Epoch 18/30\n",
            "88/88 [==============================] - 0s 219us/step - loss: 1.1588 - acc: 0.4432 - val_loss: 1.1368 - val_acc: 0.5116\n",
            "Epoch 19/30\n",
            "88/88 [==============================] - 0s 211us/step - loss: 1.1441 - acc: 0.4545 - val_loss: 1.1330 - val_acc: 0.5116\n",
            "Epoch 20/30\n",
            "88/88 [==============================] - 0s 180us/step - loss: 1.1314 - acc: 0.4659 - val_loss: 1.1299 - val_acc: 0.5116\n",
            "Epoch 21/30\n",
            "88/88 [==============================] - 0s 169us/step - loss: 1.1195 - acc: 0.4886 - val_loss: 1.1269 - val_acc: 0.5116\n",
            "Epoch 22/30\n",
            "88/88 [==============================] - 0s 182us/step - loss: 1.1103 - acc: 0.4773 - val_loss: 1.1241 - val_acc: 0.5349\n",
            "Epoch 23/30\n",
            "88/88 [==============================] - 0s 175us/step - loss: 1.0994 - acc: 0.4886 - val_loss: 1.1211 - val_acc: 0.5116\n",
            "Epoch 24/30\n",
            "88/88 [==============================] - 0s 182us/step - loss: 1.0898 - acc: 0.4886 - val_loss: 1.1182 - val_acc: 0.4884\n",
            "Epoch 25/30\n",
            "88/88 [==============================] - 0s 146us/step - loss: 1.0809 - acc: 0.5114 - val_loss: 1.1157 - val_acc: 0.4884\n",
            "Epoch 26/30\n",
            "88/88 [==============================] - 0s 184us/step - loss: 1.0728 - acc: 0.5114 - val_loss: 1.1133 - val_acc: 0.5116\n",
            "Epoch 27/30\n",
            "88/88 [==============================] - 0s 200us/step - loss: 1.0664 - acc: 0.5114 - val_loss: 1.1114 - val_acc: 0.5116\n",
            "Epoch 28/30\n",
            "88/88 [==============================] - 0s 238us/step - loss: 1.0592 - acc: 0.5114 - val_loss: 1.1083 - val_acc: 0.5116\n",
            "Epoch 29/30\n",
            "88/88 [==============================] - 0s 177us/step - loss: 1.0507 - acc: 0.5114 - val_loss: 1.1061 - val_acc: 0.5349\n",
            "Epoch 30/30\n",
            "88/88 [==============================] - 0s 242us/step - loss: 1.0439 - acc: 0.5227 - val_loss: 1.1030 - val_acc: 0.5116\n"
          ],
          "name": "stdout"
        }
      ]
    },
    {
      "cell_type": "code",
      "metadata": {
        "id": "s2eeOHoYbina",
        "colab_type": "code",
        "colab": {}
      },
      "source": [
        "history_dict = history.history"
      ],
      "execution_count": 0,
      "outputs": []
    },
    {
      "cell_type": "code",
      "metadata": {
        "id": "-zDN2PrRc36l",
        "colab_type": "code",
        "outputId": "b573144a-8ae7-467b-a85b-a24a84491934",
        "colab": {
          "base_uri": "https://localhost:8080/",
          "height": 34
        }
      },
      "source": [
        "history_dict.keys()"
      ],
      "execution_count": 38,
      "outputs": [
        {
          "output_type": "execute_result",
          "data": {
            "text/plain": [
              "dict_keys(['val_loss', 'val_acc', 'loss', 'acc'])"
            ]
          },
          "metadata": {
            "tags": []
          },
          "execution_count": 38
        }
      ]
    },
    {
      "cell_type": "code",
      "metadata": {
        "id": "tss7vRUEgAcz",
        "colab_type": "code",
        "outputId": "9ee56e33-e5c4-4fd9-8fcb-eb8939195594",
        "colab": {
          "base_uri": "https://localhost:8080/",
          "height": 34
        }
      },
      "source": [
        "len(all_acc_histories[2])"
      ],
      "execution_count": 39,
      "outputs": [
        {
          "output_type": "execute_result",
          "data": {
            "text/plain": [
              "30"
            ]
          },
          "metadata": {
            "tags": []
          },
          "execution_count": 39
        }
      ]
    },
    {
      "cell_type": "code",
      "metadata": {
        "id": "HpKE3iTJBHzO",
        "colab_type": "code",
        "colab": {}
      },
      "source": [
        "average_acc_history = [np.mean([x[i] for x in all_acc_histories]) for i in range(num_epochs)]\n",
        "#media per epoca degli score ottenuti per tutte le k-fold\n",
        "#per ogni k-fold di fanno num_epoch epoche, la media viene fatta prendendo gli score di tutti i k-fold relativi ad una data epoca,\n",
        "#e si fa questo per tutte le epoche\n",
        "average_loss_history = [np.mean([x[i] for x in all_loss_histories]) for i in range(num_epochs)]\n",
        "average_val_acc_history = [np.mean([x[i] for x in all_val_acc_histories]) for i in range(num_epochs)]\n",
        "average_val_loss_history = [np.mean([x[i] for x in all_val_loss_histories]) for i in range(num_epochs)]\n"
      ],
      "execution_count": 0,
      "outputs": []
    },
    {
      "cell_type": "code",
      "metadata": {
        "id": "uQrkCEMUD2RI",
        "colab_type": "code",
        "outputId": "9766211b-562e-4340-e8a7-8b1ed8f698d3",
        "colab": {
          "base_uri": "https://localhost:8080/",
          "height": 34
        }
      },
      "source": [
        "len(average_val_acc_history)"
      ],
      "execution_count": 41,
      "outputs": [
        {
          "output_type": "execute_result",
          "data": {
            "text/plain": [
              "30"
            ]
          },
          "metadata": {
            "tags": []
          },
          "execution_count": 41
        }
      ]
    },
    {
      "cell_type": "markdown",
      "metadata": {
        "id": "B9UhSxIaHtuO",
        "colab_type": "text"
      },
      "source": [
        "##Plotting training and validation loss"
      ]
    },
    {
      "cell_type": "code",
      "metadata": {
        "id": "vq6zsienD5ct",
        "colab_type": "code",
        "colab": {}
      },
      "source": [
        "import matplotlib.pyplot as plt"
      ],
      "execution_count": 0,
      "outputs": []
    },
    {
      "cell_type": "code",
      "metadata": {
        "id": "XJizyjnaIPhQ",
        "colab_type": "code",
        "colab": {}
      },
      "source": [
        "epochs = range(1, num_epochs+1)"
      ],
      "execution_count": 0,
      "outputs": []
    },
    {
      "cell_type": "code",
      "metadata": {
        "id": "HfEHEYLgIQUQ",
        "colab_type": "code",
        "outputId": "6d0697dc-a0e1-44cc-cf87-b896677e8147",
        "colab": {
          "base_uri": "https://localhost:8080/",
          "height": 0
        }
      },
      "source": [
        "plt.plot(epochs, average_loss_history, 'bo', label='training loss')\n",
        "plt.plot(epochs, average_val_loss_history, 'b', label='validation loss')\n",
        "plt.title('Training and validation loss')\n",
        "plt.xlabel('Epochs')\n",
        "plt.ylabel('Loss')\n",
        "plt.legend()"
      ],
      "execution_count": 44,
      "outputs": [
        {
          "output_type": "execute_result",
          "data": {
            "text/plain": [
              "<matplotlib.legend.Legend at 0x7fd8a0379160>"
            ]
          },
          "metadata": {
            "tags": []
          },
          "execution_count": 44
        },
        {
          "output_type": "display_data",
          "data": {
            "image/png": "[encoded data removed]",
            "text/plain": [
              "<Figure size 432x288 with 1 Axes>"
            ]
          },
          "metadata": {
            "tags": []
          }
        }
      ]
    },
    {
      "cell_type": "markdown",
      "metadata": {
        "id": "Aoc4wMjfI97j",
        "colab_type": "text"
      },
      "source": [
        "##Plotting train and validation accuracy"
      ]
    },
    {
      "cell_type": "code",
      "metadata": {
        "id": "GZi7VzbFIbtJ",
        "colab_type": "code",
        "outputId": "8f09d2d2-fc1a-404e-b6ac-de3ebce9c937",
        "colab": {
          "base_uri": "https://localhost:8080/",
          "height": 0
        }
      },
      "source": [
        "plt.plot(epochs, average_acc_history, 'bo', label='Training accuracy')\n",
        "plt.plot(epochs, average_val_acc_history, 'b', label='Validation accuracy')\n",
        "plt.title('Training and validation accuracy')\n",
        "plt.xlabel('Epochs')\n",
        "plt.ylabel('Accuracy')\n",
        "plt.legend() "
      ],
      "execution_count": 45,
      "outputs": [
        {
          "output_type": "execute_result",
          "data": {
            "text/plain": [
              "<matplotlib.legend.Legend at 0x7fd89feb3080>"
            ]
          },
          "metadata": {
            "tags": []
          },
          "execution_count": 45
        },
        {
          "output_type": "display_data",
          "data": {
            "image/png": "[encoded data removed]",
            "text/plain": [
              "<Figure size 432x288 with 1 Axes>"
            ]
          },
          "metadata": {
            "tags": []
          }
        }
      ]
    },
    {
      "cell_type": "markdown",
      "metadata": {
        "id": "bgN-E84SUPUq",
        "colab_type": "text"
      },
      "source": [
        "#Performances on test set"
      ]
    },
    {
      "cell_type": "code",
      "metadata": {
        "id": "VokWFUNPJOsJ",
        "colab_type": "code",
        "outputId": "b9538e9f-7f4f-4c45-c986-cd947a1efaa3",
        "colab": {
          "base_uri": "https://localhost:8080/",
          "height": 1000
        }
      },
      "source": [
        " model = build_model()\n",
        " model.fit(train_data_stand_pca, one_hot_train_labels, epochs= num_epochs, batch_size=10, shuffle=True)\n",
        " test_loss, test_acc = model.evaluate(test_data_stand_pca, one_hot_test_labels)\n",
        "  "
      ],
      "execution_count": 46,
      "outputs": [
        {
          "output_type": "stream",
          "text": [
            "Epoch 1/30\n",
            "131/131 [==============================] - 0s 1ms/step - loss: 2.0107 - acc: 0.3282\n",
            "Epoch 2/30\n",
            "131/131 [==============================] - 0s 160us/step - loss: 1.8919 - acc: 0.3511\n",
            "Epoch 3/30\n",
            "131/131 [==============================] - 0s 150us/step - loss: 1.7889 - acc: 0.3740\n",
            "Epoch 4/30\n",
            "131/131 [==============================] - 0s 153us/step - loss: 1.7131 - acc: 0.3664\n",
            "Epoch 5/30\n",
            "131/131 [==============================] - 0s 211us/step - loss: 1.6384 - acc: 0.3740\n",
            "Epoch 6/30\n",
            "131/131 [==============================] - 0s 135us/step - loss: 1.5718 - acc: 0.3893\n",
            "Epoch 7/30\n",
            "131/131 [==============================] - 0s 166us/step - loss: 1.5093 - acc: 0.3817\n",
            "Epoch 8/30\n",
            "131/131 [==============================] - 0s 153us/step - loss: 1.4561 - acc: 0.4198\n",
            "Epoch 9/30\n",
            "131/131 [==============================] - 0s 127us/step - loss: 1.4055 - acc: 0.4427\n",
            "Epoch 10/30\n",
            "131/131 [==============================] - 0s 131us/step - loss: 1.3612 - acc: 0.4351\n",
            "Epoch 11/30\n",
            "131/131 [==============================] - 0s 188us/step - loss: 1.3181 - acc: 0.4275\n",
            "Epoch 12/30\n",
            "131/131 [==============================] - 0s 187us/step - loss: 1.2797 - acc: 0.4427\n",
            "Epoch 13/30\n",
            "131/131 [==============================] - 0s 141us/step - loss: 1.2441 - acc: 0.4580\n",
            "Epoch 14/30\n",
            "131/131 [==============================] - 0s 129us/step - loss: 1.1999 - acc: 0.4504\n",
            "Epoch 15/30\n",
            "131/131 [==============================] - 0s 121us/step - loss: 1.1726 - acc: 0.4427\n",
            "Epoch 16/30\n",
            "131/131 [==============================] - 0s 138us/step - loss: 1.1478 - acc: 0.4656\n",
            "Epoch 17/30\n",
            "131/131 [==============================] - 0s 128us/step - loss: 1.1257 - acc: 0.4809\n",
            "Epoch 18/30\n",
            "131/131 [==============================] - 0s 132us/step - loss: 1.1050 - acc: 0.4733\n",
            "Epoch 19/30\n",
            "131/131 [==============================] - 0s 124us/step - loss: 1.0875 - acc: 0.4656\n",
            "Epoch 20/30\n",
            "131/131 [==============================] - 0s 140us/step - loss: 1.0745 - acc: 0.5038\n",
            "Epoch 21/30\n",
            "131/131 [==============================] - 0s 128us/step - loss: 1.0656 - acc: 0.4962\n",
            "Epoch 22/30\n",
            "131/131 [==============================] - 0s 134us/step - loss: 1.0532 - acc: 0.4962\n",
            "Epoch 23/30\n",
            "131/131 [==============================] - 0s 135us/step - loss: 1.0446 - acc: 0.4962\n",
            "Epoch 24/30\n",
            "131/131 [==============================] - 0s 137us/step - loss: 1.0360 - acc: 0.4962\n",
            "Epoch 25/30\n",
            "131/131 [==============================] - 0s 119us/step - loss: 1.0296 - acc: 0.5115\n",
            "Epoch 26/30\n",
            "131/131 [==============================] - 0s 122us/step - loss: 1.0270 - acc: 0.5115\n",
            "Epoch 27/30\n",
            "131/131 [==============================] - 0s 124us/step - loss: 1.0213 - acc: 0.5038\n",
            "Epoch 28/30\n",
            "131/131 [==============================] - 0s 136us/step - loss: 1.0143 - acc: 0.5191\n",
            "Epoch 29/30\n",
            "131/131 [==============================] - 0s 147us/step - loss: 1.0101 - acc: 0.5267\n",
            "Epoch 30/30\n",
            "131/131 [==============================] - 0s 129us/step - loss: 1.0057 - acc: 0.5420\n",
            "34/34 [==============================] - 0s 1ms/step\n"
          ],
          "name": "stdout"
        }
      ]
    },
    {
      "cell_type": "code",
      "metadata": {
        "id": "J-tXqN8teV_6",
        "colab_type": "code",
        "outputId": "8bfca69d-1f4a-409f-ee05-8d212a68d076",
        "colab": {
          "base_uri": "https://localhost:8080/",
          "height": 34
        }
      },
      "source": [
        "model.metrics_names"
      ],
      "execution_count": 47,
      "outputs": [
        {
          "output_type": "execute_result",
          "data": {
            "text/plain": [
              "['loss', 'acc']"
            ]
          },
          "metadata": {
            "tags": []
          },
          "execution_count": 47
        }
      ]
    },
    {
      "cell_type": "code",
      "metadata": {
        "id": "uLqboU_IeYu-",
        "colab_type": "code",
        "outputId": "dabe75ca-fd69-4aa0-9968-3ec1d4b4b34d",
        "colab": {
          "base_uri": "https://localhost:8080/",
          "height": 34
        }
      },
      "source": [
        "test_acc\n"
      ],
      "execution_count": 48,
      "outputs": [
        {
          "output_type": "execute_result",
          "data": {
            "text/plain": [
              "0.20588235294117646"
            ]
          },
          "metadata": {
            "tags": []
          },
          "execution_count": 48
        }
      ]
    },
    {
      "cell_type": "code",
      "metadata": {
        "id": "RpouJxJrfHYf",
        "colab_type": "code",
        "colab": {}
      },
      "source": [
        ""
      ],
      "execution_count": 0,
      "outputs": []
    },
    {
      "cell_type": "code",
      "metadata": {
        "id": "b6vvp8uohTYg",
        "colab_type": "code",
        "outputId": "9262745d-3beb-495a-bc3f-e22a5f76499a",
        "colab": {
          "base_uri": "https://localhost:8080/",
          "height": 34
        }
      },
      "source": [
        "14*8+8*8+8*3+19"
      ],
      "execution_count": 49,
      "outputs": [
        {
          "output_type": "execute_result",
          "data": {
            "text/plain": [
              "219"
            ]
          },
          "metadata": {
            "tags": []
          },
          "execution_count": 49
        }
      ]
    },
    {
      "cell_type": "code",
      "metadata": {
        "id": "G8rJQZmahXMe",
        "colab_type": "code",
        "outputId": "80b6920a-4c35-41dc-d764-1ade95469f8a",
        "colab": {
          "base_uri": "https://localhost:8080/",
          "height": 34
        }
      },
      "source": [
        "14*8"
      ],
      "execution_count": 50,
      "outputs": [
        {
          "output_type": "execute_result",
          "data": {
            "text/plain": [
              "112"
            ]
          },
          "metadata": {
            "tags": []
          },
          "execution_count": 50
        }
      ]
    },
    {
      "cell_type": "code",
      "metadata": {
        "id": "Kxm3zpcahZBc",
        "colab_type": "code",
        "outputId": "f87fe4d1-2131-4970-dcec-d78db883f8ee",
        "colab": {
          "base_uri": "https://localhost:8080/",
          "height": 34
        }
      },
      "source": [
        "112+25+24"
      ],
      "execution_count": 51,
      "outputs": [
        {
          "output_type": "execute_result",
          "data": {
            "text/plain": [
              "161"
            ]
          },
          "metadata": {
            "tags": []
          },
          "execution_count": 51
        }
      ]
    },
    {
      "cell_type": "code",
      "metadata": {
        "id": "6uhxnKishcW-",
        "colab_type": "code",
        "colab": {}
      },
      "source": [
        ""
      ],
      "execution_count": 0,
      "outputs": []
    },
    {
      "cell_type": "code",
      "metadata": {
        "id": "wZ2Es3qdtMT0",
        "colab_type": "code",
        "outputId": "5e60260a-1513-418c-aff0-5341b08acd78",
        "colab": {
          "base_uri": "https://localhost:8080/",
          "height": 1000
        }
      },
      "source": [
        "!pip list"
      ],
      "execution_count": 52,
      "outputs": [
        {
          "output_type": "stream",
          "text": [
            "Package                  Version    \n",
            "------------------------ -----------\n",
            "absl-py                  0.8.1      \n",
            "alabaster                0.7.12     \n",
            "albumentations           0.1.12     \n",
            "altair                   4.0.0      \n",
            "asgiref                  3.2.3      \n",
            "astor                    0.8.1      \n",
            "astropy                  3.0.5      \n",
            "atari-py                 0.2.6      \n",
            "atomicwrites             1.3.0      \n",
            "attrs                    19.3.0     \n",
            "audioread                2.1.8      \n",
            "autograd                 1.3        \n",
            "Babel                    2.7.0      \n",
            "backcall                 0.1.0      \n",
            "backports.tempfile       1.0        \n",
            "backports.weakref        1.0.post1  \n",
            "beautifulsoup4           4.6.3      \n",
            "bleach                   3.1.0      \n",
            "blis                     0.2.4      \n",
            "bokeh                    1.0.4      \n",
            "boto                     2.49.0     \n",
            "boto3                    1.10.40    \n",
            "botocore                 1.13.40    \n",
            "Bottleneck               1.3.1      \n",
            "branca                   0.3.1      \n",
            "bs4                      0.0.1      \n",
            "bz2file                  0.98       \n",
            "cachetools               4.0.0      \n",
            "certifi                  2019.11.28 \n",
            "cffi                     1.13.2     \n",
            "chainer                  6.5.0      \n",
            "chardet                  3.0.4      \n",
            "chart-studio             1.0.0      \n",
            "Click                    7.0        \n",
            "cloudpickle              1.2.2      \n",
            "cmake                    3.12.0     \n",
            "colorlover               0.3.0      \n",
            "community                1.0.0b1    \n",
            "contextlib2              0.5.5      \n",
            "convertdate              2.2.0      \n",
            "coverage                 3.7.1      \n",
            "coveralls                0.5        \n",
            "crcmod                   1.7        \n",
            "cufflinks                0.17.0     \n",
            "cvxopt                   1.2.3      \n",
            "cvxpy                    1.0.25     \n",
            "cycler                   0.10.0     \n",
            "cymem                    2.0.3      \n",
            "Cython                   0.29.14    \n",
            "daft                     0.0.4      \n",
            "dask                     1.1.5      \n",
            "dataclasses              0.7        \n",
            "datascience              0.10.6     \n",
            "decorator                4.4.1      \n",
            "defusedxml               0.6.0      \n",
            "descartes                1.1.0      \n",
            "dill                     0.3.1.1    \n",
            "distributed              1.25.3     \n",
            "Django                   3.0        \n",
            "dlib                     19.18.0    \n",
            "dm-sonnet                1.35       \n",
            "docopt                   0.6.2      \n",
            "docutils                 0.15.2     \n",
            "dopamine-rl              1.0.5      \n",
            "earthengine-api          0.1.208    \n",
            "easydict                 1.9        \n",
            "ecos                     2.0.7.post1\n",
            "editdistance             0.5.3      \n",
            "en-core-web-sm           2.1.0      \n",
            "entrypoints              0.3        \n",
            "et-xmlfile               1.0.1      \n",
            "fa2                      0.3.5      \n",
            "fancyimpute              0.4.3      \n",
            "fastai                   1.0.59     \n",
            "fastcache                1.1.0      \n",
            "fastdtw                  0.3.4      \n",
            "fastprogress             0.1.22     \n",
            "fastrlock                0.4        \n",
            "fbprophet                0.5        \n",
            "feather-format           0.4.0      \n",
            "featuretools             0.4.1      \n",
            "filelock                 3.0.12     \n",
            "fix-yahoo-finance        0.0.22     \n",
            "Flask                    1.1.1      \n",
            "folium                   0.8.3      \n",
            "fsspec                   0.6.2      \n",
            "future                   0.16.0     \n",
            "gast                     0.2.2      \n",
            "GDAL                     2.2.2      \n",
            "gdown                    3.6.4      \n",
            "gensim                   3.6.0      \n",
            "geographiclib            1.50       \n",
            "geopy                    1.17.0     \n",
            "gevent                   1.4.0      \n",
            "gin-config               0.2.1      \n",
            "glob2                    0.7        \n",
            "google                   2.0.3      \n",
            "google-api-core          1.15.0     \n",
            "google-api-python-client 1.7.11     \n",
            "google-auth              1.4.2      \n",
            "google-auth-httplib2     0.0.3      \n",
            "google-auth-oauthlib     0.4.1      \n",
            "google-cloud-bigquery    1.21.0     \n",
            "google-cloud-core        1.0.3      \n",
            "google-cloud-datastore   1.8.0      \n",
            "google-cloud-language    1.2.0      \n",
            "google-cloud-storage     1.16.2     \n",
            "google-cloud-translate   1.5.0      \n",
            "google-colab             1.0.0      \n",
            "google-pasta             0.1.8      \n",
            "google-resumable-media   0.4.1      \n",
            "googleapis-common-protos 1.6.0      \n",
            "googledrivedownloader    0.4        \n",
            "graph-nets               1.0.5      \n",
            "graphviz                 0.10.1     \n",
            "greenlet                 0.4.15     \n",
            "grpcio                   1.15.0     \n",
            "gspread                  3.0.1      \n",
            "gspread-dataframe        3.0.3      \n",
            "gunicorn                 20.0.4     \n",
            "gym                      0.15.4     \n",
            "h5py                     2.8.0      \n",
            "HeapDict                 1.0.1      \n",
            "holidays                 0.9.11     \n",
            "html5lib                 1.0.1      \n",
            "httpimport               0.5.18     \n",
            "httplib2                 0.11.3     \n",
            "humanize                 0.5.1      \n",
            "hyperopt                 0.1.2      \n",
            "ideep4py                 2.0.0.post3\n",
            "idna                     2.8        \n",
            "image                    1.5.27     \n",
            "imageio                  2.4.1      \n",
            "imagesize                1.1.0      \n",
            "imbalanced-learn         0.4.3      \n",
            "imblearn                 0.0        \n",
            "imgaug                   0.2.9      \n",
            "importlib-metadata       1.3.0      \n",
            "imutils                  0.5.3      \n",
            "inflect                  2.1.0      \n",
            "intel-openmp             2020.0.133 \n",
            "intervaltree             2.1.0      \n",
            "ipykernel                4.6.1      \n",
            "ipython                  5.5.0      \n",
            "ipython-genutils         0.2.0      \n",
            "ipython-sql              0.3.9      \n",
            "ipywidgets               7.5.1      \n",
            "itsdangerous             1.1.0      \n",
            "jax                      0.1.52     \n",
            "jaxlib                   0.1.36     \n",
            "jdcal                    1.4.1      \n",
            "jedi                     0.15.1     \n",
            "jieba                    0.39       \n",
            "Jinja2                   2.10.3     \n",
            "jmespath                 0.9.4      \n",
            "joblib                   0.14.1     \n",
            "jpeg4py                  0.1.4      \n",
            "jsonschema               2.6.0      \n",
            "jupyter                  1.0.0      \n",
            "jupyter-client           5.3.4      \n",
            "jupyter-console          5.2.0      \n",
            "jupyter-core             4.6.1      \n",
            "kaggle                   1.5.6      \n",
            "kapre                    0.1.3.1    \n",
            "Keras                    2.2.5      \n",
            "Keras-Applications       1.0.8      \n",
            "Keras-Preprocessing      1.1.0      \n",
            "keras-vis                0.4.1      \n",
            "kfac                     0.2.0      \n",
            "kiwisolver               1.1.0      \n",
            "knnimpute                0.1.0      \n",
            "librosa                  0.6.3      \n",
            "lightgbm                 2.2.3      \n",
            "llvmlite                 0.30.0     \n",
            "lmdb                     0.98       \n",
            "lucid                    0.3.8      \n",
            "lunardate                0.2.0      \n",
            "lxml                     4.2.6      \n",
            "magenta                  0.3.19     \n",
            "Markdown                 3.1.1      \n",
            "MarkupSafe               1.1.1      \n",
            "matplotlib               3.1.2      \n",
            "matplotlib-venn          0.11.5     \n",
            "mesh-tensorflow          0.1.7      \n",
            "mido                     1.2.6      \n",
            "mir-eval                 0.5        \n",
            "missingno                0.4.2      \n",
            "mistune                  0.8.4      \n",
            "mizani                   0.5.4      \n",
            "mkl                      2019.0     \n",
            "mlxtend                  0.14.0     \n",
            "more-itertools           8.0.2      \n",
            "moviepy                  0.2.3.5    \n",
            "mpi4py                   3.0.3      \n",
            "mpmath                   1.1.0      \n",
            "msgpack                  0.5.6      \n",
            "multiprocess             0.70.9     \n",
            "multitasking             0.0.9      \n",
            "murmurhash               1.0.2      \n",
            "music21                  5.5.0      \n",
            "natsort                  5.5.0      \n",
            "nbconvert                5.6.1      \n",
            "nbformat                 4.4.0      \n",
            "networkx                 2.4        \n",
            "nibabel                  2.3.3      \n",
            "nltk                     3.2.5      \n",
            "notebook                 5.2.2      \n",
            "np-utils                 0.5.12.1   \n",
            "numba                    0.40.1     \n",
            "numexpr                  2.7.0      \n",
            "numpy                    1.17.4     \n",
            "nvidia-ml-py3            7.352.0    \n",
            "oauth2client             4.1.3      \n",
            "oauthlib                 3.1.0      \n",
            "okgrade                  0.4.3      \n",
            "olefile                  0.46       \n",
            "opencv-contrib-python    4.1.2.30   \n",
            "opencv-python            4.1.2.30   \n",
            "openpyxl                 2.5.9      \n",
            "opt-einsum               3.1.0      \n",
            "osqp                     0.6.1      \n",
            "packaging                19.2       \n",
            "palettable               3.3.0      \n",
            "pandas                   0.25.3     \n",
            "pandas-datareader        0.7.4      \n",
            "pandas-gbq               0.11.0     \n",
            "pandas-profiling         1.4.1      \n",
            "pandocfilters            1.4.2      \n",
            "parso                    0.5.2      \n",
            "pathlib                  1.0.1      \n",
            "patsy                    0.5.1      \n",
            "pexpect                  4.7.0      \n",
            "pickleshare              0.7.5      \n",
            "Pillow                   4.3.0      \n",
            "pip                      19.3.1     \n",
            "pip-tools                4.2.0      \n",
            "plac                     0.9.6      \n",
            "plotly                   4.1.1      \n",
            "plotnine                 0.5.1      \n",
            "pluggy                   0.7.1      \n",
            "portpicker               1.2.0      \n",
            "prefetch-generator       1.0.1      \n",
            "preshed                  2.0.1      \n",
            "pretty-midi              0.2.8      \n",
            "prettytable              0.7.2      \n",
            "progressbar2             3.38.0     \n",
            "prometheus-client        0.7.1      \n",
            "promise                  2.2.1      \n",
            "prompt-toolkit           1.0.18     \n",
            "protobuf                 3.10.0     \n",
            "psutil                   5.4.8      \n",
            "psycopg2                 2.7.6.1    \n",
            "ptyprocess               0.6.0      \n",
            "py                       1.8.0      \n",
            "pyarrow                  0.14.1     \n",
            "pyasn1                   0.4.8      \n",
            "pyasn1-modules           0.2.7      \n",
            "pycocotools              2.0.0      \n",
            "pycparser                2.19       \n",
            "pydata-google-auth       0.2.1      \n",
            "pydot                    1.3.0      \n",
            "pydot-ng                 2.0.0      \n",
            "pydotplus                2.0.2      \n",
            "PyDrive                  1.3.1      \n",
            "pyemd                    0.5.1      \n",
            "pyglet                   1.3.2      \n",
            "Pygments                 2.1.3      \n",
            "pygobject                3.26.1     \n",
            "pymc3                    3.7        \n",
            "PyMeeus                  0.3.6      \n",
            "pymongo                  3.10.0     \n",
            "pymystem3                0.2.0      \n",
            "PyOpenGL                 3.1.4      \n",
            "pyparsing                2.4.5      \n",
            "pypng                    0.0.20     \n",
            "pyrsistent               0.15.6     \n",
            "pysndfile                1.3.8      \n",
            "PySocks                  1.7.1      \n",
            "pystan                   2.19.1.1   \n",
            "pytest                   3.6.4      \n",
            "python-apt               1.6.4      \n",
            "python-chess             0.23.11    \n",
            "python-dateutil          2.6.1      \n",
            "python-louvain           0.13       \n",
            "python-rtmidi            1.3.1      \n",
            "python-slugify           4.0.0      \n",
            "python-utils             2.3.0      \n",
            "pytz                     2018.9     \n",
            "PyWavelets               1.1.1      \n",
            "PyYAML                   3.13       \n",
            "pyzmq                    17.0.0     \n",
            "qtconsole                4.6.0      \n",
            "regex                    2019.12.9  \n",
            "requests                 2.21.0     \n",
            "requests-oauthlib        1.3.0      \n",
            "resampy                  0.2.2      \n",
            "retrying                 1.3.3      \n",
            "rpy2                     2.9.5      \n",
            "rsa                      4.0        \n",
            "s3fs                     0.4.0      \n",
            "s3transfer               0.2.1      \n",
            "scikit-image             0.15.0     \n",
            "scikit-learn             0.21.3     \n",
            "scipy                    1.3.3      \n",
            "screen-resolution-extra  0.0.0      \n",
            "scs                      2.1.1.post2\n",
            "seaborn                  0.9.0      \n",
            "semantic-version         2.8.3      \n",
            "Send2Trash               1.5.0      \n",
            "setuptools               42.0.2     \n",
            "setuptools-git           1.2        \n",
            "Shapely                  1.6.4.post2\n",
            "simplegeneric            0.8.1      \n",
            "six                      1.12.0     \n",
            "sklearn                  0.0        \n",
            "sklearn-pandas           1.8.0      \n",
            "smart-open               1.9.0      \n",
            "snowballstemmer          2.0.0      \n",
            "sortedcontainers         2.1.0      \n",
            "spacy                    2.1.9      \n",
            "Sphinx                   1.8.5      \n",
            "sphinxcontrib-websupport 1.1.2      \n",
            "SQLAlchemy               1.3.12     \n",
            "sqlparse                 0.3.0      \n",
            "srsly                    0.2.0      \n",
            "stable-baselines         2.2.1      \n",
            "statsmodels              0.10.2     \n",
            "sympy                    1.1.1      \n",
            "tables                   3.4.4      \n",
            "tabulate                 0.8.6      \n",
            "tblib                    1.6.0      \n",
            "tensor2tensor            1.14.1     \n",
            "tensorboard              1.15.0     \n",
            "tensorboardcolab         0.0.22     \n",
            "tensorflow               1.15.0     \n",
            "tensorflow-datasets      1.3.2      \n",
            "tensorflow-estimator     1.15.1     \n",
            "tensorflow-gan           2.0.0      \n",
            "tensorflow-hub           0.7.0      \n",
            "tensorflow-metadata      0.15.1     \n",
            "tensorflow-privacy       0.2.2      \n",
            "tensorflow-probability   0.7.0      \n",
            "termcolor                1.1.0      \n",
            "terminado                0.8.3      \n",
            "testpath                 0.4.4      \n",
            "text-unidecode           1.3        \n",
            "textblob                 0.15.3     \n",
            "textgenrnn               1.4.1      \n",
            "tflearn                  0.3.2      \n",
            "Theano                   1.0.4      \n",
            "thinc                    7.0.8      \n",
            "toolz                    0.10.0     \n",
            "torch                    1.3.1      \n",
            "torchsummary             1.5.1      \n",
            "torchtext                0.3.1      \n",
            "torchvision              0.4.2      \n",
            "tornado                  4.5.3      \n",
            "tqdm                     4.28.1     \n",
            "traitlets                4.3.3      \n",
            "tweepy                   3.6.0      \n",
            "typing                   3.6.6      \n",
            "typing-extensions        3.6.6      \n",
            "tzlocal                  1.5.1      \n",
            "umap-learn               0.3.10     \n",
            "uritemplate              3.0.0      \n",
            "urllib3                  1.24.3     \n",
            "vega-datasets            0.7.0      \n",
            "wasabi                   0.4.2      \n",
            "wcwidth                  0.1.7      \n",
            "webencodings             0.5.1      \n",
            "Werkzeug                 0.16.0     \n",
            "wheel                    0.33.6     \n",
            "widgetsnbextension       3.5.1      \n",
            "wordcloud                1.5.0      \n",
            "wrapt                    1.11.2     \n",
            "xarray                   0.11.3     \n",
            "xgboost                  0.90       \n",
            "xkit                     0.0.0      \n",
            "xlrd                     1.1.0      \n",
            "xlwt                     1.3.0      \n",
            "yellowbrick              0.9.1      \n",
            "zict                     1.0.0      \n",
            "zipp                     0.6.0      \n",
            "zmq                      0.0.0      \n"
          ],
          "name": "stdout"
        }
      ]
    },
    {
      "cell_type": "code",
      "metadata": {
        "id": "_62EAOsnEUl9",
        "colab_type": "code",
        "colab": {}
      },
      "source": [
        ""
      ],
      "execution_count": 0,
      "outputs": []
    }
  ]
}