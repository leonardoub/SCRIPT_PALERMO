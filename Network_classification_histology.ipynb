{
  "nbformat": 4,
  "nbformat_minor": 0,
  "metadata": {
    "colab": {
      "name": "Network_classification_histology.ipynb",
      "provenance": [],
      "toc_visible": true,
      "include_colab_link": true
    },
    "kernelspec": {
      "name": "python3",
      "display_name": "Python 3"
    }
  },
  "cells": [
    {
      "cell_type": "markdown",
      "metadata": {
        "id": "view-in-github",
        "colab_type": "text"
      },
      "source": [
        "<a href=\"https://colab.research.google.com/github/leonardoub/SCRIPT_PALERMO/blob/master/Network_classification_histology.ipynb\" target=\"_parent\"><img src=\"https://colab.research.google.com/assets/colab-badge.svg\" alt=\"Open In Colab\"/></a>"
      ]
    },
    {
      "cell_type": "code",
      "metadata": {
        "id": "ck9uZtF_gzU7",
        "colab_type": "code",
        "colab": {}
      },
      "source": [
        "import pandas as pd\n",
        "import numpy as np\n",
        "import matplotlib.pyplot as plt\n",
        "import scipy"
      ],
      "execution_count": 0,
      "outputs": []
    },
    {
      "cell_type": "markdown",
      "metadata": {
        "id": "ln0sTf8q1IrI",
        "colab_type": "text"
      },
      "source": [
        "#Load data"
      ]
    },
    {
      "cell_type": "code",
      "metadata": {
        "id": "lyyNl4gxhEwD",
        "colab_type": "code",
        "outputId": "df86e883-2bc4-4201-847c-1ec3a5a0c92b",
        "colab": {
          "base_uri": "https://localhost:8080/",
          "height": 34
        }
      },
      "source": [
        "#load data from Drive\n",
        "from google.colab import drive\n",
        "drive.mount('/gdrive')\n",
        "#%cd /gdrive"
      ],
      "execution_count": 574,
      "outputs": [
        {
          "output_type": "stream",
          "text": [
            "Drive already mounted at /gdrive; to attempt to forcibly remount, call drive.mount(\"/gdrive\", force_remount=True).\n"
          ],
          "name": "stdout"
        }
      ]
    },
    {
      "cell_type": "code",
      "metadata": {
        "id": "UCkUXesZhMzg",
        "colab_type": "code",
        "colab": {}
      },
      "source": [
        "train_dataset_path = '/gdrive/My Drive/AIM_PA/database_training2.csv'\n",
        "test_dataset_path = '/gdrive/My Drive/AIM_PA/database_nostro_without_nan.csv'"
      ],
      "execution_count": 0,
      "outputs": []
    },
    {
      "cell_type": "code",
      "metadata": {
        "id": "TczPxOpEhTXw",
        "colab_type": "code",
        "colab": {}
      },
      "source": [
        "df_train = pd.read_csv(train_dataset_path)\n",
        "df_test = pd.read_csv(test_dataset_path)"
      ],
      "execution_count": 0,
      "outputs": []
    },
    {
      "cell_type": "code",
      "metadata": {
        "id": "Ll-87QSVhqhj",
        "colab_type": "code",
        "colab": {}
      },
      "source": [
        "df_train.rename(columns={'Survival.time (months)':'Surv_time_months'}, inplace=True)"
      ],
      "execution_count": 0,
      "outputs": []
    },
    {
      "cell_type": "code",
      "metadata": {
        "id": "ulSbeCedhuxJ",
        "colab_type": "code",
        "colab": {}
      },
      "source": [
        "df_test.rename(columns={'Survival.time (months)':'Surv_time_months'}, inplace=True)"
      ],
      "execution_count": 0,
      "outputs": []
    },
    {
      "cell_type": "code",
      "metadata": {
        "id": "xbcwLGg3iNSn",
        "colab_type": "code",
        "colab": {}
      },
      "source": [
        "df_train.rename(columns={'Overall.Stage':'Overall_Stage'}, inplace=True)\n",
        "df_test.rename(columns={'Overall.Stage':'Overall_Stage'}, inplace=True)"
      ],
      "execution_count": 0,
      "outputs": []
    },
    {
      "cell_type": "code",
      "metadata": {
        "id": "oKKv4iKghWWn",
        "colab_type": "code",
        "colab": {}
      },
      "source": [
        "train_data = df_train.drop(['Histology', 'Surv_time_months', 'OS', 'deadstatus.event','Overall_Stage'], axis=1)"
      ],
      "execution_count": 0,
      "outputs": []
    },
    {
      "cell_type": "code",
      "metadata": {
        "id": "vQdR4izXiT0f",
        "colab_type": "code",
        "colab": {}
      },
      "source": [
        "test_data = df_test.drop(['Histology', 'Surv_time_months', 'OS', 'deadstatus.event','Overall_Stage'], axis=1)"
      ],
      "execution_count": 0,
      "outputs": []
    },
    {
      "cell_type": "code",
      "metadata": {
        "id": "Lu46pqnPhnCG",
        "colab_type": "code",
        "colab": {}
      },
      "source": [
        "train_labels = df_train.Histology"
      ],
      "execution_count": 0,
      "outputs": []
    },
    {
      "cell_type": "code",
      "metadata": {
        "id": "aS5wIylYmsQf",
        "colab_type": "code",
        "colab": {}
      },
      "source": [
        "test_labels = df_test.Histology"
      ],
      "execution_count": 0,
      "outputs": []
    },
    {
      "cell_type": "markdown",
      "metadata": {
        "id": "dtPx7PMDnXM3",
        "colab_type": "text"
      },
      "source": [
        "##Z score dei dati"
      ]
    },
    {
      "cell_type": "code",
      "metadata": {
        "id": "XK4Qji2EnVV4",
        "colab_type": "code",
        "colab": {}
      },
      "source": [
        "mean = train_data.mean(axis=0)\n",
        "train_data_stand = train_data - mean\n",
        "std = train_data.std(axis=0)\n",
        "train_data_stand /= std"
      ],
      "execution_count": 0,
      "outputs": []
    },
    {
      "cell_type": "code",
      "metadata": {
        "id": "YOVOoNOvm0Yx",
        "colab_type": "code",
        "colab": {}
      },
      "source": [
        "test_data_stand = test_data - mean\n",
        "test_data_stand /= std"
      ],
      "execution_count": 0,
      "outputs": []
    },
    {
      "cell_type": "markdown",
      "metadata": {
        "id": "00VohsAyokpq",
        "colab_type": "text"
      },
      "source": [
        "##Vettorizzare i label"
      ]
    },
    {
      "cell_type": "code",
      "metadata": {
        "id": "8RvS_9ISpxRi",
        "colab_type": "code",
        "colab": {}
      },
      "source": [
        "word_index={'adenocarcinoma':0, 'large cell':1, 'squamous cell carcinoma':2}"
      ],
      "execution_count": 0,
      "outputs": []
    },
    {
      "cell_type": "code",
      "metadata": {
        "id": "uiPW9U0XrWY2",
        "colab_type": "code",
        "colab": {}
      },
      "source": [
        "train_labels_dec = [word_index[label] for label in train_labels]"
      ],
      "execution_count": 0,
      "outputs": []
    },
    {
      "cell_type": "code",
      "metadata": {
        "id": "C4SBiKFQsKFw",
        "colab_type": "code",
        "colab": {}
      },
      "source": [
        "test_labels_dec = [word_index[label] for label in test_labels]"
      ],
      "execution_count": 0,
      "outputs": []
    },
    {
      "cell_type": "code",
      "metadata": {
        "id": "0IMbTYR7okJq",
        "colab_type": "code",
        "colab": {}
      },
      "source": [
        "from keras.utils.np_utils import to_categorical"
      ],
      "execution_count": 0,
      "outputs": []
    },
    {
      "cell_type": "code",
      "metadata": {
        "id": "0Frv4FDNn6Qu",
        "colab_type": "code",
        "colab": {}
      },
      "source": [
        "one_hot_train_labels = to_categorical(train_labels_dec)\n",
        "one_hot_test_labels = to_categorical(test_labels_dec)"
      ],
      "execution_count": 0,
      "outputs": []
    },
    {
      "cell_type": "markdown",
      "metadata": {
        "id": "Mn0tkOGc3LKN",
        "colab_type": "text"
      },
      "source": [
        "#PCA"
      ]
    },
    {
      "cell_type": "code",
      "metadata": {
        "id": "oS76u6iu3Seg",
        "colab_type": "code",
        "colab": {}
      },
      "source": [
        "from sklearn.decomposition import PCA"
      ],
      "execution_count": 0,
      "outputs": []
    },
    {
      "cell_type": "code",
      "metadata": {
        "id": "KCjC4zqJ3bui",
        "colab_type": "code",
        "colab": {}
      },
      "source": [
        "pca = PCA(n_components=0.9, svd_solver='full')"
      ],
      "execution_count": 0,
      "outputs": []
    },
    {
      "cell_type": "code",
      "metadata": {
        "id": "dLUCf9qX4p_e",
        "colab_type": "code",
        "outputId": "74b8648b-a150-4591-ce17-48a31d274ce2",
        "colab": {
          "base_uri": "https://localhost:8080/",
          "height": 0
        }
      },
      "source": [
        "pca.fit(train_data_stand)"
      ],
      "execution_count": 593,
      "outputs": [
        {
          "output_type": "execute_result",
          "data": {
            "text/plain": [
              "PCA(copy=True, iterated_power='auto', n_components=0.9, random_state=None,\n",
              "    svd_solver='full', tol=0.0, whiten=False)"
            ]
          },
          "metadata": {
            "tags": []
          },
          "execution_count": 593
        }
      ]
    },
    {
      "cell_type": "code",
      "metadata": {
        "id": "QfyaKgNZ44o3",
        "colab_type": "code",
        "colab": {}
      },
      "source": [
        "train_data_stand_pca = pca.transform(train_data_stand)\n",
        "test_data_stand_pca = pca.transform(test_data_stand)"
      ],
      "execution_count": 0,
      "outputs": []
    },
    {
      "cell_type": "code",
      "metadata": {
        "id": "Uz9C4nl05b_g",
        "colab_type": "code",
        "outputId": "00366b1a-946f-45dc-ae9a-e09343c8f51b",
        "colab": {
          "base_uri": "https://localhost:8080/",
          "height": 0
        }
      },
      "source": [
        "train_data_stand_pca.shape"
      ],
      "execution_count": 595,
      "outputs": [
        {
          "output_type": "execute_result",
          "data": {
            "text/plain": [
              "(131, 9)"
            ]
          },
          "metadata": {
            "tags": []
          },
          "execution_count": 595
        }
      ]
    },
    {
      "cell_type": "markdown",
      "metadata": {
        "id": "8wSKvSu4s5ip",
        "colab_type": "text"
      },
      "source": [
        "#Building Network"
      ]
    },
    {
      "cell_type": "code",
      "metadata": {
        "id": "sJTbHiq0D-4x",
        "colab_type": "code",
        "colab": {}
      },
      "source": [
        "from keras import layers\n",
        "from keras.preprocessing import sequence"
      ],
      "execution_count": 0,
      "outputs": []
    },
    {
      "cell_type": "code",
      "metadata": {
        "id": "ShwM6YMqsxxJ",
        "colab_type": "code",
        "colab": {}
      },
      "source": [
        "from keras import layers"
      ],
      "execution_count": 0,
      "outputs": []
    },
    {
      "cell_type": "code",
      "metadata": {
        "id": "IAzbu7P1VylY",
        "colab_type": "code",
        "colab": {}
      },
      "source": [
        "from keras import regularizers"
      ],
      "execution_count": 0,
      "outputs": []
    },
    {
      "cell_type": "code",
      "metadata": {
        "id": "dyqbUCK5wOVt",
        "colab_type": "code",
        "colab": {}
      },
      "source": [
        "from keras.optimizers import SGD"
      ],
      "execution_count": 0,
      "outputs": []
    },
    {
      "cell_type": "code",
      "metadata": {
        "id": "7OAEgN31tHVV",
        "colab_type": "code",
        "colab": {}
      },
      "source": [
        "def build_model():\n",
        "  model = keras.models.Sequential()\n",
        "  model.add(layers.Dense(5, activation='relu', input_shape=(9,)))\n",
        "\n",
        "  #model.add(layers.Dropout(rate=0.5))\n",
        "\n",
        "  model.add(layers.Dense(3, activation='softmax'))\n",
        "\n",
        "  sgd = SGD(lr=0.01, decay=1e-6, momentum=0.5, nesterov=True)\n",
        "  \n",
        "  model.compile(optimizer=sgd, loss='categorical_crossentropy', metrics=['accuracy'])\n",
        "  return model"
      ],
      "execution_count": 0,
      "outputs": []
    },
    {
      "cell_type": "markdown",
      "metadata": {
        "id": "mIxDu50pBeiz",
        "colab_type": "text"
      },
      "source": [
        "#Stratified k-fold"
      ]
    },
    {
      "cell_type": "markdown",
      "metadata": {
        "id": "ZyLcvedUBpxA",
        "colab_type": "text"
      },
      "source": [
        "This cross-validation object is a variation of KFold that returns stratified folds. The folds are made by preserving the percentage of samples for each class."
      ]
    },
    {
      "cell_type": "code",
      "metadata": {
        "id": "fY1apcZ19gFp",
        "colab_type": "code",
        "colab": {}
      },
      "source": [
        "from sklearn.model_selection import StratifiedKFold"
      ],
      "execution_count": 0,
      "outputs": []
    },
    {
      "cell_type": "code",
      "metadata": {
        "id": "oaBDM-PtBx5V",
        "colab_type": "code",
        "outputId": "1f4a3358-444a-4a86-a8ab-5b6e3e234aa7",
        "colab": {
          "base_uri": "https://localhost:8080/",
          "height": 34
        }
      },
      "source": [
        "skf = StratifiedKFold(n_splits=3, shuffle=True, random_state=1)\n",
        "skf.get_n_splits(train_data_stand_pca, train_labels_dec)"
      ],
      "execution_count": 602,
      "outputs": [
        {
          "output_type": "execute_result",
          "data": {
            "text/plain": [
              "3"
            ]
          },
          "metadata": {
            "tags": []
          },
          "execution_count": 602
        }
      ]
    },
    {
      "cell_type": "code",
      "metadata": {
        "id": "Me-XQzPyD1gi",
        "colab_type": "code",
        "outputId": "84a57b21-d9ad-437c-b4f0-1489ed86c3a5",
        "colab": {
          "base_uri": "https://localhost:8080/",
          "height": 402
        }
      },
      "source": [
        "for train_index, test_index in skf.split(train_data_stand_pca, train_labels_dec):\n",
        "    print(\"TRAIN:\", train_index, \"TEST:\", test_index)"
      ],
      "execution_count": 603,
      "outputs": [
        {
          "output_type": "stream",
          "text": [
            "TRAIN: [  0   1   4   5   8   9  11  12  14  15  16  17  19  20  22  23  24  25\n",
            "  27  29  30  33  34  36  37  38  39  40  41  42  44  45  46  48  51  52\n",
            "  53  56  57  58  59  60  62  63  65  66  67  69  72  76  77  78  79  80\n",
            "  81  83  84  85  87  88  89  90  92  96  97  98 100 101 102 103 104 105\n",
            " 107 109 110 111 113 115 117 120 121 122 124 125 127 128] TEST: [  2   3   6   7  10  13  18  21  26  28  31  32  35  43  47  49  50  54\n",
            "  55  61  64  68  70  71  73  74  75  82  86  91  93  94  95  99 106 108\n",
            " 112 114 116 118 119 123 126 129 130]\n",
            "TRAIN: [  2   3   5   6   7   8   9  10  11  12  13  18  20  21  25  26  27  28\n",
            "  29  30  31  32  34  35  36  38  39  43  44  45  46  47  48  49  50  53\n",
            "  54  55  57  58  61  63  64  65  66  68  70  71  73  74  75  76  78  82\n",
            "  84  85  86  87  90  91  92  93  94  95  96  99 100 101 102 105 106 108\n",
            " 109 111 112 114 115 116 118 119 122 123 124 125 126 127 129 130] TEST: [  0   1   4  14  15  16  17  19  22  23  24  33  37  40  41  42  51  52\n",
            "  56  59  60  62  67  69  72  77  79  80  81  83  88  89  97  98 103 104\n",
            " 107 110 113 117 120 121 128]\n",
            "TRAIN: [  0   1   2   3   4   6   7  10  13  14  15  16  17  18  19  21  22  23\n",
            "  24  26  28  31  32  33  35  37  40  41  42  43  47  49  50  51  52  54\n",
            "  55  56  59  60  61  62  64  67  68  69  70  71  72  73  74  75  77  79\n",
            "  80  81  82  83  86  88  89  91  93  94  95  97  98  99 103 104 106 107\n",
            " 108 110 112 113 114 116 117 118 119 120 121 123 126 128 129 130] TEST: [  5   8   9  11  12  20  25  27  29  30  34  36  38  39  44  45  46  48\n",
            "  53  57  58  63  65  66  76  78  84  85  87  90  92  96 100 101 102 105\n",
            " 109 111 115 122 124 125 127]\n"
          ],
          "name": "stdout"
        }
      ]
    },
    {
      "cell_type": "code",
      "metadata": {
        "id": "BgdGK-8FK-U_",
        "colab_type": "code",
        "outputId": "fb4ca0bf-8c0d-4fc5-8d9a-0a9cccea613d",
        "colab": {
          "base_uri": "https://localhost:8080/",
          "height": 34
        }
      },
      "source": [
        "train_labels_dec[125]"
      ],
      "execution_count": 604,
      "outputs": [
        {
          "output_type": "execute_result",
          "data": {
            "text/plain": [
              "2"
            ]
          },
          "metadata": {
            "tags": []
          },
          "execution_count": 604
        }
      ]
    },
    {
      "cell_type": "code",
      "metadata": {
        "id": "sBJg0XD4Shhc",
        "colab_type": "code",
        "colab": {}
      },
      "source": [
        "from keras.utils import to_categorical\n"
      ],
      "execution_count": 0,
      "outputs": []
    },
    {
      "cell_type": "code",
      "metadata": {
        "id": "a5Sq8r9GEPx3",
        "colab_type": "code",
        "colab": {}
      },
      "source": [
        "#for train_index, val_index in skf.split(train_data_stand_pca, train_labels_dec):\n",
        " \n",
        "#  partial_train_data = np.array([train_data_stand_pca[i] for i in train_index])\n",
        "#  partial_train_targets = np.array([train_labels_dec[i] for i in train_index])\n",
        "\n",
        "#  val_data = np.array([train_data_stand_pca[i] for i in val_index])\n",
        "#  val_targets = np.array([train_labels_dec[i] for i in val_index])\n",
        "\n",
        "#  one_hot_partial_train_targets = to_categorical(partial_train_targets)\n",
        "#  one_hot_val_targets = to_categorical(val_targets)\n",
        "\n",
        "#  model = build_model()\n",
        "#  model.fit(partial_train_data, one_hot_partial_train_targets, epochs = num_epochs, batch_size=1)\n",
        "\n",
        "#  val_loss, val_accuracy = model.evaluate(val_data, one_hot_val_targets)\n",
        "#  all_scores.append(val_accuracy)\n",
        "#I parametri per la valutazione vengono calcolati una volta per ogni k-fold, per ogni set di validazione, quindi k volte"
      ],
      "execution_count": 0,
      "outputs": []
    },
    {
      "cell_type": "markdown",
      "metadata": {
        "id": "2X5B3lasRcsR",
        "colab_type": "text"
      },
      "source": [
        "C'è un problema: keras.utils.to_categorical produces a one-hot encoded class vector, i.e. the multilabel-indicator mentioned in the error message. StratifiedKFold is not designed to work with such input; i.e. your y must be a 1-D array of your class labels.\n",
        "Essentially, what you have to do is simply to invert the order of the operations: split first (using your intial y_train), and convert to_categorical afterwards."
      ]
    },
    {
      "cell_type": "code",
      "metadata": {
        "id": "F0Sl23XX-uUu",
        "colab_type": "code",
        "colab": {}
      },
      "source": [
        "import keras"
      ],
      "execution_count": 0,
      "outputs": []
    },
    {
      "cell_type": "code",
      "metadata": {
        "id": "8K8a1I3yU9FS",
        "colab_type": "code",
        "outputId": "7c7f52f4-90a9-4d3f-85d9-479f206021b7",
        "colab": {
          "base_uri": "https://localhost:8080/",
          "height": 1000
        }
      },
      "source": [
        "num_epochs = 50\n",
        "all_acc_histories = []\n",
        "all_loss_histories = []\n",
        "all_val_acc_histories = []\n",
        "all_val_loss_histories = []\n",
        "\n",
        "for train_index, val_index in skf.split(train_data_stand_pca, train_labels_dec):\n",
        " \n",
        "  partial_train_data = np.array([train_data_stand_pca[i] for i in train_index])\n",
        "  partial_train_targets = np.array([train_labels_dec[i] for i in train_index])\n",
        "  \n",
        "  val_data = np.array([train_data_stand_pca[i] for i in val_index])\n",
        "  val_targets = np.array([train_labels_dec[i] for i in val_index])\n",
        "\n",
        "  one_hot_partial_train_targets = to_categorical(partial_train_targets)\n",
        "  one_hot_val_targets = to_categorical(val_targets)\n",
        "\n",
        " \n",
        "  model = build_model()\n",
        "  history = model.fit(partial_train_data, one_hot_partial_train_targets, validation_data=(val_data, one_hot_val_targets), \n",
        "                      epochs=num_epochs, batch_size=10)\n",
        "  \n",
        "  acc_history = history.history['acc']\n",
        "  all_acc_histories.append(acc_history)\n",
        "\n",
        "  loss_history = history.history['loss']\n",
        "  all_loss_histories.append(loss_history)\n",
        "\n",
        "  acc_val_history = history.history['val_acc']\n",
        "  all_val_acc_histories.append(acc_val_history)\n",
        "\n",
        "  loss_val_history = history.history['val_loss']\n",
        "  all_val_loss_histories.append(loss_val_history)\n",
        "  \n",
        "\n",
        "#I parametri per la valutazione vengono calcolati per ogni epoca, quindi num_epochs volte. \n",
        "#Il tutto viene ripetuto un numero di volte pari a n_splits.\n",
        "#Si ottiene una lista con n_splits elementi ciascuno dei quali è una lista lunga num_epochs,\n",
        "#ogni elemento può essere uno fra questi: dict_keys(['val_loss', 'val_acc', 'loss', 'acc']) "
      ],
      "execution_count": 608,
      "outputs": [
        {
          "output_type": "stream",
          "text": [
            "Train on 86 samples, validate on 45 samples\n",
            "Epoch 1/50\n",
            "86/86 [==============================] - 3s 30ms/step - loss: 1.4601 - acc: 0.2791 - val_loss: 1.1103 - val_acc: 0.4222\n",
            "Epoch 2/50\n",
            "86/86 [==============================] - 0s 231us/step - loss: 1.2277 - acc: 0.3721 - val_loss: 1.0678 - val_acc: 0.4000\n",
            "Epoch 3/50\n",
            "86/86 [==============================] - 0s 236us/step - loss: 1.1429 - acc: 0.4419 - val_loss: 1.0475 - val_acc: 0.4444\n",
            "Epoch 4/50\n",
            "86/86 [==============================] - 0s 231us/step - loss: 1.0924 - acc: 0.4419 - val_loss: 1.0238 - val_acc: 0.4667\n",
            "Epoch 5/50\n",
            "86/86 [==============================] - 0s 221us/step - loss: 1.0570 - acc: 0.4651 - val_loss: 1.0130 - val_acc: 0.4667\n",
            "Epoch 6/50\n",
            "86/86 [==============================] - 0s 228us/step - loss: 1.0364 - acc: 0.5116 - val_loss: 1.0118 - val_acc: 0.4444\n",
            "Epoch 7/50\n",
            "86/86 [==============================] - 0s 258us/step - loss: 1.0098 - acc: 0.5233 - val_loss: 1.0047 - val_acc: 0.4667\n",
            "Epoch 8/50\n",
            "86/86 [==============================] - 0s 251us/step - loss: 0.9900 - acc: 0.5233 - val_loss: 1.0072 - val_acc: 0.4667\n",
            "Epoch 9/50\n",
            "86/86 [==============================] - 0s 232us/step - loss: 0.9751 - acc: 0.5233 - val_loss: 1.0152 - val_acc: 0.4667\n",
            "Epoch 10/50\n",
            "86/86 [==============================] - 0s 227us/step - loss: 0.9667 - acc: 0.5349 - val_loss: 1.0144 - val_acc: 0.4667\n",
            "Epoch 11/50\n",
            "86/86 [==============================] - 0s 245us/step - loss: 0.9587 - acc: 0.5233 - val_loss: 1.0206 - val_acc: 0.4667\n",
            "Epoch 12/50\n",
            "86/86 [==============================] - 0s 265us/step - loss: 0.9527 - acc: 0.5233 - val_loss: 1.0250 - val_acc: 0.4667\n",
            "Epoch 13/50\n",
            "86/86 [==============================] - 0s 244us/step - loss: 0.9433 - acc: 0.5349 - val_loss: 1.0283 - val_acc: 0.4667\n",
            "Epoch 14/50\n",
            "86/86 [==============================] - 0s 243us/step - loss: 0.9410 - acc: 0.5233 - val_loss: 1.0355 - val_acc: 0.4667\n",
            "Epoch 15/50\n",
            "86/86 [==============================] - 0s 258us/step - loss: 0.9359 - acc: 0.5581 - val_loss: 1.0368 - val_acc: 0.4667\n",
            "Epoch 16/50\n",
            "86/86 [==============================] - 0s 221us/step - loss: 0.9280 - acc: 0.5349 - val_loss: 1.0377 - val_acc: 0.4667\n",
            "Epoch 17/50\n",
            "86/86 [==============================] - 0s 236us/step - loss: 0.9213 - acc: 0.5581 - val_loss: 1.0358 - val_acc: 0.4667\n",
            "Epoch 18/50\n",
            "86/86 [==============================] - 0s 254us/step - loss: 0.9163 - acc: 0.5698 - val_loss: 1.0496 - val_acc: 0.5111\n",
            "Epoch 19/50\n",
            "86/86 [==============================] - 0s 265us/step - loss: 0.9135 - acc: 0.5698 - val_loss: 1.0525 - val_acc: 0.5111\n",
            "Epoch 20/50\n",
            "86/86 [==============================] - 0s 233us/step - loss: 0.9088 - acc: 0.5698 - val_loss: 1.0482 - val_acc: 0.5333\n",
            "Epoch 21/50\n",
            "86/86 [==============================] - 0s 255us/step - loss: 0.9024 - acc: 0.5930 - val_loss: 1.0467 - val_acc: 0.5111\n",
            "Epoch 22/50\n",
            "86/86 [==============================] - 0s 243us/step - loss: 0.8947 - acc: 0.5698 - val_loss: 1.0404 - val_acc: 0.5111\n",
            "Epoch 23/50\n",
            "86/86 [==============================] - 0s 248us/step - loss: 0.8872 - acc: 0.5930 - val_loss: 1.0468 - val_acc: 0.5333\n",
            "Epoch 24/50\n",
            "86/86 [==============================] - 0s 275us/step - loss: 0.8840 - acc: 0.5814 - val_loss: 1.0517 - val_acc: 0.5333\n",
            "Epoch 25/50\n",
            "86/86 [==============================] - 0s 301us/step - loss: 0.8781 - acc: 0.6047 - val_loss: 1.0439 - val_acc: 0.5111\n",
            "Epoch 26/50\n",
            "86/86 [==============================] - 0s 294us/step - loss: 0.8711 - acc: 0.5930 - val_loss: 1.0500 - val_acc: 0.5333\n",
            "Epoch 27/50\n",
            "86/86 [==============================] - 0s 246us/step - loss: 0.8630 - acc: 0.5930 - val_loss: 1.0539 - val_acc: 0.5333\n",
            "Epoch 28/50\n",
            "86/86 [==============================] - 0s 257us/step - loss: 0.8558 - acc: 0.6047 - val_loss: 1.0614 - val_acc: 0.5333\n",
            "Epoch 29/50\n",
            "86/86 [==============================] - 0s 253us/step - loss: 0.8522 - acc: 0.5930 - val_loss: 1.0728 - val_acc: 0.5333\n",
            "Epoch 30/50\n",
            "86/86 [==============================] - 0s 264us/step - loss: 0.8514 - acc: 0.6163 - val_loss: 1.0680 - val_acc: 0.5333\n",
            "Epoch 31/50\n",
            "86/86 [==============================] - 0s 255us/step - loss: 0.8403 - acc: 0.6047 - val_loss: 1.0772 - val_acc: 0.5111\n",
            "Epoch 32/50\n",
            "86/86 [==============================] - 0s 248us/step - loss: 0.8371 - acc: 0.6163 - val_loss: 1.0727 - val_acc: 0.5111\n",
            "Epoch 33/50\n",
            "86/86 [==============================] - 0s 241us/step - loss: 0.8336 - acc: 0.6279 - val_loss: 1.0748 - val_acc: 0.5111\n",
            "Epoch 34/50\n",
            "86/86 [==============================] - 0s 232us/step - loss: 0.8301 - acc: 0.6163 - val_loss: 1.0796 - val_acc: 0.5111\n",
            "Epoch 35/50\n",
            "86/86 [==============================] - 0s 242us/step - loss: 0.8315 - acc: 0.6279 - val_loss: 1.0704 - val_acc: 0.5333\n",
            "Epoch 36/50\n",
            "86/86 [==============================] - 0s 248us/step - loss: 0.8222 - acc: 0.6163 - val_loss: 1.0715 - val_acc: 0.5333\n",
            "Epoch 37/50\n",
            "86/86 [==============================] - 0s 235us/step - loss: 0.8207 - acc: 0.6279 - val_loss: 1.0806 - val_acc: 0.5111\n",
            "Epoch 38/50\n",
            "86/86 [==============================] - 0s 235us/step - loss: 0.8138 - acc: 0.6395 - val_loss: 1.0881 - val_acc: 0.5111\n",
            "Epoch 39/50\n",
            "86/86 [==============================] - 0s 277us/step - loss: 0.8146 - acc: 0.6279 - val_loss: 1.0853 - val_acc: 0.5333\n",
            "Epoch 40/50\n",
            "86/86 [==============================] - 0s 245us/step - loss: 0.8092 - acc: 0.6395 - val_loss: 1.0813 - val_acc: 0.5333\n",
            "Epoch 41/50\n",
            "86/86 [==============================] - 0s 262us/step - loss: 0.8032 - acc: 0.6512 - val_loss: 1.0965 - val_acc: 0.5333\n",
            "Epoch 42/50\n",
            "86/86 [==============================] - 0s 248us/step - loss: 0.8059 - acc: 0.6395 - val_loss: 1.1053 - val_acc: 0.5333\n",
            "Epoch 43/50\n",
            "86/86 [==============================] - 0s 251us/step - loss: 0.8014 - acc: 0.6744 - val_loss: 1.1125 - val_acc: 0.5333\n",
            "Epoch 44/50\n",
            "86/86 [==============================] - 0s 261us/step - loss: 0.8010 - acc: 0.6628 - val_loss: 1.1209 - val_acc: 0.5333\n",
            "Epoch 45/50\n",
            "86/86 [==============================] - 0s 282us/step - loss: 0.7976 - acc: 0.6744 - val_loss: 1.1191 - val_acc: 0.5333\n",
            "Epoch 46/50\n",
            "86/86 [==============================] - 0s 264us/step - loss: 0.7882 - acc: 0.6860 - val_loss: 1.1260 - val_acc: 0.5111\n",
            "Epoch 47/50\n",
            "86/86 [==============================] - 0s 243us/step - loss: 0.7909 - acc: 0.6628 - val_loss: 1.1253 - val_acc: 0.5333\n",
            "Epoch 48/50\n",
            "86/86 [==============================] - 0s 244us/step - loss: 0.7870 - acc: 0.6744 - val_loss: 1.1258 - val_acc: 0.5111\n",
            "Epoch 49/50\n",
            "86/86 [==============================] - 0s 251us/step - loss: 0.7822 - acc: 0.6744 - val_loss: 1.1195 - val_acc: 0.4889\n",
            "Epoch 50/50\n",
            "86/86 [==============================] - 0s 253us/step - loss: 0.7815 - acc: 0.6744 - val_loss: 1.1239 - val_acc: 0.4889\n",
            "Train on 88 samples, validate on 43 samples\n",
            "Epoch 1/50\n",
            "88/88 [==============================] - 3s 31ms/step - loss: 2.4432 - acc: 0.2727 - val_loss: 1.5713 - val_acc: 0.3953\n",
            "Epoch 2/50\n",
            "88/88 [==============================] - 0s 240us/step - loss: 1.4735 - acc: 0.4091 - val_loss: 1.3778 - val_acc: 0.4419\n",
            "Epoch 3/50\n",
            "88/88 [==============================] - 0s 343us/step - loss: 1.2079 - acc: 0.4886 - val_loss: 1.3942 - val_acc: 0.3721\n",
            "Epoch 4/50\n",
            "88/88 [==============================] - 0s 321us/step - loss: 1.1014 - acc: 0.5455 - val_loss: 1.3966 - val_acc: 0.3953\n",
            "Epoch 5/50\n",
            "88/88 [==============================] - 0s 305us/step - loss: 1.0519 - acc: 0.5682 - val_loss: 1.3571 - val_acc: 0.4419\n",
            "Epoch 6/50\n",
            "88/88 [==============================] - 0s 284us/step - loss: 1.0074 - acc: 0.5682 - val_loss: 1.3385 - val_acc: 0.4419\n",
            "Epoch 7/50\n",
            "88/88 [==============================] - 0s 349us/step - loss: 0.9888 - acc: 0.5682 - val_loss: 1.2948 - val_acc: 0.4419\n",
            "Epoch 8/50\n",
            "88/88 [==============================] - 0s 328us/step - loss: 0.9742 - acc: 0.5227 - val_loss: 1.3013 - val_acc: 0.4186\n",
            "Epoch 9/50\n",
            "88/88 [==============================] - 0s 352us/step - loss: 0.9541 - acc: 0.5341 - val_loss: 1.2912 - val_acc: 0.4186\n",
            "Epoch 10/50\n",
            "88/88 [==============================] - 0s 295us/step - loss: 0.9456 - acc: 0.5341 - val_loss: 1.2903 - val_acc: 0.4419\n",
            "Epoch 11/50\n",
            "88/88 [==============================] - 0s 418us/step - loss: 0.9417 - acc: 0.5341 - val_loss: 1.2769 - val_acc: 0.4419\n",
            "Epoch 12/50\n",
            "88/88 [==============================] - 0s 320us/step - loss: 0.9340 - acc: 0.5227 - val_loss: 1.2998 - val_acc: 0.4419\n",
            "Epoch 13/50\n",
            "88/88 [==============================] - 0s 257us/step - loss: 0.9188 - acc: 0.5227 - val_loss: 1.2757 - val_acc: 0.4419\n",
            "Epoch 14/50\n",
            "88/88 [==============================] - 0s 381us/step - loss: 0.9178 - acc: 0.5341 - val_loss: 1.2855 - val_acc: 0.4419\n",
            "Epoch 15/50\n",
            "88/88 [==============================] - 0s 494us/step - loss: 0.9070 - acc: 0.5455 - val_loss: 1.2806 - val_acc: 0.4419\n",
            "Epoch 16/50\n",
            "88/88 [==============================] - 0s 366us/step - loss: 0.9060 - acc: 0.5682 - val_loss: 1.2765 - val_acc: 0.4419\n",
            "Epoch 17/50\n",
            "88/88 [==============================] - 0s 253us/step - loss: 0.9013 - acc: 0.5795 - val_loss: 1.2819 - val_acc: 0.4419\n",
            "Epoch 18/50\n",
            "88/88 [==============================] - 0s 284us/step - loss: 0.9063 - acc: 0.5568 - val_loss: 1.2733 - val_acc: 0.4419\n",
            "Epoch 19/50\n",
            "88/88 [==============================] - 0s 246us/step - loss: 0.8988 - acc: 0.5568 - val_loss: 1.2665 - val_acc: 0.4419\n",
            "Epoch 20/50\n",
            "88/88 [==============================] - 0s 253us/step - loss: 0.8923 - acc: 0.5568 - val_loss: 1.2456 - val_acc: 0.4419\n",
            "Epoch 21/50\n",
            "88/88 [==============================] - 0s 274us/step - loss: 0.8892 - acc: 0.5682 - val_loss: 1.2599 - val_acc: 0.4651\n",
            "Epoch 22/50\n",
            "88/88 [==============================] - 0s 276us/step - loss: 0.8755 - acc: 0.5682 - val_loss: 1.2514 - val_acc: 0.4651\n",
            "Epoch 23/50\n",
            "88/88 [==============================] - 0s 382us/step - loss: 0.8758 - acc: 0.5682 - val_loss: 1.2575 - val_acc: 0.4651\n",
            "Epoch 24/50\n",
            "88/88 [==============================] - 0s 321us/step - loss: 0.8776 - acc: 0.5795 - val_loss: 1.2488 - val_acc: 0.4651\n",
            "Epoch 25/50\n",
            "88/88 [==============================] - 0s 387us/step - loss: 0.8702 - acc: 0.5795 - val_loss: 1.2371 - val_acc: 0.4419\n",
            "Epoch 26/50\n",
            "88/88 [==============================] - 0s 314us/step - loss: 0.8722 - acc: 0.5795 - val_loss: 1.2697 - val_acc: 0.4651\n",
            "Epoch 27/50\n",
            "88/88 [==============================] - 0s 251us/step - loss: 0.8690 - acc: 0.5682 - val_loss: 1.2539 - val_acc: 0.4419\n",
            "Epoch 28/50\n",
            "88/88 [==============================] - 0s 257us/step - loss: 0.8661 - acc: 0.5568 - val_loss: 1.2426 - val_acc: 0.4419\n",
            "Epoch 29/50\n",
            "88/88 [==============================] - 0s 258us/step - loss: 0.8590 - acc: 0.5568 - val_loss: 1.2536 - val_acc: 0.4419\n",
            "Epoch 30/50\n",
            "88/88 [==============================] - 0s 247us/step - loss: 0.8566 - acc: 0.5909 - val_loss: 1.2539 - val_acc: 0.4419\n",
            "Epoch 31/50\n",
            "88/88 [==============================] - 0s 277us/step - loss: 0.8578 - acc: 0.5795 - val_loss: 1.2745 - val_acc: 0.4419\n",
            "Epoch 32/50\n",
            "88/88 [==============================] - 0s 266us/step - loss: 0.8620 - acc: 0.5682 - val_loss: 1.2586 - val_acc: 0.4419\n",
            "Epoch 33/50\n",
            "88/88 [==============================] - 0s 261us/step - loss: 0.8513 - acc: 0.5682 - val_loss: 1.2435 - val_acc: 0.4419\n",
            "Epoch 34/50\n",
            "88/88 [==============================] - 0s 316us/step - loss: 0.8559 - acc: 0.5682 - val_loss: 1.2365 - val_acc: 0.4651\n",
            "Epoch 35/50\n",
            "88/88 [==============================] - 0s 300us/step - loss: 0.8484 - acc: 0.5682 - val_loss: 1.2554 - val_acc: 0.4419\n",
            "Epoch 36/50\n",
            "88/88 [==============================] - 0s 273us/step - loss: 0.8441 - acc: 0.5795 - val_loss: 1.2478 - val_acc: 0.4419\n",
            "Epoch 37/50\n",
            "88/88 [==============================] - 0s 281us/step - loss: 0.8500 - acc: 0.5682 - val_loss: 1.2618 - val_acc: 0.4419\n",
            "Epoch 38/50\n",
            "88/88 [==============================] - 0s 360us/step - loss: 0.8427 - acc: 0.5682 - val_loss: 1.2605 - val_acc: 0.4419\n",
            "Epoch 39/50\n",
            "88/88 [==============================] - 0s 345us/step - loss: 0.8390 - acc: 0.5795 - val_loss: 1.2874 - val_acc: 0.4419\n",
            "Epoch 40/50\n",
            "88/88 [==============================] - 0s 312us/step - loss: 0.8510 - acc: 0.5909 - val_loss: 1.2935 - val_acc: 0.4186\n",
            "Epoch 41/50\n",
            "88/88 [==============================] - 0s 273us/step - loss: 0.8388 - acc: 0.5568 - val_loss: 1.2874 - val_acc: 0.4186\n",
            "Epoch 42/50\n",
            "88/88 [==============================] - 0s 284us/step - loss: 0.8309 - acc: 0.5909 - val_loss: 1.2751 - val_acc: 0.4419\n",
            "Epoch 43/50\n",
            "88/88 [==============================] - 0s 350us/step - loss: 0.8272 - acc: 0.6023 - val_loss: 1.2682 - val_acc: 0.4186\n",
            "Epoch 44/50\n",
            "88/88 [==============================] - 0s 397us/step - loss: 0.8265 - acc: 0.5795 - val_loss: 1.2624 - val_acc: 0.4186\n",
            "Epoch 45/50\n",
            "88/88 [==============================] - 0s 263us/step - loss: 0.8260 - acc: 0.5909 - val_loss: 1.2644 - val_acc: 0.4186\n",
            "Epoch 46/50\n",
            "88/88 [==============================] - 0s 263us/step - loss: 0.8230 - acc: 0.5682 - val_loss: 1.2759 - val_acc: 0.3953\n",
            "Epoch 47/50\n",
            "88/88 [==============================] - 0s 307us/step - loss: 0.8145 - acc: 0.5795 - val_loss: 1.2579 - val_acc: 0.3721\n",
            "Epoch 48/50\n",
            "88/88 [==============================] - 0s 292us/step - loss: 0.8207 - acc: 0.5909 - val_loss: 1.2669 - val_acc: 0.3721\n",
            "Epoch 49/50\n",
            "88/88 [==============================] - 0s 252us/step - loss: 0.8154 - acc: 0.5909 - val_loss: 1.2769 - val_acc: 0.3721\n",
            "Epoch 50/50\n",
            "88/88 [==============================] - 0s 281us/step - loss: 0.8118 - acc: 0.5795 - val_loss: 1.2710 - val_acc: 0.3721\n",
            "Train on 88 samples, validate on 43 samples\n",
            "Epoch 1/50\n",
            "88/88 [==============================] - 3s 32ms/step - loss: 2.3793 - acc: 0.3523 - val_loss: 1.9121 - val_acc: 0.3721\n",
            "Epoch 2/50\n",
            "88/88 [==============================] - 0s 248us/step - loss: 1.4257 - acc: 0.4205 - val_loss: 1.4645 - val_acc: 0.3488\n",
            "Epoch 3/50\n",
            "88/88 [==============================] - 0s 263us/step - loss: 1.1688 - acc: 0.4659 - val_loss: 1.3142 - val_acc: 0.3023\n",
            "Epoch 4/50\n",
            "88/88 [==============================] - 0s 234us/step - loss: 1.0631 - acc: 0.5341 - val_loss: 1.2492 - val_acc: 0.3256\n",
            "Epoch 5/50\n",
            "88/88 [==============================] - 0s 231us/step - loss: 1.0191 - acc: 0.5114 - val_loss: 1.2023 - val_acc: 0.3721\n",
            "Epoch 6/50\n",
            "88/88 [==============================] - 0s 250us/step - loss: 0.9875 - acc: 0.5000 - val_loss: 1.1734 - val_acc: 0.3953\n",
            "Epoch 7/50\n",
            "88/88 [==============================] - 0s 238us/step - loss: 0.9868 - acc: 0.5114 - val_loss: 1.1448 - val_acc: 0.4419\n",
            "Epoch 8/50\n",
            "88/88 [==============================] - 0s 228us/step - loss: 0.9568 - acc: 0.5227 - val_loss: 1.1213 - val_acc: 0.4186\n",
            "Epoch 9/50\n",
            "88/88 [==============================] - 0s 230us/step - loss: 0.9463 - acc: 0.5341 - val_loss: 1.1104 - val_acc: 0.4186\n",
            "Epoch 10/50\n",
            "88/88 [==============================] - 0s 250us/step - loss: 0.9327 - acc: 0.5341 - val_loss: 1.1012 - val_acc: 0.4186\n",
            "Epoch 11/50\n",
            "88/88 [==============================] - 0s 278us/step - loss: 0.9270 - acc: 0.5000 - val_loss: 1.0937 - val_acc: 0.4419\n",
            "Epoch 12/50\n",
            "88/88 [==============================] - 0s 235us/step - loss: 0.9142 - acc: 0.5455 - val_loss: 1.0816 - val_acc: 0.4419\n",
            "Epoch 13/50\n",
            "88/88 [==============================] - 0s 228us/step - loss: 0.9070 - acc: 0.5341 - val_loss: 1.0719 - val_acc: 0.4419\n",
            "Epoch 14/50\n",
            "88/88 [==============================] - 0s 256us/step - loss: 0.9087 - acc: 0.4773 - val_loss: 1.0707 - val_acc: 0.4419\n",
            "Epoch 15/50\n",
            "88/88 [==============================] - 0s 281us/step - loss: 0.9023 - acc: 0.5341 - val_loss: 1.0678 - val_acc: 0.4419\n",
            "Epoch 16/50\n",
            "88/88 [==============================] - 0s 270us/step - loss: 0.9080 - acc: 0.5568 - val_loss: 1.0628 - val_acc: 0.4419\n",
            "Epoch 17/50\n",
            "88/88 [==============================] - 0s 250us/step - loss: 0.8976 - acc: 0.5227 - val_loss: 1.0620 - val_acc: 0.4884\n",
            "Epoch 18/50\n",
            "88/88 [==============================] - 0s 248us/step - loss: 0.8989 - acc: 0.5341 - val_loss: 1.0575 - val_acc: 0.4884\n",
            "Epoch 19/50\n",
            "88/88 [==============================] - 0s 230us/step - loss: 0.8956 - acc: 0.5341 - val_loss: 1.0511 - val_acc: 0.5116\n",
            "Epoch 20/50\n",
            "88/88 [==============================] - 0s 253us/step - loss: 0.8948 - acc: 0.5341 - val_loss: 1.0510 - val_acc: 0.5116\n",
            "Epoch 21/50\n",
            "88/88 [==============================] - 0s 250us/step - loss: 0.8875 - acc: 0.5000 - val_loss: 1.0591 - val_acc: 0.5116\n",
            "Epoch 22/50\n",
            "88/88 [==============================] - 0s 228us/step - loss: 0.8884 - acc: 0.5455 - val_loss: 1.0568 - val_acc: 0.5116\n",
            "Epoch 23/50\n",
            "88/88 [==============================] - 0s 244us/step - loss: 0.8924 - acc: 0.5341 - val_loss: 1.0585 - val_acc: 0.4884\n",
            "Epoch 24/50\n",
            "88/88 [==============================] - 0s 264us/step - loss: 0.8918 - acc: 0.5341 - val_loss: 1.0539 - val_acc: 0.5116\n",
            "Epoch 25/50\n",
            "88/88 [==============================] - 0s 233us/step - loss: 0.8861 - acc: 0.5455 - val_loss: 1.0581 - val_acc: 0.5116\n",
            "Epoch 26/50\n",
            "88/88 [==============================] - 0s 231us/step - loss: 0.8869 - acc: 0.5568 - val_loss: 1.0547 - val_acc: 0.5116\n",
            "Epoch 27/50\n",
            "88/88 [==============================] - 0s 241us/step - loss: 0.8841 - acc: 0.5227 - val_loss: 1.0560 - val_acc: 0.5116\n",
            "Epoch 28/50\n",
            "88/88 [==============================] - 0s 234us/step - loss: 0.8838 - acc: 0.5341 - val_loss: 1.0624 - val_acc: 0.5116\n",
            "Epoch 29/50\n",
            "88/88 [==============================] - 0s 247us/step - loss: 0.8833 - acc: 0.5568 - val_loss: 1.0596 - val_acc: 0.5349\n",
            "Epoch 30/50\n",
            "88/88 [==============================] - 0s 229us/step - loss: 0.8741 - acc: 0.5568 - val_loss: 1.0570 - val_acc: 0.5116\n",
            "Epoch 31/50\n",
            "88/88 [==============================] - 0s 254us/step - loss: 0.8774 - acc: 0.5568 - val_loss: 1.0543 - val_acc: 0.5116\n",
            "Epoch 32/50\n",
            "88/88 [==============================] - 0s 296us/step - loss: 0.8754 - acc: 0.5455 - val_loss: 1.0577 - val_acc: 0.5116\n",
            "Epoch 33/50\n",
            "88/88 [==============================] - 0s 333us/step - loss: 0.8792 - acc: 0.5455 - val_loss: 1.0560 - val_acc: 0.5116\n",
            "Epoch 34/50\n",
            "88/88 [==============================] - 0s 293us/step - loss: 0.8740 - acc: 0.5682 - val_loss: 1.0589 - val_acc: 0.5116\n",
            "Epoch 35/50\n",
            "88/88 [==============================] - 0s 373us/step - loss: 0.8743 - acc: 0.5455 - val_loss: 1.0608 - val_acc: 0.5116\n",
            "Epoch 36/50\n",
            "88/88 [==============================] - 0s 288us/step - loss: 0.8721 - acc: 0.5455 - val_loss: 1.0637 - val_acc: 0.5116\n",
            "Epoch 37/50\n",
            "88/88 [==============================] - 0s 306us/step - loss: 0.8758 - acc: 0.5455 - val_loss: 1.0614 - val_acc: 0.5349\n",
            "Epoch 38/50\n",
            "88/88 [==============================] - 0s 289us/step - loss: 0.8818 - acc: 0.5682 - val_loss: 1.0593 - val_acc: 0.5116\n",
            "Epoch 39/50\n",
            "88/88 [==============================] - 0s 238us/step - loss: 0.8707 - acc: 0.5341 - val_loss: 1.0619 - val_acc: 0.5116\n",
            "Epoch 40/50\n",
            "88/88 [==============================] - 0s 268us/step - loss: 0.8700 - acc: 0.5909 - val_loss: 1.0579 - val_acc: 0.5349\n",
            "Epoch 41/50\n",
            "88/88 [==============================] - 0s 244us/step - loss: 0.8740 - acc: 0.5909 - val_loss: 1.0616 - val_acc: 0.5116\n",
            "Epoch 42/50\n",
            "88/88 [==============================] - 0s 234us/step - loss: 0.8698 - acc: 0.5341 - val_loss: 1.0589 - val_acc: 0.5116\n",
            "Epoch 43/50\n",
            "88/88 [==============================] - 0s 261us/step - loss: 0.8646 - acc: 0.5795 - val_loss: 1.0573 - val_acc: 0.5116\n",
            "Epoch 44/50\n",
            "88/88 [==============================] - 0s 264us/step - loss: 0.8614 - acc: 0.5568 - val_loss: 1.0587 - val_acc: 0.5116\n",
            "Epoch 45/50\n",
            "88/88 [==============================] - 0s 242us/step - loss: 0.8636 - acc: 0.5568 - val_loss: 1.0645 - val_acc: 0.5116\n",
            "Epoch 46/50\n",
            "88/88 [==============================] - 0s 240us/step - loss: 0.8659 - acc: 0.6023 - val_loss: 1.0630 - val_acc: 0.5116\n",
            "Epoch 47/50\n",
            "88/88 [==============================] - 0s 329us/step - loss: 0.8654 - acc: 0.5909 - val_loss: 1.0687 - val_acc: 0.5116\n",
            "Epoch 48/50\n",
            "88/88 [==============================] - 0s 347us/step - loss: 0.8620 - acc: 0.5682 - val_loss: 1.0688 - val_acc: 0.5116\n",
            "Epoch 49/50\n",
            "88/88 [==============================] - 0s 274us/step - loss: 0.8619 - acc: 0.5795 - val_loss: 1.0685 - val_acc: 0.5116\n",
            "Epoch 50/50\n",
            "88/88 [==============================] - 0s 267us/step - loss: 0.8620 - acc: 0.5909 - val_loss: 1.0654 - val_acc: 0.5349\n"
          ],
          "name": "stdout"
        }
      ]
    },
    {
      "cell_type": "code",
      "metadata": {
        "id": "s2eeOHoYbina",
        "colab_type": "code",
        "colab": {}
      },
      "source": [
        "history_dict = history.history"
      ],
      "execution_count": 0,
      "outputs": []
    },
    {
      "cell_type": "code",
      "metadata": {
        "id": "-zDN2PrRc36l",
        "colab_type": "code",
        "outputId": "f3637bab-e058-4c08-c062-3cc3d3e8c85f",
        "colab": {
          "base_uri": "https://localhost:8080/",
          "height": 34
        }
      },
      "source": [
        "history_dict.keys()"
      ],
      "execution_count": 610,
      "outputs": [
        {
          "output_type": "execute_result",
          "data": {
            "text/plain": [
              "dict_keys(['val_loss', 'val_acc', 'loss', 'acc'])"
            ]
          },
          "metadata": {
            "tags": []
          },
          "execution_count": 610
        }
      ]
    },
    {
      "cell_type": "code",
      "metadata": {
        "id": "tss7vRUEgAcz",
        "colab_type": "code",
        "outputId": "9bc4d3bf-a62e-4ec6-f1f7-a4e25a5bc720",
        "colab": {
          "base_uri": "https://localhost:8080/",
          "height": 34
        }
      },
      "source": [
        "len(all_acc_histories[2])"
      ],
      "execution_count": 611,
      "outputs": [
        {
          "output_type": "execute_result",
          "data": {
            "text/plain": [
              "50"
            ]
          },
          "metadata": {
            "tags": []
          },
          "execution_count": 611
        }
      ]
    },
    {
      "cell_type": "code",
      "metadata": {
        "id": "HpKE3iTJBHzO",
        "colab_type": "code",
        "colab": {}
      },
      "source": [
        "average_acc_history = [np.mean([x[i] for x in all_acc_histories]) for i in range(num_epochs)]\n",
        "#media per epoca degli score ottenuti per tutte le k-fold\n",
        "#per ogni k-fold di fanno num_epoch epoche, la media viene fatta prendendo gli score di tutti i k-fold relativi ad una data epoca,\n",
        "#e si fa questo per tutte le epoche\n",
        "average_loss_history = [np.mean([x[i] for x in all_loss_histories]) for i in range(num_epochs)]\n",
        "average_val_acc_history = [np.mean([x[i] for x in all_val_acc_histories]) for i in range(num_epochs)]\n",
        "average_val_loss_history = [np.mean([x[i] for x in all_val_loss_histories]) for i in range(num_epochs)]\n"
      ],
      "execution_count": 0,
      "outputs": []
    },
    {
      "cell_type": "code",
      "metadata": {
        "id": "uQrkCEMUD2RI",
        "colab_type": "code",
        "outputId": "d39dfd23-3c14-4760-9b5c-0e33f33ce52f",
        "colab": {
          "base_uri": "https://localhost:8080/",
          "height": 34
        }
      },
      "source": [
        "len(average_val_acc_history)"
      ],
      "execution_count": 613,
      "outputs": [
        {
          "output_type": "execute_result",
          "data": {
            "text/plain": [
              "50"
            ]
          },
          "metadata": {
            "tags": []
          },
          "execution_count": 613
        }
      ]
    },
    {
      "cell_type": "markdown",
      "metadata": {
        "id": "B9UhSxIaHtuO",
        "colab_type": "text"
      },
      "source": [
        "##Plotting training and validation loss"
      ]
    },
    {
      "cell_type": "code",
      "metadata": {
        "id": "vq6zsienD5ct",
        "colab_type": "code",
        "colab": {}
      },
      "source": [
        "import matplotlib.pyplot as plt"
      ],
      "execution_count": 0,
      "outputs": []
    },
    {
      "cell_type": "code",
      "metadata": {
        "id": "XJizyjnaIPhQ",
        "colab_type": "code",
        "colab": {}
      },
      "source": [
        "epochs = range(1, num_epochs+1)"
      ],
      "execution_count": 0,
      "outputs": []
    },
    {
      "cell_type": "code",
      "metadata": {
        "id": "HfEHEYLgIQUQ",
        "colab_type": "code",
        "outputId": "613dac32-049b-4383-ec97-c494e8eea215",
        "colab": {
          "base_uri": "https://localhost:8080/",
          "height": 312
        }
      },
      "source": [
        "plt.plot(epochs, average_loss_history, 'bo', label='training loss')\n",
        "plt.plot(epochs, average_val_loss_history, 'b', label='validation loss')\n",
        "plt.title('Training and validation loss')\n",
        "plt.xlabel('Epochs')\n",
        "plt.ylabel('Loss')\n",
        "plt.legend()"
      ],
      "execution_count": 616,
      "outputs": [
        {
          "output_type": "execute_result",
          "data": {
            "text/plain": [
              "<matplotlib.legend.Legend at 0x7f4fc89c0e80>"
            ]
          },
          "metadata": {
            "tags": []
          },
          "execution_count": 616
        },
        {
          "output_type": "display_data",
          "data": {
            "image/png": "[encoded data removed]",
            "text/plain": [
              "<Figure size 432x288 with 1 Axes>"
            ]
          },
          "metadata": {
            "tags": []
          }
        }
      ]
    },
    {
      "cell_type": "markdown",
      "metadata": {
        "id": "Aoc4wMjfI97j",
        "colab_type": "text"
      },
      "source": [
        "##Plotting train and validation accuracy"
      ]
    },
    {
      "cell_type": "code",
      "metadata": {
        "id": "GZi7VzbFIbtJ",
        "colab_type": "code",
        "outputId": "5d1fe417-950a-49e3-a04d-0892de61a5ba",
        "colab": {
          "base_uri": "https://localhost:8080/",
          "height": 312
        }
      },
      "source": [
        "plt.plot(epochs, average_acc_history, 'bo', label='Training accuracy')\n",
        "plt.plot(epochs, average_val_acc_history, 'b', label='Validation accuracy')\n",
        "plt.title('Training and validation accuracy')\n",
        "plt.xlabel('Epochs')\n",
        "plt.ylabel('Accuracy')\n",
        "plt.legend() "
      ],
      "execution_count": 617,
      "outputs": [
        {
          "output_type": "execute_result",
          "data": {
            "text/plain": [
              "<matplotlib.legend.Legend at 0x7f4fc89a6400>"
            ]
          },
          "metadata": {
            "tags": []
          },
          "execution_count": 617
        },
        {
          "output_type": "display_data",
          "data": {
            "image/png": "[encoded data removed]",
            "text/plain": [
              "<Figure size 432x288 with 1 Axes>"
            ]
          },
          "metadata": {
            "tags": []
          }
        }
      ]
    },
    {
      "cell_type": "markdown",
      "metadata": {
        "id": "bgN-E84SUPUq",
        "colab_type": "text"
      },
      "source": [
        "#Performances on test set"
      ]
    },
    {
      "cell_type": "code",
      "metadata": {
        "id": "VokWFUNPJOsJ",
        "colab_type": "code",
        "outputId": "5ac2f97f-a9b5-477f-96f3-1d7a2f30a26c",
        "colab": {
          "base_uri": "https://localhost:8080/",
          "height": 1000
        }
      },
      "source": [
        " model = build_model()\n",
        " model.fit(train_data_stand_pca, one_hot_train_labels, epochs= num_epochs, batch_size=10, shuffle=True)\n",
        " test_loss, test_acc = model.evaluate(test_data_stand_pca, one_hot_test_labels)\n",
        "  "
      ],
      "execution_count": 618,
      "outputs": [
        {
          "output_type": "stream",
          "text": [
            "Epoch 1/50\n",
            "131/131 [==============================] - 2s 18ms/step - loss: 2.2930 - acc: 0.2672\n",
            "Epoch 2/50\n",
            "131/131 [==============================] - 0s 224us/step - loss: 1.3035 - acc: 0.4122\n",
            "Epoch 3/50\n",
            "131/131 [==============================] - 0s 191us/step - loss: 1.0881 - acc: 0.4962\n",
            "Epoch 4/50\n",
            "131/131 [==============================] - 0s 196us/step - loss: 1.0283 - acc: 0.5038\n",
            "Epoch 5/50\n",
            "131/131 [==============================] - 0s 168us/step - loss: 0.9960 - acc: 0.5038\n",
            "Epoch 6/50\n",
            "131/131 [==============================] - 0s 193us/step - loss: 0.9733 - acc: 0.5267\n",
            "Epoch 7/50\n",
            "131/131 [==============================] - 0s 222us/step - loss: 0.9603 - acc: 0.5573\n",
            "Epoch 8/50\n",
            "131/131 [==============================] - 0s 251us/step - loss: 0.9432 - acc: 0.5344\n",
            "Epoch 9/50\n",
            "131/131 [==============================] - 0s 254us/step - loss: 0.9422 - acc: 0.5573\n",
            "Epoch 10/50\n",
            "131/131 [==============================] - 0s 224us/step - loss: 0.9300 - acc: 0.5573\n",
            "Epoch 11/50\n",
            "131/131 [==============================] - 0s 208us/step - loss: 0.9289 - acc: 0.5649\n",
            "Epoch 12/50\n",
            "131/131 [==============================] - 0s 188us/step - loss: 0.9261 - acc: 0.5573\n",
            "Epoch 13/50\n",
            "131/131 [==============================] - 0s 196us/step - loss: 0.9183 - acc: 0.5573\n",
            "Epoch 14/50\n",
            "131/131 [==============================] - 0s 178us/step - loss: 0.9288 - acc: 0.5878\n",
            "Epoch 15/50\n",
            "131/131 [==============================] - 0s 219us/step - loss: 0.9152 - acc: 0.5954\n",
            "Epoch 16/50\n",
            "131/131 [==============================] - 0s 239us/step - loss: 0.9012 - acc: 0.6031\n",
            "Epoch 17/50\n",
            "131/131 [==============================] - 0s 216us/step - loss: 0.9043 - acc: 0.6031\n",
            "Epoch 18/50\n",
            "131/131 [==============================] - 0s 196us/step - loss: 0.8949 - acc: 0.6107\n",
            "Epoch 19/50\n",
            "131/131 [==============================] - 0s 209us/step - loss: 0.9089 - acc: 0.5878\n",
            "Epoch 20/50\n",
            "131/131 [==============================] - 0s 179us/step - loss: 0.9058 - acc: 0.5878\n",
            "Epoch 21/50\n",
            "131/131 [==============================] - 0s 158us/step - loss: 0.8828 - acc: 0.6183\n",
            "Epoch 22/50\n",
            "131/131 [==============================] - 0s 198us/step - loss: 0.8960 - acc: 0.5954\n",
            "Epoch 23/50\n",
            "131/131 [==============================] - 0s 229us/step - loss: 0.8746 - acc: 0.6183\n",
            "Epoch 24/50\n",
            "131/131 [==============================] - 0s 171us/step - loss: 0.8710 - acc: 0.6565\n",
            "Epoch 25/50\n",
            "131/131 [==============================] - 0s 161us/step - loss: 0.8713 - acc: 0.6336\n",
            "Epoch 26/50\n",
            "131/131 [==============================] - 0s 173us/step - loss: 0.8789 - acc: 0.6183\n",
            "Epoch 27/50\n",
            "131/131 [==============================] - 0s 168us/step - loss: 0.8800 - acc: 0.5649\n",
            "Epoch 28/50\n",
            "131/131 [==============================] - 0s 180us/step - loss: 0.8776 - acc: 0.5954\n",
            "Epoch 29/50\n",
            "131/131 [==============================] - 0s 243us/step - loss: 0.8532 - acc: 0.6412\n",
            "Epoch 30/50\n",
            "131/131 [==============================] - 0s 170us/step - loss: 0.8509 - acc: 0.6183\n",
            "Epoch 31/50\n",
            "131/131 [==============================] - 0s 165us/step - loss: 0.8461 - acc: 0.6260\n",
            "Epoch 32/50\n",
            "131/131 [==============================] - 0s 195us/step - loss: 0.8586 - acc: 0.6107\n",
            "Epoch 33/50\n",
            "131/131 [==============================] - 0s 189us/step - loss: 0.8404 - acc: 0.6489\n",
            "Epoch 34/50\n",
            "131/131 [==============================] - 0s 193us/step - loss: 0.8495 - acc: 0.6183\n",
            "Epoch 35/50\n",
            "131/131 [==============================] - 0s 169us/step - loss: 0.8407 - acc: 0.6260\n",
            "Epoch 36/50\n",
            "131/131 [==============================] - 0s 173us/step - loss: 0.8439 - acc: 0.6107\n",
            "Epoch 37/50\n",
            "131/131 [==============================] - 0s 166us/step - loss: 0.8534 - acc: 0.6107\n",
            "Epoch 38/50\n",
            "131/131 [==============================] - 0s 226us/step - loss: 0.8256 - acc: 0.6183\n",
            "Epoch 39/50\n",
            "131/131 [==============================] - 0s 177us/step - loss: 0.8270 - acc: 0.6107\n",
            "Epoch 40/50\n",
            "131/131 [==============================] - 0s 181us/step - loss: 0.8262 - acc: 0.6260\n",
            "Epoch 41/50\n",
            "131/131 [==============================] - 0s 180us/step - loss: 0.8350 - acc: 0.6260\n",
            "Epoch 42/50\n",
            "131/131 [==============================] - 0s 181us/step - loss: 0.8252 - acc: 0.6412\n",
            "Epoch 43/50\n",
            "131/131 [==============================] - 0s 163us/step - loss: 0.8138 - acc: 0.6260\n",
            "Epoch 44/50\n",
            "131/131 [==============================] - 0s 176us/step - loss: 0.8176 - acc: 0.6489\n",
            "Epoch 45/50\n",
            "131/131 [==============================] - 0s 180us/step - loss: 0.8104 - acc: 0.6336\n",
            "Epoch 46/50\n",
            "131/131 [==============================] - 0s 257us/step - loss: 0.8220 - acc: 0.6031\n",
            "Epoch 47/50\n",
            "131/131 [==============================] - 0s 194us/step - loss: 0.8644 - acc: 0.5649\n",
            "Epoch 48/50\n",
            "131/131 [==============================] - 0s 205us/step - loss: 0.8255 - acc: 0.6107\n",
            "Epoch 49/50\n",
            "131/131 [==============================] - 0s 180us/step - loss: 0.8257 - acc: 0.6183\n",
            "Epoch 50/50\n",
            "131/131 [==============================] - 0s 193us/step - loss: 0.8151 - acc: 0.6031\n",
            "34/34 [==============================] - 1s 28ms/step\n"
          ],
          "name": "stdout"
        }
      ]
    },
    {
      "cell_type": "code",
      "metadata": {
        "id": "J-tXqN8teV_6",
        "colab_type": "code",
        "outputId": "7ffff157-d287-41bd-f009-621d235bd68a",
        "colab": {
          "base_uri": "https://localhost:8080/",
          "height": 34
        }
      },
      "source": [
        "model.metrics_names"
      ],
      "execution_count": 619,
      "outputs": [
        {
          "output_type": "execute_result",
          "data": {
            "text/plain": [
              "['loss', 'acc']"
            ]
          },
          "metadata": {
            "tags": []
          },
          "execution_count": 619
        }
      ]
    },
    {
      "cell_type": "code",
      "metadata": {
        "id": "uLqboU_IeYu-",
        "colab_type": "code",
        "outputId": "7296de38-edf7-43fd-b3e3-f3beb02bd486",
        "colab": {
          "base_uri": "https://localhost:8080/",
          "height": 34
        }
      },
      "source": [
        "test_acc\n"
      ],
      "execution_count": 620,
      "outputs": [
        {
          "output_type": "execute_result",
          "data": {
            "text/plain": [
              "0.23529411764705882"
            ]
          },
          "metadata": {
            "tags": []
          },
          "execution_count": 620
        }
      ]
    },
    {
      "cell_type": "code",
      "metadata": {
        "id": "RpouJxJrfHYf",
        "colab_type": "code",
        "colab": {}
      },
      "source": [
        ""
      ],
      "execution_count": 0,
      "outputs": []
    },
    {
      "cell_type": "code",
      "metadata": {
        "id": "b6vvp8uohTYg",
        "colab_type": "code",
        "outputId": "4d9f9c9f-19df-4f40-9a6e-69f108803791",
        "colab": {
          "base_uri": "https://localhost:8080/",
          "height": 34
        }
      },
      "source": [
        "14*8+8*8+8*3+19"
      ],
      "execution_count": 621,
      "outputs": [
        {
          "output_type": "execute_result",
          "data": {
            "text/plain": [
              "219"
            ]
          },
          "metadata": {
            "tags": []
          },
          "execution_count": 621
        }
      ]
    },
    {
      "cell_type": "code",
      "metadata": {
        "id": "G8rJQZmahXMe",
        "colab_type": "code",
        "outputId": "19586da9-1d81-4d75-fcab-2e5139c580bc",
        "colab": {
          "base_uri": "https://localhost:8080/",
          "height": 34
        }
      },
      "source": [
        "14*8"
      ],
      "execution_count": 622,
      "outputs": [
        {
          "output_type": "execute_result",
          "data": {
            "text/plain": [
              "112"
            ]
          },
          "metadata": {
            "tags": []
          },
          "execution_count": 622
        }
      ]
    },
    {
      "cell_type": "code",
      "metadata": {
        "id": "Kxm3zpcahZBc",
        "colab_type": "code",
        "outputId": "8504ceb9-6bf9-4aba-9dc3-2ce44150d43e",
        "colab": {
          "base_uri": "https://localhost:8080/",
          "height": 34
        }
      },
      "source": [
        "112+25+24"
      ],
      "execution_count": 623,
      "outputs": [
        {
          "output_type": "execute_result",
          "data": {
            "text/plain": [
              "161"
            ]
          },
          "metadata": {
            "tags": []
          },
          "execution_count": 623
        }
      ]
    },
    {
      "cell_type": "code",
      "metadata": {
        "id": "6uhxnKishcW-",
        "colab_type": "code",
        "colab": {}
      },
      "source": [
        ""
      ],
      "execution_count": 0,
      "outputs": []
    },
    {
      "cell_type": "code",
      "metadata": {
        "id": "wZ2Es3qdtMT0",
        "colab_type": "code",
        "outputId": "c1f0799d-4590-498a-bd8e-c74faad0590c",
        "colab": {
          "base_uri": "https://localhost:8080/",
          "height": 1000
        }
      },
      "source": [
        "!pip list"
      ],
      "execution_count": 624,
      "outputs": [
        {
          "output_type": "stream",
          "text": [
            "Package                  Version    \n",
            "------------------------ -----------\n",
            "absl-py                  0.8.1      \n",
            "alabaster                0.7.12     \n",
            "albumentations           0.1.12     \n",
            "altair                   4.0.0      \n",
            "asgiref                  3.2.3      \n",
            "astor                    0.8.1      \n",
            "astropy                  3.0.5      \n",
            "atari-py                 0.2.6      \n",
            "atomicwrites             1.3.0      \n",
            "attrs                    19.3.0     \n",
            "audioread                2.1.8      \n",
            "autograd                 1.3        \n",
            "Babel                    2.7.0      \n",
            "backcall                 0.1.0      \n",
            "backports.tempfile       1.0        \n",
            "backports.weakref        1.0.post1  \n",
            "beautifulsoup4           4.6.3      \n",
            "bleach                   3.1.0      \n",
            "blis                     0.2.4      \n",
            "bokeh                    1.0.4      \n",
            "boto                     2.49.0     \n",
            "boto3                    1.10.40    \n",
            "botocore                 1.13.40    \n",
            "Bottleneck               1.3.1      \n",
            "branca                   0.3.1      \n",
            "bs4                      0.0.1      \n",
            "bz2file                  0.98       \n",
            "cachetools               4.0.0      \n",
            "certifi                  2019.11.28 \n",
            "cffi                     1.13.2     \n",
            "chainer                  6.5.0      \n",
            "chardet                  3.0.4      \n",
            "chart-studio             1.0.0      \n",
            "Click                    7.0        \n",
            "cloudpickle              1.2.2      \n",
            "cmake                    3.12.0     \n",
            "colorlover               0.3.0      \n",
            "community                1.0.0b1    \n",
            "contextlib2              0.5.5      \n",
            "convertdate              2.2.0      \n",
            "coverage                 3.7.1      \n",
            "coveralls                0.5        \n",
            "crcmod                   1.7        \n",
            "cufflinks                0.17.0     \n",
            "cvxopt                   1.2.3      \n",
            "cvxpy                    1.0.25     \n",
            "cycler                   0.10.0     \n",
            "cymem                    2.0.3      \n",
            "Cython                   0.29.14    \n",
            "daft                     0.0.4      \n",
            "dask                     1.1.5      \n",
            "dataclasses              0.7        \n",
            "datascience              0.10.6     \n",
            "decorator                4.4.1      \n",
            "defusedxml               0.6.0      \n",
            "descartes                1.1.0      \n",
            "dill                     0.3.1.1    \n",
            "distributed              1.25.3     \n",
            "Django                   3.0        \n",
            "dlib                     19.18.0    \n",
            "dm-sonnet                1.35       \n",
            "docopt                   0.6.2      \n",
            "docutils                 0.15.2     \n",
            "dopamine-rl              1.0.5      \n",
            "earthengine-api          0.1.208    \n",
            "easydict                 1.9        \n",
            "ecos                     2.0.7.post1\n",
            "editdistance             0.5.3      \n",
            "en-core-web-sm           2.1.0      \n",
            "entrypoints              0.3        \n",
            "et-xmlfile               1.0.1      \n",
            "fa2                      0.3.5      \n",
            "fancyimpute              0.4.3      \n",
            "fastai                   1.0.59     \n",
            "fastcache                1.1.0      \n",
            "fastdtw                  0.3.4      \n",
            "fastprogress             0.1.22     \n",
            "fastrlock                0.4        \n",
            "fbprophet                0.5        \n",
            "feather-format           0.4.0      \n",
            "featuretools             0.4.1      \n",
            "filelock                 3.0.12     \n",
            "fix-yahoo-finance        0.0.22     \n",
            "Flask                    1.1.1      \n",
            "folium                   0.8.3      \n",
            "fsspec                   0.6.2      \n",
            "future                   0.16.0     \n",
            "gast                     0.2.2      \n",
            "GDAL                     2.2.2      \n",
            "gdown                    3.6.4      \n",
            "gensim                   3.6.0      \n",
            "geographiclib            1.50       \n",
            "geopy                    1.17.0     \n",
            "gevent                   1.4.0      \n",
            "gin-config               0.2.1      \n",
            "glob2                    0.7        \n",
            "google                   2.0.3      \n",
            "google-api-core          1.15.0     \n",
            "google-api-python-client 1.7.11     \n",
            "google-auth              1.4.2      \n",
            "google-auth-httplib2     0.0.3      \n",
            "google-auth-oauthlib     0.4.1      \n",
            "google-cloud-bigquery    1.21.0     \n",
            "google-cloud-core        1.0.3      \n",
            "google-cloud-datastore   1.8.0      \n",
            "google-cloud-language    1.2.0      \n",
            "google-cloud-storage     1.16.2     \n",
            "google-cloud-translate   1.5.0      \n",
            "google-colab             1.0.0      \n",
            "google-pasta             0.1.8      \n",
            "google-resumable-media   0.4.1      \n",
            "googleapis-common-protos 1.6.0      \n",
            "googledrivedownloader    0.4        \n",
            "graph-nets               1.0.5      \n",
            "graphviz                 0.10.1     \n",
            "greenlet                 0.4.15     \n",
            "grpcio                   1.15.0     \n",
            "gspread                  3.0.1      \n",
            "gspread-dataframe        3.0.3      \n",
            "gunicorn                 20.0.4     \n",
            "gym                      0.15.4     \n",
            "h5py                     2.8.0      \n",
            "HeapDict                 1.0.1      \n",
            "holidays                 0.9.11     \n",
            "html5lib                 1.0.1      \n",
            "httpimport               0.5.18     \n",
            "httplib2                 0.11.3     \n",
            "humanize                 0.5.1      \n",
            "hyperopt                 0.1.2      \n",
            "ideep4py                 2.0.0.post3\n",
            "idna                     2.8        \n",
            "image                    1.5.27     \n",
            "imageio                  2.4.1      \n",
            "imagesize                1.1.0      \n",
            "imbalanced-learn         0.4.3      \n",
            "imblearn                 0.0        \n",
            "imgaug                   0.2.9      \n",
            "importlib-metadata       1.3.0      \n",
            "imutils                  0.5.3      \n",
            "inflect                  2.1.0      \n",
            "intel-openmp             2020.0.133 \n",
            "intervaltree             2.1.0      \n",
            "ipykernel                4.6.1      \n",
            "ipython                  5.5.0      \n",
            "ipython-genutils         0.2.0      \n",
            "ipython-sql              0.3.9      \n",
            "ipywidgets               7.5.1      \n",
            "itsdangerous             1.1.0      \n",
            "jax                      0.1.52     \n",
            "jaxlib                   0.1.36     \n",
            "jdcal                    1.4.1      \n",
            "jedi                     0.15.1     \n",
            "jieba                    0.39       \n",
            "Jinja2                   2.10.3     \n",
            "jmespath                 0.9.4      \n",
            "joblib                   0.14.1     \n",
            "jpeg4py                  0.1.4      \n",
            "jsonschema               2.6.0      \n",
            "jupyter                  1.0.0      \n",
            "jupyter-client           5.3.4      \n",
            "jupyter-console          5.2.0      \n",
            "jupyter-core             4.6.1      \n",
            "kaggle                   1.5.6      \n",
            "kapre                    0.1.3.1    \n",
            "Keras                    2.2.5      \n",
            "Keras-Applications       1.0.8      \n",
            "Keras-Preprocessing      1.1.0      \n",
            "keras-vis                0.4.1      \n",
            "kfac                     0.2.0      \n",
            "kiwisolver               1.1.0      \n",
            "knnimpute                0.1.0      \n",
            "librosa                  0.6.3      \n",
            "lightgbm                 2.2.3      \n",
            "llvmlite                 0.30.0     \n",
            "lmdb                     0.98       \n",
            "lucid                    0.3.8      \n",
            "lunardate                0.2.0      \n",
            "lxml                     4.2.6      \n",
            "magenta                  0.3.19     \n",
            "Markdown                 3.1.1      \n",
            "MarkupSafe               1.1.1      \n",
            "matplotlib               3.1.2      \n",
            "matplotlib-venn          0.11.5     \n",
            "mesh-tensorflow          0.1.7      \n",
            "mido                     1.2.6      \n",
            "mir-eval                 0.5        \n",
            "missingno                0.4.2      \n",
            "mistune                  0.8.4      \n",
            "mizani                   0.5.4      \n",
            "mkl                      2019.0     \n",
            "mlxtend                  0.14.0     \n",
            "more-itertools           8.0.2      \n",
            "moviepy                  0.2.3.5    \n",
            "mpi4py                   3.0.3      \n",
            "mpmath                   1.1.0      \n",
            "msgpack                  0.5.6      \n",
            "multiprocess             0.70.9     \n",
            "multitasking             0.0.9      \n",
            "murmurhash               1.0.2      \n",
            "music21                  5.5.0      \n",
            "natsort                  5.5.0      \n",
            "nbconvert                5.6.1      \n",
            "nbformat                 4.4.0      \n",
            "networkx                 2.4        \n",
            "nibabel                  2.3.3      \n",
            "nltk                     3.2.5      \n",
            "notebook                 5.2.2      \n",
            "np-utils                 0.5.12.1   \n",
            "numba                    0.40.1     \n",
            "numexpr                  2.7.0      \n",
            "numpy                    1.17.4     \n",
            "nvidia-ml-py3            7.352.0    \n",
            "oauth2client             4.1.3      \n",
            "oauthlib                 3.1.0      \n",
            "okgrade                  0.4.3      \n",
            "olefile                  0.46       \n",
            "opencv-contrib-python    4.1.2.30   \n",
            "opencv-python            4.1.2.30   \n",
            "openpyxl                 2.5.9      \n",
            "opt-einsum               3.1.0      \n",
            "osqp                     0.6.1      \n",
            "packaging                19.2       \n",
            "palettable               3.3.0      \n",
            "pandas                   0.25.3     \n",
            "pandas-datareader        0.7.4      \n",
            "pandas-gbq               0.11.0     \n",
            "pandas-profiling         1.4.1      \n",
            "pandocfilters            1.4.2      \n",
            "parso                    0.5.2      \n",
            "pathlib                  1.0.1      \n",
            "patsy                    0.5.1      \n",
            "pexpect                  4.7.0      \n",
            "pickleshare              0.7.5      \n",
            "Pillow                   4.3.0      \n",
            "pip                      19.3.1     \n",
            "pip-tools                4.2.0      \n",
            "plac                     0.9.6      \n",
            "plotly                   4.1.1      \n",
            "plotnine                 0.5.1      \n",
            "pluggy                   0.7.1      \n",
            "portpicker               1.2.0      \n",
            "prefetch-generator       1.0.1      \n",
            "preshed                  2.0.1      \n",
            "pretty-midi              0.2.8      \n",
            "prettytable              0.7.2      \n",
            "progressbar2             3.38.0     \n",
            "prometheus-client        0.7.1      \n",
            "promise                  2.2.1      \n",
            "prompt-toolkit           1.0.18     \n",
            "protobuf                 3.10.0     \n",
            "psutil                   5.4.8      \n",
            "psycopg2                 2.7.6.1    \n",
            "ptyprocess               0.6.0      \n",
            "py                       1.8.0      \n",
            "pyarrow                  0.14.1     \n",
            "pyasn1                   0.4.8      \n",
            "pyasn1-modules           0.2.7      \n",
            "pycocotools              2.0.0      \n",
            "pycparser                2.19       \n",
            "pydata-google-auth       0.2.1      \n",
            "pydot                    1.3.0      \n",
            "pydot-ng                 2.0.0      \n",
            "pydotplus                2.0.2      \n",
            "PyDrive                  1.3.1      \n",
            "pyemd                    0.5.1      \n",
            "pyglet                   1.3.2      \n",
            "Pygments                 2.1.3      \n",
            "pygobject                3.26.1     \n",
            "pymc3                    3.7        \n",
            "PyMeeus                  0.3.6      \n",
            "pymongo                  3.10.0     \n",
            "pymystem3                0.2.0      \n",
            "PyOpenGL                 3.1.4      \n",
            "pyparsing                2.4.5      \n",
            "pypng                    0.0.20     \n",
            "pyrsistent               0.15.6     \n",
            "pysndfile                1.3.8      \n",
            "PySocks                  1.7.1      \n",
            "pystan                   2.19.1.1   \n",
            "pytest                   3.6.4      \n",
            "python-apt               1.6.4      \n",
            "python-chess             0.23.11    \n",
            "python-dateutil          2.6.1      \n",
            "python-louvain           0.13       \n",
            "python-rtmidi            1.3.1      \n",
            "python-slugify           4.0.0      \n",
            "python-utils             2.3.0      \n",
            "pytz                     2018.9     \n",
            "PyWavelets               1.1.1      \n",
            "PyYAML                   3.13       \n",
            "pyzmq                    17.0.0     \n",
            "qtconsole                4.6.0      \n",
            "regex                    2019.12.9  \n",
            "requests                 2.21.0     \n",
            "requests-oauthlib        1.3.0      \n",
            "resampy                  0.2.2      \n",
            "retrying                 1.3.3      \n",
            "rpy2                     2.9.5      \n",
            "rsa                      4.0        \n",
            "s3fs                     0.4.0      \n",
            "s3transfer               0.2.1      \n",
            "scikit-image             0.15.0     \n",
            "scikit-learn             0.21.3     \n",
            "scipy                    1.3.3      \n",
            "screen-resolution-extra  0.0.0      \n",
            "scs                      2.1.1.post2\n",
            "seaborn                  0.9.0      \n",
            "semantic-version         2.8.3      \n",
            "Send2Trash               1.5.0      \n",
            "setuptools               42.0.2     \n",
            "setuptools-git           1.2        \n",
            "Shapely                  1.6.4.post2\n",
            "simplegeneric            0.8.1      \n",
            "six                      1.12.0     \n",
            "sklearn                  0.0        \n",
            "sklearn-pandas           1.8.0      \n",
            "smart-open               1.9.0      \n",
            "snowballstemmer          2.0.0      \n",
            "sortedcontainers         2.1.0      \n",
            "spacy                    2.1.9      \n",
            "Sphinx                   1.8.5      \n",
            "sphinxcontrib-websupport 1.1.2      \n",
            "SQLAlchemy               1.3.12     \n",
            "sqlparse                 0.3.0      \n",
            "srsly                    0.2.0      \n",
            "stable-baselines         2.2.1      \n",
            "statsmodels              0.10.2     \n",
            "sympy                    1.1.1      \n",
            "tables                   3.4.4      \n",
            "tabulate                 0.8.6      \n",
            "tblib                    1.6.0      \n",
            "tensor2tensor            1.14.1     \n",
            "tensorboard              1.15.0     \n",
            "tensorboardcolab         0.0.22     \n",
            "tensorflow               1.15.0     \n",
            "tensorflow-datasets      1.3.2      \n",
            "tensorflow-estimator     1.15.1     \n",
            "tensorflow-gan           2.0.0      \n",
            "tensorflow-hub           0.7.0      \n",
            "tensorflow-metadata      0.15.1     \n",
            "tensorflow-privacy       0.2.2      \n",
            "tensorflow-probability   0.7.0      \n",
            "termcolor                1.1.0      \n",
            "terminado                0.8.3      \n",
            "testpath                 0.4.4      \n",
            "text-unidecode           1.3        \n",
            "textblob                 0.15.3     \n",
            "textgenrnn               1.4.1      \n",
            "tflearn                  0.3.2      \n",
            "Theano                   1.0.4      \n",
            "thinc                    7.0.8      \n",
            "toolz                    0.10.0     \n",
            "torch                    1.3.1      \n",
            "torchsummary             1.5.1      \n",
            "torchtext                0.3.1      \n",
            "torchvision              0.4.2      \n",
            "tornado                  4.5.3      \n",
            "tqdm                     4.28.1     \n",
            "traitlets                4.3.3      \n",
            "tweepy                   3.6.0      \n",
            "typing                   3.6.6      \n",
            "typing-extensions        3.6.6      \n",
            "tzlocal                  1.5.1      \n",
            "umap-learn               0.3.10     \n",
            "uritemplate              3.0.0      \n",
            "urllib3                  1.24.3     \n",
            "vega-datasets            0.7.0      \n",
            "wasabi                   0.4.2      \n",
            "wcwidth                  0.1.7      \n",
            "webencodings             0.5.1      \n",
            "Werkzeug                 0.16.0     \n",
            "wheel                    0.33.6     \n",
            "widgetsnbextension       3.5.1      \n",
            "wordcloud                1.5.0      \n",
            "wrapt                    1.11.2     \n",
            "xarray                   0.11.3     \n",
            "xgboost                  0.90       \n",
            "xkit                     0.0.0      \n",
            "xlrd                     1.1.0      \n",
            "xlwt                     1.3.0      \n",
            "yellowbrick              0.9.1      \n",
            "zict                     1.0.0      \n",
            "zipp                     0.6.0      \n",
            "zmq                      0.0.0      \n"
          ],
          "name": "stdout"
        }
      ]
    },
    {
      "cell_type": "code",
      "metadata": {
        "id": "_62EAOsnEUl9",
        "colab_type": "code",
        "colab": {}
      },
      "source": [
        ""
      ],
      "execution_count": 0,
      "outputs": []
    }
  ]
}