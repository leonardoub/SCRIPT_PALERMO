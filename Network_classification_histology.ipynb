{
  "nbformat": 4,
  "nbformat_minor": 0,
  "metadata": {
    "colab": {
      "name": "Network_classification_histology.ipynb",
      "provenance": [],
      "include_colab_link": true
    },
    "kernelspec": {
      "name": "python3",
      "display_name": "Python 3"
    }
  },
  "cells": [
    {
      "cell_type": "markdown",
      "metadata": {
        "id": "view-in-github",
        "colab_type": "text"
      },
      "source": [
        "<a href=\"https://colab.research.google.com/github/leonardoub/SCRIPT_PALERMO/blob/master/Network_classification_histology.ipynb\" target=\"_parent\"><img src=\"https://colab.research.google.com/assets/colab-badge.svg\" alt=\"Open In Colab\"/></a>"
      ]
    },
    {
      "cell_type": "code",
      "metadata": {
        "id": "ck9uZtF_gzU7",
        "colab_type": "code",
        "colab": {}
      },
      "source": [
        "import pandas as pd\n",
        "import numpy as np\n",
        "import matplotlib.pyplot as plt\n",
        "import scipy"
      ],
      "execution_count": 0,
      "outputs": []
    },
    {
      "cell_type": "code",
      "metadata": {
        "id": "lyyNl4gxhEwD",
        "colab_type": "code",
        "outputId": "6de45434-2cad-476c-eb90-c47f4edb2d6a",
        "colab": {
          "base_uri": "https://localhost:8080/",
          "height": 141
        }
      },
      "source": [
        "#load data from Drive\n",
        "from google.colab import drive\n",
        "drive.mount('/gdrive', force_remount=True)\n",
        "%cd /gdrive"
      ],
      "execution_count": 2,
      "outputs": [
        {
          "output_type": "stream",
          "text": [
            "Go to this URL in a browser: https://accounts.google.com/o/oauth2/auth?client_id=947318989803-6bn6qk8qdgf4n4g3pfee6491hc0brc4i.apps.googleusercontent.com&redirect_uri=urn%3aietf%3awg%3aoauth%3a2.0%3aoob&response_type=code&scope=email%20https%3a%2f%2fwww.googleapis.com%2fauth%2fdocs.test%20https%3a%2f%2fwww.googleapis.com%2fauth%2fdrive%20https%3a%2f%2fwww.googleapis.com%2fauth%2fdrive.photos.readonly%20https%3a%2f%2fwww.googleapis.com%2fauth%2fpeopleapi.readonly\n",
            "\n",
            "Enter your authorization code:\n",
            "··········\n",
            "Mounted at /gdrive\n",
            "/gdrive\n"
          ],
          "name": "stdout"
        }
      ]
    },
    {
      "cell_type": "code",
      "metadata": {
        "id": "UCkUXesZhMzg",
        "colab_type": "code",
        "colab": {}
      },
      "source": [
        "train_dataset_path = '/gdrive/My Drive/AIM_PA/database_training2.csv'\n",
        "test_dataset_path = '/gdrive/My Drive/AIM_PA/database_nostro_without_nan.csv'"
      ],
      "execution_count": 0,
      "outputs": []
    },
    {
      "cell_type": "code",
      "metadata": {
        "id": "TczPxOpEhTXw",
        "colab_type": "code",
        "colab": {}
      },
      "source": [
        "df_train = pd.read_csv(train_dataset_path)\n",
        "df_test = pd.read_csv(test_dataset_path)"
      ],
      "execution_count": 0,
      "outputs": []
    },
    {
      "cell_type": "code",
      "metadata": {
        "id": "Ll-87QSVhqhj",
        "colab_type": "code",
        "colab": {}
      },
      "source": [
        "df_train.rename(columns={'Survival.time (months)':'Surv_time_months'}, inplace=True)"
      ],
      "execution_count": 0,
      "outputs": []
    },
    {
      "cell_type": "code",
      "metadata": {
        "id": "ulSbeCedhuxJ",
        "colab_type": "code",
        "colab": {}
      },
      "source": [
        "df_test.rename(columns={'Survival.time (months)':'Surv_time_months'}, inplace=True)"
      ],
      "execution_count": 0,
      "outputs": []
    },
    {
      "cell_type": "code",
      "metadata": {
        "id": "xbcwLGg3iNSn",
        "colab_type": "code",
        "colab": {}
      },
      "source": [
        "df_train.rename(columns={'Overall.Stage':'Overall_Stage'}, inplace=True)\n",
        "df_test.rename(columns={'Overall.Stage':'Overall_Stage'}, inplace=True)"
      ],
      "execution_count": 0,
      "outputs": []
    },
    {
      "cell_type": "code",
      "metadata": {
        "id": "oKKv4iKghWWn",
        "colab_type": "code",
        "colab": {}
      },
      "source": [
        "train_data = df_train.drop(['Histology', 'Surv_time_months', 'OS', 'deadstatus.event','Overall_Stage'], axis=1)"
      ],
      "execution_count": 0,
      "outputs": []
    },
    {
      "cell_type": "code",
      "metadata": {
        "id": "vQdR4izXiT0f",
        "colab_type": "code",
        "colab": {}
      },
      "source": [
        "test_data = df_test.drop(['Histology', 'Surv_time_months', 'OS', 'deadstatus.event','Overall_Stage'], axis=1)"
      ],
      "execution_count": 0,
      "outputs": []
    },
    {
      "cell_type": "code",
      "metadata": {
        "id": "Lu46pqnPhnCG",
        "colab_type": "code",
        "colab": {}
      },
      "source": [
        "train_labels = df_train.Histology"
      ],
      "execution_count": 0,
      "outputs": []
    },
    {
      "cell_type": "code",
      "metadata": {
        "id": "aS5wIylYmsQf",
        "colab_type": "code",
        "colab": {}
      },
      "source": [
        "test_labels = df_test.Histology"
      ],
      "execution_count": 0,
      "outputs": []
    },
    {
      "cell_type": "markdown",
      "metadata": {
        "id": "dtPx7PMDnXM3",
        "colab_type": "text"
      },
      "source": [
        "##Z score dei dati"
      ]
    },
    {
      "cell_type": "code",
      "metadata": {
        "id": "XK4Qji2EnVV4",
        "colab_type": "code",
        "colab": {}
      },
      "source": [
        "mean = train_data.mean(axis=0)\n",
        "train_data_stand = train_data - mean\n",
        "std = train_data.std(axis=0)\n",
        "train_data_stand /= std"
      ],
      "execution_count": 0,
      "outputs": []
    },
    {
      "cell_type": "code",
      "metadata": {
        "id": "YOVOoNOvm0Yx",
        "colab_type": "code",
        "colab": {}
      },
      "source": [
        "test_data_stand = test_data - mean\n",
        "test_data_stand /= std"
      ],
      "execution_count": 0,
      "outputs": []
    },
    {
      "cell_type": "markdown",
      "metadata": {
        "id": "00VohsAyokpq",
        "colab_type": "text"
      },
      "source": [
        "##Vettorizzare i label"
      ]
    },
    {
      "cell_type": "code",
      "metadata": {
        "id": "8RvS_9ISpxRi",
        "colab_type": "code",
        "colab": {}
      },
      "source": [
        "word_index={'adenocarcinoma':0, 'large cell':1, 'squamous cell carcinoma':2}"
      ],
      "execution_count": 0,
      "outputs": []
    },
    {
      "cell_type": "code",
      "metadata": {
        "id": "uiPW9U0XrWY2",
        "colab_type": "code",
        "colab": {}
      },
      "source": [
        "train_labels_dec = [word_index[label] for label in train_labels]"
      ],
      "execution_count": 0,
      "outputs": []
    },
    {
      "cell_type": "code",
      "metadata": {
        "id": "C4SBiKFQsKFw",
        "colab_type": "code",
        "colab": {}
      },
      "source": [
        "test_labels_dec = [word_index[label] for label in test_labels]"
      ],
      "execution_count": 0,
      "outputs": []
    },
    {
      "cell_type": "code",
      "metadata": {
        "id": "0IMbTYR7okJq",
        "colab_type": "code",
        "outputId": "26e8fd40-81be-4b53-89c3-b4accf319e45",
        "colab": {
          "base_uri": "https://localhost:8080/",
          "height": 81
        }
      },
      "source": [
        "from keras.utils.np_utils import to_categorical"
      ],
      "execution_count": 17,
      "outputs": [
        {
          "output_type": "stream",
          "text": [
            "Using TensorFlow backend.\n"
          ],
          "name": "stderr"
        },
        {
          "output_type": "display_data",
          "data": {
            "text/html": [
              "<p style=\"color: red;\">\n",
              "The default version of TensorFlow in Colab will soon switch to TensorFlow 2.x.<br>\n",
              "We recommend you <a href=\"https://www.tensorflow.org/guide/migrate\" target=\"_blank\">upgrade</a> now \n",
              "or ensure your notebook will continue to use TensorFlow 1.x via the <code>%tensorflow_version 1.x</code> magic:\n",
              "<a href=\"https://colab.research.google.com/notebooks/tensorflow_version.ipynb\" target=\"_blank\">more info</a>.</p>\n"
            ],
            "text/plain": [
              "<IPython.core.display.HTML object>"
            ]
          },
          "metadata": {
            "tags": []
          }
        }
      ]
    },
    {
      "cell_type": "code",
      "metadata": {
        "id": "0Frv4FDNn6Qu",
        "colab_type": "code",
        "colab": {}
      },
      "source": [
        "one_hot_train_labels = to_categorical(train_labels_dec)\n",
        "one_hot_test_labels = to_categorical(test_labels_dec)"
      ],
      "execution_count": 0,
      "outputs": []
    },
    {
      "cell_type": "markdown",
      "metadata": {
        "id": "Mn0tkOGc3LKN",
        "colab_type": "text"
      },
      "source": [
        "#PCA"
      ]
    },
    {
      "cell_type": "code",
      "metadata": {
        "id": "oS76u6iu3Seg",
        "colab_type": "code",
        "colab": {}
      },
      "source": [
        "from sklearn.decomposition import PCA"
      ],
      "execution_count": 0,
      "outputs": []
    },
    {
      "cell_type": "code",
      "metadata": {
        "id": "KCjC4zqJ3bui",
        "colab_type": "code",
        "colab": {}
      },
      "source": [
        "pca = PCA(n_components=0.95, svd_solver='full')"
      ],
      "execution_count": 0,
      "outputs": []
    },
    {
      "cell_type": "code",
      "metadata": {
        "id": "dLUCf9qX4p_e",
        "colab_type": "code",
        "outputId": "8a281cd9-c4c0-4489-c48e-7c450eab9935",
        "colab": {
          "base_uri": "https://localhost:8080/",
          "height": 52
        }
      },
      "source": [
        "pca.fit(train_data_stand)"
      ],
      "execution_count": 21,
      "outputs": [
        {
          "output_type": "execute_result",
          "data": {
            "text/plain": [
              "PCA(copy=True, iterated_power='auto', n_components=0.95, random_state=None,\n",
              "    svd_solver='full', tol=0.0, whiten=False)"
            ]
          },
          "metadata": {
            "tags": []
          },
          "execution_count": 21
        }
      ]
    },
    {
      "cell_type": "code",
      "metadata": {
        "id": "QfyaKgNZ44o3",
        "colab_type": "code",
        "colab": {}
      },
      "source": [
        "train_data_stand_pca = pca.transform(train_data_stand)\n",
        "test_data_stand_pca = pca.transform(test_data_stand)"
      ],
      "execution_count": 0,
      "outputs": []
    },
    {
      "cell_type": "code",
      "metadata": {
        "id": "Uz9C4nl05b_g",
        "colab_type": "code",
        "outputId": "839d131f-d4dd-4837-9c07-e20762f306d8",
        "colab": {
          "base_uri": "https://localhost:8080/",
          "height": 34
        }
      },
      "source": [
        "type(train_data_stand_pca)"
      ],
      "execution_count": 23,
      "outputs": [
        {
          "output_type": "execute_result",
          "data": {
            "text/plain": [
              "numpy.ndarray"
            ]
          },
          "metadata": {
            "tags": []
          },
          "execution_count": 23
        }
      ]
    },
    {
      "cell_type": "markdown",
      "metadata": {
        "id": "8wSKvSu4s5ip",
        "colab_type": "text"
      },
      "source": [
        "#Building Network"
      ]
    },
    {
      "cell_type": "code",
      "metadata": {
        "id": "1tX_y6KKs3pM",
        "colab_type": "code",
        "colab": {}
      },
      "source": [
        "from keras import models"
      ],
      "execution_count": 0,
      "outputs": []
    },
    {
      "cell_type": "code",
      "metadata": {
        "id": "ShwM6YMqsxxJ",
        "colab_type": "code",
        "colab": {}
      },
      "source": [
        "from keras import layers"
      ],
      "execution_count": 0,
      "outputs": []
    },
    {
      "cell_type": "code",
      "metadata": {
        "id": "7OAEgN31tHVV",
        "colab_type": "code",
        "colab": {}
      },
      "source": [
        "def build_model():\n",
        "  model = models.Sequential()\n",
        "  model.add(layers.Dense(8, activation='relu', input_shape=(14,)))\n",
        "  model.add(layers.Dense(6, activation='relu'))\n",
        "  model.add(layers.Dense(3, activation='softmax'))\n",
        "  model.compile(optimizer='rmsprop', loss='categorical_crossentropy', metrics=['accuracy'])\n",
        "  return model"
      ],
      "execution_count": 0,
      "outputs": []
    },
    {
      "cell_type": "markdown",
      "metadata": {
        "id": "mIxDu50pBeiz",
        "colab_type": "text"
      },
      "source": [
        "#Stratified k-fold"
      ]
    },
    {
      "cell_type": "markdown",
      "metadata": {
        "id": "ZyLcvedUBpxA",
        "colab_type": "text"
      },
      "source": [
        "This cross-validation object is a variation of KFold that returns stratified folds. The folds are made by preserving the percentage of samples for each class."
      ]
    },
    {
      "cell_type": "code",
      "metadata": {
        "id": "fY1apcZ19gFp",
        "colab_type": "code",
        "colab": {}
      },
      "source": [
        "from sklearn.model_selection import StratifiedKFold"
      ],
      "execution_count": 0,
      "outputs": []
    },
    {
      "cell_type": "code",
      "metadata": {
        "id": "oaBDM-PtBx5V",
        "colab_type": "code",
        "outputId": "8e205e2a-183b-40b5-926d-3ebfdeb165eb",
        "colab": {
          "base_uri": "https://localhost:8080/",
          "height": 34
        }
      },
      "source": [
        "skf = StratifiedKFold(n_splits=3, shuffle=True, random_state=1)\n",
        "skf.get_n_splits(train_data_stand_pca, train_labels_dec)"
      ],
      "execution_count": 28,
      "outputs": [
        {
          "output_type": "execute_result",
          "data": {
            "text/plain": [
              "3"
            ]
          },
          "metadata": {
            "tags": []
          },
          "execution_count": 28
        }
      ]
    },
    {
      "cell_type": "code",
      "metadata": {
        "id": "Me-XQzPyD1gi",
        "colab_type": "code",
        "outputId": "83cba05e-a115-4e4a-aea3-2d51e588d88b",
        "colab": {
          "base_uri": "https://localhost:8080/",
          "height": 382
        }
      },
      "source": [
        "for train_index, test_index in skf.split(train_data_stand_pca, train_labels_dec):\n",
        "    print(\"TRAIN:\", train_index, \"TEST:\", test_index)"
      ],
      "execution_count": 29,
      "outputs": [
        {
          "output_type": "stream",
          "text": [
            "TRAIN: [  0   1   4   5   8   9  11  12  14  15  16  17  19  20  22  23  24  25\n",
            "  27  29  30  33  34  36  37  38  39  40  41  42  44  45  46  48  51  52\n",
            "  53  56  57  58  59  60  62  63  65  66  67  69  72  76  77  78  79  80\n",
            "  81  83  84  85  87  88  89  90  92  96  97  98 100 101 102 103 104 105\n",
            " 107 109 110 111 113 115 117 120 121 122 124 125 127 128] TEST: [  2   3   6   7  10  13  18  21  26  28  31  32  35  43  47  49  50  54\n",
            "  55  61  64  68  70  71  73  74  75  82  86  91  93  94  95  99 106 108\n",
            " 112 114 116 118 119 123 126 129 130]\n",
            "TRAIN: [  2   3   5   6   7   8   9  10  11  12  13  18  20  21  25  26  27  28\n",
            "  29  30  31  32  34  35  36  38  39  43  44  45  46  47  48  49  50  53\n",
            "  54  55  57  58  61  63  64  65  66  68  70  71  73  74  75  76  78  82\n",
            "  84  85  86  87  90  91  92  93  94  95  96  99 100 101 102 105 106 108\n",
            " 109 111 112 114 115 116 118 119 122 123 124 125 126 127 129 130] TEST: [  0   1   4  14  15  16  17  19  22  23  24  33  37  40  41  42  51  52\n",
            "  56  59  60  62  67  69  72  77  79  80  81  83  88  89  97  98 103 104\n",
            " 107 110 113 117 120 121 128]\n",
            "TRAIN: [  0   1   2   3   4   6   7  10  13  14  15  16  17  18  19  21  22  23\n",
            "  24  26  28  31  32  33  35  37  40  41  42  43  47  49  50  51  52  54\n",
            "  55  56  59  60  61  62  64  67  68  69  70  71  72  73  74  75  77  79\n",
            "  80  81  82  83  86  88  89  91  93  94  95  97  98  99 103 104 106 107\n",
            " 108 110 112 113 114 116 117 118 119 120 121 123 126 128 129 130] TEST: [  5   8   9  11  12  20  25  27  29  30  34  36  38  39  44  45  46  48\n",
            "  53  57  58  63  65  66  76  78  84  85  87  90  92  96 100 101 102 105\n",
            " 109 111 115 122 124 125 127]\n"
          ],
          "name": "stdout"
        }
      ]
    },
    {
      "cell_type": "code",
      "metadata": {
        "id": "BgdGK-8FK-U_",
        "colab_type": "code",
        "outputId": "d81261ef-fede-49b7-f4ea-61e070c394a3",
        "colab": {
          "base_uri": "https://localhost:8080/",
          "height": 34
        }
      },
      "source": [
        "train_labels_dec[125]"
      ],
      "execution_count": 30,
      "outputs": [
        {
          "output_type": "execute_result",
          "data": {
            "text/plain": [
              "2"
            ]
          },
          "metadata": {
            "tags": []
          },
          "execution_count": 30
        }
      ]
    },
    {
      "cell_type": "code",
      "metadata": {
        "id": "a81MOfNlJCY8",
        "colab_type": "code",
        "colab": {}
      },
      "source": [
        "num_epochs = 20\n",
        "all_scores = []"
      ],
      "execution_count": 0,
      "outputs": []
    },
    {
      "cell_type": "code",
      "metadata": {
        "id": "sBJg0XD4Shhc",
        "colab_type": "code",
        "colab": {}
      },
      "source": [
        "from keras.utils.np_utils import to_categorical"
      ],
      "execution_count": 0,
      "outputs": []
    },
    {
      "cell_type": "code",
      "metadata": {
        "id": "a5Sq8r9GEPx3",
        "colab_type": "code",
        "outputId": "03c2306e-e541-4486-85e3-efb983d391af",
        "colab": {
          "base_uri": "https://localhost:8080/",
          "height": 1000
        }
      },
      "source": [
        "for train_index, val_index in skf.split(train_data_stand_pca, train_labels_dec):\n",
        " \n",
        "  partial_train_data = np.array([train_data_stand_pca[i] for i in train_index])\n",
        "  partial_train_targets = np.array([train_labels_dec[i] for i in train_index])\n",
        "  \n",
        "  val_data = np.array([train_data_stand_pca[i] for i in val_index])\n",
        "  val_targets = np.array([train_labels_dec[i] for i in val_index])\n",
        "\n",
        "  one_hot_partial_train_targets = to_categorical(partial_train_targets)\n",
        "  one_hot_val_targets = to_categorical(val_targets)\n",
        "\n",
        "  model = build_model()\n",
        "  model.fit(partial_train_data, one_hot_partial_train_targets, epochs = num_epochs, batch_size=1)\n",
        "\n",
        "  val_loss, val_accuracy = model.evaluate(val_data, one_hot_val_targets)\n",
        "  all_scores.append(val_accuracy)\n",
        "#I parametri per la valutazione vengono calcolati una volta per ogni k-fold, per ogni set di validazione, quindi k volte"
      ],
      "execution_count": 33,
      "outputs": [
        {
          "output_type": "stream",
          "text": [
            "WARNING:tensorflow:From /usr/local/lib/python3.6/dist-packages/keras/backend/tensorflow_backend.py:66: The name tf.get_default_graph is deprecated. Please use tf.compat.v1.get_default_graph instead.\n",
            "\n",
            "WARNING:tensorflow:From /usr/local/lib/python3.6/dist-packages/keras/backend/tensorflow_backend.py:541: The name tf.placeholder is deprecated. Please use tf.compat.v1.placeholder instead.\n",
            "\n",
            "WARNING:tensorflow:From /usr/local/lib/python3.6/dist-packages/keras/backend/tensorflow_backend.py:4432: The name tf.random_uniform is deprecated. Please use tf.random.uniform instead.\n",
            "\n",
            "WARNING:tensorflow:From /usr/local/lib/python3.6/dist-packages/keras/optimizers.py:793: The name tf.train.Optimizer is deprecated. Please use tf.compat.v1.train.Optimizer instead.\n",
            "\n",
            "WARNING:tensorflow:From /usr/local/lib/python3.6/dist-packages/keras/backend/tensorflow_backend.py:3576: The name tf.log is deprecated. Please use tf.math.log instead.\n",
            "\n",
            "WARNING:tensorflow:From /usr/local/lib/python3.6/dist-packages/tensorflow_core/python/ops/math_grad.py:1424: where (from tensorflow.python.ops.array_ops) is deprecated and will be removed in a future version.\n",
            "Instructions for updating:\n",
            "Use tf.where in 2.0, which has the same broadcast rule as np.where\n",
            "WARNING:tensorflow:From /usr/local/lib/python3.6/dist-packages/keras/backend/tensorflow_backend.py:1033: The name tf.assign_add is deprecated. Please use tf.compat.v1.assign_add instead.\n",
            "\n",
            "WARNING:tensorflow:From /usr/local/lib/python3.6/dist-packages/keras/backend/tensorflow_backend.py:1020: The name tf.assign is deprecated. Please use tf.compat.v1.assign instead.\n",
            "\n",
            "WARNING:tensorflow:From /usr/local/lib/python3.6/dist-packages/keras/backend/tensorflow_backend.py:3005: The name tf.Session is deprecated. Please use tf.compat.v1.Session instead.\n",
            "\n",
            "Epoch 1/20\n",
            "WARNING:tensorflow:From /usr/local/lib/python3.6/dist-packages/keras/backend/tensorflow_backend.py:190: The name tf.get_default_session is deprecated. Please use tf.compat.v1.get_default_session instead.\n",
            "\n",
            "WARNING:tensorflow:From /usr/local/lib/python3.6/dist-packages/keras/backend/tensorflow_backend.py:197: The name tf.ConfigProto is deprecated. Please use tf.compat.v1.ConfigProto instead.\n",
            "\n",
            "WARNING:tensorflow:From /usr/local/lib/python3.6/dist-packages/keras/backend/tensorflow_backend.py:207: The name tf.global_variables is deprecated. Please use tf.compat.v1.global_variables instead.\n",
            "\n",
            "WARNING:tensorflow:From /usr/local/lib/python3.6/dist-packages/keras/backend/tensorflow_backend.py:216: The name tf.is_variable_initialized is deprecated. Please use tf.compat.v1.is_variable_initialized instead.\n",
            "\n",
            "WARNING:tensorflow:From /usr/local/lib/python3.6/dist-packages/keras/backend/tensorflow_backend.py:223: The name tf.variables_initializer is deprecated. Please use tf.compat.v1.variables_initializer instead.\n",
            "\n",
            "86/86 [==============================] - 1s 8ms/step - loss: 1.8842 - acc: 0.5349\n",
            "Epoch 2/20\n",
            "86/86 [==============================] - 0s 1ms/step - loss: 1.6687 - acc: 0.5349\n",
            "Epoch 3/20\n",
            "86/86 [==============================] - 0s 1ms/step - loss: 1.4838 - acc: 0.5233\n",
            "Epoch 4/20\n",
            "86/86 [==============================] - 0s 1ms/step - loss: 1.3292 - acc: 0.5349\n",
            "Epoch 5/20\n",
            "86/86 [==============================] - 0s 1ms/step - loss: 1.2279 - acc: 0.5465\n",
            "Epoch 6/20\n",
            "86/86 [==============================] - 0s 1ms/step - loss: 1.1586 - acc: 0.5930\n",
            "Epoch 7/20\n",
            "86/86 [==============================] - 0s 1ms/step - loss: 1.1060 - acc: 0.5698\n",
            "Epoch 8/20\n",
            "86/86 [==============================] - 0s 1ms/step - loss: 1.0591 - acc: 0.5698\n",
            "Epoch 9/20\n",
            "86/86 [==============================] - 0s 1ms/step - loss: 1.0204 - acc: 0.5698\n",
            "Epoch 10/20\n",
            "86/86 [==============================] - 0s 1ms/step - loss: 0.9906 - acc: 0.5698\n",
            "Epoch 11/20\n",
            "86/86 [==============================] - 0s 1ms/step - loss: 0.9672 - acc: 0.5698\n",
            "Epoch 12/20\n",
            "86/86 [==============================] - 0s 1ms/step - loss: 0.9483 - acc: 0.6047\n",
            "Epoch 13/20\n",
            "86/86 [==============================] - 0s 1ms/step - loss: 0.9220 - acc: 0.5814\n",
            "Epoch 14/20\n",
            "86/86 [==============================] - 0s 1ms/step - loss: 0.9040 - acc: 0.5698\n",
            "Epoch 15/20\n",
            "86/86 [==============================] - 0s 1ms/step - loss: 0.8904 - acc: 0.5698\n",
            "Epoch 16/20\n",
            "86/86 [==============================] - 0s 1ms/step - loss: 0.8723 - acc: 0.5930\n",
            "Epoch 17/20\n",
            "86/86 [==============================] - 0s 1ms/step - loss: 0.8600 - acc: 0.6047\n",
            "Epoch 18/20\n",
            "86/86 [==============================] - 0s 1ms/step - loss: 0.8392 - acc: 0.6279\n",
            "Epoch 19/20\n",
            "86/86 [==============================] - 0s 1ms/step - loss: 0.8397 - acc: 0.6279\n",
            "Epoch 20/20\n",
            "86/86 [==============================] - 0s 1ms/step - loss: 0.8351 - acc: 0.6395\n",
            "45/45 [==============================] - 0s 753us/step\n",
            "Epoch 1/20\n",
            "88/88 [==============================] - 0s 3ms/step - loss: 1.2532 - acc: 0.3977\n",
            "Epoch 2/20\n",
            "88/88 [==============================] - 0s 1ms/step - loss: 1.1044 - acc: 0.4205\n",
            "Epoch 3/20\n",
            "88/88 [==============================] - 0s 1ms/step - loss: 1.0199 - acc: 0.4318\n",
            "Epoch 4/20\n",
            "88/88 [==============================] - 0s 993us/step - loss: 0.9714 - acc: 0.4545\n",
            "Epoch 5/20\n",
            "88/88 [==============================] - 0s 1ms/step - loss: 0.9399 - acc: 0.4432\n",
            "Epoch 6/20\n",
            "88/88 [==============================] - 0s 984us/step - loss: 0.9195 - acc: 0.5114\n",
            "Epoch 7/20\n",
            "88/88 [==============================] - 0s 1ms/step - loss: 0.9019 - acc: 0.5682\n",
            "Epoch 8/20\n",
            "88/88 [==============================] - 0s 1ms/step - loss: 0.8904 - acc: 0.5568\n",
            "Epoch 9/20\n",
            "88/88 [==============================] - 0s 1ms/step - loss: 0.8759 - acc: 0.5341\n",
            "Epoch 10/20\n",
            "88/88 [==============================] - 0s 1ms/step - loss: 0.8702 - acc: 0.5795\n",
            "Epoch 11/20\n",
            "88/88 [==============================] - 0s 995us/step - loss: 0.8604 - acc: 0.5682\n",
            "Epoch 12/20\n",
            "88/88 [==============================] - 0s 1ms/step - loss: 0.8500 - acc: 0.5455\n",
            "Epoch 13/20\n",
            "88/88 [==============================] - 0s 1ms/step - loss: 0.8420 - acc: 0.5455\n",
            "Epoch 14/20\n",
            "88/88 [==============================] - 0s 1ms/step - loss: 0.8311 - acc: 0.6250\n",
            "Epoch 15/20\n",
            "88/88 [==============================] - 0s 1ms/step - loss: 0.8244 - acc: 0.6023\n",
            "Epoch 16/20\n",
            "88/88 [==============================] - 0s 1ms/step - loss: 0.8167 - acc: 0.6136\n",
            "Epoch 17/20\n",
            "88/88 [==============================] - 0s 1ms/step - loss: 0.8063 - acc: 0.6136\n",
            "Epoch 18/20\n",
            "88/88 [==============================] - 0s 1ms/step - loss: 0.8000 - acc: 0.6136\n",
            "Epoch 19/20\n",
            "88/88 [==============================] - 0s 1ms/step - loss: 0.7906 - acc: 0.6136\n",
            "Epoch 20/20\n",
            "88/88 [==============================] - 0s 1ms/step - loss: 0.7894 - acc: 0.6364\n",
            "43/43 [==============================] - 0s 777us/step\n",
            "Epoch 1/20\n",
            "88/88 [==============================] - 0s 3ms/step - loss: 1.0708 - acc: 0.4432\n",
            "Epoch 2/20\n",
            "88/88 [==============================] - 0s 1ms/step - loss: 1.0347 - acc: 0.4773\n",
            "Epoch 3/20\n",
            "88/88 [==============================] - 0s 1ms/step - loss: 1.0076 - acc: 0.5114\n",
            "Epoch 4/20\n",
            "88/88 [==============================] - 0s 1ms/step - loss: 0.9887 - acc: 0.5000\n",
            "Epoch 5/20\n",
            "88/88 [==============================] - 0s 1ms/step - loss: 0.9710 - acc: 0.5227\n",
            "Epoch 6/20\n",
            "88/88 [==============================] - 0s 1ms/step - loss: 0.9572 - acc: 0.5341\n",
            "Epoch 7/20\n",
            "88/88 [==============================] - 0s 1ms/step - loss: 0.9457 - acc: 0.5341\n",
            "Epoch 8/20\n",
            "88/88 [==============================] - 0s 1ms/step - loss: 0.9358 - acc: 0.5341\n",
            "Epoch 9/20\n",
            "88/88 [==============================] - 0s 1ms/step - loss: 0.9220 - acc: 0.5568\n",
            "Epoch 10/20\n",
            "88/88 [==============================] - 0s 997us/step - loss: 0.9133 - acc: 0.5568\n",
            "Epoch 11/20\n",
            "88/88 [==============================] - 0s 1ms/step - loss: 0.9121 - acc: 0.5795\n",
            "Epoch 12/20\n",
            "88/88 [==============================] - 0s 1ms/step - loss: 0.9009 - acc: 0.5682\n",
            "Epoch 13/20\n",
            "88/88 [==============================] - 0s 1ms/step - loss: 0.8938 - acc: 0.5682\n",
            "Epoch 14/20\n",
            "88/88 [==============================] - 0s 1ms/step - loss: 0.8869 - acc: 0.5682\n",
            "Epoch 15/20\n",
            "88/88 [==============================] - 0s 1ms/step - loss: 0.8800 - acc: 0.5682\n",
            "Epoch 16/20\n",
            "88/88 [==============================] - 0s 1ms/step - loss: 0.8765 - acc: 0.5455\n",
            "Epoch 17/20\n",
            "88/88 [==============================] - 0s 1ms/step - loss: 0.8677 - acc: 0.5568\n",
            "Epoch 18/20\n",
            "88/88 [==============================] - 0s 1ms/step - loss: 0.8575 - acc: 0.5682\n",
            "Epoch 19/20\n",
            "88/88 [==============================] - 0s 1ms/step - loss: 0.8524 - acc: 0.5682\n",
            "Epoch 20/20\n",
            "88/88 [==============================] - 0s 1ms/step - loss: 0.8494 - acc: 0.5795\n",
            "43/43 [==============================] - 0s 1ms/step\n"
          ],
          "name": "stdout"
        }
      ]
    },
    {
      "cell_type": "markdown",
      "metadata": {
        "id": "2X5B3lasRcsR",
        "colab_type": "text"
      },
      "source": [
        "C'è un problema: keras.utils.to_categorical produces a one-hot encoded class vector, i.e. the multilabel-indicator mentioned in the error message. StratifiedKFold is not designed to work with such input; i.e. your y must be a 1-D array of your class labels.\n",
        "Essentially, what you have to do is simply to invert the order of the operations: split first (using your intial y_train), and convert to_categorical afterwards."
      ]
    },
    {
      "cell_type": "code",
      "metadata": {
        "id": "UrLjY-KhRcDO",
        "colab_type": "code",
        "outputId": "bffe72fe-a606-47b0-e72c-1dc4a928a754",
        "colab": {
          "base_uri": "https://localhost:8080/",
          "height": 34
        }
      },
      "source": [
        "all_scores"
      ],
      "execution_count": 34,
      "outputs": [
        {
          "output_type": "execute_result",
          "data": {
            "text/plain": [
              "[0.511111111773385, 0.4883720971817194, 0.6046511683353158]"
            ]
          },
          "metadata": {
            "tags": []
          },
          "execution_count": 34
        }
      ]
    },
    {
      "cell_type": "code",
      "metadata": {
        "id": "8K8a1I3yU9FS",
        "colab_type": "code",
        "outputId": "c5abf545-e0b4-4611-dc67-daa6cc7cf86a",
        "colab": {
          "base_uri": "https://localhost:8080/",
          "height": 1000
        }
      },
      "source": [
        "num_epochs = 30\n",
        "all_acc_histories = []\n",
        "all_loss_histories = []\n",
        "all_val_acc_histories = []\n",
        "all_val_loss_histories = []\n",
        "\n",
        "for train_index, val_index in skf.split(train_data_stand_pca, train_labels_dec):\n",
        " \n",
        "  partial_train_data = np.array([train_data_stand_pca[i] for i in train_index])\n",
        "  partial_train_targets = np.array([train_labels_dec[i] for i in train_index])\n",
        "  \n",
        "  val_data = np.array([train_data_stand_pca[i] for i in val_index])\n",
        "  val_targets = np.array([train_labels_dec[i] for i in val_index])\n",
        "\n",
        "  one_hot_partial_train_targets = to_categorical(partial_train_targets)\n",
        "  one_hot_val_targets = to_categorical(val_targets)\n",
        "\n",
        "  model = build_model()\n",
        "  history = model.fit(partial_train_data, one_hot_partial_train_targets, validation_data=(val_data, one_hot_val_targets), \n",
        "                      epochs= num_epochs, batch_size=1)\n",
        "  \n",
        "  acc_history = history.history['acc']\n",
        "  all_acc_histories.append(acc_history)\n",
        "\n",
        "  loss_history = history.history['loss']\n",
        "  all_loss_histories.append(loss_history)\n",
        "\n",
        "  acc_val_history = history.history['val_acc']\n",
        "  all_val_acc_histories.append(acc_val_history)\n",
        "\n",
        "  loss_val_history = history.history['val_loss']\n",
        "  all_val_loss_histories.append(loss_val_history)\n",
        "  \n",
        "\n",
        "#I parametri per la valutazione vengono calcolati per ogni epoca, quindi num_epochs volte. \n",
        "#Il tutto viene ripetuto un numero di volte pari a n_splits.\n",
        "#Si ottiene una lista con n_splits elementi ciascuno dei quali è una lista lunga num_epochs,\n",
        "#ogni elemento può essere uno fra questi: dict_keys(['val_loss', 'val_acc', 'loss', 'acc']) "
      ],
      "execution_count": 47,
      "outputs": [
        {
          "output_type": "stream",
          "text": [
            "Train on 86 samples, validate on 45 samples\n",
            "Epoch 1/30\n",
            "86/86 [==============================] - 1s 7ms/step - loss: 1.7761 - acc: 0.2674 - val_loss: 2.1653 - val_acc: 0.2000\n",
            "Epoch 2/30\n",
            "86/86 [==============================] - 0s 2ms/step - loss: 1.5206 - acc: 0.3837 - val_loss: 1.9457 - val_acc: 0.2667\n",
            "Epoch 3/30\n",
            "86/86 [==============================] - 0s 2ms/step - loss: 1.3746 - acc: 0.5116 - val_loss: 1.7949 - val_acc: 0.3556\n",
            "Epoch 4/30\n",
            "86/86 [==============================] - 0s 2ms/step - loss: 1.2786 - acc: 0.5814 - val_loss: 1.6880 - val_acc: 0.4000\n",
            "Epoch 5/30\n",
            "86/86 [==============================] - 0s 1ms/step - loss: 1.2033 - acc: 0.6163 - val_loss: 1.6043 - val_acc: 0.4000\n",
            "Epoch 6/30\n",
            "86/86 [==============================] - 0s 1ms/step - loss: 1.1388 - acc: 0.6163 - val_loss: 1.5369 - val_acc: 0.4222\n",
            "Epoch 7/30\n",
            "86/86 [==============================] - 0s 1ms/step - loss: 1.0848 - acc: 0.5814 - val_loss: 1.4868 - val_acc: 0.4444\n",
            "Epoch 8/30\n",
            "86/86 [==============================] - 0s 2ms/step - loss: 1.0464 - acc: 0.6047 - val_loss: 1.4505 - val_acc: 0.4444\n",
            "Epoch 9/30\n",
            "86/86 [==============================] - 0s 1ms/step - loss: 1.0138 - acc: 0.6163 - val_loss: 1.4222 - val_acc: 0.4444\n",
            "Epoch 10/30\n",
            "86/86 [==============================] - 0s 1ms/step - loss: 0.9799 - acc: 0.6279 - val_loss: 1.4049 - val_acc: 0.4667\n",
            "Epoch 11/30\n",
            "86/86 [==============================] - 0s 2ms/step - loss: 0.9562 - acc: 0.6279 - val_loss: 1.3825 - val_acc: 0.4667\n",
            "Epoch 12/30\n",
            "86/86 [==============================] - 0s 1ms/step - loss: 0.9324 - acc: 0.6279 - val_loss: 1.3760 - val_acc: 0.4667\n",
            "Epoch 13/30\n",
            "86/86 [==============================] - 0s 1ms/step - loss: 0.9107 - acc: 0.6279 - val_loss: 1.3626 - val_acc: 0.4889\n",
            "Epoch 14/30\n",
            "86/86 [==============================] - 0s 2ms/step - loss: 0.8945 - acc: 0.6395 - val_loss: 1.3658 - val_acc: 0.4889\n",
            "Epoch 15/30\n",
            "86/86 [==============================] - 0s 1ms/step - loss: 0.8755 - acc: 0.6395 - val_loss: 1.3609 - val_acc: 0.4889\n",
            "Epoch 16/30\n",
            "86/86 [==============================] - 0s 1ms/step - loss: 0.8607 - acc: 0.6628 - val_loss: 1.3697 - val_acc: 0.4889\n",
            "Epoch 17/30\n",
            "86/86 [==============================] - 0s 2ms/step - loss: 0.8622 - acc: 0.6512 - val_loss: 1.3803 - val_acc: 0.4889\n",
            "Epoch 18/30\n",
            "86/86 [==============================] - 0s 1ms/step - loss: 0.8451 - acc: 0.6628 - val_loss: 1.3743 - val_acc: 0.4889\n",
            "Epoch 19/30\n",
            "86/86 [==============================] - 0s 1ms/step - loss: 0.8386 - acc: 0.6744 - val_loss: 1.3934 - val_acc: 0.4889\n",
            "Epoch 20/30\n",
            "86/86 [==============================] - 0s 1ms/step - loss: 0.8169 - acc: 0.6860 - val_loss: 1.3973 - val_acc: 0.5111\n",
            "Epoch 21/30\n",
            "86/86 [==============================] - 0s 2ms/step - loss: 0.8107 - acc: 0.6977 - val_loss: 1.3925 - val_acc: 0.4889\n",
            "Epoch 22/30\n",
            "86/86 [==============================] - 0s 1ms/step - loss: 0.7997 - acc: 0.6977 - val_loss: 1.4030 - val_acc: 0.4889\n",
            "Epoch 23/30\n",
            "86/86 [==============================] - 0s 1ms/step - loss: 0.7953 - acc: 0.6860 - val_loss: 1.4237 - val_acc: 0.4889\n",
            "Epoch 24/30\n",
            "86/86 [==============================] - 0s 2ms/step - loss: 0.7850 - acc: 0.6977 - val_loss: 1.4229 - val_acc: 0.4889\n",
            "Epoch 25/30\n",
            "86/86 [==============================] - 0s 2ms/step - loss: 0.7797 - acc: 0.7093 - val_loss: 1.4327 - val_acc: 0.4889\n",
            "Epoch 26/30\n",
            "86/86 [==============================] - 0s 1ms/step - loss: 0.7675 - acc: 0.7093 - val_loss: 1.4408 - val_acc: 0.4889\n",
            "Epoch 27/30\n",
            "86/86 [==============================] - 0s 1ms/step - loss: 0.7689 - acc: 0.6977 - val_loss: 1.4416 - val_acc: 0.4889\n",
            "Epoch 28/30\n",
            "86/86 [==============================] - 0s 1ms/step - loss: 0.7552 - acc: 0.7093 - val_loss: 1.4454 - val_acc: 0.4889\n",
            "Epoch 29/30\n",
            "86/86 [==============================] - 0s 2ms/step - loss: 0.7565 - acc: 0.7093 - val_loss: 1.4501 - val_acc: 0.4889\n",
            "Epoch 30/30\n",
            "86/86 [==============================] - 0s 1ms/step - loss: 0.7458 - acc: 0.7093 - val_loss: 1.4493 - val_acc: 0.4889\n",
            "Train on 88 samples, validate on 43 samples\n",
            "Epoch 1/30\n",
            "88/88 [==============================] - 1s 8ms/step - loss: 1.5813 - acc: 0.3523 - val_loss: 1.3839 - val_acc: 0.3721\n",
            "Epoch 2/30\n",
            "88/88 [==============================] - 0s 1ms/step - loss: 1.3359 - acc: 0.3182 - val_loss: 1.2445 - val_acc: 0.3488\n",
            "Epoch 3/30\n",
            "88/88 [==============================] - 0s 1ms/step - loss: 1.1973 - acc: 0.3523 - val_loss: 1.1569 - val_acc: 0.3488\n",
            "Epoch 4/30\n",
            "88/88 [==============================] - 0s 1ms/step - loss: 1.1104 - acc: 0.3750 - val_loss: 1.1103 - val_acc: 0.3023\n",
            "Epoch 5/30\n",
            "88/88 [==============================] - 0s 2ms/step - loss: 1.0613 - acc: 0.4091 - val_loss: 1.0740 - val_acc: 0.3256\n",
            "Epoch 6/30\n",
            "88/88 [==============================] - 0s 2ms/step - loss: 1.0208 - acc: 0.4432 - val_loss: 1.0445 - val_acc: 0.4186\n",
            "Epoch 7/30\n",
            "88/88 [==============================] - 0s 2ms/step - loss: 0.9946 - acc: 0.4659 - val_loss: 1.0278 - val_acc: 0.4651\n",
            "Epoch 8/30\n",
            "88/88 [==============================] - 0s 2ms/step - loss: 0.9726 - acc: 0.5000 - val_loss: 1.0189 - val_acc: 0.4651\n",
            "Epoch 9/30\n",
            "88/88 [==============================] - 0s 1ms/step - loss: 0.9589 - acc: 0.5227 - val_loss: 1.0119 - val_acc: 0.5116\n",
            "Epoch 10/30\n",
            "88/88 [==============================] - 0s 1ms/step - loss: 0.9348 - acc: 0.5682 - val_loss: 1.0038 - val_acc: 0.5349\n",
            "Epoch 11/30\n",
            "88/88 [==============================] - 0s 1ms/step - loss: 0.9243 - acc: 0.6023 - val_loss: 1.0043 - val_acc: 0.5581\n",
            "Epoch 12/30\n",
            "88/88 [==============================] - 0s 1ms/step - loss: 0.9077 - acc: 0.6364 - val_loss: 1.0047 - val_acc: 0.5814\n",
            "Epoch 13/30\n",
            "88/88 [==============================] - 0s 1ms/step - loss: 0.8977 - acc: 0.6136 - val_loss: 1.0090 - val_acc: 0.5814\n",
            "Epoch 14/30\n",
            "88/88 [==============================] - 0s 1ms/step - loss: 0.8862 - acc: 0.6364 - val_loss: 1.0059 - val_acc: 0.6047\n",
            "Epoch 15/30\n",
            "88/88 [==============================] - 0s 1ms/step - loss: 0.8791 - acc: 0.6591 - val_loss: 1.0065 - val_acc: 0.6047\n",
            "Epoch 16/30\n",
            "88/88 [==============================] - 0s 1ms/step - loss: 0.8691 - acc: 0.6477 - val_loss: 1.0112 - val_acc: 0.6279\n",
            "Epoch 17/30\n",
            "88/88 [==============================] - 0s 1ms/step - loss: 0.8578 - acc: 0.6477 - val_loss: 1.0218 - val_acc: 0.5814\n",
            "Epoch 18/30\n",
            "88/88 [==============================] - 0s 1ms/step - loss: 0.8536 - acc: 0.6477 - val_loss: 1.0244 - val_acc: 0.5814\n",
            "Epoch 19/30\n",
            "88/88 [==============================] - 0s 1ms/step - loss: 0.8455 - acc: 0.6250 - val_loss: 1.0344 - val_acc: 0.5814\n",
            "Epoch 20/30\n",
            "88/88 [==============================] - 0s 1ms/step - loss: 0.8339 - acc: 0.6705 - val_loss: 1.0430 - val_acc: 0.5349\n",
            "Epoch 21/30\n",
            "88/88 [==============================] - 0s 2ms/step - loss: 0.8291 - acc: 0.6477 - val_loss: 1.0531 - val_acc: 0.5349\n",
            "Epoch 22/30\n",
            "88/88 [==============================] - 0s 1ms/step - loss: 0.8160 - acc: 0.6477 - val_loss: 1.0623 - val_acc: 0.5581\n",
            "Epoch 23/30\n",
            "88/88 [==============================] - 0s 1ms/step - loss: 0.8130 - acc: 0.6705 - val_loss: 1.0689 - val_acc: 0.5581\n",
            "Epoch 24/30\n",
            "88/88 [==============================] - 0s 1ms/step - loss: 0.7954 - acc: 0.6818 - val_loss: 1.0813 - val_acc: 0.5349\n",
            "Epoch 25/30\n",
            "88/88 [==============================] - 0s 1ms/step - loss: 0.7894 - acc: 0.6705 - val_loss: 1.0891 - val_acc: 0.5349\n",
            "Epoch 26/30\n",
            "88/88 [==============================] - 0s 1ms/step - loss: 0.7898 - acc: 0.6818 - val_loss: 1.0930 - val_acc: 0.5349\n",
            "Epoch 27/30\n",
            "88/88 [==============================] - 0s 1ms/step - loss: 0.7753 - acc: 0.6818 - val_loss: 1.1070 - val_acc: 0.5349\n",
            "Epoch 28/30\n",
            "88/88 [==============================] - 0s 2ms/step - loss: 0.7654 - acc: 0.6818 - val_loss: 1.1225 - val_acc: 0.5581\n",
            "Epoch 29/30\n",
            "88/88 [==============================] - 0s 1ms/step - loss: 0.7602 - acc: 0.7045 - val_loss: 1.1318 - val_acc: 0.5581\n",
            "Epoch 30/30\n",
            "88/88 [==============================] - 0s 1ms/step - loss: 0.7493 - acc: 0.7159 - val_loss: 1.1426 - val_acc: 0.5581\n",
            "Train on 88 samples, validate on 43 samples\n",
            "Epoch 1/30\n",
            "88/88 [==============================] - 1s 8ms/step - loss: 1.8641 - acc: 0.3182 - val_loss: 1.5923 - val_acc: 0.3256\n",
            "Epoch 2/30\n",
            "88/88 [==============================] - 0s 1ms/step - loss: 1.4536 - acc: 0.3977 - val_loss: 1.2898 - val_acc: 0.4419\n",
            "Epoch 3/30\n",
            "88/88 [==============================] - 0s 1ms/step - loss: 1.1825 - acc: 0.4091 - val_loss: 1.1120 - val_acc: 0.5116\n",
            "Epoch 4/30\n",
            "88/88 [==============================] - 0s 1ms/step - loss: 1.0567 - acc: 0.5341 - val_loss: 1.0516 - val_acc: 0.5349\n",
            "Epoch 5/30\n",
            "88/88 [==============================] - 0s 1ms/step - loss: 0.9992 - acc: 0.5341 - val_loss: 1.0466 - val_acc: 0.5581\n",
            "Epoch 6/30\n",
            "88/88 [==============================] - 0s 1ms/step - loss: 0.9876 - acc: 0.5909 - val_loss: 1.0482 - val_acc: 0.5581\n",
            "Epoch 7/30\n",
            "88/88 [==============================] - 0s 2ms/step - loss: 0.9661 - acc: 0.5909 - val_loss: 1.0563 - val_acc: 0.5581\n",
            "Epoch 8/30\n",
            "88/88 [==============================] - 0s 1ms/step - loss: 0.9533 - acc: 0.5795 - val_loss: 1.0636 - val_acc: 0.5814\n",
            "Epoch 9/30\n",
            "88/88 [==============================] - 0s 1ms/step - loss: 0.9407 - acc: 0.6250 - val_loss: 1.0674 - val_acc: 0.5581\n",
            "Epoch 10/30\n",
            "88/88 [==============================] - 0s 1ms/step - loss: 0.9301 - acc: 0.6364 - val_loss: 1.0711 - val_acc: 0.5814\n",
            "Epoch 11/30\n",
            "88/88 [==============================] - 0s 2ms/step - loss: 0.9220 - acc: 0.6364 - val_loss: 1.0715 - val_acc: 0.5116\n",
            "Epoch 12/30\n",
            "88/88 [==============================] - 0s 1ms/step - loss: 0.9098 - acc: 0.6136 - val_loss: 1.0691 - val_acc: 0.5349\n",
            "Epoch 13/30\n",
            "88/88 [==============================] - 0s 1ms/step - loss: 0.8958 - acc: 0.6250 - val_loss: 1.0694 - val_acc: 0.5349\n",
            "Epoch 14/30\n",
            "88/88 [==============================] - 0s 1ms/step - loss: 0.8854 - acc: 0.6364 - val_loss: 1.0730 - val_acc: 0.5116\n",
            "Epoch 15/30\n",
            "88/88 [==============================] - 0s 1ms/step - loss: 0.8777 - acc: 0.6364 - val_loss: 1.0767 - val_acc: 0.5116\n",
            "Epoch 16/30\n",
            "88/88 [==============================] - 0s 1ms/step - loss: 0.8725 - acc: 0.6364 - val_loss: 1.0832 - val_acc: 0.5116\n",
            "Epoch 17/30\n",
            "88/88 [==============================] - 0s 1ms/step - loss: 0.8688 - acc: 0.6477 - val_loss: 1.0839 - val_acc: 0.5581\n",
            "Epoch 18/30\n",
            "88/88 [==============================] - 0s 1ms/step - loss: 0.8586 - acc: 0.6477 - val_loss: 1.0896 - val_acc: 0.5581\n",
            "Epoch 19/30\n",
            "88/88 [==============================] - 0s 1ms/step - loss: 0.8545 - acc: 0.6364 - val_loss: 1.1001 - val_acc: 0.5349\n",
            "Epoch 20/30\n",
            "88/88 [==============================] - 0s 1ms/step - loss: 0.8475 - acc: 0.6477 - val_loss: 1.0954 - val_acc: 0.6279\n",
            "Epoch 21/30\n",
            "88/88 [==============================] - 0s 2ms/step - loss: 0.8375 - acc: 0.6477 - val_loss: 1.1036 - val_acc: 0.6047\n",
            "Epoch 22/30\n",
            "88/88 [==============================] - 0s 2ms/step - loss: 0.8331 - acc: 0.6705 - val_loss: 1.1119 - val_acc: 0.5814\n",
            "Epoch 23/30\n",
            "88/88 [==============================] - 0s 1ms/step - loss: 0.8306 - acc: 0.6705 - val_loss: 1.1138 - val_acc: 0.6047\n",
            "Epoch 24/30\n",
            "88/88 [==============================] - 0s 1ms/step - loss: 0.8187 - acc: 0.6705 - val_loss: 1.1210 - val_acc: 0.5814\n",
            "Epoch 25/30\n",
            "88/88 [==============================] - 0s 1ms/step - loss: 0.8182 - acc: 0.6705 - val_loss: 1.1189 - val_acc: 0.5814\n",
            "Epoch 26/30\n",
            "88/88 [==============================] - 0s 1ms/step - loss: 0.8151 - acc: 0.6705 - val_loss: 1.1208 - val_acc: 0.5814\n",
            "Epoch 27/30\n",
            "88/88 [==============================] - 0s 1ms/step - loss: 0.8043 - acc: 0.6591 - val_loss: 1.1268 - val_acc: 0.5814\n",
            "Epoch 28/30\n",
            "88/88 [==============================] - 0s 1ms/step - loss: 0.8029 - acc: 0.6932 - val_loss: 1.1313 - val_acc: 0.5814\n",
            "Epoch 29/30\n",
            "88/88 [==============================] - 0s 1ms/step - loss: 0.7964 - acc: 0.6932 - val_loss: 1.1320 - val_acc: 0.5814\n",
            "Epoch 30/30\n",
            "88/88 [==============================] - 0s 1ms/step - loss: 0.7855 - acc: 0.7045 - val_loss: 1.1293 - val_acc: 0.5814\n"
          ],
          "name": "stdout"
        }
      ]
    },
    {
      "cell_type": "code",
      "metadata": {
        "id": "s2eeOHoYbina",
        "colab_type": "code",
        "colab": {}
      },
      "source": [
        "history_dict = history.history"
      ],
      "execution_count": 0,
      "outputs": []
    },
    {
      "cell_type": "code",
      "metadata": {
        "id": "-zDN2PrRc36l",
        "colab_type": "code",
        "outputId": "8a90290e-f74b-4f25-cbc7-aa4a6605fda2",
        "colab": {
          "base_uri": "https://localhost:8080/",
          "height": 34
        }
      },
      "source": [
        "history_dict.keys()"
      ],
      "execution_count": 37,
      "outputs": [
        {
          "output_type": "execute_result",
          "data": {
            "text/plain": [
              "dict_keys(['val_loss', 'val_acc', 'loss', 'acc'])"
            ]
          },
          "metadata": {
            "tags": []
          },
          "execution_count": 37
        }
      ]
    },
    {
      "cell_type": "code",
      "metadata": {
        "id": "tss7vRUEgAcz",
        "colab_type": "code",
        "colab": {
          "base_uri": "https://localhost:8080/",
          "height": 34
        },
        "outputId": "bf0dc4bf-7604-4d05-a3e0-c284ccd3b234"
      },
      "source": [
        "len(all_accuracy_histories[2])"
      ],
      "execution_count": 44,
      "outputs": [
        {
          "output_type": "execute_result",
          "data": {
            "text/plain": [
              "30"
            ]
          },
          "metadata": {
            "tags": []
          },
          "execution_count": 44
        }
      ]
    },
    {
      "cell_type": "code",
      "metadata": {
        "id": "HpKE3iTJBHzO",
        "colab_type": "code",
        "colab": {}
      },
      "source": [
        "average_acc_history = [np.mean([x[i] for x in all_acc_histories]) for i in range(num_epochs)]\n",
        "#media per epoca degli score ottenuti per tutte le k-fold\n",
        "#per ogni k-fold di fanno num_epoch epoche, la media viene fatta prendendo gli score di tutti i k-fold relativi ad una data epoca,\n",
        "#e si fa questo per tutte le epoche\n",
        "average_loss_history = [np.mean([x[i] for x in all_loss_histories]) for i in range(num_epochs)]\n",
        "average_val_acc_history = [np.mean([x[i] for x in all_val_acc_histories]) for i in range(num_epochs)]\n",
        "average_val_loss_history = [np.mean([x[i] for x in all_val_loss_histories]) for i in range(num_epochs)]\n"
      ],
      "execution_count": 0,
      "outputs": []
    },
    {
      "cell_type": "code",
      "metadata": {
        "id": "uQrkCEMUD2RI",
        "colab_type": "code",
        "colab": {
          "base_uri": "https://localhost:8080/",
          "height": 34
        },
        "outputId": "970facfe-01da-47d2-fccd-a7e2694c28c0"
      },
      "source": [
        "len(average_val_acc_history)"
      ],
      "execution_count": 50,
      "outputs": [
        {
          "output_type": "execute_result",
          "data": {
            "text/plain": [
              "30"
            ]
          },
          "metadata": {
            "tags": []
          },
          "execution_count": 50
        }
      ]
    },
    {
      "cell_type": "markdown",
      "metadata": {
        "id": "B9UhSxIaHtuO",
        "colab_type": "text"
      },
      "source": [
        "##Plotting training and validation loss"
      ]
    },
    {
      "cell_type": "code",
      "metadata": {
        "id": "vq6zsienD5ct",
        "colab_type": "code",
        "colab": {}
      },
      "source": [
        "import matplotlib.pyplot as plt"
      ],
      "execution_count": 0,
      "outputs": []
    },
    {
      "cell_type": "code",
      "metadata": {
        "id": "XJizyjnaIPhQ",
        "colab_type": "code",
        "colab": {}
      },
      "source": [
        "epochs = range(1, num_epochs+1)"
      ],
      "execution_count": 0,
      "outputs": []
    },
    {
      "cell_type": "code",
      "metadata": {
        "id": "HfEHEYLgIQUQ",
        "colab_type": "code",
        "colab": {
          "base_uri": "https://localhost:8080/",
          "height": 312
        },
        "outputId": "699656c7-4d8f-4ec1-f5bc-ad36a0e87a09"
      },
      "source": [
        "plt.plot(epochs, average_loss_history, 'bo', label='training loss')\n",
        "plt.plot(epochs, average_val_loss_history, 'b', label='validation loss')\n",
        "plt.title('Training and validation loss')\n",
        "plt.xlabel('Epochs')\n",
        "plt.ylabel('Loss')\n",
        "plt.legend()"
      ],
      "execution_count": 59,
      "outputs": [
        {
          "output_type": "execute_result",
          "data": {
            "text/plain": [
              "<matplotlib.legend.Legend at 0x7f6181023128>"
            ]
          },
          "metadata": {
            "tags": []
          },
          "execution_count": 59
        },
        {
          "output_type": "display_data",
          "data": {
            "image/png": "[encoded data removed]",
            "text/plain": [
              "<Figure size 432x288 with 1 Axes>"
            ]
          },
          "metadata": {
            "tags": []
          }
        }
      ]
    },
    {
      "cell_type": "markdown",
      "metadata": {
        "id": "Aoc4wMjfI97j",
        "colab_type": "text"
      },
      "source": [
        "##Plotting train and validation accuracy"
      ]
    },
    {
      "cell_type": "code",
      "metadata": {
        "id": "GZi7VzbFIbtJ",
        "colab_type": "code",
        "colab": {
          "base_uri": "https://localhost:8080/",
          "height": 312
        },
        "outputId": "93f7b1c2-c17e-4da9-a181-5c098d2336e7"
      },
      "source": [
        "plt.plot(epochs, average_acc_history, 'bo', label='Training accuracy')\n",
        "plt.plot(epochs, average_val_acc_history, 'b', label='Validation accuracy')\n",
        "plt.title('Training and validation accuracy')\n",
        "plt.xlabel('Epochs')\n",
        "plt.ylabel('Accuracy')\n",
        "plt.legend() "
      ],
      "execution_count": 60,
      "outputs": [
        {
          "output_type": "execute_result",
          "data": {
            "text/plain": [
              "<matplotlib.legend.Legend at 0x7f6180f7ae10>"
            ]
          },
          "metadata": {
            "tags": []
          },
          "execution_count": 60
        },
        {
          "output_type": "display_data",
          "data": {
            "image/png": "[encoded data removed]",
            "text/plain": [
              "<Figure size 432x288 with 1 Axes>"
            ]
          },
          "metadata": {
            "tags": []
          }
        }
      ]
    },
    {
      "cell_type": "code",
      "metadata": {
        "id": "VokWFUNPJOsJ",
        "colab_type": "code",
        "colab": {}
      },
      "source": [
        ""
      ],
      "execution_count": 0,
      "outputs": []
    }
  ]
}