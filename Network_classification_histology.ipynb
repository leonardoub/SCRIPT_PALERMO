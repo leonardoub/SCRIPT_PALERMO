{
  "nbformat": 4,
  "nbformat_minor": 0,
  "metadata": {
    "colab": {
      "name": "Network_classification_histology.ipynb",
      "provenance": [],
      "toc_visible": true,
      "include_colab_link": true
    },
    "kernelspec": {
      "name": "python3",
      "display_name": "Python 3"
    }
  },
  "cells": [
    {
      "cell_type": "markdown",
      "metadata": {
        "id": "view-in-github",
        "colab_type": "text"
      },
      "source": [
        "<a href=\"https://colab.research.google.com/github/leonardoub/SCRIPT_PALERMO/blob/master/Network_classification_histology.ipynb\" target=\"_parent\"><img src=\"https://colab.research.google.com/assets/colab-badge.svg\" alt=\"Open In Colab\"/></a>"
      ]
    },
    {
      "cell_type": "code",
      "metadata": {
        "id": "ck9uZtF_gzU7",
        "colab_type": "code",
        "colab": {}
      },
      "source": [
        "import pandas as pd\n",
        "import numpy as np\n",
        "import matplotlib.pyplot as plt\n",
        "import scipy"
      ],
      "execution_count": 0,
      "outputs": []
    },
    {
      "cell_type": "markdown",
      "metadata": {
        "id": "ln0sTf8q1IrI",
        "colab_type": "text"
      },
      "source": [
        "#Load data"
      ]
    },
    {
      "cell_type": "code",
      "metadata": {
        "id": "lyyNl4gxhEwD",
        "colab_type": "code",
        "outputId": "3084ab9f-8257-4dbc-c5b7-cb593d2e4e41",
        "colab": {
          "base_uri": "https://localhost:8080/",
          "height": 124
        }
      },
      "source": [
        "#load data from Drive\n",
        "from google.colab import drive\n",
        "drive.mount('/gdrive')\n",
        "#%cd /gdrive"
      ],
      "execution_count": 2,
      "outputs": [
        {
          "output_type": "stream",
          "text": [
            "Go to this URL in a browser: https://accounts.google.com/o/oauth2/auth?client_id=947318989803-6bn6qk8qdgf4n4g3pfee6491hc0brc4i.apps.googleusercontent.com&redirect_uri=urn%3aietf%3awg%3aoauth%3a2.0%3aoob&response_type=code&scope=email%20https%3a%2f%2fwww.googleapis.com%2fauth%2fdocs.test%20https%3a%2f%2fwww.googleapis.com%2fauth%2fdrive%20https%3a%2f%2fwww.googleapis.com%2fauth%2fdrive.photos.readonly%20https%3a%2f%2fwww.googleapis.com%2fauth%2fpeopleapi.readonly\n",
            "\n",
            "Enter your authorization code:\n",
            "··········\n",
            "Mounted at /gdrive\n"
          ],
          "name": "stdout"
        }
      ]
    },
    {
      "cell_type": "code",
      "metadata": {
        "id": "UCkUXesZhMzg",
        "colab_type": "code",
        "colab": {}
      },
      "source": [
        "train_dataset_path = '/gdrive/My Drive/AIM_PA/database_training2.csv'\n",
        "test_dataset_path = '/gdrive/My Drive/AIM_PA/database_nostro_without_nan.csv'"
      ],
      "execution_count": 0,
      "outputs": []
    },
    {
      "cell_type": "code",
      "metadata": {
        "id": "TczPxOpEhTXw",
        "colab_type": "code",
        "colab": {}
      },
      "source": [
        "df_train = pd.read_csv(train_dataset_path)\n",
        "df_test = pd.read_csv(test_dataset_path)"
      ],
      "execution_count": 0,
      "outputs": []
    },
    {
      "cell_type": "code",
      "metadata": {
        "id": "Ll-87QSVhqhj",
        "colab_type": "code",
        "colab": {}
      },
      "source": [
        "df_train.rename(columns={'Survival.time (months)':'Surv_time_months'}, inplace=True)"
      ],
      "execution_count": 0,
      "outputs": []
    },
    {
      "cell_type": "code",
      "metadata": {
        "id": "ulSbeCedhuxJ",
        "colab_type": "code",
        "colab": {}
      },
      "source": [
        "df_test.rename(columns={'Survival.time (months)':'Surv_time_months'}, inplace=True)"
      ],
      "execution_count": 0,
      "outputs": []
    },
    {
      "cell_type": "code",
      "metadata": {
        "id": "xbcwLGg3iNSn",
        "colab_type": "code",
        "colab": {}
      },
      "source": [
        "df_train.rename(columns={'Overall.Stage':'Overall_Stage'}, inplace=True)\n",
        "df_test.rename(columns={'Overall.Stage':'Overall_Stage'}, inplace=True)"
      ],
      "execution_count": 0,
      "outputs": []
    },
    {
      "cell_type": "code",
      "metadata": {
        "id": "oKKv4iKghWWn",
        "colab_type": "code",
        "colab": {}
      },
      "source": [
        "train_data = df_train.drop(['Histology', 'Surv_time_months', 'OS', 'deadstatus.event','Overall_Stage'], axis=1)"
      ],
      "execution_count": 0,
      "outputs": []
    },
    {
      "cell_type": "code",
      "metadata": {
        "id": "vQdR4izXiT0f",
        "colab_type": "code",
        "colab": {}
      },
      "source": [
        "test_data = df_test.drop(['Histology', 'Surv_time_months', 'OS', 'deadstatus.event','Overall_Stage'], axis=1)"
      ],
      "execution_count": 0,
      "outputs": []
    },
    {
      "cell_type": "code",
      "metadata": {
        "id": "Lu46pqnPhnCG",
        "colab_type": "code",
        "colab": {}
      },
      "source": [
        "train_labels = df_train.Histology"
      ],
      "execution_count": 0,
      "outputs": []
    },
    {
      "cell_type": "code",
      "metadata": {
        "id": "aS5wIylYmsQf",
        "colab_type": "code",
        "colab": {}
      },
      "source": [
        "test_labels = df_test.Histology"
      ],
      "execution_count": 0,
      "outputs": []
    },
    {
      "cell_type": "markdown",
      "metadata": {
        "id": "dtPx7PMDnXM3",
        "colab_type": "text"
      },
      "source": [
        "##Z score dei dati"
      ]
    },
    {
      "cell_type": "code",
      "metadata": {
        "id": "XK4Qji2EnVV4",
        "colab_type": "code",
        "colab": {}
      },
      "source": [
        "mean = train_data.mean(axis=0)\n",
        "train_data_stand = train_data - mean\n",
        "std = train_data.std(axis=0)\n",
        "train_data_stand /= std"
      ],
      "execution_count": 0,
      "outputs": []
    },
    {
      "cell_type": "code",
      "metadata": {
        "id": "YOVOoNOvm0Yx",
        "colab_type": "code",
        "colab": {}
      },
      "source": [
        "test_data_stand = test_data - mean\n",
        "test_data_stand /= std"
      ],
      "execution_count": 0,
      "outputs": []
    },
    {
      "cell_type": "markdown",
      "metadata": {
        "id": "00VohsAyokpq",
        "colab_type": "text"
      },
      "source": [
        "##Vettorizzare i label"
      ]
    },
    {
      "cell_type": "code",
      "metadata": {
        "id": "8RvS_9ISpxRi",
        "colab_type": "code",
        "colab": {}
      },
      "source": [
        "word_index={'adenocarcinoma':0, 'large cell':1, 'squamous cell carcinoma':2}"
      ],
      "execution_count": 0,
      "outputs": []
    },
    {
      "cell_type": "code",
      "metadata": {
        "id": "uiPW9U0XrWY2",
        "colab_type": "code",
        "colab": {}
      },
      "source": [
        "train_labels_dec = [word_index[label] for label in train_labels]"
      ],
      "execution_count": 0,
      "outputs": []
    },
    {
      "cell_type": "code",
      "metadata": {
        "id": "C4SBiKFQsKFw",
        "colab_type": "code",
        "colab": {}
      },
      "source": [
        "test_labels_dec = [word_index[label] for label in test_labels]"
      ],
      "execution_count": 0,
      "outputs": []
    },
    {
      "cell_type": "code",
      "metadata": {
        "id": "0IMbTYR7okJq",
        "colab_type": "code",
        "outputId": "ec621f6e-2fb0-4877-ae95-654f4c8aac18",
        "colab": {
          "base_uri": "https://localhost:8080/",
          "height": 0
        }
      },
      "source": [
        "from keras.utils.np_utils import to_categorical"
      ],
      "execution_count": 17,
      "outputs": [
        {
          "output_type": "stream",
          "text": [
            "Using TensorFlow backend.\n"
          ],
          "name": "stderr"
        },
        {
          "output_type": "display_data",
          "data": {
            "text/html": [
              "<p style=\"color: red;\">\n",
              "The default version of TensorFlow in Colab will soon switch to TensorFlow 2.x.<br>\n",
              "We recommend you <a href=\"https://www.tensorflow.org/guide/migrate\" target=\"_blank\">upgrade</a> now \n",
              "or ensure your notebook will continue to use TensorFlow 1.x via the <code>%tensorflow_version 1.x</code> magic:\n",
              "<a href=\"https://colab.research.google.com/notebooks/tensorflow_version.ipynb\" target=\"_blank\">more info</a>.</p>\n"
            ],
            "text/plain": [
              "<IPython.core.display.HTML object>"
            ]
          },
          "metadata": {
            "tags": []
          }
        }
      ]
    },
    {
      "cell_type": "code",
      "metadata": {
        "id": "0Frv4FDNn6Qu",
        "colab_type": "code",
        "colab": {}
      },
      "source": [
        "one_hot_train_labels = to_categorical(train_labels_dec)\n",
        "one_hot_test_labels = to_categorical(test_labels_dec)"
      ],
      "execution_count": 0,
      "outputs": []
    },
    {
      "cell_type": "markdown",
      "metadata": {
        "id": "Mn0tkOGc3LKN",
        "colab_type": "text"
      },
      "source": [
        "#PCA"
      ]
    },
    {
      "cell_type": "code",
      "metadata": {
        "id": "oS76u6iu3Seg",
        "colab_type": "code",
        "colab": {}
      },
      "source": [
        "from sklearn.decomposition import PCA"
      ],
      "execution_count": 0,
      "outputs": []
    },
    {
      "cell_type": "code",
      "metadata": {
        "id": "KCjC4zqJ3bui",
        "colab_type": "code",
        "colab": {}
      },
      "source": [
        "pca = PCA(n_components=0.9, svd_solver='full')"
      ],
      "execution_count": 0,
      "outputs": []
    },
    {
      "cell_type": "code",
      "metadata": {
        "id": "dLUCf9qX4p_e",
        "colab_type": "code",
        "outputId": "438b2883-db69-43c7-d678-2db3b1a5cc81",
        "colab": {
          "base_uri": "https://localhost:8080/",
          "height": 0
        }
      },
      "source": [
        "pca.fit(train_data_stand)"
      ],
      "execution_count": 21,
      "outputs": [
        {
          "output_type": "execute_result",
          "data": {
            "text/plain": [
              "PCA(copy=True, iterated_power='auto', n_components=0.9, random_state=None,\n",
              "    svd_solver='full', tol=0.0, whiten=False)"
            ]
          },
          "metadata": {
            "tags": []
          },
          "execution_count": 21
        }
      ]
    },
    {
      "cell_type": "code",
      "metadata": {
        "id": "QfyaKgNZ44o3",
        "colab_type": "code",
        "colab": {}
      },
      "source": [
        "train_data_stand_pca = pca.transform(train_data_stand)\n",
        "test_data_stand_pca = pca.transform(test_data_stand)"
      ],
      "execution_count": 0,
      "outputs": []
    },
    {
      "cell_type": "code",
      "metadata": {
        "id": "Uz9C4nl05b_g",
        "colab_type": "code",
        "outputId": "d6a20d18-b239-4445-e52a-a5fe9c5e17db",
        "colab": {
          "base_uri": "https://localhost:8080/",
          "height": 0
        }
      },
      "source": [
        "train_data_stand_pca.shape"
      ],
      "execution_count": 23,
      "outputs": [
        {
          "output_type": "execute_result",
          "data": {
            "text/plain": [
              "(131, 9)"
            ]
          },
          "metadata": {
            "tags": []
          },
          "execution_count": 23
        }
      ]
    },
    {
      "cell_type": "markdown",
      "metadata": {
        "id": "8wSKvSu4s5ip",
        "colab_type": "text"
      },
      "source": [
        "#Building Network"
      ]
    },
    {
      "cell_type": "code",
      "metadata": {
        "id": "sJTbHiq0D-4x",
        "colab_type": "code",
        "colab": {}
      },
      "source": [
        "from keras import layers\n",
        "from keras.preprocessing import sequence"
      ],
      "execution_count": 0,
      "outputs": []
    },
    {
      "cell_type": "code",
      "metadata": {
        "id": "ShwM6YMqsxxJ",
        "colab_type": "code",
        "colab": {}
      },
      "source": [
        "from keras import layers"
      ],
      "execution_count": 0,
      "outputs": []
    },
    {
      "cell_type": "code",
      "metadata": {
        "id": "IAzbu7P1VylY",
        "colab_type": "code",
        "colab": {}
      },
      "source": [
        "from keras import regularizers"
      ],
      "execution_count": 0,
      "outputs": []
    },
    {
      "cell_type": "code",
      "metadata": {
        "id": "dyqbUCK5wOVt",
        "colab_type": "code",
        "colab": {}
      },
      "source": [
        "from keras.optimizers import SGD"
      ],
      "execution_count": 0,
      "outputs": []
    },
    {
      "cell_type": "code",
      "metadata": {
        "id": "7OAEgN31tHVV",
        "colab_type": "code",
        "colab": {}
      },
      "source": [
        "def build_model():\n",
        "  model = keras.models.Sequential()\n",
        "  model.add(layers.Dense(6, activation='relu', input_shape=(9,)))\n",
        "  #model.add(layers.Dense(7, activation='relu'))\n",
        "  #model.add(layers.Dropout(rate=0.2))\n",
        "\n",
        "  model.add(layers.Dense(3, activation='softmax'))\n",
        "\n",
        "  sgd = SGD(lr=0.01, momentum=0.4)\n",
        "  \n",
        "  model.compile(optimizer=sgd, loss='categorical_crossentropy', metrics=['accuracy'])\n",
        "  return model"
      ],
      "execution_count": 0,
      "outputs": []
    },
    {
      "cell_type": "markdown",
      "metadata": {
        "id": "mIxDu50pBeiz",
        "colab_type": "text"
      },
      "source": [
        "#Stratified k-fold"
      ]
    },
    {
      "cell_type": "markdown",
      "metadata": {
        "id": "ZyLcvedUBpxA",
        "colab_type": "text"
      },
      "source": [
        "This cross-validation object is a variation of KFold that returns stratified folds. The folds are made by preserving the percentage of samples for each class."
      ]
    },
    {
      "cell_type": "code",
      "metadata": {
        "id": "fY1apcZ19gFp",
        "colab_type": "code",
        "colab": {}
      },
      "source": [
        "from sklearn.model_selection import StratifiedKFold"
      ],
      "execution_count": 0,
      "outputs": []
    },
    {
      "cell_type": "code",
      "metadata": {
        "id": "oaBDM-PtBx5V",
        "colab_type": "code",
        "outputId": "e9fa629c-28de-4928-c475-6f7a0cc1daeb",
        "colab": {
          "base_uri": "https://localhost:8080/",
          "height": 34
        }
      },
      "source": [
        "skf = StratifiedKFold(n_splits=10, shuffle=True, random_state=1)\n",
        "skf.get_n_splits(train_data_stand_pca, train_labels_dec)"
      ],
      "execution_count": 30,
      "outputs": [
        {
          "output_type": "execute_result",
          "data": {
            "text/plain": [
              "10"
            ]
          },
          "metadata": {
            "tags": []
          },
          "execution_count": 30
        }
      ]
    },
    {
      "cell_type": "code",
      "metadata": {
        "id": "Me-XQzPyD1gi",
        "colab_type": "code",
        "outputId": "f0b554f6-e648-44c1-f563-6ba8e15f3d16",
        "colab": {
          "base_uri": "https://localhost:8080/",
          "height": 1000
        }
      },
      "source": [
        "for train_index, test_index in skf.split(train_data_stand_pca, train_labels_dec):\n",
        "    print(\"TRAIN:\", train_index, \"TEST:\", test_index)"
      ],
      "execution_count": 31,
      "outputs": [
        {
          "output_type": "stream",
          "text": [
            "TRAIN: [  0   1   2   4   5   6   7   8   9  10  11  12  14  15  16  17  18  19\n",
            "  20  22  23  24  25  27  28  29  30  31  32  33  34  36  37  38  39  40\n",
            "  41  42  43  44  45  46  47  48  49  51  52  53  55  56  57  58  59  60\n",
            "  61  62  63  64  65  66  67  69  70  71  72  74  75  76  77  78  79  80\n",
            "  81  83  84  85  86  87  88  89  90  92  93  94  95  96  97  98  99 100\n",
            " 101 102 103 104 105 107 108 109 110 111 113 114 115 116 117 119 120 121\n",
            " 122 123 124 125 126 127 128 129] TEST: [  3  13  21  26  35  50  54  68  73  82  91 106 112 118 130]\n",
            "TRAIN: [  0   1   3   4   5   6   8   9  10  11  12  13  14  15  16  17  19  20\n",
            "  21  22  23  24  25  26  27  28  29  30  31  32  33  34  35  36  37  38\n",
            "  39  40  41  42  44  45  46  48  49  50  51  52  53  54  55  56  57  58\n",
            "  59  60  62  63  64  65  66  67  68  69  71  72  73  75  76  77  78  79\n",
            "  80  81  82  83  84  85  86  87  88  89  90  91  92  94  95  96  97  98\n",
            " 100 101 102 103 104 105 106 107 109 110 111 112 113 115 116 117 118 120\n",
            " 121 122 124 125 126 127 128 129 130] TEST: [  2   7  18  43  47  61  70  74  93  99 108 114 119 123]\n",
            "TRAIN: [  0   1   2   3   4   5   7   8   9  11  12  13  14  15  16  17  18  19\n",
            "  20  21  22  23  24  25  26  27  28  29  30  32  33  34  35  36  37  38\n",
            "  39  40  41  42  43  44  45  46  47  48  50  51  52  53  54  56  57  58\n",
            "  59  60  61  62  63  65  66  67  68  69  70  72  73  74  76  77  78  79\n",
            "  80  81  82  83  84  85  87  88  89  90  91  92  93  96  97  98  99 100\n",
            " 101 102 103 104 105 106 107 108 109 110 111 112 113 114 115 117 118 119\n",
            " 120 121 122 123 124 125 127 128 130] TEST: [  6  10  31  49  55  64  71  75  86  94  95 116 126 129]\n",
            "TRAIN: [  0   2   3   5   6   7   8   9  10  11  12  13  14  15  16  17  18  19\n",
            "  20  21  22  23  24  25  26  27  29  30  31  33  34  35  36  37  38  39\n",
            "  40  41  43  44  45  46  47  48  49  50  51  52  53  54  55  56  57  58\n",
            "  59  60  61  62  63  64  65  66  68  70  71  73  74  75  76  77  78  79\n",
            "  80  82  83  84  85  86  87  88  89  90  91  92  93  94  95  96  97  98\n",
            "  99 100 101 102 105 106 107 108 109 111 112 113 114 115 116 117 118 119\n",
            " 120 122 123 124 125 126 127 129 130] TEST: [  1   4  28  32  42  67  69  72  81 103 104 110 121 128]\n",
            "TRAIN: [  1   2   3   4   5   6   7   8   9  10  11  12  13  15  16  17  18  20\n",
            "  21  23  24  25  26  27  28  29  30  31  32  33  34  35  36  38  39  40\n",
            "  42  43  44  45  46  47  48  49  50  51  53  54  55  57  58  59  60  61\n",
            "  62  63  64  65  66  67  68  69  70  71  72  73  74  75  76  77  78  80\n",
            "  81  82  83  84  85  86  87  90  91  92  93  94  95  96  97  98  99 100\n",
            " 101 102 103 104 105 106 108 109 110 111 112 113 114 115 116 117 118 119\n",
            " 121 122 123 124 125 126 127 128 129 130] TEST: [  0  14  19  22  37  41  52  56  79  88  89 107 120]\n",
            "TRAIN: [  0   1   2   3   4   5   6   7   8  10  11  12  13  14  16  17  18  19\n",
            "  20  21  22  23  25  26  27  28  29  30  31  32  34  35  36  37  38  39\n",
            "  41  42  43  44  45  46  47  48  49  50  52  53  54  55  56  57  58  60\n",
            "  61  63  64  65  66  67  68  69  70  71  72  73  74  75  76  77  78  79\n",
            "  80  81  82  84  85  86  87  88  89  90  91  92  93  94  95  96  99 100\n",
            " 101 102 103 104 105 106 107 108 109 110 111 112 114 115 116 118 119 120\n",
            " 121 122 123 124 125 126 127 128 129 130] TEST: [  9  15  24  33  40  51  59  62  83  97  98 113 117]\n",
            "TRAIN: [  0   1   2   3   4   5   6   7   9  10  11  12  13  14  15  18  19  20\n",
            "  21  22  24  26  27  28  29  30  31  32  33  34  35  36  37  38  39  40\n",
            "  41  42  43  44  45  46  47  48  49  50  51  52  53  54  55  56  57  58\n",
            "  59  61  62  64  65  66  67  68  69  70  71  72  73  74  75  76  79  81\n",
            "  82  83  84  85  86  87  88  89  91  92  93  94  95  96  97  98  99 100\n",
            " 101 102 103 104 105 106 107 108 109 110 111 112 113 114 115 116 117 118\n",
            " 119 120 121 123 124 125 126 127 128 129 130] TEST: [  8  16  17  23  25  60  63  77  78  80  90 122]\n",
            "TRAIN: [  0   1   2   3   4   5   6   7   8   9  10  11  13  14  15  16  17  18\n",
            "  19  20  21  22  23  24  25  26  27  28  30  31  32  33  34  35  36  37\n",
            "  39  40  41  42  43  44  45  47  49  50  51  52  53  54  55  56  58  59\n",
            "  60  61  62  63  64  66  67  68  69  70  71  72  73  74  75  76  77  78\n",
            "  79  80  81  82  83  85  86  87  88  89  90  91  92  93  94  95  96  97\n",
            "  98  99 100 102 103 104 106 107 108 109 110 111 112 113 114 115 116 117\n",
            " 118 119 120 121 122 123 124 126 128 129 130] TEST: [ 12  29  38  46  48  57  65  84 101 105 125 127]\n",
            "TRAIN: [  0   1   2   3   4   5   6   7   8   9  10  12  13  14  15  16  17  18\n",
            "  19  21  22  23  24  25  26  27  28  29  31  32  33  34  35  36  37  38\n",
            "  40  41  42  43  46  47  48  49  50  51  52  53  54  55  56  57  58  59\n",
            "  60  61  62  63  64  65  67  68  69  70  71  72  73  74  75  76  77  78\n",
            "  79  80  81  82  83  84  85  86  88  89  90  91  93  94  95  96  97  98\n",
            "  99 101 103 104 105 106 107 108 109 110 111 112 113 114 115 116 117 118\n",
            " 119 120 121 122 123 125 126 127 128 129 130] TEST: [ 11  20  30  39  44  45  66  87  92 100 102 124]\n",
            "TRAIN: [  0   1   2   3   4   6   7   8   9  10  11  12  13  14  15  16  17  18\n",
            "  19  20  21  22  23  24  25  26  28  29  30  31  32  33  35  37  38  39\n",
            "  40  41  42  43  44  45  46  47  48  49  50  51  52  54  55  56  57  59\n",
            "  60  61  62  63  64  65  66  67  68  69  70  71  72  73  74  75  77  78\n",
            "  79  80  81  82  83  84  86  87  88  89  90  91  92  93  94  95  97  98\n",
            "  99 100 101 102 103 104 105 106 107 108 110 112 113 114 116 117 118 119\n",
            " 120 121 122 123 124 125 126 127 128 129 130] TEST: [  5  27  34  36  53  58  76  85  96 109 111 115]\n"
          ],
          "name": "stdout"
        }
      ]
    },
    {
      "cell_type": "code",
      "metadata": {
        "id": "BgdGK-8FK-U_",
        "colab_type": "code",
        "outputId": "83180c76-b647-4874-dfe4-18b4bb155a8e",
        "colab": {
          "base_uri": "https://localhost:8080/",
          "height": 34
        }
      },
      "source": [
        "train_labels_dec[125]"
      ],
      "execution_count": 32,
      "outputs": [
        {
          "output_type": "execute_result",
          "data": {
            "text/plain": [
              "2"
            ]
          },
          "metadata": {
            "tags": []
          },
          "execution_count": 32
        }
      ]
    },
    {
      "cell_type": "code",
      "metadata": {
        "id": "sBJg0XD4Shhc",
        "colab_type": "code",
        "colab": {}
      },
      "source": [
        "from keras.utils import to_categorical\n"
      ],
      "execution_count": 0,
      "outputs": []
    },
    {
      "cell_type": "code",
      "metadata": {
        "id": "a5Sq8r9GEPx3",
        "colab_type": "code",
        "colab": {}
      },
      "source": [
        "#for train_index, val_index in skf.split(train_data_stand_pca, train_labels_dec):\n",
        " \n",
        "#  partial_train_data = np.array([train_data_stand_pca[i] for i in train_index])\n",
        "#  partial_train_targets = np.array([train_labels_dec[i] for i in train_index])\n",
        "\n",
        "#  val_data = np.array([train_data_stand_pca[i] for i in val_index])\n",
        "#  val_targets = np.array([train_labels_dec[i] for i in val_index])\n",
        "\n",
        "#  one_hot_partial_train_targets = to_categorical(partial_train_targets)\n",
        "#  one_hot_val_targets = to_categorical(val_targets)\n",
        "\n",
        "#  model = build_model()\n",
        "#  model.fit(partial_train_data, one_hot_partial_train_targets, epochs = num_epochs, batch_size=1)\n",
        "\n",
        "#  val_loss, val_accuracy = model.evaluate(val_data, one_hot_val_targets)\n",
        "#  all_scores.append(val_accuracy)\n",
        "#I parametri per la valutazione vengono calcolati una volta per ogni k-fold, per ogni set di validazione, quindi k volte"
      ],
      "execution_count": 0,
      "outputs": []
    },
    {
      "cell_type": "markdown",
      "metadata": {
        "id": "2X5B3lasRcsR",
        "colab_type": "text"
      },
      "source": [
        "C'è un problema: keras.utils.to_categorical produces a one-hot encoded class vector, i.e. the multilabel-indicator mentioned in the error message. StratifiedKFold is not designed to work with such input; i.e. your y must be a 1-D array of your class labels.\n",
        "Essentially, what you have to do is simply to invert the order of the operations: split first (using your intial y_train), and convert to_categorical afterwards."
      ]
    },
    {
      "cell_type": "code",
      "metadata": {
        "id": "F0Sl23XX-uUu",
        "colab_type": "code",
        "colab": {}
      },
      "source": [
        "import keras"
      ],
      "execution_count": 0,
      "outputs": []
    },
    {
      "cell_type": "code",
      "metadata": {
        "id": "8K8a1I3yU9FS",
        "colab_type": "code",
        "outputId": "e839a1e1-98fa-4bfd-a179-0340925e588c",
        "colab": {
          "base_uri": "https://localhost:8080/",
          "height": 1000
        }
      },
      "source": [
        "num_epochs = 20\n",
        "all_acc_histories = []\n",
        "all_loss_histories = []\n",
        "all_val_acc_histories = []\n",
        "all_val_loss_histories = []\n",
        "\n",
        "for train_index, val_index in skf.split(train_data_stand_pca, train_labels_dec):\n",
        " \n",
        "  partial_train_data = np.array([train_data_stand_pca[i] for i in train_index])\n",
        "  partial_train_targets = np.array([train_labels_dec[i] for i in train_index])\n",
        "  \n",
        "  val_data = np.array([train_data_stand_pca[i] for i in val_index])\n",
        "  val_targets = np.array([train_labels_dec[i] for i in val_index])\n",
        "\n",
        "  one_hot_partial_train_targets = to_categorical(partial_train_targets)\n",
        "  one_hot_val_targets = to_categorical(val_targets)\n",
        "\n",
        " \n",
        "  model = build_model()\n",
        "  history = model.fit(partial_train_data, one_hot_partial_train_targets, validation_data=(val_data, one_hot_val_targets), \n",
        "                      epochs=num_epochs, batch_size=8)\n",
        "  \n",
        "  acc_history = history.history['acc']\n",
        "  all_acc_histories.append(acc_history)\n",
        "\n",
        "  loss_history = history.history['loss']\n",
        "  all_loss_histories.append(loss_history)\n",
        "\n",
        "  acc_val_history = history.history['val_acc']\n",
        "  all_val_acc_histories.append(acc_val_history)\n",
        "\n",
        "  loss_val_history = history.history['val_loss']\n",
        "  all_val_loss_histories.append(loss_val_history)\n",
        "  \n",
        "\n",
        "#I parametri per la valutazione vengono calcolati per ogni epoca, quindi num_epochs volte. \n",
        "#Il tutto viene ripetuto un numero di volte pari a n_splits.\n",
        "#Si ottiene una lista con n_splits elementi ciascuno dei quali è una lista lunga num_epochs,\n",
        "#ogni elemento può essere uno fra questi: dict_keys(['val_loss', 'val_acc', 'loss', 'acc']) "
      ],
      "execution_count": 36,
      "outputs": [
        {
          "output_type": "stream",
          "text": [
            "WARNING:tensorflow:From /usr/local/lib/python3.6/dist-packages/keras/backend/tensorflow_backend.py:66: The name tf.get_default_graph is deprecated. Please use tf.compat.v1.get_default_graph instead.\n",
            "\n",
            "WARNING:tensorflow:From /usr/local/lib/python3.6/dist-packages/keras/backend/tensorflow_backend.py:541: The name tf.placeholder is deprecated. Please use tf.compat.v1.placeholder instead.\n",
            "\n",
            "WARNING:tensorflow:From /usr/local/lib/python3.6/dist-packages/keras/backend/tensorflow_backend.py:4432: The name tf.random_uniform is deprecated. Please use tf.random.uniform instead.\n",
            "\n",
            "WARNING:tensorflow:From /usr/local/lib/python3.6/dist-packages/keras/optimizers.py:793: The name tf.train.Optimizer is deprecated. Please use tf.compat.v1.train.Optimizer instead.\n",
            "\n",
            "WARNING:tensorflow:From /usr/local/lib/python3.6/dist-packages/keras/backend/tensorflow_backend.py:3576: The name tf.log is deprecated. Please use tf.math.log instead.\n",
            "\n",
            "WARNING:tensorflow:From /usr/local/lib/python3.6/dist-packages/tensorflow_core/python/ops/math_grad.py:1424: where (from tensorflow.python.ops.array_ops) is deprecated and will be removed in a future version.\n",
            "Instructions for updating:\n",
            "Use tf.where in 2.0, which has the same broadcast rule as np.where\n",
            "WARNING:tensorflow:From /usr/local/lib/python3.6/dist-packages/keras/backend/tensorflow_backend.py:1033: The name tf.assign_add is deprecated. Please use tf.compat.v1.assign_add instead.\n",
            "\n",
            "WARNING:tensorflow:From /usr/local/lib/python3.6/dist-packages/keras/backend/tensorflow_backend.py:1020: The name tf.assign is deprecated. Please use tf.compat.v1.assign instead.\n",
            "\n",
            "WARNING:tensorflow:From /usr/local/lib/python3.6/dist-packages/keras/backend/tensorflow_backend.py:3005: The name tf.Session is deprecated. Please use tf.compat.v1.Session instead.\n",
            "\n",
            "Train on 116 samples, validate on 15 samples\n",
            "Epoch 1/20\n",
            "WARNING:tensorflow:From /usr/local/lib/python3.6/dist-packages/keras/backend/tensorflow_backend.py:190: The name tf.get_default_session is deprecated. Please use tf.compat.v1.get_default_session instead.\n",
            "\n",
            "WARNING:tensorflow:From /usr/local/lib/python3.6/dist-packages/keras/backend/tensorflow_backend.py:197: The name tf.ConfigProto is deprecated. Please use tf.compat.v1.ConfigProto instead.\n",
            "\n",
            "WARNING:tensorflow:From /usr/local/lib/python3.6/dist-packages/keras/backend/tensorflow_backend.py:207: The name tf.global_variables is deprecated. Please use tf.compat.v1.global_variables instead.\n",
            "\n",
            "WARNING:tensorflow:From /usr/local/lib/python3.6/dist-packages/keras/backend/tensorflow_backend.py:216: The name tf.is_variable_initialized is deprecated. Please use tf.compat.v1.is_variable_initialized instead.\n",
            "\n",
            "WARNING:tensorflow:From /usr/local/lib/python3.6/dist-packages/keras/backend/tensorflow_backend.py:223: The name tf.variables_initializer is deprecated. Please use tf.compat.v1.variables_initializer instead.\n",
            "\n",
            "116/116 [==============================] - 1s 5ms/step - loss: 1.7908 - acc: 0.4483 - val_loss: 1.6421 - val_acc: 0.4667\n",
            "Epoch 2/20\n",
            "116/116 [==============================] - 0s 192us/step - loss: 1.3637 - acc: 0.4569 - val_loss: 1.2679 - val_acc: 0.5333\n",
            "Epoch 3/20\n",
            "116/116 [==============================] - 0s 192us/step - loss: 1.1271 - acc: 0.5259 - val_loss: 1.1386 - val_acc: 0.5333\n",
            "Epoch 4/20\n",
            "116/116 [==============================] - 0s 186us/step - loss: 1.0340 - acc: 0.5603 - val_loss: 1.0479 - val_acc: 0.5333\n",
            "Epoch 5/20\n",
            "116/116 [==============================] - 0s 175us/step - loss: 0.9838 - acc: 0.5776 - val_loss: 1.0553 - val_acc: 0.4667\n",
            "Epoch 6/20\n",
            "116/116 [==============================] - 0s 204us/step - loss: 0.9536 - acc: 0.5603 - val_loss: 1.0352 - val_acc: 0.4667\n",
            "Epoch 7/20\n",
            "116/116 [==============================] - 0s 159us/step - loss: 0.9309 - acc: 0.5948 - val_loss: 1.0125 - val_acc: 0.4667\n",
            "Epoch 8/20\n",
            "116/116 [==============================] - 0s 201us/step - loss: 0.9156 - acc: 0.5603 - val_loss: 0.9298 - val_acc: 0.5333\n",
            "Epoch 9/20\n",
            "116/116 [==============================] - 0s 194us/step - loss: 0.8954 - acc: 0.5862 - val_loss: 0.9361 - val_acc: 0.4667\n",
            "Epoch 10/20\n",
            "116/116 [==============================] - 0s 181us/step - loss: 0.8952 - acc: 0.5690 - val_loss: 0.8782 - val_acc: 0.5333\n",
            "Epoch 11/20\n",
            "116/116 [==============================] - 0s 202us/step - loss: 0.8840 - acc: 0.6034 - val_loss: 0.9345 - val_acc: 0.5333\n",
            "Epoch 12/20\n",
            "116/116 [==============================] - 0s 182us/step - loss: 0.8865 - acc: 0.6034 - val_loss: 0.9362 - val_acc: 0.4667\n",
            "Epoch 13/20\n",
            "116/116 [==============================] - 0s 171us/step - loss: 0.8796 - acc: 0.6034 - val_loss: 0.9016 - val_acc: 0.5333\n",
            "Epoch 14/20\n",
            "116/116 [==============================] - 0s 166us/step - loss: 0.8736 - acc: 0.6034 - val_loss: 0.8960 - val_acc: 0.5333\n",
            "Epoch 15/20\n",
            "116/116 [==============================] - 0s 155us/step - loss: 0.8659 - acc: 0.5862 - val_loss: 0.8904 - val_acc: 0.5333\n",
            "Epoch 16/20\n",
            "116/116 [==============================] - 0s 190us/step - loss: 0.8665 - acc: 0.5776 - val_loss: 0.9122 - val_acc: 0.5333\n",
            "Epoch 17/20\n",
            "116/116 [==============================] - 0s 167us/step - loss: 0.8529 - acc: 0.6121 - val_loss: 0.9338 - val_acc: 0.4667\n",
            "Epoch 18/20\n",
            "116/116 [==============================] - 0s 218us/step - loss: 0.8494 - acc: 0.5862 - val_loss: 0.9445 - val_acc: 0.4667\n",
            "Epoch 19/20\n",
            "116/116 [==============================] - 0s 199us/step - loss: 0.8506 - acc: 0.5948 - val_loss: 0.8810 - val_acc: 0.5333\n",
            "Epoch 20/20\n",
            "116/116 [==============================] - 0s 175us/step - loss: 0.8405 - acc: 0.5776 - val_loss: 0.9315 - val_acc: 0.5333\n",
            "Train on 117 samples, validate on 14 samples\n",
            "Epoch 1/20\n",
            "117/117 [==============================] - 0s 1ms/step - loss: 1.9342 - acc: 0.3248 - val_loss: 1.3455 - val_acc: 0.4286\n",
            "Epoch 2/20\n",
            "117/117 [==============================] - 0s 185us/step - loss: 1.3152 - acc: 0.3419 - val_loss: 1.1710 - val_acc: 0.3571\n",
            "Epoch 3/20\n",
            "117/117 [==============================] - 0s 183us/step - loss: 1.1774 - acc: 0.4274 - val_loss: 1.0896 - val_acc: 0.4286\n",
            "Epoch 4/20\n",
            "117/117 [==============================] - 0s 186us/step - loss: 1.1181 - acc: 0.4701 - val_loss: 1.0609 - val_acc: 0.4286\n",
            "Epoch 5/20\n",
            "117/117 [==============================] - 0s 206us/step - loss: 1.0822 - acc: 0.5299 - val_loss: 1.0562 - val_acc: 0.5000\n",
            "Epoch 6/20\n",
            "117/117 [==============================] - 0s 168us/step - loss: 1.0582 - acc: 0.4957 - val_loss: 1.0480 - val_acc: 0.4286\n",
            "Epoch 7/20\n",
            "117/117 [==============================] - 0s 151us/step - loss: 1.0348 - acc: 0.5299 - val_loss: 1.0454 - val_acc: 0.4286\n",
            "Epoch 8/20\n",
            "117/117 [==============================] - 0s 183us/step - loss: 1.0259 - acc: 0.5470 - val_loss: 1.0475 - val_acc: 0.4286\n",
            "Epoch 9/20\n",
            "117/117 [==============================] - 0s 162us/step - loss: 1.0202 - acc: 0.5385 - val_loss: 1.0412 - val_acc: 0.4286\n",
            "Epoch 10/20\n",
            "117/117 [==============================] - 0s 188us/step - loss: 1.0068 - acc: 0.5470 - val_loss: 1.0407 - val_acc: 0.5000\n",
            "Epoch 11/20\n",
            "117/117 [==============================] - 0s 158us/step - loss: 0.9976 - acc: 0.5214 - val_loss: 1.0340 - val_acc: 0.4286\n",
            "Epoch 12/20\n",
            "117/117 [==============================] - 0s 164us/step - loss: 0.9895 - acc: 0.5556 - val_loss: 1.0336 - val_acc: 0.5000\n",
            "Epoch 13/20\n",
            "117/117 [==============================] - 0s 186us/step - loss: 0.9824 - acc: 0.5214 - val_loss: 1.0356 - val_acc: 0.5000\n",
            "Epoch 14/20\n",
            "117/117 [==============================] - 0s 178us/step - loss: 0.9822 - acc: 0.5043 - val_loss: 1.0343 - val_acc: 0.4286\n",
            "Epoch 15/20\n",
            "117/117 [==============================] - 0s 165us/step - loss: 0.9730 - acc: 0.5726 - val_loss: 1.0382 - val_acc: 0.5000\n",
            "Epoch 16/20\n",
            "117/117 [==============================] - 0s 163us/step - loss: 0.9702 - acc: 0.5299 - val_loss: 1.0351 - val_acc: 0.5714\n",
            "Epoch 17/20\n",
            "117/117 [==============================] - 0s 170us/step - loss: 0.9640 - acc: 0.5556 - val_loss: 1.0354 - val_acc: 0.5714\n",
            "Epoch 18/20\n",
            "117/117 [==============================] - 0s 195us/step - loss: 0.9608 - acc: 0.5385 - val_loss: 1.0325 - val_acc: 0.5000\n",
            "Epoch 19/20\n",
            "117/117 [==============================] - 0s 160us/step - loss: 0.9521 - acc: 0.5812 - val_loss: 1.0352 - val_acc: 0.5000\n",
            "Epoch 20/20\n",
            "117/117 [==============================] - 0s 186us/step - loss: 0.9526 - acc: 0.5470 - val_loss: 1.0385 - val_acc: 0.5000\n",
            "Train on 117 samples, validate on 14 samples\n",
            "Epoch 1/20\n",
            "117/117 [==============================] - 0s 2ms/step - loss: 2.3036 - acc: 0.4017 - val_loss: 2.0036 - val_acc: 0.5000\n",
            "Epoch 2/20\n",
            "117/117 [==============================] - 0s 188us/step - loss: 1.7144 - acc: 0.3846 - val_loss: 1.4761 - val_acc: 0.6429\n",
            "Epoch 3/20\n",
            "117/117 [==============================] - 0s 181us/step - loss: 1.2766 - acc: 0.4444 - val_loss: 1.2487 - val_acc: 0.5000\n",
            "Epoch 4/20\n",
            "117/117 [==============================] - 0s 187us/step - loss: 1.1097 - acc: 0.4872 - val_loss: 1.1736 - val_acc: 0.5000\n",
            "Epoch 5/20\n",
            "117/117 [==============================] - 0s 204us/step - loss: 1.0338 - acc: 0.5299 - val_loss: 1.1611 - val_acc: 0.6429\n",
            "Epoch 6/20\n",
            "117/117 [==============================] - 0s 193us/step - loss: 1.0043 - acc: 0.5128 - val_loss: 1.1065 - val_acc: 0.6429\n",
            "Epoch 7/20\n",
            "117/117 [==============================] - 0s 172us/step - loss: 0.9717 - acc: 0.5214 - val_loss: 1.0780 - val_acc: 0.6429\n",
            "Epoch 8/20\n",
            "117/117 [==============================] - 0s 158us/step - loss: 0.9573 - acc: 0.5470 - val_loss: 1.0705 - val_acc: 0.6429\n",
            "Epoch 9/20\n",
            "117/117 [==============================] - 0s 212us/step - loss: 0.9391 - acc: 0.5556 - val_loss: 1.0423 - val_acc: 0.5714\n",
            "Epoch 10/20\n",
            "117/117 [==============================] - 0s 162us/step - loss: 0.9358 - acc: 0.5128 - val_loss: 1.0501 - val_acc: 0.5714\n",
            "Epoch 11/20\n",
            "117/117 [==============================] - 0s 157us/step - loss: 0.9198 - acc: 0.5385 - val_loss: 1.0576 - val_acc: 0.5714\n",
            "Epoch 12/20\n",
            "117/117 [==============================] - 0s 156us/step - loss: 0.9056 - acc: 0.5641 - val_loss: 1.0471 - val_acc: 0.6429\n",
            "Epoch 13/20\n",
            "117/117 [==============================] - 0s 163us/step - loss: 0.9011 - acc: 0.5385 - val_loss: 1.0702 - val_acc: 0.5714\n",
            "Epoch 14/20\n",
            "117/117 [==============================] - 0s 196us/step - loss: 0.8945 - acc: 0.5641 - val_loss: 1.0590 - val_acc: 0.5714\n",
            "Epoch 15/20\n",
            "117/117 [==============================] - 0s 166us/step - loss: 0.8793 - acc: 0.5556 - val_loss: 1.0838 - val_acc: 0.5714\n",
            "Epoch 16/20\n",
            "117/117 [==============================] - 0s 152us/step - loss: 0.8724 - acc: 0.5641 - val_loss: 1.0553 - val_acc: 0.5714\n",
            "Epoch 17/20\n",
            "117/117 [==============================] - 0s 151us/step - loss: 0.8707 - acc: 0.5726 - val_loss: 1.0644 - val_acc: 0.5714\n",
            "Epoch 18/20\n",
            "117/117 [==============================] - 0s 150us/step - loss: 0.8565 - acc: 0.5470 - val_loss: 1.0850 - val_acc: 0.5714\n",
            "Epoch 19/20\n",
            "117/117 [==============================] - 0s 148us/step - loss: 0.8695 - acc: 0.5812 - val_loss: 1.0727 - val_acc: 0.5714\n",
            "Epoch 20/20\n",
            "117/117 [==============================] - 0s 166us/step - loss: 0.8465 - acc: 0.5812 - val_loss: 1.0743 - val_acc: 0.5714\n",
            "Train on 117 samples, validate on 14 samples\n",
            "Epoch 1/20\n",
            "117/117 [==============================] - 0s 2ms/step - loss: 1.7922 - acc: 0.4530 - val_loss: 1.3095 - val_acc: 0.4286\n",
            "Epoch 2/20\n",
            "117/117 [==============================] - 0s 199us/step - loss: 1.1842 - acc: 0.4359 - val_loss: 1.1590 - val_acc: 0.4286\n",
            "Epoch 3/20\n",
            "117/117 [==============================] - 0s 189us/step - loss: 1.0801 - acc: 0.4188 - val_loss: 1.1392 - val_acc: 0.4286\n",
            "Epoch 4/20\n",
            "117/117 [==============================] - 0s 162us/step - loss: 1.0366 - acc: 0.5128 - val_loss: 1.1226 - val_acc: 0.4286\n",
            "Epoch 5/20\n",
            "117/117 [==============================] - 0s 173us/step - loss: 0.9917 - acc: 0.4957 - val_loss: 1.1065 - val_acc: 0.5000\n",
            "Epoch 6/20\n",
            "117/117 [==============================] - 0s 168us/step - loss: 0.9795 - acc: 0.5470 - val_loss: 1.0827 - val_acc: 0.5000\n",
            "Epoch 7/20\n",
            "117/117 [==============================] - 0s 155us/step - loss: 0.9655 - acc: 0.5214 - val_loss: 1.0831 - val_acc: 0.5000\n",
            "Epoch 8/20\n",
            "117/117 [==============================] - 0s 160us/step - loss: 0.9567 - acc: 0.5385 - val_loss: 1.0641 - val_acc: 0.5000\n",
            "Epoch 9/20\n",
            "117/117 [==============================] - 0s 180us/step - loss: 0.9492 - acc: 0.5556 - val_loss: 1.0518 - val_acc: 0.5714\n",
            "Epoch 10/20\n",
            "117/117 [==============================] - 0s 177us/step - loss: 0.9352 - acc: 0.5641 - val_loss: 1.0519 - val_acc: 0.5000\n",
            "Epoch 11/20\n",
            "117/117 [==============================] - 0s 180us/step - loss: 0.9275 - acc: 0.5726 - val_loss: 1.0390 - val_acc: 0.5714\n",
            "Epoch 12/20\n",
            "117/117 [==============================] - 0s 165us/step - loss: 0.9273 - acc: 0.5556 - val_loss: 1.0301 - val_acc: 0.5714\n",
            "Epoch 13/20\n",
            "117/117 [==============================] - 0s 170us/step - loss: 0.9256 - acc: 0.5470 - val_loss: 1.0312 - val_acc: 0.5714\n",
            "Epoch 14/20\n",
            "117/117 [==============================] - 0s 158us/step - loss: 0.9212 - acc: 0.5556 - val_loss: 1.0240 - val_acc: 0.5714\n",
            "Epoch 15/20\n",
            "117/117 [==============================] - 0s 164us/step - loss: 0.9225 - acc: 0.5556 - val_loss: 1.0221 - val_acc: 0.5714\n",
            "Epoch 16/20\n",
            "117/117 [==============================] - 0s 154us/step - loss: 0.9171 - acc: 0.5812 - val_loss: 1.0146 - val_acc: 0.5714\n",
            "Epoch 17/20\n",
            "117/117 [==============================] - 0s 164us/step - loss: 0.9061 - acc: 0.5812 - val_loss: 1.0124 - val_acc: 0.5714\n",
            "Epoch 18/20\n",
            "117/117 [==============================] - 0s 178us/step - loss: 0.9069 - acc: 0.5556 - val_loss: 1.0036 - val_acc: 0.5714\n",
            "Epoch 19/20\n",
            "117/117 [==============================] - 0s 180us/step - loss: 0.9035 - acc: 0.5214 - val_loss: 1.0106 - val_acc: 0.5714\n",
            "Epoch 20/20\n",
            "117/117 [==============================] - 0s 168us/step - loss: 0.8939 - acc: 0.5726 - val_loss: 0.9983 - val_acc: 0.6429\n",
            "Train on 118 samples, validate on 13 samples\n",
            "Epoch 1/20\n",
            "118/118 [==============================] - 0s 2ms/step - loss: 1.7396 - acc: 0.3390 - val_loss: 1.9478 - val_acc: 0.4615\n",
            "Epoch 2/20\n",
            "118/118 [==============================] - 0s 174us/step - loss: 1.1560 - acc: 0.4407 - val_loss: 2.0392 - val_acc: 0.3077\n",
            "Epoch 3/20\n",
            "118/118 [==============================] - 0s 179us/step - loss: 1.0236 - acc: 0.4915 - val_loss: 2.0601 - val_acc: 0.3077\n",
            "Epoch 4/20\n",
            "118/118 [==============================] - 0s 185us/step - loss: 0.9890 - acc: 0.5254 - val_loss: 1.9861 - val_acc: 0.3077\n",
            "Epoch 5/20\n",
            "118/118 [==============================] - 0s 157us/step - loss: 0.9467 - acc: 0.5424 - val_loss: 1.9639 - val_acc: 0.3077\n",
            "Epoch 6/20\n",
            "118/118 [==============================] - 0s 175us/step - loss: 0.9266 - acc: 0.5678 - val_loss: 1.8958 - val_acc: 0.3846\n",
            "Epoch 7/20\n",
            "118/118 [==============================] - 0s 159us/step - loss: 0.9161 - acc: 0.5593 - val_loss: 1.8482 - val_acc: 0.3846\n",
            "Epoch 8/20\n",
            "118/118 [==============================] - 0s 175us/step - loss: 0.9021 - acc: 0.5763 - val_loss: 1.8317 - val_acc: 0.3846\n",
            "Epoch 9/20\n",
            "118/118 [==============================] - 0s 158us/step - loss: 0.8911 - acc: 0.5847 - val_loss: 1.7960 - val_acc: 0.3846\n",
            "Epoch 10/20\n",
            "118/118 [==============================] - 0s 157us/step - loss: 0.8820 - acc: 0.5932 - val_loss: 1.7906 - val_acc: 0.3846\n",
            "Epoch 11/20\n",
            "118/118 [==============================] - 0s 160us/step - loss: 0.8762 - acc: 0.6017 - val_loss: 1.7852 - val_acc: 0.3846\n",
            "Epoch 12/20\n",
            "118/118 [==============================] - 0s 161us/step - loss: 0.8666 - acc: 0.5593 - val_loss: 1.7065 - val_acc: 0.3846\n",
            "Epoch 13/20\n",
            "118/118 [==============================] - 0s 185us/step - loss: 0.8670 - acc: 0.6186 - val_loss: 1.7071 - val_acc: 0.4615\n",
            "Epoch 14/20\n",
            "118/118 [==============================] - 0s 188us/step - loss: 0.8574 - acc: 0.6186 - val_loss: 1.6720 - val_acc: 0.4615\n",
            "Epoch 15/20\n",
            "118/118 [==============================] - 0s 172us/step - loss: 0.8514 - acc: 0.5678 - val_loss: 1.6026 - val_acc: 0.3846\n",
            "Epoch 16/20\n",
            "118/118 [==============================] - 0s 163us/step - loss: 0.8491 - acc: 0.6271 - val_loss: 1.6184 - val_acc: 0.4615\n",
            "Epoch 17/20\n",
            "118/118 [==============================] - 0s 161us/step - loss: 0.8424 - acc: 0.5932 - val_loss: 1.6304 - val_acc: 0.4615\n",
            "Epoch 18/20\n",
            "118/118 [==============================] - 0s 154us/step - loss: 0.8453 - acc: 0.5847 - val_loss: 1.6063 - val_acc: 0.4615\n",
            "Epoch 19/20\n",
            "118/118 [==============================] - 0s 166us/step - loss: 0.8374 - acc: 0.6102 - val_loss: 1.5775 - val_acc: 0.4615\n",
            "Epoch 20/20\n",
            "118/118 [==============================] - 0s 165us/step - loss: 0.8290 - acc: 0.6186 - val_loss: 1.5540 - val_acc: 0.4615\n",
            "Train on 118 samples, validate on 13 samples\n",
            "Epoch 1/20\n",
            "118/118 [==============================] - 0s 2ms/step - loss: 1.6406 - acc: 0.2373 - val_loss: 1.4135 - val_acc: 0.3846\n",
            "Epoch 2/20\n",
            "118/118 [==============================] - 0s 161us/step - loss: 1.2795 - acc: 0.2797 - val_loss: 1.2427 - val_acc: 0.2308\n",
            "Epoch 3/20\n",
            "118/118 [==============================] - 0s 157us/step - loss: 1.1679 - acc: 0.3644 - val_loss: 1.2218 - val_acc: 0.0769\n",
            "Epoch 4/20\n",
            "118/118 [==============================] - 0s 159us/step - loss: 1.1169 - acc: 0.4068 - val_loss: 1.2078 - val_acc: 0.0769\n",
            "Epoch 5/20\n",
            "118/118 [==============================] - 0s 188us/step - loss: 1.0814 - acc: 0.4237 - val_loss: 1.1749 - val_acc: 0.1538\n",
            "Epoch 6/20\n",
            "118/118 [==============================] - 0s 234us/step - loss: 1.0524 - acc: 0.4576 - val_loss: 1.1602 - val_acc: 0.2308\n",
            "Epoch 7/20\n",
            "118/118 [==============================] - 0s 157us/step - loss: 1.0238 - acc: 0.4746 - val_loss: 1.1579 - val_acc: 0.3846\n",
            "Epoch 8/20\n",
            "118/118 [==============================] - 0s 158us/step - loss: 1.0025 - acc: 0.5085 - val_loss: 1.1735 - val_acc: 0.3846\n",
            "Epoch 9/20\n",
            "118/118 [==============================] - 0s 163us/step - loss: 0.9880 - acc: 0.5508 - val_loss: 1.2497 - val_acc: 0.3846\n",
            "Epoch 10/20\n",
            "118/118 [==============================] - 0s 164us/step - loss: 0.9732 - acc: 0.5254 - val_loss: 1.2412 - val_acc: 0.4615\n",
            "Epoch 11/20\n",
            "118/118 [==============================] - 0s 162us/step - loss: 0.9552 - acc: 0.5339 - val_loss: 1.2421 - val_acc: 0.4615\n",
            "Epoch 12/20\n",
            "118/118 [==============================] - 0s 156us/step - loss: 0.9500 - acc: 0.5508 - val_loss: 1.3091 - val_acc: 0.3077\n",
            "Epoch 13/20\n",
            "118/118 [==============================] - 0s 191us/step - loss: 0.9431 - acc: 0.5678 - val_loss: 1.3030 - val_acc: 0.3846\n",
            "Epoch 14/20\n",
            "118/118 [==============================] - 0s 203us/step - loss: 0.9350 - acc: 0.5424 - val_loss: 1.3348 - val_acc: 0.3846\n",
            "Epoch 15/20\n",
            "118/118 [==============================] - 0s 202us/step - loss: 0.9314 - acc: 0.5424 - val_loss: 1.3974 - val_acc: 0.3077\n",
            "Epoch 16/20\n",
            "118/118 [==============================] - 0s 171us/step - loss: 0.9206 - acc: 0.5593 - val_loss: 1.4474 - val_acc: 0.2308\n",
            "Epoch 17/20\n",
            "118/118 [==============================] - 0s 159us/step - loss: 0.9076 - acc: 0.5763 - val_loss: 1.4169 - val_acc: 0.3846\n",
            "Epoch 18/20\n",
            "118/118 [==============================] - 0s 160us/step - loss: 0.9192 - acc: 0.5678 - val_loss: 1.4815 - val_acc: 0.3077\n",
            "Epoch 19/20\n",
            "118/118 [==============================] - 0s 163us/step - loss: 0.9015 - acc: 0.5932 - val_loss: 1.4954 - val_acc: 0.3077\n",
            "Epoch 20/20\n",
            "118/118 [==============================] - 0s 164us/step - loss: 0.9051 - acc: 0.5763 - val_loss: 1.5300 - val_acc: 0.3077\n",
            "Train on 119 samples, validate on 12 samples\n",
            "Epoch 1/20\n",
            "119/119 [==============================] - 0s 3ms/step - loss: 1.7313 - acc: 0.4370 - val_loss: 0.9522 - val_acc: 0.4167\n",
            "Epoch 2/20\n",
            "119/119 [==============================] - 0s 170us/step - loss: 1.4318 - acc: 0.4202 - val_loss: 0.8960 - val_acc: 0.5000\n",
            "Epoch 3/20\n",
            "119/119 [==============================] - 0s 180us/step - loss: 1.3067 - acc: 0.5042 - val_loss: 0.8746 - val_acc: 0.5833\n",
            "Epoch 4/20\n",
            "119/119 [==============================] - 0s 160us/step - loss: 1.1849 - acc: 0.4958 - val_loss: 0.8593 - val_acc: 0.5833\n",
            "Epoch 5/20\n",
            "119/119 [==============================] - 0s 165us/step - loss: 1.1279 - acc: 0.5378 - val_loss: 0.8623 - val_acc: 0.5833\n",
            "Epoch 6/20\n",
            "119/119 [==============================] - 0s 184us/step - loss: 1.0970 - acc: 0.5210 - val_loss: 0.8299 - val_acc: 0.6667\n",
            "Epoch 7/20\n",
            "119/119 [==============================] - 0s 153us/step - loss: 1.0449 - acc: 0.5294 - val_loss: 0.7889 - val_acc: 0.6667\n",
            "Epoch 8/20\n",
            "119/119 [==============================] - 0s 162us/step - loss: 1.0357 - acc: 0.5210 - val_loss: 0.7774 - val_acc: 0.6667\n",
            "Epoch 9/20\n",
            "119/119 [==============================] - 0s 163us/step - loss: 1.0094 - acc: 0.5546 - val_loss: 0.8397 - val_acc: 0.6667\n",
            "Epoch 10/20\n",
            "119/119 [==============================] - 0s 182us/step - loss: 1.0001 - acc: 0.5966 - val_loss: 0.8368 - val_acc: 0.6667\n",
            "Epoch 11/20\n",
            "119/119 [==============================] - 0s 167us/step - loss: 0.9919 - acc: 0.5798 - val_loss: 0.8637 - val_acc: 0.6667\n",
            "Epoch 12/20\n",
            "119/119 [==============================] - 0s 161us/step - loss: 0.9824 - acc: 0.5798 - val_loss: 0.8823 - val_acc: 0.6667\n",
            "Epoch 13/20\n",
            "119/119 [==============================] - 0s 186us/step - loss: 0.9589 - acc: 0.5630 - val_loss: 0.8520 - val_acc: 0.7500\n",
            "Epoch 14/20\n",
            "119/119 [==============================] - 0s 164us/step - loss: 0.9627 - acc: 0.5798 - val_loss: 0.8522 - val_acc: 0.7500\n",
            "Epoch 15/20\n",
            "119/119 [==============================] - 0s 195us/step - loss: 0.9474 - acc: 0.5882 - val_loss: 0.9328 - val_acc: 0.5833\n",
            "Epoch 16/20\n",
            "119/119 [==============================] - 0s 176us/step - loss: 0.9446 - acc: 0.5546 - val_loss: 0.8596 - val_acc: 0.7500\n",
            "Epoch 17/20\n",
            "119/119 [==============================] - 0s 209us/step - loss: 0.9355 - acc: 0.5798 - val_loss: 0.8831 - val_acc: 0.7500\n",
            "Epoch 18/20\n",
            "119/119 [==============================] - 0s 176us/step - loss: 0.9381 - acc: 0.5714 - val_loss: 0.8521 - val_acc: 0.7500\n",
            "Epoch 19/20\n",
            "119/119 [==============================] - 0s 157us/step - loss: 0.9365 - acc: 0.5966 - val_loss: 0.8656 - val_acc: 0.7500\n",
            "Epoch 20/20\n",
            "119/119 [==============================] - 0s 248us/step - loss: 0.9261 - acc: 0.5714 - val_loss: 0.8817 - val_acc: 0.7500\n",
            "Train on 119 samples, validate on 12 samples\n",
            "Epoch 1/20\n",
            "119/119 [==============================] - 0s 3ms/step - loss: 2.2006 - acc: 0.2017 - val_loss: 1.8586 - val_acc: 0.2500\n",
            "Epoch 2/20\n",
            "119/119 [==============================] - 0s 178us/step - loss: 1.2413 - acc: 0.3782 - val_loss: 1.6255 - val_acc: 0.1667\n",
            "Epoch 3/20\n",
            "119/119 [==============================] - 0s 176us/step - loss: 1.0768 - acc: 0.4622 - val_loss: 1.4981 - val_acc: 0.2500\n",
            "Epoch 4/20\n",
            "119/119 [==============================] - 0s 161us/step - loss: 1.0214 - acc: 0.5378 - val_loss: 1.4165 - val_acc: 0.1667\n",
            "Epoch 5/20\n",
            "119/119 [==============================] - 0s 180us/step - loss: 0.9719 - acc: 0.5630 - val_loss: 1.3849 - val_acc: 0.2500\n",
            "Epoch 6/20\n",
            "119/119 [==============================] - 0s 185us/step - loss: 0.9570 - acc: 0.5546 - val_loss: 1.3337 - val_acc: 0.2500\n",
            "Epoch 7/20\n",
            "119/119 [==============================] - 0s 165us/step - loss: 0.9453 - acc: 0.5630 - val_loss: 1.3022 - val_acc: 0.4167\n",
            "Epoch 8/20\n",
            "119/119 [==============================] - 0s 170us/step - loss: 0.9258 - acc: 0.5630 - val_loss: 1.2872 - val_acc: 0.3333\n",
            "Epoch 9/20\n",
            "119/119 [==============================] - 0s 161us/step - loss: 0.9152 - acc: 0.5882 - val_loss: 1.2893 - val_acc: 0.4167\n",
            "Epoch 10/20\n",
            "119/119 [==============================] - 0s 154us/step - loss: 0.9105 - acc: 0.5882 - val_loss: 1.2929 - val_acc: 0.4167\n",
            "Epoch 11/20\n",
            "119/119 [==============================] - 0s 201us/step - loss: 0.9186 - acc: 0.5630 - val_loss: 1.2838 - val_acc: 0.4167\n",
            "Epoch 12/20\n",
            "119/119 [==============================] - 0s 173us/step - loss: 0.9045 - acc: 0.5966 - val_loss: 1.2539 - val_acc: 0.4167\n",
            "Epoch 13/20\n",
            "119/119 [==============================] - 0s 165us/step - loss: 0.8914 - acc: 0.6050 - val_loss: 1.2717 - val_acc: 0.4167\n",
            "Epoch 14/20\n",
            "119/119 [==============================] - 0s 162us/step - loss: 0.8864 - acc: 0.6218 - val_loss: 1.2780 - val_acc: 0.4167\n",
            "Epoch 15/20\n",
            "119/119 [==============================] - 0s 179us/step - loss: 0.8890 - acc: 0.5882 - val_loss: 1.2762 - val_acc: 0.5000\n",
            "Epoch 16/20\n",
            "119/119 [==============================] - 0s 209us/step - loss: 0.8815 - acc: 0.5966 - val_loss: 1.2730 - val_acc: 0.4167\n",
            "Epoch 17/20\n",
            "119/119 [==============================] - 0s 225us/step - loss: 0.8852 - acc: 0.6050 - val_loss: 1.3168 - val_acc: 0.5000\n",
            "Epoch 18/20\n",
            "119/119 [==============================] - 0s 171us/step - loss: 0.8795 - acc: 0.6134 - val_loss: 1.3044 - val_acc: 0.5000\n",
            "Epoch 19/20\n",
            "119/119 [==============================] - 0s 165us/step - loss: 0.8792 - acc: 0.6134 - val_loss: 1.3317 - val_acc: 0.5000\n",
            "Epoch 20/20\n",
            "119/119 [==============================] - 0s 175us/step - loss: 0.8677 - acc: 0.6134 - val_loss: 1.3449 - val_acc: 0.5000\n",
            "Train on 119 samples, validate on 12 samples\n",
            "Epoch 1/20\n",
            "119/119 [==============================] - 0s 3ms/step - loss: 1.6903 - acc: 0.4034 - val_loss: 0.7495 - val_acc: 0.7500\n",
            "Epoch 2/20\n",
            "119/119 [==============================] - 0s 186us/step - loss: 1.2736 - acc: 0.4874 - val_loss: 0.7900 - val_acc: 0.6667\n",
            "Epoch 3/20\n",
            "119/119 [==============================] - 0s 186us/step - loss: 1.1773 - acc: 0.4874 - val_loss: 0.8839 - val_acc: 0.5833\n",
            "Epoch 4/20\n",
            "119/119 [==============================] - 0s 199us/step - loss: 1.1049 - acc: 0.5126 - val_loss: 0.9100 - val_acc: 0.5833\n",
            "Epoch 5/20\n",
            "119/119 [==============================] - 0s 194us/step - loss: 1.0415 - acc: 0.5042 - val_loss: 0.9877 - val_acc: 0.5000\n",
            "Epoch 6/20\n",
            "119/119 [==============================] - 0s 192us/step - loss: 1.0188 - acc: 0.5546 - val_loss: 0.9235 - val_acc: 0.5000\n",
            "Epoch 7/20\n",
            "119/119 [==============================] - 0s 170us/step - loss: 0.9798 - acc: 0.5882 - val_loss: 0.9254 - val_acc: 0.4167\n",
            "Epoch 8/20\n",
            "119/119 [==============================] - 0s 170us/step - loss: 0.9504 - acc: 0.5798 - val_loss: 0.8894 - val_acc: 0.5000\n",
            "Epoch 9/20\n",
            "119/119 [==============================] - 0s 167us/step - loss: 0.9655 - acc: 0.5378 - val_loss: 0.9483 - val_acc: 0.5000\n",
            "Epoch 10/20\n",
            "119/119 [==============================] - 0s 167us/step - loss: 0.9372 - acc: 0.6050 - val_loss: 0.9958 - val_acc: 0.4167\n",
            "Epoch 11/20\n",
            "119/119 [==============================] - 0s 170us/step - loss: 0.9240 - acc: 0.6303 - val_loss: 0.9530 - val_acc: 0.5000\n",
            "Epoch 12/20\n",
            "119/119 [==============================] - 0s 163us/step - loss: 0.9148 - acc: 0.6471 - val_loss: 0.9393 - val_acc: 0.5000\n",
            "Epoch 13/20\n",
            "119/119 [==============================] - 0s 245us/step - loss: 0.9005 - acc: 0.6555 - val_loss: 0.9527 - val_acc: 0.5000\n",
            "Epoch 14/20\n",
            "119/119 [==============================] - 0s 162us/step - loss: 0.9124 - acc: 0.6471 - val_loss: 1.0045 - val_acc: 0.5000\n",
            "Epoch 15/20\n",
            "119/119 [==============================] - 0s 163us/step - loss: 0.8868 - acc: 0.6387 - val_loss: 1.0284 - val_acc: 0.5000\n",
            "Epoch 16/20\n",
            "119/119 [==============================] - 0s 193us/step - loss: 0.8894 - acc: 0.6471 - val_loss: 1.0145 - val_acc: 0.5000\n",
            "Epoch 17/20\n",
            "119/119 [==============================] - 0s 167us/step - loss: 0.8843 - acc: 0.6555 - val_loss: 0.9740 - val_acc: 0.5000\n",
            "Epoch 18/20\n",
            "119/119 [==============================] - 0s 175us/step - loss: 0.8854 - acc: 0.6555 - val_loss: 1.0331 - val_acc: 0.5000\n",
            "Epoch 19/20\n",
            "119/119 [==============================] - 0s 163us/step - loss: 0.8755 - acc: 0.6639 - val_loss: 1.0170 - val_acc: 0.5000\n",
            "Epoch 20/20\n",
            "119/119 [==============================] - 0s 149us/step - loss: 0.8723 - acc: 0.6639 - val_loss: 1.0365 - val_acc: 0.5000\n",
            "Train on 119 samples, validate on 12 samples\n",
            "Epoch 1/20\n",
            "119/119 [==============================] - 0s 4ms/step - loss: 1.6043 - acc: 0.3109 - val_loss: 1.7348 - val_acc: 0.4167\n",
            "Epoch 2/20\n",
            "119/119 [==============================] - 0s 183us/step - loss: 1.2991 - acc: 0.4202 - val_loss: 1.6554 - val_acc: 0.5833\n",
            "Epoch 3/20\n",
            "119/119 [==============================] - 0s 163us/step - loss: 1.1643 - acc: 0.4706 - val_loss: 1.5141 - val_acc: 0.5000\n",
            "Epoch 4/20\n",
            "119/119 [==============================] - 0s 166us/step - loss: 1.0663 - acc: 0.5294 - val_loss: 1.4507 - val_acc: 0.5000\n",
            "Epoch 5/20\n",
            "119/119 [==============================] - 0s 147us/step - loss: 1.0148 - acc: 0.5714 - val_loss: 1.3643 - val_acc: 0.5000\n",
            "Epoch 6/20\n",
            "119/119 [==============================] - 0s 190us/step - loss: 0.9866 - acc: 0.5966 - val_loss: 1.2299 - val_acc: 0.5833\n",
            "Epoch 7/20\n",
            "119/119 [==============================] - 0s 148us/step - loss: 0.9767 - acc: 0.5546 - val_loss: 1.1965 - val_acc: 0.5833\n",
            "Epoch 8/20\n",
            "119/119 [==============================] - 0s 164us/step - loss: 0.9576 - acc: 0.5714 - val_loss: 1.1516 - val_acc: 0.5833\n",
            "Epoch 9/20\n",
            "119/119 [==============================] - 0s 204us/step - loss: 0.9431 - acc: 0.5798 - val_loss: 1.1675 - val_acc: 0.5000\n",
            "Epoch 10/20\n",
            "119/119 [==============================] - 0s 192us/step - loss: 0.9359 - acc: 0.5966 - val_loss: 1.1118 - val_acc: 0.5833\n",
            "Epoch 11/20\n",
            "119/119 [==============================] - 0s 177us/step - loss: 0.9380 - acc: 0.5882 - val_loss: 1.1057 - val_acc: 0.5833\n",
            "Epoch 12/20\n",
            "119/119 [==============================] - 0s 165us/step - loss: 0.9287 - acc: 0.6134 - val_loss: 1.1260 - val_acc: 0.5000\n",
            "Epoch 13/20\n",
            "119/119 [==============================] - 0s 158us/step - loss: 0.9286 - acc: 0.5966 - val_loss: 1.0932 - val_acc: 0.5000\n",
            "Epoch 14/20\n",
            "119/119 [==============================] - 0s 175us/step - loss: 0.9194 - acc: 0.6303 - val_loss: 1.0618 - val_acc: 0.5833\n",
            "Epoch 15/20\n",
            "119/119 [==============================] - 0s 179us/step - loss: 0.9203 - acc: 0.6218 - val_loss: 1.0161 - val_acc: 0.5833\n",
            "Epoch 16/20\n",
            "119/119 [==============================] - 0s 162us/step - loss: 0.9139 - acc: 0.6134 - val_loss: 1.0136 - val_acc: 0.5833\n",
            "Epoch 17/20\n",
            "119/119 [==============================] - 0s 167us/step - loss: 0.9124 - acc: 0.5966 - val_loss: 1.0230 - val_acc: 0.5833\n",
            "Epoch 18/20\n",
            "119/119 [==============================] - 0s 163us/step - loss: 0.9024 - acc: 0.6134 - val_loss: 0.9784 - val_acc: 0.5833\n",
            "Epoch 19/20\n",
            "119/119 [==============================] - 0s 195us/step - loss: 0.9037 - acc: 0.6050 - val_loss: 0.9871 - val_acc: 0.5833\n",
            "Epoch 20/20\n",
            "119/119 [==============================] - 0s 179us/step - loss: 0.9045 - acc: 0.6218 - val_loss: 0.9450 - val_acc: 0.5833\n"
          ],
          "name": "stdout"
        }
      ]
    },
    {
      "cell_type": "code",
      "metadata": {
        "id": "s2eeOHoYbina",
        "colab_type": "code",
        "colab": {}
      },
      "source": [
        "history_dict = history.history"
      ],
      "execution_count": 0,
      "outputs": []
    },
    {
      "cell_type": "code",
      "metadata": {
        "id": "-zDN2PrRc36l",
        "colab_type": "code",
        "outputId": "845a25b7-397c-493c-b1e7-e6b5af787918",
        "colab": {
          "base_uri": "https://localhost:8080/",
          "height": 34
        }
      },
      "source": [
        "history_dict.keys()"
      ],
      "execution_count": 38,
      "outputs": [
        {
          "output_type": "execute_result",
          "data": {
            "text/plain": [
              "dict_keys(['val_loss', 'val_acc', 'loss', 'acc'])"
            ]
          },
          "metadata": {
            "tags": []
          },
          "execution_count": 38
        }
      ]
    },
    {
      "cell_type": "code",
      "metadata": {
        "id": "tss7vRUEgAcz",
        "colab_type": "code",
        "outputId": "56c62628-95b6-437f-f14b-8fb2d6f0588d",
        "colab": {
          "base_uri": "https://localhost:8080/",
          "height": 34
        }
      },
      "source": [
        "len(all_acc_histories[2])"
      ],
      "execution_count": 39,
      "outputs": [
        {
          "output_type": "execute_result",
          "data": {
            "text/plain": [
              "20"
            ]
          },
          "metadata": {
            "tags": []
          },
          "execution_count": 39
        }
      ]
    },
    {
      "cell_type": "code",
      "metadata": {
        "id": "HpKE3iTJBHzO",
        "colab_type": "code",
        "colab": {}
      },
      "source": [
        "average_acc_history = [np.mean([x[i] for x in all_acc_histories]) for i in range(num_epochs)]\n",
        "#media per epoca degli score ottenuti per tutte le k-fold\n",
        "#per ogni k-fold di fanno num_epoch epoche, la media viene fatta prendendo gli score di tutti i k-fold relativi ad una data epoca,\n",
        "#e si fa questo per tutte le epoche\n",
        "average_loss_history = [np.mean([x[i] for x in all_loss_histories]) for i in range(num_epochs)]\n",
        "average_val_acc_history = [np.mean([x[i] for x in all_val_acc_histories]) for i in range(num_epochs)]\n",
        "average_val_loss_history = [np.mean([x[i] for x in all_val_loss_histories]) for i in range(num_epochs)]\n"
      ],
      "execution_count": 0,
      "outputs": []
    },
    {
      "cell_type": "code",
      "metadata": {
        "id": "uQrkCEMUD2RI",
        "colab_type": "code",
        "outputId": "51d4180f-bbd5-4118-9d5a-22addfc032fd",
        "colab": {
          "base_uri": "https://localhost:8080/",
          "height": 34
        }
      },
      "source": [
        "len(average_val_acc_history)"
      ],
      "execution_count": 41,
      "outputs": [
        {
          "output_type": "execute_result",
          "data": {
            "text/plain": [
              "20"
            ]
          },
          "metadata": {
            "tags": []
          },
          "execution_count": 41
        }
      ]
    },
    {
      "cell_type": "markdown",
      "metadata": {
        "id": "B9UhSxIaHtuO",
        "colab_type": "text"
      },
      "source": [
        "##Plotting training and validation loss"
      ]
    },
    {
      "cell_type": "code",
      "metadata": {
        "id": "vq6zsienD5ct",
        "colab_type": "code",
        "colab": {}
      },
      "source": [
        "import matplotlib.pyplot as plt"
      ],
      "execution_count": 0,
      "outputs": []
    },
    {
      "cell_type": "code",
      "metadata": {
        "id": "XJizyjnaIPhQ",
        "colab_type": "code",
        "colab": {}
      },
      "source": [
        "epochs = range(1, num_epochs+1)"
      ],
      "execution_count": 0,
      "outputs": []
    },
    {
      "cell_type": "code",
      "metadata": {
        "id": "HfEHEYLgIQUQ",
        "colab_type": "code",
        "outputId": "d0cd061f-5fa9-4662-882e-8e40d3c5f9d7",
        "colab": {
          "base_uri": "https://localhost:8080/",
          "height": 312
        }
      },
      "source": [
        "plt.plot(epochs, average_loss_history, 'bo', label='training loss')\n",
        "plt.plot(epochs, average_val_loss_history, 'b', label='validation loss')\n",
        "plt.title('Training and validation loss')\n",
        "plt.xlabel('Epochs')\n",
        "plt.ylabel('Loss')\n",
        "plt.legend()"
      ],
      "execution_count": 44,
      "outputs": [
        {
          "output_type": "execute_result",
          "data": {
            "text/plain": [
              "<matplotlib.legend.Legend at 0x7f1cc29b3d30>"
            ]
          },
          "metadata": {
            "tags": []
          },
          "execution_count": 44
        },
        {
          "output_type": "display_data",
          "data": {
            "image/png": "[encoded data removed]",
            "text/plain": [
              "<Figure size 432x288 with 1 Axes>"
            ]
          },
          "metadata": {
            "tags": []
          }
        }
      ]
    },
    {
      "cell_type": "markdown",
      "metadata": {
        "id": "Aoc4wMjfI97j",
        "colab_type": "text"
      },
      "source": [
        "##Plotting train and validation accuracy"
      ]
    },
    {
      "cell_type": "code",
      "metadata": {
        "id": "GZi7VzbFIbtJ",
        "colab_type": "code",
        "outputId": "40ef3923-8b53-4c42-84c8-0ba0a0925d2a",
        "colab": {
          "base_uri": "https://localhost:8080/",
          "height": 312
        }
      },
      "source": [
        "plt.plot(epochs, average_acc_history, 'bo', label='Training accuracy')\n",
        "plt.plot(epochs, average_val_acc_history, 'b', label='Validation accuracy')\n",
        "plt.title('Training and validation accuracy')\n",
        "plt.xlabel('Epochs')\n",
        "plt.ylabel('Accuracy')\n",
        "plt.legend() "
      ],
      "execution_count": 45,
      "outputs": [
        {
          "output_type": "execute_result",
          "data": {
            "text/plain": [
              "<matplotlib.legend.Legend at 0x7f1cc248edd8>"
            ]
          },
          "metadata": {
            "tags": []
          },
          "execution_count": 45
        },
        {
          "output_type": "display_data",
          "data": {
            "image/png": "[encoded data removed]",
            "text/plain": [
              "<Figure size 432x288 with 1 Axes>"
            ]
          },
          "metadata": {
            "tags": []
          }
        }
      ]
    },
    {
      "cell_type": "markdown",
      "metadata": {
        "id": "bgN-E84SUPUq",
        "colab_type": "text"
      },
      "source": [
        "#Performances on test set"
      ]
    },
    {
      "cell_type": "code",
      "metadata": {
        "id": "VokWFUNPJOsJ",
        "colab_type": "code",
        "outputId": "84ef99b4-19b0-4c14-e768-dd650007af66",
        "colab": {
          "base_uri": "https://localhost:8080/",
          "height": 729
        }
      },
      "source": [
        " model = build_model()\n",
        " model.fit(train_data_stand_pca, one_hot_train_labels, epochs= num_epochs, batch_size=8, shuffle=True)\n",
        " test_loss, test_acc = model.evaluate(test_data_stand_pca, one_hot_test_labels)\n",
        "  "
      ],
      "execution_count": 46,
      "outputs": [
        {
          "output_type": "stream",
          "text": [
            "Epoch 1/20\n",
            "131/131 [==============================] - 0s 3ms/step - loss: 1.8773 - acc: 0.3893\n",
            "Epoch 2/20\n",
            "131/131 [==============================] - 0s 156us/step - loss: 1.4253 - acc: 0.4427\n",
            "Epoch 3/20\n",
            "131/131 [==============================] - 0s 162us/step - loss: 1.2379 - acc: 0.4580\n",
            "Epoch 4/20\n",
            "131/131 [==============================] - 0s 154us/step - loss: 1.1625 - acc: 0.4656\n",
            "Epoch 5/20\n",
            "131/131 [==============================] - 0s 156us/step - loss: 1.1127 - acc: 0.5267\n",
            "Epoch 6/20\n",
            "131/131 [==============================] - 0s 171us/step - loss: 1.0713 - acc: 0.5649\n",
            "Epoch 7/20\n",
            "131/131 [==============================] - 0s 142us/step - loss: 1.0358 - acc: 0.5191\n",
            "Epoch 8/20\n",
            "131/131 [==============================] - 0s 173us/step - loss: 1.0253 - acc: 0.5038\n",
            "Epoch 9/20\n",
            "131/131 [==============================] - 0s 138us/step - loss: 1.0091 - acc: 0.5725\n",
            "Epoch 10/20\n",
            "131/131 [==============================] - 0s 159us/step - loss: 0.9874 - acc: 0.5954\n",
            "Epoch 11/20\n",
            "131/131 [==============================] - 0s 167us/step - loss: 0.9690 - acc: 0.5649\n",
            "Epoch 12/20\n",
            "131/131 [==============================] - 0s 149us/step - loss: 0.9538 - acc: 0.5954\n",
            "Epoch 13/20\n",
            "131/131 [==============================] - 0s 148us/step - loss: 0.9525 - acc: 0.6031\n",
            "Epoch 14/20\n",
            "131/131 [==============================] - 0s 156us/step - loss: 0.9582 - acc: 0.5344\n",
            "Epoch 15/20\n",
            "131/131 [==============================] - 0s 145us/step - loss: 0.9379 - acc: 0.5954\n",
            "Epoch 16/20\n",
            "131/131 [==============================] - 0s 154us/step - loss: 0.9345 - acc: 0.5649\n",
            "Epoch 17/20\n",
            "131/131 [==============================] - 0s 186us/step - loss: 0.9266 - acc: 0.5802\n",
            "Epoch 18/20\n",
            "131/131 [==============================] - 0s 178us/step - loss: 0.9194 - acc: 0.5802\n",
            "Epoch 19/20\n",
            "131/131 [==============================] - 0s 159us/step - loss: 0.9175 - acc: 0.5878\n",
            "Epoch 20/20\n",
            "131/131 [==============================] - 0s 155us/step - loss: 0.9167 - acc: 0.5878\n",
            "34/34 [==============================] - 0s 4ms/step\n"
          ],
          "name": "stdout"
        }
      ]
    },
    {
      "cell_type": "code",
      "metadata": {
        "id": "J-tXqN8teV_6",
        "colab_type": "code",
        "outputId": "031ae466-808f-49d2-dc81-8287f19abda3",
        "colab": {
          "base_uri": "https://localhost:8080/",
          "height": 34
        }
      },
      "source": [
        "model.metrics_names"
      ],
      "execution_count": 47,
      "outputs": [
        {
          "output_type": "execute_result",
          "data": {
            "text/plain": [
              "['loss', 'acc']"
            ]
          },
          "metadata": {
            "tags": []
          },
          "execution_count": 47
        }
      ]
    },
    {
      "cell_type": "code",
      "metadata": {
        "id": "uLqboU_IeYu-",
        "colab_type": "code",
        "outputId": "3b2dcf74-5e22-46fe-c1b3-c548a8bfe7a2",
        "colab": {
          "base_uri": "https://localhost:8080/",
          "height": 34
        }
      },
      "source": [
        "test_acc\n"
      ],
      "execution_count": 48,
      "outputs": [
        {
          "output_type": "execute_result",
          "data": {
            "text/plain": [
              "0.14705882352941177"
            ]
          },
          "metadata": {
            "tags": []
          },
          "execution_count": 48
        }
      ]
    }
  ]
}