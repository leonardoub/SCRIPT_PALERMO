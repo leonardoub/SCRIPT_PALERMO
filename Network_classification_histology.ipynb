{
  "nbformat": 4,
  "nbformat_minor": 0,
  "metadata": {
    "colab": {
      "name": "Network_classification_histology.ipynb",
      "provenance": [],
      "toc_visible": true,
      "include_colab_link": true
    },
    "kernelspec": {
      "name": "python3",
      "display_name": "Python 3"
    }
  },
  "cells": [
    {
      "cell_type": "markdown",
      "metadata": {
        "id": "view-in-github",
        "colab_type": "text"
      },
      "source": [
        "<a href=\"https://colab.research.google.com/github/leonardoub/SCRIPT_PALERMO/blob/master/Network_classification_histology.ipynb\" target=\"_parent\"><img src=\"https://colab.research.google.com/assets/colab-badge.svg\" alt=\"Open In Colab\"/></a>"
      ]
    },
    {
      "cell_type": "code",
      "metadata": {
        "id": "ck9uZtF_gzU7",
        "colab_type": "code",
        "colab": {}
      },
      "source": [
        "import pandas as pd\n",
        "import numpy as np\n",
        "import matplotlib.pyplot as plt\n",
        "import scipy"
      ],
      "execution_count": 0,
      "outputs": []
    },
    {
      "cell_type": "markdown",
      "metadata": {
        "id": "ln0sTf8q1IrI",
        "colab_type": "text"
      },
      "source": [
        "#Load data"
      ]
    },
    {
      "cell_type": "code",
      "metadata": {
        "id": "lyyNl4gxhEwD",
        "colab_type": "code",
        "outputId": "fb64e33d-30c7-4e49-e0b0-f3f111aa1345",
        "colab": {
          "base_uri": "https://localhost:8080/",
          "height": 34
        }
      },
      "source": [
        "#load data from Drive\n",
        "from google.colab import drive\n",
        "drive.mount('/gdrive')\n",
        "#%cd /gdrive"
      ],
      "execution_count": 785,
      "outputs": [
        {
          "output_type": "stream",
          "text": [
            "Drive already mounted at /gdrive; to attempt to forcibly remount, call drive.mount(\"/gdrive\", force_remount=True).\n"
          ],
          "name": "stdout"
        }
      ]
    },
    {
      "cell_type": "code",
      "metadata": {
        "id": "UCkUXesZhMzg",
        "colab_type": "code",
        "colab": {}
      },
      "source": [
        "train_dataset_path = '/gdrive/My Drive/AIM_PA/database_training2.csv'\n",
        "test_dataset_path = '/gdrive/My Drive/AIM_PA/database_nostro_without_nan.csv'"
      ],
      "execution_count": 0,
      "outputs": []
    },
    {
      "cell_type": "code",
      "metadata": {
        "id": "TczPxOpEhTXw",
        "colab_type": "code",
        "colab": {}
      },
      "source": [
        "df_train = pd.read_csv(train_dataset_path)\n",
        "df_test = pd.read_csv(test_dataset_path)"
      ],
      "execution_count": 0,
      "outputs": []
    },
    {
      "cell_type": "code",
      "metadata": {
        "id": "Ll-87QSVhqhj",
        "colab_type": "code",
        "colab": {}
      },
      "source": [
        "df_train.rename(columns={'Survival.time (months)':'Surv_time_months'}, inplace=True)"
      ],
      "execution_count": 0,
      "outputs": []
    },
    {
      "cell_type": "code",
      "metadata": {
        "id": "ulSbeCedhuxJ",
        "colab_type": "code",
        "colab": {}
      },
      "source": [
        "df_test.rename(columns={'Survival.time (months)':'Surv_time_months'}, inplace=True)"
      ],
      "execution_count": 0,
      "outputs": []
    },
    {
      "cell_type": "code",
      "metadata": {
        "id": "xbcwLGg3iNSn",
        "colab_type": "code",
        "colab": {}
      },
      "source": [
        "df_train.rename(columns={'Overall.Stage':'Overall_Stage'}, inplace=True)\n",
        "df_test.rename(columns={'Overall.Stage':'Overall_Stage'}, inplace=True)"
      ],
      "execution_count": 0,
      "outputs": []
    },
    {
      "cell_type": "code",
      "metadata": {
        "id": "oKKv4iKghWWn",
        "colab_type": "code",
        "colab": {}
      },
      "source": [
        "train_data = df_train.drop(['Histology', 'Surv_time_months', 'OS', 'deadstatus.event','Overall_Stage'], axis=1)"
      ],
      "execution_count": 0,
      "outputs": []
    },
    {
      "cell_type": "code",
      "metadata": {
        "id": "vQdR4izXiT0f",
        "colab_type": "code",
        "colab": {}
      },
      "source": [
        "test_data = df_test.drop(['Histology', 'Surv_time_months', 'OS', 'deadstatus.event','Overall_Stage'], axis=1)"
      ],
      "execution_count": 0,
      "outputs": []
    },
    {
      "cell_type": "code",
      "metadata": {
        "id": "Lu46pqnPhnCG",
        "colab_type": "code",
        "colab": {}
      },
      "source": [
        "train_labels = df_train.Histology"
      ],
      "execution_count": 0,
      "outputs": []
    },
    {
      "cell_type": "code",
      "metadata": {
        "id": "aS5wIylYmsQf",
        "colab_type": "code",
        "colab": {}
      },
      "source": [
        "test_labels = df_test.Histology"
      ],
      "execution_count": 0,
      "outputs": []
    },
    {
      "cell_type": "markdown",
      "metadata": {
        "id": "dtPx7PMDnXM3",
        "colab_type": "text"
      },
      "source": [
        "##Z score dei dati"
      ]
    },
    {
      "cell_type": "code",
      "metadata": {
        "id": "XK4Qji2EnVV4",
        "colab_type": "code",
        "colab": {}
      },
      "source": [
        "mean = train_data.mean(axis=0)\n",
        "train_data_stand = train_data - mean\n",
        "std = train_data.std(axis=0)\n",
        "train_data_stand /= std"
      ],
      "execution_count": 0,
      "outputs": []
    },
    {
      "cell_type": "code",
      "metadata": {
        "id": "YOVOoNOvm0Yx",
        "colab_type": "code",
        "colab": {}
      },
      "source": [
        "test_data_stand = test_data - mean\n",
        "test_data_stand /= std"
      ],
      "execution_count": 0,
      "outputs": []
    },
    {
      "cell_type": "markdown",
      "metadata": {
        "id": "00VohsAyokpq",
        "colab_type": "text"
      },
      "source": [
        "##Vettorizzare i label"
      ]
    },
    {
      "cell_type": "code",
      "metadata": {
        "id": "8RvS_9ISpxRi",
        "colab_type": "code",
        "colab": {}
      },
      "source": [
        "word_index={'adenocarcinoma':0, 'large cell':1, 'squamous cell carcinoma':2}"
      ],
      "execution_count": 0,
      "outputs": []
    },
    {
      "cell_type": "code",
      "metadata": {
        "id": "uiPW9U0XrWY2",
        "colab_type": "code",
        "colab": {}
      },
      "source": [
        "train_labels_dec = [word_index[label] for label in train_labels]"
      ],
      "execution_count": 0,
      "outputs": []
    },
    {
      "cell_type": "code",
      "metadata": {
        "id": "C4SBiKFQsKFw",
        "colab_type": "code",
        "colab": {}
      },
      "source": [
        "test_labels_dec = [word_index[label] for label in test_labels]"
      ],
      "execution_count": 0,
      "outputs": []
    },
    {
      "cell_type": "code",
      "metadata": {
        "id": "0IMbTYR7okJq",
        "colab_type": "code",
        "colab": {}
      },
      "source": [
        "from keras.utils.np_utils import to_categorical"
      ],
      "execution_count": 0,
      "outputs": []
    },
    {
      "cell_type": "code",
      "metadata": {
        "id": "0Frv4FDNn6Qu",
        "colab_type": "code",
        "colab": {}
      },
      "source": [
        "one_hot_train_labels = to_categorical(train_labels_dec)\n",
        "one_hot_test_labels = to_categorical(test_labels_dec)"
      ],
      "execution_count": 0,
      "outputs": []
    },
    {
      "cell_type": "markdown",
      "metadata": {
        "id": "Mn0tkOGc3LKN",
        "colab_type": "text"
      },
      "source": [
        "#PCA"
      ]
    },
    {
      "cell_type": "code",
      "metadata": {
        "id": "oS76u6iu3Seg",
        "colab_type": "code",
        "colab": {}
      },
      "source": [
        "from sklearn.decomposition import PCA"
      ],
      "execution_count": 0,
      "outputs": []
    },
    {
      "cell_type": "code",
      "metadata": {
        "id": "KCjC4zqJ3bui",
        "colab_type": "code",
        "colab": {}
      },
      "source": [
        "pca = PCA(n_components=0.9, svd_solver='full')"
      ],
      "execution_count": 0,
      "outputs": []
    },
    {
      "cell_type": "code",
      "metadata": {
        "id": "dLUCf9qX4p_e",
        "colab_type": "code",
        "outputId": "dd54139e-647f-42ac-bef3-d60ea72a17eb",
        "colab": {
          "base_uri": "https://localhost:8080/",
          "height": 0
        }
      },
      "source": [
        "pca.fit(train_data_stand)"
      ],
      "execution_count": 804,
      "outputs": [
        {
          "output_type": "execute_result",
          "data": {
            "text/plain": [
              "PCA(copy=True, iterated_power='auto', n_components=0.9, random_state=None,\n",
              "    svd_solver='full', tol=0.0, whiten=False)"
            ]
          },
          "metadata": {
            "tags": []
          },
          "execution_count": 804
        }
      ]
    },
    {
      "cell_type": "code",
      "metadata": {
        "id": "QfyaKgNZ44o3",
        "colab_type": "code",
        "colab": {}
      },
      "source": [
        "train_data_stand_pca = pca.transform(train_data_stand)\n",
        "test_data_stand_pca = pca.transform(test_data_stand)"
      ],
      "execution_count": 0,
      "outputs": []
    },
    {
      "cell_type": "code",
      "metadata": {
        "id": "Uz9C4nl05b_g",
        "colab_type": "code",
        "outputId": "a998fe4b-9293-483e-baad-deb623ba7477",
        "colab": {
          "base_uri": "https://localhost:8080/",
          "height": 0
        }
      },
      "source": [
        "train_data_stand_pca.shape"
      ],
      "execution_count": 806,
      "outputs": [
        {
          "output_type": "execute_result",
          "data": {
            "text/plain": [
              "(131, 9)"
            ]
          },
          "metadata": {
            "tags": []
          },
          "execution_count": 806
        }
      ]
    },
    {
      "cell_type": "markdown",
      "metadata": {
        "id": "8wSKvSu4s5ip",
        "colab_type": "text"
      },
      "source": [
        "#Building Network"
      ]
    },
    {
      "cell_type": "code",
      "metadata": {
        "id": "sJTbHiq0D-4x",
        "colab_type": "code",
        "colab": {}
      },
      "source": [
        "from keras import layers\n",
        "from keras.preprocessing import sequence"
      ],
      "execution_count": 0,
      "outputs": []
    },
    {
      "cell_type": "code",
      "metadata": {
        "id": "ShwM6YMqsxxJ",
        "colab_type": "code",
        "colab": {}
      },
      "source": [
        "from keras import layers"
      ],
      "execution_count": 0,
      "outputs": []
    },
    {
      "cell_type": "code",
      "metadata": {
        "id": "IAzbu7P1VylY",
        "colab_type": "code",
        "colab": {}
      },
      "source": [
        "from keras import regularizers"
      ],
      "execution_count": 0,
      "outputs": []
    },
    {
      "cell_type": "code",
      "metadata": {
        "id": "dyqbUCK5wOVt",
        "colab_type": "code",
        "colab": {}
      },
      "source": [
        "from keras.optimizers import SGD"
      ],
      "execution_count": 0,
      "outputs": []
    },
    {
      "cell_type": "code",
      "metadata": {
        "id": "7OAEgN31tHVV",
        "colab_type": "code",
        "colab": {}
      },
      "source": [
        "def build_model():\n",
        "  model = keras.models.Sequential()\n",
        "  model.add(layers.Dense(6, activation='relu', input_shape=(9,)))\n",
        "  #model.add(layers.Dense(7, activation='relu'))\n",
        "  #model.add(layers.Dropout(rate=0.2))\n",
        "\n",
        "  model.add(layers.Dense(3, activation='softmax'))\n",
        "\n",
        "  sgd = SGD(lr=0.01, momentum=0.4)\n",
        "  \n",
        "  model.compile(optimizer=sgd, loss='categorical_crossentropy', metrics=['accuracy'])\n",
        "  return model"
      ],
      "execution_count": 0,
      "outputs": []
    },
    {
      "cell_type": "markdown",
      "metadata": {
        "id": "mIxDu50pBeiz",
        "colab_type": "text"
      },
      "source": [
        "#Stratified k-fold"
      ]
    },
    {
      "cell_type": "markdown",
      "metadata": {
        "id": "ZyLcvedUBpxA",
        "colab_type": "text"
      },
      "source": [
        "This cross-validation object is a variation of KFold that returns stratified folds. The folds are made by preserving the percentage of samples for each class."
      ]
    },
    {
      "cell_type": "code",
      "metadata": {
        "id": "fY1apcZ19gFp",
        "colab_type": "code",
        "colab": {}
      },
      "source": [
        "from sklearn.model_selection import StratifiedKFold"
      ],
      "execution_count": 0,
      "outputs": []
    },
    {
      "cell_type": "code",
      "metadata": {
        "id": "oaBDM-PtBx5V",
        "colab_type": "code",
        "outputId": "75aec72f-8918-4459-e02f-4af6dcdf83aa",
        "colab": {
          "base_uri": "https://localhost:8080/",
          "height": 34
        }
      },
      "source": [
        "skf = StratifiedKFold(n_splits=3, shuffle=True, random_state=1)\n",
        "skf.get_n_splits(train_data_stand_pca, train_labels_dec)"
      ],
      "execution_count": 813,
      "outputs": [
        {
          "output_type": "execute_result",
          "data": {
            "text/plain": [
              "3"
            ]
          },
          "metadata": {
            "tags": []
          },
          "execution_count": 813
        }
      ]
    },
    {
      "cell_type": "code",
      "metadata": {
        "id": "Me-XQzPyD1gi",
        "colab_type": "code",
        "outputId": "a3760318-aa4b-4f3f-c39d-4fc3ad673a0d",
        "colab": {
          "base_uri": "https://localhost:8080/",
          "height": 402
        }
      },
      "source": [
        "for train_index, test_index in skf.split(train_data_stand_pca, train_labels_dec):\n",
        "    print(\"TRAIN:\", train_index, \"TEST:\", test_index)"
      ],
      "execution_count": 814,
      "outputs": [
        {
          "output_type": "stream",
          "text": [
            "TRAIN: [  0   1   4   5   8   9  11  12  14  15  16  17  19  20  22  23  24  25\n",
            "  27  29  30  33  34  36  37  38  39  40  41  42  44  45  46  48  51  52\n",
            "  53  56  57  58  59  60  62  63  65  66  67  69  72  76  77  78  79  80\n",
            "  81  83  84  85  87  88  89  90  92  96  97  98 100 101 102 103 104 105\n",
            " 107 109 110 111 113 115 117 120 121 122 124 125 127 128] TEST: [  2   3   6   7  10  13  18  21  26  28  31  32  35  43  47  49  50  54\n",
            "  55  61  64  68  70  71  73  74  75  82  86  91  93  94  95  99 106 108\n",
            " 112 114 116 118 119 123 126 129 130]\n",
            "TRAIN: [  2   3   5   6   7   8   9  10  11  12  13  18  20  21  25  26  27  28\n",
            "  29  30  31  32  34  35  36  38  39  43  44  45  46  47  48  49  50  53\n",
            "  54  55  57  58  61  63  64  65  66  68  70  71  73  74  75  76  78  82\n",
            "  84  85  86  87  90  91  92  93  94  95  96  99 100 101 102 105 106 108\n",
            " 109 111 112 114 115 116 118 119 122 123 124 125 126 127 129 130] TEST: [  0   1   4  14  15  16  17  19  22  23  24  33  37  40  41  42  51  52\n",
            "  56  59  60  62  67  69  72  77  79  80  81  83  88  89  97  98 103 104\n",
            " 107 110 113 117 120 121 128]\n",
            "TRAIN: [  0   1   2   3   4   6   7  10  13  14  15  16  17  18  19  21  22  23\n",
            "  24  26  28  31  32  33  35  37  40  41  42  43  47  49  50  51  52  54\n",
            "  55  56  59  60  61  62  64  67  68  69  70  71  72  73  74  75  77  79\n",
            "  80  81  82  83  86  88  89  91  93  94  95  97  98  99 103 104 106 107\n",
            " 108 110 112 113 114 116 117 118 119 120 121 123 126 128 129 130] TEST: [  5   8   9  11  12  20  25  27  29  30  34  36  38  39  44  45  46  48\n",
            "  53  57  58  63  65  66  76  78  84  85  87  90  92  96 100 101 102 105\n",
            " 109 111 115 122 124 125 127]\n"
          ],
          "name": "stdout"
        }
      ]
    },
    {
      "cell_type": "code",
      "metadata": {
        "id": "BgdGK-8FK-U_",
        "colab_type": "code",
        "outputId": "276b4d62-b411-458a-c55c-759aa19911d0",
        "colab": {
          "base_uri": "https://localhost:8080/",
          "height": 34
        }
      },
      "source": [
        "train_labels_dec[125]"
      ],
      "execution_count": 815,
      "outputs": [
        {
          "output_type": "execute_result",
          "data": {
            "text/plain": [
              "2"
            ]
          },
          "metadata": {
            "tags": []
          },
          "execution_count": 815
        }
      ]
    },
    {
      "cell_type": "code",
      "metadata": {
        "id": "sBJg0XD4Shhc",
        "colab_type": "code",
        "colab": {}
      },
      "source": [
        "from keras.utils import to_categorical\n"
      ],
      "execution_count": 0,
      "outputs": []
    },
    {
      "cell_type": "code",
      "metadata": {
        "id": "a5Sq8r9GEPx3",
        "colab_type": "code",
        "colab": {}
      },
      "source": [
        "#for train_index, val_index in skf.split(train_data_stand_pca, train_labels_dec):\n",
        " \n",
        "#  partial_train_data = np.array([train_data_stand_pca[i] for i in train_index])\n",
        "#  partial_train_targets = np.array([train_labels_dec[i] for i in train_index])\n",
        "\n",
        "#  val_data = np.array([train_data_stand_pca[i] for i in val_index])\n",
        "#  val_targets = np.array([train_labels_dec[i] for i in val_index])\n",
        "\n",
        "#  one_hot_partial_train_targets = to_categorical(partial_train_targets)\n",
        "#  one_hot_val_targets = to_categorical(val_targets)\n",
        "\n",
        "#  model = build_model()\n",
        "#  model.fit(partial_train_data, one_hot_partial_train_targets, epochs = num_epochs, batch_size=1)\n",
        "\n",
        "#  val_loss, val_accuracy = model.evaluate(val_data, one_hot_val_targets)\n",
        "#  all_scores.append(val_accuracy)\n",
        "#I parametri per la valutazione vengono calcolati una volta per ogni k-fold, per ogni set di validazione, quindi k volte"
      ],
      "execution_count": 0,
      "outputs": []
    },
    {
      "cell_type": "markdown",
      "metadata": {
        "id": "2X5B3lasRcsR",
        "colab_type": "text"
      },
      "source": [
        "C'è un problema: keras.utils.to_categorical produces a one-hot encoded class vector, i.e. the multilabel-indicator mentioned in the error message. StratifiedKFold is not designed to work with such input; i.e. your y must be a 1-D array of your class labels.\n",
        "Essentially, what you have to do is simply to invert the order of the operations: split first (using your intial y_train), and convert to_categorical afterwards."
      ]
    },
    {
      "cell_type": "code",
      "metadata": {
        "id": "F0Sl23XX-uUu",
        "colab_type": "code",
        "colab": {}
      },
      "source": [
        "import keras"
      ],
      "execution_count": 0,
      "outputs": []
    },
    {
      "cell_type": "code",
      "metadata": {
        "id": "8K8a1I3yU9FS",
        "colab_type": "code",
        "outputId": "0b77bcf3-2bae-4584-84f2-e8cdbc275468",
        "colab": {
          "base_uri": "https://localhost:8080/",
          "height": 1000
        }
      },
      "source": [
        "num_epochs = 20\n",
        "all_acc_histories = []\n",
        "all_loss_histories = []\n",
        "all_val_acc_histories = []\n",
        "all_val_loss_histories = []\n",
        "\n",
        "for train_index, val_index in skf.split(train_data_stand_pca, train_labels_dec):\n",
        " \n",
        "  partial_train_data = np.array([train_data_stand_pca[i] for i in train_index])\n",
        "  partial_train_targets = np.array([train_labels_dec[i] for i in train_index])\n",
        "  \n",
        "  val_data = np.array([train_data_stand_pca[i] for i in val_index])\n",
        "  val_targets = np.array([train_labels_dec[i] for i in val_index])\n",
        "\n",
        "  one_hot_partial_train_targets = to_categorical(partial_train_targets)\n",
        "  one_hot_val_targets = to_categorical(val_targets)\n",
        "\n",
        " \n",
        "  model = build_model()\n",
        "  history = model.fit(partial_train_data, one_hot_partial_train_targets, validation_data=(val_data, one_hot_val_targets), \n",
        "                      epochs=num_epochs, batch_size=8)\n",
        "  \n",
        "  acc_history = history.history['acc']\n",
        "  all_acc_histories.append(acc_history)\n",
        "\n",
        "  loss_history = history.history['loss']\n",
        "  all_loss_histories.append(loss_history)\n",
        "\n",
        "  acc_val_history = history.history['val_acc']\n",
        "  all_val_acc_histories.append(acc_val_history)\n",
        "\n",
        "  loss_val_history = history.history['val_loss']\n",
        "  all_val_loss_histories.append(loss_val_history)\n",
        "  \n",
        "\n",
        "#I parametri per la valutazione vengono calcolati per ogni epoca, quindi num_epochs volte. \n",
        "#Il tutto viene ripetuto un numero di volte pari a n_splits.\n",
        "#Si ottiene una lista con n_splits elementi ciascuno dei quali è una lista lunga num_epochs,\n",
        "#ogni elemento può essere uno fra questi: dict_keys(['val_loss', 'val_acc', 'loss', 'acc']) "
      ],
      "execution_count": 819,
      "outputs": [
        {
          "output_type": "stream",
          "text": [
            "Train on 86 samples, validate on 45 samples\n",
            "Epoch 1/20\n",
            "86/86 [==============================] - 3s 38ms/step - loss: 2.4418 - acc: 0.3488 - val_loss: 1.5029 - val_acc: 0.4667\n",
            "Epoch 2/20\n",
            "86/86 [==============================] - 0s 342us/step - loss: 1.6173 - acc: 0.3372 - val_loss: 1.3016 - val_acc: 0.4667\n",
            "Epoch 3/20\n",
            "86/86 [==============================] - 0s 285us/step - loss: 1.2666 - acc: 0.4419 - val_loss: 1.2420 - val_acc: 0.5556\n",
            "Epoch 4/20\n",
            "86/86 [==============================] - 0s 287us/step - loss: 1.1214 - acc: 0.4767 - val_loss: 1.2200 - val_acc: 0.5778\n",
            "Epoch 5/20\n",
            "86/86 [==============================] - 0s 286us/step - loss: 1.0390 - acc: 0.4884 - val_loss: 1.2067 - val_acc: 0.5556\n",
            "Epoch 6/20\n",
            "86/86 [==============================] - 0s 286us/step - loss: 0.9829 - acc: 0.5581 - val_loss: 1.2088 - val_acc: 0.5556\n",
            "Epoch 7/20\n",
            "86/86 [==============================] - 0s 353us/step - loss: 0.9632 - acc: 0.5698 - val_loss: 1.2311 - val_acc: 0.5333\n",
            "Epoch 8/20\n",
            "86/86 [==============================] - 0s 310us/step - loss: 0.9368 - acc: 0.5698 - val_loss: 1.2004 - val_acc: 0.5556\n",
            "Epoch 9/20\n",
            "86/86 [==============================] - 0s 300us/step - loss: 0.9271 - acc: 0.6047 - val_loss: 1.2057 - val_acc: 0.5333\n",
            "Epoch 10/20\n",
            "86/86 [==============================] - 0s 583us/step - loss: 0.9212 - acc: 0.5930 - val_loss: 1.2093 - val_acc: 0.5333\n",
            "Epoch 11/20\n",
            "86/86 [==============================] - 0s 331us/step - loss: 0.8988 - acc: 0.6279 - val_loss: 1.2049 - val_acc: 0.5333\n",
            "Epoch 12/20\n",
            "86/86 [==============================] - 0s 316us/step - loss: 0.8924 - acc: 0.6628 - val_loss: 1.2083 - val_acc: 0.5333\n",
            "Epoch 13/20\n",
            "86/86 [==============================] - 0s 380us/step - loss: 0.8887 - acc: 0.6279 - val_loss: 1.1846 - val_acc: 0.5333\n",
            "Epoch 14/20\n",
            "86/86 [==============================] - 0s 307us/step - loss: 0.8856 - acc: 0.6395 - val_loss: 1.1838 - val_acc: 0.5111\n",
            "Epoch 15/20\n",
            "86/86 [==============================] - 0s 349us/step - loss: 0.8694 - acc: 0.6628 - val_loss: 1.1942 - val_acc: 0.5333\n",
            "Epoch 16/20\n",
            "86/86 [==============================] - 0s 294us/step - loss: 0.8679 - acc: 0.6512 - val_loss: 1.1950 - val_acc: 0.5333\n",
            "Epoch 17/20\n",
            "86/86 [==============================] - 0s 285us/step - loss: 0.8613 - acc: 0.6628 - val_loss: 1.1896 - val_acc: 0.5111\n",
            "Epoch 18/20\n",
            "86/86 [==============================] - 0s 273us/step - loss: 0.8604 - acc: 0.6512 - val_loss: 1.1962 - val_acc: 0.5333\n",
            "Epoch 19/20\n",
            "86/86 [==============================] - 0s 306us/step - loss: 0.8481 - acc: 0.6744 - val_loss: 1.2058 - val_acc: 0.5111\n",
            "Epoch 20/20\n",
            "86/86 [==============================] - 0s 325us/step - loss: 0.8540 - acc: 0.6628 - val_loss: 1.1985 - val_acc: 0.5333\n",
            "Train on 88 samples, validate on 43 samples\n",
            "Epoch 1/20\n",
            "88/88 [==============================] - 3s 37ms/step - loss: 2.6404 - acc: 0.3182 - val_loss: 1.6325 - val_acc: 0.3953\n",
            "Epoch 2/20\n",
            "88/88 [==============================] - 0s 321us/step - loss: 1.7941 - acc: 0.3523 - val_loss: 1.4085 - val_acc: 0.5116\n",
            "Epoch 3/20\n",
            "88/88 [==============================] - 0s 289us/step - loss: 1.5857 - acc: 0.4205 - val_loss: 1.3689 - val_acc: 0.5116\n",
            "Epoch 4/20\n",
            "88/88 [==============================] - 0s 279us/step - loss: 1.4670 - acc: 0.4659 - val_loss: 1.3158 - val_acc: 0.5349\n",
            "Epoch 5/20\n",
            "88/88 [==============================] - 0s 311us/step - loss: 1.2400 - acc: 0.4773 - val_loss: 1.2493 - val_acc: 0.4651\n",
            "Epoch 6/20\n",
            "88/88 [==============================] - 0s 303us/step - loss: 1.0459 - acc: 0.5114 - val_loss: 1.2081 - val_acc: 0.4884\n",
            "Epoch 7/20\n",
            "88/88 [==============================] - 0s 298us/step - loss: 0.9896 - acc: 0.5114 - val_loss: 1.1632 - val_acc: 0.5116\n",
            "Epoch 8/20\n",
            "88/88 [==============================] - 0s 286us/step - loss: 0.9509 - acc: 0.5000 - val_loss: 1.1458 - val_acc: 0.5349\n",
            "Epoch 9/20\n",
            "88/88 [==============================] - 0s 281us/step - loss: 0.9417 - acc: 0.5114 - val_loss: 1.1494 - val_acc: 0.4651\n",
            "Epoch 10/20\n",
            "88/88 [==============================] - 0s 319us/step - loss: 0.9178 - acc: 0.5455 - val_loss: 1.1366 - val_acc: 0.5581\n",
            "Epoch 11/20\n",
            "88/88 [==============================] - 0s 278us/step - loss: 0.9114 - acc: 0.5341 - val_loss: 1.1260 - val_acc: 0.5581\n",
            "Epoch 12/20\n",
            "88/88 [==============================] - 0s 281us/step - loss: 0.8938 - acc: 0.5455 - val_loss: 1.1275 - val_acc: 0.5814\n",
            "Epoch 13/20\n",
            "88/88 [==============================] - 0s 286us/step - loss: 0.8927 - acc: 0.5568 - val_loss: 1.1265 - val_acc: 0.5581\n",
            "Epoch 14/20\n",
            "88/88 [==============================] - 0s 288us/step - loss: 0.8803 - acc: 0.5568 - val_loss: 1.1312 - val_acc: 0.5349\n",
            "Epoch 15/20\n",
            "88/88 [==============================] - 0s 284us/step - loss: 0.8770 - acc: 0.5682 - val_loss: 1.1181 - val_acc: 0.5581\n",
            "Epoch 16/20\n",
            "88/88 [==============================] - 0s 410us/step - loss: 0.8706 - acc: 0.6136 - val_loss: 1.1290 - val_acc: 0.5349\n",
            "Epoch 17/20\n",
            "88/88 [==============================] - 0s 317us/step - loss: 0.8662 - acc: 0.6250 - val_loss: 1.1234 - val_acc: 0.5581\n",
            "Epoch 18/20\n",
            "88/88 [==============================] - 0s 309us/step - loss: 0.8570 - acc: 0.6023 - val_loss: 1.1185 - val_acc: 0.5581\n",
            "Epoch 19/20\n",
            "88/88 [==============================] - 0s 313us/step - loss: 0.8567 - acc: 0.6250 - val_loss: 1.1368 - val_acc: 0.5116\n",
            "Epoch 20/20\n",
            "88/88 [==============================] - 0s 292us/step - loss: 0.8449 - acc: 0.6477 - val_loss: 1.1473 - val_acc: 0.5116\n",
            "Train on 88 samples, validate on 43 samples\n",
            "Epoch 1/20\n",
            "88/88 [==============================] - 3s 37ms/step - loss: 2.0327 - acc: 0.3068 - val_loss: 1.7317 - val_acc: 0.3721\n",
            "Epoch 2/20\n",
            "88/88 [==============================] - 0s 343us/step - loss: 1.4108 - acc: 0.4318 - val_loss: 1.4095 - val_acc: 0.3953\n",
            "Epoch 3/20\n",
            "88/88 [==============================] - 0s 296us/step - loss: 1.1798 - acc: 0.4545 - val_loss: 1.3027 - val_acc: 0.3953\n",
            "Epoch 4/20\n",
            "88/88 [==============================] - 0s 319us/step - loss: 1.0858 - acc: 0.5227 - val_loss: 1.2249 - val_acc: 0.4419\n",
            "Epoch 5/20\n",
            "88/88 [==============================] - 0s 279us/step - loss: 1.0237 - acc: 0.5227 - val_loss: 1.1882 - val_acc: 0.4651\n",
            "Epoch 6/20\n",
            "88/88 [==============================] - 0s 302us/step - loss: 0.9960 - acc: 0.5568 - val_loss: 1.1655 - val_acc: 0.4651\n",
            "Epoch 7/20\n",
            "88/88 [==============================] - 0s 280us/step - loss: 0.9809 - acc: 0.5227 - val_loss: 1.1448 - val_acc: 0.4651\n",
            "Epoch 8/20\n",
            "88/88 [==============================] - 0s 307us/step - loss: 0.9632 - acc: 0.5568 - val_loss: 1.1321 - val_acc: 0.4884\n",
            "Epoch 9/20\n",
            "88/88 [==============================] - 0s 337us/step - loss: 0.9562 - acc: 0.5568 - val_loss: 1.1273 - val_acc: 0.4884\n",
            "Epoch 10/20\n",
            "88/88 [==============================] - 0s 328us/step - loss: 0.9446 - acc: 0.5795 - val_loss: 1.1257 - val_acc: 0.4884\n",
            "Epoch 11/20\n",
            "88/88 [==============================] - 0s 399us/step - loss: 0.9432 - acc: 0.5568 - val_loss: 1.1245 - val_acc: 0.4651\n",
            "Epoch 12/20\n",
            "88/88 [==============================] - 0s 305us/step - loss: 0.9338 - acc: 0.5682 - val_loss: 1.1150 - val_acc: 0.4651\n",
            "Epoch 13/20\n",
            "88/88 [==============================] - 0s 290us/step - loss: 0.9341 - acc: 0.5227 - val_loss: 1.1136 - val_acc: 0.4651\n",
            "Epoch 14/20\n",
            "88/88 [==============================] - 0s 281us/step - loss: 0.9153 - acc: 0.6023 - val_loss: 1.1114 - val_acc: 0.4651\n",
            "Epoch 15/20\n",
            "88/88 [==============================] - 0s 284us/step - loss: 0.9184 - acc: 0.5455 - val_loss: 1.1127 - val_acc: 0.4651\n",
            "Epoch 16/20\n",
            "88/88 [==============================] - 0s 320us/step - loss: 0.9134 - acc: 0.6023 - val_loss: 1.1121 - val_acc: 0.4651\n",
            "Epoch 17/20\n",
            "88/88 [==============================] - 0s 282us/step - loss: 0.9086 - acc: 0.5795 - val_loss: 1.1082 - val_acc: 0.4651\n",
            "Epoch 18/20\n",
            "88/88 [==============================] - 0s 301us/step - loss: 0.9037 - acc: 0.5795 - val_loss: 1.1102 - val_acc: 0.4651\n",
            "Epoch 19/20\n",
            "88/88 [==============================] - 0s 320us/step - loss: 0.8959 - acc: 0.5568 - val_loss: 1.1078 - val_acc: 0.4884\n",
            "Epoch 20/20\n",
            "88/88 [==============================] - 0s 333us/step - loss: 0.8993 - acc: 0.5568 - val_loss: 1.1097 - val_acc: 0.4884\n"
          ],
          "name": "stdout"
        }
      ]
    },
    {
      "cell_type": "code",
      "metadata": {
        "id": "s2eeOHoYbina",
        "colab_type": "code",
        "colab": {}
      },
      "source": [
        "history_dict = history.history"
      ],
      "execution_count": 0,
      "outputs": []
    },
    {
      "cell_type": "code",
      "metadata": {
        "id": "-zDN2PrRc36l",
        "colab_type": "code",
        "outputId": "d1526271-58e9-4e1a-a2e4-b6b66873b103",
        "colab": {
          "base_uri": "https://localhost:8080/",
          "height": 34
        }
      },
      "source": [
        "history_dict.keys()"
      ],
      "execution_count": 821,
      "outputs": [
        {
          "output_type": "execute_result",
          "data": {
            "text/plain": [
              "dict_keys(['val_loss', 'val_acc', 'loss', 'acc'])"
            ]
          },
          "metadata": {
            "tags": []
          },
          "execution_count": 821
        }
      ]
    },
    {
      "cell_type": "code",
      "metadata": {
        "id": "tss7vRUEgAcz",
        "colab_type": "code",
        "outputId": "2cb8b8e3-0862-47e9-d354-d9093169189a",
        "colab": {
          "base_uri": "https://localhost:8080/",
          "height": 34
        }
      },
      "source": [
        "len(all_acc_histories[2])"
      ],
      "execution_count": 822,
      "outputs": [
        {
          "output_type": "execute_result",
          "data": {
            "text/plain": [
              "20"
            ]
          },
          "metadata": {
            "tags": []
          },
          "execution_count": 822
        }
      ]
    },
    {
      "cell_type": "code",
      "metadata": {
        "id": "HpKE3iTJBHzO",
        "colab_type": "code",
        "colab": {}
      },
      "source": [
        "average_acc_history = [np.mean([x[i] for x in all_acc_histories]) for i in range(num_epochs)]\n",
        "#media per epoca degli score ottenuti per tutte le k-fold\n",
        "#per ogni k-fold di fanno num_epoch epoche, la media viene fatta prendendo gli score di tutti i k-fold relativi ad una data epoca,\n",
        "#e si fa questo per tutte le epoche\n",
        "average_loss_history = [np.mean([x[i] for x in all_loss_histories]) for i in range(num_epochs)]\n",
        "average_val_acc_history = [np.mean([x[i] for x in all_val_acc_histories]) for i in range(num_epochs)]\n",
        "average_val_loss_history = [np.mean([x[i] for x in all_val_loss_histories]) for i in range(num_epochs)]\n"
      ],
      "execution_count": 0,
      "outputs": []
    },
    {
      "cell_type": "code",
      "metadata": {
        "id": "uQrkCEMUD2RI",
        "colab_type": "code",
        "outputId": "c509c840-b013-40d1-9106-6dbc0965037b",
        "colab": {
          "base_uri": "https://localhost:8080/",
          "height": 34
        }
      },
      "source": [
        "len(average_val_acc_history)"
      ],
      "execution_count": 824,
      "outputs": [
        {
          "output_type": "execute_result",
          "data": {
            "text/plain": [
              "20"
            ]
          },
          "metadata": {
            "tags": []
          },
          "execution_count": 824
        }
      ]
    },
    {
      "cell_type": "markdown",
      "metadata": {
        "id": "B9UhSxIaHtuO",
        "colab_type": "text"
      },
      "source": [
        "##Plotting training and validation loss"
      ]
    },
    {
      "cell_type": "code",
      "metadata": {
        "id": "vq6zsienD5ct",
        "colab_type": "code",
        "colab": {}
      },
      "source": [
        "import matplotlib.pyplot as plt"
      ],
      "execution_count": 0,
      "outputs": []
    },
    {
      "cell_type": "code",
      "metadata": {
        "id": "XJizyjnaIPhQ",
        "colab_type": "code",
        "colab": {}
      },
      "source": [
        "epochs = range(1, num_epochs+1)"
      ],
      "execution_count": 0,
      "outputs": []
    },
    {
      "cell_type": "code",
      "metadata": {
        "id": "HfEHEYLgIQUQ",
        "colab_type": "code",
        "outputId": "e4d41ecb-4e55-4c71-cc44-060b19d0a806",
        "colab": {
          "base_uri": "https://localhost:8080/",
          "height": 312
        }
      },
      "source": [
        "plt.plot(epochs, average_loss_history, 'bo', label='training loss')\n",
        "plt.plot(epochs, average_val_loss_history, 'b', label='validation loss')\n",
        "plt.title('Training and validation loss')\n",
        "plt.xlabel('Epochs')\n",
        "plt.ylabel('Loss')\n",
        "plt.legend()"
      ],
      "execution_count": 827,
      "outputs": [
        {
          "output_type": "execute_result",
          "data": {
            "text/plain": [
              "<matplotlib.legend.Legend at 0x7f0a27deff98>"
            ]
          },
          "metadata": {
            "tags": []
          },
          "execution_count": 827
        },
        {
          "output_type": "display_data",
          "data": {
            "image/png": "[encoded data removed]",
            "text/plain": [
              "<Figure size 432x288 with 1 Axes>"
            ]
          },
          "metadata": {
            "tags": []
          }
        }
      ]
    },
    {
      "cell_type": "markdown",
      "metadata": {
        "id": "Aoc4wMjfI97j",
        "colab_type": "text"
      },
      "source": [
        "##Plotting train and validation accuracy"
      ]
    },
    {
      "cell_type": "code",
      "metadata": {
        "id": "GZi7VzbFIbtJ",
        "colab_type": "code",
        "outputId": "446971ff-2166-4305-dd33-9cd8e8269a9b",
        "colab": {
          "base_uri": "https://localhost:8080/",
          "height": 312
        }
      },
      "source": [
        "plt.plot(epochs, average_acc_history, 'bo', label='Training accuracy')\n",
        "plt.plot(epochs, average_val_acc_history, 'b', label='Validation accuracy')\n",
        "plt.title('Training and validation accuracy')\n",
        "plt.xlabel('Epochs')\n",
        "plt.ylabel('Accuracy')\n",
        "plt.legend() "
      ],
      "execution_count": 828,
      "outputs": [
        {
          "output_type": "execute_result",
          "data": {
            "text/plain": [
              "<matplotlib.legend.Legend at 0x7f0a27d69198>"
            ]
          },
          "metadata": {
            "tags": []
          },
          "execution_count": 828
        },
        {
          "output_type": "display_data",
          "data": {
            "image/png": "[encoded data removed]",
            "text/plain": [
              "<Figure size 432x288 with 1 Axes>"
            ]
          },
          "metadata": {
            "tags": []
          }
        }
      ]
    },
    {
      "cell_type": "markdown",
      "metadata": {
        "id": "bgN-E84SUPUq",
        "colab_type": "text"
      },
      "source": [
        "#Performances on test set"
      ]
    },
    {
      "cell_type": "code",
      "metadata": {
        "id": "VokWFUNPJOsJ",
        "colab_type": "code",
        "outputId": "6bb6d9a0-aa65-4681-f7a7-1c3074db9e10",
        "colab": {
          "base_uri": "https://localhost:8080/",
          "height": 729
        }
      },
      "source": [
        " model = build_model()\n",
        " model.fit(train_data_stand_pca, one_hot_train_labels, epochs= num_epochs, batch_size=8, shuffle=True)\n",
        " test_loss, test_acc = model.evaluate(test_data_stand_pca, one_hot_test_labels)\n",
        "  "
      ],
      "execution_count": 829,
      "outputs": [
        {
          "output_type": "stream",
          "text": [
            "Epoch 1/20\n",
            "131/131 [==============================] - 3s 22ms/step - loss: 1.6440 - acc: 0.2977\n",
            "Epoch 2/20\n",
            "131/131 [==============================] - 0s 205us/step - loss: 1.1974 - acc: 0.4198\n",
            "Epoch 3/20\n",
            "131/131 [==============================] - 0s 195us/step - loss: 1.1225 - acc: 0.4656\n",
            "Epoch 4/20\n",
            "131/131 [==============================] - 0s 186us/step - loss: 1.0697 - acc: 0.5038\n",
            "Epoch 5/20\n",
            "131/131 [==============================] - 0s 188us/step - loss: 1.0318 - acc: 0.5191\n",
            "Epoch 6/20\n",
            "131/131 [==============================] - 0s 187us/step - loss: 1.0170 - acc: 0.5573\n",
            "Epoch 7/20\n",
            "131/131 [==============================] - 0s 204us/step - loss: 1.0050 - acc: 0.5496\n",
            "Epoch 8/20\n",
            "131/131 [==============================] - 0s 196us/step - loss: 0.9713 - acc: 0.5725\n",
            "Epoch 9/20\n",
            "131/131 [==============================] - 0s 228us/step - loss: 0.9620 - acc: 0.5344\n",
            "Epoch 10/20\n",
            "131/131 [==============================] - 0s 208us/step - loss: 0.9569 - acc: 0.5649\n",
            "Epoch 11/20\n",
            "131/131 [==============================] - 0s 206us/step - loss: 0.9486 - acc: 0.5573\n",
            "Epoch 12/20\n",
            "131/131 [==============================] - 0s 210us/step - loss: 0.9342 - acc: 0.5878\n",
            "Epoch 13/20\n",
            "131/131 [==============================] - 0s 208us/step - loss: 0.9217 - acc: 0.5573\n",
            "Epoch 14/20\n",
            "131/131 [==============================] - 0s 223us/step - loss: 0.9243 - acc: 0.5496\n",
            "Epoch 15/20\n",
            "131/131 [==============================] - 0s 246us/step - loss: 0.9091 - acc: 0.5725\n",
            "Epoch 16/20\n",
            "131/131 [==============================] - 0s 265us/step - loss: 0.9062 - acc: 0.5802\n",
            "Epoch 17/20\n",
            "131/131 [==============================] - 0s 204us/step - loss: 0.9010 - acc: 0.5649\n",
            "Epoch 18/20\n",
            "131/131 [==============================] - 0s 206us/step - loss: 0.8984 - acc: 0.5802\n",
            "Epoch 19/20\n",
            "131/131 [==============================] - 0s 211us/step - loss: 0.8982 - acc: 0.5573\n",
            "Epoch 20/20\n",
            "131/131 [==============================] - 0s 224us/step - loss: 0.8943 - acc: 0.5573\n",
            "34/34 [==============================] - 1s 34ms/step\n"
          ],
          "name": "stdout"
        }
      ]
    },
    {
      "cell_type": "code",
      "metadata": {
        "id": "J-tXqN8teV_6",
        "colab_type": "code",
        "outputId": "e19f8880-efaa-45a3-fe6f-d54b5fa3e199",
        "colab": {
          "base_uri": "https://localhost:8080/",
          "height": 34
        }
      },
      "source": [
        "model.metrics_names"
      ],
      "execution_count": 830,
      "outputs": [
        {
          "output_type": "execute_result",
          "data": {
            "text/plain": [
              "['loss', 'acc']"
            ]
          },
          "metadata": {
            "tags": []
          },
          "execution_count": 830
        }
      ]
    },
    {
      "cell_type": "code",
      "metadata": {
        "id": "uLqboU_IeYu-",
        "colab_type": "code",
        "outputId": "e4db080e-839a-4c46-f61c-dacb4431d580",
        "colab": {
          "base_uri": "https://localhost:8080/",
          "height": 34
        }
      },
      "source": [
        "test_acc\n"
      ],
      "execution_count": 831,
      "outputs": [
        {
          "output_type": "execute_result",
          "data": {
            "text/plain": [
              "0.20588235294117646"
            ]
          },
          "metadata": {
            "tags": []
          },
          "execution_count": 831
        }
      ]
    }
  ]
}