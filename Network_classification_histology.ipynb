{
  "nbformat": 4,
  "nbformat_minor": 0,
  "metadata": {
    "colab": {
      "name": "Network_classification_histology.ipynb",
      "provenance": [],
      "toc_visible": true,
      "include_colab_link": true
    },
    "kernelspec": {
      "name": "python3",
      "display_name": "Python 3"
    }
  },
  "cells": [
    {
      "cell_type": "markdown",
      "metadata": {
        "id": "view-in-github",
        "colab_type": "text"
      },
      "source": [
        "<a href=\"https://colab.research.google.com/github/leonardoub/SCRIPT_PALERMO/blob/master/Network_classification_histology.ipynb\" target=\"_parent\"><img src=\"https://colab.research.google.com/assets/colab-badge.svg\" alt=\"Open In Colab\"/></a>"
      ]
    },
    {
      "cell_type": "code",
      "metadata": {
        "id": "ck9uZtF_gzU7",
        "colab_type": "code",
        "colab": {}
      },
      "source": [
        "import pandas as pd\n",
        "import numpy as np\n",
        "import matplotlib.pyplot as plt\n",
        "import scipy"
      ],
      "execution_count": 0,
      "outputs": []
    },
    {
      "cell_type": "markdown",
      "metadata": {
        "id": "ln0sTf8q1IrI",
        "colab_type": "text"
      },
      "source": [
        "#Load data"
      ]
    },
    {
      "cell_type": "code",
      "metadata": {
        "id": "lyyNl4gxhEwD",
        "colab_type": "code",
        "outputId": "29cb5985-6cd2-4a49-a92c-f26ad5c4c892",
        "colab": {
          "base_uri": "https://localhost:8080/",
          "height": 124
        }
      },
      "source": [
        "#load data from Drive\n",
        "from google.colab import drive\n",
        "drive.mount('/gdrive')\n",
        "#%cd /gdrive"
      ],
      "execution_count": 2,
      "outputs": [
        {
          "output_type": "stream",
          "text": [
            "Go to this URL in a browser: https://accounts.google.com/o/oauth2/auth?client_id=947318989803-6bn6qk8qdgf4n4g3pfee6491hc0brc4i.apps.googleusercontent.com&redirect_uri=urn%3aietf%3awg%3aoauth%3a2.0%3aoob&response_type=code&scope=email%20https%3a%2f%2fwww.googleapis.com%2fauth%2fdocs.test%20https%3a%2f%2fwww.googleapis.com%2fauth%2fdrive%20https%3a%2f%2fwww.googleapis.com%2fauth%2fdrive.photos.readonly%20https%3a%2f%2fwww.googleapis.com%2fauth%2fpeopleapi.readonly\n",
            "\n",
            "Enter your authorization code:\n",
            "··········\n",
            "Mounted at /gdrive\n"
          ],
          "name": "stdout"
        }
      ]
    },
    {
      "cell_type": "code",
      "metadata": {
        "id": "UCkUXesZhMzg",
        "colab_type": "code",
        "colab": {}
      },
      "source": [
        "train_dataset_path = '/gdrive/My Drive/AIM_PA/database_training2.csv'\n",
        "test_dataset_path = '/gdrive/My Drive/AIM_PA/database_nostro_without_nan.csv'"
      ],
      "execution_count": 0,
      "outputs": []
    },
    {
      "cell_type": "code",
      "metadata": {
        "id": "TczPxOpEhTXw",
        "colab_type": "code",
        "colab": {}
      },
      "source": [
        "df_train = pd.read_csv(train_dataset_path)\n",
        "df_test = pd.read_csv(test_dataset_path)"
      ],
      "execution_count": 0,
      "outputs": []
    },
    {
      "cell_type": "code",
      "metadata": {
        "id": "Ll-87QSVhqhj",
        "colab_type": "code",
        "colab": {}
      },
      "source": [
        "df_train.rename(columns={'Survival.time (months)':'Surv_time_months'}, inplace=True)"
      ],
      "execution_count": 0,
      "outputs": []
    },
    {
      "cell_type": "code",
      "metadata": {
        "id": "ulSbeCedhuxJ",
        "colab_type": "code",
        "colab": {}
      },
      "source": [
        "df_test.rename(columns={'Survival.time (months)':'Surv_time_months'}, inplace=True)"
      ],
      "execution_count": 0,
      "outputs": []
    },
    {
      "cell_type": "code",
      "metadata": {
        "id": "xbcwLGg3iNSn",
        "colab_type": "code",
        "colab": {}
      },
      "source": [
        "df_train.rename(columns={'Overall.Stage':'Overall_Stage'}, inplace=True)\n",
        "df_test.rename(columns={'Overall.Stage':'Overall_Stage'}, inplace=True)"
      ],
      "execution_count": 0,
      "outputs": []
    },
    {
      "cell_type": "code",
      "metadata": {
        "id": "oKKv4iKghWWn",
        "colab_type": "code",
        "colab": {}
      },
      "source": [
        "train_data = df_train.drop(['Histology', 'Surv_time_months', 'OS', 'deadstatus.event','Overall_Stage'], axis=1)"
      ],
      "execution_count": 0,
      "outputs": []
    },
    {
      "cell_type": "code",
      "metadata": {
        "id": "vQdR4izXiT0f",
        "colab_type": "code",
        "colab": {}
      },
      "source": [
        "test_data = df_test.drop(['Histology', 'Surv_time_months', 'OS', 'deadstatus.event','Overall_Stage'], axis=1)"
      ],
      "execution_count": 0,
      "outputs": []
    },
    {
      "cell_type": "code",
      "metadata": {
        "id": "Lu46pqnPhnCG",
        "colab_type": "code",
        "colab": {}
      },
      "source": [
        "train_labels = df_train.Histology"
      ],
      "execution_count": 0,
      "outputs": []
    },
    {
      "cell_type": "code",
      "metadata": {
        "id": "aS5wIylYmsQf",
        "colab_type": "code",
        "colab": {}
      },
      "source": [
        "test_labels = df_test.Histology"
      ],
      "execution_count": 0,
      "outputs": []
    },
    {
      "cell_type": "markdown",
      "metadata": {
        "id": "dtPx7PMDnXM3",
        "colab_type": "text"
      },
      "source": [
        "##Z score dei dati"
      ]
    },
    {
      "cell_type": "code",
      "metadata": {
        "id": "XK4Qji2EnVV4",
        "colab_type": "code",
        "colab": {}
      },
      "source": [
        "mean = train_data.mean(axis=0)\n",
        "train_data_stand = train_data - mean\n",
        "std = train_data.std(axis=0)\n",
        "train_data_stand /= std"
      ],
      "execution_count": 0,
      "outputs": []
    },
    {
      "cell_type": "code",
      "metadata": {
        "id": "YOVOoNOvm0Yx",
        "colab_type": "code",
        "colab": {}
      },
      "source": [
        "test_data_stand = test_data - mean\n",
        "test_data_stand /= std"
      ],
      "execution_count": 0,
      "outputs": []
    },
    {
      "cell_type": "markdown",
      "metadata": {
        "id": "00VohsAyokpq",
        "colab_type": "text"
      },
      "source": [
        "##Vettorizzare i label"
      ]
    },
    {
      "cell_type": "code",
      "metadata": {
        "id": "8RvS_9ISpxRi",
        "colab_type": "code",
        "colab": {}
      },
      "source": [
        "word_index={'adenocarcinoma':0, 'large cell':1, 'squamous cell carcinoma':2}"
      ],
      "execution_count": 0,
      "outputs": []
    },
    {
      "cell_type": "code",
      "metadata": {
        "id": "uiPW9U0XrWY2",
        "colab_type": "code",
        "colab": {}
      },
      "source": [
        "train_labels_dec = [word_index[label] for label in train_labels]"
      ],
      "execution_count": 0,
      "outputs": []
    },
    {
      "cell_type": "code",
      "metadata": {
        "id": "C4SBiKFQsKFw",
        "colab_type": "code",
        "colab": {}
      },
      "source": [
        "test_labels_dec = [word_index[label] for label in test_labels]"
      ],
      "execution_count": 0,
      "outputs": []
    },
    {
      "cell_type": "code",
      "metadata": {
        "id": "0IMbTYR7okJq",
        "colab_type": "code",
        "colab": {
          "base_uri": "https://localhost:8080/",
          "height": 0
        },
        "outputId": "e7e1ad79-dafa-4ae4-b02c-9c30773916d8"
      },
      "source": [
        "from keras.utils.np_utils import to_categorical"
      ],
      "execution_count": 17,
      "outputs": [
        {
          "output_type": "stream",
          "text": [
            "Using TensorFlow backend.\n"
          ],
          "name": "stderr"
        },
        {
          "output_type": "display_data",
          "data": {
            "text/html": [
              "<p style=\"color: red;\">\n",
              "The default version of TensorFlow in Colab will soon switch to TensorFlow 2.x.<br>\n",
              "We recommend you <a href=\"https://www.tensorflow.org/guide/migrate\" target=\"_blank\">upgrade</a> now \n",
              "or ensure your notebook will continue to use TensorFlow 1.x via the <code>%tensorflow_version 1.x</code> magic:\n",
              "<a href=\"https://colab.research.google.com/notebooks/tensorflow_version.ipynb\" target=\"_blank\">more info</a>.</p>\n"
            ],
            "text/plain": [
              "<IPython.core.display.HTML object>"
            ]
          },
          "metadata": {
            "tags": []
          }
        }
      ]
    },
    {
      "cell_type": "code",
      "metadata": {
        "id": "0Frv4FDNn6Qu",
        "colab_type": "code",
        "colab": {}
      },
      "source": [
        "one_hot_train_labels = to_categorical(train_labels_dec)\n",
        "one_hot_test_labels = to_categorical(test_labels_dec)"
      ],
      "execution_count": 0,
      "outputs": []
    },
    {
      "cell_type": "markdown",
      "metadata": {
        "id": "Mn0tkOGc3LKN",
        "colab_type": "text"
      },
      "source": [
        "#PCA"
      ]
    },
    {
      "cell_type": "code",
      "metadata": {
        "id": "oS76u6iu3Seg",
        "colab_type": "code",
        "colab": {}
      },
      "source": [
        "from sklearn.decomposition import PCA"
      ],
      "execution_count": 0,
      "outputs": []
    },
    {
      "cell_type": "code",
      "metadata": {
        "id": "KCjC4zqJ3bui",
        "colab_type": "code",
        "colab": {}
      },
      "source": [
        "pca = PCA(n_components=0.9, svd_solver='full')"
      ],
      "execution_count": 0,
      "outputs": []
    },
    {
      "cell_type": "code",
      "metadata": {
        "id": "dLUCf9qX4p_e",
        "colab_type": "code",
        "outputId": "e02cf884-9c1b-4d45-f0c0-21fa577d62a4",
        "colab": {
          "base_uri": "https://localhost:8080/",
          "height": 0
        }
      },
      "source": [
        "pca.fit(train_data_stand)"
      ],
      "execution_count": 21,
      "outputs": [
        {
          "output_type": "execute_result",
          "data": {
            "text/plain": [
              "PCA(copy=True, iterated_power='auto', n_components=0.9, random_state=None,\n",
              "    svd_solver='full', tol=0.0, whiten=False)"
            ]
          },
          "metadata": {
            "tags": []
          },
          "execution_count": 21
        }
      ]
    },
    {
      "cell_type": "code",
      "metadata": {
        "id": "QfyaKgNZ44o3",
        "colab_type": "code",
        "colab": {}
      },
      "source": [
        "train_data_stand_pca = pca.transform(train_data_stand)\n",
        "test_data_stand_pca = pca.transform(test_data_stand)"
      ],
      "execution_count": 0,
      "outputs": []
    },
    {
      "cell_type": "code",
      "metadata": {
        "id": "Uz9C4nl05b_g",
        "colab_type": "code",
        "outputId": "79c3ebb8-ee05-4d64-97a9-ced53f8661b6",
        "colab": {
          "base_uri": "https://localhost:8080/",
          "height": 0
        }
      },
      "source": [
        "train_data_stand_pca.shape"
      ],
      "execution_count": 23,
      "outputs": [
        {
          "output_type": "execute_result",
          "data": {
            "text/plain": [
              "(131, 9)"
            ]
          },
          "metadata": {
            "tags": []
          },
          "execution_count": 23
        }
      ]
    },
    {
      "cell_type": "markdown",
      "metadata": {
        "id": "8wSKvSu4s5ip",
        "colab_type": "text"
      },
      "source": [
        "#Building Network"
      ]
    },
    {
      "cell_type": "code",
      "metadata": {
        "id": "sJTbHiq0D-4x",
        "colab_type": "code",
        "colab": {}
      },
      "source": [
        "from keras import layers\n",
        "from keras.preprocessing import sequence"
      ],
      "execution_count": 0,
      "outputs": []
    },
    {
      "cell_type": "code",
      "metadata": {
        "id": "ShwM6YMqsxxJ",
        "colab_type": "code",
        "colab": {}
      },
      "source": [
        "from keras import layers"
      ],
      "execution_count": 0,
      "outputs": []
    },
    {
      "cell_type": "code",
      "metadata": {
        "id": "IAzbu7P1VylY",
        "colab_type": "code",
        "colab": {}
      },
      "source": [
        "from keras import regularizers"
      ],
      "execution_count": 0,
      "outputs": []
    },
    {
      "cell_type": "code",
      "metadata": {
        "id": "dyqbUCK5wOVt",
        "colab_type": "code",
        "colab": {}
      },
      "source": [
        "from keras.optimizers import SGD"
      ],
      "execution_count": 0,
      "outputs": []
    },
    {
      "cell_type": "code",
      "metadata": {
        "id": "7OAEgN31tHVV",
        "colab_type": "code",
        "colab": {}
      },
      "source": [
        "def build_model():\n",
        "  model = keras.models.Sequential()\n",
        "  model.add(layers.Dense(6, activation='relu', input_shape=(9,)))\n",
        "  #model.add(layers.Dense(7, activation='relu'))\n",
        "  #model.add(layers.Dropout(rate=0.2))\n",
        "\n",
        "  model.add(layers.Dense(3, activation='softmax'))\n",
        "\n",
        "  sgd = SGD(lr=0.01, momentum=0.4)\n",
        "  \n",
        "  model.compile(optimizer=sgd, loss='categorical_crossentropy', metrics=['accuracy'])\n",
        "  return model"
      ],
      "execution_count": 0,
      "outputs": []
    },
    {
      "cell_type": "markdown",
      "metadata": {
        "id": "mIxDu50pBeiz",
        "colab_type": "text"
      },
      "source": [
        "#Stratified k-fold"
      ]
    },
    {
      "cell_type": "markdown",
      "metadata": {
        "id": "ZyLcvedUBpxA",
        "colab_type": "text"
      },
      "source": [
        "This cross-validation object is a variation of KFold that returns stratified folds. The folds are made by preserving the percentage of samples for each class."
      ]
    },
    {
      "cell_type": "code",
      "metadata": {
        "id": "fY1apcZ19gFp",
        "colab_type": "code",
        "colab": {}
      },
      "source": [
        "from sklearn.model_selection import StratifiedKFold"
      ],
      "execution_count": 0,
      "outputs": []
    },
    {
      "cell_type": "code",
      "metadata": {
        "id": "oaBDM-PtBx5V",
        "colab_type": "code",
        "outputId": "c5b9aba7-c690-41e3-a7ac-181d484cd181",
        "colab": {
          "base_uri": "https://localhost:8080/",
          "height": 34
        }
      },
      "source": [
        "skf = StratifiedKFold(n_splits=10, shuffle=True, random_state=1)\n",
        "skf.get_n_splits(train_data_stand_pca, train_labels_dec)"
      ],
      "execution_count": 30,
      "outputs": [
        {
          "output_type": "execute_result",
          "data": {
            "text/plain": [
              "10"
            ]
          },
          "metadata": {
            "tags": []
          },
          "execution_count": 30
        }
      ]
    },
    {
      "cell_type": "code",
      "metadata": {
        "id": "Me-XQzPyD1gi",
        "colab_type": "code",
        "outputId": "c0e342aa-871f-4e9d-debf-f74c33e2d5fb",
        "colab": {
          "base_uri": "https://localhost:8080/",
          "height": 1000
        }
      },
      "source": [
        "for train_index, test_index in skf.split(train_data_stand_pca, train_labels_dec):\n",
        "    print(\"TRAIN:\", train_index, \"TEST:\", test_index)"
      ],
      "execution_count": 31,
      "outputs": [
        {
          "output_type": "stream",
          "text": [
            "TRAIN: [  0   1   2   4   5   6   7   8   9  10  11  12  14  15  16  17  18  19\n",
            "  20  22  23  24  25  27  28  29  30  31  32  33  34  36  37  38  39  40\n",
            "  41  42  43  44  45  46  47  48  49  51  52  53  55  56  57  58  59  60\n",
            "  61  62  63  64  65  66  67  69  70  71  72  74  75  76  77  78  79  80\n",
            "  81  83  84  85  86  87  88  89  90  92  93  94  95  96  97  98  99 100\n",
            " 101 102 103 104 105 107 108 109 110 111 113 114 115 116 117 119 120 121\n",
            " 122 123 124 125 126 127 128 129] TEST: [  3  13  21  26  35  50  54  68  73  82  91 106 112 118 130]\n",
            "TRAIN: [  0   1   3   4   5   6   8   9  10  11  12  13  14  15  16  17  19  20\n",
            "  21  22  23  24  25  26  27  28  29  30  31  32  33  34  35  36  37  38\n",
            "  39  40  41  42  44  45  46  48  49  50  51  52  53  54  55  56  57  58\n",
            "  59  60  62  63  64  65  66  67  68  69  71  72  73  75  76  77  78  79\n",
            "  80  81  82  83  84  85  86  87  88  89  90  91  92  94  95  96  97  98\n",
            " 100 101 102 103 104 105 106 107 109 110 111 112 113 115 116 117 118 120\n",
            " 121 122 124 125 126 127 128 129 130] TEST: [  2   7  18  43  47  61  70  74  93  99 108 114 119 123]\n",
            "TRAIN: [  0   1   2   3   4   5   7   8   9  11  12  13  14  15  16  17  18  19\n",
            "  20  21  22  23  24  25  26  27  28  29  30  32  33  34  35  36  37  38\n",
            "  39  40  41  42  43  44  45  46  47  48  50  51  52  53  54  56  57  58\n",
            "  59  60  61  62  63  65  66  67  68  69  70  72  73  74  76  77  78  79\n",
            "  80  81  82  83  84  85  87  88  89  90  91  92  93  96  97  98  99 100\n",
            " 101 102 103 104 105 106 107 108 109 110 111 112 113 114 115 117 118 119\n",
            " 120 121 122 123 124 125 127 128 130] TEST: [  6  10  31  49  55  64  71  75  86  94  95 116 126 129]\n",
            "TRAIN: [  0   2   3   5   6   7   8   9  10  11  12  13  14  15  16  17  18  19\n",
            "  20  21  22  23  24  25  26  27  29  30  31  33  34  35  36  37  38  39\n",
            "  40  41  43  44  45  46  47  48  49  50  51  52  53  54  55  56  57  58\n",
            "  59  60  61  62  63  64  65  66  68  70  71  73  74  75  76  77  78  79\n",
            "  80  82  83  84  85  86  87  88  89  90  91  92  93  94  95  96  97  98\n",
            "  99 100 101 102 105 106 107 108 109 111 112 113 114 115 116 117 118 119\n",
            " 120 122 123 124 125 126 127 129 130] TEST: [  1   4  28  32  42  67  69  72  81 103 104 110 121 128]\n",
            "TRAIN: [  1   2   3   4   5   6   7   8   9  10  11  12  13  15  16  17  18  20\n",
            "  21  23  24  25  26  27  28  29  30  31  32  33  34  35  36  38  39  40\n",
            "  42  43  44  45  46  47  48  49  50  51  53  54  55  57  58  59  60  61\n",
            "  62  63  64  65  66  67  68  69  70  71  72  73  74  75  76  77  78  80\n",
            "  81  82  83  84  85  86  87  90  91  92  93  94  95  96  97  98  99 100\n",
            " 101 102 103 104 105 106 108 109 110 111 112 113 114 115 116 117 118 119\n",
            " 121 122 123 124 125 126 127 128 129 130] TEST: [  0  14  19  22  37  41  52  56  79  88  89 107 120]\n",
            "TRAIN: [  0   1   2   3   4   5   6   7   8  10  11  12  13  14  16  17  18  19\n",
            "  20  21  22  23  25  26  27  28  29  30  31  32  34  35  36  37  38  39\n",
            "  41  42  43  44  45  46  47  48  49  50  52  53  54  55  56  57  58  60\n",
            "  61  63  64  65  66  67  68  69  70  71  72  73  74  75  76  77  78  79\n",
            "  80  81  82  84  85  86  87  88  89  90  91  92  93  94  95  96  99 100\n",
            " 101 102 103 104 105 106 107 108 109 110 111 112 114 115 116 118 119 120\n",
            " 121 122 123 124 125 126 127 128 129 130] TEST: [  9  15  24  33  40  51  59  62  83  97  98 113 117]\n",
            "TRAIN: [  0   1   2   3   4   5   6   7   9  10  11  12  13  14  15  18  19  20\n",
            "  21  22  24  26  27  28  29  30  31  32  33  34  35  36  37  38  39  40\n",
            "  41  42  43  44  45  46  47  48  49  50  51  52  53  54  55  56  57  58\n",
            "  59  61  62  64  65  66  67  68  69  70  71  72  73  74  75  76  79  81\n",
            "  82  83  84  85  86  87  88  89  91  92  93  94  95  96  97  98  99 100\n",
            " 101 102 103 104 105 106 107 108 109 110 111 112 113 114 115 116 117 118\n",
            " 119 120 121 123 124 125 126 127 128 129 130] TEST: [  8  16  17  23  25  60  63  77  78  80  90 122]\n",
            "TRAIN: [  0   1   2   3   4   5   6   7   8   9  10  11  13  14  15  16  17  18\n",
            "  19  20  21  22  23  24  25  26  27  28  30  31  32  33  34  35  36  37\n",
            "  39  40  41  42  43  44  45  47  49  50  51  52  53  54  55  56  58  59\n",
            "  60  61  62  63  64  66  67  68  69  70  71  72  73  74  75  76  77  78\n",
            "  79  80  81  82  83  85  86  87  88  89  90  91  92  93  94  95  96  97\n",
            "  98  99 100 102 103 104 106 107 108 109 110 111 112 113 114 115 116 117\n",
            " 118 119 120 121 122 123 124 126 128 129 130] TEST: [ 12  29  38  46  48  57  65  84 101 105 125 127]\n",
            "TRAIN: [  0   1   2   3   4   5   6   7   8   9  10  12  13  14  15  16  17  18\n",
            "  19  21  22  23  24  25  26  27  28  29  31  32  33  34  35  36  37  38\n",
            "  40  41  42  43  46  47  48  49  50  51  52  53  54  55  56  57  58  59\n",
            "  60  61  62  63  64  65  67  68  69  70  71  72  73  74  75  76  77  78\n",
            "  79  80  81  82  83  84  85  86  88  89  90  91  93  94  95  96  97  98\n",
            "  99 101 103 104 105 106 107 108 109 110 111 112 113 114 115 116 117 118\n",
            " 119 120 121 122 123 125 126 127 128 129 130] TEST: [ 11  20  30  39  44  45  66  87  92 100 102 124]\n",
            "TRAIN: [  0   1   2   3   4   6   7   8   9  10  11  12  13  14  15  16  17  18\n",
            "  19  20  21  22  23  24  25  26  28  29  30  31  32  33  35  37  38  39\n",
            "  40  41  42  43  44  45  46  47  48  49  50  51  52  54  55  56  57  59\n",
            "  60  61  62  63  64  65  66  67  68  69  70  71  72  73  74  75  77  78\n",
            "  79  80  81  82  83  84  86  87  88  89  90  91  92  93  94  95  97  98\n",
            "  99 100 101 102 103 104 105 106 107 108 110 112 113 114 116 117 118 119\n",
            " 120 121 122 123 124 125 126 127 128 129 130] TEST: [  5  27  34  36  53  58  76  85  96 109 111 115]\n"
          ],
          "name": "stdout"
        }
      ]
    },
    {
      "cell_type": "code",
      "metadata": {
        "id": "BgdGK-8FK-U_",
        "colab_type": "code",
        "outputId": "9e49d930-47eb-425f-f971-e51dde4cd5e7",
        "colab": {
          "base_uri": "https://localhost:8080/",
          "height": 34
        }
      },
      "source": [
        "train_labels_dec[125]"
      ],
      "execution_count": 32,
      "outputs": [
        {
          "output_type": "execute_result",
          "data": {
            "text/plain": [
              "2"
            ]
          },
          "metadata": {
            "tags": []
          },
          "execution_count": 32
        }
      ]
    },
    {
      "cell_type": "code",
      "metadata": {
        "id": "sBJg0XD4Shhc",
        "colab_type": "code",
        "colab": {}
      },
      "source": [
        "from keras.utils import to_categorical\n"
      ],
      "execution_count": 0,
      "outputs": []
    },
    {
      "cell_type": "code",
      "metadata": {
        "id": "a5Sq8r9GEPx3",
        "colab_type": "code",
        "colab": {}
      },
      "source": [
        "#for train_index, val_index in skf.split(train_data_stand_pca, train_labels_dec):\n",
        " \n",
        "#  partial_train_data = np.array([train_data_stand_pca[i] for i in train_index])\n",
        "#  partial_train_targets = np.array([train_labels_dec[i] for i in train_index])\n",
        "\n",
        "#  val_data = np.array([train_data_stand_pca[i] for i in val_index])\n",
        "#  val_targets = np.array([train_labels_dec[i] for i in val_index])\n",
        "\n",
        "#  one_hot_partial_train_targets = to_categorical(partial_train_targets)\n",
        "#  one_hot_val_targets = to_categorical(val_targets)\n",
        "\n",
        "#  model = build_model()\n",
        "#  model.fit(partial_train_data, one_hot_partial_train_targets, epochs = num_epochs, batch_size=1)\n",
        "\n",
        "#  val_loss, val_accuracy = model.evaluate(val_data, one_hot_val_targets)\n",
        "#  all_scores.append(val_accuracy)\n",
        "#I parametri per la valutazione vengono calcolati una volta per ogni k-fold, per ogni set di validazione, quindi k volte"
      ],
      "execution_count": 0,
      "outputs": []
    },
    {
      "cell_type": "markdown",
      "metadata": {
        "id": "2X5B3lasRcsR",
        "colab_type": "text"
      },
      "source": [
        "C'è un problema: keras.utils.to_categorical produces a one-hot encoded class vector, i.e. the multilabel-indicator mentioned in the error message. StratifiedKFold is not designed to work with such input; i.e. your y must be a 1-D array of your class labels.\n",
        "Essentially, what you have to do is simply to invert the order of the operations: split first (using your intial y_train), and convert to_categorical afterwards."
      ]
    },
    {
      "cell_type": "code",
      "metadata": {
        "id": "F0Sl23XX-uUu",
        "colab_type": "code",
        "colab": {}
      },
      "source": [
        "import keras"
      ],
      "execution_count": 0,
      "outputs": []
    },
    {
      "cell_type": "code",
      "metadata": {
        "id": "8K8a1I3yU9FS",
        "colab_type": "code",
        "outputId": "1089bd3c-c1e8-4cae-e617-6f072646386e",
        "colab": {
          "base_uri": "https://localhost:8080/",
          "height": 1000
        }
      },
      "source": [
        "num_epochs = 20\n",
        "all_acc_histories = []\n",
        "all_loss_histories = []\n",
        "all_val_acc_histories = []\n",
        "all_val_loss_histories = []\n",
        "\n",
        "for train_index, val_index in skf.split(train_data_stand_pca, train_labels_dec):\n",
        " \n",
        "  partial_train_data = np.array([train_data_stand_pca[i] for i in train_index])\n",
        "  partial_train_targets = np.array([train_labels_dec[i] for i in train_index])\n",
        "  \n",
        "  val_data = np.array([train_data_stand_pca[i] for i in val_index])\n",
        "  val_targets = np.array([train_labels_dec[i] for i in val_index])\n",
        "\n",
        "  one_hot_partial_train_targets = to_categorical(partial_train_targets)\n",
        "  one_hot_val_targets = to_categorical(val_targets)\n",
        "\n",
        " \n",
        "  model = build_model()\n",
        "  history = model.fit(partial_train_data, one_hot_partial_train_targets, validation_data=(val_data, one_hot_val_targets), \n",
        "                      epochs=num_epochs, batch_size=8)\n",
        "  \n",
        "  acc_history = history.history['acc']\n",
        "  all_acc_histories.append(acc_history)\n",
        "\n",
        "  loss_history = history.history['loss']\n",
        "  all_loss_histories.append(loss_history)\n",
        "\n",
        "  acc_val_history = history.history['val_acc']\n",
        "  all_val_acc_histories.append(acc_val_history)\n",
        "\n",
        "  loss_val_history = history.history['val_loss']\n",
        "  all_val_loss_histories.append(loss_val_history)\n",
        "  \n",
        "\n",
        "#I parametri per la valutazione vengono calcolati per ogni epoca, quindi num_epochs volte. \n",
        "#Il tutto viene ripetuto un numero di volte pari a n_splits.\n",
        "#Si ottiene una lista con n_splits elementi ciascuno dei quali è una lista lunga num_epochs,\n",
        "#ogni elemento può essere uno fra questi: dict_keys(['val_loss', 'val_acc', 'loss', 'acc']) "
      ],
      "execution_count": 36,
      "outputs": [
        {
          "output_type": "stream",
          "text": [
            "WARNING:tensorflow:From /usr/local/lib/python3.6/dist-packages/keras/backend/tensorflow_backend.py:66: The name tf.get_default_graph is deprecated. Please use tf.compat.v1.get_default_graph instead.\n",
            "\n",
            "WARNING:tensorflow:From /usr/local/lib/python3.6/dist-packages/keras/backend/tensorflow_backend.py:541: The name tf.placeholder is deprecated. Please use tf.compat.v1.placeholder instead.\n",
            "\n",
            "WARNING:tensorflow:From /usr/local/lib/python3.6/dist-packages/keras/backend/tensorflow_backend.py:4432: The name tf.random_uniform is deprecated. Please use tf.random.uniform instead.\n",
            "\n",
            "WARNING:tensorflow:From /usr/local/lib/python3.6/dist-packages/keras/optimizers.py:793: The name tf.train.Optimizer is deprecated. Please use tf.compat.v1.train.Optimizer instead.\n",
            "\n",
            "WARNING:tensorflow:From /usr/local/lib/python3.6/dist-packages/keras/backend/tensorflow_backend.py:3576: The name tf.log is deprecated. Please use tf.math.log instead.\n",
            "\n",
            "WARNING:tensorflow:From /usr/local/lib/python3.6/dist-packages/tensorflow_core/python/ops/math_grad.py:1424: where (from tensorflow.python.ops.array_ops) is deprecated and will be removed in a future version.\n",
            "Instructions for updating:\n",
            "Use tf.where in 2.0, which has the same broadcast rule as np.where\n",
            "WARNING:tensorflow:From /usr/local/lib/python3.6/dist-packages/keras/backend/tensorflow_backend.py:1033: The name tf.assign_add is deprecated. Please use tf.compat.v1.assign_add instead.\n",
            "\n",
            "WARNING:tensorflow:From /usr/local/lib/python3.6/dist-packages/keras/backend/tensorflow_backend.py:1020: The name tf.assign is deprecated. Please use tf.compat.v1.assign instead.\n",
            "\n",
            "WARNING:tensorflow:From /usr/local/lib/python3.6/dist-packages/keras/backend/tensorflow_backend.py:3005: The name tf.Session is deprecated. Please use tf.compat.v1.Session instead.\n",
            "\n",
            "Train on 116 samples, validate on 15 samples\n",
            "Epoch 1/20\n",
            "WARNING:tensorflow:From /usr/local/lib/python3.6/dist-packages/keras/backend/tensorflow_backend.py:190: The name tf.get_default_session is deprecated. Please use tf.compat.v1.get_default_session instead.\n",
            "\n",
            "WARNING:tensorflow:From /usr/local/lib/python3.6/dist-packages/keras/backend/tensorflow_backend.py:197: The name tf.ConfigProto is deprecated. Please use tf.compat.v1.ConfigProto instead.\n",
            "\n",
            "WARNING:tensorflow:From /usr/local/lib/python3.6/dist-packages/keras/backend/tensorflow_backend.py:207: The name tf.global_variables is deprecated. Please use tf.compat.v1.global_variables instead.\n",
            "\n",
            "WARNING:tensorflow:From /usr/local/lib/python3.6/dist-packages/keras/backend/tensorflow_backend.py:216: The name tf.is_variable_initialized is deprecated. Please use tf.compat.v1.is_variable_initialized instead.\n",
            "\n",
            "WARNING:tensorflow:From /usr/local/lib/python3.6/dist-packages/keras/backend/tensorflow_backend.py:223: The name tf.variables_initializer is deprecated. Please use tf.compat.v1.variables_initializer instead.\n",
            "\n",
            "116/116 [==============================] - 1s 5ms/step - loss: 1.4316 - acc: 0.3621 - val_loss: 1.3475 - val_acc: 0.5333\n",
            "Epoch 2/20\n",
            "116/116 [==============================] - 0s 177us/step - loss: 1.1452 - acc: 0.4655 - val_loss: 1.2664 - val_acc: 0.5333\n",
            "Epoch 3/20\n",
            "116/116 [==============================] - 0s 169us/step - loss: 1.0297 - acc: 0.5690 - val_loss: 1.3354 - val_acc: 0.4000\n",
            "Epoch 4/20\n",
            "116/116 [==============================] - 0s 181us/step - loss: 0.9736 - acc: 0.5862 - val_loss: 1.0905 - val_acc: 0.5333\n",
            "Epoch 5/20\n",
            "116/116 [==============================] - 0s 219us/step - loss: 0.9747 - acc: 0.5948 - val_loss: 1.4627 - val_acc: 0.4667\n",
            "Epoch 6/20\n",
            "116/116 [==============================] - 0s 211us/step - loss: 0.9318 - acc: 0.6121 - val_loss: 1.3258 - val_acc: 0.4667\n",
            "Epoch 7/20\n",
            "116/116 [==============================] - 0s 211us/step - loss: 0.9140 - acc: 0.6466 - val_loss: 1.2775 - val_acc: 0.4667\n",
            "Epoch 8/20\n",
            "116/116 [==============================] - 0s 224us/step - loss: 0.9027 - acc: 0.6466 - val_loss: 1.2761 - val_acc: 0.4000\n",
            "Epoch 9/20\n",
            "116/116 [==============================] - 0s 204us/step - loss: 0.8902 - acc: 0.6552 - val_loss: 1.3305 - val_acc: 0.4667\n",
            "Epoch 10/20\n",
            "116/116 [==============================] - 0s 188us/step - loss: 0.8799 - acc: 0.6638 - val_loss: 1.3506 - val_acc: 0.4667\n",
            "Epoch 11/20\n",
            "116/116 [==============================] - 0s 209us/step - loss: 0.8713 - acc: 0.6638 - val_loss: 1.3567 - val_acc: 0.4667\n",
            "Epoch 12/20\n",
            "116/116 [==============================] - 0s 198us/step - loss: 0.8632 - acc: 0.6638 - val_loss: 1.5441 - val_acc: 0.4667\n",
            "Epoch 13/20\n",
            "116/116 [==============================] - 0s 200us/step - loss: 0.8658 - acc: 0.6638 - val_loss: 1.3738 - val_acc: 0.4667\n",
            "Epoch 14/20\n",
            "116/116 [==============================] - 0s 225us/step - loss: 0.8638 - acc: 0.6638 - val_loss: 1.4659 - val_acc: 0.4667\n",
            "Epoch 15/20\n",
            "116/116 [==============================] - 0s 165us/step - loss: 0.8506 - acc: 0.6724 - val_loss: 1.2594 - val_acc: 0.4000\n",
            "Epoch 16/20\n",
            "116/116 [==============================] - 0s 165us/step - loss: 0.8600 - acc: 0.6638 - val_loss: 1.3798 - val_acc: 0.4667\n",
            "Epoch 17/20\n",
            "116/116 [==============================] - 0s 177us/step - loss: 0.8495 - acc: 0.6810 - val_loss: 1.4540 - val_acc: 0.4667\n",
            "Epoch 18/20\n",
            "116/116 [==============================] - 0s 195us/step - loss: 0.8447 - acc: 0.6724 - val_loss: 1.4802 - val_acc: 0.4667\n",
            "Epoch 19/20\n",
            "116/116 [==============================] - 0s 179us/step - loss: 0.8424 - acc: 0.6810 - val_loss: 1.5393 - val_acc: 0.4667\n",
            "Epoch 20/20\n",
            "116/116 [==============================] - 0s 207us/step - loss: 0.8394 - acc: 0.6638 - val_loss: 1.5302 - val_acc: 0.4667\n",
            "Train on 117 samples, validate on 14 samples\n",
            "Epoch 1/20\n",
            "117/117 [==============================] - 0s 1ms/step - loss: 1.3449 - acc: 0.4103 - val_loss: 1.0647 - val_acc: 0.5000\n",
            "Epoch 2/20\n",
            "117/117 [==============================] - 0s 195us/step - loss: 1.0528 - acc: 0.5470 - val_loss: 1.0783 - val_acc: 0.5000\n",
            "Epoch 3/20\n",
            "117/117 [==============================] - 0s 188us/step - loss: 0.9917 - acc: 0.6154 - val_loss: 1.0849 - val_acc: 0.5000\n",
            "Epoch 4/20\n",
            "117/117 [==============================] - 0s 179us/step - loss: 0.9553 - acc: 0.6068 - val_loss: 1.0940 - val_acc: 0.4286\n",
            "Epoch 5/20\n",
            "117/117 [==============================] - 0s 167us/step - loss: 0.9340 - acc: 0.6239 - val_loss: 1.0888 - val_acc: 0.4286\n",
            "Epoch 6/20\n",
            "117/117 [==============================] - 0s 169us/step - loss: 0.9178 - acc: 0.6068 - val_loss: 1.0842 - val_acc: 0.4286\n",
            "Epoch 7/20\n",
            "117/117 [==============================] - 0s 169us/step - loss: 0.9131 - acc: 0.5983 - val_loss: 1.0794 - val_acc: 0.4286\n",
            "Epoch 8/20\n",
            "117/117 [==============================] - 0s 177us/step - loss: 0.8966 - acc: 0.5983 - val_loss: 1.0807 - val_acc: 0.4286\n",
            "Epoch 9/20\n",
            "117/117 [==============================] - 0s 193us/step - loss: 0.8937 - acc: 0.6068 - val_loss: 1.0795 - val_acc: 0.4286\n",
            "Epoch 10/20\n",
            "117/117 [==============================] - 0s 214us/step - loss: 0.8997 - acc: 0.5983 - val_loss: 1.0776 - val_acc: 0.4286\n",
            "Epoch 11/20\n",
            "117/117 [==============================] - 0s 223us/step - loss: 0.8812 - acc: 0.6068 - val_loss: 1.0802 - val_acc: 0.3571\n",
            "Epoch 12/20\n",
            "117/117 [==============================] - 0s 223us/step - loss: 0.8773 - acc: 0.6068 - val_loss: 1.0870 - val_acc: 0.3571\n",
            "Epoch 13/20\n",
            "117/117 [==============================] - 0s 215us/step - loss: 0.8789 - acc: 0.5983 - val_loss: 1.0806 - val_acc: 0.4286\n",
            "Epoch 14/20\n",
            "117/117 [==============================] - 0s 234us/step - loss: 0.8712 - acc: 0.6154 - val_loss: 1.0864 - val_acc: 0.4286\n",
            "Epoch 15/20\n",
            "117/117 [==============================] - 0s 208us/step - loss: 0.8735 - acc: 0.6154 - val_loss: 1.0827 - val_acc: 0.4286\n",
            "Epoch 16/20\n",
            "117/117 [==============================] - 0s 212us/step - loss: 0.8691 - acc: 0.6239 - val_loss: 1.0838 - val_acc: 0.4286\n",
            "Epoch 17/20\n",
            "117/117 [==============================] - 0s 211us/step - loss: 0.8659 - acc: 0.6154 - val_loss: 1.0887 - val_acc: 0.4286\n",
            "Epoch 18/20\n",
            "117/117 [==============================] - 0s 198us/step - loss: 0.8632 - acc: 0.6154 - val_loss: 1.0856 - val_acc: 0.4286\n",
            "Epoch 19/20\n",
            "117/117 [==============================] - 0s 203us/step - loss: 0.8608 - acc: 0.6325 - val_loss: 1.0811 - val_acc: 0.5000\n",
            "Epoch 20/20\n",
            "117/117 [==============================] - 0s 196us/step - loss: 0.8571 - acc: 0.6496 - val_loss: 1.0909 - val_acc: 0.4286\n",
            "Train on 117 samples, validate on 14 samples\n",
            "Epoch 1/20\n",
            "117/117 [==============================] - 0s 2ms/step - loss: 1.1851 - acc: 0.4359 - val_loss: 1.1192 - val_acc: 0.5714\n",
            "Epoch 2/20\n",
            "117/117 [==============================] - 0s 183us/step - loss: 1.0811 - acc: 0.4530 - val_loss: 1.0959 - val_acc: 0.5714\n",
            "Epoch 3/20\n",
            "117/117 [==============================] - 0s 179us/step - loss: 1.0237 - acc: 0.4786 - val_loss: 1.0578 - val_acc: 0.4286\n",
            "Epoch 4/20\n",
            "117/117 [==============================] - 0s 172us/step - loss: 1.0038 - acc: 0.4872 - val_loss: 1.0420 - val_acc: 0.2857\n",
            "Epoch 5/20\n",
            "117/117 [==============================] - 0s 173us/step - loss: 0.9911 - acc: 0.4957 - val_loss: 1.0325 - val_acc: 0.5000\n",
            "Epoch 6/20\n",
            "117/117 [==============================] - 0s 194us/step - loss: 0.9834 - acc: 0.4872 - val_loss: 1.0192 - val_acc: 0.4286\n",
            "Epoch 7/20\n",
            "117/117 [==============================] - 0s 166us/step - loss: 0.9735 - acc: 0.5470 - val_loss: 1.0076 - val_acc: 0.5000\n",
            "Epoch 8/20\n",
            "117/117 [==============================] - 0s 166us/step - loss: 0.9592 - acc: 0.5726 - val_loss: 0.9955 - val_acc: 0.4286\n",
            "Epoch 9/20\n",
            "117/117 [==============================] - 0s 169us/step - loss: 0.9580 - acc: 0.5556 - val_loss: 0.9910 - val_acc: 0.5714\n",
            "Epoch 10/20\n",
            "117/117 [==============================] - 0s 171us/step - loss: 0.9522 - acc: 0.5556 - val_loss: 0.9814 - val_acc: 0.5000\n",
            "Epoch 11/20\n",
            "117/117 [==============================] - 0s 179us/step - loss: 0.9407 - acc: 0.5983 - val_loss: 0.9763 - val_acc: 0.5000\n",
            "Epoch 12/20\n",
            "117/117 [==============================] - 0s 174us/step - loss: 0.9342 - acc: 0.6068 - val_loss: 0.9814 - val_acc: 0.5714\n",
            "Epoch 13/20\n",
            "117/117 [==============================] - 0s 280us/step - loss: 0.9334 - acc: 0.5641 - val_loss: 0.9730 - val_acc: 0.5714\n",
            "Epoch 14/20\n",
            "117/117 [==============================] - 0s 221us/step - loss: 0.9332 - acc: 0.5556 - val_loss: 0.9725 - val_acc: 0.5714\n",
            "Epoch 15/20\n",
            "117/117 [==============================] - 0s 209us/step - loss: 0.9299 - acc: 0.5385 - val_loss: 0.9700 - val_acc: 0.5714\n",
            "Epoch 16/20\n",
            "117/117 [==============================] - 0s 250us/step - loss: 0.9290 - acc: 0.5470 - val_loss: 0.9747 - val_acc: 0.5714\n",
            "Epoch 17/20\n",
            "117/117 [==============================] - 0s 260us/step - loss: 0.9289 - acc: 0.5556 - val_loss: 0.9586 - val_acc: 0.5000\n",
            "Epoch 18/20\n",
            "117/117 [==============================] - 0s 223us/step - loss: 0.9204 - acc: 0.5385 - val_loss: 0.9615 - val_acc: 0.5714\n",
            "Epoch 19/20\n",
            "117/117 [==============================] - 0s 224us/step - loss: 0.9245 - acc: 0.5556 - val_loss: 0.9593 - val_acc: 0.5714\n",
            "Epoch 20/20\n",
            "117/117 [==============================] - 0s 227us/step - loss: 0.9304 - acc: 0.5726 - val_loss: 0.9647 - val_acc: 0.5714\n",
            "Train on 117 samples, validate on 14 samples\n",
            "Epoch 1/20\n",
            "117/117 [==============================] - 0s 2ms/step - loss: 1.8784 - acc: 0.4188 - val_loss: 1.0009 - val_acc: 0.5000\n",
            "Epoch 2/20\n",
            "117/117 [==============================] - 0s 171us/step - loss: 1.2218 - acc: 0.3761 - val_loss: 1.0662 - val_acc: 0.5714\n",
            "Epoch 3/20\n",
            "117/117 [==============================] - 0s 168us/step - loss: 1.0849 - acc: 0.4274 - val_loss: 1.0613 - val_acc: 0.4286\n",
            "Epoch 4/20\n",
            "117/117 [==============================] - 0s 179us/step - loss: 1.0377 - acc: 0.4188 - val_loss: 1.0628 - val_acc: 0.4286\n",
            "Epoch 5/20\n",
            "117/117 [==============================] - 0s 176us/step - loss: 1.0166 - acc: 0.4872 - val_loss: 1.1317 - val_acc: 0.4286\n",
            "Epoch 6/20\n",
            "117/117 [==============================] - 0s 205us/step - loss: 1.0072 - acc: 0.4786 - val_loss: 1.0953 - val_acc: 0.5000\n",
            "Epoch 7/20\n",
            "117/117 [==============================] - 0s 175us/step - loss: 0.9921 - acc: 0.4615 - val_loss: 1.1001 - val_acc: 0.5000\n",
            "Epoch 8/20\n",
            "117/117 [==============================] - 0s 200us/step - loss: 0.9792 - acc: 0.4701 - val_loss: 1.0764 - val_acc: 0.5000\n",
            "Epoch 9/20\n",
            "117/117 [==============================] - 0s 174us/step - loss: 0.9720 - acc: 0.5043 - val_loss: 1.0779 - val_acc: 0.5000\n",
            "Epoch 10/20\n",
            "117/117 [==============================] - 0s 172us/step - loss: 0.9619 - acc: 0.4872 - val_loss: 1.0266 - val_acc: 0.5000\n",
            "Epoch 11/20\n",
            "117/117 [==============================] - 0s 205us/step - loss: 0.9681 - acc: 0.5299 - val_loss: 1.0748 - val_acc: 0.4286\n",
            "Epoch 12/20\n",
            "117/117 [==============================] - 0s 176us/step - loss: 0.9570 - acc: 0.4957 - val_loss: 1.0556 - val_acc: 0.5000\n",
            "Epoch 13/20\n",
            "117/117 [==============================] - 0s 174us/step - loss: 0.9483 - acc: 0.5214 - val_loss: 1.0818 - val_acc: 0.4286\n",
            "Epoch 14/20\n",
            "117/117 [==============================] - 0s 190us/step - loss: 0.9500 - acc: 0.4957 - val_loss: 1.0402 - val_acc: 0.5000\n",
            "Epoch 15/20\n",
            "117/117 [==============================] - 0s 172us/step - loss: 0.9393 - acc: 0.5214 - val_loss: 1.0662 - val_acc: 0.4286\n",
            "Epoch 16/20\n",
            "117/117 [==============================] - 0s 172us/step - loss: 0.9408 - acc: 0.5299 - val_loss: 1.0400 - val_acc: 0.4286\n",
            "Epoch 17/20\n",
            "117/117 [==============================] - 0s 166us/step - loss: 0.9418 - acc: 0.5470 - val_loss: 1.0462 - val_acc: 0.4286\n",
            "Epoch 18/20\n",
            "117/117 [==============================] - 0s 175us/step - loss: 0.9385 - acc: 0.5556 - val_loss: 1.0543 - val_acc: 0.5000\n",
            "Epoch 19/20\n",
            "117/117 [==============================] - 0s 179us/step - loss: 0.9349 - acc: 0.5385 - val_loss: 1.0540 - val_acc: 0.5000\n",
            "Epoch 20/20\n",
            "117/117 [==============================] - 0s 224us/step - loss: 0.9254 - acc: 0.5470 - val_loss: 1.0310 - val_acc: 0.4286\n",
            "Train on 118 samples, validate on 13 samples\n",
            "Epoch 1/20\n",
            "118/118 [==============================] - 0s 2ms/step - loss: 1.9056 - acc: 0.3898 - val_loss: 1.3764 - val_acc: 0.3077\n",
            "Epoch 2/20\n",
            "118/118 [==============================] - 0s 167us/step - loss: 1.2234 - acc: 0.4661 - val_loss: 1.4252 - val_acc: 0.3846\n",
            "Epoch 3/20\n",
            "118/118 [==============================] - 0s 199us/step - loss: 1.0889 - acc: 0.4661 - val_loss: 1.4849 - val_acc: 0.4615\n",
            "Epoch 4/20\n",
            "118/118 [==============================] - 0s 187us/step - loss: 1.0301 - acc: 0.5000 - val_loss: 1.5300 - val_acc: 0.3846\n",
            "Epoch 5/20\n",
            "118/118 [==============================] - 0s 177us/step - loss: 0.9942 - acc: 0.5000 - val_loss: 1.5605 - val_acc: 0.3846\n",
            "Epoch 6/20\n",
            "118/118 [==============================] - 0s 182us/step - loss: 0.9790 - acc: 0.5508 - val_loss: 1.5184 - val_acc: 0.4615\n",
            "Epoch 7/20\n",
            "118/118 [==============================] - 0s 169us/step - loss: 0.9671 - acc: 0.5085 - val_loss: 1.5216 - val_acc: 0.4615\n",
            "Epoch 8/20\n",
            "118/118 [==============================] - 0s 181us/step - loss: 0.9528 - acc: 0.5254 - val_loss: 1.5081 - val_acc: 0.5385\n",
            "Epoch 9/20\n",
            "118/118 [==============================] - 0s 210us/step - loss: 0.9490 - acc: 0.5085 - val_loss: 1.5084 - val_acc: 0.5385\n",
            "Epoch 10/20\n",
            "118/118 [==============================] - 0s 221us/step - loss: 0.9427 - acc: 0.5339 - val_loss: 1.5240 - val_acc: 0.4615\n",
            "Epoch 11/20\n",
            "118/118 [==============================] - 0s 183us/step - loss: 0.9254 - acc: 0.5339 - val_loss: 1.5697 - val_acc: 0.3846\n",
            "Epoch 12/20\n",
            "118/118 [==============================] - 0s 192us/step - loss: 0.9373 - acc: 0.5424 - val_loss: 1.5449 - val_acc: 0.3846\n",
            "Epoch 13/20\n",
            "118/118 [==============================] - 0s 220us/step - loss: 0.9205 - acc: 0.5424 - val_loss: 1.5407 - val_acc: 0.4615\n",
            "Epoch 14/20\n",
            "118/118 [==============================] - 0s 180us/step - loss: 0.9208 - acc: 0.5424 - val_loss: 1.5415 - val_acc: 0.3846\n",
            "Epoch 15/20\n",
            "118/118 [==============================] - 0s 198us/step - loss: 0.9174 - acc: 0.5763 - val_loss: 1.5616 - val_acc: 0.3846\n",
            "Epoch 16/20\n",
            "118/118 [==============================] - 0s 184us/step - loss: 0.9186 - acc: 0.5678 - val_loss: 1.5360 - val_acc: 0.3846\n",
            "Epoch 17/20\n",
            "118/118 [==============================] - 0s 193us/step - loss: 0.9131 - acc: 0.5678 - val_loss: 1.5590 - val_acc: 0.5385\n",
            "Epoch 18/20\n",
            "118/118 [==============================] - 0s 218us/step - loss: 0.9074 - acc: 0.5678 - val_loss: 1.5426 - val_acc: 0.6154\n",
            "Epoch 19/20\n",
            "118/118 [==============================] - 0s 216us/step - loss: 0.9161 - acc: 0.5254 - val_loss: 1.5475 - val_acc: 0.5385\n",
            "Epoch 20/20\n",
            "118/118 [==============================] - 0s 240us/step - loss: 0.9005 - acc: 0.5508 - val_loss: 1.5988 - val_acc: 0.5385\n",
            "Train on 118 samples, validate on 13 samples\n",
            "Epoch 1/20\n",
            "118/118 [==============================] - 0s 2ms/step - loss: 1.6065 - acc: 0.2627 - val_loss: 1.5753 - val_acc: 0.1538\n",
            "Epoch 2/20\n",
            "118/118 [==============================] - 0s 203us/step - loss: 1.1752 - acc: 0.4322 - val_loss: 1.2776 - val_acc: 0.1538\n",
            "Epoch 3/20\n",
            "118/118 [==============================] - 0s 154us/step - loss: 1.0321 - acc: 0.4661 - val_loss: 1.1878 - val_acc: 0.3077\n",
            "Epoch 4/20\n",
            "118/118 [==============================] - 0s 183us/step - loss: 0.9898 - acc: 0.4915 - val_loss: 1.1509 - val_acc: 0.3077\n",
            "Epoch 5/20\n",
            "118/118 [==============================] - 0s 158us/step - loss: 0.9668 - acc: 0.5169 - val_loss: 1.1319 - val_acc: 0.3846\n",
            "Epoch 6/20\n",
            "118/118 [==============================] - 0s 161us/step - loss: 0.9433 - acc: 0.5424 - val_loss: 1.1425 - val_acc: 0.4615\n",
            "Epoch 7/20\n",
            "118/118 [==============================] - 0s 173us/step - loss: 0.9369 - acc: 0.5169 - val_loss: 1.1170 - val_acc: 0.4615\n",
            "Epoch 8/20\n",
            "118/118 [==============================] - 0s 174us/step - loss: 0.9171 - acc: 0.5339 - val_loss: 1.0911 - val_acc: 0.5385\n",
            "Epoch 9/20\n",
            "118/118 [==============================] - 0s 224us/step - loss: 0.9104 - acc: 0.5339 - val_loss: 1.0941 - val_acc: 0.4615\n",
            "Epoch 10/20\n",
            "118/118 [==============================] - 0s 224us/step - loss: 0.8974 - acc: 0.5593 - val_loss: 1.1070 - val_acc: 0.4615\n",
            "Epoch 11/20\n",
            "118/118 [==============================] - 0s 209us/step - loss: 0.8914 - acc: 0.5508 - val_loss: 1.1091 - val_acc: 0.4615\n",
            "Epoch 12/20\n",
            "118/118 [==============================] - 0s 186us/step - loss: 0.8837 - acc: 0.5508 - val_loss: 1.1257 - val_acc: 0.4615\n",
            "Epoch 13/20\n",
            "118/118 [==============================] - 0s 214us/step - loss: 0.8743 - acc: 0.5593 - val_loss: 1.1130 - val_acc: 0.4615\n",
            "Epoch 14/20\n",
            "118/118 [==============================] - 0s 217us/step - loss: 0.8713 - acc: 0.5847 - val_loss: 1.1176 - val_acc: 0.3077\n",
            "Epoch 15/20\n",
            "118/118 [==============================] - 0s 204us/step - loss: 0.8608 - acc: 0.5763 - val_loss: 1.1523 - val_acc: 0.3077\n",
            "Epoch 16/20\n",
            "118/118 [==============================] - 0s 208us/step - loss: 0.8610 - acc: 0.5847 - val_loss: 1.1467 - val_acc: 0.3077\n",
            "Epoch 17/20\n",
            "118/118 [==============================] - 0s 184us/step - loss: 0.8512 - acc: 0.6186 - val_loss: 1.1488 - val_acc: 0.3077\n",
            "Epoch 18/20\n",
            "118/118 [==============================] - 0s 218us/step - loss: 0.8480 - acc: 0.5932 - val_loss: 1.1597 - val_acc: 0.3077\n",
            "Epoch 19/20\n",
            "118/118 [==============================] - 0s 210us/step - loss: 0.8415 - acc: 0.6102 - val_loss: 1.1746 - val_acc: 0.3077\n",
            "Epoch 20/20\n",
            "118/118 [==============================] - 0s 184us/step - loss: 0.8378 - acc: 0.6271 - val_loss: 1.1743 - val_acc: 0.3077\n",
            "Train on 119 samples, validate on 12 samples\n",
            "Epoch 1/20\n",
            "119/119 [==============================] - 0s 3ms/step - loss: 1.9524 - acc: 0.3782 - val_loss: 1.7573 - val_acc: 0.4167\n",
            "Epoch 2/20\n",
            "119/119 [==============================] - 0s 169us/step - loss: 1.2888 - acc: 0.3866 - val_loss: 1.4910 - val_acc: 0.5000\n",
            "Epoch 3/20\n",
            "119/119 [==============================] - 0s 165us/step - loss: 1.1266 - acc: 0.3950 - val_loss: 1.3241 - val_acc: 0.5833\n",
            "Epoch 4/20\n",
            "119/119 [==============================] - 0s 170us/step - loss: 1.0533 - acc: 0.4202 - val_loss: 1.2119 - val_acc: 0.5833\n",
            "Epoch 5/20\n",
            "119/119 [==============================] - 0s 175us/step - loss: 1.0113 - acc: 0.4790 - val_loss: 1.1500 - val_acc: 0.5833\n",
            "Epoch 6/20\n",
            "119/119 [==============================] - 0s 200us/step - loss: 0.9875 - acc: 0.5462 - val_loss: 1.1234 - val_acc: 0.5833\n",
            "Epoch 7/20\n",
            "119/119 [==============================] - 0s 184us/step - loss: 0.9805 - acc: 0.5294 - val_loss: 1.1256 - val_acc: 0.5000\n",
            "Epoch 8/20\n",
            "119/119 [==============================] - 0s 159us/step - loss: 0.9630 - acc: 0.5210 - val_loss: 1.1059 - val_acc: 0.5833\n",
            "Epoch 9/20\n",
            "119/119 [==============================] - 0s 156us/step - loss: 0.9455 - acc: 0.5126 - val_loss: 1.0982 - val_acc: 0.5833\n",
            "Epoch 10/20\n",
            "119/119 [==============================] - 0s 218us/step - loss: 0.9332 - acc: 0.4958 - val_loss: 1.0746 - val_acc: 0.5833\n",
            "Epoch 11/20\n",
            "119/119 [==============================] - 0s 262us/step - loss: 0.9352 - acc: 0.5210 - val_loss: 1.0639 - val_acc: 0.5833\n",
            "Epoch 12/20\n",
            "119/119 [==============================] - 0s 168us/step - loss: 0.9205 - acc: 0.5294 - val_loss: 1.0309 - val_acc: 0.6667\n",
            "Epoch 13/20\n",
            "119/119 [==============================] - 0s 176us/step - loss: 0.9280 - acc: 0.5210 - val_loss: 1.0223 - val_acc: 0.6667\n",
            "Epoch 14/20\n",
            "119/119 [==============================] - 0s 173us/step - loss: 0.9133 - acc: 0.5546 - val_loss: 1.0144 - val_acc: 0.6667\n",
            "Epoch 15/20\n",
            "119/119 [==============================] - 0s 185us/step - loss: 0.9055 - acc: 0.5378 - val_loss: 1.0264 - val_acc: 0.6667\n",
            "Epoch 16/20\n",
            "119/119 [==============================] - 0s 193us/step - loss: 0.8988 - acc: 0.5630 - val_loss: 1.0113 - val_acc: 0.6667\n",
            "Epoch 17/20\n",
            "119/119 [==============================] - 0s 183us/step - loss: 0.8972 - acc: 0.5462 - val_loss: 0.9903 - val_acc: 0.6667\n",
            "Epoch 18/20\n",
            "119/119 [==============================] - 0s 222us/step - loss: 0.8931 - acc: 0.5378 - val_loss: 0.9824 - val_acc: 0.6667\n",
            "Epoch 19/20\n",
            "119/119 [==============================] - 0s 178us/step - loss: 0.8838 - acc: 0.5378 - val_loss: 0.9748 - val_acc: 0.6667\n",
            "Epoch 20/20\n",
            "119/119 [==============================] - 0s 214us/step - loss: 0.8866 - acc: 0.5798 - val_loss: 0.9664 - val_acc: 0.6667\n",
            "Train on 119 samples, validate on 12 samples\n",
            "Epoch 1/20\n",
            "119/119 [==============================] - 0s 3ms/step - loss: 2.7443 - acc: 0.2185 - val_loss: 1.8755 - val_acc: 0.5000\n",
            "Epoch 2/20\n",
            "119/119 [==============================] - 0s 200us/step - loss: 1.6358 - acc: 0.3361 - val_loss: 1.2532 - val_acc: 0.5000\n",
            "Epoch 3/20\n",
            "119/119 [==============================] - 0s 195us/step - loss: 1.2784 - acc: 0.4118 - val_loss: 1.0271 - val_acc: 0.5000\n",
            "Epoch 4/20\n",
            "119/119 [==============================] - 0s 186us/step - loss: 1.1392 - acc: 0.4454 - val_loss: 0.9229 - val_acc: 0.5000\n",
            "Epoch 5/20\n",
            "119/119 [==============================] - 0s 185us/step - loss: 1.0693 - acc: 0.4958 - val_loss: 0.8754 - val_acc: 0.5000\n",
            "Epoch 6/20\n",
            "119/119 [==============================] - 0s 220us/step - loss: 1.0295 - acc: 0.5042 - val_loss: 0.8449 - val_acc: 0.5833\n",
            "Epoch 7/20\n",
            "119/119 [==============================] - 0s 190us/step - loss: 1.0015 - acc: 0.5294 - val_loss: 0.8287 - val_acc: 0.6667\n",
            "Epoch 8/20\n",
            "119/119 [==============================] - 0s 194us/step - loss: 0.9840 - acc: 0.5126 - val_loss: 0.8186 - val_acc: 0.6667\n",
            "Epoch 9/20\n",
            "119/119 [==============================] - 0s 174us/step - loss: 0.9699 - acc: 0.5462 - val_loss: 0.8114 - val_acc: 0.6667\n",
            "Epoch 10/20\n",
            "119/119 [==============================] - 0s 167us/step - loss: 0.9563 - acc: 0.5462 - val_loss: 0.8109 - val_acc: 0.6667\n",
            "Epoch 11/20\n",
            "119/119 [==============================] - 0s 164us/step - loss: 0.9517 - acc: 0.5714 - val_loss: 0.8109 - val_acc: 0.6667\n",
            "Epoch 12/20\n",
            "119/119 [==============================] - 0s 168us/step - loss: 0.9420 - acc: 0.5714 - val_loss: 0.8077 - val_acc: 0.7500\n",
            "Epoch 13/20\n",
            "119/119 [==============================] - 0s 168us/step - loss: 0.9402 - acc: 0.5630 - val_loss: 0.8078 - val_acc: 0.7500\n",
            "Epoch 14/20\n",
            "119/119 [==============================] - 0s 168us/step - loss: 0.9312 - acc: 0.5798 - val_loss: 0.8073 - val_acc: 0.7500\n",
            "Epoch 15/20\n",
            "119/119 [==============================] - 0s 167us/step - loss: 0.9291 - acc: 0.5798 - val_loss: 0.8069 - val_acc: 0.8333\n",
            "Epoch 16/20\n",
            "119/119 [==============================] - 0s 156us/step - loss: 0.9256 - acc: 0.5798 - val_loss: 0.8038 - val_acc: 0.8333\n",
            "Epoch 17/20\n",
            "119/119 [==============================] - 0s 194us/step - loss: 0.9231 - acc: 0.5714 - val_loss: 0.8021 - val_acc: 0.7500\n",
            "Epoch 18/20\n",
            "119/119 [==============================] - 0s 211us/step - loss: 0.9173 - acc: 0.5630 - val_loss: 0.8139 - val_acc: 0.7500\n",
            "Epoch 19/20\n",
            "119/119 [==============================] - 0s 206us/step - loss: 0.9210 - acc: 0.5798 - val_loss: 0.8079 - val_acc: 0.7500\n",
            "Epoch 20/20\n",
            "119/119 [==============================] - 0s 198us/step - loss: 0.9135 - acc: 0.5714 - val_loss: 0.8053 - val_acc: 0.6667\n",
            "Train on 119 samples, validate on 12 samples\n",
            "Epoch 1/20\n",
            "119/119 [==============================] - 0s 3ms/step - loss: 2.2317 - acc: 0.3193 - val_loss: 1.7644 - val_acc: 0.4167\n",
            "Epoch 2/20\n",
            "119/119 [==============================] - 0s 195us/step - loss: 1.5455 - acc: 0.4202 - val_loss: 1.3450 - val_acc: 0.5000\n",
            "Epoch 3/20\n",
            "119/119 [==============================] - 0s 195us/step - loss: 1.2565 - acc: 0.4874 - val_loss: 1.1598 - val_acc: 0.5833\n",
            "Epoch 4/20\n",
            "119/119 [==============================] - 0s 193us/step - loss: 1.1464 - acc: 0.5126 - val_loss: 1.1051 - val_acc: 0.5833\n",
            "Epoch 5/20\n",
            "119/119 [==============================] - 0s 186us/step - loss: 1.0996 - acc: 0.5462 - val_loss: 1.0369 - val_acc: 0.5833\n",
            "Epoch 6/20\n",
            "119/119 [==============================] - 0s 224us/step - loss: 1.0445 - acc: 0.5378 - val_loss: 1.0015 - val_acc: 0.5833\n",
            "Epoch 7/20\n",
            "119/119 [==============================] - 0s 173us/step - loss: 1.0171 - acc: 0.5714 - val_loss: 0.9830 - val_acc: 0.5833\n",
            "Epoch 8/20\n",
            "119/119 [==============================] - 0s 197us/step - loss: 0.9904 - acc: 0.5294 - val_loss: 0.9962 - val_acc: 0.5833\n",
            "Epoch 9/20\n",
            "119/119 [==============================] - 0s 173us/step - loss: 0.9679 - acc: 0.5798 - val_loss: 1.0060 - val_acc: 0.5000\n",
            "Epoch 10/20\n",
            "119/119 [==============================] - 0s 223us/step - loss: 0.9471 - acc: 0.6050 - val_loss: 0.9893 - val_acc: 0.4167\n",
            "Epoch 11/20\n",
            "119/119 [==============================] - 0s 206us/step - loss: 0.9425 - acc: 0.5462 - val_loss: 0.9855 - val_acc: 0.4167\n",
            "Epoch 12/20\n",
            "119/119 [==============================] - 0s 174us/step - loss: 0.9220 - acc: 0.5714 - val_loss: 0.9892 - val_acc: 0.5000\n",
            "Epoch 13/20\n",
            "119/119 [==============================] - 0s 187us/step - loss: 0.9105 - acc: 0.5714 - val_loss: 1.0005 - val_acc: 0.4167\n",
            "Epoch 14/20\n",
            "119/119 [==============================] - 0s 178us/step - loss: 0.9096 - acc: 0.5714 - val_loss: 1.0004 - val_acc: 0.5000\n",
            "Epoch 15/20\n",
            "119/119 [==============================] - 0s 194us/step - loss: 0.8963 - acc: 0.5798 - val_loss: 0.9995 - val_acc: 0.4167\n",
            "Epoch 16/20\n",
            "119/119 [==============================] - 0s 161us/step - loss: 0.8907 - acc: 0.5966 - val_loss: 1.0046 - val_acc: 0.5000\n",
            "Epoch 17/20\n",
            "119/119 [==============================] - 0s 159us/step - loss: 0.8999 - acc: 0.5882 - val_loss: 0.9938 - val_acc: 0.5000\n",
            "Epoch 18/20\n",
            "119/119 [==============================] - 0s 161us/step - loss: 0.8808 - acc: 0.5798 - val_loss: 1.0183 - val_acc: 0.4167\n",
            "Epoch 19/20\n",
            "119/119 [==============================] - 0s 182us/step - loss: 0.8803 - acc: 0.5630 - val_loss: 1.0125 - val_acc: 0.3333\n",
            "Epoch 20/20\n",
            "119/119 [==============================] - 0s 198us/step - loss: 0.8687 - acc: 0.6050 - val_loss: 1.0276 - val_acc: 0.5000\n",
            "Train on 119 samples, validate on 12 samples\n",
            "Epoch 1/20\n",
            "119/119 [==============================] - 0s 3ms/step - loss: 1.8093 - acc: 0.3866 - val_loss: 0.9081 - val_acc: 0.4167\n",
            "Epoch 2/20\n",
            "119/119 [==============================] - 0s 209us/step - loss: 1.3194 - acc: 0.3697 - val_loss: 0.8578 - val_acc: 0.5833\n",
            "Epoch 3/20\n",
            "119/119 [==============================] - 0s 180us/step - loss: 1.1781 - acc: 0.3866 - val_loss: 0.8532 - val_acc: 0.5833\n",
            "Epoch 4/20\n",
            "119/119 [==============================] - 0s 188us/step - loss: 1.1114 - acc: 0.4202 - val_loss: 0.8743 - val_acc: 0.5000\n",
            "Epoch 5/20\n",
            "119/119 [==============================] - 0s 216us/step - loss: 1.0724 - acc: 0.4874 - val_loss: 0.8928 - val_acc: 0.5833\n",
            "Epoch 6/20\n",
            "119/119 [==============================] - 0s 176us/step - loss: 1.0515 - acc: 0.4790 - val_loss: 0.9302 - val_acc: 0.5833\n",
            "Epoch 7/20\n",
            "119/119 [==============================] - 0s 183us/step - loss: 1.0295 - acc: 0.5294 - val_loss: 0.9491 - val_acc: 0.5833\n",
            "Epoch 8/20\n",
            "119/119 [==============================] - 0s 174us/step - loss: 1.0112 - acc: 0.5378 - val_loss: 0.9605 - val_acc: 0.5833\n",
            "Epoch 9/20\n",
            "119/119 [==============================] - 0s 168us/step - loss: 1.0078 - acc: 0.5294 - val_loss: 0.9740 - val_acc: 0.5833\n",
            "Epoch 10/20\n",
            "119/119 [==============================] - 0s 176us/step - loss: 0.9978 - acc: 0.5378 - val_loss: 0.9842 - val_acc: 0.5833\n",
            "Epoch 11/20\n",
            "119/119 [==============================] - 0s 170us/step - loss: 0.9887 - acc: 0.5630 - val_loss: 0.9927 - val_acc: 0.5833\n",
            "Epoch 12/20\n",
            "119/119 [==============================] - 0s 161us/step - loss: 0.9855 - acc: 0.5546 - val_loss: 1.0004 - val_acc: 0.5833\n",
            "Epoch 13/20\n",
            "119/119 [==============================] - 0s 169us/step - loss: 0.9738 - acc: 0.5714 - val_loss: 1.0027 - val_acc: 0.5833\n",
            "Epoch 14/20\n",
            "119/119 [==============================] - 0s 169us/step - loss: 0.9666 - acc: 0.5714 - val_loss: 0.9869 - val_acc: 0.5833\n",
            "Epoch 15/20\n",
            "119/119 [==============================] - 0s 216us/step - loss: 0.9592 - acc: 0.5714 - val_loss: 0.9894 - val_acc: 0.5833\n",
            "Epoch 16/20\n",
            "119/119 [==============================] - 0s 186us/step - loss: 0.9533 - acc: 0.5798 - val_loss: 0.9900 - val_acc: 0.5833\n",
            "Epoch 17/20\n",
            "119/119 [==============================] - 0s 189us/step - loss: 0.9444 - acc: 0.5798 - val_loss: 0.9867 - val_acc: 0.5833\n",
            "Epoch 18/20\n",
            "119/119 [==============================] - 0s 168us/step - loss: 0.9402 - acc: 0.5798 - val_loss: 0.9899 - val_acc: 0.5833\n",
            "Epoch 19/20\n",
            "119/119 [==============================] - 0s 171us/step - loss: 0.9359 - acc: 0.6050 - val_loss: 0.9898 - val_acc: 0.5833\n",
            "Epoch 20/20\n",
            "119/119 [==============================] - 0s 180us/step - loss: 0.9385 - acc: 0.5546 - val_loss: 0.9931 - val_acc: 0.5833\n"
          ],
          "name": "stdout"
        }
      ]
    },
    {
      "cell_type": "code",
      "metadata": {
        "id": "s2eeOHoYbina",
        "colab_type": "code",
        "colab": {}
      },
      "source": [
        "history_dict = history.history"
      ],
      "execution_count": 0,
      "outputs": []
    },
    {
      "cell_type": "code",
      "metadata": {
        "id": "-zDN2PrRc36l",
        "colab_type": "code",
        "outputId": "6c7f4661-3cc0-4aef-a3c4-406f2866d070",
        "colab": {
          "base_uri": "https://localhost:8080/",
          "height": 34
        }
      },
      "source": [
        "history_dict.keys()"
      ],
      "execution_count": 38,
      "outputs": [
        {
          "output_type": "execute_result",
          "data": {
            "text/plain": [
              "dict_keys(['val_loss', 'val_acc', 'loss', 'acc'])"
            ]
          },
          "metadata": {
            "tags": []
          },
          "execution_count": 38
        }
      ]
    },
    {
      "cell_type": "code",
      "metadata": {
        "id": "tss7vRUEgAcz",
        "colab_type": "code",
        "outputId": "b8e3174f-d031-4cfd-b045-2bd45fa4b445",
        "colab": {
          "base_uri": "https://localhost:8080/",
          "height": 34
        }
      },
      "source": [
        "len(all_acc_histories[2])"
      ],
      "execution_count": 39,
      "outputs": [
        {
          "output_type": "execute_result",
          "data": {
            "text/plain": [
              "20"
            ]
          },
          "metadata": {
            "tags": []
          },
          "execution_count": 39
        }
      ]
    },
    {
      "cell_type": "code",
      "metadata": {
        "id": "HpKE3iTJBHzO",
        "colab_type": "code",
        "colab": {}
      },
      "source": [
        "average_acc_history = [np.mean([x[i] for x in all_acc_histories]) for i in range(num_epochs)]\n",
        "#media per epoca degli score ottenuti per tutte le k-fold\n",
        "#per ogni k-fold di fanno num_epoch epoche, la media viene fatta prendendo gli score di tutti i k-fold relativi ad una data epoca,\n",
        "#e si fa questo per tutte le epoche\n",
        "average_loss_history = [np.mean([x[i] for x in all_loss_histories]) for i in range(num_epochs)]\n",
        "average_val_acc_history = [np.mean([x[i] for x in all_val_acc_histories]) for i in range(num_epochs)]\n",
        "average_val_loss_history = [np.mean([x[i] for x in all_val_loss_histories]) for i in range(num_epochs)]\n"
      ],
      "execution_count": 0,
      "outputs": []
    },
    {
      "cell_type": "code",
      "metadata": {
        "id": "uQrkCEMUD2RI",
        "colab_type": "code",
        "outputId": "9ac5c017-c194-4ca2-a61e-e88b09e91e58",
        "colab": {
          "base_uri": "https://localhost:8080/",
          "height": 34
        }
      },
      "source": [
        "len(average_val_acc_history)"
      ],
      "execution_count": 41,
      "outputs": [
        {
          "output_type": "execute_result",
          "data": {
            "text/plain": [
              "20"
            ]
          },
          "metadata": {
            "tags": []
          },
          "execution_count": 41
        }
      ]
    },
    {
      "cell_type": "markdown",
      "metadata": {
        "id": "B9UhSxIaHtuO",
        "colab_type": "text"
      },
      "source": [
        "##Plotting training and validation loss"
      ]
    },
    {
      "cell_type": "code",
      "metadata": {
        "id": "vq6zsienD5ct",
        "colab_type": "code",
        "colab": {}
      },
      "source": [
        "import matplotlib.pyplot as plt"
      ],
      "execution_count": 0,
      "outputs": []
    },
    {
      "cell_type": "code",
      "metadata": {
        "id": "XJizyjnaIPhQ",
        "colab_type": "code",
        "colab": {}
      },
      "source": [
        "epochs = range(1, num_epochs+1)"
      ],
      "execution_count": 0,
      "outputs": []
    },
    {
      "cell_type": "code",
      "metadata": {
        "id": "HfEHEYLgIQUQ",
        "colab_type": "code",
        "outputId": "4c6044f0-0a43-41f3-eac9-bc757ac1c7b3",
        "colab": {
          "base_uri": "https://localhost:8080/",
          "height": 312
        }
      },
      "source": [
        "plt.plot(epochs, average_loss_history, 'bo', label='training loss')\n",
        "plt.plot(epochs, average_val_loss_history, 'b', label='validation loss')\n",
        "plt.title('Training and validation loss')\n",
        "plt.xlabel('Epochs')\n",
        "plt.ylabel('Loss')\n",
        "plt.legend()"
      ],
      "execution_count": 44,
      "outputs": [
        {
          "output_type": "execute_result",
          "data": {
            "text/plain": [
              "<matplotlib.legend.Legend at 0x7fb8511a6048>"
            ]
          },
          "metadata": {
            "tags": []
          },
          "execution_count": 44
        },
        {
          "output_type": "display_data",
          "data": {
            "image/png": "[encoded data removed]",
            "text/plain": [
              "<Figure size 432x288 with 1 Axes>"
            ]
          },
          "metadata": {
            "tags": []
          }
        }
      ]
    },
    {
      "cell_type": "markdown",
      "metadata": {
        "id": "Aoc4wMjfI97j",
        "colab_type": "text"
      },
      "source": [
        "##Plotting train and validation accuracy"
      ]
    },
    {
      "cell_type": "code",
      "metadata": {
        "id": "GZi7VzbFIbtJ",
        "colab_type": "code",
        "outputId": "980fe197-dbf2-4224-ee2f-19b923512040",
        "colab": {
          "base_uri": "https://localhost:8080/",
          "height": 312
        }
      },
      "source": [
        "plt.plot(epochs, average_acc_history, 'bo', label='Training accuracy')\n",
        "plt.plot(epochs, average_val_acc_history, 'b', label='Validation accuracy')\n",
        "plt.title('Training and validation accuracy')\n",
        "plt.xlabel('Epochs')\n",
        "plt.ylabel('Accuracy')\n",
        "plt.legend() "
      ],
      "execution_count": 45,
      "outputs": [
        {
          "output_type": "execute_result",
          "data": {
            "text/plain": [
              "<matplotlib.legend.Legend at 0x7fb8514e9e80>"
            ]
          },
          "metadata": {
            "tags": []
          },
          "execution_count": 45
        },
        {
          "output_type": "display_data",
          "data": {
            "image/png": "[encoded data removed]",
            "text/plain": [
              "<Figure size 432x288 with 1 Axes>"
            ]
          },
          "metadata": {
            "tags": []
          }
        }
      ]
    },
    {
      "cell_type": "markdown",
      "metadata": {
        "id": "bgN-E84SUPUq",
        "colab_type": "text"
      },
      "source": [
        "#Performances on test set"
      ]
    },
    {
      "cell_type": "code",
      "metadata": {
        "id": "VokWFUNPJOsJ",
        "colab_type": "code",
        "outputId": "71b7d601-3890-434e-b655-506c1fc78a90",
        "colab": {
          "base_uri": "https://localhost:8080/",
          "height": 729
        }
      },
      "source": [
        " model = build_model()\n",
        " model.fit(train_data_stand_pca, one_hot_train_labels, epochs= num_epochs, batch_size=8, shuffle=True)\n",
        " test_loss, test_acc = model.evaluate(test_data_stand_pca, one_hot_test_labels)\n",
        "  "
      ],
      "execution_count": 46,
      "outputs": [
        {
          "output_type": "stream",
          "text": [
            "Epoch 1/20\n",
            "131/131 [==============================] - 0s 3ms/step - loss: 1.7668 - acc: 0.3511\n",
            "Epoch 2/20\n",
            "131/131 [==============================] - 0s 181us/step - loss: 1.3724 - acc: 0.4351\n",
            "Epoch 3/20\n",
            "131/131 [==============================] - 0s 160us/step - loss: 1.2067 - acc: 0.4580\n",
            "Epoch 4/20\n",
            "131/131 [==============================] - 0s 152us/step - loss: 1.1108 - acc: 0.5115\n",
            "Epoch 5/20\n",
            "131/131 [==============================] - 0s 178us/step - loss: 1.0630 - acc: 0.5191\n",
            "Epoch 6/20\n",
            "131/131 [==============================] - 0s 151us/step - loss: 1.0310 - acc: 0.5420\n",
            "Epoch 7/20\n",
            "131/131 [==============================] - 0s 148us/step - loss: 0.9993 - acc: 0.5344\n",
            "Epoch 8/20\n",
            "131/131 [==============================] - 0s 155us/step - loss: 0.9810 - acc: 0.5267\n",
            "Epoch 9/20\n",
            "131/131 [==============================] - 0s 156us/step - loss: 0.9631 - acc: 0.5344\n",
            "Epoch 10/20\n",
            "131/131 [==============================] - 0s 165us/step - loss: 0.9556 - acc: 0.5573\n",
            "Epoch 11/20\n",
            "131/131 [==============================] - 0s 222us/step - loss: 0.9397 - acc: 0.5649\n",
            "Epoch 12/20\n",
            "131/131 [==============================] - 0s 146us/step - loss: 0.9327 - acc: 0.5420\n",
            "Epoch 13/20\n",
            "131/131 [==============================] - 0s 171us/step - loss: 0.9262 - acc: 0.5878\n",
            "Epoch 14/20\n",
            "131/131 [==============================] - 0s 147us/step - loss: 0.9172 - acc: 0.5573\n",
            "Epoch 15/20\n",
            "131/131 [==============================] - 0s 158us/step - loss: 0.9103 - acc: 0.5802\n",
            "Epoch 16/20\n",
            "131/131 [==============================] - 0s 191us/step - loss: 0.9135 - acc: 0.5573\n",
            "Epoch 17/20\n",
            "131/131 [==============================] - 0s 225us/step - loss: 0.8953 - acc: 0.5878\n",
            "Epoch 18/20\n",
            "131/131 [==============================] - 0s 178us/step - loss: 0.9091 - acc: 0.5802\n",
            "Epoch 19/20\n",
            "131/131 [==============================] - 0s 220us/step - loss: 0.8896 - acc: 0.5954\n",
            "Epoch 20/20\n",
            "131/131 [==============================] - 0s 161us/step - loss: 0.8897 - acc: 0.5802\n",
            "34/34 [==============================] - 0s 4ms/step\n"
          ],
          "name": "stdout"
        }
      ]
    },
    {
      "cell_type": "code",
      "metadata": {
        "id": "J-tXqN8teV_6",
        "colab_type": "code",
        "outputId": "311e1179-f2a8-421b-e415-71b0468617d0",
        "colab": {
          "base_uri": "https://localhost:8080/",
          "height": 34
        }
      },
      "source": [
        "model.metrics_names"
      ],
      "execution_count": 47,
      "outputs": [
        {
          "output_type": "execute_result",
          "data": {
            "text/plain": [
              "['loss', 'acc']"
            ]
          },
          "metadata": {
            "tags": []
          },
          "execution_count": 47
        }
      ]
    },
    {
      "cell_type": "code",
      "metadata": {
        "id": "uLqboU_IeYu-",
        "colab_type": "code",
        "outputId": "06c3c06b-4b67-4c8a-98e3-da7f26ee15a6",
        "colab": {
          "base_uri": "https://localhost:8080/",
          "height": 34
        }
      },
      "source": [
        "test_acc\n"
      ],
      "execution_count": 48,
      "outputs": [
        {
          "output_type": "execute_result",
          "data": {
            "text/plain": [
              "0.2647058823529412"
            ]
          },
          "metadata": {
            "tags": []
          },
          "execution_count": 48
        }
      ]
    }
  ]
}