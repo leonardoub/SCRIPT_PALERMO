{
  "nbformat": 4,
  "nbformat_minor": 0,
  "metadata": {
    "colab": {
      "name": "Callbacks_Network_classification_histology.ipynb",
      "provenance": [],
      "include_colab_link": true
    },
    "kernelspec": {
      "name": "python3",
      "display_name": "Python 3"
    }
  },
  "cells": [
    {
      "cell_type": "markdown",
      "metadata": {
        "id": "view-in-github",
        "colab_type": "text"
      },
      "source": [
        "<a href=\"https://colab.research.google.com/github/leonardoub/SCRIPT_PALERMO/blob/master/Callbacks_Network_classification_histology.ipynb\" target=\"_parent\"><img src=\"https://colab.research.google.com/assets/colab-badge.svg\" alt=\"Open In Colab\"/></a>"
      ]
    },
    {
      "cell_type": "code",
      "metadata": {
        "id": "Xo87xY_fffSC",
        "colab_type": "code",
        "colab": {}
      },
      "source": [
        "import pandas as pd\n",
        "import numpy as np\n",
        "import matplotlib.pyplot as plt\n",
        "import scipy"
      ],
      "execution_count": 0,
      "outputs": []
    },
    {
      "cell_type": "code",
      "metadata": {
        "id": "kPDpc9k3gQCH",
        "colab_type": "code",
        "colab": {}
      },
      "source": [
        ""
      ],
      "execution_count": 0,
      "outputs": []
    },
    {
      "cell_type": "markdown",
      "metadata": {
        "id": "ln0sTf8q1IrI",
        "colab_type": "text"
      },
      "source": [
        "#Load data"
      ]
    },
    {
      "cell_type": "code",
      "metadata": {
        "id": "lyyNl4gxhEwD",
        "colab_type": "code",
        "outputId": "5fa08f79-69f3-4ae5-8809-f20df4fe1226",
        "colab": {
          "base_uri": "https://localhost:8080/",
          "height": 34
        }
      },
      "source": [
        "#load data from Drive\n",
        "from google.colab import drive\n",
        "drive.mount('/gdrive')\n",
        "#%cd /gdrive"
      ],
      "execution_count": 0,
      "outputs": [
        {
          "output_type": "stream",
          "text": [
            "Drive already mounted at /gdrive; to attempt to forcibly remount, call drive.mount(\"/gdrive\", force_remount=True).\n"
          ],
          "name": "stdout"
        }
      ]
    },
    {
      "cell_type": "code",
      "metadata": {
        "id": "UCkUXesZhMzg",
        "colab_type": "code",
        "colab": {}
      },
      "source": [
        "train_dataset_path = '/gdrive/My Drive/AIM_PA/database_training2.csv'\n",
        "test_dataset_path = '/gdrive/My Drive/AIM_PA/database_nostro_without_nan.csv'"
      ],
      "execution_count": 0,
      "outputs": []
    },
    {
      "cell_type": "code",
      "metadata": {
        "id": "TczPxOpEhTXw",
        "colab_type": "code",
        "colab": {}
      },
      "source": [
        "df_train = pd.read_csv(train_dataset_path)\n",
        "df_test = pd.read_csv(test_dataset_path)"
      ],
      "execution_count": 0,
      "outputs": []
    },
    {
      "cell_type": "code",
      "metadata": {
        "id": "Ll-87QSVhqhj",
        "colab_type": "code",
        "colab": {}
      },
      "source": [
        "df_train.rename(columns={'Survival.time (months)':'Surv_time_months'}, inplace=True)"
      ],
      "execution_count": 0,
      "outputs": []
    },
    {
      "cell_type": "code",
      "metadata": {
        "id": "ulSbeCedhuxJ",
        "colab_type": "code",
        "colab": {}
      },
      "source": [
        "df_test.rename(columns={'Survival.time (months)':'Surv_time_months'}, inplace=True)"
      ],
      "execution_count": 0,
      "outputs": []
    },
    {
      "cell_type": "code",
      "metadata": {
        "id": "xbcwLGg3iNSn",
        "colab_type": "code",
        "colab": {}
      },
      "source": [
        "df_train.rename(columns={'Overall.Stage':'Overall_Stage'}, inplace=True)\n",
        "df_test.rename(columns={'Overall.Stage':'Overall_Stage'}, inplace=True)"
      ],
      "execution_count": 0,
      "outputs": []
    },
    {
      "cell_type": "code",
      "metadata": {
        "id": "oKKv4iKghWWn",
        "colab_type": "code",
        "colab": {}
      },
      "source": [
        "train_data = df_train.drop(['Histology', 'Surv_time_months', 'OS', 'deadstatus.event','Overall_Stage'], axis=1)"
      ],
      "execution_count": 0,
      "outputs": []
    },
    {
      "cell_type": "code",
      "metadata": {
        "id": "vQdR4izXiT0f",
        "colab_type": "code",
        "colab": {}
      },
      "source": [
        "test_data = df_test.drop(['Histology', 'Surv_time_months', 'OS', 'deadstatus.event','Overall_Stage'], axis=1)"
      ],
      "execution_count": 0,
      "outputs": []
    },
    {
      "cell_type": "code",
      "metadata": {
        "id": "Lu46pqnPhnCG",
        "colab_type": "code",
        "colab": {}
      },
      "source": [
        "train_labels = df_train.Histology"
      ],
      "execution_count": 0,
      "outputs": []
    },
    {
      "cell_type": "code",
      "metadata": {
        "id": "aS5wIylYmsQf",
        "colab_type": "code",
        "colab": {}
      },
      "source": [
        "test_labels = df_test.Histology"
      ],
      "execution_count": 0,
      "outputs": []
    },
    {
      "cell_type": "markdown",
      "metadata": {
        "id": "dtPx7PMDnXM3",
        "colab_type": "text"
      },
      "source": [
        "##Z score dei dati"
      ]
    },
    {
      "cell_type": "code",
      "metadata": {
        "id": "XK4Qji2EnVV4",
        "colab_type": "code",
        "colab": {}
      },
      "source": [
        "mean = train_data.mean(axis=0)\n",
        "train_data_stand = train_data - mean\n",
        "std = train_data.std(axis=0)\n",
        "train_data_stand /= std"
      ],
      "execution_count": 0,
      "outputs": []
    },
    {
      "cell_type": "code",
      "metadata": {
        "id": "YOVOoNOvm0Yx",
        "colab_type": "code",
        "colab": {}
      },
      "source": [
        "test_data_stand = test_data - mean\n",
        "test_data_stand /= std"
      ],
      "execution_count": 0,
      "outputs": []
    },
    {
      "cell_type": "markdown",
      "metadata": {
        "id": "00VohsAyokpq",
        "colab_type": "text"
      },
      "source": [
        "##Vettorizzare i label"
      ]
    },
    {
      "cell_type": "code",
      "metadata": {
        "id": "8RvS_9ISpxRi",
        "colab_type": "code",
        "colab": {}
      },
      "source": [
        "word_index={'adenocarcinoma':0, 'large cell':1, 'squamous cell carcinoma':2}"
      ],
      "execution_count": 0,
      "outputs": []
    },
    {
      "cell_type": "code",
      "metadata": {
        "id": "uiPW9U0XrWY2",
        "colab_type": "code",
        "colab": {}
      },
      "source": [
        "train_labels_dec = [word_index[label] for label in train_labels]"
      ],
      "execution_count": 0,
      "outputs": []
    },
    {
      "cell_type": "code",
      "metadata": {
        "id": "C4SBiKFQsKFw",
        "colab_type": "code",
        "colab": {}
      },
      "source": [
        "test_labels_dec = [word_index[label] for label in test_labels]"
      ],
      "execution_count": 0,
      "outputs": []
    },
    {
      "cell_type": "code",
      "metadata": {
        "id": "0IMbTYR7okJq",
        "colab_type": "code",
        "colab": {}
      },
      "source": [
        "from keras.utils.np_utils import to_categorical"
      ],
      "execution_count": 0,
      "outputs": []
    },
    {
      "cell_type": "code",
      "metadata": {
        "id": "0Frv4FDNn6Qu",
        "colab_type": "code",
        "colab": {}
      },
      "source": [
        "one_hot_train_labels = to_categorical(train_labels_dec)\n",
        "one_hot_test_labels = to_categorical(test_labels_dec)"
      ],
      "execution_count": 0,
      "outputs": []
    },
    {
      "cell_type": "markdown",
      "metadata": {
        "id": "Mn0tkOGc3LKN",
        "colab_type": "text"
      },
      "source": [
        "#PCA"
      ]
    },
    {
      "cell_type": "code",
      "metadata": {
        "id": "oS76u6iu3Seg",
        "colab_type": "code",
        "colab": {}
      },
      "source": [
        "from sklearn.decomposition import PCA"
      ],
      "execution_count": 0,
      "outputs": []
    },
    {
      "cell_type": "code",
      "metadata": {
        "id": "KCjC4zqJ3bui",
        "colab_type": "code",
        "colab": {}
      },
      "source": [
        "pca = PCA(n_components=0.9, svd_solver='full')"
      ],
      "execution_count": 0,
      "outputs": []
    },
    {
      "cell_type": "code",
      "metadata": {
        "id": "dLUCf9qX4p_e",
        "colab_type": "code",
        "outputId": "8a20252d-f97f-4aa0-f2e9-6ba03c80cb98",
        "colab": {
          "base_uri": "https://localhost:8080/"
        }
      },
      "source": [
        "pca.fit(train_data_stand)"
      ],
      "execution_count": 0,
      "outputs": [
        {
          "output_type": "execute_result",
          "data": {
            "text/plain": [
              "PCA(copy=True, iterated_power='auto', n_components=0.9, random_state=None,\n",
              "    svd_solver='full', tol=0.0, whiten=False)"
            ]
          },
          "metadata": {
            "tags": []
          },
          "execution_count": 79
        }
      ]
    },
    {
      "cell_type": "code",
      "metadata": {
        "id": "QfyaKgNZ44o3",
        "colab_type": "code",
        "colab": {}
      },
      "source": [
        "train_data_stand_pca = pca.transform(train_data_stand)\n",
        "test_data_stand_pca = pca.transform(test_data_stand)"
      ],
      "execution_count": 0,
      "outputs": []
    },
    {
      "cell_type": "code",
      "metadata": {
        "id": "Uz9C4nl05b_g",
        "colab_type": "code",
        "outputId": "6968d601-db4b-4e39-a4b0-e96f0eb5e96a",
        "colab": {
          "base_uri": "https://localhost:8080/"
        }
      },
      "source": [
        "train_data_stand_pca.shape"
      ],
      "execution_count": 0,
      "outputs": [
        {
          "output_type": "execute_result",
          "data": {
            "text/plain": [
              "(131, 9)"
            ]
          },
          "metadata": {
            "tags": []
          },
          "execution_count": 81
        }
      ]
    },
    {
      "cell_type": "markdown",
      "metadata": {
        "id": "8wSKvSu4s5ip",
        "colab_type": "text"
      },
      "source": [
        "#Building Network"
      ]
    },
    {
      "cell_type": "markdown",
      "metadata": {
        "id": "mIxDu50pBeiz",
        "colab_type": "text"
      },
      "source": [
        "#Stratified k-fold"
      ]
    },
    {
      "cell_type": "markdown",
      "metadata": {
        "id": "ZyLcvedUBpxA",
        "colab_type": "text"
      },
      "source": [
        "This cross-validation object is a variation of KFold that returns stratified folds. The folds are made by preserving the percentage of samples for each class."
      ]
    },
    {
      "cell_type": "code",
      "metadata": {
        "id": "fY1apcZ19gFp",
        "colab_type": "code",
        "colab": {}
      },
      "source": [
        "from sklearn.model_selection import StratifiedKFold"
      ],
      "execution_count": 0,
      "outputs": []
    },
    {
      "cell_type": "code",
      "metadata": {
        "id": "oaBDM-PtBx5V",
        "colab_type": "code",
        "outputId": "f8f23297-6434-4020-b28f-fe6abe8dba38",
        "colab": {
          "base_uri": "https://localhost:8080/",
          "height": 34
        }
      },
      "source": [
        "skf = StratifiedKFold(n_splits=3, shuffle=True, random_state=1)\n",
        "skf.get_n_splits(train_data_stand_pca, train_labels_dec)"
      ],
      "execution_count": 0,
      "outputs": [
        {
          "output_type": "execute_result",
          "data": {
            "text/plain": [
              "3"
            ]
          },
          "metadata": {
            "tags": []
          },
          "execution_count": 88
        }
      ]
    },
    {
      "cell_type": "code",
      "metadata": {
        "id": "Me-XQzPyD1gi",
        "colab_type": "code",
        "outputId": "ef9b3423-e93d-4dae-ccde-dda87eb4097a",
        "colab": {
          "base_uri": "https://localhost:8080/",
          "height": 402
        }
      },
      "source": [
        "for train_index, test_index in skf.split(train_data_stand_pca, train_labels_dec):\n",
        "    print(\"TRAIN:\", train_index, \"TEST:\", test_index)"
      ],
      "execution_count": 0,
      "outputs": [
        {
          "output_type": "stream",
          "text": [
            "TRAIN: [  0   1   4   5   8   9  11  12  14  15  16  17  19  20  22  23  24  25\n",
            "  27  29  30  33  34  36  37  38  39  40  41  42  44  45  46  48  51  52\n",
            "  53  56  57  58  59  60  62  63  65  66  67  69  72  76  77  78  79  80\n",
            "  81  83  84  85  87  88  89  90  92  96  97  98 100 101 102 103 104 105\n",
            " 107 109 110 111 113 115 117 120 121 122 124 125 127 128] TEST: [  2   3   6   7  10  13  18  21  26  28  31  32  35  43  47  49  50  54\n",
            "  55  61  64  68  70  71  73  74  75  82  86  91  93  94  95  99 106 108\n",
            " 112 114 116 118 119 123 126 129 130]\n",
            "TRAIN: [  2   3   5   6   7   8   9  10  11  12  13  18  20  21  25  26  27  28\n",
            "  29  30  31  32  34  35  36  38  39  43  44  45  46  47  48  49  50  53\n",
            "  54  55  57  58  61  63  64  65  66  68  70  71  73  74  75  76  78  82\n",
            "  84  85  86  87  90  91  92  93  94  95  96  99 100 101 102 105 106 108\n",
            " 109 111 112 114 115 116 118 119 122 123 124 125 126 127 129 130] TEST: [  0   1   4  14  15  16  17  19  22  23  24  33  37  40  41  42  51  52\n",
            "  56  59  60  62  67  69  72  77  79  80  81  83  88  89  97  98 103 104\n",
            " 107 110 113 117 120 121 128]\n",
            "TRAIN: [  0   1   2   3   4   6   7  10  13  14  15  16  17  18  19  21  22  23\n",
            "  24  26  28  31  32  33  35  37  40  41  42  43  47  49  50  51  52  54\n",
            "  55  56  59  60  61  62  64  67  68  69  70  71  72  73  74  75  77  79\n",
            "  80  81  82  83  86  88  89  91  93  94  95  97  98  99 103 104 106 107\n",
            " 108 110 112 113 114 116 117 118 119 120 121 123 126 128 129 130] TEST: [  5   8   9  11  12  20  25  27  29  30  34  36  38  39  44  45  46  48\n",
            "  53  57  58  63  65  66  76  78  84  85  87  90  92  96 100 101 102 105\n",
            " 109 111 115 122 124 125 127]\n"
          ],
          "name": "stdout"
        }
      ]
    },
    {
      "cell_type": "code",
      "metadata": {
        "id": "BgdGK-8FK-U_",
        "colab_type": "code",
        "outputId": "4195a42b-7b50-491c-ce9f-267473667a7a",
        "colab": {
          "base_uri": "https://localhost:8080/",
          "height": 34
        }
      },
      "source": [
        "train_labels_dec[125]"
      ],
      "execution_count": 0,
      "outputs": [
        {
          "output_type": "execute_result",
          "data": {
            "text/plain": [
              "2"
            ]
          },
          "metadata": {
            "tags": []
          },
          "execution_count": 90
        }
      ]
    },
    {
      "cell_type": "code",
      "metadata": {
        "id": "sBJg0XD4Shhc",
        "colab_type": "code",
        "colab": {}
      },
      "source": [
        "from keras.utils import to_categorical\n"
      ],
      "execution_count": 0,
      "outputs": []
    },
    {
      "cell_type": "code",
      "metadata": {
        "id": "a5Sq8r9GEPx3",
        "colab_type": "code",
        "colab": {}
      },
      "source": [
        "#for train_index, val_index in skf.split(train_data_stand_pca, train_labels_dec):\n",
        " \n",
        "#  partial_train_data = np.array([train_data_stand_pca[i] for i in train_index])\n",
        "#  partial_train_targets = np.array([train_labels_dec[i] for i in train_index])\n",
        "\n",
        "#  val_data = np.array([train_data_stand_pca[i] for i in val_index])\n",
        "#  val_targets = np.array([train_labels_dec[i] for i in val_index])\n",
        "\n",
        "#  one_hot_partial_train_targets = to_categorical(partial_train_targets)\n",
        "#  one_hot_val_targets = to_categorical(val_targets)\n",
        "\n",
        "#  model = build_model()\n",
        "#  model.fit(partial_train_data, one_hot_partial_train_targets, epochs = num_epochs, batch_size=1)\n",
        "\n",
        "#  val_loss, val_accuracy = model.evaluate(val_data, one_hot_val_targets)\n",
        "#  all_scores.append(val_accuracy)\n",
        "#I parametri per la valutazione vengono calcolati una volta per ogni k-fold, per ogni set di validazione, quindi k volte"
      ],
      "execution_count": 0,
      "outputs": []
    },
    {
      "cell_type": "markdown",
      "metadata": {
        "id": "2X5B3lasRcsR",
        "colab_type": "text"
      },
      "source": [
        "C'è un problema: keras.utils.to_categorical produces a one-hot encoded class vector, i.e. the multilabel-indicator mentioned in the error message. StratifiedKFold is not designed to work with such input; i.e. your y must be a 1-D array of your class labels.\n",
        "Essentially, what you have to do is simply to invert the order of the operations: split first (using your intial y_train), and convert to_categorical afterwards."
      ]
    },
    {
      "cell_type": "code",
      "metadata": {
        "id": "8K8a1I3yU9FS",
        "colab_type": "code",
        "outputId": "1f2f2c3f-5dcc-4758-e18c-ef5789c0b467",
        "colab": {
          "base_uri": "https://localhost:8080/",
          "height": 1000
        }
      },
      "source": [
        "num_epochs = 30\n",
        "all_acc_histories = []\n",
        "all_loss_histories = []\n",
        "all_val_acc_histories = []\n",
        "all_val_loss_histories = []\n",
        "\n",
        "for train_index, val_index in skf.split(train_data_stand_pca, train_labels_dec):\n",
        " \n",
        "  partial_train_data = np.array([train_data_stand_pca[i] for i in train_index])\n",
        "  partial_train_targets = np.array([train_labels_dec[i] for i in train_index])\n",
        "  \n",
        "  val_data = np.array([train_data_stand_pca[i] for i in val_index])\n",
        "  val_targets = np.array([train_labels_dec[i] for i in val_index])\n",
        "\n",
        "  one_hot_partial_train_targets = to_categorical(partial_train_targets)\n",
        "  one_hot_val_targets = to_categorical(val_targets)\n",
        "\n",
        "  model = build_model()\n",
        "  history = model.fit(partial_train_data, one_hot_partial_train_targets, validation_data=(val_data, one_hot_val_targets), \n",
        "                      epochs=num_epochs, batch_size=10)\n",
        "  \n",
        "  acc_history = history.history['accuracy']\n",
        "  all_acc_histories.append(acc_history)\n",
        "\n",
        "  loss_history = history.history['loss']\n",
        "  all_loss_histories.append(loss_history)\n",
        "\n",
        "  acc_val_history = history.history['val_accuracy']\n",
        "  all_val_acc_histories.append(acc_val_history)\n",
        "\n",
        "  loss_val_history = history.history['val_loss']\n",
        "  all_val_loss_histories.append(loss_val_history)\n",
        "  \n",
        "\n",
        "#I parametri per la valutazione vengono calcolati per ogni epoca, quindi num_epochs volte. \n",
        "#Il tutto viene ripetuto un numero di volte pari a n_splits.\n",
        "#Si ottiene una lista con n_splits elementi ciascuno dei quali è una lista lunga num_epochs,\n",
        "#ogni elemento può essere uno fra questi: dict_keys(['val_loss', 'val_acc', 'loss', 'acc']) "
      ],
      "execution_count": 0,
      "outputs": [
        {
          "output_type": "stream",
          "text": [
            "Train on 86 samples, validate on 45 samples\n",
            "Epoch 1/30\n",
            "86/86 [==============================] - 0s 4ms/sample - loss: 1.7603 - accuracy: 0.3837 - val_loss: 1.4380 - val_accuracy: 0.3333\n",
            "Epoch 2/30\n",
            "86/86 [==============================] - 0s 308us/sample - loss: 1.6349 - accuracy: 0.3605 - val_loss: 1.3908 - val_accuracy: 0.3333\n",
            "Epoch 3/30\n",
            "86/86 [==============================] - 0s 319us/sample - loss: 1.5324 - accuracy: 0.3953 - val_loss: 1.3512 - val_accuracy: 0.3556\n",
            "Epoch 4/30\n",
            "86/86 [==============================] - 0s 281us/sample - loss: 1.4462 - accuracy: 0.3953 - val_loss: 1.3195 - val_accuracy: 0.3556\n",
            "Epoch 5/30\n",
            "86/86 [==============================] - 0s 292us/sample - loss: 1.3780 - accuracy: 0.3953 - val_loss: 1.2938 - val_accuracy: 0.4000\n",
            "Epoch 6/30\n",
            "86/86 [==============================] - 0s 330us/sample - loss: 1.3197 - accuracy: 0.4070 - val_loss: 1.2728 - val_accuracy: 0.4222\n",
            "Epoch 7/30\n",
            "86/86 [==============================] - 0s 297us/sample - loss: 1.2695 - accuracy: 0.4535 - val_loss: 1.2565 - val_accuracy: 0.4444\n",
            "Epoch 8/30\n",
            "86/86 [==============================] - 0s 320us/sample - loss: 1.2332 - accuracy: 0.4767 - val_loss: 1.2455 - val_accuracy: 0.4444\n",
            "Epoch 9/30\n",
            "86/86 [==============================] - 0s 304us/sample - loss: 1.2003 - accuracy: 0.5116 - val_loss: 1.2373 - val_accuracy: 0.5111\n",
            "Epoch 10/30\n",
            "86/86 [==============================] - 0s 282us/sample - loss: 1.1775 - accuracy: 0.5116 - val_loss: 1.2305 - val_accuracy: 0.4889\n",
            "Epoch 11/30\n",
            "86/86 [==============================] - 0s 281us/sample - loss: 1.1561 - accuracy: 0.5233 - val_loss: 1.2255 - val_accuracy: 0.4889\n",
            "Epoch 12/30\n",
            "86/86 [==============================] - 0s 319us/sample - loss: 1.1399 - accuracy: 0.5349 - val_loss: 1.2214 - val_accuracy: 0.5333\n",
            "Epoch 13/30\n",
            "86/86 [==============================] - 0s 305us/sample - loss: 1.1264 - accuracy: 0.5465 - val_loss: 1.2184 - val_accuracy: 0.5333\n",
            "Epoch 14/30\n",
            "86/86 [==============================] - 0s 327us/sample - loss: 1.1146 - accuracy: 0.5465 - val_loss: 1.2162 - val_accuracy: 0.5111\n",
            "Epoch 15/30\n",
            "86/86 [==============================] - 0s 328us/sample - loss: 1.1055 - accuracy: 0.5465 - val_loss: 1.2137 - val_accuracy: 0.4889\n",
            "Epoch 16/30\n",
            "86/86 [==============================] - 0s 293us/sample - loss: 1.0964 - accuracy: 0.5349 - val_loss: 1.2112 - val_accuracy: 0.4889\n",
            "Epoch 17/30\n",
            "86/86 [==============================] - 0s 312us/sample - loss: 1.0883 - accuracy: 0.5233 - val_loss: 1.2092 - val_accuracy: 0.4889\n",
            "Epoch 18/30\n",
            "86/86 [==============================] - 0s 278us/sample - loss: 1.0817 - accuracy: 0.5233 - val_loss: 1.2061 - val_accuracy: 0.4889\n",
            "Epoch 19/30\n",
            "86/86 [==============================] - 0s 282us/sample - loss: 1.0761 - accuracy: 0.5349 - val_loss: 1.2033 - val_accuracy: 0.4889\n",
            "Epoch 20/30\n",
            "86/86 [==============================] - 0s 296us/sample - loss: 1.0702 - accuracy: 0.5233 - val_loss: 1.2007 - val_accuracy: 0.4889\n",
            "Epoch 21/30\n",
            "86/86 [==============================] - 0s 292us/sample - loss: 1.0644 - accuracy: 0.5349 - val_loss: 1.1978 - val_accuracy: 0.4889\n",
            "Epoch 22/30\n",
            "86/86 [==============================] - 0s 329us/sample - loss: 1.0602 - accuracy: 0.5233 - val_loss: 1.1949 - val_accuracy: 0.4889\n",
            "Epoch 23/30\n",
            "86/86 [==============================] - 0s 328us/sample - loss: 1.0555 - accuracy: 0.5116 - val_loss: 1.1918 - val_accuracy: 0.4889\n",
            "Epoch 24/30\n",
            "86/86 [==============================] - 0s 334us/sample - loss: 1.0503 - accuracy: 0.5116 - val_loss: 1.1888 - val_accuracy: 0.4889\n",
            "Epoch 25/30\n",
            "86/86 [==============================] - 0s 351us/sample - loss: 1.0470 - accuracy: 0.5233 - val_loss: 1.1863 - val_accuracy: 0.5333\n",
            "Epoch 26/30\n",
            "86/86 [==============================] - 0s 367us/sample - loss: 1.0425 - accuracy: 0.5116 - val_loss: 1.1833 - val_accuracy: 0.5333\n",
            "Epoch 27/30\n",
            "86/86 [==============================] - 0s 289us/sample - loss: 1.0370 - accuracy: 0.5116 - val_loss: 1.1799 - val_accuracy: 0.5333\n",
            "Epoch 28/30\n",
            "86/86 [==============================] - 0s 270us/sample - loss: 1.0334 - accuracy: 0.5000 - val_loss: 1.1773 - val_accuracy: 0.5333\n",
            "Epoch 29/30\n",
            "86/86 [==============================] - 0s 293us/sample - loss: 1.0304 - accuracy: 0.5000 - val_loss: 1.1746 - val_accuracy: 0.5333\n",
            "Epoch 30/30\n",
            "86/86 [==============================] - 0s 280us/sample - loss: 1.0259 - accuracy: 0.5233 - val_loss: 1.1713 - val_accuracy: 0.5333\n",
            "Train on 88 samples, validate on 43 samples\n",
            "Epoch 1/30\n",
            "88/88 [==============================] - 0s 4ms/sample - loss: 2.2654 - accuracy: 0.3068 - val_loss: 2.5546 - val_accuracy: 0.2558\n",
            "Epoch 2/30\n",
            "88/88 [==============================] - 0s 301us/sample - loss: 2.1380 - accuracy: 0.3182 - val_loss: 2.4157 - val_accuracy: 0.2558\n",
            "Epoch 3/30\n",
            "88/88 [==============================] - 0s 305us/sample - loss: 2.0214 - accuracy: 0.3182 - val_loss: 2.2953 - val_accuracy: 0.2791\n",
            "Epoch 4/30\n",
            "88/88 [==============================] - 0s 306us/sample - loss: 1.9167 - accuracy: 0.3068 - val_loss: 2.1828 - val_accuracy: 0.2791\n",
            "Epoch 5/30\n",
            "88/88 [==============================] - 0s 282us/sample - loss: 1.8237 - accuracy: 0.3068 - val_loss: 2.0847 - val_accuracy: 0.3023\n",
            "Epoch 6/30\n",
            "88/88 [==============================] - 0s 271us/sample - loss: 1.7366 - accuracy: 0.2955 - val_loss: 1.9918 - val_accuracy: 0.3023\n",
            "Epoch 7/30\n",
            "88/88 [==============================] - 0s 560us/sample - loss: 1.6558 - accuracy: 0.2955 - val_loss: 1.9110 - val_accuracy: 0.3023\n",
            "Epoch 8/30\n",
            "88/88 [==============================] - 0s 277us/sample - loss: 1.5855 - accuracy: 0.2955 - val_loss: 1.8369 - val_accuracy: 0.3023\n",
            "Epoch 9/30\n",
            "88/88 [==============================] - 0s 291us/sample - loss: 1.5185 - accuracy: 0.3182 - val_loss: 1.7710 - val_accuracy: 0.3488\n",
            "Epoch 10/30\n",
            "88/88 [==============================] - 0s 285us/sample - loss: 1.4562 - accuracy: 0.3182 - val_loss: 1.7068 - val_accuracy: 0.3721\n",
            "Epoch 11/30\n",
            "88/88 [==============================] - 0s 283us/sample - loss: 1.4019 - accuracy: 0.3182 - val_loss: 1.6511 - val_accuracy: 0.3721\n",
            "Epoch 12/30\n",
            "88/88 [==============================] - 0s 302us/sample - loss: 1.3524 - accuracy: 0.3295 - val_loss: 1.6008 - val_accuracy: 0.3721\n",
            "Epoch 13/30\n",
            "88/88 [==============================] - 0s 296us/sample - loss: 1.3057 - accuracy: 0.3295 - val_loss: 1.5544 - val_accuracy: 0.3721\n",
            "Epoch 14/30\n",
            "88/88 [==============================] - 0s 303us/sample - loss: 1.2666 - accuracy: 0.3523 - val_loss: 1.5125 - val_accuracy: 0.3721\n",
            "Epoch 15/30\n",
            "88/88 [==============================] - 0s 328us/sample - loss: 1.2320 - accuracy: 0.3409 - val_loss: 1.4770 - val_accuracy: 0.3488\n",
            "Epoch 16/30\n",
            "88/88 [==============================] - 0s 275us/sample - loss: 1.2019 - accuracy: 0.3295 - val_loss: 1.4432 - val_accuracy: 0.3488\n",
            "Epoch 17/30\n",
            "88/88 [==============================] - 0s 273us/sample - loss: 1.1744 - accuracy: 0.3409 - val_loss: 1.4137 - val_accuracy: 0.3953\n",
            "Epoch 18/30\n",
            "88/88 [==============================] - 0s 315us/sample - loss: 1.1522 - accuracy: 0.3636 - val_loss: 1.3872 - val_accuracy: 0.3953\n",
            "Epoch 19/30\n",
            "88/88 [==============================] - 0s 312us/sample - loss: 1.1323 - accuracy: 0.3523 - val_loss: 1.3636 - val_accuracy: 0.4186\n",
            "Epoch 20/30\n",
            "88/88 [==============================] - 0s 327us/sample - loss: 1.1165 - accuracy: 0.3750 - val_loss: 1.3424 - val_accuracy: 0.4186\n",
            "Epoch 21/30\n",
            "88/88 [==============================] - 0s 315us/sample - loss: 1.1027 - accuracy: 0.3977 - val_loss: 1.3245 - val_accuracy: 0.4419\n",
            "Epoch 22/30\n",
            "88/88 [==============================] - 0s 322us/sample - loss: 1.0924 - accuracy: 0.3977 - val_loss: 1.3089 - val_accuracy: 0.4651\n",
            "Epoch 23/30\n",
            "88/88 [==============================] - 0s 318us/sample - loss: 1.0818 - accuracy: 0.3977 - val_loss: 1.2954 - val_accuracy: 0.4651\n",
            "Epoch 24/30\n",
            "88/88 [==============================] - 0s 299us/sample - loss: 1.0743 - accuracy: 0.3977 - val_loss: 1.2839 - val_accuracy: 0.4651\n",
            "Epoch 25/30\n",
            "88/88 [==============================] - 0s 329us/sample - loss: 1.0693 - accuracy: 0.3864 - val_loss: 1.2730 - val_accuracy: 0.4419\n",
            "Epoch 26/30\n",
            "88/88 [==============================] - 0s 267us/sample - loss: 1.0641 - accuracy: 0.3977 - val_loss: 1.2633 - val_accuracy: 0.4419\n",
            "Epoch 27/30\n",
            "88/88 [==============================] - 0s 303us/sample - loss: 1.0589 - accuracy: 0.4091 - val_loss: 1.2560 - val_accuracy: 0.4419\n",
            "Epoch 28/30\n",
            "88/88 [==============================] - 0s 368us/sample - loss: 1.0552 - accuracy: 0.4091 - val_loss: 1.2478 - val_accuracy: 0.4419\n",
            "Epoch 29/30\n",
            "88/88 [==============================] - 0s 315us/sample - loss: 1.0518 - accuracy: 0.4318 - val_loss: 1.2404 - val_accuracy: 0.4419\n",
            "Epoch 30/30\n",
            "88/88 [==============================] - 0s 330us/sample - loss: 1.0481 - accuracy: 0.4091 - val_loss: 1.2347 - val_accuracy: 0.4419\n",
            "Train on 88 samples, validate on 43 samples\n",
            "Epoch 1/30\n",
            "88/88 [==============================] - 0s 3ms/sample - loss: 2.2177 - accuracy: 0.2386 - val_loss: 1.9770 - val_accuracy: 0.3023\n",
            "Epoch 2/30\n",
            "88/88 [==============================] - 0s 295us/sample - loss: 2.0900 - accuracy: 0.2614 - val_loss: 1.8664 - val_accuracy: 0.3023\n",
            "Epoch 3/30\n",
            "88/88 [==============================] - 0s 274us/sample - loss: 1.9771 - accuracy: 0.2614 - val_loss: 1.7713 - val_accuracy: 0.3256\n",
            "Epoch 4/30\n",
            "88/88 [==============================] - 0s 286us/sample - loss: 1.8769 - accuracy: 0.2841 - val_loss: 1.6929 - val_accuracy: 0.3721\n",
            "Epoch 5/30\n",
            "88/88 [==============================] - 0s 291us/sample - loss: 1.7911 - accuracy: 0.3068 - val_loss: 1.6289 - val_accuracy: 0.3953\n",
            "Epoch 6/30\n",
            "88/88 [==============================] - 0s 303us/sample - loss: 1.7187 - accuracy: 0.3068 - val_loss: 1.5741 - val_accuracy: 0.3953\n",
            "Epoch 7/30\n",
            "88/88 [==============================] - 0s 288us/sample - loss: 1.6547 - accuracy: 0.3182 - val_loss: 1.5272 - val_accuracy: 0.3953\n",
            "Epoch 8/30\n",
            "88/88 [==============================] - 0s 285us/sample - loss: 1.5979 - accuracy: 0.3182 - val_loss: 1.4862 - val_accuracy: 0.4186\n",
            "Epoch 9/30\n",
            "88/88 [==============================] - 0s 355us/sample - loss: 1.5478 - accuracy: 0.3295 - val_loss: 1.4518 - val_accuracy: 0.4651\n",
            "Epoch 10/30\n",
            "88/88 [==============================] - 0s 350us/sample - loss: 1.5040 - accuracy: 0.3523 - val_loss: 1.4214 - val_accuracy: 0.4419\n",
            "Epoch 11/30\n",
            "88/88 [==============================] - 0s 335us/sample - loss: 1.4640 - accuracy: 0.3750 - val_loss: 1.3944 - val_accuracy: 0.4419\n",
            "Epoch 12/30\n",
            "88/88 [==============================] - 0s 302us/sample - loss: 1.4278 - accuracy: 0.3636 - val_loss: 1.3694 - val_accuracy: 0.4884\n",
            "Epoch 13/30\n",
            "88/88 [==============================] - 0s 273us/sample - loss: 1.3953 - accuracy: 0.3523 - val_loss: 1.3476 - val_accuracy: 0.4884\n",
            "Epoch 14/30\n",
            "88/88 [==============================] - 0s 247us/sample - loss: 1.3658 - accuracy: 0.3409 - val_loss: 1.3278 - val_accuracy: 0.4651\n",
            "Epoch 15/30\n",
            "88/88 [==============================] - 0s 285us/sample - loss: 1.3385 - accuracy: 0.3636 - val_loss: 1.3095 - val_accuracy: 0.5116\n",
            "Epoch 16/30\n",
            "88/88 [==============================] - 0s 298us/sample - loss: 1.3136 - accuracy: 0.3636 - val_loss: 1.2932 - val_accuracy: 0.5116\n",
            "Epoch 17/30\n",
            "88/88 [==============================] - 0s 296us/sample - loss: 1.2904 - accuracy: 0.3750 - val_loss: 1.2784 - val_accuracy: 0.4884\n",
            "Epoch 18/30\n",
            "88/88 [==============================] - 0s 277us/sample - loss: 1.2689 - accuracy: 0.3864 - val_loss: 1.2643 - val_accuracy: 0.5116\n",
            "Epoch 19/30\n",
            "88/88 [==============================] - 0s 278us/sample - loss: 1.2489 - accuracy: 0.3977 - val_loss: 1.2511 - val_accuracy: 0.5116\n",
            "Epoch 20/30\n",
            "88/88 [==============================] - 0s 307us/sample - loss: 1.2299 - accuracy: 0.3977 - val_loss: 1.2380 - val_accuracy: 0.5116\n",
            "Epoch 21/30\n",
            "88/88 [==============================] - 0s 300us/sample - loss: 1.2127 - accuracy: 0.3977 - val_loss: 1.2260 - val_accuracy: 0.5116\n",
            "Epoch 22/30\n",
            "88/88 [==============================] - 0s 271us/sample - loss: 1.1963 - accuracy: 0.4091 - val_loss: 1.2149 - val_accuracy: 0.5116\n",
            "Epoch 23/30\n",
            "88/88 [==============================] - 0s 289us/sample - loss: 1.1798 - accuracy: 0.4318 - val_loss: 1.2046 - val_accuracy: 0.5349\n",
            "Epoch 24/30\n",
            "88/88 [==============================] - 0s 305us/sample - loss: 1.1654 - accuracy: 0.4318 - val_loss: 1.1941 - val_accuracy: 0.5349\n",
            "Epoch 25/30\n",
            "88/88 [==============================] - 0s 284us/sample - loss: 1.1506 - accuracy: 0.4318 - val_loss: 1.1835 - val_accuracy: 0.5349\n",
            "Epoch 26/30\n",
            "88/88 [==============================] - 0s 290us/sample - loss: 1.1380 - accuracy: 0.4205 - val_loss: 1.1745 - val_accuracy: 0.5349\n",
            "Epoch 27/30\n",
            "88/88 [==============================] - 0s 285us/sample - loss: 1.1256 - accuracy: 0.4432 - val_loss: 1.1661 - val_accuracy: 0.5349\n",
            "Epoch 28/30\n",
            "88/88 [==============================] - 0s 287us/sample - loss: 1.1141 - accuracy: 0.4432 - val_loss: 1.1580 - val_accuracy: 0.5116\n",
            "Epoch 29/30\n",
            "88/88 [==============================] - 0s 442us/sample - loss: 1.1039 - accuracy: 0.4432 - val_loss: 1.1505 - val_accuracy: 0.5116\n",
            "Epoch 30/30\n",
            "88/88 [==============================] - 0s 316us/sample - loss: 1.0932 - accuracy: 0.4545 - val_loss: 1.1439 - val_accuracy: 0.5116\n"
          ],
          "name": "stdout"
        }
      ]
    },
    {
      "cell_type": "code",
      "metadata": {
        "id": "s2eeOHoYbina",
        "colab_type": "code",
        "colab": {}
      },
      "source": [
        "history_dict = history.history"
      ],
      "execution_count": 0,
      "outputs": []
    },
    {
      "cell_type": "code",
      "metadata": {
        "id": "-zDN2PrRc36l",
        "colab_type": "code",
        "outputId": "eb0ffe49-2576-4e38-be27-71c22309287d",
        "colab": {
          "base_uri": "https://localhost:8080/",
          "height": 34
        }
      },
      "source": [
        "history_dict.keys()"
      ],
      "execution_count": 0,
      "outputs": [
        {
          "output_type": "execute_result",
          "data": {
            "text/plain": [
              "dict_keys(['loss', 'accuracy', 'val_loss', 'val_accuracy'])"
            ]
          },
          "metadata": {
            "tags": []
          },
          "execution_count": 95
        }
      ]
    },
    {
      "cell_type": "code",
      "metadata": {
        "id": "tss7vRUEgAcz",
        "colab_type": "code",
        "outputId": "d83fd390-d0a9-4221-d0b6-edff11307ac2",
        "colab": {
          "base_uri": "https://localhost:8080/",
          "height": 34
        }
      },
      "source": [
        "len(all_acc_histories[2])"
      ],
      "execution_count": 0,
      "outputs": [
        {
          "output_type": "execute_result",
          "data": {
            "text/plain": [
              "30"
            ]
          },
          "metadata": {
            "tags": []
          },
          "execution_count": 96
        }
      ]
    },
    {
      "cell_type": "code",
      "metadata": {
        "id": "HpKE3iTJBHzO",
        "colab_type": "code",
        "colab": {}
      },
      "source": [
        "average_acc_history = [np.mean([x[i] for x in all_acc_histories]) for i in range(num_epochs)]\n",
        "#media per epoca degli score ottenuti per tutte le k-fold\n",
        "#per ogni k-fold di fanno num_epoch epoche, la media viene fatta prendendo gli score di tutti i k-fold relativi ad una data epoca,\n",
        "#e si fa questo per tutte le epoche\n",
        "average_loss_history = [np.mean([x[i] for x in all_loss_histories]) for i in range(num_epochs)]\n",
        "average_val_acc_history = [np.mean([x[i] for x in all_val_acc_histories]) for i in range(num_epochs)]\n",
        "average_val_loss_history = [np.mean([x[i] for x in all_val_loss_histories]) for i in range(num_epochs)]\n"
      ],
      "execution_count": 0,
      "outputs": []
    },
    {
      "cell_type": "code",
      "metadata": {
        "id": "uQrkCEMUD2RI",
        "colab_type": "code",
        "outputId": "34db275c-fbf2-4b27-d426-e5dcb1eb638f",
        "colab": {
          "base_uri": "https://localhost:8080/",
          "height": 34
        }
      },
      "source": [
        "len(average_val_acc_history)"
      ],
      "execution_count": 0,
      "outputs": [
        {
          "output_type": "execute_result",
          "data": {
            "text/plain": [
              "30"
            ]
          },
          "metadata": {
            "tags": []
          },
          "execution_count": 98
        }
      ]
    },
    {
      "cell_type": "markdown",
      "metadata": {
        "id": "B9UhSxIaHtuO",
        "colab_type": "text"
      },
      "source": [
        "##Plotting training and validation loss"
      ]
    },
    {
      "cell_type": "code",
      "metadata": {
        "id": "vq6zsienD5ct",
        "colab_type": "code",
        "colab": {}
      },
      "source": [
        "import matplotlib.pyplot as plt"
      ],
      "execution_count": 0,
      "outputs": []
    },
    {
      "cell_type": "code",
      "metadata": {
        "id": "XJizyjnaIPhQ",
        "colab_type": "code",
        "colab": {}
      },
      "source": [
        "epochs = range(1, num_epochs+1)"
      ],
      "execution_count": 0,
      "outputs": []
    },
    {
      "cell_type": "code",
      "metadata": {
        "id": "HfEHEYLgIQUQ",
        "colab_type": "code",
        "outputId": "cd10f49e-6093-46f1-ffd4-c3e3011ee4ee",
        "colab": {
          "base_uri": "https://localhost:8080/",
          "height": 312
        }
      },
      "source": [
        "plt.plot(epochs, average_loss_history, 'bo', label='training loss')\n",
        "plt.plot(epochs, average_val_loss_history, 'b', label='validation loss')\n",
        "plt.title('Training and validation loss')\n",
        "plt.xlabel('Epochs')\n",
        "plt.ylabel('Loss')\n",
        "plt.legend()"
      ],
      "execution_count": 0,
      "outputs": [
        {
          "output_type": "execute_result",
          "data": {
            "text/plain": [
              "<matplotlib.legend.Legend at 0x7f54438dddd8>"
            ]
          },
          "metadata": {
            "tags": []
          },
          "execution_count": 101
        },
        {
          "output_type": "display_data",
          "data": {
            "image/png": "[encoded data removed]",
            "text/plain": [
              "<Figure size 432x288 with 1 Axes>"
            ]
          },
          "metadata": {
            "tags": []
          }
        }
      ]
    },
    {
      "cell_type": "markdown",
      "metadata": {
        "id": "Aoc4wMjfI97j",
        "colab_type": "text"
      },
      "source": [
        "##Plotting train and validation accuracy"
      ]
    },
    {
      "cell_type": "code",
      "metadata": {
        "id": "GZi7VzbFIbtJ",
        "colab_type": "code",
        "outputId": "2a860e5f-0bbe-4155-a50d-2bcc98d9e1ba",
        "colab": {
          "base_uri": "https://localhost:8080/",
          "height": 312
        }
      },
      "source": [
        "plt.plot(epochs, average_acc_history, 'bo', label='Training accuracy')\n",
        "plt.plot(epochs, average_val_acc_history, 'b', label='Validation accuracy')\n",
        "plt.title('Training and validation accuracy')\n",
        "plt.xlabel('Epochs')\n",
        "plt.ylabel('Accuracy')\n",
        "plt.legend() "
      ],
      "execution_count": 0,
      "outputs": [
        {
          "output_type": "execute_result",
          "data": {
            "text/plain": [
              "<matplotlib.legend.Legend at 0x7f54438b3b00>"
            ]
          },
          "metadata": {
            "tags": []
          },
          "execution_count": 102
        },
        {
          "output_type": "display_data",
          "data": {
            "image/png": "[encoded data removed]",
            "text/plain": [
              "<Figure size 432x288 with 1 Axes>"
            ]
          },
          "metadata": {
            "tags": []
          }
        }
      ]
    },
    {
      "cell_type": "code",
      "metadata": {
        "id": "sJTbHiq0D-4x",
        "colab_type": "code",
        "colab": {}
      },
      "source": [
        "from tensorflow.keras import layers\n",
        "from tensorflow.keras.preprocessing import sequence"
      ],
      "execution_count": 0,
      "outputs": []
    },
    {
      "cell_type": "code",
      "metadata": {
        "id": "ShwM6YMqsxxJ",
        "colab_type": "code",
        "colab": {}
      },
      "source": [
        "from tensorflow.keras import layers"
      ],
      "execution_count": 0,
      "outputs": []
    },
    {
      "cell_type": "code",
      "metadata": {
        "id": "IAzbu7P1VylY",
        "colab_type": "code",
        "colab": {}
      },
      "source": [
        "from tensorflow.keras import regularizers"
      ],
      "execution_count": 0,
      "outputs": []
    },
    {
      "cell_type": "code",
      "metadata": {
        "id": "dyqbUCK5wOVt",
        "colab_type": "code",
        "colab": {}
      },
      "source": [
        "from tensorflow.keras.optimizers import SGD"
      ],
      "execution_count": 0,
      "outputs": []
    },
    {
      "cell_type": "code",
      "metadata": {
        "id": "7OAEgN31tHVV",
        "colab_type": "code",
        "colab": {}
      },
      "source": [
        "def build_model():\n",
        "  model = keras.models.Sequential()\n",
        "  model.add(layers.Dense(6, activation='relu', input_shape=(9,)))\n",
        "  model.add(layers.Dense(3, activation='softmax'))\n",
        "  sgd = SGD(lr=0.001, decay=1e-6, momentum=0.5, nesterov=True)\n",
        "  model.compile(optimizer=sgd, loss='categorical_crossentropy', metrics=['accuracy'])\n",
        "  return model"
      ],
      "execution_count": 0,
      "outputs": []
    }
  ]
}