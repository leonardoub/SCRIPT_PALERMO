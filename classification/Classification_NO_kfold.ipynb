{
  "nbformat": 4,
  "nbformat_minor": 0,
  "metadata": {
    "colab": {
      "name": "Classification_NO_kfold.ipynb",
      "provenance": [],
      "authorship_tag": "ABX9TyOPF/kl3j8IXjjGaHWcZz9F",
      "include_colab_link": true
    },
    "kernelspec": {
      "name": "python3",
      "display_name": "Python 3"
    }
  },
  "cells": [
    {
      "cell_type": "markdown",
      "metadata": {
        "id": "view-in-github",
        "colab_type": "text"
      },
      "source": [
        "<a href=\"https://colab.research.google.com/github/leonardoub/SCRIPT_PALERMO/blob/master/classification/Classification_NO_kfold.ipynb\" target=\"_parent\"><img src=\"https://colab.research.google.com/assets/colab-badge.svg\" alt=\"Open In Colab\"/></a>"
      ]
    },
    {
      "cell_type": "code",
      "metadata": {
        "id": "3i4O_AtKVzh1",
        "colab_type": "code",
        "colab": {}
      },
      "source": [
        "import random\n",
        "import pandas as pd\n",
        "import numpy as np\n",
        "import matplotlib.pyplot as plt\n",
        "import scipy\n",
        "import seaborn as sns"
      ],
      "execution_count": 0,
      "outputs": []
    },
    {
      "cell_type": "code",
      "metadata": {
        "id": "xcb00g1tWTqw",
        "colab_type": "code",
        "outputId": "15795f4f-4fa9-446d-ee53-4018636c9cdb",
        "colab": {
          "base_uri": "https://localhost:8080/",
          "height": 81
        }
      },
      "source": [
        "# Seed value\n",
        "# Apparently you may use different seed values at each stage\n",
        "seed_value= 0\n",
        "\n",
        "# 1. Set `PYTHONHASHSEED` environment variable at a fixed value\n",
        "import os\n",
        "os.environ['PYTHONHASHSEED']=str(seed_value)\n",
        "\n",
        "# 2. Set `python` built-in pseudo-random generator at a fixed value\n",
        "import random\n",
        "random.seed(seed_value)\n",
        "\n",
        "# 3. Set `numpy` pseudo-random generator at a fixed value\n",
        "import numpy as np\n",
        "np.random.seed(seed_value)\n",
        "\n",
        "# 4. Set `tensorflow` pseudo-random generator at a fixed value\n",
        "import tensorflow as tf\n",
        "tf.set_random_seed(seed_value)\n",
        "\n",
        "# 5. Configure a new global `tensorflow` session\n",
        "from keras import backend as K\n",
        "session_conf = tf.ConfigProto(intra_op_parallelism_threads=1, inter_op_parallelism_threads=1)\n",
        "sess = tf.Session(graph=tf.get_default_graph(), config=session_conf)\n",
        "K.set_session(sess)"
      ],
      "execution_count": 2,
      "outputs": [
        {
          "output_type": "display_data",
          "data": {
            "text/html": [
              "<p style=\"color: red;\">\n",
              "The default version of TensorFlow in Colab will soon switch to TensorFlow 2.x.<br>\n",
              "We recommend you <a href=\"https://www.tensorflow.org/guide/migrate\" target=\"_blank\">upgrade</a> now \n",
              "or ensure your notebook will continue to use TensorFlow 1.x via the <code>%tensorflow_version 1.x</code> magic:\n",
              "<a href=\"https://colab.research.google.com/notebooks/tensorflow_version.ipynb\" target=\"_blank\">more info</a>.</p>\n"
            ],
            "text/plain": [
              "<IPython.core.display.HTML object>"
            ]
          },
          "metadata": {
            "tags": []
          }
        },
        {
          "output_type": "stream",
          "text": [
            "Using TensorFlow backend.\n"
          ],
          "name": "stderr"
        }
      ]
    },
    {
      "cell_type": "markdown",
      "metadata": {
        "id": "_DME-inQ4ke_",
        "colab_type": "text"
      },
      "source": [
        "#Load data"
      ]
    },
    {
      "cell_type": "code",
      "metadata": {
        "id": "7Hq45TSf3WcR",
        "colab_type": "code",
        "outputId": "1f5aa5c2-7316-4548-eb43-ee469293941a",
        "colab": {
          "base_uri": "https://localhost:8080/",
          "height": 141
        }
      },
      "source": [
        "#load data from Drive\n",
        "from google.colab import drive\n",
        "drive.mount('/gdrive')\n",
        "%cd /gdrive"
      ],
      "execution_count": 3,
      "outputs": [
        {
          "output_type": "stream",
          "text": [
            "Go to this URL in a browser: https://accounts.google.com/o/oauth2/auth?client_id=947318989803-6bn6qk8qdgf4n4g3pfee6491hc0brc4i.apps.googleusercontent.com&redirect_uri=urn%3aietf%3awg%3aoauth%3a2.0%3aoob&response_type=code&scope=email%20https%3a%2f%2fwww.googleapis.com%2fauth%2fdocs.test%20https%3a%2f%2fwww.googleapis.com%2fauth%2fdrive%20https%3a%2f%2fwww.googleapis.com%2fauth%2fdrive.photos.readonly%20https%3a%2f%2fwww.googleapis.com%2fauth%2fpeopleapi.readonly\n",
            "\n",
            "Enter your authorization code:\n",
            "··········\n",
            "Mounted at /gdrive\n",
            "/gdrive\n"
          ],
          "name": "stdout"
        }
      ]
    },
    {
      "cell_type": "code",
      "metadata": {
        "id": "UCkUXesZhMzg",
        "colab_type": "code",
        "colab": {}
      },
      "source": [
        "train_dataset_path = '/gdrive/My Drive/AIM_PA/database_training2.csv'\n",
        "test_dataset_path = '/gdrive/My Drive/AIM_PA/database_nostro_without_nan.csv'"
      ],
      "execution_count": 0,
      "outputs": []
    },
    {
      "cell_type": "code",
      "metadata": {
        "id": "TczPxOpEhTXw",
        "colab_type": "code",
        "colab": {}
      },
      "source": [
        "df_train = pd.read_csv(train_dataset_path)\n",
        "df_test = pd.read_csv(test_dataset_path)"
      ],
      "execution_count": 0,
      "outputs": []
    },
    {
      "cell_type": "code",
      "metadata": {
        "id": "9I5MNxeW3j2G",
        "colab_type": "code",
        "colab": {}
      },
      "source": [
        "df_train.rename(columns={'Survival.time (months)':'Surv_time_months'}, inplace=True)"
      ],
      "execution_count": 0,
      "outputs": []
    },
    {
      "cell_type": "code",
      "metadata": {
        "id": "TLxDyFPo3sU9",
        "colab_type": "code",
        "colab": {}
      },
      "source": [
        "df_test.rename(columns={'Survival.time (months)':'Surv_time_months'}, inplace=True)"
      ],
      "execution_count": 0,
      "outputs": []
    },
    {
      "cell_type": "code",
      "metadata": {
        "id": "oXU_B2k03uYa",
        "colab_type": "code",
        "colab": {}
      },
      "source": [
        "df_train.rename(columns={'Overall.Stage':'Overall_Stage'}, inplace=True)\n",
        "df_test.rename(columns={'Overall.Stage':'Overall_Stage'}, inplace=True)"
      ],
      "execution_count": 0,
      "outputs": []
    },
    {
      "cell_type": "code",
      "metadata": {
        "id": "T1YCrOMP3_4q",
        "colab_type": "code",
        "colab": {}
      },
      "source": [
        "public_data = df_train.drop(['Histology', 'Surv_time_months', 'OS', 'deadstatus.event','Overall_Stage'], axis=1)"
      ],
      "execution_count": 0,
      "outputs": []
    },
    {
      "cell_type": "code",
      "metadata": {
        "id": "BWj1mwjV4Mzo",
        "colab_type": "code",
        "colab": {}
      },
      "source": [
        "PA_data = df_test.drop(['Histology', 'Surv_time_months', 'OS', 'deadstatus.event','Overall_Stage'], axis=1)"
      ],
      "execution_count": 0,
      "outputs": []
    },
    {
      "cell_type": "code",
      "metadata": {
        "id": "dKdS4Low4PHh",
        "colab_type": "code",
        "colab": {}
      },
      "source": [
        "public_labels = df_train.Histology"
      ],
      "execution_count": 0,
      "outputs": []
    },
    {
      "cell_type": "code",
      "metadata": {
        "id": "K6EsAdEt4RNP",
        "colab_type": "code",
        "colab": {}
      },
      "source": [
        "PA_labels = df_test.Histology"
      ],
      "execution_count": 0,
      "outputs": []
    },
    {
      "cell_type": "markdown",
      "metadata": {
        "id": "tqDYyNd6_3s4",
        "colab_type": "text"
      },
      "source": [
        "#Train Test Split"
      ]
    },
    {
      "cell_type": "code",
      "metadata": {
        "id": "_7I8R-jd_3Hd",
        "colab_type": "code",
        "colab": {}
      },
      "source": [
        "from sklearn.model_selection import train_test_split"
      ],
      "execution_count": 0,
      "outputs": []
    },
    {
      "cell_type": "code",
      "metadata": {
        "id": "_bnO8hgZ__GF",
        "colab_type": "code",
        "colab": {}
      },
      "source": [
        "X_train_big, X_test, y_train_big, y_test = train_test_split(public_data, public_labels, test_size=13, stratify=public_labels, random_state=1)"
      ],
      "execution_count": 0,
      "outputs": []
    },
    {
      "cell_type": "markdown",
      "metadata": {
        "id": "pMuRNXFjVEiK",
        "colab_type": "text"
      },
      "source": [
        "#Train Validation Split"
      ]
    },
    {
      "cell_type": "code",
      "metadata": {
        "colab_type": "code",
        "id": "ovpVx4a7VMkl",
        "colab": {}
      },
      "source": [
        "from sklearn.model_selection import train_test_split"
      ],
      "execution_count": 0,
      "outputs": []
    },
    {
      "cell_type": "code",
      "metadata": {
        "colab_type": "code",
        "id": "S3Tq1lHxVMlu",
        "colab": {}
      },
      "source": [
        "X_train, X_val, y_train, y_val = train_test_split(X_train_big, y_train_big, test_size=13, stratify=y_train_big, random_state=2)                                                         "
      ],
      "execution_count": 0,
      "outputs": []
    },
    {
      "cell_type": "markdown",
      "metadata": {
        "id": "dtPx7PMDnXM3",
        "colab_type": "text"
      },
      "source": [
        "#Z score dei dati"
      ]
    },
    {
      "cell_type": "code",
      "metadata": {
        "id": "xKRmr5Am-860",
        "colab_type": "code",
        "colab": {}
      },
      "source": [
        "from sklearn.preprocessing import StandardScaler\n",
        "scaler = StandardScaler()\n",
        "train_data_stand = scaler.fit_transform(X_train)\n",
        "val_data_stand = scaler.transform(X_val)\n",
        "test_data_stand = scaler.transform(X_test)"
      ],
      "execution_count": 0,
      "outputs": []
    },
    {
      "cell_type": "markdown",
      "metadata": {
        "id": "5kvXfgKi2uWa",
        "colab_type": "text"
      },
      "source": [
        "#LDA"
      ]
    },
    {
      "cell_type": "code",
      "metadata": {
        "id": "hYTGbSu22w34",
        "colab_type": "code",
        "colab": {}
      },
      "source": [
        "from sklearn.discriminant_analysis import LinearDiscriminantAnalysis"
      ],
      "execution_count": 0,
      "outputs": []
    },
    {
      "cell_type": "code",
      "metadata": {
        "id": "TMCI-ALj23N1",
        "colab_type": "code",
        "colab": {}
      },
      "source": [
        "lda = LinearDiscriminantAnalysis(n_components=3)"
      ],
      "execution_count": 0,
      "outputs": []
    },
    {
      "cell_type": "code",
      "metadata": {
        "id": "EqcJWjWj3rvS",
        "colab_type": "code",
        "outputId": "904e7e72-a592-4757-fa99-36d178ec2c6d",
        "colab": {
          "base_uri": "https://localhost:8080/",
          "height": 106
        }
      },
      "source": [
        "train_data_stand_lda = lda.fit(train_data_stand, y_train).transform(train_data_stand)"
      ],
      "execution_count": 20,
      "outputs": [
        {
          "output_type": "stream",
          "text": [
            "/usr/local/lib/python3.6/dist-packages/sklearn/discriminant_analysis.py:463: ChangedBehaviorWarning: n_components cannot be larger than min(n_features, n_classes - 1). Using min(n_features, n_classes - 1) = min(107, 3 - 1) = 2 components.\n",
            "  ChangedBehaviorWarning)\n",
            "/usr/local/lib/python3.6/dist-packages/sklearn/discriminant_analysis.py:469: FutureWarning: In version 0.23, setting n_components > min(n_features, n_classes - 1) will raise a ValueError. You should set n_components to None (default), or a value smaller or equal to min(n_features, n_classes - 1).\n",
            "  warnings.warn(future_msg, FutureWarning)\n"
          ],
          "name": "stderr"
        }
      ]
    },
    {
      "cell_type": "code",
      "metadata": {
        "id": "3opFZvVx45TC",
        "colab_type": "code",
        "outputId": "abd7da05-a949-49d6-a55a-465b83f6a0f6",
        "colab": {
          "base_uri": "https://localhost:8080/",
          "height": 34
        }
      },
      "source": [
        "train_data_stand_lda.shape"
      ],
      "execution_count": 21,
      "outputs": [
        {
          "output_type": "execute_result",
          "data": {
            "text/plain": [
              "(105, 2)"
            ]
          },
          "metadata": {
            "tags": []
          },
          "execution_count": 21
        }
      ]
    },
    {
      "cell_type": "code",
      "metadata": {
        "id": "E0UwBbCjf13g",
        "colab_type": "code",
        "colab": {}
      },
      "source": [
        "val_data_stand_lda = lda.transform(val_data_stand)"
      ],
      "execution_count": 0,
      "outputs": []
    },
    {
      "cell_type": "code",
      "metadata": {
        "id": "cjpMHM6iqbbC",
        "colab_type": "code",
        "colab": {}
      },
      "source": [
        "test_data_stand_lda = lda.transform(test_data_stand)"
      ],
      "execution_count": 0,
      "outputs": []
    },
    {
      "cell_type": "markdown",
      "metadata": {
        "id": "WF5fsvoQwBqR",
        "colab_type": "text"
      },
      "source": [
        "##Z-score dopo LDA"
      ]
    },
    {
      "cell_type": "code",
      "metadata": {
        "id": "btYbsLEB_6nq",
        "colab_type": "code",
        "colab": {}
      },
      "source": [
        "from sklearn.preprocessing import StandardScaler\n",
        "scaler_2 = StandardScaler()\n",
        "train_data_stand_lda = scaler_2.fit_transform(train_data_stand_lda)\n",
        "val_data_stand_lda = scaler_2.transform(val_data_stand_lda)\n",
        "test_data_stand_lda = scaler_2.transform(test_data_stand_lda)"
      ],
      "execution_count": 0,
      "outputs": []
    },
    {
      "cell_type": "code",
      "metadata": {
        "id": "Bw8_CwJZwBD1",
        "colab_type": "code",
        "colab": {}
      },
      "source": [
        "mean = train_data_stand_lda.mean(axis=0)\n",
        "std = train_data_stand_lda.std(axis=0)\n",
        "train_data_stand_lda = train_data_stand_lda - mean\n",
        "train_data_stand_lda /= std"
      ],
      "execution_count": 0,
      "outputs": []
    },
    {
      "cell_type": "code",
      "metadata": {
        "id": "3KW2c_RIXpWy",
        "colab_type": "code",
        "colab": {}
      },
      "source": [
        "val_data_stand_lda = val_data_stand_lda - mean\n",
        "val_data_stand_lda /= std"
      ],
      "execution_count": 0,
      "outputs": []
    },
    {
      "cell_type": "code",
      "metadata": {
        "id": "H3wGNwiWXvbo",
        "colab_type": "code",
        "colab": {}
      },
      "source": [
        "test_data_stand_lda = test_data_stand_lda - mean\n",
        "test_data_stand_lda /= std"
      ],
      "execution_count": 0,
      "outputs": []
    },
    {
      "cell_type": "markdown",
      "metadata": {
        "id": "00VohsAyokpq",
        "colab_type": "text"
      },
      "source": [
        "##Vettorizzare i label"
      ]
    },
    {
      "cell_type": "code",
      "metadata": {
        "id": "8RvS_9ISpxRi",
        "colab_type": "code",
        "colab": {}
      },
      "source": [
        "word_index={'adenocarcinoma':0, 'large cell':1, 'squamous cell carcinoma':2}"
      ],
      "execution_count": 0,
      "outputs": []
    },
    {
      "cell_type": "code",
      "metadata": {
        "id": "uiPW9U0XrWY2",
        "colab_type": "code",
        "colab": {}
      },
      "source": [
        "train_labels_dec = [word_index[label] for label in y_train]"
      ],
      "execution_count": 0,
      "outputs": []
    },
    {
      "cell_type": "code",
      "metadata": {
        "id": "wTLYdHX-mYtM",
        "colab_type": "code",
        "colab": {}
      },
      "source": [
        "val_labels_dec = [word_index[label] for label in y_val]"
      ],
      "execution_count": 0,
      "outputs": []
    },
    {
      "cell_type": "code",
      "metadata": {
        "id": "C4SBiKFQsKFw",
        "colab_type": "code",
        "colab": {}
      },
      "source": [
        "test_labels_dec = [word_index[label] for label in y_test]"
      ],
      "execution_count": 0,
      "outputs": []
    },
    {
      "cell_type": "code",
      "metadata": {
        "id": "0IMbTYR7okJq",
        "colab_type": "code",
        "colab": {}
      },
      "source": [
        "from keras.utils.np_utils import to_categorical"
      ],
      "execution_count": 0,
      "outputs": []
    },
    {
      "cell_type": "code",
      "metadata": {
        "id": "0Frv4FDNn6Qu",
        "colab_type": "code",
        "colab": {}
      },
      "source": [
        "one_hot_train_labels = to_categorical(train_labels_dec)\n",
        "one_hot_val_labels = to_categorical(val_labels_dec)\n",
        "one_hot_test_labels = to_categorical(test_labels_dec)"
      ],
      "execution_count": 0,
      "outputs": []
    },
    {
      "cell_type": "markdown",
      "metadata": {
        "colab_type": "text",
        "id": "5r_lV6xwmmPi"
      },
      "source": [
        "#Building Network"
      ]
    },
    {
      "cell_type": "code",
      "metadata": {
        "colab_type": "code",
        "id": "vOCMUAeUmmP0",
        "colab": {}
      },
      "source": [
        "import keras\n",
        "from keras import layers\n",
        "from keras.preprocessing import sequence"
      ],
      "execution_count": 0,
      "outputs": []
    },
    {
      "cell_type": "code",
      "metadata": {
        "colab_type": "code",
        "id": "OjW-IrxommQE",
        "colab": {}
      },
      "source": [
        "from keras import layers"
      ],
      "execution_count": 0,
      "outputs": []
    },
    {
      "cell_type": "code",
      "metadata": {
        "colab_type": "code",
        "id": "o-AuSahCmmQO",
        "colab": {}
      },
      "source": [
        "from keras import regularizers"
      ],
      "execution_count": 0,
      "outputs": []
    },
    {
      "cell_type": "code",
      "metadata": {
        "colab_type": "code",
        "id": "CUw7ZwNwmmQV",
        "colab": {}
      },
      "source": [
        "from keras.optimizers import SGD"
      ],
      "execution_count": 0,
      "outputs": []
    },
    {
      "cell_type": "code",
      "metadata": {
        "colab_type": "code",
        "id": "PfAdcrAmmmQc",
        "colab": {}
      },
      "source": [
        "def build_model():\n",
        "  model = keras.models.Sequential()\n",
        "  model.add(layers.Dense(8, activation='relu', input_shape=(2,), kernel_regularizer=regularizers.l2(l=0.1)))\n",
        "  model.add(layers.Dense(7, activation='relu'))\n",
        "  #model.add(layers.Dropout(rate=0.2))\n",
        "\n",
        "  model.add(layers.Dense(3, activation='softmax'))\n",
        "\n",
        "  sgd = SGD(lr=0.001, momentum=0.9)\n",
        "  \n",
        "  model.compile(optimizer=sgd, loss='categorical_crossentropy', metrics=['accuracy'])\n",
        "  return model"
      ],
      "execution_count": 0,
      "outputs": []
    },
    {
      "cell_type": "code",
      "metadata": {
        "id": "CTAd2LU_dEO2",
        "colab_type": "code",
        "colab": {}
      },
      "source": [
        "from keras.callbacks import ReduceLROnPlateau\n",
        "red_lr = ReduceLROnPlateau('val_loss', patience=10, verbose=1, min_lr=0.0001)"
      ],
      "execution_count": 0,
      "outputs": []
    },
    {
      "cell_type": "code",
      "metadata": {
        "id": "GF_sSb3CnLM2",
        "colab_type": "code",
        "outputId": "bd626a40-194d-42ec-cc6c-8a91d3f7ecf0",
        "colab": {
          "base_uri": "https://localhost:8080/",
          "height": 34
        }
      },
      "source": [
        "one_hot_val_labels.shape"
      ],
      "execution_count": 54,
      "outputs": [
        {
          "output_type": "execute_result",
          "data": {
            "text/plain": [
              "(13, 3)"
            ]
          },
          "metadata": {
            "tags": []
          },
          "execution_count": 54
        }
      ]
    },
    {
      "cell_type": "code",
      "metadata": {
        "id": "35Hc4rG203_u",
        "colab_type": "code",
        "outputId": "44bfedfd-b9db-4233-a45d-5fe7c6f840b2",
        "colab": {
          "base_uri": "https://localhost:8080/",
          "height": 1000
        }
      },
      "source": [
        "num_epochs = 500\n",
        "\n",
        "model = build_model()\n",
        "history = model.fit(train_data_stand_lda, one_hot_train_labels, validation_data=(val_data_stand_lda, one_hot_val_labels), \n",
        "                      epochs= num_epochs, batch_size=105, callbacks=[red_lr])\n",
        "  \n",
        "\n",
        "acc_history = history.history['acc']\n",
        "loss_history = history.history['loss']\n",
        "acc_val_history = history.history['val_acc']\n",
        "loss_val_history = history.history['val_loss']\n"
      ],
      "execution_count": 55,
      "outputs": [
        {
          "output_type": "stream",
          "text": [
            "Train on 105 samples, validate on 13 samples\n",
            "Epoch 1/500\n",
            "105/105 [==============================] - 0s 2ms/step - loss: 1.3727 - acc: 0.9810 - val_loss: 1.4264 - val_acc: 0.3846\n",
            "Epoch 2/500\n",
            "105/105 [==============================] - 0s 24us/step - loss: 1.3723 - acc: 0.9810 - val_loss: 1.4260 - val_acc: 0.3846\n",
            "Epoch 3/500\n",
            "105/105 [==============================] - 0s 33us/step - loss: 1.3716 - acc: 0.9810 - val_loss: 1.4255 - val_acc: 0.3846\n",
            "Epoch 4/500\n",
            "105/105 [==============================] - 0s 28us/step - loss: 1.3707 - acc: 0.9810 - val_loss: 1.4249 - val_acc: 0.3846\n",
            "Epoch 5/500\n",
            "105/105 [==============================] - 0s 24us/step - loss: 1.3695 - acc: 0.9810 - val_loss: 1.4241 - val_acc: 0.3846\n",
            "Epoch 6/500\n",
            "105/105 [==============================] - 0s 24us/step - loss: 1.3680 - acc: 0.9810 - val_loss: 1.4233 - val_acc: 0.3846\n",
            "Epoch 7/500\n",
            "105/105 [==============================] - 0s 22us/step - loss: 1.3664 - acc: 0.9810 - val_loss: 1.4223 - val_acc: 0.3077\n",
            "Epoch 8/500\n",
            "105/105 [==============================] - 0s 24us/step - loss: 1.3645 - acc: 1.0000 - val_loss: 1.4213 - val_acc: 0.3077\n",
            "Epoch 9/500\n",
            "105/105 [==============================] - 0s 24us/step - loss: 1.3625 - acc: 1.0000 - val_loss: 1.4203 - val_acc: 0.3077\n",
            "Epoch 10/500\n",
            "105/105 [==============================] - 0s 24us/step - loss: 1.3604 - acc: 1.0000 - val_loss: 1.4191 - val_acc: 0.3077\n",
            "Epoch 11/500\n",
            "105/105 [==============================] - 0s 25us/step - loss: 1.3581 - acc: 1.0000 - val_loss: 1.4180 - val_acc: 0.3077\n",
            "Epoch 12/500\n",
            "105/105 [==============================] - 0s 25us/step - loss: 1.3558 - acc: 1.0000 - val_loss: 1.4168 - val_acc: 0.3077\n",
            "Epoch 13/500\n",
            "105/105 [==============================] - 0s 25us/step - loss: 1.3533 - acc: 1.0000 - val_loss: 1.4156 - val_acc: 0.3077\n",
            "Epoch 14/500\n",
            "105/105 [==============================] - 0s 26us/step - loss: 1.3507 - acc: 1.0000 - val_loss: 1.4144 - val_acc: 0.3077\n",
            "Epoch 15/500\n",
            "105/105 [==============================] - 0s 32us/step - loss: 1.3481 - acc: 1.0000 - val_loss: 1.4132 - val_acc: 0.3077\n",
            "Epoch 16/500\n",
            "105/105 [==============================] - 0s 31us/step - loss: 1.3454 - acc: 1.0000 - val_loss: 1.4120 - val_acc: 0.3077\n",
            "Epoch 17/500\n",
            "105/105 [==============================] - 0s 28us/step - loss: 1.3426 - acc: 1.0000 - val_loss: 1.4107 - val_acc: 0.3077\n",
            "Epoch 18/500\n",
            "105/105 [==============================] - 0s 19us/step - loss: 1.3398 - acc: 1.0000 - val_loss: 1.4094 - val_acc: 0.3077\n",
            "Epoch 19/500\n",
            "105/105 [==============================] - 0s 26us/step - loss: 1.3369 - acc: 1.0000 - val_loss: 1.4081 - val_acc: 0.3077\n",
            "Epoch 20/500\n",
            "105/105 [==============================] - 0s 18us/step - loss: 1.3340 - acc: 1.0000 - val_loss: 1.4067 - val_acc: 0.3077\n",
            "Epoch 21/500\n",
            "105/105 [==============================] - 0s 19us/step - loss: 1.3311 - acc: 1.0000 - val_loss: 1.4054 - val_acc: 0.3077\n",
            "Epoch 22/500\n",
            "105/105 [==============================] - 0s 23us/step - loss: 1.3281 - acc: 1.0000 - val_loss: 1.4041 - val_acc: 0.3077\n",
            "Epoch 23/500\n",
            "105/105 [==============================] - 0s 31us/step - loss: 1.3252 - acc: 1.0000 - val_loss: 1.4029 - val_acc: 0.3077\n",
            "Epoch 24/500\n",
            "105/105 [==============================] - 0s 29us/step - loss: 1.3222 - acc: 1.0000 - val_loss: 1.4016 - val_acc: 0.3077\n",
            "Epoch 25/500\n",
            "105/105 [==============================] - 0s 20us/step - loss: 1.3192 - acc: 1.0000 - val_loss: 1.4003 - val_acc: 0.3077\n",
            "Epoch 26/500\n",
            "105/105 [==============================] - 0s 19us/step - loss: 1.3161 - acc: 1.0000 - val_loss: 1.3987 - val_acc: 0.3077\n",
            "Epoch 27/500\n",
            "105/105 [==============================] - 0s 30us/step - loss: 1.3131 - acc: 1.0000 - val_loss: 1.3971 - val_acc: 0.3077\n",
            "Epoch 28/500\n",
            "105/105 [==============================] - 0s 27us/step - loss: 1.3101 - acc: 1.0000 - val_loss: 1.3955 - val_acc: 0.3077\n",
            "Epoch 29/500\n",
            "105/105 [==============================] - 0s 16us/step - loss: 1.3071 - acc: 1.0000 - val_loss: 1.3939 - val_acc: 0.3077\n",
            "Epoch 30/500\n",
            "105/105 [==============================] - 0s 23us/step - loss: 1.3040 - acc: 1.0000 - val_loss: 1.3925 - val_acc: 0.3077\n",
            "Epoch 31/500\n",
            "105/105 [==============================] - 0s 29us/step - loss: 1.3010 - acc: 1.0000 - val_loss: 1.3913 - val_acc: 0.3077\n",
            "Epoch 32/500\n",
            "105/105 [==============================] - 0s 19us/step - loss: 1.2980 - acc: 1.0000 - val_loss: 1.3900 - val_acc: 0.3077\n",
            "Epoch 33/500\n",
            "105/105 [==============================] - 0s 23us/step - loss: 1.2950 - acc: 1.0000 - val_loss: 1.3889 - val_acc: 0.3077\n",
            "Epoch 34/500\n",
            "105/105 [==============================] - 0s 17us/step - loss: 1.2919 - acc: 1.0000 - val_loss: 1.3877 - val_acc: 0.3077\n",
            "Epoch 35/500\n",
            "105/105 [==============================] - 0s 18us/step - loss: 1.2889 - acc: 1.0000 - val_loss: 1.3866 - val_acc: 0.3077\n",
            "Epoch 36/500\n",
            "105/105 [==============================] - 0s 19us/step - loss: 1.2859 - acc: 1.0000 - val_loss: 1.3855 - val_acc: 0.3077\n",
            "Epoch 37/500\n",
            "105/105 [==============================] - 0s 35us/step - loss: 1.2829 - acc: 1.0000 - val_loss: 1.3844 - val_acc: 0.2308\n",
            "Epoch 38/500\n",
            "105/105 [==============================] - 0s 24us/step - loss: 1.2799 - acc: 1.0000 - val_loss: 1.3834 - val_acc: 0.2308\n",
            "Epoch 39/500\n",
            "105/105 [==============================] - 0s 34us/step - loss: 1.2770 - acc: 1.0000 - val_loss: 1.3824 - val_acc: 0.2308\n",
            "Epoch 40/500\n",
            "105/105 [==============================] - 0s 32us/step - loss: 1.2740 - acc: 1.0000 - val_loss: 1.3814 - val_acc: 0.2308\n",
            "Epoch 41/500\n",
            "105/105 [==============================] - 0s 38us/step - loss: 1.2710 - acc: 1.0000 - val_loss: 1.3805 - val_acc: 0.2308\n",
            "Epoch 42/500\n",
            "105/105 [==============================] - 0s 33us/step - loss: 1.2681 - acc: 1.0000 - val_loss: 1.3796 - val_acc: 0.2308\n",
            "Epoch 43/500\n",
            "105/105 [==============================] - 0s 36us/step - loss: 1.2651 - acc: 1.0000 - val_loss: 1.3787 - val_acc: 0.2308\n",
            "Epoch 44/500\n",
            "105/105 [==============================] - 0s 30us/step - loss: 1.2622 - acc: 1.0000 - val_loss: 1.3780 - val_acc: 0.2308\n",
            "Epoch 45/500\n",
            "105/105 [==============================] - 0s 43us/step - loss: 1.2593 - acc: 1.0000 - val_loss: 1.3772 - val_acc: 0.2308\n",
            "Epoch 46/500\n",
            "105/105 [==============================] - 0s 30us/step - loss: 1.2564 - acc: 1.0000 - val_loss: 1.3765 - val_acc: 0.2308\n",
            "Epoch 47/500\n",
            "105/105 [==============================] - 0s 37us/step - loss: 1.2535 - acc: 1.0000 - val_loss: 1.3759 - val_acc: 0.2308\n",
            "Epoch 48/500\n",
            "105/105 [==============================] - 0s 36us/step - loss: 1.2506 - acc: 1.0000 - val_loss: 1.3752 - val_acc: 0.2308\n",
            "Epoch 49/500\n",
            "105/105 [==============================] - 0s 29us/step - loss: 1.2477 - acc: 1.0000 - val_loss: 1.3746 - val_acc: 0.2308\n",
            "Epoch 50/500\n",
            "105/105 [==============================] - 0s 107us/step - loss: 1.2449 - acc: 1.0000 - val_loss: 1.3740 - val_acc: 0.2308\n",
            "Epoch 51/500\n",
            "105/105 [==============================] - 0s 24us/step - loss: 1.2420 - acc: 1.0000 - val_loss: 1.3735 - val_acc: 0.2308\n",
            "Epoch 52/500\n",
            "105/105 [==============================] - 0s 30us/step - loss: 1.2392 - acc: 1.0000 - val_loss: 1.3730 - val_acc: 0.2308\n",
            "Epoch 53/500\n",
            "105/105 [==============================] - 0s 29us/step - loss: 1.2364 - acc: 1.0000 - val_loss: 1.3724 - val_acc: 0.2308\n",
            "Epoch 54/500\n",
            "105/105 [==============================] - 0s 27us/step - loss: 1.2336 - acc: 1.0000 - val_loss: 1.3720 - val_acc: 0.2308\n",
            "Epoch 55/500\n",
            "105/105 [==============================] - 0s 34us/step - loss: 1.2308 - acc: 1.0000 - val_loss: 1.3715 - val_acc: 0.3077\n",
            "Epoch 56/500\n",
            "105/105 [==============================] - 0s 25us/step - loss: 1.2280 - acc: 1.0000 - val_loss: 1.3711 - val_acc: 0.3077\n",
            "Epoch 57/500\n",
            "105/105 [==============================] - 0s 26us/step - loss: 1.2252 - acc: 1.0000 - val_loss: 1.3706 - val_acc: 0.3077\n",
            "Epoch 58/500\n",
            "105/105 [==============================] - 0s 38us/step - loss: 1.2224 - acc: 1.0000 - val_loss: 1.3702 - val_acc: 0.3846\n",
            "Epoch 59/500\n",
            "105/105 [==============================] - 0s 44us/step - loss: 1.2197 - acc: 1.0000 - val_loss: 1.3699 - val_acc: 0.3846\n",
            "Epoch 60/500\n",
            "105/105 [==============================] - 0s 44us/step - loss: 1.2170 - acc: 1.0000 - val_loss: 1.3695 - val_acc: 0.3846\n",
            "Epoch 61/500\n",
            "105/105 [==============================] - 0s 41us/step - loss: 1.2142 - acc: 1.0000 - val_loss: 1.3691 - val_acc: 0.3846\n",
            "Epoch 62/500\n",
            "105/105 [==============================] - 0s 47us/step - loss: 1.2115 - acc: 1.0000 - val_loss: 1.3688 - val_acc: 0.3846\n",
            "Epoch 63/500\n",
            "105/105 [==============================] - 0s 37us/step - loss: 1.2088 - acc: 1.0000 - val_loss: 1.3685 - val_acc: 0.3846\n",
            "Epoch 64/500\n",
            "105/105 [==============================] - 0s 40us/step - loss: 1.2061 - acc: 1.0000 - val_loss: 1.3682 - val_acc: 0.3077\n",
            "Epoch 65/500\n",
            "105/105 [==============================] - 0s 39us/step - loss: 1.2034 - acc: 1.0000 - val_loss: 1.3679 - val_acc: 0.3077\n",
            "Epoch 66/500\n",
            "105/105 [==============================] - 0s 40us/step - loss: 1.2008 - acc: 1.0000 - val_loss: 1.3677 - val_acc: 0.3077\n",
            "Epoch 67/500\n",
            "105/105 [==============================] - 0s 41us/step - loss: 1.1981 - acc: 1.0000 - val_loss: 1.3675 - val_acc: 0.3077\n",
            "Epoch 68/500\n",
            "105/105 [==============================] - 0s 38us/step - loss: 1.1955 - acc: 1.0000 - val_loss: 1.3672 - val_acc: 0.3077\n",
            "Epoch 69/500\n",
            "105/105 [==============================] - 0s 47us/step - loss: 1.1928 - acc: 1.0000 - val_loss: 1.3670 - val_acc: 0.3077\n",
            "Epoch 70/500\n",
            "105/105 [==============================] - 0s 44us/step - loss: 1.1902 - acc: 1.0000 - val_loss: 1.3668 - val_acc: 0.3077\n",
            "Epoch 71/500\n",
            "105/105 [==============================] - 0s 39us/step - loss: 1.1876 - acc: 1.0000 - val_loss: 1.3666 - val_acc: 0.3077\n",
            "Epoch 72/500\n",
            "105/105 [==============================] - 0s 31us/step - loss: 1.1849 - acc: 1.0000 - val_loss: 1.3663 - val_acc: 0.3077\n",
            "Epoch 73/500\n",
            "105/105 [==============================] - 0s 28us/step - loss: 1.1823 - acc: 1.0000 - val_loss: 1.3660 - val_acc: 0.3077\n",
            "Epoch 74/500\n",
            "105/105 [==============================] - 0s 25us/step - loss: 1.1797 - acc: 1.0000 - val_loss: 1.3657 - val_acc: 0.3077\n",
            "Epoch 75/500\n",
            "105/105 [==============================] - 0s 32us/step - loss: 1.1771 - acc: 1.0000 - val_loss: 1.3654 - val_acc: 0.3077\n",
            "Epoch 76/500\n",
            "105/105 [==============================] - 0s 45us/step - loss: 1.1746 - acc: 1.0000 - val_loss: 1.3652 - val_acc: 0.3077\n",
            "Epoch 77/500\n",
            "105/105 [==============================] - 0s 43us/step - loss: 1.1720 - acc: 1.0000 - val_loss: 1.3649 - val_acc: 0.3077\n",
            "Epoch 78/500\n",
            "105/105 [==============================] - 0s 99us/step - loss: 1.1694 - acc: 1.0000 - val_loss: 1.3647 - val_acc: 0.3077\n",
            "Epoch 79/500\n",
            "105/105 [==============================] - 0s 40us/step - loss: 1.1669 - acc: 1.0000 - val_loss: 1.3645 - val_acc: 0.3077\n",
            "Epoch 80/500\n",
            "105/105 [==============================] - 0s 45us/step - loss: 1.1643 - acc: 1.0000 - val_loss: 1.3644 - val_acc: 0.3077\n",
            "Epoch 81/500\n",
            "105/105 [==============================] - 0s 35us/step - loss: 1.1618 - acc: 1.0000 - val_loss: 1.3642 - val_acc: 0.3077\n",
            "Epoch 82/500\n",
            "105/105 [==============================] - 0s 44us/step - loss: 1.1593 - acc: 1.0000 - val_loss: 1.3641 - val_acc: 0.3077\n",
            "Epoch 83/500\n",
            "105/105 [==============================] - 0s 40us/step - loss: 1.1568 - acc: 1.0000 - val_loss: 1.3642 - val_acc: 0.3077\n",
            "Epoch 84/500\n",
            "105/105 [==============================] - 0s 38us/step - loss: 1.1542 - acc: 1.0000 - val_loss: 1.3644 - val_acc: 0.3077\n",
            "Epoch 85/500\n",
            "105/105 [==============================] - 0s 39us/step - loss: 1.1517 - acc: 1.0000 - val_loss: 1.3646 - val_acc: 0.3077\n",
            "Epoch 86/500\n",
            "105/105 [==============================] - 0s 39us/step - loss: 1.1492 - acc: 1.0000 - val_loss: 1.3648 - val_acc: 0.3077\n",
            "Epoch 87/500\n",
            "105/105 [==============================] - 0s 34us/step - loss: 1.1468 - acc: 1.0000 - val_loss: 1.3651 - val_acc: 0.3077\n",
            "Epoch 88/500\n",
            "105/105 [==============================] - 0s 31us/step - loss: 1.1443 - acc: 1.0000 - val_loss: 1.3653 - val_acc: 0.3077\n",
            "Epoch 89/500\n",
            "105/105 [==============================] - 0s 33us/step - loss: 1.1418 - acc: 1.0000 - val_loss: 1.3656 - val_acc: 0.3077\n",
            "Epoch 90/500\n",
            "105/105 [==============================] - 0s 32us/step - loss: 1.1393 - acc: 1.0000 - val_loss: 1.3659 - val_acc: 0.3077\n",
            "Epoch 91/500\n",
            "105/105 [==============================] - 0s 37us/step - loss: 1.1369 - acc: 1.0000 - val_loss: 1.3663 - val_acc: 0.3077\n",
            "Epoch 92/500\n",
            "105/105 [==============================] - 0s 37us/step - loss: 1.1344 - acc: 1.0000 - val_loss: 1.3666 - val_acc: 0.3846\n",
            "\n",
            "Epoch 00092: ReduceLROnPlateau reducing learning rate to 0.00010000000474974513.\n",
            "Epoch 93/500\n",
            "105/105 [==============================] - 0s 45us/step - loss: 1.1320 - acc: 1.0000 - val_loss: 1.3670 - val_acc: 0.3846\n",
            "Epoch 94/500\n",
            "105/105 [==============================] - 0s 22us/step - loss: 1.1298 - acc: 1.0000 - val_loss: 1.3673 - val_acc: 0.3846\n",
            "Epoch 95/500\n",
            "105/105 [==============================] - 0s 40us/step - loss: 1.1278 - acc: 1.0000 - val_loss: 1.3676 - val_acc: 0.3846\n",
            "Epoch 96/500\n",
            "105/105 [==============================] - 0s 36us/step - loss: 1.1259 - acc: 1.0000 - val_loss: 1.3679 - val_acc: 0.3846\n",
            "Epoch 97/500\n",
            "105/105 [==============================] - 0s 35us/step - loss: 1.1242 - acc: 1.0000 - val_loss: 1.3681 - val_acc: 0.3846\n",
            "Epoch 98/500\n",
            "105/105 [==============================] - 0s 36us/step - loss: 1.1227 - acc: 1.0000 - val_loss: 1.3684 - val_acc: 0.3846\n",
            "Epoch 99/500\n",
            "105/105 [==============================] - 0s 28us/step - loss: 1.1213 - acc: 1.0000 - val_loss: 1.3686 - val_acc: 0.3846\n",
            "Epoch 100/500\n",
            "105/105 [==============================] - 0s 44us/step - loss: 1.1200 - acc: 1.0000 - val_loss: 1.3688 - val_acc: 0.3846\n",
            "Epoch 101/500\n",
            "105/105 [==============================] - 0s 42us/step - loss: 1.1188 - acc: 1.0000 - val_loss: 1.3691 - val_acc: 0.3846\n",
            "Epoch 102/500\n",
            "105/105 [==============================] - 0s 45us/step - loss: 1.1177 - acc: 1.0000 - val_loss: 1.3693 - val_acc: 0.3846\n",
            "\n",
            "Epoch 00102: ReduceLROnPlateau reducing learning rate to 0.0001.\n",
            "Epoch 103/500\n",
            "105/105 [==============================] - 0s 34us/step - loss: 1.1167 - acc: 1.0000 - val_loss: 1.3695 - val_acc: 0.3846\n",
            "Epoch 104/500\n",
            "105/105 [==============================] - 0s 35us/step - loss: 1.1158 - acc: 1.0000 - val_loss: 1.3696 - val_acc: 0.3846\n",
            "Epoch 105/500\n",
            "105/105 [==============================] - 0s 44us/step - loss: 1.1150 - acc: 1.0000 - val_loss: 1.3698 - val_acc: 0.3846\n",
            "Epoch 106/500\n",
            "105/105 [==============================] - 0s 43us/step - loss: 1.1142 - acc: 1.0000 - val_loss: 1.3700 - val_acc: 0.3846\n",
            "Epoch 107/500\n",
            "105/105 [==============================] - 0s 48us/step - loss: 1.1134 - acc: 1.0000 - val_loss: 1.3701 - val_acc: 0.3846\n",
            "Epoch 108/500\n",
            "105/105 [==============================] - 0s 39us/step - loss: 1.1127 - acc: 1.0000 - val_loss: 1.3703 - val_acc: 0.3846\n",
            "Epoch 109/500\n",
            "105/105 [==============================] - 0s 43us/step - loss: 1.1121 - acc: 1.0000 - val_loss: 1.3704 - val_acc: 0.3846\n",
            "Epoch 110/500\n",
            "105/105 [==============================] - 0s 37us/step - loss: 1.1115 - acc: 1.0000 - val_loss: 1.3705 - val_acc: 0.3846\n",
            "Epoch 111/500\n",
            "105/105 [==============================] - 0s 37us/step - loss: 1.1109 - acc: 1.0000 - val_loss: 1.3707 - val_acc: 0.3846\n",
            "Epoch 112/500\n",
            "105/105 [==============================] - 0s 43us/step - loss: 1.1104 - acc: 1.0000 - val_loss: 1.3708 - val_acc: 0.3846\n",
            "Epoch 113/500\n",
            "105/105 [==============================] - 0s 40us/step - loss: 1.1099 - acc: 1.0000 - val_loss: 1.3709 - val_acc: 0.3846\n",
            "Epoch 114/500\n",
            "105/105 [==============================] - 0s 32us/step - loss: 1.1094 - acc: 1.0000 - val_loss: 1.3710 - val_acc: 0.3846\n",
            "Epoch 115/500\n",
            "105/105 [==============================] - 0s 31us/step - loss: 1.1090 - acc: 1.0000 - val_loss: 1.3711 - val_acc: 0.3846\n",
            "Epoch 116/500\n",
            "105/105 [==============================] - 0s 25us/step - loss: 1.1085 - acc: 1.0000 - val_loss: 1.3712 - val_acc: 0.3846\n",
            "Epoch 117/500\n",
            "105/105 [==============================] - 0s 31us/step - loss: 1.1081 - acc: 1.0000 - val_loss: 1.3713 - val_acc: 0.3846\n",
            "Epoch 118/500\n",
            "105/105 [==============================] - 0s 32us/step - loss: 1.1077 - acc: 1.0000 - val_loss: 1.3714 - val_acc: 0.3846\n",
            "Epoch 119/500\n",
            "105/105 [==============================] - 0s 32us/step - loss: 1.1074 - acc: 1.0000 - val_loss: 1.3715 - val_acc: 0.3846\n",
            "Epoch 120/500\n",
            "105/105 [==============================] - 0s 32us/step - loss: 1.1070 - acc: 1.0000 - val_loss: 1.3716 - val_acc: 0.3846\n",
            "Epoch 121/500\n",
            "105/105 [==============================] - 0s 35us/step - loss: 1.1066 - acc: 1.0000 - val_loss: 1.3717 - val_acc: 0.3846\n",
            "Epoch 122/500\n",
            "105/105 [==============================] - 0s 33us/step - loss: 1.1063 - acc: 1.0000 - val_loss: 1.3718 - val_acc: 0.3846\n",
            "Epoch 123/500\n",
            "105/105 [==============================] - 0s 33us/step - loss: 1.1060 - acc: 1.0000 - val_loss: 1.3719 - val_acc: 0.3846\n",
            "Epoch 124/500\n",
            "105/105 [==============================] - 0s 46us/step - loss: 1.1057 - acc: 1.0000 - val_loss: 1.3719 - val_acc: 0.3846\n",
            "Epoch 125/500\n",
            "105/105 [==============================] - 0s 25us/step - loss: 1.1054 - acc: 1.0000 - val_loss: 1.3720 - val_acc: 0.3846\n",
            "Epoch 126/500\n",
            "105/105 [==============================] - 0s 31us/step - loss: 1.1050 - acc: 1.0000 - val_loss: 1.3721 - val_acc: 0.3846\n",
            "Epoch 127/500\n",
            "105/105 [==============================] - 0s 44us/step - loss: 1.1047 - acc: 1.0000 - val_loss: 1.3722 - val_acc: 0.3846\n",
            "Epoch 128/500\n",
            "105/105 [==============================] - 0s 42us/step - loss: 1.1045 - acc: 1.0000 - val_loss: 1.3723 - val_acc: 0.3846\n",
            "Epoch 129/500\n",
            "105/105 [==============================] - 0s 27us/step - loss: 1.1042 - acc: 1.0000 - val_loss: 1.3723 - val_acc: 0.3846\n",
            "Epoch 130/500\n",
            "105/105 [==============================] - 0s 34us/step - loss: 1.1039 - acc: 1.0000 - val_loss: 1.3724 - val_acc: 0.3846\n",
            "Epoch 131/500\n",
            "105/105 [==============================] - 0s 32us/step - loss: 1.1036 - acc: 1.0000 - val_loss: 1.3725 - val_acc: 0.3846\n",
            "Epoch 132/500\n",
            "105/105 [==============================] - 0s 25us/step - loss: 1.1033 - acc: 1.0000 - val_loss: 1.3726 - val_acc: 0.3846\n",
            "Epoch 133/500\n",
            "105/105 [==============================] - 0s 32us/step - loss: 1.1031 - acc: 1.0000 - val_loss: 1.3726 - val_acc: 0.3846\n",
            "Epoch 134/500\n",
            "105/105 [==============================] - 0s 34us/step - loss: 1.1028 - acc: 1.0000 - val_loss: 1.3727 - val_acc: 0.3846\n",
            "Epoch 135/500\n",
            "105/105 [==============================] - 0s 39us/step - loss: 1.1025 - acc: 1.0000 - val_loss: 1.3728 - val_acc: 0.3846\n",
            "Epoch 136/500\n",
            "105/105 [==============================] - 0s 38us/step - loss: 1.1023 - acc: 1.0000 - val_loss: 1.3728 - val_acc: 0.3846\n",
            "Epoch 137/500\n",
            "105/105 [==============================] - 0s 37us/step - loss: 1.1020 - acc: 1.0000 - val_loss: 1.3729 - val_acc: 0.3846\n",
            "Epoch 138/500\n",
            "105/105 [==============================] - 0s 37us/step - loss: 1.1018 - acc: 1.0000 - val_loss: 1.3730 - val_acc: 0.3846\n",
            "Epoch 139/500\n",
            "105/105 [==============================] - 0s 44us/step - loss: 1.1015 - acc: 1.0000 - val_loss: 1.3730 - val_acc: 0.3846\n",
            "Epoch 140/500\n",
            "105/105 [==============================] - 0s 49us/step - loss: 1.1013 - acc: 1.0000 - val_loss: 1.3731 - val_acc: 0.3846\n",
            "Epoch 141/500\n",
            "105/105 [==============================] - 0s 50us/step - loss: 1.1010 - acc: 1.0000 - val_loss: 1.3732 - val_acc: 0.3846\n",
            "Epoch 142/500\n",
            "105/105 [==============================] - 0s 40us/step - loss: 1.1008 - acc: 1.0000 - val_loss: 1.3732 - val_acc: 0.3846\n",
            "Epoch 143/500\n",
            "105/105 [==============================] - 0s 40us/step - loss: 1.1005 - acc: 1.0000 - val_loss: 1.3733 - val_acc: 0.3846\n",
            "Epoch 144/500\n",
            "105/105 [==============================] - 0s 39us/step - loss: 1.1003 - acc: 1.0000 - val_loss: 1.3734 - val_acc: 0.3846\n",
            "Epoch 145/500\n",
            "105/105 [==============================] - 0s 47us/step - loss: 1.1000 - acc: 1.0000 - val_loss: 1.3734 - val_acc: 0.3846\n",
            "Epoch 146/500\n",
            "105/105 [==============================] - 0s 45us/step - loss: 1.0998 - acc: 1.0000 - val_loss: 1.3735 - val_acc: 0.3846\n",
            "Epoch 147/500\n",
            "105/105 [==============================] - 0s 50us/step - loss: 1.0995 - acc: 1.0000 - val_loss: 1.3736 - val_acc: 0.3846\n",
            "Epoch 148/500\n",
            "105/105 [==============================] - 0s 39us/step - loss: 1.0993 - acc: 1.0000 - val_loss: 1.3736 - val_acc: 0.3846\n",
            "Epoch 149/500\n",
            "105/105 [==============================] - 0s 48us/step - loss: 1.0991 - acc: 1.0000 - val_loss: 1.3737 - val_acc: 0.3846\n",
            "Epoch 150/500\n",
            "105/105 [==============================] - 0s 38us/step - loss: 1.0988 - acc: 1.0000 - val_loss: 1.3738 - val_acc: 0.3846\n",
            "Epoch 151/500\n",
            "105/105 [==============================] - 0s 28us/step - loss: 1.0986 - acc: 1.0000 - val_loss: 1.3739 - val_acc: 0.3846\n",
            "Epoch 152/500\n",
            "105/105 [==============================] - 0s 54us/step - loss: 1.0983 - acc: 1.0000 - val_loss: 1.3740 - val_acc: 0.3846\n",
            "Epoch 153/500\n",
            "105/105 [==============================] - 0s 42us/step - loss: 1.0981 - acc: 1.0000 - val_loss: 1.3741 - val_acc: 0.3846\n",
            "Epoch 154/500\n",
            "105/105 [==============================] - 0s 60us/step - loss: 1.0979 - acc: 1.0000 - val_loss: 1.3742 - val_acc: 0.3846\n",
            "Epoch 155/500\n",
            "105/105 [==============================] - 0s 49us/step - loss: 1.0976 - acc: 1.0000 - val_loss: 1.3743 - val_acc: 0.3846\n",
            "Epoch 156/500\n",
            "105/105 [==============================] - 0s 53us/step - loss: 1.0974 - acc: 1.0000 - val_loss: 1.3743 - val_acc: 0.3846\n",
            "Epoch 157/500\n",
            "105/105 [==============================] - 0s 48us/step - loss: 1.0971 - acc: 1.0000 - val_loss: 1.3744 - val_acc: 0.3846\n",
            "Epoch 158/500\n",
            "105/105 [==============================] - 0s 56us/step - loss: 1.0969 - acc: 1.0000 - val_loss: 1.3745 - val_acc: 0.3846\n",
            "Epoch 159/500\n",
            "105/105 [==============================] - 0s 47us/step - loss: 1.0967 - acc: 1.0000 - val_loss: 1.3746 - val_acc: 0.3846\n",
            "Epoch 160/500\n",
            "105/105 [==============================] - 0s 40us/step - loss: 1.0964 - acc: 1.0000 - val_loss: 1.3747 - val_acc: 0.3846\n",
            "Epoch 161/500\n",
            "105/105 [==============================] - 0s 37us/step - loss: 1.0962 - acc: 1.0000 - val_loss: 1.3748 - val_acc: 0.3846\n",
            "Epoch 162/500\n",
            "105/105 [==============================] - 0s 37us/step - loss: 1.0960 - acc: 1.0000 - val_loss: 1.3749 - val_acc: 0.3846\n",
            "Epoch 163/500\n",
            "105/105 [==============================] - 0s 51us/step - loss: 1.0957 - acc: 1.0000 - val_loss: 1.3750 - val_acc: 0.3846\n",
            "Epoch 164/500\n",
            "105/105 [==============================] - 0s 52us/step - loss: 1.0955 - acc: 1.0000 - val_loss: 1.3751 - val_acc: 0.3846\n",
            "Epoch 165/500\n",
            "105/105 [==============================] - 0s 49us/step - loss: 1.0953 - acc: 1.0000 - val_loss: 1.3751 - val_acc: 0.3846\n",
            "Epoch 166/500\n",
            "105/105 [==============================] - 0s 55us/step - loss: 1.0950 - acc: 1.0000 - val_loss: 1.3752 - val_acc: 0.3846\n",
            "Epoch 167/500\n",
            "105/105 [==============================] - 0s 66us/step - loss: 1.0948 - acc: 1.0000 - val_loss: 1.3753 - val_acc: 0.3846\n",
            "Epoch 168/500\n",
            "105/105 [==============================] - 0s 59us/step - loss: 1.0945 - acc: 1.0000 - val_loss: 1.3754 - val_acc: 0.3846\n",
            "Epoch 169/500\n",
            "105/105 [==============================] - 0s 32us/step - loss: 1.0943 - acc: 1.0000 - val_loss: 1.3755 - val_acc: 0.3846\n",
            "Epoch 170/500\n",
            "105/105 [==============================] - 0s 74us/step - loss: 1.0941 - acc: 1.0000 - val_loss: 1.3756 - val_acc: 0.3846\n",
            "Epoch 171/500\n",
            "105/105 [==============================] - 0s 43us/step - loss: 1.0938 - acc: 1.0000 - val_loss: 1.3757 - val_acc: 0.3846\n",
            "Epoch 172/500\n",
            "105/105 [==============================] - 0s 51us/step - loss: 1.0936 - acc: 1.0000 - val_loss: 1.3758 - val_acc: 0.3846\n",
            "Epoch 173/500\n",
            "105/105 [==============================] - 0s 35us/step - loss: 1.0934 - acc: 1.0000 - val_loss: 1.3759 - val_acc: 0.3846\n",
            "Epoch 174/500\n",
            "105/105 [==============================] - 0s 28us/step - loss: 1.0931 - acc: 1.0000 - val_loss: 1.3760 - val_acc: 0.3846\n",
            "Epoch 175/500\n",
            "105/105 [==============================] - 0s 24us/step - loss: 1.0929 - acc: 1.0000 - val_loss: 1.3761 - val_acc: 0.3846\n",
            "Epoch 176/500\n",
            "105/105 [==============================] - 0s 43us/step - loss: 1.0927 - acc: 1.0000 - val_loss: 1.3761 - val_acc: 0.3846\n",
            "Epoch 177/500\n",
            "105/105 [==============================] - 0s 45us/step - loss: 1.0924 - acc: 1.0000 - val_loss: 1.3762 - val_acc: 0.3846\n",
            "Epoch 178/500\n",
            "105/105 [==============================] - 0s 36us/step - loss: 1.0922 - acc: 1.0000 - val_loss: 1.3763 - val_acc: 0.3846\n",
            "Epoch 179/500\n",
            "105/105 [==============================] - 0s 41us/step - loss: 1.0920 - acc: 1.0000 - val_loss: 1.3764 - val_acc: 0.3846\n",
            "Epoch 180/500\n",
            "105/105 [==============================] - 0s 91us/step - loss: 1.0917 - acc: 1.0000 - val_loss: 1.3765 - val_acc: 0.3846\n",
            "Epoch 181/500\n",
            "105/105 [==============================] - 0s 45us/step - loss: 1.0915 - acc: 1.0000 - val_loss: 1.3766 - val_acc: 0.3846\n",
            "Epoch 182/500\n",
            "105/105 [==============================] - 0s 48us/step - loss: 1.0912 - acc: 1.0000 - val_loss: 1.3767 - val_acc: 0.3846\n",
            "Epoch 183/500\n",
            "105/105 [==============================] - 0s 41us/step - loss: 1.0910 - acc: 1.0000 - val_loss: 1.3768 - val_acc: 0.3846\n",
            "Epoch 184/500\n",
            "105/105 [==============================] - 0s 42us/step - loss: 1.0908 - acc: 1.0000 - val_loss: 1.3769 - val_acc: 0.3846\n",
            "Epoch 185/500\n",
            "105/105 [==============================] - 0s 26us/step - loss: 1.0905 - acc: 1.0000 - val_loss: 1.3770 - val_acc: 0.3846\n",
            "Epoch 186/500\n",
            "105/105 [==============================] - 0s 35us/step - loss: 1.0903 - acc: 1.0000 - val_loss: 1.3771 - val_acc: 0.3846\n",
            "Epoch 187/500\n",
            "105/105 [==============================] - 0s 45us/step - loss: 1.0901 - acc: 1.0000 - val_loss: 1.3772 - val_acc: 0.3846\n",
            "Epoch 188/500\n",
            "105/105 [==============================] - 0s 39us/step - loss: 1.0898 - acc: 1.0000 - val_loss: 1.3773 - val_acc: 0.3846\n",
            "Epoch 189/500\n",
            "105/105 [==============================] - 0s 40us/step - loss: 1.0896 - acc: 1.0000 - val_loss: 1.3774 - val_acc: 0.3846\n",
            "Epoch 190/500\n",
            "105/105 [==============================] - 0s 32us/step - loss: 1.0894 - acc: 1.0000 - val_loss: 1.3774 - val_acc: 0.3846\n",
            "Epoch 191/500\n",
            "105/105 [==============================] - 0s 31us/step - loss: 1.0891 - acc: 1.0000 - val_loss: 1.3775 - val_acc: 0.3846\n",
            "Epoch 192/500\n",
            "105/105 [==============================] - 0s 29us/step - loss: 1.0889 - acc: 1.0000 - val_loss: 1.3776 - val_acc: 0.3846\n",
            "Epoch 193/500\n",
            "105/105 [==============================] - 0s 39us/step - loss: 1.0887 - acc: 1.0000 - val_loss: 1.3777 - val_acc: 0.3846\n",
            "Epoch 194/500\n",
            "105/105 [==============================] - 0s 38us/step - loss: 1.0884 - acc: 1.0000 - val_loss: 1.3778 - val_acc: 0.3846\n",
            "Epoch 195/500\n",
            "105/105 [==============================] - 0s 26us/step - loss: 1.0882 - acc: 1.0000 - val_loss: 1.3779 - val_acc: 0.3846\n",
            "Epoch 196/500\n",
            "105/105 [==============================] - 0s 36us/step - loss: 1.0880 - acc: 1.0000 - val_loss: 1.3780 - val_acc: 0.3846\n",
            "Epoch 197/500\n",
            "105/105 [==============================] - 0s 39us/step - loss: 1.0877 - acc: 1.0000 - val_loss: 1.3781 - val_acc: 0.3846\n",
            "Epoch 198/500\n",
            "105/105 [==============================] - 0s 34us/step - loss: 1.0875 - acc: 1.0000 - val_loss: 1.3782 - val_acc: 0.3846\n",
            "Epoch 199/500\n",
            "105/105 [==============================] - 0s 28us/step - loss: 1.0873 - acc: 1.0000 - val_loss: 1.3783 - val_acc: 0.3846\n",
            "Epoch 200/500\n",
            "105/105 [==============================] - 0s 26us/step - loss: 1.0870 - acc: 1.0000 - val_loss: 1.3784 - val_acc: 0.3846\n",
            "Epoch 201/500\n",
            "105/105 [==============================] - 0s 28us/step - loss: 1.0868 - acc: 1.0000 - val_loss: 1.3785 - val_acc: 0.3846\n",
            "Epoch 202/500\n",
            "105/105 [==============================] - 0s 32us/step - loss: 1.0866 - acc: 1.0000 - val_loss: 1.3786 - val_acc: 0.3846\n",
            "Epoch 203/500\n",
            "105/105 [==============================] - 0s 36us/step - loss: 1.0863 - acc: 1.0000 - val_loss: 1.3787 - val_acc: 0.3846\n",
            "Epoch 204/500\n",
            "105/105 [==============================] - 0s 36us/step - loss: 1.0861 - acc: 1.0000 - val_loss: 1.3788 - val_acc: 0.3846\n",
            "Epoch 205/500\n",
            "105/105 [==============================] - 0s 36us/step - loss: 1.0859 - acc: 1.0000 - val_loss: 1.3789 - val_acc: 0.3846\n",
            "Epoch 206/500\n",
            "105/105 [==============================] - 0s 36us/step - loss: 1.0856 - acc: 1.0000 - val_loss: 1.3790 - val_acc: 0.3846\n",
            "Epoch 207/500\n",
            "105/105 [==============================] - 0s 28us/step - loss: 1.0854 - acc: 1.0000 - val_loss: 1.3791 - val_acc: 0.3846\n",
            "Epoch 208/500\n",
            "105/105 [==============================] - 0s 30us/step - loss: 1.0852 - acc: 1.0000 - val_loss: 1.3792 - val_acc: 0.3846\n",
            "Epoch 209/500\n",
            "105/105 [==============================] - 0s 30us/step - loss: 1.0849 - acc: 1.0000 - val_loss: 1.3793 - val_acc: 0.3846\n",
            "Epoch 210/500\n",
            "105/105 [==============================] - 0s 40us/step - loss: 1.0847 - acc: 1.0000 - val_loss: 1.3794 - val_acc: 0.3846\n",
            "Epoch 211/500\n",
            "105/105 [==============================] - 0s 36us/step - loss: 1.0845 - acc: 1.0000 - val_loss: 1.3795 - val_acc: 0.3846\n",
            "Epoch 212/500\n",
            "105/105 [==============================] - 0s 34us/step - loss: 1.0842 - acc: 1.0000 - val_loss: 1.3796 - val_acc: 0.3846\n",
            "Epoch 213/500\n",
            "105/105 [==============================] - 0s 29us/step - loss: 1.0840 - acc: 1.0000 - val_loss: 1.3797 - val_acc: 0.3846\n",
            "Epoch 214/500\n",
            "105/105 [==============================] - 0s 37us/step - loss: 1.0838 - acc: 1.0000 - val_loss: 1.3798 - val_acc: 0.3846\n",
            "Epoch 215/500\n",
            "105/105 [==============================] - 0s 37us/step - loss: 1.0835 - acc: 1.0000 - val_loss: 1.3799 - val_acc: 0.3846\n",
            "Epoch 216/500\n",
            "105/105 [==============================] - 0s 39us/step - loss: 1.0833 - acc: 1.0000 - val_loss: 1.3800 - val_acc: 0.3846\n",
            "Epoch 217/500\n",
            "105/105 [==============================] - 0s 42us/step - loss: 1.0831 - acc: 1.0000 - val_loss: 1.3801 - val_acc: 0.3846\n",
            "Epoch 218/500\n",
            "105/105 [==============================] - 0s 33us/step - loss: 1.0828 - acc: 1.0000 - val_loss: 1.3802 - val_acc: 0.3846\n",
            "Epoch 219/500\n",
            "105/105 [==============================] - 0s 39us/step - loss: 1.0826 - acc: 1.0000 - val_loss: 1.3803 - val_acc: 0.3846\n",
            "Epoch 220/500\n",
            "105/105 [==============================] - 0s 37us/step - loss: 1.0824 - acc: 1.0000 - val_loss: 1.3804 - val_acc: 0.3846\n",
            "Epoch 221/500\n",
            "105/105 [==============================] - 0s 29us/step - loss: 1.0821 - acc: 1.0000 - val_loss: 1.3805 - val_acc: 0.3846\n",
            "Epoch 222/500\n",
            "105/105 [==============================] - 0s 26us/step - loss: 1.0819 - acc: 1.0000 - val_loss: 1.3806 - val_acc: 0.3846\n",
            "Epoch 223/500\n",
            "105/105 [==============================] - 0s 41us/step - loss: 1.0816 - acc: 1.0000 - val_loss: 1.3807 - val_acc: 0.3846\n",
            "Epoch 224/500\n",
            "105/105 [==============================] - 0s 37us/step - loss: 1.0814 - acc: 1.0000 - val_loss: 1.3808 - val_acc: 0.3846\n",
            "Epoch 225/500\n",
            "105/105 [==============================] - 0s 31us/step - loss: 1.0812 - acc: 1.0000 - val_loss: 1.3809 - val_acc: 0.3846\n",
            "Epoch 226/500\n",
            "105/105 [==============================] - 0s 32us/step - loss: 1.0809 - acc: 1.0000 - val_loss: 1.3810 - val_acc: 0.3846\n",
            "Epoch 227/500\n",
            "105/105 [==============================] - 0s 39us/step - loss: 1.0807 - acc: 1.0000 - val_loss: 1.3811 - val_acc: 0.3846\n",
            "Epoch 228/500\n",
            "105/105 [==============================] - 0s 36us/step - loss: 1.0805 - acc: 1.0000 - val_loss: 1.3812 - val_acc: 0.3846\n",
            "Epoch 229/500\n",
            "105/105 [==============================] - 0s 33us/step - loss: 1.0802 - acc: 1.0000 - val_loss: 1.3813 - val_acc: 0.3846\n",
            "Epoch 230/500\n",
            "105/105 [==============================] - 0s 29us/step - loss: 1.0800 - acc: 1.0000 - val_loss: 1.3814 - val_acc: 0.3846\n",
            "Epoch 231/500\n",
            "105/105 [==============================] - 0s 35us/step - loss: 1.0798 - acc: 1.0000 - val_loss: 1.3815 - val_acc: 0.3846\n",
            "Epoch 232/500\n",
            "105/105 [==============================] - 0s 30us/step - loss: 1.0795 - acc: 1.0000 - val_loss: 1.3816 - val_acc: 0.3846\n",
            "Epoch 233/500\n",
            "105/105 [==============================] - 0s 36us/step - loss: 1.0793 - acc: 1.0000 - val_loss: 1.3817 - val_acc: 0.3846\n",
            "Epoch 234/500\n",
            "105/105 [==============================] - 0s 44us/step - loss: 1.0791 - acc: 1.0000 - val_loss: 1.3818 - val_acc: 0.3846\n",
            "Epoch 235/500\n",
            "105/105 [==============================] - 0s 38us/step - loss: 1.0788 - acc: 1.0000 - val_loss: 1.3819 - val_acc: 0.3846\n",
            "Epoch 236/500\n",
            "105/105 [==============================] - 0s 40us/step - loss: 1.0786 - acc: 1.0000 - val_loss: 1.3820 - val_acc: 0.3846\n",
            "Epoch 237/500\n",
            "105/105 [==============================] - 0s 55us/step - loss: 1.0784 - acc: 1.0000 - val_loss: 1.3821 - val_acc: 0.3846\n",
            "Epoch 238/500\n",
            "105/105 [==============================] - 0s 54us/step - loss: 1.0781 - acc: 1.0000 - val_loss: 1.3822 - val_acc: 0.3846\n",
            "Epoch 239/500\n",
            "105/105 [==============================] - 0s 45us/step - loss: 1.0779 - acc: 1.0000 - val_loss: 1.3823 - val_acc: 0.3846\n",
            "Epoch 240/500\n",
            "105/105 [==============================] - 0s 39us/step - loss: 1.0777 - acc: 1.0000 - val_loss: 1.3824 - val_acc: 0.3846\n",
            "Epoch 241/500\n",
            "105/105 [==============================] - 0s 40us/step - loss: 1.0774 - acc: 1.0000 - val_loss: 1.3825 - val_acc: 0.3846\n",
            "Epoch 242/500\n",
            "105/105 [==============================] - 0s 40us/step - loss: 1.0772 - acc: 1.0000 - val_loss: 1.3826 - val_acc: 0.3846\n",
            "Epoch 243/500\n",
            "105/105 [==============================] - 0s 47us/step - loss: 1.0770 - acc: 1.0000 - val_loss: 1.3827 - val_acc: 0.3846\n",
            "Epoch 244/500\n",
            "105/105 [==============================] - 0s 43us/step - loss: 1.0767 - acc: 1.0000 - val_loss: 1.3828 - val_acc: 0.3846\n",
            "Epoch 245/500\n",
            "105/105 [==============================] - 0s 51us/step - loss: 1.0765 - acc: 1.0000 - val_loss: 1.3829 - val_acc: 0.3846\n",
            "Epoch 246/500\n",
            "105/105 [==============================] - 0s 35us/step - loss: 1.0763 - acc: 1.0000 - val_loss: 1.3830 - val_acc: 0.3846\n",
            "Epoch 247/500\n",
            "105/105 [==============================] - 0s 44us/step - loss: 1.0760 - acc: 1.0000 - val_loss: 1.3832 - val_acc: 0.3846\n",
            "Epoch 248/500\n",
            "105/105 [==============================] - 0s 38us/step - loss: 1.0758 - acc: 1.0000 - val_loss: 1.3833 - val_acc: 0.3846\n",
            "Epoch 249/500\n",
            "105/105 [==============================] - 0s 43us/step - loss: 1.0756 - acc: 1.0000 - val_loss: 1.3834 - val_acc: 0.3846\n",
            "Epoch 250/500\n",
            "105/105 [==============================] - 0s 38us/step - loss: 1.0753 - acc: 1.0000 - val_loss: 1.3835 - val_acc: 0.3846\n",
            "Epoch 251/500\n",
            "105/105 [==============================] - 0s 51us/step - loss: 1.0751 - acc: 1.0000 - val_loss: 1.3836 - val_acc: 0.3846\n",
            "Epoch 252/500\n",
            "105/105 [==============================] - 0s 39us/step - loss: 1.0749 - acc: 1.0000 - val_loss: 1.3837 - val_acc: 0.3846\n",
            "Epoch 253/500\n",
            "105/105 [==============================] - 0s 43us/step - loss: 1.0746 - acc: 1.0000 - val_loss: 1.3838 - val_acc: 0.3846\n",
            "Epoch 254/500\n",
            "105/105 [==============================] - 0s 34us/step - loss: 1.0744 - acc: 1.0000 - val_loss: 1.3839 - val_acc: 0.3846\n",
            "Epoch 255/500\n",
            "105/105 [==============================] - 0s 30us/step - loss: 1.0742 - acc: 1.0000 - val_loss: 1.3840 - val_acc: 0.3846\n",
            "Epoch 256/500\n",
            "105/105 [==============================] - 0s 34us/step - loss: 1.0739 - acc: 1.0000 - val_loss: 1.3841 - val_acc: 0.3846\n",
            "Epoch 257/500\n",
            "105/105 [==============================] - 0s 38us/step - loss: 1.0737 - acc: 1.0000 - val_loss: 1.3842 - val_acc: 0.3846\n",
            "Epoch 258/500\n",
            "105/105 [==============================] - 0s 41us/step - loss: 1.0735 - acc: 1.0000 - val_loss: 1.3843 - val_acc: 0.3846\n",
            "Epoch 259/500\n",
            "105/105 [==============================] - 0s 43us/step - loss: 1.0732 - acc: 1.0000 - val_loss: 1.3844 - val_acc: 0.3846\n",
            "Epoch 260/500\n",
            "105/105 [==============================] - 0s 42us/step - loss: 1.0730 - acc: 1.0000 - val_loss: 1.3845 - val_acc: 0.3846\n",
            "Epoch 261/500\n",
            "105/105 [==============================] - 0s 43us/step - loss: 1.0728 - acc: 1.0000 - val_loss: 1.3847 - val_acc: 0.3846\n",
            "Epoch 262/500\n",
            "105/105 [==============================] - 0s 45us/step - loss: 1.0725 - acc: 1.0000 - val_loss: 1.3848 - val_acc: 0.3846\n",
            "Epoch 263/500\n",
            "105/105 [==============================] - 0s 40us/step - loss: 1.0723 - acc: 1.0000 - val_loss: 1.3849 - val_acc: 0.3846\n",
            "Epoch 264/500\n",
            "105/105 [==============================] - 0s 46us/step - loss: 1.0721 - acc: 1.0000 - val_loss: 1.3850 - val_acc: 0.3846\n",
            "Epoch 265/500\n",
            "105/105 [==============================] - 0s 41us/step - loss: 1.0718 - acc: 1.0000 - val_loss: 1.3851 - val_acc: 0.3846\n",
            "Epoch 266/500\n",
            "105/105 [==============================] - 0s 39us/step - loss: 1.0716 - acc: 1.0000 - val_loss: 1.3852 - val_acc: 0.3846\n",
            "Epoch 267/500\n",
            "105/105 [==============================] - 0s 41us/step - loss: 1.0714 - acc: 1.0000 - val_loss: 1.3853 - val_acc: 0.3846\n",
            "Epoch 268/500\n",
            "105/105 [==============================] - 0s 43us/step - loss: 1.0712 - acc: 1.0000 - val_loss: 1.3854 - val_acc: 0.3846\n",
            "Epoch 269/500\n",
            "105/105 [==============================] - 0s 48us/step - loss: 1.0709 - acc: 1.0000 - val_loss: 1.3855 - val_acc: 0.3846\n",
            "Epoch 270/500\n",
            "105/105 [==============================] - 0s 39us/step - loss: 1.0707 - acc: 1.0000 - val_loss: 1.3856 - val_acc: 0.3846\n",
            "Epoch 271/500\n",
            "105/105 [==============================] - 0s 37us/step - loss: 1.0705 - acc: 1.0000 - val_loss: 1.3857 - val_acc: 0.3846\n",
            "Epoch 272/500\n",
            "105/105 [==============================] - 0s 33us/step - loss: 1.0702 - acc: 1.0000 - val_loss: 1.3859 - val_acc: 0.3846\n",
            "Epoch 273/500\n",
            "105/105 [==============================] - 0s 35us/step - loss: 1.0700 - acc: 1.0000 - val_loss: 1.3860 - val_acc: 0.3846\n",
            "Epoch 274/500\n",
            "105/105 [==============================] - 0s 29us/step - loss: 1.0698 - acc: 1.0000 - val_loss: 1.3861 - val_acc: 0.3846\n",
            "Epoch 275/500\n",
            "105/105 [==============================] - 0s 46us/step - loss: 1.0695 - acc: 1.0000 - val_loss: 1.3862 - val_acc: 0.3846\n",
            "Epoch 276/500\n",
            "105/105 [==============================] - 0s 36us/step - loss: 1.0693 - acc: 1.0000 - val_loss: 1.3863 - val_acc: 0.3846\n",
            "Epoch 277/500\n",
            "105/105 [==============================] - 0s 40us/step - loss: 1.0691 - acc: 1.0000 - val_loss: 1.3864 - val_acc: 0.3846\n",
            "Epoch 278/500\n",
            "105/105 [==============================] - 0s 36us/step - loss: 1.0688 - acc: 1.0000 - val_loss: 1.3865 - val_acc: 0.3846\n",
            "Epoch 279/500\n",
            "105/105 [==============================] - 0s 34us/step - loss: 1.0686 - acc: 1.0000 - val_loss: 1.3866 - val_acc: 0.3846\n",
            "Epoch 280/500\n",
            "105/105 [==============================] - 0s 44us/step - loss: 1.0684 - acc: 1.0000 - val_loss: 1.3867 - val_acc: 0.3846\n",
            "Epoch 281/500\n",
            "105/105 [==============================] - 0s 44us/step - loss: 1.0681 - acc: 1.0000 - val_loss: 1.3869 - val_acc: 0.3846\n",
            "Epoch 282/500\n",
            "105/105 [==============================] - 0s 46us/step - loss: 1.0679 - acc: 1.0000 - val_loss: 1.3870 - val_acc: 0.3846\n",
            "Epoch 283/500\n",
            "105/105 [==============================] - 0s 49us/step - loss: 1.0677 - acc: 1.0000 - val_loss: 1.3871 - val_acc: 0.3846\n",
            "Epoch 284/500\n",
            "105/105 [==============================] - 0s 45us/step - loss: 1.0674 - acc: 1.0000 - val_loss: 1.3872 - val_acc: 0.3846\n",
            "Epoch 285/500\n",
            "105/105 [==============================] - 0s 39us/step - loss: 1.0672 - acc: 1.0000 - val_loss: 1.3873 - val_acc: 0.3846\n",
            "Epoch 286/500\n",
            "105/105 [==============================] - 0s 42us/step - loss: 1.0670 - acc: 1.0000 - val_loss: 1.3874 - val_acc: 0.3846\n",
            "Epoch 287/500\n",
            "105/105 [==============================] - 0s 41us/step - loss: 1.0667 - acc: 1.0000 - val_loss: 1.3875 - val_acc: 0.3846\n",
            "Epoch 288/500\n",
            "105/105 [==============================] - 0s 37us/step - loss: 1.0665 - acc: 1.0000 - val_loss: 1.3876 - val_acc: 0.3846\n",
            "Epoch 289/500\n",
            "105/105 [==============================] - 0s 39us/step - loss: 1.0663 - acc: 1.0000 - val_loss: 1.3877 - val_acc: 0.3846\n",
            "Epoch 290/500\n",
            "105/105 [==============================] - 0s 40us/step - loss: 1.0660 - acc: 1.0000 - val_loss: 1.3879 - val_acc: 0.3846\n",
            "Epoch 291/500\n",
            "105/105 [==============================] - 0s 36us/step - loss: 1.0658 - acc: 1.0000 - val_loss: 1.3880 - val_acc: 0.3846\n",
            "Epoch 292/500\n",
            "105/105 [==============================] - 0s 43us/step - loss: 1.0656 - acc: 1.0000 - val_loss: 1.3881 - val_acc: 0.3846\n",
            "Epoch 293/500\n",
            "105/105 [==============================] - 0s 40us/step - loss: 1.0653 - acc: 1.0000 - val_loss: 1.3882 - val_acc: 0.3846\n",
            "Epoch 294/500\n",
            "105/105 [==============================] - 0s 35us/step - loss: 1.0651 - acc: 1.0000 - val_loss: 1.3883 - val_acc: 0.3846\n",
            "Epoch 295/500\n",
            "105/105 [==============================] - 0s 36us/step - loss: 1.0649 - acc: 1.0000 - val_loss: 1.3884 - val_acc: 0.3846\n",
            "Epoch 296/500\n",
            "105/105 [==============================] - 0s 41us/step - loss: 1.0646 - acc: 1.0000 - val_loss: 1.3885 - val_acc: 0.3846\n",
            "Epoch 297/500\n",
            "105/105 [==============================] - 0s 38us/step - loss: 1.0644 - acc: 1.0000 - val_loss: 1.3887 - val_acc: 0.3846\n",
            "Epoch 298/500\n",
            "105/105 [==============================] - 0s 34us/step - loss: 1.0642 - acc: 1.0000 - val_loss: 1.3888 - val_acc: 0.3846\n",
            "Epoch 299/500\n",
            "105/105 [==============================] - 0s 50us/step - loss: 1.0639 - acc: 1.0000 - val_loss: 1.3889 - val_acc: 0.3846\n",
            "Epoch 300/500\n",
            "105/105 [==============================] - 0s 35us/step - loss: 1.0637 - acc: 1.0000 - val_loss: 1.3890 - val_acc: 0.3846\n",
            "Epoch 301/500\n",
            "105/105 [==============================] - 0s 48us/step - loss: 1.0635 - acc: 1.0000 - val_loss: 1.3891 - val_acc: 0.3846\n",
            "Epoch 302/500\n",
            "105/105 [==============================] - 0s 39us/step - loss: 1.0632 - acc: 1.0000 - val_loss: 1.3892 - val_acc: 0.3846\n",
            "Epoch 303/500\n",
            "105/105 [==============================] - 0s 41us/step - loss: 1.0630 - acc: 1.0000 - val_loss: 1.3893 - val_acc: 0.3846\n",
            "Epoch 304/500\n",
            "105/105 [==============================] - 0s 30us/step - loss: 1.0628 - acc: 1.0000 - val_loss: 1.3895 - val_acc: 0.3846\n",
            "Epoch 305/500\n",
            "105/105 [==============================] - 0s 32us/step - loss: 1.0625 - acc: 1.0000 - val_loss: 1.3896 - val_acc: 0.3846\n",
            "Epoch 306/500\n",
            "105/105 [==============================] - 0s 32us/step - loss: 1.0623 - acc: 1.0000 - val_loss: 1.3897 - val_acc: 0.3846\n",
            "Epoch 307/500\n",
            "105/105 [==============================] - 0s 20us/step - loss: 1.0621 - acc: 1.0000 - val_loss: 1.3898 - val_acc: 0.3846\n",
            "Epoch 308/500\n",
            "105/105 [==============================] - 0s 49us/step - loss: 1.0618 - acc: 1.0000 - val_loss: 1.3899 - val_acc: 0.3846\n",
            "Epoch 309/500\n",
            "105/105 [==============================] - 0s 39us/step - loss: 1.0616 - acc: 1.0000 - val_loss: 1.3900 - val_acc: 0.3846\n",
            "Epoch 310/500\n",
            "105/105 [==============================] - 0s 43us/step - loss: 1.0614 - acc: 1.0000 - val_loss: 1.3902 - val_acc: 0.3846\n",
            "Epoch 311/500\n",
            "105/105 [==============================] - 0s 35us/step - loss: 1.0611 - acc: 1.0000 - val_loss: 1.3903 - val_acc: 0.3846\n",
            "Epoch 312/500\n",
            "105/105 [==============================] - 0s 47us/step - loss: 1.0609 - acc: 1.0000 - val_loss: 1.3904 - val_acc: 0.3846\n",
            "Epoch 313/500\n",
            "105/105 [==============================] - 0s 34us/step - loss: 1.0607 - acc: 1.0000 - val_loss: 1.3905 - val_acc: 0.3846\n",
            "Epoch 314/500\n",
            "105/105 [==============================] - 0s 41us/step - loss: 1.0604 - acc: 1.0000 - val_loss: 1.3906 - val_acc: 0.3846\n",
            "Epoch 315/500\n",
            "105/105 [==============================] - 0s 38us/step - loss: 1.0602 - acc: 1.0000 - val_loss: 1.3907 - val_acc: 0.3846\n",
            "Epoch 316/500\n",
            "105/105 [==============================] - 0s 60us/step - loss: 1.0600 - acc: 1.0000 - val_loss: 1.3909 - val_acc: 0.3846\n",
            "Epoch 317/500\n",
            "105/105 [==============================] - 0s 32us/step - loss: 1.0597 - acc: 1.0000 - val_loss: 1.3910 - val_acc: 0.3846\n",
            "Epoch 318/500\n",
            "105/105 [==============================] - 0s 37us/step - loss: 1.0595 - acc: 1.0000 - val_loss: 1.3911 - val_acc: 0.3846\n",
            "Epoch 319/500\n",
            "105/105 [==============================] - 0s 43us/step - loss: 1.0593 - acc: 1.0000 - val_loss: 1.3912 - val_acc: 0.3846\n",
            "Epoch 320/500\n",
            "105/105 [==============================] - 0s 40us/step - loss: 1.0591 - acc: 1.0000 - val_loss: 1.3913 - val_acc: 0.3846\n",
            "Epoch 321/500\n",
            "105/105 [==============================] - 0s 38us/step - loss: 1.0588 - acc: 1.0000 - val_loss: 1.3915 - val_acc: 0.3846\n",
            "Epoch 322/500\n",
            "105/105 [==============================] - 0s 36us/step - loss: 1.0586 - acc: 1.0000 - val_loss: 1.3916 - val_acc: 0.3846\n",
            "Epoch 323/500\n",
            "105/105 [==============================] - 0s 34us/step - loss: 1.0584 - acc: 1.0000 - val_loss: 1.3917 - val_acc: 0.3846\n",
            "Epoch 324/500\n",
            "105/105 [==============================] - 0s 34us/step - loss: 1.0581 - acc: 1.0000 - val_loss: 1.3918 - val_acc: 0.3846\n",
            "Epoch 325/500\n",
            "105/105 [==============================] - 0s 44us/step - loss: 1.0579 - acc: 1.0000 - val_loss: 1.3919 - val_acc: 0.3846\n",
            "Epoch 326/500\n",
            "105/105 [==============================] - 0s 30us/step - loss: 1.0577 - acc: 1.0000 - val_loss: 1.3921 - val_acc: 0.3846\n",
            "Epoch 327/500\n",
            "105/105 [==============================] - 0s 42us/step - loss: 1.0574 - acc: 1.0000 - val_loss: 1.3922 - val_acc: 0.3846\n",
            "Epoch 328/500\n",
            "105/105 [==============================] - 0s 27us/step - loss: 1.0572 - acc: 1.0000 - val_loss: 1.3923 - val_acc: 0.3846\n",
            "Epoch 329/500\n",
            "105/105 [==============================] - 0s 37us/step - loss: 1.0570 - acc: 1.0000 - val_loss: 1.3924 - val_acc: 0.3846\n",
            "Epoch 330/500\n",
            "105/105 [==============================] - 0s 37us/step - loss: 1.0567 - acc: 1.0000 - val_loss: 1.3925 - val_acc: 0.3846\n",
            "Epoch 331/500\n",
            "105/105 [==============================] - 0s 46us/step - loss: 1.0565 - acc: 1.0000 - val_loss: 1.3927 - val_acc: 0.3846\n",
            "Epoch 332/500\n",
            "105/105 [==============================] - 0s 33us/step - loss: 1.0563 - acc: 1.0000 - val_loss: 1.3928 - val_acc: 0.3846\n",
            "Epoch 333/500\n",
            "105/105 [==============================] - 0s 32us/step - loss: 1.0560 - acc: 1.0000 - val_loss: 1.3929 - val_acc: 0.3846\n",
            "Epoch 334/500\n",
            "105/105 [==============================] - 0s 39us/step - loss: 1.0558 - acc: 1.0000 - val_loss: 1.3930 - val_acc: 0.3846\n",
            "Epoch 335/500\n",
            "105/105 [==============================] - 0s 35us/step - loss: 1.0556 - acc: 1.0000 - val_loss: 1.3931 - val_acc: 0.3846\n",
            "Epoch 336/500\n",
            "105/105 [==============================] - 0s 31us/step - loss: 1.0553 - acc: 1.0000 - val_loss: 1.3932 - val_acc: 0.3846\n",
            "Epoch 337/500\n",
            "105/105 [==============================] - 0s 39us/step - loss: 1.0551 - acc: 1.0000 - val_loss: 1.3934 - val_acc: 0.3846\n",
            "Epoch 338/500\n",
            "105/105 [==============================] - 0s 40us/step - loss: 1.0549 - acc: 1.0000 - val_loss: 1.3935 - val_acc: 0.3846\n",
            "Epoch 339/500\n",
            "105/105 [==============================] - 0s 31us/step - loss: 1.0546 - acc: 1.0000 - val_loss: 1.3936 - val_acc: 0.3846\n",
            "Epoch 340/500\n",
            "105/105 [==============================] - 0s 41us/step - loss: 1.0544 - acc: 1.0000 - val_loss: 1.3937 - val_acc: 0.3846\n",
            "Epoch 341/500\n",
            "105/105 [==============================] - 0s 38us/step - loss: 1.0542 - acc: 1.0000 - val_loss: 1.3938 - val_acc: 0.3846\n",
            "Epoch 342/500\n",
            "105/105 [==============================] - 0s 42us/step - loss: 1.0539 - acc: 1.0000 - val_loss: 1.3940 - val_acc: 0.3846\n",
            "Epoch 343/500\n",
            "105/105 [==============================] - 0s 38us/step - loss: 1.0537 - acc: 1.0000 - val_loss: 1.3941 - val_acc: 0.3846\n",
            "Epoch 344/500\n",
            "105/105 [==============================] - 0s 29us/step - loss: 1.0535 - acc: 1.0000 - val_loss: 1.3942 - val_acc: 0.3846\n",
            "Epoch 345/500\n",
            "105/105 [==============================] - 0s 40us/step - loss: 1.0532 - acc: 1.0000 - val_loss: 1.3943 - val_acc: 0.3846\n",
            "Epoch 346/500\n",
            "105/105 [==============================] - 0s 33us/step - loss: 1.0530 - acc: 1.0000 - val_loss: 1.3944 - val_acc: 0.3846\n",
            "Epoch 347/500\n",
            "105/105 [==============================] - 0s 32us/step - loss: 1.0528 - acc: 1.0000 - val_loss: 1.3946 - val_acc: 0.3846\n",
            "Epoch 348/500\n",
            "105/105 [==============================] - 0s 35us/step - loss: 1.0525 - acc: 1.0000 - val_loss: 1.3947 - val_acc: 0.3846\n",
            "Epoch 349/500\n",
            "105/105 [==============================] - 0s 33us/step - loss: 1.0523 - acc: 1.0000 - val_loss: 1.3948 - val_acc: 0.3846\n",
            "Epoch 350/500\n",
            "105/105 [==============================] - 0s 42us/step - loss: 1.0521 - acc: 1.0000 - val_loss: 1.3949 - val_acc: 0.3846\n",
            "Epoch 351/500\n",
            "105/105 [==============================] - 0s 35us/step - loss: 1.0519 - acc: 1.0000 - val_loss: 1.3950 - val_acc: 0.3846\n",
            "Epoch 352/500\n",
            "105/105 [==============================] - 0s 35us/step - loss: 1.0516 - acc: 1.0000 - val_loss: 1.3952 - val_acc: 0.3846\n",
            "Epoch 353/500\n",
            "105/105 [==============================] - 0s 43us/step - loss: 1.0514 - acc: 1.0000 - val_loss: 1.3953 - val_acc: 0.3846\n",
            "Epoch 354/500\n",
            "105/105 [==============================] - 0s 38us/step - loss: 1.0512 - acc: 1.0000 - val_loss: 1.3954 - val_acc: 0.3846\n",
            "Epoch 355/500\n",
            "105/105 [==============================] - 0s 36us/step - loss: 1.0509 - acc: 1.0000 - val_loss: 1.3955 - val_acc: 0.3846\n",
            "Epoch 356/500\n",
            "105/105 [==============================] - 0s 29us/step - loss: 1.0507 - acc: 1.0000 - val_loss: 1.3957 - val_acc: 0.3846\n",
            "Epoch 357/500\n",
            "105/105 [==============================] - 0s 33us/step - loss: 1.0505 - acc: 1.0000 - val_loss: 1.3958 - val_acc: 0.3846\n",
            "Epoch 358/500\n",
            "105/105 [==============================] - 0s 28us/step - loss: 1.0502 - acc: 1.0000 - val_loss: 1.3959 - val_acc: 0.3846\n",
            "Epoch 359/500\n",
            "105/105 [==============================] - 0s 34us/step - loss: 1.0500 - acc: 1.0000 - val_loss: 1.3960 - val_acc: 0.3846\n",
            "Epoch 360/500\n",
            "105/105 [==============================] - 0s 31us/step - loss: 1.0498 - acc: 1.0000 - val_loss: 1.3961 - val_acc: 0.3846\n",
            "Epoch 361/500\n",
            "105/105 [==============================] - 0s 31us/step - loss: 1.0495 - acc: 1.0000 - val_loss: 1.3963 - val_acc: 0.3846\n",
            "Epoch 362/500\n",
            "105/105 [==============================] - 0s 40us/step - loss: 1.0493 - acc: 1.0000 - val_loss: 1.3964 - val_acc: 0.3846\n",
            "Epoch 363/500\n",
            "105/105 [==============================] - 0s 34us/step - loss: 1.0491 - acc: 1.0000 - val_loss: 1.3965 - val_acc: 0.3846\n",
            "Epoch 364/500\n",
            "105/105 [==============================] - 0s 36us/step - loss: 1.0488 - acc: 1.0000 - val_loss: 1.3966 - val_acc: 0.3846\n",
            "Epoch 365/500\n",
            "105/105 [==============================] - 0s 31us/step - loss: 1.0486 - acc: 1.0000 - val_loss: 1.3968 - val_acc: 0.3846\n",
            "Epoch 366/500\n",
            "105/105 [==============================] - 0s 35us/step - loss: 1.0484 - acc: 1.0000 - val_loss: 1.3969 - val_acc: 0.3846\n",
            "Epoch 367/500\n",
            "105/105 [==============================] - 0s 26us/step - loss: 1.0481 - acc: 1.0000 - val_loss: 1.3970 - val_acc: 0.3846\n",
            "Epoch 368/500\n",
            "105/105 [==============================] - 0s 37us/step - loss: 1.0479 - acc: 1.0000 - val_loss: 1.3971 - val_acc: 0.3846\n",
            "Epoch 369/500\n",
            "105/105 [==============================] - 0s 44us/step - loss: 1.0477 - acc: 1.0000 - val_loss: 1.3973 - val_acc: 0.3846\n",
            "Epoch 370/500\n",
            "105/105 [==============================] - 0s 39us/step - loss: 1.0474 - acc: 1.0000 - val_loss: 1.3974 - val_acc: 0.3846\n",
            "Epoch 371/500\n",
            "105/105 [==============================] - 0s 33us/step - loss: 1.0472 - acc: 1.0000 - val_loss: 1.3975 - val_acc: 0.3846\n",
            "Epoch 372/500\n",
            "105/105 [==============================] - 0s 28us/step - loss: 1.0470 - acc: 1.0000 - val_loss: 1.3976 - val_acc: 0.3846\n",
            "Epoch 373/500\n",
            "105/105 [==============================] - 0s 33us/step - loss: 1.0467 - acc: 1.0000 - val_loss: 1.3978 - val_acc: 0.3846\n",
            "Epoch 374/500\n",
            "105/105 [==============================] - 0s 32us/step - loss: 1.0465 - acc: 1.0000 - val_loss: 1.3979 - val_acc: 0.3846\n",
            "Epoch 375/500\n",
            "105/105 [==============================] - 0s 28us/step - loss: 1.0463 - acc: 1.0000 - val_loss: 1.3980 - val_acc: 0.3846\n",
            "Epoch 376/500\n",
            "105/105 [==============================] - 0s 28us/step - loss: 1.0461 - acc: 1.0000 - val_loss: 1.3981 - val_acc: 0.3846\n",
            "Epoch 377/500\n",
            "105/105 [==============================] - 0s 25us/step - loss: 1.0458 - acc: 1.0000 - val_loss: 1.3983 - val_acc: 0.3846\n",
            "Epoch 378/500\n",
            "105/105 [==============================] - 0s 32us/step - loss: 1.0456 - acc: 1.0000 - val_loss: 1.3984 - val_acc: 0.3846\n",
            "Epoch 379/500\n",
            "105/105 [==============================] - 0s 33us/step - loss: 1.0454 - acc: 1.0000 - val_loss: 1.3985 - val_acc: 0.3846\n",
            "Epoch 380/500\n",
            "105/105 [==============================] - 0s 32us/step - loss: 1.0451 - acc: 1.0000 - val_loss: 1.3986 - val_acc: 0.3846\n",
            "Epoch 381/500\n",
            "105/105 [==============================] - 0s 33us/step - loss: 1.0449 - acc: 1.0000 - val_loss: 1.3988 - val_acc: 0.3846\n",
            "Epoch 382/500\n",
            "105/105 [==============================] - 0s 32us/step - loss: 1.0447 - acc: 1.0000 - val_loss: 1.3989 - val_acc: 0.3846\n",
            "Epoch 383/500\n",
            "105/105 [==============================] - 0s 30us/step - loss: 1.0444 - acc: 1.0000 - val_loss: 1.3990 - val_acc: 0.3846\n",
            "Epoch 384/500\n",
            "105/105 [==============================] - 0s 26us/step - loss: 1.0442 - acc: 1.0000 - val_loss: 1.3991 - val_acc: 0.3846\n",
            "Epoch 385/500\n",
            "105/105 [==============================] - 0s 32us/step - loss: 1.0440 - acc: 1.0000 - val_loss: 1.3993 - val_acc: 0.3846\n",
            "Epoch 386/500\n",
            "105/105 [==============================] - 0s 32us/step - loss: 1.0437 - acc: 1.0000 - val_loss: 1.3994 - val_acc: 0.3846\n",
            "Epoch 387/500\n",
            "105/105 [==============================] - 0s 35us/step - loss: 1.0435 - acc: 1.0000 - val_loss: 1.3995 - val_acc: 0.3846\n",
            "Epoch 388/500\n",
            "105/105 [==============================] - 0s 33us/step - loss: 1.0433 - acc: 1.0000 - val_loss: 1.3997 - val_acc: 0.3846\n",
            "Epoch 389/500\n",
            "105/105 [==============================] - 0s 33us/step - loss: 1.0430 - acc: 1.0000 - val_loss: 1.3998 - val_acc: 0.3846\n",
            "Epoch 390/500\n",
            "105/105 [==============================] - 0s 35us/step - loss: 1.0428 - acc: 1.0000 - val_loss: 1.3999 - val_acc: 0.3846\n",
            "Epoch 391/500\n",
            "105/105 [==============================] - 0s 29us/step - loss: 1.0426 - acc: 1.0000 - val_loss: 1.4000 - val_acc: 0.3846\n",
            "Epoch 392/500\n",
            "105/105 [==============================] - 0s 26us/step - loss: 1.0423 - acc: 1.0000 - val_loss: 1.4002 - val_acc: 0.3846\n",
            "Epoch 393/500\n",
            "105/105 [==============================] - 0s 27us/step - loss: 1.0421 - acc: 1.0000 - val_loss: 1.4003 - val_acc: 0.3846\n",
            "Epoch 394/500\n",
            "105/105 [==============================] - 0s 25us/step - loss: 1.0419 - acc: 1.0000 - val_loss: 1.4004 - val_acc: 0.3846\n",
            "Epoch 395/500\n",
            "105/105 [==============================] - 0s 34us/step - loss: 1.0416 - acc: 1.0000 - val_loss: 1.4006 - val_acc: 0.3846\n",
            "Epoch 396/500\n",
            "105/105 [==============================] - 0s 22us/step - loss: 1.0414 - acc: 1.0000 - val_loss: 1.4007 - val_acc: 0.3846\n",
            "Epoch 397/500\n",
            "105/105 [==============================] - 0s 26us/step - loss: 1.0412 - acc: 1.0000 - val_loss: 1.4008 - val_acc: 0.3846\n",
            "Epoch 398/500\n",
            "105/105 [==============================] - 0s 30us/step - loss: 1.0409 - acc: 1.0000 - val_loss: 1.4010 - val_acc: 0.3846\n",
            "Epoch 399/500\n",
            "105/105 [==============================] - 0s 33us/step - loss: 1.0407 - acc: 1.0000 - val_loss: 1.4011 - val_acc: 0.3846\n",
            "Epoch 400/500\n",
            "105/105 [==============================] - 0s 35us/step - loss: 1.0405 - acc: 1.0000 - val_loss: 1.4012 - val_acc: 0.3846\n",
            "Epoch 401/500\n",
            "105/105 [==============================] - 0s 29us/step - loss: 1.0403 - acc: 1.0000 - val_loss: 1.4013 - val_acc: 0.3846\n",
            "Epoch 402/500\n",
            "105/105 [==============================] - 0s 28us/step - loss: 1.0400 - acc: 1.0000 - val_loss: 1.4015 - val_acc: 0.3846\n",
            "Epoch 403/500\n",
            "105/105 [==============================] - 0s 32us/step - loss: 1.0398 - acc: 1.0000 - val_loss: 1.4016 - val_acc: 0.3846\n",
            "Epoch 404/500\n",
            "105/105 [==============================] - 0s 35us/step - loss: 1.0396 - acc: 1.0000 - val_loss: 1.4017 - val_acc: 0.3846\n",
            "Epoch 405/500\n",
            "105/105 [==============================] - 0s 35us/step - loss: 1.0393 - acc: 1.0000 - val_loss: 1.4019 - val_acc: 0.3846\n",
            "Epoch 406/500\n",
            "105/105 [==============================] - 0s 29us/step - loss: 1.0391 - acc: 1.0000 - val_loss: 1.4020 - val_acc: 0.3846\n",
            "Epoch 407/500\n",
            "105/105 [==============================] - 0s 29us/step - loss: 1.0389 - acc: 1.0000 - val_loss: 1.4021 - val_acc: 0.3846\n",
            "Epoch 408/500\n",
            "105/105 [==============================] - 0s 28us/step - loss: 1.0386 - acc: 1.0000 - val_loss: 1.4023 - val_acc: 0.3846\n",
            "Epoch 409/500\n",
            "105/105 [==============================] - 0s 26us/step - loss: 1.0384 - acc: 1.0000 - val_loss: 1.4024 - val_acc: 0.3846\n",
            "Epoch 410/500\n",
            "105/105 [==============================] - 0s 28us/step - loss: 1.0382 - acc: 1.0000 - val_loss: 1.4025 - val_acc: 0.3846\n",
            "Epoch 411/500\n",
            "105/105 [==============================] - 0s 30us/step - loss: 1.0379 - acc: 1.0000 - val_loss: 1.4027 - val_acc: 0.3846\n",
            "Epoch 412/500\n",
            "105/105 [==============================] - 0s 41us/step - loss: 1.0377 - acc: 1.0000 - val_loss: 1.4028 - val_acc: 0.3846\n",
            "Epoch 413/500\n",
            "105/105 [==============================] - 0s 33us/step - loss: 1.0375 - acc: 1.0000 - val_loss: 1.4029 - val_acc: 0.3846\n",
            "Epoch 414/500\n",
            "105/105 [==============================] - 0s 32us/step - loss: 1.0372 - acc: 1.0000 - val_loss: 1.4031 - val_acc: 0.3846\n",
            "Epoch 415/500\n",
            "105/105 [==============================] - 0s 32us/step - loss: 1.0370 - acc: 1.0000 - val_loss: 1.4032 - val_acc: 0.3846\n",
            "Epoch 416/500\n",
            "105/105 [==============================] - 0s 32us/step - loss: 1.0368 - acc: 1.0000 - val_loss: 1.4033 - val_acc: 0.3846\n",
            "Epoch 417/500\n",
            "105/105 [==============================] - 0s 32us/step - loss: 1.0365 - acc: 1.0000 - val_loss: 1.4035 - val_acc: 0.3846\n",
            "Epoch 418/500\n",
            "105/105 [==============================] - 0s 51us/step - loss: 1.0363 - acc: 1.0000 - val_loss: 1.4036 - val_acc: 0.3846\n",
            "Epoch 419/500\n",
            "105/105 [==============================] - 0s 30us/step - loss: 1.0361 - acc: 1.0000 - val_loss: 1.4037 - val_acc: 0.3846\n",
            "Epoch 420/500\n",
            "105/105 [==============================] - 0s 38us/step - loss: 1.0359 - acc: 1.0000 - val_loss: 1.4039 - val_acc: 0.3846\n",
            "Epoch 421/500\n",
            "105/105 [==============================] - 0s 25us/step - loss: 1.0356 - acc: 1.0000 - val_loss: 1.4040 - val_acc: 0.3846\n",
            "Epoch 422/500\n",
            "105/105 [==============================] - 0s 35us/step - loss: 1.0354 - acc: 1.0000 - val_loss: 1.4041 - val_acc: 0.3846\n",
            "Epoch 423/500\n",
            "105/105 [==============================] - 0s 38us/step - loss: 1.0352 - acc: 1.0000 - val_loss: 1.4043 - val_acc: 0.3846\n",
            "Epoch 424/500\n",
            "105/105 [==============================] - 0s 45us/step - loss: 1.0349 - acc: 1.0000 - val_loss: 1.4044 - val_acc: 0.3846\n",
            "Epoch 425/500\n",
            "105/105 [==============================] - 0s 48us/step - loss: 1.0347 - acc: 1.0000 - val_loss: 1.4045 - val_acc: 0.3846\n",
            "Epoch 426/500\n",
            "105/105 [==============================] - 0s 52us/step - loss: 1.0345 - acc: 1.0000 - val_loss: 1.4047 - val_acc: 0.3846\n",
            "Epoch 427/500\n",
            "105/105 [==============================] - 0s 45us/step - loss: 1.0342 - acc: 1.0000 - val_loss: 1.4048 - val_acc: 0.3846\n",
            "Epoch 428/500\n",
            "105/105 [==============================] - 0s 31us/step - loss: 1.0340 - acc: 1.0000 - val_loss: 1.4049 - val_acc: 0.3846\n",
            "Epoch 429/500\n",
            "105/105 [==============================] - 0s 38us/step - loss: 1.0338 - acc: 1.0000 - val_loss: 1.4051 - val_acc: 0.3846\n",
            "Epoch 430/500\n",
            "105/105 [==============================] - 0s 60us/step - loss: 1.0335 - acc: 1.0000 - val_loss: 1.4052 - val_acc: 0.3846\n",
            "Epoch 431/500\n",
            "105/105 [==============================] - 0s 43us/step - loss: 1.0333 - acc: 1.0000 - val_loss: 1.4053 - val_acc: 0.3846\n",
            "Epoch 432/500\n",
            "105/105 [==============================] - 0s 42us/step - loss: 1.0331 - acc: 1.0000 - val_loss: 1.4055 - val_acc: 0.3846\n",
            "Epoch 433/500\n",
            "105/105 [==============================] - 0s 38us/step - loss: 1.0328 - acc: 1.0000 - val_loss: 1.4056 - val_acc: 0.3846\n",
            "Epoch 434/500\n",
            "105/105 [==============================] - 0s 39us/step - loss: 1.0326 - acc: 1.0000 - val_loss: 1.4057 - val_acc: 0.3846\n",
            "Epoch 435/500\n",
            "105/105 [==============================] - 0s 36us/step - loss: 1.0324 - acc: 1.0000 - val_loss: 1.4059 - val_acc: 0.3846\n",
            "Epoch 436/500\n",
            "105/105 [==============================] - 0s 39us/step - loss: 1.0321 - acc: 1.0000 - val_loss: 1.4060 - val_acc: 0.3846\n",
            "Epoch 437/500\n",
            "105/105 [==============================] - 0s 36us/step - loss: 1.0319 - acc: 1.0000 - val_loss: 1.4062 - val_acc: 0.3846\n",
            "Epoch 438/500\n",
            "105/105 [==============================] - 0s 32us/step - loss: 1.0317 - acc: 1.0000 - val_loss: 1.4063 - val_acc: 0.3846\n",
            "Epoch 439/500\n",
            "105/105 [==============================] - 0s 30us/step - loss: 1.0314 - acc: 1.0000 - val_loss: 1.4064 - val_acc: 0.3846\n",
            "Epoch 440/500\n",
            "105/105 [==============================] - 0s 52us/step - loss: 1.0312 - acc: 1.0000 - val_loss: 1.4066 - val_acc: 0.3846\n",
            "Epoch 441/500\n",
            "105/105 [==============================] - 0s 47us/step - loss: 1.0310 - acc: 1.0000 - val_loss: 1.4067 - val_acc: 0.3846\n",
            "Epoch 442/500\n",
            "105/105 [==============================] - 0s 29us/step - loss: 1.0308 - acc: 1.0000 - val_loss: 1.4068 - val_acc: 0.3846\n",
            "Epoch 443/500\n",
            "105/105 [==============================] - 0s 56us/step - loss: 1.0305 - acc: 1.0000 - val_loss: 1.4070 - val_acc: 0.3846\n",
            "Epoch 444/500\n",
            "105/105 [==============================] - 0s 50us/step - loss: 1.0303 - acc: 1.0000 - val_loss: 1.4071 - val_acc: 0.3846\n",
            "Epoch 445/500\n",
            "105/105 [==============================] - 0s 45us/step - loss: 1.0301 - acc: 1.0000 - val_loss: 1.4073 - val_acc: 0.3846\n",
            "Epoch 446/500\n",
            "105/105 [==============================] - 0s 48us/step - loss: 1.0298 - acc: 1.0000 - val_loss: 1.4074 - val_acc: 0.3846\n",
            "Epoch 447/500\n",
            "105/105 [==============================] - 0s 44us/step - loss: 1.0296 - acc: 1.0000 - val_loss: 1.4075 - val_acc: 0.3846\n",
            "Epoch 448/500\n",
            "105/105 [==============================] - 0s 51us/step - loss: 1.0294 - acc: 1.0000 - val_loss: 1.4077 - val_acc: 0.3846\n",
            "Epoch 449/500\n",
            "105/105 [==============================] - 0s 42us/step - loss: 1.0291 - acc: 1.0000 - val_loss: 1.4078 - val_acc: 0.3846\n",
            "Epoch 450/500\n",
            "105/105 [==============================] - 0s 38us/step - loss: 1.0289 - acc: 1.0000 - val_loss: 1.4080 - val_acc: 0.3846\n",
            "Epoch 451/500\n",
            "105/105 [==============================] - 0s 45us/step - loss: 1.0287 - acc: 1.0000 - val_loss: 1.4081 - val_acc: 0.3846\n",
            "Epoch 452/500\n",
            "105/105 [==============================] - 0s 54us/step - loss: 1.0284 - acc: 1.0000 - val_loss: 1.4082 - val_acc: 0.3846\n",
            "Epoch 453/500\n",
            "105/105 [==============================] - 0s 43us/step - loss: 1.0282 - acc: 1.0000 - val_loss: 1.4084 - val_acc: 0.3846\n",
            "Epoch 454/500\n",
            "105/105 [==============================] - 0s 58us/step - loss: 1.0280 - acc: 1.0000 - val_loss: 1.4085 - val_acc: 0.3846\n",
            "Epoch 455/500\n",
            "105/105 [==============================] - 0s 51us/step - loss: 1.0277 - acc: 1.0000 - val_loss: 1.4087 - val_acc: 0.3846\n",
            "Epoch 456/500\n",
            "105/105 [==============================] - 0s 46us/step - loss: 1.0275 - acc: 1.0000 - val_loss: 1.4088 - val_acc: 0.3846\n",
            "Epoch 457/500\n",
            "105/105 [==============================] - 0s 39us/step - loss: 1.0273 - acc: 1.0000 - val_loss: 1.4089 - val_acc: 0.3846\n",
            "Epoch 458/500\n",
            "105/105 [==============================] - 0s 41us/step - loss: 1.0270 - acc: 1.0000 - val_loss: 1.4091 - val_acc: 0.3846\n",
            "Epoch 459/500\n",
            "105/105 [==============================] - 0s 46us/step - loss: 1.0268 - acc: 1.0000 - val_loss: 1.4092 - val_acc: 0.3846\n",
            "Epoch 460/500\n",
            "105/105 [==============================] - 0s 50us/step - loss: 1.0266 - acc: 1.0000 - val_loss: 1.4094 - val_acc: 0.3846\n",
            "Epoch 461/500\n",
            "105/105 [==============================] - 0s 39us/step - loss: 1.0264 - acc: 1.0000 - val_loss: 1.4095 - val_acc: 0.3846\n",
            "Epoch 462/500\n",
            "105/105 [==============================] - 0s 47us/step - loss: 1.0261 - acc: 1.0000 - val_loss: 1.4097 - val_acc: 0.3846\n",
            "Epoch 463/500\n",
            "105/105 [==============================] - 0s 54us/step - loss: 1.0259 - acc: 1.0000 - val_loss: 1.4098 - val_acc: 0.3846\n",
            "Epoch 464/500\n",
            "105/105 [==============================] - 0s 44us/step - loss: 1.0257 - acc: 1.0000 - val_loss: 1.4099 - val_acc: 0.3846\n",
            "Epoch 465/500\n",
            "105/105 [==============================] - 0s 46us/step - loss: 1.0254 - acc: 1.0000 - val_loss: 1.4101 - val_acc: 0.3846\n",
            "Epoch 466/500\n",
            "105/105 [==============================] - 0s 47us/step - loss: 1.0252 - acc: 1.0000 - val_loss: 1.4102 - val_acc: 0.3846\n",
            "Epoch 467/500\n",
            "105/105 [==============================] - 0s 41us/step - loss: 1.0250 - acc: 1.0000 - val_loss: 1.4104 - val_acc: 0.3846\n",
            "Epoch 468/500\n",
            "105/105 [==============================] - 0s 33us/step - loss: 1.0247 - acc: 1.0000 - val_loss: 1.4105 - val_acc: 0.3846\n",
            "Epoch 469/500\n",
            "105/105 [==============================] - 0s 39us/step - loss: 1.0245 - acc: 1.0000 - val_loss: 1.4107 - val_acc: 0.3846\n",
            "Epoch 470/500\n",
            "105/105 [==============================] - 0s 36us/step - loss: 1.0243 - acc: 1.0000 - val_loss: 1.4108 - val_acc: 0.3846\n",
            "Epoch 471/500\n",
            "105/105 [==============================] - 0s 37us/step - loss: 1.0240 - acc: 1.0000 - val_loss: 1.4109 - val_acc: 0.3846\n",
            "Epoch 472/500\n",
            "105/105 [==============================] - 0s 76us/step - loss: 1.0238 - acc: 1.0000 - val_loss: 1.4111 - val_acc: 0.3846\n",
            "Epoch 473/500\n",
            "105/105 [==============================] - 0s 42us/step - loss: 1.0236 - acc: 1.0000 - val_loss: 1.4112 - val_acc: 0.3846\n",
            "Epoch 474/500\n",
            "105/105 [==============================] - 0s 38us/step - loss: 1.0233 - acc: 1.0000 - val_loss: 1.4114 - val_acc: 0.3846\n",
            "Epoch 475/500\n",
            "105/105 [==============================] - 0s 43us/step - loss: 1.0231 - acc: 1.0000 - val_loss: 1.4115 - val_acc: 0.3846\n",
            "Epoch 476/500\n",
            "105/105 [==============================] - 0s 134us/step - loss: 1.0229 - acc: 1.0000 - val_loss: 1.4117 - val_acc: 0.3846\n",
            "Epoch 477/500\n",
            "105/105 [==============================] - 0s 41us/step - loss: 1.0226 - acc: 1.0000 - val_loss: 1.4118 - val_acc: 0.3846\n",
            "Epoch 478/500\n",
            "105/105 [==============================] - 0s 29us/step - loss: 1.0224 - acc: 1.0000 - val_loss: 1.4120 - val_acc: 0.3846\n",
            "Epoch 479/500\n",
            "105/105 [==============================] - 0s 26us/step - loss: 1.0222 - acc: 1.0000 - val_loss: 1.4121 - val_acc: 0.3846\n",
            "Epoch 480/500\n",
            "105/105 [==============================] - 0s 28us/step - loss: 1.0220 - acc: 1.0000 - val_loss: 1.4122 - val_acc: 0.3846\n",
            "Epoch 481/500\n",
            "105/105 [==============================] - 0s 38us/step - loss: 1.0217 - acc: 1.0000 - val_loss: 1.4124 - val_acc: 0.3846\n",
            "Epoch 482/500\n",
            "105/105 [==============================] - 0s 28us/step - loss: 1.0215 - acc: 1.0000 - val_loss: 1.4125 - val_acc: 0.3846\n",
            "Epoch 483/500\n",
            "105/105 [==============================] - 0s 28us/step - loss: 1.0213 - acc: 1.0000 - val_loss: 1.4127 - val_acc: 0.3846\n",
            "Epoch 484/500\n",
            "105/105 [==============================] - 0s 37us/step - loss: 1.0210 - acc: 1.0000 - val_loss: 1.4128 - val_acc: 0.3846\n",
            "Epoch 485/500\n",
            "105/105 [==============================] - 0s 33us/step - loss: 1.0208 - acc: 1.0000 - val_loss: 1.4130 - val_acc: 0.3846\n",
            "Epoch 486/500\n",
            "105/105 [==============================] - 0s 27us/step - loss: 1.0206 - acc: 1.0000 - val_loss: 1.4131 - val_acc: 0.3846\n",
            "Epoch 487/500\n",
            "105/105 [==============================] - 0s 27us/step - loss: 1.0203 - acc: 1.0000 - val_loss: 1.4133 - val_acc: 0.3846\n",
            "Epoch 488/500\n",
            "105/105 [==============================] - 0s 27us/step - loss: 1.0201 - acc: 1.0000 - val_loss: 1.4134 - val_acc: 0.3846\n",
            "Epoch 489/500\n",
            "105/105 [==============================] - 0s 27us/step - loss: 1.0199 - acc: 1.0000 - val_loss: 1.4136 - val_acc: 0.3846\n",
            "Epoch 490/500\n",
            "105/105 [==============================] - 0s 35us/step - loss: 1.0196 - acc: 1.0000 - val_loss: 1.4137 - val_acc: 0.3846\n",
            "Epoch 491/500\n",
            "105/105 [==============================] - 0s 32us/step - loss: 1.0194 - acc: 1.0000 - val_loss: 1.4139 - val_acc: 0.3846\n",
            "Epoch 492/500\n",
            "105/105 [==============================] - 0s 35us/step - loss: 1.0192 - acc: 1.0000 - val_loss: 1.4140 - val_acc: 0.3846\n",
            "Epoch 493/500\n",
            "105/105 [==============================] - 0s 34us/step - loss: 1.0190 - acc: 1.0000 - val_loss: 1.4141 - val_acc: 0.3846\n",
            "Epoch 494/500\n",
            "105/105 [==============================] - 0s 27us/step - loss: 1.0187 - acc: 1.0000 - val_loss: 1.4143 - val_acc: 0.3846\n",
            "Epoch 495/500\n",
            "105/105 [==============================] - 0s 30us/step - loss: 1.0185 - acc: 1.0000 - val_loss: 1.4144 - val_acc: 0.3846\n",
            "Epoch 496/500\n",
            "105/105 [==============================] - 0s 28us/step - loss: 1.0183 - acc: 1.0000 - val_loss: 1.4146 - val_acc: 0.3846\n",
            "Epoch 497/500\n",
            "105/105 [==============================] - 0s 30us/step - loss: 1.0180 - acc: 1.0000 - val_loss: 1.4147 - val_acc: 0.3846\n",
            "Epoch 498/500\n",
            "105/105 [==============================] - 0s 39us/step - loss: 1.0178 - acc: 1.0000 - val_loss: 1.4149 - val_acc: 0.3846\n",
            "Epoch 499/500\n",
            "105/105 [==============================] - 0s 41us/step - loss: 1.0176 - acc: 1.0000 - val_loss: 1.4150 - val_acc: 0.3846\n",
            "Epoch 500/500\n",
            "105/105 [==============================] - 0s 28us/step - loss: 1.0173 - acc: 1.0000 - val_loss: 1.4152 - val_acc: 0.3846\n"
          ],
          "name": "stdout"
        }
      ]
    },
    {
      "cell_type": "markdown",
      "metadata": {
        "colab_type": "text",
        "id": "V0-h4UV1kKGD"
      },
      "source": [
        "##Plotting training and validation loss"
      ]
    },
    {
      "cell_type": "code",
      "metadata": {
        "colab_type": "code",
        "id": "Ep2R0tm9kKGF",
        "colab": {}
      },
      "source": [
        "import matplotlib.pyplot as plt"
      ],
      "execution_count": 0,
      "outputs": []
    },
    {
      "cell_type": "code",
      "metadata": {
        "colab_type": "code",
        "id": "dYcufxLHkKGK",
        "colab": {}
      },
      "source": [
        "epochs = range(1, num_epochs+1)"
      ],
      "execution_count": 0,
      "outputs": []
    },
    {
      "cell_type": "code",
      "metadata": {
        "colab_type": "code",
        "outputId": "a31efb57-ed55-432f-c2be-33d68ed6d1a1",
        "id": "XLBO05_pkKGQ",
        "colab": {
          "base_uri": "https://localhost:8080/",
          "height": 312
        }
      },
      "source": [
        "plt.plot(epochs, loss_history, 'b', label='training loss')\n",
        "plt.plot(epochs, loss_val_history, 'r', label='validation loss')\n",
        "plt.title('Training and validation loss lda')\n",
        "plt.xlabel('Epochs')\n",
        "plt.ylabel('Loss')\n",
        "plt.legend()"
      ],
      "execution_count": 56,
      "outputs": [
        {
          "output_type": "execute_result",
          "data": {
            "text/plain": [
              "<matplotlib.legend.Legend at 0x7f29d0bb50f0>"
            ]
          },
          "metadata": {
            "tags": []
          },
          "execution_count": 56
        },
        {
          "output_type": "display_data",
          "data": {
            "image/png": "[encoded data removed]",
            "text/plain": [
              "<Figure size 432x288 with 1 Axes>"
            ]
          },
          "metadata": {
            "tags": []
          }
        }
      ]
    },
    {
      "cell_type": "markdown",
      "metadata": {
        "colab_type": "text",
        "id": "XV3hLoOykKGV"
      },
      "source": [
        "##Plotting train and validation accuracy"
      ]
    },
    {
      "cell_type": "code",
      "metadata": {
        "colab_type": "code",
        "outputId": "7546ab93-c732-4792-e573-378b8b8715a7",
        "id": "ttjl5eApkKGV",
        "colab": {
          "base_uri": "https://localhost:8080/",
          "height": 312
        }
      },
      "source": [
        "plt.plot(epochs, acc_history, 'b', label='Training accuracy')\n",
        "plt.plot(epochs, acc_val_history, 'r', label='Validation accuracy')\n",
        "plt.title('Training and validation accuracy lda')\n",
        "plt.xlabel('Epochs')\n",
        "plt.ylabel('Accuracy')\n",
        "plt.legend() "
      ],
      "execution_count": 57,
      "outputs": [
        {
          "output_type": "execute_result",
          "data": {
            "text/plain": [
              "<matplotlib.legend.Legend at 0x7f29d0b2a198>"
            ]
          },
          "metadata": {
            "tags": []
          },
          "execution_count": 57
        },
        {
          "output_type": "display_data",
          "data": {
            "image/png": "[encoded data removed]",
            "text/plain": [
              "<Figure size 432x288 with 1 Axes>"
            ]
          },
          "metadata": {
            "tags": []
          }
        }
      ]
    },
    {
      "cell_type": "markdown",
      "metadata": {
        "colab_type": "text",
        "id": "ckvqkyTYqE7B"
      },
      "source": [
        "##Performances on test set"
      ]
    },
    {
      "cell_type": "code",
      "metadata": {
        "colab_type": "code",
        "outputId": "c8a40eee-cdb9-47ae-c1af-99ea63785ce4",
        "id": "kmiW5yZ0qE7Q",
        "colab": {
          "base_uri": "https://localhost:8080/",
          "height": 1000
        }
      },
      "source": [
        " model = build_model()\n",
        " model.fit(train_data_stand_lda, one_hot_train_labels, epochs= num_epochs, batch_size=1, shuffle=True)\n",
        " test_loss, test_acc = model.evaluate(test_data_stand_lda, one_hot_test_labels)\n",
        "  "
      ],
      "execution_count": 0,
      "outputs": [
        {
          "output_type": "stream",
          "text": [
            "Epoch 1/180\n",
            "105/105 [==============================] - 0s 4ms/step - loss: 1.1976 - acc: 0.4476\n",
            "Epoch 2/180\n",
            "105/105 [==============================] - 0s 895us/step - loss: 1.0908 - acc: 0.5810\n",
            "Epoch 3/180\n",
            "105/105 [==============================] - 0s 915us/step - loss: 1.0153 - acc: 0.5810\n",
            "Epoch 4/180\n",
            "105/105 [==============================] - 0s 917us/step - loss: 0.9541 - acc: 0.5905\n",
            "Epoch 5/180\n",
            "105/105 [==============================] - 0s 787us/step - loss: 0.9022 - acc: 0.7714\n",
            "Epoch 6/180\n",
            "105/105 [==============================] - 0s 799us/step - loss: 0.8565 - acc: 0.9810\n",
            "Epoch 7/180\n",
            "105/105 [==============================] - 0s 939us/step - loss: 0.8157 - acc: 0.9905\n",
            "Epoch 8/180\n",
            "105/105 [==============================] - 0s 852us/step - loss: 0.7787 - acc: 0.9905\n",
            "Epoch 9/180\n",
            "105/105 [==============================] - 0s 817us/step - loss: 0.7448 - acc: 1.0000\n",
            "Epoch 10/180\n",
            "105/105 [==============================] - 0s 809us/step - loss: 0.7135 - acc: 1.0000\n",
            "Epoch 11/180\n",
            "105/105 [==============================] - 0s 803us/step - loss: 0.6844 - acc: 1.0000\n",
            "Epoch 12/180\n",
            "105/105 [==============================] - 0s 822us/step - loss: 0.6575 - acc: 1.0000\n",
            "Epoch 13/180\n",
            "105/105 [==============================] - 0s 841us/step - loss: 0.6323 - acc: 1.0000\n",
            "Epoch 14/180\n",
            "105/105 [==============================] - 0s 842us/step - loss: 0.6090 - acc: 1.0000\n",
            "Epoch 15/180\n",
            "105/105 [==============================] - 0s 806us/step - loss: 0.5872 - acc: 1.0000\n",
            "Epoch 16/180\n",
            "105/105 [==============================] - 0s 832us/step - loss: 0.5666 - acc: 1.0000\n",
            "Epoch 17/180\n",
            "105/105 [==============================] - 0s 807us/step - loss: 0.5471 - acc: 1.0000\n",
            "Epoch 18/180\n",
            "105/105 [==============================] - 0s 901us/step - loss: 0.5287 - acc: 1.0000\n",
            "Epoch 19/180\n",
            "105/105 [==============================] - 0s 870us/step - loss: 0.5111 - acc: 1.0000\n",
            "Epoch 20/180\n",
            "105/105 [==============================] - 0s 917us/step - loss: 0.4944 - acc: 1.0000\n",
            "Epoch 21/180\n",
            "105/105 [==============================] - 0s 909us/step - loss: 0.4783 - acc: 1.0000\n",
            "Epoch 22/180\n",
            "105/105 [==============================] - 0s 899us/step - loss: 0.4628 - acc: 1.0000\n",
            "Epoch 23/180\n",
            "105/105 [==============================] - 0s 913us/step - loss: 0.4479 - acc: 1.0000\n",
            "Epoch 24/180\n",
            "105/105 [==============================] - 0s 898us/step - loss: 0.4337 - acc: 1.0000\n",
            "Epoch 25/180\n",
            "105/105 [==============================] - 0s 871us/step - loss: 0.4205 - acc: 1.0000\n",
            "Epoch 26/180\n",
            "105/105 [==============================] - 0s 994us/step - loss: 0.4080 - acc: 1.0000\n",
            "Epoch 27/180\n",
            "105/105 [==============================] - 0s 876us/step - loss: 0.3960 - acc: 1.0000\n",
            "Epoch 28/180\n",
            "105/105 [==============================] - 0s 908us/step - loss: 0.3848 - acc: 1.0000\n",
            "Epoch 29/180\n",
            "105/105 [==============================] - 0s 864us/step - loss: 0.3742 - acc: 1.0000\n",
            "Epoch 30/180\n",
            "105/105 [==============================] - 0s 813us/step - loss: 0.3641 - acc: 1.0000\n",
            "Epoch 31/180\n",
            "105/105 [==============================] - 0s 844us/step - loss: 0.3544 - acc: 1.0000\n",
            "Epoch 32/180\n",
            "105/105 [==============================] - 0s 824us/step - loss: 0.3453 - acc: 1.0000\n",
            "Epoch 33/180\n",
            "105/105 [==============================] - 0s 812us/step - loss: 0.3367 - acc: 1.0000\n",
            "Epoch 34/180\n",
            "105/105 [==============================] - 0s 842us/step - loss: 0.3285 - acc: 1.0000\n",
            "Epoch 35/180\n",
            "105/105 [==============================] - 0s 828us/step - loss: 0.3208 - acc: 1.0000\n",
            "Epoch 36/180\n",
            "105/105 [==============================] - 0s 849us/step - loss: 0.3136 - acc: 1.0000\n",
            "Epoch 37/180\n",
            "105/105 [==============================] - 0s 836us/step - loss: 0.3070 - acc: 1.0000\n",
            "Epoch 38/180\n",
            "105/105 [==============================] - 0s 816us/step - loss: 0.3007 - acc: 1.0000\n",
            "Epoch 39/180\n",
            "105/105 [==============================] - 0s 853us/step - loss: 0.2948 - acc: 1.0000\n",
            "Epoch 40/180\n",
            "105/105 [==============================] - 0s 825us/step - loss: 0.2894 - acc: 1.0000\n",
            "Epoch 41/180\n",
            "105/105 [==============================] - 0s 836us/step - loss: 0.2842 - acc: 1.0000\n",
            "Epoch 42/180\n",
            "105/105 [==============================] - 0s 954us/step - loss: 0.2793 - acc: 1.0000\n",
            "Epoch 43/180\n",
            "105/105 [==============================] - 0s 818us/step - loss: 0.2748 - acc: 1.0000\n",
            "Epoch 44/180\n",
            "105/105 [==============================] - 0s 849us/step - loss: 0.2704 - acc: 1.0000\n",
            "Epoch 45/180\n",
            "105/105 [==============================] - 0s 828us/step - loss: 0.2663 - acc: 1.0000\n",
            "Epoch 46/180\n",
            "105/105 [==============================] - 0s 808us/step - loss: 0.2625 - acc: 1.0000\n",
            "Epoch 47/180\n",
            "105/105 [==============================] - 0s 908us/step - loss: 0.2587 - acc: 1.0000\n",
            "Epoch 48/180\n",
            "105/105 [==============================] - 0s 846us/step - loss: 0.2552 - acc: 1.0000\n",
            "Epoch 49/180\n",
            "105/105 [==============================] - 0s 826us/step - loss: 0.2519 - acc: 1.0000\n",
            "Epoch 50/180\n",
            "105/105 [==============================] - 0s 889us/step - loss: 0.2488 - acc: 1.0000\n",
            "Epoch 51/180\n",
            "105/105 [==============================] - 0s 838us/step - loss: 0.2458 - acc: 1.0000\n",
            "Epoch 52/180\n",
            "105/105 [==============================] - 0s 874us/step - loss: 0.2428 - acc: 1.0000\n",
            "Epoch 53/180\n",
            "105/105 [==============================] - 0s 858us/step - loss: 0.2401 - acc: 1.0000\n",
            "Epoch 54/180\n",
            "105/105 [==============================] - 0s 887us/step - loss: 0.2374 - acc: 1.0000\n",
            "Epoch 55/180\n",
            "105/105 [==============================] - 0s 867us/step - loss: 0.2349 - acc: 1.0000\n",
            "Epoch 56/180\n",
            "105/105 [==============================] - 0s 852us/step - loss: 0.2325 - acc: 1.0000\n",
            "Epoch 57/180\n",
            "105/105 [==============================] - 0s 923us/step - loss: 0.2302 - acc: 1.0000\n",
            "Epoch 58/180\n",
            "105/105 [==============================] - 0s 824us/step - loss: 0.2279 - acc: 1.0000\n",
            "Epoch 59/180\n",
            "105/105 [==============================] - 0s 916us/step - loss: 0.2257 - acc: 1.0000\n",
            "Epoch 60/180\n",
            "105/105 [==============================] - 0s 899us/step - loss: 0.2237 - acc: 1.0000\n",
            "Epoch 61/180\n",
            "105/105 [==============================] - 0s 886us/step - loss: 0.2216 - acc: 1.0000\n",
            "Epoch 62/180\n",
            "105/105 [==============================] - 0s 876us/step - loss: 0.2197 - acc: 1.0000\n",
            "Epoch 63/180\n",
            "105/105 [==============================] - 0s 862us/step - loss: 0.2178 - acc: 1.0000\n",
            "Epoch 64/180\n",
            "105/105 [==============================] - 0s 902us/step - loss: 0.2159 - acc: 1.0000\n",
            "Epoch 65/180\n",
            "105/105 [==============================] - 0s 993us/step - loss: 0.2142 - acc: 1.0000\n",
            "Epoch 66/180\n",
            "105/105 [==============================] - 0s 977us/step - loss: 0.2125 - acc: 1.0000\n",
            "Epoch 67/180\n",
            "105/105 [==============================] - 0s 860us/step - loss: 0.2108 - acc: 1.0000\n",
            "Epoch 68/180\n",
            "105/105 [==============================] - 0s 952us/step - loss: 0.2092 - acc: 1.0000\n",
            "Epoch 69/180\n",
            "105/105 [==============================] - 0s 935us/step - loss: 0.2076 - acc: 1.0000\n",
            "Epoch 70/180\n",
            "105/105 [==============================] - 0s 833us/step - loss: 0.2061 - acc: 1.0000\n",
            "Epoch 71/180\n",
            "105/105 [==============================] - 0s 878us/step - loss: 0.2046 - acc: 1.0000\n",
            "Epoch 72/180\n",
            "105/105 [==============================] - 0s 876us/step - loss: 0.2032 - acc: 1.0000\n",
            "Epoch 73/180\n",
            "105/105 [==============================] - 0s 838us/step - loss: 0.2018 - acc: 1.0000\n",
            "Epoch 74/180\n",
            "105/105 [==============================] - 0s 813us/step - loss: 0.2005 - acc: 1.0000\n",
            "Epoch 75/180\n",
            "105/105 [==============================] - 0s 827us/step - loss: 0.1992 - acc: 1.0000\n",
            "Epoch 76/180\n",
            "105/105 [==============================] - 0s 836us/step - loss: 0.1978 - acc: 1.0000\n",
            "Epoch 77/180\n",
            "105/105 [==============================] - 0s 842us/step - loss: 0.1966 - acc: 1.0000\n",
            "Epoch 78/180\n",
            "105/105 [==============================] - 0s 836us/step - loss: 0.1953 - acc: 1.0000\n",
            "Epoch 79/180\n",
            "105/105 [==============================] - 0s 802us/step - loss: 0.1942 - acc: 1.0000\n",
            "Epoch 80/180\n",
            "105/105 [==============================] - 0s 858us/step - loss: 0.1930 - acc: 1.0000\n",
            "Epoch 81/180\n",
            "105/105 [==============================] - 0s 805us/step - loss: 0.1919 - acc: 1.0000\n",
            "Epoch 82/180\n",
            "105/105 [==============================] - 0s 781us/step - loss: 0.1907 - acc: 1.0000\n",
            "Epoch 83/180\n",
            "105/105 [==============================] - 0s 915us/step - loss: 0.1896 - acc: 1.0000\n",
            "Epoch 84/180\n",
            "105/105 [==============================] - 0s 778us/step - loss: 0.1885 - acc: 1.0000\n",
            "Epoch 85/180\n",
            "105/105 [==============================] - 0s 837us/step - loss: 0.1874 - acc: 1.0000\n",
            "Epoch 86/180\n",
            "105/105 [==============================] - 0s 808us/step - loss: 0.1864 - acc: 1.0000\n",
            "Epoch 87/180\n",
            "105/105 [==============================] - 0s 798us/step - loss: 0.1854 - acc: 1.0000\n",
            "Epoch 88/180\n",
            "105/105 [==============================] - 0s 810us/step - loss: 0.1844 - acc: 1.0000\n",
            "Epoch 89/180\n",
            "105/105 [==============================] - 0s 804us/step - loss: 0.1834 - acc: 1.0000\n",
            "Epoch 90/180\n",
            "105/105 [==============================] - 0s 802us/step - loss: 0.1825 - acc: 1.0000\n",
            "Epoch 91/180\n",
            "105/105 [==============================] - 0s 827us/step - loss: 0.1816 - acc: 1.0000\n",
            "Epoch 92/180\n",
            "105/105 [==============================] - 0s 937us/step - loss: 0.1806 - acc: 1.0000\n",
            "Epoch 93/180\n",
            "105/105 [==============================] - 0s 952us/step - loss: 0.1797 - acc: 1.0000\n",
            "Epoch 94/180\n",
            "105/105 [==============================] - 0s 849us/step - loss: 0.1788 - acc: 1.0000\n",
            "Epoch 95/180\n",
            "105/105 [==============================] - 0s 845us/step - loss: 0.1780 - acc: 1.0000\n",
            "Epoch 96/180\n",
            "105/105 [==============================] - 0s 944us/step - loss: 0.1771 - acc: 1.0000\n",
            "Epoch 97/180\n",
            "105/105 [==============================] - 0s 800us/step - loss: 0.1763 - acc: 1.0000\n",
            "Epoch 98/180\n",
            "105/105 [==============================] - 0s 866us/step - loss: 0.1755 - acc: 1.0000\n",
            "Epoch 99/180\n",
            "105/105 [==============================] - 0s 863us/step - loss: 0.1747 - acc: 1.0000\n",
            "Epoch 100/180\n",
            "105/105 [==============================] - 0s 819us/step - loss: 0.1739 - acc: 1.0000\n",
            "Epoch 101/180\n",
            "105/105 [==============================] - 0s 848us/step - loss: 0.1731 - acc: 1.0000\n",
            "Epoch 102/180\n",
            "105/105 [==============================] - 0s 849us/step - loss: 0.1723 - acc: 1.0000\n",
            "Epoch 103/180\n",
            "105/105 [==============================] - 0s 849us/step - loss: 0.1716 - acc: 1.0000\n",
            "Epoch 104/180\n",
            "105/105 [==============================] - 0s 837us/step - loss: 0.1708 - acc: 1.0000\n",
            "Epoch 105/180\n",
            "105/105 [==============================] - 0s 833us/step - loss: 0.1701 - acc: 1.0000\n",
            "Epoch 106/180\n",
            "105/105 [==============================] - 0s 893us/step - loss: 0.1694 - acc: 1.0000\n",
            "Epoch 107/180\n",
            "105/105 [==============================] - 0s 856us/step - loss: 0.1687 - acc: 1.0000\n",
            "Epoch 108/180\n",
            "105/105 [==============================] - 0s 898us/step - loss: 0.1680 - acc: 1.0000\n",
            "Epoch 109/180\n",
            "105/105 [==============================] - 0s 881us/step - loss: 0.1673 - acc: 1.0000\n",
            "Epoch 110/180\n",
            "105/105 [==============================] - 0s 827us/step - loss: 0.1666 - acc: 1.0000\n",
            "Epoch 111/180\n",
            "105/105 [==============================] - 0s 904us/step - loss: 0.1659 - acc: 1.0000\n",
            "Epoch 112/180\n",
            "105/105 [==============================] - 0s 848us/step - loss: 0.1653 - acc: 1.0000\n",
            "Epoch 113/180\n",
            "105/105 [==============================] - 0s 847us/step - loss: 0.1646 - acc: 1.0000\n",
            "Epoch 114/180\n",
            "105/105 [==============================] - 0s 877us/step - loss: 0.1640 - acc: 1.0000\n",
            "Epoch 115/180\n",
            "105/105 [==============================] - 0s 864us/step - loss: 0.1634 - acc: 1.0000\n",
            "Epoch 116/180\n",
            "105/105 [==============================] - 0s 926us/step - loss: 0.1627 - acc: 1.0000\n",
            "Epoch 117/180\n",
            "105/105 [==============================] - 0s 906us/step - loss: 0.1621 - acc: 1.0000\n",
            "Epoch 118/180\n",
            "105/105 [==============================] - 0s 926us/step - loss: 0.1615 - acc: 1.0000\n",
            "Epoch 119/180\n",
            "105/105 [==============================] - 0s 911us/step - loss: 0.1609 - acc: 1.0000\n",
            "Epoch 120/180\n",
            "105/105 [==============================] - 0s 939us/step - loss: 0.1603 - acc: 1.0000\n",
            "Epoch 121/180\n",
            "105/105 [==============================] - 0s 895us/step - loss: 0.1597 - acc: 1.0000\n",
            "Epoch 122/180\n",
            "105/105 [==============================] - 0s 947us/step - loss: 0.1592 - acc: 1.0000\n",
            "Epoch 123/180\n",
            "105/105 [==============================] - 0s 834us/step - loss: 0.1586 - acc: 1.0000\n",
            "Epoch 124/180\n",
            "105/105 [==============================] - 0s 838us/step - loss: 0.1581 - acc: 1.0000\n",
            "Epoch 125/180\n",
            "105/105 [==============================] - 0s 868us/step - loss: 0.1575 - acc: 1.0000\n",
            "Epoch 126/180\n",
            "105/105 [==============================] - 0s 869us/step - loss: 0.1569 - acc: 1.0000\n",
            "Epoch 127/180\n",
            "105/105 [==============================] - 0s 861us/step - loss: 0.1564 - acc: 1.0000\n",
            "Epoch 128/180\n",
            "105/105 [==============================] - 0s 966us/step - loss: 0.1559 - acc: 1.0000\n",
            "Epoch 129/180\n",
            "105/105 [==============================] - 0s 923us/step - loss: 0.1553 - acc: 1.0000\n",
            "Epoch 130/180\n",
            "105/105 [==============================] - 0s 955us/step - loss: 0.1548 - acc: 1.0000\n",
            "Epoch 131/180\n",
            "105/105 [==============================] - 0s 890us/step - loss: 0.1543 - acc: 1.0000\n",
            "Epoch 132/180\n",
            "105/105 [==============================] - 0s 938us/step - loss: 0.1538 - acc: 1.0000\n",
            "Epoch 133/180\n",
            "105/105 [==============================] - 0s 909us/step - loss: 0.1533 - acc: 1.0000\n",
            "Epoch 134/180\n",
            "105/105 [==============================] - 0s 907us/step - loss: 0.1528 - acc: 1.0000\n",
            "Epoch 135/180\n",
            "105/105 [==============================] - 0s 949us/step - loss: 0.1523 - acc: 1.0000\n",
            "Epoch 136/180\n",
            "105/105 [==============================] - 0s 902us/step - loss: 0.1518 - acc: 1.0000\n",
            "Epoch 137/180\n",
            "105/105 [==============================] - 0s 918us/step - loss: 0.1513 - acc: 1.0000\n",
            "Epoch 138/180\n",
            "105/105 [==============================] - 0s 924us/step - loss: 0.1509 - acc: 1.0000\n",
            "Epoch 139/180\n",
            "105/105 [==============================] - 0s 852us/step - loss: 0.1504 - acc: 1.0000\n",
            "Epoch 140/180\n",
            "105/105 [==============================] - 0s 858us/step - loss: 0.1499 - acc: 1.0000\n",
            "Epoch 141/180\n",
            "105/105 [==============================] - 0s 896us/step - loss: 0.1495 - acc: 1.0000\n",
            "Epoch 142/180\n",
            "105/105 [==============================] - 0s 853us/step - loss: 0.1490 - acc: 1.0000\n",
            "Epoch 143/180\n",
            "105/105 [==============================] - 0s 930us/step - loss: 0.1485 - acc: 1.0000\n",
            "Epoch 144/180\n",
            "105/105 [==============================] - 0s 872us/step - loss: 0.1481 - acc: 1.0000\n",
            "Epoch 145/180\n",
            "105/105 [==============================] - 0s 906us/step - loss: 0.1476 - acc: 1.0000\n",
            "Epoch 146/180\n",
            "105/105 [==============================] - 0s 868us/step - loss: 0.1472 - acc: 1.0000\n",
            "Epoch 147/180\n",
            "105/105 [==============================] - 0s 911us/step - loss: 0.1468 - acc: 1.0000\n",
            "Epoch 148/180\n",
            "105/105 [==============================] - 0s 903us/step - loss: 0.1463 - acc: 1.0000\n",
            "Epoch 149/180\n",
            "105/105 [==============================] - 0s 874us/step - loss: 0.1459 - acc: 1.0000\n",
            "Epoch 150/180\n",
            "105/105 [==============================] - 0s 931us/step - loss: 0.1455 - acc: 1.0000\n",
            "Epoch 151/180\n",
            "105/105 [==============================] - 0s 821us/step - loss: 0.1451 - acc: 1.0000\n",
            "Epoch 152/180\n",
            "105/105 [==============================] - 0s 867us/step - loss: 0.1447 - acc: 1.0000\n",
            "Epoch 153/180\n",
            "105/105 [==============================] - 0s 867us/step - loss: 0.1443 - acc: 1.0000\n",
            "Epoch 154/180\n",
            "105/105 [==============================] - 0s 865us/step - loss: 0.1439 - acc: 1.0000\n",
            "Epoch 155/180\n",
            "105/105 [==============================] - 0s 901us/step - loss: 0.1435 - acc: 1.0000\n",
            "Epoch 156/180\n",
            "105/105 [==============================] - 0s 905us/step - loss: 0.1431 - acc: 1.0000\n",
            "Epoch 157/180\n",
            "105/105 [==============================] - 0s 903us/step - loss: 0.1427 - acc: 1.0000\n",
            "Epoch 158/180\n",
            "105/105 [==============================] - 0s 933us/step - loss: 0.1423 - acc: 1.0000\n",
            "Epoch 159/180\n",
            "105/105 [==============================] - 0s 932us/step - loss: 0.1419 - acc: 1.0000\n",
            "Epoch 160/180\n",
            "105/105 [==============================] - 0s 1ms/step - loss: 0.1415 - acc: 1.0000\n",
            "Epoch 161/180\n",
            "105/105 [==============================] - 0s 861us/step - loss: 0.1412 - acc: 1.0000\n",
            "Epoch 162/180\n",
            "105/105 [==============================] - 0s 937us/step - loss: 0.1408 - acc: 1.0000\n",
            "Epoch 163/180\n",
            "105/105 [==============================] - 0s 906us/step - loss: 0.1405 - acc: 1.0000\n",
            "Epoch 164/180\n",
            "105/105 [==============================] - 0s 918us/step - loss: 0.1401 - acc: 1.0000\n",
            "Epoch 165/180\n",
            "105/105 [==============================] - 0s 987us/step - loss: 0.1397 - acc: 1.0000\n",
            "Epoch 166/180\n",
            "105/105 [==============================] - 0s 982us/step - loss: 0.1393 - acc: 1.0000\n",
            "Epoch 167/180\n",
            "105/105 [==============================] - 0s 1ms/step - loss: 0.1390 - acc: 1.0000\n",
            "Epoch 168/180\n",
            "105/105 [==============================] - 0s 927us/step - loss: 0.1386 - acc: 1.0000\n",
            "Epoch 169/180\n",
            "105/105 [==============================] - 0s 1ms/step - loss: 0.1383 - acc: 1.0000\n",
            "Epoch 170/180\n",
            "105/105 [==============================] - 0s 904us/step - loss: 0.1379 - acc: 1.0000\n",
            "Epoch 171/180\n",
            "105/105 [==============================] - 0s 927us/step - loss: 0.1376 - acc: 1.0000\n",
            "Epoch 172/180\n",
            "105/105 [==============================] - 0s 992us/step - loss: 0.1372 - acc: 1.0000\n",
            "Epoch 173/180\n",
            "105/105 [==============================] - 0s 969us/step - loss: 0.1369 - acc: 1.0000\n",
            "Epoch 174/180\n",
            "105/105 [==============================] - 0s 963us/step - loss: 0.1366 - acc: 1.0000\n",
            "Epoch 175/180\n",
            "105/105 [==============================] - 0s 926us/step - loss: 0.1363 - acc: 1.0000\n",
            "Epoch 176/180\n",
            "105/105 [==============================] - 0s 1ms/step - loss: 0.1359 - acc: 1.0000\n",
            "Epoch 177/180\n",
            "105/105 [==============================] - 0s 898us/step - loss: 0.1356 - acc: 1.0000\n",
            "Epoch 178/180\n",
            "105/105 [==============================] - 0s 915us/step - loss: 0.1352 - acc: 1.0000\n",
            "Epoch 179/180\n",
            "105/105 [==============================] - 0s 911us/step - loss: 0.1349 - acc: 1.0000\n",
            "Epoch 180/180\n",
            "105/105 [==============================] - 0s 1ms/step - loss: 0.1346 - acc: 1.0000\n",
            "13/13 [==============================] - 0s 9ms/step\n"
          ],
          "name": "stdout"
        }
      ]
    },
    {
      "cell_type": "code",
      "metadata": {
        "colab_type": "code",
        "outputId": "1e0fd245-3e13-4025-f307-48f228c13a5a",
        "id": "lCz1ZOSIqE7i",
        "colab": {
          "base_uri": "https://localhost:8080/",
          "height": 35
        }
      },
      "source": [
        "model.metrics_names"
      ],
      "execution_count": 0,
      "outputs": [
        {
          "output_type": "execute_result",
          "data": {
            "text/plain": [
              "['loss', 'acc']"
            ]
          },
          "metadata": {
            "tags": []
          },
          "execution_count": 89
        }
      ]
    },
    {
      "cell_type": "code",
      "metadata": {
        "colab_type": "code",
        "outputId": "515455ab-de01-4627-c667-5239e9544c4d",
        "id": "GbroOBzLqE7v",
        "colab": {
          "base_uri": "https://localhost:8080/",
          "height": 35
        }
      },
      "source": [
        "test_acc\n"
      ],
      "execution_count": 0,
      "outputs": [
        {
          "output_type": "execute_result",
          "data": {
            "text/plain": [
              "0.4615384638309479"
            ]
          },
          "metadata": {
            "tags": []
          },
          "execution_count": 91
        }
      ]
    },
    {
      "cell_type": "markdown",
      "metadata": {
        "id": "DX_hXso7rd39",
        "colab_type": "text"
      },
      "source": [
        "Si comporta molto bene in training e in validation ma si comporta male in test"
      ]
    },
    {
      "cell_type": "markdown",
      "metadata": {
        "id": "Xyg3qdGpxYeh",
        "colab_type": "text"
      },
      "source": [
        "#PCA"
      ]
    },
    {
      "cell_type": "markdown",
      "metadata": {
        "id": "2HBt6_60xcak",
        "colab_type": "text"
      },
      "source": [
        "#NO FEATURES SELECTION"
      ]
    },
    {
      "cell_type": "markdown",
      "metadata": {
        "id": "BlrMqdh1w2bs",
        "colab_type": "text"
      },
      "source": [
        "Remove correlated features manually"
      ]
    }
  ]
}