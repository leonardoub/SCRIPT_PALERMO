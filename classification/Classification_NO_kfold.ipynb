{
  "nbformat": 4,
  "nbformat_minor": 0,
  "metadata": {
    "colab": {
      "name": "Classification_NO_kfold.ipynb",
      "provenance": [],
      "authorship_tag": "ABX9TyMgaxJc/JJttm5KKfrgp0BH",
      "include_colab_link": true
    },
    "kernelspec": {
      "name": "python3",
      "display_name": "Python 3"
    }
  },
  "cells": [
    {
      "cell_type": "markdown",
      "metadata": {
        "id": "view-in-github",
        "colab_type": "text"
      },
      "source": [
        "<a href=\"https://colab.research.google.com/github/leonardoub/SCRIPT_PALERMO/blob/master/classification/Classification_NO_kfold.ipynb\" target=\"_parent\"><img src=\"https://colab.research.google.com/assets/colab-badge.svg\" alt=\"Open In Colab\"/></a>"
      ]
    },
    {
      "cell_type": "code",
      "metadata": {
        "id": "3i4O_AtKVzh1",
        "colab_type": "code",
        "colab": {}
      },
      "source": [
        "import random\n",
        "import pandas as pd\n",
        "import numpy as np\n",
        "import matplotlib.pyplot as plt\n",
        "import scipy\n",
        "import seaborn as sns"
      ],
      "execution_count": 0,
      "outputs": []
    },
    {
      "cell_type": "code",
      "metadata": {
        "id": "xcb00g1tWTqw",
        "colab_type": "code",
        "outputId": "d463e33b-5840-41d2-bdb6-463eac62fc6b",
        "colab": {
          "base_uri": "https://localhost:8080/",
          "height": 83
        }
      },
      "source": [
        "# Seed value\n",
        "# Apparently you may use different seed values at each stage\n",
        "seed_value= 0\n",
        "\n",
        "# 1. Set `PYTHONHASHSEED` environment variable at a fixed value\n",
        "import os\n",
        "os.environ['PYTHONHASHSEED']=str(seed_value)\n",
        "\n",
        "# 2. Set `python` built-in pseudo-random generator at a fixed value\n",
        "import random\n",
        "random.seed(seed_value)\n",
        "\n",
        "# 3. Set `numpy` pseudo-random generator at a fixed value\n",
        "import numpy as np\n",
        "np.random.seed(seed_value)\n",
        "\n",
        "# 4. Set `tensorflow` pseudo-random generator at a fixed value\n",
        "import tensorflow as tf\n",
        "tf.set_random_seed(seed_value)\n",
        "\n",
        "# 5. Configure a new global `tensorflow` session\n",
        "from keras import backend as K\n",
        "session_conf = tf.ConfigProto(intra_op_parallelism_threads=1, inter_op_parallelism_threads=1)\n",
        "sess = tf.Session(graph=tf.get_default_graph(), config=session_conf)\n",
        "K.set_session(sess)"
      ],
      "execution_count": 0,
      "outputs": [
        {
          "output_type": "display_data",
          "data": {
            "text/html": [
              "<p style=\"color: red;\">\n",
              "The default version of TensorFlow in Colab will soon switch to TensorFlow 2.x.<br>\n",
              "We recommend you <a href=\"https://www.tensorflow.org/guide/migrate\" target=\"_blank\">upgrade</a> now \n",
              "or ensure your notebook will continue to use TensorFlow 1.x via the <code>%tensorflow_version 1.x</code> magic:\n",
              "<a href=\"https://colab.research.google.com/notebooks/tensorflow_version.ipynb\" target=\"_blank\">more info</a>.</p>\n"
            ],
            "text/plain": [
              "<IPython.core.display.HTML object>"
            ]
          },
          "metadata": {
            "tags": []
          }
        },
        {
          "output_type": "stream",
          "text": [
            "Using TensorFlow backend.\n"
          ],
          "name": "stderr"
        }
      ]
    },
    {
      "cell_type": "markdown",
      "metadata": {
        "id": "_DME-inQ4ke_",
        "colab_type": "text"
      },
      "source": [
        "#Load data"
      ]
    },
    {
      "cell_type": "code",
      "metadata": {
        "id": "7Hq45TSf3WcR",
        "colab_type": "code",
        "outputId": "ad99beb6-dd0f-485f-e4c3-264700a9dc9d",
        "colab": {
          "base_uri": "https://localhost:8080/",
          "height": 147
        }
      },
      "source": [
        "#load data from Drive\n",
        "from google.colab import drive\n",
        "drive.mount('/gdrive')\n",
        "%cd /gdrive"
      ],
      "execution_count": 0,
      "outputs": [
        {
          "output_type": "stream",
          "text": [
            "Go to this URL in a browser: https://accounts.google.com/o/oauth2/auth?client_id=947318989803-6bn6qk8qdgf4n4g3pfee6491hc0brc4i.apps.googleusercontent.com&redirect_uri=urn%3aietf%3awg%3aoauth%3a2.0%3aoob&response_type=code&scope=email%20https%3a%2f%2fwww.googleapis.com%2fauth%2fdocs.test%20https%3a%2f%2fwww.googleapis.com%2fauth%2fdrive%20https%3a%2f%2fwww.googleapis.com%2fauth%2fdrive.photos.readonly%20https%3a%2f%2fwww.googleapis.com%2fauth%2fpeopleapi.readonly\n",
            "\n",
            "Enter your authorization code:\n",
            "··········\n",
            "Mounted at /gdrive\n",
            "/gdrive\n"
          ],
          "name": "stdout"
        }
      ]
    },
    {
      "cell_type": "code",
      "metadata": {
        "id": "UCkUXesZhMzg",
        "colab_type": "code",
        "colab": {}
      },
      "source": [
        "train_dataset_path = '/gdrive/My Drive/AIM_PA/database_training2.csv'\n",
        "test_dataset_path = '/gdrive/My Drive/AIM_PA/database_nostro_without_nan.csv'"
      ],
      "execution_count": 0,
      "outputs": []
    },
    {
      "cell_type": "code",
      "metadata": {
        "id": "TczPxOpEhTXw",
        "colab_type": "code",
        "colab": {}
      },
      "source": [
        "df_train = pd.read_csv(train_dataset_path)\n",
        "df_test = pd.read_csv(test_dataset_path)"
      ],
      "execution_count": 0,
      "outputs": []
    },
    {
      "cell_type": "code",
      "metadata": {
        "id": "9I5MNxeW3j2G",
        "colab_type": "code",
        "colab": {}
      },
      "source": [
        "df_train.rename(columns={'Survival.time (months)':'Surv_time_months'}, inplace=True)"
      ],
      "execution_count": 0,
      "outputs": []
    },
    {
      "cell_type": "code",
      "metadata": {
        "id": "TLxDyFPo3sU9",
        "colab_type": "code",
        "colab": {}
      },
      "source": [
        "df_test.rename(columns={'Survival.time (months)':'Surv_time_months'}, inplace=True)"
      ],
      "execution_count": 0,
      "outputs": []
    },
    {
      "cell_type": "code",
      "metadata": {
        "id": "oXU_B2k03uYa",
        "colab_type": "code",
        "colab": {}
      },
      "source": [
        "df_train.rename(columns={'Overall.Stage':'Overall_Stage'}, inplace=True)\n",
        "df_test.rename(columns={'Overall.Stage':'Overall_Stage'}, inplace=True)"
      ],
      "execution_count": 0,
      "outputs": []
    },
    {
      "cell_type": "code",
      "metadata": {
        "id": "T1YCrOMP3_4q",
        "colab_type": "code",
        "colab": {}
      },
      "source": [
        "public_data = df_train.drop(['Histology', 'Surv_time_months', 'OS', 'deadstatus.event','Overall_Stage'], axis=1)"
      ],
      "execution_count": 0,
      "outputs": []
    },
    {
      "cell_type": "code",
      "metadata": {
        "id": "BWj1mwjV4Mzo",
        "colab_type": "code",
        "colab": {}
      },
      "source": [
        "PA_data = df_test.drop(['Histology', 'Surv_time_months', 'OS', 'deadstatus.event','Overall_Stage'], axis=1)"
      ],
      "execution_count": 0,
      "outputs": []
    },
    {
      "cell_type": "code",
      "metadata": {
        "id": "dKdS4Low4PHh",
        "colab_type": "code",
        "colab": {}
      },
      "source": [
        "public_labels = df_train.Histology"
      ],
      "execution_count": 0,
      "outputs": []
    },
    {
      "cell_type": "code",
      "metadata": {
        "id": "K6EsAdEt4RNP",
        "colab_type": "code",
        "colab": {}
      },
      "source": [
        "PA_labels = df_test.Histology"
      ],
      "execution_count": 0,
      "outputs": []
    },
    {
      "cell_type": "markdown",
      "metadata": {
        "id": "tqDYyNd6_3s4",
        "colab_type": "text"
      },
      "source": [
        "#Train Test Split"
      ]
    },
    {
      "cell_type": "code",
      "metadata": {
        "id": "_7I8R-jd_3Hd",
        "colab_type": "code",
        "colab": {}
      },
      "source": [
        "from sklearn.model_selection import train_test_split"
      ],
      "execution_count": 0,
      "outputs": []
    },
    {
      "cell_type": "code",
      "metadata": {
        "id": "_bnO8hgZ__GF",
        "colab_type": "code",
        "colab": {}
      },
      "source": [
        "X_train_big, X_test, y_train_big, y_test = train_test_split(public_data, public_labels, test_size=13, stratify=public_labels, random_state=1)"
      ],
      "execution_count": 0,
      "outputs": []
    },
    {
      "cell_type": "markdown",
      "metadata": {
        "id": "pMuRNXFjVEiK",
        "colab_type": "text"
      },
      "source": [
        "#Train Validation Split"
      ]
    },
    {
      "cell_type": "code",
      "metadata": {
        "colab_type": "code",
        "id": "ovpVx4a7VMkl",
        "colab": {}
      },
      "source": [
        "from sklearn.model_selection import train_test_split"
      ],
      "execution_count": 0,
      "outputs": []
    },
    {
      "cell_type": "code",
      "metadata": {
        "colab_type": "code",
        "id": "S3Tq1lHxVMlu",
        "colab": {}
      },
      "source": [
        "X_train, X_val, y_train, y_val = train_test_split(X_train_big, y_train_big, test_size=13, stratify=y_train_big, random_state=2)                                                         "
      ],
      "execution_count": 0,
      "outputs": []
    },
    {
      "cell_type": "markdown",
      "metadata": {
        "id": "dtPx7PMDnXM3",
        "colab_type": "text"
      },
      "source": [
        "#Z score dei dati"
      ]
    },
    {
      "cell_type": "code",
      "metadata": {
        "id": "XK4Qji2EnVV4",
        "colab_type": "code",
        "outputId": "b320ab97-6fab-4b46-f154-c539560487d2",
        "colab": {
          "base_uri": "https://localhost:8080/",
          "height": 229
        }
      },
      "source": [
        "mean = X_train_1.mean(axis=0)\n",
        "train_data_stand = X_train - mean\n",
        "std = X_train.std(axis=0)\n",
        "train_data_stand /= std"
      ],
      "execution_count": 0,
      "outputs": [
        {
          "output_type": "error",
          "ename": "NameError",
          "evalue": "ignored",
          "traceback": [
            "\u001b[0;31m---------------------------------------------------------------------------\u001b[0m",
            "\u001b[0;31mNameError\u001b[0m                                 Traceback (most recent call last)",
            "\u001b[0;32m<ipython-input-17-9fb161c492be>\u001b[0m in \u001b[0;36m<module>\u001b[0;34m()\u001b[0m\n\u001b[0;32m----> 1\u001b[0;31m \u001b[0mmean\u001b[0m \u001b[0;34m=\u001b[0m \u001b[0mX_train_1\u001b[0m\u001b[0;34m.\u001b[0m\u001b[0mmean\u001b[0m\u001b[0;34m(\u001b[0m\u001b[0maxis\u001b[0m\u001b[0;34m=\u001b[0m\u001b[0;36m0\u001b[0m\u001b[0;34m)\u001b[0m\u001b[0;34m\u001b[0m\u001b[0;34m\u001b[0m\u001b[0m\n\u001b[0m\u001b[1;32m      2\u001b[0m \u001b[0mtrain_data_stand\u001b[0m \u001b[0;34m=\u001b[0m \u001b[0mX_train\u001b[0m \u001b[0;34m-\u001b[0m \u001b[0mmean\u001b[0m\u001b[0;34m\u001b[0m\u001b[0;34m\u001b[0m\u001b[0m\n\u001b[1;32m      3\u001b[0m \u001b[0mstd\u001b[0m \u001b[0;34m=\u001b[0m \u001b[0mX_train\u001b[0m\u001b[0;34m.\u001b[0m\u001b[0mstd\u001b[0m\u001b[0;34m(\u001b[0m\u001b[0maxis\u001b[0m\u001b[0;34m=\u001b[0m\u001b[0;36m0\u001b[0m\u001b[0;34m)\u001b[0m\u001b[0;34m\u001b[0m\u001b[0;34m\u001b[0m\u001b[0m\n\u001b[1;32m      4\u001b[0m \u001b[0mtrain_data_stand\u001b[0m \u001b[0;34m/=\u001b[0m \u001b[0mstd\u001b[0m\u001b[0;34m\u001b[0m\u001b[0;34m\u001b[0m\u001b[0m\n",
            "\u001b[0;31mNameError\u001b[0m: name 'X_train_1' is not defined"
          ]
        }
      ]
    },
    {
      "cell_type": "code",
      "metadata": {
        "id": "jaqeWiaXXGy0",
        "colab_type": "code",
        "outputId": "30b9da23-c3c5-4ebb-81cd-0db415b9c13e",
        "colab": {
          "base_uri": "https://localhost:8080/",
          "height": 193
        }
      },
      "source": [
        "val_data_stand = X_val - mean\n",
        "val_data_stand /= std"
      ],
      "execution_count": 0,
      "outputs": [
        {
          "output_type": "error",
          "ename": "NameError",
          "evalue": "ignored",
          "traceback": [
            "\u001b[0;31m---------------------------------------------------------------------------\u001b[0m",
            "\u001b[0;31mNameError\u001b[0m                                 Traceback (most recent call last)",
            "\u001b[0;32m<ipython-input-20-1e8e2a7c3a80>\u001b[0m in \u001b[0;36m<module>\u001b[0;34m()\u001b[0m\n\u001b[0;32m----> 1\u001b[0;31m \u001b[0mval_data_stand\u001b[0m \u001b[0;34m=\u001b[0m \u001b[0mX_val\u001b[0m \u001b[0;34m-\u001b[0m \u001b[0mmean\u001b[0m\u001b[0;34m\u001b[0m\u001b[0;34m\u001b[0m\u001b[0m\n\u001b[0m\u001b[1;32m      2\u001b[0m \u001b[0mval_data_stand\u001b[0m \u001b[0;34m/=\u001b[0m \u001b[0mstd\u001b[0m\u001b[0;34m\u001b[0m\u001b[0;34m\u001b[0m\u001b[0m\n",
            "\u001b[0;31mNameError\u001b[0m: name 'mean' is not defined"
          ]
        }
      ]
    },
    {
      "cell_type": "code",
      "metadata": {
        "id": "YOVOoNOvm0Yx",
        "colab_type": "code",
        "outputId": "5db0f954-c012-4cb5-d5c2-b3a70c72a14f",
        "colab": {
          "base_uri": "https://localhost:8080/",
          "height": 193
        }
      },
      "source": [
        "test_data_stand = X_test - mean\n",
        "test_data_stand /= std"
      ],
      "execution_count": 0,
      "outputs": [
        {
          "output_type": "error",
          "ename": "NameError",
          "evalue": "ignored",
          "traceback": [
            "\u001b[0;31m---------------------------------------------------------------------------\u001b[0m",
            "\u001b[0;31mNameError\u001b[0m                                 Traceback (most recent call last)",
            "\u001b[0;32m<ipython-input-21-05b0ce8783a3>\u001b[0m in \u001b[0;36m<module>\u001b[0;34m()\u001b[0m\n\u001b[0;32m----> 1\u001b[0;31m \u001b[0mtest_data_stand\u001b[0m \u001b[0;34m=\u001b[0m \u001b[0mX_test\u001b[0m \u001b[0;34m-\u001b[0m \u001b[0mmean\u001b[0m\u001b[0;34m\u001b[0m\u001b[0;34m\u001b[0m\u001b[0m\n\u001b[0m\u001b[1;32m      2\u001b[0m \u001b[0mtest_data_stand\u001b[0m \u001b[0;34m/=\u001b[0m \u001b[0mstd\u001b[0m\u001b[0;34m\u001b[0m\u001b[0;34m\u001b[0m\u001b[0m\n",
            "\u001b[0;31mNameError\u001b[0m: name 'mean' is not defined"
          ]
        }
      ]
    },
    {
      "cell_type": "markdown",
      "metadata": {
        "id": "5kvXfgKi2uWa",
        "colab_type": "text"
      },
      "source": [
        "##LDA"
      ]
    },
    {
      "cell_type": "code",
      "metadata": {
        "id": "hYTGbSu22w34",
        "colab_type": "code",
        "colab": {}
      },
      "source": [
        "from sklearn.discriminant_analysis import LinearDiscriminantAnalysis"
      ],
      "execution_count": 0,
      "outputs": []
    },
    {
      "cell_type": "code",
      "metadata": {
        "id": "TMCI-ALj23N1",
        "colab_type": "code",
        "colab": {}
      },
      "source": [
        "lda = LinearDiscriminantAnalysis(n_components=3)"
      ],
      "execution_count": 0,
      "outputs": []
    },
    {
      "cell_type": "code",
      "metadata": {
        "id": "EqcJWjWj3rvS",
        "colab_type": "code",
        "outputId": "713f09e6-5367-4c72-dc14-07aa57367b97",
        "colab": {
          "base_uri": "https://localhost:8080/",
          "height": 174
        }
      },
      "source": [
        "train_data_stand_lda = lda.fit(train_data_stand, y_train).transform(train_data_stand)"
      ],
      "execution_count": 0,
      "outputs": [
        {
          "output_type": "error",
          "ename": "NameError",
          "evalue": "ignored",
          "traceback": [
            "\u001b[0;31m---------------------------------------------------------------------------\u001b[0m",
            "\u001b[0;31mNameError\u001b[0m                                 Traceback (most recent call last)",
            "\u001b[0;32m<ipython-input-24-3bbc96f90a99>\u001b[0m in \u001b[0;36m<module>\u001b[0;34m()\u001b[0m\n\u001b[0;32m----> 1\u001b[0;31m \u001b[0mtrain_data_stand_lda\u001b[0m \u001b[0;34m=\u001b[0m \u001b[0mlda\u001b[0m\u001b[0;34m.\u001b[0m\u001b[0mfit\u001b[0m\u001b[0;34m(\u001b[0m\u001b[0mtrain_data_stand\u001b[0m\u001b[0;34m,\u001b[0m \u001b[0my_train\u001b[0m\u001b[0;34m)\u001b[0m\u001b[0;34m.\u001b[0m\u001b[0mtransform\u001b[0m\u001b[0;34m(\u001b[0m\u001b[0mtrain_data_stand\u001b[0m\u001b[0;34m)\u001b[0m\u001b[0;34m\u001b[0m\u001b[0;34m\u001b[0m\u001b[0m\n\u001b[0m",
            "\u001b[0;31mNameError\u001b[0m: name 'train_data_stand' is not defined"
          ]
        }
      ]
    },
    {
      "cell_type": "code",
      "metadata": {
        "id": "3opFZvVx45TC",
        "colab_type": "code",
        "outputId": "1d339431-a448-4d37-add9-7d420fd4efaa",
        "colab": {
          "base_uri": "https://localhost:8080/",
          "height": 174
        }
      },
      "source": [
        "train_data_stand_lda.shape"
      ],
      "execution_count": 0,
      "outputs": [
        {
          "output_type": "error",
          "ename": "NameError",
          "evalue": "ignored",
          "traceback": [
            "\u001b[0;31m---------------------------------------------------------------------------\u001b[0m",
            "\u001b[0;31mNameError\u001b[0m                                 Traceback (most recent call last)",
            "\u001b[0;32m<ipython-input-25-df608e2fb6f2>\u001b[0m in \u001b[0;36m<module>\u001b[0;34m()\u001b[0m\n\u001b[0;32m----> 1\u001b[0;31m \u001b[0mtrain_data_stand_lda\u001b[0m\u001b[0;34m.\u001b[0m\u001b[0mshape\u001b[0m\u001b[0;34m\u001b[0m\u001b[0;34m\u001b[0m\u001b[0m\n\u001b[0m",
            "\u001b[0;31mNameError\u001b[0m: name 'train_data_stand_lda' is not defined"
          ]
        }
      ]
    },
    {
      "cell_type": "code",
      "metadata": {
        "id": "E0UwBbCjf13g",
        "colab_type": "code",
        "outputId": "dfd6edd6-827c-4146-b051-1689bd755c74",
        "colab": {
          "base_uri": "https://localhost:8080/",
          "height": 174
        }
      },
      "source": [
        "val_data_stand_lda = lda.transform(val_data_stand)"
      ],
      "execution_count": 0,
      "outputs": [
        {
          "output_type": "error",
          "ename": "NameError",
          "evalue": "ignored",
          "traceback": [
            "\u001b[0;31m---------------------------------------------------------------------------\u001b[0m",
            "\u001b[0;31mNameError\u001b[0m                                 Traceback (most recent call last)",
            "\u001b[0;32m<ipython-input-18-5a5dadae9898>\u001b[0m in \u001b[0;36m<module>\u001b[0;34m()\u001b[0m\n\u001b[0;32m----> 1\u001b[0;31m \u001b[0mval_data_stand_lda\u001b[0m \u001b[0;34m=\u001b[0m \u001b[0mlda\u001b[0m\u001b[0;34m.\u001b[0m\u001b[0mtransform\u001b[0m\u001b[0;34m(\u001b[0m\u001b[0mval_data_stand\u001b[0m\u001b[0;34m)\u001b[0m\u001b[0;34m\u001b[0m\u001b[0;34m\u001b[0m\u001b[0m\n\u001b[0m",
            "\u001b[0;31mNameError\u001b[0m: name 'lda' is not defined"
          ]
        }
      ]
    },
    {
      "cell_type": "code",
      "metadata": {
        "id": "cjpMHM6iqbbC",
        "colab_type": "code",
        "outputId": "6ec5940f-790f-421c-f738-111a2b887d2a",
        "colab": {
          "base_uri": "https://localhost:8080/",
          "height": 174
        }
      },
      "source": [
        "test_data_stand_lda = lda.transform(test_data_stand)"
      ],
      "execution_count": 0,
      "outputs": [
        {
          "output_type": "error",
          "ename": "NameError",
          "evalue": "ignored",
          "traceback": [
            "\u001b[0;31m---------------------------------------------------------------------------\u001b[0m",
            "\u001b[0;31mNameError\u001b[0m                                 Traceback (most recent call last)",
            "\u001b[0;32m<ipython-input-19-37b65ed0c634>\u001b[0m in \u001b[0;36m<module>\u001b[0;34m()\u001b[0m\n\u001b[0;32m----> 1\u001b[0;31m \u001b[0mtest_data_stand_lda\u001b[0m \u001b[0;34m=\u001b[0m \u001b[0mlda\u001b[0m\u001b[0;34m.\u001b[0m\u001b[0mtransform\u001b[0m\u001b[0;34m(\u001b[0m\u001b[0mtest_data_stand\u001b[0m\u001b[0;34m)\u001b[0m\u001b[0;34m\u001b[0m\u001b[0;34m\u001b[0m\u001b[0m\n\u001b[0m",
            "\u001b[0;31mNameError\u001b[0m: name 'lda' is not defined"
          ]
        }
      ]
    },
    {
      "cell_type": "markdown",
      "metadata": {
        "id": "WF5fsvoQwBqR",
        "colab_type": "text"
      },
      "source": [
        "#Z-score dopo LDA"
      ]
    },
    {
      "cell_type": "code",
      "metadata": {
        "id": "Bw8_CwJZwBD1",
        "colab_type": "code",
        "colab": {}
      },
      "source": [
        "mean = train_data_stand_lda.mean(axis=0)\n",
        "std = train_data_stand_lda.std(axis=0)\n",
        "train_data_stand_lda = train_data_stand_lda - mean\n",
        "train_data_stand_lda /= std"
      ],
      "execution_count": 0,
      "outputs": []
    },
    {
      "cell_type": "code",
      "metadata": {
        "id": "3KW2c_RIXpWy",
        "colab_type": "code",
        "colab": {}
      },
      "source": [
        "val_data_stand_lda = val_data_stand_lda - mean\n",
        "val_data_stand_lda /= std"
      ],
      "execution_count": 0,
      "outputs": []
    },
    {
      "cell_type": "code",
      "metadata": {
        "id": "H3wGNwiWXvbo",
        "colab_type": "code",
        "colab": {}
      },
      "source": [
        "test_data_stand_lda = test_data_stand_lda - mean\n",
        "test_data_stand_lda /= std"
      ],
      "execution_count": 0,
      "outputs": []
    },
    {
      "cell_type": "markdown",
      "metadata": {
        "id": "00VohsAyokpq",
        "colab_type": "text"
      },
      "source": [
        "##Vettorizzare i label"
      ]
    },
    {
      "cell_type": "code",
      "metadata": {
        "id": "8RvS_9ISpxRi",
        "colab_type": "code",
        "colab": {}
      },
      "source": [
        "word_index={'adenocarcinoma':0, 'large cell':1, 'squamous cell carcinoma':2}"
      ],
      "execution_count": 0,
      "outputs": []
    },
    {
      "cell_type": "code",
      "metadata": {
        "id": "uiPW9U0XrWY2",
        "colab_type": "code",
        "colab": {}
      },
      "source": [
        "train_labels_dec = [word_index[label] for label in y_train]"
      ],
      "execution_count": 0,
      "outputs": []
    },
    {
      "cell_type": "code",
      "metadata": {
        "id": "wTLYdHX-mYtM",
        "colab_type": "code",
        "colab": {}
      },
      "source": [
        "val_labels_dec = [word_index[label] for label in y_val]"
      ],
      "execution_count": 0,
      "outputs": []
    },
    {
      "cell_type": "code",
      "metadata": {
        "id": "C4SBiKFQsKFw",
        "colab_type": "code",
        "colab": {}
      },
      "source": [
        "test_labels_dec = [word_index[label] for label in y_test]"
      ],
      "execution_count": 0,
      "outputs": []
    },
    {
      "cell_type": "code",
      "metadata": {
        "id": "0IMbTYR7okJq",
        "colab_type": "code",
        "colab": {}
      },
      "source": [
        "from keras.utils.np_utils import to_categorical"
      ],
      "execution_count": 0,
      "outputs": []
    },
    {
      "cell_type": "code",
      "metadata": {
        "id": "0Frv4FDNn6Qu",
        "colab_type": "code",
        "colab": {}
      },
      "source": [
        "one_hot_train_labels = to_categorical(train_labels_dec)\n",
        "one_hot_val_labels = to_categorical(val_labels_dec)\n",
        "one_hot_test_labels = to_categorical(test_labels_dec)"
      ],
      "execution_count": 0,
      "outputs": []
    },
    {
      "cell_type": "markdown",
      "metadata": {
        "colab_type": "text",
        "id": "5r_lV6xwmmPi"
      },
      "source": [
        "#Building Network"
      ]
    },
    {
      "cell_type": "code",
      "metadata": {
        "colab_type": "code",
        "id": "vOCMUAeUmmP0",
        "colab": {}
      },
      "source": [
        "import keras\n",
        "from keras import layers\n",
        "from keras.preprocessing import sequence"
      ],
      "execution_count": 0,
      "outputs": []
    },
    {
      "cell_type": "code",
      "metadata": {
        "colab_type": "code",
        "id": "OjW-IrxommQE",
        "colab": {}
      },
      "source": [
        "from keras import layers"
      ],
      "execution_count": 0,
      "outputs": []
    },
    {
      "cell_type": "code",
      "metadata": {
        "colab_type": "code",
        "id": "o-AuSahCmmQO",
        "colab": {}
      },
      "source": [
        "from keras import regularizers"
      ],
      "execution_count": 0,
      "outputs": []
    },
    {
      "cell_type": "code",
      "metadata": {
        "colab_type": "code",
        "id": "CUw7ZwNwmmQV",
        "colab": {}
      },
      "source": [
        "from keras.optimizers import SGD"
      ],
      "execution_count": 0,
      "outputs": []
    },
    {
      "cell_type": "code",
      "metadata": {
        "colab_type": "code",
        "id": "PfAdcrAmmmQc",
        "colab": {}
      },
      "source": [
        "def build_model():\n",
        "  model = keras.models.Sequential()\n",
        "  model.add(layers.Dense(4, activation='relu', input_shape=(2,)))\n",
        "  #model.add(layers.Dense(7, activation='relu'))\n",
        "  #model.add(layers.Dropout(rate=0.2))\n",
        "\n",
        "  model.add(layers.Dense(3, activation='softmax'))\n",
        "\n",
        "  sgd = SGD(lr=0.001, momentum=0.5)\n",
        "  \n",
        "  model.compile(optimizer=sgd, loss='categorical_crossentropy', metrics=['accuracy'])\n",
        "  return model"
      ],
      "execution_count": 0,
      "outputs": []
    },
    {
      "cell_type": "code",
      "metadata": {
        "id": "CTAd2LU_dEO2",
        "colab_type": "code",
        "colab": {}
      },
      "source": [
        "from keras.callbacks import ReduceLROnPlateau\n",
        "red_lr = ReduceLROnPlateau('val_loss', patience=10, verbose=1, min_lr=0.0001)"
      ],
      "execution_count": 0,
      "outputs": []
    },
    {
      "cell_type": "code",
      "metadata": {
        "id": "GF_sSb3CnLM2",
        "colab_type": "code",
        "outputId": "9a7379ea-3dd5-4d02-aafe-e5bb8969e992",
        "colab": {
          "base_uri": "https://localhost:8080/",
          "height": 34
        }
      },
      "source": [
        "one_hot_val_labels.shape"
      ],
      "execution_count": 0,
      "outputs": [
        {
          "output_type": "execute_result",
          "data": {
            "text/plain": [
              "(105, 3)"
            ]
          },
          "metadata": {
            "tags": []
          },
          "execution_count": 62
        }
      ]
    },
    {
      "cell_type": "code",
      "metadata": {
        "id": "35Hc4rG203_u",
        "colab_type": "code",
        "outputId": "15a93300-06ad-43b7-fdb1-6102a62dff54",
        "colab": {
          "base_uri": "https://localhost:8080/",
          "height": 1000
        }
      },
      "source": [
        "num_epochs = 180\n",
        "\n",
        "model = build_model()\n",
        "history = model.fit(train_data_stand_lda, one_hot_train_labels, validation_data=(val_data_stand_lda, one_hot_val_labels), \n",
        "                      epochs= num_epochs, batch_size=1, callbacks=[red_lr])\n",
        "  \n",
        "\n",
        "acc_history = history.history['acc']\n",
        "loss_history = history.history['loss']\n",
        "acc_val_history = history.history['val_acc']\n",
        "loss_val_history = history.history['val_loss']\n"
      ],
      "execution_count": 0,
      "outputs": [
        {
          "output_type": "stream",
          "text": [
            "Train on 105 samples, validate on 13 samples\n",
            "Epoch 1/180\n",
            "105/105 [==============================] - 0s 4ms/step - loss: 1.3599 - acc: 0.1143 - val_loss: 4.0419 - val_acc: 0.0769\n",
            "Epoch 2/180\n",
            "105/105 [==============================] - 0s 921us/step - loss: 1.1282 - acc: 0.1143 - val_loss: 3.6833 - val_acc: 0.1538\n",
            "Epoch 3/180\n",
            "105/105 [==============================] - 0s 973us/step - loss: 0.9610 - acc: 0.1524 - val_loss: 3.2111 - val_acc: 0.2308\n",
            "Epoch 4/180\n",
            "105/105 [==============================] - 0s 1ms/step - loss: 0.8387 - acc: 0.4571 - val_loss: 2.8336 - val_acc: 0.2308\n",
            "Epoch 5/180\n",
            "105/105 [==============================] - 0s 977us/step - loss: 0.7469 - acc: 0.8667 - val_loss: 2.6660 - val_acc: 0.2308\n",
            "Epoch 6/180\n",
            "105/105 [==============================] - 0s 1ms/step - loss: 0.6760 - acc: 0.9524 - val_loss: 2.6509 - val_acc: 0.2308\n",
            "Epoch 7/180\n",
            "105/105 [==============================] - 0s 1ms/step - loss: 0.6194 - acc: 0.9810 - val_loss: 2.6473 - val_acc: 0.1538\n",
            "Epoch 8/180\n",
            "105/105 [==============================] - 0s 1ms/step - loss: 0.5729 - acc: 0.9905 - val_loss: 2.6447 - val_acc: 0.1538\n",
            "Epoch 9/180\n",
            "105/105 [==============================] - 0s 1ms/step - loss: 0.5338 - acc: 1.0000 - val_loss: 2.6416 - val_acc: 0.1538\n",
            "Epoch 10/180\n",
            "105/105 [==============================] - 0s 1ms/step - loss: 0.5000 - acc: 1.0000 - val_loss: 2.6421 - val_acc: 0.1538\n",
            "Epoch 11/180\n",
            "105/105 [==============================] - 0s 1ms/step - loss: 0.4703 - acc: 1.0000 - val_loss: 2.6448 - val_acc: 0.1538\n",
            "Epoch 12/180\n",
            "105/105 [==============================] - 0s 1ms/step - loss: 0.4441 - acc: 1.0000 - val_loss: 2.6489 - val_acc: 0.1538\n",
            "Epoch 13/180\n",
            "105/105 [==============================] - 0s 1ms/step - loss: 0.4204 - acc: 1.0000 - val_loss: 2.6547 - val_acc: 0.1538\n",
            "Epoch 14/180\n",
            "105/105 [==============================] - 0s 1ms/step - loss: 0.3988 - acc: 1.0000 - val_loss: 2.6621 - val_acc: 0.1538\n",
            "Epoch 15/180\n",
            "105/105 [==============================] - 0s 1ms/step - loss: 0.3791 - acc: 1.0000 - val_loss: 2.6689 - val_acc: 0.1538\n",
            "Epoch 16/180\n",
            "105/105 [==============================] - 0s 1ms/step - loss: 0.3610 - acc: 1.0000 - val_loss: 2.6774 - val_acc: 0.1538\n",
            "Epoch 17/180\n",
            "105/105 [==============================] - 0s 1ms/step - loss: 0.3444 - acc: 1.0000 - val_loss: 2.6862 - val_acc: 0.1538\n",
            "Epoch 18/180\n",
            "105/105 [==============================] - 0s 1ms/step - loss: 0.3289 - acc: 1.0000 - val_loss: 2.6942 - val_acc: 0.1538\n",
            "Epoch 19/180\n",
            "105/105 [==============================] - 0s 1ms/step - loss: 0.3146 - acc: 1.0000 - val_loss: 2.7043 - val_acc: 0.1538\n",
            "\n",
            "Epoch 00019: ReduceLROnPlateau reducing learning rate to 0.00010000000474974513.\n",
            "Epoch 20/180\n",
            "105/105 [==============================] - 0s 978us/step - loss: 0.3068 - acc: 1.0000 - val_loss: 2.7053 - val_acc: 0.1538\n",
            "Epoch 21/180\n",
            "105/105 [==============================] - 0s 1ms/step - loss: 0.3054 - acc: 1.0000 - val_loss: 2.7062 - val_acc: 0.1538\n",
            "Epoch 22/180\n",
            "105/105 [==============================] - 0s 989us/step - loss: 0.3041 - acc: 1.0000 - val_loss: 2.7072 - val_acc: 0.1538\n",
            "Epoch 23/180\n",
            "105/105 [==============================] - 0s 1ms/step - loss: 0.3028 - acc: 1.0000 - val_loss: 2.7082 - val_acc: 0.1538\n",
            "Epoch 24/180\n",
            "105/105 [==============================] - 0s 1ms/step - loss: 0.3015 - acc: 1.0000 - val_loss: 2.7091 - val_acc: 0.1538\n",
            "Epoch 25/180\n",
            "105/105 [==============================] - 0s 1ms/step - loss: 0.3002 - acc: 1.0000 - val_loss: 2.7101 - val_acc: 0.1538\n",
            "Epoch 26/180\n",
            "105/105 [==============================] - 0s 979us/step - loss: 0.2990 - acc: 1.0000 - val_loss: 2.7112 - val_acc: 0.1538\n",
            "Epoch 27/180\n",
            "105/105 [==============================] - 0s 1ms/step - loss: 0.2977 - acc: 1.0000 - val_loss: 2.7122 - val_acc: 0.1538\n",
            "Epoch 28/180\n",
            "105/105 [==============================] - 0s 1ms/step - loss: 0.2964 - acc: 1.0000 - val_loss: 2.7133 - val_acc: 0.1538\n",
            "Epoch 29/180\n",
            "105/105 [==============================] - 0s 1ms/step - loss: 0.2952 - acc: 1.0000 - val_loss: 2.7142 - val_acc: 0.1538\n",
            "\n",
            "Epoch 00029: ReduceLROnPlateau reducing learning rate to 0.0001.\n",
            "Epoch 30/180\n",
            "105/105 [==============================] - 0s 1ms/step - loss: 0.2939 - acc: 1.0000 - val_loss: 2.7152 - val_acc: 0.1538\n",
            "Epoch 31/180\n",
            "105/105 [==============================] - 0s 1ms/step - loss: 0.2927 - acc: 1.0000 - val_loss: 2.7162 - val_acc: 0.1538\n",
            "Epoch 32/180\n",
            "105/105 [==============================] - 0s 1ms/step - loss: 0.2915 - acc: 1.0000 - val_loss: 2.7173 - val_acc: 0.1538\n",
            "Epoch 33/180\n",
            "105/105 [==============================] - 0s 1ms/step - loss: 0.2902 - acc: 1.0000 - val_loss: 2.7183 - val_acc: 0.1538\n",
            "Epoch 34/180\n",
            "105/105 [==============================] - 0s 1ms/step - loss: 0.2890 - acc: 1.0000 - val_loss: 2.7193 - val_acc: 0.1538\n",
            "Epoch 35/180\n",
            "105/105 [==============================] - 0s 1ms/step - loss: 0.2878 - acc: 1.0000 - val_loss: 2.7205 - val_acc: 0.1538\n",
            "Epoch 36/180\n",
            "105/105 [==============================] - 0s 944us/step - loss: 0.2866 - acc: 1.0000 - val_loss: 2.7215 - val_acc: 0.1538\n",
            "Epoch 37/180\n",
            "105/105 [==============================] - 0s 1ms/step - loss: 0.2854 - acc: 1.0000 - val_loss: 2.7224 - val_acc: 0.1538\n",
            "Epoch 38/180\n",
            "105/105 [==============================] - 0s 1ms/step - loss: 0.2843 - acc: 1.0000 - val_loss: 2.7235 - val_acc: 0.1538\n",
            "Epoch 39/180\n",
            "105/105 [==============================] - 0s 958us/step - loss: 0.2831 - acc: 1.0000 - val_loss: 2.7246 - val_acc: 0.1538\n",
            "Epoch 40/180\n",
            "105/105 [==============================] - 0s 965us/step - loss: 0.2819 - acc: 1.0000 - val_loss: 2.7257 - val_acc: 0.1538\n",
            "Epoch 41/180\n",
            "105/105 [==============================] - 0s 1ms/step - loss: 0.2808 - acc: 1.0000 - val_loss: 2.7268 - val_acc: 0.1538\n",
            "Epoch 42/180\n",
            "105/105 [==============================] - 0s 1ms/step - loss: 0.2796 - acc: 1.0000 - val_loss: 2.7278 - val_acc: 0.1538\n",
            "Epoch 43/180\n",
            "105/105 [==============================] - 0s 1ms/step - loss: 0.2785 - acc: 1.0000 - val_loss: 2.7289 - val_acc: 0.1538\n",
            "Epoch 44/180\n",
            "105/105 [==============================] - 0s 1ms/step - loss: 0.2773 - acc: 1.0000 - val_loss: 2.7300 - val_acc: 0.1538\n",
            "Epoch 45/180\n",
            "105/105 [==============================] - 0s 1ms/step - loss: 0.2762 - acc: 1.0000 - val_loss: 2.7311 - val_acc: 0.1538\n",
            "Epoch 46/180\n",
            "105/105 [==============================] - 0s 1ms/step - loss: 0.2751 - acc: 1.0000 - val_loss: 2.7322 - val_acc: 0.1538\n",
            "Epoch 47/180\n",
            "105/105 [==============================] - 0s 1ms/step - loss: 0.2740 - acc: 1.0000 - val_loss: 2.7333 - val_acc: 0.1538\n",
            "Epoch 48/180\n",
            "105/105 [==============================] - 0s 1ms/step - loss: 0.2729 - acc: 1.0000 - val_loss: 2.7345 - val_acc: 0.1538\n",
            "Epoch 49/180\n",
            "105/105 [==============================] - 0s 1ms/step - loss: 0.2718 - acc: 1.0000 - val_loss: 2.7356 - val_acc: 0.1538\n",
            "Epoch 50/180\n",
            "105/105 [==============================] - 0s 1ms/step - loss: 0.2707 - acc: 1.0000 - val_loss: 2.7367 - val_acc: 0.1538\n",
            "Epoch 51/180\n",
            "105/105 [==============================] - 0s 993us/step - loss: 0.2696 - acc: 1.0000 - val_loss: 2.7378 - val_acc: 0.1538\n",
            "Epoch 52/180\n",
            "105/105 [==============================] - 0s 994us/step - loss: 0.2685 - acc: 1.0000 - val_loss: 2.7389 - val_acc: 0.1538\n",
            "Epoch 53/180\n",
            "105/105 [==============================] - 0s 1ms/step - loss: 0.2675 - acc: 1.0000 - val_loss: 2.7400 - val_acc: 0.1538\n",
            "Epoch 54/180\n",
            "105/105 [==============================] - 0s 1ms/step - loss: 0.2664 - acc: 1.0000 - val_loss: 2.7412 - val_acc: 0.1538\n",
            "Epoch 55/180\n",
            "105/105 [==============================] - 0s 1ms/step - loss: 0.2653 - acc: 1.0000 - val_loss: 2.7424 - val_acc: 0.1538\n",
            "Epoch 56/180\n",
            "105/105 [==============================] - 0s 1ms/step - loss: 0.2643 - acc: 1.0000 - val_loss: 2.7434 - val_acc: 0.1538\n",
            "Epoch 57/180\n",
            "105/105 [==============================] - 0s 1ms/step - loss: 0.2632 - acc: 1.0000 - val_loss: 2.7446 - val_acc: 0.1538\n",
            "Epoch 58/180\n",
            "105/105 [==============================] - 0s 1ms/step - loss: 0.2622 - acc: 1.0000 - val_loss: 2.7458 - val_acc: 0.1538\n",
            "Epoch 59/180\n",
            "105/105 [==============================] - 0s 1ms/step - loss: 0.2612 - acc: 1.0000 - val_loss: 2.7470 - val_acc: 0.1538\n",
            "Epoch 60/180\n",
            "105/105 [==============================] - 0s 991us/step - loss: 0.2601 - acc: 1.0000 - val_loss: 2.7482 - val_acc: 0.1538\n",
            "Epoch 61/180\n",
            "105/105 [==============================] - 0s 1ms/step - loss: 0.2591 - acc: 1.0000 - val_loss: 2.7493 - val_acc: 0.1538\n",
            "Epoch 62/180\n",
            "105/105 [==============================] - 0s 1ms/step - loss: 0.2581 - acc: 1.0000 - val_loss: 2.7505 - val_acc: 0.1538\n",
            "Epoch 63/180\n",
            "105/105 [==============================] - 0s 1ms/step - loss: 0.2571 - acc: 1.0000 - val_loss: 2.7517 - val_acc: 0.1538\n",
            "Epoch 64/180\n",
            "105/105 [==============================] - 0s 987us/step - loss: 0.2561 - acc: 1.0000 - val_loss: 2.7528 - val_acc: 0.1538\n",
            "Epoch 65/180\n",
            "105/105 [==============================] - 0s 1ms/step - loss: 0.2551 - acc: 1.0000 - val_loss: 2.7540 - val_acc: 0.1538\n",
            "Epoch 66/180\n",
            "105/105 [==============================] - 0s 1ms/step - loss: 0.2541 - acc: 1.0000 - val_loss: 2.7552 - val_acc: 0.1538\n",
            "Epoch 67/180\n",
            "105/105 [==============================] - 0s 1ms/step - loss: 0.2532 - acc: 1.0000 - val_loss: 2.7564 - val_acc: 0.1538\n",
            "Epoch 68/180\n",
            "105/105 [==============================] - 0s 1ms/step - loss: 0.2522 - acc: 1.0000 - val_loss: 2.7576 - val_acc: 0.1538\n",
            "Epoch 69/180\n",
            "105/105 [==============================] - 0s 1ms/step - loss: 0.2512 - acc: 1.0000 - val_loss: 2.7588 - val_acc: 0.1538\n",
            "Epoch 70/180\n",
            "105/105 [==============================] - 0s 1ms/step - loss: 0.2502 - acc: 1.0000 - val_loss: 2.7599 - val_acc: 0.1538\n",
            "Epoch 71/180\n",
            "105/105 [==============================] - 0s 1ms/step - loss: 0.2493 - acc: 1.0000 - val_loss: 2.7612 - val_acc: 0.1538\n",
            "Epoch 72/180\n",
            "105/105 [==============================] - 0s 1ms/step - loss: 0.2483 - acc: 1.0000 - val_loss: 2.7624 - val_acc: 0.1538\n",
            "Epoch 73/180\n",
            "105/105 [==============================] - 0s 1ms/step - loss: 0.2474 - acc: 1.0000 - val_loss: 2.7636 - val_acc: 0.1538\n",
            "Epoch 74/180\n",
            "105/105 [==============================] - 0s 1ms/step - loss: 0.2465 - acc: 1.0000 - val_loss: 2.7648 - val_acc: 0.1538\n",
            "Epoch 75/180\n",
            "105/105 [==============================] - 0s 1ms/step - loss: 0.2455 - acc: 1.0000 - val_loss: 2.7661 - val_acc: 0.2308\n",
            "Epoch 76/180\n",
            "105/105 [==============================] - 0s 1ms/step - loss: 0.2446 - acc: 1.0000 - val_loss: 2.7673 - val_acc: 0.2308\n",
            "Epoch 77/180\n",
            "105/105 [==============================] - 0s 948us/step - loss: 0.2437 - acc: 1.0000 - val_loss: 2.7685 - val_acc: 0.2308\n",
            "Epoch 78/180\n",
            "105/105 [==============================] - 0s 974us/step - loss: 0.2428 - acc: 1.0000 - val_loss: 2.7698 - val_acc: 0.2308\n",
            "Epoch 79/180\n",
            "105/105 [==============================] - 0s 1ms/step - loss: 0.2418 - acc: 1.0000 - val_loss: 2.7710 - val_acc: 0.2308\n",
            "Epoch 80/180\n",
            "105/105 [==============================] - 0s 1000us/step - loss: 0.2409 - acc: 1.0000 - val_loss: 2.7722 - val_acc: 0.2308\n",
            "Epoch 81/180\n",
            "105/105 [==============================] - 0s 1ms/step - loss: 0.2400 - acc: 1.0000 - val_loss: 2.7735 - val_acc: 0.2308\n",
            "Epoch 82/180\n",
            "105/105 [==============================] - 0s 997us/step - loss: 0.2391 - acc: 1.0000 - val_loss: 2.7747 - val_acc: 0.2308\n",
            "Epoch 83/180\n",
            "105/105 [==============================] - 0s 1ms/step - loss: 0.2383 - acc: 1.0000 - val_loss: 2.7759 - val_acc: 0.2308\n",
            "Epoch 84/180\n",
            "105/105 [==============================] - 0s 1ms/step - loss: 0.2374 - acc: 1.0000 - val_loss: 2.7772 - val_acc: 0.2308\n",
            "Epoch 85/180\n",
            "105/105 [==============================] - 0s 1ms/step - loss: 0.2365 - acc: 1.0000 - val_loss: 2.7785 - val_acc: 0.2308\n",
            "Epoch 86/180\n",
            "105/105 [==============================] - 0s 1ms/step - loss: 0.2356 - acc: 1.0000 - val_loss: 2.7797 - val_acc: 0.2308\n",
            "Epoch 87/180\n",
            "105/105 [==============================] - 0s 1ms/step - loss: 0.2348 - acc: 1.0000 - val_loss: 2.7810 - val_acc: 0.2308\n",
            "Epoch 88/180\n",
            "105/105 [==============================] - 0s 1ms/step - loss: 0.2339 - acc: 1.0000 - val_loss: 2.7823 - val_acc: 0.3077\n",
            "Epoch 89/180\n",
            "105/105 [==============================] - 0s 1ms/step - loss: 0.2330 - acc: 1.0000 - val_loss: 2.7835 - val_acc: 0.3077\n",
            "Epoch 90/180\n",
            "105/105 [==============================] - 0s 1ms/step - loss: 0.2322 - acc: 1.0000 - val_loss: 2.7848 - val_acc: 0.3077\n",
            "Epoch 91/180\n",
            "105/105 [==============================] - 0s 1ms/step - loss: 0.2313 - acc: 1.0000 - val_loss: 2.7861 - val_acc: 0.3077\n",
            "Epoch 92/180\n",
            "105/105 [==============================] - 0s 1ms/step - loss: 0.2305 - acc: 1.0000 - val_loss: 2.7873 - val_acc: 0.3077\n",
            "Epoch 93/180\n",
            "105/105 [==============================] - 0s 1ms/step - loss: 0.2297 - acc: 1.0000 - val_loss: 2.7887 - val_acc: 0.3077\n",
            "Epoch 94/180\n",
            "105/105 [==============================] - 0s 996us/step - loss: 0.2288 - acc: 1.0000 - val_loss: 2.7899 - val_acc: 0.3077\n",
            "Epoch 95/180\n",
            "105/105 [==============================] - 0s 1ms/step - loss: 0.2280 - acc: 1.0000 - val_loss: 2.7912 - val_acc: 0.3077\n",
            "Epoch 96/180\n",
            "105/105 [==============================] - 0s 997us/step - loss: 0.2272 - acc: 1.0000 - val_loss: 2.7925 - val_acc: 0.3077\n",
            "Epoch 97/180\n",
            "105/105 [==============================] - 0s 1ms/step - loss: 0.2264 - acc: 1.0000 - val_loss: 2.7938 - val_acc: 0.3077\n",
            "Epoch 98/180\n",
            "105/105 [==============================] - 0s 1ms/step - loss: 0.2256 - acc: 1.0000 - val_loss: 2.7951 - val_acc: 0.3077\n",
            "Epoch 99/180\n",
            "105/105 [==============================] - 0s 1ms/step - loss: 0.2247 - acc: 1.0000 - val_loss: 2.7964 - val_acc: 0.3077\n",
            "Epoch 100/180\n",
            "105/105 [==============================] - 0s 1ms/step - loss: 0.2239 - acc: 1.0000 - val_loss: 2.7977 - val_acc: 0.3077\n",
            "Epoch 101/180\n",
            "105/105 [==============================] - 0s 1ms/step - loss: 0.2231 - acc: 1.0000 - val_loss: 2.7990 - val_acc: 0.3077\n",
            "Epoch 102/180\n",
            "105/105 [==============================] - 0s 1ms/step - loss: 0.2224 - acc: 1.0000 - val_loss: 2.8003 - val_acc: 0.3077\n",
            "Epoch 103/180\n",
            "105/105 [==============================] - 0s 1ms/step - loss: 0.2216 - acc: 1.0000 - val_loss: 2.8016 - val_acc: 0.3077\n",
            "Epoch 104/180\n",
            "105/105 [==============================] - 0s 1ms/step - loss: 0.2208 - acc: 1.0000 - val_loss: 2.8029 - val_acc: 0.3077\n",
            "Epoch 105/180\n",
            "105/105 [==============================] - 0s 1ms/step - loss: 0.2200 - acc: 1.0000 - val_loss: 2.8043 - val_acc: 0.3077\n",
            "Epoch 106/180\n",
            "105/105 [==============================] - 0s 1ms/step - loss: 0.2192 - acc: 1.0000 - val_loss: 2.8056 - val_acc: 0.3077\n",
            "Epoch 107/180\n",
            "105/105 [==============================] - 0s 1ms/step - loss: 0.2185 - acc: 1.0000 - val_loss: 2.8069 - val_acc: 0.3077\n",
            "Epoch 108/180\n",
            "105/105 [==============================] - 0s 1ms/step - loss: 0.2177 - acc: 1.0000 - val_loss: 2.8082 - val_acc: 0.3077\n",
            "Epoch 109/180\n",
            "105/105 [==============================] - 0s 1ms/step - loss: 0.2169 - acc: 1.0000 - val_loss: 2.8096 - val_acc: 0.3077\n",
            "Epoch 110/180\n",
            "105/105 [==============================] - 0s 1ms/step - loss: 0.2162 - acc: 1.0000 - val_loss: 2.8109 - val_acc: 0.3077\n",
            "Epoch 111/180\n",
            "105/105 [==============================] - 0s 1ms/step - loss: 0.2154 - acc: 1.0000 - val_loss: 2.8123 - val_acc: 0.3077\n",
            "Epoch 112/180\n",
            "105/105 [==============================] - 0s 983us/step - loss: 0.2147 - acc: 1.0000 - val_loss: 2.8135 - val_acc: 0.3077\n",
            "Epoch 113/180\n",
            "105/105 [==============================] - 0s 1ms/step - loss: 0.2139 - acc: 1.0000 - val_loss: 2.8149 - val_acc: 0.3077\n",
            "Epoch 114/180\n",
            "105/105 [==============================] - 0s 1ms/step - loss: 0.2132 - acc: 1.0000 - val_loss: 2.8162 - val_acc: 0.3077\n",
            "Epoch 115/180\n",
            "105/105 [==============================] - 0s 1ms/step - loss: 0.2124 - acc: 1.0000 - val_loss: 2.8176 - val_acc: 0.3077\n",
            "Epoch 116/180\n",
            "105/105 [==============================] - 0s 1ms/step - loss: 0.2117 - acc: 1.0000 - val_loss: 2.8189 - val_acc: 0.3077\n",
            "Epoch 117/180\n",
            "105/105 [==============================] - 0s 1ms/step - loss: 0.2110 - acc: 1.0000 - val_loss: 2.8203 - val_acc: 0.3077\n",
            "Epoch 118/180\n",
            "105/105 [==============================] - 0s 1ms/step - loss: 0.2103 - acc: 1.0000 - val_loss: 2.8217 - val_acc: 0.3077\n",
            "Epoch 119/180\n",
            "105/105 [==============================] - 0s 1ms/step - loss: 0.2095 - acc: 1.0000 - val_loss: 2.8230 - val_acc: 0.3077\n",
            "Epoch 120/180\n",
            "105/105 [==============================] - 0s 1ms/step - loss: 0.2088 - acc: 1.0000 - val_loss: 2.8243 - val_acc: 0.3077\n",
            "Epoch 121/180\n",
            "105/105 [==============================] - 0s 1ms/step - loss: 0.2081 - acc: 1.0000 - val_loss: 2.8257 - val_acc: 0.3077\n",
            "Epoch 122/180\n",
            "105/105 [==============================] - 0s 1ms/step - loss: 0.2074 - acc: 1.0000 - val_loss: 2.8270 - val_acc: 0.3077\n",
            "Epoch 123/180\n",
            "105/105 [==============================] - 0s 1ms/step - loss: 0.2067 - acc: 1.0000 - val_loss: 2.8284 - val_acc: 0.3077\n",
            "Epoch 124/180\n",
            "105/105 [==============================] - 0s 1ms/step - loss: 0.2060 - acc: 1.0000 - val_loss: 2.8298 - val_acc: 0.3077\n",
            "Epoch 125/180\n",
            "105/105 [==============================] - 0s 1ms/step - loss: 0.2053 - acc: 1.0000 - val_loss: 2.8311 - val_acc: 0.3077\n",
            "Epoch 126/180\n",
            "105/105 [==============================] - 0s 1000us/step - loss: 0.2046 - acc: 1.0000 - val_loss: 2.8324 - val_acc: 0.3077\n",
            "Epoch 127/180\n",
            "105/105 [==============================] - 0s 1ms/step - loss: 0.2039 - acc: 1.0000 - val_loss: 2.8339 - val_acc: 0.3077\n",
            "Epoch 128/180\n",
            "105/105 [==============================] - 0s 1ms/step - loss: 0.2033 - acc: 1.0000 - val_loss: 2.8352 - val_acc: 0.3077\n",
            "Epoch 129/180\n",
            "105/105 [==============================] - 0s 998us/step - loss: 0.2026 - acc: 1.0000 - val_loss: 2.8366 - val_acc: 0.3077\n",
            "Epoch 130/180\n",
            "105/105 [==============================] - 0s 998us/step - loss: 0.2019 - acc: 1.0000 - val_loss: 2.8380 - val_acc: 0.3077\n",
            "Epoch 131/180\n",
            "105/105 [==============================] - 0s 1ms/step - loss: 0.2012 - acc: 1.0000 - val_loss: 2.8394 - val_acc: 0.3077\n",
            "Epoch 132/180\n",
            "105/105 [==============================] - 0s 1ms/step - loss: 0.2006 - acc: 1.0000 - val_loss: 2.8408 - val_acc: 0.3077\n",
            "Epoch 133/180\n",
            "105/105 [==============================] - 0s 1ms/step - loss: 0.1999 - acc: 1.0000 - val_loss: 2.8422 - val_acc: 0.3077\n",
            "Epoch 134/180\n",
            "105/105 [==============================] - 0s 1ms/step - loss: 0.1992 - acc: 1.0000 - val_loss: 2.8436 - val_acc: 0.3077\n",
            "Epoch 135/180\n",
            "105/105 [==============================] - 0s 1ms/step - loss: 0.1986 - acc: 1.0000 - val_loss: 2.8449 - val_acc: 0.3077\n",
            "Epoch 136/180\n",
            "105/105 [==============================] - 0s 1ms/step - loss: 0.1979 - acc: 1.0000 - val_loss: 2.8463 - val_acc: 0.3077\n",
            "Epoch 137/180\n",
            "105/105 [==============================] - 0s 1ms/step - loss: 0.1973 - acc: 1.0000 - val_loss: 2.8477 - val_acc: 0.3077\n",
            "Epoch 138/180\n",
            "105/105 [==============================] - 0s 1ms/step - loss: 0.1966 - acc: 1.0000 - val_loss: 2.8491 - val_acc: 0.3077\n",
            "Epoch 139/180\n",
            "105/105 [==============================] - 0s 1ms/step - loss: 0.1960 - acc: 1.0000 - val_loss: 2.8505 - val_acc: 0.3077\n",
            "Epoch 140/180\n",
            "105/105 [==============================] - 0s 1ms/step - loss: 0.1953 - acc: 1.0000 - val_loss: 2.8519 - val_acc: 0.3077\n",
            "Epoch 141/180\n",
            "105/105 [==============================] - 0s 1ms/step - loss: 0.1947 - acc: 1.0000 - val_loss: 2.8533 - val_acc: 0.3077\n",
            "Epoch 142/180\n",
            "105/105 [==============================] - 0s 1ms/step - loss: 0.1941 - acc: 1.0000 - val_loss: 2.8547 - val_acc: 0.3077\n",
            "Epoch 143/180\n",
            "105/105 [==============================] - 0s 1ms/step - loss: 0.1934 - acc: 1.0000 - val_loss: 2.8561 - val_acc: 0.3077\n",
            "Epoch 144/180\n",
            "105/105 [==============================] - 0s 1ms/step - loss: 0.1928 - acc: 1.0000 - val_loss: 2.8575 - val_acc: 0.3077\n",
            "Epoch 145/180\n",
            "105/105 [==============================] - 0s 1ms/step - loss: 0.1922 - acc: 1.0000 - val_loss: 2.8589 - val_acc: 0.3077\n",
            "Epoch 146/180\n",
            "105/105 [==============================] - 0s 1ms/step - loss: 0.1916 - acc: 1.0000 - val_loss: 2.8603 - val_acc: 0.3077\n",
            "Epoch 147/180\n",
            "105/105 [==============================] - 0s 1ms/step - loss: 0.1910 - acc: 1.0000 - val_loss: 2.8617 - val_acc: 0.3077\n",
            "Epoch 148/180\n",
            "105/105 [==============================] - 0s 1ms/step - loss: 0.1904 - acc: 1.0000 - val_loss: 2.8631 - val_acc: 0.3077\n",
            "Epoch 149/180\n",
            "105/105 [==============================] - 0s 1ms/step - loss: 0.1897 - acc: 1.0000 - val_loss: 2.8645 - val_acc: 0.3077\n",
            "Epoch 150/180\n",
            "105/105 [==============================] - 0s 1ms/step - loss: 0.1891 - acc: 1.0000 - val_loss: 2.8660 - val_acc: 0.3077\n",
            "Epoch 151/180\n",
            "105/105 [==============================] - 0s 994us/step - loss: 0.1885 - acc: 1.0000 - val_loss: 2.8674 - val_acc: 0.3077\n",
            "Epoch 152/180\n",
            "105/105 [==============================] - 0s 1ms/step - loss: 0.1879 - acc: 1.0000 - val_loss: 2.8688 - val_acc: 0.3077\n",
            "Epoch 153/180\n",
            "105/105 [==============================] - 0s 954us/step - loss: 0.1873 - acc: 1.0000 - val_loss: 2.8702 - val_acc: 0.3077\n",
            "Epoch 154/180\n",
            "105/105 [==============================] - 0s 978us/step - loss: 0.1867 - acc: 1.0000 - val_loss: 2.8716 - val_acc: 0.3077\n",
            "Epoch 155/180\n",
            "105/105 [==============================] - 0s 1ms/step - loss: 0.1862 - acc: 1.0000 - val_loss: 2.8731 - val_acc: 0.3077\n",
            "Epoch 156/180\n",
            "105/105 [==============================] - 0s 1ms/step - loss: 0.1856 - acc: 1.0000 - val_loss: 2.8745 - val_acc: 0.3077\n",
            "Epoch 157/180\n",
            "105/105 [==============================] - 0s 1ms/step - loss: 0.1850 - acc: 1.0000 - val_loss: 2.8759 - val_acc: 0.3077\n",
            "Epoch 158/180\n",
            "105/105 [==============================] - 0s 1ms/step - loss: 0.1844 - acc: 1.0000 - val_loss: 2.8773 - val_acc: 0.3077\n",
            "Epoch 159/180\n",
            "105/105 [==============================] - 0s 1ms/step - loss: 0.1838 - acc: 1.0000 - val_loss: 2.8788 - val_acc: 0.3077\n",
            "Epoch 160/180\n",
            "105/105 [==============================] - 0s 1ms/step - loss: 0.1833 - acc: 1.0000 - val_loss: 2.8802 - val_acc: 0.3077\n",
            "Epoch 161/180\n",
            "105/105 [==============================] - 0s 1ms/step - loss: 0.1827 - acc: 1.0000 - val_loss: 2.8816 - val_acc: 0.3077\n",
            "Epoch 162/180\n",
            "105/105 [==============================] - 0s 1ms/step - loss: 0.1821 - acc: 1.0000 - val_loss: 2.8830 - val_acc: 0.3077\n",
            "Epoch 163/180\n",
            "105/105 [==============================] - 0s 1ms/step - loss: 0.1815 - acc: 1.0000 - val_loss: 2.8845 - val_acc: 0.3077\n",
            "Epoch 164/180\n",
            "105/105 [==============================] - 0s 1ms/step - loss: 0.1810 - acc: 1.0000 - val_loss: 2.8860 - val_acc: 0.3077\n",
            "Epoch 165/180\n",
            "105/105 [==============================] - 0s 1ms/step - loss: 0.1804 - acc: 1.0000 - val_loss: 2.8874 - val_acc: 0.3077\n",
            "Epoch 166/180\n",
            "105/105 [==============================] - 0s 1ms/step - loss: 0.1799 - acc: 1.0000 - val_loss: 2.8888 - val_acc: 0.3077\n",
            "Epoch 167/180\n",
            "105/105 [==============================] - 0s 1ms/step - loss: 0.1793 - acc: 1.0000 - val_loss: 2.8902 - val_acc: 0.3077\n",
            "Epoch 168/180\n",
            "105/105 [==============================] - 0s 1ms/step - loss: 0.1788 - acc: 1.0000 - val_loss: 2.8917 - val_acc: 0.3077\n",
            "Epoch 169/180\n",
            "105/105 [==============================] - 0s 1ms/step - loss: 0.1782 - acc: 1.0000 - val_loss: 2.8932 - val_acc: 0.3077\n",
            "Epoch 170/180\n",
            "105/105 [==============================] - 0s 1ms/step - loss: 0.1777 - acc: 1.0000 - val_loss: 2.8946 - val_acc: 0.3077\n",
            "Epoch 171/180\n",
            "105/105 [==============================] - 0s 980us/step - loss: 0.1771 - acc: 1.0000 - val_loss: 2.8960 - val_acc: 0.3077\n",
            "Epoch 172/180\n",
            "105/105 [==============================] - 0s 1ms/step - loss: 0.1766 - acc: 1.0000 - val_loss: 2.8975 - val_acc: 0.3077\n",
            "Epoch 173/180\n",
            "105/105 [==============================] - 0s 1ms/step - loss: 0.1761 - acc: 1.0000 - val_loss: 2.8989 - val_acc: 0.3077\n",
            "Epoch 174/180\n",
            "105/105 [==============================] - 0s 1ms/step - loss: 0.1755 - acc: 1.0000 - val_loss: 2.9003 - val_acc: 0.3077\n",
            "Epoch 175/180\n",
            "105/105 [==============================] - 0s 1ms/step - loss: 0.1750 - acc: 1.0000 - val_loss: 2.9018 - val_acc: 0.3077\n",
            "Epoch 176/180\n",
            "105/105 [==============================] - 0s 1ms/step - loss: 0.1745 - acc: 1.0000 - val_loss: 2.9033 - val_acc: 0.3077\n",
            "Epoch 177/180\n",
            "105/105 [==============================] - 0s 1ms/step - loss: 0.1739 - acc: 1.0000 - val_loss: 2.9047 - val_acc: 0.3077\n",
            "Epoch 178/180\n",
            "105/105 [==============================] - 0s 989us/step - loss: 0.1734 - acc: 1.0000 - val_loss: 2.9061 - val_acc: 0.3077\n",
            "Epoch 179/180\n",
            "105/105 [==============================] - 0s 1ms/step - loss: 0.1729 - acc: 1.0000 - val_loss: 2.9076 - val_acc: 0.3077\n",
            "Epoch 180/180\n",
            "105/105 [==============================] - 0s 958us/step - loss: 0.1724 - acc: 1.0000 - val_loss: 2.9090 - val_acc: 0.3077\n"
          ],
          "name": "stdout"
        }
      ]
    },
    {
      "cell_type": "markdown",
      "metadata": {
        "colab_type": "text",
        "id": "V0-h4UV1kKGD"
      },
      "source": [
        "##Plotting training and validation loss"
      ]
    },
    {
      "cell_type": "code",
      "metadata": {
        "colab_type": "code",
        "id": "Ep2R0tm9kKGF",
        "colab": {}
      },
      "source": [
        "import matplotlib.pyplot as plt"
      ],
      "execution_count": 0,
      "outputs": []
    },
    {
      "cell_type": "code",
      "metadata": {
        "colab_type": "code",
        "id": "dYcufxLHkKGK",
        "colab": {}
      },
      "source": [
        "epochs = range(1, num_epochs+1)"
      ],
      "execution_count": 0,
      "outputs": []
    },
    {
      "cell_type": "code",
      "metadata": {
        "colab_type": "code",
        "outputId": "f2b950ee-a464-4753-c603-0d28f216275b",
        "id": "XLBO05_pkKGQ",
        "colab": {
          "base_uri": "https://localhost:8080/",
          "height": 312
        }
      },
      "source": [
        "plt.plot(epochs, loss_history, 'b', label='training loss')\n",
        "plt.plot(epochs, loss_val_history, 'r', label='validation loss')\n",
        "plt.title('Training and validation loss lda')\n",
        "plt.xlabel('Epochs')\n",
        "plt.ylabel('Loss')\n",
        "plt.legend()"
      ],
      "execution_count": 0,
      "outputs": [
        {
          "output_type": "execute_result",
          "data": {
            "text/plain": [
              "<matplotlib.legend.Legend at 0x7fd27d2132b0>"
            ]
          },
          "metadata": {
            "tags": []
          },
          "execution_count": 81
        },
        {
          "output_type": "display_data",
          "data": {
            "image/png": "[encoded data removed]",
            "text/plain": [
              "<Figure size 432x288 with 1 Axes>"
            ]
          },
          "metadata": {
            "tags": []
          }
        }
      ]
    },
    {
      "cell_type": "markdown",
      "metadata": {
        "colab_type": "text",
        "id": "XV3hLoOykKGV"
      },
      "source": [
        "##Plotting train and validation accuracy"
      ]
    },
    {
      "cell_type": "code",
      "metadata": {
        "colab_type": "code",
        "outputId": "ac20a0b8-7e10-40f1-f774-4ccf815b4d41",
        "id": "ttjl5eApkKGV",
        "colab": {
          "base_uri": "https://localhost:8080/",
          "height": 312
        }
      },
      "source": [
        "plt.plot(epochs, acc_history, 'b', label='Training accuracy')\n",
        "plt.plot(epochs, acc_val_history, 'r', label='Validation accuracy')\n",
        "plt.title('Training and validation accuracy lda')\n",
        "plt.xlabel('Epochs')\n",
        "plt.ylabel('Accuracy')\n",
        "plt.legend() "
      ],
      "execution_count": 0,
      "outputs": [
        {
          "output_type": "execute_result",
          "data": {
            "text/plain": [
              "<matplotlib.legend.Legend at 0x7fd27d18a9b0>"
            ]
          },
          "metadata": {
            "tags": []
          },
          "execution_count": 82
        },
        {
          "output_type": "display_data",
          "data": {
            "image/png": "[encoded data removed]",
            "text/plain": [
              "<Figure size 432x288 with 1 Axes>"
            ]
          },
          "metadata": {
            "tags": []
          }
        }
      ]
    },
    {
      "cell_type": "markdown",
      "metadata": {
        "colab_type": "text",
        "id": "ckvqkyTYqE7B"
      },
      "source": [
        "##Performances on test set"
      ]
    },
    {
      "cell_type": "code",
      "metadata": {
        "colab_type": "code",
        "outputId": "dbf3be95-3d26-4190-ca35-2cdcb8463887",
        "id": "kmiW5yZ0qE7Q",
        "colab": {
          "base_uri": "https://localhost:8080/",
          "height": 1000
        }
      },
      "source": [
        " model = build_model()\n",
        " model.fit(train_data_stand_lda, one_hot_train_labels, epochs= num_epochs, batch_size=1, shuffle=True)\n",
        " test_loss, test_acc = model.evaluate(test_data_stand_lda, one_hot_test_labels)\n",
        "  "
      ],
      "execution_count": 0,
      "outputs": [
        {
          "output_type": "stream",
          "text": [
            "Epoch 1/180\n",
            "105/105 [==============================] - 0s 3ms/step - loss: 0.9294 - acc: 0.4952\n",
            "Epoch 2/180\n",
            "105/105 [==============================] - 0s 921us/step - loss: 0.8590 - acc: 0.4762\n",
            "Epoch 3/180\n",
            "105/105 [==============================] - 0s 889us/step - loss: 0.8044 - acc: 0.4762\n",
            "Epoch 4/180\n",
            "105/105 [==============================] - 0s 1ms/step - loss: 0.7607 - acc: 0.4952\n",
            "Epoch 5/180\n",
            "105/105 [==============================] - 0s 1ms/step - loss: 0.7243 - acc: 0.5143\n",
            "Epoch 6/180\n",
            "105/105 [==============================] - 0s 961us/step - loss: 0.6932 - acc: 0.5524\n",
            "Epoch 7/180\n",
            "105/105 [==============================] - 0s 952us/step - loss: 0.6658 - acc: 0.6476\n",
            "Epoch 8/180\n",
            "105/105 [==============================] - 0s 920us/step - loss: 0.6414 - acc: 0.7524\n",
            "Epoch 9/180\n",
            "105/105 [==============================] - 0s 990us/step - loss: 0.6194 - acc: 0.7905\n",
            "Epoch 10/180\n",
            "105/105 [==============================] - 0s 951us/step - loss: 0.5993 - acc: 0.8571\n",
            "Epoch 11/180\n",
            "105/105 [==============================] - 0s 962us/step - loss: 0.5806 - acc: 0.8667\n",
            "Epoch 12/180\n",
            "105/105 [==============================] - 0s 940us/step - loss: 0.5633 - acc: 0.8667\n",
            "Epoch 13/180\n",
            "105/105 [==============================] - 0s 1ms/step - loss: 0.5471 - acc: 0.8667\n",
            "Epoch 14/180\n",
            "105/105 [==============================] - 0s 969us/step - loss: 0.5319 - acc: 0.8667\n",
            "Epoch 15/180\n",
            "105/105 [==============================] - 0s 938us/step - loss: 0.5176 - acc: 0.8667\n",
            "Epoch 16/180\n",
            "105/105 [==============================] - 0s 941us/step - loss: 0.5039 - acc: 0.8667\n",
            "Epoch 17/180\n",
            "105/105 [==============================] - 0s 940us/step - loss: 0.4910 - acc: 0.8667\n",
            "Epoch 18/180\n",
            "105/105 [==============================] - 0s 885us/step - loss: 0.4786 - acc: 0.8762\n",
            "Epoch 19/180\n",
            "105/105 [==============================] - 0s 898us/step - loss: 0.4669 - acc: 0.8762\n",
            "Epoch 20/180\n",
            "105/105 [==============================] - 0s 955us/step - loss: 0.4556 - acc: 0.8762\n",
            "Epoch 21/180\n",
            "105/105 [==============================] - 0s 997us/step - loss: 0.4448 - acc: 0.8762\n",
            "Epoch 22/180\n",
            "105/105 [==============================] - 0s 939us/step - loss: 0.4343 - acc: 0.8762\n",
            "Epoch 23/180\n",
            "105/105 [==============================] - 0s 949us/step - loss: 0.4242 - acc: 0.8762\n",
            "Epoch 24/180\n",
            "105/105 [==============================] - 0s 967us/step - loss: 0.4144 - acc: 0.8762\n",
            "Epoch 25/180\n",
            "105/105 [==============================] - 0s 932us/step - loss: 0.4049 - acc: 0.8857\n",
            "Epoch 26/180\n",
            "105/105 [==============================] - 0s 916us/step - loss: 0.3958 - acc: 0.8857\n",
            "Epoch 27/180\n",
            "105/105 [==============================] - 0s 906us/step - loss: 0.3869 - acc: 0.8857\n",
            "Epoch 28/180\n",
            "105/105 [==============================] - 0s 965us/step - loss: 0.3782 - acc: 0.8857\n",
            "Epoch 29/180\n",
            "105/105 [==============================] - 0s 1ms/step - loss: 0.3698 - acc: 0.8857\n",
            "Epoch 30/180\n",
            "105/105 [==============================] - 0s 932us/step - loss: 0.3616 - acc: 0.8857\n",
            "Epoch 31/180\n",
            "105/105 [==============================] - 0s 919us/step - loss: 0.3535 - acc: 0.8857\n",
            "Epoch 32/180\n",
            "105/105 [==============================] - 0s 1ms/step - loss: 0.3457 - acc: 0.8857\n",
            "Epoch 33/180\n",
            "105/105 [==============================] - 0s 947us/step - loss: 0.3381 - acc: 0.8857\n",
            "Epoch 34/180\n",
            "105/105 [==============================] - 0s 949us/step - loss: 0.3306 - acc: 0.8857\n",
            "Epoch 35/180\n",
            "105/105 [==============================] - 0s 959us/step - loss: 0.3233 - acc: 0.8857\n",
            "Epoch 36/180\n",
            "105/105 [==============================] - 0s 1ms/step - loss: 0.3160 - acc: 0.8857\n",
            "Epoch 37/180\n",
            "105/105 [==============================] - 0s 974us/step - loss: 0.3088 - acc: 0.8857\n",
            "Epoch 38/180\n",
            "105/105 [==============================] - 0s 1ms/step - loss: 0.3017 - acc: 0.8857\n",
            "Epoch 39/180\n",
            "105/105 [==============================] - 0s 1ms/step - loss: 0.2948 - acc: 0.8857\n",
            "Epoch 40/180\n",
            "105/105 [==============================] - 0s 1ms/step - loss: 0.2881 - acc: 0.8857\n",
            "Epoch 41/180\n",
            "105/105 [==============================] - 0s 971us/step - loss: 0.2814 - acc: 0.8857\n",
            "Epoch 42/180\n",
            "105/105 [==============================] - 0s 979us/step - loss: 0.2750 - acc: 0.8857\n",
            "Epoch 43/180\n",
            "105/105 [==============================] - 0s 1ms/step - loss: 0.2687 - acc: 0.8857\n",
            "Epoch 44/180\n",
            "105/105 [==============================] - 0s 940us/step - loss: 0.2625 - acc: 0.8857\n",
            "Epoch 45/180\n",
            "105/105 [==============================] - 0s 954us/step - loss: 0.2566 - acc: 0.8857\n",
            "Epoch 46/180\n",
            "105/105 [==============================] - 0s 1ms/step - loss: 0.2507 - acc: 0.8857\n",
            "Epoch 47/180\n",
            "105/105 [==============================] - 0s 1ms/step - loss: 0.2451 - acc: 0.8857\n",
            "Epoch 48/180\n",
            "105/105 [==============================] - 0s 1ms/step - loss: 0.2396 - acc: 0.8857\n",
            "Epoch 49/180\n",
            "105/105 [==============================] - 0s 975us/step - loss: 0.2342 - acc: 0.8857\n",
            "Epoch 50/180\n",
            "105/105 [==============================] - 0s 1ms/step - loss: 0.2290 - acc: 0.8857\n",
            "Epoch 51/180\n",
            "105/105 [==============================] - 0s 992us/step - loss: 0.2239 - acc: 0.8857\n",
            "Epoch 52/180\n",
            "105/105 [==============================] - 0s 1ms/step - loss: 0.2190 - acc: 0.8857\n",
            "Epoch 53/180\n",
            "105/105 [==============================] - 0s 933us/step - loss: 0.2143 - acc: 0.8857\n",
            "Epoch 54/180\n",
            "105/105 [==============================] - 0s 969us/step - loss: 0.2096 - acc: 0.8857\n",
            "Epoch 55/180\n",
            "105/105 [==============================] - 0s 1ms/step - loss: 0.2051 - acc: 0.8857\n",
            "Epoch 56/180\n",
            "105/105 [==============================] - 0s 943us/step - loss: 0.2008 - acc: 0.8857\n",
            "Epoch 57/180\n",
            "105/105 [==============================] - 0s 974us/step - loss: 0.1965 - acc: 0.8857\n",
            "Epoch 58/180\n",
            "105/105 [==============================] - 0s 1ms/step - loss: 0.1925 - acc: 0.8857\n",
            "Epoch 59/180\n",
            "105/105 [==============================] - 0s 929us/step - loss: 0.1885 - acc: 0.8857\n",
            "Epoch 60/180\n",
            "105/105 [==============================] - 0s 904us/step - loss: 0.1846 - acc: 0.8857\n",
            "Epoch 61/180\n",
            "105/105 [==============================] - 0s 925us/step - loss: 0.1808 - acc: 0.8857\n",
            "Epoch 62/180\n",
            "105/105 [==============================] - 0s 1ms/step - loss: 0.1772 - acc: 0.8857\n",
            "Epoch 63/180\n",
            "105/105 [==============================] - 0s 937us/step - loss: 0.1737 - acc: 0.8857\n",
            "Epoch 64/180\n",
            "105/105 [==============================] - 0s 980us/step - loss: 0.1703 - acc: 0.8857\n",
            "Epoch 65/180\n",
            "105/105 [==============================] - 0s 1ms/step - loss: 0.1669 - acc: 0.8857\n",
            "Epoch 66/180\n",
            "105/105 [==============================] - 0s 947us/step - loss: 0.1637 - acc: 0.8857\n",
            "Epoch 67/180\n",
            "105/105 [==============================] - 0s 971us/step - loss: 0.1606 - acc: 0.8857\n",
            "Epoch 68/180\n",
            "105/105 [==============================] - 0s 949us/step - loss: 0.1575 - acc: 0.8857\n",
            "Epoch 69/180\n",
            "105/105 [==============================] - 0s 1ms/step - loss: 0.1546 - acc: 0.8857\n",
            "Epoch 70/180\n",
            "105/105 [==============================] - 0s 975us/step - loss: 0.1517 - acc: 0.8857\n",
            "Epoch 71/180\n",
            "105/105 [==============================] - 0s 957us/step - loss: 0.1489 - acc: 0.8857\n",
            "Epoch 72/180\n",
            "105/105 [==============================] - 0s 981us/step - loss: 0.1462 - acc: 0.8857\n",
            "Epoch 73/180\n",
            "105/105 [==============================] - 0s 1ms/step - loss: 0.1436 - acc: 0.8857\n",
            "Epoch 74/180\n",
            "105/105 [==============================] - 0s 1ms/step - loss: 0.1410 - acc: 0.8857\n",
            "Epoch 75/180\n",
            "105/105 [==============================] - 0s 955us/step - loss: 0.1385 - acc: 0.8857\n",
            "Epoch 76/180\n",
            "105/105 [==============================] - 0s 989us/step - loss: 0.1361 - acc: 0.8857\n",
            "Epoch 77/180\n",
            "105/105 [==============================] - 0s 970us/step - loss: 0.1338 - acc: 0.8857\n",
            "Epoch 78/180\n",
            "105/105 [==============================] - 0s 958us/step - loss: 0.1314 - acc: 0.8857\n",
            "Epoch 79/180\n",
            "105/105 [==============================] - 0s 993us/step - loss: 0.1292 - acc: 0.8857\n",
            "Epoch 80/180\n",
            "105/105 [==============================] - 0s 997us/step - loss: 0.1270 - acc: 0.8857\n",
            "Epoch 81/180\n",
            "105/105 [==============================] - 0s 957us/step - loss: 0.1249 - acc: 0.9429\n",
            "Epoch 82/180\n",
            "105/105 [==============================] - 0s 1ms/step - loss: 0.1228 - acc: 1.0000\n",
            "Epoch 83/180\n",
            "105/105 [==============================] - 0s 1ms/step - loss: 0.1208 - acc: 1.0000\n",
            "Epoch 84/180\n",
            "105/105 [==============================] - 0s 974us/step - loss: 0.1189 - acc: 1.0000\n",
            "Epoch 85/180\n",
            "105/105 [==============================] - 0s 989us/step - loss: 0.1170 - acc: 1.0000\n",
            "Epoch 86/180\n",
            "105/105 [==============================] - 0s 1ms/step - loss: 0.1151 - acc: 1.0000\n",
            "Epoch 87/180\n",
            "105/105 [==============================] - 0s 970us/step - loss: 0.1133 - acc: 1.0000\n",
            "Epoch 88/180\n",
            "105/105 [==============================] - 0s 969us/step - loss: 0.1115 - acc: 1.0000\n",
            "Epoch 89/180\n",
            "105/105 [==============================] - 0s 930us/step - loss: 0.1098 - acc: 1.0000\n",
            "Epoch 90/180\n",
            "105/105 [==============================] - 0s 994us/step - loss: 0.1081 - acc: 1.0000\n",
            "Epoch 91/180\n",
            "105/105 [==============================] - 0s 1ms/step - loss: 0.1064 - acc: 1.0000\n",
            "Epoch 92/180\n",
            "105/105 [==============================] - 0s 944us/step - loss: 0.1048 - acc: 1.0000\n",
            "Epoch 93/180\n",
            "105/105 [==============================] - 0s 979us/step - loss: 0.1032 - acc: 1.0000\n",
            "Epoch 94/180\n",
            "105/105 [==============================] - 0s 1ms/step - loss: 0.1017 - acc: 1.0000\n",
            "Epoch 95/180\n",
            "105/105 [==============================] - 0s 945us/step - loss: 0.1002 - acc: 1.0000\n",
            "Epoch 96/180\n",
            "105/105 [==============================] - 0s 982us/step - loss: 0.0987 - acc: 1.0000\n",
            "Epoch 97/180\n",
            "105/105 [==============================] - 0s 977us/step - loss: 0.0973 - acc: 1.0000\n",
            "Epoch 98/180\n",
            "105/105 [==============================] - 0s 986us/step - loss: 0.0959 - acc: 1.0000\n",
            "Epoch 99/180\n",
            "105/105 [==============================] - 0s 961us/step - loss: 0.0945 - acc: 1.0000\n",
            "Epoch 100/180\n",
            "105/105 [==============================] - 0s 999us/step - loss: 0.0932 - acc: 1.0000\n",
            "Epoch 101/180\n",
            "105/105 [==============================] - 0s 989us/step - loss: 0.0919 - acc: 1.0000\n",
            "Epoch 102/180\n",
            "105/105 [==============================] - 0s 1ms/step - loss: 0.0906 - acc: 1.0000\n",
            "Epoch 103/180\n",
            "105/105 [==============================] - 0s 882us/step - loss: 0.0893 - acc: 1.0000\n",
            "Epoch 104/180\n",
            "105/105 [==============================] - 0s 945us/step - loss: 0.0881 - acc: 1.0000\n",
            "Epoch 105/180\n",
            "105/105 [==============================] - 0s 1ms/step - loss: 0.0869 - acc: 1.0000\n",
            "Epoch 106/180\n",
            "105/105 [==============================] - 0s 1ms/step - loss: 0.0858 - acc: 1.0000\n",
            "Epoch 107/180\n",
            "105/105 [==============================] - 0s 991us/step - loss: 0.0846 - acc: 1.0000\n",
            "Epoch 108/180\n",
            "105/105 [==============================] - 0s 1ms/step - loss: 0.0835 - acc: 1.0000\n",
            "Epoch 109/180\n",
            "105/105 [==============================] - 0s 935us/step - loss: 0.0824 - acc: 1.0000\n",
            "Epoch 110/180\n",
            "105/105 [==============================] - 0s 887us/step - loss: 0.0813 - acc: 1.0000\n",
            "Epoch 111/180\n",
            "105/105 [==============================] - 0s 954us/step - loss: 0.0802 - acc: 1.0000\n",
            "Epoch 112/180\n",
            "105/105 [==============================] - 0s 1ms/step - loss: 0.0792 - acc: 1.0000\n",
            "Epoch 113/180\n",
            "105/105 [==============================] - 0s 932us/step - loss: 0.0782 - acc: 1.0000\n",
            "Epoch 114/180\n",
            "105/105 [==============================] - 0s 954us/step - loss: 0.0772 - acc: 1.0000\n",
            "Epoch 115/180\n",
            "105/105 [==============================] - 0s 993us/step - loss: 0.0762 - acc: 1.0000\n",
            "Epoch 116/180\n",
            "105/105 [==============================] - 0s 1ms/step - loss: 0.0753 - acc: 1.0000\n",
            "Epoch 117/180\n",
            "105/105 [==============================] - 0s 989us/step - loss: 0.0744 - acc: 1.0000\n",
            "Epoch 118/180\n",
            "105/105 [==============================] - 0s 911us/step - loss: 0.0734 - acc: 1.0000\n",
            "Epoch 119/180\n",
            "105/105 [==============================] - 0s 923us/step - loss: 0.0726 - acc: 1.0000\n",
            "Epoch 120/180\n",
            "105/105 [==============================] - 0s 991us/step - loss: 0.0717 - acc: 1.0000\n",
            "Epoch 121/180\n",
            "105/105 [==============================] - 0s 1ms/step - loss: 0.0708 - acc: 1.0000\n",
            "Epoch 122/180\n",
            "105/105 [==============================] - 0s 979us/step - loss: 0.0700 - acc: 1.0000\n",
            "Epoch 123/180\n",
            "105/105 [==============================] - 0s 964us/step - loss: 0.0691 - acc: 1.0000\n",
            "Epoch 124/180\n",
            "105/105 [==============================] - 0s 963us/step - loss: 0.0683 - acc: 1.0000\n",
            "Epoch 125/180\n",
            "105/105 [==============================] - 0s 988us/step - loss: 0.0675 - acc: 1.0000\n",
            "Epoch 126/180\n",
            "105/105 [==============================] - 0s 928us/step - loss: 0.0668 - acc: 1.0000\n",
            "Epoch 127/180\n",
            "105/105 [==============================] - 0s 969us/step - loss: 0.0660 - acc: 1.0000\n",
            "Epoch 128/180\n",
            "105/105 [==============================] - 0s 1ms/step - loss: 0.0652 - acc: 1.0000\n",
            "Epoch 129/180\n",
            "105/105 [==============================] - 0s 961us/step - loss: 0.0645 - acc: 1.0000\n",
            "Epoch 130/180\n",
            "105/105 [==============================] - 0s 936us/step - loss: 0.0638 - acc: 1.0000\n",
            "Epoch 131/180\n",
            "105/105 [==============================] - 0s 936us/step - loss: 0.0631 - acc: 1.0000\n",
            "Epoch 132/180\n",
            "105/105 [==============================] - 0s 1ms/step - loss: 0.0624 - acc: 1.0000\n",
            "Epoch 133/180\n",
            "105/105 [==============================] - 0s 905us/step - loss: 0.0617 - acc: 1.0000\n",
            "Epoch 134/180\n",
            "105/105 [==============================] - 0s 941us/step - loss: 0.0610 - acc: 1.0000\n",
            "Epoch 135/180\n",
            "105/105 [==============================] - 0s 982us/step - loss: 0.0603 - acc: 1.0000\n",
            "Epoch 136/180\n",
            "105/105 [==============================] - 0s 898us/step - loss: 0.0597 - acc: 1.0000\n",
            "Epoch 137/180\n",
            "105/105 [==============================] - 0s 960us/step - loss: 0.0591 - acc: 1.0000\n",
            "Epoch 138/180\n",
            "105/105 [==============================] - 0s 938us/step - loss: 0.0584 - acc: 1.0000\n",
            "Epoch 139/180\n",
            "105/105 [==============================] - 0s 981us/step - loss: 0.0578 - acc: 1.0000\n",
            "Epoch 140/180\n",
            "105/105 [==============================] - 0s 938us/step - loss: 0.0572 - acc: 1.0000\n",
            "Epoch 141/180\n",
            "105/105 [==============================] - 0s 951us/step - loss: 0.0566 - acc: 1.0000\n",
            "Epoch 142/180\n",
            "105/105 [==============================] - 0s 912us/step - loss: 0.0560 - acc: 1.0000\n",
            "Epoch 143/180\n",
            "105/105 [==============================] - 0s 940us/step - loss: 0.0555 - acc: 1.0000\n",
            "Epoch 144/180\n",
            "105/105 [==============================] - 0s 1ms/step - loss: 0.0549 - acc: 1.0000\n",
            "Epoch 145/180\n",
            "105/105 [==============================] - 0s 1ms/step - loss: 0.0543 - acc: 1.0000\n",
            "Epoch 146/180\n",
            "105/105 [==============================] - 0s 1ms/step - loss: 0.0538 - acc: 1.0000\n",
            "Epoch 147/180\n",
            "105/105 [==============================] - 0s 1ms/step - loss: 0.0533 - acc: 1.0000\n",
            "Epoch 148/180\n",
            "105/105 [==============================] - 0s 905us/step - loss: 0.0527 - acc: 1.0000\n",
            "Epoch 149/180\n",
            "105/105 [==============================] - 0s 931us/step - loss: 0.0522 - acc: 1.0000\n",
            "Epoch 150/180\n",
            "105/105 [==============================] - 0s 974us/step - loss: 0.0517 - acc: 1.0000\n",
            "Epoch 151/180\n",
            "105/105 [==============================] - 0s 945us/step - loss: 0.0512 - acc: 1.0000\n",
            "Epoch 152/180\n",
            "105/105 [==============================] - 0s 926us/step - loss: 0.0507 - acc: 1.0000\n",
            "Epoch 153/180\n",
            "105/105 [==============================] - 0s 940us/step - loss: 0.0502 - acc: 1.0000\n",
            "Epoch 154/180\n",
            "105/105 [==============================] - 0s 963us/step - loss: 0.0498 - acc: 1.0000\n",
            "Epoch 155/180\n",
            "105/105 [==============================] - 0s 932us/step - loss: 0.0493 - acc: 1.0000\n",
            "Epoch 156/180\n",
            "105/105 [==============================] - 0s 932us/step - loss: 0.0488 - acc: 1.0000\n",
            "Epoch 157/180\n",
            "105/105 [==============================] - 0s 938us/step - loss: 0.0484 - acc: 1.0000\n",
            "Epoch 158/180\n",
            "105/105 [==============================] - 0s 955us/step - loss: 0.0479 - acc: 1.0000\n",
            "Epoch 159/180\n",
            "105/105 [==============================] - 0s 956us/step - loss: 0.0475 - acc: 1.0000\n",
            "Epoch 160/180\n",
            "105/105 [==============================] - 0s 906us/step - loss: 0.0471 - acc: 1.0000\n",
            "Epoch 161/180\n",
            "105/105 [==============================] - 0s 971us/step - loss: 0.0466 - acc: 1.0000\n",
            "Epoch 162/180\n",
            "105/105 [==============================] - 0s 976us/step - loss: 0.0462 - acc: 1.0000\n",
            "Epoch 163/180\n",
            "105/105 [==============================] - 0s 950us/step - loss: 0.0458 - acc: 1.0000\n",
            "Epoch 164/180\n",
            "105/105 [==============================] - 0s 1ms/step - loss: 0.0454 - acc: 1.0000\n",
            "Epoch 165/180\n",
            "105/105 [==============================] - 0s 1ms/step - loss: 0.0450 - acc: 1.0000\n",
            "Epoch 166/180\n",
            "105/105 [==============================] - 0s 921us/step - loss: 0.0446 - acc: 1.0000\n",
            "Epoch 167/180\n",
            "105/105 [==============================] - 0s 915us/step - loss: 0.0442 - acc: 1.0000\n",
            "Epoch 168/180\n",
            "105/105 [==============================] - 0s 900us/step - loss: 0.0438 - acc: 1.0000\n",
            "Epoch 169/180\n",
            "105/105 [==============================] - 0s 968us/step - loss: 0.0434 - acc: 1.0000\n",
            "Epoch 170/180\n",
            "105/105 [==============================] - 0s 978us/step - loss: 0.0431 - acc: 1.0000\n",
            "Epoch 171/180\n",
            "105/105 [==============================] - 0s 943us/step - loss: 0.0427 - acc: 1.0000\n",
            "Epoch 172/180\n",
            "105/105 [==============================] - 0s 984us/step - loss: 0.0424 - acc: 1.0000\n",
            "Epoch 173/180\n",
            "105/105 [==============================] - 0s 1ms/step - loss: 0.0420 - acc: 1.0000\n",
            "Epoch 174/180\n",
            "105/105 [==============================] - 0s 967us/step - loss: 0.0416 - acc: 1.0000\n",
            "Epoch 175/180\n",
            "105/105 [==============================] - 0s 930us/step - loss: 0.0413 - acc: 1.0000\n",
            "Epoch 176/180\n",
            "105/105 [==============================] - 0s 956us/step - loss: 0.0410 - acc: 1.0000\n",
            "Epoch 177/180\n",
            "105/105 [==============================] - 0s 923us/step - loss: 0.0406 - acc: 1.0000\n",
            "Epoch 178/180\n",
            "105/105 [==============================] - 0s 968us/step - loss: 0.0403 - acc: 1.0000\n",
            "Epoch 179/180\n",
            "105/105 [==============================] - 0s 822us/step - loss: 0.0400 - acc: 1.0000\n",
            "Epoch 180/180\n",
            "105/105 [==============================] - 0s 869us/step - loss: 0.0396 - acc: 1.0000\n",
            "13/13 [==============================] - 0s 4ms/step\n"
          ],
          "name": "stdout"
        }
      ]
    },
    {
      "cell_type": "code",
      "metadata": {
        "colab_type": "code",
        "outputId": "8ce4a441-e681-4e80-c687-ab180852425a",
        "id": "lCz1ZOSIqE7i",
        "colab": {
          "base_uri": "https://localhost:8080/",
          "height": 34
        }
      },
      "source": [
        "model.metrics_names"
      ],
      "execution_count": 0,
      "outputs": [
        {
          "output_type": "execute_result",
          "data": {
            "text/plain": [
              "['loss', 'acc']"
            ]
          },
          "metadata": {
            "tags": []
          },
          "execution_count": 72
        }
      ]
    },
    {
      "cell_type": "code",
      "metadata": {
        "colab_type": "code",
        "outputId": "b4a4f604-cf03-4f29-a20e-a8ff2d90b883",
        "id": "GbroOBzLqE7v",
        "colab": {
          "base_uri": "https://localhost:8080/",
          "height": 34
        }
      },
      "source": [
        "test_acc\n"
      ],
      "execution_count": 0,
      "outputs": [
        {
          "output_type": "execute_result",
          "data": {
            "text/plain": [
              "0.4615384638309479"
            ]
          },
          "metadata": {
            "tags": []
          },
          "execution_count": 73
        }
      ]
    },
    {
      "cell_type": "markdown",
      "metadata": {
        "id": "DX_hXso7rd39",
        "colab_type": "text"
      },
      "source": [
        "Si comporta molto bene in training e in validation ma si comporta male in test"
      ]
    },
    {
      "cell_type": "markdown",
      "metadata": {
        "id": "BlrMqdh1w2bs",
        "colab_type": "text"
      },
      "source": [
        "Remove correlated features manually"
      ]
    }
  ]
}