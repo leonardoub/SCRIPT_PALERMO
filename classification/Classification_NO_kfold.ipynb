{
  "nbformat": 4,
  "nbformat_minor": 0,
  "metadata": {
    "colab": {
      "name": "Classification_NO_kfold.ipynb",
      "provenance": [],
      "authorship_tag": "ABX9TyOzQtGNku9rx43TiivW/OZk",
      "include_colab_link": true
    },
    "kernelspec": {
      "name": "python3",
      "display_name": "Python 3"
    }
  },
  "cells": [
    {
      "cell_type": "markdown",
      "metadata": {
        "id": "view-in-github",
        "colab_type": "text"
      },
      "source": [
        "<a href=\"https://colab.research.google.com/github/leonardoub/SCRIPT_PALERMO/blob/master/classification/Classification_NO_kfold.ipynb\" target=\"_parent\"><img src=\"https://colab.research.google.com/assets/colab-badge.svg\" alt=\"Open In Colab\"/></a>"
      ]
    },
    {
      "cell_type": "code",
      "metadata": {
        "id": "3i4O_AtKVzh1",
        "colab_type": "code",
        "colab": {}
      },
      "source": [
        "import random\n",
        "import pandas as pd\n",
        "import numpy as np\n",
        "import matplotlib.pyplot as plt\n",
        "import scipy\n",
        "import seaborn as sns"
      ],
      "execution_count": 0,
      "outputs": []
    },
    {
      "cell_type": "code",
      "metadata": {
        "id": "xcb00g1tWTqw",
        "colab_type": "code",
        "outputId": "95f6d6ad-7f31-461c-b977-5a230843aac7",
        "colab": {
          "base_uri": "https://localhost:8080/",
          "height": 83
        }
      },
      "source": [
        "# Seed value\n",
        "# Apparently you may use different seed values at each stage\n",
        "seed_value= 0\n",
        "\n",
        "# 1. Set `PYTHONHASHSEED` environment variable at a fixed value\n",
        "import os\n",
        "os.environ['PYTHONHASHSEED']=str(seed_value)\n",
        "\n",
        "# 2. Set `python` built-in pseudo-random generator at a fixed value\n",
        "import random\n",
        "random.seed(seed_value)\n",
        "\n",
        "# 3. Set `numpy` pseudo-random generator at a fixed value\n",
        "import numpy as np\n",
        "np.random.seed(seed_value)\n",
        "\n",
        "# 4. Set `tensorflow` pseudo-random generator at a fixed value\n",
        "import tensorflow as tf\n",
        "tf.set_random_seed(seed_value)\n",
        "\n",
        "# 5. Configure a new global `tensorflow` session\n",
        "from keras import backend as K\n",
        "session_conf = tf.ConfigProto(intra_op_parallelism_threads=1, inter_op_parallelism_threads=1)\n",
        "sess = tf.Session(graph=tf.get_default_graph(), config=session_conf)\n",
        "K.set_session(sess)"
      ],
      "execution_count": 2,
      "outputs": [
        {
          "output_type": "display_data",
          "data": {
            "text/html": [
              "<p style=\"color: red;\">\n",
              "The default version of TensorFlow in Colab will soon switch to TensorFlow 2.x.<br>\n",
              "We recommend you <a href=\"https://www.tensorflow.org/guide/migrate\" target=\"_blank\">upgrade</a> now \n",
              "or ensure your notebook will continue to use TensorFlow 1.x via the <code>%tensorflow_version 1.x</code> magic:\n",
              "<a href=\"https://colab.research.google.com/notebooks/tensorflow_version.ipynb\" target=\"_blank\">more info</a>.</p>\n"
            ],
            "text/plain": [
              "<IPython.core.display.HTML object>"
            ]
          },
          "metadata": {
            "tags": []
          }
        },
        {
          "output_type": "stream",
          "text": [
            "Using TensorFlow backend.\n"
          ],
          "name": "stderr"
        }
      ]
    },
    {
      "cell_type": "markdown",
      "metadata": {
        "id": "_DME-inQ4ke_",
        "colab_type": "text"
      },
      "source": [
        "#Load data"
      ]
    },
    {
      "cell_type": "code",
      "metadata": {
        "id": "7Hq45TSf3WcR",
        "colab_type": "code",
        "outputId": "55f13ec2-8156-4902-a539-4230ddd8b681",
        "colab": {
          "base_uri": "https://localhost:8080/",
          "height": 147
        }
      },
      "source": [
        "#load data from Drive\n",
        "from google.colab import drive\n",
        "drive.mount('/gdrive')\n",
        "%cd /gdrive"
      ],
      "execution_count": 3,
      "outputs": [
        {
          "output_type": "stream",
          "text": [
            "Go to this URL in a browser: https://accounts.google.com/o/oauth2/auth?client_id=947318989803-6bn6qk8qdgf4n4g3pfee6491hc0brc4i.apps.googleusercontent.com&redirect_uri=urn%3aietf%3awg%3aoauth%3a2.0%3aoob&response_type=code&scope=email%20https%3a%2f%2fwww.googleapis.com%2fauth%2fdocs.test%20https%3a%2f%2fwww.googleapis.com%2fauth%2fdrive%20https%3a%2f%2fwww.googleapis.com%2fauth%2fdrive.photos.readonly%20https%3a%2f%2fwww.googleapis.com%2fauth%2fpeopleapi.readonly\n",
            "\n",
            "Enter your authorization code:\n",
            "··········\n",
            "Mounted at /gdrive\n",
            "/gdrive\n"
          ],
          "name": "stdout"
        }
      ]
    },
    {
      "cell_type": "code",
      "metadata": {
        "id": "UCkUXesZhMzg",
        "colab_type": "code",
        "colab": {}
      },
      "source": [
        "train_dataset_path = '/gdrive/My Drive/AIM_PA/database_training2.csv'\n",
        "test_dataset_path = '/gdrive/My Drive/AIM_PA/database_nostro_without_nan.csv'"
      ],
      "execution_count": 0,
      "outputs": []
    },
    {
      "cell_type": "code",
      "metadata": {
        "id": "TczPxOpEhTXw",
        "colab_type": "code",
        "colab": {}
      },
      "source": [
        "df_train = pd.read_csv(train_dataset_path)\n",
        "df_test = pd.read_csv(test_dataset_path)"
      ],
      "execution_count": 0,
      "outputs": []
    },
    {
      "cell_type": "code",
      "metadata": {
        "id": "9I5MNxeW3j2G",
        "colab_type": "code",
        "colab": {}
      },
      "source": [
        "df_train.rename(columns={'Survival.time (months)':'Surv_time_months'}, inplace=True)"
      ],
      "execution_count": 0,
      "outputs": []
    },
    {
      "cell_type": "code",
      "metadata": {
        "id": "TLxDyFPo3sU9",
        "colab_type": "code",
        "colab": {}
      },
      "source": [
        "df_test.rename(columns={'Survival.time (months)':'Surv_time_months'}, inplace=True)"
      ],
      "execution_count": 0,
      "outputs": []
    },
    {
      "cell_type": "code",
      "metadata": {
        "id": "oXU_B2k03uYa",
        "colab_type": "code",
        "colab": {}
      },
      "source": [
        "df_train.rename(columns={'Overall.Stage':'Overall_Stage'}, inplace=True)\n",
        "df_test.rename(columns={'Overall.Stage':'Overall_Stage'}, inplace=True)"
      ],
      "execution_count": 0,
      "outputs": []
    },
    {
      "cell_type": "code",
      "metadata": {
        "id": "T1YCrOMP3_4q",
        "colab_type": "code",
        "colab": {}
      },
      "source": [
        "public_data = df_train.drop(['Histology', 'Surv_time_months', 'OS', 'deadstatus.event','Overall_Stage'], axis=1)"
      ],
      "execution_count": 0,
      "outputs": []
    },
    {
      "cell_type": "code",
      "metadata": {
        "id": "BWj1mwjV4Mzo",
        "colab_type": "code",
        "colab": {}
      },
      "source": [
        "PA_data = df_test.drop(['Histology', 'Surv_time_months', 'OS', 'deadstatus.event','Overall_Stage'], axis=1)"
      ],
      "execution_count": 0,
      "outputs": []
    },
    {
      "cell_type": "code",
      "metadata": {
        "id": "dKdS4Low4PHh",
        "colab_type": "code",
        "colab": {}
      },
      "source": [
        "public_labels = df_train.Histology"
      ],
      "execution_count": 0,
      "outputs": []
    },
    {
      "cell_type": "code",
      "metadata": {
        "id": "K6EsAdEt4RNP",
        "colab_type": "code",
        "colab": {}
      },
      "source": [
        "PA_labels = df_test.Histology"
      ],
      "execution_count": 0,
      "outputs": []
    },
    {
      "cell_type": "markdown",
      "metadata": {
        "id": "tqDYyNd6_3s4",
        "colab_type": "text"
      },
      "source": [
        "#Train Test Split"
      ]
    },
    {
      "cell_type": "code",
      "metadata": {
        "id": "_7I8R-jd_3Hd",
        "colab_type": "code",
        "colab": {}
      },
      "source": [
        "from sklearn.model_selection import train_test_split"
      ],
      "execution_count": 0,
      "outputs": []
    },
    {
      "cell_type": "code",
      "metadata": {
        "id": "_bnO8hgZ__GF",
        "colab_type": "code",
        "colab": {}
      },
      "source": [
        "X_train_big, X_test, y_train_big, y_test = train_test_split(public_data, public_labels, test_size=13, stratify=public_labels, random_state=1)"
      ],
      "execution_count": 0,
      "outputs": []
    },
    {
      "cell_type": "markdown",
      "metadata": {
        "id": "pMuRNXFjVEiK",
        "colab_type": "text"
      },
      "source": [
        "#Train Validation Split"
      ]
    },
    {
      "cell_type": "code",
      "metadata": {
        "colab_type": "code",
        "id": "ovpVx4a7VMkl",
        "colab": {}
      },
      "source": [
        "from sklearn.model_selection import train_test_split"
      ],
      "execution_count": 0,
      "outputs": []
    },
    {
      "cell_type": "code",
      "metadata": {
        "colab_type": "code",
        "id": "S3Tq1lHxVMlu",
        "colab": {}
      },
      "source": [
        "X_train, X_val, y_train, y_val = train_test_split(X_train_big, y_train_big, test_size=13, stratify=y_train_big, random_state=2)                                                         "
      ],
      "execution_count": 0,
      "outputs": []
    },
    {
      "cell_type": "markdown",
      "metadata": {
        "id": "dtPx7PMDnXM3",
        "colab_type": "text"
      },
      "source": [
        "#Z score dei dati"
      ]
    },
    {
      "cell_type": "code",
      "metadata": {
        "id": "xKRmr5Am-860",
        "colab_type": "code",
        "colab": {}
      },
      "source": [
        "from sklearn.preprocessing import StandardScaler\n",
        "scaler = StandardScaler()\n",
        "train_data_stand = scaler.fit_transform(X_train)\n",
        "val_data_stand = scaler.transform(X_val)\n",
        "test_data_stand = scaler.transform(X_test)"
      ],
      "execution_count": 0,
      "outputs": []
    },
    {
      "cell_type": "markdown",
      "metadata": {
        "id": "5kvXfgKi2uWa",
        "colab_type": "text"
      },
      "source": [
        "##LDA"
      ]
    },
    {
      "cell_type": "code",
      "metadata": {
        "id": "hYTGbSu22w34",
        "colab_type": "code",
        "colab": {}
      },
      "source": [
        "from sklearn.discriminant_analysis import LinearDiscriminantAnalysis"
      ],
      "execution_count": 0,
      "outputs": []
    },
    {
      "cell_type": "code",
      "metadata": {
        "id": "TMCI-ALj23N1",
        "colab_type": "code",
        "colab": {}
      },
      "source": [
        "lda = LinearDiscriminantAnalysis(n_components=3)"
      ],
      "execution_count": 0,
      "outputs": []
    },
    {
      "cell_type": "code",
      "metadata": {
        "id": "EqcJWjWj3rvS",
        "colab_type": "code",
        "outputId": "17951ad9-3f91-41a0-8e44-09b35270d0d3",
        "colab": {
          "base_uri": "https://localhost:8080/",
          "height": 110
        }
      },
      "source": [
        "train_data_stand_lda = lda.fit(train_data_stand, y_train).transform(train_data_stand)"
      ],
      "execution_count": 29,
      "outputs": [
        {
          "output_type": "stream",
          "text": [
            "/usr/local/lib/python3.6/dist-packages/sklearn/discriminant_analysis.py:463: ChangedBehaviorWarning: n_components cannot be larger than min(n_features, n_classes - 1). Using min(n_features, n_classes - 1) = min(107, 3 - 1) = 2 components.\n",
            "  ChangedBehaviorWarning)\n",
            "/usr/local/lib/python3.6/dist-packages/sklearn/discriminant_analysis.py:469: FutureWarning: In version 0.23, setting n_components > min(n_features, n_classes - 1) will raise a ValueError. You should set n_components to None (default), or a value smaller or equal to min(n_features, n_classes - 1).\n",
            "  warnings.warn(future_msg, FutureWarning)\n"
          ],
          "name": "stderr"
        }
      ]
    },
    {
      "cell_type": "code",
      "metadata": {
        "id": "3opFZvVx45TC",
        "colab_type": "code",
        "outputId": "e33278f6-8bcd-4840-ea80-cb05f024294c",
        "colab": {
          "base_uri": "https://localhost:8080/",
          "height": 35
        }
      },
      "source": [
        "train_data_stand_lda.shape"
      ],
      "execution_count": 30,
      "outputs": [
        {
          "output_type": "execute_result",
          "data": {
            "text/plain": [
              "(105, 2)"
            ]
          },
          "metadata": {
            "tags": []
          },
          "execution_count": 30
        }
      ]
    },
    {
      "cell_type": "code",
      "metadata": {
        "id": "E0UwBbCjf13g",
        "colab_type": "code",
        "colab": {}
      },
      "source": [
        "val_data_stand_lda = lda.transform(val_data_stand)"
      ],
      "execution_count": 0,
      "outputs": []
    },
    {
      "cell_type": "code",
      "metadata": {
        "id": "cjpMHM6iqbbC",
        "colab_type": "code",
        "colab": {}
      },
      "source": [
        "test_data_stand_lda = lda.transform(test_data_stand)"
      ],
      "execution_count": 0,
      "outputs": []
    },
    {
      "cell_type": "markdown",
      "metadata": {
        "id": "WF5fsvoQwBqR",
        "colab_type": "text"
      },
      "source": [
        "#Z-score dopo LDA"
      ]
    },
    {
      "cell_type": "code",
      "metadata": {
        "id": "btYbsLEB_6nq",
        "colab_type": "code",
        "colab": {}
      },
      "source": [
        "from sklearn.preprocessing import StandardScaler\n",
        "scaler_2 = StandardScaler()\n",
        "train_data_stand_lda = scaler_2.fit_transform(train_data_stand_lda)\n",
        "val_data_stand_lda = scaler_2.transform(val_data_stand_lda)\n",
        "test_data_stand_lda = scaler_2.transform(test_data_stand_lda)"
      ],
      "execution_count": 0,
      "outputs": []
    },
    {
      "cell_type": "code",
      "metadata": {
        "id": "Bw8_CwJZwBD1",
        "colab_type": "code",
        "colab": {}
      },
      "source": [
        "mean = train_data_stand_lda.mean(axis=0)\n",
        "std = train_data_stand_lda.std(axis=0)\n",
        "train_data_stand_lda = train_data_stand_lda - mean\n",
        "train_data_stand_lda /= std"
      ],
      "execution_count": 0,
      "outputs": []
    },
    {
      "cell_type": "code",
      "metadata": {
        "id": "3KW2c_RIXpWy",
        "colab_type": "code",
        "colab": {}
      },
      "source": [
        "val_data_stand_lda = val_data_stand_lda - mean\n",
        "val_data_stand_lda /= std"
      ],
      "execution_count": 0,
      "outputs": []
    },
    {
      "cell_type": "code",
      "metadata": {
        "id": "H3wGNwiWXvbo",
        "colab_type": "code",
        "colab": {}
      },
      "source": [
        "test_data_stand_lda = test_data_stand_lda - mean\n",
        "test_data_stand_lda /= std"
      ],
      "execution_count": 0,
      "outputs": []
    },
    {
      "cell_type": "markdown",
      "metadata": {
        "id": "00VohsAyokpq",
        "colab_type": "text"
      },
      "source": [
        "##Vettorizzare i label"
      ]
    },
    {
      "cell_type": "code",
      "metadata": {
        "id": "8RvS_9ISpxRi",
        "colab_type": "code",
        "colab": {}
      },
      "source": [
        "word_index={'adenocarcinoma':0, 'large cell':1, 'squamous cell carcinoma':2}"
      ],
      "execution_count": 0,
      "outputs": []
    },
    {
      "cell_type": "code",
      "metadata": {
        "id": "uiPW9U0XrWY2",
        "colab_type": "code",
        "colab": {}
      },
      "source": [
        "train_labels_dec = [word_index[label] for label in y_train]"
      ],
      "execution_count": 0,
      "outputs": []
    },
    {
      "cell_type": "code",
      "metadata": {
        "id": "wTLYdHX-mYtM",
        "colab_type": "code",
        "colab": {}
      },
      "source": [
        "val_labels_dec = [word_index[label] for label in y_val]"
      ],
      "execution_count": 0,
      "outputs": []
    },
    {
      "cell_type": "code",
      "metadata": {
        "id": "C4SBiKFQsKFw",
        "colab_type": "code",
        "colab": {}
      },
      "source": [
        "test_labels_dec = [word_index[label] for label in y_test]"
      ],
      "execution_count": 0,
      "outputs": []
    },
    {
      "cell_type": "code",
      "metadata": {
        "id": "0IMbTYR7okJq",
        "colab_type": "code",
        "colab": {}
      },
      "source": [
        "from keras.utils.np_utils import to_categorical"
      ],
      "execution_count": 0,
      "outputs": []
    },
    {
      "cell_type": "code",
      "metadata": {
        "id": "0Frv4FDNn6Qu",
        "colab_type": "code",
        "colab": {}
      },
      "source": [
        "one_hot_train_labels = to_categorical(train_labels_dec)\n",
        "one_hot_val_labels = to_categorical(val_labels_dec)\n",
        "one_hot_test_labels = to_categorical(test_labels_dec)"
      ],
      "execution_count": 0,
      "outputs": []
    },
    {
      "cell_type": "markdown",
      "metadata": {
        "colab_type": "text",
        "id": "5r_lV6xwmmPi"
      },
      "source": [
        "#Building Network"
      ]
    },
    {
      "cell_type": "code",
      "metadata": {
        "colab_type": "code",
        "id": "vOCMUAeUmmP0",
        "colab": {}
      },
      "source": [
        "import keras\n",
        "from keras import layers\n",
        "from keras.preprocessing import sequence"
      ],
      "execution_count": 0,
      "outputs": []
    },
    {
      "cell_type": "code",
      "metadata": {
        "colab_type": "code",
        "id": "OjW-IrxommQE",
        "colab": {}
      },
      "source": [
        "from keras import layers"
      ],
      "execution_count": 0,
      "outputs": []
    },
    {
      "cell_type": "code",
      "metadata": {
        "colab_type": "code",
        "id": "o-AuSahCmmQO",
        "colab": {}
      },
      "source": [
        "from keras import regularizers"
      ],
      "execution_count": 0,
      "outputs": []
    },
    {
      "cell_type": "code",
      "metadata": {
        "colab_type": "code",
        "id": "CUw7ZwNwmmQV",
        "colab": {}
      },
      "source": [
        "from keras.optimizers import SGD"
      ],
      "execution_count": 0,
      "outputs": []
    },
    {
      "cell_type": "code",
      "metadata": {
        "colab_type": "code",
        "id": "PfAdcrAmmmQc",
        "colab": {}
      },
      "source": [
        "def build_model():\n",
        "  model = keras.models.Sequential()\n",
        "  model.add(layers.Dense(8, activation='relu', input_shape=(2,), kernel_regularizer=regularizers.l2(l=0.1)))\n",
        "  #model.add(layers.Dense(7, activation='relu'))\n",
        "  #model.add(layers.Dropout(rate=0.2))\n",
        "\n",
        "  model.add(layers.Dense(3, activation='softmax'))\n",
        "\n",
        "  sgd = SGD(lr=0.001, momentum=0.5)\n",
        "  \n",
        "  model.compile(optimizer=sgd, loss='categorical_crossentropy', metrics=['accuracy'])\n",
        "  return model"
      ],
      "execution_count": 0,
      "outputs": []
    },
    {
      "cell_type": "code",
      "metadata": {
        "id": "CTAd2LU_dEO2",
        "colab_type": "code",
        "colab": {}
      },
      "source": [
        "from keras.callbacks import ReduceLROnPlateau\n",
        "red_lr = ReduceLROnPlateau('val_loss', patience=10, verbose=1, min_lr=0.0001)"
      ],
      "execution_count": 0,
      "outputs": []
    },
    {
      "cell_type": "code",
      "metadata": {
        "id": "GF_sSb3CnLM2",
        "colab_type": "code",
        "outputId": "8934bbb8-c7cf-43d1-e221-ccc94aa26fb8",
        "colab": {
          "base_uri": "https://localhost:8080/",
          "height": 35
        }
      },
      "source": [
        "one_hot_val_labels.shape"
      ],
      "execution_count": 82,
      "outputs": [
        {
          "output_type": "execute_result",
          "data": {
            "text/plain": [
              "(13, 3)"
            ]
          },
          "metadata": {
            "tags": []
          },
          "execution_count": 82
        }
      ]
    },
    {
      "cell_type": "code",
      "metadata": {
        "id": "35Hc4rG203_u",
        "colab_type": "code",
        "outputId": "15a012a5-04de-450f-e161-237e31fbed43",
        "colab": {
          "base_uri": "https://localhost:8080/",
          "height": 1000
        }
      },
      "source": [
        "num_epochs = 180\n",
        "\n",
        "model = build_model()\n",
        "history = model.fit(train_data_stand_lda, one_hot_train_labels, validation_data=(val_data_stand_lda, one_hot_val_labels), \n",
        "                      epochs= num_epochs, batch_size=10, callbacks=[red_lr])\n",
        "  \n",
        "\n",
        "acc_history = history.history['acc']\n",
        "loss_history = history.history['loss']\n",
        "acc_val_history = history.history['val_acc']\n",
        "loss_val_history = history.history['val_loss']\n"
      ],
      "execution_count": 83,
      "outputs": [
        {
          "output_type": "stream",
          "text": [
            "Train on 105 samples, validate on 13 samples\n",
            "Epoch 1/180\n",
            "105/105 [==============================] - 0s 3ms/step - loss: 1.3480 - acc: 0.8667 - val_loss: 1.6233 - val_acc: 0.3077\n",
            "Epoch 2/180\n",
            "105/105 [==============================] - 0s 137us/step - loss: 1.3283 - acc: 0.8857 - val_loss: 1.5953 - val_acc: 0.3077\n",
            "Epoch 3/180\n",
            "105/105 [==============================] - 0s 119us/step - loss: 1.3086 - acc: 0.8857 - val_loss: 1.5706 - val_acc: 0.3077\n",
            "Epoch 4/180\n",
            "105/105 [==============================] - 0s 147us/step - loss: 1.2896 - acc: 0.8857 - val_loss: 1.5472 - val_acc: 0.3077\n",
            "Epoch 5/180\n",
            "105/105 [==============================] - 0s 173us/step - loss: 1.2717 - acc: 0.8857 - val_loss: 1.5253 - val_acc: 0.3077\n",
            "Epoch 6/180\n",
            "105/105 [==============================] - 0s 158us/step - loss: 1.2536 - acc: 0.8857 - val_loss: 1.5066 - val_acc: 0.3077\n",
            "Epoch 7/180\n",
            "105/105 [==============================] - 0s 133us/step - loss: 1.2362 - acc: 0.8857 - val_loss: 1.4893 - val_acc: 0.3077\n",
            "Epoch 8/180\n",
            "105/105 [==============================] - 0s 131us/step - loss: 1.2194 - acc: 0.8857 - val_loss: 1.4737 - val_acc: 0.3077\n",
            "Epoch 9/180\n",
            "105/105 [==============================] - 0s 136us/step - loss: 1.2030 - acc: 0.8857 - val_loss: 1.4594 - val_acc: 0.3077\n",
            "Epoch 10/180\n",
            "105/105 [==============================] - 0s 142us/step - loss: 1.1869 - acc: 0.8857 - val_loss: 1.4461 - val_acc: 0.4615\n",
            "Epoch 11/180\n",
            "105/105 [==============================] - 0s 124us/step - loss: 1.1711 - acc: 0.8857 - val_loss: 1.4341 - val_acc: 0.5385\n",
            "Epoch 12/180\n",
            "105/105 [==============================] - 0s 139us/step - loss: 1.1561 - acc: 0.8857 - val_loss: 1.4239 - val_acc: 0.4615\n",
            "Epoch 13/180\n",
            "105/105 [==============================] - 0s 133us/step - loss: 1.1415 - acc: 0.8857 - val_loss: 1.4145 - val_acc: 0.4615\n",
            "Epoch 14/180\n",
            "105/105 [==============================] - 0s 128us/step - loss: 1.1271 - acc: 0.8857 - val_loss: 1.4065 - val_acc: 0.4615\n",
            "Epoch 15/180\n",
            "105/105 [==============================] - 0s 133us/step - loss: 1.1133 - acc: 0.8857 - val_loss: 1.3992 - val_acc: 0.4615\n",
            "Epoch 16/180\n",
            "105/105 [==============================] - 0s 141us/step - loss: 1.0997 - acc: 0.8857 - val_loss: 1.3935 - val_acc: 0.4615\n",
            "Epoch 17/180\n",
            "105/105 [==============================] - 0s 138us/step - loss: 1.0864 - acc: 0.8857 - val_loss: 1.3883 - val_acc: 0.4615\n",
            "Epoch 18/180\n",
            "105/105 [==============================] - 0s 128us/step - loss: 1.0734 - acc: 0.8857 - val_loss: 1.3840 - val_acc: 0.4615\n",
            "Epoch 19/180\n",
            "105/105 [==============================] - 0s 149us/step - loss: 1.0608 - acc: 0.8857 - val_loss: 1.3808 - val_acc: 0.4615\n",
            "Epoch 20/180\n",
            "105/105 [==============================] - 0s 147us/step - loss: 1.0485 - acc: 0.8857 - val_loss: 1.3783 - val_acc: 0.5385\n",
            "Epoch 21/180\n",
            "105/105 [==============================] - 0s 150us/step - loss: 1.0365 - acc: 0.8857 - val_loss: 1.3768 - val_acc: 0.5385\n",
            "Epoch 22/180\n",
            "105/105 [==============================] - 0s 140us/step - loss: 1.0249 - acc: 0.8857 - val_loss: 1.3759 - val_acc: 0.5385\n",
            "Epoch 23/180\n",
            "105/105 [==============================] - 0s 139us/step - loss: 1.0133 - acc: 0.8857 - val_loss: 1.3757 - val_acc: 0.5385\n",
            "Epoch 24/180\n",
            "105/105 [==============================] - 0s 120us/step - loss: 1.0022 - acc: 0.8857 - val_loss: 1.3760 - val_acc: 0.5385\n",
            "Epoch 25/180\n",
            "105/105 [==============================] - 0s 130us/step - loss: 0.9914 - acc: 0.8857 - val_loss: 1.3770 - val_acc: 0.5385\n",
            "Epoch 26/180\n",
            "105/105 [==============================] - 0s 145us/step - loss: 0.9807 - acc: 0.8857 - val_loss: 1.3786 - val_acc: 0.5385\n",
            "Epoch 27/180\n",
            "105/105 [==============================] - 0s 148us/step - loss: 0.9703 - acc: 0.8857 - val_loss: 1.3804 - val_acc: 0.5385\n",
            "Epoch 28/180\n",
            "105/105 [==============================] - 0s 142us/step - loss: 0.9602 - acc: 0.8857 - val_loss: 1.3826 - val_acc: 0.5385\n",
            "Epoch 29/180\n",
            "105/105 [==============================] - 0s 147us/step - loss: 0.9501 - acc: 0.8857 - val_loss: 1.3851 - val_acc: 0.5385\n",
            "Epoch 30/180\n",
            "105/105 [==============================] - 0s 136us/step - loss: 0.9404 - acc: 0.8857 - val_loss: 1.3881 - val_acc: 0.5385\n",
            "Epoch 31/180\n",
            "105/105 [==============================] - 0s 128us/step - loss: 0.9307 - acc: 0.8857 - val_loss: 1.3911 - val_acc: 0.5385\n",
            "Epoch 32/180\n",
            "105/105 [==============================] - 0s 148us/step - loss: 0.9213 - acc: 0.8857 - val_loss: 1.3947 - val_acc: 0.5385\n",
            "Epoch 33/180\n",
            "105/105 [==============================] - 0s 144us/step - loss: 0.9121 - acc: 0.8857 - val_loss: 1.3987 - val_acc: 0.5385\n",
            "\n",
            "Epoch 00033: ReduceLROnPlateau reducing learning rate to 0.00010000000474974513.\n",
            "Epoch 34/180\n",
            "105/105 [==============================] - 0s 136us/step - loss: 0.9059 - acc: 0.8857 - val_loss: 1.3997 - val_acc: 0.6154\n",
            "Epoch 35/180\n",
            "105/105 [==============================] - 0s 141us/step - loss: 0.9049 - acc: 0.8857 - val_loss: 1.4001 - val_acc: 0.6154\n",
            "Epoch 36/180\n",
            "105/105 [==============================] - 0s 138us/step - loss: 0.9040 - acc: 0.8857 - val_loss: 1.4005 - val_acc: 0.6154\n",
            "Epoch 37/180\n",
            "105/105 [==============================] - 0s 138us/step - loss: 0.9031 - acc: 0.8857 - val_loss: 1.4010 - val_acc: 0.6154\n",
            "Epoch 38/180\n",
            "105/105 [==============================] - 0s 139us/step - loss: 0.9022 - acc: 0.8857 - val_loss: 1.4014 - val_acc: 0.6154\n",
            "Epoch 39/180\n",
            "105/105 [==============================] - 0s 145us/step - loss: 0.9013 - acc: 0.8857 - val_loss: 1.4018 - val_acc: 0.6154\n",
            "Epoch 40/180\n",
            "105/105 [==============================] - 0s 144us/step - loss: 0.9004 - acc: 0.8857 - val_loss: 1.4022 - val_acc: 0.6154\n",
            "Epoch 41/180\n",
            "105/105 [==============================] - 0s 146us/step - loss: 0.8996 - acc: 0.8857 - val_loss: 1.4027 - val_acc: 0.6154\n",
            "Epoch 42/180\n",
            "105/105 [==============================] - 0s 167us/step - loss: 0.8987 - acc: 0.8857 - val_loss: 1.4031 - val_acc: 0.6154\n",
            "Epoch 43/180\n",
            "105/105 [==============================] - 0s 140us/step - loss: 0.8978 - acc: 0.8857 - val_loss: 1.4035 - val_acc: 0.6154\n",
            "\n",
            "Epoch 00043: ReduceLROnPlateau reducing learning rate to 0.0001.\n",
            "Epoch 44/180\n",
            "105/105 [==============================] - 0s 141us/step - loss: 0.8969 - acc: 0.8857 - val_loss: 1.4040 - val_acc: 0.6154\n",
            "Epoch 45/180\n",
            "105/105 [==============================] - 0s 156us/step - loss: 0.8960 - acc: 0.8857 - val_loss: 1.4044 - val_acc: 0.6154\n",
            "Epoch 46/180\n",
            "105/105 [==============================] - 0s 165us/step - loss: 0.8952 - acc: 0.8857 - val_loss: 1.4048 - val_acc: 0.6154\n",
            "Epoch 47/180\n",
            "105/105 [==============================] - 0s 130us/step - loss: 0.8943 - acc: 0.8857 - val_loss: 1.4053 - val_acc: 0.6154\n",
            "Epoch 48/180\n",
            "105/105 [==============================] - 0s 144us/step - loss: 0.8935 - acc: 0.8857 - val_loss: 1.4057 - val_acc: 0.6154\n",
            "Epoch 49/180\n",
            "105/105 [==============================] - 0s 133us/step - loss: 0.8926 - acc: 0.8857 - val_loss: 1.4062 - val_acc: 0.6154\n",
            "Epoch 50/180\n",
            "105/105 [==============================] - 0s 153us/step - loss: 0.8918 - acc: 0.8857 - val_loss: 1.4067 - val_acc: 0.6154\n",
            "Epoch 51/180\n",
            "105/105 [==============================] - 0s 146us/step - loss: 0.8909 - acc: 0.8857 - val_loss: 1.4071 - val_acc: 0.6154\n",
            "Epoch 52/180\n",
            "105/105 [==============================] - 0s 149us/step - loss: 0.8901 - acc: 0.8857 - val_loss: 1.4076 - val_acc: 0.6154\n",
            "Epoch 53/180\n",
            "105/105 [==============================] - 0s 126us/step - loss: 0.8892 - acc: 0.8857 - val_loss: 1.4081 - val_acc: 0.6154\n",
            "Epoch 54/180\n",
            "105/105 [==============================] - 0s 131us/step - loss: 0.8884 - acc: 0.8857 - val_loss: 1.4085 - val_acc: 0.6154\n",
            "Epoch 55/180\n",
            "105/105 [==============================] - 0s 168us/step - loss: 0.8875 - acc: 0.8857 - val_loss: 1.4090 - val_acc: 0.6154\n",
            "Epoch 56/180\n",
            "105/105 [==============================] - 0s 157us/step - loss: 0.8867 - acc: 0.8857 - val_loss: 1.4094 - val_acc: 0.6154\n",
            "Epoch 57/180\n",
            "105/105 [==============================] - 0s 160us/step - loss: 0.8859 - acc: 0.8857 - val_loss: 1.4099 - val_acc: 0.6154\n",
            "Epoch 58/180\n",
            "105/105 [==============================] - 0s 151us/step - loss: 0.8850 - acc: 0.8857 - val_loss: 1.4104 - val_acc: 0.6154\n",
            "Epoch 59/180\n",
            "105/105 [==============================] - 0s 123us/step - loss: 0.8842 - acc: 0.8857 - val_loss: 1.4108 - val_acc: 0.6154\n",
            "Epoch 60/180\n",
            "105/105 [==============================] - 0s 145us/step - loss: 0.8834 - acc: 0.8857 - val_loss: 1.4113 - val_acc: 0.6154\n",
            "Epoch 61/180\n",
            "105/105 [==============================] - 0s 146us/step - loss: 0.8826 - acc: 0.8857 - val_loss: 1.4118 - val_acc: 0.6154\n",
            "Epoch 62/180\n",
            "105/105 [==============================] - 0s 124us/step - loss: 0.8817 - acc: 0.8857 - val_loss: 1.4122 - val_acc: 0.6154\n",
            "Epoch 63/180\n",
            "105/105 [==============================] - 0s 130us/step - loss: 0.8809 - acc: 0.8857 - val_loss: 1.4128 - val_acc: 0.6154\n",
            "Epoch 64/180\n",
            "105/105 [==============================] - 0s 137us/step - loss: 0.8801 - acc: 0.8857 - val_loss: 1.4132 - val_acc: 0.6154\n",
            "Epoch 65/180\n",
            "105/105 [==============================] - 0s 151us/step - loss: 0.8793 - acc: 0.8857 - val_loss: 1.4138 - val_acc: 0.6154\n",
            "Epoch 66/180\n",
            "105/105 [==============================] - 0s 136us/step - loss: 0.8785 - acc: 0.8857 - val_loss: 1.4143 - val_acc: 0.6154\n",
            "Epoch 67/180\n",
            "105/105 [==============================] - 0s 138us/step - loss: 0.8777 - acc: 0.8857 - val_loss: 1.4148 - val_acc: 0.6154\n",
            "Epoch 68/180\n",
            "105/105 [==============================] - 0s 147us/step - loss: 0.8769 - acc: 0.8857 - val_loss: 1.4153 - val_acc: 0.6154\n",
            "Epoch 69/180\n",
            "105/105 [==============================] - 0s 156us/step - loss: 0.8761 - acc: 0.8857 - val_loss: 1.4158 - val_acc: 0.6154\n",
            "Epoch 70/180\n",
            "105/105 [==============================] - 0s 132us/step - loss: 0.8753 - acc: 0.8857 - val_loss: 1.4163 - val_acc: 0.6154\n",
            "Epoch 71/180\n",
            "105/105 [==============================] - 0s 123us/step - loss: 0.8745 - acc: 0.8857 - val_loss: 1.4168 - val_acc: 0.6154\n",
            "Epoch 72/180\n",
            "105/105 [==============================] - 0s 145us/step - loss: 0.8737 - acc: 0.8857 - val_loss: 1.4174 - val_acc: 0.5385\n",
            "Epoch 73/180\n",
            "105/105 [==============================] - 0s 131us/step - loss: 0.8729 - acc: 0.8857 - val_loss: 1.4179 - val_acc: 0.5385\n",
            "Epoch 74/180\n",
            "105/105 [==============================] - 0s 131us/step - loss: 0.8721 - acc: 0.8857 - val_loss: 1.4184 - val_acc: 0.5385\n",
            "Epoch 75/180\n",
            "105/105 [==============================] - 0s 139us/step - loss: 0.8713 - acc: 0.8857 - val_loss: 1.4189 - val_acc: 0.5385\n",
            "Epoch 76/180\n",
            "105/105 [==============================] - 0s 142us/step - loss: 0.8705 - acc: 0.8857 - val_loss: 1.4194 - val_acc: 0.5385\n",
            "Epoch 77/180\n",
            "105/105 [==============================] - 0s 158us/step - loss: 0.8697 - acc: 0.8857 - val_loss: 1.4200 - val_acc: 0.5385\n",
            "Epoch 78/180\n",
            "105/105 [==============================] - 0s 147us/step - loss: 0.8690 - acc: 0.8857 - val_loss: 1.4205 - val_acc: 0.5385\n",
            "Epoch 79/180\n",
            "105/105 [==============================] - 0s 152us/step - loss: 0.8682 - acc: 0.8857 - val_loss: 1.4210 - val_acc: 0.5385\n",
            "Epoch 80/180\n",
            "105/105 [==============================] - 0s 140us/step - loss: 0.8674 - acc: 0.8857 - val_loss: 1.4215 - val_acc: 0.5385\n",
            "Epoch 81/180\n",
            "105/105 [==============================] - 0s 131us/step - loss: 0.8666 - acc: 0.8857 - val_loss: 1.4220 - val_acc: 0.5385\n",
            "Epoch 82/180\n",
            "105/105 [==============================] - 0s 127us/step - loss: 0.8658 - acc: 0.8857 - val_loss: 1.4226 - val_acc: 0.5385\n",
            "Epoch 83/180\n",
            "105/105 [==============================] - 0s 132us/step - loss: 0.8650 - acc: 0.8857 - val_loss: 1.4231 - val_acc: 0.5385\n",
            "Epoch 84/180\n",
            "105/105 [==============================] - 0s 124us/step - loss: 0.8643 - acc: 0.8857 - val_loss: 1.4236 - val_acc: 0.5385\n",
            "Epoch 85/180\n",
            "105/105 [==============================] - 0s 162us/step - loss: 0.8635 - acc: 0.8857 - val_loss: 1.4242 - val_acc: 0.5385\n",
            "Epoch 86/180\n",
            "105/105 [==============================] - 0s 127us/step - loss: 0.8627 - acc: 0.8857 - val_loss: 1.4247 - val_acc: 0.5385\n",
            "Epoch 87/180\n",
            "105/105 [==============================] - 0s 129us/step - loss: 0.8619 - acc: 0.8857 - val_loss: 1.4252 - val_acc: 0.5385\n",
            "Epoch 88/180\n",
            "105/105 [==============================] - 0s 124us/step - loss: 0.8611 - acc: 0.8857 - val_loss: 1.4258 - val_acc: 0.5385\n",
            "Epoch 89/180\n",
            "105/105 [==============================] - 0s 136us/step - loss: 0.8604 - acc: 0.8857 - val_loss: 1.4263 - val_acc: 0.5385\n",
            "Epoch 90/180\n",
            "105/105 [==============================] - 0s 139us/step - loss: 0.8596 - acc: 0.8857 - val_loss: 1.4269 - val_acc: 0.5385\n",
            "Epoch 91/180\n",
            "105/105 [==============================] - 0s 139us/step - loss: 0.8588 - acc: 0.8857 - val_loss: 1.4274 - val_acc: 0.5385\n",
            "Epoch 92/180\n",
            "105/105 [==============================] - 0s 162us/step - loss: 0.8581 - acc: 0.8857 - val_loss: 1.4279 - val_acc: 0.5385\n",
            "Epoch 93/180\n",
            "105/105 [==============================] - 0s 145us/step - loss: 0.8573 - acc: 0.8857 - val_loss: 1.4285 - val_acc: 0.5385\n",
            "Epoch 94/180\n",
            "105/105 [==============================] - 0s 137us/step - loss: 0.8565 - acc: 0.8857 - val_loss: 1.4290 - val_acc: 0.5385\n",
            "Epoch 95/180\n",
            "105/105 [==============================] - 0s 136us/step - loss: 0.8558 - acc: 0.8857 - val_loss: 1.4296 - val_acc: 0.5385\n",
            "Epoch 96/180\n",
            "105/105 [==============================] - 0s 123us/step - loss: 0.8550 - acc: 0.8857 - val_loss: 1.4302 - val_acc: 0.5385\n",
            "Epoch 97/180\n",
            "105/105 [==============================] - 0s 135us/step - loss: 0.8542 - acc: 0.8857 - val_loss: 1.4307 - val_acc: 0.5385\n",
            "Epoch 98/180\n",
            "105/105 [==============================] - 0s 131us/step - loss: 0.8535 - acc: 0.8857 - val_loss: 1.4313 - val_acc: 0.5385\n",
            "Epoch 99/180\n",
            "105/105 [==============================] - 0s 133us/step - loss: 0.8527 - acc: 0.8857 - val_loss: 1.4318 - val_acc: 0.5385\n",
            "Epoch 100/180\n",
            "105/105 [==============================] - 0s 134us/step - loss: 0.8520 - acc: 0.8857 - val_loss: 1.4324 - val_acc: 0.5385\n",
            "Epoch 101/180\n",
            "105/105 [==============================] - 0s 141us/step - loss: 0.8512 - acc: 0.8857 - val_loss: 1.4329 - val_acc: 0.5385\n",
            "Epoch 102/180\n",
            "105/105 [==============================] - 0s 130us/step - loss: 0.8505 - acc: 0.8857 - val_loss: 1.4335 - val_acc: 0.5385\n",
            "Epoch 103/180\n",
            "105/105 [==============================] - 0s 152us/step - loss: 0.8497 - acc: 0.8857 - val_loss: 1.4341 - val_acc: 0.5385\n",
            "Epoch 104/180\n",
            "105/105 [==============================] - 0s 128us/step - loss: 0.8490 - acc: 0.8857 - val_loss: 1.4347 - val_acc: 0.5385\n",
            "Epoch 105/180\n",
            "105/105 [==============================] - 0s 130us/step - loss: 0.8482 - acc: 0.8857 - val_loss: 1.4352 - val_acc: 0.5385\n",
            "Epoch 106/180\n",
            "105/105 [==============================] - 0s 136us/step - loss: 0.8475 - acc: 0.8857 - val_loss: 1.4358 - val_acc: 0.5385\n",
            "Epoch 107/180\n",
            "105/105 [==============================] - 0s 119us/step - loss: 0.8467 - acc: 0.8857 - val_loss: 1.4363 - val_acc: 0.5385\n",
            "Epoch 108/180\n",
            "105/105 [==============================] - 0s 136us/step - loss: 0.8460 - acc: 0.8857 - val_loss: 1.4369 - val_acc: 0.5385\n",
            "Epoch 109/180\n",
            "105/105 [==============================] - 0s 146us/step - loss: 0.8453 - acc: 0.8857 - val_loss: 1.4375 - val_acc: 0.5385\n",
            "Epoch 110/180\n",
            "105/105 [==============================] - 0s 128us/step - loss: 0.8445 - acc: 0.8857 - val_loss: 1.4381 - val_acc: 0.5385\n",
            "Epoch 111/180\n",
            "105/105 [==============================] - 0s 131us/step - loss: 0.8438 - acc: 0.8857 - val_loss: 1.4387 - val_acc: 0.5385\n",
            "Epoch 112/180\n",
            "105/105 [==============================] - 0s 139us/step - loss: 0.8431 - acc: 0.8857 - val_loss: 1.4393 - val_acc: 0.5385\n",
            "Epoch 113/180\n",
            "105/105 [==============================] - 0s 158us/step - loss: 0.8423 - acc: 0.8857 - val_loss: 1.4399 - val_acc: 0.5385\n",
            "Epoch 114/180\n",
            "105/105 [==============================] - 0s 165us/step - loss: 0.8416 - acc: 0.8857 - val_loss: 1.4405 - val_acc: 0.5385\n",
            "Epoch 115/180\n",
            "105/105 [==============================] - 0s 156us/step - loss: 0.8409 - acc: 0.8857 - val_loss: 1.4411 - val_acc: 0.5385\n",
            "Epoch 116/180\n",
            "105/105 [==============================] - 0s 149us/step - loss: 0.8401 - acc: 0.8857 - val_loss: 1.4417 - val_acc: 0.5385\n",
            "Epoch 117/180\n",
            "105/105 [==============================] - 0s 160us/step - loss: 0.8394 - acc: 0.8857 - val_loss: 1.4423 - val_acc: 0.5385\n",
            "Epoch 118/180\n",
            "105/105 [==============================] - 0s 178us/step - loss: 0.8387 - acc: 0.8857 - val_loss: 1.4429 - val_acc: 0.5385\n",
            "Epoch 119/180\n",
            "105/105 [==============================] - 0s 120us/step - loss: 0.8379 - acc: 0.8857 - val_loss: 1.4435 - val_acc: 0.5385\n",
            "Epoch 120/180\n",
            "105/105 [==============================] - 0s 118us/step - loss: 0.8372 - acc: 0.8857 - val_loss: 1.4441 - val_acc: 0.5385\n",
            "Epoch 121/180\n",
            "105/105 [==============================] - 0s 136us/step - loss: 0.8365 - acc: 0.8857 - val_loss: 1.4447 - val_acc: 0.5385\n",
            "Epoch 122/180\n",
            "105/105 [==============================] - 0s 125us/step - loss: 0.8358 - acc: 0.8857 - val_loss: 1.4453 - val_acc: 0.5385\n",
            "Epoch 123/180\n",
            "105/105 [==============================] - 0s 138us/step - loss: 0.8351 - acc: 0.8857 - val_loss: 1.4458 - val_acc: 0.5385\n",
            "Epoch 124/180\n",
            "105/105 [==============================] - 0s 110us/step - loss: 0.8343 - acc: 0.8857 - val_loss: 1.4464 - val_acc: 0.5385\n",
            "Epoch 125/180\n",
            "105/105 [==============================] - 0s 131us/step - loss: 0.8336 - acc: 0.8857 - val_loss: 1.4470 - val_acc: 0.5385\n",
            "Epoch 126/180\n",
            "105/105 [==============================] - 0s 122us/step - loss: 0.8329 - acc: 0.8857 - val_loss: 1.4476 - val_acc: 0.5385\n",
            "Epoch 127/180\n",
            "105/105 [==============================] - 0s 144us/step - loss: 0.8322 - acc: 0.8857 - val_loss: 1.4483 - val_acc: 0.5385\n",
            "Epoch 128/180\n",
            "105/105 [==============================] - 0s 123us/step - loss: 0.8315 - acc: 0.8857 - val_loss: 1.4489 - val_acc: 0.5385\n",
            "Epoch 129/180\n",
            "105/105 [==============================] - 0s 151us/step - loss: 0.8308 - acc: 0.8857 - val_loss: 1.4495 - val_acc: 0.5385\n",
            "Epoch 130/180\n",
            "105/105 [==============================] - 0s 146us/step - loss: 0.8301 - acc: 0.8857 - val_loss: 1.4501 - val_acc: 0.5385\n",
            "Epoch 131/180\n",
            "105/105 [==============================] - 0s 134us/step - loss: 0.8294 - acc: 0.8857 - val_loss: 1.4507 - val_acc: 0.5385\n",
            "Epoch 132/180\n",
            "105/105 [==============================] - 0s 131us/step - loss: 0.8287 - acc: 0.8857 - val_loss: 1.4513 - val_acc: 0.5385\n",
            "Epoch 133/180\n",
            "105/105 [==============================] - 0s 178us/step - loss: 0.8280 - acc: 0.8857 - val_loss: 1.4519 - val_acc: 0.5385\n",
            "Epoch 134/180\n",
            "105/105 [==============================] - 0s 174us/step - loss: 0.8273 - acc: 0.8857 - val_loss: 1.4525 - val_acc: 0.5385\n",
            "Epoch 135/180\n",
            "105/105 [==============================] - 0s 138us/step - loss: 0.8266 - acc: 0.8857 - val_loss: 1.4531 - val_acc: 0.5385\n",
            "Epoch 136/180\n",
            "105/105 [==============================] - 0s 159us/step - loss: 0.8259 - acc: 0.8857 - val_loss: 1.4537 - val_acc: 0.5385\n",
            "Epoch 137/180\n",
            "105/105 [==============================] - 0s 159us/step - loss: 0.8252 - acc: 0.8857 - val_loss: 1.4544 - val_acc: 0.5385\n",
            "Epoch 138/180\n",
            "105/105 [==============================] - 0s 155us/step - loss: 0.8245 - acc: 0.8857 - val_loss: 1.4550 - val_acc: 0.5385\n",
            "Epoch 139/180\n",
            "105/105 [==============================] - 0s 146us/step - loss: 0.8238 - acc: 0.8857 - val_loss: 1.4556 - val_acc: 0.5385\n",
            "Epoch 140/180\n",
            "105/105 [==============================] - 0s 165us/step - loss: 0.8231 - acc: 0.8857 - val_loss: 1.4562 - val_acc: 0.5385\n",
            "Epoch 141/180\n",
            "105/105 [==============================] - 0s 143us/step - loss: 0.8224 - acc: 0.8857 - val_loss: 1.4568 - val_acc: 0.5385\n",
            "Epoch 142/180\n",
            "105/105 [==============================] - 0s 122us/step - loss: 0.8217 - acc: 0.8857 - val_loss: 1.4575 - val_acc: 0.5385\n",
            "Epoch 143/180\n",
            "105/105 [==============================] - 0s 151us/step - loss: 0.8211 - acc: 0.8857 - val_loss: 1.4581 - val_acc: 0.5385\n",
            "Epoch 144/180\n",
            "105/105 [==============================] - 0s 125us/step - loss: 0.8204 - acc: 0.8857 - val_loss: 1.4587 - val_acc: 0.5385\n",
            "Epoch 145/180\n",
            "105/105 [==============================] - 0s 144us/step - loss: 0.8197 - acc: 0.8857 - val_loss: 1.4594 - val_acc: 0.5385\n",
            "Epoch 146/180\n",
            "105/105 [==============================] - 0s 151us/step - loss: 0.8190 - acc: 0.8857 - val_loss: 1.4600 - val_acc: 0.5385\n",
            "Epoch 147/180\n",
            "105/105 [==============================] - 0s 140us/step - loss: 0.8183 - acc: 0.8857 - val_loss: 1.4607 - val_acc: 0.5385\n",
            "Epoch 148/180\n",
            "105/105 [==============================] - 0s 126us/step - loss: 0.8177 - acc: 0.8857 - val_loss: 1.4613 - val_acc: 0.5385\n",
            "Epoch 149/180\n",
            "105/105 [==============================] - 0s 135us/step - loss: 0.8170 - acc: 0.8857 - val_loss: 1.4620 - val_acc: 0.5385\n",
            "Epoch 150/180\n",
            "105/105 [==============================] - 0s 153us/step - loss: 0.8163 - acc: 0.8857 - val_loss: 1.4626 - val_acc: 0.5385\n",
            "Epoch 151/180\n",
            "105/105 [==============================] - 0s 131us/step - loss: 0.8156 - acc: 0.8857 - val_loss: 1.4632 - val_acc: 0.5385\n",
            "Epoch 152/180\n",
            "105/105 [==============================] - 0s 119us/step - loss: 0.8150 - acc: 0.8857 - val_loss: 1.4639 - val_acc: 0.5385\n",
            "Epoch 153/180\n",
            "105/105 [==============================] - 0s 144us/step - loss: 0.8143 - acc: 0.8857 - val_loss: 1.4645 - val_acc: 0.5385\n",
            "Epoch 154/180\n",
            "105/105 [==============================] - 0s 138us/step - loss: 0.8136 - acc: 0.8857 - val_loss: 1.4652 - val_acc: 0.5385\n",
            "Epoch 155/180\n",
            "105/105 [==============================] - 0s 139us/step - loss: 0.8130 - acc: 0.8857 - val_loss: 1.4658 - val_acc: 0.5385\n",
            "Epoch 156/180\n",
            "105/105 [==============================] - 0s 127us/step - loss: 0.8123 - acc: 0.8857 - val_loss: 1.4665 - val_acc: 0.5385\n",
            "Epoch 157/180\n",
            "105/105 [==============================] - 0s 147us/step - loss: 0.8116 - acc: 0.8857 - val_loss: 1.4671 - val_acc: 0.5385\n",
            "Epoch 158/180\n",
            "105/105 [==============================] - 0s 134us/step - loss: 0.8110 - acc: 0.8857 - val_loss: 1.4678 - val_acc: 0.5385\n",
            "Epoch 159/180\n",
            "105/105 [==============================] - 0s 135us/step - loss: 0.8103 - acc: 0.8857 - val_loss: 1.4684 - val_acc: 0.5385\n",
            "Epoch 160/180\n",
            "105/105 [==============================] - 0s 143us/step - loss: 0.8096 - acc: 0.8857 - val_loss: 1.4691 - val_acc: 0.5385\n",
            "Epoch 161/180\n",
            "105/105 [==============================] - 0s 152us/step - loss: 0.8090 - acc: 0.8857 - val_loss: 1.4697 - val_acc: 0.5385\n",
            "Epoch 162/180\n",
            "105/105 [==============================] - 0s 135us/step - loss: 0.8083 - acc: 0.8857 - val_loss: 1.4704 - val_acc: 0.5385\n",
            "Epoch 163/180\n",
            "105/105 [==============================] - 0s 143us/step - loss: 0.8076 - acc: 0.8857 - val_loss: 1.4710 - val_acc: 0.5385\n",
            "Epoch 164/180\n",
            "105/105 [==============================] - 0s 130us/step - loss: 0.8070 - acc: 0.8857 - val_loss: 1.4717 - val_acc: 0.5385\n",
            "Epoch 165/180\n",
            "105/105 [==============================] - 0s 131us/step - loss: 0.8063 - acc: 0.8857 - val_loss: 1.4724 - val_acc: 0.5385\n",
            "Epoch 166/180\n",
            "105/105 [==============================] - 0s 122us/step - loss: 0.8057 - acc: 0.8857 - val_loss: 1.4730 - val_acc: 0.5385\n",
            "Epoch 167/180\n",
            "105/105 [==============================] - 0s 128us/step - loss: 0.8050 - acc: 0.8857 - val_loss: 1.4737 - val_acc: 0.5385\n",
            "Epoch 168/180\n",
            "105/105 [==============================] - 0s 137us/step - loss: 0.8043 - acc: 0.8857 - val_loss: 1.4744 - val_acc: 0.5385\n",
            "Epoch 169/180\n",
            "105/105 [==============================] - 0s 121us/step - loss: 0.8037 - acc: 0.8857 - val_loss: 1.4750 - val_acc: 0.5385\n",
            "Epoch 170/180\n",
            "105/105 [==============================] - 0s 125us/step - loss: 0.8030 - acc: 0.8857 - val_loss: 1.4757 - val_acc: 0.5385\n",
            "Epoch 171/180\n",
            "105/105 [==============================] - 0s 130us/step - loss: 0.8024 - acc: 0.8857 - val_loss: 1.4763 - val_acc: 0.5385\n",
            "Epoch 172/180\n",
            "105/105 [==============================] - 0s 125us/step - loss: 0.8017 - acc: 0.8857 - val_loss: 1.4770 - val_acc: 0.5385\n",
            "Epoch 173/180\n",
            "105/105 [==============================] - 0s 127us/step - loss: 0.8011 - acc: 0.8857 - val_loss: 1.4777 - val_acc: 0.5385\n",
            "Epoch 174/180\n",
            "105/105 [==============================] - 0s 177us/step - loss: 0.8004 - acc: 0.8857 - val_loss: 1.4784 - val_acc: 0.5385\n",
            "Epoch 175/180\n",
            "105/105 [==============================] - 0s 141us/step - loss: 0.7998 - acc: 0.8857 - val_loss: 1.4790 - val_acc: 0.5385\n",
            "Epoch 176/180\n",
            "105/105 [==============================] - 0s 158us/step - loss: 0.7991 - acc: 0.8857 - val_loss: 1.4797 - val_acc: 0.5385\n",
            "Epoch 177/180\n",
            "105/105 [==============================] - 0s 181us/step - loss: 0.7985 - acc: 0.8857 - val_loss: 1.4804 - val_acc: 0.5385\n",
            "Epoch 178/180\n",
            "105/105 [==============================] - 0s 140us/step - loss: 0.7978 - acc: 0.8857 - val_loss: 1.4811 - val_acc: 0.5385\n",
            "Epoch 179/180\n",
            "105/105 [==============================] - 0s 175us/step - loss: 0.7972 - acc: 0.8857 - val_loss: 1.4817 - val_acc: 0.5385\n",
            "Epoch 180/180\n",
            "105/105 [==============================] - 0s 129us/step - loss: 0.7966 - acc: 0.8857 - val_loss: 1.4824 - val_acc: 0.5385\n"
          ],
          "name": "stdout"
        }
      ]
    },
    {
      "cell_type": "markdown",
      "metadata": {
        "colab_type": "text",
        "id": "V0-h4UV1kKGD"
      },
      "source": [
        "##Plotting training and validation loss"
      ]
    },
    {
      "cell_type": "code",
      "metadata": {
        "colab_type": "code",
        "id": "Ep2R0tm9kKGF",
        "colab": {}
      },
      "source": [
        "import matplotlib.pyplot as plt"
      ],
      "execution_count": 0,
      "outputs": []
    },
    {
      "cell_type": "code",
      "metadata": {
        "colab_type": "code",
        "id": "dYcufxLHkKGK",
        "colab": {}
      },
      "source": [
        "epochs = range(1, num_epochs+1)"
      ],
      "execution_count": 0,
      "outputs": []
    },
    {
      "cell_type": "code",
      "metadata": {
        "colab_type": "code",
        "outputId": "ce0c4169-ec20-4e4d-b3e8-e8ccfbaafc1b",
        "id": "XLBO05_pkKGQ",
        "colab": {
          "base_uri": "https://localhost:8080/",
          "height": 313
        }
      },
      "source": [
        "plt.plot(epochs, loss_history, 'b', label='training loss')\n",
        "plt.plot(epochs, loss_val_history, 'r', label='validation loss')\n",
        "plt.title('Training and validation loss lda')\n",
        "plt.xlabel('Epochs')\n",
        "plt.ylabel('Loss')\n",
        "plt.legend()"
      ],
      "execution_count": 86,
      "outputs": [
        {
          "output_type": "execute_result",
          "data": {
            "text/plain": [
              "<matplotlib.legend.Legend at 0x7ff4c426bb70>"
            ]
          },
          "metadata": {
            "tags": []
          },
          "execution_count": 86
        },
        {
          "output_type": "display_data",
          "data": {
            "image/png": "[encoded data removed]",
            "text/plain": [
              "<Figure size 432x288 with 1 Axes>"
            ]
          },
          "metadata": {
            "tags": []
          }
        }
      ]
    },
    {
      "cell_type": "markdown",
      "metadata": {
        "colab_type": "text",
        "id": "XV3hLoOykKGV"
      },
      "source": [
        "##Plotting train and validation accuracy"
      ]
    },
    {
      "cell_type": "code",
      "metadata": {
        "colab_type": "code",
        "outputId": "0bc96451-b2cb-4f7f-daf6-0efea7891062",
        "id": "ttjl5eApkKGV",
        "colab": {
          "base_uri": "https://localhost:8080/",
          "height": 313
        }
      },
      "source": [
        "plt.plot(epochs, acc_history, 'b', label='Training accuracy')\n",
        "plt.plot(epochs, acc_val_history, 'r', label='Validation accuracy')\n",
        "plt.title('Training and validation accuracy lda')\n",
        "plt.xlabel('Epochs')\n",
        "plt.ylabel('Accuracy')\n",
        "plt.legend() "
      ],
      "execution_count": 87,
      "outputs": [
        {
          "output_type": "execute_result",
          "data": {
            "text/plain": [
              "<matplotlib.legend.Legend at 0x7ff4c41eff60>"
            ]
          },
          "metadata": {
            "tags": []
          },
          "execution_count": 87
        },
        {
          "output_type": "display_data",
          "data": {
            "image/png": "[encoded data removed]",
            "text/plain": [
              "<Figure size 432x288 with 1 Axes>"
            ]
          },
          "metadata": {
            "tags": []
          }
        }
      ]
    },
    {
      "cell_type": "markdown",
      "metadata": {
        "colab_type": "text",
        "id": "ckvqkyTYqE7B"
      },
      "source": [
        "##Performances on test set"
      ]
    },
    {
      "cell_type": "code",
      "metadata": {
        "colab_type": "code",
        "outputId": "c8a40eee-cdb9-47ae-c1af-99ea63785ce4",
        "id": "kmiW5yZ0qE7Q",
        "colab": {
          "base_uri": "https://localhost:8080/",
          "height": 1000
        }
      },
      "source": [
        " model = build_model()\n",
        " model.fit(train_data_stand_lda, one_hot_train_labels, epochs= num_epochs, batch_size=1, shuffle=True)\n",
        " test_loss, test_acc = model.evaluate(test_data_stand_lda, one_hot_test_labels)\n",
        "  "
      ],
      "execution_count": 88,
      "outputs": [
        {
          "output_type": "stream",
          "text": [
            "Epoch 1/180\n",
            "105/105 [==============================] - 0s 4ms/step - loss: 1.1976 - acc: 0.4476\n",
            "Epoch 2/180\n",
            "105/105 [==============================] - 0s 895us/step - loss: 1.0908 - acc: 0.5810\n",
            "Epoch 3/180\n",
            "105/105 [==============================] - 0s 915us/step - loss: 1.0153 - acc: 0.5810\n",
            "Epoch 4/180\n",
            "105/105 [==============================] - 0s 917us/step - loss: 0.9541 - acc: 0.5905\n",
            "Epoch 5/180\n",
            "105/105 [==============================] - 0s 787us/step - loss: 0.9022 - acc: 0.7714\n",
            "Epoch 6/180\n",
            "105/105 [==============================] - 0s 799us/step - loss: 0.8565 - acc: 0.9810\n",
            "Epoch 7/180\n",
            "105/105 [==============================] - 0s 939us/step - loss: 0.8157 - acc: 0.9905\n",
            "Epoch 8/180\n",
            "105/105 [==============================] - 0s 852us/step - loss: 0.7787 - acc: 0.9905\n",
            "Epoch 9/180\n",
            "105/105 [==============================] - 0s 817us/step - loss: 0.7448 - acc: 1.0000\n",
            "Epoch 10/180\n",
            "105/105 [==============================] - 0s 809us/step - loss: 0.7135 - acc: 1.0000\n",
            "Epoch 11/180\n",
            "105/105 [==============================] - 0s 803us/step - loss: 0.6844 - acc: 1.0000\n",
            "Epoch 12/180\n",
            "105/105 [==============================] - 0s 822us/step - loss: 0.6575 - acc: 1.0000\n",
            "Epoch 13/180\n",
            "105/105 [==============================] - 0s 841us/step - loss: 0.6323 - acc: 1.0000\n",
            "Epoch 14/180\n",
            "105/105 [==============================] - 0s 842us/step - loss: 0.6090 - acc: 1.0000\n",
            "Epoch 15/180\n",
            "105/105 [==============================] - 0s 806us/step - loss: 0.5872 - acc: 1.0000\n",
            "Epoch 16/180\n",
            "105/105 [==============================] - 0s 832us/step - loss: 0.5666 - acc: 1.0000\n",
            "Epoch 17/180\n",
            "105/105 [==============================] - 0s 807us/step - loss: 0.5471 - acc: 1.0000\n",
            "Epoch 18/180\n",
            "105/105 [==============================] - 0s 901us/step - loss: 0.5287 - acc: 1.0000\n",
            "Epoch 19/180\n",
            "105/105 [==============================] - 0s 870us/step - loss: 0.5111 - acc: 1.0000\n",
            "Epoch 20/180\n",
            "105/105 [==============================] - 0s 917us/step - loss: 0.4944 - acc: 1.0000\n",
            "Epoch 21/180\n",
            "105/105 [==============================] - 0s 909us/step - loss: 0.4783 - acc: 1.0000\n",
            "Epoch 22/180\n",
            "105/105 [==============================] - 0s 899us/step - loss: 0.4628 - acc: 1.0000\n",
            "Epoch 23/180\n",
            "105/105 [==============================] - 0s 913us/step - loss: 0.4479 - acc: 1.0000\n",
            "Epoch 24/180\n",
            "105/105 [==============================] - 0s 898us/step - loss: 0.4337 - acc: 1.0000\n",
            "Epoch 25/180\n",
            "105/105 [==============================] - 0s 871us/step - loss: 0.4205 - acc: 1.0000\n",
            "Epoch 26/180\n",
            "105/105 [==============================] - 0s 994us/step - loss: 0.4080 - acc: 1.0000\n",
            "Epoch 27/180\n",
            "105/105 [==============================] - 0s 876us/step - loss: 0.3960 - acc: 1.0000\n",
            "Epoch 28/180\n",
            "105/105 [==============================] - 0s 908us/step - loss: 0.3848 - acc: 1.0000\n",
            "Epoch 29/180\n",
            "105/105 [==============================] - 0s 864us/step - loss: 0.3742 - acc: 1.0000\n",
            "Epoch 30/180\n",
            "105/105 [==============================] - 0s 813us/step - loss: 0.3641 - acc: 1.0000\n",
            "Epoch 31/180\n",
            "105/105 [==============================] - 0s 844us/step - loss: 0.3544 - acc: 1.0000\n",
            "Epoch 32/180\n",
            "105/105 [==============================] - 0s 824us/step - loss: 0.3453 - acc: 1.0000\n",
            "Epoch 33/180\n",
            "105/105 [==============================] - 0s 812us/step - loss: 0.3367 - acc: 1.0000\n",
            "Epoch 34/180\n",
            "105/105 [==============================] - 0s 842us/step - loss: 0.3285 - acc: 1.0000\n",
            "Epoch 35/180\n",
            "105/105 [==============================] - 0s 828us/step - loss: 0.3208 - acc: 1.0000\n",
            "Epoch 36/180\n",
            "105/105 [==============================] - 0s 849us/step - loss: 0.3136 - acc: 1.0000\n",
            "Epoch 37/180\n",
            "105/105 [==============================] - 0s 836us/step - loss: 0.3070 - acc: 1.0000\n",
            "Epoch 38/180\n",
            "105/105 [==============================] - 0s 816us/step - loss: 0.3007 - acc: 1.0000\n",
            "Epoch 39/180\n",
            "105/105 [==============================] - 0s 853us/step - loss: 0.2948 - acc: 1.0000\n",
            "Epoch 40/180\n",
            "105/105 [==============================] - 0s 825us/step - loss: 0.2894 - acc: 1.0000\n",
            "Epoch 41/180\n",
            "105/105 [==============================] - 0s 836us/step - loss: 0.2842 - acc: 1.0000\n",
            "Epoch 42/180\n",
            "105/105 [==============================] - 0s 954us/step - loss: 0.2793 - acc: 1.0000\n",
            "Epoch 43/180\n",
            "105/105 [==============================] - 0s 818us/step - loss: 0.2748 - acc: 1.0000\n",
            "Epoch 44/180\n",
            "105/105 [==============================] - 0s 849us/step - loss: 0.2704 - acc: 1.0000\n",
            "Epoch 45/180\n",
            "105/105 [==============================] - 0s 828us/step - loss: 0.2663 - acc: 1.0000\n",
            "Epoch 46/180\n",
            "105/105 [==============================] - 0s 808us/step - loss: 0.2625 - acc: 1.0000\n",
            "Epoch 47/180\n",
            "105/105 [==============================] - 0s 908us/step - loss: 0.2587 - acc: 1.0000\n",
            "Epoch 48/180\n",
            "105/105 [==============================] - 0s 846us/step - loss: 0.2552 - acc: 1.0000\n",
            "Epoch 49/180\n",
            "105/105 [==============================] - 0s 826us/step - loss: 0.2519 - acc: 1.0000\n",
            "Epoch 50/180\n",
            "105/105 [==============================] - 0s 889us/step - loss: 0.2488 - acc: 1.0000\n",
            "Epoch 51/180\n",
            "105/105 [==============================] - 0s 838us/step - loss: 0.2458 - acc: 1.0000\n",
            "Epoch 52/180\n",
            "105/105 [==============================] - 0s 874us/step - loss: 0.2428 - acc: 1.0000\n",
            "Epoch 53/180\n",
            "105/105 [==============================] - 0s 858us/step - loss: 0.2401 - acc: 1.0000\n",
            "Epoch 54/180\n",
            "105/105 [==============================] - 0s 887us/step - loss: 0.2374 - acc: 1.0000\n",
            "Epoch 55/180\n",
            "105/105 [==============================] - 0s 867us/step - loss: 0.2349 - acc: 1.0000\n",
            "Epoch 56/180\n",
            "105/105 [==============================] - 0s 852us/step - loss: 0.2325 - acc: 1.0000\n",
            "Epoch 57/180\n",
            "105/105 [==============================] - 0s 923us/step - loss: 0.2302 - acc: 1.0000\n",
            "Epoch 58/180\n",
            "105/105 [==============================] - 0s 824us/step - loss: 0.2279 - acc: 1.0000\n",
            "Epoch 59/180\n",
            "105/105 [==============================] - 0s 916us/step - loss: 0.2257 - acc: 1.0000\n",
            "Epoch 60/180\n",
            "105/105 [==============================] - 0s 899us/step - loss: 0.2237 - acc: 1.0000\n",
            "Epoch 61/180\n",
            "105/105 [==============================] - 0s 886us/step - loss: 0.2216 - acc: 1.0000\n",
            "Epoch 62/180\n",
            "105/105 [==============================] - 0s 876us/step - loss: 0.2197 - acc: 1.0000\n",
            "Epoch 63/180\n",
            "105/105 [==============================] - 0s 862us/step - loss: 0.2178 - acc: 1.0000\n",
            "Epoch 64/180\n",
            "105/105 [==============================] - 0s 902us/step - loss: 0.2159 - acc: 1.0000\n",
            "Epoch 65/180\n",
            "105/105 [==============================] - 0s 993us/step - loss: 0.2142 - acc: 1.0000\n",
            "Epoch 66/180\n",
            "105/105 [==============================] - 0s 977us/step - loss: 0.2125 - acc: 1.0000\n",
            "Epoch 67/180\n",
            "105/105 [==============================] - 0s 860us/step - loss: 0.2108 - acc: 1.0000\n",
            "Epoch 68/180\n",
            "105/105 [==============================] - 0s 952us/step - loss: 0.2092 - acc: 1.0000\n",
            "Epoch 69/180\n",
            "105/105 [==============================] - 0s 935us/step - loss: 0.2076 - acc: 1.0000\n",
            "Epoch 70/180\n",
            "105/105 [==============================] - 0s 833us/step - loss: 0.2061 - acc: 1.0000\n",
            "Epoch 71/180\n",
            "105/105 [==============================] - 0s 878us/step - loss: 0.2046 - acc: 1.0000\n",
            "Epoch 72/180\n",
            "105/105 [==============================] - 0s 876us/step - loss: 0.2032 - acc: 1.0000\n",
            "Epoch 73/180\n",
            "105/105 [==============================] - 0s 838us/step - loss: 0.2018 - acc: 1.0000\n",
            "Epoch 74/180\n",
            "105/105 [==============================] - 0s 813us/step - loss: 0.2005 - acc: 1.0000\n",
            "Epoch 75/180\n",
            "105/105 [==============================] - 0s 827us/step - loss: 0.1992 - acc: 1.0000\n",
            "Epoch 76/180\n",
            "105/105 [==============================] - 0s 836us/step - loss: 0.1978 - acc: 1.0000\n",
            "Epoch 77/180\n",
            "105/105 [==============================] - 0s 842us/step - loss: 0.1966 - acc: 1.0000\n",
            "Epoch 78/180\n",
            "105/105 [==============================] - 0s 836us/step - loss: 0.1953 - acc: 1.0000\n",
            "Epoch 79/180\n",
            "105/105 [==============================] - 0s 802us/step - loss: 0.1942 - acc: 1.0000\n",
            "Epoch 80/180\n",
            "105/105 [==============================] - 0s 858us/step - loss: 0.1930 - acc: 1.0000\n",
            "Epoch 81/180\n",
            "105/105 [==============================] - 0s 805us/step - loss: 0.1919 - acc: 1.0000\n",
            "Epoch 82/180\n",
            "105/105 [==============================] - 0s 781us/step - loss: 0.1907 - acc: 1.0000\n",
            "Epoch 83/180\n",
            "105/105 [==============================] - 0s 915us/step - loss: 0.1896 - acc: 1.0000\n",
            "Epoch 84/180\n",
            "105/105 [==============================] - 0s 778us/step - loss: 0.1885 - acc: 1.0000\n",
            "Epoch 85/180\n",
            "105/105 [==============================] - 0s 837us/step - loss: 0.1874 - acc: 1.0000\n",
            "Epoch 86/180\n",
            "105/105 [==============================] - 0s 808us/step - loss: 0.1864 - acc: 1.0000\n",
            "Epoch 87/180\n",
            "105/105 [==============================] - 0s 798us/step - loss: 0.1854 - acc: 1.0000\n",
            "Epoch 88/180\n",
            "105/105 [==============================] - 0s 810us/step - loss: 0.1844 - acc: 1.0000\n",
            "Epoch 89/180\n",
            "105/105 [==============================] - 0s 804us/step - loss: 0.1834 - acc: 1.0000\n",
            "Epoch 90/180\n",
            "105/105 [==============================] - 0s 802us/step - loss: 0.1825 - acc: 1.0000\n",
            "Epoch 91/180\n",
            "105/105 [==============================] - 0s 827us/step - loss: 0.1816 - acc: 1.0000\n",
            "Epoch 92/180\n",
            "105/105 [==============================] - 0s 937us/step - loss: 0.1806 - acc: 1.0000\n",
            "Epoch 93/180\n",
            "105/105 [==============================] - 0s 952us/step - loss: 0.1797 - acc: 1.0000\n",
            "Epoch 94/180\n",
            "105/105 [==============================] - 0s 849us/step - loss: 0.1788 - acc: 1.0000\n",
            "Epoch 95/180\n",
            "105/105 [==============================] - 0s 845us/step - loss: 0.1780 - acc: 1.0000\n",
            "Epoch 96/180\n",
            "105/105 [==============================] - 0s 944us/step - loss: 0.1771 - acc: 1.0000\n",
            "Epoch 97/180\n",
            "105/105 [==============================] - 0s 800us/step - loss: 0.1763 - acc: 1.0000\n",
            "Epoch 98/180\n",
            "105/105 [==============================] - 0s 866us/step - loss: 0.1755 - acc: 1.0000\n",
            "Epoch 99/180\n",
            "105/105 [==============================] - 0s 863us/step - loss: 0.1747 - acc: 1.0000\n",
            "Epoch 100/180\n",
            "105/105 [==============================] - 0s 819us/step - loss: 0.1739 - acc: 1.0000\n",
            "Epoch 101/180\n",
            "105/105 [==============================] - 0s 848us/step - loss: 0.1731 - acc: 1.0000\n",
            "Epoch 102/180\n",
            "105/105 [==============================] - 0s 849us/step - loss: 0.1723 - acc: 1.0000\n",
            "Epoch 103/180\n",
            "105/105 [==============================] - 0s 849us/step - loss: 0.1716 - acc: 1.0000\n",
            "Epoch 104/180\n",
            "105/105 [==============================] - 0s 837us/step - loss: 0.1708 - acc: 1.0000\n",
            "Epoch 105/180\n",
            "105/105 [==============================] - 0s 833us/step - loss: 0.1701 - acc: 1.0000\n",
            "Epoch 106/180\n",
            "105/105 [==============================] - 0s 893us/step - loss: 0.1694 - acc: 1.0000\n",
            "Epoch 107/180\n",
            "105/105 [==============================] - 0s 856us/step - loss: 0.1687 - acc: 1.0000\n",
            "Epoch 108/180\n",
            "105/105 [==============================] - 0s 898us/step - loss: 0.1680 - acc: 1.0000\n",
            "Epoch 109/180\n",
            "105/105 [==============================] - 0s 881us/step - loss: 0.1673 - acc: 1.0000\n",
            "Epoch 110/180\n",
            "105/105 [==============================] - 0s 827us/step - loss: 0.1666 - acc: 1.0000\n",
            "Epoch 111/180\n",
            "105/105 [==============================] - 0s 904us/step - loss: 0.1659 - acc: 1.0000\n",
            "Epoch 112/180\n",
            "105/105 [==============================] - 0s 848us/step - loss: 0.1653 - acc: 1.0000\n",
            "Epoch 113/180\n",
            "105/105 [==============================] - 0s 847us/step - loss: 0.1646 - acc: 1.0000\n",
            "Epoch 114/180\n",
            "105/105 [==============================] - 0s 877us/step - loss: 0.1640 - acc: 1.0000\n",
            "Epoch 115/180\n",
            "105/105 [==============================] - 0s 864us/step - loss: 0.1634 - acc: 1.0000\n",
            "Epoch 116/180\n",
            "105/105 [==============================] - 0s 926us/step - loss: 0.1627 - acc: 1.0000\n",
            "Epoch 117/180\n",
            "105/105 [==============================] - 0s 906us/step - loss: 0.1621 - acc: 1.0000\n",
            "Epoch 118/180\n",
            "105/105 [==============================] - 0s 926us/step - loss: 0.1615 - acc: 1.0000\n",
            "Epoch 119/180\n",
            "105/105 [==============================] - 0s 911us/step - loss: 0.1609 - acc: 1.0000\n",
            "Epoch 120/180\n",
            "105/105 [==============================] - 0s 939us/step - loss: 0.1603 - acc: 1.0000\n",
            "Epoch 121/180\n",
            "105/105 [==============================] - 0s 895us/step - loss: 0.1597 - acc: 1.0000\n",
            "Epoch 122/180\n",
            "105/105 [==============================] - 0s 947us/step - loss: 0.1592 - acc: 1.0000\n",
            "Epoch 123/180\n",
            "105/105 [==============================] - 0s 834us/step - loss: 0.1586 - acc: 1.0000\n",
            "Epoch 124/180\n",
            "105/105 [==============================] - 0s 838us/step - loss: 0.1581 - acc: 1.0000\n",
            "Epoch 125/180\n",
            "105/105 [==============================] - 0s 868us/step - loss: 0.1575 - acc: 1.0000\n",
            "Epoch 126/180\n",
            "105/105 [==============================] - 0s 869us/step - loss: 0.1569 - acc: 1.0000\n",
            "Epoch 127/180\n",
            "105/105 [==============================] - 0s 861us/step - loss: 0.1564 - acc: 1.0000\n",
            "Epoch 128/180\n",
            "105/105 [==============================] - 0s 966us/step - loss: 0.1559 - acc: 1.0000\n",
            "Epoch 129/180\n",
            "105/105 [==============================] - 0s 923us/step - loss: 0.1553 - acc: 1.0000\n",
            "Epoch 130/180\n",
            "105/105 [==============================] - 0s 955us/step - loss: 0.1548 - acc: 1.0000\n",
            "Epoch 131/180\n",
            "105/105 [==============================] - 0s 890us/step - loss: 0.1543 - acc: 1.0000\n",
            "Epoch 132/180\n",
            "105/105 [==============================] - 0s 938us/step - loss: 0.1538 - acc: 1.0000\n",
            "Epoch 133/180\n",
            "105/105 [==============================] - 0s 909us/step - loss: 0.1533 - acc: 1.0000\n",
            "Epoch 134/180\n",
            "105/105 [==============================] - 0s 907us/step - loss: 0.1528 - acc: 1.0000\n",
            "Epoch 135/180\n",
            "105/105 [==============================] - 0s 949us/step - loss: 0.1523 - acc: 1.0000\n",
            "Epoch 136/180\n",
            "105/105 [==============================] - 0s 902us/step - loss: 0.1518 - acc: 1.0000\n",
            "Epoch 137/180\n",
            "105/105 [==============================] - 0s 918us/step - loss: 0.1513 - acc: 1.0000\n",
            "Epoch 138/180\n",
            "105/105 [==============================] - 0s 924us/step - loss: 0.1509 - acc: 1.0000\n",
            "Epoch 139/180\n",
            "105/105 [==============================] - 0s 852us/step - loss: 0.1504 - acc: 1.0000\n",
            "Epoch 140/180\n",
            "105/105 [==============================] - 0s 858us/step - loss: 0.1499 - acc: 1.0000\n",
            "Epoch 141/180\n",
            "105/105 [==============================] - 0s 896us/step - loss: 0.1495 - acc: 1.0000\n",
            "Epoch 142/180\n",
            "105/105 [==============================] - 0s 853us/step - loss: 0.1490 - acc: 1.0000\n",
            "Epoch 143/180\n",
            "105/105 [==============================] - 0s 930us/step - loss: 0.1485 - acc: 1.0000\n",
            "Epoch 144/180\n",
            "105/105 [==============================] - 0s 872us/step - loss: 0.1481 - acc: 1.0000\n",
            "Epoch 145/180\n",
            "105/105 [==============================] - 0s 906us/step - loss: 0.1476 - acc: 1.0000\n",
            "Epoch 146/180\n",
            "105/105 [==============================] - 0s 868us/step - loss: 0.1472 - acc: 1.0000\n",
            "Epoch 147/180\n",
            "105/105 [==============================] - 0s 911us/step - loss: 0.1468 - acc: 1.0000\n",
            "Epoch 148/180\n",
            "105/105 [==============================] - 0s 903us/step - loss: 0.1463 - acc: 1.0000\n",
            "Epoch 149/180\n",
            "105/105 [==============================] - 0s 874us/step - loss: 0.1459 - acc: 1.0000\n",
            "Epoch 150/180\n",
            "105/105 [==============================] - 0s 931us/step - loss: 0.1455 - acc: 1.0000\n",
            "Epoch 151/180\n",
            "105/105 [==============================] - 0s 821us/step - loss: 0.1451 - acc: 1.0000\n",
            "Epoch 152/180\n",
            "105/105 [==============================] - 0s 867us/step - loss: 0.1447 - acc: 1.0000\n",
            "Epoch 153/180\n",
            "105/105 [==============================] - 0s 867us/step - loss: 0.1443 - acc: 1.0000\n",
            "Epoch 154/180\n",
            "105/105 [==============================] - 0s 865us/step - loss: 0.1439 - acc: 1.0000\n",
            "Epoch 155/180\n",
            "105/105 [==============================] - 0s 901us/step - loss: 0.1435 - acc: 1.0000\n",
            "Epoch 156/180\n",
            "105/105 [==============================] - 0s 905us/step - loss: 0.1431 - acc: 1.0000\n",
            "Epoch 157/180\n",
            "105/105 [==============================] - 0s 903us/step - loss: 0.1427 - acc: 1.0000\n",
            "Epoch 158/180\n",
            "105/105 [==============================] - 0s 933us/step - loss: 0.1423 - acc: 1.0000\n",
            "Epoch 159/180\n",
            "105/105 [==============================] - 0s 932us/step - loss: 0.1419 - acc: 1.0000\n",
            "Epoch 160/180\n",
            "105/105 [==============================] - 0s 1ms/step - loss: 0.1415 - acc: 1.0000\n",
            "Epoch 161/180\n",
            "105/105 [==============================] - 0s 861us/step - loss: 0.1412 - acc: 1.0000\n",
            "Epoch 162/180\n",
            "105/105 [==============================] - 0s 937us/step - loss: 0.1408 - acc: 1.0000\n",
            "Epoch 163/180\n",
            "105/105 [==============================] - 0s 906us/step - loss: 0.1405 - acc: 1.0000\n",
            "Epoch 164/180\n",
            "105/105 [==============================] - 0s 918us/step - loss: 0.1401 - acc: 1.0000\n",
            "Epoch 165/180\n",
            "105/105 [==============================] - 0s 987us/step - loss: 0.1397 - acc: 1.0000\n",
            "Epoch 166/180\n",
            "105/105 [==============================] - 0s 982us/step - loss: 0.1393 - acc: 1.0000\n",
            "Epoch 167/180\n",
            "105/105 [==============================] - 0s 1ms/step - loss: 0.1390 - acc: 1.0000\n",
            "Epoch 168/180\n",
            "105/105 [==============================] - 0s 927us/step - loss: 0.1386 - acc: 1.0000\n",
            "Epoch 169/180\n",
            "105/105 [==============================] - 0s 1ms/step - loss: 0.1383 - acc: 1.0000\n",
            "Epoch 170/180\n",
            "105/105 [==============================] - 0s 904us/step - loss: 0.1379 - acc: 1.0000\n",
            "Epoch 171/180\n",
            "105/105 [==============================] - 0s 927us/step - loss: 0.1376 - acc: 1.0000\n",
            "Epoch 172/180\n",
            "105/105 [==============================] - 0s 992us/step - loss: 0.1372 - acc: 1.0000\n",
            "Epoch 173/180\n",
            "105/105 [==============================] - 0s 969us/step - loss: 0.1369 - acc: 1.0000\n",
            "Epoch 174/180\n",
            "105/105 [==============================] - 0s 963us/step - loss: 0.1366 - acc: 1.0000\n",
            "Epoch 175/180\n",
            "105/105 [==============================] - 0s 926us/step - loss: 0.1363 - acc: 1.0000\n",
            "Epoch 176/180\n",
            "105/105 [==============================] - 0s 1ms/step - loss: 0.1359 - acc: 1.0000\n",
            "Epoch 177/180\n",
            "105/105 [==============================] - 0s 898us/step - loss: 0.1356 - acc: 1.0000\n",
            "Epoch 178/180\n",
            "105/105 [==============================] - 0s 915us/step - loss: 0.1352 - acc: 1.0000\n",
            "Epoch 179/180\n",
            "105/105 [==============================] - 0s 911us/step - loss: 0.1349 - acc: 1.0000\n",
            "Epoch 180/180\n",
            "105/105 [==============================] - 0s 1ms/step - loss: 0.1346 - acc: 1.0000\n",
            "13/13 [==============================] - 0s 9ms/step\n"
          ],
          "name": "stdout"
        }
      ]
    },
    {
      "cell_type": "code",
      "metadata": {
        "colab_type": "code",
        "outputId": "1e0fd245-3e13-4025-f307-48f228c13a5a",
        "id": "lCz1ZOSIqE7i",
        "colab": {
          "base_uri": "https://localhost:8080/",
          "height": 35
        }
      },
      "source": [
        "model.metrics_names"
      ],
      "execution_count": 89,
      "outputs": [
        {
          "output_type": "execute_result",
          "data": {
            "text/plain": [
              "['loss', 'acc']"
            ]
          },
          "metadata": {
            "tags": []
          },
          "execution_count": 89
        }
      ]
    },
    {
      "cell_type": "code",
      "metadata": {
        "colab_type": "code",
        "outputId": "515455ab-de01-4627-c667-5239e9544c4d",
        "id": "GbroOBzLqE7v",
        "colab": {
          "base_uri": "https://localhost:8080/",
          "height": 35
        }
      },
      "source": [
        "test_acc\n"
      ],
      "execution_count": 91,
      "outputs": [
        {
          "output_type": "execute_result",
          "data": {
            "text/plain": [
              "0.4615384638309479"
            ]
          },
          "metadata": {
            "tags": []
          },
          "execution_count": 91
        }
      ]
    },
    {
      "cell_type": "markdown",
      "metadata": {
        "id": "DX_hXso7rd39",
        "colab_type": "text"
      },
      "source": [
        "Si comporta molto bene in training e in validation ma si comporta male in test"
      ]
    },
    {
      "cell_type": "markdown",
      "metadata": {
        "id": "BlrMqdh1w2bs",
        "colab_type": "text"
      },
      "source": [
        "Remove correlated features manually"
      ]
    }
  ]
}