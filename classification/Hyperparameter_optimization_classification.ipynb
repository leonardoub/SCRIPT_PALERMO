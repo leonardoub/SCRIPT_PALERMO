{
  "nbformat": 4,
  "nbformat_minor": 0,
  "metadata": {
    "colab": {
      "name": "Hyperparameter_optimization_classification.ipynb",
      "provenance": [],
      "toc_visible": true,
      "include_colab_link": true
    },
    "kernelspec": {
      "name": "python3",
      "display_name": "Python 3"
    }
  },
  "cells": [
    {
      "cell_type": "markdown",
      "metadata": {
        "id": "view-in-github",
        "colab_type": "text"
      },
      "source": [
        "<a href=\"https://colab.research.google.com/github/leonardoub/SCRIPT_PALERMO/blob/master/Hyperparameter_optimization_classification.ipynb\" target=\"_parent\"><img src=\"https://colab.research.google.com/assets/colab-badge.svg\" alt=\"Open In Colab\"/></a>"
      ]
    },
    {
      "cell_type": "markdown",
      "metadata": {
        "id": "-YN6Hc9lFNNk",
        "colab_type": "text"
      },
      "source": [
        "#Optimization of hyperparameter"
      ]
    },
    {
      "cell_type": "code",
      "metadata": {
        "id": "Py6sopCQLbAy",
        "colab_type": "code",
        "outputId": "da0c3026-add1-445a-8e31-6ae4c9b8c4d0",
        "colab": {
          "base_uri": "https://localhost:8080/",
          "height": 298
        }
      },
      "source": [
        "!pip install -U keras-tuner"
      ],
      "execution_count": 182,
      "outputs": [
        {
          "output_type": "stream",
          "text": [
            "Requirement already up-to-date: keras-tuner in /usr/local/lib/python3.6/dist-packages (1.0.1)\n",
            "Requirement already satisfied, skipping upgrade: tqdm in /usr/local/lib/python3.6/dist-packages (from keras-tuner) (4.28.1)\n",
            "Requirement already satisfied, skipping upgrade: scikit-learn in /usr/local/lib/python3.6/dist-packages (from keras-tuner) (0.21.3)\n",
            "Requirement already satisfied, skipping upgrade: terminaltables in /usr/local/lib/python3.6/dist-packages (from keras-tuner) (3.1.0)\n",
            "Requirement already satisfied, skipping upgrade: future in /usr/local/lib/python3.6/dist-packages (from keras-tuner) (0.16.0)\n",
            "Requirement already satisfied, skipping upgrade: requests in /usr/local/lib/python3.6/dist-packages (from keras-tuner) (2.21.0)\n",
            "Requirement already satisfied, skipping upgrade: tabulate in /usr/local/lib/python3.6/dist-packages (from keras-tuner) (0.8.6)\n",
            "Requirement already satisfied, skipping upgrade: scipy in /usr/local/lib/python3.6/dist-packages (from keras-tuner) (1.3.3)\n",
            "Requirement already satisfied, skipping upgrade: numpy in /usr/local/lib/python3.6/dist-packages (from keras-tuner) (1.17.4)\n",
            "Requirement already satisfied, skipping upgrade: colorama in /usr/local/lib/python3.6/dist-packages (from keras-tuner) (0.4.3)\n",
            "Requirement already satisfied, skipping upgrade: joblib>=0.11 in /usr/local/lib/python3.6/dist-packages (from scikit-learn->keras-tuner) (0.14.1)\n",
            "Requirement already satisfied, skipping upgrade: urllib3<1.25,>=1.21.1 in /usr/local/lib/python3.6/dist-packages (from requests->keras-tuner) (1.24.3)\n",
            "Requirement already satisfied, skipping upgrade: certifi>=2017.4.17 in /usr/local/lib/python3.6/dist-packages (from requests->keras-tuner) (2019.11.28)\n",
            "Requirement already satisfied, skipping upgrade: chardet<3.1.0,>=3.0.2 in /usr/local/lib/python3.6/dist-packages (from requests->keras-tuner) (3.0.4)\n",
            "Requirement already satisfied, skipping upgrade: idna<2.9,>=2.5 in /usr/local/lib/python3.6/dist-packages (from requests->keras-tuner) (2.8)\n"
          ],
          "name": "stdout"
        }
      ]
    },
    {
      "cell_type": "code",
      "metadata": {
        "id": "ck9uZtF_gzU7",
        "colab_type": "code",
        "colab": {}
      },
      "source": [
        "import pandas as pd\n",
        "import numpy as np\n",
        "import matplotlib.pyplot as plt\n",
        "import scipy"
      ],
      "execution_count": 0,
      "outputs": []
    },
    {
      "cell_type": "markdown",
      "metadata": {
        "id": "ln0sTf8q1IrI",
        "colab_type": "text"
      },
      "source": [
        "#Load data"
      ]
    },
    {
      "cell_type": "code",
      "metadata": {
        "id": "lyyNl4gxhEwD",
        "colab_type": "code",
        "outputId": "d7794cc4-ae71-43c4-803a-99b54768fa9b",
        "colab": {
          "base_uri": "https://localhost:8080/",
          "height": 0
        }
      },
      "source": [
        "#load data from Drive\n",
        "from google.colab import drive\n",
        "drive.mount('/gdrive')\n",
        "#%cd /gdrive"
      ],
      "execution_count": 184,
      "outputs": [
        {
          "output_type": "stream",
          "text": [
            "Drive already mounted at /gdrive; to attempt to forcibly remount, call drive.mount(\"/gdrive\", force_remount=True).\n"
          ],
          "name": "stdout"
        }
      ]
    },
    {
      "cell_type": "code",
      "metadata": {
        "id": "UCkUXesZhMzg",
        "colab_type": "code",
        "colab": {}
      },
      "source": [
        "train_dataset_path = '/gdrive/My Drive/AIM_PA/database_training2.csv'\n",
        "test_dataset_path = '/gdrive/My Drive/AIM_PA/database_nostro_without_nan.csv'"
      ],
      "execution_count": 0,
      "outputs": []
    },
    {
      "cell_type": "code",
      "metadata": {
        "id": "TczPxOpEhTXw",
        "colab_type": "code",
        "colab": {}
      },
      "source": [
        "df_train = pd.read_csv(train_dataset_path)\n",
        "df_test = pd.read_csv(test_dataset_path)"
      ],
      "execution_count": 0,
      "outputs": []
    },
    {
      "cell_type": "code",
      "metadata": {
        "id": "Ll-87QSVhqhj",
        "colab_type": "code",
        "colab": {}
      },
      "source": [
        "df_train.rename(columns={'Survival.time (months)':'Surv_time_months'}, inplace=True)"
      ],
      "execution_count": 0,
      "outputs": []
    },
    {
      "cell_type": "code",
      "metadata": {
        "id": "ulSbeCedhuxJ",
        "colab_type": "code",
        "colab": {}
      },
      "source": [
        "df_test.rename(columns={'Survival.time (months)':'Surv_time_months'}, inplace=True)"
      ],
      "execution_count": 0,
      "outputs": []
    },
    {
      "cell_type": "code",
      "metadata": {
        "id": "xbcwLGg3iNSn",
        "colab_type": "code",
        "colab": {}
      },
      "source": [
        "df_train.rename(columns={'Overall.Stage':'Overall_Stage'}, inplace=True)\n",
        "df_test.rename(columns={'Overall.Stage':'Overall_Stage'}, inplace=True)"
      ],
      "execution_count": 0,
      "outputs": []
    },
    {
      "cell_type": "code",
      "metadata": {
        "id": "oKKv4iKghWWn",
        "colab_type": "code",
        "colab": {}
      },
      "source": [
        "train_data = df_train.drop(['Histology', 'Surv_time_months', 'OS', 'deadstatus.event','Overall_Stage'], axis=1)"
      ],
      "execution_count": 0,
      "outputs": []
    },
    {
      "cell_type": "code",
      "metadata": {
        "id": "vQdR4izXiT0f",
        "colab_type": "code",
        "colab": {}
      },
      "source": [
        "test_data = df_test.drop(['Histology', 'Surv_time_months', 'OS', 'deadstatus.event','Overall_Stage'], axis=1)"
      ],
      "execution_count": 0,
      "outputs": []
    },
    {
      "cell_type": "code",
      "metadata": {
        "id": "Lu46pqnPhnCG",
        "colab_type": "code",
        "colab": {}
      },
      "source": [
        "train_labels = df_train.Histology"
      ],
      "execution_count": 0,
      "outputs": []
    },
    {
      "cell_type": "code",
      "metadata": {
        "id": "aS5wIylYmsQf",
        "colab_type": "code",
        "colab": {}
      },
      "source": [
        "test_labels = df_test.Histology"
      ],
      "execution_count": 0,
      "outputs": []
    },
    {
      "cell_type": "markdown",
      "metadata": {
        "id": "dtPx7PMDnXM3",
        "colab_type": "text"
      },
      "source": [
        "##Z score dei dati"
      ]
    },
    {
      "cell_type": "code",
      "metadata": {
        "id": "XK4Qji2EnVV4",
        "colab_type": "code",
        "colab": {}
      },
      "source": [
        "mean = train_data.mean(axis=0)\n",
        "train_data_stand = train_data - mean\n",
        "std = train_data.std(axis=0)\n",
        "train_data_stand /= std"
      ],
      "execution_count": 0,
      "outputs": []
    },
    {
      "cell_type": "code",
      "metadata": {
        "id": "YOVOoNOvm0Yx",
        "colab_type": "code",
        "colab": {}
      },
      "source": [
        "test_data_stand = test_data - mean\n",
        "test_data_stand /= std"
      ],
      "execution_count": 0,
      "outputs": []
    },
    {
      "cell_type": "markdown",
      "metadata": {
        "id": "00VohsAyokpq",
        "colab_type": "text"
      },
      "source": [
        "##Vettorizzare i label"
      ]
    },
    {
      "cell_type": "code",
      "metadata": {
        "id": "8RvS_9ISpxRi",
        "colab_type": "code",
        "colab": {}
      },
      "source": [
        "word_index={'adenocarcinoma':0, 'large cell':1, 'squamous cell carcinoma':2}"
      ],
      "execution_count": 0,
      "outputs": []
    },
    {
      "cell_type": "code",
      "metadata": {
        "id": "uiPW9U0XrWY2",
        "colab_type": "code",
        "colab": {}
      },
      "source": [
        "train_labels_dec = [word_index[label] for label in train_labels]"
      ],
      "execution_count": 0,
      "outputs": []
    },
    {
      "cell_type": "code",
      "metadata": {
        "id": "C4SBiKFQsKFw",
        "colab_type": "code",
        "colab": {}
      },
      "source": [
        "test_labels_dec = [word_index[label] for label in test_labels]"
      ],
      "execution_count": 0,
      "outputs": []
    },
    {
      "cell_type": "code",
      "metadata": {
        "id": "0IMbTYR7okJq",
        "colab_type": "code",
        "colab": {}
      },
      "source": [
        "from keras.utils.np_utils import to_categorical"
      ],
      "execution_count": 0,
      "outputs": []
    },
    {
      "cell_type": "code",
      "metadata": {
        "id": "0Frv4FDNn6Qu",
        "colab_type": "code",
        "colab": {}
      },
      "source": [
        "one_hot_train_labels = to_categorical(train_labels_dec)\n",
        "one_hot_test_labels = to_categorical(test_labels_dec)"
      ],
      "execution_count": 0,
      "outputs": []
    },
    {
      "cell_type": "markdown",
      "metadata": {
        "id": "Mn0tkOGc3LKN",
        "colab_type": "text"
      },
      "source": [
        "#PCA"
      ]
    },
    {
      "cell_type": "code",
      "metadata": {
        "id": "oS76u6iu3Seg",
        "colab_type": "code",
        "colab": {}
      },
      "source": [
        "from sklearn.decomposition import PCA"
      ],
      "execution_count": 0,
      "outputs": []
    },
    {
      "cell_type": "code",
      "metadata": {
        "id": "KCjC4zqJ3bui",
        "colab_type": "code",
        "colab": {}
      },
      "source": [
        "pca = PCA(n_components=0.9, svd_solver='full')"
      ],
      "execution_count": 0,
      "outputs": []
    },
    {
      "cell_type": "code",
      "metadata": {
        "id": "dLUCf9qX4p_e",
        "colab_type": "code",
        "outputId": "cd10e46e-f56a-4374-85c6-02e325345913",
        "colab": {
          "base_uri": "https://localhost:8080/",
          "height": 52
        }
      },
      "source": [
        "pca.fit(train_data_stand)"
      ],
      "execution_count": 203,
      "outputs": [
        {
          "output_type": "execute_result",
          "data": {
            "text/plain": [
              "PCA(copy=True, iterated_power='auto', n_components=0.9, random_state=None,\n",
              "    svd_solver='full', tol=0.0, whiten=False)"
            ]
          },
          "metadata": {
            "tags": []
          },
          "execution_count": 203
        }
      ]
    },
    {
      "cell_type": "code",
      "metadata": {
        "id": "QfyaKgNZ44o3",
        "colab_type": "code",
        "colab": {}
      },
      "source": [
        "train_data_stand_pca = pca.transform(train_data_stand)\n",
        "test_data_stand_pca = pca.transform(test_data_stand)"
      ],
      "execution_count": 0,
      "outputs": []
    },
    {
      "cell_type": "code",
      "metadata": {
        "id": "Uz9C4nl05b_g",
        "colab_type": "code",
        "outputId": "9b04b451-c7ca-4b01-8f2e-610b25a36b02",
        "colab": {
          "base_uri": "https://localhost:8080/",
          "height": 34
        }
      },
      "source": [
        "train_data_stand_pca.shape"
      ],
      "execution_count": 205,
      "outputs": [
        {
          "output_type": "execute_result",
          "data": {
            "text/plain": [
              "(131, 9)"
            ]
          },
          "metadata": {
            "tags": []
          },
          "execution_count": 205
        }
      ]
    },
    {
      "cell_type": "markdown",
      "metadata": {
        "id": "8wSKvSu4s5ip",
        "colab_type": "text"
      },
      "source": [
        "#Building Network"
      ]
    },
    {
      "cell_type": "code",
      "metadata": {
        "id": "Osgm8ZvLpZh5",
        "colab_type": "code",
        "colab": {}
      },
      "source": [
        "from tensorflow import keras"
      ],
      "execution_count": 0,
      "outputs": []
    },
    {
      "cell_type": "code",
      "metadata": {
        "id": "sJTbHiq0D-4x",
        "colab_type": "code",
        "colab": {}
      },
      "source": [
        "from tensorflow.keras import layers\n",
        "from tensorflow.keras.preprocessing import sequence"
      ],
      "execution_count": 0,
      "outputs": []
    },
    {
      "cell_type": "code",
      "metadata": {
        "id": "ShwM6YMqsxxJ",
        "colab_type": "code",
        "colab": {}
      },
      "source": [
        "from tensorflow.keras import layers"
      ],
      "execution_count": 0,
      "outputs": []
    },
    {
      "cell_type": "code",
      "metadata": {
        "id": "IAzbu7P1VylY",
        "colab_type": "code",
        "colab": {}
      },
      "source": [
        "from tensorflow.keras import regularizers"
      ],
      "execution_count": 0,
      "outputs": []
    },
    {
      "cell_type": "code",
      "metadata": {
        "id": "dyqbUCK5wOVt",
        "colab_type": "code",
        "colab": {}
      },
      "source": [
        "from tensorflow.keras.optimizers import SGD"
      ],
      "execution_count": 0,
      "outputs": []
    },
    {
      "cell_type": "code",
      "metadata": {
        "id": "KutkQ9Noj5mb",
        "colab_type": "code",
        "colab": {}
      },
      "source": [
        "from kerastuner.tuners import RandomSearch"
      ],
      "execution_count": 0,
      "outputs": []
    },
    {
      "cell_type": "code",
      "metadata": {
        "id": "7OAEgN31tHVV",
        "colab_type": "code",
        "colab": {}
      },
      "source": [
        "def build_model(hp):\n",
        "  model = keras.models.Sequential()\n",
        "\n",
        "#  model.add(layers.Dense(units=(hp.Int('units', min_value=3, max_value=8, step=1)), \n",
        "#                         activation='relu', input_shape=(9,)))\n",
        "\n",
        "  model.add(layers.Dense(6, activation='relu', input_shape=(9,)))\n",
        "  model.add(layers.Dense(3, activation='softmax'))\n",
        "#  sgd = SGD(lr=0.001, decay=1e-6, momentum=0.5, nesterov=True)\n",
        "  lr = hp.Choice('learning_rate', [1e-2, 1e-3, 1e-4])\n",
        "  momentum = hp.Choice('momentum', [0.0, 0.1, 0.2, 0.3, 0.4, 0.5, 0.6, 0.7])\n",
        "  model.compile(optimizer=SGD(learning_rate=lr, momentum=momentum), \n",
        "                loss='categorical_crossentropy', metrics=['accuracy'])\n",
        "  return model"
      ],
      "execution_count": 0,
      "outputs": []
    },
    {
      "cell_type": "markdown",
      "metadata": {
        "id": "mIxDu50pBeiz",
        "colab_type": "text"
      },
      "source": [
        "#Stratified k-fold"
      ]
    },
    {
      "cell_type": "markdown",
      "metadata": {
        "id": "ZyLcvedUBpxA",
        "colab_type": "text"
      },
      "source": [
        "This cross-validation object is a variation of KFold that returns stratified folds. The folds are made by preserving the percentage of samples for each class."
      ]
    },
    {
      "cell_type": "code",
      "metadata": {
        "id": "fY1apcZ19gFp",
        "colab_type": "code",
        "colab": {}
      },
      "source": [
        "from sklearn.model_selection import StratifiedKFold"
      ],
      "execution_count": 0,
      "outputs": []
    },
    {
      "cell_type": "code",
      "metadata": {
        "id": "oaBDM-PtBx5V",
        "colab_type": "code",
        "outputId": "3fc5b011-4a0c-4476-f547-0bab56f4b904",
        "colab": {
          "base_uri": "https://localhost:8080/",
          "height": 34
        }
      },
      "source": [
        "skf = StratifiedKFold(n_splits=5, shuffle=True, random_state=1)\n",
        "skf.get_n_splits(train_data_stand_pca, train_labels_dec)"
      ],
      "execution_count": 214,
      "outputs": [
        {
          "output_type": "execute_result",
          "data": {
            "text/plain": [
              "5"
            ]
          },
          "metadata": {
            "tags": []
          },
          "execution_count": 214
        }
      ]
    },
    {
      "cell_type": "code",
      "metadata": {
        "id": "Me-XQzPyD1gi",
        "colab_type": "code",
        "outputId": "02612914-eeb4-4cc5-b79e-af479908c949",
        "colab": {
          "base_uri": "https://localhost:8080/",
          "height": 645
        }
      },
      "source": [
        "for train_index, test_index in skf.split(train_data_stand_pca, train_labels_dec):\n",
        "    print(\"TRAIN:\", train_index, \"TEST:\", test_index)"
      ],
      "execution_count": 215,
      "outputs": [
        {
          "output_type": "stream",
          "text": [
            "TRAIN: [  0   1   4   5   6   8   9  10  11  12  14  15  16  17  19  20  22  23\n",
            "  24  25  27  28  29  30  31  32  33  34  36  37  38  39  40  41  42  44\n",
            "  45  46  48  49  51  52  53  55  56  57  58  59  60  62  63  64  65  66\n",
            "  67  69  71  72  75  76  77  78  79  80  81  83  84  85  86  87  88  89\n",
            "  90  92  94  95  96  97  98 100 101 102 103 104 105 107 109 110 111 113\n",
            " 115 116 117 119 120 121 122 124 125 126 127 128 129] TEST: [  2   3   7  13  18  21  26  35  43  47  50  54  61  68  70  73  74  82\n",
            "  91  93  99 106 108 112 114 118 123 130]\n",
            "TRAIN: [  0   1   2   3   5   7   8   9  11  12  13  14  15  16  17  18  19  20\n",
            "  21  22  23  24  25  26  27  29  30  33  34  35  36  37  38  39  40  41\n",
            "  43  44  45  46  47  48  50  51  52  53  54  56  57  58  59  60  61  62\n",
            "  63  65  66  68  70  73  74  76  77  78  79  80  82  83  84  85  87  88\n",
            "  89  90  91  92  93  96  97  98  99 100 101 102 105 106 107 108 109 110\n",
            " 111 112 113 114 115 117 118 120 122 123 124 125 127 128 130] TEST: [  4   6  10  28  31  32  42  49  55  64  67  69  71  72  75  81  86  94\n",
            "  95 103 104 116 119 121 126 129]\n",
            "TRAIN: [  2   3   4   5   6   7   8   9  10  11  12  13  15  16  17  18  20  21\n",
            "  23  25  26  27  28  29  30  31  32  34  35  36  38  39  42  43  44  45\n",
            "  46  47  48  49  50  53  54  55  57  58  60  61  63  64  65  66  67  68\n",
            "  69  70  71  72  73  74  75  76  77  78  80  81  82  84  85  86  87  90\n",
            "  91  92  93  94  95  96  99 100 101 102 103 104 105 106 108 109 111 112\n",
            " 113 114 115 116 118 119 121 122 123 124 125 126 127 129 130] TEST: [  0   1  14  19  22  24  33  37  40  41  51  52  56  59  62  79  83  88\n",
            "  89  97  98 107 110 117 120 128]\n",
            "TRAIN: [  0   1   2   3   4   5   6   7  10  11  12  13  14  18  19  20  21  22\n",
            "  24  26  27  28  30  31  32  33  34  35  36  37  39  40  41  42  43  44\n",
            "  45  47  49  50  51  52  53  54  55  56  58  59  61  62  64  66  67  68\n",
            "  69  70  71  72  73  74  75  76  79  81  82  83  85  86  87  88  89  91\n",
            "  92  93  94  95  96  97  98  99 100 102 103 104 106 107 108 109 110 111\n",
            " 112 114 115 116 117 118 119 120 121 123 124 126 128 129 130] TEST: [  8   9  15  16  17  23  25  29  38  46  48  57  60  63  65  77  78  80\n",
            "  84  90 101 105 113 122 125 127]\n",
            "TRAIN: [  0   1   2   3   4   6   7   8   9  10  13  14  15  16  17  18  19  21\n",
            "  22  23  24  25  26  28  29  31  32  33  35  37  38  40  41  42  43  46\n",
            "  47  48  49  50  51  52  54  55  56  57  59  60  61  62  63  64  65  67\n",
            "  68  69  70  71  72  73  74  75  77  78  79  80  81  82  83  84  86  88\n",
            "  89  90  91  93  94  95  97  98  99 101 103 104 105 106 107 108 110 112\n",
            " 113 114 116 117 118 119 120 121 122 123 125 126 127 128 129 130] TEST: [  5  11  12  20  27  30  34  36  39  44  45  53  58  66  76  85  87  92\n",
            "  96 100 102 109 111 115 124]\n"
          ],
          "name": "stdout"
        }
      ]
    },
    {
      "cell_type": "code",
      "metadata": {
        "id": "BgdGK-8FK-U_",
        "colab_type": "code",
        "outputId": "470333e6-3db6-4258-8abe-6e726031bd03",
        "colab": {
          "base_uri": "https://localhost:8080/",
          "height": 34
        }
      },
      "source": [
        "train_labels_dec[125]"
      ],
      "execution_count": 216,
      "outputs": [
        {
          "output_type": "execute_result",
          "data": {
            "text/plain": [
              "2"
            ]
          },
          "metadata": {
            "tags": []
          },
          "execution_count": 216
        }
      ]
    },
    {
      "cell_type": "code",
      "metadata": {
        "id": "sBJg0XD4Shhc",
        "colab_type": "code",
        "colab": {}
      },
      "source": [
        "from keras.utils import to_categorical"
      ],
      "execution_count": 0,
      "outputs": []
    },
    {
      "cell_type": "code",
      "metadata": {
        "id": "a5Sq8r9GEPx3",
        "colab_type": "code",
        "colab": {}
      },
      "source": [
        "#for train_index, val_index in skf.split(train_data_stand_pca, train_labels_dec):\n",
        " \n",
        "#  partial_train_data = np.array([train_data_stand_pca[i] for i in train_index])\n",
        "#  partial_train_targets = np.array([train_labels_dec[i] for i in train_index])\n",
        "\n",
        "#  val_data = np.array([train_data_stand_pca[i] for i in val_index])\n",
        "#  val_targets = np.array([train_labels_dec[i] for i in val_index])\n",
        "\n",
        "#  one_hot_partial_train_targets = to_categorical(partial_train_targets)\n",
        "#  one_hot_val_targets = to_categorical(val_targets)\n",
        "\n",
        "#  model = build_model()\n",
        "#  model.fit(partial_train_data, one_hot_partial_train_targets, epochs = num_epochs, batch_size=1)\n",
        "\n",
        "#  val_loss, val_accuracy = model.evaluate(val_data, one_hot_val_targets)\n",
        "#  all_scores.append(val_accuracy)\n",
        "#I parametri per la valutazione vengono calcolati una volta per ogni k-fold, per ogni set di validazione, quindi k volte"
      ],
      "execution_count": 0,
      "outputs": []
    },
    {
      "cell_type": "markdown",
      "metadata": {
        "id": "2X5B3lasRcsR",
        "colab_type": "text"
      },
      "source": [
        "C'è un problema: keras.utils.to_categorical produces a one-hot encoded class vector, i.e. the multilabel-indicator mentioned in the error message. StratifiedKFold is not designed to work with such input; i.e. your y must be a 1-D array of your class labels.\n",
        "Essentially, what you have to do is simply to invert the order of the operations: split first (using your intial y_train), and convert to_categorical afterwards."
      ]
    },
    {
      "cell_type": "markdown",
      "metadata": {
        "id": "5yP9-PE1Wjz-",
        "colab_type": "text"
      },
      "source": [
        "#Keras tuner RandomSearch"
      ]
    },
    {
      "cell_type": "code",
      "metadata": {
        "id": "8K8a1I3yU9FS",
        "colab_type": "code",
        "outputId": "af08db2b-24e1-4136-a036-78ac0c56ff29",
        "colab": {
          "base_uri": "https://localhost:8080/",
          "height": 1000
        }
      },
      "source": [
        "num_epochs = 30\n",
        "#all_acc_histories = []\n",
        "#all_loss_histories = []\n",
        "#all_val_acc_histories = []\n",
        "#all_val_loss_histories = []\n",
        "\n",
        "for train_index, val_index in skf.split(train_data_stand_pca, train_labels_dec):\n",
        " \n",
        "  partial_train_data = np.array([train_data_stand_pca[i] for i in train_index])\n",
        "  partial_train_targets = np.array([train_labels_dec[i] for i in train_index])\n",
        "  \n",
        "  val_data = np.array([train_data_stand_pca[i] for i in val_index])\n",
        "  val_targets = np.array([train_labels_dec[i] for i in val_index])\n",
        "\n",
        "  one_hot_partial_train_targets = to_categorical(partial_train_targets)\n",
        "  one_hot_val_targets = to_categorical(val_targets)\n",
        "\n",
        " \n",
        "  tuner = RandomSearch(build_model, objective='val_acc', max_trials=10, \n",
        "                       executions_per_trial=3, directory='/content/my_dir', project_name='helloworld')\n",
        "  \n",
        "  tuner.search_space_summary()\n",
        "\n",
        "  tuner.search(partial_train_data, one_hot_partial_train_targets, validation_data=(val_data, one_hot_val_targets), \n",
        "                      epochs=num_epochs, batch_size=10)\n",
        "  \n",
        "\n",
        "#  acc_history = history.history['acc']\n",
        "#  all_acc_histories.append(acc_history)\n",
        "\n",
        "#  loss_history = history.history['loss']\n",
        "#  all_loss_histories.append(loss_history)\n",
        "\n",
        "#  acc_val_history = history.history['val_acc']\n",
        "#  all_val_acc_histories.append(acc_val_history)\n",
        "\n",
        "#  loss_val_history = history.history['val_loss']\n",
        "#  all_val_loss_histories.append(loss_val_history)\n",
        "  \n",
        "\n",
        "#I parametri per la valutazione vengono calcolati per ogni epoca, quindi num_epochs volte. \n",
        "#Il tutto viene ripetuto un numero di volte pari a n_splits.\n",
        "#Si ottiene una lista con n_splits elementi ciascuno dei quali è una lista lunga num_epochs,\n",
        "#ogni elemento può essere uno fra questi: dict_keys(['val_loss', 'val_acc', 'loss', 'acc']) "
      ],
      "execution_count": 219,
      "outputs": [
        {
          "output_type": "stream",
          "text": [
            "INFO:tensorflow:Reloading Oracle from existing project /content/my_dir/helloworld/oracle.json\n",
            "INFO:tensorflow:Reloading Tuner from /content/my_dir/helloworld/tuner0.json\n"
          ],
          "name": "stdout"
        },
        {
          "output_type": "display_data",
          "data": {
            "text/html": [
              "<span style=\"color:#4527A0\"><h1 style=\"font-size:18px\">Search space summary</h1></span>"
            ],
            "text/plain": [
              "<IPython.core.display.HTML object>"
            ]
          },
          "metadata": {
            "tags": []
          }
        },
        {
          "output_type": "display_data",
          "data": {
            "text/html": [
              "<span style=\"color:cyan\"> |-Default search space size: 2</span>"
            ],
            "text/plain": [
              "<IPython.core.display.HTML object>"
            ]
          },
          "metadata": {
            "tags": []
          }
        },
        {
          "output_type": "display_data",
          "data": {
            "text/html": [
              "<span style=\"color:#7E57C2\"><h2 style=\"font-size:16px\">learning_rate (Choice)</h2></span>"
            ],
            "text/plain": [
              "<IPython.core.display.HTML object>"
            ]
          },
          "metadata": {
            "tags": []
          }
        },
        {
          "output_type": "display_data",
          "data": {
            "text/html": [
              "<span style=\"color:cyan\"> |-default: 0.01</span>"
            ],
            "text/plain": [
              "<IPython.core.display.HTML object>"
            ]
          },
          "metadata": {
            "tags": []
          }
        },
        {
          "output_type": "display_data",
          "data": {
            "text/html": [
              "<span style=\"color:blue\"> |-ordered: True</span>"
            ],
            "text/plain": [
              "<IPython.core.display.HTML object>"
            ]
          },
          "metadata": {
            "tags": []
          }
        },
        {
          "output_type": "display_data",
          "data": {
            "text/html": [
              "<span style=\"color:cyan\"> |-values: [0.01, 0.001, 0.0001]</span>"
            ],
            "text/plain": [
              "<IPython.core.display.HTML object>"
            ]
          },
          "metadata": {
            "tags": []
          }
        },
        {
          "output_type": "display_data",
          "data": {
            "text/html": [
              "<span style=\"color:#7E57C2\"><h2 style=\"font-size:16px\">momentum (Choice)</h2></span>"
            ],
            "text/plain": [
              "<IPython.core.display.HTML object>"
            ]
          },
          "metadata": {
            "tags": []
          }
        },
        {
          "output_type": "display_data",
          "data": {
            "text/html": [
              "<span style=\"color:cyan\"> |-default: 0.0</span>"
            ],
            "text/plain": [
              "<IPython.core.display.HTML object>"
            ]
          },
          "metadata": {
            "tags": []
          }
        },
        {
          "output_type": "display_data",
          "data": {
            "text/html": [
              "<span style=\"color:blue\"> |-ordered: True</span>"
            ],
            "text/plain": [
              "<IPython.core.display.HTML object>"
            ]
          },
          "metadata": {
            "tags": []
          }
        },
        {
          "output_type": "display_data",
          "data": {
            "text/html": [
              "<span style=\"color:cyan\"> |-values: [0.0, 0.1, 0.2, 0.3, 0.4, 0.5, 0.6, 0.7, 0.8, 0.9]</span>"
            ],
            "text/plain": [
              "<IPython.core.display.HTML object>"
            ]
          },
          "metadata": {
            "tags": []
          }
        },
        {
          "output_type": "stream",
          "text": [
            "INFO:tensorflow:Oracle triggered exit\n",
            "INFO:tensorflow:Reloading Oracle from existing project /content/my_dir/helloworld/oracle.json\n",
            "INFO:tensorflow:Reloading Tuner from /content/my_dir/helloworld/tuner0.json\n"
          ],
          "name": "stdout"
        },
        {
          "output_type": "display_data",
          "data": {
            "text/html": [
              "<span style=\"color:#4527A0\"><h1 style=\"font-size:18px\">Search space summary</h1></span>"
            ],
            "text/plain": [
              "<IPython.core.display.HTML object>"
            ]
          },
          "metadata": {
            "tags": []
          }
        },
        {
          "output_type": "display_data",
          "data": {
            "text/html": [
              "<span style=\"color:cyan\"> |-Default search space size: 2</span>"
            ],
            "text/plain": [
              "<IPython.core.display.HTML object>"
            ]
          },
          "metadata": {
            "tags": []
          }
        },
        {
          "output_type": "display_data",
          "data": {
            "text/html": [
              "<span style=\"color:#7E57C2\"><h2 style=\"font-size:16px\">learning_rate (Choice)</h2></span>"
            ],
            "text/plain": [
              "<IPython.core.display.HTML object>"
            ]
          },
          "metadata": {
            "tags": []
          }
        },
        {
          "output_type": "display_data",
          "data": {
            "text/html": [
              "<span style=\"color:cyan\"> |-default: 0.01</span>"
            ],
            "text/plain": [
              "<IPython.core.display.HTML object>"
            ]
          },
          "metadata": {
            "tags": []
          }
        },
        {
          "output_type": "display_data",
          "data": {
            "text/html": [
              "<span style=\"color:blue\"> |-ordered: True</span>"
            ],
            "text/plain": [
              "<IPython.core.display.HTML object>"
            ]
          },
          "metadata": {
            "tags": []
          }
        },
        {
          "output_type": "display_data",
          "data": {
            "text/html": [
              "<span style=\"color:cyan\"> |-values: [0.01, 0.001, 0.0001]</span>"
            ],
            "text/plain": [
              "<IPython.core.display.HTML object>"
            ]
          },
          "metadata": {
            "tags": []
          }
        },
        {
          "output_type": "display_data",
          "data": {
            "text/html": [
              "<span style=\"color:#7E57C2\"><h2 style=\"font-size:16px\">momentum (Choice)</h2></span>"
            ],
            "text/plain": [
              "<IPython.core.display.HTML object>"
            ]
          },
          "metadata": {
            "tags": []
          }
        },
        {
          "output_type": "display_data",
          "data": {
            "text/html": [
              "<span style=\"color:cyan\"> |-default: 0.0</span>"
            ],
            "text/plain": [
              "<IPython.core.display.HTML object>"
            ]
          },
          "metadata": {
            "tags": []
          }
        },
        {
          "output_type": "display_data",
          "data": {
            "text/html": [
              "<span style=\"color:blue\"> |-ordered: True</span>"
            ],
            "text/plain": [
              "<IPython.core.display.HTML object>"
            ]
          },
          "metadata": {
            "tags": []
          }
        },
        {
          "output_type": "display_data",
          "data": {
            "text/html": [
              "<span style=\"color:cyan\"> |-values: [0.0, 0.1, 0.2, 0.3, 0.4, 0.5, 0.6, 0.7, 0.8, 0.9]</span>"
            ],
            "text/plain": [
              "<IPython.core.display.HTML object>"
            ]
          },
          "metadata": {
            "tags": []
          }
        },
        {
          "output_type": "stream",
          "text": [
            "INFO:tensorflow:Oracle triggered exit\n",
            "INFO:tensorflow:Reloading Oracle from existing project /content/my_dir/helloworld/oracle.json\n",
            "INFO:tensorflow:Reloading Tuner from /content/my_dir/helloworld/tuner0.json\n"
          ],
          "name": "stdout"
        },
        {
          "output_type": "display_data",
          "data": {
            "text/html": [
              "<span style=\"color:#4527A0\"><h1 style=\"font-size:18px\">Search space summary</h1></span>"
            ],
            "text/plain": [
              "<IPython.core.display.HTML object>"
            ]
          },
          "metadata": {
            "tags": []
          }
        },
        {
          "output_type": "display_data",
          "data": {
            "text/html": [
              "<span style=\"color:cyan\"> |-Default search space size: 2</span>"
            ],
            "text/plain": [
              "<IPython.core.display.HTML object>"
            ]
          },
          "metadata": {
            "tags": []
          }
        },
        {
          "output_type": "display_data",
          "data": {
            "text/html": [
              "<span style=\"color:#7E57C2\"><h2 style=\"font-size:16px\">learning_rate (Choice)</h2></span>"
            ],
            "text/plain": [
              "<IPython.core.display.HTML object>"
            ]
          },
          "metadata": {
            "tags": []
          }
        },
        {
          "output_type": "display_data",
          "data": {
            "text/html": [
              "<span style=\"color:cyan\"> |-default: 0.01</span>"
            ],
            "text/plain": [
              "<IPython.core.display.HTML object>"
            ]
          },
          "metadata": {
            "tags": []
          }
        },
        {
          "output_type": "display_data",
          "data": {
            "text/html": [
              "<span style=\"color:blue\"> |-ordered: True</span>"
            ],
            "text/plain": [
              "<IPython.core.display.HTML object>"
            ]
          },
          "metadata": {
            "tags": []
          }
        },
        {
          "output_type": "display_data",
          "data": {
            "text/html": [
              "<span style=\"color:cyan\"> |-values: [0.01, 0.001, 0.0001]</span>"
            ],
            "text/plain": [
              "<IPython.core.display.HTML object>"
            ]
          },
          "metadata": {
            "tags": []
          }
        },
        {
          "output_type": "display_data",
          "data": {
            "text/html": [
              "<span style=\"color:#7E57C2\"><h2 style=\"font-size:16px\">momentum (Choice)</h2></span>"
            ],
            "text/plain": [
              "<IPython.core.display.HTML object>"
            ]
          },
          "metadata": {
            "tags": []
          }
        },
        {
          "output_type": "display_data",
          "data": {
            "text/html": [
              "<span style=\"color:cyan\"> |-default: 0.0</span>"
            ],
            "text/plain": [
              "<IPython.core.display.HTML object>"
            ]
          },
          "metadata": {
            "tags": []
          }
        },
        {
          "output_type": "display_data",
          "data": {
            "text/html": [
              "<span style=\"color:blue\"> |-ordered: True</span>"
            ],
            "text/plain": [
              "<IPython.core.display.HTML object>"
            ]
          },
          "metadata": {
            "tags": []
          }
        },
        {
          "output_type": "display_data",
          "data": {
            "text/html": [
              "<span style=\"color:cyan\"> |-values: [0.0, 0.1, 0.2, 0.3, 0.4, 0.5, 0.6, 0.7, 0.8, 0.9]</span>"
            ],
            "text/plain": [
              "<IPython.core.display.HTML object>"
            ]
          },
          "metadata": {
            "tags": []
          }
        },
        {
          "output_type": "stream",
          "text": [
            "INFO:tensorflow:Oracle triggered exit\n",
            "INFO:tensorflow:Reloading Oracle from existing project /content/my_dir/helloworld/oracle.json\n",
            "INFO:tensorflow:Reloading Tuner from /content/my_dir/helloworld/tuner0.json\n"
          ],
          "name": "stdout"
        },
        {
          "output_type": "display_data",
          "data": {
            "text/html": [
              "<span style=\"color:#4527A0\"><h1 style=\"font-size:18px\">Search space summary</h1></span>"
            ],
            "text/plain": [
              "<IPython.core.display.HTML object>"
            ]
          },
          "metadata": {
            "tags": []
          }
        },
        {
          "output_type": "display_data",
          "data": {
            "text/html": [
              "<span style=\"color:cyan\"> |-Default search space size: 2</span>"
            ],
            "text/plain": [
              "<IPython.core.display.HTML object>"
            ]
          },
          "metadata": {
            "tags": []
          }
        },
        {
          "output_type": "display_data",
          "data": {
            "text/html": [
              "<span style=\"color:#7E57C2\"><h2 style=\"font-size:16px\">learning_rate (Choice)</h2></span>"
            ],
            "text/plain": [
              "<IPython.core.display.HTML object>"
            ]
          },
          "metadata": {
            "tags": []
          }
        },
        {
          "output_type": "display_data",
          "data": {
            "text/html": [
              "<span style=\"color:cyan\"> |-default: 0.01</span>"
            ],
            "text/plain": [
              "<IPython.core.display.HTML object>"
            ]
          },
          "metadata": {
            "tags": []
          }
        },
        {
          "output_type": "display_data",
          "data": {
            "text/html": [
              "<span style=\"color:blue\"> |-ordered: True</span>"
            ],
            "text/plain": [
              "<IPython.core.display.HTML object>"
            ]
          },
          "metadata": {
            "tags": []
          }
        },
        {
          "output_type": "display_data",
          "data": {
            "text/html": [
              "<span style=\"color:cyan\"> |-values: [0.01, 0.001, 0.0001]</span>"
            ],
            "text/plain": [
              "<IPython.core.display.HTML object>"
            ]
          },
          "metadata": {
            "tags": []
          }
        },
        {
          "output_type": "display_data",
          "data": {
            "text/html": [
              "<span style=\"color:#7E57C2\"><h2 style=\"font-size:16px\">momentum (Choice)</h2></span>"
            ],
            "text/plain": [
              "<IPython.core.display.HTML object>"
            ]
          },
          "metadata": {
            "tags": []
          }
        },
        {
          "output_type": "display_data",
          "data": {
            "text/html": [
              "<span style=\"color:cyan\"> |-default: 0.0</span>"
            ],
            "text/plain": [
              "<IPython.core.display.HTML object>"
            ]
          },
          "metadata": {
            "tags": []
          }
        },
        {
          "output_type": "display_data",
          "data": {
            "text/html": [
              "<span style=\"color:blue\"> |-ordered: True</span>"
            ],
            "text/plain": [
              "<IPython.core.display.HTML object>"
            ]
          },
          "metadata": {
            "tags": []
          }
        },
        {
          "output_type": "display_data",
          "data": {
            "text/html": [
              "<span style=\"color:cyan\"> |-values: [0.0, 0.1, 0.2, 0.3, 0.4, 0.5, 0.6, 0.7, 0.8, 0.9]</span>"
            ],
            "text/plain": [
              "<IPython.core.display.HTML object>"
            ]
          },
          "metadata": {
            "tags": []
          }
        },
        {
          "output_type": "stream",
          "text": [
            "INFO:tensorflow:Oracle triggered exit\n",
            "INFO:tensorflow:Reloading Oracle from existing project /content/my_dir/helloworld/oracle.json\n",
            "INFO:tensorflow:Reloading Tuner from /content/my_dir/helloworld/tuner0.json\n"
          ],
          "name": "stdout"
        },
        {
          "output_type": "display_data",
          "data": {
            "text/html": [
              "<span style=\"color:#4527A0\"><h1 style=\"font-size:18px\">Search space summary</h1></span>"
            ],
            "text/plain": [
              "<IPython.core.display.HTML object>"
            ]
          },
          "metadata": {
            "tags": []
          }
        },
        {
          "output_type": "display_data",
          "data": {
            "text/html": [
              "<span style=\"color:cyan\"> |-Default search space size: 2</span>"
            ],
            "text/plain": [
              "<IPython.core.display.HTML object>"
            ]
          },
          "metadata": {
            "tags": []
          }
        },
        {
          "output_type": "display_data",
          "data": {
            "text/html": [
              "<span style=\"color:#7E57C2\"><h2 style=\"font-size:16px\">learning_rate (Choice)</h2></span>"
            ],
            "text/plain": [
              "<IPython.core.display.HTML object>"
            ]
          },
          "metadata": {
            "tags": []
          }
        },
        {
          "output_type": "display_data",
          "data": {
            "text/html": [
              "<span style=\"color:cyan\"> |-default: 0.01</span>"
            ],
            "text/plain": [
              "<IPython.core.display.HTML object>"
            ]
          },
          "metadata": {
            "tags": []
          }
        },
        {
          "output_type": "display_data",
          "data": {
            "text/html": [
              "<span style=\"color:blue\"> |-ordered: True</span>"
            ],
            "text/plain": [
              "<IPython.core.display.HTML object>"
            ]
          },
          "metadata": {
            "tags": []
          }
        },
        {
          "output_type": "display_data",
          "data": {
            "text/html": [
              "<span style=\"color:cyan\"> |-values: [0.01, 0.001, 0.0001]</span>"
            ],
            "text/plain": [
              "<IPython.core.display.HTML object>"
            ]
          },
          "metadata": {
            "tags": []
          }
        },
        {
          "output_type": "display_data",
          "data": {
            "text/html": [
              "<span style=\"color:#7E57C2\"><h2 style=\"font-size:16px\">momentum (Choice)</h2></span>"
            ],
            "text/plain": [
              "<IPython.core.display.HTML object>"
            ]
          },
          "metadata": {
            "tags": []
          }
        },
        {
          "output_type": "display_data",
          "data": {
            "text/html": [
              "<span style=\"color:cyan\"> |-default: 0.0</span>"
            ],
            "text/plain": [
              "<IPython.core.display.HTML object>"
            ]
          },
          "metadata": {
            "tags": []
          }
        },
        {
          "output_type": "display_data",
          "data": {
            "text/html": [
              "<span style=\"color:blue\"> |-ordered: True</span>"
            ],
            "text/plain": [
              "<IPython.core.display.HTML object>"
            ]
          },
          "metadata": {
            "tags": []
          }
        },
        {
          "output_type": "display_data",
          "data": {
            "text/html": [
              "<span style=\"color:cyan\"> |-values: [0.0, 0.1, 0.2, 0.3, 0.4, 0.5, 0.6, 0.7, 0.8, 0.9]</span>"
            ],
            "text/plain": [
              "<IPython.core.display.HTML object>"
            ]
          },
          "metadata": {
            "tags": []
          }
        },
        {
          "output_type": "stream",
          "text": [
            "INFO:tensorflow:Oracle triggered exit\n"
          ],
          "name": "stdout"
        }
      ]
    },
    {
      "cell_type": "code",
      "metadata": {
        "id": "23JI0eA1OFOX",
        "colab_type": "code",
        "outputId": "0ed8c958-9156-47af-ae3c-8e3929664e16",
        "colab": {
          "base_uri": "https://localhost:8080/",
          "height": 251
        }
      },
      "source": [
        "tuner.search_space_summary()\n"
      ],
      "execution_count": 220,
      "outputs": [
        {
          "output_type": "display_data",
          "data": {
            "text/html": [
              "<span style=\"color:#4527A0\"><h1 style=\"font-size:18px\">Search space summary</h1></span>"
            ],
            "text/plain": [
              "<IPython.core.display.HTML object>"
            ]
          },
          "metadata": {
            "tags": []
          }
        },
        {
          "output_type": "display_data",
          "data": {
            "text/html": [
              "<span style=\"color:cyan\"> |-Default search space size: 2</span>"
            ],
            "text/plain": [
              "<IPython.core.display.HTML object>"
            ]
          },
          "metadata": {
            "tags": []
          }
        },
        {
          "output_type": "display_data",
          "data": {
            "text/html": [
              "<span style=\"color:#7E57C2\"><h2 style=\"font-size:16px\">learning_rate (Choice)</h2></span>"
            ],
            "text/plain": [
              "<IPython.core.display.HTML object>"
            ]
          },
          "metadata": {
            "tags": []
          }
        },
        {
          "output_type": "display_data",
          "data": {
            "text/html": [
              "<span style=\"color:cyan\"> |-default: 0.01</span>"
            ],
            "text/plain": [
              "<IPython.core.display.HTML object>"
            ]
          },
          "metadata": {
            "tags": []
          }
        },
        {
          "output_type": "display_data",
          "data": {
            "text/html": [
              "<span style=\"color:blue\"> |-ordered: True</span>"
            ],
            "text/plain": [
              "<IPython.core.display.HTML object>"
            ]
          },
          "metadata": {
            "tags": []
          }
        },
        {
          "output_type": "display_data",
          "data": {
            "text/html": [
              "<span style=\"color:cyan\"> |-values: [0.01, 0.001, 0.0001]</span>"
            ],
            "text/plain": [
              "<IPython.core.display.HTML object>"
            ]
          },
          "metadata": {
            "tags": []
          }
        },
        {
          "output_type": "display_data",
          "data": {
            "text/html": [
              "<span style=\"color:#7E57C2\"><h2 style=\"font-size:16px\">momentum (Choice)</h2></span>"
            ],
            "text/plain": [
              "<IPython.core.display.HTML object>"
            ]
          },
          "metadata": {
            "tags": []
          }
        },
        {
          "output_type": "display_data",
          "data": {
            "text/html": [
              "<span style=\"color:cyan\"> |-default: 0.0</span>"
            ],
            "text/plain": [
              "<IPython.core.display.HTML object>"
            ]
          },
          "metadata": {
            "tags": []
          }
        },
        {
          "output_type": "display_data",
          "data": {
            "text/html": [
              "<span style=\"color:blue\"> |-ordered: True</span>"
            ],
            "text/plain": [
              "<IPython.core.display.HTML object>"
            ]
          },
          "metadata": {
            "tags": []
          }
        },
        {
          "output_type": "display_data",
          "data": {
            "text/html": [
              "<span style=\"color:cyan\"> |-values: [0.0, 0.1, 0.2, 0.3, 0.4, 0.5, 0.6, 0.7, 0.8, 0.9]</span>"
            ],
            "text/plain": [
              "<IPython.core.display.HTML object>"
            ]
          },
          "metadata": {
            "tags": []
          }
        }
      ]
    },
    {
      "cell_type": "code",
      "metadata": {
        "id": "G2ZP8M6DreMN",
        "colab_type": "code",
        "outputId": "90baabc8-ef18-4a68-9965-87da47269ce1",
        "colab": {
          "base_uri": "https://localhost:8080/",
          "height": 1000
        }
      },
      "source": [
        "tuner.results_summary()"
      ],
      "execution_count": 221,
      "outputs": [
        {
          "output_type": "display_data",
          "data": {
            "text/html": [
              "<span style=\"color:#4527A0\"><h1 style=\"font-size:18px\">Results summary</h1></span>"
            ],
            "text/plain": [
              "<IPython.core.display.HTML object>"
            ]
          },
          "metadata": {
            "tags": []
          }
        },
        {
          "output_type": "display_data",
          "data": {
            "text/html": [
              "<span style=\"color:cyan\"> |-Results in /content/my_dir/helloworld</span>"
            ],
            "text/plain": [
              "<IPython.core.display.HTML object>"
            ]
          },
          "metadata": {
            "tags": []
          }
        },
        {
          "output_type": "display_data",
          "data": {
            "text/html": [
              "<span style=\"color:cyan\"> |-Showing 10 best trials</span>"
            ],
            "text/plain": [
              "<IPython.core.display.HTML object>"
            ]
          },
          "metadata": {
            "tags": []
          }
        },
        {
          "output_type": "display_data",
          "data": {
            "text/html": [
              "<span style=\"color:cyan\"> |-Objective(name='val_acc', direction='max')</span>"
            ],
            "text/plain": [
              "<IPython.core.display.HTML object>"
            ]
          },
          "metadata": {
            "tags": []
          }
        },
        {
          "output_type": "display_data",
          "data": {
            "text/html": [
              "<span style=\"color:#4527A0\"><h1 style=\"font-size:18px\">Trial summary</h1></span>"
            ],
            "text/plain": [
              "<IPython.core.display.HTML object>"
            ]
          },
          "metadata": {
            "tags": []
          }
        },
        {
          "output_type": "display_data",
          "data": {
            "text/html": [
              "<span style=\"color:cyan\"> |-Trial ID: dfd8044b5bcffdc02e92c5d73b74b78e</span>"
            ],
            "text/plain": [
              "<IPython.core.display.HTML object>"
            ]
          },
          "metadata": {
            "tags": []
          }
        },
        {
          "output_type": "display_data",
          "data": {
            "text/html": [
              "<span style=\"color:cyan\"> |-Score: 0.5714285969734192</span>"
            ],
            "text/plain": [
              "<IPython.core.display.HTML object>"
            ]
          },
          "metadata": {
            "tags": []
          }
        },
        {
          "output_type": "display_data",
          "data": {
            "text/html": [
              "<span style=\"color:cyan\"> |-Best step: 0</span>"
            ],
            "text/plain": [
              "<IPython.core.display.HTML object>"
            ]
          },
          "metadata": {
            "tags": []
          }
        },
        {
          "output_type": "display_data",
          "data": {
            "text/html": [
              "<span style=\"color:#7E57C2\"><h2 style=\"font-size:16px\">Hyperparameters:</h2></span>"
            ],
            "text/plain": [
              "<IPython.core.display.HTML object>"
            ]
          },
          "metadata": {
            "tags": []
          }
        },
        {
          "output_type": "display_data",
          "data": {
            "text/html": [
              "<span style=\"color:cyan\"> |-learning_rate: 0.01</span>"
            ],
            "text/plain": [
              "<IPython.core.display.HTML object>"
            ]
          },
          "metadata": {
            "tags": []
          }
        },
        {
          "output_type": "display_data",
          "data": {
            "text/html": [
              "<span style=\"color:blue\"> |-momentum: 0.9</span>"
            ],
            "text/plain": [
              "<IPython.core.display.HTML object>"
            ]
          },
          "metadata": {
            "tags": []
          }
        },
        {
          "output_type": "display_data",
          "data": {
            "text/html": [
              "<span style=\"color:#4527A0\"><h1 style=\"font-size:18px\">Trial summary</h1></span>"
            ],
            "text/plain": [
              "<IPython.core.display.HTML object>"
            ]
          },
          "metadata": {
            "tags": []
          }
        },
        {
          "output_type": "display_data",
          "data": {
            "text/html": [
              "<span style=\"color:cyan\"> |-Trial ID: 13b10b8f46e201dcb61af32fdfa26154</span>"
            ],
            "text/plain": [
              "<IPython.core.display.HTML object>"
            ]
          },
          "metadata": {
            "tags": []
          }
        },
        {
          "output_type": "display_data",
          "data": {
            "text/html": [
              "<span style=\"color:cyan\"> |-Score: 0.5</span>"
            ],
            "text/plain": [
              "<IPython.core.display.HTML object>"
            ]
          },
          "metadata": {
            "tags": []
          }
        },
        {
          "output_type": "display_data",
          "data": {
            "text/html": [
              "<span style=\"color:cyan\"> |-Best step: 0</span>"
            ],
            "text/plain": [
              "<IPython.core.display.HTML object>"
            ]
          },
          "metadata": {
            "tags": []
          }
        },
        {
          "output_type": "display_data",
          "data": {
            "text/html": [
              "<span style=\"color:#7E57C2\"><h2 style=\"font-size:16px\">Hyperparameters:</h2></span>"
            ],
            "text/plain": [
              "<IPython.core.display.HTML object>"
            ]
          },
          "metadata": {
            "tags": []
          }
        },
        {
          "output_type": "display_data",
          "data": {
            "text/html": [
              "<span style=\"color:cyan\"> |-learning_rate: 0.001</span>"
            ],
            "text/plain": [
              "<IPython.core.display.HTML object>"
            ]
          },
          "metadata": {
            "tags": []
          }
        },
        {
          "output_type": "display_data",
          "data": {
            "text/html": [
              "<span style=\"color:blue\"> |-momentum: 0.9</span>"
            ],
            "text/plain": [
              "<IPython.core.display.HTML object>"
            ]
          },
          "metadata": {
            "tags": []
          }
        },
        {
          "output_type": "display_data",
          "data": {
            "text/html": [
              "<span style=\"color:#4527A0\"><h1 style=\"font-size:18px\">Trial summary</h1></span>"
            ],
            "text/plain": [
              "<IPython.core.display.HTML object>"
            ]
          },
          "metadata": {
            "tags": []
          }
        },
        {
          "output_type": "display_data",
          "data": {
            "text/html": [
              "<span style=\"color:cyan\"> |-Trial ID: dda66b57de9826a6ef97bae52ab1020b</span>"
            ],
            "text/plain": [
              "<IPython.core.display.HTML object>"
            ]
          },
          "metadata": {
            "tags": []
          }
        },
        {
          "output_type": "display_data",
          "data": {
            "text/html": [
              "<span style=\"color:cyan\"> |-Score: 0.5</span>"
            ],
            "text/plain": [
              "<IPython.core.display.HTML object>"
            ]
          },
          "metadata": {
            "tags": []
          }
        },
        {
          "output_type": "display_data",
          "data": {
            "text/html": [
              "<span style=\"color:cyan\"> |-Best step: 0</span>"
            ],
            "text/plain": [
              "<IPython.core.display.HTML object>"
            ]
          },
          "metadata": {
            "tags": []
          }
        },
        {
          "output_type": "display_data",
          "data": {
            "text/html": [
              "<span style=\"color:#7E57C2\"><h2 style=\"font-size:16px\">Hyperparameters:</h2></span>"
            ],
            "text/plain": [
              "<IPython.core.display.HTML object>"
            ]
          },
          "metadata": {
            "tags": []
          }
        },
        {
          "output_type": "display_data",
          "data": {
            "text/html": [
              "<span style=\"color:cyan\"> |-learning_rate: 0.001</span>"
            ],
            "text/plain": [
              "<IPython.core.display.HTML object>"
            ]
          },
          "metadata": {
            "tags": []
          }
        },
        {
          "output_type": "display_data",
          "data": {
            "text/html": [
              "<span style=\"color:blue\"> |-momentum: 0.3</span>"
            ],
            "text/plain": [
              "<IPython.core.display.HTML object>"
            ]
          },
          "metadata": {
            "tags": []
          }
        },
        {
          "output_type": "display_data",
          "data": {
            "text/html": [
              "<span style=\"color:#4527A0\"><h1 style=\"font-size:18px\">Trial summary</h1></span>"
            ],
            "text/plain": [
              "<IPython.core.display.HTML object>"
            ]
          },
          "metadata": {
            "tags": []
          }
        },
        {
          "output_type": "display_data",
          "data": {
            "text/html": [
              "<span style=\"color:cyan\"> |-Trial ID: 14c8e6929032c2975d208085be87fb06</span>"
            ],
            "text/plain": [
              "<IPython.core.display.HTML object>"
            ]
          },
          "metadata": {
            "tags": []
          }
        },
        {
          "output_type": "display_data",
          "data": {
            "text/html": [
              "<span style=\"color:cyan\"> |-Score: 0.4880952537059784</span>"
            ],
            "text/plain": [
              "<IPython.core.display.HTML object>"
            ]
          },
          "metadata": {
            "tags": []
          }
        },
        {
          "output_type": "display_data",
          "data": {
            "text/html": [
              "<span style=\"color:cyan\"> |-Best step: 0</span>"
            ],
            "text/plain": [
              "<IPython.core.display.HTML object>"
            ]
          },
          "metadata": {
            "tags": []
          }
        },
        {
          "output_type": "display_data",
          "data": {
            "text/html": [
              "<span style=\"color:#7E57C2\"><h2 style=\"font-size:16px\">Hyperparameters:</h2></span>"
            ],
            "text/plain": [
              "<IPython.core.display.HTML object>"
            ]
          },
          "metadata": {
            "tags": []
          }
        },
        {
          "output_type": "display_data",
          "data": {
            "text/html": [
              "<span style=\"color:cyan\"> |-learning_rate: 0.01</span>"
            ],
            "text/plain": [
              "<IPython.core.display.HTML object>"
            ]
          },
          "metadata": {
            "tags": []
          }
        },
        {
          "output_type": "display_data",
          "data": {
            "text/html": [
              "<span style=\"color:blue\"> |-momentum: 0.4</span>"
            ],
            "text/plain": [
              "<IPython.core.display.HTML object>"
            ]
          },
          "metadata": {
            "tags": []
          }
        },
        {
          "output_type": "display_data",
          "data": {
            "text/html": [
              "<span style=\"color:#4527A0\"><h1 style=\"font-size:18px\">Trial summary</h1></span>"
            ],
            "text/plain": [
              "<IPython.core.display.HTML object>"
            ]
          },
          "metadata": {
            "tags": []
          }
        },
        {
          "output_type": "display_data",
          "data": {
            "text/html": [
              "<span style=\"color:cyan\"> |-Trial ID: 4198a01d5e285054e7e4086b4f5fa083</span>"
            ],
            "text/plain": [
              "<IPython.core.display.HTML object>"
            ]
          },
          "metadata": {
            "tags": []
          }
        },
        {
          "output_type": "display_data",
          "data": {
            "text/html": [
              "<span style=\"color:cyan\"> |-Score: 0.4880951941013336</span>"
            ],
            "text/plain": [
              "<IPython.core.display.HTML object>"
            ]
          },
          "metadata": {
            "tags": []
          }
        },
        {
          "output_type": "display_data",
          "data": {
            "text/html": [
              "<span style=\"color:cyan\"> |-Best step: 0</span>"
            ],
            "text/plain": [
              "<IPython.core.display.HTML object>"
            ]
          },
          "metadata": {
            "tags": []
          }
        },
        {
          "output_type": "display_data",
          "data": {
            "text/html": [
              "<span style=\"color:#7E57C2\"><h2 style=\"font-size:16px\">Hyperparameters:</h2></span>"
            ],
            "text/plain": [
              "<IPython.core.display.HTML object>"
            ]
          },
          "metadata": {
            "tags": []
          }
        },
        {
          "output_type": "display_data",
          "data": {
            "text/html": [
              "<span style=\"color:cyan\"> |-learning_rate: 0.001</span>"
            ],
            "text/plain": [
              "<IPython.core.display.HTML object>"
            ]
          },
          "metadata": {
            "tags": []
          }
        },
        {
          "output_type": "display_data",
          "data": {
            "text/html": [
              "<span style=\"color:blue\"> |-momentum: 0.6</span>"
            ],
            "text/plain": [
              "<IPython.core.display.HTML object>"
            ]
          },
          "metadata": {
            "tags": []
          }
        },
        {
          "output_type": "display_data",
          "data": {
            "text/html": [
              "<span style=\"color:#4527A0\"><h1 style=\"font-size:18px\">Trial summary</h1></span>"
            ],
            "text/plain": [
              "<IPython.core.display.HTML object>"
            ]
          },
          "metadata": {
            "tags": []
          }
        },
        {
          "output_type": "display_data",
          "data": {
            "text/html": [
              "<span style=\"color:cyan\"> |-Trial ID: 43ea848a03332232b442c2b7f8695c34</span>"
            ],
            "text/plain": [
              "<IPython.core.display.HTML object>"
            ]
          },
          "metadata": {
            "tags": []
          }
        },
        {
          "output_type": "display_data",
          "data": {
            "text/html": [
              "<span style=\"color:cyan\"> |-Score: 0.4642857015132904</span>"
            ],
            "text/plain": [
              "<IPython.core.display.HTML object>"
            ]
          },
          "metadata": {
            "tags": []
          }
        },
        {
          "output_type": "display_data",
          "data": {
            "text/html": [
              "<span style=\"color:cyan\"> |-Best step: 0</span>"
            ],
            "text/plain": [
              "<IPython.core.display.HTML object>"
            ]
          },
          "metadata": {
            "tags": []
          }
        },
        {
          "output_type": "display_data",
          "data": {
            "text/html": [
              "<span style=\"color:#7E57C2\"><h2 style=\"font-size:16px\">Hyperparameters:</h2></span>"
            ],
            "text/plain": [
              "<IPython.core.display.HTML object>"
            ]
          },
          "metadata": {
            "tags": []
          }
        },
        {
          "output_type": "display_data",
          "data": {
            "text/html": [
              "<span style=\"color:cyan\"> |-learning_rate: 0.001</span>"
            ],
            "text/plain": [
              "<IPython.core.display.HTML object>"
            ]
          },
          "metadata": {
            "tags": []
          }
        },
        {
          "output_type": "display_data",
          "data": {
            "text/html": [
              "<span style=\"color:blue\"> |-momentum: 0.5</span>"
            ],
            "text/plain": [
              "<IPython.core.display.HTML object>"
            ]
          },
          "metadata": {
            "tags": []
          }
        },
        {
          "output_type": "display_data",
          "data": {
            "text/html": [
              "<span style=\"color:#4527A0\"><h1 style=\"font-size:18px\">Trial summary</h1></span>"
            ],
            "text/plain": [
              "<IPython.core.display.HTML object>"
            ]
          },
          "metadata": {
            "tags": []
          }
        },
        {
          "output_type": "display_data",
          "data": {
            "text/html": [
              "<span style=\"color:cyan\"> |-Trial ID: 4ccc9117e6fb89965fa7d1e4af8a1026</span>"
            ],
            "text/plain": [
              "<IPython.core.display.HTML object>"
            ]
          },
          "metadata": {
            "tags": []
          }
        },
        {
          "output_type": "display_data",
          "data": {
            "text/html": [
              "<span style=\"color:cyan\"> |-Score: 0.4642857015132904</span>"
            ],
            "text/plain": [
              "<IPython.core.display.HTML object>"
            ]
          },
          "metadata": {
            "tags": []
          }
        },
        {
          "output_type": "display_data",
          "data": {
            "text/html": [
              "<span style=\"color:cyan\"> |-Best step: 0</span>"
            ],
            "text/plain": [
              "<IPython.core.display.HTML object>"
            ]
          },
          "metadata": {
            "tags": []
          }
        },
        {
          "output_type": "display_data",
          "data": {
            "text/html": [
              "<span style=\"color:#7E57C2\"><h2 style=\"font-size:16px\">Hyperparameters:</h2></span>"
            ],
            "text/plain": [
              "<IPython.core.display.HTML object>"
            ]
          },
          "metadata": {
            "tags": []
          }
        },
        {
          "output_type": "display_data",
          "data": {
            "text/html": [
              "<span style=\"color:cyan\"> |-learning_rate: 0.01</span>"
            ],
            "text/plain": [
              "<IPython.core.display.HTML object>"
            ]
          },
          "metadata": {
            "tags": []
          }
        },
        {
          "output_type": "display_data",
          "data": {
            "text/html": [
              "<span style=\"color:blue\"> |-momentum: 0.2</span>"
            ],
            "text/plain": [
              "<IPython.core.display.HTML object>"
            ]
          },
          "metadata": {
            "tags": []
          }
        },
        {
          "output_type": "display_data",
          "data": {
            "text/html": [
              "<span style=\"color:#4527A0\"><h1 style=\"font-size:18px\">Trial summary</h1></span>"
            ],
            "text/plain": [
              "<IPython.core.display.HTML object>"
            ]
          },
          "metadata": {
            "tags": []
          }
        },
        {
          "output_type": "display_data",
          "data": {
            "text/html": [
              "<span style=\"color:cyan\"> |-Trial ID: a7c4c90691c3525ed5295edd0800ca70</span>"
            ],
            "text/plain": [
              "<IPython.core.display.HTML object>"
            ]
          },
          "metadata": {
            "tags": []
          }
        },
        {
          "output_type": "display_data",
          "data": {
            "text/html": [
              "<span style=\"color:cyan\"> |-Score: 0.392857164144516</span>"
            ],
            "text/plain": [
              "<IPython.core.display.HTML object>"
            ]
          },
          "metadata": {
            "tags": []
          }
        },
        {
          "output_type": "display_data",
          "data": {
            "text/html": [
              "<span style=\"color:cyan\"> |-Best step: 0</span>"
            ],
            "text/plain": [
              "<IPython.core.display.HTML object>"
            ]
          },
          "metadata": {
            "tags": []
          }
        },
        {
          "output_type": "display_data",
          "data": {
            "text/html": [
              "<span style=\"color:#7E57C2\"><h2 style=\"font-size:16px\">Hyperparameters:</h2></span>"
            ],
            "text/plain": [
              "<IPython.core.display.HTML object>"
            ]
          },
          "metadata": {
            "tags": []
          }
        },
        {
          "output_type": "display_data",
          "data": {
            "text/html": [
              "<span style=\"color:cyan\"> |-learning_rate: 0.001</span>"
            ],
            "text/plain": [
              "<IPython.core.display.HTML object>"
            ]
          },
          "metadata": {
            "tags": []
          }
        },
        {
          "output_type": "display_data",
          "data": {
            "text/html": [
              "<span style=\"color:blue\"> |-momentum: 0.7</span>"
            ],
            "text/plain": [
              "<IPython.core.display.HTML object>"
            ]
          },
          "metadata": {
            "tags": []
          }
        },
        {
          "output_type": "display_data",
          "data": {
            "text/html": [
              "<span style=\"color:#4527A0\"><h1 style=\"font-size:18px\">Trial summary</h1></span>"
            ],
            "text/plain": [
              "<IPython.core.display.HTML object>"
            ]
          },
          "metadata": {
            "tags": []
          }
        },
        {
          "output_type": "display_data",
          "data": {
            "text/html": [
              "<span style=\"color:cyan\"> |-Trial ID: 75cf911c8b4321c73fc3bc694d467c4d</span>"
            ],
            "text/plain": [
              "<IPython.core.display.HTML object>"
            ]
          },
          "metadata": {
            "tags": []
          }
        },
        {
          "output_type": "display_data",
          "data": {
            "text/html": [
              "<span style=\"color:cyan\"> |-Score: 0.3095238208770752</span>"
            ],
            "text/plain": [
              "<IPython.core.display.HTML object>"
            ]
          },
          "metadata": {
            "tags": []
          }
        },
        {
          "output_type": "display_data",
          "data": {
            "text/html": [
              "<span style=\"color:cyan\"> |-Best step: 0</span>"
            ],
            "text/plain": [
              "<IPython.core.display.HTML object>"
            ]
          },
          "metadata": {
            "tags": []
          }
        },
        {
          "output_type": "display_data",
          "data": {
            "text/html": [
              "<span style=\"color:#7E57C2\"><h2 style=\"font-size:16px\">Hyperparameters:</h2></span>"
            ],
            "text/plain": [
              "<IPython.core.display.HTML object>"
            ]
          },
          "metadata": {
            "tags": []
          }
        },
        {
          "output_type": "display_data",
          "data": {
            "text/html": [
              "<span style=\"color:cyan\"> |-learning_rate: 0.0001</span>"
            ],
            "text/plain": [
              "<IPython.core.display.HTML object>"
            ]
          },
          "metadata": {
            "tags": []
          }
        },
        {
          "output_type": "display_data",
          "data": {
            "text/html": [
              "<span style=\"color:blue\"> |-momentum: 0.3</span>"
            ],
            "text/plain": [
              "<IPython.core.display.HTML object>"
            ]
          },
          "metadata": {
            "tags": []
          }
        },
        {
          "output_type": "display_data",
          "data": {
            "text/html": [
              "<span style=\"color:#4527A0\"><h1 style=\"font-size:18px\">Trial summary</h1></span>"
            ],
            "text/plain": [
              "<IPython.core.display.HTML object>"
            ]
          },
          "metadata": {
            "tags": []
          }
        },
        {
          "output_type": "display_data",
          "data": {
            "text/html": [
              "<span style=\"color:cyan\"> |-Trial ID: 61f2906340466f3bef2181fec755b5e3</span>"
            ],
            "text/plain": [
              "<IPython.core.display.HTML object>"
            ]
          },
          "metadata": {
            "tags": []
          }
        },
        {
          "output_type": "display_data",
          "data": {
            "text/html": [
              "<span style=\"color:cyan\"> |-Score: 0.25</span>"
            ],
            "text/plain": [
              "<IPython.core.display.HTML object>"
            ]
          },
          "metadata": {
            "tags": []
          }
        },
        {
          "output_type": "display_data",
          "data": {
            "text/html": [
              "<span style=\"color:cyan\"> |-Best step: 0</span>"
            ],
            "text/plain": [
              "<IPython.core.display.HTML object>"
            ]
          },
          "metadata": {
            "tags": []
          }
        },
        {
          "output_type": "display_data",
          "data": {
            "text/html": [
              "<span style=\"color:#7E57C2\"><h2 style=\"font-size:16px\">Hyperparameters:</h2></span>"
            ],
            "text/plain": [
              "<IPython.core.display.HTML object>"
            ]
          },
          "metadata": {
            "tags": []
          }
        },
        {
          "output_type": "display_data",
          "data": {
            "text/html": [
              "<span style=\"color:cyan\"> |-learning_rate: 0.0001</span>"
            ],
            "text/plain": [
              "<IPython.core.display.HTML object>"
            ]
          },
          "metadata": {
            "tags": []
          }
        },
        {
          "output_type": "display_data",
          "data": {
            "text/html": [
              "<span style=\"color:blue\"> |-momentum: 0.0</span>"
            ],
            "text/plain": [
              "<IPython.core.display.HTML object>"
            ]
          },
          "metadata": {
            "tags": []
          }
        }
      ]
    },
    {
      "cell_type": "code",
      "metadata": {
        "id": "OKoSdUynrlpu",
        "colab_type": "code",
        "outputId": "3fc8f1e4-3bb2-418e-c022-041eb6f51a85",
        "colab": {
          "base_uri": "https://localhost:8080/",
          "height": 34
        }
      },
      "source": [
        "tuner.oracle.get_best_trials(num_trials=1)[0].hyperparameters.values"
      ],
      "execution_count": 222,
      "outputs": [
        {
          "output_type": "execute_result",
          "data": {
            "text/plain": [
              "{'learning_rate': 0.01, 'momentum': 0.9}"
            ]
          },
          "metadata": {
            "tags": []
          },
          "execution_count": 222
        }
      ]
    },
    {
      "cell_type": "code",
      "metadata": {
        "id": "4SZaHuo_rpgG",
        "colab_type": "code",
        "colab": {}
      },
      "source": [
        "best_model = tuner.get_best_models()[0]"
      ],
      "execution_count": 0,
      "outputs": []
    },
    {
      "cell_type": "markdown",
      "metadata": {
        "id": "VHQqYcPDsGI4",
        "colab_type": "text"
      },
      "source": [
        "##Train the best model RandomSearch"
      ]
    },
    {
      "cell_type": "code",
      "metadata": {
        "colab_type": "code",
        "outputId": "d7e9ce1b-c54f-48c2-fb92-0650f470a50d",
        "id": "sH1B0fhOsNSD",
        "colab": {
          "base_uri": "https://localhost:8080/",
          "height": 1000
        }
      },
      "source": [
        "#num_epochs = 50\n",
        "all_acc_histories_RS = []\n",
        "all_loss_histories_RS = []\n",
        "all_val_acc_histories_RS = []\n",
        "all_val_loss_histories_RS = []\n",
        "\n",
        "for train_index, val_index in skf.split(train_data_stand_pca, train_labels_dec):\n",
        " \n",
        "  partial_train_data = np.array([train_data_stand_pca[i] for i in train_index])\n",
        "  partial_train_targets = np.array([train_labels_dec[i] for i in train_index])\n",
        "  \n",
        "  val_data = np.array([train_data_stand_pca[i] for i in val_index])\n",
        "  val_targets = np.array([train_labels_dec[i] for i in val_index])\n",
        "\n",
        "  one_hot_partial_train_targets = to_categorical(partial_train_targets)\n",
        "  one_hot_val_targets = to_categorical(val_targets)\n",
        "\n",
        " \n",
        "  history_RS = best_model.fit(partial_train_data, one_hot_partial_train_targets, validation_data=(val_data, one_hot_val_targets), \n",
        "                      epochs=num_epochs, batch_size=8)\n",
        "  \n",
        "  acc_history_RS = history_RS.history['acc']\n",
        "  all_acc_histories_RS.append(acc_history_RS)\n",
        "\n",
        "  loss_history_RS = history_RS.history['loss']\n",
        "  all_loss_histories_RS.append(loss_history_RS)\n",
        "\n",
        "  acc_val_history_RS = history_RS.history['val_acc']\n",
        "  all_val_acc_histories_RS.append(acc_val_history_RS)\n",
        "\n",
        "  loss_val_history_RS = history_RS.history['val_loss']\n",
        "  all_val_loss_histories_RS.append(loss_val_history_RS)\n",
        "  \n",
        "\n",
        "#I parametri per la valutazione vengono calcolati per ogni epoca, quindi num_epochs volte. \n",
        "#Il tutto viene ripetuto un numero di volte pari a n_splits.\n",
        "#Si ottiene una lista con n_splits elementi ciascuno dei quali è una lista lunga num_epochs,\n",
        "#ogni elemento può essere uno fra questi: dict_keys(['val_loss', 'val_acc', 'loss', 'acc']) "
      ],
      "execution_count": 224,
      "outputs": [
        {
          "output_type": "stream",
          "text": [
            "Train on 103 samples, validate on 28 samples\n",
            "Epoch 1/30\n",
            "103/103 [==============================] - 0s 943us/sample - loss: 0.9163 - acc: 0.6117 - val_loss: 0.9628 - val_acc: 0.5000\n",
            "Epoch 2/30\n",
            "103/103 [==============================] - 0s 326us/sample - loss: 0.8893 - acc: 0.6311 - val_loss: 0.9679 - val_acc: 0.4643\n",
            "Epoch 3/30\n",
            "103/103 [==============================] - 0s 349us/sample - loss: 0.9056 - acc: 0.5728 - val_loss: 0.9721 - val_acc: 0.4643\n",
            "Epoch 4/30\n",
            "103/103 [==============================] - 0s 303us/sample - loss: 0.8784 - acc: 0.6214 - val_loss: 1.0010 - val_acc: 0.5357\n",
            "Epoch 5/30\n",
            "103/103 [==============================] - 0s 294us/sample - loss: 0.8752 - acc: 0.6117 - val_loss: 1.0460 - val_acc: 0.5000\n",
            "Epoch 6/30\n",
            "103/103 [==============================] - 0s 315us/sample - loss: 0.8521 - acc: 0.6117 - val_loss: 0.9951 - val_acc: 0.5357\n",
            "Epoch 7/30\n",
            "103/103 [==============================] - 0s 310us/sample - loss: 0.8516 - acc: 0.6311 - val_loss: 0.9800 - val_acc: 0.5000\n",
            "Epoch 8/30\n",
            "103/103 [==============================] - 0s 344us/sample - loss: 0.8370 - acc: 0.6408 - val_loss: 1.0901 - val_acc: 0.5357\n",
            "Epoch 9/30\n",
            "103/103 [==============================] - 0s 319us/sample - loss: 0.8939 - acc: 0.5825 - val_loss: 1.0146 - val_acc: 0.5357\n",
            "Epoch 10/30\n",
            "103/103 [==============================] - 0s 302us/sample - loss: 0.8540 - acc: 0.6311 - val_loss: 1.0569 - val_acc: 0.5000\n",
            "Epoch 11/30\n",
            "103/103 [==============================] - 0s 292us/sample - loss: 0.8461 - acc: 0.6019 - val_loss: 1.0373 - val_acc: 0.5357\n",
            "Epoch 12/30\n",
            "103/103 [==============================] - 0s 288us/sample - loss: 0.8328 - acc: 0.6019 - val_loss: 1.0542 - val_acc: 0.5357\n",
            "Epoch 13/30\n",
            "103/103 [==============================] - 0s 298us/sample - loss: 0.8544 - acc: 0.5825 - val_loss: 1.0860 - val_acc: 0.5357\n",
            "Epoch 14/30\n",
            "103/103 [==============================] - 0s 265us/sample - loss: 0.8177 - acc: 0.6505 - val_loss: 1.0419 - val_acc: 0.5357\n",
            "Epoch 15/30\n",
            "103/103 [==============================] - 0s 315us/sample - loss: 0.8351 - acc: 0.6214 - val_loss: 1.0204 - val_acc: 0.5357\n",
            "Epoch 16/30\n",
            "103/103 [==============================] - 0s 299us/sample - loss: 0.8305 - acc: 0.6117 - val_loss: 1.1223 - val_acc: 0.5357\n",
            "Epoch 17/30\n",
            "103/103 [==============================] - 0s 289us/sample - loss: 0.8610 - acc: 0.6214 - val_loss: 1.0944 - val_acc: 0.5357\n",
            "Epoch 18/30\n",
            "103/103 [==============================] - 0s 306us/sample - loss: 0.8285 - acc: 0.6214 - val_loss: 1.1013 - val_acc: 0.5357\n",
            "Epoch 19/30\n",
            "103/103 [==============================] - 0s 295us/sample - loss: 0.7912 - acc: 0.6602 - val_loss: 1.0537 - val_acc: 0.5357\n",
            "Epoch 20/30\n",
            "103/103 [==============================] - 0s 310us/sample - loss: 0.8271 - acc: 0.6117 - val_loss: 1.1010 - val_acc: 0.5357\n",
            "Epoch 21/30\n",
            "103/103 [==============================] - 0s 304us/sample - loss: 0.8022 - acc: 0.6602 - val_loss: 1.0545 - val_acc: 0.5357\n",
            "Epoch 22/30\n",
            "103/103 [==============================] - 0s 298us/sample - loss: 0.7939 - acc: 0.6699 - val_loss: 1.2553 - val_acc: 0.4643\n",
            "Epoch 23/30\n",
            "103/103 [==============================] - 0s 291us/sample - loss: 0.8102 - acc: 0.6117 - val_loss: 0.9973 - val_acc: 0.5714\n",
            "Epoch 24/30\n",
            "103/103 [==============================] - 0s 299us/sample - loss: 0.8170 - acc: 0.6408 - val_loss: 1.1990 - val_acc: 0.5000\n",
            "Epoch 25/30\n",
            "103/103 [==============================] - 0s 312us/sample - loss: 0.7975 - acc: 0.6117 - val_loss: 1.0747 - val_acc: 0.5357\n",
            "Epoch 26/30\n",
            "103/103 [==============================] - 0s 303us/sample - loss: 0.8288 - acc: 0.6019 - val_loss: 1.1109 - val_acc: 0.5357\n",
            "Epoch 27/30\n",
            "103/103 [==============================] - 0s 294us/sample - loss: 0.7881 - acc: 0.6311 - val_loss: 1.1280 - val_acc: 0.5357\n",
            "Epoch 28/30\n",
            "103/103 [==============================] - 0s 323us/sample - loss: 0.7793 - acc: 0.6602 - val_loss: 1.1547 - val_acc: 0.5000\n",
            "Epoch 29/30\n",
            "103/103 [==============================] - 0s 302us/sample - loss: 0.7817 - acc: 0.6311 - val_loss: 1.1512 - val_acc: 0.5357\n",
            "Epoch 30/30\n",
            "103/103 [==============================] - 0s 276us/sample - loss: 0.8075 - acc: 0.6311 - val_loss: 1.2195 - val_acc: 0.5357\n",
            "Train on 105 samples, validate on 26 samples\n",
            "Epoch 1/30\n",
            "105/105 [==============================] - 0s 294us/sample - loss: 0.8745 - acc: 0.6190 - val_loss: 0.9200 - val_acc: 0.5769\n",
            "Epoch 2/30\n",
            "105/105 [==============================] - 0s 323us/sample - loss: 0.9235 - acc: 0.5714 - val_loss: 0.9010 - val_acc: 0.5769\n",
            "Epoch 3/30\n",
            "105/105 [==============================] - 0s 313us/sample - loss: 0.8625 - acc: 0.6095 - val_loss: 0.9136 - val_acc: 0.5385\n",
            "Epoch 4/30\n",
            "105/105 [==============================] - 0s 305us/sample - loss: 0.8201 - acc: 0.6095 - val_loss: 0.9375 - val_acc: 0.5769\n",
            "Epoch 5/30\n",
            "105/105 [==============================] - 0s 294us/sample - loss: 0.7963 - acc: 0.6190 - val_loss: 0.9630 - val_acc: 0.5000\n",
            "Epoch 6/30\n",
            "105/105 [==============================] - 0s 320us/sample - loss: 0.7952 - acc: 0.6000 - val_loss: 1.0123 - val_acc: 0.5769\n",
            "Epoch 7/30\n",
            "105/105 [==============================] - 0s 278us/sample - loss: 0.7903 - acc: 0.6000 - val_loss: 1.0485 - val_acc: 0.5385\n",
            "Epoch 8/30\n",
            "105/105 [==============================] - 0s 272us/sample - loss: 0.7778 - acc: 0.6190 - val_loss: 1.0784 - val_acc: 0.5385\n",
            "Epoch 9/30\n",
            "105/105 [==============================] - 0s 277us/sample - loss: 0.7896 - acc: 0.5810 - val_loss: 1.1294 - val_acc: 0.4231\n",
            "Epoch 10/30\n",
            "105/105 [==============================] - 0s 282us/sample - loss: 0.8179 - acc: 0.6286 - val_loss: 1.2021 - val_acc: 0.4615\n",
            "Epoch 11/30\n",
            "105/105 [==============================] - 0s 283us/sample - loss: 0.8466 - acc: 0.6381 - val_loss: 1.1161 - val_acc: 0.4231\n",
            "Epoch 12/30\n",
            "105/105 [==============================] - 0s 283us/sample - loss: 0.7727 - acc: 0.6381 - val_loss: 1.1456 - val_acc: 0.5000\n",
            "Epoch 13/30\n",
            "105/105 [==============================] - 0s 296us/sample - loss: 0.7338 - acc: 0.6381 - val_loss: 1.1605 - val_acc: 0.5385\n",
            "Epoch 14/30\n",
            "105/105 [==============================] - 0s 298us/sample - loss: 0.7653 - acc: 0.6286 - val_loss: 1.2489 - val_acc: 0.4615\n",
            "Epoch 15/30\n",
            "105/105 [==============================] - 0s 310us/sample - loss: 0.7273 - acc: 0.6476 - val_loss: 1.2457 - val_acc: 0.5385\n",
            "Epoch 16/30\n",
            "105/105 [==============================] - 0s 319us/sample - loss: 0.7104 - acc: 0.6571 - val_loss: 1.2166 - val_acc: 0.5000\n",
            "Epoch 17/30\n",
            "105/105 [==============================] - 0s 289us/sample - loss: 0.8060 - acc: 0.6476 - val_loss: 1.2400 - val_acc: 0.4615\n",
            "Epoch 18/30\n",
            "105/105 [==============================] - 0s 316us/sample - loss: 0.7693 - acc: 0.6190 - val_loss: 1.2885 - val_acc: 0.4615\n",
            "Epoch 19/30\n",
            "105/105 [==============================] - 0s 284us/sample - loss: 0.7210 - acc: 0.6476 - val_loss: 1.4364 - val_acc: 0.4615\n",
            "Epoch 20/30\n",
            "105/105 [==============================] - 0s 377us/sample - loss: 0.8733 - acc: 0.5905 - val_loss: 1.3803 - val_acc: 0.5000\n",
            "Epoch 21/30\n",
            "105/105 [==============================] - 0s 319us/sample - loss: 0.7481 - acc: 0.6952 - val_loss: 1.3473 - val_acc: 0.5000\n",
            "Epoch 22/30\n",
            "105/105 [==============================] - 0s 314us/sample - loss: 0.7217 - acc: 0.7048 - val_loss: 1.4049 - val_acc: 0.3846\n",
            "Epoch 23/30\n",
            "105/105 [==============================] - 0s 346us/sample - loss: 0.7788 - acc: 0.6381 - val_loss: 1.3221 - val_acc: 0.4615\n",
            "Epoch 24/30\n",
            "105/105 [==============================] - 0s 325us/sample - loss: 0.9186 - acc: 0.5714 - val_loss: 1.2201 - val_acc: 0.4615\n",
            "Epoch 25/30\n",
            "105/105 [==============================] - 0s 310us/sample - loss: 0.7157 - acc: 0.6762 - val_loss: 1.3690 - val_acc: 0.4615\n",
            "Epoch 26/30\n",
            "105/105 [==============================] - 0s 320us/sample - loss: 0.7207 - acc: 0.6381 - val_loss: 1.4403 - val_acc: 0.4231\n",
            "Epoch 27/30\n",
            "105/105 [==============================] - 0s 311us/sample - loss: 0.6981 - acc: 0.6762 - val_loss: 1.4247 - val_acc: 0.4615\n",
            "Epoch 28/30\n",
            "105/105 [==============================] - 0s 325us/sample - loss: 0.6744 - acc: 0.6857 - val_loss: 1.4630 - val_acc: 0.4615\n",
            "Epoch 29/30\n",
            "105/105 [==============================] - 0s 301us/sample - loss: 0.6920 - acc: 0.6762 - val_loss: 1.4269 - val_acc: 0.4231\n",
            "Epoch 30/30\n",
            "105/105 [==============================] - 0s 323us/sample - loss: 0.6735 - acc: 0.7048 - val_loss: 1.5560 - val_acc: 0.4615\n",
            "Train on 105 samples, validate on 26 samples\n",
            "Epoch 1/30\n",
            "105/105 [==============================] - 0s 311us/sample - loss: 0.9390 - acc: 0.5810 - val_loss: 0.8032 - val_acc: 0.7692\n",
            "Epoch 2/30\n",
            "105/105 [==============================] - 0s 293us/sample - loss: 0.8152 - acc: 0.6381 - val_loss: 0.7747 - val_acc: 0.6923\n",
            "Epoch 3/30\n",
            "105/105 [==============================] - 0s 305us/sample - loss: 0.8910 - acc: 0.5619 - val_loss: 1.0514 - val_acc: 0.6154\n",
            "Epoch 4/30\n",
            "105/105 [==============================] - 0s 290us/sample - loss: 0.9167 - acc: 0.5810 - val_loss: 0.8219 - val_acc: 0.5385\n",
            "Epoch 5/30\n",
            "105/105 [==============================] - 0s 291us/sample - loss: 0.8813 - acc: 0.6190 - val_loss: 0.9721 - val_acc: 0.5000\n",
            "Epoch 6/30\n",
            "105/105 [==============================] - 0s 300us/sample - loss: 0.8820 - acc: 0.5524 - val_loss: 1.5222 - val_acc: 0.4615\n",
            "Epoch 7/30\n",
            "105/105 [==============================] - 0s 300us/sample - loss: 0.8929 - acc: 0.5333 - val_loss: 1.0192 - val_acc: 0.6154\n",
            "Epoch 8/30\n",
            "105/105 [==============================] - 0s 343us/sample - loss: 0.7881 - acc: 0.6190 - val_loss: 1.1465 - val_acc: 0.5385\n",
            "Epoch 9/30\n",
            "105/105 [==============================] - 0s 304us/sample - loss: 0.7473 - acc: 0.6286 - val_loss: 1.2521 - val_acc: 0.5769\n",
            "Epoch 10/30\n",
            "105/105 [==============================] - 0s 272us/sample - loss: 0.7857 - acc: 0.6095 - val_loss: 1.3224 - val_acc: 0.5385\n",
            "Epoch 11/30\n",
            "105/105 [==============================] - 0s 342us/sample - loss: 0.7848 - acc: 0.6095 - val_loss: 1.1012 - val_acc: 0.4615\n",
            "Epoch 12/30\n",
            "105/105 [==============================] - 0s 328us/sample - loss: 0.7558 - acc: 0.6286 - val_loss: 1.1053 - val_acc: 0.5385\n",
            "Epoch 13/30\n",
            "105/105 [==============================] - 0s 298us/sample - loss: 0.7552 - acc: 0.6571 - val_loss: 1.2101 - val_acc: 0.5000\n",
            "Epoch 14/30\n",
            "105/105 [==============================] - 0s 298us/sample - loss: 0.7363 - acc: 0.6381 - val_loss: 1.2169 - val_acc: 0.5000\n",
            "Epoch 15/30\n",
            "105/105 [==============================] - 0s 352us/sample - loss: 0.7311 - acc: 0.6476 - val_loss: 1.2720 - val_acc: 0.5385\n",
            "Epoch 16/30\n",
            "105/105 [==============================] - 0s 269us/sample - loss: 0.7411 - acc: 0.5810 - val_loss: 1.3995 - val_acc: 0.3462\n",
            "Epoch 17/30\n",
            "105/105 [==============================] - 0s 326us/sample - loss: 0.7096 - acc: 0.6000 - val_loss: 1.4169 - val_acc: 0.3462\n",
            "Epoch 18/30\n",
            "105/105 [==============================] - 0s 270us/sample - loss: 0.7164 - acc: 0.6095 - val_loss: 1.3585 - val_acc: 0.5385\n",
            "Epoch 19/30\n",
            "105/105 [==============================] - 0s 288us/sample - loss: 0.6938 - acc: 0.6286 - val_loss: 1.5322 - val_acc: 0.3462\n",
            "Epoch 20/30\n",
            "105/105 [==============================] - 0s 310us/sample - loss: 0.6867 - acc: 0.6571 - val_loss: 1.3792 - val_acc: 0.4231\n",
            "Epoch 21/30\n",
            "105/105 [==============================] - 0s 373us/sample - loss: 0.6810 - acc: 0.6667 - val_loss: 1.3878 - val_acc: 0.4615\n",
            "Epoch 22/30\n",
            "105/105 [==============================] - 0s 329us/sample - loss: 0.6733 - acc: 0.6476 - val_loss: 1.4492 - val_acc: 0.5000\n",
            "Epoch 23/30\n",
            "105/105 [==============================] - 0s 316us/sample - loss: 0.6892 - acc: 0.6381 - val_loss: 1.3811 - val_acc: 0.3462\n",
            "Epoch 24/30\n",
            "105/105 [==============================] - 0s 290us/sample - loss: 0.6718 - acc: 0.6381 - val_loss: 1.5556 - val_acc: 0.3077\n",
            "Epoch 25/30\n",
            "105/105 [==============================] - 0s 315us/sample - loss: 0.6731 - acc: 0.6667 - val_loss: 1.5807 - val_acc: 0.3077\n",
            "Epoch 26/30\n",
            "105/105 [==============================] - 0s 300us/sample - loss: 0.6914 - acc: 0.6000 - val_loss: 1.6279 - val_acc: 0.3462\n",
            "Epoch 27/30\n",
            "105/105 [==============================] - 0s 330us/sample - loss: 0.6895 - acc: 0.6190 - val_loss: 1.7688 - val_acc: 0.4231\n",
            "Epoch 28/30\n",
            "105/105 [==============================] - 0s 286us/sample - loss: 0.7155 - acc: 0.6000 - val_loss: 1.8788 - val_acc: 0.5385\n",
            "Epoch 29/30\n",
            "105/105 [==============================] - 0s 334us/sample - loss: 0.7058 - acc: 0.5905 - val_loss: 1.6346 - val_acc: 0.4615\n",
            "Epoch 30/30\n",
            "105/105 [==============================] - 0s 298us/sample - loss: 0.6640 - acc: 0.6667 - val_loss: 1.6925 - val_acc: 0.3462\n",
            "Train on 105 samples, validate on 26 samples\n",
            "Epoch 1/30\n",
            "105/105 [==============================] - 0s 362us/sample - loss: 1.3189 - acc: 0.4857 - val_loss: 0.7876 - val_acc: 0.7308\n",
            "Epoch 2/30\n",
            "105/105 [==============================] - 0s 305us/sample - loss: 1.0655 - acc: 0.4952 - val_loss: 1.0035 - val_acc: 0.6923\n",
            "Epoch 3/30\n",
            "105/105 [==============================] - 0s 310us/sample - loss: 0.9162 - acc: 0.4857 - val_loss: 1.1821 - val_acc: 0.5000\n",
            "Epoch 4/30\n",
            "105/105 [==============================] - 0s 314us/sample - loss: 0.8951 - acc: 0.5143 - val_loss: 1.1615 - val_acc: 0.5385\n",
            "Epoch 5/30\n",
            "105/105 [==============================] - 0s 313us/sample - loss: 0.8298 - acc: 0.5619 - val_loss: 1.0374 - val_acc: 0.5000\n",
            "Epoch 6/30\n",
            "105/105 [==============================] - 0s 321us/sample - loss: 0.8165 - acc: 0.5619 - val_loss: 1.0655 - val_acc: 0.6538\n",
            "Epoch 7/30\n",
            "105/105 [==============================] - 0s 305us/sample - loss: 0.8388 - acc: 0.5810 - val_loss: 1.0971 - val_acc: 0.6538\n",
            "Epoch 8/30\n",
            "105/105 [==============================] - 0s 305us/sample - loss: 0.8392 - acc: 0.5429 - val_loss: 1.1011 - val_acc: 0.7308\n",
            "Epoch 9/30\n",
            "105/105 [==============================] - 0s 354us/sample - loss: 0.7909 - acc: 0.6000 - val_loss: 1.1281 - val_acc: 0.5769\n",
            "Epoch 10/30\n",
            "105/105 [==============================] - 0s 409us/sample - loss: 0.8076 - acc: 0.5429 - val_loss: 1.1313 - val_acc: 0.5769\n",
            "Epoch 11/30\n",
            "105/105 [==============================] - 0s 365us/sample - loss: 0.7856 - acc: 0.6095 - val_loss: 1.0155 - val_acc: 0.5769\n",
            "Epoch 12/30\n",
            "105/105 [==============================] - 0s 323us/sample - loss: 0.7598 - acc: 0.6381 - val_loss: 1.1448 - val_acc: 0.6538\n",
            "Epoch 13/30\n",
            "105/105 [==============================] - 0s 297us/sample - loss: 0.7503 - acc: 0.6190 - val_loss: 1.2304 - val_acc: 0.7692\n",
            "Epoch 14/30\n",
            "105/105 [==============================] - 0s 348us/sample - loss: 0.7784 - acc: 0.6190 - val_loss: 1.3303 - val_acc: 0.5385\n",
            "Epoch 15/30\n",
            "105/105 [==============================] - 0s 329us/sample - loss: 1.4514 - acc: 0.4762 - val_loss: 1.5279 - val_acc: 0.4231\n",
            "Epoch 16/30\n",
            "105/105 [==============================] - 0s 346us/sample - loss: 1.1184 - acc: 0.4000 - val_loss: 1.3576 - val_acc: 0.4615\n",
            "Epoch 17/30\n",
            "105/105 [==============================] - 0s 327us/sample - loss: 1.0786 - acc: 0.4857 - val_loss: 1.1586 - val_acc: 0.5385\n",
            "Epoch 18/30\n",
            "105/105 [==============================] - 0s 380us/sample - loss: 1.1578 - acc: 0.4476 - val_loss: 1.5340 - val_acc: 0.4615\n",
            "Epoch 19/30\n",
            "105/105 [==============================] - 0s 359us/sample - loss: 0.9333 - acc: 0.4857 - val_loss: 1.3175 - val_acc: 0.3846\n",
            "Epoch 20/30\n",
            "105/105 [==============================] - 0s 342us/sample - loss: 0.8801 - acc: 0.5238 - val_loss: 1.2586 - val_acc: 0.5385\n",
            "Epoch 21/30\n",
            "105/105 [==============================] - 0s 352us/sample - loss: 0.8999 - acc: 0.5238 - val_loss: 1.2574 - val_acc: 0.5769\n",
            "Epoch 22/30\n",
            "105/105 [==============================] - 0s 315us/sample - loss: 0.8085 - acc: 0.5238 - val_loss: 1.1288 - val_acc: 0.6538\n",
            "Epoch 23/30\n",
            "105/105 [==============================] - 0s 314us/sample - loss: 0.8445 - acc: 0.5524 - val_loss: 1.1813 - val_acc: 0.5769\n",
            "Epoch 24/30\n",
            "105/105 [==============================] - 0s 313us/sample - loss: 0.8566 - acc: 0.5238 - val_loss: 1.3039 - val_acc: 0.5769\n",
            "Epoch 25/30\n",
            "105/105 [==============================] - 0s 312us/sample - loss: 0.7883 - acc: 0.5810 - val_loss: 1.0560 - val_acc: 0.7692\n",
            "Epoch 26/30\n",
            "105/105 [==============================] - 0s 304us/sample - loss: 0.7796 - acc: 0.6000 - val_loss: 1.1669 - val_acc: 0.7308\n",
            "Epoch 27/30\n",
            "105/105 [==============================] - 0s 285us/sample - loss: 0.7610 - acc: 0.6000 - val_loss: 1.1636 - val_acc: 0.6538\n",
            "Epoch 28/30\n",
            "105/105 [==============================] - 0s 282us/sample - loss: 0.7860 - acc: 0.5714 - val_loss: 1.1616 - val_acc: 0.6538\n",
            "Epoch 29/30\n",
            "105/105 [==============================] - 0s 342us/sample - loss: 0.8422 - acc: 0.5810 - val_loss: 1.2262 - val_acc: 0.6154\n",
            "Epoch 30/30\n",
            "105/105 [==============================] - 0s 299us/sample - loss: 0.7961 - acc: 0.6000 - val_loss: 1.3023 - val_acc: 0.5769\n",
            "Train on 106 samples, validate on 25 samples\n",
            "Epoch 1/30\n",
            "106/106 [==============================] - 0s 308us/sample - loss: 0.9736 - acc: 0.5849 - val_loss: 0.7198 - val_acc: 0.5600\n",
            "Epoch 2/30\n",
            "106/106 [==============================] - 0s 326us/sample - loss: 0.9447 - acc: 0.5472 - val_loss: 0.9917 - val_acc: 0.5200\n",
            "Epoch 3/30\n",
            "106/106 [==============================] - 0s 290us/sample - loss: 0.8172 - acc: 0.6226 - val_loss: 0.8544 - val_acc: 0.5600\n",
            "Epoch 4/30\n",
            "106/106 [==============================] - 0s 306us/sample - loss: 0.7531 - acc: 0.6415 - val_loss: 0.8359 - val_acc: 0.6400\n",
            "Epoch 5/30\n",
            "106/106 [==============================] - 0s 322us/sample - loss: 0.7094 - acc: 0.6792 - val_loss: 0.9002 - val_acc: 0.5600\n",
            "Epoch 6/30\n",
            "106/106 [==============================] - 0s 309us/sample - loss: 0.7358 - acc: 0.6604 - val_loss: 0.9477 - val_acc: 0.6000\n",
            "Epoch 7/30\n",
            "106/106 [==============================] - 0s 344us/sample - loss: 0.7063 - acc: 0.6887 - val_loss: 0.9597 - val_acc: 0.5200\n",
            "Epoch 8/30\n",
            "106/106 [==============================] - 0s 325us/sample - loss: 0.7492 - acc: 0.6038 - val_loss: 1.0566 - val_acc: 0.6000\n",
            "Epoch 9/30\n",
            "106/106 [==============================] - 0s 311us/sample - loss: 0.8309 - acc: 0.6509 - val_loss: 1.1370 - val_acc: 0.5200\n",
            "Epoch 10/30\n",
            "106/106 [==============================] - 0s 309us/sample - loss: 0.7504 - acc: 0.6415 - val_loss: 1.0403 - val_acc: 0.4400\n",
            "Epoch 11/30\n",
            "106/106 [==============================] - 0s 306us/sample - loss: 0.7562 - acc: 0.6604 - val_loss: 1.1591 - val_acc: 0.5200\n",
            "Epoch 12/30\n",
            "106/106 [==============================] - 0s 318us/sample - loss: 0.7385 - acc: 0.6415 - val_loss: 1.1463 - val_acc: 0.4800\n",
            "Epoch 13/30\n",
            "106/106 [==============================] - 0s 312us/sample - loss: 0.6932 - acc: 0.6698 - val_loss: 1.1320 - val_acc: 0.5200\n",
            "Epoch 14/30\n",
            "106/106 [==============================] - 0s 321us/sample - loss: 0.6931 - acc: 0.6321 - val_loss: 1.1662 - val_acc: 0.4400\n",
            "Epoch 15/30\n",
            "106/106 [==============================] - 0s 301us/sample - loss: 0.6555 - acc: 0.6981 - val_loss: 1.1508 - val_acc: 0.5200\n",
            "Epoch 16/30\n",
            "106/106 [==============================] - 0s 300us/sample - loss: 0.6780 - acc: 0.6509 - val_loss: 1.0709 - val_acc: 0.4800\n",
            "Epoch 17/30\n",
            "106/106 [==============================] - 0s 293us/sample - loss: 0.6551 - acc: 0.7264 - val_loss: 1.2447 - val_acc: 0.5600\n",
            "Epoch 18/30\n",
            "106/106 [==============================] - 0s 308us/sample - loss: 0.6681 - acc: 0.6981 - val_loss: 1.1631 - val_acc: 0.4800\n",
            "Epoch 19/30\n",
            "106/106 [==============================] - 0s 323us/sample - loss: 0.6329 - acc: 0.7264 - val_loss: 1.2426 - val_acc: 0.4400\n",
            "Epoch 20/30\n",
            "106/106 [==============================] - 0s 257us/sample - loss: 0.7333 - acc: 0.6415 - val_loss: 1.2464 - val_acc: 0.5200\n",
            "Epoch 21/30\n",
            "106/106 [==============================] - 0s 275us/sample - loss: 0.8480 - acc: 0.6321 - val_loss: 1.0486 - val_acc: 0.5200\n",
            "Epoch 22/30\n",
            "106/106 [==============================] - 0s 337us/sample - loss: 0.9712 - acc: 0.5566 - val_loss: 1.3510 - val_acc: 0.4400\n",
            "Epoch 23/30\n",
            "106/106 [==============================] - 0s 288us/sample - loss: 0.7143 - acc: 0.6792 - val_loss: 1.1393 - val_acc: 0.4800\n",
            "Epoch 24/30\n",
            "106/106 [==============================] - 0s 279us/sample - loss: 0.7037 - acc: 0.6698 - val_loss: 1.0950 - val_acc: 0.4800\n",
            "Epoch 25/30\n",
            "106/106 [==============================] - 0s 270us/sample - loss: 0.6559 - acc: 0.6698 - val_loss: 1.1614 - val_acc: 0.5600\n",
            "Epoch 26/30\n",
            "106/106 [==============================] - 0s 275us/sample - loss: 0.6295 - acc: 0.7075 - val_loss: 1.1499 - val_acc: 0.5200\n",
            "Epoch 27/30\n",
            "106/106 [==============================] - 0s 281us/sample - loss: 0.6322 - acc: 0.7170 - val_loss: 1.1668 - val_acc: 0.5200\n",
            "Epoch 28/30\n",
            "106/106 [==============================] - 0s 333us/sample - loss: 0.6554 - acc: 0.7170 - val_loss: 1.1888 - val_acc: 0.5200\n",
            "Epoch 29/30\n",
            "106/106 [==============================] - 0s 277us/sample - loss: 0.6150 - acc: 0.7075 - val_loss: 1.2001 - val_acc: 0.4800\n",
            "Epoch 30/30\n",
            "106/106 [==============================] - 0s 279us/sample - loss: 0.6192 - acc: 0.7075 - val_loss: 1.2918 - val_acc: 0.4000\n"
          ],
          "name": "stdout"
        }
      ]
    },
    {
      "cell_type": "code",
      "metadata": {
        "id": "s2eeOHoYbina",
        "colab_type": "code",
        "colab": {}
      },
      "source": [
        "history_dict = history_RS.history"
      ],
      "execution_count": 0,
      "outputs": []
    },
    {
      "cell_type": "code",
      "metadata": {
        "id": "-zDN2PrRc36l",
        "colab_type": "code",
        "outputId": "2f5efe46-ca16-4d4e-ab46-0cbe1f6a4a9d",
        "colab": {
          "base_uri": "https://localhost:8080/",
          "height": 34
        }
      },
      "source": [
        "history_dict.keys()"
      ],
      "execution_count": 226,
      "outputs": [
        {
          "output_type": "execute_result",
          "data": {
            "text/plain": [
              "dict_keys(['loss', 'acc', 'val_loss', 'val_acc'])"
            ]
          },
          "metadata": {
            "tags": []
          },
          "execution_count": 226
        }
      ]
    },
    {
      "cell_type": "markdown",
      "metadata": {
        "id": "B9UhSxIaHtuO",
        "colab_type": "text"
      },
      "source": [
        "##Plotting training and validation loss RandomSearch\n"
      ]
    },
    {
      "cell_type": "code",
      "metadata": {
        "id": "vq6zsienD5ct",
        "colab_type": "code",
        "colab": {}
      },
      "source": [
        "import matplotlib.pyplot as plt"
      ],
      "execution_count": 0,
      "outputs": []
    },
    {
      "cell_type": "code",
      "metadata": {
        "id": "XJizyjnaIPhQ",
        "colab_type": "code",
        "colab": {}
      },
      "source": [
        "epochs = range(1, num_epochs+1)"
      ],
      "execution_count": 0,
      "outputs": []
    },
    {
      "cell_type": "code",
      "metadata": {
        "colab_type": "code",
        "id": "z_pSVTWwtybS",
        "colab": {}
      },
      "source": [
        "average_acc_history_RS = [np.mean([x[i] for x in all_acc_histories_RS]) for i in range(num_epochs)]\n",
        "average_loss_history_RS = [np.mean([x[i] for x in all_loss_histories_RS]) for i in range(num_epochs)]\n",
        "average_val_acc_history_RS = [np.mean([x[i] for x in all_val_acc_histories_RS]) for i in range(num_epochs)]\n",
        "average_val_loss_history_RS = [np.mean([x[i] for x in all_val_loss_histories_RS]) for i in range(num_epochs)]\n",
        "#media per epoca degli score ottenuti per tutte le k-fold\n",
        "#per ogni k-fold di fanno num_epoch epoche, la media viene fatta prendendo gli score di tutti i k-fold relativi ad una data epoca,\n",
        "#e si fa questo per tutte le epoche"
      ],
      "execution_count": 0,
      "outputs": []
    },
    {
      "cell_type": "code",
      "metadata": {
        "id": "HfEHEYLgIQUQ",
        "colab_type": "code",
        "outputId": "66ad8312-d8b0-46d3-8f60-abc361dd70cd",
        "colab": {
          "base_uri": "https://localhost:8080/",
          "height": 312
        }
      },
      "source": [
        "plt.plot(epochs, average_loss_history_RS, 'bo', label='training loss')\n",
        "plt.plot(epochs, average_val_loss_history_RS, 'b', label='validation loss')\n",
        "plt.title('Training and validation loss')\n",
        "plt.xlabel('Epochs')\n",
        "plt.ylabel('Loss')\n",
        "plt.legend()"
      ],
      "execution_count": 230,
      "outputs": [
        {
          "output_type": "execute_result",
          "data": {
            "text/plain": [
              "<matplotlib.legend.Legend at 0x7fcba2d7b908>"
            ]
          },
          "metadata": {
            "tags": []
          },
          "execution_count": 230
        },
        {
          "output_type": "display_data",
          "data": {
            "image/png": "[encoded data removed]",
            "text/plain": [
              "<Figure size 432x288 with 1 Axes>"
            ]
          },
          "metadata": {
            "tags": []
          }
        }
      ]
    },
    {
      "cell_type": "markdown",
      "metadata": {
        "id": "Aoc4wMjfI97j",
        "colab_type": "text"
      },
      "source": [
        "##Plotting train and validation accuracy RandomSearch"
      ]
    },
    {
      "cell_type": "code",
      "metadata": {
        "id": "GZi7VzbFIbtJ",
        "colab_type": "code",
        "outputId": "af733122-8fa2-4d93-c5a0-05cb27bc085a",
        "colab": {
          "base_uri": "https://localhost:8080/",
          "height": 312
        }
      },
      "source": [
        "plt.plot(epochs, average_acc_history_RS, 'bo', label='Training accuracy')\n",
        "plt.plot(epochs, average_val_acc_history_RS, 'b', label='Validation accuracy')\n",
        "plt.title('Training and validation accuracy')\n",
        "plt.xlabel('Epochs')\n",
        "plt.ylabel('Accuracy')\n",
        "plt.legend() "
      ],
      "execution_count": 231,
      "outputs": [
        {
          "output_type": "execute_result",
          "data": {
            "text/plain": [
              "<matplotlib.legend.Legend at 0x7fcba2541fd0>"
            ]
          },
          "metadata": {
            "tags": []
          },
          "execution_count": 231
        },
        {
          "output_type": "display_data",
          "data": {
            "image/png": "[encoded data removed]",
            "text/plain": [
              "<Figure size 432x288 with 1 Axes>"
            ]
          },
          "metadata": {
            "tags": []
          }
        }
      ]
    }
  ]
}