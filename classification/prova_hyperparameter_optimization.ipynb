{
  "nbformat": 4,
  "nbformat_minor": 0,
  "metadata": {
    "colab": {
      "name": "prova_hyperparameter_optimization.ipynb",
      "provenance": [],
      "collapsed_sections": [],
      "toc_visible": true,
      "include_colab_link": true
    },
    "kernelspec": {
      "name": "python3",
      "display_name": "Python 3"
    }
  },
  "cells": [
    {
      "cell_type": "markdown",
      "metadata": {
        "id": "view-in-github",
        "colab_type": "text"
      },
      "source": [
        "<a href=\"https://colab.research.google.com/github/leonardoub/SCRIPT_PALERMO/blob/master/prova_hyperparameter_optimization.ipynb\" target=\"_parent\"><img src=\"https://colab.research.google.com/assets/colab-badge.svg\" alt=\"Open In Colab\"/></a>"
      ]
    },
    {
      "cell_type": "code",
      "metadata": {
        "id": "pByFt-Wpz0FJ",
        "colab_type": "code",
        "colab": {}
      },
      "source": [
        "#!pip install -U keras-tuner"
      ],
      "execution_count": 0,
      "outputs": []
    },
    {
      "cell_type": "code",
      "metadata": {
        "id": "ck9uZtF_gzU7",
        "colab_type": "code",
        "colab": {}
      },
      "source": [
        "import pandas as pd\n",
        "import numpy as np\n",
        "import matplotlib.pyplot as plt\n",
        "import scipy"
      ],
      "execution_count": 0,
      "outputs": []
    },
    {
      "cell_type": "code",
      "metadata": {
        "id": "XAOLa8v0aVFK",
        "colab_type": "code",
        "colab": {}
      },
      "source": [
        "!rm -r my_dir"
      ],
      "execution_count": 0,
      "outputs": []
    },
    {
      "cell_type": "markdown",
      "metadata": {
        "id": "ln0sTf8q1IrI",
        "colab_type": "text"
      },
      "source": [
        "#Load data"
      ]
    },
    {
      "cell_type": "code",
      "metadata": {
        "id": "lyyNl4gxhEwD",
        "colab_type": "code",
        "outputId": "a56ab48d-e101-45b5-9702-06c73e8ea308",
        "colab": {
          "base_uri": "https://localhost:8080/",
          "height": 34
        }
      },
      "source": [
        "#load data from Drive\n",
        "from google.colab import drive\n",
        "drive.mount('/gdrive')\n",
        "#%cd /gdrive"
      ],
      "execution_count": 0,
      "outputs": [
        {
          "output_type": "stream",
          "text": [
            "Drive already mounted at /gdrive; to attempt to forcibly remount, call drive.mount(\"/gdrive\", force_remount=True).\n"
          ],
          "name": "stdout"
        }
      ]
    },
    {
      "cell_type": "code",
      "metadata": {
        "id": "UCkUXesZhMzg",
        "colab_type": "code",
        "colab": {}
      },
      "source": [
        "train_dataset_path = '/gdrive/My Drive/AIM_PA/database_training2.csv'\n",
        "test_dataset_path = '/gdrive/My Drive/AIM_PA/database_nostro_without_nan.csv'"
      ],
      "execution_count": 0,
      "outputs": []
    },
    {
      "cell_type": "code",
      "metadata": {
        "id": "TczPxOpEhTXw",
        "colab_type": "code",
        "colab": {}
      },
      "source": [
        "df_train = pd.read_csv(train_dataset_path)\n",
        "df_test = pd.read_csv(test_dataset_path)"
      ],
      "execution_count": 0,
      "outputs": []
    },
    {
      "cell_type": "code",
      "metadata": {
        "id": "Ll-87QSVhqhj",
        "colab_type": "code",
        "colab": {}
      },
      "source": [
        "df_train.rename(columns={'Survival.time (months)':'Surv_time_months'}, inplace=True)"
      ],
      "execution_count": 0,
      "outputs": []
    },
    {
      "cell_type": "code",
      "metadata": {
        "id": "ulSbeCedhuxJ",
        "colab_type": "code",
        "colab": {}
      },
      "source": [
        "df_test.rename(columns={'Survival.time (months)':'Surv_time_months'}, inplace=True)"
      ],
      "execution_count": 0,
      "outputs": []
    },
    {
      "cell_type": "code",
      "metadata": {
        "id": "xbcwLGg3iNSn",
        "colab_type": "code",
        "colab": {}
      },
      "source": [
        "df_train.rename(columns={'Overall.Stage':'Overall_Stage'}, inplace=True)\n",
        "df_test.rename(columns={'Overall.Stage':'Overall_Stage'}, inplace=True)"
      ],
      "execution_count": 0,
      "outputs": []
    },
    {
      "cell_type": "code",
      "metadata": {
        "id": "oKKv4iKghWWn",
        "colab_type": "code",
        "colab": {}
      },
      "source": [
        "train_data = df_train.drop(['Histology', 'Surv_time_months', 'OS', 'deadstatus.event','Overall_Stage'], axis=1)"
      ],
      "execution_count": 0,
      "outputs": []
    },
    {
      "cell_type": "code",
      "metadata": {
        "id": "vQdR4izXiT0f",
        "colab_type": "code",
        "colab": {}
      },
      "source": [
        "test_data = df_test.drop(['Histology', 'Surv_time_months', 'OS', 'deadstatus.event','Overall_Stage'], axis=1)"
      ],
      "execution_count": 0,
      "outputs": []
    },
    {
      "cell_type": "code",
      "metadata": {
        "id": "Lu46pqnPhnCG",
        "colab_type": "code",
        "colab": {}
      },
      "source": [
        "train_labels = df_train.Histology"
      ],
      "execution_count": 0,
      "outputs": []
    },
    {
      "cell_type": "code",
      "metadata": {
        "id": "aS5wIylYmsQf",
        "colab_type": "code",
        "colab": {}
      },
      "source": [
        "test_labels = df_test.Histology"
      ],
      "execution_count": 0,
      "outputs": []
    },
    {
      "cell_type": "markdown",
      "metadata": {
        "id": "dtPx7PMDnXM3",
        "colab_type": "text"
      },
      "source": [
        "##Z score dei dati"
      ]
    },
    {
      "cell_type": "code",
      "metadata": {
        "id": "XK4Qji2EnVV4",
        "colab_type": "code",
        "colab": {}
      },
      "source": [
        "mean = train_data.mean(axis=0)\n",
        "train_data_stand = train_data - mean\n",
        "std = train_data.std(axis=0)\n",
        "train_data_stand /= std"
      ],
      "execution_count": 0,
      "outputs": []
    },
    {
      "cell_type": "code",
      "metadata": {
        "id": "YOVOoNOvm0Yx",
        "colab_type": "code",
        "colab": {}
      },
      "source": [
        "test_data_stand = test_data - mean\n",
        "test_data_stand /= std"
      ],
      "execution_count": 0,
      "outputs": []
    },
    {
      "cell_type": "markdown",
      "metadata": {
        "id": "00VohsAyokpq",
        "colab_type": "text"
      },
      "source": [
        "##Vettorizzare i label"
      ]
    },
    {
      "cell_type": "code",
      "metadata": {
        "id": "8RvS_9ISpxRi",
        "colab_type": "code",
        "colab": {}
      },
      "source": [
        "word_index={'adenocarcinoma':0, 'large cell':1, 'squamous cell carcinoma':2}"
      ],
      "execution_count": 0,
      "outputs": []
    },
    {
      "cell_type": "code",
      "metadata": {
        "id": "uiPW9U0XrWY2",
        "colab_type": "code",
        "colab": {}
      },
      "source": [
        "train_labels_dec = [word_index[label] for label in train_labels]"
      ],
      "execution_count": 0,
      "outputs": []
    },
    {
      "cell_type": "code",
      "metadata": {
        "id": "C4SBiKFQsKFw",
        "colab_type": "code",
        "colab": {}
      },
      "source": [
        "test_labels_dec = [word_index[label] for label in test_labels]"
      ],
      "execution_count": 0,
      "outputs": []
    },
    {
      "cell_type": "code",
      "metadata": {
        "id": "0IMbTYR7okJq",
        "colab_type": "code",
        "colab": {}
      },
      "source": [
        "from keras.utils.np_utils import to_categorical"
      ],
      "execution_count": 0,
      "outputs": []
    },
    {
      "cell_type": "code",
      "metadata": {
        "id": "0Frv4FDNn6Qu",
        "colab_type": "code",
        "colab": {}
      },
      "source": [
        "one_hot_train_labels = to_categorical(train_labels_dec)\n",
        "one_hot_test_labels = to_categorical(test_labels_dec)"
      ],
      "execution_count": 0,
      "outputs": []
    },
    {
      "cell_type": "markdown",
      "metadata": {
        "id": "Mn0tkOGc3LKN",
        "colab_type": "text"
      },
      "source": [
        "#PCA"
      ]
    },
    {
      "cell_type": "code",
      "metadata": {
        "id": "oS76u6iu3Seg",
        "colab_type": "code",
        "colab": {}
      },
      "source": [
        "from sklearn.decomposition import PCA"
      ],
      "execution_count": 0,
      "outputs": []
    },
    {
      "cell_type": "code",
      "metadata": {
        "id": "KCjC4zqJ3bui",
        "colab_type": "code",
        "colab": {}
      },
      "source": [
        "pca = PCA(n_components=0.9, svd_solver='full')"
      ],
      "execution_count": 0,
      "outputs": []
    },
    {
      "cell_type": "code",
      "metadata": {
        "id": "dLUCf9qX4p_e",
        "colab_type": "code",
        "outputId": "790d2433-94ac-4c2f-8132-b7763a74e644",
        "colab": {
          "base_uri": "https://localhost:8080/",
          "height": 52
        }
      },
      "source": [
        "pca.fit(train_data_stand)"
      ],
      "execution_count": 0,
      "outputs": [
        {
          "output_type": "execute_result",
          "data": {
            "text/plain": [
              "PCA(copy=True, iterated_power='auto', n_components=0.9, random_state=None,\n",
              "    svd_solver='full', tol=0.0, whiten=False)"
            ]
          },
          "metadata": {
            "tags": []
          },
          "execution_count": 301
        }
      ]
    },
    {
      "cell_type": "code",
      "metadata": {
        "id": "QfyaKgNZ44o3",
        "colab_type": "code",
        "colab": {}
      },
      "source": [
        "train_data_stand_pca = pca.transform(train_data_stand)\n",
        "test_data_stand_pca = pca.transform(test_data_stand)"
      ],
      "execution_count": 0,
      "outputs": []
    },
    {
      "cell_type": "code",
      "metadata": {
        "id": "Uz9C4nl05b_g",
        "colab_type": "code",
        "outputId": "f449db68-17c7-48f3-cb8a-f15cce854252",
        "colab": {
          "base_uri": "https://localhost:8080/",
          "height": 34
        }
      },
      "source": [
        "train_data_stand_pca.shape"
      ],
      "execution_count": 0,
      "outputs": [
        {
          "output_type": "execute_result",
          "data": {
            "text/plain": [
              "(131, 9)"
            ]
          },
          "metadata": {
            "tags": []
          },
          "execution_count": 303
        }
      ]
    },
    {
      "cell_type": "markdown",
      "metadata": {
        "id": "8wSKvSu4s5ip",
        "colab_type": "text"
      },
      "source": [
        "#Building Network"
      ]
    },
    {
      "cell_type": "code",
      "metadata": {
        "id": "Osgm8ZvLpZh5",
        "colab_type": "code",
        "colab": {}
      },
      "source": [
        "from tensorflow import keras"
      ],
      "execution_count": 0,
      "outputs": []
    },
    {
      "cell_type": "code",
      "metadata": {
        "id": "sJTbHiq0D-4x",
        "colab_type": "code",
        "colab": {}
      },
      "source": [
        "from tensorflow.keras import layers\n",
        "from tensorflow.keras.preprocessing import sequence"
      ],
      "execution_count": 0,
      "outputs": []
    },
    {
      "cell_type": "code",
      "metadata": {
        "id": "ShwM6YMqsxxJ",
        "colab_type": "code",
        "colab": {}
      },
      "source": [
        "from tensorflow.keras import layers"
      ],
      "execution_count": 0,
      "outputs": []
    },
    {
      "cell_type": "code",
      "metadata": {
        "id": "IAzbu7P1VylY",
        "colab_type": "code",
        "colab": {}
      },
      "source": [
        "from tensorflow.keras import regularizers"
      ],
      "execution_count": 0,
      "outputs": []
    },
    {
      "cell_type": "code",
      "metadata": {
        "id": "dyqbUCK5wOVt",
        "colab_type": "code",
        "colab": {}
      },
      "source": [
        "from tensorflow.keras.optimizers import SGD"
      ],
      "execution_count": 0,
      "outputs": []
    },
    {
      "cell_type": "code",
      "metadata": {
        "id": "j9FrfCYxFHmF",
        "colab_type": "code",
        "colab": {}
      },
      "source": [
        "from tensorflow.keras.optimizers import Adam"
      ],
      "execution_count": 0,
      "outputs": []
    },
    {
      "cell_type": "code",
      "metadata": {
        "id": "KutkQ9Noj5mb",
        "colab_type": "code",
        "colab": {}
      },
      "source": [
        "from kerastuner.tuners import RandomSearch, Hyperband"
      ],
      "execution_count": 0,
      "outputs": []
    },
    {
      "cell_type": "code",
      "metadata": {
        "id": "7OAEgN31tHVV",
        "colab_type": "code",
        "colab": {}
      },
      "source": [
        "def build_model(hp):\n",
        "  model = keras.models.Sequential()\n",
        "#  activation = hp.Choice('activation', ['softmax', 'softplus', 'softsign',\n",
        "#                              'relu', 'tanh', 'sigmoid', 'hard_sigmoid', 'linear'])\n",
        "  \n",
        "#  weight_init = hp.Choice('weight_init', \n",
        "#                            ['uniform', 'lecun_uniform', 'normal', 'zero', 'glorot_normal', 'glorot_uniform', 'he_normal', 'he_uniform'])\n",
        "  \n",
        "  #drop_rate = hp.Choice('drop_rate', [0.0, 0.1, 0.2, 0.3,\n",
        "                              #0.4, 0.5, 0.6, 0.7, 0.8, 0.9])\n",
        "  \n",
        "  #model.add(layers.Dense(units=(hp.Int('units', min_value=3, max_value=8, step=1)), \n",
        "                         #activation='relu', input_shape=(9,)))\n",
        "  \n",
        "#  for i in range(hp.Int('num_layers', 1, 3)):\n",
        "#    model.add(keras.layers.Dense(units=hp.Int('units_' + str(i), \n",
        "#                                              min_value=3, max_value=8, \n",
        "#                                              step=1), activation='relu'))\n",
        "\n",
        "  model.add(layers.Dense(6, activation='relu', input_shape=(9,)))\n",
        "\n",
        "  #model.add(layers.Dropout(rate=drop_rate))\n",
        "\n",
        "  model.add(layers.Dense(3, activation='softmax'))\n",
        "  \n",
        "  #sgd_1 = SGD(lr=0.001, decay=1e-6, momentum=0.5, nesterov=True)\n",
        " \n",
        "  #optimizer = hp.Choice('optimizer', ['adam', 'sgd', 'rmsprop'])\n",
        "\n",
        "  lr = hp.Choice('learning_rate', [1e-2, 1e-3, 1e-4])\n",
        "  momentum = hp.Choice('momentum', [0.0, 0.1, 0.2, 0.3, 0.4, 0.5, 0.6, 0.7, 0.8, 0.9])\n",
        "  \n",
        "  model.compile(optimizer=SGD(learning_rate=lr, momentum=momentum), \n",
        "                loss='categorical_crossentropy', metrics=['accuracy'])\n",
        "  return model"
      ],
      "execution_count": 0,
      "outputs": []
    },
    {
      "cell_type": "markdown",
      "metadata": {
        "id": "mIxDu50pBeiz",
        "colab_type": "text"
      },
      "source": [
        "#Stratified k-fold"
      ]
    },
    {
      "cell_type": "markdown",
      "metadata": {
        "id": "ZyLcvedUBpxA",
        "colab_type": "text"
      },
      "source": [
        "This cross-validation object is a variation of KFold that returns stratified folds. The folds are made by preserving the percentage of samples for each class."
      ]
    },
    {
      "cell_type": "markdown",
      "metadata": {
        "id": "Z1ZG40_dJtke",
        "colab_type": "text"
      },
      "source": [
        "##Prova Train Test Split"
      ]
    },
    {
      "cell_type": "code",
      "metadata": {
        "id": "ABYrxmZxJdlv",
        "colab_type": "code",
        "colab": {}
      },
      "source": [
        "#from sklearn.model_selection import train_test_split\n"
      ],
      "execution_count": 0,
      "outputs": []
    },
    {
      "cell_type": "code",
      "metadata": {
        "id": "xFCCTjE6JrQm",
        "colab_type": "code",
        "colab": {}
      },
      "source": [
        "#X_train, X_val, y_train, y_val = train_test_split(train_data_stand_pca, train_labels_dec,\n",
        "#                                                    stratify=train_labels_dec,\n",
        "#                                                    test_size=0.20,\n",
        "#                                                    random_state=30)\n"
      ],
      "execution_count": 0,
      "outputs": []
    },
    {
      "cell_type": "code",
      "metadata": {
        "id": "9Pus4JhTKWWB",
        "colab_type": "code",
        "colab": {}
      },
      "source": [
        "#y_train.count(2)"
      ],
      "execution_count": 0,
      "outputs": []
    },
    {
      "cell_type": "markdown",
      "metadata": {
        "id": "lZ_8mkf8LqBe",
        "colab_type": "text"
      },
      "source": [
        "con il parametro stratify si conservano le proporzioni dei label, però è meglio fare anche il K-Fold"
      ]
    },
    {
      "cell_type": "markdown",
      "metadata": {
        "id": "un7uwtqyJ_Zc",
        "colab_type": "text"
      },
      "source": [
        "##Stratifield K-fold"
      ]
    },
    {
      "cell_type": "code",
      "metadata": {
        "id": "fY1apcZ19gFp",
        "colab_type": "code",
        "colab": {}
      },
      "source": [
        "from sklearn.model_selection import StratifiedKFold"
      ],
      "execution_count": 0,
      "outputs": []
    },
    {
      "cell_type": "code",
      "metadata": {
        "id": "oaBDM-PtBx5V",
        "colab_type": "code",
        "outputId": "318c60be-3196-4cab-a5b4-d84c750e635d",
        "colab": {
          "base_uri": "https://localhost:8080/",
          "height": 34
        }
      },
      "source": [
        "skf = StratifiedKFold(n_splits=3, shuffle=True, random_state=1)\n",
        "skf.get_n_splits(train_data_stand_pca, train_labels_dec)"
      ],
      "execution_count": 0,
      "outputs": [
        {
          "output_type": "execute_result",
          "data": {
            "text/plain": [
              "3"
            ]
          },
          "metadata": {
            "tags": []
          },
          "execution_count": 314
        }
      ]
    },
    {
      "cell_type": "code",
      "metadata": {
        "id": "Me-XQzPyD1gi",
        "colab_type": "code",
        "outputId": "3c86e119-a891-4a04-900d-ff6d5fbbe661",
        "colab": {
          "base_uri": "https://localhost:8080/",
          "height": 402
        }
      },
      "source": [
        "for train_index, test_index in skf.split(train_data_stand_pca, train_labels_dec):\n",
        "    print(\"TRAIN:\", train_index, \"TEST:\", test_index)"
      ],
      "execution_count": 0,
      "outputs": [
        {
          "output_type": "stream",
          "text": [
            "TRAIN: [  0   1   4   5   8   9  11  12  14  15  16  17  19  20  22  23  24  25\n",
            "  27  29  30  33  34  36  37  38  39  40  41  42  44  45  46  48  51  52\n",
            "  53  56  57  58  59  60  62  63  65  66  67  69  72  76  77  78  79  80\n",
            "  81  83  84  85  87  88  89  90  92  96  97  98 100 101 102 103 104 105\n",
            " 107 109 110 111 113 115 117 120 121 122 124 125 127 128] TEST: [  2   3   6   7  10  13  18  21  26  28  31  32  35  43  47  49  50  54\n",
            "  55  61  64  68  70  71  73  74  75  82  86  91  93  94  95  99 106 108\n",
            " 112 114 116 118 119 123 126 129 130]\n",
            "TRAIN: [  2   3   5   6   7   8   9  10  11  12  13  18  20  21  25  26  27  28\n",
            "  29  30  31  32  34  35  36  38  39  43  44  45  46  47  48  49  50  53\n",
            "  54  55  57  58  61  63  64  65  66  68  70  71  73  74  75  76  78  82\n",
            "  84  85  86  87  90  91  92  93  94  95  96  99 100 101 102 105 106 108\n",
            " 109 111 112 114 115 116 118 119 122 123 124 125 126 127 129 130] TEST: [  0   1   4  14  15  16  17  19  22  23  24  33  37  40  41  42  51  52\n",
            "  56  59  60  62  67  69  72  77  79  80  81  83  88  89  97  98 103 104\n",
            " 107 110 113 117 120 121 128]\n",
            "TRAIN: [  0   1   2   3   4   6   7  10  13  14  15  16  17  18  19  21  22  23\n",
            "  24  26  28  31  32  33  35  37  40  41  42  43  47  49  50  51  52  54\n",
            "  55  56  59  60  61  62  64  67  68  69  70  71  72  73  74  75  77  79\n",
            "  80  81  82  83  86  88  89  91  93  94  95  97  98  99 103 104 106 107\n",
            " 108 110 112 113 114 116 117 118 119 120 121 123 126 128 129 130] TEST: [  5   8   9  11  12  20  25  27  29  30  34  36  38  39  44  45  46  48\n",
            "  53  57  58  63  65  66  76  78  84  85  87  90  92  96 100 101 102 105\n",
            " 109 111 115 122 124 125 127]\n"
          ],
          "name": "stdout"
        }
      ]
    },
    {
      "cell_type": "code",
      "metadata": {
        "id": "BgdGK-8FK-U_",
        "colab_type": "code",
        "outputId": "d1dc4a68-6ff5-4c83-a4e3-dee7dfcd98b6",
        "colab": {
          "base_uri": "https://localhost:8080/",
          "height": 34
        }
      },
      "source": [
        "train_labels_dec[125]"
      ],
      "execution_count": 0,
      "outputs": [
        {
          "output_type": "execute_result",
          "data": {
            "text/plain": [
              "2"
            ]
          },
          "metadata": {
            "tags": []
          },
          "execution_count": 316
        }
      ]
    },
    {
      "cell_type": "code",
      "metadata": {
        "id": "sBJg0XD4Shhc",
        "colab_type": "code",
        "colab": {}
      },
      "source": [
        "from keras.utils import to_categorical\n"
      ],
      "execution_count": 0,
      "outputs": []
    },
    {
      "cell_type": "code",
      "metadata": {
        "id": "a5Sq8r9GEPx3",
        "colab_type": "code",
        "colab": {}
      },
      "source": [
        "#for train_index, val_index in skf.split(train_data_stand_pca, train_labels_dec):\n",
        " \n",
        "#  partial_train_data = np.array([train_data_stand_pca[i] for i in train_index])\n",
        "#  partial_train_targets = np.array([train_labels_dec[i] for i in train_index])\n",
        "\n",
        "#  val_data = np.array([train_data_stand_pca[i] for i in val_index])\n",
        "#  val_targets = np.array([train_labels_dec[i] for i in val_index])\n",
        "\n",
        "#  one_hot_partial_train_targets = to_categorical(partial_train_targets)\n",
        "#  one_hot_val_targets = to_categorical(val_targets)\n",
        "\n",
        "#  model = build_model()\n",
        "#  model.fit(partial_train_data, one_hot_partial_train_targets, epochs = num_epochs, batch_size=1)\n",
        "\n",
        "#  val_loss, val_accuracy = model.evaluate(val_data, one_hot_val_targets)\n",
        "#  all_scores.append(val_accuracy)\n",
        "#I parametri per la valutazione vengono calcolati una volta per ogni k-fold, per ogni set di validazione, quindi k volte"
      ],
      "execution_count": 0,
      "outputs": []
    },
    {
      "cell_type": "markdown",
      "metadata": {
        "id": "2X5B3lasRcsR",
        "colab_type": "text"
      },
      "source": [
        "C'è un problema: keras.utils.to_categorical produces a one-hot encoded class vector, i.e. the multilabel-indicator mentioned in the error message. StratifiedKFold is not designed to work with such input; i.e. your y must be a 1-D array of your class labels.\n",
        "Essentially, what you have to do is simply to invert the order of the operations: split first (using your intial y_train), and convert to_categorical afterwards."
      ]
    },
    {
      "cell_type": "markdown",
      "metadata": {
        "id": "5yP9-PE1Wjz-",
        "colab_type": "text"
      },
      "source": [
        "#Keras tuner RandomSearch"
      ]
    },
    {
      "cell_type": "code",
      "metadata": {
        "colab_type": "code",
        "outputId": "758ddfd2-c1dc-4f5a-f146-47ed756c2bbd",
        "id": "oHDM8LE39gTU",
        "colab": {
          "base_uri": "https://localhost:8080/",
          "height": 1000
        }
      },
      "source": [
        "num_epochs = 20\n",
        "all_acc_histories = []\n",
        "all_loss_histories = []\n",
        "all_val_acc_histories = []\n",
        "all_val_loss_histories = []\n",
        "\n",
        "for train_index, val_index in skf.split(train_data_stand_pca, train_labels_dec):\n",
        " \n",
        "  partial_train_data = np.array([train_data_stand_pca[i] for i in train_index])\n",
        "  partial_train_targets = np.array([train_labels_dec[i] for i in train_index])\n",
        "  \n",
        "  val_data = np.array([train_data_stand_pca[i] for i in val_index])\n",
        "  val_targets = np.array([train_labels_dec[i] for i in val_index])\n",
        "\n",
        "  one_hot_partial_train_targets = to_categorical(partial_train_targets)\n",
        "  one_hot_val_targets = to_categorical(val_targets)\n",
        "\n",
        " \n",
        "  tuner = RandomSearch(build_model, objective='val_accuracy', max_trials=40, \n",
        "                       executions_per_trial=5, directory='/content/my_dir', project_name='RandomSearch')\n",
        "  \n",
        "  tuner.search_space_summary()\n",
        "\n",
        "  tuner.search(partial_train_data, one_hot_partial_train_targets, validation_data=(val_data, one_hot_val_targets), \n",
        "                      epochs=num_epochs, batch_size=8)\n",
        "  \n"
      ],
      "execution_count": 0,
      "outputs": [
        {
          "output_type": "display_data",
          "data": {
            "text/html": [
              "<span style=\"color:#4527A0\"><h1 style=\"font-size:18px\">Search space summary</h1></span>"
            ],
            "text/plain": [
              "<IPython.core.display.HTML object>"
            ]
          },
          "metadata": {
            "tags": []
          }
        },
        {
          "output_type": "display_data",
          "data": {
            "text/html": [
              "<span style=\"color:cyan\"> |-Default search space size: 2</span>"
            ],
            "text/plain": [
              "<IPython.core.display.HTML object>"
            ]
          },
          "metadata": {
            "tags": []
          }
        },
        {
          "output_type": "display_data",
          "data": {
            "text/html": [
              "<span style=\"color:#7E57C2\"><h2 style=\"font-size:16px\">learning_rate (Choice)</h2></span>"
            ],
            "text/plain": [
              "<IPython.core.display.HTML object>"
            ]
          },
          "metadata": {
            "tags": []
          }
        },
        {
          "output_type": "display_data",
          "data": {
            "text/html": [
              "<span style=\"color:cyan\"> |-default: 0.01</span>"
            ],
            "text/plain": [
              "<IPython.core.display.HTML object>"
            ]
          },
          "metadata": {
            "tags": []
          }
        },
        {
          "output_type": "display_data",
          "data": {
            "text/html": [
              "<span style=\"color:blue\"> |-ordered: True</span>"
            ],
            "text/plain": [
              "<IPython.core.display.HTML object>"
            ]
          },
          "metadata": {
            "tags": []
          }
        },
        {
          "output_type": "display_data",
          "data": {
            "text/html": [
              "<span style=\"color:cyan\"> |-values: [0.01, 0.001, 0.0001]</span>"
            ],
            "text/plain": [
              "<IPython.core.display.HTML object>"
            ]
          },
          "metadata": {
            "tags": []
          }
        },
        {
          "output_type": "display_data",
          "data": {
            "text/html": [
              "<span style=\"color:#7E57C2\"><h2 style=\"font-size:16px\">momentum (Choice)</h2></span>"
            ],
            "text/plain": [
              "<IPython.core.display.HTML object>"
            ]
          },
          "metadata": {
            "tags": []
          }
        },
        {
          "output_type": "display_data",
          "data": {
            "text/html": [
              "<span style=\"color:cyan\"> |-default: 0.0</span>"
            ],
            "text/plain": [
              "<IPython.core.display.HTML object>"
            ]
          },
          "metadata": {
            "tags": []
          }
        },
        {
          "output_type": "display_data",
          "data": {
            "text/html": [
              "<span style=\"color:blue\"> |-ordered: True</span>"
            ],
            "text/plain": [
              "<IPython.core.display.HTML object>"
            ]
          },
          "metadata": {
            "tags": []
          }
        },
        {
          "output_type": "display_data",
          "data": {
            "text/html": [
              "<span style=\"color:cyan\"> |-values: [0.0, 0.1, 0.2, 0.3, 0.4, 0.5, 0.6, 0.7, 0.8, 0.9]</span>"
            ],
            "text/plain": [
              "<IPython.core.display.HTML object>"
            ]
          },
          "metadata": {
            "tags": []
          }
        },
        {
          "output_type": "stream",
          "text": [
            "Train on 86 samples, validate on 45 samples\n",
            "Epoch 1/20\n",
            "86/86 [==============================] - 0s 4ms/sample - loss: 1.4893 - accuracy: 0.5116 - val_loss: 1.2665 - val_accuracy: 0.4889\n",
            "Epoch 2/20\n",
            "86/86 [==============================] - 0s 461us/sample - loss: 1.4868 - accuracy: 0.5116 - val_loss: 1.2648 - val_accuracy: 0.4889\n",
            "Epoch 3/20\n",
            "86/86 [==============================] - 0s 446us/sample - loss: 1.4843 - accuracy: 0.5116 - val_loss: 1.2630 - val_accuracy: 0.4889\n",
            "Epoch 4/20\n",
            "86/86 [==============================] - 0s 448us/sample - loss: 1.4819 - accuracy: 0.5116 - val_loss: 1.2612 - val_accuracy: 0.4889\n",
            "Epoch 5/20\n",
            "86/86 [==============================] - 0s 444us/sample - loss: 1.4792 - accuracy: 0.5116 - val_loss: 1.2595 - val_accuracy: 0.4889\n",
            "Epoch 6/20\n",
            "86/86 [==============================] - 0s 515us/sample - loss: 1.4768 - accuracy: 0.5116 - val_loss: 1.2578 - val_accuracy: 0.5111\n",
            "Epoch 7/20\n",
            "86/86 [==============================] - 0s 426us/sample - loss: 1.4744 - accuracy: 0.5116 - val_loss: 1.2561 - val_accuracy: 0.5111\n",
            "Epoch 8/20\n",
            "86/86 [==============================] - 0s 643us/sample - loss: 1.4719 - accuracy: 0.5116 - val_loss: 1.2543 - val_accuracy: 0.5111\n",
            "Epoch 9/20\n",
            "86/86 [==============================] - 0s 438us/sample - loss: 1.4695 - accuracy: 0.5116 - val_loss: 1.2526 - val_accuracy: 0.5111\n",
            "Epoch 10/20\n",
            "86/86 [==============================] - 0s 463us/sample - loss: 1.4671 - accuracy: 0.5116 - val_loss: 1.2510 - val_accuracy: 0.5111\n",
            "Epoch 11/20\n",
            "86/86 [==============================] - 0s 434us/sample - loss: 1.4647 - accuracy: 0.5116 - val_loss: 1.2493 - val_accuracy: 0.5111\n",
            "Epoch 12/20\n",
            "86/86 [==============================] - 0s 448us/sample - loss: 1.4624 - accuracy: 0.5116 - val_loss: 1.2476 - val_accuracy: 0.5111\n",
            "Epoch 13/20\n",
            "86/86 [==============================] - 0s 452us/sample - loss: 1.4599 - accuracy: 0.5116 - val_loss: 1.2460 - val_accuracy: 0.5111\n",
            "Epoch 14/20\n",
            "86/86 [==============================] - 0s 438us/sample - loss: 1.4576 - accuracy: 0.5116 - val_loss: 1.2443 - val_accuracy: 0.5111\n",
            "Epoch 15/20\n",
            "86/86 [==============================] - 0s 486us/sample - loss: 1.4553 - accuracy: 0.5116 - val_loss: 1.2427 - val_accuracy: 0.5111\n",
            "Epoch 16/20\n",
            "86/86 [==============================] - 0s 473us/sample - loss: 1.4530 - accuracy: 0.5116 - val_loss: 1.2410 - val_accuracy: 0.5111\n",
            "Epoch 17/20\n",
            "86/86 [==============================] - 0s 569us/sample - loss: 1.4507 - accuracy: 0.5116 - val_loss: 1.2394 - val_accuracy: 0.5111\n",
            "Epoch 18/20\n",
            "86/86 [==============================] - 0s 479us/sample - loss: 1.4484 - accuracy: 0.5116 - val_loss: 1.2378 - val_accuracy: 0.5111\n",
            "Epoch 19/20\n",
            "86/86 [==============================] - 0s 539us/sample - loss: 1.4461 - accuracy: 0.5000 - val_loss: 1.2362 - val_accuracy: 0.5111\n",
            "Epoch 20/20\n",
            "86/86 [==============================] - 0s 496us/sample - loss: 1.4438 - accuracy: 0.5000 - val_loss: 1.2347 - val_accuracy: 0.5111\n",
            "Train on 86 samples, validate on 45 samples\n",
            "Epoch 1/20\n",
            "86/86 [==============================] - 0s 4ms/sample - loss: 2.1198 - accuracy: 0.2209 - val_loss: 1.8098 - val_accuracy: 0.3333\n",
            "Epoch 2/20\n",
            "86/86 [==============================] - 0s 442us/sample - loss: 2.1138 - accuracy: 0.2209 - val_loss: 1.8052 - val_accuracy: 0.3333\n",
            "Epoch 3/20\n",
            "86/86 [==============================] - 0s 454us/sample - loss: 2.1078 - accuracy: 0.2093 - val_loss: 1.8008 - val_accuracy: 0.3333\n",
            "Epoch 4/20\n",
            "86/86 [==============================] - 0s 456us/sample - loss: 2.1019 - accuracy: 0.2093 - val_loss: 1.7964 - val_accuracy: 0.3333\n",
            "Epoch 5/20\n",
            "86/86 [==============================] - 0s 467us/sample - loss: 2.0960 - accuracy: 0.2093 - val_loss: 1.7920 - val_accuracy: 0.3333\n",
            "Epoch 6/20\n",
            "86/86 [==============================] - 0s 506us/sample - loss: 2.0900 - accuracy: 0.2093 - val_loss: 1.7876 - val_accuracy: 0.3333\n",
            "Epoch 7/20\n",
            "86/86 [==============================] - 0s 467us/sample - loss: 2.0840 - accuracy: 0.2093 - val_loss: 1.7832 - val_accuracy: 0.3333\n",
            "Epoch 8/20\n",
            "86/86 [==============================] - 0s 502us/sample - loss: 2.0783 - accuracy: 0.2093 - val_loss: 1.7788 - val_accuracy: 0.3333\n",
            "Epoch 9/20\n",
            "86/86 [==============================] - 0s 425us/sample - loss: 2.0724 - accuracy: 0.2093 - val_loss: 1.7745 - val_accuracy: 0.3333\n",
            "Epoch 10/20\n",
            "86/86 [==============================] - 0s 457us/sample - loss: 2.0665 - accuracy: 0.2093 - val_loss: 1.7703 - val_accuracy: 0.3333\n",
            "Epoch 11/20\n",
            "86/86 [==============================] - 0s 461us/sample - loss: 2.0608 - accuracy: 0.2093 - val_loss: 1.7660 - val_accuracy: 0.3333\n",
            "Epoch 12/20\n",
            "86/86 [==============================] - 0s 494us/sample - loss: 2.0551 - accuracy: 0.2093 - val_loss: 1.7619 - val_accuracy: 0.3333\n",
            "Epoch 13/20\n",
            "86/86 [==============================] - 0s 520us/sample - loss: 2.0495 - accuracy: 0.2093 - val_loss: 1.7576 - val_accuracy: 0.3333\n",
            "Epoch 14/20\n",
            "86/86 [==============================] - 0s 485us/sample - loss: 2.0438 - accuracy: 0.2093 - val_loss: 1.7535 - val_accuracy: 0.3333\n",
            "Epoch 15/20\n",
            "86/86 [==============================] - 0s 473us/sample - loss: 2.0382 - accuracy: 0.2093 - val_loss: 1.7493 - val_accuracy: 0.3333\n",
            "Epoch 16/20\n",
            "86/86 [==============================] - 0s 475us/sample - loss: 2.0325 - accuracy: 0.2093 - val_loss: 1.7452 - val_accuracy: 0.3333\n",
            "Epoch 17/20\n",
            "86/86 [==============================] - 0s 476us/sample - loss: 2.0270 - accuracy: 0.2093 - val_loss: 1.7409 - val_accuracy: 0.3333\n",
            "Epoch 18/20\n",
            "86/86 [==============================] - 0s 473us/sample - loss: 2.0212 - accuracy: 0.2093 - val_loss: 1.7369 - val_accuracy: 0.3333\n",
            "Epoch 19/20\n",
            "86/86 [==============================] - 0s 473us/sample - loss: 2.0157 - accuracy: 0.2093 - val_loss: 1.7328 - val_accuracy: 0.3333\n",
            "Epoch 20/20\n",
            "86/86 [==============================] - 0s 456us/sample - loss: 2.0103 - accuracy: 0.2093 - val_loss: 1.7289 - val_accuracy: 0.3333\n",
            "Train on 86 samples, validate on 45 samples\n",
            "Epoch 1/20\n",
            "86/86 [==============================] - 0s 4ms/sample - loss: 2.8498 - accuracy: 0.3837 - val_loss: 2.4879 - val_accuracy: 0.4667\n",
            "Epoch 2/20\n",
            "86/86 [==============================] - 0s 460us/sample - loss: 2.8374 - accuracy: 0.3837 - val_loss: 2.4813 - val_accuracy: 0.4667\n",
            "Epoch 3/20\n",
            "86/86 [==============================] - 0s 445us/sample - loss: 2.8250 - accuracy: 0.3953 - val_loss: 2.4748 - val_accuracy: 0.4667\n",
            "Epoch 4/20\n",
            "86/86 [==============================] - 0s 478us/sample - loss: 2.8125 - accuracy: 0.3953 - val_loss: 2.4685 - val_accuracy: 0.4667\n",
            "Epoch 5/20\n",
            "86/86 [==============================] - 0s 477us/sample - loss: 2.8006 - accuracy: 0.3953 - val_loss: 2.4620 - val_accuracy: 0.4667\n",
            "Epoch 6/20\n",
            "86/86 [==============================] - 0s 472us/sample - loss: 2.7885 - accuracy: 0.3953 - val_loss: 2.4555 - val_accuracy: 0.4667\n",
            "Epoch 7/20\n",
            "86/86 [==============================] - 0s 437us/sample - loss: 2.7762 - accuracy: 0.3953 - val_loss: 2.4492 - val_accuracy: 0.4667\n",
            "Epoch 8/20\n",
            "86/86 [==============================] - 0s 457us/sample - loss: 2.7644 - accuracy: 0.3953 - val_loss: 2.4428 - val_accuracy: 0.4667\n",
            "Epoch 9/20\n",
            "86/86 [==============================] - 0s 472us/sample - loss: 2.7524 - accuracy: 0.3953 - val_loss: 2.4366 - val_accuracy: 0.4667\n",
            "Epoch 10/20\n",
            "86/86 [==============================] - 0s 460us/sample - loss: 2.7407 - accuracy: 0.3953 - val_loss: 2.4301 - val_accuracy: 0.4667\n",
            "Epoch 11/20\n",
            "86/86 [==============================] - 0s 441us/sample - loss: 2.7288 - accuracy: 0.3953 - val_loss: 2.4238 - val_accuracy: 0.4667\n",
            "Epoch 12/20\n",
            "86/86 [==============================] - 0s 481us/sample - loss: 2.7174 - accuracy: 0.4070 - val_loss: 2.4175 - val_accuracy: 0.4667\n",
            "Epoch 13/20\n",
            "86/86 [==============================] - 0s 507us/sample - loss: 2.7059 - accuracy: 0.4070 - val_loss: 2.4113 - val_accuracy: 0.4667\n",
            "Epoch 14/20\n",
            "86/86 [==============================] - 0s 425us/sample - loss: 2.6951 - accuracy: 0.4186 - val_loss: 2.4050 - val_accuracy: 0.4667\n",
            "Epoch 15/20\n",
            "86/86 [==============================] - 0s 457us/sample - loss: 2.6842 - accuracy: 0.4186 - val_loss: 2.3989 - val_accuracy: 0.4667\n",
            "Epoch 16/20\n",
            "86/86 [==============================] - 0s 486us/sample - loss: 2.6734 - accuracy: 0.4186 - val_loss: 2.3926 - val_accuracy: 0.4667\n",
            "Epoch 17/20\n",
            "86/86 [==============================] - 0s 485us/sample - loss: 2.6628 - accuracy: 0.4186 - val_loss: 2.3864 - val_accuracy: 0.4667\n",
            "Epoch 18/20\n",
            "86/86 [==============================] - 0s 514us/sample - loss: 2.6520 - accuracy: 0.4186 - val_loss: 2.3800 - val_accuracy: 0.4667\n",
            "Epoch 19/20\n",
            "86/86 [==============================] - 0s 438us/sample - loss: 2.6410 - accuracy: 0.4186 - val_loss: 2.3739 - val_accuracy: 0.4667\n",
            "Epoch 20/20\n",
            "86/86 [==============================] - 0s 438us/sample - loss: 2.6304 - accuracy: 0.4186 - val_loss: 2.3677 - val_accuracy: 0.4667\n",
            "Train on 86 samples, validate on 45 samples\n",
            "Epoch 1/20\n",
            "86/86 [==============================] - 0s 4ms/sample - loss: 2.1739 - accuracy: 0.4419 - val_loss: 2.3645 - val_accuracy: 0.3556\n",
            "Epoch 2/20\n",
            "86/86 [==============================] - 0s 447us/sample - loss: 2.1665 - accuracy: 0.4419 - val_loss: 2.3575 - val_accuracy: 0.3556\n",
            "Epoch 3/20\n",
            "86/86 [==============================] - 0s 423us/sample - loss: 2.1592 - accuracy: 0.4419 - val_loss: 2.3503 - val_accuracy: 0.3556\n",
            "Epoch 4/20\n",
            "86/86 [==============================] - 0s 457us/sample - loss: 2.1519 - accuracy: 0.4419 - val_loss: 2.3429 - val_accuracy: 0.3556\n",
            "Epoch 5/20\n",
            "86/86 [==============================] - 0s 459us/sample - loss: 2.1444 - accuracy: 0.4535 - val_loss: 2.3357 - val_accuracy: 0.3556\n",
            "Epoch 6/20\n",
            "86/86 [==============================] - 0s 454us/sample - loss: 2.1371 - accuracy: 0.4651 - val_loss: 2.3286 - val_accuracy: 0.3556\n",
            "Epoch 7/20\n",
            "86/86 [==============================] - 0s 507us/sample - loss: 2.1299 - accuracy: 0.4651 - val_loss: 2.3215 - val_accuracy: 0.3556\n",
            "Epoch 8/20\n",
            "86/86 [==============================] - 0s 439us/sample - loss: 2.1226 - accuracy: 0.4651 - val_loss: 2.3145 - val_accuracy: 0.3556\n",
            "Epoch 9/20\n",
            "86/86 [==============================] - 0s 463us/sample - loss: 2.1156 - accuracy: 0.4651 - val_loss: 2.3077 - val_accuracy: 0.3556\n",
            "Epoch 10/20\n",
            "86/86 [==============================] - 0s 474us/sample - loss: 2.1088 - accuracy: 0.4651 - val_loss: 2.3010 - val_accuracy: 0.3556\n",
            "Epoch 11/20\n",
            "86/86 [==============================] - 0s 432us/sample - loss: 2.1020 - accuracy: 0.4651 - val_loss: 2.2941 - val_accuracy: 0.3556\n",
            "Epoch 12/20\n",
            "86/86 [==============================] - 0s 450us/sample - loss: 2.0950 - accuracy: 0.4651 - val_loss: 2.2871 - val_accuracy: 0.3556\n",
            "Epoch 13/20\n",
            "86/86 [==============================] - 0s 456us/sample - loss: 2.0880 - accuracy: 0.4651 - val_loss: 2.2804 - val_accuracy: 0.3556\n",
            "Epoch 14/20\n",
            "86/86 [==============================] - 0s 516us/sample - loss: 2.0809 - accuracy: 0.4651 - val_loss: 2.2737 - val_accuracy: 0.3556\n",
            "Epoch 15/20\n",
            "86/86 [==============================] - 0s 451us/sample - loss: 2.0740 - accuracy: 0.4651 - val_loss: 2.2671 - val_accuracy: 0.3556\n",
            "Epoch 16/20\n",
            "86/86 [==============================] - 0s 474us/sample - loss: 2.0673 - accuracy: 0.4651 - val_loss: 2.2604 - val_accuracy: 0.3556\n",
            "Epoch 17/20\n",
            "86/86 [==============================] - 0s 477us/sample - loss: 2.0606 - accuracy: 0.4651 - val_loss: 2.2533 - val_accuracy: 0.3556\n",
            "Epoch 18/20\n",
            "86/86 [==============================] - 0s 473us/sample - loss: 2.0534 - accuracy: 0.4651 - val_loss: 2.2467 - val_accuracy: 0.3556\n",
            "Epoch 19/20\n",
            "86/86 [==============================] - 0s 502us/sample - loss: 2.0469 - accuracy: 0.4535 - val_loss: 2.2404 - val_accuracy: 0.3556\n",
            "Epoch 20/20\n",
            "86/86 [==============================] - 0s 444us/sample - loss: 2.0403 - accuracy: 0.4535 - val_loss: 2.2339 - val_accuracy: 0.3556\n",
            "Train on 86 samples, validate on 45 samples\n",
            "Epoch 1/20\n",
            "86/86 [==============================] - 0s 4ms/sample - loss: 2.4899 - accuracy: 0.3372 - val_loss: 2.9626 - val_accuracy: 0.2889\n",
            "Epoch 2/20\n",
            "86/86 [==============================] - 0s 502us/sample - loss: 2.4729 - accuracy: 0.3372 - val_loss: 2.9430 - val_accuracy: 0.2889\n",
            "Epoch 3/20\n",
            "86/86 [==============================] - 0s 470us/sample - loss: 2.4561 - accuracy: 0.3372 - val_loss: 2.9234 - val_accuracy: 0.3111\n",
            "Epoch 4/20\n",
            "86/86 [==============================] - 0s 419us/sample - loss: 2.4394 - accuracy: 0.3372 - val_loss: 2.9042 - val_accuracy: 0.3111\n",
            "Epoch 5/20\n",
            "86/86 [==============================] - 0s 501us/sample - loss: 2.4227 - accuracy: 0.3488 - val_loss: 2.8854 - val_accuracy: 0.3111\n",
            "Epoch 6/20\n",
            "86/86 [==============================] - 0s 478us/sample - loss: 2.4068 - accuracy: 0.3488 - val_loss: 2.8666 - val_accuracy: 0.3111\n",
            "Epoch 7/20\n",
            "86/86 [==============================] - 0s 456us/sample - loss: 2.3907 - accuracy: 0.3488 - val_loss: 2.8483 - val_accuracy: 0.3111\n",
            "Epoch 8/20\n",
            "86/86 [==============================] - 0s 461us/sample - loss: 2.3751 - accuracy: 0.3605 - val_loss: 2.8303 - val_accuracy: 0.3111\n",
            "Epoch 9/20\n",
            "86/86 [==============================] - 0s 463us/sample - loss: 2.3595 - accuracy: 0.3605 - val_loss: 2.8123 - val_accuracy: 0.3111\n",
            "Epoch 10/20\n",
            "86/86 [==============================] - 0s 460us/sample - loss: 2.3442 - accuracy: 0.3605 - val_loss: 2.7943 - val_accuracy: 0.3111\n",
            "Epoch 11/20\n",
            "86/86 [==============================] - 0s 468us/sample - loss: 2.3287 - accuracy: 0.3605 - val_loss: 2.7767 - val_accuracy: 0.3111\n",
            "Epoch 12/20\n",
            "86/86 [==============================] - 0s 487us/sample - loss: 2.3136 - accuracy: 0.3605 - val_loss: 2.7588 - val_accuracy: 0.3111\n",
            "Epoch 13/20\n",
            "86/86 [==============================] - 0s 415us/sample - loss: 2.2982 - accuracy: 0.3605 - val_loss: 2.7407 - val_accuracy: 0.2889\n",
            "Epoch 14/20\n",
            "86/86 [==============================] - 0s 489us/sample - loss: 2.2830 - accuracy: 0.3605 - val_loss: 2.7230 - val_accuracy: 0.2889\n",
            "Epoch 15/20\n",
            "86/86 [==============================] - 0s 483us/sample - loss: 2.2679 - accuracy: 0.3605 - val_loss: 2.7056 - val_accuracy: 0.2889\n",
            "Epoch 16/20\n",
            "86/86 [==============================] - 0s 487us/sample - loss: 2.2534 - accuracy: 0.3605 - val_loss: 2.6887 - val_accuracy: 0.2889\n",
            "Epoch 17/20\n",
            "86/86 [==============================] - 0s 465us/sample - loss: 2.2388 - accuracy: 0.3605 - val_loss: 2.6718 - val_accuracy: 0.2889\n",
            "Epoch 18/20\n",
            "86/86 [==============================] - 0s 458us/sample - loss: 2.2243 - accuracy: 0.3721 - val_loss: 2.6551 - val_accuracy: 0.2889\n",
            "Epoch 19/20\n",
            "86/86 [==============================] - 0s 436us/sample - loss: 2.2103 - accuracy: 0.3721 - val_loss: 2.6383 - val_accuracy: 0.2889\n",
            "Epoch 20/20\n",
            "86/86 [==============================] - 0s 464us/sample - loss: 2.1961 - accuracy: 0.3721 - val_loss: 2.6219 - val_accuracy: 0.2889\n"
          ],
          "name": "stdout"
        },
        {
          "output_type": "display_data",
          "data": {
            "text/html": [
              "<span style=\"color:#4527A0\"><h1 style=\"font-size:18px\">Trial complete</h1></span>"
            ],
            "text/plain": [
              "<IPython.core.display.HTML object>"
            ]
          },
          "metadata": {
            "tags": []
          }
        },
        {
          "output_type": "display_data",
          "data": {
            "text/html": [
              "<span style=\"color:#4527A0\"><h1 style=\"font-size:18px\">Trial summary</h1></span>"
            ],
            "text/plain": [
              "<IPython.core.display.HTML object>"
            ]
          },
          "metadata": {
            "tags": []
          }
        },
        {
          "output_type": "display_data",
          "data": {
            "text/html": [
              "<span style=\"color:#7E57C2\"><h2 style=\"font-size:16px\">Hp values:</h2></span>"
            ],
            "text/plain": [
              "<IPython.core.display.HTML object>"
            ]
          },
          "metadata": {
            "tags": []
          }
        },
        {
          "output_type": "display_data",
          "data": {
            "text/html": [
              "<span style=\"color:cyan\"> |-learning_rate: 0.0001</span>"
            ],
            "text/plain": [
              "<IPython.core.display.HTML object>"
            ]
          },
          "metadata": {
            "tags": []
          }
        },
        {
          "output_type": "display_data",
          "data": {
            "text/html": [
              "<span style=\"color:blue\"> |-momentum: 0.0</span>"
            ],
            "text/plain": [
              "<IPython.core.display.HTML object>"
            ]
          },
          "metadata": {
            "tags": []
          }
        },
        {
          "output_type": "display_data",
          "data": {
            "text/html": [
              "<span style=\"color:cyan\"> |-Score: 0.3955555558204651</span>"
            ],
            "text/plain": [
              "<IPython.core.display.HTML object>"
            ]
          },
          "metadata": {
            "tags": []
          }
        },
        {
          "output_type": "display_data",
          "data": {
            "text/html": [
              "<span style=\"color:cyan\"> |-Best step: 0</span>"
            ],
            "text/plain": [
              "<IPython.core.display.HTML object>"
            ]
          },
          "metadata": {
            "tags": []
          }
        },
        {
          "output_type": "stream",
          "text": [
            "Train on 86 samples, validate on 45 samples\n",
            "Epoch 1/20\n",
            "86/86 [==============================] - 0s 4ms/sample - loss: 2.3687 - accuracy: 0.1977 - val_loss: 2.1064 - val_accuracy: 0.2667\n",
            "Epoch 2/20\n",
            "86/86 [==============================] - 0s 462us/sample - loss: 2.2225 - accuracy: 0.1860 - val_loss: 1.9978 - val_accuracy: 0.2667\n",
            "Epoch 3/20\n",
            "86/86 [==============================] - 0s 487us/sample - loss: 2.0934 - accuracy: 0.1860 - val_loss: 1.8956 - val_accuracy: 0.2667\n",
            "Epoch 4/20\n",
            "86/86 [==============================] - 0s 466us/sample - loss: 1.9785 - accuracy: 0.1977 - val_loss: 1.8028 - val_accuracy: 0.2667\n",
            "Epoch 5/20\n",
            "86/86 [==============================] - 0s 475us/sample - loss: 1.8727 - accuracy: 0.2093 - val_loss: 1.7173 - val_accuracy: 0.2667\n",
            "Epoch 6/20\n",
            "86/86 [==============================] - 0s 563us/sample - loss: 1.7751 - accuracy: 0.2209 - val_loss: 1.6423 - val_accuracy: 0.2889\n",
            "Epoch 7/20\n",
            "86/86 [==============================] - 0s 480us/sample - loss: 1.6918 - accuracy: 0.2209 - val_loss: 1.5770 - val_accuracy: 0.2889\n",
            "Epoch 8/20\n",
            "86/86 [==============================] - 0s 543us/sample - loss: 1.6156 - accuracy: 0.2209 - val_loss: 1.5184 - val_accuracy: 0.3111\n",
            "Epoch 9/20\n",
            "86/86 [==============================] - 0s 457us/sample - loss: 1.5492 - accuracy: 0.2209 - val_loss: 1.4672 - val_accuracy: 0.3111\n",
            "Epoch 10/20\n",
            "86/86 [==============================] - 0s 460us/sample - loss: 1.4873 - accuracy: 0.2209 - val_loss: 1.4237 - val_accuracy: 0.3111\n",
            "Epoch 11/20\n",
            "86/86 [==============================] - 0s 519us/sample - loss: 1.4345 - accuracy: 0.2442 - val_loss: 1.3875 - val_accuracy: 0.2889\n",
            "Epoch 12/20\n",
            "86/86 [==============================] - 0s 465us/sample - loss: 1.3872 - accuracy: 0.2674 - val_loss: 1.3581 - val_accuracy: 0.2889\n",
            "Epoch 13/20\n",
            "86/86 [==============================] - 0s 536us/sample - loss: 1.3475 - accuracy: 0.3488 - val_loss: 1.3350 - val_accuracy: 0.3333\n",
            "Epoch 14/20\n",
            "86/86 [==============================] - 0s 448us/sample - loss: 1.3123 - accuracy: 0.3605 - val_loss: 1.3171 - val_accuracy: 0.3333\n",
            "Epoch 15/20\n",
            "86/86 [==============================] - 0s 528us/sample - loss: 1.2820 - accuracy: 0.4070 - val_loss: 1.3012 - val_accuracy: 0.4000\n",
            "Epoch 16/20\n",
            "86/86 [==============================] - 0s 576us/sample - loss: 1.2539 - accuracy: 0.4302 - val_loss: 1.2873 - val_accuracy: 0.4222\n",
            "Epoch 17/20\n",
            "86/86 [==============================] - 0s 600us/sample - loss: 1.2296 - accuracy: 0.4651 - val_loss: 1.2754 - val_accuracy: 0.4444\n",
            "Epoch 18/20\n",
            "86/86 [==============================] - 0s 463us/sample - loss: 1.2080 - accuracy: 0.4884 - val_loss: 1.2656 - val_accuracy: 0.4444\n",
            "Epoch 19/20\n",
            "86/86 [==============================] - 0s 554us/sample - loss: 1.1875 - accuracy: 0.5116 - val_loss: 1.2576 - val_accuracy: 0.4667\n",
            "Epoch 20/20\n",
            "86/86 [==============================] - 0s 465us/sample - loss: 1.1705 - accuracy: 0.5000 - val_loss: 1.2506 - val_accuracy: 0.4667\n",
            "Train on 86 samples, validate on 45 samples\n",
            "Epoch 1/20\n",
            "86/86 [==============================] - 0s 4ms/sample - loss: 1.4479 - accuracy: 0.3488 - val_loss: 1.7833 - val_accuracy: 0.2444\n",
            "Epoch 2/20\n",
            "86/86 [==============================] - 0s 465us/sample - loss: 1.3999 - accuracy: 0.3721 - val_loss: 1.7319 - val_accuracy: 0.2444\n",
            "Epoch 3/20\n",
            "86/86 [==============================] - 0s 464us/sample - loss: 1.3574 - accuracy: 0.3953 - val_loss: 1.6884 - val_accuracy: 0.2667\n",
            "Epoch 4/20\n",
            "86/86 [==============================] - 0s 439us/sample - loss: 1.3240 - accuracy: 0.4186 - val_loss: 1.6529 - val_accuracy: 0.2667\n",
            "Epoch 5/20\n",
            "86/86 [==============================] - 0s 475us/sample - loss: 1.2951 - accuracy: 0.4302 - val_loss: 1.6220 - val_accuracy: 0.2667\n",
            "Epoch 6/20\n",
            "86/86 [==============================] - 0s 491us/sample - loss: 1.2686 - accuracy: 0.4302 - val_loss: 1.5950 - val_accuracy: 0.2889\n",
            "Epoch 7/20\n",
            "86/86 [==============================] - 0s 475us/sample - loss: 1.2470 - accuracy: 0.4186 - val_loss: 1.5715 - val_accuracy: 0.2667\n",
            "Epoch 8/20\n",
            "86/86 [==============================] - 0s 492us/sample - loss: 1.2269 - accuracy: 0.4302 - val_loss: 1.5509 - val_accuracy: 0.2889\n",
            "Epoch 9/20\n",
            "86/86 [==============================] - 0s 518us/sample - loss: 1.2109 - accuracy: 0.4651 - val_loss: 1.5331 - val_accuracy: 0.2889\n",
            "Epoch 10/20\n",
            "86/86 [==============================] - 0s 502us/sample - loss: 1.1961 - accuracy: 0.4535 - val_loss: 1.5175 - val_accuracy: 0.3333\n",
            "Epoch 11/20\n",
            "86/86 [==============================] - 0s 443us/sample - loss: 1.1835 - accuracy: 0.4651 - val_loss: 1.5031 - val_accuracy: 0.3333\n",
            "Epoch 12/20\n",
            "86/86 [==============================] - 0s 498us/sample - loss: 1.1719 - accuracy: 0.4651 - val_loss: 1.4900 - val_accuracy: 0.3556\n",
            "Epoch 13/20\n",
            "86/86 [==============================] - 0s 510us/sample - loss: 1.1618 - accuracy: 0.4651 - val_loss: 1.4786 - val_accuracy: 0.3556\n",
            "Epoch 14/20\n",
            "86/86 [==============================] - 0s 428us/sample - loss: 1.1526 - accuracy: 0.4884 - val_loss: 1.4678 - val_accuracy: 0.3556\n",
            "Epoch 15/20\n",
            "86/86 [==============================] - 0s 462us/sample - loss: 1.1447 - accuracy: 0.5000 - val_loss: 1.4581 - val_accuracy: 0.3556\n",
            "Epoch 16/20\n",
            "86/86 [==============================] - 0s 435us/sample - loss: 1.1361 - accuracy: 0.5000 - val_loss: 1.4493 - val_accuracy: 0.4000\n",
            "Epoch 17/20\n",
            "86/86 [==============================] - 0s 468us/sample - loss: 1.1290 - accuracy: 0.5116 - val_loss: 1.4407 - val_accuracy: 0.4000\n",
            "Epoch 18/20\n",
            "86/86 [==============================] - 0s 470us/sample - loss: 1.1223 - accuracy: 0.5116 - val_loss: 1.4331 - val_accuracy: 0.4000\n",
            "Epoch 19/20\n",
            "86/86 [==============================] - 0s 430us/sample - loss: 1.1168 - accuracy: 0.5116 - val_loss: 1.4256 - val_accuracy: 0.3778\n",
            "Epoch 20/20\n",
            "86/86 [==============================] - 0s 517us/sample - loss: 1.1109 - accuracy: 0.5233 - val_loss: 1.4184 - val_accuracy: 0.3778\n",
            "Train on 86 samples, validate on 45 samples\n",
            "Epoch 1/20\n",
            "86/86 [==============================] - 0s 4ms/sample - loss: 2.7198 - accuracy: 0.2907 - val_loss: 2.4176 - val_accuracy: 0.2222\n",
            "Epoch 2/20\n",
            "86/86 [==============================] - 0s 554us/sample - loss: 2.6023 - accuracy: 0.3023 - val_loss: 2.3125 - val_accuracy: 0.2222\n",
            "Epoch 3/20\n",
            "86/86 [==============================] - 0s 473us/sample - loss: 2.4905 - accuracy: 0.3140 - val_loss: 2.2153 - val_accuracy: 0.2222\n",
            "Epoch 4/20\n",
            "86/86 [==============================] - 0s 444us/sample - loss: 2.3857 - accuracy: 0.3023 - val_loss: 2.1246 - val_accuracy: 0.2222\n",
            "Epoch 5/20\n",
            "86/86 [==============================] - 0s 436us/sample - loss: 2.2852 - accuracy: 0.3140 - val_loss: 2.0402 - val_accuracy: 0.2222\n",
            "Epoch 6/20\n",
            "86/86 [==============================] - 0s 438us/sample - loss: 2.1934 - accuracy: 0.3256 - val_loss: 1.9629 - val_accuracy: 0.2444\n",
            "Epoch 7/20\n",
            "86/86 [==============================] - 0s 476us/sample - loss: 2.1088 - accuracy: 0.3372 - val_loss: 1.8925 - val_accuracy: 0.2889\n",
            "Epoch 8/20\n",
            "86/86 [==============================] - 0s 441us/sample - loss: 2.0303 - accuracy: 0.3372 - val_loss: 1.8280 - val_accuracy: 0.2889\n",
            "Epoch 9/20\n",
            "86/86 [==============================] - 0s 462us/sample - loss: 1.9580 - accuracy: 0.3372 - val_loss: 1.7695 - val_accuracy: 0.3556\n",
            "Epoch 10/20\n",
            "86/86 [==============================] - 0s 459us/sample - loss: 1.8917 - accuracy: 0.3605 - val_loss: 1.7156 - val_accuracy: 0.3556\n",
            "Epoch 11/20\n",
            "86/86 [==============================] - 0s 473us/sample - loss: 1.8294 - accuracy: 0.3605 - val_loss: 1.6671 - val_accuracy: 0.3778\n",
            "Epoch 12/20\n",
            "86/86 [==============================] - 0s 484us/sample - loss: 1.7728 - accuracy: 0.3488 - val_loss: 1.6227 - val_accuracy: 0.3778\n",
            "Epoch 13/20\n",
            "86/86 [==============================] - 0s 475us/sample - loss: 1.7194 - accuracy: 0.3488 - val_loss: 1.5817 - val_accuracy: 0.3778\n",
            "Epoch 14/20\n",
            "86/86 [==============================] - 0s 493us/sample - loss: 1.6714 - accuracy: 0.3721 - val_loss: 1.5437 - val_accuracy: 0.3778\n",
            "Epoch 15/20\n",
            "86/86 [==============================] - 0s 476us/sample - loss: 1.6262 - accuracy: 0.3837 - val_loss: 1.5084 - val_accuracy: 0.3556\n",
            "Epoch 16/20\n",
            "86/86 [==============================] - 0s 511us/sample - loss: 1.5853 - accuracy: 0.3953 - val_loss: 1.4775 - val_accuracy: 0.3778\n",
            "Epoch 17/20\n",
            "86/86 [==============================] - 0s 448us/sample - loss: 1.5479 - accuracy: 0.3953 - val_loss: 1.4481 - val_accuracy: 0.3556\n",
            "Epoch 18/20\n",
            "86/86 [==============================] - 0s 434us/sample - loss: 1.5142 - accuracy: 0.3953 - val_loss: 1.4227 - val_accuracy: 0.3778\n",
            "Epoch 19/20\n",
            "86/86 [==============================] - 0s 409us/sample - loss: 1.4837 - accuracy: 0.4186 - val_loss: 1.3993 - val_accuracy: 0.3778\n",
            "Epoch 20/20\n",
            "86/86 [==============================] - 0s 535us/sample - loss: 1.4556 - accuracy: 0.4186 - val_loss: 1.3773 - val_accuracy: 0.3778\n",
            "Train on 86 samples, validate on 45 samples\n",
            "Epoch 1/20\n",
            "86/86 [==============================] - 0s 4ms/sample - loss: 3.6238 - accuracy: 0.2907 - val_loss: 2.2055 - val_accuracy: 0.2889\n",
            "Epoch 2/20\n",
            "86/86 [==============================] - 0s 443us/sample - loss: 3.4320 - accuracy: 0.3023 - val_loss: 2.1337 - val_accuracy: 0.2667\n",
            "Epoch 3/20\n",
            "86/86 [==============================] - 0s 443us/sample - loss: 3.2531 - accuracy: 0.3023 - val_loss: 2.0696 - val_accuracy: 0.2444\n",
            "Epoch 4/20\n",
            "86/86 [==============================] - 0s 480us/sample - loss: 3.0906 - accuracy: 0.3023 - val_loss: 2.0119 - val_accuracy: 0.2444\n",
            "Epoch 5/20\n",
            "86/86 [==============================] - 0s 407us/sample - loss: 2.9444 - accuracy: 0.3140 - val_loss: 1.9585 - val_accuracy: 0.2444\n",
            "Epoch 6/20\n",
            "86/86 [==============================] - 0s 437us/sample - loss: 2.8127 - accuracy: 0.3372 - val_loss: 1.9095 - val_accuracy: 0.2444\n",
            "Epoch 7/20\n",
            "86/86 [==============================] - 0s 423us/sample - loss: 2.6944 - accuracy: 0.3488 - val_loss: 1.8647 - val_accuracy: 0.2444\n",
            "Epoch 8/20\n",
            "86/86 [==============================] - 0s 464us/sample - loss: 2.5800 - accuracy: 0.3488 - val_loss: 1.8232 - val_accuracy: 0.2444\n",
            "Epoch 9/20\n",
            "86/86 [==============================] - 0s 467us/sample - loss: 2.4799 - accuracy: 0.3488 - val_loss: 1.7856 - val_accuracy: 0.2444\n",
            "Epoch 10/20\n",
            "86/86 [==============================] - 0s 429us/sample - loss: 2.3768 - accuracy: 0.3372 - val_loss: 1.7517 - val_accuracy: 0.2667\n",
            "Epoch 11/20\n",
            "86/86 [==============================] - 0s 485us/sample - loss: 2.2841 - accuracy: 0.3488 - val_loss: 1.7227 - val_accuracy: 0.3111\n",
            "Epoch 12/20\n",
            "86/86 [==============================] - 0s 481us/sample - loss: 2.2007 - accuracy: 0.3488 - val_loss: 1.7019 - val_accuracy: 0.3333\n",
            "Epoch 13/20\n",
            "86/86 [==============================] - 0s 484us/sample - loss: 2.1166 - accuracy: 0.3488 - val_loss: 1.6817 - val_accuracy: 0.3333\n",
            "Epoch 14/20\n",
            "86/86 [==============================] - 0s 459us/sample - loss: 2.0383 - accuracy: 0.3605 - val_loss: 1.6628 - val_accuracy: 0.3556\n",
            "Epoch 15/20\n",
            "86/86 [==============================] - 0s 434us/sample - loss: 1.9710 - accuracy: 0.3605 - val_loss: 1.6420 - val_accuracy: 0.3778\n",
            "Epoch 16/20\n",
            "86/86 [==============================] - 0s 432us/sample - loss: 1.9062 - accuracy: 0.3605 - val_loss: 1.6240 - val_accuracy: 0.3778\n",
            "Epoch 17/20\n",
            "86/86 [==============================] - 0s 441us/sample - loss: 1.8434 - accuracy: 0.3605 - val_loss: 1.6081 - val_accuracy: 0.3778\n",
            "Epoch 18/20\n",
            "86/86 [==============================] - 0s 450us/sample - loss: 1.7857 - accuracy: 0.3488 - val_loss: 1.5928 - val_accuracy: 0.3778\n",
            "Epoch 19/20\n",
            "86/86 [==============================] - 0s 421us/sample - loss: 1.7347 - accuracy: 0.3488 - val_loss: 1.5772 - val_accuracy: 0.3778\n",
            "Epoch 20/20\n",
            "86/86 [==============================] - 0s 424us/sample - loss: 1.6870 - accuracy: 0.3372 - val_loss: 1.5644 - val_accuracy: 0.4000\n",
            "Train on 86 samples, validate on 45 samples\n",
            "Epoch 1/20\n",
            "86/86 [==============================] - 0s 4ms/sample - loss: 1.3676 - accuracy: 0.3372 - val_loss: 1.1156 - val_accuracy: 0.3111\n",
            "Epoch 2/20\n",
            "86/86 [==============================] - 0s 488us/sample - loss: 1.3286 - accuracy: 0.3372 - val_loss: 1.1035 - val_accuracy: 0.3556\n",
            "Epoch 3/20\n",
            "86/86 [==============================] - 0s 414us/sample - loss: 1.2942 - accuracy: 0.3488 - val_loss: 1.0941 - val_accuracy: 0.3556\n",
            "Epoch 4/20\n",
            "86/86 [==============================] - 0s 426us/sample - loss: 1.2649 - accuracy: 0.3721 - val_loss: 1.0871 - val_accuracy: 0.3778\n",
            "Epoch 5/20\n",
            "86/86 [==============================] - 0s 417us/sample - loss: 1.2396 - accuracy: 0.3837 - val_loss: 1.0815 - val_accuracy: 0.3778\n",
            "Epoch 6/20\n",
            "86/86 [==============================] - 0s 442us/sample - loss: 1.2203 - accuracy: 0.3953 - val_loss: 1.0772 - val_accuracy: 0.3556\n",
            "Epoch 7/20\n",
            "86/86 [==============================] - 0s 487us/sample - loss: 1.2017 - accuracy: 0.4070 - val_loss: 1.0735 - val_accuracy: 0.3778\n",
            "Epoch 8/20\n",
            "86/86 [==============================] - 0s 436us/sample - loss: 1.1863 - accuracy: 0.3953 - val_loss: 1.0704 - val_accuracy: 0.3778\n",
            "Epoch 9/20\n",
            "86/86 [==============================] - 0s 466us/sample - loss: 1.1735 - accuracy: 0.4186 - val_loss: 1.0686 - val_accuracy: 0.4000\n",
            "Epoch 10/20\n",
            "86/86 [==============================] - 0s 455us/sample - loss: 1.1617 - accuracy: 0.4186 - val_loss: 1.0673 - val_accuracy: 0.4222\n",
            "Epoch 11/20\n",
            "86/86 [==============================] - 0s 435us/sample - loss: 1.1507 - accuracy: 0.4302 - val_loss: 1.0664 - val_accuracy: 0.4222\n",
            "Epoch 12/20\n",
            "86/86 [==============================] - 0s 447us/sample - loss: 1.1413 - accuracy: 0.4302 - val_loss: 1.0659 - val_accuracy: 0.4222\n",
            "Epoch 13/20\n",
            "86/86 [==============================] - 0s 454us/sample - loss: 1.1334 - accuracy: 0.4302 - val_loss: 1.0658 - val_accuracy: 0.4222\n",
            "Epoch 14/20\n",
            "86/86 [==============================] - 0s 463us/sample - loss: 1.1244 - accuracy: 0.4302 - val_loss: 1.0657 - val_accuracy: 0.4222\n",
            "Epoch 15/20\n",
            "86/86 [==============================] - 0s 505us/sample - loss: 1.1157 - accuracy: 0.4302 - val_loss: 1.0659 - val_accuracy: 0.4222\n",
            "Epoch 16/20\n",
            "86/86 [==============================] - 0s 438us/sample - loss: 1.1097 - accuracy: 0.4186 - val_loss: 1.0662 - val_accuracy: 0.4444\n",
            "Epoch 17/20\n",
            "86/86 [==============================] - 0s 454us/sample - loss: 1.1034 - accuracy: 0.4419 - val_loss: 1.0668 - val_accuracy: 0.4444\n",
            "Epoch 18/20\n",
            "86/86 [==============================] - 0s 446us/sample - loss: 1.0968 - accuracy: 0.4302 - val_loss: 1.0673 - val_accuracy: 0.4444\n",
            "Epoch 19/20\n",
            "86/86 [==============================] - 0s 448us/sample - loss: 1.0910 - accuracy: 0.4302 - val_loss: 1.0679 - val_accuracy: 0.4444\n",
            "Epoch 20/20\n",
            "86/86 [==============================] - 0s 433us/sample - loss: 1.0862 - accuracy: 0.4302 - val_loss: 1.0684 - val_accuracy: 0.4444\n"
          ],
          "name": "stdout"
        },
        {
          "output_type": "display_data",
          "data": {
            "text/html": [
              "<span style=\"color:#4527A0\"><h1 style=\"font-size:18px\">Trial complete</h1></span>"
            ],
            "text/plain": [
              "<IPython.core.display.HTML object>"
            ]
          },
          "metadata": {
            "tags": []
          }
        },
        {
          "output_type": "display_data",
          "data": {
            "text/html": [
              "<span style=\"color:#4527A0\"><h1 style=\"font-size:18px\">Trial summary</h1></span>"
            ],
            "text/plain": [
              "<IPython.core.display.HTML object>"
            ]
          },
          "metadata": {
            "tags": []
          }
        },
        {
          "output_type": "display_data",
          "data": {
            "text/html": [
              "<span style=\"color:#7E57C2\"><h2 style=\"font-size:16px\">Hp values:</h2></span>"
            ],
            "text/plain": [
              "<IPython.core.display.HTML object>"
            ]
          },
          "metadata": {
            "tags": []
          }
        },
        {
          "output_type": "display_data",
          "data": {
            "text/html": [
              "<span style=\"color:cyan\"> |-learning_rate: 0.001</span>"
            ],
            "text/plain": [
              "<IPython.core.display.HTML object>"
            ]
          },
          "metadata": {
            "tags": []
          }
        },
        {
          "output_type": "display_data",
          "data": {
            "text/html": [
              "<span style=\"color:blue\"> |-momentum: 0.2</span>"
            ],
            "text/plain": [
              "<IPython.core.display.HTML object>"
            ]
          },
          "metadata": {
            "tags": []
          }
        },
        {
          "output_type": "display_data",
          "data": {
            "text/html": [
              "<span style=\"color:cyan\"> |-Score: 0.41777777671813965</span>"
            ],
            "text/plain": [
              "<IPython.core.display.HTML object>"
            ]
          },
          "metadata": {
            "tags": []
          }
        },
        {
          "output_type": "display_data",
          "data": {
            "text/html": [
              "<span style=\"color:cyan\"> |-Best step: 0</span>"
            ],
            "text/plain": [
              "<IPython.core.display.HTML object>"
            ]
          },
          "metadata": {
            "tags": []
          }
        },
        {
          "output_type": "stream",
          "text": [
            "Train on 86 samples, validate on 45 samples\n",
            "Epoch 1/20\n",
            "86/86 [==============================] - 0s 4ms/sample - loss: 2.6493 - accuracy: 0.4070 - val_loss: 2.2190 - val_accuracy: 0.4444\n",
            "Epoch 2/20\n",
            "86/86 [==============================] - 0s 441us/sample - loss: 1.9241 - accuracy: 0.4302 - val_loss: 1.9466 - val_accuracy: 0.4444\n",
            "Epoch 3/20\n",
            "86/86 [==============================] - 0s 439us/sample - loss: 1.5773 - accuracy: 0.3953 - val_loss: 1.7566 - val_accuracy: 0.4000\n",
            "Epoch 4/20\n",
            "86/86 [==============================] - 0s 489us/sample - loss: 1.3841 - accuracy: 0.4186 - val_loss: 1.6286 - val_accuracy: 0.3778\n",
            "Epoch 5/20\n",
            "86/86 [==============================] - 0s 522us/sample - loss: 1.2684 - accuracy: 0.4535 - val_loss: 1.5482 - val_accuracy: 0.3556\n",
            "Epoch 6/20\n",
            "86/86 [==============================] - 0s 498us/sample - loss: 1.1925 - accuracy: 0.4884 - val_loss: 1.4716 - val_accuracy: 0.3778\n",
            "Epoch 7/20\n",
            "86/86 [==============================] - 0s 436us/sample - loss: 1.1208 - accuracy: 0.4884 - val_loss: 1.4212 - val_accuracy: 0.3778\n",
            "Epoch 8/20\n",
            "86/86 [==============================] - 0s 405us/sample - loss: 1.0655 - accuracy: 0.5349 - val_loss: 1.3746 - val_accuracy: 0.4000\n",
            "Epoch 9/20\n",
            "86/86 [==============================] - 0s 424us/sample - loss: 1.0257 - accuracy: 0.5349 - val_loss: 1.3398 - val_accuracy: 0.4222\n",
            "Epoch 10/20\n",
            "86/86 [==============================] - 0s 547us/sample - loss: 1.0052 - accuracy: 0.5581 - val_loss: 1.3199 - val_accuracy: 0.4667\n",
            "Epoch 11/20\n",
            "86/86 [==============================] - 0s 464us/sample - loss: 0.9777 - accuracy: 0.5233 - val_loss: 1.2914 - val_accuracy: 0.4667\n",
            "Epoch 12/20\n",
            "86/86 [==============================] - 0s 464us/sample - loss: 0.9594 - accuracy: 0.5581 - val_loss: 1.2624 - val_accuracy: 0.4444\n",
            "Epoch 13/20\n",
            "86/86 [==============================] - 0s 528us/sample - loss: 0.9466 - accuracy: 0.5465 - val_loss: 1.2499 - val_accuracy: 0.4889\n",
            "Epoch 14/20\n",
            "86/86 [==============================] - 0s 441us/sample - loss: 0.9354 - accuracy: 0.5930 - val_loss: 1.2338 - val_accuracy: 0.4889\n",
            "Epoch 15/20\n",
            "86/86 [==============================] - 0s 419us/sample - loss: 0.9224 - accuracy: 0.6047 - val_loss: 1.2193 - val_accuracy: 0.4889\n",
            "Epoch 16/20\n",
            "86/86 [==============================] - 0s 432us/sample - loss: 0.9091 - accuracy: 0.5930 - val_loss: 1.2073 - val_accuracy: 0.4444\n",
            "Epoch 17/20\n",
            "86/86 [==============================] - 0s 431us/sample - loss: 0.9012 - accuracy: 0.6047 - val_loss: 1.2013 - val_accuracy: 0.4667\n",
            "Epoch 18/20\n",
            "86/86 [==============================] - 0s 447us/sample - loss: 0.8937 - accuracy: 0.6047 - val_loss: 1.1932 - val_accuracy: 0.4444\n",
            "Epoch 19/20\n",
            "86/86 [==============================] - 0s 459us/sample - loss: 0.8866 - accuracy: 0.6279 - val_loss: 1.1860 - val_accuracy: 0.4444\n",
            "Epoch 20/20\n",
            "86/86 [==============================] - 0s 455us/sample - loss: 0.8826 - accuracy: 0.6163 - val_loss: 1.1877 - val_accuracy: 0.4444\n",
            "Train on 86 samples, validate on 45 samples\n",
            "Epoch 1/20\n",
            "86/86 [==============================] - 0s 4ms/sample - loss: 1.5096 - accuracy: 0.3953 - val_loss: 1.2263 - val_accuracy: 0.4444\n",
            "Epoch 2/20\n",
            "86/86 [==============================] - 0s 430us/sample - loss: 1.4025 - accuracy: 0.4651 - val_loss: 1.1680 - val_accuracy: 0.4444\n",
            "Epoch 3/20\n",
            "86/86 [==============================] - 0s 476us/sample - loss: 1.3210 - accuracy: 0.4767 - val_loss: 1.1323 - val_accuracy: 0.4889\n",
            "Epoch 4/20\n",
            "86/86 [==============================] - 0s 473us/sample - loss: 1.2700 - accuracy: 0.4884 - val_loss: 1.1026 - val_accuracy: 0.4889\n",
            "Epoch 5/20\n",
            "86/86 [==============================] - 0s 496us/sample - loss: 1.2130 - accuracy: 0.4767 - val_loss: 1.0801 - val_accuracy: 0.5111\n",
            "Epoch 6/20\n",
            "86/86 [==============================] - 0s 422us/sample - loss: 1.1759 - accuracy: 0.5116 - val_loss: 1.0705 - val_accuracy: 0.5111\n",
            "Epoch 7/20\n",
            "86/86 [==============================] - 0s 403us/sample - loss: 1.1461 - accuracy: 0.5000 - val_loss: 1.0619 - val_accuracy: 0.5111\n",
            "Epoch 8/20\n",
            "86/86 [==============================] - 0s 420us/sample - loss: 1.1138 - accuracy: 0.5233 - val_loss: 1.0520 - val_accuracy: 0.5111\n",
            "Epoch 9/20\n",
            "86/86 [==============================] - 0s 547us/sample - loss: 1.0880 - accuracy: 0.5233 - val_loss: 1.0417 - val_accuracy: 0.5778\n",
            "Epoch 10/20\n",
            "86/86 [==============================] - 0s 457us/sample - loss: 1.0681 - accuracy: 0.5349 - val_loss: 1.0360 - val_accuracy: 0.5333\n",
            "Epoch 11/20\n",
            "86/86 [==============================] - 0s 451us/sample - loss: 1.0462 - accuracy: 0.5698 - val_loss: 1.0247 - val_accuracy: 0.5556\n",
            "Epoch 12/20\n",
            "86/86 [==============================] - 0s 459us/sample - loss: 1.0286 - accuracy: 0.5698 - val_loss: 1.0214 - val_accuracy: 0.5333\n",
            "Epoch 13/20\n",
            "86/86 [==============================] - 0s 461us/sample - loss: 1.0141 - accuracy: 0.6047 - val_loss: 1.0122 - val_accuracy: 0.5111\n",
            "Epoch 14/20\n",
            "86/86 [==============================] - 0s 454us/sample - loss: 1.0009 - accuracy: 0.5930 - val_loss: 1.0078 - val_accuracy: 0.5111\n",
            "Epoch 15/20\n",
            "86/86 [==============================] - 0s 459us/sample - loss: 0.9906 - accuracy: 0.6047 - val_loss: 1.0028 - val_accuracy: 0.5333\n",
            "Epoch 16/20\n",
            "86/86 [==============================] - 0s 426us/sample - loss: 0.9681 - accuracy: 0.6047 - val_loss: 0.9995 - val_accuracy: 0.5556\n",
            "Epoch 17/20\n",
            "86/86 [==============================] - 0s 445us/sample - loss: 0.9554 - accuracy: 0.6279 - val_loss: 0.9968 - val_accuracy: 0.5333\n",
            "Epoch 18/20\n",
            "86/86 [==============================] - 0s 457us/sample - loss: 0.9448 - accuracy: 0.6163 - val_loss: 0.9947 - val_accuracy: 0.5111\n",
            "Epoch 19/20\n",
            "86/86 [==============================] - 0s 429us/sample - loss: 0.9346 - accuracy: 0.6395 - val_loss: 0.9928 - val_accuracy: 0.5111\n",
            "Epoch 20/20\n",
            "86/86 [==============================] - 0s 441us/sample - loss: 0.9268 - accuracy: 0.6395 - val_loss: 0.9912 - val_accuracy: 0.4889\n",
            "Train on 86 samples, validate on 45 samples\n",
            "Epoch 1/20\n",
            "86/86 [==============================] - 0s 4ms/sample - loss: 2.1380 - accuracy: 0.3837 - val_loss: 2.0535 - val_accuracy: 0.3333\n",
            "Epoch 2/20\n",
            "86/86 [==============================] - 0s 467us/sample - loss: 1.7570 - accuracy: 0.3837 - val_loss: 1.7506 - val_accuracy: 0.3778\n",
            "Epoch 3/20\n",
            "86/86 [==============================] - 0s 438us/sample - loss: 1.5214 - accuracy: 0.3953 - val_loss: 1.5436 - val_accuracy: 0.3778\n",
            "Epoch 4/20\n",
            "86/86 [==============================] - 0s 463us/sample - loss: 1.3656 - accuracy: 0.3953 - val_loss: 1.4015 - val_accuracy: 0.3778\n",
            "Epoch 5/20\n",
            "86/86 [==============================] - 0s 456us/sample - loss: 1.2341 - accuracy: 0.4070 - val_loss: 1.3506 - val_accuracy: 0.3556\n",
            "Epoch 6/20\n",
            "86/86 [==============================] - 0s 468us/sample - loss: 1.1666 - accuracy: 0.4302 - val_loss: 1.2589 - val_accuracy: 0.3333\n",
            "Epoch 7/20\n",
            "86/86 [==============================] - 0s 457us/sample - loss: 1.1070 - accuracy: 0.4302 - val_loss: 1.1975 - val_accuracy: 0.4000\n",
            "Epoch 8/20\n",
            "86/86 [==============================] - 0s 438us/sample - loss: 1.0651 - accuracy: 0.4535 - val_loss: 1.1853 - val_accuracy: 0.4222\n",
            "Epoch 9/20\n",
            "86/86 [==============================] - 0s 438us/sample - loss: 1.0265 - accuracy: 0.4535 - val_loss: 1.2029 - val_accuracy: 0.4222\n",
            "Epoch 10/20\n",
            "86/86 [==============================] - 0s 443us/sample - loss: 1.0200 - accuracy: 0.4884 - val_loss: 1.1704 - val_accuracy: 0.4222\n",
            "Epoch 11/20\n",
            "86/86 [==============================] - 0s 457us/sample - loss: 0.9879 - accuracy: 0.5000 - val_loss: 1.1433 - val_accuracy: 0.4222\n",
            "Epoch 12/20\n",
            "86/86 [==============================] - 0s 455us/sample - loss: 0.9714 - accuracy: 0.5116 - val_loss: 1.1157 - val_accuracy: 0.4222\n",
            "Epoch 13/20\n",
            "86/86 [==============================] - 0s 462us/sample - loss: 0.9652 - accuracy: 0.5116 - val_loss: 1.1073 - val_accuracy: 0.4222\n",
            "Epoch 14/20\n",
            "86/86 [==============================] - 0s 441us/sample - loss: 0.9397 - accuracy: 0.5465 - val_loss: 1.1429 - val_accuracy: 0.4667\n",
            "Epoch 15/20\n",
            "86/86 [==============================] - 0s 433us/sample - loss: 0.9357 - accuracy: 0.5349 - val_loss: 1.1194 - val_accuracy: 0.4444\n",
            "Epoch 16/20\n",
            "86/86 [==============================] - 0s 445us/sample - loss: 0.9327 - accuracy: 0.5698 - val_loss: 1.0927 - val_accuracy: 0.4444\n",
            "Epoch 17/20\n",
            "86/86 [==============================] - 0s 415us/sample - loss: 0.9160 - accuracy: 0.5930 - val_loss: 1.0780 - val_accuracy: 0.4667\n",
            "Epoch 18/20\n",
            "86/86 [==============================] - 0s 448us/sample - loss: 0.9082 - accuracy: 0.5465 - val_loss: 1.0915 - val_accuracy: 0.4667\n",
            "Epoch 19/20\n",
            "86/86 [==============================] - 0s 475us/sample - loss: 0.8992 - accuracy: 0.5814 - val_loss: 1.0805 - val_accuracy: 0.4889\n",
            "Epoch 20/20\n",
            "86/86 [==============================] - 0s 481us/sample - loss: 0.8875 - accuracy: 0.5930 - val_loss: 1.1028 - val_accuracy: 0.4667\n",
            "Train on 86 samples, validate on 45 samples\n",
            "Epoch 1/20\n",
            "86/86 [==============================] - 0s 4ms/sample - loss: 1.4416 - accuracy: 0.4186 - val_loss: 1.1501 - val_accuracy: 0.4222\n",
            "Epoch 2/20\n",
            "86/86 [==============================] - 0s 424us/sample - loss: 1.2232 - accuracy: 0.4419 - val_loss: 1.1177 - val_accuracy: 0.3556\n",
            "Epoch 3/20\n",
            "86/86 [==============================] - 0s 423us/sample - loss: 1.1314 - accuracy: 0.4302 - val_loss: 1.0927 - val_accuracy: 0.4222\n",
            "Epoch 4/20\n",
            "86/86 [==============================] - 0s 428us/sample - loss: 1.0951 - accuracy: 0.5000 - val_loss: 1.0724 - val_accuracy: 0.4222\n",
            "Epoch 5/20\n",
            "86/86 [==============================] - 0s 438us/sample - loss: 1.0799 - accuracy: 0.4651 - val_loss: 1.0703 - val_accuracy: 0.4222\n",
            "Epoch 6/20\n",
            "86/86 [==============================] - 0s 444us/sample - loss: 1.0602 - accuracy: 0.4884 - val_loss: 1.0663 - val_accuracy: 0.4000\n",
            "Epoch 7/20\n",
            "86/86 [==============================] - 0s 421us/sample - loss: 1.0422 - accuracy: 0.5116 - val_loss: 1.0659 - val_accuracy: 0.4000\n",
            "Epoch 8/20\n",
            "86/86 [==============================] - 0s 432us/sample - loss: 1.0286 - accuracy: 0.4767 - val_loss: 1.0458 - val_accuracy: 0.3778\n",
            "Epoch 9/20\n",
            "86/86 [==============================] - 0s 471us/sample - loss: 1.0243 - accuracy: 0.5000 - val_loss: 1.0412 - val_accuracy: 0.3778\n",
            "Epoch 10/20\n",
            "86/86 [==============================] - 0s 442us/sample - loss: 1.0056 - accuracy: 0.5000 - val_loss: 1.0363 - val_accuracy: 0.3778\n",
            "Epoch 11/20\n",
            "86/86 [==============================] - 0s 430us/sample - loss: 0.9977 - accuracy: 0.5116 - val_loss: 1.0403 - val_accuracy: 0.3778\n",
            "Epoch 12/20\n",
            "86/86 [==============================] - 0s 421us/sample - loss: 0.9849 - accuracy: 0.5233 - val_loss: 1.0389 - val_accuracy: 0.3778\n",
            "Epoch 13/20\n",
            "86/86 [==============================] - 0s 423us/sample - loss: 0.9885 - accuracy: 0.4767 - val_loss: 1.0282 - val_accuracy: 0.4222\n",
            "Epoch 14/20\n",
            "86/86 [==============================] - 0s 470us/sample - loss: 0.9779 - accuracy: 0.4884 - val_loss: 1.0282 - val_accuracy: 0.4222\n",
            "Epoch 15/20\n",
            "86/86 [==============================] - 0s 552us/sample - loss: 0.9671 - accuracy: 0.5233 - val_loss: 1.0274 - val_accuracy: 0.4222\n",
            "Epoch 16/20\n",
            "86/86 [==============================] - 0s 539us/sample - loss: 0.9625 - accuracy: 0.5233 - val_loss: 1.0169 - val_accuracy: 0.4667\n",
            "Epoch 17/20\n",
            "86/86 [==============================] - 0s 509us/sample - loss: 0.9581 - accuracy: 0.5349 - val_loss: 1.0214 - val_accuracy: 0.4222\n",
            "Epoch 18/20\n",
            "86/86 [==============================] - 0s 423us/sample - loss: 0.9469 - accuracy: 0.5698 - val_loss: 1.0235 - val_accuracy: 0.4222\n",
            "Epoch 19/20\n",
            "86/86 [==============================] - 0s 413us/sample - loss: 0.9407 - accuracy: 0.5465 - val_loss: 1.0120 - val_accuracy: 0.4889\n",
            "Epoch 20/20\n",
            "86/86 [==============================] - 0s 413us/sample - loss: 0.9355 - accuracy: 0.5581 - val_loss: 1.0088 - val_accuracy: 0.4889\n",
            "Train on 86 samples, validate on 45 samples\n",
            "Epoch 1/20\n",
            "86/86 [==============================] - 0s 4ms/sample - loss: 2.0553 - accuracy: 0.2326 - val_loss: 1.4440 - val_accuracy: 0.4222\n",
            "Epoch 2/20\n",
            "86/86 [==============================] - 0s 438us/sample - loss: 1.4668 - accuracy: 0.2907 - val_loss: 1.3250 - val_accuracy: 0.4000\n",
            "Epoch 3/20\n",
            "86/86 [==============================] - 0s 426us/sample - loss: 1.2703 - accuracy: 0.4070 - val_loss: 1.2911 - val_accuracy: 0.3333\n",
            "Epoch 4/20\n",
            "86/86 [==============================] - 0s 463us/sample - loss: 1.1901 - accuracy: 0.4186 - val_loss: 1.2549 - val_accuracy: 0.3556\n",
            "Epoch 5/20\n",
            "86/86 [==============================] - 0s 488us/sample - loss: 1.1281 - accuracy: 0.5000 - val_loss: 1.2223 - val_accuracy: 0.4444\n",
            "Epoch 6/20\n",
            "86/86 [==============================] - 0s 459us/sample - loss: 1.0890 - accuracy: 0.4767 - val_loss: 1.1986 - val_accuracy: 0.4889\n",
            "Epoch 7/20\n",
            "86/86 [==============================] - 0s 467us/sample - loss: 1.0621 - accuracy: 0.4884 - val_loss: 1.1814 - val_accuracy: 0.5556\n",
            "Epoch 8/20\n",
            "86/86 [==============================] - 0s 464us/sample - loss: 1.0255 - accuracy: 0.5000 - val_loss: 1.1706 - val_accuracy: 0.5778\n",
            "Epoch 9/20\n",
            "86/86 [==============================] - 0s 451us/sample - loss: 1.0079 - accuracy: 0.5465 - val_loss: 1.1660 - val_accuracy: 0.5556\n",
            "Epoch 10/20\n",
            "86/86 [==============================] - 0s 439us/sample - loss: 0.9805 - accuracy: 0.5349 - val_loss: 1.1571 - val_accuracy: 0.5111\n",
            "Epoch 11/20\n",
            "86/86 [==============================] - 0s 429us/sample - loss: 0.9658 - accuracy: 0.5581 - val_loss: 1.1363 - val_accuracy: 0.5111\n",
            "Epoch 12/20\n",
            "86/86 [==============================] - 0s 424us/sample - loss: 0.9548 - accuracy: 0.5698 - val_loss: 1.1424 - val_accuracy: 0.4667\n",
            "Epoch 13/20\n",
            "86/86 [==============================] - 0s 419us/sample - loss: 0.9460 - accuracy: 0.5814 - val_loss: 1.1457 - val_accuracy: 0.4667\n",
            "Epoch 14/20\n",
            "86/86 [==============================] - 0s 436us/sample - loss: 0.9389 - accuracy: 0.6047 - val_loss: 1.1334 - val_accuracy: 0.4667\n",
            "Epoch 15/20\n",
            "86/86 [==============================] - 0s 459us/sample - loss: 0.9290 - accuracy: 0.5814 - val_loss: 1.1329 - val_accuracy: 0.4667\n",
            "Epoch 16/20\n",
            "86/86 [==============================] - 0s 477us/sample - loss: 0.9165 - accuracy: 0.6047 - val_loss: 1.1208 - val_accuracy: 0.4889\n",
            "Epoch 17/20\n",
            "86/86 [==============================] - 0s 405us/sample - loss: 0.9148 - accuracy: 0.5814 - val_loss: 1.1238 - val_accuracy: 0.4889\n",
            "Epoch 18/20\n",
            "86/86 [==============================] - 0s 423us/sample - loss: 0.9015 - accuracy: 0.6047 - val_loss: 1.1332 - val_accuracy: 0.4889\n",
            "Epoch 19/20\n",
            "86/86 [==============================] - 0s 442us/sample - loss: 0.8989 - accuracy: 0.6163 - val_loss: 1.1238 - val_accuracy: 0.4667\n",
            "Epoch 20/20\n",
            "86/86 [==============================] - 0s 409us/sample - loss: 0.8917 - accuracy: 0.5698 - val_loss: 1.1334 - val_accuracy: 0.4667\n"
          ],
          "name": "stdout"
        },
        {
          "output_type": "display_data",
          "data": {
            "text/html": [
              "<span style=\"color:#4527A0\"><h1 style=\"font-size:18px\">Trial complete</h1></span>"
            ],
            "text/plain": [
              "<IPython.core.display.HTML object>"
            ]
          },
          "metadata": {
            "tags": []
          }
        },
        {
          "output_type": "display_data",
          "data": {
            "text/html": [
              "<span style=\"color:#4527A0\"><h1 style=\"font-size:18px\">Trial summary</h1></span>"
            ],
            "text/plain": [
              "<IPython.core.display.HTML object>"
            ]
          },
          "metadata": {
            "tags": []
          }
        },
        {
          "output_type": "display_data",
          "data": {
            "text/html": [
              "<span style=\"color:#7E57C2\"><h2 style=\"font-size:16px\">Hp values:</h2></span>"
            ],
            "text/plain": [
              "<IPython.core.display.HTML object>"
            ]
          },
          "metadata": {
            "tags": []
          }
        },
        {
          "output_type": "display_data",
          "data": {
            "text/html": [
              "<span style=\"color:cyan\"> |-learning_rate: 0.01</span>"
            ],
            "text/plain": [
              "<IPython.core.display.HTML object>"
            ]
          },
          "metadata": {
            "tags": []
          }
        },
        {
          "output_type": "display_data",
          "data": {
            "text/html": [
              "<span style=\"color:blue\"> |-momentum: 0.1</span>"
            ],
            "text/plain": [
              "<IPython.core.display.HTML object>"
            ]
          },
          "metadata": {
            "tags": []
          }
        },
        {
          "output_type": "display_data",
          "data": {
            "text/html": [
              "<span style=\"color:cyan\"> |-Score: 0.5244444608688354</span>"
            ],
            "text/plain": [
              "<IPython.core.display.HTML object>"
            ]
          },
          "metadata": {
            "tags": []
          }
        },
        {
          "output_type": "display_data",
          "data": {
            "text/html": [
              "<span style=\"color:cyan\"> |-Best step: 0</span>"
            ],
            "text/plain": [
              "<IPython.core.display.HTML object>"
            ]
          },
          "metadata": {
            "tags": []
          }
        },
        {
          "output_type": "stream",
          "text": [
            "Train on 86 samples, validate on 45 samples\n",
            "Epoch 1/20\n",
            "86/86 [==============================] - 0s 4ms/sample - loss: 2.6362 - accuracy: 0.3721 - val_loss: 2.8376 - val_accuracy: 0.3778\n",
            "Epoch 2/20\n",
            "86/86 [==============================] - 0s 452us/sample - loss: 2.5933 - accuracy: 0.3721 - val_loss: 2.8096 - val_accuracy: 0.3778\n",
            "Epoch 3/20\n",
            "86/86 [==============================] - 0s 447us/sample - loss: 2.5490 - accuracy: 0.3721 - val_loss: 2.7803 - val_accuracy: 0.3778\n",
            "Epoch 4/20\n",
            "86/86 [==============================] - 0s 435us/sample - loss: 2.5019 - accuracy: 0.3721 - val_loss: 2.7543 - val_accuracy: 0.3778\n",
            "Epoch 5/20\n",
            "86/86 [==============================] - 0s 459us/sample - loss: 2.4592 - accuracy: 0.3721 - val_loss: 2.7240 - val_accuracy: 0.3778\n",
            "Epoch 6/20\n",
            "86/86 [==============================] - 0s 519us/sample - loss: 2.4154 - accuracy: 0.3721 - val_loss: 2.6971 - val_accuracy: 0.3778\n",
            "Epoch 7/20\n",
            "86/86 [==============================] - 0s 546us/sample - loss: 2.3755 - accuracy: 0.3721 - val_loss: 2.6707 - val_accuracy: 0.3778\n",
            "Epoch 8/20\n",
            "86/86 [==============================] - 0s 441us/sample - loss: 2.3333 - accuracy: 0.3721 - val_loss: 2.6453 - val_accuracy: 0.3778\n",
            "Epoch 9/20\n",
            "86/86 [==============================] - 0s 416us/sample - loss: 2.2947 - accuracy: 0.3721 - val_loss: 2.6206 - val_accuracy: 0.3778\n",
            "Epoch 10/20\n",
            "86/86 [==============================] - 0s 447us/sample - loss: 2.2586 - accuracy: 0.3721 - val_loss: 2.5950 - val_accuracy: 0.3778\n",
            "Epoch 11/20\n",
            "86/86 [==============================] - 0s 398us/sample - loss: 2.2195 - accuracy: 0.3721 - val_loss: 2.5712 - val_accuracy: 0.3778\n",
            "Epoch 12/20\n",
            "86/86 [==============================] - 0s 470us/sample - loss: 2.1845 - accuracy: 0.3721 - val_loss: 2.5481 - val_accuracy: 0.3778\n",
            "Epoch 13/20\n",
            "86/86 [==============================] - 0s 467us/sample - loss: 2.1492 - accuracy: 0.3721 - val_loss: 2.5251 - val_accuracy: 0.3778\n",
            "Epoch 14/20\n",
            "86/86 [==============================] - 0s 443us/sample - loss: 2.1167 - accuracy: 0.3721 - val_loss: 2.5001 - val_accuracy: 0.3778\n",
            "Epoch 15/20\n",
            "86/86 [==============================] - 0s 447us/sample - loss: 2.0830 - accuracy: 0.3721 - val_loss: 2.4786 - val_accuracy: 0.3778\n",
            "Epoch 16/20\n",
            "86/86 [==============================] - 0s 460us/sample - loss: 2.0511 - accuracy: 0.3721 - val_loss: 2.4586 - val_accuracy: 0.3778\n",
            "Epoch 17/20\n",
            "86/86 [==============================] - 0s 469us/sample - loss: 2.0215 - accuracy: 0.3721 - val_loss: 2.4353 - val_accuracy: 0.3778\n",
            "Epoch 18/20\n",
            "86/86 [==============================] - 0s 444us/sample - loss: 1.9898 - accuracy: 0.3721 - val_loss: 2.4143 - val_accuracy: 0.3778\n",
            "Epoch 19/20\n",
            "86/86 [==============================] - 0s 504us/sample - loss: 1.9622 - accuracy: 0.3721 - val_loss: 2.3931 - val_accuracy: 0.3778\n",
            "Epoch 20/20\n",
            "86/86 [==============================] - 0s 449us/sample - loss: 1.9315 - accuracy: 0.3721 - val_loss: 2.3741 - val_accuracy: 0.3778\n",
            "Train on 86 samples, validate on 45 samples\n",
            "Epoch 1/20\n",
            "86/86 [==============================] - 0s 4ms/sample - loss: 2.6466 - accuracy: 0.4302 - val_loss: 3.1245 - val_accuracy: 0.3333\n",
            "Epoch 2/20\n",
            "86/86 [==============================] - 0s 447us/sample - loss: 2.6168 - accuracy: 0.4302 - val_loss: 3.0733 - val_accuracy: 0.3333\n",
            "Epoch 3/20\n",
            "86/86 [==============================] - 0s 436us/sample - loss: 2.5779 - accuracy: 0.4302 - val_loss: 3.0328 - val_accuracy: 0.3333\n",
            "Epoch 4/20\n",
            "86/86 [==============================] - 0s 384us/sample - loss: 2.5452 - accuracy: 0.4302 - val_loss: 2.9865 - val_accuracy: 0.3333\n",
            "Epoch 5/20\n",
            "86/86 [==============================] - 0s 438us/sample - loss: 2.5094 - accuracy: 0.4302 - val_loss: 2.9526 - val_accuracy: 0.3333\n",
            "Epoch 6/20\n",
            "86/86 [==============================] - 0s 424us/sample - loss: 2.4772 - accuracy: 0.4302 - val_loss: 2.9053 - val_accuracy: 0.3333\n",
            "Epoch 7/20\n",
            "86/86 [==============================] - 0s 486us/sample - loss: 2.4433 - accuracy: 0.4302 - val_loss: 2.8651 - val_accuracy: 0.3333\n",
            "Epoch 8/20\n",
            "86/86 [==============================] - 0s 424us/sample - loss: 2.4121 - accuracy: 0.4302 - val_loss: 2.8282 - val_accuracy: 0.3333\n",
            "Epoch 9/20\n",
            "86/86 [==============================] - 0s 434us/sample - loss: 2.3801 - accuracy: 0.4302 - val_loss: 2.7905 - val_accuracy: 0.3333\n",
            "Epoch 10/20\n",
            "86/86 [==============================] - 0s 458us/sample - loss: 2.3492 - accuracy: 0.4302 - val_loss: 2.7475 - val_accuracy: 0.3333\n",
            "Epoch 11/20\n",
            "86/86 [==============================] - 0s 418us/sample - loss: 2.3157 - accuracy: 0.4302 - val_loss: 2.7139 - val_accuracy: 0.3333\n",
            "Epoch 12/20\n",
            "86/86 [==============================] - 0s 448us/sample - loss: 2.2855 - accuracy: 0.4302 - val_loss: 2.6803 - val_accuracy: 0.3333\n",
            "Epoch 13/20\n",
            "86/86 [==============================] - 0s 526us/sample - loss: 2.2569 - accuracy: 0.4302 - val_loss: 2.6360 - val_accuracy: 0.3333\n",
            "Epoch 14/20\n",
            "86/86 [==============================] - 0s 444us/sample - loss: 2.2255 - accuracy: 0.4302 - val_loss: 2.5982 - val_accuracy: 0.3333\n",
            "Epoch 15/20\n",
            "86/86 [==============================] - 0s 455us/sample - loss: 2.1989 - accuracy: 0.4302 - val_loss: 2.5619 - val_accuracy: 0.3333\n",
            "Epoch 16/20\n",
            "86/86 [==============================] - 0s 447us/sample - loss: 2.1685 - accuracy: 0.4302 - val_loss: 2.5277 - val_accuracy: 0.3333\n",
            "Epoch 17/20\n",
            "86/86 [==============================] - 0s 429us/sample - loss: 2.1419 - accuracy: 0.4419 - val_loss: 2.4892 - val_accuracy: 0.3333\n",
            "Epoch 18/20\n",
            "86/86 [==============================] - 0s 464us/sample - loss: 2.1132 - accuracy: 0.4419 - val_loss: 2.4550 - val_accuracy: 0.3333\n",
            "Epoch 19/20\n",
            "86/86 [==============================] - 0s 437us/sample - loss: 2.0876 - accuracy: 0.4419 - val_loss: 2.4197 - val_accuracy: 0.3333\n",
            "Epoch 20/20\n",
            "86/86 [==============================] - 0s 419us/sample - loss: 2.0615 - accuracy: 0.4302 - val_loss: 2.3918 - val_accuracy: 0.3333\n",
            "Train on 86 samples, validate on 45 samples\n",
            "Epoch 1/20\n",
            "86/86 [==============================] - 0s 4ms/sample - loss: 3.9155 - accuracy: 0.2442 - val_loss: 3.0990 - val_accuracy: 0.4000\n",
            "Epoch 2/20\n",
            "86/86 [==============================] - 0s 512us/sample - loss: 3.8335 - accuracy: 0.2442 - val_loss: 3.0327 - val_accuracy: 0.4000\n",
            "Epoch 3/20\n",
            "86/86 [==============================] - 0s 431us/sample - loss: 3.7341 - accuracy: 0.2558 - val_loss: 2.9727 - val_accuracy: 0.4000\n",
            "Epoch 4/20\n",
            "86/86 [==============================] - 0s 446us/sample - loss: 3.6463 - accuracy: 0.2558 - val_loss: 2.9105 - val_accuracy: 0.4000\n",
            "Epoch 5/20\n",
            "86/86 [==============================] - 0s 421us/sample - loss: 3.5590 - accuracy: 0.2558 - val_loss: 2.8541 - val_accuracy: 0.4000\n",
            "Epoch 6/20\n",
            "86/86 [==============================] - 0s 406us/sample - loss: 3.4774 - accuracy: 0.2558 - val_loss: 2.7985 - val_accuracy: 0.4000\n",
            "Epoch 7/20\n",
            "86/86 [==============================] - 0s 416us/sample - loss: 3.3948 - accuracy: 0.2558 - val_loss: 2.7435 - val_accuracy: 0.3778\n",
            "Epoch 8/20\n",
            "86/86 [==============================] - 0s 413us/sample - loss: 3.3161 - accuracy: 0.2558 - val_loss: 2.6858 - val_accuracy: 0.3556\n",
            "Epoch 9/20\n",
            "86/86 [==============================] - 0s 452us/sample - loss: 3.2375 - accuracy: 0.2442 - val_loss: 2.6373 - val_accuracy: 0.3556\n",
            "Epoch 10/20\n",
            "86/86 [==============================] - 0s 468us/sample - loss: 3.1634 - accuracy: 0.2442 - val_loss: 2.5881 - val_accuracy: 0.3556\n",
            "Epoch 11/20\n",
            "86/86 [==============================] - 0s 411us/sample - loss: 3.0955 - accuracy: 0.2558 - val_loss: 2.5379 - val_accuracy: 0.3556\n",
            "Epoch 12/20\n",
            "86/86 [==============================] - 0s 497us/sample - loss: 3.0234 - accuracy: 0.2558 - val_loss: 2.4919 - val_accuracy: 0.3556\n",
            "Epoch 13/20\n",
            "86/86 [==============================] - 0s 454us/sample - loss: 2.9582 - accuracy: 0.2558 - val_loss: 2.4494 - val_accuracy: 0.3556\n",
            "Epoch 14/20\n",
            "86/86 [==============================] - 0s 459us/sample - loss: 2.8952 - accuracy: 0.2558 - val_loss: 2.4027 - val_accuracy: 0.3556\n",
            "Epoch 15/20\n",
            "86/86 [==============================] - 0s 482us/sample - loss: 2.8323 - accuracy: 0.2558 - val_loss: 2.3614 - val_accuracy: 0.3556\n",
            "Epoch 16/20\n",
            "86/86 [==============================] - 0s 441us/sample - loss: 2.7729 - accuracy: 0.2558 - val_loss: 2.3207 - val_accuracy: 0.3556\n",
            "Epoch 17/20\n",
            "86/86 [==============================] - 0s 464us/sample - loss: 2.7114 - accuracy: 0.2558 - val_loss: 2.2860 - val_accuracy: 0.3556\n",
            "Epoch 18/20\n",
            "86/86 [==============================] - 0s 454us/sample - loss: 2.6577 - accuracy: 0.2558 - val_loss: 2.2429 - val_accuracy: 0.3556\n",
            "Epoch 19/20\n",
            "86/86 [==============================] - 0s 450us/sample - loss: 2.5993 - accuracy: 0.2674 - val_loss: 2.2090 - val_accuracy: 0.3556\n",
            "Epoch 20/20\n",
            "86/86 [==============================] - 0s 445us/sample - loss: 2.5450 - accuracy: 0.2791 - val_loss: 2.1724 - val_accuracy: 0.3778\n",
            "Train on 86 samples, validate on 45 samples\n",
            "Epoch 1/20\n",
            "86/86 [==============================] - 0s 4ms/sample - loss: 2.2224 - accuracy: 0.3837 - val_loss: 2.3592 - val_accuracy: 0.3333\n",
            "Epoch 2/20\n",
            "86/86 [==============================] - 0s 445us/sample - loss: 2.1976 - accuracy: 0.3837 - val_loss: 2.3297 - val_accuracy: 0.3333\n",
            "Epoch 3/20\n",
            "86/86 [==============================] - 0s 445us/sample - loss: 2.1709 - accuracy: 0.3837 - val_loss: 2.2992 - val_accuracy: 0.3333\n",
            "Epoch 4/20\n",
            "86/86 [==============================] - 0s 435us/sample - loss: 2.1445 - accuracy: 0.3837 - val_loss: 2.2688 - val_accuracy: 0.3333\n",
            "Epoch 5/20\n",
            "86/86 [==============================] - 0s 446us/sample - loss: 2.1158 - accuracy: 0.3953 - val_loss: 2.2430 - val_accuracy: 0.3333\n",
            "Epoch 6/20\n",
            "86/86 [==============================] - 0s 451us/sample - loss: 2.0908 - accuracy: 0.4070 - val_loss: 2.2151 - val_accuracy: 0.3333\n",
            "Epoch 7/20\n",
            "86/86 [==============================] - 0s 415us/sample - loss: 2.0661 - accuracy: 0.4186 - val_loss: 2.1876 - val_accuracy: 0.3333\n",
            "Epoch 8/20\n",
            "86/86 [==============================] - 0s 456us/sample - loss: 2.0410 - accuracy: 0.4186 - val_loss: 2.1612 - val_accuracy: 0.3111\n",
            "Epoch 9/20\n",
            "86/86 [==============================] - 0s 451us/sample - loss: 2.0168 - accuracy: 0.4186 - val_loss: 2.1378 - val_accuracy: 0.3111\n",
            "Epoch 10/20\n",
            "86/86 [==============================] - 0s 438us/sample - loss: 1.9941 - accuracy: 0.3953 - val_loss: 2.1158 - val_accuracy: 0.3111\n",
            "Epoch 11/20\n",
            "86/86 [==============================] - 0s 447us/sample - loss: 1.9731 - accuracy: 0.3953 - val_loss: 2.0903 - val_accuracy: 0.3111\n",
            "Epoch 12/20\n",
            "86/86 [==============================] - 0s 478us/sample - loss: 1.9503 - accuracy: 0.3953 - val_loss: 2.0684 - val_accuracy: 0.3111\n",
            "Epoch 13/20\n",
            "86/86 [==============================] - 0s 439us/sample - loss: 1.9301 - accuracy: 0.3953 - val_loss: 2.0455 - val_accuracy: 0.3111\n",
            "Epoch 14/20\n",
            "86/86 [==============================] - 0s 409us/sample - loss: 1.9100 - accuracy: 0.3953 - val_loss: 2.0260 - val_accuracy: 0.3111\n",
            "Epoch 15/20\n",
            "86/86 [==============================] - 0s 379us/sample - loss: 1.8915 - accuracy: 0.3953 - val_loss: 2.0051 - val_accuracy: 0.3111\n",
            "Epoch 16/20\n",
            "86/86 [==============================] - 0s 427us/sample - loss: 1.8711 - accuracy: 0.3953 - val_loss: 1.9851 - val_accuracy: 0.3111\n",
            "Epoch 17/20\n",
            "86/86 [==============================] - 0s 481us/sample - loss: 1.8529 - accuracy: 0.3953 - val_loss: 1.9661 - val_accuracy: 0.3111\n",
            "Epoch 18/20\n",
            "86/86 [==============================] - 0s 441us/sample - loss: 1.8348 - accuracy: 0.3953 - val_loss: 1.9459 - val_accuracy: 0.3111\n",
            "Epoch 19/20\n",
            "86/86 [==============================] - 0s 552us/sample - loss: 1.8162 - accuracy: 0.3953 - val_loss: 1.9305 - val_accuracy: 0.3111\n",
            "Epoch 20/20\n",
            "86/86 [==============================] - 0s 437us/sample - loss: 1.7993 - accuracy: 0.3953 - val_loss: 1.9121 - val_accuracy: 0.3111\n",
            "Train on 86 samples, validate on 45 samples\n",
            "Epoch 1/20\n",
            "86/86 [==============================] - 0s 4ms/sample - loss: 2.3894 - accuracy: 0.3953 - val_loss: 2.2550 - val_accuracy: 0.3778\n",
            "Epoch 2/20\n",
            "86/86 [==============================] - 0s 457us/sample - loss: 2.3572 - accuracy: 0.4070 - val_loss: 2.2310 - val_accuracy: 0.3778\n",
            "Epoch 3/20\n",
            "86/86 [==============================] - 0s 450us/sample - loss: 2.3250 - accuracy: 0.4186 - val_loss: 2.2033 - val_accuracy: 0.3778\n",
            "Epoch 4/20\n",
            "86/86 [==============================] - 0s 505us/sample - loss: 2.2904 - accuracy: 0.4186 - val_loss: 2.1756 - val_accuracy: 0.3778\n",
            "Epoch 5/20\n",
            "86/86 [==============================] - 0s 457us/sample - loss: 2.2596 - accuracy: 0.4186 - val_loss: 2.1477 - val_accuracy: 0.3778\n",
            "Epoch 6/20\n",
            "86/86 [==============================] - 0s 446us/sample - loss: 2.2233 - accuracy: 0.4186 - val_loss: 2.1265 - val_accuracy: 0.3778\n",
            "Epoch 7/20\n",
            "86/86 [==============================] - 0s 428us/sample - loss: 2.1925 - accuracy: 0.4302 - val_loss: 2.1003 - val_accuracy: 0.3778\n",
            "Epoch 8/20\n",
            "86/86 [==============================] - 0s 475us/sample - loss: 2.1632 - accuracy: 0.4302 - val_loss: 2.0750 - val_accuracy: 0.3778\n",
            "Epoch 9/20\n",
            "86/86 [==============================] - 0s 442us/sample - loss: 2.1324 - accuracy: 0.4302 - val_loss: 2.0500 - val_accuracy: 0.3778\n",
            "Epoch 10/20\n",
            "86/86 [==============================] - 0s 447us/sample - loss: 2.0982 - accuracy: 0.4302 - val_loss: 2.0302 - val_accuracy: 0.3778\n",
            "Epoch 11/20\n",
            "86/86 [==============================] - 0s 413us/sample - loss: 2.0714 - accuracy: 0.4302 - val_loss: 2.0064 - val_accuracy: 0.3556\n",
            "Epoch 12/20\n",
            "86/86 [==============================] - 0s 480us/sample - loss: 2.0421 - accuracy: 0.4302 - val_loss: 1.9838 - val_accuracy: 0.3556\n",
            "Epoch 13/20\n",
            "86/86 [==============================] - 0s 444us/sample - loss: 2.0128 - accuracy: 0.4302 - val_loss: 1.9625 - val_accuracy: 0.3333\n",
            "Epoch 14/20\n",
            "86/86 [==============================] - 0s 427us/sample - loss: 1.9859 - accuracy: 0.4302 - val_loss: 1.9406 - val_accuracy: 0.3333\n",
            "Epoch 15/20\n",
            "86/86 [==============================] - 0s 461us/sample - loss: 1.9596 - accuracy: 0.4419 - val_loss: 1.9192 - val_accuracy: 0.3333\n",
            "Epoch 16/20\n",
            "86/86 [==============================] - 0s 473us/sample - loss: 1.9333 - accuracy: 0.4419 - val_loss: 1.8997 - val_accuracy: 0.3333\n",
            "Epoch 17/20\n",
            "86/86 [==============================] - 0s 482us/sample - loss: 1.9099 - accuracy: 0.4419 - val_loss: 1.8784 - val_accuracy: 0.3556\n",
            "Epoch 18/20\n",
            "86/86 [==============================] - 0s 480us/sample - loss: 1.8852 - accuracy: 0.4419 - val_loss: 1.8587 - val_accuracy: 0.3556\n",
            "Epoch 19/20\n",
            "86/86 [==============================] - 0s 562us/sample - loss: 1.8617 - accuracy: 0.4419 - val_loss: 1.8392 - val_accuracy: 0.3556\n",
            "Epoch 20/20\n",
            "86/86 [==============================] - 0s 632us/sample - loss: 1.8379 - accuracy: 0.4419 - val_loss: 1.8205 - val_accuracy: 0.3556\n"
          ],
          "name": "stdout"
        },
        {
          "output_type": "display_data",
          "data": {
            "text/html": [
              "<span style=\"color:#4527A0\"><h1 style=\"font-size:18px\">Trial complete</h1></span>"
            ],
            "text/plain": [
              "<IPython.core.display.HTML object>"
            ]
          },
          "metadata": {
            "tags": []
          }
        },
        {
          "output_type": "display_data",
          "data": {
            "text/html": [
              "<span style=\"color:#4527A0\"><h1 style=\"font-size:18px\">Trial summary</h1></span>"
            ],
            "text/plain": [
              "<IPython.core.display.HTML object>"
            ]
          },
          "metadata": {
            "tags": []
          }
        },
        {
          "output_type": "display_data",
          "data": {
            "text/html": [
              "<span style=\"color:#7E57C2\"><h2 style=\"font-size:16px\">Hp values:</h2></span>"
            ],
            "text/plain": [
              "<IPython.core.display.HTML object>"
            ]
          },
          "metadata": {
            "tags": []
          }
        },
        {
          "output_type": "display_data",
          "data": {
            "text/html": [
              "<span style=\"color:cyan\"> |-learning_rate: 0.0001</span>"
            ],
            "text/plain": [
              "<IPython.core.display.HTML object>"
            ]
          },
          "metadata": {
            "tags": []
          }
        },
        {
          "output_type": "display_data",
          "data": {
            "text/html": [
              "<span style=\"color:blue\"> |-momentum: 0.8</span>"
            ],
            "text/plain": [
              "<IPython.core.display.HTML object>"
            ]
          },
          "metadata": {
            "tags": []
          }
        },
        {
          "output_type": "display_data",
          "data": {
            "text/html": [
              "<span style=\"color:cyan\"> |-Score: 0.36444446444511414</span>"
            ],
            "text/plain": [
              "<IPython.core.display.HTML object>"
            ]
          },
          "metadata": {
            "tags": []
          }
        },
        {
          "output_type": "display_data",
          "data": {
            "text/html": [
              "<span style=\"color:cyan\"> |-Best step: 0</span>"
            ],
            "text/plain": [
              "<IPython.core.display.HTML object>"
            ]
          },
          "metadata": {
            "tags": []
          }
        },
        {
          "output_type": "stream",
          "text": [
            "Train on 86 samples, validate on 45 samples\n",
            "Epoch 1/20\n",
            "86/86 [==============================] - 0s 4ms/sample - loss: 1.8639 - accuracy: 0.3605 - val_loss: 1.7211 - val_accuracy: 0.3778\n",
            "Epoch 2/20\n",
            "86/86 [==============================] - 0s 441us/sample - loss: 1.7398 - accuracy: 0.3605 - val_loss: 1.6742 - val_accuracy: 0.3556\n",
            "Epoch 3/20\n",
            "86/86 [==============================] - 0s 457us/sample - loss: 1.6386 - accuracy: 0.3837 - val_loss: 1.6364 - val_accuracy: 0.3556\n",
            "Epoch 4/20\n",
            "86/86 [==============================] - 0s 468us/sample - loss: 1.5566 - accuracy: 0.3721 - val_loss: 1.6096 - val_accuracy: 0.3778\n",
            "Epoch 5/20\n",
            "86/86 [==============================] - 0s 426us/sample - loss: 1.4933 - accuracy: 0.3721 - val_loss: 1.5892 - val_accuracy: 0.3556\n",
            "Epoch 6/20\n",
            "86/86 [==============================] - 0s 448us/sample - loss: 1.4444 - accuracy: 0.3953 - val_loss: 1.5715 - val_accuracy: 0.3556\n",
            "Epoch 7/20\n",
            "86/86 [==============================] - 0s 415us/sample - loss: 1.4052 - accuracy: 0.4070 - val_loss: 1.5584 - val_accuracy: 0.3778\n",
            "Epoch 8/20\n",
            "86/86 [==============================] - 0s 463us/sample - loss: 1.3708 - accuracy: 0.4186 - val_loss: 1.5464 - val_accuracy: 0.3556\n",
            "Epoch 9/20\n",
            "86/86 [==============================] - 0s 507us/sample - loss: 1.3438 - accuracy: 0.4302 - val_loss: 1.5363 - val_accuracy: 0.3333\n",
            "Epoch 10/20\n",
            "86/86 [==============================] - 0s 479us/sample - loss: 1.3228 - accuracy: 0.4302 - val_loss: 1.5275 - val_accuracy: 0.3333\n",
            "Epoch 11/20\n",
            "86/86 [==============================] - 0s 778us/sample - loss: 1.3037 - accuracy: 0.4419 - val_loss: 1.5188 - val_accuracy: 0.3333\n",
            "Epoch 12/20\n",
            "86/86 [==============================] - 0s 615us/sample - loss: 1.2847 - accuracy: 0.4767 - val_loss: 1.5108 - val_accuracy: 0.3333\n",
            "Epoch 13/20\n",
            "86/86 [==============================] - 0s 505us/sample - loss: 1.2705 - accuracy: 0.4884 - val_loss: 1.5025 - val_accuracy: 0.3333\n",
            "Epoch 14/20\n",
            "86/86 [==============================] - 0s 527us/sample - loss: 1.2589 - accuracy: 0.4767 - val_loss: 1.4947 - val_accuracy: 0.3333\n",
            "Epoch 15/20\n",
            "86/86 [==============================] - 0s 441us/sample - loss: 1.2423 - accuracy: 0.4884 - val_loss: 1.4880 - val_accuracy: 0.3333\n",
            "Epoch 16/20\n",
            "86/86 [==============================] - 0s 475us/sample - loss: 1.2323 - accuracy: 0.4884 - val_loss: 1.4815 - val_accuracy: 0.3333\n",
            "Epoch 17/20\n",
            "86/86 [==============================] - 0s 484us/sample - loss: 1.2208 - accuracy: 0.4884 - val_loss: 1.4750 - val_accuracy: 0.3333\n",
            "Epoch 18/20\n",
            "86/86 [==============================] - 0s 473us/sample - loss: 1.2116 - accuracy: 0.4884 - val_loss: 1.4690 - val_accuracy: 0.3333\n",
            "Epoch 19/20\n",
            "86/86 [==============================] - 0s 501us/sample - loss: 1.2019 - accuracy: 0.5116 - val_loss: 1.4635 - val_accuracy: 0.3333\n",
            "Epoch 20/20\n",
            "86/86 [==============================] - 0s 417us/sample - loss: 1.1931 - accuracy: 0.5116 - val_loss: 1.4581 - val_accuracy: 0.3333\n",
            "Train on 86 samples, validate on 45 samples\n",
            "Epoch 1/20\n",
            "86/86 [==============================] - 0s 4ms/sample - loss: 2.3827 - accuracy: 0.4070 - val_loss: 2.5048 - val_accuracy: 0.3111\n",
            "Epoch 2/20\n",
            "86/86 [==============================] - 0s 565us/sample - loss: 2.2979 - accuracy: 0.4070 - val_loss: 2.4212 - val_accuracy: 0.3111\n",
            "Epoch 3/20\n",
            "86/86 [==============================] - 0s 468us/sample - loss: 2.2170 - accuracy: 0.4070 - val_loss: 2.3408 - val_accuracy: 0.3111\n",
            "Epoch 4/20\n",
            "86/86 [==============================] - 0s 471us/sample - loss: 2.1407 - accuracy: 0.4070 - val_loss: 2.2649 - val_accuracy: 0.3111\n",
            "Epoch 5/20\n",
            "86/86 [==============================] - 0s 439us/sample - loss: 2.0671 - accuracy: 0.4070 - val_loss: 2.1932 - val_accuracy: 0.3111\n",
            "Epoch 6/20\n",
            "86/86 [==============================] - 0s 447us/sample - loss: 1.9964 - accuracy: 0.4070 - val_loss: 2.1251 - val_accuracy: 0.3111\n",
            "Epoch 7/20\n",
            "86/86 [==============================] - 0s 470us/sample - loss: 1.9295 - accuracy: 0.4070 - val_loss: 2.0609 - val_accuracy: 0.3111\n",
            "Epoch 8/20\n",
            "86/86 [==============================] - 0s 484us/sample - loss: 1.8669 - accuracy: 0.4186 - val_loss: 1.9989 - val_accuracy: 0.2889\n",
            "Epoch 9/20\n",
            "86/86 [==============================] - 0s 467us/sample - loss: 1.8054 - accuracy: 0.4186 - val_loss: 1.9414 - val_accuracy: 0.2889\n",
            "Epoch 10/20\n",
            "86/86 [==============================] - 0s 438us/sample - loss: 1.7475 - accuracy: 0.4186 - val_loss: 1.8871 - val_accuracy: 0.2889\n",
            "Epoch 11/20\n",
            "86/86 [==============================] - 0s 439us/sample - loss: 1.6918 - accuracy: 0.4186 - val_loss: 1.8350 - val_accuracy: 0.2889\n",
            "Epoch 12/20\n",
            "86/86 [==============================] - 0s 459us/sample - loss: 1.6397 - accuracy: 0.4186 - val_loss: 1.7865 - val_accuracy: 0.2889\n",
            "Epoch 13/20\n",
            "86/86 [==============================] - 0s 435us/sample - loss: 1.5929 - accuracy: 0.4186 - val_loss: 1.7429 - val_accuracy: 0.2889\n",
            "Epoch 14/20\n",
            "86/86 [==============================] - 0s 475us/sample - loss: 1.5493 - accuracy: 0.4302 - val_loss: 1.7026 - val_accuracy: 0.2889\n",
            "Epoch 15/20\n",
            "86/86 [==============================] - 0s 569us/sample - loss: 1.5081 - accuracy: 0.4302 - val_loss: 1.6648 - val_accuracy: 0.2889\n",
            "Epoch 16/20\n",
            "86/86 [==============================] - 0s 522us/sample - loss: 1.4708 - accuracy: 0.4419 - val_loss: 1.6287 - val_accuracy: 0.2889\n",
            "Epoch 17/20\n",
            "86/86 [==============================] - 0s 456us/sample - loss: 1.4346 - accuracy: 0.4419 - val_loss: 1.5957 - val_accuracy: 0.3111\n",
            "Epoch 18/20\n",
            "86/86 [==============================] - 0s 475us/sample - loss: 1.4012 - accuracy: 0.4302 - val_loss: 1.5648 - val_accuracy: 0.3111\n",
            "Epoch 19/20\n",
            "86/86 [==============================] - 0s 423us/sample - loss: 1.3709 - accuracy: 0.4419 - val_loss: 1.5369 - val_accuracy: 0.3111\n",
            "Epoch 20/20\n",
            "86/86 [==============================] - 0s 443us/sample - loss: 1.3432 - accuracy: 0.4535 - val_loss: 1.5112 - val_accuracy: 0.2889\n",
            "Train on 86 samples, validate on 45 samples\n",
            "Epoch 1/20\n",
            "86/86 [==============================] - 0s 4ms/sample - loss: 1.7211 - accuracy: 0.3605 - val_loss: 1.8227 - val_accuracy: 0.3111\n",
            "Epoch 2/20\n",
            "86/86 [==============================] - 0s 458us/sample - loss: 1.6445 - accuracy: 0.4186 - val_loss: 1.7877 - val_accuracy: 0.3333\n",
            "Epoch 3/20\n",
            "86/86 [==============================] - 0s 470us/sample - loss: 1.5775 - accuracy: 0.4302 - val_loss: 1.7565 - val_accuracy: 0.3333\n",
            "Epoch 4/20\n",
            "86/86 [==============================] - 0s 476us/sample - loss: 1.5274 - accuracy: 0.4186 - val_loss: 1.7300 - val_accuracy: 0.3111\n",
            "Epoch 5/20\n",
            "86/86 [==============================] - 0s 478us/sample - loss: 1.4896 - accuracy: 0.4302 - val_loss: 1.7064 - val_accuracy: 0.3333\n",
            "Epoch 6/20\n",
            "86/86 [==============================] - 0s 456us/sample - loss: 1.4589 - accuracy: 0.4302 - val_loss: 1.6846 - val_accuracy: 0.3333\n",
            "Epoch 7/20\n",
            "86/86 [==============================] - 0s 464us/sample - loss: 1.4317 - accuracy: 0.4302 - val_loss: 1.6652 - val_accuracy: 0.3556\n",
            "Epoch 8/20\n",
            "86/86 [==============================] - 0s 457us/sample - loss: 1.4081 - accuracy: 0.4419 - val_loss: 1.6473 - val_accuracy: 0.3556\n",
            "Epoch 9/20\n",
            "86/86 [==============================] - 0s 465us/sample - loss: 1.3903 - accuracy: 0.4535 - val_loss: 1.6298 - val_accuracy: 0.3556\n",
            "Epoch 10/20\n",
            "86/86 [==============================] - 0s 476us/sample - loss: 1.3712 - accuracy: 0.4419 - val_loss: 1.6136 - val_accuracy: 0.3556\n",
            "Epoch 11/20\n",
            "86/86 [==============================] - 0s 500us/sample - loss: 1.3530 - accuracy: 0.4535 - val_loss: 1.5981 - val_accuracy: 0.3556\n",
            "Epoch 12/20\n",
            "86/86 [==============================] - 0s 434us/sample - loss: 1.3360 - accuracy: 0.4419 - val_loss: 1.5835 - val_accuracy: 0.3556\n",
            "Epoch 13/20\n",
            "86/86 [==============================] - 0s 431us/sample - loss: 1.3240 - accuracy: 0.4419 - val_loss: 1.5700 - val_accuracy: 0.3778\n",
            "Epoch 14/20\n",
            "86/86 [==============================] - 0s 445us/sample - loss: 1.3120 - accuracy: 0.4419 - val_loss: 1.5552 - val_accuracy: 0.3778\n",
            "Epoch 15/20\n",
            "86/86 [==============================] - 0s 465us/sample - loss: 1.2984 - accuracy: 0.4535 - val_loss: 1.5415 - val_accuracy: 0.3778\n",
            "Epoch 16/20\n",
            "86/86 [==============================] - 0s 418us/sample - loss: 1.2856 - accuracy: 0.4535 - val_loss: 1.5288 - val_accuracy: 0.3778\n",
            "Epoch 17/20\n",
            "86/86 [==============================] - 0s 461us/sample - loss: 1.2720 - accuracy: 0.4535 - val_loss: 1.5160 - val_accuracy: 0.3778\n",
            "Epoch 18/20\n",
            "86/86 [==============================] - 0s 448us/sample - loss: 1.2593 - accuracy: 0.4535 - val_loss: 1.5038 - val_accuracy: 0.3778\n",
            "Epoch 19/20\n",
            "86/86 [==============================] - 0s 542us/sample - loss: 1.2507 - accuracy: 0.4535 - val_loss: 1.4916 - val_accuracy: 0.4000\n",
            "Epoch 20/20\n",
            "86/86 [==============================] - 0s 446us/sample - loss: 1.2387 - accuracy: 0.4419 - val_loss: 1.4801 - val_accuracy: 0.4000\n",
            "Train on 86 samples, validate on 45 samples\n",
            "Epoch 1/20\n",
            "86/86 [==============================] - 0s 4ms/sample - loss: 1.6286 - accuracy: 0.3721 - val_loss: 1.7017 - val_accuracy: 0.3333\n",
            "Epoch 2/20\n",
            "86/86 [==============================] - 0s 486us/sample - loss: 1.5735 - accuracy: 0.3837 - val_loss: 1.6522 - val_accuracy: 0.3556\n",
            "Epoch 3/20\n",
            "86/86 [==============================] - 0s 486us/sample - loss: 1.5249 - accuracy: 0.3953 - val_loss: 1.6074 - val_accuracy: 0.3556\n",
            "Epoch 4/20\n",
            "86/86 [==============================] - 0s 434us/sample - loss: 1.4793 - accuracy: 0.3953 - val_loss: 1.5665 - val_accuracy: 0.3556\n",
            "Epoch 5/20\n",
            "86/86 [==============================] - 0s 433us/sample - loss: 1.4387 - accuracy: 0.3837 - val_loss: 1.5281 - val_accuracy: 0.3556\n",
            "Epoch 6/20\n",
            "86/86 [==============================] - 0s 532us/sample - loss: 1.3978 - accuracy: 0.3837 - val_loss: 1.4935 - val_accuracy: 0.3556\n",
            "Epoch 7/20\n",
            "86/86 [==============================] - 0s 494us/sample - loss: 1.3631 - accuracy: 0.4302 - val_loss: 1.4622 - val_accuracy: 0.3556\n",
            "Epoch 8/20\n",
            "86/86 [==============================] - 0s 481us/sample - loss: 1.3305 - accuracy: 0.4302 - val_loss: 1.4338 - val_accuracy: 0.3556\n",
            "Epoch 9/20\n",
            "86/86 [==============================] - 0s 504us/sample - loss: 1.3016 - accuracy: 0.4419 - val_loss: 1.4064 - val_accuracy: 0.3778\n",
            "Epoch 10/20\n",
            "86/86 [==============================] - 0s 411us/sample - loss: 1.2738 - accuracy: 0.4302 - val_loss: 1.3823 - val_accuracy: 0.3778\n",
            "Epoch 11/20\n",
            "86/86 [==============================] - 0s 428us/sample - loss: 1.2526 - accuracy: 0.4302 - val_loss: 1.3613 - val_accuracy: 0.3778\n",
            "Epoch 12/20\n",
            "86/86 [==============================] - 0s 535us/sample - loss: 1.2308 - accuracy: 0.4419 - val_loss: 1.3416 - val_accuracy: 0.3778\n",
            "Epoch 13/20\n",
            "86/86 [==============================] - 0s 464us/sample - loss: 1.2116 - accuracy: 0.4302 - val_loss: 1.3248 - val_accuracy: 0.3778\n",
            "Epoch 14/20\n",
            "86/86 [==============================] - 0s 462us/sample - loss: 1.1947 - accuracy: 0.4419 - val_loss: 1.3099 - val_accuracy: 0.4000\n",
            "Epoch 15/20\n",
            "86/86 [==============================] - 0s 454us/sample - loss: 1.1801 - accuracy: 0.4302 - val_loss: 1.2955 - val_accuracy: 0.4000\n",
            "Epoch 16/20\n",
            "86/86 [==============================] - 0s 481us/sample - loss: 1.1638 - accuracy: 0.4302 - val_loss: 1.2829 - val_accuracy: 0.3778\n",
            "Epoch 17/20\n",
            "86/86 [==============================] - 0s 440us/sample - loss: 1.1501 - accuracy: 0.4419 - val_loss: 1.2714 - val_accuracy: 0.3778\n",
            "Epoch 18/20\n",
            "86/86 [==============================] - 0s 469us/sample - loss: 1.1392 - accuracy: 0.4419 - val_loss: 1.2608 - val_accuracy: 0.3556\n",
            "Epoch 19/20\n",
            "86/86 [==============================] - 0s 460us/sample - loss: 1.1281 - accuracy: 0.4651 - val_loss: 1.2498 - val_accuracy: 0.3778\n",
            "Epoch 20/20\n",
            "86/86 [==============================] - 0s 451us/sample - loss: 1.1173 - accuracy: 0.4651 - val_loss: 1.2405 - val_accuracy: 0.3778\n",
            "Train on 86 samples, validate on 45 samples\n",
            "Epoch 1/20\n",
            "86/86 [==============================] - 0s 4ms/sample - loss: 1.7519 - accuracy: 0.4070 - val_loss: 1.3521 - val_accuracy: 0.4444\n",
            "Epoch 2/20\n",
            "86/86 [==============================] - 0s 507us/sample - loss: 1.7219 - accuracy: 0.4419 - val_loss: 1.3432 - val_accuracy: 0.4444\n",
            "Epoch 3/20\n",
            "86/86 [==============================] - 0s 511us/sample - loss: 1.6946 - accuracy: 0.4535 - val_loss: 1.3346 - val_accuracy: 0.4444\n",
            "Epoch 4/20\n",
            "86/86 [==============================] - 0s 566us/sample - loss: 1.6678 - accuracy: 0.4535 - val_loss: 1.3260 - val_accuracy: 0.4667\n",
            "Epoch 5/20\n",
            "86/86 [==============================] - 0s 469us/sample - loss: 1.6447 - accuracy: 0.4419 - val_loss: 1.3177 - val_accuracy: 0.4667\n",
            "Epoch 6/20\n",
            "86/86 [==============================] - 0s 459us/sample - loss: 1.6210 - accuracy: 0.4651 - val_loss: 1.3100 - val_accuracy: 0.4667\n",
            "Epoch 7/20\n",
            "86/86 [==============================] - 0s 522us/sample - loss: 1.6010 - accuracy: 0.4419 - val_loss: 1.3029 - val_accuracy: 0.4667\n",
            "Epoch 8/20\n",
            "86/86 [==============================] - 0s 462us/sample - loss: 1.5824 - accuracy: 0.4651 - val_loss: 1.2956 - val_accuracy: 0.4667\n",
            "Epoch 9/20\n",
            "86/86 [==============================] - 0s 515us/sample - loss: 1.5625 - accuracy: 0.4535 - val_loss: 1.2883 - val_accuracy: 0.4667\n",
            "Epoch 10/20\n",
            "86/86 [==============================] - 0s 472us/sample - loss: 1.5448 - accuracy: 0.4535 - val_loss: 1.2814 - val_accuracy: 0.4667\n",
            "Epoch 11/20\n",
            "86/86 [==============================] - 0s 524us/sample - loss: 1.5281 - accuracy: 0.4419 - val_loss: 1.2743 - val_accuracy: 0.4667\n",
            "Epoch 12/20\n",
            "86/86 [==============================] - 0s 473us/sample - loss: 1.5133 - accuracy: 0.4419 - val_loss: 1.2676 - val_accuracy: 0.4667\n",
            "Epoch 13/20\n",
            "86/86 [==============================] - 0s 445us/sample - loss: 1.4974 - accuracy: 0.4419 - val_loss: 1.2609 - val_accuracy: 0.4667\n",
            "Epoch 14/20\n",
            "86/86 [==============================] - 0s 484us/sample - loss: 1.4813 - accuracy: 0.4419 - val_loss: 1.2543 - val_accuracy: 0.4667\n",
            "Epoch 15/20\n",
            "86/86 [==============================] - 0s 581us/sample - loss: 1.4665 - accuracy: 0.4535 - val_loss: 1.2479 - val_accuracy: 0.4667\n",
            "Epoch 16/20\n",
            "86/86 [==============================] - 0s 480us/sample - loss: 1.4531 - accuracy: 0.4535 - val_loss: 1.2418 - val_accuracy: 0.4667\n",
            "Epoch 17/20\n",
            "86/86 [==============================] - 0s 537us/sample - loss: 1.4409 - accuracy: 0.4535 - val_loss: 1.2359 - val_accuracy: 0.4667\n",
            "Epoch 18/20\n",
            "86/86 [==============================] - 0s 584us/sample - loss: 1.4294 - accuracy: 0.4535 - val_loss: 1.2300 - val_accuracy: 0.4889\n",
            "Epoch 19/20\n",
            "86/86 [==============================] - 0s 498us/sample - loss: 1.4177 - accuracy: 0.4419 - val_loss: 1.2241 - val_accuracy: 0.4889\n",
            "Epoch 20/20\n",
            "86/86 [==============================] - 0s 546us/sample - loss: 1.4057 - accuracy: 0.4419 - val_loss: 1.2181 - val_accuracy: 0.5111\n"
          ],
          "name": "stdout"
        },
        {
          "output_type": "display_data",
          "data": {
            "text/html": [
              "<span style=\"color:#4527A0\"><h1 style=\"font-size:18px\">Trial complete</h1></span>"
            ],
            "text/plain": [
              "<IPython.core.display.HTML object>"
            ]
          },
          "metadata": {
            "tags": []
          }
        },
        {
          "output_type": "display_data",
          "data": {
            "text/html": [
              "<span style=\"color:#4527A0\"><h1 style=\"font-size:18px\">Trial summary</h1></span>"
            ],
            "text/plain": [
              "<IPython.core.display.HTML object>"
            ]
          },
          "metadata": {
            "tags": []
          }
        },
        {
          "output_type": "display_data",
          "data": {
            "text/html": [
              "<span style=\"color:#7E57C2\"><h2 style=\"font-size:16px\">Hp values:</h2></span>"
            ],
            "text/plain": [
              "<IPython.core.display.HTML object>"
            ]
          },
          "metadata": {
            "tags": []
          }
        },
        {
          "output_type": "display_data",
          "data": {
            "text/html": [
              "<span style=\"color:cyan\"> |-learning_rate: 0.001</span>"
            ],
            "text/plain": [
              "<IPython.core.display.HTML object>"
            ]
          },
          "metadata": {
            "tags": []
          }
        },
        {
          "output_type": "display_data",
          "data": {
            "text/html": [
              "<span style=\"color:blue\"> |-momentum: 0.1</span>"
            ],
            "text/plain": [
              "<IPython.core.display.HTML object>"
            ]
          },
          "metadata": {
            "tags": []
          }
        },
        {
          "output_type": "display_data",
          "data": {
            "text/html": [
              "<span style=\"color:cyan\"> |-Score: 0.4000000059604645</span>"
            ],
            "text/plain": [
              "<IPython.core.display.HTML object>"
            ]
          },
          "metadata": {
            "tags": []
          }
        },
        {
          "output_type": "display_data",
          "data": {
            "text/html": [
              "<span style=\"color:cyan\"> |-Best step: 0</span>"
            ],
            "text/plain": [
              "<IPython.core.display.HTML object>"
            ]
          },
          "metadata": {
            "tags": []
          }
        },
        {
          "output_type": "stream",
          "text": [
            "Train on 86 samples, validate on 45 samples\n",
            "Epoch 1/20\n",
            "86/86 [==============================] - 0s 4ms/sample - loss: 2.9642 - accuracy: 0.2907 - val_loss: 1.8988 - val_accuracy: 0.3333\n",
            "Epoch 2/20\n",
            "86/86 [==============================] - 0s 540us/sample - loss: 1.8986 - accuracy: 0.3605 - val_loss: 1.4280 - val_accuracy: 0.3778\n",
            "Epoch 3/20\n",
            "86/86 [==============================] - 0s 489us/sample - loss: 1.4499 - accuracy: 0.4186 - val_loss: 1.2219 - val_accuracy: 0.4222\n",
            "Epoch 4/20\n",
            "86/86 [==============================] - 0s 454us/sample - loss: 1.2679 - accuracy: 0.4535 - val_loss: 1.1365 - val_accuracy: 0.4222\n",
            "Epoch 5/20\n",
            "86/86 [==============================] - 0s 451us/sample - loss: 1.1419 - accuracy: 0.4535 - val_loss: 1.0681 - val_accuracy: 0.4222\n",
            "Epoch 6/20\n",
            "86/86 [==============================] - 0s 543us/sample - loss: 1.0442 - accuracy: 0.4884 - val_loss: 1.0396 - val_accuracy: 0.4444\n",
            "Epoch 7/20\n",
            "86/86 [==============================] - 0s 560us/sample - loss: 0.9924 - accuracy: 0.5233 - val_loss: 1.0079 - val_accuracy: 0.4667\n",
            "Epoch 8/20\n",
            "86/86 [==============================] - 0s 558us/sample - loss: 0.9719 - accuracy: 0.5465 - val_loss: 0.9903 - val_accuracy: 0.5111\n",
            "Epoch 9/20\n",
            "86/86 [==============================] - 0s 512us/sample - loss: 0.9487 - accuracy: 0.5698 - val_loss: 0.9829 - val_accuracy: 0.5111\n",
            "Epoch 10/20\n",
            "86/86 [==============================] - 0s 595us/sample - loss: 0.9287 - accuracy: 0.6163 - val_loss: 0.9687 - val_accuracy: 0.5333\n",
            "Epoch 11/20\n",
            "86/86 [==============================] - 0s 489us/sample - loss: 0.9143 - accuracy: 0.5581 - val_loss: 0.9642 - val_accuracy: 0.5333\n",
            "Epoch 12/20\n",
            "86/86 [==============================] - 0s 575us/sample - loss: 0.9060 - accuracy: 0.5814 - val_loss: 0.9552 - val_accuracy: 0.5556\n",
            "Epoch 13/20\n",
            "86/86 [==============================] - 0s 448us/sample - loss: 0.9030 - accuracy: 0.5698 - val_loss: 0.9609 - val_accuracy: 0.5111\n",
            "Epoch 14/20\n",
            "86/86 [==============================] - 0s 502us/sample - loss: 0.8882 - accuracy: 0.6163 - val_loss: 0.9450 - val_accuracy: 0.5111\n",
            "Epoch 15/20\n",
            "86/86 [==============================] - 0s 462us/sample - loss: 0.8828 - accuracy: 0.6279 - val_loss: 0.9476 - val_accuracy: 0.5556\n",
            "Epoch 16/20\n",
            "86/86 [==============================] - 0s 445us/sample - loss: 0.8760 - accuracy: 0.5814 - val_loss: 0.9492 - val_accuracy: 0.5333\n",
            "Epoch 17/20\n",
            "86/86 [==============================] - 0s 460us/sample - loss: 0.8641 - accuracy: 0.6279 - val_loss: 0.9325 - val_accuracy: 0.5333\n",
            "Epoch 18/20\n",
            "86/86 [==============================] - 0s 455us/sample - loss: 0.8687 - accuracy: 0.6047 - val_loss: 0.9386 - val_accuracy: 0.5333\n",
            "Epoch 19/20\n",
            "86/86 [==============================] - 0s 460us/sample - loss: 0.8630 - accuracy: 0.6279 - val_loss: 0.9341 - val_accuracy: 0.5556\n",
            "Epoch 20/20\n",
            "86/86 [==============================] - 0s 479us/sample - loss: 0.8541 - accuracy: 0.6395 - val_loss: 0.9343 - val_accuracy: 0.5556\n",
            "Train on 86 samples, validate on 45 samples\n",
            "Epoch 1/20\n",
            "86/86 [==============================] - 0s 4ms/sample - loss: 2.5065 - accuracy: 0.2907 - val_loss: 1.6879 - val_accuracy: 0.1556\n",
            "Epoch 2/20\n",
            "86/86 [==============================] - 0s 474us/sample - loss: 1.5586 - accuracy: 0.3372 - val_loss: 1.4385 - val_accuracy: 0.2444\n",
            "Epoch 3/20\n",
            "86/86 [==============================] - 0s 461us/sample - loss: 1.2414 - accuracy: 0.3721 - val_loss: 1.2919 - val_accuracy: 0.3333\n",
            "Epoch 4/20\n",
            "86/86 [==============================] - 0s 504us/sample - loss: 1.1553 - accuracy: 0.3837 - val_loss: 1.2432 - val_accuracy: 0.3556\n",
            "Epoch 5/20\n",
            "86/86 [==============================] - 0s 504us/sample - loss: 1.0999 - accuracy: 0.3953 - val_loss: 1.2095 - val_accuracy: 0.3333\n",
            "Epoch 6/20\n",
            "86/86 [==============================] - 0s 502us/sample - loss: 1.0720 - accuracy: 0.4186 - val_loss: 1.1872 - val_accuracy: 0.3111\n",
            "Epoch 7/20\n",
            "86/86 [==============================] - 0s 457us/sample - loss: 1.0503 - accuracy: 0.4419 - val_loss: 1.1731 - val_accuracy: 0.3778\n",
            "Epoch 8/20\n",
            "86/86 [==============================] - 0s 456us/sample - loss: 1.0291 - accuracy: 0.4535 - val_loss: 1.1636 - val_accuracy: 0.3778\n",
            "Epoch 9/20\n",
            "86/86 [==============================] - 0s 478us/sample - loss: 1.0135 - accuracy: 0.4419 - val_loss: 1.1531 - val_accuracy: 0.4000\n",
            "Epoch 10/20\n",
            "86/86 [==============================] - 0s 452us/sample - loss: 0.9961 - accuracy: 0.4767 - val_loss: 1.1448 - val_accuracy: 0.4000\n",
            "Epoch 11/20\n",
            "86/86 [==============================] - 0s 432us/sample - loss: 0.9854 - accuracy: 0.4651 - val_loss: 1.1392 - val_accuracy: 0.4222\n",
            "Epoch 12/20\n",
            "86/86 [==============================] - 0s 473us/sample - loss: 0.9740 - accuracy: 0.4535 - val_loss: 1.1361 - val_accuracy: 0.4667\n",
            "Epoch 13/20\n",
            "86/86 [==============================] - 0s 473us/sample - loss: 0.9648 - accuracy: 0.4651 - val_loss: 1.1314 - val_accuracy: 0.4667\n",
            "Epoch 14/20\n",
            "86/86 [==============================] - 0s 412us/sample - loss: 0.9548 - accuracy: 0.5000 - val_loss: 1.1296 - val_accuracy: 0.4444\n",
            "Epoch 15/20\n",
            "86/86 [==============================] - 0s 461us/sample - loss: 0.9474 - accuracy: 0.4884 - val_loss: 1.1340 - val_accuracy: 0.4222\n",
            "Epoch 16/20\n",
            "86/86 [==============================] - 0s 452us/sample - loss: 0.9453 - accuracy: 0.5233 - val_loss: 1.1281 - val_accuracy: 0.4444\n",
            "Epoch 17/20\n",
            "86/86 [==============================] - 0s 441us/sample - loss: 0.9299 - accuracy: 0.5116 - val_loss: 1.1267 - val_accuracy: 0.4667\n",
            "Epoch 18/20\n",
            "86/86 [==============================] - 0s 487us/sample - loss: 0.9237 - accuracy: 0.5233 - val_loss: 1.1341 - val_accuracy: 0.4444\n",
            "Epoch 19/20\n",
            "86/86 [==============================] - 0s 464us/sample - loss: 0.9220 - accuracy: 0.5116 - val_loss: 1.1327 - val_accuracy: 0.4222\n",
            "Epoch 20/20\n",
            "86/86 [==============================] - 0s 482us/sample - loss: 0.9132 - accuracy: 0.5233 - val_loss: 1.1248 - val_accuracy: 0.4000\n",
            "Train on 86 samples, validate on 45 samples\n",
            "Epoch 1/20\n",
            "86/86 [==============================] - 0s 4ms/sample - loss: 1.7793 - accuracy: 0.4535 - val_loss: 1.5328 - val_accuracy: 0.4667\n",
            "Epoch 2/20\n",
            "86/86 [==============================] - 0s 531us/sample - loss: 1.2341 - accuracy: 0.4651 - val_loss: 1.4255 - val_accuracy: 0.4444\n",
            "Epoch 3/20\n",
            "86/86 [==============================] - 0s 504us/sample - loss: 1.1173 - accuracy: 0.5349 - val_loss: 1.2911 - val_accuracy: 0.5111\n",
            "Epoch 4/20\n",
            "86/86 [==============================] - 0s 478us/sample - loss: 1.0448 - accuracy: 0.5581 - val_loss: 1.2567 - val_accuracy: 0.5333\n",
            "Epoch 5/20\n",
            "86/86 [==============================] - 0s 428us/sample - loss: 1.0044 - accuracy: 0.6047 - val_loss: 1.2101 - val_accuracy: 0.4889\n",
            "Epoch 6/20\n",
            "86/86 [==============================] - 0s 438us/sample - loss: 0.9749 - accuracy: 0.6395 - val_loss: 1.2127 - val_accuracy: 0.4889\n",
            "Epoch 7/20\n",
            "86/86 [==============================] - 0s 444us/sample - loss: 0.9549 - accuracy: 0.6163 - val_loss: 1.1857 - val_accuracy: 0.5111\n",
            "Epoch 8/20\n",
            "86/86 [==============================] - 0s 465us/sample - loss: 0.9490 - accuracy: 0.6279 - val_loss: 1.1828 - val_accuracy: 0.5111\n",
            "Epoch 9/20\n",
            "86/86 [==============================] - 0s 491us/sample - loss: 0.9359 - accuracy: 0.6512 - val_loss: 1.1947 - val_accuracy: 0.5333\n",
            "Epoch 10/20\n",
            "86/86 [==============================] - 0s 485us/sample - loss: 0.9253 - accuracy: 0.6163 - val_loss: 1.1682 - val_accuracy: 0.5333\n",
            "Epoch 11/20\n",
            "86/86 [==============================] - 0s 492us/sample - loss: 0.9023 - accuracy: 0.6279 - val_loss: 1.1635 - val_accuracy: 0.5556\n",
            "Epoch 12/20\n",
            "86/86 [==============================] - 0s 513us/sample - loss: 0.8869 - accuracy: 0.6279 - val_loss: 1.1542 - val_accuracy: 0.5556\n",
            "Epoch 13/20\n",
            "86/86 [==============================] - 0s 519us/sample - loss: 0.8913 - accuracy: 0.6512 - val_loss: 1.1489 - val_accuracy: 0.5556\n",
            "Epoch 14/20\n",
            "86/86 [==============================] - 0s 485us/sample - loss: 0.8836 - accuracy: 0.6395 - val_loss: 1.1521 - val_accuracy: 0.5333\n",
            "Epoch 15/20\n",
            "86/86 [==============================] - 0s 484us/sample - loss: 0.8778 - accuracy: 0.6628 - val_loss: 1.1451 - val_accuracy: 0.5333\n",
            "Epoch 16/20\n",
            "86/86 [==============================] - 0s 477us/sample - loss: 0.8765 - accuracy: 0.6512 - val_loss: 1.1511 - val_accuracy: 0.5333\n",
            "Epoch 17/20\n",
            "86/86 [==============================] - 0s 475us/sample - loss: 0.8707 - accuracy: 0.6628 - val_loss: 1.1319 - val_accuracy: 0.5333\n",
            "Epoch 18/20\n",
            "86/86 [==============================] - 0s 426us/sample - loss: 0.8675 - accuracy: 0.6860 - val_loss: 1.1402 - val_accuracy: 0.5556\n",
            "Epoch 19/20\n",
            "86/86 [==============================] - 0s 542us/sample - loss: 0.8725 - accuracy: 0.6628 - val_loss: 1.1362 - val_accuracy: 0.5778\n",
            "Epoch 20/20\n",
            "86/86 [==============================] - 0s 416us/sample - loss: 0.8748 - accuracy: 0.6512 - val_loss: 1.1403 - val_accuracy: 0.5556\n",
            "Train on 86 samples, validate on 45 samples\n",
            "Epoch 1/20\n",
            "86/86 [==============================] - 0s 4ms/sample - loss: 2.1270 - accuracy: 0.5116 - val_loss: 1.7139 - val_accuracy: 0.3333\n",
            "Epoch 2/20\n",
            "86/86 [==============================] - 0s 430us/sample - loss: 1.5998 - accuracy: 0.5233 - val_loss: 1.5092 - val_accuracy: 0.4000\n",
            "Epoch 3/20\n",
            "86/86 [==============================] - 0s 428us/sample - loss: 1.3503 - accuracy: 0.5116 - val_loss: 1.3912 - val_accuracy: 0.4222\n",
            "Epoch 4/20\n",
            "86/86 [==============================] - 0s 410us/sample - loss: 1.2155 - accuracy: 0.5233 - val_loss: 1.3249 - val_accuracy: 0.4222\n",
            "Epoch 5/20\n",
            "86/86 [==============================] - 0s 483us/sample - loss: 1.1374 - accuracy: 0.5349 - val_loss: 1.2765 - val_accuracy: 0.4444\n",
            "Epoch 6/20\n",
            "86/86 [==============================] - 0s 437us/sample - loss: 1.0831 - accuracy: 0.5581 - val_loss: 1.2330 - val_accuracy: 0.4444\n",
            "Epoch 7/20\n",
            "86/86 [==============================] - 0s 456us/sample - loss: 1.0417 - accuracy: 0.5814 - val_loss: 1.2091 - val_accuracy: 0.4667\n",
            "Epoch 8/20\n",
            "86/86 [==============================] - 0s 468us/sample - loss: 1.0169 - accuracy: 0.5814 - val_loss: 1.1825 - val_accuracy: 0.4667\n",
            "Epoch 9/20\n",
            "86/86 [==============================] - 0s 437us/sample - loss: 0.9884 - accuracy: 0.5930 - val_loss: 1.1646 - val_accuracy: 0.4667\n",
            "Epoch 10/20\n",
            "86/86 [==============================] - 0s 396us/sample - loss: 0.9745 - accuracy: 0.5814 - val_loss: 1.1483 - val_accuracy: 0.4667\n",
            "Epoch 11/20\n",
            "86/86 [==============================] - 0s 429us/sample - loss: 0.9569 - accuracy: 0.5581 - val_loss: 1.1427 - val_accuracy: 0.4667\n",
            "Epoch 12/20\n",
            "86/86 [==============================] - 0s 453us/sample - loss: 0.9465 - accuracy: 0.5814 - val_loss: 1.1335 - val_accuracy: 0.4667\n",
            "Epoch 13/20\n",
            "86/86 [==============================] - 0s 416us/sample - loss: 0.9302 - accuracy: 0.5930 - val_loss: 1.1258 - val_accuracy: 0.4667\n",
            "Epoch 14/20\n",
            "86/86 [==============================] - 0s 437us/sample - loss: 0.9191 - accuracy: 0.5814 - val_loss: 1.1204 - val_accuracy: 0.4667\n",
            "Epoch 15/20\n",
            "86/86 [==============================] - 0s 438us/sample - loss: 0.9106 - accuracy: 0.6047 - val_loss: 1.1181 - val_accuracy: 0.4667\n",
            "Epoch 16/20\n",
            "86/86 [==============================] - 0s 434us/sample - loss: 0.9019 - accuracy: 0.5930 - val_loss: 1.1160 - val_accuracy: 0.4667\n",
            "Epoch 17/20\n",
            "86/86 [==============================] - 0s 449us/sample - loss: 0.8956 - accuracy: 0.6047 - val_loss: 1.1200 - val_accuracy: 0.4667\n",
            "Epoch 18/20\n",
            "86/86 [==============================] - 0s 448us/sample - loss: 0.8873 - accuracy: 0.5814 - val_loss: 1.1200 - val_accuracy: 0.4667\n",
            "Epoch 19/20\n",
            "86/86 [==============================] - 0s 460us/sample - loss: 0.8753 - accuracy: 0.5930 - val_loss: 1.1119 - val_accuracy: 0.4667\n",
            "Epoch 20/20\n",
            "86/86 [==============================] - 0s 454us/sample - loss: 0.8720 - accuracy: 0.6163 - val_loss: 1.1099 - val_accuracy: 0.4667\n",
            "Train on 86 samples, validate on 45 samples\n",
            "Epoch 1/20\n",
            "86/86 [==============================] - 0s 4ms/sample - loss: 2.0817 - accuracy: 0.4767 - val_loss: 1.9335 - val_accuracy: 0.4000\n",
            "Epoch 2/20\n",
            "86/86 [==============================] - 0s 441us/sample - loss: 1.5326 - accuracy: 0.5349 - val_loss: 1.5718 - val_accuracy: 0.5111\n",
            "Epoch 3/20\n",
            "86/86 [==============================] - 0s 405us/sample - loss: 1.2592 - accuracy: 0.5814 - val_loss: 1.4041 - val_accuracy: 0.5556\n",
            "Epoch 4/20\n",
            "86/86 [==============================] - 0s 497us/sample - loss: 1.1514 - accuracy: 0.5814 - val_loss: 1.3218 - val_accuracy: 0.5556\n",
            "Epoch 5/20\n",
            "86/86 [==============================] - 0s 430us/sample - loss: 1.0418 - accuracy: 0.5814 - val_loss: 1.2792 - val_accuracy: 0.5556\n",
            "Epoch 6/20\n",
            "86/86 [==============================] - 0s 458us/sample - loss: 0.9833 - accuracy: 0.6512 - val_loss: 1.2324 - val_accuracy: 0.5778\n",
            "Epoch 7/20\n",
            "86/86 [==============================] - 0s 432us/sample - loss: 0.9492 - accuracy: 0.6860 - val_loss: 1.2222 - val_accuracy: 0.5556\n",
            "Epoch 8/20\n",
            "86/86 [==============================] - 0s 446us/sample - loss: 0.9282 - accuracy: 0.6977 - val_loss: 1.1931 - val_accuracy: 0.5778\n",
            "Epoch 9/20\n",
            "86/86 [==============================] - 0s 420us/sample - loss: 0.9142 - accuracy: 0.6977 - val_loss: 1.2105 - val_accuracy: 0.4889\n",
            "Epoch 10/20\n",
            "86/86 [==============================] - 0s 448us/sample - loss: 0.9070 - accuracy: 0.7093 - val_loss: 1.1686 - val_accuracy: 0.5556\n",
            "Epoch 11/20\n",
            "86/86 [==============================] - 0s 505us/sample - loss: 0.8832 - accuracy: 0.6977 - val_loss: 1.1567 - val_accuracy: 0.5556\n",
            "Epoch 12/20\n",
            "86/86 [==============================] - 0s 462us/sample - loss: 0.8775 - accuracy: 0.6860 - val_loss: 1.1533 - val_accuracy: 0.5778\n",
            "Epoch 13/20\n",
            "86/86 [==============================] - 0s 428us/sample - loss: 0.8584 - accuracy: 0.6860 - val_loss: 1.1446 - val_accuracy: 0.5778\n",
            "Epoch 14/20\n",
            "86/86 [==============================] - 0s 442us/sample - loss: 0.8523 - accuracy: 0.6744 - val_loss: 1.1370 - val_accuracy: 0.5778\n",
            "Epoch 15/20\n",
            "86/86 [==============================] - 0s 441us/sample - loss: 0.8520 - accuracy: 0.6977 - val_loss: 1.1282 - val_accuracy: 0.5778\n",
            "Epoch 16/20\n",
            "86/86 [==============================] - 0s 475us/sample - loss: 0.8403 - accuracy: 0.7093 - val_loss: 1.1318 - val_accuracy: 0.5778\n",
            "Epoch 17/20\n",
            "86/86 [==============================] - 0s 435us/sample - loss: 0.8395 - accuracy: 0.6860 - val_loss: 1.1256 - val_accuracy: 0.5778\n",
            "Epoch 18/20\n",
            "86/86 [==============================] - 0s 449us/sample - loss: 0.8244 - accuracy: 0.6977 - val_loss: 1.1134 - val_accuracy: 0.5778\n",
            "Epoch 19/20\n",
            "86/86 [==============================] - 0s 482us/sample - loss: 0.8338 - accuracy: 0.6860 - val_loss: 1.1060 - val_accuracy: 0.5778\n",
            "Epoch 20/20\n",
            "86/86 [==============================] - 0s 453us/sample - loss: 0.8215 - accuracy: 0.7093 - val_loss: 1.1227 - val_accuracy: 0.5778\n"
          ],
          "name": "stdout"
        },
        {
          "output_type": "display_data",
          "data": {
            "text/html": [
              "<span style=\"color:#4527A0\"><h1 style=\"font-size:18px\">Trial complete</h1></span>"
            ],
            "text/plain": [
              "<IPython.core.display.HTML object>"
            ]
          },
          "metadata": {
            "tags": []
          }
        },
        {
          "output_type": "display_data",
          "data": {
            "text/html": [
              "<span style=\"color:#4527A0\"><h1 style=\"font-size:18px\">Trial summary</h1></span>"
            ],
            "text/plain": [
              "<IPython.core.display.HTML object>"
            ]
          },
          "metadata": {
            "tags": []
          }
        },
        {
          "output_type": "display_data",
          "data": {
            "text/html": [
              "<span style=\"color:#7E57C2\"><h2 style=\"font-size:16px\">Hp values:</h2></span>"
            ],
            "text/plain": [
              "<IPython.core.display.HTML object>"
            ]
          },
          "metadata": {
            "tags": []
          }
        },
        {
          "output_type": "display_data",
          "data": {
            "text/html": [
              "<span style=\"color:cyan\"> |-learning_rate: 0.01</span>"
            ],
            "text/plain": [
              "<IPython.core.display.HTML object>"
            ]
          },
          "metadata": {
            "tags": []
          }
        },
        {
          "output_type": "display_data",
          "data": {
            "text/html": [
              "<span style=\"color:blue\"> |-momentum: 0.4</span>"
            ],
            "text/plain": [
              "<IPython.core.display.HTML object>"
            ]
          },
          "metadata": {
            "tags": []
          }
        },
        {
          "output_type": "display_data",
          "data": {
            "text/html": [
              "<span style=\"color:cyan\"> |-Score: 0.5288889408111572</span>"
            ],
            "text/plain": [
              "<IPython.core.display.HTML object>"
            ]
          },
          "metadata": {
            "tags": []
          }
        },
        {
          "output_type": "display_data",
          "data": {
            "text/html": [
              "<span style=\"color:cyan\"> |-Best step: 0</span>"
            ],
            "text/plain": [
              "<IPython.core.display.HTML object>"
            ]
          },
          "metadata": {
            "tags": []
          }
        },
        {
          "output_type": "stream",
          "text": [
            "Train on 86 samples, validate on 45 samples\n",
            "Epoch 1/20\n",
            "86/86 [==============================] - 0s 4ms/sample - loss: 1.8361 - accuracy: 0.4302 - val_loss: 1.3278 - val_accuracy: 0.4444\n",
            "Epoch 2/20\n",
            "86/86 [==============================] - 0s 534us/sample - loss: 1.3367 - accuracy: 0.4070 - val_loss: 1.1417 - val_accuracy: 0.5111\n",
            "Epoch 3/20\n",
            "86/86 [==============================] - 0s 477us/sample - loss: 1.1766 - accuracy: 0.4884 - val_loss: 1.1058 - val_accuracy: 0.4000\n",
            "Epoch 4/20\n",
            "86/86 [==============================] - 0s 447us/sample - loss: 1.1126 - accuracy: 0.5233 - val_loss: 1.0865 - val_accuracy: 0.4000\n",
            "Epoch 5/20\n",
            "86/86 [==============================] - 0s 438us/sample - loss: 1.0732 - accuracy: 0.5465 - val_loss: 1.0779 - val_accuracy: 0.4000\n",
            "Epoch 6/20\n",
            "86/86 [==============================] - 0s 445us/sample - loss: 1.0419 - accuracy: 0.5698 - val_loss: 1.0653 - val_accuracy: 0.4000\n",
            "Epoch 7/20\n",
            "86/86 [==============================] - 0s 429us/sample - loss: 1.0197 - accuracy: 0.5581 - val_loss: 1.0707 - val_accuracy: 0.4000\n",
            "Epoch 8/20\n",
            "86/86 [==============================] - 0s 444us/sample - loss: 1.0045 - accuracy: 0.5465 - val_loss: 1.0667 - val_accuracy: 0.4222\n",
            "Epoch 9/20\n",
            "86/86 [==============================] - 0s 460us/sample - loss: 0.9854 - accuracy: 0.5930 - val_loss: 1.0599 - val_accuracy: 0.4222\n",
            "Epoch 10/20\n",
            "86/86 [==============================] - 0s 456us/sample - loss: 0.9722 - accuracy: 0.5814 - val_loss: 1.0577 - val_accuracy: 0.4444\n",
            "Epoch 11/20\n",
            "86/86 [==============================] - 0s 441us/sample - loss: 0.9583 - accuracy: 0.6163 - val_loss: 1.0578 - val_accuracy: 0.4667\n",
            "Epoch 12/20\n",
            "86/86 [==============================] - 0s 408us/sample - loss: 0.9480 - accuracy: 0.6279 - val_loss: 1.0567 - val_accuracy: 0.4889\n",
            "Epoch 13/20\n",
            "86/86 [==============================] - 0s 434us/sample - loss: 0.9405 - accuracy: 0.6163 - val_loss: 1.0575 - val_accuracy: 0.4889\n",
            "Epoch 14/20\n",
            "86/86 [==============================] - 0s 431us/sample - loss: 0.9328 - accuracy: 0.6163 - val_loss: 1.0634 - val_accuracy: 0.4667\n",
            "Epoch 15/20\n",
            "86/86 [==============================] - 0s 408us/sample - loss: 0.9225 - accuracy: 0.6163 - val_loss: 1.0538 - val_accuracy: 0.5111\n",
            "Epoch 16/20\n",
            "86/86 [==============================] - 0s 419us/sample - loss: 0.9116 - accuracy: 0.6047 - val_loss: 1.0552 - val_accuracy: 0.5111\n",
            "Epoch 17/20\n",
            "86/86 [==============================] - 0s 493us/sample - loss: 0.9043 - accuracy: 0.6395 - val_loss: 1.0632 - val_accuracy: 0.5333\n",
            "Epoch 18/20\n",
            "86/86 [==============================] - 0s 484us/sample - loss: 0.8974 - accuracy: 0.6163 - val_loss: 1.0646 - val_accuracy: 0.5333\n",
            "Epoch 19/20\n",
            "86/86 [==============================] - 0s 479us/sample - loss: 0.8892 - accuracy: 0.6628 - val_loss: 1.0679 - val_accuracy: 0.5111\n",
            "Epoch 20/20\n",
            "86/86 [==============================] - 0s 410us/sample - loss: 0.8837 - accuracy: 0.6512 - val_loss: 1.0704 - val_accuracy: 0.5111\n",
            "Train on 86 samples, validate on 45 samples\n",
            "Epoch 1/20\n",
            "86/86 [==============================] - 0s 4ms/sample - loss: 2.8686 - accuracy: 0.4651 - val_loss: 1.7938 - val_accuracy: 0.4889\n",
            "Epoch 2/20\n",
            "86/86 [==============================] - 0s 425us/sample - loss: 2.2677 - accuracy: 0.4419 - val_loss: 1.4249 - val_accuracy: 0.4889\n",
            "Epoch 3/20\n",
            "86/86 [==============================] - 0s 465us/sample - loss: 1.8764 - accuracy: 0.4302 - val_loss: 1.2117 - val_accuracy: 0.5333\n",
            "Epoch 4/20\n",
            "86/86 [==============================] - 0s 441us/sample - loss: 1.6144 - accuracy: 0.4302 - val_loss: 1.0939 - val_accuracy: 0.4889\n",
            "Epoch 5/20\n",
            "86/86 [==============================] - 0s 424us/sample - loss: 1.4277 - accuracy: 0.4535 - val_loss: 1.0187 - val_accuracy: 0.4667\n",
            "Epoch 6/20\n",
            "86/86 [==============================] - 0s 471us/sample - loss: 1.2960 - accuracy: 0.4419 - val_loss: 0.9727 - val_accuracy: 0.4444\n",
            "Epoch 7/20\n",
            "86/86 [==============================] - 0s 454us/sample - loss: 1.2100 - accuracy: 0.4302 - val_loss: 0.9485 - val_accuracy: 0.5111\n",
            "Epoch 8/20\n",
            "86/86 [==============================] - 0s 578us/sample - loss: 1.1390 - accuracy: 0.4419 - val_loss: 0.9383 - val_accuracy: 0.5556\n",
            "Epoch 9/20\n",
            "86/86 [==============================] - 0s 507us/sample - loss: 1.0983 - accuracy: 0.4419 - val_loss: 0.9337 - val_accuracy: 0.5778\n",
            "Epoch 10/20\n",
            "86/86 [==============================] - 0s 524us/sample - loss: 1.0623 - accuracy: 0.5116 - val_loss: 0.9347 - val_accuracy: 0.6000\n",
            "Epoch 11/20\n",
            "86/86 [==============================] - 0s 434us/sample - loss: 1.0367 - accuracy: 0.5349 - val_loss: 0.9335 - val_accuracy: 0.5556\n",
            "Epoch 12/20\n",
            "86/86 [==============================] - 0s 438us/sample - loss: 1.0196 - accuracy: 0.5581 - val_loss: 0.9331 - val_accuracy: 0.5556\n",
            "Epoch 13/20\n",
            "86/86 [==============================] - 0s 446us/sample - loss: 1.0007 - accuracy: 0.5581 - val_loss: 0.9348 - val_accuracy: 0.5778\n",
            "Epoch 14/20\n",
            "86/86 [==============================] - 0s 511us/sample - loss: 0.9893 - accuracy: 0.5698 - val_loss: 0.9358 - val_accuracy: 0.5778\n",
            "Epoch 15/20\n",
            "86/86 [==============================] - 0s 456us/sample - loss: 0.9719 - accuracy: 0.5698 - val_loss: 0.9374 - val_accuracy: 0.5778\n",
            "Epoch 16/20\n",
            "86/86 [==============================] - 0s 444us/sample - loss: 0.9612 - accuracy: 0.5930 - val_loss: 0.9386 - val_accuracy: 0.5778\n",
            "Epoch 17/20\n",
            "86/86 [==============================] - 0s 453us/sample - loss: 0.9524 - accuracy: 0.5930 - val_loss: 0.9420 - val_accuracy: 0.6000\n",
            "Epoch 18/20\n",
            "86/86 [==============================] - 0s 440us/sample - loss: 0.9473 - accuracy: 0.6047 - val_loss: 0.9435 - val_accuracy: 0.5556\n",
            "Epoch 19/20\n",
            "86/86 [==============================] - 0s 455us/sample - loss: 0.9374 - accuracy: 0.5930 - val_loss: 0.9472 - val_accuracy: 0.5556\n",
            "Epoch 20/20\n",
            "86/86 [==============================] - 0s 445us/sample - loss: 0.9277 - accuracy: 0.6047 - val_loss: 0.9479 - val_accuracy: 0.5556\n",
            "Train on 86 samples, validate on 45 samples\n",
            "Epoch 1/20\n",
            "86/86 [==============================] - 0s 4ms/sample - loss: 1.5704 - accuracy: 0.4535 - val_loss: 1.1824 - val_accuracy: 0.4444\n",
            "Epoch 2/20\n",
            "86/86 [==============================] - 0s 458us/sample - loss: 1.3363 - accuracy: 0.4884 - val_loss: 1.0889 - val_accuracy: 0.4444\n",
            "Epoch 3/20\n",
            "86/86 [==============================] - 0s 410us/sample - loss: 1.1804 - accuracy: 0.4884 - val_loss: 1.0446 - val_accuracy: 0.5111\n",
            "Epoch 4/20\n",
            "86/86 [==============================] - 0s 394us/sample - loss: 1.1045 - accuracy: 0.4767 - val_loss: 1.0260 - val_accuracy: 0.4000\n",
            "Epoch 5/20\n",
            "86/86 [==============================] - 0s 437us/sample - loss: 1.0539 - accuracy: 0.4767 - val_loss: 1.0180 - val_accuracy: 0.4667\n",
            "Epoch 6/20\n",
            "86/86 [==============================] - 0s 430us/sample - loss: 1.0168 - accuracy: 0.5000 - val_loss: 1.0137 - val_accuracy: 0.4222\n",
            "Epoch 7/20\n",
            "86/86 [==============================] - 0s 445us/sample - loss: 0.9965 - accuracy: 0.5233 - val_loss: 1.0123 - val_accuracy: 0.4222\n",
            "Epoch 8/20\n",
            "86/86 [==============================] - 0s 437us/sample - loss: 0.9767 - accuracy: 0.5349 - val_loss: 1.0122 - val_accuracy: 0.4000\n",
            "Epoch 9/20\n",
            "86/86 [==============================] - 0s 462us/sample - loss: 0.9634 - accuracy: 0.5233 - val_loss: 1.0118 - val_accuracy: 0.4222\n",
            "Epoch 10/20\n",
            "86/86 [==============================] - 0s 446us/sample - loss: 0.9563 - accuracy: 0.5116 - val_loss: 1.0127 - val_accuracy: 0.4444\n",
            "Epoch 11/20\n",
            "86/86 [==============================] - 0s 467us/sample - loss: 0.9471 - accuracy: 0.5349 - val_loss: 1.0126 - val_accuracy: 0.4444\n",
            "Epoch 12/20\n",
            "86/86 [==============================] - 0s 439us/sample - loss: 0.9368 - accuracy: 0.5698 - val_loss: 1.0123 - val_accuracy: 0.4444\n",
            "Epoch 13/20\n",
            "86/86 [==============================] - 0s 453us/sample - loss: 0.9322 - accuracy: 0.5698 - val_loss: 1.0130 - val_accuracy: 0.4667\n",
            "Epoch 14/20\n",
            "86/86 [==============================] - 0s 429us/sample - loss: 0.9275 - accuracy: 0.5930 - val_loss: 1.0130 - val_accuracy: 0.4667\n",
            "Epoch 15/20\n",
            "86/86 [==============================] - 0s 437us/sample - loss: 0.9230 - accuracy: 0.5814 - val_loss: 1.0115 - val_accuracy: 0.4667\n",
            "Epoch 16/20\n",
            "86/86 [==============================] - 0s 410us/sample - loss: 0.9186 - accuracy: 0.5814 - val_loss: 1.0122 - val_accuracy: 0.4889\n",
            "Epoch 17/20\n",
            "86/86 [==============================] - 0s 414us/sample - loss: 0.9155 - accuracy: 0.5814 - val_loss: 1.0107 - val_accuracy: 0.4889\n",
            "Epoch 18/20\n",
            "86/86 [==============================] - 0s 444us/sample - loss: 0.9098 - accuracy: 0.5698 - val_loss: 1.0106 - val_accuracy: 0.4889\n",
            "Epoch 19/20\n",
            "86/86 [==============================] - 0s 434us/sample - loss: 0.9021 - accuracy: 0.6047 - val_loss: 1.0110 - val_accuracy: 0.4889\n",
            "Epoch 20/20\n",
            "86/86 [==============================] - 0s 430us/sample - loss: 0.9015 - accuracy: 0.5930 - val_loss: 1.0104 - val_accuracy: 0.4889\n",
            "Train on 86 samples, validate on 45 samples\n",
            "Epoch 1/20\n",
            "86/86 [==============================] - 0s 4ms/sample - loss: 3.1349 - accuracy: 0.3023 - val_loss: 2.2751 - val_accuracy: 0.3556\n",
            "Epoch 2/20\n",
            "86/86 [==============================] - 0s 464us/sample - loss: 2.3223 - accuracy: 0.3721 - val_loss: 1.8960 - val_accuracy: 0.3333\n",
            "Epoch 3/20\n",
            "86/86 [==============================] - 0s 465us/sample - loss: 1.9074 - accuracy: 0.4651 - val_loss: 1.6464 - val_accuracy: 0.3556\n",
            "Epoch 4/20\n",
            "86/86 [==============================] - 0s 447us/sample - loss: 1.6732 - accuracy: 0.4535 - val_loss: 1.4663 - val_accuracy: 0.3778\n",
            "Epoch 5/20\n",
            "86/86 [==============================] - 0s 449us/sample - loss: 1.4966 - accuracy: 0.4302 - val_loss: 1.3435 - val_accuracy: 0.3556\n",
            "Epoch 6/20\n",
            "86/86 [==============================] - 0s 457us/sample - loss: 1.3517 - accuracy: 0.4535 - val_loss: 1.2476 - val_accuracy: 0.3556\n",
            "Epoch 7/20\n",
            "86/86 [==============================] - 0s 458us/sample - loss: 1.2615 - accuracy: 0.4535 - val_loss: 1.1772 - val_accuracy: 0.4000\n",
            "Epoch 8/20\n",
            "86/86 [==============================] - 0s 495us/sample - loss: 1.1855 - accuracy: 0.4419 - val_loss: 1.1287 - val_accuracy: 0.4222\n",
            "Epoch 9/20\n",
            "86/86 [==============================] - 0s 435us/sample - loss: 1.1544 - accuracy: 0.4535 - val_loss: 1.0935 - val_accuracy: 0.4667\n",
            "Epoch 10/20\n",
            "86/86 [==============================] - 0s 547us/sample - loss: 1.0965 - accuracy: 0.5698 - val_loss: 1.0695 - val_accuracy: 0.4889\n",
            "Epoch 11/20\n",
            "86/86 [==============================] - 0s 447us/sample - loss: 1.0720 - accuracy: 0.5465 - val_loss: 1.0532 - val_accuracy: 0.5111\n",
            "Epoch 12/20\n",
            "86/86 [==============================] - 0s 458us/sample - loss: 1.0406 - accuracy: 0.5581 - val_loss: 1.0430 - val_accuracy: 0.4889\n",
            "Epoch 13/20\n",
            "86/86 [==============================] - 0s 452us/sample - loss: 1.0282 - accuracy: 0.5581 - val_loss: 1.0317 - val_accuracy: 0.4889\n",
            "Epoch 14/20\n",
            "86/86 [==============================] - 0s 431us/sample - loss: 1.0139 - accuracy: 0.5698 - val_loss: 1.0240 - val_accuracy: 0.4889\n",
            "Epoch 15/20\n",
            "86/86 [==============================] - 0s 431us/sample - loss: 1.0108 - accuracy: 0.5814 - val_loss: 1.0163 - val_accuracy: 0.5111\n",
            "Epoch 16/20\n",
            "86/86 [==============================] - 0s 407us/sample - loss: 0.9915 - accuracy: 0.5814 - val_loss: 1.0136 - val_accuracy: 0.4889\n",
            "Epoch 17/20\n",
            "86/86 [==============================] - 0s 444us/sample - loss: 0.9861 - accuracy: 0.5698 - val_loss: 1.0134 - val_accuracy: 0.5111\n",
            "Epoch 18/20\n",
            "86/86 [==============================] - 0s 455us/sample - loss: 0.9804 - accuracy: 0.5581 - val_loss: 1.0106 - val_accuracy: 0.4889\n",
            "Epoch 19/20\n",
            "86/86 [==============================] - 0s 411us/sample - loss: 0.9623 - accuracy: 0.6047 - val_loss: 1.0080 - val_accuracy: 0.5111\n",
            "Epoch 20/20\n",
            "86/86 [==============================] - 0s 465us/sample - loss: 0.9673 - accuracy: 0.5930 - val_loss: 1.0061 - val_accuracy: 0.5111\n",
            "Train on 86 samples, validate on 45 samples\n",
            "Epoch 1/20\n",
            "86/86 [==============================] - 0s 4ms/sample - loss: 2.3115 - accuracy: 0.3256 - val_loss: 1.8999 - val_accuracy: 0.2889\n",
            "Epoch 2/20\n",
            "86/86 [==============================] - 0s 465us/sample - loss: 1.8204 - accuracy: 0.3605 - val_loss: 1.6141 - val_accuracy: 0.2889\n",
            "Epoch 3/20\n",
            "86/86 [==============================] - 0s 423us/sample - loss: 1.5678 - accuracy: 0.3953 - val_loss: 1.4555 - val_accuracy: 0.3333\n",
            "Epoch 4/20\n",
            "86/86 [==============================] - 0s 421us/sample - loss: 1.4305 - accuracy: 0.4419 - val_loss: 1.3638 - val_accuracy: 0.3778\n",
            "Epoch 5/20\n",
            "86/86 [==============================] - 0s 434us/sample - loss: 1.3289 - accuracy: 0.3721 - val_loss: 1.3022 - val_accuracy: 0.3556\n",
            "Epoch 6/20\n",
            "86/86 [==============================] - 0s 487us/sample - loss: 1.2569 - accuracy: 0.4186 - val_loss: 1.2577 - val_accuracy: 0.3556\n",
            "Epoch 7/20\n",
            "86/86 [==============================] - 0s 478us/sample - loss: 1.2121 - accuracy: 0.4419 - val_loss: 1.2247 - val_accuracy: 0.4000\n",
            "Epoch 8/20\n",
            "86/86 [==============================] - 0s 488us/sample - loss: 1.1749 - accuracy: 0.4419 - val_loss: 1.1992 - val_accuracy: 0.4000\n",
            "Epoch 9/20\n",
            "86/86 [==============================] - 0s 470us/sample - loss: 1.1404 - accuracy: 0.4535 - val_loss: 1.1788 - val_accuracy: 0.4000\n",
            "Epoch 10/20\n",
            "86/86 [==============================] - 0s 472us/sample - loss: 1.1132 - accuracy: 0.4884 - val_loss: 1.1642 - val_accuracy: 0.4222\n",
            "Epoch 11/20\n",
            "86/86 [==============================] - 0s 424us/sample - loss: 1.0978 - accuracy: 0.5116 - val_loss: 1.1496 - val_accuracy: 0.3778\n",
            "Epoch 12/20\n",
            "86/86 [==============================] - 0s 461us/sample - loss: 1.0744 - accuracy: 0.5233 - val_loss: 1.1389 - val_accuracy: 0.3778\n",
            "Epoch 13/20\n",
            "86/86 [==============================] - 0s 496us/sample - loss: 1.0568 - accuracy: 0.5233 - val_loss: 1.1296 - val_accuracy: 0.4222\n",
            "Epoch 14/20\n",
            "86/86 [==============================] - 0s 447us/sample - loss: 1.0427 - accuracy: 0.5233 - val_loss: 1.1231 - val_accuracy: 0.4444\n",
            "Epoch 15/20\n",
            "86/86 [==============================] - 0s 481us/sample - loss: 1.0312 - accuracy: 0.5349 - val_loss: 1.1158 - val_accuracy: 0.4222\n",
            "Epoch 16/20\n",
            "86/86 [==============================] - 0s 461us/sample - loss: 1.0188 - accuracy: 0.5465 - val_loss: 1.1093 - val_accuracy: 0.4222\n",
            "Epoch 17/20\n",
            "86/86 [==============================] - 0s 385us/sample - loss: 1.0124 - accuracy: 0.5349 - val_loss: 1.1012 - val_accuracy: 0.3556\n",
            "Epoch 18/20\n",
            "86/86 [==============================] - 0s 386us/sample - loss: 0.9979 - accuracy: 0.5581 - val_loss: 1.0956 - val_accuracy: 0.3556\n",
            "Epoch 19/20\n",
            "86/86 [==============================] - 0s 438us/sample - loss: 0.9834 - accuracy: 0.5698 - val_loss: 1.0895 - val_accuracy: 0.4000\n",
            "Epoch 20/20\n",
            "86/86 [==============================] - 0s 434us/sample - loss: 0.9788 - accuracy: 0.5581 - val_loss: 1.0862 - val_accuracy: 0.4000\n"
          ],
          "name": "stdout"
        },
        {
          "output_type": "display_data",
          "data": {
            "text/html": [
              "<span style=\"color:#4527A0\"><h1 style=\"font-size:18px\">Trial complete</h1></span>"
            ],
            "text/plain": [
              "<IPython.core.display.HTML object>"
            ]
          },
          "metadata": {
            "tags": []
          }
        },
        {
          "output_type": "display_data",
          "data": {
            "text/html": [
              "<span style=\"color:#4527A0\"><h1 style=\"font-size:18px\">Trial summary</h1></span>"
            ],
            "text/plain": [
              "<IPython.core.display.HTML object>"
            ]
          },
          "metadata": {
            "tags": []
          }
        },
        {
          "output_type": "display_data",
          "data": {
            "text/html": [
              "<span style=\"color:#7E57C2\"><h2 style=\"font-size:16px\">Hp values:</h2></span>"
            ],
            "text/plain": [
              "<IPython.core.display.HTML object>"
            ]
          },
          "metadata": {
            "tags": []
          }
        },
        {
          "output_type": "display_data",
          "data": {
            "text/html": [
              "<span style=\"color:cyan\"> |-learning_rate: 0.01</span>"
            ],
            "text/plain": [
              "<IPython.core.display.HTML object>"
            ]
          },
          "metadata": {
            "tags": []
          }
        },
        {
          "output_type": "display_data",
          "data": {
            "text/html": [
              "<span style=\"color:blue\"> |-momentum: 0.0</span>"
            ],
            "text/plain": [
              "<IPython.core.display.HTML object>"
            ]
          },
          "metadata": {
            "tags": []
          }
        },
        {
          "output_type": "display_data",
          "data": {
            "text/html": [
              "<span style=\"color:cyan\"> |-Score: 0.5200000405311584</span>"
            ],
            "text/plain": [
              "<IPython.core.display.HTML object>"
            ]
          },
          "metadata": {
            "tags": []
          }
        },
        {
          "output_type": "display_data",
          "data": {
            "text/html": [
              "<span style=\"color:cyan\"> |-Best step: 0</span>"
            ],
            "text/plain": [
              "<IPython.core.display.HTML object>"
            ]
          },
          "metadata": {
            "tags": []
          }
        },
        {
          "output_type": "stream",
          "text": [
            "Train on 86 samples, validate on 45 samples\n",
            "Epoch 1/20\n",
            "86/86 [==============================] - 0s 4ms/sample - loss: 4.0531 - accuracy: 0.1163 - val_loss: 3.3584 - val_accuracy: 0.1556\n",
            "Epoch 2/20\n",
            "86/86 [==============================] - 0s 489us/sample - loss: 3.7760 - accuracy: 0.1047 - val_loss: 3.1846 - val_accuracy: 0.2222\n",
            "Epoch 3/20\n",
            "86/86 [==============================] - 0s 470us/sample - loss: 3.5187 - accuracy: 0.1279 - val_loss: 3.0219 - val_accuracy: 0.2444\n",
            "Epoch 4/20\n",
            "86/86 [==============================] - 0s 432us/sample - loss: 3.2854 - accuracy: 0.1512 - val_loss: 2.8732 - val_accuracy: 0.2444\n",
            "Epoch 5/20\n",
            "86/86 [==============================] - 0s 376us/sample - loss: 3.0865 - accuracy: 0.1512 - val_loss: 2.7369 - val_accuracy: 0.2444\n",
            "Epoch 6/20\n",
            "86/86 [==============================] - 0s 381us/sample - loss: 2.9089 - accuracy: 0.1628 - val_loss: 2.6116 - val_accuracy: 0.2444\n",
            "Epoch 7/20\n",
            "86/86 [==============================] - 0s 402us/sample - loss: 2.7533 - accuracy: 0.1744 - val_loss: 2.4976 - val_accuracy: 0.2444\n",
            "Epoch 8/20\n",
            "86/86 [==============================] - 0s 408us/sample - loss: 2.6183 - accuracy: 0.1860 - val_loss: 2.3929 - val_accuracy: 0.2444\n",
            "Epoch 9/20\n",
            "86/86 [==============================] - 0s 424us/sample - loss: 2.5004 - accuracy: 0.1860 - val_loss: 2.2949 - val_accuracy: 0.2444\n",
            "Epoch 10/20\n",
            "86/86 [==============================] - 0s 447us/sample - loss: 2.3892 - accuracy: 0.1744 - val_loss: 2.2056 - val_accuracy: 0.2444\n",
            "Epoch 11/20\n",
            "86/86 [==============================] - 0s 552us/sample - loss: 2.2895 - accuracy: 0.1628 - val_loss: 2.1249 - val_accuracy: 0.2667\n",
            "Epoch 12/20\n",
            "86/86 [==============================] - 0s 439us/sample - loss: 2.2038 - accuracy: 0.1860 - val_loss: 2.0506 - val_accuracy: 0.2667\n",
            "Epoch 13/20\n",
            "86/86 [==============================] - 0s 469us/sample - loss: 2.1245 - accuracy: 0.1860 - val_loss: 1.9829 - val_accuracy: 0.2444\n",
            "Epoch 14/20\n",
            "86/86 [==============================] - 0s 440us/sample - loss: 2.0549 - accuracy: 0.1977 - val_loss: 1.9220 - val_accuracy: 0.2444\n",
            "Epoch 15/20\n",
            "86/86 [==============================] - 0s 428us/sample - loss: 1.9897 - accuracy: 0.2093 - val_loss: 1.8677 - val_accuracy: 0.2444\n",
            "Epoch 16/20\n",
            "86/86 [==============================] - 0s 437us/sample - loss: 1.9354 - accuracy: 0.2326 - val_loss: 1.8177 - val_accuracy: 0.2444\n",
            "Epoch 17/20\n",
            "86/86 [==============================] - 0s 455us/sample - loss: 1.8867 - accuracy: 0.2442 - val_loss: 1.7718 - val_accuracy: 0.2444\n",
            "Epoch 18/20\n",
            "86/86 [==============================] - 0s 460us/sample - loss: 1.8391 - accuracy: 0.2558 - val_loss: 1.7305 - val_accuracy: 0.2444\n",
            "Epoch 19/20\n",
            "86/86 [==============================] - 0s 439us/sample - loss: 1.7980 - accuracy: 0.2791 - val_loss: 1.6936 - val_accuracy: 0.2444\n",
            "Epoch 20/20\n",
            "86/86 [==============================] - 0s 477us/sample - loss: 1.7592 - accuracy: 0.2791 - val_loss: 1.6597 - val_accuracy: 0.2667\n",
            "Train on 86 samples, validate on 45 samples\n",
            "Epoch 1/20\n",
            "86/86 [==============================] - 0s 4ms/sample - loss: 2.5648 - accuracy: 0.2326 - val_loss: 2.0666 - val_accuracy: 0.3111\n",
            "Epoch 2/20\n",
            "86/86 [==============================] - 0s 463us/sample - loss: 2.4734 - accuracy: 0.2326 - val_loss: 2.0085 - val_accuracy: 0.3111\n",
            "Epoch 3/20\n",
            "86/86 [==============================] - 0s 408us/sample - loss: 2.3934 - accuracy: 0.2209 - val_loss: 1.9555 - val_accuracy: 0.3111\n",
            "Epoch 4/20\n",
            "86/86 [==============================] - 0s 425us/sample - loss: 2.3221 - accuracy: 0.2209 - val_loss: 1.9086 - val_accuracy: 0.3111\n",
            "Epoch 5/20\n",
            "86/86 [==============================] - 0s 422us/sample - loss: 2.2568 - accuracy: 0.2209 - val_loss: 1.8640 - val_accuracy: 0.3111\n",
            "Epoch 6/20\n",
            "86/86 [==============================] - 0s 467us/sample - loss: 2.1962 - accuracy: 0.2558 - val_loss: 1.8217 - val_accuracy: 0.3111\n",
            "Epoch 7/20\n",
            "86/86 [==============================] - 0s 388us/sample - loss: 2.1406 - accuracy: 0.2674 - val_loss: 1.7853 - val_accuracy: 0.3111\n",
            "Epoch 8/20\n",
            "86/86 [==============================] - 0s 435us/sample - loss: 2.0882 - accuracy: 0.2791 - val_loss: 1.7499 - val_accuracy: 0.3111\n",
            "Epoch 9/20\n",
            "86/86 [==============================] - 0s 444us/sample - loss: 2.0410 - accuracy: 0.2791 - val_loss: 1.7157 - val_accuracy: 0.3111\n",
            "Epoch 10/20\n",
            "86/86 [==============================] - 0s 413us/sample - loss: 1.9929 - accuracy: 0.2674 - val_loss: 1.6836 - val_accuracy: 0.2889\n",
            "Epoch 11/20\n",
            "86/86 [==============================] - 0s 450us/sample - loss: 1.9498 - accuracy: 0.2791 - val_loss: 1.6551 - val_accuracy: 0.2889\n",
            "Epoch 12/20\n",
            "86/86 [==============================] - 0s 444us/sample - loss: 1.9098 - accuracy: 0.2907 - val_loss: 1.6285 - val_accuracy: 0.2889\n",
            "Epoch 13/20\n",
            "86/86 [==============================] - 0s 414us/sample - loss: 1.8766 - accuracy: 0.3023 - val_loss: 1.6040 - val_accuracy: 0.3111\n",
            "Epoch 14/20\n",
            "86/86 [==============================] - 0s 442us/sample - loss: 1.8427 - accuracy: 0.3023 - val_loss: 1.5816 - val_accuracy: 0.3111\n",
            "Epoch 15/20\n",
            "86/86 [==============================] - 0s 438us/sample - loss: 1.8115 - accuracy: 0.2907 - val_loss: 1.5603 - val_accuracy: 0.3111\n",
            "Epoch 16/20\n",
            "86/86 [==============================] - 0s 455us/sample - loss: 1.7816 - accuracy: 0.3140 - val_loss: 1.5402 - val_accuracy: 0.3111\n",
            "Epoch 17/20\n",
            "86/86 [==============================] - 0s 535us/sample - loss: 1.7530 - accuracy: 0.3140 - val_loss: 1.5220 - val_accuracy: 0.3111\n",
            "Epoch 18/20\n",
            "86/86 [==============================] - 0s 430us/sample - loss: 1.7265 - accuracy: 0.3140 - val_loss: 1.5048 - val_accuracy: 0.3111\n",
            "Epoch 19/20\n",
            "86/86 [==============================] - 0s 440us/sample - loss: 1.7023 - accuracy: 0.3140 - val_loss: 1.4885 - val_accuracy: 0.3111\n",
            "Epoch 20/20\n",
            "86/86 [==============================] - 0s 462us/sample - loss: 1.6788 - accuracy: 0.3256 - val_loss: 1.4734 - val_accuracy: 0.3111\n",
            "Train on 86 samples, validate on 45 samples\n",
            "Epoch 1/20\n",
            "86/86 [==============================] - 0s 4ms/sample - loss: 2.6997 - accuracy: 0.5465 - val_loss: 2.9558 - val_accuracy: 0.4000\n",
            "Epoch 2/20\n",
            "86/86 [==============================] - 0s 460us/sample - loss: 2.6167 - accuracy: 0.5465 - val_loss: 2.8645 - val_accuracy: 0.4000\n",
            "Epoch 3/20\n",
            "86/86 [==============================] - 0s 393us/sample - loss: 2.5388 - accuracy: 0.5465 - val_loss: 2.7761 - val_accuracy: 0.4000\n",
            "Epoch 4/20\n",
            "86/86 [==============================] - 0s 440us/sample - loss: 2.4617 - accuracy: 0.5465 - val_loss: 2.6908 - val_accuracy: 0.4000\n",
            "Epoch 5/20\n",
            "86/86 [==============================] - 0s 397us/sample - loss: 2.3880 - accuracy: 0.5465 - val_loss: 2.6100 - val_accuracy: 0.4000\n",
            "Epoch 6/20\n",
            "86/86 [==============================] - 0s 422us/sample - loss: 2.3192 - accuracy: 0.5465 - val_loss: 2.5329 - val_accuracy: 0.4000\n",
            "Epoch 7/20\n",
            "86/86 [==============================] - 0s 424us/sample - loss: 2.2536 - accuracy: 0.5465 - val_loss: 2.4549 - val_accuracy: 0.4000\n",
            "Epoch 8/20\n",
            "86/86 [==============================] - 0s 443us/sample - loss: 2.1865 - accuracy: 0.5465 - val_loss: 2.3800 - val_accuracy: 0.4000\n",
            "Epoch 9/20\n",
            "86/86 [==============================] - 0s 436us/sample - loss: 2.1241 - accuracy: 0.5465 - val_loss: 2.3114 - val_accuracy: 0.4000\n",
            "Epoch 10/20\n",
            "86/86 [==============================] - 0s 518us/sample - loss: 2.0648 - accuracy: 0.5465 - val_loss: 2.2449 - val_accuracy: 0.4222\n",
            "Epoch 11/20\n",
            "86/86 [==============================] - 0s 477us/sample - loss: 2.0064 - accuracy: 0.5465 - val_loss: 2.1795 - val_accuracy: 0.4222\n",
            "Epoch 12/20\n",
            "86/86 [==============================] - 0s 426us/sample - loss: 1.9516 - accuracy: 0.5465 - val_loss: 2.1167 - val_accuracy: 0.4222\n",
            "Epoch 13/20\n",
            "86/86 [==============================] - 0s 551us/sample - loss: 1.8990 - accuracy: 0.5465 - val_loss: 2.0571 - val_accuracy: 0.4222\n",
            "Epoch 14/20\n",
            "86/86 [==============================] - 0s 435us/sample - loss: 1.8473 - accuracy: 0.5465 - val_loss: 1.9981 - val_accuracy: 0.4222\n",
            "Epoch 15/20\n",
            "86/86 [==============================] - 0s 444us/sample - loss: 1.7968 - accuracy: 0.5465 - val_loss: 1.9441 - val_accuracy: 0.4222\n",
            "Epoch 16/20\n",
            "86/86 [==============================] - 0s 521us/sample - loss: 1.7515 - accuracy: 0.5465 - val_loss: 1.8937 - val_accuracy: 0.4444\n",
            "Epoch 17/20\n",
            "86/86 [==============================] - 0s 445us/sample - loss: 1.7084 - accuracy: 0.5116 - val_loss: 1.8452 - val_accuracy: 0.4000\n",
            "Epoch 18/20\n",
            "86/86 [==============================] - 0s 490us/sample - loss: 1.6675 - accuracy: 0.5116 - val_loss: 1.7978 - val_accuracy: 0.4000\n",
            "Epoch 19/20\n",
            "86/86 [==============================] - 0s 476us/sample - loss: 1.6274 - accuracy: 0.5116 - val_loss: 1.7511 - val_accuracy: 0.4000\n",
            "Epoch 20/20\n",
            "86/86 [==============================] - 0s 446us/sample - loss: 1.5888 - accuracy: 0.5116 - val_loss: 1.7083 - val_accuracy: 0.4000\n",
            "Train on 86 samples, validate on 45 samples\n",
            "Epoch 1/20\n",
            "86/86 [==============================] - 0s 4ms/sample - loss: 3.1230 - accuracy: 0.1395 - val_loss: 2.6217 - val_accuracy: 0.1333\n",
            "Epoch 2/20\n",
            "86/86 [==============================] - 0s 504us/sample - loss: 2.8958 - accuracy: 0.1512 - val_loss: 2.5089 - val_accuracy: 0.1556\n",
            "Epoch 3/20\n",
            "86/86 [==============================] - 0s 427us/sample - loss: 2.7116 - accuracy: 0.1744 - val_loss: 2.4092 - val_accuracy: 0.1556\n",
            "Epoch 4/20\n",
            "86/86 [==============================] - 0s 421us/sample - loss: 2.5653 - accuracy: 0.1977 - val_loss: 2.3225 - val_accuracy: 0.1556\n",
            "Epoch 5/20\n",
            "86/86 [==============================] - 0s 446us/sample - loss: 2.4476 - accuracy: 0.1744 - val_loss: 2.2468 - val_accuracy: 0.1556\n",
            "Epoch 6/20\n",
            "86/86 [==============================] - 0s 478us/sample - loss: 2.3505 - accuracy: 0.1628 - val_loss: 2.1825 - val_accuracy: 0.1556\n",
            "Epoch 7/20\n",
            "86/86 [==============================] - 0s 435us/sample - loss: 2.2649 - accuracy: 0.1628 - val_loss: 2.1271 - val_accuracy: 0.1556\n",
            "Epoch 8/20\n",
            "86/86 [==============================] - 0s 469us/sample - loss: 2.1977 - accuracy: 0.1744 - val_loss: 2.0782 - val_accuracy: 0.1556\n",
            "Epoch 9/20\n",
            "86/86 [==============================] - 0s 499us/sample - loss: 2.1385 - accuracy: 0.1744 - val_loss: 2.0343 - val_accuracy: 0.1556\n",
            "Epoch 10/20\n",
            "86/86 [==============================] - 0s 458us/sample - loss: 2.0840 - accuracy: 0.1860 - val_loss: 1.9937 - val_accuracy: 0.1778\n",
            "Epoch 11/20\n",
            "86/86 [==============================] - 0s 450us/sample - loss: 2.0355 - accuracy: 0.2093 - val_loss: 1.9564 - val_accuracy: 0.1778\n",
            "Epoch 12/20\n",
            "86/86 [==============================] - 0s 423us/sample - loss: 1.9906 - accuracy: 0.2209 - val_loss: 1.9212 - val_accuracy: 0.1778\n",
            "Epoch 13/20\n",
            "86/86 [==============================] - 0s 410us/sample - loss: 1.9503 - accuracy: 0.2326 - val_loss: 1.8883 - val_accuracy: 0.1778\n",
            "Epoch 14/20\n",
            "86/86 [==============================] - 0s 615us/sample - loss: 1.9102 - accuracy: 0.2326 - val_loss: 1.8566 - val_accuracy: 0.1778\n",
            "Epoch 15/20\n",
            "86/86 [==============================] - 0s 430us/sample - loss: 1.8734 - accuracy: 0.2558 - val_loss: 1.8269 - val_accuracy: 0.1778\n",
            "Epoch 16/20\n",
            "86/86 [==============================] - 0s 455us/sample - loss: 1.8398 - accuracy: 0.2558 - val_loss: 1.7981 - val_accuracy: 0.1778\n",
            "Epoch 17/20\n",
            "86/86 [==============================] - 0s 381us/sample - loss: 1.8057 - accuracy: 0.2791 - val_loss: 1.7705 - val_accuracy: 0.1778\n",
            "Epoch 18/20\n",
            "86/86 [==============================] - 0s 422us/sample - loss: 1.7737 - accuracy: 0.2791 - val_loss: 1.7440 - val_accuracy: 0.2000\n",
            "Epoch 19/20\n",
            "86/86 [==============================] - 0s 425us/sample - loss: 1.7436 - accuracy: 0.2907 - val_loss: 1.7183 - val_accuracy: 0.2000\n",
            "Epoch 20/20\n",
            "86/86 [==============================] - 0s 467us/sample - loss: 1.7156 - accuracy: 0.2907 - val_loss: 1.6936 - val_accuracy: 0.2000\n",
            "Train on 86 samples, validate on 45 samples\n",
            "Epoch 1/20\n",
            "86/86 [==============================] - 0s 4ms/sample - loss: 1.9308 - accuracy: 0.2907 - val_loss: 1.8352 - val_accuracy: 0.3556\n",
            "Epoch 2/20\n",
            "86/86 [==============================] - 0s 488us/sample - loss: 1.8533 - accuracy: 0.2907 - val_loss: 1.7984 - val_accuracy: 0.3556\n",
            "Epoch 3/20\n",
            "86/86 [==============================] - 0s 466us/sample - loss: 1.7857 - accuracy: 0.2791 - val_loss: 1.7665 - val_accuracy: 0.3556\n",
            "Epoch 4/20\n",
            "86/86 [==============================] - 0s 454us/sample - loss: 1.7298 - accuracy: 0.3023 - val_loss: 1.7369 - val_accuracy: 0.3556\n",
            "Epoch 5/20\n",
            "86/86 [==============================] - 0s 487us/sample - loss: 1.6797 - accuracy: 0.3023 - val_loss: 1.7095 - val_accuracy: 0.3778\n",
            "Epoch 6/20\n",
            "86/86 [==============================] - 0s 452us/sample - loss: 1.6373 - accuracy: 0.2907 - val_loss: 1.6831 - val_accuracy: 0.3778\n",
            "Epoch 7/20\n",
            "86/86 [==============================] - 0s 436us/sample - loss: 1.5981 - accuracy: 0.3140 - val_loss: 1.6593 - val_accuracy: 0.3778\n",
            "Epoch 8/20\n",
            "86/86 [==============================] - 0s 439us/sample - loss: 1.5664 - accuracy: 0.3023 - val_loss: 1.6381 - val_accuracy: 0.3778\n",
            "Epoch 9/20\n",
            "86/86 [==============================] - 0s 472us/sample - loss: 1.5335 - accuracy: 0.3023 - val_loss: 1.6191 - val_accuracy: 0.3778\n",
            "Epoch 10/20\n",
            "86/86 [==============================] - 0s 459us/sample - loss: 1.5071 - accuracy: 0.3023 - val_loss: 1.6023 - val_accuracy: 0.3778\n",
            "Epoch 11/20\n",
            "86/86 [==============================] - 0s 469us/sample - loss: 1.4841 - accuracy: 0.3140 - val_loss: 1.5861 - val_accuracy: 0.3556\n",
            "Epoch 12/20\n",
            "86/86 [==============================] - 0s 476us/sample - loss: 1.4608 - accuracy: 0.3140 - val_loss: 1.5714 - val_accuracy: 0.3556\n",
            "Epoch 13/20\n",
            "86/86 [==============================] - 0s 475us/sample - loss: 1.4409 - accuracy: 0.3256 - val_loss: 1.5574 - val_accuracy: 0.3556\n",
            "Epoch 14/20\n",
            "86/86 [==============================] - 0s 464us/sample - loss: 1.4215 - accuracy: 0.3605 - val_loss: 1.5453 - val_accuracy: 0.3556\n",
            "Epoch 15/20\n",
            "86/86 [==============================] - 0s 481us/sample - loss: 1.4032 - accuracy: 0.3837 - val_loss: 1.5342 - val_accuracy: 0.3556\n",
            "Epoch 16/20\n",
            "86/86 [==============================] - 0s 462us/sample - loss: 1.3875 - accuracy: 0.3837 - val_loss: 1.5235 - val_accuracy: 0.3556\n",
            "Epoch 17/20\n",
            "86/86 [==============================] - 0s 487us/sample - loss: 1.3718 - accuracy: 0.3837 - val_loss: 1.5134 - val_accuracy: 0.3556\n",
            "Epoch 18/20\n",
            "86/86 [==============================] - 0s 475us/sample - loss: 1.3580 - accuracy: 0.3953 - val_loss: 1.5039 - val_accuracy: 0.3556\n",
            "Epoch 19/20\n",
            "86/86 [==============================] - 0s 476us/sample - loss: 1.3468 - accuracy: 0.3953 - val_loss: 1.4945 - val_accuracy: 0.3556\n",
            "Epoch 20/20\n",
            "86/86 [==============================] - 0s 470us/sample - loss: 1.3340 - accuracy: 0.4186 - val_loss: 1.4865 - val_accuracy: 0.3556\n"
          ],
          "name": "stdout"
        },
        {
          "output_type": "display_data",
          "data": {
            "text/html": [
              "<span style=\"color:#4527A0\"><h1 style=\"font-size:18px\">Trial complete</h1></span>"
            ],
            "text/plain": [
              "<IPython.core.display.HTML object>"
            ]
          },
          "metadata": {
            "tags": []
          }
        },
        {
          "output_type": "display_data",
          "data": {
            "text/html": [
              "<span style=\"color:#4527A0\"><h1 style=\"font-size:18px\">Trial summary</h1></span>"
            ],
            "text/plain": [
              "<IPython.core.display.HTML object>"
            ]
          },
          "metadata": {
            "tags": []
          }
        },
        {
          "output_type": "display_data",
          "data": {
            "text/html": [
              "<span style=\"color:#7E57C2\"><h2 style=\"font-size:16px\">Hp values:</h2></span>"
            ],
            "text/plain": [
              "<IPython.core.display.HTML object>"
            ]
          },
          "metadata": {
            "tags": []
          }
        },
        {
          "output_type": "display_data",
          "data": {
            "text/html": [
              "<span style=\"color:cyan\"> |-learning_rate: 0.001</span>"
            ],
            "text/plain": [
              "<IPython.core.display.HTML object>"
            ]
          },
          "metadata": {
            "tags": []
          }
        },
        {
          "output_type": "display_data",
          "data": {
            "text/html": [
              "<span style=\"color:blue\"> |-momentum: 0.0</span>"
            ],
            "text/plain": [
              "<IPython.core.display.HTML object>"
            ]
          },
          "metadata": {
            "tags": []
          }
        },
        {
          "output_type": "display_data",
          "data": {
            "text/html": [
              "<span style=\"color:cyan\"> |-Score: 0.320000022649765</span>"
            ],
            "text/plain": [
              "<IPython.core.display.HTML object>"
            ]
          },
          "metadata": {
            "tags": []
          }
        },
        {
          "output_type": "display_data",
          "data": {
            "text/html": [
              "<span style=\"color:cyan\"> |-Best step: 0</span>"
            ],
            "text/plain": [
              "<IPython.core.display.HTML object>"
            ]
          },
          "metadata": {
            "tags": []
          }
        },
        {
          "output_type": "stream",
          "text": [
            "Train on 86 samples, validate on 45 samples\n",
            "Epoch 1/20\n",
            "86/86 [==============================] - 0s 4ms/sample - loss: 3.0079 - accuracy: 0.2791 - val_loss: 2.5526 - val_accuracy: 0.4000\n",
            "Epoch 2/20\n",
            "86/86 [==============================] - 0s 471us/sample - loss: 2.9754 - accuracy: 0.2791 - val_loss: 2.5319 - val_accuracy: 0.4000\n",
            "Epoch 3/20\n",
            "86/86 [==============================] - 0s 497us/sample - loss: 2.9422 - accuracy: 0.2791 - val_loss: 2.5111 - val_accuracy: 0.4000\n",
            "Epoch 4/20\n",
            "86/86 [==============================] - 0s 414us/sample - loss: 2.9091 - accuracy: 0.2791 - val_loss: 2.4914 - val_accuracy: 0.4000\n",
            "Epoch 5/20\n",
            "86/86 [==============================] - 0s 465us/sample - loss: 2.8770 - accuracy: 0.2791 - val_loss: 2.4717 - val_accuracy: 0.4000\n",
            "Epoch 6/20\n",
            "86/86 [==============================] - 0s 453us/sample - loss: 2.8461 - accuracy: 0.3023 - val_loss: 2.4517 - val_accuracy: 0.4000\n",
            "Epoch 7/20\n",
            "86/86 [==============================] - 0s 493us/sample - loss: 2.8149 - accuracy: 0.3023 - val_loss: 2.4332 - val_accuracy: 0.4000\n",
            "Epoch 8/20\n",
            "86/86 [==============================] - 0s 498us/sample - loss: 2.7839 - accuracy: 0.3023 - val_loss: 2.4141 - val_accuracy: 0.4000\n",
            "Epoch 9/20\n",
            "86/86 [==============================] - 0s 555us/sample - loss: 2.7537 - accuracy: 0.3023 - val_loss: 2.3957 - val_accuracy: 0.4222\n",
            "Epoch 10/20\n",
            "86/86 [==============================] - 0s 475us/sample - loss: 2.7243 - accuracy: 0.3023 - val_loss: 2.3780 - val_accuracy: 0.4222\n",
            "Epoch 11/20\n",
            "86/86 [==============================] - 0s 420us/sample - loss: 2.6960 - accuracy: 0.2907 - val_loss: 2.3605 - val_accuracy: 0.4222\n",
            "Epoch 12/20\n",
            "86/86 [==============================] - 0s 412us/sample - loss: 2.6682 - accuracy: 0.3023 - val_loss: 2.3430 - val_accuracy: 0.4222\n",
            "Epoch 13/20\n",
            "86/86 [==============================] - 0s 406us/sample - loss: 2.6405 - accuracy: 0.3023 - val_loss: 2.3255 - val_accuracy: 0.4222\n",
            "Epoch 14/20\n",
            "86/86 [==============================] - 0s 529us/sample - loss: 2.6142 - accuracy: 0.3023 - val_loss: 2.3089 - val_accuracy: 0.4222\n",
            "Epoch 15/20\n",
            "86/86 [==============================] - 0s 486us/sample - loss: 2.5875 - accuracy: 0.3140 - val_loss: 2.2929 - val_accuracy: 0.4222\n",
            "Epoch 16/20\n",
            "86/86 [==============================] - 0s 487us/sample - loss: 2.5620 - accuracy: 0.3140 - val_loss: 2.2768 - val_accuracy: 0.4222\n",
            "Epoch 17/20\n",
            "86/86 [==============================] - 0s 466us/sample - loss: 2.5363 - accuracy: 0.3140 - val_loss: 2.2610 - val_accuracy: 0.4222\n",
            "Epoch 18/20\n",
            "86/86 [==============================] - 0s 518us/sample - loss: 2.5112 - accuracy: 0.3140 - val_loss: 2.2455 - val_accuracy: 0.4444\n",
            "Epoch 19/20\n",
            "86/86 [==============================] - 0s 470us/sample - loss: 2.4861 - accuracy: 0.3256 - val_loss: 2.2292 - val_accuracy: 0.4444\n",
            "Epoch 20/20\n",
            "86/86 [==============================] - 0s 422us/sample - loss: 2.4617 - accuracy: 0.3256 - val_loss: 2.2142 - val_accuracy: 0.4444\n",
            "Train on 86 samples, validate on 45 samples\n",
            "Epoch 1/20\n",
            "86/86 [==============================] - 0s 4ms/sample - loss: 3.1647 - accuracy: 0.3605 - val_loss: 2.3335 - val_accuracy: 0.3778\n",
            "Epoch 2/20\n",
            "86/86 [==============================] - 0s 485us/sample - loss: 3.1436 - accuracy: 0.3605 - val_loss: 2.3217 - val_accuracy: 0.3778\n",
            "Epoch 3/20\n",
            "86/86 [==============================] - 0s 452us/sample - loss: 3.1225 - accuracy: 0.3605 - val_loss: 2.3097 - val_accuracy: 0.3778\n",
            "Epoch 4/20\n",
            "86/86 [==============================] - 0s 533us/sample - loss: 3.1021 - accuracy: 0.3605 - val_loss: 2.2986 - val_accuracy: 0.3778\n",
            "Epoch 5/20\n",
            "86/86 [==============================] - 0s 448us/sample - loss: 3.0821 - accuracy: 0.3605 - val_loss: 2.2881 - val_accuracy: 0.3778\n",
            "Epoch 6/20\n",
            "86/86 [==============================] - 0s 488us/sample - loss: 3.0627 - accuracy: 0.3721 - val_loss: 2.2768 - val_accuracy: 0.3778\n",
            "Epoch 7/20\n",
            "86/86 [==============================] - 0s 480us/sample - loss: 3.0429 - accuracy: 0.3721 - val_loss: 2.2662 - val_accuracy: 0.3778\n",
            "Epoch 8/20\n",
            "86/86 [==============================] - 0s 511us/sample - loss: 3.0242 - accuracy: 0.3721 - val_loss: 2.2554 - val_accuracy: 0.3778\n",
            "Epoch 9/20\n",
            "86/86 [==============================] - 0s 522us/sample - loss: 3.0055 - accuracy: 0.3721 - val_loss: 2.2455 - val_accuracy: 0.3778\n",
            "Epoch 10/20\n",
            "86/86 [==============================] - 0s 531us/sample - loss: 2.9860 - accuracy: 0.3721 - val_loss: 2.2346 - val_accuracy: 0.3778\n",
            "Epoch 11/20\n",
            "86/86 [==============================] - 0s 482us/sample - loss: 2.9679 - accuracy: 0.3837 - val_loss: 2.2243 - val_accuracy: 0.3778\n",
            "Epoch 12/20\n",
            "86/86 [==============================] - 0s 472us/sample - loss: 2.9499 - accuracy: 0.3837 - val_loss: 2.2146 - val_accuracy: 0.3778\n",
            "Epoch 13/20\n",
            "86/86 [==============================] - 0s 451us/sample - loss: 2.9325 - accuracy: 0.3837 - val_loss: 2.2047 - val_accuracy: 0.3778\n",
            "Epoch 14/20\n",
            "86/86 [==============================] - 0s 467us/sample - loss: 2.9142 - accuracy: 0.3837 - val_loss: 2.1953 - val_accuracy: 0.3778\n",
            "Epoch 15/20\n",
            "86/86 [==============================] - 0s 460us/sample - loss: 2.8968 - accuracy: 0.3837 - val_loss: 2.1854 - val_accuracy: 0.3778\n",
            "Epoch 16/20\n",
            "86/86 [==============================] - 0s 480us/sample - loss: 2.8793 - accuracy: 0.3837 - val_loss: 2.1765 - val_accuracy: 0.3778\n",
            "Epoch 17/20\n",
            "86/86 [==============================] - 0s 448us/sample - loss: 2.8624 - accuracy: 0.3837 - val_loss: 2.1676 - val_accuracy: 0.3778\n",
            "Epoch 18/20\n",
            "86/86 [==============================] - 0s 537us/sample - loss: 2.8454 - accuracy: 0.3837 - val_loss: 2.1587 - val_accuracy: 0.3778\n",
            "Epoch 19/20\n",
            "86/86 [==============================] - 0s 507us/sample - loss: 2.8287 - accuracy: 0.3837 - val_loss: 2.1499 - val_accuracy: 0.3778\n",
            "Epoch 20/20\n",
            "86/86 [==============================] - 0s 487us/sample - loss: 2.8122 - accuracy: 0.3837 - val_loss: 2.1413 - val_accuracy: 0.3778\n",
            "Train on 86 samples, validate on 45 samples\n",
            "Epoch 1/20\n",
            "86/86 [==============================] - 0s 4ms/sample - loss: 1.5343 - accuracy: 0.4884 - val_loss: 1.7617 - val_accuracy: 0.3556\n",
            "Epoch 2/20\n",
            "86/86 [==============================] - 0s 493us/sample - loss: 1.5314 - accuracy: 0.4884 - val_loss: 1.7592 - val_accuracy: 0.3556\n",
            "Epoch 3/20\n",
            "86/86 [==============================] - 0s 454us/sample - loss: 1.5285 - accuracy: 0.4884 - val_loss: 1.7560 - val_accuracy: 0.3556\n",
            "Epoch 4/20\n",
            "86/86 [==============================] - 0s 453us/sample - loss: 1.5254 - accuracy: 0.4884 - val_loss: 1.7536 - val_accuracy: 0.3556\n",
            "Epoch 5/20\n",
            "86/86 [==============================] - 0s 468us/sample - loss: 1.5225 - accuracy: 0.4884 - val_loss: 1.7509 - val_accuracy: 0.3556\n",
            "Epoch 6/20\n",
            "86/86 [==============================] - 0s 522us/sample - loss: 1.5197 - accuracy: 0.4884 - val_loss: 1.7481 - val_accuracy: 0.3556\n",
            "Epoch 7/20\n",
            "86/86 [==============================] - 0s 473us/sample - loss: 1.5170 - accuracy: 0.4884 - val_loss: 1.7457 - val_accuracy: 0.3556\n",
            "Epoch 8/20\n",
            "86/86 [==============================] - 0s 471us/sample - loss: 1.5142 - accuracy: 0.5000 - val_loss: 1.7429 - val_accuracy: 0.3556\n",
            "Epoch 9/20\n",
            "86/86 [==============================] - 0s 444us/sample - loss: 1.5115 - accuracy: 0.5000 - val_loss: 1.7400 - val_accuracy: 0.3556\n",
            "Epoch 10/20\n",
            "86/86 [==============================] - 0s 502us/sample - loss: 1.5087 - accuracy: 0.5000 - val_loss: 1.7374 - val_accuracy: 0.3556\n",
            "Epoch 11/20\n",
            "86/86 [==============================] - 0s 464us/sample - loss: 1.5061 - accuracy: 0.5000 - val_loss: 1.7347 - val_accuracy: 0.3556\n",
            "Epoch 12/20\n",
            "86/86 [==============================] - 0s 469us/sample - loss: 1.5031 - accuracy: 0.5000 - val_loss: 1.7321 - val_accuracy: 0.3556\n",
            "Epoch 13/20\n",
            "86/86 [==============================] - 0s 429us/sample - loss: 1.5006 - accuracy: 0.5000 - val_loss: 1.7295 - val_accuracy: 0.3556\n",
            "Epoch 14/20\n",
            "86/86 [==============================] - 0s 450us/sample - loss: 1.4980 - accuracy: 0.5000 - val_loss: 1.7270 - val_accuracy: 0.3556\n",
            "Epoch 15/20\n",
            "86/86 [==============================] - 0s 459us/sample - loss: 1.4957 - accuracy: 0.5000 - val_loss: 1.7245 - val_accuracy: 0.3556\n",
            "Epoch 16/20\n",
            "86/86 [==============================] - 0s 475us/sample - loss: 1.4929 - accuracy: 0.5000 - val_loss: 1.7221 - val_accuracy: 0.3556\n",
            "Epoch 17/20\n",
            "86/86 [==============================] - 0s 488us/sample - loss: 1.4902 - accuracy: 0.5000 - val_loss: 1.7195 - val_accuracy: 0.3556\n",
            "Epoch 18/20\n",
            "86/86 [==============================] - 0s 537us/sample - loss: 1.4875 - accuracy: 0.5000 - val_loss: 1.7168 - val_accuracy: 0.3556\n",
            "Epoch 19/20\n",
            "86/86 [==============================] - 0s 517us/sample - loss: 1.4850 - accuracy: 0.5000 - val_loss: 1.7144 - val_accuracy: 0.3556\n",
            "Epoch 20/20\n",
            "86/86 [==============================] - 0s 484us/sample - loss: 1.4825 - accuracy: 0.5000 - val_loss: 1.7119 - val_accuracy: 0.3556\n",
            "Train on 86 samples, validate on 45 samples\n",
            "Epoch 1/20\n",
            "86/86 [==============================] - 0s 4ms/sample - loss: 2.8515 - accuracy: 0.2791 - val_loss: 3.0510 - val_accuracy: 0.2444\n",
            "Epoch 2/20\n",
            "86/86 [==============================] - 0s 550us/sample - loss: 2.8295 - accuracy: 0.2791 - val_loss: 3.0246 - val_accuracy: 0.2444\n",
            "Epoch 3/20\n",
            "86/86 [==============================] - 0s 523us/sample - loss: 2.8071 - accuracy: 0.2791 - val_loss: 2.9965 - val_accuracy: 0.2444\n",
            "Epoch 4/20\n",
            "86/86 [==============================] - 0s 503us/sample - loss: 2.7852 - accuracy: 0.2791 - val_loss: 2.9692 - val_accuracy: 0.2444\n",
            "Epoch 5/20\n",
            "86/86 [==============================] - 0s 516us/sample - loss: 2.7633 - accuracy: 0.2791 - val_loss: 2.9418 - val_accuracy: 0.2444\n",
            "Epoch 6/20\n",
            "86/86 [==============================] - 0s 595us/sample - loss: 2.7417 - accuracy: 0.2791 - val_loss: 2.9142 - val_accuracy: 0.2444\n",
            "Epoch 7/20\n",
            "86/86 [==============================] - 0s 567us/sample - loss: 2.7206 - accuracy: 0.2791 - val_loss: 2.8884 - val_accuracy: 0.2444\n",
            "Epoch 8/20\n",
            "86/86 [==============================] - 0s 571us/sample - loss: 2.6999 - accuracy: 0.2791 - val_loss: 2.8633 - val_accuracy: 0.2444\n",
            "Epoch 9/20\n",
            "86/86 [==============================] - 0s 496us/sample - loss: 2.6793 - accuracy: 0.2791 - val_loss: 2.8377 - val_accuracy: 0.2444\n",
            "Epoch 10/20\n",
            "86/86 [==============================] - 0s 482us/sample - loss: 2.6586 - accuracy: 0.2791 - val_loss: 2.8112 - val_accuracy: 0.2444\n",
            "Epoch 11/20\n",
            "86/86 [==============================] - 0s 501us/sample - loss: 2.6385 - accuracy: 0.2791 - val_loss: 2.7869 - val_accuracy: 0.2444\n",
            "Epoch 12/20\n",
            "86/86 [==============================] - 0s 579us/sample - loss: 2.6187 - accuracy: 0.2791 - val_loss: 2.7621 - val_accuracy: 0.2444\n",
            "Epoch 13/20\n",
            "86/86 [==============================] - 0s 605us/sample - loss: 2.5987 - accuracy: 0.2791 - val_loss: 2.7372 - val_accuracy: 0.2444\n",
            "Epoch 14/20\n",
            "86/86 [==============================] - 0s 505us/sample - loss: 2.5795 - accuracy: 0.2791 - val_loss: 2.7135 - val_accuracy: 0.2444\n",
            "Epoch 15/20\n",
            "86/86 [==============================] - 0s 495us/sample - loss: 2.5604 - accuracy: 0.2791 - val_loss: 2.6920 - val_accuracy: 0.2444\n",
            "Epoch 16/20\n",
            "86/86 [==============================] - 0s 508us/sample - loss: 2.5415 - accuracy: 0.2791 - val_loss: 2.6688 - val_accuracy: 0.2444\n",
            "Epoch 17/20\n",
            "86/86 [==============================] - 0s 506us/sample - loss: 2.5225 - accuracy: 0.2791 - val_loss: 2.6466 - val_accuracy: 0.2444\n",
            "Epoch 18/20\n",
            "86/86 [==============================] - 0s 496us/sample - loss: 2.5039 - accuracy: 0.2791 - val_loss: 2.6244 - val_accuracy: 0.2444\n",
            "Epoch 19/20\n",
            "86/86 [==============================] - 0s 516us/sample - loss: 2.4857 - accuracy: 0.2791 - val_loss: 2.6028 - val_accuracy: 0.2444\n",
            "Epoch 20/20\n",
            "86/86 [==============================] - 0s 495us/sample - loss: 2.4676 - accuracy: 0.2791 - val_loss: 2.5812 - val_accuracy: 0.2667\n",
            "Train on 86 samples, validate on 45 samples\n",
            "Epoch 1/20\n",
            "86/86 [==============================] - 0s 4ms/sample - loss: 3.2078 - accuracy: 0.2209 - val_loss: 2.3021 - val_accuracy: 0.2889\n",
            "Epoch 2/20\n",
            "86/86 [==============================] - 0s 541us/sample - loss: 3.1746 - accuracy: 0.2209 - val_loss: 2.2831 - val_accuracy: 0.2889\n",
            "Epoch 3/20\n",
            "86/86 [==============================] - 0s 611us/sample - loss: 3.1417 - accuracy: 0.2209 - val_loss: 2.2634 - val_accuracy: 0.2889\n",
            "Epoch 4/20\n",
            "86/86 [==============================] - 0s 517us/sample - loss: 3.1089 - accuracy: 0.2326 - val_loss: 2.2451 - val_accuracy: 0.2889\n",
            "Epoch 5/20\n",
            "86/86 [==============================] - 0s 565us/sample - loss: 3.0776 - accuracy: 0.2326 - val_loss: 2.2264 - val_accuracy: 0.2889\n",
            "Epoch 6/20\n",
            "86/86 [==============================] - 0s 515us/sample - loss: 3.0466 - accuracy: 0.2326 - val_loss: 2.2088 - val_accuracy: 0.2889\n",
            "Epoch 7/20\n",
            "86/86 [==============================] - 0s 481us/sample - loss: 3.0158 - accuracy: 0.2326 - val_loss: 2.1911 - val_accuracy: 0.2889\n",
            "Epoch 8/20\n",
            "86/86 [==============================] - 0s 475us/sample - loss: 2.9861 - accuracy: 0.2326 - val_loss: 2.1737 - val_accuracy: 0.2889\n",
            "Epoch 9/20\n",
            "86/86 [==============================] - 0s 550us/sample - loss: 2.9561 - accuracy: 0.2326 - val_loss: 2.1563 - val_accuracy: 0.2889\n",
            "Epoch 10/20\n",
            "86/86 [==============================] - 0s 525us/sample - loss: 2.9263 - accuracy: 0.2326 - val_loss: 2.1396 - val_accuracy: 0.2889\n",
            "Epoch 11/20\n",
            "86/86 [==============================] - 0s 518us/sample - loss: 2.8970 - accuracy: 0.2326 - val_loss: 2.1224 - val_accuracy: 0.2889\n",
            "Epoch 12/20\n",
            "86/86 [==============================] - 0s 519us/sample - loss: 2.8681 - accuracy: 0.2442 - val_loss: 2.1054 - val_accuracy: 0.2889\n",
            "Epoch 13/20\n",
            "86/86 [==============================] - 0s 621us/sample - loss: 2.8394 - accuracy: 0.2442 - val_loss: 2.0892 - val_accuracy: 0.2889\n",
            "Epoch 14/20\n",
            "86/86 [==============================] - 0s 630us/sample - loss: 2.8118 - accuracy: 0.2442 - val_loss: 2.0727 - val_accuracy: 0.2889\n",
            "Epoch 15/20\n",
            "86/86 [==============================] - 0s 604us/sample - loss: 2.7842 - accuracy: 0.2442 - val_loss: 2.0570 - val_accuracy: 0.2889\n",
            "Epoch 16/20\n",
            "86/86 [==============================] - 0s 559us/sample - loss: 2.7571 - accuracy: 0.2442 - val_loss: 2.0413 - val_accuracy: 0.2889\n",
            "Epoch 17/20\n",
            "86/86 [==============================] - 0s 552us/sample - loss: 2.7301 - accuracy: 0.2442 - val_loss: 2.0257 - val_accuracy: 0.2889\n",
            "Epoch 18/20\n",
            "86/86 [==============================] - 0s 535us/sample - loss: 2.7037 - accuracy: 0.2442 - val_loss: 2.0110 - val_accuracy: 0.2889\n",
            "Epoch 19/20\n",
            "86/86 [==============================] - 0s 543us/sample - loss: 2.6775 - accuracy: 0.2326 - val_loss: 1.9958 - val_accuracy: 0.2889\n",
            "Epoch 20/20\n",
            "86/86 [==============================] - 0s 516us/sample - loss: 2.6518 - accuracy: 0.2326 - val_loss: 1.9812 - val_accuracy: 0.2889\n"
          ],
          "name": "stdout"
        },
        {
          "output_type": "display_data",
          "data": {
            "text/html": [
              "<span style=\"color:#4527A0\"><h1 style=\"font-size:18px\">Trial complete</h1></span>"
            ],
            "text/plain": [
              "<IPython.core.display.HTML object>"
            ]
          },
          "metadata": {
            "tags": []
          }
        },
        {
          "output_type": "display_data",
          "data": {
            "text/html": [
              "<span style=\"color:#4527A0\"><h1 style=\"font-size:18px\">Trial summary</h1></span>"
            ],
            "text/plain": [
              "<IPython.core.display.HTML object>"
            ]
          },
          "metadata": {
            "tags": []
          }
        },
        {
          "output_type": "display_data",
          "data": {
            "text/html": [
              "<span style=\"color:#7E57C2\"><h2 style=\"font-size:16px\">Hp values:</h2></span>"
            ],
            "text/plain": [
              "<IPython.core.display.HTML object>"
            ]
          },
          "metadata": {
            "tags": []
          }
        },
        {
          "output_type": "display_data",
          "data": {
            "text/html": [
              "<span style=\"color:cyan\"> |-learning_rate: 0.0001</span>"
            ],
            "text/plain": [
              "<IPython.core.display.HTML object>"
            ]
          },
          "metadata": {
            "tags": []
          }
        },
        {
          "output_type": "display_data",
          "data": {
            "text/html": [
              "<span style=\"color:blue\"> |-momentum: 0.4</span>"
            ],
            "text/plain": [
              "<IPython.core.display.HTML object>"
            ]
          },
          "metadata": {
            "tags": []
          }
        },
        {
          "output_type": "display_data",
          "data": {
            "text/html": [
              "<span style=\"color:cyan\"> |-Score: 0.3466666638851166</span>"
            ],
            "text/plain": [
              "<IPython.core.display.HTML object>"
            ]
          },
          "metadata": {
            "tags": []
          }
        },
        {
          "output_type": "display_data",
          "data": {
            "text/html": [
              "<span style=\"color:cyan\"> |-Best step: 0</span>"
            ],
            "text/plain": [
              "<IPython.core.display.HTML object>"
            ]
          },
          "metadata": {
            "tags": []
          }
        },
        {
          "output_type": "stream",
          "text": [
            "Train on 86 samples, validate on 45 samples\n",
            "Epoch 1/20\n",
            "86/86 [==============================] - 0s 5ms/sample - loss: 1.8345 - accuracy: 0.5349 - val_loss: 1.6241 - val_accuracy: 0.4000\n",
            "Epoch 2/20\n",
            "86/86 [==============================] - 0s 730us/sample - loss: 1.3958 - accuracy: 0.5698 - val_loss: 1.4131 - val_accuracy: 0.4667\n",
            "Epoch 3/20\n",
            "86/86 [==============================] - 0s 611us/sample - loss: 1.1919 - accuracy: 0.5930 - val_loss: 1.3097 - val_accuracy: 0.4444\n",
            "Epoch 4/20\n",
            "86/86 [==============================] - 0s 722us/sample - loss: 1.0911 - accuracy: 0.5814 - val_loss: 1.2490 - val_accuracy: 0.4889\n",
            "Epoch 5/20\n",
            "86/86 [==============================] - 0s 551us/sample - loss: 1.0229 - accuracy: 0.5814 - val_loss: 1.2123 - val_accuracy: 0.4889\n",
            "Epoch 6/20\n",
            "86/86 [==============================] - 0s 602us/sample - loss: 0.9831 - accuracy: 0.6163 - val_loss: 1.1914 - val_accuracy: 0.5111\n",
            "Epoch 7/20\n",
            "86/86 [==============================] - 0s 576us/sample - loss: 0.9519 - accuracy: 0.6279 - val_loss: 1.1729 - val_accuracy: 0.5111\n",
            "Epoch 8/20\n",
            "86/86 [==============================] - 0s 507us/sample - loss: 0.9249 - accuracy: 0.6512 - val_loss: 1.1502 - val_accuracy: 0.5111\n",
            "Epoch 9/20\n",
            "86/86 [==============================] - 0s 508us/sample - loss: 0.9151 - accuracy: 0.6047 - val_loss: 1.1434 - val_accuracy: 0.4889\n",
            "Epoch 10/20\n",
            "86/86 [==============================] - 0s 507us/sample - loss: 0.8892 - accuracy: 0.6279 - val_loss: 1.1362 - val_accuracy: 0.4889\n",
            "Epoch 11/20\n",
            "86/86 [==============================] - 0s 456us/sample - loss: 0.8732 - accuracy: 0.6395 - val_loss: 1.1324 - val_accuracy: 0.4889\n",
            "Epoch 12/20\n",
            "86/86 [==============================] - 0s 475us/sample - loss: 0.8632 - accuracy: 0.6512 - val_loss: 1.1295 - val_accuracy: 0.5111\n",
            "Epoch 13/20\n",
            "86/86 [==============================] - 0s 477us/sample - loss: 0.8552 - accuracy: 0.6395 - val_loss: 1.1253 - val_accuracy: 0.5111\n",
            "Epoch 14/20\n",
            "86/86 [==============================] - 0s 562us/sample - loss: 0.8479 - accuracy: 0.6512 - val_loss: 1.1240 - val_accuracy: 0.5111\n",
            "Epoch 15/20\n",
            "86/86 [==============================] - 0s 550us/sample - loss: 0.8363 - accuracy: 0.6512 - val_loss: 1.1240 - val_accuracy: 0.5111\n",
            "Epoch 16/20\n",
            "86/86 [==============================] - 0s 525us/sample - loss: 0.8325 - accuracy: 0.6628 - val_loss: 1.1257 - val_accuracy: 0.5111\n",
            "Epoch 17/20\n",
            "86/86 [==============================] - 0s 511us/sample - loss: 0.8254 - accuracy: 0.6744 - val_loss: 1.1308 - val_accuracy: 0.4889\n",
            "Epoch 18/20\n",
            "86/86 [==============================] - 0s 522us/sample - loss: 0.8208 - accuracy: 0.6628 - val_loss: 1.1352 - val_accuracy: 0.4889\n",
            "Epoch 19/20\n",
            "86/86 [==============================] - 0s 480us/sample - loss: 0.8108 - accuracy: 0.6744 - val_loss: 1.1395 - val_accuracy: 0.4889\n",
            "Epoch 20/20\n",
            "86/86 [==============================] - 0s 554us/sample - loss: 0.8081 - accuracy: 0.6512 - val_loss: 1.1462 - val_accuracy: 0.4667\n",
            "Train on 86 samples, validate on 45 samples\n",
            "Epoch 1/20\n",
            "86/86 [==============================] - 0s 4ms/sample - loss: 1.9798 - accuracy: 0.4767 - val_loss: 1.5862 - val_accuracy: 0.4000\n",
            "Epoch 2/20\n",
            "86/86 [==============================] - 0s 529us/sample - loss: 1.2647 - accuracy: 0.5116 - val_loss: 1.4148 - val_accuracy: 0.3778\n",
            "Epoch 3/20\n",
            "86/86 [==============================] - 0s 467us/sample - loss: 1.1108 - accuracy: 0.5000 - val_loss: 1.3705 - val_accuracy: 0.4000\n",
            "Epoch 4/20\n",
            "86/86 [==============================] - 0s 487us/sample - loss: 1.0456 - accuracy: 0.5465 - val_loss: 1.3364 - val_accuracy: 0.4222\n",
            "Epoch 5/20\n",
            "86/86 [==============================] - 0s 645us/sample - loss: 1.0027 - accuracy: 0.5465 - val_loss: 1.3069 - val_accuracy: 0.4444\n",
            "Epoch 6/20\n",
            "86/86 [==============================] - 0s 502us/sample - loss: 0.9677 - accuracy: 0.5000 - val_loss: 1.2698 - val_accuracy: 0.4222\n",
            "Epoch 7/20\n",
            "86/86 [==============================] - 0s 470us/sample - loss: 0.9523 - accuracy: 0.5349 - val_loss: 1.2475 - val_accuracy: 0.4444\n",
            "Epoch 8/20\n",
            "86/86 [==============================] - 0s 482us/sample - loss: 0.9377 - accuracy: 0.5233 - val_loss: 1.2478 - val_accuracy: 0.4444\n",
            "Epoch 9/20\n",
            "86/86 [==============================] - 0s 508us/sample - loss: 0.9189 - accuracy: 0.5465 - val_loss: 1.2356 - val_accuracy: 0.4222\n",
            "Epoch 10/20\n",
            "86/86 [==============================] - 0s 442us/sample - loss: 0.9056 - accuracy: 0.5581 - val_loss: 1.2366 - val_accuracy: 0.4000\n",
            "Epoch 11/20\n",
            "86/86 [==============================] - 0s 437us/sample - loss: 0.8945 - accuracy: 0.5581 - val_loss: 1.2281 - val_accuracy: 0.4000\n",
            "Epoch 12/20\n",
            "86/86 [==============================] - 0s 521us/sample - loss: 0.8825 - accuracy: 0.5465 - val_loss: 1.2117 - val_accuracy: 0.4444\n",
            "Epoch 13/20\n",
            "86/86 [==============================] - 0s 441us/sample - loss: 0.8742 - accuracy: 0.5698 - val_loss: 1.2274 - val_accuracy: 0.4667\n",
            "Epoch 14/20\n",
            "86/86 [==============================] - 0s 475us/sample - loss: 0.8720 - accuracy: 0.5698 - val_loss: 1.1942 - val_accuracy: 0.4444\n",
            "Epoch 15/20\n",
            "86/86 [==============================] - 0s 454us/sample - loss: 0.8609 - accuracy: 0.5814 - val_loss: 1.1944 - val_accuracy: 0.4667\n",
            "Epoch 16/20\n",
            "86/86 [==============================] - 0s 452us/sample - loss: 0.8573 - accuracy: 0.5930 - val_loss: 1.2185 - val_accuracy: 0.4667\n",
            "Epoch 17/20\n",
            "86/86 [==============================] - 0s 485us/sample - loss: 0.8524 - accuracy: 0.5814 - val_loss: 1.1919 - val_accuracy: 0.4444\n",
            "Epoch 18/20\n",
            "86/86 [==============================] - 0s 511us/sample - loss: 0.8473 - accuracy: 0.5698 - val_loss: 1.1831 - val_accuracy: 0.4444\n",
            "Epoch 19/20\n",
            "86/86 [==============================] - 0s 491us/sample - loss: 0.8493 - accuracy: 0.5930 - val_loss: 1.1849 - val_accuracy: 0.4222\n",
            "Epoch 20/20\n",
            "86/86 [==============================] - 0s 494us/sample - loss: 0.8404 - accuracy: 0.5814 - val_loss: 1.1922 - val_accuracy: 0.4222\n",
            "Train on 86 samples, validate on 45 samples\n",
            "Epoch 1/20\n",
            "86/86 [==============================] - 0s 4ms/sample - loss: 2.5383 - accuracy: 0.2558 - val_loss: 1.8549 - val_accuracy: 0.2444\n",
            "Epoch 2/20\n",
            "86/86 [==============================] - 0s 460us/sample - loss: 1.7651 - accuracy: 0.3488 - val_loss: 1.4336 - val_accuracy: 0.3333\n",
            "Epoch 3/20\n",
            "86/86 [==============================] - 0s 523us/sample - loss: 1.3939 - accuracy: 0.3721 - val_loss: 1.2403 - val_accuracy: 0.3333\n",
            "Epoch 4/20\n",
            "86/86 [==============================] - 0s 488us/sample - loss: 1.2431 - accuracy: 0.3721 - val_loss: 1.1940 - val_accuracy: 0.3333\n",
            "Epoch 5/20\n",
            "86/86 [==============================] - 0s 466us/sample - loss: 1.1724 - accuracy: 0.3488 - val_loss: 1.1421 - val_accuracy: 0.4000\n",
            "Epoch 6/20\n",
            "86/86 [==============================] - 0s 526us/sample - loss: 1.1205 - accuracy: 0.3837 - val_loss: 1.1312 - val_accuracy: 0.4000\n",
            "Epoch 7/20\n",
            "86/86 [==============================] - 0s 521us/sample - loss: 1.0769 - accuracy: 0.3953 - val_loss: 1.1011 - val_accuracy: 0.3556\n",
            "Epoch 8/20\n",
            "86/86 [==============================] - 0s 602us/sample - loss: 1.0610 - accuracy: 0.3721 - val_loss: 1.1019 - val_accuracy: 0.4222\n",
            "Epoch 9/20\n",
            "86/86 [==============================] - 0s 559us/sample - loss: 1.0367 - accuracy: 0.4302 - val_loss: 1.0946 - val_accuracy: 0.4444\n",
            "Epoch 10/20\n",
            "86/86 [==============================] - 0s 471us/sample - loss: 1.0064 - accuracy: 0.4535 - val_loss: 1.0975 - val_accuracy: 0.4000\n",
            "Epoch 11/20\n",
            "86/86 [==============================] - 0s 478us/sample - loss: 0.9923 - accuracy: 0.4767 - val_loss: 1.0743 - val_accuracy: 0.4000\n",
            "Epoch 12/20\n",
            "86/86 [==============================] - 0s 478us/sample - loss: 0.9837 - accuracy: 0.4884 - val_loss: 1.0927 - val_accuracy: 0.3778\n",
            "Epoch 13/20\n",
            "86/86 [==============================] - 0s 441us/sample - loss: 0.9797 - accuracy: 0.5000 - val_loss: 1.0881 - val_accuracy: 0.3556\n",
            "Epoch 14/20\n",
            "86/86 [==============================] - 0s 446us/sample - loss: 0.9640 - accuracy: 0.5349 - val_loss: 1.0702 - val_accuracy: 0.3778\n",
            "Epoch 15/20\n",
            "86/86 [==============================] - 0s 476us/sample - loss: 0.9513 - accuracy: 0.5581 - val_loss: 1.0713 - val_accuracy: 0.4000\n",
            "Epoch 16/20\n",
            "86/86 [==============================] - 0s 447us/sample - loss: 0.9461 - accuracy: 0.5698 - val_loss: 1.0751 - val_accuracy: 0.4222\n",
            "Epoch 17/20\n",
            "86/86 [==============================] - 0s 464us/sample - loss: 0.9355 - accuracy: 0.5581 - val_loss: 1.0773 - val_accuracy: 0.4222\n",
            "Epoch 18/20\n",
            "86/86 [==============================] - 0s 410us/sample - loss: 0.9201 - accuracy: 0.5698 - val_loss: 1.0926 - val_accuracy: 0.4444\n",
            "Epoch 19/20\n",
            "86/86 [==============================] - 0s 470us/sample - loss: 0.9157 - accuracy: 0.6163 - val_loss: 1.0820 - val_accuracy: 0.4444\n",
            "Epoch 20/20\n",
            "86/86 [==============================] - 0s 483us/sample - loss: 0.9030 - accuracy: 0.5930 - val_loss: 1.0974 - val_accuracy: 0.4444\n",
            "Train on 86 samples, validate on 45 samples\n",
            "Epoch 1/20\n",
            "86/86 [==============================] - 0s 4ms/sample - loss: 2.0274 - accuracy: 0.3372 - val_loss: 1.6548 - val_accuracy: 0.3778\n",
            "Epoch 2/20\n",
            "86/86 [==============================] - 0s 451us/sample - loss: 1.6006 - accuracy: 0.4186 - val_loss: 1.5618 - val_accuracy: 0.4222\n",
            "Epoch 3/20\n",
            "86/86 [==============================] - 0s 422us/sample - loss: 1.4160 - accuracy: 0.4070 - val_loss: 1.4872 - val_accuracy: 0.4000\n",
            "Epoch 4/20\n",
            "86/86 [==============================] - 0s 444us/sample - loss: 1.3064 - accuracy: 0.4302 - val_loss: 1.4393 - val_accuracy: 0.4222\n",
            "Epoch 5/20\n",
            "86/86 [==============================] - 0s 425us/sample - loss: 1.2541 - accuracy: 0.4884 - val_loss: 1.3899 - val_accuracy: 0.4222\n",
            "Epoch 6/20\n",
            "86/86 [==============================] - 0s 441us/sample - loss: 1.1937 - accuracy: 0.4884 - val_loss: 1.3652 - val_accuracy: 0.4222\n",
            "Epoch 7/20\n",
            "86/86 [==============================] - 0s 450us/sample - loss: 1.1718 - accuracy: 0.5000 - val_loss: 1.3160 - val_accuracy: 0.4222\n",
            "Epoch 8/20\n",
            "86/86 [==============================] - 0s 467us/sample - loss: 1.1020 - accuracy: 0.5233 - val_loss: 1.2908 - val_accuracy: 0.4222\n",
            "Epoch 9/20\n",
            "86/86 [==============================] - 0s 430us/sample - loss: 1.0801 - accuracy: 0.5349 - val_loss: 1.2861 - val_accuracy: 0.4222\n",
            "Epoch 10/20\n",
            "86/86 [==============================] - 0s 442us/sample - loss: 1.0722 - accuracy: 0.5116 - val_loss: 1.2533 - val_accuracy: 0.4222\n",
            "Epoch 11/20\n",
            "86/86 [==============================] - 0s 431us/sample - loss: 1.0291 - accuracy: 0.5349 - val_loss: 1.2266 - val_accuracy: 0.4444\n",
            "Epoch 12/20\n",
            "86/86 [==============================] - 0s 430us/sample - loss: 1.0169 - accuracy: 0.5349 - val_loss: 1.2120 - val_accuracy: 0.4444\n",
            "Epoch 13/20\n",
            "86/86 [==============================] - 0s 432us/sample - loss: 1.0023 - accuracy: 0.5349 - val_loss: 1.1999 - val_accuracy: 0.4667\n",
            "Epoch 14/20\n",
            "86/86 [==============================] - 0s 428us/sample - loss: 0.9931 - accuracy: 0.5698 - val_loss: 1.1887 - val_accuracy: 0.4444\n",
            "Epoch 15/20\n",
            "86/86 [==============================] - 0s 405us/sample - loss: 0.9823 - accuracy: 0.5581 - val_loss: 1.1909 - val_accuracy: 0.5111\n",
            "Epoch 16/20\n",
            "86/86 [==============================] - 0s 407us/sample - loss: 0.9824 - accuracy: 0.5814 - val_loss: 1.1684 - val_accuracy: 0.4667\n",
            "Epoch 17/20\n",
            "86/86 [==============================] - 0s 426us/sample - loss: 0.9634 - accuracy: 0.5930 - val_loss: 1.1640 - val_accuracy: 0.4889\n",
            "Epoch 18/20\n",
            "86/86 [==============================] - 0s 443us/sample - loss: 0.9560 - accuracy: 0.5930 - val_loss: 1.1587 - val_accuracy: 0.4444\n",
            "Epoch 19/20\n",
            "86/86 [==============================] - 0s 522us/sample - loss: 0.9513 - accuracy: 0.5814 - val_loss: 1.1534 - val_accuracy: 0.4667\n",
            "Epoch 20/20\n",
            "86/86 [==============================] - 0s 402us/sample - loss: 0.9454 - accuracy: 0.5814 - val_loss: 1.1400 - val_accuracy: 0.4889\n",
            "Train on 86 samples, validate on 45 samples\n",
            "Epoch 1/20\n",
            "86/86 [==============================] - 0s 4ms/sample - loss: 2.8277 - accuracy: 0.2326 - val_loss: 2.4790 - val_accuracy: 0.2667\n",
            "Epoch 2/20\n",
            "86/86 [==============================] - 0s 438us/sample - loss: 1.8590 - accuracy: 0.3605 - val_loss: 1.7892 - val_accuracy: 0.3111\n",
            "Epoch 3/20\n",
            "86/86 [==============================] - 0s 439us/sample - loss: 1.4705 - accuracy: 0.4186 - val_loss: 1.5269 - val_accuracy: 0.3333\n",
            "Epoch 4/20\n",
            "86/86 [==============================] - 0s 396us/sample - loss: 1.2724 - accuracy: 0.4767 - val_loss: 1.4184 - val_accuracy: 0.3778\n",
            "Epoch 5/20\n",
            "86/86 [==============================] - 0s 416us/sample - loss: 1.1475 - accuracy: 0.5233 - val_loss: 1.3332 - val_accuracy: 0.4000\n",
            "Epoch 6/20\n",
            "86/86 [==============================] - 0s 461us/sample - loss: 1.0834 - accuracy: 0.5116 - val_loss: 1.2903 - val_accuracy: 0.4667\n",
            "Epoch 7/20\n",
            "86/86 [==============================] - 0s 488us/sample - loss: 1.0325 - accuracy: 0.5116 - val_loss: 1.2585 - val_accuracy: 0.4667\n",
            "Epoch 8/20\n",
            "86/86 [==============================] - 0s 475us/sample - loss: 1.0038 - accuracy: 0.5233 - val_loss: 1.2266 - val_accuracy: 0.4444\n",
            "Epoch 9/20\n",
            "86/86 [==============================] - 0s 565us/sample - loss: 0.9801 - accuracy: 0.5814 - val_loss: 1.2286 - val_accuracy: 0.4444\n",
            "Epoch 10/20\n",
            "86/86 [==============================] - 0s 432us/sample - loss: 0.9689 - accuracy: 0.6163 - val_loss: 1.2004 - val_accuracy: 0.4444\n",
            "Epoch 11/20\n",
            "86/86 [==============================] - 0s 446us/sample - loss: 0.9475 - accuracy: 0.5930 - val_loss: 1.1869 - val_accuracy: 0.4889\n",
            "Epoch 12/20\n",
            "86/86 [==============================] - 0s 443us/sample - loss: 0.9370 - accuracy: 0.6279 - val_loss: 1.1746 - val_accuracy: 0.4889\n",
            "Epoch 13/20\n",
            "86/86 [==============================] - 0s 451us/sample - loss: 0.9330 - accuracy: 0.6163 - val_loss: 1.1736 - val_accuracy: 0.4444\n",
            "Epoch 14/20\n",
            "86/86 [==============================] - 0s 433us/sample - loss: 0.9201 - accuracy: 0.6395 - val_loss: 1.1576 - val_accuracy: 0.4667\n",
            "Epoch 15/20\n",
            "86/86 [==============================] - 0s 411us/sample - loss: 0.9047 - accuracy: 0.6512 - val_loss: 1.1542 - val_accuracy: 0.4889\n",
            "Epoch 16/20\n",
            "86/86 [==============================] - 0s 505us/sample - loss: 0.8969 - accuracy: 0.6860 - val_loss: 1.1633 - val_accuracy: 0.5333\n",
            "Epoch 17/20\n",
            "86/86 [==============================] - 0s 427us/sample - loss: 0.8987 - accuracy: 0.6395 - val_loss: 1.1514 - val_accuracy: 0.4889\n",
            "Epoch 18/20\n",
            "86/86 [==============================] - 0s 462us/sample - loss: 0.8892 - accuracy: 0.6860 - val_loss: 1.1484 - val_accuracy: 0.4889\n",
            "Epoch 19/20\n",
            "86/86 [==============================] - 0s 450us/sample - loss: 0.8770 - accuracy: 0.6860 - val_loss: 1.1468 - val_accuracy: 0.4889\n",
            "Epoch 20/20\n",
            "86/86 [==============================] - 0s 466us/sample - loss: 0.8726 - accuracy: 0.6744 - val_loss: 1.1536 - val_accuracy: 0.5111\n"
          ],
          "name": "stdout"
        },
        {
          "output_type": "display_data",
          "data": {
            "text/html": [
              "<span style=\"color:#4527A0\"><h1 style=\"font-size:18px\">Trial complete</h1></span>"
            ],
            "text/plain": [
              "<IPython.core.display.HTML object>"
            ]
          },
          "metadata": {
            "tags": []
          }
        },
        {
          "output_type": "display_data",
          "data": {
            "text/html": [
              "<span style=\"color:#4527A0\"><h1 style=\"font-size:18px\">Trial summary</h1></span>"
            ],
            "text/plain": [
              "<IPython.core.display.HTML object>"
            ]
          },
          "metadata": {
            "tags": []
          }
        },
        {
          "output_type": "display_data",
          "data": {
            "text/html": [
              "<span style=\"color:#7E57C2\"><h2 style=\"font-size:16px\">Hp values:</h2></span>"
            ],
            "text/plain": [
              "<IPython.core.display.HTML object>"
            ]
          },
          "metadata": {
            "tags": []
          }
        },
        {
          "output_type": "display_data",
          "data": {
            "text/html": [
              "<span style=\"color:cyan\"> |-learning_rate: 0.01</span>"
            ],
            "text/plain": [
              "<IPython.core.display.HTML object>"
            ]
          },
          "metadata": {
            "tags": []
          }
        },
        {
          "output_type": "display_data",
          "data": {
            "text/html": [
              "<span style=\"color:blue\"> |-momentum: 0.3</span>"
            ],
            "text/plain": [
              "<IPython.core.display.HTML object>"
            ]
          },
          "metadata": {
            "tags": []
          }
        },
        {
          "output_type": "display_data",
          "data": {
            "text/html": [
              "<span style=\"color:cyan\"> |-Score: 0.4933333396911621</span>"
            ],
            "text/plain": [
              "<IPython.core.display.HTML object>"
            ]
          },
          "metadata": {
            "tags": []
          }
        },
        {
          "output_type": "display_data",
          "data": {
            "text/html": [
              "<span style=\"color:cyan\"> |-Best step: 0</span>"
            ],
            "text/plain": [
              "<IPython.core.display.HTML object>"
            ]
          },
          "metadata": {
            "tags": []
          }
        },
        {
          "output_type": "stream",
          "text": [
            "Train on 86 samples, validate on 45 samples\n",
            "Epoch 1/20\n",
            "86/86 [==============================] - 0s 4ms/sample - loss: 1.8107 - accuracy: 0.3837 - val_loss: 1.6551 - val_accuracy: 0.4444\n",
            "Epoch 2/20\n",
            "86/86 [==============================] - 0s 469us/sample - loss: 1.7475 - accuracy: 0.3837 - val_loss: 1.6152 - val_accuracy: 0.4444\n",
            "Epoch 3/20\n",
            "86/86 [==============================] - 0s 442us/sample - loss: 1.6917 - accuracy: 0.3953 - val_loss: 1.5786 - val_accuracy: 0.4444\n",
            "Epoch 4/20\n",
            "86/86 [==============================] - 0s 415us/sample - loss: 1.6417 - accuracy: 0.4186 - val_loss: 1.5432 - val_accuracy: 0.4444\n",
            "Epoch 5/20\n",
            "86/86 [==============================] - 0s 438us/sample - loss: 1.5944 - accuracy: 0.4302 - val_loss: 1.5103 - val_accuracy: 0.4444\n",
            "Epoch 6/20\n",
            "86/86 [==============================] - 0s 454us/sample - loss: 1.5518 - accuracy: 0.3953 - val_loss: 1.4824 - val_accuracy: 0.4444\n",
            "Epoch 7/20\n",
            "86/86 [==============================] - 0s 463us/sample - loss: 1.5093 - accuracy: 0.4186 - val_loss: 1.4517 - val_accuracy: 0.4444\n",
            "Epoch 8/20\n",
            "86/86 [==============================] - 0s 475us/sample - loss: 1.4722 - accuracy: 0.3953 - val_loss: 1.4282 - val_accuracy: 0.4444\n",
            "Epoch 9/20\n",
            "86/86 [==============================] - 0s 435us/sample - loss: 1.4410 - accuracy: 0.3953 - val_loss: 1.4059 - val_accuracy: 0.4444\n",
            "Epoch 10/20\n",
            "86/86 [==============================] - 0s 424us/sample - loss: 1.4092 - accuracy: 0.4070 - val_loss: 1.3872 - val_accuracy: 0.4444\n",
            "Epoch 11/20\n",
            "86/86 [==============================] - 0s 444us/sample - loss: 1.3843 - accuracy: 0.3953 - val_loss: 1.3690 - val_accuracy: 0.4444\n",
            "Epoch 12/20\n",
            "86/86 [==============================] - 0s 436us/sample - loss: 1.3588 - accuracy: 0.3837 - val_loss: 1.3520 - val_accuracy: 0.4444\n",
            "Epoch 13/20\n",
            "86/86 [==============================] - 0s 461us/sample - loss: 1.3364 - accuracy: 0.3837 - val_loss: 1.3396 - val_accuracy: 0.4444\n",
            "Epoch 14/20\n",
            "86/86 [==============================] - 0s 473us/sample - loss: 1.3151 - accuracy: 0.3953 - val_loss: 1.3280 - val_accuracy: 0.4444\n",
            "Epoch 15/20\n",
            "86/86 [==============================] - 0s 428us/sample - loss: 1.2966 - accuracy: 0.3837 - val_loss: 1.3154 - val_accuracy: 0.4444\n",
            "Epoch 16/20\n",
            "86/86 [==============================] - 0s 425us/sample - loss: 1.2795 - accuracy: 0.3953 - val_loss: 1.3047 - val_accuracy: 0.4222\n",
            "Epoch 17/20\n",
            "86/86 [==============================] - 0s 452us/sample - loss: 1.2641 - accuracy: 0.3721 - val_loss: 1.2951 - val_accuracy: 0.4000\n",
            "Epoch 18/20\n",
            "86/86 [==============================] - 0s 444us/sample - loss: 1.2527 - accuracy: 0.4070 - val_loss: 1.2859 - val_accuracy: 0.3778\n",
            "Epoch 19/20\n",
            "86/86 [==============================] - 0s 514us/sample - loss: 1.2387 - accuracy: 0.4070 - val_loss: 1.2782 - val_accuracy: 0.4000\n",
            "Epoch 20/20\n",
            "86/86 [==============================] - 0s 444us/sample - loss: 1.2275 - accuracy: 0.4535 - val_loss: 1.2695 - val_accuracy: 0.4222\n",
            "Train on 86 samples, validate on 45 samples\n",
            "Epoch 1/20\n",
            "86/86 [==============================] - 0s 4ms/sample - loss: 1.5389 - accuracy: 0.4884 - val_loss: 1.8206 - val_accuracy: 0.4222\n",
            "Epoch 2/20\n",
            "86/86 [==============================] - 0s 464us/sample - loss: 1.4795 - accuracy: 0.4884 - val_loss: 1.7725 - val_accuracy: 0.4222\n",
            "Epoch 3/20\n",
            "86/86 [==============================] - 0s 403us/sample - loss: 1.4317 - accuracy: 0.4884 - val_loss: 1.7285 - val_accuracy: 0.4222\n",
            "Epoch 4/20\n",
            "86/86 [==============================] - 0s 446us/sample - loss: 1.3891 - accuracy: 0.5116 - val_loss: 1.6875 - val_accuracy: 0.4222\n",
            "Epoch 5/20\n",
            "86/86 [==============================] - 0s 459us/sample - loss: 1.3473 - accuracy: 0.5000 - val_loss: 1.6496 - val_accuracy: 0.4000\n",
            "Epoch 6/20\n",
            "86/86 [==============================] - 0s 440us/sample - loss: 1.3128 - accuracy: 0.5000 - val_loss: 1.6211 - val_accuracy: 0.3778\n",
            "Epoch 7/20\n",
            "86/86 [==============================] - 0s 445us/sample - loss: 1.2831 - accuracy: 0.4884 - val_loss: 1.5900 - val_accuracy: 0.3778\n",
            "Epoch 8/20\n",
            "86/86 [==============================] - 0s 445us/sample - loss: 1.2568 - accuracy: 0.5000 - val_loss: 1.5632 - val_accuracy: 0.3778\n",
            "Epoch 9/20\n",
            "86/86 [==============================] - 0s 439us/sample - loss: 1.2401 - accuracy: 0.4767 - val_loss: 1.5370 - val_accuracy: 0.3778\n",
            "Epoch 10/20\n",
            "86/86 [==============================] - 0s 423us/sample - loss: 1.2121 - accuracy: 0.5000 - val_loss: 1.5136 - val_accuracy: 0.4222\n",
            "Epoch 11/20\n",
            "86/86 [==============================] - 0s 424us/sample - loss: 1.1852 - accuracy: 0.5000 - val_loss: 1.4930 - val_accuracy: 0.4222\n",
            "Epoch 12/20\n",
            "86/86 [==============================] - 0s 457us/sample - loss: 1.1646 - accuracy: 0.5000 - val_loss: 1.4720 - val_accuracy: 0.4222\n",
            "Epoch 13/20\n",
            "86/86 [==============================] - 0s 457us/sample - loss: 1.1461 - accuracy: 0.5000 - val_loss: 1.4546 - val_accuracy: 0.4222\n",
            "Epoch 14/20\n",
            "86/86 [==============================] - 0s 443us/sample - loss: 1.1297 - accuracy: 0.5000 - val_loss: 1.4376 - val_accuracy: 0.4222\n",
            "Epoch 15/20\n",
            "86/86 [==============================] - 0s 420us/sample - loss: 1.1136 - accuracy: 0.5233 - val_loss: 1.4233 - val_accuracy: 0.4222\n",
            "Epoch 16/20\n",
            "86/86 [==============================] - 0s 457us/sample - loss: 1.0999 - accuracy: 0.5233 - val_loss: 1.4068 - val_accuracy: 0.4222\n",
            "Epoch 17/20\n",
            "86/86 [==============================] - 0s 427us/sample - loss: 1.0890 - accuracy: 0.5698 - val_loss: 1.3927 - val_accuracy: 0.4222\n",
            "Epoch 18/20\n",
            "86/86 [==============================] - 0s 450us/sample - loss: 1.0760 - accuracy: 0.5814 - val_loss: 1.3791 - val_accuracy: 0.4222\n",
            "Epoch 19/20\n",
            "86/86 [==============================] - 0s 447us/sample - loss: 1.0709 - accuracy: 0.5698 - val_loss: 1.3674 - val_accuracy: 0.4222\n",
            "Epoch 20/20\n",
            "86/86 [==============================] - 0s 506us/sample - loss: 1.0555 - accuracy: 0.5698 - val_loss: 1.3564 - val_accuracy: 0.4222\n",
            "Train on 86 samples, validate on 45 samples\n",
            "Epoch 1/20\n",
            "86/86 [==============================] - 0s 4ms/sample - loss: 3.1992 - accuracy: 0.4186 - val_loss: 2.9111 - val_accuracy: 0.4889\n",
            "Epoch 2/20\n",
            "86/86 [==============================] - 0s 792us/sample - loss: 3.0218 - accuracy: 0.4302 - val_loss: 2.7466 - val_accuracy: 0.5111\n",
            "Epoch 3/20\n",
            "86/86 [==============================] - 0s 443us/sample - loss: 2.8687 - accuracy: 0.4302 - val_loss: 2.5984 - val_accuracy: 0.5111\n",
            "Epoch 4/20\n",
            "86/86 [==============================] - 0s 411us/sample - loss: 2.7289 - accuracy: 0.4302 - val_loss: 2.4678 - val_accuracy: 0.5111\n",
            "Epoch 5/20\n",
            "86/86 [==============================] - 0s 565us/sample - loss: 2.5976 - accuracy: 0.4535 - val_loss: 2.3337 - val_accuracy: 0.5333\n",
            "Epoch 6/20\n",
            "86/86 [==============================] - 0s 454us/sample - loss: 2.4821 - accuracy: 0.4419 - val_loss: 2.2199 - val_accuracy: 0.5111\n",
            "Epoch 7/20\n",
            "86/86 [==============================] - 0s 456us/sample - loss: 2.3702 - accuracy: 0.4419 - val_loss: 2.1179 - val_accuracy: 0.5111\n",
            "Epoch 8/20\n",
            "86/86 [==============================] - 0s 488us/sample - loss: 2.2704 - accuracy: 0.4535 - val_loss: 2.0187 - val_accuracy: 0.5111\n",
            "Epoch 9/20\n",
            "86/86 [==============================] - 0s 448us/sample - loss: 2.1784 - accuracy: 0.4535 - val_loss: 1.9314 - val_accuracy: 0.5111\n",
            "Epoch 10/20\n",
            "86/86 [==============================] - 0s 465us/sample - loss: 2.0890 - accuracy: 0.4535 - val_loss: 1.8500 - val_accuracy: 0.4889\n",
            "Epoch 11/20\n",
            "86/86 [==============================] - 0s 443us/sample - loss: 2.0136 - accuracy: 0.4419 - val_loss: 1.7688 - val_accuracy: 0.4889\n",
            "Epoch 12/20\n",
            "86/86 [==============================] - 0s 455us/sample - loss: 1.9420 - accuracy: 0.4302 - val_loss: 1.7012 - val_accuracy: 0.4889\n",
            "Epoch 13/20\n",
            "86/86 [==============================] - 0s 431us/sample - loss: 1.8736 - accuracy: 0.4302 - val_loss: 1.6390 - val_accuracy: 0.4889\n",
            "Epoch 14/20\n",
            "86/86 [==============================] - 0s 454us/sample - loss: 1.8126 - accuracy: 0.4419 - val_loss: 1.5763 - val_accuracy: 0.4889\n",
            "Epoch 15/20\n",
            "86/86 [==============================] - 0s 429us/sample - loss: 1.7494 - accuracy: 0.4302 - val_loss: 1.5196 - val_accuracy: 0.4667\n",
            "Epoch 16/20\n",
            "86/86 [==============================] - 0s 447us/sample - loss: 1.6911 - accuracy: 0.4419 - val_loss: 1.4636 - val_accuracy: 0.4444\n",
            "Epoch 17/20\n",
            "86/86 [==============================] - 0s 440us/sample - loss: 1.6364 - accuracy: 0.4419 - val_loss: 1.4164 - val_accuracy: 0.4444\n",
            "Epoch 18/20\n",
            "86/86 [==============================] - 0s 458us/sample - loss: 1.5890 - accuracy: 0.4419 - val_loss: 1.3756 - val_accuracy: 0.4444\n",
            "Epoch 19/20\n",
            "86/86 [==============================] - 0s 457us/sample - loss: 1.5441 - accuracy: 0.4651 - val_loss: 1.3358 - val_accuracy: 0.4444\n",
            "Epoch 20/20\n",
            "86/86 [==============================] - 0s 510us/sample - loss: 1.5000 - accuracy: 0.4419 - val_loss: 1.3006 - val_accuracy: 0.4444\n",
            "Train on 86 samples, validate on 45 samples\n",
            "Epoch 1/20\n",
            "86/86 [==============================] - 0s 4ms/sample - loss: 1.6206 - accuracy: 0.3256 - val_loss: 1.6996 - val_accuracy: 0.2444\n",
            "Epoch 2/20\n",
            "86/86 [==============================] - 0s 460us/sample - loss: 1.5518 - accuracy: 0.3721 - val_loss: 1.6299 - val_accuracy: 0.2444\n",
            "Epoch 3/20\n",
            "86/86 [==============================] - 0s 448us/sample - loss: 1.4902 - accuracy: 0.3953 - val_loss: 1.5667 - val_accuracy: 0.2444\n",
            "Epoch 4/20\n",
            "86/86 [==============================] - 0s 389us/sample - loss: 1.4365 - accuracy: 0.3837 - val_loss: 1.5131 - val_accuracy: 0.2444\n",
            "Epoch 5/20\n",
            "86/86 [==============================] - 0s 429us/sample - loss: 1.3877 - accuracy: 0.3837 - val_loss: 1.4627 - val_accuracy: 0.2889\n",
            "Epoch 6/20\n",
            "86/86 [==============================] - 0s 404us/sample - loss: 1.3441 - accuracy: 0.3837 - val_loss: 1.4178 - val_accuracy: 0.2889\n",
            "Epoch 7/20\n",
            "86/86 [==============================] - 0s 474us/sample - loss: 1.3052 - accuracy: 0.3837 - val_loss: 1.3753 - val_accuracy: 0.2889\n",
            "Epoch 8/20\n",
            "86/86 [==============================] - 0s 426us/sample - loss: 1.2691 - accuracy: 0.3953 - val_loss: 1.3390 - val_accuracy: 0.2889\n",
            "Epoch 9/20\n",
            "86/86 [==============================] - 0s 451us/sample - loss: 1.2363 - accuracy: 0.4070 - val_loss: 1.3045 - val_accuracy: 0.2889\n",
            "Epoch 10/20\n",
            "86/86 [==============================] - 0s 438us/sample - loss: 1.2044 - accuracy: 0.3953 - val_loss: 1.2692 - val_accuracy: 0.2889\n",
            "Epoch 11/20\n",
            "86/86 [==============================] - 0s 449us/sample - loss: 1.1763 - accuracy: 0.3953 - val_loss: 1.2426 - val_accuracy: 0.2889\n",
            "Epoch 12/20\n",
            "86/86 [==============================] - 0s 430us/sample - loss: 1.1521 - accuracy: 0.4070 - val_loss: 1.2138 - val_accuracy: 0.3111\n",
            "Epoch 13/20\n",
            "86/86 [==============================] - 0s 477us/sample - loss: 1.1275 - accuracy: 0.4070 - val_loss: 1.1920 - val_accuracy: 0.3111\n",
            "Epoch 14/20\n",
            "86/86 [==============================] - 0s 427us/sample - loss: 1.1078 - accuracy: 0.3953 - val_loss: 1.1694 - val_accuracy: 0.3111\n",
            "Epoch 15/20\n",
            "86/86 [==============================] - 0s 423us/sample - loss: 1.0877 - accuracy: 0.4070 - val_loss: 1.1511 - val_accuracy: 0.3111\n",
            "Epoch 16/20\n",
            "86/86 [==============================] - 0s 461us/sample - loss: 1.0695 - accuracy: 0.4186 - val_loss: 1.1329 - val_accuracy: 0.3333\n",
            "Epoch 17/20\n",
            "86/86 [==============================] - 0s 430us/sample - loss: 1.0544 - accuracy: 0.4186 - val_loss: 1.1157 - val_accuracy: 0.3556\n",
            "Epoch 18/20\n",
            "86/86 [==============================] - 0s 427us/sample - loss: 1.0404 - accuracy: 0.4186 - val_loss: 1.1017 - val_accuracy: 0.3778\n",
            "Epoch 19/20\n",
            "86/86 [==============================] - 0s 476us/sample - loss: 1.0300 - accuracy: 0.4186 - val_loss: 1.0903 - val_accuracy: 0.3556\n",
            "Epoch 20/20\n",
            "86/86 [==============================] - 0s 440us/sample - loss: 1.0162 - accuracy: 0.4302 - val_loss: 1.0776 - val_accuracy: 0.3556\n",
            "Train on 86 samples, validate on 45 samples\n",
            "Epoch 1/20\n",
            "86/86 [==============================] - 0s 4ms/sample - loss: 2.5468 - accuracy: 0.2558 - val_loss: 2.9685 - val_accuracy: 0.2222\n",
            "Epoch 2/20\n",
            "86/86 [==============================] - 0s 428us/sample - loss: 2.3739 - accuracy: 0.2558 - val_loss: 2.7896 - val_accuracy: 0.2222\n",
            "Epoch 3/20\n",
            "86/86 [==============================] - 0s 427us/sample - loss: 2.2219 - accuracy: 0.2674 - val_loss: 2.6411 - val_accuracy: 0.2222\n",
            "Epoch 4/20\n",
            "86/86 [==============================] - 0s 408us/sample - loss: 2.0905 - accuracy: 0.2791 - val_loss: 2.5006 - val_accuracy: 0.2444\n",
            "Epoch 5/20\n",
            "86/86 [==============================] - 0s 449us/sample - loss: 1.9757 - accuracy: 0.2907 - val_loss: 2.3866 - val_accuracy: 0.2667\n",
            "Epoch 6/20\n",
            "86/86 [==============================] - 0s 449us/sample - loss: 1.8769 - accuracy: 0.2907 - val_loss: 2.2853 - val_accuracy: 0.2667\n",
            "Epoch 7/20\n",
            "86/86 [==============================] - 0s 442us/sample - loss: 1.7930 - accuracy: 0.3140 - val_loss: 2.1942 - val_accuracy: 0.2444\n",
            "Epoch 8/20\n",
            "86/86 [==============================] - 0s 444us/sample - loss: 1.7143 - accuracy: 0.3372 - val_loss: 2.1140 - val_accuracy: 0.2667\n",
            "Epoch 9/20\n",
            "86/86 [==============================] - 0s 539us/sample - loss: 1.6456 - accuracy: 0.3488 - val_loss: 2.0408 - val_accuracy: 0.2667\n",
            "Epoch 10/20\n",
            "86/86 [==============================] - 0s 475us/sample - loss: 1.5868 - accuracy: 0.3488 - val_loss: 1.9735 - val_accuracy: 0.2889\n",
            "Epoch 11/20\n",
            "86/86 [==============================] - 0s 660us/sample - loss: 1.5301 - accuracy: 0.3605 - val_loss: 1.9151 - val_accuracy: 0.2889\n",
            "Epoch 12/20\n",
            "86/86 [==============================] - 0s 481us/sample - loss: 1.4834 - accuracy: 0.3953 - val_loss: 1.8613 - val_accuracy: 0.3111\n",
            "Epoch 13/20\n",
            "86/86 [==============================] - 0s 469us/sample - loss: 1.4432 - accuracy: 0.4070 - val_loss: 1.8131 - val_accuracy: 0.3111\n",
            "Epoch 14/20\n",
            "86/86 [==============================] - 0s 414us/sample - loss: 1.4066 - accuracy: 0.4070 - val_loss: 1.7706 - val_accuracy: 0.2889\n",
            "Epoch 15/20\n",
            "86/86 [==============================] - 0s 435us/sample - loss: 1.3739 - accuracy: 0.3953 - val_loss: 1.7328 - val_accuracy: 0.2889\n",
            "Epoch 16/20\n",
            "86/86 [==============================] - 0s 429us/sample - loss: 1.3455 - accuracy: 0.3953 - val_loss: 1.6964 - val_accuracy: 0.2889\n",
            "Epoch 17/20\n",
            "86/86 [==============================] - 0s 528us/sample - loss: 1.3197 - accuracy: 0.4302 - val_loss: 1.6653 - val_accuracy: 0.2889\n",
            "Epoch 18/20\n",
            "86/86 [==============================] - 0s 438us/sample - loss: 1.2966 - accuracy: 0.4535 - val_loss: 1.6372 - val_accuracy: 0.2889\n",
            "Epoch 19/20\n",
            "86/86 [==============================] - 0s 437us/sample - loss: 1.2743 - accuracy: 0.4535 - val_loss: 1.6082 - val_accuracy: 0.2889\n",
            "Epoch 20/20\n",
            "86/86 [==============================] - 0s 471us/sample - loss: 1.2546 - accuracy: 0.4767 - val_loss: 1.5837 - val_accuracy: 0.2889\n"
          ],
          "name": "stdout"
        },
        {
          "output_type": "display_data",
          "data": {
            "text/html": [
              "<span style=\"color:#4527A0\"><h1 style=\"font-size:18px\">Trial complete</h1></span>"
            ],
            "text/plain": [
              "<IPython.core.display.HTML object>"
            ]
          },
          "metadata": {
            "tags": []
          }
        },
        {
          "output_type": "display_data",
          "data": {
            "text/html": [
              "<span style=\"color:#4527A0\"><h1 style=\"font-size:18px\">Trial summary</h1></span>"
            ],
            "text/plain": [
              "<IPython.core.display.HTML object>"
            ]
          },
          "metadata": {
            "tags": []
          }
        },
        {
          "output_type": "display_data",
          "data": {
            "text/html": [
              "<span style=\"color:#7E57C2\"><h2 style=\"font-size:16px\">Hp values:</h2></span>"
            ],
            "text/plain": [
              "<IPython.core.display.HTML object>"
            ]
          },
          "metadata": {
            "tags": []
          }
        },
        {
          "output_type": "display_data",
          "data": {
            "text/html": [
              "<span style=\"color:cyan\"> |-learning_rate: 0.001</span>"
            ],
            "text/plain": [
              "<IPython.core.display.HTML object>"
            ]
          },
          "metadata": {
            "tags": []
          }
        },
        {
          "output_type": "display_data",
          "data": {
            "text/html": [
              "<span style=\"color:blue\"> |-momentum: 0.5</span>"
            ],
            "text/plain": [
              "<IPython.core.display.HTML object>"
            ]
          },
          "metadata": {
            "tags": []
          }
        },
        {
          "output_type": "display_data",
          "data": {
            "text/html": [
              "<span style=\"color:cyan\"> |-Score: 0.4177778363227844</span>"
            ],
            "text/plain": [
              "<IPython.core.display.HTML object>"
            ]
          },
          "metadata": {
            "tags": []
          }
        },
        {
          "output_type": "display_data",
          "data": {
            "text/html": [
              "<span style=\"color:cyan\"> |-Best step: 0</span>"
            ],
            "text/plain": [
              "<IPython.core.display.HTML object>"
            ]
          },
          "metadata": {
            "tags": []
          }
        },
        {
          "output_type": "stream",
          "text": [
            "Train on 86 samples, validate on 45 samples\n",
            "Epoch 1/20\n",
            "86/86 [==============================] - 0s 4ms/sample - loss: 3.0525 - accuracy: 0.5465 - val_loss: 3.3654 - val_accuracy: 0.3556\n",
            "Epoch 2/20\n",
            "86/86 [==============================] - 0s 479us/sample - loss: 2.6905 - accuracy: 0.5349 - val_loss: 2.8698 - val_accuracy: 0.3556\n",
            "Epoch 3/20\n",
            "86/86 [==============================] - 0s 446us/sample - loss: 2.3285 - accuracy: 0.5233 - val_loss: 2.5182 - val_accuracy: 0.3556\n",
            "Epoch 4/20\n",
            "86/86 [==============================] - 0s 449us/sample - loss: 2.0600 - accuracy: 0.5116 - val_loss: 2.1982 - val_accuracy: 0.3556\n",
            "Epoch 5/20\n",
            "86/86 [==============================] - 0s 450us/sample - loss: 1.8094 - accuracy: 0.5233 - val_loss: 1.9914 - val_accuracy: 0.3556\n",
            "Epoch 6/20\n",
            "86/86 [==============================] - 0s 528us/sample - loss: 1.6373 - accuracy: 0.5233 - val_loss: 1.7956 - val_accuracy: 0.3778\n",
            "Epoch 7/20\n",
            "86/86 [==============================] - 0s 522us/sample - loss: 1.4971 - accuracy: 0.5233 - val_loss: 1.6875 - val_accuracy: 0.4000\n",
            "Epoch 8/20\n",
            "86/86 [==============================] - 0s 435us/sample - loss: 1.4003 - accuracy: 0.5233 - val_loss: 1.5788 - val_accuracy: 0.3556\n",
            "Epoch 9/20\n",
            "86/86 [==============================] - 0s 459us/sample - loss: 1.3111 - accuracy: 0.5233 - val_loss: 1.4938 - val_accuracy: 0.4000\n",
            "Epoch 10/20\n",
            "86/86 [==============================] - 0s 417us/sample - loss: 1.2356 - accuracy: 0.5233 - val_loss: 1.4523 - val_accuracy: 0.4000\n",
            "Epoch 11/20\n",
            "86/86 [==============================] - 0s 528us/sample - loss: 1.1895 - accuracy: 0.5233 - val_loss: 1.4094 - val_accuracy: 0.4222\n",
            "Epoch 12/20\n",
            "86/86 [==============================] - 0s 425us/sample - loss: 1.1430 - accuracy: 0.5465 - val_loss: 1.3794 - val_accuracy: 0.4222\n",
            "Epoch 13/20\n",
            "86/86 [==============================] - 0s 514us/sample - loss: 1.1071 - accuracy: 0.5349 - val_loss: 1.3444 - val_accuracy: 0.4444\n",
            "Epoch 14/20\n",
            "86/86 [==============================] - 0s 447us/sample - loss: 1.0827 - accuracy: 0.5465 - val_loss: 1.3168 - val_accuracy: 0.4444\n",
            "Epoch 15/20\n",
            "86/86 [==============================] - 0s 447us/sample - loss: 1.0569 - accuracy: 0.5233 - val_loss: 1.3031 - val_accuracy: 0.4444\n",
            "Epoch 16/20\n",
            "86/86 [==============================] - 0s 472us/sample - loss: 1.0397 - accuracy: 0.5349 - val_loss: 1.2805 - val_accuracy: 0.4444\n",
            "Epoch 17/20\n",
            "86/86 [==============================] - 0s 454us/sample - loss: 1.0216 - accuracy: 0.5349 - val_loss: 1.2626 - val_accuracy: 0.4444\n",
            "Epoch 18/20\n",
            "86/86 [==============================] - 0s 463us/sample - loss: 1.0116 - accuracy: 0.5233 - val_loss: 1.2453 - val_accuracy: 0.4444\n",
            "Epoch 19/20\n",
            "86/86 [==============================] - 0s 494us/sample - loss: 1.0000 - accuracy: 0.5349 - val_loss: 1.2328 - val_accuracy: 0.4667\n",
            "Epoch 20/20\n",
            "86/86 [==============================] - 0s 482us/sample - loss: 0.9873 - accuracy: 0.5349 - val_loss: 1.2249 - val_accuracy: 0.4667\n",
            "Train on 86 samples, validate on 45 samples\n",
            "Epoch 1/20\n",
            "86/86 [==============================] - 0s 4ms/sample - loss: 2.5318 - accuracy: 0.2093 - val_loss: 2.3480 - val_accuracy: 0.2222\n",
            "Epoch 2/20\n",
            "86/86 [==============================] - 0s 450us/sample - loss: 2.1167 - accuracy: 0.2442 - val_loss: 1.9688 - val_accuracy: 0.2444\n",
            "Epoch 3/20\n",
            "86/86 [==============================] - 0s 471us/sample - loss: 1.7936 - accuracy: 0.3023 - val_loss: 1.6846 - val_accuracy: 0.2444\n",
            "Epoch 4/20\n",
            "86/86 [==============================] - 0s 408us/sample - loss: 1.5728 - accuracy: 0.3372 - val_loss: 1.5179 - val_accuracy: 0.3111\n",
            "Epoch 5/20\n",
            "86/86 [==============================] - 0s 401us/sample - loss: 1.4441 - accuracy: 0.3372 - val_loss: 1.3843 - val_accuracy: 0.3556\n",
            "Epoch 6/20\n",
            "86/86 [==============================] - 0s 417us/sample - loss: 1.3471 - accuracy: 0.3256 - val_loss: 1.2817 - val_accuracy: 0.4222\n",
            "Epoch 7/20\n",
            "86/86 [==============================] - 0s 451us/sample - loss: 1.2674 - accuracy: 0.3488 - val_loss: 1.2240 - val_accuracy: 0.4222\n",
            "Epoch 8/20\n",
            "86/86 [==============================] - 0s 448us/sample - loss: 1.2131 - accuracy: 0.3605 - val_loss: 1.1571 - val_accuracy: 0.4222\n",
            "Epoch 9/20\n",
            "86/86 [==============================] - 0s 464us/sample - loss: 1.1604 - accuracy: 0.4070 - val_loss: 1.1143 - val_accuracy: 0.4667\n",
            "Epoch 10/20\n",
            "86/86 [==============================] - 0s 404us/sample - loss: 1.1227 - accuracy: 0.4302 - val_loss: 1.0867 - val_accuracy: 0.4667\n",
            "Epoch 11/20\n",
            "86/86 [==============================] - 0s 436us/sample - loss: 1.0943 - accuracy: 0.4535 - val_loss: 1.0675 - val_accuracy: 0.4444\n",
            "Epoch 12/20\n",
            "86/86 [==============================] - 0s 451us/sample - loss: 1.0702 - accuracy: 0.4767 - val_loss: 1.0519 - val_accuracy: 0.4444\n",
            "Epoch 13/20\n",
            "86/86 [==============================] - 0s 447us/sample - loss: 1.0530 - accuracy: 0.5116 - val_loss: 1.0428 - val_accuracy: 0.4444\n",
            "Epoch 14/20\n",
            "86/86 [==============================] - 0s 458us/sample - loss: 1.0446 - accuracy: 0.5465 - val_loss: 1.0370 - val_accuracy: 0.4667\n",
            "Epoch 15/20\n",
            "86/86 [==============================] - 0s 525us/sample - loss: 1.0311 - accuracy: 0.5465 - val_loss: 1.0300 - val_accuracy: 0.4889\n",
            "Epoch 16/20\n",
            "86/86 [==============================] - 0s 481us/sample - loss: 1.0243 - accuracy: 0.5581 - val_loss: 1.0245 - val_accuracy: 0.4889\n",
            "Epoch 17/20\n",
            "86/86 [==============================] - 0s 526us/sample - loss: 1.0167 - accuracy: 0.5698 - val_loss: 1.0220 - val_accuracy: 0.5111\n",
            "Epoch 18/20\n",
            "86/86 [==============================] - 0s 474us/sample - loss: 1.0121 - accuracy: 0.5814 - val_loss: 1.0155 - val_accuracy: 0.5111\n",
            "Epoch 19/20\n",
            "86/86 [==============================] - 0s 433us/sample - loss: 1.0092 - accuracy: 0.5698 - val_loss: 1.0177 - val_accuracy: 0.4889\n",
            "Epoch 20/20\n",
            "86/86 [==============================] - 0s 419us/sample - loss: 1.0030 - accuracy: 0.5698 - val_loss: 1.0147 - val_accuracy: 0.5111\n",
            "Train on 86 samples, validate on 45 samples\n",
            "Epoch 1/20\n",
            "86/86 [==============================] - 0s 4ms/sample - loss: 1.5647 - accuracy: 0.3256 - val_loss: 1.2657 - val_accuracy: 0.4222\n",
            "Epoch 2/20\n",
            "86/86 [==============================] - 0s 449us/sample - loss: 1.4769 - accuracy: 0.3488 - val_loss: 1.2074 - val_accuracy: 0.4222\n",
            "Epoch 3/20\n",
            "86/86 [==============================] - 0s 429us/sample - loss: 1.3741 - accuracy: 0.3605 - val_loss: 1.1628 - val_accuracy: 0.4222\n",
            "Epoch 4/20\n",
            "86/86 [==============================] - 0s 457us/sample - loss: 1.3046 - accuracy: 0.3953 - val_loss: 1.1287 - val_accuracy: 0.4000\n",
            "Epoch 5/20\n",
            "86/86 [==============================] - 0s 472us/sample - loss: 1.2379 - accuracy: 0.4070 - val_loss: 1.1075 - val_accuracy: 0.4000\n",
            "Epoch 6/20\n",
            "86/86 [==============================] - 0s 463us/sample - loss: 1.1874 - accuracy: 0.4419 - val_loss: 1.0870 - val_accuracy: 0.4000\n",
            "Epoch 7/20\n",
            "86/86 [==============================] - 0s 468us/sample - loss: 1.1427 - accuracy: 0.5000 - val_loss: 1.0724 - val_accuracy: 0.4222\n",
            "Epoch 8/20\n",
            "86/86 [==============================] - 0s 467us/sample - loss: 1.1037 - accuracy: 0.5233 - val_loss: 1.0599 - val_accuracy: 0.4667\n",
            "Epoch 9/20\n",
            "86/86 [==============================] - 0s 486us/sample - loss: 1.0679 - accuracy: 0.5233 - val_loss: 1.0546 - val_accuracy: 0.4889\n",
            "Epoch 10/20\n",
            "86/86 [==============================] - 0s 434us/sample - loss: 1.0443 - accuracy: 0.5814 - val_loss: 1.0468 - val_accuracy: 0.4889\n",
            "Epoch 11/20\n",
            "86/86 [==============================] - 0s 439us/sample - loss: 1.0227 - accuracy: 0.5698 - val_loss: 1.0421 - val_accuracy: 0.5111\n",
            "Epoch 12/20\n",
            "86/86 [==============================] - 0s 508us/sample - loss: 1.0082 - accuracy: 0.5814 - val_loss: 1.0361 - val_accuracy: 0.5111\n",
            "Epoch 13/20\n",
            "86/86 [==============================] - 0s 480us/sample - loss: 0.9896 - accuracy: 0.6047 - val_loss: 1.0386 - val_accuracy: 0.4889\n",
            "Epoch 14/20\n",
            "86/86 [==============================] - 0s 427us/sample - loss: 0.9787 - accuracy: 0.6047 - val_loss: 1.0358 - val_accuracy: 0.5111\n",
            "Epoch 15/20\n",
            "86/86 [==============================] - 0s 459us/sample - loss: 0.9659 - accuracy: 0.6047 - val_loss: 1.0357 - val_accuracy: 0.5111\n",
            "Epoch 16/20\n",
            "86/86 [==============================] - 0s 521us/sample - loss: 0.9539 - accuracy: 0.5930 - val_loss: 1.0320 - val_accuracy: 0.5556\n",
            "Epoch 17/20\n",
            "86/86 [==============================] - 0s 464us/sample - loss: 0.9503 - accuracy: 0.6163 - val_loss: 1.0341 - val_accuracy: 0.4889\n",
            "Epoch 18/20\n",
            "86/86 [==============================] - 0s 437us/sample - loss: 0.9397 - accuracy: 0.6047 - val_loss: 1.0340 - val_accuracy: 0.5111\n",
            "Epoch 19/20\n",
            "86/86 [==============================] - 0s 431us/sample - loss: 0.9311 - accuracy: 0.5930 - val_loss: 1.0302 - val_accuracy: 0.5111\n",
            "Epoch 20/20\n",
            "86/86 [==============================] - 0s 446us/sample - loss: 0.9279 - accuracy: 0.5930 - val_loss: 1.0303 - val_accuracy: 0.5111\n",
            "Train on 86 samples, validate on 45 samples\n",
            "Epoch 1/20\n",
            "86/86 [==============================] - 0s 4ms/sample - loss: 1.9293 - accuracy: 0.4186 - val_loss: 1.5320 - val_accuracy: 0.3778\n",
            "Epoch 2/20\n",
            "86/86 [==============================] - 0s 486us/sample - loss: 1.8025 - accuracy: 0.4302 - val_loss: 1.4421 - val_accuracy: 0.3556\n",
            "Epoch 3/20\n",
            "86/86 [==============================] - 0s 496us/sample - loss: 1.6957 - accuracy: 0.4535 - val_loss: 1.3524 - val_accuracy: 0.3333\n",
            "Epoch 4/20\n",
            "86/86 [==============================] - 0s 444us/sample - loss: 1.6106 - accuracy: 0.4884 - val_loss: 1.2967 - val_accuracy: 0.3778\n",
            "Epoch 5/20\n",
            "86/86 [==============================] - 0s 465us/sample - loss: 1.5646 - accuracy: 0.5000 - val_loss: 1.2746 - val_accuracy: 0.3778\n",
            "Epoch 6/20\n",
            "86/86 [==============================] - 0s 461us/sample - loss: 1.4929 - accuracy: 0.4767 - val_loss: 1.2434 - val_accuracy: 0.4000\n",
            "Epoch 7/20\n",
            "86/86 [==============================] - 0s 548us/sample - loss: 1.4456 - accuracy: 0.4535 - val_loss: 1.2251 - val_accuracy: 0.3778\n",
            "Epoch 8/20\n",
            "86/86 [==============================] - 0s 449us/sample - loss: 1.4014 - accuracy: 0.4651 - val_loss: 1.2011 - val_accuracy: 0.4000\n",
            "Epoch 9/20\n",
            "86/86 [==============================] - 0s 457us/sample - loss: 1.3545 - accuracy: 0.4884 - val_loss: 1.1910 - val_accuracy: 0.4222\n",
            "Epoch 10/20\n",
            "86/86 [==============================] - 0s 428us/sample - loss: 1.3192 - accuracy: 0.4767 - val_loss: 1.1786 - val_accuracy: 0.3333\n",
            "Epoch 11/20\n",
            "86/86 [==============================] - 0s 486us/sample - loss: 1.2788 - accuracy: 0.4884 - val_loss: 1.1647 - val_accuracy: 0.3556\n",
            "Epoch 12/20\n",
            "86/86 [==============================] - 0s 456us/sample - loss: 1.2525 - accuracy: 0.4651 - val_loss: 1.1550 - val_accuracy: 0.3778\n",
            "Epoch 13/20\n",
            "86/86 [==============================] - 0s 448us/sample - loss: 1.2210 - accuracy: 0.4884 - val_loss: 1.1487 - val_accuracy: 0.3778\n",
            "Epoch 14/20\n",
            "86/86 [==============================] - 0s 449us/sample - loss: 1.1976 - accuracy: 0.4884 - val_loss: 1.1413 - val_accuracy: 0.3556\n",
            "Epoch 15/20\n",
            "86/86 [==============================] - 0s 419us/sample - loss: 1.1726 - accuracy: 0.4884 - val_loss: 1.1322 - val_accuracy: 0.3778\n",
            "Epoch 16/20\n",
            "86/86 [==============================] - 0s 455us/sample - loss: 1.1506 - accuracy: 0.5000 - val_loss: 1.1243 - val_accuracy: 0.3778\n",
            "Epoch 17/20\n",
            "86/86 [==============================] - 0s 455us/sample - loss: 1.1365 - accuracy: 0.5233 - val_loss: 1.1182 - val_accuracy: 0.3778\n",
            "Epoch 18/20\n",
            "86/86 [==============================] - 0s 489us/sample - loss: 1.1157 - accuracy: 0.5233 - val_loss: 1.1190 - val_accuracy: 0.3556\n",
            "Epoch 19/20\n",
            "86/86 [==============================] - 0s 439us/sample - loss: 1.0981 - accuracy: 0.5116 - val_loss: 1.1103 - val_accuracy: 0.3778\n",
            "Epoch 20/20\n",
            "86/86 [==============================] - 0s 459us/sample - loss: 1.0917 - accuracy: 0.5233 - val_loss: 1.1103 - val_accuracy: 0.3556\n",
            "Train on 86 samples, validate on 45 samples\n",
            "Epoch 1/20\n",
            "86/86 [==============================] - 0s 4ms/sample - loss: 4.1729 - accuracy: 0.4186 - val_loss: 3.7608 - val_accuracy: 0.4222\n",
            "Epoch 2/20\n",
            "86/86 [==============================] - 0s 455us/sample - loss: 3.4537 - accuracy: 0.4535 - val_loss: 3.1973 - val_accuracy: 0.4000\n",
            "Epoch 3/20\n",
            "86/86 [==============================] - 0s 526us/sample - loss: 2.8970 - accuracy: 0.4651 - val_loss: 2.6499 - val_accuracy: 0.4000\n",
            "Epoch 4/20\n",
            "86/86 [==============================] - 0s 457us/sample - loss: 2.4404 - accuracy: 0.4651 - val_loss: 2.2822 - val_accuracy: 0.4000\n",
            "Epoch 5/20\n",
            "86/86 [==============================] - 0s 455us/sample - loss: 2.0835 - accuracy: 0.4651 - val_loss: 2.0454 - val_accuracy: 0.4000\n",
            "Epoch 6/20\n",
            "86/86 [==============================] - 0s 451us/sample - loss: 1.8400 - accuracy: 0.4651 - val_loss: 1.8170 - val_accuracy: 0.4667\n",
            "Epoch 7/20\n",
            "86/86 [==============================] - 0s 467us/sample - loss: 1.6309 - accuracy: 0.4535 - val_loss: 1.6500 - val_accuracy: 0.4889\n",
            "Epoch 8/20\n",
            "86/86 [==============================] - 0s 452us/sample - loss: 1.4695 - accuracy: 0.4767 - val_loss: 1.5089 - val_accuracy: 0.5333\n",
            "Epoch 9/20\n",
            "86/86 [==============================] - 0s 493us/sample - loss: 1.3408 - accuracy: 0.4651 - val_loss: 1.4110 - val_accuracy: 0.5556\n",
            "Epoch 10/20\n",
            "86/86 [==============================] - 0s 493us/sample - loss: 1.2440 - accuracy: 0.5233 - val_loss: 1.3505 - val_accuracy: 0.5556\n",
            "Epoch 11/20\n",
            "86/86 [==============================] - 0s 572us/sample - loss: 1.1673 - accuracy: 0.5698 - val_loss: 1.3058 - val_accuracy: 0.5778\n",
            "Epoch 12/20\n",
            "86/86 [==============================] - 0s 480us/sample - loss: 1.1151 - accuracy: 0.5349 - val_loss: 1.2666 - val_accuracy: 0.5778\n",
            "Epoch 13/20\n",
            "86/86 [==============================] - 0s 451us/sample - loss: 1.0699 - accuracy: 0.5349 - val_loss: 1.2309 - val_accuracy: 0.5778\n",
            "Epoch 14/20\n",
            "86/86 [==============================] - 0s 439us/sample - loss: 1.0400 - accuracy: 0.5349 - val_loss: 1.2083 - val_accuracy: 0.5778\n",
            "Epoch 15/20\n",
            "86/86 [==============================] - 0s 449us/sample - loss: 1.0087 - accuracy: 0.5465 - val_loss: 1.1952 - val_accuracy: 0.5778\n",
            "Epoch 16/20\n",
            "86/86 [==============================] - 0s 439us/sample - loss: 0.9926 - accuracy: 0.5465 - val_loss: 1.1835 - val_accuracy: 0.5778\n",
            "Epoch 17/20\n",
            "86/86 [==============================] - 0s 457us/sample - loss: 0.9744 - accuracy: 0.5698 - val_loss: 1.1678 - val_accuracy: 0.5778\n",
            "Epoch 18/20\n",
            "86/86 [==============================] - 0s 499us/sample - loss: 0.9612 - accuracy: 0.5814 - val_loss: 1.1575 - val_accuracy: 0.5778\n",
            "Epoch 19/20\n",
            "86/86 [==============================] - 0s 473us/sample - loss: 0.9489 - accuracy: 0.5814 - val_loss: 1.1521 - val_accuracy: 0.5778\n",
            "Epoch 20/20\n",
            "86/86 [==============================] - 0s 475us/sample - loss: 0.9397 - accuracy: 0.5814 - val_loss: 1.1480 - val_accuracy: 0.5778\n"
          ],
          "name": "stdout"
        },
        {
          "output_type": "display_data",
          "data": {
            "text/html": [
              "<span style=\"color:#4527A0\"><h1 style=\"font-size:18px\">Trial complete</h1></span>"
            ],
            "text/plain": [
              "<IPython.core.display.HTML object>"
            ]
          },
          "metadata": {
            "tags": []
          }
        },
        {
          "output_type": "display_data",
          "data": {
            "text/html": [
              "<span style=\"color:#4527A0\"><h1 style=\"font-size:18px\">Trial summary</h1></span>"
            ],
            "text/plain": [
              "<IPython.core.display.HTML object>"
            ]
          },
          "metadata": {
            "tags": []
          }
        },
        {
          "output_type": "display_data",
          "data": {
            "text/html": [
              "<span style=\"color:#7E57C2\"><h2 style=\"font-size:16px\">Hp values:</h2></span>"
            ],
            "text/plain": [
              "<IPython.core.display.HTML object>"
            ]
          },
          "metadata": {
            "tags": []
          }
        },
        {
          "output_type": "display_data",
          "data": {
            "text/html": [
              "<span style=\"color:cyan\"> |-learning_rate: 0.001</span>"
            ],
            "text/plain": [
              "<IPython.core.display.HTML object>"
            ]
          },
          "metadata": {
            "tags": []
          }
        },
        {
          "output_type": "display_data",
          "data": {
            "text/html": [
              "<span style=\"color:blue\"> |-momentum: 0.8</span>"
            ],
            "text/plain": [
              "<IPython.core.display.HTML object>"
            ]
          },
          "metadata": {
            "tags": []
          }
        },
        {
          "output_type": "display_data",
          "data": {
            "text/html": [
              "<span style=\"color:cyan\"> |-Score: 0.5066667199134827</span>"
            ],
            "text/plain": [
              "<IPython.core.display.HTML object>"
            ]
          },
          "metadata": {
            "tags": []
          }
        },
        {
          "output_type": "display_data",
          "data": {
            "text/html": [
              "<span style=\"color:cyan\"> |-Best step: 0</span>"
            ],
            "text/plain": [
              "<IPython.core.display.HTML object>"
            ]
          },
          "metadata": {
            "tags": []
          }
        },
        {
          "output_type": "stream",
          "text": [
            "Train on 86 samples, validate on 45 samples\n",
            "Epoch 1/20\n",
            "86/86 [==============================] - 0s 4ms/sample - loss: 1.7808 - accuracy: 0.5000 - val_loss: 2.1630 - val_accuracy: 0.4444\n",
            "Epoch 2/20\n",
            "86/86 [==============================] - 0s 458us/sample - loss: 1.7769 - accuracy: 0.5000 - val_loss: 2.1582 - val_accuracy: 0.4444\n",
            "Epoch 3/20\n",
            "86/86 [==============================] - 0s 452us/sample - loss: 1.7727 - accuracy: 0.5000 - val_loss: 2.1536 - val_accuracy: 0.4444\n",
            "Epoch 4/20\n",
            "86/86 [==============================] - 0s 475us/sample - loss: 1.7688 - accuracy: 0.5000 - val_loss: 2.1489 - val_accuracy: 0.4222\n",
            "Epoch 5/20\n",
            "86/86 [==============================] - 0s 452us/sample - loss: 1.7646 - accuracy: 0.5000 - val_loss: 2.1442 - val_accuracy: 0.4222\n",
            "Epoch 6/20\n",
            "86/86 [==============================] - 0s 452us/sample - loss: 1.7606 - accuracy: 0.5000 - val_loss: 2.1395 - val_accuracy: 0.4222\n",
            "Epoch 7/20\n",
            "86/86 [==============================] - 0s 455us/sample - loss: 1.7568 - accuracy: 0.5000 - val_loss: 2.1349 - val_accuracy: 0.4222\n",
            "Epoch 8/20\n",
            "86/86 [==============================] - 0s 434us/sample - loss: 1.7530 - accuracy: 0.5000 - val_loss: 2.1304 - val_accuracy: 0.4222\n",
            "Epoch 9/20\n",
            "86/86 [==============================] - 0s 469us/sample - loss: 1.7493 - accuracy: 0.5000 - val_loss: 2.1259 - val_accuracy: 0.4222\n",
            "Epoch 10/20\n",
            "86/86 [==============================] - 0s 451us/sample - loss: 1.7455 - accuracy: 0.5000 - val_loss: 2.1213 - val_accuracy: 0.4222\n",
            "Epoch 11/20\n",
            "86/86 [==============================] - 0s 454us/sample - loss: 1.7416 - accuracy: 0.5000 - val_loss: 2.1168 - val_accuracy: 0.4222\n",
            "Epoch 12/20\n",
            "86/86 [==============================] - 0s 741us/sample - loss: 1.7376 - accuracy: 0.5000 - val_loss: 2.1122 - val_accuracy: 0.4222\n",
            "Epoch 13/20\n",
            "86/86 [==============================] - 0s 430us/sample - loss: 1.7338 - accuracy: 0.5000 - val_loss: 2.1077 - val_accuracy: 0.4222\n",
            "Epoch 14/20\n",
            "86/86 [==============================] - 0s 502us/sample - loss: 1.7302 - accuracy: 0.5000 - val_loss: 2.1034 - val_accuracy: 0.4222\n",
            "Epoch 15/20\n",
            "86/86 [==============================] - 0s 453us/sample - loss: 1.7264 - accuracy: 0.5000 - val_loss: 2.0990 - val_accuracy: 0.4222\n",
            "Epoch 16/20\n",
            "86/86 [==============================] - 0s 411us/sample - loss: 1.7228 - accuracy: 0.5000 - val_loss: 2.0946 - val_accuracy: 0.4222\n",
            "Epoch 17/20\n",
            "86/86 [==============================] - 0s 446us/sample - loss: 1.7191 - accuracy: 0.5116 - val_loss: 2.0904 - val_accuracy: 0.4222\n",
            "Epoch 18/20\n",
            "86/86 [==============================] - 0s 493us/sample - loss: 1.7154 - accuracy: 0.5116 - val_loss: 2.0862 - val_accuracy: 0.4222\n",
            "Epoch 19/20\n",
            "86/86 [==============================] - 0s 479us/sample - loss: 1.7121 - accuracy: 0.5116 - val_loss: 2.0820 - val_accuracy: 0.4222\n",
            "Epoch 20/20\n",
            "86/86 [==============================] - 0s 402us/sample - loss: 1.7084 - accuracy: 0.5116 - val_loss: 2.0778 - val_accuracy: 0.4222\n",
            "Train on 86 samples, validate on 45 samples\n",
            "Epoch 1/20\n",
            "86/86 [==============================] - 0s 4ms/sample - loss: 2.6725 - accuracy: 0.2326 - val_loss: 2.2311 - val_accuracy: 0.2222\n",
            "Epoch 2/20\n",
            "86/86 [==============================] - 0s 476us/sample - loss: 2.6575 - accuracy: 0.2326 - val_loss: 2.2186 - val_accuracy: 0.2222\n",
            "Epoch 3/20\n",
            "86/86 [==============================] - 0s 449us/sample - loss: 2.6426 - accuracy: 0.2326 - val_loss: 2.2063 - val_accuracy: 0.2222\n",
            "Epoch 4/20\n",
            "86/86 [==============================] - 0s 434us/sample - loss: 2.6279 - accuracy: 0.2326 - val_loss: 2.1940 - val_accuracy: 0.2222\n",
            "Epoch 5/20\n",
            "86/86 [==============================] - 0s 456us/sample - loss: 2.6134 - accuracy: 0.2326 - val_loss: 2.1819 - val_accuracy: 0.2222\n",
            "Epoch 6/20\n",
            "86/86 [==============================] - 0s 447us/sample - loss: 2.5987 - accuracy: 0.2326 - val_loss: 2.1701 - val_accuracy: 0.2222\n",
            "Epoch 7/20\n",
            "86/86 [==============================] - 0s 483us/sample - loss: 2.5848 - accuracy: 0.2326 - val_loss: 2.1584 - val_accuracy: 0.2222\n",
            "Epoch 8/20\n",
            "86/86 [==============================] - 0s 528us/sample - loss: 2.5706 - accuracy: 0.2326 - val_loss: 2.1467 - val_accuracy: 0.2222\n",
            "Epoch 9/20\n",
            "86/86 [==============================] - 0s 568us/sample - loss: 2.5566 - accuracy: 0.2326 - val_loss: 2.1350 - val_accuracy: 0.2222\n",
            "Epoch 10/20\n",
            "86/86 [==============================] - 0s 526us/sample - loss: 2.5426 - accuracy: 0.2326 - val_loss: 2.1235 - val_accuracy: 0.2222\n",
            "Epoch 11/20\n",
            "86/86 [==============================] - 0s 499us/sample - loss: 2.5289 - accuracy: 0.2326 - val_loss: 2.1120 - val_accuracy: 0.2000\n",
            "Epoch 12/20\n",
            "86/86 [==============================] - 0s 453us/sample - loss: 2.5152 - accuracy: 0.2326 - val_loss: 2.1007 - val_accuracy: 0.2000\n",
            "Epoch 13/20\n",
            "86/86 [==============================] - 0s 462us/sample - loss: 2.5017 - accuracy: 0.2326 - val_loss: 2.0895 - val_accuracy: 0.2000\n",
            "Epoch 14/20\n",
            "86/86 [==============================] - 0s 449us/sample - loss: 2.4878 - accuracy: 0.2326 - val_loss: 2.0783 - val_accuracy: 0.2000\n",
            "Epoch 15/20\n",
            "86/86 [==============================] - 0s 416us/sample - loss: 2.4745 - accuracy: 0.2442 - val_loss: 2.0673 - val_accuracy: 0.2000\n",
            "Epoch 16/20\n",
            "86/86 [==============================] - 0s 450us/sample - loss: 2.4611 - accuracy: 0.2442 - val_loss: 2.0565 - val_accuracy: 0.2000\n",
            "Epoch 17/20\n",
            "86/86 [==============================] - 0s 459us/sample - loss: 2.4483 - accuracy: 0.2442 - val_loss: 2.0459 - val_accuracy: 0.2000\n",
            "Epoch 18/20\n",
            "86/86 [==============================] - 0s 422us/sample - loss: 2.4354 - accuracy: 0.2442 - val_loss: 2.0352 - val_accuracy: 0.2000\n",
            "Epoch 19/20\n",
            "86/86 [==============================] - 0s 447us/sample - loss: 2.4221 - accuracy: 0.2442 - val_loss: 2.0245 - val_accuracy: 0.2000\n",
            "Epoch 20/20\n",
            "86/86 [==============================] - 0s 453us/sample - loss: 2.4094 - accuracy: 0.2442 - val_loss: 2.0139 - val_accuracy: 0.2000\n",
            "Train on 86 samples, validate on 45 samples\n",
            "Epoch 1/20\n",
            "86/86 [==============================] - 0s 4ms/sample - loss: 2.5377 - accuracy: 0.3256 - val_loss: 2.4399 - val_accuracy: 0.3111\n",
            "Epoch 2/20\n",
            "86/86 [==============================] - 0s 526us/sample - loss: 2.5306 - accuracy: 0.3256 - val_loss: 2.4337 - val_accuracy: 0.3333\n",
            "Epoch 3/20\n",
            "86/86 [==============================] - 0s 419us/sample - loss: 2.5236 - accuracy: 0.3256 - val_loss: 2.4276 - val_accuracy: 0.3333\n",
            "Epoch 4/20\n",
            "86/86 [==============================] - 0s 435us/sample - loss: 2.5165 - accuracy: 0.3372 - val_loss: 2.4215 - val_accuracy: 0.3333\n",
            "Epoch 5/20\n",
            "86/86 [==============================] - 0s 468us/sample - loss: 2.5097 - accuracy: 0.3256 - val_loss: 2.4156 - val_accuracy: 0.3333\n",
            "Epoch 6/20\n",
            "86/86 [==============================] - 0s 446us/sample - loss: 2.5029 - accuracy: 0.3372 - val_loss: 2.4096 - val_accuracy: 0.3333\n",
            "Epoch 7/20\n",
            "86/86 [==============================] - 0s 513us/sample - loss: 2.4961 - accuracy: 0.3372 - val_loss: 2.4036 - val_accuracy: 0.3333\n",
            "Epoch 8/20\n",
            "86/86 [==============================] - 0s 466us/sample - loss: 2.4891 - accuracy: 0.3372 - val_loss: 2.3977 - val_accuracy: 0.3333\n",
            "Epoch 9/20\n",
            "86/86 [==============================] - 0s 469us/sample - loss: 2.4824 - accuracy: 0.3372 - val_loss: 2.3919 - val_accuracy: 0.3333\n",
            "Epoch 10/20\n",
            "86/86 [==============================] - 0s 447us/sample - loss: 2.4758 - accuracy: 0.3488 - val_loss: 2.3860 - val_accuracy: 0.3333\n",
            "Epoch 11/20\n",
            "86/86 [==============================] - 0s 472us/sample - loss: 2.4693 - accuracy: 0.3488 - val_loss: 2.3802 - val_accuracy: 0.3333\n",
            "Epoch 12/20\n",
            "86/86 [==============================] - 0s 459us/sample - loss: 2.4629 - accuracy: 0.3488 - val_loss: 2.3745 - val_accuracy: 0.3333\n",
            "Epoch 13/20\n",
            "86/86 [==============================] - 0s 527us/sample - loss: 2.4564 - accuracy: 0.3488 - val_loss: 2.3687 - val_accuracy: 0.3333\n",
            "Epoch 14/20\n",
            "86/86 [==============================] - 0s 458us/sample - loss: 2.4497 - accuracy: 0.3488 - val_loss: 2.3630 - val_accuracy: 0.3556\n",
            "Epoch 15/20\n",
            "86/86 [==============================] - 0s 462us/sample - loss: 2.4434 - accuracy: 0.3488 - val_loss: 2.3573 - val_accuracy: 0.3556\n",
            "Epoch 16/20\n",
            "86/86 [==============================] - 0s 455us/sample - loss: 2.4369 - accuracy: 0.3488 - val_loss: 2.3516 - val_accuracy: 0.3556\n",
            "Epoch 17/20\n",
            "86/86 [==============================] - 0s 481us/sample - loss: 2.4303 - accuracy: 0.3488 - val_loss: 2.3459 - val_accuracy: 0.3556\n",
            "Epoch 18/20\n",
            "86/86 [==============================] - 0s 411us/sample - loss: 2.4239 - accuracy: 0.3488 - val_loss: 2.3403 - val_accuracy: 0.3556\n",
            "Epoch 19/20\n",
            "86/86 [==============================] - 0s 426us/sample - loss: 2.4176 - accuracy: 0.3605 - val_loss: 2.3346 - val_accuracy: 0.3556\n",
            "Epoch 20/20\n",
            "86/86 [==============================] - 0s 467us/sample - loss: 2.4112 - accuracy: 0.3605 - val_loss: 2.3289 - val_accuracy: 0.3778\n",
            "Train on 86 samples, validate on 45 samples\n",
            "Epoch 1/20\n",
            "86/86 [==============================] - 0s 4ms/sample - loss: 2.1079 - accuracy: 0.4302 - val_loss: 2.0815 - val_accuracy: 0.4222\n",
            "Epoch 2/20\n",
            "86/86 [==============================] - 0s 496us/sample - loss: 2.1006 - accuracy: 0.4302 - val_loss: 2.0740 - val_accuracy: 0.4222\n",
            "Epoch 3/20\n",
            "86/86 [==============================] - 0s 455us/sample - loss: 2.0934 - accuracy: 0.4419 - val_loss: 2.0667 - val_accuracy: 0.4222\n",
            "Epoch 4/20\n",
            "86/86 [==============================] - 0s 472us/sample - loss: 2.0864 - accuracy: 0.4419 - val_loss: 2.0594 - val_accuracy: 0.4222\n",
            "Epoch 5/20\n",
            "86/86 [==============================] - 0s 430us/sample - loss: 2.0793 - accuracy: 0.4419 - val_loss: 2.0520 - val_accuracy: 0.4000\n",
            "Epoch 6/20\n",
            "86/86 [==============================] - 0s 442us/sample - loss: 2.0721 - accuracy: 0.4419 - val_loss: 2.0448 - val_accuracy: 0.4000\n",
            "Epoch 7/20\n",
            "86/86 [==============================] - 0s 464us/sample - loss: 2.0651 - accuracy: 0.4419 - val_loss: 2.0376 - val_accuracy: 0.4000\n",
            "Epoch 8/20\n",
            "86/86 [==============================] - 0s 473us/sample - loss: 2.0581 - accuracy: 0.4419 - val_loss: 2.0303 - val_accuracy: 0.4000\n",
            "Epoch 9/20\n",
            "86/86 [==============================] - 0s 418us/sample - loss: 2.0508 - accuracy: 0.4419 - val_loss: 2.0230 - val_accuracy: 0.4000\n",
            "Epoch 10/20\n",
            "86/86 [==============================] - 0s 448us/sample - loss: 2.0440 - accuracy: 0.4419 - val_loss: 2.0159 - val_accuracy: 0.4000\n",
            "Epoch 11/20\n",
            "86/86 [==============================] - 0s 459us/sample - loss: 2.0370 - accuracy: 0.4419 - val_loss: 2.0088 - val_accuracy: 0.4000\n",
            "Epoch 12/20\n",
            "86/86 [==============================] - 0s 443us/sample - loss: 2.0302 - accuracy: 0.4419 - val_loss: 2.0016 - val_accuracy: 0.4000\n",
            "Epoch 13/20\n",
            "86/86 [==============================] - 0s 472us/sample - loss: 2.0229 - accuracy: 0.4419 - val_loss: 1.9945 - val_accuracy: 0.4000\n",
            "Epoch 14/20\n",
            "86/86 [==============================] - 0s 476us/sample - loss: 2.0161 - accuracy: 0.4419 - val_loss: 1.9874 - val_accuracy: 0.4000\n",
            "Epoch 15/20\n",
            "86/86 [==============================] - 0s 483us/sample - loss: 2.0093 - accuracy: 0.4419 - val_loss: 1.9804 - val_accuracy: 0.4000\n",
            "Epoch 16/20\n",
            "86/86 [==============================] - 0s 456us/sample - loss: 2.0025 - accuracy: 0.4419 - val_loss: 1.9736 - val_accuracy: 0.4000\n",
            "Epoch 17/20\n",
            "86/86 [==============================] - 0s 474us/sample - loss: 1.9958 - accuracy: 0.4419 - val_loss: 1.9666 - val_accuracy: 0.4000\n",
            "Epoch 18/20\n",
            "86/86 [==============================] - 0s 498us/sample - loss: 1.9890 - accuracy: 0.4419 - val_loss: 1.9596 - val_accuracy: 0.4000\n",
            "Epoch 19/20\n",
            "86/86 [==============================] - 0s 422us/sample - loss: 1.9821 - accuracy: 0.4419 - val_loss: 1.9526 - val_accuracy: 0.4000\n",
            "Epoch 20/20\n",
            "86/86 [==============================] - 0s 448us/sample - loss: 1.9753 - accuracy: 0.4419 - val_loss: 1.9457 - val_accuracy: 0.4000\n",
            "Train on 86 samples, validate on 45 samples\n",
            "Epoch 1/20\n",
            "86/86 [==============================] - 0s 4ms/sample - loss: 1.5326 - accuracy: 0.4535 - val_loss: 1.9263 - val_accuracy: 0.3556\n",
            "Epoch 2/20\n",
            "86/86 [==============================] - 0s 481us/sample - loss: 1.5291 - accuracy: 0.4535 - val_loss: 1.9220 - val_accuracy: 0.3556\n",
            "Epoch 3/20\n",
            "86/86 [==============================] - 0s 440us/sample - loss: 1.5257 - accuracy: 0.4535 - val_loss: 1.9178 - val_accuracy: 0.3778\n",
            "Epoch 4/20\n",
            "86/86 [==============================] - 0s 464us/sample - loss: 1.5223 - accuracy: 0.4535 - val_loss: 1.9136 - val_accuracy: 0.3778\n",
            "Epoch 5/20\n",
            "86/86 [==============================] - 0s 437us/sample - loss: 1.5190 - accuracy: 0.4535 - val_loss: 1.9095 - val_accuracy: 0.3778\n",
            "Epoch 6/20\n",
            "86/86 [==============================] - 0s 485us/sample - loss: 1.5156 - accuracy: 0.4535 - val_loss: 1.9055 - val_accuracy: 0.3778\n",
            "Epoch 7/20\n",
            "86/86 [==============================] - 0s 439us/sample - loss: 1.5123 - accuracy: 0.4535 - val_loss: 1.9015 - val_accuracy: 0.3778\n",
            "Epoch 8/20\n",
            "86/86 [==============================] - 0s 513us/sample - loss: 1.5092 - accuracy: 0.4535 - val_loss: 1.8976 - val_accuracy: 0.3778\n",
            "Epoch 9/20\n",
            "86/86 [==============================] - 0s 482us/sample - loss: 1.5058 - accuracy: 0.4535 - val_loss: 1.8936 - val_accuracy: 0.3778\n",
            "Epoch 10/20\n",
            "86/86 [==============================] - 0s 469us/sample - loss: 1.5026 - accuracy: 0.4535 - val_loss: 1.8897 - val_accuracy: 0.3778\n",
            "Epoch 11/20\n",
            "86/86 [==============================] - 0s 482us/sample - loss: 1.4994 - accuracy: 0.4535 - val_loss: 1.8859 - val_accuracy: 0.4000\n",
            "Epoch 12/20\n",
            "86/86 [==============================] - 0s 512us/sample - loss: 1.4963 - accuracy: 0.4535 - val_loss: 1.8820 - val_accuracy: 0.4000\n",
            "Epoch 13/20\n",
            "86/86 [==============================] - 0s 472us/sample - loss: 1.4931 - accuracy: 0.4535 - val_loss: 1.8781 - val_accuracy: 0.4000\n",
            "Epoch 14/20\n",
            "86/86 [==============================] - 0s 573us/sample - loss: 1.4899 - accuracy: 0.4535 - val_loss: 1.8742 - val_accuracy: 0.4222\n",
            "Epoch 15/20\n",
            "86/86 [==============================] - 0s 493us/sample - loss: 1.4867 - accuracy: 0.4651 - val_loss: 1.8704 - val_accuracy: 0.4222\n",
            "Epoch 16/20\n",
            "86/86 [==============================] - 0s 491us/sample - loss: 1.4836 - accuracy: 0.4651 - val_loss: 1.8665 - val_accuracy: 0.4222\n",
            "Epoch 17/20\n",
            "86/86 [==============================] - 0s 499us/sample - loss: 1.4804 - accuracy: 0.4651 - val_loss: 1.8627 - val_accuracy: 0.4222\n",
            "Epoch 18/20\n",
            "86/86 [==============================] - 0s 489us/sample - loss: 1.4773 - accuracy: 0.4651 - val_loss: 1.8589 - val_accuracy: 0.4222\n",
            "Epoch 19/20\n",
            "86/86 [==============================] - 0s 483us/sample - loss: 1.4741 - accuracy: 0.4651 - val_loss: 1.8551 - val_accuracy: 0.4222\n",
            "Epoch 20/20\n",
            "86/86 [==============================] - 0s 535us/sample - loss: 1.4709 - accuracy: 0.4651 - val_loss: 1.8513 - val_accuracy: 0.4222\n"
          ],
          "name": "stdout"
        },
        {
          "output_type": "display_data",
          "data": {
            "text/html": [
              "<span style=\"color:#4527A0\"><h1 style=\"font-size:18px\">Trial complete</h1></span>"
            ],
            "text/plain": [
              "<IPython.core.display.HTML object>"
            ]
          },
          "metadata": {
            "tags": []
          }
        },
        {
          "output_type": "display_data",
          "data": {
            "text/html": [
              "<span style=\"color:#4527A0\"><h1 style=\"font-size:18px\">Trial summary</h1></span>"
            ],
            "text/plain": [
              "<IPython.core.display.HTML object>"
            ]
          },
          "metadata": {
            "tags": []
          }
        },
        {
          "output_type": "display_data",
          "data": {
            "text/html": [
              "<span style=\"color:#7E57C2\"><h2 style=\"font-size:16px\">Hp values:</h2></span>"
            ],
            "text/plain": [
              "<IPython.core.display.HTML object>"
            ]
          },
          "metadata": {
            "tags": []
          }
        },
        {
          "output_type": "display_data",
          "data": {
            "text/html": [
              "<span style=\"color:cyan\"> |-learning_rate: 0.0001</span>"
            ],
            "text/plain": [
              "<IPython.core.display.HTML object>"
            ]
          },
          "metadata": {
            "tags": []
          }
        },
        {
          "output_type": "display_data",
          "data": {
            "text/html": [
              "<span style=\"color:blue\"> |-momentum: 0.1</span>"
            ],
            "text/plain": [
              "<IPython.core.display.HTML object>"
            ]
          },
          "metadata": {
            "tags": []
          }
        },
        {
          "output_type": "display_data",
          "data": {
            "text/html": [
              "<span style=\"color:cyan\"> |-Score: 0.3777777850627899</span>"
            ],
            "text/plain": [
              "<IPython.core.display.HTML object>"
            ]
          },
          "metadata": {
            "tags": []
          }
        },
        {
          "output_type": "display_data",
          "data": {
            "text/html": [
              "<span style=\"color:cyan\"> |-Best step: 0</span>"
            ],
            "text/plain": [
              "<IPython.core.display.HTML object>"
            ]
          },
          "metadata": {
            "tags": []
          }
        },
        {
          "output_type": "stream",
          "text": [
            "Train on 86 samples, validate on 45 samples\n",
            "Epoch 1/20\n",
            "86/86 [==============================] - 0s 4ms/sample - loss: 3.0152 - accuracy: 0.1395 - val_loss: 2.9261 - val_accuracy: 0.1333\n",
            "Epoch 2/20\n",
            "86/86 [==============================] - 0s 457us/sample - loss: 2.9899 - accuracy: 0.1395 - val_loss: 2.9006 - val_accuracy: 0.1333\n",
            "Epoch 3/20\n",
            "86/86 [==============================] - 0s 451us/sample - loss: 2.9646 - accuracy: 0.1395 - val_loss: 2.8751 - val_accuracy: 0.1333\n",
            "Epoch 4/20\n",
            "86/86 [==============================] - 0s 447us/sample - loss: 2.9396 - accuracy: 0.1279 - val_loss: 2.8503 - val_accuracy: 0.1333\n",
            "Epoch 5/20\n",
            "86/86 [==============================] - 0s 478us/sample - loss: 2.9153 - accuracy: 0.1279 - val_loss: 2.8259 - val_accuracy: 0.1333\n",
            "Epoch 6/20\n",
            "86/86 [==============================] - 0s 546us/sample - loss: 2.8911 - accuracy: 0.1279 - val_loss: 2.8015 - val_accuracy: 0.1556\n",
            "Epoch 7/20\n",
            "86/86 [==============================] - 0s 465us/sample - loss: 2.8671 - accuracy: 0.1279 - val_loss: 2.7774 - val_accuracy: 0.1556\n",
            "Epoch 8/20\n",
            "86/86 [==============================] - 0s 457us/sample - loss: 2.8437 - accuracy: 0.1279 - val_loss: 2.7538 - val_accuracy: 0.1333\n",
            "Epoch 9/20\n",
            "86/86 [==============================] - 0s 502us/sample - loss: 2.8204 - accuracy: 0.1395 - val_loss: 2.7304 - val_accuracy: 0.1778\n",
            "Epoch 10/20\n",
            "86/86 [==============================] - 0s 487us/sample - loss: 2.7972 - accuracy: 0.2326 - val_loss: 2.7075 - val_accuracy: 0.1778\n",
            "Epoch 11/20\n",
            "86/86 [==============================] - 0s 473us/sample - loss: 2.7744 - accuracy: 0.2326 - val_loss: 2.6846 - val_accuracy: 0.1778\n",
            "Epoch 12/20\n",
            "86/86 [==============================] - 0s 484us/sample - loss: 2.7519 - accuracy: 0.2326 - val_loss: 2.6621 - val_accuracy: 0.1778\n",
            "Epoch 13/20\n",
            "86/86 [==============================] - 0s 433us/sample - loss: 2.7300 - accuracy: 0.2326 - val_loss: 2.6402 - val_accuracy: 0.1778\n",
            "Epoch 14/20\n",
            "86/86 [==============================] - 0s 453us/sample - loss: 2.7084 - accuracy: 0.2326 - val_loss: 2.6187 - val_accuracy: 0.1778\n",
            "Epoch 15/20\n",
            "86/86 [==============================] - 0s 453us/sample - loss: 2.6870 - accuracy: 0.2326 - val_loss: 2.5971 - val_accuracy: 0.1778\n",
            "Epoch 16/20\n",
            "86/86 [==============================] - 0s 455us/sample - loss: 2.6656 - accuracy: 0.2326 - val_loss: 2.5757 - val_accuracy: 0.1778\n",
            "Epoch 17/20\n",
            "86/86 [==============================] - 0s 450us/sample - loss: 2.6446 - accuracy: 0.2326 - val_loss: 2.5548 - val_accuracy: 0.1778\n",
            "Epoch 18/20\n",
            "86/86 [==============================] - 0s 422us/sample - loss: 2.6239 - accuracy: 0.2326 - val_loss: 2.5343 - val_accuracy: 0.1778\n",
            "Epoch 19/20\n",
            "86/86 [==============================] - 0s 503us/sample - loss: 2.6033 - accuracy: 0.2326 - val_loss: 2.5135 - val_accuracy: 0.1778\n",
            "Epoch 20/20\n",
            "86/86 [==============================] - 0s 537us/sample - loss: 2.5832 - accuracy: 0.2326 - val_loss: 2.4931 - val_accuracy: 0.1778\n",
            "Train on 86 samples, validate on 45 samples\n",
            "Epoch 1/20\n",
            "86/86 [==============================] - 0s 4ms/sample - loss: 3.5457 - accuracy: 0.4186 - val_loss: 2.8845 - val_accuracy: 0.4000\n",
            "Epoch 2/20\n",
            "86/86 [==============================] - 0s 407us/sample - loss: 3.5173 - accuracy: 0.4186 - val_loss: 2.8655 - val_accuracy: 0.4000\n",
            "Epoch 3/20\n",
            "86/86 [==============================] - 0s 498us/sample - loss: 3.4882 - accuracy: 0.4186 - val_loss: 2.8466 - val_accuracy: 0.4000\n",
            "Epoch 4/20\n",
            "86/86 [==============================] - 0s 460us/sample - loss: 3.4602 - accuracy: 0.4186 - val_loss: 2.8281 - val_accuracy: 0.4000\n",
            "Epoch 5/20\n",
            "86/86 [==============================] - 0s 470us/sample - loss: 3.4315 - accuracy: 0.4186 - val_loss: 2.8094 - val_accuracy: 0.4000\n",
            "Epoch 6/20\n",
            "86/86 [==============================] - 0s 441us/sample - loss: 3.4039 - accuracy: 0.4186 - val_loss: 2.7913 - val_accuracy: 0.4000\n",
            "Epoch 7/20\n",
            "86/86 [==============================] - 0s 412us/sample - loss: 3.3762 - accuracy: 0.4186 - val_loss: 2.7730 - val_accuracy: 0.4000\n",
            "Epoch 8/20\n",
            "86/86 [==============================] - 0s 435us/sample - loss: 3.3488 - accuracy: 0.4186 - val_loss: 2.7554 - val_accuracy: 0.4000\n",
            "Epoch 9/20\n",
            "86/86 [==============================] - 0s 448us/sample - loss: 3.3213 - accuracy: 0.4186 - val_loss: 2.7375 - val_accuracy: 0.4000\n",
            "Epoch 10/20\n",
            "86/86 [==============================] - 0s 454us/sample - loss: 3.2936 - accuracy: 0.4186 - val_loss: 2.7194 - val_accuracy: 0.4000\n",
            "Epoch 11/20\n",
            "86/86 [==============================] - 0s 497us/sample - loss: 3.2669 - accuracy: 0.4186 - val_loss: 2.7020 - val_accuracy: 0.4000\n",
            "Epoch 12/20\n",
            "86/86 [==============================] - 0s 441us/sample - loss: 3.2407 - accuracy: 0.4186 - val_loss: 2.6847 - val_accuracy: 0.4000\n",
            "Epoch 13/20\n",
            "86/86 [==============================] - 0s 430us/sample - loss: 3.2146 - accuracy: 0.4186 - val_loss: 2.6678 - val_accuracy: 0.4000\n",
            "Epoch 14/20\n",
            "86/86 [==============================] - 0s 463us/sample - loss: 3.1890 - accuracy: 0.4186 - val_loss: 2.6509 - val_accuracy: 0.4000\n",
            "Epoch 15/20\n",
            "86/86 [==============================] - 0s 451us/sample - loss: 3.1633 - accuracy: 0.4186 - val_loss: 2.6342 - val_accuracy: 0.4000\n",
            "Epoch 16/20\n",
            "86/86 [==============================] - 0s 477us/sample - loss: 3.1379 - accuracy: 0.4186 - val_loss: 2.6175 - val_accuracy: 0.4000\n",
            "Epoch 17/20\n",
            "86/86 [==============================] - 0s 443us/sample - loss: 3.1126 - accuracy: 0.4186 - val_loss: 2.6009 - val_accuracy: 0.4000\n",
            "Epoch 18/20\n",
            "86/86 [==============================] - 0s 414us/sample - loss: 3.0880 - accuracy: 0.4186 - val_loss: 2.5847 - val_accuracy: 0.4000\n",
            "Epoch 19/20\n",
            "86/86 [==============================] - 0s 431us/sample - loss: 3.0631 - accuracy: 0.4186 - val_loss: 2.5686 - val_accuracy: 0.4000\n",
            "Epoch 20/20\n",
            "86/86 [==============================] - 0s 427us/sample - loss: 3.0380 - accuracy: 0.4186 - val_loss: 2.5522 - val_accuracy: 0.4000\n",
            "Train on 86 samples, validate on 45 samples\n",
            "Epoch 1/20\n",
            "86/86 [==============================] - 0s 4ms/sample - loss: 2.2622 - accuracy: 0.4070 - val_loss: 2.2827 - val_accuracy: 0.4000\n",
            "Epoch 2/20\n",
            "86/86 [==============================] - 0s 472us/sample - loss: 2.2568 - accuracy: 0.4070 - val_loss: 2.2767 - val_accuracy: 0.4000\n",
            "Epoch 3/20\n",
            "86/86 [==============================] - 0s 443us/sample - loss: 2.2513 - accuracy: 0.4070 - val_loss: 2.2709 - val_accuracy: 0.4000\n",
            "Epoch 4/20\n",
            "86/86 [==============================] - 0s 464us/sample - loss: 2.2461 - accuracy: 0.4070 - val_loss: 2.2651 - val_accuracy: 0.4000\n",
            "Epoch 5/20\n",
            "86/86 [==============================] - 0s 433us/sample - loss: 2.2411 - accuracy: 0.4070 - val_loss: 2.2590 - val_accuracy: 0.4000\n",
            "Epoch 6/20\n",
            "86/86 [==============================] - 0s 460us/sample - loss: 2.2355 - accuracy: 0.4070 - val_loss: 2.2526 - val_accuracy: 0.4000\n",
            "Epoch 7/20\n",
            "86/86 [==============================] - 0s 503us/sample - loss: 2.2298 - accuracy: 0.4186 - val_loss: 2.2469 - val_accuracy: 0.4000\n",
            "Epoch 8/20\n",
            "86/86 [==============================] - 0s 444us/sample - loss: 2.2245 - accuracy: 0.4186 - val_loss: 2.2410 - val_accuracy: 0.4000\n",
            "Epoch 9/20\n",
            "86/86 [==============================] - 0s 424us/sample - loss: 2.2193 - accuracy: 0.4186 - val_loss: 2.2352 - val_accuracy: 0.4000\n",
            "Epoch 10/20\n",
            "86/86 [==============================] - 0s 418us/sample - loss: 2.2142 - accuracy: 0.4186 - val_loss: 2.2294 - val_accuracy: 0.4000\n",
            "Epoch 11/20\n",
            "86/86 [==============================] - 0s 443us/sample - loss: 2.2089 - accuracy: 0.4302 - val_loss: 2.2233 - val_accuracy: 0.4000\n",
            "Epoch 12/20\n",
            "86/86 [==============================] - 0s 448us/sample - loss: 2.2039 - accuracy: 0.4302 - val_loss: 2.2179 - val_accuracy: 0.4000\n",
            "Epoch 13/20\n",
            "86/86 [==============================] - 0s 480us/sample - loss: 2.1989 - accuracy: 0.4302 - val_loss: 2.2123 - val_accuracy: 0.4000\n",
            "Epoch 14/20\n",
            "86/86 [==============================] - 0s 418us/sample - loss: 2.1936 - accuracy: 0.4302 - val_loss: 2.2061 - val_accuracy: 0.4000\n",
            "Epoch 15/20\n",
            "86/86 [==============================] - 0s 490us/sample - loss: 2.1885 - accuracy: 0.4302 - val_loss: 2.2005 - val_accuracy: 0.4000\n",
            "Epoch 16/20\n",
            "86/86 [==============================] - 0s 480us/sample - loss: 2.1838 - accuracy: 0.4302 - val_loss: 2.1950 - val_accuracy: 0.4000\n",
            "Epoch 17/20\n",
            "86/86 [==============================] - 0s 479us/sample - loss: 2.1785 - accuracy: 0.4302 - val_loss: 2.1896 - val_accuracy: 0.4000\n",
            "Epoch 18/20\n",
            "86/86 [==============================] - 0s 443us/sample - loss: 2.1737 - accuracy: 0.4419 - val_loss: 2.1843 - val_accuracy: 0.4000\n",
            "Epoch 19/20\n",
            "86/86 [==============================] - 0s 419us/sample - loss: 2.1685 - accuracy: 0.4302 - val_loss: 2.1787 - val_accuracy: 0.4000\n",
            "Epoch 20/20\n",
            "86/86 [==============================] - 0s 457us/sample - loss: 2.1638 - accuracy: 0.4419 - val_loss: 2.1733 - val_accuracy: 0.4000\n",
            "Train on 86 samples, validate on 45 samples\n",
            "Epoch 1/20\n",
            "86/86 [==============================] - 0s 4ms/sample - loss: 2.4936 - accuracy: 0.4651 - val_loss: 2.1885 - val_accuracy: 0.4667\n",
            "Epoch 2/20\n",
            "86/86 [==============================] - 0s 443us/sample - loss: 2.4823 - accuracy: 0.4651 - val_loss: 2.1797 - val_accuracy: 0.4667\n",
            "Epoch 3/20\n",
            "86/86 [==============================] - 0s 453us/sample - loss: 2.4716 - accuracy: 0.4651 - val_loss: 2.1711 - val_accuracy: 0.4667\n",
            "Epoch 4/20\n",
            "86/86 [==============================] - 0s 712us/sample - loss: 2.4609 - accuracy: 0.4651 - val_loss: 2.1627 - val_accuracy: 0.4667\n",
            "Epoch 5/20\n",
            "86/86 [==============================] - 0s 531us/sample - loss: 2.4499 - accuracy: 0.4651 - val_loss: 2.1540 - val_accuracy: 0.4667\n",
            "Epoch 6/20\n",
            "86/86 [==============================] - 0s 428us/sample - loss: 2.4390 - accuracy: 0.4651 - val_loss: 2.1454 - val_accuracy: 0.4667\n",
            "Epoch 7/20\n",
            "86/86 [==============================] - 0s 481us/sample - loss: 2.4282 - accuracy: 0.4651 - val_loss: 2.1369 - val_accuracy: 0.4667\n",
            "Epoch 8/20\n",
            "86/86 [==============================] - 0s 450us/sample - loss: 2.4176 - accuracy: 0.4651 - val_loss: 2.1286 - val_accuracy: 0.4667\n",
            "Epoch 9/20\n",
            "86/86 [==============================] - 0s 456us/sample - loss: 2.4072 - accuracy: 0.4651 - val_loss: 2.1203 - val_accuracy: 0.4667\n",
            "Epoch 10/20\n",
            "86/86 [==============================] - 0s 448us/sample - loss: 2.3967 - accuracy: 0.4651 - val_loss: 2.1120 - val_accuracy: 0.4667\n",
            "Epoch 11/20\n",
            "86/86 [==============================] - 0s 423us/sample - loss: 2.3861 - accuracy: 0.4651 - val_loss: 2.1038 - val_accuracy: 0.4667\n",
            "Epoch 12/20\n",
            "86/86 [==============================] - 0s 453us/sample - loss: 2.3756 - accuracy: 0.4535 - val_loss: 2.0954 - val_accuracy: 0.4667\n",
            "Epoch 13/20\n",
            "86/86 [==============================] - 0s 435us/sample - loss: 2.3653 - accuracy: 0.4535 - val_loss: 2.0872 - val_accuracy: 0.4667\n",
            "Epoch 14/20\n",
            "86/86 [==============================] - 0s 447us/sample - loss: 2.3549 - accuracy: 0.4535 - val_loss: 2.0790 - val_accuracy: 0.4667\n",
            "Epoch 15/20\n",
            "86/86 [==============================] - 0s 465us/sample - loss: 2.3447 - accuracy: 0.4535 - val_loss: 2.0710 - val_accuracy: 0.4667\n",
            "Epoch 16/20\n",
            "86/86 [==============================] - 0s 485us/sample - loss: 2.3349 - accuracy: 0.4535 - val_loss: 2.0633 - val_accuracy: 0.4667\n",
            "Epoch 17/20\n",
            "86/86 [==============================] - 0s 436us/sample - loss: 2.3245 - accuracy: 0.4535 - val_loss: 2.0553 - val_accuracy: 0.4667\n",
            "Epoch 18/20\n",
            "86/86 [==============================] - 0s 403us/sample - loss: 2.3147 - accuracy: 0.4535 - val_loss: 2.0475 - val_accuracy: 0.4667\n",
            "Epoch 19/20\n",
            "86/86 [==============================] - 0s 445us/sample - loss: 2.3048 - accuracy: 0.4535 - val_loss: 2.0398 - val_accuracy: 0.4667\n",
            "Epoch 20/20\n",
            "86/86 [==============================] - 0s 457us/sample - loss: 2.2950 - accuracy: 0.4535 - val_loss: 2.0320 - val_accuracy: 0.4667\n",
            "Train on 86 samples, validate on 45 samples\n",
            "Epoch 1/20\n",
            "86/86 [==============================] - 0s 4ms/sample - loss: 2.0060 - accuracy: 0.5116 - val_loss: 1.5330 - val_accuracy: 0.5111\n",
            "Epoch 2/20\n",
            "86/86 [==============================] - 0s 475us/sample - loss: 1.9964 - accuracy: 0.5116 - val_loss: 1.5264 - val_accuracy: 0.5111\n",
            "Epoch 3/20\n",
            "86/86 [==============================] - 0s 477us/sample - loss: 1.9865 - accuracy: 0.5116 - val_loss: 1.5199 - val_accuracy: 0.5111\n",
            "Epoch 4/20\n",
            "86/86 [==============================] - 0s 447us/sample - loss: 1.9773 - accuracy: 0.5116 - val_loss: 1.5134 - val_accuracy: 0.5111\n",
            "Epoch 5/20\n",
            "86/86 [==============================] - 0s 435us/sample - loss: 1.9672 - accuracy: 0.5116 - val_loss: 1.5070 - val_accuracy: 0.5111\n",
            "Epoch 6/20\n",
            "86/86 [==============================] - 0s 532us/sample - loss: 1.9577 - accuracy: 0.5116 - val_loss: 1.5009 - val_accuracy: 0.5111\n",
            "Epoch 7/20\n",
            "86/86 [==============================] - 0s 503us/sample - loss: 1.9488 - accuracy: 0.5116 - val_loss: 1.4947 - val_accuracy: 0.5111\n",
            "Epoch 8/20\n",
            "86/86 [==============================] - 0s 435us/sample - loss: 1.9391 - accuracy: 0.5116 - val_loss: 1.4885 - val_accuracy: 0.5111\n",
            "Epoch 9/20\n",
            "86/86 [==============================] - 0s 445us/sample - loss: 1.9298 - accuracy: 0.5116 - val_loss: 1.4825 - val_accuracy: 0.5111\n",
            "Epoch 10/20\n",
            "86/86 [==============================] - 0s 432us/sample - loss: 1.9205 - accuracy: 0.5116 - val_loss: 1.4763 - val_accuracy: 0.5111\n",
            "Epoch 11/20\n",
            "86/86 [==============================] - 0s 431us/sample - loss: 1.9115 - accuracy: 0.5116 - val_loss: 1.4705 - val_accuracy: 0.5111\n",
            "Epoch 12/20\n",
            "86/86 [==============================] - 0s 438us/sample - loss: 1.9026 - accuracy: 0.5116 - val_loss: 1.4647 - val_accuracy: 0.5111\n",
            "Epoch 13/20\n",
            "86/86 [==============================] - 0s 487us/sample - loss: 1.8940 - accuracy: 0.5116 - val_loss: 1.4589 - val_accuracy: 0.5111\n",
            "Epoch 14/20\n",
            "86/86 [==============================] - 0s 461us/sample - loss: 1.8850 - accuracy: 0.5116 - val_loss: 1.4533 - val_accuracy: 0.5111\n",
            "Epoch 15/20\n",
            "86/86 [==============================] - 0s 447us/sample - loss: 1.8763 - accuracy: 0.5116 - val_loss: 1.4478 - val_accuracy: 0.5111\n",
            "Epoch 16/20\n",
            "86/86 [==============================] - 0s 454us/sample - loss: 1.8677 - accuracy: 0.5116 - val_loss: 1.4422 - val_accuracy: 0.5111\n",
            "Epoch 17/20\n",
            "86/86 [==============================] - 0s 448us/sample - loss: 1.8593 - accuracy: 0.5116 - val_loss: 1.4369 - val_accuracy: 0.5111\n",
            "Epoch 18/20\n",
            "86/86 [==============================] - 0s 436us/sample - loss: 1.8512 - accuracy: 0.5116 - val_loss: 1.4316 - val_accuracy: 0.5111\n",
            "Epoch 19/20\n",
            "86/86 [==============================] - 0s 428us/sample - loss: 1.8427 - accuracy: 0.5116 - val_loss: 1.4263 - val_accuracy: 0.5111\n",
            "Epoch 20/20\n",
            "86/86 [==============================] - 0s 421us/sample - loss: 1.8346 - accuracy: 0.5116 - val_loss: 1.4209 - val_accuracy: 0.5111\n"
          ],
          "name": "stdout"
        },
        {
          "output_type": "display_data",
          "data": {
            "text/html": [
              "<span style=\"color:#4527A0\"><h1 style=\"font-size:18px\">Trial complete</h1></span>"
            ],
            "text/plain": [
              "<IPython.core.display.HTML object>"
            ]
          },
          "metadata": {
            "tags": []
          }
        },
        {
          "output_type": "display_data",
          "data": {
            "text/html": [
              "<span style=\"color:#4527A0\"><h1 style=\"font-size:18px\">Trial summary</h1></span>"
            ],
            "text/plain": [
              "<IPython.core.display.HTML object>"
            ]
          },
          "metadata": {
            "tags": []
          }
        },
        {
          "output_type": "display_data",
          "data": {
            "text/html": [
              "<span style=\"color:#7E57C2\"><h2 style=\"font-size:16px\">Hp values:</h2></span>"
            ],
            "text/plain": [
              "<IPython.core.display.HTML object>"
            ]
          },
          "metadata": {
            "tags": []
          }
        },
        {
          "output_type": "display_data",
          "data": {
            "text/html": [
              "<span style=\"color:cyan\"> |-learning_rate: 0.0001</span>"
            ],
            "text/plain": [
              "<IPython.core.display.HTML object>"
            ]
          },
          "metadata": {
            "tags": []
          }
        },
        {
          "output_type": "display_data",
          "data": {
            "text/html": [
              "<span style=\"color:blue\"> |-momentum: 0.3</span>"
            ],
            "text/plain": [
              "<IPython.core.display.HTML object>"
            ]
          },
          "metadata": {
            "tags": []
          }
        },
        {
          "output_type": "display_data",
          "data": {
            "text/html": [
              "<span style=\"color:cyan\"> |-Score: 0.3911111354827881</span>"
            ],
            "text/plain": [
              "<IPython.core.display.HTML object>"
            ]
          },
          "metadata": {
            "tags": []
          }
        },
        {
          "output_type": "display_data",
          "data": {
            "text/html": [
              "<span style=\"color:cyan\"> |-Best step: 0</span>"
            ],
            "text/plain": [
              "<IPython.core.display.HTML object>"
            ]
          },
          "metadata": {
            "tags": []
          }
        },
        {
          "output_type": "stream",
          "text": [
            "INFO:tensorflow:Oracle triggered exit\n",
            "INFO:tensorflow:Reloading Oracle from /content/my_dir/RandomSearch/oracle.json\n",
            "INFO:tensorflow:Reloading Tuner from /content/my_dir/RandomSearch/tuner0.json\n"
          ],
          "name": "stdout"
        },
        {
          "output_type": "display_data",
          "data": {
            "text/html": [
              "<span style=\"color:#4527A0\"><h1 style=\"font-size:18px\">Search space summary</h1></span>"
            ],
            "text/plain": [
              "<IPython.core.display.HTML object>"
            ]
          },
          "metadata": {
            "tags": []
          }
        },
        {
          "output_type": "display_data",
          "data": {
            "text/html": [
              "<span style=\"color:cyan\"> |-Default search space size: 2</span>"
            ],
            "text/plain": [
              "<IPython.core.display.HTML object>"
            ]
          },
          "metadata": {
            "tags": []
          }
        },
        {
          "output_type": "display_data",
          "data": {
            "text/html": [
              "<span style=\"color:#7E57C2\"><h2 style=\"font-size:16px\">learning_rate (Choice)</h2></span>"
            ],
            "text/plain": [
              "<IPython.core.display.HTML object>"
            ]
          },
          "metadata": {
            "tags": []
          }
        },
        {
          "output_type": "display_data",
          "data": {
            "text/html": [
              "<span style=\"color:cyan\"> |-default: 0.01</span>"
            ],
            "text/plain": [
              "<IPython.core.display.HTML object>"
            ]
          },
          "metadata": {
            "tags": []
          }
        },
        {
          "output_type": "display_data",
          "data": {
            "text/html": [
              "<span style=\"color:blue\"> |-ordered: True</span>"
            ],
            "text/plain": [
              "<IPython.core.display.HTML object>"
            ]
          },
          "metadata": {
            "tags": []
          }
        },
        {
          "output_type": "display_data",
          "data": {
            "text/html": [
              "<span style=\"color:cyan\"> |-values: [0.01, 0.001, 0.0001]</span>"
            ],
            "text/plain": [
              "<IPython.core.display.HTML object>"
            ]
          },
          "metadata": {
            "tags": []
          }
        },
        {
          "output_type": "display_data",
          "data": {
            "text/html": [
              "<span style=\"color:#7E57C2\"><h2 style=\"font-size:16px\">momentum (Choice)</h2></span>"
            ],
            "text/plain": [
              "<IPython.core.display.HTML object>"
            ]
          },
          "metadata": {
            "tags": []
          }
        },
        {
          "output_type": "display_data",
          "data": {
            "text/html": [
              "<span style=\"color:cyan\"> |-default: 0.0</span>"
            ],
            "text/plain": [
              "<IPython.core.display.HTML object>"
            ]
          },
          "metadata": {
            "tags": []
          }
        },
        {
          "output_type": "display_data",
          "data": {
            "text/html": [
              "<span style=\"color:blue\"> |-ordered: True</span>"
            ],
            "text/plain": [
              "<IPython.core.display.HTML object>"
            ]
          },
          "metadata": {
            "tags": []
          }
        },
        {
          "output_type": "display_data",
          "data": {
            "text/html": [
              "<span style=\"color:cyan\"> |-values: [0.0, 0.1, 0.2, 0.3, 0.4, 0.5, 0.6, 0.7, 0.8, 0.9]</span>"
            ],
            "text/plain": [
              "<IPython.core.display.HTML object>"
            ]
          },
          "metadata": {
            "tags": []
          }
        },
        {
          "output_type": "stream",
          "text": [
            "INFO:tensorflow:Oracle triggered exit\n",
            "INFO:tensorflow:Reloading Oracle from /content/my_dir/RandomSearch/oracle.json\n",
            "INFO:tensorflow:Reloading Tuner from /content/my_dir/RandomSearch/tuner0.json\n"
          ],
          "name": "stdout"
        },
        {
          "output_type": "display_data",
          "data": {
            "text/html": [
              "<span style=\"color:#4527A0\"><h1 style=\"font-size:18px\">Search space summary</h1></span>"
            ],
            "text/plain": [
              "<IPython.core.display.HTML object>"
            ]
          },
          "metadata": {
            "tags": []
          }
        },
        {
          "output_type": "display_data",
          "data": {
            "text/html": [
              "<span style=\"color:cyan\"> |-Default search space size: 2</span>"
            ],
            "text/plain": [
              "<IPython.core.display.HTML object>"
            ]
          },
          "metadata": {
            "tags": []
          }
        },
        {
          "output_type": "display_data",
          "data": {
            "text/html": [
              "<span style=\"color:#7E57C2\"><h2 style=\"font-size:16px\">learning_rate (Choice)</h2></span>"
            ],
            "text/plain": [
              "<IPython.core.display.HTML object>"
            ]
          },
          "metadata": {
            "tags": []
          }
        },
        {
          "output_type": "display_data",
          "data": {
            "text/html": [
              "<span style=\"color:cyan\"> |-default: 0.01</span>"
            ],
            "text/plain": [
              "<IPython.core.display.HTML object>"
            ]
          },
          "metadata": {
            "tags": []
          }
        },
        {
          "output_type": "display_data",
          "data": {
            "text/html": [
              "<span style=\"color:blue\"> |-ordered: True</span>"
            ],
            "text/plain": [
              "<IPython.core.display.HTML object>"
            ]
          },
          "metadata": {
            "tags": []
          }
        },
        {
          "output_type": "display_data",
          "data": {
            "text/html": [
              "<span style=\"color:cyan\"> |-values: [0.01, 0.001, 0.0001]</span>"
            ],
            "text/plain": [
              "<IPython.core.display.HTML object>"
            ]
          },
          "metadata": {
            "tags": []
          }
        },
        {
          "output_type": "display_data",
          "data": {
            "text/html": [
              "<span style=\"color:#7E57C2\"><h2 style=\"font-size:16px\">momentum (Choice)</h2></span>"
            ],
            "text/plain": [
              "<IPython.core.display.HTML object>"
            ]
          },
          "metadata": {
            "tags": []
          }
        },
        {
          "output_type": "display_data",
          "data": {
            "text/html": [
              "<span style=\"color:cyan\"> |-default: 0.0</span>"
            ],
            "text/plain": [
              "<IPython.core.display.HTML object>"
            ]
          },
          "metadata": {
            "tags": []
          }
        },
        {
          "output_type": "display_data",
          "data": {
            "text/html": [
              "<span style=\"color:blue\"> |-ordered: True</span>"
            ],
            "text/plain": [
              "<IPython.core.display.HTML object>"
            ]
          },
          "metadata": {
            "tags": []
          }
        },
        {
          "output_type": "display_data",
          "data": {
            "text/html": [
              "<span style=\"color:cyan\"> |-values: [0.0, 0.1, 0.2, 0.3, 0.4, 0.5, 0.6, 0.7, 0.8, 0.9]</span>"
            ],
            "text/plain": [
              "<IPython.core.display.HTML object>"
            ]
          },
          "metadata": {
            "tags": []
          }
        },
        {
          "output_type": "stream",
          "text": [
            "INFO:tensorflow:Oracle triggered exit\n"
          ],
          "name": "stdout"
        }
      ]
    },
    {
      "cell_type": "code",
      "metadata": {
        "id": "23JI0eA1OFOX",
        "colab_type": "code",
        "outputId": "d674bc6e-8cc6-499e-f917-bc3f17626342",
        "colab": {
          "base_uri": "https://localhost:8080/",
          "height": 251
        }
      },
      "source": [
        "tuner.search_space_summary()\n"
      ],
      "execution_count": 0,
      "outputs": [
        {
          "output_type": "display_data",
          "data": {
            "text/html": [
              "<span style=\"color:#4527A0\"><h1 style=\"font-size:18px\">Search space summary</h1></span>"
            ],
            "text/plain": [
              "<IPython.core.display.HTML object>"
            ]
          },
          "metadata": {
            "tags": []
          }
        },
        {
          "output_type": "display_data",
          "data": {
            "text/html": [
              "<span style=\"color:cyan\"> |-Default search space size: 2</span>"
            ],
            "text/plain": [
              "<IPython.core.display.HTML object>"
            ]
          },
          "metadata": {
            "tags": []
          }
        },
        {
          "output_type": "display_data",
          "data": {
            "text/html": [
              "<span style=\"color:#7E57C2\"><h2 style=\"font-size:16px\">learning_rate (Choice)</h2></span>"
            ],
            "text/plain": [
              "<IPython.core.display.HTML object>"
            ]
          },
          "metadata": {
            "tags": []
          }
        },
        {
          "output_type": "display_data",
          "data": {
            "text/html": [
              "<span style=\"color:cyan\"> |-default: 0.01</span>"
            ],
            "text/plain": [
              "<IPython.core.display.HTML object>"
            ]
          },
          "metadata": {
            "tags": []
          }
        },
        {
          "output_type": "display_data",
          "data": {
            "text/html": [
              "<span style=\"color:blue\"> |-ordered: True</span>"
            ],
            "text/plain": [
              "<IPython.core.display.HTML object>"
            ]
          },
          "metadata": {
            "tags": []
          }
        },
        {
          "output_type": "display_data",
          "data": {
            "text/html": [
              "<span style=\"color:cyan\"> |-values: [0.01, 0.001, 0.0001]</span>"
            ],
            "text/plain": [
              "<IPython.core.display.HTML object>"
            ]
          },
          "metadata": {
            "tags": []
          }
        },
        {
          "output_type": "display_data",
          "data": {
            "text/html": [
              "<span style=\"color:#7E57C2\"><h2 style=\"font-size:16px\">momentum (Choice)</h2></span>"
            ],
            "text/plain": [
              "<IPython.core.display.HTML object>"
            ]
          },
          "metadata": {
            "tags": []
          }
        },
        {
          "output_type": "display_data",
          "data": {
            "text/html": [
              "<span style=\"color:cyan\"> |-default: 0.0</span>"
            ],
            "text/plain": [
              "<IPython.core.display.HTML object>"
            ]
          },
          "metadata": {
            "tags": []
          }
        },
        {
          "output_type": "display_data",
          "data": {
            "text/html": [
              "<span style=\"color:blue\"> |-ordered: True</span>"
            ],
            "text/plain": [
              "<IPython.core.display.HTML object>"
            ]
          },
          "metadata": {
            "tags": []
          }
        },
        {
          "output_type": "display_data",
          "data": {
            "text/html": [
              "<span style=\"color:cyan\"> |-values: [0.0, 0.1, 0.2, 0.3, 0.4, 0.5, 0.6, 0.7, 0.8, 0.9]</span>"
            ],
            "text/plain": [
              "<IPython.core.display.HTML object>"
            ]
          },
          "metadata": {
            "tags": []
          }
        }
      ]
    },
    {
      "cell_type": "code",
      "metadata": {
        "id": "NxpvAxjHSaP6",
        "colab_type": "code",
        "outputId": "95da0a09-7058-4f3a-8ca4-2c36f0c2bd2d",
        "colab": {
          "base_uri": "https://localhost:8080/",
          "height": 264
        }
      },
      "source": [
        "tuner.results_summary()"
      ],
      "execution_count": 0,
      "outputs": [
        {
          "output_type": "display_data",
          "data": {
            "text/html": [
              "<span style=\"color:#4527A0\"><h1 style=\"font-size:18px\">Results summary</h1></span>"
            ],
            "text/plain": [
              "<IPython.core.display.HTML object>"
            ]
          },
          "metadata": {
            "tags": []
          }
        },
        {
          "output_type": "display_data",
          "data": {
            "text/html": [
              "<span style=\"color:cyan\"> |-Results in /content/my_dir/RandomSearch</span>"
            ],
            "text/plain": [
              "<IPython.core.display.HTML object>"
            ]
          },
          "metadata": {
            "tags": []
          }
        },
        {
          "output_type": "display_data",
          "data": {
            "text/html": [
              "<span style=\"color:cyan\"> |-Showing 10 best trials</span>"
            ],
            "text/plain": [
              "<IPython.core.display.HTML object>"
            ]
          },
          "metadata": {
            "tags": []
          }
        },
        {
          "output_type": "display_data",
          "data": {
            "text/html": [
              "<span style=\"color:cyan\"> |-Objective: Objective(name='val_accuracy', direction='max') Score: 0.5288889408111572</span>"
            ],
            "text/plain": [
              "<IPython.core.display.HTML object>"
            ]
          },
          "metadata": {
            "tags": []
          }
        },
        {
          "output_type": "display_data",
          "data": {
            "text/html": [
              "<span style=\"color:cyan\"> |-Objective: Objective(name='val_accuracy', direction='max') Score: 0.5244444608688354</span>"
            ],
            "text/plain": [
              "<IPython.core.display.HTML object>"
            ]
          },
          "metadata": {
            "tags": []
          }
        },
        {
          "output_type": "display_data",
          "data": {
            "text/html": [
              "<span style=\"color:cyan\"> |-Objective: Objective(name='val_accuracy', direction='max') Score: 0.5200000405311584</span>"
            ],
            "text/plain": [
              "<IPython.core.display.HTML object>"
            ]
          },
          "metadata": {
            "tags": []
          }
        },
        {
          "output_type": "display_data",
          "data": {
            "text/html": [
              "<span style=\"color:cyan\"> |-Objective: Objective(name='val_accuracy', direction='max') Score: 0.5066667199134827</span>"
            ],
            "text/plain": [
              "<IPython.core.display.HTML object>"
            ]
          },
          "metadata": {
            "tags": []
          }
        },
        {
          "output_type": "display_data",
          "data": {
            "text/html": [
              "<span style=\"color:cyan\"> |-Objective: Objective(name='val_accuracy', direction='max') Score: 0.4933333396911621</span>"
            ],
            "text/plain": [
              "<IPython.core.display.HTML object>"
            ]
          },
          "metadata": {
            "tags": []
          }
        },
        {
          "output_type": "display_data",
          "data": {
            "text/html": [
              "<span style=\"color:cyan\"> |-Objective: Objective(name='val_accuracy', direction='max') Score: 0.4177778363227844</span>"
            ],
            "text/plain": [
              "<IPython.core.display.HTML object>"
            ]
          },
          "metadata": {
            "tags": []
          }
        },
        {
          "output_type": "display_data",
          "data": {
            "text/html": [
              "<span style=\"color:cyan\"> |-Objective: Objective(name='val_accuracy', direction='max') Score: 0.41777777671813965</span>"
            ],
            "text/plain": [
              "<IPython.core.display.HTML object>"
            ]
          },
          "metadata": {
            "tags": []
          }
        },
        {
          "output_type": "display_data",
          "data": {
            "text/html": [
              "<span style=\"color:cyan\"> |-Objective: Objective(name='val_accuracy', direction='max') Score: 0.4000000059604645</span>"
            ],
            "text/plain": [
              "<IPython.core.display.HTML object>"
            ]
          },
          "metadata": {
            "tags": []
          }
        },
        {
          "output_type": "display_data",
          "data": {
            "text/html": [
              "<span style=\"color:cyan\"> |-Objective: Objective(name='val_accuracy', direction='max') Score: 0.3955555558204651</span>"
            ],
            "text/plain": [
              "<IPython.core.display.HTML object>"
            ]
          },
          "metadata": {
            "tags": []
          }
        },
        {
          "output_type": "display_data",
          "data": {
            "text/html": [
              "<span style=\"color:cyan\"> |-Objective: Objective(name='val_accuracy', direction='max') Score: 0.3911111354827881</span>"
            ],
            "text/plain": [
              "<IPython.core.display.HTML object>"
            ]
          },
          "metadata": {
            "tags": []
          }
        }
      ]
    },
    {
      "cell_type": "code",
      "metadata": {
        "id": "reyZM6rGXHIk",
        "colab_type": "code",
        "colab": {}
      },
      "source": [
        "random_params=tuner.get_best_hyperparameters()[0]"
      ],
      "execution_count": 0,
      "outputs": []
    },
    {
      "cell_type": "code",
      "metadata": {
        "id": "dJpBGIEvVkpO",
        "colab_type": "code",
        "colab": {}
      },
      "source": [
        "random_model = tuner.hypermodel.build(random_params)"
      ],
      "execution_count": 0,
      "outputs": []
    },
    {
      "cell_type": "code",
      "metadata": {
        "id": "0QAOJ7PuXvwK",
        "colab_type": "code",
        "outputId": "5ab1e003-82b2-461c-a1c4-ff09d8d8215f",
        "colab": {
          "base_uri": "https://localhost:8080/",
          "height": 34
        }
      },
      "source": [
        "tuner.oracle.get_best_trials(num_trials=1)[0].hyperparameters.values"
      ],
      "execution_count": 0,
      "outputs": [
        {
          "output_type": "execute_result",
          "data": {
            "text/plain": [
              "{'learning_rate': 0.01, 'momentum': 0.4}"
            ]
          },
          "metadata": {
            "tags": []
          },
          "execution_count": 324
        }
      ]
    },
    {
      "cell_type": "code",
      "metadata": {
        "id": "QYGZFhmPYZWf",
        "colab_type": "code",
        "colab": {}
      },
      "source": [
        "best_model = tuner.get_best_models()[0]"
      ],
      "execution_count": 0,
      "outputs": []
    },
    {
      "cell_type": "markdown",
      "metadata": {
        "id": "5wJxr25jOew_",
        "colab_type": "text"
      },
      "source": [
        "##Train the best model RandomSearch"
      ]
    },
    {
      "cell_type": "code",
      "metadata": {
        "id": "8K8a1I3yU9FS",
        "colab_type": "code",
        "outputId": "29913466-848d-40d7-efb9-27a4bf983098",
        "colab": {
          "base_uri": "https://localhost:8080/",
          "height": 1000
        }
      },
      "source": [
        "#num_epochs = 50\n",
        "all_acc_histories_RS = []\n",
        "all_loss_histories_RS = []\n",
        "all_val_acc_histories_RS = []\n",
        "all_val_loss_histories_RS = []\n",
        "\n",
        "for train_index, val_index in skf.split(train_data_stand_pca, train_labels_dec):\n",
        " \n",
        "  partial_train_data = np.array([train_data_stand_pca[i] for i in train_index])\n",
        "  partial_train_targets = np.array([train_labels_dec[i] for i in train_index])\n",
        "  \n",
        "  val_data = np.array([train_data_stand_pca[i] for i in val_index])\n",
        "  val_targets = np.array([train_labels_dec[i] for i in val_index])\n",
        "\n",
        "  one_hot_partial_train_targets = to_categorical(partial_train_targets)\n",
        "  one_hot_val_targets = to_categorical(val_targets)\n",
        "\n",
        " \n",
        "  history_RS = random_model.fit(partial_train_data, one_hot_partial_train_targets, validation_data=(val_data, one_hot_val_targets), \n",
        "                      epochs=num_epochs, batch_size=8)\n",
        "  \n",
        "  acc_history_RS = history_RS.history['accuracy']\n",
        "  all_acc_histories_RS.append(acc_history_RS)\n",
        "\n",
        "  loss_history_RS = history_RS.history['loss']\n",
        "  all_loss_histories_RS.append(loss_history_RS)\n",
        "\n",
        "  acc_val_history_RS = history_RS.history['val_accuracy']\n",
        "  all_val_acc_histories_RS.append(acc_val_history_RS)\n",
        "\n",
        "  loss_val_history_RS = history_RS.history['val_loss']\n",
        "  all_val_loss_histories_RS.append(loss_val_history_RS)\n",
        "  \n",
        "\n",
        "#I parametri per la valutazione vengono calcolati per ogni epoca, quindi num_epochs volte. \n",
        "#Il tutto viene ripetuto un numero di volte pari a n_splits.\n",
        "#Si ottiene una lista con n_splits elementi ciascuno dei quali è una lista lunga num_epochs,\n",
        "#ogni elemento può essere uno fra questi: dict_keys(['val_loss', 'val_acc', 'loss', 'acc']) "
      ],
      "execution_count": 0,
      "outputs": [
        {
          "output_type": "stream",
          "text": [
            "Train on 86 samples, validate on 45 samples\n",
            "Epoch 1/20\n",
            "86/86 [==============================] - 0s 4ms/sample - loss: 1.1592 - accuracy: 0.4651 - val_loss: 1.1222 - val_accuracy: 0.4667\n",
            "Epoch 2/20\n",
            "86/86 [==============================] - 0s 424us/sample - loss: 1.0277 - accuracy: 0.5349 - val_loss: 1.0792 - val_accuracy: 0.4889\n",
            "Epoch 3/20\n",
            "86/86 [==============================] - 0s 423us/sample - loss: 1.0078 - accuracy: 0.5698 - val_loss: 1.0519 - val_accuracy: 0.4889\n",
            "Epoch 4/20\n",
            "86/86 [==============================] - 0s 446us/sample - loss: 0.9722 - accuracy: 0.6395 - val_loss: 1.0393 - val_accuracy: 0.4889\n",
            "Epoch 5/20\n",
            "86/86 [==============================] - 0s 497us/sample - loss: 0.9761 - accuracy: 0.6047 - val_loss: 1.0278 - val_accuracy: 0.4889\n",
            "Epoch 6/20\n",
            "86/86 [==============================] - 0s 459us/sample - loss: 0.9628 - accuracy: 0.6047 - val_loss: 1.0226 - val_accuracy: 0.4444\n",
            "Epoch 7/20\n",
            "86/86 [==============================] - 0s 465us/sample - loss: 0.9513 - accuracy: 0.6395 - val_loss: 1.0217 - val_accuracy: 0.4444\n",
            "Epoch 8/20\n",
            "86/86 [==============================] - 0s 468us/sample - loss: 0.9368 - accuracy: 0.6279 - val_loss: 1.0178 - val_accuracy: 0.4667\n",
            "Epoch 9/20\n",
            "86/86 [==============================] - 0s 470us/sample - loss: 0.9392 - accuracy: 0.5930 - val_loss: 1.0319 - val_accuracy: 0.5111\n",
            "Epoch 10/20\n",
            "86/86 [==============================] - 0s 452us/sample - loss: 0.9358 - accuracy: 0.6163 - val_loss: 1.0339 - val_accuracy: 0.4889\n",
            "Epoch 11/20\n",
            "86/86 [==============================] - 0s 421us/sample - loss: 0.9151 - accuracy: 0.6395 - val_loss: 1.0382 - val_accuracy: 0.5333\n",
            "Epoch 12/20\n",
            "86/86 [==============================] - 0s 534us/sample - loss: 0.9190 - accuracy: 0.6512 - val_loss: 1.0303 - val_accuracy: 0.4889\n",
            "Epoch 13/20\n",
            "86/86 [==============================] - 0s 435us/sample - loss: 0.9074 - accuracy: 0.6512 - val_loss: 1.0276 - val_accuracy: 0.5111\n",
            "Epoch 14/20\n",
            "86/86 [==============================] - 0s 446us/sample - loss: 0.8974 - accuracy: 0.6628 - val_loss: 1.0269 - val_accuracy: 0.5556\n",
            "Epoch 15/20\n",
            "86/86 [==============================] - 0s 430us/sample - loss: 0.8847 - accuracy: 0.6628 - val_loss: 1.0339 - val_accuracy: 0.5556\n",
            "Epoch 16/20\n",
            "86/86 [==============================] - 0s 416us/sample - loss: 0.8858 - accuracy: 0.6628 - val_loss: 1.0232 - val_accuracy: 0.5556\n",
            "Epoch 17/20\n",
            "86/86 [==============================] - 0s 437us/sample - loss: 0.8794 - accuracy: 0.6512 - val_loss: 1.0195 - val_accuracy: 0.5333\n",
            "Epoch 18/20\n",
            "86/86 [==============================] - 0s 403us/sample - loss: 0.8697 - accuracy: 0.6395 - val_loss: 1.0386 - val_accuracy: 0.5778\n",
            "Epoch 19/20\n",
            "86/86 [==============================] - 0s 413us/sample - loss: 0.8695 - accuracy: 0.6628 - val_loss: 1.0309 - val_accuracy: 0.5778\n",
            "Epoch 20/20\n",
            "86/86 [==============================] - 0s 402us/sample - loss: 0.8652 - accuracy: 0.6628 - val_loss: 1.0270 - val_accuracy: 0.5556\n",
            "Train on 88 samples, validate on 43 samples\n",
            "Epoch 1/20\n",
            "88/88 [==============================] - 0s 2ms/sample - loss: 0.9667 - accuracy: 0.5795 - val_loss: 0.8716 - val_accuracy: 0.6744\n",
            "Epoch 2/20\n",
            "88/88 [==============================] - 0s 414us/sample - loss: 0.9394 - accuracy: 0.5568 - val_loss: 0.8674 - val_accuracy: 0.6512\n",
            "Epoch 3/20\n",
            "88/88 [==============================] - 0s 409us/sample - loss: 0.9307 - accuracy: 0.6023 - val_loss: 0.9446 - val_accuracy: 0.5349\n",
            "Epoch 4/20\n",
            "88/88 [==============================] - 0s 433us/sample - loss: 0.9107 - accuracy: 0.5795 - val_loss: 0.9402 - val_accuracy: 0.5581\n",
            "Epoch 5/20\n",
            "88/88 [==============================] - 0s 424us/sample - loss: 0.9099 - accuracy: 0.5909 - val_loss: 0.9696 - val_accuracy: 0.5581\n",
            "Epoch 6/20\n",
            "88/88 [==============================] - 0s 448us/sample - loss: 0.8959 - accuracy: 0.5795 - val_loss: 1.0215 - val_accuracy: 0.5116\n",
            "Epoch 7/20\n",
            "88/88 [==============================] - 0s 421us/sample - loss: 0.8842 - accuracy: 0.5909 - val_loss: 0.9589 - val_accuracy: 0.5581\n",
            "Epoch 8/20\n",
            "88/88 [==============================] - 0s 410us/sample - loss: 0.8794 - accuracy: 0.6250 - val_loss: 0.9971 - val_accuracy: 0.5581\n",
            "Epoch 9/20\n",
            "88/88 [==============================] - 0s 414us/sample - loss: 0.8870 - accuracy: 0.6023 - val_loss: 1.0669 - val_accuracy: 0.4884\n",
            "Epoch 10/20\n",
            "88/88 [==============================] - 0s 457us/sample - loss: 0.8657 - accuracy: 0.6136 - val_loss: 0.9852 - val_accuracy: 0.5349\n",
            "Epoch 11/20\n",
            "88/88 [==============================] - 0s 449us/sample - loss: 0.8697 - accuracy: 0.6023 - val_loss: 1.0274 - val_accuracy: 0.5349\n",
            "Epoch 12/20\n",
            "88/88 [==============================] - 0s 433us/sample - loss: 0.8736 - accuracy: 0.6136 - val_loss: 1.0415 - val_accuracy: 0.5349\n",
            "Epoch 13/20\n",
            "88/88 [==============================] - 0s 418us/sample - loss: 0.8659 - accuracy: 0.6364 - val_loss: 1.0573 - val_accuracy: 0.5116\n",
            "Epoch 14/20\n",
            "88/88 [==============================] - 0s 405us/sample - loss: 0.8660 - accuracy: 0.6136 - val_loss: 1.0371 - val_accuracy: 0.5349\n",
            "Epoch 15/20\n",
            "88/88 [==============================] - 0s 416us/sample - loss: 0.8650 - accuracy: 0.6136 - val_loss: 1.1125 - val_accuracy: 0.4651\n",
            "Epoch 16/20\n",
            "88/88 [==============================] - 0s 417us/sample - loss: 0.8620 - accuracy: 0.6477 - val_loss: 1.0792 - val_accuracy: 0.4884\n",
            "Epoch 17/20\n",
            "88/88 [==============================] - 0s 481us/sample - loss: 0.8640 - accuracy: 0.6250 - val_loss: 1.0400 - val_accuracy: 0.4884\n",
            "Epoch 18/20\n",
            "88/88 [==============================] - 0s 489us/sample - loss: 0.8538 - accuracy: 0.5795 - val_loss: 1.1196 - val_accuracy: 0.4651\n",
            "Epoch 19/20\n",
            "88/88 [==============================] - 0s 658us/sample - loss: 0.8508 - accuracy: 0.6136 - val_loss: 1.0454 - val_accuracy: 0.4884\n",
            "Epoch 20/20\n",
            "88/88 [==============================] - 0s 432us/sample - loss: 0.8511 - accuracy: 0.6250 - val_loss: 1.0189 - val_accuracy: 0.5349\n",
            "Train on 88 samples, validate on 43 samples\n",
            "Epoch 1/20\n",
            "88/88 [==============================] - 0s 450us/sample - loss: 0.9718 - accuracy: 0.5682 - val_loss: 0.8099 - val_accuracy: 0.6744\n",
            "Epoch 2/20\n",
            "88/88 [==============================] - 0s 423us/sample - loss: 0.9448 - accuracy: 0.5909 - val_loss: 0.8258 - val_accuracy: 0.6744\n",
            "Epoch 3/20\n",
            "88/88 [==============================] - 0s 440us/sample - loss: 0.9253 - accuracy: 0.5568 - val_loss: 0.8391 - val_accuracy: 0.6512\n",
            "Epoch 4/20\n",
            "88/88 [==============================] - 0s 444us/sample - loss: 0.9454 - accuracy: 0.5682 - val_loss: 0.8336 - val_accuracy: 0.6279\n",
            "Epoch 5/20\n",
            "88/88 [==============================] - 0s 424us/sample - loss: 0.9121 - accuracy: 0.5682 - val_loss: 0.8496 - val_accuracy: 0.6279\n",
            "Epoch 6/20\n",
            "88/88 [==============================] - 0s 417us/sample - loss: 0.9079 - accuracy: 0.5682 - val_loss: 0.8755 - val_accuracy: 0.6279\n",
            "Epoch 7/20\n",
            "88/88 [==============================] - 0s 450us/sample - loss: 0.8912 - accuracy: 0.6023 - val_loss: 0.8748 - val_accuracy: 0.6279\n",
            "Epoch 8/20\n",
            "88/88 [==============================] - 0s 438us/sample - loss: 0.8896 - accuracy: 0.5682 - val_loss: 0.8868 - val_accuracy: 0.6279\n",
            "Epoch 9/20\n",
            "88/88 [==============================] - 0s 441us/sample - loss: 0.8814 - accuracy: 0.5909 - val_loss: 0.8926 - val_accuracy: 0.6279\n",
            "Epoch 10/20\n",
            "88/88 [==============================] - 0s 416us/sample - loss: 0.8826 - accuracy: 0.5682 - val_loss: 0.9055 - val_accuracy: 0.6047\n",
            "Epoch 11/20\n",
            "88/88 [==============================] - 0s 479us/sample - loss: 0.8727 - accuracy: 0.6023 - val_loss: 0.9311 - val_accuracy: 0.6047\n",
            "Epoch 12/20\n",
            "88/88 [==============================] - 0s 429us/sample - loss: 0.8727 - accuracy: 0.6136 - val_loss: 0.9103 - val_accuracy: 0.6279\n",
            "Epoch 13/20\n",
            "88/88 [==============================] - 0s 418us/sample - loss: 0.8642 - accuracy: 0.5909 - val_loss: 0.9352 - val_accuracy: 0.6047\n",
            "Epoch 14/20\n",
            "88/88 [==============================] - 0s 445us/sample - loss: 0.8577 - accuracy: 0.6023 - val_loss: 0.9311 - val_accuracy: 0.6512\n",
            "Epoch 15/20\n",
            "88/88 [==============================] - 0s 407us/sample - loss: 0.8636 - accuracy: 0.6023 - val_loss: 0.9313 - val_accuracy: 0.6512\n",
            "Epoch 16/20\n",
            "88/88 [==============================] - 0s 429us/sample - loss: 0.8603 - accuracy: 0.6364 - val_loss: 0.9352 - val_accuracy: 0.6512\n",
            "Epoch 17/20\n",
            "88/88 [==============================] - 0s 448us/sample - loss: 0.8573 - accuracy: 0.6023 - val_loss: 0.9454 - val_accuracy: 0.6512\n",
            "Epoch 18/20\n",
            "88/88 [==============================] - 0s 431us/sample - loss: 0.8560 - accuracy: 0.5795 - val_loss: 0.9563 - val_accuracy: 0.6512\n",
            "Epoch 19/20\n",
            "88/88 [==============================] - 0s 428us/sample - loss: 0.8475 - accuracy: 0.6364 - val_loss: 0.9666 - val_accuracy: 0.6512\n",
            "Epoch 20/20\n",
            "88/88 [==============================] - 0s 447us/sample - loss: 0.8417 - accuracy: 0.6250 - val_loss: 0.9977 - val_accuracy: 0.6512\n"
          ],
          "name": "stdout"
        }
      ]
    },
    {
      "cell_type": "code",
      "metadata": {
        "id": "gkjHWfuvSRXF",
        "colab_type": "code",
        "colab": {}
      },
      "source": [
        "history_dict = history_RS.history"
      ],
      "execution_count": 0,
      "outputs": []
    },
    {
      "cell_type": "code",
      "metadata": {
        "id": "o5o_DnOySStG",
        "colab_type": "code",
        "outputId": "0e3d7111-9500-4354-b11a-1894d676f995",
        "colab": {
          "base_uri": "https://localhost:8080/",
          "height": 34
        }
      },
      "source": [
        "history_dict.keys()"
      ],
      "execution_count": 0,
      "outputs": [
        {
          "output_type": "execute_result",
          "data": {
            "text/plain": [
              "dict_keys(['loss', 'accuracy', 'val_loss', 'val_accuracy'])"
            ]
          },
          "metadata": {
            "tags": []
          },
          "execution_count": 328
        }
      ]
    },
    {
      "cell_type": "markdown",
      "metadata": {
        "id": "TKY3zDIXWvSD",
        "colab_type": "text"
      },
      "source": [
        "#Keras tuner Hyperband"
      ]
    },
    {
      "cell_type": "code",
      "metadata": {
        "colab_type": "code",
        "id": "DB6WAVx6XBnV",
        "outputId": "0a519965-ee3e-482b-a778-027f251d65ab",
        "colab": {
          "base_uri": "https://localhost:8080/",
          "height": 1000
        }
      },
      "source": [
        "#num_epochs = 50\n",
        "\n",
        "for train_index, val_index in skf.split(train_data_stand_pca, train_labels_dec):\n",
        " \n",
        "  partial_train_data = np.array([train_data_stand_pca[i] for i in train_index])\n",
        "  partial_train_targets = np.array([train_labels_dec[i] for i in train_index])\n",
        "  \n",
        "  val_data = np.array([train_data_stand_pca[i] for i in val_index])\n",
        "  val_targets = np.array([train_labels_dec[i] for i in val_index])\n",
        "\n",
        "  one_hot_partial_train_targets = to_categorical(partial_train_targets)\n",
        "  one_hot_val_targets = to_categorical(val_targets)\n",
        "\n",
        " \n",
        "  tuner_Hb = Hyperband(build_model, objective='val_accuracy', factor=3, \n",
        "                       max_epochs=10, directory='/content/my_dir', project_name='Hyperband')\n",
        "  \n",
        "  tuner_Hb.search_space_summary()\n",
        "\n",
        "  tuner_Hb.search(partial_train_data, one_hot_partial_train_targets, \n",
        "                  validation_data=(val_data, one_hot_val_targets))\n",
        "  "
      ],
      "execution_count": 0,
      "outputs": [
        {
          "output_type": "stream",
          "text": [
            "WARNING:tensorflow:Unresolved object in checkpoint: (root).layer-0.kernel\n",
            "WARNING:tensorflow:Unresolved object in checkpoint: (root).layer-0.bias\n",
            "WARNING:tensorflow:Unresolved object in checkpoint: (root).layer-1.kernel\n",
            "WARNING:tensorflow:Unresolved object in checkpoint: (root).layer-1.bias\n",
            "WARNING:tensorflow:Unresolved object in checkpoint: (root).layer-2.kernel\n",
            "WARNING:tensorflow:Unresolved object in checkpoint: (root).layer-2.bias\n",
            "WARNING:tensorflow:Unresolved object in checkpoint: (root).optimizer.iter\n",
            "WARNING:tensorflow:Unresolved object in checkpoint: (root).optimizer.decay\n",
            "WARNING:tensorflow:Unresolved object in checkpoint: (root).optimizer.learning_rate\n",
            "WARNING:tensorflow:Unresolved object in checkpoint: (root).optimizer.momentum\n",
            "WARNING:tensorflow:Unresolved object in checkpoint: (root).optimizer's state 'momentum' for (root).layer-0.kernel\n",
            "WARNING:tensorflow:Unresolved object in checkpoint: (root).optimizer's state 'momentum' for (root).layer-0.bias\n",
            "WARNING:tensorflow:Unresolved object in checkpoint: (root).optimizer's state 'momentum' for (root).layer-1.kernel\n",
            "WARNING:tensorflow:Unresolved object in checkpoint: (root).optimizer's state 'momentum' for (root).layer-1.bias\n",
            "WARNING:tensorflow:Unresolved object in checkpoint: (root).optimizer's state 'momentum' for (root).layer-2.kernel\n",
            "WARNING:tensorflow:Unresolved object in checkpoint: (root).optimizer's state 'momentum' for (root).layer-2.bias\n",
            "WARNING:tensorflow:A checkpoint was restored (e.g. tf.train.Checkpoint.restore or tf.keras.Model.load_weights) but not all checkpointed values were used. See above for specific issues. Use expect_partial() on the load status object, e.g. tf.train.Checkpoint.restore(...).expect_partial(), to silence these warnings, or use assert_consumed() to make the check explicit. See https://www.tensorflow.org/guide/checkpoint#loading_mechanics for details.\n"
          ],
          "name": "stdout"
        },
        {
          "output_type": "display_data",
          "data": {
            "text/html": [
              "<span style=\"color:#4527A0\"><h1 style=\"font-size:18px\">Search space summary</h1></span>"
            ],
            "text/plain": [
              "<IPython.core.display.HTML object>"
            ]
          },
          "metadata": {
            "tags": []
          }
        },
        {
          "output_type": "display_data",
          "data": {
            "text/html": [
              "<span style=\"color:cyan\"> |-Default search space size: 2</span>"
            ],
            "text/plain": [
              "<IPython.core.display.HTML object>"
            ]
          },
          "metadata": {
            "tags": []
          }
        },
        {
          "output_type": "display_data",
          "data": {
            "text/html": [
              "<span style=\"color:#7E57C2\"><h2 style=\"font-size:16px\">learning_rate (Choice)</h2></span>"
            ],
            "text/plain": [
              "<IPython.core.display.HTML object>"
            ]
          },
          "metadata": {
            "tags": []
          }
        },
        {
          "output_type": "display_data",
          "data": {
            "text/html": [
              "<span style=\"color:cyan\"> |-default: 0.01</span>"
            ],
            "text/plain": [
              "<IPython.core.display.HTML object>"
            ]
          },
          "metadata": {
            "tags": []
          }
        },
        {
          "output_type": "display_data",
          "data": {
            "text/html": [
              "<span style=\"color:blue\"> |-ordered: True</span>"
            ],
            "text/plain": [
              "<IPython.core.display.HTML object>"
            ]
          },
          "metadata": {
            "tags": []
          }
        },
        {
          "output_type": "display_data",
          "data": {
            "text/html": [
              "<span style=\"color:cyan\"> |-values: [0.01, 0.001, 0.0001]</span>"
            ],
            "text/plain": [
              "<IPython.core.display.HTML object>"
            ]
          },
          "metadata": {
            "tags": []
          }
        },
        {
          "output_type": "display_data",
          "data": {
            "text/html": [
              "<span style=\"color:#7E57C2\"><h2 style=\"font-size:16px\">momentum (Choice)</h2></span>"
            ],
            "text/plain": [
              "<IPython.core.display.HTML object>"
            ]
          },
          "metadata": {
            "tags": []
          }
        },
        {
          "output_type": "display_data",
          "data": {
            "text/html": [
              "<span style=\"color:cyan\"> |-default: 0.0</span>"
            ],
            "text/plain": [
              "<IPython.core.display.HTML object>"
            ]
          },
          "metadata": {
            "tags": []
          }
        },
        {
          "output_type": "display_data",
          "data": {
            "text/html": [
              "<span style=\"color:blue\"> |-ordered: True</span>"
            ],
            "text/plain": [
              "<IPython.core.display.HTML object>"
            ]
          },
          "metadata": {
            "tags": []
          }
        },
        {
          "output_type": "display_data",
          "data": {
            "text/html": [
              "<span style=\"color:cyan\"> |-values: [0.0, 0.1, 0.2, 0.3, 0.4, 0.5, 0.6, 0.7, 0.8, 0.9]</span>"
            ],
            "text/plain": [
              "<IPython.core.display.HTML object>"
            ]
          },
          "metadata": {
            "tags": []
          }
        },
        {
          "output_type": "stream",
          "text": [
            "Train on 86 samples, validate on 45 samples\n",
            "Epoch 1/2\n",
            "86/86 [==============================] - 0s 4ms/sample - loss: 3.7547 - accuracy: 0.2907 - val_loss: 2.7311 - val_accuracy: 0.2444\n",
            "Epoch 2/2\n",
            "86/86 [==============================] - 0s 276us/sample - loss: 3.7480 - accuracy: 0.2907 - val_loss: 2.7271 - val_accuracy: 0.2444\n"
          ],
          "name": "stdout"
        },
        {
          "output_type": "display_data",
          "data": {
            "text/html": [
              "<span style=\"color:#4527A0\"><h1 style=\"font-size:18px\">Trial complete</h1></span>"
            ],
            "text/plain": [
              "<IPython.core.display.HTML object>"
            ]
          },
          "metadata": {
            "tags": []
          }
        },
        {
          "output_type": "display_data",
          "data": {
            "text/html": [
              "<span style=\"color:#4527A0\"><h1 style=\"font-size:18px\">Trial summary</h1></span>"
            ],
            "text/plain": [
              "<IPython.core.display.HTML object>"
            ]
          },
          "metadata": {
            "tags": []
          }
        },
        {
          "output_type": "display_data",
          "data": {
            "text/html": [
              "<span style=\"color:#7E57C2\"><h2 style=\"font-size:16px\">Hp values:</h2></span>"
            ],
            "text/plain": [
              "<IPython.core.display.HTML object>"
            ]
          },
          "metadata": {
            "tags": []
          }
        },
        {
          "output_type": "display_data",
          "data": {
            "text/html": [
              "<span style=\"color:cyan\"> |-learning_rate: 0.0001</span>"
            ],
            "text/plain": [
              "<IPython.core.display.HTML object>"
            ]
          },
          "metadata": {
            "tags": []
          }
        },
        {
          "output_type": "display_data",
          "data": {
            "text/html": [
              "<span style=\"color:blue\"> |-momentum: 0.1</span>"
            ],
            "text/plain": [
              "<IPython.core.display.HTML object>"
            ]
          },
          "metadata": {
            "tags": []
          }
        },
        {
          "output_type": "display_data",
          "data": {
            "text/html": [
              "<span style=\"color:cyan\"> |-tuner/bracket: 2</span>"
            ],
            "text/plain": [
              "<IPython.core.display.HTML object>"
            ]
          },
          "metadata": {
            "tags": []
          }
        },
        {
          "output_type": "display_data",
          "data": {
            "text/html": [
              "<span style=\"color:blue\"> |-tuner/epochs: 2</span>"
            ],
            "text/plain": [
              "<IPython.core.display.HTML object>"
            ]
          },
          "metadata": {
            "tags": []
          }
        },
        {
          "output_type": "display_data",
          "data": {
            "text/html": [
              "<span style=\"color:cyan\"> |-tuner/initial_epoch: 0</span>"
            ],
            "text/plain": [
              "<IPython.core.display.HTML object>"
            ]
          },
          "metadata": {
            "tags": []
          }
        },
        {
          "output_type": "display_data",
          "data": {
            "text/html": [
              "<span style=\"color:blue\"> |-tuner/round: 0</span>"
            ],
            "text/plain": [
              "<IPython.core.display.HTML object>"
            ]
          },
          "metadata": {
            "tags": []
          }
        },
        {
          "output_type": "display_data",
          "data": {
            "text/html": [
              "<span style=\"color:cyan\"> |-Score: 0.24444444477558136</span>"
            ],
            "text/plain": [
              "<IPython.core.display.HTML object>"
            ]
          },
          "metadata": {
            "tags": []
          }
        },
        {
          "output_type": "display_data",
          "data": {
            "text/html": [
              "<span style=\"color:cyan\"> |-Best step: 0</span>"
            ],
            "text/plain": [
              "<IPython.core.display.HTML object>"
            ]
          },
          "metadata": {
            "tags": []
          }
        },
        {
          "output_type": "stream",
          "text": [
            "Train on 86 samples, validate on 45 samples\n",
            "Epoch 1/2\n",
            "86/86 [==============================] - 0s 4ms/sample - loss: 1.7334 - accuracy: 0.3023 - val_loss: 1.6073 - val_accuracy: 0.4000\n",
            "Epoch 2/2\n",
            "86/86 [==============================] - 0s 254us/sample - loss: 1.7225 - accuracy: 0.3140 - val_loss: 1.5985 - val_accuracy: 0.4000\n"
          ],
          "name": "stdout"
        },
        {
          "output_type": "display_data",
          "data": {
            "text/html": [
              "<span style=\"color:#4527A0\"><h1 style=\"font-size:18px\">Trial complete</h1></span>"
            ],
            "text/plain": [
              "<IPython.core.display.HTML object>"
            ]
          },
          "metadata": {
            "tags": []
          }
        },
        {
          "output_type": "display_data",
          "data": {
            "text/html": [
              "<span style=\"color:#4527A0\"><h1 style=\"font-size:18px\">Trial summary</h1></span>"
            ],
            "text/plain": [
              "<IPython.core.display.HTML object>"
            ]
          },
          "metadata": {
            "tags": []
          }
        },
        {
          "output_type": "display_data",
          "data": {
            "text/html": [
              "<span style=\"color:#7E57C2\"><h2 style=\"font-size:16px\">Hp values:</h2></span>"
            ],
            "text/plain": [
              "<IPython.core.display.HTML object>"
            ]
          },
          "metadata": {
            "tags": []
          }
        },
        {
          "output_type": "display_data",
          "data": {
            "text/html": [
              "<span style=\"color:cyan\"> |-learning_rate: 0.001</span>"
            ],
            "text/plain": [
              "<IPython.core.display.HTML object>"
            ]
          },
          "metadata": {
            "tags": []
          }
        },
        {
          "output_type": "display_data",
          "data": {
            "text/html": [
              "<span style=\"color:blue\"> |-momentum: 0.2</span>"
            ],
            "text/plain": [
              "<IPython.core.display.HTML object>"
            ]
          },
          "metadata": {
            "tags": []
          }
        },
        {
          "output_type": "display_data",
          "data": {
            "text/html": [
              "<span style=\"color:cyan\"> |-tuner/bracket: 2</span>"
            ],
            "text/plain": [
              "<IPython.core.display.HTML object>"
            ]
          },
          "metadata": {
            "tags": []
          }
        },
        {
          "output_type": "display_data",
          "data": {
            "text/html": [
              "<span style=\"color:blue\"> |-tuner/epochs: 2</span>"
            ],
            "text/plain": [
              "<IPython.core.display.HTML object>"
            ]
          },
          "metadata": {
            "tags": []
          }
        },
        {
          "output_type": "display_data",
          "data": {
            "text/html": [
              "<span style=\"color:cyan\"> |-tuner/initial_epoch: 0</span>"
            ],
            "text/plain": [
              "<IPython.core.display.HTML object>"
            ]
          },
          "metadata": {
            "tags": []
          }
        },
        {
          "output_type": "display_data",
          "data": {
            "text/html": [
              "<span style=\"color:blue\"> |-tuner/round: 0</span>"
            ],
            "text/plain": [
              "<IPython.core.display.HTML object>"
            ]
          },
          "metadata": {
            "tags": []
          }
        },
        {
          "output_type": "display_data",
          "data": {
            "text/html": [
              "<span style=\"color:cyan\"> |-Score: 0.4000000059604645</span>"
            ],
            "text/plain": [
              "<IPython.core.display.HTML object>"
            ]
          },
          "metadata": {
            "tags": []
          }
        },
        {
          "output_type": "display_data",
          "data": {
            "text/html": [
              "<span style=\"color:cyan\"> |-Best step: 0</span>"
            ],
            "text/plain": [
              "<IPython.core.display.HTML object>"
            ]
          },
          "metadata": {
            "tags": []
          }
        },
        {
          "output_type": "stream",
          "text": [
            "Train on 86 samples, validate on 45 samples\n",
            "Epoch 1/2\n",
            "86/86 [==============================] - 0s 4ms/sample - loss: 2.1206 - accuracy: 0.4884 - val_loss: 1.6693 - val_accuracy: 0.3778\n",
            "Epoch 2/2\n",
            "86/86 [==============================] - 0s 287us/sample - loss: 2.0670 - accuracy: 0.5000 - val_loss: 1.6310 - val_accuracy: 0.3778\n"
          ],
          "name": "stdout"
        },
        {
          "output_type": "display_data",
          "data": {
            "text/html": [
              "<span style=\"color:#4527A0\"><h1 style=\"font-size:18px\">Trial complete</h1></span>"
            ],
            "text/plain": [
              "<IPython.core.display.HTML object>"
            ]
          },
          "metadata": {
            "tags": []
          }
        },
        {
          "output_type": "display_data",
          "data": {
            "text/html": [
              "<span style=\"color:#4527A0\"><h1 style=\"font-size:18px\">Trial summary</h1></span>"
            ],
            "text/plain": [
              "<IPython.core.display.HTML object>"
            ]
          },
          "metadata": {
            "tags": []
          }
        },
        {
          "output_type": "display_data",
          "data": {
            "text/html": [
              "<span style=\"color:#7E57C2\"><h2 style=\"font-size:16px\">Hp values:</h2></span>"
            ],
            "text/plain": [
              "<IPython.core.display.HTML object>"
            ]
          },
          "metadata": {
            "tags": []
          }
        },
        {
          "output_type": "display_data",
          "data": {
            "text/html": [
              "<span style=\"color:cyan\"> |-learning_rate: 0.001</span>"
            ],
            "text/plain": [
              "<IPython.core.display.HTML object>"
            ]
          },
          "metadata": {
            "tags": []
          }
        },
        {
          "output_type": "display_data",
          "data": {
            "text/html": [
              "<span style=\"color:blue\"> |-momentum: 0.7</span>"
            ],
            "text/plain": [
              "<IPython.core.display.HTML object>"
            ]
          },
          "metadata": {
            "tags": []
          }
        },
        {
          "output_type": "display_data",
          "data": {
            "text/html": [
              "<span style=\"color:cyan\"> |-tuner/bracket: 2</span>"
            ],
            "text/plain": [
              "<IPython.core.display.HTML object>"
            ]
          },
          "metadata": {
            "tags": []
          }
        },
        {
          "output_type": "display_data",
          "data": {
            "text/html": [
              "<span style=\"color:blue\"> |-tuner/epochs: 2</span>"
            ],
            "text/plain": [
              "<IPython.core.display.HTML object>"
            ]
          },
          "metadata": {
            "tags": []
          }
        },
        {
          "output_type": "display_data",
          "data": {
            "text/html": [
              "<span style=\"color:cyan\"> |-tuner/initial_epoch: 0</span>"
            ],
            "text/plain": [
              "<IPython.core.display.HTML object>"
            ]
          },
          "metadata": {
            "tags": []
          }
        },
        {
          "output_type": "display_data",
          "data": {
            "text/html": [
              "<span style=\"color:blue\"> |-tuner/round: 0</span>"
            ],
            "text/plain": [
              "<IPython.core.display.HTML object>"
            ]
          },
          "metadata": {
            "tags": []
          }
        },
        {
          "output_type": "display_data",
          "data": {
            "text/html": [
              "<span style=\"color:cyan\"> |-Score: 0.3777777850627899</span>"
            ],
            "text/plain": [
              "<IPython.core.display.HTML object>"
            ]
          },
          "metadata": {
            "tags": []
          }
        },
        {
          "output_type": "display_data",
          "data": {
            "text/html": [
              "<span style=\"color:cyan\"> |-Best step: 0</span>"
            ],
            "text/plain": [
              "<IPython.core.display.HTML object>"
            ]
          },
          "metadata": {
            "tags": []
          }
        },
        {
          "output_type": "stream",
          "text": [
            "Train on 86 samples, validate on 45 samples\n",
            "Epoch 1/2\n",
            "86/86 [==============================] - 0s 4ms/sample - loss: 3.9920 - accuracy: 0.2558 - val_loss: 2.6453 - val_accuracy: 0.2444\n",
            "Epoch 2/2\n",
            "86/86 [==============================] - 0s 351us/sample - loss: 3.8148 - accuracy: 0.2558 - val_loss: 2.4824 - val_accuracy: 0.2889\n"
          ],
          "name": "stdout"
        },
        {
          "output_type": "display_data",
          "data": {
            "text/html": [
              "<span style=\"color:#4527A0\"><h1 style=\"font-size:18px\">Trial complete</h1></span>"
            ],
            "text/plain": [
              "<IPython.core.display.HTML object>"
            ]
          },
          "metadata": {
            "tags": []
          }
        },
        {
          "output_type": "display_data",
          "data": {
            "text/html": [
              "<span style=\"color:#4527A0\"><h1 style=\"font-size:18px\">Trial summary</h1></span>"
            ],
            "text/plain": [
              "<IPython.core.display.HTML object>"
            ]
          },
          "metadata": {
            "tags": []
          }
        },
        {
          "output_type": "display_data",
          "data": {
            "text/html": [
              "<span style=\"color:#7E57C2\"><h2 style=\"font-size:16px\">Hp values:</h2></span>"
            ],
            "text/plain": [
              "<IPython.core.display.HTML object>"
            ]
          },
          "metadata": {
            "tags": []
          }
        },
        {
          "output_type": "display_data",
          "data": {
            "text/html": [
              "<span style=\"color:cyan\"> |-learning_rate: 0.001</span>"
            ],
            "text/plain": [
              "<IPython.core.display.HTML object>"
            ]
          },
          "metadata": {
            "tags": []
          }
        },
        {
          "output_type": "display_data",
          "data": {
            "text/html": [
              "<span style=\"color:blue\"> |-momentum: 0.9</span>"
            ],
            "text/plain": [
              "<IPython.core.display.HTML object>"
            ]
          },
          "metadata": {
            "tags": []
          }
        },
        {
          "output_type": "display_data",
          "data": {
            "text/html": [
              "<span style=\"color:cyan\"> |-tuner/bracket: 2</span>"
            ],
            "text/plain": [
              "<IPython.core.display.HTML object>"
            ]
          },
          "metadata": {
            "tags": []
          }
        },
        {
          "output_type": "display_data",
          "data": {
            "text/html": [
              "<span style=\"color:blue\"> |-tuner/epochs: 2</span>"
            ],
            "text/plain": [
              "<IPython.core.display.HTML object>"
            ]
          },
          "metadata": {
            "tags": []
          }
        },
        {
          "output_type": "display_data",
          "data": {
            "text/html": [
              "<span style=\"color:cyan\"> |-tuner/initial_epoch: 0</span>"
            ],
            "text/plain": [
              "<IPython.core.display.HTML object>"
            ]
          },
          "metadata": {
            "tags": []
          }
        },
        {
          "output_type": "display_data",
          "data": {
            "text/html": [
              "<span style=\"color:blue\"> |-tuner/round: 0</span>"
            ],
            "text/plain": [
              "<IPython.core.display.HTML object>"
            ]
          },
          "metadata": {
            "tags": []
          }
        },
        {
          "output_type": "display_data",
          "data": {
            "text/html": [
              "<span style=\"color:cyan\"> |-Score: 0.2888889014720917</span>"
            ],
            "text/plain": [
              "<IPython.core.display.HTML object>"
            ]
          },
          "metadata": {
            "tags": []
          }
        },
        {
          "output_type": "display_data",
          "data": {
            "text/html": [
              "<span style=\"color:cyan\"> |-Best step: 0</span>"
            ],
            "text/plain": [
              "<IPython.core.display.HTML object>"
            ]
          },
          "metadata": {
            "tags": []
          }
        },
        {
          "output_type": "stream",
          "text": [
            "Train on 86 samples, validate on 45 samples\n",
            "Epoch 1/2\n",
            "86/86 [==============================] - 0s 4ms/sample - loss: 2.0789 - accuracy: 0.3953 - val_loss: 1.6644 - val_accuracy: 0.4222\n",
            "Epoch 2/2\n",
            "86/86 [==============================] - 0s 261us/sample - loss: 2.0777 - accuracy: 0.3953 - val_loss: 1.6637 - val_accuracy: 0.4222\n"
          ],
          "name": "stdout"
        },
        {
          "output_type": "display_data",
          "data": {
            "text/html": [
              "<span style=\"color:#4527A0\"><h1 style=\"font-size:18px\">Trial complete</h1></span>"
            ],
            "text/plain": [
              "<IPython.core.display.HTML object>"
            ]
          },
          "metadata": {
            "tags": []
          }
        },
        {
          "output_type": "display_data",
          "data": {
            "text/html": [
              "<span style=\"color:#4527A0\"><h1 style=\"font-size:18px\">Trial summary</h1></span>"
            ],
            "text/plain": [
              "<IPython.core.display.HTML object>"
            ]
          },
          "metadata": {
            "tags": []
          }
        },
        {
          "output_type": "display_data",
          "data": {
            "text/html": [
              "<span style=\"color:#7E57C2\"><h2 style=\"font-size:16px\">Hp values:</h2></span>"
            ],
            "text/plain": [
              "<IPython.core.display.HTML object>"
            ]
          },
          "metadata": {
            "tags": []
          }
        },
        {
          "output_type": "display_data",
          "data": {
            "text/html": [
              "<span style=\"color:cyan\"> |-learning_rate: 0.0001</span>"
            ],
            "text/plain": [
              "<IPython.core.display.HTML object>"
            ]
          },
          "metadata": {
            "tags": []
          }
        },
        {
          "output_type": "display_data",
          "data": {
            "text/html": [
              "<span style=\"color:blue\"> |-momentum: 0.2</span>"
            ],
            "text/plain": [
              "<IPython.core.display.HTML object>"
            ]
          },
          "metadata": {
            "tags": []
          }
        },
        {
          "output_type": "display_data",
          "data": {
            "text/html": [
              "<span style=\"color:cyan\"> |-tuner/bracket: 2</span>"
            ],
            "text/plain": [
              "<IPython.core.display.HTML object>"
            ]
          },
          "metadata": {
            "tags": []
          }
        },
        {
          "output_type": "display_data",
          "data": {
            "text/html": [
              "<span style=\"color:blue\"> |-tuner/epochs: 2</span>"
            ],
            "text/plain": [
              "<IPython.core.display.HTML object>"
            ]
          },
          "metadata": {
            "tags": []
          }
        },
        {
          "output_type": "display_data",
          "data": {
            "text/html": [
              "<span style=\"color:cyan\"> |-tuner/initial_epoch: 0</span>"
            ],
            "text/plain": [
              "<IPython.core.display.HTML object>"
            ]
          },
          "metadata": {
            "tags": []
          }
        },
        {
          "output_type": "display_data",
          "data": {
            "text/html": [
              "<span style=\"color:blue\"> |-tuner/round: 0</span>"
            ],
            "text/plain": [
              "<IPython.core.display.HTML object>"
            ]
          },
          "metadata": {
            "tags": []
          }
        },
        {
          "output_type": "display_data",
          "data": {
            "text/html": [
              "<span style=\"color:cyan\"> |-Score: 0.42222222685813904</span>"
            ],
            "text/plain": [
              "<IPython.core.display.HTML object>"
            ]
          },
          "metadata": {
            "tags": []
          }
        },
        {
          "output_type": "display_data",
          "data": {
            "text/html": [
              "<span style=\"color:cyan\"> |-Best step: 0</span>"
            ],
            "text/plain": [
              "<IPython.core.display.HTML object>"
            ]
          },
          "metadata": {
            "tags": []
          }
        },
        {
          "output_type": "stream",
          "text": [
            "Train on 86 samples, validate on 45 samples\n",
            "Epoch 1/2\n",
            "86/86 [==============================] - 0s 4ms/sample - loss: 2.1589 - accuracy: 0.3488 - val_loss: 1.8492 - val_accuracy: 0.4000\n",
            "Epoch 2/2\n",
            "86/86 [==============================] - 0s 269us/sample - loss: 2.0145 - accuracy: 0.3605 - val_loss: 1.7696 - val_accuracy: 0.3333\n"
          ],
          "name": "stdout"
        },
        {
          "output_type": "display_data",
          "data": {
            "text/html": [
              "<span style=\"color:#4527A0\"><h1 style=\"font-size:18px\">Trial complete</h1></span>"
            ],
            "text/plain": [
              "<IPython.core.display.HTML object>"
            ]
          },
          "metadata": {
            "tags": []
          }
        },
        {
          "output_type": "display_data",
          "data": {
            "text/html": [
              "<span style=\"color:#4527A0\"><h1 style=\"font-size:18px\">Trial summary</h1></span>"
            ],
            "text/plain": [
              "<IPython.core.display.HTML object>"
            ]
          },
          "metadata": {
            "tags": []
          }
        },
        {
          "output_type": "display_data",
          "data": {
            "text/html": [
              "<span style=\"color:#7E57C2\"><h2 style=\"font-size:16px\">Hp values:</h2></span>"
            ],
            "text/plain": [
              "<IPython.core.display.HTML object>"
            ]
          },
          "metadata": {
            "tags": []
          }
        },
        {
          "output_type": "display_data",
          "data": {
            "text/html": [
              "<span style=\"color:cyan\"> |-learning_rate: 0.01</span>"
            ],
            "text/plain": [
              "<IPython.core.display.HTML object>"
            ]
          },
          "metadata": {
            "tags": []
          }
        },
        {
          "output_type": "display_data",
          "data": {
            "text/html": [
              "<span style=\"color:blue\"> |-momentum: 0.1</span>"
            ],
            "text/plain": [
              "<IPython.core.display.HTML object>"
            ]
          },
          "metadata": {
            "tags": []
          }
        },
        {
          "output_type": "display_data",
          "data": {
            "text/html": [
              "<span style=\"color:cyan\"> |-tuner/bracket: 2</span>"
            ],
            "text/plain": [
              "<IPython.core.display.HTML object>"
            ]
          },
          "metadata": {
            "tags": []
          }
        },
        {
          "output_type": "display_data",
          "data": {
            "text/html": [
              "<span style=\"color:blue\"> |-tuner/epochs: 2</span>"
            ],
            "text/plain": [
              "<IPython.core.display.HTML object>"
            ]
          },
          "metadata": {
            "tags": []
          }
        },
        {
          "output_type": "display_data",
          "data": {
            "text/html": [
              "<span style=\"color:cyan\"> |-tuner/initial_epoch: 0</span>"
            ],
            "text/plain": [
              "<IPython.core.display.HTML object>"
            ]
          },
          "metadata": {
            "tags": []
          }
        },
        {
          "output_type": "display_data",
          "data": {
            "text/html": [
              "<span style=\"color:blue\"> |-tuner/round: 0</span>"
            ],
            "text/plain": [
              "<IPython.core.display.HTML object>"
            ]
          },
          "metadata": {
            "tags": []
          }
        },
        {
          "output_type": "display_data",
          "data": {
            "text/html": [
              "<span style=\"color:cyan\"> |-Score: 0.4000000059604645</span>"
            ],
            "text/plain": [
              "<IPython.core.display.HTML object>"
            ]
          },
          "metadata": {
            "tags": []
          }
        },
        {
          "output_type": "display_data",
          "data": {
            "text/html": [
              "<span style=\"color:cyan\"> |-Best step: 0</span>"
            ],
            "text/plain": [
              "<IPython.core.display.HTML object>"
            ]
          },
          "metadata": {
            "tags": []
          }
        },
        {
          "output_type": "stream",
          "text": [
            "Train on 86 samples, validate on 45 samples\n",
            "Epoch 1/2\n",
            "86/86 [==============================] - 0s 4ms/sample - loss: 2.3270 - accuracy: 0.4535 - val_loss: 2.0361 - val_accuracy: 0.4444\n",
            "Epoch 2/2\n",
            "86/86 [==============================] - 0s 259us/sample - loss: 2.0737 - accuracy: 0.4535 - val_loss: 1.7383 - val_accuracy: 0.4444\n"
          ],
          "name": "stdout"
        },
        {
          "output_type": "display_data",
          "data": {
            "text/html": [
              "<span style=\"color:#4527A0\"><h1 style=\"font-size:18px\">Trial complete</h1></span>"
            ],
            "text/plain": [
              "<IPython.core.display.HTML object>"
            ]
          },
          "metadata": {
            "tags": []
          }
        },
        {
          "output_type": "display_data",
          "data": {
            "text/html": [
              "<span style=\"color:#4527A0\"><h1 style=\"font-size:18px\">Trial summary</h1></span>"
            ],
            "text/plain": [
              "<IPython.core.display.HTML object>"
            ]
          },
          "metadata": {
            "tags": []
          }
        },
        {
          "output_type": "display_data",
          "data": {
            "text/html": [
              "<span style=\"color:#7E57C2\"><h2 style=\"font-size:16px\">Hp values:</h2></span>"
            ],
            "text/plain": [
              "<IPython.core.display.HTML object>"
            ]
          },
          "metadata": {
            "tags": []
          }
        },
        {
          "output_type": "display_data",
          "data": {
            "text/html": [
              "<span style=\"color:cyan\"> |-learning_rate: 0.01</span>"
            ],
            "text/plain": [
              "<IPython.core.display.HTML object>"
            ]
          },
          "metadata": {
            "tags": []
          }
        },
        {
          "output_type": "display_data",
          "data": {
            "text/html": [
              "<span style=\"color:blue\"> |-momentum: 0.6</span>"
            ],
            "text/plain": [
              "<IPython.core.display.HTML object>"
            ]
          },
          "metadata": {
            "tags": []
          }
        },
        {
          "output_type": "display_data",
          "data": {
            "text/html": [
              "<span style=\"color:cyan\"> |-tuner/bracket: 2</span>"
            ],
            "text/plain": [
              "<IPython.core.display.HTML object>"
            ]
          },
          "metadata": {
            "tags": []
          }
        },
        {
          "output_type": "display_data",
          "data": {
            "text/html": [
              "<span style=\"color:blue\"> |-tuner/epochs: 2</span>"
            ],
            "text/plain": [
              "<IPython.core.display.HTML object>"
            ]
          },
          "metadata": {
            "tags": []
          }
        },
        {
          "output_type": "display_data",
          "data": {
            "text/html": [
              "<span style=\"color:cyan\"> |-tuner/initial_epoch: 0</span>"
            ],
            "text/plain": [
              "<IPython.core.display.HTML object>"
            ]
          },
          "metadata": {
            "tags": []
          }
        },
        {
          "output_type": "display_data",
          "data": {
            "text/html": [
              "<span style=\"color:blue\"> |-tuner/round: 0</span>"
            ],
            "text/plain": [
              "<IPython.core.display.HTML object>"
            ]
          },
          "metadata": {
            "tags": []
          }
        },
        {
          "output_type": "display_data",
          "data": {
            "text/html": [
              "<span style=\"color:cyan\"> |-Score: 0.4444444477558136</span>"
            ],
            "text/plain": [
              "<IPython.core.display.HTML object>"
            ]
          },
          "metadata": {
            "tags": []
          }
        },
        {
          "output_type": "display_data",
          "data": {
            "text/html": [
              "<span style=\"color:cyan\"> |-Best step: 0</span>"
            ],
            "text/plain": [
              "<IPython.core.display.HTML object>"
            ]
          },
          "metadata": {
            "tags": []
          }
        },
        {
          "output_type": "stream",
          "text": [
            "Train on 86 samples, validate on 45 samples\n",
            "Epoch 1/2\n",
            "86/86 [==============================] - 0s 4ms/sample - loss: 1.9684 - accuracy: 0.4419 - val_loss: 1.4820 - val_accuracy: 0.4000\n",
            "Epoch 2/2\n",
            "86/86 [==============================] - 0s 334us/sample - loss: 1.6531 - accuracy: 0.4535 - val_loss: 1.3431 - val_accuracy: 0.4222\n"
          ],
          "name": "stdout"
        },
        {
          "output_type": "display_data",
          "data": {
            "text/html": [
              "<span style=\"color:#4527A0\"><h1 style=\"font-size:18px\">Trial complete</h1></span>"
            ],
            "text/plain": [
              "<IPython.core.display.HTML object>"
            ]
          },
          "metadata": {
            "tags": []
          }
        },
        {
          "output_type": "display_data",
          "data": {
            "text/html": [
              "<span style=\"color:#4527A0\"><h1 style=\"font-size:18px\">Trial summary</h1></span>"
            ],
            "text/plain": [
              "<IPython.core.display.HTML object>"
            ]
          },
          "metadata": {
            "tags": []
          }
        },
        {
          "output_type": "display_data",
          "data": {
            "text/html": [
              "<span style=\"color:#7E57C2\"><h2 style=\"font-size:16px\">Hp values:</h2></span>"
            ],
            "text/plain": [
              "<IPython.core.display.HTML object>"
            ]
          },
          "metadata": {
            "tags": []
          }
        },
        {
          "output_type": "display_data",
          "data": {
            "text/html": [
              "<span style=\"color:cyan\"> |-learning_rate: 0.01</span>"
            ],
            "text/plain": [
              "<IPython.core.display.HTML object>"
            ]
          },
          "metadata": {
            "tags": []
          }
        },
        {
          "output_type": "display_data",
          "data": {
            "text/html": [
              "<span style=\"color:blue\"> |-momentum: 0.8</span>"
            ],
            "text/plain": [
              "<IPython.core.display.HTML object>"
            ]
          },
          "metadata": {
            "tags": []
          }
        },
        {
          "output_type": "display_data",
          "data": {
            "text/html": [
              "<span style=\"color:cyan\"> |-tuner/bracket: 2</span>"
            ],
            "text/plain": [
              "<IPython.core.display.HTML object>"
            ]
          },
          "metadata": {
            "tags": []
          }
        },
        {
          "output_type": "display_data",
          "data": {
            "text/html": [
              "<span style=\"color:blue\"> |-tuner/epochs: 2</span>"
            ],
            "text/plain": [
              "<IPython.core.display.HTML object>"
            ]
          },
          "metadata": {
            "tags": []
          }
        },
        {
          "output_type": "display_data",
          "data": {
            "text/html": [
              "<span style=\"color:cyan\"> |-tuner/initial_epoch: 0</span>"
            ],
            "text/plain": [
              "<IPython.core.display.HTML object>"
            ]
          },
          "metadata": {
            "tags": []
          }
        },
        {
          "output_type": "display_data",
          "data": {
            "text/html": [
              "<span style=\"color:blue\"> |-tuner/round: 0</span>"
            ],
            "text/plain": [
              "<IPython.core.display.HTML object>"
            ]
          },
          "metadata": {
            "tags": []
          }
        },
        {
          "output_type": "display_data",
          "data": {
            "text/html": [
              "<span style=\"color:cyan\"> |-Score: 0.42222222685813904</span>"
            ],
            "text/plain": [
              "<IPython.core.display.HTML object>"
            ]
          },
          "metadata": {
            "tags": []
          }
        },
        {
          "output_type": "display_data",
          "data": {
            "text/html": [
              "<span style=\"color:cyan\"> |-Best step: 0</span>"
            ],
            "text/plain": [
              "<IPython.core.display.HTML object>"
            ]
          },
          "metadata": {
            "tags": []
          }
        },
        {
          "output_type": "stream",
          "text": [
            "Train on 86 samples, validate on 45 samples\n",
            "Epoch 1/2\n",
            "86/86 [==============================] - 0s 4ms/sample - loss: 2.7531 - accuracy: 0.3488 - val_loss: 1.5421 - val_accuracy: 0.3333\n",
            "Epoch 2/2\n",
            "86/86 [==============================] - 0s 349us/sample - loss: 1.6384 - accuracy: 0.3488 - val_loss: 1.5268 - val_accuracy: 0.3778\n"
          ],
          "name": "stdout"
        },
        {
          "output_type": "display_data",
          "data": {
            "text/html": [
              "<span style=\"color:#4527A0\"><h1 style=\"font-size:18px\">Trial complete</h1></span>"
            ],
            "text/plain": [
              "<IPython.core.display.HTML object>"
            ]
          },
          "metadata": {
            "tags": []
          }
        },
        {
          "output_type": "display_data",
          "data": {
            "text/html": [
              "<span style=\"color:#4527A0\"><h1 style=\"font-size:18px\">Trial summary</h1></span>"
            ],
            "text/plain": [
              "<IPython.core.display.HTML object>"
            ]
          },
          "metadata": {
            "tags": []
          }
        },
        {
          "output_type": "display_data",
          "data": {
            "text/html": [
              "<span style=\"color:#7E57C2\"><h2 style=\"font-size:16px\">Hp values:</h2></span>"
            ],
            "text/plain": [
              "<IPython.core.display.HTML object>"
            ]
          },
          "metadata": {
            "tags": []
          }
        },
        {
          "output_type": "display_data",
          "data": {
            "text/html": [
              "<span style=\"color:cyan\"> |-learning_rate: 0.01</span>"
            ],
            "text/plain": [
              "<IPython.core.display.HTML object>"
            ]
          },
          "metadata": {
            "tags": []
          }
        },
        {
          "output_type": "display_data",
          "data": {
            "text/html": [
              "<span style=\"color:blue\"> |-momentum: 0.9</span>"
            ],
            "text/plain": [
              "<IPython.core.display.HTML object>"
            ]
          },
          "metadata": {
            "tags": []
          }
        },
        {
          "output_type": "display_data",
          "data": {
            "text/html": [
              "<span style=\"color:cyan\"> |-tuner/bracket: 2</span>"
            ],
            "text/plain": [
              "<IPython.core.display.HTML object>"
            ]
          },
          "metadata": {
            "tags": []
          }
        },
        {
          "output_type": "display_data",
          "data": {
            "text/html": [
              "<span style=\"color:blue\"> |-tuner/epochs: 2</span>"
            ],
            "text/plain": [
              "<IPython.core.display.HTML object>"
            ]
          },
          "metadata": {
            "tags": []
          }
        },
        {
          "output_type": "display_data",
          "data": {
            "text/html": [
              "<span style=\"color:cyan\"> |-tuner/initial_epoch: 0</span>"
            ],
            "text/plain": [
              "<IPython.core.display.HTML object>"
            ]
          },
          "metadata": {
            "tags": []
          }
        },
        {
          "output_type": "display_data",
          "data": {
            "text/html": [
              "<span style=\"color:blue\"> |-tuner/round: 0</span>"
            ],
            "text/plain": [
              "<IPython.core.display.HTML object>"
            ]
          },
          "metadata": {
            "tags": []
          }
        },
        {
          "output_type": "display_data",
          "data": {
            "text/html": [
              "<span style=\"color:cyan\"> |-Score: 0.3777777850627899</span>"
            ],
            "text/plain": [
              "<IPython.core.display.HTML object>"
            ]
          },
          "metadata": {
            "tags": []
          }
        },
        {
          "output_type": "display_data",
          "data": {
            "text/html": [
              "<span style=\"color:cyan\"> |-Best step: 0</span>"
            ],
            "text/plain": [
              "<IPython.core.display.HTML object>"
            ]
          },
          "metadata": {
            "tags": []
          }
        },
        {
          "output_type": "stream",
          "text": [
            "Train on 86 samples, validate on 45 samples\n",
            "Epoch 1/2\n",
            "86/86 [==============================] - 0s 4ms/sample - loss: 3.3797 - accuracy: 0.2674 - val_loss: 3.9548 - val_accuracy: 0.1778\n",
            "Epoch 2/2\n",
            "86/86 [==============================] - 0s 263us/sample - loss: 3.2868 - accuracy: 0.2558 - val_loss: 3.7924 - val_accuracy: 0.1778\n"
          ],
          "name": "stdout"
        },
        {
          "output_type": "display_data",
          "data": {
            "text/html": [
              "<span style=\"color:#4527A0\"><h1 style=\"font-size:18px\">Trial complete</h1></span>"
            ],
            "text/plain": [
              "<IPython.core.display.HTML object>"
            ]
          },
          "metadata": {
            "tags": []
          }
        },
        {
          "output_type": "display_data",
          "data": {
            "text/html": [
              "<span style=\"color:#4527A0\"><h1 style=\"font-size:18px\">Trial summary</h1></span>"
            ],
            "text/plain": [
              "<IPython.core.display.HTML object>"
            ]
          },
          "metadata": {
            "tags": []
          }
        },
        {
          "output_type": "display_data",
          "data": {
            "text/html": [
              "<span style=\"color:#7E57C2\"><h2 style=\"font-size:16px\">Hp values:</h2></span>"
            ],
            "text/plain": [
              "<IPython.core.display.HTML object>"
            ]
          },
          "metadata": {
            "tags": []
          }
        },
        {
          "output_type": "display_data",
          "data": {
            "text/html": [
              "<span style=\"color:cyan\"> |-learning_rate: 0.001</span>"
            ],
            "text/plain": [
              "<IPython.core.display.HTML object>"
            ]
          },
          "metadata": {
            "tags": []
          }
        },
        {
          "output_type": "display_data",
          "data": {
            "text/html": [
              "<span style=\"color:blue\"> |-momentum: 0.6</span>"
            ],
            "text/plain": [
              "<IPython.core.display.HTML object>"
            ]
          },
          "metadata": {
            "tags": []
          }
        },
        {
          "output_type": "display_data",
          "data": {
            "text/html": [
              "<span style=\"color:cyan\"> |-tuner/bracket: 2</span>"
            ],
            "text/plain": [
              "<IPython.core.display.HTML object>"
            ]
          },
          "metadata": {
            "tags": []
          }
        },
        {
          "output_type": "display_data",
          "data": {
            "text/html": [
              "<span style=\"color:blue\"> |-tuner/epochs: 2</span>"
            ],
            "text/plain": [
              "<IPython.core.display.HTML object>"
            ]
          },
          "metadata": {
            "tags": []
          }
        },
        {
          "output_type": "display_data",
          "data": {
            "text/html": [
              "<span style=\"color:cyan\"> |-tuner/initial_epoch: 0</span>"
            ],
            "text/plain": [
              "<IPython.core.display.HTML object>"
            ]
          },
          "metadata": {
            "tags": []
          }
        },
        {
          "output_type": "display_data",
          "data": {
            "text/html": [
              "<span style=\"color:blue\"> |-tuner/round: 0</span>"
            ],
            "text/plain": [
              "<IPython.core.display.HTML object>"
            ]
          },
          "metadata": {
            "tags": []
          }
        },
        {
          "output_type": "display_data",
          "data": {
            "text/html": [
              "<span style=\"color:cyan\"> |-Score: 0.17777778208255768</span>"
            ],
            "text/plain": [
              "<IPython.core.display.HTML object>"
            ]
          },
          "metadata": {
            "tags": []
          }
        },
        {
          "output_type": "display_data",
          "data": {
            "text/html": [
              "<span style=\"color:cyan\"> |-Best step: 0</span>"
            ],
            "text/plain": [
              "<IPython.core.display.HTML object>"
            ]
          },
          "metadata": {
            "tags": []
          }
        },
        {
          "output_type": "stream",
          "text": [
            "Train on 86 samples, validate on 45 samples\n",
            "Epoch 1/2\n",
            "86/86 [==============================] - 0s 4ms/sample - loss: 2.6555 - accuracy: 0.1860 - val_loss: 2.0144 - val_accuracy: 0.2889\n",
            "Epoch 2/2\n",
            "86/86 [==============================] - 0s 246us/sample - loss: 2.1801 - accuracy: 0.2326 - val_loss: 1.7004 - val_accuracy: 0.2889\n"
          ],
          "name": "stdout"
        },
        {
          "output_type": "display_data",
          "data": {
            "text/html": [
              "<span style=\"color:#4527A0\"><h1 style=\"font-size:18px\">Trial complete</h1></span>"
            ],
            "text/plain": [
              "<IPython.core.display.HTML object>"
            ]
          },
          "metadata": {
            "tags": []
          }
        },
        {
          "output_type": "display_data",
          "data": {
            "text/html": [
              "<span style=\"color:#4527A0\"><h1 style=\"font-size:18px\">Trial summary</h1></span>"
            ],
            "text/plain": [
              "<IPython.core.display.HTML object>"
            ]
          },
          "metadata": {
            "tags": []
          }
        },
        {
          "output_type": "display_data",
          "data": {
            "text/html": [
              "<span style=\"color:#7E57C2\"><h2 style=\"font-size:16px\">Hp values:</h2></span>"
            ],
            "text/plain": [
              "<IPython.core.display.HTML object>"
            ]
          },
          "metadata": {
            "tags": []
          }
        },
        {
          "output_type": "display_data",
          "data": {
            "text/html": [
              "<span style=\"color:cyan\"> |-learning_rate: 0.01</span>"
            ],
            "text/plain": [
              "<IPython.core.display.HTML object>"
            ]
          },
          "metadata": {
            "tags": []
          }
        },
        {
          "output_type": "display_data",
          "data": {
            "text/html": [
              "<span style=\"color:blue\"> |-momentum: 0.4</span>"
            ],
            "text/plain": [
              "<IPython.core.display.HTML object>"
            ]
          },
          "metadata": {
            "tags": []
          }
        },
        {
          "output_type": "display_data",
          "data": {
            "text/html": [
              "<span style=\"color:cyan\"> |-tuner/bracket: 2</span>"
            ],
            "text/plain": [
              "<IPython.core.display.HTML object>"
            ]
          },
          "metadata": {
            "tags": []
          }
        },
        {
          "output_type": "display_data",
          "data": {
            "text/html": [
              "<span style=\"color:blue\"> |-tuner/epochs: 2</span>"
            ],
            "text/plain": [
              "<IPython.core.display.HTML object>"
            ]
          },
          "metadata": {
            "tags": []
          }
        },
        {
          "output_type": "display_data",
          "data": {
            "text/html": [
              "<span style=\"color:cyan\"> |-tuner/initial_epoch: 0</span>"
            ],
            "text/plain": [
              "<IPython.core.display.HTML object>"
            ]
          },
          "metadata": {
            "tags": []
          }
        },
        {
          "output_type": "display_data",
          "data": {
            "text/html": [
              "<span style=\"color:blue\"> |-tuner/round: 0</span>"
            ],
            "text/plain": [
              "<IPython.core.display.HTML object>"
            ]
          },
          "metadata": {
            "tags": []
          }
        },
        {
          "output_type": "display_data",
          "data": {
            "text/html": [
              "<span style=\"color:cyan\"> |-Score: 0.2888889014720917</span>"
            ],
            "text/plain": [
              "<IPython.core.display.HTML object>"
            ]
          },
          "metadata": {
            "tags": []
          }
        },
        {
          "output_type": "display_data",
          "data": {
            "text/html": [
              "<span style=\"color:cyan\"> |-Best step: 0</span>"
            ],
            "text/plain": [
              "<IPython.core.display.HTML object>"
            ]
          },
          "metadata": {
            "tags": []
          }
        },
        {
          "output_type": "stream",
          "text": [
            "Train on 86 samples, validate on 45 samples\n",
            "Epoch 1/2\n",
            "86/86 [==============================] - 0s 4ms/sample - loss: 1.7065 - accuracy: 0.3837 - val_loss: 1.4674 - val_accuracy: 0.4000\n",
            "Epoch 2/2\n",
            "86/86 [==============================] - 0s 320us/sample - loss: 1.6202 - accuracy: 0.3605 - val_loss: 1.4205 - val_accuracy: 0.4000\n"
          ],
          "name": "stdout"
        },
        {
          "output_type": "display_data",
          "data": {
            "text/html": [
              "<span style=\"color:#4527A0\"><h1 style=\"font-size:18px\">Trial complete</h1></span>"
            ],
            "text/plain": [
              "<IPython.core.display.HTML object>"
            ]
          },
          "metadata": {
            "tags": []
          }
        },
        {
          "output_type": "display_data",
          "data": {
            "text/html": [
              "<span style=\"color:#4527A0\"><h1 style=\"font-size:18px\">Trial summary</h1></span>"
            ],
            "text/plain": [
              "<IPython.core.display.HTML object>"
            ]
          },
          "metadata": {
            "tags": []
          }
        },
        {
          "output_type": "display_data",
          "data": {
            "text/html": [
              "<span style=\"color:#7E57C2\"><h2 style=\"font-size:16px\">Hp values:</h2></span>"
            ],
            "text/plain": [
              "<IPython.core.display.HTML object>"
            ]
          },
          "metadata": {
            "tags": []
          }
        },
        {
          "output_type": "display_data",
          "data": {
            "text/html": [
              "<span style=\"color:cyan\"> |-learning_rate: 0.01</span>"
            ],
            "text/plain": [
              "<IPython.core.display.HTML object>"
            ]
          },
          "metadata": {
            "tags": []
          }
        },
        {
          "output_type": "display_data",
          "data": {
            "text/html": [
              "<span style=\"color:blue\"> |-momentum: 0.0</span>"
            ],
            "text/plain": [
              "<IPython.core.display.HTML object>"
            ]
          },
          "metadata": {
            "tags": []
          }
        },
        {
          "output_type": "display_data",
          "data": {
            "text/html": [
              "<span style=\"color:cyan\"> |-tuner/bracket: 2</span>"
            ],
            "text/plain": [
              "<IPython.core.display.HTML object>"
            ]
          },
          "metadata": {
            "tags": []
          }
        },
        {
          "output_type": "display_data",
          "data": {
            "text/html": [
              "<span style=\"color:blue\"> |-tuner/epochs: 2</span>"
            ],
            "text/plain": [
              "<IPython.core.display.HTML object>"
            ]
          },
          "metadata": {
            "tags": []
          }
        },
        {
          "output_type": "display_data",
          "data": {
            "text/html": [
              "<span style=\"color:cyan\"> |-tuner/initial_epoch: 0</span>"
            ],
            "text/plain": [
              "<IPython.core.display.HTML object>"
            ]
          },
          "metadata": {
            "tags": []
          }
        },
        {
          "output_type": "display_data",
          "data": {
            "text/html": [
              "<span style=\"color:blue\"> |-tuner/round: 0</span>"
            ],
            "text/plain": [
              "<IPython.core.display.HTML object>"
            ]
          },
          "metadata": {
            "tags": []
          }
        },
        {
          "output_type": "display_data",
          "data": {
            "text/html": [
              "<span style=\"color:cyan\"> |-Score: 0.4000000059604645</span>"
            ],
            "text/plain": [
              "<IPython.core.display.HTML object>"
            ]
          },
          "metadata": {
            "tags": []
          }
        },
        {
          "output_type": "display_data",
          "data": {
            "text/html": [
              "<span style=\"color:cyan\"> |-Best step: 0</span>"
            ],
            "text/plain": [
              "<IPython.core.display.HTML object>"
            ]
          },
          "metadata": {
            "tags": []
          }
        },
        {
          "output_type": "stream",
          "text": [
            "Train on 86 samples, validate on 45 samples\n",
            "Epoch 3/4\n",
            "86/86 [==============================] - 0s 4ms/sample - loss: 2.5259 - accuracy: 0.3023 - val_loss: 2.1585 - val_accuracy: 0.2889\n",
            "Epoch 4/4\n",
            "86/86 [==============================] - 0s 394us/sample - loss: 2.1676 - accuracy: 0.3256 - val_loss: 1.9647 - val_accuracy: 0.3111\n"
          ],
          "name": "stdout"
        },
        {
          "output_type": "display_data",
          "data": {
            "text/html": [
              "<span style=\"color:#4527A0\"><h1 style=\"font-size:18px\">Trial complete</h1></span>"
            ],
            "text/plain": [
              "<IPython.core.display.HTML object>"
            ]
          },
          "metadata": {
            "tags": []
          }
        },
        {
          "output_type": "display_data",
          "data": {
            "text/html": [
              "<span style=\"color:#4527A0\"><h1 style=\"font-size:18px\">Trial summary</h1></span>"
            ],
            "text/plain": [
              "<IPython.core.display.HTML object>"
            ]
          },
          "metadata": {
            "tags": []
          }
        },
        {
          "output_type": "display_data",
          "data": {
            "text/html": [
              "<span style=\"color:#7E57C2\"><h2 style=\"font-size:16px\">Hp values:</h2></span>"
            ],
            "text/plain": [
              "<IPython.core.display.HTML object>"
            ]
          },
          "metadata": {
            "tags": []
          }
        },
        {
          "output_type": "display_data",
          "data": {
            "text/html": [
              "<span style=\"color:cyan\"> |-learning_rate: 0.01</span>"
            ],
            "text/plain": [
              "<IPython.core.display.HTML object>"
            ]
          },
          "metadata": {
            "tags": []
          }
        },
        {
          "output_type": "display_data",
          "data": {
            "text/html": [
              "<span style=\"color:blue\"> |-momentum: 0.6</span>"
            ],
            "text/plain": [
              "<IPython.core.display.HTML object>"
            ]
          },
          "metadata": {
            "tags": []
          }
        },
        {
          "output_type": "display_data",
          "data": {
            "text/html": [
              "<span style=\"color:cyan\"> |-tuner/bracket: 2</span>"
            ],
            "text/plain": [
              "<IPython.core.display.HTML object>"
            ]
          },
          "metadata": {
            "tags": []
          }
        },
        {
          "output_type": "display_data",
          "data": {
            "text/html": [
              "<span style=\"color:blue\"> |-tuner/epochs: 4</span>"
            ],
            "text/plain": [
              "<IPython.core.display.HTML object>"
            ]
          },
          "metadata": {
            "tags": []
          }
        },
        {
          "output_type": "display_data",
          "data": {
            "text/html": [
              "<span style=\"color:cyan\"> |-tuner/initial_epoch: 2</span>"
            ],
            "text/plain": [
              "<IPython.core.display.HTML object>"
            ]
          },
          "metadata": {
            "tags": []
          }
        },
        {
          "output_type": "display_data",
          "data": {
            "text/html": [
              "<span style=\"color:blue\"> |-tuner/round: 1</span>"
            ],
            "text/plain": [
              "<IPython.core.display.HTML object>"
            ]
          },
          "metadata": {
            "tags": []
          }
        },
        {
          "output_type": "display_data",
          "data": {
            "text/html": [
              "<span style=\"color:cyan\"> |-tuner/trial_id: c57500cef6c13d13e454661d39060a17</span>"
            ],
            "text/plain": [
              "<IPython.core.display.HTML object>"
            ]
          },
          "metadata": {
            "tags": []
          }
        },
        {
          "output_type": "display_data",
          "data": {
            "text/html": [
              "<span style=\"color:cyan\"> |-Score: 0.31111112236976624</span>"
            ],
            "text/plain": [
              "<IPython.core.display.HTML object>"
            ]
          },
          "metadata": {
            "tags": []
          }
        },
        {
          "output_type": "display_data",
          "data": {
            "text/html": [
              "<span style=\"color:cyan\"> |-Best step: 0</span>"
            ],
            "text/plain": [
              "<IPython.core.display.HTML object>"
            ]
          },
          "metadata": {
            "tags": []
          }
        },
        {
          "output_type": "stream",
          "text": [
            "Train on 86 samples, validate on 45 samples\n",
            "Epoch 3/4\n",
            "86/86 [==============================] - 0s 4ms/sample - loss: 1.7836 - accuracy: 0.3605 - val_loss: 1.5729 - val_accuracy: 0.3111\n",
            "Epoch 4/4\n",
            "86/86 [==============================] - 0s 283us/sample - loss: 1.7817 - accuracy: 0.3605 - val_loss: 1.5721 - val_accuracy: 0.3111\n"
          ],
          "name": "stdout"
        },
        {
          "output_type": "display_data",
          "data": {
            "text/html": [
              "<span style=\"color:#4527A0\"><h1 style=\"font-size:18px\">Trial complete</h1></span>"
            ],
            "text/plain": [
              "<IPython.core.display.HTML object>"
            ]
          },
          "metadata": {
            "tags": []
          }
        },
        {
          "output_type": "display_data",
          "data": {
            "text/html": [
              "<span style=\"color:#4527A0\"><h1 style=\"font-size:18px\">Trial summary</h1></span>"
            ],
            "text/plain": [
              "<IPython.core.display.HTML object>"
            ]
          },
          "metadata": {
            "tags": []
          }
        },
        {
          "output_type": "display_data",
          "data": {
            "text/html": [
              "<span style=\"color:#7E57C2\"><h2 style=\"font-size:16px\">Hp values:</h2></span>"
            ],
            "text/plain": [
              "<IPython.core.display.HTML object>"
            ]
          },
          "metadata": {
            "tags": []
          }
        },
        {
          "output_type": "display_data",
          "data": {
            "text/html": [
              "<span style=\"color:cyan\"> |-learning_rate: 0.0001</span>"
            ],
            "text/plain": [
              "<IPython.core.display.HTML object>"
            ]
          },
          "metadata": {
            "tags": []
          }
        },
        {
          "output_type": "display_data",
          "data": {
            "text/html": [
              "<span style=\"color:blue\"> |-momentum: 0.2</span>"
            ],
            "text/plain": [
              "<IPython.core.display.HTML object>"
            ]
          },
          "metadata": {
            "tags": []
          }
        },
        {
          "output_type": "display_data",
          "data": {
            "text/html": [
              "<span style=\"color:cyan\"> |-tuner/bracket: 2</span>"
            ],
            "text/plain": [
              "<IPython.core.display.HTML object>"
            ]
          },
          "metadata": {
            "tags": []
          }
        },
        {
          "output_type": "display_data",
          "data": {
            "text/html": [
              "<span style=\"color:blue\"> |-tuner/epochs: 4</span>"
            ],
            "text/plain": [
              "<IPython.core.display.HTML object>"
            ]
          },
          "metadata": {
            "tags": []
          }
        },
        {
          "output_type": "display_data",
          "data": {
            "text/html": [
              "<span style=\"color:cyan\"> |-tuner/initial_epoch: 2</span>"
            ],
            "text/plain": [
              "<IPython.core.display.HTML object>"
            ]
          },
          "metadata": {
            "tags": []
          }
        },
        {
          "output_type": "display_data",
          "data": {
            "text/html": [
              "<span style=\"color:blue\"> |-tuner/round: 1</span>"
            ],
            "text/plain": [
              "<IPython.core.display.HTML object>"
            ]
          },
          "metadata": {
            "tags": []
          }
        },
        {
          "output_type": "display_data",
          "data": {
            "text/html": [
              "<span style=\"color:cyan\"> |-tuner/trial_id: c3936e8d5fe35c02999e50a452d24b5d</span>"
            ],
            "text/plain": [
              "<IPython.core.display.HTML object>"
            ]
          },
          "metadata": {
            "tags": []
          }
        },
        {
          "output_type": "display_data",
          "data": {
            "text/html": [
              "<span style=\"color:cyan\"> |-Score: 0.31111112236976624</span>"
            ],
            "text/plain": [
              "<IPython.core.display.HTML object>"
            ]
          },
          "metadata": {
            "tags": []
          }
        },
        {
          "output_type": "display_data",
          "data": {
            "text/html": [
              "<span style=\"color:cyan\"> |-Best step: 0</span>"
            ],
            "text/plain": [
              "<IPython.core.display.HTML object>"
            ]
          },
          "metadata": {
            "tags": []
          }
        },
        {
          "output_type": "stream",
          "text": [
            "Train on 86 samples, validate on 45 samples\n",
            "Epoch 3/4\n",
            "86/86 [==============================] - 0s 4ms/sample - loss: 1.6529 - accuracy: 0.5233 - val_loss: 1.4671 - val_accuracy: 0.4000\n",
            "Epoch 4/4\n",
            "86/86 [==============================] - 0s 394us/sample - loss: 1.4891 - accuracy: 0.5465 - val_loss: 1.3550 - val_accuracy: 0.4444\n"
          ],
          "name": "stdout"
        },
        {
          "output_type": "display_data",
          "data": {
            "text/html": [
              "<span style=\"color:#4527A0\"><h1 style=\"font-size:18px\">Trial complete</h1></span>"
            ],
            "text/plain": [
              "<IPython.core.display.HTML object>"
            ]
          },
          "metadata": {
            "tags": []
          }
        },
        {
          "output_type": "display_data",
          "data": {
            "text/html": [
              "<span style=\"color:#4527A0\"><h1 style=\"font-size:18px\">Trial summary</h1></span>"
            ],
            "text/plain": [
              "<IPython.core.display.HTML object>"
            ]
          },
          "metadata": {
            "tags": []
          }
        },
        {
          "output_type": "display_data",
          "data": {
            "text/html": [
              "<span style=\"color:#7E57C2\"><h2 style=\"font-size:16px\">Hp values:</h2></span>"
            ],
            "text/plain": [
              "<IPython.core.display.HTML object>"
            ]
          },
          "metadata": {
            "tags": []
          }
        },
        {
          "output_type": "display_data",
          "data": {
            "text/html": [
              "<span style=\"color:cyan\"> |-learning_rate: 0.01</span>"
            ],
            "text/plain": [
              "<IPython.core.display.HTML object>"
            ]
          },
          "metadata": {
            "tags": []
          }
        },
        {
          "output_type": "display_data",
          "data": {
            "text/html": [
              "<span style=\"color:blue\"> |-momentum: 0.8</span>"
            ],
            "text/plain": [
              "<IPython.core.display.HTML object>"
            ]
          },
          "metadata": {
            "tags": []
          }
        },
        {
          "output_type": "display_data",
          "data": {
            "text/html": [
              "<span style=\"color:cyan\"> |-tuner/bracket: 2</span>"
            ],
            "text/plain": [
              "<IPython.core.display.HTML object>"
            ]
          },
          "metadata": {
            "tags": []
          }
        },
        {
          "output_type": "display_data",
          "data": {
            "text/html": [
              "<span style=\"color:blue\"> |-tuner/epochs: 4</span>"
            ],
            "text/plain": [
              "<IPython.core.display.HTML object>"
            ]
          },
          "metadata": {
            "tags": []
          }
        },
        {
          "output_type": "display_data",
          "data": {
            "text/html": [
              "<span style=\"color:cyan\"> |-tuner/initial_epoch: 2</span>"
            ],
            "text/plain": [
              "<IPython.core.display.HTML object>"
            ]
          },
          "metadata": {
            "tags": []
          }
        },
        {
          "output_type": "display_data",
          "data": {
            "text/html": [
              "<span style=\"color:blue\"> |-tuner/round: 1</span>"
            ],
            "text/plain": [
              "<IPython.core.display.HTML object>"
            ]
          },
          "metadata": {
            "tags": []
          }
        },
        {
          "output_type": "display_data",
          "data": {
            "text/html": [
              "<span style=\"color:cyan\"> |-tuner/trial_id: 46e632bb74149e203c893b9293078bd2</span>"
            ],
            "text/plain": [
              "<IPython.core.display.HTML object>"
            ]
          },
          "metadata": {
            "tags": []
          }
        },
        {
          "output_type": "display_data",
          "data": {
            "text/html": [
              "<span style=\"color:cyan\"> |-Score: 0.4444444477558136</span>"
            ],
            "text/plain": [
              "<IPython.core.display.HTML object>"
            ]
          },
          "metadata": {
            "tags": []
          }
        },
        {
          "output_type": "display_data",
          "data": {
            "text/html": [
              "<span style=\"color:cyan\"> |-Best step: 0</span>"
            ],
            "text/plain": [
              "<IPython.core.display.HTML object>"
            ]
          },
          "metadata": {
            "tags": []
          }
        },
        {
          "output_type": "stream",
          "text": [
            "Train on 86 samples, validate on 45 samples\n",
            "Epoch 3/4\n",
            "86/86 [==============================] - 0s 4ms/sample - loss: 1.9090 - accuracy: 0.4767 - val_loss: 1.8883 - val_accuracy: 0.3333\n",
            "Epoch 4/4\n",
            "86/86 [==============================] - 0s 318us/sample - loss: 1.8912 - accuracy: 0.4767 - val_loss: 1.8748 - val_accuracy: 0.3556\n"
          ],
          "name": "stdout"
        },
        {
          "output_type": "display_data",
          "data": {
            "text/html": [
              "<span style=\"color:#4527A0\"><h1 style=\"font-size:18px\">Trial complete</h1></span>"
            ],
            "text/plain": [
              "<IPython.core.display.HTML object>"
            ]
          },
          "metadata": {
            "tags": []
          }
        },
        {
          "output_type": "display_data",
          "data": {
            "text/html": [
              "<span style=\"color:#4527A0\"><h1 style=\"font-size:18px\">Trial summary</h1></span>"
            ],
            "text/plain": [
              "<IPython.core.display.HTML object>"
            ]
          },
          "metadata": {
            "tags": []
          }
        },
        {
          "output_type": "display_data",
          "data": {
            "text/html": [
              "<span style=\"color:#7E57C2\"><h2 style=\"font-size:16px\">Hp values:</h2></span>"
            ],
            "text/plain": [
              "<IPython.core.display.HTML object>"
            ]
          },
          "metadata": {
            "tags": []
          }
        },
        {
          "output_type": "display_data",
          "data": {
            "text/html": [
              "<span style=\"color:cyan\"> |-learning_rate: 0.001</span>"
            ],
            "text/plain": [
              "<IPython.core.display.HTML object>"
            ]
          },
          "metadata": {
            "tags": []
          }
        },
        {
          "output_type": "display_data",
          "data": {
            "text/html": [
              "<span style=\"color:blue\"> |-momentum: 0.2</span>"
            ],
            "text/plain": [
              "<IPython.core.display.HTML object>"
            ]
          },
          "metadata": {
            "tags": []
          }
        },
        {
          "output_type": "display_data",
          "data": {
            "text/html": [
              "<span style=\"color:cyan\"> |-tuner/bracket: 2</span>"
            ],
            "text/plain": [
              "<IPython.core.display.HTML object>"
            ]
          },
          "metadata": {
            "tags": []
          }
        },
        {
          "output_type": "display_data",
          "data": {
            "text/html": [
              "<span style=\"color:blue\"> |-tuner/epochs: 4</span>"
            ],
            "text/plain": [
              "<IPython.core.display.HTML object>"
            ]
          },
          "metadata": {
            "tags": []
          }
        },
        {
          "output_type": "display_data",
          "data": {
            "text/html": [
              "<span style=\"color:cyan\"> |-tuner/initial_epoch: 2</span>"
            ],
            "text/plain": [
              "<IPython.core.display.HTML object>"
            ]
          },
          "metadata": {
            "tags": []
          }
        },
        {
          "output_type": "display_data",
          "data": {
            "text/html": [
              "<span style=\"color:blue\"> |-tuner/round: 1</span>"
            ],
            "text/plain": [
              "<IPython.core.display.HTML object>"
            ]
          },
          "metadata": {
            "tags": []
          }
        },
        {
          "output_type": "display_data",
          "data": {
            "text/html": [
              "<span style=\"color:cyan\"> |-tuner/trial_id: 749c194957123981b4b7188eb3f0588d</span>"
            ],
            "text/plain": [
              "<IPython.core.display.HTML object>"
            ]
          },
          "metadata": {
            "tags": []
          }
        },
        {
          "output_type": "display_data",
          "data": {
            "text/html": [
              "<span style=\"color:cyan\"> |-Score: 0.35555556416511536</span>"
            ],
            "text/plain": [
              "<IPython.core.display.HTML object>"
            ]
          },
          "metadata": {
            "tags": []
          }
        },
        {
          "output_type": "display_data",
          "data": {
            "text/html": [
              "<span style=\"color:cyan\"> |-Best step: 0</span>"
            ],
            "text/plain": [
              "<IPython.core.display.HTML object>"
            ]
          },
          "metadata": {
            "tags": []
          }
        },
        {
          "output_type": "stream",
          "text": [
            "Train on 86 samples, validate on 45 samples\n",
            "Epoch 5/10\n",
            "86/86 [==============================] - 0s 4ms/sample - loss: 3.1633 - accuracy: 0.3488 - val_loss: 2.6383 - val_accuracy: 0.2889\n",
            "Epoch 6/10\n",
            "86/86 [==============================] - 0s 371us/sample - loss: 2.4223 - accuracy: 0.3256 - val_loss: 1.9402 - val_accuracy: 0.3778\n",
            "Epoch 7/10\n",
            "86/86 [==============================] - 0s 359us/sample - loss: 1.8074 - accuracy: 0.3837 - val_loss: 1.5415 - val_accuracy: 0.4000\n",
            "Epoch 8/10\n",
            "86/86 [==============================] - 0s 285us/sample - loss: 1.3889 - accuracy: 0.3721 - val_loss: 1.3480 - val_accuracy: 0.4000\n",
            "Epoch 9/10\n",
            "86/86 [==============================] - 0s 337us/sample - loss: 1.1739 - accuracy: 0.4302 - val_loss: 1.2099 - val_accuracy: 0.3778\n",
            "Epoch 10/10\n",
            "86/86 [==============================] - 0s 285us/sample - loss: 1.0486 - accuracy: 0.4767 - val_loss: 1.1340 - val_accuracy: 0.3778\n"
          ],
          "name": "stdout"
        },
        {
          "output_type": "display_data",
          "data": {
            "text/html": [
              "<span style=\"color:#4527A0\"><h1 style=\"font-size:18px\">Trial complete</h1></span>"
            ],
            "text/plain": [
              "<IPython.core.display.HTML object>"
            ]
          },
          "metadata": {
            "tags": []
          }
        },
        {
          "output_type": "display_data",
          "data": {
            "text/html": [
              "<span style=\"color:#4527A0\"><h1 style=\"font-size:18px\">Trial summary</h1></span>"
            ],
            "text/plain": [
              "<IPython.core.display.HTML object>"
            ]
          },
          "metadata": {
            "tags": []
          }
        },
        {
          "output_type": "display_data",
          "data": {
            "text/html": [
              "<span style=\"color:#7E57C2\"><h2 style=\"font-size:16px\">Hp values:</h2></span>"
            ],
            "text/plain": [
              "<IPython.core.display.HTML object>"
            ]
          },
          "metadata": {
            "tags": []
          }
        },
        {
          "output_type": "display_data",
          "data": {
            "text/html": [
              "<span style=\"color:cyan\"> |-learning_rate: 0.01</span>"
            ],
            "text/plain": [
              "<IPython.core.display.HTML object>"
            ]
          },
          "metadata": {
            "tags": []
          }
        },
        {
          "output_type": "display_data",
          "data": {
            "text/html": [
              "<span style=\"color:blue\"> |-momentum: 0.8</span>"
            ],
            "text/plain": [
              "<IPython.core.display.HTML object>"
            ]
          },
          "metadata": {
            "tags": []
          }
        },
        {
          "output_type": "display_data",
          "data": {
            "text/html": [
              "<span style=\"color:cyan\"> |-tuner/bracket: 2</span>"
            ],
            "text/plain": [
              "<IPython.core.display.HTML object>"
            ]
          },
          "metadata": {
            "tags": []
          }
        },
        {
          "output_type": "display_data",
          "data": {
            "text/html": [
              "<span style=\"color:blue\"> |-tuner/epochs: 10</span>"
            ],
            "text/plain": [
              "<IPython.core.display.HTML object>"
            ]
          },
          "metadata": {
            "tags": []
          }
        },
        {
          "output_type": "display_data",
          "data": {
            "text/html": [
              "<span style=\"color:cyan\"> |-tuner/initial_epoch: 4</span>"
            ],
            "text/plain": [
              "<IPython.core.display.HTML object>"
            ]
          },
          "metadata": {
            "tags": []
          }
        },
        {
          "output_type": "display_data",
          "data": {
            "text/html": [
              "<span style=\"color:blue\"> |-tuner/round: 2</span>"
            ],
            "text/plain": [
              "<IPython.core.display.HTML object>"
            ]
          },
          "metadata": {
            "tags": []
          }
        },
        {
          "output_type": "display_data",
          "data": {
            "text/html": [
              "<span style=\"color:cyan\"> |-tuner/trial_id: 5da5e17fa1b394b469bde0ef99a2562c</span>"
            ],
            "text/plain": [
              "<IPython.core.display.HTML object>"
            ]
          },
          "metadata": {
            "tags": []
          }
        },
        {
          "output_type": "display_data",
          "data": {
            "text/html": [
              "<span style=\"color:cyan\"> |-Score: 0.4000000059604645</span>"
            ],
            "text/plain": [
              "<IPython.core.display.HTML object>"
            ]
          },
          "metadata": {
            "tags": []
          }
        },
        {
          "output_type": "display_data",
          "data": {
            "text/html": [
              "<span style=\"color:cyan\"> |-Best step: 0</span>"
            ],
            "text/plain": [
              "<IPython.core.display.HTML object>"
            ]
          },
          "metadata": {
            "tags": []
          }
        },
        {
          "output_type": "stream",
          "text": [
            "Train on 86 samples, validate on 45 samples\n",
            "Epoch 5/10\n",
            "86/86 [==============================] - 0s 4ms/sample - loss: 2.4187 - accuracy: 0.3023 - val_loss: 2.1558 - val_accuracy: 0.2222\n",
            "Epoch 6/10\n",
            "86/86 [==============================] - 0s 230us/sample - loss: 2.3607 - accuracy: 0.3023 - val_loss: 2.1279 - val_accuracy: 0.2222\n",
            "Epoch 7/10\n",
            "86/86 [==============================] - 0s 276us/sample - loss: 2.3001 - accuracy: 0.3023 - val_loss: 2.1015 - val_accuracy: 0.2222\n",
            "Epoch 8/10\n",
            "86/86 [==============================] - 0s 272us/sample - loss: 2.2409 - accuracy: 0.3023 - val_loss: 2.0754 - val_accuracy: 0.2222\n",
            "Epoch 9/10\n",
            "86/86 [==============================] - 0s 355us/sample - loss: 2.1859 - accuracy: 0.3023 - val_loss: 2.0514 - val_accuracy: 0.2222\n",
            "Epoch 10/10\n",
            "86/86 [==============================] - 0s 312us/sample - loss: 2.1319 - accuracy: 0.3023 - val_loss: 2.0295 - val_accuracy: 0.2222\n"
          ],
          "name": "stdout"
        },
        {
          "output_type": "display_data",
          "data": {
            "text/html": [
              "<span style=\"color:#4527A0\"><h1 style=\"font-size:18px\">Trial complete</h1></span>"
            ],
            "text/plain": [
              "<IPython.core.display.HTML object>"
            ]
          },
          "metadata": {
            "tags": []
          }
        },
        {
          "output_type": "display_data",
          "data": {
            "text/html": [
              "<span style=\"color:#4527A0\"><h1 style=\"font-size:18px\">Trial summary</h1></span>"
            ],
            "text/plain": [
              "<IPython.core.display.HTML object>"
            ]
          },
          "metadata": {
            "tags": []
          }
        },
        {
          "output_type": "display_data",
          "data": {
            "text/html": [
              "<span style=\"color:#7E57C2\"><h2 style=\"font-size:16px\">Hp values:</h2></span>"
            ],
            "text/plain": [
              "<IPython.core.display.HTML object>"
            ]
          },
          "metadata": {
            "tags": []
          }
        },
        {
          "output_type": "display_data",
          "data": {
            "text/html": [
              "<span style=\"color:cyan\"> |-learning_rate: 0.001</span>"
            ],
            "text/plain": [
              "<IPython.core.display.HTML object>"
            ]
          },
          "metadata": {
            "tags": []
          }
        },
        {
          "output_type": "display_data",
          "data": {
            "text/html": [
              "<span style=\"color:blue\"> |-momentum: 0.2</span>"
            ],
            "text/plain": [
              "<IPython.core.display.HTML object>"
            ]
          },
          "metadata": {
            "tags": []
          }
        },
        {
          "output_type": "display_data",
          "data": {
            "text/html": [
              "<span style=\"color:cyan\"> |-tuner/bracket: 2</span>"
            ],
            "text/plain": [
              "<IPython.core.display.HTML object>"
            ]
          },
          "metadata": {
            "tags": []
          }
        },
        {
          "output_type": "display_data",
          "data": {
            "text/html": [
              "<span style=\"color:blue\"> |-tuner/epochs: 10</span>"
            ],
            "text/plain": [
              "<IPython.core.display.HTML object>"
            ]
          },
          "metadata": {
            "tags": []
          }
        },
        {
          "output_type": "display_data",
          "data": {
            "text/html": [
              "<span style=\"color:cyan\"> |-tuner/initial_epoch: 4</span>"
            ],
            "text/plain": [
              "<IPython.core.display.HTML object>"
            ]
          },
          "metadata": {
            "tags": []
          }
        },
        {
          "output_type": "display_data",
          "data": {
            "text/html": [
              "<span style=\"color:blue\"> |-tuner/round: 2</span>"
            ],
            "text/plain": [
              "<IPython.core.display.HTML object>"
            ]
          },
          "metadata": {
            "tags": []
          }
        },
        {
          "output_type": "display_data",
          "data": {
            "text/html": [
              "<span style=\"color:cyan\"> |-tuner/trial_id: 197a997a86dbfd12ebc053f8533cd344</span>"
            ],
            "text/plain": [
              "<IPython.core.display.HTML object>"
            ]
          },
          "metadata": {
            "tags": []
          }
        },
        {
          "output_type": "display_data",
          "data": {
            "text/html": [
              "<span style=\"color:cyan\"> |-Score: 0.2222222238779068</span>"
            ],
            "text/plain": [
              "<IPython.core.display.HTML object>"
            ]
          },
          "metadata": {
            "tags": []
          }
        },
        {
          "output_type": "display_data",
          "data": {
            "text/html": [
              "<span style=\"color:cyan\"> |-Best step: 0</span>"
            ],
            "text/plain": [
              "<IPython.core.display.HTML object>"
            ]
          },
          "metadata": {
            "tags": []
          }
        },
        {
          "output_type": "stream",
          "text": [
            "Train on 86 samples, validate on 45 samples\n",
            "Epoch 1/4\n",
            "86/86 [==============================] - 0s 4ms/sample - loss: 2.5620 - accuracy: 0.2674 - val_loss: 1.7675 - val_accuracy: 0.3556\n",
            "Epoch 2/4\n",
            "86/86 [==============================] - 0s 310us/sample - loss: 2.0939 - accuracy: 0.2558 - val_loss: 1.5239 - val_accuracy: 0.3556\n",
            "Epoch 3/4\n",
            "86/86 [==============================] - 0s 344us/sample - loss: 1.7149 - accuracy: 0.2907 - val_loss: 1.4909 - val_accuracy: 0.3778\n",
            "Epoch 4/4\n",
            "86/86 [==============================] - 0s 274us/sample - loss: 1.5343 - accuracy: 0.4070 - val_loss: 1.4243 - val_accuracy: 0.3333\n"
          ],
          "name": "stdout"
        },
        {
          "output_type": "display_data",
          "data": {
            "text/html": [
              "<span style=\"color:#4527A0\"><h1 style=\"font-size:18px\">Trial complete</h1></span>"
            ],
            "text/plain": [
              "<IPython.core.display.HTML object>"
            ]
          },
          "metadata": {
            "tags": []
          }
        },
        {
          "output_type": "display_data",
          "data": {
            "text/html": [
              "<span style=\"color:#4527A0\"><h1 style=\"font-size:18px\">Trial summary</h1></span>"
            ],
            "text/plain": [
              "<IPython.core.display.HTML object>"
            ]
          },
          "metadata": {
            "tags": []
          }
        },
        {
          "output_type": "display_data",
          "data": {
            "text/html": [
              "<span style=\"color:#7E57C2\"><h2 style=\"font-size:16px\">Hp values:</h2></span>"
            ],
            "text/plain": [
              "<IPython.core.display.HTML object>"
            ]
          },
          "metadata": {
            "tags": []
          }
        },
        {
          "output_type": "display_data",
          "data": {
            "text/html": [
              "<span style=\"color:cyan\"> |-learning_rate: 0.01</span>"
            ],
            "text/plain": [
              "<IPython.core.display.HTML object>"
            ]
          },
          "metadata": {
            "tags": []
          }
        },
        {
          "output_type": "display_data",
          "data": {
            "text/html": [
              "<span style=\"color:blue\"> |-momentum: 0.7</span>"
            ],
            "text/plain": [
              "<IPython.core.display.HTML object>"
            ]
          },
          "metadata": {
            "tags": []
          }
        },
        {
          "output_type": "display_data",
          "data": {
            "text/html": [
              "<span style=\"color:cyan\"> |-tuner/bracket: 1</span>"
            ],
            "text/plain": [
              "<IPython.core.display.HTML object>"
            ]
          },
          "metadata": {
            "tags": []
          }
        },
        {
          "output_type": "display_data",
          "data": {
            "text/html": [
              "<span style=\"color:blue\"> |-tuner/epochs: 4</span>"
            ],
            "text/plain": [
              "<IPython.core.display.HTML object>"
            ]
          },
          "metadata": {
            "tags": []
          }
        },
        {
          "output_type": "display_data",
          "data": {
            "text/html": [
              "<span style=\"color:cyan\"> |-tuner/initial_epoch: 0</span>"
            ],
            "text/plain": [
              "<IPython.core.display.HTML object>"
            ]
          },
          "metadata": {
            "tags": []
          }
        },
        {
          "output_type": "display_data",
          "data": {
            "text/html": [
              "<span style=\"color:blue\"> |-tuner/round: 0</span>"
            ],
            "text/plain": [
              "<IPython.core.display.HTML object>"
            ]
          },
          "metadata": {
            "tags": []
          }
        },
        {
          "output_type": "display_data",
          "data": {
            "text/html": [
              "<span style=\"color:cyan\"> |-Score: 0.3777777850627899</span>"
            ],
            "text/plain": [
              "<IPython.core.display.HTML object>"
            ]
          },
          "metadata": {
            "tags": []
          }
        },
        {
          "output_type": "display_data",
          "data": {
            "text/html": [
              "<span style=\"color:cyan\"> |-Best step: 0</span>"
            ],
            "text/plain": [
              "<IPython.core.display.HTML object>"
            ]
          },
          "metadata": {
            "tags": []
          }
        },
        {
          "output_type": "stream",
          "text": [
            "Train on 86 samples, validate on 45 samples\n",
            "Epoch 1/4\n",
            "86/86 [==============================] - 0s 4ms/sample - loss: 2.8753 - accuracy: 0.2907 - val_loss: 2.4322 - val_accuracy: 0.2667\n",
            "Epoch 2/4\n",
            "86/86 [==============================] - 0s 271us/sample - loss: 2.8274 - accuracy: 0.2907 - val_loss: 2.3889 - val_accuracy: 0.2667\n",
            "Epoch 3/4\n",
            "86/86 [==============================] - 0s 264us/sample - loss: 2.7776 - accuracy: 0.2907 - val_loss: 2.3471 - val_accuracy: 0.2667\n",
            "Epoch 4/4\n",
            "86/86 [==============================] - 0s 268us/sample - loss: 2.7270 - accuracy: 0.3023 - val_loss: 2.3074 - val_accuracy: 0.2444\n"
          ],
          "name": "stdout"
        },
        {
          "output_type": "display_data",
          "data": {
            "text/html": [
              "<span style=\"color:#4527A0\"><h1 style=\"font-size:18px\">Trial complete</h1></span>"
            ],
            "text/plain": [
              "<IPython.core.display.HTML object>"
            ]
          },
          "metadata": {
            "tags": []
          }
        },
        {
          "output_type": "display_data",
          "data": {
            "text/html": [
              "<span style=\"color:#4527A0\"><h1 style=\"font-size:18px\">Trial summary</h1></span>"
            ],
            "text/plain": [
              "<IPython.core.display.HTML object>"
            ]
          },
          "metadata": {
            "tags": []
          }
        },
        {
          "output_type": "display_data",
          "data": {
            "text/html": [
              "<span style=\"color:#7E57C2\"><h2 style=\"font-size:16px\">Hp values:</h2></span>"
            ],
            "text/plain": [
              "<IPython.core.display.HTML object>"
            ]
          },
          "metadata": {
            "tags": []
          }
        },
        {
          "output_type": "display_data",
          "data": {
            "text/html": [
              "<span style=\"color:cyan\"> |-learning_rate: 0.001</span>"
            ],
            "text/plain": [
              "<IPython.core.display.HTML object>"
            ]
          },
          "metadata": {
            "tags": []
          }
        },
        {
          "output_type": "display_data",
          "data": {
            "text/html": [
              "<span style=\"color:blue\"> |-momentum: 0.4</span>"
            ],
            "text/plain": [
              "<IPython.core.display.HTML object>"
            ]
          },
          "metadata": {
            "tags": []
          }
        },
        {
          "output_type": "display_data",
          "data": {
            "text/html": [
              "<span style=\"color:cyan\"> |-tuner/bracket: 1</span>"
            ],
            "text/plain": [
              "<IPython.core.display.HTML object>"
            ]
          },
          "metadata": {
            "tags": []
          }
        },
        {
          "output_type": "display_data",
          "data": {
            "text/html": [
              "<span style=\"color:blue\"> |-tuner/epochs: 4</span>"
            ],
            "text/plain": [
              "<IPython.core.display.HTML object>"
            ]
          },
          "metadata": {
            "tags": []
          }
        },
        {
          "output_type": "display_data",
          "data": {
            "text/html": [
              "<span style=\"color:cyan\"> |-tuner/initial_epoch: 0</span>"
            ],
            "text/plain": [
              "<IPython.core.display.HTML object>"
            ]
          },
          "metadata": {
            "tags": []
          }
        },
        {
          "output_type": "display_data",
          "data": {
            "text/html": [
              "<span style=\"color:blue\"> |-tuner/round: 0</span>"
            ],
            "text/plain": [
              "<IPython.core.display.HTML object>"
            ]
          },
          "metadata": {
            "tags": []
          }
        },
        {
          "output_type": "display_data",
          "data": {
            "text/html": [
              "<span style=\"color:cyan\"> |-Score: 0.2666666805744171</span>"
            ],
            "text/plain": [
              "<IPython.core.display.HTML object>"
            ]
          },
          "metadata": {
            "tags": []
          }
        },
        {
          "output_type": "display_data",
          "data": {
            "text/html": [
              "<span style=\"color:cyan\"> |-Best step: 0</span>"
            ],
            "text/plain": [
              "<IPython.core.display.HTML object>"
            ]
          },
          "metadata": {
            "tags": []
          }
        },
        {
          "output_type": "stream",
          "text": [
            "Train on 86 samples, validate on 45 samples\n",
            "Epoch 1/4\n",
            "86/86 [==============================] - 0s 4ms/sample - loss: 2.7249 - accuracy: 0.3953 - val_loss: 2.5991 - val_accuracy: 0.4000\n",
            "Epoch 2/4\n",
            "86/86 [==============================] - 0s 300us/sample - loss: 2.7193 - accuracy: 0.3953 - val_loss: 2.5954 - val_accuracy: 0.4000\n",
            "Epoch 3/4\n",
            "86/86 [==============================] - 0s 307us/sample - loss: 2.7135 - accuracy: 0.3953 - val_loss: 2.5917 - val_accuracy: 0.4000\n",
            "Epoch 4/4\n",
            "86/86 [==============================] - 0s 284us/sample - loss: 2.7075 - accuracy: 0.3953 - val_loss: 2.5881 - val_accuracy: 0.4000\n"
          ],
          "name": "stdout"
        },
        {
          "output_type": "display_data",
          "data": {
            "text/html": [
              "<span style=\"color:#4527A0\"><h1 style=\"font-size:18px\">Trial complete</h1></span>"
            ],
            "text/plain": [
              "<IPython.core.display.HTML object>"
            ]
          },
          "metadata": {
            "tags": []
          }
        },
        {
          "output_type": "display_data",
          "data": {
            "text/html": [
              "<span style=\"color:#4527A0\"><h1 style=\"font-size:18px\">Trial summary</h1></span>"
            ],
            "text/plain": [
              "<IPython.core.display.HTML object>"
            ]
          },
          "metadata": {
            "tags": []
          }
        },
        {
          "output_type": "display_data",
          "data": {
            "text/html": [
              "<span style=\"color:#7E57C2\"><h2 style=\"font-size:16px\">Hp values:</h2></span>"
            ],
            "text/plain": [
              "<IPython.core.display.HTML object>"
            ]
          },
          "metadata": {
            "tags": []
          }
        },
        {
          "output_type": "display_data",
          "data": {
            "text/html": [
              "<span style=\"color:cyan\"> |-learning_rate: 0.0001</span>"
            ],
            "text/plain": [
              "<IPython.core.display.HTML object>"
            ]
          },
          "metadata": {
            "tags": []
          }
        },
        {
          "output_type": "display_data",
          "data": {
            "text/html": [
              "<span style=\"color:blue\"> |-momentum: 0.3</span>"
            ],
            "text/plain": [
              "<IPython.core.display.HTML object>"
            ]
          },
          "metadata": {
            "tags": []
          }
        },
        {
          "output_type": "display_data",
          "data": {
            "text/html": [
              "<span style=\"color:cyan\"> |-tuner/bracket: 1</span>"
            ],
            "text/plain": [
              "<IPython.core.display.HTML object>"
            ]
          },
          "metadata": {
            "tags": []
          }
        },
        {
          "output_type": "display_data",
          "data": {
            "text/html": [
              "<span style=\"color:blue\"> |-tuner/epochs: 4</span>"
            ],
            "text/plain": [
              "<IPython.core.display.HTML object>"
            ]
          },
          "metadata": {
            "tags": []
          }
        },
        {
          "output_type": "display_data",
          "data": {
            "text/html": [
              "<span style=\"color:cyan\"> |-tuner/initial_epoch: 0</span>"
            ],
            "text/plain": [
              "<IPython.core.display.HTML object>"
            ]
          },
          "metadata": {
            "tags": []
          }
        },
        {
          "output_type": "display_data",
          "data": {
            "text/html": [
              "<span style=\"color:blue\"> |-tuner/round: 0</span>"
            ],
            "text/plain": [
              "<IPython.core.display.HTML object>"
            ]
          },
          "metadata": {
            "tags": []
          }
        },
        {
          "output_type": "display_data",
          "data": {
            "text/html": [
              "<span style=\"color:cyan\"> |-Score: 0.4000000059604645</span>"
            ],
            "text/plain": [
              "<IPython.core.display.HTML object>"
            ]
          },
          "metadata": {
            "tags": []
          }
        },
        {
          "output_type": "display_data",
          "data": {
            "text/html": [
              "<span style=\"color:cyan\"> |-Best step: 0</span>"
            ],
            "text/plain": [
              "<IPython.core.display.HTML object>"
            ]
          },
          "metadata": {
            "tags": []
          }
        },
        {
          "output_type": "stream",
          "text": [
            "Train on 86 samples, validate on 45 samples\n",
            "Epoch 1/4\n",
            "86/86 [==============================] - 0s 4ms/sample - loss: 1.6500 - accuracy: 0.4419 - val_loss: 1.4046 - val_accuracy: 0.3111\n",
            "Epoch 2/4\n",
            "86/86 [==============================] - 0s 318us/sample - loss: 1.6397 - accuracy: 0.4186 - val_loss: 1.4018 - val_accuracy: 0.3111\n",
            "Epoch 3/4\n",
            "86/86 [==============================] - 0s 273us/sample - loss: 1.6306 - accuracy: 0.4186 - val_loss: 1.3990 - val_accuracy: 0.3111\n",
            "Epoch 4/4\n",
            "86/86 [==============================] - 0s 251us/sample - loss: 1.6206 - accuracy: 0.4186 - val_loss: 1.3961 - val_accuracy: 0.3111\n"
          ],
          "name": "stdout"
        },
        {
          "output_type": "display_data",
          "data": {
            "text/html": [
              "<span style=\"color:#4527A0\"><h1 style=\"font-size:18px\">Trial complete</h1></span>"
            ],
            "text/plain": [
              "<IPython.core.display.HTML object>"
            ]
          },
          "metadata": {
            "tags": []
          }
        },
        {
          "output_type": "display_data",
          "data": {
            "text/html": [
              "<span style=\"color:#4527A0\"><h1 style=\"font-size:18px\">Trial summary</h1></span>"
            ],
            "text/plain": [
              "<IPython.core.display.HTML object>"
            ]
          },
          "metadata": {
            "tags": []
          }
        },
        {
          "output_type": "display_data",
          "data": {
            "text/html": [
              "<span style=\"color:#7E57C2\"><h2 style=\"font-size:16px\">Hp values:</h2></span>"
            ],
            "text/plain": [
              "<IPython.core.display.HTML object>"
            ]
          },
          "metadata": {
            "tags": []
          }
        },
        {
          "output_type": "display_data",
          "data": {
            "text/html": [
              "<span style=\"color:cyan\"> |-learning_rate: 0.001</span>"
            ],
            "text/plain": [
              "<IPython.core.display.HTML object>"
            ]
          },
          "metadata": {
            "tags": []
          }
        },
        {
          "output_type": "display_data",
          "data": {
            "text/html": [
              "<span style=\"color:blue\"> |-momentum: 0.1</span>"
            ],
            "text/plain": [
              "<IPython.core.display.HTML object>"
            ]
          },
          "metadata": {
            "tags": []
          }
        },
        {
          "output_type": "display_data",
          "data": {
            "text/html": [
              "<span style=\"color:cyan\"> |-tuner/bracket: 1</span>"
            ],
            "text/plain": [
              "<IPython.core.display.HTML object>"
            ]
          },
          "metadata": {
            "tags": []
          }
        },
        {
          "output_type": "display_data",
          "data": {
            "text/html": [
              "<span style=\"color:blue\"> |-tuner/epochs: 4</span>"
            ],
            "text/plain": [
              "<IPython.core.display.HTML object>"
            ]
          },
          "metadata": {
            "tags": []
          }
        },
        {
          "output_type": "display_data",
          "data": {
            "text/html": [
              "<span style=\"color:cyan\"> |-tuner/initial_epoch: 0</span>"
            ],
            "text/plain": [
              "<IPython.core.display.HTML object>"
            ]
          },
          "metadata": {
            "tags": []
          }
        },
        {
          "output_type": "display_data",
          "data": {
            "text/html": [
              "<span style=\"color:blue\"> |-tuner/round: 0</span>"
            ],
            "text/plain": [
              "<IPython.core.display.HTML object>"
            ]
          },
          "metadata": {
            "tags": []
          }
        },
        {
          "output_type": "display_data",
          "data": {
            "text/html": [
              "<span style=\"color:cyan\"> |-Score: 0.31111112236976624</span>"
            ],
            "text/plain": [
              "<IPython.core.display.HTML object>"
            ]
          },
          "metadata": {
            "tags": []
          }
        },
        {
          "output_type": "display_data",
          "data": {
            "text/html": [
              "<span style=\"color:cyan\"> |-Best step: 0</span>"
            ],
            "text/plain": [
              "<IPython.core.display.HTML object>"
            ]
          },
          "metadata": {
            "tags": []
          }
        },
        {
          "output_type": "stream",
          "text": [
            "Train on 86 samples, validate on 45 samples\n",
            "Epoch 1/4\n",
            "86/86 [==============================] - 0s 4ms/sample - loss: 2.9933 - accuracy: 0.1744 - val_loss: 2.3594 - val_accuracy: 0.2444\n",
            "Epoch 2/4\n",
            "86/86 [==============================] - 0s 290us/sample - loss: 2.8720 - accuracy: 0.1628 - val_loss: 2.2841 - val_accuracy: 0.2444\n",
            "Epoch 3/4\n",
            "86/86 [==============================] - 0s 394us/sample - loss: 2.6978 - accuracy: 0.1628 - val_loss: 2.2106 - val_accuracy: 0.2667\n",
            "Epoch 4/4\n",
            "86/86 [==============================] - 0s 337us/sample - loss: 2.5170 - accuracy: 0.1860 - val_loss: 2.1446 - val_accuracy: 0.2889\n"
          ],
          "name": "stdout"
        },
        {
          "output_type": "display_data",
          "data": {
            "text/html": [
              "<span style=\"color:#4527A0\"><h1 style=\"font-size:18px\">Trial complete</h1></span>"
            ],
            "text/plain": [
              "<IPython.core.display.HTML object>"
            ]
          },
          "metadata": {
            "tags": []
          }
        },
        {
          "output_type": "display_data",
          "data": {
            "text/html": [
              "<span style=\"color:#4527A0\"><h1 style=\"font-size:18px\">Trial summary</h1></span>"
            ],
            "text/plain": [
              "<IPython.core.display.HTML object>"
            ]
          },
          "metadata": {
            "tags": []
          }
        },
        {
          "output_type": "display_data",
          "data": {
            "text/html": [
              "<span style=\"color:#7E57C2\"><h2 style=\"font-size:16px\">Hp values:</h2></span>"
            ],
            "text/plain": [
              "<IPython.core.display.HTML object>"
            ]
          },
          "metadata": {
            "tags": []
          }
        },
        {
          "output_type": "display_data",
          "data": {
            "text/html": [
              "<span style=\"color:cyan\"> |-learning_rate: 0.001</span>"
            ],
            "text/plain": [
              "<IPython.core.display.HTML object>"
            ]
          },
          "metadata": {
            "tags": []
          }
        },
        {
          "output_type": "display_data",
          "data": {
            "text/html": [
              "<span style=\"color:blue\"> |-momentum: 0.8</span>"
            ],
            "text/plain": [
              "<IPython.core.display.HTML object>"
            ]
          },
          "metadata": {
            "tags": []
          }
        },
        {
          "output_type": "display_data",
          "data": {
            "text/html": [
              "<span style=\"color:cyan\"> |-tuner/bracket: 1</span>"
            ],
            "text/plain": [
              "<IPython.core.display.HTML object>"
            ]
          },
          "metadata": {
            "tags": []
          }
        },
        {
          "output_type": "display_data",
          "data": {
            "text/html": [
              "<span style=\"color:blue\"> |-tuner/epochs: 4</span>"
            ],
            "text/plain": [
              "<IPython.core.display.HTML object>"
            ]
          },
          "metadata": {
            "tags": []
          }
        },
        {
          "output_type": "display_data",
          "data": {
            "text/html": [
              "<span style=\"color:cyan\"> |-tuner/initial_epoch: 0</span>"
            ],
            "text/plain": [
              "<IPython.core.display.HTML object>"
            ]
          },
          "metadata": {
            "tags": []
          }
        },
        {
          "output_type": "display_data",
          "data": {
            "text/html": [
              "<span style=\"color:blue\"> |-tuner/round: 0</span>"
            ],
            "text/plain": [
              "<IPython.core.display.HTML object>"
            ]
          },
          "metadata": {
            "tags": []
          }
        },
        {
          "output_type": "display_data",
          "data": {
            "text/html": [
              "<span style=\"color:cyan\"> |-Score: 0.2888889014720917</span>"
            ],
            "text/plain": [
              "<IPython.core.display.HTML object>"
            ]
          },
          "metadata": {
            "tags": []
          }
        },
        {
          "output_type": "display_data",
          "data": {
            "text/html": [
              "<span style=\"color:cyan\"> |-Best step: 0</span>"
            ],
            "text/plain": [
              "<IPython.core.display.HTML object>"
            ]
          },
          "metadata": {
            "tags": []
          }
        },
        {
          "output_type": "stream",
          "text": [
            "Train on 86 samples, validate on 45 samples\n",
            "Epoch 1/4\n",
            "86/86 [==============================] - 0s 4ms/sample - loss: 2.5322 - accuracy: 0.4186 - val_loss: 2.0208 - val_accuracy: 0.4444\n",
            "Epoch 2/4\n",
            "86/86 [==============================] - 0s 304us/sample - loss: 2.5277 - accuracy: 0.4186 - val_loss: 2.0160 - val_accuracy: 0.4444\n",
            "Epoch 3/4\n",
            "86/86 [==============================] - 0s 295us/sample - loss: 2.5220 - accuracy: 0.4186 - val_loss: 2.0108 - val_accuracy: 0.4444\n",
            "Epoch 4/4\n",
            "86/86 [==============================] - 0s 279us/sample - loss: 2.5164 - accuracy: 0.4186 - val_loss: 2.0054 - val_accuracy: 0.4444\n"
          ],
          "name": "stdout"
        },
        {
          "output_type": "display_data",
          "data": {
            "text/html": [
              "<span style=\"color:#4527A0\"><h1 style=\"font-size:18px\">Trial complete</h1></span>"
            ],
            "text/plain": [
              "<IPython.core.display.HTML object>"
            ]
          },
          "metadata": {
            "tags": []
          }
        },
        {
          "output_type": "display_data",
          "data": {
            "text/html": [
              "<span style=\"color:#4527A0\"><h1 style=\"font-size:18px\">Trial summary</h1></span>"
            ],
            "text/plain": [
              "<IPython.core.display.HTML object>"
            ]
          },
          "metadata": {
            "tags": []
          }
        },
        {
          "output_type": "display_data",
          "data": {
            "text/html": [
              "<span style=\"color:#7E57C2\"><h2 style=\"font-size:16px\">Hp values:</h2></span>"
            ],
            "text/plain": [
              "<IPython.core.display.HTML object>"
            ]
          },
          "metadata": {
            "tags": []
          }
        },
        {
          "output_type": "display_data",
          "data": {
            "text/html": [
              "<span style=\"color:cyan\"> |-learning_rate: 0.0001</span>"
            ],
            "text/plain": [
              "<IPython.core.display.HTML object>"
            ]
          },
          "metadata": {
            "tags": []
          }
        },
        {
          "output_type": "display_data",
          "data": {
            "text/html": [
              "<span style=\"color:blue\"> |-momentum: 0.6</span>"
            ],
            "text/plain": [
              "<IPython.core.display.HTML object>"
            ]
          },
          "metadata": {
            "tags": []
          }
        },
        {
          "output_type": "display_data",
          "data": {
            "text/html": [
              "<span style=\"color:cyan\"> |-tuner/bracket: 1</span>"
            ],
            "text/plain": [
              "<IPython.core.display.HTML object>"
            ]
          },
          "metadata": {
            "tags": []
          }
        },
        {
          "output_type": "display_data",
          "data": {
            "text/html": [
              "<span style=\"color:blue\"> |-tuner/epochs: 4</span>"
            ],
            "text/plain": [
              "<IPython.core.display.HTML object>"
            ]
          },
          "metadata": {
            "tags": []
          }
        },
        {
          "output_type": "display_data",
          "data": {
            "text/html": [
              "<span style=\"color:cyan\"> |-tuner/initial_epoch: 0</span>"
            ],
            "text/plain": [
              "<IPython.core.display.HTML object>"
            ]
          },
          "metadata": {
            "tags": []
          }
        },
        {
          "output_type": "display_data",
          "data": {
            "text/html": [
              "<span style=\"color:blue\"> |-tuner/round: 0</span>"
            ],
            "text/plain": [
              "<IPython.core.display.HTML object>"
            ]
          },
          "metadata": {
            "tags": []
          }
        },
        {
          "output_type": "display_data",
          "data": {
            "text/html": [
              "<span style=\"color:cyan\"> |-Score: 0.4444444477558136</span>"
            ],
            "text/plain": [
              "<IPython.core.display.HTML object>"
            ]
          },
          "metadata": {
            "tags": []
          }
        },
        {
          "output_type": "display_data",
          "data": {
            "text/html": [
              "<span style=\"color:cyan\"> |-Best step: 0</span>"
            ],
            "text/plain": [
              "<IPython.core.display.HTML object>"
            ]
          },
          "metadata": {
            "tags": []
          }
        },
        {
          "output_type": "stream",
          "text": [
            "Train on 86 samples, validate on 45 samples\n",
            "Epoch 5/10\n",
            "86/86 [==============================] - 0s 4ms/sample - loss: 3.3250 - accuracy: 0.4070 - val_loss: 1.9159 - val_accuracy: 0.4667\n",
            "Epoch 6/10\n",
            "86/86 [==============================] - 0s 308us/sample - loss: 3.3148 - accuracy: 0.4070 - val_loss: 1.9097 - val_accuracy: 0.4667\n",
            "Epoch 7/10\n",
            "86/86 [==============================] - 0s 274us/sample - loss: 3.3017 - accuracy: 0.4070 - val_loss: 1.9032 - val_accuracy: 0.4667\n",
            "Epoch 8/10\n",
            "86/86 [==============================] - 0s 283us/sample - loss: 3.2883 - accuracy: 0.4070 - val_loss: 1.8966 - val_accuracy: 0.4667\n",
            "Epoch 9/10\n",
            "86/86 [==============================] - 0s 274us/sample - loss: 3.2744 - accuracy: 0.4070 - val_loss: 1.8901 - val_accuracy: 0.4667\n",
            "Epoch 10/10\n",
            "86/86 [==============================] - 0s 270us/sample - loss: 3.2609 - accuracy: 0.4070 - val_loss: 1.8838 - val_accuracy: 0.4667\n"
          ],
          "name": "stdout"
        },
        {
          "output_type": "display_data",
          "data": {
            "text/html": [
              "<span style=\"color:#4527A0\"><h1 style=\"font-size:18px\">Trial complete</h1></span>"
            ],
            "text/plain": [
              "<IPython.core.display.HTML object>"
            ]
          },
          "metadata": {
            "tags": []
          }
        },
        {
          "output_type": "display_data",
          "data": {
            "text/html": [
              "<span style=\"color:#4527A0\"><h1 style=\"font-size:18px\">Trial summary</h1></span>"
            ],
            "text/plain": [
              "<IPython.core.display.HTML object>"
            ]
          },
          "metadata": {
            "tags": []
          }
        },
        {
          "output_type": "display_data",
          "data": {
            "text/html": [
              "<span style=\"color:#7E57C2\"><h2 style=\"font-size:16px\">Hp values:</h2></span>"
            ],
            "text/plain": [
              "<IPython.core.display.HTML object>"
            ]
          },
          "metadata": {
            "tags": []
          }
        },
        {
          "output_type": "display_data",
          "data": {
            "text/html": [
              "<span style=\"color:cyan\"> |-learning_rate: 0.0001</span>"
            ],
            "text/plain": [
              "<IPython.core.display.HTML object>"
            ]
          },
          "metadata": {
            "tags": []
          }
        },
        {
          "output_type": "display_data",
          "data": {
            "text/html": [
              "<span style=\"color:blue\"> |-momentum: 0.6</span>"
            ],
            "text/plain": [
              "<IPython.core.display.HTML object>"
            ]
          },
          "metadata": {
            "tags": []
          }
        },
        {
          "output_type": "display_data",
          "data": {
            "text/html": [
              "<span style=\"color:cyan\"> |-tuner/bracket: 1</span>"
            ],
            "text/plain": [
              "<IPython.core.display.HTML object>"
            ]
          },
          "metadata": {
            "tags": []
          }
        },
        {
          "output_type": "display_data",
          "data": {
            "text/html": [
              "<span style=\"color:blue\"> |-tuner/epochs: 10</span>"
            ],
            "text/plain": [
              "<IPython.core.display.HTML object>"
            ]
          },
          "metadata": {
            "tags": []
          }
        },
        {
          "output_type": "display_data",
          "data": {
            "text/html": [
              "<span style=\"color:cyan\"> |-tuner/initial_epoch: 4</span>"
            ],
            "text/plain": [
              "<IPython.core.display.HTML object>"
            ]
          },
          "metadata": {
            "tags": []
          }
        },
        {
          "output_type": "display_data",
          "data": {
            "text/html": [
              "<span style=\"color:blue\"> |-tuner/round: 1</span>"
            ],
            "text/plain": [
              "<IPython.core.display.HTML object>"
            ]
          },
          "metadata": {
            "tags": []
          }
        },
        {
          "output_type": "display_data",
          "data": {
            "text/html": [
              "<span style=\"color:cyan\"> |-tuner/trial_id: 4e349724bda104be6a31348637cb1f4f</span>"
            ],
            "text/plain": [
              "<IPython.core.display.HTML object>"
            ]
          },
          "metadata": {
            "tags": []
          }
        },
        {
          "output_type": "display_data",
          "data": {
            "text/html": [
              "<span style=\"color:cyan\"> |-Score: 0.46666666865348816</span>"
            ],
            "text/plain": [
              "<IPython.core.display.HTML object>"
            ]
          },
          "metadata": {
            "tags": []
          }
        },
        {
          "output_type": "display_data",
          "data": {
            "text/html": [
              "<span style=\"color:cyan\"> |-Best step: 0</span>"
            ],
            "text/plain": [
              "<IPython.core.display.HTML object>"
            ]
          },
          "metadata": {
            "tags": []
          }
        },
        {
          "output_type": "stream",
          "text": [
            "Train on 86 samples, validate on 45 samples\n",
            "Epoch 5/10\n",
            "86/86 [==============================] - 0s 4ms/sample - loss: 3.3646 - accuracy: 0.1628 - val_loss: 2.5517 - val_accuracy: 0.1556\n",
            "Epoch 6/10\n",
            "86/86 [==============================] - 0s 278us/sample - loss: 3.3591 - accuracy: 0.1628 - val_loss: 2.5480 - val_accuracy: 0.1556\n",
            "Epoch 7/10\n",
            "86/86 [==============================] - 0s 343us/sample - loss: 3.3531 - accuracy: 0.1628 - val_loss: 2.5443 - val_accuracy: 0.1778\n",
            "Epoch 8/10\n",
            "86/86 [==============================] - 0s 272us/sample - loss: 3.3472 - accuracy: 0.1628 - val_loss: 2.5406 - val_accuracy: 0.1778\n",
            "Epoch 9/10\n",
            "86/86 [==============================] - 0s 286us/sample - loss: 3.3412 - accuracy: 0.1628 - val_loss: 2.5371 - val_accuracy: 0.1778\n",
            "Epoch 10/10\n",
            "86/86 [==============================] - 0s 272us/sample - loss: 3.3353 - accuracy: 0.1628 - val_loss: 2.5336 - val_accuracy: 0.1778\n"
          ],
          "name": "stdout"
        },
        {
          "output_type": "display_data",
          "data": {
            "text/html": [
              "<span style=\"color:#4527A0\"><h1 style=\"font-size:18px\">Trial complete</h1></span>"
            ],
            "text/plain": [
              "<IPython.core.display.HTML object>"
            ]
          },
          "metadata": {
            "tags": []
          }
        },
        {
          "output_type": "display_data",
          "data": {
            "text/html": [
              "<span style=\"color:#4527A0\"><h1 style=\"font-size:18px\">Trial summary</h1></span>"
            ],
            "text/plain": [
              "<IPython.core.display.HTML object>"
            ]
          },
          "metadata": {
            "tags": []
          }
        },
        {
          "output_type": "display_data",
          "data": {
            "text/html": [
              "<span style=\"color:#7E57C2\"><h2 style=\"font-size:16px\">Hp values:</h2></span>"
            ],
            "text/plain": [
              "<IPython.core.display.HTML object>"
            ]
          },
          "metadata": {
            "tags": []
          }
        },
        {
          "output_type": "display_data",
          "data": {
            "text/html": [
              "<span style=\"color:cyan\"> |-learning_rate: 0.0001</span>"
            ],
            "text/plain": [
              "<IPython.core.display.HTML object>"
            ]
          },
          "metadata": {
            "tags": []
          }
        },
        {
          "output_type": "display_data",
          "data": {
            "text/html": [
              "<span style=\"color:blue\"> |-momentum: 0.3</span>"
            ],
            "text/plain": [
              "<IPython.core.display.HTML object>"
            ]
          },
          "metadata": {
            "tags": []
          }
        },
        {
          "output_type": "display_data",
          "data": {
            "text/html": [
              "<span style=\"color:cyan\"> |-tuner/bracket: 1</span>"
            ],
            "text/plain": [
              "<IPython.core.display.HTML object>"
            ]
          },
          "metadata": {
            "tags": []
          }
        },
        {
          "output_type": "display_data",
          "data": {
            "text/html": [
              "<span style=\"color:blue\"> |-tuner/epochs: 10</span>"
            ],
            "text/plain": [
              "<IPython.core.display.HTML object>"
            ]
          },
          "metadata": {
            "tags": []
          }
        },
        {
          "output_type": "display_data",
          "data": {
            "text/html": [
              "<span style=\"color:cyan\"> |-tuner/initial_epoch: 4</span>"
            ],
            "text/plain": [
              "<IPython.core.display.HTML object>"
            ]
          },
          "metadata": {
            "tags": []
          }
        },
        {
          "output_type": "display_data",
          "data": {
            "text/html": [
              "<span style=\"color:blue\"> |-tuner/round: 1</span>"
            ],
            "text/plain": [
              "<IPython.core.display.HTML object>"
            ]
          },
          "metadata": {
            "tags": []
          }
        },
        {
          "output_type": "display_data",
          "data": {
            "text/html": [
              "<span style=\"color:cyan\"> |-tuner/trial_id: caf2d2204456633b7323977da13002d6</span>"
            ],
            "text/plain": [
              "<IPython.core.display.HTML object>"
            ]
          },
          "metadata": {
            "tags": []
          }
        },
        {
          "output_type": "display_data",
          "data": {
            "text/html": [
              "<span style=\"color:cyan\"> |-Score: 0.17777778208255768</span>"
            ],
            "text/plain": [
              "<IPython.core.display.HTML object>"
            ]
          },
          "metadata": {
            "tags": []
          }
        },
        {
          "output_type": "display_data",
          "data": {
            "text/html": [
              "<span style=\"color:cyan\"> |-Best step: 0</span>"
            ],
            "text/plain": [
              "<IPython.core.display.HTML object>"
            ]
          },
          "metadata": {
            "tags": []
          }
        },
        {
          "output_type": "stream",
          "text": [
            "Train on 86 samples, validate on 45 samples\n",
            "Epoch 1/10\n",
            "86/86 [==============================] - 0s 4ms/sample - loss: 3.2271 - accuracy: 0.2791 - val_loss: 2.5577 - val_accuracy: 0.3111\n",
            "Epoch 2/10\n",
            "86/86 [==============================] - 0s 342us/sample - loss: 3.2191 - accuracy: 0.2791 - val_loss: 2.5539 - val_accuracy: 0.3111\n",
            "Epoch 3/10\n",
            "86/86 [==============================] - 0s 300us/sample - loss: 3.2095 - accuracy: 0.2791 - val_loss: 2.5501 - val_accuracy: 0.3111\n",
            "Epoch 4/10\n",
            "86/86 [==============================] - 0s 278us/sample - loss: 3.1997 - accuracy: 0.2791 - val_loss: 2.5462 - val_accuracy: 0.3111\n",
            "Epoch 5/10\n",
            "86/86 [==============================] - 0s 236us/sample - loss: 3.1897 - accuracy: 0.2791 - val_loss: 2.5422 - val_accuracy: 0.3111\n",
            "Epoch 6/10\n",
            "86/86 [==============================] - 0s 256us/sample - loss: 3.1800 - accuracy: 0.2791 - val_loss: 2.5384 - val_accuracy: 0.3111\n",
            "Epoch 7/10\n",
            "86/86 [==============================] - 0s 256us/sample - loss: 3.1701 - accuracy: 0.2791 - val_loss: 2.5343 - val_accuracy: 0.3111\n",
            "Epoch 8/10\n",
            "86/86 [==============================] - 0s 268us/sample - loss: 3.1602 - accuracy: 0.2791 - val_loss: 2.5305 - val_accuracy: 0.3111\n",
            "Epoch 9/10\n",
            "86/86 [==============================] - 0s 242us/sample - loss: 3.1505 - accuracy: 0.2791 - val_loss: 2.5266 - val_accuracy: 0.3111\n",
            "Epoch 10/10\n",
            "86/86 [==============================] - 0s 246us/sample - loss: 3.1410 - accuracy: 0.2791 - val_loss: 2.5228 - val_accuracy: 0.3111\n"
          ],
          "name": "stdout"
        },
        {
          "output_type": "display_data",
          "data": {
            "text/html": [
              "<span style=\"color:#4527A0\"><h1 style=\"font-size:18px\">Trial complete</h1></span>"
            ],
            "text/plain": [
              "<IPython.core.display.HTML object>"
            ]
          },
          "metadata": {
            "tags": []
          }
        },
        {
          "output_type": "display_data",
          "data": {
            "text/html": [
              "<span style=\"color:#4527A0\"><h1 style=\"font-size:18px\">Trial summary</h1></span>"
            ],
            "text/plain": [
              "<IPython.core.display.HTML object>"
            ]
          },
          "metadata": {
            "tags": []
          }
        },
        {
          "output_type": "display_data",
          "data": {
            "text/html": [
              "<span style=\"color:#7E57C2\"><h2 style=\"font-size:16px\">Hp values:</h2></span>"
            ],
            "text/plain": [
              "<IPython.core.display.HTML object>"
            ]
          },
          "metadata": {
            "tags": []
          }
        },
        {
          "output_type": "display_data",
          "data": {
            "text/html": [
              "<span style=\"color:cyan\"> |-learning_rate: 0.0001</span>"
            ],
            "text/plain": [
              "<IPython.core.display.HTML object>"
            ]
          },
          "metadata": {
            "tags": []
          }
        },
        {
          "output_type": "display_data",
          "data": {
            "text/html": [
              "<span style=\"color:blue\"> |-momentum: 0.5</span>"
            ],
            "text/plain": [
              "<IPython.core.display.HTML object>"
            ]
          },
          "metadata": {
            "tags": []
          }
        },
        {
          "output_type": "display_data",
          "data": {
            "text/html": [
              "<span style=\"color:cyan\"> |-tuner/bracket: 0</span>"
            ],
            "text/plain": [
              "<IPython.core.display.HTML object>"
            ]
          },
          "metadata": {
            "tags": []
          }
        },
        {
          "output_type": "display_data",
          "data": {
            "text/html": [
              "<span style=\"color:blue\"> |-tuner/epochs: 10</span>"
            ],
            "text/plain": [
              "<IPython.core.display.HTML object>"
            ]
          },
          "metadata": {
            "tags": []
          }
        },
        {
          "output_type": "display_data",
          "data": {
            "text/html": [
              "<span style=\"color:cyan\"> |-tuner/initial_epoch: 0</span>"
            ],
            "text/plain": [
              "<IPython.core.display.HTML object>"
            ]
          },
          "metadata": {
            "tags": []
          }
        },
        {
          "output_type": "display_data",
          "data": {
            "text/html": [
              "<span style=\"color:blue\"> |-tuner/round: 0</span>"
            ],
            "text/plain": [
              "<IPython.core.display.HTML object>"
            ]
          },
          "metadata": {
            "tags": []
          }
        },
        {
          "output_type": "display_data",
          "data": {
            "text/html": [
              "<span style=\"color:cyan\"> |-Score: 0.31111112236976624</span>"
            ],
            "text/plain": [
              "<IPython.core.display.HTML object>"
            ]
          },
          "metadata": {
            "tags": []
          }
        },
        {
          "output_type": "display_data",
          "data": {
            "text/html": [
              "<span style=\"color:cyan\"> |-Best step: 0</span>"
            ],
            "text/plain": [
              "<IPython.core.display.HTML object>"
            ]
          },
          "metadata": {
            "tags": []
          }
        },
        {
          "output_type": "stream",
          "text": [
            "Train on 86 samples, validate on 45 samples\n",
            "Epoch 1/10\n",
            "86/86 [==============================] - 0s 4ms/sample - loss: 1.7129 - accuracy: 0.4302 - val_loss: 1.4429 - val_accuracy: 0.4222\n",
            "Epoch 2/10\n",
            "86/86 [==============================] - 0s 322us/sample - loss: 1.7001 - accuracy: 0.4419 - val_loss: 1.4346 - val_accuracy: 0.4222\n",
            "Epoch 3/10\n",
            "86/86 [==============================] - 0s 278us/sample - loss: 1.6857 - accuracy: 0.4419 - val_loss: 1.4262 - val_accuracy: 0.4222\n",
            "Epoch 4/10\n",
            "86/86 [==============================] - 0s 267us/sample - loss: 1.6697 - accuracy: 0.4419 - val_loss: 1.4176 - val_accuracy: 0.4222\n",
            "Epoch 5/10\n",
            "86/86 [==============================] - 0s 336us/sample - loss: 1.6554 - accuracy: 0.4419 - val_loss: 1.4088 - val_accuracy: 0.4444\n",
            "Epoch 6/10\n",
            "86/86 [==============================] - 0s 269us/sample - loss: 1.6418 - accuracy: 0.4419 - val_loss: 1.4011 - val_accuracy: 0.4222\n",
            "Epoch 7/10\n",
            "86/86 [==============================] - 0s 279us/sample - loss: 1.6271 - accuracy: 0.4535 - val_loss: 1.3936 - val_accuracy: 0.4222\n",
            "Epoch 8/10\n",
            "86/86 [==============================] - 0s 329us/sample - loss: 1.6141 - accuracy: 0.4535 - val_loss: 1.3867 - val_accuracy: 0.4222\n",
            "Epoch 9/10\n",
            "86/86 [==============================] - 0s 264us/sample - loss: 1.6005 - accuracy: 0.4535 - val_loss: 1.3793 - val_accuracy: 0.4222\n",
            "Epoch 10/10\n",
            "86/86 [==============================] - 0s 291us/sample - loss: 1.5877 - accuracy: 0.4419 - val_loss: 1.3719 - val_accuracy: 0.4222\n"
          ],
          "name": "stdout"
        },
        {
          "output_type": "display_data",
          "data": {
            "text/html": [
              "<span style=\"color:#4527A0\"><h1 style=\"font-size:18px\">Trial complete</h1></span>"
            ],
            "text/plain": [
              "<IPython.core.display.HTML object>"
            ]
          },
          "metadata": {
            "tags": []
          }
        },
        {
          "output_type": "display_data",
          "data": {
            "text/html": [
              "<span style=\"color:#4527A0\"><h1 style=\"font-size:18px\">Trial summary</h1></span>"
            ],
            "text/plain": [
              "<IPython.core.display.HTML object>"
            ]
          },
          "metadata": {
            "tags": []
          }
        },
        {
          "output_type": "display_data",
          "data": {
            "text/html": [
              "<span style=\"color:#7E57C2\"><h2 style=\"font-size:16px\">Hp values:</h2></span>"
            ],
            "text/plain": [
              "<IPython.core.display.HTML object>"
            ]
          },
          "metadata": {
            "tags": []
          }
        },
        {
          "output_type": "display_data",
          "data": {
            "text/html": [
              "<span style=\"color:cyan\"> |-learning_rate: 0.001</span>"
            ],
            "text/plain": [
              "<IPython.core.display.HTML object>"
            ]
          },
          "metadata": {
            "tags": []
          }
        },
        {
          "output_type": "display_data",
          "data": {
            "text/html": [
              "<span style=\"color:blue\"> |-momentum: 0.3</span>"
            ],
            "text/plain": [
              "<IPython.core.display.HTML object>"
            ]
          },
          "metadata": {
            "tags": []
          }
        },
        {
          "output_type": "display_data",
          "data": {
            "text/html": [
              "<span style=\"color:cyan\"> |-tuner/bracket: 0</span>"
            ],
            "text/plain": [
              "<IPython.core.display.HTML object>"
            ]
          },
          "metadata": {
            "tags": []
          }
        },
        {
          "output_type": "display_data",
          "data": {
            "text/html": [
              "<span style=\"color:blue\"> |-tuner/epochs: 10</span>"
            ],
            "text/plain": [
              "<IPython.core.display.HTML object>"
            ]
          },
          "metadata": {
            "tags": []
          }
        },
        {
          "output_type": "display_data",
          "data": {
            "text/html": [
              "<span style=\"color:cyan\"> |-tuner/initial_epoch: 0</span>"
            ],
            "text/plain": [
              "<IPython.core.display.HTML object>"
            ]
          },
          "metadata": {
            "tags": []
          }
        },
        {
          "output_type": "display_data",
          "data": {
            "text/html": [
              "<span style=\"color:blue\"> |-tuner/round: 0</span>"
            ],
            "text/plain": [
              "<IPython.core.display.HTML object>"
            ]
          },
          "metadata": {
            "tags": []
          }
        },
        {
          "output_type": "display_data",
          "data": {
            "text/html": [
              "<span style=\"color:cyan\"> |-Score: 0.4444444477558136</span>"
            ],
            "text/plain": [
              "<IPython.core.display.HTML object>"
            ]
          },
          "metadata": {
            "tags": []
          }
        },
        {
          "output_type": "display_data",
          "data": {
            "text/html": [
              "<span style=\"color:cyan\"> |-Best step: 0</span>"
            ],
            "text/plain": [
              "<IPython.core.display.HTML object>"
            ]
          },
          "metadata": {
            "tags": []
          }
        },
        {
          "output_type": "stream",
          "text": [
            "Train on 86 samples, validate on 45 samples\n",
            "Epoch 1/10\n",
            "86/86 [==============================] - 0s 4ms/sample - loss: 2.4241 - accuracy: 0.4651 - val_loss: 1.7278 - val_accuracy: 0.4000\n",
            "Epoch 2/10\n",
            "86/86 [==============================] - 0s 281us/sample - loss: 2.4185 - accuracy: 0.4651 - val_loss: 1.7235 - val_accuracy: 0.4000\n",
            "Epoch 3/10\n",
            "86/86 [==============================] - 0s 359us/sample - loss: 2.4110 - accuracy: 0.4651 - val_loss: 1.7185 - val_accuracy: 0.4222\n",
            "Epoch 4/10\n",
            "86/86 [==============================] - 0s 292us/sample - loss: 2.4032 - accuracy: 0.4651 - val_loss: 1.7130 - val_accuracy: 0.4222\n",
            "Epoch 5/10\n",
            "86/86 [==============================] - 0s 307us/sample - loss: 2.3943 - accuracy: 0.4651 - val_loss: 1.7077 - val_accuracy: 0.4222\n",
            "Epoch 6/10\n",
            "86/86 [==============================] - 0s 275us/sample - loss: 2.3860 - accuracy: 0.4651 - val_loss: 1.7022 - val_accuracy: 0.4222\n",
            "Epoch 7/10\n",
            "86/86 [==============================] - 0s 289us/sample - loss: 2.3773 - accuracy: 0.4651 - val_loss: 1.6967 - val_accuracy: 0.4222\n",
            "Epoch 8/10\n",
            "86/86 [==============================] - 0s 285us/sample - loss: 2.3678 - accuracy: 0.4651 - val_loss: 1.6916 - val_accuracy: 0.4222\n",
            "Epoch 9/10\n",
            "86/86 [==============================] - 0s 265us/sample - loss: 2.3599 - accuracy: 0.4651 - val_loss: 1.6857 - val_accuracy: 0.4222\n",
            "Epoch 10/10\n",
            "86/86 [==============================] - 0s 262us/sample - loss: 2.3510 - accuracy: 0.4651 - val_loss: 1.6801 - val_accuracy: 0.4222\n"
          ],
          "name": "stdout"
        },
        {
          "output_type": "display_data",
          "data": {
            "text/html": [
              "<span style=\"color:#4527A0\"><h1 style=\"font-size:18px\">Trial complete</h1></span>"
            ],
            "text/plain": [
              "<IPython.core.display.HTML object>"
            ]
          },
          "metadata": {
            "tags": []
          }
        },
        {
          "output_type": "display_data",
          "data": {
            "text/html": [
              "<span style=\"color:#4527A0\"><h1 style=\"font-size:18px\">Trial summary</h1></span>"
            ],
            "text/plain": [
              "<IPython.core.display.HTML object>"
            ]
          },
          "metadata": {
            "tags": []
          }
        },
        {
          "output_type": "display_data",
          "data": {
            "text/html": [
              "<span style=\"color:#7E57C2\"><h2 style=\"font-size:16px\">Hp values:</h2></span>"
            ],
            "text/plain": [
              "<IPython.core.display.HTML object>"
            ]
          },
          "metadata": {
            "tags": []
          }
        },
        {
          "output_type": "display_data",
          "data": {
            "text/html": [
              "<span style=\"color:cyan\"> |-learning_rate: 0.0001</span>"
            ],
            "text/plain": [
              "<IPython.core.display.HTML object>"
            ]
          },
          "metadata": {
            "tags": []
          }
        },
        {
          "output_type": "display_data",
          "data": {
            "text/html": [
              "<span style=\"color:blue\"> |-momentum: 0.7</span>"
            ],
            "text/plain": [
              "<IPython.core.display.HTML object>"
            ]
          },
          "metadata": {
            "tags": []
          }
        },
        {
          "output_type": "display_data",
          "data": {
            "text/html": [
              "<span style=\"color:cyan\"> |-tuner/bracket: 0</span>"
            ],
            "text/plain": [
              "<IPython.core.display.HTML object>"
            ]
          },
          "metadata": {
            "tags": []
          }
        },
        {
          "output_type": "display_data",
          "data": {
            "text/html": [
              "<span style=\"color:blue\"> |-tuner/epochs: 10</span>"
            ],
            "text/plain": [
              "<IPython.core.display.HTML object>"
            ]
          },
          "metadata": {
            "tags": []
          }
        },
        {
          "output_type": "display_data",
          "data": {
            "text/html": [
              "<span style=\"color:cyan\"> |-tuner/initial_epoch: 0</span>"
            ],
            "text/plain": [
              "<IPython.core.display.HTML object>"
            ]
          },
          "metadata": {
            "tags": []
          }
        },
        {
          "output_type": "display_data",
          "data": {
            "text/html": [
              "<span style=\"color:blue\"> |-tuner/round: 0</span>"
            ],
            "text/plain": [
              "<IPython.core.display.HTML object>"
            ]
          },
          "metadata": {
            "tags": []
          }
        },
        {
          "output_type": "display_data",
          "data": {
            "text/html": [
              "<span style=\"color:cyan\"> |-Score: 0.42222222685813904</span>"
            ],
            "text/plain": [
              "<IPython.core.display.HTML object>"
            ]
          },
          "metadata": {
            "tags": []
          }
        },
        {
          "output_type": "display_data",
          "data": {
            "text/html": [
              "<span style=\"color:cyan\"> |-Best step: 0</span>"
            ],
            "text/plain": [
              "<IPython.core.display.HTML object>"
            ]
          },
          "metadata": {
            "tags": []
          }
        },
        {
          "output_type": "stream",
          "text": [
            "Train on 86 samples, validate on 45 samples\n",
            "Epoch 1/10\n",
            "86/86 [==============================] - 0s 4ms/sample - loss: 3.5238 - accuracy: 0.2326 - val_loss: 2.6980 - val_accuracy: 0.2000\n",
            "Epoch 2/10\n",
            "86/86 [==============================] - 0s 305us/sample - loss: 3.5142 - accuracy: 0.2326 - val_loss: 2.6876 - val_accuracy: 0.2000\n",
            "Epoch 3/10\n",
            "86/86 [==============================] - 0s 247us/sample - loss: 3.4998 - accuracy: 0.2326 - val_loss: 2.6745 - val_accuracy: 0.2000\n",
            "Epoch 4/10\n",
            "86/86 [==============================] - 0s 323us/sample - loss: 3.4825 - accuracy: 0.2326 - val_loss: 2.6604 - val_accuracy: 0.2000\n",
            "Epoch 5/10\n",
            "86/86 [==============================] - 0s 270us/sample - loss: 3.4620 - accuracy: 0.2326 - val_loss: 2.6463 - val_accuracy: 0.2000\n",
            "Epoch 6/10\n",
            "86/86 [==============================] - 0s 293us/sample - loss: 3.4446 - accuracy: 0.2326 - val_loss: 2.6313 - val_accuracy: 0.2000\n",
            "Epoch 7/10\n",
            "86/86 [==============================] - 0s 293us/sample - loss: 3.4244 - accuracy: 0.2326 - val_loss: 2.6163 - val_accuracy: 0.2000\n",
            "Epoch 8/10\n",
            "86/86 [==============================] - 0s 286us/sample - loss: 3.4049 - accuracy: 0.2326 - val_loss: 2.6019 - val_accuracy: 0.2000\n",
            "Epoch 9/10\n",
            "86/86 [==============================] - 0s 308us/sample - loss: 3.3856 - accuracy: 0.2326 - val_loss: 2.5877 - val_accuracy: 0.2000\n",
            "Epoch 10/10\n",
            "86/86 [==============================] - 0s 279us/sample - loss: 3.3663 - accuracy: 0.2326 - val_loss: 2.5733 - val_accuracy: 0.2000\n"
          ],
          "name": "stdout"
        },
        {
          "output_type": "display_data",
          "data": {
            "text/html": [
              "<span style=\"color:#4527A0\"><h1 style=\"font-size:18px\">Trial complete</h1></span>"
            ],
            "text/plain": [
              "<IPython.core.display.HTML object>"
            ]
          },
          "metadata": {
            "tags": []
          }
        },
        {
          "output_type": "display_data",
          "data": {
            "text/html": [
              "<span style=\"color:#4527A0\"><h1 style=\"font-size:18px\">Trial summary</h1></span>"
            ],
            "text/plain": [
              "<IPython.core.display.HTML object>"
            ]
          },
          "metadata": {
            "tags": []
          }
        },
        {
          "output_type": "display_data",
          "data": {
            "text/html": [
              "<span style=\"color:#7E57C2\"><h2 style=\"font-size:16px\">Hp values:</h2></span>"
            ],
            "text/plain": [
              "<IPython.core.display.HTML object>"
            ]
          },
          "metadata": {
            "tags": []
          }
        },
        {
          "output_type": "display_data",
          "data": {
            "text/html": [
              "<span style=\"color:cyan\"> |-learning_rate: 0.0001</span>"
            ],
            "text/plain": [
              "<IPython.core.display.HTML object>"
            ]
          },
          "metadata": {
            "tags": []
          }
        },
        {
          "output_type": "display_data",
          "data": {
            "text/html": [
              "<span style=\"color:blue\"> |-momentum: 0.8</span>"
            ],
            "text/plain": [
              "<IPython.core.display.HTML object>"
            ]
          },
          "metadata": {
            "tags": []
          }
        },
        {
          "output_type": "display_data",
          "data": {
            "text/html": [
              "<span style=\"color:cyan\"> |-tuner/bracket: 0</span>"
            ],
            "text/plain": [
              "<IPython.core.display.HTML object>"
            ]
          },
          "metadata": {
            "tags": []
          }
        },
        {
          "output_type": "display_data",
          "data": {
            "text/html": [
              "<span style=\"color:blue\"> |-tuner/epochs: 10</span>"
            ],
            "text/plain": [
              "<IPython.core.display.HTML object>"
            ]
          },
          "metadata": {
            "tags": []
          }
        },
        {
          "output_type": "display_data",
          "data": {
            "text/html": [
              "<span style=\"color:cyan\"> |-tuner/initial_epoch: 0</span>"
            ],
            "text/plain": [
              "<IPython.core.display.HTML object>"
            ]
          },
          "metadata": {
            "tags": []
          }
        },
        {
          "output_type": "display_data",
          "data": {
            "text/html": [
              "<span style=\"color:blue\"> |-tuner/round: 0</span>"
            ],
            "text/plain": [
              "<IPython.core.display.HTML object>"
            ]
          },
          "metadata": {
            "tags": []
          }
        },
        {
          "output_type": "display_data",
          "data": {
            "text/html": [
              "<span style=\"color:cyan\"> |-Score: 0.20000000298023224</span>"
            ],
            "text/plain": [
              "<IPython.core.display.HTML object>"
            ]
          },
          "metadata": {
            "tags": []
          }
        },
        {
          "output_type": "display_data",
          "data": {
            "text/html": [
              "<span style=\"color:cyan\"> |-Best step: 0</span>"
            ],
            "text/plain": [
              "<IPython.core.display.HTML object>"
            ]
          },
          "metadata": {
            "tags": []
          }
        },
        {
          "output_type": "stream",
          "text": [
            "INFO:tensorflow:Oracle triggered exit\n",
            "INFO:tensorflow:Reloading Oracle from /content/my_dir/Hyperband/oracle.json\n",
            "INFO:tensorflow:Reloading Tuner from /content/my_dir/Hyperband/tuner0.json\n"
          ],
          "name": "stdout"
        },
        {
          "output_type": "display_data",
          "data": {
            "text/html": [
              "<span style=\"color:#4527A0\"><h1 style=\"font-size:18px\">Search space summary</h1></span>"
            ],
            "text/plain": [
              "<IPython.core.display.HTML object>"
            ]
          },
          "metadata": {
            "tags": []
          }
        },
        {
          "output_type": "display_data",
          "data": {
            "text/html": [
              "<span style=\"color:cyan\"> |-Default search space size: 2</span>"
            ],
            "text/plain": [
              "<IPython.core.display.HTML object>"
            ]
          },
          "metadata": {
            "tags": []
          }
        },
        {
          "output_type": "display_data",
          "data": {
            "text/html": [
              "<span style=\"color:#7E57C2\"><h2 style=\"font-size:16px\">learning_rate (Choice)</h2></span>"
            ],
            "text/plain": [
              "<IPython.core.display.HTML object>"
            ]
          },
          "metadata": {
            "tags": []
          }
        },
        {
          "output_type": "display_data",
          "data": {
            "text/html": [
              "<span style=\"color:cyan\"> |-default: 0.01</span>"
            ],
            "text/plain": [
              "<IPython.core.display.HTML object>"
            ]
          },
          "metadata": {
            "tags": []
          }
        },
        {
          "output_type": "display_data",
          "data": {
            "text/html": [
              "<span style=\"color:blue\"> |-ordered: True</span>"
            ],
            "text/plain": [
              "<IPython.core.display.HTML object>"
            ]
          },
          "metadata": {
            "tags": []
          }
        },
        {
          "output_type": "display_data",
          "data": {
            "text/html": [
              "<span style=\"color:cyan\"> |-values: [0.01, 0.001, 0.0001]</span>"
            ],
            "text/plain": [
              "<IPython.core.display.HTML object>"
            ]
          },
          "metadata": {
            "tags": []
          }
        },
        {
          "output_type": "display_data",
          "data": {
            "text/html": [
              "<span style=\"color:#7E57C2\"><h2 style=\"font-size:16px\">momentum (Choice)</h2></span>"
            ],
            "text/plain": [
              "<IPython.core.display.HTML object>"
            ]
          },
          "metadata": {
            "tags": []
          }
        },
        {
          "output_type": "display_data",
          "data": {
            "text/html": [
              "<span style=\"color:cyan\"> |-default: 0.0</span>"
            ],
            "text/plain": [
              "<IPython.core.display.HTML object>"
            ]
          },
          "metadata": {
            "tags": []
          }
        },
        {
          "output_type": "display_data",
          "data": {
            "text/html": [
              "<span style=\"color:blue\"> |-ordered: True</span>"
            ],
            "text/plain": [
              "<IPython.core.display.HTML object>"
            ]
          },
          "metadata": {
            "tags": []
          }
        },
        {
          "output_type": "display_data",
          "data": {
            "text/html": [
              "<span style=\"color:cyan\"> |-values: [0.0, 0.1, 0.2, 0.3, 0.4, 0.5, 0.6, 0.7, 0.8, 0.9]</span>"
            ],
            "text/plain": [
              "<IPython.core.display.HTML object>"
            ]
          },
          "metadata": {
            "tags": []
          }
        },
        {
          "output_type": "stream",
          "text": [
            "INFO:tensorflow:Oracle triggered exit\n",
            "INFO:tensorflow:Reloading Oracle from /content/my_dir/Hyperband/oracle.json\n",
            "INFO:tensorflow:Reloading Tuner from /content/my_dir/Hyperband/tuner0.json\n"
          ],
          "name": "stdout"
        },
        {
          "output_type": "display_data",
          "data": {
            "text/html": [
              "<span style=\"color:#4527A0\"><h1 style=\"font-size:18px\">Search space summary</h1></span>"
            ],
            "text/plain": [
              "<IPython.core.display.HTML object>"
            ]
          },
          "metadata": {
            "tags": []
          }
        },
        {
          "output_type": "display_data",
          "data": {
            "text/html": [
              "<span style=\"color:cyan\"> |-Default search space size: 2</span>"
            ],
            "text/plain": [
              "<IPython.core.display.HTML object>"
            ]
          },
          "metadata": {
            "tags": []
          }
        },
        {
          "output_type": "display_data",
          "data": {
            "text/html": [
              "<span style=\"color:#7E57C2\"><h2 style=\"font-size:16px\">learning_rate (Choice)</h2></span>"
            ],
            "text/plain": [
              "<IPython.core.display.HTML object>"
            ]
          },
          "metadata": {
            "tags": []
          }
        },
        {
          "output_type": "display_data",
          "data": {
            "text/html": [
              "<span style=\"color:cyan\"> |-default: 0.01</span>"
            ],
            "text/plain": [
              "<IPython.core.display.HTML object>"
            ]
          },
          "metadata": {
            "tags": []
          }
        },
        {
          "output_type": "display_data",
          "data": {
            "text/html": [
              "<span style=\"color:blue\"> |-ordered: True</span>"
            ],
            "text/plain": [
              "<IPython.core.display.HTML object>"
            ]
          },
          "metadata": {
            "tags": []
          }
        },
        {
          "output_type": "display_data",
          "data": {
            "text/html": [
              "<span style=\"color:cyan\"> |-values: [0.01, 0.001, 0.0001]</span>"
            ],
            "text/plain": [
              "<IPython.core.display.HTML object>"
            ]
          },
          "metadata": {
            "tags": []
          }
        },
        {
          "output_type": "display_data",
          "data": {
            "text/html": [
              "<span style=\"color:#7E57C2\"><h2 style=\"font-size:16px\">momentum (Choice)</h2></span>"
            ],
            "text/plain": [
              "<IPython.core.display.HTML object>"
            ]
          },
          "metadata": {
            "tags": []
          }
        },
        {
          "output_type": "display_data",
          "data": {
            "text/html": [
              "<span style=\"color:cyan\"> |-default: 0.0</span>"
            ],
            "text/plain": [
              "<IPython.core.display.HTML object>"
            ]
          },
          "metadata": {
            "tags": []
          }
        },
        {
          "output_type": "display_data",
          "data": {
            "text/html": [
              "<span style=\"color:blue\"> |-ordered: True</span>"
            ],
            "text/plain": [
              "<IPython.core.display.HTML object>"
            ]
          },
          "metadata": {
            "tags": []
          }
        },
        {
          "output_type": "display_data",
          "data": {
            "text/html": [
              "<span style=\"color:cyan\"> |-values: [0.0, 0.1, 0.2, 0.3, 0.4, 0.5, 0.6, 0.7, 0.8, 0.9]</span>"
            ],
            "text/plain": [
              "<IPython.core.display.HTML object>"
            ]
          },
          "metadata": {
            "tags": []
          }
        },
        {
          "output_type": "stream",
          "text": [
            "INFO:tensorflow:Oracle triggered exit\n"
          ],
          "name": "stdout"
        }
      ]
    },
    {
      "cell_type": "code",
      "metadata": {
        "colab_type": "code",
        "id": "vqjRwy2-XBnp",
        "outputId": "29a6727b-91d4-4814-9f26-c6289e4d15d2",
        "colab": {
          "base_uri": "https://localhost:8080/",
          "height": 251
        }
      },
      "source": [
        "tuner_Hb.search_space_summary()\n"
      ],
      "execution_count": 0,
      "outputs": [
        {
          "output_type": "display_data",
          "data": {
            "text/html": [
              "<span style=\"color:#4527A0\"><h1 style=\"font-size:18px\">Search space summary</h1></span>"
            ],
            "text/plain": [
              "<IPython.core.display.HTML object>"
            ]
          },
          "metadata": {
            "tags": []
          }
        },
        {
          "output_type": "display_data",
          "data": {
            "text/html": [
              "<span style=\"color:cyan\"> |-Default search space size: 2</span>"
            ],
            "text/plain": [
              "<IPython.core.display.HTML object>"
            ]
          },
          "metadata": {
            "tags": []
          }
        },
        {
          "output_type": "display_data",
          "data": {
            "text/html": [
              "<span style=\"color:#7E57C2\"><h2 style=\"font-size:16px\">learning_rate (Choice)</h2></span>"
            ],
            "text/plain": [
              "<IPython.core.display.HTML object>"
            ]
          },
          "metadata": {
            "tags": []
          }
        },
        {
          "output_type": "display_data",
          "data": {
            "text/html": [
              "<span style=\"color:cyan\"> |-default: 0.01</span>"
            ],
            "text/plain": [
              "<IPython.core.display.HTML object>"
            ]
          },
          "metadata": {
            "tags": []
          }
        },
        {
          "output_type": "display_data",
          "data": {
            "text/html": [
              "<span style=\"color:blue\"> |-ordered: True</span>"
            ],
            "text/plain": [
              "<IPython.core.display.HTML object>"
            ]
          },
          "metadata": {
            "tags": []
          }
        },
        {
          "output_type": "display_data",
          "data": {
            "text/html": [
              "<span style=\"color:cyan\"> |-values: [0.01, 0.001, 0.0001]</span>"
            ],
            "text/plain": [
              "<IPython.core.display.HTML object>"
            ]
          },
          "metadata": {
            "tags": []
          }
        },
        {
          "output_type": "display_data",
          "data": {
            "text/html": [
              "<span style=\"color:#7E57C2\"><h2 style=\"font-size:16px\">momentum (Choice)</h2></span>"
            ],
            "text/plain": [
              "<IPython.core.display.HTML object>"
            ]
          },
          "metadata": {
            "tags": []
          }
        },
        {
          "output_type": "display_data",
          "data": {
            "text/html": [
              "<span style=\"color:cyan\"> |-default: 0.0</span>"
            ],
            "text/plain": [
              "<IPython.core.display.HTML object>"
            ]
          },
          "metadata": {
            "tags": []
          }
        },
        {
          "output_type": "display_data",
          "data": {
            "text/html": [
              "<span style=\"color:blue\"> |-ordered: True</span>"
            ],
            "text/plain": [
              "<IPython.core.display.HTML object>"
            ]
          },
          "metadata": {
            "tags": []
          }
        },
        {
          "output_type": "display_data",
          "data": {
            "text/html": [
              "<span style=\"color:cyan\"> |-values: [0.0, 0.1, 0.2, 0.3, 0.4, 0.5, 0.6, 0.7, 0.8, 0.9]</span>"
            ],
            "text/plain": [
              "<IPython.core.display.HTML object>"
            ]
          },
          "metadata": {
            "tags": []
          }
        }
      ]
    },
    {
      "cell_type": "code",
      "metadata": {
        "colab_type": "code",
        "id": "_UUX5RtoXBn1",
        "outputId": "68843680-2cd8-48c9-b451-39a552589470",
        "colab": {
          "base_uri": "https://localhost:8080/",
          "height": 264
        }
      },
      "source": [
        "tuner_Hb.results_summary()"
      ],
      "execution_count": 0,
      "outputs": [
        {
          "output_type": "display_data",
          "data": {
            "text/html": [
              "<span style=\"color:#4527A0\"><h1 style=\"font-size:18px\">Results summary</h1></span>"
            ],
            "text/plain": [
              "<IPython.core.display.HTML object>"
            ]
          },
          "metadata": {
            "tags": []
          }
        },
        {
          "output_type": "display_data",
          "data": {
            "text/html": [
              "<span style=\"color:cyan\"> |-Results in /content/my_dir/Hyperband</span>"
            ],
            "text/plain": [
              "<IPython.core.display.HTML object>"
            ]
          },
          "metadata": {
            "tags": []
          }
        },
        {
          "output_type": "display_data",
          "data": {
            "text/html": [
              "<span style=\"color:cyan\"> |-Showing 10 best trials</span>"
            ],
            "text/plain": [
              "<IPython.core.display.HTML object>"
            ]
          },
          "metadata": {
            "tags": []
          }
        },
        {
          "output_type": "display_data",
          "data": {
            "text/html": [
              "<span style=\"color:cyan\"> |-Objective: Objective(name='val_accuracy', direction='max') Score: 0.46666666865348816</span>"
            ],
            "text/plain": [
              "<IPython.core.display.HTML object>"
            ]
          },
          "metadata": {
            "tags": []
          }
        },
        {
          "output_type": "display_data",
          "data": {
            "text/html": [
              "<span style=\"color:cyan\"> |-Objective: Objective(name='val_accuracy', direction='max') Score: 0.4444444477558136</span>"
            ],
            "text/plain": [
              "<IPython.core.display.HTML object>"
            ]
          },
          "metadata": {
            "tags": []
          }
        },
        {
          "output_type": "display_data",
          "data": {
            "text/html": [
              "<span style=\"color:cyan\"> |-Objective: Objective(name='val_accuracy', direction='max') Score: 0.4444444477558136</span>"
            ],
            "text/plain": [
              "<IPython.core.display.HTML object>"
            ]
          },
          "metadata": {
            "tags": []
          }
        },
        {
          "output_type": "display_data",
          "data": {
            "text/html": [
              "<span style=\"color:cyan\"> |-Objective: Objective(name='val_accuracy', direction='max') Score: 0.4444444477558136</span>"
            ],
            "text/plain": [
              "<IPython.core.display.HTML object>"
            ]
          },
          "metadata": {
            "tags": []
          }
        },
        {
          "output_type": "display_data",
          "data": {
            "text/html": [
              "<span style=\"color:cyan\"> |-Objective: Objective(name='val_accuracy', direction='max') Score: 0.4444444477558136</span>"
            ],
            "text/plain": [
              "<IPython.core.display.HTML object>"
            ]
          },
          "metadata": {
            "tags": []
          }
        },
        {
          "output_type": "display_data",
          "data": {
            "text/html": [
              "<span style=\"color:cyan\"> |-Objective: Objective(name='val_accuracy', direction='max') Score: 0.42222222685813904</span>"
            ],
            "text/plain": [
              "<IPython.core.display.HTML object>"
            ]
          },
          "metadata": {
            "tags": []
          }
        },
        {
          "output_type": "display_data",
          "data": {
            "text/html": [
              "<span style=\"color:cyan\"> |-Objective: Objective(name='val_accuracy', direction='max') Score: 0.42222222685813904</span>"
            ],
            "text/plain": [
              "<IPython.core.display.HTML object>"
            ]
          },
          "metadata": {
            "tags": []
          }
        },
        {
          "output_type": "display_data",
          "data": {
            "text/html": [
              "<span style=\"color:cyan\"> |-Objective: Objective(name='val_accuracy', direction='max') Score: 0.42222222685813904</span>"
            ],
            "text/plain": [
              "<IPython.core.display.HTML object>"
            ]
          },
          "metadata": {
            "tags": []
          }
        },
        {
          "output_type": "display_data",
          "data": {
            "text/html": [
              "<span style=\"color:cyan\"> |-Objective: Objective(name='val_accuracy', direction='max') Score: 0.4000000059604645</span>"
            ],
            "text/plain": [
              "<IPython.core.display.HTML object>"
            ]
          },
          "metadata": {
            "tags": []
          }
        },
        {
          "output_type": "display_data",
          "data": {
            "text/html": [
              "<span style=\"color:cyan\"> |-Objective: Objective(name='val_accuracy', direction='max') Score: 0.4000000059604645</span>"
            ],
            "text/plain": [
              "<IPython.core.display.HTML object>"
            ]
          },
          "metadata": {
            "tags": []
          }
        }
      ]
    },
    {
      "cell_type": "code",
      "metadata": {
        "colab_type": "code",
        "id": "WRthq92vXBn_",
        "outputId": "aa8a611d-45e9-4522-a6ce-b340ae2c79a3",
        "colab": {
          "base_uri": "https://localhost:8080/",
          "height": 34
        }
      },
      "source": [
        "tuner_Hb.get_best_hyperparameters()"
      ],
      "execution_count": 0,
      "outputs": [
        {
          "output_type": "execute_result",
          "data": {
            "text/plain": [
              "[<kerastuner.engine.hyperparameters.HyperParameters at 0x7f8f4dfec0b8>]"
            ]
          },
          "metadata": {
            "tags": []
          },
          "execution_count": 332
        }
      ]
    },
    {
      "cell_type": "code",
      "metadata": {
        "colab_type": "code",
        "id": "ae2rJcH5XBoI",
        "outputId": "c9137185-6d40-42fa-b8be-418781bc51c2",
        "colab": {
          "base_uri": "https://localhost:8080/",
          "height": 139
        }
      },
      "source": [
        "tuner_Hb.oracle.get_best_trials(num_trials=1)[0].hyperparameters.values"
      ],
      "execution_count": 0,
      "outputs": [
        {
          "output_type": "execute_result",
          "data": {
            "text/plain": [
              "{'learning_rate': 0.0001,\n",
              " 'momentum': 0.6,\n",
              " 'tuner/bracket': 1,\n",
              " 'tuner/epochs': 10,\n",
              " 'tuner/initial_epoch': 4,\n",
              " 'tuner/round': 1,\n",
              " 'tuner/trial_id': '4e349724bda104be6a31348637cb1f4f'}"
            ]
          },
          "metadata": {
            "tags": []
          },
          "execution_count": 333
        }
      ]
    },
    {
      "cell_type": "code",
      "metadata": {
        "colab_type": "code",
        "id": "aadQC3H1XBoP",
        "colab": {}
      },
      "source": [
        "Hb_model = tuner_Hb.get_best_models()[0]"
      ],
      "execution_count": 0,
      "outputs": []
    },
    {
      "cell_type": "markdown",
      "metadata": {
        "id": "iGLjbAVQY1lV",
        "colab_type": "text"
      },
      "source": [
        "##Train the best model Hyperband"
      ]
    },
    {
      "cell_type": "code",
      "metadata": {
        "colab_type": "code",
        "id": "FgWiabCyY-lv",
        "outputId": "912a3349-d6c9-4028-a31e-e4e1859b9c55",
        "colab": {
          "base_uri": "https://localhost:8080/",
          "height": 1000
        }
      },
      "source": [
        "#num_epochs = 50\n",
        "\n",
        "all_acc_histories_Hb = []\n",
        "all_loss_histories_Hb = []\n",
        "all_val_acc_histories_Hb = []\n",
        "all_val_loss_histories_Hb = []\n",
        "\n",
        "for train_index, val_index in skf.split(train_data_stand_pca, train_labels_dec):\n",
        " \n",
        "  partial_train_data = np.array([train_data_stand_pca[i] for i in train_index])\n",
        "  partial_train_targets = np.array([train_labels_dec[i] for i in train_index])\n",
        "  \n",
        "  val_data = np.array([train_data_stand_pca[i] for i in val_index])\n",
        "  val_targets = np.array([train_labels_dec[i] for i in val_index])\n",
        "\n",
        "  one_hot_partial_train_targets = to_categorical(partial_train_targets)\n",
        "  one_hot_val_targets = to_categorical(val_targets)\n",
        "\n",
        "  history_Hb = Hb_model.fit(partial_train_data, one_hot_partial_train_targets, validation_data=(val_data, one_hot_val_targets), \n",
        "                      epochs=num_epochs, batch_size=10)\n",
        "  \n",
        "  acc_history_Hb = history_Hb.history['accuracy']\n",
        "  all_acc_histories_Hb.append(acc_history_Hb)\n",
        "\n",
        "  loss_history_Hb = history_Hb.history['loss']\n",
        "  all_loss_histories_Hb.append(loss_history_Hb)\n",
        "\n",
        "  acc_val_history_Hb = history_Hb.history['val_accuracy']\n",
        "  all_val_acc_histories_Hb.append(acc_val_history_Hb)\n",
        "\n",
        "  loss_val_history_Hb = history_Hb.history['val_loss']\n",
        "  all_val_loss_histories_Hb.append(loss_val_history_Hb)\n",
        "   \n",
        "\n",
        "#I parametri per la valutazione vengono calcolati per ogni epoca, quindi num_epochs volte. \n",
        "#Il tutto viene ripetuto un numero di volte pari a n_splits.\n",
        "#Si ottiene una lista con n_splits elementi ciascuno dei quali è una lista lunga num_epochs,\n",
        "#ogni elemento può essere uno fra questi: dict_keys(['val_loss', 'val_acc', 'loss', 'acc']) "
      ],
      "execution_count": 0,
      "outputs": [
        {
          "output_type": "stream",
          "text": [
            "Train on 86 samples, validate on 45 samples\n",
            "Epoch 1/20\n",
            "86/86 [==============================] - 0s 4ms/sample - loss: 3.3030 - accuracy: 0.4070 - val_loss: 1.8963 - val_accuracy: 0.4667\n",
            "Epoch 2/20\n",
            "86/86 [==============================] - 0s 425us/sample - loss: 3.2623 - accuracy: 0.4070 - val_loss: 1.8773 - val_accuracy: 0.4444\n",
            "Epoch 3/20\n",
            "86/86 [==============================] - 0s 409us/sample - loss: 3.2212 - accuracy: 0.4070 - val_loss: 1.8589 - val_accuracy: 0.4444\n",
            "Epoch 4/20\n",
            "86/86 [==============================] - 0s 422us/sample - loss: 3.1805 - accuracy: 0.4070 - val_loss: 1.8391 - val_accuracy: 0.4444\n",
            "Epoch 5/20\n",
            "86/86 [==============================] - 0s 417us/sample - loss: 3.1394 - accuracy: 0.4070 - val_loss: 1.8200 - val_accuracy: 0.4222\n",
            "Epoch 6/20\n",
            "86/86 [==============================] - 0s 395us/sample - loss: 3.1006 - accuracy: 0.4070 - val_loss: 1.8011 - val_accuracy: 0.4222\n",
            "Epoch 7/20\n",
            "86/86 [==============================] - 0s 415us/sample - loss: 3.0609 - accuracy: 0.4070 - val_loss: 1.7836 - val_accuracy: 0.4222\n",
            "Epoch 8/20\n",
            "86/86 [==============================] - 0s 420us/sample - loss: 3.0230 - accuracy: 0.3953 - val_loss: 1.7650 - val_accuracy: 0.4222\n",
            "Epoch 9/20\n",
            "86/86 [==============================] - 0s 403us/sample - loss: 2.9856 - accuracy: 0.3953 - val_loss: 1.7477 - val_accuracy: 0.4000\n",
            "Epoch 10/20\n",
            "86/86 [==============================] - 0s 408us/sample - loss: 2.9493 - accuracy: 0.3953 - val_loss: 1.7320 - val_accuracy: 0.4000\n",
            "Epoch 11/20\n",
            "86/86 [==============================] - 0s 430us/sample - loss: 2.9137 - accuracy: 0.3953 - val_loss: 1.7140 - val_accuracy: 0.4000\n",
            "Epoch 12/20\n",
            "86/86 [==============================] - 0s 401us/sample - loss: 2.8785 - accuracy: 0.3953 - val_loss: 1.6976 - val_accuracy: 0.4000\n",
            "Epoch 13/20\n",
            "86/86 [==============================] - 0s 428us/sample - loss: 2.8440 - accuracy: 0.3953 - val_loss: 1.6824 - val_accuracy: 0.4000\n",
            "Epoch 14/20\n",
            "86/86 [==============================] - 0s 406us/sample - loss: 2.8110 - accuracy: 0.3953 - val_loss: 1.6681 - val_accuracy: 0.4000\n",
            "Epoch 15/20\n",
            "86/86 [==============================] - 0s 419us/sample - loss: 2.7779 - accuracy: 0.3953 - val_loss: 1.6519 - val_accuracy: 0.4000\n",
            "Epoch 16/20\n",
            "86/86 [==============================] - 0s 514us/sample - loss: 2.7445 - accuracy: 0.3953 - val_loss: 1.6380 - val_accuracy: 0.4000\n",
            "Epoch 17/20\n",
            "86/86 [==============================] - 0s 605us/sample - loss: 2.7124 - accuracy: 0.3953 - val_loss: 1.6233 - val_accuracy: 0.3778\n",
            "Epoch 18/20\n",
            "86/86 [==============================] - 0s 449us/sample - loss: 2.6807 - accuracy: 0.3953 - val_loss: 1.6085 - val_accuracy: 0.3778\n",
            "Epoch 19/20\n",
            "86/86 [==============================] - 0s 391us/sample - loss: 2.6489 - accuracy: 0.3953 - val_loss: 1.5951 - val_accuracy: 0.3778\n",
            "Epoch 20/20\n",
            "86/86 [==============================] - 0s 440us/sample - loss: 2.6186 - accuracy: 0.3837 - val_loss: 1.5805 - val_accuracy: 0.3778\n",
            "Train on 88 samples, validate on 43 samples\n",
            "Epoch 1/20\n",
            "88/88 [==============================] - 0s 410us/sample - loss: 1.9099 - accuracy: 0.4091 - val_loss: 2.9080 - val_accuracy: 0.3256\n",
            "Epoch 2/20\n",
            "88/88 [==============================] - 0s 435us/sample - loss: 1.8963 - accuracy: 0.4091 - val_loss: 2.8865 - val_accuracy: 0.3256\n",
            "Epoch 3/20\n",
            "88/88 [==============================] - 0s 468us/sample - loss: 1.8827 - accuracy: 0.4091 - val_loss: 2.8666 - val_accuracy: 0.3256\n",
            "Epoch 4/20\n",
            "88/88 [==============================] - 0s 428us/sample - loss: 1.8698 - accuracy: 0.4091 - val_loss: 2.8443 - val_accuracy: 0.3256\n",
            "Epoch 5/20\n",
            "88/88 [==============================] - 0s 395us/sample - loss: 1.8570 - accuracy: 0.4091 - val_loss: 2.8247 - val_accuracy: 0.3256\n",
            "Epoch 6/20\n",
            "88/88 [==============================] - 0s 389us/sample - loss: 1.8437 - accuracy: 0.4091 - val_loss: 2.8030 - val_accuracy: 0.3256\n",
            "Epoch 7/20\n",
            "88/88 [==============================] - 0s 391us/sample - loss: 1.8315 - accuracy: 0.4318 - val_loss: 2.7802 - val_accuracy: 0.3256\n",
            "Epoch 8/20\n",
            "88/88 [==============================] - 0s 409us/sample - loss: 1.8176 - accuracy: 0.4432 - val_loss: 2.7622 - val_accuracy: 0.3256\n",
            "Epoch 9/20\n",
            "88/88 [==============================] - 0s 419us/sample - loss: 1.8056 - accuracy: 0.4432 - val_loss: 2.7414 - val_accuracy: 0.3256\n",
            "Epoch 10/20\n",
            "88/88 [==============================] - 0s 405us/sample - loss: 1.7931 - accuracy: 0.4432 - val_loss: 2.7220 - val_accuracy: 0.3256\n",
            "Epoch 11/20\n",
            "88/88 [==============================] - 0s 407us/sample - loss: 1.7810 - accuracy: 0.4432 - val_loss: 2.7030 - val_accuracy: 0.3256\n",
            "Epoch 12/20\n",
            "88/88 [==============================] - 0s 408us/sample - loss: 1.7688 - accuracy: 0.4545 - val_loss: 2.6822 - val_accuracy: 0.3256\n",
            "Epoch 13/20\n",
            "88/88 [==============================] - 0s 359us/sample - loss: 1.7569 - accuracy: 0.4545 - val_loss: 2.6628 - val_accuracy: 0.3256\n",
            "Epoch 14/20\n",
            "88/88 [==============================] - 0s 386us/sample - loss: 1.7452 - accuracy: 0.4545 - val_loss: 2.6438 - val_accuracy: 0.3256\n",
            "Epoch 15/20\n",
            "88/88 [==============================] - 0s 397us/sample - loss: 1.7333 - accuracy: 0.4545 - val_loss: 2.6255 - val_accuracy: 0.3256\n",
            "Epoch 16/20\n",
            "88/88 [==============================] - 0s 426us/sample - loss: 1.7216 - accuracy: 0.4545 - val_loss: 2.6063 - val_accuracy: 0.3256\n",
            "Epoch 17/20\n",
            "88/88 [==============================] - 0s 612us/sample - loss: 1.7104 - accuracy: 0.4545 - val_loss: 2.5876 - val_accuracy: 0.3256\n",
            "Epoch 18/20\n",
            "88/88 [==============================] - 0s 600us/sample - loss: 1.6993 - accuracy: 0.4545 - val_loss: 2.5697 - val_accuracy: 0.3256\n",
            "Epoch 19/20\n",
            "88/88 [==============================] - 0s 428us/sample - loss: 1.6880 - accuracy: 0.4545 - val_loss: 2.5520 - val_accuracy: 0.3256\n",
            "Epoch 20/20\n",
            "88/88 [==============================] - 0s 560us/sample - loss: 1.6773 - accuracy: 0.4545 - val_loss: 2.5345 - val_accuracy: 0.3256\n",
            "Train on 88 samples, validate on 43 samples\n",
            "Epoch 1/20\n",
            "88/88 [==============================] - 0s 460us/sample - loss: 1.9516 - accuracy: 0.3864 - val_loss: 1.9317 - val_accuracy: 0.4651\n",
            "Epoch 2/20\n",
            "88/88 [==============================] - 0s 377us/sample - loss: 1.9356 - accuracy: 0.3864 - val_loss: 1.9164 - val_accuracy: 0.4651\n",
            "Epoch 3/20\n",
            "88/88 [==============================] - 0s 440us/sample - loss: 1.9210 - accuracy: 0.3864 - val_loss: 1.8993 - val_accuracy: 0.4651\n",
            "Epoch 4/20\n",
            "88/88 [==============================] - 0s 415us/sample - loss: 1.9055 - accuracy: 0.3864 - val_loss: 1.8848 - val_accuracy: 0.4651\n",
            "Epoch 5/20\n",
            "88/88 [==============================] - 0s 418us/sample - loss: 1.8910 - accuracy: 0.3864 - val_loss: 1.8699 - val_accuracy: 0.4651\n",
            "Epoch 6/20\n",
            "88/88 [==============================] - 0s 414us/sample - loss: 1.8765 - accuracy: 0.3864 - val_loss: 1.8562 - val_accuracy: 0.4651\n",
            "Epoch 7/20\n",
            "88/88 [==============================] - 0s 399us/sample - loss: 1.8626 - accuracy: 0.3864 - val_loss: 1.8404 - val_accuracy: 0.4651\n",
            "Epoch 8/20\n",
            "88/88 [==============================] - 0s 361us/sample - loss: 1.8483 - accuracy: 0.3864 - val_loss: 1.8263 - val_accuracy: 0.4651\n",
            "Epoch 9/20\n",
            "88/88 [==============================] - 0s 419us/sample - loss: 1.8347 - accuracy: 0.3977 - val_loss: 1.8131 - val_accuracy: 0.4651\n",
            "Epoch 10/20\n",
            "88/88 [==============================] - 0s 397us/sample - loss: 1.8212 - accuracy: 0.3977 - val_loss: 1.7992 - val_accuracy: 0.4651\n",
            "Epoch 11/20\n",
            "88/88 [==============================] - 0s 392us/sample - loss: 1.8078 - accuracy: 0.3977 - val_loss: 1.7857 - val_accuracy: 0.4651\n",
            "Epoch 12/20\n",
            "88/88 [==============================] - 0s 375us/sample - loss: 1.7951 - accuracy: 0.3977 - val_loss: 1.7712 - val_accuracy: 0.4651\n",
            "Epoch 13/20\n",
            "88/88 [==============================] - 0s 387us/sample - loss: 1.7824 - accuracy: 0.3977 - val_loss: 1.7596 - val_accuracy: 0.4651\n",
            "Epoch 14/20\n",
            "88/88 [==============================] - 0s 393us/sample - loss: 1.7704 - accuracy: 0.3977 - val_loss: 1.7460 - val_accuracy: 0.4651\n",
            "Epoch 15/20\n",
            "88/88 [==============================] - 0s 380us/sample - loss: 1.7575 - accuracy: 0.3977 - val_loss: 1.7336 - val_accuracy: 0.4651\n",
            "Epoch 16/20\n",
            "88/88 [==============================] - 0s 399us/sample - loss: 1.7456 - accuracy: 0.3977 - val_loss: 1.7211 - val_accuracy: 0.4651\n",
            "Epoch 17/20\n",
            "88/88 [==============================] - 0s 360us/sample - loss: 1.7339 - accuracy: 0.3977 - val_loss: 1.7080 - val_accuracy: 0.4651\n",
            "Epoch 18/20\n",
            "88/88 [==============================] - 0s 379us/sample - loss: 1.7224 - accuracy: 0.3977 - val_loss: 1.6961 - val_accuracy: 0.4651\n",
            "Epoch 19/20\n",
            "88/88 [==============================] - 0s 403us/sample - loss: 1.7113 - accuracy: 0.3977 - val_loss: 1.6839 - val_accuracy: 0.4651\n",
            "Epoch 20/20\n",
            "88/88 [==============================] - 0s 388us/sample - loss: 1.6999 - accuracy: 0.3977 - val_loss: 1.6730 - val_accuracy: 0.4651\n"
          ],
          "name": "stdout"
        }
      ]
    },
    {
      "cell_type": "markdown",
      "metadata": {
        "id": "1iD8K8B-YVrY",
        "colab_type": "text"
      },
      "source": [
        "#Plot RandomSearch"
      ]
    },
    {
      "cell_type": "markdown",
      "metadata": {
        "id": "B9UhSxIaHtuO",
        "colab_type": "text"
      },
      "source": [
        "##Plotting training and validation loss RandomSearch\n",
        "\n",
        "---\n",
        "\n"
      ]
    },
    {
      "cell_type": "code",
      "metadata": {
        "id": "pCojVvpMio1W",
        "colab_type": "code",
        "colab": {}
      },
      "source": [
        "#num_epochs=50"
      ],
      "execution_count": 0,
      "outputs": []
    },
    {
      "cell_type": "code",
      "metadata": {
        "id": "vq6zsienD5ct",
        "colab_type": "code",
        "colab": {}
      },
      "source": [
        "import matplotlib.pyplot as plt"
      ],
      "execution_count": 0,
      "outputs": []
    },
    {
      "cell_type": "code",
      "metadata": {
        "id": "XJizyjnaIPhQ",
        "colab_type": "code",
        "colab": {}
      },
      "source": [
        "epochs = range(1, num_epochs+1)"
      ],
      "execution_count": 0,
      "outputs": []
    },
    {
      "cell_type": "code",
      "metadata": {
        "id": "HpKE3iTJBHzO",
        "colab_type": "code",
        "colab": {}
      },
      "source": [
        "average_acc_history_RS = [np.mean([x[i] for x in all_acc_histories_RS]) for i in range(num_epochs)]\n",
        "average_loss_history_RS = [np.mean([x[i] for x in all_loss_histories_RS]) for i in range(num_epochs)]\n",
        "average_val_acc_history_RS = [np.mean([x[i] for x in all_val_acc_histories_RS]) for i in range(num_epochs)]\n",
        "average_val_loss_history_RS = [np.mean([x[i] for x in all_val_loss_histories_RS]) for i in range(num_epochs)]\n",
        "#media per epoca degli score ottenuti per tutte le k-fold\n",
        "#per ogni k-fold di fanno num_epoch epoche, la media viene fatta prendendo gli score di tutti i k-fold relativi ad una data epoca,\n",
        "#e si fa questo per tutte le epoche"
      ],
      "execution_count": 0,
      "outputs": []
    },
    {
      "cell_type": "code",
      "metadata": {
        "id": "HfEHEYLgIQUQ",
        "colab_type": "code",
        "outputId": "bf288505-9a2f-41ad-824a-351ada24fca1",
        "colab": {
          "base_uri": "https://localhost:8080/",
          "height": 312
        }
      },
      "source": [
        "plt.plot(epochs, average_loss_history_RS, 'b', label='training loss')\n",
        "plt.plot(epochs, average_val_loss_history_RS, 'r', label='validation loss')\n",
        "plt.title('Training and validation loss')\n",
        "plt.xlabel('Epochs')\n",
        "plt.ylabel('Loss')\n",
        "plt.legend()"
      ],
      "execution_count": 0,
      "outputs": [
        {
          "output_type": "execute_result",
          "data": {
            "text/plain": [
              "<matplotlib.legend.Legend at 0x7f8f508b5c50>"
            ]
          },
          "metadata": {
            "tags": []
          },
          "execution_count": 340
        },
        {
          "output_type": "display_data",
          "data": {
            "image/png": "[encoded data removed]",
            "text/plain": [
              "<Figure size 432x288 with 1 Axes>"
            ]
          },
          "metadata": {
            "tags": []
          }
        }
      ]
    },
    {
      "cell_type": "markdown",
      "metadata": {
        "id": "Aoc4wMjfI97j",
        "colab_type": "text"
      },
      "source": [
        "##Plotting train and validation accuracy RandomSearch"
      ]
    },
    {
      "cell_type": "code",
      "metadata": {
        "id": "GZi7VzbFIbtJ",
        "colab_type": "code",
        "outputId": "d561c6b2-db92-4c4a-a52d-00017024c855",
        "colab": {
          "base_uri": "https://localhost:8080/",
          "height": 312
        }
      },
      "source": [
        "plt.plot(epochs, average_acc_history_RS, 'b', label='Training accuracy')\n",
        "plt.plot(epochs, average_val_acc_history_RS, 'r', label='Validation accuracy')\n",
        "plt.title('Training and validation accuracy')\n",
        "plt.xlabel('Epochs')\n",
        "plt.ylabel('Accuracy')\n",
        "plt.legend() "
      ],
      "execution_count": 0,
      "outputs": [
        {
          "output_type": "execute_result",
          "data": {
            "text/plain": [
              "<matplotlib.legend.Legend at 0x7f8f517f6160>"
            ]
          },
          "metadata": {
            "tags": []
          },
          "execution_count": 341
        },
        {
          "output_type": "display_data",
          "data": {
            "image/png": "[encoded data removed]",
            "text/plain": [
              "<Figure size 432x288 with 1 Axes>"
            ]
          },
          "metadata": {
            "tags": []
          }
        }
      ]
    },
    {
      "cell_type": "markdown",
      "metadata": {
        "colab_type": "text",
        "id": "nQrLrLGyYchY"
      },
      "source": [
        "#Plot Hyperband"
      ]
    },
    {
      "cell_type": "markdown",
      "metadata": {
        "colab_type": "text",
        "id": "9-p7YGD3Yche"
      },
      "source": [
        "##Plotting training and validation loss Hyperband\n",
        "\n",
        "---\n",
        "\n"
      ]
    },
    {
      "cell_type": "code",
      "metadata": {
        "colab_type": "code",
        "id": "3jtkKxyKYchi",
        "colab": {}
      },
      "source": [
        "import matplotlib.pyplot as plt"
      ],
      "execution_count": 0,
      "outputs": []
    },
    {
      "cell_type": "code",
      "metadata": {
        "colab_type": "code",
        "id": "s67Cr34jYchu",
        "colab": {}
      },
      "source": [
        "epochs = range(1, num_epochs+1)"
      ],
      "execution_count": 0,
      "outputs": []
    },
    {
      "cell_type": "code",
      "metadata": {
        "colab_type": "code",
        "id": "SnVuSzihYch3",
        "colab": {}
      },
      "source": [
        "average_acc_history_Hb = [np.mean([x[i] for x in all_acc_histories_Hb]) for i in range(num_epochs)]\n",
        "average_loss_history_Hb = [np.mean([x[i] for x in all_loss_histories_Hb]) for i in range(num_epochs)]\n",
        "average_val_acc_history_Hb = [np.mean([x[i] for x in all_val_acc_histories_Hb]) for i in range(num_epochs)]\n",
        "average_val_loss_history_Hb = [np.mean([x[i] for x in all_val_loss_histories_Hb]) for i in range(num_epochs)]\n",
        "#media per epoca degli score ottenuti per tutte le k-fold\n",
        "#per ogni k-fold di fanno num_epoch epoche, la media viene fatta prendendo gli score di tutti i k-fold relativi ad una data epoca,\n",
        "#e si fa questo per tutte le epoche"
      ],
      "execution_count": 0,
      "outputs": []
    },
    {
      "cell_type": "code",
      "metadata": {
        "colab_type": "code",
        "id": "A1MpsKxZYch_",
        "outputId": "f2b38bd1-6e88-4953-9933-9cffe0e19eb9",
        "colab": {
          "base_uri": "https://localhost:8080/",
          "height": 312
        }
      },
      "source": [
        "plt.plot(epochs, average_loss_history_Hb, 'b', label='training loss')\n",
        "plt.plot(epochs, average_val_loss_history_Hb, 'r', label='validation loss')\n",
        "plt.title('Training and validation loss')\n",
        "plt.xlabel('Epochs')\n",
        "plt.ylabel('Loss')\n",
        "plt.legend()"
      ],
      "execution_count": 0,
      "outputs": [
        {
          "output_type": "execute_result",
          "data": {
            "text/plain": [
              "<matplotlib.legend.Legend at 0x7f8f517e8f98>"
            ]
          },
          "metadata": {
            "tags": []
          },
          "execution_count": 345
        },
        {
          "output_type": "display_data",
          "data": {
            "image/png": "[encoded data removed]",
            "text/plain": [
              "<Figure size 432x288 with 1 Axes>"
            ]
          },
          "metadata": {
            "tags": []
          }
        }
      ]
    },
    {
      "cell_type": "markdown",
      "metadata": {
        "colab_type": "text",
        "id": "8khNsNgLYciG"
      },
      "source": [
        "##Plotting train and validation accuracy Hyperband"
      ]
    },
    {
      "cell_type": "code",
      "metadata": {
        "colab_type": "code",
        "id": "S0qjy2h6YciK",
        "outputId": "25ceb192-ac03-471f-fd19-5e099159348d",
        "colab": {
          "base_uri": "https://localhost:8080/",
          "height": 312
        }
      },
      "source": [
        "plt.plot(epochs, average_acc_history_Hb, 'b', label='Training accuracy')\n",
        "plt.plot(epochs, average_val_acc_history_Hb, 'r', label='Validation accuracy')\n",
        "plt.title('Training and validation accuracy')\n",
        "plt.xlabel('Epochs')\n",
        "plt.ylabel('Accuracy')\n",
        "plt.legend() "
      ],
      "execution_count": 0,
      "outputs": [
        {
          "output_type": "execute_result",
          "data": {
            "text/plain": [
              "<matplotlib.legend.Legend at 0x7f8f50764f28>"
            ]
          },
          "metadata": {
            "tags": []
          },
          "execution_count": 346
        },
        {
          "output_type": "display_data",
          "data": {
            "image/png": "[encoded data removed]",
            "text/plain": [
              "<Figure size 432x288 with 1 Axes>"
            ]
          },
          "metadata": {
            "tags": []
          }
        }
      ]
    }
  ]
}