{
  "nbformat": 4,
  "nbformat_minor": 0,
  "metadata": {
    "colab": {
      "name": "Classification.ipynb",
      "provenance": [],
      "toc_visible": true,
      "include_colab_link": true
    },
    "kernelspec": {
      "name": "python3",
      "display_name": "Python 3"
    }
  },
  "cells": [
    {
      "cell_type": "markdown",
      "metadata": {
        "id": "view-in-github",
        "colab_type": "text"
      },
      "source": [
        "<a href=\"https://colab.research.google.com/github/leonardoub/SCRIPT_PALERMO/blob/master/classification/Classification.ipynb\" target=\"_parent\"><img src=\"https://colab.research.google.com/assets/colab-badge.svg\" alt=\"Open In Colab\"/></a>"
      ]
    },
    {
      "cell_type": "code",
      "metadata": {
        "id": "N2XRX3Ti2yYd",
        "colab_type": "code",
        "colab": {}
      },
      "source": [
        "import pandas as pd\n",
        "import numpy as np\n",
        "import matplotlib.pyplot as plt\n",
        "import scipy"
      ],
      "execution_count": 0,
      "outputs": []
    },
    {
      "cell_type": "code",
      "metadata": {
        "id": "MIx2TSETb1Vz",
        "colab_type": "code",
        "colab": {}
      },
      "source": [
        "from sklearn.decomposition import PCA\n",
        "from sklearn.discriminant_analysis import LinearDiscriminantAnalysis"
      ],
      "execution_count": 0,
      "outputs": []
    },
    {
      "cell_type": "markdown",
      "metadata": {
        "id": "hQWUOicV8k4N",
        "colab_type": "text"
      },
      "source": [
        "#def learning curve"
      ]
    },
    {
      "cell_type": "code",
      "metadata": {
        "id": "orT8tSbs8keb",
        "colab_type": "code",
        "outputId": "bed0caeb-83ce-4bb8-c46e-4c887eb43bd0",
        "colab": {
          "base_uri": "https://localhost:8080/",
          "height": 34
        }
      },
      "source": [
        "print(__doc__)\n",
        "\n",
        "import numpy as npù\n",
        "import matplotlib.pyplot as plt\n",
        "from sklearn.naive_bayes import GaussianNB\n",
        "from sklearn.svm import SVC\n",
        "from sklearn.datasets import load_digits\n",
        "from sklearn.model_selection import learning_curve\n",
        "from sklearn.model_selection import ShuffleSplit\n",
        "\n",
        "\n",
        "def plot_learning_curve(estimator, title, X, y, axes=None, ylim=None, cv=None,\n",
        "                        n_jobs=None, train_sizes=np.linspace(.1, 1.0, 5)):\n",
        "    \"\"\"\n",
        "    Generate 3 plots: the test and training learning curve, the training\n",
        "    samples vs fit times curve, the fit times vs score curve.\n",
        "\n",
        "    Parameters\n",
        "    ----------\n",
        "    estimator : object type that implements the \"fit\" and \"predict\" methods\n",
        "        An object of that type which is cloned for each validation.\n",
        "\n",
        "    title : string\n",
        "        Title for the chart.\n",
        "\n",
        "    X : array-like, shape (n_samples, n_features)\n",
        "        Training vector, where n_samples is the number of samples and\n",
        "        n_features is the number of features.\n",
        "\n",
        "    y : array-like, shape (n_samples) or (n_samples, n_features), optional\n",
        "        Target relative to X for classification or regression;\n",
        "        None for unsupervised learning.\n",
        "\n",
        "    axes : array of 3 axes, optional (default=None)\n",
        "        Axes to use for plotting the curves.\n",
        "\n",
        "    ylim : tuple, shape (ymin, ymax), optional\n",
        "        Defines minimum and maximum yvalues plotted.\n",
        "\n",
        "    cv : int, cross-validation generator or an iterable, optional\n",
        "        Determines the cross-validation splitting strategy.\n",
        "        Possible inputs for cv are:\n",
        "          - None, to use the default 5-fold cross-validation,\n",
        "          - integer, to specify the number of folds.\n",
        "          - :term:`CV splitter`,\n",
        "          - An iterable yielding (train, test) splits as arrays of indices.\n",
        "\n",
        "        For integer/None inputs, if ``y`` is binary or multiclass,\n",
        "        :class:`StratifiedKFold` used. If the estimator is not a classifier\n",
        "        or if ``y`` is neither binary nor multiclass, :class:`KFold` is used.\n",
        "\n",
        "        Refer :ref:`User Guide <cross_validation>` for the various\n",
        "        cross-validators that can be used here.\n",
        "\n",
        "    n_jobs : int or None, optional (default=None)\n",
        "        Number of jobs to run in parallel.\n",
        "        ``None`` means 1 unless in a :obj:`joblib.parallel_backend` context.\n",
        "        ``-1`` means using all processors. See :term:`Glossary <n_jobs>`\n",
        "        for more details.\n",
        "\n",
        "    train_sizes : array-like, shape (n_ticks,), dtype float or int\n",
        "        Relative or absolute numbers of training examples that will be used to\n",
        "        generate the learning curve. If the dtype is float, it is regarded as a\n",
        "        fraction of the maximum size of the training set (that is determined\n",
        "        by the selected validation method), i.e. it has to be within (0, 1].\n",
        "        Otherwise it is interpreted as absolute sizes of the training sets.\n",
        "        Note that for classification the number of samples usually have to\n",
        "        be big enough to contain at least one sample from each class.\n",
        "        (default: np.linspace(0.1, 1.0, 5))\n",
        "    \"\"\"\n",
        "    if axes is None:\n",
        "        _, axes = plt.subplots(1, 3, figsize=(20, 5))\n",
        "\n",
        "    axes[0].set_title(title)\n",
        "    if ylim is not None:\n",
        "        axes[0].set_ylim(*ylim)\n",
        "    axes[0].set_xlabel(\"Training examples\")\n",
        "    axes[0].set_ylabel(\"Score\")\n",
        "\n",
        "    train_sizes, train_scores, test_scores, fit_times, _ = \\\n",
        "        learning_curve(estimator, X, y, cv=cv, n_jobs=n_jobs,\n",
        "                       train_sizes=train_sizes,\n",
        "                       return_times=True)\n",
        "    train_scores_mean = np.mean(train_scores, axis=1)\n",
        "    train_scores_std = np.std(train_scores, axis=1)\n",
        "    test_scores_mean = np.mean(test_scores, axis=1)\n",
        "    test_scores_std = np.std(test_scores, axis=1)\n",
        "    fit_times_mean = np.mean(fit_times, axis=1)\n",
        "    fit_times_std = np.std(fit_times, axis=1)\n",
        "\n",
        "    # Plot learning curve\n",
        "    axes[0].grid()\n",
        "    axes[0].fill_between(train_sizes, train_scores_mean - train_scores_std,\n",
        "                         train_scores_mean + train_scores_std, alpha=0.1,\n",
        "                         color=\"r\")\n",
        "    axes[0].fill_between(train_sizes, test_scores_mean - test_scores_std,\n",
        "                         test_scores_mean + test_scores_std, alpha=0.1,\n",
        "                         color=\"g\")\n",
        "    axes[0].plot(train_sizes, train_scores_mean, 'o-', color=\"r\",\n",
        "                 label=\"Training score\")\n",
        "    axes[0].plot(train_sizes, test_scores_mean, 'o-', color=\"g\",\n",
        "                 label=\"Cross-validation score\")\n",
        "    axes[0].legend(loc=\"best\")\n",
        "\n",
        "    # Plot n_samples vs fit_times\n",
        "    axes[1].grid()\n",
        "    axes[1].plot(train_sizes, fit_times_mean, 'o-')\n",
        "    axes[1].fill_between(train_sizes, fit_times_mean - fit_times_std,\n",
        "                         fit_times_mean + fit_times_std, alpha=0.1)\n",
        "    axes[1].set_xlabel(\"Training examples\")\n",
        "    axes[1].set_ylabel(\"fit_times\")\n",
        "    axes[1].set_title(\"Scalability of the model\")\n",
        "\n",
        "    # Plot fit_time vs score\n",
        "    axes[2].grid()\n",
        "    axes[2].plot(fit_times_mean, test_scores_mean, 'o-')\n",
        "    axes[2].fill_between(fit_times_mean, test_scores_mean - test_scores_std,\n",
        "                         test_scores_mean + test_scores_std, alpha=0.1)\n",
        "    axes[2].set_xlabel(\"fit_times\")\n",
        "    axes[2].set_ylabel(\"Score\")\n",
        "    axes[2].set_title(\"Performance of the model\")\n",
        "\n",
        "    return plt\n"
      ],
      "execution_count": 2,
      "outputs": [
        {
          "output_type": "stream",
          "text": [
            "Automatically created module for IPython interactive environment\n"
          ],
          "name": "stdout"
        }
      ]
    },
    {
      "cell_type": "markdown",
      "metadata": {
        "id": "_DME-inQ4ke_",
        "colab_type": "text"
      },
      "source": [
        "#Load data"
      ]
    },
    {
      "cell_type": "code",
      "metadata": {
        "id": "7Hq45TSf3WcR",
        "colab_type": "code",
        "outputId": "b4360693-4813-42ca-b902-d7b2f3dd35ff",
        "colab": {
          "base_uri": "https://localhost:8080/",
          "height": 141
        }
      },
      "source": [
        "#load data from Drive\n",
        "from google.colab import drive\n",
        "drive.mount('/gdrive')\n",
        "%cd /gdrive"
      ],
      "execution_count": 5,
      "outputs": [
        {
          "output_type": "stream",
          "text": [
            "Go to this URL in a browser: https://accounts.google.com/o/oauth2/auth?client_id=947318989803-6bn6qk8qdgf4n4g3pfee6491hc0brc4i.apps.googleusercontent.com&redirect_uri=urn%3aietf%3awg%3aoauth%3a2.0%3aoob&response_type=code&scope=email%20https%3a%2f%2fwww.googleapis.com%2fauth%2fdocs.test%20https%3a%2f%2fwww.googleapis.com%2fauth%2fdrive%20https%3a%2f%2fwww.googleapis.com%2fauth%2fdrive.photos.readonly%20https%3a%2f%2fwww.googleapis.com%2fauth%2fpeopleapi.readonly\n",
            "\n",
            "Enter your authorization code:\n",
            "··········\n",
            "Mounted at /gdrive\n",
            "/gdrive\n"
          ],
          "name": "stdout"
        }
      ]
    },
    {
      "cell_type": "code",
      "metadata": {
        "id": "UCkUXesZhMzg",
        "colab_type": "code",
        "colab": {}
      },
      "source": [
        "train_dataset_path = '/gdrive/My Drive/AIM_PA/database_training2.csv'\n",
        "test_dataset_path = '/gdrive/My Drive/AIM_PA/database_nostro_without_nan.csv'"
      ],
      "execution_count": 0,
      "outputs": []
    },
    {
      "cell_type": "code",
      "metadata": {
        "id": "TczPxOpEhTXw",
        "colab_type": "code",
        "colab": {}
      },
      "source": [
        "df_train = pd.read_csv(train_dataset_path)\n",
        "df_test = pd.read_csv(test_dataset_path)"
      ],
      "execution_count": 0,
      "outputs": []
    },
    {
      "cell_type": "code",
      "metadata": {
        "id": "9I5MNxeW3j2G",
        "colab_type": "code",
        "colab": {}
      },
      "source": [
        "df_train.rename(columns={'Survival.time (months)':'Surv_time_months'}, inplace=True)"
      ],
      "execution_count": 0,
      "outputs": []
    },
    {
      "cell_type": "code",
      "metadata": {
        "id": "TLxDyFPo3sU9",
        "colab_type": "code",
        "colab": {}
      },
      "source": [
        "df_test.rename(columns={'Survival.time (months)':'Surv_time_months'}, inplace=True)"
      ],
      "execution_count": 0,
      "outputs": []
    },
    {
      "cell_type": "code",
      "metadata": {
        "id": "oXU_B2k03uYa",
        "colab_type": "code",
        "colab": {}
      },
      "source": [
        "df_train.rename(columns={'Overall.Stage':'Overall_Stage'}, inplace=True)\n",
        "df_test.rename(columns={'Overall.Stage':'Overall_Stage'}, inplace=True)"
      ],
      "execution_count": 0,
      "outputs": []
    },
    {
      "cell_type": "code",
      "metadata": {
        "id": "T1YCrOMP3_4q",
        "colab_type": "code",
        "colab": {}
      },
      "source": [
        "public_data = df_train.drop(['Histology', 'Surv_time_months', 'OS', 'deadstatus.event','Overall_Stage'], axis=1)"
      ],
      "execution_count": 0,
      "outputs": []
    },
    {
      "cell_type": "code",
      "metadata": {
        "id": "BWj1mwjV4Mzo",
        "colab_type": "code",
        "colab": {}
      },
      "source": [
        "PA_data = df_test.drop(['Histology', 'Surv_time_months', 'OS', 'deadstatus.event','Overall_Stage'], axis=1)"
      ],
      "execution_count": 0,
      "outputs": []
    },
    {
      "cell_type": "code",
      "metadata": {
        "id": "dKdS4Low4PHh",
        "colab_type": "code",
        "colab": {}
      },
      "source": [
        "public_labels = df_train.Histology"
      ],
      "execution_count": 0,
      "outputs": []
    },
    {
      "cell_type": "code",
      "metadata": {
        "id": "K6EsAdEt4RNP",
        "colab_type": "code",
        "colab": {}
      },
      "source": [
        "PA_labels = df_test.Histology"
      ],
      "execution_count": 0,
      "outputs": []
    },
    {
      "cell_type": "markdown",
      "metadata": {
        "id": "tqDYyNd6_3s4",
        "colab_type": "text"
      },
      "source": [
        "#Train Test Split"
      ]
    },
    {
      "cell_type": "code",
      "metadata": {
        "id": "_7I8R-jd_3Hd",
        "colab_type": "code",
        "colab": {}
      },
      "source": [
        "from sklearn.model_selection import train_test_split"
      ],
      "execution_count": 0,
      "outputs": []
    },
    {
      "cell_type": "code",
      "metadata": {
        "id": "_bnO8hgZ__GF",
        "colab_type": "code",
        "colab": {}
      },
      "source": [
        "X_train, X_test, y_train, y_test = train_test_split(public_data, public_labels, test_size=0.3, stratify=public_labels, random_state=3)"
      ],
      "execution_count": 0,
      "outputs": []
    },
    {
      "cell_type": "code",
      "metadata": {
        "id": "NZE5rpd8ll-2",
        "colab_type": "code",
        "outputId": "4a657521-d459-4341-9454-531571d8a3a7",
        "colab": {
          "base_uri": "https://localhost:8080/",
          "height": 34
        }
      },
      "source": [
        "X_train.shape"
      ],
      "execution_count": 17,
      "outputs": [
        {
          "output_type": "execute_result",
          "data": {
            "text/plain": [
              "(91, 107)"
            ]
          },
          "metadata": {
            "tags": []
          },
          "execution_count": 17
        }
      ]
    },
    {
      "cell_type": "markdown",
      "metadata": {
        "colab_type": "text",
        "id": "p8CpXzhldvCX"
      },
      "source": [
        "#Vettorizzare i label"
      ]
    },
    {
      "cell_type": "code",
      "metadata": {
        "id": "5rCowEJBjscV",
        "colab_type": "code",
        "colab": {}
      },
      "source": [
        "from sklearn.preprocessing import LabelEncoder\n",
        "encoder = LabelEncoder()\n",
        "train_labels_encoded = encoder.fit_transform(y_train)\n",
        "test_labels_encoded = encoder.transform(y_test)"
      ],
      "execution_count": 0,
      "outputs": []
    },
    {
      "cell_type": "code",
      "metadata": {
        "id": "JXqG8HG3G-CZ",
        "colab_type": "code",
        "outputId": "648d28c5-f830-4cfb-fc77-b3741cccd6a6",
        "colab": {
          "base_uri": "https://localhost:8080/",
          "height": 225
        }
      },
      "source": [
        "y_train"
      ],
      "execution_count": 19,
      "outputs": [
        {
          "output_type": "execute_result",
          "data": {
            "text/plain": [
              "29                  large cell\n",
              "124    squamous cell carcinoma\n",
              "82     squamous cell carcinoma\n",
              "39                  large cell\n",
              "61                  large cell\n",
              "                ...           \n",
              "69                  large cell\n",
              "22                  large cell\n",
              "83     squamous cell carcinoma\n",
              "74                  large cell\n",
              "68                  large cell\n",
              "Name: Histology, Length: 91, dtype: object"
            ]
          },
          "metadata": {
            "tags": []
          },
          "execution_count": 19
        }
      ]
    },
    {
      "cell_type": "code",
      "metadata": {
        "id": "vslRu0DtG6yf",
        "colab_type": "code",
        "outputId": "42fd87a4-0615-48e7-97b9-bc132cf0e80f",
        "colab": {
          "base_uri": "https://localhost:8080/",
          "height": 104
        }
      },
      "source": [
        "train_labels_encoded"
      ],
      "execution_count": 20,
      "outputs": [
        {
          "output_type": "execute_result",
          "data": {
            "text/plain": [
              "array([1, 2, 2, 1, 1, 2, 1, 2, 1, 2, 2, 0, 2, 2, 1, 2, 0, 2, 1, 0, 2, 2,\n",
              "       2, 0, 1, 0, 1, 1, 1, 1, 1, 2, 0, 1, 1, 2, 1, 2, 2, 0, 2, 2, 0, 2,\n",
              "       1, 1, 1, 1, 2, 1, 1, 2, 1, 2, 1, 1, 1, 2, 2, 1, 1, 1, 2, 2, 2, 2,\n",
              "       2, 1, 1, 1, 1, 2, 2, 0, 2, 1, 1, 0, 1, 2, 2, 1, 2, 1, 0, 2, 1, 1,\n",
              "       2, 1, 1])"
            ]
          },
          "metadata": {
            "tags": []
          },
          "execution_count": 20
        }
      ]
    },
    {
      "cell_type": "code",
      "metadata": {
        "id": "Xod-BuYsGyz9",
        "colab_type": "code",
        "outputId": "2b69e23b-3504-4663-e6e3-2bb31ea58d77",
        "colab": {
          "base_uri": "https://localhost:8080/",
          "height": 52
        }
      },
      "source": [
        "encoder.classes_"
      ],
      "execution_count": 21,
      "outputs": [
        {
          "output_type": "execute_result",
          "data": {
            "text/plain": [
              "array(['adenocarcinoma', 'large cell', 'squamous cell carcinoma'],\n",
              "      dtype=object)"
            ]
          },
          "metadata": {
            "tags": []
          },
          "execution_count": 21
        }
      ]
    },
    {
      "cell_type": "markdown",
      "metadata": {
        "id": "_zHrG0WEvB5Q",
        "colab_type": "text"
      },
      "source": [
        "#Scalers"
      ]
    },
    {
      "cell_type": "code",
      "metadata": {
        "id": "iHHkX4RevNaW",
        "colab_type": "code",
        "colab": {}
      },
      "source": [
        "from sklearn.preprocessing import StandardScaler, RobustScaler, QuantileTransformer"
      ],
      "execution_count": 0,
      "outputs": []
    },
    {
      "cell_type": "code",
      "metadata": {
        "id": "4B09pBvIvGB5",
        "colab_type": "code",
        "colab": {}
      },
      "source": [
        "scalers_to_test = [StandardScaler(), RobustScaler()]"
      ],
      "execution_count": 0,
      "outputs": []
    },
    {
      "cell_type": "markdown",
      "metadata": {
        "id": "ixOk4quayu5o",
        "colab_type": "text"
      },
      "source": [
        "#SVM linear "
      ]
    },
    {
      "cell_type": "code",
      "metadata": {
        "id": "maygye69yWRP",
        "colab_type": "code",
        "colab": {}
      },
      "source": [
        "from sklearn.svm import SVC\n",
        "from sklearn.pipeline import Pipeline\n",
        "from sklearn.model_selection import cross_val_score \n",
        "from sklearn.model_selection import cross_validate"
      ],
      "execution_count": 0,
      "outputs": []
    },
    {
      "cell_type": "code",
      "metadata": {
        "id": "5CJ7N-tYC2M_",
        "colab_type": "code",
        "colab": {}
      },
      "source": [
        "scaler = RobustScaler()\n",
        "pca = PCA(n_components=7)\n",
        "svm = SVC(kernel='linear', probability=True)"
      ],
      "execution_count": 0,
      "outputs": []
    },
    {
      "cell_type": "code",
      "metadata": {
        "id": "1EOiy8q1z6EA",
        "colab_type": "code",
        "colab": {}
      },
      "source": [
        "steps = [('scaler', scaler), ('red_dim', pca), ('clf', svm)]"
      ],
      "execution_count": 0,
      "outputs": []
    },
    {
      "cell_type": "code",
      "metadata": {
        "id": "fnpY8MIY-MfB",
        "colab_type": "code",
        "colab": {}
      },
      "source": [
        "pipeline = Pipeline(steps)"
      ],
      "execution_count": 0,
      "outputs": []
    },
    {
      "cell_type": "code",
      "metadata": {
        "id": "3dstCj21xs3j",
        "colab_type": "code",
        "outputId": "e7f0782e-f3f9-4569-a575-e97dde621574",
        "colab": {
          "base_uri": "https://localhost:8080/",
          "height": 69
        }
      },
      "source": [
        "cross_validate(pipeline, X_train, train_labels_encoded, cv=5, scoring='accuracy')"
      ],
      "execution_count": 0,
      "outputs": [
        {
          "output_type": "execute_result",
          "data": {
            "text/plain": [
              "{'fit_time': array([ 9.35853624, 52.2819531 , 83.41960025, 72.53955913, 41.12834382]),\n",
              " 'score_time': array([0.00167871, 0.0016253 , 0.00186324, 0.00218678, 0.00164151]),\n",
              " 'test_score': array([0.47368421, 0.72222222, 0.5       , 0.55555556, 0.61111111])}"
            ]
          },
          "metadata": {
            "tags": []
          },
          "execution_count": 24
        }
      ]
    },
    {
      "cell_type": "code",
      "metadata": {
        "id": "KFCoo0Xsn8O-",
        "colab_type": "code",
        "outputId": "3c4f8632-c5d3-4e4e-d5de-b88bf7a47aa8",
        "colab": {
          "base_uri": "https://localhost:8080/",
          "height": 278
        }
      },
      "source": [
        "pipeline.fit(X_train, train_labels_encoded)"
      ],
      "execution_count": 0,
      "outputs": [
        {
          "output_type": "execute_result",
          "data": {
            "text/plain": [
              "Pipeline(memory=None,\n",
              "         steps=[('scaler',\n",
              "                 RobustScaler(copy=True, quantile_range=(25.0, 75.0),\n",
              "                              with_centering=True, with_scaling=True)),\n",
              "                ('red_dim',\n",
              "                 PCA(copy=True, iterated_power='auto', n_components=7,\n",
              "                     random_state=None, svd_solver='auto', tol=0.0,\n",
              "                     whiten=False)),\n",
              "                ('clf',\n",
              "                 SVC(C=1.0, break_ties=False, cache_size=200, class_weight=None,\n",
              "                     coef0=0.0, decision_function_shape='ovr', degree=3,\n",
              "                     gamma='scale', kernel='linear', max_iter=-1,\n",
              "                     probability=True, random_state=None, shrinking=True,\n",
              "                     tol=0.001, verbose=False))],\n",
              "         verbose=False)"
            ]
          },
          "metadata": {
            "tags": []
          },
          "execution_count": 26
        }
      ]
    },
    {
      "cell_type": "code",
      "metadata": {
        "id": "HGsC04aamXmN",
        "colab_type": "code",
        "outputId": "486a8d0b-9fde-4ae6-e295-5d9f812ebb99",
        "colab": {
          "base_uri": "https://localhost:8080/",
          "height": 34
        }
      },
      "source": [
        "print(f'score = {pipeline.score(X_test, test_labels_encoded)}')"
      ],
      "execution_count": 0,
      "outputs": [
        {
          "output_type": "stream",
          "text": [
            "score = 0.625\n"
          ],
          "name": "stdout"
        }
      ]
    },
    {
      "cell_type": "code",
      "metadata": {
        "id": "tx7Hhw0bFV8e",
        "colab_type": "code",
        "outputId": "6e92a570-d0ae-4dc3-f487-90374a0e7c92",
        "colab": {
          "base_uri": "https://localhost:8080/",
          "height": 121
        }
      },
      "source": [
        "print(pipeline.named_steps)"
      ],
      "execution_count": 0,
      "outputs": [
        {
          "output_type": "stream",
          "text": [
            "{'scaler': RobustScaler(copy=True, quantile_range=(25.0, 75.0), with_centering=True,\n",
            "             with_scaling=True), 'red_dim': PCA(copy=True, iterated_power='auto', n_components=7, random_state=None,\n",
            "    svd_solver='auto', tol=0.0, whiten=False), 'clf': SVC(C=1.0, break_ties=False, cache_size=200, class_weight=None, coef0=0.0,\n",
            "    decision_function_shape='ovr', degree=3, gamma='scale', kernel='linear',\n",
            "    max_iter=-1, probability=True, random_state=None, shrinking=True, tol=0.001,\n",
            "    verbose=False)}\n"
          ],
          "name": "stdout"
        }
      ]
    },
    {
      "cell_type": "code",
      "metadata": {
        "id": "Q_4dHk1NjiUN",
        "colab_type": "code",
        "colab": {}
      },
      "source": [
        "from sklearn.metrics import roc_auc_score"
      ],
      "execution_count": 0,
      "outputs": []
    },
    {
      "cell_type": "code",
      "metadata": {
        "id": "9UJwJJGRl2Kf",
        "colab_type": "code",
        "colab": {}
      },
      "source": [
        "y_scores = pipeline.predict_proba(X_test)"
      ],
      "execution_count": 0,
      "outputs": []
    },
    {
      "cell_type": "code",
      "metadata": {
        "id": "qtzqv-NWsbW2",
        "colab_type": "code",
        "outputId": "0ea20e4f-fbf8-4205-fb71-804ea8ad0965",
        "colab": {
          "base_uri": "https://localhost:8080/",
          "height": 34
        }
      },
      "source": [
        "roc_auc_score(test_labels_encoded, y_scores, average='macro',  multi_class='ovo')"
      ],
      "execution_count": 0,
      "outputs": [
        {
          "output_type": "execute_result",
          "data": {
            "text/plain": [
              "0.5600877192982455"
            ]
          },
          "metadata": {
            "tags": []
          },
          "execution_count": 31
        }
      ]
    },
    {
      "cell_type": "code",
      "metadata": {
        "id": "XOAaBHODB-Ca",
        "colab_type": "code",
        "outputId": "c1dbdc42-5911-47b0-ef07-3570ecf939c7",
        "colab": {
          "base_uri": "https://localhost:8080/",
          "height": 34
        }
      },
      "source": [
        "roc_auc_score(test_labels_encoded, y_scores, average='weighted', multi_class='ovo')"
      ],
      "execution_count": 0,
      "outputs": [
        {
          "output_type": "execute_result",
          "data": {
            "text/plain": [
              "0.5804440789473684"
            ]
          },
          "metadata": {
            "tags": []
          },
          "execution_count": 32
        }
      ]
    },
    {
      "cell_type": "code",
      "metadata": {
        "id": "inIZHyIMB-s8",
        "colab_type": "code",
        "outputId": "baeb04b1-1d8c-4654-a22a-3d645319dbbf",
        "colab": {
          "base_uri": "https://localhost:8080/",
          "height": 34
        }
      },
      "source": [
        "roc_auc_score(test_labels_encoded, y_scores, average='macro', multi_class='ovr')"
      ],
      "execution_count": 0,
      "outputs": [
        {
          "output_type": "execute_result",
          "data": {
            "text/plain": [
              "0.5810317460317461"
            ]
          },
          "metadata": {
            "tags": []
          },
          "execution_count": 33
        }
      ]
    },
    {
      "cell_type": "code",
      "metadata": {
        "id": "3NDgiwb7B_M-",
        "colab_type": "code",
        "outputId": "c8374603-63f0-4cda-ab3f-7b42ec0a7d6b",
        "colab": {
          "base_uri": "https://localhost:8080/",
          "height": 34
        }
      },
      "source": [
        "roc_auc_score(test_labels_encoded, y_scores, average='weighted', multi_class='ovr')"
      ],
      "execution_count": 0,
      "outputs": [
        {
          "output_type": "execute_result",
          "data": {
            "text/plain": [
              "0.6230952380952381"
            ]
          },
          "metadata": {
            "tags": []
          },
          "execution_count": 34
        }
      ]
    },
    {
      "cell_type": "code",
      "metadata": {
        "id": "TFMb7_x0vvfa",
        "colab_type": "code",
        "colab": {}
      },
      "source": [
        "y_pred = pipeline.predict(X_test)"
      ],
      "execution_count": 0,
      "outputs": []
    },
    {
      "cell_type": "code",
      "metadata": {
        "id": "7S7GeqHpxlnw",
        "colab_type": "code",
        "colab": {}
      },
      "source": [
        "from sklearn.metrics import classification_report"
      ],
      "execution_count": 0,
      "outputs": []
    },
    {
      "cell_type": "code",
      "metadata": {
        "id": "F3KzuY1XysKQ",
        "colab_type": "code",
        "outputId": "7ae817d3-2d05-4da1-8abe-b84c819dbadf",
        "colab": {
          "base_uri": "https://localhost:8080/",
          "height": 245
        }
      },
      "source": [
        "print(classification_report(test_labels_encoded, y_pred))"
      ],
      "execution_count": 0,
      "outputs": [
        {
          "output_type": "stream",
          "text": [
            "              precision    recall  f1-score   support\n",
            "\n",
            "           0       0.00      0.00      0.00         5\n",
            "           1       0.65      0.79      0.71        19\n",
            "           2       0.59      0.62      0.61        16\n",
            "\n",
            "    accuracy                           0.62        40\n",
            "   macro avg       0.41      0.47      0.44        40\n",
            "weighted avg       0.55      0.62      0.58        40\n",
            "\n"
          ],
          "name": "stdout"
        },
        {
          "output_type": "stream",
          "text": [
            "/usr/local/lib/python3.6/dist-packages/sklearn/metrics/_classification.py:1272: UndefinedMetricWarning: Precision and F-score are ill-defined and being set to 0.0 in labels with no predicted samples. Use `zero_division` parameter to control this behavior.\n",
            "  _warn_prf(average, modifier, msg_start, len(result))\n"
          ],
          "name": "stderr"
        }
      ]
    },
    {
      "cell_type": "code",
      "metadata": {
        "id": "lAiASk_uC0rB",
        "colab_type": "code",
        "outputId": "f580cd9d-6f9a-4676-9d5d-dae449359bd3",
        "colab": {
          "base_uri": "https://localhost:8080/",
          "height": 712
        }
      },
      "source": [
        "y_scores"
      ],
      "execution_count": 0,
      "outputs": [
        {
          "output_type": "execute_result",
          "data": {
            "text/plain": [
              "array([[0.12808459, 0.458184  , 0.4137314 ],\n",
              "       [0.12859537, 0.41285345, 0.45855118],\n",
              "       [0.12799453, 0.46804208, 0.40396339],\n",
              "       [0.12915319, 0.64774362, 0.22310319],\n",
              "       [0.12814654, 0.44618924, 0.42566422],\n",
              "       [0.12859883, 0.41412112, 0.45728005],\n",
              "       [0.12806683, 0.45029049, 0.42164268],\n",
              "       [0.12782426, 0.48568536, 0.38649038],\n",
              "       [0.12798885, 0.46031893, 0.41169222],\n",
              "       [0.12788018, 0.47665304, 0.39546678],\n",
              "       [0.12868003, 0.40824484, 0.46307513],\n",
              "       [0.12768278, 0.5603717 , 0.31194552],\n",
              "       [0.1282371 , 0.43833794, 0.43342496],\n",
              "       [0.12825516, 0.43961907, 0.43212577],\n",
              "       [0.12829903, 0.43111361, 0.44058736],\n",
              "       [0.12933154, 0.37547265, 0.4951958 ],\n",
              "       [0.12866828, 0.41280236, 0.45852936],\n",
              "       [0.07581394, 0.48686106, 0.43732499],\n",
              "       [0.12798098, 0.46966054, 0.40235848],\n",
              "       [0.12857535, 0.41257321, 0.45885145],\n",
              "       [0.12865862, 0.5467356 , 0.32460579],\n",
              "       [0.12697639, 0.54275475, 0.33026886],\n",
              "       [0.12916   , 0.38269591, 0.48814409],\n",
              "       [0.06032403, 0.61635295, 0.32332302],\n",
              "       [0.07955085, 0.45885385, 0.4615953 ],\n",
              "       [0.12781893, 0.50077942, 0.37140165],\n",
              "       [0.1278931 , 0.48031725, 0.39178965],\n",
              "       [0.06778766, 0.58272096, 0.34949137],\n",
              "       [0.12917361, 0.38276139, 0.488065  ],\n",
              "       [0.12783293, 0.52209297, 0.35007409],\n",
              "       [0.12915199, 0.38367633, 0.48717168],\n",
              "       [0.12678051, 0.53216774, 0.34105175],\n",
              "       [0.12847185, 0.41214533, 0.45938282],\n",
              "       [0.06312928, 0.5178787 , 0.41899202],\n",
              "       [0.12794679, 0.47769995, 0.39435326],\n",
              "       [0.12760385, 0.55820566, 0.31419049],\n",
              "       [0.12821847, 0.44364881, 0.42813271],\n",
              "       [0.04842106, 0.5638056 , 0.38777335],\n",
              "       [0.12783189, 0.50060652, 0.37156159],\n",
              "       [0.12711243, 0.54430195, 0.32858563]])"
            ]
          },
          "metadata": {
            "tags": []
          },
          "execution_count": 62
        }
      ]
    },
    {
      "cell_type": "code",
      "metadata": {
        "id": "xT_ccm7yC4tA",
        "colab_type": "code",
        "outputId": "e7f13286-00f8-4e09-a161-03f4f3cd00ae",
        "colab": {
          "base_uri": "https://localhost:8080/",
          "height": 52
        }
      },
      "source": [
        "y_pred"
      ],
      "execution_count": 0,
      "outputs": [
        {
          "output_type": "execute_result",
          "data": {
            "text/plain": [
              "array([1, 2, 1, 1, 2, 2, 1, 1, 1, 1, 2, 1, 2, 2, 2, 2, 2, 2, 1, 2, 1, 1,\n",
              "       2, 1, 2, 1, 1, 1, 2, 1, 2, 1, 2, 1, 1, 1, 2, 1, 1, 1])"
            ]
          },
          "metadata": {
            "tags": []
          },
          "execution_count": 64
        }
      ]
    },
    {
      "cell_type": "markdown",
      "metadata": {
        "colab_type": "text",
        "id": "VM8flQakGR2z"
      },
      "source": [
        "##Learning curve"
      ]
    },
    {
      "cell_type": "code",
      "metadata": {
        "colab_type": "code",
        "outputId": "f769b479-80b6-49c4-e385-1e4821c75739",
        "id": "Jx8jTnsuGR5M",
        "colab": {
          "base_uri": "https://localhost:8080/",
          "height": 894
        }
      },
      "source": [
        "fig, axes = plt.subplots(3, 2, figsize=(10, 15))\n",
        "\n",
        "\n",
        "title = \"Learning Curves (SVM linear)\"\n",
        "\n",
        "estimator = pipeline\n",
        "plot_learning_curve(estimator, title, X_train, y_train, axes=axes[:, 0], ylim=(0.0, 1.01), cv=5)\n",
        "\n",
        "plt.show()"
      ],
      "execution_count": 0,
      "outputs": [
        {
          "output_type": "display_data",
          "data": {
            "image/png": "[encoded data removed]",
            "text/plain": [
              "<Figure size 720x1080 with 6 Axes>"
            ]
          },
          "metadata": {
            "tags": []
          }
        }
      ]
    },
    {
      "cell_type": "markdown",
      "metadata": {
        "colab_type": "text",
        "id": "wMhTO9WZ6omI"
      },
      "source": [
        "#SVM rbf "
      ]
    },
    {
      "cell_type": "code",
      "metadata": {
        "colab_type": "code",
        "id": "IGG3zpCA6omY",
        "colab": {}
      },
      "source": [
        "from sklearn.svm import SVC\n",
        "from sklearn.pipeline import Pipeline\n",
        "from sklearn.model_selection import cross_val_score \n",
        "from sklearn.model_selection import cross_validate"
      ],
      "execution_count": 0,
      "outputs": []
    },
    {
      "cell_type": "code",
      "metadata": {
        "colab_type": "code",
        "id": "iSATJRtk6omp",
        "colab": {}
      },
      "source": [
        "scaler = StandardScaler()\n",
        "pca = PCA(n_components=7)\n",
        "svm = SVC(kernel='rbf', probability=True, gamma='scale')"
      ],
      "execution_count": 0,
      "outputs": []
    },
    {
      "cell_type": "code",
      "metadata": {
        "colab_type": "code",
        "id": "nvg8nwFp6om5",
        "colab": {}
      },
      "source": [
        "steps = [('scaler', scaler), ('red_dim', pca), ('clf', svm)]"
      ],
      "execution_count": 0,
      "outputs": []
    },
    {
      "cell_type": "code",
      "metadata": {
        "colab_type": "code",
        "id": "lPPgi5xq6onF",
        "colab": {}
      },
      "source": [
        "pipeline = Pipeline(steps)"
      ],
      "execution_count": 0,
      "outputs": []
    },
    {
      "cell_type": "code",
      "metadata": {
        "colab_type": "code",
        "outputId": "dc29c723-0743-402c-d3b4-82a84501b441",
        "id": "3vsUc-D36onS",
        "colab": {
          "base_uri": "https://localhost:8080/",
          "height": 69
        }
      },
      "source": [
        "cross_validate(pipeline, X_train, train_labels_encoded, cv=5, scoring='accuracy')"
      ],
      "execution_count": 41,
      "outputs": [
        {
          "output_type": "execute_result",
          "data": {
            "text/plain": [
              "{'fit_time': array([0.01627398, 0.01401186, 0.01143718, 0.01252985, 0.01103187]),\n",
              " 'score_time': array([0.0068202 , 0.00222468, 0.00219464, 0.00202227, 0.00201941]),\n",
              " 'test_score': array([0.47368421, 0.44444444, 0.38888889, 0.55555556, 0.5       ])}"
            ]
          },
          "metadata": {
            "tags": []
          },
          "execution_count": 41
        }
      ]
    },
    {
      "cell_type": "code",
      "metadata": {
        "colab_type": "code",
        "outputId": "ab08f4c7-39e7-442a-8543-f00d953eb843",
        "id": "wFDF6PKk6onf",
        "colab": {
          "base_uri": "https://localhost:8080/",
          "height": 260
        }
      },
      "source": [
        "pipeline.fit(X_train, train_labels_encoded)"
      ],
      "execution_count": 43,
      "outputs": [
        {
          "output_type": "execute_result",
          "data": {
            "text/plain": [
              "Pipeline(memory=None,\n",
              "         steps=[('scaler',\n",
              "                 StandardScaler(copy=True, with_mean=True, with_std=True)),\n",
              "                ('red_dim',\n",
              "                 PCA(copy=True, iterated_power='auto', n_components=7,\n",
              "                     random_state=None, svd_solver='auto', tol=0.0,\n",
              "                     whiten=False)),\n",
              "                ('clf',\n",
              "                 SVC(C=1.0, break_ties=False, cache_size=200, class_weight=None,\n",
              "                     coef0=0.0, decision_function_shape='ovr', degree=3,\n",
              "                     gamma='auto', kernel='rbf', max_iter=-1, probability=True,\n",
              "                     random_state=None, shrinking=True, tol=0.001,\n",
              "                     verbose=False))],\n",
              "         verbose=False)"
            ]
          },
          "metadata": {
            "tags": []
          },
          "execution_count": 43
        }
      ]
    },
    {
      "cell_type": "code",
      "metadata": {
        "colab_type": "code",
        "outputId": "9d7730e4-890b-40fa-d899-72e47f78c2e6",
        "id": "pLY7f4Xm6onr",
        "colab": {
          "base_uri": "https://localhost:8080/",
          "height": 34
        }
      },
      "source": [
        "print(f'score = {pipeline.score(X_test, test_labels_encoded)}')"
      ],
      "execution_count": 46,
      "outputs": [
        {
          "output_type": "stream",
          "text": [
            "score = 0.5\n"
          ],
          "name": "stdout"
        }
      ]
    },
    {
      "cell_type": "code",
      "metadata": {
        "colab_type": "code",
        "outputId": "2cc6a5df-71eb-4ee5-ab80-a6ac22f5c537",
        "id": "iz0rdw046on2",
        "colab": {
          "base_uri": "https://localhost:8080/",
          "height": 124
        }
      },
      "source": [
        "print(pipeline.named_steps)"
      ],
      "execution_count": 33,
      "outputs": [
        {
          "output_type": "stream",
          "text": [
            "{'scaler': StandardScaler(copy=True, with_mean=True, with_std=True), 'red_dim': PCA(copy=True, iterated_power='auto', n_components=7, random_state=None,\n",
            "    svd_solver='auto', tol=0.0, whiten=False), 'clf': SVC(C=1.0, break_ties=False, cache_size=200, class_weight=None, coef0=0.0,\n",
            "    decision_function_shape='ovr', degree=3, gamma='scale', kernel='rbf',\n",
            "    max_iter=-1, probability=True, random_state=None, shrinking=True, tol=0.001,\n",
            "    verbose=False)}\n"
          ],
          "name": "stdout"
        }
      ]
    },
    {
      "cell_type": "code",
      "metadata": {
        "colab_type": "code",
        "id": "d-33I7Xo6ooB",
        "colab": {}
      },
      "source": [
        "from sklearn.metrics import roc_auc_score"
      ],
      "execution_count": 0,
      "outputs": []
    },
    {
      "cell_type": "code",
      "metadata": {
        "colab_type": "code",
        "id": "zLUuZJUp6ooJ",
        "colab": {}
      },
      "source": [
        "y_scores = pipeline.predict_proba(X_test)"
      ],
      "execution_count": 0,
      "outputs": []
    },
    {
      "cell_type": "code",
      "metadata": {
        "colab_type": "code",
        "outputId": "ddb69411-9cb2-43bd-ce1b-6d8abcd987bd",
        "id": "rMCkD3rj6ooW",
        "colab": {
          "base_uri": "https://localhost:8080/",
          "height": 34
        }
      },
      "source": [
        "roc_auc_score(test_labels_encoded, y_scores, average='macro',  multi_class='ovo')"
      ],
      "execution_count": 0,
      "outputs": [
        {
          "output_type": "execute_result",
          "data": {
            "text/plain": [
              "0.49396929824561403"
            ]
          },
          "metadata": {
            "tags": []
          },
          "execution_count": 53
        }
      ]
    },
    {
      "cell_type": "code",
      "metadata": {
        "colab_type": "code",
        "outputId": "b50232a0-5aba-40fe-9b29-138731644747",
        "id": "AcEnDd8L6ool",
        "colab": {
          "base_uri": "https://localhost:8080/",
          "height": 34
        }
      },
      "source": [
        "roc_auc_score(test_labels_encoded, y_scores, average='weighted', multi_class='ovo')"
      ],
      "execution_count": 0,
      "outputs": [
        {
          "output_type": "execute_result",
          "data": {
            "text/plain": [
              "0.5101932565789473"
            ]
          },
          "metadata": {
            "tags": []
          },
          "execution_count": 54
        }
      ]
    },
    {
      "cell_type": "code",
      "metadata": {
        "colab_type": "code",
        "outputId": "038cdf2d-ce64-489f-97b3-17945b59bd69",
        "id": "iBFKyXI26ooz",
        "colab": {
          "base_uri": "https://localhost:8080/",
          "height": 34
        }
      },
      "source": [
        "roc_auc_score(test_labels_encoded, y_scores, average='macro', multi_class='ovr')"
      ],
      "execution_count": 0,
      "outputs": [
        {
          "output_type": "execute_result",
          "data": {
            "text/plain": [
              "0.5999279448621554"
            ]
          },
          "metadata": {
            "tags": []
          },
          "execution_count": 31
        }
      ]
    },
    {
      "cell_type": "code",
      "metadata": {
        "colab_type": "code",
        "outputId": "52c64617-3cc7-4dbd-9661-1d5e49e127d9",
        "id": "Cd8TEKmN6oo8",
        "colab": {
          "base_uri": "https://localhost:8080/",
          "height": 34
        }
      },
      "source": [
        "roc_auc_score(test_labels_encoded, y_scores, average='weighted', multi_class='ovr')"
      ],
      "execution_count": 0,
      "outputs": [
        {
          "output_type": "execute_result",
          "data": {
            "text/plain": [
              "0.5939285714285714"
            ]
          },
          "metadata": {
            "tags": []
          },
          "execution_count": 32
        }
      ]
    },
    {
      "cell_type": "code",
      "metadata": {
        "colab_type": "code",
        "id": "FdIj4aCf6opG",
        "colab": {}
      },
      "source": [
        "y_pred = pipeline.predict(X_test)"
      ],
      "execution_count": 0,
      "outputs": []
    },
    {
      "cell_type": "code",
      "metadata": {
        "colab_type": "code",
        "id": "1FFtb7U56opP",
        "colab": {}
      },
      "source": [
        "from sklearn.metrics import classification_report"
      ],
      "execution_count": 0,
      "outputs": []
    },
    {
      "cell_type": "code",
      "metadata": {
        "colab_type": "code",
        "outputId": "4dd602c5-265f-4dcf-dec5-9f82515601b9",
        "id": "MrWS67vO6opW",
        "colab": {
          "base_uri": "https://localhost:8080/",
          "height": 89
        }
      },
      "source": [
        "print(classification_report(test_labels_encoded, y_pred, output_dict=True))"
      ],
      "execution_count": 0,
      "outputs": [
        {
          "output_type": "stream",
          "text": [
            "{'0': {'precision': 0.0, 'recall': 0.0, 'f1-score': 0.0, 'support': 5}, '1': {'precision': 0.55, 'recall': 0.5789473684210527, 'f1-score': 0.5641025641025641, 'support': 19}, '2': {'precision': 0.45, 'recall': 0.5625, 'f1-score': 0.5, 'support': 16}, 'accuracy': 0.5, 'macro avg': {'precision': 0.3333333333333333, 'recall': 0.38048245614035087, 'f1-score': 0.3547008547008547, 'support': 40}, 'weighted avg': {'precision': 0.44125000000000003, 'recall': 0.5, 'f1-score': 0.4679487179487179, 'support': 40}}\n"
          ],
          "name": "stdout"
        },
        {
          "output_type": "stream",
          "text": [
            "/usr/local/lib/python3.6/dist-packages/sklearn/metrics/_classification.py:1272: UndefinedMetricWarning: Precision and F-score are ill-defined and being set to 0.0 in labels with no predicted samples. Use `zero_division` parameter to control this behavior.\n",
            "  _warn_prf(average, modifier, msg_start, len(result))\n"
          ],
          "name": "stderr"
        }
      ]
    },
    {
      "cell_type": "code",
      "metadata": {
        "id": "exqgYMCnE_Ja",
        "colab_type": "code",
        "outputId": "6bf87f63-fda8-4b52-bfcf-8ce0ededc4e3",
        "colab": {
          "base_uri": "https://localhost:8080/",
          "height": 72
        }
      },
      "source": [
        "a=classification_report(test_labels_encoded, y_pred, output_dict=True)"
      ],
      "execution_count": 0,
      "outputs": [
        {
          "output_type": "stream",
          "text": [
            "/usr/local/lib/python3.6/dist-packages/sklearn/metrics/_classification.py:1272: UndefinedMetricWarning: Precision and F-score are ill-defined and being set to 0.0 in labels with no predicted samples. Use `zero_division` parameter to control this behavior.\n",
            "  _warn_prf(average, modifier, msg_start, len(result))\n"
          ],
          "name": "stderr"
        }
      ]
    },
    {
      "cell_type": "code",
      "metadata": {
        "id": "2DON9JYFFKUS",
        "colab_type": "code",
        "outputId": "a1ef6b14-9ca4-46ab-d95b-db4c54d139d7",
        "colab": {
          "base_uri": "https://localhost:8080/",
          "height": 278
        }
      },
      "source": [
        "a"
      ],
      "execution_count": 0,
      "outputs": [
        {
          "output_type": "execute_result",
          "data": {
            "text/plain": [
              "{'0': {'f1-score': 0.0, 'precision': 0.0, 'recall': 0.0, 'support': 5},\n",
              " '1': {'f1-score': 0.5641025641025641,\n",
              "  'precision': 0.55,\n",
              "  'recall': 0.5789473684210527,\n",
              "  'support': 19},\n",
              " '2': {'f1-score': 0.5, 'precision': 0.45, 'recall': 0.5625, 'support': 16},\n",
              " 'accuracy': 0.5,\n",
              " 'macro avg': {'f1-score': 0.3547008547008547,\n",
              "  'precision': 0.3333333333333333,\n",
              "  'recall': 0.38048245614035087,\n",
              "  'support': 40},\n",
              " 'weighted avg': {'f1-score': 0.4679487179487179,\n",
              "  'precision': 0.44125000000000003,\n",
              "  'recall': 0.5,\n",
              "  'support': 40}}"
            ]
          },
          "metadata": {
            "tags": []
          },
          "execution_count": 74
        }
      ]
    },
    {
      "cell_type": "code",
      "metadata": {
        "colab_type": "code",
        "outputId": "b2abe827-4dc0-4eeb-d2c4-dca4fc00c60e",
        "id": "pNMuQwNP6opf",
        "colab": {
          "base_uri": "https://localhost:8080/",
          "height": 712
        }
      },
      "source": [
        "y_scores"
      ],
      "execution_count": 0,
      "outputs": [
        {
          "output_type": "execute_result",
          "data": {
            "text/plain": [
              "array([[0.10396088, 0.49529299, 0.40074613],\n",
              "       [0.08245186, 0.46554255, 0.45200559],\n",
              "       [0.13463596, 0.46139618, 0.40396786],\n",
              "       [0.11537032, 0.46079761, 0.42383207],\n",
              "       [0.11553184, 0.44379691, 0.44067125],\n",
              "       [0.12800155, 0.44464588, 0.42735258],\n",
              "       [0.11354652, 0.46011283, 0.42634065],\n",
              "       [0.11126643, 0.46972619, 0.41900738],\n",
              "       [0.09744485, 0.46152534, 0.4410298 ],\n",
              "       [0.09689381, 0.47102662, 0.43207957],\n",
              "       [0.09181015, 0.46971761, 0.43847224],\n",
              "       [0.08826112, 0.47646232, 0.43527656],\n",
              "       [0.10330329, 0.46648621, 0.4302105 ],\n",
              "       [0.15521776, 0.45701244, 0.38776981],\n",
              "       [0.09889077, 0.45539304, 0.44571619],\n",
              "       [0.10057183, 0.46034352, 0.43908464],\n",
              "       [0.1149329 , 0.45773635, 0.42733074],\n",
              "       [0.1026849 , 0.4582417 , 0.4390734 ],\n",
              "       [0.16735346, 0.45195707, 0.38068947],\n",
              "       [0.11495043, 0.46023213, 0.42481744],\n",
              "       [0.09560649, 0.50337537, 0.40101814],\n",
              "       [0.11823313, 0.46021412, 0.42155275],\n",
              "       [0.09621029, 0.45533132, 0.44845839],\n",
              "       [0.11500581, 0.46067684, 0.42431735],\n",
              "       [0.10692965, 0.46676304, 0.42630732],\n",
              "       [0.13395973, 0.46368228, 0.40235799],\n",
              "       [0.240403  , 0.42483139, 0.33476561],\n",
              "       [0.11454158, 0.46262232, 0.4228361 ],\n",
              "       [0.11294214, 0.4588486 , 0.42820927],\n",
              "       [0.1012822 , 0.46278779, 0.43593002],\n",
              "       [0.0870349 , 0.46987212, 0.44309298],\n",
              "       [0.12099128, 0.46410998, 0.41489875],\n",
              "       [0.10970745, 0.45975536, 0.43053719],\n",
              "       [0.10176476, 0.45621832, 0.44201692],\n",
              "       [0.13074644, 0.45891691, 0.41033665],\n",
              "       [0.14231283, 0.49987178, 0.35781539],\n",
              "       [0.12125299, 0.44382255, 0.43492446],\n",
              "       [0.11396174, 0.46416495, 0.42187331],\n",
              "       [0.13507998, 0.45905283, 0.40586719],\n",
              "       [0.1249048 , 0.49312479, 0.38197041]])"
            ]
          },
          "metadata": {
            "tags": []
          },
          "execution_count": 73
        }
      ]
    },
    {
      "cell_type": "code",
      "metadata": {
        "colab_type": "code",
        "outputId": "725f2bfe-c181-455a-d8c3-3022276bd4b5",
        "id": "-JheNoOK6opm",
        "colab": {
          "base_uri": "https://localhost:8080/",
          "height": 52
        }
      },
      "source": [
        "y_pred"
      ],
      "execution_count": 0,
      "outputs": [
        {
          "output_type": "execute_result",
          "data": {
            "text/plain": [
              "array([1, 2, 1, 1, 2, 2, 2, 1, 2, 1, 1, 1, 2, 2, 2, 2, 2, 2, 1, 2, 1, 1,\n",
              "       2, 2, 2, 1, 1, 1, 2, 1, 2, 1, 2, 2, 1, 1, 2, 1, 1, 1])"
            ]
          },
          "metadata": {
            "tags": []
          },
          "execution_count": 37
        }
      ]
    },
    {
      "cell_type": "markdown",
      "metadata": {
        "colab_type": "text",
        "id": "rJ_llAK66ops"
      },
      "source": [
        "##Learning curve"
      ]
    },
    {
      "cell_type": "code",
      "metadata": {
        "colab_type": "code",
        "outputId": "f769b479-80b6-49c4-e385-1e4821c75739",
        "id": "5Ijhj2te6opx",
        "colab": {
          "base_uri": "https://localhost:8080/",
          "height": 894
        }
      },
      "source": [
        "fig, axes = plt.subplots(3, 2, figsize=(10, 15))\n",
        "\n",
        "\n",
        "title = \"Learning Curves (SVM linear)\"\n",
        "\n",
        "estimator = pipeline\n",
        "plot_learning_curve(estimator, title, X_train, y_train, axes=axes[:, 0], ylim=(0.0, 1.01), cv=5)\n",
        "\n",
        "plt.show()"
      ],
      "execution_count": 0,
      "outputs": [
        {
          "output_type": "display_data",
          "data": {
            "image/png": "[encoded data removed]",
            "text/plain": [
              "<Figure size 720x1080 with 6 Axes>"
            ]
          },
          "metadata": {
            "tags": []
          }
        }
      ]
    },
    {
      "cell_type": "code",
      "metadata": {
        "colab_type": "code",
        "id": "aWCzxHNd6op7",
        "colab": {}
      },
      "source": [
        ""
      ],
      "execution_count": 0,
      "outputs": []
    },
    {
      "cell_type": "code",
      "metadata": {
        "id": "tDY4boD_6nqN",
        "colab_type": "code",
        "colab": {}
      },
      "source": [
        ""
      ],
      "execution_count": 0,
      "outputs": []
    },
    {
      "cell_type": "markdown",
      "metadata": {
        "id": "bhS2IjZYza9G",
        "colab_type": "text"
      },
      "source": [
        "#Built classification algorithm: Nearest Neighbors"
      ]
    },
    {
      "cell_type": "code",
      "metadata": {
        "id": "2E3y1s4-zaFl",
        "colab_type": "code",
        "colab": {}
      },
      "source": [
        "from sklearn.neighbors import KNeighborsClassifier\n"
      ],
      "execution_count": 0,
      "outputs": []
    },
    {
      "cell_type": "code",
      "metadata": {
        "id": "lNfHXvWY4dvB",
        "colab_type": "code",
        "colab": {}
      },
      "source": [
        "neigh = KNeighborsClassifier(n_neighbors=10)"
      ],
      "execution_count": 0,
      "outputs": []
    },
    {
      "cell_type": "markdown",
      "metadata": {
        "id": "T0gdLtV31LYD",
        "colab_type": "text"
      },
      "source": [
        "###PCA"
      ]
    },
    {
      "cell_type": "code",
      "metadata": {
        "id": "7s80yoq64xTq",
        "colab_type": "code",
        "outputId": "9bb66df5-d7ca-42c7-b8f9-10edca7ad509",
        "colab": {
          "base_uri": "https://localhost:8080/",
          "height": 35
        }
      },
      "source": [
        "neigh.fit(train_data_stand_pca, y_train_pca)\n",
        "neigh.score(val_data_stand_pca, y_val_pca)"
      ],
      "execution_count": 0,
      "outputs": [
        {
          "output_type": "execute_result",
          "data": {
            "text/plain": [
              "0.45"
            ]
          },
          "metadata": {
            "tags": []
          },
          "execution_count": 35
        }
      ]
    },
    {
      "cell_type": "code",
      "metadata": {
        "id": "_SCObD9NA-iF",
        "colab_type": "code",
        "outputId": "70239a5c-d3d2-45a4-b618-ab8c0361c3b9",
        "colab": {
          "base_uri": "https://localhost:8080/",
          "height": 35
        }
      },
      "source": [
        "neigh.score(test_data_stand_pca, test_labels_dec)"
      ],
      "execution_count": 0,
      "outputs": [
        {
          "output_type": "execute_result",
          "data": {
            "text/plain": [
              "0.20588235294117646"
            ]
          },
          "metadata": {
            "tags": []
          },
          "execution_count": 36
        }
      ]
    },
    {
      "cell_type": "code",
      "metadata": {
        "id": "hVEGAFlZa054",
        "colab_type": "code",
        "outputId": "68502c90-1a6f-4243-829c-19871ad76c05",
        "colab": {
          "base_uri": "https://localhost:8080/",
          "height": 90
        }
      },
      "source": [
        "from sklearn.metrics import confusion_matrix\n",
        "from sklearn.metrics import accuracy_score\n",
        "\n",
        "y_pred = neigh.predict(X_val_pca)\n",
        "\n",
        "cm = confusion_matrix(y_val_pca, y_pred)\n",
        "print(cm)\n",
        "print('Accuracy' + str(accuracy_score(y_val_pca, y_pred)))"
      ],
      "execution_count": 0,
      "outputs": [
        {
          "output_type": "stream",
          "text": [
            "[[ 1  2  2]\n",
            " [ 0 12  7]\n",
            " [ 0 11  5]]\n",
            "Accuracy0.45\n"
          ],
          "name": "stdout"
        }
      ]
    },
    {
      "cell_type": "markdown",
      "metadata": {
        "id": "6D7HgV3P1Pr1",
        "colab_type": "text"
      },
      "source": [
        "###LDA"
      ]
    },
    {
      "cell_type": "code",
      "metadata": {
        "id": "p0Vpe1Ng5BCr",
        "colab_type": "code",
        "outputId": "f8322605-874f-4ae3-d20a-7fb21d5ddab6",
        "colab": {
          "base_uri": "https://localhost:8080/",
          "height": 35
        }
      },
      "source": [
        "neigh.fit(X_train_lda, y_train_lda)\n",
        "neigh.score(X_val_lda, y_val_lda)"
      ],
      "execution_count": 0,
      "outputs": [
        {
          "output_type": "execute_result",
          "data": {
            "text/plain": [
              "0.975"
            ]
          },
          "metadata": {
            "tags": []
          },
          "execution_count": 38
        }
      ]
    },
    {
      "cell_type": "code",
      "metadata": {
        "id": "VIwcjzEeAb3I",
        "colab_type": "code",
        "outputId": "0147162a-b4a5-467e-cbd2-5ad9f0fc15d6",
        "colab": {
          "base_uri": "https://localhost:8080/",
          "height": 35
        }
      },
      "source": [
        "neigh.score(test_data_stand_lda, test_labels_dec)"
      ],
      "execution_count": 0,
      "outputs": [
        {
          "output_type": "execute_result",
          "data": {
            "text/plain": [
              "0.14705882352941177"
            ]
          },
          "metadata": {
            "tags": []
          },
          "execution_count": 39
        }
      ]
    },
    {
      "cell_type": "code",
      "metadata": {
        "id": "SsiEPNE-dPgf",
        "colab_type": "code",
        "outputId": "a4660dfa-4e0e-44b2-e385-dfb31373eab4",
        "colab": {
          "base_uri": "https://localhost:8080/",
          "height": 90
        }
      },
      "source": [
        "from sklearn.metrics import confusion_matrix\n",
        "from sklearn.metrics import accuracy_score\n",
        "\n",
        "y_pred = neigh.predict(X_val_lda)\n",
        "\n",
        "cm = confusion_matrix(y_val_lda, y_pred)\n",
        "print(cm)\n",
        "print('Accuracy' + str(accuracy_score(y_val_lda, y_pred)))"
      ],
      "execution_count": 0,
      "outputs": [
        {
          "output_type": "stream",
          "text": [
            "[[ 5  0  0]\n",
            " [ 0 19  0]\n",
            " [ 0  1 15]]\n",
            "Accuracy0.975\n"
          ],
          "name": "stdout"
        }
      ]
    },
    {
      "cell_type": "markdown",
      "metadata": {
        "id": "Wo4yTacesHst",
        "colab_type": "text"
      },
      "source": [
        "#Built classification algorithm: SVM"
      ]
    },
    {
      "cell_type": "code",
      "metadata": {
        "id": "AAxATwiLrnu0",
        "colab_type": "code",
        "colab": {}
      },
      "source": [
        "from sklearn.svm import SVC"
      ],
      "execution_count": 0,
      "outputs": []
    },
    {
      "cell_type": "code",
      "metadata": {
        "id": "SYYW8qS2h8at",
        "colab_type": "code",
        "colab": {}
      },
      "source": [
        "clf = SVC(gamma='auto')"
      ],
      "execution_count": 0,
      "outputs": []
    },
    {
      "cell_type": "markdown",
      "metadata": {
        "id": "aWqCGy3D1S9b",
        "colab_type": "text"
      },
      "source": [
        "###PCA"
      ]
    },
    {
      "cell_type": "code",
      "metadata": {
        "id": "scUOQJYiixgQ",
        "colab_type": "code",
        "outputId": "d11c7a6e-0667-4a8d-aa84-08e9dc1bd9b6",
        "colab": {
          "base_uri": "https://localhost:8080/",
          "height": 86
        }
      },
      "source": [
        "clf.fit(X_train_pca, y_train_pca)"
      ],
      "execution_count": 0,
      "outputs": [
        {
          "output_type": "execute_result",
          "data": {
            "text/plain": [
              "SVC(C=1.0, break_ties=False, cache_size=200, class_weight=None, coef0=0.0,\n",
              "    decision_function_shape='ovr', degree=3, gamma='auto', kernel='rbf',\n",
              "    max_iter=-1, probability=False, random_state=None, shrinking=True,\n",
              "    tol=0.001, verbose=False)"
            ]
          },
          "metadata": {
            "tags": []
          },
          "execution_count": 37
        }
      ]
    },
    {
      "cell_type": "code",
      "metadata": {
        "id": "6DJqED1Ei6yP",
        "colab_type": "code",
        "outputId": "41738663-a4b6-4042-ceca-37a3977503a8",
        "colab": {
          "base_uri": "https://localhost:8080/",
          "height": 34
        }
      },
      "source": [
        "clf.score(X_val_pca, y_val_pca)"
      ],
      "execution_count": 0,
      "outputs": [
        {
          "output_type": "execute_result",
          "data": {
            "text/plain": [
              "0.45"
            ]
          },
          "metadata": {
            "tags": []
          },
          "execution_count": 38
        }
      ]
    },
    {
      "cell_type": "code",
      "metadata": {
        "id": "bN6ng4dEBvGk",
        "colab_type": "code",
        "outputId": "9a22b144-06f3-4726-9e12-3af62629ae78",
        "colab": {
          "base_uri": "https://localhost:8080/",
          "height": 34
        }
      },
      "source": [
        "clf.score(test_data_stand_pca, test_labels_dec)"
      ],
      "execution_count": 0,
      "outputs": [
        {
          "output_type": "execute_result",
          "data": {
            "text/plain": [
              "0.11764705882352941"
            ]
          },
          "metadata": {
            "tags": []
          },
          "execution_count": 39
        }
      ]
    },
    {
      "cell_type": "code",
      "metadata": {
        "id": "q-tN7euueocw",
        "colab_type": "code",
        "outputId": "7d013bf2-ac98-45f0-c5d6-0bf6d7e4aa92",
        "colab": {
          "base_uri": "https://localhost:8080/",
          "height": 382
        }
      },
      "source": [
        "from sklearn.metrics import confusion_matrix\n",
        "from sklearn.metrics import accuracy_score\n",
        "\n",
        "y_pred = clf.predict(X_val_pca)\n",
        "\n",
        "cm = confusion_matrix(y_val_pca, y_pred)\n",
        "print(cm)\n",
        "print('Accuracy' + str(accuracy_score(y_val_pca, y_pred)))"
      ],
      "execution_count": 0,
      "outputs": [
        {
          "output_type": "error",
          "ename": "ValueError",
          "evalue": "ignored",
          "traceback": [
            "\u001b[0;31m---------------------------------------------------------------------------\u001b[0m",
            "\u001b[0;31mValueError\u001b[0m                                Traceback (most recent call last)",
            "\u001b[0;32m<ipython-input-50-3c4ae664fc6b>\u001b[0m in \u001b[0;36m<module>\u001b[0;34m()\u001b[0m\n\u001b[1;32m      2\u001b[0m \u001b[0;32mfrom\u001b[0m \u001b[0msklearn\u001b[0m\u001b[0;34m.\u001b[0m\u001b[0mmetrics\u001b[0m \u001b[0;32mimport\u001b[0m \u001b[0maccuracy_score\u001b[0m\u001b[0;34m\u001b[0m\u001b[0;34m\u001b[0m\u001b[0m\n\u001b[1;32m      3\u001b[0m \u001b[0;34m\u001b[0m\u001b[0m\n\u001b[0;32m----> 4\u001b[0;31m \u001b[0my_pred\u001b[0m \u001b[0;34m=\u001b[0m \u001b[0mclf\u001b[0m\u001b[0;34m.\u001b[0m\u001b[0mpredict\u001b[0m\u001b[0;34m(\u001b[0m\u001b[0mX_val_pca\u001b[0m\u001b[0;34m)\u001b[0m\u001b[0;34m\u001b[0m\u001b[0;34m\u001b[0m\u001b[0m\n\u001b[0m\u001b[1;32m      5\u001b[0m \u001b[0;34m\u001b[0m\u001b[0m\n\u001b[1;32m      6\u001b[0m \u001b[0mcm\u001b[0m \u001b[0;34m=\u001b[0m \u001b[0mconfusion_matrix\u001b[0m\u001b[0;34m(\u001b[0m\u001b[0my_val_pca\u001b[0m\u001b[0;34m,\u001b[0m \u001b[0my_pred\u001b[0m\u001b[0;34m)\u001b[0m\u001b[0;34m\u001b[0m\u001b[0;34m\u001b[0m\u001b[0m\n",
            "\u001b[0;32m/usr/local/lib/python3.6/dist-packages/sklearn/svm/_base.py\u001b[0m in \u001b[0;36mpredict\u001b[0;34m(self, X)\u001b[0m\n\u001b[1;32m    592\u001b[0m             \u001b[0my\u001b[0m \u001b[0;34m=\u001b[0m \u001b[0mnp\u001b[0m\u001b[0;34m.\u001b[0m\u001b[0margmax\u001b[0m\u001b[0;34m(\u001b[0m\u001b[0mself\u001b[0m\u001b[0;34m.\u001b[0m\u001b[0mdecision_function\u001b[0m\u001b[0;34m(\u001b[0m\u001b[0mX\u001b[0m\u001b[0;34m)\u001b[0m\u001b[0;34m,\u001b[0m \u001b[0maxis\u001b[0m\u001b[0;34m=\u001b[0m\u001b[0;36m1\u001b[0m\u001b[0;34m)\u001b[0m\u001b[0;34m\u001b[0m\u001b[0;34m\u001b[0m\u001b[0m\n\u001b[1;32m    593\u001b[0m         \u001b[0;32melse\u001b[0m\u001b[0;34m:\u001b[0m\u001b[0;34m\u001b[0m\u001b[0;34m\u001b[0m\u001b[0m\n\u001b[0;32m--> 594\u001b[0;31m             \u001b[0my\u001b[0m \u001b[0;34m=\u001b[0m \u001b[0msuper\u001b[0m\u001b[0;34m(\u001b[0m\u001b[0;34m)\u001b[0m\u001b[0;34m.\u001b[0m\u001b[0mpredict\u001b[0m\u001b[0;34m(\u001b[0m\u001b[0mX\u001b[0m\u001b[0;34m)\u001b[0m\u001b[0;34m\u001b[0m\u001b[0;34m\u001b[0m\u001b[0m\n\u001b[0m\u001b[1;32m    595\u001b[0m         \u001b[0;32mreturn\u001b[0m \u001b[0mself\u001b[0m\u001b[0;34m.\u001b[0m\u001b[0mclasses_\u001b[0m\u001b[0;34m.\u001b[0m\u001b[0mtake\u001b[0m\u001b[0;34m(\u001b[0m\u001b[0mnp\u001b[0m\u001b[0;34m.\u001b[0m\u001b[0masarray\u001b[0m\u001b[0;34m(\u001b[0m\u001b[0my\u001b[0m\u001b[0;34m,\u001b[0m \u001b[0mdtype\u001b[0m\u001b[0;34m=\u001b[0m\u001b[0mnp\u001b[0m\u001b[0;34m.\u001b[0m\u001b[0mintp\u001b[0m\u001b[0;34m)\u001b[0m\u001b[0;34m)\u001b[0m\u001b[0;34m\u001b[0m\u001b[0;34m\u001b[0m\u001b[0m\n\u001b[1;32m    596\u001b[0m \u001b[0;34m\u001b[0m\u001b[0m\n",
            "\u001b[0;32m/usr/local/lib/python3.6/dist-packages/sklearn/svm/_base.py\u001b[0m in \u001b[0;36mpredict\u001b[0;34m(self, X)\u001b[0m\n\u001b[1;32m    313\u001b[0m         \u001b[0my_pred\u001b[0m \u001b[0;34m:\u001b[0m \u001b[0marray\u001b[0m\u001b[0;34m,\u001b[0m \u001b[0mshape\u001b[0m \u001b[0;34m(\u001b[0m\u001b[0mn_samples\u001b[0m\u001b[0;34m,\u001b[0m\u001b[0;34m)\u001b[0m\u001b[0;34m\u001b[0m\u001b[0;34m\u001b[0m\u001b[0m\n\u001b[1;32m    314\u001b[0m         \"\"\"\n\u001b[0;32m--> 315\u001b[0;31m         \u001b[0mX\u001b[0m \u001b[0;34m=\u001b[0m \u001b[0mself\u001b[0m\u001b[0;34m.\u001b[0m\u001b[0m_validate_for_predict\u001b[0m\u001b[0;34m(\u001b[0m\u001b[0mX\u001b[0m\u001b[0;34m)\u001b[0m\u001b[0;34m\u001b[0m\u001b[0;34m\u001b[0m\u001b[0m\n\u001b[0m\u001b[1;32m    316\u001b[0m         \u001b[0mpredict\u001b[0m \u001b[0;34m=\u001b[0m \u001b[0mself\u001b[0m\u001b[0;34m.\u001b[0m\u001b[0m_sparse_predict\u001b[0m \u001b[0;32mif\u001b[0m \u001b[0mself\u001b[0m\u001b[0;34m.\u001b[0m\u001b[0m_sparse\u001b[0m \u001b[0;32melse\u001b[0m \u001b[0mself\u001b[0m\u001b[0;34m.\u001b[0m\u001b[0m_dense_predict\u001b[0m\u001b[0;34m\u001b[0m\u001b[0;34m\u001b[0m\u001b[0m\n\u001b[1;32m    317\u001b[0m         \u001b[0;32mreturn\u001b[0m \u001b[0mpredict\u001b[0m\u001b[0;34m(\u001b[0m\u001b[0mX\u001b[0m\u001b[0;34m)\u001b[0m\u001b[0;34m\u001b[0m\u001b[0;34m\u001b[0m\u001b[0m\n",
            "\u001b[0;32m/usr/local/lib/python3.6/dist-packages/sklearn/svm/_base.py\u001b[0m in \u001b[0;36m_validate_for_predict\u001b[0;34m(self, X)\u001b[0m\n\u001b[1;32m    465\u001b[0m             raise ValueError(\"X.shape[1] = %d should be equal to %d, \"\n\u001b[1;32m    466\u001b[0m                              \u001b[0;34m\"the number of features at training time\"\u001b[0m \u001b[0;34m%\u001b[0m\u001b[0;34m\u001b[0m\u001b[0;34m\u001b[0m\u001b[0m\n\u001b[0;32m--> 467\u001b[0;31m                              (n_features, self.shape_fit_[1]))\n\u001b[0m\u001b[1;32m    468\u001b[0m         \u001b[0;32mreturn\u001b[0m \u001b[0mX\u001b[0m\u001b[0;34m\u001b[0m\u001b[0;34m\u001b[0m\u001b[0m\n\u001b[1;32m    469\u001b[0m \u001b[0;34m\u001b[0m\u001b[0m\n",
            "\u001b[0;31mValueError\u001b[0m: X.shape[1] = 9 should be equal to 2, the number of features at training time"
          ]
        }
      ]
    },
    {
      "cell_type": "markdown",
      "metadata": {
        "id": "OHYXyjcw1XAB",
        "colab_type": "text"
      },
      "source": [
        "###LDA"
      ]
    },
    {
      "cell_type": "code",
      "metadata": {
        "id": "VWQif7GBiCab",
        "colab_type": "code",
        "outputId": "fe84936a-82e5-4740-a9de-a75013ea9dd4",
        "colab": {
          "base_uri": "https://localhost:8080/",
          "height": 86
        }
      },
      "source": [
        "clf.fit(X_train_lda, y_train_lda)"
      ],
      "execution_count": 0,
      "outputs": [
        {
          "output_type": "execute_result",
          "data": {
            "text/plain": [
              "SVC(C=1.0, break_ties=False, cache_size=200, class_weight=None, coef0=0.0,\n",
              "    decision_function_shape='ovr', degree=3, gamma='auto', kernel='rbf',\n",
              "    max_iter=-1, probability=False, random_state=None, shrinking=True,\n",
              "    tol=0.001, verbose=False)"
            ]
          },
          "metadata": {
            "tags": []
          },
          "execution_count": 54
        }
      ]
    },
    {
      "cell_type": "code",
      "metadata": {
        "id": "mDES5A_Bifq6",
        "colab_type": "code",
        "outputId": "8756d893-296d-49e9-a050-eb22d843e51e",
        "colab": {
          "base_uri": "https://localhost:8080/",
          "height": 34
        }
      },
      "source": [
        "clf.score(X_val_lda, y_val_lda)"
      ],
      "execution_count": 0,
      "outputs": [
        {
          "output_type": "execute_result",
          "data": {
            "text/plain": [
              "0.95"
            ]
          },
          "metadata": {
            "tags": []
          },
          "execution_count": 55
        }
      ]
    },
    {
      "cell_type": "code",
      "metadata": {
        "id": "pL5SXSIsi-rD",
        "colab_type": "code",
        "outputId": "de220f40-c5bf-4911-8b02-cd05641463bf",
        "colab": {
          "base_uri": "https://localhost:8080/",
          "height": 34
        }
      },
      "source": [
        "clf.score(test_data_stand_lda, test_labels)"
      ],
      "execution_count": 0,
      "outputs": [
        {
          "output_type": "execute_result",
          "data": {
            "text/plain": [
              "0.29411764705882354"
            ]
          },
          "metadata": {
            "tags": []
          },
          "execution_count": 75
        }
      ]
    },
    {
      "cell_type": "code",
      "metadata": {
        "colab_type": "code",
        "outputId": "d88b6378-30e7-4f86-a725-2c2be85382ad",
        "id": "8yenyFMkxDmx",
        "colab": {
          "base_uri": "https://localhost:8080/",
          "height": 260
        }
      },
      "source": [
        "y_pred"
      ],
      "execution_count": 0,
      "outputs": [
        {
          "output_type": "execute_result",
          "data": {
            "text/plain": [
              "array(['large cell', 'squamous cell carcinoma', 'adenocarcinoma',\n",
              "       'squamous cell carcinoma', 'squamous cell carcinoma',\n",
              "       'squamous cell carcinoma', 'large cell', 'squamous cell carcinoma',\n",
              "       'large cell', 'large cell', 'squamous cell carcinoma',\n",
              "       'squamous cell carcinoma', 'squamous cell carcinoma', 'large cell',\n",
              "       'large cell', 'large cell', 'squamous cell carcinoma',\n",
              "       'adenocarcinoma', 'squamous cell carcinoma', 'adenocarcinoma',\n",
              "       'adenocarcinoma', 'squamous cell carcinoma',\n",
              "       'squamous cell carcinoma', 'large cell', 'squamous cell carcinoma',\n",
              "       'large cell', 'large cell', 'large cell',\n",
              "       'squamous cell carcinoma', 'large cell', 'squamous cell carcinoma',\n",
              "       'large cell', 'large cell', 'large cell',\n",
              "       'squamous cell carcinoma', 'large cell', 'large cell',\n",
              "       'large cell', 'large cell', 'large cell'], dtype=object)"
            ]
          },
          "metadata": {
            "tags": []
          },
          "execution_count": 59
        }
      ]
    },
    {
      "cell_type": "code",
      "metadata": {
        "id": "Xxe0s9EjBtUf",
        "colab_type": "code",
        "outputId": "563d430a-5781-4009-d63f-432b6a79ca89",
        "colab": {
          "base_uri": "https://localhost:8080/",
          "height": 86
        }
      },
      "source": [
        "from sklearn.metrics import confusion_matrix\n",
        "from sklearn.metrics import accuracy_score\n",
        "\n",
        "y_pred = clf.predict(X_val_lda)\n",
        "\n",
        "cm = confusion_matrix(y_val_lda, y_pred)\n",
        "print(cm)\n",
        "print('Accuracy' + str(accuracy_score(y_val_lda, y_pred)))"
      ],
      "execution_count": 0,
      "outputs": [
        {
          "output_type": "stream",
          "text": [
            "[[ 4  0  1]\n",
            " [ 0 19  0]\n",
            " [ 0  1 15]]\n",
            "Accuracy0.95\n"
          ],
          "name": "stdout"
        }
      ]
    },
    {
      "cell_type": "code",
      "metadata": {
        "id": "tPoCvM4AttY-",
        "colab_type": "code",
        "outputId": "dc2a707f-ad95-4ead-e056-64ae5b20d265",
        "colab": {
          "base_uri": "https://localhost:8080/",
          "height": 406
        }
      },
      "source": [
        "#matrice di confusione\n",
        "\n",
        "\n",
        "fig, ax = plt.subplots(figsize=(2.5, 2.5))\n",
        "ax.matshow(cm, cmap=plt.cm.Blues, alpha=0.3)\n",
        "for i in range(cm.shape[0]):\n",
        "    for j in range(cm.shape[1]):\n",
        "            ax.text(x=j,  y=i, s=cm[i, j],  va='center', ha='center')\n",
        "plt.xlabel('predicted label')\n",
        "plt.ylabel('true label')\n",
        "plt.show()\n"
      ],
      "execution_count": 0,
      "outputs": [
        {
          "output_type": "stream",
          "text": [
            "/usr/local/lib/python3.6/dist-packages/ipykernel_launcher.py:10: UserWarning: Legend does not support 0 instances.\n",
            "A proxy artist may be used instead.\n",
            "See: http://matplotlib.org/users/legend_guide.html#creating-artists-specifically-for-adding-to-the-legend-aka-proxy-artists\n",
            "  # Remove the CWD from sys.path while we load stuff.\n",
            "/usr/local/lib/python3.6/dist-packages/ipykernel_launcher.py:10: UserWarning: Legend does not support 1 instances.\n",
            "A proxy artist may be used instead.\n",
            "See: http://matplotlib.org/users/legend_guide.html#creating-artists-specifically-for-adding-to-the-legend-aka-proxy-artists\n",
            "  # Remove the CWD from sys.path while we load stuff.\n",
            "/usr/local/lib/python3.6/dist-packages/ipykernel_launcher.py:10: UserWarning: Legend does not support 2 instances.\n",
            "A proxy artist may be used instead.\n",
            "See: http://matplotlib.org/users/legend_guide.html#creating-artists-specifically-for-adding-to-the-legend-aka-proxy-artists\n",
            "  # Remove the CWD from sys.path while we load stuff.\n"
          ],
          "name": "stderr"
        },
        {
          "output_type": "display_data",
          "data": {
            "image/png": "[encoded data removed]",
            "text/plain": [
              "<Figure size 180x180 with 1 Axes>"
            ]
          },
          "metadata": {
            "tags": []
          }
        }
      ]
    },
    {
      "cell_type": "code",
      "metadata": {
        "id": "0FVg9VOMt3H1",
        "colab_type": "code",
        "outputId": "a75d8013-b818-42d6-9e09-060d680081be",
        "colab": {
          "base_uri": "https://localhost:8080/",
          "height": 312
        }
      },
      "source": [
        "from sklearn.metrics import plot_confusion_matrix\n",
        "disp = plot_confusion_matrix(clf, X_val_lda, y_val_lda,\n",
        "                                 display_labels=['adenocarcinoma', 'large cell', 'squamous cell carcinoma'],\n",
        "                                 cmap=plt.cm.Blues,\n",
        "                                 normalize=None)\n",
        "disp.ax_.set_title('Confusion matrix public dataset')"
      ],
      "execution_count": 0,
      "outputs": [
        {
          "output_type": "execute_result",
          "data": {
            "text/plain": [
              "Text(0.5, 1.0, 'Confusion matrix public dataset')"
            ]
          },
          "metadata": {
            "tags": []
          },
          "execution_count": 74
        },
        {
          "output_type": "display_data",
          "data": {
            "image/png": "[encoded data removed]",
            "text/plain": [
              "<Figure size 432x288 with 2 Axes>"
            ]
          },
          "metadata": {
            "tags": []
          }
        }
      ]
    },
    {
      "cell_type": "code",
      "metadata": {
        "id": "AKr5uCgvzsYM",
        "colab_type": "code",
        "colab": {}
      },
      "source": [
        ""
      ],
      "execution_count": 0,
      "outputs": []
    }
  ]
}