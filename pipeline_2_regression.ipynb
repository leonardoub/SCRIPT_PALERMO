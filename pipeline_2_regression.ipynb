{
  "nbformat": 4,
  "nbformat_minor": 0,
  "metadata": {
    "colab": {
      "name": "pipeline_2_regression.ipynb",
      "provenance": [],
      "authorship_tag": "ABX9TyMxjqH52y0oi4ylfS6HHAeT",
      "include_colab_link": true
    },
    "kernelspec": {
      "name": "python3",
      "display_name": "Python 3"
    }
  },
  "cells": [
    {
      "cell_type": "markdown",
      "metadata": {
        "id": "view-in-github",
        "colab_type": "text"
      },
      "source": [
        "<a href=\"https://colab.research.google.com/github/leonardoub/SCRIPT_PALERMO/blob/master/pipeline_2_regression.ipynb\" target=\"_parent\"><img src=\"https://colab.research.google.com/assets/colab-badge.svg\" alt=\"Open In Colab\"/></a>"
      ]
    },
    {
      "cell_type": "code",
      "metadata": {
        "id": "kntSJ_ox0NZX",
        "colab_type": "code",
        "colab": {}
      },
      "source": [
        "import random\n",
        "import pandas as pd\n",
        "import numpy as np\n",
        "import matplotlib.pyplot as plt\n",
        "import scipy\n",
        "import seaborn as sns"
      ],
      "execution_count": 0,
      "outputs": []
    },
    {
      "cell_type": "code",
      "metadata": {
        "id": "EV2xS79PaoN5",
        "colab_type": "code",
        "colab": {}
      },
      "source": [
        "from sklearn.decomposition import PCA\n",
        "from sklearn.discriminant_analysis import LinearDiscriminantAnalysis"
      ],
      "execution_count": 0,
      "outputs": []
    },
    {
      "cell_type": "code",
      "metadata": {
        "id": "44VuoLeOOMee",
        "colab_type": "code",
        "colab": {
          "base_uri": "https://localhost:8080/",
          "height": 83
        },
        "outputId": "445ed257-8757-4f7f-af0e-57cda76a6206"
      },
      "source": [
        "# Seed value\n",
        "# Apparently you may use different seed values at each stage\n",
        "seed_value= 0\n",
        "\n",
        "# 1. Set `PYTHONHASHSEED` environment variable at a fixed value\n",
        "import os\n",
        "os.environ['PYTHONHASHSEED']=str(seed_value)\n",
        "\n",
        "# 2. Set `python` built-in pseudo-random generator at a fixed value\n",
        "import random\n",
        "random.seed(seed_value)\n",
        "\n",
        "# 3. Set `numpy` pseudo-random generator at a fixed value\n",
        "import numpy as np\n",
        "np.random.seed(seed_value)\n",
        "\n",
        "# 4. Set `tensorflow` pseudo-random generator at a fixed value\n",
        "import tensorflow as tf\n",
        "tf.set_random_seed(seed_value)\n",
        "\n",
        "# 5. Configure a new global `tensorflow` session\n",
        "from keras import backend as K\n",
        "session_conf = tf.ConfigProto(intra_op_parallelism_threads=1, inter_op_parallelism_threads=1)\n",
        "sess = tf.Session(graph=tf.get_default_graph(), config=session_conf)\n",
        "K.set_session(sess)"
      ],
      "execution_count": 3,
      "outputs": [
        {
          "output_type": "display_data",
          "data": {
            "text/html": [
              "<p style=\"color: red;\">\n",
              "The default version of TensorFlow in Colab will soon switch to TensorFlow 2.x.<br>\n",
              "We recommend you <a href=\"https://www.tensorflow.org/guide/migrate\" target=\"_blank\">upgrade</a> now \n",
              "or ensure your notebook will continue to use TensorFlow 1.x via the <code>%tensorflow_version 1.x</code> magic:\n",
              "<a href=\"https://colab.research.google.com/notebooks/tensorflow_version.ipynb\" target=\"_blank\">more info</a>.</p>\n"
            ],
            "text/plain": [
              "<IPython.core.display.HTML object>"
            ]
          },
          "metadata": {
            "tags": []
          }
        },
        {
          "output_type": "stream",
          "text": [
            "Using TensorFlow backend.\n"
          ],
          "name": "stderr"
        }
      ]
    },
    {
      "cell_type": "markdown",
      "metadata": {
        "id": "_DME-inQ4ke_",
        "colab_type": "text"
      },
      "source": [
        "#Load data"
      ]
    },
    {
      "cell_type": "code",
      "metadata": {
        "id": "7Hq45TSf3WcR",
        "colab_type": "code",
        "outputId": "e5f8c282-bf8b-4718-f6e0-d02aeab4abbf",
        "colab": {
          "base_uri": "https://localhost:8080/",
          "height": 54
        }
      },
      "source": [
        "#load data from Drive\n",
        "from google.colab import drive\n",
        "drive.mount('/gdrive')\n",
        "%cd /gdrive"
      ],
      "execution_count": 4,
      "outputs": [
        {
          "output_type": "stream",
          "text": [
            "Drive already mounted at /gdrive; to attempt to forcibly remount, call drive.mount(\"/gdrive\", force_remount=True).\n",
            "/gdrive\n"
          ],
          "name": "stdout"
        }
      ]
    },
    {
      "cell_type": "code",
      "metadata": {
        "id": "UCkUXesZhMzg",
        "colab_type": "code",
        "colab": {}
      },
      "source": [
        "train_dataset_path = '/gdrive/My Drive/AIM_PA/database_training2.csv'\n",
        "test_dataset_path = '/gdrive/My Drive/AIM_PA/database_nostro_without_nan.csv'"
      ],
      "execution_count": 0,
      "outputs": []
    },
    {
      "cell_type": "code",
      "metadata": {
        "id": "TczPxOpEhTXw",
        "colab_type": "code",
        "colab": {}
      },
      "source": [
        "df_train = pd.read_csv(train_dataset_path)\n",
        "df_test = pd.read_csv(test_dataset_path)"
      ],
      "execution_count": 0,
      "outputs": []
    },
    {
      "cell_type": "code",
      "metadata": {
        "id": "9I5MNxeW3j2G",
        "colab_type": "code",
        "colab": {}
      },
      "source": [
        "df_train.rename(columns={'Survival.time (months)':'Surv_time_months'}, inplace=True)"
      ],
      "execution_count": 0,
      "outputs": []
    },
    {
      "cell_type": "code",
      "metadata": {
        "id": "TLxDyFPo3sU9",
        "colab_type": "code",
        "colab": {}
      },
      "source": [
        "df_test.rename(columns={'Survival.time (months)':'Surv_time_months'}, inplace=True)"
      ],
      "execution_count": 0,
      "outputs": []
    },
    {
      "cell_type": "code",
      "metadata": {
        "id": "oXU_B2k03uYa",
        "colab_type": "code",
        "colab": {}
      },
      "source": [
        "df_train.rename(columns={'Overall.Stage':'Overall_Stage'}, inplace=True)\n",
        "df_test.rename(columns={'Overall.Stage':'Overall_Stage'}, inplace=True)"
      ],
      "execution_count": 0,
      "outputs": []
    },
    {
      "cell_type": "code",
      "metadata": {
        "id": "T1YCrOMP3_4q",
        "colab_type": "code",
        "colab": {}
      },
      "source": [
        "public_data = df_train.drop(['Histology', 'Surv_time_months', 'OS', 'deadstatus.event','Overall_Stage'], axis=1)"
      ],
      "execution_count": 0,
      "outputs": []
    },
    {
      "cell_type": "code",
      "metadata": {
        "id": "BWj1mwjV4Mzo",
        "colab_type": "code",
        "colab": {}
      },
      "source": [
        "PA_data = df_test.drop(['Histology', 'Surv_time_months', 'OS', 'deadstatus.event','Overall_Stage'], axis=1)"
      ],
      "execution_count": 0,
      "outputs": []
    },
    {
      "cell_type": "code",
      "metadata": {
        "id": "dKdS4Low4PHh",
        "colab_type": "code",
        "colab": {}
      },
      "source": [
        "public_labels = df_train.Surv_time_months"
      ],
      "execution_count": 0,
      "outputs": []
    },
    {
      "cell_type": "code",
      "metadata": {
        "id": "K6EsAdEt4RNP",
        "colab_type": "code",
        "colab": {}
      },
      "source": [
        "PA_labels = df_test.Surv_time_months"
      ],
      "execution_count": 0,
      "outputs": []
    },
    {
      "cell_type": "markdown",
      "metadata": {
        "id": "tqDYyNd6_3s4",
        "colab_type": "text"
      },
      "source": [
        "#Train Test Split"
      ]
    },
    {
      "cell_type": "code",
      "metadata": {
        "id": "_7I8R-jd_3Hd",
        "colab_type": "code",
        "colab": {}
      },
      "source": [
        "from sklearn.model_selection import train_test_split"
      ],
      "execution_count": 0,
      "outputs": []
    },
    {
      "cell_type": "code",
      "metadata": {
        "id": "_bnO8hgZ__GF",
        "colab_type": "code",
        "colab": {}
      },
      "source": [
        "X_train, X_test, y_train, y_test = train_test_split(public_data, public_labels, test_size=0.3, random_state=1)"
      ],
      "execution_count": 0,
      "outputs": []
    },
    {
      "cell_type": "markdown",
      "metadata": {
        "id": "_zHrG0WEvB5Q",
        "colab_type": "text"
      },
      "source": [
        "#Scalers"
      ]
    },
    {
      "cell_type": "code",
      "metadata": {
        "id": "iHHkX4RevNaW",
        "colab_type": "code",
        "colab": {}
      },
      "source": [
        "from sklearn.preprocessing import StandardScaler, RobustScaler, QuantileTransformer"
      ],
      "execution_count": 0,
      "outputs": []
    },
    {
      "cell_type": "code",
      "metadata": {
        "id": "4B09pBvIvGB5",
        "colab_type": "code",
        "colab": {}
      },
      "source": [
        "scalers_to_test = [StandardScaler(), RobustScaler()]"
      ],
      "execution_count": 0,
      "outputs": []
    },
    {
      "cell_type": "markdown",
      "metadata": {
        "id": "fR-1XYGrOjT9",
        "colab_type": "text"
      },
      "source": [
        "#LinearRegression"
      ]
    },
    {
      "cell_type": "code",
      "metadata": {
        "id": "ShIzMzOfOeBR",
        "colab_type": "code",
        "colab": {}
      },
      "source": [
        "from sklearn.linear_model import LinearRegression\n",
        "\n",
        "steps = [('scaler', StandardScaler()), ('red_dim', LinearDiscriminantAnalysis()), ('reg', LinearRegression(normalize=False))]\n",
        "\n",
        "from sklearn.pipeline import Pipeline\n",
        "pipeline = Pipeline(steps)\n",
        "\n",
        "from sklearn.model_selection import GridSearchCV\n",
        "\n",
        "n_features_to_test = np.arange(1, 11)\n",
        "\n",
        "parameteres = [{'scaler':scalers_to_test, 'red_dim':[LinearDiscriminantAnalysis()], 'red_dim__n_components':[2], 'reg__fit_intercept':[True, False]},\n",
        "               {'scaler':scalers_to_test, 'red_dim':[PCA()], 'red_dim__n_components':n_features_to_test, 'reg__fit_intercept':[True, False]}]\n"
      ],
      "execution_count": 0,
      "outputs": []
    },
    {
      "cell_type": "code",
      "metadata": {
        "id": "SP23PToWabuG",
        "colab_type": "code",
        "colab": {}
      },
      "source": [
        "grid = GridSearchCV(pipeline, param_grid=parameteres, scoring='neg_mean_absolute_error', cv=5, verbose=1) #è disponibile l'opposto del mean absolute error"
      ],
      "execution_count": 0,
      "outputs": []
    },
    {
      "cell_type": "code",
      "metadata": {
        "id": "t88ByIW0bN83",
        "colab_type": "code",
        "colab": {
          "base_uri": "https://localhost:8080/",
          "height": 605
        },
        "outputId": "f53e584f-5020-45bc-ed5d-5a1654d811fc"
      },
      "source": [
        "grid.fit(X_train, y_train)"
      ],
      "execution_count": 40,
      "outputs": [
        {
          "output_type": "stream",
          "text": [
            "Fitting 5 folds for each of 44 candidates, totalling 220 fits\n"
          ],
          "name": "stdout"
        },
        {
          "output_type": "stream",
          "text": [
            "[Parallel(n_jobs=1)]: Using backend SequentialBackend with 1 concurrent workers.\n",
            "[Parallel(n_jobs=1)]: Done 220 out of 220 | elapsed:    4.5s finished\n"
          ],
          "name": "stderr"
        },
        {
          "output_type": "execute_result",
          "data": {
            "text/plain": [
              "GridSearchCV(cv=5, error_score=nan,\n",
              "             estimator=Pipeline(memory=None,\n",
              "                                steps=[('scaler',\n",
              "                                        StandardScaler(copy=True,\n",
              "                                                       with_mean=True,\n",
              "                                                       with_std=True)),\n",
              "                                       ('red_dim',\n",
              "                                        LinearDiscriminantAnalysis(n_components=None,\n",
              "                                                                   priors=None,\n",
              "                                                                   shrinkage=None,\n",
              "                                                                   solver='svd',\n",
              "                                                                   store_covariance=False,\n",
              "                                                                   tol=0.0001)),\n",
              "                                       ('reg',\n",
              "                                        LinearRegression(copy_X=True,\n",
              "                                                         fit_intercept=True,\n",
              "                                                         n_jobs=None,\n",
              "                                                         normalize=Fal...\n",
              "                                          whiten=False)],\n",
              "                          'red_dim__n_components': array([ 1,  2,  3,  4,  5,  6,  7,  8,  9, 10]),\n",
              "                          'reg__fit_intercept': [True, False],\n",
              "                          'scaler': [StandardScaler(copy=True, with_mean=True,\n",
              "                                                    with_std=True),\n",
              "                                     RobustScaler(copy=True,\n",
              "                                                  quantile_range=(25.0, 75.0),\n",
              "                                                  with_centering=True,\n",
              "                                                  with_scaling=True)]}],\n",
              "             pre_dispatch='2*n_jobs', refit=True, return_train_score=False,\n",
              "             scoring='neg_mean_absolute_error', verbose=1)"
            ]
          },
          "metadata": {
            "tags": []
          },
          "execution_count": 40
        }
      ]
    },
    {
      "cell_type": "code",
      "metadata": {
        "id": "2ruLnFN2bRGw",
        "colab_type": "code",
        "colab": {
          "base_uri": "https://localhost:8080/",
          "height": 72
        },
        "outputId": "484950a6-92c7-4c4e-bcc3-8296ddf78f88"
      },
      "source": [
        "print(f'score = {grid.score(X_test, y_test)}')\n",
        "print(grid.best_params_)"
      ],
      "execution_count": 30,
      "outputs": [
        {
          "output_type": "stream",
          "text": [
            "score = -12.701529716293098\n",
            "{'red_dim': PCA(copy=True, iterated_power='auto', n_components=2, random_state=None,\n",
            "    svd_solver='auto', tol=0.0, whiten=False), 'red_dim__n_components': 2, 'reg__fit_intercept': True, 'scaler': StandardScaler(copy=True, with_mean=True, with_std=True)}\n"
          ],
          "name": "stdout"
        }
      ]
    },
    {
      "cell_type": "markdown",
      "metadata": {
        "id": "zt-MApR3mC_M",
        "colab_type": "text"
      },
      "source": [
        "#RandomForestRegressor\n"
      ]
    },
    {
      "cell_type": "code",
      "metadata": {
        "id": "Xwbk2xw4bV34",
        "colab_type": "code",
        "colab": {
          "base_uri": "https://localhost:8080/",
          "height": 586
        },
        "outputId": "ff3cf9c8-ad02-40cb-fc41-68ec14ef7b67"
      },
      "source": [
        "from sklearn.ensemble import RandomForestRegressor\n",
        "\n",
        "steps = [('scaler', StandardScaler()), ('red_dim', LinearDiscriminantAnalysis()), ('reg', RandomForestRegressor(random_state=0))]\n",
        "\n",
        "from sklearn.pipeline import Pipeline\n",
        "pipeline = Pipeline(steps)\n",
        "\n",
        "from sklearn.model_selection import GridSearchCV\n",
        "\n",
        "n_features_to_test = np.arange(1, 11)\n",
        "n_tree = np.arange(10, 120, 10)\n",
        "\n",
        "parameteres = [{'scaler':scalers_to_test, 'red_dim':[LinearDiscriminantAnalysis()], 'red_dim__n_components':[2], 'reg__n_estimators':n_tree, 'reg__criterion':['mse', 'mae']},\n",
        "               {'scaler':scalers_to_test, 'red_dim':[PCA()], 'red_dim__n_components':n_features_to_test, 'reg__n_estimators':n_tree, 'reg__criterion':['mse', 'mae']}]\n",
        "\n",
        "grid_GS = GridSearchCV(pipeline, param_grid=parameteres, scoring='neg_mean_absolute_error', cv=5, verbose=1) #è disponibile l'opposto del mean absolute error\n",
        "grid_GS.fit(X_train, y_train)\n"
      ],
      "execution_count": 43,
      "outputs": [
        {
          "output_type": "stream",
          "text": [
            "Fitting 5 folds for each of 484 candidates, totalling 2420 fits\n"
          ],
          "name": "stdout"
        },
        {
          "output_type": "stream",
          "text": [
            "[Parallel(n_jobs=1)]: Using backend SequentialBackend with 1 concurrent workers.\n",
            "[Parallel(n_jobs=1)]: Done 2420 out of 2420 | elapsed:  5.8min finished\n"
          ],
          "name": "stderr"
        },
        {
          "output_type": "execute_result",
          "data": {
            "text/plain": [
              "GridSearchCV(cv=5, error_score=nan,\n",
              "             estimator=Pipeline(memory=None,\n",
              "                                steps=[('scaler',\n",
              "                                        StandardScaler(copy=True,\n",
              "                                                       with_mean=True,\n",
              "                                                       with_std=True)),\n",
              "                                       ('red_dim',\n",
              "                                        LinearDiscriminantAnalysis(n_components=None,\n",
              "                                                                   priors=None,\n",
              "                                                                   shrinkage=None,\n",
              "                                                                   solver='svd',\n",
              "                                                                   store_covariance=False,\n",
              "                                                                   tol=0.0001)),\n",
              "                                       ('reg',\n",
              "                                        RandomForestRegressor(bootstrap=True,\n",
              "                                                              ccp_alpha=0.0,\n",
              "                                                              criterion='mse',\n",
              "                                                              max_de...\n",
              "                          'reg__criterion': ['mse', 'mae'],\n",
              "                          'reg__n_estimators': array([ 10,  20,  30,  40,  50,  60,  70,  80,  90, 100, 110]),\n",
              "                          'scaler': [StandardScaler(copy=True, with_mean=True,\n",
              "                                                    with_std=True),\n",
              "                                     RobustScaler(copy=True,\n",
              "                                                  quantile_range=(25.0, 75.0),\n",
              "                                                  with_centering=True,\n",
              "                                                  with_scaling=True)]}],\n",
              "             pre_dispatch='2*n_jobs', refit=True, return_train_score=False,\n",
              "             scoring='neg_mean_absolute_error', verbose=1)"
            ]
          },
          "metadata": {
            "tags": []
          },
          "execution_count": 43
        }
      ]
    },
    {
      "cell_type": "code",
      "metadata": {
        "id": "qGUF56CJmn4r",
        "colab_type": "code",
        "colab": {
          "base_uri": "https://localhost:8080/",
          "height": 72
        },
        "outputId": "74d21d43-8122-414d-f840-4c3f43ef1c11"
      },
      "source": [
        "print(f'score = {grid_GS.score(X_test, y_test)}')\n",
        "print(grid_GS.best_params_)"
      ],
      "execution_count": 44,
      "outputs": [
        {
          "output_type": "stream",
          "text": [
            "score = -11.992500000000001\n",
            "{'red_dim': PCA(copy=True, iterated_power='auto', n_components=5, random_state=None,\n",
            "    svd_solver='auto', tol=0.0, whiten=False), 'red_dim__n_components': 5, 'reg__criterion': 'mae', 'reg__n_estimators': 10, 'scaler': StandardScaler(copy=True, with_mean=True, with_std=True)}\n"
          ],
          "name": "stdout"
        }
      ]
    },
    {
      "cell_type": "code",
      "metadata": {
        "id": "phuy7x2bqgeh",
        "colab_type": "code",
        "colab": {
          "base_uri": "https://localhost:8080/",
          "height": 623
        },
        "outputId": "cc95c4e7-43ef-4ee1-cc09-b6269407b3e7"
      },
      "source": [
        "from sklearn.model_selection import RandomizedSearchCV\n",
        "grid_RS = RandomizedSearchCV(pipeline, param_distributions=parameteres, scoring='neg_mean_absolute_error', n_iter=30, cv=5, verbose=1)\n",
        "grid_RS.fit(X_train, y_train)"
      ],
      "execution_count": 47,
      "outputs": [
        {
          "output_type": "stream",
          "text": [
            "Fitting 5 folds for each of 30 candidates, totalling 150 fits\n"
          ],
          "name": "stdout"
        },
        {
          "output_type": "stream",
          "text": [
            "[Parallel(n_jobs=1)]: Using backend SequentialBackend with 1 concurrent workers.\n",
            "[Parallel(n_jobs=1)]: Done 150 out of 150 | elapsed:   21.1s finished\n"
          ],
          "name": "stderr"
        },
        {
          "output_type": "execute_result",
          "data": {
            "text/plain": [
              "RandomizedSearchCV(cv=5, error_score=nan,\n",
              "                   estimator=Pipeline(memory=None,\n",
              "                                      steps=[('scaler',\n",
              "                                              StandardScaler(copy=True,\n",
              "                                                             with_mean=True,\n",
              "                                                             with_std=True)),\n",
              "                                             ('red_dim',\n",
              "                                              LinearDiscriminantAnalysis(n_components=None,\n",
              "                                                                         priors=None,\n",
              "                                                                         shrinkage=None,\n",
              "                                                                         solver='svd',\n",
              "                                                                         store_covariance=False,\n",
              "                                                                         tol=0.0001)),\n",
              "                                             ('reg',\n",
              "                                              RandomForestRegressor(bootstrap=True,\n",
              "                                                                    ccp_alpha=0.0,\n",
              "                                                                    criterion='mse',...\n",
              "                                         'reg__criterion': ['mse', 'mae'],\n",
              "                                         'reg__n_estimators': array([ 10,  20,  30,  40,  50,  60,  70,  80,  90, 100, 110]),\n",
              "                                         'scaler': [StandardScaler(copy=True,\n",
              "                                                                   with_mean=True,\n",
              "                                                                   with_std=True),\n",
              "                                                    RobustScaler(copy=True,\n",
              "                                                                 quantile_range=(25.0,\n",
              "                                                                                 75.0),\n",
              "                                                                 with_centering=True,\n",
              "                                                                 with_scaling=True)]}],\n",
              "                   pre_dispatch='2*n_jobs', random_state=None, refit=True,\n",
              "                   return_train_score=False, scoring='neg_mean_absolute_error',\n",
              "                   verbose=1)"
            ]
          },
          "metadata": {
            "tags": []
          },
          "execution_count": 47
        }
      ]
    },
    {
      "cell_type": "code",
      "metadata": {
        "id": "qd8p2sn0qqmS",
        "colab_type": "code",
        "colab": {
          "base_uri": "https://localhost:8080/",
          "height": 92
        },
        "outputId": "88aa00e5-26c7-49d9-b93f-ea44ab4e8f9d"
      },
      "source": [
        "print(f'score = {grid_RS.score(X_test, y_test)}')\n",
        "print(grid_RS.best_params_)"
      ],
      "execution_count": 48,
      "outputs": [
        {
          "output_type": "stream",
          "text": [
            "score = -12.614375\n",
            "{'scaler': StandardScaler(copy=True, with_mean=True, with_std=True), 'reg__n_estimators': 40, 'reg__criterion': 'mae', 'red_dim__n_components': 5, 'red_dim': PCA(copy=True, iterated_power='auto', n_components=5, random_state=None,\n",
            "    svd_solver='auto', tol=0.0, whiten=False)}\n"
          ],
          "name": "stdout"
        }
      ]
    },
    {
      "cell_type": "markdown",
      "metadata": {
        "id": "OIWB70o9qFTo",
        "colab_type": "text"
      },
      "source": [
        "#SVR"
      ]
    },
    {
      "cell_type": "code",
      "metadata": {
        "id": "do7PDRRSqAow",
        "colab_type": "code",
        "colab": {
          "base_uri": "https://localhost:8080/",
          "height": 54
        },
        "outputId": "53df84b5-ec8e-4d7d-dc93-a3b157c7080a"
      },
      "source": [
        "from sklearn.svm import SVR\n",
        "\n",
        "steps = [('scaler', StandardScaler()), ('red_dim', LinearDiscriminantAnalysis()), ('reg', SVR())]\n",
        "\n",
        "from sklearn.pipeline import Pipeline\n",
        "pipeline = Pipeline(steps)\n",
        "\n",
        "from sklearn.model_selection import GridSearchCV\n",
        "\n",
        "n_features_to_test = np.arange(1, 11)\n",
        "\n",
        "parameteres = [{'scaler':scalers_to_test, 'red_dim':[LinearDiscriminantAnalysis()], 'red_dim__n_components':[2], 'reg__C':[0.001,0.1,10], 'reg__kernel':['linear', 'rbf', 'sigmoid'], 'reg__gamma':[0.1,0.01]},\n",
        "               {'scaler':scalers_to_test, 'red_dim':[PCA()], 'red_dim__n_components':n_features_to_test,'reg__C':[0.001,0.1,10], 'reg__kernel':['poly'], 'reg__degree':[1,2,3,4], 'reg__gamma':[0.1,0.01]}]\n",
        "\n",
        "grid_GS = GridSearchCV(pipeline, param_grid=parameteres, scoring='neg_mean_absolute_error', cv=5, verbose=1) #è disponibile l'opposto del mean absolute error\n",
        "grid_GS.fit(X_train, y_train)\n"
      ],
      "execution_count": 0,
      "outputs": [
        {
          "output_type": "stream",
          "text": [
            "Fitting 5 folds for each of 516 candidates, totalling 2580 fits\n"
          ],
          "name": "stdout"
        },
        {
          "output_type": "stream",
          "text": [
            "[Parallel(n_jobs=1)]: Using backend SequentialBackend with 1 concurrent workers.\n"
          ],
          "name": "stderr"
        }
      ]
    },
    {
      "cell_type": "code",
      "metadata": {
        "id": "8_w2SvH-tVLR",
        "colab_type": "code",
        "colab": {}
      },
      "source": [
        "print(f'score = {grid_GS.score(X_test, y_test)}')\n",
        "print(grid_GS.best_params_)"
      ],
      "execution_count": 0,
      "outputs": []
    },
    {
      "cell_type": "code",
      "metadata": {
        "id": "fFFbkYrxs1sM",
        "colab_type": "code",
        "colab": {
          "base_uri": "https://localhost:8080/",
          "height": 54
        },
        "outputId": "99a4c24b-08da-4249-f000-5169ebc580dc"
      },
      "source": [
        "from sklearn.svm import SVR\n",
        "\n",
        "steps = [('scaler', StandardScaler()), ('red_dim', LinearDiscriminantAnalysis()), ('reg', SVR())]\n",
        "\n",
        "from sklearn.pipeline import Pipeline\n",
        "pipeline = Pipeline(steps)\n",
        "\n",
        "from sklearn.model_selection import RandomizedSearchCV\n",
        "\n",
        "n_features_to_test = np.arange(1, 11)\n",
        "\n",
        "parameteres = [{'scaler':scalers_to_test, 'red_dim':[LinearDiscriminantAnalysis()], 'red_dim__n_components':[2], 'reg__C':[0.001,0.1,10], 'reg__kernel':['linear', 'rbf', 'sigmoid'], 'reg__gamma':[0.1,0.01]},\n",
        "               {'scaler':scalers_to_test, 'red_dim':[PCA()], 'red_dim__n_components':n_features_to_test,'reg__C':[0.001,0.1,10], 'reg__kernel':['poly'], 'reg__degree':[1,2,3,4], 'reg__gamma':[0.1,0.01]}]\n",
        "\n",
        "grid_RS = RandomizedSearchCV(pipeline, param_distributions=parameteres, scoring='neg_mean_absolute_error', n_iter=30, cv=5, verbose=1)\n",
        "grid_RS.fit(X_train, y_train)"
      ],
      "execution_count": 0,
      "outputs": [
        {
          "output_type": "stream",
          "text": [
            "Fitting 5 folds for each of 30 candidates, totalling 150 fits\n"
          ],
          "name": "stdout"
        },
        {
          "output_type": "stream",
          "text": [
            "[Parallel(n_jobs=1)]: Using backend SequentialBackend with 1 concurrent workers.\n"
          ],
          "name": "stderr"
        }
      ]
    },
    {
      "cell_type": "code",
      "metadata": {
        "id": "US27igPdteIP",
        "colab_type": "code",
        "colab": {}
      },
      "source": [
        "print(f'score = {grid_RS.score(X_test, y_test)}')\n",
        "print(grid_RS.best_params_)"
      ],
      "execution_count": 0,
      "outputs": []
    }
  ]
}